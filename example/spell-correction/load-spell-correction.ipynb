{
 "cells": [
  {
   "cell_type": "code",
   "execution_count": 1,
   "metadata": {},
   "outputs": [],
   "source": [
    "import malaya"
   ]
  },
  {
   "cell_type": "markdown",
   "metadata": {},
   "source": [
    "## Load naive speller"
   ]
  },
  {
   "cell_type": "code",
   "execution_count": 2,
   "metadata": {},
   "outputs": [],
   "source": [
    "malays = malaya.load_malay_dictionary()\n",
    "corrector = malaya.naive_speller(malays)"
   ]
  },
  {
   "cell_type": "code",
   "execution_count": 3,
   "metadata": {},
   "outputs": [
    {
     "name": "stdout",
     "output_type": "stream",
     "text": [
      "[(('mini', False), 50), (('makan', False), 67), (('mana', False), 50), (('min', False), 57), (('makna', False), 67), (('makin', False), 67), (('menu', False), 50), (('maun', False), 50), (('mani', False), 50), (('main', False), 50), (('mena', False), 50), (('makanan', False), 73)] \n",
      "\n"
     ]
    },
    {
     "data": {
      "text/plain": [
       "'makanan'"
      ]
     },
     "execution_count": 3,
     "metadata": {},
     "output_type": "execute_result"
    }
   ],
   "source": [
    "corrector.correct('mknn')"
   ]
  },
  {
   "cell_type": "markdown",
   "metadata": {},
   "source": [
    "#### List similar words"
   ]
  },
  {
   "cell_type": "code",
   "execution_count": 4,
   "metadata": {},
   "outputs": [
    {
     "name": "stdout",
     "output_type": "stream",
     "text": [
      "[(('tumpat', True), 91), (('tepat', False), 80), (('tempat', False), 91)] \n",
      "\n"
     ]
    },
    {
     "data": {
      "text/plain": [
       "'tempat'"
      ]
     },
     "execution_count": 4,
     "metadata": {},
     "output_type": "execute_result"
    }
   ],
   "source": [
    "corrector.correct('tmpat',debug=True)"
   ]
  },
  {
   "cell_type": "markdown",
   "metadata": {},
   "source": [
    "#### Only pool based on first character"
   ]
  },
  {
   "cell_type": "code",
   "execution_count": 5,
   "metadata": {},
   "outputs": [
    {
     "name": "stdout",
     "output_type": "stream",
     "text": [
      "[(('mini', False), 50), (('makan', False), 67), (('mana', False), 50), (('min', False), 57), (('makna', False), 67), (('makin', False), 67), (('menu', False), 50), (('maun', False), 50), (('mani', False), 50), (('main', False), 50), (('mena', False), 50), (('makanan', False), 73)] \n",
      "\n",
      "CPU times: user 272 ms, sys: 2.83 ms, total: 274 ms\n",
      "Wall time: 292 ms\n"
     ]
    },
    {
     "data": {
      "text/plain": [
       "'makanan'"
      ]
     },
     "execution_count": 5,
     "metadata": {},
     "output_type": "execute_result"
    }
   ],
   "source": [
    "%%time\n",
    "corrector.correct('mknn',first_char=True)"
   ]
  },
  {
   "cell_type": "markdown",
   "metadata": {},
   "source": [
    "#### Pool on no condition"
   ]
  },
  {
   "cell_type": "code",
   "execution_count": 6,
   "metadata": {},
   "outputs": [
    {
     "name": "stdout",
     "output_type": "stream",
     "text": [
      "[(('mini', False), 50), (('kon', False), 57), (('makan', False), 67), (('ikan', False), 50), (('mana', False), 50), (('min', False), 57), (('makna', False), 67), (('kun', False), 57), (('makin', False), 67), (('menu', False), 50), (('akan', False), 50), (('mani', False), 50), (('main', False), 50), (('mena', False), 50), (('ikon', False), 50), (('kan', False), 57), (('ken', False), 57), (('makanan', False), 73), (('maun', False), 50)] \n",
      "\n",
      "CPU times: user 407 ms, sys: 3.95 ms, total: 411 ms\n",
      "Wall time: 417 ms\n"
     ]
    },
    {
     "data": {
      "text/plain": [
       "'makanan'"
      ]
     },
     "execution_count": 6,
     "metadata": {},
     "output_type": "execute_result"
    }
   ],
   "source": [
    "%%time\n",
    "corrector.correct('mknn',first_char=False)"
   ]
  },
  {
   "cell_type": "code",
   "execution_count": 7,
   "metadata": {},
   "outputs": [
    {
     "name": "stdout",
     "output_type": "stream",
     "text": [
      "[(('tempat', False), 100)] \n",
      "\n"
     ]
    },
    {
     "data": {
      "text/plain": [
       "'tempat'"
      ]
     },
     "execution_count": 7,
     "metadata": {},
     "output_type": "execute_result"
    }
   ],
   "source": [
    "corrector.correct('tempat')"
   ]
  }
 ],
 "metadata": {
  "kernelspec": {
   "display_name": "Python 3",
   "language": "python",
   "name": "python3"
  },
  "language_info": {
   "codemirror_mode": {
    "name": "ipython",
    "version": 3
   },
   "file_extension": ".py",
   "mimetype": "text/x-python",
   "name": "python",
   "nbconvert_exporter": "python",
   "pygments_lexer": "ipython3",
   "version": "3.6.5"
  }
 },
 "nbformat": 4,
 "nbformat_minor": 2
}
