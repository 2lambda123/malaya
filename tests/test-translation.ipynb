{
 "cells": [
  {
   "cell_type": "code",
   "execution_count": 1,
   "id": "molecular-vertical",
   "metadata": {},
   "outputs": [],
   "source": [
    "import sys\n",
    "import os\n",
    "\n",
    "SOURCE_DIR = os.path.dirname(os.path.dirname(os.path.abspath(__name__)))\n",
    "sys.path.insert(0, SOURCE_DIR)"
   ]
  },
  {
   "cell_type": "code",
   "execution_count": 3,
   "id": "civil-silence",
   "metadata": {},
   "outputs": [],
   "source": [
    "import malaya\n",
    "import logging\n",
    "\n",
    "logging.basicConfig(level=logging.DEBUG)"
   ]
  },
  {
   "cell_type": "code",
   "execution_count": 4,
   "id": "constant-thesaurus",
   "metadata": {},
   "outputs": [
    {
     "data": {
      "text/plain": [
       "'/Users/huseinzolkepli/Malaya'"
      ]
     },
     "execution_count": 4,
     "metadata": {},
     "output_type": "execute_result"
    }
   ],
   "source": [
    "malaya.__home__"
   ]
  },
  {
   "cell_type": "code",
   "execution_count": 5,
   "id": "binding-mauritius",
   "metadata": {},
   "outputs": [],
   "source": [
    "string_news1 = 'TANGKAK - Tan Sri Muhyiddin Yassin berkata, beliau tidak mahu menyentuh mengenai isu politik buat masa ini, sebaliknya mahu menumpukan kepada soal kebajikan rakyat serta usaha merancakkan semula ekonomi negara yang terjejas berikutan pandemik Covid-19. Perdana Menteri menjelaskan perkara itu ketika berucap pada Majlis Bertemu Pemimpin bersama pemimpin masyarakat Dewan Undangan Negeri (DUN) Gambir di Dewan Serbaguna Bukit Gambir hari ini.'"
   ]
  },
  {
   "cell_type": "code",
   "execution_count": 6,
   "id": "proved-teach",
   "metadata": {},
   "outputs": [
    {
     "name": "stderr",
     "output_type": "stream",
     "text": [
      "INFO:root:tested on 100k MS-EN sentences.\n",
      "DEBUG:urllib3.connectionpool:Starting new HTTPS connection (1): f000.backblazeb2.com:443\n"
     ]
    },
    {
     "name": "stdout",
     "output_type": "stream",
     "text": [
      "small\n"
     ]
    },
    {
     "name": "stderr",
     "output_type": "stream",
     "text": [
      "DEBUG:urllib3.connectionpool:https://f000.backblazeb2.com:443 \"HEAD /file/malaya-model/translation-ms-en/small/model.pb HTTP/1.1\" 200 0\n",
      "DEBUG:urllib3.connectionpool:Starting new HTTPS connection (1): f000.backblazeb2.com:443\n",
      "DEBUG:urllib3.connectionpool:https://f000.backblazeb2.com:443 \"HEAD /file/malaya-model/bpe/ms-en.subwords HTTP/1.1\" 200 0\n",
      "DEBUG:urllib3.connectionpool:Starting new HTTPS connection (1): f000.backblazeb2.com:443\n",
      "DEBUG:urllib3.connectionpool:https://f000.backblazeb2.com:443 \"HEAD /file/malaya-model/translation-ms-en/small/version HTTP/1.1\" 404 0\n",
      "DEBUG:urllib3.connectionpool:Starting new HTTPS connection (1): f000.backblazeb2.com:443\n"
     ]
    },
    {
     "name": "stdout",
     "output_type": "stream",
     "text": [
      "downloading frozen model to /Users/huseinzolkepli/Malaya/translation-ms-en/small/model.pb\n"
     ]
    },
    {
     "name": "stderr",
     "output_type": "stream",
     "text": [
      "DEBUG:urllib3.connectionpool:https://f000.backblazeb2.com:443 \"GET /file/malaya-model/translation-ms-en/small/model.pb HTTP/1.1\" 200 42497693\n",
      "101%|██████████| 41.0/40.5 [00:06<00:00, 6.58MB/s]\n",
      "DEBUG:urllib3.connectionpool:Starting new HTTPS connection (1): f000.backblazeb2.com:443\n"
     ]
    },
    {
     "name": "stdout",
     "output_type": "stream",
     "text": [
      "downloading frozen vocab to /Users/huseinzolkepli/Malaya/translation-ms-en/small/ms-en.subwords\n"
     ]
    },
    {
     "name": "stderr",
     "output_type": "stream",
     "text": [
      "DEBUG:urllib3.connectionpool:https://f000.backblazeb2.com:443 \"GET /file/malaya-model/bpe/ms-en.subwords HTTP/1.1\" 200 231527\n",
      "1.00MB [00:01, 1.16s/MB]                   \n",
      "INFO:root:running translation-ms-en/small using device /device:CPU:0\n",
      "DEBUG:urllib3.connectionpool:Starting new HTTPS connection (1): f000.backblazeb2.com:443\n"
     ]
    },
    {
     "name": "stdout",
     "output_type": "stream",
     "text": [
      "[\"TANGKAK - Tan Sri Muhyiddin Yassin said he did not want to touch on political issues at this time, instead focusing on the welfare of the people and efforts to revitalize the country's economy affected following the Covid-19 pandemic. The Prime Minister explained the matter when speaking at the Leaders Meeting with the leaders of the Gambir State Assembly (DUN) community at the Bukit Gambir Multipurpose Hall today.\"]\n",
      "base\n"
     ]
    },
    {
     "name": "stderr",
     "output_type": "stream",
     "text": [
      "DEBUG:urllib3.connectionpool:https://f000.backblazeb2.com:443 \"HEAD /file/malaya-model/translation-ms-en/base/model.pb HTTP/1.1\" 200 0\n",
      "DEBUG:urllib3.connectionpool:Starting new HTTPS connection (1): f000.backblazeb2.com:443\n",
      "DEBUG:urllib3.connectionpool:https://f000.backblazeb2.com:443 \"HEAD /file/malaya-model/bpe/ms-en.subwords HTTP/1.1\" 200 0\n",
      "DEBUG:urllib3.connectionpool:Starting new HTTPS connection (1): f000.backblazeb2.com:443\n",
      "DEBUG:urllib3.connectionpool:https://f000.backblazeb2.com:443 \"HEAD /file/malaya-model/translation-ms-en/base/version HTTP/1.1\" 404 0\n",
      "DEBUG:urllib3.connectionpool:Starting new HTTPS connection (1): f000.backblazeb2.com:443\n"
     ]
    },
    {
     "name": "stdout",
     "output_type": "stream",
     "text": [
      "downloading frozen model to /Users/huseinzolkepli/Malaya/translation-ms-en/base/model.pb\n"
     ]
    },
    {
     "name": "stderr",
     "output_type": "stream",
     "text": [
      "DEBUG:urllib3.connectionpool:https://f000.backblazeb2.com:443 \"GET /file/malaya-model/translation-ms-en/base/model.pb HTTP/1.1\" 200 232765305\n",
      "100%|██████████| 222/222 [00:42<00:00, 5.24MB/s] \n",
      "DEBUG:urllib3.connectionpool:Starting new HTTPS connection (1): f000.backblazeb2.com:443\n"
     ]
    },
    {
     "name": "stdout",
     "output_type": "stream",
     "text": [
      "downloading frozen vocab to /Users/huseinzolkepli/Malaya/translation-ms-en/base/ms-en.subwords\n"
     ]
    },
    {
     "name": "stderr",
     "output_type": "stream",
     "text": [
      "DEBUG:urllib3.connectionpool:https://f000.backblazeb2.com:443 \"GET /file/malaya-model/bpe/ms-en.subwords HTTP/1.1\" 200 231527\n",
      "1.00MB [00:00, 1.48MB/s]                   \n",
      "INFO:root:running translation-ms-en/base using device /device:CPU:0\n"
     ]
    },
    {
     "name": "stdout",
     "output_type": "stream",
     "text": [
      "[\"TANGKAK - Tan Sri Muhyiddin Yassin said he did not want to touch on political issues at the moment, instead focusing on the welfare of the people and efforts to revitalize the affected country's economy following the Covid-19 pandemic. The prime minister explained the matter when speaking at a Leadership Meeting with Gambir State Assembly (DUN) leaders at the Bukit Gambir Multipurpose Hall today.\"]\n",
      "large\n"
     ]
    },
    {
     "name": "stderr",
     "output_type": "stream",
     "text": [
      "DEBUG:urllib3.connectionpool:Starting new HTTPS connection (1): f000.backblazeb2.com:443\n",
      "DEBUG:urllib3.connectionpool:https://f000.backblazeb2.com:443 \"HEAD /file/malaya-model/translation-ms-en/large/model.pb HTTP/1.1\" 200 0\n",
      "DEBUG:urllib3.connectionpool:Starting new HTTPS connection (1): f000.backblazeb2.com:443\n",
      "DEBUG:urllib3.connectionpool:https://f000.backblazeb2.com:443 \"HEAD /file/malaya-model/bpe/ms-en.subwords HTTP/1.1\" 200 0\n",
      "DEBUG:urllib3.connectionpool:Starting new HTTPS connection (1): f000.backblazeb2.com:443\n",
      "DEBUG:urllib3.connectionpool:https://f000.backblazeb2.com:443 \"HEAD /file/malaya-model/translation-ms-en/large/version HTTP/1.1\" 404 0\n",
      "DEBUG:urllib3.connectionpool:Starting new HTTPS connection (1): f000.backblazeb2.com:443\n"
     ]
    },
    {
     "name": "stdout",
     "output_type": "stream",
     "text": [
      "downloading frozen model to /Users/huseinzolkepli/Malaya/translation-ms-en/large/model.pb\n"
     ]
    },
    {
     "name": "stderr",
     "output_type": "stream",
     "text": [
      "DEBUG:urllib3.connectionpool:https://f000.backblazeb2.com:443 \"GET /file/malaya-model/translation-ms-en/large/model.pb HTTP/1.1\" 200 814570579\n",
      "100%|██████████| 777/777 [01:48<00:00, 7.15MB/s] \n",
      "DEBUG:urllib3.connectionpool:Starting new HTTPS connection (1): f000.backblazeb2.com:443\n"
     ]
    },
    {
     "name": "stdout",
     "output_type": "stream",
     "text": [
      "downloading frozen vocab to /Users/huseinzolkepli/Malaya/translation-ms-en/large/ms-en.subwords\n"
     ]
    },
    {
     "name": "stderr",
     "output_type": "stream",
     "text": [
      "DEBUG:urllib3.connectionpool:https://f000.backblazeb2.com:443 \"GET /file/malaya-model/bpe/ms-en.subwords HTTP/1.1\" 200 231527\n",
      "1.00MB [00:00, 1.70MB/s]                   \n",
      "INFO:root:running translation-ms-en/large using device /device:CPU:0\n"
     ]
    },
    {
     "name": "stdout",
     "output_type": "stream",
     "text": [
      "[\"TANGKAK - Tan Sri Muhyiddin Yassin said he did not want to touch on political issues at the moment, instead focusing on the welfare of the people and efforts to revitalize the country's economy affected by the Covid-19 pandemic. The prime minister explained the matter when speaking at a meeting of Leaders with the State Assembly (DUN) leaders in the Bukit Gambir Multipurpose Hall today.\"]\n"
     ]
    },
    {
     "name": "stderr",
     "output_type": "stream",
     "text": [
      "DEBUG:urllib3.connectionpool:Starting new HTTPS connection (1): f000.backblazeb2.com:443\n"
     ]
    },
    {
     "name": "stdout",
     "output_type": "stream",
     "text": [
      "bigbird\n"
     ]
    },
    {
     "name": "stderr",
     "output_type": "stream",
     "text": [
      "DEBUG:urllib3.connectionpool:https://f000.backblazeb2.com:443 \"HEAD /file/malaya-model/translation-ms-en/bigbird/model.pb HTTP/1.1\" 200 0\n",
      "DEBUG:urllib3.connectionpool:Starting new HTTPS connection (1): f000.backblazeb2.com:443\n",
      "DEBUG:urllib3.connectionpool:https://f000.backblazeb2.com:443 \"HEAD /file/malaya-model/bpe/sp10m.cased.translation.model HTTP/1.1\" 200 0\n",
      "DEBUG:urllib3.connectionpool:Starting new HTTPS connection (1): f000.backblazeb2.com:443\n",
      "DEBUG:urllib3.connectionpool:https://f000.backblazeb2.com:443 \"HEAD /file/malaya-model/translation-ms-en/bigbird/version HTTP/1.1\" 404 0\n",
      "DEBUG:urllib3.connectionpool:Starting new HTTPS connection (1): f000.backblazeb2.com:443\n"
     ]
    },
    {
     "name": "stdout",
     "output_type": "stream",
     "text": [
      "downloading frozen model to /Users/huseinzolkepli/Malaya/translation-ms-en/bigbird/model.pb\n"
     ]
    },
    {
     "name": "stderr",
     "output_type": "stream",
     "text": [
      "DEBUG:urllib3.connectionpool:https://f000.backblazeb2.com:443 \"GET /file/malaya-model/translation-ms-en/bigbird/model.pb HTTP/1.1\" 200 248724311\n",
      "238MB [00:59, 3.97MB/s]                          \n",
      "DEBUG:urllib3.connectionpool:Starting new HTTPS connection (1): f000.backblazeb2.com:443\n"
     ]
    },
    {
     "name": "stdout",
     "output_type": "stream",
     "text": [
      "downloading frozen vocab to /Users/huseinzolkepli/Malaya/translation-ms-en/bigbird/sp10m.cased.translation.model\n"
     ]
    },
    {
     "name": "stderr",
     "output_type": "stream",
     "text": [
      "DEBUG:urllib3.connectionpool:https://f000.backblazeb2.com:443 \"GET /file/malaya-model/bpe/sp10m.cased.translation.model HTTP/1.1\" 200 807238\n",
      "130%|██████████| 1.00/0.77 [00:01<00:00, 1.20s/MB]\n",
      "INFO:root:running translation-ms-en/bigbird using device /device:CPU:0\n"
     ]
    },
    {
     "name": "stdout",
     "output_type": "stream",
     "text": [
      "[\"TANGKAK - Tan Sri Muhyiddin Yassin said he did not want to touch on political issues at this time, instead he wanted to focus on the welfare of the people as well as efforts to boost the country's economy affected by the Covid-19 pandemic. The Prime Minister explained the matter while speaking at the Leaders Meeting with the leaders of the Gambir State Assembly (DUN) community at the Bukit Gambir Multipurpose Hall today.\"]\n"
     ]
    },
    {
     "name": "stderr",
     "output_type": "stream",
     "text": [
      "DEBUG:urllib3.connectionpool:Starting new HTTPS connection (1): f000.backblazeb2.com:443\n"
     ]
    },
    {
     "name": "stdout",
     "output_type": "stream",
     "text": [
      "small-bigbird\n"
     ]
    },
    {
     "name": "stderr",
     "output_type": "stream",
     "text": [
      "DEBUG:urllib3.connectionpool:https://f000.backblazeb2.com:443 \"HEAD /file/malaya-model/translation-ms-en/small-bigbird/model.pb HTTP/1.1\" 200 0\n",
      "DEBUG:urllib3.connectionpool:Starting new HTTPS connection (1): f000.backblazeb2.com:443\n",
      "DEBUG:urllib3.connectionpool:https://f000.backblazeb2.com:443 \"HEAD /file/malaya-model/bpe/sp10m.cased.translation.model HTTP/1.1\" 200 0\n",
      "DEBUG:urllib3.connectionpool:Starting new HTTPS connection (1): f000.backblazeb2.com:443\n",
      "DEBUG:urllib3.connectionpool:https://f000.backblazeb2.com:443 \"HEAD /file/malaya-model/translation-ms-en/small-bigbird/version HTTP/1.1\" 404 0\n",
      "DEBUG:urllib3.connectionpool:Starting new HTTPS connection (1): f000.backblazeb2.com:443\n"
     ]
    },
    {
     "name": "stdout",
     "output_type": "stream",
     "text": [
      "downloading frozen model to /Users/huseinzolkepli/Malaya/translation-ms-en/small-bigbird/model.pb\n"
     ]
    },
    {
     "name": "stderr",
     "output_type": "stream",
     "text": [
      "DEBUG:urllib3.connectionpool:https://f000.backblazeb2.com:443 \"GET /file/malaya-model/translation-ms-en/small-bigbird/model.pb HTTP/1.1\" 200 50445413\n",
      "49.0MB [00:07, 6.70MB/s]                          \n",
      "DEBUG:urllib3.connectionpool:Starting new HTTPS connection (1): f000.backblazeb2.com:443\n"
     ]
    },
    {
     "name": "stdout",
     "output_type": "stream",
     "text": [
      "downloading frozen vocab to /Users/huseinzolkepli/Malaya/translation-ms-en/small-bigbird/sp10m.cased.translation.model\n"
     ]
    },
    {
     "name": "stderr",
     "output_type": "stream",
     "text": [
      "DEBUG:urllib3.connectionpool:https://f000.backblazeb2.com:443 \"GET /file/malaya-model/bpe/sp10m.cased.translation.model HTTP/1.1\" 200 807238\n",
      "130%|██████████| 1.00/0.77 [00:01<00:00, 1.42s/MB]\n",
      "INFO:root:running translation-ms-en/small-bigbird using device /device:CPU:0\n"
     ]
    },
    {
     "name": "stdout",
     "output_type": "stream",
     "text": [
      "[\"TANGKAK - Tan Sri Muhyiddin Yassin said he did not want to touch on political issues at the moment, instead he wanted to focus on the welfare of the people as well as efforts to revive the country's economy affected following the Covid-19 pandemic. The Prime Minister explained the matter when addressing the Leaders' Meeting with Gambir State Assembly (DUN) community leaders at the Bukit Gambir Multipurpose Hall today.\"]\n"
     ]
    }
   ],
   "source": [
    "models = malaya.translation.ms_en.available_transformer()\n",
    "for m in models.index:\n",
    "    print(m)\n",
    "    model = malaya.translation.ms_en.transformer(model = m, gpu_limit = 0.3)\n",
    "    print(model.greedy_decoder([string_news1]))\n",
    "    malaya.utils.delete_cache(f'translation-ms-en/{m}')\n",
    "    del model"
   ]
  },
  {
   "cell_type": "code",
   "execution_count": 7,
   "id": "informed-rental",
   "metadata": {},
   "outputs": [],
   "source": [
    "random_string1 = 'i am in medical school.'"
   ]
  },
  {
   "cell_type": "code",
   "execution_count": 10,
   "id": "unlike-administration",
   "metadata": {},
   "outputs": [
    {
     "name": "stderr",
     "output_type": "stream",
     "text": [
      "INFO:root:tested on 77k EN-MS sentences.\n",
      "DEBUG:urllib3.connectionpool:Starting new HTTPS connection (1): f000.backblazeb2.com:443\n"
     ]
    },
    {
     "name": "stdout",
     "output_type": "stream",
     "text": [
      "bigbird\n"
     ]
    },
    {
     "name": "stderr",
     "output_type": "stream",
     "text": [
      "DEBUG:urllib3.connectionpool:https://f000.backblazeb2.com:443 \"HEAD /file/malaya-model/translation-en-ms/bigbird/model.pb HTTP/1.1\" 200 0\n",
      "DEBUG:urllib3.connectionpool:Starting new HTTPS connection (1): f000.backblazeb2.com:443\n",
      "DEBUG:urllib3.connectionpool:https://f000.backblazeb2.com:443 \"HEAD /file/malaya-model/bpe/sp10m.cased.translation.model HTTP/1.1\" 200 0\n",
      "DEBUG:urllib3.connectionpool:Starting new HTTPS connection (1): f000.backblazeb2.com:443\n",
      "DEBUG:urllib3.connectionpool:https://f000.backblazeb2.com:443 \"HEAD /file/malaya-model/translation-en-ms/bigbird/version HTTP/1.1\" 404 0\n",
      "DEBUG:urllib3.connectionpool:Starting new HTTPS connection (1): f000.backblazeb2.com:443\n"
     ]
    },
    {
     "name": "stdout",
     "output_type": "stream",
     "text": [
      "downloading frozen model to /Users/huseinzolkepli/Malaya/translation-en-ms/bigbird/model.pb\n"
     ]
    },
    {
     "name": "stderr",
     "output_type": "stream",
     "text": [
      "DEBUG:urllib3.connectionpool:https://f000.backblazeb2.com:443 \"GET /file/malaya-model/translation-en-ms/bigbird/model.pb HTTP/1.1\" 200 248724311\n",
      "238MB [00:34, 6.87MB/s]                          \n",
      "DEBUG:urllib3.connectionpool:Starting new HTTPS connection (1): f000.backblazeb2.com:443\n"
     ]
    },
    {
     "name": "stdout",
     "output_type": "stream",
     "text": [
      "downloading frozen vocab to /Users/huseinzolkepli/Malaya/translation-en-ms/bigbird/sp10m.cased.translation.model\n"
     ]
    },
    {
     "name": "stderr",
     "output_type": "stream",
     "text": [
      "DEBUG:urllib3.connectionpool:https://f000.backblazeb2.com:443 \"GET /file/malaya-model/bpe/sp10m.cased.translation.model HTTP/1.1\" 200 807238\n",
      "130%|██████████| 1.00/0.77 [00:00<00:00, 1.02MB/s]\n",
      "INFO:root:running translation-en-ms/bigbird using device /device:CPU:0\n"
     ]
    },
    {
     "name": "stdout",
     "output_type": "stream",
     "text": [
      "['Saya berada di sekolah perubatan.']\n"
     ]
    },
    {
     "name": "stderr",
     "output_type": "stream",
     "text": [
      "DEBUG:urllib3.connectionpool:Starting new HTTPS connection (1): f000.backblazeb2.com:443\n"
     ]
    },
    {
     "name": "stdout",
     "output_type": "stream",
     "text": [
      "small-bigbird\n"
     ]
    },
    {
     "name": "stderr",
     "output_type": "stream",
     "text": [
      "DEBUG:urllib3.connectionpool:https://f000.backblazeb2.com:443 \"HEAD /file/malaya-model/translation-en-ms/small-bigbird/model.pb HTTP/1.1\" 200 0\n",
      "DEBUG:urllib3.connectionpool:Starting new HTTPS connection (1): f000.backblazeb2.com:443\n",
      "DEBUG:urllib3.connectionpool:https://f000.backblazeb2.com:443 \"HEAD /file/malaya-model/bpe/sp10m.cased.translation.model HTTP/1.1\" 200 0\n",
      "DEBUG:urllib3.connectionpool:Starting new HTTPS connection (1): f000.backblazeb2.com:443\n",
      "DEBUG:urllib3.connectionpool:https://f000.backblazeb2.com:443 \"HEAD /file/malaya-model/translation-en-ms/small-bigbird/version HTTP/1.1\" 404 0\n",
      "DEBUG:urllib3.connectionpool:Starting new HTTPS connection (1): f000.backblazeb2.com:443\n"
     ]
    },
    {
     "name": "stdout",
     "output_type": "stream",
     "text": [
      "downloading frozen model to /Users/huseinzolkepli/Malaya/translation-en-ms/small-bigbird/model.pb\n"
     ]
    },
    {
     "name": "stderr",
     "output_type": "stream",
     "text": [
      "DEBUG:urllib3.connectionpool:https://f000.backblazeb2.com:443 \"GET /file/malaya-model/translation-en-ms/small-bigbird/model.pb HTTP/1.1\" 200 50445413\n",
      "49.0MB [00:06, 7.12MB/s]                          \n",
      "DEBUG:urllib3.connectionpool:Starting new HTTPS connection (1): f000.backblazeb2.com:443\n"
     ]
    },
    {
     "name": "stdout",
     "output_type": "stream",
     "text": [
      "downloading frozen vocab to /Users/huseinzolkepli/Malaya/translation-en-ms/small-bigbird/sp10m.cased.translation.model\n"
     ]
    },
    {
     "name": "stderr",
     "output_type": "stream",
     "text": [
      "DEBUG:urllib3.connectionpool:https://f000.backblazeb2.com:443 \"GET /file/malaya-model/bpe/sp10m.cased.translation.model HTTP/1.1\" 200 807238\n",
      "130%|██████████| 1.00/0.77 [00:01<00:00, 1.07s/MB]\n",
      "INFO:root:running translation-en-ms/small-bigbird using device /device:CPU:0\n"
     ]
    },
    {
     "name": "stdout",
     "output_type": "stream",
     "text": [
      "['saya di sekolah perubatan.']\n"
     ]
    }
   ],
   "source": [
    "models = malaya.translation.en_ms.available_transformer()\n",
    "for m in models.index[-2:]:\n",
    "    print(m)\n",
    "    model = malaya.translation.en_ms.transformer(model = m, gpu_limit = 0.3)\n",
    "    print(model.greedy_decoder([random_string1]))\n",
    "    malaya.utils.delete_cache(f'translation-en-ms/{m}')\n",
    "    del model"
   ]
  },
  {
   "cell_type": "code",
   "execution_count": null,
   "id": "ranging-convergence",
   "metadata": {},
   "outputs": [],
   "source": []
  }
 ],
 "metadata": {
  "kernelspec": {
   "display_name": "Python 3",
   "language": "python",
   "name": "python3"
  },
  "language_info": {
   "codemirror_mode": {
    "name": "ipython",
    "version": 3
   },
   "file_extension": ".py",
   "mimetype": "text/x-python",
   "name": "python",
   "nbconvert_exporter": "python",
   "pygments_lexer": "ipython3",
   "version": "3.7.7"
  }
 },
 "nbformat": 4,
 "nbformat_minor": 5
}
