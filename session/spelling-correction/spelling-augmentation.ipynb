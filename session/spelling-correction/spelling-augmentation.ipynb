{
 "cells": [
  {
   "cell_type": "code",
   "execution_count": 1,
   "metadata": {},
   "outputs": [],
   "source": [
    "# !pip3 install git+https://github.com/huseinzol05/malaya.git@4.6.1 --no-deps"
   ]
  },
  {
   "cell_type": "code",
   "execution_count": 2,
   "metadata": {},
   "outputs": [],
   "source": [
    "import malaya\n",
    "from malaya.preprocessing import Tokenizer\n",
    "from malaya.text.function import case_of\n",
    "from malaya.augmentation import (\n",
    "    replace_similar_consonants, \n",
    "    replace_similar_vowels, \n",
    "    socialmedia_form,\n",
    "    vowel_alternate)\n",
    "from malaya.text import rules\n",
    "from collections import defaultdict\n",
    "import random"
   ]
  },
  {
   "cell_type": "code",
   "execution_count": 3,
   "metadata": {},
   "outputs": [],
   "source": [
    "replace_normalizer = defaultdict(list)\n",
    "for k, v in rules.rules_normalizer.items():\n",
    "    if v.count(' ') == 0:\n",
    "        replace_normalizer[v].append(k)"
   ]
  },
  {
   "cell_type": "code",
   "execution_count": 4,
   "metadata": {},
   "outputs": [],
   "source": [
    "tokenizer = Tokenizer(duration = False, date = False,\n",
    "                     ).tokenize\n",
    "\n",
    "def augment(string):\n",
    "    \n",
    "    r = []\n",
    "    for word in tokenizer(string):\n",
    "        original_word = word\n",
    "        word_lower = word.lower()\n",
    "        try:\n",
    "            s = socialmedia_form(word_lower)\n",
    "            if len(s):\n",
    "                word = case_of(word)(s[0])\n",
    "            else:\n",
    "                if word_lower in replace_normalizer and random.random() >= 0.5:\n",
    "                    word = case_of(word)(random.choice(replace_normalizer[word_lower]))\n",
    "            \n",
    "            word = case_of(word)(vowel_alternate(word, 0.9))\n",
    "            word = case_of(word)(replace_similar_consonants(word, 0.95))\n",
    "            word = case_of(word)(replace_similar_vowels(word, 0.95))\n",
    "                \n",
    "        except Exception as e:\n",
    "            word = original_word\n",
    "            pass\n",
    "        \n",
    "        r.append(word)\n",
    "    return ' '.join(r)"
   ]
  },
  {
   "cell_type": "code",
   "execution_count": 5,
   "metadata": {},
   "outputs": [
    {
     "data": {
      "text/plain": [
       "'Beloau tela dipili utk Parlimen Msia pade tahin 1976 , pade usia 23 tahn , ngegantiin bapanye duduk d kerusi Pelan yg berpangkalan di Pahang .'"
      ]
     },
     "execution_count": 5,
     "metadata": {},
     "output_type": "execute_result"
    }
   ],
   "source": [
    "string = \"\"\"\n",
    "Beliau telah dipilih untuk Parlimen Malaysia pada tahun 1976, pada usia 23 tahun, menggantikan bapanya duduk di kerusi Pekan yang berpangkalan di Pahang. Dari tahun 1982 hingga 1986 beliau menjadi Menteri Besar (Ketua Menteri) Pahang, sebelum memasuki persekutuan Kabinet Tun Dr Mahathir Mohamad pada tahun 1986 sebagai Menteri Kebudayaan, Belia dan Sukan. Beliau telah berkhidmat dalam pelbagai jawatan Kabinet sepanjang baki tahun 1980-an dan 1990-an, termasuk sebagai Menteri Pertahanan dan Menteri Pelajaran. Beliau menjadi Timbalan Perdana Menteri pada 7 Januari 2004, berkhidmat di bawah Perdana Menteri Tun Dato' Seri Abdullah Ahmad Badawi, sebelum menggantikan Badawi setahun selepas Barisan Nasional mengalami kerugian besar dalam pilihan raya 2008. Di bawah kepimpinan beliau, Barisan Nasional memenangi pilihan raya 2013, walaupun buat kali pertama dalam sejarah Malaysia pembangkang memenangi majoriti undi popular.\n",
    "\"\"\"\n",
    "splitted = malaya.text.function.split_into_sentences(string)\n",
    "augment(splitted[0])"
   ]
  },
  {
   "cell_type": "code",
   "execution_count": 6,
   "metadata": {},
   "outputs": [
    {
     "data": {
      "text/plain": [
       "'Beliau telah dipilih untuk Parlimen Malaysia pada tahun 1976, pada usia 23 tahun, menggantikan bapanya duduk di kerusi Pekan yang berpangkalan di Pahang.'"
      ]
     },
     "execution_count": 6,
     "metadata": {},
     "output_type": "execute_result"
    }
   ],
   "source": [
    "splitted[0]"
   ]
  },
  {
   "cell_type": "code",
   "execution_count": 7,
   "metadata": {},
   "outputs": [],
   "source": [
    "files = ['../pure-text/filtered-dumping-wiki.txt',\n",
    "        '../pure-text/dumping-cleaned-news.txt']"
   ]
  },
  {
   "cell_type": "code",
   "execution_count": 8,
   "metadata": {},
   "outputs": [
    {
     "data": {
      "text/plain": [
       "2037249"
      ]
     },
     "execution_count": 8,
     "metadata": {},
     "output_type": "execute_result"
    }
   ],
   "source": [
    "with open(files[0]) as fopen:\n",
    "    data = list(filter(None, fopen.read().split('\\n')))\n",
    "    \n",
    "data = [i for i in data if len(i) >= 2]\n",
    "len(data)"
   ]
  },
  {
   "cell_type": "code",
   "execution_count": 9,
   "metadata": {},
   "outputs": [],
   "source": [
    "from tqdm import tqdm\n",
    "\n",
    "def loop(strings):\n",
    "    results = []\n",
    "    for i in tqdm(range(len(strings))):\n",
    "        t = ' '.join(tokenizer(strings[i]))\n",
    "        if random.random() >= 0.3:\n",
    "            row = augment(strings[i])\n",
    "            results.append((row, t))\n",
    "        else:\n",
    "            results.append((t, t))\n",
    "    return results"
   ]
  },
  {
   "cell_type": "code",
   "execution_count": 11,
   "metadata": {},
   "outputs": [
    {
     "name": "stderr",
     "output_type": "stream",
     "text": [
      "100%|██████████| 10/10 [00:00<00:00, 1039.92it/s]\n"
     ]
    },
    {
     "data": {
      "text/plain": [
       "[('Dork Jan Klaas \" Klaas Jan \" Untlaar ( lhr 12 August 1983 ) meripakan pemain bole sepak Belande yanckh bermain dhi possi penyerang .',\n",
       "  'Dirk Jan Klaas \" Klaas-Jan \" Huntelaar ( lahir 12 Ogos 1983 ) merupakan pemain bola sepak Belanda yang bermain di posisi penyerang .'),\n",
       " ('Beliau kini bermain untl lelab Ajax .',\n",
       "  'Beliau kini bermain untuk kelab Ajax .'),\n",
       " ('Hypo Arene .', 'Hypo-Arena .'),\n",
       " ('Hypo Arene ( dlu dkenali sbgai ) iala senua stadium serbe gune d Klagenfurt , Austria .',\n",
       "  'Hypo-Arena ( dahulu dikenali sebagai ) ialah sebuah stadium serba guna di Klagenfurt , Austria .'),\n",
       " ('Ia merupakan stadium pasukan Austria Karnten .',\n",
       "  'Ia merupakan stadium pasukan Austria Karnten .'),\n",
       " ('Stadium lame dikenli sbg Wortherseestafion , dibine pade 1960 dn mempunyai kapasiti sebanyak 10,900 .',\n",
       "  'Stadium lama dikenali sebagai Wortherseestadion , dibina pada 1960 dan mempunyai kapasiti sebanyak 10,900 .'),\n",
       " ('Ia dirobohkan pada 2005 dan digantikan dengan Hypo-Arena yang baru , juga dikenali sehingga 30 Jun 2007 dengan nama \" Wortherseestadion \" .',\n",
       "  'Ia dirobohkan pada 2005 dan digantikan dengan Hypo-Arena yang baru , juga dikenali sehingga 30 Jun 2007 dengan nama \" Wortherseestadion \" .'),\n",
       " ('Ia adla sla atu daripade 8 stadium untuk UEFE Euro 2008 , dam dibime tuk mnampng 32,000 penonton .',\n",
       "  'Ia adalah salah satu daripada 8 stadium untuk UEFA Euro 2008 , dan dibina untuk menampung 32,000 penonton .'),\n",
       " ('Selepas acara tersebut , kapasiti stadium ini sedang dipertimbangkan untuk dikurangkan kepada 12,500 .',\n",
       "  'Selepas acara tersebut , kapasiti stadium ini sedang dipertimbangkan untuk dikurangkan kepada 12,500 .'),\n",
       " ('Stadium ini dibuke secare rasmo pade 7 Sptember 2007 by menjadi mr ruma utk perlawanan petsahabtan di amtare Ausyroa n Jpan di adapam 26,500 penonton .',\n",
       "  'Stadium ini dibuka secara rasmi pada 7 September 2007 dengan menjadi tuan rumah untuk perlawanan persahabatan di antara Austria dan Jepun di hadapan 26,500 penonton .')]"
      ]
     },
     "execution_count": 11,
     "metadata": {},
     "output_type": "execute_result"
    }
   ],
   "source": [
    "loop(data[:10])"
   ]
  },
  {
   "cell_type": "code",
   "execution_count": 12,
   "metadata": {},
   "outputs": [],
   "source": [
    "data = random.sample(data, 700000)"
   ]
  },
  {
   "cell_type": "code",
   "execution_count": 13,
   "metadata": {},
   "outputs": [
    {
     "name": "stderr",
     "output_type": "stream",
     "text": [
      "100%|██████████| 43750/43750 [00:23<00:00, 1895.52it/s]\n",
      "100%|██████████| 43750/43750 [00:23<00:00, 1878.11it/s]\n",
      "100%|██████████| 43750/43750 [00:23<00:00, 1852.96it/s]\n",
      "100%|██████████| 43750/43750 [00:23<00:00, 1871.81it/s]\n",
      "100%|██████████| 43750/43750 [00:23<00:00, 1872.24it/s]\n",
      "100%|██████████| 43750/43750 [00:23<00:00, 1860.98it/s]\n",
      "100%|██████████| 43750/43750 [00:23<00:00, 1845.74it/s]\n",
      "100%|██████████| 43750/43750 [00:23<00:00, 1833.43it/s]\n",
      "100%|██████████| 43750/43750 [00:23<00:00, 1839.70it/s]\n",
      "100%|██████████| 43750/43750 [00:23<00:00, 1839.95it/s]\n",
      "100%|██████████| 43750/43750 [00:23<00:00, 1832.01it/s]\n",
      "100%|██████████| 43750/43750 [00:24<00:00, 1820.13it/s]\n",
      "100%|██████████| 43750/43750 [00:24<00:00, 1819.06it/s]\n",
      "100%|██████████| 43750/43750 [00:24<00:00, 1821.54it/s]\n",
      "100%|██████████| 43750/43750 [00:23<00:00, 1824.94it/s]\n",
      "100%|██████████| 43750/43750 [00:24<00:00, 1800.67it/s]\n"
     ]
    }
   ],
   "source": [
    "import cleaning\n",
    "\n",
    "results1 = cleaning.multiprocessing(data, loop)"
   ]
  },
  {
   "cell_type": "code",
   "execution_count": 14,
   "metadata": {},
   "outputs": [
    {
     "name": "stderr",
     "output_type": "stream",
     "text": [
      "100%|██████████| 700000/700000 [00:00<00:00, 1852324.92it/s]\n"
     ]
    },
    {
     "data": {
      "text/plain": [
       "0.6845657142857143"
      ]
     },
     "execution_count": 14,
     "metadata": {},
     "output_type": "execute_result"
    }
   ],
   "source": [
    "not_same = 0\n",
    "for r in tqdm(results1):\n",
    "    if r[0] != r[1]:\n",
    "        not_same += 1\n",
    "\n",
    "not_same / len(results1)"
   ]
  },
  {
   "cell_type": "code",
   "execution_count": 15,
   "metadata": {},
   "outputs": [],
   "source": [
    "import json\n",
    "\n",
    "with open('results-wiki-spelling.json', 'w') as fopen:\n",
    "    json.dump(results1, fopen)"
   ]
  },
  {
   "cell_type": "code",
   "execution_count": 16,
   "metadata": {},
   "outputs": [
    {
     "data": {
      "text/plain": [
       "3483869"
      ]
     },
     "execution_count": 16,
     "metadata": {},
     "output_type": "execute_result"
    }
   ],
   "source": [
    "with open(files[1]) as fopen:\n",
    "    data = list(filter(None, fopen.read().split('\\n')))\n",
    "    \n",
    "data = [i for i in data if len(i) >= 2]\n",
    "len(data)"
   ]
  },
  {
   "cell_type": "code",
   "execution_count": 17,
   "metadata": {},
   "outputs": [],
   "source": [
    "data = random.sample(data, 700000)"
   ]
  },
  {
   "cell_type": "code",
   "execution_count": 18,
   "metadata": {},
   "outputs": [
    {
     "name": "stderr",
     "output_type": "stream",
     "text": [
      "100%|██████████| 43750/43750 [00:27<00:00, 1611.17it/s]\n",
      "100%|██████████| 43750/43750 [00:27<00:00, 1618.28it/s]\n",
      "100%|██████████| 43750/43750 [00:27<00:00, 1614.77it/s]\n",
      "100%|██████████| 43750/43750 [00:27<00:00, 1595.81it/s]\n",
      "100%|██████████| 43750/43750 [00:27<00:00, 1618.53it/s]\n",
      "100%|██████████| 43750/43750 [00:27<00:00, 1602.61it/s]\n",
      "100%|██████████| 43750/43750 [00:27<00:00, 1602.74it/s]\n",
      "100%|██████████| 43750/43750 [00:27<00:00, 1588.74it/s]\n",
      "100%|██████████| 43750/43750 [00:27<00:00, 1585.39it/s]\n",
      "100%|██████████| 43750/43750 [00:27<00:00, 1571.67it/s]\n",
      "100%|██████████| 43750/43750 [00:27<00:00, 1566.17it/s]\n",
      "100%|██████████| 43750/43750 [00:27<00:00, 1568.02it/s]\n",
      "100%|██████████| 43750/43750 [00:28<00:00, 1552.31it/s]\n",
      "100%|██████████| 43750/43750 [00:28<00:00, 1549.69it/s]\n",
      "100%|██████████| 43750/43750 [00:28<00:00, 1556.98it/s]\n",
      "100%|██████████| 43750/43750 [00:28<00:00, 1553.36it/s]\n"
     ]
    }
   ],
   "source": [
    "results1 = cleaning.multiprocessing(data, loop)"
   ]
  },
  {
   "cell_type": "code",
   "execution_count": 20,
   "metadata": {},
   "outputs": [
    {
     "name": "stderr",
     "output_type": "stream",
     "text": [
      "100%|██████████| 700000/700000 [00:00<00:00, 1865017.29it/s]\n"
     ]
    },
    {
     "data": {
      "text/plain": [
       "0.6917"
      ]
     },
     "execution_count": 20,
     "metadata": {},
     "output_type": "execute_result"
    }
   ],
   "source": [
    "not_same = 0\n",
    "for r in tqdm(results1):\n",
    "    if r[0] != r[1]:\n",
    "        not_same += 1\n",
    "\n",
    "not_same / len(results1)"
   ]
  },
  {
   "cell_type": "code",
   "execution_count": 21,
   "metadata": {},
   "outputs": [],
   "source": [
    "import json\n",
    "\n",
    "with open('results-news-spelling.json', 'w') as fopen:\n",
    "    json.dump(results1, fopen)"
   ]
  },
  {
   "cell_type": "code",
   "execution_count": 22,
   "metadata": {},
   "outputs": [
    {
     "data": {
      "text/plain": [
       "[('Intinye , ia menekankan aturan penggunaan AI arus mempertimbangkan paktor faktut spetti keamaman dan keadolan untuk menyeimbangkan potenso mamfaat n bahaye perkembangan teknologi .',\n",
       "  'Intinya , ia menekankan aturan penggunaan AI harus mempertimbangkan faktor-faktor seperti keamanan dan keadilan untuk menyeimbangkan potensi manfaat dan bahaya perkembangan teknologi .'),\n",
       " ('Mereke mendesainnye mgn teme berbagai musim d Jepang .',\n",
       "  'Mereka mendesainnya dengan tema berbagai musim di Jepang .'),\n",
       " ('Pgo ini , Menteri KPT , Dtuk Seri Idrs Juso mengmmkan lapn lagi universiti awam ( UA ) dan swaste tempatan mndpat Perakuan Status Swaakreftasi Agemso Kelayakn Malysia ( MQE ) , yang memblehkan mreke mengakteditso sendiri program pengjian di universiti masing masinf .',\n",
       "  'Pagi ini , Menteri KPT , Datuk Seri Idris Jusoh mengumumkan lapan lagi universiti awam ( UA ) dan swasta tempatan mendapat Perakuan Status Swaakreditasi Agensi Kelayakan Malaysia ( MQA ) , yang membolehkan mereka mengakreditasi sendiri program pengajian di universiti masing-masing .'),\n",
       " ('Itu semua karena virus Corona .', 'Itu semua karena virus Corona .'),\n",
       " ('Bgaimne pn , wassap , Ig dam Facebook Messenger akan ttep mnjadi aplks trpisa .',\n",
       "  'Bagaimana pun , WhatsApp , Instagram dan Facebook Messenger akan tetap menjadi aplikasi terpisah .'),\n",
       " ('Kabo YG Entertainment akan mendebutkan grup baru sebenarnye suda lme bredo .',\n",
       "  'Kabar YG Entertainment akan mendebutkan grup baru sebenarnya sudah lama beredar .'),\n",
       " ('KRI berkate , tumpuan yg diberokan goment dlm isu pmgangguran belia tirut perna diketengahkan bdn penylidikn tuh menerusi Report Transisi sekolah ke kerje Bagi Golongan Mude Msia , yang turut memuatkam isu kemahiran ngggk memenuhi keperluan industri dan latihn .',\n",
       "  'KRI berkata , tumpuan yang diberikan kerajaan dalam isu pengangguran belia turut pernah diketengahkan badan penyelidikan itu menerusi Laporan Transisi Sekolah-ke-Kerja Bagi Golongan Muda Malaysia , yang turut memuatkan isu kemahiran tidak memenuhi keperluan industri dan latihan .'),\n",
       " ('Sitokinin ngebantu mmperlahnkan pross penuaan dngan memgawal peryumbuhan n perkmbangan sel , mengimbangi tahap ph , memastikan sel kulit terhidrat mnakale vitamin C falam air kelape adala amtioksidan yanf larut di dalam air .',\n",
       "  'Sitokinin membantu memperlahankan proses penuaan dengan mengawal pertumbuhan dan perkembangan sel , mengimbangi tahap pH , memastikan sel kulit terhidrat manakala vitamin C dalam air kelapa adalah antioksidan yang larut di dalam air .'),\n",
       " ('Snangat rvivalisme Islam dbangkotkan uyk ngelawan pengru Umi Soviet di daerah daera ituh , m berhasl .',\n",
       "  'Semangat revivalisme Islam dibangkitkan untuk melawan pengaruh Uni Soviet di daerah-daerah itu , dan berhasil .'),\n",
       " ('Azman Ibrahim ( PAS-Jabi ) dilantik sebagai pengerusi Lembaga Kenaf dan Tembakau Negara menggantikan Wan Abdul Rahim Wan Abdullah , yang juga pemimpin Amanah .',\n",
       "  'Azman Ibrahim ( PAS-Jabi ) dilantik sebagai pengerusi Lembaga Kenaf dan Tembakau Negara menggantikan Wan Abdul Rahim Wan Abdullah , yang juga pemimpin Amanah .')]"
      ]
     },
     "execution_count": 22,
     "metadata": {},
     "output_type": "execute_result"
    }
   ],
   "source": [
    "results1[:10]"
   ]
  },
  {
   "cell_type": "code",
   "execution_count": null,
   "metadata": {},
   "outputs": [],
   "source": []
  }
 ],
 "metadata": {
  "kernelspec": {
   "display_name": "Python 3",
   "language": "python",
   "name": "python3"
  },
  "language_info": {
   "codemirror_mode": {
    "name": "ipython",
    "version": 3
   },
   "file_extension": ".py",
   "mimetype": "text/x-python",
   "name": "python",
   "nbconvert_exporter": "python",
   "pygments_lexer": "ipython3",
   "version": "3.6.9"
  }
 },
 "nbformat": 4,
 "nbformat_minor": 2
}
