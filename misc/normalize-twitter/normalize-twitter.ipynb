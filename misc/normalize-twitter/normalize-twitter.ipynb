{
 "cells": [
  {
   "cell_type": "code",
   "execution_count": 1,
   "id": "cefda1e3",
   "metadata": {},
   "outputs": [],
   "source": [
    "import os\n",
    "\n",
    "os.environ['CUDA_VISIBLE_DEVICES'] = ''"
   ]
  },
  {
   "cell_type": "code",
   "execution_count": 2,
   "metadata": {},
   "outputs": [],
   "source": [
    "import sys\n",
    "\n",
    "SOURCE_DIR = os.path.dirname(os.path.dirname(os.path.dirname(os.path.abspath(__name__))))\n",
    "SOURCE_DIR\n",
    "sys.path.insert(0, SOURCE_DIR)"
   ]
  },
  {
   "cell_type": "code",
   "execution_count": 3,
   "metadata": {},
   "outputs": [
    {
     "name": "stdout",
     "output_type": "stream",
     "text": [
      "CPU times: user 3.27 s, sys: 3.39 s, total: 6.66 s\n",
      "Wall time: 2.41 s\n"
     ]
    },
    {
     "data": {
      "text/plain": [
       "<module 'malaya' from '/home/husein/dev/malaya/malaya/__init__.py'>"
      ]
     },
     "execution_count": 3,
     "metadata": {},
     "output_type": "execute_result"
    }
   ],
   "source": [
    "%%time\n",
    "\n",
    "import malaya\n",
    "malaya"
   ]
  },
  {
   "cell_type": "code",
   "execution_count": 4,
   "metadata": {},
   "outputs": [],
   "source": [
    "lm = malaya.language_model.kenlm(model = 'bahasa-wiki-news')"
   ]
  },
  {
   "cell_type": "code",
   "execution_count": 5,
   "metadata": {},
   "outputs": [
    {
     "name": "stderr",
     "output_type": "stream",
     "text": [
      "2022-12-03 15:49:33.367178: I tensorflow/core/platform/cpu_feature_guard.cc:142] This TensorFlow binary is optimized with oneAPI Deep Neural Network Library (oneDNN) to use the following CPU instructions in performance-critical operations:  AVX2 FMA\n",
      "To enable them in other operations, rebuild TensorFlow with the appropriate compiler flags.\n",
      "2022-12-03 15:49:33.374751: E tensorflow/stream_executor/cuda/cuda_driver.cc:271] failed call to cuInit: CUDA_ERROR_NO_DEVICE: no CUDA-capable device is detected\n",
      "2022-12-03 15:49:33.374780: I tensorflow/stream_executor/cuda/cuda_diagnostics.cc:169] retrieving CUDA diagnostic information for host: husein-MS-7D31\n",
      "2022-12-03 15:49:33.374788: I tensorflow/stream_executor/cuda/cuda_diagnostics.cc:176] hostname: husein-MS-7D31\n",
      "2022-12-03 15:49:33.374840: I tensorflow/stream_executor/cuda/cuda_diagnostics.cc:200] libcuda reported version is: Not found: was unable to find libcuda.so DSO loaded into this program\n",
      "2022-12-03 15:49:33.374876: I tensorflow/stream_executor/cuda/cuda_diagnostics.cc:204] kernel reported version is: 470.141.3\n"
     ]
    }
   ],
   "source": [
    "stemmer = malaya.stem.deep_model(model = 'noisy')"
   ]
  },
  {
   "cell_type": "code",
   "execution_count": 6,
   "metadata": {},
   "outputs": [],
   "source": [
    "corrector = malaya.spelling_correction.probability.load(language_model = lm, replace_augmentation = True,\n",
    "                                                       stemmer = stemmer, maxlen = 12, minlen = 2)"
   ]
  },
  {
   "cell_type": "code",
   "execution_count": 7,
   "metadata": {},
   "outputs": [
    {
     "data": {
      "text/plain": [
       "True"
      ]
     },
     "execution_count": 7,
     "metadata": {},
     "output_type": "execute_result"
    }
   ],
   "source": [
    "corrector._replace_augmentation"
   ]
  },
  {
   "cell_type": "code",
   "execution_count": 8,
   "metadata": {},
   "outputs": [],
   "source": [
    "from malaya.spelling_correction.base import _augment_vowel_alternate, norvig_method"
   ]
  },
  {
   "cell_type": "code",
   "execution_count": 9,
   "metadata": {},
   "outputs": [
    {
     "name": "stdout",
     "output_type": "stream",
     "text": [
      "CPU times: user 16 µs, sys: 15 µs, total: 31 µs\n",
      "Wall time: 31.5 µs\n"
     ]
    },
    {
     "data": {
      "text/plain": [
       "['mndptkn']"
      ]
     },
     "execution_count": 9,
     "metadata": {},
     "output_type": "execute_result"
    }
   ],
   "source": [
    "%%time\n",
    "\n",
    "corrector.edit_candidates('mndptkn')"
   ]
  },
  {
   "cell_type": "code",
   "execution_count": 10,
   "metadata": {},
   "outputs": [
    {
     "name": "stdout",
     "output_type": "stream",
     "text": [
      "CPU times: user 222 µs, sys: 208 µs, total: 430 µs\n",
      "Wall time: 437 µs\n"
     ]
    },
    {
     "data": {
      "text/plain": [
       "['keciak',\n",
       " 'kedik',\n",
       " 'kechik',\n",
       " 'kecak',\n",
       " 'kenik',\n",
       " 'kecil',\n",
       " 'kepik',\n",
       " 'kecik',\n",
       " 'kecek',\n",
       " 'kemik',\n",
       " 'kecok',\n",
       " 'recik',\n",
       " 'ketik',\n",
       " 'kerik',\n",
       " 'kesik',\n",
       " 'decik',\n",
       " 'gecik',\n",
       " 'kelik']"
      ]
     },
     "execution_count": 10,
     "metadata": {},
     "output_type": "execute_result"
    }
   ],
   "source": [
    "%%time\n",
    "\n",
    "corrector.edit_candidates('kecik')"
   ]
  },
  {
   "cell_type": "code",
   "execution_count": 11,
   "metadata": {},
   "outputs": [
    {
     "name": "stdout",
     "output_type": "stream",
     "text": [
      "CPU times: user 895 µs, sys: 0 ns, total: 895 µs\n",
      "Wall time: 903 µs\n"
     ]
    },
    {
     "data": {
      "text/plain": [
       "['tengat', 'tenpat', 'tempat']"
      ]
     },
     "execution_count": 11,
     "metadata": {},
     "output_type": "execute_result"
    }
   ],
   "source": [
    "%%time\n",
    "\n",
    "corrector.edit_candidates('tenpat')"
   ]
  },
  {
   "cell_type": "code",
   "execution_count": 12,
   "metadata": {},
   "outputs": [
    {
     "name": "stdout",
     "output_type": "stream",
     "text": [
      "CPU times: user 6 µs, sys: 5 µs, total: 11 µs\n",
      "Wall time: 13.1 µs\n"
     ]
    },
    {
     "data": {
      "text/plain": [
       "4"
      ]
     },
     "execution_count": 12,
     "metadata": {},
     "output_type": "execute_result"
    }
   ],
   "source": [
    "%%time\n",
    "\n",
    "len(corrector.edit_step('mndptkn'))"
   ]
  },
  {
   "cell_type": "code",
   "execution_count": 13,
   "metadata": {},
   "outputs": [],
   "source": [
    "normalizer = malaya.normalize.normalizer(corrector, stemmer, date = False)"
   ]
  },
  {
   "cell_type": "code",
   "execution_count": 14,
   "metadata": {
    "scrolled": true
   },
   "outputs": [],
   "source": [
    "segmenter = malaya.segmentation.huggingface()\n",
    "segmenter_func = lambda x: segmenter.generate([x], max_length = 256)[0]"
   ]
  },
  {
   "cell_type": "code",
   "execution_count": 15,
   "metadata": {},
   "outputs": [
    {
     "name": "stderr",
     "output_type": "stream",
     "text": [
      "You're using a T5TokenizerFast tokenizer. Please note that with a fast tokenizer, using the `__call__` method is faster than using a method to encode the text followed by a call to the `pad` method to get a padded encoding.\n"
     ]
    },
    {
     "name": "stdout",
     "output_type": "stream",
     "text": [
      "CPU times: user 321 ms, sys: 0 ns, total: 321 ms\n",
      "Wall time: 28.7 ms\n"
     ]
    },
    {
     "data": {
      "text/plain": [
       "'tak kisah'"
      ]
     },
     "execution_count": 15,
     "metadata": {},
     "output_type": "execute_result"
    }
   ],
   "source": [
    "%%time\n",
    "segmenter_func('takkisah')"
   ]
  },
  {
   "cell_type": "code",
   "execution_count": 16,
   "metadata": {},
   "outputs": [
    {
     "name": "stdout",
     "output_type": "stream",
     "text": [
      "huggingface/tokenizers: The current process just got forked, after parallelism has already been used. Disabling parallelism to avoid deadlocks...\n",
      "To disable this warning, you can either:\n",
      "\t- Avoid using `tokenizers` before the fork if possible\n",
      "\t- Explicitly set the environment variable TOKENIZERS_PARALLELISM=(true | false)\n"
     ]
    },
    {
     "name": "stderr",
     "output_type": "stream",
     "text": [
      "Warning : `load_model` does not return WordVectorModel or SupervisedModel any more, but a `FastText` object which is very similar.\n"
     ]
    }
   ],
   "source": [
    "fasttext = malaya.language_detection.fasttext()\n",
    "lang_word_model = malaya.language_detection.substring_rules(model = fasttext)"
   ]
  },
  {
   "cell_type": "code",
   "execution_count": 17,
   "metadata": {},
   "outputs": [
    {
     "data": {
      "text/plain": [
       "-10.182438850402832"
      ]
     },
     "execution_count": 17,
     "metadata": {},
     "output_type": "execute_result"
    }
   ],
   "source": [
    "lm.score('Takkisah')"
   ]
  },
  {
   "cell_type": "code",
   "execution_count": 18,
   "metadata": {},
   "outputs": [
    {
     "data": {
      "text/plain": [
       "-10.182438850402832"
      ]
     },
     "execution_count": 18,
     "metadata": {},
     "output_type": "execute_result"
    }
   ],
   "source": [
    "lm.score('takkisah')"
   ]
  },
  {
   "cell_type": "code",
   "execution_count": 19,
   "metadata": {},
   "outputs": [
    {
     "data": {
      "text/plain": [
       "-12.641404151916504"
      ]
     },
     "execution_count": 19,
     "metadata": {},
     "output_type": "execute_result"
    }
   ],
   "source": [
    "lm.score('ayam sedap')"
   ]
  },
  {
   "cell_type": "code",
   "execution_count": 20,
   "metadata": {},
   "outputs": [
    {
     "data": {
      "text/plain": [
       "-11.60669994354248"
      ]
     },
     "execution_count": 20,
     "metadata": {},
     "output_type": "execute_result"
    }
   ],
   "source": [
    "lm.score('Ayam sedap')"
   ]
  },
  {
   "cell_type": "code",
   "execution_count": 21,
   "metadata": {},
   "outputs": [
    {
     "data": {
      "text/plain": [
       "-9.186513900756836"
      ]
     },
     "execution_count": 21,
     "metadata": {},
     "output_type": "execute_result"
    }
   ],
   "source": [
    "lm.score('najib')"
   ]
  },
  {
   "cell_type": "code",
   "execution_count": 22,
   "metadata": {},
   "outputs": [
    {
     "data": {
      "text/plain": [
       "-5.1223626136779785"
      ]
     },
     "execution_count": 22,
     "metadata": {},
     "output_type": "execute_result"
    }
   ],
   "source": [
    "lm.score('Najib')"
   ]
  },
  {
   "cell_type": "code",
   "execution_count": 32,
   "metadata": {},
   "outputs": [
    {
     "name": "stdout",
     "output_type": "stream",
     "text": [
      "huggingface/tokenizers: The current process just got forked, after parallelism has already been used. Disabling parallelism to avoid deadlocks...\n",
      "To disable this warning, you can either:\n",
      "\t- Avoid using `tokenizers` before the fork if possible\n",
      "\t- Explicitly set the environment variable TOKENIZERS_PARALLELISM=(true | false)\n"
     ]
    }
   ],
   "source": [
    "!rm *.normalized"
   ]
  },
  {
   "cell_type": "code",
   "execution_count": 24,
   "metadata": {},
   "outputs": [
    {
     "data": {
      "text/plain": [
       "['/home/husein/malaya/2022-06-08/2022-06-08-bahasa-0.json',\n",
       " '/home/husein/malaya/2022-06-08/2022-06-08-bahasa-1.json',\n",
       " '/home/husein/malaya/2022-06-08/2022-06-08-bahasa-10.json',\n",
       " '/home/husein/malaya/2022-06-08/2022-06-08-bahasa-11.json',\n",
       " '/home/husein/malaya/2022-06-08/2022-06-08-bahasa-12.json',\n",
       " '/home/husein/malaya/2022-06-08/2022-06-08-bahasa-13.json',\n",
       " '/home/husein/malaya/2022-06-08/2022-06-08-bahasa-14.json',\n",
       " '/home/husein/malaya/2022-06-08/2022-06-08-bahasa-15.json',\n",
       " '/home/husein/malaya/2022-06-08/2022-06-08-bahasa-16.json',\n",
       " '/home/husein/malaya/2022-06-08/2022-06-08-bahasa-17.json',\n",
       " '/home/husein/malaya/2022-06-08/2022-06-08-bahasa-18.json',\n",
       " '/home/husein/malaya/2022-06-08/2022-06-08-bahasa-19.json',\n",
       " '/home/husein/malaya/2022-06-08/2022-06-08-bahasa-2.json',\n",
       " '/home/husein/malaya/2022-06-08/2022-06-08-bahasa-20.json',\n",
       " '/home/husein/malaya/2022-06-08/2022-06-08-bahasa-21.json',\n",
       " '/home/husein/malaya/2022-06-08/2022-06-08-bahasa-22.json',\n",
       " '/home/husein/malaya/2022-06-08/2022-06-08-bahasa-23.json',\n",
       " '/home/husein/malaya/2022-06-08/2022-06-08-bahasa-24.json',\n",
       " '/home/husein/malaya/2022-06-08/2022-06-08-bahasa-25.json',\n",
       " '/home/husein/malaya/2022-06-08/2022-06-08-bahasa-3.json',\n",
       " '/home/husein/malaya/2022-06-08/2022-06-08-bahasa-4.json',\n",
       " '/home/husein/malaya/2022-06-08/2022-06-08-bahasa-5.json',\n",
       " '/home/husein/malaya/2022-06-08/2022-06-08-bahasa-6.json',\n",
       " '/home/husein/malaya/2022-06-08/2022-06-08-bahasa-7.json',\n",
       " '/home/husein/malaya/2022-06-08/2022-06-08-bahasa-8.json',\n",
       " '/home/husein/malaya/2022-06-08/2022-06-08-bahasa-9.json',\n",
       " '/home/husein/malaya/compiled/2021-dump-bahasa-twitter-0.json',\n",
       " '/home/husein/malaya/compiled/2021-dump-bahasa-twitter-1.json',\n",
       " '/home/husein/malaya/compiled/2021-dump-bahasa-twitter-10.json',\n",
       " '/home/husein/malaya/compiled/2021-dump-bahasa-twitter-11.json',\n",
       " '/home/husein/malaya/compiled/2021-dump-bahasa-twitter-12.json',\n",
       " '/home/husein/malaya/compiled/2021-dump-bahasa-twitter-13.json',\n",
       " '/home/husein/malaya/compiled/2021-dump-bahasa-twitter-14.json',\n",
       " '/home/husein/malaya/compiled/2021-dump-bahasa-twitter-15.json',\n",
       " '/home/husein/malaya/compiled/2021-dump-bahasa-twitter-16.json',\n",
       " '/home/husein/malaya/compiled/2021-dump-bahasa-twitter-17.json',\n",
       " '/home/husein/malaya/compiled/2021-dump-bahasa-twitter-18.json',\n",
       " '/home/husein/malaya/compiled/2021-dump-bahasa-twitter-19.json',\n",
       " '/home/husein/malaya/compiled/2021-dump-bahasa-twitter-2.json',\n",
       " '/home/husein/malaya/compiled/2021-dump-bahasa-twitter-20.json',\n",
       " '/home/husein/malaya/compiled/2021-dump-bahasa-twitter-21.json',\n",
       " '/home/husein/malaya/compiled/2021-dump-bahasa-twitter-22.json',\n",
       " '/home/husein/malaya/compiled/2021-dump-bahasa-twitter-23.json',\n",
       " '/home/husein/malaya/compiled/2021-dump-bahasa-twitter-24.json',\n",
       " '/home/husein/malaya/compiled/2021-dump-bahasa-twitter-25.json',\n",
       " '/home/husein/malaya/compiled/2021-dump-bahasa-twitter-26.json',\n",
       " '/home/husein/malaya/compiled/2021-dump-bahasa-twitter-27.json',\n",
       " '/home/husein/malaya/compiled/2021-dump-bahasa-twitter-28.json',\n",
       " '/home/husein/malaya/compiled/2021-dump-bahasa-twitter-29.json',\n",
       " '/home/husein/malaya/compiled/2021-dump-bahasa-twitter-3.json',\n",
       " '/home/husein/malaya/compiled/2021-dump-bahasa-twitter-30.json',\n",
       " '/home/husein/malaya/compiled/2021-dump-bahasa-twitter-31.json',\n",
       " '/home/husein/malaya/compiled/2021-dump-bahasa-twitter-32.json',\n",
       " '/home/husein/malaya/compiled/2021-dump-bahasa-twitter-33.json',\n",
       " '/home/husein/malaya/compiled/2021-dump-bahasa-twitter-34.json',\n",
       " '/home/husein/malaya/compiled/2021-dump-bahasa-twitter-35.json',\n",
       " '/home/husein/malaya/compiled/2021-dump-bahasa-twitter-36.json',\n",
       " '/home/husein/malaya/compiled/2021-dump-bahasa-twitter-37.json',\n",
       " '/home/husein/malaya/compiled/2021-dump-bahasa-twitter-38.json',\n",
       " '/home/husein/malaya/compiled/2021-dump-bahasa-twitter-39.json',\n",
       " '/home/husein/malaya/compiled/2021-dump-bahasa-twitter-4.json',\n",
       " '/home/husein/malaya/compiled/2021-dump-bahasa-twitter-40.json',\n",
       " '/home/husein/malaya/compiled/2021-dump-bahasa-twitter-41.json',\n",
       " '/home/husein/malaya/compiled/2021-dump-bahasa-twitter-5.json',\n",
       " '/home/husein/malaya/compiled/2021-dump-bahasa-twitter-6.json',\n",
       " '/home/husein/malaya/compiled/2021-dump-bahasa-twitter-7.json',\n",
       " '/home/husein/malaya/compiled/2021-dump-bahasa-twitter-8.json',\n",
       " '/home/husein/malaya/compiled/2021-dump-bahasa-twitter-9.json']"
      ]
     },
     "execution_count": 24,
     "metadata": {},
     "output_type": "execute_result"
    }
   ],
   "source": [
    "from glob import glob\n",
    "\n",
    "twitters = glob('/home/husein/malaya/2022-06-08/*.json')\n",
    "twitters.extend(glob('/home/husein/malaya/compiled/*.json'))\n",
    "twitters = sorted(twitters)\n",
    "twitters"
   ]
  },
  {
   "cell_type": "code",
   "execution_count": 25,
   "metadata": {},
   "outputs": [],
   "source": [
    "rejected_words = ['sik', 'aktivitas', 'lanat', 'keren', 'loh', 'akh', 'pake', 'goblok', 'ivo',\n",
    "                 'listrik', 'ludes', 'pemudik', 'stasiun', 'ketidaknyamananya', 'gawe', 'jempol',\n",
    "                 'kesahatan', 'sivitas', 'ngasih', 'pasokan', 'esdm', 'miliar', 'domisili',\n",
    "                 'nyengine', 'indonesia', 'ndak', 'mbak', 'gimana', 'verif']"
   ]
  },
  {
   "cell_type": "code",
   "execution_count": 26,
   "metadata": {},
   "outputs": [],
   "source": [
    "import requests\n",
    "\n",
    "def query(text, from_lang = 'en', to_lang = 'ms'):\n",
    "    return requests.get(f'http://100.105.246.81:8999/api?from={from_lang}&to={to_lang}&text={text}').json()"
   ]
  },
  {
   "cell_type": "code",
   "execution_count": 27,
   "metadata": {},
   "outputs": [],
   "source": [
    "text_scorer = lambda x: lm.score(x)"
   ]
  },
  {
   "cell_type": "code",
   "execution_count": 28,
   "metadata": {},
   "outputs": [],
   "source": [
    "import re\n",
    "\n",
    "def fix_spacing_punct(string):\n",
    "    string = string.replace(' , ', ', ').replace(' !', '!').replace(' . ', '. ').replace('( ', '(') \\\n",
    "    .replace(' )', ')')\n",
    "    return re.sub(r'[ ]+', ' ', string).strip()"
   ]
  },
  {
   "cell_type": "code",
   "execution_count": null,
   "metadata": {
    "scrolled": true
   },
   "outputs": [
    {
     "name": "stdout",
     "output_type": "stream",
     "text": [
      "2022-06-08-bahasa-0.json 2022-06-08-bahasa-0.json.normalized\n",
      "2022-06-08-bahasa-1.json 2022-06-08-bahasa-1.json.normalized\n"
     ]
    },
    {
     "name": "stderr",
     "output_type": "stream",
     "text": [
      "100%|███████████████████████████████████| 100000/100000 [33:11<00:00, 50.22it/s]\n"
     ]
    },
    {
     "name": "stdout",
     "output_type": "stream",
     "text": [
      "2022-06-08-bahasa-10.json 2022-06-08-bahasa-10.json.normalized\n"
     ]
    },
    {
     "name": "stderr",
     "output_type": "stream",
     "text": [
      "100%|███████████████████████████████████| 100000/100000 [34:57<00:00, 47.68it/s]\n"
     ]
    },
    {
     "name": "stdout",
     "output_type": "stream",
     "text": [
      "2022-06-08-bahasa-11.json 2022-06-08-bahasa-11.json.normalized\n"
     ]
    },
    {
     "name": "stderr",
     "output_type": "stream",
     "text": [
      "100%|███████████████████████████████████| 100000/100000 [33:19<00:00, 50.02it/s]\n"
     ]
    },
    {
     "name": "stdout",
     "output_type": "stream",
     "text": [
      "2022-06-08-bahasa-12.json 2022-06-08-bahasa-12.json.normalized\n"
     ]
    },
    {
     "name": "stderr",
     "output_type": "stream",
     "text": [
      "100%|███████████████████████████████████| 100000/100000 [33:00<00:00, 50.50it/s]\n"
     ]
    },
    {
     "name": "stdout",
     "output_type": "stream",
     "text": [
      "2022-06-08-bahasa-13.json 2022-06-08-bahasa-13.json.normalized\n"
     ]
    },
    {
     "name": "stderr",
     "output_type": "stream",
     "text": [
      "100%|███████████████████████████████████| 100000/100000 [31:19<00:00, 53.19it/s]\n"
     ]
    },
    {
     "name": "stdout",
     "output_type": "stream",
     "text": [
      "2022-06-08-bahasa-14.json 2022-06-08-bahasa-14.json.normalized\n"
     ]
    },
    {
     "name": "stderr",
     "output_type": "stream",
     "text": [
      "100%|███████████████████████████████████| 100000/100000 [32:51<00:00, 50.72it/s]\n"
     ]
    },
    {
     "name": "stdout",
     "output_type": "stream",
     "text": [
      "2022-06-08-bahasa-15.json 2022-06-08-bahasa-15.json.normalized\n"
     ]
    },
    {
     "name": "stderr",
     "output_type": "stream",
     "text": [
      "100%|███████████████████████████████████| 100000/100000 [33:20<00:00, 49.99it/s]\n"
     ]
    },
    {
     "name": "stdout",
     "output_type": "stream",
     "text": [
      "2022-06-08-bahasa-16.json 2022-06-08-bahasa-16.json.normalized\n"
     ]
    },
    {
     "name": "stderr",
     "output_type": "stream",
     "text": [
      "100%|███████████████████████████████████| 100000/100000 [34:20<00:00, 48.53it/s]\n"
     ]
    },
    {
     "name": "stdout",
     "output_type": "stream",
     "text": [
      "2022-06-08-bahasa-17.json 2022-06-08-bahasa-17.json.normalized\n"
     ]
    },
    {
     "name": "stderr",
     "output_type": "stream",
     "text": [
      "100%|███████████████████████████████████| 100000/100000 [34:29<00:00, 48.32it/s]\n"
     ]
    },
    {
     "name": "stdout",
     "output_type": "stream",
     "text": [
      "2022-06-08-bahasa-18.json 2022-06-08-bahasa-18.json.normalized\n"
     ]
    },
    {
     "name": "stderr",
     "output_type": "stream",
     "text": [
      "100%|███████████████████████████████████| 100000/100000 [35:24<00:00, 47.07it/s]\n"
     ]
    },
    {
     "name": "stdout",
     "output_type": "stream",
     "text": [
      "2022-06-08-bahasa-19.json 2022-06-08-bahasa-19.json.normalized\n"
     ]
    },
    {
     "name": "stderr",
     "output_type": "stream",
     "text": [
      "100%|███████████████████████████████████| 100000/100000 [34:12<00:00, 48.71it/s]\n"
     ]
    },
    {
     "name": "stdout",
     "output_type": "stream",
     "text": [
      "2022-06-08-bahasa-2.json 2022-06-08-bahasa-2.json.normalized\n"
     ]
    },
    {
     "name": "stderr",
     "output_type": "stream",
     "text": [
      "100%|███████████████████████████████████| 100000/100000 [35:19<00:00, 47.17it/s]\n"
     ]
    },
    {
     "name": "stdout",
     "output_type": "stream",
     "text": [
      "2022-06-08-bahasa-20.json 2022-06-08-bahasa-20.json.normalized\n"
     ]
    },
    {
     "name": "stderr",
     "output_type": "stream",
     "text": [
      "100%|███████████████████████████████████| 100000/100000 [36:36<00:00, 45.53it/s]\n"
     ]
    },
    {
     "name": "stdout",
     "output_type": "stream",
     "text": [
      "2022-06-08-bahasa-21.json 2022-06-08-bahasa-21.json.normalized\n"
     ]
    },
    {
     "name": "stderr",
     "output_type": "stream",
     "text": [
      "100%|███████████████████████████████████| 100000/100000 [32:05<00:00, 51.92it/s]\n"
     ]
    },
    {
     "name": "stdout",
     "output_type": "stream",
     "text": [
      "2022-06-08-bahasa-22.json 2022-06-08-bahasa-22.json.normalized\n"
     ]
    },
    {
     "name": "stderr",
     "output_type": "stream",
     "text": [
      "100%|███████████████████████████████████| 100000/100000 [34:04<00:00, 48.92it/s]\n"
     ]
    },
    {
     "name": "stdout",
     "output_type": "stream",
     "text": [
      "2022-06-08-bahasa-23.json 2022-06-08-bahasa-23.json.normalized\n"
     ]
    },
    {
     "name": "stderr",
     "output_type": "stream",
     "text": [
      "  0%|▏                                     | 440/100000 [00:12<34:00, 48.80it/s]"
     ]
    }
   ],
   "source": [
    "from tqdm import tqdm\n",
    "import traceback\n",
    "import json\n",
    "\n",
    "for f in twitters:\n",
    "    filename = os.path.split(f)[1]\n",
    "    output = f'{filename}.normalized'\n",
    "    print(filename, output)\n",
    "    \n",
    "    if os.path.exists(output):\n",
    "        continue\n",
    "    \n",
    "    with open(f) as fopen:\n",
    "        data = json.load(fopen)\n",
    "\n",
    "    results = []\n",
    "    already_in = set()\n",
    "    for row in tqdm(data):\n",
    "        if row['retweet_text_full'] == 'NULL':\n",
    "            t = row['data_text']\n",
    "        else:\n",
    "            t = row['retweet_text_full']\n",
    "\n",
    "        if fasttext.predict([t])[0] not in ['malay', 'rojak']:\n",
    "            continue\n",
    "\n",
    "        if t.lower() in already_in:\n",
    "            continue\n",
    "\n",
    "        tokenized = normalizer._tokenizer(t.lower())\n",
    "        if any([w in tokenized for w in rejected_words]):\n",
    "            continue\n",
    "\n",
    "        if not len(t):\n",
    "            continue\n",
    "\n",
    "        try:\n",
    "            normalized = normalizer.normalize(\n",
    "                t, normalize_hingga = False, normalize_cardinal = False,\n",
    "                normalize_ordinal = False, normalize_pada_hari_bulan = False,\n",
    "                normalize_fraction = False, normalize_money = False, normalize_date = False,\n",
    "                normalize_time = False, normalize_ic = False,\n",
    "                normalize_units = False,\n",
    "                normalize_url = False, normalize_percent=False, normalize_telephone = False,\n",
    "                text_scorer = text_scorer, segmenter = segmenter_func,\n",
    "                not_a_word_threshold = 1e-9,\n",
    "            )['normalize']\n",
    "            \n",
    "            normalized = fix_spacing_punct(normalized)\n",
    "\n",
    "            results.append({'original': t, 'normalized': normalized})\n",
    "            already_in.add(t.lower())\n",
    "        except Exception as e:\n",
    "            print(traceback.format_exc())\n",
    "            print(e)\n",
    "    \n",
    "    with open(output, 'w') as fopen:\n",
    "        json.dump(results, fopen)"
   ]
  },
  {
   "cell_type": "code",
   "execution_count": 34,
   "metadata": {},
   "outputs": [
    {
     "data": {
      "text/plain": [
       "35312"
      ]
     },
     "execution_count": 34,
     "metadata": {},
     "output_type": "execute_result"
    }
   ],
   "source": [
    "len(results)"
   ]
  },
  {
   "cell_type": "code",
   "execution_count": 31,
   "metadata": {},
   "outputs": [
    {
     "data": {
      "text/plain": [
       "[{'original': 'Konon nak beat the crowd, skali Kedai x bukak ahaha @ Chef Ammar Xpress Souk Cafe https://t.co/QrcBlq6ftV',\n",
       "  'normalized': 'Konon nak beat the crowd, sekali kedai tak buka haha @ Chef Ammar Xpress Souk Cafe https://t.co/QrcBlq6ftV'},\n",
       " {'original': 'Rina!!! Kes Bella ni sudah meletup sejak bulan Julai 2021, sudah 9 bulan! Waktu tu kau buat apa? Sekarang bila TMJ petik nama kau, baru nak terhegeh-hegeh. Solidariti Bersama Bella konon! https://t.co/WgB0fDOeOW',\n",
       "  'normalized': 'Rina!!! kes Bella ini sudah meletup sejak bulan Julai 2021, sudah 9 bulan! waktu itu kamu buat apa ? sekarang bila TMJ petik nama kamu, baru nak terhegeh-hegeh. Solidariti Bersama Bella konon! https://t.co/WgB0fDOeOW'},\n",
       " {'original': 'MB Selangor pagi2 dah jawab isu gangguan air tak berjadual di kawasan Keramat. Mana ada MB negeri lain macam saudara @AmirudinShari boleh respond secepat ini dalam Malaysia ni. Untung betul orang Selangor. https://t.co/aNHU63E6bk',\n",
       "  'normalized': 'MB Selangor pagi-pagi dah jawab isu gangguan air tidak berjadual di kawasan keramat. mana ada MB negeri lain macam saudara @AmirudinShari boleh respond secepat ini dalam Malaysia ini. untung betul orang Selangor. https://t.co/aNHU63E6bk'},\n",
       " {'original': 'Jalan jalan cari pasal (@ Hitachi Koki (M) Sdn Bhd in Senai, Johor) https://t.co/uOTnpaNPrs',\n",
       "  'normalized': 'Jalan jalan cari masalah (@ Hitachi koki (M) Sdn Bhd ini Senai, Johor) https://t.co/uOTnpaNPrs'},\n",
       " {'original': 'Korang suka handsock yang mana ? \\n.\\n.\\nMin pilih Handsock Dhiya sebab nampak exclusive sangat. Ada batu batu gituu \\n.\\n.\\nNota : Handsock Meera mempunyai pilihan saiz (S,M,dan L). Handsock Dhiya pula mempunyai pilihan saiz ( XS,S,M dan L) https://t.co/2gpQSO3x3e',\n",
       "  'normalized': 'Kamu Semua suka handsock yang mana ?. . Admin pilih Handsock Dhiya sebab nampak exclusive sangat. ada batu batu begitu. . Nota : Handsock Meera mempunyai pilihan saiz (S, M, dan L). Handsock Dhiya pula mempunyai pilihan saiz (XS, S, M dan L) https://t.co/2gpQSO3x3e'},\n",
       " {'original': 'Rumah Kuarter Cikgu di Pendalaman Sarawak.\\nKredit : Bah Udo Semang.. https://t.co/BXm7UjmfpE',\n",
       "  'normalized': 'Rumah kuarter cikgu di pendalaman Sarawak. kredit : Bah Udo Semang. . https://t.co/BXm7UjmfpE'},\n",
       " {'original': 'Stress ku oleh @hijabistahub__ nang ',\n",
       "  'normalized': 'Stres ku oleh @hijabistahub__ jang'},\n",
       " {'original': 'Kalau tertib di jalanan pasti akan selamat pastikan ada surat dan Sin tas jalan jaga jarak arah jalan lihat lampu a https://t.co/tVeOrD2DdL',\n",
       "  'normalized': 'Kalau tertib di jalanan pasti akan selamat pastikan ada surat dan Sin tas jalan jaga jarak arah jalan lihat lampu ia https://t.co/tVeOrD2DdL'},\n",
       " {'original': 'Saya sebagai org Selangor, satu perkara je saya nak tegaskan. MATI HIDUP BALIK PUN SAYA TAKKAN BAGI UMNO-BN MENGEMUDI SELANGOR. Sekian',\n",
       "  'normalized': 'Saya sebagai orang Selangor, satu perkara sahaja saya nak tegaskan. mati hidup balik pun saya TIDAK AKAN bagi UMNO-BN mengemudi SELANGOR. sekian'},\n",
       " {'original': '8 Emiten Cum Dividen Pekan Ini, Jangan Ketinggalan https://t.co/9BV9OqqJUG',\n",
       "  'normalized': '8 emiten cum dividen Pekan Ini, jangan ketinggalan https://t.co/9BV9OqqJUG'},\n",
       " {'original': 'Gaji berpuluh ribu.\\nBerbulan diam membisu.\\n\\nRakyat berbulan bising.\\nTak ambil pusing.\\n\\nPayung kuning jentik.\\nBaru tergedik-gedik.',\n",
       "  'normalized': 'Gaji berpuluh ribu. berbulan diam membisu. rakyat berbulan bising. Tidak ambil pusing. payung kuning jentik. baru tergedik-gedik .'},\n",
       " {'original': '14:14hrs Kerja penyelenggaraan KM 83.5- KM 84.5 arah Utara dari Ayer Hitam ke Yong Peng. Lorong kiri ditutup. Trafi https://t.co/iP2jEdY4Ib',\n",
       "  'normalized': 'pukul 01.50:05 kerja penyelenggaraan KM 83.5 - KM 84.5 arah utara dari Ayer Hitam ke Yong Peng. lorong kiri ditutup. Trafi https://t.co/iP2jEdY4Ib'},\n",
       " {'original': '#SamKeTing dibebaskan dengan ikat jamin RM10,000 bersama seorang penjamin. Mahkamah Rayuan Putrajaya turut membenarkan permohonan Sam untuk mengemukakan rayuan di Mahkamah Rayuan. @501Awani https://t.co/7f5HM1zuaw',\n",
       "  'normalized': '#SamKeTing dibebaskan dengan ikat jamin RM10,000 bersama seorang penjamin. Mahkamah Rayuan Putrajaya turut membenarkan permohonan Sama untuk mengemukakan rayuan di Mahkamah Rayuan. @501Awani https://t.co/7f5HM1zuaw'},\n",
       " {'original': 'Lupakan khemah besar, dan putrajaya bina kekuatan sendiri.. fokus utk kekalkan Selangor,NS, Penang dan 89 kerusi parlimen itu lg teramat penting\\n\\n2 thn yg PH ada dh di bazirkan pattnya dh kembali kpd rakyat, kalau PH sejak 2 thn dulu balik dkt rkyat, PRU 15 tk mustahil menang bsr',\n",
       "  'normalized': 'Lupakan khemah besar, dan putrajaya bina kekuatan sendiri. . fokus untuk kekalkan Selangor, NS, Penang dan 89 kerusi parlimen itu lagi teramat penting 2 tahun yang PH ada dah di bazirkan patutnya dah kembali kepada rakyat, kalau PH sejak 2 tahun dahulu balik dekat reka yat, PRU 15 tak mustahil menang besar'},\n",
       " {'original': 'Upacara Bendera Bulanan Polres Paser https://t.co/vKKpbYDaC8',\n",
       "  'normalized': 'Upacara Bendera bulanan Polres Paser https://t.co/vKKpbYDaC8'},\n",
       " {'original': 'Percayalah suara sorakan anda mampu membawa sebuah kebanggaan!! Bersiap sedia komrad untuk pertarungan malam esok bersama pasukan JDT menempuh cabaran Korea Selatan!\\n\\nThis is Johor Darul Tazim!!! Lets Loud &amp; Proud!! \\n\\n#ACL2022\\n#BOSFAMILIA https://t.co/gPcUhGtrSM',\n",
       "  'normalized': 'Percayalah suara sorakan anda mampu membawa sebuah kebanggaan!! bersiap sedia komrad untuk pertarungan malam esok bersama pasukan JDT menempuh cabaran Korea Selatan! this si Johor Darul Tazim!!! let si Loud & parodi!! #ACL2022 #BOSFAMILIA https://t.co/gPcUhGtrSM'},\n",
       " {'original': 'Dha hari ke 16 ramadhan. Abam Joe masih setia buka utk uolls utk korang yg teringin makan western best2 https://t.co/PdlYmKP02D',\n",
       "  'normalized': 'dha hari ke 16 ramadhan. Abam Joe masih setia buka untuk kamu semua untuk kamu semua yang teringin makan western best-best https://t.co/PdlYmKP02D'},\n",
       " {'original': '@ayshardzn I settled mine within 1h 15min at Shah Alam branch, yg dkt dalam PKNS tu.',\n",
       "  'normalized': '@ayshardzn Saya settled mine within oh 15 admin pada Shah Alam branch, yang dekat dalam PKNS itu .'},\n",
       " {'original': 'Baru sekarang nak bersolidariti. Kalau tak, orang maki persoal, tagged sana sini pun buat tak tahu je.',\n",
       "  'normalized': 'Baru sekarang nak bersolidariti. kalau tidak, orang maki per soal, tagged sana sini pun buat tidak tahu sahaja .'},\n",
       " {'original': 'Suku Dinas Bina Marga Jakarta Barat tercatat telah memperbaiki sebanyak 7.365 lampu penerangan jalan umum (PJU) sel https://t.co/LW8zYDBHFw',\n",
       "  'normalized': 'Suku Dinas Bina Marga Jakarta Barat tercatat telah memperbaiki sebanyak 7.365 lampu penerangan jalan umum (PJU) sel https://t.co/LW8zYDBHFw'},\n",
       " {'original': 'Resort ini dikeliling dengan hutan dan gunung. Pagi anda akan disajikan dengan pemandangan yang menghijau  Ada air terjun yang sejuk dan nyaman lagi. Nak buat teambuilding pun boleh kat sini. \\n\\nTaiping Bamboo Resort, Taiping , Perak . https://t.co/noGhsXm1up',\n",
       "  'normalized': 'Resort ini di keliling dengan hutan dan gunung. pagi anda akan disajikan dengan pemandangan yang menghijau ada air terjun yang sejuk dan nyaman lagi. nak buat pasukan building pun boleh kat sini. Taiping Bamboo Resort, Taiping, Perak. https://t.co/noGhsXm1up'},\n",
       " {'original': 'Hampir setiap pekan sejak itu, artikelnya dimuat oleh Suara Pembaruan setiap hari Minggu. Cak Rusdi lantas mulai be https://t.co/J6nyTux5hH',\n",
       "  'normalized': 'Hampir setiap pekan sejak itu, artikelnya dimuat oleh Suara Pembaruan setiap hari Minggu. Cak Rusdi lantas mulai jadi https://t.co/J6nyTux5hH'},\n",
       " {'original': '#kltu JALAN IPOH : Sesak dari Selayang sehingga ke Taman Wahyu ekoran daripada kemalangan kereta .\\n\\nSumber : ITIS. https://t.co/ngZxvCDEpH',\n",
       "  'normalized': '#kltu Jalan Ipoh : sesak dari selayang sehingga ke Taman Wahyu ekoran daripada kemalangan kereta. Sumber : ITIS. https://t.co/ngZxvCDEpH'},\n",
       " {'original': 'Nak ada partner tpii rasa diri nie tak layak hmmm',\n",
       "  'normalized': 'Nak ada partner tetapi rasa diri ini tidak layak hmm'},\n",
       " {'original': '@hafidzahhassan1 Hafidzah nasihat saya keep it on ur own, jadi lawyer yg betul2 perjuangkan keadilan dan berperang lah sebaiknya di dalam mahkahmah. Jangan jadi batu api and mengejar popularity dan akhir sekali bezakan lah Manusia dan Syaitan.',\n",
       "  'normalized': '@hafidzahhassan1 Hafidzah nasihat saya keep itu on awak own, jadi lawyer yang betul-betul perjuangkan keadilan dan berperang lah sebaiknya di dalam mahukahmah. Jangan jadi batu api and mengejar popularity dan akhir sekali bezakan lah manusia dan syaitan .'},\n",
       " {'original': 'Salam buat jennie @peyradisee',\n",
       "  'normalized': 'Salam buat jennie @peyradisee'},\n",
       " {'original': 'Apa motif awak sebenarnya? ',\n",
       "  'normalized': 'Apa motif awak sebenarnya ?'},\n",
       " {'original': 'Kalau ikut aksi atau demonstrasi, terus hanya foto-foto. Lalu di posting dengan caption; \"panjang umur perjuangan\". https://t.co/GrVILhMxZM',\n",
       "  'normalized': 'Kalau ikut aksi atau demonstrasi, terus hanya foto-foto. lalu di posting dengan caption ; \" panjang umur perjuangan \". https://t.co/GrVILhMxZM'},\n",
       " {'original': '@RajaMohdShahrim My BIL pernah mengajar di sebuah sekolah di pendalaman Sarawak in 1980s for few years.  In 2019, dia pergi balik tempat tersebut, surprisingly, ITS THE SAME OLD BUILDING.  . Almost tiada penambahbaikan. Mereka betul2 mengekalkan keaslian sekolah tu.  ',\n",
       "  'normalized': '@RajaMohdShahrim My bil pernah mengajar di sebuah sekolah di pendalaman Sarawak ini 1980s for few years. ini 2019, dia pergi balik tempat tersebut, surprisingly, its the SAMA Old Building. . almost tiada penambahbaikan. mereka betul-betul mengekalkan keaslian sekolah itu .'},\n",
       " {'original': 'TERKINI\\n\\nMahkamah Rayuan membenarkan Sam Ke Ting untuk membuat rayuan\\n\\nSam Ke Ting sebelum ini dihukum Penjara 6 tahun dan didenda RM 6,000 kerana kecuaian yg menyebabkan kematian 8 org kanak-kanak penunggang basikal di Johor',\n",
       "  'normalized': 'terkini Mahkamah Rayuan membenarkan Sama ke Ting untuk membuat rayuan Sama ke Ting sebelum ini dihukum penjara 6 tahun dan didenda RM 6,00 kerana kecuaian yang menyebabkan kematian 8 orang kanak-kanak penunggang basikal di Johor'},\n",
       " {'original': '@adzman86 @HermyRahim @AmirudinShari Dia ada reply terima kasih tak kat MB Selangor bg respon tu? Ke mmg saja cari salah?',\n",
       "  'normalized': '@adzman86 @HermyRahim @AmirudinShari dia ada reply terima kasih tidak kat MB Selangor bagi respon itu ? ke memang sahaja cari salah ?'},\n",
       " {'original': 'Banyak yang komen melawak dan main dengan soalan ni.\\n\\nWahai isteri bukan no pin ATM je kena mintak, jom follow thread ni  https://t.co/dq47IToxQp',\n",
       "  'normalized': 'Banyak yang komen melawak dan main dengan soalan ini. wahai isteri bukan uno pin ATM sahaja kena minta, som follow thread ini https://t.co/dq47IToxQp'},\n",
       " {'original': '@sdc1000_id SD C1000 adalah vitamin C yang dikemaa dalam serbuk effervescent yang cepat dan mudah larut serta membe https://t.co/TiYqFgpoKM',\n",
       "  'normalized': '@sdc100_id SD C100 adalah vitamin C yang di kemana dalam serbuk effervescent yang cepat dan mudah larut serta membara https://t.co/TiYqFgpoKM'},\n",
       " {'original': 'haraplah dua dua parcel sampai bfr saya balik melaka ',\n",
       "  'normalized': 'haraplah dua dua parcel sampai sebelum saya balik melaka'},\n",
       " {'original': 'SOLIDARITI BERSAMA BELLA : KPWKM SEDIA MENGHADAP TUNKU MAHKOTA JOHOR https://t.co/kZfulfY4V8',\n",
       "  'normalized': 'SOLIDARITI BERSAMA Bella : KPWKM sedia menghadap Tunku Mahkota Johor https://t.co/kZfulfY4V8'},\n",
       " {'original': 'Saya minta maaf tapi saya rasa geram! Feudalnya menteri ini terserlah. Kes anakanda Bella sepatutnya JKM utamakan sedari awal bukan bila ada golongan di raja  masuk campur baru nak bersungguh. Ini negara rakyat, negara demokrasi. No one is above another!',\n",
       "  'normalized': 'Saya meminta maaf tetapi saya rasa geram! feudalnya menteri ini terserlah. kes anakanda Bella sepatutnya JKM utamakan sedari awal bukan bila ada golongan di raja masuk campur baru nak bersungguh. ini negara rakyat, negara demokrasi. uno one si above another!'},\n",
       " {'original': 'Meh sapa lagi mahu order ? \\n\\nSTOCK TERHAD \\n\\nShopee purchase :  https://t.co/NpLDSq9CJz\\n\\nWhatsapp : https://t.co/Cpw23SjPDY',\n",
       "  'normalized': 'mari siapa lagi mahu order ? stock terhad Shopee purchase : https://t.co/NpLDSq9CJz Whatsapp : https://t.co/Cpw23SjPDY'},\n",
       " {'original': '21:00  \\nUlsan Hyundai FC VS Johor Darul Takzim\\n https://t.co/9Fni2VmFQU\\n#AFC #ChampionsLeague',\n",
       "  'normalized': 'pukul 21 Ulsan Hyundai FC visi Johor Darul Takzim https://t.co/9Fni2VmFQU #AFC #ChampionsLeague'},\n",
       " {'original': 'hilang dah sabar aku dengan si Achik ni. kalau aku rembat dia dekat Danau Kota ni baru dia tau orang yang tak 3 Lin https://t.co/tXV6lN6DRu',\n",
       "  'normalized': 'hilang dah sabar aku dengan si Achik ini. kalau aku rembat dia dekat Danau Kota ini baru dia tahu orang yang tidak 3 Lin https://t.co/tXV6lN6DRu'},\n",
       " {'original': 'Sebenarnya ada banyak lagi tempat sekitar Lembah Klang yang lu boleh beli nasi Arab, seribu kali lebih authentic dan jauh lebih murah. Lamb shank tu propa aje padahal Arab tak buat macam tu pun, orang lebih suka daging kambing segar.\\n\\nBebenang',\n",
       "  'normalized': 'Sebenarnya ada banyak lagi tempat sekitar Lembah Klang yang kamu boleh beli nasi Arab, seribu kali lebih authentic dan jauh lebih murah. Lamb shank itu propaganda saja padahal Arab tidak buat macam itu pun, orang lebih suka daging kambing segar. bebenang'},\n",
       " {'original': 'mau gak? https://t.co/JarhCT7J9S',\n",
       "  'normalized': 'mahu juga ? https://t.co/JarhCT7J9S'},\n",
       " {'original': '@Newlife2809253 Hehehheh wajib tambah satu kurta',\n",
       "  'normalized': '@Newlife2809253 haha wajib tambah satu kuota'},\n",
       " {'original': '@foulingmark Ada jual x?  ',\n",
       "  'normalized': '@foulingmark ada jual tak ?'},\n",
       " {'original': 'Perbuatan itu didakwa dilakukan di Institut Pemulihan Dadah Jelebu, Jabatan Penjara Malaysia pada 10 April lepas. https://t.co/ae7dcLAltL',\n",
       "  'normalized': 'Perbuatan itu didakwa dilakukan di Institut Pemulihan Dadah Jelebu, Jabatan Penjara Malaysia pada 10 April lepas. https://t.co/ae7dcLAltL'},\n",
       " {'original': 'Sebab ex aku chub taw,dia kalo balik bera aku tak kasi dia diet,kadang2 aku anta dessert kat rumah dia,sbb aku ni bosankan tu sbb kite org putus',\n",
       "  'normalized': 'Sebab bekas aku chub, dia kalau balik bera aku tidak bagi dia diet, kadang-kadang aku anta dessert kat rumah dia, sebab aku ini bosankan itu sebab kite orang putus'},\n",
       " {'original': '@adahahhar1021 Iyaa daha', 'normalized': 'haha iya dah la'},\n",
       " {'original': \"Aliran Dana Asing Kian Deras, IHSG di Awal Pekan 'Semringah' https://t.co/E0Lmeeosw3\",\n",
       "  'normalized': \"Aliran Dana Asing kian deras, IHSG di Awal Pekan ' Semringah' https://t.co/E0Lmeeosw3\"},\n",
       " {'original': 'Muda akan dilancarkan di Sabah sebelum PRU15 di tengah-tengah ketegangan dengan Warisan - https://t.co/SOsQUtMPPx\\nK https://t.co/aPts0jQg2m',\n",
       "  'normalized': 'Muda akan dilancarkan di Sabah sebelum PRU15 di tengah-tengah ketegangan dengan Warisan - https://t.co/SOsQUtMPPx Okay https://t.co/aPts0jQg2m'},\n",
       " {'original': '@tierahhh Raya 1 ipoh, 2 ke johor',\n",
       "  'normalized': '@tierahh Raya 1 ipoh, 2 ke johor'},\n",
       " {'original': '@shafiqamdkhairi Nk ngepos tu yg malas ',\n",
       "  'normalized': '@shafiqamdkhairi Nak mengepos itu yang malas'},\n",
       " {'original': '@zongic Tenggara', 'normalized': '@zongic tenggara'},\n",
       " {'original': 'Rehat td tido kat surau.  Sllu klau tido . Kalau org masuk smbhyg.  Ak bangun.  Tp sbb kat office tak ramai harinj. https://t.co/u8z2mlOy82',\n",
       "  'normalized': 'Rehat tadi tidur kat surau. Selalu kalau tidur. Kalau orang masuk sembahyang. Aku bangun. Tetapi sebab kat office tidak ramai hari ni. https://t.co/u8z2mlOy82'},\n",
       " {'original': 'Jadwal Siaran Langsung La Liga Pekan Ini di beIN Sport dan Vidio, 19-22 April 2022 - https://t.co/kpmQt1cweG https://t.co/rAf8g7XBDw',\n",
       "  'normalized': 'Jadwal Siaran Langsung Lah Liga Pekan Ini di jadi IN Sport dan Vidio, 19 - 22 April 2022 - https://t.co/kpmQt1cweG https://t.co/rAf8g7XBDw'},\n",
       " {'original': '@iqbalsangajii @Lampung__01 @jowoshitpost AGAMA TETEP AGAMA. GASUKA GELUT KITA',\n",
       "  'normalized': '@iqbalsangajii @Lampung__01 @jowoshitpost agama TETAP Agama. GASUKA gelut kita'},\n",
       " {'original': 'Artistic Journey of My Family from Pasir Salak through Lubok Merbau Kuala Kangsar to 66empangan Bukit Hikmat Rimba Warisan Tmn Melawati Ulu Klang . Before After together Ever After. Forever ever. Riyal Al Marbawi and Al MANDALI KHALIDI SG.CINCIN. GOMBAK. https://t.co/pRPwxPsPbr',\n",
       "  'normalized': 'artistic Journey of My Keluarga from Pasir Salak through Lubok Merbau Kuala Kangsar kepada 66 empangan Bukit hikmat Rimba warisan Teman melawati Ulu Klang. before after together Ever After. Forever ever. riyal Al Marbawi and la Mandali Khalidi Sg. cincin. Gombak. https://t.co/pRPwxPsPbr'},\n",
       " {'original': 'Mee Tonggek Putrajaya diarah tutup. Hanya dengan satu video yang meragukan tu, habis bisnes dorg. Bertahun2 bertapak kat bazar Ramadan Putrajaya, imi la kali pertama dapat komplen yg diviralkan. https://t.co/v8vSaj8XcM',\n",
       "  'normalized': 'Mee Tonggek Putrajaya diarah tutup. hanya dengan satu video yang meragukan itu, habis bisnes mereka. bertahun-bertahun bertapak kat bazar Ramadan Putrajaya, ini lah kali pertama dapat komplen yang diviralkan. https://t.co/v8vSaj8XcM'},\n",
       " {'original': 'Kartu Menuju Sehat. https://t.co/5CHC6Ijnl0',\n",
       "  'normalized': 'Kartu Menuju Sehat. https://t.co/5CHC6Ijnl0'},\n",
       " {'original': '@AlifLifz @mukrizafif Eh aah lah haha',\n",
       "  'normalized': '@AlifLifz @mukrizafif teh betul lah haha'},\n",
       " {'original': 'pria yang terlahir dengan nama LewYunPau di Pahang, Malaysia itu turun ke kolong jembatan dan turun kolong tempat perempuan dengan dua anaknya itu menetap selama ini. \"Sayunya hati terjumpa seorang wanita mempunyai dua anak tinggal di bawah kolong jembatan Tanah Abang Jakarta,\" https://t.co/ifgoWVYBWO',\n",
       "  'normalized': 'pria yang terlahir dengan nama LewYunPau di Pahang, Malaysia itu turun ke kolong jembatan dan turun kolong tempat perempuan dengan dua anaknya itu menetap selama ini. \" Sayunya hati terjumpa seorang wanita mempunyai dua anak tinggal di bawah kolong jembatan Tanah Abang Jakarta, \" https://t.co/ifgoWVYBWO'},\n",
       " {'original': 'Ayam pandan https://t.co/HFBB8ydePc',\n",
       "  'normalized': 'ayam pandan https://t.co/HFBB8ydePc'},\n",
       " {'original': 'Di mana 100 persennya teknologi ini kami ciptakan sendiri, jelas Business Manager PT Alam Virtual Semesta Dwi Wahy https://t.co/8ZKZqurRLa',\n",
       "  'normalized': 'di mana 100 persennya teknologi ini kami ciptakan sendiri, jelas Business Manager PT alam virtual semesta Dwi wahyu https://t.co/8ZKZqurRLa'},\n",
       " {'original': '@yannanizamm_ Tak jauh beza pun you. No no no, sunghoon ',\n",
       "  'normalized': '@yannanizamm_ Tidak jauh beza pun you. uno uno uno, sung hoon'},\n",
       " {'original': '@NachtNaa @akucewe___ Kabur kemana',\n",
       "  'normalized': '@NachtNaa @akucewe__ kabur ke mana'},\n",
       " {'original': 'Semua Butuh Waktu  https://t.co/oLfSzdaX3T',\n",
       "  'normalized': 'Semua Butuh Waktu https://t.co/oLfSzdaX3T'},\n",
       " {'original': '@TogogNdugalNNEH Lawas malah ini ',\n",
       "  'normalized': '@TogogNdugalNNEH lawas malah ini'},\n",
       " {'original': '\"Renovasi Pagar Pesantren\"\\n\\nKebutuhan\\n-Semen 70 Sak (56rb/Sak)\\n-Pasir 8 M (150rb/M)\\n-Batu Bata 7000 Pcs (500/Pcs) https://t.co/1rdAZ24kKp',\n",
       "  'normalized': '\" renovasi pagar pesantren \" kebutuhan - semen 70 sak (56rb / sak) - Pasir 8 M (150rb / M) - Batu Bata 7000 pas (500 / pas) https://t.co/1rdAZ24kKp'},\n",
       " {'original': 'Ko ingat dia saja-saja ke nak tutup? Kalau tak ikut SOP penyediaan makanan, tutup la. Nak kena tunggu orang mati keracunan makanan dulu ke baru nak tutup?',\n",
       "  'normalized': 'Kamu ingat dia saja-saja ke nak tutup ? kalau tidak ikut TATACARA PENGENDALIAN PIAWAI penyediaan makanan, tutup lah. nak kena tunggu orang mati keracunan makanan dahulu ke baru nak tutup ?'},\n",
       " {'original': '@eskrimaice_ egxx,,, makan batu aq',\n",
       "  'normalized': '@eskrimaice_ egxx, ,, makan batu aku'},\n",
       " {'original': 'MotoGP 2022 sudah memasuki seri-seri di Eropa. Race di Portimao akan digelar pada akhir pekan ini, jadwal MotoGP Po https://t.co/D012DqLZ8g',\n",
       "  'normalized': 'MotoGP 2022 sudah memasuki seri-seri di Eropa. Race di Portimao akan digelar pada akhir pekan ini, jadwal MotoGP puo https://t.co/D012DqLZ8g'},\n",
       " {'original': 'jennie pas masih nge kos di tambun https://t.co/dEVk178YDn',\n",
       "  'normalized': 'jennie pas masih tidak kos di tambun https://t.co/dEVk178YDn'},\n",
       " {'original': '#InfoOnWheels Jabatan Penerangan Negeri Perlis\\n\\nTarikh : 18.04.2022 (Isnin)\\nMasa : 9.40 pagi\\nLokasi : Parlimen Pada https://t.co/9maiLYoqSX',\n",
       "  'normalized': '#InfoOnWheels Jabatan Penerangan Negeri Perlis tarikh : 18.04. 2022 (Isnin) masa : pukul 09.40 Lokasi : Parlimen pada https://t.co/9maiLYoqSX'},\n",
       " {'original': 'KOHATI PB HMI, Umiroh Fauziah mengapresiasi langkah Menteri BUMNErick Thohirdalam pencegahan kekerasan seksual di https://t.co/xrpQNwJckn',\n",
       "  'normalized': 'KOHATI PB HMI, Umiroh Fauziah mengapresiasi langkah Menteri BUMNErick Thohirdalam pencegahan kekerasan seksual di https://t.co/xrpQNwJckn'},\n",
       " {'original': 'Adik sepang terpancut kat bom ash  Smpai ke muka lgi tu  https://t.co/mpvjDbKoYV',\n",
       "  'normalized': 'Adik sepang terpancut kat bom ash Sampai ke muka lagi itu https://t.co/mpvjDbKoYV'},\n",
       " {'original': 'CHEQUE AJAK MATI DARIPADA KERAJAAN BRITANNIA OGLOOSH VORONDAR STREET MONARCHI WISDOM ALBION UNSAAR ALVIA REGUYAAZ. . MAKSIH UNTUK AKU',\n",
       "  'normalized': 'cheque Ajak mati daripada kerajaan Britannia OGLOOSH VORONDAR Street MONARCHI Wisdom Albion UNSAAR Alvia REGUYAAZ. . TERIMA KASIH untuk aku'},\n",
       " {'original': 'Al Ghazali memohon doa untuk kelancaran operasi batu empedu Maia Estianty. https://t.co/0aWMgdKHa4',\n",
       "  'normalized': 'Al Ghazali memohon doa untuk kelancaran operasi batu empedu Maia Estianty. https://t.co/0aWMgdKHa4'},\n",
       " {'original': '@dejureddy Ejahhh gmbr colekkk kelate skaliii.',\n",
       "  'normalized': '@dejureddy Ejahh gambar colek kelantan sekali .'},\n",
       " {'original': 'Jasad Mahasiswa Kedokteran Brawijaya Ditemukan di Parit https://t.co/AwtexFqk2Q',\n",
       "  'normalized': 'Jasad Mahasiswa Kedokteran Brawijaya ditemukan di parit https://t.co/AwtexFqk2Q'},\n",
       " {'original': 'Hi semua, sesiapa sedang mencari pekerjaan boleh tengok dalam list tu kot ada yang sesuai untuk anda atau kenalan anda boleh terus email resume pada saya (Khidhir.MohdNoh@lamresearch.com)\\n\\nCompany: Lam Research SDN BHD\\nLocation: Batu Kawan, Penang https://t.co/isiAFvfD8l',\n",
       "  'normalized': 'Hi semua, sesiapa sedang mencari pekerjaan boleh tengok dalam list itu mungkin ada yang sesuai untuk anda atau kenalan anda boleh terus email resume pada saya (Khidhir.MohdNoh@lamresearch.com) Syarikat : Lam Research SDN BHD location : Batu Kawan, Penang https://t.co/isiAFvfD8l'},\n",
       " {'original': \"Ni ke rupa profesion yang di kata 'professional' sangat? Memalukan negara je. Dah cukup sial negara ni jangan di ta https://t.co/7txifIaQW2\",\n",
       "  'normalized': \"Ini ke rupa profesion yang di kata ' professional' sangat ? memalukan negara sahaja. Dah cukup sial negara ini jangan di la https://t.co/7txifIaQW2\"},\n",
       " {'original': '@PrinceRayDauz Selamat Petang ',\n",
       "  'normalized': '@PrinceRayDauz selamat petang'},\n",
       " {'original': '@syukur_ray @fikriafq Yc pm aku kata salah org perlis. Betul ke?',\n",
       "  'normalized': '@syukur_ray @fikriafq Yc private message aku kata salah orang perlis. betul ke ?'},\n",
       " {'original': 'Nanostix neo Raya Edition dah ada guys. Boleh order dari website kami:\\n\\nhttps://t.co/PKfcx9JhzO\\n\\nor can wave  for w https://t.co/sHw21PduXo',\n",
       "  'normalized': 'Nanostix neo Raya Edition dah ada guys. boleh order dari website kami : https://t.co/PKfcx9JhzO atau can wave for wa https://t.co/sHw21PduXo'},\n",
       " {'original': \"I'm at Hameediyah Restaurant in Jalan Baharu, Penang https://t.co/v5LwcMGNtX https://t.co/t4j0uTm6AS\",\n",
       "  'normalized': 'Saya am pada Hameediyah Restaurant ini Jalan Baharu, Penang https://t.co/v5LwcMGNtX https://t.co/t4j0uTm6AS'},\n",
       " {'original': '@sheaqa Best takk berpantanggg hehe. Pantang kat subang ke?',\n",
       "  'normalized': '@sheaqa Best tidak berpantang hehe. pantang kat subang ke ?'},\n",
       " {'original': 'Order nasi goreng USA. Sampai USA dia pergi. Gila betul',\n",
       "  'normalized': 'Order nasi goreng USAH. sampai USAH dia pergi. gila betul'},\n",
       " {'original': '@inspira891 Betul tu..mmg selalu kena macam tu',\n",
       "  'normalized': '@inspira891 betul itu. memang selalu kena macam itu'},\n",
       " {'original': 'rupanya bukan saya awal, sv saya duduk office bawah. dah guane? hahahahhaha aku tetap lambat',\n",
       "  'normalized': 'rupanya bukan saya awal, si saya duduk office bawah. bagaimana ? haha aku tetap lambat'},\n",
       " {'original': '@sdc1000_id @sellayessica SD C-1000 adalah vitamin C yang dikemas dalam serbuk effervescent sehingga cepat dan muda https://t.co/zYooOSTCUb',\n",
       "  'normalized': '@sdc100_id @sellayessica SD C-1000 adalah vitamin C yang dikemas dalam serbuk effervescent sehingga cepat dan muda https://t.co/zYooOSTCUb'},\n",
       " {'original': 'Bunyi kelakar kan. sah2 drg lari dari penjara. takkan dilarikan pulak. tapi tu lah dia, tetap mengaku tak bersalah',\n",
       "  'normalized': 'Bunyi kelakar kan. sah-sah dorong lari dari penjara. tidak akan dilarikan pula. tetapi itu lah dia, tetap mengaku tidak bersalah'},\n",
       " {'original': 'duduk sarawak pun rasa macam lama je lagi nak berbuka haha.',\n",
       "  'normalized': 'duduk sarawak pun rasa macam lama sahaja lagi nak berbuka haha .'},\n",
       " {'original': 'Alhamdulillah. Lama tak nampak Menteri kita ni kan. Melainkan orang Sepang lah sebab dia selalu ada di Sepang je.',\n",
       "  'normalized': 'Alhamdulillah. lama tidak nampak menteri kita ini kan. melainkan orang Sepang lah sebab dia selalu ada di Sepang sahaja .'},\n",
       " {'original': 'KENA TEGUR BARU NAK BUAT',\n",
       "  'normalized': 'Kena Tegur baru nak buat'},\n",
       " {'original': 'MAVCOM goyang kaki tengok je harga melambung',\n",
       "  'normalized': 'MAVCOM goyang kaki tengok sahaja harga melambung'},\n",
       " {'original': 'BNNP Jambi Bongkar Jaringan Narkotika di Kalangan Supir Truk Batu Bara https://t.co/XNyRwqgDVx https://t.co/uswcittBSM',\n",
       "  'normalized': 'BNNP Jambi Bongkar Jaringan narkotika di kalangan supir truk Batu Bara https://t.co/XNyRwqgDVx https://t.co/uswcittBSM'},\n",
       " {'original': 'No lagu raya selagi belum masuk 21 Ramadhan \\n\\nSambung pasang lagu Broery Marantika ',\n",
       "  'normalized': 'No lagu raya selagi belum masuk 21 Ramadhan sambung pasang lagu Broery Marantika'},\n",
       " {'original': 'aku sebenarnya bawak hati . merajuk hahaha terasa banyak dengan parents . tapi aku tau aku sebagai anak takde hak h https://t.co/YSEA0mPpUy',\n",
       "  'normalized': 'aku sebenarnya bawa hati. merajuk haha terasa banyak dengan parents. tetapi aku tahu aku sebagai anak tiada hak oh https://t.co/YSEA0mPpUy'},\n",
       " {'original': 'Same with me !!! \\nTengok nama pun suda meloyakan..',\n",
       "  'normalized': 'Sama with me!!! tengok nama pun sudah meloyakan. .'},\n",
       " {'original': '@chiayitay No. plat Sabah ikut Daerah besar, just take note abjad kedua sebab semua start dengan S. \\n\\nK. Kinabalu      - SA, SY\\nTawau               - ST, SW\\nSandakan         - SS, SM\\nLahad Datu      - SD\\nKeningau          - SU\\nKudat                - SK\\nBeaufort           - SB',\n",
       "  'normalized': '@chiayitay uno. plat Sabah ikut daerah besar, just take note abjad kedua sebab semua start dengan S. Okay. Kinabalu - ia, saya Tawau - St, SW Sandakan - SS, SM Lahad Datu - SD Keningau - isu Kudat - SK Beaufort - SB'},\n",
       " {'original': 'Kita singgah kolej jap je lps tu balik umah semula https://t.co/M2x7WYE6FG',\n",
       "  'normalized': 'Kita singgah kolej jap sahaja lepas itu balik umah semula https://t.co/M2x7WYE6FG'},\n",
       " {'original': 'Alhamdulillah saya telah melancarkan Program Semarak Ramadan iaitu jualan murah sempena ramadan anjuran Koperasi Bera (KOPBERA). \\n\\nJualan murah dengan potongan sehingga 50%\\n\\nSemoga dapat meringankan bebanan pengguna warga Bera berbelanja untuk persediaan sambutan Aidilfitri. https://t.co/V60mJcldnb',\n",
       "  'normalized': 'Alhamdulillah saya telah melancarkan program Semarak Ramadan iaitu jualan murah sempena ramadan anjuran Koperasi Bera (KOPBERA). jualan murah dengan potongan sehingga 50% semoga dapat meringankan bebanan pengguna warga Bera berbelanja untuk persediaan sambutan Aidilfitri. https://t.co/V60mJcldnb'},\n",
       " {'original': 'Mukmin itu bersikap ramah dan tidak suka berbantah-bantahan.\\n\\nJika dia terima sesuatu dia memuji Allah,\\nJika dia me https://t.co/JyjjDHCxVR',\n",
       "  'normalized': 'Mukmin itu bersikap ramah dan tidak suka berbantah-bantahan. jika dia terima sesuatu dia memuji Allah, jika dia me https://t.co/JyjjDHCxVR'},\n",
       " {'original': '@IqwanAlif Sabar jelat sedekahkan Al-Fatihah tu igt doa anak yg soleh membantu ayah obu di sana',\n",
       "  'normalized': '@IqwanAlif sabar jelat sedekahkan Al-Fatihah itu ingat doa anak yang soleh membantu ayah ibu di sana'},\n",
       " {'original': 'Serendah RM20 boleh dapat satu box brownies bersize 8 inci  Kita sediakan banyak pilihan yang boleh dipilih \\n\\nDELIVERY AREA (by Lalamove) :\\n JOHOR &amp; BATU PAHAT\\n SELANGOR &amp; K.SELANGOR \\n KL &amp; SUNWAY KAYANGAN \\n MELAKA\\n NEGERI SEMBILAN \\nhttps://t.co/8yaCnJLs1P https://t.co/rm6lWaUMU1',\n",
       "  'normalized': 'serendah RM20 boleh dapat satu box brownies bersaiz 8 inci kita sediakan banyak pilihan yang boleh dipilih Delivery KAWASAN (dengan Lalamove) : Johor & BATU PAHAT SELANGOR & Okay. SELANGOR KUALA LUMPUR & Sunway Kayangan Melaka NEGERI SEMBILAN https://t.co/8yaCnJLs1P https://t.co/rm6lWaUMU1'},\n",
       " {'original': '@syfiqhafizuddin Tak dah tanya.. Its not from him. Tu vacuum yg terkangkang blkg kotak tu fav dia sbb boleh mop skali.',\n",
       "  'normalized': '@syfiqhafizuddin Tidak dah tanya. . its not from him. Itu vacuum yang terkangkang belakang kotak itu kegemaran dia sebab boleh mop sekali .'},\n",
       " {'original': 'JAWATAN KOSONG\\nKHAI SENG PACKAGING INDUSTRIES SDN BHD, BERCHAM, PERAK\\n\\n1: OPERATOR PENGELUARAN \\n2: SALES &amp; MARKETING EXECUTIVE (KUALA LUMPUR)\\n3: PRODUCTION PLANNER\\n\\n   https://t.co/av6xfew8Dj\\n\\n https://t.co/fNatdlABGE\\n (Isnin - Jumaat | 9AM- 5PM - Tidak termasuk cuti umum) https://t.co/0dZ2MWDJr9',\n",
       "  'normalized': 'Jawatan kosong Khai Seng packaging Industries SDN BHD, Bercham, Perak 1 : operator pengeluaran 2 : Sales & Marketing Executive (KUALA LUMPUR) 3 : Production Planner https://t.co/av6xfew8Dj https://t.co/fNatdlABGE (Isnin - Jumaat | pukul 09 - pukul 17 - tidak termasuk cuti umum) https://t.co/0dZ2MWDJr9'},\n",
       " {'original': 'selamat menyambut ramandan al mubarak geng islam',\n",
       "  'normalized': 'selamat menyambut raman dan la mubarak geng islam'},\n",
       " {'original': 'Baru saja mengirim foto @ Kabupaten Sanggau https://t.co/4QqFT6lwqI',\n",
       "  'normalized': 'Baru sahaja mengirim foto @ Kabupaten Sanggau https://t.co/4QqFT6lwqI'},\n",
       " {'original': 'JAWATAN KOSONG ARAS EMPIRE STEEL INDUSTRY SDN BHD, Kuala Kangsar/ Manjung, Perak\\n\\n5 CONTENT CREATOR\\n6 DRAFTER-PELUKIS TEKNIKAL\\n7 PEMBANTU JURUKIMPAL\\n8 PEMANDU LORI MERANGKAP PEMBANTU JURUKIMPAL\\n\\n https://t.co/bSQRpHc4MF\\n\\n https://t.co/T6IdHDy8sq\\nIsnin - Jumaat | 9am - 5pm https://t.co/RTfkFAcL57',\n",
       "  'normalized': 'Jawatan kosong aras Empire Steel Industry SDN BHD, Kuala Kangsar / Manjung, Perak 5 content creator 6 DRAFTER-PELUKIS teknikal 7 pembantu jurukimpal 8 pemandu lori merangkap Pembantu jurukimpal https://t.co/bSQRpHc4MF https://t.co/T6IdHDy8sq Isnin - Jumaat | pukul 09 - pukul 17 https://t.co/RTfkFAcL57'},\n",
       " {'original': '@qylaazmi Yes betul, Selangor selected areas sbb kita dkt Taman Puncak Jalil Seri Kembangan, blh dtg pickup juga ',\n",
       "  'normalized': '@qylaazmi Yes betul, Selangor selected areas sebab kita dekat Taman Puncak Jalil Seri Kembangan, boleh datang pickup juga'},\n",
       " {'original': '#Tumpat Jabatan Kesihatan Negeri Kelantan (JKNK) mengeluarkan sebanyak 57 notis kompaun di bawah Seksyen 32B Akta Makanan 1983 kepada pengendali makanan yang melakukan kesalahan sepanjang Ramadan ini.\\nhttps://t.co/1G1Iz5Hcnn',\n",
       "  'normalized': '#Tumpat Jabatan Kesihatan Negeri Kelantan (JKNK) mengeluarkan sebanyak 57 notis kompaun di bawah Seksyen 32B Akta Makanan 1983 kepada pengendali makanan yang melakukan kesalahan sepanjang Ramadan ini. https://t.co/1G1Iz5Hcnn'},\n",
       " {'original': 'Menjunjung Kasih Tuanku atas sudi perkenan menyampaikan Titah Ucapan di Istiadat Pembukaan  Persidangan Pertama (Perasmian), Penggal Kelima Dewan Undangan Negeri, Negeri Sembilan Yang Ke-14. https://t.co/vasxTMiflI',\n",
       "  'normalized': 'Menjunjung Kasih Tuanku atas sudi perkenan menyampaikan Titah Ucapan di Istiadat Pembukaan Persidangan Pertama (perasmian), Penggal Kelima Dewan Undangan Negeri, Negeri Sembilan Yang Ke-14. https://t.co/vasxTMiflI'},\n",
       " {'original': '@playez_derhaka Sebab tahun ni tak tahu feel raya mcm mana dab hilang dirompak carona',\n",
       "  'normalized': '@playez_derhaka sebab tahun ini tidak tahu feel raya macam mana dab hilang dirompak car on ia'},\n",
       " {'original': 'Dia kata di shah alam section 13 still buka lagi, to manusia kejam please jangan niaya orang kesian dia. Siapa2 jumpa dia bagi lah semangat and support his business, kalau business dia maju jangan lah sihir dia tu rezeki dia, mungkin rezeki kau rezeki jenis lain/tempat lain ',\n",
       "  'normalized': 'Dia kata di shah alam section 13 still buka lagi, kepada manusia kejam please jangan aniaya orang kesian dia. Siapa2 jumpa dia bagi lah semangat and support his business, kalau business dia maju jangan lah sihir dia itu rezeki dia, mungkin rezeki kamu rezeki jenis lain / tempat lain'},\n",
       " {'original': 'sabar cha sabar krn ntr lu lbh emosi lg  https://t.co/oEZz5GqpLF',\n",
       "  'normalized': 'sabar cha sabar kerana hantar kamu lebih emosi lagi https://t.co/oEZz5GqpLF'},\n",
       " {'original': 'Staff dekat amway kuantan ni semua tak friendly pastu jawab pon nak taknak. Tak helpful langsung, bukan awak sorang https://t.co/HLWt0PB6IN',\n",
       "  'normalized': 'Staf dekat am way kuantan ini semua tidak friendly lepas itu jawab pun nak tidak mahu. Tidak helpful langsung, bukan awak seorang https://t.co/HLWt0PB6IN'},\n",
       " {'original': '@timjustine haha sendat semua baju lak mn mkn bertambah',\n",
       "  'normalized': '@timjustine haha sendat semua baju lak mana makin bertambah'},\n",
       " {'original': '@thelast_demigod Kau sebenarnya hipokrit Sabahan.Kau pilih apa yg kau suka,&amp; identiti Sabah yg kau tak suka kau bua https://t.co/IscUP4t85v',\n",
       "  'normalized': '@thelast_demigod Kamu sebenarnya hipokrit Sabahan. Kamu pilih apa yang kamu suka, & identiti Sabah yang kamu tidak suka kamu dua https://t.co/IscUP4t85v'},\n",
       " {'original': 'X hujan pun xda air. Pelik ranau ni',\n",
       "  'normalized': 'Tak hujan pun tidak ada air. pelik Ranau ini'},\n",
       " {'original': 'Teringat kes catfish dekat Twitter around 10 tahun lepas. Ada sakit kronik, pakai wheelchair, tinggi ilmu agama, puisi bagai, family semua Mati accident ke apa ntah, and dia kaya raya. \\n\\nLast2 kantoi. Hasil selidik, org berusia da stay Terengganu ',\n",
       "  'normalized': 'Teringat kes catfish dekat Twitter around 10 tahun lepas. ada sakit kronik, pakai wheelchair, tinggi ilmu agama, puisi bagai, family semua mati accident ke apa entah, and dia kaya raya. Last2 terbongkar rahsia. hasil selidik, orang berusia dah stay Terengganu'},\n",
       " {'original': 'omg peuni ikutannn???',\n",
       "  'normalized': 'ya tuhanku reuni ikutan ? ? ?'},\n",
       " {'original': '@ahmeddzoufaqa haha begitulah haha',\n",
       "  'normalized': '@ahmeddzoufaqa haha begitulah haha'},\n",
       " {'original': '@SyauqZ Hahahha.. jap aku dtg tempat ko kat ampang tu',\n",
       "  'normalized': '@SyauqZ haha. . jap aku datang tempat kamu kat ampang itu'},\n",
       " {'original': 'kita ni kalau boleh taknak bergaduh. tapi sesetengah benda kalau dah ditegur 10x tak lut jugak maksudnya memang tak https://t.co/8LsDLBLT70',\n",
       "  'normalized': 'kita ini kalau boleh tidak mahu bergaduh. tetapi sesetengah benda kalau dah ditegur sepuluh kali tidak lut juga maksudnya memang tidak https://t.co/8LsDLBLT70'},\n",
       " {'original': 'Asal ada ulat, bau busuk, basi kat makanan tu, tuduh tutup periuk nasi la, sihir la, apa la, dah kalau kau masak pu https://t.co/cjSKENvU6L',\n",
       "  'normalized': 'Asal ada ulat, bau busuk, basi kat makanan itu, tuduh tutup periuk nasi lah, sihir lah, apa lah, dah kalau kamu masak ku https://t.co/cjSKENvU6L'},\n",
       " {'original': 'Kes penemuan mayat wanita di Bukit Putus dan rangka kanak2 lima tahun di Bukit Zamrud, Negeri Sembilan.\\n\\nDua beranak Khalid Redza Shuib,41, dan anak perempuannya berusia 18, \\nhari ini didakwa di mahkamah atas tuduhan membunuh Hanan Hasrul Izwan 5 dan Mariamah Abdullah Basam 29. https://t.co/E6lr8I8OXx',\n",
       "  'normalized': 'kes penemuan mayat wanita di Bukit Putus dan rangka kanak-kanak lima tahun di Bukit Zamrud, Negeri Sembilan. dua beranak Khalid Redza Shuib, 41, dan anak perempuannya berusia 18, hari ini didakwa di mahkamah atas tuduhan membunuh Hanan Hasrul Izwan 5 dan Mariamah Abdullah Basam 29. https://t.co/E6lr8I8OXx'},\n",
       " {'original': '@fxtyn__ HAHAHAHAHAH RAHSIAAA',\n",
       "  'normalized': '@fxtyn__ haha RAHSIAA'},\n",
       " {'original': 'Selayang Pandang Tentang Asal Usul Tanjung Uban https://t.co/cF3Q04S9pe',\n",
       "  'normalized': 'Selayang Pandang tentang Asal Usul Tanjung Uban https://t.co/cF3Q04S9pe'},\n",
       " {'original': 'Like always, peniaga bazar memang happy go lucky dan mesra camera.\\n\\nAku suka gambar no 3. Akak laksa Sarawak tu.\\n\\n10/20 https://t.co/5m42fDwqPl',\n",
       "  'normalized': 'Like always, peniaga bazar memang happy pergi lucky dan mesra camera. aku suka gambar uno 3. akak laksa Sarawak itu. 10 / 20 https://t.co/5m42fDwqPl'},\n",
       " {'original': 'MotoGP 2022 sudah memasuki seri-seri di Eropa. Race di Portimao akan digelar pada akhir pekan ini, jadwal MotoGP Portugal start setelah waktunya berbuka puasa! \\n\\n#MotoGP  https://t.co/l3zyOxzw3g',\n",
       "  'normalized': 'MotoGP 2022 sudah memasuki seri-seri di Eropa. Race di Portimao akan digelar pada akhir pekan ini, jadwal MotoGP Portugal start setelah waktunya berbuka puasa! #MotoGP https://t.co/l3zyOxzw3g'},\n",
       " {'original': 'Kolej tingkatan enam pertama di Kelantan https://t.co/dOkJngaR8f',\n",
       "  'normalized': 'kolej tingkatan enam pertama di Kelantan https://t.co/dOkJngaR8f'},\n",
       " {'original': 'Asal lawan Sarawak dia memang On Fire',\n",
       "  'normalized': 'Asal lawan Sarawak dia memang on fire'},\n",
       " {'original': '@fidelisfreddy WKWKW dat (((umur perak)))\\nga deh lu doang fred',\n",
       "  'normalized': '@fidelisfreddy haha dat (((umur perak))) ia des kamu doang fred'},\n",
       " {'original': \"Detik,menit,jam,hari,pekan,bulan dan tahun,aku berusaha mencintaiMu dg cinta yg utama, tp tak jua kutemukan cinta tertinggi untukMu .. @'\",\n",
       "  'normalized': \"Detik, men itu, jam, hari, pekan, bulan dan tahun, aku berusaha mencintaiMu di cinta yang utama, tetapi tidak jua ku temukan cinta tertinggi untukMu. . @ '\"},\n",
       " {'original': 'Perhatian kepada pelajar Kolej Yayasan Pelajaran Johor!       \\n\\n   https://t.co/wL4KtDCu6z',\n",
       "  'normalized': 'Perhatian kepada pelajar Kolej Yayasan Pelajaran Johor! https://t.co/wL4KtDCu6z'},\n",
       " {'original': 'Tragedi menunggu waktu berbuka puasa.\\n\\nLelaki tetak isteri, ibu mertua, adik ipar perempuan dan adik ipar lelaki hingga cedera parah.\\n\\nDua anak usia 5 tahun dan dua bulan dalam jagaan isteri tidak cedera.\\n\\nPolis giat buru suspek usia 38 : KPD Kota Tinggi https://t.co/qxYA9wUuhC',\n",
       "  'normalized': 'Tragedi menunggu waktu berbuka puasa. lelaki tetak isteri, ibu mertua, adik ipar perempuan dan adik ipar lelaki hingga cedera parah. dua anak usia 5 tahun dan dua bulan dalam jagaan isteri tidak cedera. Polis giat buru suspek usia 38 : KEPADA Kota Tinggi https://t.co/qxYA9wUuhC'},\n",
       " {'original': 'SAH! \\n\\nAkhirnya dah dpt confirmation dari keluarga terdekat Allahyarham bekas MB Selangor (UMNO) bhw Siti Bainun BUKAN anak bekas MB pun.\\n\\nMana yang fitnah tu, bulan Ramadan ni harap bolehlah jadi iktibar.\\n\\nJangan jd pembaris sgt percaya account yg keluar cerita mcm ni.',\n",
       "  'normalized': 'Sah! akhirnya dah dapat confirmation dari keluarga terdekat Allahyarham bekas MB Selangor (UMNO) bahwa Siti Bainun bukan anak bekas MB pun. Mana yang fitnah itu, bulan Ramadan ini harap bolehlah jadi iktibar. jangan jadi pembaris sangat percaya account yang keluar cerita macam ini .'},\n",
       " {'original': 'Hello everyone 23 April ni kita orang akan main akustik event Paso Raya oleh @johobaru dekat toppen, jb. Mana orang johor or yang ada dekat jb ni jom la datang sini sambil sambil shopping raya tu. https://t.co/WB9zjMgXn6',\n",
       "  'normalized': 'Hello everyone 23 April ini kita orang akan main akustik event pasar Raya oleh @johobaru dekat kepada apen, jaba. mana orang johor atau yang ada dekat jaba ini som lah datang sini sambil sambil shopping raya itu. https://t.co/WB9zjMgXn6'},\n",
       " {'original': 'Apa cerita terpaling chef ni?\\n\\nIsu viral mee tonggek bazar putrajaya, bawa ke isu thyphoid kata peniaga tak tahu.\\n\\nJujur, nak meniaga bazar ni, main pacak khemah, buka meja ke? Takkan?\\n\\nKena minta lesen dari PBT. Nak dapat lesen, perlukan beberapa lagi dokumen termasuk thyphoid.',\n",
       "  'normalized': 'Apa cerita terpaling chef ini ? isu viral me tonggek bazar putrajaya, bawa ke isu thy fahid kata peniaga tidak tahu. jujur, nak meniaga bazar ini, main pacak khemah, buka meja ke ? Tidak Akan ? kena meminta lesen dari PBT. nak dapat lesen, perlukan beberapa lagi dokumen termasuk thy fahid .'},\n",
       " {'original': '#hwsmalaysia Terengganu and Selangor https://t.co/d50f4Fwe5c',\n",
       "  'normalized': '#hwsmalaysia Terengganu and Selangor https://t.co/d50f4Fwe5c'},\n",
       " {'original': 'Halo Kak, Mohon maaf atas ketidak nyamanannya. Untuk informasi lebih lanjut silahkan kakak, hubungi Bank MANDIRI Li https://t.co/yVsTyTf18k',\n",
       "  'normalized': 'Halo Kak, mohon maaf atas ketidak nyamanannya. Untuk informasi lebih lanjut silakan kakak, hubungi Bank Mandiri Li https://t.co/yVsTyTf18k'},\n",
       " {'original': 'Oh rupanya SB Ahli Bersatu 2019. Menurutnya, Rumah Bonda yang terletak di Jalan Kukuban, di sini juga dikenakan tin https://t.co/kq12kIPu6M',\n",
       "  'normalized': 'Oh rupanya SB ahli Bersatu 2019. menurutnya, rumah bonda yang terletak di Jalan Kukuban, di sini juga dikenakan tin https://t.co/kq12kIPu6M'},\n",
       " {'original': 'Halo kak,Mohon Maaf Atas Kendalanya,Agar Dapat Di Proses Secara Detail Prihal Kendala Atau Pertanyaan, Silakan Di L https://t.co/VpK7dAjzgx',\n",
       "  'normalized': 'Halo kak, Mohon Maaf atas kendalanya, Agar Dapat di proses secara detail perihal kendala atau pertanyaan, silakan di L https://t.co/VpK7dAjzgx'},\n",
       " {'original': 'Dah seminggu baru bersuara?? Macam tak wujud. Menteri ke tunggul... https://t.co/qzwzGtOJhQ',\n",
       "  'normalized': 'Dah seminggu baru bersuara ? ? macam tidak wujud. menteri ke tunggul. .. https://t.co/qzwzGtOJhQ'},\n",
       " {'original': '#KabarKemenag\\nHari pertama pelaksanaan Program 1 Juta Vaksinasi Booster bersama Kementerian Agama di Kota Batu berj https://t.co/z9cNg2AdTd',\n",
       "  'normalized': '#KabarKemenag hari pertama pelaksanaan program 1 juta vaksinasi booster bersama Kementerian Agama di Kota Batu beraja https://t.co/z9cNg2AdTd'},\n",
       " {'original': \"17/04/22. Team PKD Dungun, T'ganu menjalankan pemantauan sekitar kwsn Dungun. 11kompaun - Peraturan2 Kawalan Hasil Tembakau - Merokok dikwsn larangan termasuk Lain2 Kesalahan.@Khairykj @KKMPutrajaya @FctcMalaysia @SIPKKM @JapenTerengganu @DungunTrg https://t.co/7dNPX62dz7\",\n",
       "  'normalized': \"17 / kosong empat / 22. Pasukan PKD Dungun, T' ganu menjalankan pemantauan sekitar kawasan Dungun. 11 kompaun - Peraturan2 Kawalan Hasil Tembakau - merokok di kawasan larangan termasuk lain-lain kesalahan. @Khairykj @KKMPutrajaya @FctcMalaysia @SIPKKM @JapenTerengganu @DungunTrg https://t.co/7dNPX62dz7\"},\n",
       " {'original': '@mohdeazy Yeeee, berbulu je baca. Nasib la taiping tu jauh dari somban. Saya dah 5tahun berturut2 pakai baju melayu https://t.co/98XpMADqfy',\n",
       "  'normalized': '@mohdeazy Ya, berbulu sahaja baca. nasib lah Taiping itu jauh dari sorban. saya dah 5tahun berturut-berturut pakai baju melayu https://t.co/98XpMADqfy'},\n",
       " {'original': '17/04/22. Team PKD Pekan, Pahang menjalankan pemantauan sekitar kwsn bandar Pekan. 32kompaun - Peraturan2 Kawalan Hasil Tembakau - Merokok dikwsn larangan. @Khairykj @FctcMalaysia @KKMPutrajaya @SIPKKM @PahangBAR https://t.co/0lC4XxL5eY',\n",
       "  'normalized': '17 / kosong empat / 22. Pasukan PKD Pekan, Pahang menjalankan pemantauan sekitar kawasan bandar Pekan. 32 kompaun - Peraturan2 Kawalan Hasil Tembakau - merokok di kawasan larangan. @Khairykj @FctcMalaysia @KKMPutrajaya @SIPKKM @PahangBAR https://t.co/0lC4XxL5eY'},\n",
       " {'original': '17/04/22. Team PKD Tawau, Sabah menjlnkan pemantauan sekitar kwsn bandar Tawau. 15kompaun - Peraturan2 Kawalan Hasil Tembakau - Merokok dikwsn larangan. @Khairykj @KKMPutrajaya @FctcMalaysia @SIPKKM @JapenSabah @myTawau https://t.co/oicWJiBh7B',\n",
       "  'normalized': '17 / kosong empat / 22. Pasukan PKD Tawau, Sabah menjalankan pemantauan sekitar kawasan bandar Tawau. 15 kompaun - Peraturan2 Kawalan Hasil Tembakau - merokok di kawasan larangan. @Khairykj @KKMPutrajaya @FctcMalaysia @SIPKKM @JapenSabah @myTawau https://t.co/oicWJiBh7B'},\n",
       " {'original': \"Tourism Selangor dengan kerjasama TourPlus Technology secara rasmi melancarkan aplikasi pelancongan 'Go Selangor' yang boleh diakses di seluruh dunia sebelum datang melancong ke negeri ini.\\n\\n#KitaSelangor\\n\\nhttps://t.co/z7kVUZ2M9y https://t.co/dchY9zSks3\",\n",
       "  'normalized': \"Tourism Selangor dengan kerjasama TourPlus Technology secara rasmi melancarkan aplikasi pelancongan ' Pergi Selangor' yang boleh diakses di seluruh dunia sebelum datang melancong ke negeri ini. #KitaSelangor https://t.co/z7kVUZ2M9y https://t.co/dchY9zSks3\"},\n",
       " {'original': '17/04/22. Team PKD Kota Setar, Kedah menjlnkan pemantauan sekitar kwsn bandar Alor Setar. 4kompaun - Peraturan2 Kawalan Hasil Tembakau - Premis Gagal Pamer Tanda Larangan Merokok.@Khairykj @KKMPutrajaya @FctcMalaysia @SIPKKM @JapenKedah https://t.co/lOVoBWJsPJ',\n",
       "  'normalized': '17 / kosong empat / 22. Pasukan PKD Kota Setar, Kedah menjalankan pemantauan sekitar kawasan bandar Alor Setar. 4 kompaun - Peraturan2 Kawalan Hasil Tembakau - premis gagal pamer tanda Larangan Merokok. @Khairykj @KKMPutrajaya @FctcMalaysia @SIPKKM @JapenKedah https://t.co/lOVoBWJsPJ'},\n",
       " {'original': 'dak sabah ni pon boleh tahan. jordan aj1 400 katanya. silap hari bulan kena bantai dengan hypebeast.',\n",
       "  'normalized': 'dak sabah ini pun boleh tahan. jordan am 400 katanya. silap hari bulan kena bantai dengan hyde beast .'},\n",
       " {'original': 'Bagus kan kita ikut sifat Nabi yang dermawan.',\n",
       "  'normalized': 'bagus kan kita ikut sifat nabi yang dermawan .'},\n",
       " {'original': 'Program ini merupakan program nasional dari Kementerian Agama untuk mendukung percepatan pelaksanaan vaksinasi Covi https://t.co/gOv0oTddme',\n",
       "  'normalized': 'Program ini merupakan program nasional dari Kementerian Agama untuk mendukung percepatan pelaksanaan vaksinasi cosi https://t.co/gOv0oTddme'},\n",
       " {'original': '@starfess Pelihara batu https://t.co/kMAvVS7IFo',\n",
       "  'normalized': '@starfess pelihara batu https://t.co/kMAvVS7IFo'},\n",
       " {'original': '@kmskx_ iyer tunggu duit kwsp je tu',\n",
       "  'normalized': '@kmskx_ saya yer tunggu duit kwsp sahaja itu'},\n",
       " {'original': 'Mau THR Dividen? 8 Emiten Cum Dividen Pekan Ini, Jangan Ketinggalan https://t.co/zA3rdQ7kr1',\n",
       "  'normalized': 'Mahu THR dividen ? 8 emiten cum dividen Pekan Ini, jangan ketinggalan https://t.co/zA3rdQ7kr1'},\n",
       " {'original': '@rrvaez btll, km mndptkn 100 perak ',\n",
       "  'normalized': '@rrvaez betul, kami mendapatkan 100 perak'},\n",
       " {'original': 'Ono Surono beri pesan ke Bupati Subang: fokus pertanian, jangan terbuai dengan kawasan industri. #MariDukungPembangunanRI https://t.co/py5cVU9ZB8',\n",
       "  'normalized': 'Ono Surono beri pesan ke Bupati Subang : fokus pertanian, jangan terbuai dengan kawasan industri. #MariDukungPembangunanRI https://t.co/py5cVU9ZB8'},\n",
       " {'original': '@safwanrazif @faezhaziq @ainsufira Kucing bunting bukan mcmtu ',\n",
       "  'normalized': '@safwanrazif @faezhaziq @ainsufira kucing bunting bukan macam itu'},\n",
       " {'original': '@milly26102020 Tu orang kata bila jadi ibu baru sedar kau bukannya bodoh, lembik, tak reti, kuat je rupanya ',\n",
       "  'normalized': '@milly26102020 Itu orang kata bila jadi ibu baru sedar kamu bukannya bodoh, lembik, tidak reti, kuat sahaja rupanya'},\n",
       " {'original': \"Azan Maghrib dari Masjid Besi jelas kedengaran di Ihya' Ramadan Putrajaya 2022 \\n\\n#irp2022 #ihyaramadanputrajaya #frp2022 #frp22 #festivalramadanputrajaya2022 #IniKaliKitaRaya https://t.co/DUMXx7hC9A\",\n",
       "  'normalized': \"Azan Maghrib dari Masjid Besi jelas kedengaran di Ihya' Ramadan Putrajaya 2022 #irp2022 #ihyaramadanputrajaya #frp2022 #frp22 #festivalramadanputrajaya2022 #IniKaliKitaRaya https://t.co/DUMXx7hC9A\"},\n",
       " {'original': '@MaiKhan58557718 Alhamdulillah... bersyukur punya keluarga yg memahami.. moga Allah permudahkan perjalanan hidup awak... AamiinYRA',\n",
       "  'normalized': '@MaiKhan58557718 Alhamdulillah. .. bersyukur punya keluarga yang memahami. . moga Allah permudahkan perjalanan hidup awak. .. AamiinYRA'},\n",
       " {'original': 'Menteri baru bangun dari tidur?  https://t.co/S02zpZYp0u',\n",
       "  'normalized': 'Menteri baru bangun dari tidur ? https://t.co/S02zpZYp0u'},\n",
       " {'original': 'Perbuatan itu didakwa dilakukan di Institut Pemulihan Dadah Jelebu, Jabatan Penjara Malaysia pada 10 April lepas. #AWANInews #AWANI745 https://t.co/BjmwegTAcJ',\n",
       "  'normalized': 'Perbuatan itu didakwa dilakukan di Institut Pemulihan Dadah Jelebu, Jabatan Penjara Malaysia pada 10 April lepas. #AWANInews #AWANI745 https://t.co/BjmwegTAcJ'},\n",
       " {'original': 'Tak sanggup lah aku jadi bodoh beratur tgh panas camnie',\n",
       "  'normalized': 'Tidak sanggup lah aku jadi bodoh beratur teh panas macam ini'},\n",
       " {'original': '@jeonginfoxxy thank u contributer!!!!! aaaa dont remind me that i dah broke gila babeng dah, rasa cam makan batu je nanti kat sana',\n",
       "  'normalized': '@jeonginfoxxy thank awak contributer!!!!! ada dont remind me that saya dah broke gila sangat dah, rasa cam makan batu sahaja nanti kat sana'},\n",
       " {'original': '@meldawiesyah lah tadi kata nak tido ',\n",
       "  'normalized': '@meldawiesyah lah tadi kata nak tidur'},\n",
       " {'original': 'Kia Hum tumhare gulam haii\\n\\n#__ https://t.co/SASAnUQA7W',\n",
       "  'normalized': 'Kia Hum tumhara gulai hai #__ https://t.co/SASAnUQA7W'},\n",
       " {'original': 'ekhem ekhem, mari kita cerita tentang hakorara and worldbuildingnya akudrive in general\\n\\njadi. hakobiya tuh seorang https://t.co/JI91DGNhIU',\n",
       "  'normalized': 'ekrem ekrem, mari kita cerita tentang hakorara and world buildingnya aku drina ini general jadi. hakobiya itu seorang https://t.co/JI91DGNhIU'},\n",
       " {'original': '@vlmarkk Napa gajah di parit? Emang muat?',\n",
       "  'normalized': '@vlmarkk Kenapa gajah di parit ? Memang muat ?'},\n",
       " {'original': 'Heyyyyy muka menyibuk tu kenapa tuuuuuu.',\n",
       "  'normalized': 'Heyy muka menyibuk itu kenapa itu .'},\n",
       " {'original': '@wahskuy Buat kau batu sungai aja dek',\n",
       "  'normalized': '@wahskuy buat kamu batu sungai sahaja dek'},\n",
       " {'original': 'Pagi-pagi ni nak menguji minda. Korang suka design Kurung Kedah atau Kurung Moden?  https://t.co/OHTwNyvxaG',\n",
       "  'normalized': 'Pagi-pagi ini nak menguji minda. Kamu Semua suka design Kurung Kedah atau kurung moden ? https://t.co/OHTwNyvxaG'},\n",
       " {'original': 'park! i blum kawin lagi tpi ini yg stuck in my head.',\n",
       "  'normalized': 'park! saya belum kahwin lagi tetapi ini yang stuck ini mi head .'},\n",
       " {'original': 'Hadaplah takde letrik pula',\n",
       "  'normalized': 'hadap lah tiada letrik pula'},\n",
       " {'original': '5 bekas besar, 2 bekas kecik settle. Ada lagi 15 bekas kecik. Fuhhhhh. Bukan untuk dijual ye tapi nak kasi Ibu, aka https://t.co/O0IDtdJxex',\n",
       "  'normalized': '5 bekas besar, 2 bekas kecil settle. ada lagi 15 bekas kecil. Fuhh. bukan untuk dijual ya tetapi nak bagi ibu, aka https://t.co/O0IDtdJxex'},\n",
       " {'original': 'WTS or want to sell\\n[help rt]\\n\\npc nature republic tea tree cica x nct 127\\navail member:\\njaehyun + taeil 170k\\ntaeyong 95k \\njungwoo 100k \\nyuta 75k \\ndoyoung 95k \\n- condi? dm\\n- dom jakbar\\n- bisa lewat oren https://t.co/XeDe7UMOnG',\n",
       "  'normalized': 'WTS atau want kepada sell [ help roti ] pacu nature republic tea tree cita tak ict 127 avail member : jae hyun + tuil 170k taeyong 95k jung woo 100k juta 75k doa young 95k - candi ? di - dom jabbar - bisa lewat oren https://t.co/XeDe7UMOnG'},\n",
       " {'original': '@SyedAkramin Takkanlah tak terima bayaran hm https://t.co/u1szY1fNVt',\n",
       "  'normalized': '@SyedAkramin Takkanlah tidak terima bayaran am https://t.co/u1szY1fNVt'},\n",
       " {'original': 'Cahaya Festira ni berlangsung dari 16 Mac 2022 - 2 Mei 2022. Ada dekat PKNS Bangi, SACC Mall &amp; PKNS Shah Alam. Temp https://t.co/9ucnf7bxmq',\n",
       "  'normalized': 'Cahaya Festira ini berlangsung dari 16 Mac 2022 - 2 Mei 2022. ada dekat PKNS Bangi, SACC Mall & PKNS Shah Alam. Temp https://t.co/9ucnf7bxmq'},\n",
       " {'original': 'Lobai pemalas makan gaji https://t.co/kPiFj0B6KO',\n",
       "  'normalized': 'Pak Lebai pemalas makan gaji https://t.co/kPiFj0B6KO'},\n",
       " {'original': 'subsidi ekslusif orang kl selangor. Lebih sinister kalau consider the lines which only covers small portion of popu https://t.co/4IL6RAYCY5',\n",
       "  'normalized': 'subsidi ekslusif orang kuala lumpur Selangor. lebih sinister kalau consider the lines which only covers small portion of pop awak https://t.co/4IL6RAYCY5'},\n",
       " {'original': 'Calon Ketua AMK Malaysia, Sdr. @fahmizainol91\\n\\n@AyuhAnakMuda   https://t.co/K2gGgeWnW2',\n",
       "  'normalized': 'Calon Ketua AMK Malaysia, Sdr. @fahmizainol91 @AyuhAnakMuda https://t.co/K2gGgeWnW2'},\n",
       " {'original': 'Momos\\\\232-(272).png https://t.co/9QLoSwUe4p',\n",
       "  'normalized': 'Momos \\\\ 232 - (272).png https://t.co/9QLoSwUe4p'},\n",
       " {'original': '@dinakantitek @mikah696969 Awak orang kelantan ke?',\n",
       "  'normalized': '@dinakantitek @mikah696969 awak orang kelantan ke ?'},\n",
       " {'original': 'TEMUDUGA TERBUKA syarikat-syarikat di Pulau Pinang pada 23 &amp; 24 April mulai jam 2.00 petang hingga 6.00 petang sempena Karnival Raya@ Bertam 2022 di Sunshine Bertam. https://t.co/GZHmvTVVh3',\n",
       "  'normalized': 'Temuduga Terbuka syarikat-syarikat di Pulau Pinang pada 23 & 24 April mulai jam pukul 14 hingga pukul 18 sempena Karnival Raya @ Bertam 2022 di Sunshine Bertam. https://t.co/GZHmvTVVh3'},\n",
       " {'original': 'Ono Surono beri pesan ke Bupati Subang: fokus pertanian, jangan terbuai dengan kawasan industri. #MariDukungPembangunanRI https://t.co/nXzkkDkDmO',\n",
       "  'normalized': 'Ono Surono beri pesan ke Bupati Subang : fokus pertanian, jangan terbuai dengan kawasan industri. #MariDukungPembangunanRI https://t.co/nXzkkDkDmO'},\n",
       " {'original': '@Khairinieeee kenit lapar ',\n",
       "  'normalized': '@Khairiniee kenit lapar'},\n",
       " {'original': 'Kahwin dapat RM 1,000.\\n\\nOrang Johor yg kawin nanti jangan lupa claim. Haha',\n",
       "  'normalized': 'Kahwin dapat RM 1,00. orang Johor yang kahwin nanti jangan lupa claim. haha'},\n",
       " {'original': '@bazziness Salam takziah',\n",
       "  'normalized': '@bazziness salam takziah'},\n",
       " {'original': 'Jeti bodoh pun 50k, kalau baiki rumah mau RM3juta. \\nhttps://t.co/v0YaFx5u1l',\n",
       "  'normalized': 'Jeti bodoh pun 50k, kalau baiki rumah mahu RM3juta. https://t.co/v0YaFx5u1l'},\n",
       " {'original': 'Tekan link dibawah untuk pembelian tiket \\n\\nhttps://t.co/kaLAd69E8m\\n\\nTarikh Jualan Tiket Dibuka :\\n18 APRIL 2022 (membership)\\n19 APRIL 2022 (untuk semua)\\n\\nTarikh Jualan Ditutup : 22 APRIL 2022 ( 9 Malam )\\n\\n#TerengganuFC\\n#WeBleedBlackAndWhite https://t.co/WYbGJFCLcx',\n",
       "  'normalized': 'Tekan link dibawah untuk pembelian tiket https://t.co/kaLAd69E8m tarikh Jualan Tiket dibuka : 18 April 2022 (membership) 19 April 2022 (untuk semua) tarikh jualan ditutup : 22 April 2022 (9 malam) #TerengganuFC #WeBleedBlackAndWhite https://t.co/WYbGJFCLcx'},\n",
       " {'original': 'Ternyata angin sudah berhembus dari tenggara',\n",
       "  'normalized': 'Ternyata angin sudah berhembus dari tenggara'},\n",
       " {'original': 'Malaysia could never, penatlah. Ya Malaysia takda apa, puas?\\n.\\nDone bekap negara sendiri.\\n.\\nTiber patriotik nyah pe https://t.co/HaTtzGopLV',\n",
       "  'normalized': 'Malaysia could never, penat lah. ya Malaysia tiada apa, puas ?. Siap backup negara sendiri. . Tiba - Tiba patriotik nya ke https://t.co/HaTtzGopLV'},\n",
       " {'original': 'Kelantan terus mundur di bawah PAS, kata aktivis, pembangkang https://t.co/prh2wgM1Z5',\n",
       "  'normalized': 'Kelantan terus mundur di bawah PAS, kata aktivis, pembangkang https://t.co/prh2wgM1Z5'},\n",
       " {'original': 'Tahniah kepada MPKB BRI kerana menyediakan khemah Solat yg lengkap dengan tempat berwudhuk dan membuat pencahayaan https://t.co/P8FvrvyKGr',\n",
       "  'normalized': 'Tahniah kepada MPKB BRI kerana menyediakan khemah solat yang lengkap dengan tempat berwudhuk dan membuat pencahayaan https://t.co/P8FvrvyKGr'},\n",
       " {'original': '\"PPATK sebagai vocal point dan financial intelligence unit harus jeli dan mampu bergerak cepat, memiliki kemampuan https://t.co/fbIWxg8TxJ',\n",
       "  'normalized': '\" PPATK sebagai vocal point dan financial intelligence unit harus jeli dan mampu bergerak cepat, memiliki kemampuan https://t.co/fbIWxg8TxJ'},\n",
       " {'original': '@jjoknyangluvr HAHAHAHAHHA allahhh jangan la makan batu dam  i sponsor rm5 you beli la nasi makan ikut portion HAHAHAHAAH',\n",
       "  'normalized': '@jjoknyangluvr haha allah jangan lah makan batu dam saya sponsor rm5 you beli lah nasi makan ikut portion haha'},\n",
       " {'original': 'Lama sangat tak update ig kuih kapit ni. Tu lah dok hospital lama sangat  sorry gais kalau sy spam feed ig anda ',\n",
       "  'normalized': 'lama sangat tidak update instagram kuih kapit ini. Itu lah dok hospital lama sangat sorry semua orang kalau saya suam feed instagram anda'},\n",
       " {'original': '@jodohhmmuuu Trauma bolehhtapi jangan sampai berlarut larut yaa ',\n",
       "  'normalized': '@jodohhmmuu trauma boleh tetapi jangan sampai berlarut larut ya'},\n",
       " {'original': 'Operasi dua hari bermula 14 hingga 15 April itu melibatkan serbuan ke atas dua unit kondominium, dua pangsapuri dan https://t.co/ITRDCjQt2c',\n",
       "  'normalized': 'operasi dua hari bermula 14 hingga 15 April itu melibatkan serbuan ke atas dua unit kondominium, dua pangsapuri dan https://t.co/ITRDCjQt2c'},\n",
       " {'original': '@safiyaatiya sephora mmg takde dah dekat perak',\n",
       "  'normalized': '@safiyaatiya sephora memang tiada dah dekat perak'},\n",
       " {'original': 'siapa cari tc chibi ni-ki??',\n",
       "  'normalized': 'siapa cari tac chibi nikki ? ?'},\n",
       " {'original': 'Open pijat/massage &gt; PijatCapek/\\npijat pegal/ pijat crot khusus pria.\\nArea kota Pontianak fast\\nrespons wa 08314131 https://t.co/6yButybPXa',\n",
       "  'normalized': 'Open pijat / massage > PijatCapek / pijat pegal / pijat carta khusus pria. Kawasan kota Pontianak fast respons wa kosong lapan tiga satu empat satu tiga satu https://t.co/6yButybPXa'},\n",
       " {'original': 'Melaka Kini Terap Akses Pembayaran Nirtunai Pada KhidmatBeca https://t.co/orBf6lgsl0',\n",
       "  'normalized': 'Melaka kini terap akses pembayaran Nirtunai pada KhidmatBeca https://t.co/orBf6lgsl0'},\n",
       " {'original': 'TAKLIMAT GURU NEGERI SELANGOR &amp; PERAK kini berlangsung! \\n\\nKalau anda sudah berdaftar, jangan ketinggalan dan sertai https://t.co/YXjORtV6QJ',\n",
       "  'normalized': 'Taklimat guru NEGERI SELANGOR & Perak kini berlangsung! kalau anda sudah berdaftar, jangan ketinggalan dan sertai https://t.co/YXjORtV6QJ'},\n",
       " {'original': 'rasanya masa apply tu ada tulis melaka sekaliii eee',\n",
       "  'normalized': 'rasanya masa apply itu ada tulis melaka sekali ke'},\n",
       " {'original': 'Masuk pop-up notification, pastu jadi windows bordered tu pun kira DC jugak. Menyirap duh',\n",
       "  'normalized': 'Masuk pop-up notification, lepas itu jadi windows bordered itu pun kira DC juga. menyirap dua'},\n",
       " {'original': 'Analisa Teknikal #SILVER #PERAK 18 April 2022 (Tekanan Trader) https://t.co/gQIchTs4vz - #Berita #Forex https://t.co/cG1bVbLRTX',\n",
       "  'normalized': 'Analisa Teknikal #SILVER #PERAK 18 April 2022 (tekanan trader) https://t.co/gQIchTs4vz - #Berita #Forex https://t.co/cG1bVbLRTX'},\n",
       " {'original': 'SPPK DPC Tambun Selatan Gelar Baksos Sembako Murah https://t.co/z9wA5iGrYG pkskabupatenbekasi',\n",
       "  'normalized': 'SPPK DPC Tambun Selatan gelar Baksos sembako murah https://t.co/z9wA5iGrYG paska bupaten bekasi'},\n",
       " {'original': 'Takyah sebut nama aku dekat cc sesapa pls. Jangan bodo beno nk jd batu api. Tak ramai pun tahu. So senang je nak cari',\n",
       "  'normalized': 'dakyah sebut nama aku dekat cucu sesiapa tolong. jangan bodoh jadi uno nak jadi batu api. Tidak ramai pun tahu. Jadi senang sahaja nak cari'},\n",
       " {'original': 'Saman terus, nak siasat apa lagi',\n",
       "  'normalized': 'Saman terus, nak siasat apa lagi'},\n",
       " {'original': 'Baru saja mengirim foto @ Gedung Johor, Medan Johor https://t.co/nX5CKrvGCV',\n",
       "  'normalized': 'Baru sahaja mengirim foto @ gedung Johor, Medan Johor https://t.co/nX5CKrvGCV'},\n",
       " {'original': 'Dia dah start block block orang dah. Tahu pun koyak',\n",
       "  'normalized': 'Dia dah start block block orang dah. tahu pun koyak'},\n",
       " {'original': '@itsfaaaahim haih sedih  orang perak tak makeup ke ',\n",
       "  'normalized': 'betul aduh sedih orang perak tidak memakai naik ke'},\n",
       " {'original': '#bolatime Pan-gon hadir ke Stadium Paroi Sabtu lalu untuk menyaksikan aksi antara Negeri Sembilan FC dan PJ City da https://t.co/ujsHAg3XIy',\n",
       "  'normalized': '#bolatime Pan-gon hadir ke stadium Paroi Sabtu lalu untuk menyaksikan aksi antara Negeri Sembilan FC dan PJ City dah https://t.co/ujsHAg3XIy'},\n",
       " {'original': 'Seumur hidup aku , tak pernah lagi merasa baju melayu yg mahal time hari raya . Lillahi taala . Bila dapat beli , https://t.co/BLWbXsITP4',\n",
       "  'normalized': 'seumur hidup aku, tidak pernah lagi merasa baju melayu yang mahal time hari raya. lillahi taala. bila dapat beli, https://t.co/BLWbXsITP4'},\n",
       " {'original': 'Tapi starbuck sibu lambat masuk menu baru',\n",
       "  'normalized': 'Tetapi starbuck sibu lambat masuk menu baru'},\n",
       " {'original': '@senbeirangup02 Aku skrg kt Labuan lagi la..mmg pulau..mmg rasa mau kerja dalam bilik air dah ni..panass..laut is f https://t.co/XzCs5IkfiP',\n",
       "  'normalized': '@senbeirangup02 aku sekarang di Labuan lagi lah. memang pulau. memang rasa mahu kerja dalam bilik air dah ini. panas. laut ia f https://t.co/XzCs5IkfiP'},\n",
       " {'original': '@imeshznna Starbucks lq jom. Baru la berbuka cara T20!',\n",
       "  'normalized': '@imeshznna Starbucks la som. baru lah berbuka cara T20!'},\n",
       " {'original': '@inspira891 Sy tak kisah org nk tanya tapi biar kena ngan cara n tenpat bukan main lepas',\n",
       "  'normalized': '@inspira891 saya tidak kisah orang nak tanya tetapi biar kena dengan cara dan tempat bukan main lepas'},\n",
       " {'original': 'kena marah dgn orang tua hempas pintu,\\nkena marah dgn ayang diam mcm batu.',\n",
       "  'normalized': 'kena marah dengan orang tua hempas pintu, kena marah dengan ayang diam macam batu .'},\n",
       " {'original': '@turtIebros Dikutuk jadi batu dias  /GAK',\n",
       "  'normalized': '@turtIebros dikutuk jadi batu des / JUGA'},\n",
       " {'original': '@BIGWINSELALUxyz Kini kau lihat...\\nMerah hitam tanah kelahiranmu\\nPertumpahan darah para penjajah keji\\nGemelutmu tak https://t.co/tXbLZGctqq',\n",
       "  'normalized': '@BIGWINSELALUxyz Kini kamu lihat. .. merah hitam tanah kelahiranmu pertumpahan darah para penjajah keji Gemelutmu tidak https://t.co/tXbLZGctqq'},\n",
       " {'original': '14:23hrs Status terkini,laluan telah dibuka.Trafik terkawal.Harap maklum @LLMinfotrafik',\n",
       "  'normalized': 'pukul 16.50:18 status terkini, laluan telah dibuka. trafik terkawal. harap maklum @LLMinfotrafik'},\n",
       " {'original': 'Macam mana cuaca area KL/Wangsa Maju sekarang?',\n",
       "  'normalized': 'Macam mana cuaca area KUALA LUMPUR / Wangsa Maju sekarang ?'},\n",
       " {'original': 'Ayat last nya best Maknanya cost of living dekat Sarawak ni.. tinggi jugak la eh? ',\n",
       "  'normalized': 'Ayat last nya best maknanya cost of living dekat Sarawak ini. . tinggi juga lah teh ?'},\n",
       " {'original': 'Biar SENDU Janji PADU. https://t.co/roP2Pw1c3J',\n",
       "  'normalized': 'Biar sendu janji padu. https://t.co/roP2Pw1c3J'},\n",
       " {'original': '@inderasakti_kl @ustazebitIew @Ebitlew_ Again in Johor... Walaupun Ada larangan utk memberi mkn pd burung merpati A https://t.co/77d45N4mcP',\n",
       "  'normalized': '@inderasakti_kl @ustazebitIew @Ebitlew_ again ini Johor. .. walaupun ada larangan untuk memberi makan pada burung merpati A https://t.co/77d45N4mcP'},\n",
       " {'original': 'Tahlah, tak pernah tahu kewujudan dia langsung masalahnya.',\n",
       "  'normalized': 'Tahlah, tidak pernah tahu kewujudan dia langsung masalahnya .'},\n",
       " {'original': 'Suka sangat dia... @ Kg.lubuk Paku,maran https://t.co/s787hZGOdK',\n",
       "  'normalized': 'Suka sangat dia. .. @ Kg.lubuk paku, Maran https://t.co/s787hZGOdK'},\n",
       " {'original': 'Kalau menjadi, aku buat thread. Wehuuuuu. Kk rembau, 18 apr 2022.',\n",
       "  'normalized': 'Kalau menjadi, aku buat thread. Wehuu. Okay rembau, 18 apr 2022 .'},\n",
       " {'original': 'To WAJIJIWA Entertainment (Tianjin) Co., Ltd. (@into1_official_ ) https://t.co/rEGo3fa49Q',\n",
       "  'normalized': 'Kepada WAJIJIWA Entertainment (Tianjin) Co ., Ltd. (@into1_official_) https://t.co/rEGo3fa49Q'},\n",
       " {'original': 'lawas jua lah nunggu yg ini',\n",
       "  'normalized': 'lawas jua lah menunggu yang ini'},\n",
       " {'original': 'Tidak ada masalah pada Alessandro Bastoni yang alami kram saat hadapi Spezia, ia siap tampil pada laga derby tengah pekan ini.\\n\\nhttps://t.co/AplCNhl6zX',\n",
       "  'normalized': 'Tidak ada masalah pada Alessandro Bastoni yang alami kram saat hadapi Spezia, ia siap tampil pada laga derby tengah pekan ini. https://t.co/AplCNhl6zX'},\n",
       " {'original': '@TengkorakLu @Pesallobbo @blackdogcute @wallaun_cyber @CelineYeoh8888 @MatthewShanmu10 @Zackrie1311 @dermainejupri @nor_junoh @blue_LangG @HadiNoMutu @PudinDon @REM084260711 @Jack_AntiBodo @HamdanRukun Dulu zack kata Allah dan tunjukkan kebenaran seolah-olah aku bersama lakjanur kutuk MB Kedah, sekarang Allah tunjukkan kebenaran yang sebenarnya, zack bersekutu dan sekufu bersama lakjanur dengan mulut busuk. Baiknya lakjanur tak tonggang agama. Tahniah lakjanur.',\n",
       "  'normalized': '@TengkorakLu @Pesallobbo @blackdogcute @wallaun_cyber @CelineYeoh88 @MatthewShanmu10 @Zackrie1311 @dermainejupri @nor_junoh @blue_LangG @HadiNoMutu @PudinDon @REM084260711 @Jack_AntiBodo @HamdanRukun Dahulu zack kata Allah dan tunjukkan kebenaran seolah-olah aku bersama pula janur kutuk MB Kedah, sekarang Allah tunjukkan kebenaran yang sebenarnya, zack bersekutu dan sekufu bersama pula janur dengan mulut busuk. baiknya pula janur tidak tong gang agama. tahniah pula janur .'},\n",
       " {'original': 'Para pekerja teknisi terlihat sedang memperbaiki bagian lampu hias yang patah, karena ditakutkan menjatuhi jamaah m https://t.co/H31ml3Uzi1',\n",
       "  'normalized': 'Para pekerja teknisi terlihat sedang memperbaiki bagian lampu hias yang patah, karena ditakutkan menjatuhi betul am https://t.co/H31ml3Uzi1'},\n",
       " {'original': 'Untung orang Selangor ada bazar macam ni. KL takmau buat ka woi #Festira22 #FestiraChallenge',\n",
       "  'normalized': 'Untung orang Selangor ada bazar macam ini. KUALA LUMPUR tidak mahu buat ke noi #Festira22 #FestiraChallenge'},\n",
       " {'original': '@chitaglorya__ @PiQa_Leduit1 @FishcityxWin bissmillah semoga ke pickchita buat baju lebaran anak lanang',\n",
       "  'normalized': '@chitaglorya__ @PiQa_Leduit1 @FishcityxWin bismillah semoga ke pick chita buat baju lebaran anak lanang'},\n",
       " {'original': 'yela zaman sekarang susah nak percaya orang kan aku faham man ',\n",
       "  'normalized': 'ya lah zaman sekarang susah nak percaya orang kan aku faham man'},\n",
       " {'original': '@IslahWahyudi Mana ada aku sokong? \\n\\nPoint aku: biarlah sarawak tu nak buat apa. Kita \"org luar\" ni tak pyh masuk https://t.co/2UgXvePrdT',\n",
       "  'normalized': '@IslahWahyudi mana ada aku sokong ? Point aku : biarlah sarawak itu nak buat apa. kita \" orang luar \" ini tidak payah masuk https://t.co/2UgXvePrdT'},\n",
       " {'original': 'INSIDE GAME | PERAK FC VS KELANTAN FC \\n\\nTonton video penuh di  https://t.co/XLEVDKd8gE\\n\\n#TheRedWarriors #GomoKelateGomo\\n#Zamburger #HotelZamburger #DinJayBeeSatay\\n#ThePowerofGomoMindset #TRWSelamanya https://t.co/bcigrYJFVW',\n",
       "  'normalized': 'Inside game | Perak FC visi Kelantan FC Tonton video penuh di https://t.co/XLEVDKd8gE #TheRedWarriors #GomoKelateGomo #Zamburger #HotelZamburger #DinJayBeeSatay #ThePowerofGomoMindset #TRWSelamanya https://t.co/bcigrYJFVW'},\n",
       " {'original': 'Sekian, terima kasih. \\n\\n Kerjasama Demi Pembangunan Mahasiwa \\n\\nMajlis Perwakilan Pelajar &amp; Sekretariat Majlis Per https://t.co/cXEibdnUEq',\n",
       "  'normalized': 'Sekian, terima kasih. kerjasama demi pembangunan mahasiwa Majlis Perwakilan Pelajar & sekretariat Majlis per https://t.co/cXEibdnUEq'},\n",
       " {'original': '@bazziness Doakan semoga RohNya dicucuri rahmat',\n",
       "  'normalized': '@bazziness doakan semoga rohnya dicucuri rahmat'},\n",
       " {'original': '@raafikaziz @nadrxzak Hahahah rm149 beli kat butik dia memang ngam dah.. range kat situ.. affordable.. kain selesa. https://t.co/gTDol5KtFR',\n",
       "  'normalized': '@raafikaziz @nadrxzak haha rm149 beli kat butik dia memang ngam dah. . range kat situ. . affordable. . kain selesa. https://t.co/gTDol5KtFR'},\n",
       " {'original': '@raishussin MN kat slangor masih ada,,slangor kubu kuat ph selama 15 thun dri 2008 akan ke bn,,,n9 mmg kalah cam n9 https://t.co/6SMosjhObZ',\n",
       "  'normalized': '@raishussin MANA kat selangor masih ada, , selangor kubu kuat oh selama 15 tahun dari 2008 akan ke ibn, ,, dan-dan-dan-dan-dan-dan-dan-dan-dan memang kalah cam dan-dan-dan-dan-dan-dan-dan-dan-dan https://t.co/6SMosjhObZ'},\n",
       " {'original': 'Menangissss ', 'normalized': 'Menangiss'},\n",
       " {'original': 'Dah masuk ke 10k..lanje la ',\n",
       "  'normalized': 'Dah masuk ke 10k. lanja lah'},\n",
       " {'original': '@anishamzahhh Anak-anak muda, tolong keluar mengundi. Melaka &amp; Johor jatuh pada BN sebab ramai 90s babies tak balik https://t.co/ZY3lewe1Me',\n",
       "  'normalized': '@anishamzahh anak-anak muda, tolong keluar mengundi. Melaka & Johor jatuh pada BN sebab ramai 90s babies tidak balik https://t.co/ZY3lewe1Me'},\n",
       " {'original': 'Rampasan dibuat hasil enam serbuan di sekitar Kelantan membabitkan dadah jenis syabu, pil kuda dan ubat batuk \\nhttps://t.co/jEqRQOyxpH',\n",
       "  'normalized': 'Rampasan dibuat hasil enam serbuan di sekitar Kelantan membabitkan dadah jenis syabu, pil kuda dan ubat batuk https://t.co/jEqRQOyxpH'},\n",
       " {'original': 'KPM bina kolej tingkatan enam pertama diKelantan https://t.co/7nZ6gi7cD0',\n",
       "  'normalized': 'KPM bina kolej tingkatan enam pertama di Kelantan https://t.co/7nZ6gi7cD0'},\n",
       " {'original': 'sabah sarawak je yang masih ada jati diri melayu, orang semenanjung dah tukar english lalu cakap \"melayu tak akan h https://t.co/cX01Ct6Hb6',\n",
       "  'normalized': 'sabah sarawak sahaja yang masih ada jati diri melayu, orang semenanjung dah tukar english lalu cakap \" melayu tidak akan oh https://t.co/cX01Ct6Hb6'},\n",
       " {'original': '#AlorSetar Kerajaan negeri dan pihak berkaitan disaran kembali menggunakan nama beberapa lokasi bersejarah di Langk https://t.co/UOeR9j3HR4',\n",
       "  'normalized': '#AlorSetar kerajaan negeri dan pihak berkaitan disaran kembali menggunakan nama beberapa lokasi bersejarah di Langk https://t.co/UOeR9j3HR4'},\n",
       " {'original': '@lariesmanis Hai kak! \\n@xsebel lagi open reseller apk premium nih  harga start 500 perak, open dari pagi sampai ma https://t.co/5u4O13jz8E',\n",
       "  'normalized': '@lariesmanis Hai kak! @xsebel lagi open reseller apa premium sih harga start 500 perak, open dari pagi sampai ia https://t.co/5u4O13jz8E'},\n",
       " {'original': '189 KES COVID -19 DIKESAN DI SARAWAK HARI INI\\n\\n#COVID19\\n#LindungDiriLindungSemua\\n#MenangBersama\\n#JapenSarawak\\n#khabardariSarawak\\n#sodiakroks https://t.co/RRzIWsj7zg',\n",
       "  'normalized': '189 kes Covid - 19 dikesan di Sarawak HARI INI #COVID19 #LindungDiriLindungSemua #MenangBersama #JapenSarawak #khabardariSarawak #sodiakroks https://t.co/RRzIWsj7zg'},\n",
       " {'original': \"==Thread==\\n\\nAFAMOSA HASIL RUNTUHAN BATU ISTANA DAN MASJID?\\n\\nKetika ini, kerap berlegar mengenai isu pembinaan kota A'Famosa berasal daripada runtuhan masjid, makam dan istana Melaka. Maka, saya suka menjelaskan beberapa hal dan fakta: https://t.co/MUq4ITakrN\",\n",
       "  'normalized': \"= = thread = = AFAMOSA hasil runtuhan batu istana dan masjid ? ketika ini, kerap berlegar mengenai isu pembinaan kota A' Famosa berasal daripada runtuhan masjid, makam dan istana Melaka. maka, saya suka menjelaskan beberapa hal dan fakta : https://t.co/MUq4ITakrN\"},\n",
       " {'original': '@Alhumaira25 Hai, maaf lambat balas. Awak tinggal dimana ya? Kalau disekitar Selangor/ KL inshaallah, ada beberapa https://t.co/6BI9D0bvOq',\n",
       "  'normalized': '@Alhumaira25 Hai, maaf lambat balas. awak tinggal di mana ya ? kalau di sekitar Selangor / KUALA LUMPUR inshaallah, ada beberapa https://t.co/6BI9D0bvOq'},\n",
       " {'original': 'yeay mak buatkan sagu gula melaka &lt;333',\n",
       "  'normalized': 'yuyu mak buatkan sagu gula melaka < 333'},\n",
       " {'original': '@xsebel lagi open reseller apk premium nih  harga start 500 perak, open dari pagi sampai malam, admin ada 2 jadi f https://t.co/9cT4bYZnPG',\n",
       "  'normalized': '@xsebel lagi open reseller apa premium sih harga start 500 perak, open dari pagi sampai malam, demin ada 2 jadi f https://t.co/9cT4bYZnPG'},\n",
       " {'original': 'Kaulah gaung paling gema. Dari goa perawan yang isinya\\nlumut dan kelelawar. Aku mencarimu dengan demetar cinta.',\n",
       "  'normalized': 'Kaulah gaung paling gema. dari goa perawan yang isinya lumut dan kelelawar. aku mencarimu dengan demetar cinta .'},\n",
       " {'original': 'Kematian 8 remaja basikal lajak: Sam Ke Ting peroleh kebenaran rayu hukuman penjara enam tahun, denda RM6,000 di Mahkamah Rayuan Putrajaya https://t.co/xIwFax1IiG',\n",
       "  'normalized': 'Kematian 8 remaja basikal lajak : Sama ke Ting peroleh kebenaran rayu hukuman penjara enam tahun, denda RM6,000 di Mahkamah Rayuan Putrajaya https://t.co/xIwFax1IiG'},\n",
       " {'original': 'Kementerian berkenaan akan mempersembahkan tindakan yang telah disusuli pihak kementerian dalam membantu perbicaraan kes itu.\\n#AWANInews #AWANI745 \\nhttps://t.co/SJcUMEq4OB',\n",
       "  'normalized': 'Kementerian berkenaan akan mempersembahkan tindakan yang telah disusuli pihak kementerian dalam membantu perbicaraan kes itu. #AWANInews #AWANI745 https://t.co/SJcUMEq4OB'},\n",
       " {'original': 'FLORIDA (https://t.co/XHGDjVv6rs) Seorang pelajar kulit hitam menyerang pelajar kulit putih yang sedang memukuli brutal temannya yang seorang muslimah, pekan lalu.\\n\\nBerdasarkan video viral yg diunggah akun Instagram Aslee Marie Preston yang dilansirColumbia Country Observer https://t.co/4FodM1Mn5G',\n",
       "  'normalized': 'Florida (https://t.co/XHGDjVv6rs) seorang pelajar kulit hitam menyerang pelajar kulit putih yang sedang memukuli brutal temannya yang seorang muslimah, pekan lalu. berdasarkan video viral yang diunggah aku dan Instagram Aslee Marie Preston yang dilansir Columbia Country Observer https://t.co/4FodM1Mn5G'},\n",
       " {'original': 'Datang untuk berbual di ruangan LIVE [nama host] dan dapatkan bonus! Pengguna baru mengisi kod jemputan saya [kodje https://t.co/tJMeNV2vFx',\n",
       "  'normalized': 'datang untuk berbual di ruangan Live [ nama host ] dan dapatkan bonus! pengguna baru mengisi kod jemputan saya [ kod sahaja https://t.co/tJMeNV2vFx'},\n",
       " {'original': '@Zackrie1311 @MatthewShanmu10 @TonyBcastello @feraaldha @wallaun_cyber @OrangLa52912933 @dermainejupri @Pesallobbo @blackdogcute @saedah789 @CelineYeoh8888 @nor_junoh @blue_LangG @HadiNoMutu @PudinDon @REM084260711 @Jack_AntiBodo @HamdanRukun Next time up la berita terkini kerie botak yg bingai weiiii... Bodo kene game la ko ni Ngai .\\n\\nhttps://t.co/BTaLEn8XM8',\n",
       "  'normalized': '@Zackrie1311 @MatthewShanmu10 @TonyBcastello @feraaldha @wallaun_cyber @OrangLa52912933 @dermainejupri @Pesallobbo @blackdogcute @saedah789 @CelineYeoh88 @nor_junoh @blue_LangG @HadiNoMutu @PudinDon @REM084260711 @Jack_AntiBodo @HamdanRukun Next time naik lah berita terkini kera botak yang bingkai wei. .. Bodoh kena game lah kamu ini Ngai. https://t.co/BTaLEn8XM8'},\n",
       " {'original': 'Cuba terangkan kpd warga twitterian, fakta kecederaan Bella waktu bila?\\nDi mana pengasas dan pengasuh Rumah Bonda k https://t.co/8JzOZrCA0R',\n",
       "  'normalized': 'cuba terangkan kepada warga twitterian, fakta kecederaan Bella waktu bila ? di mana pengasas dan pengasuh rumah bonda okay https://t.co/8JzOZrCA0R'},\n",
       " {'original': '286 KES COVID -19 DIKESAN DI SARAWAK HARI INI\\n\\n#COVID19\\n#LindungDiriLindungSemua\\n#MenangBersama\\n#JapenSarawak\\n#khabardariSarawak\\n#sodiakroks https://t.co/WruT1g6qWw',\n",
       "  'normalized': '286 kes Covid - 19 dikesan di Sarawak HARI INI #COVID19 #LindungDiriLindungSemua #MenangBersama #JapenSarawak #khabardariSarawak #sodiakroks https://t.co/WruT1g6qWw'},\n",
       " {'original': '@fkdlwh Cryinn Terengganu ',\n",
       "  'normalized': '@fkdlwh Cryinn Terengganu'},\n",
       " {'original': 'Peminat Perak Berikan Sumbangan Kewangan Kepada Pemain https://t.co/cyVWP1pvbm',\n",
       "  'normalized': 'Peminat Perak berikan sumbangan kewangan kepada pemain https://t.co/cyVWP1pvbm'},\n",
       " {'original': 'Sekitar sidang media oleh YDH CP Dato Ayob Khan bin Mydin Pitchay, Pengarah JSJN di Ibu Pejabat Polis Kontinjen Ke https://t.co/wJ9CRDET44',\n",
       "  'normalized': 'Sekitar sidang media oleh Yang Dihormati CP Dato Ayob Kan bin Mydin Pitchay, Pengarah JSJN di Ibu Pejabat Polis Kontinjen ke https://t.co/wJ9CRDET44'},\n",
       " {'original': '3. Gubernur Jawa Barat Ridwan Kamil @ridwankamil dianggap sebagai sosok yg bersahaja dan kapasitas intelektual yg https://t.co/yRlLJ0shU9',\n",
       "  'normalized': '3. Gubernur Jawa Barat Ridwan Kamil @ridwankamil dianggap sebagai sosok yang bersahaja dan kapasitas intelektual yang https://t.co/yRlLJ0shU9'},\n",
       " {'original': 'Hospital Taiping perlu bekalan darah #malaysiagazette https://t.co/s5Ecp6xBbo',\n",
       "  'normalized': 'Hospital Taiping perlu bekalan darah #malaysiagazette https://t.co/s5Ecp6xBbo'},\n",
       " {'original': 'Kita bekalkan mereka makanan untuk berbuka, kita yang dapat pahala\\n\\nsyukur alhamdulillah',\n",
       "  'normalized': 'kita bekalkan mereka makanan untuk berbuka, kita yang dapat pahala syukur alhamdulillah'},\n",
       " {'original': '@khusairyz puchong kan dik? taknakkk situ. nangis nak keluar masuk gi kerja ',\n",
       "  'normalized': '@khusairyz Puchong kan adik ? tidak mahu situ. menangis nak keluar masuk pergi kerja'},\n",
       " {'original': '@hanaamendes nak tanya berpaa gaji minimum utk apply?',\n",
       "  'normalized': '@hanaamendes nak tanya berapa gaji minimum untuk apply ?'},\n",
       " {'original': 'Bazar ramadan mana best di sepang?',\n",
       "  'normalized': 'bazar ramadan mana best di sepang ?'},\n",
       " {'original': 'Okey la atleast tak penjara 6 tahun',\n",
       "  'normalized': 'Okey lah sekurang - kurangnya tidak penjara 6 tahun'},\n",
       " {'original': '@bntarmkirdlu Hai kak! \\n@xsebel lagi open reseller apk premium nih  harga start 500 perak, open dari pagi sampai m https://t.co/U3ZWfrsg0D',\n",
       "  'normalized': '@bntarmkirdlu Hai kak! @xsebel lagi open reseller apa premium sih harga start 500 perak, open dari pagi sampai am https://t.co/U3ZWfrsg0D'},\n",
       " {'original': '@sytonspeear Sb napa tak kahwin lagi',\n",
       "  'normalized': '@sytonspeear si napa tidak kahwin lagi'},\n",
       " {'original': \"@Zakuan_isma3el Semoga kutukan yg diterima menjadi bekalan terbaik utk akhirat. Inna lillahi wa Inna ilaihi raji'un https://t.co/JIJAqnLYmc\",\n",
       "  'normalized': \"@Zakuan_isma3el semoga kutukan yang diterima menjadi bekalan terbaik untuk akhirat. Inna lillahi wa ni wa ilahi raji' pun https://t.co/JIJAqnLYmc\"},\n",
       " {'original': '@hilangselera Ini di buah batu yahh',\n",
       "  'normalized': '@hilangselera ini di buah batu yah'},\n",
       " {'original': '#feedback alhamdulillah cust mai dari Sabah ni dah received perfume. Hehe. Yang bestnya, kotak takde dent tau  https://t.co/T6bBI07up9',\n",
       "  'normalized': '#feedback alhamdulillah pelanggan datang dari Sabah ini dah received perfume. hehe. yang bestnya, kotak tiada dent tahu https://t.co/T6bBI07up9'},\n",
       " {'original': 'hope aku tak baling lagi phone aku ',\n",
       "  'normalized': 'hope aku tidak baling lagi phone aku'},\n",
       " {'original': 'lambat betul. nampak la busy dia ni. faham bulan puasa banyak order.',\n",
       "  'normalized': 'lambat betul. nampak lah busy dia ini. faham bulan puasa banyak order .'},\n",
       " {'original': '@A100888 selamat menikmati hujan di awal pekan',\n",
       "  'normalized': '@A10088 selamat menikmati hujan di awal pekan'},\n",
       " {'original': 'Pantai Klumpang Salah Satu Daerah Tujuan Wisata di LabuanBajo https://t.co/gvtwLtW8BJ',\n",
       "  'normalized': 'Pantai Klumpang Salah Satu Daerah Tujuan Wisata di Labuanbajo https://t.co/gvtwLtW8BJ'},\n",
       " {'original': 'pergi semua speedmart kata tak ada stok. terpaksa beli online. harap sempat lah sampai sebelum balik kampung. https://t.co/8l6JFiROsb',\n",
       "  'normalized': 'pergi semua speedmart kata tidak ada stok. terpaksa beli online. harap sempat lah sampai sebelum balik kampung. https://t.co/8l6JFiROsb'},\n",
       " {'original': '@evinugra foto lawas wkwkwk ',\n",
       "  'normalized': '@evinugra foto lawas haha'},\n",
       " {'original': '#ICYMI Rina terharu atas keprihatinan dizahirkan baginda berdua yang sama-sama mengikuti perkembangan perbicaraan kes Bella.\\n#AWANInews #AWANIpagi\\n\\nhttps://t.co/SJcUMEIe2J',\n",
       "  'normalized': '#ICYMI Rina terharu atas keprihatinan dizahirkan baginda berdua yang sama-sama mengikuti perkembangan perbicaraan kes Bella. #AWANInews #AWANIpagi https://t.co/SJcUMEIe2J'},\n",
       " {'original': 'Legislator Banteng menekankan tentang pentingnya 4 pilar dalam kehidupan bermasyarakat. #MariDukungPembangunanRI https://t.co/g06kTtvVor',\n",
       "  'normalized': 'Legislator banteng menekankan tentang pentingnya 4 pilar dalam kehidupan bermasyarakat. #MariDukungPembangunanRI https://t.co/g06kTtvVor'},\n",
       " {'original': 'Rancang setahun lepas kahwin baru nak ada anak. Tapi Allah sebaik-baik perancang, 3 bulan kahwin terpregnant  Laki https://t.co/KfdrFjEcLK',\n",
       "  'normalized': 'Rancang setahun lepas kahwin baru nak ada anak. Tetapi Allah sebaik-baik perancang, 3 bulan kahwin terpregnant Lelaki https://t.co/KfdrFjEcLK'},\n",
       " {'original': 'Sedekad Jelajah Ramadan MELAKAfm 2022 \\n18 April - Team MELAKAfm menyantuni petugas barisan hadapan Hospital Jasin, https://t.co/xHVf3Q1MPL',\n",
       "  'normalized': 'Sedekad Jelajah Ramadan MELAKAfm 2022 18 April - Pasukan MELAKAfm menyantuni petugas barisan hadapan Hospital Jasin, https://t.co/xHVf3Q1MPL'},\n",
       " {'original': '@chacingnihh Hai kak! \\n@xsebel lagi open reseller apk premium nih  harga start 500 perak, open dari pagi sampai ma https://t.co/RksePmskhy',\n",
       "  'normalized': '@chacingnihh Hai kak! @xsebel lagi open reseller apa premium sih harga start 500 perak, open dari pagi sampai ia https://t.co/RksePmskhy'},\n",
       " {'original': 'Moga Allah balas jasa baik semua yang dah menyumbang sama ',\n",
       "  'normalized': 'Moga Allah balas jasa baik semua yang dah menyumbang sama'},\n",
       " {'original': '@MalayFoodHunter mcmner harga murtabak nih ye',\n",
       "  'normalized': '@MalayFoodHunter mcmner harga murtabak sih ya'},\n",
       " {'original': '\"Ada komitmen lain\" antara salah satu sebab ramai yang menanggguh Permohonan untuk adakan Hibah Takaful buat keluar https://t.co/QsRnWCwhEA',\n",
       "  'normalized': '\" ada komitmen lain \" antara salah satu sebab ramai yang menang gua permohonan untuk adakan hibah Takaful buat keluar https://t.co/QsRnWCwhEA'},\n",
       " {'original': 'Musim bunga kat Malaysia sekarang ni. Lokasi di Masjid Tanah Melaka. Dah macam bunga sakura. Cantik wei!\\n\\nKat Alor Setar sekarang pun sama gak. Tak sempat nak tangkap gambarnya. Haha\\n\\nBtw, gambar ni saya perolehi dari fb Nana Fadzil. \\n\\nCuba korg share kat tempat korang pulak. https://t.co/mainNUWf1F',\n",
       "  'normalized': 'Musim bunga kat Malaysia sekarang ini. lokasi di Masjid Tanah Melaka. Dah macam bunga sakura. cantik wei! Di Alor Setar sekarang pun sama juga. Tidak sempat nak tangkap gambarnya. haha Dengan Cara Itu, gambar ini saya perolehi dari facebook Nana Fadzil. cuba kamu semua share kat tempat kamu semua pula. https://t.co/mainNUWf1F'},\n",
       " {'original': '@dnlarf Aji tu boleh adjust apa ja? Preload?',\n",
       "  'normalized': '@dnlarf Aji itu boleh adjust apa sahaja ? preload ?'},\n",
       " {'original': 'Hello2... \\n\\nSaya ada buat urutan massage untuk lelaki di pulau Langkawi ada siapa-siapa yang bercuti atau pendudu https://t.co/ypTpyVdt9d',\n",
       "  'normalized': 'Hello2. .. saya ada buat urutan massage untuk lelaki di pulau Langkawi ada siapa-siapa yang bercuti atau pendudu https://t.co/ypTpyVdt9d'},\n",
       " {'original': 'hi adik @donttoucheume',\n",
       "  'normalized': 'si adik @donttoucheume'},\n",
       " {'original': 'Masjid yang cantik &amp; unik ni akan merasmikan Solat Jumaat pertama 20/09/2019. \\n\\nMasjid Sri Sendayan, Negeri Sembilan\\n\\n**Jemput semua mengimarahkan\\n\\nRT &amp; Sebarkan!  https://t.co/fCEhruMzds',\n",
       "  'normalized': 'Masjid yang cantik & unik ini akan merasmikan solat Jumaat pertama 20 / kosong sembilan / 2019. Masjid Sri Sendayan, Negeri Sembilan * * jemput semua mengimarahkan RT & sebarkan! https://t.co/fCEhruMzds'},\n",
       " {'original': 'kadang ia timbulkan side effect yang menyusahkan result akedemik bagus tapi perangai sepadan dengan perangai jin bu https://t.co/jWbmq7DbxT',\n",
       "  'normalized': 'kadang ia timbulkan side effect yang menyusahkan result akedemik bagus tetapi perangai sepadan dengan perangai jin ibu https://t.co/jWbmq7DbxT'},\n",
       " {'original': '#InfoOnWheels &amp; PMR Outreach sekitar kawasan Taman Sri Petaling di Parlimen P.122 Seputeh pada 17 April 2022. \\n\\nKawasan yang terlibat :\\n Sekitar Bazaar Ramadan Bandar Baru Sri Petaling\\n Jalan 1/149D \\n Jalan 2/149D \\n Jalan 3/149D \\n Jalan 4/149D\\n Jalan 5/149D https://t.co/cnLc1xJkuh',\n",
       "  'normalized': '#InfoOnWheels & PMR Outreach sekitar kawasan Taman Sri Petaling di parlimen P.122 Seputeh pada 17 April 2022. Kawasan yang terlibat : sekitar Bazaar Ramadan Bandar Baru Sri Petaling Jalan 1 / 149D Jalan 2 / 149D Jalan 3 / 149D Jalan 4 / 149D Jalan 5 / 149D https://t.co/cnLc1xJkuh'},\n",
       " {'original': 'Ada yang nak bersama @SedekahRamadhan beri pek makanan berbuka puasa?\\n\\nKLIK: https://t.co/JCVFiEwPgd',\n",
       "  'normalized': 'Ada yang nak bersama @SedekahRamadhan beri pek makanan berbuka puasa ? klik : https://t.co/JCVFiEwPgd'},\n",
       " {'original': '@kvwine sedia es batu di celana',\n",
       "  'normalized': '@kvwine sedia ais batu di celana'},\n",
       " {'original': 'Hampir setiap orang mempunyai kisah silam gelap mereka. Tetapi itu tidak bermakna mereka tiada masa hadapan yang cerah.',\n",
       "  'normalized': 'Hampir setiap orang mempunyai kisah silam gelap mereka. tetapi itu tidak bermakna mereka tiada masa hadapan yang cerah .'},\n",
       " {'original': '2. pdkt https://t.co/JVAmJCyIhi',\n",
       "  'normalized': '2. pdat https://t.co/JVAmJCyIhi'},\n",
       " {'original': 'todiaaa , yg kata cikgu ibarat lilin tu',\n",
       "  'normalized': 'kepada dia, yang kata cikgu ibarat lilin itu'},\n",
       " {'original': '@BayuSuyantino Tambun join the club tuh kalo soal macet mah ',\n",
       "  'normalized': '@BayuSuyantino Tambun join the club itu kalau soal macet mah'},\n",
       " {'original': 'Honestly Al-Quran still blown my mind over science facts in it. Tambah pula dgn betapa besarnya sayang Allah dekat https://t.co/K2XSq8n8Ft',\n",
       "  'normalized': 'honestly Al-Quran still blown mi mind over science facts ini ia. tambah pula dengan betapa besarnya sayang Allah dekat https://t.co/K2XSq8n8Ft'},\n",
       " {'original': 'Saat Domenico Tedesco masuk di pekan ke-15, RB Leipzig terdampar di peringkat 11.\\n\\nSaat ini RBL sudah berada di peringkat ketiga dan masih punya empat pekan untuk menggeser Dortmund di peringkat kedua \\n\\n#MOLAxSpieltag\\n\\nhttps://t.co/enAxcqmMq9',\n",
       "  'normalized': 'Saat Domenico tedesco masuk di pekan ke-15, RB Leipzig terdampar di peringkat 11. saat ini RBL sudah berada di peringkat ketiga dan masih punya empat pekan untuk menggeser Dortmund di peringkat kedua #MOLAxSpieltag https://t.co/enAxcqmMq9'},\n",
       " {'original': '@lwtsha Ala  try dkt tapak, cheras pon sedap wehh tak rude nakk?',\n",
       "  'normalized': '@lwtsha ala try dekat tapak, cheras pun sedap teh tidak rude nak ?'},\n",
       " {'original': 'Real betul cari parking dekat Putrajaya tadi. Nasib sempat join kes hari ni.',\n",
       "  'normalized': 'Real betul cari parking dekat Putrajaya tadi. nasib sempat join kes hari ini .'},\n",
       " {'original': '@kamu_doang Ayu, ku di batu seminggu kedepan',\n",
       "  'normalized': '@kamu_doang Ayu, ku di batu seminggu ke depan'},\n",
       " {'original': 'DAP masih berazam dan bernafsu besar merampas Putrajaya..... Hati-hati semua... Jangan alpa atau termakan fitnah dan persepsi jahat yang mereka sebarkan terhadap UMNO sepanjang masa... Ingat.. UMNO payung kesejahteraan Melayu yang sebenarnya https://t.co/LOdYQSQrad',\n",
       "  'normalized': 'DAP masih berazam dan bernafsu besar merampas Putrajaya. .. .. hati-hati semua. .. jangan alpa atau termakan fitnah dan persepsi jahat yang mereka sebarkan terhadap UMNO sepanjang masa. .. ingat. . UMNO payung kesejahteraan Melayu yang sebenarnya https://t.co/LOdYQSQrad'},\n",
       " {'original': 'Mungkinlah sesetengah penyokong Perak tak mahu beri duit kepada pengurusan sekarang. Jika begitu, untuk elak penganiayaan berterusan kepada pemain &amp; kakitangan, eloklah @MFL_MY tarik balik pendaftaran. Tutup dulu, atur &amp; bangkit kembali, seperti Perlis. \\n\\nhttps://t.co/fuiNe0ogyZ',\n",
       "  'normalized': 'Mungkinlah sesetengah penyokong Perak tidak mahu beri duit kepada pengurusan sekarang. jika begitu, untuk elak penganiayaan berterusan kepada pemain & kakitangan, eloklah @MFL_MY tarik balik pendaftaran. tutup dahulu, atur & bangkit kembali, seperti Perlis. https://t.co/fuiNe0ogyZ'},\n",
       " {'original': 'DIHARAP dapat memberi perkhidmatan yang cemerlang, komited, amanah dan integriti dalam menaikkan nama baik polis. https://t.co/uJfCG6ydtJ',\n",
       "  'normalized': 'diharap dapat memberi perkhidmatan yang cemerlang, komited, amanah dan integriti dalam menaikkan nama baik polis. https://t.co/uJfCG6ydtJ'},\n",
       " {'original': '@shahran86 Hahahahah jnoh ghelaihhh oiii... Cuci kawah.... ',\n",
       "  'normalized': '@shahran86 haha junho ghelaihh oii. .. cuci kawah. .. .'},\n",
       " {'original': 'Sahabatku, Disiplin adalah bagian dari ajaran Islam. Dan, Rosululloh SAW sangat mengajarkan kedisiplinan, mari kita perhatikan tetesan air yang jatuh di atas bongkahan batu. batu yang keras pun lama lama menjadi cekung karena tetesan air . . #TeladanRasul https://t.co/QuMnagh1Mo',\n",
       "  'normalized': 'Sahabatku, disiplin adalah bagian dari ajaran Islam. dan, Rosululloh SAW sangat mengajarkan ke disiplinan, mari kita perhatikan tetesan air yang jatuh di atas bongkahan batu. batu yang keras pun lama lama menjadi cekung karena tetesan air. . #TeladanRasul https://t.co/QuMnagh1Mo'},\n",
       " {'original': 'Ayo nikmati apa yang kita punya sekarang. Seorang bandit gunung saja setiap harinya bekerja mengangkat batu keatas https://t.co/7quO1t8DD7',\n",
       "  'normalized': 'Ayo nikmati apa yang kita punya sekarang. seorang bandit gunung sahaja setiap harinya bekerja mengangkat batu keatas https://t.co/7quO1t8DD7'},\n",
       " {'original': 'pacaran sama yang seusia itu kadang butuh mental yang kuat ya soalnya sama-sama kayak batu.',\n",
       "  'normalized': 'pacaran sama yang seusia itu kadang butuh mental yang kuat ya soalnya sama-sama kayak batu .'},\n",
       " {'original': 'Me remind helper kat rumah ibu kat kampung suruh kemas bilik. Sebab alergik habuk, so takmau balik nt kang dok taks https://t.co/Q8UgLtZNkW',\n",
       "  'normalized': 'Me remind helper kat rumah ibu kat kampung suruh kemas bilik. sebab alergik habuk, jadi tidak mahu balik ni kang dok teks https://t.co/Q8UgLtZNkW'},\n",
       " {'original': 'Awalnya \"Fresh\" tampak bak romcom gemas. Seorang perempuan jatuh suka pada lelaki tampan, sopan &amp; karirnya jelas. Tapi film yg bawa topik online dating ini lantas berubah ke ranah tak terduga &amp; gelap seraya ingatkan penonton; jangan gampang terbuai dgn kesempurnaan orang asing. https://t.co/3WJ2M18t9O',\n",
       "  'normalized': 'Awalnya \" Fresh \" tampak bak romcom gemas. seorang perempuan jatuh suka pada lelaki tampan, sopan & kariernya jelas. Tetapi film yang bawa topik online dating ini lantas berubah ke ranah tidak terduga & gelap seraya ingatkan penonton ; jangan gampang terbuai dengan kesempurnaan orang asing. https://t.co/3WJ2M18t9O'},\n",
       " {'original': 'Teringin nak makan colek kerang. Mana nak cari ni? Sbb aku malas nak masak',\n",
       "  'normalized': 'teringin nak makan colek kerang. mana nak cari ini ? Sebab aku malas nak masak'},\n",
       " {'original': 'Sedap pulut mangga diaauto teringt perlis https://t.co/Y5GT4gcLse',\n",
       "  'normalized': 'Sedap pulut mangga dia auto teringat perlis https://t.co/Y5GT4gcLse'},\n",
       " {'original': '      \\n\\nSalah satu feedback customer Tonik Tok Ayah yang sudah merasakan https://t.co/OOflVo1B8l',\n",
       "  'normalized': 'Salah satu feedback customer tonik Tok Ayah yang sudah merasakan https://t.co/OOflVo1B8l'},\n",
       " {'original': 'rasanya da boleh start menabung kod',\n",
       "  'normalized': 'rasanya dah boleh start menabung kod'},\n",
       " {'original': '@ftnzrahhnp Cheras boleh try. Tapi kalau rude juga mmg cancelled lagi ',\n",
       "  'normalized': '@ftnzrahhnp Cheras boleh try. Tetapi kalau rude juga memang cancelled lagi'},\n",
       " {'original': '@RieGucciano Tambun juga puanas',\n",
       "  'normalized': '@RieGucciano Tambun juga puan si'},\n",
       " {'original': '#InfoOnWheels sekitar Parlimen P.124 Bandar Tun Razak pada hari ini, 17 April 2022. \\n\\nKawasan yang terlibat :\\n Jalan Jelawat 1\\n Jalan Jelawat 2\\n Perumahan Awam (PA) Seri Johor Blok 21\\n PA Seri Johor Blok 29\\n PA Seri Johor Blok 13\\n PA Seri Johor Blok 4c\\n Plaza Amber https://t.co/WHm2ToTjse',\n",
       "  'normalized': '#InfoOnWheels sekitar Parlimen P.124 Bandar Tun Razak pada hari ini, 17 April 2022. Kawasan yang terlibat : Jalan Jelawat 1 Jalan Jelawat 2 Perumahan Awam (ia) seri Johor blok 21 PA Seri Johor blok 29 PA Seri Johor blok 13 PA Seri Johor blok 4c Plaza Amber https://t.co/WHm2ToTjse'},\n",
       " {'original': '1430hrs: Semua lorong berfungsi dengan baik. Hati-hati memandu. (Plaza Tol Putrajaya) https://t.co/ZWSwqlCKft',\n",
       "  'normalized': 'pukul 01.50:24 : semua lorong berfungsi dengan baik. hati-hati memandu. (Plaza Tol Putrajaya) https://t.co/ZWSwqlCKft'},\n",
       " {'original': 'Seperti koperasi yang anggotanya hanya 20 sampai 50 orang, mereka untuk membuat sistem aplikasi seperti ini kan bia https://t.co/5UuV2pKxeR',\n",
       "  'normalized': 'Seperti koperasi yang anggotanya hanya 20 sampai 50 orang, mereka untuk membuat sistem aplikasi seperti ini kan bisa https://t.co/5UuV2pKxeR'},\n",
       " {'original': 'Bawa balik ke mentua senyum meleret tau new raya giftbox for you FREE and same-day delivery for Melaka KL Selangor\\n\\nRM100 small raga\\nRM140 big raga\\nhttps://t.co/uKHKqbcetF https://t.co/XMDxAxk3MD',\n",
       "  'normalized': 'bawa balik ke mentua senyum meleret tahu new raya gift box for you PERCUMA and same-day delivery for Melaka KUALA LUMPUR Selangor RM100 small raga RM140 big raga https://t.co/uKHKqbcetF https://t.co/XMDxAxk3MD'},\n",
       " {'original': 'MAKLUMAN\\nPerubahan slot janji temu pada 19 April 2022 di PPV Dewan SK Putrajaya Presint 11 (3), Putrajaya.\\n\\n#PICKBooster\\n#LindungDiriLindungSemua\\n#KitaJagaKita\\n#KitaMestiMenang\\n#MenangBersama\\n#COVID19\\n#coronavirus\\n#KLCeria\\n#CMSWPKL https://t.co/i6d9vsrN3Z',\n",
       "  'normalized': 'Makluman perubahan slot janji temu pada 19 April 2022 di PPV Dewan SK Putrajaya Presint 11 (3), Putrajaya. #PICKBooster #LindungDiriLindungSemua #KitaJagaKita #KitaMestiMenang #MenangBersama #COVID19 #coronavirus #KLCeria #CMSWPKL https://t.co/i6d9vsrN3Z'},\n",
       " {'original': 'Just posted a photo @ Butik Hujung Kaki https://t.co/NMCCHILOGe',\n",
       "  'normalized': 'Just posted ia photo @ Butik Hujung kaki https://t.co/NMCCHILOGe'},\n",
       " {'original': 'Satu kegembiraan bila yg memerlukan dpt sayur segar dengan lobak merah. Dah lepas dah untuk mereka menu sayur waktu https://t.co/gTtIZ5s88I',\n",
       "  'normalized': 'Satu kegembiraan bila yang memerlukan dapat sayur segar dengan lobak merah. Dah lepas dah untuk mereka menu sayur waktu https://t.co/gTtIZ5s88I'},\n",
       " {'original': 'Kontolnya gatel.', 'normalized': 'Kontolnya gatal .'},\n",
       " {'original': '@ImranAjmain Sedikit mendung menanti sendu',\n",
       "  'normalized': '@ImranAjmain sedikit mendung menanti sendu'},\n",
       " {'original': 'curang tu da biasa laa zaman sekarang .. orang dah taknak kisah da ..',\n",
       "  'normalized': 'curang itu dah biasa lah zaman sekarang. . orang dah tidak mahu kisah dah. .'},\n",
       " {'original': 'Gw kira capri udah paling batu. Ga taunya ada yg lebih batu lagi  https://t.co/CWuwhnLImP',\n",
       "  'normalized': 'Saya kira capri sudah paling batu. ia tahunya ada yang lebih batu lagi https://t.co/CWuwhnLImP'},\n",
       " {'original': '@aimansalim_ haritu kau review burger kat bangi apa nama kedai dia?',\n",
       "  'normalized': '@aimansalim_ hari itu kamu review burger kat Bangi apa nama kedai dia ?'},\n",
       " {'original': 'Delivery : Sg buloh, shah alam, kl, bangi, upm, uia, uitm shah alam, uitm puncak alam \\n\\nhttps://t.co/91puFQHXxm https://t.co/kakzHwQXCh',\n",
       "  'normalized': 'Delivery : Sg buloh, shah alam, kuala lumpur, Bangi, upm, ia, uitm shah alam, uitm puncak alam https://t.co/91puFQHXxm https://t.co/kakzHwQXCh'},\n",
       " {'original': 'dirasa kita serasi seperti selai kacang dan jeli',\n",
       "  'normalized': 'dirasa kita serasi seperti selai kacang dan jeli'},\n",
       " {'original': '@thelast_demigod ... Apa benda point atau hujah kau ni? Yang kau tiba2 kau alih ke isu Premier , isu Sarawak ken https://t.co/N7GqciIbgO',\n",
       "  'normalized': '@thelast_demigod. .. apa benda point atau hujah kamu ini ? yang kamu tiba-tiba kamu alih ke isu Premier, isu Sarawak ken https://t.co/N7GqciIbgO'},\n",
       " {'original': 'POLRES LABUHANBATU UNGKAP PEREDARAN NARKOTIKA DI KOTA RANTAU PRAPAT: NUSANTARAEXPRESS, LABUHANBATU - Kapolres Labuh https://t.co/BVaPnPYKc3',\n",
       "  'normalized': 'Polres Labuhanbatu ungkap peredaran narkotika di kota rantau Prapat : NUSANTARAEXPRESS, Labuhanbatu - Kapolres labuh https://t.co/BVaPnPYKc3'},\n",
       " {'original': 'Dah nak mati sangat tuu...',\n",
       "  'normalized': 'Dah nak mati sangat itu. . .'},\n",
       " {'original': 'Dah penah try tapi kalau nak makan je mesti cari tak jumpa kedai dia ni \\n https://t.co/lDVlNDLrER',\n",
       "  'normalized': 'Dah penah try tetapi kalau nak makan sahaja mesti cari tidak jumpa kedai dia ini https://t.co/lDVlNDLrER'},\n",
       " {'original': '14 Ramadhan iftar umh janie setapak https://t.co/W77hIuxlOk',\n",
       "  'normalized': '14 Ramadhan iftar mahu jana setapak https://t.co/W77hIuxlOk'},\n",
       " {'original': '#InfoOnWheels &amp; PMR Outreach sekitar Parlimen P.117 Segambut pada 16 April 2022. \\n\\nKawasan yang terlibat :\\n Jalan Udang Kapas \\n Jalan Udang Rawa \\n Jalan Udang Siar \\n Jalan Udang Ketak \\n Jalan Sri Segambut\\n Jalan Udang Gantung\\n Jalan Pintasan Segambut\\n Taman Megah https://t.co/YTE6HrEa7p',\n",
       "  'normalized': '#InfoOnWheels & PMR Outreach sekitar Parlimen P.117 Segambut pada 16 April 2022. Kawasan yang terlibat : Jalan Udang kapas Jalan Udang Rawa Jalan Udang siar Jalan Udang ketak Jalan Sri Segambut Jalan Udang gantung Jalan Pintasan Segambut Taman Megah https://t.co/YTE6HrEa7p'},\n",
       " {'original': 'Cape jadi manusia mau jadi mermet',\n",
       "  'normalized': 'Capek jadi manusia mahu jadi merket'},\n",
       " {'original': 'JAWATAN KOSONG KAWASAN KEMAMAN\\n\\nBOOST EWALLET EXECUTIVE\\n\\nBerminat boleh PM\\nhttps://t.co/GgNSBBoZcb https://t.co/JYo0arC70J',\n",
       "  'normalized': 'Jawatan kosong kawasan Kemaman Boost EWALLET Executive berminat boleh PM https://t.co/GgNSBBoZcb https://t.co/JYo0arC70J'},\n",
       " {'original': 'Sian wife aku harini rasa nak demam urat sebab leher terkehel cari stock layan order korang, Semoga cepat sembuh da https://t.co/tBlGXJIMWn',\n",
       "  'normalized': 'Sian wife aku hari ini rasa nak demam urat sebab leher terkehel cari stock layan order kamu semua, semoga cepat sembuh dah https://t.co/tBlGXJIMWn'},\n",
       " {'original': '#InfoOnWheels sekitar kawasan Taman Sungai Besi di Parlimen P.120 Bukit Bintang pada 16 April 2022. \\n\\nKawasan yang terlibat :\\n Jalan 11/108\\n Jalan 12/108\\n Jalan 13/108\\n Jalan 14/108\\n Jalan 15/108\\n Jalan 16/108\\n Jalan 17/108\\n Jalan 1/108C\\n Jalan 2/108C https://t.co/Smndqvgad8',\n",
       "  'normalized': '#InfoOnWheels sekitar kawasan Taman Sungai Besi di parlimen P.120 Bukit Bintang pada 16 April 2022. Kawasan yang terlibat : Jalan 11 / 108 Jalan 12 / 108 Jalan 13 / 108 Jalan 14 / 108 Jalan 15 / 108 Jalan 16 / 108 Jalan 17 / 108 Jalan 1 / 108C Jalan 2 / 108C https://t.co/Smndqvgad8'},\n",
       " {'original': '@kidosougo DBKDKD SSSSHHHH udah udah, biarkan Akane mimpi jadi macam tutul, kasian dia udah make bajunya dengan ban https://t.co/D0syB5qpHq',\n",
       "  'normalized': '@kidosougo DBKDKD SSHH sudah sudah, biarkan Akane mimpi jadi macam tutul, kasihan dia sudah make bajunya dengan ban https://t.co/D0syB5qpHq'},\n",
       " {'original': '#AWANInews #AWANI745 \\nPDRM, KDN bincang wujudkan laluan keselamatan sempadan baharu di Sarawak\\n\\nhttps://t.co/Vcp9zxWVhT',\n",
       "  'normalized': '#AWANInews #AWANI745 PDRM, KDN bincang wujudkan laluan keselamatan sempadan baharu di Sarawak https://t.co/Vcp9zxWVhT'},\n",
       " {'original': 'ASSISTANT WAREHOUSE | Shah Alam Seksyen 22\\n\\n22 April - 6 Mei 2022\\nShift 8 pagi - 6 petang\\nGaji RM80-RM85 sehari https://t.co/lt1lmTi8cj',\n",
       "  'normalized': 'Assistant Warehouse | Shah Alam Seksyen 22 22 April - 6 Mei 2022 shift pukul 08 - pukul 18 gaji RM80 - RM85 sehari https://t.co/lt1lmTi8cj'},\n",
       " {'original': 'sedang mencoba menghibur dan menyadarkan bestie agar tidak larut dlm penyesalan.. agak emosi aku krn dia asik menya https://t.co/oepF05X5Eg',\n",
       "  'normalized': 'sedang mencoba menghibur dan menyadarkan beste agar tidak larut dalam penyesalan. . agak emosi aku kerana dia asik menyara https://t.co/oepF05X5Eg'},\n",
       " {'original': '@Sergeanttttt dikasihnya berapa ton es batu tuh',\n",
       "  'normalized': '@Sergeantt dikasihnya berapa ton ais batu itu'},\n",
       " {'original': 'kalau kat kampus bagitau kakak je sebab dia paling dekat. semua benda aku update dekat dia mcm haritu tak sihat bes https://t.co/lj0ZrjaUzV',\n",
       "  'normalized': 'kalau kat kampus bagitau kakak sahaja sebab dia paling dekat. semua benda aku update dekat dia macam hari itu tidak sihat bes https://t.co/lj0ZrjaUzV'},\n",
       " {'original': '@HamzaHNK Allahuakbar', 'normalized': '@HamzaHNK Allahuakbar'},\n",
       " {'original': 'RABU NI EMMA NK COD KAT CHUT  ADA UITM SHAH ALAM STUDENT YG NAK BELI KAMELIA COSMETICS TAK? EMMA BOLEH SEKALI COD NANTI KANNN',\n",
       "  'normalized': 'Rabu INI Emma NAK COD DI Chut ada UITM SHAH ALAM PELAJAR YANG nak beli Kamelia Cosmetics TIDAK ? Emma boleh sekali COD nanti kan'},\n",
       " {'original': 'Just posted a photo @ Butik Hujung Kaki https://t.co/f1QFBGXXTC',\n",
       "  'normalized': 'Just posted ia photo @ Butik Hujung kaki https://t.co/f1QFBGXXTC'},\n",
       " {'original': 'Banglo Lot sebelah Taman Perkasa Bt 14 HuluLangat https://t.co/7IRUNbkvFC',\n",
       "  'normalized': 'Banglo lot sebelah taman Perkasa batu 14 HuluLangat https://t.co/7IRUNbkvFC'},\n",
       " {'original': 'Ngakakkkkk', 'normalized': 'Ngakakk'},\n",
       " {'original': 'Leganya tau titik eye-mo ni tak membatalkan posa ',\n",
       "  'normalized': 'leganya tahu titik eye-mo ini tidak membatalkan pola'},\n",
       " {'original': '@panzer194045 Hahahah boring bah tunggu giliran kena panggil ',\n",
       "  'normalized': '@panzer194045 haha boring bah tunggu giliran kena panggil'},\n",
       " {'original': '@yesvaras *pegang batu*',\n",
       "  'normalized': '@yesvaras * pegang batu *'},\n",
       " {'original': '@LebaqKeythod Pendekkan laaa hahahahh',\n",
       "  'normalized': '@LebaqKeythod pendekkan lah haha'},\n",
       " {'original': 'Perlawanan LS5: Terengganu FC Vs Selangor FC.\\n\\n Stadium Sultan Mizan Zainal Abidin\\n Jumaat, 22 April 2022\\n 10:00 https://t.co/ThhtyyEUgo',\n",
       "  'normalized': 'Perlawanan LS5 : Terengganu FC visi Selangor FC. Stadium Sultan Mizan Zainal Abidin Jumaat, 22 April 2022 pukul 10 https://t.co/ThhtyyEUgo'},\n",
       " {'original': '15 Ramadhan iftar di kedai dehe Nilai 3.. https://t.co/lwqRsmSrD1',\n",
       "  'normalized': '15 Ramadhan iftar di kedai desa Nilai 3. . https://t.co/lwqRsmSrD1'},\n",
       " {'original': 'mereka untuk membuat sistem aplikasi seperti ini kan biayanya sangat besar. Padahal mereka sangat membutuhkan siste https://t.co/BIo1J9rb3Z',\n",
       "  'normalized': 'mereka untuk membuat sistem aplikasi seperti ini kan biayanya sangat besar. padahal mereka sangat membutuhkan sista https://t.co/BIo1J9rb3Z'},\n",
       " {'original': 'Syomirizwa Gupta\\nEaster Extravaganza Show\\nPhoto by teknosual \\n\\n@syomirizwagupta @syomsz\\n@secretsundaysocial https://t.co/ZdjeVn5U9h',\n",
       "  'normalized': 'Syomirizwa Gupta Easter Extravaganza Show Photo dengan teknosual @syomirizwagupta @syomsz @secretsundaysocial https://t.co/ZdjeVn5U9h'},\n",
       " {'original': 'Dikhabarkan @McDonalds bakal buka cawangannya di Pantai Batu Buruk (Tapak Kedai Makan Taita), bertambah sibuklah Pantai Batu Buruk, molek jugok, McD Padang Hiliran berbolok serok ngat selama ning, dengan pertambahan ning ada lah pilihan selain di Gong Badak.\\n\\n Syed Syed https://t.co/HyMBwzrQ4T',\n",
       "  'normalized': 'Dikhabarkan @McDonalds bakal buka cawangannya di Pantai Batu Buruk (tapak Kedai Makan Taita), bertambah sibuklah Pantai Batu Buruk, molek jugak, McD Padang Hiliran berblok serok niat selama ning, dengan pertambahan ning ada lah pilihan selain di Gong Badak. Syed Syed https://t.co/HyMBwzrQ4T'},\n",
       " {'original': 'ASSISTANT WAREHOUSE | Shah Alam Seksyen 22\\n\\n22 April - 6 Mei 2022\\nShift 8 pagi - 6 petang\\nGaji RM80-RM85 sehari https://t.co/zhr2JwK6ET',\n",
       "  'normalized': 'Assistant Warehouse | Shah Alam Seksyen 22 22 April - 6 Mei 2022 shift pukul 08 - pukul 18 gaji RM80 - RM85 sehari https://t.co/zhr2JwK6ET'},\n",
       " {'original': 'Mas ___ gemetaran liat ini https://t.co/uq8v2wivFn',\n",
       "  'normalized': 'Mas __ gemetaran lihat ini https://t.co/uq8v2wivFn'},\n",
       " {'original': '@gl1tchyb0y_ Mandi es batu yok',\n",
       "  'normalized': '@gl1tchyb0y_ mandi ais batu yok'},\n",
       " {'original': 'Stop buat gwejh salting',\n",
       "  'normalized': 'Stop buat gwejh salting'},\n",
       " {'original': 'Kalau students UITM Shah Alam nak join roger roger okehhh ',\n",
       "  'normalized': 'Kalau students Uitm Shah Alam nak join roger roger okehh'},\n",
       " {'original': '@MaiKhan58557718 betul tu...seburuk mna pun mereka, mereka la sedara darah daging kita yg memahami... moga awak cwp https://t.co/0I5Mj6VcND',\n",
       "  'normalized': '@MaiKhan58557718 betul itu. .. seburuk mana pun mereka, mereka lah sedara darah daging kita yang memahami. .. moga awak cip https://t.co/0I5Mj6VcND'},\n",
       " {'original': 'Dan dan laaa menghadap. Kalau TMJ tak mula, hg pun senyap?',\n",
       "  'normalized': 'Dan dan lah menghadap. Kalau TMJ tidak mula, kamu pun senyap ?'},\n",
       " {'original': 'Halo kak, Mohon maaf atas ketidaknyamanannya. Untuk informasi lebih lanjut silahkan kakak hubungi MandiriCare LiveC https://t.co/IGuWfwTxsV',\n",
       "  'normalized': 'Halo kak, mohon maaf atas ketidaknyamanannya. Untuk informasi lebih lanjut silakan kakak hubungi MandiriCare LiveC https://t.co/IGuWfwTxsV'},\n",
       " {'original': 'klo lomba mirip jennie, jennienya juara 2',\n",
       "  'normalized': 'kalau lomba mirip jennie, jennienya juara 2'},\n",
       " {'original': 'Panggilan laut, hutan hujan tropika, dan ketenangan waktu yang tak terasa berlalu... Semuanya menyatu dalam gaya pe https://t.co/fbbYZNijyE',\n",
       "  'normalized': 'Panggilan laut, hutan hujan tropika, dan ketenangan waktu yang tidak terasa berlalu. .. semuanya menyatu dalam gaya ke https://t.co/fbbYZNijyE'},\n",
       " {'original': '@emJefry @berlaridanmati @RizkyMaryana Eh aya sultan batu jajar',\n",
       "  'normalized': '@emJefry @berlaridanmati @RizkyMaryana teh aya sultan batu jajar'},\n",
       " {'original': 'Jika anda dilempar batu, maka balaslah dengan senyum dan bunga, namun pastikan potnya pun ikut.',\n",
       "  'normalized': 'Jika anda dilempar batu, maka balaslah dengan senyum dan bunga, namun pastikan potnya pun ikut .'},\n",
       " {'original': 'Next game! \\n\\nKuantan Ramadhan Cup 2022:\\nKuantan United vs Rocket Stone\\n\\n#KUFC\\n#kuantanunited\\n#kuantan https://t.co/FLT69l2iwT',\n",
       "  'normalized': 'Next game! Kuantan Ramadhan Cup 2022 : Kuantan United visi Rocket Stone #KUFC #kuantanunited #kuantan https://t.co/FLT69l2iwT'},\n",
       " {'original': 'Promo JCO BUY 1 GET 1 FREE untuk  Iced Pandan Brown Sugar\\n\\ninfo promo selengkapnya di sini &gt; https://t.co/zQHkKV6p9O https://t.co/OqibYkhYfO',\n",
       "  'normalized': 'Promo JCO Buy 1 Get 1 PERCUMA untuk Iced Pandan Brown Sugar indo firma selengkapnya di sini > https://t.co/zQHkKV6p9O https://t.co/OqibYkhYfO'},\n",
       " {'original': 'Just posted a photo @ Butik Hujung Kaki https://t.co/F3yMXRGmI7',\n",
       "  'normalized': 'Just posted ia photo @ Butik Hujung kaki https://t.co/F3yMXRGmI7'},\n",
       " {'original': 'Having good helper mmg rezeki sgt.\\nBibik dah balik indon for good.\\nSo mmg sukar ya kehidupan.\\nMujur ada kakak sorg https://t.co/xaRMMIVNHq',\n",
       "  'normalized': 'Having good helper memang rezeki sangat. bibik dah balik inden for good. Jadi memang sukar ya kehidupan. mujur ada kakak seorg https://t.co/xaRMMIVNHq'},\n",
       " {'original': 'dari Eropa Timur ke arah Asia Tenggara, sebuah wilayah yang sangat strategis dari sisi perdagangan dunia dan geopol https://t.co/iNTaxCUBD5',\n",
       "  'normalized': 'dari Eropa Timur ke arah Asia Tenggara, sebuah wilayah yang sangat strategis dari sisi perdagangan dunia dan gempol https://t.co/iNTaxCUBD5'},\n",
       " {'original': 'Check out (GROUP A)Baju Kurung Kedah/Baju Opah Size XS,S, M, L, XL, 2XL, 3XL blh pilih corak ikut No. baju dalam ga https://t.co/Tsf5NcSnJl',\n",
       "  'normalized': 'Semak out (Group A) Baju Kurung Kedah / baju Opah size XS, S, M, L, XL, 2XL, 3XL boleh pilih corak ikut uno. baju dalam gua https://t.co/Tsf5NcSnJl'},\n",
       " {'original': 'hmm jelesnya . leh keluaq iftar dgn member2 . mm tak pa lah sya ada gf ka takdak gf ka sama ja . nak buat cemana al https://t.co/XSyKtuiiy8',\n",
       "  'normalized': 'hmm jelasnya. boleh keluar iftar dengan member-member. mi tidak apa lah saya ada teman wanita ke tekad teman wanita ke sama sahaja. nak buat cemana la https://t.co/XSyKtuiiy8'},\n",
       " {'original': '@papachomel Kenapa ni?',\n",
       "  'normalized': '@papachomel kenapa ini ?'},\n",
       " {'original': 'Seperti koperasi yang anggotanya hanya 20 sampai 50 orang, mereka untuk membuat sistem aplikasi seperti ini kan bia https://t.co/MsERybxZAK',\n",
       "  'normalized': 'Seperti koperasi yang anggotanya hanya 20 sampai 50 orang, mereka untuk membuat sistem aplikasi seperti ini kan bisa https://t.co/MsERybxZAK'},\n",
       " {'original': '@morphcine Dikasi es batu aja biar dingin',\n",
       "  'normalized': '@morphcine dikasi ais batu sahaja biar dingin'},\n",
       " {'original': 'TAKLIMAT GURU NEGERI SELANGOR &amp; PERAK kini berlangsung! \\n\\nKalau anda sudah berdaftar, jangan ketinggalan dan sertai kami melalui pautan Zoom! \\n\\nPendaftaran boleh dibuat di https://t.co/nX7iJnPyOc\\n\\n#MOSTI #STEM #STIE #BerhubungBersaingBerjaya https://t.co/sgpNjmYrNc',\n",
       "  'normalized': 'Taklimat guru NEGERI SELANGOR & Perak kini berlangsung! kalau anda sudah berdaftar, jangan ketinggalan dan sertai kami melalui pautan Zoom! pendaftaran boleh dibuat di https://t.co/nX7iJnPyOc #MOSTI #STEM #STIE #BerhubungBersaingBerjaya https://t.co/sgpNjmYrNc'},\n",
       " {'original': 'Check out BAJU KURUNG PAHANG MODEN WANITA (PATTERN TERKINI,FORMAL,PERAYAAN) PATTERN PLAIN for RM41.85. Get it on Sh https://t.co/mAmVgvujB1',\n",
       "  'normalized': 'Semak out baju kurung Pahang Moden wanita (pattern terkini, formal, perayaan) pattern Plain for RM41.85. get itu on Sh https://t.co/mAmVgvujB1'},\n",
       " {'original': 'Bahkan Presiden Nixon menyebutnya sebagai Hadiah terbesar dari Asia Tenggara. Satu negeri dengan wilayah yang san https://t.co/Cn57roCwTh',\n",
       "  'normalized': 'Bahkan Presiden Nixon menyebutnya sebagai hadiah terbesar dari Asia Tenggara. satu negeri dengan wilayah yang san https://t.co/Cn57roCwTh'},\n",
       " {'original': 'Khas buat belia di Kedah yang sedang mencari pekerjaan \\n \\n        https://t.co/uKBpFRATmC',\n",
       "  'normalized': 'khas buat belia di Kedah yang sedang mencari pekerjaan https://t.co/uKBpFRATmC'},\n",
       " {'original': ' comelnyaaaa https://t.co/amIhcQK5fY',\n",
       "  'normalized': 'comelnya https://t.co/amIhcQK5fY'},\n",
       " {'original': 'Terdapat pelbagai majikan dan kekosongan ditawarkan bagi belia Kedah! Berikut merupakan maklumat program:\\n\\n https://t.co/nt0az7sxQs',\n",
       "  'normalized': 'Terdapat pelbagai majikan dan kekosongan ditawarkan bagi belia Kedah! berikut merupakan maklumat program : https://t.co/nt0az7sxQs'},\n",
       " {'original': 'Pukul 5pm aku delete #feelingcute https://t.co/MUfMinVEjp',\n",
       "  'normalized': 'Pukul 17 aku delete #feelingcute https://t.co/MUfMinVEjp'},\n",
       " {'original': 'Sijelaskan tweps oleh Deputi Bidang UKM Kementerian Koperasi dan UKM Hanung Harimba Rachman mengatakan, business ma https://t.co/079U5Ba2pd',\n",
       "  'normalized': 'Sijelaskan tweps oleh Deputi Bidang UKM Kementerian Koperasi dan UKM Hanung Harimba Rachman mengatakan, business ia https://t.co/079U5Ba2pd'},\n",
       " {'original': 'Satu kegembiraan bila yg memerlukan dpt sayur segar dengan lobak merah. Dah lepas dah untuk mereka menu sayur waktu berbuka',\n",
       "  'normalized': 'Satu kegembiraan bila yang memerlukan dapat sayur segar dengan lobak merah. Dah lepas dah untuk mereka menu sayur waktu berbuka'},\n",
       " {'original': 'Check out Baju Kurung Kedah (Berpoket)  Kurung Mini Modern fashion terkini for RM35.92. Get it on Shopee now! https://t.co/sBGPpGdPgG',\n",
       "  'normalized': 'Semak out Baju Kurung Kedah (berpoket) kurung mini modern fashion terkini for RM35.92. get itu on Shopee now! https://t.co/sBGPpGdPgG'},\n",
       " {'original': '#RescueAfgRefugees_Indonesia\\n @UNHumanRigts\\n Anda tahu bagaimana orang-orang Hazara yang malang sekarat di Afghanis https://t.co/99iFSogG98',\n",
       "  'normalized': '#RescueAfgRefugees_Indonesia @UNHumanRigts Anda tahu bagaimana orang-orang Hazara yang malang sekereta di Afghanis https://t.co/99iFSogG98'},\n",
       " {'original': '@dexterofficial_ @wyanfawiz @shahrizan_k dia buka ruang untuk kecaman umum kepada pasukan pendakwaraya dan mahkamah.\\n\\nserupa macam bila dia canang satu supermarket, dia akan bayarkan semua pelanggan yang beli barang dalam aeon tebrau. \\n\\nnawaitu bagus, cara tak kena.',\n",
       "  'normalized': '@dexterofficial_ @wyanfawiz @shahrizan_k dia buka ruang untuk kecaman umum kepada pasukan pendakwaraya dan mahkamah. serupa macam bila dia canang satu supermarket, dia akan bayarkan semua pelanggan yang beli barang dalam aeon Tebrau. nawaitu bagus, cara tidak kena .'},\n",
       " {'original': 'Kalau nda pandai pakai bah bagus lagi nda paya pakai. Bikin panas ja hahaha',\n",
       "  'normalized': 'Kalau indak pandai pakai bah bagus lagi indak paya pakai. Bikin panas sahaja haha'},\n",
       " {'original': '@IM2yeonyeon Nk beli apa 10k',\n",
       "  'normalized': '@IM2yeonyeon Nak beli apa 10k'},\n",
       " {'original': 'Aku punya rm75 sebulan. Aku rasa tak ada banyak masa nak fikir pasal servis semua, beli filter apa. Mungkin aku tak https://t.co/IHBsUzRdzL',\n",
       "  'normalized': 'Aku punya rm75 sebulan. aku rasa tidak ada banyak masa nak fikir masalah servis semua, beli filter apa. mungkin aku tidak https://t.co/IHBsUzRdzL'},\n",
       " {'original': 'Seperti koperasi yang anggotanya hanya 20 sampai 50 orang, mereka untuk membuat sistem aplikasi seperti ini kan biayanya sangat besar. Padahal mereka sangat membutuhkan sistem ini, papar Fajar.. #PameranTemuBisnisUKM',\n",
       "  'normalized': 'Seperti koperasi yang anggotanya hanya 20 sampai 50 orang, mereka untuk membuat sistem aplikasi seperti ini kan biayanya sangat besar. padahal mereka sangat membutuhkan sistem ini, papar Fajar. . #PameranTemuBisnisUKM'},\n",
       " {'original': 'Bazar #Festira22 paling menarik setakat ni. Tak sabar nak pi bazar kejap lg.\\n\\nkomplek PKNS Bangi \\nkomplek PKNS Sh https://t.co/MxglT2ix4V',\n",
       "  'normalized': 'Bazar #Festira22 paling menarik setakat ini. Tidak sabar nak pi bazar kejap lagi. komplek PKNS Bangi komplek PKNS Sh https://t.co/MxglT2ix4V'},\n",
       " {'original': '@PrinceRayDauz Nasib makcik kalo pakcik boleh cakap tgu pakcik xde baru nak pinang bini pakcik .. ciss',\n",
       "  'normalized': '@PrinceRayDauz nasib makcik kalau pakcik boleh cakap tugu pakcik tidak ada baru nak pinang bini pakcik. . cis'},\n",
       " {'original': 'Seperti koperasi yang anggotanya hanya 20 sampai 50 orang, mereka untuk membuat sistem aplikasi seperti ini kan bia https://t.co/emfhaOT36D',\n",
       "  'normalized': 'Seperti koperasi yang anggotanya hanya 20 sampai 50 orang, mereka untuk membuat sistem aplikasi seperti ini kan bisa https://t.co/emfhaOT36D'},\n",
       " {'original': 'Peminat Perak Berikan Sumbangan Kewangan Kepada Pemain\\nhttps://t.co/XyWUqbM6YY',\n",
       "  'normalized': 'Peminat Perak berikan sumbangan kewangan kepada pemain https://t.co/XyWUqbM6YY'}]"
      ]
     },
     "execution_count": 31,
     "metadata": {},
     "output_type": "execute_result"
    }
   ],
   "source": [
    "results"
   ]
  },
  {
   "cell_type": "code",
   "execution_count": 50,
   "metadata": {},
   "outputs": [
    {
     "data": {
      "text/plain": [
       "'Rumah kuarter cikgu di pendalaman Sarawak. kredit : Bah Udo Semang. . https://t.co/BXm7UjmfpE'"
      ]
     },
     "execution_count": 50,
     "metadata": {},
     "output_type": "execute_result"
    }
   ],
   "source": [
    "fix_spacing_punct(results[5]['normalized'])"
   ]
  },
  {
   "cell_type": "code",
   "execution_count": 30,
   "metadata": {},
   "outputs": [
    {
     "data": {
      "text/plain": [
       "['RM35.92', '.', 'Get']"
      ]
     },
     "execution_count": 30,
     "metadata": {},
     "output_type": "execute_result"
    }
   ],
   "source": [
    "normalizer._tokenizer('RM35.92 . Get')"
   ]
  },
  {
   "cell_type": "code",
   "execution_count": 31,
   "metadata": {},
   "outputs": [],
   "source": [
    "tokenizer = malaya.tokenizer.Tokenizer(parliament = True).tokenize"
   ]
  },
  {
   "cell_type": "code",
   "execution_count": 32,
   "metadata": {},
   "outputs": [
    {
     "data": {
      "text/plain": [
       "['RM35.92', '.', 'Get']"
      ]
     },
     "execution_count": 32,
     "metadata": {},
     "output_type": "execute_result"
    }
   ],
   "source": [
    "tokenizer('RM35.92 . Get')"
   ]
  },
  {
   "cell_type": "code",
   "execution_count": 33,
   "metadata": {},
   "outputs": [
    {
     "data": {
      "text/plain": [
       "['RM35.92', '.', 'Get']"
      ]
     },
     "execution_count": 33,
     "metadata": {},
     "output_type": "execute_result"
    }
   ],
   "source": [
    "tokenizer('RM35.92. Get')"
   ]
  },
  {
   "cell_type": "code",
   "execution_count": null,
   "metadata": {},
   "outputs": [],
   "source": []
  }
 ],
 "metadata": {
  "kernelspec": {
   "display_name": "Python 3 (ipykernel)",
   "language": "python",
   "name": "python3"
  },
  "language_info": {
   "codemirror_mode": {
    "name": "ipython",
    "version": 3
   },
   "file_extension": ".py",
   "mimetype": "text/x-python",
   "name": "python",
   "nbconvert_exporter": "python",
   "pygments_lexer": "ipython3",
   "version": "3.8.10"
  }
 },
 "nbformat": 4,
 "nbformat_minor": 5
}
