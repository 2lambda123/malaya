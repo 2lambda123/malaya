{
 "cells": [
  {
   "cell_type": "code",
   "execution_count": 1,
   "metadata": {},
   "outputs": [],
   "source": [
    "# !wget https://raw.githubusercontent.com/huseinzol05/malay-dataset/master/knowledge-graph/kelm/download.txt"
   ]
  },
  {
   "cell_type": "code",
   "execution_count": 2,
   "metadata": {},
   "outputs": [],
   "source": [
    "# with open('download.txt') as fopen:\n",
    "#     data = list(filter(None, fopen.read().split()))\n",
    "# len(data)"
   ]
  },
  {
   "cell_type": "code",
   "execution_count": 3,
   "metadata": {},
   "outputs": [],
   "source": [
    "# import os\n",
    "# for row in data:\n",
    "#     os.system(f'wget {row}')"
   ]
  },
  {
   "cell_type": "code",
   "execution_count": 4,
   "metadata": {},
   "outputs": [],
   "source": [
    "from glob import glob\n",
    "\n",
    "kelm = glob('/home/husein/pure-text/knowledge-graph/kelm_generated_corpus.jsonl-*.translated')\n",
    "tekgen_train = glob('/home/husein/pure-text/splitted-quadruples-train.tsv0*.translated')\n",
    "tekgen_test = '/home/husein/pure-text/quadruples-test.tsv.translated'\n",
    "tekgen_validation = '/home/husein/pure-text/quadruples-validation.tsv.translated'"
   ]
  },
  {
   "cell_type": "code",
   "execution_count": 5,
   "metadata": {},
   "outputs": [
    {
     "data": {
      "text/plain": [
       "(33, 6)"
      ]
     },
     "execution_count": 5,
     "metadata": {},
     "output_type": "execute_result"
    }
   ],
   "source": [
    "len(kelm), len(tekgen_train)"
   ]
  },
  {
   "cell_type": "code",
   "execution_count": 11,
   "metadata": {},
   "outputs": [
    {
     "data": {
      "text/plain": [
       "{'L-en': 'Close Power Station instance of Coal-fired power station',\n",
       " 'R-en': \"Close Power Station was a coal-fired power station situated on Newcastle upon Tyne's Quayside, in modern Tyne and Wear.\",\n",
       " 'R-ms': \"Stesen Kuasa Tutup adalah stesen janakuasa arang batu yang terletak di Newcastle upon Tyne's Quayside, di Tyne dan Wear moden.\"}"
      ]
     },
     "execution_count": 11,
     "metadata": {},
     "output_type": "execute_result"
    }
   ],
   "source": [
    "import json\n",
    "\n",
    "f = open(tekgen_train[0])\n",
    "json.loads(next(f))"
   ]
  },
  {
   "cell_type": "code",
   "execution_count": 8,
   "metadata": {},
   "outputs": [],
   "source": [
    "import re\n",
    "\n",
    "def cleaning(string):\n",
    "    return re.sub(r'[ ]+', ' ', unidecode(string)).strip()"
   ]
  },
  {
   "cell_type": "code",
   "execution_count": 9,
   "metadata": {},
   "outputs": [
    {
     "name": "stdout",
     "output_type": "stream",
     "text": [
      "/home/husein/pure-text/knowledge-graph/kelm_generated_corpus.jsonl-20.translated\n",
      "/home/husein/pure-text/knowledge-graph/kelm_generated_corpus.jsonl-22.translated\n",
      "/home/husein/pure-text/knowledge-graph/kelm_generated_corpus.jsonl-9.translated\n",
      "/home/husein/pure-text/knowledge-graph/kelm_generated_corpus.jsonl-3.translated\n",
      "/home/husein/pure-text/knowledge-graph/kelm_generated_corpus.jsonl-1.translated\n",
      "/home/husein/pure-text/knowledge-graph/kelm_generated_corpus.jsonl-11.translated\n",
      "/home/husein/pure-text/knowledge-graph/kelm_generated_corpus.jsonl-7.translated\n",
      "/home/husein/pure-text/knowledge-graph/kelm_generated_corpus.jsonl-5.translated\n",
      "/home/husein/pure-text/knowledge-graph/kelm_generated_corpus.jsonl-24.translated\n",
      "/home/husein/pure-text/knowledge-graph/kelm_generated_corpus.jsonl-31.translated\n",
      "/home/husein/pure-text/knowledge-graph/kelm_generated_corpus.jsonl-25.translated\n",
      "/home/husein/pure-text/knowledge-graph/kelm_generated_corpus.jsonl-2.translated\n",
      "/home/husein/pure-text/knowledge-graph/kelm_generated_corpus.jsonl-17.translated\n",
      "/home/husein/pure-text/knowledge-graph/kelm_generated_corpus.jsonl-15.translated\n",
      "/home/husein/pure-text/knowledge-graph/kelm_generated_corpus.jsonl-10.translated\n",
      "Expecting ',' delimiter: line 2 column 1 (char 342)\n",
      "/home/husein/pure-text/knowledge-graph/kelm_generated_corpus.jsonl-18.translated\n",
      "/home/husein/pure-text/knowledge-graph/kelm_generated_corpus.jsonl-6.translated\n",
      "/home/husein/pure-text/knowledge-graph/kelm_generated_corpus.jsonl-13.translated\n",
      "/home/husein/pure-text/knowledge-graph/kelm_generated_corpus.jsonl-12.translated\n",
      "/home/husein/pure-text/knowledge-graph/kelm_generated_corpus.jsonl-14.translated\n",
      "/home/husein/pure-text/knowledge-graph/kelm_generated_corpus.jsonl-23.translated\n",
      "/home/husein/pure-text/knowledge-graph/kelm_generated_corpus.jsonl-27.translated\n",
      "/home/husein/pure-text/knowledge-graph/kelm_generated_corpus.jsonl-0.translated\n",
      "/home/husein/pure-text/knowledge-graph/kelm_generated_corpus.jsonl-30.translated\n",
      "/home/husein/pure-text/knowledge-graph/kelm_generated_corpus.jsonl-28.translated\n",
      "/home/husein/pure-text/knowledge-graph/kelm_generated_corpus.jsonl-4.translated\n",
      "/home/husein/pure-text/knowledge-graph/kelm_generated_corpus.jsonl-29.translated\n",
      "/home/husein/pure-text/knowledge-graph/kelm_generated_corpus.jsonl-21.translated\n",
      "/home/husein/pure-text/knowledge-graph/kelm_generated_corpus.jsonl-26.translated\n",
      "/home/husein/pure-text/knowledge-graph/kelm_generated_corpus.jsonl-8.translated\n",
      "/home/husein/pure-text/knowledge-graph/kelm_generated_corpus.jsonl-19.translated\n",
      "/home/husein/pure-text/knowledge-graph/kelm_generated_corpus.jsonl-16.translated\n",
      "/home/husein/pure-text/knowledge-graph/kelm_generated_corpus.jsonl-32.translated\n"
     ]
    }
   ],
   "source": [
    "from unidecode import unidecode\n",
    "\n",
    "train_left, train_right = [], []\n",
    "\n",
    "for file in kelm:\n",
    "    print(file)\n",
    "    with open(file) as fopen:\n",
    "        for line in fopen:\n",
    "            try:\n",
    "                l = json.loads(line)\n",
    "                train_right.append(cleaning(l['en']['reference']))\n",
    "                train_left.append(cleaning(l['candidate-ms']))\n",
    "            except Exception as e:\n",
    "                print(e)"
   ]
  },
  {
   "cell_type": "code",
   "execution_count": 10,
   "metadata": {},
   "outputs": [
    {
     "data": {
      "text/plain": [
       "[('Kejohanan beregu campuran di Sukan Asia Tenggara 2011 adalah sebahagian daripada senarai fokus wikiProject Badminton / kejohanan.',\n",
       "  'Badminton at the 2011 Southeast Asian Games -- Mixed doubles on focus list of Wikimedia project WikiProject Badminton/tournament focus list.'),\n",
       " ('Orang-orang dari Daerah Korochansky dikategorikan sebagai orang-orang dari Daerah Korochansky.',\n",
       "  'Korochansky District category of associated people Category:People from Korochansky District.'),\n",
       " ('KWBZ ialah sebuah stesen radio di Amerika Syarikat, yang ditubuhkan pada 1981 dan terletak di negeri Missouri.',\n",
       "  'KWBZ country United States, located in the administrative territorial entity Missouri, instance of radio station, inception 01 January 1981.'),\n",
       " ('Dee Dee Ramone dikebumikan di Hollywood Forever Cemetery di Los Angeles.',\n",
       "  'Dee Dee Ramone place of burial Hollywood Forever Cemetery, Hollywood Forever Cemetery located in the administrative territorial entity Los Angeles.'),\n",
       " ('Penarafan elo Jon Speelman ialah +2605.', 'Jon Speelman Elo rating +2605.'),\n",
       " ('Ditulis oleh Fred Haines, Steppenwolf adalah filem drama dalam bahasa Inggeris. Max Von Sydow dan Pierre Clementi adalah bintang dalam filem yang mempunyai Eduard Linkers sebagai salah seorang anggota pelakonnya.',\n",
       "  'Steppenwolf ( film ) screenwriter Fred Haines, cast member Eduard Linkers, genre Drama ( film and television ), cast member Max von Sydow, original language of film or TV show English language, cast member Pierre Clementi.'),\n",
       " ('Dinara Safina berada di kedudukan +1.', 'Dinara Safina ranking +1.'),\n",
       " ('Jean-Louis Ferrary adalah ahli Academia des Inscriptions et Belles-Lettres, yang beliau sertai pada tahun 2005.',\n",
       "  'Jean-Louis Ferrary member of Academie des Inscriptions et Belles-Lettres, Academie des Inscriptions et Belles-Lettres start time 00 2005.'),\n",
       " ('Berthold I dari Istria dilahirkan sekitar 1110 di Jerman. Dia memerintah Istria dari 1140 hingga 1188 dan digantikan oleh seorang lelaki bernama Berthold.',\n",
       "  'Berthold I of Istria sex or gender male, date of birth 00 1110, occupation ruler, date of death 04 December 1188, country of citizenship Germany, date of death 14 December 1188.'),\n",
       " ('Kebangkitan dan Kejatuhan ECW pada asalnya ditunjukkan dalam bahasa Inggeris dan berasal dari Amerika Syarikat.',\n",
       "  'The Rise and Fall of ECW original language of film or TV show English language, country of origin United States.'),\n",
       " ('Stesen Xiaoshizi berada di Laluan 6 Transit Rel Chongqing. Stesen ini dihubungkan ke stesen Grand Theatre.',\n",
       "  'Xiaoshizi station Grand Theater station ( Chongqing Rail Transit ) connecting line Line 6 ( Chongqing Rail Transit ).'),\n",
       " ('Savigny-sur-Seille ditadbir oleh Datuk Bandar.',\n",
       "  'Savigny-sur-Seille office held by head of government Mayor of Savigny-sur-Seille.'),\n",
       " ('Valentin Iglinsky merupakan ahli Pasukan Astana Pro.',\n",
       "  'Valentin Iglinsky member of sports team Astana Pro Team.'),\n",
       " ('Valentin Iglinsky merupakan ahli Pasukan Astana Pro.',\n",
       "  'Valentin Iglinsky member of sports team Astana Pro Team.'),\n",
       " ('Bearsuit ialah sebuah kugiran rock Indie dari Norwich.',\n",
       "  'Bearsuit location of formation Norwich, genre Indie rock, instance of Band ( rock and pop ).'),\n",
       " ('Bahretsi terletak di zon waktu UTC+3:00.',\n",
       "  'Bahretsi located in time zone UTC + 03 : 00.'),\n",
       " ('Eoghan Ruadh Mac an Bhaird ialah seorang manusia yang menulis dalam bahasa Ireland.',\n",
       "  'Eoghan Ruadh Mac an Bhaird instance of Human, languages spoken, written or signed Irish language, writing language Irish language.'),\n",
       " ('Sotong Humboldt (Ommastrephinae) adalah teksi yang status pemuliharaannya adalah Kekurangan Data. Ia dinamakan Alexander von Humboldt.',\n",
       "  'Humboldt squid instance of Taxon, named after Alexander von Humboldt, taxon rank Species, parent taxon Ommastrephinae, IUCN conservation status Data deficient.'),\n",
       " ('Paroki St. Laurentius terletak di Keuskupan Agung Katolik Rom Philadelphia, Pennsylvania, Amerika Syarikat.',\n",
       "  'St. Laurentius Parish , Philadelphia country United States, located in the administrative territorial entity Pennsylvania, instance of Parish, diocese Roman Catholic Archdiocese of Philadelphia.'),\n",
       " ('Ratatouille: Food Frenzy, permainan video simulasi, adalah permainan mini yang diterbitkan oleh THQ. Permainan ini dilancarkan pada 29 Oktober 2007 di Amerika Syarikat.',\n",
       "  'Ratatouille : Food Frenzy instance of Video game, publication date 29 October 2007, genre Simulation video game, country of origin United States, genre Minigame, publisher THQ.'),\n",
       " ('Robert Webb dan Mitchell adalah aksi berganda pelawak yang dibentuk pada tahun 1995.',\n",
       "  'Mitchell and Webb inception 00 1995, instance of Double act, genre Comedy, has part Robert Webb.'),\n",
       " ('Campo Largo do Piau ?? mempunyai Indeks Pembangunan Manusia +0.51.',\n",
       "  'Campo Largo do Piaui Human Development Index +0.51.'),\n",
       " ('Boya Boya merupakan sebuah jawatankuasa pembangunan kampung di Daerah Bhojpur, Nepal.',\n",
       "  'Boya , Nepal country Nepal, located in the administrative territorial entity Bhojpur District , Nepal, instance of Village development committee ( Nepal ).'),\n",
       " ('William Cochran, seorang ahli fizik yang bekerja di University of Cambridge, mendapat pendidikan di University of Edinburgh. Dia dianugerahkan Pingat Howard N. Potts dan Pingat dan Hadiah Guthrie. Bidang penyelidikan Cochran adalah fisiologi manusia.',\n",
       "  'William Cochran ( physicist ) employer University of Cambridge, educated at University of Edinburgh, employer University of Edinburgh, award received Guthrie Medal and Prize, instance of Human, award received Howard N. Potts Medal.'),\n",
       " ('Maria Ludkin dilahirkan pada tahun 1965. Dia adalah seorang wanita dan manusia.',\n",
       "  'Maria Ludkin instance of Human, date of birth 01 January 1965, sex or gender female, given name Maria ( given name ).'),\n",
       " ('Lomas adalah nama keluarga yang ditulis dalam skrip Latin. Lomas (nyahkekaburan) juga merupakan nama keluarga.',\n",
       "  'Lomas ( surname ) writing system Latin script, instance of Surname, different from Lomas ( disambiguation ).'),\n",
       " ('Pusingan 13 diikuti oleh Rock the Block.',\n",
       "  'Round 13 followed by Rock the Block.'),\n",
       " ('Kheiredine Merzougi bermain untuk kelab ASO Chlef antara 2011 dan 2014.',\n",
       "  'Kheiredine Merzougi member of sports team ASO Chlef, ASO Chlef end time 01 January 2014, ASO Chlef start time 01 January 2011.'),\n",
       " ('Wolschwiller ialah komun di Arrondissement of Altkirch di kanton Ferrette, Haut-Rhin, Perancis. Ia terletak di Arrondissement of Altkirch dan berkongsi sempadan dengan Oltingue.',\n",
       "  'Wolschwiller country France, located in the administrative territorial entity canton of Ferrette, instance of Communes of France, located in the administrative territorial entity Arrondissement of Altkirch, shares border with Oltingue, located in the administrative territorial entity Haut-Rhin.'),\n",
       " ('Penduduk Nogent-le-Phaye adalah 1378 orang.',\n",
       "  'Nogent-le-Phaye population +1378.'),\n",
       " ('Moondarra Rail Trail terletak di Victoria, Australia.',\n",
       "  'Moondarra Rail Trail country Australia, located in the administrative territorial entity Victoria ( Australia ), instance of Rail trail.'),\n",
       " ('Abu Kanneh memulakan kariernya pada tahun 2002 dan menamatkan kariernya pada tahun 2007. Dia adalah ahli FC Gratkorn.',\n",
       "  'Abu Kanneh member of sports team FC Gratkorn, FC Gratkorn end time 01 January 2007, FC Gratkorn start time 01 January 2002.'),\n",
       " ('Universiti Nasional Florida adalah kolej baccalaureate / associate di Carnegie Classification of Institutions of Higher Education.',\n",
       "  \"Florida National University Carnegie Classification of Institutions of Higher Education baccalaureate/associate's colleges.\"),\n",
       " ('Trange terletak di zon waktu UTC+2:00.',\n",
       "  'Trange located in time zone UTC + 02 : 00.'),\n",
       " ('Prostanthera cryptandroides ialah spesies Prostanthera, takson induk kepada Prostanthera.',\n",
       "  'Prostanthera cryptandroides instance of Taxon, taxon rank Species, parent taxon Prostanthera.'),\n",
       " ('Thierry Henry mula bermain untuk pasukan bola sepak kebangsaan Perancis bawah 20 tahun pada tahun 1997 dan menamatkan kariernya pada tahun 1998.',\n",
       "  'Thierry Henry member of sports team France national under-20 football team, France national under-20 football team end time 01 January 1998, France national under-20 football team start time 01 January 1997.'),\n",
       " ('Markus Neumayr bermain untuk FC Thun, dimana beliau menamatkan kariernya pada tahun 2011.',\n",
       "  'Markus Neumayr member of sports team FC Thun, FC Thun end time 01 January 2011, FC Thun start time 01 January 2011.'),\n",
       " ('Al-Kumayt ibn Zayd al-Asadi dilahirkan di Kufa Beliau merupakan seorang manusia yang mengamalkan Zaidiyyah.',\n",
       "  'Al-Kumayt ibn Zayd al-Asadi place of birth Kufa, sex or gender male, instance of Human, religion Zaidiyyah.'),\n",
       " ('Anggota Parti Konservatif John Ormsby-Gore, 1st Baron Harlech adalah Ahli Parlimen di United Kingdom. Dia adalah Ahli Parlimen ke-18 dan Parlimen ke-20. Dia adalah orang London.',\n",
       "  'John Ormsby-Gore , 1st Baron Harlech member of political party Conservative Party ( UK ), position held Member of the 21st Parliament of the United Kingdom, given name John ( given name ), position held Member of the 20th Parliament of the United Kingdom, work location London, position held Member of the 18th Parliament of the United Kingdom.'),\n",
       " ('Scotty ialah watak dalam Star Trek dan The Eye of the Beholder.',\n",
       "  'Scotty ( Star Trek ) present in work The Eye of the Beholder.'),\n",
       " ('Adilson Dos Santos bermain untuk FC Eindhoven.',\n",
       "  'Adilson Dos Santos member of sports team FC Eindhoven.'),\n",
       " ('Penduduk Klobuky ialah +1673.', 'Klobuky population +1673.'),\n",
       " ('Salto do Jacu ?? adalah sebuah perbandaran di negeri Rio Grande do Sul, Brazil. Perbandaran jirannya ialah Fortaleza dos Valos dan Salto do Jacu ?? .',\n",
       "  'Salto do Jacui country Brazil, located in the administrative territorial entity Rio Grande do Sul, instance of Municipalities of Brazil, shares border with Fortaleza dos Valos.'),\n",
       " ('Dennis Bryon dilahirkan di UK pada 14 April 1949. Dennis adalah nama pemain dram yang merupakan sebahagian daripada kumpulan The Boys.',\n",
       "  'Dennis Bryon occupation Drummer, date of birth 14 April 1949, country of citizenship United Kingdom, sex or gender male, given name Dennis, family name Bryon.'),\n",
       " (\"Ijime, Dame, Zettai adalah sebahagian daripada diskografi Babymetal. Ia dikeluarkan oleh Toy's Factory dalam bahasa Jepun. Ia mengikuti lagu Headbanger dan diikuti oleh Megitsune.\",\n",
       "  \"Ijime , Dame , Zettai subclass of Babymetal discography, follows Headbanger ( Babymetal song ), followed by Megitsune, record label Toy 's Factory, language of work or name Japanese language.\"),\n",
       " ('Hecken terletak di kaunti jiran Womrath.',\n",
       "  'Hecken shares border with Womrath.'),\n",
       " ('Jeff King merupakan pemain bola sepak yang bermain untuk pasukan Human.',\n",
       "  'Jeff King ( football ) instance of Human.'),\n",
       " ('Anthony Alan-Williams adalah seorang manusia.',\n",
       "  'Anthony Alan-Williams instance of Human, given name Anthony ( given name ).'),\n",
       " ('Wolf-Rudiger Krause (lahir di bandar Jerman Berlin) ialah seorang penyerang bola sepak persatuan yang bermain untuk Eintracht Braunschweig II Beliau juga merupakan ahli pasukan bola sepak Olimpik Jerman.',\n",
       "  'Wolf-Rudiger Krause family name Krause, given name Rudiger, sport Association football, member of sports team Eintracht Braunschweig II, position played on team / speciality Forward ( association football ), member of sports team Germany Olympic football team.'),\n",
       " ('Odds BK adalah kelab bola sepak persatuan yang berpusat di Skien, Norway. Kelab ini ditubuhkan pada 31 Mac 1894 dan berada di liga Eliteserien.',\n",
       "  'Odds BK headquarters location Skien, instance of association football club, country Norway, inception 31 March 1894, sport Association football, league Eliteserien.'),\n",
       " ('Florian Kettemer memulakan kariernya pada Julai 2018 dan bermain untuk Eisbaren Berlin.',\n",
       "  'Florian Kettemer member of sports team Eisbaren Berlin, Eisbaren Berlin start time 00 July 2018.'),\n",
       " ('Bursa saham Beasley Broadcast Group ialah Nasdaq.',\n",
       "  'Beasley Broadcast Group stock exchange Nasdaq.'),\n",
       " ('Per Buckh ?? j adalah ahli pemeran dalam Min datter Nelly.',\n",
       "  'Min datter Nelly cast member Per Buckhoj.'),\n",
       " ('Bilal Bari adalah pemain bola sepak dari Maghribi. Dia dilahirkan di Lens, Pas-de-Calais, Perancis pada 19 Januari 1998. Bilal Bari adalah seorang lelaki dari Maghribi.',\n",
       "  'Bilal Bari occupation Football player, date of birth 19 January 1998, place of birth Lens , Pas-de-Calais, country of citizenship France, sex or gender male, country of citizenship Morocco.'),\n",
       " ('Pride of Company Three, dari Jerman, diarahkan oleh Friedl Behn-Grund. Anton Walbrook, Ferdinand Von Alten dan Walter Steinbeck adalah antara pemeran. Filem ini diedit oleh Fred Sauer.',\n",
       "  'The Pride of Company Three director of photography Friedl Behn-Grund, cast member Walter Steinbeck, country of origin Germany, cast member Anton Walbrook, film editor Fred Sauer, cast member Ferdinand von Alten.'),\n",
       " ('Kejohanan Hurling Senior Kilkenny 1963 telah diadakan di Republik Ireland.',\n",
       "  '1963 Kilkenny Senior Hurling Championship sport Hurling, instance of Championship, country Republic of Ireland.'),\n",
       " ('Pape adalah nama keluarga.', 'Pape instance of Surname.'),\n",
       " ('Jangka hayat Cameroon ialah 52.916 tahun.',\n",
       "  'Cameroon life expectancy +52.916 year.'),\n",
       " ('Sup mi kuah Sup mi kuah merupakan sejenis mi Cina.',\n",
       "  'Beef noodle soup subclass of Chinese noodles.'),\n",
       " ('Anthonie Jansz van der Croos, lahir di Belanda, adalah manusia yang bekerja di Den Haag. Karya-karyanya ada di koleksi Muzium J.Paul Getty.',\n",
       "  'Anthonie Jansz. van der Croos instance of Human, country of citizenship Netherlands, given name Anthonie, work location The Hague, has works in the collection J. Paul Getty Museum, work location The Hague.'),\n",
       " ('Pheneus merupakan watak dalam Yunani Purba.',\n",
       "  'Pheneus time period Ancient Greece, culture Ancient Greece.'),\n",
       " ('Penduduk Barengo berjumlah 814 orang.', 'Barengo population +814.'),\n",
       " ('Berikut ialah senarai watak-watak dari siri TV Amaya.',\n",
       "  'List of Amaya ( TV series ) characters instance of Wikimedia list article.'),\n",
       " ('Rejimen 1, RCHA adalah sebahagian daripada 1 Kumpulan Briged Mekanisasi Kanada.',\n",
       "  '1 Canadian Mechanized Brigade Group has part 1st Regiment, RCHA.'),\n",
       " ('Chris Goode adalah penulis drama dan manusia. Nama sebenarnya ialah Chris Goode dan dia adalah seorang lelaki.',\n",
       "  'Chris Goode ( playwright ) occupation Writer, sex or gender male, given name Chris, instance of Human.'),\n",
       " ('Lapangan Terbang Dunnville ditinggikan 600 kaki dari aras laut.',\n",
       "  'Dunnville Airport elevation above sea level +600 foot.'),\n",
       " ('Estos Celos diikuti oleh La Derrota.',\n",
       "  'Estos Celos followed by La Derrota.'),\n",
       " ('Entlibuhl berada di Switzerland dan terletak di dalam atau bersebelahan Untersee (Tasik Constance).',\n",
       "  'Entlibuhl located in or next to body of water Untersee ( Lake Constance ), country Switzerland.'),\n",
       " ('Pasukan bola sepak lelaki UCLA Bruins mempunyai ahli pasukan berikut:',\n",
       "  \"UCLA Bruins men 's soccer category for members of a team Category:UCLA Bruins men's soccer players.\"),\n",
       " ('Alex Rhodes (pemain bola sepak) mula bermain untuk Grays Athletic FC pada tahun 2010.',\n",
       "  'Alex Rhodes ( footballer ) Grays Athletic F.C. start time 01 January 2010.'),\n",
       " ('Harold Wagstaff merupakan warganegara United Kingdom Great Britain dan Ireland, yang berakhir pada 12 April 1927, hasil Akta Gelaran Diraja dan Parlimen 1927.',\n",
       "  'Harold Wagstaff country of citizenship United Kingdom of Great Britain and Ireland, United Kingdom of Great Britain and Ireland end time 12 April 1927, United Kingdom of Great Britain and Ireland end cause Royal and Parliamentary Titles Act 1927.'),\n",
       " ('The Diccionario biografico y bibliografico de escritores y artistas catalanes del siglo XIX (1889) menggambarkan Francisco Andrev ?? y Castellar.',\n",
       "  'Francisco Andrevi y Castellar described by source Diccionario biografico y bibliografico de escritores y artistas catalanes del siglo XIX (1889).'),\n",
       " ('Marco Tulio mula bermain untuk Clube Atletico Sorocaba pada tahun 2004 dan menamatkan kariernya pada tahun 2005.',\n",
       "  'Marco Tulio member of sports team Clube Atletico Sorocaba, Clube Atletico Sorocaba end time 01 January 2005, Clube Atletico Sorocaba start time 01 January 2004.'),\n",
       " ('Michael Good boleh merujuk kepada: Michael Good (disambiguasi), orang Michael Good, watak dalam siri TV, The Twilight Saga Michael Good, watak dalam siri TV, The Twilight Saga',\n",
       "  'Michael Good instance of Wikimedia disambiguation page.'),\n",
       " ('Pusat pentadbiran Meurthe-et-Moselle ialah Saint-Max yang diasaskan pada 7 September 1871.',\n",
       "  'Meurthe-et-Moselle contains administrative territorial entity Saint-Max, Saint-Max start time 07 September 1871.'),\n",
       " ('Penduduk Rusk, Texas, adalah 5551 orang.',\n",
       "  'Rusk , Texas population +5551.'),\n",
       " ('Emiriah Arab Bersatu bertanding di Sukan Tertutup dan Seni Bela Diri Asia 2017.',\n",
       "  'United Arab Emirates at the 2017 Asian Indoor and Martial Arts Games instance of nation at sport competition, country United Arab Emirates, point in time 00 2017.'),\n",
       " ('Leucanopsis biedala ialah spesies tumbuhan berbunga dalam keluarga Asteraceae Ia merupakan takson Leucanopsis biedala, yang merupakan takson induk Leucanopsis.',\n",
       "  'Leucanopsis biedala instance of Taxon, taxon rank Species, parent taxon Leucanopsis.'),\n",
       " ('Richard Wilson merupakan seorang pelukis yang merupakan ahli kaum Wales.',\n",
       "  'Richard Wilson ( painter ) ethnic group Welsh people.'),\n",
       " ('Asturianos terletak di wilayah Manzanal de Arriba.',\n",
       "  'Asturianos shares border with Manzanal de Arriba.'),\n",
       " ('Robert Hooke digambarkan dalam Ensiklopedia Soviet Georgia.',\n",
       "  'Robert Hooke described by source Georgian Soviet Encyclopedia.'),\n",
       " ('Gerakan yang tepat 6 Cassiopeiae adalah -2,80 milliarcseconds per tahun.',\n",
       "  '6 Cassiopeiae proper motion -2.80 milliarcsecond per year.'),\n",
       " ('Bintang Brahminy adalah takson kebuluran Sturnia, yang mempunyai nama asalnya Turdus pagodarum. Ini adalah spesies yang paling tidak membimbangkan, dan status pemuliharaan IUCN paling tidak membimbangkan. Sturnus pagodarum adalah nama asal kebuluran ini.',\n",
       "  'Brahminy starling instance of Taxon, taxon rank Species, parent taxon Sturnia, IUCN conservation status Least-concern species, taxon synonym Sturnus pagodarum, original combination Turdus pagodarum.'),\n",
       " ('Fisher & Phillips ditubuhkan pada tahun 1943.',\n",
       "  'Fisher & Phillips inception 00 1943.'),\n",
       " ('Penarafan NMHH untuk Krismas 3D A Very Harold & Kumar adalah Kategori IV.',\n",
       "  'A Very Harold & Kumar 3D Christmas NMHH film rating Category IV.'),\n",
       " ('Datuk Bandar Faurilles ialah pemimpin Faurilles.',\n",
       "  'Faurilles office held by head of government Mayor of Faurilles.'),\n",
       " ('?? erot ?? n (Daerah Louny) mempunyai populasi 442 orang.',\n",
       "  'Zerotin ( Louny District ) population +442.'),\n",
       " ('Li Lin (putera) adik perempuan ialah Puteri Yongning.',\n",
       "  'Li Lin ( prince ) sibling Princess Yongning.'),\n",
       " ('Vulcan, watak dalam Star Trek, mula diperkenalkan dalam novel Before Dishonor.',\n",
       "  'Vulcan ( Star Trek ) present in work Before Dishonor.'),\n",
       " ('Tess Gerritsen adalah topik utama kategori: Tess Gerritsen.',\n",
       "  \"Tess Gerritsen topic's main category Category:Tess Gerritsen.\"),\n",
       " ('Joseph Kloska, yang memegang watak Pembantu Diraja Crier, membintangi Cinderella (filem Disney 2015).',\n",
       "  \"Cinderella ( 2015 Disney film ) cast member Joseph Kloska, Joseph Kloska character role Royal Crier's Assistant.\"),\n",
       " ('Lo Corrunco merupakan sebuah gunung di banjaran Pyrenees di Sepanyol dan terdapat di kawasan perbandaran El Pont de Suert, di Eropah.',\n",
       "  'Lo Corrunco mountain range Pyrenees, instance of Mountain, country Spain, located in the administrative territorial entity El Pont de Suert, continent Europe.'),\n",
       " ('Tony Leblanc membintangi The Party Goes On.',\n",
       "  'The Party Goes On cast member Tony Leblanc.'),\n",
       " ('Standard hidup di AS setanding dengan taraf hidup di negara lain.',\n",
       "  'Standard of living in the United States country United States.'),\n",
       " ('Elzach dipintal dengan Ville.',\n",
       "  'Elzach twinned administrative body canton of Ville.'),\n",
       " ('Goronwy Edwards berasal dari United Kingdom Great Britain dan Ireland, Goronwy Edwards meninggalkan UK pada tahun 1927 kerana Akta Gelaran Diraja dan Parlimen 1927.',\n",
       "  'Goronwy Edwards country of citizenship United Kingdom of Great Britain and Ireland, United Kingdom of Great Britain and Ireland end time 12 April 1927, United Kingdom of Great Britain and Ireland end cause Royal and Parliamentary Titles Act 1927.'),\n",
       " ('Laluan A.S. 95 merupakan sebahagian daripada Laluan A.S. 164 dalam sistem Arizona.',\n",
       "  'U.S. Route 95 in Arizona highway system U.S. Route 164 in Arizona.'),\n",
       " ('Dzikowo I ?? aweckie terletak di zon waktu UTC + 01:00. Ini dalam masa Piawai.',\n",
       "  'Dzikowo Ilaweckie located in time zone UTC + 01 : 00, UTC + 01 : 00 valid in period Standard time.'),\n",
       " ('Joya de Ceren diisytiharkan sebagai Tapak Warisan Dunia pada tahun 1993. Kriteria untuk laman web ini adalah: ia adalah tahap yang signifikan dalam sejarah manusia, ia penting dari segi budaya dan ia adalah contoh tradisi budaya.',\n",
       "  'Joya de Ceren heritage designation World Heritage Site, World Heritage Site start time 01 January 1993, World Heritage Site World Heritage criteria unique to a cultural tradition, World Heritage Site World Heritage criteria object illustrates significant stage in human history.'),\n",
       " ('Johan Sebastian Cammermeyer, yang nama diberi ialah Johan, merupakan Lutheran yang percaya kepada keadaan manusia.',\n",
       "  'Johan Sebastian Cammermeyer family name Cammermeyer, given name Johan ( given name ), religion Lutheranism, instance of Human.')]"
      ]
     },
     "execution_count": 10,
     "metadata": {},
     "output_type": "execute_result"
    }
   ],
   "source": [
    "list(zip(train_left[:100], train_right[:100]))"
   ]
  },
  {
   "cell_type": "code",
   "execution_count": 12,
   "metadata": {},
   "outputs": [
    {
     "name": "stdout",
     "output_type": "stream",
     "text": [
      "/home/husein/pure-text/splitted-quadruples-train.tsv03.translated\n",
      "Expecting ',' delimiter: line 1 column 113 (char 112)\n",
      "/home/husein/pure-text/splitted-quadruples-train.tsv04.translated\n",
      "Expecting ',' delimiter: line 1 column 338 (char 337)\n",
      "/home/husein/pure-text/splitted-quadruples-train.tsv06.translated\n",
      "/home/husein/pure-text/splitted-quadruples-train.tsv01.translated\n",
      "/home/husein/pure-text/splitted-quadruples-train.tsv02.translated\n",
      "/home/husein/pure-text/splitted-quadruples-train.tsv05.translated\n",
      "Expecting ',' delimiter: line 1 column 219 (char 218)\n"
     ]
    }
   ],
   "source": [
    "for file in tekgen_train:\n",
    "    print(file)\n",
    "    with open(file) as fopen:\n",
    "        for line in fopen:\n",
    "            try:\n",
    "                l = json.loads(line)\n",
    "                train_right.append(cleaning(l['L-en']))\n",
    "                train_left.append(cleaning(l['R-ms']))\n",
    "            except Exception as e:\n",
    "                print(e)"
   ]
  },
  {
   "cell_type": "code",
   "execution_count": 13,
   "metadata": {},
   "outputs": [
    {
     "data": {
      "text/plain": [
       "{'L-en': '2012 CrA(c)dit Agricole Suisse Open Gstaad point in time 00  2012, sport Tennis',\n",
       " 'R-en': \"The 2012 CrA(c)dit Agricole Suisse Open Gstaad was a men's tennis tournament played on outdoor clay courts.\",\n",
       " 'R-ms': '2012 CrA(c)dit Agricole Suisse Open Gstaad adalah kejohanan tenis lelaki yang dimainkan di gelanggang tanah liat luar.'}"
      ]
     },
     "execution_count": 13,
     "metadata": {},
     "output_type": "execute_result"
    }
   ],
   "source": [
    "f = open(tekgen_validation)\n",
    "json.loads(next(f))"
   ]
  },
  {
   "cell_type": "code",
   "execution_count": 14,
   "metadata": {},
   "outputs": [],
   "source": [
    "with open(tekgen_validation) as fopen:\n",
    "    for line in fopen:\n",
    "        try:\n",
    "            l = json.loads(line)\n",
    "            train_right.append(cleaning(l['L-en']))\n",
    "            train_left.append(cleaning(l['R-ms']))\n",
    "        except Exception as e:\n",
    "            print(e)"
   ]
  },
  {
   "cell_type": "code",
   "execution_count": 15,
   "metadata": {},
   "outputs": [],
   "source": [
    "test_left, test_right = [], []\n",
    "\n",
    "with open(tekgen_test) as fopen:\n",
    "    for line in fopen:\n",
    "        try:\n",
    "            l = json.loads(line)\n",
    "            test_right.append(cleaning(l['L-en']))\n",
    "            test_left.append(cleaning(l['R-ms']))\n",
    "        except Exception as e:\n",
    "            print(e)"
   ]
  },
  {
   "cell_type": "code",
   "execution_count": 16,
   "metadata": {},
   "outputs": [
    {
     "data": {
      "text/plain": [
       "(21394774, 21394774)"
      ]
     },
     "execution_count": 16,
     "metadata": {},
     "output_type": "execute_result"
    }
   ],
   "source": [
    "len(train_left), len(train_right)"
   ]
  },
  {
   "cell_type": "code",
   "execution_count": 17,
   "metadata": {},
   "outputs": [
    {
     "data": {
      "text/plain": [
       "(796021, 796021)"
      ]
     },
     "execution_count": 17,
     "metadata": {},
     "output_type": "execute_result"
    }
   ],
   "source": [
    "len(test_left), len(test_right)"
   ]
  },
  {
   "cell_type": "code",
   "execution_count": 18,
   "metadata": {},
   "outputs": [],
   "source": [
    "train_left.extend(test_left[:-200000])\n",
    "train_right.extend(test_right[:-200000])"
   ]
  },
  {
   "cell_type": "code",
   "execution_count": 19,
   "metadata": {},
   "outputs": [],
   "source": [
    "test_left = test_left[-200000:]\n",
    "test_right = test_right[-200000:]"
   ]
  },
  {
   "cell_type": "code",
   "execution_count": 20,
   "metadata": {},
   "outputs": [
    {
     "name": "stderr",
     "output_type": "stream",
     "text": [
      "100%|██████████| 21990795/21990795 [00:38<00:00, 571425.89it/s]\n"
     ]
    }
   ],
   "source": [
    "from tqdm import tqdm\n",
    "\n",
    "train_X, train_Y = [], []\n",
    "for i in tqdm(range(len(train_left))):\n",
    "    if len(train_left[i]) and len(train_right[i]):\n",
    "        train_X.append(train_left[i])\n",
    "        train_Y.append(train_right[i])"
   ]
  },
  {
   "cell_type": "code",
   "execution_count": 21,
   "metadata": {},
   "outputs": [
    {
     "name": "stderr",
     "output_type": "stream",
     "text": [
      "100%|██████████| 200000/200000 [00:00<00:00, 550023.24it/s]\n"
     ]
    }
   ],
   "source": [
    "test_X, test_Y = [], []\n",
    "for i in tqdm(range(len(test_left))):\n",
    "    if len(test_left[i]) and len(test_right[i]):\n",
    "        test_X.append(test_left[i])\n",
    "        test_Y.append(test_right[i])"
   ]
  },
  {
   "cell_type": "code",
   "execution_count": 22,
   "metadata": {},
   "outputs": [
    {
     "data": {
      "text/plain": [
       "(21990795, 21990795)"
      ]
     },
     "execution_count": 22,
     "metadata": {},
     "output_type": "execute_result"
    }
   ],
   "source": [
    "len(train_X), len(train_Y)"
   ]
  },
  {
   "cell_type": "code",
   "execution_count": 28,
   "metadata": {},
   "outputs": [
    {
     "data": {
      "text/plain": [
       "['Kejohanan beregu campuran di Sukan Asia Tenggara 2011 adalah sebahagian daripada senarai fokus wikiProject Badminton / kejohanan.',\n",
       " 'Orang-orang dari Daerah Korochansky dikategorikan sebagai orang-orang dari Daerah Korochansky.',\n",
       " 'KWBZ ialah sebuah stesen radio di Amerika Syarikat, yang ditubuhkan pada 1981 dan terletak di negeri Missouri.']"
      ]
     },
     "execution_count": 28,
     "metadata": {},
     "output_type": "execute_result"
    }
   ],
   "source": [
    "train_X[:3]"
   ]
  },
  {
   "cell_type": "code",
   "execution_count": 27,
   "metadata": {},
   "outputs": [
    {
     "data": {
      "text/plain": [
       "['Badminton at the 2011 Southeast Asian Games -- Mixed doubles on focus list of Wikimedia project WikiProject Badminton/tournament focus list.',\n",
       " 'Korochansky District category of associated people Category:People from Korochansky District.',\n",
       " 'KWBZ country United States, located in the administrative territorial entity Missouri, instance of radio station, inception 01 January 1981.']"
      ]
     },
     "execution_count": 27,
     "metadata": {},
     "output_type": "execute_result"
    }
   ],
   "source": [
    "train_Y[:3]"
   ]
  },
  {
   "cell_type": "code",
   "execution_count": 23,
   "metadata": {},
   "outputs": [
    {
     "data": {
      "text/plain": [
       "(200000, 200000)"
      ]
     },
     "execution_count": 23,
     "metadata": {},
     "output_type": "execute_result"
    }
   ],
   "source": [
    "len(test_X), len(test_Y)"
   ]
  },
  {
   "cell_type": "code",
   "execution_count": 29,
   "metadata": {},
   "outputs": [
    {
     "data": {
      "text/plain": [
       "['Alexis Piron Alexis Piron (9 Julai 1689 - 21 Januari 1773) ialah seorang epigramatis dan dramatis Perancis.',\n",
       " 'Dari 2002 hingga 2008, SITE Intelligence Group dikenali sebagai Search for International Terrorist Entities (SITE) Institute.',\n",
       " 'Owerri merupakan ibu negara terakhir daripada tiga ibu negara Republik Biafra pada tahun 1969.']"
      ]
     },
     "execution_count": 29,
     "metadata": {},
     "output_type": "execute_result"
    }
   ],
   "source": [
    "test_X[:3]"
   ]
  },
  {
   "cell_type": "code",
   "execution_count": 30,
   "metadata": {},
   "outputs": [
    {
     "data": {
      "text/plain": [
       "['Alexis Piron date of birth 09 July 1689, date of death 21 January 1773',\n",
       " 'SITE Intelligence Group inception 01 January 2008',\n",
       " 'Owerri capital of Biafra']"
      ]
     },
     "execution_count": 30,
     "metadata": {},
     "output_type": "execute_result"
    }
   ],
   "source": [
    "test_Y[:3]"
   ]
  },
  {
   "cell_type": "code",
   "execution_count": 24,
   "metadata": {},
   "outputs": [],
   "source": [
    "!mkdir train\n",
    "!mkdir test"
   ]
  },
  {
   "cell_type": "code",
   "execution_count": 31,
   "metadata": {},
   "outputs": [],
   "source": [
    "with open('train/left.txt', 'w') as fopen:\n",
    "    fopen.write('\\n'.join(train_X))\n",
    "    \n",
    "with open('train/right.txt', 'w') as fopen:\n",
    "    fopen.write('\\n'.join(train_Y))\n",
    "    \n",
    "with open('test/left.txt', 'w') as fopen:\n",
    "    fopen.write('\\n'.join(test_X))\n",
    "    \n",
    "with open('test/right.txt', 'w') as fopen:\n",
    "    fopen.write('\\n'.join(test_Y))"
   ]
  },
  {
   "cell_type": "code",
   "execution_count": 34,
   "metadata": {},
   "outputs": [
    {
     "name": "stdout",
     "output_type": "stream",
     "text": [
      "train/\n",
      "train/left.txt\n",
      "train/right.txt\n",
      "test/\n",
      "test/left.txt\n",
      "test/right.txt\n"
     ]
    }
   ],
   "source": [
    "!tar -czvf train-knowledge-graph.tar.gz train\n",
    "!tar -czvf test-knowledge-graph.tar.gz test"
   ]
  }
 ],
 "metadata": {
  "kernelspec": {
   "display_name": "Python 3",
   "language": "python",
   "name": "python3"
  },
  "language_info": {
   "codemirror_mode": {
    "name": "ipython",
    "version": 3
   },
   "file_extension": ".py",
   "mimetype": "text/x-python",
   "name": "python",
   "nbconvert_exporter": "python",
   "pygments_lexer": "ipython3",
   "version": "3.6.9"
  }
 },
 "nbformat": 4,
 "nbformat_minor": 2
}
