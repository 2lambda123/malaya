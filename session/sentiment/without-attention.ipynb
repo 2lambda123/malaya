{
 "cells": [
  {
   "cell_type": "code",
   "execution_count": 1,
   "metadata": {},
   "outputs": [
    {
     "name": "stderr",
     "output_type": "stream",
     "text": [
      "/usr/local/lib/python3.5/dist-packages/sklearn/cross_validation.py:41: DeprecationWarning: This module was deprecated in version 0.18 in favor of the model_selection module into which all the refactored classes and functions are moved. Also note that the interface of the new CV iterators are different from that of this module. This module will be removed in 0.20.\n",
      "  \"This module will be removed in 0.20.\", DeprecationWarning)\n"
     ]
    }
   ],
   "source": [
    "import pandas as pd\n",
    "import tensorflow as tf\n",
    "import re\n",
    "import numpy as np\n",
    "from sklearn.utils import shuffle\n",
    "from sklearn.cross_validation import train_test_split\n",
    "import time\n",
    "from sklearn.preprocessing import LabelEncoder\n",
    "from unidecode import unidecode\n",
    "import pickle"
   ]
  },
  {
   "cell_type": "code",
   "execution_count": 2,
   "metadata": {},
   "outputs": [
    {
     "data": {
      "text/html": [
       "<div>\n",
       "<style scoped>\n",
       "    .dataframe tbody tr th:only-of-type {\n",
       "        vertical-align: middle;\n",
       "    }\n",
       "\n",
       "    .dataframe tbody tr th {\n",
       "        vertical-align: top;\n",
       "    }\n",
       "\n",
       "    .dataframe thead th {\n",
       "        text-align: right;\n",
       "    }\n",
       "</style>\n",
       "<table border=\"1\" class=\"dataframe\">\n",
       "  <thead>\n",
       "    <tr style=\"text-align: right;\">\n",
       "      <th></th>\n",
       "      <th>label</th>\n",
       "      <th>text</th>\n",
       "    </tr>\n",
       "  </thead>\n",
       "  <tbody>\n",
       "    <tr>\n",
       "      <th>0</th>\n",
       "      <td>Negative</td>\n",
       "      <td>Lebih-lebih lagi dengan  kemudahan internet da...</td>\n",
       "    </tr>\n",
       "    <tr>\n",
       "      <th>1</th>\n",
       "      <td>Positive</td>\n",
       "      <td>boleh memberi teguran kepada parti tetapi perl...</td>\n",
       "    </tr>\n",
       "    <tr>\n",
       "      <th>2</th>\n",
       "      <td>Negative</td>\n",
       "      <td>Adalah membingungkan mengapa masyarakat Cina b...</td>\n",
       "    </tr>\n",
       "    <tr>\n",
       "      <th>3</th>\n",
       "      <td>Positive</td>\n",
       "      <td>Kami menurunkan defisit daripada 6.7 peratus p...</td>\n",
       "    </tr>\n",
       "    <tr>\n",
       "      <th>4</th>\n",
       "      <td>Negative</td>\n",
       "      <td>Ini masalahnya. Bukan rakyat, tetapi sistem</td>\n",
       "    </tr>\n",
       "  </tbody>\n",
       "</table>\n",
       "</div>"
      ],
      "text/plain": [
       "      label                                               text\n",
       "0  Negative  Lebih-lebih lagi dengan  kemudahan internet da...\n",
       "1  Positive  boleh memberi teguran kepada parti tetapi perl...\n",
       "2  Negative  Adalah membingungkan mengapa masyarakat Cina b...\n",
       "3  Positive  Kami menurunkan defisit daripada 6.7 peratus p...\n",
       "4  Negative        Ini masalahnya. Bukan rakyat, tetapi sistem"
      ]
     },
     "execution_count": 2,
     "metadata": {},
     "output_type": "execute_result"
    }
   ],
   "source": [
    "df = pd.read_csv('sentiment-news-bahasa-v5.csv')\n",
    "Y = LabelEncoder().fit_transform(df.label)\n",
    "df.head()"
   ]
  },
  {
   "cell_type": "code",
   "execution_count": 3,
   "metadata": {},
   "outputs": [],
   "source": [
    "def textcleaning(string):\n",
    "    string = re.sub('http\\S+|www.\\S+', '',' '.join([i for i in string.split() if i.find('#')<0 and i.find('@')<0]))\n",
    "    string = unidecode(string).replace('.', '. ').replace(',', ', ')\n",
    "    string = re.sub('[^\\'\\\"A-Za-z\\- ]+', '', string)\n",
    "    return ' '.join([i for i in re.findall(\"[\\\\w']+|[;:\\-\\(\\)&.,!?\\\"]\", string) if len(i)>1]).lower()"
   ]
  },
  {
   "cell_type": "code",
   "execution_count": 4,
   "metadata": {},
   "outputs": [],
   "source": [
    "for i in range(df.shape[0]):\n",
    "    df.iloc[i,1] = textcleaning(df.iloc[i,1])"
   ]
  },
  {
   "cell_type": "code",
   "execution_count": 5,
   "metadata": {},
   "outputs": [],
   "source": [
    "train_X, test_X, train_Y, test_Y = train_test_split(df.text.values, Y, test_size = 0.1)"
   ]
  },
  {
   "cell_type": "code",
   "execution_count": 6,
   "metadata": {},
   "outputs": [],
   "source": [
    "def str_idx(corpus, dic, maxlen, UNK=0):\n",
    "    X = np.zeros((len(corpus),maxlen))\n",
    "    for i in range(len(corpus)):\n",
    "        for no, k in enumerate(corpus[i].split()[:maxlen][::-1]):\n",
    "            try:\n",
    "                X[i,-1 - no]=dic[k]\n",
    "            except Exception as e:\n",
    "                X[i,-1 - no]=UNK\n",
    "    return X"
   ]
  },
  {
   "cell_type": "code",
   "execution_count": 7,
   "metadata": {},
   "outputs": [],
   "source": [
    "with open('word2vec-256.p','rb') as fopen:\n",
    "    embedded = pickle.load(fopen)"
   ]
  },
  {
   "cell_type": "code",
   "execution_count": 8,
   "metadata": {},
   "outputs": [],
   "source": [
    "class Model:\n",
    "    def __init__(self, size_layer, num_layers, dropout, dimension_output, learning_rate, maxlen):\n",
    "        def cells(size, reuse=False):\n",
    "            return tf.contrib.rnn.DropoutWrapper(\n",
    "                tf.nn.rnn_cell.LSTMCell(size,initializer=tf.orthogonal_initializer(),reuse=reuse),\n",
    "                dropout,dropout,dropout)\n",
    "        \n",
    "        self.X = tf.placeholder(tf.int32, [None, None])\n",
    "        self.Y = tf.placeholder(tf.int32, [None])\n",
    "        encoder_embeddings = tf.Variable(tf.convert_to_tensor(embedded['nce_weights'],\n",
    "                                                           dtype=tf.float32),trainable=False)\n",
    "        encoder_embedded = tf.nn.embedding_lookup(encoder_embeddings, self.X)\n",
    "        \n",
    "        for n in range(num_layers):\n",
    "            (out_fw, out_bw), (state_fw, state_bw) = tf.nn.bidirectional_dynamic_rnn(\n",
    "                cell_fw = cells(size_layer),\n",
    "                cell_bw = cells(size_layer),\n",
    "                inputs = encoder_embedded,\n",
    "                dtype = tf.float32,\n",
    "                scope = 'bidirectional_rnn_%d'%(n))\n",
    "            encoder_embedded = tf.concat((out_fw, out_bw), 2)\n",
    "        W = tf.get_variable('w',shape=(size_layer*2, 2),initializer=tf.orthogonal_initializer())\n",
    "        b = tf.get_variable('b',shape=(2),initializer=tf.zeros_initializer())\n",
    "        self.logits = tf.add(tf.matmul(encoder_embedded[:,-1], W),b,name='logits')\n",
    "        self.cost = tf.reduce_mean(tf.nn.sparse_softmax_cross_entropy_with_logits(logits = self.logits, \n",
    "                                                                           labels = self.Y))\n",
    "        self.optimizer = tf.train.AdamOptimizer(learning_rate = learning_rate).minimize(self.cost)\n",
    "        self.accuracy = tf.reduce_mean(tf.cast(tf.nn.in_top_k(self.logits, self.Y, 1), tf.float32))"
   ]
  },
  {
   "cell_type": "code",
   "execution_count": 9,
   "metadata": {},
   "outputs": [],
   "source": [
    "size_layer = 512\n",
    "num_layers = 2\n",
    "dropout = 0.7\n",
    "dimension_output = 2\n",
    "learning_rate = 1e-4\n",
    "maxlen = 100\n",
    "batch_size = 32\n",
    "dictionary = embedded['dictionary']\n",
    "\n",
    "tf.reset_default_graph()\n",
    "sess = tf.InteractiveSession()\n",
    "model = Model(size_layer,num_layers,dropout,dimension_output,learning_rate,maxlen)\n",
    "sess.run(tf.global_variables_initializer())"
   ]
  },
  {
   "cell_type": "code",
   "execution_count": 10,
   "metadata": {},
   "outputs": [
    {
     "name": "stdout",
     "output_type": "stream",
     "text": [
      "epoch: 0, pass acc: 0.000000, current acc: 0.681818\n",
      "time taken: 101.97703409194946\n",
      "epoch: 0, training loss: 0.634329, training acc: 0.644721, valid loss: 0.622408, valid acc: 0.681818\n",
      "\n",
      "epoch: 1, pass acc: 0.681818, current acc: 0.684659\n",
      "time taken: 93.08757257461548\n",
      "epoch: 1, training loss: 0.578062, training acc: 0.691141, valid loss: 0.600805, valid acc: 0.684659\n",
      "\n",
      "time taken: 94.39820551872253\n",
      "epoch: 2, training loss: 0.542596, training acc: 0.718143, valid loss: 0.581004, valid acc: 0.678977\n",
      "\n",
      "time taken: 89.37310671806335\n",
      "epoch: 3, training loss: 0.527841, training acc: 0.737257, valid loss: 0.615988, valid acc: 0.684659\n",
      "\n",
      "time taken: 73.29732012748718\n",
      "epoch: 4, training loss: 0.518808, training acc: 0.733920, valid loss: 0.605105, valid acc: 0.650568\n",
      "\n",
      "epoch: 5, pass acc: 0.684659, current acc: 0.690341\n",
      "time taken: 48.82748460769653\n",
      "epoch: 5, training loss: 0.503941, training acc: 0.754854, valid loss: 0.577728, valid acc: 0.690341\n",
      "\n",
      "time taken: 48.807836055755615\n",
      "epoch: 6, training loss: 0.494601, training acc: 0.752427, valid loss: 0.628036, valid acc: 0.656250\n",
      "\n",
      "time taken: 49.41453146934509\n",
      "epoch: 7, training loss: 0.486207, training acc: 0.753034, valid loss: 0.630967, valid acc: 0.667614\n",
      "\n",
      "time taken: 72.45681858062744\n",
      "epoch: 8, training loss: 0.472886, training acc: 0.765777, valid loss: 0.600777, valid acc: 0.676136\n",
      "\n",
      "time taken: 101.93458294868469\n",
      "epoch: 9, training loss: 0.463829, training acc: 0.761833, valid loss: 0.608233, valid acc: 0.659091\n",
      "\n",
      "epoch: 10, pass acc: 0.690341, current acc: 0.704545\n",
      "time taken: 100.84311389923096\n",
      "epoch: 10, training loss: 0.461487, training acc: 0.772148, valid loss: 0.607916, valid acc: 0.704545\n",
      "\n",
      "time taken: 101.1550805568695\n",
      "epoch: 11, training loss: 0.452052, training acc: 0.775789, valid loss: 0.583287, valid acc: 0.696023\n",
      "\n",
      "time taken: 100.6190254688263\n",
      "epoch: 12, training loss: 0.442156, training acc: 0.783981, valid loss: 0.613392, valid acc: 0.704545\n",
      "\n",
      "time taken: 101.39590215682983\n",
      "epoch: 13, training loss: 0.437309, training acc: 0.787621, valid loss: 0.640082, valid acc: 0.661932\n",
      "\n",
      "time taken: 101.36075854301453\n",
      "epoch: 14, training loss: 0.416163, training acc: 0.800971, valid loss: 0.604556, valid acc: 0.676136\n",
      "\n",
      "epoch: 15, pass acc: 0.704545, current acc: 0.713068\n",
      "time taken: 101.09622406959534\n",
      "epoch: 15, training loss: 0.407241, training acc: 0.802488, valid loss: 0.579697, valid acc: 0.713068\n",
      "\n",
      "time taken: 100.61426091194153\n",
      "epoch: 16, training loss: 0.402633, training acc: 0.803701, valid loss: 0.600514, valid acc: 0.673295\n",
      "\n",
      "time taken: 101.19146800041199\n",
      "epoch: 17, training loss: 0.390964, training acc: 0.816444, valid loss: 0.673557, valid acc: 0.690341\n",
      "\n",
      "time taken: 101.10944318771362\n",
      "epoch: 18, training loss: 0.377628, training acc: 0.821602, valid loss: 0.611934, valid acc: 0.693182\n",
      "\n",
      "time taken: 101.1421480178833\n",
      "epoch: 19, training loss: 0.367424, training acc: 0.838896, valid loss: 0.674618, valid acc: 0.693182\n",
      "\n",
      "epoch: 20, pass acc: 0.713068, current acc: 0.730114\n",
      "time taken: 101.23207330703735\n",
      "epoch: 20, training loss: 0.359252, training acc: 0.834041, valid loss: 0.592760, valid acc: 0.730114\n",
      "\n",
      "time taken: 101.14904069900513\n",
      "epoch: 21, training loss: 0.343410, training acc: 0.846481, valid loss: 0.692960, valid acc: 0.718750\n",
      "\n",
      "time taken: 101.1755793094635\n",
      "epoch: 22, training loss: 0.342473, training acc: 0.840109, valid loss: 0.658727, valid acc: 0.656250\n",
      "\n",
      "time taken: 101.13542151451111\n",
      "epoch: 23, training loss: 0.326986, training acc: 0.853762, valid loss: 0.680309, valid acc: 0.690341\n",
      "\n",
      "time taken: 101.43908405303955\n",
      "epoch: 24, training loss: 0.322237, training acc: 0.854369, valid loss: 0.640593, valid acc: 0.684659\n",
      "\n",
      "time taken: 101.41728711128235\n",
      "epoch: 25, training loss: 0.299395, training acc: 0.869842, valid loss: 0.773861, valid acc: 0.687500\n",
      "\n",
      "time taken: 102.11327743530273\n",
      "epoch: 26, training loss: 0.288468, training acc: 0.871966, valid loss: 0.761053, valid acc: 0.656250\n",
      "\n",
      "time taken: 101.37708568572998\n",
      "epoch: 27, training loss: 0.274555, training acc: 0.875607, valid loss: 0.732876, valid acc: 0.698864\n",
      "\n",
      "time taken: 101.62049841880798\n",
      "epoch: 28, training loss: 0.281856, training acc: 0.875303, valid loss: 0.748858, valid acc: 0.681818\n",
      "\n",
      "time taken: 101.12719058990479\n",
      "epoch: 29, training loss: 0.251033, training acc: 0.890777, valid loss: 0.815746, valid acc: 0.676136\n",
      "\n",
      "time taken: 100.94808077812195\n",
      "epoch: 30, training loss: 0.251392, training acc: 0.892294, valid loss: 0.735465, valid acc: 0.704545\n",
      "\n",
      "break epoch:31\n",
      "\n"
     ]
    }
   ],
   "source": [
    "EARLY_STOPPING, CURRENT_CHECKPOINT, CURRENT_ACC, EPOCH = 10, 0, 0, 0\n",
    "while True:\n",
    "    lasttime = time.time()\n",
    "    if CURRENT_CHECKPOINT == EARLY_STOPPING:\n",
    "        print('break epoch:%d\\n'%(EPOCH))\n",
    "        break\n",
    "    \n",
    "    train_X, train_Y = shuffle(train_X, train_Y)\n",
    "    train_acc, train_loss, test_acc, test_loss = 0, 0, 0, 0\n",
    "    for i in range(0, (len(train_X) // batch_size) * batch_size, batch_size):\n",
    "        batch_x = str_idx(train_X[i:i+batch_size],dictionary,maxlen)\n",
    "        acc, loss, _ = sess.run([model.accuracy, model.cost, model.optimizer], \n",
    "                           feed_dict = {model.X : batch_x, model.Y : train_Y[i:i+batch_size]})\n",
    "        train_loss += loss\n",
    "        train_acc += acc\n",
    "    \n",
    "    for i in range(0, (len(test_X) // batch_size) * batch_size, batch_size):\n",
    "        batch_x = str_idx(test_X[i:i+batch_size],dictionary,maxlen)\n",
    "        acc, loss = sess.run([model.accuracy, model.cost], \n",
    "                           feed_dict = {model.X : batch_x, model.Y : test_Y[i:i+batch_size]})\n",
    "        test_loss += loss\n",
    "        test_acc += acc\n",
    "    \n",
    "    train_loss /= (len(train_X) // batch_size)\n",
    "    train_acc /= (len(train_X) // batch_size)\n",
    "    test_loss /= (len(test_X) // batch_size)\n",
    "    test_acc /= (len(test_X) // batch_size)\n",
    "    \n",
    "    if test_acc > CURRENT_ACC:\n",
    "        print('epoch: %d, pass acc: %f, current acc: %f'%(EPOCH,CURRENT_ACC, test_acc))\n",
    "        CURRENT_ACC = test_acc\n",
    "        CURRENT_CHECKPOINT = 0\n",
    "    else:\n",
    "        CURRENT_CHECKPOINT += 1\n",
    "        \n",
    "    print('time taken:', time.time()-lasttime)\n",
    "    print('epoch: %d, training loss: %f, training acc: %f, valid loss: %f, valid acc: %f\\n'%(EPOCH,train_loss,\n",
    "                                                                                          train_acc,test_loss,\n",
    "                                                                                          test_acc))\n",
    "    EPOCH += 1"
   ]
  },
  {
   "cell_type": "code",
   "execution_count": 11,
   "metadata": {},
   "outputs": [
    {
     "data": {
      "text/plain": [
       "'/home/barbatos/Desktop/rnn/normal/model.ckpt'"
      ]
     },
     "execution_count": 11,
     "metadata": {},
     "output_type": "execute_result"
    }
   ],
   "source": [
    "import os\n",
    "saver = tf.train.Saver(tf.global_variables())\n",
    "saver.save(sess, os.getcwd()+\"/normal/model.ckpt\")"
   ]
  },
  {
   "cell_type": "code",
   "execution_count": 12,
   "metadata": {},
   "outputs": [],
   "source": [
    "strings=','.join([n.name for n in tf.get_default_graph().as_graph_def().node if \"Variable\" in n.op or n.name.find('Placeholder') >= 0 or n.name.find('logits') == 0 or n.name.find('alphas') == 0])"
   ]
  },
  {
   "cell_type": "code",
   "execution_count": 13,
   "metadata": {},
   "outputs": [],
   "source": [
    "def freeze_graph(model_dir, output_node_names):\n",
    "\n",
    "    if not tf.gfile.Exists(model_dir):\n",
    "        raise AssertionError(\n",
    "            \"Export directory doesn't exists. Please specify an export \"\n",
    "            \"directory: %s\" % model_dir)\n",
    "\n",
    "    checkpoint = tf.train.get_checkpoint_state(model_dir)\n",
    "    input_checkpoint = checkpoint.model_checkpoint_path\n",
    "    \n",
    "    absolute_model_dir = \"/\".join(input_checkpoint.split('/')[:-1])\n",
    "    output_graph = absolute_model_dir + \"/frozen_model.pb\"\n",
    "    clear_devices = True\n",
    "    with tf.Session(graph=tf.Graph()) as sess:\n",
    "        saver = tf.train.import_meta_graph(input_checkpoint + '.meta', clear_devices=clear_devices)\n",
    "        saver.restore(sess, input_checkpoint)\n",
    "        output_graph_def = tf.graph_util.convert_variables_to_constants(\n",
    "            sess,\n",
    "            tf.get_default_graph().as_graph_def(),\n",
    "            output_node_names.split(\",\")\n",
    "        ) \n",
    "        with tf.gfile.GFile(output_graph, \"wb\") as f:\n",
    "            f.write(output_graph_def.SerializeToString())\n",
    "        print(\"%d ops in the final graph.\" % len(output_graph_def.node))"
   ]
  },
  {
   "cell_type": "code",
   "execution_count": 14,
   "metadata": {},
   "outputs": [
    {
     "name": "stdout",
     "output_type": "stream",
     "text": [
      "INFO:tensorflow:Restoring parameters from /home/barbatos/Desktop/rnn/normal/model.ckpt\n",
      "INFO:tensorflow:Froze 33 variables.\n",
      "Converted 33 variables to const ops.\n",
      "677 ops in the final graph.\n"
     ]
    }
   ],
   "source": [
    "freeze_graph(\"normal\", strings)"
   ]
  },
  {
   "cell_type": "code",
   "execution_count": 15,
   "metadata": {},
   "outputs": [],
   "source": [
    "def load_graph(frozen_graph_filename):\n",
    "    with tf.gfile.GFile(frozen_graph_filename, \"rb\") as f:\n",
    "        graph_def = tf.GraphDef()\n",
    "        graph_def.ParseFromString(f.read())\n",
    "    with tf.Graph().as_default() as graph:\n",
    "        tf.import_graph_def(graph_def)\n",
    "    return graph"
   ]
  },
  {
   "cell_type": "code",
   "execution_count": 16,
   "metadata": {},
   "outputs": [],
   "source": [
    "g=load_graph('normal/frozen_model.pb')"
   ]
  },
  {
   "cell_type": "code",
   "execution_count": 17,
   "metadata": {},
   "outputs": [],
   "source": [
    "x = g.get_tensor_by_name('import/Placeholder:0')\n",
    "logits = g.get_tensor_by_name('import/logits:0')\n",
    "test_sess = tf.InteractiveSession(graph=g)\n",
    "results=test_sess.run(logits, feed_dict={x:batch_x})"
   ]
  },
  {
   "cell_type": "code",
   "execution_count": null,
   "metadata": {},
   "outputs": [],
   "source": []
  }
 ],
 "metadata": {
  "kernelspec": {
   "display_name": "Python 3",
   "language": "python",
   "name": "python3"
  },
  "language_info": {
   "codemirror_mode": {
    "name": "ipython",
    "version": 3
   },
   "file_extension": ".py",
   "mimetype": "text/x-python",
   "name": "python",
   "nbconvert_exporter": "python",
   "pygments_lexer": "ipython3",
   "version": "3.5.2"
  }
 },
 "nbformat": 4,
 "nbformat_minor": 2
}
