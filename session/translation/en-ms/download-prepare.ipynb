{
 "cells": [
  {
   "cell_type": "code",
   "execution_count": 1,
   "metadata": {},
   "outputs": [],
   "source": [
    "# x = \"\"\"\n",
    "# translation/malay-english/translated-0.json\n",
    "# translation/malay-english/translated-100000.json\n",
    "# translation/malay-english/translated-200000.json\n",
    "# translation/malay-english/translated-300000.json\n",
    "# translation/malay-english/translated-400000.json\n",
    "# translation/malay-english/translated-500000.json\n",
    "# translation/malay-english/translated-600000.json\n",
    "# translation/malay-english/translated-700000.json\n",
    "# translation/malay-english/translated-800000.json\n",
    "# translation/malay-english/translated-900000.json\n",
    "# translation/malay-english/translated-1000000.json\n",
    "# translation/malay-english/translated-1100000.json\n",
    "# translation/malay-english/translated-1200000.json\n",
    "# translation/malay-english/translated-1300000.json\n",
    "# translation/malay-english/translated-1400000.json\n",
    "# translation/malay-english/translated-1500000.json\n",
    "# translation/malay-english/translated-1600000.json\n",
    "# translation/malay-english/translated-1700000.json\n",
    "# translation/malay-english/translated-1800000.json\n",
    "# translation/malay-english/translated-1900000.json\n",
    "# translation/malay-english/translated-2000000.json\n",
    "# translation/malay-english/translated-2100000.json\n",
    "# translation/malay-english/translated-2200000.json\n",
    "# translation/malay-english/translated-2300000.json\n",
    "# translation/malay-english/translated-2400000.json\n",
    "# translation/malay-english/translated-2500000.json\n",
    "# translation/malay-english/translated-2600000.json\n",
    "# translation/malay-english/translated-2700000.json\n",
    "# translation/malay-english/translated-2800000.json\n",
    "# translation/malay-english/translated-2900000.json\n",
    "# translation/malay-english/translated-3000000.json\n",
    "# translation/malay-english/translated-3100000.json\n",
    "# translation/malay-english/translated-3200000.json\n",
    "# translation/malay-english/translated-3300000.json\n",
    "# translation/malay-english/translated-3400000.json\n",
    "# translation/malay-english/translated-3500000.json\n",
    "# \"\"\""
   ]
  },
  {
   "cell_type": "code",
   "execution_count": 2,
   "metadata": {},
   "outputs": [],
   "source": [
    "# import os\n",
    "# url = 'https://f000.backblazeb2.com/file/malay-dataset/'\n",
    "\n",
    "# for row in x.split('\\n'):\n",
    "#     if not len(row):\n",
    "#         continue\n",
    "#     link = f'{url}{row}'\n",
    "#     os.system(f'wget {link}')"
   ]
  },
  {
   "cell_type": "code",
   "execution_count": 3,
   "metadata": {},
   "outputs": [],
   "source": [
    "# !wget https://f000.backblazeb2.com/file/malay-dataset/translation/parliament/translated-trainset-parliament.json"
   ]
  },
  {
   "cell_type": "code",
   "execution_count": 4,
   "metadata": {},
   "outputs": [],
   "source": [
    "# !wget https://f000.backblazeb2.com/file/malay-dataset/translation/opus/gnome-ms-en.json X\n",
    "# !wget https://f000.backblazeb2.com/file/malay-dataset/translation/opus/kde4-ms-en.json X\n",
    "# !wget https://f000.backblazeb2.com/file/malay-dataset/translation/opus/opensubtitle-ms-en.json X\n",
    "# !wget https://f000.backblazeb2.com/file/malay-dataset/translation/opus/qed-ms-en.json\n",
    "# !wget https://f000.backblazeb2.com/file/malay-dataset/translation/opus/tanzil-ms-en.json\n",
    "# !wget https://f000.backblazeb2.com/file/malay-dataset/translation/opus/ubuntu-ms-en.json"
   ]
  },
  {
   "cell_type": "code",
   "execution_count": 5,
   "metadata": {},
   "outputs": [],
   "source": [
    "import json\n",
    "\n",
    "with open('translated-trainset-parliament.json') as fopen:\n",
    "    data = json.load(fopen)"
   ]
  },
  {
   "cell_type": "code",
   "execution_count": 6,
   "metadata": {},
   "outputs": [],
   "source": [
    "rejected = ['PERTANYAAN-PERTANYAAN JAWAB LISAN', 'PENGGAL KEEMPAT', 'PUSAT JAGAAN BERDAFTAR',\n",
    "           'BILANGAN PUSAT JAGAAN', 'pewan']"
   ]
  },
  {
   "cell_type": "code",
   "execution_count": 7,
   "metadata": {},
   "outputs": [
    {
     "name": "stdout",
     "output_type": "stream",
     "text": [
      "50460\n"
     ]
    }
   ],
   "source": [
    "selected, reject = [], []\n",
    "for row in data:\n",
    "    if any([r.lower() in row[0].lower() for r in rejected]):\n",
    "        reject.append(row)\n",
    "        continue\n",
    "    s = row[0]\n",
    "    if (sum(c.isdigit() for c in s) / len(s)) > 0.15:\n",
    "        reject.append(row)\n",
    "        continue\n",
    "    if sum(c.isalpha() for c in s) == 0:\n",
    "        reject.append(row)\n",
    "        continue\n",
    "    selected.append(row)\n",
    "    \n",
    "print(len(selected))\n",
    "x_parliament, y_parliament = list(zip(*selected))"
   ]
  },
  {
   "cell_type": "code",
   "execution_count": 8,
   "metadata": {},
   "outputs": [],
   "source": [
    "import random\n",
    "\n",
    "with open('ubuntu-ms-en.json') as fopen:\n",
    "    data = json.load(fopen)\n",
    "    \n",
    "X, Y = list(zip(*data))\n",
    "X = list(X)\n",
    "Y = list(Y)"
   ]
  },
  {
   "cell_type": "code",
   "execution_count": 9,
   "metadata": {},
   "outputs": [],
   "source": [
    "with open('qed-ms-en.json') as fopen:\n",
    "    data = json.load(fopen)\n",
    "    \n",
    "x, y = list(zip(*data))\n",
    "X.extend(x)\n",
    "Y.extend(y)"
   ]
  },
  {
   "cell_type": "code",
   "execution_count": 10,
   "metadata": {},
   "outputs": [],
   "source": [
    "with open('tanzil-ms-en.json') as fopen:\n",
    "    data = json.load(fopen)\n",
    "    \n",
    "x, y = list(zip(*data))\n",
    "X.extend(x)\n",
    "Y.extend(y)"
   ]
  },
  {
   "cell_type": "code",
   "execution_count": 11,
   "metadata": {},
   "outputs": [
    {
     "data": {
      "text/plain": [
       "['translated-3200000.json',\n",
       " 'translated-700000.json',\n",
       " 'translated-2100000.json',\n",
       " 'translated-3300000.json',\n",
       " 'translated-2300000.json',\n",
       " 'translated-2000000.json',\n",
       " 'translated-600000.json',\n",
       " 'translated-900000.json',\n",
       " 'translated-1000000.json',\n",
       " 'translated-1100000.json',\n",
       " 'translated-1900000.json',\n",
       " 'translated-500000.json',\n",
       " 'translated-1400000.json',\n",
       " 'translated-1500000.json',\n",
       " 'translated-2600000.json',\n",
       " 'translated-200000.json',\n",
       " 'translated-2900000.json',\n",
       " 'translated-3400000.json',\n",
       " 'translated-3500000.json',\n",
       " 'translated-2800000.json',\n",
       " 'translated-300000.json',\n",
       " 'translated-2500000.json',\n",
       " 'translated-3100000.json',\n",
       " 'translated-1300000.json',\n",
       " 'translated-2400000.json',\n",
       " 'translated-100000.json',\n",
       " 'translated-1600000.json',\n",
       " 'translated-2700000.json',\n",
       " 'translated-0.json',\n",
       " 'translated-800000.json',\n",
       " 'translated-1800000.json',\n",
       " 'translated-2200000.json',\n",
       " 'translated-1200000.json',\n",
       " 'translated-1700000.json',\n",
       " 'translated-3000000.json',\n",
       " 'translated-400000.json']"
      ]
     },
     "execution_count": 11,
     "metadata": {},
     "output_type": "execute_result"
    }
   ],
   "source": [
    "from glob import glob\n",
    "\n",
    "translated = glob('translated*0.json')\n",
    "translated"
   ]
  },
  {
   "cell_type": "code",
   "execution_count": 12,
   "metadata": {},
   "outputs": [],
   "source": [
    "for file in translated:\n",
    "    with open(file) as fopen:\n",
    "        data = json.load(fopen)\n",
    "\n",
    "    x, y = list(zip(*data))\n",
    "    X.extend(x)\n",
    "    Y.extend(y)"
   ]
  },
  {
   "cell_type": "code",
   "execution_count": 13,
   "metadata": {},
   "outputs": [],
   "source": [
    "# import os\n",
    "\n",
    "# prefix = 'https://f000.backblazeb2.com/file/malay-dataset/'\n",
    "# urls = \"\"\"\n",
    "# wiki-wizard/dialogs.translate\n",
    "# wiki-wizard/informations-0.json.translate\n",
    "# wiki-wizard/informations-100000.json.translate\n",
    "# wiki-wizard/informations-200000.json.translate\n",
    "# chatbot/convai2/convai2-0.json.translate\n",
    "# chatbot/convai2/convai2-100000.json.translate\n",
    "# paraphrase/funpedia/rephrase.json.translate\n",
    "# \"\"\"\n",
    "# for url in urls.split('\\n'):\n",
    "#     if len(url):\n",
    "#         print(url)\n",
    "#         os.system(f'wget {prefix}{url}')"
   ]
  },
  {
   "cell_type": "code",
   "execution_count": 22,
   "metadata": {},
   "outputs": [],
   "source": [
    "from tqdm import tqdm\n",
    "from unidecode import unidecode\n",
    "import re\n",
    "\n",
    "def cleaning(string):\n",
    "    string = unidecode(string).replace('\\n', ' ').replace('\\t', ' ')\n",
    "    string = re.sub(r'[ ]+', ' ', string).strip()\n",
    "    return string\n",
    "\n",
    "def \n",
    "check(string):\n",
    "    string = re.sub('[^A-Za-z\\- ]+', ' ', string)\n",
    "    string = re.sub(r'[ ]+', ' ', string.lower()).strip()\n",
    "    return string"
   ]
  },
  {
   "cell_type": "code",
   "execution_count": 28,
   "metadata": {
    "scrolled": true
   },
   "outputs": [
    {
     "name": "stdout",
     "output_type": "stream",
     "text": [
      "informations-100000.json.translate 1.982215263559356\n",
      "dialogs.translate 2.4126386389843635\n",
      "informations-200000.json.translate 1.6322194321035348\n",
      "informations-0.json.translate 2.2543461041397426\n",
      "convai2-100000.json.translate 1.8807818751752086\n",
      "convai2-0.json.translate 2.149234888669429\n"
     ]
    }
   ],
   "source": [
    "translated = glob('*.translate')\n",
    "\n",
    "x, y = [], []\n",
    "\n",
    "rejected = ['lexus', 'little', 'lizards', 'lizard']\n",
    "\n",
    "for t in translated:\n",
    "    \n",
    "    if 'rephrase.json' in t:\n",
    "        continue\n",
    "        \n",
    "    with open(t) as fopen:\n",
    "        data = json.load(fopen)\n",
    "        \n",
    "    count = 0\n",
    "    for no, row in enumerate(data):\n",
    "        splitted = row[0]['text'].split('<>')\n",
    "        splitted_bm = row[1].split('<>')\n",
    "        if len(splitted) != len(splitted_bm):\n",
    "            count += 1\n",
    "            continue\n",
    "        \n",
    "        for k in range(len(splitted)):\n",
    "            s = check(splitted[k])\n",
    "            if any([r in s for r in rejected]):\n",
    "                continue\n",
    "            y.append(splitted[k])\n",
    "            x.append(splitted_bm[k])\n",
    "        \n",
    "    print(t, count / len(data) * 100)"
   ]
  },
  {
   "cell_type": "code",
   "execution_count": 29,
   "metadata": {},
   "outputs": [
    {
     "data": {
      "text/plain": [
       "1406877"
      ]
     },
     "execution_count": 29,
     "metadata": {},
     "output_type": "execute_result"
    }
   ],
   "source": [
    "len(x)"
   ]
  },
  {
   "cell_type": "code",
   "execution_count": 33,
   "metadata": {
    "scrolled": false
   },
   "outputs": [
    {
     "data": {
      "text/plain": [
       "[('saya kerap mengunjungi tempat perlindungan haiwan. ',\n",
       "  'i visit animal shelters fairly often. '),\n",
       " (' Baiklah selalu ada pilihan seperti menyumbangkan wang kepada ASPCA atau masyarakat berperikemanusiaan tempatan kerana semuanya mempunyai tujuan bersama yang sama untuk menyelamatkan sebanyak mungkin haiwan. ',\n",
       "  ' Well there is always options like donating money to the ASPCA or a local humane society as it all has the same common goal to save as many animals as possible. '),\n",
       " (' ya itu terdengar seperti penyelesaian yang baik jika tidak ada tempat perlindungan dengan falsafah tanpa bunuh',\n",
       "  ' yea that sounds like a good solution if there is no shelter with no-kill philosophy'),\n",
       " ('saya suka nugget ayam. ', 'i like chicken nuggets. '),\n",
       " (' Ya! Dia bergabung dengan pasukan itu pada tahun 1954 dan dia menjadikan rangkaian tersebut menjadi francais nasional dan global menjadikannya francais makanan segera yang paling berjaya di dunia. ',\n",
       "  ' Yes! He joined the team in 1954 and he turned the chain into a nationwide and global franchise making it the most successful fast food franchise in the world. '),\n",
       " (' McDonalds adalah makanan yang setara dengan Disneyland bagi saya semasa kecil. Taman permainan dan mainan, apatah lagi jingle yang masih saya ketahui oleh hati.',\n",
       "  ' McDonalds was the food equivalent of Disneyland for me as a kid. The playground and toy, not to mention the jingle that I still know by heart.'),\n",
       " ('saya suka nugget ayam. ', 'i like chicken nuggets. '),\n",
       " (' Saya menyukai lengkungan emas yang dilancarkan di sebuah lokasi di Phoenix, Arizona! Saya juga ingat bahawa bergema ketika saya menghafalnya ketika saya masih kecil! lol ',\n",
       "  ' I loved the golden arches which were launched at at a location in Phoenix, Arizona! I also remember that jingle as i memorized it when I was a kid! lol '),\n",
       " (' Ronald McDonald adalah satu-satunya badut yang tidak pernah menakutkan saya, dan suka bahawa dia mewakili rumah Ronald McDonald yang banyak membantu.',\n",
       "  ' Ronald McDonald is the only clown that never scared me, and love that he represents the Ronald McDonald house that helps so many.'),\n",
       " ('saya suka nugget ayam. ', 'i like chicken nuggets. '),\n",
       " (' Bermula sebagai pendirian kecil dan sekarang McDonalds adalah rangkaian restoran terbesar di dunia berdasarkan hasil. Itu sangat besar! ',\n",
       "  \" Starting as a small stand and now McDonalds is the  worlds largest restaurant chain by revenue. That's huge! \"),\n",
       " (' Mereka memutuskan untuk mengubah perniagaan mereka sebagai hamburger stand. Saya tahu ini adalah pengalaman pertama saya dengan burger makanan segera! lol',\n",
       "  ' They decided to revamp their business as a hamburger stand. I know it was my first experienced with a fast food burger! lol'),\n",
       " ('saya suka nugget ayam. ', 'i like chicken nuggets. '),\n",
       " (' McDonalds adalah syarikat makanan segera yang ditubuhkan pada tahun 1940-an yang ditubuhkan di San Bernardino, California. ',\n",
       "  ' McDonalds is a fast food company founded in the 1940s founded in San Bernardino, California. '),\n",
       " (' Bermula sebagai pendirian kecil dan sekarang McDonalds adalah rangkaian restoran terbesar di dunia berdasarkan hasil. Itu sangat besar!',\n",
       "  \" Starting as a small stand and now McDonalds is the  worlds largest restaurant chain by revenue. That's huge!\"),\n",
       " ('saya suka nugget ayam. ', 'i like chicken nuggets. '),\n",
       " (' McDonalds adalah makanan yang setara dengan Disneyland bagi saya semasa kecil. Taman permainan dan mainan, apatah lagi jingle yang masih saya ketahui oleh hati. ',\n",
       "  ' McDonalds was the food equivalent of Disneyland for me as a kid. The playground and toy, not to mention the jingle that I still know by heart. '),\n",
       " (' Saya menyukai lengkungan emas yang dilancarkan di sebuah lokasi di Phoenix, Arizona! Saya juga ingat bahawa bergema ketika saya menghafalnya ketika saya masih kecil! lol',\n",
       "  ' I loved the golden arches which were launched at at a location in Phoenix, Arizona! I also remember that jingle as i memorized it when I was a kid! lol'),\n",
       " ('saya suka nugget ayam. ', 'i like chicken nuggets. '),\n",
       " (' Mereka memutuskan untuk mengubah perniagaan mereka sebagai hamburger stand. Saya tahu ini adalah pengalaman pertama saya dengan burger makanan segera! lol ',\n",
       "  ' They decided to revamp their business as a hamburger stand. I know it was my first experienced with a fast food burger! lol '),\n",
       " (' Ray Kroc adalah dalang perniagaan yang menyalakan api yang meletupkan mereka. Itu adalah bahagian dramatik dari kisah McDonalds.',\n",
       "  ' Ray Kroc was the business mastermind that lit the fire that blew them up. That was a dramatic part of the McDonalds story.'),\n",
       " ('saya suka nugget ayam. ', 'i like chicken nuggets. '),\n",
       " (' Ray Kroc adalah dalang perniagaan yang menyalakan api yang meletupkan mereka. Itu adalah bahagian dramatik dari kisah McDonalds. ',\n",
       "  ' Ray Kroc was the business mastermind that lit the fire that blew them up. That was a dramatic part of the McDonalds story. '),\n",
       " (' Ya! Dia bergabung dengan pasukan itu pada tahun 1954 dan dia menjadikan rangkaian tersebut menjadi francais nasional dan global menjadikannya francais makanan segera yang paling berjaya di dunia.',\n",
       "  ' Yes! He joined the team in 1954 and he turned the chain into a nationwide and global franchise making it the most successful fast food franchise in the world.'),\n",
       " ('saya suka nugget ayam. ', 'i like chicken nuggets. '),\n",
       " (' Ronald McDonald adalah satu-satunya badut yang tidak pernah menakutkan saya, dan suka bahawa dia mewakili rumah Ronald McDonald yang banyak membantu. ',\n",
       "  ' Ronald McDonald is the only clown that never scared me, and love that he represents the Ronald McDonald house that helps so many. '),\n",
       " (' Saya menyokong Ronald McDonald House Charities yang menyokong anak-anak tetapi saya seperti anda .... sebenarnya .... semua badut menakutkan saya! lol',\n",
       "  ' I totally support the Ronald McDonald House Charities which support children but I am like you....actually....all clowns scare me! lol'),\n",
       " ('saya suka nugget ayam. ', 'i like chicken nuggets. '),\n",
       " (' Saya menyokong Ronald McDonald House Charities yang menyokong anak-anak tetapi saya seperti anda .... sebenarnya .... semua badut menakutkan saya! lol ',\n",
       "  ' I totally support the Ronald McDonald House Charities which support children but I am like you....actually....all clowns scare me! lol '),\n",
       " (' McDonalds terus menyesuaikan diri dengan pasaran dan telah menambah pesanan mudah alih dengan penghantaran curbside di kawasan kami.',\n",
       "  ' McDonalds continues to adapt to the market and has added mobile ordering with curbside delivery in our area.'),\n",
       " ('saya lebih suka alat dengar daripada earbud. ',\n",
       "  'i prefer headsets over earbuds. '),\n",
       " (' Adakah anda sering menggunakan fon kepala? ',\n",
       "  ' Do you use headphones often? '),\n",
       " (' Ya saya betul. Saya menggunakannya untuk menukar isyarat elektrik menjadi bunyi.',\n",
       "  ' Yeah I do. I use them to convert electrical signals into sound. '),\n",
       " ('saya lebih suka alat dengar daripada earbud. ',\n",
       "  'i prefer headsets over earbuds. '),\n",
       " (' Ya saya betul. Saya menggunakannya untuk menukar isyarat elektrik menjadi bunyi. ',\n",
       "  ' Yeah I do. I use them to convert electrical signals into sound.  '),\n",
       " (' Bagus! Terdapat beberapa gaya fon kepala yang berbeza termasuk gaya bluetooth. Adakah anda biasa dengan mereka?',\n",
       "  \" That's cool! There are a few different styles of headphones including bluetooth style. Are you familiar with those?\"),\n",
       " ('saya lebih suka alat dengar daripada earbud. ',\n",
       "  'i prefer headsets over earbuds. '),\n",
       " (' Bagus! Terdapat beberapa gaya fon kepala yang berbeza termasuk gaya bluetooth. Adakah anda biasa dengan mereka? ',\n",
       "  \" That's cool! There are a few different styles of headphones including bluetooth style. Are you familiar with those? \"),\n",
       " (' Ya! Terdapat juga pelbagai jenis seperti fon kepala circumaural semasa berada di atas kepala.',\n",
       "  ' Yes! There are also different types like the circumaural headphones while go over the head. '),\n",
       " ('saya lebih suka alat dengar daripada earbud. ',\n",
       "  'i prefer headsets over earbuds. '),\n",
       " (' Ya! Terdapat juga pelbagai jenis seperti fon kepala circumaural semasa berada di atas kepala. ',\n",
       "  ' Yes! There are also different types like the circumaural headphones while go over the head.  '),\n",
       " (' Adakah anda tahu berapa lama fon kepala sudah ada?',\n",
       "  ' Do you know how long headphones have been around?'),\n",
       " ('saya lebih suka alat dengar daripada earbud. ',\n",
       "  'i prefer headsets over earbuds. '),\n",
       " (' Betul! Saya tidak menyedari bagaimana ia digunakan untuk komunikasi telefon awal. ',\n",
       "  \" That's right! I didn't realize how they were used for early telephone communications. \"),\n",
       " (' Ya, itu adalah agar tangan mereka bebas semasa mereka bekerja.',\n",
       "  ' Yeah that was to keep their hands free while they were working. '),\n",
       " ('saya lebih suka alat dengar daripada earbud. ',\n",
       "  'i prefer headsets over earbuds. '),\n",
       " (' Adakah anda tahu berapa lama fon kepala ada? ',\n",
       "  ' Do you know how long headphones have been around? '),\n",
       " (' Ya! Mereka dicipta pada abad ke-19 untuk pengendali telefon.',\n",
       "  ' Yes! They were invented in the 19th century for telephone operators. '),\n",
       " ('pelakon kegemaran saya ialah robert deniro. ',\n",
       "  'my favorite actor is robert deniro. '),\n",
       " (' Saya tidak tahu itu. Setiap kali saya memikirkannya, saya memikirkan orang-orang yang memberi kesan kepadanya! ',\n",
       "  \" I didn't know that.  Every time I think of him I think of people doing impressions of him! \"),\n",
       " (' Itu sangat benar - Saya telah mendengar banyak yang melakukan karya kecilnya dari The Godfather Part II, di mana dia memenangi anugerah.',\n",
       "  \" That's very true  - I've heard many do his bit from The Godfather Part II, which he won an award for.\"),\n",
       " ('pelakon kegemaran saya ialah robert deniro. ',\n",
       "  'my favorite actor is robert deniro. '),\n",
       " (' Saya baru mengetahui bahawa Robert De Niro mempunyai kewarganegaraan Amerika dan Itali! ',\n",
       "  ' I just found out that Robert De Niro has both American and Italian citizenship! '),\n",
       " (' Saya tidak tahu itu. Setiap kali saya memikirkannya, saya memikirkan orang-orang yang memberi kesan kepadanya!',\n",
       "  \" I didn't know that.  Every time I think of him I think of people doing impressions of him!\"),\n",
       " ('pelakon kegemaran saya ialah robert deniro. ',\n",
       "  'my favorite actor is robert deniro. '),\n",
       " (' Itu sangat benar - Saya telah mendengar banyak yang melakukan karya kecilnya dari The Godfather Part II, di mana dia memenangi anugerah. ',\n",
       "  \" That's very true  - I've heard many do his bit from The Godfather Part II, which he won an award for. \"),\n",
       " (' Anehnya saya tidak pernah melihat Godfather 2, atau 3. Saya tahu ia adalah siri legenda. Saya perlu memeriksa semuanya.',\n",
       "  \" Oddly enough I've never seen the Godfather 2, or 3.  I know it's a legendary series though.  I need to check them all out.\"),\n",
       " ('saya lebih suka alat dengar daripada earbud. ',\n",
       "  'i prefer headsets over earbuds. '),\n",
       " (' Adakah anda tahu bila mereka mula menjadi popular di kalangan orang? ',\n",
       "  ' Do you know when they started to become commercially popular for people? '),\n",
       " (' Tidak, saya juga tidak dikenali tetapi mereka juga dikenali sebagai pembesar suara atau kaleng!',\n",
       "  \" No I don't but they are also known as earspeakers or even cans!\"),\n",
       " ('pelakon kegemaran saya ialah robert deniro. ',\n",
       "  'my favorite actor is robert deniro. '),\n",
       " (' Anehnya saya tidak pernah melihat Godfather 2, atau 3. Saya tahu ia adalah siri legenda. Saya perlu memeriksa semuanya. ',\n",
       "  \" Oddly enough I've never seen the Godfather 2, or 3.  I know it's a legendary series though.  I need to check them all out. \"),\n",
       " (' Mereka ikonik jika tidak ada yang lain - mereka bahkan mempunyai siri permainan video berdasarkan filem 1974',\n",
       "  ' They are iconic if nothing else - they even have a video game series based on the 1974 film'),\n",
       " ('saya lebih suka alat dengar daripada earbud. ',\n",
       "  'i prefer headsets over earbuds. '),\n",
       " (' Ya, itu adalah agar tangan mereka bebas semasa mereka bekerja. ',\n",
       "  ' Yeah that was to keep their hands free while they were working.  '),\n",
       " (' Adakah anda tahu bila mereka mula menjadi popular di kalangan orang?',\n",
       "  ' Do you know when they started to become commercially popular for people?'),\n",
       " ('saya lebih suka alat dengar daripada earbud. ',\n",
       "  'i prefer headsets over earbuds. '),\n",
       " (' Ya! Mereka dicipta pada abad ke-19 untuk pengendali telefon. ',\n",
       "  ' Yes! They were invented in the 19th century for telephone operators.  '),\n",
       " (' Betul! Saya tidak menyedari bagaimana ia digunakan untuk komunikasi telefon awal.',\n",
       "  \" That's right! I didn't realize how they were used for early telephone communications.\"),\n",
       " ('pelakon kegemaran saya ialah robert deniro. ',\n",
       "  'my favorite actor is robert deniro. '),\n",
       " (' Mereka ikonik jika tidak ada yang lain - mereka bahkan mempunyai siri permainan video berdasarkan filem 1974 ',\n",
       "  ' They are iconic if nothing else - they even have a video game series based on the 1974 film '),\n",
       " (' Adakah permainan video dilancarkan di PC, Konsol atau kedua-duanya?',\n",
       "  ' Was the video game released on PC, Consoles or both?'),\n",
       " ('pelakon kegemaran saya ialah robert deniro. ',\n",
       "  'my favorite actor is robert deniro. '),\n",
       " (' Saya rasa mereka dilepaskan untuk konsol ',\n",
       "  ' I think they were released for the consoles '),\n",
       " (' Wajah yang dibuat oleh Robert De Niro ketika dia melakukan parodi dirinya di Saturday Night Live sangat klasik!',\n",
       "  \" The face that Robert De Niro makes when he's doing a parody of himself on Saturday Night Live is so classic!\"),\n",
       " ('saya seorang penganalisis kewangan untuk kilang bir. ',\n",
       "  'i am a financial analyst for a brewery. '),\n",
       " (' Saya lihat, saya yakin mereka mempunyai banyak sejarah kepada mereka ',\n",
       "  \" I see, I'm sure they have a lot of history to them \"),\n",
       " (' Sebenarnya, rekod pertama pembuatan bir yang dijual adalah pada 2500 SM',\n",
       "  ' Actually, the first record of brewing beer for sale was way back in 2500 BC'),\n",
       " ('pelakon kegemaran saya ialah robert deniro. ',\n",
       "  'my favorite actor is robert deniro. '),\n",
       " (' Adakah permainan video dilancarkan di PC, Konsol atau kedua-duanya? ',\n",
       "  ' Was the video game released on PC, Consoles or both? '),\n",
       " (' Saya rasa mereka dilepaskan untuk konsol',\n",
       "  ' I think they were released for the consoles'),\n",
       " ('saya seorang penganalisis kewangan untuk kilang bir. ',\n",
       "  'i am a financial analyst for a brewery. '),\n",
       " (' Ini adalah perniagaan yang membuat bir dan menjualnya ',\n",
       "  ' It is a business that makes beer and sells it '),\n",
       " (' Saya lihat, saya yakin mereka mempunyai banyak sejarah kepada mereka',\n",
       "  \" I see, I'm sure they have a lot of history to them\"),\n",
       " ('saya seorang penganalisis kewangan untuk kilang bir. ',\n",
       "  'i am a financial analyst for a brewery. '),\n",
       " (' Adakah anda tahu banyak tentang kilang bir / ',\n",
       "  ' Do you know much about breweries/ '),\n",
       " (' Ini adalah perniagaan yang membuat bir dan menjualnya',\n",
       "  ' It is a business that makes beer and sells it'),\n",
       " ('saya seorang penganalisis kewangan untuk kilang bir. ',\n",
       "  'i am a financial analyst for a brewery. '),\n",
       " (' Sebenarnya, rekod pertama pembuatan bir dijual sejak 2500 SM ',\n",
       "  ' Actually, the first record of brewing beer for sale was way back in 2500 BC '),\n",
       " (' Saya lihat, itu lebih awal daripada yang saya sangka',\n",
       "  \" I see, that's earlier than I thought\"),\n",
       " ('saya seorang penganalisis kewangan untuk kilang bir. ',\n",
       "  'i am a financial analyst for a brewery. '),\n",
       " (' Saya lihat, itu lebih awal dari yang saya sangka ',\n",
       "  \" I see, that's earlier than I thought \"),\n",
       " (' Pembuatan bir biasa dilakukan di rumah, tetapi menjelang abad ke-9 biara dan ladang mula menghasilkannya secara besar-besaran',\n",
       "  ' Brewing used to take place in the home, but by the 9th century monasteries and farms started producing it on a mass scale'),\n",
       " ('saya seorang penganalisis kewangan untuk kilang bir. ',\n",
       "  'i am a financial analyst for a brewery. '),\n",
       " (' Pembuatan bir dulu berlaku di rumah, tetapi menjelang abad ke-9 biara dan ladang mula menghasilkannya secara besar-besaran ',\n",
       "  ' Brewing used to take place in the home, but by the 9th century monasteries and farms started producing it on a mass scale '),\n",
       " (' ah betul, biara menyukai alkohol mereka',\n",
       "  ' ah right, monasteries liked their alcohol'),\n",
       " ('saya pergi ke sekolah menengah katolik di new england. ',\n",
       "  'i go to a catholic high school in new england. '),\n",
       " (' New England adalah wilayah geografi yang merangkumi enam negeri di timur laut Amerika Syarikat. Adakah anda pernah ke New England? ',\n",
       "  ' New England is a geographical region comprising six states of the northeastern United States. Have you ever been to New England? '),\n",
       " (' Saya belum tetapi saya tinggal di timur laut, saya tidak pernah berjaya sejauh ini!',\n",
       "  ' I have not but I live in the northeast, I have just never made it up that far!'),\n",
       " ('saya pergi ke sekolah menengah katolik di new england. ',\n",
       "  'i go to a catholic high school in new england. ')]"
      ]
     },
     "execution_count": 33,
     "metadata": {},
     "output_type": "execute_result"
    }
   ],
   "source": [
    "i = random.randint(0, len(x) - 100)\n",
    "list(zip(x[i: i + 100], y[i: i + 100]))"
   ]
  },
  {
   "cell_type": "code",
   "execution_count": 34,
   "metadata": {},
   "outputs": [],
   "source": [
    "X.extend(x)\n",
    "Y.extend(y)"
   ]
  },
  {
   "cell_type": "code",
   "execution_count": 35,
   "metadata": {},
   "outputs": [
    {
     "name": "stderr",
     "output_type": "stream",
     "text": [
      "100%|██████████| 5215573/5215573 [01:51<00:00, 46862.71it/s]\n"
     ]
    }
   ],
   "source": [
    "filtered_X, filtered_Y = [], []\n",
    "\n",
    "for i in tqdm(range(len(X))):\n",
    "    X[i] = cleaning(X[i])\n",
    "    Y[i] = cleaning(Y[i])\n",
    "    if len(X[i]) and len(Y[i]):\n",
    "        filtered_X.append(X[i])\n",
    "        filtered_Y.append(Y[i])"
   ]
  },
  {
   "cell_type": "code",
   "execution_count": 36,
   "metadata": {},
   "outputs": [
    {
     "name": "stderr",
     "output_type": "stream",
     "text": [
      "100%|██████████| 5215432/5215432 [00:03<00:00, 1550923.15it/s]\n"
     ]
    },
    {
     "data": {
      "text/plain": [
       "5.053464411001811"
      ]
     },
     "execution_count": 36,
     "metadata": {},
     "output_type": "execute_result"
    }
   ],
   "source": [
    "count, ids = 0, []\n",
    "for i in tqdm(range(len(filtered_X))):\n",
    "    if filtered_X[i] == filtered_Y[i]:\n",
    "        count += 1\n",
    "        ids.append(i)\n",
    "        \n",
    "count / len(filtered_X) * 100"
   ]
  },
  {
   "cell_type": "code",
   "execution_count": 37,
   "metadata": {},
   "outputs": [
    {
     "name": "stderr",
     "output_type": "stream",
     "text": [
      "100%|██████████| 5215432/5215432 [00:07<00:00, 700754.44it/s]\n"
     ]
    }
   ],
   "source": [
    "uniques = set()\n",
    "for i in tqdm(range(len(filtered_X))):\n",
    "    s = f'{filtered_X[i]} [EENNDD] {filtered_Y[i]}'\n",
    "    uniques.add(s)"
   ]
  },
  {
   "cell_type": "code",
   "execution_count": 38,
   "metadata": {},
   "outputs": [
    {
     "data": {
      "text/plain": [
       "3456555"
      ]
     },
     "execution_count": 38,
     "metadata": {},
     "output_type": "execute_result"
    }
   ],
   "source": [
    "uniques = list(uniques)\n",
    "len(uniques)"
   ]
  },
  {
   "cell_type": "code",
   "execution_count": 39,
   "metadata": {
    "scrolled": true
   },
   "outputs": [
    {
     "name": "stderr",
     "output_type": "stream",
     "text": [
      "100%|██████████| 3456555/3456555 [01:55<00:00, 29963.67it/s]\n"
     ]
    }
   ],
   "source": [
    "X, Y = [], []\n",
    "for i in tqdm(range(len(uniques))):\n",
    "    x, y = uniques[i].split(' [EENNDD] ')\n",
    "    if check(x) == check(y):\n",
    "        continue\n",
    "    X.append(x)\n",
    "    Y.append(y)"
   ]
  },
  {
   "cell_type": "code",
   "execution_count": 40,
   "metadata": {},
   "outputs": [
    {
     "data": {
      "text/plain": [
       "3337807"
      ]
     },
     "execution_count": 40,
     "metadata": {},
     "output_type": "execute_result"
    }
   ],
   "source": [
    "len(X)"
   ]
  },
  {
   "cell_type": "code",
   "execution_count": 41,
   "metadata": {
    "scrolled": true
   },
   "outputs": [
    {
     "data": {
      "text/plain": [
       "[('Mata gajah bergantung pada kelenjar Harder untuk menjaga kelembapannya kerana gajah tidak mempunyai radas lakrima.',\n",
       "  \"The elephant's eyes rely on Harder's glands to maintain its moisture because the elephant has no laryngeal apparatus.\"),\n",
       " ('Dan bagi Allah jualah apa yang ada pada waktu malam dan siang; dan Dia lah Yang Maha Mendengar, lagi Maha Mengetahui.',\n",
       "  'Unto Him belongeth whatsoever resteth in the night and the day. He is the Hearer, the Knower.'),\n",
       " ('Video muzik, yang diarahkan oleh Mark Romanek, juga telah ditayangkan semasa siaran langsung strim.',\n",
       "  'The music video, directed by Mark Romanek, was also aired during the live stream.'),\n",
       " ('Memang. Perkataan serangga dulunya sangat kabur dari segi sejarah.',\n",
       "  'Indeed. The word insect used to be really vague historically.'),\n",
       " ('(Nabi Musa berkata lagi): \"Wahai kaumku, masuklah ke Tanah Suci (Palestin) yang telah diperintahkan oleh Allah untuk kamu (memasukinya); dan janganlah kamu berbalik undur ke belakang, (kalau kamu undur) maka kamu kelak menjadi orang-orang yang rugi (di dunia dan di akhirat)\".',\n",
       "  \"O my people, enter the Holy Land which God has prescribed for you, and turn not back in your traces, to turn about losers.'\"),\n",
       " ('Dr. Frank Drake, kemudian di Universiti Cornell dan pencipta persamaan Drake, menulis pesan, dengan bantuan dari Carl Sagan, antara lain.',\n",
       "  'Dr. Frank Drake, later at Cornell University and creator of the Drake equation, wrote a message, with help from Carl Sagan, among others.'),\n",
       " ('Jamal tiba-tiba melafazkan cerai ketika berada di dalam kereta pada 15 Mei 2007.',\n",
       "  'Jamal suddenly pronounced a divorce while in the car on May 15, 2007.'),\n",
       " ('Guna lebar ganda-dua untuk sesetengah aksara Unikod',\n",
       "  'Use double width for some Unicode characters'),\n",
       " ('Rooppura Rooppura merupakan sebuah kampung yang terletak di India.',\n",
       "  'Rooppura Rooppura is a village located in India.'),\n",
       " ('Perkara ini juga tidak mengambil kira 79.1 peratus graduan yang memperoleh pekerjaan pada 2017, sama ada pekerjaan setaraf dengan kelulusan akademik ataupun lebih rendah.',\n",
       "  'This also does not account for 79.1 per cent of graduates seeking employment in 2017, whether it is equivalent to an academic degree or lower.')]"
      ]
     },
     "execution_count": 41,
     "metadata": {},
     "output_type": "execute_result"
    }
   ],
   "source": [
    "list(zip(X[-10:], Y[-10:]))"
   ]
  },
  {
   "cell_type": "code",
   "execution_count": 43,
   "metadata": {},
   "outputs": [],
   "source": [
    "from sklearn.model_selection import train_test_split\n",
    "\n",
    "train_X, test_X, train_Y, test_Y = train_test_split(Y, X, test_size = 0.02)"
   ]
  },
  {
   "cell_type": "code",
   "execution_count": 44,
   "metadata": {},
   "outputs": [
    {
     "data": {
      "text/plain": [
       "[('Les Granges-Gontardes Les Granges-Gontardes is a commune in the Drome department of southeastern France.',\n",
       "  'Les Granges-Gontardes Les Granges-Gontardes ialah komun di jabatan Drome di tenggara Perancis.'),\n",
       " ('Interesting, people think I am a goth because I like dark clothes.',\n",
       "  'Menariknya, orang menganggap saya goth kerana saya suka pakaian gelap.'),\n",
       " ('\"However, each individual is only eligible to win a maximum of three vehicle numbers, while for a company no more than five vehicle numbers,\" he added.',\n",
       "  '\"Walau bagaimanapun, setiap individu hanya layak untuk memenangi maksimum tiga nombor kenderaan, manakala bagi syarikat adalah tidak melebihi lima nombor kenderaan,\" tambahnya.'),\n",
       " (\"Rihanna was also selected as the official ambassador of Barbados's youth and culture.\",\n",
       "  'Rihanna juga dipilih sebagai duta resmi pemuda dan budaya Barbados.'),\n",
       " (\"Until the 2013 Oxford Mathematics 2013 Oxford Mathematics was consolidated and is now housed in the cutting-edge, Andrew Wiles's purpose was to build the Radcliffe Quarter in North Oxford, near the Radcliffe Observatory.\",\n",
       "  'Sehingga jangka Michaelmas 2013 Oxford Matematik telah disatukan dan kini ditempatkan di pemotongan itu, tujuan dibina Andrew Wiles Bangunan di Radcliffe Cerap Suku dalam North Oxford, berhampiran asal Balai Cerap Radcliffe.'),\n",
       " ('This causes socio-economic imbalance and economic inequality.',\n",
       "  'Ini menyebabkan ketidakseimbangan sosio-ekonomi dan ketidakadilan ekonomi atau inequity.'),\n",
       " (\"your persona: I am confused. your persona: I want a big change in my life. your persona: My mom and dad let me stay with them. your persona: I am dating two people, one man and one woman. Partner's persona: I will be attending college in a state south of west virgina. Partner's persona: I play the trumpet in grade time. Partner's persona: I've multiple male siblings. Partner's persona: I am in my last year of education.\",\n",
       "  'persona anda: Saya keliru. persona anda: Saya mahukan perubahan besar dalam hidup saya. persona anda: Ibu dan ayah saya membiarkan saya tinggal bersama mereka. persona anda: Saya berpacaran dengan dua orang, seorang lelaki dan seorang wanita. Persona rakan kongsi: Saya akan mengikuti kuliah di sebuah negeri di selatan virgina barat. Persona rakan kongsi: Saya bermain trompet pada waktu kelas. Persona rakan kongsi: Saya mempunyai beberapa adik-beradik lelaki. Persona rakan kongsi: Saya berada di tahun terakhir pendidikan saya.'),\n",
       " ('This is called the advantage of heterozygotes or dominance, as illustrated by the malaria resistance observed in heterozygous humans that carry only one copy of the gene for sickle cell anemia.',\n",
       "  'Inilah yang dipanggil kelebihan heterozigot atau kedominanan lampau, seperti yang digambarkan oleh ketahanan malaria yang diperhatikan pada manusia heterozigot yang hanya membawa satu salinan gen untuk anemia sel sabit.'),\n",
       " ('Some food but I just drink. Tailgate parties last all day at sporting events.',\n",
       "  'Sebilangan makanan tetapi saya hanya minum. Pesta Tailgate berlangsung sepanjang hari di acara sukan.'),\n",
       " ('However, Ubuntu has not missed any unpleasant reviews.',\n",
       "  'Sungguhpun demikian, Ubuntu tidak terlepas ulasan yang tidak memuaskan.')]"
      ]
     },
     "execution_count": 44,
     "metadata": {},
     "output_type": "execute_result"
    }
   ],
   "source": [
    "list(zip(train_X[-10:], train_Y[-10:]))"
   ]
  },
  {
   "cell_type": "code",
   "execution_count": 45,
   "metadata": {},
   "outputs": [
    {
     "data": {
      "text/plain": [
       "[('Air landing team missions, as defined by FM 100-5 manuals, \"Operations\" U.S., including capture and detention, or simply exploitation, important tactical areas or facilities, along with or awaiting the arrival of other military or naval forces.',\n",
       "  'Misi-misi pasukan pendaratan udara, seperti yang ditakrifkan oleh manual FM 100-5, \"Operasi\" A.S., termasuk penawanan dan penahanan, atau hanya eksploitasi, kawasan atau kemudahan taktikal penting, bersama dengan atau menunggu ketibaan pasukan tentera atau pasukan laut yang lain.'),\n",
       " (\"It's not over yet.\", 'Itu belum selesai.'),\n",
       " (\"Handoko explains that she managed to prevent Mischa from entering Farrel's room.\",\n",
       "  'Handoko pun menjelaskan bahawa dia berjaya menghalang Mischa masuk ke bilik Farrel.'),\n",
       " ('KINA KINABALU: The upgrading of Tawau and Lahad Datu Airport facilities will be accelerated to meet the growing demand for passengers.',\n",
       "  'KOTA KINABALU: Kerja naik taraf kemudahan Lapangan Terbang Tawau dan Lahad Datu akan dipercepatkan bagi menampung keperluan penumpang yang semakin bertambah.'),\n",
       " ('-T, --timeout=SECONDS set all timeout values to SECONDS.',\n",
       "  '-T, --timeout=SECONDS tetapkan semua nilai had masa tamat ke SECONDS.'),\n",
       " ('According to the statistics, most teenagers were reported to be involved in rape, robbery, motorcycle theft, robbery and burglary.',\n",
       "  'Katanya, berdasarkan perangkaan itu, kebanyakan remaja dilaporkan terba kes rogol, samun, curi motosikal, ragut dan pecah rumah.'),\n",
       " (\"Wow that's good to know! We have only been once.\",\n",
       "  'Wow yang baik untuk diketahui! Kami hanya pernah sekali.'),\n",
       " ('He was born in London under the name Jemima Marcelle Goldsmith.',\n",
       "  'Beliau dilahirkan di London dengan nama Jemima Marcelle Goldsmith .'),\n",
       " ('Wow, they made it better for our consumption',\n",
       "  'Wow, mereka menjadikannya lebih baik untuk kita makan'),\n",
       " ('Cellere Cellere is a commune and town located in Viterbo di Lazio in the Italian region.',\n",
       "  'Cellere Cellere merupakan sebuah komun dan bandar yang terletak di Viterbo di Lazio dalam kawasan Itali.')]"
      ]
     },
     "execution_count": 45,
     "metadata": {},
     "output_type": "execute_result"
    }
   ],
   "source": [
    "list(zip(train_X[:10], train_Y[:10]))"
   ]
  },
  {
   "cell_type": "code",
   "execution_count": 46,
   "metadata": {},
   "outputs": [
    {
     "data": {
      "text/plain": [
       "[('] Food is a source of energy and is a basic human need.',\n",
       "  '] Makanan merupakan sumber energi dan merupakan kebutuhan primer bagi manusia.'),\n",
       " ('Also present were Dandim 1414 Tana Toraja, Lieutenant Czi Hiras M S Turnip, Makale Tana Toraja Chief Justice, Timothy Djemey and North Toraja Legislative Assembly.',\n",
       "  'Turut hadir Dandim 1414 Tana Toraja, Letkol Czi Hiras M S Turnip, Ketua Pengadilan Negeri Makale Tana Toraja, Timotius Djemey dan Anggota DPRD Toraja Utara.'),\n",
       " ('Castel-Sarrazin Castel-Sarrazin is a commune in the Landes department of Aquitaine in southwestern France.',\n",
       "  'Castel-Sarrazin Castel-Sarrazin ialah komun di jabatan Landes di Aquitaine di barat daya Perancis.'),\n",
       " ('But you have never seen and heard, if you believe in the unseen, then your reward is greater if you believe in God with your soul. \"',\n",
       "  'Tetapi kamu tidak pernah melihat dn mendengarnya, kiranya kamu beriman dengan apa yang tidak kelihatan, maka ganjaranmu adalah lebih besar sekiranya kamu beriman kepada Allah dengan jiwamu\".'),\n",
       " ('Because of its close proximity, the people of Kampung Titingan need only walk there.',\n",
       "  'Kerana kedudukan yang begitu dekat, penduduk Kampung Titingan hanya perlu berjalan kaki ke sana.'),\n",
       " ('I have a domestic dog.', 'Saya mempunyai anjing peliharaan.'),\n",
       " ('Marat Safin Marat Safin, Tatar: Marat Mubin uli Safin; Russian: Marat Mikhailovich Safin; born January 27, 1980) is a former tennis player.',\n",
       "  'Marat Safin Marat Safin, bahasa Tatar: Marat Mubin uli Safin; bahasa Rusia: Marat Mikhailovich Safin ; lahir 27 Januari 1980) adalah seorang bekas pemain tenis No.'),\n",
       " ('When completed, the station will serve housing estates near Springside and the Nee Soon affected camp.',\n",
       "  'Apabila siap, stesen ini akan memberi khidmat kepada estet perumahan berhampiran Springside dan kem terntera Nee Soon.'),\n",
       " ('We do not have the necessary means of military service. \"',\n",
       "  'Kita tidak mempunyai cara yang diperlukan berkenaan dengan tentera\".'),\n",
       " ('There was a period of vacancy between 1814 and 1819.',\n",
       "  'Ada tempoh kekosongan antara tahun 1814 hingga 1819.')]"
      ]
     },
     "execution_count": 46,
     "metadata": {},
     "output_type": "execute_result"
    }
   ],
   "source": [
    "list(zip(test_X[-10:], test_Y[-10:]))"
   ]
  },
  {
   "cell_type": "code",
   "execution_count": 47,
   "metadata": {},
   "outputs": [],
   "source": [
    "from sklearn.utils import shuffle\n",
    "\n",
    "train_X, train_Y = shuffle(train_X, train_Y)"
   ]
  },
  {
   "cell_type": "code",
   "execution_count": 48,
   "metadata": {},
   "outputs": [],
   "source": [
    "with open('dataset-en-to-ms.json', 'w') as fopen:\n",
    "    json.dump({'train_X': train_X, 'train_Y': train_Y, 'test_X': test_X, 'test_Y': test_Y}, fopen)"
   ]
  },
  {
   "cell_type": "code",
   "execution_count": 55,
   "metadata": {},
   "outputs": [
    {
     "name": "stdout",
     "output_type": "stream",
     "text": [
      "mkdir: cannot create directory ‘train-en’: File exists\n",
      "mkdir: cannot create directory ‘test-en’: File exists\n"
     ]
    }
   ],
   "source": [
    "!mkdir train-en\n",
    "!mkdir test-en"
   ]
  },
  {
   "cell_type": "code",
   "execution_count": 56,
   "metadata": {},
   "outputs": [],
   "source": [
    "with open('train-en/left.txt', 'w') as fopen:\n",
    "    fopen.write('\\n'.join(train_X))\n",
    "    \n",
    "with open('train-en/right.txt', 'w') as fopen:\n",
    "    fopen.write('\\n'.join(train_Y))\n",
    "    \n",
    "with open('test-en/left.txt', 'w') as fopen:\n",
    "    fopen.write('\\n'.join(test_X))\n",
    "    \n",
    "with open('test-en/right.txt', 'w') as fopen:\n",
    "    fopen.write('\\n'.join(test_Y))"
   ]
  },
  {
   "cell_type": "code",
   "execution_count": 57,
   "metadata": {},
   "outputs": [
    {
     "name": "stdout",
     "output_type": "stream",
     "text": [
      "train-en/\n",
      "train-en/left.txt\n",
      "train-en/right.txt\n",
      "test-en/\n",
      "test-en/left.txt\n",
      "test-en/right.txt\n"
     ]
    }
   ],
   "source": [
    "!tar -czvf train-en-ms.tar.gz train-en\n",
    "!tar -czvf test-en-ms.tar.gz test-en"
   ]
  },
  {
   "cell_type": "code",
   "execution_count": 58,
   "metadata": {},
   "outputs": [
    {
     "data": {
      "text/plain": [
       "3271050"
      ]
     },
     "execution_count": 58,
     "metadata": {},
     "output_type": "execute_result"
    }
   ],
   "source": [
    "len(train_X)"
   ]
  },
  {
   "cell_type": "code",
   "execution_count": 59,
   "metadata": {},
   "outputs": [
    {
     "data": {
      "text/plain": [
       "[('as the Sexiest Actor.', 'sebagai Pelakon Paling Seksi.'),\n",
       " ('ECRL, City of Malaysia creates a national economic impact - the World Bank',\n",
       "  'ECRL, Bandar Malaysia jana impak ekonomi negara - Bank Dunia'),\n",
       " ('So true! And the art of visiting physical shops is diminishing with all of the digital alternatives!',\n",
       "  'Betul! Dan seni mengunjungi kedai fizikal semakin berkurangan dengan semua alternatif digital!'),\n",
       " ('Orthodontic therapy may include the use of fixed or removable equipment.',\n",
       "  'Terapi ortodontik boleh merangkumi penggunaan peralatan tetap atau boleh tanggal.'),\n",
       " ('with them\".', 'dengan mereka\".'),\n",
       " ('Among others are YLBHI, LBH Jakarta, LBH Press, ICJR, Contrast, Lokataru, and PP Muhammadiyah.',\n",
       "  'Antara lain YLBHI, LBH Jakarta, LBH Pers, ICJR, Kontras, Lokataru, dan PP Muhammadiyah.'),\n",
       " ('\"According to the latest World Bank report, it (imbalance) is due to human capital.',\n",
       "  '\"Berdasarkan kepada laporan terkini Bank Dunia, ia (ketidakseimbangan) disebabkan oleh modal insan.'),\n",
       " ('The Muar MP said 240 documents were taken for investigation, including minutes of board meetings.',\n",
       "  'Ahli Parlimen Muar itu berkata, sebanyak 240 dokumen telah diambil untuk siasatan, termasuk minit mesyuarat lembaga pengarah.'),\n",
       " ('The bus was escorted by police to Wisma Darul Iman to drop off and calm the passengers before they were taken home and partly taken home by their parents.',\n",
       "  'Bas tersebut telah diiringi pihak polis ke Wisma Darul Iman untuk menurunkan dan menenangkan para penumpang sebelum mereka dibawa pulang ke rumah dan sebahagiannya di bawa pulang oleh ibu bapa mereka sendiri.'),\n",
       " ('He bowed his head for a long time.', 'Dia menundukkan kepala sangat lama.')]"
      ]
     },
     "execution_count": 59,
     "metadata": {},
     "output_type": "execute_result"
    }
   ],
   "source": [
    "list(zip(test_X[:10], test_Y[:10]))"
   ]
  },
  {
   "cell_type": "code",
   "execution_count": null,
   "metadata": {},
   "outputs": [],
   "source": []
  }
 ],
 "metadata": {
  "kernelspec": {
   "display_name": "Python 3",
   "language": "python",
   "name": "python3"
  },
  "language_info": {
   "codemirror_mode": {
    "name": "ipython",
    "version": 3
   },
   "file_extension": ".py",
   "mimetype": "text/x-python",
   "name": "python",
   "nbconvert_exporter": "python",
   "pygments_lexer": "ipython3",
   "version": "3.6.8"
  }
 },
 "nbformat": 4,
 "nbformat_minor": 2
}
