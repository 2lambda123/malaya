{
 "cells": [
  {
   "cell_type": "code",
   "execution_count": 1,
   "metadata": {},
   "outputs": [
    {
     "name": "stdout",
     "output_type": "stream",
     "text": [
      "CPU times: user 12.5 s, sys: 1.77 s, total: 14.3 s\n",
      "Wall time: 19.5 s\n"
     ]
    }
   ],
   "source": [
    "%%time\n",
    "import malaya"
   ]
  },
  {
   "cell_type": "markdown",
   "metadata": {},
   "source": [
    "## Deep Siamese network\n",
    "\n",
    "Purpose of deep siamese network to study semantic similarity between 2 strings, near to 1.0 means more similar. Deep Siamese leverage the power of word-vector, and we also implemented BERT to study semantic similarity and BERT leverage the power of attention!"
   ]
  },
  {
   "cell_type": "markdown",
   "metadata": {},
   "source": [
    "## List deep siamese models"
   ]
  },
  {
   "cell_type": "code",
   "execution_count": 2,
   "metadata": {},
   "outputs": [
    {
     "data": {
      "text/plain": [
       "['self-attention', 'bahdanau', 'dilated-cnn']"
      ]
     },
     "execution_count": 2,
     "metadata": {},
     "output_type": "execute_result"
    }
   ],
   "source": [
    "malaya.similarity.available_deep_siamese()"
   ]
  },
  {
   "cell_type": "markdown",
   "metadata": {},
   "source": [
    "* ``'self-attention'`` - Fast-text architecture, embedded and logits layers only with self attention.\n",
    "* ``'bahdanau'`` - LSTM with bahdanau attention architecture.\n",
    "* ``'dilated-cnn'`` - Pyramid Dilated CNN architecture."
   ]
  },
  {
   "cell_type": "markdown",
   "metadata": {},
   "source": [
    "## Load deep siamese models"
   ]
  },
  {
   "cell_type": "code",
   "execution_count": 2,
   "metadata": {},
   "outputs": [],
   "source": [
    "string1 = 'Pemuda mogok lapar desak kerajaan prihatin isu iklim'\n",
    "string2 = 'Perbincangan isu pembalakan perlu babit kerajaan negeri'\n",
    "string3 = 'kerajaan perlu kisah isu iklim, pemuda mogok lapar'\n",
    "string4 = 'Kerajaan dicadang tubuh jawatankuasa khas tangani isu alam sekitar'"
   ]
  },
  {
   "cell_type": "markdown",
   "metadata": {},
   "source": [
    "#### Load bahdanau model"
   ]
  },
  {
   "cell_type": "code",
   "execution_count": 5,
   "metadata": {},
   "outputs": [],
   "source": [
    "model = malaya.similarity.deep_siamese('bahdanau')"
   ]
  },
  {
   "cell_type": "markdown",
   "metadata": {},
   "source": [
    "#### Calculate similarity between 2 strings\n",
    "\n",
    "`predict` need to give 2 strings, left and right string"
   ]
  },
  {
   "cell_type": "code",
   "execution_count": 11,
   "metadata": {},
   "outputs": [
    {
     "data": {
      "text/plain": [
       "0.4267301"
      ]
     },
     "execution_count": 11,
     "metadata": {},
     "output_type": "execute_result"
    }
   ],
   "source": [
    "model.predict(string1, string2)"
   ]
  },
  {
   "cell_type": "code",
   "execution_count": 13,
   "metadata": {},
   "outputs": [
    {
     "data": {
      "text/plain": [
       "0.28711933"
      ]
     },
     "execution_count": 13,
     "metadata": {},
     "output_type": "execute_result"
    }
   ],
   "source": [
    "model.predict(string1, string3)"
   ]
  },
  {
   "cell_type": "markdown",
   "metadata": {},
   "source": [
    "#### Calculate similarity more than 2 strings\n",
    "\n",
    "`predict_batch` need to give 2 lists of strings, left and right strings"
   ]
  },
  {
   "cell_type": "code",
   "execution_count": 17,
   "metadata": {},
   "outputs": [
    {
     "data": {
      "text/plain": [
       "array([0.39504164, 0.33375728], dtype=float32)"
      ]
     },
     "execution_count": 17,
     "metadata": {},
     "output_type": "execute_result"
    }
   ],
   "source": [
    "model.predict_batch([string1, string2], [string3, string4])"
   ]
  },
  {
   "cell_type": "markdown",
   "metadata": {},
   "source": [
    "#### Load self-attention model"
   ]
  },
  {
   "cell_type": "code",
   "execution_count": 19,
   "metadata": {},
   "outputs": [],
   "source": [
    "model = malaya.similarity.deep_siamese('self-attention')"
   ]
  },
  {
   "cell_type": "code",
   "execution_count": 24,
   "metadata": {},
   "outputs": [
    {
     "data": {
      "text/plain": [
       "array([0.08130383, 0.09907728], dtype=float32)"
      ]
     },
     "execution_count": 24,
     "metadata": {},
     "output_type": "execute_result"
    }
   ],
   "source": [
    "model.predict_batch([string1, string2], [string3, string4])"
   ]
  },
  {
   "cell_type": "markdown",
   "metadata": {},
   "source": [
    "#### Load dilated-cnn model"
   ]
  },
  {
   "cell_type": "code",
   "execution_count": 26,
   "metadata": {},
   "outputs": [],
   "source": [
    "model = malaya.similarity.deep_siamese('dilated-cnn')"
   ]
  },
  {
   "cell_type": "code",
   "execution_count": 27,
   "metadata": {},
   "outputs": [
    {
     "data": {
      "text/plain": [
       "array([0.1886251 , 0.00937402], dtype=float32)"
      ]
     },
     "execution_count": 27,
     "metadata": {},
     "output_type": "execute_result"
    }
   ],
   "source": [
    "model.predict_batch([string1, string2], [string3, string4])"
   ]
  },
  {
   "cell_type": "markdown",
   "metadata": {},
   "source": [
    "## Calculate similarity using doc2vec\n",
    "\n",
    "We need to load word vector provided by Malaya.\n",
    "\n",
    "Important parameters,\n",
    "1. `aggregation`, aggregation function to accumulate word vectors. Default is `mean`.\n",
    "\n",
    "    * ``'mean'`` - mean.\n",
    "    * ``'min'`` - min.\n",
    "    * ``'max'`` - max.\n",
    "    * ``'sum'`` - sum.\n",
    "    * ``'sqrt'`` - square root.\n",
    "   \n",
    "2. `similarity` distance function to calculate similarity. Default is `cosine`.\n",
    "\n",
    "    * ``'cosine'`` - cosine similarity.\n",
    "    * ``'euclidean'`` - euclidean similarity.\n",
    "    * ``'manhattan'`` - manhattan similarity."
   ]
  },
  {
   "cell_type": "markdown",
   "metadata": {},
   "source": [
    "#### Using word2vec\n",
    "\n",
    "I will use `load_news`, word2vec from wikipedia took a very long time. wikipedia much more accurate."
   ]
  },
  {
   "cell_type": "code",
   "execution_count": 3,
   "metadata": {},
   "outputs": [],
   "source": [
    "embedded_news = malaya.word2vec.load_news(64)\n",
    "w2v_wiki = malaya.word2vec.word2vec(embedded_news['nce_weights'],\n",
    "                                    embedded_news['dictionary'])"
   ]
  },
  {
   "cell_type": "code",
   "execution_count": 4,
   "metadata": {},
   "outputs": [
    {
     "data": {
      "text/plain": [
       "0.9181415736675262"
      ]
     },
     "execution_count": 4,
     "metadata": {},
     "output_type": "execute_result"
    }
   ],
   "source": [
    "malaya.similarity.doc2vec(w2v_wiki, string1, string2)"
   ]
  },
  {
   "cell_type": "code",
   "execution_count": 5,
   "metadata": {},
   "outputs": [
    {
     "data": {
      "text/plain": [
       "0.9550771713256836"
      ]
     },
     "execution_count": 5,
     "metadata": {},
     "output_type": "execute_result"
    }
   ],
   "source": [
    "malaya.similarity.doc2vec(w2v_wiki, string1, string4)"
   ]
  },
  {
   "cell_type": "code",
   "execution_count": 7,
   "metadata": {},
   "outputs": [
    {
     "data": {
      "text/plain": [
       "0.4642694249990522"
      ]
     },
     "execution_count": 7,
     "metadata": {},
     "output_type": "execute_result"
    }
   ],
   "source": [
    "malaya.similarity.doc2vec(w2v_wiki, string1, string4, similarity = 'euclidean')"
   ]
  },
  {
   "cell_type": "markdown",
   "metadata": {},
   "source": [
    "Different similarity function different percentage."
   ]
  },
  {
   "cell_type": "markdown",
   "metadata": {},
   "source": [
    "**So you can try use fast-text and elmo to do the similarity study.**"
   ]
  },
  {
   "cell_type": "markdown",
   "metadata": {},
   "source": [
    "## Calculate similarity using summarizer\n",
    "\n",
    "We can use extractive summarization model `malaya.summarize.deep_extractive()` to get strings embedded and calculate similarity between the vectors."
   ]
  },
  {
   "cell_type": "code",
   "execution_count": 4,
   "metadata": {},
   "outputs": [],
   "source": [
    "deep_summary = malaya.summarize.deep_extractive(model = 'skip-thought')"
   ]
  },
  {
   "cell_type": "code",
   "execution_count": 5,
   "metadata": {},
   "outputs": [
    {
     "data": {
      "text/plain": [
       "0.8722701370716095"
      ]
     },
     "execution_count": 5,
     "metadata": {},
     "output_type": "execute_result"
    }
   ],
   "source": [
    "malaya.similarity.summarizer(deep_summary, string1, string3)"
   ]
  },
  {
   "cell_type": "markdown",
   "metadata": {},
   "source": [
    "## BERT model\n",
    "\n",
    "BERT is the best similarity model in term of accuracy, you can check similarity accuracy here, https://malaya.readthedocs.io/en/latest/Accuracy.html#similarity. But warning, the model size is 700MB! Make sure you have enough resources to use BERT, and installed bert-tensorflow first,"
   ]
  },
  {
   "cell_type": "code",
   "execution_count": 3,
   "metadata": {},
   "outputs": [],
   "source": [
    "model = malaya.similarity.bert()"
   ]
  },
  {
   "cell_type": "code",
   "execution_count": 4,
   "metadata": {},
   "outputs": [
    {
     "data": {
      "text/plain": [
       "0.97767043"
      ]
     },
     "execution_count": 4,
     "metadata": {},
     "output_type": "execute_result"
    }
   ],
   "source": [
    "model.predict(string1, string3)"
   ]
  },
  {
   "cell_type": "code",
   "execution_count": 5,
   "metadata": {},
   "outputs": [
    {
     "data": {
      "text/plain": [
       "array([0.9253927, 0.0317315], dtype=float32)"
      ]
     },
     "execution_count": 5,
     "metadata": {},
     "output_type": "execute_result"
    }
   ],
   "source": [
    "model.predict_batch([string1, string2], [string3, string4])"
   ]
  },
  {
   "cell_type": "markdown",
   "metadata": {},
   "source": [
    "**BERT is the best!**"
   ]
  },
  {
   "cell_type": "markdown",
   "metadata": {},
   "source": [
    "## Topics similarity\n",
    "\n",
    "If you are interested in multiple topics searching inside a string when giving set of topics to supervised, Malaya provided some interface and topics related to political landscape in Malaysia"
   ]
  },
  {
   "cell_type": "code",
   "execution_count": 2,
   "metadata": {},
   "outputs": [],
   "source": [
    "news = 'najib razak dan mahathir mengalami masalah air di kemamam terengganu'\n",
    "second_news = 'ikat penyedia perkhidmatan jalur lebar Telekom Malaysia (TM) perlu mencari jalan penyelesaian bagi meningkatkan akses capaian Internet ke seluruh negara, kata Menteri Komunikasi dan Multimedia, Gobind Singh Deo. Beliau berkata menjadi dasar kerajaan untuk membekalkan akses Internet jalur lebar kepada semua dan memberi penekanan kepada kualiti perkhidmatan yang terbaik. \"Dasar kerajaan untuk bekalkan akses kepada semua bukan sekadar pembekalan sahaja tetapi beri penekanan kepada kualiti perkhidmatan yang baik dan dapat bersaing dengan negara lain pada tahap antarabangsa,\" kata Gobind Singh menerusi catatan di laman rasmi Twitter beliau, malam tadi. Beliau berkata demikian sebagai respons terhadap aduan beberapa pengguna Twitter berhubung akses Internet yang masih tidak stabil serta harga yang tidak berpatutan di beberapa lokasi di seluruh negara.'"
   ]
  },
  {
   "cell_type": "markdown",
   "metadata": {},
   "source": [
    "## Topics provided by malaya"
   ]
  },
  {
   "cell_type": "markdown",
   "metadata": {},
   "source": [
    "#### Topics"
   ]
  },
  {
   "cell_type": "code",
   "execution_count": 3,
   "metadata": {},
   "outputs": [
    {
     "data": {
      "text/plain": [
       "['sosial', 'kehidupan', 'taraf hidup', 'sosiologi', 'keusahawan', 'masyarakat']"
      ]
     },
     "execution_count": 3,
     "metadata": {},
     "output_type": "execute_result"
    }
   ],
   "source": [
    "malaya.topic.topic['sosial']"
   ]
  },
  {
   "cell_type": "markdown",
   "metadata": {},
   "source": [
    "#### Influencer"
   ]
  },
  {
   "cell_type": "code",
   "execution_count": 4,
   "metadata": {},
   "outputs": [
    {
     "data": {
      "text/plain": [
       "['tun mahathir',\n",
       " 'madey',\n",
       " 'dr mahathir',\n",
       " 'tun m',\n",
       " 'mahathir',\n",
       " 'madir',\n",
       " 'dr m',\n",
       " 'mahathir muhamad']"
      ]
     },
     "execution_count": 4,
     "metadata": {},
     "output_type": "execute_result"
    }
   ],
   "source": [
    "malaya.topic.influencer['mahathir']"
   ]
  },
  {
   "cell_type": "markdown",
   "metadata": {},
   "source": [
    "#### location"
   ]
  },
  {
   "cell_type": "code",
   "execution_count": 5,
   "metadata": {},
   "outputs": [
    {
     "data": {
      "text/plain": [
       "{'negeri': 'JOHOR', 'parlimen': 'SEGAMAT', 'dun': 'BULOH KASAP'}"
      ]
     },
     "execution_count": 5,
     "metadata": {},
     "output_type": "execute_result"
    }
   ],
   "source": [
    "malaya.topic.location[0]"
   ]
  },
  {
   "cell_type": "markdown",
   "metadata": {},
   "source": [
    "#### wakil rakyat"
   ]
  },
  {
   "cell_type": "code",
   "execution_count": 6,
   "metadata": {},
   "outputs": [
    {
     "data": {
      "text/plain": [
       "{'KodN': 1,\n",
       " 'KodParlimen': 1,\n",
       " 'KodKawasan': 1,\n",
       " 'JenisKawasan': 'PARLIMEN',\n",
       " 'susunan': 2,\n",
       " 'NamaCalon': 'DATUK ZAHIDI BIN ZAINUL ABIDIN',\n",
       " 'parti': 'BN'}"
      ]
     },
     "execution_count": 6,
     "metadata": {},
     "output_type": "execute_result"
    }
   ],
   "source": [
    "malaya.topic.calon[0]"
   ]
  },
  {
   "cell_type": "markdown",
   "metadata": {},
   "source": [
    "## Train fuzzy text similarity\n",
    "\n",
    "I want to train topics related when given a string. You can give any corpus, the format is,\n",
    "\n",
    "```python\n",
    "{'left':['right1','right2']}\n",
    "```"
   ]
  },
  {
   "cell_type": "code",
   "execution_count": 7,
   "metadata": {},
   "outputs": [],
   "source": [
    "fuzzy = malaya.similarity.fuzzy(malaya.topic.topic)"
   ]
  },
  {
   "cell_type": "code",
   "execution_count": 8,
   "metadata": {},
   "outputs": [
    {
     "data": {
      "text/plain": [
       "['tan sri mokhzani mahathir', 'masalah air', 'mahathir', 'najib razak']"
      ]
     },
     "execution_count": 8,
     "metadata": {},
     "output_type": "execute_result"
    }
   ],
   "source": [
    "fuzzy.get_similarity(news,fuzzy_ratio = 60)"
   ]
  },
  {
   "cell_type": "code",
   "execution_count": 9,
   "metadata": {},
   "outputs": [
    {
     "data": {
      "text/plain": [
       "['pendidikan',\n",
       " 'sosial media',\n",
       " 'politik',\n",
       " 'kerajaan',\n",
       " 'telekom malaysia',\n",
       " 'twitter',\n",
       " 'teknologi',\n",
       " 'internet']"
      ]
     },
     "execution_count": 9,
     "metadata": {},
     "output_type": "execute_result"
    }
   ],
   "source": [
    "fuzzy.get_similarity(second_news,fuzzy_ratio = 90)"
   ]
  },
  {
   "cell_type": "markdown",
   "metadata": {},
   "source": [
    "## Train bag-of-word text similarity\n",
    "\n",
    "I want to train topics related when given a string. You can give any corpus, the format is,\n",
    "\n",
    "```python\n",
    "{'left':['right1','right2']}\n",
    "```\n",
    "\n",
    "bag-of-word text similarity fitted by using character wised n-gram.\n",
    "\n",
    "`vectorizer` supported `['tfidf','count','skip-gram']`."
   ]
  },
  {
   "cell_type": "code",
   "execution_count": 10,
   "metadata": {},
   "outputs": [],
   "source": [
    "tfidf = malaya.similarity.bow(malaya.topic.topic,vectorizer = 'tfidf')"
   ]
  },
  {
   "cell_type": "code",
   "execution_count": 11,
   "metadata": {},
   "outputs": [
    {
     "data": {
      "text/plain": [
       "['perkhidmatan awam', 'kkmm', 'universiti islam antarabangsa', 'twitter']"
      ]
     },
     "execution_count": 11,
     "metadata": {},
     "output_type": "execute_result"
    }
   ],
   "source": [
    "tfidf.get_similarity(second_news)"
   ]
  },
  {
   "cell_type": "code",
   "execution_count": 12,
   "metadata": {},
   "outputs": [],
   "source": [
    "count = malaya.similarity.bow(malaya.topic.topic,vectorizer = 'count')"
   ]
  },
  {
   "cell_type": "code",
   "execution_count": 13,
   "metadata": {},
   "outputs": [
    {
     "data": {
      "text/plain": [
       "['timbalan perdana menteri',\n",
       " 'parti islam semalaysia',\n",
       " 'pendidikan',\n",
       " '1malaysia',\n",
       " 'gaji menteri',\n",
       " 'mic',\n",
       " 'bebas tahanan',\n",
       " 'twitter',\n",
       " 'infrastruktur',\n",
       " 'suruhanjaya pilihan raya malaysia',\n",
       " 'perkasa',\n",
       " 'pakatan harapan',\n",
       " 'kerajaan',\n",
       " 'datuk seri ti lian ker',\n",
       " 'tentera malaysia',\n",
       " 'gerakan',\n",
       " 'universiti islam antarabangsa',\n",
       " 'ptptn',\n",
       " 'rela',\n",
       " 'ahli dewan undangan negeri',\n",
       " 'teknologi',\n",
       " 'politik',\n",
       " 'telekom malaysia',\n",
       " 'kkmm',\n",
       " 'kementerian dalam negeri',\n",
       " 'perkhidmatan awam',\n",
       " 'bursa malaysia',\n",
       " 'parti pribumi bersatu malaysia',\n",
       " 'ppbm',\n",
       " 'hutang negara',\n",
       " 'menyiasat skandal',\n",
       " 'majlis pakatan harapan',\n",
       " 'perdana menteri',\n",
       " 'menteri pertahanan']"
      ]
     },
     "execution_count": 13,
     "metadata": {},
     "output_type": "execute_result"
    }
   ],
   "source": [
    "count.get_similarity(second_news)"
   ]
  },
  {
   "cell_type": "code",
   "execution_count": 14,
   "metadata": {},
   "outputs": [],
   "source": [
    "skip = malaya.similarity.bow(malaya.topic.topic,vectorizer = 'skip-gram')"
   ]
  },
  {
   "cell_type": "code",
   "execution_count": 15,
   "metadata": {},
   "outputs": [
    {
     "data": {
      "text/plain": [
       "[]"
      ]
     },
     "execution_count": 15,
     "metadata": {},
     "output_type": "execute_result"
    }
   ],
   "source": [
    "skip.get_similarity(second_news)"
   ]
  },
  {
   "cell_type": "markdown",
   "metadata": {},
   "source": [
    "## Train siamese network text similarity\n",
    "\n",
    "All parameters supported,\n",
    "```python\n",
    "    \"\"\"\n",
    "    Train a deep siamese network for text similarity\n",
    "\n",
    "    Parameters\n",
    "    ----------\n",
    "    dictionary: dict\n",
    "        format {'left':['right']}\n",
    "    epoch: int, (default=5)\n",
    "        iteration numbers\n",
    "    batch_size: int, (default=32)\n",
    "        batch size for every feed, batch size must <= size of corpus\n",
    "    embedding_size: int, (default=256)\n",
    "        vector size representation for a word\n",
    "    output_size: int, (default=100)\n",
    "        encoder output size, bigger means more vector definition\n",
    "    maxlen: int, (default=100)\n",
    "        max length of a string to be train\n",
    "    ngram: tuple, (default=(1,4))\n",
    "        n-grams size to train a corpus\n",
    "    num_layers: int, (default=100)\n",
    "        number of bidirectional rnn layers\n",
    "\n",
    "    Returns\n",
    "    -------\n",
    "    _DEEP_SIAMESE_SIMILARITY: malaya.similarity._DEEP_SIAMESE_SIMILARITY class\n",
    "    \"\"\"\n",
    "```"
   ]
  },
  {
   "cell_type": "code",
   "execution_count": 16,
   "metadata": {},
   "outputs": [
    {
     "name": "stderr",
     "output_type": "stream",
     "text": [
      "minibatch loop: 100%|██████████| 137/137 [01:42<00:00,  1.53it/s, accuracy=0.5, cost=0.129]  \n",
      "minibatch loop: 100%|██████████| 137/137 [01:40<00:00,  1.52it/s, accuracy=0.833, cost=0.108]\n",
      "minibatch loop: 100%|██████████| 137/137 [01:40<00:00,  1.54it/s, accuracy=1, cost=0.0514]    \n"
     ]
    },
    {
     "data": {
      "text/plain": [
       "['parti islam semalaysia',\n",
       " 'pusat transformasi bandar',\n",
       " 'malaysia baru',\n",
       " 'mic',\n",
       " 'bridge city park',\n",
       " 'suruhanjaya pilihan raya malaysia',\n",
       " 'kotak undi',\n",
       " 'lgbt',\n",
       " 'tentera malaysia',\n",
       " 'dewan rakyat',\n",
       " 'isu kemiskinan',\n",
       " 'undi rosak',\n",
       " 'produk berbahaya',\n",
       " 'politik',\n",
       " 'telekom malaysia',\n",
       " 'bank negara',\n",
       " 'kertas undi',\n",
       " 'malay mail',\n",
       " 'gaji minimum',\n",
       " 'donald trump',\n",
       " 'najib razak',\n",
       " 'bank malaysia',\n",
       " 'humanoid',\n",
       " 'perkhidmatan awam',\n",
       " 'rosmah mansur',\n",
       " 'isu dadah',\n",
       " 'stock market malaysia',\n",
       " 'bursa malaysia',\n",
       " 'pusat daerah mangundi',\n",
       " 'undi pos',\n",
       " 'universiti teknologi malaysia',\n",
       " 'hutang negara',\n",
       " 'makro-ekonomi',\n",
       " 'rtm',\n",
       " 'pengangkutan awam']"
      ]
     },
     "execution_count": 16,
     "metadata": {},
     "output_type": "execute_result"
    }
   ],
   "source": [
    "siamese = malaya.similarity.deep_siamese(malaya.topic.topic,epoch=3)\n",
    "siamese.get_similarity(news)"
   ]
  },
  {
   "cell_type": "markdown",
   "metadata": {},
   "source": [
    "You can speed up your training iteration by using [malaya-gpu](https://pypi.org/project/malaya-gpu/)"
   ]
  },
  {
   "cell_type": "markdown",
   "metadata": {},
   "source": [
    "After you trained, actually you save that model by using method `save_model`. Just provide directory you want to save."
   ]
  },
  {
   "cell_type": "code",
   "execution_count": 17,
   "metadata": {},
   "outputs": [],
   "source": [
    "siamese.save_model('siamese')"
   ]
  },
  {
   "cell_type": "code",
   "execution_count": 18,
   "metadata": {},
   "outputs": [
    {
     "name": "stdout",
     "output_type": "stream",
     "text": [
      "checkpoint                     model.ckpt.meta\r\n",
      "model.ckpt.data-00000-of-00001 model.json\r\n",
      "model.ckpt.index\r\n"
     ]
    }
   ],
   "source": [
    "!ls siamese"
   ]
  },
  {
   "cell_type": "markdown",
   "metadata": {},
   "source": [
    "You can load your model but need to use interface provided by malaya, `malaya.similarity.load_siamese`"
   ]
  },
  {
   "cell_type": "code",
   "execution_count": 19,
   "metadata": {},
   "outputs": [
    {
     "name": "stdout",
     "output_type": "stream",
     "text": [
      "INFO:tensorflow:Restoring parameters from siamese/model.ckpt\n"
     ]
    }
   ],
   "source": [
    "siamese = malaya.similarity.load_siamese('siamese')"
   ]
  },
  {
   "cell_type": "code",
   "execution_count": 20,
   "metadata": {},
   "outputs": [
    {
     "data": {
      "text/plain": [
       "['pilihan raya umum ke-14',\n",
       " 'parti islam semalaysia',\n",
       " 'malaysia baru',\n",
       " 'pengedar dadah',\n",
       " 'suruhanjaya pilihan raya malaysia',\n",
       " 'kotak undi',\n",
       " 'lgbt',\n",
       " 'makanan',\n",
       " 'tentera malaysia',\n",
       " 'gerakan',\n",
       " 'isu kemiskinan',\n",
       " 'undi rosak',\n",
       " 'produk berbahaya',\n",
       " 'bloomberg',\n",
       " 'telekom malaysia',\n",
       " 'bank negara',\n",
       " 'kertas undi',\n",
       " 'malay mail',\n",
       " 'gaji minimum',\n",
       " '1mdb',\n",
       " 'najib razak',\n",
       " 'bank malaysia',\n",
       " 'humanoid',\n",
       " 'perkhidmatan awam',\n",
       " 'rosmah mansur',\n",
       " 'isu dadah',\n",
       " 'stock market malaysia',\n",
       " 'bursa malaysia',\n",
       " 'undi pos',\n",
       " 'universiti teknologi malaysia',\n",
       " 'hutang negara',\n",
       " 'makro-ekonomi',\n",
       " 'rtm',\n",
       " 'pengangkutan awam']"
      ]
     },
     "execution_count": 20,
     "metadata": {},
     "output_type": "execute_result"
    }
   ],
   "source": [
    "siamese.get_similarity(news)"
   ]
  },
  {
   "cell_type": "markdown",
   "metadata": {},
   "source": [
    "## Train skipthought text similarity\n",
    "\n",
    "All parameters supported,\n",
    "\n",
    "```python\n",
    "    \"\"\"\n",
    "    Train a deep skip-thought network for text similarity\n",
    "\n",
    "    Parameters\n",
    "    ----------\n",
    "    dictionary: dict\n",
    "        format {'left':['right']}\n",
    "    epoch: int, (default=5)\n",
    "        iteration numbers\n",
    "    batch_size: int, (default=32)\n",
    "        batch size for every feed, batch size must <= size of corpus\n",
    "    embedding_size: int, (default=256)\n",
    "        vector size representation for a word\n",
    "    maxlen: int, (default=100)\n",
    "        max length of a string to be train\n",
    "    ngram: tuple, (default=(1,4))\n",
    "        n-grams size to train a corpus\n",
    "\n",
    "    Returns\n",
    "    -------\n",
    "    _DEEP_SIMILARITY: malaya.similarity._DEEP_SIMILARITY class\n",
    "    \"\"\"\n",
    "```"
   ]
  },
  {
   "cell_type": "code",
   "execution_count": 21,
   "metadata": {},
   "outputs": [
    {
     "name": "stderr",
     "output_type": "stream",
     "text": [
      "minibatch loop: 100%|██████████| 137/137 [01:20<00:00,  1.93it/s, cost=3.4] \n",
      "minibatch loop: 100%|██████████| 137/137 [01:17<00:00,  1.91it/s, cost=0.793]\n",
      "minibatch loop: 100%|██████████| 137/137 [01:17<00:00,  1.90it/s, cost=0.342] \n"
     ]
    },
    {
     "data": {
      "text/plain": [
       "['pilihan raya umum ke-14',\n",
       " 'pusat transformasi bandar',\n",
       " 'hari raya',\n",
       " 'nga kor ming',\n",
       " 'programming language',\n",
       " '#fakenews',\n",
       " 'mikro-ekonomi',\n",
       " 'datuk seri azmin ali',\n",
       " 'recep tayyip erdogan',\n",
       " 'k-pop',\n",
       " 'malaysia-indonesia',\n",
       " 'tengku razaleigh hamzah',\n",
       " 'anthony loke siew fook',\n",
       " 'lee kuan yew',\n",
       " 'rais yatim',\n",
       " 'undi rosak',\n",
       " 'kkmm',\n",
       " 'inisiatif peduli rakyat',\n",
       " 'tunku ismail idris',\n",
       " 'pusat daerah mangundi',\n",
       " 'makro-ekonomi',\n",
       " 'new straits times']"
      ]
     },
     "execution_count": 21,
     "metadata": {},
     "output_type": "execute_result"
    }
   ],
   "source": [
    "skipthought = malaya.similarity.deep_skipthought(malaya.topic.topic,epoch=3)\n",
    "skipthought.get_similarity(news)"
   ]
  },
  {
   "cell_type": "markdown",
   "metadata": {},
   "source": [
    "You can speed up your training iteration by using [malaya-gpu](https://pypi.org/project/malaya-gpu/)"
   ]
  },
  {
   "cell_type": "markdown",
   "metadata": {},
   "source": [
    "After you trained, actually you save that model by using method `save_model`. Just provide directory you want to save."
   ]
  },
  {
   "cell_type": "code",
   "execution_count": 22,
   "metadata": {},
   "outputs": [],
   "source": [
    "skipthought.save_model('skipthought')"
   ]
  },
  {
   "cell_type": "code",
   "execution_count": 23,
   "metadata": {},
   "outputs": [
    {
     "name": "stdout",
     "output_type": "stream",
     "text": [
      "checkpoint                     model.ckpt.meta\r\n",
      "model.ckpt.data-00000-of-00001 model.json\r\n",
      "model.ckpt.index\r\n"
     ]
    }
   ],
   "source": [
    "!ls skipthought"
   ]
  },
  {
   "cell_type": "markdown",
   "metadata": {},
   "source": [
    "You can load your model but need to use interface provided by malaya, `malaya.similarity.load_skipthought`"
   ]
  },
  {
   "cell_type": "code",
   "execution_count": 24,
   "metadata": {},
   "outputs": [
    {
     "name": "stdout",
     "output_type": "stream",
     "text": [
      "INFO:tensorflow:Restoring parameters from skipthought/model.ckpt\n"
     ]
    }
   ],
   "source": [
    "skipthought = malaya.similarity.load_skipthought('skipthought')"
   ]
  },
  {
   "cell_type": "code",
   "execution_count": 25,
   "metadata": {},
   "outputs": [
    {
     "data": {
      "text/plain": [
       "['pilihan raya umum ke-14',\n",
       " 'pusat transformasi bandar',\n",
       " 'hari raya',\n",
       " 'nga kor ming',\n",
       " 'programming language',\n",
       " '#fakenews',\n",
       " 'mikro-ekonomi',\n",
       " 'datuk seri azmin ali',\n",
       " 'recep tayyip erdogan',\n",
       " 'k-pop',\n",
       " 'malaysia-indonesia',\n",
       " 'tengku razaleigh hamzah',\n",
       " 'anthony loke siew fook',\n",
       " 'lee kuan yew',\n",
       " 'rais yatim',\n",
       " 'undi rosak',\n",
       " 'kkmm',\n",
       " 'inisiatif peduli rakyat',\n",
       " 'tunku ismail idris',\n",
       " 'pusat daerah mangundi',\n",
       " 'makro-ekonomi',\n",
       " 'new straits times']"
      ]
     },
     "execution_count": 25,
     "metadata": {},
     "output_type": "execute_result"
    }
   ],
   "source": [
    "skipthought.get_similarity(news)"
   ]
  },
  {
   "cell_type": "markdown",
   "metadata": {},
   "source": [
    "## Using fuzzy for location"
   ]
  },
  {
   "cell_type": "code",
   "execution_count": 26,
   "metadata": {},
   "outputs": [
    {
     "data": {
      "text/plain": [
       "{'negeri': [], 'parlimen': ['sungai petani'], 'dun': []}"
      ]
     },
     "execution_count": 26,
     "metadata": {},
     "output_type": "execute_result"
    }
   ],
   "source": [
    "malaya.similarity.fuzzy_location('saya suka makan sate di sungai petani')"
   ]
  },
  {
   "cell_type": "markdown",
   "metadata": {},
   "source": [
    "## Check location from a string"
   ]
  },
  {
   "cell_type": "code",
   "execution_count": 27,
   "metadata": {},
   "outputs": [
    {
     "data": {
      "text/plain": [
       "True"
      ]
     },
     "execution_count": 27,
     "metadata": {},
     "output_type": "execute_result"
    }
   ],
   "source": [
    "malaya.similarity.is_location('sungai petani')"
   ]
  }
 ],
 "metadata": {
  "kernelspec": {
   "display_name": "Python 3",
   "language": "python",
   "name": "python3"
  },
  "language_info": {
   "codemirror_mode": {
    "name": "ipython",
    "version": 3
   },
   "file_extension": ".py",
   "mimetype": "text/x-python",
   "name": "python",
   "nbconvert_exporter": "python",
   "pygments_lexer": "ipython3",
   "version": "3.6.5"
  }
 },
 "nbformat": 4,
 "nbformat_minor": 2
}
