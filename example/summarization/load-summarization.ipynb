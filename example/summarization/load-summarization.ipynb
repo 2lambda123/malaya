{
 "cells": [
  {
   "cell_type": "code",
   "execution_count": 1,
   "metadata": {},
   "outputs": [
    {
     "name": "stderr",
     "output_type": "stream",
     "text": [
      "Using TensorFlow backend.\n"
     ]
    }
   ],
   "source": [
    "import malaya"
   ]
  },
  {
   "cell_type": "code",
   "execution_count": 2,
   "metadata": {},
   "outputs": [],
   "source": [
    "isu_kerajaan = ['Institusi raja khususnya Yang di-Pertuan Agong adalah kedaulatan negara dengan kedudukan dan peranannya termaktub dalam Perlembagaan Persekutuan yang perlu disokong dan didukung oleh kerajaan serta rakyat.',\n",
    "               'Pensyarah Kulliyah Undang-Undang Ahmad Ibrahim, Universiti Islam Antarabangsa Malaysia (UIAM) Prof Madya Dr Shamrahayu Ab Aziz berkata perubahan kerajaan, susulan kemenangan Pakatan Harapan pada Pilihan Raya Umum Ke-14 pada Mei lepas, tidak memberi kesan dari segi peranan, fungsi dan kedudukan Yang di-Pertuan Agong.',\n",
    "               'Peralihan kerajaan itu menyaksikan Sultan Muhammad V mencatat sejarah tersendiri dengan menjadi Yang di-Pertuan Agong Malaysia yang pertama memerintah dalam era dua kerajaan berbeza.',\n",
    "               'Semasa dilantik sebagai Yang di-Pertuan Agong Ke-15 pada 13 Dis 2016, kerajaan ketika itu diterajui oleh Barisan Nasional dan pada 10 Mei lepas, kepimpinan negara diambil alih oleh Pakatan Harapan yang memenangi Pilihan Raya Umum Ke-14.',\n",
    "               'Ketika merasmikan Istiadat Pembukaan Penggal Pertama, Parlimen ke-14 pada 17 Julai lepas, Seri Paduka bertitah mengalu-alukan pendekatan kerajaan Pakatan Harapan dalam menegakkan ketelusan terutamanya dengan mendedahkan kedudukan kewangan negara yang sebenar serta mengkaji semula perbelanjaan, kos projek dan mengurus kewangan secara berhemat bagi menangani kos sara hidup.',\n",
    "               'Pada Jun lepas, Sultan Muhammad V memperkenankan supaya peruntukan gaji dan emolumen Yang di-Pertuan Agong dikurangkan sebanyak 10 peratus sepanjang pemerintahan sehingga 2021 berikutan keprihatinan Seri Paduka terhadap tahap hutang dan keadaan ekonomi negara.',\n",
    "               'Seri Paduka turut menitahkan supaya Majlis Rumah Terbuka Aidilfitri tahun ini tidak diadakan di Istana Negara dengan peruntukan majlis itu digunakan bagi membantu golongan yang kurang bernasib baik.']"
   ]
  },
  {
   "cell_type": "code",
   "execution_count": 3,
   "metadata": {},
   "outputs": [
    {
     "data": {
      "text/plain": [
       "{'cluster-top-words': ['mei',\n",
       "  'perintah',\n",
       "  'alih',\n",
       "  'sultan muhammad',\n",
       "  'paduka titah',\n",
       "  'peran',\n",
       "  'buka',\n",
       "  'malaysia'],\n",
       " 'summary': 'dilantik pertuan agong dis kerajaan diterajui barisan nasional mei kepimpinan negara diambil alih pakatan harapan memenangi pilihan raya. merasmikan istiadat pembukaan penggal parlimen julai seri paduka bertitah mengalu alukan pendekatan kerajaan pakatan harapan menegakkan ketelusan terutamanya mendedahkan kedudukan kewangan negara sebenar mengkaji perbelanjaan kos projek mengurus kewangan berhemat menangani kos sara hidup. peralihan kerajaan menyaksikan sultan muhammad v mencatat sejarah tersendiri pertuan agong malaysia memerintah era kerajaan berbeza',\n",
       " 'top-words': ['titah',\n",
       "  'perintah',\n",
       "  'alih',\n",
       "  'buka',\n",
       "  'malaysia',\n",
       "  'mei',\n",
       "  'muhammad',\n",
       "  'paduka titah',\n",
       "  'sultan muhammad',\n",
       "  'peran']}"
      ]
     },
     "execution_count": 3,
     "metadata": {},
     "output_type": "execute_result"
    }
   ],
   "source": [
    "malaya.summarize_lsa(isu_kerajaan,important_words=10)"
   ]
  },
  {
   "cell_type": "code",
   "execution_count": 4,
   "metadata": {},
   "outputs": [
    {
     "data": {
      "text/plain": [
       "{'cluster-top-words': ['pilih',\n",
       "  'mei',\n",
       "  'alih',\n",
       "  'sultan muhammad',\n",
       "  'paduka titah',\n",
       "  'peran',\n",
       "  'buka',\n",
       "  'malaysia'],\n",
       " 'summary': 'semasa dilantik sebagai yang di-pertuan agong ke-15 pada 13 dis 2016, kerajaan ketika itu diterajui oleh barisan nasional dan pada 10 mei lepas, kepimpinan negara diambil alih oleh pakatan harapan yang memenangi pilihan raya umum ke-14. peralihan kerajaan itu menyaksikan sultan muhammad v mencatat sejarah tersendiri dengan menjadi yang di-pertuan agong malaysia yang pertama memerintah dalam era dua kerajaan berbeza. pada jun lepas, sultan muhammad v memperkenankan supaya peruntukan gaji dan emolumen yang di-pertuan agong dikurangkan sebanyak 10 peratus sepanjang pemerintahan sehingga 2021 berikutan keprihatinan seri paduka terhadap tahap hutang dan keadaan ekonomi negara',\n",
       " 'top-words': ['titah',\n",
       "  'pilih',\n",
       "  'alih',\n",
       "  'buka',\n",
       "  'malaysia',\n",
       "  'mei',\n",
       "  'muhammad',\n",
       "  'paduka titah',\n",
       "  'peran',\n",
       "  'sultan muhammad']}"
      ]
     },
     "execution_count": 4,
     "metadata": {},
     "output_type": "execute_result"
    }
   ],
   "source": [
    "malaya.summarize_lsa(isu_kerajaan, important_words=10,maintain_original=True)"
   ]
  },
  {
   "cell_type": "code",
   "execution_count": 5,
   "metadata": {},
   "outputs": [
    {
     "data": {
      "text/plain": [
       "{'cluster-top-words': ['mei',\n",
       "  'perintah',\n",
       "  'alih',\n",
       "  'sultan muhammad',\n",
       "  'paduka titah',\n",
       "  'peran',\n",
       "  'buka',\n",
       "  'malaysia'],\n",
       " 'summary': 'dilantik pertuan agong dis kerajaan diterajui barisan nasional mei kepimpinan negara diambil alih pakatan harapan memenangi pilihan raya. merasmikan istiadat pembukaan penggal parlimen julai seri paduka bertitah mengalu alukan pendekatan kerajaan pakatan harapan menegakkan ketelusan terutamanya mendedahkan kedudukan kewangan negara sebenar mengkaji perbelanjaan kos projek mengurus kewangan berhemat menangani kos sara hidup. peralihan kerajaan menyaksikan sultan muhammad v mencatat sejarah tersendiri pertuan agong malaysia memerintah era kerajaan berbeza',\n",
       " 'top-words': ['titah',\n",
       "  'perintah',\n",
       "  'alih',\n",
       "  'buka',\n",
       "  'malaysia',\n",
       "  'mei',\n",
       "  'muhammad',\n",
       "  'paduka titah',\n",
       "  'sultan muhammad',\n",
       "  'peran']}"
      ]
     },
     "execution_count": 5,
     "metadata": {},
     "output_type": "execute_result"
    }
   ],
   "source": [
    "malaya.summarize_nmf(isu_kerajaan,important_words=10)"
   ]
  },
  {
   "cell_type": "code",
   "execution_count": 6,
   "metadata": {},
   "outputs": [
    {
     "data": {
      "text/plain": [
       "{'cluster-top-words': ['mei',\n",
       "  'perintah',\n",
       "  'alih',\n",
       "  'sultan muhammad',\n",
       "  'paduka titah',\n",
       "  'peran',\n",
       "  'buka',\n",
       "  'malaysia'],\n",
       " 'summary': 'dilantik pertuan agong dis kerajaan diterajui barisan nasional mei kepimpinan negara diambil alih pakatan harapan memenangi pilihan raya. merasmikan istiadat pembukaan penggal parlimen julai seri paduka bertitah mengalu alukan pendekatan kerajaan pakatan harapan menegakkan ketelusan terutamanya mendedahkan kedudukan kewangan negara sebenar mengkaji perbelanjaan kos projek mengurus kewangan berhemat menangani kos sara hidup. peralihan kerajaan menyaksikan sultan muhammad v mencatat sejarah tersendiri pertuan agong malaysia memerintah era kerajaan berbeza',\n",
       " 'top-words': ['titah',\n",
       "  'perintah',\n",
       "  'alih',\n",
       "  'buka',\n",
       "  'malaysia',\n",
       "  'mei',\n",
       "  'muhammad',\n",
       "  'paduka titah',\n",
       "  'sultan muhammad',\n",
       "  'peran']}"
      ]
     },
     "execution_count": 6,
     "metadata": {},
     "output_type": "execute_result"
    }
   ],
   "source": [
    "malaya.summarize_lda(isu_kerajaan,important_words=10)"
   ]
  },
  {
   "cell_type": "code",
   "execution_count": 7,
   "metadata": {},
   "outputs": [
    {
     "data": {
      "text/plain": [
       "{'summary': 'dilantik pertuan agong dis kerajaan diterajui barisan nasional mei kepimpinan negara diambil alih pakatan harapan memenangi pilihan raya. merasmikan istiadat pembukaan penggal parlimen julai seri paduka bertitah mengalu alukan pendekatan kerajaan pakatan harapan menegakkan ketelusan terutamanya mendedahkan kedudukan kewangan negara sebenar mengkaji perbelanjaan kos projek mengurus kewangan berhemat menangani kos sara hidup. peralihan kerajaan menyaksikan sultan muhammad v mencatat sejarah tersendiri pertuan agong malaysia memerintah era kerajaan berbeza',\n",
       " 'top-words': ['titah',\n",
       "  'perintah',\n",
       "  'alih',\n",
       "  'buka',\n",
       "  'malaysia',\n",
       "  'mei',\n",
       "  'muhammad',\n",
       "  'paduka titah',\n",
       "  'sultan muhammad',\n",
       "  'peran']}"
      ]
     },
     "execution_count": 7,
     "metadata": {},
     "output_type": "execute_result"
    }
   ],
   "source": [
    "malaya.summarize_lda(isu_kerajaan,important_words=10,return_cluster=False)"
   ]
  },
  {
   "cell_type": "code",
   "execution_count": 8,
   "metadata": {},
   "outputs": [],
   "source": [
    "deep_summary = malaya.summarize_deep_learning()"
   ]
  },
  {
   "cell_type": "code",
   "execution_count": 9,
   "metadata": {},
   "outputs": [
    {
     "data": {
      "text/plain": [
       "'peralihan kerajaan itu menyaksikan sultan muhammad v mencatat sejarah tersendiri dengan menjadi yang di-pertuan agong malaysia yang pertama memerintah dalam era dua kerajaan berbeza. semasa dilantik sebagai yang di-pertuan agong ke-15 pada 13 dis 2016, kerajaan ketika itu diterajui oleh barisan nasional dan pada 10 mei lepas, kepimpinan negara diambil alih oleh pakatan harapan yang memenangi pilihan raya umum ke-14. seri paduka turut menitahkan supaya majlis rumah terbuka aidilfitri tahun ini tidak diadakan di istana negara dengan peruntukan majlis itu digunakan bagi membantu golongan yang kurang bernasib baik'"
      ]
     },
     "execution_count": 9,
     "metadata": {},
     "output_type": "execute_result"
    }
   ],
   "source": [
    "deep_summary.summarize(isu_kerajaan)"
   ]
  },
  {
   "cell_type": "code",
   "execution_count": null,
   "metadata": {},
   "outputs": [],
   "source": []
  }
 ],
 "metadata": {
  "kernelspec": {
   "display_name": "Python 3",
   "language": "python",
   "name": "python3"
  },
  "language_info": {
   "codemirror_mode": {
    "name": "ipython",
    "version": 3
   },
   "file_extension": ".py",
   "mimetype": "text/x-python",
   "name": "python",
   "nbconvert_exporter": "python",
   "pygments_lexer": "ipython3",
   "version": "3.5.2"
  }
 },
 "nbformat": 4,
 "nbformat_minor": 2
}
