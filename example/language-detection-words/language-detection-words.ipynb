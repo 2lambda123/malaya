{
 "cells": [
  {
   "cell_type": "markdown",
   "metadata": {},
   "source": [
    "# Language Detection word level using enchant"
   ]
  },
  {
   "cell_type": "markdown",
   "metadata": {},
   "source": [
    "<div class=\"alert alert-info\">\n",
    "\n",
    "This tutorial is available as an IPython notebook at [Malaya/example/language-detection-words](https://github.com/huseinzol05/Malaya/tree/master/example/language-detection-words).\n",
    "    \n",
    "</div>"
   ]
  },
  {
   "cell_type": "markdown",
   "metadata": {},
   "source": [
    "<div class=\"alert alert-warning\">\n",
    "\n",
    "This module is using dictionary, expect Out-of-vocabulary (OOV) words.\n",
    "    \n",
    "</div>"
   ]
  },
  {
   "cell_type": "code",
   "execution_count": 1,
   "metadata": {},
   "outputs": [
    {
     "name": "stdout",
     "output_type": "stream",
     "text": [
      "CPU times: user 6.56 s, sys: 1.34 s, total: 7.89 s\n",
      "Wall time: 9.26 s\n"
     ]
    }
   ],
   "source": [
    "%%time\n",
    "import malaya"
   ]
  },
  {
   "cell_type": "markdown",
   "metadata": {},
   "source": [
    "## Install pyenchant\n",
    "\n",
    "Full installation steps at https://pyenchant.github.io/pyenchant/install.html"
   ]
  },
  {
   "cell_type": "markdown",
   "metadata": {},
   "source": [
    "## Load model\n",
    "\n",
    "```python\n",
    "def substring_rules(**kwargs):\n",
    "    \"\"\"\n",
    "    detect EN and MS languages in a string, detect EN words using `pyenchant` from https://pyenchant.github.io/pyenchant/\n",
    "    The rule is simple, if not detect as an EN word, assume it is a MS word.\n",
    "\n",
    "    Returns\n",
    "    -------\n",
    "    result : malaya.model.rules.LanguageDict class\n",
    "    \"\"\"\n",
    "```"
   ]
  },
  {
   "cell_type": "code",
   "execution_count": 2,
   "metadata": {},
   "outputs": [],
   "source": [
    "model = malaya.language_detection.substring_rules()"
   ]
  },
  {
   "cell_type": "markdown",
   "metadata": {},
   "source": [
    "## Predict\n",
    "\n",
    "```python\n",
    "def predict(self, words: List[str]):\n",
    "    \"\"\"\n",
    "    Predict [EN, MS, NOT_LANG] on word level. \n",
    "    This method assumed the string already tokenized.\n",
    "\n",
    "    Parameters\n",
    "    ----------\n",
    "    words: List[str]\n",
    "\n",
    "    Returns\n",
    "    -------\n",
    "    result: List[str]\n",
    "    \"\"\"\n",
    "```"
   ]
  },
  {
   "cell_type": "code",
   "execution_count": 9,
   "metadata": {},
   "outputs": [
    {
     "data": {
      "text/plain": [
       "[('saya', 'MS'),\n",
       " ('suka', 'MS'),\n",
       " ('chicken', 'EN'),\n",
       " ('and', 'EN'),\n",
       " ('fish', 'EN'),\n",
       " ('pda', 'MS'),\n",
       " ('hari', 'MS'),\n",
       " ('isnin', 'MS')]"
      ]
     },
     "execution_count": 9,
     "metadata": {},
     "output_type": "execute_result"
    }
   ],
   "source": [
    "string = 'saya suka chicken and fish pda hari isnin'\n",
    "splitted = string.split()\n",
    "list(zip(splitted, model.predict(splitted)))"
   ]
  },
  {
   "cell_type": "code",
   "execution_count": 10,
   "metadata": {},
   "outputs": [
    {
     "data": {
      "text/plain": [
       "[('saya', 'MS'),\n",
       " ('suka', 'MS'),\n",
       " ('chicken', 'EN'),\n",
       " ('and', 'EN'),\n",
       " ('fish', 'EN'),\n",
       " ('pda', 'MS'),\n",
       " ('hari', 'MS'),\n",
       " ('isnin,', 'MS'),\n",
       " ('tarikh', 'MS'),\n",
       " ('22', 'NOT_LANG'),\n",
       " ('mei', 'MS')]"
      ]
     },
     "execution_count": 10,
     "metadata": {},
     "output_type": "execute_result"
    }
   ],
   "source": [
    "string = 'saya suka chicken and fish pda hari isnin, tarikh 22 mei'\n",
    "splitted = string.split()\n",
    "list(zip(splitted, model.predict(splitted)))"
   ]
  },
  {
   "cell_type": "code",
   "execution_count": 11,
   "metadata": {},
   "outputs": [
    {
     "data": {
      "text/plain": [
       "[('saya', 'MS'),\n",
       " ('suka', 'MS'),\n",
       " ('chicken', 'EN'),\n",
       " ('🐔', 'NOT_LANG'),\n",
       " ('and', 'EN'),\n",
       " ('fish', 'EN'),\n",
       " ('pda', 'MS'),\n",
       " ('hari', 'MS'),\n",
       " ('isnin,', 'MS'),\n",
       " ('tarikh', 'MS'),\n",
       " ('22', 'NOT_LANG'),\n",
       " ('mei', 'MS')]"
      ]
     },
     "execution_count": 11,
     "metadata": {},
     "output_type": "execute_result"
    }
   ],
   "source": [
    "string = 'saya suka chicken 🐔 and fish pda hari isnin, tarikh 22 mei'\n",
    "splitted = string.split()\n",
    "list(zip(splitted, model.predict(splitted)))"
   ]
  }
 ],
 "metadata": {
  "kernelspec": {
   "display_name": "Python 3",
   "language": "python",
   "name": "python3"
  },
  "language_info": {
   "codemirror_mode": {
    "name": "ipython",
    "version": 3
   },
   "file_extension": ".py",
   "mimetype": "text/x-python",
   "name": "python",
   "nbconvert_exporter": "python",
   "pygments_lexer": "ipython3",
   "version": "3.7.7"
  },
  "varInspector": {
   "cols": {
    "lenName": 16,
    "lenType": 16,
    "lenVar": 40
   },
   "kernels_config": {
    "python": {
     "delete_cmd_postfix": "",
     "delete_cmd_prefix": "del ",
     "library": "var_list.py",
     "varRefreshCmd": "print(var_dic_list())"
    },
    "r": {
     "delete_cmd_postfix": ") ",
     "delete_cmd_prefix": "rm(",
     "library": "var_list.r",
     "varRefreshCmd": "cat(var_dic_list()) "
    }
   },
   "types_to_exclude": [
    "module",
    "function",
    "builtin_function_or_method",
    "instance",
    "_Feature"
   ],
   "window_display": false
  }
 },
 "nbformat": 4,
 "nbformat_minor": 4
}
