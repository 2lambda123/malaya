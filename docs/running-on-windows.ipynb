{
 "cells": [
  {
   "cell_type": "markdown",
   "metadata": {},
   "source": [
    "## UnicodeDecodeError: 'charmap' codec can't decode byte\n",
    "\n",
    "To solve this,\n",
    "\n",
    "Windows Settings > Administrative language settings > Change system locale.\n",
    "\n",
    "Checked Beta: Use Unicode UTF-8 for worldwide language support.\n",
    "\n",
    "Restarted, everything works well.\n",
    "\n",
    "Full dicussion check [issue 25](https://github.com/huseinzol05/Malaya/issues/25)."
   ]
  },
  {
   "cell_type": "markdown",
   "metadata": {},
   "source": [
    "## Unable to use any T5 models\n",
    "\n",
    "T5 depends on tensorflow-text, currently there is no official tensorflow-text binary released for Windows. So no T5 model for Windows users."
   ]
  },
  {
   "cell_type": "markdown",
   "metadata": {},
   "source": [
    "## Lack development on Windows\n",
    "\n",
    "Malaya been tested on modern UNIX / LINUX systems that supported tensorflow binary. Windows support not our development path right now (we don't have any Windows machine here)."
   ]
  },
  {
   "cell_type": "code",
   "execution_count": null,
   "metadata": {},
   "outputs": [],
   "source": []
  }
 ],
 "metadata": {
  "kernelspec": {
   "display_name": "Python 3",
   "language": "python",
   "name": "python3"
  },
  "language_info": {
   "codemirror_mode": {
    "name": "ipython",
    "version": 3
   },
   "file_extension": ".py",
   "mimetype": "text/x-python",
   "name": "python",
   "nbconvert_exporter": "python",
   "pygments_lexer": "ipython3",
   "version": "3.7.5"
  }
 },
 "nbformat": 4,
 "nbformat_minor": 2
}
