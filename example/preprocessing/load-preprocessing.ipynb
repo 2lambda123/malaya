{
 "cells": [
  {
   "cell_type": "code",
   "execution_count": 1,
   "metadata": {},
   "outputs": [
    {
     "name": "stdout",
     "output_type": "stream",
     "text": [
      "CPU times: user 12.5 s, sys: 1.56 s, total: 14 s\n",
      "Wall time: 19.7 s\n"
     ]
    }
   ],
   "source": [
    "%%time\n",
    "import malaya"
   ]
  },
  {
   "cell_type": "markdown",
   "metadata": {},
   "source": [
    "## Explanations\n",
    "\n",
    "These are defaults setting for `preprocessing()`,\n",
    "\n",
    "```\n",
    "def preprocessing(\n",
    "    normalize = [\n",
    "        'url',\n",
    "        'email',\n",
    "        'percent',\n",
    "        'money',\n",
    "        'phone',\n",
    "        'user',\n",
    "        'time',\n",
    "        'date',\n",
    "        'number',\n",
    "    ],\n",
    "    annotate = [\n",
    "        'allcaps',\n",
    "        'elongated',\n",
    "        'repeated',\n",
    "        'emphasis',\n",
    "        'censored',\n",
    "        'hashtag',\n",
    "    ],\n",
    "    lowercase = True,\n",
    "    fix_unidecode = True,\n",
    "    expand_hashtags = True,\n",
    "    expand_contractions = True,\n",
    "    maxlen_segmenter = 20,\n",
    "    validate = True,\n",
    "):\n",
    "```\n",
    "\n",
    "#### normalize\n",
    "\n",
    "Supported `normalize`,\n",
    "\n",
    "1. hashtag\n",
    "2. cashtag\n",
    "3. tag\n",
    "4. user\n",
    "5. emphasis\n",
    "6. censored\n",
    "7. acronym\n",
    "8. eastern_emoticons\n",
    "9. rest_emoticons\n",
    "10. emoji\n",
    "11. quotes\n",
    "12. percent\n",
    "13. repeat_puncts\n",
    "14. money\n",
    "15. email\n",
    "16. phone\n",
    "17. number\n",
    "18. allcaps\n",
    "19. url\n",
    "20. date\n",
    "21. time\n",
    "\n",
    "Example, if you set `money` and `number`, and input string is `RM10`, the output is `<money> <number>`.\n",
    "\n",
    "#### annotate\n",
    "\n",
    "Supported `annotate`,\n",
    "\n",
    "1. hashtag\n",
    "2. allcaps\n",
    "3. elongated\n",
    "4. repeated\n",
    "5. emphasis\n",
    "6. censored\n",
    "\n",
    "Example, if you set `hashtag`, and input string is `#drmahathir`, the output is `<hashtag> drmahathir </hashtag>`."
   ]
  },
  {
   "cell_type": "markdown",
   "metadata": {},
   "source": [
    "## Load default paramaters\n",
    "\n",
    "default parameters able to expand hashtag, `#mahathirmohamad` into `mahathir mohamad`, but initial load is quite slow."
   ]
  },
  {
   "cell_type": "code",
   "execution_count": 2,
   "metadata": {},
   "outputs": [
    {
     "name": "stdout",
     "output_type": "stream",
     "text": [
      "CPU times: user 15.9 s, sys: 2.77 s, total: 18.7 s\n",
      "Wall time: 21.5 s\n"
     ]
    }
   ],
   "source": [
    "%%time\n",
    "preprocessing = malaya.preprocessing.preprocessing()"
   ]
  },
  {
   "cell_type": "code",
   "execution_count": 3,
   "metadata": {},
   "outputs": [],
   "source": [
    "string_1 = 'CANT WAIT for the new season of #mahathirmohamad ＼(^o^)／!!! #davidlynch #tvseries :))), TAAAK SAAABAAR!!!'\n",
    "string_2 = 'kecewa #johndoe movie and it suuuuucks!!! WASTED RM10... #badmovies :/'\n",
    "string_3 = \"@husein:  can't wait for the Nov 9 #Sentiment talks!  YAAAAAAY !!! :-D http://sentimentsymposium.com/.\"\n",
    "string_4 = 'aahhh, malasnye nak pegi keje harini #mondayblues'\n",
    "string_5 = '#drmahathir #najibrazak #1malaysia #mahathirnajib'"
   ]
  },
  {
   "cell_type": "code",
   "execution_count": 4,
   "metadata": {},
   "outputs": [
    {
     "name": "stdout",
     "output_type": "stream",
     "text": [
      "CPU times: user 11.6 ms, sys: 2.88 ms, total: 14.4 ms\n",
      "Wall time: 16.3 ms\n"
     ]
    },
    {
     "data": {
      "text/plain": [
       "'<allcaps> tak boleh wait </allcaps> untuk the new season of <hashtag> mahathir mohamad </hashtag> \\\\(^o^)/ ! <repeated> <hashtag> david lynch </hashtag> <hashtag> tv series </hashtag> <happy> , <allcaps> taak <elongated> saabaar <elongated> </allcaps> ! <repeated>'"
      ]
     },
     "execution_count": 4,
     "metadata": {},
     "output_type": "execute_result"
    }
   ],
   "source": [
    "%%time\n",
    "' '.join(preprocessing.process(string_1))"
   ]
  },
  {
   "cell_type": "code",
   "execution_count": 5,
   "metadata": {},
   "outputs": [
    {
     "name": "stdout",
     "output_type": "stream",
     "text": [
      "CPU times: user 4.09 ms, sys: 559 µs, total: 4.65 ms\n",
      "Wall time: 4.73 ms\n"
     ]
    },
    {
     "data": {
      "text/plain": [
       "'kecewa <hashtag> john doe </hashtag> movie and it suucks <elongated> ! <repeated> <allcaps> wasted </allcaps> <money> <number> . <repeated> <hashtag> bad movies </hashtag> <annoyed>'"
      ]
     },
     "execution_count": 5,
     "metadata": {},
     "output_type": "execute_result"
    }
   ],
   "source": [
    "%%time\n",
    "' '.join(preprocessing.process(string_2))"
   ]
  },
  {
   "cell_type": "code",
   "execution_count": 6,
   "metadata": {},
   "outputs": [
    {
     "name": "stdout",
     "output_type": "stream",
     "text": [
      "CPU times: user 1.35 ms, sys: 48 µs, total: 1.4 ms\n",
      "Wall time: 1.48 ms\n"
     ]
    },
    {
     "data": {
      "text/plain": [
       "'<user> : can not wait untuk the <date> <hashtag> sentiment </hashtag> talks ! <allcaps> yaay <elongated> </allcaps> ! <repeated> :-d <url>'"
      ]
     },
     "execution_count": 6,
     "metadata": {},
     "output_type": "execute_result"
    }
   ],
   "source": [
    "%%time\n",
    "' '.join(preprocessing.process(string_3))"
   ]
  },
  {
   "cell_type": "code",
   "execution_count": 7,
   "metadata": {},
   "outputs": [
    {
     "name": "stdout",
     "output_type": "stream",
     "text": [
      "CPU times: user 3.98 ms, sys: 1.54 ms, total: 5.52 ms\n",
      "Wall time: 8.04 ms\n"
     ]
    },
    {
     "data": {
      "text/plain": [
       "'aahh <elongated> , malasnye nak pergi kerja hari ini <hashtag> monday blues </hashtag>'"
      ]
     },
     "execution_count": 7,
     "metadata": {},
     "output_type": "execute_result"
    }
   ],
   "source": [
    "%%time\n",
    "' '.join(preprocessing.process(string_4))"
   ]
  },
  {
   "cell_type": "code",
   "execution_count": 8,
   "metadata": {},
   "outputs": [
    {
     "name": "stdout",
     "output_type": "stream",
     "text": [
      "CPU times: user 11.4 ms, sys: 2.06 ms, total: 13.5 ms\n",
      "Wall time: 18.8 ms\n"
     ]
    },
    {
     "data": {
      "text/plain": [
       "'<hashtag> dr mahathir </hashtag> <hashtag> najib razak </hashtag> <hashtag> 1 malaysia </hashtag> <hashtag> mahathir najib </hashtag>'"
      ]
     },
     "execution_count": 8,
     "metadata": {},
     "output_type": "execute_result"
    }
   ],
   "source": [
    "%%time\n",
    "' '.join(preprocessing.process(string_5))"
   ]
  },
  {
   "cell_type": "markdown",
   "metadata": {},
   "source": [
    "## disable hashtag expander\n",
    "\n",
    "Sometime we want to maintain hashtags because we want to study the frequencies."
   ]
  },
  {
   "cell_type": "code",
   "execution_count": 9,
   "metadata": {},
   "outputs": [
    {
     "name": "stdout",
     "output_type": "stream",
     "text": [
      "CPU times: user 249 µs, sys: 225 µs, total: 474 µs\n",
      "Wall time: 482 µs\n"
     ]
    }
   ],
   "source": [
    "%%time\n",
    "preprocessing = malaya.preprocessing.preprocessing(expand_hashtags = False)"
   ]
  },
  {
   "cell_type": "code",
   "execution_count": 10,
   "metadata": {},
   "outputs": [
    {
     "name": "stdout",
     "output_type": "stream",
     "text": [
      "CPU times: user 1.83 ms, sys: 45 µs, total: 1.88 ms\n",
      "Wall time: 1.92 ms\n"
     ]
    },
    {
     "data": {
      "text/plain": [
       "'<allcaps> tak boleh wait </allcaps> untuk the new season of <hashtag> mahathirmohamad </hashtag> \\\\(^o^)/ ! <repeated> <hashtag> davidlynch </hashtag> <hashtag> tvseries </hashtag> <happy> , <allcaps> taak <elongated> saabaar <elongated> </allcaps> ! <repeated>'"
      ]
     },
     "execution_count": 10,
     "metadata": {},
     "output_type": "execute_result"
    }
   ],
   "source": [
    "%%time\n",
    "' '.join(preprocessing.process(string_1))"
   ]
  },
  {
   "cell_type": "code",
   "execution_count": 11,
   "metadata": {},
   "outputs": [
    {
     "name": "stdout",
     "output_type": "stream",
     "text": [
      "CPU times: user 579 µs, sys: 29 µs, total: 608 µs\n",
      "Wall time: 628 µs\n"
     ]
    },
    {
     "data": {
      "text/plain": [
       "'<hashtag> drmahathir </hashtag> <hashtag> najibrazak </hashtag> <hashtag> 1 malaysia </hashtag> <hashtag> mahathirnajib </hashtag>'"
      ]
     },
     "execution_count": 11,
     "metadata": {},
     "output_type": "execute_result"
    }
   ],
   "source": [
    "%%time\n",
    "' '.join(preprocessing.process(string_5))"
   ]
  },
  {
   "cell_type": "code",
   "execution_count": null,
   "metadata": {},
   "outputs": [],
   "source": []
  }
 ],
 "metadata": {
  "kernelspec": {
   "display_name": "Python 3",
   "language": "python",
   "name": "python3"
  },
  "language_info": {
   "codemirror_mode": {
    "name": "ipython",
    "version": 3
   },
   "file_extension": ".py",
   "mimetype": "text/x-python",
   "name": "python",
   "nbconvert_exporter": "python",
   "pygments_lexer": "ipython3",
   "version": "3.6.5"
  }
 },
 "nbformat": 4,
 "nbformat_minor": 2
}
