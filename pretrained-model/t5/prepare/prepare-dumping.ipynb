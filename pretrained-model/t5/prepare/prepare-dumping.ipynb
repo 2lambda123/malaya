{
 "cells": [
  {
   "cell_type": "code",
   "execution_count": 1,
   "metadata": {},
   "outputs": [
    {
     "data": {
      "text/plain": [
       "True"
      ]
     },
     "execution_count": 1,
     "metadata": {},
     "output_type": "execute_result"
    }
   ],
   "source": [
    "import tensorflow as tf\n",
    "import tensorflow_datasets as tfds\n",
    "from t5.data import preprocessors as prep\n",
    "import functools\n",
    "import t5\n",
    "import gin\n",
    "import sentencepiece as spm\n",
    "from glob import glob\n",
    "import os\n",
    "\n",
    "gin.parse_config_file('pretrained_models_base_operative_config.gin')\n",
    "vocab = 'sp10m.cased.t5.model'\n",
    "sp = spm.SentencePieceProcessor()\n",
    "sp.Load(vocab)"
   ]
  },
  {
   "cell_type": "code",
   "execution_count": 6,
   "metadata": {},
   "outputs": [],
   "source": [
    "files = [\n",
    "    '../../pure-text/dumping-parliament.txt',\n",
    "    '../../pure-text/filtered-dumping-wiki.txt',\n",
    "    '../../pure-text/filtered-dumping-cleaned-common-crawl.txt',\n",
    "    '../../pure-text/filtered-dumping-academia.txt',\n",
    "    '../../news/cleaned-news.txt'\n",
    "]"
   ]
  },
  {
   "cell_type": "code",
   "execution_count": 7,
   "metadata": {},
   "outputs": [
    {
     "data": {
      "text/plain": [
       "'dumping-parliament.txt'"
      ]
     },
     "execution_count": 7,
     "metadata": {},
     "output_type": "execute_result"
    }
   ],
   "source": [
    "os.path.split(files[0])[1]"
   ]
  },
  {
   "cell_type": "code",
   "execution_count": 8,
   "metadata": {},
   "outputs": [],
   "source": [
    "import re\n",
    "\n",
    "def cleaning(string):\n",
    "    string = string.replace('\\n', ' ').replace('\\t', ' ')\n",
    "    string = re.sub(r'[ ]+', ' ', string).strip()\n",
    "    return string"
   ]
  },
  {
   "cell_type": "code",
   "execution_count": 9,
   "metadata": {},
   "outputs": [
    {
     "name": "stdout",
     "output_type": "stream",
     "text": [
      "../../pure-text/dumping-parliament.txt 277157\n",
      "../../pure-text/filtered-dumping-wiki.txt 2037602\n",
      "../../pure-text/filtered-dumping-cleaned-common-crawl.txt 41666319\n",
      "../../pure-text/filtered-dumping-academia.txt 4086649\n",
      "../../news/cleaned-news.txt 3483907\n"
     ]
    }
   ],
   "source": [
    "for file in files:\n",
    "    with open(file) as fopen:\n",
    "        data = list(filter(None, fopen.read().split('\\n')))\n",
    "    print(file, len(data))\n",
    "    s = os.path.split(file)[1]\n",
    "    filename = f'{s}.tsv'\n",
    "    with tf.io.gfile.GFile(filename, 'w') as outfile:\n",
    "        for i in range(len(data)):\n",
    "            outfile.write('%s\\t%s\\n' % ('', cleaning(data[i])))"
   ]
  },
  {
   "cell_type": "code",
   "execution_count": 10,
   "metadata": {},
   "outputs": [],
   "source": [
    "def dumping_dataset(split, shuffle_files = False):\n",
    "    del shuffle_files\n",
    "    ds = tf.data.TextLineDataset(\n",
    "        ['dumping-parliament.txt.tsv', 'filtered-dumping-wiki.txt.tsv']\n",
    "    )\n",
    "\n",
    "    ds = ds.map(\n",
    "        functools.partial(\n",
    "            tf.io.decode_csv,\n",
    "            record_defaults = ['', ''],\n",
    "            field_delim = '\\t',\n",
    "            use_quote_delim = False,\n",
    "        ),\n",
    "        num_parallel_calls = tf.data.experimental.AUTOTUNE,\n",
    "    )\n",
    "    ds = ds.map(lambda *ex: dict(zip(['title', 'text'], ex)))\n",
    "    return ds"
   ]
  },
  {
   "cell_type": "code",
   "execution_count": 11,
   "metadata": {},
   "outputs": [
    {
     "name": "stderr",
     "output_type": "stream",
     "text": [
      "/home/husein/.local/lib/python3.6/site-packages/t5/models/mesh_transformer.py:210: UserWarning: get_sentencepiece_model_path is deprecated. Please pass the mixture or task vocabulary directly to the Mesh TensorFlow Transformer instead.\n",
      "  \"get_sentencepiece_model_path is deprecated. Please pass the mixture or \"\n"
     ]
    }
   ],
   "source": [
    "t5.data.TaskRegistry.remove('dumping_dataset')\n",
    "t5.data.TaskRegistry.add(\n",
    "    'dumping_dataset',\n",
    "    dataset_fn = dumping_dataset,\n",
    "    splits = ['train'],\n",
    "    text_preprocessor = functools.partial(\n",
    "        t5.data.preprocessors.rekey,\n",
    "        key_map = {'inputs': None, 'targets': 'text'},\n",
    "    ),\n",
    "    token_preprocessor = t5.data.preprocessors.unsupervised,\n",
    "    sentencepiece_model_path = vocab,\n",
    "    metric_fns = [],\n",
    ")"
   ]
  },
  {
   "cell_type": "code",
   "execution_count": 12,
   "metadata": {},
   "outputs": [
    {
     "name": "stdout",
     "output_type": "stream",
     "text": [
      "WARNING:tensorflow:From /home/husein/.local/lib/python3.6/site-packages/tensorflow_core/python/ops/array_ops.py:1475: where (from tensorflow.python.ops.array_ops) is deprecated and will be removed in a future version.\n",
      "Instructions for updating:\n",
      "Use tf.where in 2.0, which has the same broadcast rule as np.where\n",
      "INFO:tensorflow:tokens_length=1137 inputs_length=1024 targets_length=229 noise_density=0.15 mean_noise_span_length=3.0 \n"
     ]
    }
   ],
   "source": [
    "nq_task = t5.data.TaskRegistry.get(\"dumping_dataset\")\n",
    "ds = nq_task.get_dataset(split='qa.tsv', sequence_length={\"inputs\": 1024, \"targets\": 1024})\n",
    "r = tfds.as_numpy(ds)"
   ]
  },
  {
   "cell_type": "code",
   "execution_count": 13,
   "metadata": {},
   "outputs": [
    {
     "data": {
      "text/plain": [
       "{'inputs': array([   38,   453,    15,     3,  1500,    80,  1439,    15,    12,\n",
       "         2868, 11617, 19992,  1040,  3462,  8672,   402, 11769,  1403,\n",
       "        11466,   223,   124,    18,     7,   738,    27,  1576,    72,\n",
       "           33,  1638,   950,    43,   717,  1914,    37,    48,   303,\n",
       "           30,    40,    92,   867,  1382, 15929,    16,  8721,    13,\n",
       "         7360, 32099,    15,  9190,  6121,    15, 32098,  1937,   359,\n",
       "          304,    15,     3, 32097,    25,    13,    16,  8721,    13,\n",
       "         7360,    15,     4,  1483,    15,  9190,  6121, 32096,    35,\n",
       "           43,  2296,   635,    21,  1907,  7442,    75,  4178,    46,\n",
       "          116,   624,  1522,  2185,    22,  1112,  6569,    40,    16,\n",
       "        32095,   229,   651,   231,  1973,    19,   274,   845,   537,\n",
       "           15,     4, 32094,     5,   524,    73, 11429,    15,     4,\n",
       "         8721,    13,  7360,   524,  1483,    15,  9190,  6121,    15,\n",
       "            5,   651,  1075,  2483,  2696,    15,     3,    15, 15601,\n",
       "          458,    13,   608,    28, 32093,    18,   303,    16,    37,\n",
       "          291,   170,    17,   119,   274,  1937,    29,  1014,   493,\n",
       "        32092,    88,   471,   578,   116,   125,  2068,   612,    17,\n",
       "         7220,    19,    15, 14284,    13,  1562,  8721,    13,  7360,\n",
       "           15,     4,  1483,    15,  9190,  6121,    15,     5,  1342,\n",
       "         4001,  7442, 32091,   331,   442,    78,    28,   129,   509,\n",
       "         5707,   304,  6700,    88,   471,   578,   154,   972, 32090,\n",
       "         2068,   612, 32089,   304,    92,  6297,    27,  6297,   143,\n",
       "           27,   349,   357,   269,   574,    27,   349,   357,   403,\n",
       "          806,    27,   429,  2844,    27,   349,   357,   269,  3544,\n",
       "           27,   349, 32088,   357,  4239,   116,  1284,   224,    37,\n",
       "          303,    15, 32087,     1]),\n",
       " 'targets': array([32099,    15,     4,  1483, 32098,     5,    17,  1106,    43,\n",
       "        32097,   321,     7,  8595, 32096,    15,     5,  1707, 32095,\n",
       "        14055,    26, 32094,    77,  1382, 15929,    15, 32093,   129,\n",
       "          509,  5707, 32092,    78,  6700,    23, 32091,    29,  1014,\n",
       "         1937, 32090,   673,   578,   116, 32089,  1116, 32088,   357,\n",
       "          641,  3818,    16,   349, 32087,     3,     1])}"
      ]
     },
     "execution_count": 13,
     "metadata": {},
     "output_type": "execute_result"
    }
   ],
   "source": [
    "next(r)"
   ]
  },
  {
   "cell_type": "code",
   "execution_count": null,
   "metadata": {},
   "outputs": [],
   "source": []
  }
 ],
 "metadata": {
  "kernelspec": {
   "display_name": "Python 3",
   "language": "python",
   "name": "python3"
  },
  "language_info": {
   "codemirror_mode": {
    "name": "ipython",
    "version": 3
   },
   "file_extension": ".py",
   "mimetype": "text/x-python",
   "name": "python",
   "nbconvert_exporter": "python",
   "pygments_lexer": "ipython3",
   "version": "3.6.8"
  }
 },
 "nbformat": 4,
 "nbformat_minor": 2
}
