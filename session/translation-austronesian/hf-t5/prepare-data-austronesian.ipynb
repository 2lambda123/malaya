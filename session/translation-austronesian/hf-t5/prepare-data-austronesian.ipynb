{
 "cells": [
  {
   "cell_type": "code",
   "execution_count": 1,
   "metadata": {},
   "outputs": [],
   "source": [
    "from glob import glob\n",
    "import json\n",
    "import random"
   ]
  },
  {
   "cell_type": "code",
   "execution_count": 2,
   "metadata": {},
   "outputs": [],
   "source": [
    "test_percent = 0.01"
   ]
  },
  {
   "cell_type": "code",
   "execution_count": 3,
   "metadata": {},
   "outputs": [],
   "source": [
    "ms_jav = sorted(glob('filtered-eng_Latn-jav_Latn*.splitted.translated'))"
   ]
  },
  {
   "cell_type": "code",
   "execution_count": 4,
   "metadata": {},
   "outputs": [],
   "source": [
    "ms_bjn = ['filtered-bjn_Latn-eng_Latn.translated']"
   ]
  },
  {
   "cell_type": "code",
   "execution_count": 5,
   "metadata": {},
   "outputs": [],
   "source": [
    "train = open('train-austronesian.json', 'w')\n",
    "test = open('test-austronesian.json', 'w')"
   ]
  },
  {
   "cell_type": "code",
   "execution_count": 6,
   "metadata": {},
   "outputs": [],
   "source": [
    "for f in ms_bjn:\n",
    "    with open(f) as fopen:\n",
    "        for l in fopen:\n",
    "            data = json.loads(l)\n",
    "            src = data['translated']\n",
    "            tgt = data['data'][0]\n",
    "            \n",
    "            if random.random() >= test_percent:\n",
    "                fwrite = train\n",
    "            else:\n",
    "                fwrite = test\n",
    "            \n",
    "            d = {\"translation\": {\"src\": src, \"tgt\": tgt, 'prefix': 'terjemah Melayu ke Banjar: '}}\n",
    "            fwrite.write(f'{json.dumps(d)}\\n')\n",
    "            \n",
    "            d = {\"translation\": {\"src\": tgt, \"tgt\": src, 'prefix': 'terjemah Banjar ke Melayu: '}}\n",
    "            fwrite.write(f'{json.dumps(d)}\\n')"
   ]
  },
  {
   "cell_type": "code",
   "execution_count": 7,
   "metadata": {},
   "outputs": [],
   "source": [
    "for f in ms_jav:\n",
    "    with open(f) as fopen:\n",
    "        for l in fopen:\n",
    "            data = json.loads(l)\n",
    "            src = data['translated']\n",
    "            tgt = data['data'][1]\n",
    "            \n",
    "            if random.random() >= test_percent:\n",
    "                fwrite = train\n",
    "            else:\n",
    "                fwrite = test\n",
    "            \n",
    "            d = {\"translation\": {\"src\": src, \"tgt\": tgt, 'prefix': 'terjemah Melayu ke Jawa: '}}\n",
    "            fwrite.write(f'{json.dumps(d)}\\n')\n",
    "            \n",
    "            d = {\"translation\": {\"src\": tgt, \"tgt\": src, 'prefix': 'terjemah Jawa ke Melayu: '}}\n",
    "            fwrite.write(f'{json.dumps(d)}\\n')"
   ]
  },
  {
   "cell_type": "code",
   "execution_count": 8,
   "metadata": {},
   "outputs": [],
   "source": [
    "with open('filtered-bjn_Latn-jav_Latn') as fopen:\n",
    "    for l in fopen:\n",
    "        data = json.loads(l)\n",
    "        src = data[0]\n",
    "        tgt = data[1]\n",
    "\n",
    "        if random.random() >= test_percent:\n",
    "            fwrite = train\n",
    "        else:\n",
    "            fwrite = test\n",
    "\n",
    "        d = {\"translation\": {\"src\": src, \"tgt\": tgt, 'prefix': 'terjemah Banjar ke Jawa: '}}\n",
    "        fwrite.write(f'{json.dumps(d)}\\n')\n",
    "\n",
    "        d = {\"translation\": {\"src\": tgt, \"tgt\": src, 'prefix': 'terjemah Jawa ke Banjar: '}}\n",
    "        fwrite.write(f'{json.dumps(d)}\\n')"
   ]
  },
  {
   "cell_type": "code",
   "execution_count": 9,
   "metadata": {},
   "outputs": [],
   "source": [
    "with open('filtered-bjn_Latn-ind_Latn') as fopen:\n",
    "    for l in fopen:\n",
    "        data = json.loads(l)\n",
    "        src = data[0]\n",
    "        tgt = data[1]\n",
    "\n",
    "        if random.random() >= test_percent:\n",
    "            fwrite = train\n",
    "        else:\n",
    "            fwrite = test\n",
    "\n",
    "        d = {\"translation\": {\"src\": src, \"tgt\": tgt, 'prefix': 'terjemah Banjar ke Indonesia: '}}\n",
    "        fwrite.write(f'{json.dumps(d)}\\n')\n",
    "\n",
    "        d = {\"translation\": {\"src\": tgt, \"tgt\": src, 'prefix': 'terjemah Indonesia ke Banjar: '}}\n",
    "        fwrite.write(f'{json.dumps(d)}\\n')"
   ]
  },
  {
   "cell_type": "code",
   "execution_count": 10,
   "metadata": {},
   "outputs": [],
   "source": [
    "with open('filtered-ind_Latn-jav_Latn') as fopen:\n",
    "    for l in fopen:\n",
    "        data = json.loads(l)\n",
    "        src = data[0]\n",
    "        tgt = data[1]\n",
    "\n",
    "        if random.random() >= test_percent:\n",
    "            fwrite = train\n",
    "        else:\n",
    "            fwrite = test\n",
    "\n",
    "        d = {\"translation\": {\"src\": src, \"tgt\": tgt, 'prefix': 'terjemah Indonesia ke Jawa: '}}\n",
    "        fwrite.write(f'{json.dumps(d)}\\n')\n",
    "\n",
    "        d = {\"translation\": {\"src\": tgt, \"tgt\": src, 'prefix': 'terjemah Jawa ke Indonesia: '}}\n",
    "        fwrite.write(f'{json.dumps(d)}\\n')"
   ]
  },
  {
   "cell_type": "code",
   "execution_count": 11,
   "metadata": {},
   "outputs": [],
   "source": [
    "train.close()\n",
    "test.close()"
   ]
  },
  {
   "cell_type": "code",
   "execution_count": 12,
   "metadata": {},
   "outputs": [
    {
     "name": "stdout",
     "output_type": "stream",
     "text": [
      "19472100 train-austronesian.json\r\n"
     ]
    }
   ],
   "source": [
    "!wc -l train-austronesian.json"
   ]
  },
  {
   "cell_type": "code",
   "execution_count": 13,
   "metadata": {},
   "outputs": [
    {
     "name": "stdout",
     "output_type": "stream",
     "text": [
      "195412 test-austronesian.json\r\n"
     ]
    }
   ],
   "source": [
    "!wc -l test-austronesian.json"
   ]
  },
  {
   "cell_type": "code",
   "execution_count": 14,
   "metadata": {},
   "outputs": [],
   "source": [
    "!shuf train-austronesian.json > shuffled-train-austronesian.json\n",
    "!shuf test-austronesian.json > shuffled-test-austronesian.json"
   ]
  },
  {
   "cell_type": "code",
   "execution_count": 15,
   "metadata": {},
   "outputs": [],
   "source": [
    "!head -n 10000 shuffled-test-austronesian.json > shuffled-test-austronesian-10k.json"
   ]
  },
  {
   "cell_type": "code",
   "execution_count": null,
   "metadata": {},
   "outputs": [],
   "source": []
  }
 ],
 "metadata": {
  "kernelspec": {
   "display_name": "Python 3 (ipykernel)",
   "language": "python",
   "name": "python3"
  },
  "language_info": {
   "codemirror_mode": {
    "name": "ipython",
    "version": 3
   },
   "file_extension": ".py",
   "mimetype": "text/x-python",
   "name": "python",
   "nbconvert_exporter": "python",
   "pygments_lexer": "ipython3",
   "version": "3.8.10"
  }
 },
 "nbformat": 4,
 "nbformat_minor": 4
}
