{
 "cells": [
  {
   "cell_type": "code",
   "execution_count": 1,
   "metadata": {},
   "outputs": [
    {
     "name": "stderr",
     "output_type": "stream",
     "text": [
      "/usr/local/lib/python3.6/dist-packages/sklearn/cross_validation.py:41: DeprecationWarning: This module was deprecated in version 0.18 in favor of the model_selection module into which all the refactored classes and functions are moved. Also note that the interface of the new CV iterators are different from that of this module. This module will be removed in 0.20.\n",
      "  \"This module will be removed in 0.20.\", DeprecationWarning)\n"
     ]
    }
   ],
   "source": [
    "import re\n",
    "import numpy as np\n",
    "import pandas as pd\n",
    "import collections\n",
    "from sklearn import metrics\n",
    "from sklearn.cross_validation import train_test_split\n",
    "from sklearn.feature_extraction.text import CountVectorizer\n",
    "from sklearn.preprocessing import LabelEncoder\n",
    "from unidecode import unidecode\n",
    "import tensorflow as tf\n",
    "import pandas as pd\n",
    "from tqdm import tqdm\n",
    "import time"
   ]
  },
  {
   "cell_type": "code",
   "execution_count": 2,
   "metadata": {},
   "outputs": [],
   "source": [
    "import json\n",
    "\n",
    "with open('tokenization.json') as fopen:\n",
    "    dataset = json.load(fopen)\n",
    "texts = dataset['texts']\n",
    "labels = dataset['labels']\n",
    "del dataset"
   ]
  },
  {
   "cell_type": "code",
   "execution_count": 3,
   "metadata": {},
   "outputs": [
    {
     "name": "stderr",
     "output_type": "stream",
     "text": [
      "100%|██████████| 420516/420516 [00:00<00:00, 1181458.31it/s]\n"
     ]
    }
   ],
   "source": [
    "x, y = [], []\n",
    "for i in tqdm(range(len(texts))):\n",
    "    s = ' '.join(texts[i])\n",
    "    if len(s) > 5:\n",
    "        x.append(s)\n",
    "        y.append(labels[i])"
   ]
  },
  {
   "cell_type": "code",
   "execution_count": 4,
   "metadata": {},
   "outputs": [],
   "source": [
    "bow_chars = CountVectorizer(ngram_range=(3, 5), analyzer='char_wb', max_features=300000).fit(x)\n",
    "delattr(bow_chars, 'stop_words_')"
   ]
  },
  {
   "cell_type": "code",
   "execution_count": 5,
   "metadata": {},
   "outputs": [
    {
     "data": {
      "text/plain": [
       "300000"
      ]
     },
     "execution_count": 5,
     "metadata": {},
     "output_type": "execute_result"
    }
   ],
   "source": [
    "feature_shape = bow_chars.transform(x).shape[1]\n",
    "feature_shape"
   ]
  },
  {
   "cell_type": "code",
   "execution_count": 6,
   "metadata": {},
   "outputs": [],
   "source": [
    "def convert_sparse_matrix_to_sparse_tensor(X):\n",
    "    coo = X.tocoo()\n",
    "    indices = np.mat([coo.row, coo.col]).transpose()\n",
    "    return tf.SparseTensorValue(indices, coo.col, coo.shape), tf.SparseTensorValue(indices, coo.data, coo.shape)"
   ]
  },
  {
   "cell_type": "code",
   "execution_count": 7,
   "metadata": {},
   "outputs": [],
   "source": [
    "class Model:\n",
    "    def __init__(self, output_size, vocab_size, learning_rate):\n",
    "        self.X = tf.sparse_placeholder(tf.int32)\n",
    "        self.W = tf.sparse_placeholder(tf.int32)\n",
    "        self.Y = tf.placeholder(tf.int32, [None])\n",
    "        embeddings = tf.Variable(tf.truncated_normal([vocab_size,128]))\n",
    "        embed = tf.nn.embedding_lookup_sparse(embeddings, self.X, self.W, combiner='mean')\n",
    "        self.logits = tf.layers.dense(embed, output_size)\n",
    "        self.cost = tf.reduce_mean(tf.nn.sparse_softmax_cross_entropy_with_logits(\n",
    "            logits = self.logits, labels = self.Y))\n",
    "        self.optimizer = tf.train.AdamOptimizer(learning_rate = learning_rate).minimize(self.cost)\n",
    "        correct_pred = tf.equal(tf.argmax(self.logits, 1,output_type=tf.int32), self.Y)\n",
    "        self.accuracy = tf.reduce_mean(tf.cast(correct_pred, tf.float32))"
   ]
  },
  {
   "cell_type": "code",
   "execution_count": 8,
   "metadata": {},
   "outputs": [
    {
     "name": "stderr",
     "output_type": "stream",
     "text": [
      "/usr/local/lib/python3.6/dist-packages/tensorflow/python/ops/gradients_impl.py:108: UserWarning: Converting sparse IndexedSlices to a dense Tensor of unknown shape. This may consume a large amount of memory.\n",
      "  \"Converting sparse IndexedSlices to a dense Tensor of unknown shape. \"\n"
     ]
    }
   ],
   "source": [
    "sess = tf.InteractiveSession()\n",
    "model = Model(6, feature_shape, 1e-4)\n",
    "sess.run(tf.global_variables_initializer())"
   ]
  },
  {
   "cell_type": "code",
   "execution_count": 9,
   "metadata": {},
   "outputs": [
    {
     "data": {
      "text/plain": [
       "'fast-text-char/model.ckpt'"
      ]
     },
     "execution_count": 9,
     "metadata": {},
     "output_type": "execute_result"
    }
   ],
   "source": [
    "saver = tf.train.Saver(tf.trainable_variables())\n",
    "saver.save(sess, 'fast-text-char/model.ckpt')"
   ]
  },
  {
   "cell_type": "code",
   "execution_count": 10,
   "metadata": {},
   "outputs": [],
   "source": [
    "vectors = bow_chars.transform(x)\n",
    "train_X, test_X, train_Y, test_Y = train_test_split(\n",
    "    vectors, y, test_size = 0.2\n",
    ")"
   ]
  },
  {
   "cell_type": "code",
   "execution_count": 11,
   "metadata": {},
   "outputs": [
    {
     "name": "stderr",
     "output_type": "stream",
     "text": [
      "train minibatch loop: 100%|██████████| 5604/5604 [03:53<00:00, 24.00it/s, accuracy=0.694, cost=0.995]\n",
      "test minibatch loop: 100%|██████████| 1401/1401 [00:04<00:00, 327.97it/s, accuracy=0.873, cost=0.72] \n",
      "train minibatch loop:   0%|          | 3/5604 [00:00<03:53, 23.97it/s, accuracy=0.8, cost=0.963]  "
     ]
    },
    {
     "name": "stdout",
     "output_type": "stream",
     "text": [
      "epoch: 0, pass acc: 0.000000, current acc: 0.734738\n",
      "time taken: 237.73985719680786\n",
      "epoch: 0, training loss: 1.322986, training acc: 0.597243, valid loss: 0.929151, valid acc: 0.734738\n",
      "\n"
     ]
    },
    {
     "name": "stderr",
     "output_type": "stream",
     "text": [
      "train minibatch loop: 100%|██████████| 5604/5604 [03:53<00:00, 24.01it/s, accuracy=0.722, cost=0.741]\n",
      "test minibatch loop: 100%|██████████| 1401/1401 [00:04<00:00, 327.22it/s, accuracy=0.891, cost=0.481]\n",
      "train minibatch loop:   0%|          | 3/5604 [00:00<03:53, 23.95it/s, accuracy=0.817, cost=0.629]"
     ]
    },
    {
     "name": "stdout",
     "output_type": "stream",
     "text": [
      "epoch: 1, pass acc: 0.734738, current acc: 0.789286\n",
      "time taken: 237.64500761032104\n",
      "epoch: 1, training loss: 0.761487, training acc: 0.772427, valid loss: 0.667851, valid acc: 0.789286\n",
      "\n"
     ]
    },
    {
     "name": "stderr",
     "output_type": "stream",
     "text": [
      "train minibatch loop: 100%|██████████| 5604/5604 [03:53<00:00, 24.03it/s, accuracy=0.722, cost=0.635]\n",
      "test minibatch loop: 100%|██████████| 1401/1401 [00:04<00:00, 326.99it/s, accuracy=0.891, cost=0.445]\n",
      "train minibatch loop:   0%|          | 3/5604 [00:00<03:53, 24.02it/s, accuracy=0.85, cost=0.527]"
     ]
    },
    {
     "name": "stdout",
     "output_type": "stream",
     "text": [
      "epoch: 2, pass acc: 0.789286, current acc: 0.806228\n",
      "time taken: 237.62980842590332\n",
      "epoch: 2, training loss: 0.616760, training acc: 0.803621, valid loss: 0.595524, valid acc: 0.806228\n",
      "\n"
     ]
    },
    {
     "name": "stderr",
     "output_type": "stream",
     "text": [
      "train minibatch loop: 100%|██████████| 5604/5604 [03:53<00:00, 23.97it/s, accuracy=0.722, cost=0.571]\n",
      "test minibatch loop: 100%|██████████| 1401/1401 [00:04<00:00, 327.52it/s, accuracy=0.891, cost=0.441]\n",
      "train minibatch loop:   0%|          | 3/5604 [00:00<03:52, 24.14it/s, accuracy=0.833, cost=0.488]"
     ]
    },
    {
     "name": "stdout",
     "output_type": "stream",
     "text": [
      "epoch: 3, pass acc: 0.806228, current acc: 0.813711\n",
      "time taken: 237.60289216041565\n",
      "epoch: 3, training loss: 0.563545, training acc: 0.816310, valid loss: 0.562587, valid acc: 0.813711\n",
      "\n"
     ]
    },
    {
     "name": "stderr",
     "output_type": "stream",
     "text": [
      "train minibatch loop: 100%|██████████| 5604/5604 [03:53<00:00, 24.04it/s, accuracy=0.75, cost=0.532] \n",
      "test minibatch loop: 100%|██████████| 1401/1401 [00:04<00:00, 325.83it/s, accuracy=0.873, cost=0.444]\n",
      "train minibatch loop:   0%|          | 3/5604 [00:00<03:53, 24.03it/s, accuracy=0.85, cost=0.474] "
     ]
    },
    {
     "name": "stdout",
     "output_type": "stream",
     "text": [
      "epoch: 4, pass acc: 0.813711, current acc: 0.816565\n",
      "time taken: 237.62503623962402\n",
      "epoch: 4, training loss: 0.534294, training acc: 0.823462, valid loss: 0.543958, valid acc: 0.816565\n",
      "\n"
     ]
    },
    {
     "name": "stderr",
     "output_type": "stream",
     "text": [
      "train minibatch loop: 100%|██████████| 5604/5604 [03:53<00:00, 24.03it/s, accuracy=0.75, cost=0.506] \n",
      "test minibatch loop: 100%|██████████| 1401/1401 [00:04<00:00, 329.01it/s, accuracy=0.873, cost=0.447]\n",
      "train minibatch loop:   0%|          | 3/5604 [00:00<03:54, 23.84it/s, accuracy=0.85, cost=0.47]"
     ]
    },
    {
     "name": "stdout",
     "output_type": "stream",
     "text": [
      "epoch: 5, pass acc: 0.816565, current acc: 0.818671\n",
      "time taken: 237.59084272384644\n",
      "epoch: 5, training loss: 0.515161, training acc: 0.828170, valid loss: 0.532342, valid acc: 0.818671\n",
      "\n"
     ]
    },
    {
     "name": "stderr",
     "output_type": "stream",
     "text": [
      "train minibatch loop: 100%|██████████| 5604/5604 [03:53<00:00, 24.07it/s, accuracy=0.75, cost=0.488] \n",
      "test minibatch loop: 100%|██████████| 1401/1401 [00:04<00:00, 324.22it/s, accuracy=0.873, cost=0.451]\n",
      "train minibatch loop:   0%|          | 3/5604 [00:00<03:54, 23.88it/s, accuracy=0.85, cost=0.471] "
     ]
    },
    {
     "name": "stdout",
     "output_type": "stream",
     "text": [
      "epoch: 6, pass acc: 0.818671, current acc: 0.819837\n",
      "time taken: 237.73154592514038\n",
      "epoch: 6, training loss: 0.501388, training acc: 0.831641, valid loss: 0.524694, valid acc: 0.819837\n",
      "\n"
     ]
    },
    {
     "name": "stderr",
     "output_type": "stream",
     "text": [
      "train minibatch loop: 100%|██████████| 5604/5604 [03:53<00:00, 24.03it/s, accuracy=0.75, cost=0.473] \n",
      "test minibatch loop: 100%|██████████| 1401/1401 [00:04<00:00, 327.92it/s, accuracy=0.855, cost=0.454]\n",
      "train minibatch loop:   0%|          | 3/5604 [00:00<03:54, 23.92it/s, accuracy=0.85, cost=0.473] "
     ]
    },
    {
     "name": "stdout",
     "output_type": "stream",
     "text": [
      "time taken: 237.7102997303009\n",
      "epoch: 7, training loss: 0.490820, training acc: 0.834229, valid loss: 0.519509, valid acc: 0.819788\n",
      "\n"
     ]
    },
    {
     "name": "stderr",
     "output_type": "stream",
     "text": [
      "train minibatch loop: 100%|██████████| 5604/5604 [03:53<00:00, 24.06it/s, accuracy=0.75, cost=0.462] \n",
      "test minibatch loop: 100%|██████████| 1401/1401 [00:04<00:00, 327.81it/s, accuracy=0.855, cost=0.457]\n",
      "train minibatch loop:   0%|          | 3/5604 [00:00<03:53, 24.01it/s, accuracy=0.85, cost=0.475] "
     ]
    },
    {
     "name": "stdout",
     "output_type": "stream",
     "text": [
      "time taken: 237.7209813594818\n",
      "epoch: 8, training loss: 0.482330, training acc: 0.836144, valid loss: 0.515958, valid acc: 0.819728\n",
      "\n"
     ]
    },
    {
     "name": "stderr",
     "output_type": "stream",
     "text": [
      "train minibatch loop: 100%|██████████| 5604/5604 [03:53<00:00, 24.07it/s, accuracy=0.75, cost=0.452] \n",
      "test minibatch loop: 100%|██████████| 1401/1401 [00:04<00:00, 328.67it/s, accuracy=0.855, cost=0.459]"
     ]
    },
    {
     "name": "stdout",
     "output_type": "stream",
     "text": [
      "time taken: 237.59545421600342\n",
      "epoch: 9, training loss: 0.475276, training acc: 0.837860, valid loss: 0.513551, valid acc: 0.819514\n",
      "\n",
      "break epoch:10\n",
      "\n"
     ]
    },
    {
     "name": "stderr",
     "output_type": "stream",
     "text": [
      "\n"
     ]
    }
   ],
   "source": [
    "from tqdm import tqdm\n",
    "import time\n",
    "\n",
    "batch_size = 60\n",
    "EARLY_STOPPING, CURRENT_CHECKPOINT, CURRENT_ACC, EPOCH = 3, 0, 0, 0\n",
    "\n",
    "while True:\n",
    "    lasttime = time.time()\n",
    "    if CURRENT_CHECKPOINT == EARLY_STOPPING:\n",
    "        print('break epoch:%d\\n' % (EPOCH))\n",
    "        break\n",
    "\n",
    "    train_acc, train_loss, test_acc, test_loss = 0, 0, 0, 0\n",
    "    pbar = tqdm(\n",
    "        range(0, train_X.shape[0], batch_size), desc = 'train minibatch loop'\n",
    "    )\n",
    "    for i in pbar:\n",
    "        batch_x = convert_sparse_matrix_to_sparse_tensor(train_X[i : min(i + batch_size, train_X.shape[0])])\n",
    "        batch_y = train_Y[i : min(i + batch_size, train_X.shape[0])]\n",
    "        acc, cost, _ = sess.run(\n",
    "            [model.accuracy, model.cost, model.optimizer],\n",
    "            feed_dict = {\n",
    "                model.Y: batch_y,\n",
    "                model.X: batch_x[0],\n",
    "                model.W: batch_x[1],\n",
    "            },\n",
    "        )\n",
    "        assert not np.isnan(cost)\n",
    "        train_loss += cost\n",
    "        train_acc += acc\n",
    "        pbar.set_postfix(cost = cost, accuracy = acc)\n",
    "\n",
    "    pbar = tqdm(range(0, test_X.shape[0], batch_size), desc = 'test minibatch loop')\n",
    "    for i in pbar:\n",
    "        batch_x = convert_sparse_matrix_to_sparse_tensor(test_X[i : min(i + batch_size, test_X.shape[0])])\n",
    "        batch_y = test_Y[i : min(i + batch_size, test_X.shape[0])]\n",
    "        acc, cost = sess.run(\n",
    "            [model.accuracy, model.cost],\n",
    "            feed_dict = {\n",
    "                model.Y: batch_y,\n",
    "                model.X: batch_x[0],\n",
    "                model.W: batch_x[1],\n",
    "            },\n",
    "        )\n",
    "        test_loss += cost\n",
    "        test_acc += acc\n",
    "        pbar.set_postfix(cost = cost, accuracy = acc)\n",
    "\n",
    "    train_loss /= train_X.shape[0] / batch_size\n",
    "    train_acc /= train_X.shape[0] / batch_size\n",
    "    test_loss /= test_X.shape[0] / batch_size\n",
    "    test_acc /= test_X.shape[0] / batch_size\n",
    "\n",
    "    if test_acc > CURRENT_ACC:\n",
    "        print(\n",
    "            'epoch: %d, pass acc: %f, current acc: %f'\n",
    "            % (EPOCH, CURRENT_ACC, test_acc)\n",
    "        )\n",
    "        CURRENT_ACC = test_acc\n",
    "        CURRENT_CHECKPOINT = 0\n",
    "    else:\n",
    "        CURRENT_CHECKPOINT += 1\n",
    "\n",
    "    print('time taken:', time.time() - lasttime)\n",
    "    print(\n",
    "        'epoch: %d, training loss: %f, training acc: %f, valid loss: %f, valid acc: %f\\n'\n",
    "        % (EPOCH, train_loss, train_acc, test_loss, test_acc)\n",
    "    )\n",
    "    EPOCH += 1"
   ]
  },
  {
   "cell_type": "code",
   "execution_count": 13,
   "metadata": {},
   "outputs": [
    {
     "name": "stderr",
     "output_type": "stream",
     "text": [
      "\n",
      "validation minibatch loop:   0%|          | 0/1401 [00:00<?, ?it/s]\u001b[A\n",
      "validation minibatch loop:   2%|▏         | 34/1401 [00:00<00:04, 334.49it/s]\u001b[A\n",
      "validation minibatch loop:   6%|▌         | 87/1401 [00:00<00:03, 375.88it/s]\u001b[A\n",
      "validation minibatch loop:  10%|█         | 141/1401 [00:00<00:03, 411.93it/s]\u001b[A\n",
      "validation minibatch loop:  14%|█▍        | 195/1401 [00:00<00:02, 442.18it/s]\u001b[A\n",
      "validation minibatch loop:  18%|█▊        | 248/1401 [00:00<00:02, 464.12it/s]\u001b[A\n",
      "validation minibatch loop:  22%|██▏       | 302/1401 [00:00<00:02, 482.69it/s]\u001b[A\n",
      "validation minibatch loop:  25%|██▌       | 355/1401 [00:00<00:02, 495.09it/s]\u001b[A\n",
      "validation minibatch loop:  29%|██▉       | 408/1401 [00:00<00:01, 504.48it/s]\u001b[A\n",
      "validation minibatch loop:  33%|███▎      | 461/1401 [00:00<00:01, 510.29it/s]\u001b[A\n",
      "validation minibatch loop:  37%|███▋      | 515/1401 [00:01<00:01, 516.11it/s]\u001b[A\n",
      "validation minibatch loop:  41%|████      | 568/1401 [00:01<00:01, 518.58it/s]\u001b[A\n",
      "validation minibatch loop:  44%|████▍     | 621/1401 [00:01<00:01, 520.75it/s]\u001b[A\n",
      "validation minibatch loop:  48%|████▊     | 674/1401 [00:01<00:01, 523.43it/s]\u001b[A\n",
      "validation minibatch loop:  52%|█████▏    | 728/1401 [00:01<00:01, 525.70it/s]\u001b[A\n",
      "validation minibatch loop:  56%|█████▌    | 781/1401 [00:01<00:01, 526.82it/s]\u001b[A\n",
      "validation minibatch loop:  60%|█████▉    | 834/1401 [00:01<00:01, 527.14it/s]\u001b[A\n",
      "validation minibatch loop:  63%|██████▎   | 887/1401 [00:01<00:00, 526.47it/s]\u001b[A\n",
      "validation minibatch loop:  67%|██████▋   | 940/1401 [00:01<00:00, 526.62it/s]\u001b[A\n",
      "validation minibatch loop:  71%|███████   | 994/1401 [00:01<00:00, 528.45it/s]\u001b[A\n",
      "validation minibatch loop:  75%|███████▍  | 1048/1401 [00:02<00:00, 529.90it/s]\u001b[A\n",
      "validation minibatch loop:  79%|███████▊  | 1101/1401 [00:02<00:00, 529.64it/s]\u001b[A\n",
      "validation minibatch loop:  82%|████████▏ | 1154/1401 [00:02<00:00, 526.50it/s]\u001b[A\n",
      "validation minibatch loop:  86%|████████▌ | 1207/1401 [00:02<00:00, 526.51it/s]\u001b[A\n",
      "validation minibatch loop:  90%|████████▉ | 1260/1401 [00:02<00:00, 526.62it/s]\u001b[A\n",
      "validation minibatch loop:  94%|█████████▎| 1313/1401 [00:02<00:00, 524.74it/s]\u001b[A\n",
      "validation minibatch loop:  98%|█████████▊| 1367/1401 [00:02<00:00, 526.70it/s]\u001b[A\n",
      "validation minibatch loop: 100%|██████████| 1401/1401 [00:02<00:00, 520.41it/s]\u001b[A"
     ]
    }
   ],
   "source": [
    "real_Y, predict_Y = [], []\n",
    "\n",
    "pbar = tqdm(\n",
    "    range(0, test_X.shape[0], batch_size), desc = 'validation minibatch loop'\n",
    ")\n",
    "for i in pbar:\n",
    "    batch_x = convert_sparse_matrix_to_sparse_tensor(test_X[i : min(i + batch_size, test_X.shape[0])])\n",
    "    batch_y = test_Y[i : min(i + batch_size, test_X.shape[0])]\n",
    "    predict_Y += np.argmax(\n",
    "        sess.run(\n",
    "            model.logits, feed_dict = {model.X: batch_x[0], model.W: batch_x[1], model.Y: batch_y}\n",
    "        ),\n",
    "        1,\n",
    "    ).tolist()\n",
    "    real_Y += batch_y"
   ]
  },
  {
   "cell_type": "code",
   "execution_count": 14,
   "metadata": {},
   "outputs": [
    {
     "name": "stdout",
     "output_type": "stream",
     "text": [
      "             precision    recall  f1-score   support\n",
      "\n",
      "      anger       0.89      0.90      0.90     15061\n",
      "       fear       0.83      0.83      0.83      7552\n",
      "        joy       0.87      0.89      0.88     16575\n",
      "       love       0.89      0.90      0.90     15635\n",
      "    sadness       0.72      0.78      0.75     19640\n",
      "   surprise       0.67      0.53      0.59      9592\n",
      "\n",
      "avg / total       0.82      0.82      0.82     84055\n",
      "\n"
     ]
    }
   ],
   "source": [
    "print(\n",
    "    metrics.classification_report(\n",
    "        real_Y, predict_Y, target_names = ['anger', 'fear', 'joy', 'love', 'sadness', 'surprise']\n",
    "    )\n",
    ")"
   ]
  },
  {
   "cell_type": "code",
   "execution_count": 15,
   "metadata": {},
   "outputs": [
    {
     "data": {
      "text/plain": [
       "'fast-text-char/model.ckpt'"
      ]
     },
     "execution_count": 15,
     "metadata": {},
     "output_type": "execute_result"
    }
   ],
   "source": [
    "saver.save(sess, 'fast-text-char/model.ckpt')"
   ]
  },
  {
   "cell_type": "code",
   "execution_count": 16,
   "metadata": {},
   "outputs": [],
   "source": [
    "import pickle\n",
    "with open('vectorizer-sparse-emotion.pkl','wb') as fopen:\n",
    "    pickle.dump(bow_chars, fopen)"
   ]
  },
  {
   "cell_type": "code",
   "execution_count": null,
   "metadata": {},
   "outputs": [],
   "source": []
  }
 ],
 "metadata": {
  "kernelspec": {
   "display_name": "Python 3",
   "language": "python",
   "name": "python3"
  },
  "language_info": {
   "codemirror_mode": {
    "name": "ipython",
    "version": 3
   },
   "file_extension": ".py",
   "mimetype": "text/x-python",
   "name": "python",
   "nbconvert_exporter": "python",
   "pygments_lexer": "ipython3",
   "version": "3.6.8"
  }
 },
 "nbformat": 4,
 "nbformat_minor": 2
}
