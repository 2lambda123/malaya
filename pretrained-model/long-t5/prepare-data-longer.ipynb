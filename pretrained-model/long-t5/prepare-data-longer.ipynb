{
 "cells": [
  {
   "cell_type": "code",
   "execution_count": 1,
   "metadata": {},
   "outputs": [],
   "source": [
    "# !wget https://f000.backblazeb2.com/file/malay-dataset/train-ms-en.tar.gz\n",
    "# !tar -zxf train-ms-en.tar.gz\n",
    "# !rm train-ms-en.tar.gz"
   ]
  },
  {
   "cell_type": "code",
   "execution_count": 2,
   "metadata": {},
   "outputs": [],
   "source": [
    "# !wget https://f000.backblazeb2.com/file/malay-dataset/train-en-ms.tar.gz\n",
    "# !tar -zxf train-en-ms.tar.gz\n",
    "# !rm train-en-ms.tar.gz"
   ]
  },
  {
   "cell_type": "code",
   "execution_count": 3,
   "metadata": {},
   "outputs": [],
   "source": [
    "# !wget https://f000.backblazeb2.com/file/malay-dataset/train-ms-en-long-text.tar.gz\n",
    "# !tar -zxf train-ms-en-long-text.tar.gz\n",
    "# !rm train-ms-en-long-text.tar.gz"
   ]
  },
  {
   "cell_type": "code",
   "execution_count": 4,
   "metadata": {},
   "outputs": [
    {
     "name": "stdout",
     "output_type": "stream",
     "text": [
      "left.txt  right.txt\r\n"
     ]
    }
   ],
   "source": [
    "!ls train-long-text"
   ]
  },
  {
   "cell_type": "code",
   "execution_count": 5,
   "metadata": {},
   "outputs": [
    {
     "name": "stdout",
     "output_type": "stream",
     "text": [
      "12, Satu pihak berlaku sebagai pengguna jika. Seksyen 11 memberikan sedikit panduan tetapi perkembangan yang banyak berlaku di \"common law\". Jaduan 2 memberikan garis panduan untuk 6(3), 7(3), 7(4). Common Law.\r\n",
      "al-Baqarah [ 2 ]: 186 ) Hadith ke-6 dari al-Arba'En adEthan / Nama Bab : Simbol Kecerdasan Daripada AbE Ya'lE ShaddEd bin Aws , dia berkata : Rasul s.a.w . bersabda : \" Orang yang cerdas ialah yang mampu menundukkan dirinya & beramal untuk kehidupan setelah mati . Sementara orang yang lemah adalah yang mengikuti hawa nafsunya lalu berangan-angan terhadap Allah \".\r\n"
     ]
    }
   ],
   "source": [
    "!head -n 2 train-long-text/left.txt"
   ]
  },
  {
   "cell_type": "code",
   "execution_count": 6,
   "metadata": {},
   "outputs": [
    {
     "name": "stdout",
     "output_type": "stream",
     "text": [
      "12, One party occurs as a user if. Section 11 provides some guidance but many developments in \"common law\". Schedule 2 provides guidelines for 6 (3), 7 (3), 7 (4). Common Law.\r\n",
      "al-Baqarah [2]: 186) 6th Hadith from al-Arba'En adEthan / Chapter Name: Symbol of Intelligence From AbE Ya'lE ShaddEd bin Aws, he said: Rasul s.a.w. said: \"The intelligent person is the one who is able to subdue himself & do good deeds for life after death. While the weak person is the one who follows his lust and then daydreams about God\".\r\n"
     ]
    }
   ],
   "source": [
    "!head -n 2 train-long-text/right.txt"
   ]
  },
  {
   "cell_type": "code",
   "execution_count": 7,
   "metadata": {},
   "outputs": [
    {
     "name": "stdout",
     "output_type": "stream",
     "text": [
      "left.txt  right.txt\r\n"
     ]
    }
   ],
   "source": [
    "!ls train"
   ]
  },
  {
   "cell_type": "code",
   "execution_count": 8,
   "metadata": {
    "scrolled": true
   },
   "outputs": [
    {
     "name": "stdout",
     "output_type": "stream",
     "text": [
      "left.txt  right.txt\r\n"
     ]
    }
   ],
   "source": [
    "!ls train-en"
   ]
  },
  {
   "cell_type": "code",
   "execution_count": 9,
   "metadata": {},
   "outputs": [],
   "source": [
    "from tqdm import tqdm\n",
    "import json"
   ]
  },
  {
   "cell_type": "code",
   "execution_count": 10,
   "metadata": {
    "scrolled": true
   },
   "outputs": [
    {
     "name": "stderr",
     "output_type": "stream",
     "text": [
      "100%|██████████████████████████████████████████████████████████████████████████████████████| 3712555/3712555 [00:13<00:00, 282059.80it/s]\n"
     ]
    }
   ],
   "source": [
    "with open('train-longer.json', 'w') as fopen_jsonl:\n",
    "    with open('train/left.txt') as fopen:\n",
    "        left = fopen.read().split('\\n')\n",
    "\n",
    "    with open('train/right.txt') as fopen:\n",
    "        right = fopen.read().split('\\n')\n",
    "    \n",
    "    for i in tqdm(range(len(left))):\n",
    "        if len(left[i]) and len(right[i]) and len(left[i].split()) < 1024 and len(right[i].split()) < 1024:\n",
    "            d = {\"translation\": {\"src\": left[i], \"tgt\": right[i], 'prefix': 'terjemah Melayu ke Inggeris: '}}\n",
    "            fopen_jsonl.write(f'{json.dumps(d)}\\n')"
   ]
  },
  {
   "cell_type": "code",
   "execution_count": 11,
   "metadata": {},
   "outputs": [
    {
     "name": "stderr",
     "output_type": "stream",
     "text": [
      "100%|██████████████████████████████████████████████████████████████████████████████████████| 3807616/3807616 [00:17<00:00, 214452.05it/s]\n"
     ]
    }
   ],
   "source": [
    "with open('train-longer.json', 'a') as fopen_jsonl:\n",
    "    with open('train-en/left.txt') as fopen:\n",
    "        left = fopen.read().split('\\n')\n",
    "\n",
    "    with open('train-en/right.txt') as fopen:\n",
    "        right = fopen.read().split('\\n')\n",
    "    \n",
    "    for i in tqdm(range(len(left))):\n",
    "        if len(left[i]) and len(right[i]) and len(left[i].split()) < 1024 and len(right[i].split()) < 1024:\n",
    "            d = {\"translation\": {\"src\": left[i], \"tgt\": right[i], 'prefix': 'terjemah Inggeris ke Melayu: '}}\n",
    "            fopen_jsonl.write(f'{json.dumps(d)}\\n')"
   ]
  },
  {
   "cell_type": "code",
   "execution_count": 12,
   "metadata": {},
   "outputs": [
    {
     "name": "stderr",
     "output_type": "stream",
     "text": [
      "100%|███████████████████████████████████████████████████████████████████████████████████████| 1134272/1134272 [00:17<00:00, 65081.40it/s]\n"
     ]
    }
   ],
   "source": [
    "with open('train-longer.json', 'a') as fopen_jsonl:\n",
    "    with open('train-long-text/left.txt') as fopen:\n",
    "        left = fopen.read().split('\\n')\n",
    "\n",
    "    with open('train-long-text/right.txt') as fopen:\n",
    "        right = fopen.read().split('\\n')\n",
    "    \n",
    "    for i in tqdm(range(len(left))):\n",
    "        if len(left[i]) and len(right[i]) and len(left[i].split()) < 1024 and len(right[i].split()) < 1024:\n",
    "            d = {\"translation\": {\"src\": left[i], \"tgt\": right[i], 'prefix': 'terjemah Melayu ke Inggeris: '}}\n",
    "            fopen_jsonl.write(f'{json.dumps(d)}\\n')\n",
    "            d = {\"translation\": {\"src\": right[i], \"tgt\": left[i], 'prefix': 'terjemah Inggeris ke Melayu: '}}\n",
    "            fopen_jsonl.write(f'{json.dumps(d)}\\n')"
   ]
  },
  {
   "cell_type": "code",
   "execution_count": 13,
   "metadata": {},
   "outputs": [
    {
     "name": "stderr",
     "output_type": "stream",
     "text": [
      "100%|████████████████████████████████████████████████████████████████████████████████████| 11786274/11786274 [01:02<00:00, 189565.72it/s]\n"
     ]
    }
   ],
   "source": [
    "with open('train-longer.json', 'a') as fopen_jsonl:\n",
    "    with open('eng_Latn-zsm_Latn.left') as fopen:\n",
    "        left = fopen.read().split('\\n')\n",
    "    \n",
    "    with open('eng_Latn-zsm_Latn.right') as fopen:\n",
    "        right = fopen.read().split('\\n')\n",
    "        \n",
    "    for i in tqdm(range(len(left))):\n",
    "        if len(left[i]) and len(right[i]) and len(left[i].split()) < 1024 and len(right[i].split()) < 1024:\n",
    "            d = {\"translation\": {\"src\": left[i], \"tgt\": right[i], 'prefix': 'terjemah Inggeris ke Melayu: '}}\n",
    "            fopen_jsonl.write(f'{json.dumps(d)}\\n')\n",
    "            d = {\"translation\": {\"src\": right[i], \"tgt\": left[i], 'prefix': 'terjemah Melayu ke Inggeris: '}}\n",
    "            fopen_jsonl.write(f'{json.dumps(d)}\\n')"
   ]
  },
  {
   "cell_type": "code",
   "execution_count": 14,
   "metadata": {},
   "outputs": [
    {
     "name": "stderr",
     "output_type": "stream",
     "text": [
      "100%|██████████████████████████████████████████████████████████████████████████████████████████████| 998/998 [00:00<00:00, 165216.11it/s]\n"
     ]
    }
   ],
   "source": [
    "with open('test-longer.json', 'w') as fopen_jsonl:\n",
    "    with open('eng_Latn.dev') as fopen:\n",
    "        left = fopen.read().split('\\n')\n",
    "    \n",
    "    with open('zsm_Latn.dev') as fopen:\n",
    "        right = fopen.read().split('\\n')\n",
    "        \n",
    "    for i in tqdm(range(len(left))):\n",
    "        if len(left[i]) and len(right[i]) and len(left[i].split()) < 1024 and len(right[i].split()) < 1024:\n",
    "            d = {\"translation\": {\"src\": left[i], \"tgt\": right[i], 'prefix': 'terjemah Inggeris ke Melayu: '}}\n",
    "            fopen_jsonl.write(f'{json.dumps(d)}\\n')\n",
    "            d = {\"translation\": {\"src\": right[i], \"tgt\": left[i], 'prefix': 'terjemah Melayu ke Inggeris: '}}\n",
    "            fopen_jsonl.write(f'{json.dumps(d)}\\n')"
   ]
  },
  {
   "cell_type": "code",
   "execution_count": 15,
   "metadata": {},
   "outputs": [
    {
     "data": {
      "text/plain": [
       "(43, 39)"
      ]
     },
     "execution_count": 15,
     "metadata": {},
     "output_type": "execute_result"
    }
   ],
   "source": [
    "len(left[0].split()), len(right[0].split())"
   ]
  }
 ],
 "metadata": {
  "kernelspec": {
   "display_name": "Python 3 (ipykernel)",
   "language": "python",
   "name": "python3"
  },
  "language_info": {
   "codemirror_mode": {
    "name": "ipython",
    "version": 3
   },
   "file_extension": ".py",
   "mimetype": "text/x-python",
   "name": "python",
   "nbconvert_exporter": "python",
   "pygments_lexer": "ipython3",
   "version": "3.8.10"
  }
 },
 "nbformat": 4,
 "nbformat_minor": 4
}
