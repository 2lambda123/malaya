{
 "cells": [
  {
   "cell_type": "markdown",
   "metadata": {},
   "source": [
    "# Entities Recognition"
   ]
  },
  {
   "cell_type": "markdown",
   "metadata": {},
   "source": [
    "<div class=\"alert alert-info\">\n",
    "\n",
    "This tutorial is available as an IPython notebook at [Malaya/example/entities](https://github.com/huseinzol05/Malaya/tree/master/example/entities).\n",
    "    \n",
    "</div>"
   ]
  },
  {
   "cell_type": "markdown",
   "metadata": {},
   "source": [
    "<div class=\"alert alert-warning\">\n",
    "\n",
    "This module only trained on standard language structure, so it is not save to use it for local language structure.\n",
    "    \n",
    "</div>"
   ]
  },
  {
   "cell_type": "code",
   "execution_count": 1,
   "metadata": {},
   "outputs": [
    {
     "name": "stdout",
     "output_type": "stream",
     "text": [
      "CPU times: user 6.33 s, sys: 1.4 s, total: 7.73 s\n",
      "Wall time: 9.25 s\n"
     ]
    }
   ],
   "source": [
    "%%time\n",
    "import malaya"
   ]
  },
  {
   "cell_type": "markdown",
   "metadata": {},
   "source": [
    "### Models accuracy\n",
    "\n",
    "We use `sklearn.metrics.classification_report` for accuracy reporting, check at https://malaya.readthedocs.io/en/latest/models-accuracy.html#entities-recognition and https://malaya.readthedocs.io/en/latest/models-accuracy.html#entities-recognition-ontonotes5"
   ]
  },
  {
   "cell_type": "markdown",
   "metadata": {},
   "source": [
    "### Describe supported entities"
   ]
  },
  {
   "cell_type": "code",
   "execution_count": 2,
   "metadata": {
    "scrolled": true
   },
   "outputs": [
    {
     "data": {
      "text/html": [
       "<div>\n",
       "<style scoped>\n",
       "    .dataframe tbody tr th:only-of-type {\n",
       "        vertical-align: middle;\n",
       "    }\n",
       "\n",
       "    .dataframe tbody tr th {\n",
       "        vertical-align: top;\n",
       "    }\n",
       "\n",
       "    .dataframe thead th {\n",
       "        text-align: right;\n",
       "    }\n",
       "</style>\n",
       "<table border=\"1\" class=\"dataframe\">\n",
       "  <thead>\n",
       "    <tr style=\"text-align: right;\">\n",
       "      <th></th>\n",
       "      <th>Tag</th>\n",
       "      <th>Description</th>\n",
       "    </tr>\n",
       "  </thead>\n",
       "  <tbody>\n",
       "    <tr>\n",
       "      <th>0</th>\n",
       "      <td>OTHER</td>\n",
       "      <td>other</td>\n",
       "    </tr>\n",
       "    <tr>\n",
       "      <th>1</th>\n",
       "      <td>law</td>\n",
       "      <td>law, regulation, related law documents, documents, etc</td>\n",
       "    </tr>\n",
       "    <tr>\n",
       "      <th>2</th>\n",
       "      <td>location</td>\n",
       "      <td>location, place</td>\n",
       "    </tr>\n",
       "    <tr>\n",
       "      <th>3</th>\n",
       "      <td>organization</td>\n",
       "      <td>organization, company, government, facilities, etc</td>\n",
       "    </tr>\n",
       "    <tr>\n",
       "      <th>4</th>\n",
       "      <td>person</td>\n",
       "      <td>person, group of people, believes, unique arts (eg; food, drink), etc</td>\n",
       "    </tr>\n",
       "    <tr>\n",
       "      <th>5</th>\n",
       "      <td>quantity</td>\n",
       "      <td>numbers, quantity</td>\n",
       "    </tr>\n",
       "    <tr>\n",
       "      <th>6</th>\n",
       "      <td>time</td>\n",
       "      <td>date, day, time, etc</td>\n",
       "    </tr>\n",
       "    <tr>\n",
       "      <th>7</th>\n",
       "      <td>event</td>\n",
       "      <td>unique event happened, etc</td>\n",
       "    </tr>\n",
       "  </tbody>\n",
       "</table>\n",
       "</div>"
      ],
      "text/plain": [
       "            Tag  \\\n",
       "0  OTHER          \n",
       "1  law            \n",
       "2  location       \n",
       "3  organization   \n",
       "4  person         \n",
       "5  quantity       \n",
       "6  time           \n",
       "7  event          \n",
       "\n",
       "                                                             Description  \n",
       "0  other                                                                  \n",
       "1  law, regulation, related law documents, documents, etc                 \n",
       "2  location, place                                                        \n",
       "3  organization, company, government, facilities, etc                     \n",
       "4  person, group of people, believes, unique arts (eg; food, drink), etc  \n",
       "5  numbers, quantity                                                      \n",
       "6  date, day, time, etc                                                   \n",
       "7  unique event happened, etc                                             "
      ]
     },
     "execution_count": 2,
     "metadata": {},
     "output_type": "execute_result"
    }
   ],
   "source": [
    "import pandas as pd\n",
    "pd.set_option('display.max_colwidth', -1)\n",
    "malaya.entity.describe()"
   ]
  },
  {
   "cell_type": "markdown",
   "metadata": {},
   "source": [
    "### Describe supported Ontonotes 5 entities"
   ]
  },
  {
   "cell_type": "code",
   "execution_count": 3,
   "metadata": {},
   "outputs": [
    {
     "data": {
      "text/html": [
       "<div>\n",
       "<style scoped>\n",
       "    .dataframe tbody tr th:only-of-type {\n",
       "        vertical-align: middle;\n",
       "    }\n",
       "\n",
       "    .dataframe tbody tr th {\n",
       "        vertical-align: top;\n",
       "    }\n",
       "\n",
       "    .dataframe thead th {\n",
       "        text-align: right;\n",
       "    }\n",
       "</style>\n",
       "<table border=\"1\" class=\"dataframe\">\n",
       "  <thead>\n",
       "    <tr style=\"text-align: right;\">\n",
       "      <th></th>\n",
       "      <th>Tag</th>\n",
       "      <th>Description</th>\n",
       "    </tr>\n",
       "  </thead>\n",
       "  <tbody>\n",
       "    <tr>\n",
       "      <th>0</th>\n",
       "      <td>OTHER</td>\n",
       "      <td>other</td>\n",
       "    </tr>\n",
       "    <tr>\n",
       "      <th>1</th>\n",
       "      <td>ADDRESS</td>\n",
       "      <td>Address of physical location.</td>\n",
       "    </tr>\n",
       "    <tr>\n",
       "      <th>2</th>\n",
       "      <td>PERSON</td>\n",
       "      <td>People, including fictional.</td>\n",
       "    </tr>\n",
       "    <tr>\n",
       "      <th>3</th>\n",
       "      <td>NORP</td>\n",
       "      <td>Nationalities or religious or political groups.</td>\n",
       "    </tr>\n",
       "    <tr>\n",
       "      <th>4</th>\n",
       "      <td>FAC</td>\n",
       "      <td>Buildings, airports, highways, bridges, etc.</td>\n",
       "    </tr>\n",
       "    <tr>\n",
       "      <th>5</th>\n",
       "      <td>ORG</td>\n",
       "      <td>Companies, agencies, institutions, etc.</td>\n",
       "    </tr>\n",
       "    <tr>\n",
       "      <th>6</th>\n",
       "      <td>GPE</td>\n",
       "      <td>Countries, cities, states.</td>\n",
       "    </tr>\n",
       "    <tr>\n",
       "      <th>7</th>\n",
       "      <td>LOC</td>\n",
       "      <td>Non-GPE locations, mountain ranges, bodies of water.</td>\n",
       "    </tr>\n",
       "    <tr>\n",
       "      <th>8</th>\n",
       "      <td>PRODUCT</td>\n",
       "      <td>Objects, vehicles, foods, etc. (Not services.)</td>\n",
       "    </tr>\n",
       "    <tr>\n",
       "      <th>9</th>\n",
       "      <td>EVENT</td>\n",
       "      <td>Named hurricanes, battles, wars, sports events, etc.</td>\n",
       "    </tr>\n",
       "    <tr>\n",
       "      <th>10</th>\n",
       "      <td>WORK_OF_ART</td>\n",
       "      <td>Titles of books, songs, etc.</td>\n",
       "    </tr>\n",
       "    <tr>\n",
       "      <th>11</th>\n",
       "      <td>LAW</td>\n",
       "      <td>Named documents made into laws.</td>\n",
       "    </tr>\n",
       "    <tr>\n",
       "      <th>12</th>\n",
       "      <td>LANGUAGE</td>\n",
       "      <td>Any named language.</td>\n",
       "    </tr>\n",
       "    <tr>\n",
       "      <th>13</th>\n",
       "      <td>DATE</td>\n",
       "      <td>Absolute or relative dates or periods.</td>\n",
       "    </tr>\n",
       "    <tr>\n",
       "      <th>14</th>\n",
       "      <td>TIME</td>\n",
       "      <td>Times smaller than a day.</td>\n",
       "    </tr>\n",
       "    <tr>\n",
       "      <th>15</th>\n",
       "      <td>PERCENT</td>\n",
       "      <td>Percentage, including \"%\".</td>\n",
       "    </tr>\n",
       "    <tr>\n",
       "      <th>16</th>\n",
       "      <td>MONEY</td>\n",
       "      <td>Monetary values, including unit.</td>\n",
       "    </tr>\n",
       "    <tr>\n",
       "      <th>17</th>\n",
       "      <td>QUANTITY</td>\n",
       "      <td>Measurements, as of weight or distance.</td>\n",
       "    </tr>\n",
       "    <tr>\n",
       "      <th>18</th>\n",
       "      <td>ORDINAL</td>\n",
       "      <td>\"first\", \"second\", etc.</td>\n",
       "    </tr>\n",
       "    <tr>\n",
       "      <th>19</th>\n",
       "      <td>CARDINAL</td>\n",
       "      <td>Numerals that do not fall under another type.</td>\n",
       "    </tr>\n",
       "  </tbody>\n",
       "</table>\n",
       "</div>"
      ],
      "text/plain": [
       "            Tag                                           Description\n",
       "0   OTHER        other                                               \n",
       "1   ADDRESS      Address of physical location.                       \n",
       "2   PERSON       People, including fictional.                        \n",
       "3   NORP         Nationalities or religious or political groups.     \n",
       "4   FAC          Buildings, airports, highways, bridges, etc.        \n",
       "5   ORG          Companies, agencies, institutions, etc.             \n",
       "6   GPE          Countries, cities, states.                          \n",
       "7   LOC          Non-GPE locations, mountain ranges, bodies of water.\n",
       "8   PRODUCT      Objects, vehicles, foods, etc. (Not services.)      \n",
       "9   EVENT        Named hurricanes, battles, wars, sports events, etc.\n",
       "10  WORK_OF_ART  Titles of books, songs, etc.                        \n",
       "11  LAW          Named documents made into laws.                     \n",
       "12  LANGUAGE     Any named language.                                 \n",
       "13  DATE         Absolute or relative dates or periods.              \n",
       "14  TIME         Times smaller than a day.                           \n",
       "15  PERCENT      Percentage, including \"%\".                          \n",
       "16  MONEY        Monetary values, including unit.                    \n",
       "17  QUANTITY     Measurements, as of weight or distance.             \n",
       "18  ORDINAL      \"first\", \"second\", etc.                             \n",
       "19  CARDINAL     Numerals that do not fall under another type.       "
      ]
     },
     "execution_count": 3,
     "metadata": {},
     "output_type": "execute_result"
    }
   ],
   "source": [
    "malaya.entity.describe_ontonotes5()"
   ]
  },
  {
   "cell_type": "markdown",
   "metadata": {},
   "source": [
    "### List available Transformer NER models"
   ]
  },
  {
   "cell_type": "code",
   "execution_count": 2,
   "metadata": {},
   "outputs": [
    {
     "name": "stderr",
     "output_type": "stream",
     "text": [
      "INFO:root:tested on 20% test set.\n"
     ]
    },
    {
     "data": {
      "text/html": [
       "<div>\n",
       "<style scoped>\n",
       "    .dataframe tbody tr th:only-of-type {\n",
       "        vertical-align: middle;\n",
       "    }\n",
       "\n",
       "    .dataframe tbody tr th {\n",
       "        vertical-align: top;\n",
       "    }\n",
       "\n",
       "    .dataframe thead th {\n",
       "        text-align: right;\n",
       "    }\n",
       "</style>\n",
       "<table border=\"1\" class=\"dataframe\">\n",
       "  <thead>\n",
       "    <tr style=\"text-align: right;\">\n",
       "      <th></th>\n",
       "      <th>Size (MB)</th>\n",
       "      <th>Quantized Size (MB)</th>\n",
       "      <th>macro precision</th>\n",
       "      <th>macro recall</th>\n",
       "      <th>macro f1-score</th>\n",
       "    </tr>\n",
       "  </thead>\n",
       "  <tbody>\n",
       "    <tr>\n",
       "      <th>bert</th>\n",
       "      <td>425.4</td>\n",
       "      <td>111.00</td>\n",
       "      <td>0.99291</td>\n",
       "      <td>0.97864</td>\n",
       "      <td>0.98537</td>\n",
       "    </tr>\n",
       "    <tr>\n",
       "      <th>tiny-bert</th>\n",
       "      <td>57.7</td>\n",
       "      <td>15.40</td>\n",
       "      <td>0.98151</td>\n",
       "      <td>0.94754</td>\n",
       "      <td>0.96134</td>\n",
       "    </tr>\n",
       "    <tr>\n",
       "      <th>albert</th>\n",
       "      <td>48.6</td>\n",
       "      <td>12.80</td>\n",
       "      <td>0.98026</td>\n",
       "      <td>0.95332</td>\n",
       "      <td>0.96492</td>\n",
       "    </tr>\n",
       "    <tr>\n",
       "      <th>tiny-albert</th>\n",
       "      <td>22.4</td>\n",
       "      <td>5.98</td>\n",
       "      <td>0.96100</td>\n",
       "      <td>0.90363</td>\n",
       "      <td>0.92374</td>\n",
       "    </tr>\n",
       "    <tr>\n",
       "      <th>xlnet</th>\n",
       "      <td>446.6</td>\n",
       "      <td>118.00</td>\n",
       "      <td>0.99344</td>\n",
       "      <td>0.98154</td>\n",
       "      <td>0.98725</td>\n",
       "    </tr>\n",
       "    <tr>\n",
       "      <th>alxlnet</th>\n",
       "      <td>46.8</td>\n",
       "      <td>13.30</td>\n",
       "      <td>0.99215</td>\n",
       "      <td>0.97575</td>\n",
       "      <td>0.98337</td>\n",
       "    </tr>\n",
       "    <tr>\n",
       "      <th>fastformer</th>\n",
       "      <td>446.6</td>\n",
       "      <td>113.00</td>\n",
       "      <td>0.95031</td>\n",
       "      <td>0.94018</td>\n",
       "      <td>0.94498</td>\n",
       "    </tr>\n",
       "    <tr>\n",
       "      <th>tiny-fastformer</th>\n",
       "      <td>77.3</td>\n",
       "      <td>19.70</td>\n",
       "      <td>0.93574</td>\n",
       "      <td>0.89979</td>\n",
       "      <td>0.91640</td>\n",
       "    </tr>\n",
       "  </tbody>\n",
       "</table>\n",
       "</div>"
      ],
      "text/plain": [
       "                 Size (MB)  Quantized Size (MB)  macro precision  \\\n",
       "bert                 425.4               111.00          0.99291   \n",
       "tiny-bert             57.7                15.40          0.98151   \n",
       "albert                48.6                12.80          0.98026   \n",
       "tiny-albert           22.4                 5.98          0.96100   \n",
       "xlnet                446.6               118.00          0.99344   \n",
       "alxlnet               46.8                13.30          0.99215   \n",
       "fastformer           446.6               113.00          0.95031   \n",
       "tiny-fastformer       77.3                19.70          0.93574   \n",
       "\n",
       "                 macro recall  macro f1-score  \n",
       "bert                  0.97864         0.98537  \n",
       "tiny-bert             0.94754         0.96134  \n",
       "albert                0.95332         0.96492  \n",
       "tiny-albert           0.90363         0.92374  \n",
       "xlnet                 0.98154         0.98725  \n",
       "alxlnet               0.97575         0.98337  \n",
       "fastformer            0.94018         0.94498  \n",
       "tiny-fastformer       0.89979         0.91640  "
      ]
     },
     "execution_count": 2,
     "metadata": {},
     "output_type": "execute_result"
    }
   ],
   "source": [
    "malaya.entity.available_transformer()"
   ]
  },
  {
   "cell_type": "markdown",
   "metadata": {},
   "source": [
    "### List available Transformer NER Ontonotes 5 models"
   ]
  },
  {
   "cell_type": "code",
   "execution_count": 3,
   "metadata": {
    "scrolled": true
   },
   "outputs": [
    {
     "name": "stderr",
     "output_type": "stream",
     "text": [
      "INFO:root:tested on 20% test set.\n"
     ]
    },
    {
     "data": {
      "text/html": [
       "<div>\n",
       "<style scoped>\n",
       "    .dataframe tbody tr th:only-of-type {\n",
       "        vertical-align: middle;\n",
       "    }\n",
       "\n",
       "    .dataframe tbody tr th {\n",
       "        vertical-align: top;\n",
       "    }\n",
       "\n",
       "    .dataframe thead th {\n",
       "        text-align: right;\n",
       "    }\n",
       "</style>\n",
       "<table border=\"1\" class=\"dataframe\">\n",
       "  <thead>\n",
       "    <tr style=\"text-align: right;\">\n",
       "      <th></th>\n",
       "      <th>Size (MB)</th>\n",
       "      <th>Quantized Size (MB)</th>\n",
       "      <th>macro precision</th>\n",
       "      <th>macro recall</th>\n",
       "      <th>macro f1-score</th>\n",
       "    </tr>\n",
       "  </thead>\n",
       "  <tbody>\n",
       "    <tr>\n",
       "      <th>bert</th>\n",
       "      <td>425.4</td>\n",
       "      <td>111.00</td>\n",
       "      <td>0.94460</td>\n",
       "      <td>0.93244</td>\n",
       "      <td>0.93822</td>\n",
       "    </tr>\n",
       "    <tr>\n",
       "      <th>tiny-bert</th>\n",
       "      <td>57.7</td>\n",
       "      <td>15.40</td>\n",
       "      <td>0.91908</td>\n",
       "      <td>0.91635</td>\n",
       "      <td>0.91704</td>\n",
       "    </tr>\n",
       "    <tr>\n",
       "      <th>albert</th>\n",
       "      <td>48.6</td>\n",
       "      <td>12.80</td>\n",
       "      <td>0.93010</td>\n",
       "      <td>0.92341</td>\n",
       "      <td>0.92636</td>\n",
       "    </tr>\n",
       "    <tr>\n",
       "      <th>tiny-albert</th>\n",
       "      <td>22.4</td>\n",
       "      <td>5.98</td>\n",
       "      <td>0.90298</td>\n",
       "      <td>0.88251</td>\n",
       "      <td>0.89145</td>\n",
       "    </tr>\n",
       "    <tr>\n",
       "      <th>xlnet</th>\n",
       "      <td>446.6</td>\n",
       "      <td>118.00</td>\n",
       "      <td>0.93814</td>\n",
       "      <td>0.95021</td>\n",
       "      <td>0.94388</td>\n",
       "    </tr>\n",
       "    <tr>\n",
       "      <th>alxlnet</th>\n",
       "      <td>46.8</td>\n",
       "      <td>13.30</td>\n",
       "      <td>0.93244</td>\n",
       "      <td>0.92942</td>\n",
       "      <td>0.93047</td>\n",
       "    </tr>\n",
       "    <tr>\n",
       "      <th>fastformer</th>\n",
       "      <td>446.6</td>\n",
       "      <td>113.00</td>\n",
       "      <td>0.77486</td>\n",
       "      <td>0.67007</td>\n",
       "      <td>0.69065</td>\n",
       "    </tr>\n",
       "    <tr>\n",
       "      <th>tiny-fastformer</th>\n",
       "      <td>77.3</td>\n",
       "      <td>19.70</td>\n",
       "      <td>0.68351</td>\n",
       "      <td>0.60469</td>\n",
       "      <td>0.61678</td>\n",
       "    </tr>\n",
       "  </tbody>\n",
       "</table>\n",
       "</div>"
      ],
      "text/plain": [
       "                 Size (MB)  Quantized Size (MB)  macro precision  \\\n",
       "bert                 425.4               111.00          0.94460   \n",
       "tiny-bert             57.7                15.40          0.91908   \n",
       "albert                48.6                12.80          0.93010   \n",
       "tiny-albert           22.4                 5.98          0.90298   \n",
       "xlnet                446.6               118.00          0.93814   \n",
       "alxlnet               46.8                13.30          0.93244   \n",
       "fastformer           446.6               113.00          0.77486   \n",
       "tiny-fastformer       77.3                19.70          0.68351   \n",
       "\n",
       "                 macro recall  macro f1-score  \n",
       "bert                  0.93244         0.93822  \n",
       "tiny-bert             0.91635         0.91704  \n",
       "albert                0.92341         0.92636  \n",
       "tiny-albert           0.88251         0.89145  \n",
       "xlnet                 0.95021         0.94388  \n",
       "alxlnet               0.92942         0.93047  \n",
       "fastformer            0.67007         0.69065  \n",
       "tiny-fastformer       0.60469         0.61678  "
      ]
     },
     "execution_count": 3,
     "metadata": {},
     "output_type": "execute_result"
    }
   ],
   "source": [
    "malaya.entity.available_transformer_ontonotes5()"
   ]
  },
  {
   "cell_type": "code",
   "execution_count": 36,
   "metadata": {},
   "outputs": [],
   "source": [
    "string = 'KUALA LUMPUR: Sempena sambutan Aidilfitri minggu depan, Perdana Menteri Tun Dr Mahathir Mohamad dan Menteri Pengangkutan Anthony Loke Siew Fook menitipkan pesanan khas kepada orang ramai yang mahu pulang ke kampung halaman masing-masing. Dalam video pendek terbitan Jabatan Keselamatan Jalan Raya (JKJR) itu, Dr Mahathir menasihati mereka supaya berhenti berehat dan tidur sebentar  sekiranya mengantuk ketika memandu.'\n",
    "string1 = 'memperkenalkan Husein, dia sangat comel, berumur 25 tahun, bangsa melayu, agama islam, tinggal di cyberjaya malaysia, bercakap bahasa melayu, semua membaca buku undang-undang kewangan, dengar laju Siti Nurhaliza - Seluruh Cinta sambil makan ayam goreng KFC'"
   ]
  },
  {
   "cell_type": "markdown",
   "metadata": {},
   "source": [
    "### Load Transformer model\n",
    "\n",
    "```python\n",
    "def transformer(model: str = 'xlnet', quantized: bool = False, **kwargs):\n",
    "    \"\"\"\n",
    "    Load Transformer Entity Tagging model trained on Malaya Entity, transfer learning Transformer + CRF.\n",
    "\n",
    "    Parameters\n",
    "    ----------\n",
    "    model : str, optional (default='bert')\n",
    "        Model architecture supported. Allowed values:\n",
    "\n",
    "        * ``'bert'`` - Google BERT BASE parameters.\n",
    "        * ``'tiny-bert'`` - Google BERT TINY parameters.\n",
    "        * ``'albert'`` - Google ALBERT BASE parameters.\n",
    "        * ``'tiny-albert'`` - Google ALBERT TINY parameters.\n",
    "        * ``'xlnet'`` - Google XLNET BASE parameters.\n",
    "        * ``'alxlnet'`` - Malaya ALXLNET BASE parameters.\n",
    "        * ``'fastformer'`` - FastFormer BASE parameters.\n",
    "        * ``'tiny-fastformer'`` - FastFormer TINY parameters.\n",
    "\n",
    "    quantized : bool, optional (default=False)\n",
    "        if True, will load 8-bit quantized model.\n",
    "        Quantized model not necessary faster, totally depends on the machine.\n",
    "\n",
    "    Returns\n",
    "    -------\n",
    "    result: model\n",
    "        List of model classes:\n",
    "\n",
    "        * if `bert` in model, will return `malaya.model.bert.TaggingBERT`.\n",
    "        * if `xlnet` in model, will return `malaya.model.xlnet.TaggingXLNET`.\n",
    "        * if `fastformer` in model, will return `malaya.model.fastformer.TaggingFastFormer`.\n",
    "    \"\"\"\n",
    "```"
   ]
  },
  {
   "cell_type": "code",
   "execution_count": 7,
   "metadata": {},
   "outputs": [
    {
     "name": "stderr",
     "output_type": "stream",
     "text": [
      "INFO:root:running entity/alxlnet using device /device:CPU:0\n"
     ]
    }
   ],
   "source": [
    "model = malaya.entity.transformer(model = 'alxlnet')"
   ]
  },
  {
   "cell_type": "markdown",
   "metadata": {},
   "source": [
    "#### Load Quantized model\n",
    "\n",
    "To load 8-bit quantized model, simply pass `quantized = True`, default is `False`.\n",
    "\n",
    "We can expect slightly accuracy drop from quantized model, and not necessary faster than normal 32-bit float model, totally depends on machine."
   ]
  },
  {
   "cell_type": "code",
   "execution_count": 8,
   "metadata": {},
   "outputs": [
    {
     "name": "stderr",
     "output_type": "stream",
     "text": [
      "WARNING:root:Load quantized model will cause accuracy drop.\n",
      "INFO:root:running entity/alxlnet-quantized using device /device:CPU:0\n"
     ]
    }
   ],
   "source": [
    "quantized_model = malaya.entity.transformer(model = 'alxlnet', quantized = True)"
   ]
  },
  {
   "cell_type": "markdown",
   "metadata": {},
   "source": [
    "#### Predict\n",
    "\n",
    "```python\n",
    "def predict(self, string: str):\n",
    "    \"\"\"\n",
    "    Tag a string.\n",
    "\n",
    "    Parameters\n",
    "    ----------\n",
    "    string : str\n",
    "\n",
    "    Returns\n",
    "    -------\n",
    "    result: Tuple[str, str]\n",
    "    \"\"\"\n",
    "```"
   ]
  },
  {
   "cell_type": "code",
   "execution_count": 9,
   "metadata": {},
   "outputs": [
    {
     "data": {
      "text/plain": [
       "[('KUALA', 'location'),\n",
       " ('LUMPUR', 'location'),\n",
       " (':', 'OTHER'),\n",
       " ('Sempena', 'OTHER'),\n",
       " ('sambutan', 'OTHER'),\n",
       " ('Aidilfitri', 'event'),\n",
       " ('minggu', 'time'),\n",
       " ('depan', 'time'),\n",
       " (',', 'OTHER'),\n",
       " ('Perdana', 'person'),\n",
       " ('Menteri', 'person'),\n",
       " ('Tun', 'person'),\n",
       " ('Dr', 'person'),\n",
       " ('Mahathir', 'person'),\n",
       " ('Mohamad', 'person'),\n",
       " ('dan', 'OTHER'),\n",
       " ('Menteri', 'organization'),\n",
       " ('Pengangkutan', 'organization'),\n",
       " ('Anthony', 'person'),\n",
       " ('Loke', 'person'),\n",
       " ('Siew', 'person'),\n",
       " ('Fook', 'person'),\n",
       " ('menitipkan', 'OTHER'),\n",
       " ('pesanan', 'OTHER'),\n",
       " ('khas', 'OTHER'),\n",
       " ('kepada', 'OTHER'),\n",
       " ('orang', 'OTHER'),\n",
       " ('ramai', 'OTHER'),\n",
       " ('yang', 'OTHER'),\n",
       " ('mahu', 'OTHER'),\n",
       " ('pulang', 'OTHER'),\n",
       " ('ke', 'OTHER'),\n",
       " ('kampung', 'OTHER'),\n",
       " ('halaman', 'location'),\n",
       " ('masing-masing', 'OTHER'),\n",
       " ('.', 'OTHER'),\n",
       " ('Dalam', 'OTHER'),\n",
       " ('video', 'OTHER'),\n",
       " ('pendek', 'OTHER'),\n",
       " ('terbitan', 'OTHER'),\n",
       " ('Jabatan', 'organization'),\n",
       " ('Keselamatan', 'organization'),\n",
       " ('Jalan', 'organization'),\n",
       " ('Raya', 'organization'),\n",
       " ('(', 'organization'),\n",
       " ('JKJR', 'organization'),\n",
       " (')', 'organization'),\n",
       " ('itu', 'OTHER'),\n",
       " (',', 'OTHER'),\n",
       " ('Dr', 'person'),\n",
       " ('Mahathir', 'person'),\n",
       " ('menasihati', 'OTHER'),\n",
       " ('mereka', 'OTHER'),\n",
       " ('supaya', 'OTHER'),\n",
       " ('berhenti', 'OTHER'),\n",
       " ('berehat', 'OTHER'),\n",
       " ('dan', 'OTHER'),\n",
       " ('tidur', 'OTHER'),\n",
       " ('sebentar', 'OTHER'),\n",
       " ('sekiranya', 'OTHER'),\n",
       " ('mengantuk', 'OTHER'),\n",
       " ('ketika', 'OTHER'),\n",
       " ('memandu', 'OTHER'),\n",
       " ('.', 'OTHER')]"
      ]
     },
     "execution_count": 9,
     "metadata": {},
     "output_type": "execute_result"
    }
   ],
   "source": [
    "model.predict(string)"
   ]
  },
  {
   "cell_type": "code",
   "execution_count": 37,
   "metadata": {},
   "outputs": [
    {
     "data": {
      "text/plain": [
       "[('memperkenalkan', 'OTHER'),\n",
       " ('Husein', 'person'),\n",
       " (',', 'OTHER'),\n",
       " ('dia', 'OTHER'),\n",
       " ('sangat', 'OTHER'),\n",
       " ('comel', 'OTHER'),\n",
       " (',', 'OTHER'),\n",
       " ('berumur', 'OTHER'),\n",
       " ('25', 'OTHER'),\n",
       " ('tahun', 'OTHER'),\n",
       " (',', 'OTHER'),\n",
       " ('bangsa', 'OTHER'),\n",
       " ('melayu', 'person'),\n",
       " (',', 'OTHER'),\n",
       " ('agama', 'OTHER'),\n",
       " ('islam', 'person'),\n",
       " (',', 'OTHER'),\n",
       " ('tinggal', 'OTHER'),\n",
       " ('di', 'OTHER'),\n",
       " ('cyberjaya', 'location'),\n",
       " ('malaysia', 'location'),\n",
       " (',', 'OTHER'),\n",
       " ('bercakap', 'OTHER'),\n",
       " ('bahasa', 'OTHER'),\n",
       " ('melayu', 'person'),\n",
       " (',', 'OTHER'),\n",
       " ('semua', 'OTHER'),\n",
       " ('membaca', 'OTHER'),\n",
       " ('buku', 'OTHER'),\n",
       " ('undang-undang', 'OTHER'),\n",
       " ('kewangan', 'OTHER'),\n",
       " (',', 'OTHER'),\n",
       " ('dengar', 'OTHER'),\n",
       " ('laju', 'OTHER'),\n",
       " ('Siti', 'person'),\n",
       " ('Nurhaliza', 'person'),\n",
       " ('-', 'OTHER'),\n",
       " ('Seluruh', 'OTHER'),\n",
       " ('Cinta', 'OTHER'),\n",
       " ('sambil', 'OTHER'),\n",
       " ('makan', 'OTHER'),\n",
       " ('ayam', 'OTHER'),\n",
       " ('goreng', 'OTHER'),\n",
       " ('KFC', 'location')]"
      ]
     },
     "execution_count": 37,
     "metadata": {},
     "output_type": "execute_result"
    }
   ],
   "source": [
    "model.predict(string1)"
   ]
  },
  {
   "cell_type": "code",
   "execution_count": 11,
   "metadata": {
    "scrolled": false
   },
   "outputs": [
    {
     "data": {
      "text/plain": [
       "[('KUALA', 'location'),\n",
       " ('LUMPUR', 'location'),\n",
       " (':', 'OTHER'),\n",
       " ('Sempena', 'OTHER'),\n",
       " ('sambutan', 'OTHER'),\n",
       " ('Aidilfitri', 'event'),\n",
       " ('minggu', 'time'),\n",
       " ('depan', 'time'),\n",
       " (',', 'OTHER'),\n",
       " ('Perdana', 'person'),\n",
       " ('Menteri', 'person'),\n",
       " ('Tun', 'person'),\n",
       " ('Dr', 'person'),\n",
       " ('Mahathir', 'person'),\n",
       " ('Mohamad', 'person'),\n",
       " ('dan', 'OTHER'),\n",
       " ('Menteri', 'person'),\n",
       " ('Pengangkutan', 'person'),\n",
       " ('Anthony', 'person'),\n",
       " ('Loke', 'person'),\n",
       " ('Siew', 'person'),\n",
       " ('Fook', 'person'),\n",
       " ('menitipkan', 'OTHER'),\n",
       " ('pesanan', 'OTHER'),\n",
       " ('khas', 'OTHER'),\n",
       " ('kepada', 'OTHER'),\n",
       " ('orang', 'OTHER'),\n",
       " ('ramai', 'OTHER'),\n",
       " ('yang', 'OTHER'),\n",
       " ('mahu', 'OTHER'),\n",
       " ('pulang', 'OTHER'),\n",
       " ('ke', 'OTHER'),\n",
       " ('kampung', 'OTHER'),\n",
       " ('halaman', 'OTHER'),\n",
       " ('masing-masing', 'OTHER'),\n",
       " ('.', 'OTHER'),\n",
       " ('Dalam', 'OTHER'),\n",
       " ('video', 'OTHER'),\n",
       " ('pendek', 'OTHER'),\n",
       " ('terbitan', 'OTHER'),\n",
       " ('Jabatan', 'organization'),\n",
       " ('Keselamatan', 'organization'),\n",
       " ('Jalan', 'organization'),\n",
       " ('Raya', 'organization'),\n",
       " ('(', 'organization'),\n",
       " ('JKJR', 'organization'),\n",
       " (')', 'organization'),\n",
       " ('itu', 'OTHER'),\n",
       " (',', 'OTHER'),\n",
       " ('Dr', 'person'),\n",
       " ('Mahathir', 'person'),\n",
       " ('menasihati', 'OTHER'),\n",
       " ('mereka', 'OTHER'),\n",
       " ('supaya', 'OTHER'),\n",
       " ('berhenti', 'OTHER'),\n",
       " ('berehat', 'OTHER'),\n",
       " ('dan', 'OTHER'),\n",
       " ('tidur', 'OTHER'),\n",
       " ('sebentar', 'OTHER'),\n",
       " ('sekiranya', 'OTHER'),\n",
       " ('mengantuk', 'OTHER'),\n",
       " ('ketika', 'OTHER'),\n",
       " ('memandu', 'OTHER'),\n",
       " ('.', 'OTHER')]"
      ]
     },
     "execution_count": 11,
     "metadata": {},
     "output_type": "execute_result"
    }
   ],
   "source": [
    "quantized_model.predict(string)"
   ]
  },
  {
   "cell_type": "code",
   "execution_count": 38,
   "metadata": {},
   "outputs": [
    {
     "data": {
      "text/plain": [
       "[('memperkenalkan', 'OTHER'),\n",
       " ('Husein', 'person'),\n",
       " (',', 'OTHER'),\n",
       " ('dia', 'OTHER'),\n",
       " ('sangat', 'OTHER'),\n",
       " ('comel', 'OTHER'),\n",
       " (',', 'OTHER'),\n",
       " ('berumur', 'OTHER'),\n",
       " ('25', 'OTHER'),\n",
       " ('tahun', 'OTHER'),\n",
       " (',', 'OTHER'),\n",
       " ('bangsa', 'OTHER'),\n",
       " ('melayu', 'person'),\n",
       " (',', 'OTHER'),\n",
       " ('agama', 'OTHER'),\n",
       " ('islam', 'person'),\n",
       " (',', 'OTHER'),\n",
       " ('tinggal', 'OTHER'),\n",
       " ('di', 'OTHER'),\n",
       " ('cyberjaya', 'location'),\n",
       " ('malaysia', 'location'),\n",
       " (',', 'OTHER'),\n",
       " ('bercakap', 'OTHER'),\n",
       " ('bahasa', 'OTHER'),\n",
       " ('melayu', 'person'),\n",
       " (',', 'OTHER'),\n",
       " ('semua', 'OTHER'),\n",
       " ('membaca', 'OTHER'),\n",
       " ('buku', 'OTHER'),\n",
       " ('undang-undang', 'OTHER'),\n",
       " ('kewangan', 'OTHER'),\n",
       " (',', 'OTHER'),\n",
       " ('dengar', 'OTHER'),\n",
       " ('laju', 'OTHER'),\n",
       " ('Siti', 'person'),\n",
       " ('Nurhaliza', 'person'),\n",
       " ('-', 'OTHER'),\n",
       " ('Seluruh', 'OTHER'),\n",
       " ('Cinta', 'OTHER'),\n",
       " ('sambil', 'OTHER'),\n",
       " ('makan', 'OTHER'),\n",
       " ('ayam', 'OTHER'),\n",
       " ('goreng', 'OTHER'),\n",
       " ('KFC', 'organization')]"
      ]
     },
     "execution_count": 38,
     "metadata": {},
     "output_type": "execute_result"
    }
   ],
   "source": [
    "quantized_model.predict(string1)"
   ]
  },
  {
   "cell_type": "markdown",
   "metadata": {},
   "source": [
    "#### Group similar tags\n",
    "\n",
    "```python\n",
    "def analyze(self, string: str):\n",
    "        \"\"\"\n",
    "        Analyze a string.\n",
    "\n",
    "        Parameters\n",
    "        ----------\n",
    "        string : str\n",
    "\n",
    "        Returns\n",
    "        -------\n",
    "        result: {'words': List[str], 'tags': [{'text': 'text', 'type': 'location', 'score': 1.0, 'beginOffset': 0, 'endOffset': 1}]}\n",
    "        \"\"\"\n",
    "```"
   ]
  },
  {
   "cell_type": "code",
   "execution_count": 13,
   "metadata": {},
   "outputs": [
    {
     "data": {
      "text/plain": [
       "[{'text': ['KUALA', 'LUMPUR'],\n",
       "  'type': 'location',\n",
       "  'score': 1.0,\n",
       "  'beginOffset': 0,\n",
       "  'endOffset': 2},\n",
       " {'text': [':', 'Sempena', 'sambutan'],\n",
       "  'type': 'OTHER',\n",
       "  'score': 1.0,\n",
       "  'beginOffset': 2,\n",
       "  'endOffset': 5},\n",
       " {'text': ['Aidilfitri'],\n",
       "  'type': 'event',\n",
       "  'score': 1.0,\n",
       "  'beginOffset': 5,\n",
       "  'endOffset': 6},\n",
       " {'text': ['minggu'],\n",
       "  'type': 'OTHER',\n",
       "  'score': 1.0,\n",
       "  'beginOffset': 6,\n",
       "  'endOffset': 7},\n",
       " {'text': ['depan'],\n",
       "  'type': 'time',\n",
       "  'score': 1.0,\n",
       "  'beginOffset': 7,\n",
       "  'endOffset': 8},\n",
       " {'text': [','],\n",
       "  'type': 'OTHER',\n",
       "  'score': 1.0,\n",
       "  'beginOffset': 8,\n",
       "  'endOffset': 9},\n",
       " {'text': ['Perdana', 'Menteri', 'Tun', 'Dr', 'Mahathir', 'Mohamad'],\n",
       "  'type': 'person',\n",
       "  'score': 1.0,\n",
       "  'beginOffset': 9,\n",
       "  'endOffset': 15},\n",
       " {'text': ['dan'],\n",
       "  'type': 'OTHER',\n",
       "  'score': 1.0,\n",
       "  'beginOffset': 15,\n",
       "  'endOffset': 16},\n",
       " {'text': ['Menteri', 'Pengangkutan'],\n",
       "  'type': 'organization',\n",
       "  'score': 1.0,\n",
       "  'beginOffset': 16,\n",
       "  'endOffset': 18},\n",
       " {'text': ['Anthony', 'Loke', 'Siew', 'Fook'],\n",
       "  'type': 'person',\n",
       "  'score': 1.0,\n",
       "  'beginOffset': 18,\n",
       "  'endOffset': 22},\n",
       " {'text': ['menitipkan',\n",
       "   'pesanan',\n",
       "   'khas',\n",
       "   'kepada',\n",
       "   'orang',\n",
       "   'ramai',\n",
       "   'yang',\n",
       "   'mahu',\n",
       "   'pulang',\n",
       "   'ke',\n",
       "   'kampung',\n",
       "   'halaman',\n",
       "   'masing-masing',\n",
       "   '.',\n",
       "   'Dalam',\n",
       "   'video',\n",
       "   'pendek',\n",
       "   'terbitan'],\n",
       "  'type': 'OTHER',\n",
       "  'score': 1.0,\n",
       "  'beginOffset': 22,\n",
       "  'endOffset': 40},\n",
       " {'text': ['Jabatan', 'Keselamatan', 'Jalan', 'Raya', '(', 'JKJR', ')'],\n",
       "  'type': 'organization',\n",
       "  'score': 1.0,\n",
       "  'beginOffset': 40,\n",
       "  'endOffset': 47},\n",
       " {'text': ['itu', ','],\n",
       "  'type': 'OTHER',\n",
       "  'score': 1.0,\n",
       "  'beginOffset': 47,\n",
       "  'endOffset': 49},\n",
       " {'text': ['Dr', 'Mahathir'],\n",
       "  'type': 'person',\n",
       "  'score': 1.0,\n",
       "  'beginOffset': 49,\n",
       "  'endOffset': 51},\n",
       " {'text': ['menasihati',\n",
       "   'mereka',\n",
       "   'supaya',\n",
       "   'berhenti',\n",
       "   'berehat',\n",
       "   'dan',\n",
       "   'tidur',\n",
       "   'sebentar',\n",
       "   'sekiranya',\n",
       "   'mengantuk',\n",
       "   'ketika',\n",
       "   'memandu',\n",
       "   '.'],\n",
       "  'type': 'OTHER',\n",
       "  'score': 1.0,\n",
       "  'beginOffset': 51,\n",
       "  'endOffset': 64}]"
      ]
     },
     "execution_count": 13,
     "metadata": {},
     "output_type": "execute_result"
    }
   ],
   "source": [
    "model.analyze(string)"
   ]
  },
  {
   "cell_type": "code",
   "execution_count": 39,
   "metadata": {},
   "outputs": [
    {
     "data": {
      "text/plain": [
       "[{'text': ['memperkenalkan'],\n",
       "  'type': 'OTHER',\n",
       "  'score': 1.0,\n",
       "  'beginOffset': 0,\n",
       "  'endOffset': 1},\n",
       " {'text': ['Husein'],\n",
       "  'type': 'person',\n",
       "  'score': 1.0,\n",
       "  'beginOffset': 1,\n",
       "  'endOffset': 2},\n",
       " {'text': [',',\n",
       "   'dia',\n",
       "   'sangat',\n",
       "   'comel',\n",
       "   ',',\n",
       "   'berumur',\n",
       "   '25',\n",
       "   'tahun',\n",
       "   ',',\n",
       "   'bangsa'],\n",
       "  'type': 'OTHER',\n",
       "  'score': 1.0,\n",
       "  'beginOffset': 2,\n",
       "  'endOffset': 12},\n",
       " {'text': ['melayu'],\n",
       "  'type': 'person',\n",
       "  'score': 1.0,\n",
       "  'beginOffset': 12,\n",
       "  'endOffset': 13},\n",
       " {'text': [',', 'agama'],\n",
       "  'type': 'OTHER',\n",
       "  'score': 1.0,\n",
       "  'beginOffset': 13,\n",
       "  'endOffset': 15},\n",
       " {'text': ['islam'],\n",
       "  'type': 'person',\n",
       "  'score': 1.0,\n",
       "  'beginOffset': 15,\n",
       "  'endOffset': 16},\n",
       " {'text': [',', 'tinggal', 'di'],\n",
       "  'type': 'OTHER',\n",
       "  'score': 1.0,\n",
       "  'beginOffset': 16,\n",
       "  'endOffset': 19},\n",
       " {'text': ['cyberjaya', 'malaysia'],\n",
       "  'type': 'location',\n",
       "  'score': 1.0,\n",
       "  'beginOffset': 19,\n",
       "  'endOffset': 21},\n",
       " {'text': [',', 'bercakap', 'bahasa'],\n",
       "  'type': 'OTHER',\n",
       "  'score': 1.0,\n",
       "  'beginOffset': 21,\n",
       "  'endOffset': 24},\n",
       " {'text': ['melayu'],\n",
       "  'type': 'person',\n",
       "  'score': 1.0,\n",
       "  'beginOffset': 24,\n",
       "  'endOffset': 25},\n",
       " {'text': [',',\n",
       "   'semua',\n",
       "   'membaca',\n",
       "   'buku',\n",
       "   'undang-undang',\n",
       "   'kewangan',\n",
       "   ',',\n",
       "   'dengar',\n",
       "   'laju'],\n",
       "  'type': 'OTHER',\n",
       "  'score': 1.0,\n",
       "  'beginOffset': 25,\n",
       "  'endOffset': 34},\n",
       " {'text': ['Siti', 'Nurhaliza'],\n",
       "  'type': 'person',\n",
       "  'score': 1.0,\n",
       "  'beginOffset': 34,\n",
       "  'endOffset': 36},\n",
       " {'text': ['-', 'Seluruh', 'Cinta', 'sambil', 'makan', 'ayam', 'goreng'],\n",
       "  'type': 'OTHER',\n",
       "  'score': 1.0,\n",
       "  'beginOffset': 36,\n",
       "  'endOffset': 43},\n",
       " {'text': ['KFC'],\n",
       "  'type': 'organization',\n",
       "  'score': 1.0,\n",
       "  'beginOffset': 43,\n",
       "  'endOffset': 44}]"
      ]
     },
     "execution_count": 39,
     "metadata": {},
     "output_type": "execute_result"
    }
   ],
   "source": [
    "model.analyze(string1)"
   ]
  },
  {
   "cell_type": "markdown",
   "metadata": {},
   "source": [
    "#### Vectorize\n",
    "\n",
    "Let say you want to visualize word level in lower dimension, you can use `model.vectorize`,\n",
    "\n",
    "```python\n",
    "def vectorize(self, string: str):\n",
    "    \"\"\"\n",
    "    vectorize a string.\n",
    "\n",
    "    Parameters\n",
    "    ----------\n",
    "    string: List[str]\n",
    "\n",
    "    Returns\n",
    "    -------\n",
    "    result: np.array\n",
    "    \"\"\"\n",
    "```"
   ]
  },
  {
   "cell_type": "code",
   "execution_count": 15,
   "metadata": {},
   "outputs": [],
   "source": [
    "strings = [string, \n",
    "          'Husein baca buku Perlembagaan yang berharga 3k ringgit dekat kfc sungai petani minggu lepas, 2 ptg 2 oktober 2019 , suhu 32 celcius, sambil makan ayam goreng dan milo o ais',\n",
    "          'contact Husein at husein.zol05@gmail.com',\n",
    "          'tolong tempahkan meja makan makan nasi dagang dan jus apple, milo tarik esok dekat Restoran Sebulek']"
   ]
  },
  {
   "cell_type": "code",
   "execution_count": 16,
   "metadata": {},
   "outputs": [],
   "source": [
    "r = [quantized_model.vectorize(string) for string in strings]"
   ]
  },
  {
   "cell_type": "code",
   "execution_count": 17,
   "metadata": {},
   "outputs": [],
   "source": [
    "x, y = [], []\n",
    "for row in r:\n",
    "    x.extend([i[0] for i in row])\n",
    "    y.extend([i[1] for i in row])"
   ]
  },
  {
   "cell_type": "code",
   "execution_count": 18,
   "metadata": {
    "scrolled": true
   },
   "outputs": [
    {
     "data": {
      "text/plain": [
       "(124, 2)"
      ]
     },
     "execution_count": 18,
     "metadata": {},
     "output_type": "execute_result"
    }
   ],
   "source": [
    "from sklearn.manifold import TSNE\n",
    "import matplotlib.pyplot as plt\n",
    "\n",
    "tsne = TSNE().fit_transform(y)\n",
    "tsne.shape"
   ]
  },
  {
   "cell_type": "code",
   "execution_count": 19,
   "metadata": {},
   "outputs": [
    {
     "data": {
      "image/png": "[encoded data removed]",
      "text/plain": [
       "<Figure size 504x504 with 1 Axes>"
      ]
     },
     "metadata": {
      "needs_background": "light"
     },
     "output_type": "display_data"
    }
   ],
   "source": [
    "plt.figure(figsize = (7, 7))\n",
    "plt.scatter(tsne[:, 0], tsne[:, 1])\n",
    "labels = x\n",
    "for label, x, y in zip(\n",
    "    labels, tsne[:, 0], tsne[:, 1]\n",
    "):\n",
    "    label = (\n",
    "        '%s, %.3f' % (label[0], label[1])\n",
    "        if isinstance(label, list)\n",
    "        else label\n",
    "    )\n",
    "    plt.annotate(\n",
    "        label,\n",
    "        xy = (x, y),\n",
    "        xytext = (0, 0),\n",
    "        textcoords = 'offset points',\n",
    "    )"
   ]
  },
  {
   "cell_type": "markdown",
   "metadata": {},
   "source": [
    "Pretty good, the model able to know cluster similar entities."
   ]
  },
  {
   "cell_type": "markdown",
   "metadata": {},
   "source": [
    "### Load Transformer Ontonotes 5 model\n",
    "\n",
    "```python\n",
    "def transformer_ontonotes5(\n",
    "    model: str = 'xlnet', quantized: bool = False, **kwargs\n",
    "):\n",
    "    \"\"\"\n",
    "    Load Transformer Entity Tagging model trained on Ontonotes 5 Bahasa, transfer learning Transformer + CRF.\n",
    "\n",
    "    Parameters\n",
    "    ----------\n",
    "    model : str, optional (default='bert')\n",
    "        Model architecture supported. Allowed values:\n",
    "\n",
    "        * ``'bert'`` - Google BERT BASE parameters.\n",
    "        * ``'tiny-bert'`` - Google BERT TINY parameters.\n",
    "        * ``'albert'`` - Google ALBERT BASE parameters.\n",
    "        * ``'tiny-albert'`` - Google ALBERT TINY parameters.\n",
    "        * ``'xlnet'`` - Google XLNET BASE parameters.\n",
    "        * ``'alxlnet'`` - Malaya ALXLNET BASE parameters.\n",
    "        * ``'fastformer'`` - FastFormer BASE parameters.\n",
    "        * ``'tiny-fastformer'`` - FastFormer TINY parameters.\n",
    "\n",
    "    quantized : bool, optional (default=False)\n",
    "        if True, will load 8-bit quantized model.\n",
    "        Quantized model not necessary faster, totally depends on the machine.\n",
    "\n",
    "    Returns\n",
    "    -------\n",
    "    result: model\n",
    "        List of model classes:\n",
    "\n",
    "        * if `bert` in model, will return `malaya.model.bert.TaggingBERT`.\n",
    "        * if `xlnet` in model, will return `malaya.model.xlnet.TaggingXLNET`.\n",
    "        * if `fastformer` in model, will return `malaya.model.fastformer.TaggingFastFormer`.\n",
    "    \"\"\"\n",
    "```"
   ]
  },
  {
   "cell_type": "code",
   "execution_count": 20,
   "metadata": {
    "scrolled": false
   },
   "outputs": [
    {
     "name": "stderr",
     "output_type": "stream",
     "text": [
      "INFO:root:running entity-ontonotes5/albert using device /device:CPU:0\n"
     ]
    }
   ],
   "source": [
    "albert = malaya.entity.transformer_ontonotes5(model = 'albert')"
   ]
  },
  {
   "cell_type": "code",
   "execution_count": 21,
   "metadata": {},
   "outputs": [
    {
     "name": "stderr",
     "output_type": "stream",
     "text": [
      "INFO:root:running entity-ontonotes5/alxlnet using device /device:CPU:0\n"
     ]
    }
   ],
   "source": [
    "alxlnet = malaya.entity.transformer_ontonotes5(model = 'alxlnet')"
   ]
  },
  {
   "cell_type": "markdown",
   "metadata": {},
   "source": [
    "#### Load Quantized model\n",
    "\n",
    "To load 8-bit quantized model, simply pass `quantized = True`, default is `False`.\n",
    "\n",
    "We can expect slightly accuracy drop from quantized model, and not necessary faster than normal 32-bit float model, totally depends on machine."
   ]
  },
  {
   "cell_type": "code",
   "execution_count": 22,
   "metadata": {},
   "outputs": [
    {
     "name": "stderr",
     "output_type": "stream",
     "text": [
      "WARNING:root:Load quantized model will cause accuracy drop.\n",
      "INFO:root:running entity-ontonotes5/albert-quantized using device /device:CPU:0\n"
     ]
    }
   ],
   "source": [
    "quantized_albert = malaya.entity.transformer_ontonotes5(model = 'albert', quantized = True)"
   ]
  },
  {
   "cell_type": "code",
   "execution_count": 23,
   "metadata": {},
   "outputs": [
    {
     "name": "stderr",
     "output_type": "stream",
     "text": [
      "WARNING:root:Load quantized model will cause accuracy drop.\n",
      "INFO:root:running entity-ontonotes5/alxlnet-quantized using device /device:CPU:0\n"
     ]
    }
   ],
   "source": [
    "quantized_alxlnet = malaya.entity.transformer_ontonotes5(model = 'alxlnet', quantized = True)"
   ]
  },
  {
   "cell_type": "markdown",
   "metadata": {},
   "source": [
    "#### Predict\n",
    "\n",
    "```python\n",
    "def predict(self, string: str):\n",
    "    \"\"\"\n",
    "    Tag a string.\n",
    "\n",
    "    Parameters\n",
    "    ----------\n",
    "    string : str\n",
    "\n",
    "    Returns\n",
    "    -------\n",
    "    result: Tuple[str, str]\n",
    "    \"\"\"\n",
    "```"
   ]
  },
  {
   "cell_type": "code",
   "execution_count": 24,
   "metadata": {},
   "outputs": [
    {
     "data": {
      "text/plain": [
       "[('KUALA', 'GPE'),\n",
       " ('LUMPUR', 'GPE'),\n",
       " (':', 'OTHER'),\n",
       " ('Sempena', 'OTHER'),\n",
       " ('sambutan', 'OTHER'),\n",
       " ('Aidilfitri', 'DATE'),\n",
       " ('minggu', 'OTHER'),\n",
       " ('depan', 'OTHER'),\n",
       " (',', 'OTHER'),\n",
       " ('Perdana', 'OTHER'),\n",
       " ('Menteri', 'OTHER'),\n",
       " ('Tun', 'PERSON'),\n",
       " ('Dr', 'PERSON'),\n",
       " ('Mahathir', 'PERSON'),\n",
       " ('Mohamad', 'PERSON'),\n",
       " ('dan', 'OTHER'),\n",
       " ('Menteri', 'OTHER'),\n",
       " ('Pengangkutan', 'OTHER'),\n",
       " ('Anthony', 'PERSON'),\n",
       " ('Loke', 'PERSON'),\n",
       " ('Siew', 'PERSON'),\n",
       " ('Fook', 'PERSON'),\n",
       " ('menitipkan', 'OTHER'),\n",
       " ('pesanan', 'OTHER'),\n",
       " ('khas', 'OTHER'),\n",
       " ('kepada', 'OTHER'),\n",
       " ('orang', 'OTHER'),\n",
       " ('ramai', 'OTHER'),\n",
       " ('yang', 'OTHER'),\n",
       " ('mahu', 'OTHER'),\n",
       " ('pulang', 'OTHER'),\n",
       " ('ke', 'OTHER'),\n",
       " ('kampung', 'OTHER'),\n",
       " ('halaman', 'OTHER'),\n",
       " ('masing-masing', 'OTHER'),\n",
       " ('.', 'OTHER'),\n",
       " ('Dalam', 'OTHER'),\n",
       " ('video', 'OTHER'),\n",
       " ('pendek', 'OTHER'),\n",
       " ('terbitan', 'OTHER'),\n",
       " ('Jabatan', 'ORG'),\n",
       " ('Keselamatan', 'ORG'),\n",
       " ('Jalan', 'ORG'),\n",
       " ('Raya', 'ORG'),\n",
       " ('(', 'ORG'),\n",
       " ('JKJR', 'ORG'),\n",
       " (')', 'ORG'),\n",
       " ('itu', 'OTHER'),\n",
       " (',', 'OTHER'),\n",
       " ('Dr', 'PERSON'),\n",
       " ('Mahathir', 'PERSON'),\n",
       " ('menasihati', 'OTHER'),\n",
       " ('mereka', 'OTHER'),\n",
       " ('supaya', 'OTHER'),\n",
       " ('berhenti', 'OTHER'),\n",
       " ('berehat', 'OTHER'),\n",
       " ('dan', 'OTHER'),\n",
       " ('tidur', 'OTHER'),\n",
       " ('sebentar', 'OTHER'),\n",
       " ('sekiranya', 'OTHER'),\n",
       " ('mengantuk', 'OTHER'),\n",
       " ('ketika', 'OTHER'),\n",
       " ('memandu', 'OTHER'),\n",
       " ('.', 'OTHER')]"
      ]
     },
     "execution_count": 24,
     "metadata": {},
     "output_type": "execute_result"
    }
   ],
   "source": [
    "albert.predict(string)"
   ]
  },
  {
   "cell_type": "code",
   "execution_count": 25,
   "metadata": {},
   "outputs": [
    {
     "data": {
      "text/plain": [
       "[('KUALA', 'EVENT'),\n",
       " ('LUMPUR', 'EVENT'),\n",
       " (':', 'OTHER'),\n",
       " ('Sempena', 'OTHER'),\n",
       " ('sambutan', 'DATE'),\n",
       " ('Aidilfitri', 'DATE'),\n",
       " ('minggu', 'DATE'),\n",
       " ('depan', 'DATE'),\n",
       " (',', 'OTHER'),\n",
       " ('Perdana', 'OTHER'),\n",
       " ('Menteri', 'OTHER'),\n",
       " ('Tun', 'PERSON'),\n",
       " ('Dr', 'PERSON'),\n",
       " ('Mahathir', 'PERSON'),\n",
       " ('Mohamad', 'PERSON'),\n",
       " ('dan', 'OTHER'),\n",
       " ('Menteri', 'OTHER'),\n",
       " ('Pengangkutan', 'OTHER'),\n",
       " ('Anthony', 'PERSON'),\n",
       " ('Loke', 'PERSON'),\n",
       " ('Siew', 'PERSON'),\n",
       " ('Fook', 'PERSON'),\n",
       " ('menitipkan', 'OTHER'),\n",
       " ('pesanan', 'OTHER'),\n",
       " ('khas', 'OTHER'),\n",
       " ('kepada', 'OTHER'),\n",
       " ('orang', 'OTHER'),\n",
       " ('ramai', 'OTHER'),\n",
       " ('yang', 'OTHER'),\n",
       " ('mahu', 'OTHER'),\n",
       " ('pulang', 'OTHER'),\n",
       " ('ke', 'OTHER'),\n",
       " ('kampung', 'OTHER'),\n",
       " ('halaman', 'OTHER'),\n",
       " ('masing-masing', 'OTHER'),\n",
       " ('.', 'OTHER'),\n",
       " ('Dalam', 'OTHER'),\n",
       " ('video', 'OTHER'),\n",
       " ('pendek', 'OTHER'),\n",
       " ('terbitan', 'OTHER'),\n",
       " ('Jabatan', 'ORG'),\n",
       " ('Keselamatan', 'ORG'),\n",
       " ('Jalan', 'ORG'),\n",
       " ('Raya', 'ORG'),\n",
       " ('(', 'ORG'),\n",
       " ('JKJR', 'ORG'),\n",
       " (')', 'ORG'),\n",
       " ('itu', 'OTHER'),\n",
       " (',', 'OTHER'),\n",
       " ('Dr', 'OTHER'),\n",
       " ('Mahathir', 'PERSON'),\n",
       " ('menasihati', 'OTHER'),\n",
       " ('mereka', 'OTHER'),\n",
       " ('supaya', 'OTHER'),\n",
       " ('berhenti', 'OTHER'),\n",
       " ('berehat', 'OTHER'),\n",
       " ('dan', 'OTHER'),\n",
       " ('tidur', 'OTHER'),\n",
       " ('sebentar', 'OTHER'),\n",
       " ('sekiranya', 'OTHER'),\n",
       " ('mengantuk', 'OTHER'),\n",
       " ('ketika', 'OTHER'),\n",
       " ('memandu', 'OTHER'),\n",
       " ('.', 'OTHER')]"
      ]
     },
     "execution_count": 25,
     "metadata": {},
     "output_type": "execute_result"
    }
   ],
   "source": [
    "alxlnet.predict(string)"
   ]
  },
  {
   "cell_type": "code",
   "execution_count": 40,
   "metadata": {
    "scrolled": true
   },
   "outputs": [
    {
     "data": {
      "text/plain": [
       "[('memperkenalkan', 'OTHER'),\n",
       " ('Husein', 'PERSON'),\n",
       " (',', 'OTHER'),\n",
       " ('dia', 'OTHER'),\n",
       " ('sangat', 'OTHER'),\n",
       " ('comel', 'OTHER'),\n",
       " (',', 'OTHER'),\n",
       " ('berumur', 'DATE'),\n",
       " ('25', 'DATE'),\n",
       " ('tahun', 'DATE'),\n",
       " (',', 'OTHER'),\n",
       " ('bangsa', 'OTHER'),\n",
       " ('melayu', 'OTHER'),\n",
       " (',', 'OTHER'),\n",
       " ('agama', 'OTHER'),\n",
       " ('islam', 'OTHER'),\n",
       " (',', 'OTHER'),\n",
       " ('tinggal', 'OTHER'),\n",
       " ('di', 'OTHER'),\n",
       " ('cyberjaya', 'GPE'),\n",
       " ('malaysia', 'GPE'),\n",
       " (',', 'OTHER'),\n",
       " ('bercakap', 'OTHER'),\n",
       " ('bahasa', 'OTHER'),\n",
       " ('melayu', 'OTHER'),\n",
       " (',', 'OTHER'),\n",
       " ('semua', 'OTHER'),\n",
       " ('membaca', 'OTHER'),\n",
       " ('buku', 'OTHER'),\n",
       " ('undang-undang', 'OTHER'),\n",
       " ('kewangan', 'OTHER'),\n",
       " (',', 'OTHER'),\n",
       " ('dengar', 'OTHER'),\n",
       " ('laju', 'OTHER'),\n",
       " ('Siti', 'WORK_OF_ART'),\n",
       " ('Nurhaliza', 'WORK_OF_ART'),\n",
       " ('-', 'WORK_OF_ART'),\n",
       " ('Seluruh', 'WORK_OF_ART'),\n",
       " ('Cinta', 'WORK_OF_ART'),\n",
       " ('sambil', 'OTHER'),\n",
       " ('makan', 'OTHER'),\n",
       " ('ayam', 'OTHER'),\n",
       " ('goreng', 'OTHER'),\n",
       " ('KFC', 'ORG')]"
      ]
     },
     "execution_count": 40,
     "metadata": {},
     "output_type": "execute_result"
    }
   ],
   "source": [
    "albert.predict(string1)"
   ]
  },
  {
   "cell_type": "code",
   "execution_count": 41,
   "metadata": {},
   "outputs": [
    {
     "data": {
      "text/plain": [
       "[('memperkenalkan', 'OTHER'),\n",
       " ('Husein', 'PERSON'),\n",
       " (',', 'OTHER'),\n",
       " ('dia', 'OTHER'),\n",
       " ('sangat', 'OTHER'),\n",
       " ('comel', 'OTHER'),\n",
       " (',', 'OTHER'),\n",
       " ('berumur', 'OTHER'),\n",
       " ('25', 'DATE'),\n",
       " ('tahun', 'DATE'),\n",
       " (',', 'OTHER'),\n",
       " ('bangsa', 'OTHER'),\n",
       " ('melayu', 'OTHER'),\n",
       " (',', 'OTHER'),\n",
       " ('agama', 'OTHER'),\n",
       " ('islam', 'NORP'),\n",
       " (',', 'OTHER'),\n",
       " ('tinggal', 'OTHER'),\n",
       " ('di', 'OTHER'),\n",
       " ('cyberjaya', 'GPE'),\n",
       " ('malaysia', 'GPE'),\n",
       " (',', 'OTHER'),\n",
       " ('bercakap', 'OTHER'),\n",
       " ('bahasa', 'LANGUAGE'),\n",
       " ('melayu', 'LANGUAGE'),\n",
       " (',', 'OTHER'),\n",
       " ('semua', 'OTHER'),\n",
       " ('membaca', 'OTHER'),\n",
       " ('buku', 'OTHER'),\n",
       " ('undang-undang', 'OTHER'),\n",
       " ('kewangan', 'OTHER'),\n",
       " (',', 'OTHER'),\n",
       " ('dengar', 'OTHER'),\n",
       " ('laju', 'OTHER'),\n",
       " ('Siti', 'WORK_OF_ART'),\n",
       " ('Nurhaliza', 'WORK_OF_ART'),\n",
       " ('-', 'WORK_OF_ART'),\n",
       " ('Seluruh', 'WORK_OF_ART'),\n",
       " ('Cinta', 'WORK_OF_ART'),\n",
       " ('sambil', 'OTHER'),\n",
       " ('makan', 'OTHER'),\n",
       " ('ayam', 'OTHER'),\n",
       " ('goreng', 'OTHER'),\n",
       " ('KFC', 'OTHER')]"
      ]
     },
     "execution_count": 41,
     "metadata": {},
     "output_type": "execute_result"
    }
   ],
   "source": [
    "alxlnet.predict(string1)"
   ]
  },
  {
   "cell_type": "code",
   "execution_count": 28,
   "metadata": {},
   "outputs": [
    {
     "data": {
      "text/plain": [
       "[('KUALA', 'GPE'),\n",
       " ('LUMPUR', 'GPE'),\n",
       " (':', 'OTHER'),\n",
       " ('Sempena', 'OTHER'),\n",
       " ('sambutan', 'OTHER'),\n",
       " ('Aidilfitri', 'DATE'),\n",
       " ('minggu', 'OTHER'),\n",
       " ('depan', 'OTHER'),\n",
       " (',', 'OTHER'),\n",
       " ('Perdana', 'OTHER'),\n",
       " ('Menteri', 'OTHER'),\n",
       " ('Tun', 'PERSON'),\n",
       " ('Dr', 'PERSON'),\n",
       " ('Mahathir', 'PERSON'),\n",
       " ('Mohamad', 'PERSON'),\n",
       " ('dan', 'OTHER'),\n",
       " ('Menteri', 'OTHER'),\n",
       " ('Pengangkutan', 'OTHER'),\n",
       " ('Anthony', 'PERSON'),\n",
       " ('Loke', 'PERSON'),\n",
       " ('Siew', 'PERSON'),\n",
       " ('Fook', 'PERSON'),\n",
       " ('menitipkan', 'OTHER'),\n",
       " ('pesanan', 'OTHER'),\n",
       " ('khas', 'OTHER'),\n",
       " ('kepada', 'OTHER'),\n",
       " ('orang', 'OTHER'),\n",
       " ('ramai', 'OTHER'),\n",
       " ('yang', 'OTHER'),\n",
       " ('mahu', 'OTHER'),\n",
       " ('pulang', 'OTHER'),\n",
       " ('ke', 'OTHER'),\n",
       " ('kampung', 'OTHER'),\n",
       " ('halaman', 'OTHER'),\n",
       " ('masing-masing', 'OTHER'),\n",
       " ('.', 'OTHER'),\n",
       " ('Dalam', 'OTHER'),\n",
       " ('video', 'OTHER'),\n",
       " ('pendek', 'OTHER'),\n",
       " ('terbitan', 'OTHER'),\n",
       " ('Jabatan', 'ORG'),\n",
       " ('Keselamatan', 'ORG'),\n",
       " ('Jalan', 'ORG'),\n",
       " ('Raya', 'ORG'),\n",
       " ('(', 'ORG'),\n",
       " ('JKJR', 'ORG'),\n",
       " (')', 'ORG'),\n",
       " ('itu', 'OTHER'),\n",
       " (',', 'OTHER'),\n",
       " ('Dr', 'PERSON'),\n",
       " ('Mahathir', 'PERSON'),\n",
       " ('menasihati', 'OTHER'),\n",
       " ('mereka', 'OTHER'),\n",
       " ('supaya', 'OTHER'),\n",
       " ('berhenti', 'OTHER'),\n",
       " ('berehat', 'OTHER'),\n",
       " ('dan', 'OTHER'),\n",
       " ('tidur', 'OTHER'),\n",
       " ('sebentar', 'OTHER'),\n",
       " ('sekiranya', 'OTHER'),\n",
       " ('mengantuk', 'OTHER'),\n",
       " ('ketika', 'OTHER'),\n",
       " ('memandu', 'OTHER'),\n",
       " ('.', 'OTHER')]"
      ]
     },
     "execution_count": 28,
     "metadata": {},
     "output_type": "execute_result"
    }
   ],
   "source": [
    "quantized_albert.predict(string)"
   ]
  },
  {
   "cell_type": "code",
   "execution_count": 42,
   "metadata": {
    "scrolled": true
   },
   "outputs": [
    {
     "data": {
      "text/plain": [
       "[('memperkenalkan', 'OTHER'),\n",
       " ('Husein', 'PERSON'),\n",
       " (',', 'OTHER'),\n",
       " ('dia', 'OTHER'),\n",
       " ('sangat', 'OTHER'),\n",
       " ('comel', 'OTHER'),\n",
       " (',', 'OTHER'),\n",
       " ('berumur', 'DATE'),\n",
       " ('25', 'DATE'),\n",
       " ('tahun', 'DATE'),\n",
       " (',', 'OTHER'),\n",
       " ('bangsa', 'OTHER'),\n",
       " ('melayu', 'OTHER'),\n",
       " (',', 'OTHER'),\n",
       " ('agama', 'OTHER'),\n",
       " ('islam', 'OTHER'),\n",
       " (',', 'OTHER'),\n",
       " ('tinggal', 'OTHER'),\n",
       " ('di', 'OTHER'),\n",
       " ('cyberjaya', 'GPE'),\n",
       " ('malaysia', 'GPE'),\n",
       " (',', 'OTHER'),\n",
       " ('bercakap', 'OTHER'),\n",
       " ('bahasa', 'OTHER'),\n",
       " ('melayu', 'OTHER'),\n",
       " (',', 'OTHER'),\n",
       " ('semua', 'OTHER'),\n",
       " ('membaca', 'OTHER'),\n",
       " ('buku', 'OTHER'),\n",
       " ('undang-undang', 'OTHER'),\n",
       " ('kewangan', 'OTHER'),\n",
       " (',', 'OTHER'),\n",
       " ('dengar', 'OTHER'),\n",
       " ('laju', 'OTHER'),\n",
       " ('Siti', 'WORK_OF_ART'),\n",
       " ('Nurhaliza', 'WORK_OF_ART'),\n",
       " ('-', 'X'),\n",
       " ('Seluruh', 'WORK_OF_ART'),\n",
       " ('Cinta', 'WORK_OF_ART'),\n",
       " ('sambil', 'OTHER'),\n",
       " ('makan', 'OTHER'),\n",
       " ('ayam', 'OTHER'),\n",
       " ('goreng', 'OTHER'),\n",
       " ('KFC', 'OTHER')]"
      ]
     },
     "execution_count": 42,
     "metadata": {},
     "output_type": "execute_result"
    }
   ],
   "source": [
    "quantized_alxlnet.predict(string1)"
   ]
  },
  {
   "cell_type": "markdown",
   "metadata": {},
   "source": [
    "#### Group similar tags\n",
    "\n",
    "```python\n",
    "def analyze(self, string: str):\n",
    "        \"\"\"\n",
    "        Analyze a string.\n",
    "\n",
    "        Parameters\n",
    "        ----------\n",
    "        string : str\n",
    "\n",
    "        Returns\n",
    "        -------\n",
    "        result: {'words': List[str], 'tags': [{'text': 'text', 'type': 'location', 'score': 1.0, 'beginOffset': 0, 'endOffset': 1}]}\n",
    "        \"\"\"\n",
    "```"
   ]
  },
  {
   "cell_type": "code",
   "execution_count": 30,
   "metadata": {},
   "outputs": [
    {
     "data": {
      "text/plain": [
       "[{'text': ['memperkenalkan', 'Husein', ',', 'dia', 'sangat', 'comel', ','],\n",
       "  'type': 'OTHER',\n",
       "  'score': 1.0,\n",
       "  'beginOffset': 0,\n",
       "  'endOffset': 7},\n",
       " {'text': ['berumur', '25', 'tahun'],\n",
       "  'type': 'DATE',\n",
       "  'score': 1.0,\n",
       "  'beginOffset': 7,\n",
       "  'endOffset': 10},\n",
       " {'text': [',', 'bangsa', 'melayu', ',', 'agama'],\n",
       "  'type': 'OTHER',\n",
       "  'score': 1.0,\n",
       "  'beginOffset': 10,\n",
       "  'endOffset': 15},\n",
       " {'text': ['islam'],\n",
       "  'type': 'NORP',\n",
       "  'score': 1.0,\n",
       "  'beginOffset': 15,\n",
       "  'endOffset': 16},\n",
       " {'text': [',', 'tinggal', 'di'],\n",
       "  'type': 'OTHER',\n",
       "  'score': 1.0,\n",
       "  'beginOffset': 16,\n",
       "  'endOffset': 19},\n",
       " {'text': ['cyberjaya'],\n",
       "  'type': 'GPE',\n",
       "  'score': 1.0,\n",
       "  'beginOffset': 19,\n",
       "  'endOffset': 20},\n",
       " {'text': ['malaysia',\n",
       "   ',',\n",
       "   'bercakap',\n",
       "   'bahasa',\n",
       "   'melayu',\n",
       "   ',',\n",
       "   'semua',\n",
       "   'membaca',\n",
       "   'buku',\n",
       "   'undang-undang',\n",
       "   'kewangan',\n",
       "   ',',\n",
       "   'dengar',\n",
       "   'laju'],\n",
       "  'type': 'OTHER',\n",
       "  'score': 1.0,\n",
       "  'beginOffset': 20,\n",
       "  'endOffset': 34},\n",
       " {'text': ['Justin', 'Bieber'],\n",
       "  'type': 'ORG',\n",
       "  'score': 1.0,\n",
       "  'beginOffset': 34,\n",
       "  'endOffset': 36},\n",
       " {'text': ['-', 'Baby'],\n",
       "  'type': 'X',\n",
       "  'score': 1.0,\n",
       "  'beginOffset': 36,\n",
       "  'endOffset': 38},\n",
       " {'text': ['sambil', 'makan', 'ayam', 'goreng'],\n",
       "  'type': 'OTHER',\n",
       "  'score': 1.0,\n",
       "  'beginOffset': 38,\n",
       "  'endOffset': 42},\n",
       " {'text': ['KFC'],\n",
       "  'type': 'ORG',\n",
       "  'score': 1.0,\n",
       "  'beginOffset': 42,\n",
       "  'endOffset': 43}]"
      ]
     },
     "execution_count": 30,
     "metadata": {},
     "output_type": "execute_result"
    }
   ],
   "source": [
    "alxlnet.analyze(string1)"
   ]
  },
  {
   "cell_type": "markdown",
   "metadata": {},
   "source": [
    "#### Vectorize\n",
    "\n",
    "Let say you want to visualize word level in lower dimension, you can use `model.vectorize`,\n",
    "\n",
    "```python\n",
    "def vectorize(self, string: str):\n",
    "    \"\"\"\n",
    "    vectorize a string.\n",
    "\n",
    "    Parameters\n",
    "    ----------\n",
    "    string: List[str]\n",
    "\n",
    "    Returns\n",
    "    -------\n",
    "    result: np.array\n",
    "    \"\"\"\n",
    "```"
   ]
  },
  {
   "cell_type": "code",
   "execution_count": 31,
   "metadata": {},
   "outputs": [],
   "source": [
    "strings = [string, string1]\n",
    "r = [quantized_model.vectorize(string) for string in strings]"
   ]
  },
  {
   "cell_type": "code",
   "execution_count": 32,
   "metadata": {},
   "outputs": [],
   "source": [
    "x, y = [], []\n",
    "for row in r:\n",
    "    x.extend([i[0] for i in row])\n",
    "    y.extend([i[1] for i in row])"
   ]
  },
  {
   "cell_type": "code",
   "execution_count": 33,
   "metadata": {},
   "outputs": [
    {
     "data": {
      "text/plain": [
       "(107, 2)"
      ]
     },
     "execution_count": 33,
     "metadata": {},
     "output_type": "execute_result"
    }
   ],
   "source": [
    "tsne = TSNE().fit_transform(y)\n",
    "tsne.shape"
   ]
  },
  {
   "cell_type": "code",
   "execution_count": 48,
   "metadata": {
    "scrolled": true
   },
   "outputs": [
    {
     "data": {
      "image/png": "[encoded data removed]",
      "text/plain": [
       "<Figure size 504x504 with 1 Axes>"
      ]
     },
     "metadata": {
      "needs_background": "light"
     },
     "output_type": "display_data"
    }
   ],
   "source": [
    "plt.figure(figsize = (7, 7))\n",
    "plt.scatter(tsne[:, 0], tsne[:, 1])\n",
    "labels = x\n",
    "for label, x, y in zip(\n",
    "    labels, tsne[:, 0], tsne[:, 1]\n",
    "):\n",
    "    label = (\n",
    "        '%s, %.3f' % (label[0], label[1])\n",
    "        if isinstance(label, list)\n",
    "        else label\n",
    "    )\n",
    "    plt.annotate(\n",
    "        label,\n",
    "        xy = (x, y),\n",
    "        xytext = (0, 0),\n",
    "        textcoords = 'offset points',\n",
    "    )"
   ]
  },
  {
   "cell_type": "markdown",
   "metadata": {},
   "source": [
    "Pretty good, the model able to know cluster similar entities."
   ]
  },
  {
   "cell_type": "markdown",
   "metadata": {},
   "source": [
    "### Load general Malaya entity model\n",
    "\n",
    "This model able to classify,\n",
    "\n",
    "1. date\n",
    "2. money\n",
    "3. temperature\n",
    "4. distance\n",
    "5. volume\n",
    "6. duration\n",
    "7. phone\n",
    "8. email\n",
    "9. url\n",
    "10. time\n",
    "11. datetime\n",
    "12. local and generic foods, can check available rules in malaya.texts._food\n",
    "13. local and generic drinks, can check available rules in malaya.texts._food\n",
    "\n",
    "We can insert BERT or any deep learning model by passing `malaya.entity.general_entity(model = model)`, as long the model has `predict` method and return `[(string, label), (string, label)]`. This is an optional."
   ]
  },
  {
   "cell_type": "code",
   "execution_count": 32,
   "metadata": {},
   "outputs": [],
   "source": [
    "entity = malaya.entity.general_entity(model = model)"
   ]
  },
  {
   "cell_type": "code",
   "execution_count": 33,
   "metadata": {},
   "outputs": [
    {
     "data": {
      "text/plain": [
       "{'PERSON': ['Husein'],\n",
       " 'OTHER': ['baca buku Perlembagaan yang berharga',\n",
       "  'ringgit dekat kfc sungai petani',\n",
       "  ', suhu 32 celcius, sambil makan ayam goreng dan milo o ais'],\n",
       " 'CARDINAL': ['3k'],\n",
       " 'DATE': ['minggu lepas,', '2019'],\n",
       " 'TIME': ['2 ptg'],\n",
       " 'MONEY': ['2 oktober'],\n",
       " 'date': {'2 oktober 2019': datetime.datetime(2019, 10, 2, 0, 0),\n",
       "  'minggu lalu': datetime.datetime(2021, 2, 11, 13, 27, 58, 82807)},\n",
       " 'money': {'3k ringgit': 'RM3000.0'},\n",
       " 'temperature': ['32 celcius'],\n",
       " 'distance': [],\n",
       " 'volume': [],\n",
       " 'duration': [],\n",
       " 'phone': [],\n",
       " 'email': [],\n",
       " 'url': [],\n",
       " 'time': {'2 PM': datetime.datetime(2021, 2, 18, 14, 0)},\n",
       " 'datetime': {'2 ptg 2 oktober 2019': datetime.datetime(2019, 10, 2, 14, 0)},\n",
       " 'food': ['ayam goreng'],\n",
       " 'drink': ['milo o ais'],\n",
       " 'weight': []}"
      ]
     },
     "execution_count": 33,
     "metadata": {},
     "output_type": "execute_result"
    }
   ],
   "source": [
    "entity.predict('Husein baca buku Perlembagaan yang berharga 3k ringgit dekat kfc sungai petani minggu lepas, 2 ptg 2 oktober 2019 , suhu 32 celcius, sambil makan ayam goreng dan milo o ais')"
   ]
  },
  {
   "cell_type": "code",
   "execution_count": 34,
   "metadata": {},
   "outputs": [
    {
     "data": {
      "text/plain": [
       "{'OTHER': ['contact Husein at husein.zol05@gmail.com'],\n",
       " 'date': {},\n",
       " 'money': {},\n",
       " 'temperature': [],\n",
       " 'distance': [],\n",
       " 'volume': [],\n",
       " 'duration': [],\n",
       " 'phone': [],\n",
       " 'email': ['husein.zol05@gmail.com'],\n",
       " 'url': [],\n",
       " 'time': {},\n",
       " 'datetime': {},\n",
       " 'food': [],\n",
       " 'drink': [],\n",
       " 'weight': []}"
      ]
     },
     "execution_count": 34,
     "metadata": {},
     "output_type": "execute_result"
    }
   ],
   "source": [
    "entity.predict('contact Husein at husein.zol05@gmail.com')"
   ]
  },
  {
   "cell_type": "code",
   "execution_count": 35,
   "metadata": {},
   "outputs": [
    {
     "data": {
      "text/plain": [
       "{'OTHER': ['tolong tempahkan meja makan makan nasi dagang dan jus apple, milo tarik',\n",
       "  'dekat'],\n",
       " 'DATE': ['esok'],\n",
       " 'ORG': ['Restoran Sebulek'],\n",
       " 'date': {'esok': datetime.datetime(2021, 2, 19, 13, 27, 58, 505853)},\n",
       " 'money': {},\n",
       " 'temperature': [],\n",
       " 'distance': [],\n",
       " 'volume': [],\n",
       " 'duration': [],\n",
       " 'phone': [],\n",
       " 'email': [],\n",
       " 'url': [],\n",
       " 'time': {},\n",
       " 'datetime': {},\n",
       " 'food': ['nasi dagang'],\n",
       " 'drink': ['milo tarik', 'jus apple'],\n",
       " 'weight': []}"
      ]
     },
     "execution_count": 35,
     "metadata": {},
     "output_type": "execute_result"
    }
   ],
   "source": [
    "entity.predict('tolong tempahkan meja makan makan nasi dagang dan jus apple, milo tarik esok dekat Restoran Sebulek')"
   ]
  },
  {
   "cell_type": "markdown",
   "metadata": {},
   "source": [
    "### Voting stack model"
   ]
  },
  {
   "cell_type": "code",
   "execution_count": 43,
   "metadata": {},
   "outputs": [
    {
     "data": {
      "text/plain": [
       "[('memperkenalkan', 'OTHER'),\n",
       " ('Husein', 'PERSON'),\n",
       " (',', 'OTHER'),\n",
       " ('dia', 'OTHER'),\n",
       " ('sangat', 'OTHER'),\n",
       " ('comel', 'OTHER'),\n",
       " (',', 'OTHER'),\n",
       " ('berumur', 'DATE'),\n",
       " ('25', 'DATE'),\n",
       " ('tahun', 'DATE'),\n",
       " (',', 'OTHER'),\n",
       " ('bangsa', 'OTHER'),\n",
       " ('melayu', 'OTHER'),\n",
       " (',', 'OTHER'),\n",
       " ('agama', 'OTHER'),\n",
       " ('islam', 'OTHER'),\n",
       " (',', 'OTHER'),\n",
       " ('tinggal', 'OTHER'),\n",
       " ('di', 'OTHER'),\n",
       " ('cyberjaya', 'GPE'),\n",
       " ('malaysia', 'GPE'),\n",
       " (',', 'OTHER'),\n",
       " ('bercakap', 'OTHER'),\n",
       " ('bahasa', 'OTHER'),\n",
       " ('melayu', 'LANGUAGE'),\n",
       " (',', 'OTHER'),\n",
       " ('semua', 'OTHER'),\n",
       " ('membaca', 'OTHER'),\n",
       " ('buku', 'OTHER'),\n",
       " ('undang-undang', 'OTHER'),\n",
       " ('kewangan', 'OTHER'),\n",
       " (',', 'OTHER'),\n",
       " ('dengar', 'OTHER'),\n",
       " ('laju', 'OTHER'),\n",
       " ('Siti', 'WORK_OF_ART'),\n",
       " ('Nurhaliza', 'WORK_OF_ART'),\n",
       " ('-', 'WORK_OF_ART'),\n",
       " ('Seluruh', 'WORK_OF_ART'),\n",
       " ('Cinta', 'WORK_OF_ART'),\n",
       " ('sambil', 'OTHER'),\n",
       " ('makan', 'OTHER'),\n",
       " ('ayam', 'OTHER'),\n",
       " ('goreng', 'OTHER'),\n",
       " ('KFC', 'ORG')]"
      ]
     },
     "execution_count": 43,
     "metadata": {},
     "output_type": "execute_result"
    }
   ],
   "source": [
    "malaya.stack.voting_stack([albert, alxlnet, alxlnet], string1)"
   ]
  }
 ],
 "metadata": {
  "kernelspec": {
   "display_name": "Python 3",
   "language": "python",
   "name": "python3"
  },
  "language_info": {
   "codemirror_mode": {
    "name": "ipython",
    "version": 3
   },
   "file_extension": ".py",
   "mimetype": "text/x-python",
   "name": "python",
   "nbconvert_exporter": "python",
   "pygments_lexer": "ipython3",
   "version": "3.7.7"
  }
 },
 "nbformat": 4,
 "nbformat_minor": 2
}
