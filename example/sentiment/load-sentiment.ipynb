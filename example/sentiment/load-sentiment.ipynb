{
 "cells": [
  {
   "cell_type": "code",
   "execution_count": 1,
   "metadata": {},
   "outputs": [
    {
     "name": "stdout",
     "output_type": "stream",
     "text": [
      "CPU times: user 12.9 s, sys: 1.45 s, total: 14.4 s\n",
      "Wall time: 18 s\n"
     ]
    }
   ],
   "source": [
    "%%time\n",
    "import malaya"
   ]
  },
  {
   "cell_type": "code",
   "execution_count": 2,
   "metadata": {},
   "outputs": [],
   "source": [
    "positive_text = 'Kerajaan negeri Kelantan mempersoalkan motif kenyataan Menteri Kewangan Lim Guan Eng yang hanya menyebut Kelantan penerima terbesar bantuan kewangan dari Kerajaan Persekutuan. Sedangkan menurut Timbalan Menteri Besarnya, Datuk Mohd Amar Nik Abdullah, negeri lain yang lebih maju dari Kelantan turut mendapat pembiayaan dan pinjaman.'\n",
    "negative_text = 'kerajaan sebenarnya sangat bencikan rakyatnya, minyak naik dan segalanya'"
   ]
  },
  {
   "cell_type": "markdown",
   "metadata": {},
   "source": [
    "## Load multinomial model"
   ]
  },
  {
   "cell_type": "code",
   "execution_count": 3,
   "metadata": {},
   "outputs": [
    {
     "name": "stdout",
     "output_type": "stream",
     "text": [
      "{'negative': 0.27780816431771815, 'positive': 0.7221918356822792}\n",
      "{'negative': 0.4230539695981826, 'positive': 0.5769460304018175}\n"
     ]
    },
    {
     "data": {
      "text/plain": [
       "[{'negative': 0.4230539695981826, 'positive': 0.5769460304018175},\n",
       " {'negative': 0.4230539695981826, 'positive': 0.5769460304018175}]"
      ]
     },
     "execution_count": 3,
     "metadata": {},
     "output_type": "execute_result"
    }
   ],
   "source": [
    "model = malaya.sentiment.multinomial()\n",
    "print(model.predict(positive_text,get_proba=True))\n",
    "print(model.predict(negative_text,get_proba=True))\n",
    "model.predict_batch([negative_text,negative_text],get_proba=True)"
   ]
  },
  {
   "cell_type": "markdown",
   "metadata": {},
   "source": [
    "## Load xgb model"
   ]
  },
  {
   "cell_type": "code",
   "execution_count": 4,
   "metadata": {},
   "outputs": [
    {
     "name": "stdout",
     "output_type": "stream",
     "text": [
      "{'negative': 0.44467238, 'positive': 0.5553276}\n",
      "{'negative': 0.47532737, 'positive': 0.5246726}\n"
     ]
    },
    {
     "data": {
      "text/plain": [
       "[{'negative': 0.47532737, 'positive': 0.5246726},\n",
       " {'negative': 0.47532737, 'positive': 0.5246726}]"
      ]
     },
     "execution_count": 4,
     "metadata": {},
     "output_type": "execute_result"
    }
   ],
   "source": [
    "model = malaya.sentiment.xgb()\n",
    "print(model.predict(positive_text,get_proba=True))\n",
    "print(model.predict(negative_text,get_proba=True))\n",
    "model.predict_batch([negative_text,negative_text],get_proba=True)"
   ]
  },
  {
   "cell_type": "markdown",
   "metadata": {},
   "source": [
    "## List available deep learning models"
   ]
  },
  {
   "cell_type": "code",
   "execution_count": 5,
   "metadata": {},
   "outputs": [
    {
     "data": {
      "text/plain": [
       "['fast-text',\n",
       " 'hierarchical',\n",
       " 'bahdanau',\n",
       " 'luong',\n",
       " 'bidirectional',\n",
       " 'bert',\n",
       " 'entity-network']"
      ]
     },
     "execution_count": 5,
     "metadata": {},
     "output_type": "execute_result"
    }
   ],
   "source": [
    "malaya.sentiment.available_deep_model()"
   ]
  },
  {
   "cell_type": "markdown",
   "metadata": {},
   "source": [
    "## Load deep learning models"
   ]
  },
  {
   "cell_type": "code",
   "execution_count": 6,
   "metadata": {},
   "outputs": [
    {
     "name": "stdout",
     "output_type": "stream",
     "text": [
      "Testing fast-text model\n",
      "{'negative': 0.99185514, 'positive': 0.008144839}\n",
      "[{'negative': 0.8494132, 'positive': 0.15058675}, {'negative': 0.04582213, 'positive': 0.95417786}]\n",
      "\n",
      "Testing hierarchical model\n",
      "{'negative': 0.110631816, 'positive': 0.8893682, 'attention': [['kerajaan', 0.10388958], ['sebenarnya', 0.4929846], ['sangat', 0.29071146], ['bencikan', 0.07854219], ['rakyatnya', 0.019831425], ['minyak', 0.010329048], ['naik', 0.002903083], ['segalanya', 0.0008086153]]}\n",
      "[{'negative': 0.096144125, 'positive': 0.9038559}, {'negative': 0.12305506, 'positive': 0.87694496}]\n",
      "\n",
      "Testing bahdanau model\n",
      "{'negative': 0.27703816, 'positive': 0.72296184, 'attention': [['kerajaan', 0.13535759], ['sebenarnya', 0.023817956], ['sangat', 0.030500164], ['bencikan', 0.637391], ['rakyatnya', 0.04856573], ['minyak', 0.036034647], ['naik', 0.060078725], ['segalanya', 0.028254228]]}\n",
      "[{'negative': 0.60924244, 'positive': 0.3907576}, {'negative': 0.2196782, 'positive': 0.78032184}]\n",
      "\n",
      "Testing luong model\n",
      "{'negative': 0.60044205, 'positive': 0.3995579, 'attention': [['kerajaan', 0.15034309], ['sebenarnya', 0.08993225], ['sangat', 0.068059266], ['bencikan', 0.122634426], ['rakyatnya', 0.096616365], ['minyak', 0.102913655], ['naik', 0.18173374], ['segalanya', 0.18776724]]}\n",
      "[{'negative': 0.98223615, 'positive': 0.017763875}, {'negative': 0.114074536, 'positive': 0.88592553}]\n",
      "\n",
      "Testing bidirectional model\n",
      "{'negative': 0.11350883, 'positive': 0.8864912}\n",
      "[{'negative': 0.24156873, 'positive': 0.7584313}, {'negative': 0.337586, 'positive': 0.66241395}]\n",
      "\n",
      "Testing bert model\n",
      "{'negative': 0.992415, 'positive': 0.007585052}\n",
      "[{'negative': 0.992415, 'positive': 0.007585059}, {'negative': 0.9923813, 'positive': 0.0076187113}]\n",
      "\n",
      "Testing entity-network model\n",
      "{'negative': 0.5229405, 'positive': 0.4770595}\n",
      "[{'negative': 0.5229405, 'positive': 0.4770595}, {'negative': 0.6998231, 'positive': 0.3001769}]\n",
      "\n"
     ]
    }
   ],
   "source": [
    "for i in malaya.sentiment.available_deep_model():\n",
    "    print('Testing %s model'%(i))\n",
    "    model = malaya.sentiment.deep_model(i)\n",
    "    print(model.predict(negative_text))\n",
    "    print(model.predict_batch([negative_text, positive_text]))\n",
    "    print()"
   ]
  },
  {
   "cell_type": "markdown",
   "metadata": {},
   "source": [
    "## Unsupervised important words learning"
   ]
  },
  {
   "cell_type": "code",
   "execution_count": 7,
   "metadata": {},
   "outputs": [],
   "source": [
    "import matplotlib.pyplot as plt\n",
    "import seaborn as sns\n",
    "sns.set() # i just really like seaborn colors"
   ]
  },
  {
   "cell_type": "markdown",
   "metadata": {},
   "source": [
    "#### Visualizing bahdanau model"
   ]
  },
  {
   "cell_type": "code",
   "execution_count": 8,
   "metadata": {},
   "outputs": [
    {
     "data": {
      "image/png": "[encoded data removed]",
      "text/plain": [
       "<Figure size 1080x504 with 1 Axes>"
      ]
     },
     "metadata": {
      "needs_background": "light"
     },
     "output_type": "display_data"
    }
   ],
   "source": [
    "model = malaya.sentiment.deep_model('bahdanau')\n",
    "result = model.predict(positive_text)['attention']\n",
    "\n",
    "plt.figure(figsize = (15, 7))\n",
    "labels = [r[0] for r in result]\n",
    "val = [r[1] for r in result]\n",
    "aranged = [i for i in range(len(labels))]\n",
    "plt.bar(aranged, val)\n",
    "plt.xticks(aranged, labels, rotation = 'vertical')\n",
    "plt.show()"
   ]
  },
  {
   "cell_type": "markdown",
   "metadata": {},
   "source": [
    "#### Visualizing luong model"
   ]
  },
  {
   "cell_type": "code",
   "execution_count": 9,
   "metadata": {},
   "outputs": [
    {
     "data": {
      "image/png": "[encoded data removed]",
      "text/plain": [
       "<Figure size 1080x504 with 1 Axes>"
      ]
     },
     "metadata": {
      "needs_background": "light"
     },
     "output_type": "display_data"
    }
   ],
   "source": [
    "model = malaya.sentiment.deep_model('luong')\n",
    "result = model.predict(positive_text)['attention']\n",
    "\n",
    "plt.figure(figsize = (15, 7))\n",
    "labels = [r[0] for r in result]\n",
    "val = [r[1] for r in result]\n",
    "aranged = [i for i in range(len(labels))]\n",
    "plt.bar(aranged, val)\n",
    "plt.xticks(aranged, labels, rotation = 'vertical')\n",
    "plt.show()"
   ]
  },
  {
   "cell_type": "markdown",
   "metadata": {},
   "source": [
    "#### Visualizing hierarchical model"
   ]
  },
  {
   "cell_type": "code",
   "execution_count": 10,
   "metadata": {},
   "outputs": [
    {
     "data": {
      "image/png": "[encoded data removed]",
      "text/plain": [
       "<Figure size 1080x504 with 1 Axes>"
      ]
     },
     "metadata": {
      "needs_background": "light"
     },
     "output_type": "display_data"
    }
   ],
   "source": [
    "model = malaya.sentiment.deep_model('hierarchical')\n",
    "result = model.predict(positive_text)['attention']\n",
    "\n",
    "plt.figure(figsize = (15, 7))\n",
    "labels = [r[0] for r in result]\n",
    "val = [r[1] for r in result]\n",
    "aranged = [i for i in range(len(labels))]\n",
    "plt.bar(aranged, val)\n",
    "plt.xticks(aranged, labels, rotation = 'vertical')\n",
    "plt.show()"
   ]
  },
  {
   "cell_type": "markdown",
   "metadata": {},
   "source": [
    "## Load Sparse deep learning models"
   ]
  },
  {
   "cell_type": "markdown",
   "metadata": {},
   "source": [
    "What happen if a word not included in the dictionary of the models? like `setan`, what if `setan` appeared in text we want to classify? We found this problem when classifying social media texts / posts. Words used not really a vocabulary-based contextual.\n",
    "\n",
    "Malaya will treat **unknown words** as `<UNK>`, so, to solve this problem, we need to use N-grams character based. Malaya chose tri-grams until fifth-grams.\n",
    "\n",
    "```python\n",
    "setan = ['set', 'eta', 'tan']\n",
    "```\n",
    "\n",
    "Sklearn provided easy interface to use n-grams, problem is, it is very sparse, a lot of zeros and not memory efficient. Sklearn returned sparse matrix for the result, lucky Tensorflow already provided some sparse function."
   ]
  },
  {
   "cell_type": "code",
   "execution_count": 11,
   "metadata": {},
   "outputs": [
    {
     "data": {
      "text/plain": [
       "['fast-text-char']"
      ]
     },
     "execution_count": 11,
     "metadata": {},
     "output_type": "execute_result"
    }
   ],
   "source": [
    "malaya.sentiment.available_sparse_deep_model()"
   ]
  },
  {
   "cell_type": "markdown",
   "metadata": {},
   "source": [
    "Right now Malaya only provide 1 sparse model, `fast-text-char`. We will try to evolve it."
   ]
  },
  {
   "cell_type": "code",
   "execution_count": 12,
   "metadata": {},
   "outputs": [
    {
     "name": "stdout",
     "output_type": "stream",
     "text": [
      "INFO:tensorflow:Restoring parameters from /Users/huseinzol/Malaya/sentiment/fast-text-char/model.ckpt\n"
     ]
    }
   ],
   "source": [
    "sparse_model = malaya.sentiment.sparse_deep_model()"
   ]
  },
  {
   "cell_type": "code",
   "execution_count": 13,
   "metadata": {},
   "outputs": [
    {
     "data": {
      "text/plain": [
       "{'negative': 0.38546535, 'positive': 0.6145346}"
      ]
     },
     "execution_count": 13,
     "metadata": {},
     "output_type": "execute_result"
    }
   ],
   "source": [
    "sparse_model.predict(positive_text)"
   ]
  },
  {
   "cell_type": "code",
   "execution_count": 14,
   "metadata": {},
   "outputs": [
    {
     "data": {
      "text/plain": [
       "[{'negative': 0.38546535, 'positive': 0.6145346},\n",
       " {'negative': 0.50480145, 'positive': 0.49519858}]"
      ]
     },
     "execution_count": 14,
     "metadata": {},
     "output_type": "execute_result"
    }
   ],
   "source": [
    "sparse_model.predict_batch([positive_text, negative_text])"
   ]
  },
  {
   "cell_type": "markdown",
   "metadata": {},
   "source": [
    "**Not bad huh, but the polarity is not really high as word-based models. Word-based models can get negative / positive value really near to 1.0**"
   ]
  },
  {
   "cell_type": "markdown",
   "metadata": {},
   "source": [
    "## Train a multinomial model using custom dataset"
   ]
  },
  {
   "cell_type": "code",
   "execution_count": 15,
   "metadata": {},
   "outputs": [],
   "source": [
    "import pandas as pd\n",
    "df = pd.read_csv('tests/02032018.csv',sep=';')\n",
    "df = df.iloc[3:,1:]\n",
    "df.columns = ['text','label']\n",
    "corpus = df.text.tolist()"
   ]
  },
  {
   "cell_type": "markdown",
   "metadata": {},
   "source": [
    "corpus should be [(text, label)]"
   ]
  },
  {
   "cell_type": "code",
   "execution_count": 16,
   "metadata": {},
   "outputs": [
    {
     "name": "stdout",
     "output_type": "stream",
     "text": [
      "             precision    recall  f1-score   support\n",
      "\n",
      "   Negative       0.00      0.00      0.00        15\n",
      "    Neutral       0.50      0.06      0.11        17\n",
      "   Positive       0.49      1.00      0.66        29\n",
      "\n",
      "avg / total       0.37      0.49      0.34        61\n",
      "\n"
     ]
    }
   ],
   "source": [
    "dataset = [[df.iloc[i,0],df.iloc[i,1]] for i in range(df.shape[0])]\n",
    "bayes = malaya.sentiment.train_multinomial(dataset)"
   ]
  },
  {
   "cell_type": "markdown",
   "metadata": {},
   "source": [
    "#### You also able to feed directory location\n",
    "\n",
    "```\n",
    "directory\n",
    "    |\n",
    "    |- adidas\n",
    "    |- apple\n",
    "    |- hungry\n",
    "```"
   ]
  },
  {
   "cell_type": "code",
   "execution_count": 17,
   "metadata": {},
   "outputs": [
    {
     "name": "stdout",
     "output_type": "stream",
     "text": [
      "             precision    recall  f1-score   support\n",
      "\n",
      "     adidas       0.95      0.59      0.73       311\n",
      "      apple       0.97      0.61      0.75       458\n",
      "     hungry       0.79      0.92      0.85      1079\n",
      "   kerajaan       0.84      0.82      0.83      1388\n",
      "       nike       0.96      0.50      0.66       325\n",
      "pembangkang       0.71      0.86      0.78      1498\n",
      "\n",
      "avg / total       0.82      0.80      0.79      5059\n",
      "\n"
     ]
    }
   ],
   "source": [
    "bayes = malaya.sentiment.train_multinomial('tests/local')"
   ]
  },
  {
   "cell_type": "code",
   "execution_count": 18,
   "metadata": {},
   "outputs": [
    {
     "data": {
      "text/plain": [
       "{'adidas': 0.0005687282506828817,\n",
       " 'apple': 0.000662907603798319,\n",
       " 'hungry': 0.009170662067707083,\n",
       " 'kerajaan': 0.06985529223854361,\n",
       " 'nike': 0.0006071193644321936,\n",
       " 'pembangkang': 0.9191352904748373}"
      ]
     },
     "execution_count": 18,
     "metadata": {},
     "output_type": "execute_result"
    }
   ],
   "source": [
    "bayes.predict('saya suka kerajaan dan anwar ibrahim', get_proba = True)"
   ]
  },
  {
   "cell_type": "markdown",
   "metadata": {},
   "source": [
    "#### Train a multinomial using skip-gram vectorization"
   ]
  },
  {
   "cell_type": "code",
   "execution_count": 19,
   "metadata": {},
   "outputs": [
    {
     "name": "stdout",
     "output_type": "stream",
     "text": [
      "             precision    recall  f1-score   support\n",
      "\n",
      "     adidas       0.38      0.84      0.52       328\n",
      "      apple       0.50      0.89      0.64       499\n",
      "     hungry       0.84      0.93      0.88      1083\n",
      "   kerajaan       0.89      0.61      0.72      1332\n",
      "       nike       0.57      0.78      0.66       323\n",
      "pembangkang       0.89      0.53      0.66      1494\n",
      "\n",
      "avg / total       0.79      0.71      0.71      5059\n",
      "\n"
     ]
    }
   ],
   "source": [
    "bayes = malaya.sentiment.train_multinomial(\n",
    "    'tests/local', vector = 'skip-gram', ngram_range = (1, 3), skip = 5\n",
    ")"
   ]
  },
  {
   "cell_type": "code",
   "execution_count": 20,
   "metadata": {},
   "outputs": [
    {
     "data": {
      "text/plain": [
       "{'adidas': 7.916087875403519e-14,\n",
       " 'apple': 3.823879121188251e-14,\n",
       " 'hungry': 2.319120520022076e-10,\n",
       " 'kerajaan': 8.978991657701227e-07,\n",
       " 'nike': 1.1627344175225e-13,\n",
       " 'pembangkang': 0.999999101868701}"
      ]
     },
     "execution_count": 20,
     "metadata": {},
     "output_type": "execute_result"
    }
   ],
   "source": [
    "bayes.predict('saya suka kerajaan dan anwar ibrahim', get_proba = True)"
   ]
  }
 ],
 "metadata": {
  "kernelspec": {
   "display_name": "Python 3",
   "language": "python",
   "name": "python3"
  },
  "language_info": {
   "codemirror_mode": {
    "name": "ipython",
    "version": 3
   },
   "file_extension": ".py",
   "mimetype": "text/x-python",
   "name": "python",
   "nbconvert_exporter": "python",
   "pygments_lexer": "ipython3",
   "version": "3.6.5"
  }
 },
 "nbformat": 4,
 "nbformat_minor": 2
}
