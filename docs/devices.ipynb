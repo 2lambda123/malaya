{
 "cells": [
  {
   "cell_type": "markdown",
   "metadata": {},
   "source": [
    "# Devices"
   ]
  },
  {
   "cell_type": "markdown",
   "metadata": {},
   "source": [
    "<div class=\"alert alert-info\">\n",
    "\n",
    "This tutorial is available as an IPython notebook at [Malaya/example/devices](https://github.com/huseinzol05/Malaya/tree/master/example/devices).\n",
    "    \n",
    "</div>"
   ]
  },
  {
   "cell_type": "markdown",
   "metadata": {},
   "source": [
    "### List available devices supported to run Malaya model"
   ]
  },
  {
   "cell_type": "code",
   "execution_count": 1,
   "metadata": {},
   "outputs": [],
   "source": [
    "import malaya\n",
    "import logging\n",
    "logging.basicConfig(level = logging.INFO)"
   ]
  },
  {
   "cell_type": "code",
   "execution_count": 2,
   "metadata": {},
   "outputs": [
    {
     "data": {
      "text/plain": [
       "[('CPU:0', '0.268 GB'),\n",
       " ('XLA_CPU:0', '17.18 GB'),\n",
       " ('XLA_GPU:0', '17.18 GB'),\n",
       " ('XLA_GPU:1', '17.18 GB'),\n",
       " ('XLA_GPU:2', '17.18 GB'),\n",
       " ('XLA_GPU:3', '17.18 GB'),\n",
       " ('GPU:0', '29.466 GB'),\n",
       " ('GPU:1', '29.469 GB'),\n",
       " ('GPU:2', '29.469 GB'),\n",
       " ('GPU:3', '29.469 GB')]"
      ]
     },
     "execution_count": 2,
     "metadata": {},
     "output_type": "execute_result"
    }
   ],
   "source": [
    "malaya.utils.available_device()"
   ]
  },
  {
   "cell_type": "markdown",
   "metadata": {},
   "source": [
    "### Use specific device for specific model\n",
    "\n",
    "To do that, pass `device` parameter to any load model function in Malaya, default is `CPU:0`.\n",
    "\n",
    "```python\n",
    "malaya.sentiment.transformer(model = 'alxlnet', device = 'CPU:0')\n",
    "```\n",
    "\n",
    "Or if you want to use XLA,\n",
    "\n",
    "```python\n",
    "malaya.sentiment.transformer(model = 'alxlnet', device = 'XLA_CPU:0')\n",
    "```\n",
    "\n",
    "By default, `device` will automatically set to a gpu with the most empty memory if you have GPUs detected."
   ]
  },
  {
   "cell_type": "code",
   "execution_count": 3,
   "metadata": {},
   "outputs": [
    {
     "name": "stderr",
     "output_type": "stream",
     "text": [
      "INFO:root:running sentiment/alxlnet using device /device:GPU:1\n"
     ]
    }
   ],
   "source": [
    "alxlnet_cpu = malaya.sentiment.transformer(model = 'alxlnet', device = 'CPU:0')"
   ]
  },
  {
   "cell_type": "code",
   "execution_count": 4,
   "metadata": {},
   "outputs": [
    {
     "name": "stderr",
     "output_type": "stream",
     "text": [
      "INFO:root:running sentiment/alxlnet using device /device:GPU:1\n"
     ]
    }
   ],
   "source": [
    "alxlnet_cpu = malaya.sentiment.transformer(model = 'alxlnet', device = 'GPU:1')"
   ]
  },
  {
   "cell_type": "markdown",
   "metadata": {},
   "source": [
    "### Disable auto GPU\n",
    "\n",
    "Let say you do not want to use auto allocate to gpu, simply set `auto_gpu` to `False`, or set,\n",
    "\n",
    "```bash\n",
    "export CUDA_VISIBLE_DEVICES=''\n",
    "```"
   ]
  },
  {
   "cell_type": "code",
   "execution_count": 5,
   "metadata": {},
   "outputs": [
    {
     "name": "stderr",
     "output_type": "stream",
     "text": [
      "INFO:root:running sentiment/alxlnet using device /device:CPU:0\n"
     ]
    }
   ],
   "source": [
    "alxlnet_cpu = malaya.sentiment.transformer(model = 'alxlnet', device = 'CPU:0', auto_gpu = False)"
   ]
  },
  {
   "cell_type": "code",
   "execution_count": 6,
   "metadata": {},
   "outputs": [
    {
     "name": "stderr",
     "output_type": "stream",
     "text": [
      "INFO:root:running sentiment/alxlnet using device /device:XLA_CPU:0\n"
     ]
    }
   ],
   "source": [
    "alxlnet_xla_cpu = malaya.sentiment.transformer(model = 'alxlnet', device = 'XLA_CPU:0', auto_gpu = False)"
   ]
  },
  {
   "cell_type": "code",
   "execution_count": 7,
   "metadata": {},
   "outputs": [],
   "source": [
    "string = 'saya kentut busuk tapi muka comel'"
   ]
  },
  {
   "cell_type": "code",
   "execution_count": 8,
   "metadata": {},
   "outputs": [
    {
     "name": "stdout",
     "output_type": "stream",
     "text": [
      "CPU times: user 4.95 s, sys: 636 ms, total: 5.59 s\n",
      "Wall time: 5.14 s\n"
     ]
    },
    {
     "data": {
      "text/plain": [
       "[{'negative': 0.99993134, 'positive': 6.920824e-07, 'neutral': 6.7949295e-05}]"
      ]
     },
     "execution_count": 8,
     "metadata": {},
     "output_type": "execute_result"
    }
   ],
   "source": [
    "%%time\n",
    "\n",
    "alxlnet_cpu.predict_proba([string])"
   ]
  },
  {
   "cell_type": "code",
   "execution_count": 9,
   "metadata": {},
   "outputs": [
    {
     "name": "stdout",
     "output_type": "stream",
     "text": [
      "CPU times: user 49.9 s, sys: 818 ms, total: 50.7 s\n",
      "Wall time: 50.3 s\n"
     ]
    },
    {
     "data": {
      "text/plain": [
       "[{'negative': 0.99997425, 'positive': 2.5436142e-07, 'neutral': 2.5510788e-05}]"
      ]
     },
     "execution_count": 9,
     "metadata": {},
     "output_type": "execute_result"
    }
   ],
   "source": [
    "%%time\n",
    "\n",
    "alxlnet_xla_cpu.predict_proba([string])"
   ]
  },
  {
   "cell_type": "markdown",
   "metadata": {},
   "source": [
    "**Again, not all Tensorflow operation support XLA**."
   ]
  }
 ],
 "metadata": {
  "kernelspec": {
   "display_name": "Python 3",
   "language": "python",
   "name": "python3"
  },
  "language_info": {
   "codemirror_mode": {
    "name": "ipython",
    "version": 3
   },
   "file_extension": ".py",
   "mimetype": "text/x-python",
   "name": "python",
   "nbconvert_exporter": "python",
   "pygments_lexer": "ipython3",
   "version": "3.6.9"
  }
 },
 "nbformat": 4,
 "nbformat_minor": 5
}
