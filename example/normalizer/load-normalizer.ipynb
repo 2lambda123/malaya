{
 "cells": [
  {
   "cell_type": "code",
   "execution_count": 1,
   "metadata": {},
   "outputs": [],
   "source": [
    "import malaya"
   ]
  },
  {
   "cell_type": "code",
   "execution_count": 2,
   "metadata": {},
   "outputs": [],
   "source": [
    "string = 'y u xsuka makan HUSEIN kt situ tmpt'\n",
    "another = 'i mmg xska mknn HUSEIN kampng tempt'"
   ]
  },
  {
   "cell_type": "markdown",
   "metadata": {},
   "source": [
    "## Load basic normalizer"
   ]
  },
  {
   "cell_type": "code",
   "execution_count": 3,
   "metadata": {},
   "outputs": [
    {
     "data": {
      "text/plain": [
       "'kenapa awak xsuka makan Husein kt situ tmpt'"
      ]
     },
     "execution_count": 3,
     "metadata": {},
     "output_type": "execute_result"
    }
   ],
   "source": [
    "malaya.basic_normalizer(string)"
   ]
  },
  {
   "cell_type": "markdown",
   "metadata": {},
   "source": [
    "## Load fuzzy normalizer"
   ]
  },
  {
   "cell_type": "code",
   "execution_count": 4,
   "metadata": {},
   "outputs": [],
   "source": [
    "malays = malaya.load_malay_dictionary()\n",
    "normalizer = malaya.fuzzy_normalizer(malays)"
   ]
  },
  {
   "cell_type": "code",
   "execution_count": 5,
   "metadata": {},
   "outputs": [
    {
     "data": {
      "text/plain": [
       "'kenapa awak tak suka makan Husein kat situ tempat'"
      ]
     },
     "execution_count": 5,
     "metadata": {},
     "output_type": "execute_result"
    }
   ],
   "source": [
    "normalizer.normalize(string)"
   ]
  },
  {
   "cell_type": "code",
   "execution_count": 6,
   "metadata": {},
   "outputs": [
    {
     "data": {
      "text/plain": [
       "'saya memang tak saka makanan Husein kampung tempat'"
      ]
     },
     "execution_count": 6,
     "metadata": {},
     "output_type": "execute_result"
    }
   ],
   "source": [
    "normalizer.normalize(another)"
   ]
  },
  {
   "cell_type": "markdown",
   "metadata": {},
   "source": [
    "## Load spell normalizer"
   ]
  },
  {
   "cell_type": "code",
   "execution_count": 7,
   "metadata": {},
   "outputs": [],
   "source": [
    "normalizer = malaya.spell_normalizer(malays)"
   ]
  },
  {
   "cell_type": "markdown",
   "metadata": {},
   "source": [
    "#### To list all selected words during normalize"
   ]
  },
  {
   "cell_type": "code",
   "execution_count": 8,
   "metadata": {},
   "outputs": [
    {
     "name": "stdout",
     "output_type": "stream",
     "text": [
      "downloading Topics, Influencers, Location data\n"
     ]
    },
    {
     "name": "stderr",
     "output_type": "stream",
     "text": [
      "1.00MB [00:00, 12.9MB/s]                   \n"
     ]
    },
    {
     "name": "stdout",
     "output_type": "stream",
     "text": [
      "[(('tempo', False), 15), (('impi', False), 15), (('amit', False), 21), (('tampu', False), 15), (('tampi', True), 15), (('tut', False), 16), (('ampit', False), 20), (('tipu', False), 15), (('tuat', False), 15), (('tumpu', False), 20), (('timpa', False), 20), (('umpat', True), 20), (('tampa', False), 15), (('topi', False), 10), (('empat', True), 15), (('tempa', False), 15), (('tip', False), 16), (('tapa', False), 10), (('top', False), 11), (('tepat', False), 15), (('tapi', False), 10), (('tamat', False), 20), (('emat', False), 15), (('tepu', False), 10), (('taut', False), 15), (('ampo', False), 15), (('mat', False), 16), (('ampu', False), 15), (('temut', False), 15), (('tempat', False), 20), (('tepet', False), 15), (('tuit', False), 15), (('umat', False), 21), (('amat', False), 21), (('ampe', False), 15), (('empu', False), 10), (('tempe', False), 15), (('tumpat', True), 24), (('umut', False), 21), (('taat', False), 15), (('tepi', False), 10), (('tat', False), 11), (('amput', False), 20), (('tumit', False), 20)] \n",
      "\n"
     ]
    },
    {
     "data": {
      "text/plain": [
       "'kenapa awak tak suka makan Husein kat situ amit'"
      ]
     },
     "execution_count": 8,
     "metadata": {},
     "output_type": "execute_result"
    }
   ],
   "source": [
    "normalizer.normalize(string,debug=True)"
   ]
  },
  {
   "cell_type": "markdown",
   "metadata": {},
   "source": [
    "## Load deep learning"
   ]
  },
  {
   "cell_type": "markdown",
   "metadata": {},
   "source": [
    "This model is not perfect, really suggest you to use other models"
   ]
  },
  {
   "cell_type": "code",
   "execution_count": 9,
   "metadata": {},
   "outputs": [
    {
     "name": "stderr",
     "output_type": "stream",
     "text": [
      "1.00MB [00:00, 93.1MB/s]                   "
     ]
    },
    {
     "name": "stdout",
     "output_type": "stream",
     "text": [
      "downloading JSON normalizer\n",
      "downloading normalizer graph\n"
     ]
    },
    {
     "name": "stderr",
     "output_type": "stream",
     "text": [
      "\n",
      "22.0MB [00:07, 4.30MB/s]                          \n"
     ]
    },
    {
     "data": {
      "text/plain": [
       "'eye uau tak suka makan unsein kati situ tumpat'"
      ]
     },
     "execution_count": 9,
     "metadata": {},
     "output_type": "execute_result"
    }
   ],
   "source": [
    "normalizer = malaya.deep_normalizer()\n",
    "normalizer.normalize(string)"
   ]
  },
  {
   "cell_type": "code",
   "execution_count": null,
   "metadata": {},
   "outputs": [],
   "source": []
  }
 ],
 "metadata": {
  "kernelspec": {
   "display_name": "Python 3",
   "language": "python",
   "name": "python3"
  },
  "language_info": {
   "codemirror_mode": {
    "name": "ipython",
    "version": 3
   },
   "file_extension": ".py",
   "mimetype": "text/x-python",
   "name": "python",
   "nbconvert_exporter": "python",
   "pygments_lexer": "ipython3",
   "version": "3.6.5"
  }
 },
 "nbformat": 4,
 "nbformat_minor": 2
}
