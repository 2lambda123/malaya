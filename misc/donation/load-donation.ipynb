{
 "cells": [
  {
   "cell_type": "markdown",
   "metadata": {},
   "source": [
    "## Special shoutout for donators\n",
    "\n",
    "1. Ahmad Syazwan, since Jul 6 2019.\n",
    "2. Ang Chin Han, since Jul 7, 2019.\n",
    "3. Hafiz Azmi, since Jun 4, 2020.\n",
    "4. Lee Fai, since Jun 4, 2020.\n",
    "5. Norhidayah Azman, since Jul 6, 2019.\n",
    "6. Rashidee Mohd Rashid, since Jun 4, 2020."
   ]
  },
  {
   "cell_type": "markdown",
   "metadata": {},
   "source": [
    "## Patreon\n",
    "\n",
    "Support Malaya and Malay-Dataset development on Patreon.\n",
    "\n",
    "[![alt text](https://static1.squarespace.com/static/54a1b506e4b097c5f153486a/t/58a722ec893fc0a0b7745b45/1487348853811/patreon+art.jpeg)](https://www.patreon.com/bePatron?u=7291337)"
   ]
  },
  {
   "cell_type": "markdown",
   "metadata": {},
   "source": [
    "## BuyMeACoffee\n",
    "\n",
    "Support Malaya and Malay-Dataset development on BuyMeACoffee.\n",
    "\n",
    "[![alt text](https://www.buymeacoffee.com/assets/img/custom_images/orange_img.png)](https://www.buymeacoffee.com/huseinzolkepli)"
   ]
  },
  {
   "cell_type": "markdown",
   "metadata": {},
   "source": [
    "## Initiatives\n",
    "\n",
    "1. Pay B2 storage and egress! I store checkpoints and big dataset inside B2.\n",
    "2. Pay linguists to validate my dataset and corpus improving active learning.\n",
    "3. Maintaining and developing new features to all these projects takes a considerable amount of time and `universal exchange`, and I am currently exploring the possibility of working on Malaya full time."
   ]
  },
  {
   "cell_type": "code",
   "execution_count": null,
   "metadata": {},
   "outputs": [],
   "source": []
  }
 ],
 "metadata": {
  "kernelspec": {
   "display_name": "Python 3",
   "language": "python",
   "name": "python3"
  },
  "language_info": {
   "codemirror_mode": {
    "name": "ipython",
    "version": 3
   },
   "file_extension": ".py",
   "mimetype": "text/x-python",
   "name": "python",
   "nbconvert_exporter": "python",
   "pygments_lexer": "ipython3",
   "version": "3.7.5"
  }
 },
 "nbformat": 4,
 "nbformat_minor": 2
}
