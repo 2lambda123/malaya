{
 "cells": [
  {
   "cell_type": "code",
   "execution_count": 1,
   "metadata": {},
   "outputs": [],
   "source": [
    "import sys\n",
    "import os\n",
    "\n",
    "SOURCE_DIR = os.path.dirname(os.path.dirname(os.path.abspath(__name__)))\n",
    "sys.path.insert(0, SOURCE_DIR)"
   ]
  },
  {
   "cell_type": "code",
   "execution_count": 2,
   "metadata": {},
   "outputs": [],
   "source": [
    "os.environ['CUDA_VISIBLE_DEVICES'] = ''\n",
    "os.environ['MALAYA_USE_HUGGINGFACE'] = 'true'"
   ]
  },
  {
   "cell_type": "code",
   "execution_count": 3,
   "metadata": {},
   "outputs": [],
   "source": [
    "import malaya\n",
    "import logging\n",
    "\n",
    "logging.basicConfig(level=logging.DEBUG)"
   ]
  },
  {
   "cell_type": "code",
   "execution_count": 4,
   "metadata": {},
   "outputs": [
    {
     "data": {
      "text/plain": [
       "'/Users/huseinzolkepli/Malaya'"
      ]
     },
     "execution_count": 4,
     "metadata": {},
     "output_type": "execute_result"
    }
   ],
   "source": [
    "malaya.__home__"
   ]
  },
  {
   "cell_type": "code",
   "execution_count": 5,
   "metadata": {},
   "outputs": [],
   "source": [
    "text = 'Jabatan Penjara Malaysia diperuntukkan RM20 juta laksana program pembangunan Insan kepada banduan. Majikan yang menggaji bekas banduan, bekas penagih dadah diberi potongan cukai tambahan sehingga 2025.'"
   ]
  },
  {
   "cell_type": "code",
   "execution_count": 8,
   "metadata": {},
   "outputs": [
    {
     "name": "stderr",
     "output_type": "stream",
     "text": [
      "INFO:huggingface:downloading frozen huseinzol05/v34-emotion/multinomial.pkl\n",
      "DEBUG:urllib3.connectionpool:Starting new HTTPS connection (1): huggingface.co:443\n",
      "DEBUG:urllib3.connectionpool:https://huggingface.co:443 \"HEAD /huseinzol05/v34-emotion/resolve/main/multinomial.pkl HTTP/1.1\" 302 0\n",
      "DEBUG:filelock:Attempting to acquire lock 5817006032 on /Users/huseinzolkepli/.cache/huggingface/hub/3125a42ad67fc1e8ffda0d0bf3d083b950a46db28819a7ff3caacf64a68c0d20.5268e337cabf4bd98248001268990fcc70102247040607202235fb58a80c3a7e.lock\n",
      "INFO:filelock:Lock 5817006032 acquired on /Users/huseinzolkepli/.cache/huggingface/hub/3125a42ad67fc1e8ffda0d0bf3d083b950a46db28819a7ff3caacf64a68c0d20.5268e337cabf4bd98248001268990fcc70102247040607202235fb58a80c3a7e.lock\n",
      "DEBUG:urllib3.connectionpool:Starting new HTTPS connection (1): cdn-lfs.huggingface.co:443\n",
      "DEBUG:urllib3.connectionpool:https://cdn-lfs.huggingface.co:443 \"GET /repos/9f/42/9f423a8198f806e557612c8914fd9f681390d30ba43fd2c003144aed52f5ed82/911bede7a9b701bc6dd0b2859ee524160def8baa03ebb05fcda78eba32602eea HTTP/1.1\" 200 6240831\n"
     ]
    },
    {
     "data": {
      "application/vnd.jupyter.widget-view+json": {
       "model_id": "b08319557b3542aaa7da34ff06998c8e",
       "version_major": 2,
       "version_minor": 0
      },
      "text/plain": [
       "HBox(children=(FloatProgress(value=0.0, description='Downloading', max=6240831.0, style=ProgressStyle(descript…"
      ]
     },
     "metadata": {},
     "output_type": "display_data"
    },
    {
     "name": "stderr",
     "output_type": "stream",
     "text": [
      "DEBUG:filelock:Attempting to release lock 5817006032 on /Users/huseinzolkepli/.cache/huggingface/hub/3125a42ad67fc1e8ffda0d0bf3d083b950a46db28819a7ff3caacf64a68c0d20.5268e337cabf4bd98248001268990fcc70102247040607202235fb58a80c3a7e.lock\n",
      "INFO:filelock:Lock 5817006032 released on /Users/huseinzolkepli/.cache/huggingface/hub/3125a42ad67fc1e8ffda0d0bf3d083b950a46db28819a7ff3caacf64a68c0d20.5268e337cabf4bd98248001268990fcc70102247040607202235fb58a80c3a7e.lock\n",
      "INFO:huggingface:downloading frozen huseinzol05/v34-emotion/tfidf.pkl\n",
      "DEBUG:urllib3.connectionpool:Starting new HTTPS connection (1): huggingface.co:443\n"
     ]
    },
    {
     "name": "stdout",
     "output_type": "stream",
     "text": [
      "\n"
     ]
    },
    {
     "name": "stderr",
     "output_type": "stream",
     "text": [
      "DEBUG:urllib3.connectionpool:https://huggingface.co:443 \"HEAD /huseinzol05/v34-emotion/resolve/main/tfidf.pkl HTTP/1.1\" 302 0\n",
      "DEBUG:filelock:Attempting to acquire lock 5799714640 on /Users/huseinzolkepli/.cache/huggingface/hub/aeabaf8d5390b8e4d6e105516c9c9628c33b4b394b3355afed5bd01ef56edb66.a74c51e861951da6d3c84e82f2ce17542a8787a85918086920b5331fc614bd9e.lock\n",
      "INFO:filelock:Lock 5799714640 acquired on /Users/huseinzolkepli/.cache/huggingface/hub/aeabaf8d5390b8e4d6e105516c9c9628c33b4b394b3355afed5bd01ef56edb66.a74c51e861951da6d3c84e82f2ce17542a8787a85918086920b5331fc614bd9e.lock\n",
      "DEBUG:urllib3.connectionpool:Starting new HTTPS connection (1): cdn-lfs.huggingface.co:443\n",
      "DEBUG:urllib3.connectionpool:https://cdn-lfs.huggingface.co:443 \"GET /repos/9f/42/9f423a8198f806e557612c8914fd9f681390d30ba43fd2c003144aed52f5ed82/ecf5c1973f9335ce9b8fb84fee78b3107f67ae039033ce2a554d865b385e9011 HTTP/1.1\" 200 2717588\n"
     ]
    },
    {
     "data": {
      "application/vnd.jupyter.widget-view+json": {
       "model_id": "0ebfaf9ae22741c2899a2d839fa43c12",
       "version_major": 2,
       "version_minor": 0
      },
      "text/plain": [
       "HBox(children=(FloatProgress(value=0.0, description='Downloading', max=2717588.0, style=ProgressStyle(descript…"
      ]
     },
     "metadata": {},
     "output_type": "display_data"
    },
    {
     "name": "stderr",
     "output_type": "stream",
     "text": [
      "DEBUG:filelock:Attempting to release lock 5799714640 on /Users/huseinzolkepli/.cache/huggingface/hub/aeabaf8d5390b8e4d6e105516c9c9628c33b4b394b3355afed5bd01ef56edb66.a74c51e861951da6d3c84e82f2ce17542a8787a85918086920b5331fc614bd9e.lock\n",
      "INFO:filelock:Lock 5799714640 released on /Users/huseinzolkepli/.cache/huggingface/hub/aeabaf8d5390b8e4d6e105516c9c9628c33b4b394b3355afed5bd01ef56edb66.a74c51e861951da6d3c84e82f2ce17542a8787a85918086920b5331fc614bd9e.lock\n",
      "INFO:huggingface:downloading frozen huseinzol05/v34-emotion/bpe.model\n",
      "DEBUG:urllib3.connectionpool:Starting new HTTPS connection (1): huggingface.co:443\n"
     ]
    },
    {
     "name": "stdout",
     "output_type": "stream",
     "text": [
      "\n"
     ]
    },
    {
     "name": "stderr",
     "output_type": "stream",
     "text": [
      "DEBUG:urllib3.connectionpool:https://huggingface.co:443 \"HEAD /huseinzol05/v34-emotion/resolve/main/bpe.model HTTP/1.1\" 302 0\n",
      "DEBUG:filelock:Attempting to acquire lock 5799851024 on /Users/huseinzolkepli/.cache/huggingface/hub/c64e5b297bd9a86a6cbc7a6b79128d80b8a760ddf51b93ee2d668fbf04029b48.d4808ec60f7d8c805ccd1a452dc4a2c10fddf7cbfc8f39a654917e35a1f4cff4.lock\n",
      "INFO:filelock:Lock 5799851024 acquired on /Users/huseinzolkepli/.cache/huggingface/hub/c64e5b297bd9a86a6cbc7a6b79128d80b8a760ddf51b93ee2d668fbf04029b48.d4808ec60f7d8c805ccd1a452dc4a2c10fddf7cbfc8f39a654917e35a1f4cff4.lock\n",
      "DEBUG:urllib3.connectionpool:Starting new HTTPS connection (1): cdn-lfs.huggingface.co:443\n",
      "DEBUG:urllib3.connectionpool:https://cdn-lfs.huggingface.co:443 \"GET /repos/9f/42/9f423a8198f806e557612c8914fd9f681390d30ba43fd2c003144aed52f5ed82/8e726a4be68285ba1c930728291da73907798020636f90700ce0d41b2e90bc6c HTTP/1.1\" 200 881167\n"
     ]
    },
    {
     "data": {
      "application/vnd.jupyter.widget-view+json": {
       "model_id": "6fcaded8eea34fd5a0e524d174abaf11",
       "version_major": 2,
       "version_minor": 0
      },
      "text/plain": [
       "HBox(children=(FloatProgress(value=0.0, description='Downloading', max=881167.0, style=ProgressStyle(descripti…"
      ]
     },
     "metadata": {},
     "output_type": "display_data"
    },
    {
     "name": "stderr",
     "output_type": "stream",
     "text": [
      "DEBUG:filelock:Attempting to release lock 5799851024 on /Users/huseinzolkepli/.cache/huggingface/hub/c64e5b297bd9a86a6cbc7a6b79128d80b8a760ddf51b93ee2d668fbf04029b48.d4808ec60f7d8c805ccd1a452dc4a2c10fddf7cbfc8f39a654917e35a1f4cff4.lock\n",
      "INFO:filelock:Lock 5799851024 released on /Users/huseinzolkepli/.cache/huggingface/hub/c64e5b297bd9a86a6cbc7a6b79128d80b8a760ddf51b93ee2d668fbf04029b48.d4808ec60f7d8c805ccd1a452dc4a2c10fddf7cbfc8f39a654917e35a1f4cff4.lock\n"
     ]
    },
    {
     "name": "stdout",
     "output_type": "stream",
     "text": [
      "\n",
      "[{'anger': 0.16894526262757903, 'fear': 0.17566225874036093, 'happy': 0.14013560618406729, 'love': 0.15076300966530465, 'sadness': 0.16205201469441197, 'surprise': 0.20244184808827534}]\n"
     ]
    },
    {
     "data": {
      "text/plain": [
       "True"
      ]
     },
     "execution_count": 8,
     "metadata": {},
     "output_type": "execute_result"
    }
   ],
   "source": [
    "model = malaya.emotion.multinomial()\n",
    "print(model.predict_proba(['anjeng']))\n",
    "malaya.utils.delete_cache('emotion/multinomial')"
   ]
  },
  {
   "cell_type": "code",
   "execution_count": 10,
   "metadata": {},
   "outputs": [
    {
     "name": "stderr",
     "output_type": "stream",
     "text": [
      "INFO:malaya.utils:tested on 20% test set.\n",
      "DEBUG:urllib3.connectionpool:Starting new HTTPS connection (1): huggingface.co:443\n"
     ]
    },
    {
     "name": "stdout",
     "output_type": "stream",
     "text": [
      "bert\n"
     ]
    },
    {
     "name": "stderr",
     "output_type": "stream",
     "text": [
      "DEBUG:urllib3.connectionpool:https://huggingface.co:443 \"HEAD /huseinzol05/emotion-bert/resolve/main/model.pb HTTP/1.1\" 302 0\n",
      "DEBUG:urllib3.connectionpool:Starting new HTTPS connection (1): huggingface.co:443\n",
      "DEBUG:urllib3.connectionpool:https://huggingface.co:443 \"HEAD /huseinzol05/bpe/resolve/main/sp10m.cased.bert.vocab HTTP/1.1\" 302 0\n",
      "DEBUG:urllib3.connectionpool:Starting new HTTPS connection (1): huggingface.co:443\n",
      "DEBUG:urllib3.connectionpool:https://huggingface.co:443 \"HEAD /huseinzol05/bpe/resolve/main/sp10m.cased.bert.model HTTP/1.1\" 302 0\n",
      "DEBUG:frozen_graph:use_tensorrt: False\n",
      "DEBUG:frozen_graph:tensorrt_precision_mode: FP32\n",
      "DEBUG:frozen_graph:precision_mode: FP32\n",
      "DEBUG:frozen_graph:t5_graph: False\n",
      "DEBUG:frozen_graph:glowtts_graph: False\n",
      "DEBUG:frozen_graph:glowtts_multispeaker_graph: False\n",
      "INFO:frozen_graph:running Users/huseinzolkepli/.cache/huggingface/hub using device /device:CPU:0\n",
      "DEBUG:root:['▁Jabatan', '▁Penjara', '▁Malaysia', '▁diperuntukkan', '▁RM', '20', '▁juta', '▁', 'laksana', '▁program', '▁pembangunan', '▁Insan', '▁kepada', '▁banduan', '.', '▁Majikan', '▁yang', '▁menggaji', '▁bekas', '▁banduan', ',', '▁bekas', '▁penagih', '▁dadah', '▁diberi', '▁potongan', '▁cukai', '▁tambahan', '▁sehingga', '▁', '2025', '.']\n",
      "DEBUG:root:['▁Jabatan', '▁Penjara', '▁Malaysia', '▁diperuntukkan', '▁RM', '20', '▁juta', '▁', 'laksana', '▁program', '▁pembangunan', '▁Insan', '▁kepada', '▁banduan', '.', '▁Majikan', '▁yang', '▁menggaji', '▁bekas', '▁banduan', ',', '▁bekas', '▁penagih', '▁dadah', '▁diberi', '▁potongan', '▁cukai', '▁tambahan', '▁sehingga', '▁', '2025', '.']\n"
     ]
    },
    {
     "name": "stdout",
     "output_type": "stream",
     "text": [
      "[{'anger': 0.99972534, 'fear': 2.3940536e-05, 'happy': 1.2509402e-05, 'love': 2.727915e-05, 'sadness': 0.00018204501, 'surprise': 2.8838254e-05}]\n"
     ]
    },
    {
     "name": "stderr",
     "output_type": "stream",
     "text": [
      "DEBUG:root:['▁Jabatan', '▁Penjara', '▁Malaysia', '▁diperuntukkan', '▁RM', '20', '▁juta', '▁', 'laksana', '▁program', '▁pembangunan', '▁Insan', '▁kepada', '▁banduan', '.', '▁Majikan', '▁yang', '▁menggaji', '▁bekas', '▁banduan', ',', '▁bekas', '▁penagih', '▁dadah', '▁diberi', '▁potongan', '▁cukai', '▁tambahan', '▁sehingga', '▁', '2025', '.']\n"
     ]
    },
    {
     "name": "stdout",
     "output_type": "stream",
     "text": [
      "{'anger': 0.9997444, 'fear': 1.7402734e-05, 'happy': 1.3251111e-05, 'love': 2.7936228e-05, 'sadness': 0.00017080763, 'surprise': 2.6310643e-05, 'alphas': {'Jabatan': 0.028679773, 'Penjara': 0.03905115, 'Malaysia': 0.04481914, 'diperuntukkan': 0.052037645, 'RM20': 0.03685585, 'juta': 0.035207894, 'laksana': 0.051389936, 'program': 0.022474779, 'pembangunan': 0.019104436, 'Insan': 0.02319673, 'kepada': 0.031066693, 'banduan.': 0.058415838, 'Majikan': 0.041101836, 'yang': 0.046870966, 'menggaji': 0.04018898, 'bekas': 0.030545732, 'banduan,': 0.039069746, 'penagih': 0.029945325, 'dadah': 0.037789218, 'diberi': 0.03948331, 'potongan': 0.036482643, 'cukai': 0.029219411, 'tambahan': 0.03202579, 'sehingga': 0.05103921, '2025.': 0.08314584}, 'word': {'Jabatan': array([9.9937171e-01, 1.9428338e-05, 2.4268291e-05, 7.4678988e-05,\n",
      "       4.1870071e-04, 9.0854039e-05], dtype=float32), 'Penjara': array([9.9963963e-01, 1.8648147e-05, 2.1273630e-05, 4.4845590e-05,\n",
      "       2.1777986e-04, 5.7379228e-05], dtype=float32), 'Malaysia': array([9.9947941e-01, 1.5956326e-05, 1.9384994e-05, 6.5518325e-05,\n",
      "       3.5778224e-04, 6.2189065e-05], dtype=float32), 'diperuntukkan': array([9.9944848e-01, 1.9984991e-05, 5.2066465e-05, 5.0774084e-05,\n",
      "       3.2849109e-04, 1.0032610e-04], dtype=float32), 'RM20': array([9.9926019e-01, 2.7050859e-05, 4.0739505e-05, 9.7389515e-05,\n",
      "       4.0849578e-04, 1.6612036e-04], dtype=float32), 'juta': array([9.9920064e-01, 2.1966283e-05, 3.6935307e-05, 6.1384992e-05,\n",
      "       5.5346295e-04, 1.2553866e-04], dtype=float32), 'laksana': array([9.9671364e-01, 5.6029432e-05, 1.4654460e-04, 1.8910703e-04,\n",
      "       2.0771637e-03, 8.1751024e-04], dtype=float32), 'program': array([9.9907726e-01, 2.1247595e-05, 6.6280903e-05, 6.1131395e-05,\n",
      "       5.6971674e-04, 2.0410486e-04], dtype=float32), 'pembangunan': array([9.9905246e-01, 3.3287983e-05, 7.2497285e-05, 8.1316706e-05,\n",
      "       5.4251018e-04, 2.1765484e-04], dtype=float32), 'Insan': array([9.9943411e-01, 1.9556048e-05, 5.5906061e-05, 6.2716470e-05,\n",
      "       3.4505557e-04, 8.2706902e-05], dtype=float32), 'kepada': array([9.9954897e-01, 1.6741616e-05, 3.9952814e-05, 4.6240733e-05,\n",
      "       2.6171267e-04, 8.6469678e-05], dtype=float32), 'banduan.': array([9.9954474e-01, 2.1712009e-05, 2.3744742e-05, 4.1573025e-05,\n",
      "       3.1591969e-04, 5.2266438e-05], dtype=float32), 'Majikan': array([9.9962813e-01, 1.4866349e-05, 2.2712362e-05, 3.6789625e-05,\n",
      "       2.3868032e-04, 5.9021662e-05], dtype=float32), 'yang': array([9.9949944e-01, 1.9929739e-05, 2.0173073e-05, 4.8543643e-05,\n",
      "       3.5543513e-04, 5.6713885e-05], dtype=float32), 'menggaji': array([9.9962717e-01, 1.6998594e-05, 3.0553700e-05, 3.6047717e-05,\n",
      "       2.0998281e-04, 7.8739424e-05], dtype=float32), 'bekas': array([9.9946231e-01, 1.7378137e-05, 2.2361135e-05, 4.2147989e-05,\n",
      "       3.8296770e-04, 7.2418654e-05], dtype=float32), 'banduan,': array([9.9935979e-01, 2.2512580e-05, 3.3335647e-05, 5.1732644e-05,\n",
      "       4.3407182e-04, 9.8624514e-05], dtype=float32), 'penagih': array([9.9956053e-01, 1.9880630e-05, 2.5711772e-05, 4.2354048e-05,\n",
      "       2.7507852e-04, 7.6291690e-05], dtype=float32), 'dadah': array([9.9946415e-01, 1.6569389e-05, 3.3804354e-05, 5.0245566e-05,\n",
      "       3.7043035e-04, 6.5180051e-05], dtype=float32), 'diberi': array([9.99408484e-01, 1.91439558e-05, 4.53213688e-05, 4.09980566e-05,\n",
      "       3.82118393e-04, 1.04103696e-04], dtype=float32), 'potongan': array([9.9950081e-01, 2.3347960e-05, 4.7922986e-05, 3.7406771e-05,\n",
      "       2.9992629e-04, 9.0529524e-05], dtype=float32), 'cukai': array([9.9966919e-01, 1.8737386e-05, 3.7690555e-05, 3.0960357e-05,\n",
      "       1.7425112e-04, 6.9301197e-05], dtype=float32), 'tambahan': array([9.9943370e-01, 1.9845036e-05, 3.9847146e-05, 4.1084633e-05,\n",
      "       3.7036749e-04, 9.5215393e-05], dtype=float32), 'sehingga': array([9.9965101e-01, 1.8712797e-05, 2.9455985e-05, 4.9908977e-05,\n",
      "       1.8944475e-04, 6.1617429e-05], dtype=float32), '2025.': array([9.9855971e-01, 4.7591788e-05, 9.4858020e-05, 8.0449572e-05,\n",
      "       9.3089364e-04, 2.8667130e-04], dtype=float32)}, 'histogram': {'x': array([0.  , 0.05, 0.1 , 0.15, 0.2 , 0.25, 0.3 , 0.35, 0.4 , 0.45, 0.5 ,\n",
      "       0.55, 0.6 , 0.65, 0.7 , 0.75, 0.8 , 0.85, 0.9 , 0.95, 1.  ]), 'y': array([0., 0., 0., 0., 0., 0., 0., 0., 0., 0., 0., 0., 0., 0., 0., 0., 0.,\n",
      "       0., 0., 1.])}, 'attention': {'x': array([ 0,  1,  2,  3,  4,  5,  6,  7,  8,  9, 10, 11, 12, 13, 14, 15, 16,\n",
      "       17, 18, 19, 20, 21, 22, 23, 24, 25]), 'y': array([0.02867977, 0.03905115, 0.04481914, 0.05203765, 0.03685585,\n",
      "       0.03520789, 0.05138994, 0.02247478, 0.01910444, 0.02319673,\n",
      "       0.03106669, 0.05841584, 0.04110184, 0.04687097, 0.04018898,\n",
      "       0.02079212, 0.03906975, 0.03054573, 0.02994533, 0.03778922,\n",
      "       0.03948331, 0.03648264, 0.02921941, 0.03202579, 0.05103921,\n",
      "       0.08314584], dtype=float32)}, 'barplot': {'x': ['anger', 'fear', 'happy', 'love', 'sadness', 'surprise'], 'y': [26, 1, 2, 3, 4, 5]}, 'module': 'emotion'}\n",
      "[[-7.9942620e-01  9.7868741e-01  1.4287052e+00  1.1045426e+00\n",
      "  -4.7597128e-01 -5.7634568e-01 -1.6568382e+00 -1.1359910e+00\n",
      "  -1.3174782e+00 -3.5124218e-01  7.2010589e-01 -4.4441697e-01\n",
      "  -3.7312463e-01  2.6261550e-01  7.4523592e-01  9.4531834e-01\n",
      "  -7.4232870e-01 -5.3654355e-01 -1.1716865e+00 -7.3597568e-01\n",
      "  -5.1563716e-01 -1.5313500e-01 -6.0529840e-01 -9.4324809e-01\n",
      "   6.1048466e-01  7.1375930e-01 -1.3342948e+00  6.2945932e-01\n",
      "   8.5848916e-01 -1.3190281e+00 -6.0148609e-01 -1.0727486e-01\n",
      "   7.7918661e-01  8.1810081e-01 -7.2676122e-02 -9.4880901e-02\n",
      "  -1.1529858e+00  1.0208102e+00 -1.1430812e+00  1.3206354e+00\n",
      "  -1.3131875e+00 -9.8734552e-01  1.7012399e+00  1.3967316e+00\n",
      "   9.8036516e-01 -2.3927137e-01 -1.3360806e+00 -8.1207144e-01\n",
      "  -1.2865828e+00  3.2001410e-02 -1.0016980e+00 -1.3954165e+00\n",
      "  -6.4659876e-01 -8.6998266e-01 -6.1396188e-01  1.0830719e+00\n",
      "   1.3982565e+00 -5.9506190e-01  9.5428532e-01  3.5435548e-01\n",
      "  -1.0319852e+00  1.1948851e+00  1.1544064e+00 -1.0129008e+00\n",
      "   9.2625183e-01 -1.1820779e+00  6.6921252e-01  9.1919184e-01\n",
      "  -4.4971859e-01 -6.6595513e-01 -1.0962909e+00  1.1806633e+00\n",
      "   1.2254395e+00  1.2995349e+00 -6.1509883e-01  1.1855050e+00\n",
      "   3.1394958e-01 -9.9499428e-01  1.1406370e+00 -7.9101872e-01\n",
      "   5.1101559e-01  1.4874070e+00  1.3442341e+00  1.3176981e+00\n",
      "  -5.9060413e-01  1.1245171e+00  2.9914454e-01  8.3196861e-01\n",
      "  -1.3448151e+00  9.5037699e-01  2.2489470e-01 -8.3042902e-01\n",
      "   1.3456035e+00 -8.6036676e-01  1.2205042e+00 -3.0025268e-01\n",
      "   6.4016801e-01 -1.0198463e+00  1.4961885e-01 -1.8300027e-01\n",
      "   1.7323418e-01  1.5106139e+00  1.0458686e+00  2.0861186e-01\n",
      "  -1.2961885e+00  2.5289035e-01  1.3369247e+00  6.6273904e-01\n",
      "  -1.0362344e+00  4.6626423e-02 -1.4262860e+00 -8.9383346e-01\n",
      "  -1.1047127e+00  6.1240524e-01 -6.1274976e-01 -1.0597980e+00\n",
      "   1.3964238e+00  6.6669440e-01 -4.4224331e-01 -1.1328943e+00\n",
      "  -1.0238869e+00 -1.1919810e+00  9.8404950e-01 -9.9510223e-01\n",
      "   9.6409035e-01 -1.2171043e+00 -1.2640091e+00  9.1018558e-01\n",
      "  -3.9737195e-01 -1.7637429e-01  6.5967953e-01  8.9194101e-01\n",
      "  -9.8628068e-01 -1.0424181e+00  1.1805449e+00  5.6879783e-01\n",
      "   4.8903073e-03  9.8061520e-01  6.5248393e-02 -3.5721183e-01\n",
      "   8.8897258e-01  7.3800981e-01 -1.2697799e+00  1.1837426e+00\n",
      "   8.7409294e-01 -1.0511017e+00 -5.0363004e-01  8.8578755e-01\n",
      "  -1.0013081e+00  9.4166428e-01  7.8827882e-01 -9.2060529e-02\n",
      "  -1.1789968e+00 -8.6835873e-01  1.1759324e+00  5.4112822e-01\n",
      "  -9.8389298e-01  2.0211101e-02 -1.2652588e+00  9.8042989e-01\n",
      "  -4.3438458e-01 -2.0651901e+00 -7.2336876e-01  1.2367135e+00\n",
      "   7.4886006e-01  9.7445649e-01  1.4601946e+00  2.0978686e-01\n",
      "   1.0210818e+00 -1.0125937e+00 -4.7760463e-01  2.7938202e-01\n",
      "  -7.4439180e-01  1.0161382e+00  1.5308108e+00  8.3027452e-02\n",
      "  -1.1351690e+00 -5.6595200e-01  1.0914440e+00  8.6045599e-01\n",
      "   1.5348362e+00  1.1760396e+00  5.8945948e-01  1.4505519e+00\n",
      "   7.6904088e-01 -2.7051148e-01 -1.2328212e+00 -1.1399781e+00\n",
      "  -1.5259676e-01  1.7125037e+00  9.7891951e-01  1.1161469e+00\n",
      "  -4.6953285e-01  1.5560716e+00 -5.7447773e-01 -5.7268363e-01\n",
      "   1.0555269e+00  5.2416497e-01 -8.0776811e-01  1.2252260e+00\n",
      "  -1.8597854e+00  1.0481099e+00  4.4149521e-01 -6.1443347e-02\n",
      "   5.9538804e-02 -1.0753827e+00  1.4115448e+00 -8.0554197e-03\n",
      "  -1.0994658e-01  1.2466017e+00 -9.3565625e-01 -1.7685440e+00\n",
      "   6.5209001e-01 -1.0742744e+00  2.5045189e-01 -1.3268570e+00\n",
      "   3.1631145e-01 -1.4635837e+00 -3.3881867e-01 -6.2665415e-01\n",
      "  -7.2388536e-01 -7.7931017e-01  1.4387496e+00  1.9321848e-01\n",
      "  -1.3355618e+00 -1.6562730e+00  4.2559701e-01 -9.1791266e-01\n",
      "   8.2901865e-01 -8.5999095e-01 -1.3228478e+00 -1.6384084e+00\n",
      "   9.6469462e-01 -1.5386356e+00  8.1401914e-01 -9.4854504e-01\n",
      "   1.2001747e+00  5.4231727e-01  4.1117790e-01  1.5449431e+00\n",
      "  -7.0631593e-01  1.6082234e+00  1.2231034e+00 -8.1974530e-01\n",
      "   4.6616074e-01  1.0515562e+00  1.5958892e+00  1.0844125e+00\n",
      "  -1.0112861e+00 -1.2857871e+00  8.7319934e-01 -1.7067204e+00\n",
      "  -2.9685670e-01  1.1821133e+00 -9.5714855e-01 -1.4802463e+00\n",
      "   1.2199847e+00 -6.6145307e-01 -1.0562558e+00  1.3441485e+00\n",
      "  -1.5523826e+00  8.4729296e-01 -6.2332177e-01  6.7244631e-01\n",
      "   1.2640007e+00 -1.7808613e+00 -4.4827524e-01  5.4944676e-01\n",
      "   6.3345963e-01  1.1899920e+00  6.1220849e-01 -8.8010013e-01\n",
      "   1.9646018e+00 -1.4677831e+00 -1.4120405e+00 -6.3484937e-01\n",
      "  -1.0378128e+00 -6.5341234e-01  1.0769002e+00 -1.0836493e+00\n",
      "  -1.3995713e+00 -8.3263826e-01  1.7670430e+00 -8.0842173e-01\n",
      "   8.5821873e-01 -1.4240119e+00  8.5327649e-01 -5.1042968e-01\n",
      "   1.7285943e+00 -1.2629087e+00  6.2682003e-01  8.9220577e-01\n",
      "  -4.7525519e-01  1.3801026e+00 -9.9896318e-01  1.2172569e+00\n",
      "  -1.4923294e+00  1.6063504e+00 -1.3538157e+00 -1.8707238e-02\n",
      "   1.6125923e+00 -2.1420185e-01 -1.7159797e-01  9.6910942e-01\n",
      "   4.2088637e-01  1.5686654e+00  7.2723293e-01 -1.1947813e+00\n",
      "  -1.1407955e+00 -8.0960506e-01 -8.0941367e-01  1.1108097e+00\n",
      "  -3.0599037e-01 -1.5638801e-01  5.5106235e-01 -6.0442942e-01\n",
      "   1.1894805e+00  7.9934740e-01 -1.0609728e+00  8.2611918e-01\n",
      "   3.4786972e-01  5.8534223e-01 -1.3768362e+00  1.3932853e+00\n",
      "  -7.2450352e-01  4.3524095e-01  3.3806375e-01 -1.4854988e+00\n",
      "  -2.9848185e-01  1.1784742e+00 -5.4429466e-04 -1.4888105e+00\n",
      "   8.7120843e-01  6.2387335e-01 -8.2758233e-02 -9.2517447e-01\n",
      "  -1.3336933e+00 -1.1436827e+00 -1.7863611e+00  9.4791573e-01\n",
      "  -1.2068595e+00 -1.3570775e+00 -8.2515277e-02  1.2415075e+00\n",
      "  -3.0986881e-01 -8.2167977e-01  1.9280678e-01 -7.2871035e-01\n",
      "   1.0087543e+00  1.0381929e+00 -3.7421134e-01 -1.0179632e+00\n",
      "   5.7674569e-01 -5.6632781e-01 -1.6873162e+00 -1.3123604e+00\n",
      "  -6.1202872e-01 -1.6289396e+00 -1.6469018e+00 -1.0406716e+00\n",
      "  -1.1259364e+00 -1.2400063e+00  1.1629508e+00 -1.1711003e+00\n",
      "  -1.3215290e+00 -9.8396039e-01 -1.4222341e+00 -1.3759239e+00\n",
      "  -8.2088411e-01  1.8127416e+00  1.1209999e+00  9.7307509e-01\n",
      "  -7.3281771e-01 -8.4676862e-01  1.2859199e+00  1.6649927e+00\n",
      "  -3.8687650e-02  4.0144119e-01 -3.6913702e-01  1.1786448e+00\n",
      "  -1.1419825e-01  8.5704106e-01 -1.3885256e+00  7.9905355e-01\n",
      "   1.0135055e+00 -3.2205549e-01  1.8344489e+00  1.1673006e+00\n",
      "   8.5456651e-01  5.5748779e-01 -1.0332397e+00 -1.0614338e+00\n",
      "  -1.2828505e-01  4.3129531e-01 -5.1805490e-01  7.1963757e-01\n",
      "   1.7575436e+00  1.4519255e+00  1.3823569e+00 -1.1278828e+00\n",
      "  -8.2437408e-01  1.3593330e+00  8.8897020e-01  7.1685791e-01\n",
      "   1.1205628e+00  1.3440081e+00 -8.4325016e-01 -1.0952821e+00\n",
      "   1.4217708e+00  1.2537508e+00  4.1588286e-01 -1.4912629e+00\n",
      "  -1.1768205e+00  2.0978951e-01  1.5015920e+00  1.9413958e-01\n",
      "   1.2095406e+00 -9.2981064e-01  6.2075180e-01  1.3547622e+00\n",
      "  -6.4302695e-01 -1.4865034e+00 -9.9520230e-01 -5.7269639e-01\n",
      "  -6.2611002e-01  1.8397207e+00 -1.0286155e+00  1.2325288e+00\n",
      "  -1.5242566e+00 -9.3229562e-01 -5.8418667e-01 -3.0792415e-01\n",
      "  -3.3686498e-01  1.0635529e+00 -1.1012603e+00  1.3765984e+00\n",
      "  -1.7653290e+00 -7.4665284e-01 -1.2353172e+00 -6.4188355e-01\n",
      "   4.5089206e-01 -1.5065628e+00 -5.7748914e-01 -5.3412694e-01\n",
      "  -1.3386463e+00 -8.3262306e-01 -9.5157212e-01 -1.5327151e+00\n",
      "   5.8853811e-01 -2.3066241e-01  5.1837230e-01 -2.9654413e-01\n",
      "  -1.9487162e-01  9.3084794e-01  1.0010881e+00  4.9879590e-01\n",
      "   3.5397626e-02 -1.3699214e+00  1.1834337e+00 -1.7200223e-03\n",
      "  -7.9394394e-01  5.0806737e-01  3.8139704e-01  9.9449056e-01\n",
      "   1.4855118e-01 -9.9101740e-01  1.0151911e+00  1.5222737e-01\n",
      "  -7.8284305e-01 -1.3989143e+00  4.8293629e-01  1.4076015e+00\n",
      "   1.2337832e+00  1.2114013e+00  8.8803089e-01 -8.4650177e-01\n",
      "  -7.9793595e-02 -1.0614023e+00  9.7343129e-01 -6.2865980e-02\n",
      "  -3.8438526e-01  3.6792120e-01 -8.4337002e-01  1.1394634e+00\n",
      "   8.0890632e-01 -1.2680866e+00 -7.8992915e-01 -1.3874035e+00\n",
      "  -5.2259243e-01  1.2302527e+00 -4.4792339e-01 -1.8099305e-01\n",
      "  -7.1277577e-01 -9.5901686e-01  2.0912278e-01  1.2331866e+00\n",
      "   1.8839306e+00 -9.4062525e-01 -1.7858469e+00  1.3514174e+00\n",
      "   1.1590960e+00 -7.6819426e-01  6.1521208e-01  1.2082275e+00\n",
      "   1.4443843e+00 -8.6549413e-01  1.3177499e-01 -1.6105100e+00\n",
      "  -1.0704150e+00  5.1007432e-01  4.5455819e-01  1.3342644e+00\n",
      "  -1.2769564e+00  1.4884961e+00 -3.9091712e-01  8.5488737e-01\n",
      "   5.0822008e-01  4.7958255e-01  1.4778357e+00 -8.4370351e-01\n",
      "   2.3241544e-01  2.2678283e-01  1.1104001e+00 -5.4267895e-01\n",
      "   1.0780256e+00 -5.9385467e-01 -3.2115906e-01 -9.5243156e-01\n",
      "  -1.1533051e+00 -1.4600885e+00 -1.1745800e+00 -7.8862733e-01\n",
      "   1.2067791e+00  6.9788855e-01 -7.6850200e-01  2.7572897e-01\n",
      "   1.1690722e+00 -1.0418849e+00  5.6905732e-02  8.3327281e-01\n",
      "   2.4760580e-02 -1.1817431e+00  1.0119514e+00 -1.1779881e+00\n",
      "   1.5454520e+00 -5.9932119e-01  6.0810655e-01 -5.5442947e-01\n",
      "   9.9734569e-01  3.5840213e-01 -7.7516693e-01  1.4855251e+00\n",
      "   1.1395674e+00  1.1661669e+00 -6.8555701e-01  1.5628701e+00\n",
      "   2.5323700e-02 -8.3707649e-01 -1.4955441e+00  8.2511097e-02\n",
      "   9.4427961e-01  7.4581152e-01 -1.6006552e+00  1.3904771e+00\n",
      "  -1.1853454e+00 -8.7781590e-01  2.7743533e-01 -4.4684497e-01\n",
      "   9.9759501e-01  8.6603808e-01  1.9764537e-01  4.5246968e-01\n",
      "  -1.1265311e+00 -1.1784360e+00  8.8732201e-01  5.6402797e-01\n",
      "   1.0099415e+00  9.3793768e-01 -1.2353303e+00  1.0448366e+00\n",
      "  -1.5518954e-01  1.1344523e+00  6.5681702e-01  1.2124248e+00\n",
      "   3.3984926e-01  6.0256130e-01  5.5043072e-01  1.2446890e+00\n",
      "  -9.7651106e-01  1.2432708e+00  6.8052125e-01 -7.4759859e-01\n",
      "   7.8433311e-01  1.1509436e+00  8.2014823e-01 -1.0331674e+00\n",
      "  -1.8208388e+00  9.4366974e-01  1.2204258e+00 -1.3982980e+00\n",
      "   1.1716964e+00 -7.1955872e-01 -3.2380912e-01  7.5579351e-01\n",
      "   1.0810662e-02 -6.3871396e-01  7.6549816e-01  1.1958258e+00\n",
      "  -1.3746797e-01 -6.5159804e-01 -1.2498353e+00  6.1368394e-01\n",
      "  -2.7687439e-01  4.2442191e-01  1.6156693e+00  1.2538131e+00\n",
      "   1.4004280e-01 -1.3659538e-01  4.0153053e-01 -2.9417193e-01\n",
      "  -1.3950830e+00 -1.0104052e+00 -1.2937268e+00  1.3747547e+00\n",
      "   1.4405253e+00  1.5557943e-01  1.0052203e+00 -9.6237451e-01\n",
      "   4.5311746e-01  5.1497394e-01 -1.7774566e+00  2.9659539e-01\n",
      "   8.6877692e-01  1.3289574e-01 -1.8140896e-01 -9.1476732e-01\n",
      "   1.3593243e+00 -1.3435893e+00 -1.4521878e+00 -9.6861994e-01\n",
      "   3.9225120e-02 -1.3932269e+00 -3.9774460e-01 -6.1602938e-01\n",
      "   5.3639829e-01  2.8965232e-01 -9.2199826e-01 -8.5265660e-01\n",
      "  -1.8744516e+00 -2.6938650e-01 -2.5198466e-01 -1.1708376e+00\n",
      "   1.3318064e+00 -8.7412733e-01 -7.4879336e-01  1.4202425e+00\n",
      "   1.0127504e-01  1.0327010e+00  1.4839795e+00 -2.3830339e-01\n",
      "   1.1836523e+00 -5.3851321e-02 -2.0709743e-01  9.6065766e-01\n",
      "   1.5920749e-01 -2.1896760e-01 -6.8311745e-01 -1.0612079e+00\n",
      "   1.3652091e+00  8.9388615e-01  6.1371458e-01 -1.1499808e+00\n",
      "  -3.6348677e-01  1.0833368e+00  1.0455495e+00 -6.1636662e-01\n",
      "   1.1984884e+00  9.9293530e-01 -3.5647750e-01 -5.9831798e-01\n",
      "   4.7693625e-01 -9.8356318e-01  1.5753232e+00  3.2018778e-01\n",
      "  -8.1995380e-01 -9.1745740e-01  7.2134927e-02  8.5480469e-01\n",
      "  -8.5498232e-01 -1.3310037e+00 -1.6062312e-01  1.5373589e+00\n",
      "  -5.2866679e-01  1.6206657e+00 -1.1582134e+00 -7.7988690e-01\n",
      "   7.7399176e-01 -1.7351779e+00  9.1935194e-01 -6.0304970e-01\n",
      "   9.2498571e-01  1.5328777e-01  8.7317842e-01  1.3685479e+00\n",
      "   2.6128694e-01 -1.3009989e+00 -7.3587829e-01  1.3808767e+00\n",
      "  -1.4942708e+00  8.9511585e-01 -3.7200790e-02  1.1281986e-02\n",
      "  -9.9881262e-01 -1.3604850e+00 -1.4957554e+00  1.3455458e+00\n",
      "   1.2047440e+00 -9.1226017e-01  4.6767271e-01 -1.2907779e+00\n",
      "   6.8808764e-01  4.0381920e-01  1.1279422e+00  1.1163872e+00\n",
      "  -1.0981326e+00 -6.4652342e-01 -1.4859884e+00  9.2555076e-01\n",
      "   8.3996832e-01 -9.3913317e-01 -4.3476674e-01  1.9229410e+00\n",
      "   5.7144141e-01  8.9014614e-01  1.4856718e+00  7.4411798e-03\n",
      "  -5.2010697e-01 -1.4149654e+00 -1.3728763e+00  7.6044971e-01\n",
      "  -1.2160538e+00  5.5422699e-01 -1.1295351e+00  1.5406563e+00\n",
      "  -1.0484759e+00  2.0303866e-01 -4.2608714e-01 -1.7481965e+00\n",
      "   9.7742391e-01 -3.6775321e-01  1.0418864e+00 -4.7437033e-01\n",
      "   1.2691243e+00  1.0676371e+00  4.2687076e-01 -1.5606460e-01\n",
      "   7.0591575e-01  7.9401618e-01  7.5941795e-01  1.6625377e+00\n",
      "   1.4154361e+00  8.0169648e-01 -6.8277895e-01  1.2466938e+00\n",
      "   1.4001731e+00 -6.3756788e-01 -1.0395252e+00 -8.2514668e-01]]\n"
     ]
    },
    {
     "name": "stderr",
     "output_type": "stream",
     "text": [
      "DEBUG:urllib3.connectionpool:Starting new HTTPS connection (1): huggingface.co:443\n"
     ]
    },
    {
     "name": "stdout",
     "output_type": "stream",
     "text": [
      "tiny-bert\n"
     ]
    },
    {
     "name": "stderr",
     "output_type": "stream",
     "text": [
      "DEBUG:urllib3.connectionpool:https://huggingface.co:443 \"HEAD /huseinzol05/emotion-tiny-bert/resolve/main/model.pb HTTP/1.1\" 302 0\n",
      "DEBUG:filelock:Attempting to acquire lock 5805762832 on /Users/huseinzolkepli/.cache/huggingface/hub/1ec3ae00d158e4b6deb7c91a9298aa9ba706763e6d0f5c400f0029f669f54871.6d1f4a1726559b07c0176389f57b56c3d243300c362ed9395521881e34aa3543.lock\n",
      "INFO:filelock:Lock 5805762832 acquired on /Users/huseinzolkepli/.cache/huggingface/hub/1ec3ae00d158e4b6deb7c91a9298aa9ba706763e6d0f5c400f0029f669f54871.6d1f4a1726559b07c0176389f57b56c3d243300c362ed9395521881e34aa3543.lock\n",
      "DEBUG:urllib3.connectionpool:Starting new HTTPS connection (1): cdn-lfs.huggingface.co:443\n",
      "DEBUG:urllib3.connectionpool:https://cdn-lfs.huggingface.co:443 \"GET /repos/92/fd/92fdb277e261dd21e46b8c7ee019065cafeadf938f03ee098f2826a66bdb3eb7/142ef50ddb1bb3d089f6f5bf1c7dbfe29ac23f035e2c50a8d405e7eb8abcdc1e HTTP/1.1\" 200 60145061\n"
     ]
    },
    {
     "data": {
      "application/vnd.jupyter.widget-view+json": {
       "model_id": "78f2fcfac32d4089b7fa363d3bc1fdce",
       "version_major": 2,
       "version_minor": 0
      },
      "text/plain": [
       "HBox(children=(FloatProgress(value=0.0, description='Downloading', max=60145061.0, style=ProgressStyle(descrip…"
      ]
     },
     "metadata": {},
     "output_type": "display_data"
    },
    {
     "name": "stderr",
     "output_type": "stream",
     "text": [
      "DEBUG:filelock:Attempting to release lock 5805762832 on /Users/huseinzolkepli/.cache/huggingface/hub/1ec3ae00d158e4b6deb7c91a9298aa9ba706763e6d0f5c400f0029f669f54871.6d1f4a1726559b07c0176389f57b56c3d243300c362ed9395521881e34aa3543.lock\n",
      "INFO:filelock:Lock 5805762832 released on /Users/huseinzolkepli/.cache/huggingface/hub/1ec3ae00d158e4b6deb7c91a9298aa9ba706763e6d0f5c400f0029f669f54871.6d1f4a1726559b07c0176389f57b56c3d243300c362ed9395521881e34aa3543.lock\n",
      "DEBUG:urllib3.connectionpool:Starting new HTTPS connection (1): huggingface.co:443\n"
     ]
    },
    {
     "name": "stdout",
     "output_type": "stream",
     "text": [
      "\n"
     ]
    },
    {
     "name": "stderr",
     "output_type": "stream",
     "text": [
      "DEBUG:urllib3.connectionpool:https://huggingface.co:443 \"HEAD /huseinzol05/bpe/resolve/main/sp10m.cased.bert.vocab HTTP/1.1\" 302 0\n",
      "DEBUG:filelock:Attempting to acquire lock 5821963472 on /Users/huseinzolkepli/.cache/huggingface/hub/751c8f3b6315f4da5352aa3bd02111865654ae524584e7324ff16cedab555079.98e63c8d1518a3278336307feef274a346212c10c25038b66034b7d5c9e0adac.lock\n",
      "INFO:filelock:Lock 5821963472 acquired on /Users/huseinzolkepli/.cache/huggingface/hub/751c8f3b6315f4da5352aa3bd02111865654ae524584e7324ff16cedab555079.98e63c8d1518a3278336307feef274a346212c10c25038b66034b7d5c9e0adac.lock\n",
      "DEBUG:urllib3.connectionpool:Starting new HTTPS connection (1): cdn-lfs.huggingface.co:443\n",
      "DEBUG:urllib3.connectionpool:https://cdn-lfs.huggingface.co:443 \"GET /huseinzol05/bpe/79543f56a6300750999905cb34c4d1e485db47056a362a615111504ca2722d85 HTTP/1.1\" 200 568997\n"
     ]
    },
    {
     "data": {
      "application/vnd.jupyter.widget-view+json": {
       "model_id": "5549fe1f02a440b483f68645fa81f53e",
       "version_major": 2,
       "version_minor": 0
      },
      "text/plain": [
       "HBox(children=(FloatProgress(value=0.0, description='Downloading', max=568997.0, style=ProgressStyle(descripti…"
      ]
     },
     "metadata": {},
     "output_type": "display_data"
    },
    {
     "name": "stderr",
     "output_type": "stream",
     "text": [
      "DEBUG:filelock:Attempting to release lock 5821963472 on /Users/huseinzolkepli/.cache/huggingface/hub/751c8f3b6315f4da5352aa3bd02111865654ae524584e7324ff16cedab555079.98e63c8d1518a3278336307feef274a346212c10c25038b66034b7d5c9e0adac.lock\n",
      "INFO:filelock:Lock 5821963472 released on /Users/huseinzolkepli/.cache/huggingface/hub/751c8f3b6315f4da5352aa3bd02111865654ae524584e7324ff16cedab555079.98e63c8d1518a3278336307feef274a346212c10c25038b66034b7d5c9e0adac.lock\n",
      "DEBUG:urllib3.connectionpool:Starting new HTTPS connection (1): huggingface.co:443\n"
     ]
    },
    {
     "name": "stdout",
     "output_type": "stream",
     "text": [
      "\n"
     ]
    },
    {
     "name": "stderr",
     "output_type": "stream",
     "text": [
      "DEBUG:urllib3.connectionpool:https://huggingface.co:443 \"HEAD /huseinzol05/bpe/resolve/main/sp10m.cased.bert.model HTTP/1.1\" 302 0\n",
      "DEBUG:filelock:Attempting to acquire lock 5817007248 on /Users/huseinzolkepli/.cache/huggingface/hub/7e24d809b6085681c43e12c39162d41f388fb16c0bca4baf4d88bbb1679923b6.5624fa64160440ac068894721c64e33ab0e168652161ed9fb7f42ad0738b8b15.lock\n",
      "INFO:filelock:Lock 5817007248 acquired on /Users/huseinzolkepli/.cache/huggingface/hub/7e24d809b6085681c43e12c39162d41f388fb16c0bca4baf4d88bbb1679923b6.5624fa64160440ac068894721c64e33ab0e168652161ed9fb7f42ad0738b8b15.lock\n",
      "DEBUG:urllib3.connectionpool:Starting new HTTPS connection (1): cdn-lfs.huggingface.co:443\n",
      "DEBUG:urllib3.connectionpool:https://cdn-lfs.huggingface.co:443 \"GET /huseinzol05/bpe/3e2b02383d2dbc1d528c3d768ff2f74596263675773dc4ca118557ae60206aa0 HTTP/1.1\" 200 778744\n"
     ]
    },
    {
     "data": {
      "application/vnd.jupyter.widget-view+json": {
       "model_id": "ee6fae0d525f4874978b04e9f741efc2",
       "version_major": 2,
       "version_minor": 0
      },
      "text/plain": [
       "HBox(children=(FloatProgress(value=0.0, description='Downloading', max=778744.0, style=ProgressStyle(descripti…"
      ]
     },
     "metadata": {},
     "output_type": "display_data"
    },
    {
     "name": "stderr",
     "output_type": "stream",
     "text": [
      "DEBUG:filelock:Attempting to release lock 5817007248 on /Users/huseinzolkepli/.cache/huggingface/hub/7e24d809b6085681c43e12c39162d41f388fb16c0bca4baf4d88bbb1679923b6.5624fa64160440ac068894721c64e33ab0e168652161ed9fb7f42ad0738b8b15.lock\n",
      "INFO:filelock:Lock 5817007248 released on /Users/huseinzolkepli/.cache/huggingface/hub/7e24d809b6085681c43e12c39162d41f388fb16c0bca4baf4d88bbb1679923b6.5624fa64160440ac068894721c64e33ab0e168652161ed9fb7f42ad0738b8b15.lock\n",
      "DEBUG:frozen_graph:use_tensorrt: False\n",
      "DEBUG:frozen_graph:tensorrt_precision_mode: FP32\n",
      "DEBUG:frozen_graph:precision_mode: FP32\n",
      "DEBUG:frozen_graph:t5_graph: False\n",
      "DEBUG:frozen_graph:glowtts_graph: False\n",
      "DEBUG:frozen_graph:glowtts_multispeaker_graph: False\n",
      "INFO:frozen_graph:running Users/huseinzolkepli/.cache/huggingface/hub using device /device:CPU:0\n"
     ]
    },
    {
     "name": "stdout",
     "output_type": "stream",
     "text": [
      "\n"
     ]
    },
    {
     "name": "stderr",
     "output_type": "stream",
     "text": [
      "DEBUG:root:['▁Jabatan', '▁Penjara', '▁Malaysia', '▁diperuntukkan', '▁RM', '20', '▁juta', '▁', 'laksana', '▁program', '▁pembangunan', '▁Insan', '▁kepada', '▁banduan', '.', '▁Majikan', '▁yang', '▁menggaji', '▁bekas', '▁banduan', ',', '▁bekas', '▁penagih', '▁dadah', '▁diberi', '▁potongan', '▁cukai', '▁tambahan', '▁sehingga', '▁', '2025', '.']\n",
      "DEBUG:root:['▁Jabatan', '▁Penjara', '▁Malaysia', '▁diperuntukkan', '▁RM', '20', '▁juta', '▁', 'laksana', '▁program', '▁pembangunan', '▁Insan', '▁kepada', '▁banduan', '.', '▁Majikan', '▁yang', '▁menggaji', '▁bekas', '▁banduan', ',', '▁bekas', '▁penagih', '▁dadah', '▁diberi', '▁potongan', '▁cukai', '▁tambahan', '▁sehingga', '▁', '2025', '.']\n"
     ]
    },
    {
     "name": "stdout",
     "output_type": "stream",
     "text": [
      "[{'anger': 0.9998513, 'fear': 1.3350393e-05, 'happy': 2.0655321e-05, 'love': 3.991119e-05, 'sadness': 4.0447212e-05, 'surprise': 3.433961e-05}]\n"
     ]
    },
    {
     "name": "stderr",
     "output_type": "stream",
     "text": [
      "DEBUG:root:['▁Jabatan', '▁Penjara', '▁Malaysia', '▁diperuntukkan', '▁RM', '20', '▁juta', '▁', 'laksana', '▁program', '▁pembangunan', '▁Insan', '▁kepada', '▁banduan', '.', '▁Majikan', '▁yang', '▁menggaji', '▁bekas', '▁banduan', ',', '▁bekas', '▁penagih', '▁dadah', '▁diberi', '▁potongan', '▁cukai', '▁tambahan', '▁sehingga', '▁', '2025', '.']\n"
     ]
    },
    {
     "name": "stdout",
     "output_type": "stream",
     "text": [
      "{'anger': 0.9998551, 'fear': 1.4036252e-05, 'happy': 2.024689e-05, 'love': 3.476912e-05, 'sadness': 3.9525705e-05, 'surprise': 3.670485e-05, 'alphas': {'Jabatan': 0.042758435, 'Penjara': 0.035278484, 'Malaysia': 0.049743734, 'diperuntukkan': 0.027856192, 'RM20': 0.03800251, 'juta': 0.03472039, 'laksana': 0.037229482, 'program': 0.028349295, 'pembangunan': 0.030515308, 'Insan': 0.039355114, 'kepada': 0.025830092, 'banduan.': 0.038776547, 'Majikan': 0.07718845, 'yang': 0.050172612, 'menggaji': 0.02998115, 'bekas': 0.023535188, 'banduan,': 0.03461469, 'penagih': 0.03133295, 'dadah': 0.03372756, 'diberi': 0.027991785, 'potongan': 0.068255804, 'cukai': 0.04585592, 'tambahan': 0.030353343, 'sehingga': 0.04027105, '2025.': 0.05412212}, 'word': {'Jabatan': array([9.99824464e-01, 1.29814225e-05, 2.56142685e-05, 4.88343612e-05,\n",
      "       3.84332743e-05, 4.93894659e-05], dtype=float32), 'Penjara': array([9.9979782e-01, 1.3015065e-05, 2.5708316e-05, 6.7404340e-05,\n",
      "       4.4012435e-05, 5.2416559e-05], dtype=float32), 'Malaysia': array([9.9981219e-01, 1.2456699e-05, 2.8784343e-05, 5.4015600e-05,\n",
      "       4.6100449e-05, 4.6656634e-05], dtype=float32), 'diperuntukkan': array([9.9981600e-01, 1.2394664e-05, 3.1839856e-05, 4.9462102e-05,\n",
      "       4.1367275e-05, 4.9008897e-05], dtype=float32), 'RM20': array([9.9979591e-01, 1.2123193e-05, 3.8349721e-05, 5.5463825e-05,\n",
      "       4.4312586e-05, 5.4003147e-05], dtype=float32), 'juta': array([9.9970919e-01, 1.1440321e-05, 4.9893937e-05, 9.3418661e-05,\n",
      "       6.2288309e-05, 7.3666066e-05], dtype=float32), 'laksana': array([9.9979258e-01, 1.2504510e-05, 4.1181433e-05, 6.6977751e-05,\n",
      "       3.4117027e-05, 5.2732528e-05], dtype=float32), 'program': array([9.9979973e-01, 1.3709755e-05, 3.6705587e-05, 7.0797636e-05,\n",
      "       3.0978666e-05, 4.8014896e-05], dtype=float32), 'pembangunan': array([9.9980539e-01, 1.3169776e-05, 2.8067054e-05, 5.8614485e-05,\n",
      "       4.2042004e-05, 5.2632200e-05], dtype=float32), 'Insan': array([9.99829292e-01, 1.44431215e-05, 2.23317875e-05, 5.32164668e-05,\n",
      "       3.74282172e-05, 4.32786692e-05], dtype=float32), 'kepada': array([9.9977875e-01, 1.2246921e-05, 4.0264440e-05, 6.2835243e-05,\n",
      "       4.8137721e-05, 5.7377096e-05], dtype=float32), 'banduan.': array([9.9981070e-01, 1.3307814e-05, 2.7894141e-05, 5.3395204e-05,\n",
      "       4.4697128e-05, 4.9932260e-05], dtype=float32), 'Majikan': array([9.99832153e-01, 1.30813405e-05, 2.71915378e-05, 5.06629840e-05,\n",
      "       3.43089705e-05, 4.25067665e-05], dtype=float32), 'yang': array([9.9975687e-01, 1.1456076e-05, 3.6347454e-05, 7.0141577e-05,\n",
      "       7.2273964e-05, 5.2783958e-05], dtype=float32), 'menggaji': array([9.9982357e-01, 1.3362801e-05, 3.4579974e-05, 4.9630835e-05,\n",
      "       4.0872663e-05, 3.8142516e-05], dtype=float32), 'bekas': array([9.9974829e-01, 1.2460822e-05, 4.5024201e-05, 8.4047570e-05,\n",
      "       5.1221377e-05, 5.8496207e-05], dtype=float32), 'banduan,': array([9.9978733e-01, 1.2779641e-05, 3.2447278e-05, 6.6556575e-05,\n",
      "       4.7218033e-05, 5.3556079e-05], dtype=float32), 'penagih': array([9.9975210e-01, 1.3356863e-05, 3.1499236e-05, 8.1269805e-05,\n",
      "       6.6550601e-05, 5.5494598e-05], dtype=float32), 'dadah': array([9.9975586e-01, 1.2651645e-05, 3.1015148e-05, 8.4422485e-05,\n",
      "       5.6253051e-05, 5.9521062e-05], dtype=float32), 'diberi': array([9.9981308e-01, 1.2774608e-05, 3.8427890e-05, 5.7805384e-05,\n",
      "       3.1720811e-05, 4.6356283e-05], dtype=float32), 'potongan': array([9.9982077e-01, 1.3159055e-05, 3.5553345e-05, 4.5220044e-05,\n",
      "       3.3941971e-05, 5.1498762e-05], dtype=float32), 'cukai': array([9.9983406e-01, 1.3254069e-05, 2.9612589e-05, 4.8304792e-05,\n",
      "       3.0638173e-05, 4.4730266e-05], dtype=float32), 'tambahan': array([9.9982834e-01, 1.3398134e-05, 3.0134566e-05, 5.0425824e-05,\n",
      "       3.2962063e-05, 4.4493376e-05], dtype=float32), 'sehingga': array([9.9984741e-01, 1.3935748e-05, 2.5274216e-05, 3.9021426e-05,\n",
      "       3.3031138e-05, 4.1255626e-05], dtype=float32), '2025.': array([9.9983054e-01, 1.2786387e-05, 2.7477368e-05, 4.3288233e-05,\n",
      "       3.8681956e-05, 4.7274840e-05], dtype=float32)}, 'histogram': {'x': array([0.  , 0.05, 0.1 , 0.15, 0.2 , 0.25, 0.3 , 0.35, 0.4 , 0.45, 0.5 ,\n",
      "       0.55, 0.6 , 0.65, 0.7 , 0.75, 0.8 , 0.85, 0.9 , 0.95, 1.  ]), 'y': array([0., 0., 0., 0., 0., 0., 0., 0., 0., 0., 0., 0., 0., 0., 0., 0., 0.,\n",
      "       0., 0., 1.])}, 'attention': {'x': array([ 0,  1,  2,  3,  4,  5,  6,  7,  8,  9, 10, 11, 12, 13, 14, 15, 16,\n",
      "       17, 18, 19, 20, 21, 22, 23, 24, 25]), 'y': array([0.04275844, 0.03527848, 0.04974373, 0.02785619, 0.03800251,\n",
      "       0.03472039, 0.03722948, 0.0283493 , 0.03051531, 0.03935511,\n",
      "       0.02583009, 0.03877655, 0.07718845, 0.05017261, 0.02998115,\n",
      "       0.02418172, 0.03461469, 0.02353519, 0.03133295, 0.03372756,\n",
      "       0.02799178, 0.0682558 , 0.04585592, 0.03035334, 0.04027105,\n",
      "       0.05412212], dtype=float32)}, 'barplot': {'x': ['anger', 'fear', 'happy', 'love', 'sadness', 'surprise'], 'y': [26, 1, 2, 3, 4, 5]}, 'module': 'emotion'}\n"
     ]
    },
    {
     "name": "stderr",
     "output_type": "stream",
     "text": [
      "DEBUG:urllib3.connectionpool:Starting new HTTPS connection (1): huggingface.co:443\n"
     ]
    },
    {
     "name": "stdout",
     "output_type": "stream",
     "text": [
      "[[-1.7639096  -2.3737342  -0.9783585  -2.3365197   1.7764094   1.6136947\n",
      "   1.2338109   0.8357459  -1.474847   -1.2686357  -1.2320887  -1.7392757\n",
      "  -0.8638692  -0.03287972  1.3873739   0.4520261  -1.952471   -2.3768618\n",
      "   2.255312    1.6287497   1.9207319  -0.96440226  1.2092961   1.5233198\n",
      "   2.4493856  -1.7202289  -1.5502274   1.827438    1.8034792   1.497531\n",
      "  -1.5850992   1.0326343  -1.6239349  -1.9352885  -1.2491156  -1.9734508\n",
      "  -1.5385991   2.001596    0.14257228 -2.283758   -0.7200908  -1.7302226\n",
      "   0.73682326 -1.9001815   2.6187384  -0.87123674  1.720647   -1.6193104\n",
      "   2.4738894  -1.6349572  -1.3417904  -1.0080471   1.6039114   1.3360173\n",
      "  -1.6215969   0.300339   -1.5267609  -0.60546887 -1.5171616   1.4024539\n",
      "  -1.8539134   2.0941858   2.8057764  -0.31367236  1.8500966  -1.6835407\n",
      "   0.39599568  1.2371714  -2.2676399   1.8608131   0.78290206 -1.3229142\n",
      "  -1.3242338   2.062104    1.5783274  -1.4493154   1.4037315  -2.421501\n",
      "  -1.5265455  -0.9807445   2.177351    1.9192435  -1.7593219  -1.1890448\n",
      "  -1.8205098   1.2682964   0.9417229   1.7890652  -1.0564452  -1.3957915\n",
      "  -2.2402298  -1.8412111   1.7868655  -2.096621    1.801163    0.68900436\n",
      "   1.2762263  -1.5305771  -1.3336902  -1.2474061   2.1225011   0.6560247\n",
      "  -1.9735903  -1.2715248  -1.6553688   0.63599646  2.0827184   1.5769767\n",
      "   1.3301576  -0.9823      2.2822115  -0.92503595  1.0128288   1.9534606\n",
      "  -2.4332108   0.9357036   1.5570978   1.5991558  -1.3893597   1.5129838\n",
      "  -1.6102965  -0.5083289   1.5561221   2.070572    0.8717859  -1.3507872\n",
      "  -2.0427973   1.2184923   0.49078742  1.3441567  -1.3028427  -1.5603424\n",
      "  -1.9589255  -2.0932987   2.360393    1.3699814   1.3631097  -1.3592253\n",
      "   1.5134082  -1.3197334  -1.7325706  -2.544938   -1.3736541   0.21008231\n",
      "  -1.6645576   1.9161845  -1.6882297  -2.3863044  -1.8841178   2.2937036\n",
      "  -0.8023325  -1.6509738  -2.5335352  -1.7747083  -1.6691982   1.9042494\n",
      "   1.1000527   2.0619822  -1.3516935  -2.1565294  -2.6957216   1.7686971\n",
      "   1.6290073   2.0572975   1.9365222  -1.2585301  -2.3001916   2.0637262\n",
      "  -0.6653532   1.1519217  -1.2293587   2.5904431   1.8152335  -1.2640496\n",
      "  -2.0619512  -1.280626    2.4860032  -1.8460902   1.4201378  -1.6515788\n",
      "  -2.1468654  -1.8636527  -2.3019516   2.0374072   2.2807071   1.9304305\n",
      "  -1.5463766  -1.9822127   1.159094   -1.4490981   0.9789199  -1.7417582\n",
      "  -2.0061717  -1.7939707  -2.3831573   2.0603938   2.0457811  -1.1282862\n",
      "  -1.3913      1.5441791   1.8630996   1.9233642  -0.40544862 -1.71199\n",
      "   1.2417746   1.5344886   2.1945643   1.5763963   1.9949523  -1.6141768\n",
      "   2.5033646   1.7367274  -2.006568   -1.3261757  -2.186733    1.7067869\n",
      "   1.9938548   1.6507078  -1.4427774  -1.1051468   1.0016696   2.3192842\n",
      "   0.144769    1.2417998  -1.5053892   0.71322733 -0.22564483 -2.1543202\n",
      "  -1.7360822  -1.9453934  -2.0417252   1.2919973   1.880969    1.6871148\n",
      "  -1.6072141  -1.4757835  -1.9056138   1.6134139  -2.1288161   2.0581737\n",
      "   1.7861212   0.6967993  -2.459303    2.1124513   1.9799482  -0.5247191\n",
      "   1.771552    1.5569897  -1.275291   -1.0685638   1.9464482  -1.6150112\n",
      "   1.1905264  -2.2720723   2.125048   -1.352701    2.0724423  -0.8930118\n",
      "  -1.4575387  -2.2450418  -2.303648    2.4343977   0.8165385   2.0393095\n",
      "  -1.2184867   1.527044    0.91193855 -2.550483   -2.314149   -2.0395303\n",
      "  -2.188144   -1.0464035  -1.1698267  -0.77239764  2.0327828   1.4248168\n",
      "   1.8103822   1.9589479   1.981788    1.2767172   2.3478549  -2.0890992\n",
      "  -1.7818286  -1.4619724   2.1356964  -1.8722084   0.8912785  -2.1609938\n",
      "   2.0747967   2.181667   -1.3049225  -1.0908672  -2.1642947  -2.2519615\n",
      "  -2.0234015  -0.70991     1.0427995   0.9698934  -1.4225904   2.4543009\n",
      "   1.702809    2.6020641  -2.0638282   0.50849223 -1.8942484  -2.3266385\n",
      "  -0.61173147  1.3829988  -2.2348459  -2.0624266  -2.237796   -1.8132672 ]]\n",
      "albert\n"
     ]
    },
    {
     "name": "stderr",
     "output_type": "stream",
     "text": [
      "DEBUG:urllib3.connectionpool:https://huggingface.co:443 \"HEAD /huseinzol05/emotion-albert/resolve/main/model.pb HTTP/1.1\" 302 0\n",
      "DEBUG:filelock:Attempting to acquire lock 5799788304 on /Users/huseinzolkepli/.cache/huggingface/hub/d2b9517aa6817221b795fe198bbed712de6b73977870fc934ba953484c76cf35.f0279c802c1f3a6960f76a2a351e92ed97824b70fc06a9ca2224ba559a51164e.lock\n",
      "INFO:filelock:Lock 5799788304 acquired on /Users/huseinzolkepli/.cache/huggingface/hub/d2b9517aa6817221b795fe198bbed712de6b73977870fc934ba953484c76cf35.f0279c802c1f3a6960f76a2a351e92ed97824b70fc06a9ca2224ba559a51164e.lock\n",
      "DEBUG:urllib3.connectionpool:Starting new HTTPS connection (1): cdn-lfs.huggingface.co:443\n",
      "DEBUG:urllib3.connectionpool:https://cdn-lfs.huggingface.co:443 \"GET /repos/2b/8f/2b8ff035f4b34f78d145b086aa582b6966f8d8e33483bd057d6222192c82d174/a23911ad3d0c6b5313d32eda9214a5364fc2ec086dcbfc214b059a9169b5f606 HTTP/1.1\" 200 50953442\n"
     ]
    },
    {
     "data": {
      "application/vnd.jupyter.widget-view+json": {
       "model_id": "d10428bca8434f4a9a678999311c2218",
       "version_major": 2,
       "version_minor": 0
      },
      "text/plain": [
       "HBox(children=(FloatProgress(value=0.0, description='Downloading', max=50953442.0, style=ProgressStyle(descrip…"
      ]
     },
     "metadata": {},
     "output_type": "display_data"
    },
    {
     "name": "stderr",
     "output_type": "stream",
     "text": [
      "DEBUG:filelock:Attempting to release lock 5799788304 on /Users/huseinzolkepli/.cache/huggingface/hub/d2b9517aa6817221b795fe198bbed712de6b73977870fc934ba953484c76cf35.f0279c802c1f3a6960f76a2a351e92ed97824b70fc06a9ca2224ba559a51164e.lock\n",
      "INFO:filelock:Lock 5799788304 released on /Users/huseinzolkepli/.cache/huggingface/hub/d2b9517aa6817221b795fe198bbed712de6b73977870fc934ba953484c76cf35.f0279c802c1f3a6960f76a2a351e92ed97824b70fc06a9ca2224ba559a51164e.lock\n",
      "DEBUG:urllib3.connectionpool:Starting new HTTPS connection (1): huggingface.co:443\n"
     ]
    },
    {
     "name": "stdout",
     "output_type": "stream",
     "text": [
      "\n"
     ]
    },
    {
     "name": "stderr",
     "output_type": "stream",
     "text": [
      "DEBUG:urllib3.connectionpool:https://huggingface.co:443 \"HEAD /huseinzol05/bpe/resolve/main/sp10m.cased.v10.vocab HTTP/1.1\" 302 0\n",
      "DEBUG:filelock:Attempting to acquire lock 4413805200 on /Users/huseinzolkepli/.cache/huggingface/hub/74bac0744b30f1c46cb151eca33db67174d3c52144c2012bc967975fba3f5b5c.6314ea2a368968844946f0e12f46a47c716f2612371a324ed0b2e0f4d3bfd7f1.lock\n",
      "INFO:filelock:Lock 4413805200 acquired on /Users/huseinzolkepli/.cache/huggingface/hub/74bac0744b30f1c46cb151eca33db67174d3c52144c2012bc967975fba3f5b5c.6314ea2a368968844946f0e12f46a47c716f2612371a324ed0b2e0f4d3bfd7f1.lock\n",
      "DEBUG:urllib3.connectionpool:Starting new HTTPS connection (1): cdn-lfs.huggingface.co:443\n",
      "DEBUG:urllib3.connectionpool:https://cdn-lfs.huggingface.co:443 \"GET /huseinzol05/bpe/87ec4ae68b4cf44cdfbc0dae02ed89ffb1ab92b85a1baa314734ce5292577dc6 HTTP/1.1\" 200 569013\n"
     ]
    },
    {
     "data": {
      "application/vnd.jupyter.widget-view+json": {
       "model_id": "9c9e1c5023c743a38dd26cd111e0a6ac",
       "version_major": 2,
       "version_minor": 0
      },
      "text/plain": [
       "HBox(children=(FloatProgress(value=0.0, description='Downloading', max=569013.0, style=ProgressStyle(descripti…"
      ]
     },
     "metadata": {},
     "output_type": "display_data"
    },
    {
     "name": "stderr",
     "output_type": "stream",
     "text": [
      "DEBUG:filelock:Attempting to release lock 4413805200 on /Users/huseinzolkepli/.cache/huggingface/hub/74bac0744b30f1c46cb151eca33db67174d3c52144c2012bc967975fba3f5b5c.6314ea2a368968844946f0e12f46a47c716f2612371a324ed0b2e0f4d3bfd7f1.lock\n",
      "INFO:filelock:Lock 4413805200 released on /Users/huseinzolkepli/.cache/huggingface/hub/74bac0744b30f1c46cb151eca33db67174d3c52144c2012bc967975fba3f5b5c.6314ea2a368968844946f0e12f46a47c716f2612371a324ed0b2e0f4d3bfd7f1.lock\n",
      "DEBUG:urllib3.connectionpool:Starting new HTTPS connection (1): huggingface.co:443\n"
     ]
    },
    {
     "name": "stdout",
     "output_type": "stream",
     "text": [
      "\n"
     ]
    },
    {
     "name": "stderr",
     "output_type": "stream",
     "text": [
      "DEBUG:urllib3.connectionpool:https://huggingface.co:443 \"HEAD /huseinzol05/bpe/resolve/main/sp10m.cased.v10.model HTTP/1.1\" 302 0\n",
      "DEBUG:filelock:Attempting to acquire lock 5806496464 on /Users/huseinzolkepli/.cache/huggingface/hub/22ac3434f0ba349f307cce29fe483b3d48ab1be470662e6d0c7817f67f338915.9d56586b4401518ef8919923c798d8f5f4725a478e09adefba6f65368be4e127.lock\n",
      "INFO:filelock:Lock 5806496464 acquired on /Users/huseinzolkepli/.cache/huggingface/hub/22ac3434f0ba349f307cce29fe483b3d48ab1be470662e6d0c7817f67f338915.9d56586b4401518ef8919923c798d8f5f4725a478e09adefba6f65368be4e127.lock\n",
      "DEBUG:urllib3.connectionpool:Starting new HTTPS connection (1): cdn-lfs.huggingface.co:443\n",
      "DEBUG:urllib3.connectionpool:https://cdn-lfs.huggingface.co:443 \"GET /huseinzol05/bpe/2628be92fc45dcfa720ab931237aa70acd75c785b188638b8865b41c04c0cd0b HTTP/1.1\" 200 778641\n"
     ]
    },
    {
     "data": {
      "application/vnd.jupyter.widget-view+json": {
       "model_id": "08d67ebf3d3346a78676cf889999f459",
       "version_major": 2,
       "version_minor": 0
      },
      "text/plain": [
       "HBox(children=(FloatProgress(value=0.0, description='Downloading', max=778641.0, style=ProgressStyle(descripti…"
      ]
     },
     "metadata": {},
     "output_type": "display_data"
    },
    {
     "name": "stderr",
     "output_type": "stream",
     "text": [
      "DEBUG:filelock:Attempting to release lock 5806496464 on /Users/huseinzolkepli/.cache/huggingface/hub/22ac3434f0ba349f307cce29fe483b3d48ab1be470662e6d0c7817f67f338915.9d56586b4401518ef8919923c798d8f5f4725a478e09adefba6f65368be4e127.lock\n",
      "INFO:filelock:Lock 5806496464 released on /Users/huseinzolkepli/.cache/huggingface/hub/22ac3434f0ba349f307cce29fe483b3d48ab1be470662e6d0c7817f67f338915.9d56586b4401518ef8919923c798d8f5f4725a478e09adefba6f65368be4e127.lock\n",
      "DEBUG:frozen_graph:use_tensorrt: False\n",
      "DEBUG:frozen_graph:tensorrt_precision_mode: FP32\n",
      "DEBUG:frozen_graph:precision_mode: FP32\n",
      "DEBUG:frozen_graph:t5_graph: False\n",
      "DEBUG:frozen_graph:glowtts_graph: False\n",
      "DEBUG:frozen_graph:glowtts_multispeaker_graph: False\n",
      "INFO:frozen_graph:running Users/huseinzolkepli/.cache/huggingface/hub using device /device:CPU:0\n"
     ]
    },
    {
     "name": "stdout",
     "output_type": "stream",
     "text": [
      "\n"
     ]
    },
    {
     "name": "stderr",
     "output_type": "stream",
     "text": [
      "DEBUG:root:['▁Jabatan', '▁Penjara', '▁Malaysia', '▁diperuntukkan', '▁RM', '20', '▁juta', '▁', 'laksana', '▁program', '▁pembangunan', '▁Insan', '▁kepada', '▁banduan', '.', '▁Majikan', '▁yang', '▁menggaji', '▁bekas', '▁banduan', ',', '▁bekas', '▁penagih', '▁dadah', '▁diberi', '▁potongan', '▁cukai', '▁tambahan', '▁sehingga', '▁', '2025', '.']\n",
      "DEBUG:root:['▁Jabatan', '▁Penjara', '▁Malaysia', '▁diperuntukkan', '▁RM', '20', '▁juta', '▁', 'laksana', '▁program', '▁pembangunan', '▁Insan', '▁kepada', '▁banduan', '.', '▁Majikan', '▁yang', '▁menggaji', '▁bekas', '▁banduan', ',', '▁bekas', '▁penagih', '▁dadah', '▁diberi', '▁potongan', '▁cukai', '▁tambahan', '▁sehingga', '▁', '2025', '.']\n"
     ]
    },
    {
     "name": "stdout",
     "output_type": "stream",
     "text": [
      "[{'anger': 0.99818254, 'fear': 0.00044873724, 'happy': 0.00034866197, 'love': 8.8717505e-05, 'sadness': 0.00015343168, 'surprise': 0.0007780917}]\n"
     ]
    },
    {
     "name": "stderr",
     "output_type": "stream",
     "text": [
      "DEBUG:root:['▁Jabatan', '▁Penjara', '▁Malaysia', '▁diperuntukkan', '▁RM', '20', '▁juta', '▁', 'laksana', '▁program', '▁pembangunan', '▁Insan', '▁kepada', '▁banduan', '.', '▁Majikan', '▁yang', '▁menggaji', '▁bekas', '▁banduan', ',', '▁bekas', '▁penagih', '▁dadah', '▁diberi', '▁potongan', '▁cukai', '▁tambahan', '▁sehingga', '▁', '2025', '.']\n"
     ]
    },
    {
     "name": "stdout",
     "output_type": "stream",
     "text": [
      "{'anger': 0.99818254, 'fear': 0.00044873724, 'happy': 0.00034866197, 'love': 8.8717505e-05, 'sadness': 0.00015343168, 'surprise': 0.0007780917, 'alphas': {'Jabatan': 0.009502943, 'Penjara': 0.019283125, 'Malaysia': 0.011856558, 'diperuntukkan': 0.013838827, 'RM20': 0.0047316016, 'juta': 0.012044042, 'laksana': 0.008615321, 'program': 0.006458789, 'pembangunan': 0.008832217, 'Insan': 0.06262118, 'kepada': 0.0866946, 'banduan.': 0.10801264, 'Majikan': 0.017753985, 'yang': 0.015275149, 'menggaji': 0.006364884, 'bekas': 0.009308492, 'banduan,': 0.073281266, 'penagih': 0.13597947, 'dadah': 0.05668327, 'diberi': 0.07016178, 'potongan': 0.061193, 'cukai': 0.08898702, 'tambahan': 0.050536096, 'sehingga': 0.006966689, '2025.': 0.041211948}, 'word': {'Jabatan': array([0.52266496, 0.048551  , 0.18291983, 0.04257249, 0.07697214,\n",
      "       0.12631947], dtype=float32), 'Penjara': array([0.07702684, 0.05122482, 0.39745545, 0.04303486, 0.3536131 ,\n",
      "       0.07764482], dtype=float32), 'Malaysia': array([0.27694932, 0.00801494, 0.07475545, 0.03738505, 0.55339533,\n",
      "       0.04949993], dtype=float32), 'diperuntukkan': array([0.16832958, 0.02299152, 0.33594275, 0.02436489, 0.32811025,\n",
      "       0.12026104], dtype=float32), 'RM20': array([0.03455736, 0.05163152, 0.13477638, 0.03073042, 0.6331079 ,\n",
      "       0.11519636], dtype=float32), 'juta': array([0.0901845 , 0.02077238, 0.34756193, 0.00690896, 0.41261598,\n",
      "       0.12195614], dtype=float32), 'laksana': array([0.15952168, 0.0600264 , 0.3566401 , 0.0300986 , 0.20416193,\n",
      "       0.1895512 ], dtype=float32), 'program': array([0.41677836, 0.02327818, 0.22749744, 0.02531787, 0.21897727,\n",
      "       0.08815087], dtype=float32), 'pembangunan': array([0.22199215, 0.00434872, 0.19983144, 0.02291969, 0.487908  ,\n",
      "       0.06299993], dtype=float32), 'Insan': array([0.17827985, 0.02595199, 0.18847194, 0.02211234, 0.4140924 ,\n",
      "       0.1710915 ], dtype=float32), 'kepada': array([0.20636235, 0.03670963, 0.28046775, 0.01870069, 0.10882598,\n",
      "       0.34893337], dtype=float32), 'banduan.': array([0.26188397, 0.02319405, 0.08459426, 0.04316043, 0.37197423,\n",
      "       0.21519299], dtype=float32), 'Majikan': array([0.3432554 , 0.0085565 , 0.1574698 , 0.03670378, 0.23950994,\n",
      "       0.21450469], dtype=float32), 'yang': array([0.12584107, 0.0193869 , 0.02924782, 0.01269456, 0.71088016,\n",
      "       0.10194962], dtype=float32), 'menggaji': array([0.30418342, 0.00617714, 0.08768558, 0.01299352, 0.54300827,\n",
      "       0.04595208], dtype=float32), 'bekas': array([0.05850468, 0.01413198, 0.08806353, 0.0066345 , 0.78386974,\n",
      "       0.04879564], dtype=float32), 'banduan,': array([0.25649878, 0.01539486, 0.04018066, 0.01253679, 0.5963842 ,\n",
      "       0.07900479], dtype=float32), 'penagih': array([0.64237165, 0.05896456, 0.1602414 , 0.00291912, 0.04495953,\n",
      "       0.09054398], dtype=float32), 'dadah': array([0.4866081 , 0.01608061, 0.09169632, 0.00345331, 0.22461535,\n",
      "       0.17754638], dtype=float32), 'diberi': array([0.75459003, 0.01679269, 0.11588417, 0.00387615, 0.03104137,\n",
      "       0.07781558], dtype=float32), 'potongan': array([0.65636915, 0.02156232, 0.20130105, 0.0051891 , 0.05020347,\n",
      "       0.06537502], dtype=float32), 'cukai': array([0.5893852 , 0.02645989, 0.17539836, 0.0042376 , 0.03541071,\n",
      "       0.16910823], dtype=float32), 'tambahan': array([0.7337897 , 0.00684398, 0.04069853, 0.00232317, 0.0318004 ,\n",
      "       0.18454434], dtype=float32), 'sehingga': array([0.40717798, 0.08908122, 0.199517  , 0.01185199, 0.15348533,\n",
      "       0.13888642], dtype=float32), '2025.': array([0.40542927, 0.10228718, 0.1784457 , 0.02887859, 0.10901339,\n",
      "       0.17594594], dtype=float32)}, 'histogram': {'x': array([0.  , 0.05, 0.1 , 0.15, 0.2 , 0.25, 0.3 , 0.35, 0.4 , 0.45, 0.5 ,\n",
      "       0.55, 0.6 , 0.65, 0.7 , 0.75, 0.8 , 0.85, 0.9 , 0.95, 1.  ]), 'y': array([0.15384615, 0.07692308, 0.07692308, 0.03846154, 0.15384615,\n",
      "       0.        , 0.03846154, 0.07692308, 0.07692308, 0.03846154,\n",
      "       0.03846154, 0.07692308, 0.03846154, 0.        , 0.03846154,\n",
      "       0.03846154, 0.03846154, 0.        , 0.        , 0.        ])}, 'attention': {'x': array([ 0,  1,  2,  3,  4,  5,  6,  7,  8,  9, 10, 11, 12, 13, 14, 15, 16,\n",
      "       17, 18, 19, 20, 21, 22, 23, 24, 25]), 'y': array([0.00950294, 0.01928313, 0.01185656, 0.01383883, 0.0047316 ,\n",
      "       0.01204404, 0.00861532, 0.00645879, 0.00883222, 0.06262118,\n",
      "       0.0866946 , 0.10801264, 0.01775398, 0.01527515, 0.00636488,\n",
      "       0.01380507, 0.07328127, 0.00930849, 0.13597947, 0.05668327,\n",
      "       0.07016178, 0.061193  , 0.08898702, 0.0505361 , 0.00696669,\n",
      "       0.04121195], dtype=float32)}, 'barplot': {'x': ['anger', 'fear', 'happy', 'love', 'sadness', 'surprise'], 'y': [11, 1, 3, 3, 11, 1]}, 'module': 'emotion'}\n"
     ]
    },
    {
     "name": "stderr",
     "output_type": "stream",
     "text": [
      "DEBUG:urllib3.connectionpool:Starting new HTTPS connection (1): huggingface.co:443\n"
     ]
    },
    {
     "name": "stdout",
     "output_type": "stream",
     "text": [
      "[[-9.92529690e-01 -1.36647284e-01 -1.19138563e+00 -1.36027038e+00\n",
      "   6.81335926e-01 -9.74430740e-02  3.90910834e-01  5.01747966e-01\n",
      "   2.84321219e-01  2.94927955e-01 -7.14886606e-01 -7.88085997e-01\n",
      "   3.07370983e-02  1.35140553e-01 -3.29241037e-01 -1.57115769e+00\n",
      "  -1.68458807e+00  5.00288159e-02 -7.44573295e-01 -1.19490647e+00\n",
      "   5.28251886e-01 -1.86045751e-01 -8.25630546e-01 -4.91177976e-01\n",
      "   1.11591971e+00 -7.81233132e-01  9.04818654e-01  2.35047325e-01\n",
      "  -1.06864536e+00  1.08330287e-01 -5.45226216e-01  7.48365879e-01\n",
      "  -1.92856625e-01 -3.20609808e-01  1.85845047e-01 -1.09482205e+00\n",
      "   4.00622606e-01  1.23700774e+00 -7.89520323e-01 -3.03238511e-01\n",
      "  -6.33181036e-01  2.42028490e-01 -1.60095406e+00 -1.84723109e-01\n",
      "   8.17761004e-01 -4.31718379e-01 -3.31488699e-01  9.38947499e-01\n",
      "  -7.68591285e-01 -6.39135063e-01  7.17144072e-01  1.29149854e+00\n",
      "  -6.42978847e-01 -6.56424582e-01 -1.18750297e-02  1.65338188e-01\n",
      "  -1.71393156e+00 -2.60697991e-01 -5.53345382e-01  1.14902794e+00\n",
      "   4.18501437e-01  5.04104674e-01 -7.26916254e-01  7.05540538e-01\n",
      "  -1.00472116e+00 -5.66405237e-01  8.15486073e-01  9.69492272e-02\n",
      "  -3.52234691e-01  6.30324185e-01  3.98494929e-01 -5.88095188e-01\n",
      "   1.35607672e+00 -2.29720011e-01  1.26231813e+00 -3.34065050e-01\n",
      "  -2.23329347e-02  8.41578066e-01  1.00276637e+00 -1.24135113e+00\n",
      "   6.78495824e-01 -1.53557503e+00  1.51616561e+00  1.24431801e+00\n",
      "   8.51822376e-01  2.78659135e-01  7.14438021e-01 -5.72815835e-01\n",
      "  -1.66036582e+00 -7.89509177e-01 -8.40086579e-01 -5.43019116e-01\n",
      "   1.44058251e+00 -7.25771844e-01  3.83527488e-01 -2.81778574e-01\n",
      "   8.17347109e-01  6.56135142e-01 -9.12363052e-01 -3.19474965e-01\n",
      "  -3.92856926e-01 -1.24398954e-02 -3.45909476e-01  1.00573230e+00\n",
      "  -2.73302406e-01  5.26284039e-01 -5.20502090e-01  8.34222063e-02\n",
      "  -6.64751530e-01  9.11317348e-01  3.93954255e-02  1.48987651e+00\n",
      "   1.05978811e+00  1.35365260e+00 -1.19767666e+00 -2.00808212e-01\n",
      "  -8.50062191e-01 -4.56710815e-01 -9.99553978e-01  3.22324991e-01\n",
      "   4.47790444e-01  9.95433390e-01  4.99608517e-01  9.47378337e-01\n",
      "  -1.27138007e+00 -8.64478052e-01 -1.18478489e+00  9.85991180e-01\n",
      "  -9.21011120e-02  1.99013367e-01  7.87270963e-01 -6.27897024e-01\n",
      "   1.08809066e+00 -3.51166666e-01 -6.84245080e-02  5.39680660e-01\n",
      "  -8.77983868e-01 -8.45953465e-01  1.30900276e+00 -1.49693811e+00\n",
      "   2.46669918e-01  2.84600649e-02  1.51498997e+00 -1.69336200e+00\n",
      "   4.63541240e-01 -8.31599236e-01  1.10123706e+00 -4.70140696e-01\n",
      "  -4.12869006e-01 -9.65639174e-01  1.43793368e+00  5.36515594e-01\n",
      "  -1.32971966e+00 -9.75817621e-01  1.31305826e+00 -1.25050974e+00\n",
      "  -8.26698616e-02 -7.66183376e-01  1.36828768e+00 -3.69137116e-02\n",
      "  -8.68164599e-01 -1.72439262e-01 -2.78315723e-01 -2.62734294e-01\n",
      "  -6.23085499e-01 -1.30299115e+00  2.90367156e-01  1.43029187e-02\n",
      "  -1.73635617e-01  4.03492451e-01  6.06286347e-01  3.38441074e-01\n",
      "   1.19665444e+00  1.07289100e+00 -1.27287555e+00  4.85852003e-01\n",
      "  -9.74584445e-02 -1.21655083e+00 -1.62980580e+00 -5.00496626e-01\n",
      "   6.38323665e-01 -4.87779677e-01 -1.73661262e-01  4.87881377e-02\n",
      "   3.97452861e-02 -4.01704252e-01 -5.55020750e-01 -2.03353390e-02\n",
      "  -2.14899749e-01 -9.83250082e-01 -1.09586096e+00 -1.00419712e+00\n",
      "   1.12341046e+00 -1.43076491e+00  9.82607484e-01 -1.58001018e+00\n",
      "   7.32184589e-01 -1.09904528e+00 -3.51192415e-01 -2.61312872e-01\n",
      "   6.66776061e-01  6.34895861e-02 -7.35874116e-01  5.50009310e-01\n",
      "   1.12097430e+00  1.03208995e+00  3.84719372e-01  6.20231748e-01\n",
      "  -1.74664512e-01 -1.38138270e+00  3.20041776e-01 -4.27582532e-01\n",
      "   3.22486281e-01  1.59462237e+00 -6.19098842e-01 -5.74654579e-01\n",
      "   2.62441933e-01  1.21950805e+00 -1.23745871e+00 -8.23132396e-01\n",
      "   6.26342773e-01 -2.96938628e-01 -5.06757081e-01 -1.96256954e-02\n",
      "   8.03259254e-01  5.49550295e-01 -1.74043131e+00  9.42333579e-01\n",
      "   6.96852386e-01 -4.77477074e-01  1.09399760e+00 -1.09394813e+00\n",
      "  -1.77004561e-01  1.37443197e+00 -8.27117264e-01 -2.77980149e-01\n",
      "  -1.35679197e+00 -3.41768175e-01  1.33266747e+00  1.19522643e+00\n",
      "   1.26849926e+00  8.29116642e-01  1.33814049e+00  3.01978558e-01\n",
      "   4.65109050e-01 -5.72205186e-01  7.41879269e-02 -8.65184441e-02\n",
      "  -1.11343992e+00  4.91135359e-01  8.79813671e-01 -2.67918944e-01\n",
      "  -1.18053722e+00 -3.01447153e-01  1.22837079e+00  1.10079813e+00\n",
      "   3.49608809e-01 -6.39771521e-01 -8.42563331e-01  2.30832919e-01\n",
      "  -3.36938709e-01  1.17001796e+00  1.17975271e+00  1.57937944e-01\n",
      "  -6.27162933e-01 -8.35333407e-01  1.07949948e+00 -6.36654258e-01\n",
      "   8.26252639e-01  9.48181570e-01  6.01116717e-01  9.75454509e-01\n",
      "   9.67954993e-01  4.39210981e-01 -1.10854439e-01  1.18875273e-01\n",
      "   9.02221262e-01 -7.56796420e-01  1.03064799e+00 -5.06627500e-01\n",
      "  -6.60947025e-01 -6.41284943e-01  9.30740774e-01 -1.53217423e+00\n",
      "  -4.70680475e-01 -9.13693488e-01  5.42747319e-01 -6.88417554e-01\n",
      "   9.59572434e-01 -1.54250550e+00  6.21614397e-01  2.56521106e-01\n",
      "  -1.05343616e+00  1.31036949e+00 -7.92831600e-01  7.43931413e-01\n",
      "   3.46871436e-01 -1.78832829e+00 -2.93633670e-01  5.85214376e-01\n",
      "  -9.39861536e-01  1.49226987e+00  1.45918667e+00  2.28474200e-01\n",
      "   1.20446429e-01 -1.23425627e+00 -1.30693600e-01  9.67487156e-01\n",
      "  -5.86678803e-01  6.34190083e-01  1.49801826e+00 -1.48090053e+00\n",
      "  -1.11835957e+00 -1.38795769e+00  1.15600511e-01  6.32942319e-01\n",
      "  -6.46633327e-01  1.19760215e+00 -5.91554463e-01  1.72751045e+00\n",
      "   3.76869708e-01  4.09277886e-01  9.77255702e-01  5.66185653e-01\n",
      "   1.60462034e+00  9.61075544e-01 -8.51479352e-01  2.77067065e-01\n",
      "   3.05585057e-01 -2.34341562e-01  3.23213339e-01  1.18746948e+00\n",
      "  -3.07795674e-01  2.01026931e-01 -4.46454883e-01  1.05489385e+00\n",
      "  -3.02766144e-01  1.33780348e+00 -7.56377518e-01  1.82562679e-01\n",
      "   5.95365882e-01  1.57302022e+00 -8.82207334e-01 -9.70395625e-01\n",
      "  -7.02916801e-01  9.00292635e-01 -1.38111937e+00 -1.30164492e+00\n",
      "   4.80741441e-01 -1.06364429e+00  3.05547506e-01 -4.19310527e-03\n",
      "   1.44442093e+00 -1.31013060e+00 -5.29488504e-01  4.73496690e-02\n",
      "  -1.62561917e+00 -2.30154186e-01  6.81300163e-01  1.06557500e+00\n",
      "  -7.66494125e-02  1.06486112e-01 -9.60026443e-01 -1.46864128e+00\n",
      "   5.85479915e-01 -1.94496477e+00  1.54281783e+00  1.13762450e+00\n",
      "   8.15045312e-02 -1.74798703e+00  1.34349811e+00  2.42001712e-01\n",
      "  -1.90524042e+00  6.06185384e-02  5.63714504e-01 -1.45739484e+00\n",
      "   9.68129456e-01 -1.48068607e+00  3.38113189e-01  4.06676203e-01\n",
      "   7.06682563e-01 -4.76308525e-01 -9.87158179e-01  1.66098845e+00\n",
      "   4.37785894e-01 -4.08848882e-01  7.05825388e-01 -2.30350822e-01\n",
      "  -2.23167211e-01 -1.16703320e+00 -8.47335279e-01  7.86827683e-01\n",
      "  -8.62420619e-01  9.46116149e-01  9.10300851e-01 -1.01866317e+00\n",
      "   5.79490602e-01 -4.90467437e-02  1.34413087e+00 -7.25889504e-01\n",
      "   6.97198436e-02  7.13401854e-01 -1.02230656e+00  9.68623698e-01\n",
      "   4.72139269e-02  1.98648259e-01  1.16282403e+00  1.07919407e+00\n",
      "   3.53386521e-01 -7.14213848e-01 -4.39214319e-01 -6.20580316e-01\n",
      "   6.09585792e-02 -1.10185766e+00  3.55162024e-01 -1.11659777e+00\n",
      "  -1.65007198e+00  7.56281734e-01 -7.29667187e-01  1.08402967e+00\n",
      "   6.28948748e-01  6.27767563e-01 -8.24421823e-01  1.01981175e+00\n",
      "   5.24541318e-01  3.97389531e-01 -2.63793558e-01 -9.40447867e-01\n",
      "  -1.41718256e+00  1.37551591e-01  2.78298426e-02 -9.26360130e-01\n",
      "   1.57595050e+00 -8.35713506e-01  3.28646213e-01 -1.64756632e+00\n",
      "  -7.92376697e-04  2.59604007e-01  3.62554610e-01 -1.11316693e+00\n",
      "  -3.08699191e-01  9.12813485e-01  1.45114648e+00 -3.48278373e-01\n",
      "   1.36946452e+00 -4.71494198e-02  6.86698198e-01 -6.08629882e-01\n",
      "   9.77381945e-01 -1.34407175e+00 -3.99395734e-01 -1.30527508e+00\n",
      "  -1.20252645e+00 -1.09804010e+00  1.10528028e+00  1.38739073e+00\n",
      "  -4.54371065e-01  2.29817525e-01  8.69032383e-01 -2.15203941e-01\n",
      "  -2.39225149e-01 -9.41259682e-01  8.33793700e-01 -7.48269856e-01\n",
      "   1.24253416e+00  1.16559553e+00 -5.15098929e-01  1.18207979e+00\n",
      "   3.43428412e-03  3.12255472e-01 -2.78421909e-01  1.06841111e+00\n",
      "   6.20922267e-01 -1.54193819e-01 -8.54959726e-01 -9.46863651e-01\n",
      "   8.91845047e-01  1.15171158e+00  8.97387564e-02 -2.98267454e-01\n",
      "  -1.83937997e-01 -1.26049817e-01  2.05652666e+00 -1.35598528e+00\n",
      "   1.53486466e+00 -3.07311416e-01 -1.23349130e-01 -1.28228009e-01\n",
      "  -1.03724670e+00  1.16536117e+00 -2.79971927e-01  1.26046908e+00\n",
      "   4.34430003e-01 -1.13755357e+00  1.20751691e+00  1.60243645e-01\n",
      "   3.79842073e-01 -9.13375020e-01 -7.96311617e-01 -6.87814951e-01\n",
      "  -2.04165712e-01  6.51447713e-01 -6.71455085e-01  8.21469307e-01\n",
      "   8.62320244e-01  6.44025862e-01  6.35102987e-01 -2.48173609e-01\n",
      "   5.17136715e-02 -2.96075732e-01 -9.84829739e-02 -6.56108320e-01\n",
      "  -4.33960527e-01  7.71970272e-01 -2.48265937e-01  7.03694895e-02\n",
      "  -5.87909818e-01  7.07912087e-01 -1.91409215e-01 -8.11650991e-01\n",
      "  -5.04141450e-01  1.17610157e+00  9.89529669e-01  9.58915651e-01\n",
      "  -1.23126018e+00 -8.61620381e-02  6.35917068e-01  9.08025205e-01\n",
      "   9.07904685e-01 -2.39083037e-01 -8.59666526e-01  1.12758780e+00\n",
      "   5.61627448e-01 -6.06307387e-01  6.58026993e-01 -1.15629458e+00\n",
      "  -1.32245553e+00  2.47399434e-01 -1.30083375e-02 -4.20991071e-02\n",
      "   2.91898489e-01  3.39325339e-01  7.94266388e-02 -7.53071368e-01\n",
      "   5.40994644e-01  4.51353520e-01 -6.44641876e-01 -5.61632812e-01\n",
      "   2.73932248e-01 -3.53698969e-01 -6.64518058e-01  7.37867534e-01\n",
      "  -8.72572437e-02 -9.49997306e-01  9.14643347e-01  1.09187521e-01\n",
      "   9.26260769e-01  1.16877794e+00  1.46022940e+00  7.57639110e-01\n",
      "  -8.08528304e-01 -5.93391180e-01 -1.14765453e+00 -4.56952125e-01\n",
      "  -1.85168564e+00  4.49666679e-01 -1.10365570e+00 -9.80358183e-01\n",
      "   2.28206605e-01 -6.63277686e-01 -2.74029762e-01  6.30233169e-01\n",
      "  -4.75334883e-01  1.20686732e-01 -6.75925255e-01  1.23797929e+00\n",
      "   3.69827628e-01  9.26941037e-01  5.15125632e-01  6.43730283e-01\n",
      "   8.22285533e-01  8.25396657e-01 -9.75653529e-01  1.45394787e-01\n",
      "  -2.56439358e-01  1.34586298e+00 -1.87510982e-01 -7.32773662e-01\n",
      "  -5.71335912e-01 -1.88089386e-01  1.19367933e+00  6.73933506e-01\n",
      "  -5.69178276e-02 -1.17520773e+00 -3.42055857e-01  9.50428009e-01\n",
      "   9.58847761e-01 -3.55756611e-01 -9.26428914e-01  6.44471943e-01\n",
      "  -1.07643056e+00  8.25786412e-01 -9.63050723e-01 -8.12787950e-01\n",
      "  -5.90399206e-01  5.72388530e-01  8.77215624e-01 -3.72361392e-01\n",
      "  -9.08044755e-01 -8.45230699e-01 -6.39057994e-01  9.10335720e-01\n",
      "   6.13205612e-01 -6.61328197e-01  3.42262208e-01 -1.61166966e+00\n",
      "   1.07793784e+00 -2.54559278e-01 -2.01450586e-01 -5.64966202e-01\n",
      "  -2.18766904e+00 -1.21359634e+00 -4.74147618e-01  1.49381280e+00\n",
      "   8.84368300e-01 -1.11434579e+00 -1.04060090e+00 -6.54400587e-01\n",
      "   6.58067405e-01  2.20256001e-01  1.14067447e+00 -7.97328174e-01\n",
      "   5.22167325e-01  8.11107159e-01 -8.24454367e-01 -1.17182112e+00\n",
      "  -4.17823821e-01 -8.27175856e-01  2.47812420e-01 -1.20211613e+00\n",
      "  -3.35983813e-01  1.25546587e+00  8.88804197e-02 -1.54075301e+00\n",
      "  -3.85412127e-02 -8.34603667e-01  4.08219039e-01 -8.23481619e-01\n",
      "  -6.40604347e-02  1.31225038e+00  2.97711968e-01 -1.94834316e+00\n",
      "   1.04850459e+00 -5.41322827e-01  2.21579820e-01 -1.43369985e+00\n",
      "  -9.71992075e-01  1.51027426e-01 -4.72418219e-01 -5.38379788e-01\n",
      "   9.86127436e-01 -9.37509477e-01 -1.15120220e+00  4.00756776e-01\n",
      "   4.50427324e-01 -8.63559902e-01 -8.67468357e-01 -6.56222582e-01\n",
      "   1.04787147e+00 -1.38024652e+00  3.22266132e-01  7.12793291e-01\n",
      "   5.24592638e-01  7.38356292e-01  3.48103404e-01  1.12545598e+00\n",
      "   7.25218415e-01 -5.98601997e-01  5.45864105e-01 -6.34341300e-01\n",
      "  -6.08483315e-01  4.00419265e-01  3.28141540e-01  3.37806165e-01\n",
      "  -7.87445664e-01 -7.22461939e-01  1.90096527e-01 -1.07151866e+00\n",
      "   4.45333421e-01 -2.50068843e-01  9.22418058e-01 -8.89159441e-01\n",
      "   6.63045943e-01  3.15758228e-01 -2.48119667e-01 -5.83933949e-01\n",
      "  -8.19668174e-01 -2.92897433e-01 -2.63365567e-01 -2.38056704e-01\n",
      "   1.66715741e+00 -2.01844007e-01 -3.57182533e-01  1.05146837e+00\n",
      "   3.26660872e-01 -4.40947741e-01 -3.05943936e-01 -3.21061760e-01\n",
      "  -9.39687729e-01  1.02973497e+00 -1.44099844e+00 -5.21853447e-01\n",
      "  -4.92791712e-01 -9.36740696e-01 -1.37648535e+00 -1.10827005e+00\n",
      "  -1.44339609e+00 -1.03692555e+00 -1.09290993e+00  3.36330891e-01\n",
      "   1.37568951e-01 -1.02313268e+00 -1.48132455e+00  3.68360937e-01\n",
      "   2.58540690e-01 -3.54125947e-02 -1.58364427e+00  6.31864727e-01\n",
      "   6.25982344e-01  5.19732952e-01 -4.46635336e-01  1.23346961e+00\n",
      "   5.96455216e-01 -4.28418010e-01 -1.06412494e+00 -6.81499064e-01\n",
      "  -9.42255557e-01 -1.82075463e-02 -1.15939558e+00  2.27155328e-01\n",
      "   1.12570846e+00 -7.26054728e-01 -2.61186272e-01 -4.89381135e-01\n",
      "  -3.69891465e-01  4.52640533e-01  6.41255915e-01 -8.81942928e-01\n",
      "   1.01929295e+00 -6.66738153e-01 -6.39025450e-01 -5.91274440e-01\n",
      "   1.03813326e+00 -1.27414680e+00 -1.02423322e+00 -6.34977445e-02\n",
      "   3.36402446e-01  4.56741780e-01 -3.04079533e-01 -1.37635827e+00\n",
      "   1.53373778e+00  7.73834050e-01 -6.98379695e-01 -1.29106152e+00\n",
      "  -3.75786781e-01  1.04327905e+00 -1.94393590e-01 -1.88816178e+00]]\n",
      "tiny-albert\n"
     ]
    },
    {
     "name": "stderr",
     "output_type": "stream",
     "text": [
      "DEBUG:urllib3.connectionpool:https://huggingface.co:443 \"HEAD /huseinzol05/emotion-tiny-albert/resolve/main/model.pb HTTP/1.1\" 302 0\n",
      "DEBUG:filelock:Attempting to acquire lock 5799784848 on /Users/huseinzolkepli/.cache/huggingface/hub/ed5e6beecd98a58248b3dc6fd67ef9ee462344d68c0eea15570118145338ad4a.ca28fc1e657a68cbb645d8200222eb07c69b03ac549bf080c9dc366f455d771a.lock\n",
      "INFO:filelock:Lock 5799784848 acquired on /Users/huseinzolkepli/.cache/huggingface/hub/ed5e6beecd98a58248b3dc6fd67ef9ee462344d68c0eea15570118145338ad4a.ca28fc1e657a68cbb645d8200222eb07c69b03ac549bf080c9dc366f455d771a.lock\n",
      "DEBUG:urllib3.connectionpool:Starting new HTTPS connection (1): cdn-lfs.huggingface.co:443\n",
      "DEBUG:urllib3.connectionpool:https://cdn-lfs.huggingface.co:443 \"GET /repos/7c/f2/7cf2de7818576f98162ef6dc2cba7ce8f0b8c5f5c0e4cb44d59622f0b8f7fcd9/7b3b72b0d5a7165b8963d8564b7f4a85f8da5c28ffa4e3b7cecdf603dec357db HTTP/1.1\" 200 23968030\n"
     ]
    },
    {
     "data": {
      "application/vnd.jupyter.widget-view+json": {
       "model_id": "477b94ce28d54565b3ef5b6628344350",
       "version_major": 2,
       "version_minor": 0
      },
      "text/plain": [
       "HBox(children=(FloatProgress(value=0.0, description='Downloading', max=23968030.0, style=ProgressStyle(descrip…"
      ]
     },
     "metadata": {},
     "output_type": "display_data"
    },
    {
     "name": "stderr",
     "output_type": "stream",
     "text": [
      "DEBUG:filelock:Attempting to release lock 5799784848 on /Users/huseinzolkepli/.cache/huggingface/hub/ed5e6beecd98a58248b3dc6fd67ef9ee462344d68c0eea15570118145338ad4a.ca28fc1e657a68cbb645d8200222eb07c69b03ac549bf080c9dc366f455d771a.lock\n",
      "INFO:filelock:Lock 5799784848 released on /Users/huseinzolkepli/.cache/huggingface/hub/ed5e6beecd98a58248b3dc6fd67ef9ee462344d68c0eea15570118145338ad4a.ca28fc1e657a68cbb645d8200222eb07c69b03ac549bf080c9dc366f455d771a.lock\n",
      "DEBUG:urllib3.connectionpool:Starting new HTTPS connection (1): huggingface.co:443\n"
     ]
    },
    {
     "name": "stdout",
     "output_type": "stream",
     "text": [
      "\n"
     ]
    },
    {
     "name": "stderr",
     "output_type": "stream",
     "text": [
      "DEBUG:urllib3.connectionpool:https://huggingface.co:443 \"HEAD /huseinzol05/bpe/resolve/main/sp10m.cased.v10.vocab HTTP/1.1\" 302 0\n",
      "DEBUG:filelock:Attempting to acquire lock 9705160912 on /Users/huseinzolkepli/.cache/huggingface/hub/74bac0744b30f1c46cb151eca33db67174d3c52144c2012bc967975fba3f5b5c.6314ea2a368968844946f0e12f46a47c716f2612371a324ed0b2e0f4d3bfd7f1.lock\n",
      "INFO:filelock:Lock 9705160912 acquired on /Users/huseinzolkepli/.cache/huggingface/hub/74bac0744b30f1c46cb151eca33db67174d3c52144c2012bc967975fba3f5b5c.6314ea2a368968844946f0e12f46a47c716f2612371a324ed0b2e0f4d3bfd7f1.lock\n",
      "DEBUG:urllib3.connectionpool:Starting new HTTPS connection (1): cdn-lfs.huggingface.co:443\n",
      "DEBUG:urllib3.connectionpool:https://cdn-lfs.huggingface.co:443 \"GET /huseinzol05/bpe/87ec4ae68b4cf44cdfbc0dae02ed89ffb1ab92b85a1baa314734ce5292577dc6 HTTP/1.1\" 200 569013\n"
     ]
    },
    {
     "data": {
      "application/vnd.jupyter.widget-view+json": {
       "model_id": "6a5543acd21d4fd1a52ae6a61c0e238f",
       "version_major": 2,
       "version_minor": 0
      },
      "text/plain": [
       "HBox(children=(FloatProgress(value=0.0, description='Downloading', max=569013.0, style=ProgressStyle(descripti…"
      ]
     },
     "metadata": {},
     "output_type": "display_data"
    },
    {
     "name": "stderr",
     "output_type": "stream",
     "text": [
      "DEBUG:filelock:Attempting to release lock 9705160912 on /Users/huseinzolkepli/.cache/huggingface/hub/74bac0744b30f1c46cb151eca33db67174d3c52144c2012bc967975fba3f5b5c.6314ea2a368968844946f0e12f46a47c716f2612371a324ed0b2e0f4d3bfd7f1.lock\n",
      "INFO:filelock:Lock 9705160912 released on /Users/huseinzolkepli/.cache/huggingface/hub/74bac0744b30f1c46cb151eca33db67174d3c52144c2012bc967975fba3f5b5c.6314ea2a368968844946f0e12f46a47c716f2612371a324ed0b2e0f4d3bfd7f1.lock\n",
      "DEBUG:urllib3.connectionpool:Starting new HTTPS connection (1): huggingface.co:443\n"
     ]
    },
    {
     "name": "stdout",
     "output_type": "stream",
     "text": [
      "\n"
     ]
    },
    {
     "name": "stderr",
     "output_type": "stream",
     "text": [
      "DEBUG:urllib3.connectionpool:https://huggingface.co:443 \"HEAD /huseinzol05/bpe/resolve/main/sp10m.cased.v10.model HTTP/1.1\" 302 0\n",
      "DEBUG:filelock:Attempting to acquire lock 4413672336 on /Users/huseinzolkepli/.cache/huggingface/hub/22ac3434f0ba349f307cce29fe483b3d48ab1be470662e6d0c7817f67f338915.9d56586b4401518ef8919923c798d8f5f4725a478e09adefba6f65368be4e127.lock\n",
      "INFO:filelock:Lock 4413672336 acquired on /Users/huseinzolkepli/.cache/huggingface/hub/22ac3434f0ba349f307cce29fe483b3d48ab1be470662e6d0c7817f67f338915.9d56586b4401518ef8919923c798d8f5f4725a478e09adefba6f65368be4e127.lock\n",
      "DEBUG:urllib3.connectionpool:Starting new HTTPS connection (1): cdn-lfs.huggingface.co:443\n",
      "DEBUG:urllib3.connectionpool:https://cdn-lfs.huggingface.co:443 \"GET /huseinzol05/bpe/2628be92fc45dcfa720ab931237aa70acd75c785b188638b8865b41c04c0cd0b HTTP/1.1\" 200 778641\n"
     ]
    },
    {
     "data": {
      "application/vnd.jupyter.widget-view+json": {
       "model_id": "0f1313e6343944e9a2f71f5642e0ca47",
       "version_major": 2,
       "version_minor": 0
      },
      "text/plain": [
       "HBox(children=(FloatProgress(value=0.0, description='Downloading', max=778641.0, style=ProgressStyle(descripti…"
      ]
     },
     "metadata": {},
     "output_type": "display_data"
    },
    {
     "name": "stderr",
     "output_type": "stream",
     "text": [
      "DEBUG:filelock:Attempting to release lock 4413672336 on /Users/huseinzolkepli/.cache/huggingface/hub/22ac3434f0ba349f307cce29fe483b3d48ab1be470662e6d0c7817f67f338915.9d56586b4401518ef8919923c798d8f5f4725a478e09adefba6f65368be4e127.lock\n",
      "INFO:filelock:Lock 4413672336 released on /Users/huseinzolkepli/.cache/huggingface/hub/22ac3434f0ba349f307cce29fe483b3d48ab1be470662e6d0c7817f67f338915.9d56586b4401518ef8919923c798d8f5f4725a478e09adefba6f65368be4e127.lock\n",
      "DEBUG:frozen_graph:use_tensorrt: False\n",
      "DEBUG:frozen_graph:tensorrt_precision_mode: FP32\n",
      "DEBUG:frozen_graph:precision_mode: FP32\n",
      "DEBUG:frozen_graph:t5_graph: False\n",
      "DEBUG:frozen_graph:glowtts_graph: False\n",
      "DEBUG:frozen_graph:glowtts_multispeaker_graph: False\n",
      "INFO:frozen_graph:running Users/huseinzolkepli/.cache/huggingface/hub using device /device:CPU:0\n"
     ]
    },
    {
     "name": "stdout",
     "output_type": "stream",
     "text": [
      "\n"
     ]
    },
    {
     "name": "stderr",
     "output_type": "stream",
     "text": [
      "DEBUG:root:['▁Jabatan', '▁Penjara', '▁Malaysia', '▁diperuntukkan', '▁RM', '20', '▁juta', '▁', 'laksana', '▁program', '▁pembangunan', '▁Insan', '▁kepada', '▁banduan', '.', '▁Majikan', '▁yang', '▁menggaji', '▁bekas', '▁banduan', ',', '▁bekas', '▁penagih', '▁dadah', '▁diberi', '▁potongan', '▁cukai', '▁tambahan', '▁sehingga', '▁', '2025', '.']\n",
      "DEBUG:root:['▁Jabatan', '▁Penjara', '▁Malaysia', '▁diperuntukkan', '▁RM', '20', '▁juta', '▁', 'laksana', '▁program', '▁pembangunan', '▁Insan', '▁kepada', '▁banduan', '.', '▁Majikan', '▁yang', '▁menggaji', '▁bekas', '▁banduan', ',', '▁bekas', '▁penagih', '▁dadah', '▁diberi', '▁potongan', '▁cukai', '▁tambahan', '▁sehingga', '▁', '2025', '.']\n"
     ]
    },
    {
     "name": "stdout",
     "output_type": "stream",
     "text": [
      "[{'anger': 0.9964524, 'fear': 0.0013669839, 'happy': 0.0002504824, 'love': 7.28748e-05, 'sadness': 0.0011544761, 'surprise': 0.0007025659}]\n"
     ]
    },
    {
     "name": "stderr",
     "output_type": "stream",
     "text": [
      "DEBUG:root:['▁Jabatan', '▁Penjara', '▁Malaysia', '▁diperuntukkan', '▁RM', '20', '▁juta', '▁', 'laksana', '▁program', '▁pembangunan', '▁Insan', '▁kepada', '▁banduan', '.', '▁Majikan', '▁yang', '▁menggaji', '▁bekas', '▁banduan', ',', '▁bekas', '▁penagih', '▁dadah', '▁diberi', '▁potongan', '▁cukai', '▁tambahan', '▁sehingga', '▁', '2025', '.']\n"
     ]
    },
    {
     "name": "stdout",
     "output_type": "stream",
     "text": [
      "{'anger': 0.9964524, 'fear': 0.0013669839, 'happy': 0.0002504824, 'love': 7.28748e-05, 'sadness': 0.0011544761, 'surprise': 0.0007025659, 'alphas': {'Jabatan': 0.0020271647, 'Penjara': 0.0013829708, 'Malaysia': 0.0038498952, 'diperuntukkan': 0.028059438, 'RM20': 0.0064874934, 'juta': 0.0011344022, 'laksana': 0.0053760028, 'program': 0.0075805415, 'pembangunan': 0.06886291, 'Insan': 0.08136912, 'kepada': 0.009184195, 'banduan.': 0.020437736, 'Majikan': 0.21270992, 'yang': 0.010084908, 'menggaji': 0.110832974, 'bekas': 0.0062253466, 'banduan,': 0.05204135, 'penagih': 0.1827345, 'dadah': 0.056908846, 'diberi': 0.01705365, 'potongan': 0.050652776, 'cukai': 0.003194256, 'tambahan': 0.031228954, 'sehingga': 0.02177179, '2025.': 0.004664507}, 'word': {'Jabatan': array([6.2208705e-02, 7.8977086e-02, 1.5576742e-02, 2.6906229e-04,\n",
      "       8.1414038e-01, 2.8827846e-02], dtype=float32), 'Penjara': array([7.6538049e-02, 7.0592932e-02, 1.4900397e-02, 3.4595162e-04,\n",
      "       7.7535939e-01, 6.2263370e-02], dtype=float32), 'Malaysia': array([9.1351137e-02, 8.9018665e-02, 3.4201160e-02, 2.2697130e-04,\n",
      "       7.2651482e-01, 5.8687218e-02], dtype=float32), 'diperuntukkan': array([3.9410494e-02, 1.2853417e-01, 2.3912663e-02, 4.5936514e-04,\n",
      "       7.8091109e-01, 2.6772290e-02], dtype=float32), 'RM20': array([8.3109833e-02, 4.1097663e-02, 2.8862495e-02, 3.3473611e-04,\n",
      "       8.0447507e-01, 4.2120207e-02], dtype=float32), 'juta': array([2.5934389e-02, 1.9814733e-02, 1.9215258e-02, 2.5250981e-04,\n",
      "       9.1755944e-01, 1.7223755e-02], dtype=float32), 'laksana': array([2.1958398e-02, 4.1654788e-02, 4.0895775e-02, 3.4346059e-04,\n",
      "       8.6164838e-01, 3.3499323e-02], dtype=float32), 'program': array([5.3948808e-02, 1.8047188e-01, 3.2278948e-02, 3.3843578e-04,\n",
      "       7.1022707e-01, 2.2734895e-02], dtype=float32), 'pembangunan': array([4.5969658e-02, 1.8199936e-01, 8.3284147e-02, 4.5530460e-04,\n",
      "       6.4799893e-01, 4.0292725e-02], dtype=float32), 'Insan': array([5.7970755e-02, 1.4688461e-01, 3.0996159e-02, 6.7093899e-04,\n",
      "       6.8492275e-01, 7.8554906e-02], dtype=float32), 'kepada': array([0.28153732, 0.259504  , 0.07656455, 0.00179565, 0.16116919,\n",
      "       0.21942936], dtype=float32), 'banduan.': array([1.0546748e-01, 6.2178209e-02, 4.0155601e-02, 5.3102139e-04,\n",
      "       6.9129652e-01, 1.0037123e-01], dtype=float32), 'Majikan': array([7.6188810e-02, 2.7912611e-02, 7.9436423e-03, 3.8948987e-04,\n",
      "       8.6543816e-01, 2.2127252e-02], dtype=float32), 'yang': array([1.5110610e-01, 6.5786824e-02, 5.7977803e-02, 4.2641908e-04,\n",
      "       6.1848599e-01, 1.0621676e-01], dtype=float32), 'menggaji': array([8.8149741e-02, 9.9435449e-02, 1.6475132e-02, 5.1255443e-04,\n",
      "       7.5858837e-01, 3.6838721e-02], dtype=float32), 'bekas': array([3.7568361e-02, 6.7112006e-02, 1.2964825e-02, 4.9818127e-04,\n",
      "       8.5572642e-01, 2.6130324e-02], dtype=float32), 'banduan,': array([1.5268305e-01, 2.9989284e-02, 1.1747158e-02, 5.0823309e-04,\n",
      "       7.5387824e-01, 5.1194038e-02], dtype=float32), 'penagih': array([0.10869732, 0.15926513, 0.00512173, 0.00094312, 0.6702788 ,\n",
      "       0.05569383], dtype=float32), 'dadah': array([0.15960447, 0.11423942, 0.01098193, 0.00071616, 0.6952499 ,\n",
      "       0.01920814], dtype=float32), 'diberi': array([0.04783944, 0.18237945, 0.01099537, 0.00086653, 0.69371754,\n",
      "       0.06420183], dtype=float32), 'potongan': array([2.4029050e-02, 1.4790542e-01, 4.7932640e-03, 7.2317780e-04,\n",
      "       7.9200584e-01, 3.0543298e-02], dtype=float32), 'cukai': array([0.06949726, 0.23617831, 0.01219595, 0.00146169, 0.58009166,\n",
      "       0.10057525], dtype=float32), 'tambahan': array([6.1432902e-02, 1.5193740e-01, 1.9582400e-02, 6.0935499e-04,\n",
      "       7.1897686e-01, 4.7460958e-02], dtype=float32), 'sehingga': array([0.11129948, 0.24637052, 0.02008444, 0.00111056, 0.5802179 ,\n",
      "       0.04091704], dtype=float32), '2025.': array([4.1994680e-02, 4.8481863e-02, 5.3544085e-02, 6.1656442e-04,\n",
      "       8.2596397e-01, 2.9398778e-02], dtype=float32)}, 'histogram': {'x': array([0.  , 0.05, 0.1 , 0.15, 0.2 , 0.25, 0.3 , 0.35, 0.4 , 0.45, 0.5 ,\n",
      "       0.55, 0.6 , 0.65, 0.7 , 0.75, 0.8 , 0.85, 0.9 , 0.95, 1.  ]), 'y': array([0.        , 0.        , 0.        , 0.03846154, 0.        ,\n",
      "       0.        , 0.        , 0.        , 0.        , 0.        ,\n",
      "       0.        , 0.07692308, 0.07692308, 0.19230769, 0.11538462,\n",
      "       0.19230769, 0.11538462, 0.11538462, 0.07692308, 0.        ])}, 'attention': {'x': array([ 0,  1,  2,  3,  4,  5,  6,  7,  8,  9, 10, 11, 12, 13, 14, 15, 16,\n",
      "       17, 18, 19, 20, 21, 22, 23, 24, 25]), 'y': array([0.00202716, 0.00138297, 0.0038499 , 0.02805944, 0.00648749,\n",
      "       0.0011344 , 0.005376  , 0.00758054, 0.06886291, 0.08136912,\n",
      "       0.00918419, 0.02043774, 0.21270992, 0.01008491, 0.11083297,\n",
      "       0.00414423, 0.05204135, 0.00622535, 0.1827345 , 0.05690885,\n",
      "       0.01705365, 0.05065278, 0.00319426, 0.03122895, 0.02177179,\n",
      "       0.00466451], dtype=float32)}, 'barplot': {'x': ['anger', 'fear', 'happy', 'love', 'sadness', 'surprise'], 'y': [1, 1, 2, 3, 25, 5]}, 'module': 'emotion'}\n"
     ]
    },
    {
     "name": "stderr",
     "output_type": "stream",
     "text": [
      "DEBUG:urllib3.connectionpool:Starting new HTTPS connection (1): huggingface.co:443\n"
     ]
    },
    {
     "name": "stdout",
     "output_type": "stream",
     "text": [
      "[[-0.19588137  1.7250938  -0.18144178 -0.40161136  0.18252009  0.2005546\n",
      "  -2.2154016  -1.0229284   1.0381708   1.5967952  -1.4404833   0.86972314\n",
      "   0.87200284  1.4010185   1.6407272   1.9743203  -0.2585078   1.0133804\n",
      "   0.5697625   1.9560893   1.6731406  -0.0944981  -1.5324328  -0.73732007\n",
      "   0.033127    0.3994851  -1.1055752   0.6437603   0.45597997 -1.9422979\n",
      "  -0.7516583   0.4984473  -0.83892137 -0.6225924  -1.1820654  -0.6082784\n",
      "  -1.414135    0.18196398  0.17592008 -1.3991281   1.8923137  -1.1628757\n",
      "  -0.85567135 -1.0684617   1.4283477  -0.8168548   0.8300932   0.47998777\n",
      "   0.9052685  -1.2836411   1.636361   -2.5800366  -0.84265023 -1.457625\n",
      "   1.3237307  -2.352496    0.5660717  -2.1264567   0.4430017   0.6560089\n",
      "   0.9857381   0.25914305 -1.6691604   1.2442318   0.24254534 -0.21325262\n",
      "  -1.8398042  -2.22114     0.80473393  1.2965217  -0.11999839  0.34868383\n",
      "   1.1997609  -0.11113156 -1.6897608   1.7774757  -1.5240681   0.34896773\n",
      "  -2.4100614  -0.70771015  1.6710663  -2.0251584   0.25268027 -1.8227059\n",
      "  -0.06450736 -1.9538563  -1.4844714   1.5441213   1.4657409   0.3576351\n",
      "  -0.04190044  0.17289853  0.29777348  1.4928453   1.3787661  -0.516553\n",
      "  -2.26207     1.7091439  -1.6138463  -2.0678372  -2.2386413   1.7602116\n",
      "   1.4919804  -1.8633748   0.660715    0.29564616 -2.5865085  -2.354337\n",
      "   0.6122228   1.0122571   0.77082586 -1.3410226   0.09488866 -2.3108447\n",
      "   2.100669    1.0653247   2.3446112  -0.65866685 -1.3331043  -0.48990068\n",
      "   2.374845   -2.2205164  -0.22111188 -0.03754317  2.4145339  -2.0514576\n",
      "   0.9720914  -1.6866051  -1.2499233  -1.6202406  -1.7506901   0.63756084\n",
      "   0.3274695  -1.1743772  -0.23435101  1.0847981  -0.84555036  2.016969\n",
      "   0.0440809  -0.6890487   1.9348018   1.4247226   1.8455878  -2.1557877\n",
      "  -2.2181263  -2.249348   -2.1789703   2.0267048   0.5663317  -1.6837302\n",
      "   0.58422226 -1.0698481   0.10101712  0.470414   -1.8284196  -1.1326945\n",
      "   1.82013     0.45610422 -1.8292401   2.2190208   1.7576689   1.614905\n",
      "   1.4125601   1.4901979   1.1613761  -1.1197002   1.6954793  -1.1928539\n",
      "  -0.11841406  0.9309374   1.7750432  -1.3133047   1.5897061  -2.1572251\n",
      "   0.22220469  0.97794104  2.601721   -1.4256419  -1.4168205  -0.7022691\n",
      "  -1.564399   -0.40451968 -0.62021995 -1.6120667   0.37388012 -0.70601\n",
      "  -0.22533487  1.4118407  -1.0937344  -0.413257    1.8885942   0.8312718\n",
      "   1.5233771  -1.5666708   1.4639454  -1.7893041  -1.4196911  -0.9665978\n",
      "  -0.9357359   0.5107056  -1.7415242  -1.2199731   2.264211    1.7825195\n",
      "   1.2012371  -1.4852991  -0.866466   -0.49436975 -0.60474694  1.5745786\n",
      "  -2.0337703   1.3956296  -0.75407     0.77467895  0.6906044   0.17054746\n",
      "   1.9940532   1.4767226  -1.9821614  -1.8444451  -0.00312404  1.2650707\n",
      "  -0.8133224  -1.8923527   1.0264311  -2.5702808  -1.867459   -1.7441347\n",
      "   2.3759246   1.4491615  -1.7976987   0.40660954 -2.0792468   1.0817069\n",
      "   0.5735056   1.1245513  -0.90842414 -0.8121291   0.50177866  1.7652045\n",
      "  -0.67832655 -1.3446687   1.7163674  -0.3469049   1.0607892  -2.4601557\n",
      "  -1.826345    1.5002483  -0.843012    0.87854207 -1.46901     2.062536\n",
      "   1.7072384  -0.3846221   0.63676846  0.01459855 -0.37902373  1.2411157\n",
      "   1.2091514  -0.03387334  2.5522127   1.2128215  -1.5888005  -1.4701797\n",
      "   1.7189991   2.3584974   2.0457058   1.2999628   0.7199069   1.5946214\n",
      "  -0.6757827   0.80894375 -1.1922069  -0.2688254  -0.22278981  1.5343925\n",
      "  -1.1026154  -1.3081876   1.3924987   2.4523425  -2.471762   -1.2835202\n",
      "  -0.08080301 -0.4743581   0.43592766  1.0275487   1.2983999  -1.2533011\n",
      "  -2.3387198   0.75491166  1.2104617  -1.9479785  -0.7734501   0.20183939\n",
      "   1.4138123  -2.0938356  -1.6774234   1.3233817  -1.3655804  -1.6667722\n",
      "   0.8752136   1.079402    1.5784045   0.59853756 -1.223477   -2.3026555\n",
      "   0.05721333 -0.96471095 -0.5934394  -2.5158992  -1.1843215  -0.86133265\n",
      "   1.8457041  -1.1989555   1.3975233   1.513133   -1.461012    1.365514\n",
      "  -0.2810162   1.3508595  -1.6838746   0.95638424  0.50421345 -1.1600738\n",
      "  -0.21291332 -0.9228699  -1.9646918  -0.9180102  -0.96470314 -0.5660063\n",
      "   1.1719198  -0.955005   -2.0690787  -0.64080215 -1.919119   -1.1746192 ]]\n",
      "xlnet\n"
     ]
    },
    {
     "name": "stderr",
     "output_type": "stream",
     "text": [
      "DEBUG:urllib3.connectionpool:https://huggingface.co:443 \"HEAD /huseinzol05/emotion-xlnet/resolve/main/model.pb HTTP/1.1\" 302 0\n",
      "DEBUG:filelock:Attempting to acquire lock 5799784848 on /Users/huseinzolkepli/.cache/huggingface/hub/f3446afebccf7601ef36c23074c6926266f5cde8f349637c089ddb57ca2aab2e.92f1babcc3c75fecfffe0223e6320ee9610172afb3b3432a3b7810bb22b3db0a.lock\n",
      "INFO:filelock:Lock 5799784848 acquired on /Users/huseinzolkepli/.cache/huggingface/hub/f3446afebccf7601ef36c23074c6926266f5cde8f349637c089ddb57ca2aab2e.92f1babcc3c75fecfffe0223e6320ee9610172afb3b3432a3b7810bb22b3db0a.lock\n",
      "DEBUG:urllib3.connectionpool:Starting new HTTPS connection (1): cdn-lfs.huggingface.co:443\n",
      "DEBUG:urllib3.connectionpool:https://cdn-lfs.huggingface.co:443 \"GET /repos/1d/ca/1dca34e2a71caace0c2de51b67ad62fbb8479cc0a6f5380775d6de4709f0082e/529511990108dd849a4236b772a96578bc0b26126715b3add732a643061e6696 HTTP/1.1\" 200 468196557\n"
     ]
    },
    {
     "data": {
      "application/vnd.jupyter.widget-view+json": {
       "model_id": "12c1a6386364495e9705b59a83a57fd6",
       "version_major": 2,
       "version_minor": 0
      },
      "text/plain": [
       "HBox(children=(FloatProgress(value=0.0, description='Downloading', max=468196557.0, style=ProgressStyle(descri…"
      ]
     },
     "metadata": {},
     "output_type": "display_data"
    },
    {
     "name": "stderr",
     "output_type": "stream",
     "text": [
      "DEBUG:filelock:Attempting to release lock 5799784848 on /Users/huseinzolkepli/.cache/huggingface/hub/f3446afebccf7601ef36c23074c6926266f5cde8f349637c089ddb57ca2aab2e.92f1babcc3c75fecfffe0223e6320ee9610172afb3b3432a3b7810bb22b3db0a.lock\n",
      "INFO:filelock:Lock 5799784848 released on /Users/huseinzolkepli/.cache/huggingface/hub/f3446afebccf7601ef36c23074c6926266f5cde8f349637c089ddb57ca2aab2e.92f1babcc3c75fecfffe0223e6320ee9610172afb3b3432a3b7810bb22b3db0a.lock\n",
      "DEBUG:urllib3.connectionpool:Starting new HTTPS connection (1): huggingface.co:443\n"
     ]
    },
    {
     "name": "stdout",
     "output_type": "stream",
     "text": [
      "\n"
     ]
    },
    {
     "name": "stderr",
     "output_type": "stream",
     "text": [
      "DEBUG:urllib3.connectionpool:https://huggingface.co:443 \"HEAD /huseinzol05/bpe/resolve/main/sp10m.cased.v9.vocab HTTP/1.1\" 302 0\n",
      "DEBUG:filelock:Attempting to acquire lock 4478419408 on /Users/huseinzolkepli/.cache/huggingface/hub/f05c0750ccb74c7bb9f50b872c450ccb2c450530726b0707dd2bda87c701fb30.3ce0f5532a473e4aaa6cbc16ed456e48c4c8fd844b8d271888a1dd57e9b766a9.lock\n",
      "INFO:filelock:Lock 4478419408 acquired on /Users/huseinzolkepli/.cache/huggingface/hub/f05c0750ccb74c7bb9f50b872c450ccb2c450530726b0707dd2bda87c701fb30.3ce0f5532a473e4aaa6cbc16ed456e48c4c8fd844b8d271888a1dd57e9b766a9.lock\n",
      "DEBUG:urllib3.connectionpool:Starting new HTTPS connection (1): cdn-lfs.huggingface.co:443\n",
      "DEBUG:urllib3.connectionpool:https://cdn-lfs.huggingface.co:443 \"GET /huseinzol05/bpe/d40f2c7d71612e5a5339347895530dffac617763abf7be9a1e33066314e8e16d HTTP/1.1\" 200 568997\n"
     ]
    },
    {
     "data": {
      "application/vnd.jupyter.widget-view+json": {
       "model_id": "74e98b24a7a745be92a497b76073f64e",
       "version_major": 2,
       "version_minor": 0
      },
      "text/plain": [
       "HBox(children=(FloatProgress(value=0.0, description='Downloading', max=568997.0, style=ProgressStyle(descripti…"
      ]
     },
     "metadata": {},
     "output_type": "display_data"
    },
    {
     "name": "stderr",
     "output_type": "stream",
     "text": [
      "DEBUG:filelock:Attempting to release lock 4478419408 on /Users/huseinzolkepli/.cache/huggingface/hub/f05c0750ccb74c7bb9f50b872c450ccb2c450530726b0707dd2bda87c701fb30.3ce0f5532a473e4aaa6cbc16ed456e48c4c8fd844b8d271888a1dd57e9b766a9.lock\n",
      "INFO:filelock:Lock 4478419408 released on /Users/huseinzolkepli/.cache/huggingface/hub/f05c0750ccb74c7bb9f50b872c450ccb2c450530726b0707dd2bda87c701fb30.3ce0f5532a473e4aaa6cbc16ed456e48c4c8fd844b8d271888a1dd57e9b766a9.lock\n",
      "DEBUG:urllib3.connectionpool:Starting new HTTPS connection (1): huggingface.co:443\n"
     ]
    },
    {
     "name": "stdout",
     "output_type": "stream",
     "text": [
      "\n"
     ]
    },
    {
     "name": "stderr",
     "output_type": "stream",
     "text": [
      "DEBUG:urllib3.connectionpool:https://huggingface.co:443 \"HEAD /huseinzol05/bpe/resolve/main/sp10m.cased.v9.model HTTP/1.1\" 302 0\n",
      "DEBUG:filelock:Attempting to acquire lock 9704496464 on /Users/huseinzolkepli/.cache/huggingface/hub/91101a79c0663d63742159cf8c513f03b4b695575f5bdf894ad9614bdde8fbe3.f628e57a2586b9ff7b216c03119ed36c79f2bf9f0b311ff422c6ba404b41a757.lock\n",
      "INFO:filelock:Lock 9704496464 acquired on /Users/huseinzolkepli/.cache/huggingface/hub/91101a79c0663d63742159cf8c513f03b4b695575f5bdf894ad9614bdde8fbe3.f628e57a2586b9ff7b216c03119ed36c79f2bf9f0b311ff422c6ba404b41a757.lock\n",
      "DEBUG:urllib3.connectionpool:Starting new HTTPS connection (1): cdn-lfs.huggingface.co:443\n",
      "DEBUG:urllib3.connectionpool:https://cdn-lfs.huggingface.co:443 \"GET /huseinzol05/bpe/a0caa407e56cc60c5a74aad6f90d3c3a7d25231b0c0d92211df9f4c7442b839a HTTP/1.1\" 200 778744\n"
     ]
    },
    {
     "data": {
      "application/vnd.jupyter.widget-view+json": {
       "model_id": "be8a2e7b2d26477e912ce1a66a0ef7dd",
       "version_major": 2,
       "version_minor": 0
      },
      "text/plain": [
       "HBox(children=(FloatProgress(value=0.0, description='Downloading', max=778744.0, style=ProgressStyle(descripti…"
      ]
     },
     "metadata": {},
     "output_type": "display_data"
    },
    {
     "name": "stderr",
     "output_type": "stream",
     "text": [
      "DEBUG:filelock:Attempting to release lock 9704496464 on /Users/huseinzolkepli/.cache/huggingface/hub/91101a79c0663d63742159cf8c513f03b4b695575f5bdf894ad9614bdde8fbe3.f628e57a2586b9ff7b216c03119ed36c79f2bf9f0b311ff422c6ba404b41a757.lock\n",
      "INFO:filelock:Lock 9704496464 released on /Users/huseinzolkepli/.cache/huggingface/hub/91101a79c0663d63742159cf8c513f03b4b695575f5bdf894ad9614bdde8fbe3.f628e57a2586b9ff7b216c03119ed36c79f2bf9f0b311ff422c6ba404b41a757.lock\n",
      "DEBUG:frozen_graph:use_tensorrt: False\n",
      "DEBUG:frozen_graph:tensorrt_precision_mode: FP32\n",
      "DEBUG:frozen_graph:precision_mode: FP32\n",
      "DEBUG:frozen_graph:t5_graph: False\n",
      "DEBUG:frozen_graph:glowtts_graph: False\n",
      "DEBUG:frozen_graph:glowtts_multispeaker_graph: False\n",
      "INFO:frozen_graph:running Users/huseinzolkepli/.cache/huggingface/hub using device /device:CPU:0\n"
     ]
    },
    {
     "name": "stdout",
     "output_type": "stream",
     "text": [
      "\n"
     ]
    },
    {
     "name": "stderr",
     "output_type": "stream",
     "text": [
      "DEBUG:root:['▁Jabatan', '▁Penjara', '▁Malaysia', '▁diperuntukkan', '▁RM', '20', '▁juta', '▁', 'laksana', '▁program', '▁pembangunan', '▁Insan', '▁kepada', '▁banduan', '.', '▁Majikan', '▁yang', '▁menggaji', '▁bekas', '▁banduan', ',', '▁bekas', '▁penagih', '▁dadah', '▁diberi', '▁potongan', '▁cukai', '▁tambahan', '▁sehingga', '▁', '2025', '.']\n",
      "DEBUG:root:[871, 8426, 101, 6821, 147, 974, 471, 19, 9857, 607, 1065, 17527, 72, 16560, 9, 28738, 22, 27753, 1201, 16560, 21, 1201, 18079, 2008, 1392, 5912, 2421, 2129, 387, 19, 21999, 9, 4, 3]\n",
      "DEBUG:root:['▁Jabatan', '▁Penjara', '▁Malaysia', '▁diperuntukkan', '▁RM', '20', '▁juta', '▁', 'laksana', '▁program', '▁pembangunan', '▁Insan', '▁kepada', '▁banduan', '.', '▁Majikan', '▁yang', '▁menggaji', '▁bekas', '▁banduan', ',', '▁bekas', '▁penagih', '▁dadah', '▁diberi', '▁potongan', '▁cukai', '▁tambahan', '▁sehingga', '▁', '2025', '.']\n",
      "DEBUG:root:[871, 8426, 101, 6821, 147, 974, 471, 19, 9857, 607, 1065, 17527, 72, 16560, 9, 28738, 22, 27753, 1201, 16560, 21, 1201, 18079, 2008, 1392, 5912, 2421, 2129, 387, 19, 21999, 9, 4, 3]\n"
     ]
    },
    {
     "name": "stdout",
     "output_type": "stream",
     "text": [
      "[{'anger': 0.9999857, 'fear': 4.5128745e-09, 'happy': 9.946214e-07, 'love': 9.448717e-06, 'sadness': 5.8037712e-09, 'surprise': 3.8195967e-06}]\n"
     ]
    },
    {
     "name": "stderr",
     "output_type": "stream",
     "text": [
      "DEBUG:root:['▁Jabatan', '▁Penjara', '▁Malaysia', '▁diperuntukkan', '▁RM', '20', '▁juta', '▁', 'laksana', '▁program', '▁pembangunan', '▁Insan', '▁kepada', '▁banduan', '.', '▁Majikan', '▁yang', '▁menggaji', '▁bekas', '▁banduan', ',', '▁bekas', '▁penagih', '▁dadah', '▁diberi', '▁potongan', '▁cukai', '▁tambahan', '▁sehingga', '▁', '2025', '.']\n",
      "DEBUG:root:[871, 8426, 101, 6821, 147, 974, 471, 19, 9857, 607, 1065, 17527, 72, 16560, 9, 28738, 22, 27753, 1201, 16560, 21, 1201, 18079, 2008, 1392, 5912, 2421, 2129, 387, 19, 21999, 9, 4, 3]\n"
     ]
    },
    {
     "name": "stdout",
     "output_type": "stream",
     "text": [
      "{'anger': 0.99992746, 'fear': 6.232654e-10, 'happy': 5.303653e-06, 'love': 1.2295382e-05, 'sadness': 2.9442853e-08, 'surprise': 5.4756394e-05, 'alphas': {'Jabatan': 0.09093334, 'Penjara': 0.12830202, 'Malaysia': 0.020362346, 'diperuntukkan': 0.055871278, 'RM20': 0.031899914, 'juta': 0.030098349, 'laksana': 0.022997404, 'program': 0.01966632, 'pembangunan': 0.033995114, 'Insan': 0.053591374, 'kepada': 0.031106194, 'banduan.': 0.07198947, 'Majikan': 0.03561382, 'yang': 0.020201355, 'menggaji': 0.020560639, 'bekas': 0.04031187, 'banduan,': 0.020825015, 'penagih': 0.018023875, 'dadah': 0.050311238, 'diberi': 0.019522611, 'potongan': 0.052414183, 'cukai': 0.030346343, 'tambahan': 0.017729543, 'sehingga': 0.015999477, '2025.': 0.022254106}, 'word': {'Jabatan': array([9.9992746e-01, 6.2326538e-10, 5.3036529e-06, 1.2295382e-05,\n",
      "       2.9442853e-08, 5.4756394e-05], dtype=float32), 'Penjara': array([1.0000000e+00, 4.0526322e-11, 1.0626294e-09, 3.2045801e-08,\n",
      "       3.2609634e-10, 4.2765280e-09], dtype=float32), 'Malaysia': array([9.9999428e-01, 1.4836251e-09, 6.8962549e-08, 4.7623953e-06,\n",
      "       4.8289729e-07, 5.5048719e-07], dtype=float32), 'diperuntukkan': array([9.9997908e-01, 3.2760048e-11, 1.1488904e-06, 3.9162483e-06,\n",
      "       1.4703063e-05, 1.1726848e-06], dtype=float32), 'RM20': array([9.9993229e-01, 3.9017657e-11, 2.0969507e-07, 3.3638207e-05,\n",
      "       2.9256295e-05, 4.6118143e-06], dtype=float32), 'juta': array([9.9784607e-01, 1.5763540e-11, 6.3446032e-06, 2.1008698e-03,\n",
      "       4.6367382e-05, 7.1786758e-08], dtype=float32), 'laksana': array([9.9998474e-01, 4.3211518e-11, 8.4080693e-06, 5.8097498e-06,\n",
      "       8.0894461e-07, 4.6475969e-07], dtype=float32), 'program': array([9.9999619e-01, 1.4689227e-11, 3.3232266e-06, 3.6350205e-08,\n",
      "       9.8901970e-11, 7.1026101e-08], dtype=float32), 'pembangunan': array([9.9999428e-01, 8.7920535e-13, 6.3148191e-06, 8.5468788e-09,\n",
      "       1.3284375e-09, 1.7229347e-08], dtype=float32), 'Insan': array([9.9999523e-01, 1.4918584e-11, 1.4559350e-06, 1.8465238e-06,\n",
      "       3.0233423e-08, 1.9650747e-06], dtype=float32), 'kepada': array([9.9998289e-01, 8.9761122e-11, 8.7393519e-06, 1.0539448e-07,\n",
      "       7.8693292e-06, 3.1316165e-07], dtype=float32), 'banduan.': array([9.9995947e-01, 5.1160414e-09, 8.3985981e-07, 4.8681095e-06,\n",
      "       1.8043325e-05, 1.7106602e-05], dtype=float32), 'Majikan': array([9.9999815e-01, 2.3023354e-10, 2.7737468e-07, 2.0560033e-06,\n",
      "       1.9286016e-08, 1.4457081e-07], dtype=float32), 'yang': array([9.9998951e-01, 1.0119973e-09, 1.2076089e-06, 7.1988043e-06,\n",
      "       4.3545833e-07, 1.6377653e-06], dtype=float32), 'menggaji': array([1.0000000e+00, 2.5880505e-15, 1.6692581e-10, 3.0830254e-08,\n",
      "       2.6473851e-10, 4.1013941e-12], dtype=float32), 'bekas': array([9.9999708e-01, 1.3277326e-10, 9.4191073e-08, 9.2122104e-07,\n",
      "       9.8754867e-07, 5.2875600e-07], dtype=float32), 'banduan,': array([9.9965966e-01, 8.5705354e-09, 1.5289642e-06, 1.7208249e-05,\n",
      "       3.8891721e-06, 3.1746298e-04], dtype=float32), 'penagih': array([1.0000000e+00, 5.7922254e-13, 6.1980592e-07, 1.1063415e-08,\n",
      "       8.4703435e-09, 7.3500545e-10], dtype=float32), 'dadah': array([1.0000000e+00, 5.2748463e-13, 8.8258631e-08, 1.1414232e-07,\n",
      "       1.2166369e-08, 6.8898913e-08], dtype=float32), 'diberi': array([9.9999428e-01, 2.2730615e-10, 6.0036763e-07, 2.0364248e-06,\n",
      "       9.5504231e-07, 1.7294586e-06], dtype=float32), 'potongan': array([9.9997044e-01, 4.6903696e-11, 2.0437071e-06, 1.6173253e-06,\n",
      "       2.3901459e-05, 2.0523617e-06], dtype=float32), 'cukai': array([1.0000000e+00, 3.6022654e-11, 2.8776668e-08, 2.3093218e-08,\n",
      "       1.5503767e-07, 3.8247290e-08], dtype=float32), 'tambahan': array([9.9999815e-01, 6.1295184e-11, 1.3567817e-06, 2.0423130e-07,\n",
      "       1.3218085e-08, 1.8631923e-08], dtype=float32), 'sehingga': array([9.9998862e-01, 5.4220828e-10, 4.7810440e-06, 3.0079564e-06,\n",
      "       1.3145370e-07, 4.0896739e-06], dtype=float32), '2025.': array([9.9993926e-01, 2.5932030e-09, 6.9493794e-06, 4.2856231e-05,\n",
      "       4.7462377e-06, 6.2493782e-06], dtype=float32)}, 'histogram': {'x': array([0.  , 0.05, 0.1 , 0.15, 0.2 , 0.25, 0.3 , 0.35, 0.4 , 0.45, 0.5 ,\n",
      "       0.55, 0.6 , 0.65, 0.7 , 0.75, 0.8 , 0.85, 0.9 , 0.95, 1.  ]), 'y': array([0., 0., 0., 0., 0., 0., 0., 0., 0., 0., 0., 0., 0., 0., 0., 0., 0.,\n",
      "       0., 0., 1.])}, 'attention': {'x': array([ 0,  1,  2,  3,  4,  5,  6,  7,  8,  9, 10, 11, 12, 13, 14, 15, 16,\n",
      "       17, 18, 19, 20, 21, 22, 23, 24, 25]), 'y': array([0.09093334, 0.12830202, 0.02036235, 0.05587128, 0.03189991,\n",
      "       0.03009835, 0.0229974 , 0.01966632, 0.03399511, 0.05359137,\n",
      "       0.03110619, 0.07198947, 0.03561382, 0.02020136, 0.02056064,\n",
      "       0.04507288, 0.02082502, 0.04031187, 0.01802387, 0.05031124,\n",
      "       0.01952261, 0.05241418, 0.03034634, 0.01772954, 0.01599948,\n",
      "       0.02225411], dtype=float32)}, 'barplot': {'x': ['anger', 'fear', 'happy', 'love', 'sadness', 'surprise'], 'y': [26, 1, 2, 3, 4, 5]}, 'module': 'emotion'}\n",
      "[[-9.27862108e-01  0.00000000e+00 -1.55908823e+00  1.95034587e+00\n",
      "   1.22248602e+00  5.25635481e-01 -2.71576786e+00  0.00000000e+00\n",
      "  -0.00000000e+00  9.87562358e-01  4.55872416e-01 -9.45222676e-01\n",
      "  -3.09794426e-01 -2.18412280e+00 -1.44990194e+00 -3.82586807e-01\n",
      "   1.31564546e+00  3.51631188e+00 -1.00065565e+00 -7.68342614e-01\n",
      "  -4.90778565e-01 -3.35602850e-01 -1.46714711e+00  3.10694098e+00\n",
      "  -3.31057549e+00 -6.00990057e-01 -5.95002770e-01 -2.50883192e-01\n",
      "   4.00387955e+00 -1.11246929e-01  1.63315451e+00  0.00000000e+00\n",
      "  -1.87129879e+00 -3.00934434e+00 -1.04295993e+00  1.72681618e+00\n",
      "  -1.73185229e+00  6.30038381e-02 -3.98072052e+00 -1.57786858e+00\n",
      "  -4.47377861e-01  9.22732711e-01  2.50556445e+00  3.89992237e-01\n",
      "   2.34192610e+00 -0.00000000e+00 -2.53818798e+00  0.00000000e+00\n",
      "  -2.84108233e+00  1.78591728e+00 -2.64040327e+00  9.26617458e-02\n",
      "   1.73982632e+00  0.00000000e+00 -2.30376974e-01  1.10650504e+00\n",
      "   2.14260674e+00 -2.32101962e-01 -4.05438757e+00 -7.33800381e-02\n",
      "  -1.85654092e+00 -2.91543651e+00 -5.40295029e+00 -1.39130330e+00\n",
      "   1.97902763e+00 -3.42619228e+00 -8.00805509e-01 -1.13661543e-01\n",
      "   4.76172082e-02  0.00000000e+00 -8.38750720e-01 -9.45987463e-01\n",
      "  -0.00000000e+00  1.90756631e+00  6.23635590e-01  1.54674619e-01\n",
      "   9.96755779e-01  0.00000000e+00  5.48675179e-01 -1.71221626e+00\n",
      "  -3.21755934e+00 -0.00000000e+00 -5.00681019e+00 -2.52215552e+00\n",
      "   1.37729514e+00  3.03291965e+00  3.47515178e+00 -2.64349699e-01\n",
      "  -9.01145160e-01 -4.41297621e-01 -1.16786408e+00  8.75678778e-01\n",
      "   6.41330898e-01  7.93785572e-01 -4.20782626e-01 -8.94584298e-01\n",
      "  -4.05776167e+00  2.90980625e+00 -2.83961844e+00  1.85409054e-01\n",
      "   2.80891895e-01  1.45478570e+00 -5.04541278e-01 -9.29594457e-01\n",
      "   4.63973023e-02 -0.00000000e+00 -0.00000000e+00  4.79738617e+00\n",
      "  -2.09371853e+00  1.23281884e+00 -9.24335241e-01 -3.14054161e-01\n",
      "   0.00000000e+00  8.77778590e-01  2.57090187e+00 -1.26428199e+00\n",
      "  -0.00000000e+00 -1.84323430e+00 -7.26598918e-01 -1.68825531e+00\n",
      "  -1.35258305e+00  3.01869184e-01 -7.84149528e-01  1.14806402e+00\n",
      "  -1.89285922e+00  1.95232332e+00 -7.98911870e-01 -1.32394636e+00\n",
      "  -1.53545153e+00  4.09579897e+00 -1.32745254e+00  1.43259561e+00\n",
      "   2.66953254e+00 -3.16858625e+00 -6.36225104e-01 -3.03575945e+00\n",
      "   3.64979476e-01 -2.42492867e+00 -4.45925093e+00  4.45320129e-01\n",
      "  -5.74045467e+00 -2.09635091e+00 -1.52757668e+00 -2.35655397e-01\n",
      "  -1.08608568e+00 -2.03686312e-01  1.40830421e+00  5.03614426e-01\n",
      "   6.67803705e-01  1.53274938e-01  9.68360364e-01  8.29062760e-02\n",
      "  -1.10279775e+00  1.55365634e+00  0.00000000e+00 -2.11425543e+00\n",
      "  -1.31267345e+00  1.20735645e+00 -0.00000000e+00  0.00000000e+00\n",
      "  -5.01683772e-01  2.03724170e+00 -0.00000000e+00 -1.53943777e-01\n",
      "   1.74318862e+00 -3.58266175e-01  3.63037896e+00 -1.98118269e+00\n",
      "  -1.62143171e+00  1.77466238e+00 -0.00000000e+00 -2.44566679e+00\n",
      "   0.00000000e+00  2.56519294e+00 -4.45169389e-01  7.03059137e-01\n",
      "   0.00000000e+00 -7.53590882e-01 -2.56301761e+00  1.78678572e+00\n",
      "   1.71597898e+00  1.13567817e+00  2.18130565e+00  2.56728506e+00\n",
      "   6.05860114e-01 -1.42320371e+00 -0.00000000e+00 -1.00466096e+00\n",
      "   1.58166945e+00 -2.24165130e+00 -1.23613477e-01 -3.01928639e+00\n",
      "   2.31043041e-01  1.19488752e+00  7.20393658e-02 -1.77232921e+00\n",
      "   3.42738914e+00  2.31877613e+00 -2.68439460e+00  1.30111063e+00\n",
      "  -0.00000000e+00 -9.15973306e-01 -1.64052808e+00 -1.15932918e+00\n",
      "  -7.04918325e-01  1.75007021e+00  1.04910743e+00 -2.21202230e+00\n",
      "   1.55275750e+00 -1.06860018e+00 -4.19629157e-01  1.92645466e+00\n",
      "  -2.11079741e+00 -4.77450937e-02 -9.68437374e-01  4.44750118e+00\n",
      "  -1.78716207e+00  1.09392606e-01 -1.12824869e+00  2.41667676e+00\n",
      "   9.64908540e-01  9.76713002e-01 -1.03945561e-01 -9.94000375e-01\n",
      "   3.20659947e+00  2.01908708e-01 -1.44199657e+00  3.54228306e+00\n",
      "  -2.75251698e+00 -2.64857364e+00  2.40941811e+00  1.84488177e+00\n",
      "  -3.02170014e+00  5.63675106e-01 -7.58515298e-01  8.24742198e-01\n",
      "  -2.10699129e+00  0.00000000e+00 -1.37984052e-01  1.40117931e+00\n",
      "   0.00000000e+00  1.69698215e+00  2.65824143e-02  1.30329275e+00\n",
      "  -2.06782985e+00  0.00000000e+00 -2.72532821e+00 -3.50617313e+00\n",
      "   1.19225788e+00 -1.19868731e+00  9.07115862e-02  0.00000000e+00\n",
      "  -1.71859086e+00  1.40394533e+00  6.97043777e-01  6.43585861e-01\n",
      "   4.11605358e-01 -0.00000000e+00 -2.74120402e+00 -3.42660874e-01\n",
      "   2.45592427e+00 -1.08791769e-01 -1.28881514e+00 -2.77459359e+00\n",
      "  -3.89068413e+00  0.00000000e+00 -5.60119390e-01 -1.99173331e+00\n",
      "  -3.04623270e+00  8.99216771e-01  3.10849845e-01  2.08148766e+00\n",
      "  -3.15089136e-01  3.48870587e+00  1.90644693e+00  0.00000000e+00\n",
      "  -1.52237546e+00  3.87332886e-01 -2.83714890e+00 -1.94456184e+00\n",
      "   2.08628416e+00 -2.52330124e-01 -1.67029154e+00  2.73687339e+00\n",
      "   1.20508455e-01 -2.70653391e+00 -1.21145868e+00 -1.88099229e+00\n",
      "  -2.48944736e+00  1.05249476e+00 -2.63927174e+00  1.66170454e+00\n",
      "   1.56664595e-01 -7.81925559e-01 -2.79079032e+00 -0.00000000e+00\n",
      "   4.64280337e-01  6.11272275e-01  9.81361926e-01 -7.80935884e-01\n",
      "   6.24412537e-01 -4.52840328e+00  2.11322606e-01  0.00000000e+00\n",
      "  -3.58909321e+00  4.55848169e+00  1.42604545e-01  2.29563332e+00\n",
      "  -1.14365292e+00 -2.07947150e-01  2.36368322e+00  6.19058251e-01\n",
      "   6.34945774e+00 -2.60555029e-01 -2.47412372e+00 -9.20985341e-01\n",
      "  -2.18683434e+00  0.00000000e+00  2.62165189e+00  1.80536938e+00\n",
      "   2.91324353e+00 -0.00000000e+00 -2.56070554e-01  1.57186937e+00\n",
      "  -1.19284129e+00 -6.95497513e-01 -0.00000000e+00 -2.26431561e+00\n",
      "   1.22840166e+00 -3.16763425e+00  6.96853936e-01 -1.58941805e+00\n",
      "  -5.54721653e-01 -1.05926311e+00 -7.36955106e-01 -2.01839328e+00\n",
      "  -2.10498595e+00 -5.72640300e-01  6.03499174e-01 -0.00000000e+00\n",
      "  -2.94293070e+00  1.72857642e+00 -2.80515492e-01 -2.63221800e-01\n",
      "  -0.00000000e+00  1.95125759e+00  7.51130760e-01  1.76789927e+00\n",
      "  -1.05598652e+00 -4.19530487e+00  3.38992029e-01 -0.00000000e+00\n",
      "   1.86323655e+00  1.39319503e+00 -0.00000000e+00  3.81524563e+00\n",
      "   4.52614278e-01 -3.96720082e-01 -0.00000000e+00  1.74348521e+00\n",
      "  -4.55715895e+00 -1.93989754e-01  0.00000000e+00 -4.61305350e-01\n",
      "   2.18456244e+00  8.52545381e-01  3.99074480e-02 -3.79240680e+00\n",
      "   7.14595437e-01  4.34360415e-01  1.27246439e+00 -3.13292694e+00\n",
      "   2.34094191e+00 -1.31982934e+00 -2.53338486e-01 -2.66726017e-01\n",
      "  -1.47719073e+00 -2.11589843e-01 -2.15362573e+00  2.31972742e+00\n",
      "   9.13715005e-01  0.00000000e+00 -7.89416909e-01 -4.86568570e-01\n",
      "  -7.24599540e-01  8.15609515e-01 -0.00000000e+00 -1.17647600e+00\n",
      "  -4.85907465e-01  1.38143551e+00 -0.00000000e+00 -1.11710608e+00\n",
      "   2.71755600e+00  4.41380620e-01  3.26726055e+00 -0.00000000e+00\n",
      "   7.05933869e-01 -2.92910218e-01  5.88933408e-01 -2.01716304e+00\n",
      "   4.20460254e-01 -1.21068478e+00  3.29727024e-01  3.03428555e+00\n",
      "   3.30486476e-01  1.24250615e+00  1.49057448e+00 -9.76453274e-02\n",
      "   1.05758357e+00  2.06124663e+00 -2.13864625e-01  7.54132032e-01\n",
      "   2.62683535e+00  0.00000000e+00  1.56073284e+00 -1.31941378e+00\n",
      "   0.00000000e+00  1.05334437e+00  1.21177888e+00  2.10851836e+00\n",
      "   7.94389322e-02  9.01101947e-01 -7.25241959e-01 -2.49839664e-01\n",
      "   9.42164660e-01  0.00000000e+00 -1.46290731e+00 -9.76223707e-01\n",
      "  -4.55131590e-01  2.92844725e+00  8.50889921e-01 -0.00000000e+00\n",
      "   1.47430813e+00  5.60307205e-01 -4.57268524e+00  1.66982245e+00\n",
      "   2.55040932e+00  3.46627283e+00 -3.20718932e+00  2.38961315e+00\n",
      "   1.92614901e+00  6.90745950e-01  1.13296664e+00  9.87721235e-02\n",
      "  -2.00409889e+00  2.51043844e+00  1.82137537e+00  4.59199697e-01\n",
      "  -2.16066289e+00 -2.54550576e+00 -0.00000000e+00  7.24373281e-01\n",
      "   1.49758661e+00  2.44137192e+00  2.62200308e+00 -2.03229457e-01\n",
      "  -5.33928776e+00  6.89540803e-01 -1.46944225e+00  3.49422932e-01\n",
      "  -2.34002972e+00 -1.34163678e+00 -3.79408288e+00 -1.97956574e+00\n",
      "   6.14774084e+00  2.28359795e+00 -9.35469985e-01 -0.00000000e+00\n",
      "  -3.33558369e+00  0.00000000e+00  0.00000000e+00  1.39652872e+00\n",
      "   0.00000000e+00  4.81401742e-01 -1.87830734e+00  5.32166243e-01\n",
      "   0.00000000e+00 -1.83912289e+00  2.24753046e+00 -6.85247555e-02\n",
      "  -5.34837437e+00 -1.14936972e+00 -1.57563055e+00 -1.81057155e+00\n",
      "  -1.29639125e+00  3.44069779e-01 -1.05526590e+00 -3.17024365e-02\n",
      "  -2.53058887e+00  0.00000000e+00  4.26603079e+00 -2.83746541e-01\n",
      "   1.90366864e+00 -1.19745076e+00  7.66155422e-01  8.91227603e-01\n",
      "   2.45389119e-01 -1.24791205e+00 -2.84502840e+00  6.55673802e-01\n",
      "  -1.08450294e+00 -2.20570993e+00 -1.59316137e-01  2.20939708e+00\n",
      "   8.03842008e-01 -1.11317551e+00  7.18443096e-02 -2.36846924e+00\n",
      "   8.84544373e-01  8.99219930e-01  3.26549411e+00 -1.66112578e+00\n",
      "  -2.80704474e+00  4.21583146e-01 -0.00000000e+00 -3.21961832e+00\n",
      "  -7.53789604e-01  7.70532787e-01  9.65311587e-01  2.11419344e+00\n",
      "  -7.43972957e-01 -1.28663707e+00  1.57187227e-02 -1.36052108e+00\n",
      "   0.00000000e+00  0.00000000e+00 -1.39608252e+00 -1.82322323e+00\n",
      "  -3.38202190e+00  3.34594637e-01 -5.99898875e-01  1.26834047e+00\n",
      "   4.52416509e-01 -0.00000000e+00  1.20770979e+00  9.06152487e-01\n",
      "   2.83943629e+00  1.65840164e-01 -1.54800665e+00  4.71472216e+00\n",
      "  -0.00000000e+00 -3.12120867e+00  1.44095290e+00 -1.74544132e+00\n",
      "  -8.55050802e-01 -1.62967980e+00  1.92109692e+00 -2.66524100e+00\n",
      "  -2.92265534e+00 -3.53895426e+00 -5.10226429e-01  2.84504509e+00\n",
      "   3.91749173e-01  1.61263776e+00  3.04750657e+00 -1.00531973e-01\n",
      "   0.00000000e+00 -4.07389641e-01  3.22552361e-02 -1.21763098e+00\n",
      "   1.66969109e+00  3.30864668e+00  1.36756718e+00 -1.11250365e+00\n",
      "   0.00000000e+00 -2.86066008e+00  3.28845456e-02  0.00000000e+00\n",
      "   1.38351381e+00 -9.44190741e-01 -2.93448997e+00 -7.22329378e-01\n",
      "  -3.66507381e-01 -1.52400529e+00 -1.95720708e+00 -7.27559507e-01\n",
      "  -2.39462256e+00 -1.00270987e+00 -8.21139395e-01  3.30159283e+00\n",
      "  -2.61785102e+00 -4.26741928e-01 -0.00000000e+00 -3.04362714e-01\n",
      "  -1.37272429e+00 -2.18190813e+00  1.03062224e+00 -1.62340379e+00\n",
      "  -1.73059976e+00  1.11242855e+00  3.04041648e+00 -2.11435986e+00\n",
      "   2.05197883e+00  7.15580583e-02 -7.68109858e-01  4.25874978e-01\n",
      "  -3.90649796e-01  1.40865132e-01 -0.00000000e+00 -1.46449184e+00\n",
      "  -7.31678843e-01  5.49767256e-01  1.54042375e+00  2.92599887e-01\n",
      "  -0.00000000e+00 -7.62257218e-01  3.30019045e+00 -1.15564919e+00\n",
      "   1.61798894e+00 -6.19487941e-01  2.67610192e+00  1.24702312e-01\n",
      "   2.19988799e+00  9.10432041e-01  1.87403798e+00 -1.46675539e+00\n",
      "   2.14004755e+00  0.00000000e+00  3.82695377e-01 -0.00000000e+00\n",
      "   9.55157816e-01  1.18696618e+00  2.36817837e+00  3.38163763e-01\n",
      "  -8.66059840e-01  9.93578196e-01 -1.09672368e+00  1.57717526e+00\n",
      "   1.54445812e-01  3.28770429e-01 -3.49007733e-02  1.17516592e-01\n",
      "  -2.18706012e+00  1.58018959e+00  2.87107766e-01 -0.00000000e+00\n",
      "  -2.55680466e+00  3.12281275e+00 -2.85423350e+00  2.47945642e+00\n",
      "   2.78532362e+00 -1.06249535e+00 -1.65951610e+00  2.41901493e+00\n",
      "  -2.64339066e+00  3.85368496e-01  9.82042193e-01 -1.44042277e+00\n",
      "   7.20327616e-01 -0.00000000e+00  1.09092331e+00 -3.01688862e+00\n",
      "   2.12822604e+00  2.12295818e+00  5.24023652e-01 -1.55258942e+00\n",
      "  -2.08603334e+00 -1.22482753e+00  7.12861478e-01  1.89526141e+00\n",
      "   8.45991790e-01  7.90874064e-01 -0.00000000e+00  1.81646824e+00\n",
      "  -9.94988624e-03  5.74899428e-02  1.95575857e+00  0.00000000e+00\n",
      "   5.41109681e-01 -2.65278363e+00  1.40287628e+01 -2.33609390e+00\n",
      "  -2.09657505e-01  8.57928395e-01 -0.00000000e+00  2.92405486e+00\n",
      "   1.91172004e+00  0.00000000e+00 -1.10220921e+00 -4.10252124e-01\n",
      "  -6.62415564e-01 -1.52532864e+00 -1.81785727e+00  0.00000000e+00\n",
      "   2.65584558e-01  3.16576123e+00  0.00000000e+00 -0.00000000e+00\n",
      "   2.61382127e+00 -8.61203074e-01  1.17558658e+00  9.80478227e-02\n",
      "  -4.33272794e-02  0.00000000e+00  0.00000000e+00 -5.00562572e+00\n",
      "   0.00000000e+00 -3.37784839e+00 -2.89436072e-01 -0.00000000e+00\n",
      "   6.16138399e-01 -2.39504480e+00  3.50124240e+00  0.00000000e+00\n",
      "  -2.06944919e+00  0.00000000e+00  1.37739027e+00 -3.78298450e+00\n",
      "  -1.74637794e+00  1.99994892e-01  0.00000000e+00 -9.69798803e-01\n",
      "   3.79997231e-02 -2.47959495e+00 -1.77146405e-01  0.00000000e+00\n",
      "  -3.11142111e+00 -2.55472755e+00 -1.13340092e+00  1.84307128e-01\n",
      "   1.31736100e+00 -8.40103745e-01 -5.09553671e-01  4.01427603e+00\n",
      "  -4.55246717e-02 -1.96374214e+00 -2.75524712e+00  5.20405352e-01\n",
      "  -2.37303162e+00  3.75157690e+00 -1.47375667e+00  9.49112892e-01\n",
      "  -6.08506918e-01  1.57094789e+00  2.58998942e+00  0.00000000e+00\n",
      "  -2.14484310e+00  2.10778308e+00  3.76941657e+00 -4.19138163e-01\n",
      "   3.87032837e-01 -9.60542977e-01  3.58731389e+00 -3.30771685e-01\n",
      "  -6.51527494e-02 -7.76864350e-01 -1.08828209e-01  2.66529870e+00\n",
      "  -1.36541784e+00 -0.00000000e+00  9.92872775e-01  3.26721501e+00\n",
      "  -1.37474978e+00 -1.09723258e+00  0.00000000e+00 -1.06608093e+00\n",
      "  -3.05407405e+00  8.31667066e-01  6.54589891e-01 -2.10842466e+00\n",
      "   1.67718786e-03 -1.45171225e+00 -3.14647764e-01 -1.43456197e+00\n",
      "  -1.59178948e+00  1.50438094e+00  2.47739449e-01  4.71708387e-01]]\n"
     ]
    },
    {
     "name": "stderr",
     "output_type": "stream",
     "text": [
      "DEBUG:urllib3.connectionpool:Starting new HTTPS connection (1): huggingface.co:443\n"
     ]
    },
    {
     "name": "stdout",
     "output_type": "stream",
     "text": [
      "alxlnet\n"
     ]
    },
    {
     "name": "stderr",
     "output_type": "stream",
     "text": [
      "DEBUG:urllib3.connectionpool:https://huggingface.co:443 \"HEAD /huseinzol05/emotion-alxlnet/resolve/main/model.pb HTTP/1.1\" 302 0\n",
      "DEBUG:filelock:Attempting to acquire lock 5810822224 on /Users/huseinzolkepli/.cache/huggingface/hub/fea1576101854da7bf0009a69c4b93211ccf960d9690628a19435869538c6b0d.47c6679f8b9ddff7121e4f111dabfb953ed14562afe20e17176b09d93e8b3a02.lock\n",
      "INFO:filelock:Lock 5810822224 acquired on /Users/huseinzolkepli/.cache/huggingface/hub/fea1576101854da7bf0009a69c4b93211ccf960d9690628a19435869538c6b0d.47c6679f8b9ddff7121e4f111dabfb953ed14562afe20e17176b09d93e8b3a02.lock\n",
      "DEBUG:urllib3.connectionpool:Starting new HTTPS connection (1): cdn-lfs.huggingface.co:443\n",
      "DEBUG:urllib3.connectionpool:https://cdn-lfs.huggingface.co:443 \"GET /repos/d7/d4/d7d487a8601630457539afdb76a322b83a4b6968a3170d1de97fa6da0650957c/559213923663afde80d61632a2605d40eb005c32f4658717157760e16f650380 HTTP/1.1\" 200 49051213\n"
     ]
    },
    {
     "data": {
      "application/vnd.jupyter.widget-view+json": {
       "model_id": "9dec54e09bfa4ae6b1281c8f19abdba7",
       "version_major": 2,
       "version_minor": 0
      },
      "text/plain": [
       "HBox(children=(FloatProgress(value=0.0, description='Downloading', max=49051213.0, style=ProgressStyle(descrip…"
      ]
     },
     "metadata": {},
     "output_type": "display_data"
    },
    {
     "name": "stderr",
     "output_type": "stream",
     "text": [
      "DEBUG:filelock:Attempting to release lock 5810822224 on /Users/huseinzolkepli/.cache/huggingface/hub/fea1576101854da7bf0009a69c4b93211ccf960d9690628a19435869538c6b0d.47c6679f8b9ddff7121e4f111dabfb953ed14562afe20e17176b09d93e8b3a02.lock\n",
      "INFO:filelock:Lock 5810822224 released on /Users/huseinzolkepli/.cache/huggingface/hub/fea1576101854da7bf0009a69c4b93211ccf960d9690628a19435869538c6b0d.47c6679f8b9ddff7121e4f111dabfb953ed14562afe20e17176b09d93e8b3a02.lock\n",
      "DEBUG:urllib3.connectionpool:Starting new HTTPS connection (1): huggingface.co:443\n"
     ]
    },
    {
     "name": "stdout",
     "output_type": "stream",
     "text": [
      "\n"
     ]
    },
    {
     "name": "stderr",
     "output_type": "stream",
     "text": [
      "DEBUG:urllib3.connectionpool:https://huggingface.co:443 \"HEAD /huseinzol05/bpe/resolve/main/sp10m.cased.v9.vocab HTTP/1.1\" 302 0\n",
      "DEBUG:filelock:Attempting to acquire lock 9705874576 on /Users/huseinzolkepli/.cache/huggingface/hub/f05c0750ccb74c7bb9f50b872c450ccb2c450530726b0707dd2bda87c701fb30.3ce0f5532a473e4aaa6cbc16ed456e48c4c8fd844b8d271888a1dd57e9b766a9.lock\n",
      "INFO:filelock:Lock 9705874576 acquired on /Users/huseinzolkepli/.cache/huggingface/hub/f05c0750ccb74c7bb9f50b872c450ccb2c450530726b0707dd2bda87c701fb30.3ce0f5532a473e4aaa6cbc16ed456e48c4c8fd844b8d271888a1dd57e9b766a9.lock\n",
      "DEBUG:urllib3.connectionpool:Starting new HTTPS connection (1): cdn-lfs.huggingface.co:443\n",
      "DEBUG:urllib3.connectionpool:https://cdn-lfs.huggingface.co:443 \"GET /huseinzol05/bpe/d40f2c7d71612e5a5339347895530dffac617763abf7be9a1e33066314e8e16d HTTP/1.1\" 200 568997\n"
     ]
    },
    {
     "data": {
      "application/vnd.jupyter.widget-view+json": {
       "model_id": "11d064661105461bb575cc700ee1c4f9",
       "version_major": 2,
       "version_minor": 0
      },
      "text/plain": [
       "HBox(children=(FloatProgress(value=0.0, description='Downloading', max=568997.0, style=ProgressStyle(descripti…"
      ]
     },
     "metadata": {},
     "output_type": "display_data"
    },
    {
     "name": "stderr",
     "output_type": "stream",
     "text": [
      "DEBUG:filelock:Attempting to release lock 9705874576 on /Users/huseinzolkepli/.cache/huggingface/hub/f05c0750ccb74c7bb9f50b872c450ccb2c450530726b0707dd2bda87c701fb30.3ce0f5532a473e4aaa6cbc16ed456e48c4c8fd844b8d271888a1dd57e9b766a9.lock\n",
      "INFO:filelock:Lock 9705874576 released on /Users/huseinzolkepli/.cache/huggingface/hub/f05c0750ccb74c7bb9f50b872c450ccb2c450530726b0707dd2bda87c701fb30.3ce0f5532a473e4aaa6cbc16ed456e48c4c8fd844b8d271888a1dd57e9b766a9.lock\n",
      "DEBUG:urllib3.connectionpool:Starting new HTTPS connection (1): huggingface.co:443\n"
     ]
    },
    {
     "name": "stdout",
     "output_type": "stream",
     "text": [
      "\n"
     ]
    },
    {
     "name": "stderr",
     "output_type": "stream",
     "text": [
      "DEBUG:urllib3.connectionpool:https://huggingface.co:443 \"HEAD /huseinzol05/bpe/resolve/main/sp10m.cased.v9.model HTTP/1.1\" 302 0\n",
      "DEBUG:filelock:Attempting to acquire lock 9705876816 on /Users/huseinzolkepli/.cache/huggingface/hub/91101a79c0663d63742159cf8c513f03b4b695575f5bdf894ad9614bdde8fbe3.f628e57a2586b9ff7b216c03119ed36c79f2bf9f0b311ff422c6ba404b41a757.lock\n",
      "INFO:filelock:Lock 9705876816 acquired on /Users/huseinzolkepli/.cache/huggingface/hub/91101a79c0663d63742159cf8c513f03b4b695575f5bdf894ad9614bdde8fbe3.f628e57a2586b9ff7b216c03119ed36c79f2bf9f0b311ff422c6ba404b41a757.lock\n",
      "DEBUG:urllib3.connectionpool:Starting new HTTPS connection (1): cdn-lfs.huggingface.co:443\n",
      "DEBUG:urllib3.connectionpool:https://cdn-lfs.huggingface.co:443 \"GET /huseinzol05/bpe/a0caa407e56cc60c5a74aad6f90d3c3a7d25231b0c0d92211df9f4c7442b839a HTTP/1.1\" 200 778744\n"
     ]
    },
    {
     "data": {
      "application/vnd.jupyter.widget-view+json": {
       "model_id": "c73a85a6c1364569b2160dfd60cf9926",
       "version_major": 2,
       "version_minor": 0
      },
      "text/plain": [
       "HBox(children=(FloatProgress(value=0.0, description='Downloading', max=778744.0, style=ProgressStyle(descripti…"
      ]
     },
     "metadata": {},
     "output_type": "display_data"
    },
    {
     "name": "stderr",
     "output_type": "stream",
     "text": [
      "DEBUG:filelock:Attempting to release lock 9705876816 on /Users/huseinzolkepli/.cache/huggingface/hub/91101a79c0663d63742159cf8c513f03b4b695575f5bdf894ad9614bdde8fbe3.f628e57a2586b9ff7b216c03119ed36c79f2bf9f0b311ff422c6ba404b41a757.lock\n",
      "INFO:filelock:Lock 9705876816 released on /Users/huseinzolkepli/.cache/huggingface/hub/91101a79c0663d63742159cf8c513f03b4b695575f5bdf894ad9614bdde8fbe3.f628e57a2586b9ff7b216c03119ed36c79f2bf9f0b311ff422c6ba404b41a757.lock\n",
      "DEBUG:frozen_graph:use_tensorrt: False\n",
      "DEBUG:frozen_graph:tensorrt_precision_mode: FP32\n",
      "DEBUG:frozen_graph:precision_mode: FP32\n",
      "DEBUG:frozen_graph:t5_graph: False\n",
      "DEBUG:frozen_graph:glowtts_graph: False\n",
      "DEBUG:frozen_graph:glowtts_multispeaker_graph: False\n",
      "INFO:frozen_graph:running Users/huseinzolkepli/.cache/huggingface/hub using device /device:CPU:0\n"
     ]
    },
    {
     "name": "stdout",
     "output_type": "stream",
     "text": [
      "\n"
     ]
    },
    {
     "name": "stderr",
     "output_type": "stream",
     "text": [
      "DEBUG:root:['▁Jabatan', '▁Penjara', '▁Malaysia', '▁diperuntukkan', '▁RM', '20', '▁juta', '▁', 'laksana', '▁program', '▁pembangunan', '▁Insan', '▁kepada', '▁banduan', '.', '▁Majikan', '▁yang', '▁menggaji', '▁bekas', '▁banduan', ',', '▁bekas', '▁penagih', '▁dadah', '▁diberi', '▁potongan', '▁cukai', '▁tambahan', '▁sehingga', '▁', '2025', '.']\n",
      "DEBUG:root:[871, 8426, 101, 6821, 147, 974, 471, 19, 9857, 607, 1065, 17527, 72, 16560, 9, 28738, 22, 27753, 1201, 16560, 21, 1201, 18079, 2008, 1392, 5912, 2421, 2129, 387, 19, 21999, 9, 4, 3]\n",
      "DEBUG:root:['▁Jabatan', '▁Penjara', '▁Malaysia', '▁diperuntukkan', '▁RM', '20', '▁juta', '▁', 'laksana', '▁program', '▁pembangunan', '▁Insan', '▁kepada', '▁banduan', '.', '▁Majikan', '▁yang', '▁menggaji', '▁bekas', '▁banduan', ',', '▁bekas', '▁penagih', '▁dadah', '▁diberi', '▁potongan', '▁cukai', '▁tambahan', '▁sehingga', '▁', '2025', '.']\n",
      "DEBUG:root:[871, 8426, 101, 6821, 147, 974, 471, 19, 9857, 607, 1065, 17527, 72, 16560, 9, 28738, 22, 27753, 1201, 16560, 21, 1201, 18079, 2008, 1392, 5912, 2421, 2129, 387, 19, 21999, 9, 4, 3]\n"
     ]
    },
    {
     "name": "stdout",
     "output_type": "stream",
     "text": [
      "[{'anger': 0.9999791, 'fear': 2.5717547e-06, 'happy': 1.8901913e-07, 'love': 1.5806714e-07, 'sadness': 1.7199362e-05, 'surprise': 8.027274e-07}]\n"
     ]
    },
    {
     "name": "stderr",
     "output_type": "stream",
     "text": [
      "DEBUG:root:['▁Jabatan', '▁Penjara', '▁Malaysia', '▁diperuntukkan', '▁RM', '20', '▁juta', '▁', 'laksana', '▁program', '▁pembangunan', '▁Insan', '▁kepada', '▁banduan', '.', '▁Majikan', '▁yang', '▁menggaji', '▁bekas', '▁banduan', ',', '▁bekas', '▁penagih', '▁dadah', '▁diberi', '▁potongan', '▁cukai', '▁tambahan', '▁sehingga', '▁', '2025', '.']\n",
      "DEBUG:root:[871, 8426, 101, 6821, 147, 974, 471, 19, 9857, 607, 1065, 17527, 72, 16560, 9, 28738, 22, 27753, 1201, 16560, 21, 1201, 18079, 2008, 1392, 5912, 2421, 2129, 387, 19, 21999, 9, 4, 3]\n"
     ]
    },
    {
     "name": "stdout",
     "output_type": "stream",
     "text": [
      "{'anger': 0.99970824, 'fear': 8.549562e-05, 'happy': 2.8153482e-07, 'love': 1.9137356e-06, 'sadness': 0.00018191988, 'surprise': 2.2270855e-05, 'alphas': {'Jabatan': 0.053453222, 'Penjara': 0.15944922, 'Malaysia': 0.03304886, 'diperuntukkan': 0.010667901, 'RM20': 0.011879603, 'juta': 0.012030363, 'laksana': 0.01828131, 'program': 0.030529829, 'pembangunan': 0.030721515, 'Insan': 0.022598391, 'kepada': 0.039650746, 'banduan.': 0.07620395, 'Majikan': 0.07371824, 'yang': 0.010690345, 'menggaji': 0.01639636, 'bekas': 0.023554139, 'banduan,': 0.022415854, 'penagih': 0.045382533, 'dadah': 0.13573268, 'diberi': 0.019377228, 'potongan': 0.01801074, 'cukai': 0.04383067, 'tambahan': 0.011738189, 'sehingga': 0.00875048, '2025.': 0.054456282}, 'word': {'Jabatan': array([9.9970824e-01, 8.5495623e-05, 2.8153482e-07, 1.9137356e-06,\n",
      "       1.8191988e-04, 2.2270855e-05], dtype=float32), 'Penjara': array([9.9989408e-01, 1.0519747e-05, 3.2033367e-06, 5.3917296e-07,\n",
      "       9.0928319e-05, 7.6470076e-07], dtype=float32), 'Malaysia': array([9.9877626e-01, 9.3154382e-04, 7.6811710e-05, 3.2645610e-06,\n",
      "       2.0811993e-04, 4.0724085e-06], dtype=float32), 'diperuntukkan': array([9.9828297e-01, 2.7947329e-04, 5.2210044e-06, 2.1427479e-05,\n",
      "       1.3953102e-03, 1.5937134e-05], dtype=float32), 'RM20': array([9.9898756e-01, 4.1871044e-05, 6.5594850e-07, 9.5119365e-05,\n",
      "       8.7000622e-04, 4.6668106e-06], dtype=float32), 'juta': array([9.9992365e-01, 3.4113509e-05, 6.4081092e-07, 1.2354063e-06,\n",
      "       3.6419489e-05, 3.5446683e-06], dtype=float32), 'laksana': array([9.9964345e-01, 8.1002610e-05, 2.4504434e-06, 3.4697987e-06,\n",
      "       2.1659923e-04, 5.3557163e-05], dtype=float32), 'program': array([9.9953663e-01, 1.1634314e-04, 1.5103767e-06, 3.5822268e-06,\n",
      "       2.1879740e-04, 1.2326172e-04], dtype=float32), 'pembangunan': array([9.9970239e-01, 5.0779166e-05, 1.6371766e-06, 5.2912605e-06,\n",
      "       2.0849440e-04, 3.1632208e-05], dtype=float32), 'Insan': array([9.9996090e-01, 4.8618263e-06, 1.4763882e-06, 2.3093946e-06,\n",
      "       2.6495389e-05, 3.7797699e-06], dtype=float32), 'kepada': array([9.9995905e-01, 8.9941213e-06, 3.2753994e-07, 1.7265666e-06,\n",
      "       2.6705842e-05, 3.5477190e-06], dtype=float32), 'banduan.': array([9.9912685e-01, 5.2820971e-05, 1.6534541e-05, 8.3254627e-06,\n",
      "       7.5517280e-04, 4.0472132e-05], dtype=float32), 'Majikan': array([9.9944413e-01, 2.2681571e-04, 3.2759633e-06, 2.8830169e-05,\n",
      "       9.6061616e-05, 2.0098248e-04], dtype=float32), 'yang': array([9.9939370e-01, 2.6085658e-05, 2.0262330e-06, 2.1144826e-05,\n",
      "       5.2868295e-04, 2.8519651e-05], dtype=float32), 'menggaji': array([9.9972826e-01, 7.4384654e-05, 9.6282565e-07, 7.6311298e-06,\n",
      "       1.3711723e-04, 5.1552222e-05], dtype=float32), 'bekas': array([9.99816000e-01, 5.18427350e-06, 8.68785889e-07, 2.06099185e-06,\n",
      "       1.61768330e-04, 1.42544895e-05], dtype=float32), 'banduan,': array([9.7965741e-01, 7.2869041e-04, 2.0939578e-05, 1.0437816e-03,\n",
      "       1.5687108e-02, 2.8621200e-03], dtype=float32), 'penagih': array([9.9985403e-01, 1.2253674e-05, 1.7804334e-07, 1.1790441e-06,\n",
      "       1.3028459e-04, 1.9364254e-06], dtype=float32), 'dadah': array([9.9952036e-01, 2.8581568e-05, 3.0800297e-07, 6.0326634e-06,\n",
      "       4.4215197e-04, 2.7351839e-06], dtype=float32), 'diberi': array([9.9951422e-01, 7.8533943e-05, 1.4111589e-05, 9.0691155e-06,\n",
      "       3.4101243e-04, 4.3193275e-05], dtype=float32), 'potongan': array([9.9978167e-01, 1.3183706e-04, 2.3614382e-06, 8.8069790e-08,\n",
      "       7.2538576e-05, 1.1281843e-05], dtype=float32), 'cukai': array([9.9971008e-01, 8.1719329e-05, 7.3285114e-06, 6.0890766e-06,\n",
      "       1.7425393e-04, 2.0589967e-05], dtype=float32), 'tambahan': array([9.9938035e-01, 4.4505345e-04, 7.0824608e-06, 1.5219208e-06,\n",
      "       7.4407995e-05, 9.1418027e-05], dtype=float32), 'sehingga': array([9.9907815e-01, 1.1320099e-04, 1.9506537e-05, 1.9510537e-05,\n",
      "       7.5770606e-04, 1.1774245e-05], dtype=float32), '2025.': array([9.7789240e-01, 6.8109116e-04, 4.1997820e-04, 1.1747316e-02,\n",
      "       7.6154661e-03, 1.6438033e-03], dtype=float32)}, 'histogram': {'x': array([0.  , 0.05, 0.1 , 0.15, 0.2 , 0.25, 0.3 , 0.35, 0.4 , 0.45, 0.5 ,\n",
      "       0.55, 0.6 , 0.65, 0.7 , 0.75, 0.8 , 0.85, 0.9 , 0.95, 1.  ]), 'y': array([0., 0., 0., 0., 0., 0., 0., 0., 0., 0., 0., 0., 0., 0., 0., 0., 0.,\n",
      "       0., 0., 1.])}, 'attention': {'x': array([ 0,  1,  2,  3,  4,  5,  6,  7,  8,  9, 10, 11, 12, 13, 14, 15, 16,\n",
      "       17, 18, 19, 20, 21, 22, 23, 24, 25]), 'y': array([0.05345322, 0.15944922, 0.03304886, 0.0106679 , 0.0118796 ,\n",
      "       0.01203036, 0.01828131, 0.03052983, 0.03072152, 0.02259839,\n",
      "       0.03965075, 0.07620395, 0.07371824, 0.01069035, 0.01639636,\n",
      "       0.01743134, 0.02241585, 0.02355414, 0.04538253, 0.13573268,\n",
      "       0.01937723, 0.01801074, 0.04383067, 0.01173819, 0.00875048,\n",
      "       0.05445628], dtype=float32)}, 'barplot': {'x': ['anger', 'fear', 'happy', 'love', 'sadness', 'surprise'], 'y': [26, 1, 2, 3, 4, 5]}, 'module': 'emotion'}\n"
     ]
    },
    {
     "name": "stderr",
     "output_type": "stream",
     "text": [
      "DEBUG:urllib3.connectionpool:Starting new HTTPS connection (1): huggingface.co:443\n"
     ]
    },
    {
     "name": "stdout",
     "output_type": "stream",
     "text": [
      "[[-4.06895131e-01 -2.40071490e-01  2.17856836e+00 -7.76527822e-02\n",
      "  -4.38318825e+00  6.42079413e-01 -7.76432276e-01  1.50591671e+00\n",
      "  -1.02684939e+00  1.75393879e+00  3.19209248e-01  3.73627037e-01\n",
      "  -3.76607507e-01 -8.39544654e-01 -2.06525946e+00  4.25959021e-01\n",
      "  -1.80179691e+00  1.03814316e+00 -9.31679130e-01 -0.00000000e+00\n",
      "   0.00000000e+00 -1.10086274e+00  1.33949906e-01 -0.00000000e+00\n",
      "   1.50912857e+00  8.27665329e-01 -1.03978443e+00  9.80638683e-01\n",
      "  -2.50848174e+00  1.10017151e-01  4.81253723e-04  0.00000000e+00\n",
      "   1.69251657e+00 -1.74597168e+00  1.31024635e+00 -1.63119569e-01\n",
      "   1.53526115e+00  3.17384988e-01  5.63408554e-01 -2.55602050e+00\n",
      "  -1.96727979e+00 -0.00000000e+00  9.29743469e-01  7.54907072e-01\n",
      "   1.16302299e+00  3.10542035e+00  4.88772601e-01  0.00000000e+00\n",
      "  -1.02381682e+00  0.00000000e+00 -1.13557816e+00  0.00000000e+00\n",
      "   0.00000000e+00 -2.86555147e+00  1.06689855e-01 -1.16442180e+00\n",
      "   1.02012503e+00  1.04834437e+00  0.00000000e+00  5.55720150e-01\n",
      "   2.15442109e+00 -3.25323033e+00 -0.00000000e+00 -2.06389278e-01\n",
      "  -1.19404018e+00  1.36956120e+00 -3.18881899e-01  5.67926705e-01\n",
      "  -2.04120135e+00 -5.45349658e-01 -1.34402740e+00 -1.04459606e-01\n",
      "  -8.04502964e-01  3.04366159e+00  0.00000000e+00 -6.67403281e-01\n",
      "  -5.04282296e-01  1.42850327e+00  3.37529808e-01 -4.09321880e+00\n",
      "  -1.27718270e+00 -4.98924106e-01 -6.92964971e-01  0.00000000e+00\n",
      "  -8.06106180e-02  6.82991087e-01  1.38920918e-01 -0.00000000e+00\n",
      "  -7.72800505e-01 -1.10943007e+00  2.88266897e-01  1.80662477e+00\n",
      "   1.27471972e+00 -6.05343759e-01 -4.68051881e-02 -6.04605913e-01\n",
      "   1.66447973e+00 -3.79673064e-01  6.08489811e-01 -2.40254712e+00\n",
      "   1.60026276e+00 -3.93662304e-02  0.00000000e+00  3.06636840e-01\n",
      "  -1.47602692e-01 -1.06106751e-01 -6.70280635e-01  6.27932012e-01\n",
      "  -1.76590359e+00 -4.24043834e-01  5.81176460e-01 -3.86878878e-01\n",
      "   5.36727846e-01  1.47874093e+00  0.00000000e+00 -1.02283919e+00\n",
      "   7.46627390e-01 -0.00000000e+00  6.10091925e-01  3.67437541e-01\n",
      "  -9.33635294e-01  2.52624917e+00  4.06157881e-01 -0.00000000e+00\n",
      "   1.66333690e-02 -6.17645681e-01  2.03382492e+00  1.43108475e+00\n",
      "  -0.00000000e+00  6.46438837e-01  1.85542360e-01 -0.00000000e+00\n",
      "   3.18004936e-02 -0.00000000e+00 -1.02883816e+00 -8.22873592e+00\n",
      "   1.83625722e+00 -4.40770201e-02  0.00000000e+00 -3.03938746e+00\n",
      "  -1.50723970e+00 -3.45191181e-01  1.91516519e-01  2.68823176e-04\n",
      "   2.52453494e+00  4.13233489e-02 -5.50801754e-01  0.00000000e+00\n",
      "   5.64558804e-01  5.26317477e-01 -4.85662997e-01 -2.47417856e-03\n",
      "  -2.09059134e-01  5.13876021e-01 -5.46106815e-01  2.64959264e+00\n",
      "   1.33573031e+00  0.00000000e+00 -2.11455643e-01  5.59910759e-02\n",
      "   3.66529703e-01 -1.46812284e+00 -1.39775947e-01 -4.89667445e-01\n",
      "   1.55278981e+00  2.17919183e+00  2.17711401e+00  2.17613029e+00\n",
      "   2.52194571e+00 -1.48702550e+00 -6.04742527e-01  1.11794555e+00\n",
      "   1.03214800e+00  3.68778646e-01  1.10521126e+00 -7.01257408e-01\n",
      "  -5.35844445e-01 -9.16796327e-01  5.09581923e-01 -6.84282243e-01\n",
      "  -1.54647601e+00 -6.95875168e-01 -4.05715227e+00  7.52412915e-01\n",
      "  -0.00000000e+00  3.01702857e-01 -2.18436909e+00  8.08072746e-01\n",
      "  -1.21964610e+00 -2.29011440e+00  5.73874831e-01  8.95379007e-01\n",
      "  -1.10859203e+00  3.70028043e+00  1.46627164e+00 -1.59007859e+00\n",
      "   2.89576197e+00  2.58318782e+00 -3.78411174e-01 -1.29064894e+00\n",
      "   1.12727022e+00  8.85136425e-01  6.66429698e-01  0.00000000e+00\n",
      "  -4.84257787e-01  0.00000000e+00  5.24769366e-01  1.22572005e+00\n",
      "  -1.23450911e+00  1.10281444e+00  8.92518088e-02 -0.00000000e+00\n",
      "   1.81161356e+00  1.30089772e+00 -1.37756598e+00  1.54925120e+00\n",
      "  -9.67257202e-01  1.70827568e+00 -9.50638652e-02  5.33536017e-01\n",
      "   9.35973644e-01  1.12796521e+00  1.50672472e+00 -1.11074197e+00\n",
      "   1.60034001e+00 -1.23069629e-01  1.02379644e+00  4.16111374e+00\n",
      "  -4.56437439e-01  2.13977313e+00  7.14955389e-01  7.85174608e-01\n",
      "   1.28571951e+00 -1.04734325e+00 -5.78812480e-01 -3.85850251e-01\n",
      "  -5.73064566e-01  2.16972995e+00 -6.89715803e-01  4.40664947e-01\n",
      "   1.42575836e+00 -0.00000000e+00 -1.89389718e+00 -4.23258364e-01\n",
      "  -0.00000000e+00 -1.88921213e+00  4.38695669e-01  8.94870520e-01\n",
      "  -5.67224324e-01  3.21507305e-01  1.66275539e-02 -9.15236056e-01\n",
      "   1.88764736e-01  3.39531481e-01 -7.86287963e-01  5.49230397e-01\n",
      "   9.84281063e-01 -0.00000000e+00 -5.03328562e-01 -1.35352993e+00\n",
      "  -1.74364829e+00 -4.21557814e-01 -4.73063141e-01 -9.63095427e-01\n",
      "  -2.30054212e+00  1.55577743e+00 -4.32322741e-01 -1.74336016e-01\n",
      "   9.55885649e-01 -4.98285770e-01  1.44290984e+00  4.35805500e-01\n",
      "  -5.11310518e-01  4.55276370e-02  1.17219472e+00 -1.89313376e+00\n",
      "  -1.28632867e+00 -6.68142378e-01 -7.52230942e-01 -5.01631558e-01\n",
      "  -1.14507282e+00  1.70865858e+00  1.52004731e+00  2.01771662e-01\n",
      "  -1.72356343e+00 -1.63119411e+00  7.92008519e-01 -8.34716082e-01\n",
      "   1.06765854e+00  0.00000000e+00 -3.81644219e-01 -2.06382319e-01\n",
      "   4.85263944e-01 -1.87781560e+00  1.32967865e+00  9.03211907e-02\n",
      "  -2.49962397e-02 -4.41417396e-01  5.78722954e-01  1.03883111e+00\n",
      "  -7.83472836e-01  1.23220122e+00 -7.91848361e-01 -6.54451132e-01\n",
      "  -6.24703765e-01 -1.92900777e+00 -1.90415180e+00  8.95722985e-01\n",
      "   1.28270245e+00 -5.92819333e-01  9.40346897e-01  1.42204368e+00\n",
      "  -2.35812259e+00 -1.83522239e-01 -4.64119494e-01 -8.93697441e-01\n",
      "   1.72274137e+00  1.44658518e+00  1.37233329e+00  2.69849610e+00\n",
      "   2.26232815e+00  3.67782712e-02 -2.47047234e+00 -1.92596710e+00\n",
      "  -9.52196360e-01  8.07093680e-01 -0.00000000e+00  1.19794957e-01\n",
      "   2.81833291e-01 -5.75901449e-01 -1.56299412e+00 -6.39200926e-01\n",
      "  -3.64456326e-02 -7.87029564e-01 -1.05850339e+00 -0.00000000e+00\n",
      "  -1.95545328e+00 -1.50833333e+00  2.07352638e-01 -2.31012249e+00\n",
      "  -2.08224028e-01  1.06593633e+00 -9.47924554e-01  5.36120534e-01\n",
      "  -1.18624306e+00  9.35290217e-01  5.45401633e-01 -3.54432970e-01\n",
      "   0.00000000e+00  1.31044817e+00 -2.07952619e+00  3.64214391e-01\n",
      "   1.68649721e+00  5.13351679e-01  5.87979794e-01  1.26300275e+00\n",
      "  -0.00000000e+00 -0.00000000e+00 -9.63631570e-01  3.96984041e-01\n",
      "  -1.19273138e+00  3.18306535e-01  1.16050780e+00  5.18184543e-01\n",
      "  -1.27968132e+00  2.11181656e-01 -2.53959870e+00  0.00000000e+00\n",
      "  -5.56972027e-01  1.24680042e+00 -8.57991755e-01 -1.70788690e-01\n",
      "  -8.95832598e-01  5.75692892e-01  1.05756414e+00  9.48830366e-01\n",
      "   1.57228613e+00 -1.85831875e-01 -1.56580150e+00  1.50181472e+00\n",
      "  -1.73412478e+00  4.48609918e-01 -7.38935590e-01  4.69380975e-01\n",
      "  -2.55850840e+00  1.73807633e+00  8.43710124e-01  1.96319067e+00\n",
      "   0.00000000e+00  1.22900033e+00  1.65125418e+00  2.52623051e-01\n",
      "   0.00000000e+00 -2.30324447e-01 -7.70131230e-01 -1.64962649e+00\n",
      "  -9.92895424e-01 -1.19279706e+00 -9.28080902e-02  5.69227159e-01\n",
      "   1.04267657e+00  2.79578137e+00  1.44828284e+00  7.99890161e-01\n",
      "  -3.59825552e-01 -7.95371115e-01 -3.72605830e-01  2.09668249e-01\n",
      "  -4.10391617e+00  1.32798350e+00  7.58824110e-01  0.00000000e+00\n",
      "  -1.90729463e+00 -0.00000000e+00  9.98154640e-01 -1.31587422e+00\n",
      "  -1.01566243e+00 -7.25543618e-01 -1.98428643e+00 -1.14850549e-03\n",
      "   1.79060206e-01 -1.15784323e+00 -4.89572197e-01 -2.90054774e+00\n",
      "  -4.47448879e-01 -9.79613781e-01  9.76575017e-01 -1.27314651e+00\n",
      "  -1.23473513e+00  3.69097859e-01 -5.20502806e-01  1.52375534e-01\n",
      "  -2.97092963e-02 -2.50963068e+00  8.99976134e-01  3.50902170e-01\n",
      "  -5.64085484e-01  7.61450171e-01  1.54454279e+00 -4.58420962e-01\n",
      "   9.83230531e-01 -1.05665565e+00  4.28822711e-02  5.93909562e-01\n",
      "   0.00000000e+00  7.56680250e-01  0.00000000e+00 -1.55313051e+00\n",
      "   6.32276833e-01  0.00000000e+00  2.21517440e-02  1.10946882e+00\n",
      "  -1.35891186e-02  6.64127529e-01  9.76144731e-01 -5.95278084e-01\n",
      "  -9.90467906e-01  6.74121022e-01  7.96475589e-01 -0.00000000e+00\n",
      "   6.87495172e-01  6.73775852e-01 -8.64595771e-01 -1.54290557e+00\n",
      "  -1.02849603e+00 -2.64370412e-01 -1.57484579e+00 -3.51954587e-02\n",
      "   9.41173360e-03 -3.78923893e-01 -3.25508207e-01 -2.30373681e-01\n",
      "   1.97904015e+00  2.55144548e+00 -0.00000000e+00 -6.72705531e-01\n",
      "  -1.15985417e+00  0.00000000e+00  3.97839785e-01  2.44178921e-01\n",
      "  -2.70379829e+00 -3.92811984e-01  8.59942794e-01  3.01116610e+00\n",
      "   1.29894173e+00  0.00000000e+00  3.41052800e-01  2.45615220e+00\n",
      "  -1.04811788e+00 -1.18818462e+00 -1.39386341e-01 -3.60825896e-01\n",
      "   1.74214423e-01 -5.47197282e-01  8.18558514e-01  1.48844194e+00\n",
      "   2.03635383e+00 -6.96639270e-02  0.00000000e+00 -5.64022064e-01\n",
      "   1.15456784e+00 -7.68717647e-01  0.00000000e+00  1.50275517e+00\n",
      "   2.84691644e+00 -0.00000000e+00  1.70796327e-02 -5.31769216e-01\n",
      "   1.41828680e+00  4.17218894e-01  1.05568135e+00 -1.10363626e+00\n",
      "  -1.10939860e+00  0.00000000e+00  4.77346003e-01  8.65262270e-01\n",
      "  -3.66894007e-02  1.85075080e+00 -2.29390788e+00  1.63670272e-01\n",
      "   0.00000000e+00 -9.80437219e-01  0.00000000e+00  3.07572317e+00\n",
      "   6.60089612e-01  2.29253471e-01  1.63743091e+00 -5.20791650e-01\n",
      "  -3.47717196e-01  1.25709105e+00  6.30847096e-01 -2.45415998e+00\n",
      "   6.58653915e-01 -1.54934084e+00  1.76459920e+00 -1.92610574e+00\n",
      "  -6.30022883e-02  1.12084317e+00 -0.00000000e+00 -1.33164060e+00\n",
      "   1.72482324e+00  0.00000000e+00 -1.83164763e+00 -6.30891100e-02\n",
      "  -1.89356551e-01  7.52502322e-01  5.90690136e-01 -9.42758024e-01\n",
      "  -1.25074720e+00 -8.29319179e-01  2.83443898e-01  0.00000000e+00\n",
      "  -9.23027635e-01  5.93210161e-01  3.06288172e-02 -7.16624558e-01\n",
      "   7.02023268e-01 -2.46201716e-02  6.18950903e-01  7.28550076e-01\n",
      "   1.85954368e+00  1.63924098e+00 -3.14006418e-01  1.92859900e+00\n",
      "   1.14896357e+00 -8.41784656e-01  4.50079829e-01 -1.37225962e+00\n",
      "  -3.02790284e+00 -5.92602044e-02 -4.68976641e+00  0.00000000e+00\n",
      "  -2.59471871e-02  3.32146913e-01 -9.10653770e-01 -4.00779963e-01\n",
      "  -8.85861441e-02 -2.52736747e-01 -2.52857149e-01 -1.90006769e+00\n",
      "  -4.21643496e-01  3.13072681e-01 -1.24546134e+00 -1.64236885e-03\n",
      "   1.01238751e+00  6.69296265e-01 -4.12480325e-01  1.55128688e-01\n",
      "   1.10229373e+00 -8.24959993e-01 -1.76846325e+00  3.14833485e-02\n",
      "  -1.11385858e+00  6.26045108e-01  4.00872380e-01  1.74495661e+00\n",
      "   2.28831485e-01 -2.21559003e-01  2.50460434e+00 -5.36599576e-01\n",
      "  -1.45311630e+00 -4.78195578e-01  6.80958927e-01  3.59328240e-01\n",
      "  -0.00000000e+00  2.04088879e+00 -2.77928782e+00 -3.22234541e-01\n",
      "  -2.97599416e-02  1.04395378e+00  7.49803543e-01  2.93481374e+00\n",
      "   7.74712741e-01  3.15298766e-01 -1.51527548e+00  3.74897742e+00\n",
      "  -1.39635015e+00 -3.19929346e-02 -4.42107856e-01  8.92550111e-01\n",
      "   1.23131263e+00  1.33883524e+00 -8.67414892e-01  1.97908998e+00\n",
      "  -1.04585636e+00  4.00663227e-01  6.35017991e-01 -1.34174478e+00\n",
      "  -2.10164881e+00 -5.35498820e-02  1.20656478e+00 -1.16150248e+00\n",
      "   4.87148523e-01 -1.39007181e-01 -1.24524188e+00 -2.37597203e+00\n",
      "   8.72103930e-01  0.00000000e+00  2.83196878e+00 -6.92242861e-01\n",
      "  -7.02515960e-01 -6.43866718e-01  1.12997890e+00 -1.86576784e+00\n",
      "  -3.27936530e+00 -3.36875409e-01 -1.91482568e+00 -8.24635863e-01\n",
      "   0.00000000e+00  1.30896461e+00  1.00498199e+00 -3.07095610e-02\n",
      "   4.37987059e-01  1.68964779e+00  1.96373999e-01 -9.61070359e-01\n",
      "   5.68574309e-01 -1.12007117e+00 -5.92050731e-01 -5.32704592e-01\n",
      "   0.00000000e+00  9.75671589e-01  7.90958256e-02 -7.06551313e-01\n",
      "   4.80125308e-01  8.48985761e-02 -2.58988690e+00 -0.00000000e+00\n",
      "  -3.10531020e-01  2.64732599e-01 -1.01219404e+00  0.00000000e+00\n",
      "  -1.47283399e+00 -1.82837629e+00 -5.96890748e-01 -2.28330031e-01\n",
      "  -1.38680357e-02  1.17072439e+00  1.52902699e+00  1.77364469e+00\n",
      "  -2.25545073e+00 -0.00000000e+00 -3.18281746e+00 -1.02159274e+00\n",
      "  -1.82447016e+00 -1.68072557e+00  8.66628110e-01  1.32814991e+00\n",
      "   1.22424655e-01  0.00000000e+00  1.54715466e+00 -0.00000000e+00\n",
      "  -5.04663885e-01 -1.53848565e+00  2.88441390e-01  3.80589932e-01\n",
      "  -1.79571533e+00 -3.06308359e-01  1.99174024e-02 -3.42544961e+00\n",
      "  -9.87829089e-01  3.18017542e-01 -7.01652408e-01 -1.14958441e+00\n",
      "  -9.81908262e-01  9.83601153e-01 -4.39588815e-01  1.38816285e+00\n",
      "  -1.44178281e-02  8.95837545e-01  1.67212212e+00 -3.54353499e+00\n",
      "  -3.06399941e-01 -2.55170465e+00  9.65319455e-01  0.00000000e+00\n",
      "  -4.53715771e-01 -2.44367450e-01 -1.52774438e-01  1.32092369e+00\n",
      "  -1.90118814e+00  4.07065809e-01 -1.44858932e+00  2.00758195e+00\n",
      "   5.34236848e-01  9.96912837e-01 -1.01908934e+00  5.76641321e-01\n",
      "  -7.80607879e-01  9.57776964e-01 -0.00000000e+00 -7.40799978e-02\n",
      "   1.22466946e+00 -1.29996884e+00 -1.22778046e+00  7.61044085e-01\n",
      "   1.19134851e-01  9.93803561e-01  9.42130446e-01 -8.09259340e-02\n",
      "  -2.03985977e+00 -5.21089554e-01  3.78725439e-01 -2.33766150e+00\n",
      "   1.07767785e+00  4.82189536e-01  9.16344881e-01  8.60028267e-01\n",
      "   8.98884773e-01 -3.24229574e+00 -1.81166375e+00 -8.89852643e-01\n",
      "  -3.15433711e-01 -1.08572185e+00  0.00000000e+00  0.00000000e+00\n",
      "   3.06292146e-01 -7.13807225e-01  1.14263880e+00 -7.97948539e-01\n",
      "   2.75981855e+00 -4.45803761e-01 -2.30141640e-01  1.49021924e-01\n",
      "  -6.69775486e-01  8.96319985e-01  7.49032870e-02  1.23880506e+00]]\n",
      "fastformer\n"
     ]
    },
    {
     "name": "stderr",
     "output_type": "stream",
     "text": [
      "DEBUG:urllib3.connectionpool:https://huggingface.co:443 \"HEAD /huseinzol05/emotion-fastformer/resolve/main/model.pb HTTP/1.1\" 302 0\n",
      "DEBUG:filelock:Attempting to acquire lock 5810822224 on /Users/huseinzolkepli/.cache/huggingface/hub/4c1490b88b0c68a87a46a4d879b6c4190a05dddece20bb8b99cd6c9c22d288a6.0b944d952f851c61a6381480d163b466026777aa45d8dce10bec087274fe27f2.lock\n",
      "INFO:filelock:Lock 5810822224 acquired on /Users/huseinzolkepli/.cache/huggingface/hub/4c1490b88b0c68a87a46a4d879b6c4190a05dddece20bb8b99cd6c9c22d288a6.0b944d952f851c61a6381480d163b466026777aa45d8dce10bec087274fe27f2.lock\n",
      "DEBUG:urllib3.connectionpool:Starting new HTTPS connection (1): cdn-lfs.huggingface.co:443\n",
      "DEBUG:urllib3.connectionpool:https://cdn-lfs.huggingface.co:443 \"GET /repos/4e/0b/4e0b7bb7a46c8d45be4d5f58028d73cb5613fa0f89bb749be1aaf6992574ca03/c8a8191e04921be4fdb4dd9c9ca7bf38a831f328130f46c6de054aaa9883b0c7 HTTP/1.1\" 200 446183145\n"
     ]
    },
    {
     "data": {
      "application/vnd.jupyter.widget-view+json": {
       "model_id": "0b6fc17b6b774093a25658cd9e94d33d",
       "version_major": 2,
       "version_minor": 0
      },
      "text/plain": [
       "HBox(children=(FloatProgress(value=0.0, description='Downloading', max=446183145.0, style=ProgressStyle(descri…"
      ]
     },
     "metadata": {},
     "output_type": "display_data"
    },
    {
     "name": "stderr",
     "output_type": "stream",
     "text": [
      "DEBUG:filelock:Attempting to release lock 5810822224 on /Users/huseinzolkepli/.cache/huggingface/hub/4c1490b88b0c68a87a46a4d879b6c4190a05dddece20bb8b99cd6c9c22d288a6.0b944d952f851c61a6381480d163b466026777aa45d8dce10bec087274fe27f2.lock\n",
      "INFO:filelock:Lock 5810822224 released on /Users/huseinzolkepli/.cache/huggingface/hub/4c1490b88b0c68a87a46a4d879b6c4190a05dddece20bb8b99cd6c9c22d288a6.0b944d952f851c61a6381480d163b466026777aa45d8dce10bec087274fe27f2.lock\n",
      "DEBUG:urllib3.connectionpool:Starting new HTTPS connection (1): huggingface.co:443\n"
     ]
    },
    {
     "name": "stdout",
     "output_type": "stream",
     "text": [
      "\n"
     ]
    },
    {
     "name": "stderr",
     "output_type": "stream",
     "text": [
      "DEBUG:urllib3.connectionpool:https://huggingface.co:443 \"HEAD /huseinzol05/bpe/resolve/main/BERT.wordpiece.vocab HTTP/1.1\" 302 0\n",
      "DEBUG:filelock:Attempting to acquire lock 5812317264 on /Users/huseinzolkepli/.cache/huggingface/hub/ab691a3365b0604c2ff85d37b0d18da71f2902625cc0e3d155ba0daaad022d28.56e9b7c84b5728ef2bd26988df464395b9b22a0d983f10fc2ccd161d15d00374.lock\n",
      "INFO:filelock:Lock 5812317264 acquired on /Users/huseinzolkepli/.cache/huggingface/hub/ab691a3365b0604c2ff85d37b0d18da71f2902625cc0e3d155ba0daaad022d28.56e9b7c84b5728ef2bd26988df464395b9b22a0d983f10fc2ccd161d15d00374.lock\n",
      "DEBUG:urllib3.connectionpool:Starting new HTTPS connection (1): cdn-lfs.huggingface.co:443\n",
      "DEBUG:urllib3.connectionpool:https://cdn-lfs.huggingface.co:443 \"GET /huseinzol05/bpe/97bf8cb85edd8c2e9765b8b92e56c751c559e1e40687b8f303aa2ddc2c85f9c7 HTTP/1.1\" 200 224153\n"
     ]
    },
    {
     "data": {
      "application/vnd.jupyter.widget-view+json": {
       "model_id": "8e96b5d889dd41318d9097234697e433",
       "version_major": 2,
       "version_minor": 0
      },
      "text/plain": [
       "HBox(children=(FloatProgress(value=0.0, description='Downloading', max=224153.0, style=ProgressStyle(descripti…"
      ]
     },
     "metadata": {},
     "output_type": "display_data"
    },
    {
     "name": "stderr",
     "output_type": "stream",
     "text": [
      "DEBUG:filelock:Attempting to release lock 5812317264 on /Users/huseinzolkepli/.cache/huggingface/hub/ab691a3365b0604c2ff85d37b0d18da71f2902625cc0e3d155ba0daaad022d28.56e9b7c84b5728ef2bd26988df464395b9b22a0d983f10fc2ccd161d15d00374.lock\n",
      "INFO:filelock:Lock 5812317264 released on /Users/huseinzolkepli/.cache/huggingface/hub/ab691a3365b0604c2ff85d37b0d18da71f2902625cc0e3d155ba0daaad022d28.56e9b7c84b5728ef2bd26988df464395b9b22a0d983f10fc2ccd161d15d00374.lock\n",
      "DEBUG:urllib3.connectionpool:Starting new HTTPS connection (1): huggingface.co:443\n"
     ]
    },
    {
     "name": "stdout",
     "output_type": "stream",
     "text": [
      "\n"
     ]
    },
    {
     "name": "stderr",
     "output_type": "stream",
     "text": [
      "DEBUG:urllib3.connectionpool:https://huggingface.co:443 \"HEAD /huseinzol05/bpe/resolve/main/BERT.wordpiece HTTP/1.1\" 302 0\n",
      "DEBUG:filelock:Attempting to acquire lock 5927613392 on /Users/huseinzolkepli/.cache/huggingface/hub/7c92ece29e696a926c8e873be3219627a8905353ba00883c1e6bc1c8a9d3e7ae.56e9b7c84b5728ef2bd26988df464395b9b22a0d983f10fc2ccd161d15d00374.lock\n",
      "INFO:filelock:Lock 5927613392 acquired on /Users/huseinzolkepli/.cache/huggingface/hub/7c92ece29e696a926c8e873be3219627a8905353ba00883c1e6bc1c8a9d3e7ae.56e9b7c84b5728ef2bd26988df464395b9b22a0d983f10fc2ccd161d15d00374.lock\n",
      "DEBUG:urllib3.connectionpool:Starting new HTTPS connection (1): cdn-lfs.huggingface.co:443\n",
      "DEBUG:urllib3.connectionpool:https://cdn-lfs.huggingface.co:443 \"GET /huseinzol05/bpe/97bf8cb85edd8c2e9765b8b92e56c751c559e1e40687b8f303aa2ddc2c85f9c7 HTTP/1.1\" 200 224153\n"
     ]
    },
    {
     "data": {
      "application/vnd.jupyter.widget-view+json": {
       "model_id": "dcd1a990f79a4814b70f84f77e86e5df",
       "version_major": 2,
       "version_minor": 0
      },
      "text/plain": [
       "HBox(children=(FloatProgress(value=0.0, description='Downloading', max=224153.0, style=ProgressStyle(descripti…"
      ]
     },
     "metadata": {},
     "output_type": "display_data"
    },
    {
     "name": "stderr",
     "output_type": "stream",
     "text": [
      "DEBUG:filelock:Attempting to release lock 5927613392 on /Users/huseinzolkepli/.cache/huggingface/hub/7c92ece29e696a926c8e873be3219627a8905353ba00883c1e6bc1c8a9d3e7ae.56e9b7c84b5728ef2bd26988df464395b9b22a0d983f10fc2ccd161d15d00374.lock\n",
      "INFO:filelock:Lock 5927613392 released on /Users/huseinzolkepli/.cache/huggingface/hub/7c92ece29e696a926c8e873be3219627a8905353ba00883c1e6bc1c8a9d3e7ae.56e9b7c84b5728ef2bd26988df464395b9b22a0d983f10fc2ccd161d15d00374.lock\n",
      "DEBUG:frozen_graph:use_tensorrt: False\n",
      "DEBUG:frozen_graph:tensorrt_precision_mode: FP32\n",
      "DEBUG:frozen_graph:precision_mode: FP32\n",
      "DEBUG:frozen_graph:t5_graph: False\n",
      "DEBUG:frozen_graph:glowtts_graph: False\n",
      "DEBUG:frozen_graph:glowtts_multispeaker_graph: False\n",
      "INFO:frozen_graph:running Users/huseinzolkepli/.cache/huggingface/hub using device /device:CPU:0\n"
     ]
    },
    {
     "name": "stdout",
     "output_type": "stream",
     "text": [
      "\n"
     ]
    },
    {
     "name": "stderr",
     "output_type": "stream",
     "text": [
      "DEBUG:root:['jabatan', 'penjara', 'malaysia', 'diperuntukkan', 'rm', 'laksana', 'program', 'pembangunan', 'insan', 'banduan', 'majikan', 'bekas', 'banduan', 'bekas', 'penagih', 'dadah', 'potongan', 'cukai', 'tambahan']\n",
      "DEBUG:root:['Jabatan', 'Penjara', 'Malaysia', 'diperuntukkan', 'RM20', 'juta', 'laksana', 'program', 'pembangunan', 'Insan', 'kepada', 'banduan', '.', 'Majikan', 'yang', 'mengg', '##aji', 'bekas', 'banduan', ',', 'bekas', 'penagih', 'dadah', 'diberi', 'potongan', 'cukai', 'tambahan', 'sehingga', '2025', '.']\n"
     ]
    },
    {
     "name": "stdout",
     "output_type": "stream",
     "text": [
      "[{'anger': 0.07143424, 'fear': 3.651208e-06, 'happy': 0.92827916, 'love': 0.00012822877, 'sadness': 6.7752933e-07, 'surprise': 0.00015435557}]\n",
      "\n",
      "[[ 5.58768940e+00 -9.71621573e-01 -1.50091219e+00 -2.48607516e+00\n",
      "  -4.52920628e+00  2.60848999e-02 -4.28301573e+00 -2.50641680e+00\n",
      "   1.14257693e+00  3.34725094e+00 -1.25450790e+00 -5.33912039e+00\n",
      "   1.64314282e+00  9.63417888e-01  1.68838596e+00  1.44462919e+00\n",
      "  -1.11222291e+00  6.92151022e+00 -4.32127714e-03  5.67330074e+00\n",
      "  -2.42159724e+00 -2.18910265e+00 -2.37042665e+00  2.58783722e+00\n",
      "   1.70675457e+00 -7.13637471e-01 -1.98938787e+00 -4.24541807e+00\n",
      "  -1.02242017e+00  2.33484983e+00 -4.92799139e+00 -1.47153509e+00\n",
      "  -7.13274479e-01  3.11746836e+00  5.43203211e+00 -1.93420160e+00\n",
      "   3.03574753e+00  1.19418526e+00 -4.21243334e+00  8.50854301e+00\n",
      "   7.47288823e-01 -3.57808208e+00 -3.20211554e+00 -5.01720476e+00\n",
      "  -1.40197885e+00  2.39328909e+00  2.17013025e+00 -2.76187277e+00\n",
      "  -8.75399172e-01  4.56225586e+00  2.48674417e+00  1.49586642e+00\n",
      "   1.68074155e+00 -1.77895713e+00  4.29153347e+00 -1.62367496e+01\n",
      "   8.16539884e-01 -4.33245850e+00 -2.55168748e+00 -4.32601213e+00\n",
      "  -9.21426654e-01  4.40974683e-01  1.28100860e+00 -1.20992136e+00\n",
      "   1.02771127e+00 -5.23339868e-01 -2.76188898e+00 -2.50447094e-02\n",
      "  -2.09581524e-01 -4.10530663e+00  4.14555740e+00 -1.10911536e+00\n",
      "  -3.73497176e+00  1.72619128e+00  3.38312960e+00  3.11054707e+00\n",
      "   3.35617447e+00  1.89866340e+00  8.10556030e+00  1.59394950e-01\n",
      "   1.69511604e+00 -2.99094367e+00 -2.39057350e+00  2.97792578e+00\n",
      "  -1.95192158e+00 -1.23022807e+00  3.16816020e+00 -3.93097067e+00\n",
      "  -1.38775384e+00  4.97215509e+00 -1.84191346e+00  7.02329779e+00\n",
      "   9.98118401e-01  7.83280373e-01  4.14085054e+00 -3.41029263e+00\n",
      "  -2.84864354e+00 -2.83552384e+00 -3.64613056e-01  1.07885647e+00\n",
      "   3.54725003e+00 -3.46568084e+00 -3.06643701e+00 -1.12123862e-01\n",
      "  -1.37738717e+00 -5.43124795e-01  4.60692376e-01 -2.20996928e+00\n",
      "   5.02343607e+00 -3.45112348e+00  3.08423615e+00  1.93045044e+00\n",
      "   2.20762551e-01  2.24170119e-01 -9.84552503e-01  3.65259290e+00\n",
      "   1.56756878e+00  2.62922049e-03 -1.16941166e+00 -1.88703430e+00\n",
      "   1.42365837e+00 -1.98739439e-01 -3.59754944e+00  1.74044311e+00\n",
      "  -1.67422616e+00  1.36223030e+00  3.83596015e+00 -6.73582017e-01\n",
      "   6.64527059e-01  1.14109874e-01 -5.12698078e+00  2.16486764e+00\n",
      "   2.95286059e+00 -1.12598681e+00  1.07689828e-01  9.25728559e-01\n",
      "  -1.40454888e+00 -1.43909883e+00  1.73538387e-01 -7.81607032e-02\n",
      "   6.90961790e+00 -2.49179053e+00  8.13994169e-01  1.07343048e-01\n",
      "  -1.43270397e+00  2.30604053e+00  2.04602742e+00  1.47150981e+00\n",
      "   4.33280325e+00  2.62694883e+00 -1.80465186e+00 -5.93144178e-01\n",
      "  -5.86911500e-01  1.37558532e+00 -1.43763590e+00 -4.19465452e-03\n",
      "  -9.50969696e-01 -1.19205117e+00 -2.39335918e+00  3.09215641e+00\n",
      "  -1.28909993e+00  4.33170557e+00  5.31220436e-02  5.43632412e+00\n",
      "   1.79235148e+00  3.61301541e+00  2.16692662e+00  2.69995046e+00\n",
      "   1.10654497e+00 -3.73251319e+00  3.73427963e+00  2.86538959e+00\n",
      "   4.08089161e-02 -5.62509179e-01  7.04264593e+00  1.87589717e+00\n",
      "  -4.08947897e+00 -1.84788942e+00 -3.31608725e+00 -3.12589121e+00\n",
      "  -5.99231601e-01  4.24125338e+00 -2.42862201e+00  2.69249272e+00\n",
      "  -3.02961540e+00  4.33513880e+00  1.01276565e+00 -4.79814577e+00\n",
      "  -4.37221318e-01  3.56603050e+00  7.86717701e+00 -2.71828055e+00\n",
      "  -3.96257353e+00  1.46888912e+00  2.75885034e+00 -5.05369616e+00\n",
      "   2.44196630e+00 -1.81658375e+00  6.51949501e+00 -3.48536301e+00\n",
      "  -3.37723970e+00  7.82736063e-01 -1.85198474e+00 -4.05625135e-01\n",
      "   3.61385512e+00  2.84376359e+00  3.94288778e+00  4.21132445e-02\n",
      "  -2.73896426e-01 -2.45563716e-01  2.15672612e+00  7.67573476e-01\n",
      "   3.49362206e+00 -2.95093155e+00  5.78092992e-01 -1.75117826e+00\n",
      "   4.28869295e+00 -5.98839903e+00  3.29145002e+00 -7.79164433e-01\n",
      "   3.20283413e+00  5.29135704e+00  3.55658865e+00  1.31060195e+00\n",
      "   1.02139187e+00 -2.42271900e+00  2.29558825e+00 -6.04468393e+00\n",
      "  -3.15657949e+00 -2.20495701e+00 -4.08690095e-01 -9.09371614e-01\n",
      "  -2.78160501e+00  2.88523197e-01  7.69916654e-01  2.92486519e-01\n",
      "  -1.43594694e+00  1.07821441e+00  1.66105306e+00 -2.90371776e+00\n",
      "  -1.62383723e+00 -3.19943237e+00  3.42028069e+00  1.09151459e+00\n",
      "   2.46010733e+00  9.39276814e-02 -3.47912598e+00 -2.95676255e+00\n",
      "   5.69694662e+00  1.20911038e+00 -2.48016024e+00  3.39382172e+00\n",
      "  -2.19797850e-01 -1.86247325e+00  2.13702559e+00  1.88601708e+00\n",
      "   2.44965029e+00  2.41225648e+00  6.11223841e+00 -3.20635021e-01\n",
      "   9.44557548e-01  2.78010798e+00 -2.16336823e+00 -2.15785408e+00\n",
      "   1.54103827e+00  1.56438148e+00 -2.10104680e+00  3.91556293e-01\n",
      "  -3.37712359e+00  2.50971913e-02  9.09068584e-02  5.43057489e+00\n",
      "  -1.32250166e+00  1.26184434e-01 -1.66206264e+00  3.42282438e+00\n",
      "   4.07353926e+00  1.17399597e+00 -9.25476670e-01  1.27442539e+00\n",
      "  -1.92465782e+00 -1.13049197e+00  1.01578379e+00  4.39365768e+00\n",
      "  -1.41800439e+00  1.55510521e+00  1.86176634e+00  6.20884657e-01\n",
      "  -3.27097726e+00  6.48756838e+00 -2.18878555e+00 -6.05404437e-01\n",
      "   3.08451384e-01 -1.89712942e-01 -3.17733765e+00  1.74971008e+00\n",
      "  -1.68070352e+00 -2.27097005e-01 -4.67522240e+00  2.63320947e+00\n",
      "   4.26843071e+00 -3.30202103e+00  2.00988591e-01 -2.00090837e+00\n",
      "  -1.37207723e+00 -1.80156708e-01  2.17498899e+00  5.16822004e+00\n",
      "   3.00552583e+00  1.78647077e+00 -2.46767449e+00  3.35164547e+00\n",
      "  -1.03386950e+00  6.30612755e+00 -1.90996277e+00 -2.97010243e-01\n",
      "   9.78946567e-01  2.15868974e+00 -3.87600994e+00 -2.45724726e+00\n",
      "  -3.26728201e+00 -6.78610504e-01 -5.29485083e+00  3.81445456e+00\n",
      "  -9.56590652e-01 -1.66863990e+00  2.70863104e+00  2.00622249e+00\n",
      "   3.38964522e-01 -3.29535604e+00 -1.19960606e-02 -1.49593091e+00\n",
      "   5.84660912e+00 -1.89380300e+00 -4.60830307e+00 -1.59709382e+00\n",
      "  -4.56558514e+00 -4.43824708e-01  2.34392476e+00  2.96397716e-01\n",
      "  -2.24611473e+00  2.55234301e-01  1.20124125e+00 -4.59269285e+00\n",
      "  -2.38842249e+00  1.38777399e+00 -5.84669495e+00  4.22048759e+00\n",
      "  -2.23343396e+00  2.24431604e-01 -2.50159001e+00 -3.57193160e+00\n",
      "  -3.11741829e-02 -1.90215719e+00  5.42504549e+00 -2.91239429e+00\n",
      "  -1.12599730e-02  2.35322666e+00  6.77348256e-01  6.14012337e+00\n",
      "  -3.29640579e+00 -7.42122948e-01 -3.67411017e-01  1.11454332e+00\n",
      "  -3.11902785e+00  4.21862173e+00 -3.37402391e+00  4.85691214e+00\n",
      "   1.91786993e+00  1.39548707e+00 -3.86953974e+00  6.06498718e+00\n",
      "   2.31091768e-01 -1.26945972e-03  2.61160469e+00 -3.86394113e-02\n",
      "   1.03736329e+00 -2.99238622e-01 -1.81887567e+00 -1.92200923e+00\n",
      "  -3.00334930e+00 -2.98196822e-01 -2.52248502e+00  2.90585446e+00\n",
      "  -5.31419468e+00 -2.17478538e+00 -7.83801913e-01 -2.49655843e+00\n",
      "   9.63267922e-01  1.22536588e+00 -2.98029923e+00  3.91389072e-01\n",
      "  -1.23615861e+00 -3.93606925e+00 -3.70348960e-01  5.64878464e+00\n",
      "   1.24016786e+00  7.81036735e-01 -4.18443966e+00 -1.31248426e+00\n",
      "  -8.70714903e-01  9.28108931e-01 -8.08453560e-01 -2.89892435e+00\n",
      "  -7.06715345e-01 -1.63794339e+00  2.54529285e+00  2.44475007e+00\n",
      "   3.63667727e+00 -5.82534313e-01 -5.15433490e-01 -5.69369602e+00\n",
      "  -1.23766696e+00  1.01251817e+00 -6.02549851e-01 -3.91412759e+00\n",
      "  -3.28096724e+00  1.80793691e+00  4.92143726e+00  4.56870466e-01\n",
      "   1.08043981e+00  5.60289204e-01 -4.03324795e+00  4.21468347e-01\n",
      "  -1.79682231e+00  8.16804647e-01 -9.26526487e-01 -2.54029655e+00\n",
      "   1.60121894e+00  2.11053371e-01 -7.01960862e-01  1.03943634e+00\n",
      "  -4.96632636e-01  1.35895050e+00 -1.33979094e+00 -1.21732450e+00\n",
      "   3.36800963e-01 -8.60457182e-01 -1.84326768e-01  3.95635796e+00\n",
      "   1.66157818e+00 -2.67740941e+00  3.43385398e-01 -1.36486685e+00\n",
      "   7.14808941e-01 -1.29537773e+00 -9.97031331e-01 -4.72805643e+00\n",
      "  -2.12527609e+00 -7.80149746e+00  5.02199030e+00  4.89992857e+00\n",
      "   2.95757866e+00  4.67895269e-02 -5.39367104e+00 -1.40369396e+01\n",
      "  -2.16487217e+00 -6.59049392e-01 -1.35888875e+00 -2.87269855e+00\n",
      "  -1.27546120e+00  5.92753839e+00 -2.82184660e-01 -1.16831136e+00\n",
      "   5.52003801e-01  5.27274311e-01 -8.88586640e-01 -3.35459769e-01\n",
      "   5.74139476e-01 -1.28220403e+00  2.26344061e+00 -1.19182694e+00\n",
      "  -1.99169016e+00 -3.57294035e+00 -2.38247871e+00 -8.27874899e-01\n",
      "  -4.10048151e+00 -6.32874429e-01  1.73838735e+00 -2.21278358e+00\n",
      "   6.76099956e-02  9.51949000e-01  1.69057131e+00  4.65746224e-02\n",
      "   5.45119524e-01 -4.70829010e-03 -8.14126015e-01 -4.41559601e+00\n",
      "  -2.68251491e+00 -6.58695745e+00 -5.20211554e+00 -8.64856839e-02\n",
      "   9.63044071e+00 -1.09045602e-01 -4.47133124e-01 -3.04508471e+00\n",
      "  -3.78355002e+00 -3.65083814e-02 -5.31309891e+00  2.26610112e+00\n",
      "   1.07888532e+00 -1.63064313e+00  1.40617299e+00  5.70858574e+00\n",
      "   3.16889024e+00  7.21551776e-01 -4.90763855e+00  6.39732122e-01\n",
      "   1.63789463e+00  1.11539900e+00 -7.86945999e-01 -3.74729729e+00\n",
      "   2.62895918e+00  9.01303291e-02 -8.85466993e-01 -2.76191926e+00\n",
      "   4.49378729e-01 -2.32911420e+00 -3.16822767e+00  5.49061346e+00\n",
      "  -2.37126613e+00  9.04239655e-01 -3.28436565e+00  1.76069474e+00\n",
      "   4.48811865e+00  1.27400994e+00 -1.47324419e+00 -2.51246858e+00\n",
      "   1.34270597e+00  3.19415331e-02 -5.22583294e+00 -3.68431497e+00\n",
      "   1.94376957e+00 -1.86467016e+00  9.78481889e-01  2.74122000e+00\n",
      "  -4.80904400e-01 -2.22594786e+00  2.18466550e-01  4.16969359e-01\n",
      "   1.94461846e+00 -2.23225266e-01  1.59628868e-01 -2.76810932e+00\n",
      "  -1.80467904e+00  4.06344652e+00  1.36469197e+00  5.18919754e+00\n",
      "   1.29060268e+00 -6.24661088e-01  5.93110418e+00 -7.57942057e+00\n",
      "   1.91383886e+00  1.97914338e+00 -8.64522696e-01 -3.88561440e+00\n",
      "   1.36636615e+00 -2.67644715e+00 -3.25955439e+00 -2.26291627e-01\n",
      "  -4.81926060e+00  1.14659786e-01 -6.10631406e-02 -1.29031944e+00\n",
      "   4.39876127e+00 -4.14473724e+00 -4.96031880e-01 -8.01122189e+00\n",
      "   5.44855785e+00 -3.17102671e+00 -4.62335396e+00  3.05776000e+00\n",
      "   3.96638250e+00  5.15634298e+00  1.93277335e+00 -1.08444810e+00\n",
      "  -5.49978685e+00  1.96476579e+00 -4.52429175e-01  1.85868382e-01\n",
      "   4.14466715e+00  1.85482919e+00 -6.02365589e+00 -3.93097305e+00\n",
      "   4.93891031e-01 -1.62235606e+00 -3.58750248e+00  1.33342195e+00\n",
      "   2.41076159e+00  8.34900260e-01  3.46735597e+00  6.34212494e+00\n",
      "   5.75657368e+00 -2.89965463e+00 -1.29018068e+00 -1.77082300e+00\n",
      "   1.26003730e+00  9.51307178e-01 -1.97380245e-01 -3.35363060e-01\n",
      "  -6.86454058e-01  7.17505872e-01  8.14292049e+00 -9.58959758e-01\n",
      "   2.76599669e+00  4.02521372e+00 -3.06190467e+00 -2.44353175e+00\n",
      "   2.02518582e+00  6.64784014e-02 -3.75049448e+00 -6.13618612e-01\n",
      "   2.38602543e+00  3.95853925e+00 -2.10014868e+00  3.74625504e-01\n",
      "  -9.97476399e-01 -7.25929356e+00  5.00626922e-01  1.45220733e+00\n",
      "  -3.44516993e+00  3.03961039e-01  5.02567887e-02 -4.22796822e+00\n",
      "  -2.64651990e+00  1.18805294e+01  2.75438279e-01  9.26536620e-02\n",
      "   6.19349837e-01 -1.59589279e+00  2.31439686e+00 -8.87301445e-01\n",
      "  -2.77035761e+00 -2.00643349e+00 -3.61227584e+00 -2.33496591e-01\n",
      "   1.54577410e+00  2.71447682e+00  1.77241015e+00  1.09307313e+00\n",
      "  -8.73277283e+00  1.02144969e+00  4.86222923e-01 -3.38653588e+00\n",
      "  -3.27423155e-01 -4.48093534e-01  1.53555846e+00  1.12998891e+00\n",
      "  -8.45988941e+00  4.25030279e+00 -1.87217319e+00 -3.85050297e+00\n",
      "  -2.27419049e-01 -1.05177450e+00 -3.94285381e-01 -1.56778574e-01\n",
      "   1.67791486e+00  1.14269865e+00 -6.66707814e-01  1.97962034e+00\n",
      "   2.04029009e-01  1.96838641e+00 -3.51441884e+00 -4.88956261e+00\n",
      "   9.44840133e-01 -1.04064941e+00  1.39956546e+00 -5.11127615e+00\n",
      "   2.38059616e+00  5.98161888e+00 -1.70086372e+00  1.19477963e+00\n",
      "  -1.74725413e+00  1.07777500e+00  2.17846370e+00  9.21594262e-01\n",
      "  -4.33415651e+00  2.16887665e+00 -5.54352045e+00 -1.28595090e+00\n",
      "   6.20638037e+00 -2.96343923e+00 -4.37083393e-01 -5.49338055e+00\n",
      "  -1.08168125e+00 -2.34892321e+00  9.39105749e-02 -1.24256718e+00\n",
      "  -2.06472850e+00  3.86703205e+00 -2.55229449e+00 -5.29542494e+00\n",
      "   9.70721006e-01 -2.94467592e+00 -3.41590476e+00 -5.36278963e+00\n",
      "  -6.84767723e+00  5.54224968e+00  5.66536045e+00  4.77508926e+00\n",
      "   2.25957680e+00 -2.57820821e+00 -8.45600367e-02 -5.27578115e-01\n",
      "   1.70832324e+00 -3.03008795e+00  2.04961205e+00 -1.64869153e+00\n",
      "   3.61712956e+00  1.37912023e+00  2.93485427e+00  1.43959475e+00\n",
      "   3.96584702e+00 -3.55409360e+00 -6.13794327e+00  7.88163304e-01\n",
      "   2.77133167e-01 -5.14075613e+00 -5.07341909e+00 -4.76133633e+00\n",
      "  -3.12957406e+00  1.15720773e+00 -2.35977936e+00 -1.84005928e+00\n",
      "   1.36476249e-01  6.20112848e+00  1.94276655e+00  4.69624662e+00\n",
      "   1.86216414e-01 -1.10349643e+00 -9.58817959e-01  4.42190552e+00\n",
      "   7.15354681e+00 -3.33933163e+00  2.26938069e-01 -1.32745826e+00\n",
      "  -2.12192798e+00  5.54511356e+00 -3.13445830e+00 -3.57190919e+00\n",
      "   2.37381744e+00 -5.21259928e+00  5.17637300e+00 -4.52110672e+00\n",
      "   1.05737090e+00 -5.05340695e-01  6.03621781e-01 -4.38527584e+00\n",
      "   2.66724229e+00 -6.73172355e-01 -7.17631102e-01  4.45777750e+00\n",
      "  -4.35521030e+00  3.05079889e+00 -5.15695035e-01  5.08581758e-01\n",
      "  -2.24232048e-01 -3.42473626e-01 -5.83588123e-01 -9.32293653e-01\n",
      "   1.73574996e+00  2.46639943e+00  1.17618814e-01 -1.14775634e+00\n",
      "  -5.06753445e-01 -1.72361422e+00 -6.09479237e+00  5.16815424e-01]]\n"
     ]
    },
    {
     "name": "stderr",
     "output_type": "stream",
     "text": [
      "DEBUG:urllib3.connectionpool:Starting new HTTPS connection (1): huggingface.co:443\n"
     ]
    },
    {
     "name": "stdout",
     "output_type": "stream",
     "text": [
      "tiny-fastformer\n"
     ]
    },
    {
     "name": "stderr",
     "output_type": "stream",
     "text": [
      "DEBUG:urllib3.connectionpool:https://huggingface.co:443 \"HEAD /huseinzol05/emotion-tiny-fastformer/resolve/main/model.pb HTTP/1.1\" 302 0\n",
      "DEBUG:filelock:Attempting to acquire lock 5259074896 on /Users/huseinzolkepli/.cache/huggingface/hub/81b04fbf98050be09d15f4dc9980d4e3689e60b6ec0c9c6381e8d86e888ec093.8e3b5105aaa039b0a43a6f10bfd6baec941789055fa21f8ba217dd3b2d7ce90c.lock\n",
      "INFO:filelock:Lock 5259074896 acquired on /Users/huseinzolkepli/.cache/huggingface/hub/81b04fbf98050be09d15f4dc9980d4e3689e60b6ec0c9c6381e8d86e888ec093.8e3b5105aaa039b0a43a6f10bfd6baec941789055fa21f8ba217dd3b2d7ce90c.lock\n",
      "DEBUG:urllib3.connectionpool:Starting new HTTPS connection (1): cdn-lfs.huggingface.co:443\n",
      "DEBUG:urllib3.connectionpool:https://cdn-lfs.huggingface.co:443 \"GET /repos/81/6f/816f6a2438ba271c0b47e8e619c46398dc694e0f46ba2847e5cc486ac5875dc3/d0f77f857beb64012ad788dd0344aa9828e662e8ce5f731fcb3c1012e46aa790 HTTP/1.1\" 200 77274584\n"
     ]
    },
    {
     "data": {
      "application/vnd.jupyter.widget-view+json": {
       "model_id": "40e1e191cec0494ea394a234941eab9c",
       "version_major": 2,
       "version_minor": 0
      },
      "text/plain": [
       "HBox(children=(FloatProgress(value=0.0, description='Downloading', max=77274584.0, style=ProgressStyle(descrip…"
      ]
     },
     "metadata": {},
     "output_type": "display_data"
    },
    {
     "name": "stderr",
     "output_type": "stream",
     "text": [
      "DEBUG:filelock:Attempting to release lock 5259074896 on /Users/huseinzolkepli/.cache/huggingface/hub/81b04fbf98050be09d15f4dc9980d4e3689e60b6ec0c9c6381e8d86e888ec093.8e3b5105aaa039b0a43a6f10bfd6baec941789055fa21f8ba217dd3b2d7ce90c.lock\n",
      "INFO:filelock:Lock 5259074896 released on /Users/huseinzolkepli/.cache/huggingface/hub/81b04fbf98050be09d15f4dc9980d4e3689e60b6ec0c9c6381e8d86e888ec093.8e3b5105aaa039b0a43a6f10bfd6baec941789055fa21f8ba217dd3b2d7ce90c.lock\n",
      "DEBUG:urllib3.connectionpool:Starting new HTTPS connection (1): huggingface.co:443\n"
     ]
    },
    {
     "name": "stdout",
     "output_type": "stream",
     "text": [
      "\n"
     ]
    },
    {
     "name": "stderr",
     "output_type": "stream",
     "text": [
      "DEBUG:urllib3.connectionpool:https://huggingface.co:443 \"HEAD /huseinzol05/bpe/resolve/main/BERT.wordpiece.vocab HTTP/1.1\" 302 0\n",
      "DEBUG:filelock:Attempting to acquire lock 5828896976 on /Users/huseinzolkepli/.cache/huggingface/hub/ab691a3365b0604c2ff85d37b0d18da71f2902625cc0e3d155ba0daaad022d28.56e9b7c84b5728ef2bd26988df464395b9b22a0d983f10fc2ccd161d15d00374.lock\n",
      "INFO:filelock:Lock 5828896976 acquired on /Users/huseinzolkepli/.cache/huggingface/hub/ab691a3365b0604c2ff85d37b0d18da71f2902625cc0e3d155ba0daaad022d28.56e9b7c84b5728ef2bd26988df464395b9b22a0d983f10fc2ccd161d15d00374.lock\n",
      "DEBUG:urllib3.connectionpool:Starting new HTTPS connection (1): cdn-lfs.huggingface.co:443\n",
      "DEBUG:urllib3.connectionpool:https://cdn-lfs.huggingface.co:443 \"GET /huseinzol05/bpe/97bf8cb85edd8c2e9765b8b92e56c751c559e1e40687b8f303aa2ddc2c85f9c7 HTTP/1.1\" 200 224153\n"
     ]
    },
    {
     "data": {
      "application/vnd.jupyter.widget-view+json": {
       "model_id": "ff22d67bdc2a41f68dd8861bb87d08ae",
       "version_major": 2,
       "version_minor": 0
      },
      "text/plain": [
       "HBox(children=(FloatProgress(value=0.0, description='Downloading', max=224153.0, style=ProgressStyle(descripti…"
      ]
     },
     "metadata": {},
     "output_type": "display_data"
    },
    {
     "name": "stderr",
     "output_type": "stream",
     "text": [
      "DEBUG:filelock:Attempting to release lock 5828896976 on /Users/huseinzolkepli/.cache/huggingface/hub/ab691a3365b0604c2ff85d37b0d18da71f2902625cc0e3d155ba0daaad022d28.56e9b7c84b5728ef2bd26988df464395b9b22a0d983f10fc2ccd161d15d00374.lock\n",
      "INFO:filelock:Lock 5828896976 released on /Users/huseinzolkepli/.cache/huggingface/hub/ab691a3365b0604c2ff85d37b0d18da71f2902625cc0e3d155ba0daaad022d28.56e9b7c84b5728ef2bd26988df464395b9b22a0d983f10fc2ccd161d15d00374.lock\n",
      "DEBUG:urllib3.connectionpool:Starting new HTTPS connection (1): huggingface.co:443\n"
     ]
    },
    {
     "name": "stdout",
     "output_type": "stream",
     "text": [
      "\n"
     ]
    },
    {
     "name": "stderr",
     "output_type": "stream",
     "text": [
      "DEBUG:urllib3.connectionpool:https://huggingface.co:443 \"HEAD /huseinzol05/bpe/resolve/main/BERT.wordpiece HTTP/1.1\" 302 0\n",
      "DEBUG:filelock:Attempting to acquire lock 5823495248 on /Users/huseinzolkepli/.cache/huggingface/hub/7c92ece29e696a926c8e873be3219627a8905353ba00883c1e6bc1c8a9d3e7ae.56e9b7c84b5728ef2bd26988df464395b9b22a0d983f10fc2ccd161d15d00374.lock\n",
      "INFO:filelock:Lock 5823495248 acquired on /Users/huseinzolkepli/.cache/huggingface/hub/7c92ece29e696a926c8e873be3219627a8905353ba00883c1e6bc1c8a9d3e7ae.56e9b7c84b5728ef2bd26988df464395b9b22a0d983f10fc2ccd161d15d00374.lock\n",
      "DEBUG:urllib3.connectionpool:Starting new HTTPS connection (1): cdn-lfs.huggingface.co:443\n",
      "DEBUG:urllib3.connectionpool:https://cdn-lfs.huggingface.co:443 \"GET /huseinzol05/bpe/97bf8cb85edd8c2e9765b8b92e56c751c559e1e40687b8f303aa2ddc2c85f9c7 HTTP/1.1\" 200 224153\n"
     ]
    },
    {
     "data": {
      "application/vnd.jupyter.widget-view+json": {
       "model_id": "ac5309fd445f4313b8eef7bf82c7e2ab",
       "version_major": 2,
       "version_minor": 0
      },
      "text/plain": [
       "HBox(children=(FloatProgress(value=0.0, description='Downloading', max=224153.0, style=ProgressStyle(descripti…"
      ]
     },
     "metadata": {},
     "output_type": "display_data"
    },
    {
     "name": "stderr",
     "output_type": "stream",
     "text": [
      "DEBUG:filelock:Attempting to release lock 5823495248 on /Users/huseinzolkepli/.cache/huggingface/hub/7c92ece29e696a926c8e873be3219627a8905353ba00883c1e6bc1c8a9d3e7ae.56e9b7c84b5728ef2bd26988df464395b9b22a0d983f10fc2ccd161d15d00374.lock\n",
      "INFO:filelock:Lock 5823495248 released on /Users/huseinzolkepli/.cache/huggingface/hub/7c92ece29e696a926c8e873be3219627a8905353ba00883c1e6bc1c8a9d3e7ae.56e9b7c84b5728ef2bd26988df464395b9b22a0d983f10fc2ccd161d15d00374.lock\n",
      "DEBUG:frozen_graph:use_tensorrt: False\n",
      "DEBUG:frozen_graph:tensorrt_precision_mode: FP32\n",
      "DEBUG:frozen_graph:precision_mode: FP32\n",
      "DEBUG:frozen_graph:t5_graph: False\n",
      "DEBUG:frozen_graph:glowtts_graph: False\n",
      "DEBUG:frozen_graph:glowtts_multispeaker_graph: False\n",
      "INFO:frozen_graph:running Users/huseinzolkepli/.cache/huggingface/hub using device /device:CPU:0\n"
     ]
    },
    {
     "name": "stdout",
     "output_type": "stream",
     "text": [
      "\n"
     ]
    },
    {
     "name": "stderr",
     "output_type": "stream",
     "text": [
      "DEBUG:root:['jabatan', 'penjara', 'malaysia', 'diperuntukkan', 'rm', 'laksana', 'program', 'pembangunan', 'insan', 'banduan', 'majikan', 'bekas', 'banduan', 'bekas', 'penagih', 'dadah', 'potongan', 'cukai', 'tambahan']\n",
      "DEBUG:root:['Jabatan', 'Penjara', 'Malaysia', 'diperuntukkan', 'RM20', 'juta', 'laksana', 'program', 'pembangunan', 'Insan', 'kepada', 'banduan', '.', 'Majikan', 'yang', 'mengg', '##aji', 'bekas', 'banduan', ',', 'bekas', 'penagih', 'dadah', 'diberi', 'potongan', 'cukai', 'tambahan', 'sehingga', '2025', '.']\n"
     ]
    },
    {
     "name": "stdout",
     "output_type": "stream",
     "text": [
      "[{'anger': 0.00046363694, 'fear': 0.00023860726, 'happy': 0.99780416, 'love': 0.0014197901, 'sadness': 6.7430597e-06, 'surprise': 6.694284e-05}]\n",
      "\n",
      "[[ 4.56628710e-01 -2.10027575e+00  8.62133622e-01  1.52751112e+00\n",
      "   2.82527804e+00 -2.98093629e+00  2.37153977e-01  1.82931542e+00\n",
      "   5.48051655e-01 -2.33773136e+00 -3.07453108e+00  1.91149688e+00\n",
      "  -2.37222362e+00  4.86573577e-01 -3.26332378e+00 -1.28245378e+00\n",
      "  -8.01144898e-01 -9.32117999e-01  1.49516416e+00  3.54710913e+00\n",
      "   1.82107854e+00 -6.65187120e-01  2.28181362e-01 -7.65283465e-01\n",
      "  -6.61109835e-02 -9.07976031e-01 -1.61217570e+00 -8.51483583e-01\n",
      "  -3.34525913e-01  1.26293552e+00 -1.55914044e+00 -3.89854980e+00\n",
      "   6.61089659e-01 -2.05838847e+00 -1.29837239e+00  3.61050892e+00\n",
      "   9.42931771e-01 -2.10375100e-01  2.09803641e-01 -1.02077913e+00\n",
      "  -1.57786870e+00 -2.72746778e+00 -8.28936696e-01  1.99044967e+00\n",
      "   5.10834217e-01  2.57123423e+00  1.66142809e+00 -1.20726430e+00\n",
      "   1.26020515e+00 -4.48115683e+00 -1.31956625e+00 -1.59307790e+00\n",
      "  -4.15890634e-01 -5.36431885e+00  1.67625523e+00  4.72612381e-01\n",
      "   2.75130129e+00  3.56168151e-01  2.72274828e+00 -1.87734723e+00\n",
      "  -1.63603354e+00  1.33131170e+00  3.05239975e-01  2.51843619e+00\n",
      "   8.98595572e-01  2.50827742e+00  4.74888980e-01  1.77114797e+00\n",
      "  -2.98514843e+00  1.74635851e+00  1.51732707e+00 -1.36329144e-01\n",
      "   9.94687080e-01  3.50583601e+00  5.54201365e-01  2.27875423e+00\n",
      "   1.92592800e+00  2.04645729e+00  6.65876389e-01  1.44200420e+00\n",
      "  -2.78593779e+00  8.38066697e-01 -1.11081764e-01 -8.88614893e-01\n",
      "  -7.97280192e-01 -3.70612621e+00 -6.66013718e-01  1.39475787e+00\n",
      "   1.87565625e-01 -1.59347081e+00 -8.98593307e-01  1.61698747e+00\n",
      "  -1.02534413e-01  1.28586364e+00  8.70219707e-01 -2.91502881e+00\n",
      "   2.77206850e+00  2.39866543e+00  1.35264492e+00  1.76540303e+00\n",
      "  -3.03454340e-01 -6.86282516e-02  2.22537279e+00  2.55047631e+00\n",
      "  -2.12592530e+00  3.75879884e+00  2.67297745e+00 -2.03961492e+00\n",
      "  -4.79242802e-01  2.03981352e+00 -1.50896966e+00  6.83369756e-01\n",
      "   5.94438434e-01 -2.78084540e+00  2.76109505e+00  1.68092787e+00\n",
      "   8.54011297e-01 -7.79824734e-01  1.54838061e+00  2.99274683e+00\n",
      "  -1.18914115e+00  6.92545354e-01  4.25653875e-01  1.27140975e+00\n",
      "   3.64867973e+00 -2.45661631e-01 -1.46189928e-01 -1.09079075e+00\n",
      "  -1.74856079e+00  3.11864090e+00  4.55994511e+00 -2.31176186e+00\n",
      "  -7.94489026e-01  2.90492940e+00 -1.76549768e+00  2.88108873e+00\n",
      "  -2.86482120e+00 -1.17451549e-02  1.64878774e+00 -1.45476854e+00\n",
      "   3.29687214e+00 -2.13789940e+00 -1.90315032e+00 -1.53340793e+00\n",
      "  -2.13505769e+00  9.98286605e-01  1.60720611e+00  6.55220509e-01\n",
      "   2.47456169e+00 -9.16150689e-01 -2.41124368e+00 -3.51990032e+00\n",
      "  -3.10045362e-01 -3.10056996e+00 -1.26802778e+00  1.84855938e-01\n",
      "  -4.14260566e-01 -9.79647636e-02  7.78886735e-01  8.03059816e-01\n",
      "   3.22791433e+00  5.41593909e-01  2.37725067e+00  1.53338981e+00\n",
      "   2.23442864e+00 -6.17030144e-01 -2.80591786e-01  9.56137478e-01\n",
      "  -8.69957805e-02  1.16517782e-01 -1.45110071e-01  1.42999423e+00\n",
      "  -1.24191344e+00  4.53233719e-03  1.00111318e+00 -7.21745491e-02\n",
      "   1.94596887e+00  5.90400398e-01  1.57363701e+00 -2.40304494e+00\n",
      "  -2.12305456e-01  2.25132394e+00 -6.48865223e-01 -1.82959795e+00\n",
      "  -1.17395139e+00  2.14800477e+00  3.25481081e+00  4.89381409e+00\n",
      "   4.82065439e-01 -2.23050809e+00 -2.30237007e+00  2.19141579e+00\n",
      "   3.63176882e-01 -8.75402451e-01 -3.97526550e+00  3.08731651e+00\n",
      "   7.68550038e-02  2.39675760e+00 -3.02914500e-01  2.07293987e+00\n",
      "  -1.24436533e+00 -3.42569590e+00 -5.04006767e+00 -2.77228355e-02\n",
      "  -4.20043802e+00  4.02102232e+00  1.04000235e+00  2.47321010e+00\n",
      "  -7.60591626e-01  2.87543964e+00 -3.57493639e+00  1.81057286e+00\n",
      "  -1.19897008e+00  1.46978974e+00  4.05356121e+00  5.17435610e-01\n",
      "   8.61150026e-03  1.64782500e+00  2.19097996e+00 -3.41790915e+00\n",
      "  -3.78312373e+00 -4.06446695e+00 -2.73629832e+00  1.34678781e+00\n",
      "  -3.31642008e+00 -2.22074437e+00 -3.90315008e+00  2.84227550e-01\n",
      "   6.17757678e-01  3.91121411e+00  6.59718633e-01 -6.34248435e-01\n",
      "  -1.26738453e+00 -2.01082015e+00  7.92251229e-01  3.31609201e+00\n",
      "  -1.04509842e+00 -9.44462657e-01 -1.08681643e+00 -4.90149975e+00\n",
      "   9.09616113e-01 -9.72265899e-01  4.51283693e-01  1.56670141e+00\n",
      "   1.24417758e+00  1.66443133e+00  9.49415088e-01 -3.25494719e+00\n",
      "   4.77781355e-01 -1.11844635e+00 -2.25786328e+00 -2.59175837e-01\n",
      "  -1.18524075e+00  1.03802955e+00 -1.78070164e+00  5.61957479e-01\n",
      "   2.10345244e+00  1.46831870e+00  2.76127601e+00  9.59254265e-01\n",
      "   4.77241844e-01  2.63971162e+00  1.99432397e+00  3.04551005e-01\n",
      "   2.11417413e+00  2.63451481e+00  1.15855312e+00  1.81568599e+00\n",
      "   1.78992391e-01  5.95590770e-02 -1.95695186e+00 -7.72224069e-02\n",
      "  -8.81000936e-01  1.61260223e+00 -1.75227642e+00  4.30153561e+00\n",
      "   5.23753262e+00 -4.60325181e-01  1.40638304e+00 -1.96995115e+00\n",
      "  -2.32864141e+00  4.54039037e-01  1.68242133e+00 -5.68147063e-01\n",
      "   2.32192993e-01 -4.14379692e+00  2.45686197e+00  2.81294763e-01\n",
      "   3.60315704e+00  3.42209041e-01 -1.72060990e+00 -1.20577812e+00\n",
      "  -1.96099830e+00  1.98128903e+00  3.84705353e+00  3.85807186e-01\n",
      "  -1.63522959e+00 -6.32472515e-01 -3.80027080e+00 -2.18448830e+00\n",
      "  -2.21770906e+00 -3.48079967e+00  1.07794809e+00  1.25891316e+00\n",
      "  -3.62518072e-01  1.62509412e-01 -8.96916270e-01  2.84799910e+00\n",
      "   2.23788857e+00  5.04110527e+00 -2.33351374e+00  6.14039898e-01\n",
      "  -1.45095062e+00  3.62595749e+00  7.46318936e-01  1.63405585e+00\n",
      "  -1.06207550e+00  8.17620158e-01 -2.41288090e+00 -2.39419389e+00\n",
      "  -3.48737860e+00  3.66845965e+00  2.79636919e-01  2.39419651e+00\n",
      "  -7.20356226e-01 -1.41920197e+00  3.36757088e+00 -2.06969589e-01\n",
      "  -4.81394386e+00  2.08566236e+00 -2.02734137e+00 -3.45295620e+00\n",
      "  -1.22224057e+00  1.78705812e+00 -2.48556256e+00  5.04365826e+00]]\n"
     ]
    }
   ],
   "source": [
    "models = malaya.emotion.available_transformer()\n",
    "for m in models.index:\n",
    "    print(m)\n",
    "    model = malaya.emotion.transformer(model = m, gpu_limit = 0.3)\n",
    "    print(model.predict_proba([text]))\n",
    "    try:\n",
    "        print(model.predict_words(text, visualization = False))\n",
    "    except Exception as e:\n",
    "        print(e)\n",
    "    print(model.vectorize([text]))\n",
    "    # malaya.utils.delete_cache(f'emotion/{m}')\n",
    "    os.system('rm -f ~/.cache/huggingface/hub/*')\n",
    "    del model"
   ]
  },
  {
   "cell_type": "code",
   "execution_count": null,
   "metadata": {},
   "outputs": [],
   "source": [
    "malaya.utils.print_cache()"
   ]
  },
  {
   "cell_type": "code",
   "execution_count": null,
   "metadata": {},
   "outputs": [],
   "source": [
    "model = malaya.sentiment.multinomial()\n",
    "print(model.predict_proba(['anjeng']))\n",
    "malaya.utils.delete_cache('sentiment/multinomial')"
   ]
  },
  {
   "cell_type": "code",
   "execution_count": null,
   "metadata": {},
   "outputs": [],
   "source": [
    "models = malaya.sentiment.available_transformer()\n",
    "for m in models.index:\n",
    "    print(m)\n",
    "    model = malaya.sentiment.transformer(model = m, gpu_limit = 0.3)\n",
    "    print(model.predict_proba([text]))\n",
    "    try:\n",
    "        print(model.predict_words(text, visualization = False))\n",
    "    except Exception as e:\n",
    "        print(e)\n",
    "    print(model.vectorize([text]))\n",
    "    malaya.utils.delete_cache(f'sentiment-v2/{m}')\n",
    "    del model"
   ]
  },
  {
   "cell_type": "code",
   "execution_count": null,
   "metadata": {},
   "outputs": [],
   "source": [
    "models = malaya.relevancy.available_transformer()\n",
    "for m in models.index:\n",
    "    print(m)\n",
    "    model = malaya.relevancy.transformer(model = m, gpu_limit = 0.3)\n",
    "    print(model.predict_proba([text]))\n",
    "    try:\n",
    "        print(model.predict_words(text, visualization = False))\n",
    "    except Exception as e:\n",
    "        print(e)\n",
    "    print(model.vectorize([text]))\n",
    "    malaya.utils.delete_cache(f'relevancy/{m}')\n",
    "    del model"
   ]
  },
  {
   "cell_type": "code",
   "execution_count": null,
   "metadata": {},
   "outputs": [],
   "source": [
    "models = malaya.subjectivity.available_transformer()\n",
    "for m in models.index:\n",
    "    print(m)\n",
    "    model = malaya.subjectivity.transformer(model = m, gpu_limit = 0.3)\n",
    "    print(model.predict_proba([text], add_neutral = True))\n",
    "    try:\n",
    "        print(model.predict_words(text, visualization = False))\n",
    "    except Exception as e:\n",
    "        print(e)\n",
    "    print(model.vectorize([text]))\n",
    "    malaya.utils.delete_cache(f'subjectivity/{m}')\n",
    "    del model"
   ]
  },
  {
   "cell_type": "code",
   "execution_count": null,
   "metadata": {
    "scrolled": false
   },
   "outputs": [],
   "source": [
    "models = malaya.toxicity.available_transformer()\n",
    "for m in models.index:\n",
    "    print(m)\n",
    "    model = malaya.toxicity.transformer(model = m, gpu_limit = 0.3)\n",
    "    print(model.predict_proba([text]))\n",
    "    try:\n",
    "        print(model.predict_words(text, visualization = False))\n",
    "    except Exception as e:\n",
    "        print(e)\n",
    "    print(model.vectorize([text]))\n",
    "    malaya.utils.delete_cache(f'toxicity/{m}')\n",
    "    del model"
   ]
  },
  {
   "cell_type": "code",
   "execution_count": null,
   "metadata": {},
   "outputs": [],
   "source": [
    "model = malaya.toxicity.multinomial()\n",
    "print(model.predict_proba(['anjeng']))\n",
    "malaya.utils.delete_cache('toxicity/multinomial')"
   ]
  },
  {
   "cell_type": "code",
   "execution_count": null,
   "metadata": {},
   "outputs": [],
   "source": []
  }
 ],
 "metadata": {
  "kernelspec": {
   "display_name": "Python 3",
   "language": "python",
   "name": "python3"
  },
  "language_info": {
   "codemirror_mode": {
    "name": "ipython",
    "version": 3
   },
   "file_extension": ".py",
   "mimetype": "text/x-python",
   "name": "python",
   "nbconvert_exporter": "python",
   "pygments_lexer": "ipython3",
   "version": "3.7.7"
  },
  "varInspector": {
   "cols": {
    "lenName": 16,
    "lenType": 16,
    "lenVar": 40
   },
   "kernels_config": {
    "python": {
     "delete_cmd_postfix": "",
     "delete_cmd_prefix": "del ",
     "library": "var_list.py",
     "varRefreshCmd": "print(var_dic_list())"
    },
    "r": {
     "delete_cmd_postfix": ") ",
     "delete_cmd_prefix": "rm(",
     "library": "var_list.r",
     "varRefreshCmd": "cat(var_dic_list()) "
    }
   },
   "types_to_exclude": [
    "module",
    "function",
    "builtin_function_or_method",
    "instance",
    "_Feature"
   ],
   "window_display": false
  }
 },
 "nbformat": 4,
 "nbformat_minor": 5
}
