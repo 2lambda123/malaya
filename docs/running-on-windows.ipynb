{
 "cells": [
  {
   "cell_type": "markdown",
   "metadata": {},
   "source": [
    "# Running on Windows"
   ]
  },
  {
   "cell_type": "markdown",
   "metadata": {},
   "source": [
    "### UnicodeDecodeError: 'charmap' codec can't decode byte\n",
    "\n",
    "To solve this,\n",
    "\n",
    "Windows Settings > Administrative language settings > Change system locale.\n",
    "\n",
    "Checked Beta: Use Unicode UTF-8 for worldwide language support.\n",
    "\n",
    "Restarted, everything works well.\n",
    "\n",
    "Full dicussion check [issue 25](https://github.com/huseinzol05/Malaya/issues/25)."
   ]
  },
  {
   "cell_type": "markdown",
   "metadata": {},
   "source": [
    "### youtokentome failed to build\n",
    "\n",
    "[YouTokenToMe](https://github.com/VKCOM/YouTokenToMe) required cython to compile and usually Windows users will break on this part, so we need to install Malaya without [YouTokenToMe](https://github.com/VKCOM/YouTokenToMe).\n",
    "\n",
    "```bash\n",
    "pip install malaya --no-deps\n",
    "pip install tensorflow==1.15\n",
    "pip install bert-tensorflow albert-tensorflow\n",
    "```\n",
    "\n",
    "If we skipped [YouTokenToMe](https://github.com/VKCOM/YouTokenToMe), we not able to use,\n",
    "\n",
    "1. language-detection module, https://malaya.readthedocs.io/en/latest/load-language-detection.html\n",
    "2. True Case module, https://malaya.readthedocs.io/en/latest/load-true-case.html"
   ]
  },
  {
   "cell_type": "markdown",
   "metadata": {},
   "source": [
    "### Unable to use any T5 models\n",
    "\n",
    "T5 depends on tensorflow-text, currently there is no official tensorflow-text binary released for Windows. So no T5 model for Windows users.\n",
    "\n",
    "List T5 models,\n",
    "\n",
    "1. [malaya.summarization.abstractive.t5](https://malaya.readthedocs.io/en/latest/load-abstractive.html#load-t5)\n",
    "2. [malaya.generator.t5](https://malaya.readthedocs.io/en/latest/load-generator.html#load-t5)\n",
    "3. [malaya.paraphrase.t5](https://malaya.readthedocs.io/en/latest/load-paraphrase.html#load-t5-models)"
   ]
  },
  {
   "cell_type": "markdown",
   "metadata": {},
   "source": [
    "### Lack development on Windows\n",
    "\n",
    "Malaya been tested on modern UNIX / LINUX systems that supported tensorflow binary. Windows support not our development path right now (we don't have any Windows machine here)."
   ]
  }
 ],
 "metadata": {
  "kernelspec": {
   "display_name": "Python 3",
   "language": "python",
   "name": "python3"
  },
  "language_info": {
   "codemirror_mode": {
    "name": "ipython",
    "version": 3
   },
   "file_extension": ".py",
   "mimetype": "text/x-python",
   "name": "python",
   "nbconvert_exporter": "python",
   "pygments_lexer": "ipython3",
   "version": "3.7.7"
  }
 },
 "nbformat": 4,
 "nbformat_minor": 2
}
