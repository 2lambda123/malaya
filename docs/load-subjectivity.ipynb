{
 "cells": [
  {
   "cell_type": "markdown",
   "metadata": {},
   "source": [
    "# Subjectivity Analysis"
   ]
  },
  {
   "cell_type": "markdown",
   "metadata": {},
   "source": [
    "<div class=\"alert alert-info\">\n",
    "\n",
    "This tutorial is available as an IPython notebook at [Malaya/example/subjectivity](https://github.com/huseinzol05/Malaya/tree/master/example/subjectivity).\n",
    "    \n",
    "</div>"
   ]
  },
  {
   "cell_type": "markdown",
   "metadata": {},
   "source": [
    "<div class=\"alert alert-info\">\n",
    "\n",
    "This module trained on both standard and local (included social media) language structures, so it is save to use for both.\n",
    "    \n",
    "</div>"
   ]
  },
  {
   "cell_type": "code",
   "execution_count": 1,
   "metadata": {},
   "outputs": [
    {
     "name": "stdout",
     "output_type": "stream",
     "text": [
      "CPU times: user 6.34 s, sys: 1.25 s, total: 7.6 s\n",
      "Wall time: 9.02 s\n"
     ]
    }
   ],
   "source": [
    "%%time\n",
    "import malaya"
   ]
  },
  {
   "cell_type": "markdown",
   "metadata": {},
   "source": [
    "### Models accuracy\n",
    "\n",
    "We use `sklearn.metrics.classification_report` for accuracy reporting, check at https://malaya.readthedocs.io/en/latest/models-accuracy.html#subjectivity-analysis"
   ]
  },
  {
   "cell_type": "markdown",
   "metadata": {},
   "source": [
    "### labels supported\n",
    "\n",
    "Default labels for subjectivity module."
   ]
  },
  {
   "cell_type": "code",
   "execution_count": 2,
   "metadata": {},
   "outputs": [
    {
     "data": {
      "text/plain": [
       "['negative', 'positive']"
      ]
     },
     "execution_count": 2,
     "metadata": {},
     "output_type": "execute_result"
    }
   ],
   "source": [
    "malaya.subjectivity.label"
   ]
  },
  {
   "cell_type": "markdown",
   "metadata": {},
   "source": [
    "### Explanation\n",
    "\n",
    "Positive subjectivity: based on or influenced by personal feelings, tastes, or opinions. Can be a positive or negative sentiment.\n",
    "\n",
    "Negative subjectivity: based on a report or a fact. Can be a positive or negative sentiment."
   ]
  },
  {
   "cell_type": "code",
   "execution_count": 3,
   "metadata": {},
   "outputs": [],
   "source": [
    "negative_text = 'Kerajaan negeri Kelantan mempersoalkan motif kenyataan Menteri Kewangan Lim Guan Eng yang hanya menyebut Kelantan penerima terbesar bantuan kewangan dari Kerajaan Persekutuan. Sedangkan menurut Timbalan Menteri Besarnya, Datuk Mohd Amar Nik Abdullah, negeri lain yang lebih maju dari Kelantan turut mendapat pembiayaan dan pinjaman.'\n",
    "positive_text = 'kerajaan sebenarnya sangat bencikan rakyatnya, minyak naik dan segalanya'\n",
    "\n",
    "string1 = 'Sis, students from overseas were brought back because they are not in their countries which is if something happens to them, its not the other countries’ responsibility. Student dalam malaysia ni dah dlm tggjawab kerajaan. Mana part yg tak faham?'\n",
    "string2 = 'Harap kerajaan tak bukak serentak. Slowly release week by week. Focus on economy related industries dulu'\n",
    "string3 = 'Idk if aku salah baca ke apa. Bayaran rm350 utk golongan umur 21 ke bawah shj ? Anyone? If 21 ke atas ok lah. If umur 21 ke bawah?  Are you serious? Siapa yg lebih byk komitmen? Aku hrp aku salah baca. Aku tk jumpa artikel tu'\n",
    "string4 = 'Jabatan Penjara Malaysia diperuntukkan RM20 juta laksana program pembangunan Insan kepada banduan. Majikan yang menggaji bekas banduan, bekas penagih dadah diberi potongan cukai tambahan sehingga 2025.'"
   ]
  },
  {
   "cell_type": "markdown",
   "metadata": {},
   "source": [
    "### Load multinomial model\n",
    "\n",
    "```python\n",
    "def multinomial(**kwargs):\n",
    "    \"\"\"\n",
    "    Load multinomial emotion model.\n",
    "\n",
    "    Returns\n",
    "    -------\n",
    "    result : malaya.model.ml.Bayes class\n",
    "    \"\"\"\n",
    "```"
   ]
  },
  {
   "cell_type": "code",
   "execution_count": 3,
   "metadata": {},
   "outputs": [],
   "source": [
    "model = malaya.subjectivity.multinomial()"
   ]
  },
  {
   "cell_type": "markdown",
   "metadata": {},
   "source": [
    "#### Predict batch of strings\n",
    "\n",
    "```python\n",
    "def predict(self, strings: List[str], add_neutral: bool = True):\n",
    "    \"\"\"\n",
    "    classify list of strings.\n",
    "\n",
    "    Parameters\n",
    "    ----------\n",
    "    strings: List[str]\n",
    "    add_neutral: bool, optional (default=True)\n",
    "        if True, it will add neutral probability.\n",
    "\n",
    "    Returns\n",
    "    -------\n",
    "    result: List[str]\n",
    "    \"\"\"\n",
    "```"
   ]
  },
  {
   "cell_type": "code",
   "execution_count": 4,
   "metadata": {},
   "outputs": [
    {
     "data": {
      "text/plain": [
       "['neutral', 'negative']"
      ]
     },
     "execution_count": 4,
     "metadata": {},
     "output_type": "execute_result"
    }
   ],
   "source": [
    "model.predict([positive_text,negative_text])"
   ]
  },
  {
   "cell_type": "markdown",
   "metadata": {},
   "source": [
    "Disable `neutral` probability,"
   ]
  },
  {
   "cell_type": "code",
   "execution_count": 5,
   "metadata": {},
   "outputs": [
    {
     "data": {
      "text/plain": [
       "['positive', 'negative']"
      ]
     },
     "execution_count": 5,
     "metadata": {},
     "output_type": "execute_result"
    }
   ],
   "source": [
    "model.predict([positive_text,negative_text], add_neutral = False)"
   ]
  },
  {
   "cell_type": "markdown",
   "metadata": {},
   "source": [
    "#### Predict batch of strings with probability\n",
    "\n",
    "```python\n",
    "def predict_proba(self, strings: List[str], add_neutral: bool = True):\n",
    "    \"\"\"\n",
    "    classify list of strings and return probability.\n",
    "\n",
    "    Parameters\n",
    "    ----------\n",
    "    strings: List[str]\n",
    "    add_neutral: bool, optional (default=True)\n",
    "        if True, it will add neutral probability.\n",
    "\n",
    "    Returns\n",
    "    -------\n",
    "    result: List[dict[str, float]]\n",
    "    \"\"\"\n",
    "```"
   ]
  },
  {
   "cell_type": "code",
   "execution_count": 6,
   "metadata": {},
   "outputs": [
    {
     "data": {
      "text/plain": [
       "[{'negative': 0.420659316666446, 'positive': 0.5793406833335559},\n",
       " {'negative': 0.7906212884104161, 'positive': 0.2093787115895868}]"
      ]
     },
     "execution_count": 6,
     "metadata": {},
     "output_type": "execute_result"
    }
   ],
   "source": [
    "model.predict_proba([positive_text,negative_text], add_neutral = False)"
   ]
  },
  {
   "cell_type": "markdown",
   "metadata": {},
   "source": [
    "### List available Transformer models"
   ]
  },
  {
   "cell_type": "code",
   "execution_count": 4,
   "metadata": {},
   "outputs": [
    {
     "data": {
      "text/html": [
       "<div>\n",
       "<style scoped>\n",
       "    .dataframe tbody tr th:only-of-type {\n",
       "        vertical-align: middle;\n",
       "    }\n",
       "\n",
       "    .dataframe tbody tr th {\n",
       "        vertical-align: top;\n",
       "    }\n",
       "\n",
       "    .dataframe thead th {\n",
       "        text-align: right;\n",
       "    }\n",
       "</style>\n",
       "<table border=\"1\" class=\"dataframe\">\n",
       "  <thead>\n",
       "    <tr style=\"text-align: right;\">\n",
       "      <th></th>\n",
       "      <th>Size (MB)</th>\n",
       "      <th>Quantized Size (MB)</th>\n",
       "      <th>macro precision</th>\n",
       "      <th>macro recall</th>\n",
       "      <th>macro f1-score</th>\n",
       "    </tr>\n",
       "  </thead>\n",
       "  <tbody>\n",
       "    <tr>\n",
       "      <th>bert</th>\n",
       "      <td>425.6</td>\n",
       "      <td>111.00</td>\n",
       "      <td>0.92004</td>\n",
       "      <td>0.91748</td>\n",
       "      <td>0.91663</td>\n",
       "    </tr>\n",
       "    <tr>\n",
       "      <th>tiny-bert</th>\n",
       "      <td>57.4</td>\n",
       "      <td>15.40</td>\n",
       "      <td>0.91023</td>\n",
       "      <td>0.90228</td>\n",
       "      <td>0.90301</td>\n",
       "    </tr>\n",
       "    <tr>\n",
       "      <th>albert</th>\n",
       "      <td>48.6</td>\n",
       "      <td>12.80</td>\n",
       "      <td>0.90544</td>\n",
       "      <td>0.90299</td>\n",
       "      <td>0.90300</td>\n",
       "    </tr>\n",
       "    <tr>\n",
       "      <th>tiny-albert</th>\n",
       "      <td>22.4</td>\n",
       "      <td>5.98</td>\n",
       "      <td>0.89457</td>\n",
       "      <td>0.89469</td>\n",
       "      <td>0.89461</td>\n",
       "    </tr>\n",
       "    <tr>\n",
       "      <th>xlnet</th>\n",
       "      <td>446.6</td>\n",
       "      <td>118.00</td>\n",
       "      <td>0.91916</td>\n",
       "      <td>0.91753</td>\n",
       "      <td>0.91761</td>\n",
       "    </tr>\n",
       "    <tr>\n",
       "      <th>alxlnet</th>\n",
       "      <td>46.8</td>\n",
       "      <td>13.30</td>\n",
       "      <td>0.90862</td>\n",
       "      <td>0.90835</td>\n",
       "      <td>0.90817</td>\n",
       "    </tr>\n",
       "    <tr>\n",
       "      <th>fastformer</th>\n",
       "      <td>458.0</td>\n",
       "      <td>116.00</td>\n",
       "      <td>0.80785</td>\n",
       "      <td>0.81973</td>\n",
       "      <td>0.80758</td>\n",
       "    </tr>\n",
       "    <tr>\n",
       "      <th>tiny-fastformer</th>\n",
       "      <td>77.3</td>\n",
       "      <td>19.70</td>\n",
       "      <td>0.87147</td>\n",
       "      <td>0.87147</td>\n",
       "      <td>0.87105</td>\n",
       "    </tr>\n",
       "  </tbody>\n",
       "</table>\n",
       "</div>"
      ],
      "text/plain": [
       "                 Size (MB)  Quantized Size (MB)  macro precision  \\\n",
       "bert                 425.6               111.00          0.92004   \n",
       "tiny-bert             57.4                15.40          0.91023   \n",
       "albert                48.6                12.80          0.90544   \n",
       "tiny-albert           22.4                 5.98          0.89457   \n",
       "xlnet                446.6               118.00          0.91916   \n",
       "alxlnet               46.8                13.30          0.90862   \n",
       "fastformer           458.0               116.00          0.80785   \n",
       "tiny-fastformer       77.3                19.70          0.87147   \n",
       "\n",
       "                 macro recall  macro f1-score  \n",
       "bert                  0.91748         0.91663  \n",
       "tiny-bert             0.90228         0.90301  \n",
       "albert                0.90299         0.90300  \n",
       "tiny-albert           0.89469         0.89461  \n",
       "xlnet                 0.91753         0.91761  \n",
       "alxlnet               0.90835         0.90817  \n",
       "fastformer            0.81973         0.80758  \n",
       "tiny-fastformer       0.87147         0.87105  "
      ]
     },
     "execution_count": 4,
     "metadata": {},
     "output_type": "execute_result"
    }
   ],
   "source": [
    "malaya.subjectivity.available_transformer()"
   ]
  },
  {
   "cell_type": "markdown",
   "metadata": {},
   "source": [
    "### Load Transformer model\n",
    "\n",
    "All model interface will follow sklearn interface started v3.4,\n",
    "\n",
    "```python\n",
    "def transformer(model: str = 'bert', quantized: bool = False, **kwargs):\n",
    "    \"\"\"\n",
    "    Load Transformer subjectivity model.\n",
    "\n",
    "    Parameters\n",
    "    ----------\n",
    "    model : str, optional (default='bert')\n",
    "        Model architecture supported. Allowed values:\n",
    "\n",
    "        * ``'bert'`` - Google BERT BASE parameters.\n",
    "        * ``'tiny-bert'`` - Google BERT TINY parameters.\n",
    "        * ``'albert'`` - Google ALBERT BASE parameters.\n",
    "        * ``'tiny-albert'`` - Google ALBERT TINY parameters.\n",
    "        * ``'xlnet'`` - Google XLNET BASE parameters.\n",
    "        * ``'alxlnet'`` - Malaya ALXLNET BASE parameters.\n",
    "        * ``'fastformer'`` - FastFormer BASE parameters.\n",
    "        * ``'tiny-fastformer'`` - FastFormer TINY parameters.\n",
    "\n",
    "    quantized : bool, optional (default=False)\n",
    "        if True, will load 8-bit quantized model.\n",
    "        Quantized model not necessary faster, totally depends on the machine.\n",
    "\n",
    "    Returns\n",
    "    -------\n",
    "    result: model\n",
    "        List of model classes:\n",
    "\n",
    "        * if `bert` in model, will return `malaya.model.bert.BinaryBERT`.\n",
    "        * if `xlnet` in model, will return `malaya.model.xlnet.BinaryXLNET`.\n",
    "        * if `fastformer` in model, will return `malaya.model.fastformer.BinaryFastFormer`.\n",
    "    \"\"\"\n",
    "```"
   ]
  },
  {
   "cell_type": "code",
   "execution_count": 5,
   "metadata": {},
   "outputs": [
    {
     "name": "stderr",
     "output_type": "stream",
     "text": [
      "101%|██████████| 49.0/48.6 [00:35<00:00, 1.39MB/s]\n",
      "184%|██████████| 1.00/0.54 [00:02<-1:59:59, 2.83s/MB]\n",
      "135%|██████████| 1.00/0.74 [00:03<00:00, 3.73s/MB]\n"
     ]
    }
   ],
   "source": [
    "model = malaya.subjectivity.transformer(model = 'albert')"
   ]
  },
  {
   "cell_type": "markdown",
   "metadata": {},
   "source": [
    "### Load Quantized model\n",
    "\n",
    "To load 8-bit quantized model, simply pass `quantized = True`, default is `False`.\n",
    "\n",
    "We can expect slightly accuracy drop from quantized model, and not necessary faster than normal 32-bit float model, totally depends on machine."
   ]
  },
  {
   "cell_type": "code",
   "execution_count": 14,
   "metadata": {},
   "outputs": [
    {
     "name": "stderr",
     "output_type": "stream",
     "text": [
      "WARNING:root:Load quantized model will cause accuracy drop.\n"
     ]
    },
    {
     "name": "stdout",
     "output_type": "stream",
     "text": [
      "INFO:tensorflow:loading sentence piece model\n"
     ]
    },
    {
     "name": "stderr",
     "output_type": "stream",
     "text": [
      "INFO:tensorflow:loading sentence piece model\n"
     ]
    }
   ],
   "source": [
    "quantized_model = malaya.subjectivity.transformer(model = 'albert', quantized = True)"
   ]
  },
  {
   "cell_type": "markdown",
   "metadata": {},
   "source": [
    "#### Predict batch of strings\n",
    "\n",
    "```python\n",
    "def predict(self, strings: List[str], add_neutral: bool = True):\n",
    "    \"\"\"\n",
    "    classify list of strings.\n",
    "\n",
    "    Parameters\n",
    "    ----------\n",
    "    strings: List[str]\n",
    "    add_neutral: bool, optional (default=True)\n",
    "        if True, it will add neutral probability.\n",
    "\n",
    "    Returns\n",
    "    -------\n",
    "    result: List[str]\n",
    "    \"\"\"\n",
    "```"
   ]
  },
  {
   "cell_type": "code",
   "execution_count": 15,
   "metadata": {},
   "outputs": [
    {
     "data": {
      "text/plain": [
       "['negative', 'negative']"
      ]
     },
     "execution_count": 15,
     "metadata": {},
     "output_type": "execute_result"
    }
   ],
   "source": [
    "model.predict([negative_text, positive_text])"
   ]
  },
  {
   "cell_type": "code",
   "execution_count": 17,
   "metadata": {},
   "outputs": [
    {
     "data": {
      "text/plain": [
       "['negative', 'negative']"
      ]
     },
     "execution_count": 17,
     "metadata": {},
     "output_type": "execute_result"
    }
   ],
   "source": [
    "quantized_model.predict([negative_text, positive_text])"
   ]
  },
  {
   "cell_type": "markdown",
   "metadata": {},
   "source": [
    "#### Predict batch of strings with probability\n",
    "\n",
    "```python\n",
    "def predict_proba(self, strings: List[str], add_neutral: bool = True):\n",
    "    \"\"\"\n",
    "    classify list of strings and return probability.\n",
    "\n",
    "    Parameters\n",
    "    ----------\n",
    "    strings: List[str]\n",
    "    add_neutral: bool, optional (default=True)\n",
    "        if True, it will add neutral probability.\n",
    "\n",
    "    Returns\n",
    "    -------\n",
    "    result: List[dict[str, float]]\n",
    "    \"\"\"\n",
    "```"
   ]
  },
  {
   "cell_type": "code",
   "execution_count": 18,
   "metadata": {},
   "outputs": [
    {
     "data": {
      "text/plain": [
       "[{'negative': 0.9956738, 'positive': 4.326162e-05, 'neutral': 0.0042829514},\n",
       " {'negative': 0.9615872, 'positive': 0.00038412912, 'neutral': 0.038028657}]"
      ]
     },
     "execution_count": 18,
     "metadata": {},
     "output_type": "execute_result"
    }
   ],
   "source": [
    "model.predict_proba([negative_text, positive_text])"
   ]
  },
  {
   "cell_type": "code",
   "execution_count": 16,
   "metadata": {},
   "outputs": [
    {
     "data": {
      "text/plain": [
       "[{'negative': 0.9954784, 'positive': 4.521673e-05, 'neutral': 0.0044763684},\n",
       " {'negative': 0.9612684, 'positive': 0.00038731584, 'neutral': 0.038344264}]"
      ]
     },
     "execution_count": 16,
     "metadata": {},
     "output_type": "execute_result"
    }
   ],
   "source": [
    "quantized_model.predict_proba([negative_text, positive_text])"
   ]
  },
  {
   "cell_type": "markdown",
   "metadata": {},
   "source": [
    "#### Open subjectivity visualization dashboard\n",
    "\n",
    "Default when you call `predict_words` it will open a browser with visualization dashboard, you can disable by `visualization=False`.\n",
    "\n",
    "```python\n",
    "def predict_words(\n",
    "    self,\n",
    "    string: str,\n",
    "    method: str = 'last',\n",
    "    bins_size: float = 0.05,\n",
    "    visualization: bool = True,\n",
    "):\n",
    "    \"\"\"\n",
    "    classify words.\n",
    "\n",
    "    Parameters\n",
    "    ----------\n",
    "    string : str\n",
    "    method : str, optional (default='last')\n",
    "        Attention layer supported. Allowed values:\n",
    "\n",
    "        * ``'last'`` - attention from last layer.\n",
    "        * ``'first'`` - attention from first layer.\n",
    "        * ``'mean'`` - average attentions from all layers.\n",
    "    bins_size: float, optional (default=0.05)\n",
    "        default bins size for word distribution histogram.\n",
    "    visualization: bool, optional (default=True)\n",
    "        If True, it will open the visualization dashboard.\n",
    "\n",
    "    Returns\n",
    "    -------\n",
    "    dictionary: results\n",
    "    \"\"\"\n",
    "```\n"
   ]
  },
  {
   "cell_type": "code",
   "execution_count": 6,
   "metadata": {},
   "outputs": [
    {
     "data": {
      "text/html": [
       "<div style=\"width:100%;height:500px\"><div style=\"position:relative;width:100%;height:0;padding-bottom:1;\"><iframe srcdoc=\"&lt;html lang=&quot;en&quot;&gt;\n",
       "\n",
       "&lt;head&gt;\n",
       "  &lt;meta name=&quot;viewport&quot; content=&quot;width=device-width, initial-scale=1&quot;&gt;\n",
       "  &lt;title&gt;Malaya&lt;/title&gt;\n",
       "  &lt;link href=&quot;https://cdn.jsdelivr.net/gh/huseinzol05/malaya/malaya/function/web/static/admin-materialize.min.css&quot;\n",
       "    rel=&quot;stylesheet&quot;&gt;\n",
       "  &lt;link href=&quot;https://fonts.googleapis.com/icon?family=Material+Icons&quot; rel=&quot;stylesheet&quot;&gt;\n",
       "  &lt;link href=&quot;https://afeld.github.io/emoji-css/emoji.css&quot; rel=&quot;stylesheet&quot;&gt;\n",
       "&lt;/head&gt;\n",
       "\n",
       "&lt;body&gt;\n",
       "  &lt;main&gt;\n",
       "    &lt;div class=&quot;container&quot;&gt;\n",
       "      &lt;h4&gt;subjectivity classification&lt;/h4&gt;\n",
       "      &lt;div class=&quot;row&quot;&gt;\n",
       "        &lt;div class=&quot;col l4 m4 s12&quot;&gt;\n",
       "          &lt;div id=&quot;count&quot; style=&quot;height: 300px;&quot;&gt;&lt;/div&gt;\n",
       "        &lt;/div&gt;\n",
       "        &lt;div class=&quot;col l4 m4 s12&quot;&gt;\n",
       "          &lt;div id=&quot;histogram&quot; style=&quot;height: 300px;&quot;&gt;&lt;/div&gt;\n",
       "        &lt;/div&gt;\n",
       "        &lt;div class=&quot;col l4 m4 s12&quot;&gt;\n",
       "          &lt;div id=&quot;entropy&quot; style=&quot;height: 300px;&quot;&gt;&lt;/div&gt;\n",
       "        &lt;/div&gt;\n",
       "      &lt;/div&gt;\n",
       "      &lt;div class=&quot;row&quot;&gt;\n",
       "        &lt;p&gt;&lt;mark style=&#x27;background-color:rgb(255, 139, 118)&#x27; class=&#x27;tooltipped&#x27; data-position=&#x27;bottom&#x27; data-tooltip=&quot;Positive &lt;i class=&#x27;em em-smiley_cat&#x27;&gt;&lt;/i&gt; 0.001&lt;br&gt;Neutral &lt;i class=&#x27;em em-cat&#x27;&gt;&lt;/i&gt; 0.055&lt;br&gt;Negative &lt;i class=&#x27;em em-pouting_cat&#x27;&gt;&lt;/i&gt; 0.944&lt;br&gt;Attention &lt;i class=&#x27;em em-warning&#x27;&gt;&lt;/i&gt; 0.012&quot;&gt;Kerajaan&lt;/mark&gt; &lt;mark style=&#x27;background-color:rgb(255, 139, 118)&#x27; class=&#x27;tooltipped&#x27; data-position=&#x27;bottom&#x27; data-tooltip=&quot;Positive &lt;i class=&#x27;em em-smiley_cat&#x27;&gt;&lt;/i&gt; 0.001&lt;br&gt;Neutral &lt;i class=&#x27;em em-cat&#x27;&gt;&lt;/i&gt; 0.050&lt;br&gt;Negative &lt;i class=&#x27;em em-pouting_cat&#x27;&gt;&lt;/i&gt; 0.950&lt;br&gt;Attention &lt;i class=&#x27;em em-warning&#x27;&gt;&lt;/i&gt; 0.005&quot;&gt;negeri&lt;/mark&gt; &lt;mark style=&#x27;background-color:rgb(255, 139, 118)&#x27; class=&#x27;tooltipped&#x27; data-position=&#x27;bottom&#x27; data-tooltip=&quot;Positive &lt;i class=&#x27;em em-smiley_cat&#x27;&gt;&lt;/i&gt; 0.001&lt;br&gt;Neutral &lt;i class=&#x27;em em-cat&#x27;&gt;&lt;/i&gt; 0.054&lt;br&gt;Negative &lt;i class=&#x27;em em-pouting_cat&#x27;&gt;&lt;/i&gt; 0.945&lt;br&gt;Attention &lt;i class=&#x27;em em-warning&#x27;&gt;&lt;/i&gt; 0.015&quot;&gt;Kelantan&lt;/mark&gt; &lt;mark style=&#x27;background-color:rgb(255, 139, 118)&#x27; class=&#x27;tooltipped&#x27; data-position=&#x27;bottom&#x27; data-tooltip=&quot;Positive &lt;i class=&#x27;em em-smiley_cat&#x27;&gt;&lt;/i&gt; 0.001&lt;br&gt;Neutral &lt;i class=&#x27;em em-cat&#x27;&gt;&lt;/i&gt; 0.068&lt;br&gt;Negative &lt;i class=&#x27;em em-pouting_cat&#x27;&gt;&lt;/i&gt; 0.932&lt;br&gt;Attention &lt;i class=&#x27;em em-warning&#x27;&gt;&lt;/i&gt; 0.081&quot;&gt;mempersoalkan&lt;/mark&gt; &lt;mark style=&#x27;background-color:rgb(255, 139, 118)&#x27; class=&#x27;tooltipped&#x27; data-position=&#x27;bottom&#x27; data-tooltip=&quot;Positive &lt;i class=&#x27;em em-smiley_cat&#x27;&gt;&lt;/i&gt; 0.001&lt;br&gt;Neutral &lt;i class=&#x27;em em-cat&#x27;&gt;&lt;/i&gt; 0.059&lt;br&gt;Negative &lt;i class=&#x27;em em-pouting_cat&#x27;&gt;&lt;/i&gt; 0.941&lt;br&gt;Attention &lt;i class=&#x27;em em-warning&#x27;&gt;&lt;/i&gt; 0.037&quot;&gt;motif&lt;/mark&gt; &lt;mark style=&#x27;background-color:rgb(255, 139, 118)&#x27; class=&#x27;tooltipped&#x27; data-position=&#x27;bottom&#x27; data-tooltip=&quot;Positive &lt;i class=&#x27;em em-smiley_cat&#x27;&gt;&lt;/i&gt; 0.000&lt;br&gt;Neutral &lt;i class=&#x27;em em-cat&#x27;&gt;&lt;/i&gt; 0.033&lt;br&gt;Negative &lt;i class=&#x27;em em-pouting_cat&#x27;&gt;&lt;/i&gt; 0.966&lt;br&gt;Attention &lt;i class=&#x27;em em-warning&#x27;&gt;&lt;/i&gt; 0.009&quot;&gt;kenyataan&lt;/mark&gt; &lt;mark style=&#x27;background-color:rgb(255, 139, 118)&#x27; class=&#x27;tooltipped&#x27; data-position=&#x27;bottom&#x27; data-tooltip=&quot;Positive &lt;i class=&#x27;em em-smiley_cat&#x27;&gt;&lt;/i&gt; 0.000&lt;br&gt;Neutral &lt;i class=&#x27;em em-cat&#x27;&gt;&lt;/i&gt; 0.043&lt;br&gt;Negative &lt;i class=&#x27;em em-pouting_cat&#x27;&gt;&lt;/i&gt; 0.956&lt;br&gt;Attention &lt;i class=&#x27;em em-warning&#x27;&gt;&lt;/i&gt; 0.019&quot;&gt;Menteri&lt;/mark&gt; &lt;mark style=&#x27;background-color:rgb(255, 139, 118)&#x27; class=&#x27;tooltipped&#x27; data-position=&#x27;bottom&#x27; data-tooltip=&quot;Positive &lt;i class=&#x27;em em-smiley_cat&#x27;&gt;&lt;/i&gt; 0.001&lt;br&gt;Neutral &lt;i class=&#x27;em em-cat&#x27;&gt;&lt;/i&gt; 0.147&lt;br&gt;Negative &lt;i class=&#x27;em em-pouting_cat&#x27;&gt;&lt;/i&gt; 0.851&lt;br&gt;Attention &lt;i class=&#x27;em em-warning&#x27;&gt;&lt;/i&gt; 0.101&quot;&gt;Kewangan&lt;/mark&gt; &lt;mark style=&#x27;background-color:rgb(255, 139, 118)&#x27; class=&#x27;tooltipped&#x27; data-position=&#x27;bottom&#x27; data-tooltip=&quot;Positive &lt;i class=&#x27;em em-smiley_cat&#x27;&gt;&lt;/i&gt; 0.002&lt;br&gt;Neutral &lt;i class=&#x27;em em-cat&#x27;&gt;&lt;/i&gt; 0.152&lt;br&gt;Negative &lt;i class=&#x27;em em-pouting_cat&#x27;&gt;&lt;/i&gt; 0.847&lt;br&gt;Attention &lt;i class=&#x27;em em-warning&#x27;&gt;&lt;/i&gt; 0.029&quot;&gt;Lim&lt;/mark&gt; &lt;mark style=&#x27;background-color:rgb(255, 139, 118)&#x27; class=&#x27;tooltipped&#x27; data-position=&#x27;bottom&#x27; data-tooltip=&quot;Positive &lt;i class=&#x27;em em-smiley_cat&#x27;&gt;&lt;/i&gt; 0.000&lt;br&gt;Neutral &lt;i class=&#x27;em em-cat&#x27;&gt;&lt;/i&gt; 0.032&lt;br&gt;Negative &lt;i class=&#x27;em em-pouting_cat&#x27;&gt;&lt;/i&gt; 0.968&lt;br&gt;Attention &lt;i class=&#x27;em em-warning&#x27;&gt;&lt;/i&gt; 0.030&quot;&gt;Guan&lt;/mark&gt; &lt;mark style=&#x27;background-color:rgb(255, 139, 118)&#x27; class=&#x27;tooltipped&#x27; data-position=&#x27;bottom&#x27; data-tooltip=&quot;Positive &lt;i class=&#x27;em em-smiley_cat&#x27;&gt;&lt;/i&gt; 0.001&lt;br&gt;Neutral &lt;i class=&#x27;em em-cat&#x27;&gt;&lt;/i&gt; 0.082&lt;br&gt;Negative &lt;i class=&#x27;em em-pouting_cat&#x27;&gt;&lt;/i&gt; 0.917&lt;br&gt;Attention &lt;i class=&#x27;em em-warning&#x27;&gt;&lt;/i&gt; 0.020&quot;&gt;Eng&lt;/mark&gt; &lt;mark style=&#x27;background-color:rgb(255, 139, 118)&#x27; class=&#x27;tooltipped&#x27; data-position=&#x27;bottom&#x27; data-tooltip=&quot;Positive &lt;i class=&#x27;em em-smiley_cat&#x27;&gt;&lt;/i&gt; 0.001&lt;br&gt;Neutral &lt;i class=&#x27;em em-cat&#x27;&gt;&lt;/i&gt; 0.053&lt;br&gt;Negative &lt;i class=&#x27;em em-pouting_cat&#x27;&gt;&lt;/i&gt; 0.947&lt;br&gt;Attention &lt;i class=&#x27;em em-warning&#x27;&gt;&lt;/i&gt; 0.002&quot;&gt;yang&lt;/mark&gt; &lt;mark style=&#x27;background-color:rgb(255, 139, 118)&#x27; class=&#x27;tooltipped&#x27; data-position=&#x27;bottom&#x27; data-tooltip=&quot;Positive &lt;i class=&#x27;em em-smiley_cat&#x27;&gt;&lt;/i&gt; 0.001&lt;br&gt;Neutral &lt;i class=&#x27;em em-cat&#x27;&gt;&lt;/i&gt; 0.057&lt;br&gt;Negative &lt;i class=&#x27;em em-pouting_cat&#x27;&gt;&lt;/i&gt; 0.943&lt;br&gt;Attention &lt;i class=&#x27;em em-warning&#x27;&gt;&lt;/i&gt; 0.017&quot;&gt;hanya&lt;/mark&gt; &lt;mark style=&#x27;background-color:rgb(255, 139, 118)&#x27; class=&#x27;tooltipped&#x27; data-position=&#x27;bottom&#x27; data-tooltip=&quot;Positive &lt;i class=&#x27;em em-smiley_cat&#x27;&gt;&lt;/i&gt; 0.001&lt;br&gt;Neutral &lt;i class=&#x27;em em-cat&#x27;&gt;&lt;/i&gt; 0.056&lt;br&gt;Negative &lt;i class=&#x27;em em-pouting_cat&#x27;&gt;&lt;/i&gt; 0.943&lt;br&gt;Attention &lt;i class=&#x27;em em-warning&#x27;&gt;&lt;/i&gt; 0.009&quot;&gt;menyebut&lt;/mark&gt; &lt;mark style=&#x27;background-color:rgb(255, 139, 118)&#x27; class=&#x27;tooltipped&#x27; data-position=&#x27;bottom&#x27; data-tooltip=&quot;Positive &lt;i class=&#x27;em em-smiley_cat&#x27;&gt;&lt;/i&gt; 0.000&lt;br&gt;Neutral &lt;i class=&#x27;em em-cat&#x27;&gt;&lt;/i&gt; 0.046&lt;br&gt;Negative &lt;i class=&#x27;em em-pouting_cat&#x27;&gt;&lt;/i&gt; 0.954&lt;br&gt;Attention &lt;i class=&#x27;em em-warning&#x27;&gt;&lt;/i&gt; 0.011&quot;&gt;penerima&lt;/mark&gt; &lt;mark style=&#x27;background-color:rgb(255, 139, 118)&#x27; class=&#x27;tooltipped&#x27; data-position=&#x27;bottom&#x27; data-tooltip=&quot;Positive &lt;i class=&#x27;em em-smiley_cat&#x27;&gt;&lt;/i&gt; 0.000&lt;br&gt;Neutral &lt;i class=&#x27;em em-cat&#x27;&gt;&lt;/i&gt; 0.034&lt;br&gt;Negative &lt;i class=&#x27;em em-pouting_cat&#x27;&gt;&lt;/i&gt; 0.966&lt;br&gt;Attention &lt;i class=&#x27;em em-warning&#x27;&gt;&lt;/i&gt; 0.005&quot;&gt;terbesar&lt;/mark&gt; &lt;mark style=&#x27;background-color:rgb(255, 139, 118)&#x27; class=&#x27;tooltipped&#x27; data-position=&#x27;bottom&#x27; data-tooltip=&quot;Positive &lt;i class=&#x27;em em-smiley_cat&#x27;&gt;&lt;/i&gt; 0.001&lt;br&gt;Neutral &lt;i class=&#x27;em em-cat&#x27;&gt;&lt;/i&gt; 0.136&lt;br&gt;Negative &lt;i class=&#x27;em em-pouting_cat&#x27;&gt;&lt;/i&gt; 0.863&lt;br&gt;Attention &lt;i class=&#x27;em em-warning&#x27;&gt;&lt;/i&gt; 0.004&quot;&gt;bantuan&lt;/mark&gt; &lt;mark style=&#x27;background-color:rgb(255, 139, 118)&#x27; class=&#x27;tooltipped&#x27; data-position=&#x27;bottom&#x27; data-tooltip=&quot;Positive &lt;i class=&#x27;em em-smiley_cat&#x27;&gt;&lt;/i&gt; 0.001&lt;br&gt;Neutral &lt;i class=&#x27;em em-cat&#x27;&gt;&lt;/i&gt; 0.097&lt;br&gt;Negative &lt;i class=&#x27;em em-pouting_cat&#x27;&gt;&lt;/i&gt; 0.902&lt;br&gt;Attention &lt;i class=&#x27;em em-warning&#x27;&gt;&lt;/i&gt; 0.004&quot;&gt;kewangan&lt;/mark&gt; &lt;mark style=&#x27;background-color:rgb(255, 139, 118)&#x27; class=&#x27;tooltipped&#x27; data-position=&#x27;bottom&#x27; data-tooltip=&quot;Positive &lt;i class=&#x27;em em-smiley_cat&#x27;&gt;&lt;/i&gt; 0.001&lt;br&gt;Neutral &lt;i class=&#x27;em em-cat&#x27;&gt;&lt;/i&gt; 0.085&lt;br&gt;Negative &lt;i class=&#x27;em em-pouting_cat&#x27;&gt;&lt;/i&gt; 0.914&lt;br&gt;Attention &lt;i class=&#x27;em em-warning&#x27;&gt;&lt;/i&gt; 0.007&quot;&gt;dari&lt;/mark&gt; &lt;mark style=&#x27;background-color:rgb(255, 139, 118)&#x27; class=&#x27;tooltipped&#x27; data-position=&#x27;bottom&#x27; data-tooltip=&quot;Positive &lt;i class=&#x27;em em-smiley_cat&#x27;&gt;&lt;/i&gt; 0.001&lt;br&gt;Neutral &lt;i class=&#x27;em em-cat&#x27;&gt;&lt;/i&gt; 0.111&lt;br&gt;Negative &lt;i class=&#x27;em em-pouting_cat&#x27;&gt;&lt;/i&gt; 0.888&lt;br&gt;Attention &lt;i class=&#x27;em em-warning&#x27;&gt;&lt;/i&gt; 0.036&quot;&gt;Persekutuan.&lt;/mark&gt; &lt;mark style=&#x27;background-color:rgb(255, 139, 118)&#x27; class=&#x27;tooltipped&#x27; data-position=&#x27;bottom&#x27; data-tooltip=&quot;Positive &lt;i class=&#x27;em em-smiley_cat&#x27;&gt;&lt;/i&gt; 0.000&lt;br&gt;Neutral &lt;i class=&#x27;em em-cat&#x27;&gt;&lt;/i&gt; 0.024&lt;br&gt;Negative &lt;i class=&#x27;em em-pouting_cat&#x27;&gt;&lt;/i&gt; 0.976&lt;br&gt;Attention &lt;i class=&#x27;em em-warning&#x27;&gt;&lt;/i&gt; 0.020&quot;&gt;Sedangkan&lt;/mark&gt; &lt;mark style=&#x27;background-color:rgb(255, 139, 118)&#x27; class=&#x27;tooltipped&#x27; data-position=&#x27;bottom&#x27; data-tooltip=&quot;Positive &lt;i class=&#x27;em em-smiley_cat&#x27;&gt;&lt;/i&gt; 0.001&lt;br&gt;Neutral &lt;i class=&#x27;em em-cat&#x27;&gt;&lt;/i&gt; 0.057&lt;br&gt;Negative &lt;i class=&#x27;em em-pouting_cat&#x27;&gt;&lt;/i&gt; 0.943&lt;br&gt;Attention &lt;i class=&#x27;em em-warning&#x27;&gt;&lt;/i&gt; 0.013&quot;&gt;menurut&lt;/mark&gt; &lt;mark style=&#x27;background-color:rgb(255, 139, 118)&#x27; class=&#x27;tooltipped&#x27; data-position=&#x27;bottom&#x27; data-tooltip=&quot;Positive &lt;i class=&#x27;em em-smiley_cat&#x27;&gt;&lt;/i&gt; 0.000&lt;br&gt;Neutral &lt;i class=&#x27;em em-cat&#x27;&gt;&lt;/i&gt; 0.030&lt;br&gt;Negative &lt;i class=&#x27;em em-pouting_cat&#x27;&gt;&lt;/i&gt; 0.970&lt;br&gt;Attention &lt;i class=&#x27;em em-warning&#x27;&gt;&lt;/i&gt; 0.009&quot;&gt;Timbalan&lt;/mark&gt; &lt;mark style=&#x27;background-color:rgb(255, 139, 118)&#x27; class=&#x27;tooltipped&#x27; data-position=&#x27;bottom&#x27; data-tooltip=&quot;Positive &lt;i class=&#x27;em em-smiley_cat&#x27;&gt;&lt;/i&gt; 0.001&lt;br&gt;Neutral &lt;i class=&#x27;em em-cat&#x27;&gt;&lt;/i&gt; 0.080&lt;br&gt;Negative &lt;i class=&#x27;em em-pouting_cat&#x27;&gt;&lt;/i&gt; 0.919&lt;br&gt;Attention &lt;i class=&#x27;em em-warning&#x27;&gt;&lt;/i&gt; 0.014&quot;&gt;Besarnya,&lt;/mark&gt; &lt;mark style=&#x27;background-color:rgb(255, 139, 118)&#x27; class=&#x27;tooltipped&#x27; data-position=&#x27;bottom&#x27; data-tooltip=&quot;Positive &lt;i class=&#x27;em em-smiley_cat&#x27;&gt;&lt;/i&gt; 0.001&lt;br&gt;Neutral &lt;i class=&#x27;em em-cat&#x27;&gt;&lt;/i&gt; 0.109&lt;br&gt;Negative &lt;i class=&#x27;em em-pouting_cat&#x27;&gt;&lt;/i&gt; 0.890&lt;br&gt;Attention &lt;i class=&#x27;em em-warning&#x27;&gt;&lt;/i&gt; 0.003&quot;&gt;Datuk&lt;/mark&gt; &lt;mark style=&#x27;background-color:rgb(255, 139, 118)&#x27; class=&#x27;tooltipped&#x27; data-position=&#x27;bottom&#x27; data-tooltip=&quot;Positive &lt;i class=&#x27;em em-smiley_cat&#x27;&gt;&lt;/i&gt; 0.001&lt;br&gt;Neutral &lt;i class=&#x27;em em-cat&#x27;&gt;&lt;/i&gt; 0.093&lt;br&gt;Negative &lt;i class=&#x27;em em-pouting_cat&#x27;&gt;&lt;/i&gt; 0.906&lt;br&gt;Attention &lt;i class=&#x27;em em-warning&#x27;&gt;&lt;/i&gt; 0.008&quot;&gt;Mohd&lt;/mark&gt; &lt;mark style=&#x27;background-color:rgb(255, 139, 118)&#x27; class=&#x27;tooltipped&#x27; data-position=&#x27;bottom&#x27; data-tooltip=&quot;Positive &lt;i class=&#x27;em em-smiley_cat&#x27;&gt;&lt;/i&gt; 0.000&lt;br&gt;Neutral &lt;i class=&#x27;em em-cat&#x27;&gt;&lt;/i&gt; 0.042&lt;br&gt;Negative &lt;i class=&#x27;em em-pouting_cat&#x27;&gt;&lt;/i&gt; 0.957&lt;br&gt;Attention &lt;i class=&#x27;em em-warning&#x27;&gt;&lt;/i&gt; 0.003&quot;&gt;Amar&lt;/mark&gt; &lt;mark style=&#x27;background-color:rgb(255, 139, 118)&#x27; class=&#x27;tooltipped&#x27; data-position=&#x27;bottom&#x27; data-tooltip=&quot;Positive &lt;i class=&#x27;em em-smiley_cat&#x27;&gt;&lt;/i&gt; 0.001&lt;br&gt;Neutral &lt;i class=&#x27;em em-cat&#x27;&gt;&lt;/i&gt; 0.054&lt;br&gt;Negative &lt;i class=&#x27;em em-pouting_cat&#x27;&gt;&lt;/i&gt; 0.945&lt;br&gt;Attention &lt;i class=&#x27;em em-warning&#x27;&gt;&lt;/i&gt; 0.006&quot;&gt;Nik&lt;/mark&gt; &lt;mark style=&#x27;background-color:rgb(255, 139, 118)&#x27; class=&#x27;tooltipped&#x27; data-position=&#x27;bottom&#x27; data-tooltip=&quot;Positive &lt;i class=&#x27;em em-smiley_cat&#x27;&gt;&lt;/i&gt; 0.001&lt;br&gt;Neutral &lt;i class=&#x27;em em-cat&#x27;&gt;&lt;/i&gt; 0.062&lt;br&gt;Negative &lt;i class=&#x27;em em-pouting_cat&#x27;&gt;&lt;/i&gt; 0.938&lt;br&gt;Attention &lt;i class=&#x27;em em-warning&#x27;&gt;&lt;/i&gt; 0.008&quot;&gt;Abdullah,&lt;/mark&gt; &lt;mark style=&#x27;background-color:rgb(255, 139, 118)&#x27; class=&#x27;tooltipped&#x27; data-position=&#x27;bottom&#x27; data-tooltip=&quot;Positive &lt;i class=&#x27;em em-smiley_cat&#x27;&gt;&lt;/i&gt; 0.000&lt;br&gt;Neutral &lt;i class=&#x27;em em-cat&#x27;&gt;&lt;/i&gt; 0.040&lt;br&gt;Negative &lt;i class=&#x27;em em-pouting_cat&#x27;&gt;&lt;/i&gt; 0.960&lt;br&gt;Attention &lt;i class=&#x27;em em-warning&#x27;&gt;&lt;/i&gt; 0.007&quot;&gt;lain&lt;/mark&gt; &lt;mark style=&#x27;background-color:rgb(255, 139, 118)&#x27; class=&#x27;tooltipped&#x27; data-position=&#x27;bottom&#x27; data-tooltip=&quot;Positive &lt;i class=&#x27;em em-smiley_cat&#x27;&gt;&lt;/i&gt; 0.001&lt;br&gt;Neutral &lt;i class=&#x27;em em-cat&#x27;&gt;&lt;/i&gt; 0.084&lt;br&gt;Negative &lt;i class=&#x27;em em-pouting_cat&#x27;&gt;&lt;/i&gt; 0.916&lt;br&gt;Attention &lt;i class=&#x27;em em-warning&#x27;&gt;&lt;/i&gt; 0.002&quot;&gt;lebih&lt;/mark&gt; &lt;mark style=&#x27;background-color:rgb(255, 139, 118)&#x27; class=&#x27;tooltipped&#x27; data-position=&#x27;bottom&#x27; data-tooltip=&quot;Positive &lt;i class=&#x27;em em-smiley_cat&#x27;&gt;&lt;/i&gt; 0.000&lt;br&gt;Neutral &lt;i class=&#x27;em em-cat&#x27;&gt;&lt;/i&gt; 0.031&lt;br&gt;Negative &lt;i class=&#x27;em em-pouting_cat&#x27;&gt;&lt;/i&gt; 0.969&lt;br&gt;Attention &lt;i class=&#x27;em em-warning&#x27;&gt;&lt;/i&gt; 0.003&quot;&gt;maju&lt;/mark&gt; &lt;mark style=&#x27;background-color:rgb(255, 139, 118)&#x27; class=&#x27;tooltipped&#x27; data-position=&#x27;bottom&#x27; data-tooltip=&quot;Positive &lt;i class=&#x27;em em-smiley_cat&#x27;&gt;&lt;/i&gt; 0.001&lt;br&gt;Neutral &lt;i class=&#x27;em em-cat&#x27;&gt;&lt;/i&gt; 0.054&lt;br&gt;Negative &lt;i class=&#x27;em em-pouting_cat&#x27;&gt;&lt;/i&gt; 0.945&lt;br&gt;Attention &lt;i class=&#x27;em em-warning&#x27;&gt;&lt;/i&gt; 0.009&quot;&gt;turut&lt;/mark&gt; &lt;mark style=&#x27;background-color:rgb(255, 139, 118)&#x27; class=&#x27;tooltipped&#x27; data-position=&#x27;bottom&#x27; data-tooltip=&quot;Positive &lt;i class=&#x27;em em-smiley_cat&#x27;&gt;&lt;/i&gt; 0.001&lt;br&gt;Neutral &lt;i class=&#x27;em em-cat&#x27;&gt;&lt;/i&gt; 0.085&lt;br&gt;Negative &lt;i class=&#x27;em em-pouting_cat&#x27;&gt;&lt;/i&gt; 0.915&lt;br&gt;Attention &lt;i class=&#x27;em em-warning&#x27;&gt;&lt;/i&gt; 0.007&quot;&gt;mendapat&lt;/mark&gt; &lt;mark style=&#x27;background-color:rgb(255, 139, 118)&#x27; class=&#x27;tooltipped&#x27; data-position=&#x27;bottom&#x27; data-tooltip=&quot;Positive &lt;i class=&#x27;em em-smiley_cat&#x27;&gt;&lt;/i&gt; 0.001&lt;br&gt;Neutral &lt;i class=&#x27;em em-cat&#x27;&gt;&lt;/i&gt; 0.061&lt;br&gt;Negative &lt;i class=&#x27;em em-pouting_cat&#x27;&gt;&lt;/i&gt; 0.938&lt;br&gt;Attention &lt;i class=&#x27;em em-warning&#x27;&gt;&lt;/i&gt; 0.011&quot;&gt;pembiayaan&lt;/mark&gt; &lt;mark style=&#x27;background-color:rgb(255, 139, 118)&#x27; class=&#x27;tooltipped&#x27; data-position=&#x27;bottom&#x27; data-tooltip=&quot;Positive &lt;i class=&#x27;em em-smiley_cat&#x27;&gt;&lt;/i&gt; 0.001&lt;br&gt;Neutral &lt;i class=&#x27;em em-cat&#x27;&gt;&lt;/i&gt; 0.069&lt;br&gt;Negative &lt;i class=&#x27;em em-pouting_cat&#x27;&gt;&lt;/i&gt; 0.930&lt;br&gt;Attention &lt;i class=&#x27;em em-warning&#x27;&gt;&lt;/i&gt; 0.017&quot;&gt;dan&lt;/mark&gt; &lt;mark style=&#x27;background-color:rgb(255, 139, 118)&#x27; class=&#x27;tooltipped&#x27; data-position=&#x27;bottom&#x27; data-tooltip=&quot;Positive &lt;i class=&#x27;em em-smiley_cat&#x27;&gt;&lt;/i&gt; 0.001&lt;br&gt;Neutral &lt;i class=&#x27;em em-cat&#x27;&gt;&lt;/i&gt; 0.111&lt;br&gt;Negative &lt;i class=&#x27;em em-pouting_cat&#x27;&gt;&lt;/i&gt; 0.888&lt;br&gt;Attention &lt;i class=&#x27;em em-warning&#x27;&gt;&lt;/i&gt; 0.100&quot;&gt;pinjaman.&lt;/mark&gt;&lt;/p&gt;\n",
       "      &lt;/div&gt;\n",
       "    &lt;/div&gt;\n",
       "  &lt;/main&gt;\n",
       "&lt;/body&gt;\n",
       "\n",
       "&lt;script src=&quot;https://code.jquery.com/jquery-3.4.1.slim.js&quot;&gt;&lt;/script&gt;\n",
       "&lt;script src=&quot;https://cdnjs.cloudflare.com/ajax/libs/materialize/1.0.0/js/materialize.min.js&quot;&gt;&lt;/script&gt;\n",
       "&lt;script src=&quot;https://cdn.jsdelivr.net/gh/huseinzol05/malaya/malaya/function/web/static/echarts.min.js&quot;&gt;&lt;/script&gt;\n",
       "\n",
       "&lt;script&gt;\n",
       "\n",
       "  var plot = echarts.init(document.getElementById(&#x27;count&#x27;));\n",
       "  var colors = [&#x27;rgb(143, 255, 113)&#x27;, &#x27;rgb(255, 238, 109)&#x27;, &#x27;rgb(255, 139, 118)&#x27;];\n",
       "\n",
       "  option = {\n",
       "    title: {\n",
       "      text: &#x27;Classes barplot&#x27;\n",
       "    },\n",
       "    tooltip: {\n",
       "      trigger: &#x27;axis&#x27;,\n",
       "      axisPointer: {\n",
       "        type: &#x27;cross&#x27;\n",
       "      }\n",
       "    },\n",
       "    data: [&#x27;Positive&#x27;, &#x27;Neutral&#x27;, &#x27;Negative&#x27;],\n",
       "    xAxis: {\n",
       "      type: &#x27;category&#x27;,\n",
       "      data: [&#x27;Positive&#x27;, &#x27;Neutral&#x27;, &#x27;Negative&#x27;]\n",
       "    },\n",
       "    yAxis: {\n",
       "      type: &#x27;value&#x27;,\n",
       "      splitLine: {\n",
       "        show: false\n",
       "      }\n",
       "    },\n",
       "    series: [{\n",
       "      data: [1, &#x27;-&#x27;, &#x27;-&#x27;],\n",
       "      stack: &#x27;1&#x27;,\n",
       "      type: &#x27;bar&#x27;,\n",
       "      name: &#x27;Positive&#x27;,\n",
       "      color: colors[0],\n",
       "      label: {\n",
       "        normal: {\n",
       "          show: true,\n",
       "          position: &#x27;top&#x27;\n",
       "        }\n",
       "      },\n",
       "    },\n",
       "    {\n",
       "      data: [&#x27;-&#x27;, 2, &#x27;-&#x27;],\n",
       "      type: &#x27;bar&#x27;,\n",
       "      stack: &#x27;1&#x27;,\n",
       "      name: &#x27;Neutral&#x27;,\n",
       "      color: colors[1],\n",
       "      label: {\n",
       "        normal: {\n",
       "          show: true,\n",
       "          position: &#x27;top&#x27;\n",
       "        }\n",
       "      },\n",
       "    },\n",
       "    {\n",
       "      data: [&#x27;-&#x27;, &#x27;-&#x27;, 44],\n",
       "      type: &#x27;bar&#x27;,\n",
       "      stack: &#x27;1&#x27;,\n",
       "      name: &#x27;Negative&#x27;,\n",
       "      color: colors[2],\n",
       "      label: {\n",
       "        normal: {\n",
       "          show: true,\n",
       "          position: &#x27;top&#x27;\n",
       "        }\n",
       "      },\n",
       "    }\n",
       "    ]\n",
       "  };\n",
       "  plot.setOption(option = option)\n",
       "\n",
       "  option = {\n",
       "    tooltip: {\n",
       "      trigger: &#x27;axis&#x27;,\n",
       "      axisPointer: {\n",
       "        type: &#x27;cross&#x27;\n",
       "      }\n",
       "    },\n",
       "    title: {\n",
       "      text: &#x27;probability histogram&#x27;\n",
       "    },\n",
       "    xAxis: {\n",
       "      type: &#x27;category&#x27;,\n",
       "      data: [0.0, 0.05, 0.1, 0.15000000000000002, 0.2, 0.25, 0.30000000000000004, 0.35000000000000003, 0.4, 0.45, 0.5, 0.55, 0.6000000000000001, 0.65, 0.7000000000000001, 0.75, 0.8, 0.8500000000000001, 0.9, 0.9500000000000001, 1.0]\n",
       "    },\n",
       "    yAxis: {\n",
       "      type: &#x27;value&#x27;,\n",
       "      splitLine: {\n",
       "        show: false\n",
       "      }\n",
       "    },\n",
       "    series: [{\n",
       "      data: [0.0, 0.0, 0.0, 0.0, 0.0, 0.0, 0.0, 0.0, 0.0, 0.0, 0.0, 0.0, 0.0, 0.0, 0.0, 0.0, 0.022727272727272728, 0.13636363636363635, 0.5681818181818182, 0.2727272727272727],\n",
       "      type: &#x27;bar&#x27;\n",
       "    }]\n",
       "  };\n",
       "\n",
       "  var plot = echarts.init(document.getElementById(&#x27;histogram&#x27;));\n",
       "  plot.setOption(option = option)\n",
       "\n",
       "  option = {\n",
       "    title: {\n",
       "      text: &#x27;Attention&#x27;\n",
       "    },\n",
       "    tooltip: {\n",
       "      trigger: &#x27;axis&#x27;,\n",
       "      axisPointer: {\n",
       "        type: &#x27;cross&#x27;\n",
       "      }\n",
       "    },\n",
       "    xAxis: {\n",
       "      type: &#x27;category&#x27;,\n",
       "      name: &#x27;Sentence length&#x27;,\n",
       "      nameLocation: &#x27;center&#x27;,\n",
       "      nameGap: 30,\n",
       "      data: [0, 1, 2, 3, 4, 5, 6, 7, 8, 9, 10, 11, 12, 13, 14, 15, 16, 17, 18, 19, 20, 21, 22, 23, 24, 25, 26, 27, 28, 29, 30, 31, 32, 33, 34, 35, 36, 37, 38, 39, 40, 41, 42, 43]\n",
       "    },\n",
       "    yAxis: {\n",
       "      type: &#x27;value&#x27;,\n",
       "      splitLine: {\n",
       "        show: false\n",
       "      }\n",
       "    },\n",
       "    series: [{\n",
       "      data: [0.09305358678102493, 0.07534266263246536, 0.07040810585021973, 0.08062854409217834, 0.037300098687410355, 0.009268736466765404, 0.037254851311445236, 0.10051801800727844, 0.029227226972579956, 0.029783982783555984, 0.019545191898941994, 0.013940096832811832, 0.017403800040483475, 0.009383097290992737, 0.012508420273661613, 0.010860851965844631, 0.004658146295696497, 0.004326075781136751, 0.004356427118182182, 0.004468878265470266, 0.012131324037909508, 0.03644337132573128, 0.019767988473176956, 0.01342970971018076, 0.009126055054366589, 0.019104495644569397, 0.013584719970822334, 0.0031759999692440033, 0.007524138782173395, 0.0025307475589215755, 0.005830895621329546, 0.00817375909537077, 0.005330157466232777, 0.007037017960101366, 0.0024449664633721113, 0.0017545674927532673, 0.0027799091767519712, 0.006628089584410191, 0.015093612484633923, 0.009242493659257889, 0.007145371753722429, 0.010766238905489445, 0.017216281965374947, 0.09950128197669983],\n",
       "      type: &#x27;line&#x27;,\n",
       "      showSymbol: false\n",
       "    }]\n",
       "  };\n",
       "\n",
       "  var plot = echarts.init(document.getElementById(&#x27;entropy&#x27;));\n",
       "  plot.setOption(option = option)\n",
       "\n",
       "  document.addEventListener(&#x27;DOMContentLoaded&#x27;, function () {\n",
       "    var elems = document.querySelectorAll(&#x27;.tooltipped&#x27;);\n",
       "    var instances = M.Tooltip.init(elems);\n",
       "  });\n",
       "\n",
       "&lt;/script&gt;\n",
       "\n",
       "&lt;/html&gt;\" style=\"position:absolute;width:100%;height:500px;left:0;top:0;border:none !important;\" allowfullscreen webkitallowfullscreen mozallowfullscreen></iframe></div></div>"
      ],
      "text/plain": [
       "<IPython.core.display.HTML object>"
      ]
     },
     "metadata": {},
     "output_type": "display_data"
    }
   ],
   "source": [
    "model.predict_words(negative_text)"
   ]
  },
  {
   "cell_type": "markdown",
   "metadata": {},
   "source": [
    "### Vectorize\n",
    "\n",
    "Let say you want to visualize sentence / word level in lower dimension, you can use `model.vectorize`,\n",
    "\n",
    "```python\n",
    "def vectorize(self, strings: List[str], method: str = 'first'):\n",
    "    \"\"\"\n",
    "    vectorize list of strings.\n",
    "\n",
    "    Parameters\n",
    "    ----------\n",
    "    strings: List[str]\n",
    "    method : str, optional (default='first')\n",
    "        Vectorization layer supported. Allowed values:\n",
    "\n",
    "        * ``'last'`` - vector from last sequence.\n",
    "        * ``'first'`` - vector from first sequence.\n",
    "        * ``'mean'`` - average vectors from all sequences.\n",
    "        * ``'word'`` - average vectors based on tokens.\n",
    "\n",
    "    Returns\n",
    "    -------\n",
    "    result: np.array\n",
    "    \"\"\"\n",
    "```"
   ]
  },
  {
   "cell_type": "markdown",
   "metadata": {},
   "source": [
    "#### Sentence level"
   ]
  },
  {
   "cell_type": "code",
   "execution_count": 8,
   "metadata": {},
   "outputs": [],
   "source": [
    "texts = [negative_text, positive_text, string1, string2]\n",
    "r = quantized_model.vectorize(texts, method = 'first')"
   ]
  },
  {
   "cell_type": "code",
   "execution_count": 9,
   "metadata": {},
   "outputs": [
    {
     "data": {
      "text/plain": [
       "(4, 2)"
      ]
     },
     "execution_count": 9,
     "metadata": {},
     "output_type": "execute_result"
    }
   ],
   "source": [
    "from sklearn.manifold import TSNE\n",
    "import matplotlib.pyplot as plt\n",
    "\n",
    "tsne = TSNE().fit_transform(r)\n",
    "tsne.shape"
   ]
  },
  {
   "cell_type": "code",
   "execution_count": 11,
   "metadata": {},
   "outputs": [
    {
     "data": {
      "image/png": "[encoded data removed]",
      "text/plain": [
       "<Figure size 504x504 with 1 Axes>"
      ]
     },
     "metadata": {
      "needs_background": "light"
     },
     "output_type": "display_data"
    }
   ],
   "source": [
    "plt.figure(figsize = (7, 7))\n",
    "plt.scatter(tsne[:, 0], tsne[:, 1])\n",
    "labels = texts\n",
    "for label, x, y in zip(\n",
    "    labels, tsne[:, 0], tsne[:, 1]\n",
    "):\n",
    "    label = (\n",
    "        '%s, %.3f' % (label[0], label[1])\n",
    "        if isinstance(label, list)\n",
    "        else label\n",
    "    )\n",
    "    plt.annotate(\n",
    "        label,\n",
    "        xy = (x, y),\n",
    "        xytext = (0, 0),\n",
    "        textcoords = 'offset points',\n",
    "    )"
   ]
  },
  {
   "cell_type": "markdown",
   "metadata": {},
   "source": [
    "#### Word level"
   ]
  },
  {
   "cell_type": "code",
   "execution_count": 12,
   "metadata": {},
   "outputs": [],
   "source": [
    "r = quantized_model.vectorize(texts, method = 'word')"
   ]
  },
  {
   "cell_type": "code",
   "execution_count": 13,
   "metadata": {},
   "outputs": [],
   "source": [
    "x, y = [], []\n",
    "for row in r:\n",
    "    x.extend([i[0] for i in row])\n",
    "    y.extend([i[1] for i in row])"
   ]
  },
  {
   "cell_type": "code",
   "execution_count": 14,
   "metadata": {},
   "outputs": [
    {
     "data": {
      "text/plain": [
       "(109, 2)"
      ]
     },
     "execution_count": 14,
     "metadata": {},
     "output_type": "execute_result"
    }
   ],
   "source": [
    "tsne = TSNE().fit_transform(y)\n",
    "tsne.shape"
   ]
  },
  {
   "cell_type": "code",
   "execution_count": 15,
   "metadata": {},
   "outputs": [
    {
     "data": {
      "image/png": "[encoded data removed]",
      "text/plain": [
       "<Figure size 504x504 with 1 Axes>"
      ]
     },
     "metadata": {
      "needs_background": "light"
     },
     "output_type": "display_data"
    }
   ],
   "source": [
    "plt.figure(figsize = (7, 7))\n",
    "plt.scatter(tsne[:, 0], tsne[:, 1])\n",
    "labels = x\n",
    "for label, x, y in zip(\n",
    "    labels, tsne[:, 0], tsne[:, 1]\n",
    "):\n",
    "    label = (\n",
    "        '%s, %.3f' % (label[0], label[1])\n",
    "        if isinstance(label, list)\n",
    "        else label\n",
    "    )\n",
    "    plt.annotate(\n",
    "        label,\n",
    "        xy = (x, y),\n",
    "        xytext = (0, 0),\n",
    "        textcoords = 'offset points',\n",
    "    )"
   ]
  },
  {
   "cell_type": "markdown",
   "metadata": {},
   "source": [
    "Pretty good, the model able to know cluster top side as positive subjectivity, bottom side as negative subjectivity."
   ]
  },
  {
   "cell_type": "markdown",
   "metadata": {},
   "source": [
    "### Stacking models\n",
    "\n",
    "More information, you can read at [https://malaya.readthedocs.io/en/latest/Stack.html](https://malaya.readthedocs.io/en/latest/Stack.html)"
   ]
  },
  {
   "cell_type": "code",
   "execution_count": 6,
   "metadata": {},
   "outputs": [],
   "source": [
    "multinomial = malaya.subjectivity.multinomial()\n",
    "alxlnet = malaya.subjectivity.transformer(model = 'alxlnet')"
   ]
  },
  {
   "cell_type": "code",
   "execution_count": 12,
   "metadata": {},
   "outputs": [
    {
     "data": {
      "text/plain": [
       "[{'negative': 0.19735892950073536,\n",
       "  'positive': 0.003119166818228667,\n",
       "  'neutral': 0.1160071232668102}]"
      ]
     },
     "execution_count": 12,
     "metadata": {},
     "output_type": "execute_result"
    }
   ],
   "source": [
    "malaya.stack.predict_stack([multinomial, model, alxlnet], [positive_text])"
   ]
  },
  {
   "cell_type": "code",
   "execution_count": 13,
   "metadata": {},
   "outputs": [
    {
     "data": {
      "text/plain": [
       "[{'negative': 0.7424157666636825, 'positive': 0.04498033797670938}]"
      ]
     },
     "execution_count": 13,
     "metadata": {},
     "output_type": "execute_result"
    }
   ],
   "source": [
    "malaya.stack.predict_stack([multinomial, model, alxlnet], [positive_text], add_neutral = False)"
   ]
  }
 ],
 "metadata": {
  "kernelspec": {
   "display_name": "Python 3",
   "language": "python",
   "name": "python3"
  },
  "language_info": {
   "codemirror_mode": {
    "name": "ipython",
    "version": 3
   },
   "file_extension": ".py",
   "mimetype": "text/x-python",
   "name": "python",
   "nbconvert_exporter": "python",
   "pygments_lexer": "ipython3",
   "version": "3.7.7"
  }
 },
 "nbformat": 4,
 "nbformat_minor": 2
}
