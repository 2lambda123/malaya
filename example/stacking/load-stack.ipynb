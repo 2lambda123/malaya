{
 "cells": [
  {
   "cell_type": "markdown",
   "metadata": {},
   "source": [
    "## Why Stacking?\n",
    "\n",
    "Sometime a single model is not good enough. So, you need to use multiple models to get a better result! It called stacking."
   ]
  },
  {
   "cell_type": "code",
   "execution_count": 1,
   "metadata": {},
   "outputs": [],
   "source": [
    "import malaya"
   ]
  },
  {
   "cell_type": "code",
   "execution_count": 2,
   "metadata": {},
   "outputs": [],
   "source": [
    "bahdanau = malaya.sentiment.deep_model('bahdanau')\n",
    "luong = malaya.sentiment.deep_model('luong')\n",
    "entity = malaya.sentiment.deep_model('entity-network')\n",
    "multinomial = malaya.sentiment.multinomial()"
   ]
  },
  {
   "cell_type": "markdown",
   "metadata": {},
   "source": [
    "## Stack multiple sentiment models"
   ]
  },
  {
   "cell_type": "markdown",
   "metadata": {},
   "source": [
    "`malaya.stack.predict_stack` provide an easy stacking solution for Malaya models. Well, not just for sentiment models, any classification models can use `malaya.stack.predict_stack`.\n",
    "\n",
    "```python\n",
    "def predict_stack(models, text, mode = 'gmean'):\n",
    "    \"\"\"\n",
    "    Stacking for predictive models.\n",
    "\n",
    "    Parameters\n",
    "    ----------\n",
    "    models: list\n",
    "        list of models\n",
    "    text: str\n",
    "        string to predict\n",
    "    mode : str, optional (default='gmean')\n",
    "        Model architecture supported. Allowed values:\n",
    "\n",
    "        * ``'gmean'`` - geometrical mean\n",
    "        * ``'hmean'`` - harmonic mean\n",
    "        * ``'mean'`` - mean\n",
    "        * ``'min'`` - min\n",
    "        * ``'max'`` - max\n",
    "        * ``'median'`` - Harrell-Davis median\n",
    "\n",
    "\n",
    "    Returns\n",
    "    -------\n",
    "    result: dict\n",
    "    \"\"\"\n",
    "```"
   ]
  },
  {
   "cell_type": "code",
   "execution_count": 3,
   "metadata": {},
   "outputs": [
    {
     "data": {
      "text/plain": [
       "{'negative': 0.5549062374008705, 'positive': 0.4072814056650461}"
      ]
     },
     "execution_count": 3,
     "metadata": {},
     "output_type": "execute_result"
    }
   ],
   "source": [
    "malaya.stack.predict_stack([bahdanau,\n",
    "                            luong,\n",
    "                            entity,\n",
    "                            multinomial],\n",
    "                          'harga minyak tak menentu')"
   ]
  },
  {
   "cell_type": "markdown",
   "metadata": {},
   "source": [
    "## Stack multiple toxic models"
   ]
  },
  {
   "cell_type": "code",
   "execution_count": 4,
   "metadata": {},
   "outputs": [
    {
     "data": {
      "text/plain": [
       "{'toxic': 0.2057164,\n",
       " 'severe_toxic': 0.06787095,\n",
       " 'obscene': 0.15890868,\n",
       " 'threat': 0.15786164,\n",
       " 'insult': 0.15252964,\n",
       " 'identity_hate': 0.12279783}"
      ]
     },
     "execution_count": 4,
     "metadata": {},
     "output_type": "execute_result"
    }
   ],
   "source": [
    "bahdanau = malaya.toxic.deep_model('bahdanau')\n",
    "luong = malaya.toxic.deep_model('luong')\n",
    "entity = malaya.toxic.deep_model('entity-network')\n",
    "malaya.stack.predict_stack([bahdanau,\n",
    "                            luong,\n",
    "                            entity],\n",
    "                          'harga minyak tak menentu')"
   ]
  },
  {
   "cell_type": "markdown",
   "metadata": {},
   "source": [
    "## Stack language detection models"
   ]
  },
  {
   "cell_type": "code",
   "execution_count": 5,
   "metadata": {},
   "outputs": [
    {
     "data": {
      "text/plain": [
       "{'OTHER': 0.0, 'ENGLISH': 0.0, 'INDONESIA': 0.9305759540118518, 'MALAY': 0.0}"
      ]
     },
     "execution_count": 5,
     "metadata": {},
     "output_type": "execute_result"
    }
   ],
   "source": [
    "xgb = malaya.language_detection.xgb()\n",
    "multinomial = malaya.language_detection.multinomial()\n",
    "sgd = malaya.language_detection.sgd()\n",
    "malaya.stack.predict_stack([xgb,\n",
    "                            multinomial,\n",
    "                            sgd],\n",
    "                          'didukungi secara natifnya')"
   ]
  },
  {
   "cell_type": "markdown",
   "metadata": {},
   "source": [
    "## Stack tagging models"
   ]
  },
  {
   "cell_type": "markdown",
   "metadata": {},
   "source": [
    "For tagging models, we use majority voting stacking. So you need to need have more than 2 models to make it perfect, or else, it will pick randomly from 2 models. `malaya.stack.voting_stack` provides easy interface for this kind of stacking. **But only can use for Entites and POS recognition.**\n",
    "\n",
    "```python\n",
    "def voting_stack(models, text):\n",
    "    \"\"\"\n",
    "    Stacking for POS and Entities Recognition models.\n",
    "\n",
    "    Parameters\n",
    "    ----------\n",
    "    models: list\n",
    "        list of models\n",
    "    text: str\n",
    "        string to predict\n",
    "\n",
    "    Returns\n",
    "    -------\n",
    "    result: list\n",
    "    \"\"\"\n",
    "```"
   ]
  },
  {
   "cell_type": "code",
   "execution_count": 6,
   "metadata": {},
   "outputs": [
    {
     "data": {
      "text/plain": [
       "[('kuala', 'location'),\n",
       " ('lumpur', 'location'),\n",
       " ('sempena', 'OTHER'),\n",
       " ('sambutan', 'event'),\n",
       " ('aidilfitri', 'event'),\n",
       " ('minggu', 'time'),\n",
       " ('depan', 'time'),\n",
       " ('perdana', 'person'),\n",
       " ('menteri', 'person'),\n",
       " ('tun', 'person'),\n",
       " ('dr', 'person'),\n",
       " ('mahathir', 'person'),\n",
       " ('mohamad', 'person'),\n",
       " ('dan', 'OTHER'),\n",
       " ('menteri', 'person'),\n",
       " ('pengangkutan', 'OTHER'),\n",
       " ('anthony', 'person'),\n",
       " ('loke', 'person'),\n",
       " ('siew', 'person'),\n",
       " ('fook', 'person'),\n",
       " ('menitipkan', 'OTHER'),\n",
       " ('pesanan', 'OTHER'),\n",
       " ('khas', 'OTHER'),\n",
       " ('kepada', 'OTHER'),\n",
       " ('orang', 'OTHER'),\n",
       " ('ramai', 'OTHER'),\n",
       " ('yang', 'OTHER'),\n",
       " ('mahu', 'OTHER'),\n",
       " ('pulang', 'OTHER'),\n",
       " ('ke', 'OTHER'),\n",
       " ('kampung', 'OTHER'),\n",
       " ('halaman', 'OTHER'),\n",
       " ('masing-masing', 'OTHER'),\n",
       " ('dalam', 'OTHER'),\n",
       " ('video', 'OTHER'),\n",
       " ('pendek', 'OTHER'),\n",
       " ('terbitan', 'OTHER'),\n",
       " ('jabatan', 'organization'),\n",
       " ('keselamatan', 'organization'),\n",
       " ('jalan', 'organization'),\n",
       " ('raya', 'organization'),\n",
       " ('jkjr', 'organization'),\n",
       " ('itu', 'OTHER'),\n",
       " ('dr', 'person'),\n",
       " ('mahathir', 'person'),\n",
       " ('menasihati', 'OTHER'),\n",
       " ('mereka', 'OTHER'),\n",
       " ('supaya', 'OTHER'),\n",
       " ('berhenti', 'OTHER'),\n",
       " ('berehat', 'OTHER'),\n",
       " ('dan', 'OTHER'),\n",
       " ('tidur', 'OTHER'),\n",
       " ('sebentar', 'OTHER'),\n",
       " ('sekiranya', 'OTHER'),\n",
       " ('mengantuk', 'OTHER'),\n",
       " ('ketika', 'OTHER'),\n",
       " ('memandu', 'OTHER')]"
      ]
     },
     "execution_count": 6,
     "metadata": {},
     "output_type": "execute_result"
    }
   ],
   "source": [
    "string = 'KUALA LUMPUR: Sempena sambutan Aidilfitri minggu depan, Perdana Menteri Tun Dr Mahathir Mohamad dan Menteri Pengangkutan Anthony Loke Siew Fook menitipkan pesanan khas kepada orang ramai yang mahu pulang ke kampung halaman masing-masing. Dalam video pendek terbitan Jabatan Keselamatan Jalan Raya (JKJR) itu, Dr Mahathir menasihati mereka supaya berhenti berehat dan tidur sebentar  sekiranya mengantuk ketika memandu.'\n",
    "entity_network = malaya.entity.deep_model('entity-network')\n",
    "bahdanau = malaya.entity.deep_model('bahdanau')\n",
    "luong = malaya.entity.deep_model('luong')\n",
    "malaya.stack.voting_stack([entity_network, bahdanau, luong], string)"
   ]
  },
  {
   "cell_type": "code",
   "execution_count": null,
   "metadata": {},
   "outputs": [],
   "source": []
  }
 ],
 "metadata": {
  "kernelspec": {
   "display_name": "Python 3",
   "language": "python",
   "name": "python3"
  },
  "language_info": {
   "codemirror_mode": {
    "name": "ipython",
    "version": 3
   },
   "file_extension": ".py",
   "mimetype": "text/x-python",
   "name": "python",
   "nbconvert_exporter": "python",
   "pygments_lexer": "ipython3",
   "version": "3.6.5"
  }
 },
 "nbformat": 4,
 "nbformat_minor": 2
}
