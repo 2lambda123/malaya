{
 "cells": [
  {
   "cell_type": "markdown",
   "metadata": {},
   "source": [
    "# LDA2Vec"
   ]
  },
  {
   "cell_type": "markdown",
   "metadata": {},
   "source": [
    "<div class=\"alert alert-info\">\n",
    "\n",
    "This tutorial is available as an IPython notebook at [Malaya/example/topic-modeling-lda2vec](https://github.com/huseinzol05/Malaya/tree/master/example/topic-modeling-lda2vec).\n",
    "    \n",
    "</div>"
   ]
  },
  {
   "cell_type": "code",
   "execution_count": 1,
   "metadata": {},
   "outputs": [],
   "source": [
    "import os\n",
    "\n",
    "os.environ['CUDA_VISIBLE_DEVICES'] = ''"
   ]
  },
  {
   "cell_type": "code",
   "execution_count": 2,
   "metadata": {},
   "outputs": [],
   "source": [
    "import pandas as pd\n",
    "import malaya"
   ]
  },
  {
   "cell_type": "code",
   "execution_count": 3,
   "metadata": {},
   "outputs": [],
   "source": [
    "df = pd.read_csv('tests/02032018.csv',sep=';')\n",
    "df = df.iloc[3:,1:]\n",
    "df.columns = ['text','label']\n",
    "corpus = df.text.tolist()"
   ]
  },
  {
   "cell_type": "markdown",
   "metadata": {},
   "source": [
    "You can get this file https://github.com/huseinzol05/malaya/blob/master/tests/02032018.csv . **This csv already stemmed.**"
   ]
  },
  {
   "cell_type": "markdown",
   "metadata": {},
   "source": [
    "### Load vectorizer object\n",
    "\n",
    "You can use `TfidfVectorizer`, `CountVectorizer`, or any vectorizer as long `fit_transform` method exists."
   ]
  },
  {
   "cell_type": "code",
   "execution_count": 4,
   "metadata": {},
   "outputs": [],
   "source": [
    "from malaya.text.vectorizer import SkipGramCountVectorizer\n",
    "\n",
    "stopwords = malaya.text.function.get_stopwords()\n",
    "vectorizer = SkipGramCountVectorizer(\n",
    "    max_df = 0.95,\n",
    "    min_df = 1,\n",
    "    ngram_range = (1, 3),\n",
    "    stop_words = stopwords,\n",
    "    skip = 2\n",
    ")"
   ]
  },
  {
   "cell_type": "markdown",
   "metadata": {},
   "source": [
    "### Train LDA2Vec model\n",
    "\n",
    "```python\n",
    "def fit(\n",
    "    corpus: List[str],\n",
    "    vectorizer,\n",
    "    n_topics: int = 10,\n",
    "    cleaning=simple_textcleaning,\n",
    "    stopwords=get_stopwords,\n",
    "    window_size: int = 2,\n",
    "    embedding_size: int = 128,\n",
    "    epoch: int = 10,\n",
    "    switch_loss: int = 1000,\n",
    "    random_state: int = 10,\n",
    "    **kwargs,\n",
    "):\n",
    "    \"\"\"\n",
    "    Train a LDA2Vec model to do topic modelling based on corpus / list of strings given.\n",
    "\n",
    "    Parameters\n",
    "    ----------\n",
    "    corpus: list\n",
    "    vectorizer : object\n",
    "        Should have `fit_transform` method. Commonly:\n",
    "\n",
    "        * ``sklearn.feature_extraction.text.TfidfVectorizer`` - TFIDF algorithm.\n",
    "        * ``sklearn.feature_extraction.text.CountVectorizer`` - Bag-of-Word algorithm.\n",
    "        * ``malaya.text.vectorizer.SkipGramCountVectorizer`` - Skip Gram Bag-of-Word algorithm.\n",
    "        * ``malaya.text.vectorizer.SkipGramTfidfVectorizer`` - Skip Gram TFIDF algorithm.\n",
    "    n_topics: int, (default=10)\n",
    "        size of decomposition column.\n",
    "    cleaning: function, (default=malaya.text.function.simple_textcleaning)\n",
    "        function to clean the corpus.\n",
    "    stopwords: List[str], (default=malaya.texts.function.get_stopwords)\n",
    "        A callable that returned a List[str], or a List[str], or a Tuple[str]\n",
    "    embedding_size: int, (default=128)\n",
    "        embedding size of lda2vec tensors.\n",
    "    epoch: int, (default=10)\n",
    "        training iteration, how many loop need to train.\n",
    "    switch_loss: int, (default=3)\n",
    "        baseline to switch from document based loss to document + word based loss.\n",
    "    random_state: int, (default=10)\n",
    "        `random_state` for sklearn.utils.shuffle parameter\n",
    "\n",
    "    Returns\n",
    "    -------\n",
    "    result: malaya.topic_modeling.lda2vec.DeepTopic class\n",
    "    \"\"\"\n",
    "```"
   ]
  },
  {
   "cell_type": "code",
   "execution_count": 5,
   "metadata": {},
   "outputs": [
    {
     "name": "stderr",
     "output_type": "stream",
     "text": [
      "Train LDA2Vec will disable eager execution.\n",
      "2022-11-11 21:32:39.526392: I tensorflow/core/platform/cpu_feature_guard.cc:142] This TensorFlow binary is optimized with oneAPI Deep Neural Network Library (oneDNN) to use the following CPU instructions in performance-critical operations:  AVX2 FMA\n",
      "To enable them in other operations, rebuild TensorFlow with the appropriate compiler flags.\n",
      "2022-11-11 21:32:39.530994: E tensorflow/stream_executor/cuda/cuda_driver.cc:271] failed call to cuInit: CUDA_ERROR_NO_DEVICE: no CUDA-capable device is detected\n",
      "2022-11-11 21:32:39.531013: I tensorflow/stream_executor/cuda/cuda_diagnostics.cc:169] retrieving CUDA diagnostic information for host: husein-MS-7D31\n",
      "2022-11-11 21:32:39.531017: I tensorflow/stream_executor/cuda/cuda_diagnostics.cc:176] hostname: husein-MS-7D31\n",
      "2022-11-11 21:32:39.531087: I tensorflow/stream_executor/cuda/cuda_diagnostics.cc:200] libcuda reported version is: Not found: was unable to find libcuda.so DSO loaded into this program\n",
      "2022-11-11 21:32:39.531106: I tensorflow/stream_executor/cuda/cuda_diagnostics.cc:204] kernel reported version is: 470.141.3\n",
      "minibatch loop: 100%|███| 2187/2187 [00:35<00:00, 61.37it/s, cost=22.5, epoch=1]\n",
      "minibatch loop: 100%|███| 2187/2187 [00:35<00:00, 61.92it/s, cost=9.86, epoch=2]\n",
      "minibatch loop: 100%|███| 2187/2187 [00:34<00:00, 62.76it/s, cost=8.26, epoch=3]\n",
      "minibatch loop: 100%|███| 2187/2187 [00:34<00:00, 63.02it/s, cost=7.16, epoch=4]\n",
      "minibatch loop: 100%|███| 2187/2187 [00:34<00:00, 63.33it/s, cost=3.69, epoch=5]\n"
     ]
    }
   ],
   "source": [
    "lda2vec = malaya.topic_model.lda2vec.fit(corpus, vectorizer, n_topics = 10, \n",
    "                                     switch_loss = 5000, epoch = 5)"
   ]
  },
  {
   "cell_type": "markdown",
   "metadata": {},
   "source": [
    "#### Get topics\n",
    "\n",
    "```python\n",
    "def top_topics(\n",
    "    self, len_topic: int, top_n: int = 10, return_df: bool = True\n",
    "):\n",
    "    \"\"\"\n",
    "    Print important topics based on decomposition.\n",
    "\n",
    "    Parameters\n",
    "    ----------\n",
    "    len_topic: int\n",
    "        size of topics.\n",
    "    top_n: int, optional (default=10)\n",
    "        top n of each topic.\n",
    "    return_df: bool, optional (default=True)\n",
    "        return as pandas.DataFrame, else JSON.\n",
    "    \"\"\"\n",
    "```"
   ]
  },
  {
   "cell_type": "code",
   "execution_count": 6,
   "metadata": {},
   "outputs": [
    {
     "data": {
      "text/html": [
       "<div>\n",
       "<style scoped>\n",
       "    .dataframe tbody tr th:only-of-type {\n",
       "        vertical-align: middle;\n",
       "    }\n",
       "\n",
       "    .dataframe tbody tr th {\n",
       "        vertical-align: top;\n",
       "    }\n",
       "\n",
       "    .dataframe thead th {\n",
       "        text-align: right;\n",
       "    }\n",
       "</style>\n",
       "<table border=\"1\" class=\"dataframe\">\n",
       "  <thead>\n",
       "    <tr style=\"text-align: right;\">\n",
       "      <th></th>\n",
       "      <th>topic 0</th>\n",
       "      <th>topic 1</th>\n",
       "      <th>topic 2</th>\n",
       "      <th>topic 3</th>\n",
       "      <th>topic 4</th>\n",
       "    </tr>\n",
       "  </thead>\n",
       "  <tbody>\n",
       "    <tr>\n",
       "      <th>0</th>\n",
       "      <td>rakyat</td>\n",
       "      <td>kononnya fokus pilihan</td>\n",
       "      <td>kononnya fokus pilihan</td>\n",
       "      <td>suci baiknya kepentingan</td>\n",
       "      <td>malaysia pembangunannya negara</td>\n",
       "    </tr>\n",
       "    <tr>\n",
       "      <th>1</th>\n",
       "      <td>ros</td>\n",
       "      <td>paul seng menteri</td>\n",
       "      <td>suci baiknya kepentingan</td>\n",
       "      <td>ambil ambil keputusan</td>\n",
       "      <td>konvensional ancaman konvensional</td>\n",
       "    </tr>\n",
       "    <tr>\n",
       "      <th>2</th>\n",
       "      <td>undi</td>\n",
       "      <td>cakap mesyuarat jemaah</td>\n",
       "      <td>kena cakap</td>\n",
       "      <td>kononnya fokus pilihan</td>\n",
       "      <td>pertimbangan membentuk</td>\n",
       "    </tr>\n",
       "    <tr>\n",
       "      <th>3</th>\n",
       "      <td>agenda yahudi tular</td>\n",
       "      <td>kali melayu</td>\n",
       "      <td>berkaitan pergerakan akar</td>\n",
       "      <td>paul seng menteri</td>\n",
       "      <td>sumber pembacaan rasakan</td>\n",
       "    </tr>\n",
       "    <tr>\n",
       "      <th>4</th>\n",
       "      <td>punca</td>\n",
       "      <td>seng menteri jabatan</td>\n",
       "      <td>stres tinggalkan benda</td>\n",
       "      <td>kedudukan pengurusan</td>\n",
       "      <td>harapan harapan menyelamatkan</td>\n",
       "    </tr>\n",
       "    <tr>\n",
       "      <th>5</th>\n",
       "      <td>rendah</td>\n",
       "      <td>kedudukan pengurusan</td>\n",
       "      <td>kuok kuok pilihan</td>\n",
       "      <td>stres tinggalkan benda</td>\n",
       "      <td>berperang</td>\n",
       "    </tr>\n",
       "    <tr>\n",
       "      <th>6</th>\n",
       "      <td>kebimbangan menyertai</td>\n",
       "      <td>suci baiknya kepentingan</td>\n",
       "      <td>ijangka pencemaran</td>\n",
       "      <td>mdb salah hilang</td>\n",
       "      <td>ruang lingkup</td>\n",
       "    </tr>\n",
       "    <tr>\n",
       "      <th>7</th>\n",
       "      <td>menemukan pesawat hilang</td>\n",
       "      <td>lupa asli</td>\n",
       "      <td>wang keluarga putihnya</td>\n",
       "      <td>sesetengah peralatan kebergantungan</td>\n",
       "      <td>kerajaan gagal</td>\n",
       "    </tr>\n",
       "    <tr>\n",
       "      <th>8</th>\n",
       "      <td>baiknya</td>\n",
       "      <td>stres tinggalkan</td>\n",
       "      <td>strategi dasar destinasi</td>\n",
       "      <td>dasar dilaksanakan kena</td>\n",
       "      <td>tanah pemilik</td>\n",
       "    </tr>\n",
       "    <tr>\n",
       "      <th>9</th>\n",
       "      <td>beritahu punca</td>\n",
       "      <td>tempoh hutang</td>\n",
       "      <td>stres tinggalkan</td>\n",
       "      <td>kuok kuok pilihan</td>\n",
       "      <td>sabah perkongsian idea</td>\n",
       "    </tr>\n",
       "  </tbody>\n",
       "</table>\n",
       "</div>"
      ],
      "text/plain": [
       "                    topic 0                   topic 1  \\\n",
       "0                    rakyat    kononnya fokus pilihan   \n",
       "1                       ros         paul seng menteri   \n",
       "2                      undi    cakap mesyuarat jemaah   \n",
       "3       agenda yahudi tular               kali melayu   \n",
       "4                     punca      seng menteri jabatan   \n",
       "5                    rendah      kedudukan pengurusan   \n",
       "6     kebimbangan menyertai  suci baiknya kepentingan   \n",
       "7  menemukan pesawat hilang                 lupa asli   \n",
       "8                   baiknya          stres tinggalkan   \n",
       "9            beritahu punca             tempoh hutang   \n",
       "\n",
       "                     topic 2                              topic 3  \\\n",
       "0     kononnya fokus pilihan             suci baiknya kepentingan   \n",
       "1   suci baiknya kepentingan                ambil ambil keputusan   \n",
       "2                 kena cakap               kononnya fokus pilihan   \n",
       "3  berkaitan pergerakan akar                    paul seng menteri   \n",
       "4     stres tinggalkan benda                 kedudukan pengurusan   \n",
       "5          kuok kuok pilihan               stres tinggalkan benda   \n",
       "6         ijangka pencemaran                     mdb salah hilang   \n",
       "7     wang keluarga putihnya  sesetengah peralatan kebergantungan   \n",
       "8   strategi dasar destinasi              dasar dilaksanakan kena   \n",
       "9           stres tinggalkan                    kuok kuok pilihan   \n",
       "\n",
       "                             topic 4  \n",
       "0     malaysia pembangunannya negara  \n",
       "1  konvensional ancaman konvensional  \n",
       "2             pertimbangan membentuk  \n",
       "3           sumber pembacaan rasakan  \n",
       "4      harapan harapan menyelamatkan  \n",
       "5                          berperang  \n",
       "6                      ruang lingkup  \n",
       "7                     kerajaan gagal  \n",
       "8                      tanah pemilik  \n",
       "9             sabah perkongsian idea  "
      ]
     },
     "execution_count": 6,
     "metadata": {},
     "output_type": "execute_result"
    }
   ],
   "source": [
    "lda2vec.top_topics(5, top_n = 10, return_df = True)"
   ]
  },
  {
   "cell_type": "markdown",
   "metadata": {},
   "source": [
    "### Important sentences based on topics\n",
    "\n",
    "```python\n",
    "def get_sentences(self, len_sentence: int, k: int = 0):\n",
    "    \"\"\"\n",
    "    Return important sentences related to selected column based on decomposition.\n",
    "\n",
    "    Parameters\n",
    "    ----------\n",
    "    len_sentence: int\n",
    "    k: int, (default=0)\n",
    "        index of decomposition matrix.\n",
    "\n",
    "    Returns\n",
    "    -------\n",
    "    result: List[str]\n",
    "    \"\"\"\n",
    "```"
   ]
  },
  {
   "cell_type": "code",
   "execution_count": 7,
   "metadata": {},
   "outputs": [
    {
     "data": {
      "text/plain": [
       "['menolak sebarang percubaan merosak memusnahkan tanah suci menjaga baiknya tumpuan kepentingan islam',\n",
       " 'malaysia gala berpunca tindakan diambil',\n",
       " 'mendakwa anti muslim anti islam merancang cina memerintah malaysia',\n",
       " 'memalukan kegagalan jakoa mewakili sebahagian masyarakat asli',\n",
       " 'cabaran gabungan media halangan membantu']"
      ]
     },
     "execution_count": 7,
     "metadata": {},
     "output_type": "execute_result"
    }
   ],
   "source": [
    "lda2vec.get_sentences(5)"
   ]
  },
  {
   "cell_type": "markdown",
   "metadata": {},
   "source": [
    "### Get topics as string\n",
    "\n",
    "```python\n",
    "def get_topics(self, len_topic: int):\n",
    "    \"\"\"\n",
    "    Return important topics based on decomposition.\n",
    "\n",
    "    Parameters\n",
    "    ----------\n",
    "    len_topic: int\n",
    "        size of topics.\n",
    "\n",
    "    Returns\n",
    "    -------\n",
    "    result: List[str]\n",
    "    \"\"\"\n",
    "```"
   ]
  },
  {
   "cell_type": "code",
   "execution_count": 9,
   "metadata": {},
   "outputs": [
    {
     "data": {
      "text/plain": [
       "[(0,\n",
       "  'rakyat ros undi agenda yahudi tular punca rendah kebimbangan menyertai menemukan pesawat hilang baiknya beritahu punca'),\n",
       " (1,\n",
       "  'kononnya fokus pilihan paul seng menteri cakap mesyuarat jemaah kali melayu seng menteri jabatan kedudukan pengurusan suci baiknya kepentingan lupa asli stres tinggalkan tempoh hutang'),\n",
       " (2,\n",
       "  'kononnya fokus pilihan suci baiknya kepentingan kena cakap berkaitan pergerakan akar stres tinggalkan benda kuok kuok pilihan ijangka pencemaran wang keluarga putihnya strategi dasar destinasi stres tinggalkan'),\n",
       " (3,\n",
       "  'suci baiknya kepentingan ambil ambil keputusan kononnya fokus pilihan paul seng menteri kedudukan pengurusan stres tinggalkan benda mdb salah hilang sesetengah peralatan kebergantungan dasar dilaksanakan kena kuok kuok pilihan'),\n",
       " (4,\n",
       "  'malaysia pembangunannya negara konvensional ancaman konvensional pertimbangan membentuk sumber pembacaan rasakan harapan harapan menyelamatkan berperang ruang lingkup kerajaan gagal tanah pemilik sabah perkongsian idea'),\n",
       " (5,\n",
       "  'rakyat agenda yahudi tular yahudi ros rendah mab dipersetujui keluarga agenda baiknya tular undi beritahu punca terpulang'),\n",
       " (6,\n",
       "  'rakyat ros agenda yahudi tular berita palsu beritahu punca menemukan pesawat hilang rendah kebimbangan menyertai pas beritahu punca wang'),\n",
       " (7,\n",
       "  'mempromosi kemudahan negara kononnya fokus pilihan suci baiknya kepentingan cakap mesyuarat jemaah paul seng menteri keberkesanan ambil ambil keputusan mdb salah hilang low seng jerman'),\n",
       " (8,\n",
       "  'rakyat ros pas releven parti menemukan pesawat hilang yahudi baiknya wujud kebimbangan beritahu punca perasaan baiknya undi'),\n",
       " (9,\n",
       "  'keberkesanan kononnya fokus pilihan paul seng menteri sesetengah peralatan kebergantungan wang hitam putihnya ambil ambil keputusan penangguhan perjalanan selaras aziz nampak keberkesanan mempromosi kemudahan negara press cakap berlaku')]"
      ]
     },
     "execution_count": 9,
     "metadata": {},
     "output_type": "execute_result"
    }
   ],
   "source": [
    "lda2vec.get_topics(10)"
   ]
  },
  {
   "cell_type": "code",
   "execution_count": null,
   "metadata": {},
   "outputs": [],
   "source": []
  }
 ],
 "metadata": {
  "kernelspec": {
   "display_name": "Python 3 (ipykernel)",
   "language": "python",
   "name": "python3"
  },
  "language_info": {
   "codemirror_mode": {
    "name": "ipython",
    "version": 3
   },
   "file_extension": ".py",
   "mimetype": "text/x-python",
   "name": "python",
   "nbconvert_exporter": "python",
   "pygments_lexer": "ipython3",
   "version": "3.8.10"
  }
 },
 "nbformat": 4,
 "nbformat_minor": 4
}
