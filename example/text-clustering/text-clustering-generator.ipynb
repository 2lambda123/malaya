{
 "cells": [
  {
   "cell_type": "code",
   "execution_count": 1,
   "metadata": {},
   "outputs": [],
   "source": [
    "import malaya"
   ]
  },
  {
   "cell_type": "code",
   "execution_count": 6,
   "metadata": {},
   "outputs": [],
   "source": [
    "string = 'KUALA LUMPUR: Sempena sambutan Aidilfitri minggu depan, Perdana Menteri Tun Dr Mahathir Mohamad dan Menteri Pengangkutan Anthony Loke Siew Fook menitipkan pesanan khas kepada orang ramai yang mahu pulang ke kampung halaman masing-masing. Dalam video pendek terbitan Jabatan Keselamatan Jalan Raya (JKJR) itu, Dr Mahathir menasihati mereka supaya berhenti berehat dan tidur sebentar  sekiranya mengantuk ketika memandu.'"
   ]
  },
  {
   "cell_type": "markdown",
   "metadata": {},
   "source": [
    "## Cluster same word structure based on POS and Entities"
   ]
  },
  {
   "cell_type": "code",
   "execution_count": 3,
   "metadata": {},
   "outputs": [],
   "source": [
    "bahdanau_entities = malaya.entities.deep_entities('bahdanau')\n",
    "bahdanau_pos = malaya.pos.deep_pos('bahdanau')"
   ]
  },
  {
   "cell_type": "code",
   "execution_count": 7,
   "metadata": {},
   "outputs": [],
   "source": [
    "result_entities = bahdanau_entities.predict(string)\n",
    "result_pos = bahdanau_pos.predict(string)"
   ]
  },
  {
   "cell_type": "code",
   "execution_count": 5,
   "metadata": {},
   "outputs": [],
   "source": [
    "from malaya.text_functions import cluster_words, generate_ngram"
   ]
  },
  {
   "cell_type": "code",
   "execution_count": 10,
   "metadata": {},
   "outputs": [
    {
     "data": {
      "text/plain": [
       "['Jalan',\n",
       " 'Aidilfitri minggu depan',\n",
       " 'tidur sekiranya mengantuk',\n",
       " 'Mahathir',\n",
       " 'Jabatan',\n",
       " 'Kuala Lumpur sambutan',\n",
       " 'Jkjr Dr Mahathir',\n",
       " 'Raya Jkjr',\n",
       " 'Mohamad',\n",
       " 'berhenti',\n",
       " 'kampung halaman',\n",
       " 'mengantuk memandu',\n",
       " 'Aidilfitri',\n",
       " 'Siew',\n",
       " 'sambutan Aidilfitri',\n",
       " 'Jkjr',\n",
       " 'Lumpur sambutan',\n",
       " 'Raya',\n",
       " 'depan Perdana',\n",
       " 'orang',\n",
       " 'menitipkan orang pulang',\n",
       " 'orang pulang',\n",
       " 'minggu depan',\n",
       " 'video terbitan',\n",
       " 'Anthony Loke Siew',\n",
       " 'pulang kampung',\n",
       " 'Kuala',\n",
       " 'depan Perdana Menteri',\n",
       " 'Menteri Pengangkutan Anthony',\n",
       " 'Pengangkutan',\n",
       " 'Raya Jkjr Dr',\n",
       " 'Jalan Raya',\n",
       " 'mengantuk',\n",
       " 'terbitan Jabatan',\n",
       " 'Aidilfitri minggu',\n",
       " 'orang pulang kampung',\n",
       " 'menitipkan orang',\n",
       " 'halaman',\n",
       " 'Dalam video',\n",
       " 'Dr Mahathir berhenti',\n",
       " 'Pengangkutan Anthony Loke',\n",
       " 'Fook',\n",
       " 'memandu',\n",
       " 'Menteri',\n",
       " 'sekiranya',\n",
       " 'tidur sekiranya',\n",
       " 'berehat',\n",
       " 'terbitan Jabatan Keselamatan',\n",
       " 'Mahathir Mohamad',\n",
       " 'Perdana Menteri',\n",
       " 'Keselamatan Jalan',\n",
       " 'Anthony Loke',\n",
       " 'Jabatan Keselamatan Jalan',\n",
       " 'kampung halaman Dalam',\n",
       " 'Menteri Pengangkutan',\n",
       " 'Dalam video terbitan',\n",
       " 'Tun Dr',\n",
       " 'depan',\n",
       " 'Loke Siew Fook',\n",
       " 'Lumpur sambutan Aidilfitri',\n",
       " 'Anthony',\n",
       " 'Dr Mahathir',\n",
       " 'Keselamatan Jalan Raya',\n",
       " 'Menteri Tun',\n",
       " 'Loke',\n",
       " 'Lumpur',\n",
       " 'Mohamad Menteri',\n",
       " 'Mahathir berhenti berehat',\n",
       " 'halaman Dalam video',\n",
       " 'Menteri Tun Dr',\n",
       " 'minggu depan Perdana',\n",
       " 'menitipkan',\n",
       " 'Dr Mahathir Mohamad',\n",
       " 'sambutan',\n",
       " 'tidur',\n",
       " 'Tun',\n",
       " 'Dalam',\n",
       " 'halaman Dalam',\n",
       " 'Kuala Lumpur',\n",
       " 'Mahathir Mohamad Menteri',\n",
       " 'Jalan Raya Jkjr',\n",
       " 'Keselamatan',\n",
       " 'Mahathir berhenti',\n",
       " 'terbitan',\n",
       " 'berehat tidur sekiranya',\n",
       " 'pulang kampung halaman',\n",
       " 'Jabatan Keselamatan',\n",
       " 'sekiranya mengantuk',\n",
       " 'Fook menitipkan',\n",
       " 'Jkjr Dr',\n",
       " 'sekiranya mengantuk memandu',\n",
       " 'sambutan Aidilfitri minggu',\n",
       " 'berhenti berehat',\n",
       " 'berehat tidur',\n",
       " 'Perdana Menteri Tun',\n",
       " 'Siew Fook menitipkan',\n",
       " 'kampung',\n",
       " 'video terbitan Jabatan',\n",
       " 'Siew Fook',\n",
       " 'Mohamad Menteri Pengangkutan',\n",
       " 'berhenti berehat tidur',\n",
       " 'Perdana',\n",
       " 'Pengangkutan Anthony',\n",
       " 'Loke Siew',\n",
       " 'Dr',\n",
       " 'pulang',\n",
       " 'Fook menitipkan orang',\n",
       " 'minggu',\n",
       " 'video',\n",
       " 'Tun Dr Mahathir']"
      ]
     },
     "execution_count": 10,
     "metadata": {},
     "output_type": "execute_result"
    }
   ],
   "source": [
    "generated_grams = generate_ngram(\n",
    "    result_pos,\n",
    "    result_entities,\n",
    "    ngram = (1, 3),\n",
    "    accept_pos = ['NOUN', 'PROPN', 'VERB'],\n",
    "    accept_entities = ['law', 'location', 'organization', 'person', 'time'],\n",
    ")\n",
    "generated_grams"
   ]
  },
  {
   "cell_type": "code",
   "execution_count": 11,
   "metadata": {},
   "outputs": [
    {
     "data": {
      "text/plain": [
       "['kampung halaman Dalam',\n",
       " 'Anthony Loke Siew',\n",
       " 'Dalam video terbitan',\n",
       " 'pulang kampung halaman',\n",
       " 'Aidilfitri minggu depan',\n",
       " 'depan Perdana Menteri',\n",
       " 'tidur sekiranya mengantuk',\n",
       " 'Loke Siew Fook',\n",
       " 'Lumpur sambutan Aidilfitri',\n",
       " 'Menteri Pengangkutan Anthony',\n",
       " 'Raya Jkjr Dr',\n",
       " 'Keselamatan Jalan Raya',\n",
       " 'Mahathir berhenti berehat',\n",
       " 'orang pulang kampung',\n",
       " 'sekiranya mengantuk memandu',\n",
       " 'halaman Dalam video',\n",
       " 'Kuala Lumpur sambutan',\n",
       " 'Menteri Tun Dr',\n",
       " 'Jkjr Dr Mahathir',\n",
       " 'minggu depan Perdana',\n",
       " 'sambutan Aidilfitri minggu',\n",
       " 'Dr Mahathir Mohamad',\n",
       " 'Dr Mahathir berhenti',\n",
       " 'Siew Fook menitipkan',\n",
       " 'Perdana Menteri Tun',\n",
       " 'Pengangkutan Anthony Loke',\n",
       " 'video terbitan Jabatan',\n",
       " 'Mohamad Menteri Pengangkutan',\n",
       " 'berhenti berehat tidur',\n",
       " 'Mahathir Mohamad Menteri',\n",
       " 'menitipkan orang pulang',\n",
       " 'Jalan Raya Jkjr',\n",
       " 'Fook menitipkan orang',\n",
       " 'terbitan Jabatan Keselamatan',\n",
       " 'Jabatan Keselamatan Jalan',\n",
       " 'berehat tidur sekiranya',\n",
       " 'Tun Dr Mahathir']"
      ]
     },
     "execution_count": 11,
     "metadata": {},
     "output_type": "execute_result"
    }
   ],
   "source": [
    "cluster_words(generated_grams)"
   ]
  },
  {
   "cell_type": "markdown",
   "metadata": {},
   "source": [
    "## Cluster POS and Entities"
   ]
  },
  {
   "cell_type": "code",
   "execution_count": 16,
   "metadata": {},
   "outputs": [],
   "source": [
    "from malaya.text_functions import cluster_pos, cluster_entities"
   ]
  },
  {
   "cell_type": "code",
   "execution_count": 17,
   "metadata": {},
   "outputs": [
    {
     "data": {
      "text/plain": [
       "{'ADJ': ['depan', 'khas', 'ramai', 'pendek'],\n",
       " 'ADP': ['kepada', 'ke'],\n",
       " 'ADV': ['pesanan', 'mahu', 'menasihati', 'sebentar'],\n",
       " 'ADX': [],\n",
       " 'CCONJ': ['dan'],\n",
       " 'DET': ['itu'],\n",
       " 'NOUN': ['sambutan', 'orang', 'kampung halaman', 'video', 'terbitan Jabatan'],\n",
       " 'NUM': [],\n",
       " 'PART': [],\n",
       " 'PRON': ['Sempena', 'yang', 'masing-masing', 'mereka'],\n",
       " 'PROPN': ['Kuala Lumpur',\n",
       "  'Aidilfitri minggu',\n",
       "  'Perdana Menteri Tun Dr Mahathir Mohamad',\n",
       "  'Menteri Pengangkutan Anthony Loke Siew Fook menitipkan',\n",
       "  'Keselamatan Jalan Raya Jkjr',\n",
       "  'Dr Mahathir',\n",
       "  'berehat',\n",
       "  'sekiranya mengantuk'],\n",
       " 'SCONJ': ['supaya', 'ketika'],\n",
       " 'SYM': [],\n",
       " 'VERB': ['pulang', 'Dalam', 'berhenti', 'tidur'],\n",
       " 'X': []}"
      ]
     },
     "execution_count": 17,
     "metadata": {},
     "output_type": "execute_result"
    }
   ],
   "source": [
    "cluster_pos(result_pos)"
   ]
  },
  {
   "cell_type": "code",
   "execution_count": 18,
   "metadata": {},
   "outputs": [
    {
     "data": {
      "text/plain": [
       "{'OTHER': ['sempena',\n",
       "  'dan',\n",
       "  'menitipkan pesanan khas kepada',\n",
       "  'ramai yang mahu pulang ke',\n",
       "  'masing-masing dalam video pendek terbitan',\n",
       "  'itu'],\n",
       " 'law': [],\n",
       " 'location': ['kuala lumpur', 'kampung halaman'],\n",
       " 'organization': ['orang', 'jabatan keselamatan jalan raya jkjr'],\n",
       " 'person': ['perdana menteri tun dr mahathir mohamad',\n",
       "  'menteri pengangkutan anthony loke siew fook',\n",
       "  'dr mahathir'],\n",
       " 'quantity': [],\n",
       " 'time': ['minggu depan'],\n",
       " 'event': ['sambutan aidilfitri']}"
      ]
     },
     "execution_count": 18,
     "metadata": {},
     "output_type": "execute_result"
    }
   ],
   "source": [
    "cluster_entities(result_entities)"
   ]
  },
  {
   "cell_type": "markdown",
   "metadata": {},
   "source": [
    "## Generate ngrams"
   ]
  },
  {
   "cell_type": "code",
   "execution_count": 12,
   "metadata": {},
   "outputs": [],
   "source": [
    "from malaya.text_functions import sentence_ngram"
   ]
  },
  {
   "cell_type": "code",
   "execution_count": 15,
   "metadata": {},
   "outputs": [
    {
     "data": {
      "text/plain": [
       "['KUALA LUMPUR: Sempena sambutan Aidilfitri',\n",
       " 'menasihati mereka supaya berhenti',\n",
       " 'halaman masing-masing. Dalam video',\n",
       " 'masing-masing. Dalam video pendek terbitan',\n",
       " 'Menteri Tun Dr Mahathir Mohamad',\n",
       " 'Perdana Menteri Tun Dr',\n",
       " 'LUMPUR: Sempena sambutan Aidilfitri minggu',\n",
       " 'sekiranya mengantuk ketika',\n",
       " 'Sempena sambutan Aidilfitri',\n",
       " 'Menteri Pengangkutan Anthony Loke',\n",
       " 'Fook menitipkan pesanan khas kepada',\n",
       " 'LUMPUR: Sempena sambutan',\n",
       " 'Aidilfitri minggu depan, Perdana',\n",
       " 'Anthony Loke Siew Fook',\n",
       " 'video pendek terbitan',\n",
       " 'ke kampung halaman masing-masing. Dalam',\n",
       " 'sebentar sekiranya mengantuk',\n",
       " '(JKJR) itu, Dr Mahathir',\n",
       " 'mereka supaya berhenti',\n",
       " 'sambutan Aidilfitri minggu depan, Perdana',\n",
       " 'supaya berhenti berehat',\n",
       " 'supaya berhenti berehat dan',\n",
       " 'Dr Mahathir menasihati mereka',\n",
       " 'masing-masing. Dalam video',\n",
       " 'Raya (JKJR) itu,',\n",
       " 'menitipkan pesanan khas kepada',\n",
       " 'Mohamad dan Menteri',\n",
       " 'LUMPUR: Sempena sambutan Aidilfitri',\n",
       " 'Dr Mahathir Mohamad dan',\n",
       " 'Fook menitipkan pesanan khas',\n",
       " 'KUALA LUMPUR: Sempena',\n",
       " 'Dr Mahathir menasihati mereka supaya',\n",
       " 'tidur sebentar sekiranya mengantuk ketika',\n",
       " 'minggu depan, Perdana',\n",
       " 'pulang ke kampung halaman masing-masing.',\n",
       " 'Jalan Raya (JKJR) itu,',\n",
       " 'KUALA LUMPUR: Sempena sambutan',\n",
       " 'depan, Perdana Menteri Tun Dr',\n",
       " 'Mahathir Mohamad dan Menteri Pengangkutan',\n",
       " 'Mohamad dan Menteri Pengangkutan',\n",
       " 'Anthony Loke Siew',\n",
       " 'Dalam video pendek terbitan',\n",
       " 'Keselamatan Jalan Raya (JKJR) itu,',\n",
       " 'kampung halaman masing-masing.',\n",
       " 'Dr Mahathir menasihati',\n",
       " 'Menteri Pengangkutan Anthony',\n",
       " '(JKJR) itu, Dr',\n",
       " 'sebentar sekiranya mengantuk ketika',\n",
       " 'berehat dan tidur',\n",
       " 'Fook menitipkan pesanan',\n",
       " 'Raya (JKJR) itu, Dr Mahathir',\n",
       " 'Keselamatan Jalan Raya (JKJR)',\n",
       " 'itu, Dr Mahathir menasihati',\n",
       " 'kepada orang ramai yang',\n",
       " 'Perdana Menteri Tun Dr Mahathir',\n",
       " 'dan Menteri Pengangkutan Anthony',\n",
       " 'pesanan khas kepada orang',\n",
       " 'Jabatan Keselamatan Jalan Raya (JKJR)',\n",
       " 'dan tidur sebentar sekiranya mengantuk',\n",
       " 'Mohamad dan Menteri Pengangkutan Anthony',\n",
       " 'Pengangkutan Anthony Loke',\n",
       " 'tidur sebentar sekiranya mengantuk',\n",
       " 'orang ramai yang mahu pulang',\n",
       " 'Sempena sambutan Aidilfitri minggu',\n",
       " 'pesanan khas kepada orang ramai',\n",
       " 'itu, Dr Mahathir',\n",
       " 'Dalam video pendek',\n",
       " 'ramai yang mahu pulang',\n",
       " 'yang mahu pulang',\n",
       " 'pulang ke kampung halaman',\n",
       " 'Jalan Raya (JKJR)',\n",
       " 'tidur sebentar sekiranya',\n",
       " 'orang ramai yang',\n",
       " 'terbitan Jabatan Keselamatan',\n",
       " 'Jabatan Keselamatan Jalan',\n",
       " 'Aidilfitri minggu depan,',\n",
       " 'menasihati mereka supaya',\n",
       " 'terbitan Jabatan Keselamatan Jalan Raya',\n",
       " 'menitipkan pesanan khas',\n",
       " 'depan, Perdana Menteri Tun',\n",
       " 'ke kampung halaman masing-masing.',\n",
       " 'Loke Siew Fook',\n",
       " 'masing-masing. Dalam video pendek',\n",
       " 'Pengangkutan Anthony Loke Siew',\n",
       " 'Keselamatan Jalan Raya',\n",
       " 'pulang ke kampung',\n",
       " 'Tun Dr Mahathir Mohamad dan',\n",
       " 'Tun Dr Mahathir Mohamad',\n",
       " 'Menteri Tun Dr',\n",
       " 'khas kepada orang',\n",
       " 'Menteri Pengangkutan Anthony Loke Siew',\n",
       " 'sebentar sekiranya mengantuk ketika memandu.',\n",
       " 'dan tidur sebentar',\n",
       " 'Dr Mahathir Mohamad',\n",
       " 'dan Menteri Pengangkutan',\n",
       " 'menitipkan pesanan khas kepada orang',\n",
       " 'Siew Fook menitipkan pesanan khas',\n",
       " 'Sempena sambutan Aidilfitri minggu depan,',\n",
       " 'dan tidur sebentar sekiranya',\n",
       " 'mengantuk ketika memandu.',\n",
       " 'kampung halaman masing-masing. Dalam',\n",
       " 'kepada orang ramai yang mahu',\n",
       " 'Anthony Loke Siew Fook menitipkan',\n",
       " 'yang mahu pulang ke',\n",
       " 'ramai yang mahu',\n",
       " 'pendek terbitan Jabatan Keselamatan',\n",
       " 'yang mahu pulang ke kampung',\n",
       " 'Jalan Raya (JKJR) itu, Dr',\n",
       " 'kampung halaman masing-masing. Dalam video',\n",
       " 'pendek terbitan Jabatan',\n",
       " 'khas kepada orang ramai',\n",
       " 'orang ramai yang mahu',\n",
       " '(JKJR) itu, Dr Mahathir menasihati',\n",
       " 'Mahathir Mohamad dan Menteri',\n",
       " 'Mahathir menasihati mereka supaya',\n",
       " 'sekiranya mengantuk ketika memandu.',\n",
       " 'Mahathir Mohamad dan',\n",
       " 'terbitan Jabatan Keselamatan Jalan',\n",
       " 'minggu depan, Perdana Menteri',\n",
       " 'ke kampung halaman',\n",
       " 'berhenti berehat dan tidur sebentar',\n",
       " 'Siew Fook menitipkan pesanan',\n",
       " 'mereka supaya berhenti berehat',\n",
       " 'Dalam video pendek terbitan Jabatan',\n",
       " 'halaman masing-masing. Dalam',\n",
       " 'video pendek terbitan Jabatan Keselamatan',\n",
       " 'mereka supaya berhenti berehat dan',\n",
       " 'depan, Perdana Menteri',\n",
       " 'supaya berhenti berehat dan tidur',\n",
       " 'Loke Siew Fook menitipkan',\n",
       " 'Mahathir menasihati mereka',\n",
       " 'video pendek terbitan Jabatan',\n",
       " 'sambutan Aidilfitri minggu',\n",
       " 'berhenti berehat dan',\n",
       " 'Menteri Tun Dr Mahathir',\n",
       " 'mahu pulang ke kampung',\n",
       " 'pendek terbitan Jabatan Keselamatan Jalan',\n",
       " 'pesanan khas kepada',\n",
       " 'itu, Dr Mahathir menasihati mereka',\n",
       " 'berehat dan tidur sebentar',\n",
       " 'berehat dan tidur sebentar sekiranya',\n",
       " 'sambutan Aidilfitri minggu depan,',\n",
       " 'ramai yang mahu pulang ke',\n",
       " 'Perdana Menteri Tun',\n",
       " 'Siew Fook menitipkan',\n",
       " 'khas kepada orang ramai yang',\n",
       " 'Raya (JKJR) itu, Dr',\n",
       " 'halaman masing-masing. Dalam video pendek',\n",
       " 'Aidilfitri minggu depan, Perdana Menteri',\n",
       " 'menasihati mereka supaya berhenti berehat',\n",
       " 'Jabatan Keselamatan Jalan Raya',\n",
       " 'Dr Mahathir Mohamad dan Menteri',\n",
       " 'Pengangkutan Anthony Loke Siew Fook',\n",
       " 'berhenti berehat dan tidur',\n",
       " 'minggu depan, Perdana Menteri Tun',\n",
       " 'dan Menteri Pengangkutan Anthony Loke',\n",
       " 'Mahathir menasihati mereka supaya berhenti',\n",
       " 'Loke Siew Fook menitipkan pesanan',\n",
       " 'mahu pulang ke kampung halaman',\n",
       " 'mahu pulang ke',\n",
       " 'kepada orang ramai',\n",
       " 'Tun Dr Mahathir']"
      ]
     },
     "execution_count": 15,
     "metadata": {},
     "output_type": "execute_result"
    }
   ],
   "source": [
    "sentence_ngram(string, ngram = (3, 5))"
   ]
  },
  {
   "cell_type": "code",
   "execution_count": null,
   "metadata": {},
   "outputs": [],
   "source": []
  }
 ],
 "metadata": {
  "kernelspec": {
   "display_name": "Python 3",
   "language": "python",
   "name": "python3"
  },
  "language_info": {
   "codemirror_mode": {
    "name": "ipython",
    "version": 3
   },
   "file_extension": ".py",
   "mimetype": "text/x-python",
   "name": "python",
   "nbconvert_exporter": "python",
   "pygments_lexer": "ipython3",
   "version": "3.6.5"
  }
 },
 "nbformat": 4,
 "nbformat_minor": 2
}
