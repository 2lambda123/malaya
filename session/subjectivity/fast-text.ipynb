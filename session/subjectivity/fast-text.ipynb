{
 "cells": [
  {
   "cell_type": "code",
   "execution_count": 1,
   "metadata": {},
   "outputs": [],
   "source": [
    "import re\n",
    "import numpy as np\n",
    "import pandas as pd\n",
    "import collections\n",
    "from sklearn import metrics\n",
    "from sklearn.preprocessing import LabelEncoder\n",
    "import tensorflow as tf\n",
    "from sklearn.model_selection import train_test_split\n",
    "from unidecode import unidecode\n",
    "from nltk.util import ngrams\n",
    "from tqdm import tqdm\n",
    "import time"
   ]
  },
  {
   "cell_type": "code",
   "execution_count": 2,
   "metadata": {},
   "outputs": [],
   "source": [
    "permulaan = [\n",
    "    'bel',\n",
    "    'se',\n",
    "    'ter',\n",
    "    'men',\n",
    "    'meng',\n",
    "    'mem',\n",
    "    'memper',\n",
    "    'di',\n",
    "    'pe',\n",
    "    'me',\n",
    "    'ke',\n",
    "    'ber',\n",
    "    'pen',\n",
    "    'per',\n",
    "]\n",
    "\n",
    "hujung = ['kan', 'kah', 'lah', 'tah', 'nya', 'an', 'wan', 'wati', 'ita']\n",
    "\n",
    "def naive_stemmer(word):\n",
    "    assert isinstance(word, str), 'input must be a string'\n",
    "    hujung_result = re.findall(r'^(.*?)(%s)$' % ('|'.join(hujung)), word)\n",
    "    word = hujung_result[0][0] if len(hujung_result) else word\n",
    "    permulaan_result = re.findall(r'^(.*?)(%s)' % ('|'.join(permulaan[::-1])), word)\n",
    "    permulaan_result.extend(re.findall(r'^(.*?)(%s)' % ('|'.join(permulaan)), word))\n",
    "    mula = permulaan_result if len(permulaan_result) else ''\n",
    "    if len(mula):\n",
    "        mula = mula[1][1] if len(mula[1][1]) > len(mula[0][1]) else mula[0][1]\n",
    "    return word.replace(mula, '')"
   ]
  },
  {
   "cell_type": "code",
   "execution_count": 3,
   "metadata": {},
   "outputs": [],
   "source": [
    "def build_dataset(words, n_words):\n",
    "    count = [['GO', 0], ['PAD', 1], ['EOS', 2], ['UNK', 3]]\n",
    "    counter = collections.Counter(words).most_common(n_words)\n",
    "    count.extend(counter)\n",
    "    dictionary = dict()\n",
    "    for word, _ in count:\n",
    "        dictionary[word] = len(dictionary)\n",
    "    data = list()\n",
    "    unk_count = 0\n",
    "    for word in words:\n",
    "        index = dictionary.get(word, 3)\n",
    "        if index == 0:\n",
    "            unk_count += 1\n",
    "        data.append(index)\n",
    "    count[0][1] = unk_count\n",
    "    reversed_dictionary = dict(zip(dictionary.values(), dictionary.keys()))\n",
    "    return data, count, dictionary, reversed_dictionary\n",
    "\n",
    "\n",
    "def classification_textcleaning(string):\n",
    "    string = re.sub(\n",
    "        'http\\S+|www.\\S+',\n",
    "        '',\n",
    "        ' '.join(\n",
    "            [i for i in string.split() if i.find('#') < 0 and i.find('@') < 0]\n",
    "        ),\n",
    "    )\n",
    "    string = unidecode(string).replace('.', ' . ').replace(',', ' , ')\n",
    "    string = re.sub('[^A-Za-z ]+', ' ', string)\n",
    "    string = re.sub(r'[ ]+', ' ', string).strip()\n",
    "    string = ' '.join(\n",
    "        [i for i in re.findall('[\\\\w\\']+|[;:\\-\\(\\)&.,!?\"]', string) if len(i)]\n",
    "    )\n",
    "    string = string.lower().split()\n",
    "    string = [(naive_stemmer(word), word) for word in string]\n",
    "    return (\n",
    "        ' '.join([word[0] for word in string if len(word[0]) > 1]),\n",
    "        ' '.join([word[1] for word in string if len(word[0]) > 1]),\n",
    "    )\n",
    "\n",
    "\n",
    "def str_idx(corpus, dic, UNK = 3):\n",
    "    X = []\n",
    "    for sentence in corpus:\n",
    "        X.append([dic.get(w,UNK) for w in sentence.split()[:maxlen]])\n",
    "    return X\n",
    "\n",
    "def create_ngram_set(input_list, ngram_value):\n",
    "    return set(zip(*[input_list[i:] for i in range(ngram_value)]))\n",
    "\n",
    "\n",
    "def build_ngram(x_train):\n",
    "    global max_features\n",
    "    ngram_set = set()\n",
    "    for input_list in tqdm(x_train, total = len(x_train), ncols = 70):\n",
    "        for i in range(2, 3):\n",
    "            set_of_ngram = create_ngram_set(input_list, ngram_value = i)\n",
    "            ngram_set.update(set_of_ngram)\n",
    "    start_index = max_features + 1\n",
    "    token_indice = {v: k + start_index for k, v in enumerate(ngram_set)}\n",
    "    indice_token = {token_indice[k]: k for k in token_indice}\n",
    "\n",
    "    max_features = np.max(list(indice_token.keys())) + 1\n",
    "    return token_indice\n",
    "\n",
    "\n",
    "def add_ngram(sequences, token_indice):\n",
    "    new_sequences = []\n",
    "    for input_list in sequences:\n",
    "        new_list = input_list[:]\n",
    "        for ngram_value in range(2, ngram_range + 1):\n",
    "            for i in range(len(new_list) - ngram_value + 1):\n",
    "                ngram = tuple(new_list[i : i + ngram_value])\n",
    "                if ngram in token_indice:\n",
    "                    new_list.append(token_indice[ngram])\n",
    "        new_sequences.append(new_list)\n",
    "    return new_sequences"
   ]
  },
  {
   "cell_type": "code",
   "execution_count": 4,
   "metadata": {},
   "outputs": [],
   "source": [
    "with open('subjectivity-negative-translated.txt','r') as fopen:\n",
    "    texts = fopen.read().split('\\n')\n",
    "labels = [0] * len(texts)\n",
    "\n",
    "with open('subjectivity-positive-translated.txt','r') as fopen:\n",
    "    positive_texts = fopen.read().split('\\n')\n",
    "labels += [1] * len(positive_texts)\n",
    "texts += positive_texts\n",
    "\n",
    "assert len(labels) == len(texts)"
   ]
  },
  {
   "cell_type": "code",
   "execution_count": 5,
   "metadata": {},
   "outputs": [],
   "source": [
    "for i in range(len(texts)):\n",
    "    texts[i] = classification_textcleaning(texts[i])[0]"
   ]
  },
  {
   "cell_type": "code",
   "execution_count": 6,
   "metadata": {},
   "outputs": [
    {
     "name": "stdout",
     "output_type": "stream",
     "text": [
      "vocab from size: 13222\n",
      "Most common words [('yang', 11804), ('untuk', 3879), ('tidak', 2898), ('deng', 2827), ('ada', 2294), ('dalam', 2193)]\n",
      "Sample data [10, 68, 13, 27, 55, 54, 11, 392, 34, 182] ['filem', 'mula', 'pada', 'masa', 'lalu', 'mana', 'orang', 'budak', 'lelaki', 'nama']\n"
     ]
    }
   ],
   "source": [
    "concat = ' '.join(texts).split()\n",
    "vocabulary_size = len(list(set(concat)))\n",
    "data, count, dictionary, rev_dictionary = build_dataset(concat, vocabulary_size)\n",
    "print('vocab from size: %d'%(vocabulary_size))\n",
    "print('Most common words', count[4:10])\n",
    "print('Sample data', data[:10], [rev_dictionary[i] for i in data[:10]])"
   ]
  },
  {
   "cell_type": "code",
   "execution_count": 7,
   "metadata": {},
   "outputs": [],
   "source": [
    "ngram_range = 2\n",
    "max_features = len(dictionary)\n",
    "maxlen = 80\n",
    "batch_size = 32\n",
    "embedded_size = 256"
   ]
  },
  {
   "cell_type": "code",
   "execution_count": 8,
   "metadata": {},
   "outputs": [],
   "source": [
    "idx_trainset = str_idx(texts, dictionary, maxlen)"
   ]
  },
  {
   "cell_type": "code",
   "execution_count": 9,
   "metadata": {},
   "outputs": [
    {
     "name": "stderr",
     "output_type": "stream",
     "text": [
      "100%|█████████████████████████| 9962/9962 [00:00<00:00, 200836.62it/s]\n"
     ]
    }
   ],
   "source": [
    "token_indice = build_ngram(idx_trainset)\n",
    "X = add_ngram(idx_trainset, token_indice)\n",
    "X = tf.keras.preprocessing.sequence.pad_sequences(X, maxlen)"
   ]
  },
  {
   "cell_type": "code",
   "execution_count": 10,
   "metadata": {},
   "outputs": [],
   "source": [
    "train_X, test_X, train_Y, test_Y = train_test_split(X, \n",
    "                                                    labels,\n",
    "                                                    test_size = 0.2)"
   ]
  },
  {
   "cell_type": "code",
   "execution_count": 11,
   "metadata": {},
   "outputs": [],
   "source": [
    "class Model:\n",
    "    def __init__(\n",
    "        self, embedded_size, dict_size, dimension_output, learning_rate\n",
    "    ):\n",
    "\n",
    "        self.X = tf.placeholder(tf.int32, [None, None])\n",
    "        self.Y = tf.placeholder(tf.int32, [None])\n",
    "        encoder_embeddings = tf.Variable(\n",
    "            tf.random_uniform([dict_size, embedded_size], -1, 1)\n",
    "        )\n",
    "        encoder_embedded = tf.nn.embedding_lookup(encoder_embeddings, self.X)\n",
    "        self.logits = tf.identity(\n",
    "            tf.layers.dense(\n",
    "                tf.reduce_mean(encoder_embedded, 1), dimension_output\n",
    "            ),\n",
    "            name = 'logits',\n",
    "        )\n",
    "        self.cost = tf.reduce_mean(\n",
    "            tf.nn.sparse_softmax_cross_entropy_with_logits(\n",
    "                logits = self.logits, labels = self.Y\n",
    "            )\n",
    "        )\n",
    "        self.optimizer = tf.train.AdamOptimizer(learning_rate).minimize(\n",
    "            self.cost\n",
    "        )\n",
    "        correct_pred = tf.equal(\n",
    "            tf.argmax(self.logits, 1, output_type = tf.int32), self.Y\n",
    "        )\n",
    "        self.accuracy = tf.reduce_mean(tf.cast(correct_pred, tf.float32))"
   ]
  },
  {
   "cell_type": "code",
   "execution_count": 12,
   "metadata": {},
   "outputs": [
    {
     "data": {
      "text/plain": [
       "'fast-text/model.ckpt'"
      ]
     },
     "execution_count": 12,
     "metadata": {},
     "output_type": "execute_result"
    }
   ],
   "source": [
    "tf.reset_default_graph()\n",
    "sess = tf.InteractiveSession()\n",
    "model = Model(embedded_size, max_features, 2, 5e-4)\n",
    "sess.run(tf.global_variables_initializer())\n",
    "saver = tf.train.Saver(tf.trainable_variables())\n",
    "saver.save(sess, 'fast-text/model.ckpt')"
   ]
  },
  {
   "cell_type": "code",
   "execution_count": 13,
   "metadata": {},
   "outputs": [],
   "source": [
    "strings = ','.join(\n",
    "    [\n",
    "        n.name\n",
    "        for n in tf.get_default_graph().as_graph_def().node\n",
    "        if ('Variable' in n.op\n",
    "        or 'Placeholder' in n.name\n",
    "        or 'logits' in n.name)\n",
    "        and 'Adam' not in n.name\n",
    "        and 'beta' not in n.name\n",
    "    ]\n",
    ")"
   ]
  },
  {
   "cell_type": "code",
   "execution_count": 14,
   "metadata": {},
   "outputs": [
    {
     "data": {
      "text/plain": [
       "['Placeholder',\n",
       " 'Placeholder_1',\n",
       " 'Variable',\n",
       " 'dense/kernel',\n",
       " 'dense/bias',\n",
       " 'logits']"
      ]
     },
     "execution_count": 14,
     "metadata": {},
     "output_type": "execute_result"
    }
   ],
   "source": [
    "strings.split(',')"
   ]
  },
  {
   "cell_type": "code",
   "execution_count": 15,
   "metadata": {},
   "outputs": [
    {
     "data": {
      "text/plain": [
       "[<tf.Variable 'Variable:0' shape=(109348, 256) dtype=float32_ref>,\n",
       " <tf.Variable 'dense/kernel:0' shape=(256, 2) dtype=float32_ref>,\n",
       " <tf.Variable 'dense/bias:0' shape=(2,) dtype=float32_ref>]"
      ]
     },
     "execution_count": 15,
     "metadata": {},
     "output_type": "execute_result"
    }
   ],
   "source": [
    "tf.trainable_variables()"
   ]
  },
  {
   "cell_type": "code",
   "execution_count": 16,
   "metadata": {},
   "outputs": [
    {
     "name": "stderr",
     "output_type": "stream",
     "text": [
      "train minibatch loop: 100%|██████████| 250/250 [00:07<00:00, 33.18it/s, accuracy=0, cost=0.786]    \n",
      "test minibatch loop: 100%|██████████| 63/63 [00:00<00:00, 658.73it/s, accuracy=0.778, cost=0.643]\n",
      "train minibatch loop:   2%|▏         | 4/250 [00:00<00:07, 33.91it/s, accuracy=0.875, cost=0.606]"
     ]
    },
    {
     "name": "stdout",
     "output_type": "stream",
     "text": [
      "epoch: 0, pass acc: 0.000000, current acc: 0.748564\n",
      "time taken: 7.632977724075317\n",
      "epoch: 0, training loss: 0.680961, training acc: 0.622412, valid loss: 0.653781, valid acc: 0.748564\n",
      "\n"
     ]
    },
    {
     "name": "stderr",
     "output_type": "stream",
     "text": [
      "train minibatch loop: 100%|██████████| 250/250 [00:07<00:00, 33.67it/s, accuracy=0, cost=0.756]    \n",
      "test minibatch loop: 100%|██████████| 63/63 [00:00<00:00, 696.41it/s, accuracy=0.778, cost=0.6]\n",
      "train minibatch loop:   2%|▏         | 4/250 [00:00<00:07, 33.77it/s, accuracy=0.938, cost=0.508]"
     ]
    },
    {
     "name": "stdout",
     "output_type": "stream",
     "text": [
      "epoch: 1, pass acc: 0.748564, current acc: 0.832358\n",
      "time taken: 7.517005920410156\n",
      "epoch: 1, training loss: 0.603597, training acc: 0.802610, valid loss: 0.583401, valid acc: 0.832358\n",
      "\n"
     ]
    },
    {
     "name": "stderr",
     "output_type": "stream",
     "text": [
      "train minibatch loop: 100%|██████████| 250/250 [00:07<00:00, 33.65it/s, accuracy=0, cost=0.698]    \n",
      "test minibatch loop: 100%|██████████| 63/63 [00:00<00:00, 684.95it/s, accuracy=0.778, cost=0.555]\n",
      "train minibatch loop:   2%|▏         | 4/250 [00:00<00:07, 33.88it/s, accuracy=0.938, cost=0.394]"
     ]
    },
    {
     "name": "stdout",
     "output_type": "stream",
     "text": [
      "epoch: 2, pass acc: 0.832358, current acc: 0.853933\n",
      "time taken: 7.524259567260742\n",
      "epoch: 2, training loss: 0.503871, training acc: 0.878529, valid loss: 0.501211, valid acc: 0.853933\n",
      "\n"
     ]
    },
    {
     "name": "stderr",
     "output_type": "stream",
     "text": [
      "train minibatch loop: 100%|██████████| 250/250 [00:07<00:00, 33.70it/s, accuracy=1, cost=0.611]    \n",
      "test minibatch loop: 100%|██████████| 63/63 [00:00<00:00, 692.77it/s, accuracy=0.889, cost=0.528]\n",
      "train minibatch loop:   2%|▏         | 4/250 [00:00<00:07, 33.58it/s, accuracy=0.938, cost=0.297]"
     ]
    },
    {
     "name": "stdout",
     "output_type": "stream",
     "text": [
      "epoch: 3, pass acc: 0.853933, current acc: 0.868763\n",
      "time taken: 7.511051893234253\n",
      "epoch: 3, training loss: 0.401316, training acc: 0.914167, valid loss: 0.432543, valid acc: 0.868763\n",
      "\n"
     ]
    },
    {
     "name": "stderr",
     "output_type": "stream",
     "text": [
      "train minibatch loop: 100%|██████████| 250/250 [00:07<00:00, 33.67it/s, accuracy=1, cost=0.513]    \n",
      "test minibatch loop: 100%|██████████| 63/63 [00:00<00:00, 687.21it/s, accuracy=0.889, cost=0.519]\n",
      "train minibatch loop:   2%|▏         | 4/250 [00:00<00:07, 33.74it/s, accuracy=0.938, cost=0.226]"
     ]
    },
    {
     "name": "stdout",
     "output_type": "stream",
     "text": [
      "epoch: 4, pass acc: 0.868763, current acc: 0.875787\n",
      "time taken: 7.518678188323975\n",
      "epoch: 4, training loss: 0.318071, training acc: 0.934120, valid loss: 0.384561, valid acc: 0.875787\n",
      "\n"
     ]
    },
    {
     "name": "stderr",
     "output_type": "stream",
     "text": [
      "train minibatch loop: 100%|██████████| 250/250 [00:07<00:00, 33.69it/s, accuracy=1, cost=0.417]    \n",
      "test minibatch loop: 100%|██████████| 63/63 [00:00<00:00, 685.18it/s, accuracy=0.778, cost=0.519]\n",
      "train minibatch loop:   2%|▏         | 4/250 [00:00<00:07, 33.70it/s, accuracy=0.969, cost=0.175]"
     ]
    },
    {
     "name": "stdout",
     "output_type": "stream",
     "text": [
      "epoch: 5, pass acc: 0.875787, current acc: 0.880526\n",
      "time taken: 7.51415228843689\n",
      "epoch: 5, training loss: 0.255521, training acc: 0.950809, valid loss: 0.352085, valid acc: 0.880526\n",
      "\n"
     ]
    },
    {
     "name": "stderr",
     "output_type": "stream",
     "text": [
      "train minibatch loop: 100%|██████████| 250/250 [00:07<00:00, 33.72it/s, accuracy=1, cost=0.332]    \n",
      "test minibatch loop: 100%|██████████| 63/63 [00:00<00:00, 694.75it/s, accuracy=0.778, cost=0.525]\n",
      "train minibatch loop:   2%|▏         | 4/250 [00:00<00:07, 33.74it/s, accuracy=0.969, cost=0.137]"
     ]
    },
    {
     "name": "stdout",
     "output_type": "stream",
     "text": [
      "epoch: 6, pass acc: 0.880526, current acc: 0.884039\n",
      "time taken: 7.50698447227478\n",
      "epoch: 6, training loss: 0.208035, training acc: 0.962856, valid loss: 0.329528, valid acc: 0.884039\n",
      "\n"
     ]
    },
    {
     "name": "stderr",
     "output_type": "stream",
     "text": [
      "train minibatch loop: 100%|██████████| 250/250 [00:07<00:00, 33.64it/s, accuracy=1, cost=0.26]     \n",
      "test minibatch loop: 100%|██████████| 63/63 [00:00<00:00, 687.90it/s, accuracy=0.778, cost=0.536]\n",
      "train minibatch loop:   2%|▏         | 4/250 [00:00<00:07, 33.55it/s, accuracy=1, cost=0.108]    "
     ]
    },
    {
     "name": "stdout",
     "output_type": "stream",
     "text": [
      "epoch: 7, pass acc: 0.884039, current acc: 0.888053\n",
      "time taken: 7.525402784347534\n",
      "epoch: 7, training loss: 0.170951, training acc: 0.972895, valid loss: 0.313284, valid acc: 0.888053\n",
      "\n"
     ]
    },
    {
     "name": "stderr",
     "output_type": "stream",
     "text": [
      "train minibatch loop: 100%|██████████| 250/250 [00:07<00:00, 33.68it/s, accuracy=1, cost=0.201]     \n",
      "test minibatch loop: 100%|██████████| 63/63 [00:00<00:00, 699.15it/s, accuracy=0.778, cost=0.549]\n",
      "train minibatch loop:   2%|▏         | 4/250 [00:00<00:07, 33.55it/s, accuracy=1, cost=0.0852]   "
     ]
    },
    {
     "name": "stdout",
     "output_type": "stream",
     "text": [
      "epoch: 8, pass acc: 0.888053, current acc: 0.891565\n",
      "time taken: 7.515627861022949\n",
      "epoch: 8, training loss: 0.141317, training acc: 0.980801, valid loss: 0.301207, valid acc: 0.891565\n",
      "\n"
     ]
    },
    {
     "name": "stderr",
     "output_type": "stream",
     "text": [
      "train minibatch loop: 100%|██████████| 250/250 [00:07<00:00, 33.73it/s, accuracy=1, cost=0.156]     \n",
      "test minibatch loop: 100%|██████████| 63/63 [00:00<00:00, 690.38it/s, accuracy=0.778, cost=0.565]\n",
      "train minibatch loop:   2%|▏         | 4/250 [00:00<00:07, 33.51it/s, accuracy=1, cost=0.0677]   "
     ]
    },
    {
     "name": "stdout",
     "output_type": "stream",
     "text": [
      "epoch: 9, pass acc: 0.891565, current acc: 0.894575\n",
      "time taken: 7.505678415298462\n",
      "epoch: 9, training loss: 0.117280, training acc: 0.986698, valid loss: 0.292013, valid acc: 0.894575\n",
      "\n"
     ]
    },
    {
     "name": "stderr",
     "output_type": "stream",
     "text": [
      "train minibatch loop: 100%|██████████| 250/250 [00:07<00:00, 33.73it/s, accuracy=1, cost=0.12]      \n",
      "test minibatch loop: 100%|██████████| 63/63 [00:00<00:00, 695.93it/s, accuracy=0.778, cost=0.584]\n",
      "train minibatch loop:   2%|▏         | 4/250 [00:00<00:07, 33.57it/s, accuracy=1, cost=0.054]    "
     ]
    },
    {
     "name": "stdout",
     "output_type": "stream",
     "text": [
      "epoch: 10, pass acc: 0.894575, current acc: 0.898088\n",
      "time taken: 7.503463268280029\n",
      "epoch: 10, training loss: 0.097605, training acc: 0.990965, valid loss: 0.284905, valid acc: 0.898088\n",
      "\n"
     ]
    },
    {
     "name": "stderr",
     "output_type": "stream",
     "text": [
      "train minibatch loop: 100%|██████████| 250/250 [00:07<00:00, 33.71it/s, accuracy=1, cost=0.0932]    \n",
      "test minibatch loop: 100%|██████████| 63/63 [00:00<00:00, 681.82it/s, accuracy=0.778, cost=0.603]\n",
      "train minibatch loop:   2%|▏         | 4/250 [00:00<00:07, 33.69it/s, accuracy=1, cost=0.0432]"
     ]
    },
    {
     "name": "stdout",
     "output_type": "stream",
     "text": [
      "epoch: 11, pass acc: 0.898088, current acc: 0.899091\n",
      "time taken: 7.510956048965454\n",
      "epoch: 11, training loss: 0.081416, training acc: 0.993726, valid loss: 0.279370, valid acc: 0.899091\n",
      "\n"
     ]
    },
    {
     "name": "stderr",
     "output_type": "stream",
     "text": [
      "train minibatch loop: 100%|██████████| 250/250 [00:07<00:00, 33.68it/s, accuracy=1, cost=0.0726]    \n",
      "test minibatch loop: 100%|██████████| 63/63 [00:00<00:00, 676.67it/s, accuracy=0.778, cost=0.625]\n",
      "train minibatch loop:   2%|▏         | 4/250 [00:00<00:07, 33.90it/s, accuracy=1, cost=0.0347]"
     ]
    },
    {
     "name": "stdout",
     "output_type": "stream",
     "text": [
      "time taken: 7.517028331756592\n",
      "epoch: 12, training loss: 0.068056, training acc: 0.996235, valid loss: 0.275068, valid acc: 0.898590\n",
      "\n"
     ]
    },
    {
     "name": "stderr",
     "output_type": "stream",
     "text": [
      "train minibatch loop: 100%|██████████| 250/250 [00:07<00:00, 33.73it/s, accuracy=1, cost=0.0569]    \n",
      "test minibatch loop: 100%|██████████| 63/63 [00:00<00:00, 634.37it/s, accuracy=0.778, cost=0.648]\n",
      "train minibatch loop:   2%|▏         | 4/250 [00:00<00:07, 33.89it/s, accuracy=1, cost=0.0279]"
     ]
    },
    {
     "name": "stdout",
     "output_type": "stream",
     "text": [
      "epoch: 13, pass acc: 0.899091, current acc: 0.900597\n",
      "time taken: 7.513111114501953\n",
      "epoch: 13, training loss: 0.057012, training acc: 0.997992, valid loss: 0.271764, valid acc: 0.900597\n",
      "\n"
     ]
    },
    {
     "name": "stderr",
     "output_type": "stream",
     "text": [
      "train minibatch loop: 100%|██████████| 250/250 [00:07<00:00, 33.74it/s, accuracy=1, cost=0.045]     \n",
      "test minibatch loop: 100%|██████████| 63/63 [00:00<00:00, 676.52it/s, accuracy=0.778, cost=0.672]\n",
      "train minibatch loop:   2%|▏         | 4/250 [00:00<00:07, 33.89it/s, accuracy=1, cost=0.0226]"
     ]
    },
    {
     "name": "stdout",
     "output_type": "stream",
     "text": [
      "time taken: 7.504401206970215\n",
      "epoch: 14, training loss: 0.047870, training acc: 0.999498, valid loss: 0.269292, valid acc: 0.899091\n",
      "\n"
     ]
    },
    {
     "name": "stderr",
     "output_type": "stream",
     "text": [
      "train minibatch loop: 100%|██████████| 250/250 [00:07<00:00, 33.72it/s, accuracy=1, cost=0.0358]    \n",
      "test minibatch loop: 100%|██████████| 63/63 [00:00<00:00, 640.80it/s, accuracy=0.778, cost=0.697]\n",
      "train minibatch loop:   2%|▏         | 4/250 [00:00<00:07, 33.91it/s, accuracy=1, cost=0.0184]"
     ]
    },
    {
     "name": "stdout",
     "output_type": "stream",
     "text": [
      "time taken: 7.51427149772644\n",
      "epoch: 15, training loss: 0.040289, training acc: 1.000376, valid loss: 0.267529, valid acc: 0.898088\n",
      "\n"
     ]
    },
    {
     "name": "stderr",
     "output_type": "stream",
     "text": [
      "train minibatch loop: 100%|██████████| 250/250 [00:07<00:00, 33.68it/s, accuracy=1, cost=0.0288]    \n",
      "test minibatch loop: 100%|██████████| 63/63 [00:00<00:00, 666.64it/s, accuracy=0.778, cost=0.722]\n",
      "train minibatch loop:   2%|▏         | 4/250 [00:00<00:07, 33.62it/s, accuracy=1, cost=0.015] "
     ]
    },
    {
     "name": "stdout",
     "output_type": "stream",
     "text": [
      "time taken: 7.519939184188843\n",
      "epoch: 16, training loss: 0.033989, training acc: 1.001757, valid loss: 0.266378, valid acc: 0.898590\n",
      "\n"
     ]
    },
    {
     "name": "stderr",
     "output_type": "stream",
     "text": [
      "train minibatch loop: 100%|██████████| 250/250 [00:07<00:00, 33.73it/s, accuracy=1, cost=0.0233]    \n",
      "test minibatch loop: 100%|██████████| 63/63 [00:00<00:00, 641.40it/s, accuracy=0.778, cost=0.748]\n",
      "train minibatch loop:   2%|▏         | 4/250 [00:00<00:07, 33.80it/s, accuracy=1, cost=0.0123]"
     ]
    },
    {
     "name": "stdout",
     "output_type": "stream",
     "text": [
      "time taken: 7.512571334838867\n",
      "epoch: 17, training loss: 0.028741, training acc: 1.002008, valid loss: 0.265757, valid acc: 0.897586\n",
      "\n"
     ]
    },
    {
     "name": "stderr",
     "output_type": "stream",
     "text": [
      "train minibatch loop: 100%|██████████| 250/250 [00:07<00:00, 33.69it/s, accuracy=1, cost=0.019]     \n",
      "test minibatch loop: 100%|██████████| 63/63 [00:00<00:00, 698.68it/s, accuracy=0.778, cost=0.774]\n"
     ]
    },
    {
     "name": "stdout",
     "output_type": "stream",
     "text": [
      "time taken: 7.5115885734558105\n",
      "epoch: 18, training loss: 0.024360, training acc: 1.002259, valid loss: 0.265591, valid acc: 0.897586\n",
      "\n",
      "break epoch:19\n",
      "\n"
     ]
    },
    {
     "data": {
      "text/plain": [
       "'fast-text/model.ckpt'"
      ]
     },
     "execution_count": 16,
     "metadata": {},
     "output_type": "execute_result"
    }
   ],
   "source": [
    "EARLY_STOPPING, CURRENT_CHECKPOINT, CURRENT_ACC, EPOCH = 5, 0, 0, 0\n",
    "\n",
    "while True:\n",
    "    lasttime = time.time()\n",
    "    if CURRENT_CHECKPOINT == EARLY_STOPPING:\n",
    "        print('break epoch:%d\\n' % (EPOCH))\n",
    "        break\n",
    "\n",
    "    train_acc, train_loss, test_acc, test_loss = 0, 0, 0, 0\n",
    "    pbar = tqdm(\n",
    "        range(0, len(train_X), batch_size), desc = 'train minibatch loop'\n",
    "    )\n",
    "    for i in pbar:\n",
    "        batch_x = train_X[i : min(i + batch_size, train_X.shape[0])]\n",
    "        batch_y = train_Y[i : min(i + batch_size, train_X.shape[0])]\n",
    "        acc, cost, _ = sess.run(\n",
    "            [model.accuracy, model.cost, model.optimizer],\n",
    "            feed_dict = {\n",
    "                model.X: batch_x,\n",
    "                model.Y: batch_y\n",
    "            },\n",
    "        )\n",
    "        assert not np.isnan(cost)\n",
    "        train_loss += cost\n",
    "        train_acc += acc\n",
    "        pbar.set_postfix(cost = cost, accuracy = acc)\n",
    "\n",
    "    pbar = tqdm(range(0, len(test_X), batch_size), desc = 'test minibatch loop')\n",
    "    for i in pbar:\n",
    "        batch_x = test_X[i : min(i + batch_size, test_X.shape[0])]\n",
    "        batch_y = test_Y[i : min(i + batch_size, test_X.shape[0])]\n",
    "        batch_x_expand = np.expand_dims(batch_x,axis = 1)\n",
    "        acc, cost = sess.run(\n",
    "            [model.accuracy, model.cost],\n",
    "            feed_dict = {\n",
    "                model.X: batch_x,\n",
    "                model.Y: batch_y\n",
    "            },\n",
    "        )\n",
    "        test_loss += cost\n",
    "        test_acc += acc\n",
    "        pbar.set_postfix(cost = cost, accuracy = acc)\n",
    "\n",
    "    train_loss /= len(train_X) / batch_size\n",
    "    train_acc /= len(train_X) / batch_size\n",
    "    test_loss /= len(test_X) / batch_size\n",
    "    test_acc /= len(test_X) / batch_size\n",
    "\n",
    "    if test_acc > CURRENT_ACC:\n",
    "        print(\n",
    "            'epoch: %d, pass acc: %f, current acc: %f'\n",
    "            % (EPOCH, CURRENT_ACC, test_acc)\n",
    "        )\n",
    "        CURRENT_ACC = test_acc\n",
    "        CURRENT_CHECKPOINT = 0\n",
    "    else:\n",
    "        CURRENT_CHECKPOINT += 1\n",
    "\n",
    "    print('time taken:', time.time() - lasttime)\n",
    "    print(\n",
    "        'epoch: %d, training loss: %f, training acc: %f, valid loss: %f, valid acc: %f\\n'\n",
    "        % (EPOCH, train_loss, train_acc, test_loss, test_acc)\n",
    "    )\n",
    "    EPOCH += 1\n",
    "saver.save(sess, \"fast-text/model.ckpt\")"
   ]
  },
  {
   "cell_type": "code",
   "execution_count": 17,
   "metadata": {},
   "outputs": [
    {
     "name": "stdout",
     "output_type": "stream",
     "text": [
      "              precision    recall  f1-score   support\n",
      "\n",
      "    negative       0.88      0.91      0.89      1003\n",
      "    positive       0.90      0.87      0.89       990\n",
      "\n",
      "   micro avg       0.89      0.89      0.89      1993\n",
      "   macro avg       0.89      0.89      0.89      1993\n",
      "weighted avg       0.89      0.89      0.89      1993\n",
      "\n"
     ]
    }
   ],
   "source": [
    "logits = sess.run(model.logits, feed_dict = {model.X: test_X})\n",
    "print(\n",
    "    metrics.classification_report(\n",
    "        test_Y, np.argmax(logits, 1), target_names = ['negative', 'positive']\n",
    "    )\n",
    ")"
   ]
  },
  {
   "cell_type": "code",
   "execution_count": 18,
   "metadata": {},
   "outputs": [],
   "source": [
    "import json\n",
    "with open('fast-text-subjective.json','w') as fopen:\n",
    "    fopen.write(json.dumps({'dictionary':dictionary,'reverse_dictionary':rev_dictionary}))"
   ]
  },
  {
   "cell_type": "code",
   "execution_count": 19,
   "metadata": {},
   "outputs": [],
   "source": [
    "def freeze_graph(model_dir, output_node_names):\n",
    "\n",
    "    if not tf.gfile.Exists(model_dir):\n",
    "        raise AssertionError(\n",
    "            \"Export directory doesn't exists. Please specify an export \"\n",
    "            'directory: %s' % model_dir\n",
    "        )\n",
    "\n",
    "    checkpoint = tf.train.get_checkpoint_state(model_dir)\n",
    "    input_checkpoint = checkpoint.model_checkpoint_path\n",
    "\n",
    "    absolute_model_dir = '/'.join(input_checkpoint.split('/')[:-1])\n",
    "    output_graph = absolute_model_dir + '/frozen_model.pb'\n",
    "    clear_devices = True\n",
    "    with tf.Session(graph = tf.Graph()) as sess:\n",
    "        saver = tf.train.import_meta_graph(\n",
    "            input_checkpoint + '.meta', clear_devices = clear_devices\n",
    "        )\n",
    "        saver.restore(sess, input_checkpoint)\n",
    "        output_graph_def = tf.graph_util.convert_variables_to_constants(\n",
    "            sess,\n",
    "            tf.get_default_graph().as_graph_def(),\n",
    "            output_node_names.split(','),\n",
    "        )\n",
    "        with tf.gfile.GFile(output_graph, 'wb') as f:\n",
    "            f.write(output_graph_def.SerializeToString())\n",
    "        print('%d ops in the final graph.' % len(output_graph_def.node))"
   ]
  },
  {
   "cell_type": "code",
   "execution_count": 20,
   "metadata": {},
   "outputs": [
    {
     "name": "stdout",
     "output_type": "stream",
     "text": [
      "INFO:tensorflow:Restoring parameters from fast-text/model.ckpt\n",
      "INFO:tensorflow:Froze 3 variables.\n",
      "INFO:tensorflow:Converted 3 variables to const ops.\n",
      "16 ops in the final graph.\n"
     ]
    }
   ],
   "source": [
    "freeze_graph('fast-text', strings)"
   ]
  },
  {
   "cell_type": "code",
   "execution_count": 21,
   "metadata": {},
   "outputs": [],
   "source": [
    "def load_graph(frozen_graph_filename):\n",
    "    with tf.gfile.GFile(frozen_graph_filename, 'rb') as f:\n",
    "        graph_def = tf.GraphDef()\n",
    "        graph_def.ParseFromString(f.read())\n",
    "    with tf.Graph().as_default() as graph:\n",
    "        tf.import_graph_def(graph_def)\n",
    "    return graph"
   ]
  },
  {
   "cell_type": "code",
   "execution_count": 24,
   "metadata": {},
   "outputs": [
    {
     "name": "stderr",
     "output_type": "stream",
     "text": [
      "/usr/local/lib/python3.5/dist-packages/tensorflow/python/client/session.py:1702: UserWarning: An interactive session is already active. This can cause out-of-memory errors in some cases. You must explicitly call `InteractiveSession.close()` to release resources held by the other session(s).\n",
      "  warnings.warn('An interactive session is already active. This can '\n"
     ]
    },
    {
     "data": {
      "text/plain": [
       "array([[0.00218716, 0.99781287]], dtype=float32)"
      ]
     },
     "execution_count": 24,
     "metadata": {},
     "output_type": "execute_result"
    }
   ],
   "source": [
    "g = load_graph('fast-text/frozen_model.pb')\n",
    "x = g.get_tensor_by_name('import/Placeholder:0')\n",
    "logits = g.get_tensor_by_name('import/logits:0')\n",
    "test_sess = tf.InteractiveSession(graph = g)\n",
    "text = 'kerajaan sebenarnya sangat sayangkan rakyatnya, tetapi sebenarnya benci'\n",
    "new_vector = add_ngram(str_idx([classification_textcleaning(text)[0]],dictionary), token_indice)\n",
    "test_sess.run(tf.nn.softmax(logits), feed_dict = {x: new_vector})"
   ]
  },
  {
   "cell_type": "code",
   "execution_count": 25,
   "metadata": {},
   "outputs": [],
   "source": [
    "import pickle\n",
    "with open('token-indice.pkl','wb') as fopen:\n",
    "    pickle.dump(token_indice, fopen)"
   ]
  },
  {
   "cell_type": "code",
   "execution_count": null,
   "metadata": {},
   "outputs": [],
   "source": []
  }
 ],
 "metadata": {
  "kernelspec": {
   "display_name": "Python 3",
   "language": "python",
   "name": "python3"
  },
  "language_info": {
   "codemirror_mode": {
    "name": "ipython",
    "version": 3
   },
   "file_extension": ".py",
   "mimetype": "text/x-python",
   "name": "python",
   "nbconvert_exporter": "python",
   "pygments_lexer": "ipython3",
   "version": "3.5.2"
  }
 },
 "nbformat": 4,
 "nbformat_minor": 2
}
