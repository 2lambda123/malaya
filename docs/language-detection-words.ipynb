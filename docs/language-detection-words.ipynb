{
 "cells": [
  {
   "cell_type": "markdown",
   "metadata": {},
   "source": [
    "# Language Detection word level using rules based"
   ]
  },
  {
   "cell_type": "markdown",
   "metadata": {},
   "source": [
    "<div class=\"alert alert-info\">\n",
    "\n",
    "This tutorial is available as an IPython notebook at [Malaya/example/language-detection-words](https://github.com/huseinzol05/Malaya/tree/master/example/language-detection-words).\n",
    "    \n",
    "</div>"
   ]
  },
  {
   "cell_type": "markdown",
   "metadata": {},
   "source": [
    "<div class=\"alert alert-warning\">\n",
    "\n",
    "This module is using dictionary, expect Out-of-vocabulary (OOV) words.\n",
    "    \n",
    "</div>"
   ]
  },
  {
   "cell_type": "code",
   "execution_count": 1,
   "metadata": {},
   "outputs": [
    {
     "name": "stdout",
     "output_type": "stream",
     "text": [
      "CPU times: user 5.41 s, sys: 869 ms, total: 6.28 s\n",
      "Wall time: 7.18 s\n"
     ]
    }
   ],
   "source": [
    "%%time\n",
    "import malaya"
   ]
  },
  {
   "cell_type": "markdown",
   "metadata": {},
   "source": [
    "## Install pyenchant\n",
    "\n",
    "Full installation steps at https://pyenchant.github.io/pyenchant/install.html"
   ]
  },
  {
   "cell_type": "markdown",
   "metadata": {},
   "source": [
    "## Load model\n",
    "\n",
    "```python\n",
    "def substring_rules(**kwargs):\n",
    "    \"\"\"\n",
    "    detect EN, MS and OTHER languages in a string.\n",
    "\n",
    "    EN words detection are using `pyenchant` from https://pyenchant.github.io/pyenchant/ and\n",
    "    fast-text https://fasttext.cc/docs/en/language-identification.html.\n",
    "\n",
    "    MS words detection are using `malaya.text.function.is_malay` and\n",
    "    fast-text https://fasttext.cc/docs/en/language-identification.html.\n",
    "\n",
    "    OTHER words detection are using fast-text https://fasttext.cc/docs/en/language-identification.html.\n",
    "\n",
    "    Returns\n",
    "    -------\n",
    "    result : malaya.model.rules.LanguageDict class\n",
    "    \"\"\"\n",
    "```"
   ]
  },
  {
   "cell_type": "code",
   "execution_count": 2,
   "metadata": {},
   "outputs": [
    {
     "name": "stderr",
     "output_type": "stream",
     "text": [
      "Warning : `load_model` does not return WordVectorModel or SupervisedModel any more, but a `FastText` object which is very similar.\n"
     ]
    }
   ],
   "source": [
    "model = malaya.language_detection.substring_rules()"
   ]
  },
  {
   "cell_type": "markdown",
   "metadata": {},
   "source": [
    "## Predict\n",
    "\n",
    "```python\n",
    "def predict(self, words: List[str]):\n",
    "    \"\"\"\n",
    "    Predict [EN, MS, NOT_LANG] on word level. \n",
    "    This method assumed the string already tokenized.\n",
    "\n",
    "    Parameters\n",
    "    ----------\n",
    "    words: List[str]\n",
    "\n",
    "    Returns\n",
    "    -------\n",
    "    result: List[str]\n",
    "    \"\"\"\n",
    "```"
   ]
  },
  {
   "cell_type": "code",
   "execution_count": 3,
   "metadata": {},
   "outputs": [
    {
     "data": {
      "text/plain": [
       "[('saya', 'MS'),\n",
       " ('suka', 'MS'),\n",
       " ('chicken', 'EN'),\n",
       " ('and', 'EN'),\n",
       " ('fish', 'EN'),\n",
       " ('pda', 'EN'),\n",
       " ('hari', 'MS'),\n",
       " ('isnin', 'MS')]"
      ]
     },
     "execution_count": 3,
     "metadata": {},
     "output_type": "execute_result"
    }
   ],
   "source": [
    "string = 'saya suka chicken and fish pda hari isnin'\n",
    "splitted = string.split()\n",
    "list(zip(splitted, model.predict(splitted)))"
   ]
  },
  {
   "cell_type": "code",
   "execution_count": 4,
   "metadata": {},
   "outputs": [
    {
     "data": {
      "text/plain": [
       "[('saya', 'MS'),\n",
       " ('suka', 'MS'),\n",
       " ('chicken', 'EN'),\n",
       " ('and', 'EN'),\n",
       " ('fish', 'EN'),\n",
       " ('pda', 'EN'),\n",
       " ('hari', 'MS'),\n",
       " ('isnin,', 'OTHERS'),\n",
       " ('tarikh', 'MS'),\n",
       " ('22', 'NOT_LANG'),\n",
       " ('mei', 'MS')]"
      ]
     },
     "execution_count": 4,
     "metadata": {},
     "output_type": "execute_result"
    }
   ],
   "source": [
    "string = 'saya suka chicken and fish pda hari isnin, tarikh 22 mei'\n",
    "splitted = string.split()\n",
    "list(zip(splitted, model.predict(splitted)))"
   ]
  },
  {
   "cell_type": "code",
   "execution_count": 5,
   "metadata": {},
   "outputs": [
    {
     "data": {
      "text/plain": [
       "[('saya', 'MS'),\n",
       " ('suka', 'MS'),\n",
       " ('chicken', 'EN'),\n",
       " ('🐔', 'NOT_LANG'),\n",
       " ('and', 'EN'),\n",
       " ('fish', 'EN'),\n",
       " ('pda', 'EN'),\n",
       " ('hari', 'MS'),\n",
       " ('isnin,', 'OTHERS'),\n",
       " ('tarikh', 'MS'),\n",
       " ('22', 'NOT_LANG'),\n",
       " ('mei', 'MS')]"
      ]
     },
     "execution_count": 5,
     "metadata": {},
     "output_type": "execute_result"
    }
   ],
   "source": [
    "string = 'saya suka chicken 🐔 and fish pda hari isnin, tarikh 22 mei'\n",
    "splitted = string.split()\n",
    "list(zip(splitted, model.predict(splitted)))"
   ]
  },
  {
   "cell_type": "markdown",
   "metadata": {},
   "source": [
    "### Use malaya.preprocessing.Tokenizer\n",
    "\n",
    "To get better word tokens!"
   ]
  },
  {
   "cell_type": "code",
   "execution_count": 10,
   "metadata": {},
   "outputs": [],
   "source": [
    "string = 'Terminal 1 KKIA dilengkapi kemudahan 64 kaunter daftar masuk, 12 aero bridge selain mampu menampung 3,200 penumpang dalam satu masa.'"
   ]
  },
  {
   "cell_type": "code",
   "execution_count": 13,
   "metadata": {},
   "outputs": [
    {
     "data": {
      "text/plain": [
       "['Terminal',\n",
       " '1',\n",
       " 'KKIA',\n",
       " 'dilengkapi',\n",
       " 'kemudahan',\n",
       " '64',\n",
       " 'kaunter',\n",
       " 'daftar',\n",
       " 'masuk',\n",
       " ',',\n",
       " '12',\n",
       " 'aero',\n",
       " 'bridge',\n",
       " 'selain',\n",
       " 'mampu',\n",
       " 'menampung',\n",
       " '3,200',\n",
       " 'penumpang',\n",
       " 'dalam',\n",
       " 'satu',\n",
       " 'masa',\n",
       " '.']"
      ]
     },
     "execution_count": 13,
     "metadata": {},
     "output_type": "execute_result"
    }
   ],
   "source": [
    "tokenizer = malaya.preprocessing.Tokenizer()\n",
    "tokenized = tokenizer.tokenize(string)\n",
    "tokenized"
   ]
  },
  {
   "cell_type": "code",
   "execution_count": 14,
   "metadata": {
    "scrolled": true
   },
   "outputs": [
    {
     "data": {
      "text/plain": [
       "[('Terminal', 'MS'),\n",
       " ('1', 'NOT_LANG'),\n",
       " ('KKIA', 'CAPITAL'),\n",
       " ('dilengkapi', 'MS'),\n",
       " ('kemudahan', 'MS'),\n",
       " ('64', 'NOT_LANG'),\n",
       " ('kaunter', 'MS'),\n",
       " ('daftar', 'MS'),\n",
       " ('masuk', 'MS'),\n",
       " (',', 'NOT_LANG'),\n",
       " ('12', 'NOT_LANG'),\n",
       " ('aero', 'OTHERS'),\n",
       " ('bridge', 'EN'),\n",
       " ('selain', 'MS'),\n",
       " ('mampu', 'MS'),\n",
       " ('menampung', 'MS'),\n",
       " ('3,200', 'NOT_LANG'),\n",
       " ('penumpang', 'MS'),\n",
       " ('dalam', 'MS'),\n",
       " ('satu', 'MS'),\n",
       " ('masa', 'MS'),\n",
       " ('.', 'NOT_LANG')]"
      ]
     },
     "execution_count": 14,
     "metadata": {},
     "output_type": "execute_result"
    }
   ],
   "source": [
    "list(zip(tokenized, model.predict(tokenized)))"
   ]
  },
  {
   "cell_type": "markdown",
   "metadata": {},
   "source": [
    "If not properly tokenized the string,"
   ]
  },
  {
   "cell_type": "code",
   "execution_count": 15,
   "metadata": {},
   "outputs": [
    {
     "data": {
      "text/plain": [
       "[('Terminal', 'MS'),\n",
       " ('1', 'NOT_LANG'),\n",
       " ('KKIA', 'CAPITAL'),\n",
       " ('dilengkapi', 'MS'),\n",
       " ('kemudahan', 'MS'),\n",
       " ('64', 'NOT_LANG'),\n",
       " ('kaunter', 'MS'),\n",
       " ('daftar', 'MS'),\n",
       " ('masuk,', 'OTHERS'),\n",
       " ('12', 'NOT_LANG'),\n",
       " ('aero', 'OTHERS'),\n",
       " ('bridge', 'EN'),\n",
       " ('selain', 'MS'),\n",
       " ('mampu', 'MS'),\n",
       " ('menampung', 'MS'),\n",
       " ('3,200', 'NOT_LANG'),\n",
       " ('penumpang', 'MS'),\n",
       " ('dalam', 'MS'),\n",
       " ('satu', 'MS'),\n",
       " ('masa.', 'OTHERS')]"
      ]
     },
     "execution_count": 15,
     "metadata": {},
     "output_type": "execute_result"
    }
   ],
   "source": [
    "splitted = string.split()\n",
    "list(zip(splitted, model.predict(splitted)))"
   ]
  }
 ],
 "metadata": {
  "kernelspec": {
   "display_name": "Python 3",
   "language": "python",
   "name": "python3"
  },
  "language_info": {
   "codemirror_mode": {
    "name": "ipython",
    "version": 3
   },
   "file_extension": ".py",
   "mimetype": "text/x-python",
   "name": "python",
   "nbconvert_exporter": "python",
   "pygments_lexer": "ipython3",
   "version": "3.7.7"
  },
  "varInspector": {
   "cols": {
    "lenName": 16,
    "lenType": 16,
    "lenVar": 40
   },
   "kernels_config": {
    "python": {
     "delete_cmd_postfix": "",
     "delete_cmd_prefix": "del ",
     "library": "var_list.py",
     "varRefreshCmd": "print(var_dic_list())"
    },
    "r": {
     "delete_cmd_postfix": ") ",
     "delete_cmd_prefix": "rm(",
     "library": "var_list.r",
     "varRefreshCmd": "cat(var_dic_list()) "
    }
   },
   "types_to_exclude": [
    "module",
    "function",
    "builtin_function_or_method",
    "instance",
    "_Feature"
   ],
   "window_display": false
  }
 },
 "nbformat": 4,
 "nbformat_minor": 4
}
