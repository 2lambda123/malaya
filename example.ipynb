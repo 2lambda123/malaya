{
 "cells": [
  {
   "cell_type": "code",
   "execution_count": 1,
   "metadata": {},
   "outputs": [
    {
     "name": "stderr",
     "output_type": "stream",
     "text": [
      "/usr/local/lib/python3.5/dist-packages/sklearn/cross_validation.py:41: DeprecationWarning: This module was deprecated in version 0.18 in favor of the model_selection module into which all the refactored classes and functions are moved. Also note that the interface of the new CV iterators are different from that of this module. This module will be removed in 0.20.\n",
      "  \"This module will be removed in 0.20.\", DeprecationWarning)\n"
     ]
    }
   ],
   "source": [
    "import malaya"
   ]
  },
  {
   "cell_type": "code",
   "execution_count": 2,
   "metadata": {},
   "outputs": [
    {
     "name": "stdout",
     "output_type": "stream",
     "text": [
      "makan\n",
      "jalan\n"
     ]
    }
   ],
   "source": [
    "print(malaya.stemming('makanan'))\n",
    "print(malaya.stemming('perjalanan'))"
   ]
  },
  {
   "cell_type": "code",
   "execution_count": 3,
   "metadata": {},
   "outputs": [
    {
     "data": {
      "text/plain": [
       "[('KN', 'bapa'), ('KETERANGAN', 'sedang'), ('KJ', 'menulis'), ('KN', 'surat')]"
      ]
     },
     "execution_count": 3,
     "metadata": {},
     "output_type": "execute_result"
    }
   ],
   "source": [
    "malaya.naive_POS_string('bapa sedang menulis surat')"
   ]
  },
  {
   "cell_type": "code",
   "execution_count": 4,
   "metadata": {},
   "outputs": [
    {
     "data": {
      "text/plain": [
       "[('KJ', 'perempuan'), ('KN', 'itu'), ('KJ', 'menjual'), ('KN', 'sayur')]"
      ]
     },
     "execution_count": 4,
     "metadata": {},
     "output_type": "execute_result"
    }
   ],
   "source": [
    "malaya.naive_POS_string('perempuan itu menjual sayur')"
   ]
  },
  {
   "cell_type": "code",
   "execution_count": 5,
   "metadata": {},
   "outputs": [
    {
     "data": {
      "text/plain": [
       "[('KS', 'dalam'),\n",
       " ('KN', 'ayat'),\n",
       " ('KJ', 'pertama'),\n",
       " ('KN', 'kucing'),\n",
       " ('KPEMERI', 'ialah'),\n",
       " ('KJ', 'pembuat'),\n",
       " ('', ','),\n",
       " ('KJ', 'menangkap'),\n",
       " ('KPEMERI', 'ialah'),\n",
       " ('KJ', 'perbuatan'),\n",
       " ('KJ', 'melampau'),\n",
       " ('KH', 'dan'),\n",
       " ('KJ', 'seekor'),\n",
       " ('KN', 'burung'),\n",
       " ('KPEMERI', 'ialah'),\n",
       " ('KJ', 'benda'),\n",
       " ('KETERANGAN', 'yang'),\n",
       " ('KN', 'kena'),\n",
       " ('KN', 'buat'),\n",
       " ('KH', 'atau'),\n",
       " ('KJ', 'penyambut')]"
      ]
     },
     "execution_count": 5,
     "metadata": {},
     "output_type": "execute_result"
    }
   ],
   "source": [
    "malaya.naive_POS_string('Dalam ayat pertama Kucing ialah pembuat, menangkap ialah perbuatan melampau dan seekor burung ialah benda yang kena buat atau penyambut')"
   ]
  },
  {
   "cell_type": "code",
   "execution_count": 6,
   "metadata": {},
   "outputs": [
    {
     "data": {
      "text/plain": [
       "'seratus dua puluh tiga juta empat ratus lima puluh enam ribu tujuh ratus lapan puluh sembilan'"
      ]
     },
     "execution_count": 6,
     "metadata": {},
     "output_type": "execute_result"
    }
   ],
   "source": [
    "malaya.to_cardinal(123456789)"
   ]
  },
  {
   "cell_type": "code",
   "execution_count": 7,
   "metadata": {},
   "outputs": [
    {
     "data": {
      "text/plain": [
       "'kesebelas'"
      ]
     },
     "execution_count": 7,
     "metadata": {},
     "output_type": "execute_result"
    }
   ],
   "source": [
    "malaya.to_ordinal(11)"
   ]
  },
  {
   "cell_type": "code",
   "execution_count": 8,
   "metadata": {},
   "outputs": [],
   "source": [
    "sample_corpus = [\n",
    "    ['Justeru, tiada sebarang pemindahan bon atau dana seumpamanya kepada mana-mana syarikat, pihak atau individu seperti yang dinyatakan di atas berlaku seperti yang didakwa', 'positive'],\n",
    "    ['Oleh sebab ini jelas merupakan dokumen dipalsukan, KWSP membuat laporan polis','positive'],\n",
    "    ['Semua kelulusan perlu melalui jawatankuasa pelaburan pengurusan bagi mendapatkan sokongan sebelum dikemukakan kepada Panel Pelaburan bagi kelulusan akhir','negative'],\n",
    "    ['Secara rasmi masih belum bincang lagi.','negative'],\n",
    "    ['Dua tahun lepas ia dikatakan sebuah agenda Yahudi, tapi ada baiknya apabila tular menyebabkan orang nak tahu','positive']\n",
    "]"
   ]
  },
  {
   "cell_type": "code",
   "execution_count": 9,
   "metadata": {},
   "outputs": [
    {
     "name": "stdout",
     "output_type": "stream",
     "text": [
      "             precision    recall  f1-score   support\n",
      "\n",
      "   negative       0.00      0.00      0.00         0\n",
      "   positive       0.00      0.00      0.00         1\n",
      "\n",
      "avg / total       0.00      0.00      0.00         1\n",
      "\n"
     ]
    },
    {
     "name": "stderr",
     "output_type": "stream",
     "text": [
      "/usr/local/lib/python3.5/dist-packages/sklearn/metrics/classification.py:1135: UndefinedMetricWarning: Precision and F-score are ill-defined and being set to 0.0 in labels with no predicted samples.\n",
      "  'precision', 'predicted', average, warn_for)\n",
      "/usr/local/lib/python3.5/dist-packages/sklearn/metrics/classification.py:1137: UndefinedMetricWarning: Recall and F-score are ill-defined and being set to 0.0 in labels with no true samples.\n",
      "  'recall', 'true', average, warn_for)\n"
     ]
    }
   ],
   "source": [
    "malaya.train_bayes(sample_corpus)"
   ]
  },
  {
   "cell_type": "code",
   "execution_count": 10,
   "metadata": {},
   "outputs": [
    {
     "name": "stdout",
     "output_type": "stream",
     "text": [
      "negative: 0.589947\n",
      "positive: 0.410053\n"
     ]
    }
   ],
   "source": [
    "malaya.classify_bayes('kelulusan perlu melalui jawatankuasa')"
   ]
  },
  {
   "cell_type": "code",
   "execution_count": 11,
   "metadata": {},
   "outputs": [
    {
     "name": "stdout",
     "output_type": "stream",
     "text": [
      "negative: 0.521006\n",
      "positive: 0.478994\n"
     ]
    }
   ],
   "source": [
    "malaya.classify_bayes('Justeru, tiada sebarang pemindahan bon atau dana seumpamanya kepada mana-mana syarikat, pihak atau individu seperti yang dinyatakan di atas berlaku seperti yang didakwa')"
   ]
  },
  {
   "cell_type": "code",
   "execution_count": 12,
   "metadata": {},
   "outputs": [
    {
     "name": "stdout",
     "output_type": "stream",
     "text": [
      "done train normalizer\n"
     ]
    }
   ],
   "source": [
    "corpus_normalize = ['maka','serious','yeke','masing-masing']\n",
    "malaya.train_normalize(corpus_normalize)"
   ]
  },
  {
   "cell_type": "code",
   "execution_count": 13,
   "metadata": {},
   "outputs": [
    {
     "data": {
      "text/plain": [
       "'masing-masing'"
      ]
     },
     "execution_count": 13,
     "metadata": {},
     "output_type": "execute_result"
    }
   ],
   "source": [
    "malaya.user_normalize('masing2')"
   ]
  },
  {
   "cell_type": "code",
   "execution_count": 15,
   "metadata": {},
   "outputs": [
    {
     "data": {
      "text/plain": [
       "'serious'"
      ]
     },
     "execution_count": 15,
     "metadata": {},
     "output_type": "execute_result"
    }
   ],
   "source": [
    "malaya.user_normalize('srious')"
   ]
  },
  {
   "cell_type": "code",
   "execution_count": null,
   "metadata": {},
   "outputs": [],
   "source": []
  }
 ],
 "metadata": {
  "kernelspec": {
   "display_name": "Python 3",
   "language": "python",
   "name": "python3"
  },
  "language_info": {
   "codemirror_mode": {
    "name": "ipython",
    "version": 3
   },
   "file_extension": ".py",
   "mimetype": "text/x-python",
   "name": "python",
   "nbconvert_exporter": "python",
   "pygments_lexer": "ipython3",
   "version": "3.5.2"
  }
 },
 "nbformat": 4,
 "nbformat_minor": 2
}
