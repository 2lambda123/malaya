{
 "cells": [
  {
   "cell_type": "code",
   "execution_count": 1,
   "metadata": {},
   "outputs": [
    {
     "name": "stdout",
     "output_type": "stream",
     "text": [
      "CPU times: user 13.6 s, sys: 1.56 s, total: 15.2 s\n",
      "Wall time: 20.3 s\n"
     ]
    }
   ],
   "source": [
    "%%time\n",
    "import malaya"
   ]
  },
  {
   "cell_type": "code",
   "execution_count": 2,
   "metadata": {},
   "outputs": [],
   "source": [
    "string = 'y u xsuke makan HUSEIN kt situ tmpt'\n",
    "another = 'i mmg xske mknn HUSEIN kampng tempt'"
   ]
  },
  {
   "cell_type": "markdown",
   "metadata": {},
   "source": [
    "## Load basic normalizer"
   ]
  },
  {
   "cell_type": "code",
   "execution_count": 3,
   "metadata": {},
   "outputs": [
    {
     "data": {
      "text/plain": [
       "'kenapa awak xsuke makan Husein kt situ tmpt'"
      ]
     },
     "execution_count": 3,
     "metadata": {},
     "output_type": "execute_result"
    }
   ],
   "source": [
    "malaya.normalize.basic(string)"
   ]
  },
  {
   "cell_type": "markdown",
   "metadata": {},
   "source": [
    "## Load fuzzy normalizer"
   ]
  },
  {
   "cell_type": "code",
   "execution_count": 4,
   "metadata": {},
   "outputs": [],
   "source": [
    "malays = malaya.load_malay_dictionary()\n",
    "normalizer = malaya.normalize.fuzzy(malays)"
   ]
  },
  {
   "cell_type": "code",
   "execution_count": 5,
   "metadata": {},
   "outputs": [
    {
     "data": {
      "text/plain": [
       "'kenapa awak tak suka makan Husein kat situ tempat'"
      ]
     },
     "execution_count": 5,
     "metadata": {},
     "output_type": "execute_result"
    }
   ],
   "source": [
    "normalizer.normalize(string)"
   ]
  },
  {
   "cell_type": "code",
   "execution_count": 6,
   "metadata": {},
   "outputs": [
    {
     "data": {
      "text/plain": [
       "'saya memang tak saka makanan Husein kampung tempat'"
      ]
     },
     "execution_count": 6,
     "metadata": {},
     "output_type": "execute_result"
    }
   ],
   "source": [
    "normalizer.normalize(another)"
   ]
  },
  {
   "cell_type": "markdown",
   "metadata": {},
   "source": [
    "## Load spell normalizer"
   ]
  },
  {
   "cell_type": "code",
   "execution_count": 7,
   "metadata": {},
   "outputs": [],
   "source": [
    "normalizer = malaya.normalize.spell(malays)"
   ]
  },
  {
   "cell_type": "markdown",
   "metadata": {},
   "source": [
    "#### To list all selected words during normalize"
   ]
  },
  {
   "cell_type": "code",
   "execution_count": 8,
   "metadata": {},
   "outputs": [
    {
     "name": "stdout",
     "output_type": "stream",
     "text": [
      "[(('umut', False), 50), (('amit', False), 50), (('tepi', False), 50), (('tuit', False), 50), (('tempat', False), 80), (('tampa', False), 67), (('umpat', True), 67), (('taut', False), 50), (('amput', False), 67), (('tipu', False), 50), (('tapa', False), 50), (('temut', False), 67), (('mat', False), 57), (('empu', False), 50), (('tuat', False), 50), (('tempo', False), 67), (('tampi', True), 67), (('tepu', False), 50), (('tempe', False), 67), (('tampu', False), 67), (('ampo', False), 50), (('tut', False), 57), (('impi', False), 50), (('ampit', False), 67), (('tapi', False), 50), (('ampe', False), 50), (('tepat', False), 67), (('tumit', False), 67), (('ampu', False), 50), (('tumpu', False), 67), (('tamat', False), 67), (('tepet', False), 67), (('tempa', False), 67), (('tat', False), 57), (('amat', False), 50), (('emat', False), 50), (('umat', False), 50), (('tumpat', True), 80), (('tip', False), 57), (('empat', True), 67), (('taat', False), 50), (('timpa', False), 67), (('top', False), 57), (('topi', False), 50)] \n",
      "\n"
     ]
    },
    {
     "data": {
      "text/plain": [
       "'kenapa awak tak suka makan Husein kat situ tempat'"
      ]
     },
     "execution_count": 8,
     "metadata": {},
     "output_type": "execute_result"
    }
   ],
   "source": [
    "normalizer.normalize(string,debug=True)"
   ]
  },
  {
   "cell_type": "markdown",
   "metadata": {},
   "source": [
    "## Load deep learning"
   ]
  },
  {
   "cell_type": "markdown",
   "metadata": {},
   "source": [
    "**This model is not perfect, really suggest you to use other models. Husein needs to read more!**"
   ]
  },
  {
   "cell_type": "code",
   "execution_count": 9,
   "metadata": {},
   "outputs": [
    {
     "data": {
      "text/plain": [
       "'eye uau tak suke makan unsein kati situ tumpat'"
      ]
     },
     "execution_count": 9,
     "metadata": {},
     "output_type": "execute_result"
    }
   ],
   "source": [
    "normalizer = malaya.normalize.deep_model()\n",
    "normalizer.normalize(string)"
   ]
  }
 ],
 "metadata": {
  "kernelspec": {
   "display_name": "Python 3",
   "language": "python",
   "name": "python3"
  },
  "language_info": {
   "codemirror_mode": {
    "name": "ipython",
    "version": 3
   },
   "file_extension": ".py",
   "mimetype": "text/x-python",
   "name": "python",
   "nbconvert_exporter": "python",
   "pygments_lexer": "ipython3",
   "version": "3.6.5"
  }
 },
 "nbformat": 4,
 "nbformat_minor": 2
}
