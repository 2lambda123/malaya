{
 "cells": [
  {
   "cell_type": "code",
   "execution_count": 1,
   "metadata": {},
   "outputs": [
    {
     "data": {
      "text/plain": [
       "True"
      ]
     },
     "execution_count": 1,
     "metadata": {},
     "output_type": "execute_result"
    }
   ],
   "source": [
    "import tensorflow as tf\n",
    "import tensorflow_datasets as tfds\n",
    "from t5.data import preprocessors as prep\n",
    "import functools\n",
    "import t5\n",
    "import gin\n",
    "import sentencepiece as spm\n",
    "from glob import glob\n",
    "import os\n",
    "\n",
    "gin.parse_config_file('pretrained_models_base_operative_config.gin')\n",
    "vocab = 'sp10m.cased.t5.model'\n",
    "sp = spm.SentencePieceProcessor()\n",
    "sp.Load(vocab)"
   ]
  },
  {
   "cell_type": "code",
   "execution_count": 3,
   "metadata": {},
   "outputs": [],
   "source": [
    "import json\n",
    "\n",
    "with open('../../news/populate-news.json') as fopen:\n",
    "    data = json.load(fopen)"
   ]
  },
  {
   "cell_type": "code",
   "execution_count": 5,
   "metadata": {},
   "outputs": [
    {
     "data": {
      "text/plain": [
       "dict_keys(['text', 'title'])"
      ]
     },
     "execution_count": 5,
     "metadata": {},
     "output_type": "execute_result"
    }
   ],
   "source": [
    "data.keys()"
   ]
  },
  {
   "cell_type": "code",
   "execution_count": 8,
   "metadata": {},
   "outputs": [],
   "source": [
    "from tqdm import tqdm\n",
    "import re\n",
    "\n",
    "def cleaning(string):\n",
    "    string = string.replace('\\n', ' ').replace('\\t', ' ')\n",
    "    string = re.sub(r'[ ]+', ' ', string).strip()\n",
    "    return string"
   ]
  },
  {
   "cell_type": "code",
   "execution_count": 7,
   "metadata": {},
   "outputs": [
    {
     "data": {
      "text/plain": [
       "12"
      ]
     },
     "execution_count": 7,
     "metadata": {},
     "output_type": "execute_result"
    }
   ],
   "source": [
    "len(data['title'][0].split())"
   ]
  },
  {
   "cell_type": "code",
   "execution_count": 9,
   "metadata": {},
   "outputs": [],
   "source": [
    "with tf.io.gfile.GFile('newstitle.tsv', \"w\") as outfile:\n",
    "    for i in range(len(data['title'])):\n",
    "        outfile.write(\"%s\\t%s\\n\" % (cleaning(data['text'][i]), \n",
    "                                    cleaning(data['title'][i])))"
   ]
  },
  {
   "cell_type": "code",
   "execution_count": 10,
   "metadata": {},
   "outputs": [],
   "source": [
    "def news_dataset(split, shuffle_files = False):\n",
    "    del shuffle_files\n",
    "    ds = tf.data.TextLineDataset(\n",
    "        [\n",
    "            'newstitle.tsv'\n",
    "        ]\n",
    "    )\n",
    "\n",
    "    ds = ds.map(\n",
    "        functools.partial(\n",
    "            tf.io.decode_csv,\n",
    "            record_defaults = ['', ''],\n",
    "            field_delim = '\\t',\n",
    "            use_quote_delim = False,\n",
    "        ),\n",
    "        num_parallel_calls = tf.data.experimental.AUTOTUNE,\n",
    "    )\n",
    "    ds = ds.map(lambda *ex: dict(zip(['question', 'answer'], ex)))\n",
    "    return ds\n",
    "\n",
    "def news_preprocessor(ds):\n",
    "    def to_inputs_and_targets(ex):\n",
    "        return {\n",
    "            'inputs': tf.strings.join(['tajuk: ', ex['question']]),\n",
    "            'targets': ex['answer'],\n",
    "        }\n",
    "\n",
    "    return ds.map(\n",
    "        to_inputs_and_targets,\n",
    "        num_parallel_calls = tf.data.experimental.AUTOTUNE,\n",
    "    )"
   ]
  },
  {
   "cell_type": "code",
   "execution_count": 11,
   "metadata": {},
   "outputs": [
    {
     "name": "stderr",
     "output_type": "stream",
     "text": [
      "/home/husein/.local/lib/python3.6/site-packages/t5/models/mesh_transformer.py:210: UserWarning: get_sentencepiece_model_path is deprecated. Please pass the mixture or task vocabulary directly to the Mesh TensorFlow Transformer instead.\n",
      "  \"get_sentencepiece_model_path is deprecated. Please pass the mixture or \"\n"
     ]
    }
   ],
   "source": [
    "t5.data.TaskRegistry.remove('news_dataset')\n",
    "t5.data.TaskRegistry.add(\n",
    "    'news_dataset',\n",
    "    dataset_fn = news_dataset,\n",
    "    splits = ['train'],\n",
    "    text_preprocessor = [news_preprocessor],\n",
    "    sentencepiece_model_path = vocab,\n",
    "    metric_fns = [t5.evaluation.metrics.accuracy],\n",
    ")\n"
   ]
  },
  {
   "cell_type": "code",
   "execution_count": 12,
   "metadata": {},
   "outputs": [],
   "source": [
    "nq_task = t5.data.TaskRegistry.get(\"news_dataset\")\n",
    "ds = nq_task.get_dataset(split='qa.tsv', sequence_length={\"inputs\": 1024, \"targets\": 1024})\n",
    "r = tfds.as_numpy(ds)"
   ]
  },
  {
   "cell_type": "code",
   "execution_count": 13,
   "metadata": {},
   "outputs": [
    {
     "data": {
      "text/plain": [
       "{'inputs_plaintext': b'tajuk: Aplikasi Zoom mengalami lonjakan pengguna karena banyak orang menggunakannya selama masa pandemi COVID-19. Namun di samping itu, isu keamanan membuatnya dilarang di sejumlah negara dan lembaga. Sejumlah isu keamanan yang menghantui pengguna Zoom antara lain penyusupan orang tidak dikenal saat video conference (Zoom Bombing), data pengguna bocor, hingga panggilan yang tidak dienkripsi end to end. Kelemahan keamanan ini memicu sejumlah organisasi, perusahaan, pemerintah, lembaga pemerintah, dan sekolah melarang Zoom atau membatasi penggunaannya. Berikut ini daftarnya. Perusahaan Google melarang karyawannya menggunakan Zoom. Raksasa internet ini bahkan memerintahkan administrator langsung menonaktifkan Zoom yang dipakai di perangkat milik karyawan. Sebagai gantinya, karyawan Google diarahkan untuk menggunakan Google Duo SpaceX, dengan alasan keamanan dan privasi, melarang karyawan menggunakan Zoom Smart Communications, Internet Service Provider yang berbasis di Filipina, melarang Zoom untuk penggunaan internal Pemerintah/Lembaga Pemerintahan Taiwan melarang Zoom digunakan oleh semua lembaga pemerintah NASA meminta semua karyawan tidak menggunakan Zoom Kementerian Luar Negeri Jerman membatasi penggunaan Zoom hanya untuk komputer pribadi dan dalam situasi darurat saja Senat Amerika Serikat mendesak anggotanya memilih platform selain Zoom karena masalah keamanan, tetapi belum mengeluarkan larangan langsung Angkatan Pertahanan Australia melarang keras anggotanya menggunakan Zoom setelah terjadi insiden Zoom Bombing pada salah satu meeting online mereka. Institusi Pendidikan Departemen Pendidikan New York City, Amerika Serikat melarang guru menggunakan Zoom dan beralih ke Microsoft Team Clark County Public School di Nevada, Amerika Serikat telah menonaktifkan Zoom di semua komputer sekolah mereka. Daftar Negara dan Lembaga yang Larang Penggunaan Zoom',\n",
       " 'inputs': array([ 4509,    50,  9701, 18134,   162,   851, 20456,   635,   877,\n",
       "          127,    53, 12369,   331,    97,  7600, 16313,  7018,  1382,\n",
       "         7471,     7,   723,     3,   428,    18,  1101,    24,    14,\n",
       "           93,  2484, 16668,  5447,    18,  1274,    48,    16,  3054,\n",
       "            3,  6649,    93,  2484,    17, 26021,   635, 18134,   162,\n",
       "           89,    74,  6578,    25, 11381,    53,    29,  2190,   633,\n",
       "          878, 17133,    15,     4,  1833,   161,  2462, 16334,  8660,\n",
       "            5,    14,   832,   635, 14994,    14,   154,  3614,    17,\n",
       "           29,    18,   372, 19863,  5412,    62,  5412,     3, 22162,\n",
       "         2484,    20, 13613,  1274,  1759,    14,  1943,    14,  1024,\n",
       "           14,  3054,  1024,    14,    16,   186,  4714, 18134,   162,\n",
       "           46, 20223, 10397,     3,  3161,    20,  5879,    26,     3,\n",
       "         5305,  4520,  4714, 14566,    26,   175, 18134,   162,     3,\n",
       "        31417,  2829,    20,  1993,  8113,  5710, 27547,  5107,   689,\n",
       "          970,   497, 11803,    54, 18134,   162,    17,  4507,    18,\n",
       "        15357,   755, 14566,     3,   833,  4068,    26,    14, 14566,\n",
       "         4520,  2736,    21,   175,  4520,  2486,   161, 13407,  2208,\n",
       "           14,    22,  1877,  2484,    16, 17956,    14,  4714, 14566,\n",
       "          175, 18134,   162, 12668, 13440,    14,  2817,  9613, 30399,\n",
       "          336,    17, 10156,    18,  1544,    14,  4714, 18134,   162,\n",
       "           21,   630, 12500,  3108,   214, 29753,  9097,  3788,  4714,\n",
       "        18134,   162,   130,    32,   125,  3054,  1024, 12118,   928,\n",
       "          125, 14566,    29,   175, 18134,   162,   165,  1427,   156,\n",
       "          426, 20223,   630, 18134,   162,   121,    21,  2057,  7974,\n",
       "           16,    19,  1890,  8709,   900, 10045,   220,  4633,  3715,\n",
       "        12019,  1204,  1963,   486, 18134,   162,   877,   248,  2484,\n",
       "           14,   117,   538,   966,  3367,   689,  1933,  1687,   885,\n",
       "         4714,  1978, 12019,   175, 18134,   162,   651,  1316,  2363,\n",
       "        18134,   162, 16334,  8660,    23,   201,    55, 10649,  4178,\n",
       "           45,     3,  5527,   510, 19963,   510,   743,  2070,  1970,\n",
       "           14,   220,  4633,  4714,   469,   175, 18134,   162,    16,\n",
       "         5204,    30,  8648,  5747, 14828,  9235,  7819,  3399,    18,\n",
       "        29567,    14,   220,  4633,    33,   970,   497, 11803,    54,\n",
       "        18134,   162,    18,   125,  2057,   186,    45,     3,  5507,\n",
       "          185,    16,  1143,    17,   894,  3874,  4106, 18134,   162,\n",
       "            1]),\n",
       " 'targets_plaintext': b'Sederet Negara dan Lembaga yang Larang Zoom',\n",
       " 'targets': array([  464,  1529,   679,   185,    16,  1143,    17,   894,  3874,\n",
       "        18134,   162,     1])}"
      ]
     },
     "execution_count": 13,
     "metadata": {},
     "output_type": "execute_result"
    }
   ],
   "source": [
    "next(r)"
   ]
  },
  {
   "cell_type": "code",
   "execution_count": null,
   "metadata": {},
   "outputs": [],
   "source": []
  }
 ],
 "metadata": {
  "kernelspec": {
   "display_name": "Python 3",
   "language": "python",
   "name": "python3"
  },
  "language_info": {
   "codemirror_mode": {
    "name": "ipython",
    "version": 3
   },
   "file_extension": ".py",
   "mimetype": "text/x-python",
   "name": "python",
   "nbconvert_exporter": "python",
   "pygments_lexer": "ipython3",
   "version": "3.6.8"
  }
 },
 "nbformat": 4,
 "nbformat_minor": 2
}
