{
 "cells": [
  {
   "cell_type": "code",
   "execution_count": 1,
   "metadata": {},
   "outputs": [
    {
     "name": "stdout",
     "output_type": "stream",
     "text": [
      "CPU times: user 11.5 s, sys: 1.84 s, total: 13.3 s\n",
      "Wall time: 18.5 s\n"
     ]
    }
   ],
   "source": [
    "%%time\n",
    "import malaya"
   ]
  },
  {
   "cell_type": "markdown",
   "metadata": {},
   "source": [
    "## List available deep learning Dependency models"
   ]
  },
  {
   "cell_type": "code",
   "execution_count": 2,
   "metadata": {},
   "outputs": [
    {
     "data": {
      "text/plain": [
       "['concat', 'bahdanau', 'luong', 'attention-is-all-you-need']"
      ]
     },
     "execution_count": 2,
     "metadata": {},
     "output_type": "execute_result"
    }
   ],
   "source": [
    "malaya.dependency.available_deep_model()"
   ]
  },
  {
   "cell_type": "markdown",
   "metadata": {},
   "source": [
    "## Describe supported dependencies"
   ]
  },
  {
   "cell_type": "code",
   "execution_count": 3,
   "metadata": {},
   "outputs": [
    {
     "name": "stdout",
     "output_type": "stream",
     "text": [
      "acl - clausal modifier of noun\n",
      "advcl - adverbial clause modifier\n",
      "advmod - adverbial modifier\n",
      "amod - adjectival modifier\n",
      "appos - appositional modifier\n",
      "aux - auxiliary\n",
      "case - case marking\n",
      "ccomp - clausal complement\n",
      "compound - compound\n",
      "compound:plur - plural compound\n",
      "conj - conjunct\n",
      "cop - cop\n",
      "csubj - clausal subject\n",
      "dep - dependent\n",
      "det - determiner\n",
      "fixed - multi-word expression\n",
      "flat - name\n",
      "iobj - indirect object\n",
      "mark - marker\n",
      "nmod - nominal modifier\n",
      "nsubj - nominal subject\n",
      "obj - direct object\n",
      "parataxis - parataxis\n",
      "root - root\n",
      "xcomp - open clausal complement\n",
      "you can read more from https://universaldependencies.org/en/dep/xcomp.html\n"
     ]
    }
   ],
   "source": [
    "malaya.describe_dependency()"
   ]
  },
  {
   "cell_type": "code",
   "execution_count": 4,
   "metadata": {},
   "outputs": [],
   "source": [
    "string = 'Dr Mahathir menasihati mereka supaya berhenti berehat dan tidur sebentar sekiranya mengantuk ketika memandu.'"
   ]
  },
  {
   "cell_type": "markdown",
   "metadata": {},
   "source": [
    "## Load CRF model"
   ]
  },
  {
   "cell_type": "code",
   "execution_count": 5,
   "metadata": {},
   "outputs": [
    {
     "name": "stderr",
     "output_type": "stream",
     "text": [
      "\r",
      "  0%|          | 0.00/19.0 [00:00<?, ?MB/s]"
     ]
    },
    {
     "name": "stdout",
     "output_type": "stream",
     "text": [
      "Found old version of /Users/huseinzol/Malaya/dependency/crf, deleting..\n",
      "Done.\n",
      "downloading frozen /Users/huseinzol/Malaya/dependency/crf model\n"
     ]
    },
    {
     "name": "stderr",
     "output_type": "stream",
     "text": [
      "19.0MB [00:04, 3.91MB/s]                          \n",
      "  0%|          | 0.00/40.8 [00:00<?, ?MB/s]"
     ]
    },
    {
     "name": "stdout",
     "output_type": "stream",
     "text": [
      "downloading frozen /Users/huseinzol/Malaya/dependency/crf depend\n"
     ]
    },
    {
     "name": "stderr",
     "output_type": "stream",
     "text": [
      "41.0MB [00:10, 4.14MB/s]                          \n"
     ]
    },
    {
     "data": {
      "text/plain": [
       "([('Dr', 'det'),\n",
       "  ('Mahathir', 'nsubj'),\n",
       "  ('menasihati', 'conj'),\n",
       "  ('mereka', 'obj'),\n",
       "  ('supaya', 'case'),\n",
       "  ('berhenti', 'xcomp'),\n",
       "  ('berehat', 'advcl'),\n",
       "  ('dan', 'cc'),\n",
       "  ('tidur', 'conj'),\n",
       "  ('sebentar', 'advmod'),\n",
       "  ('sekiranya', 'advmod'),\n",
       "  ('mengantuk', 'UNK'),\n",
       "  ('ketika', 'case'),\n",
       "  ('memandu', 'xcomp')],\n",
       " [('Dr', 5),\n",
       "  ('Mahathir', 10),\n",
       "  ('menasihati', 8),\n",
       "  ('mereka', 8),\n",
       "  ('supaya', 8),\n",
       "  ('berhenti', 10),\n",
       "  ('berehat', 10),\n",
       "  ('dan', 14),\n",
       "  ('tidur', 4),\n",
       "  ('sebentar', 12),\n",
       "  ('sekiranya', 9),\n",
       "  ('mengantuk', 1),\n",
       "  ('ketika', 9),\n",
       "  ('memandu', 7)])"
      ]
     },
     "execution_count": 5,
     "metadata": {},
     "output_type": "execute_result"
    }
   ],
   "source": [
    "crf = malaya.dependency.crf()\n",
    "d_object, tagging, indexing = crf.predict(string)\n",
    "tagging, indexing"
   ]
  },
  {
   "cell_type": "markdown",
   "metadata": {},
   "source": [
    "## Visualize graph for dependency output"
   ]
  },
  {
   "cell_type": "markdown",
   "metadata": {},
   "source": [
    "**Make sure you already installed graphvis.**"
   ]
  },
  {
   "cell_type": "code",
   "execution_count": 6,
   "metadata": {},
   "outputs": [
    {
     "data": {
      "image/svg+xml": [
       "<?xml version=\"1.0\" encoding=\"UTF-8\" standalone=\"no\"?>\n",
       "<!DOCTYPE svg PUBLIC \"-//W3C//DTD SVG 1.1//EN\"\n",
       " \"http://www.w3.org/Graphics/SVG/1.1/DTD/svg11.dtd\">\n",
       "<!-- Generated by graphviz version 2.40.1 (20161225.0304)\n",
       " -->\n",
       "<!-- Title: G Pages: 1 -->\n",
       "<svg width=\"366pt\" height=\"732pt\"\n",
       " viewBox=\"0.00 0.00 365.92 732.00\" xmlns=\"http://www.w3.org/2000/svg\" xmlns:xlink=\"http://www.w3.org/1999/xlink\">\n",
       "<g id=\"graph0\" class=\"graph\" transform=\"scale(1 1) rotate(0) translate(4 728)\">\n",
       "<title>G</title>\n",
       "<polygon fill=\"#ffffff\" stroke=\"transparent\" points=\"-4,4 -4,-728 361.9209,-728 361.9209,4 -4,4\"/>\n",
       "<!-- 0 -->\n",
       "<g id=\"node1\" class=\"node\">\n",
       "<title>0</title>\n",
       "<text text-anchor=\"middle\" x=\"208.5708\" y=\"-701.8\" font-family=\"Times,serif\" font-size=\"14.00\" fill=\"#000000\">0 (None)</text>\n",
       "</g>\n",
       "<!-- 1 -->\n",
       "<g id=\"node2\" class=\"node\">\n",
       "<title>1</title>\n",
       "<text text-anchor=\"middle\" x=\"286.5708\" y=\"-701.8\" font-family=\"Times,serif\" font-size=\"14.00\" fill=\"#000000\">1 (Dr)</text>\n",
       "</g>\n",
       "<!-- 12 -->\n",
       "<g id=\"node3\" class=\"node\">\n",
       "<title>12</title>\n",
       "<text text-anchor=\"middle\" x=\"214.5708\" y=\"-615.8\" font-family=\"Times,serif\" font-size=\"14.00\" fill=\"#000000\">12 (mengantuk)</text>\n",
       "</g>\n",
       "<!-- 1&#45;&gt;12 -->\n",
       "<g id=\"edge1\" class=\"edge\">\n",
       "<title>1&#45;&gt;12</title>\n",
       "<path fill=\"none\" stroke=\"#000000\" d=\"M271.3015,-687.7616C261.1829,-675.6756 247.7498,-659.6304 236.4951,-646.1874\"/>\n",
       "<polygon fill=\"#000000\" stroke=\"#000000\" points=\"238.9212,-643.6329 229.8181,-638.2121 233.5539,-648.1265 238.9212,-643.6329\"/>\n",
       "<text text-anchor=\"middle\" x=\"270.7363\" y=\"-658.8\" font-family=\"Times,serif\" font-size=\"14.00\" fill=\"#000000\">UNK</text>\n",
       "</g>\n",
       "<!-- 10 -->\n",
       "<g id=\"node15\" class=\"node\">\n",
       "<title>10</title>\n",
       "<text text-anchor=\"middle\" x=\"156.5708\" y=\"-529.8\" font-family=\"Times,serif\" font-size=\"14.00\" fill=\"#000000\">10 (sebentar)</text>\n",
       "</g>\n",
       "<!-- 12&#45;&gt;10 -->\n",
       "<g id=\"edge13\" class=\"edge\">\n",
       "<title>12&#45;&gt;10</title>\n",
       "<path fill=\"none\" stroke=\"#000000\" d=\"M202.2705,-601.7616C194.1963,-589.7896 183.5022,-573.9328 174.4891,-560.5685\"/>\n",
       "<polygon fill=\"#000000\" stroke=\"#000000\" points=\"177.3466,-558.5458 168.8534,-552.2121 171.5431,-562.4598 177.3466,-558.5458\"/>\n",
       "<text text-anchor=\"middle\" x=\"212.1226\" y=\"-572.8\" font-family=\"Times,serif\" font-size=\"14.00\" fill=\"#000000\">advmod</text>\n",
       "</g>\n",
       "<!-- 2 -->\n",
       "<g id=\"node4\" class=\"node\">\n",
       "<title>2</title>\n",
       "<text text-anchor=\"middle\" x=\"43.5708\" y=\"-443.8\" font-family=\"Times,serif\" font-size=\"14.00\" fill=\"#000000\">2 (Mahathir)</text>\n",
       "</g>\n",
       "<!-- 3 -->\n",
       "<g id=\"node5\" class=\"node\">\n",
       "<title>3</title>\n",
       "<text text-anchor=\"middle\" x=\"121.5708\" y=\"-185.8\" font-family=\"Times,serif\" font-size=\"14.00\" fill=\"#000000\">3 (menasihati)</text>\n",
       "</g>\n",
       "<!-- 4 -->\n",
       "<g id=\"node6\" class=\"node\">\n",
       "<title>4</title>\n",
       "<text text-anchor=\"middle\" x=\"226.5708\" y=\"-185.8\" font-family=\"Times,serif\" font-size=\"14.00\" fill=\"#000000\">4 (mereka)</text>\n",
       "</g>\n",
       "<!-- 9 -->\n",
       "<g id=\"node7\" class=\"node\">\n",
       "<title>9</title>\n",
       "<text text-anchor=\"middle\" x=\"226.5708\" y=\"-99.8\" font-family=\"Times,serif\" font-size=\"14.00\" fill=\"#000000\">9 (tidur)</text>\n",
       "</g>\n",
       "<!-- 4&#45;&gt;9 -->\n",
       "<g id=\"edge2\" class=\"edge\">\n",
       "<title>4&#45;&gt;9</title>\n",
       "<path fill=\"none\" stroke=\"#000000\" d=\"M226.5708,-171.7616C226.5708,-160.3597 226.5708,-145.4342 226.5708,-132.494\"/>\n",
       "<polygon fill=\"#000000\" stroke=\"#000000\" points=\"230.0709,-132.2121 226.5708,-122.2121 223.0709,-132.2121 230.0709,-132.2121\"/>\n",
       "<text text-anchor=\"middle\" x=\"238.6226\" y=\"-142.8\" font-family=\"Times,serif\" font-size=\"14.00\" fill=\"#000000\">conj</text>\n",
       "</g>\n",
       "<!-- 11 -->\n",
       "<g id=\"node13\" class=\"node\">\n",
       "<title>11</title>\n",
       "<text text-anchor=\"middle\" x=\"174.5708\" y=\"-13.8\" font-family=\"Times,serif\" font-size=\"14.00\" fill=\"#000000\">11 (sekiranya)</text>\n",
       "</g>\n",
       "<!-- 9&#45;&gt;11 -->\n",
       "<g id=\"edge8\" class=\"edge\">\n",
       "<title>9&#45;&gt;11</title>\n",
       "<path fill=\"none\" stroke=\"#000000\" d=\"M215.5429,-85.7616C208.373,-73.9036 198.8986,-58.2345 190.8668,-44.951\"/>\n",
       "<polygon fill=\"#000000\" stroke=\"#000000\" points=\"193.7521,-42.9584 185.5828,-36.2121 187.7619,-46.5804 193.7521,-42.9584\"/>\n",
       "<text text-anchor=\"middle\" x=\"227.1226\" y=\"-56.8\" font-family=\"Times,serif\" font-size=\"14.00\" fill=\"#000000\">advmod</text>\n",
       "</g>\n",
       "<!-- 13 -->\n",
       "<g id=\"node14\" class=\"node\">\n",
       "<title>13</title>\n",
       "<text text-anchor=\"middle\" x=\"278.5708\" y=\"-13.8\" font-family=\"Times,serif\" font-size=\"14.00\" fill=\"#000000\">13 (ketika)</text>\n",
       "</g>\n",
       "<!-- 9&#45;&gt;13 -->\n",
       "<g id=\"edge9\" class=\"edge\">\n",
       "<title>9&#45;&gt;13</title>\n",
       "<path fill=\"none\" stroke=\"#000000\" d=\"M241.243,-85.7645C245.4397,-80.2063 249.8743,-73.9811 253.5708,-68 258.0194,-60.8021 262.3376,-52.7074 266.0982,-45.1617\"/>\n",
       "<polygon fill=\"#000000\" stroke=\"#000000\" points=\"269.3234,-46.5321 270.5314,-36.0063 263.0231,-43.4814 269.3234,-46.5321\"/>\n",
       "<text text-anchor=\"middle\" x=\"273.6157\" y=\"-56.8\" font-family=\"Times,serif\" font-size=\"14.00\" fill=\"#000000\">case</text>\n",
       "</g>\n",
       "<!-- 5 -->\n",
       "<g id=\"node8\" class=\"node\">\n",
       "<title>5</title>\n",
       "<text text-anchor=\"middle\" x=\"320.5708\" y=\"-185.8\" font-family=\"Times,serif\" font-size=\"14.00\" fill=\"#000000\">5 (supaya)</text>\n",
       "</g>\n",
       "<!-- 5&#45;&gt;1 -->\n",
       "<g id=\"edge3\" class=\"edge\">\n",
       "<title>5&#45;&gt;1</title>\n",
       "<path fill=\"none\" stroke=\"#000000\" d=\"M319.9048,-208.117C319.323,-225.5192 318.5708,-252.5527 318.5708,-276 318.5708,-620 318.5708,-620 318.5708,-620 318.5708,-640.6414 310.3733,-662.4189 302.2764,-678.8948\"/>\n",
       "<polygon fill=\"#000000\" stroke=\"#000000\" points=\"299.0848,-677.4463 297.5834,-687.9342 305.2975,-680.6717 299.0848,-677.4463\"/>\n",
       "<text text-anchor=\"middle\" x=\"327.1226\" y=\"-443.8\" font-family=\"Times,serif\" font-size=\"14.00\" fill=\"#000000\">det</text>\n",
       "</g>\n",
       "<!-- 6 -->\n",
       "<g id=\"node9\" class=\"node\">\n",
       "<title>6</title>\n",
       "<text text-anchor=\"middle\" x=\"145.5708\" y=\"-443.8\" font-family=\"Times,serif\" font-size=\"14.00\" fill=\"#000000\">6 (berhenti)</text>\n",
       "</g>\n",
       "<!-- 7 -->\n",
       "<g id=\"node10\" class=\"node\">\n",
       "<title>7</title>\n",
       "<text text-anchor=\"middle\" x=\"242.5708\" y=\"-443.8\" font-family=\"Times,serif\" font-size=\"14.00\" fill=\"#000000\">7 (berehat)</text>\n",
       "</g>\n",
       "<!-- 14 -->\n",
       "<g id=\"node11\" class=\"node\">\n",
       "<title>14</title>\n",
       "<text text-anchor=\"middle\" x=\"240.5708\" y=\"-357.8\" font-family=\"Times,serif\" font-size=\"14.00\" fill=\"#000000\">14 (memandu)</text>\n",
       "</g>\n",
       "<!-- 7&#45;&gt;14 -->\n",
       "<g id=\"edge4\" class=\"edge\">\n",
       "<title>7&#45;&gt;14</title>\n",
       "<path fill=\"none\" stroke=\"#000000\" d=\"M242.1467,-429.7616C241.8815,-418.3597 241.5344,-403.4342 241.2335,-390.494\"/>\n",
       "<polygon fill=\"#000000\" stroke=\"#000000\" points=\"244.726,-390.128 240.9943,-380.2121 237.7279,-390.2908 244.726,-390.128\"/>\n",
       "<text text-anchor=\"middle\" x=\"261.6226\" y=\"-400.8\" font-family=\"Times,serif\" font-size=\"14.00\" fill=\"#000000\">xcomp</text>\n",
       "</g>\n",
       "<!-- 8 -->\n",
       "<g id=\"node12\" class=\"node\">\n",
       "<title>8</title>\n",
       "<text text-anchor=\"middle\" x=\"228.5708\" y=\"-271.8\" font-family=\"Times,serif\" font-size=\"14.00\" fill=\"#000000\">8 (dan)</text>\n",
       "</g>\n",
       "<!-- 14&#45;&gt;8 -->\n",
       "<g id=\"edge14\" class=\"edge\">\n",
       "<title>14&#45;&gt;8</title>\n",
       "<path fill=\"none\" stroke=\"#000000\" d=\"M238.0259,-343.7616C236.4349,-332.3597 234.3523,-317.4342 232.5467,-304.494\"/>\n",
       "<polygon fill=\"#000000\" stroke=\"#000000\" points=\"235.9605,-303.6324 231.112,-294.2121 229.0276,-304.5999 235.9605,-303.6324\"/>\n",
       "<text text-anchor=\"middle\" x=\"241.7847\" y=\"-314.8\" font-family=\"Times,serif\" font-size=\"14.00\" fill=\"#000000\">cc</text>\n",
       "</g>\n",
       "<!-- 8&#45;&gt;3 -->\n",
       "<g id=\"edge5\" class=\"edge\">\n",
       "<title>8&#45;&gt;3</title>\n",
       "<path fill=\"none\" stroke=\"#000000\" d=\"M206.1401,-257.9716C190.4464,-245.358 169.2944,-228.3573 152.0706,-214.5139\"/>\n",
       "<polygon fill=\"#000000\" stroke=\"#000000\" points=\"153.9591,-211.5414 143.972,-208.0047 149.5738,-216.9975 153.9591,-211.5414\"/>\n",
       "<text text-anchor=\"middle\" x=\"193.6226\" y=\"-228.8\" font-family=\"Times,serif\" font-size=\"14.00\" fill=\"#000000\">conj</text>\n",
       "</g>\n",
       "<!-- 8&#45;&gt;4 -->\n",
       "<g id=\"edge6\" class=\"edge\">\n",
       "<title>8&#45;&gt;4</title>\n",
       "<path fill=\"none\" stroke=\"#000000\" d=\"M228.1467,-257.7616C227.8815,-246.3597 227.5344,-231.4342 227.2335,-218.494\"/>\n",
       "<polygon fill=\"#000000\" stroke=\"#000000\" points=\"230.726,-218.128 226.9943,-208.2121 223.7279,-218.2908 230.726,-218.128\"/>\n",
       "<text text-anchor=\"middle\" x=\"237.5156\" y=\"-228.8\" font-family=\"Times,serif\" font-size=\"14.00\" fill=\"#000000\">obj</text>\n",
       "</g>\n",
       "<!-- 8&#45;&gt;5 -->\n",
       "<g id=\"edge7\" class=\"edge\">\n",
       "<title>8&#45;&gt;5</title>\n",
       "<path fill=\"none\" stroke=\"#000000\" d=\"M247.1614,-257.789C256.9893,-248.2394 269.3027,-236.3965 280.481,-226 284.3211,-222.4284 288.4019,-218.6947 292.4339,-215.041\"/>\n",
       "<polygon fill=\"#000000\" stroke=\"#000000\" points=\"294.965,-217.4716 300.0511,-208.1774 290.2792,-212.2713 294.965,-217.4716\"/>\n",
       "<text text-anchor=\"middle\" x=\"292.6157\" y=\"-228.8\" font-family=\"Times,serif\" font-size=\"14.00\" fill=\"#000000\">case</text>\n",
       "</g>\n",
       "<!-- 10&#45;&gt;2 -->\n",
       "<g id=\"edge10\" class=\"edge\">\n",
       "<title>10&#45;&gt;2</title>\n",
       "<path fill=\"none\" stroke=\"#000000\" d=\"M132.8823,-515.9716C116.1579,-503.2433 93.5638,-486.0478 75.2858,-472.1371\"/>\n",
       "<polygon fill=\"#000000\" stroke=\"#000000\" points=\"77.3054,-469.2758 67.2281,-466.0047 73.066,-474.8461 77.3054,-469.2758\"/>\n",
       "<text text-anchor=\"middle\" x=\"122.7397\" y=\"-486.8\" font-family=\"Times,serif\" font-size=\"14.00\" fill=\"#000000\">nsubj</text>\n",
       "</g>\n",
       "<!-- 10&#45;&gt;6 -->\n",
       "<g id=\"edge11\" class=\"edge\">\n",
       "<title>10&#45;&gt;6</title>\n",
       "<path fill=\"none\" stroke=\"#000000\" d=\"M154.238,-515.7616C152.7796,-504.3597 150.8705,-489.4342 149.2154,-476.494\"/>\n",
       "<polygon fill=\"#000000\" stroke=\"#000000\" points=\"152.6408,-475.6872 147.9003,-466.2121 145.6974,-476.5754 152.6408,-475.6872\"/>\n",
       "<text text-anchor=\"middle\" x=\"171.6226\" y=\"-486.8\" font-family=\"Times,serif\" font-size=\"14.00\" fill=\"#000000\">xcomp</text>\n",
       "</g>\n",
       "<!-- 10&#45;&gt;7 -->\n",
       "<g id=\"edge12\" class=\"edge\">\n",
       "<title>10&#45;&gt;7</title>\n",
       "<path fill=\"none\" stroke=\"#000000\" d=\"M176.0723,-515.8611C182.0635,-510.1989 188.6394,-503.8923 194.5708,-498 202.382,-490.2403 210.7414,-481.6401 218.2593,-473.7914\"/>\n",
       "<polygon fill=\"#000000\" stroke=\"#000000\" points=\"221.0792,-475.9058 225.4452,-466.2523 216.0122,-471.0761 221.0792,-475.9058\"/>\n",
       "<text text-anchor=\"middle\" x=\"223.7295\" y=\"-486.8\" font-family=\"Times,serif\" font-size=\"14.00\" fill=\"#000000\">advcl</text>\n",
       "</g>\n",
       "</g>\n",
       "</svg>\n"
      ],
      "text/plain": [
       "<graphviz.files.Source at 0x12d339c88>"
      ]
     },
     "execution_count": 6,
     "metadata": {},
     "output_type": "execute_result"
    }
   ],
   "source": [
    "d_object.to_graphvis()"
   ]
  },
  {
   "cell_type": "markdown",
   "metadata": {},
   "source": [
    "## Print important features from CRF model"
   ]
  },
  {
   "cell_type": "code",
   "execution_count": 7,
   "metadata": {},
   "outputs": [
    {
     "name": "stdout",
     "output_type": "stream",
     "text": [
      "Top-10 tagging positive:\n",
      "12.547764 conj     next_word:perlunya\n",
      "12.367710 punct    word:mengembanfkan\n",
      "11.793032 nummod   word:mengembanfkan\n",
      "10.094637 det      word:berbagai\n",
      "9.573215 case     word:dari\n",
      "9.210329 appos    word:dimekarkannya\n",
      "9.153894 det      word:para\n",
      "9.128825 root     word:fasilitator\n",
      "9.055041 obl      next_word:ditafsirkan\n",
      "9.013166 case     word:dengan\n",
      "\n",
      "Top-10 tagging negative:\n",
      "-4.373424 flat     prefix-2:ak\n",
      "-4.400194 cc       next_word:ketumbar\n",
      "-4.465530 obj      next_word:cara\n",
      "-4.517578 conj     prefix-2:Mr\n",
      "-4.546550 compound word:masih\n",
      "-4.644113 case     prev_word:harus\n",
      "-4.800643 compound word:telah\n",
      "-5.301659 compound word:akan\n",
      "-5.808335 compound word:pernah\n",
      "-6.553638 flat     is_first\n"
     ]
    }
   ],
   "source": [
    "crf.print_features(10)"
   ]
  },
  {
   "cell_type": "markdown",
   "metadata": {},
   "source": [
    "## Print important tagging transitions from CRF Model"
   ]
  },
  {
   "cell_type": "code",
   "execution_count": 8,
   "metadata": {},
   "outputs": [
    {
     "name": "stdout",
     "output_type": "stream",
     "text": [
      "Top-10 likely tagging transitions:\n",
      "case   -> obl     5.195645\n",
      "aux    -> aux     4.643113\n",
      "cc     -> conj    4.223698\n",
      "case   -> nmod    4.180786\n",
      "flat   -> flat    4.040346\n",
      "cop    -> root    3.771183\n",
      "punct  -> compound:plur 3.497424\n",
      "punct  -> fixed   3.416479\n",
      "appos  -> flat    3.031077\n",
      "nmod   -> flat    2.940859\n",
      "\n",
      "Top-10 unlikely tagging transitions:\n",
      "appos  -> advcl   -4.389181\n",
      "root   -> parataxis -4.557102\n",
      "cop    -> nmod    -4.594469\n",
      "cop    -> obl     -4.752784\n",
      "aux    -> acl     -4.981520\n",
      "case   -> fixed   -5.202611\n",
      "nummod -> compound:plur -5.284053\n",
      "compound:plur -> cop     -5.808322\n",
      "root   -> root    -6.301090\n",
      "cop    -> obj     -7.429950\n"
     ]
    }
   ],
   "source": [
    "crf.print_transitions_tag(10)"
   ]
  },
  {
   "cell_type": "markdown",
   "metadata": {},
   "source": [
    "## Print important indexing transitions from CRF Model"
   ]
  },
  {
   "cell_type": "code",
   "execution_count": 9,
   "metadata": {},
   "outputs": [
    {
     "name": "stdout",
     "output_type": "stream",
     "text": [
      "Top-10 likely indexing transitions:\n",
      "117    -> 117     6.829730\n",
      "182    -> 176     6.767373\n",
      "1      -> 0       6.499095\n",
      "108    -> 109     6.303625\n",
      "95     -> 99      6.039325\n",
      "138    -> 138     6.011194\n",
      "97     -> 97      5.971080\n",
      "103    -> 77      5.789712\n",
      "79     -> 79      5.758269\n",
      "137    -> 140     5.705340\n",
      "\n",
      "Top-10 unlikely indexing transitions:\n",
      "0      -> 30      -5.182860\n",
      "2      -> 39      -5.200419\n",
      "33     -> 1       -5.227053\n",
      "30     -> 0       -5.265685\n",
      "36     -> 0       -5.269204\n",
      "34     -> 0       -5.398857\n",
      "1      -> 40      -5.499971\n",
      "49     -> 2       -5.615010\n",
      "1      -> 38      -5.627040\n",
      "1      -> 39      -5.758355\n"
     ]
    }
   ],
   "source": [
    "crf.print_transitions_index(10)"
   ]
  },
  {
   "cell_type": "markdown",
   "metadata": {},
   "source": [
    "## Load deep learning models"
   ]
  },
  {
   "cell_type": "code",
   "execution_count": 10,
   "metadata": {},
   "outputs": [
    {
     "name": "stderr",
     "output_type": "stream",
     "text": [
      "\r",
      "  0%|          | 0.00/37.7 [00:00<?, ?MB/s]"
     ]
    },
    {
     "name": "stdout",
     "output_type": "stream",
     "text": [
      "Testing concat model\n",
      "Found old version of /Users/huseinzol/Malaya/dependency/concat, deleting..\n",
      "Done.\n",
      "downloading frozen /Users/huseinzol/Malaya/dependency/concat model\n"
     ]
    },
    {
     "name": "stderr",
     "output_type": "stream",
     "text": [
      "38.0MB [00:10, 3.43MB/s]                          \n",
      "  0%|          | 0.00/2.45 [00:00<?, ?MB/s]"
     ]
    },
    {
     "name": "stdout",
     "output_type": "stream",
     "text": [
      "downloading frozen /Users/huseinzol/Malaya/dependency/concat setting\n"
     ]
    },
    {
     "name": "stderr",
     "output_type": "stream",
     "text": [
      "3.00MB [00:00, 3.96MB/s]                          \n",
      "  0%|          | 0.00/38.6 [00:00<?, ?MB/s]"
     ]
    },
    {
     "name": "stdout",
     "output_type": "stream",
     "text": [
      "(<malaya._utils._parse_dependency.DependencyGraph object at 0x152457860>, [('Dr', 'nsubj'), ('Mahathir', 'flat'), ('menasihati', 'root'), ('mereka', 'obj'), ('supaya', 'case'), ('berhenti', 'xcomp'), ('berehat', 'xcomp'), ('dan', 'cc'), ('tidur', 'conj'), ('sebentar', 'det'), ('sekiranya', 'mark'), ('mengantuk', 'amod'), ('ketika', 'case'), ('memandu', 'xcomp')], [('Dr', 3), ('Mahathir', 1), ('menasihati', 0), ('mereka', 3), ('supaya', 6), ('berhenti', 3), ('berehat', 6), ('dan', 9), ('tidur', 7), ('sebentar', 9), ('sekiranya', 12), ('mengantuk', 9), ('ketika', 13), ('memandu', 13)])\n",
      "\n",
      "Testing bahdanau model\n",
      "Found old version of /Users/huseinzol/Malaya/dependency/bahdanau, deleting..\n",
      "Done.\n",
      "downloading frozen /Users/huseinzol/Malaya/dependency/bahdanau model\n"
     ]
    },
    {
     "name": "stderr",
     "output_type": "stream",
     "text": [
      "39.0MB [00:11, 4.38MB/s]                          \n",
      "  0%|          | 0.00/2.45 [00:00<?, ?MB/s]"
     ]
    },
    {
     "name": "stdout",
     "output_type": "stream",
     "text": [
      "downloading frozen /Users/huseinzol/Malaya/dependency/bahdanau setting\n"
     ]
    },
    {
     "name": "stderr",
     "output_type": "stream",
     "text": [
      "3.00MB [00:00, 4.00MB/s]                          \n",
      "  0%|          | 0.00/38.6 [00:00<?, ?MB/s]"
     ]
    },
    {
     "name": "stdout",
     "output_type": "stream",
     "text": [
      "(<malaya._utils._parse_dependency.DependencyGraph object at 0x1515ceac8>, [('Dr', 'flat'), ('Mahathir', 'flat'), ('menasihati', 'root'), ('mereka', 'det'), ('supaya', 'case'), ('berhenti', 'xcomp'), ('berehat', 'ccomp'), ('dan', 'cc'), ('tidur', 'conj'), ('sebentar', 'case'), ('sekiranya', 'mark'), ('mengantuk', 'advmod'), ('ketika', 'mark'), ('memandu', 'ccomp')], [('Dr', 2), ('Mahathir', 2), ('menasihati', 0), ('mereka', 3), ('supaya', 6), ('berhenti', 3), ('berehat', 6), ('dan', 9), ('tidur', 3), ('sebentar', 9), ('sekiranya', 12), ('mengantuk', 10), ('ketika', 13), ('memandu', 12)])\n",
      "\n",
      "Testing luong model\n",
      "Found old version of /Users/huseinzol/Malaya/dependency/luong, deleting..\n",
      "Done.\n",
      "downloading frozen /Users/huseinzol/Malaya/dependency/luong model\n"
     ]
    },
    {
     "name": "stderr",
     "output_type": "stream",
     "text": [
      "39.0MB [00:10, 4.43MB/s]                          \n",
      "  0%|          | 0.00/2.45 [00:00<?, ?MB/s]"
     ]
    },
    {
     "name": "stdout",
     "output_type": "stream",
     "text": [
      "downloading frozen /Users/huseinzol/Malaya/dependency/luong setting\n"
     ]
    },
    {
     "name": "stderr",
     "output_type": "stream",
     "text": [
      "3.00MB [00:00, 3.18MB/s]                          \n",
      "  0%|          | 0.00/52.9 [00:00<?, ?MB/s]"
     ]
    },
    {
     "name": "stdout",
     "output_type": "stream",
     "text": [
      "(<malaya._utils._parse_dependency.DependencyGraph object at 0x152eb4d30>, [('Dr', 'flat'), ('Mahathir', 'flat'), ('menasihati', 'root'), ('mereka', 'det'), ('supaya', 'mark'), ('berhenti', 'advcl'), ('berehat', 'fixed'), ('dan', 'cc'), ('tidur', 'conj'), ('sebentar', 'ccomp'), ('sekiranya', 'mark'), ('mengantuk', 'advcl'), ('ketika', 'mark'), ('memandu', 'advcl')], [('Dr', 3), ('Mahathir', 1), ('menasihati', 0), ('mereka', 2), ('supaya', 6), ('berhenti', 4), ('berehat', 6), ('dan', 9), ('tidur', 9), ('sebentar', 9), ('sekiranya', 12), ('mengantuk', 9), ('ketika', 12), ('memandu', 12)])\n",
      "\n",
      "Testing attention-is-all-you-need model\n",
      "downloading frozen /Users/huseinzol/Malaya/dependency/attention model\n"
     ]
    },
    {
     "name": "stderr",
     "output_type": "stream",
     "text": [
      "53.0MB [00:14, 4.04MB/s]                          \n",
      "  0%|          | 0.00/2.45 [00:00<?, ?MB/s]"
     ]
    },
    {
     "name": "stdout",
     "output_type": "stream",
     "text": [
      "downloading frozen /Users/huseinzol/Malaya/dependency/attention setting\n"
     ]
    },
    {
     "name": "stderr",
     "output_type": "stream",
     "text": [
      "3.00MB [00:00, 4.07MB/s]                          \n"
     ]
    },
    {
     "name": "stdout",
     "output_type": "stream",
     "text": [
      "(<malaya._utils._parse_dependency.DependencyGraph object at 0x159ce8780>, [('Dr', 'mark'), ('Mahathir', 'nsubj'), ('menasihati', 'advmod'), ('mereka', 'nsubj'), ('supaya', 'det'), ('berhenti', 'nsubj'), ('berehat', 'UNK'), ('dan', 'mark'), ('tidur', 'nsubj'), ('sebentar', 'advmod'), ('sekiranya', 'nsubj'), ('mengantuk', 'advmod'), ('ketika', 'nsubj'), ('memandu', 'advmod')], [('Dr', 3), ('Mahathir', 3), ('menasihati', 3), ('mereka', 3), ('supaya', 3), ('berhenti', 3), ('berehat', 3), ('dan', 3), ('tidur', 3), ('sebentar', 3), ('sekiranya', 3), ('mengantuk', 3), ('ketika', 3), ('memandu', 3)])\n",
      "\n"
     ]
    }
   ],
   "source": [
    "for i in malaya.dependency.available_deep_model():\n",
    "    print('Testing %s model'%(i))\n",
    "    model = malaya.dependency.deep_model(i)\n",
    "    print(model.predict(string))\n",
    "    print()"
   ]
  },
  {
   "cell_type": "markdown",
   "metadata": {},
   "source": [
    "## Print important features from deep learning model"
   ]
  },
  {
   "cell_type": "code",
   "execution_count": 12,
   "metadata": {},
   "outputs": [
    {
     "name": "stdout",
     "output_type": "stream",
     "text": [
      "Top-10 positive:\n",
      "disekitarnya: 15.197718\n",
      "Atau: 13.290402\n",
      "ektoderma: 13.264775\n",
      "sepedanya: 12.893903\n",
      "Kitchee: 12.608871\n",
      "harafiah: 11.988880\n",
      "Naito: 11.850497\n",
      "Ukraina: 11.662189\n",
      "romantis: 11.286506\n",
      "peluncuran: 11.277926\n",
      "\n",
      "Top-10 negative:\n",
      "basin: -16.109232\n",
      "Bernard: -14.093240\n",
      "antisipasi: -13.886290\n",
      "diminum: -13.461384\n",
      "sebelah: -12.955760\n",
      "Kusni: -12.772882\n",
      "minta: -12.678089\n",
      "10Am: -12.510218\n",
      "uangnya: -12.470654\n",
      "Hati: -12.458626\n"
     ]
    }
   ],
   "source": [
    "attention_is_all_you_need = malaya.dependency.deep_model('attention-is-all-you-need')\n",
    "attention_is_all_you_need.print_features(10)"
   ]
  },
  {
   "cell_type": "code",
   "execution_count": 17,
   "metadata": {},
   "outputs": [
    {
     "data": {
      "image/svg+xml": [
       "<?xml version=\"1.0\" encoding=\"UTF-8\" standalone=\"no\"?>\n",
       "<!DOCTYPE svg PUBLIC \"-//W3C//DTD SVG 1.1//EN\"\n",
       " \"http://www.w3.org/Graphics/SVG/1.1/DTD/svg11.dtd\">\n",
       "<!-- Generated by graphviz version 2.40.1 (20161225.0304)\n",
       " -->\n",
       "<!-- Title: G Pages: 1 -->\n",
       "<svg width=\"711pt\" height=\"302pt\"\n",
       " viewBox=\"0.00 0.00 710.59 302.00\" xmlns=\"http://www.w3.org/2000/svg\" xmlns:xlink=\"http://www.w3.org/1999/xlink\">\n",
       "<g id=\"graph0\" class=\"graph\" transform=\"scale(1 1) rotate(0) translate(4 298)\">\n",
       "<title>G</title>\n",
       "<polygon fill=\"#ffffff\" stroke=\"transparent\" points=\"-4,4 -4,-298 706.5864,-298 706.5864,4 -4,4\"/>\n",
       "<!-- 0 -->\n",
       "<g id=\"node1\" class=\"node\">\n",
       "<title>0</title>\n",
       "<text text-anchor=\"middle\" x=\"231.5708\" y=\"-271.8\" font-family=\"Times,serif\" font-size=\"14.00\" fill=\"#000000\">0 (None)</text>\n",
       "</g>\n",
       "<!-- 3 -->\n",
       "<g id=\"node2\" class=\"node\">\n",
       "<title>3</title>\n",
       "<text text-anchor=\"middle\" x=\"231.5708\" y=\"-185.8\" font-family=\"Times,serif\" font-size=\"14.00\" fill=\"#000000\">3 (menasihati)</text>\n",
       "</g>\n",
       "<!-- 0&#45;&gt;3 -->\n",
       "<g id=\"edge1\" class=\"edge\">\n",
       "<title>0&#45;&gt;3</title>\n",
       "<path fill=\"none\" stroke=\"#000000\" d=\"M231.5708,-257.7616C231.5708,-246.3597 231.5708,-231.4342 231.5708,-218.494\"/>\n",
       "<polygon fill=\"#000000\" stroke=\"#000000\" points=\"235.0709,-218.2121 231.5708,-208.2121 228.0709,-218.2121 235.0709,-218.2121\"/>\n",
       "<text text-anchor=\"middle\" x=\"242.8467\" y=\"-228.8\" font-family=\"Times,serif\" font-size=\"14.00\" fill=\"#000000\">root</text>\n",
       "</g>\n",
       "<!-- 1 -->\n",
       "<g id=\"node3\" class=\"node\">\n",
       "<title>1</title>\n",
       "<text text-anchor=\"middle\" x=\"47.5708\" y=\"-99.8\" font-family=\"Times,serif\" font-size=\"14.00\" fill=\"#000000\">1 (Dr)</text>\n",
       "</g>\n",
       "<!-- 3&#45;&gt;1 -->\n",
       "<g id=\"edge3\" class=\"edge\">\n",
       "<title>3&#45;&gt;1</title>\n",
       "<path fill=\"none\" stroke=\"#000000\" d=\"M184.9101,-171.9458C171.3549,-166.4427 156.6039,-160.2019 143.2329,-154 123.2552,-144.7336 101.4607,-133.4385 83.7271,-123.9298\"/>\n",
       "<polygon fill=\"#000000\" stroke=\"#000000\" points=\"85.3172,-120.8108 74.8549,-119.1405 81.992,-126.9707 85.3172,-120.8108\"/>\n",
       "<text text-anchor=\"middle\" x=\"158.7397\" y=\"-142.8\" font-family=\"Times,serif\" font-size=\"14.00\" fill=\"#000000\">nsubj</text>\n",
       "</g>\n",
       "<!-- 4 -->\n",
       "<g id=\"node5\" class=\"node\">\n",
       "<title>4</title>\n",
       "<text text-anchor=\"middle\" x=\"134.5708\" y=\"-99.8\" font-family=\"Times,serif\" font-size=\"14.00\" fill=\"#000000\">4 (mereka)</text>\n",
       "</g>\n",
       "<!-- 3&#45;&gt;4 -->\n",
       "<g id=\"edge4\" class=\"edge\">\n",
       "<title>3&#45;&gt;4</title>\n",
       "<path fill=\"none\" stroke=\"#000000\" d=\"M210.9996,-171.7616C196.9818,-159.3335 178.2423,-142.719 162.8276,-129.0524\"/>\n",
       "<polygon fill=\"#000000\" stroke=\"#000000\" points=\"164.9169,-126.2273 155.1124,-122.2121 160.273,-131.4651 164.9169,-126.2273\"/>\n",
       "<text text-anchor=\"middle\" x=\"198.1226\" y=\"-142.8\" font-family=\"Times,serif\" font-size=\"14.00\" fill=\"#000000\">det</text>\n",
       "</g>\n",
       "<!-- 6 -->\n",
       "<g id=\"node6\" class=\"node\">\n",
       "<title>6</title>\n",
       "<text text-anchor=\"middle\" x=\"231.5708\" y=\"-99.8\" font-family=\"Times,serif\" font-size=\"14.00\" fill=\"#000000\">6 (berhenti)</text>\n",
       "</g>\n",
       "<!-- 3&#45;&gt;6 -->\n",
       "<g id=\"edge5\" class=\"edge\">\n",
       "<title>3&#45;&gt;6</title>\n",
       "<path fill=\"none\" stroke=\"#000000\" d=\"M231.5708,-171.7616C231.5708,-160.3597 231.5708,-145.4342 231.5708,-132.494\"/>\n",
       "<polygon fill=\"#000000\" stroke=\"#000000\" points=\"235.0709,-132.2121 231.5708,-122.2121 228.0709,-132.2121 235.0709,-132.2121\"/>\n",
       "<text text-anchor=\"middle\" x=\"250.6226\" y=\"-142.8\" font-family=\"Times,serif\" font-size=\"14.00\" fill=\"#000000\">xcomp</text>\n",
       "</g>\n",
       "<!-- 9 -->\n",
       "<g id=\"node7\" class=\"node\">\n",
       "<title>9</title>\n",
       "<text text-anchor=\"middle\" x=\"321.5708\" y=\"-99.8\" font-family=\"Times,serif\" font-size=\"14.00\" fill=\"#000000\">9 (tidur)</text>\n",
       "</g>\n",
       "<!-- 3&#45;&gt;9 -->\n",
       "<g id=\"edge6\" class=\"edge\">\n",
       "<title>3&#45;&gt;9</title>\n",
       "<path fill=\"none\" stroke=\"#000000\" d=\"M253.724,-171.709C260.2334,-166.1491 267.2892,-159.9371 273.5708,-154 281.5726,-146.437 289.9864,-137.8929 297.4954,-130.0351\"/>\n",
       "<polygon fill=\"#000000\" stroke=\"#000000\" points=\"300.3243,-132.1377 304.6541,-122.4679 295.2392,-127.327 300.3243,-132.1377\"/>\n",
       "<text text-anchor=\"middle\" x=\"299.6226\" y=\"-142.8\" font-family=\"Times,serif\" font-size=\"14.00\" fill=\"#000000\">conj</text>\n",
       "</g>\n",
       "<!-- 10 -->\n",
       "<g id=\"node8\" class=\"node\">\n",
       "<title>10</title>\n",
       "<text text-anchor=\"middle\" x=\"488.5708\" y=\"-99.8\" font-family=\"Times,serif\" font-size=\"14.00\" fill=\"#000000\">10 (sebentar)</text>\n",
       "</g>\n",
       "<!-- 3&#45;&gt;10 -->\n",
       "<g id=\"edge7\" class=\"edge\">\n",
       "<title>3&#45;&gt;10</title>\n",
       "<path fill=\"none\" stroke=\"#000000\" d=\"M279.9105,-173.8241C323.6654,-159.1824 388.0656,-137.6321 433.7289,-122.3518\"/>\n",
       "<polygon fill=\"#000000\" stroke=\"#000000\" points=\"435.09,-125.5871 443.4624,-119.0946 432.8686,-118.9489 435.09,-125.5871\"/>\n",
       "<text text-anchor=\"middle\" x=\"398.1226\" y=\"-142.8\" font-family=\"Times,serif\" font-size=\"14.00\" fill=\"#000000\">advmod</text>\n",
       "</g>\n",
       "<!-- 2 -->\n",
       "<g id=\"node4\" class=\"node\">\n",
       "<title>2</title>\n",
       "<text text-anchor=\"middle\" x=\"43.5708\" y=\"-13.8\" font-family=\"Times,serif\" font-size=\"14.00\" fill=\"#000000\">2 (Mahathir)</text>\n",
       "</g>\n",
       "<!-- 1&#45;&gt;2 -->\n",
       "<g id=\"edge2\" class=\"edge\">\n",
       "<title>1&#45;&gt;2</title>\n",
       "<path fill=\"none\" stroke=\"#000000\" d=\"M46.7225,-85.7616C46.1922,-74.3597 45.498,-59.4342 44.8961,-46.494\"/>\n",
       "<polygon fill=\"#000000\" stroke=\"#000000\" points=\"48.3788,-46.0387 44.4179,-36.2121 41.3864,-46.3639 48.3788,-46.0387\"/>\n",
       "<text text-anchor=\"middle\" x=\"55.5156\" y=\"-56.8\" font-family=\"Times,serif\" font-size=\"14.00\" fill=\"#000000\">flat</text>\n",
       "</g>\n",
       "<!-- 5 -->\n",
       "<g id=\"node9\" class=\"node\">\n",
       "<title>5</title>\n",
       "<text text-anchor=\"middle\" x=\"142.5708\" y=\"-13.8\" font-family=\"Times,serif\" font-size=\"14.00\" fill=\"#000000\">5 (supaya)</text>\n",
       "</g>\n",
       "<!-- 6&#45;&gt;5 -->\n",
       "<g id=\"edge8\" class=\"edge\">\n",
       "<title>6&#45;&gt;5</title>\n",
       "<path fill=\"none\" stroke=\"#000000\" d=\"M212.6962,-85.7616C199.9525,-73.4475 182.9556,-57.0235 168.8871,-43.4293\"/>\n",
       "<polygon fill=\"#000000\" stroke=\"#000000\" points=\"171.0416,-40.644 161.4182,-36.2121 166.1774,-45.6779 171.0416,-40.644\"/>\n",
       "<text text-anchor=\"middle\" x=\"204.6157\" y=\"-56.8\" font-family=\"Times,serif\" font-size=\"14.00\" fill=\"#000000\">case</text>\n",
       "</g>\n",
       "<!-- 7 -->\n",
       "<g id=\"node10\" class=\"node\">\n",
       "<title>7</title>\n",
       "<text text-anchor=\"middle\" x=\"236.5708\" y=\"-13.8\" font-family=\"Times,serif\" font-size=\"14.00\" fill=\"#000000\">7 (berehat)</text>\n",
       "</g>\n",
       "<!-- 6&#45;&gt;7 -->\n",
       "<g id=\"edge9\" class=\"edge\">\n",
       "<title>6&#45;&gt;7</title>\n",
       "<path fill=\"none\" stroke=\"#000000\" d=\"M232.6312,-85.7616C233.2941,-74.3597 234.1618,-59.4342 234.9142,-46.494\"/>\n",
       "<polygon fill=\"#000000\" stroke=\"#000000\" points=\"238.4256,-46.3984 235.512,-36.2121 231.4374,-45.9921 238.4256,-46.3984\"/>\n",
       "<text text-anchor=\"middle\" x=\"253.2295\" y=\"-56.8\" font-family=\"Times,serif\" font-size=\"14.00\" fill=\"#000000\">ccomp</text>\n",
       "</g>\n",
       "<!-- 8 -->\n",
       "<g id=\"node11\" class=\"node\">\n",
       "<title>8</title>\n",
       "<text text-anchor=\"middle\" x=\"321.5708\" y=\"-13.8\" font-family=\"Times,serif\" font-size=\"14.00\" fill=\"#000000\">8 (dan)</text>\n",
       "</g>\n",
       "<!-- 9&#45;&gt;8 -->\n",
       "<g id=\"edge10\" class=\"edge\">\n",
       "<title>9&#45;&gt;8</title>\n",
       "<path fill=\"none\" stroke=\"#000000\" d=\"M321.5708,-85.7616C321.5708,-74.3597 321.5708,-59.4342 321.5708,-46.494\"/>\n",
       "<polygon fill=\"#000000\" stroke=\"#000000\" points=\"325.0709,-46.2121 321.5708,-36.2121 318.0709,-46.2121 325.0709,-46.2121\"/>\n",
       "<text text-anchor=\"middle\" x=\"327.7847\" y=\"-56.8\" font-family=\"Times,serif\" font-size=\"14.00\" fill=\"#000000\">cc</text>\n",
       "</g>\n",
       "<!-- 11 -->\n",
       "<g id=\"node12\" class=\"node\">\n",
       "<title>11</title>\n",
       "<text text-anchor=\"middle\" x=\"415.5708\" y=\"-13.8\" font-family=\"Times,serif\" font-size=\"14.00\" fill=\"#000000\">11 (sekiranya)</text>\n",
       "</g>\n",
       "<!-- 10&#45;&gt;11 -->\n",
       "<g id=\"edge11\" class=\"edge\">\n",
       "<title>10&#45;&gt;11</title>\n",
       "<path fill=\"none\" stroke=\"#000000\" d=\"M473.0894,-85.7616C462.8303,-73.6756 449.2106,-57.6304 437.7996,-44.1874\"/>\n",
       "<polygon fill=\"#000000\" stroke=\"#000000\" points=\"440.1696,-41.5709 431.0299,-36.2121 434.833,-46.1009 440.1696,-41.5709\"/>\n",
       "<text text-anchor=\"middle\" x=\"470.9536\" y=\"-56.8\" font-family=\"Times,serif\" font-size=\"14.00\" fill=\"#000000\">mark</text>\n",
       "</g>\n",
       "<!-- 12 -->\n",
       "<g id=\"node13\" class=\"node\">\n",
       "<title>12</title>\n",
       "<text text-anchor=\"middle\" x=\"533.5708\" y=\"-13.8\" font-family=\"Times,serif\" font-size=\"14.00\" fill=\"#000000\">12 (mengantuk)</text>\n",
       "</g>\n",
       "<!-- 10&#45;&gt;12 -->\n",
       "<g id=\"edge12\" class=\"edge\">\n",
       "<title>10&#45;&gt;12</title>\n",
       "<path fill=\"none\" stroke=\"#000000\" d=\"M498.1141,-85.7616C504.2593,-74.0176 512.3604,-58.5355 519.2677,-45.3349\"/>\n",
       "<polygon fill=\"#000000\" stroke=\"#000000\" points=\"522.5061,-46.6951 524.0412,-36.2121 516.3038,-43.4497 522.5061,-46.6951\"/>\n",
       "<text text-anchor=\"middle\" x=\"530.1226\" y=\"-56.8\" font-family=\"Times,serif\" font-size=\"14.00\" fill=\"#000000\">amod</text>\n",
       "</g>\n",
       "<!-- 14 -->\n",
       "<g id=\"node14\" class=\"node\">\n",
       "<title>14</title>\n",
       "<text text-anchor=\"middle\" x=\"653.5708\" y=\"-13.8\" font-family=\"Times,serif\" font-size=\"14.00\" fill=\"#000000\">14 (memandu)</text>\n",
       "</g>\n",
       "<!-- 10&#45;&gt;14 -->\n",
       "<g id=\"edge13\" class=\"edge\">\n",
       "<title>10&#45;&gt;14</title>\n",
       "<path fill=\"none\" stroke=\"#000000\" d=\"M523.1602,-85.9716C548.4607,-72.7846 582.961,-54.8027 610.1213,-40.6464\"/>\n",
       "<polygon fill=\"#000000\" stroke=\"#000000\" points=\"611.7769,-43.7304 619.0269,-36.0047 608.5414,-37.523 611.7769,-43.7304\"/>\n",
       "<text text-anchor=\"middle\" x=\"596.7295\" y=\"-56.8\" font-family=\"Times,serif\" font-size=\"14.00\" fill=\"#000000\">advcl</text>\n",
       "</g>\n",
       "<!-- 13 -->\n",
       "<g id=\"node15\" class=\"node\">\n",
       "<title>13</title>\n",
       "<text text-anchor=\"middle\" x=\"321.5708\" y=\"-271.8\" font-family=\"Times,serif\" font-size=\"14.00\" fill=\"#000000\">13 (ketika)</text>\n",
       "</g>\n",
       "<!-- 13&#45;&gt;13 -->\n",
       "<g id=\"edge14\" class=\"edge\">\n",
       "<title>13&#45;&gt;13</title>\n",
       "<path fill=\"none\" stroke=\"#000000\" d=\"M360.1366,-283.8058C370.3505,-283.3597 378.0864,-280.7578 378.0864,-276 378.0864,-273.0264 375.0646,-270.8949 370.3046,-269.6055\"/>\n",
       "<polygon fill=\"#000000\" stroke=\"#000000\" points=\"370.5229,-266.1024 360.1366,-268.1942 369.5604,-273.0359 370.5229,-266.1024\"/>\n",
       "<text text-anchor=\"middle\" x=\"392.4692\" y=\"-271.8\" font-family=\"Times,serif\" font-size=\"14.00\" fill=\"#000000\">mark</text>\n",
       "</g>\n",
       "</g>\n",
       "</svg>\n"
      ],
      "text/plain": [
       "<graphviz.files.Source at 0x12dd8ca58>"
      ]
     },
     "execution_count": 17,
     "metadata": {},
     "output_type": "execute_result"
    }
   ],
   "source": [
    "bahdanau = malaya.dependency.deep_model('bahdanau')\n",
    "d_object, tagging, indexing = bahdanau.predict(string)\n",
    "d_object.to_graphvis()"
   ]
  },
  {
   "cell_type": "markdown",
   "metadata": {},
   "source": [
    "## Print important tagging transitions from deep learning model"
   ]
  },
  {
   "cell_type": "code",
   "execution_count": 18,
   "metadata": {},
   "outputs": [
    {
     "name": "stdout",
     "output_type": "stream",
     "text": [
      "Top-10 likely transitions:\n",
      "cc -> conj: 3.898244\n",
      "punct -> compound:plur: 2.816386\n",
      "case -> obl: 2.744200\n",
      "case -> xcomp: 2.671549\n",
      "case -> nmod: 2.591420\n",
      "compound:plur -> amod: 1.975937\n",
      "nsubj:pass -> acl: 1.963712\n",
      "cop -> ccomp: 1.963573\n",
      "punct -> fixed: 1.794608\n",
      "xcomp -> obj: 1.712421\n",
      "\n",
      "Top-10 unlikely transitions:\n",
      "root -> root: -8.622316\n",
      "nsubj:pass -> compound:plur: -7.600410\n",
      "obl -> compound:plur: -7.044655\n",
      "obj -> compound:plur: -6.751858\n",
      "case -> iobj: -6.546042\n",
      "case -> parataxis: -6.536805\n",
      "compound:plur -> compound:plur: -6.359083\n",
      "nummod -> compound:plur: -6.165409\n",
      "parataxis -> advcl: -6.097473\n",
      "nmod -> compound:plur: -6.087421\n"
     ]
    }
   ],
   "source": [
    "bahdanau.print_transitions_tag(10)"
   ]
  },
  {
   "cell_type": "markdown",
   "metadata": {},
   "source": [
    "## Print important indexing transitions from deep learning model"
   ]
  },
  {
   "cell_type": "code",
   "execution_count": 19,
   "metadata": {},
   "outputs": [
    {
     "name": "stdout",
     "output_type": "stream",
     "text": [
      "Top-10 likely transitions:\n",
      "133 -> 136: 2.720363\n",
      "108 -> 109: 2.385479\n",
      "126 -> 127: 2.302784\n",
      "153 -> 56: 2.086003\n",
      "88 -> 89: 2.082119\n",
      "56 -> 158: 2.057645\n",
      "100 -> 103: 2.021965\n",
      "136 -> 122: 1.989143\n",
      "112 -> 113: 1.980897\n",
      "128 -> 129: 1.962656\n",
      "\n",
      "Top-10 unlikely transitions:\n",
      "46 -> 45: -7.945712\n",
      "1 -> 1: -7.238533\n",
      "63 -> 62: -6.313935\n",
      "41 -> 53: -6.211363\n",
      "37 -> 47: -6.163178\n",
      "68 -> 67: -6.078556\n",
      "64 -> 63: -6.066933\n",
      "27 -> 41: -6.057477\n",
      "51 -> 59: -6.047529\n",
      "45 -> 55: -6.034111\n"
     ]
    }
   ],
   "source": [
    "bahdanau.print_transitions_index(10)"
   ]
  },
  {
   "cell_type": "markdown",
   "metadata": {},
   "source": [
    "## Voting stack model"
   ]
  },
  {
   "cell_type": "code",
   "execution_count": 20,
   "metadata": {},
   "outputs": [
    {
     "data": {
      "image/svg+xml": [
       "<?xml version=\"1.0\" encoding=\"UTF-8\" standalone=\"no\"?>\n",
       "<!DOCTYPE svg PUBLIC \"-//W3C//DTD SVG 1.1//EN\"\n",
       " \"http://www.w3.org/Graphics/SVG/1.1/DTD/svg11.dtd\">\n",
       "<!-- Generated by graphviz version 2.40.1 (20161225.0304)\n",
       " -->\n",
       "<!-- Title: G Pages: 1 -->\n",
       "<svg width=\"513pt\" height=\"474pt\"\n",
       " viewBox=\"0.00 0.00 512.59 474.00\" xmlns=\"http://www.w3.org/2000/svg\" xmlns:xlink=\"http://www.w3.org/1999/xlink\">\n",
       "<g id=\"graph0\" class=\"graph\" transform=\"scale(1 1) rotate(0) translate(4 470)\">\n",
       "<title>G</title>\n",
       "<polygon fill=\"#ffffff\" stroke=\"transparent\" points=\"-4,4 -4,-470 508.5864,-470 508.5864,4 -4,4\"/>\n",
       "<!-- 0 -->\n",
       "<g id=\"node1\" class=\"node\">\n",
       "<title>0</title>\n",
       "<text text-anchor=\"middle\" x=\"151.5708\" y=\"-443.8\" font-family=\"Times,serif\" font-size=\"14.00\" fill=\"#000000\">0 (None)</text>\n",
       "</g>\n",
       "<!-- 3 -->\n",
       "<g id=\"node2\" class=\"node\">\n",
       "<title>3</title>\n",
       "<text text-anchor=\"middle\" x=\"151.5708\" y=\"-357.8\" font-family=\"Times,serif\" font-size=\"14.00\" fill=\"#000000\">3 (menasihati)</text>\n",
       "</g>\n",
       "<!-- 0&#45;&gt;3 -->\n",
       "<g id=\"edge1\" class=\"edge\">\n",
       "<title>0&#45;&gt;3</title>\n",
       "<path fill=\"none\" stroke=\"#000000\" d=\"M151.5708,-429.7616C151.5708,-418.3597 151.5708,-403.4342 151.5708,-390.494\"/>\n",
       "<polygon fill=\"#000000\" stroke=\"#000000\" points=\"155.0709,-390.2121 151.5708,-380.2121 148.0709,-390.2121 155.0709,-390.2121\"/>\n",
       "<text text-anchor=\"middle\" x=\"162.8467\" y=\"-400.8\" font-family=\"Times,serif\" font-size=\"14.00\" fill=\"#000000\">root</text>\n",
       "</g>\n",
       "<!-- 1 -->\n",
       "<g id=\"node3\" class=\"node\">\n",
       "<title>1</title>\n",
       "<text text-anchor=\"middle\" x=\"45.5708\" y=\"-271.8\" font-family=\"Times,serif\" font-size=\"14.00\" fill=\"#000000\">1 (Dr)</text>\n",
       "</g>\n",
       "<!-- 3&#45;&gt;1 -->\n",
       "<g id=\"edge3\" class=\"edge\">\n",
       "<title>3&#45;&gt;1</title>\n",
       "<path fill=\"none\" stroke=\"#000000\" d=\"M128.4413,-343.7669C121.2988,-338.101 113.4216,-331.8158 106.2329,-326 96.1199,-317.8183 85.1284,-308.798 75.3145,-300.6977\"/>\n",
       "<polygon fill=\"#000000\" stroke=\"#000000\" points=\"77.3302,-297.8229 67.3929,-294.1485 72.8698,-303.2179 77.3302,-297.8229\"/>\n",
       "<text text-anchor=\"middle\" x=\"121.7397\" y=\"-314.8\" font-family=\"Times,serif\" font-size=\"14.00\" fill=\"#000000\">nsubj</text>\n",
       "</g>\n",
       "<!-- 4 -->\n",
       "<g id=\"node5\" class=\"node\">\n",
       "<title>4</title>\n",
       "<text text-anchor=\"middle\" x=\"131.5708\" y=\"-271.8\" font-family=\"Times,serif\" font-size=\"14.00\" fill=\"#000000\">4 (mereka)</text>\n",
       "</g>\n",
       "<!-- 3&#45;&gt;4 -->\n",
       "<g id=\"edge4\" class=\"edge\">\n",
       "<title>3&#45;&gt;4</title>\n",
       "<path fill=\"none\" stroke=\"#000000\" d=\"M147.3293,-343.7616C144.6512,-332.2456 141.1372,-317.1353 138.1072,-304.1064\"/>\n",
       "<polygon fill=\"#000000\" stroke=\"#000000\" points=\"141.4804,-303.1594 135.8062,-294.2121 134.6624,-304.745 141.4804,-303.1594\"/>\n",
       "<text text-anchor=\"middle\" x=\"152.5156\" y=\"-314.8\" font-family=\"Times,serif\" font-size=\"14.00\" fill=\"#000000\">obj</text>\n",
       "</g>\n",
       "<!-- 6 -->\n",
       "<g id=\"node6\" class=\"node\">\n",
       "<title>6</title>\n",
       "<text text-anchor=\"middle\" x=\"228.5708\" y=\"-271.8\" font-family=\"Times,serif\" font-size=\"14.00\" fill=\"#000000\">6 (berhenti)</text>\n",
       "</g>\n",
       "<!-- 3&#45;&gt;6 -->\n",
       "<g id=\"edge5\" class=\"edge\">\n",
       "<title>3&#45;&gt;6</title>\n",
       "<path fill=\"none\" stroke=\"#000000\" d=\"M167.9005,-343.7616C178.8238,-331.5615 193.3591,-315.3273 205.464,-301.8076\"/>\n",
       "<polygon fill=\"#000000\" stroke=\"#000000\" points=\"208.2017,-303.9969 212.2646,-294.2121 202.9865,-299.3276 208.2017,-303.9969\"/>\n",
       "<text text-anchor=\"middle\" x=\"214.6226\" y=\"-314.8\" font-family=\"Times,serif\" font-size=\"14.00\" fill=\"#000000\">xcomp</text>\n",
       "</g>\n",
       "<!-- 12 -->\n",
       "<g id=\"node7\" class=\"node\">\n",
       "<title>12</title>\n",
       "<text text-anchor=\"middle\" x=\"340.5708\" y=\"-271.8\" font-family=\"Times,serif\" font-size=\"14.00\" fill=\"#000000\">12 (mengantuk)</text>\n",
       "</g>\n",
       "<!-- 3&#45;&gt;12 -->\n",
       "<g id=\"edge6\" class=\"edge\">\n",
       "<title>3&#45;&gt;12</title>\n",
       "<path fill=\"none\" stroke=\"#000000\" d=\"M195.9665,-343.9678C209.3999,-338.3635 224.147,-332.0622 237.5708,-326 256.7,-317.3612 277.5726,-307.3422 295.4958,-298.5513\"/>\n",
       "<polygon fill=\"#000000\" stroke=\"#000000\" points=\"297.15,-301.6381 304.5747,-294.0801 294.0573,-295.3584 297.15,-301.6381\"/>\n",
       "<text text-anchor=\"middle\" x=\"282.1226\" y=\"-314.8\" font-family=\"Times,serif\" font-size=\"14.00\" fill=\"#000000\">amod</text>\n",
       "</g>\n",
       "<!-- 2 -->\n",
       "<g id=\"node4\" class=\"node\">\n",
       "<title>2</title>\n",
       "<text text-anchor=\"middle\" x=\"43.5708\" y=\"-185.8\" font-family=\"Times,serif\" font-size=\"14.00\" fill=\"#000000\">2 (Mahathir)</text>\n",
       "</g>\n",
       "<!-- 1&#45;&gt;2 -->\n",
       "<g id=\"edge2\" class=\"edge\">\n",
       "<title>1&#45;&gt;2</title>\n",
       "<path fill=\"none\" stroke=\"#000000\" d=\"M45.1467,-257.7616C44.8815,-246.3597 44.5344,-231.4342 44.2335,-218.494\"/>\n",
       "<polygon fill=\"#000000\" stroke=\"#000000\" points=\"47.726,-218.128 43.9943,-208.2121 40.7279,-218.2908 47.726,-218.128\"/>\n",
       "<text text-anchor=\"middle\" x=\"54.5156\" y=\"-228.8\" font-family=\"Times,serif\" font-size=\"14.00\" fill=\"#000000\">flat</text>\n",
       "</g>\n",
       "<!-- 5 -->\n",
       "<g id=\"node8\" class=\"node\">\n",
       "<title>5</title>\n",
       "<text text-anchor=\"middle\" x=\"142.5708\" y=\"-185.8\" font-family=\"Times,serif\" font-size=\"14.00\" fill=\"#000000\">5 (supaya)</text>\n",
       "</g>\n",
       "<!-- 6&#45;&gt;5 -->\n",
       "<g id=\"edge7\" class=\"edge\">\n",
       "<title>6&#45;&gt;5</title>\n",
       "<path fill=\"none\" stroke=\"#000000\" d=\"M210.3324,-257.7616C198.0183,-245.4475 181.5943,-229.0235 168.0001,-215.4293\"/>\n",
       "<polygon fill=\"#000000\" stroke=\"#000000\" points=\"170.3289,-212.8083 160.7829,-208.2121 165.3791,-217.7581 170.3289,-212.8083\"/>\n",
       "<text text-anchor=\"middle\" x=\"203.6157\" y=\"-228.8\" font-family=\"Times,serif\" font-size=\"14.00\" fill=\"#000000\">case</text>\n",
       "</g>\n",
       "<!-- 7 -->\n",
       "<g id=\"node9\" class=\"node\">\n",
       "<title>7</title>\n",
       "<text text-anchor=\"middle\" x=\"236.5708\" y=\"-185.8\" font-family=\"Times,serif\" font-size=\"14.00\" fill=\"#000000\">7 (berehat)</text>\n",
       "</g>\n",
       "<!-- 6&#45;&gt;7 -->\n",
       "<g id=\"edge8\" class=\"edge\">\n",
       "<title>6&#45;&gt;7</title>\n",
       "<path fill=\"none\" stroke=\"#000000\" d=\"M230.2674,-257.7616C231.328,-246.3597 232.7165,-231.4342 233.9202,-218.494\"/>\n",
       "<polygon fill=\"#000000\" stroke=\"#000000\" points=\"237.4353,-218.4933 234.8767,-208.2121 230.4654,-217.8449 237.4353,-218.4933\"/>\n",
       "<text text-anchor=\"middle\" x=\"242.5156\" y=\"-228.8\" font-family=\"Times,serif\" font-size=\"14.00\" fill=\"#000000\">obj</text>\n",
       "</g>\n",
       "<!-- 11 -->\n",
       "<g id=\"node13\" class=\"node\">\n",
       "<title>11</title>\n",
       "<text text-anchor=\"middle\" x=\"340.5708\" y=\"-185.8\" font-family=\"Times,serif\" font-size=\"14.00\" fill=\"#000000\">11 (sekiranya)</text>\n",
       "</g>\n",
       "<!-- 12&#45;&gt;11 -->\n",
       "<g id=\"edge12\" class=\"edge\">\n",
       "<title>12&#45;&gt;11</title>\n",
       "<path fill=\"none\" stroke=\"#000000\" d=\"M340.5708,-257.7616C340.5708,-246.3597 340.5708,-231.4342 340.5708,-218.494\"/>\n",
       "<polygon fill=\"#000000\" stroke=\"#000000\" points=\"344.0709,-218.2121 340.5708,-208.2121 337.0709,-218.2121 344.0709,-218.2121\"/>\n",
       "<text text-anchor=\"middle\" x=\"354.9536\" y=\"-228.8\" font-family=\"Times,serif\" font-size=\"14.00\" fill=\"#000000\">mark</text>\n",
       "</g>\n",
       "<!-- 14 -->\n",
       "<g id=\"node14\" class=\"node\">\n",
       "<title>14</title>\n",
       "<text text-anchor=\"middle\" x=\"455.5708\" y=\"-185.8\" font-family=\"Times,serif\" font-size=\"14.00\" fill=\"#000000\">14 (memandu)</text>\n",
       "</g>\n",
       "<!-- 12&#45;&gt;14 -->\n",
       "<g id=\"edge13\" class=\"edge\">\n",
       "<title>12&#45;&gt;14</title>\n",
       "<path fill=\"none\" stroke=\"#000000\" d=\"M364.6786,-257.9716C381.6989,-245.2433 404.6929,-228.0478 423.2945,-214.1371\"/>\n",
       "<polygon fill=\"#000000\" stroke=\"#000000\" points=\"425.5825,-216.7965 431.4948,-208.0047 421.3903,-211.1906 425.5825,-216.7965\"/>\n",
       "<text text-anchor=\"middle\" x=\"419.7295\" y=\"-228.8\" font-family=\"Times,serif\" font-size=\"14.00\" fill=\"#000000\">advcl</text>\n",
       "</g>\n",
       "<!-- 9 -->\n",
       "<g id=\"node10\" class=\"node\">\n",
       "<title>9</title>\n",
       "<text text-anchor=\"middle\" x=\"236.5708\" y=\"-99.8\" font-family=\"Times,serif\" font-size=\"14.00\" fill=\"#000000\">9 (tidur)</text>\n",
       "</g>\n",
       "<!-- 7&#45;&gt;9 -->\n",
       "<g id=\"edge9\" class=\"edge\">\n",
       "<title>7&#45;&gt;9</title>\n",
       "<path fill=\"none\" stroke=\"#000000\" d=\"M236.5708,-171.7616C236.5708,-160.3597 236.5708,-145.4342 236.5708,-132.494\"/>\n",
       "<polygon fill=\"#000000\" stroke=\"#000000\" points=\"240.0709,-132.2121 236.5708,-122.2121 233.0709,-132.2121 240.0709,-132.2121\"/>\n",
       "<text text-anchor=\"middle\" x=\"248.6226\" y=\"-142.8\" font-family=\"Times,serif\" font-size=\"14.00\" fill=\"#000000\">conj</text>\n",
       "</g>\n",
       "<!-- 8 -->\n",
       "<g id=\"node11\" class=\"node\">\n",
       "<title>8</title>\n",
       "<text text-anchor=\"middle\" x=\"191.5708\" y=\"-13.8\" font-family=\"Times,serif\" font-size=\"14.00\" fill=\"#000000\">8 (dan)</text>\n",
       "</g>\n",
       "<!-- 9&#45;&gt;8 -->\n",
       "<g id=\"edge10\" class=\"edge\">\n",
       "<title>9&#45;&gt;8</title>\n",
       "<path fill=\"none\" stroke=\"#000000\" d=\"M227.0275,-85.7616C220.8823,-74.0176 212.7812,-58.5355 205.8739,-45.3349\"/>\n",
       "<polygon fill=\"#000000\" stroke=\"#000000\" points=\"208.8378,-43.4497 201.1004,-36.2121 202.6355,-46.6951 208.8378,-43.4497\"/>\n",
       "<text text-anchor=\"middle\" x=\"223.7847\" y=\"-56.8\" font-family=\"Times,serif\" font-size=\"14.00\" fill=\"#000000\">cc</text>\n",
       "</g>\n",
       "<!-- 10 -->\n",
       "<g id=\"node12\" class=\"node\">\n",
       "<title>10</title>\n",
       "<text text-anchor=\"middle\" x=\"282.5708\" y=\"-13.8\" font-family=\"Times,serif\" font-size=\"14.00\" fill=\"#000000\">10 (sebentar)</text>\n",
       "</g>\n",
       "<!-- 9&#45;&gt;10 -->\n",
       "<g id=\"edge11\" class=\"edge\">\n",
       "<title>9&#45;&gt;10</title>\n",
       "<path fill=\"none\" stroke=\"#000000\" d=\"M246.3262,-85.7616C252.6079,-74.0176 260.889,-58.5355 267.9498,-45.3349\"/>\n",
       "<polygon fill=\"#000000\" stroke=\"#000000\" points=\"271.1991,-46.6808 272.8294,-36.2121 265.0266,-43.3792 271.1991,-46.6808\"/>\n",
       "<text text-anchor=\"middle\" x=\"281.2295\" y=\"-56.8\" font-family=\"Times,serif\" font-size=\"14.00\" fill=\"#000000\">ccomp</text>\n",
       "</g>\n",
       "<!-- 13 -->\n",
       "<g id=\"node15\" class=\"node\">\n",
       "<title>13</title>\n",
       "<text text-anchor=\"middle\" x=\"241.5708\" y=\"-443.8\" font-family=\"Times,serif\" font-size=\"14.00\" fill=\"#000000\">13 (ketika)</text>\n",
       "</g>\n",
       "<!-- 13&#45;&gt;13 -->\n",
       "<g id=\"edge14\" class=\"edge\">\n",
       "<title>13&#45;&gt;13</title>\n",
       "<path fill=\"none\" stroke=\"#000000\" d=\"M280.1366,-455.8058C290.3505,-455.3597 298.0864,-452.7578 298.0864,-448 298.0864,-445.0264 295.0646,-442.8949 290.3046,-441.6055\"/>\n",
       "<polygon fill=\"#000000\" stroke=\"#000000\" points=\"290.5229,-438.1024 280.1366,-440.1942 289.5604,-445.0359 290.5229,-438.1024\"/>\n",
       "<text text-anchor=\"middle\" x=\"312.4692\" y=\"-443.8\" font-family=\"Times,serif\" font-size=\"14.00\" fill=\"#000000\">mark</text>\n",
       "</g>\n",
       "</g>\n",
       "</svg>\n"
      ],
      "text/plain": [
       "<graphviz.files.Source at 0x16c58f0f0>"
      ]
     },
     "execution_count": 20,
     "metadata": {},
     "output_type": "execute_result"
    }
   ],
   "source": [
    "concat = malaya.dependency.deep_model('concat')\n",
    "bahdanau = malaya.dependency.deep_model('bahdanau')\n",
    "luong = malaya.dependency.deep_model('luong')\n",
    "tagging, indexing = malaya.stack.voting_stack([concat, bahdanau, luong], string)\n",
    "malaya.dependency.dependency_graph(tagging, indexing).to_graphvis()"
   ]
  },
  {
   "cell_type": "markdown",
   "metadata": {},
   "source": [
    "## Dependency graph object\n",
    "\n",
    "To initiate a dependency graph from dependency models, you need to call `malaya.dependency.dependency_graph`."
   ]
  },
  {
   "cell_type": "code",
   "execution_count": 21,
   "metadata": {},
   "outputs": [
    {
     "data": {
      "text/plain": [
       "<malaya._utils._parse_dependency.DependencyGraph at 0x16cc8beb8>"
      ]
     },
     "execution_count": 21,
     "metadata": {},
     "output_type": "execute_result"
    }
   ],
   "source": [
    "graph = malaya.dependency.dependency_graph(tagging, indexing)\n",
    "graph"
   ]
  },
  {
   "cell_type": "markdown",
   "metadata": {},
   "source": [
    "#### generate graphvis"
   ]
  },
  {
   "cell_type": "code",
   "execution_count": 22,
   "metadata": {},
   "outputs": [
    {
     "data": {
      "image/svg+xml": [
       "<?xml version=\"1.0\" encoding=\"UTF-8\" standalone=\"no\"?>\n",
       "<!DOCTYPE svg PUBLIC \"-//W3C//DTD SVG 1.1//EN\"\n",
       " \"http://www.w3.org/Graphics/SVG/1.1/DTD/svg11.dtd\">\n",
       "<!-- Generated by graphviz version 2.40.1 (20161225.0304)\n",
       " -->\n",
       "<!-- Title: G Pages: 1 -->\n",
       "<svg width=\"513pt\" height=\"474pt\"\n",
       " viewBox=\"0.00 0.00 512.59 474.00\" xmlns=\"http://www.w3.org/2000/svg\" xmlns:xlink=\"http://www.w3.org/1999/xlink\">\n",
       "<g id=\"graph0\" class=\"graph\" transform=\"scale(1 1) rotate(0) translate(4 470)\">\n",
       "<title>G</title>\n",
       "<polygon fill=\"#ffffff\" stroke=\"transparent\" points=\"-4,4 -4,-470 508.5864,-470 508.5864,4 -4,4\"/>\n",
       "<!-- 0 -->\n",
       "<g id=\"node1\" class=\"node\">\n",
       "<title>0</title>\n",
       "<text text-anchor=\"middle\" x=\"151.5708\" y=\"-443.8\" font-family=\"Times,serif\" font-size=\"14.00\" fill=\"#000000\">0 (None)</text>\n",
       "</g>\n",
       "<!-- 3 -->\n",
       "<g id=\"node2\" class=\"node\">\n",
       "<title>3</title>\n",
       "<text text-anchor=\"middle\" x=\"151.5708\" y=\"-357.8\" font-family=\"Times,serif\" font-size=\"14.00\" fill=\"#000000\">3 (menasihati)</text>\n",
       "</g>\n",
       "<!-- 0&#45;&gt;3 -->\n",
       "<g id=\"edge1\" class=\"edge\">\n",
       "<title>0&#45;&gt;3</title>\n",
       "<path fill=\"none\" stroke=\"#000000\" d=\"M151.5708,-429.7616C151.5708,-418.3597 151.5708,-403.4342 151.5708,-390.494\"/>\n",
       "<polygon fill=\"#000000\" stroke=\"#000000\" points=\"155.0709,-390.2121 151.5708,-380.2121 148.0709,-390.2121 155.0709,-390.2121\"/>\n",
       "<text text-anchor=\"middle\" x=\"162.8467\" y=\"-400.8\" font-family=\"Times,serif\" font-size=\"14.00\" fill=\"#000000\">root</text>\n",
       "</g>\n",
       "<!-- 1 -->\n",
       "<g id=\"node3\" class=\"node\">\n",
       "<title>1</title>\n",
       "<text text-anchor=\"middle\" x=\"45.5708\" y=\"-271.8\" font-family=\"Times,serif\" font-size=\"14.00\" fill=\"#000000\">1 (Dr)</text>\n",
       "</g>\n",
       "<!-- 3&#45;&gt;1 -->\n",
       "<g id=\"edge3\" class=\"edge\">\n",
       "<title>3&#45;&gt;1</title>\n",
       "<path fill=\"none\" stroke=\"#000000\" d=\"M128.4413,-343.7669C121.2988,-338.101 113.4216,-331.8158 106.2329,-326 96.1199,-317.8183 85.1284,-308.798 75.3145,-300.6977\"/>\n",
       "<polygon fill=\"#000000\" stroke=\"#000000\" points=\"77.3302,-297.8229 67.3929,-294.1485 72.8698,-303.2179 77.3302,-297.8229\"/>\n",
       "<text text-anchor=\"middle\" x=\"121.7397\" y=\"-314.8\" font-family=\"Times,serif\" font-size=\"14.00\" fill=\"#000000\">nsubj</text>\n",
       "</g>\n",
       "<!-- 4 -->\n",
       "<g id=\"node5\" class=\"node\">\n",
       "<title>4</title>\n",
       "<text text-anchor=\"middle\" x=\"131.5708\" y=\"-271.8\" font-family=\"Times,serif\" font-size=\"14.00\" fill=\"#000000\">4 (mereka)</text>\n",
       "</g>\n",
       "<!-- 3&#45;&gt;4 -->\n",
       "<g id=\"edge4\" class=\"edge\">\n",
       "<title>3&#45;&gt;4</title>\n",
       "<path fill=\"none\" stroke=\"#000000\" d=\"M147.3293,-343.7616C144.6512,-332.2456 141.1372,-317.1353 138.1072,-304.1064\"/>\n",
       "<polygon fill=\"#000000\" stroke=\"#000000\" points=\"141.4804,-303.1594 135.8062,-294.2121 134.6624,-304.745 141.4804,-303.1594\"/>\n",
       "<text text-anchor=\"middle\" x=\"152.5156\" y=\"-314.8\" font-family=\"Times,serif\" font-size=\"14.00\" fill=\"#000000\">obj</text>\n",
       "</g>\n",
       "<!-- 6 -->\n",
       "<g id=\"node6\" class=\"node\">\n",
       "<title>6</title>\n",
       "<text text-anchor=\"middle\" x=\"228.5708\" y=\"-271.8\" font-family=\"Times,serif\" font-size=\"14.00\" fill=\"#000000\">6 (berhenti)</text>\n",
       "</g>\n",
       "<!-- 3&#45;&gt;6 -->\n",
       "<g id=\"edge5\" class=\"edge\">\n",
       "<title>3&#45;&gt;6</title>\n",
       "<path fill=\"none\" stroke=\"#000000\" d=\"M167.9005,-343.7616C178.8238,-331.5615 193.3591,-315.3273 205.464,-301.8076\"/>\n",
       "<polygon fill=\"#000000\" stroke=\"#000000\" points=\"208.2017,-303.9969 212.2646,-294.2121 202.9865,-299.3276 208.2017,-303.9969\"/>\n",
       "<text text-anchor=\"middle\" x=\"214.6226\" y=\"-314.8\" font-family=\"Times,serif\" font-size=\"14.00\" fill=\"#000000\">xcomp</text>\n",
       "</g>\n",
       "<!-- 12 -->\n",
       "<g id=\"node7\" class=\"node\">\n",
       "<title>12</title>\n",
       "<text text-anchor=\"middle\" x=\"340.5708\" y=\"-271.8\" font-family=\"Times,serif\" font-size=\"14.00\" fill=\"#000000\">12 (mengantuk)</text>\n",
       "</g>\n",
       "<!-- 3&#45;&gt;12 -->\n",
       "<g id=\"edge6\" class=\"edge\">\n",
       "<title>3&#45;&gt;12</title>\n",
       "<path fill=\"none\" stroke=\"#000000\" d=\"M195.9665,-343.9678C209.3999,-338.3635 224.147,-332.0622 237.5708,-326 256.7,-317.3612 277.5726,-307.3422 295.4958,-298.5513\"/>\n",
       "<polygon fill=\"#000000\" stroke=\"#000000\" points=\"297.15,-301.6381 304.5747,-294.0801 294.0573,-295.3584 297.15,-301.6381\"/>\n",
       "<text text-anchor=\"middle\" x=\"282.1226\" y=\"-314.8\" font-family=\"Times,serif\" font-size=\"14.00\" fill=\"#000000\">amod</text>\n",
       "</g>\n",
       "<!-- 2 -->\n",
       "<g id=\"node4\" class=\"node\">\n",
       "<title>2</title>\n",
       "<text text-anchor=\"middle\" x=\"43.5708\" y=\"-185.8\" font-family=\"Times,serif\" font-size=\"14.00\" fill=\"#000000\">2 (Mahathir)</text>\n",
       "</g>\n",
       "<!-- 1&#45;&gt;2 -->\n",
       "<g id=\"edge2\" class=\"edge\">\n",
       "<title>1&#45;&gt;2</title>\n",
       "<path fill=\"none\" stroke=\"#000000\" d=\"M45.1467,-257.7616C44.8815,-246.3597 44.5344,-231.4342 44.2335,-218.494\"/>\n",
       "<polygon fill=\"#000000\" stroke=\"#000000\" points=\"47.726,-218.128 43.9943,-208.2121 40.7279,-218.2908 47.726,-218.128\"/>\n",
       "<text text-anchor=\"middle\" x=\"54.5156\" y=\"-228.8\" font-family=\"Times,serif\" font-size=\"14.00\" fill=\"#000000\">flat</text>\n",
       "</g>\n",
       "<!-- 5 -->\n",
       "<g id=\"node8\" class=\"node\">\n",
       "<title>5</title>\n",
       "<text text-anchor=\"middle\" x=\"142.5708\" y=\"-185.8\" font-family=\"Times,serif\" font-size=\"14.00\" fill=\"#000000\">5 (supaya)</text>\n",
       "</g>\n",
       "<!-- 6&#45;&gt;5 -->\n",
       "<g id=\"edge7\" class=\"edge\">\n",
       "<title>6&#45;&gt;5</title>\n",
       "<path fill=\"none\" stroke=\"#000000\" d=\"M210.3324,-257.7616C198.0183,-245.4475 181.5943,-229.0235 168.0001,-215.4293\"/>\n",
       "<polygon fill=\"#000000\" stroke=\"#000000\" points=\"170.3289,-212.8083 160.7829,-208.2121 165.3791,-217.7581 170.3289,-212.8083\"/>\n",
       "<text text-anchor=\"middle\" x=\"203.6157\" y=\"-228.8\" font-family=\"Times,serif\" font-size=\"14.00\" fill=\"#000000\">case</text>\n",
       "</g>\n",
       "<!-- 7 -->\n",
       "<g id=\"node9\" class=\"node\">\n",
       "<title>7</title>\n",
       "<text text-anchor=\"middle\" x=\"236.5708\" y=\"-185.8\" font-family=\"Times,serif\" font-size=\"14.00\" fill=\"#000000\">7 (berehat)</text>\n",
       "</g>\n",
       "<!-- 6&#45;&gt;7 -->\n",
       "<g id=\"edge8\" class=\"edge\">\n",
       "<title>6&#45;&gt;7</title>\n",
       "<path fill=\"none\" stroke=\"#000000\" d=\"M230.2674,-257.7616C231.328,-246.3597 232.7165,-231.4342 233.9202,-218.494\"/>\n",
       "<polygon fill=\"#000000\" stroke=\"#000000\" points=\"237.4353,-218.4933 234.8767,-208.2121 230.4654,-217.8449 237.4353,-218.4933\"/>\n",
       "<text text-anchor=\"middle\" x=\"242.5156\" y=\"-228.8\" font-family=\"Times,serif\" font-size=\"14.00\" fill=\"#000000\">obj</text>\n",
       "</g>\n",
       "<!-- 11 -->\n",
       "<g id=\"node13\" class=\"node\">\n",
       "<title>11</title>\n",
       "<text text-anchor=\"middle\" x=\"340.5708\" y=\"-185.8\" font-family=\"Times,serif\" font-size=\"14.00\" fill=\"#000000\">11 (sekiranya)</text>\n",
       "</g>\n",
       "<!-- 12&#45;&gt;11 -->\n",
       "<g id=\"edge12\" class=\"edge\">\n",
       "<title>12&#45;&gt;11</title>\n",
       "<path fill=\"none\" stroke=\"#000000\" d=\"M340.5708,-257.7616C340.5708,-246.3597 340.5708,-231.4342 340.5708,-218.494\"/>\n",
       "<polygon fill=\"#000000\" stroke=\"#000000\" points=\"344.0709,-218.2121 340.5708,-208.2121 337.0709,-218.2121 344.0709,-218.2121\"/>\n",
       "<text text-anchor=\"middle\" x=\"354.9536\" y=\"-228.8\" font-family=\"Times,serif\" font-size=\"14.00\" fill=\"#000000\">mark</text>\n",
       "</g>\n",
       "<!-- 14 -->\n",
       "<g id=\"node14\" class=\"node\">\n",
       "<title>14</title>\n",
       "<text text-anchor=\"middle\" x=\"455.5708\" y=\"-185.8\" font-family=\"Times,serif\" font-size=\"14.00\" fill=\"#000000\">14 (memandu)</text>\n",
       "</g>\n",
       "<!-- 12&#45;&gt;14 -->\n",
       "<g id=\"edge13\" class=\"edge\">\n",
       "<title>12&#45;&gt;14</title>\n",
       "<path fill=\"none\" stroke=\"#000000\" d=\"M364.6786,-257.9716C381.6989,-245.2433 404.6929,-228.0478 423.2945,-214.1371\"/>\n",
       "<polygon fill=\"#000000\" stroke=\"#000000\" points=\"425.5825,-216.7965 431.4948,-208.0047 421.3903,-211.1906 425.5825,-216.7965\"/>\n",
       "<text text-anchor=\"middle\" x=\"419.7295\" y=\"-228.8\" font-family=\"Times,serif\" font-size=\"14.00\" fill=\"#000000\">advcl</text>\n",
       "</g>\n",
       "<!-- 9 -->\n",
       "<g id=\"node10\" class=\"node\">\n",
       "<title>9</title>\n",
       "<text text-anchor=\"middle\" x=\"236.5708\" y=\"-99.8\" font-family=\"Times,serif\" font-size=\"14.00\" fill=\"#000000\">9 (tidur)</text>\n",
       "</g>\n",
       "<!-- 7&#45;&gt;9 -->\n",
       "<g id=\"edge9\" class=\"edge\">\n",
       "<title>7&#45;&gt;9</title>\n",
       "<path fill=\"none\" stroke=\"#000000\" d=\"M236.5708,-171.7616C236.5708,-160.3597 236.5708,-145.4342 236.5708,-132.494\"/>\n",
       "<polygon fill=\"#000000\" stroke=\"#000000\" points=\"240.0709,-132.2121 236.5708,-122.2121 233.0709,-132.2121 240.0709,-132.2121\"/>\n",
       "<text text-anchor=\"middle\" x=\"248.6226\" y=\"-142.8\" font-family=\"Times,serif\" font-size=\"14.00\" fill=\"#000000\">conj</text>\n",
       "</g>\n",
       "<!-- 8 -->\n",
       "<g id=\"node11\" class=\"node\">\n",
       "<title>8</title>\n",
       "<text text-anchor=\"middle\" x=\"191.5708\" y=\"-13.8\" font-family=\"Times,serif\" font-size=\"14.00\" fill=\"#000000\">8 (dan)</text>\n",
       "</g>\n",
       "<!-- 9&#45;&gt;8 -->\n",
       "<g id=\"edge10\" class=\"edge\">\n",
       "<title>9&#45;&gt;8</title>\n",
       "<path fill=\"none\" stroke=\"#000000\" d=\"M227.0275,-85.7616C220.8823,-74.0176 212.7812,-58.5355 205.8739,-45.3349\"/>\n",
       "<polygon fill=\"#000000\" stroke=\"#000000\" points=\"208.8378,-43.4497 201.1004,-36.2121 202.6355,-46.6951 208.8378,-43.4497\"/>\n",
       "<text text-anchor=\"middle\" x=\"223.7847\" y=\"-56.8\" font-family=\"Times,serif\" font-size=\"14.00\" fill=\"#000000\">cc</text>\n",
       "</g>\n",
       "<!-- 10 -->\n",
       "<g id=\"node12\" class=\"node\">\n",
       "<title>10</title>\n",
       "<text text-anchor=\"middle\" x=\"282.5708\" y=\"-13.8\" font-family=\"Times,serif\" font-size=\"14.00\" fill=\"#000000\">10 (sebentar)</text>\n",
       "</g>\n",
       "<!-- 9&#45;&gt;10 -->\n",
       "<g id=\"edge11\" class=\"edge\">\n",
       "<title>9&#45;&gt;10</title>\n",
       "<path fill=\"none\" stroke=\"#000000\" d=\"M246.3262,-85.7616C252.6079,-74.0176 260.889,-58.5355 267.9498,-45.3349\"/>\n",
       "<polygon fill=\"#000000\" stroke=\"#000000\" points=\"271.1991,-46.6808 272.8294,-36.2121 265.0266,-43.3792 271.1991,-46.6808\"/>\n",
       "<text text-anchor=\"middle\" x=\"281.2295\" y=\"-56.8\" font-family=\"Times,serif\" font-size=\"14.00\" fill=\"#000000\">ccomp</text>\n",
       "</g>\n",
       "<!-- 13 -->\n",
       "<g id=\"node15\" class=\"node\">\n",
       "<title>13</title>\n",
       "<text text-anchor=\"middle\" x=\"241.5708\" y=\"-443.8\" font-family=\"Times,serif\" font-size=\"14.00\" fill=\"#000000\">13 (ketika)</text>\n",
       "</g>\n",
       "<!-- 13&#45;&gt;13 -->\n",
       "<g id=\"edge14\" class=\"edge\">\n",
       "<title>13&#45;&gt;13</title>\n",
       "<path fill=\"none\" stroke=\"#000000\" d=\"M280.1366,-455.8058C290.3505,-455.3597 298.0864,-452.7578 298.0864,-448 298.0864,-445.0264 295.0646,-442.8949 290.3046,-441.6055\"/>\n",
       "<polygon fill=\"#000000\" stroke=\"#000000\" points=\"290.5229,-438.1024 280.1366,-440.1942 289.5604,-445.0359 290.5229,-438.1024\"/>\n",
       "<text text-anchor=\"middle\" x=\"312.4692\" y=\"-443.8\" font-family=\"Times,serif\" font-size=\"14.00\" fill=\"#000000\">mark</text>\n",
       "</g>\n",
       "</g>\n",
       "</svg>\n"
      ],
      "text/plain": [
       "<graphviz.files.Source at 0x10e0c8a90>"
      ]
     },
     "execution_count": 22,
     "metadata": {},
     "output_type": "execute_result"
    }
   ],
   "source": [
    "graph.to_graphvis()"
   ]
  },
  {
   "cell_type": "markdown",
   "metadata": {},
   "source": [
    "#### Get nodes"
   ]
  },
  {
   "cell_type": "code",
   "execution_count": 23,
   "metadata": {},
   "outputs": [
    {
     "data": {
      "text/plain": [
       "defaultdict(<function malaya._utils._parse_dependency.DependencyGraph.__init__.<locals>.<lambda>()>,\n",
       "            {0: {'address': 0,\n",
       "              'word': None,\n",
       "              'lemma': None,\n",
       "              'ctag': 'TOP',\n",
       "              'tag': 'TOP',\n",
       "              'feats': None,\n",
       "              'head': None,\n",
       "              'deps': defaultdict(list, {'root': [3]}),\n",
       "              'rel': None},\n",
       "             1: {'address': 1,\n",
       "              'word': 'Dr',\n",
       "              'lemma': '_',\n",
       "              'ctag': '_',\n",
       "              'tag': '_',\n",
       "              'feats': '_',\n",
       "              'head': 3,\n",
       "              'deps': defaultdict(list, {'flat': [2]}),\n",
       "              'rel': 'nsubj'},\n",
       "             3: {'address': 3,\n",
       "              'word': 'menasihati',\n",
       "              'lemma': '_',\n",
       "              'ctag': '_',\n",
       "              'tag': '_',\n",
       "              'feats': '_',\n",
       "              'head': 0,\n",
       "              'deps': defaultdict(list,\n",
       "                          {'nsubj': [1],\n",
       "                           'obj': [4],\n",
       "                           'xcomp': [6],\n",
       "                           'amod': [12]}),\n",
       "              'rel': 'root'},\n",
       "             2: {'address': 2,\n",
       "              'word': 'Mahathir',\n",
       "              'lemma': '_',\n",
       "              'ctag': '_',\n",
       "              'tag': '_',\n",
       "              'feats': '_',\n",
       "              'head': 1,\n",
       "              'deps': defaultdict(list, {}),\n",
       "              'rel': 'flat'},\n",
       "             4: {'address': 4,\n",
       "              'word': 'mereka',\n",
       "              'lemma': '_',\n",
       "              'ctag': '_',\n",
       "              'tag': '_',\n",
       "              'feats': '_',\n",
       "              'head': 3,\n",
       "              'deps': defaultdict(list, {}),\n",
       "              'rel': 'obj'},\n",
       "             5: {'address': 5,\n",
       "              'word': 'supaya',\n",
       "              'lemma': '_',\n",
       "              'ctag': '_',\n",
       "              'tag': '_',\n",
       "              'feats': '_',\n",
       "              'head': 6,\n",
       "              'deps': defaultdict(list, {}),\n",
       "              'rel': 'case'},\n",
       "             6: {'address': 6,\n",
       "              'word': 'berhenti',\n",
       "              'lemma': '_',\n",
       "              'ctag': '_',\n",
       "              'tag': '_',\n",
       "              'feats': '_',\n",
       "              'head': 3,\n",
       "              'deps': defaultdict(list, {'case': [5], 'obj': [7]}),\n",
       "              'rel': 'xcomp'},\n",
       "             7: {'address': 7,\n",
       "              'word': 'berehat',\n",
       "              'lemma': '_',\n",
       "              'ctag': '_',\n",
       "              'tag': '_',\n",
       "              'feats': '_',\n",
       "              'head': 6,\n",
       "              'deps': defaultdict(list, {'conj': [9]}),\n",
       "              'rel': 'obj'},\n",
       "             8: {'address': 8,\n",
       "              'word': 'dan',\n",
       "              'lemma': '_',\n",
       "              'ctag': '_',\n",
       "              'tag': '_',\n",
       "              'feats': '_',\n",
       "              'head': 9,\n",
       "              'deps': defaultdict(list, {}),\n",
       "              'rel': 'cc'},\n",
       "             9: {'address': 9,\n",
       "              'word': 'tidur',\n",
       "              'lemma': '_',\n",
       "              'ctag': '_',\n",
       "              'tag': '_',\n",
       "              'feats': '_',\n",
       "              'head': 7,\n",
       "              'deps': defaultdict(list, {'cc': [8], 'ccomp': [10]}),\n",
       "              'rel': 'conj'},\n",
       "             10: {'address': 10,\n",
       "              'word': 'sebentar',\n",
       "              'lemma': '_',\n",
       "              'ctag': '_',\n",
       "              'tag': '_',\n",
       "              'feats': '_',\n",
       "              'head': 9,\n",
       "              'deps': defaultdict(list, {}),\n",
       "              'rel': 'ccomp'},\n",
       "             11: {'address': 11,\n",
       "              'word': 'sekiranya',\n",
       "              'lemma': '_',\n",
       "              'ctag': '_',\n",
       "              'tag': '_',\n",
       "              'feats': '_',\n",
       "              'head': 12,\n",
       "              'deps': defaultdict(list, {}),\n",
       "              'rel': 'mark'},\n",
       "             12: {'address': 12,\n",
       "              'word': 'mengantuk',\n",
       "              'lemma': '_',\n",
       "              'ctag': '_',\n",
       "              'tag': '_',\n",
       "              'feats': '_',\n",
       "              'head': 3,\n",
       "              'deps': defaultdict(list, {'mark': [11], 'advcl': [14]}),\n",
       "              'rel': 'amod'},\n",
       "             13: {'address': 13,\n",
       "              'word': 'ketika',\n",
       "              'lemma': '_',\n",
       "              'ctag': '_',\n",
       "              'tag': '_',\n",
       "              'feats': '_',\n",
       "              'head': 13,\n",
       "              'deps': defaultdict(list, {'mark': [13]}),\n",
       "              'rel': 'mark'},\n",
       "             14: {'address': 14,\n",
       "              'word': 'memandu',\n",
       "              'lemma': '_',\n",
       "              'ctag': '_',\n",
       "              'tag': '_',\n",
       "              'feats': '_',\n",
       "              'head': 12,\n",
       "              'deps': defaultdict(list, {}),\n",
       "              'rel': 'advcl'}})"
      ]
     },
     "execution_count": 23,
     "metadata": {},
     "output_type": "execute_result"
    }
   ],
   "source": [
    "graph.nodes"
   ]
  },
  {
   "cell_type": "markdown",
   "metadata": {},
   "source": [
    "#### Flat the graph"
   ]
  },
  {
   "cell_type": "code",
   "execution_count": 24,
   "metadata": {},
   "outputs": [
    {
     "data": {
      "text/plain": [
       "[(('menasihati', '_'), 'nsubj', ('Dr', '_')),\n",
       " (('Dr', '_'), 'flat', ('Mahathir', '_')),\n",
       " (('menasihati', '_'), 'obj', ('mereka', '_')),\n",
       " (('menasihati', '_'), 'xcomp', ('berhenti', '_')),\n",
       " (('berhenti', '_'), 'case', ('supaya', '_')),\n",
       " (('berhenti', '_'), 'obj', ('berehat', '_')),\n",
       " (('berehat', '_'), 'conj', ('tidur', '_')),\n",
       " (('tidur', '_'), 'cc', ('dan', '_')),\n",
       " (('tidur', '_'), 'ccomp', ('sebentar', '_')),\n",
       " (('menasihati', '_'), 'amod', ('mengantuk', '_')),\n",
       " (('mengantuk', '_'), 'mark', ('sekiranya', '_')),\n",
       " (('mengantuk', '_'), 'advcl', ('memandu', '_'))]"
      ]
     },
     "execution_count": 24,
     "metadata": {},
     "output_type": "execute_result"
    }
   ],
   "source": [
    "list(graph.triples())"
   ]
  },
  {
   "cell_type": "markdown",
   "metadata": {},
   "source": [
    "#### Check the graph contains cycles"
   ]
  },
  {
   "cell_type": "code",
   "execution_count": 25,
   "metadata": {},
   "outputs": [
    {
     "data": {
      "text/plain": [
       "False"
      ]
     },
     "execution_count": 25,
     "metadata": {},
     "output_type": "execute_result"
    }
   ],
   "source": [
    "graph.contains_cycle()"
   ]
  },
  {
   "cell_type": "markdown",
   "metadata": {},
   "source": [
    "#### Generate networkx\n",
    "\n",
    "Make sure you already installed networkx, `pip install networkx`"
   ]
  },
  {
   "cell_type": "code",
   "execution_count": 26,
   "metadata": {},
   "outputs": [
    {
     "data": {
      "text/plain": [
       "<networkx.classes.multidigraph.MultiDiGraph at 0x1e8b294a8>"
      ]
     },
     "execution_count": 26,
     "metadata": {},
     "output_type": "execute_result"
    }
   ],
   "source": [
    "digraph = graph.to_networkx()\n",
    "digraph"
   ]
  },
  {
   "cell_type": "code",
   "execution_count": 27,
   "metadata": {},
   "outputs": [
    {
     "data": {
      "text/plain": [
       "<Figure size 640x480 with 1 Axes>"
      ]
     },
     "metadata": {},
     "output_type": "display_data"
    }
   ],
   "source": [
    "import networkx as nx\n",
    "import matplotlib.pyplot as plt\n",
    "nx.draw_networkx(digraph)\n",
    "plt.show()"
   ]
  },
  {
   "cell_type": "code",
   "execution_count": 28,
   "metadata": {},
   "outputs": [
    {
     "data": {
      "text/plain": [
       "OutMultiEdgeDataView([(1, 3), (2, 1), (4, 3), (5, 6), (6, 3), (7, 6), (8, 9), (9, 7), (10, 9), (11, 12), (12, 3), (13, 13), (14, 12)])"
      ]
     },
     "execution_count": 28,
     "metadata": {},
     "output_type": "execute_result"
    }
   ],
   "source": [
    "digraph.edges()"
   ]
  },
  {
   "cell_type": "code",
   "execution_count": 29,
   "metadata": {},
   "outputs": [
    {
     "data": {
      "text/plain": [
       "NodeView((1, 2, 3, 4, 5, 6, 7, 8, 9, 10, 11, 12, 13, 14))"
      ]
     },
     "execution_count": 29,
     "metadata": {},
     "output_type": "execute_result"
    }
   ],
   "source": [
    "digraph.nodes()"
   ]
  },
  {
   "cell_type": "code",
   "execution_count": 30,
   "metadata": {},
   "outputs": [
    {
     "data": {
      "text/plain": [
       "{1: 'Dr',\n",
       " 2: 'Mahathir',\n",
       " 3: 'menasihati',\n",
       " 4: 'mereka',\n",
       " 5: 'supaya',\n",
       " 6: 'berhenti',\n",
       " 7: 'berehat',\n",
       " 8: 'dan',\n",
       " 9: 'tidur',\n",
       " 10: 'sebentar',\n",
       " 11: 'sekiranya',\n",
       " 12: 'mengantuk',\n",
       " 13: 'ketika',\n",
       " 14: 'memandu'}"
      ]
     },
     "execution_count": 30,
     "metadata": {},
     "output_type": "execute_result"
    }
   ],
   "source": [
    "labels = {i:graph.get_by_address(i)['word'] for i in digraph.nodes()}\n",
    "labels"
   ]
  },
  {
   "cell_type": "code",
   "execution_count": 31,
   "metadata": {},
   "outputs": [
    {
     "data": {
      "image/png": "[encoded data removed]",
      "text/plain": [
       "<Figure size 1080x360 with 1 Axes>"
      ]
     },
     "metadata": {
      "needs_background": "light"
     },
     "output_type": "display_data"
    }
   ],
   "source": [
    "plt.figure(figsize=(15,5))\n",
    "nx.draw_networkx(digraph,labels=labels)\n",
    "plt.show()"
   ]
  },
  {
   "cell_type": "code",
   "execution_count": null,
   "metadata": {},
   "outputs": [],
   "source": []
  }
 ],
 "metadata": {
  "kernelspec": {
   "display_name": "Python 3",
   "language": "python",
   "name": "python3"
  },
  "language_info": {
   "codemirror_mode": {
    "name": "ipython",
    "version": 3
   },
   "file_extension": ".py",
   "mimetype": "text/x-python",
   "name": "python",
   "nbconvert_exporter": "python",
   "pygments_lexer": "ipython3",
   "version": "3.6.5"
  }
 },
 "nbformat": 4,
 "nbformat_minor": 2
}
