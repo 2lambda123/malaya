{
 "cells": [
  {
   "cell_type": "code",
   "execution_count": 1,
   "metadata": {},
   "outputs": [],
   "source": [
    "import logging\n",
    "\n",
    "logging.basicConfig(level=logging.DEBUG)"
   ]
  },
  {
   "cell_type": "code",
   "execution_count": 2,
   "metadata": {},
   "outputs": [],
   "source": [
    "import os\n",
    "\n",
    "os.environ['CUDA_VISIBLE_DEVICES'] = ''"
   ]
  },
  {
   "cell_type": "code",
   "execution_count": 3,
   "metadata": {},
   "outputs": [],
   "source": [
    "import sys\n",
    "\n",
    "SOURCE_DIR = os.path.dirname(os.path.dirname(os.path.dirname(os.path.abspath(__name__))))\n",
    "SOURCE_DIR\n",
    "sys.path.insert(0, SOURCE_DIR)"
   ]
  },
  {
   "cell_type": "code",
   "execution_count": 4,
   "metadata": {},
   "outputs": [
    {
     "name": "stderr",
     "output_type": "stream",
     "text": [
      "DEBUG:tensorflow:Falling back to TensorFlow client; we recommended you install the Cloud TPU client directly with pip install cloud-tpu-client.\n",
      "DEBUG:h5py._conv:Creating converter from 7 to 5\n",
      "DEBUG:h5py._conv:Creating converter from 5 to 7\n",
      "DEBUG:h5py._conv:Creating converter from 7 to 5\n",
      "DEBUG:h5py._conv:Creating converter from 5 to 7\n",
      "DEBUG:git.cmd:Popen(['git', 'version'], cwd=/home/husein/dev/malaya/misc/normalize-twitter, universal_newlines=False, shell=None, istream=None)\n",
      "DEBUG:git.cmd:Popen(['git', 'version'], cwd=/home/husein/dev/malaya/misc/normalize-twitter, universal_newlines=False, shell=None, istream=None)\n"
     ]
    },
    {
     "name": "stdout",
     "output_type": "stream",
     "text": [
      "CPU times: user 3.29 s, sys: 3.33 s, total: 6.62 s\n",
      "Wall time: 2.4 s\n"
     ]
    },
    {
     "data": {
      "text/plain": [
       "<module 'malaya' from '/home/husein/dev/malaya/malaya/__init__.py'>"
      ]
     },
     "execution_count": 4,
     "metadata": {},
     "output_type": "execute_result"
    }
   ],
   "source": [
    "%%time\n",
    "\n",
    "import malaya\n",
    "malaya"
   ]
  },
  {
   "cell_type": "code",
   "execution_count": 5,
   "metadata": {},
   "outputs": [
    {
     "name": "stderr",
     "output_type": "stream",
     "text": [
      "DEBUG:urllib3.connectionpool:Starting new HTTPS connection (1): huggingface.co:443\n",
      "DEBUG:urllib3.connectionpool:https://huggingface.co:443 \"HEAD /huseinzol05/language-model-bahasa-wiki-news/resolve/main/model.klm HTTP/1.1\" 302 0\n"
     ]
    }
   ],
   "source": [
    "lm = malaya.language_model.kenlm(model = 'bahasa-wiki-news')"
   ]
  },
  {
   "cell_type": "code",
   "execution_count": 6,
   "metadata": {},
   "outputs": [
    {
     "name": "stderr",
     "output_type": "stream",
     "text": [
      "DEBUG:urllib3.connectionpool:Starting new HTTPS connection (1): huggingface.co:443\n",
      "DEBUG:urllib3.connectionpool:https://huggingface.co:443 \"HEAD /huseinzol05/stem-v2-lstm-bahdanau-noisy/resolve/main/model.pb HTTP/1.1\" 302 0\n",
      "DEBUG:urllib3.connectionpool:Starting new HTTPS connection (1): huggingface.co:443\n",
      "DEBUG:urllib3.connectionpool:https://huggingface.co:443 \"HEAD /huseinzol05/bpe/resolve/main/stemmer-v2.yttm HTTP/1.1\" 200 0\n",
      "DEBUG:malaya_boilerplate.frozen_graph:use_tensorrt: False\n",
      "DEBUG:malaya_boilerplate.frozen_graph:tensorrt_precision_mode: FP32\n",
      "DEBUG:malaya_boilerplate.frozen_graph:precision_mode: FP32\n",
      "DEBUG:malaya_boilerplate.frozen_graph:t5_graph: False\n",
      "DEBUG:malaya_boilerplate.frozen_graph:glowtts_graph: False\n",
      "DEBUG:malaya_boilerplate.frozen_graph:glowtts_multispeaker_graph: False\n",
      "2022-12-03 15:30:04.875205: I tensorflow/core/platform/cpu_feature_guard.cc:142] This TensorFlow binary is optimized with oneAPI Deep Neural Network Library (oneDNN) to use the following CPU instructions in performance-critical operations:  AVX2 FMA\n",
      "To enable them in other operations, rebuild TensorFlow with the appropriate compiler flags.\n",
      "2022-12-03 15:30:04.880690: E tensorflow/stream_executor/cuda/cuda_driver.cc:271] failed call to cuInit: CUDA_ERROR_NO_DEVICE: no CUDA-capable device is detected\n",
      "2022-12-03 15:30:04.880714: I tensorflow/stream_executor/cuda/cuda_diagnostics.cc:169] retrieving CUDA diagnostic information for host: husein-MS-7D31\n",
      "2022-12-03 15:30:04.880718: I tensorflow/stream_executor/cuda/cuda_diagnostics.cc:176] hostname: husein-MS-7D31\n",
      "2022-12-03 15:30:04.880906: I tensorflow/stream_executor/cuda/cuda_diagnostics.cc:200] libcuda reported version is: Not found: was unable to find libcuda.so DSO loaded into this program\n",
      "2022-12-03 15:30:04.880926: I tensorflow/stream_executor/cuda/cuda_diagnostics.cc:204] kernel reported version is: 470.141.3\n"
     ]
    }
   ],
   "source": [
    "stemmer = malaya.stem.deep_model(model = 'noisy')"
   ]
  },
  {
   "cell_type": "code",
   "execution_count": 7,
   "metadata": {},
   "outputs": [
    {
     "name": "stderr",
     "output_type": "stream",
     "text": [
      "INFO:malaya_boilerplate.huggingface:downloading frozen huseinzol05/v27-preprocessing/bm_1grams.json\n",
      "DEBUG:urllib3.connectionpool:Starting new HTTPS connection (1): huggingface.co:443\n",
      "DEBUG:urllib3.connectionpool:https://huggingface.co:443 \"HEAD /huseinzol05/v27-preprocessing/resolve/main/bm_1grams.json HTTP/1.1\" 200 0\n"
     ]
    }
   ],
   "source": [
    "corrector = malaya.spelling_correction.probability.load(language_model = lm, replace_augmentation = True,\n",
    "                                                       stemmer = stemmer, maxlen = 12, minlen = 2)"
   ]
  },
  {
   "cell_type": "code",
   "execution_count": 8,
   "metadata": {},
   "outputs": [],
   "source": [
    "normalizer = malaya.normalize.normalizer(corrector, stemmer, date = False)"
   ]
  },
  {
   "cell_type": "code",
   "execution_count": 9,
   "metadata": {},
   "outputs": [
    {
     "ename": "NameError",
     "evalue": "name 't' is not defined",
     "output_type": "error",
     "traceback": [
      "\u001b[0;31m---------------------------------------------------------------------------\u001b[0m",
      "\u001b[0;31mNameError\u001b[0m                                 Traceback (most recent call last)",
      "\u001b[0;32m/tmp/ipykernel_2115751/2444109385.py\u001b[0m in \u001b[0;36m<module>\u001b[0;34m\u001b[0m\n\u001b[0;32m----> 1\u001b[0;31m \u001b[0mnormalizer\u001b[0m\u001b[0;34m.\u001b[0m\u001b[0m_tokenizer\u001b[0m\u001b[0;34m(\u001b[0m\u001b[0mt\u001b[0m\u001b[0;34m)\u001b[0m\u001b[0;34m\u001b[0m\u001b[0;34m\u001b[0m\u001b[0m\n\u001b[0m",
      "\u001b[0;31mNameError\u001b[0m: name 't' is not defined"
     ]
    }
   ],
   "source": [
    "normalizer._tokenizer(t)"
   ]
  },
  {
   "cell_type": "code",
   "execution_count": null,
   "metadata": {},
   "outputs": [],
   "source": []
  },
  {
   "cell_type": "code",
   "execution_count": 15,
   "metadata": {},
   "outputs": [
    {
     "name": "stderr",
     "output_type": "stream",
     "text": [
      "DEBUG:urllib3.connectionpool:Starting new HTTPS connection (1): huggingface.co:443\n",
      "DEBUG:urllib3.connectionpool:https://huggingface.co:443 \"HEAD /mesolitica/finetune-segmentation-t5-tiny-standard-bahasa-cased/resolve/main/tokenizer_config.json HTTP/1.1\" 200 0\n",
      "DEBUG:urllib3.connectionpool:Starting new HTTPS connection (1): huggingface.co:443\n",
      "DEBUG:urllib3.connectionpool:https://huggingface.co:443 \"HEAD /mesolitica/finetune-segmentation-t5-tiny-standard-bahasa-cased/resolve/main/config.json HTTP/1.1\" 200 0\n"
     ]
    }
   ],
   "source": [
    "segmenter = malaya.segmentation.huggingface()\n",
    "segmenter_func = lambda x: segmenter.generate([x], max_length = 256)[0]"
   ]
  },
  {
   "cell_type": "code",
   "execution_count": 16,
   "metadata": {},
   "outputs": [],
   "source": [
    "text_scorer = lambda x: lm.score(x)"
   ]
  },
  {
   "cell_type": "code",
   "execution_count": 17,
   "metadata": {},
   "outputs": [],
   "source": [
    "t = '14:14hrs Kerja penyelenggaraan KM 83.5- KM 84.5 arah Utara dari Ayer Hitam ke Yong Peng. Lorong kiri ditutup. Trafi https://t.co/iP2jEdY4Ib'"
   ]
  },
  {
   "cell_type": "code",
   "execution_count": 34,
   "metadata": {},
   "outputs": [
    {
     "name": "stderr",
     "output_type": "stream",
     "text": [
      "DEBUG:malaya.normalize:before expand_contractions: 14:14hrs Kerja penyelenggaraan KM 83.5- KM 84.5 arah Utara dari Ayer Hitam ke Yong Peng. Lorong kiri ditutup. Trafi https://t.co/iP2jEdY4Ib\n",
      "DEBUG:malaya.normalize:after expand_contractions: 14:14hrs Kerja penyelenggaraan KM 83.5- KM 84.5 arah Utara dari Ayer Hitam ke Yong Peng. Lorong kiri ditutup. Trafi https://t.co/iP2jEdY4Ib\n",
      "DEBUG:malaya.normalize:tokenized: ['14:14hrs', 'Kerja', 'penyelenggaraan', 'KM', '83.5', '-', 'KM', '84.5', 'arah', 'Utara', 'dari', 'Ayer', 'Hitam', 'ke', 'Yong', 'Peng', '.', 'Lorong', 'kiri', 'ditutup', '.', 'Trafi', 'https://t.co/iP2jEdY4Ib']\n",
      "DEBUG:malaya.normalize:before normalize_text: 14:14hrs Kerja penyelenggaraan KM 83.5 - KM 84.5 arah Utara dari Ayer Hitam ke Yong Peng . Lorong kiri ditutup . Trafi https://t.co/iP2jEdY4Ib\n",
      "DEBUG:malaya.normalize:after normalize_text: 14:14hrs Kerja penyelenggaraan KM 83.5 - KM 84.5 arah Utara dari Ayer Hitam ke Yong Peng . Lorong kiri ditutup . Trafi https://t.co/iP2jEdY4Ib\n",
      "DEBUG:malaya.normalize:before normalize_elongated: 14:14hrs Kerja penyelenggaraan KM 83.5 - KM 84.5 arah Utara dari Ayer Hitam ke Yong Peng . Lorong kiri ditutup . Trafi https://t.co/iP2jEdY4Ib\n",
      "DEBUG:malaya.normalize:after normalize_elongated: 14:14hrs Kerja penyelenggaraan KM 83.5 - KM 84.5 arah Utara dari Ayer Hitam ke Yong Peng . Lorong kiri ditutup . Trafi https://t.co/iP2jEdY4Ib\n",
      "DEBUG:malaya.normalize:index: 0, word: 14:14hrs, queue: []\n",
      "DEBUG:malaya.normalize:index: 0, word: 14:14hrs, score: 3.782883746097449e-05, text_scorer is not None\n",
      "DEBUG:malaya.normalize:index: 0, word: 14:14hrs, condition check english\n",
      "DEBUG:malaya.normalize:index: 0, word: 14:14hrs, condition check malay\n",
      "DEBUG:malaya.normalize:index: 0, word: 14:14hrs, condition len(word) > 2 and norm text\n",
      "DEBUG:malaya.normalize:index: 0, word: 14:14hrs, condition else for (word[0] == `x` and len(word) > 1 and norm text)\n",
      "DEBUG:malaya.normalize:index: 0, word: 14:14hrs, condition time\n",
      "DEBUG:malaya.normalize:index: 0, word: 14:14hrs, parsing time\n",
      "DEBUG:malaya.normalize:index: 1, word: Kerja, queue: ['pukul 01.38:39']\n",
      "DEBUG:malaya.normalize:index: 1, word: Kerja, score: 0.000987554819616287, text_scorer is not None\n",
      "DEBUG:malaya.normalize:index: 1, word: Kerja, condition not in money and date\n",
      "DEBUG:malaya.normalize:index: 1, word: Kerja, condition text_scorer is not None\n",
      "DEBUG:malaya.normalize:index: 1, word: Kerja, lower: pukul 01.38:39 kerja penyelenggaraan KM , normal: pukul 01.38:39 Kerja penyelenggaraan KM , lower_score: -26.44753646850586, title_score: -27.66256332397461, normal_score: -27.66256332397461\n",
      "DEBUG:malaya.normalize:index: 1, word: Kerja, condition lower_score > normal_score or title_score > normal_score\n",
      "DEBUG:malaya.normalize:index: 1, word: kerja, condition check english\n",
      "DEBUG:malaya.normalize:index: 1, word: kerja, condition check malay\n",
      "DEBUG:malaya.normalize:index: 2, word: penyelenggaraan, queue: ['pukul 01.38:39', 'kerja']\n",
      "DEBUG:malaya.normalize:index: 2, word: penyelenggaraan, score: 0.000520504088844511, text_scorer is not None\n",
      "DEBUG:malaya.normalize:index: 2, word: penyelenggaraan, condition check english\n",
      "DEBUG:malaya.normalize:index: 2, word: penyelenggaraan, condition check malay\n",
      "DEBUG:malaya.normalize:index: 3, word: KM, queue: ['pukul 01.38:39', 'kerja', 'penyelenggaraan']\n",
      "DEBUG:malaya.normalize:index: 3, word: KM, score: 0.0003939232301148976, text_scorer is not None\n",
      "DEBUG:malaya.normalize:index: 3, word: KM, condition not in money and date\n",
      "DEBUG:malaya.normalize:index: 3, word: KM, condition text_scorer is not None\n",
      "DEBUG:malaya.normalize:index: 3, word: KM, lower: kerja penyelenggaraan km 83.5 - , normal: kerja penyelenggaraan KM 83.5 - , lower_score: -23.09276008605957, title_score: -23.4052791595459, normal_score: -23.0860652923584\n",
      "DEBUG:malaya.normalize:index: 3, word: KM, condition titled\n",
      "DEBUG:malaya.normalize:index: 4, word: 83.5, queue: ['pukul 01.38:39', 'kerja', 'penyelenggaraan', 'KM']\n",
      "DEBUG:malaya.normalize:index: 4, word: 83.5, score: 7.883522566623609e-05, text_scorer is not None\n",
      "DEBUG:malaya.normalize:index: 4, word: 83.5, condition check english\n",
      "DEBUG:malaya.normalize:index: 4, word: 83.5, condition check malay\n",
      "DEBUG:malaya.normalize:index: 4, word: 83.5, condition len(word) > 2 and norm text\n",
      "DEBUG:malaya.normalize:index: 4, word: 83.5, condition else for (word[0] == `x` and len(word) > 1 and norm text)\n",
      "DEBUG:malaya.normalize:index: 4, word: 83.5, condition is number\n",
      "DEBUG:malaya.normalize:index: 5, word: -, queue: ['pukul 01.38:39', 'kerja', 'penyelenggaraan', 'KM', '83.5']\n",
      "DEBUG:malaya.normalize:index: 5, word: -, score: 0.004704706470857255, text_scorer is not None\n",
      "DEBUG:malaya.normalize:index: 5, word: -, condition else for (word[0] == `x` and len(word) > 1 and norm text)\n",
      "DEBUG:malaya.normalize:index: 5, word: -, condition to segment\n",
      "DEBUG:malaya.torch_model.huggingface:generate, initial_text: segmentasi: \n",
      "DEBUG:malaya.torch_model.huggingface:generate, strings: ['-']\n",
      "DEBUG:malaya.normalize:index: 5, word: -, end_result_string: , repeat: 1\n",
      "DEBUG:malaya.normalize:index: 5, word: -, condition normalize text\n",
      "DEBUG:malaya.normalize:index: 5, word: -, condition to spelling correction\n",
      "DEBUG:malaya.normalize:index: 6, word: KM, queue: ['pukul 01.38:39', 'kerja', 'penyelenggaraan', 'KM', '83.5', '-']\n",
      "DEBUG:malaya.normalize:index: 6, word: KM, score: 0.0003939232301148976, text_scorer is not None\n",
      "DEBUG:malaya.normalize:index: 6, word: KM, condition not in money and date\n",
      "DEBUG:malaya.normalize:index: 6, word: KM, condition text_scorer is not None\n",
      "DEBUG:malaya.normalize:index: 6, word: KM, lower: 83.5 - km 84.5 arah , normal: 83.5 - KM 84.5 arah , lower_score: -29.409120559692383, title_score: -29.629640579223633, normal_score: -28.211259841918945\n",
      "DEBUG:malaya.normalize:index: 6, word: KM, condition titled\n",
      "DEBUG:malaya.normalize:index: 7, word: 84.5, queue: ['pukul 01.38:39', 'kerja', 'penyelenggaraan', 'KM', '83.5', '-', 'KM']\n",
      "DEBUG:malaya.normalize:index: 7, word: 84.5, score: 4.9516992900956195e-05, text_scorer is not None\n",
      "DEBUG:malaya.normalize:index: 7, word: 84.5, condition check english\n",
      "DEBUG:malaya.normalize:index: 7, word: 84.5, condition check malay\n",
      "DEBUG:malaya.normalize:index: 7, word: 84.5, condition len(word) > 2 and norm text\n",
      "DEBUG:malaya.normalize:index: 7, word: 84.5, condition else for (word[0] == `x` and len(word) > 1 and norm text)\n",
      "DEBUG:malaya.normalize:index: 7, word: 84.5, condition is number\n",
      "DEBUG:malaya.normalize:index: 8, word: arah, queue: ['pukul 01.38:39', 'kerja', 'penyelenggaraan', 'KM', '83.5', '-', 'KM', '84.5']\n",
      "DEBUG:malaya.normalize:index: 8, word: arah, score: 0.000683233829219754, text_scorer is not None\n",
      "DEBUG:malaya.normalize:index: 8, word: arah, condition check english\n",
      "DEBUG:malaya.normalize:index: 8, word: arah, condition check malay\n",
      "DEBUG:malaya.normalize:index: 9, word: Utara, queue: ['pukul 01.38:39', 'kerja', 'penyelenggaraan', 'KM', '83.5', '-', 'KM', '84.5', 'arah']\n",
      "DEBUG:malaya.normalize:index: 9, word: Utara, score: 0.0006662121610073497, text_scorer is not None\n",
      "DEBUG:malaya.normalize:index: 9, word: Utara, condition not in money and date\n",
      "DEBUG:malaya.normalize:index: 9, word: Utara, condition text_scorer is not None\n",
      "DEBUG:malaya.normalize:index: 9, word: Utara, lower: 84.5 arah utara dari Ayer , normal: 84.5 arah Utara dari Ayer , lower_score: -22.787158966064453, title_score: -24.34363555908203, normal_score: -24.34363555908203\n",
      "DEBUG:malaya.normalize:index: 9, word: Utara, condition lower_score > normal_score or title_score > normal_score\n",
      "DEBUG:malaya.normalize:index: 9, word: utara, condition check english\n",
      "DEBUG:malaya.normalize:index: 9, word: utara, condition check malay\n",
      "DEBUG:malaya.normalize:index: 10, word: dari, queue: ['pukul 01.38:39', 'kerja', 'penyelenggaraan', 'KM', '83.5', '-', 'KM', '84.5', 'arah', 'utara']\n",
      "DEBUG:malaya.normalize:index: 10, word: dari, score: 0.0023097681232365276, text_scorer is not None\n",
      "DEBUG:malaya.normalize:index: 10, word: dari, condition check english\n",
      "DEBUG:malaya.normalize:index: 11, word: Ayer, queue: ['pukul 01.38:39', 'kerja', 'penyelenggaraan', 'KM', '83.5', '-', 'KM', '84.5', 'arah', 'utara', 'dari']\n",
      "DEBUG:malaya.normalize:index: 11, word: Ayer, score: 8.43612348159894e-05, text_scorer is not None\n"
     ]
    },
    {
     "name": "stderr",
     "output_type": "stream",
     "text": [
      "DEBUG:malaya.normalize:index: 11, word: Ayer, condition not in money and date\n",
      "DEBUG:malaya.normalize:index: 11, word: Ayer, condition text_scorer is not None\n",
      "DEBUG:malaya.normalize:index: 11, word: Ayer, lower: utara dari ayer Hitam ke , normal: utara dari Ayer Hitam ke , lower_score: -23.667076110839844, title_score: -16.45641326904297, normal_score: -16.45641326904297\n",
      "DEBUG:malaya.normalize:index: 11, word: Ayer, condition titled\n",
      "DEBUG:malaya.normalize:index: 12, word: Hitam, queue: ['pukul 01.38:39', 'kerja', 'penyelenggaraan', 'KM', '83.5', '-', 'KM', '84.5', 'arah', 'utara', 'dari', 'Ayer']\n",
      "DEBUG:malaya.normalize:index: 12, word: Hitam, score: 0.000754400895654938, text_scorer is not None\n",
      "DEBUG:malaya.normalize:index: 12, word: Hitam, condition not in money and date\n",
      "DEBUG:malaya.normalize:index: 12, word: Hitam, condition text_scorer is not None\n",
      "DEBUG:malaya.normalize:index: 12, word: Hitam, lower: dari Ayer hitam ke Yong , normal: dari Ayer Hitam ke Yong , lower_score: -22.88214874267578, title_score: -14.121065139770508, normal_score: -14.121065139770508\n",
      "DEBUG:malaya.normalize:index: 12, word: Hitam, condition titled\n",
      "DEBUG:malaya.normalize:index: 13, word: ke, queue: ['pukul 01.38:39', 'kerja', 'penyelenggaraan', 'KM', '83.5', '-', 'KM', '84.5', 'arah', 'utara', 'dari', 'Ayer', 'Hitam']\n",
      "DEBUG:malaya.normalize:index: 13, word: ke, score: 0.0016116877975413534, text_scorer is not None\n",
      "DEBUG:malaya.normalize:index: 13, word: ke, condition check english\n",
      "DEBUG:malaya.normalize:index: 13, word: ke, condition check malay\n",
      "DEBUG:malaya.normalize:index: 13, word: ke, condition else for (word[0] == `x` and len(word) > 1 and norm text)\n",
      "DEBUG:malaya.normalize:index: 13, word: ke, condition to segment\n",
      "DEBUG:malaya.torch_model.huggingface:generate, initial_text: segmentasi: \n",
      "DEBUG:malaya.torch_model.huggingface:generate, strings: ['ke']\n",
      "DEBUG:malaya.normalize:index: 13, word: ke, end_result_string: , repeat: 1\n",
      "DEBUG:malaya.normalize:index: 13, word: ke, condition normalize text\n",
      "DEBUG:malaya.normalize:index: 13, word: ke, condition to spelling correction\n",
      "DEBUG:malaya.normalize:index: 14, word: Yong, queue: ['pukul 01.38:39', 'kerja', 'penyelenggaraan', 'KM', '83.5', '-', 'KM', '84.5', 'arah', 'utara', 'dari', 'Ayer', 'Hitam', 'ke']\n",
      "DEBUG:malaya.normalize:index: 14, word: Yong, score: 0.00018897831437031281, text_scorer is not None\n",
      "DEBUG:malaya.normalize:index: 14, word: Yong, condition not in money and date\n",
      "DEBUG:malaya.normalize:index: 14, word: Yong, condition text_scorer is not None\n",
      "DEBUG:malaya.normalize:index: 14, word: Yong, lower: Hitam ke yong Peng . , normal: Hitam ke Yong Peng . , lower_score: -23.13201904296875, title_score: -12.1568021774292, normal_score: -12.1568021774292\n",
      "DEBUG:malaya.normalize:index: 14, word: Yong, condition titled\n",
      "DEBUG:malaya.normalize:index: 15, word: Peng, queue: ['pukul 01.38:39', 'kerja', 'penyelenggaraan', 'KM', '83.5', '-', 'KM', '84.5', 'arah', 'utara', 'dari', 'Ayer', 'Hitam', 'ke', 'Yong']\n",
      "DEBUG:malaya.normalize:index: 15, word: Peng, score: 8.929913531497098e-05, text_scorer is not None\n",
      "DEBUG:malaya.normalize:index: 15, word: Peng, condition not in money and date\n",
      "DEBUG:malaya.normalize:index: 15, word: Peng, condition text_scorer is not None\n",
      "DEBUG:malaya.normalize:index: 15, word: Peng, lower: ke Yong peng . Lorong , normal: ke Yong Peng . Lorong , lower_score: -28.374759674072266, title_score: -21.628494262695312, normal_score: -21.628494262695312\n",
      "DEBUG:malaya.normalize:index: 15, word: Peng, condition titled\n",
      "DEBUG:malaya.normalize:index: 16, word: ., queue: ['pukul 01.38:39', 'kerja', 'penyelenggaraan', 'KM', '83.5', '-', 'KM', '84.5', 'arah', 'utara', 'dari', 'Ayer', 'Hitam', 'ke', 'Yong', 'Peng']\n",
      "DEBUG:malaya.normalize:index: 16, word: ., condition punct\n",
      "DEBUG:malaya.normalize:index: 17, word: Lorong, queue: ['pukul 01.38:39', 'kerja', 'penyelenggaraan', 'KM', '83.5', '-', 'KM', '84.5', 'arah', 'utara', 'dari', 'Ayer', 'Hitam', 'ke', 'Yong', 'Peng', '.']\n",
      "DEBUG:malaya.normalize:index: 17, word: Lorong, score: 0.0003590223032981517, text_scorer is not None\n",
      "DEBUG:malaya.normalize:index: 17, word: Lorong, condition not in money and date\n",
      "DEBUG:malaya.normalize:index: 17, word: Lorong, condition text_scorer is not None\n",
      "DEBUG:malaya.normalize:index: 17, word: Lorong, lower: Peng . lorong kiri ditutup , normal: Peng . Lorong kiri ditutup , lower_score: -24.08972930908203, title_score: -27.09498405456543, normal_score: -27.09498405456543\n",
      "DEBUG:malaya.normalize:index: 17, word: Lorong, condition lower_score > normal_score or title_score > normal_score\n",
      "DEBUG:malaya.normalize:index: 17, word: lorong, condition check english\n",
      "DEBUG:malaya.normalize:index: 17, word: lorong, condition check malay\n",
      "DEBUG:malaya.normalize:index: 18, word: kiri, queue: ['pukul 01.38:39', 'kerja', 'penyelenggaraan', 'KM', '83.5', '-', 'KM', '84.5', 'arah', 'utara', 'dari', 'Ayer', 'Hitam', 'ke', 'Yong', 'Peng', '.', 'lorong']\n",
      "DEBUG:malaya.normalize:index: 18, word: kiri, score: 0.0004933667170340976, text_scorer is not None\n",
      "DEBUG:malaya.normalize:index: 18, word: kiri, condition check english\n",
      "DEBUG:malaya.normalize:index: 19, word: ditutup, queue: ['pukul 01.38:39', 'kerja', 'penyelenggaraan', 'KM', '83.5', '-', 'KM', '84.5', 'arah', 'utara', 'dari', 'Ayer', 'Hitam', 'ke', 'Yong', 'Peng', '.', 'lorong', 'kiri']\n",
      "DEBUG:malaya.normalize:index: 19, word: ditutup, score: 0.0008835111251110439, text_scorer is not None\n",
      "DEBUG:malaya.normalize:index: 19, word: ditutup, condition check english\n",
      "DEBUG:malaya.normalize:index: 19, word: ditutup, condition check malay\n",
      "DEBUG:malaya.normalize:index: 20, word: ., queue: ['pukul 01.38:39', 'kerja', 'penyelenggaraan', 'KM', '83.5', '-', 'KM', '84.5', 'arah', 'utara', 'dari', 'Ayer', 'Hitam', 'ke', 'Yong', 'Peng', '.', 'lorong', 'kiri', 'ditutup']\n",
      "DEBUG:malaya.normalize:index: 20, word: ., condition punct\n",
      "DEBUG:malaya.normalize:index: 21, word: Trafi, queue: ['pukul 01.38:39', 'kerja', 'penyelenggaraan', 'KM', '83.5', '-', 'KM', '84.5', 'arah', 'utara', 'dari', 'Ayer', 'Hitam', 'ke', 'Yong', 'Peng', '.', 'lorong', 'kiri', 'ditutup', '.']\n",
      "DEBUG:malaya.normalize:index: 21, word: Trafi, score: 3.782883746097449e-05, text_scorer is not None\n",
      "DEBUG:malaya.normalize:index: 21, word: Trafi, condition not in money and date\n",
      "DEBUG:malaya.normalize:index: 21, word: Trafi, condition text_scorer is not None\n",
      "DEBUG:malaya.normalize:index: 21, word: Trafi, lower: ditutup . trafi https://t.co/iP2jEdY4Ib , normal: ditutup . Trafi https://t.co/iP2jEdY4Ib , lower_score: -27.55426025390625, title_score: -27.55426025390625, normal_score: -27.55426025390625\n",
      "DEBUG:malaya.normalize:index: 21, word: Trafi, condition titled\n",
      "DEBUG:malaya.normalize:index: 22, word: https://t.co/iP2jEdY4Ib, queue: ['pukul 01.38:39', 'kerja', 'penyelenggaraan', 'KM', '83.5', '-', 'KM', '84.5', 'arah', 'utara', 'dari', 'Ayer', 'Hitam', 'ke', 'Yong', 'Peng', '.', 'lorong', 'kiri', 'ditutup', '.', 'Trafi']\n",
      "DEBUG:malaya.normalize:index: 22, word: https://t.co/iP2jEdY4Ib, condition url\n",
      "DEBUG:malaya.normalize:spelling correction, index: 5, selected: -\n",
      "DEBUG:malaya.spelling_correction.probability:word: -, string: ['pukul 01.38:39', 'kerja', 'penyelenggaraan', 'KM', '83.5', '-', 'KM', '84.5', 'arah'], index: 5, lookback: 5, lookforward: 3, score: -52.1477165222168\n",
      "DEBUG:malaya.spelling_correction.probability:word: -, string: ['pukul 01.38:39', 'kerja', 'penyelenggaraan', 'KM', '83.5', '-', 'KM', '84.5', 'arah'], index: 5, lookback: 5, lookforward: 3, score: -52.1477165222168\n",
      "DEBUG:malaya.normalize:spelling correction, index: 13, selected: ke\n",
      "DEBUG:malaya.normalize:past_date_string_: []\n",
      "DEBUG:malaya.normalize:now_date_string_: []\n",
      "DEBUG:malaya.normalize:future_date_string_: []\n",
      "DEBUG:malaya.normalize:yesterday_date_string_: []\n",
      "DEBUG:malaya.normalize:depan_date_string_: []\n",
      "DEBUG:malaya.normalize:today_time_: []\n",
      "DEBUG:malaya.normalize:time_: ['14:14hrs']\n",
      "DEBUG:malaya.normalize:left_datetime_: []\n",
      "DEBUG:malaya.normalize:right_datetime_: []\n",
      "DEBUG:malaya.normalize:today_left_datetime_: []\n",
      "DEBUG:malaya.normalize:today_right_datetime_: []\n",
      "DEBUG:malaya.normalize:left_yesterdaydatetime_: []\n",
      "DEBUG:malaya.normalize:right_yesterdaydatetime_: []\n",
      "DEBUG:malaya.normalize:left_yesterdaydatetodaytime_: []\n"
     ]
    },
    {
     "name": "stderr",
     "output_type": "stream",
     "text": [
      "DEBUG:malaya.normalize:right_yesterdaydatetodaytime_: []\n"
     ]
    },
    {
     "data": {
      "text/plain": [
       "'pukul 01.38:39 kerja penyelenggaraan KM 83.5 - KM 84.5 arah utara dari Ayer Hitam ke Yong Peng . lorong kiri ditutup . Trafi https://t.co/iP2jEdY4Ib'"
      ]
     },
     "execution_count": 34,
     "metadata": {},
     "output_type": "execute_result"
    }
   ],
   "source": [
    "normalized = normalizer.normalize(\n",
    "            t, normalize_hingga = False, normalize_cardinal = False,\n",
    "            normalize_ordinal = False, normalize_pada_hari_bulan = False,\n",
    "            normalize_fraction = False, normalize_money = False, normalize_date = False,\n",
    "            normalize_time = False, normalize_ic = False,\n",
    "            normalize_units = False,\n",
    "            normalize_url = False, normalize_percent=False, normalize_telephone = False,\n",
    "            text_scorer = text_scorer, segmenter = segmenter_func,\n",
    "            not_a_word_threshold = 1e-9, text_scorer_window = 2, lookback=5\n",
    "        )['normalize']\n",
    "normalized"
   ]
  },
  {
   "cell_type": "code",
   "execution_count": 31,
   "metadata": {},
   "outputs": [
    {
     "name": "stderr",
     "output_type": "stream",
     "text": [
      "DEBUG:malaya.torch_model.huggingface:generate, strings: ['14hrs']\n"
     ]
    },
    {
     "data": {
      "text/plain": [
       "'14hrs'"
      ]
     },
     "execution_count": 31,
     "metadata": {},
     "output_type": "execute_result"
    }
   ],
   "source": [
    "segmenter_func('14hrs')"
   ]
  },
  {
   "cell_type": "code",
   "execution_count": 22,
   "metadata": {},
   "outputs": [],
   "source": [
    "from malaya.text.tatabahasa import (\n",
    "    date_replace,\n",
    "    consonants,\n",
    "    sounds,\n",
    "    bulan,\n",
    ")\n",
    "from malaya.text.function import (\n",
    "    is_laugh,\n",
    "    is_mengeluh,\n",
    "    multireplace,\n",
    "    case_of,\n",
    "    PUNCTUATION,\n",
    ")"
   ]
  },
  {
   "cell_type": "code",
   "execution_count": 24,
   "metadata": {},
   "outputs": [
    {
     "data": {
      "text/plain": [
       "'14:14hrs'"
      ]
     },
     "execution_count": 24,
     "metadata": {},
     "output_type": "execute_result"
    }
   ],
   "source": [
    "word = '14:14hrs'\n",
    "word = multireplace(word, date_replace)\n",
    "word"
   ]
  },
  {
   "cell_type": "code",
   "execution_count": 33,
   "metadata": {},
   "outputs": [
    {
     "data": {
      "text/plain": [
       "datetime.datetime(2022, 12, 3, 1, 35, 37, 152859)"
      ]
     },
     "execution_count": 33,
     "metadata": {},
     "output_type": "execute_result"
    }
   ],
   "source": [
    "dateparser.parse('14:14 hours', settings={'TIMEZONE': 'GMT+8'})"
   ]
  },
  {
   "cell_type": "code",
   "execution_count": 19,
   "metadata": {},
   "outputs": [
    {
     "data": {
      "text/plain": [
       "['14:14hrs',\n",
       " 'Kerja',\n",
       " 'penyelenggaraan',\n",
       " 'KM',\n",
       " '83.5',\n",
       " '-',\n",
       " 'KM',\n",
       " '84.5',\n",
       " 'arah',\n",
       " 'Utara',\n",
       " 'dari',\n",
       " 'Ayer',\n",
       " 'Hitam',\n",
       " 'ke',\n",
       " 'Yong',\n",
       " 'Peng',\n",
       " '.',\n",
       " 'Lorong',\n",
       " 'kiri',\n",
       " 'ditutup',\n",
       " '.',\n",
       " 'Trafi',\n",
       " 'https://t.co/iP2jEdY4Ib']"
      ]
     },
     "execution_count": 19,
     "metadata": {},
     "output_type": "execute_result"
    }
   ],
   "source": [
    "normalizer._tokenizer(t)"
   ]
  },
  {
   "cell_type": "code",
   "execution_count": 21,
   "metadata": {},
   "outputs": [
    {
     "data": {
      "text/plain": [
       "'14:14hrs Kerja penyelenggaraan KM 83.5- KM 84.5 arah Utara dari Ayer Hitam ke Yong Peng. Lorong kiri ditutup. Trafi https://t.co/iP2jEdY4Ib'"
      ]
     },
     "execution_count": 21,
     "metadata": {},
     "output_type": "execute_result"
    }
   ],
   "source": [
    "t"
   ]
  },
  {
   "cell_type": "code",
   "execution_count": null,
   "metadata": {},
   "outputs": [],
   "source": []
  }
 ],
 "metadata": {
  "kernelspec": {
   "display_name": "Python 3 (ipykernel)",
   "language": "python",
   "name": "python3"
  },
  "language_info": {
   "codemirror_mode": {
    "name": "ipython",
    "version": 3
   },
   "file_extension": ".py",
   "mimetype": "text/x-python",
   "name": "python",
   "nbconvert_exporter": "python",
   "pygments_lexer": "ipython3",
   "version": "3.8.10"
  }
 },
 "nbformat": 4,
 "nbformat_minor": 4
}
