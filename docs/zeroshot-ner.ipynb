{
 "cells": [
  {
   "cell_type": "markdown",
   "metadata": {},
   "source": [
    "# Entity Recognition HuggingFace"
   ]
  },
  {
   "cell_type": "markdown",
   "metadata": {},
   "source": [
    "<div class=\"alert alert-info\">\n",
    "\n",
    "This tutorial is available as an IPython notebook at [Malaya/example/zeroshot-ner-huggingface](https://github.com/huseinzol05/Malaya/tree/master/example/zeroshot-ner-huggingface).\n",
    "    \n",
    "</div>"
   ]
  },
  {
   "cell_type": "markdown",
   "metadata": {},
   "source": [
    "<div class=\"alert alert-warning\">\n",
    "\n",
    "This module only trained on standard language structure, so it is not save to use it for local language structure.\n",
    "    \n",
    "</div>"
   ]
  },
  {
   "cell_type": "code",
   "execution_count": 1,
   "metadata": {},
   "outputs": [],
   "source": [
    "import os\n",
    "\n",
    "os.environ['CUDA_VISIBLE_DEVICES'] = ''\n",
    "os.environ['TF_FORCE_GPU_ALLOW_GROWTH'] = 'true'"
   ]
  },
  {
   "cell_type": "code",
   "execution_count": 2,
   "metadata": {},
   "outputs": [],
   "source": [
    "import logging\n",
    "\n",
    "logging.basicConfig(level=logging.INFO)"
   ]
  },
  {
   "cell_type": "code",
   "execution_count": 3,
   "metadata": {},
   "outputs": [
    {
     "name": "stdout",
     "output_type": "stream",
     "text": [
      "CPU times: user 2.98 s, sys: 2.65 s, total: 5.63 s\n",
      "Wall time: 2.55 s\n"
     ]
    }
   ],
   "source": [
    "%%time\n",
    "import malaya"
   ]
  },
  {
   "cell_type": "markdown",
   "metadata": {},
   "source": [
    "### what is zero-shot entity recognition\n",
    "\n",
    "Commonly we supervised a machine learning on specific labels, PERSON, NORP and etc. The model cannot give an output if we want to know how many tags of 'POLITICIAN' in entity recognition model because supported labels are only {PERSON, NORP}. Imagine, for example, trying to identify a text without ever having seen one 'POLITICIAN' label before, impossible. **So, zero-shot trying to solve this problem.**\n",
    "\n",
    "zero-shot learning refers to the process by which a machine learns how to recognize objects (image, text, any features) without any labeled training data to help in the classification.\n",
    "\n",
    "We follow prompting GPTJ for entity extraction and finetuned T5 models, https://playground.helloforefront.com/models/free-gpt-j-playground"
   ]
  },
  {
   "cell_type": "markdown",
   "metadata": {},
   "source": [
    "### List available HuggingFace models"
   ]
  },
  {
   "cell_type": "code",
   "execution_count": 4,
   "metadata": {},
   "outputs": [
    {
     "name": "stderr",
     "output_type": "stream",
     "text": [
      "INFO:malaya.zero_shot.entity:tested on test set, https://huggingface.co/datasets/mesolitica/zeroshot-NER\n"
     ]
    },
    {
     "data": {
      "text/html": [
       "<div>\n",
       "<style scoped>\n",
       "    .dataframe tbody tr th:only-of-type {\n",
       "        vertical-align: middle;\n",
       "    }\n",
       "\n",
       "    .dataframe tbody tr th {\n",
       "        vertical-align: top;\n",
       "    }\n",
       "\n",
       "    .dataframe thead th {\n",
       "        text-align: right;\n",
       "    }\n",
       "</style>\n",
       "<table border=\"1\" class=\"dataframe\">\n",
       "  <thead>\n",
       "    <tr style=\"text-align: right;\">\n",
       "      <th></th>\n",
       "      <th>Size (MB)</th>\n",
       "      <th>WER</th>\n",
       "      <th>CER</th>\n",
       "      <th>exactly-match</th>\n",
       "    </tr>\n",
       "  </thead>\n",
       "  <tbody>\n",
       "    <tr>\n",
       "      <th>mesolitica/finetune-zeroshot-ner-t5-tiny-standard-bahasa-cased</th>\n",
       "      <td>139</td>\n",
       "      <td>0</td>\n",
       "      <td>0</td>\n",
       "      <td>0</td>\n",
       "    </tr>\n",
       "    <tr>\n",
       "      <th>mesolitica/finetune-zeroshot-ner-t5-small-standard-bahasa-cased</th>\n",
       "      <td>242</td>\n",
       "      <td>0</td>\n",
       "      <td>0</td>\n",
       "      <td>0</td>\n",
       "    </tr>\n",
       "    <tr>\n",
       "      <th>mesolitica/finetune-zeroshot-ner-t5-base-standard-bahasa-cased</th>\n",
       "      <td>892</td>\n",
       "      <td>0</td>\n",
       "      <td>0</td>\n",
       "      <td>0</td>\n",
       "    </tr>\n",
       "  </tbody>\n",
       "</table>\n",
       "</div>"
      ],
      "text/plain": [
       "                                                    Size (MB)  WER  CER  \\\n",
       "mesolitica/finetune-zeroshot-ner-t5-tiny-standa...        139    0    0   \n",
       "mesolitica/finetune-zeroshot-ner-t5-small-stand...        242    0    0   \n",
       "mesolitica/finetune-zeroshot-ner-t5-base-standa...        892    0    0   \n",
       "\n",
       "                                                    exactly-match  \n",
       "mesolitica/finetune-zeroshot-ner-t5-tiny-standa...              0  \n",
       "mesolitica/finetune-zeroshot-ner-t5-small-stand...              0  \n",
       "mesolitica/finetune-zeroshot-ner-t5-base-standa...              0  "
      ]
     },
     "execution_count": 4,
     "metadata": {},
     "output_type": "execute_result"
    }
   ],
   "source": [
    "malaya.zero_shot.entity.available_huggingface()"
   ]
  },
  {
   "cell_type": "markdown",
   "metadata": {},
   "source": [
    "### Load HuggingFace model\n",
    "\n",
    "```python\n",
    "def huggingface(model: str = 'mesolitica/finetune-zeroshot-ner-t5-small-standard-bahasa-cased', **kwargs):\n",
    "    \"\"\"\n",
    "    Load HuggingFace model to zeroshot NER.\n",
    "\n",
    "    Parameters\n",
    "    ----------\n",
    "    model: str, optional (default='mesolitica/finetune-zeroshot-ner-t5-small-standard-bahasa-cased')\n",
    "        Check available models at `malaya.zero_shot.entity.available_huggingface()`.\n",
    "\n",
    "    Returns\n",
    "    -------\n",
    "    result: malaya.torch_model.huggingface.ZeroShotNER\n",
    "    \"\"\"\n",
    "```"
   ]
  },
  {
   "cell_type": "code",
   "execution_count": 5,
   "metadata": {},
   "outputs": [],
   "source": [
    "model = malaya.zero_shot.entity.huggingface()"
   ]
  },
  {
   "cell_type": "markdown",
   "metadata": {},
   "source": [
    "### predict\n",
    "\n",
    "```python\n",
    "def predict(\n",
    "    self,\n",
    "    string: str,\n",
    "    tags: List[str],\n",
    "    minimum_length: int = 2,\n",
    "    **kwargs,\n",
    "):\n",
    "    \"\"\"\n",
    "    classify entities in a string.\n",
    "\n",
    "    Parameters\n",
    "    ----------\n",
    "    strings: str\n",
    "        We assumed the string input been properly tokenized.\n",
    "    tags: List[str]\n",
    "    minimum_length: int, optional (default=2)\n",
    "        minimum length of string for an entity.\n",
    "    **kwargs: vector arguments pass to huggingface `generate` method.\n",
    "        Read more at https://huggingface.co/docs/transformers/main_classes/text_generation\n",
    "\n",
    "    Returns\n",
    "    -------\n",
    "    list: Dict[str, List[str]]\n",
    "    \"\"\"\n",
    "```"
   ]
  },
  {
   "cell_type": "code",
   "execution_count": 6,
   "metadata": {},
   "outputs": [
    {
     "data": {
      "text/plain": [
       "{'nama seseorang': ['Khalid Yunus',\n",
       "  'Noraffendy Salleh',\n",
       "  'Khalid,',\n",
       "  'Norwani Ahmat.',\n",
       "  'Shamshulkahar Mohd Deli',\n",
       "  'Ahli Parlimen Jempol'],\n",
       " 'organisasi': ['Pakatan Harapan (PH)',\n",
       "  'Pejuang',\n",
       "  'Perikatan Nasional (PN)',\n",
       "  'Parti Bumiputera Perkasa Malaysia (Putra)',\n",
       "  'Barisan Nasional (BN),'],\n",
       " 'kopi': [],\n",
       " 'parti politik': [],\n",
       " 'masa': [],\n",
       " 'food and beverages': [],\n",
       " 'age': [],\n",
       " 'politician': [],\n",
       " 'ahli politik': [],\n",
       " 'orang politik': ['Khalid Yunus',\n",
       "  'Noraffendy Salleh',\n",
       "  'Khalid,',\n",
       "  'Norwani Ahmat.',\n",
       "  'Shamshulkahar Mohd Deli'],\n",
       " 'parti politik malaysia': []}"
      ]
     },
     "execution_count": 6,
     "metadata": {},
     "output_type": "execute_result"
    }
   ],
   "source": [
    "from unidecode import unidecode\n",
    "import re\n",
    "\n",
    "# minimum cleaning, just simply to remove newlines.\n",
    "def cleaning(string):\n",
    "    string = string.replace('\\n', ' ')\n",
    "    string = re.sub(r'[ ]+', ' ', string).strip()\n",
    "    return string\n",
    "\n",
    "x = \"\"\"\n",
    "Bekas Ahli Parlimen Jempol empat penggal Khalid Yunus akan membuat penampilan semula pada pilihan raya umum ke-15 (PRU15).\n",
    "\n",
    "Khalid, 79, yang juga timbalan presiden Parti Bumiputera Perkasa Malaysia (Putra) akan bertanding atas tiket Pejuang menentang Shamshulkahar Mohd Deli daripada Barisan Nasional (BN), calon Perikatan Nasional (PN) Noraffendy Salleh dan calon Pakatan Harapan (PH) Norwani Ahmat.\n",
    "\"\"\"\n",
    "\n",
    "text = cleaning(x)\n",
    "tags = ['nama seseorang', 'organisasi', 'kopi', 'parti politik', 'masa', 'food and beverages',\n",
    "       'age', 'politician', 'ahli politik', 'orang politik', 'parti politik malaysia']\n",
    "\n",
    "model.predict(text, tags, do_sample=True, \n",
    "    max_length=50, \n",
    "    top_k=50, \n",
    "    top_p=0.95, )"
   ]
  },
  {
   "cell_type": "code",
   "execution_count": 7,
   "metadata": {},
   "outputs": [
    {
     "data": {
      "text/plain": [
       "{'person': [],\n",
       " 'organisasi': [],\n",
       " 'kopi': ['tiga gula', 'satu krim'],\n",
       " 'nama parti politik': [],\n",
       " 'lokasi': ['penang airport'],\n",
       " 'syarikat': [],\n",
       " 'masa': [],\n",
       " 'quantity': ['tiga gula', 'satu krim'],\n",
       " 'kuantiti': [],\n",
       " 'coffee': ['tiga gula', 'satu krim'],\n",
       " 'airport': [],\n",
       " 'politician': [],\n",
       " 'lapangan terbang': []}"
      ]
     },
     "execution_count": 7,
     "metadata": {},
     "output_type": "execute_result"
    }
   ],
   "source": [
    "text = 'saya nak secawan kopi dengan satu krim dan tiga gula , dan saya sekarang berada di penang airport'\n",
    "tags = ['person', 'organisasi', 'kopi', 'nama parti politik', 'lokasi', 'syarikat', 'masa',\n",
    "       'quantity', 'kuantiti', 'coffee', 'airport', 'politician', 'lapangan terbang']\n",
    "\n",
    "model.predict(text, tags, do_sample=True, \n",
    "    max_length=50, \n",
    "    top_k=50, \n",
    "    top_p=0.95, )"
   ]
  },
  {
   "cell_type": "code",
   "execution_count": 8,
   "metadata": {},
   "outputs": [
    {
     "data": {
      "text/plain": [
       "{'person': [],\n",
       " 'organisasi': [],\n",
       " 'kopi': [],\n",
       " 'nama parti politik': [],\n",
       " 'lokasi': ['penang airport'],\n",
       " 'syarikat': [],\n",
       " 'masa': [],\n",
       " 'quantity': [],\n",
       " 'kuantiti': [],\n",
       " 'coffee': ['1 teh o ais'],\n",
       " 'airport': [],\n",
       " 'drink': [],\n",
       " 'fnb': ['1 teh o ais'],\n",
       " 'makanan dan minuman': ['1 teh o ais']}"
      ]
     },
     "execution_count": 8,
     "metadata": {},
     "output_type": "execute_result"
    }
   ],
   "source": [
    "text = 'sya nak 1 teh o ais, dan saya sekarang berada di penang airport sambil minum starbucks'\n",
    "tags = ['person', 'organisasi', 'kopi', 'nama parti politik', 'lokasi', 'syarikat', 'masa',\n",
    "       'quantity', 'kuantiti', 'coffee', 'airport', 'drink', 'fnb', 'makanan dan minuman']\n",
    "\n",
    "model.predict(text, tags, do_sample=True, \n",
    "    max_length=50, \n",
    "    top_k=50, \n",
    "    top_p=0.95, )"
   ]
  },
  {
   "cell_type": "markdown",
   "metadata": {},
   "source": [
    "### able to infer for mixed MS and EN"
   ]
  },
  {
   "cell_type": "code",
   "execution_count": 9,
   "metadata": {},
   "outputs": [
    {
     "data": {
      "text/plain": [
       "{'year': [],\n",
       " 'person': [],\n",
       " 'orang': [],\n",
       " 'org': ['Harvard Yard'],\n",
       " 'people': [],\n",
       " 'tahun': [],\n",
       " 'lokasi': ['Square'],\n",
       " 'tempat': [],\n",
       " 'masa': [],\n",
       " 'time': []}"
      ]
     },
     "execution_count": 9,
     "metadata": {},
     "output_type": "execute_result"
    }
   ],
   "source": [
    "text = 'The Square is located by the historic Harvard Yard where you find buildings dating back as far as the early 18th century .'\n",
    "tags = ['year', 'person', 'orang', 'org', 'people', 'tahun', 'lokasi', 'tempat', 'masa', 'time']\n",
    "\n",
    "model.predict(text, tags, do_sample=True, \n",
    "    max_length=50, \n",
    "    top_k=50, \n",
    "    top_p=0.95,)"
   ]
  },
  {
   "cell_type": "code",
   "execution_count": 10,
   "metadata": {},
   "outputs": [
    {
     "data": {
      "text/plain": [
       "{'year': [],\n",
       " 'person': ['Anwar',\n",
       "  'Datuk Seri Mohd Shafie Apdal.',\n",
       "  'Datuk Seri Anwar Ibrahim'],\n",
       " 'orang': ['Anwar',\n",
       "  'Datuk Seri Mohd Shafie Apdal.',\n",
       "  'Datuk Seri Anwar Ibrahim'],\n",
       " 'org': ['Pakatan Harapan', 'Parti Warisan'],\n",
       " 'people': ['Anwar',\n",
       "  'Datuk Seri Mohd Shafie Apdal.',\n",
       "  'Datuk Seri Anwar Ibrahim'],\n",
       " 'tahun': [],\n",
       " 'lokasi': [],\n",
       " 'tempat': [],\n",
       " 'masa': [],\n",
       " 'time': [],\n",
       " 'position': [],\n",
       " 'title': []}"
      ]
     },
     "execution_count": 10,
     "metadata": {},
     "output_type": "execute_result"
    }
   ],
   "source": [
    "x = \"\"\"\n",
    "PENAMPANG:  Datuk Seri Anwar Ibrahim is obsessed with becoming  prime minister, said Parti  Warisan president Datuk Seri Mohd Shafie Apdal.\n",
    "\n",
    "He said this could be seen when Pakatan Harapan chairman Anwar  was released from jail following the coalition's win in the 14th general election.\n",
    "\"\"\"\n",
    "text = cleaning(x)\n",
    "tags = ['year', 'person', 'orang', 'org', 'people', 'tahun', 'lokasi', 'tempat', 'masa', 'time', 'position',\n",
    "       'title']\n",
    "\n",
    "model.predict(text, tags, do_sample=True, \n",
    "    max_length=50, \n",
    "    top_k=50, \n",
    "    top_p=0.95,)"
   ]
  }
 ],
 "metadata": {
  "kernelspec": {
   "display_name": "Python 3 (ipykernel)",
   "language": "python",
   "name": "python3"
  },
  "language_info": {
   "codemirror_mode": {
    "name": "ipython",
    "version": 3
   },
   "file_extension": ".py",
   "mimetype": "text/x-python",
   "name": "python",
   "nbconvert_exporter": "python",
   "pygments_lexer": "ipython3",
   "version": "3.8.10"
  }
 },
 "nbformat": 4,
 "nbformat_minor": 4
}
