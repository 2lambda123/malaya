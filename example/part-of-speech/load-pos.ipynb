{
 "cells": [
  {
   "cell_type": "code",
   "execution_count": 1,
   "metadata": {},
   "outputs": [],
   "source": [
    "import malaya"
   ]
  },
  {
   "cell_type": "markdown",
   "metadata": {},
   "source": [
    "## List available deep learning POS models"
   ]
  },
  {
   "cell_type": "code",
   "execution_count": 2,
   "metadata": {},
   "outputs": [
    {
     "data": {
      "text/plain": [
       "['concat', 'bahdanau', 'luong', 'entity-network', 'attention']"
      ]
     },
     "execution_count": 2,
     "metadata": {},
     "output_type": "execute_result"
    }
   ],
   "source": [
    "malaya.pos.available_deep_model()"
   ]
  },
  {
   "cell_type": "markdown",
   "metadata": {},
   "source": [
    "## Describe supported POS"
   ]
  },
  {
   "cell_type": "code",
   "execution_count": 3,
   "metadata": {},
   "outputs": [
    {
     "name": "stdout",
     "output_type": "stream",
     "text": [
      "ADJ - Adjective, kata sifat\n",
      "ADP - Adposition\n",
      "ADV - Adverb, kata keterangan\n",
      "ADX - Auxiliary verb, kata kerja tambahan\n",
      "CCONJ - Coordinating conjuction, kata hubung\n",
      "DET - Determiner, kata penentu\n",
      "NOUN - Noun, kata nama\n",
      "NUM - Number, nombor\n",
      "PART - Particle\n",
      "PRON - Pronoun, kata ganti\n",
      "PROPN - Proper noun, kata ganti nama khas\n",
      "SCONJ - Subordinating conjunction\n",
      "SYM - Symbol\n",
      "VERB - Verb, kata kerja\n",
      "X - Other\n"
     ]
    }
   ],
   "source": [
    "malaya.describe_pos()"
   ]
  },
  {
   "cell_type": "markdown",
   "metadata": {},
   "source": [
    "## Load CRF Model"
   ]
  },
  {
   "cell_type": "code",
   "execution_count": 4,
   "metadata": {},
   "outputs": [],
   "source": [
    "crf = malaya.pos.crf()"
   ]
  },
  {
   "cell_type": "code",
   "execution_count": 5,
   "metadata": {},
   "outputs": [],
   "source": [
    "string = 'KUALA LUMPUR: Sempena sambutan Aidilfitri minggu depan, Perdana Menteri Tun Dr Mahathir Mohamad dan Menteri Pengangkutan Anthony Loke Siew Fook menitipkan pesanan khas kepada orang ramai yang mahu pulang ke kampung halaman masing-masing. Dalam video pendek terbitan Jabatan Keselamatan Jalan Raya (JKJR) itu, Dr Mahathir menasihati mereka supaya berhenti berehat dan tidur sebentar  sekiranya mengantuk ketika memandu.'"
   ]
  },
  {
   "cell_type": "code",
   "execution_count": 6,
   "metadata": {},
   "outputs": [
    {
     "data": {
      "text/plain": [
       "[('kuala', 'PROPN'),\n",
       " ('lumpur', 'PROPN'),\n",
       " ('sempena', 'PROPN'),\n",
       " ('sambutan', 'NOUN'),\n",
       " ('aidilfitri', 'NOUN'),\n",
       " ('minggu', 'NOUN'),\n",
       " ('depan', 'ADJ'),\n",
       " ('perdana', 'PROPN'),\n",
       " ('menteri', 'PROPN'),\n",
       " ('tun', 'PROPN'),\n",
       " ('dr', 'PROPN'),\n",
       " ('mahathir', 'PROPN'),\n",
       " ('mohamad', 'PROPN'),\n",
       " ('dan', 'CCONJ'),\n",
       " ('menteri', 'VERB'),\n",
       " ('pengangkutan', 'PROPN'),\n",
       " ('anthony', 'PROPN'),\n",
       " ('loke', 'PROPN'),\n",
       " ('siew', 'PROPN'),\n",
       " ('fook', 'PROPN'),\n",
       " ('menitipkan', 'VERB'),\n",
       " ('pesanan', 'NOUN'),\n",
       " ('khas', 'ADJ'),\n",
       " ('kepada', 'ADP'),\n",
       " ('orang', 'NOUN'),\n",
       " ('ramai', 'ADJ'),\n",
       " ('yang', 'PRON'),\n",
       " ('mahu', 'ADV'),\n",
       " ('pulang', 'VERB'),\n",
       " ('ke', 'ADP'),\n",
       " ('kampung', 'NOUN'),\n",
       " ('halaman', 'NOUN'),\n",
       " ('masing-masing', 'NOUN'),\n",
       " ('dalam', 'ADP'),\n",
       " ('video', 'NOUN'),\n",
       " ('pendek', 'ADJ'),\n",
       " ('terbitan', 'NOUN'),\n",
       " ('jabatan', 'NOUN'),\n",
       " ('keselamatan', 'PROPN'),\n",
       " ('jalan', 'PROPN'),\n",
       " ('raya', 'PROPN'),\n",
       " ('jkjr', 'PROPN'),\n",
       " ('itu', 'DET'),\n",
       " ('dr', 'PROPN'),\n",
       " ('mahathir', 'PROPN'),\n",
       " ('menasihati', 'VERB'),\n",
       " ('mereka', 'PRON'),\n",
       " ('supaya', 'SCONJ'),\n",
       " ('berhenti', 'VERB'),\n",
       " ('berehat', 'VERB'),\n",
       " ('dan', 'CCONJ'),\n",
       " ('tidur', 'VERB'),\n",
       " ('sebentar', 'ADP'),\n",
       " ('sekiranya', 'NOUN'),\n",
       " ('mengantuk', 'VERB'),\n",
       " ('ketika', 'SCONJ'),\n",
       " ('memandu', 'VERB')]"
      ]
     },
     "execution_count": 6,
     "metadata": {},
     "output_type": "execute_result"
    }
   ],
   "source": [
    "crf.predict(string)"
   ]
  },
  {
   "cell_type": "markdown",
   "metadata": {},
   "source": [
    "## Print important features CRF model"
   ]
  },
  {
   "cell_type": "code",
   "execution_count": 7,
   "metadata": {},
   "outputs": [
    {
     "name": "stdout",
     "output_type": "stream",
     "text": [
      "Top-10 positive:\n",
      "16.307872 DET      word:tersebut\n",
      "15.868179 DET      word:para\n",
      "15.590679 VERB     word:percaya\n",
      "15.520492 ADP      word:dari\n",
      "15.296975 DET      word:berbagai\n",
      "14.691924 ADJ      word:menakjubkan\n",
      "14.609917 ADJ      word:menyejukkan\n",
      "14.503045 PRON     word:kapan\n",
      "14.319357 DET      word:ini\n",
      "14.267956 ADV      word:pernah\n",
      "\n",
      "Top-10 negative:\n",
      "-7.217718 PROPN    word:bunga\n",
      "-7.258999 VERB     word:memuaskan\n",
      "-7.498110 ADP      prev_word:pernah\n",
      "-7.523901 ADV      next_word-suffix-3:nai\n",
      "-7.874955 NOUN     prev_word-prefix-3:arw\n",
      "-7.921689 NOUN     suffix-2:ke\n",
      "-8.049832 ADJ      prev_word:sunda\n",
      "-8.210202 PROPN    prefix-3:ora\n",
      "-8.524420 NUM      prev_word:perang\n",
      "-10.346546 CCONJ    prev_word-suffix-3:rja\n"
     ]
    }
   ],
   "source": [
    "crf.print_features(10)"
   ]
  },
  {
   "cell_type": "markdown",
   "metadata": {},
   "source": [
    "## Print important transitions CRF model"
   ]
  },
  {
   "cell_type": "code",
   "execution_count": 8,
   "metadata": {},
   "outputs": [
    {
     "name": "stdout",
     "output_type": "stream",
     "text": [
      "Top-10 likely transitions:\n",
      "PROPN  -> PROPN   5.529614\n",
      "DET    -> DET     4.492123\n",
      "NOUN   -> NOUN    2.600533\n",
      "ADJ    -> ADJ     2.276762\n",
      "CCONJ  -> CCONJ   1.888801\n",
      "CCONJ  -> SCONJ   1.855106\n",
      "NOUN   -> ADJ     1.729610\n",
      "SCONJ  -> CCONJ   1.598273\n",
      "NUM    -> NUM     1.475505\n",
      "ADV    -> VERB    1.442607\n",
      "\n",
      "Top-10 unlikely transitions:\n",
      "SCONJ  -> AUX     -3.559017\n",
      "X      -> SCONJ   -3.566058\n",
      "SYM    -> ADJ     -3.720358\n",
      "PART   -> ADP     -3.744172\n",
      "X      -> CCONJ   -4.270577\n",
      "PART   -> PART    -4.543812\n",
      "ADV    -> X       -4.809254\n",
      "ADP    -> SCONJ   -5.157816\n",
      "ADP    -> CCONJ   -5.455725\n",
      "ADP    -> SYM     -6.841944\n"
     ]
    }
   ],
   "source": [
    "crf.print_transitions(10)"
   ]
  },
  {
   "cell_type": "markdown",
   "metadata": {},
   "source": [
    "## Load deep learning models"
   ]
  },
  {
   "cell_type": "code",
   "execution_count": 9,
   "metadata": {},
   "outputs": [
    {
     "name": "stdout",
     "output_type": "stream",
     "text": [
      "Testing concat model\n",
      "[('kuala', 'PROPN'), ('lumpur', 'PROPN'), ('sempena', 'PROPN'), ('sambutan', 'NOUN'), ('aidilfitri', 'PROPN'), ('minggu', 'NOUN'), ('depan', 'ADJ'), ('perdana', 'ADJ'), ('menteri', 'NOUN'), ('tun', 'PROPN'), ('dr', 'PROPN'), ('mahathir', 'PROPN'), ('mohamad', 'PROPN'), ('dan', 'CCONJ'), ('menteri', 'NOUN'), ('pengangkutan', 'PROPN'), ('anthony', 'NOUN'), ('loke', 'NOUN'), ('siew', 'PROPN'), ('fook', 'PROPN'), ('menitipkan', 'PROPN'), ('pesanan', 'ADV'), ('khas', 'ADJ'), ('kepada', 'ADP'), ('orang', 'NOUN'), ('ramai', 'ADJ'), ('yang', 'PRON'), ('mahu', 'ADV'), ('pulang', 'VERB'), ('ke', 'ADP'), ('kampung', 'NOUN'), ('halaman', 'NOUN'), ('masing-masing', 'NOUN'), ('dalam', 'ADP'), ('video', 'NOUN'), ('pendek', 'ADJ'), ('terbitan', 'NOUN'), ('jabatan', 'NOUN'), ('keselamatan', 'NOUN'), ('jalan', 'PROPN'), ('raya', 'PROPN'), ('jkjr', 'PROPN'), ('itu', 'DET'), ('dr', 'PROPN'), ('mahathir', 'PROPN'), ('menasihati', 'NOUN'), ('mereka', 'PRON'), ('supaya', 'SCONJ'), ('berhenti', 'VERB'), ('berehat', 'PROPN'), ('dan', 'CCONJ'), ('tidur', 'NOUN'), ('sebentar', 'ADJ'), ('sekiranya', 'NOUN'), ('mengantuk', 'PROPN'), ('ketika', 'SCONJ'), ('memandu', 'VERB')]\n",
      "\n",
      "Testing bahdanau model\n",
      "[('kuala', 'PROPN'), ('lumpur', 'PROPN'), ('sempena', 'PROPN'), ('sambutan', 'NOUN'), ('aidilfitri', 'PROPN'), ('minggu', 'PROPN'), ('depan', 'ADJ'), ('perdana', 'ADJ'), ('menteri', 'NOUN'), ('tun', 'PROPN'), ('dr', 'PROPN'), ('mahathir', 'PROPN'), ('mohamad', 'PROPN'), ('dan', 'CCONJ'), ('menteri', 'PROPN'), ('pengangkutan', 'PROPN'), ('anthony', 'PROPN'), ('loke', 'PROPN'), ('siew', 'PROPN'), ('fook', 'PROPN'), ('menitipkan', 'VERB'), ('pesanan', 'ADV'), ('khas', 'ADJ'), ('kepada', 'ADP'), ('orang', 'NOUN'), ('ramai', 'ADJ'), ('yang', 'PRON'), ('mahu', 'ADV'), ('pulang', 'VERB'), ('ke', 'ADP'), ('kampung', 'NOUN'), ('halaman', 'NOUN'), ('masing-masing', 'PROPN'), ('dalam', 'ADP'), ('video', 'NOUN'), ('pendek', 'ADJ'), ('terbitan', 'NOUN'), ('jabatan', 'NOUN'), ('keselamatan', 'NOUN'), ('jalan', 'PROPN'), ('raya', 'PROPN'), ('jkjr', 'PROPN'), ('itu', 'DET'), ('dr', 'PROPN'), ('mahathir', 'PROPN'), ('menasihati', 'VERB'), ('mereka', 'PRON'), ('supaya', 'SCONJ'), ('berhenti', 'VERB'), ('berehat', 'PROPN'), ('dan', 'CCONJ'), ('tidur', 'VERB'), ('sebentar', 'ADV'), ('sekiranya', 'PROPN'), ('mengantuk', 'PROPN'), ('ketika', 'SCONJ'), ('memandu', 'VERB')]\n",
      "\n",
      "Testing luong model\n",
      "[('kuala', 'PROPN'), ('lumpur', 'PROPN'), ('sempena', 'PROPN'), ('sambutan', 'PROPN'), ('aidilfitri', 'PROPN'), ('minggu', 'PROPN'), ('depan', 'ADJ'), ('perdana', 'PROPN'), ('menteri', 'PROPN'), ('tun', 'PROPN'), ('dr', 'PROPN'), ('mahathir', 'PROPN'), ('mohamad', 'PROPN'), ('dan', 'CCONJ'), ('menteri', 'NOUN'), ('pengangkutan', 'NOUN'), ('anthony', 'PROPN'), ('loke', 'PROPN'), ('siew', 'PROPN'), ('fook', 'PROPN'), ('menitipkan', 'PROPN'), ('pesanan', 'NOUN'), ('khas', 'ADJ'), ('kepada', 'ADP'), ('orang', 'NOUN'), ('ramai', 'NOUN'), ('yang', 'PRON'), ('mahu', 'ADV'), ('pulang', 'VERB'), ('ke', 'ADP'), ('kampung', 'NOUN'), ('halaman', 'NOUN'), ('masing-masing', 'NOUN'), ('dalam', 'ADP'), ('video', 'NOUN'), ('pendek', 'ADJ'), ('terbitan', 'NOUN'), ('jabatan', 'NOUN'), ('keselamatan', 'NOUN'), ('jalan', 'NOUN'), ('raya', 'PROPN'), ('jkjr', 'PROPN'), ('itu', 'DET'), ('dr', 'PROPN'), ('mahathir', 'PROPN'), ('menasihati', 'PROPN'), ('mereka', 'PRON'), ('supaya', 'ADV'), ('berhenti', 'VERB'), ('berehat', 'NOUN'), ('dan', 'CCONJ'), ('tidur', 'VERB'), ('sebentar', 'ADV'), ('sekiranya', 'NOUN'), ('mengantuk', 'NOUN'), ('ketika', 'SCONJ'), ('memandu', 'VERB')]\n",
      "\n",
      "Testing entity-network model\n",
      "[('kuala', 'PROPN'), ('lumpur', 'PROPN'), ('sempena', 'PROPN'), ('sambutan', 'PROPN'), ('aidilfitri', 'PROPN'), ('minggu', 'PROPN'), ('depan', 'PROPN'), ('perdana', 'PROPN'), ('menteri', 'PROPN'), ('tun', 'PROPN'), ('dr', 'PROPN'), ('mahathir', 'PROPN'), ('mohamad', 'PROPN'), ('dan', 'CCONJ'), ('menteri', 'PROPN'), ('pengangkutan', 'NOUN'), ('anthony', 'NOUN'), ('loke', 'NOUN'), ('siew', 'VERB'), ('fook', 'NOUN'), ('menitipkan', 'NOUN'), ('pesanan', 'VERB'), ('khas', 'ADJ'), ('kepada', 'ADP'), ('orang', 'NOUN'), ('ramai', 'ADJ'), ('yang', 'PRON'), ('mahu', 'ADV'), ('pulang', 'VERB'), ('ke', 'ADP'), ('kampung', 'NOUN'), ('halaman', 'NOUN'), ('masing-masing', 'NOUN'), ('dalam', 'ADP'), ('video', 'NOUN'), ('pendek', 'ADJ'), ('terbitan', 'NOUN'), ('jabatan', 'NOUN'), ('keselamatan', 'PROPN'), ('jalan', 'PROPN'), ('raya', 'PROPN'), ('jkjr', 'PROPN'), ('itu', 'DET'), ('dr', 'PROPN'), ('mahathir', 'VERB'), ('menasihati', 'PROPN'), ('mereka', 'PRON'), ('supaya', 'ADV'), ('berhenti', 'VERB'), ('berehat', 'NOUN'), ('dan', 'CCONJ'), ('tidur', 'NOUN'), ('sebentar', 'ADV'), ('sekiranya', 'NOUN'), ('mengantuk', 'ADJ'), ('ketika', 'SCONJ'), ('memandu', 'VERB')]\n",
      "\n",
      "Testing attention model\n",
      "[('kuala', 'X'), ('lumpur', 'DET'), ('sempena', 'X'), ('sambutan', 'DET'), ('aidilfitri', 'X'), ('minggu', 'DET'), ('depan', 'X'), ('perdana', 'DET'), ('menteri', 'X'), ('tun', 'DET'), ('dr', 'X'), ('mahathir', 'DET'), ('mohamad', 'X'), ('dan', 'DET'), ('menteri', 'X'), ('pengangkutan', 'DET'), ('anthony', 'X'), ('loke', 'DET'), ('siew', 'X'), ('fook', 'DET'), ('menitipkan', 'X'), ('pesanan', 'DET'), ('khas', 'X'), ('kepada', 'DET'), ('orang', 'X'), ('ramai', 'DET'), ('yang', 'X'), ('mahu', 'DET'), ('pulang', 'X'), ('ke', 'DET'), ('kampung', 'X'), ('halaman', 'DET'), ('masing-masing', 'X'), ('dalam', 'DET'), ('video', 'X'), ('pendek', 'DET'), ('terbitan', 'X'), ('jabatan', 'DET'), ('keselamatan', 'X'), ('jalan', 'DET'), ('raya', 'X'), ('jkjr', 'DET'), ('itu', 'X'), ('dr', 'DET'), ('mahathir', 'X'), ('menasihati', 'DET'), ('mereka', 'X'), ('supaya', 'DET'), ('berhenti', 'X'), ('berehat', 'DET'), ('dan', 'X'), ('tidur', 'DET'), ('sebentar', 'X'), ('sekiranya', 'DET'), ('mengantuk', 'X'), ('ketika', 'DET'), ('memandu', 'VERB')]\n",
      "\n"
     ]
    }
   ],
   "source": [
    "for i in malaya.pos.available_deep_model():\n",
    "    print('Testing %s model'%(i))\n",
    "    model = malaya.pos.deep_model(i)\n",
    "    print(model.predict(string))\n",
    "    print()"
   ]
  },
  {
   "cell_type": "markdown",
   "metadata": {},
   "source": [
    "## Voting stack model"
   ]
  },
  {
   "cell_type": "code",
   "execution_count": 10,
   "metadata": {},
   "outputs": [
    {
     "data": {
      "text/plain": [
       "[('kuala', 'PROPN'),\n",
       " ('lumpur', 'PROPN'),\n",
       " ('sempena', 'PROPN'),\n",
       " ('sambutan', 'NOUN'),\n",
       " ('aidilfitri', 'PROPN'),\n",
       " ('minggu', 'PROPN'),\n",
       " ('depan', 'ADJ'),\n",
       " ('perdana', 'PROPN'),\n",
       " ('menteri', 'PROPN'),\n",
       " ('tun', 'PROPN'),\n",
       " ('dr', 'PROPN'),\n",
       " ('mahathir', 'PROPN'),\n",
       " ('mohamad', 'PROPN'),\n",
       " ('dan', 'CCONJ'),\n",
       " ('menteri', 'NOUN'),\n",
       " ('pengangkutan', 'PROPN'),\n",
       " ('anthony', 'PROPN'),\n",
       " ('loke', 'PROPN'),\n",
       " ('siew', 'PROPN'),\n",
       " ('fook', 'NOUN'),\n",
       " ('menitipkan', 'PROPN'),\n",
       " ('pesanan', 'NOUN'),\n",
       " ('khas', 'ADJ'),\n",
       " ('kepada', 'ADP'),\n",
       " ('orang', 'NOUN'),\n",
       " ('ramai', 'ADJ'),\n",
       " ('yang', 'PRON'),\n",
       " ('mahu', 'ADV'),\n",
       " ('pulang', 'VERB'),\n",
       " ('ke', 'ADP'),\n",
       " ('kampung', 'NOUN'),\n",
       " ('halaman', 'NOUN'),\n",
       " ('masing-masing', 'NOUN'),\n",
       " ('dalam', 'ADP'),\n",
       " ('video', 'NOUN'),\n",
       " ('pendek', 'ADJ'),\n",
       " ('terbitan', 'NOUN'),\n",
       " ('jabatan', 'NOUN'),\n",
       " ('keselamatan', 'PROPN'),\n",
       " ('jalan', 'PROPN'),\n",
       " ('raya', 'PROPN'),\n",
       " ('jkjr', 'PROPN'),\n",
       " ('itu', 'DET'),\n",
       " ('dr', 'PROPN'),\n",
       " ('mahathir', 'PROPN'),\n",
       " ('menasihati', 'VERB'),\n",
       " ('mereka', 'PRON'),\n",
       " ('supaya', 'SCONJ'),\n",
       " ('berhenti', 'VERB'),\n",
       " ('berehat', 'VERB'),\n",
       " ('dan', 'CCONJ'),\n",
       " ('tidur', 'VERB'),\n",
       " ('sebentar', 'ADV'),\n",
       " ('sekiranya', 'NOUN'),\n",
       " ('mengantuk', 'PROPN'),\n",
       " ('ketika', 'SCONJ'),\n",
       " ('memandu', 'VERB')]"
      ]
     },
     "execution_count": 10,
     "metadata": {},
     "output_type": "execute_result"
    }
   ],
   "source": [
    "entity_network = malaya.pos.deep_model('entity-network')\n",
    "bahdanau = malaya.pos.deep_model('bahdanau')\n",
    "luong = malaya.pos.deep_model('luong')\n",
    "malaya.stack.voting_stack([entity_network, bahdanau, crf], string)"
   ]
  },
  {
   "cell_type": "code",
   "execution_count": null,
   "metadata": {},
   "outputs": [],
   "source": []
  }
 ],
 "metadata": {
  "kernelspec": {
   "display_name": "Python 3",
   "language": "python",
   "name": "python3"
  },
  "language_info": {
   "codemirror_mode": {
    "name": "ipython",
    "version": 3
   },
   "file_extension": ".py",
   "mimetype": "text/x-python",
   "name": "python",
   "nbconvert_exporter": "python",
   "pygments_lexer": "ipython3",
   "version": "3.6.5"
  }
 },
 "nbformat": 4,
 "nbformat_minor": 2
}
