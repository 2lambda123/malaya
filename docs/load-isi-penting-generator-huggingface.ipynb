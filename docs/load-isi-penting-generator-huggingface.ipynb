{
 "cells": [
  {
   "cell_type": "markdown",
   "metadata": {},
   "source": [
    "# Isi Penting Generator HuggingFace"
   ]
  },
  {
   "cell_type": "markdown",
   "metadata": {},
   "source": [
    "Generate a long text given isi penting (important facts)."
   ]
  },
  {
   "cell_type": "markdown",
   "metadata": {},
   "source": [
    "<div class=\"alert alert-info\">\n",
    "\n",
    "This tutorial is available as an IPython notebook at [Malaya/example/isi-penting-generator-huggingface](https://github.com/huseinzol05/Malaya/tree/master/example/isi-penting-generator-huggingface).\n",
    "    \n",
    "</div>"
   ]
  },
  {
   "cell_type": "markdown",
   "metadata": {},
   "source": [
    "<div class=\"alert alert-warning\">\n",
    "\n",
    "This module trained heavily on news structure.\n",
    "    \n",
    "</div>"
   ]
  },
  {
   "cell_type": "markdown",
   "metadata": {},
   "source": [
    "<div class=\"alert alert-warning\">\n",
    "\n",
    "Results generated using stochastic methods.\n",
    "    \n",
    "</div>"
   ]
  },
  {
   "cell_type": "code",
   "execution_count": 1,
   "metadata": {},
   "outputs": [
    {
     "name": "stdout",
     "output_type": "stream",
     "text": [
      "CPU times: user 3.22 s, sys: 3.4 s, total: 6.62 s\n",
      "Wall time: 2.53 s\n"
     ]
    }
   ],
   "source": [
    "%%time\n",
    "import malaya\n",
    "from pprint import pprint"
   ]
  },
  {
   "cell_type": "markdown",
   "metadata": {},
   "source": [
    "### List available HuggingFace"
   ]
  },
  {
   "cell_type": "code",
   "execution_count": 2,
   "metadata": {},
   "outputs": [
    {
     "data": {
      "text/html": [
       "<div>\n",
       "<style scoped>\n",
       "    .dataframe tbody tr th:only-of-type {\n",
       "        vertical-align: middle;\n",
       "    }\n",
       "\n",
       "    .dataframe tbody tr th {\n",
       "        vertical-align: top;\n",
       "    }\n",
       "\n",
       "    .dataframe thead th {\n",
       "        text-align: right;\n",
       "    }\n",
       "</style>\n",
       "<table border=\"1\" class=\"dataframe\">\n",
       "  <thead>\n",
       "    <tr style=\"text-align: right;\">\n",
       "      <th></th>\n",
       "      <th>Size (MB)</th>\n",
       "      <th>BLEU</th>\n",
       "      <th>ROUGE-1</th>\n",
       "      <th>ROUGE-2</th>\n",
       "      <th>ROUGE-L</th>\n",
       "      <th>Suggested length</th>\n",
       "    </tr>\n",
       "  </thead>\n",
       "  <tbody>\n",
       "    <tr>\n",
       "      <th>mesolitica/finetune-isi-penting-generator-t5-small-standard-bahasa-cased</th>\n",
       "      <td>242.0</td>\n",
       "      <td>61.559203</td>\n",
       "      <td>0.246203</td>\n",
       "      <td>0.058961</td>\n",
       "      <td>0.15159</td>\n",
       "      <td>1024.0</td>\n",
       "    </tr>\n",
       "    <tr>\n",
       "      <th>mesolitica/finetune-isi-penting-generator-t5-base-standard-bahasa-cased</th>\n",
       "      <td>892.0</td>\n",
       "      <td>58.764876</td>\n",
       "      <td>0.246203</td>\n",
       "      <td>0.058961</td>\n",
       "      <td>0.15159</td>\n",
       "      <td>1024.0</td>\n",
       "    </tr>\n",
       "  </tbody>\n",
       "</table>\n",
       "</div>"
      ],
      "text/plain": [
       "                                                    Size (MB)       BLEU  \\\n",
       "mesolitica/finetune-isi-penting-generator-t5-sm...      242.0  61.559203   \n",
       "mesolitica/finetune-isi-penting-generator-t5-ba...      892.0  58.764876   \n",
       "\n",
       "                                                     ROUGE-1   ROUGE-2  \\\n",
       "mesolitica/finetune-isi-penting-generator-t5-sm...  0.246203  0.058961   \n",
       "mesolitica/finetune-isi-penting-generator-t5-ba...  0.246203  0.058961   \n",
       "\n",
       "                                                    ROUGE-L  Suggested length  \n",
       "mesolitica/finetune-isi-penting-generator-t5-sm...  0.15159            1024.0  \n",
       "mesolitica/finetune-isi-penting-generator-t5-ba...  0.15159            1024.0  "
      ]
     },
     "execution_count": 2,
     "metadata": {},
     "output_type": "execute_result"
    }
   ],
   "source": [
    "malaya.generator.isi_penting.available_huggingface()"
   ]
  },
  {
   "cell_type": "markdown",
   "metadata": {},
   "source": [
    "### Load HuggingFace\n",
    "\n",
    "Transformer Generator in Malaya is quite unique, most of the text generative model we found on the internet like GPT2 or Markov, simply just continue prefix input from user, but not for Transformer Generator. We want to generate an article or karangan like high school when the users give 'isi penting'.\n",
    "\n",
    "```python\n",
    "def huggingface(model: str = 'mesolitica/finetune-isi-penting-generator-t5-base-standard-bahasa-cased', **kwargs):\n",
    "    \"\"\"\n",
    "    Load HuggingFace model to generate text based on isi penting.\n",
    "\n",
    "    Parameters\n",
    "    ----------\n",
    "    model: str, optional (default='mesolitica/finetune-isi-penting-generator-t5-base-standard-bahasa-cased')\n",
    "        Check available models at `malaya.generator.isi_penting.available_huggingface()`.\n",
    "\n",
    "    Returns\n",
    "    -------\n",
    "    result: malaya.torch_model.huggingface.IsiPentingGenerator\n",
    "    \"\"\"\n",
    "```"
   ]
  },
  {
   "cell_type": "code",
   "execution_count": 28,
   "metadata": {},
   "outputs": [],
   "source": [
    "model = malaya.generator.isi_penting.huggingface()"
   ]
  },
  {
   "cell_type": "markdown",
   "metadata": {},
   "source": [
    "#### generate\n",
    "\n",
    "```python\n",
    "def generate(\n",
    "    self,\n",
    "    strings: List[str],\n",
    "    **kwargs,\n",
    "):\n",
    "    \"\"\"\n",
    "    generate a long text given a isi penting.\n",
    "\n",
    "    Parameters\n",
    "    ----------\n",
    "    strings : List[str]\n",
    "    **kwargs: vector arguments pass to huggingface `generate` method.\n",
    "        Read more at https://huggingface.co/docs/transformers/main_classes/text_generation\n",
    "\n",
    "    Returns\n",
    "    -------\n",
    "    result: List[str]\n",
    "    \"\"\"\n",
    "```"
   ]
  },
  {
   "cell_type": "markdown",
   "metadata": {},
   "source": [
    "### Good thing about HuggingFace\n",
    "\n",
    "In `generate` method, you can do greedy, beam, sampling, nucleus decoder and so much more, read it at https://huggingface.co/blog/how-to-generate\n",
    "\n",
    "And recently, huggingface released https://huggingface.co/blog/introducing-csearch"
   ]
  },
  {
   "cell_type": "code",
   "execution_count": 6,
   "metadata": {},
   "outputs": [],
   "source": [
    "isi_penting = ['Dr M perlu dikekalkan sebagai perdana menteri',\n",
    "              'Muhyiddin perlulah menolong Dr M',\n",
    "              'rakyat perlu menolong Muhyiddin']"
   ]
  },
  {
   "cell_type": "markdown",
   "metadata": {},
   "source": [
    "I just want to test the model given this isi penting, because we all know, Dr M and Muhyiddin are not supporting each others in the real world."
   ]
  },
  {
   "cell_type": "code",
   "execution_count": 7,
   "metadata": {},
   "outputs": [
    {
     "name": "stdout",
     "output_type": "stream",
     "text": [
      "['KEMENANGAN Perdana Menteri, Tun Dr Mahathir Mohamad sebagai perdana menteri '\n",
      " 'tidak boleh diulangi. Itu luahan Ahli Parlimen Sembrong, Datuk Seri Dr Wan '\n",
      " \"Azizah Wan Ismail yang menyifatkan Dr Mahathir sebagai 'pendirian' beliau. \"\n",
      " '\"Beliau (Dr Mahathir) perlu dikekalkan sebagai perdana menteri. \"Saya tidak '\n",
      " 'boleh cakap apa-apa,\" katanya kepada pemberita selepas merasmikan '\n",
      " 'Persidangan Perwakilan UMNO Bahagian Sembrong di Pusat Dagangan Dunia Putra '\n",
      " '(PWTC), hari ini. Beliau mengulas kenyataan Presiden UMNO, Datuk Seri Dr '\n",
      " \"Ahmad Zahid Hamidi yang menyifatkan Dr Mahathir sebagai 'pendirian' beliau. \"\n",
      " 'Dr Mahathir yang juga Menteri Dalam Negeri berkata, rakyat perlu membantu '\n",
      " 'Muhyiddin. \"Rakyat perlu bantu Muhyiddin... jangan cakap apa-apa. \"Kita '\n",
      " 'tidak boleh buat apa-apa,\" katanya.']\n"
     ]
    }
   ],
   "source": [
    "pprint(model.generate(isi_penting,\n",
    "    max_length=256,\n",
    "    penalty_alpha=0.6, top_k=4))"
   ]
  },
  {
   "cell_type": "markdown",
   "metadata": {},
   "source": [
    "Pretty good!"
   ]
  },
  {
   "cell_type": "code",
   "execution_count": 20,
   "metadata": {},
   "outputs": [],
   "source": [
    "isi_penting = ['Neelofa tetap dengan keputusan untuk berkahwin akhir tahun ini',\n",
    "              'Long Tiger sanggup membantu Neelofa',\n",
    "              'Tiba-tiba Long Tiger bergaduh dengan Husein']"
   ]
  },
  {
   "cell_type": "markdown",
   "metadata": {},
   "source": [
    "We also can give any isi penting even does not make any sense."
   ]
  },
  {
   "cell_type": "code",
   "execution_count": 27,
   "metadata": {},
   "outputs": [
    {
     "name": "stdout",
     "output_type": "stream",
     "text": [
      "['KUALA LUMPUR: Long Tiger, yang pernah mendapat status selebriti menerusi '\n",
      " 'drama Lailatul Qadar, sanggup membantu Neelofa yang beraksi di pentas akhir '\n",
      " 'tahun ini. Neelofa tetap dengan keputusannya untuk berkahwin nanti, namun, '\n",
      " 'Long Tiger sanggup membantu Neelofa, jika sanggup beraksi di pentas akhir '\n",
      " 'tahun ini. Bagaimanapun, katanya, kejadian berlaku ketika Long Tiger '\n",
      " 'bergaduh dengan Husein, sebelum itu. \"Apabila dia (Hudley) hendak beraksi, '\n",
      " 'jadi dia (Hudley) sanggup bantu. \"Bagaimanapun, kali ini, saya terpaksa '\n",
      " 'bergaduh. Tiba-tiba saya bergaduh sesama lelaki. \"Saya tidak nampak sebab '\n",
      " 'dia tak pasti,\" katanya ketika ditemui di majlis perkahwinan Neelofa yang '\n",
      " 'berlangsung hari ini. Dalam aksi tumbuk dengan Husein itu, Long Tiger '\n",
      " 'mengeluarkan sepucuk pistol kepada Neelofa untuk tujuan menyelamatkan. \"Saya '\n",
      " 'sendiri tidak tahu jika mereka mahu melawan Warat Azab dalam drama Lailatul '\n",
      " 'Qadar. Namun, kerana tidak tahan berdepan masalah, saya terpanggil untuk '\n",
      " 'berjumpa dengannya. \"Saya berharap sudah bersedia untuk bernaung di bawah '\n",
      " \"program realiti 'Support' yang mana saya percaya ramai akan hadir \"\n",
      " 'menjayakannya,\" kata Long Tiger']\n"
     ]
    }
   ],
   "source": [
    "pprint(model.generate(isi_penting, do_sample=True,\n",
    "    max_length=256,\n",
    "    top_k=50, \n",
    "    top_p=0.99, ))"
   ]
  }
 ],
 "metadata": {
  "kernelspec": {
   "display_name": "Python 3 (ipykernel)",
   "language": "python",
   "name": "python3"
  },
  "language_info": {
   "codemirror_mode": {
    "name": "ipython",
    "version": 3
   },
   "file_extension": ".py",
   "mimetype": "text/x-python",
   "name": "python",
   "nbconvert_exporter": "python",
   "pygments_lexer": "ipython3",
   "version": "3.8.10"
  },
  "varInspector": {
   "cols": {
    "lenName": 16,
    "lenType": 16,
    "lenVar": 40
   },
   "kernels_config": {
    "python": {
     "delete_cmd_postfix": "",
     "delete_cmd_prefix": "del ",
     "library": "var_list.py",
     "varRefreshCmd": "print(var_dic_list())"
    },
    "r": {
     "delete_cmd_postfix": ") ",
     "delete_cmd_prefix": "rm(",
     "library": "var_list.r",
     "varRefreshCmd": "cat(var_dic_list()) "
    }
   },
   "types_to_exclude": [
    "module",
    "function",
    "builtin_function_or_method",
    "instance",
    "_Feature"
   ],
   "window_display": false
  }
 },
 "nbformat": 4,
 "nbformat_minor": 2
}
