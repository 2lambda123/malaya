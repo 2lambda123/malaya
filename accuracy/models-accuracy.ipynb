{
 "cells": [
  {
   "cell_type": "markdown",
   "metadata": {},
   "source": [
    "## Entities Recognition\n",
    "\n",
    "Trained on 80% of dataset, tested on 20% of dataset. All training sessions stored in [session/entities](https://github.com/huseinzol05/Malaya/tree/master/session/entities)\n",
    "\n",
    "![alt text](https://raw.githubusercontent.com/huseinzol05/Malaya/master/accuracy/ner-accuracy.png)"
   ]
  },
  {
   "cell_type": "markdown",
   "metadata": {},
   "source": [
    "#### Concat\n",
    "\n",
    "```text\n",
    "              precision    recall  f1-score   support\n",
    "\n",
    "       OTHER       1.00      1.00      1.00    498279\n",
    "       event       0.98      0.99      0.99      2217\n",
    "         law       0.99      0.99      0.99      1610\n",
    "    location       0.99      1.00      1.00     20194\n",
    "organization       0.99      0.99      0.99     26093\n",
    "      person       1.00      0.99      1.00     43377\n",
    "    quantity       1.00      1.00      1.00     13180\n",
    "        time       0.99      1.00      0.99     12750\n",
    "\n",
    " avg / total       1.00      1.00      1.00    617700\n",
    "```"
   ]
  },
  {
   "cell_type": "markdown",
   "metadata": {},
   "source": [
    "#### Bahdanau\n",
    "\n",
    "```text\n",
    "              precision    recall  f1-score   support\n",
    "\n",
    "       OTHER       1.00      1.00      1.00    498587\n",
    "       event       0.98      0.99      0.98      2212\n",
    "         law       1.00      0.99      0.99      1746\n",
    "    location       0.99      1.00      1.00     20387\n",
    "organization       0.99      1.00      1.00     25376\n",
    "      person       1.00      1.00      1.00     43158\n",
    "    quantity       1.00      1.00      1.00     13581\n",
    "        time       0.99      1.00      0.99     12653\n",
    "\n",
    " avg / total       1.00      1.00      1.00    617700\n",
    "```"
   ]
  },
  {
   "cell_type": "markdown",
   "metadata": {},
   "source": [
    "#### Luong\n",
    "\n",
    "```text\n",
    "              precision    recall  f1-score   support\n",
    "\n",
    "       OTHER       1.00      1.00      1.00    497138\n",
    "       event       0.99      0.99      0.99      2331\n",
    "         law       0.99      0.99      0.99      1872\n",
    "    location       0.99      1.00      1.00     20671\n",
    "organization       0.99      1.00      0.99     25942\n",
    "      person       0.99      1.00      1.00     43511\n",
    "    quantity       1.00      1.00      1.00     13376\n",
    "        time       1.00      1.00      1.00     12859\n",
    "\n",
    " avg / total       1.00      1.00      1.00    617700\n",
    "```"
   ]
  },
  {
   "cell_type": "markdown",
   "metadata": {},
   "source": [
    "#### Entity-Network\n",
    "\n",
    "```text\n",
    "              precision    recall  f1-score   support\n",
    "\n",
    "       OTHER       1.00      1.00      1.00    497198\n",
    "       event       0.98      0.95      0.96      2381\n",
    "         law       0.99      0.97      0.98      1881\n",
    "    location       0.99      0.99      0.99     20305\n",
    "organization       0.99      0.98      0.98     26036\n",
    "      person       0.99      0.99      0.99     43470\n",
    "    quantity       0.99      0.99      0.99     13608\n",
    "        time       0.98      0.99      0.98     12821\n",
    "\n",
    " avg / total       1.00      1.00      1.00    617700\n",
    "```"
   ]
  },
  {
   "cell_type": "markdown",
   "metadata": {},
   "source": [
    "#### CRF\n",
    "\n",
    "```text\n",
    "              precision    recall  f1-score   support\n",
    "\n",
    "    quantity      0.991     0.991     0.991     13891\n",
    "    location      0.987     0.989     0.988     20798\n",
    "        time      0.987     0.977     0.982     13264\n",
    "      person      0.993     0.987     0.990     43590\n",
    "organization      0.974     0.973     0.973     25426\n",
    "       event      0.995     0.983     0.989      2417\n",
    "         law      0.994     0.988     0.991      1686\n",
    "\n",
    " avg / total      0.987     0.983     0.985    121072\n",
    "```"
   ]
  },
  {
   "cell_type": "markdown",
   "metadata": {},
   "source": [
    "#### Attention\n",
    "\n",
    "```text\n",
    "              precision    recall  f1-score   support\n",
    "\n",
    "       OTHER       1.00      1.00      1.00    497073\n",
    "       event       0.99      0.97      0.98      2426\n",
    "         law       1.00      0.99      0.99      1806\n",
    "    location       1.00      1.00      1.00     20176\n",
    "organization       1.00      1.00      1.00     26044\n",
    "      person       1.00      1.00      1.00     44346\n",
    "    quantity       1.00      1.00      1.00     13155\n",
    "        time       0.99      1.00      1.00     12674\n",
    "\n",
    " avg / total       1.00      1.00      1.00    617700\n",
    "```"
   ]
  },
  {
   "cell_type": "code",
   "execution_count": null,
   "metadata": {},
   "outputs": [],
   "source": []
  }
 ],
 "metadata": {
  "kernelspec": {
   "display_name": "Python 3",
   "language": "python",
   "name": "python3"
  },
  "language_info": {
   "codemirror_mode": {
    "name": "ipython",
    "version": 3
   },
   "file_extension": ".py",
   "mimetype": "text/x-python",
   "name": "python",
   "nbconvert_exporter": "python",
   "pygments_lexer": "ipython3",
   "version": "3.6.5"
  }
 },
 "nbformat": 4,
 "nbformat_minor": 2
}
