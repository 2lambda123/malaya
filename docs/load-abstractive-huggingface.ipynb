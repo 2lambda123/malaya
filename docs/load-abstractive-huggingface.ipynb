{
 "cells": [
  {
   "cell_type": "markdown",
   "metadata": {},
   "source": [
    "# Abstractive HuggingFace"
   ]
  },
  {
   "cell_type": "markdown",
   "metadata": {},
   "source": [
    "<div class=\"alert alert-info\">\n",
    "\n",
    "This tutorial is available as an IPython notebook at [Malaya/example/abstractive-summarization-huggingface](https://github.com/huseinzol05/Malaya/tree/master/example/abstractive-summarization-huggingface).\n",
    "    \n",
    "</div>"
   ]
  },
  {
   "cell_type": "markdown",
   "metadata": {},
   "source": [
    "<div class=\"alert alert-warning\">\n",
    "\n",
    "This module only trained on standard language structure, so it is not save to use it for local language structure.\n",
    "    \n",
    "</div>"
   ]
  },
  {
   "cell_type": "markdown",
   "metadata": {},
   "source": [
    "<div class=\"alert alert-warning\">\n",
    "\n",
    "This module trained heavily on news structure.\n",
    "    \n",
    "</div>"
   ]
  },
  {
   "cell_type": "code",
   "execution_count": 1,
   "metadata": {},
   "outputs": [],
   "source": [
    "import os\n",
    "\n",
    "os.environ['CUDA_VISIBLE_DEVICES'] = ''"
   ]
  },
  {
   "cell_type": "code",
   "execution_count": 2,
   "metadata": {},
   "outputs": [],
   "source": [
    "import logging\n",
    "\n",
    "logging.basicConfig(level=logging.INFO)"
   ]
  },
  {
   "cell_type": "code",
   "execution_count": 3,
   "metadata": {},
   "outputs": [
    {
     "name": "stderr",
     "output_type": "stream",
     "text": [
      "/home/husein/dev/malaya/malaya/tokenizer.py:208: FutureWarning: Possible nested set at position 3372\n",
      "  self.tok = re.compile(r'({})'.format('|'.join(pipeline)))\n",
      "/home/husein/dev/malaya/malaya/tokenizer.py:208: FutureWarning: Possible nested set at position 3890\n",
      "  self.tok = re.compile(r'({})'.format('|'.join(pipeline)))\n"
     ]
    },
    {
     "name": "stdout",
     "output_type": "stream",
     "text": [
      "CPU times: user 3.15 s, sys: 3.52 s, total: 6.67 s\n",
      "Wall time: 2.17 s\n"
     ]
    }
   ],
   "source": [
    "%%time\n",
    "import malaya\n",
    "from pprint import pprint"
   ]
  },
  {
   "cell_type": "code",
   "execution_count": 4,
   "metadata": {},
   "outputs": [],
   "source": [
    "import warnings\n",
    "warnings.filterwarnings('default')"
   ]
  },
  {
   "cell_type": "code",
   "execution_count": 5,
   "metadata": {},
   "outputs": [],
   "source": [
    "import re\n",
    "\n",
    "# minimum cleaning, just simply to remove newlines.\n",
    "def cleaning(string):\n",
    "    string = string.replace('\\n', ' ')\n",
    "    string = re.sub(r'[ ]+', ' ', string).strip()\n",
    "    return string"
   ]
  },
  {
   "cell_type": "markdown",
   "metadata": {},
   "source": [
    "I am going to simply copy paste some local news into this notebook. I will search about `isu mahathir` in google news, [link here](https://www.google.com/search?q=isu+mahathir&sxsrf=ALeKk02V_bAJC3sSrV38JQgGYWL_mE0biw:1589951900053&source=lnms&tbm=nws&sa=X&ved=2ahUKEwjapNmx2MHpAhVp_XMBHRt7BEQQ_AUoAnoECCcQBA&biw=1440&bih=648&dpr=2)."
   ]
  },
  {
   "cell_type": "markdown",
   "metadata": {},
   "source": [
    "**link**: https://www.hmetro.com.my/mutakhir/2020/05/580438/peletakan-jawatan-tun-m-ditolak-bukan-lagi-isu\n",
    "\n",
    "**Title**: Peletakan jawatan Tun M ditolak, bukan lagi isu.\n",
    "\n",
    "**Body**: PELETAKAN jawatan Tun Dr Mahathir Mohamad sebagai Pengerusi Parti Pribumi Bersatu Malaysia (Bersatu) ditolak di dalam mesyuarat khas Majlis Pimpinan Tertinggi (MPT) pada 24 Februari lalu.\n",
    "\n",
    "Justeru, tidak timbul soal peletakan jawatan itu sah atau tidak kerana ia sudah pun diputuskan pada peringkat parti yang dipersetujui semua termasuk Presiden, Tan Sri Muhyiddin Yassin.\n",
    "\n",
    "Bekas Setiausaha Agung Bersatu Datuk Marzuki Yahya berkata, pada mesyuarat itu MPT sebulat suara menolak peletakan jawatan Dr Mahathir.\n",
    "\n",
    "\"Jadi ini agak berlawanan dengan keputusan yang kita sudah buat. Saya tak faham bagaimana Jabatan Pendaftar Pertubuhan Malaysia (JPPM) kata peletakan jawatan itu sah sedangkan kita sudah buat keputusan di dalam mesyuarat, bukan seorang dua yang buat keputusan.\n",
    "\n",
    "\"Semua keputusan mesti dibuat melalui parti. Walau apa juga perbincangan dibuat di luar daripada keputusan mesyuarat, ini bukan keputusan parti.\n",
    "\n",
    "\"Apa locus standy yang ada pada Setiausaha Kerja untuk membawa perkara ini kepada JPPM. Seharusnya ia dibawa kepada Setiausaha Agung sebagai pentadbir kepada parti,\" katanya kepada Harian Metro.\n",
    "\n",
    "Beliau mengulas laporan media tempatan hari ini mengenai pengesahan JPPM bahawa Dr Mahathir tidak lagi menjadi Pengerusi Bersatu berikutan peletakan jawatannya di tengah-tengah pergolakan politik pada akhir Februari adalah sah.\n",
    "\n",
    "Laporan itu juga menyatakan, kedudukan Muhyiddin Yassin memangku jawatan itu juga sah.\n",
    "\n",
    "Menurutnya, memang betul Dr Mahathir menghantar surat peletakan jawatan, tetapi ditolak oleh MPT.\n",
    "\n",
    "\"Fasal yang disebut itu terpakai sekiranya berhenti atau diberhentikan, tetapi ini mesyuarat sudah menolak,\" katanya.\n",
    "\n",
    "Marzuki turut mempersoal kenyataan media yang dibuat beberapa pimpinan parti itu hari ini yang menyatakan sokongan kepada Perikatan Nasional.\n",
    "\n",
    "\"Kenyataan media bukanlah keputusan rasmi. Walaupun kita buat 1,000 kenyataan sekali pun ia tetap tidak merubah keputusan yang sudah dibuat di dalam mesyuarat. Kita catat di dalam minit apa yang berlaku di dalam mesyuarat,\" katanya."
   ]
  },
  {
   "cell_type": "code",
   "execution_count": 6,
   "metadata": {},
   "outputs": [],
   "source": [
    "string = \"\"\"\n",
    "PELETAKAN jawatan Tun Dr Mahathir Mohamad sebagai Pengerusi Parti Pribumi Bersatu Malaysia (Bersatu) ditolak di dalam mesyuarat khas Majlis Pimpinan Tertinggi (MPT) pada 24 Februari lalu.\n",
    "\n",
    "Justeru, tidak timbul soal peletakan jawatan itu sah atau tidak kerana ia sudah pun diputuskan pada peringkat parti yang dipersetujui semua termasuk Presiden, Tan Sri Muhyiddin Yassin.\n",
    "\n",
    "Bekas Setiausaha Agung Bersatu Datuk Marzuki Yahya berkata, pada mesyuarat itu MPT sebulat suara menolak peletakan jawatan Dr Mahathir.\n",
    "\n",
    "\"Jadi ini agak berlawanan dengan keputusan yang kita sudah buat. Saya tak faham bagaimana Jabatan Pendaftar Pertubuhan Malaysia (JPPM) kata peletakan jawatan itu sah sedangkan kita sudah buat keputusan di dalam mesyuarat, bukan seorang dua yang buat keputusan.\n",
    "\n",
    "\"Semua keputusan mesti dibuat melalui parti. Walau apa juga perbincangan dibuat di luar daripada keputusan mesyuarat, ini bukan keputusan parti.\n",
    "\n",
    "\"Apa locus standy yang ada pada Setiausaha Kerja untuk membawa perkara ini kepada JPPM. Seharusnya ia dibawa kepada Setiausaha Agung sebagai pentadbir kepada parti,\" katanya kepada Harian Metro.\n",
    "\n",
    "Beliau mengulas laporan media tempatan hari ini mengenai pengesahan JPPM bahawa Dr Mahathir tidak lagi menjadi Pengerusi Bersatu berikutan peletakan jawatannya di tengah-tengah pergolakan politik pada akhir Februari adalah sah.\n",
    "\n",
    "Laporan itu juga menyatakan, kedudukan Muhyiddin Yassin memangku jawatan itu juga sah.\n",
    "\n",
    "Menurutnya, memang betul Dr Mahathir menghantar surat peletakan jawatan, tetapi ditolak oleh MPT.\n",
    "\n",
    "\"Fasal yang disebut itu terpakai sekiranya berhenti atau diberhentikan, tetapi ini mesyuarat sudah menolak,\" katanya.\n",
    "\n",
    "Marzuki turut mempersoal kenyataan media yang dibuat beberapa pimpinan parti itu hari ini yang menyatakan sokongan kepada Perikatan Nasional.\n",
    "\n",
    "\"Kenyataan media bukanlah keputusan rasmi. Walaupun kita buat 1,000 kenyataan sekali pun ia tetap tidak merubah keputusan yang sudah dibuat di dalam mesyuarat. Kita catat di dalam minit apa yang berlaku di dalam mesyuarat,\" katanya.\n",
    "\"\"\"\n",
    "\n",
    "string = cleaning(string)"
   ]
  },
  {
   "cell_type": "markdown",
   "metadata": {},
   "source": [
    "**Link**: https://www.malaysiakini.com/news/525953\n",
    "\n",
    "**Title**: Mahathir jangan hipokrit isu kes mahkamah Riza, kata Takiyuddin\n",
    "\n",
    "**Body**: Menteri undang-undang Takiyuddin Hassan berkata kerajaan berharap Dr Mahathir Mohamad tidak bersikap hipokrit dengan mengatakan beliau tertanya-tanya dan tidak faham dengan keputusan mahkamah melepas tanpa membebaskan (DNAA) Riza Aziz, anak tiri bekas perdana menteri Najib Razak, dalam kes pengubahan wang haram membabitkan dana 1MDB.\n",
    "\n",
    "Pemimpin PAS itu berkata ini kerana keputusan itu dibuat oleh peguam negara dan dilaksanakan oleh timbalan pendakwa raya yang mengendalikan kes tersebut pada akhir 2019.\n",
    "\n",
    "“Saya merujuk kepada kenyataan Dr Mahathir tentang tindakan Mahkamah Sesyen memberikan pelepasan tanpa pembebasan (discharge not amounting to acquittal) kepada Riza Aziz baru-baru ini.\n",
    "\n",
    "“Kerajaan berharap Dr Mahathir tidak bersikap hipokrit dengan mengatakan beliau ‘tertanya-tanya’, keliru dan tidak faham terhadap suatu keputusan yang dibuat oleh Peguam Negara dan dilaksanakan oleh Timbalan Pendakwa Raya yang mengendalikan kes ini pada akhir tahun 2019,” katanya dalam satu kenyataan hari ini.\n",
    "\n",
    "Riza pada Khamis dilepas tanpa dibebaskan daripada lima pertuduhan pengubahan wang berjumlah AS$248 juta (RM1.08 bilion).\n",
    "\n",
    "Dalam persetujuan yang dicapai antara pihak Riza dan pendakwaan, beliau dilepas tanpa dibebaskan atas pertuduhan itu dengan syarat memulangkan semula aset dari luar negara dengan nilai anggaran AS$107.3 juta (RM465.3 juta).\n",
    "\n",
    "Ekoran itu, Mahathir antara lain menyuarakan kekhuatirannya berkenaan persetujuan itu dan mempersoalkan jika pihak yang didakwa atas tuduhan mencuri boleh terlepas daripada tindakan jika memulangkan semula apa yang dicurinya.\n",
    "\n",
    "\"Dia curi berbilion-bilion...Dia bagi balik kepada kerajaan. Dia kata kepada kerajaan, 'Nah, duit yang aku curi. Sekarang ini, jangan ambil tindakan terhadap aku.' Kita pun kata, 'Sudah bagi balik duit okey lah',\" katanya.\n",
    "\n",
    "Menjelaskan bahawa beliau tidak mempersoalkan keputusan mahkamah, Mahathir pada masa sama berkata ia menunjukkan undang-undang mungkin perlu dipinda.\n",
    "\n",
    "Mengulas lanjut, Takiyuddin yang juga setiausaha agung PAS berkata\n",
    "kenyataan Mahathir tidak munasabah sebagai bekas perdana menteri.\n",
    "\n",
    "\"Kerajaan berharap Dr Mahathir tidak terus bertindak mengelirukan rakyat dengan mengatakan beliau ‘keliru’.\n",
    "\n",
    "“Kerajaan PN akan terus bertindak mengikut undang-undang dan berpegang kepada prinsip kebebasan badan kehakiman dan proses perundangan yang sah,” katanya."
   ]
  },
  {
   "cell_type": "code",
   "execution_count": 7,
   "metadata": {},
   "outputs": [],
   "source": [
    "string2 = \"\"\"\n",
    "Menteri undang-undang Takiyuddin Hassan berkata kerajaan berharap Dr Mahathir Mohamad tidak bersikap hipokrit dengan mengatakan beliau tertanya-tanya dan tidak faham dengan keputusan mahkamah melepas tanpa membebaskan (DNAA) Riza Aziz, anak tiri bekas perdana menteri Najib Razak, dalam kes pengubahan wang haram membabitkan dana 1MDB.\n",
    "\n",
    "Pemimpin PAS itu berkata ini kerana keputusan itu dibuat oleh peguam negara dan dilaksanakan oleh timbalan pendakwa raya yang mengendalikan kes tersebut pada akhir 2019.\n",
    "\n",
    "“Saya merujuk kepada kenyataan Dr Mahathir tentang tindakan Mahkamah Sesyen memberikan pelepasan tanpa pembebasan (discharge not amounting to acquittal) kepada Riza Aziz baru-baru ini.\n",
    "\n",
    "“Kerajaan berharap Dr Mahathir tidak bersikap hipokrit dengan mengatakan beliau ‘tertanya-tanya’, keliru dan tidak faham terhadap suatu keputusan yang dibuat oleh Peguam Negara dan dilaksanakan oleh Timbalan Pendakwa Raya yang mengendalikan kes ini pada akhir tahun 2019,” katanya dalam satu kenyataan hari ini.\n",
    "\n",
    "Riza pada Khamis dilepas tanpa dibebaskan daripada lima pertuduhan pengubahan wang berjumlah AS$248 juta (RM1.08 bilion).\n",
    "\n",
    "Dalam persetujuan yang dicapai antara pihak Riza dan pendakwaan, beliau dilepas tanpa dibebaskan atas pertuduhan itu dengan syarat memulangkan semula aset dari luar negara dengan nilai anggaran AS$107.3 juta (RM465.3 juta).\n",
    "\n",
    "Ekoran itu, Mahathir antara lain menyuarakan kekhuatirannya berkenaan persetujuan itu dan mempersoalkan jika pihak yang didakwa atas tuduhan mencuri boleh terlepas daripada tindakan jika memulangkan semula apa yang dicurinya.\n",
    "\n",
    "\"Dia curi berbilion-bilion...Dia bagi balik kepada kerajaan. Dia kata kepada kerajaan, 'Nah, duit yang aku curi. Sekarang ini, jangan ambil tindakan terhadap aku.' Kita pun kata, 'Sudah bagi balik duit okey lah',\" katanya.\n",
    "\n",
    "Menjelaskan bahawa beliau tidak mempersoalkan keputusan mahkamah, Mahathir pada masa sama berkata ia menunjukkan undang-undang mungkin perlu dipinda.\n",
    "\n",
    "Mengulas lanjut, Takiyuddin yang juga setiausaha agung PAS berkata\n",
    "kenyataan Mahathir tidak munasabah sebagai bekas perdana menteri.\n",
    "\n",
    "\"Kerajaan berharap Dr Mahathir tidak terus bertindak mengelirukan rakyat dengan mengatakan beliau ‘keliru’.\n",
    "\n",
    "“Kerajaan PN akan terus bertindak mengikut undang-undang dan berpegang kepada prinsip kebebasan badan kehakiman dan proses perundangan yang sah,” katanya.\n",
    "\"\"\"\n",
    "\n",
    "string2 = cleaning(string2)"
   ]
  },
  {
   "cell_type": "code",
   "execution_count": 8,
   "metadata": {},
   "outputs": [],
   "source": [
    "string3 = \"\"\"\n",
    "The future looks bleak for Gerakan Tanah Air (GTA), as the possibility of building alliances with other political coalitions slowly withers.\n",
    "\n",
    "Experts believe the unofficial pact is in for a dismal showing and may end up being \"buried\" in the 15th General Election (GE15).\n",
    "\n",
    "They said GTA, which aims to contest more than 120 seats, might end up securing only five seats at most despite having a notable figure — former prime minister Tun Dr Mahathir Mohamad — as its chairman.\n",
    "\n",
    "Associate Professor Dr Awang Azman Awang Pawi said when Dr Mahathir headed Parti Pribumi Bersatu Malaysia (Bersatu) in the previous general election, the party secured only 13 seats.\n",
    "\n",
    "MORE NEWS\n",
    "Bersatu sec-gen: No official discussion to cooperate with GTA in GE15\n",
    "GE15: PN shuts door on GTA\n",
    "Perlis Warisan open for talks, PH and PN snub GTA's electoral pact offer\n",
    "No such thing as 'retirement age' in ibadah, says Tun M [Updated]\n",
    "\"The best it can do is probably win only three to five seats, and that, too, with all-out campaigning.\n",
    "\n",
    "\"Dr Mahathir won only 13 when he was with Bersatu. It is likely that he will do much less under GTA.\n",
    "\n",
    "\"GTA's political future will likely be buried sooner than it thinks,\" he told the New Sunday Times yesterday.\n",
    "\n",
    "The political analyst from Universiti Malaya said GTA's plan to contest 120 seats would be an obstacle for the pact, as the political coalition would find it hard to find worthy and acceptable candidates.\n",
    "\n",
    "GTA is made up of Parti Pejuang Tanah Air (Pejuang), Parti Bumiputera Perkasa Malaysia, Barisan Jemaah Islamiah Se-Malaysia and Parti Ikatan India Muslim Nasional.\n",
    "\n",
    "GTA had previously courted Perikatan Nasional (PN) and Pakatan Harapan (PH) in the run-up to the election.\n",
    "\n",
    "Dr Mahathir had earlier last week said he was willing to \"set his ego aside\" to unite the opposition parties to offer a strong challenge against Barisan Nasional (BN).\n",
    "\n",
    "Last Thursday, PN shut its doors to any cooperation with GTA for GE15, saying it would move ahead with its component parties.\n",
    "\n",
    "So far, GTA has announced eight candidates for GE15: Dr Mahathir for the Langkawi parliamentary seat, Datuk Seri Mukhriz Mahathir for Jerlun, Datuk Amiruddin Hamzah for Kubang Pasu, Datin Che Asmah Ibrahim for Sepang, Mior Nor Haidir Suhaimi for Tapah, Harumaini Omar for Hulu Selangor, Mohd Shaid Rosli for Kuala Selangor and Datuk Seri Khairuddin Abu Hassan for Titiwangsa.\n",
    "\n",
    "Another political analyst, Azmi Hassan, predicted that GTA would have to go it alone, and did not see any chance that Pakatan Harapan (PH) would accept the pact into its fold.\n",
    "\n",
    "He said GTA had little to offer to PH.\n",
    "\n",
    "\"They (GTA) have nothing to add to PH, unlike the Malaysian United Democratic Alliance.\n",
    "\n",
    "\"GTA has no political history, and its performance in the Johor election showed how weak Pejuang's influence is.\"\n",
    "\n",
    "He said GTA should concentrate in areas that it could perform well, such as Kedah where Dr Mahathir and Mukhriz would defend their seats.\n",
    "\"\"\"\n",
    "\n",
    "string3 = cleaning(string3)"
   ]
  },
  {
   "cell_type": "markdown",
   "metadata": {},
   "source": [
    "### List available HuggingFace models"
   ]
  },
  {
   "cell_type": "code",
   "execution_count": 9,
   "metadata": {
    "scrolled": true
   },
   "outputs": [
    {
     "name": "stderr",
     "output_type": "stream",
     "text": [
      "INFO:malaya.summarization.abstractive:tested on translated validation set CNN Daily Mail, https://huggingface.co/mesolitica\n"
     ]
    },
    {
     "data": {
      "text/html": [
       "<div>\n",
       "<style scoped>\n",
       "    .dataframe tbody tr th:only-of-type {\n",
       "        vertical-align: middle;\n",
       "    }\n",
       "\n",
       "    .dataframe tbody tr th {\n",
       "        vertical-align: top;\n",
       "    }\n",
       "\n",
       "    .dataframe thead th {\n",
       "        text-align: right;\n",
       "    }\n",
       "</style>\n",
       "<table border=\"1\" class=\"dataframe\">\n",
       "  <thead>\n",
       "    <tr style=\"text-align: right;\">\n",
       "      <th></th>\n",
       "      <th>Size (MB)</th>\n",
       "      <th>BLEU</th>\n",
       "      <th>ROUGE-1</th>\n",
       "      <th>ROUGE-2</th>\n",
       "      <th>ROUGE-L</th>\n",
       "      <th>Suggested length</th>\n",
       "    </tr>\n",
       "  </thead>\n",
       "  <tbody>\n",
       "    <tr>\n",
       "      <th>mesolitica/finetune-summarization-t5-small-standard-bahasa-cased</th>\n",
       "      <td>242.0</td>\n",
       "      <td>61.559203</td>\n",
       "      <td>0.246203</td>\n",
       "      <td>0.058961</td>\n",
       "      <td>0.15159</td>\n",
       "      <td>1024.0</td>\n",
       "    </tr>\n",
       "    <tr>\n",
       "      <th>mesolitica/finetune-summarization-t5-base-standard-bahasa-cased</th>\n",
       "      <td>892.0</td>\n",
       "      <td>58.764876</td>\n",
       "      <td>0.246203</td>\n",
       "      <td>0.058961</td>\n",
       "      <td>0.15159</td>\n",
       "      <td>1024.0</td>\n",
       "    </tr>\n",
       "  </tbody>\n",
       "</table>\n",
       "</div>"
      ],
      "text/plain": [
       "                                                    Size (MB)       BLEU  \\\n",
       "mesolitica/finetune-summarization-t5-small-stan...      242.0  61.559203   \n",
       "mesolitica/finetune-summarization-t5-base-stand...      892.0  58.764876   \n",
       "\n",
       "                                                     ROUGE-1   ROUGE-2  \\\n",
       "mesolitica/finetune-summarization-t5-small-stan...  0.246203  0.058961   \n",
       "mesolitica/finetune-summarization-t5-base-stand...  0.246203  0.058961   \n",
       "\n",
       "                                                    ROUGE-L  Suggested length  \n",
       "mesolitica/finetune-summarization-t5-small-stan...  0.15159            1024.0  \n",
       "mesolitica/finetune-summarization-t5-base-stand...  0.15159            1024.0  "
      ]
     },
     "execution_count": 9,
     "metadata": {},
     "output_type": "execute_result"
    }
   ],
   "source": [
    "malaya.summarization.abstractive.available_huggingface()"
   ]
  },
  {
   "cell_type": "markdown",
   "metadata": {},
   "source": [
    "### Load HuggingFace model\n",
    "\n",
    "```python\n",
    "def huggingface(model: str = 'mesolitica/finetune-summarization-t5-small-standard-bahasa-cased', **kwargs):\n",
    "    \"\"\"\n",
    "    Load HuggingFace model to abstractive summarization.\n",
    "\n",
    "    Parameters\n",
    "    ----------\n",
    "    model: str, optional (default='mesolitica/finetune-summarization-t5-small-standard-bahasa-cased')\n",
    "        Check available models at `malaya.summarization.abstractive.available_huggingface()`.\n",
    "\n",
    "    Returns\n",
    "    -------\n",
    "    result: malaya.torch_model.huggingface.Summarization\n",
    "    \"\"\"\n",
    "```"
   ]
  },
  {
   "cell_type": "code",
   "execution_count": 10,
   "metadata": {},
   "outputs": [],
   "source": [
    "model = malaya.summarization.abstractive.huggingface()"
   ]
  },
  {
   "cell_type": "code",
   "execution_count": 12,
   "metadata": {},
   "outputs": [],
   "source": [
    "model_base = malaya.summarization.abstractive.huggingface(model = 'mesolitica/finetune-summarization-t5-base-standard-bahasa-cased')"
   ]
  },
  {
   "cell_type": "markdown",
   "metadata": {},
   "source": [
    "#### Summarize\n",
    "\n",
    "```python\n",
    "def generate(\n",
    "    self,\n",
    "    strings: List[str],\n",
    "    postprocess: bool = True,\n",
    "    n: int = 2,\n",
    "    threshold: float = 0.1,\n",
    "    reject_similarity: float = 0.85,\n",
    "    **kwargs,\n",
    "):\n",
    "    \"\"\"\n",
    "    Generate texts from the input.\n",
    "\n",
    "    Parameters\n",
    "    ----------\n",
    "    strings : List[str]\n",
    "    postprocess: bool, optional (default=False)\n",
    "        If True, will filter sentence generated using ROUGE score and removed biased generated international news publisher.\n",
    "    n: int, optional (default=2)\n",
    "        N size of rouge to filter\n",
    "    threshold: float, optional (default=0.1)\n",
    "        minimum threshold for N rouge score to select a sentence.\n",
    "    reject_similarity: float, optional (default=0.85)\n",
    "        reject similar sentences while maintain position.\n",
    "    **kwargs: vector arguments pass to huggingface `generate` method.\n",
    "        Read more at https://huggingface.co/docs/transformers/main_classes/text_generation\n",
    "\n",
    "    Returns\n",
    "    -------\n",
    "    result: List[str]\n",
    "    \"\"\"\n",
    "```"
   ]
  },
  {
   "cell_type": "code",
   "execution_count": 16,
   "metadata": {},
   "outputs": [
    {
     "name": "stdout",
     "output_type": "stream",
     "text": [
      "['Tun Dr Mahathir Mohamad telah ditolak jawatan Pengerusi Bersatu. Ahli '\n",
      " 'Parlimen itu sebulat suara menolak peletakan jawatan itu sebagai sah. '\n",
      " 'Laporan media tempatan hari ini mengesahkan bahawa Dr Mahathir tidak lagi '\n",
      " 'menjadi Pengerusi Bersatu.',\n",
      " 'Riza Aziz, anak tiri Najib Razak, dibebaskan tanpa pembebasan. Pemimpin PAS '\n",
      " 'mengatakan keputusan itu dibuat oleh peguam negara. Riza dilepas tanpa '\n",
      " 'dibebaskan dari lima tuduhan pengubahan wang haram.',\n",
      " 'Gerakan Tanah Air mungkin akhirnya \"dikahwinkan\" dalam Pilihan Raya Umum '\n",
      " 'ke-15. Pakar percaya pakatan tidak rasmi itu sesuai untuk menunjukkan suram. '\n",
      " 'Mereka mengatakan bahawa ia mungkin akhirnya memperoleh hanya lima kerusi '\n",
      " 'walaupun mempunyai tokoh terkenal.']\n",
      "CPU times: user 13 s, sys: 0 ns, total: 13 s\n",
      "Wall time: 1.12 s\n"
     ]
    }
   ],
   "source": [
    "%%time\n",
    "\n",
    "pprint(model.generate([string, string2, string3], max_length = 256))"
   ]
  },
  {
   "cell_type": "code",
   "execution_count": 17,
   "metadata": {
    "scrolled": true
   },
   "outputs": [
    {
     "name": "stdout",
     "output_type": "stream",
     "text": [
      "['Tun Dr Mahathir Mohamad tidak lagi menjadi Pengerusi Bersatu. Tetapi MPT '\n",
      " 'sebulat suara menolak peletakan jawatan itu. Marzuki Yahya mengatakan bahawa '\n",
      " 'ia bertentangan dengan keputusan yang sudah dibuat oleh parti.',\n",
      " 'Riza Aziz, anak tiri Najib Razak, dieksekusi dalam kes pengubahan wang '\n",
      " 'haram. Riza dibebaskan tanpa pembebasan atas tuduhan pengubahan wang haram. '\n",
      " 'Dia dibebaskan dengan syarat memulangkan aset dari luar negara dengan nilai '\n",
      " 'anggaran AS $ 112.3 juta. Menteri undang-undang Takiyuddin Hassan mengatakan '\n",
      " \"bahawa dia 'terkejut' dengan keputusan mahkamah.\",\n",
      " 'GTA bertujuan untuk bertanding lebih dari 120 kerusi dalam pilihan raya umum '\n",
      " 'ke-15. Mereka mengatakan bahawa mereka mungkin akhirnya memperoleh hanya '\n",
      " 'lima kerusi walaupun mempunyai tokoh terkenal Tun Dr Mahathir sebagai ketua. '\n",
      " 'GTA telah mengumumkan lapan calon untuk GE15.']\n",
      "CPU times: user 45 s, sys: 0 ns, total: 45 s\n",
      "Wall time: 3.79 s\n"
     ]
    }
   ],
   "source": [
    "%%time\n",
    "\n",
    "pprint(model_base.generate([string, string2, string3], max_length = 256))"
   ]
  },
  {
   "cell_type": "markdown",
   "metadata": {},
   "source": [
    "### Good thing about HuggingFace\n",
    "\n",
    "In `generate` method, you can do greedy, beam, sampling, nucleus decoder and so much more, read it at https://huggingface.co/blog/how-to-generate"
   ]
  },
  {
   "cell_type": "code",
   "execution_count": 22,
   "metadata": {},
   "outputs": [
    {
     "name": "stdout",
     "output_type": "stream",
     "text": [
      "['Pada pertemuan majlis kepemimpinan (MPT), pengurusan parti menolak peletakan '\n",
      " 'jawatan Dr Mahathir sebagai Pengerusi Bersatu Malaysia. Walaupun ada yang '\n",
      " 'mengatakan kes itu sah, itu sudah dipersetujui semua pihak termasuk Presiden '\n",
      " 'Tan Sri Muhyiddin Yassin. Jumlah peletakan jawatan Dr Mahathir yang ditahan '\n",
      " 'tetap tidak berubah.',\n",
      " 'Ahli Parlimen menjatuhkan peletakan jawatan Dr Mahathir pada mesyuarat '\n",
      " 'Majlis Pimpinan Tertinggi. Pengerusi Bersatu dilihat sebagai sah oleh Ahli '\n",
      " 'Parlimen. Pemimpin parti dan pasukan masih belum memberikan keputusan.',\n",
      " 'Ketua Bersatu rasmi menolak kedudukan Tun Dr Mahathir ketika bersidang. Ahli '\n",
      " 'Majlis Pimpinan Tertinggi akan mendengar keputusan pada mesyuarat lain pada '\n",
      " '24 Februari.']\n",
      "CPU times: user 13.5 s, sys: 0 ns, total: 13.5 s\n",
      "Wall time: 1.15 s\n"
     ]
    }
   ],
   "source": [
    "%%time\n",
    "\n",
    "pprint(model.generate([string], \n",
    "    do_sample=True, \n",
    "    max_length=256, \n",
    "    top_p=0.92, \n",
    "    top_k=0,\n",
    "    num_return_sequences=3))"
   ]
  },
  {
   "cell_type": "code",
   "execution_count": 23,
   "metadata": {},
   "outputs": [
    {
     "name": "stdout",
     "output_type": "stream",
     "text": [
      "['Pengerusi Bersatu Malaysia Tun Dr Mahathir Mohamad mendapat jawatan '\n",
      " 'Pengerusi Bersatu pada 24 Februari. Penolakan itu diumumkan ketika '\n",
      " 'berbincang dengan pemimpin parti di Majlis Pimpinan Tertinggi. Datuk Marzuki '\n",
      " 'Yahya mengatakan mesyuarat itu menolak pengunduran Dr Mahathir.',\n",
      " 'Dr Mahathir adalah Pengerusi Parti Pribumi Bersatu Malaysia (Bersatu) yang '\n",
      " 'dibuat untuk jawatan Pengerusi, kata MPT. Jawatan yang diberikan oleh '\n",
      " 'Presiden, Tan Sri Muhyiddin Yassin, untuk jawatan itu juga sah. Datuk '\n",
      " 'Marzuki Yahya mengatakan dalam mesyuarat itu MPT sebulat suara menolak Dr '\n",
      " 'Mahathir kerana sudah dipersetujui semua pihak termasuk Presiden.',\n",
      " \"Bekas Setiausaha Agung Bersatu: 'Saya tidak faham bagaimana keputusan yang \"\n",
      " \"kita buat' MPT sebulat suara menolak peletakan jawatan Tun Dr Mahathir \"\n",
      " 'sebagai Pengerusi Bersatu. Pendaftar PBB mengatakan pengunduran Dr Mahathir '\n",
      " 'adalah sah dan kami sudah memutuskan parti. \"Walaupun kita membuat 1,000 '\n",
      " 'kenyataan sekali pun, ia tetap tidak mengubah keputusan yang sudah dibuat di '\n",
      " 'dalam mesyuarat,\" kata Marzuki Yahya.']\n"
     ]
    }
   ],
   "source": [
    "pprint(model_base.generate([string], \n",
    "    do_sample=True, \n",
    "    max_length=256, \n",
    "    top_p=0.92, \n",
    "    top_k=0,\n",
    "    num_return_sequences=3))"
   ]
  },
  {
   "cell_type": "code",
   "execution_count": 24,
   "metadata": {},
   "outputs": [
    {
     "name": "stdout",
     "output_type": "stream",
     "text": [
      "['Keluarga Riza Aziz tidak dibebaskan dari pengubahan wang haram yang '\n",
      " 'melibatkan wang tersebut. Dia dibebaskan dengan syarat untuk mengembalikan '\n",
      " 'semula aset dari luar negara dengan nilai $ 177.3 juta. Komen PM adalah '\n",
      " 'salah satu tindakan yang tidak munasabah yang dilakukan oleh Peguam Negara, '\n",
      " 'kata menteri.',\n",
      " 'Riza Aziz, anak tiri Najib Razak, dibebaskan tanpa pembebasan. Dia didapati '\n",
      " 'bersalah atas lima tuduhan pengubahan wang haram dengan harga $ 112 juta. '\n",
      " \"Peguam Negara 'tidak setuju dengan keputusan' kerana tuduhan yang tidak akan \"\n",
      " \"dapat dibebaskan. Guangrant berkata, kerajaan berharap Dr Mahathir 'tidak \"\n",
      " \"selalu bersikap hipokrit' dengan mengakui dia 'keliru'\",\n",
      " 'Riza Aziz dilepas tanpa dibebaskan atas tuduhan pengubahan wang haram yang '\n",
      " 'berjumlah AS$ 128 juta (RM1.08 bilion) Penangkapan dibuat semasa keputusan '\n",
      " 'itu dibuat oleh Peguam Negara. Pemimpin PAS berkata, itu kerana keputusan '\n",
      " 'itu dibuat oleh peguam negara dan dilaksanakan oleh timbalan pendakwa raya. '\n",
      " 'Riza dilepas tanpa dibebaskan atas tuduhan itu dengan syarat mengembalikan '\n",
      " 'semula aset dari luar negara dengan nilai anggaran AS $ 107.3 juta.']\n",
      "CPU times: user 19.2 s, sys: 0 ns, total: 19.2 s\n",
      "Wall time: 1.63 s\n"
     ]
    }
   ],
   "source": [
    "%%time\n",
    "\n",
    "pprint(model.generate([string2], \n",
    "    do_sample=True, \n",
    "    max_length=256, \n",
    "    top_p=0.92, \n",
    "    top_k=0,\n",
    "    num_return_sequences=3))"
   ]
  },
  {
   "cell_type": "code",
   "execution_count": 25,
   "metadata": {},
   "outputs": [
    {
     "name": "stdout",
     "output_type": "stream",
     "text": [
      "['Riza Aziz diberi pelepasan tanpa pembebasan dari lima tuduhan pengubahan '\n",
      " \"wang haram. Ketua Peguam Negara Dr Mahathir bertanya kepada Riza: 'Ya, duit \"\n",
      " 'yang saya curi. Sekarang, jangan ambil tindakan terhadap saya. \"Anda tidak '\n",
      " 'boleh mengambil tindakan terhadap saya.\" Kata Menteri Undang-undang '\n",
      " 'Takiyuddin Hassan.',\n",
      " 'Riza Aziz, anak tiri Najib Razak, dilewatkan dalam kes pengubahan wang '\n",
      " 'haram. Tunai dia didakwa membiarkan cucu perempuannya memulangkan aset dari '\n",
      " 'luar negara. Riza tidak dibebaskan dari lima tuduhan pengubahan wang haram '\n",
      " 'berjumlah AS$ 248 juta. Menteri undang-undang Takiyuddin Hassan mengatakan '\n",
      " 'bahawa dia dianiaya dan tidak faham.',\n",
      " 'Pemergian Riza Aziz yang berlebihan telah ditolak dalam kes pengubahan wang '\n",
      " 'haram. Dia dilepas tanpa dibebaskan dari lima tuduhan pengubahan wang haram. '\n",
      " 'Anak tiri Najib Razak disoal mengenai masa lalunya. Menteri undang-undang '\n",
      " 'PAS Takiyuddin Hassan mengatakan kenyataan itu mengelirukan rakyat.']\n",
      "CPU times: user 33.1 s, sys: 0 ns, total: 33.1 s\n",
      "Wall time: 2.79 s\n"
     ]
    }
   ],
   "source": [
    "%%time\n",
    "\n",
    "pprint(model_base.generate([string2], \n",
    "    do_sample=True, \n",
    "    max_length=256, \n",
    "    top_p=0.92, \n",
    "    top_k=0,\n",
    "    num_return_sequences=3))"
   ]
  },
  {
   "cell_type": "code",
   "execution_count": 26,
   "metadata": {},
   "outputs": [
    {
     "name": "stdout",
     "output_type": "stream",
     "text": [
      "[\"Pakar percaya pakatan tidak rasmi mungkin berakhir 'berkahwin' pada pilihan \"\n",
      " 'raya Umum ke-15. Mereka percaya pakatan tidak rasmi itu sesuai untuk '\n",
      " 'menunjukkan suram dan mungkin akan berakhir \"dijodohkan\"',\n",
      " 'Ahli politik GTA mungkin mengakhiri secara besar-besaran memperoleh hanya '\n",
      " 'lima kerusi. Pakar percaya pakatan tidak rasmi itu akan ditunjukkan suram '\n",
      " 'dan \"dikahwinkan\" dalam Pilihan Raya Umum ke-15 (PRU15) GTA juga ingin '\n",
      " 'bertanding lebih daripada 120 kerusi, menurut Prof. Awang Azman Awang Pawi. '\n",
      " 'Penganalisis politik Universiti Malaya mengatakan rancangan GTA untuk '\n",
      " 'bertanding 120 kerusi akan menjadi halangan.',\n",
      " 'PM Dr Mahathir hanya memenangi 13 kerusi semasa dia bersama Bersatu. '\n",
      " 'Penganalisis mengatakan pakatan tidak rasmi akan bertujuan untuk menunjukkan '\n",
      " 'suram. Kemenangan PM mungkin tidak akan dikuburkan oleh pakatan itu, kata '\n",
      " 'penganalisis universiti. PPN menutup pintunya pada Kem Pertengahan untuk '\n",
      " 'kerjasama dalam GE15.']\n",
      "CPU times: user 21.2 s, sys: 8.34 ms, total: 21.2 s\n",
      "Wall time: 1.8 s\n"
     ]
    }
   ],
   "source": [
    "%%time\n",
    "\n",
    "pprint(model.generate([string3], \n",
    "    do_sample=True, \n",
    "    max_length=256, \n",
    "    top_p=0.92, \n",
    "    top_k=0,\n",
    "    num_return_sequences=3))"
   ]
  },
  {
   "cell_type": "code",
   "execution_count": 28,
   "metadata": {},
   "outputs": [
    {
     "name": "stdout",
     "output_type": "stream",
     "text": [
      "['Pakar percaya GTA tidak perlu lagi memerintah dalam PRU15. Pakar memberi '\n",
      " 'amaran bahawa perjanjian tidak rasmi dapat menunjukkan bahawa dia akan '\n",
      " '\"dimakan\" GTA merancang untuk bertanding lebih dari 120 kerusi. Parti boleh '\n",
      " 'akhirnya memenangi hanya lima kerusi.',\n",
      " 'GTA, yang bertujuan untuk peraduan lebih dari 120 kerusi, mungkin akhirnya '\n",
      " 'memperoleh hanya lima kerusi. Terdapat kontroversi sama ada GTA akan '\n",
      " 'mendapatkan sijil populariti. Dr Mahathir memerintah parti Pribumi Bersatu '\n",
      " 'Malaysia, tetapi hanya memperoleh 13. Dr Awang Azman Awang Pawi telah '\n",
      " 'menjanjikan cabaran daripada pakatan.',\n",
      " 'Gamma Parti Tanah Air (GTA) mungkin sedang \"dilahirkan\" dalam pilihan raya '\n",
      " 'umum ke-15. Pakar percaya GTA akan mula mengumpulkan yang terbaik. GTA '\n",
      " 'bertujuan untuk peraduan lebih daripada 120 kerusi. Pelan untuk mengelakkan '\n",
      " 'perbezaan pandangan politik dan pakatan gagal diterima.']\n",
      "CPU times: user 33.3 s, sys: 7.27 ms, total: 33.3 s\n",
      "Wall time: 2.8 s\n"
     ]
    }
   ],
   "source": [
    "%%time\n",
    "\n",
    "pprint(model_base.generate([string3], \n",
    "    do_sample=True, \n",
    "    max_length=256, \n",
    "    top_p=0.92, \n",
    "    top_k=0,\n",
    "    num_return_sequences=3))"
   ]
  }
 ],
 "metadata": {
  "kernelspec": {
   "display_name": "Python 3 (ipykernel)",
   "language": "python",
   "name": "python3"
  },
  "language_info": {
   "codemirror_mode": {
    "name": "ipython",
    "version": 3
   },
   "file_extension": ".py",
   "mimetype": "text/x-python",
   "name": "python",
   "nbconvert_exporter": "python",
   "pygments_lexer": "ipython3",
   "version": "3.8.10"
  },
  "varInspector": {
   "cols": {
    "lenName": 16,
    "lenType": 16,
    "lenVar": 40
   },
   "kernels_config": {
    "python": {
     "delete_cmd_postfix": "",
     "delete_cmd_prefix": "del ",
     "library": "var_list.py",
     "varRefreshCmd": "print(var_dic_list())"
    },
    "r": {
     "delete_cmd_postfix": ") ",
     "delete_cmd_prefix": "rm(",
     "library": "var_list.r",
     "varRefreshCmd": "cat(var_dic_list()) "
    }
   },
   "types_to_exclude": [
    "module",
    "function",
    "builtin_function_or_method",
    "instance",
    "_Feature"
   ],
   "window_display": false
  }
 },
 "nbformat": 4,
 "nbformat_minor": 2
}
