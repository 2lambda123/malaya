{
 "cells": [
  {
   "cell_type": "markdown",
   "metadata": {},
   "source": [
    "## Recurrent neural network\n",
    "\n",
    "Malaya use [Long-Short-Term-Memory](http://colah.github.io/posts/2015-08-Understanding-LSTMs/) for all RNN gates.\n",
    "\n",
    "LSTM References:\n",
    "\n",
    "1. Hochreiter, Sepp; Schmidhuber, Jürgen (1997-11-01). \"Long Short-Term Memory\". Neural Computation. 9 (8): 1735–1780. doi:10.1162/neco.1997.9.8.1735."
   ]
  },
  {
   "cell_type": "markdown",
   "metadata": {},
   "source": [
    "Malaya use recurrent neural network architecture on some models.\n",
    "\n",
    "#### Sentiment Analysis\n",
    "\n",
    "1. `malaya.deep_sentiment('luong')`\n",
    "2. `malaya.deep_sentiment('bahdanau')`\n",
    "3. `malaya.deep_sentiment('hierarchical')`\n",
    "\n",
    "#### Toxicity Analysis\n",
    "\n",
    "1. `malaya.deep_toxic('luong')`\n",
    "2. `malaya.deep_toxic('bahdanau')`\n",
    "3. `malaya.deep_toxic('hierarchical')`\n",
    "\n",
    "#### Entities Recognition\n",
    "\n",
    "1. `malaya.deep_entities('entity-network')`\n",
    "\n",
    "#### POS Recognition\n",
    "\n",
    "1. `malaya.deep_pos('entity-network')`\n",
    "\n",
    "#### Stemmer\n",
    "\n",
    "1. `malaya.deep_stemmer()`\n",
    "\n",
    "\n",
    "You can read more about [Recurrent Neural Network here](http://karpathy.github.io/2015/05/21/rnn-effectiveness/).\n",
    "\n",
    "#### References\n",
    "\n",
    "1. Li, Xiangang; Wu, Xihong (2014-10-15). \"Constructing Long Short-Term Memory based Deep Recurrent Neural Networks for Large Vocabulary Speech Recognition\". arXiv:1410.4281 [cs.CL].\n",
    "\n",
    "2. Hochreiter, Sepp; Schmidhuber, Jürgen (1997-11-01). \"Long Short-Term Memory\". Neural Computation. 9 (8): 1735–1780. doi:10.1162/neco.1997.9.8.1735.\n",
    "\n",
    "3. Schmidhuber, Jürgen (January 2015). \"Deep Learning in Neural Networks: An Overview\". Neural Networks. 61: 85–117. arXiv:1404.7828. doi:10.1016/j.neunet.2014.09.003. PMID 25462637."
   ]
  },
  {
   "cell_type": "markdown",
   "metadata": {},
   "source": [
    "## Bidirectional recurrent neural network\n",
    "\n",
    "Malaya use [Long-Short-Term-Memory](http://colah.github.io/posts/2015-08-Understanding-LSTMs/) for all BiRNN gates.\n",
    "\n",
    "LSTM References:\n",
    "\n",
    "1. Hochreiter, Sepp; Schmidhuber, Jürgen (1997-11-01). \"Long Short-Term Memory\". Neural Computation. 9 (8): 1735–1780. doi:10.1162/neco.1997.9.8.1735."
   ]
  },
  {
   "cell_type": "markdown",
   "metadata": {},
   "source": [
    "Malaya use bidirectional recurrent neural network in some models.\n",
    "\n",
    "#### Sentiment Analysis\n",
    "\n",
    "1. `malaya.deep_sentiment('bidirectional')`\n",
    "\n",
    "#### Entities Recognition\n",
    "\n",
    "1. `malaya.deep_entities('concat')`\n",
    "2. `malaya.deep_entities('bahdanau')`\n",
    "3. `malaya.deep_entities('luong')`\n",
    "\n",
    "#### POS Recognition\n",
    "\n",
    "1. `malaya.deep_pos('concat')`\n",
    "2. `malaya.deep_pos('bahdanau')`\n",
    "3. `malaya.deep_pos('luong')`\n",
    "\n",
    "#### Normalizer\n",
    "\n",
    "1. `malaya.deep_normalizer()`\n",
    "\n",
    "#### Topics & Influencers Analysis\n",
    "\n",
    "1. `malaya.deep_siamese_get_topics()`\n",
    "2. `malaya.deep_siamese_get_influencers()`\n",
    "3. `malaya.deep_get_topics()`\n",
    "4. `malaya.deep_get_influencers()`\n",
    "\n",
    "#### Summarization\n",
    "\n",
    "1. `malaya.summarize_deep_learning()`\n",
    "\n",
    "You can read more about [Bidirectional Recurrent Neural Network here](https://en.wikipedia.org/wiki/Bidirectional_recurrent_neural_networks).\n",
    "\n",
    "#### References\n",
    "\n",
    "1. M. Schuster, K.K. Paliwal. Bidirectional recurrent neural networks (November 1997). https://ieeexplore.ieee.org/document/650093"
   ]
  },
  {
   "cell_type": "markdown",
   "metadata": {},
   "source": [
    "## Seq2Seq"
   ]
  },
  {
   "cell_type": "markdown",
   "metadata": {},
   "source": [
    "Malaya use seq2seq in some models.\n",
    "\n",
    "#### Normalizer\n",
    "\n",
    "1. `malaya.deep_normalizer()`\n",
    "\n",
    "#### Stemmer\n",
    "\n",
    "1. `malaya.deep_stemmer()`\n",
    "\n",
    "You can read more about [Seq2Seq here](https://google.github.io/seq2seq/).\n",
    "\n",
    "#### References\n",
    "\n",
    "1. Ilya Sutskever, Oriol Vinyals: “Sequence to Sequence Learning with Neural Networks”, 2014; [http://arxiv.org/abs/1409.3215 arXiv:1409.3215]."
   ]
  },
  {
   "cell_type": "markdown",
   "metadata": {},
   "source": [
    "## Conditional Random Field"
   ]
  },
  {
   "cell_type": "markdown",
   "metadata": {},
   "source": [
    "Malaya use CRF in some models.\n",
    "\n",
    "#### Entities Recognition\n",
    "\n",
    "1. `malaya.deep_entities('concat')`\n",
    "2. `malaya.deep_entities('bahdanau')`\n",
    "3. `malaya.deep_entities('luong')`\n",
    "4. `malaya.deep_entities('entity-network')`\n",
    "\n",
    "#### POS Recognition\n",
    "\n",
    "1. `malaya.deep_pos('concat')`\n",
    "2. `malaya.deep_pos('bahdanau')`\n",
    "3. `malaya.deep_pos('luong')`\n",
    "4. `malaya.deep_pos('entity-network')`\n",
    "\n",
    "You can read more about [CRF here](http://blog.echen.me/2012/01/03/introduction-to-conditional-random-fields/)\n",
    "\n",
    "#### References\n",
    "\n",
    "1. Zhiheng Huang, Wei Xu: “Bidirectional LSTM-CRF Models for Sequence Tagging”, 2015; [http://arxiv.org/abs/1508.01991 arXiv:1508.01991]."
   ]
  },
  {
   "cell_type": "markdown",
   "metadata": {},
   "source": [
    "## BERT (Deep Bidirectional Transformers)"
   ]
  },
  {
   "cell_type": "markdown",
   "metadata": {},
   "source": [
    "Malaya use BERT in some models.\n",
    "\n",
    "#### Sentiment Analysis\n",
    "\n",
    "1. `malaya.deep_sentiment('bert')`\n",
    "\n",
    "#### References\n",
    "\n",
    "1. Jacob Devlin, Ming-Wei Chang, Kenton Lee: “BERT: Pre-training of Deep Bidirectional Transformers for Language Understanding”, 2018; [http://arxiv.org/abs/1810.04805 arXiv:1810.04805]."
   ]
  },
  {
   "cell_type": "markdown",
   "metadata": {},
   "source": [
    "## Entity-Network"
   ]
  },
  {
   "cell_type": "markdown",
   "metadata": {},
   "source": [
    "Malaya use Entity-Network in some models.\n",
    "\n",
    "#### Sentiment Analysis\n",
    "\n",
    "1. `malaya.deep_sentiment('entity-network')`\n",
    "\n",
    "#### Toxicity Analysis\n",
    "\n",
    "1. `malaya.deep_toxic('entity-network')`\n",
    "\n",
    "#### Entities Recognition\n",
    "\n",
    "1. `malaya.deep_entities('entity-network')`\n",
    "\n",
    "#### POS Recognition\n",
    "\n",
    "1. `malaya.deep_pos('entity-network')`\n",
    "\n",
    "#### References\n",
    "\n",
    "1. Andrea Madotto: “Question Dependent Recurrent Entity Network for Question Answering”, 2017; [http://arxiv.org/abs/1707.07922 arXiv:1707.07922]."
   ]
  },
  {
   "cell_type": "markdown",
   "metadata": {},
   "source": [
    "## Skip-thought Vector"
   ]
  },
  {
   "cell_type": "markdown",
   "metadata": {},
   "source": [
    "Malaya use skip-thought in some models.\n",
    "\n",
    "#### Summarization\n",
    "\n",
    "1. `malaya.summarize_deep_learning()`\n",
    "\n",
    "#### Topics & Influencers Analysis\n",
    "\n",
    "1. `malaya.deep_get_topics()`\n",
    "2. `malaya.deep_get_influencers()`\n",
    "\n",
    "#### References\n",
    "\n",
    "1. Ryan Kiros, Yukun Zhu, Ruslan Salakhutdinov, Richard S. Zemel, Antonio Torralba, Raquel Urtasun: “Skip-Thought Vectors”, 2015; [http://arxiv.org/abs/1506.06726 arXiv:1506.06726]."
   ]
  },
  {
   "cell_type": "markdown",
   "metadata": {},
   "source": [
    "## Siamese Network"
   ]
  },
  {
   "cell_type": "markdown",
   "metadata": {},
   "source": [
    "Malaya use siamese network in some models.\n",
    "\n",
    "#### Topics & Influencers Analysis\n",
    "\n",
    "1. `malaya.deep_siamese_get_topics()`\n",
    "2. `malaya.deep_siamese_get_influencers()`\n",
    "\n",
    "#### References\n",
    "\n",
    "1. Anfeng He, Chong Luo, Xinmei Tian: “A Twofold Siamese Network for Real-Time Object Tracking”, 2018; [http://arxiv.org/abs/1802.08817 arXiv:1802.08817]."
   ]
  },
  {
   "cell_type": "markdown",
   "metadata": {},
   "source": [
    "## Normalizer"
   ]
  },
  {
   "cell_type": "markdown",
   "metadata": {},
   "source": [
    "#### References\n",
    "\n",
    "1. N. Samsudin, Mazidah Puteh, Abdul Razak Hamdan, Mohd Zakree Ahmad Nazri, Normalization of noisy texts in Malaysian online reviews; https://www.researchgate.net/publication/287050449_Normalization_of_noisy_texts_in_Malaysian_online_reviews"
   ]
  },
  {
   "cell_type": "markdown",
   "metadata": {},
   "source": [
    "## XGBoost"
   ]
  },
  {
   "cell_type": "markdown",
   "metadata": {},
   "source": [
    "Malaya use XGBoost in some models.\n",
    "\n",
    "#### Sentiment Analysis\n",
    "\n",
    "1. `malaya.sentiment.pretrained_xgb_sentiment()`\n",
    "\n",
    "#### Language Detection\n",
    "\n",
    "1. `malaya.xgb_detect_languages()`\n",
    "\n",
    "#### References\n",
    "\n",
    "1. Tianqi Chen: “XGBoost: A Scalable Tree Boosting System”, 2016; [http://arxiv.org/abs/1603.02754 arXiv:1603.02754]. DOI: [https://dx.doi.org/10.1145/2939672.2939785 10.1145/2939672.2939785]."
   ]
  },
  {
   "cell_type": "markdown",
   "metadata": {},
   "source": [
    "## Multinomial"
   ]
  },
  {
   "cell_type": "markdown",
   "metadata": {},
   "source": [
    "Malaya use multinomial in some models.\n",
    "\n",
    "#### Sentiment Analysis\n",
    "\n",
    "1. `malaya.sentiment.pretrained_bayes_sentiment()`\n",
    "\n",
    "#### Language Detection\n",
    "\n",
    "1. `malaya.multinomial_detect_languages()`\n",
    "\n",
    "#### Toxicity Analysis\n",
    "\n",
    "1. `malaya.multinomial_detect_toxic()`\n",
    "\n",
    "#### References\n",
    "\n",
    "1. https://medium.com/@johnm.kovachi/implementing-a-multinomial-naive-bayes-classifier-from-scratch-with-python-e70de6a3b92e"
   ]
  },
  {
   "cell_type": "markdown",
   "metadata": {},
   "source": [
    "## Logistic Regression"
   ]
  },
  {
   "cell_type": "markdown",
   "metadata": {},
   "source": [
    "Malaya use logistic regression in some models.\n",
    "\n",
    "#### Toxicity Analysis\n",
    "\n",
    "1. `malaya.logistics_detect_toxic()`\n",
    "\n",
    "#### References\n",
    "\n",
    "1. https://itnext.io/machine-learning-sentiment-analysis-of-movie-reviews-using-logisticregression-62e9622b4532"
   ]
  },
  {
   "cell_type": "code",
   "execution_count": null,
   "metadata": {},
   "outputs": [],
   "source": []
  }
 ],
 "metadata": {
  "kernelspec": {
   "display_name": "Python 3",
   "language": "python",
   "name": "python3"
  },
  "language_info": {
   "codemirror_mode": {
    "name": "ipython",
    "version": 3
   },
   "file_extension": ".py",
   "mimetype": "text/x-python",
   "name": "python",
   "nbconvert_exporter": "python",
   "pygments_lexer": "ipython3",
   "version": "3.6.5"
  }
 },
 "nbformat": 4,
 "nbformat_minor": 2
}
