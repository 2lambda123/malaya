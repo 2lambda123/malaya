{
 "cells": [
  {
   "cell_type": "code",
   "execution_count": 1,
   "metadata": {},
   "outputs": [
    {
     "name": "stderr",
     "output_type": "stream",
     "text": [
      "/usr/local/lib/python3.6/site-packages/sklearn/cross_validation.py:41: DeprecationWarning: This module was deprecated in version 0.18 in favor of the model_selection module into which all the refactored classes and functions are moved. Also note that the interface of the new CV iterators are different from that of this module. This module will be removed in 0.20.\n",
      "  \"This module will be removed in 0.20.\", DeprecationWarning)\n"
     ]
    }
   ],
   "source": [
    "import malaya"
   ]
  },
  {
   "cell_type": "code",
   "execution_count": 2,
   "metadata": {},
   "outputs": [],
   "source": [
    "string = 'KUALA LUMPUR: Sempena sambutan Aidilfitri minggu depan, Perdana Menteri Tun Dr Mahathir Mohamad dan Menteri Pengangkutan Anthony Loke Siew Fook menitipkan pesanan khas kepada orang ramai yang mahu pulang ke kampung halaman masing-masing. Dalam video pendek terbitan Jabatan Keselamatan Jalan Raya (JKJR) itu, Dr Mahathir menasihati mereka supaya berhenti berehat dan tidur sebentar  sekiranya mengantuk ketika memandu.'"
   ]
  },
  {
   "cell_type": "code",
   "execution_count": 3,
   "metadata": {},
   "outputs": [
    {
     "name": "stdout",
     "output_type": "stream",
     "text": [
      "KT - Kata Tanya\n",
      "KJ - Kata Kerja\n",
      "KP - Kata Perintah\n",
      "KPA - Kata Pangkal\n",
      "KB - Kata Bantu\n",
      "KPENGUAT - Kata Penguat\n",
      "KPENEGAS - Kata Penegas\n",
      "NAFI - Kata Nafi\n",
      "KPEMERI - Kata Pemeri\n",
      "KS - Kata Sendi\n",
      "KPEMBENAR - Kata Pembenar\n",
      "NAFI - Kata Nafi\n",
      "NO - Numbers\n",
      "SUKU - Suku Bilangan\n",
      "PISAHAN - Kata Pisahan\n",
      "KETERANGAN - Kata Keterangan\n",
      "ARAH - Kata Arah\n",
      "KH - Kata Hubung\n",
      "GN - Ganti Nama\n",
      "KA - Kata Adjektif\n",
      "O - not related, out scope\n"
     ]
    }
   ],
   "source": [
    "malaya.describe_pos_malaya()"
   ]
  },
  {
   "cell_type": "code",
   "execution_count": 4,
   "metadata": {},
   "outputs": [
    {
     "name": "stdout",
     "output_type": "stream",
     "text": [
      "PRN - person, group of people, believes, etc\n",
      "LOC - location\n",
      "NORP - Military, police, government, Parties, etc\n",
      "ORG - Organization, company\n",
      "LAW - related law document, etc\n",
      "ART - art of work, special names, etc\n",
      "EVENT - event happen, etc\n",
      "FAC - facility, hospitals, clinics, etc\n",
      "TIME - date, day, time, etc\n",
      "O - not related, out scope\n"
     ]
    }
   ],
   "source": [
    "malaya.describe_entities_malaya()"
   ]
  },
  {
   "cell_type": "code",
   "execution_count": 5,
   "metadata": {},
   "outputs": [
    {
     "data": {
      "text/plain": [
       "[('KN', 'kuala'),\n",
       " ('KN', 'lumpur'),\n",
       " ('', ':'),\n",
       " ('KJ', 'sempena'),\n",
       " ('KN', 'sambutan'),\n",
       " ('KJ', 'aidilfitri'),\n",
       " ('KN', 'minggu'),\n",
       " ('KN', 'depan'),\n",
       " ('', ','),\n",
       " ('KJ', 'perdana'),\n",
       " ('KJ', 'menteri'),\n",
       " ('KN', 'tun'),\n",
       " ('', 'dr'),\n",
       " ('KN', 'mahathir'),\n",
       " ('KN', 'mohamad'),\n",
       " ('KH', 'dan'),\n",
       " ('KJ', 'menteri'),\n",
       " ('KJ', 'pengangkutan'),\n",
       " ('KN', 'anthony'),\n",
       " ('KN', 'loke'),\n",
       " ('KN', 'siew'),\n",
       " ('KN', 'fook'),\n",
       " ('KJ', 'menitipkan'),\n",
       " ('KJ', 'pesanan'),\n",
       " ('KN', 'khas'),\n",
       " ('KS', 'kepada'),\n",
       " ('KN', 'orang'),\n",
       " ('KN', 'ramai'),\n",
       " ('KETERANGAN', 'yang'),\n",
       " ('KN', 'mahu'),\n",
       " ('KN', 'pulang'),\n",
       " ('KS', 'ke'),\n",
       " ('KN', 'kampung'),\n",
       " ('KN', 'halaman'),\n",
       " ('KN', 'masing-masing'),\n",
       " ('', '.'),\n",
       " ('KS', 'dalam'),\n",
       " ('KN', 'video'),\n",
       " ('KJ', 'pendek'),\n",
       " ('KJ', 'terbitan'),\n",
       " ('KN', 'jabatan'),\n",
       " ('KJ', 'keselamatan'),\n",
       " ('KN', 'jalan'),\n",
       " ('KN', 'raya'),\n",
       " ('', '('),\n",
       " ('KN', 'jkjr'),\n",
       " ('', ')'),\n",
       " ('GN', 'itu'),\n",
       " ('', ','),\n",
       " ('', 'dr'),\n",
       " ('KN', 'mahathir'),\n",
       " ('KJ', 'menasihati'),\n",
       " ('GN', 'mereka'),\n",
       " ('KH', 'supaya'),\n",
       " ('KJ', 'berhenti'),\n",
       " ('KJ', 'berehat'),\n",
       " ('KH', 'dan'),\n",
       " ('KN', 'tidur'),\n",
       " ('KETERANGAN', 'sebentar'),\n",
       " ('KJ', 'sekiranya'),\n",
       " ('KJ', 'mengantuk'),\n",
       " ('KN', 'ketika'),\n",
       " ('KJ', 'memandu'),\n",
       " ('', '.')]"
      ]
     },
     "execution_count": 5,
     "metadata": {},
     "output_type": "execute_result"
    }
   ],
   "source": [
    "malaya.naive_pos(string)"
   ]
  },
  {
   "cell_type": "code",
   "execution_count": 6,
   "metadata": {},
   "outputs": [
    {
     "data": {
      "text/plain": [
       "['char', 'concat', 'attention']"
      ]
     },
     "execution_count": 6,
     "metadata": {},
     "output_type": "execute_result"
    }
   ],
   "source": [
    "available_models = malaya.get_available_pos_entities_models()\n",
    "available_models"
   ]
  },
  {
   "cell_type": "code",
   "execution_count": 7,
   "metadata": {},
   "outputs": [
    {
     "name": "stdout",
     "output_type": "stream",
     "text": [
      "Testing char model\n",
      "[('KUALA', 'LOC', 'KN'), ('LUMPUR:', 'LOC', 'KN'), ('Sempena', 'O', 'KN'), ('sambutan', 'O', 'KN'), ('Aidilfitri', 'EVENT', 'KN'), ('minggu', 'O', 'KN'), ('depan,', 'O', 'KN'), ('Perdana', 'PRN', 'KN'), ('Menteri', 'PRN', 'KN'), ('Tun', 'PRN', 'KN'), ('Dr', 'PRN', 'KN'), ('Mahathir', 'PRN', 'KN'), ('Mohamad', 'PRN', 'KN'), ('dan', 'O', 'KH'), ('Menteri', 'PRN', 'KN'), ('Pengangkutan', 'LAW', 'KN'), ('Anthony', 'PRN', 'KN'), ('Loke', 'PRN', 'KN'), ('Siew', 'PRN', 'KN'), ('Fook', 'PRN', 'KN'), ('menitipkan', 'O', 'KN'), ('pesanan', 'O', 'KN'), ('khas', 'O', 'KN'), ('kepada', 'O', 'KS'), ('orang', 'O', 'KN'), ('ramai', 'O', 'KN'), ('yang', 'O', 'KETERANGAN'), ('mahu', 'O', 'KN'), ('pulang', 'O', 'KN'), ('ke', 'O', 'KS'), ('kampung', 'LOC', 'KN'), ('halaman', 'LOC', 'KN'), ('masing-masing.', 'O', 'KN'), ('Dalam', 'O', 'KS'), ('video', 'O', 'KN'), ('pendek', 'O', 'KN'), ('terbitan', 'O', 'KN'), ('Jabatan', 'NORP', 'KN'), ('Keselamatan', 'O', 'KN'), ('Jalan', 'LOC', 'KN'), ('Raya', 'ART', 'KN'), ('(JKJR)', 'PRN', 'KN'), ('itu,', 'O', 'GN'), ('Dr', 'PRN', 'KN'), ('Mahathir', 'PRN', 'KN'), ('menasihati', 'O', 'KJ'), ('mereka', 'O', 'GN'), ('supaya', 'O', 'KH'), ('berhenti', 'O', 'KJ'), ('berehat', 'O', 'KA'), ('dan', 'O', 'KH'), ('tidur', 'O', 'KN'), ('sebentar', 'O', 'KETERANGAN'), ('sekiranya', 'O', 'KN'), ('mengantuk', 'O', 'KJ'), ('ketika', 'O', 'KN'), ('memandu.', 'O', 'KJ')]\n",
      "\n",
      "Testing concat model\n",
      "[('KUALA', 'LOC', 'KN'), ('LUMPUR:', 'LOC', 'KN'), ('Sempena', 'O', 'KN'), ('sambutan', 'O', 'KN'), ('Aidilfitri', 'EVENT', 'KN'), ('minggu', 'O', 'KN'), ('depan,', 'O', 'KN'), ('Perdana', 'PRN', 'KN'), ('Menteri', 'PRN', 'KN'), ('Tun', 'PRN', 'KN'), ('Dr', 'PRN', 'KN'), ('Mahathir', 'PRN', 'KN'), ('Mohamad', 'PRN', 'KN'), ('dan', 'O', 'KH'), ('Menteri', 'PRN', 'KN'), ('Pengangkutan', 'PRN', 'KN'), ('Anthony', 'PRN', 'KN'), ('Loke', 'PRN', 'KN'), ('Siew', 'PRN', 'KN'), ('Fook', 'PRN', 'KN'), ('menitipkan', 'PRN', 'KN'), ('pesanan', 'O', 'KN'), ('khas', 'O', 'KN'), ('kepada', 'O', 'KS'), ('orang', 'O', 'KN'), ('ramai', 'O', 'KN'), ('yang', 'O', 'KETERANGAN'), ('mahu', 'O', 'KN'), ('pulang', 'O', 'KN'), ('ke', 'O', 'KS'), ('kampung', 'O', 'KN'), ('halaman', 'O', 'KN'), ('masing-masing.', 'O', 'KN'), ('Dalam', 'O', 'KN'), ('video', 'O', 'KN'), ('pendek', 'O', 'KN'), ('terbitan', 'O', 'KN'), ('Jabatan', 'NORP', 'KN'), ('Keselamatan', 'NORP', 'KN'), ('Jalan', 'O', 'KN'), ('Raya', 'ART', 'KN'), ('(JKJR)', 'ART', 'KN'), ('itu,', 'O', 'GN'), ('Dr', 'PRN', 'KN'), ('Mahathir', 'PRN', 'KN'), ('menasihati', 'O', 'KN'), ('mereka', 'O', 'GN'), ('supaya', 'O', 'KH'), ('berhenti', 'O', 'KJ'), ('berehat', 'O', 'KA'), ('dan', 'O', 'KH'), ('tidur', 'O', 'KN'), ('sebentar', 'O', 'KA'), ('sekiranya', 'O', 'KJ'), ('mengantuk', 'O', 'KN'), ('ketika', 'O', 'KN'), ('memandu.', 'O', 'KJ')]\n",
      "\n",
      "Testing attention model\n",
      "[('KUALA', 'LOC', 'KN'), ('LUMPUR:', 'LOC', 'KN'), ('Sempena', 'O', 'KN'), ('sambutan', 'O', 'KN'), ('Aidilfitri', 'EVENT', 'KN'), ('minggu', 'O', 'KN'), ('depan,', 'O', 'KN'), ('Perdana', 'PRN', 'KN'), ('Menteri', 'PRN', 'KN'), ('Tun', 'PRN', 'KN'), ('Dr', 'PRN', 'KN'), ('Mahathir', 'PRN', 'KN'), ('Mohamad', 'PRN', 'KN'), ('dan', 'O', 'KH'), ('Menteri', 'NORP', 'KN'), ('Pengangkutan', 'NORP', 'KN'), ('Anthony', 'PRN', 'KN'), ('Loke', 'PRN', 'KN'), ('Siew', 'PRN', 'KN'), ('Fook', 'PRN', 'KN'), ('menitipkan', 'NORP', 'KN'), ('pesanan', 'NORP', 'KN'), ('khas', 'NORP', 'KN'), ('kepada', 'O', 'KS'), ('orang', 'O', 'KN'), ('ramai', 'O', 'KN'), ('yang', 'O', 'KETERANGAN'), ('mahu', 'O', 'KN'), ('pulang', 'O', 'KN'), ('ke', 'O', 'KS'), ('kampung', 'O', 'KN'), ('halaman', 'O', 'KN'), ('masing-masing.', 'O', 'KN'), ('Dalam', 'O', 'KS'), ('video', 'O', 'KN'), ('pendek', 'O', 'KN'), ('terbitan', 'O', 'KN'), ('Jabatan', 'NORP', 'KN'), ('Keselamatan', 'NORP', 'KN'), ('Jalan', 'NORP', 'KN'), ('Raya', 'NORP', 'KN'), ('(JKJR)', 'O', 'KN'), ('itu,', 'O', 'GN'), ('Dr', 'PRN', 'KN'), ('Mahathir', 'PRN', 'KN'), ('menasihati', 'O', 'KN'), ('mereka', 'O', 'GN'), ('supaya', 'O', 'KH'), ('berhenti', 'O', 'KJ'), ('berehat', 'O', 'KN'), ('dan', 'O', 'KH'), ('tidur', 'O', 'KN'), ('sebentar', 'O', 'KETERANGAN'), ('sekiranya', 'O', 'KJ'), ('mengantuk', 'O', 'KN'), ('ketika', 'O', 'KN'), ('memandu.', 'O', 'KJ')]\n",
      "\n"
     ]
    }
   ],
   "source": [
    "for i in available_models:\n",
    "    print('Testing %s model'%(i))\n",
    "    print(malaya.deep_pos_entities(i).predict(string))\n",
    "    print()"
   ]
  }
 ],
 "metadata": {
  "kernelspec": {
   "display_name": "Python 3",
   "language": "python",
   "name": "python3"
  },
  "language_info": {
   "codemirror_mode": {
    "name": "ipython",
    "version": 3
   },
   "file_extension": ".py",
   "mimetype": "text/x-python",
   "name": "python",
   "nbconvert_exporter": "python",
   "pygments_lexer": "ipython3",
   "version": "3.6.5"
  }
 },
 "nbformat": 4,
 "nbformat_minor": 2
}
