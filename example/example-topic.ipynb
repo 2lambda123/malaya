{
 "cells": [
  {
   "cell_type": "code",
   "execution_count": 1,
   "metadata": {},
   "outputs": [
    {
     "name": "stderr",
     "output_type": "stream",
     "text": [
      "/usr/local/lib/python3.5/dist-packages/sklearn/cross_validation.py:41: DeprecationWarning: This module was deprecated in version 0.18 in favor of the model_selection module into which all the refactored classes and functions are moved. Also note that the interface of the new CV iterators are different from that of this module. This module will be removed in 0.20.\n",
      "  \"This module will be removed in 0.20.\", DeprecationWarning)\n"
     ]
    }
   ],
   "source": [
    "import pandas as pd\n",
    "import malaya"
   ]
  },
  {
   "cell_type": "code",
   "execution_count": 2,
   "metadata": {},
   "outputs": [
    {
     "data": {
      "text/html": [
       "<div>\n",
       "<style scoped>\n",
       "    .dataframe tbody tr th:only-of-type {\n",
       "        vertical-align: middle;\n",
       "    }\n",
       "\n",
       "    .dataframe tbody tr th {\n",
       "        vertical-align: top;\n",
       "    }\n",
       "\n",
       "    .dataframe thead th {\n",
       "        text-align: right;\n",
       "    }\n",
       "</style>\n",
       "<table border=\"1\" class=\"dataframe\">\n",
       "  <thead>\n",
       "    <tr style=\"text-align: right;\">\n",
       "      <th></th>\n",
       "      <th>text</th>\n",
       "      <th>label</th>\n",
       "    </tr>\n",
       "  </thead>\n",
       "  <tbody>\n",
       "    <tr>\n",
       "      <th>3</th>\n",
       "      <td>Justeru, tiada sebarang pemindahan bon atau da...</td>\n",
       "      <td>Positive</td>\n",
       "    </tr>\n",
       "    <tr>\n",
       "      <th>4</th>\n",
       "      <td>Oleh sebab ini jelas merupakan dokumen dipalsu...</td>\n",
       "      <td>Positive</td>\n",
       "    </tr>\n",
       "    <tr>\n",
       "      <th>5</th>\n",
       "      <td>Sebelum mana-mana keputusan pelaburan dibuat, ...</td>\n",
       "      <td>Positive</td>\n",
       "    </tr>\n",
       "    <tr>\n",
       "      <th>6</th>\n",
       "      <td>Semua kelulusan perlu melalui jawatankuasa pel...</td>\n",
       "      <td>Neutral</td>\n",
       "    </tr>\n",
       "    <tr>\n",
       "      <th>7</th>\n",
       "      <td>Kerajaan sedar dan telah mengambil langkah pan...</td>\n",
       "      <td>Positive</td>\n",
       "    </tr>\n",
       "  </tbody>\n",
       "</table>\n",
       "</div>"
      ],
      "text/plain": [
       "                                                text     label\n",
       "3  Justeru, tiada sebarang pemindahan bon atau da...  Positive\n",
       "4  Oleh sebab ini jelas merupakan dokumen dipalsu...  Positive\n",
       "5  Sebelum mana-mana keputusan pelaburan dibuat, ...  Positive\n",
       "6  Semua kelulusan perlu melalui jawatankuasa pel...   Neutral\n",
       "7  Kerajaan sedar dan telah mengambil langkah pan...  Positive"
      ]
     },
     "execution_count": 2,
     "metadata": {},
     "output_type": "execute_result"
    }
   ],
   "source": [
    "df = pd.read_csv('02032018.csv',sep=';')\n",
    "df = df.iloc[3:,1:]\n",
    "df.columns = ['text','label']\n",
    "df.head()"
   ]
  },
  {
   "cell_type": "code",
   "execution_count": 3,
   "metadata": {},
   "outputs": [
    {
     "data": {
      "text/plain": [
       "'sebarang pemindahan bon dana seumpamanya mana-mana syarikat pihak individu dinyatakan berlaku didakwa'"
      ]
     },
     "execution_count": 3,
     "metadata": {},
     "output_type": "execute_result"
    }
   ],
   "source": [
    "clearstring_stopwords = malaya.textcleaning\n",
    "clearstring_stopwords(df.text.iloc[0])"
   ]
  },
  {
   "cell_type": "code",
   "execution_count": 4,
   "metadata": {},
   "outputs": [
    {
     "name": "stderr",
     "output_type": "stream",
     "text": [
      "/usr/local/lib/python3.5/dist-packages/sklearn/decomposition/online_lda.py:294: DeprecationWarning: n_topics has been renamed to n_components in version 0.19 and will be removed in 0.21\n",
      "  DeprecationWarning)\n"
     ]
    },
    {
     "data": {
      "text/plain": [
       "[(0, 'projek hutang mengambil tutup bayar memerlukan tanah sewa bulan undi'),\n",
       " (1,\n",
       "  'perniagaan malaysia rakyat raya pilihan masalah kali takut bekerjasama penting'),\n",
       " (2,\n",
       "  'asli rasa menteri memastikan berjaya pembangunan perdana berkembang masyarakat berjalan'),\n",
       " (3, 'menteri low membuat serahkan jho keputusan kapal ph melakukan kena'),\n",
       " (4, 'harus mana diterjemahkan wang dasar bank awam bahasa ilmu dana'),\n",
       " (5,\n",
       "  'kelulusan ros membenarkan digunakan harga bersedia malaysia seri pesawat airasia'),\n",
       " (6,\n",
       "  'rakyat kenyataan negara tersebut kepimpinan islam memudahkan negeri mencari menulis'),\n",
       " (7,\n",
       "  'malaysia negara kewangan asli hutang diselesaikan pengalaman pembangunan isu menunjukkan'),\n",
       " (8,\n",
       "  'kerajaan bahasa syarikat projek terus dilakukan negara awam swasta tumpuan'),\n",
       " (9,\n",
       "  'kementerian memberikan putrajaya kedudukan pengurusan pihak rakyat saiful anak perlembagaan')]"
      ]
     },
     "execution_count": 4,
     "metadata": {},
     "output_type": "execute_result"
    }
   ],
   "source": [
    "corpus = df.text.tolist()\n",
    "lda = malaya.train_lda(corpus,10,cleaning=clearstring_stopwords)\n",
    "lda.get_topics(10)"
   ]
  },
  {
   "cell_type": "code",
   "execution_count": 5,
   "metadata": {},
   "outputs": [
    {
     "data": {
      "text/plain": [
       "[(0,\n",
       "  'negara malaysia pengalaman ekonomi teknikal membangun tindakan kepentingan kerjasama menunjukkan'),\n",
       " (1, 'menteri perdana jemaah seri berlaku razak penjelasan najib baik kuok'),\n",
       " (2,\n",
       "  'rakyat kepimpinan malaysia memudahkan hal negeri serius kepentingan berdasarkan pendapatan'),\n",
       " (3,\n",
       "  'ros kebenaran pemilihan umno pendaftaran kelulusan perlembagaan minta melebihi tempoh'),\n",
       " (4,\n",
       "  'kerajaan sedar pas memastikan mengambil menjatuhkan khususnya pengajaran kemajuan terus'),\n",
       " (5, 'kapal jho low dirampas doj perniagaan indonesia anak sivil tuntutan'),\n",
       " (6,\n",
       "  'bulan undi harapan pakatan umno diberikan keluarga kasih melonjak terima'),\n",
       " (7,\n",
       "  'raya pilihan kononnya semakin penting meminta awal kuok perlembagaan kerusi'),\n",
       " (8,\n",
       "  'diselesaikan kewangan hutang tempoh pendek bergantung memerlukan mewujudkan rasa perancangan'),\n",
       " (9,\n",
       "  'asli masyarakat jakoa pendapatan temiar harus sumber memalukan arus pelopor')]"
      ]
     },
     "execution_count": 5,
     "metadata": {},
     "output_type": "execute_result"
    }
   ],
   "source": [
    "nmf = malaya.train_nmf(corpus,10,cleaning=clearstring_stopwords)\n",
    "nmf.get_topics(10)"
   ]
  },
  {
   "cell_type": "code",
   "execution_count": 6,
   "metadata": {},
   "outputs": [
    {
     "data": {
      "text/plain": [
       "[(0,\n",
       "  'rakyat negara malaysia kerajaan pengalaman menunjukkan kepimpinan isu menteri terus'),\n",
       " (1,\n",
       "  'rakyat kepimpinan memudahkan hal serius malaysia negeri pendapatan maklumat kepentingan'),\n",
       " (2,\n",
       "  'negara pengalaman malaysia teknikal bidang membangun ekonomi kewangan pendidikan tindakan'),\n",
       " (3, 'bulan umno ros undi pemilihan negara harapan keputusan status melebihi'),\n",
       " (4, 'jho kapal low kerajaan perniagaan doj pihak sivil dirampas dana'),\n",
       " (5,\n",
       "  'kerajaan pas terus masalah memastikan dilakukan masyarakat sedar khususnya proses'),\n",
       " (6, 'bulan harapan undi raya pilihan pakatan semakin wang luar bandar'),\n",
       " (7,\n",
       "  'raya pilihan penting asli ros semakin pendaftaran masyarakat kononnya ph'),\n",
       " (8,\n",
       "  'hutang pendapatan asli diselesaikan kewangan projek masyarakat besar sumber tempoh'),\n",
       " (9,\n",
       "  'raya pilihan kewangan bulan diselesaikan hutang negara kerajaan tindakan undi')]"
      ]
     },
     "execution_count": 6,
     "metadata": {},
     "output_type": "execute_result"
    }
   ],
   "source": [
    "lsa = malaya.train_lsa(corpus,10,cleaning=clearstring_stopwords)\n",
    "lsa.get_topics(10)"
   ]
  },
  {
   "cell_type": "code",
   "execution_count": null,
   "metadata": {},
   "outputs": [],
   "source": []
  }
 ],
 "metadata": {
  "kernelspec": {
   "display_name": "Python 3",
   "language": "python",
   "name": "python3"
  },
  "language_info": {
   "codemirror_mode": {
    "name": "ipython",
    "version": 3
   },
   "file_extension": ".py",
   "mimetype": "text/x-python",
   "name": "python",
   "nbconvert_exporter": "python",
   "pygments_lexer": "ipython3",
   "version": "3.5.2"
  }
 },
 "nbformat": 4,
 "nbformat_minor": 2
}
