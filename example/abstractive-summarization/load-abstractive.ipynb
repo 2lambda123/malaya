{
 "cells": [
  {
   "cell_type": "code",
   "execution_count": 1,
   "metadata": {},
   "outputs": [
    {
     "name": "stdout",
     "output_type": "stream",
     "text": [
      "CPU times: user 4.54 s, sys: 945 ms, total: 5.49 s\n",
      "Wall time: 4.65 s\n"
     ]
    }
   ],
   "source": [
    "%%time\n",
    "import malaya\n",
    "from pprint import pprint"
   ]
  },
  {
   "cell_type": "markdown",
   "metadata": {},
   "source": [
    "## List available T5 models"
   ]
  },
  {
   "cell_type": "code",
   "execution_count": 2,
   "metadata": {},
   "outputs": [
    {
     "data": {
      "text/plain": [
       "{'small': ['122MB',\n",
       "  'ROUGE-1: 0.33854',\n",
       "  'ROUGE-2: 0.14588',\n",
       "  'ROUGE-L: 0.23528'],\n",
       " 'base': ['448MB', 'ROUGE-1: 0.34103', 'ROUGE-2: 0.14994', 'ROUGE-L: 0.23655']}"
      ]
     },
     "execution_count": 2,
     "metadata": {},
     "output_type": "execute_result"
    }
   ],
   "source": [
    "malaya.summarization.abstractive.available_t5()"
   ]
  },
  {
   "cell_type": "markdown",
   "metadata": {},
   "source": [
    "For now we do not have a good metrics to calculate 'abstract' of summaries generated from the model. ROUGE is simply calculate same N-GRAM overlap each others, sometime summaries generated are almost human perfect but not close to as baseline summaries, so ROUGE score will become lower."
   ]
  },
  {
   "cell_type": "markdown",
   "metadata": {},
   "source": [
    "## Load T5\n",
    "\n",
    "T5 is a transformer model that capable to generate abstractive summarization. In this example, we are going to use `base` model, feel free to use `small` if you find `base` is too slow.\n",
    "\n",
    "```python\n",
    "def t5(model: str = 'base', **kwargs):\n",
    "\n",
    "    \"\"\"\n",
    "    Load T5 model to generate a summarization given a string.\n",
    "\n",
    "    Parameters\n",
    "    ----------\n",
    "    model : str, optional (default='base')\n",
    "        Model architecture supported. Allowed values:\n",
    "\n",
    "        * ``'base'`` - T5 Base parameters.\n",
    "        * ``'small'`` - T5 Small parameters.\n",
    "\n",
    "    Returns\n",
    "    -------\n",
    "    result: malaya.model.t5.SUMMARIZATION class\n",
    "    \"\"\"\n",
    "```"
   ]
  },
  {
   "cell_type": "code",
   "execution_count": 3,
   "metadata": {},
   "outputs": [
    {
     "name": "stdout",
     "output_type": "stream",
     "text": [
      "WARNING:tensorflow:From /Users/huseinzolkepli/Documents/Malaya/malaya/summarization/abstractive.py:74: The name tf.InteractiveSession is deprecated. Please use tf.compat.v1.InteractiveSession instead.\n",
      "\n",
      "WARNING:tensorflow:From /Users/huseinzolkepli/Documents/Malaya/malaya/summarization/abstractive.py:76: load (from tensorflow.python.saved_model.loader_impl) is deprecated and will be removed in a future version.\n",
      "Instructions for updating:\n",
      "This function will only be available through the v1 compatibility library as tf.compat.v1.saved_model.loader.load or tf.compat.v1.saved_model.load. There will be a new function for importing SavedModels in Tensorflow 2.0.\n",
      "INFO:tensorflow:Restoring parameters from /Users/huseinzolkepli/Malaya/summarize-argmax/t5/base/model/variables/variables\n"
     ]
    }
   ],
   "source": [
    "model = malaya.summarization.abstractive.t5(model = 'base')"
   ]
  },
  {
   "cell_type": "markdown",
   "metadata": {},
   "source": [
    "#### summarization mode\n",
    "\n",
    "T5 in Malaya provided 3 different mode for summarization,\n",
    "\n",
    "1. generate summary,\n",
    "\n",
    "```python\n",
    "model.summarize(string, mode = 'ringkasan')\n",
    "```\n",
    "\n",
    "2. generate title,\n",
    "\n",
    "```python\n",
    "model.summarize(string, mode = 'tajuk')\n",
    "```\n",
    "\n",
    "3. generate short body (this is simply summarize every sentences in our string, splitted by fullstop),\n",
    "\n",
    "```python\n",
    "model.summarize(string, mode = 'perenggan')\n",
    "```\n",
    "\n",
    "default is `ringkasan`,\n",
    "\n",
    "```python\n",
    "def summarize(self, string: str, mode: str = 'ringkasan'):\n",
    "    \"\"\"\n",
    "    Summarize a string.\n",
    "\n",
    "    Parameters\n",
    "    ----------\n",
    "    string: str\n",
    "    mode: str\n",
    "        mode for summarization. Allowed values:\n",
    "\n",
    "        * ``'ringkasan'`` - summarization for long sentence, eg, news summarization.\n",
    "        * ``'tajuk'`` - title summarization for long sentence, eg, news title.\n",
    "        * ``'perenggan'`` - summarization for each perenggan. This will automatically split sentences by EOS.\n",
    "\n",
    "    Returns\n",
    "    -------\n",
    "    result: str\n",
    "    \"\"\"\n",
    "```"
   ]
  },
  {
   "cell_type": "markdown",
   "metadata": {},
   "source": [
    "I am going to simply copy paste some local news into this notebook. I will search about `isu mahathir` in google news, [link here](https://www.google.com/search?q=isu+mahathir&sxsrf=ALeKk02V_bAJC3sSrV38JQgGYWL_mE0biw:1589951900053&source=lnms&tbm=nws&sa=X&ved=2ahUKEwjapNmx2MHpAhVp_XMBHRt7BEQQ_AUoAnoECCcQBA&biw=1440&bih=648&dpr=2)."
   ]
  },
  {
   "cell_type": "markdown",
   "metadata": {},
   "source": [
    "**link**: https://www.hmetro.com.my/mutakhir/2020/05/580438/peletakan-jawatan-tun-m-ditolak-bukan-lagi-isu\n",
    "\n",
    "**Title**: Peletakan jawatan Tun M ditolak, bukan lagi isu.\n",
    "\n",
    "**Body**: PELETAKAN jawatan Tun Dr Mahathir Mohamad sebagai Pengerusi Parti Pribumi Bersatu Malaysia (Bersatu) ditolak di dalam mesyuarat khas Majlis Pimpinan Tertinggi (MPT) pada 24 Februari lalu.\n",
    "\n",
    "Justeru, tidak timbul soal peletakan jawatan itu sah atau tidak kerana ia sudah pun diputuskan pada peringkat parti yang dipersetujui semua termasuk Presiden, Tan Sri Muhyiddin Yassin.\n",
    "\n",
    "Bekas Setiausaha Agung Bersatu Datuk Marzuki Yahya berkata, pada mesyuarat itu MPT sebulat suara menolak peletakan jawatan Dr Mahathir.\n",
    "\n",
    "\"Jadi ini agak berlawanan dengan keputusan yang kita sudah buat. Saya tak faham bagaimana Jabatan Pendaftar Pertubuhan Malaysia (JPPM) kata peletakan jawatan itu sah sedangkan kita sudah buat keputusan di dalam mesyuarat, bukan seorang dua yang buat keputusan.\n",
    "\n",
    "\"Semua keputusan mesti dibuat melalui parti. Walau apa juga perbincangan dibuat di luar daripada keputusan mesyuarat, ini bukan keputusan parti.\n",
    "\n",
    "\"Apa locus standy yang ada pada Setiausaha Kerja untuk membawa perkara ini kepada JPPM. Seharusnya ia dibawa kepada Setiausaha Agung sebagai pentadbir kepada parti,\" katanya kepada Harian Metro.\n",
    "\n",
    "Beliau mengulas laporan media tempatan hari ini mengenai pengesahan JPPM bahawa Dr Mahathir tidak lagi menjadi Pengerusi Bersatu berikutan peletakan jawatannya di tengah-tengah pergolakan politik pada akhir Februari adalah sah.\n",
    "\n",
    "Laporan itu juga menyatakan, kedudukan Muhyiddin Yassin memangku jawatan itu juga sah.\n",
    "\n",
    "Menurutnya, memang betul Dr Mahathir menghantar surat peletakan jawatan, tetapi ditolak oleh MPT.\n",
    "\n",
    "\"Fasal yang disebut itu terpakai sekiranya berhenti atau diberhentikan, tetapi ini mesyuarat sudah menolak,\" katanya.\n",
    "\n",
    "Marzuki turut mempersoal kenyataan media yang dibuat beberapa pimpinan parti itu hari ini yang menyatakan sokongan kepada Perikatan Nasional.\n",
    "\n",
    "\"Kenyataan media bukanlah keputusan rasmi. Walaupun kita buat 1,000 kenyataan sekali pun ia tetap tidak merubah keputusan yang sudah dibuat di dalam mesyuarat. Kita catat di dalam minit apa yang berlaku di dalam mesyuarat,\" katanya."
   ]
  },
  {
   "cell_type": "code",
   "execution_count": 4,
   "metadata": {},
   "outputs": [],
   "source": [
    "string = \"\"\"\n",
    "PELETAKAN jawatan Tun Dr Mahathir Mohamad sebagai Pengerusi Parti Pribumi Bersatu Malaysia (Bersatu) ditolak di dalam mesyuarat khas Majlis Pimpinan Tertinggi (MPT) pada 24 Februari lalu.\n",
    "\n",
    "Justeru, tidak timbul soal peletakan jawatan itu sah atau tidak kerana ia sudah pun diputuskan pada peringkat parti yang dipersetujui semua termasuk Presiden, Tan Sri Muhyiddin Yassin.\n",
    "\n",
    "Bekas Setiausaha Agung Bersatu Datuk Marzuki Yahya berkata, pada mesyuarat itu MPT sebulat suara menolak peletakan jawatan Dr Mahathir.\n",
    "\n",
    "\"Jadi ini agak berlawanan dengan keputusan yang kita sudah buat. Saya tak faham bagaimana Jabatan Pendaftar Pertubuhan Malaysia (JPPM) kata peletakan jawatan itu sah sedangkan kita sudah buat keputusan di dalam mesyuarat, bukan seorang dua yang buat keputusan.\n",
    "\n",
    "\"Semua keputusan mesti dibuat melalui parti. Walau apa juga perbincangan dibuat di luar daripada keputusan mesyuarat, ini bukan keputusan parti.\n",
    "\n",
    "\"Apa locus standy yang ada pada Setiausaha Kerja untuk membawa perkara ini kepada JPPM. Seharusnya ia dibawa kepada Setiausaha Agung sebagai pentadbir kepada parti,\" katanya kepada Harian Metro.\n",
    "\n",
    "Beliau mengulas laporan media tempatan hari ini mengenai pengesahan JPPM bahawa Dr Mahathir tidak lagi menjadi Pengerusi Bersatu berikutan peletakan jawatannya di tengah-tengah pergolakan politik pada akhir Februari adalah sah.\n",
    "\n",
    "Laporan itu juga menyatakan, kedudukan Muhyiddin Yassin memangku jawatan itu juga sah.\n",
    "\n",
    "Menurutnya, memang betul Dr Mahathir menghantar surat peletakan jawatan, tetapi ditolak oleh MPT.\n",
    "\n",
    "\"Fasal yang disebut itu terpakai sekiranya berhenti atau diberhentikan, tetapi ini mesyuarat sudah menolak,\" katanya.\n",
    "\n",
    "Marzuki turut mempersoal kenyataan media yang dibuat beberapa pimpinan parti itu hari ini yang menyatakan sokongan kepada Perikatan Nasional.\n",
    "\n",
    "\"Kenyataan media bukanlah keputusan rasmi. Walaupun kita buat 1,000 kenyataan sekali pun ia tetap tidak merubah keputusan yang sudah dibuat di dalam mesyuarat. Kita catat di dalam minit apa yang berlaku di dalam mesyuarat,\" katanya.\n",
    "\"\"\""
   ]
  },
  {
   "cell_type": "code",
   "execution_count": 5,
   "metadata": {},
   "outputs": [],
   "source": [
    "import re\n",
    "\n",
    "# minimum cleaning, just simply to remove newlines.\n",
    "def cleaning(string):\n",
    "    string = string.replace('\\n', ' ')\n",
    "    string = re.sub(r'[ ]+', ' ', string).strip()\n",
    "    return string\n",
    "\n",
    "string = cleaning(string)"
   ]
  },
  {
   "cell_type": "markdown",
   "metadata": {},
   "source": [
    "#### generate ringkasan"
   ]
  },
  {
   "cell_type": "code",
   "execution_count": 6,
   "metadata": {
    "scrolled": true
   },
   "outputs": [
    {
     "name": "stdout",
     "output_type": "stream",
     "text": [
      "('Kenyataan media yang dibuat oleh kepimpinan parti adalah sah. Tidak ada '\n",
      " 'persoalan peletakan jawatan Dr Mahathir adalah sah atau tidak. Ia sudah '\n",
      " 'diputuskan oleh semua pihak termasuk Presiden, Tan Sri Muhyiddin Yassin')\n"
     ]
    }
   ],
   "source": [
    "pprint(model.summarize(string, mode = 'ringkasan'))"
   ]
  },
  {
   "cell_type": "markdown",
   "metadata": {},
   "source": [
    "#### generate tajuk"
   ]
  },
  {
   "cell_type": "code",
   "execution_count": 9,
   "metadata": {},
   "outputs": [
    {
     "data": {
      "text/plain": [
       "'Bukan pertikai keputusan MPT - Marzuki'"
      ]
     },
     "execution_count": 9,
     "metadata": {},
     "output_type": "execute_result"
    }
   ],
   "source": [
    "model.summarize(string, mode = 'tajuk')"
   ]
  },
  {
   "cell_type": "markdown",
   "metadata": {},
   "source": [
    "#### generate perenggan\n",
    "\n",
    "This mode is not really good as `ringkasan` and `tajuk`, it is pretty hard to hard to supervised summaries for each sentences. We applied `#` to mask sensitive issues."
   ]
  },
  {
   "cell_type": "code",
   "execution_count": 7,
   "metadata": {},
   "outputs": [
    {
     "name": "stdout",
     "output_type": "stream",
     "text": [
      "('Peletakan jawatan dr mahathir di mesyuarat khas. Tidak ada persoalan '\n",
      " 'mengenai peletakan jawatan presiden. Bekas ketua un menolak peletakan '\n",
      " 'jawatan dr m. Keputusan kami mengenai keputusan ####. Malaysia mengatakan '\n",
      " 'peletakan jawatan adalah sah. \"Semua keputusan mesti dibuat melalui parti.. '\n",
      " 'Perbincangan mengenai keputusan mesyuarat parti tidak ada keputusan parti. '\n",
      " 'Locus standy untuk membawa perkara ini kepada jppm. Ketua parti mengatakan '\n",
      " 'bahawa dia harus menjadi pentadbir. Pm mengatakan bahawa dia tidak lagi '\n",
      " 'menjadi ketua bersatu. Laporan mengatakan bahawa kedudukan muhyiddin yassin '\n",
      " 'disahkan. Pm menolak peletakan jawatan tetapi menolak surat peletakan '\n",
      " 'jawatan. #### - #### - ####. Marzuki menolak kenyataan media yang menyokong '\n",
      " 'parti. \"Kenyataan media bukanlah keputusan rasmi.. Keputusan mengenai '\n",
      " 'pertemuan afghanistan tetap tidak berubah. Kami catat dalam minit yang '\n",
      " 'berlaku di mesyuarat')\n"
     ]
    }
   ],
   "source": [
    "pprint(model.summarize(string, mode = 'perenggan'))"
   ]
  },
  {
   "cell_type": "markdown",
   "metadata": {},
   "source": [
    "**Link**: https://www.malaysiakini.com/news/525953\n",
    "\n",
    "**Title**: Mahathir jangan hipokrit isu kes mahkamah Riza, kata Takiyuddin\n",
    "\n",
    "**Body**: Menteri undang-undang Takiyuddin Hassan berkata kerajaan berharap Dr Mahathir Mohamad tidak bersikap hipokrit dengan mengatakan beliau tertanya-tanya dan tidak faham dengan keputusan mahkamah melepas tanpa membebaskan (DNAA) Riza Aziz, anak tiri bekas perdana menteri Najib Razak, dalam kes pengubahan wang haram membabitkan dana 1MDB.\n",
    "\n",
    "Pemimpin PAS itu berkata ini kerana keputusan itu dibuat oleh peguam negara dan dilaksanakan oleh timbalan pendakwa raya yang mengendalikan kes tersebut pada akhir 2019.\n",
    "\n",
    "“Saya merujuk kepada kenyataan Dr Mahathir tentang tindakan Mahkamah Sesyen memberikan pelepasan tanpa pembebasan (discharge not amounting to acquittal) kepada Riza Aziz baru-baru ini.\n",
    "\n",
    "“Kerajaan berharap Dr Mahathir tidak bersikap hipokrit dengan mengatakan beliau ‘tertanya-tanya’, keliru dan tidak faham terhadap suatu keputusan yang dibuat oleh Peguam Negara dan dilaksanakan oleh Timbalan Pendakwa Raya yang mengendalikan kes ini pada akhir tahun 2019,” katanya dalam satu kenyataan hari ini.\n",
    "\n",
    "Riza pada Khamis dilepas tanpa dibebaskan daripada lima pertuduhan pengubahan wang berjumlah AS$248 juta (RM1.08 bilion).\n",
    "\n",
    "Dalam persetujuan yang dicapai antara pihak Riza dan pendakwaan, beliau dilepas tanpa dibebaskan atas pertuduhan itu dengan syarat memulangkan semula aset dari luar negara dengan nilai anggaran AS$107.3 juta (RM465.3 juta).\n",
    "\n",
    "Ekoran itu, Mahathir antara lain menyuarakan kekhuatirannya berkenaan persetujuan itu dan mempersoalkan jika pihak yang didakwa atas tuduhan mencuri boleh terlepas daripada tindakan jika memulangkan semula apa yang dicurinya.\n",
    "\n",
    "\"Dia curi berbilion-bilion...Dia bagi balik kepada kerajaan. Dia kata kepada kerajaan, 'Nah, duit yang aku curi. Sekarang ini, jangan ambil tindakan terhadap aku.' Kita pun kata, 'Sudah bagi balik duit okey lah',\" katanya.\n",
    "\n",
    "Menjelaskan bahawa beliau tidak mempersoalkan keputusan mahkamah, Mahathir pada masa sama berkata ia menunjukkan undang-undang mungkin perlu dipinda.\n",
    "\n",
    "Mengulas lanjut, Takiyuddin yang juga setiausaha agung PAS berkata\n",
    "kenyataan Mahathir tidak munasabah sebagai bekas perdana menteri.\n",
    "\n",
    "\"Kerajaan berharap Dr Mahathir tidak terus bertindak mengelirukan rakyat dengan mengatakan beliau ‘keliru’.\n",
    "\n",
    "“Kerajaan PN akan terus bertindak mengikut undang-undang dan berpegang kepada prinsip kebebasan badan kehakiman dan proses perundangan yang sah,” katanya."
   ]
  },
  {
   "cell_type": "code",
   "execution_count": 9,
   "metadata": {},
   "outputs": [],
   "source": [
    "string = \"\"\"\n",
    "Menteri undang-undang Takiyuddin Hassan berkata kerajaan berharap Dr Mahathir Mohamad tidak bersikap hipokrit dengan mengatakan beliau tertanya-tanya dan tidak faham dengan keputusan mahkamah melepas tanpa membebaskan (DNAA) Riza Aziz, anak tiri bekas perdana menteri Najib Razak, dalam kes pengubahan wang haram membabitkan dana 1MDB.\n",
    "\n",
    "Pemimpin PAS itu berkata ini kerana keputusan itu dibuat oleh peguam negara dan dilaksanakan oleh timbalan pendakwa raya yang mengendalikan kes tersebut pada akhir 2019.\n",
    "\n",
    "“Saya merujuk kepada kenyataan Dr Mahathir tentang tindakan Mahkamah Sesyen memberikan pelepasan tanpa pembebasan (discharge not amounting to acquittal) kepada Riza Aziz baru-baru ini.\n",
    "\n",
    "“Kerajaan berharap Dr Mahathir tidak bersikap hipokrit dengan mengatakan beliau ‘tertanya-tanya’, keliru dan tidak faham terhadap suatu keputusan yang dibuat oleh Peguam Negara dan dilaksanakan oleh Timbalan Pendakwa Raya yang mengendalikan kes ini pada akhir tahun 2019,” katanya dalam satu kenyataan hari ini.\n",
    "\n",
    "Riza pada Khamis dilepas tanpa dibebaskan daripada lima pertuduhan pengubahan wang berjumlah AS$248 juta (RM1.08 bilion).\n",
    "\n",
    "Dalam persetujuan yang dicapai antara pihak Riza dan pendakwaan, beliau dilepas tanpa dibebaskan atas pertuduhan itu dengan syarat memulangkan semula aset dari luar negara dengan nilai anggaran AS$107.3 juta (RM465.3 juta).\n",
    "\n",
    "Ekoran itu, Mahathir antara lain menyuarakan kekhuatirannya berkenaan persetujuan itu dan mempersoalkan jika pihak yang didakwa atas tuduhan mencuri boleh terlepas daripada tindakan jika memulangkan semula apa yang dicurinya.\n",
    "\n",
    "\"Dia curi berbilion-bilion...Dia bagi balik kepada kerajaan. Dia kata kepada kerajaan, 'Nah, duit yang aku curi. Sekarang ini, jangan ambil tindakan terhadap aku.' Kita pun kata, 'Sudah bagi balik duit okey lah',\" katanya.\n",
    "\n",
    "Menjelaskan bahawa beliau tidak mempersoalkan keputusan mahkamah, Mahathir pada masa sama berkata ia menunjukkan undang-undang mungkin perlu dipinda.\n",
    "\n",
    "Mengulas lanjut, Takiyuddin yang juga setiausaha agung PAS berkata\n",
    "kenyataan Mahathir tidak munasabah sebagai bekas perdana menteri.\n",
    "\n",
    "\"Kerajaan berharap Dr Mahathir tidak terus bertindak mengelirukan rakyat dengan mengatakan beliau ‘keliru’.\n",
    "\n",
    "“Kerajaan PN akan terus bertindak mengikut undang-undang dan berpegang kepada prinsip kebebasan badan kehakiman dan proses perundangan yang sah,” katanya.\n",
    "\"\"\"\n",
    "\n",
    "string = cleaning(string)"
   ]
  },
  {
   "cell_type": "code",
   "execution_count": 10,
   "metadata": {},
   "outputs": [
    {
     "name": "stdout",
     "output_type": "stream",
     "text": [
      "('\"Kerajaan berharap Dr Mahathir tidak hipokrit,\" kata menteri undang-undang. '\n",
      " 'Riza Aziz, anak tiri Najib Razak, dilepas tanpa dibebaskan atas tuduhan '\n",
      " 'pengubahan wang haram. Mahathir mengatakan dia mempersoalkan jika pihak yang '\n",
      " 'didakwa mencuri boleh terlepas tindakan')\n"
     ]
    }
   ],
   "source": [
    "pprint(model.summarize(string, mode = 'ringkasan'))"
   ]
  },
  {
   "cell_type": "code",
   "execution_count": 15,
   "metadata": {},
   "outputs": [
    {
     "data": {
      "text/plain": [
       "'Kerajaan harap Dr M tak hipokrit'"
      ]
     },
     "execution_count": 15,
     "metadata": {},
     "output_type": "execute_result"
    }
   ],
   "source": [
    "model.summarize(string, mode = 'tajuk')"
   ]
  },
  {
   "cell_type": "code",
   "execution_count": 11,
   "metadata": {},
   "outputs": [
    {
     "name": "stdout",
     "output_type": "stream",
     "text": [
      "('Menteri mengatakan bahawa dia tertanya-tanya dengan keputusan mahkamah untuk '\n",
      " 'membebaskan anak tiri najib. Pas mengatakan peguam negara akan dilantik pada '\n",
      " 'akhir tahun. Pm merujuk kepada pembebasan tanpa pembebasan kepada aig. Pm '\n",
      " 'berharap tidak ada yang hipokrit dengan keputusan pendakwaan. Riza dilepas '\n",
      " 'tanpa dibebaskan dari tuduhan pengubahan wang. Pihak pendakwaan brazil '\n",
      " 'bersetuju untuk mengembalikan aset luar negara. Pm mempersoalkan sama ada '\n",
      " 'pihak yang dituduh mencuri boleh terlepas tindakan. \"Dia curi '\n",
      " 'berbilion-bilion...Dia bagi balik kepada kerajaan.. Britain mengatakan duit '\n",
      " 'yang dicuri adalah wang yang dicuri. Sekarang ini, jangan ambil tindakan '\n",
      " \"terhadap aku.. Aig mengatakan kita 'terus memberi balik duit okey lah'. \"\n",
      " 'Mahathir mengatakan undang-undang mungkin perlu dipinda. Afghanistan '\n",
      " 'mengatakan bahawa kenyataan pm tidak wajar. Pm berharap pm tidak akan '\n",
      " 'berbohong. Pm malaysia mengatakan bahawa ia akan mematuhi undang-undang')\n"
     ]
    }
   ],
   "source": [
    "pprint(model.summarize(string, mode = 'perenggan'))"
   ]
  }
 ],
 "metadata": {
  "kernelspec": {
   "display_name": "Python 3",
   "language": "python",
   "name": "python3"
  },
  "language_info": {
   "codemirror_mode": {
    "name": "ipython",
    "version": 3
   },
   "file_extension": ".py",
   "mimetype": "text/x-python",
   "name": "python",
   "nbconvert_exporter": "python",
   "pygments_lexer": "ipython3",
   "version": "3.7.5"
  }
 },
 "nbformat": 4,
 "nbformat_minor": 2
}
