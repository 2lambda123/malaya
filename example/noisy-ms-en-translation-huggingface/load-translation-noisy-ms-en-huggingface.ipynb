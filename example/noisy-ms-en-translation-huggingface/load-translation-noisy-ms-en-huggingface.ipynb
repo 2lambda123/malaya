{
 "cells": [
  {
   "cell_type": "markdown",
   "metadata": {},
   "source": [
    "# MS to EN Noisy HuggingFace"
   ]
  },
  {
   "cell_type": "markdown",
   "metadata": {},
   "source": [
    "<div class=\"alert alert-info\">\n",
    "\n",
    "This tutorial is available as an IPython notebook at [Malaya/example/noisy-ms-en-translation-huggingface](https://github.com/huseinzol05/Malaya/tree/master/example/noisy-ms-en-translation-huggingface).\n",
    "    \n",
    "</div>"
   ]
  },
  {
   "cell_type": "markdown",
   "metadata": {},
   "source": [
    "<div class=\"alert alert-warning\">\n",
    "\n",
    "This module trained on standard language and augmented local language structures, proceed with caution.\n",
    "    \n",
    "</div>"
   ]
  },
  {
   "cell_type": "code",
   "execution_count": 1,
   "metadata": {},
   "outputs": [
    {
     "name": "stdout",
     "output_type": "stream",
     "text": [
      "CPU times: user 3.25 s, sys: 3.34 s, total: 6.59 s\n",
      "Wall time: 2.44 s\n"
     ]
    }
   ],
   "source": [
    "%%time\n",
    "\n",
    "import malaya\n",
    "import logging\n",
    "\n",
    "logging.basicConfig(level=logging.INFO)"
   ]
  },
  {
   "cell_type": "markdown",
   "metadata": {},
   "source": [
    "### List available HuggingFace models"
   ]
  },
  {
   "cell_type": "code",
   "execution_count": 2,
   "metadata": {},
   "outputs": [
    {
     "name": "stderr",
     "output_type": "stream",
     "text": [
      "INFO:malaya.translation.ms_en:tested on FLORES200 EN-MS (eng_Latn-zsm_Latn) pair `dev` set, https://github.com/facebookresearch/flores/tree/main/flores200\n",
      "INFO:malaya.translation.ms_en:for noisy, tested on noisy twitter google translation, https://huggingface.co/datasets/mesolitica/augmentation-test-set\n"
     ]
    },
    {
     "data": {
      "text/html": [
       "<div>\n",
       "<style scoped>\n",
       "    .dataframe tbody tr th:only-of-type {\n",
       "        vertical-align: middle;\n",
       "    }\n",
       "\n",
       "    .dataframe tbody tr th {\n",
       "        vertical-align: top;\n",
       "    }\n",
       "\n",
       "    .dataframe thead th {\n",
       "        text-align: right;\n",
       "    }\n",
       "</style>\n",
       "<table border=\"1\" class=\"dataframe\">\n",
       "  <thead>\n",
       "    <tr style=\"text-align: right;\">\n",
       "      <th></th>\n",
       "      <th>Size (MB)</th>\n",
       "      <th>BLEU</th>\n",
       "      <th>SacreBLEU Verbose</th>\n",
       "      <th>SacreBLEU-chrF++-FLORES200</th>\n",
       "      <th>Suggested length</th>\n",
       "    </tr>\n",
       "  </thead>\n",
       "  <tbody>\n",
       "    <tr>\n",
       "      <th>mesolitica/finetune-translation-t5-super-super-tiny-standard-bahasa-cased</th>\n",
       "      <td>23.3</td>\n",
       "      <td>30.216144</td>\n",
       "      <td>64.9/38.1/24.1/15.3 (BP = 0.978 ratio = 0.978 ...</td>\n",
       "      <td>56.46</td>\n",
       "      <td>256</td>\n",
       "    </tr>\n",
       "    <tr>\n",
       "      <th>mesolitica/finetune-translation-t5-super-tiny-standard-bahasa-cased</th>\n",
       "      <td>50.7</td>\n",
       "      <td>34.105615</td>\n",
       "      <td>67.3/41.6/27.8/18.7 (BP = 0.982 ratio = 0.982 ...</td>\n",
       "      <td>59.18</td>\n",
       "      <td>256</td>\n",
       "    </tr>\n",
       "    <tr>\n",
       "      <th>mesolitica/finetune-translation-t5-tiny-standard-bahasa-cased</th>\n",
       "      <td>139</td>\n",
       "      <td>37.260485</td>\n",
       "      <td>68.3/44.1/30.5/21.4 (BP = 0.995 ratio = 0.995 ...</td>\n",
       "      <td>61.29</td>\n",
       "      <td>256</td>\n",
       "    </tr>\n",
       "    <tr>\n",
       "      <th>mesolitica/finetune-translation-t5-small-standard-bahasa-cased</th>\n",
       "      <td>242</td>\n",
       "      <td>42.010218</td>\n",
       "      <td>71.7/49.0/35.6/26.1 (BP = 0.989 ratio = 0.989 ...</td>\n",
       "      <td>64.67</td>\n",
       "      <td>256</td>\n",
       "    </tr>\n",
       "    <tr>\n",
       "      <th>mesolitica/finetune-translation-t5-base-standard-bahasa-cased</th>\n",
       "      <td>892</td>\n",
       "      <td>43.408853</td>\n",
       "      <td>72.3/50.5/37.1/27.7 (BP = 0.987 ratio = 0.987 ...</td>\n",
       "      <td>65.44</td>\n",
       "      <td>256</td>\n",
       "    </tr>\n",
       "    <tr>\n",
       "      <th>mesolitica/finetune-noisy-translation-t5-tiny-bahasa-cased</th>\n",
       "      <td>139</td>\n",
       "      <td>39.725134</td>\n",
       "      <td>69.8/46.2/32.8/23.6 (BP = 0.999 ratio = 0.999 ...</td>\n",
       "      <td>None</td>\n",
       "      <td>256</td>\n",
       "    </tr>\n",
       "    <tr>\n",
       "      <th>mesolitica/finetune-noisy-translation-t5-small-bahasa-cased</th>\n",
       "      <td>242</td>\n",
       "      <td>41.834071</td>\n",
       "      <td>71.7/48.7/35.4/26.0 (BP = 0.989 ratio = 0.989 ...</td>\n",
       "      <td>None</td>\n",
       "      <td>256</td>\n",
       "    </tr>\n",
       "    <tr>\n",
       "      <th>mesolitica/finetune-noisy-translation-t5-base-bahasa-cased</th>\n",
       "      <td>242</td>\n",
       "      <td>43.432723</td>\n",
       "      <td>71.8/49.8/36.6/27.2 (BP = 1.000 ratio = 1.000 ...</td>\n",
       "      <td>None</td>\n",
       "      <td>256</td>\n",
       "    </tr>\n",
       "    <tr>\n",
       "      <th>mesolitica/finetune-noisy-translation-t5-tiny-bahasa-cased-v2</th>\n",
       "      <td>139</td>\n",
       "      <td>41.625536</td>\n",
       "      <td>73.4/50.1/35.7/25.7 (BP = 0.971 ratio = 0.972 ...</td>\n",
       "      <td>None</td>\n",
       "      <td>256</td>\n",
       "    </tr>\n",
       "    <tr>\n",
       "      <th>mesolitica/finetune-noisy-translation-t5-small-bahasa-cased-v4</th>\n",
       "      <td>242</td>\n",
       "      <td>41.625536</td>\n",
       "      <td>73.4/50.1/35.7/25.7 (BP = 0.971 ratio = 0.972 ...</td>\n",
       "      <td>None</td>\n",
       "      <td>256</td>\n",
       "    </tr>\n",
       "    <tr>\n",
       "      <th>mesolitica/finetune-noisy-translation-t5-base-bahasa-cased-v2</th>\n",
       "      <td>892</td>\n",
       "      <td>41.625536</td>\n",
       "      <td>73.4/50.1/35.7/25.7 (BP = 0.971 ratio = 0.972 ...</td>\n",
       "      <td>None</td>\n",
       "      <td>256</td>\n",
       "    </tr>\n",
       "  </tbody>\n",
       "</table>\n",
       "</div>"
      ],
      "text/plain": [
       "                                                   Size (MB)       BLEU  \\\n",
       "mesolitica/finetune-translation-t5-super-super-...      23.3  30.216144   \n",
       "mesolitica/finetune-translation-t5-super-tiny-s...      50.7  34.105615   \n",
       "mesolitica/finetune-translation-t5-tiny-standar...       139  37.260485   \n",
       "mesolitica/finetune-translation-t5-small-standa...       242  42.010218   \n",
       "mesolitica/finetune-translation-t5-base-standar...       892  43.408853   \n",
       "mesolitica/finetune-noisy-translation-t5-tiny-b...       139  39.725134   \n",
       "mesolitica/finetune-noisy-translation-t5-small-...       242  41.834071   \n",
       "mesolitica/finetune-noisy-translation-t5-base-b...       242  43.432723   \n",
       "mesolitica/finetune-noisy-translation-t5-tiny-b...       139  41.625536   \n",
       "mesolitica/finetune-noisy-translation-t5-small-...       242  41.625536   \n",
       "mesolitica/finetune-noisy-translation-t5-base-b...       892  41.625536   \n",
       "\n",
       "                                                                                    SacreBLEU Verbose  \\\n",
       "mesolitica/finetune-translation-t5-super-super-...  64.9/38.1/24.1/15.3 (BP = 0.978 ratio = 0.978 ...   \n",
       "mesolitica/finetune-translation-t5-super-tiny-s...  67.3/41.6/27.8/18.7 (BP = 0.982 ratio = 0.982 ...   \n",
       "mesolitica/finetune-translation-t5-tiny-standar...  68.3/44.1/30.5/21.4 (BP = 0.995 ratio = 0.995 ...   \n",
       "mesolitica/finetune-translation-t5-small-standa...  71.7/49.0/35.6/26.1 (BP = 0.989 ratio = 0.989 ...   \n",
       "mesolitica/finetune-translation-t5-base-standar...  72.3/50.5/37.1/27.7 (BP = 0.987 ratio = 0.987 ...   \n",
       "mesolitica/finetune-noisy-translation-t5-tiny-b...  69.8/46.2/32.8/23.6 (BP = 0.999 ratio = 0.999 ...   \n",
       "mesolitica/finetune-noisy-translation-t5-small-...  71.7/48.7/35.4/26.0 (BP = 0.989 ratio = 0.989 ...   \n",
       "mesolitica/finetune-noisy-translation-t5-base-b...  71.8/49.8/36.6/27.2 (BP = 1.000 ratio = 1.000 ...   \n",
       "mesolitica/finetune-noisy-translation-t5-tiny-b...  73.4/50.1/35.7/25.7 (BP = 0.971 ratio = 0.972 ...   \n",
       "mesolitica/finetune-noisy-translation-t5-small-...  73.4/50.1/35.7/25.7 (BP = 0.971 ratio = 0.972 ...   \n",
       "mesolitica/finetune-noisy-translation-t5-base-b...  73.4/50.1/35.7/25.7 (BP = 0.971 ratio = 0.972 ...   \n",
       "\n",
       "                                                   SacreBLEU-chrF++-FLORES200  \\\n",
       "mesolitica/finetune-translation-t5-super-super-...                      56.46   \n",
       "mesolitica/finetune-translation-t5-super-tiny-s...                      59.18   \n",
       "mesolitica/finetune-translation-t5-tiny-standar...                      61.29   \n",
       "mesolitica/finetune-translation-t5-small-standa...                      64.67   \n",
       "mesolitica/finetune-translation-t5-base-standar...                      65.44   \n",
       "mesolitica/finetune-noisy-translation-t5-tiny-b...                       None   \n",
       "mesolitica/finetune-noisy-translation-t5-small-...                       None   \n",
       "mesolitica/finetune-noisy-translation-t5-base-b...                       None   \n",
       "mesolitica/finetune-noisy-translation-t5-tiny-b...                       None   \n",
       "mesolitica/finetune-noisy-translation-t5-small-...                       None   \n",
       "mesolitica/finetune-noisy-translation-t5-base-b...                       None   \n",
       "\n",
       "                                                   Suggested length  \n",
       "mesolitica/finetune-translation-t5-super-super-...              256  \n",
       "mesolitica/finetune-translation-t5-super-tiny-s...              256  \n",
       "mesolitica/finetune-translation-t5-tiny-standar...              256  \n",
       "mesolitica/finetune-translation-t5-small-standa...              256  \n",
       "mesolitica/finetune-translation-t5-base-standar...              256  \n",
       "mesolitica/finetune-noisy-translation-t5-tiny-b...              256  \n",
       "mesolitica/finetune-noisy-translation-t5-small-...              256  \n",
       "mesolitica/finetune-noisy-translation-t5-base-b...              256  \n",
       "mesolitica/finetune-noisy-translation-t5-tiny-b...              256  \n",
       "mesolitica/finetune-noisy-translation-t5-small-...              256  \n",
       "mesolitica/finetune-noisy-translation-t5-base-b...              256  "
      ]
     },
     "execution_count": 2,
     "metadata": {},
     "output_type": "execute_result"
    }
   ],
   "source": [
    "malaya.translation.ms_en.available_huggingface()"
   ]
  },
  {
   "cell_type": "markdown",
   "metadata": {},
   "source": [
    "### Load Transformer models\n",
    "\n",
    "```python\n",
    "def huggingface(\n",
    "    model: str = 'mesolitica/finetune-translation-t5-small-standard-bahasa-cased',\n",
    "    force_check: bool = True,\n",
    "    **kwargs,\n",
    "):\n",
    "    \"\"\"\n",
    "    Load HuggingFace model to translate MS-to-EN.\n",
    "\n",
    "    Parameters\n",
    "    ----------\n",
    "    model: str, optional (default='mesolitica/finetune-translation-t5-small-standard-bahasa-cased')\n",
    "        Check available models at `malaya.translation.ms_en.available_huggingface()`.\n",
    "    force_check: bool, optional (default=True)\n",
    "        Force check model one of malaya model.\n",
    "        Set to False if you have your own huggingface model.\n",
    "\n",
    "    Returns\n",
    "    -------\n",
    "    result: malaya.torch_model.huggingface.Generator\n",
    "    \"\"\"\n",
    "```"
   ]
  },
  {
   "cell_type": "code",
   "execution_count": 4,
   "metadata": {},
   "outputs": [],
   "source": [
    "transformer = malaya.translation.ms_en.huggingface(model = 'mesolitica/finetune-translation-t5-small-standard-bahasa-cased')"
   ]
  },
  {
   "cell_type": "code",
   "execution_count": 5,
   "metadata": {},
   "outputs": [
    {
     "data": {
      "application/vnd.jupyter.widget-view+json": {
       "model_id": "2050e151c50b4937b8fb0f1584782d52",
       "version_major": 2,
       "version_minor": 0
      },
      "text/plain": [
       "Downloading:   0%|          | 0.00/826 [00:00<?, ?B/s]"
      ]
     },
     "metadata": {},
     "output_type": "display_data"
    },
    {
     "data": {
      "application/vnd.jupyter.widget-view+json": {
       "model_id": "2b7461205d68462c8bb86ef11ed439a9",
       "version_major": 2,
       "version_minor": 0
      },
      "text/plain": [
       "Downloading:   0%|          | 0.00/242M [00:00<?, ?B/s]"
      ]
     },
     "metadata": {},
     "output_type": "display_data"
    }
   ],
   "source": [
    "transformer_noisy = malaya.translation.ms_en.huggingface(model = 'mesolitica/finetune-noisy-translation-t5-small-bahasa-cased-v4')"
   ]
  },
  {
   "cell_type": "markdown",
   "metadata": {},
   "source": [
    "### Translate\n",
    "\n",
    "```python\n",
    "def generate(self, strings: List[str], **kwargs):\n",
    "    \"\"\"\n",
    "    Generate texts from the input.\n",
    "\n",
    "    Parameters\n",
    "    ----------\n",
    "    strings : List[str]\n",
    "    **kwargs: vector arguments pass to huggingface `generate` method.\n",
    "\n",
    "    Returns\n",
    "    -------\n",
    "    result: List[str]\n",
    "    \"\"\"\n",
    "```\n",
    "\n",
    "**For better results, always split by end of sentences**."
   ]
  },
  {
   "cell_type": "code",
   "execution_count": 6,
   "metadata": {},
   "outputs": [],
   "source": [
    "from pprint import pprint"
   ]
  },
  {
   "cell_type": "code",
   "execution_count": 7,
   "metadata": {},
   "outputs": [
    {
     "name": "stdout",
     "output_type": "stream",
     "text": [
      "('TANGKAK - Tan Sri Muhyiddin Yassin berkata, beliau tidak mahu menyentuh '\n",
      " 'mengenai isu politik buat masa ini, sebaliknya mahu menumpukan kepada soal '\n",
      " 'kebajikan rakyat serta usaha merancakkan semula ekonomi negara yang terjejas '\n",
      " 'berikutan pandemik Covid-19. Perdana Menteri menjelaskan perkara itu ketika '\n",
      " 'berucap pada Majlis Bertemu Pemimpin bersama pemimpin masyarakat Dewan '\n",
      " 'Undangan Negeri (DUN) Gambir di Dewan Serbaguna Bukit Gambir hari ini.')\n"
     ]
    }
   ],
   "source": [
    "# https://www.sinarharian.com.my/article/89678/BERITA/Politik/Saya-tidak-mahu-sentuh-isu-politik-Muhyiddin\n",
    "\n",
    "string_news1 = 'TANGKAK - Tan Sri Muhyiddin Yassin berkata, beliau tidak mahu menyentuh mengenai isu politik buat masa ini, sebaliknya mahu menumpukan kepada soal kebajikan rakyat serta usaha merancakkan semula ekonomi negara yang terjejas berikutan pandemik Covid-19. Perdana Menteri menjelaskan perkara itu ketika berucap pada Majlis Bertemu Pemimpin bersama pemimpin masyarakat Dewan Undangan Negeri (DUN) Gambir di Dewan Serbaguna Bukit Gambir hari ini.'\n",
    "pprint(string_news1)"
   ]
  },
  {
   "cell_type": "code",
   "execution_count": 8,
   "metadata": {},
   "outputs": [
    {
     "name": "stdout",
     "output_type": "stream",
     "text": [
      "('ALOR SETAR - Kemelut politik Pakatan Harapan (PH) belum berkesudahan apabila '\n",
      " 'masih gagal memuktamadkan calon Perdana Menteri yang dipersetujui bersama. '\n",
      " 'Ahli Parlimen Sik, Ahmad Tarmizi Sulaiman berkata, sehubungan itu pihaknya '\n",
      " 'mencadangkan mantan Pengerusi Parti Pribumi Bersatu Malaysia (Bersatu), Tun '\n",
      " 'Dr Mahathir Mohamad dan Presiden Parti Keadilan Rakyat (PKR), Datuk Seri '\n",
      " 'Anwar Ibrahim mengundurkan diri daripada politik sebagai jalan penyelesaian.')\n"
     ]
    }
   ],
   "source": [
    "# https://www.sinarharian.com.my/article/90021/BERITA/Politik/Tun-Mahathir-Anwar-disaran-bersara-untuk-selesai-kemelut-politik\n",
    "\n",
    "string_news2 = 'ALOR SETAR - Kemelut politik Pakatan Harapan (PH) belum berkesudahan apabila masih gagal memuktamadkan calon Perdana Menteri yang dipersetujui bersama. Ahli Parlimen Sik, Ahmad Tarmizi Sulaiman berkata, sehubungan itu pihaknya mencadangkan mantan Pengerusi Parti Pribumi Bersatu Malaysia (Bersatu), Tun Dr Mahathir Mohamad dan Presiden Parti Keadilan Rakyat (PKR), Datuk Seri Anwar Ibrahim mengundurkan diri daripada politik sebagai jalan penyelesaian.'\n",
    "pprint(string_news2)"
   ]
  },
  {
   "cell_type": "code",
   "execution_count": 9,
   "metadata": {},
   "outputs": [
    {
     "name": "stdout",
     "output_type": "stream",
     "text": [
      "('Menteri Kanan (Kluster Keselamatan) Datuk Seri Ismail Sabri Yaakob berkata, '\n",
      " 'kelonggaran itu diberi berikutan kerajaan menyedari masalah yang dihadapi '\n",
      " 'mereka untuk memperbaharui dokumen itu. Katanya, selain itu, bagi rakyat '\n",
      " 'asing yang pas lawatan sosial tamat semasa Perintah Kawalan Pergerakan (PKP) '\n",
      " 'pula boleh ke pejabat Jabatan Imigresen yang terdekat untuk mendapatkan '\n",
      " 'lanjutan tempoh.')\n"
     ]
    }
   ],
   "source": [
    "string_news3 = 'Menteri Kanan (Kluster Keselamatan) Datuk Seri Ismail Sabri Yaakob berkata, kelonggaran itu diberi berikutan kerajaan menyedari masalah yang dihadapi mereka untuk memperbaharui dokumen itu. Katanya, selain itu, bagi rakyat asing yang pas lawatan sosial tamat semasa Perintah Kawalan Pergerakan (PKP) pula boleh ke pejabat Jabatan Imigresen yang terdekat untuk mendapatkan lanjutan tempoh.'\n",
    "pprint(string_news3)"
   ]
  },
  {
   "cell_type": "code",
   "execution_count": 10,
   "metadata": {},
   "outputs": [
    {
     "name": "stdout",
     "output_type": "stream",
     "text": [
      "('Selain itu, pameran kerjaya membantu para pelajar menentukan kerjaya yang '\n",
      " 'akan diceburi oleh mereka. Seperti yang kita ketahui, pasaran kerjaya di '\n",
      " 'Malaysia sangat luas dan masih banyak sektor pekerjaan di negara ini yang '\n",
      " 'masih kosong kerana sukar untuk mencari tenaga kerja yang benar-benar '\n",
      " 'berkelayakan. Sebagai contohnya, sektor perubatan di Malaysia menghadapi '\n",
      " 'masalah kekurangan tenaga kerja yang kritikal, khususnya tenaga pakar '\n",
      " 'disebabkan peletakan jawatan oleh doktor dan pakar perubatan untuk memasuki '\n",
      " 'sektor swasta serta berkembangnya perkhidmatan kesihatan dan perubatan. '\n",
      " 'Setelah menyedari  hakikat ini, para pelajar akan lebih berminat untuk '\n",
      " 'menceburi bidang perubatan kerana pameran kerjaya yang dilaksanakan amat '\n",
      " 'membantu memberikan pengetahuan am tentang kerjaya ini')\n"
     ]
    }
   ],
   "source": [
    "# https://qcikgubm.blogspot.com/2018/02/contoh-soalan-dan-jawapan-karangan.html\n",
    "\n",
    "string_karangan = 'Selain itu, pameran kerjaya membantu para pelajar menentukan kerjaya yang akan diceburi oleh mereka. Seperti yang kita ketahui, pasaran kerjaya di Malaysia sangat luas dan masih banyak sektor pekerjaan di negara ini yang masih kosong kerana sukar untuk mencari tenaga kerja yang benar-benar berkelayakan. Sebagai contohnya, sektor perubatan di Malaysia menghadapi masalah kekurangan tenaga kerja yang kritikal, khususnya tenaga pakar disebabkan peletakan jawatan oleh doktor dan pakar perubatan untuk memasuki sektor swasta serta berkembangnya perkhidmatan kesihatan dan perubatan. Setelah menyedari  hakikat ini, para pelajar akan lebih berminat untuk menceburi bidang perubatan kerana pameran kerjaya yang dilaksanakan amat membantu memberikan pengetahuan am tentang kerjaya ini'\n",
    "pprint(string_karangan)"
   ]
  },
  {
   "cell_type": "code",
   "execution_count": 11,
   "metadata": {},
   "outputs": [
    {
     "name": "stderr",
     "output_type": "stream",
     "text": [
      "You're using a T5TokenizerFast tokenizer. Please note that with a fast tokenizer, using the `__call__` method is faster than using a method to encode the text followed by a call to the `pad` method to get a padded encoding.\n"
     ]
    },
    {
     "name": "stdout",
     "output_type": "stream",
     "text": [
      "['TANGKAK - Tan Sri Muhyiddin Yassin said, he does not want to touch on '\n",
      " 'political issues for now, but rather wants to focus on the welfare of the '\n",
      " \"people and efforts to revive the country's affected economy due to the \"\n",
      " 'Covid-19 pandemic. The Prime Minister explained the matter when speaking at '\n",
      " 'the meeting ceremony of leaders with the community leader of the Gambir '\n",
      " 'State Legislative Assembly (DUN) at the Bukit Gambir Multipurpose Hall '\n",
      " 'today.',\n",
      " 'ALOR SETAR - The political turmoil of Pakatan Harapan (PAKATAN HARAPAN) has '\n",
      " \"not ended when it still fails to finalize the Prime Minister's candidate \"\n",
      " 'agreed together. Sik Member of Parliament, Ahmad Tarmizi Sulaiman said, in '\n",
      " 'relation to that he suggested the former Chairman of the United Malaysian '\n",
      " 'Indigenous Party (Bersatu), Tun Doktor Mahathir Mohamad and the President of '\n",
      " \"the People's Justice Party (PKR), Datuk Seri Anwar Ibrahim resigning from \"\n",
      " 'politics as a solution.',\n",
      " 'Senior Minister (security cluster) Datuk Seri Ismail Sabri Yaakob said that '\n",
      " 'the relaxation was given as the government realized the problems they were '\n",
      " 'facing to renew the document. He said, besides that, for foreigners who pass '\n",
      " 'the social visit, they can go to the nearest Immigration Department office '\n",
      " 'to get an extension of the period.',\n",
      " 'In addition, career exhibitions help students determine the career they will '\n",
      " 'be entertained. As we know, the career market in Malaysia is very wide and '\n",
      " 'there are still many job sectors in this country that are still empty '\n",
      " 'because it is difficult to find a really qualified workforce. For example, '\n",
      " 'the medical sector in Malaysia faces the problem of lack of critical '\n",
      " 'workforce, especially specialist energy due to the resignation of doctors '\n",
      " 'and medical experts to enter the private sector and the development of '\n",
      " 'health and medical services. After realizing this fact, students will be '\n",
      " 'more interested in entering the medical field because the career exhibition '\n",
      " 'carried out is very helpful to provide general knowledge about this career']\n",
      "CPU times: user 21.6 s, sys: 8.49 ms, total: 21.6 s\n",
      "Wall time: 1.83 s\n"
     ]
    }
   ],
   "source": [
    "%%time\n",
    "\n",
    "pprint(transformer_noisy.generate([string_news1, string_news2, string_news3, string_karangan],\n",
    "                                 max_length = 1000))"
   ]
  },
  {
   "cell_type": "markdown",
   "metadata": {},
   "source": [
    "### compare results using local language structure"
   ]
  },
  {
   "cell_type": "code",
   "execution_count": 12,
   "metadata": {},
   "outputs": [],
   "source": [
    "strings = [\n",
    "    'ak tak paham la',\n",
    "    'Hi guys! I noticed semalam & harini dah ramai yang dapat cookies ni kan. So harini i nak share some post mortem of our first batch:',\n",
    "    \"Memanglah. Ini tak payah expert, aku pun tau. It's a gesture, bodoh.\",\n",
    "    'jam 8 di pasar KK memang org ramai 😂, pandai dia pilih tmpt.',\n",
    "    'Jadi haram jadah😀😃🤭',\n",
    "    'nak gi mana tuu',\n",
    "    'Macam nak ambil half day',\n",
    "    \"Bayangkan PH dan menang pru-14. Pastu macam-macam pintu belakang ada. Last-last Ismail Sabri naik. That's why I don't give a fk about politics anymore. Sumpah dah fk up dah.\",\n",
    "]"
   ]
  },
  {
   "cell_type": "code",
   "execution_count": 15,
   "metadata": {},
   "outputs": [
    {
     "name": "stderr",
     "output_type": "stream",
     "text": [
      "You're using a T5TokenizerFast tokenizer. Please note that with a fast tokenizer, using the `__call__` method is faster than using a method to encode the text followed by a call to the `pad` method to get a padded encoding.\n"
     ]
    },
    {
     "name": "stdout",
     "output_type": "stream",
     "text": [
      "CPU times: user 8.59 s, sys: 0 ns, total: 8.59 s\n",
      "Wall time: 720 ms\n"
     ]
    },
    {
     "data": {
      "text/plain": [
       "[\"I don't understand\",\n",
       " 'Hello guys! I noticed yesterday & today there are many who got these cookies, right? So today I want to share some post mortem of our first batch:',\n",
       " \"It's not a expert, I know. It's a gesture, stupid.\",\n",
       " \"At 8am, the KK market is very good, and it's a good idea to choose a tmpt.\",\n",
       " \"So it's a fucking shit.\",\n",
       " 'Where do you want to go?',\n",
       " \"It's like taking half a day.\",\n",
       " \"Imagine PH and win pru-14. Pastu all sorts of back door there. Last-last Ismail Sabri naik. That's why I don't give a fk about politics anymore. I swear it's fk up.\"]"
      ]
     },
     "execution_count": 15,
     "metadata": {},
     "output_type": "execute_result"
    }
   ],
   "source": [
    "%%time\n",
    "\n",
    "transformer.generate(strings, max_length = 1000)"
   ]
  },
  {
   "cell_type": "code",
   "execution_count": 16,
   "metadata": {},
   "outputs": [
    {
     "name": "stdout",
     "output_type": "stream",
     "text": [
      "CPU times: user 9.91 s, sys: 1.92 ms, total: 9.91 s\n",
      "Wall time: 832 ms\n"
     ]
    },
    {
     "data": {
      "text/plain": [
       "[\"I don't understand\",\n",
       " 'Hi guys! I noticed yesterday & today many people got these cookies, right? So today I want to share some post mortem of our first batch:',\n",
       " \"Indeed. This does not need to be an expert, I know too. It's a gesture, stupid.\",\n",
       " \"at 8 o'clock at the OKAY market it's really crowded, he's good at choosing a place.\",\n",
       " \"So it's illegal \",\n",
       " 'where do you want to go?',\n",
       " 'Like taking half a day',\n",
       " \"Imagine PAKATAN HARAPAN and winning pru-14. After that, all kinds of backdoors are there. Last-last Ismail Sabri went up. That's why I don't give it about politics anymore. I swear it's up.\"]"
      ]
     },
     "execution_count": 16,
     "metadata": {},
     "output_type": "execute_result"
    }
   ],
   "source": [
    "%%time\n",
    "\n",
    "transformer_noisy.generate(strings, max_length = 1000)"
   ]
  },
  {
   "cell_type": "markdown",
   "metadata": {},
   "source": [
    "### compare with Google translate using googletrans\n",
    "\n",
    "Install it by,\n",
    "\n",
    "```bash\n",
    "pip3 install googletrans==4.0.0rc1\n",
    "```"
   ]
  },
  {
   "cell_type": "code",
   "execution_count": 17,
   "metadata": {},
   "outputs": [],
   "source": [
    "from googletrans import Translator\n",
    "\n",
    "translator = Translator()"
   ]
  },
  {
   "cell_type": "code",
   "execution_count": 18,
   "metadata": {},
   "outputs": [
    {
     "name": "stdout",
     "output_type": "stream",
     "text": [
      "I don't understand\n",
      "Hi guys!I noticed yesterday & today many have got these cookies.So today I want to share some post mortem of our first batch:\n",
      "That's it.This is not an expert, I know.It's a gesture, stupid.\n",
      "At 8 o'clock in the KK market is a lot of people 😂, he's good at choosing TMPT.\n",
      "So it's illegal to make it\n",
      "Where are you going\n",
      "It's like taking half day\n",
      "Imagine PH and won the GE-14.There must be all kinds of back doors.Last-last Ismail Sabri went up.That's why I don't give a fk about politics anymore.I swear it's up.\n"
     ]
    }
   ],
   "source": [
    "for t in strings:\n",
    "    r = translator.translate(t, src='ms', dest = 'en')\n",
    "    print(r.text)"
   ]
  }
 ],
 "metadata": {
  "kernelspec": {
   "display_name": "Python 3 (ipykernel)",
   "language": "python",
   "name": "python3"
  },
  "language_info": {
   "codemirror_mode": {
    "name": "ipython",
    "version": 3
   },
   "file_extension": ".py",
   "mimetype": "text/x-python",
   "name": "python",
   "nbconvert_exporter": "python",
   "pygments_lexer": "ipython3",
   "version": "3.8.10"
  },
  "varInspector": {
   "cols": {
    "lenName": 16,
    "lenType": 16,
    "lenVar": 40
   },
   "kernels_config": {
    "python": {
     "delete_cmd_postfix": "",
     "delete_cmd_prefix": "del ",
     "library": "var_list.py",
     "varRefreshCmd": "print(var_dic_list())"
    },
    "r": {
     "delete_cmd_postfix": ") ",
     "delete_cmd_prefix": "rm(",
     "library": "var_list.r",
     "varRefreshCmd": "cat(var_dic_list()) "
    }
   },
   "types_to_exclude": [
    "module",
    "function",
    "builtin_function_or_method",
    "instance",
    "_Feature"
   ],
   "window_display": false
  }
 },
 "nbformat": 4,
 "nbformat_minor": 4
}
