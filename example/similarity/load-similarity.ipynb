{
 "cells": [
  {
   "cell_type": "code",
   "execution_count": 1,
   "metadata": {},
   "outputs": [
    {
     "name": "stdout",
     "output_type": "stream",
     "text": [
      "CPU times: user 13.8 s, sys: 1.58 s, total: 15.4 s\n",
      "Wall time: 19.6 s\n"
     ]
    }
   ],
   "source": [
    "%%time\n",
    "import malaya"
   ]
  },
  {
   "cell_type": "code",
   "execution_count": 2,
   "metadata": {},
   "outputs": [],
   "source": [
    "news = 'najib razak dan mahathir mengalami masalah air di kemamam terengganu'\n",
    "second_news = 'ikat penyedia perkhidmatan jalur lebar Telekom Malaysia (TM) perlu mencari jalan penyelesaian bagi meningkatkan akses capaian Internet ke seluruh negara, kata Menteri Komunikasi dan Multimedia, Gobind Singh Deo. Beliau berkata menjadi dasar kerajaan untuk membekalkan akses Internet jalur lebar kepada semua dan memberi penekanan kepada kualiti perkhidmatan yang terbaik. \"Dasar kerajaan untuk bekalkan akses kepada semua bukan sekadar pembekalan sahaja tetapi beri penekanan kepada kualiti perkhidmatan yang baik dan dapat bersaing dengan negara lain pada tahap antarabangsa,\" kata Gobind Singh menerusi catatan di laman rasmi Twitter beliau, malam tadi. Beliau berkata demikian sebagai respons terhadap aduan beberapa pengguna Twitter berhubung akses Internet yang masih tidak stabil serta harga yang tidak berpatutan di beberapa lokasi di seluruh negara.'"
   ]
  },
  {
   "cell_type": "markdown",
   "metadata": {},
   "source": [
    "## Topics provided by malaya"
   ]
  },
  {
   "cell_type": "markdown",
   "metadata": {},
   "source": [
    "#### Topics"
   ]
  },
  {
   "cell_type": "code",
   "execution_count": 3,
   "metadata": {},
   "outputs": [
    {
     "data": {
      "text/plain": [
       "['sosial', 'kehidupan', 'taraf hidup', 'sosiologi', 'keusahawan', 'masyarakat']"
      ]
     },
     "execution_count": 3,
     "metadata": {},
     "output_type": "execute_result"
    }
   ],
   "source": [
    "malaya.topic.topic['sosial']"
   ]
  },
  {
   "cell_type": "markdown",
   "metadata": {},
   "source": [
    "#### Influencer"
   ]
  },
  {
   "cell_type": "code",
   "execution_count": 4,
   "metadata": {},
   "outputs": [
    {
     "data": {
      "text/plain": [
       "['tun mahathir',\n",
       " 'madey',\n",
       " 'dr mahathir',\n",
       " 'tun m',\n",
       " 'mahathir',\n",
       " 'madir',\n",
       " 'dr m',\n",
       " 'mahathir muhamad']"
      ]
     },
     "execution_count": 4,
     "metadata": {},
     "output_type": "execute_result"
    }
   ],
   "source": [
    "malaya.topic.influencer['mahathir']"
   ]
  },
  {
   "cell_type": "markdown",
   "metadata": {},
   "source": [
    "#### location"
   ]
  },
  {
   "cell_type": "code",
   "execution_count": 5,
   "metadata": {},
   "outputs": [
    {
     "data": {
      "text/plain": [
       "{'negeri': 'JOHOR', 'parlimen': 'SEGAMAT', 'dun': 'BULOH KASAP'}"
      ]
     },
     "execution_count": 5,
     "metadata": {},
     "output_type": "execute_result"
    }
   ],
   "source": [
    "malaya.topic.location[0]"
   ]
  },
  {
   "cell_type": "markdown",
   "metadata": {},
   "source": [
    "#### wakil rakyat"
   ]
  },
  {
   "cell_type": "code",
   "execution_count": 6,
   "metadata": {},
   "outputs": [
    {
     "data": {
      "text/plain": [
       "{'KodN': 1,\n",
       " 'KodParlimen': 1,\n",
       " 'KodKawasan': 1,\n",
       " 'JenisKawasan': 'PARLIMEN',\n",
       " 'susunan': 2,\n",
       " 'NamaCalon': 'DATUK ZAHIDI BIN ZAINUL ABIDIN',\n",
       " 'parti': 'BN'}"
      ]
     },
     "execution_count": 6,
     "metadata": {},
     "output_type": "execute_result"
    }
   ],
   "source": [
    "malaya.topic.calon[0]"
   ]
  },
  {
   "cell_type": "markdown",
   "metadata": {},
   "source": [
    "## Train fuzzy text similarity\n",
    "\n",
    "I want to train topics related when given a string. You can give any corpus, the format is,\n",
    "\n",
    "```python\n",
    "{'left':['right1','right2']}\n",
    "```"
   ]
  },
  {
   "cell_type": "code",
   "execution_count": 7,
   "metadata": {},
   "outputs": [],
   "source": [
    "fuzzy = malaya.similarity.fuzzy(malaya.topic.topic)"
   ]
  },
  {
   "cell_type": "code",
   "execution_count": 8,
   "metadata": {},
   "outputs": [
    {
     "data": {
      "text/plain": [
       "['najib razak', 'masalah air', 'mahathir', 'tan sri mokhzani mahathir']"
      ]
     },
     "execution_count": 8,
     "metadata": {},
     "output_type": "execute_result"
    }
   ],
   "source": [
    "fuzzy.get_similarity(news,fuzzy_ratio = 60)"
   ]
  },
  {
   "cell_type": "code",
   "execution_count": 9,
   "metadata": {},
   "outputs": [
    {
     "data": {
      "text/plain": [
       "['telekom malaysia',\n",
       " 'kerajaan',\n",
       " 'internet',\n",
       " 'twitter',\n",
       " 'teknologi',\n",
       " 'politik',\n",
       " 'pendidikan',\n",
       " 'sosial media']"
      ]
     },
     "execution_count": 9,
     "metadata": {},
     "output_type": "execute_result"
    }
   ],
   "source": [
    "fuzzy.get_similarity(second_news,fuzzy_ratio = 90)"
   ]
  },
  {
   "cell_type": "markdown",
   "metadata": {},
   "source": [
    "## Train bag-of-word text similarity\n",
    "\n",
    "I want to train topics related when given a string. You can give any corpus, the format is,\n",
    "\n",
    "```python\n",
    "{'left':['right1','right2']}\n",
    "```\n",
    "\n",
    "bag-of-word text similarity fitted by using character wised n-gram.\n",
    "\n",
    "`vectorizer` supported `['tfidf','count','skip-gram']`."
   ]
  },
  {
   "cell_type": "code",
   "execution_count": 10,
   "metadata": {},
   "outputs": [],
   "source": [
    "tfidf = malaya.similarity.bow(malaya.topic.topic,vectorizer = 'tfidf')"
   ]
  },
  {
   "cell_type": "code",
   "execution_count": 11,
   "metadata": {},
   "outputs": [
    {
     "data": {
      "text/plain": [
       "['kkmm', 'universiti islam antarabangsa', 'perkhidmatan awam', 'twitter']"
      ]
     },
     "execution_count": 11,
     "metadata": {},
     "output_type": "execute_result"
    }
   ],
   "source": [
    "tfidf.get_similarity(second_news)"
   ]
  },
  {
   "cell_type": "code",
   "execution_count": 12,
   "metadata": {},
   "outputs": [],
   "source": [
    "count = malaya.similarity.bow(malaya.topic.topic,vectorizer = 'count')"
   ]
  },
  {
   "cell_type": "code",
   "execution_count": 13,
   "metadata": {},
   "outputs": [
    {
     "data": {
      "text/plain": [
       "['mic',\n",
       " 'kerajaan',\n",
       " 'majlis pakatan harapan',\n",
       " 'jabatan bubar',\n",
       " '1malaysia',\n",
       " 'kemelangan penumpang cedera',\n",
       " 'pendidikan',\n",
       " 'malaysian chinese association',\n",
       " 'ppbm',\n",
       " 'menyiasat skandal',\n",
       " 'tentera malaysia',\n",
       " 'pakatan harapan',\n",
       " 'parti islam semalaysia',\n",
       " 'jabatan agama islam wilayah persekutuan',\n",
       " 'bursa malaysia',\n",
       " 'rela',\n",
       " 'undi pos',\n",
       " 'twitter',\n",
       " 'parti pribumi bersatu malaysia',\n",
       " 'perkhidmatan awam',\n",
       " 'hutang negara',\n",
       " 'politik',\n",
       " 'timbalan perdana menteri',\n",
       " 'kkmm',\n",
       " 'perdana menteri',\n",
       " 'ptptn',\n",
       " 'menteri pertahanan',\n",
       " 'universiti islam antarabangsa',\n",
       " 'gaji menteri',\n",
       " 'teknologi',\n",
       " 'bebas tahanan',\n",
       " 'infrastruktur',\n",
       " 'menteri kewangan']"
      ]
     },
     "execution_count": 13,
     "metadata": {},
     "output_type": "execute_result"
    }
   ],
   "source": [
    "count.get_similarity(second_news)"
   ]
  },
  {
   "cell_type": "code",
   "execution_count": 14,
   "metadata": {},
   "outputs": [],
   "source": [
    "skip = malaya.similarity.bow(malaya.topic.topic,vectorizer = 'skip-gram')"
   ]
  },
  {
   "cell_type": "code",
   "execution_count": 15,
   "metadata": {},
   "outputs": [
    {
     "data": {
      "text/plain": [
       "[]"
      ]
     },
     "execution_count": 15,
     "metadata": {},
     "output_type": "execute_result"
    }
   ],
   "source": [
    "skip.get_similarity(second_news)"
   ]
  },
  {
   "cell_type": "markdown",
   "metadata": {},
   "source": [
    "## Train siamese network text similarity\n",
    "\n",
    "All parameters supported,\n",
    "```python\n",
    "    \"\"\"\n",
    "    Train a deep siamese network for text similarity\n",
    "\n",
    "    Parameters\n",
    "    ----------\n",
    "    dictionary: dict\n",
    "        format {'left':['right']}\n",
    "    epoch: int, (default=5)\n",
    "        iteration numbers\n",
    "    batch_size: int, (default=32)\n",
    "        batch size for every feed, batch size must <= size of corpus\n",
    "    embedding_size: int, (default=256)\n",
    "        vector size representation for a word\n",
    "    output_size: int, (default=100)\n",
    "        encoder output size, bigger means more vector definition\n",
    "    maxlen: int, (default=100)\n",
    "        max length of a string to be train\n",
    "    ngram: tuple, (default=(1,4))\n",
    "        n-grams size to train a corpus\n",
    "    num_layers: int, (default=100)\n",
    "        number of bidirectional rnn layers\n",
    "\n",
    "    Returns\n",
    "    -------\n",
    "    _DEEP_SIAMESE_SIMILARITY: malaya.similarity._DEEP_SIAMESE_SIMILARITY class\n",
    "    \"\"\"\n",
    "```"
   ]
  },
  {
   "cell_type": "code",
   "execution_count": 17,
   "metadata": {},
   "outputs": [
    {
     "name": "stderr",
     "output_type": "stream",
     "text": [
      "minibatch loop: 100%|██████████| 137/137 [02:04<00:00,  1.35it/s, accuracy=0.5, cost=0.128]  \n",
      "minibatch loop: 100%|██████████| 137/137 [01:58<00:00,  1.45it/s, accuracy=0.75, cost=0.11]  \n",
      "minibatch loop: 100%|██████████| 137/137 [02:02<00:00,  1.38it/s, accuracy=1, cost=0.0455]    \n"
     ]
    },
    {
     "data": {
      "text/plain": [
       "['isytihar darurat',\n",
       " 'mic',\n",
       " 'dewan rakyat',\n",
       " 'agama',\n",
       " 'majlis pakatan harapan',\n",
       " 'cambridge analytica',\n",
       " 'tabung haji',\n",
       " 'ganja',\n",
       " 'universiti',\n",
       " 'isu kerugian',\n",
       " 'isu dadah',\n",
       " 'tun daim zainuddin',\n",
       " 'menteri dalam negeri',\n",
       " 'perkasa',\n",
       " 'pengedar dadah',\n",
       " 'anwar ibrahim',\n",
       " 'sst',\n",
       " 'saham dan komoditi',\n",
       " 'amanah',\n",
       " 'astro awani',\n",
       " 'recep tayyip erdogan',\n",
       " 'kementerian dalam negeri',\n",
       " 'pakatan harapan',\n",
       " 'parti islam semalaysia',\n",
       " 'jabatan agama islam wilayah persekutuan',\n",
       " 'undi pos',\n",
       " 'pusat daerah mangundi',\n",
       " 'programming language',\n",
       " 'wan azizah',\n",
       " 'rumah mampu milik',\n",
       " 'kkmm',\n",
       " 'menteri pertahanan',\n",
       " 'universiti islam antarabangsa',\n",
       " 'datuk seri abdul hadi awang',\n",
       " 'donald trump',\n",
       " 'gaji menteri',\n",
       " 'bebas tahanan',\n",
       " 'ask me a question',\n",
       " 'ahli dewan undangan negeri']"
      ]
     },
     "execution_count": 17,
     "metadata": {},
     "output_type": "execute_result"
    }
   ],
   "source": [
    "siamese = malaya.similarity.deep_siamese(malaya.topic.topic,epoch=3)\n",
    "siamese.get_similarity(news)"
   ]
  },
  {
   "cell_type": "markdown",
   "metadata": {},
   "source": [
    "You can speed up your training iteration by using [malaya-gpu](https://pypi.org/project/malaya-gpu/)"
   ]
  },
  {
   "cell_type": "markdown",
   "metadata": {},
   "source": [
    "After you trained, actually you save that model by using method `save_model`. Just provide directory you want to save."
   ]
  },
  {
   "cell_type": "code",
   "execution_count": 18,
   "metadata": {},
   "outputs": [],
   "source": [
    "siamese.save_model('siamese')"
   ]
  },
  {
   "cell_type": "code",
   "execution_count": 19,
   "metadata": {},
   "outputs": [
    {
     "name": "stdout",
     "output_type": "stream",
     "text": [
      "checkpoint                     model.ckpt.meta\r\n",
      "model.ckpt.data-00000-of-00001 model.json\r\n",
      "model.ckpt.index\r\n"
     ]
    }
   ],
   "source": [
    "!ls siamese"
   ]
  },
  {
   "cell_type": "markdown",
   "metadata": {},
   "source": [
    "You can load your model but need to use interface provided by malaya, `malaya.similarity.load_siamese`"
   ]
  },
  {
   "cell_type": "code",
   "execution_count": 20,
   "metadata": {},
   "outputs": [
    {
     "name": "stdout",
     "output_type": "stream",
     "text": [
      "INFO:tensorflow:Restoring parameters from siamese/model.ckpt\n"
     ]
    }
   ],
   "source": [
    "siamese = malaya.similarity.load_siamese('siamese')"
   ]
  },
  {
   "cell_type": "code",
   "execution_count": 21,
   "metadata": {},
   "outputs": [
    {
     "data": {
      "text/plain": [
       "['isytihar darurat',\n",
       " 'mic',\n",
       " 'majlis pakatan harapan',\n",
       " 'cambridge analytica',\n",
       " 'ask me a question',\n",
       " 'tabung harapan',\n",
       " 'tabung haji',\n",
       " 'ganja',\n",
       " 'universiti',\n",
       " 'isu kerugian',\n",
       " 'isu dadah',\n",
       " 'tun daim zainuddin',\n",
       " 'menteri dalam negeri',\n",
       " 'perkasa',\n",
       " 'pengedar dadah',\n",
       " 'anwar ibrahim',\n",
       " 'sst',\n",
       " 'saham dan komoditi',\n",
       " 'amanah',\n",
       " 'astro awani',\n",
       " 'recep tayyip erdogan',\n",
       " 'kementerian dalam negeri',\n",
       " 'parti islam semalaysia',\n",
       " 'jabatan agama islam wilayah persekutuan',\n",
       " 'isu ecrl',\n",
       " 'parti keadilan rakyat',\n",
       " 'pusat daerah mangundi',\n",
       " 'programming language',\n",
       " 'wan azizah',\n",
       " 'timbalan perdana menteri',\n",
       " 'kkmm',\n",
       " 'perdana menteri',\n",
       " 'masalah air',\n",
       " 'menteri pertahanan',\n",
       " 'universiti islam antarabangsa',\n",
       " 'datuk seri abdul hadi awang',\n",
       " 'donald trump',\n",
       " 'gaji menteri',\n",
       " 'bebas tahanan',\n",
       " 'datuk seri azmin ali',\n",
       " 'ahli dewan undangan negeri']"
      ]
     },
     "execution_count": 21,
     "metadata": {},
     "output_type": "execute_result"
    }
   ],
   "source": [
    "siamese.get_similarity(news)"
   ]
  },
  {
   "cell_type": "markdown",
   "metadata": {},
   "source": [
    "## Train skipthought text similarity\n",
    "\n",
    "All parameters supported,\n",
    "\n",
    "```python\n",
    "    \"\"\"\n",
    "    Train a deep skip-thought network for text similarity\n",
    "\n",
    "    Parameters\n",
    "    ----------\n",
    "    dictionary: dict\n",
    "        format {'left':['right']}\n",
    "    epoch: int, (default=5)\n",
    "        iteration numbers\n",
    "    batch_size: int, (default=32)\n",
    "        batch size for every feed, batch size must <= size of corpus\n",
    "    embedding_size: int, (default=256)\n",
    "        vector size representation for a word\n",
    "    maxlen: int, (default=100)\n",
    "        max length of a string to be train\n",
    "    ngram: tuple, (default=(1,4))\n",
    "        n-grams size to train a corpus\n",
    "\n",
    "    Returns\n",
    "    -------\n",
    "    _DEEP_SIMILARITY: malaya.similarity._DEEP_SIMILARITY class\n",
    "    \"\"\"\n",
    "```"
   ]
  },
  {
   "cell_type": "code",
   "execution_count": 22,
   "metadata": {},
   "outputs": [
    {
     "name": "stderr",
     "output_type": "stream",
     "text": [
      "minibatch loop: 100%|██████████| 137/137 [01:35<00:00,  1.83it/s, cost=3.05]\n",
      "minibatch loop: 100%|██████████| 137/137 [01:31<00:00,  1.69it/s, cost=0.428]\n",
      "minibatch loop: 100%|██████████| 137/137 [01:38<00:00,  1.71it/s, cost=0.164]\n"
     ]
    },
    {
     "data": {
      "text/plain": [
       "['malaysia-indonesia',\n",
       " 'tunku ismail idris',\n",
       " 'mikro-ekonomi',\n",
       " 'tengku razaleigh hamzah',\n",
       " 'k-pop',\n",
       " 'kkmm',\n",
       " 'pusat transformasi bandar',\n",
       " 'hari raya',\n",
       " '#fakenews',\n",
       " 'makro-ekonomi',\n",
       " 'lee kuan yew',\n",
       " 'pilihan raya umum ke-14',\n",
       " 'undi rosak',\n",
       " 'datuk seri azmin ali',\n",
       " 'ahli dewan undangan negeri',\n",
       " 'recep tayyip erdogan',\n",
       " 'inisiatif peduli rakyat',\n",
       " 'nga kor ming']"
      ]
     },
     "execution_count": 22,
     "metadata": {},
     "output_type": "execute_result"
    }
   ],
   "source": [
    "skipthought = malaya.similarity.deep_skipthought(malaya.topic.topic,epoch=3)\n",
    "skipthought.get_similarity(news)"
   ]
  },
  {
   "cell_type": "markdown",
   "metadata": {},
   "source": [
    "You can speed up your training iteration by using [malaya-gpu](https://pypi.org/project/malaya-gpu/)"
   ]
  },
  {
   "cell_type": "markdown",
   "metadata": {},
   "source": [
    "After you trained, actually you save that model by using method `save_model`. Just provide directory you want to save."
   ]
  },
  {
   "cell_type": "code",
   "execution_count": 23,
   "metadata": {},
   "outputs": [],
   "source": [
    "skipthought.save_model('skipthought')"
   ]
  },
  {
   "cell_type": "code",
   "execution_count": 24,
   "metadata": {},
   "outputs": [
    {
     "name": "stdout",
     "output_type": "stream",
     "text": [
      "checkpoint                     model.ckpt.meta\r\n",
      "model.ckpt.data-00000-of-00001 model.json\r\n",
      "model.ckpt.index\r\n"
     ]
    }
   ],
   "source": [
    "!ls skipthought"
   ]
  },
  {
   "cell_type": "markdown",
   "metadata": {},
   "source": [
    "You can load your model but need to use interface provided by malaya, `malaya.similarity.load_skipthought`"
   ]
  },
  {
   "cell_type": "code",
   "execution_count": 25,
   "metadata": {},
   "outputs": [
    {
     "name": "stdout",
     "output_type": "stream",
     "text": [
      "INFO:tensorflow:Restoring parameters from skipthought/model.ckpt\n"
     ]
    }
   ],
   "source": [
    "skipthought = malaya.similarity.load_skipthought('skipthought')"
   ]
  },
  {
   "cell_type": "code",
   "execution_count": 26,
   "metadata": {},
   "outputs": [
    {
     "data": {
      "text/plain": [
       "['malaysia-indonesia',\n",
       " 'tunku ismail idris',\n",
       " 'mikro-ekonomi',\n",
       " 'tengku razaleigh hamzah',\n",
       " 'k-pop',\n",
       " 'kkmm',\n",
       " 'pusat transformasi bandar',\n",
       " 'hari raya',\n",
       " '#fakenews',\n",
       " 'makro-ekonomi',\n",
       " 'lee kuan yew',\n",
       " 'pilihan raya umum ke-14',\n",
       " 'undi rosak',\n",
       " 'datuk seri azmin ali',\n",
       " 'ahli dewan undangan negeri',\n",
       " 'recep tayyip erdogan',\n",
       " 'inisiatif peduli rakyat',\n",
       " 'nga kor ming']"
      ]
     },
     "execution_count": 26,
     "metadata": {},
     "output_type": "execute_result"
    }
   ],
   "source": [
    "skipthought.get_similarity(news)"
   ]
  },
  {
   "cell_type": "markdown",
   "metadata": {},
   "source": [
    "## Using fuzzy for location"
   ]
  },
  {
   "cell_type": "code",
   "execution_count": 27,
   "metadata": {},
   "outputs": [
    {
     "data": {
      "text/plain": [
       "{'negeri': [], 'parlimen': ['sungai petani'], 'dun': []}"
      ]
     },
     "execution_count": 27,
     "metadata": {},
     "output_type": "execute_result"
    }
   ],
   "source": [
    "malaya.similarity.fuzzy_location('saya suka makan sate di sungai petani')"
   ]
  },
  {
   "cell_type": "markdown",
   "metadata": {},
   "source": [
    "## Check location from a string"
   ]
  },
  {
   "cell_type": "code",
   "execution_count": 28,
   "metadata": {},
   "outputs": [
    {
     "data": {
      "text/plain": [
       "True"
      ]
     },
     "execution_count": 28,
     "metadata": {},
     "output_type": "execute_result"
    }
   ],
   "source": [
    "malaya.similarity.is_location('sungai petani')"
   ]
  }
 ],
 "metadata": {
  "kernelspec": {
   "display_name": "Python 3",
   "language": "python",
   "name": "python3"
  },
  "language_info": {
   "codemirror_mode": {
    "name": "ipython",
    "version": 3
   },
   "file_extension": ".py",
   "mimetype": "text/x-python",
   "name": "python",
   "nbconvert_exporter": "python",
   "pygments_lexer": "ipython3",
   "version": "3.6.5"
  }
 },
 "nbformat": 4,
 "nbformat_minor": 2
}
