{
 "cells": [
  {
   "cell_type": "code",
   "execution_count": 1,
   "metadata": {},
   "outputs": [
    {
     "name": "stdout",
     "output_type": "stream",
     "text": [
      "CPU times: user 11.9 s, sys: 1.55 s, total: 13.5 s\n",
      "Wall time: 17.7 s\n"
     ]
    }
   ],
   "source": [
    "%%time\n",
    "import malaya"
   ]
  },
  {
   "cell_type": "markdown",
   "metadata": {},
   "source": [
    "## Load fuzzy speller"
   ]
  },
  {
   "cell_type": "code",
   "execution_count": 2,
   "metadata": {},
   "outputs": [],
   "source": [
    "malays = malaya.load_malay_dictionary()\n",
    "corrector = malaya.spell.fuzzy(malays)"
   ]
  },
  {
   "cell_type": "code",
   "execution_count": 3,
   "metadata": {},
   "outputs": [
    {
     "name": "stdout",
     "output_type": "stream",
     "text": [
      "[(('makanan', False), 73)] \n",
      "\n"
     ]
    },
    {
     "data": {
      "text/plain": [
       "'makanan'"
      ]
     },
     "execution_count": 3,
     "metadata": {},
     "output_type": "execute_result"
    }
   ],
   "source": [
    "corrector.correct('mknn')"
   ]
  },
  {
   "cell_type": "markdown",
   "metadata": {},
   "source": [
    "#### List similar words"
   ]
  },
  {
   "cell_type": "code",
   "execution_count": 4,
   "metadata": {},
   "outputs": [
    {
     "name": "stdout",
     "output_type": "stream",
     "text": [
      "[(('tepat', False), 80), (('tempat', False), 91), (('tumpat', True), 91)] \n",
      "\n"
     ]
    },
    {
     "data": {
      "text/plain": [
       "'tempat'"
      ]
     },
     "execution_count": 4,
     "metadata": {},
     "output_type": "execute_result"
    }
   ],
   "source": [
    "corrector.correct('tmpat',debug=True)"
   ]
  },
  {
   "cell_type": "markdown",
   "metadata": {},
   "source": [
    "#### Only pool based on first character"
   ]
  },
  {
   "cell_type": "code",
   "execution_count": 5,
   "metadata": {},
   "outputs": [
    {
     "name": "stdout",
     "output_type": "stream",
     "text": [
      "[(('makanan', False), 73)] \n",
      "\n",
      "CPU times: user 22.4 ms, sys: 1.46 ms, total: 23.9 ms\n",
      "Wall time: 24.5 ms\n"
     ]
    },
    {
     "data": {
      "text/plain": [
       "'makanan'"
      ]
     },
     "execution_count": 5,
     "metadata": {},
     "output_type": "execute_result"
    }
   ],
   "source": [
    "%%time\n",
    "corrector.correct('mknn',first_char=True)"
   ]
  },
  {
   "cell_type": "markdown",
   "metadata": {},
   "source": [
    "#### Pool on no condition"
   ]
  },
  {
   "cell_type": "code",
   "execution_count": 6,
   "metadata": {},
   "outputs": [
    {
     "name": "stdout",
     "output_type": "stream",
     "text": [
      "[(('makanan', False), 73)] \n",
      "\n",
      "CPU times: user 27.4 ms, sys: 2.68 ms, total: 30 ms\n",
      "Wall time: 32.1 ms\n"
     ]
    },
    {
     "data": {
      "text/plain": [
       "'makanan'"
      ]
     },
     "execution_count": 6,
     "metadata": {},
     "output_type": "execute_result"
    }
   ],
   "source": [
    "%%time\n",
    "corrector.correct('mknn',first_char=False)"
   ]
  },
  {
   "cell_type": "code",
   "execution_count": 7,
   "metadata": {},
   "outputs": [
    {
     "name": "stdout",
     "output_type": "stream",
     "text": [
      "[(('tempat', False), 100)] \n",
      "\n"
     ]
    },
    {
     "data": {
      "text/plain": [
       "'tempat'"
      ]
     },
     "execution_count": 7,
     "metadata": {},
     "output_type": "execute_result"
    }
   ],
   "source": [
    "corrector.correct('tempat')"
   ]
  },
  {
   "cell_type": "markdown",
   "metadata": {},
   "source": [
    "## Load probability speller"
   ]
  },
  {
   "cell_type": "code",
   "execution_count": 8,
   "metadata": {},
   "outputs": [],
   "source": [
    "corrector = malaya.spell.probability()"
   ]
  },
  {
   "cell_type": "code",
   "execution_count": 10,
   "metadata": {},
   "outputs": [
    {
     "name": "stdout",
     "output_type": "stream",
     "text": [
      "CPU times: user 240 µs, sys: 17 µs, total: 257 µs\n",
      "Wall time: 263 µs\n"
     ]
    },
    {
     "data": {
      "text/plain": [
       "'makanan'"
      ]
     },
     "execution_count": 10,
     "metadata": {},
     "output_type": "execute_result"
    }
   ],
   "source": [
    "%%time\n",
    "corrector.correct('mknn')"
   ]
  },
  {
   "cell_type": "markdown",
   "metadata": {},
   "source": [
    "#### Fast-mode"
   ]
  },
  {
   "cell_type": "markdown",
   "metadata": {},
   "source": [
    "You can use fast mode, means we only search word pools from augmented user input."
   ]
  },
  {
   "cell_type": "code",
   "execution_count": 14,
   "metadata": {},
   "outputs": [
    {
     "name": "stdout",
     "output_type": "stream",
     "text": [
      "CPU times: user 8 µs, sys: 1e+03 ns, total: 9 µs\n",
      "Wall time: 14.1 µs\n"
     ]
    },
    {
     "data": {
      "text/plain": [
       "'makanan'"
      ]
     },
     "execution_count": 14,
     "metadata": {},
     "output_type": "execute_result"
    }
   ],
   "source": [
    "%%time\n",
    "corrector.correct('mknn',fast = True)"
   ]
  },
  {
   "cell_type": "markdown",
   "metadata": {},
   "source": [
    "If want more pool size, simply `fast = False`, default is `False`."
   ]
  },
  {
   "cell_type": "code",
   "execution_count": 13,
   "metadata": {},
   "outputs": [
    {
     "name": "stdout",
     "output_type": "stream",
     "text": [
      "CPU times: user 424 µs, sys: 6 µs, total: 430 µs\n",
      "Wall time: 438 µs\n"
     ]
    },
    {
     "data": {
      "text/plain": [
       "'tempat'"
      ]
     },
     "execution_count": 13,
     "metadata": {},
     "output_type": "execute_result"
    }
   ],
   "source": [
    "%%time\n",
    "corrector.correct('tmpat')"
   ]
  },
  {
   "cell_type": "markdown",
   "metadata": {},
   "source": [
    "#### Assume wrong"
   ]
  },
  {
   "cell_type": "markdown",
   "metadata": {},
   "source": [
    "Sometime words inside the dictionary is not really correct, like example below,"
   ]
  },
  {
   "cell_type": "code",
   "execution_count": 30,
   "metadata": {},
   "outputs": [
    {
     "data": {
      "text/plain": [
       "'saye'"
      ]
     },
     "execution_count": 30,
     "metadata": {},
     "output_type": "execute_result"
    }
   ],
   "source": [
    "corrector.correct('saye')"
   ]
  },
  {
   "cell_type": "markdown",
   "metadata": {},
   "source": [
    "We got `saye` as output, because the algorithm assumed all words inside the dictionary is correct.\n",
    "\n",
    "So to solve this, you need to set `assume_wrong` parameter as `False`."
   ]
  },
  {
   "cell_type": "code",
   "execution_count": 31,
   "metadata": {},
   "outputs": [
    {
     "data": {
      "text/plain": [
       "'saya'"
      ]
     },
     "execution_count": 31,
     "metadata": {},
     "output_type": "execute_result"
    }
   ],
   "source": [
    "corrector.correct('saye', assume_wrong = True)"
   ]
  },
  {
   "cell_type": "markdown",
   "metadata": {},
   "source": [
    "#### edit_step\n",
    "\n",
    "You can check how augmented word been done, by simply `corrector.edit_step`"
   ]
  },
  {
   "cell_type": "code",
   "execution_count": 15,
   "metadata": {},
   "outputs": [
    {
     "data": {
      "text/plain": [
       "{'aknn',\n",
       " 'amknn',\n",
       " 'bknn',\n",
       " 'bmknn',\n",
       " 'cknn',\n",
       " 'cmknn',\n",
       " 'dknn',\n",
       " 'dmknn',\n",
       " 'eknn',\n",
       " 'emknn',\n",
       " 'fknn',\n",
       " 'fmknn',\n",
       " 'gknn',\n",
       " 'gmknn',\n",
       " 'hknn',\n",
       " 'hmknn',\n",
       " 'iknn',\n",
       " 'imknn',\n",
       " 'jknn',\n",
       " 'jmknn',\n",
       " 'kknn',\n",
       " 'kmknn',\n",
       " 'kmnn',\n",
       " 'knn',\n",
       " 'lknn',\n",
       " 'lmknn',\n",
       " 'makanan',\n",
       " 'maknn',\n",
       " 'mann',\n",
       " 'mbknn',\n",
       " 'mbnn',\n",
       " 'mcknn',\n",
       " 'mcnn',\n",
       " 'mdknn',\n",
       " 'mdnn',\n",
       " 'meknn',\n",
       " 'menn',\n",
       " 'mfknn',\n",
       " 'mfnn',\n",
       " 'mgknn',\n",
       " 'mgnn',\n",
       " 'mhknn',\n",
       " 'mhnn',\n",
       " 'mikinin',\n",
       " 'miknn',\n",
       " 'minn',\n",
       " 'mjknn',\n",
       " 'mjnn',\n",
       " 'mkan',\n",
       " 'mkann',\n",
       " 'mkbn',\n",
       " 'mkbnn',\n",
       " 'mkcn',\n",
       " 'mkcnn',\n",
       " 'mkdn',\n",
       " 'mkdnn',\n",
       " 'mken',\n",
       " 'mkenn',\n",
       " 'mkfn',\n",
       " 'mkfnn',\n",
       " 'mkgn',\n",
       " 'mkgnn',\n",
       " 'mkhn',\n",
       " 'mkhnn',\n",
       " 'mkin',\n",
       " 'mkinn',\n",
       " 'mkjn',\n",
       " 'mkjnn',\n",
       " 'mkkn',\n",
       " 'mkknn',\n",
       " 'mkln',\n",
       " 'mklnn',\n",
       " 'mkmn',\n",
       " 'mkmnn',\n",
       " 'mkn',\n",
       " 'mkna',\n",
       " 'mknan',\n",
       " 'mknb',\n",
       " 'mknbn',\n",
       " 'mknc',\n",
       " 'mkncn',\n",
       " 'mknd',\n",
       " 'mkndn',\n",
       " 'mkne',\n",
       " 'mknen',\n",
       " 'mknf',\n",
       " 'mknfn',\n",
       " 'mkng',\n",
       " 'mkngn',\n",
       " 'mknh',\n",
       " 'mknhn',\n",
       " 'mkni',\n",
       " 'mknin',\n",
       " 'mknj',\n",
       " 'mknjn',\n",
       " 'mknk',\n",
       " 'mknkn',\n",
       " 'mknl',\n",
       " 'mknln',\n",
       " 'mknm',\n",
       " 'mknmn',\n",
       " 'mknn',\n",
       " 'mknna',\n",
       " 'mknnb',\n",
       " 'mknnc',\n",
       " 'mknnd',\n",
       " 'mknne',\n",
       " 'mknnf',\n",
       " 'mknng',\n",
       " 'mknnh',\n",
       " 'mknni',\n",
       " 'mknnj',\n",
       " 'mknnk',\n",
       " 'mknnl',\n",
       " 'mknnm',\n",
       " 'mknnn',\n",
       " 'mknno',\n",
       " 'mknnp',\n",
       " 'mknnq',\n",
       " 'mknnr',\n",
       " 'mknns',\n",
       " 'mknnt',\n",
       " 'mknnu',\n",
       " 'mknnv',\n",
       " 'mknnw',\n",
       " 'mknnx',\n",
       " 'mknny',\n",
       " 'mknnz',\n",
       " 'mkno',\n",
       " 'mknon',\n",
       " 'mknp',\n",
       " 'mknpn',\n",
       " 'mknq',\n",
       " 'mknqn',\n",
       " 'mknr',\n",
       " 'mknrn',\n",
       " 'mkns',\n",
       " 'mknsn',\n",
       " 'mknt',\n",
       " 'mkntn',\n",
       " 'mknu',\n",
       " 'mknun',\n",
       " 'mknv',\n",
       " 'mknvn',\n",
       " 'mknw',\n",
       " 'mknwn',\n",
       " 'mknx',\n",
       " 'mknxn',\n",
       " 'mkny',\n",
       " 'mknyn',\n",
       " 'mknz',\n",
       " 'mknzn',\n",
       " 'mkon',\n",
       " 'mkonn',\n",
       " 'mkpn',\n",
       " 'mkpnn',\n",
       " 'mkqn',\n",
       " 'mkqnn',\n",
       " 'mkrn',\n",
       " 'mkrnn',\n",
       " 'mksn',\n",
       " 'mksnn',\n",
       " 'mktn',\n",
       " 'mktnn',\n",
       " 'mkun',\n",
       " 'mkunn',\n",
       " 'mkvn',\n",
       " 'mkvnn',\n",
       " 'mkwn',\n",
       " 'mkwnn',\n",
       " 'mkxn',\n",
       " 'mkxnn',\n",
       " 'mkyn',\n",
       " 'mkynn',\n",
       " 'mkzn',\n",
       " 'mkznn',\n",
       " 'mlknn',\n",
       " 'mlnn',\n",
       " 'mmknn',\n",
       " 'mmnn',\n",
       " 'mnkn',\n",
       " 'mnknn',\n",
       " 'mnn',\n",
       " 'mnnn',\n",
       " 'moknn',\n",
       " 'monn',\n",
       " 'mpknn',\n",
       " 'mpnn',\n",
       " 'mqknn',\n",
       " 'mqnn',\n",
       " 'mrknn',\n",
       " 'mrnn',\n",
       " 'msknn',\n",
       " 'msnn',\n",
       " 'mtknn',\n",
       " 'mtnn',\n",
       " 'muknn',\n",
       " 'mukunun',\n",
       " 'munn',\n",
       " 'mvknn',\n",
       " 'mvnn',\n",
       " 'mwknn',\n",
       " 'mwnn',\n",
       " 'mxknn',\n",
       " 'mxnn',\n",
       " 'myknn',\n",
       " 'mynn',\n",
       " 'mzknn',\n",
       " 'mznn',\n",
       " 'nknn',\n",
       " 'nmknn',\n",
       " 'oknn',\n",
       " 'omknn',\n",
       " 'pknn',\n",
       " 'pmknn',\n",
       " 'qknn',\n",
       " 'qmknn',\n",
       " 'rknn',\n",
       " 'rmknn',\n",
       " 'sknn',\n",
       " 'smknn',\n",
       " 'tknn',\n",
       " 'tmknn',\n",
       " 'uknn',\n",
       " 'umknn',\n",
       " 'vknn',\n",
       " 'vmknn',\n",
       " 'wknn',\n",
       " 'wmknn',\n",
       " 'xknn',\n",
       " 'xmknn',\n",
       " 'yknn',\n",
       " 'ymknn',\n",
       " 'zknn',\n",
       " 'zmknn'}"
      ]
     },
     "execution_count": 15,
     "metadata": {},
     "output_type": "execute_result"
    }
   ],
   "source": [
    "corrector.edit_step('mknn')"
   ]
  },
  {
   "cell_type": "code",
   "execution_count": null,
   "metadata": {},
   "outputs": [],
   "source": []
  }
 ],
 "metadata": {
  "kernelspec": {
   "display_name": "Python 3",
   "language": "python",
   "name": "python3"
  },
  "language_info": {
   "codemirror_mode": {
    "name": "ipython",
    "version": 3
   },
   "file_extension": ".py",
   "mimetype": "text/x-python",
   "name": "python",
   "nbconvert_exporter": "python",
   "pygments_lexer": "ipython3",
   "version": "3.6.5"
  }
 },
 "nbformat": 4,
 "nbformat_minor": 2
}
