{
 "cells": [
  {
   "cell_type": "markdown",
   "metadata": {},
   "source": [
    "## Why fast-text?\n",
    "\n",
    "FastText (which is essentially an extension of word2vec model), treats each word as composed of character ngrams. So the vector for a word is made of the sum of this character n grams.\n",
    "\n",
    "N-gram feature is the most significant improvement in FastText, it’s designed to solve OOV(Out-of-Vocabulary) issue.\n",
    "\n",
    "For example, the word `aquarium` can be split into `<aq/aqu/qua/uar/ari/riu/ium/um>`, `<` and `>` means SOW and EOW.\n",
    "\n",
    "As Word Embedder encounter word `aquarius`, it might not recognize it, but it can guess by the share part in `aquarium` and `aquarius`, to embed aquarius near aquarium"
   ]
  },
  {
   "cell_type": "markdown",
   "metadata": {},
   "source": [
    "## Pretrained fast-text\n",
    "\n",
    "You can download Malaya pretrained without need to import malaya.\n",
    "\n",
    "#### word2vec from wikipedia\n",
    "\n",
    "[size-1024](https://s3-ap-southeast-1.amazonaws.com/huseinhouse-storage/v16/fasttext/fasttext-wiki-1024.p)\n",
    "\n",
    "You will get a pickle file, contains `['nce_weights', 'dictionary']`.\n",
    "\n",
    "To load that pickle file,\n",
    "```python\n",
    "import pickle\n",
    "with open('file.p', 'rb') as fopen:\n",
    "    word2vec = pickle.load(fopen)\n",
    "```"
   ]
  },
  {
   "cell_type": "markdown",
   "metadata": {},
   "source": [
    "But If you don't know what to do with malaya fast-text, Malaya provided some useful functions for you!"
   ]
  },
  {
   "cell_type": "code",
   "execution_count": 1,
   "metadata": {},
   "outputs": [
    {
     "name": "stdout",
     "output_type": "stream",
     "text": [
      "CPU times: user 12 s, sys: 1.32 s, total: 13.4 s\n",
      "Wall time: 16.6 s\n"
     ]
    }
   ],
   "source": [
    "%%time\n",
    "import malaya"
   ]
  },
  {
   "cell_type": "markdown",
   "metadata": {},
   "source": [
    "## Load malaya wikipedia fast-text"
   ]
  },
  {
   "cell_type": "code",
   "execution_count": 2,
   "metadata": {},
   "outputs": [],
   "source": [
    "wiki, ngrams = malaya.fast_text.load_wiki()"
   ]
  },
  {
   "cell_type": "markdown",
   "metadata": {},
   "source": [
    "## Load fast-text interface\n",
    "\n",
    "**But problem with fast-text, dictionary only have ngrams words, we need to provide actual words to compare semantic similarity**"
   ]
  },
  {
   "cell_type": "code",
   "execution_count": 3,
   "metadata": {},
   "outputs": [],
   "source": [
    "fast_text_nce = malaya.fast_text.fast_text(wiki['nce_weights'],wiki['dictionary'],ngrams)\n",
    "fast_text_embed = malaya.fast_text.fast_text(wiki['embed_weights'],wiki['dictionary'],ngrams)"
   ]
  },
  {
   "cell_type": "markdown",
   "metadata": {},
   "source": [
    "## Check top-k similar semantics based on a word"
   ]
  },
  {
   "cell_type": "code",
   "execution_count": 4,
   "metadata": {},
   "outputs": [
    {
     "data": {
      "text/plain": [
       "[['najib razak', 0.9890886545181274],\n",
       " ['husein', 0.9856827259063721],\n",
       " ['mahathir', 0.9842776656150818],\n",
       " ['kipas', 0.9831240177154541],\n",
       " ['rosmah', 0.9758304357528687]]"
      ]
     },
     "execution_count": 4,
     "metadata": {},
     "output_type": "execute_result"
    }
   ],
   "source": [
    "fast_text_nce.n_closest('najib',['najib razak','mahathir','1mdb','rosmah',\n",
    "                             'kerajaan','penjara','cerdik','kipas','husein'])"
   ]
  },
  {
   "cell_type": "code",
   "execution_count": 5,
   "metadata": {},
   "outputs": [
    {
     "data": {
      "text/plain": [
       "[['najib razak', 0.6421577334403992],\n",
       " ['mahathir', 0.12914645671844482],\n",
       " ['1mdb', 0.0642591118812561],\n",
       " ['rosmah', 0.04841345548629761],\n",
       " ['kerajaan', 0.03990912437438965]]"
      ]
     },
     "execution_count": 5,
     "metadata": {},
     "output_type": "execute_result"
    }
   ],
   "source": [
    "fast_text_embed.n_closest('najib',['najib razak','mahathir','1mdb','rosmah',\n",
    "                             'kerajaan','penjara','cerdik','kipas','husein'])"
   ]
  },
  {
   "cell_type": "markdown",
   "metadata": {},
   "source": [
    "Based on the results, `embed_weights` learnt better than `nce_weights`. It is really depends during training session."
   ]
  },
  {
   "cell_type": "code",
   "execution_count": 6,
   "metadata": {},
   "outputs": [
    {
     "data": {
      "text/plain": [
       "[['mukun', 0.4251323938369751],\n",
       " ['makan', 0.3479733467102051],\n",
       " ['makin', 0.33818352222442627],\n",
       " ['mahathir', 0.24181222915649414],\n",
       " ['gejala', -0.0475466251373291]]"
      ]
     },
     "execution_count": 6,
     "metadata": {},
     "output_type": "execute_result"
    }
   ],
   "source": [
    "fast_text_embed.n_closest('mkn',['makan','mukun','makin','gejala','mahathir'])"
   ]
  },
  {
   "cell_type": "code",
   "execution_count": 7,
   "metadata": {},
   "outputs": [
    {
     "data": {
      "text/plain": [
       "['mukun', 'makan', 'makin', 'mahathir', 'gejala']"
      ]
     },
     "execution_count": 7,
     "metadata": {},
     "output_type": "execute_result"
    }
   ],
   "source": [
    "fast_text_embed.n_closest('mkn',['makan','mukun','makin','gejala','mahathir'],return_similarity = False)"
   ]
  },
  {
   "cell_type": "markdown",
   "metadata": {},
   "source": [
    "## Calculate vb - va + vc"
   ]
  },
  {
   "cell_type": "code",
   "execution_count": 8,
   "metadata": {},
   "outputs": [
    {
     "data": {
      "text/plain": [
       "['mikin']"
      ]
     },
     "execution_count": 8,
     "metadata": {},
     "output_type": "execute_result"
    }
   ],
   "source": [
    "fast_text_embed.analogy('makan','kfc','mikin',\n",
    "                        ['makan','mukun','makin','gejala','mahathir'])"
   ]
  },
  {
   "cell_type": "markdown",
   "metadata": {},
   "source": [
    "## Fast-text calculator\n",
    "\n",
    "You can put any equation you wanted."
   ]
  },
  {
   "cell_type": "code",
   "execution_count": 9,
   "metadata": {},
   "outputs": [
    {
     "data": {
      "text/plain": [
       "['mahathir', 'makan', 'makin', 'gejala', 'mukun']"
      ]
     },
     "execution_count": 9,
     "metadata": {},
     "output_type": "execute_result"
    }
   ],
   "source": [
    "fast_text_embed.calculator('anwar + amerika + mahathir',\n",
    "                           ['makan','mukun','makin','gejala','mahathir'],\n",
    "                           return_similarity = False)"
   ]
  },
  {
   "cell_type": "code",
   "execution_count": 18,
   "metadata": {},
   "outputs": [
    {
     "data": {
      "text/plain": [
       "[['makan', 0.11451129709969454],\n",
       " ['gejala', 0.11409430208988958],\n",
       " ['mahathir', 0.070956003373157],\n",
       " ['makin', 0.00728455196402511],\n",
       " ['mukun', -0.012139292144108138]]"
      ]
     },
     "execution_count": 18,
     "metadata": {},
     "output_type": "execute_result"
    }
   ],
   "source": [
    "fast_text_embed.calculator('(anwar + amerika) / mahathir',\n",
    "                           ['makan','mukun','makin','gejala','mahathir'],\n",
    "                           return_similarity = True)"
   ]
  },
  {
   "cell_type": "markdown",
   "metadata": {},
   "source": [
    "## Visualize scatter-plot"
   ]
  },
  {
   "cell_type": "code",
   "execution_count": 17,
   "metadata": {},
   "outputs": [
    {
     "data": {
      "image/png": "[encoded data removed]",
      "text/plain": [
       "<Figure size 504x504 with 1 Axes>"
      ]
     },
     "metadata": {},
     "output_type": "display_data"
    }
   ],
   "source": [
    "result = fast_text_embed.n_closest('mkn',['makan','mukun','makin','gejala','mahathir'])\n",
    "fast_text_embed.scatter_plot(result, centre = 'mkn', notebook_mode = True)"
   ]
  },
  {
   "cell_type": "markdown",
   "metadata": {},
   "source": [
    "## Visualize tree-plot"
   ]
  },
  {
   "cell_type": "code",
   "execution_count": 19,
   "metadata": {},
   "outputs": [
    {
     "data": {
      "text/plain": [
       "<Figure size 504x504 with 0 Axes>"
      ]
     },
     "metadata": {},
     "output_type": "display_data"
    },
    {
     "data": {
      "image/png": "[encoded data removed]",
      "text/plain": [
       "<Figure size 720x720 with 4 Axes>"
      ]
     },
     "metadata": {},
     "output_type": "display_data"
    }
   ],
   "source": [
    "fast_text_embed.tree_plot(result, notebook_mode = True)"
   ]
  },
  {
   "cell_type": "markdown",
   "metadata": {},
   "source": [
    "## Train on custom corpus"
   ]
  },
  {
   "cell_type": "code",
   "execution_count": 12,
   "metadata": {},
   "outputs": [],
   "source": [
    "isu_kerajaan = ['Institusi raja khususnya Yang di-Pertuan Agong adalah kedaulatan negara dengan kedudukan dan peranannya termaktub dalam Perlembagaan Persekutuan yang perlu disokong dan didukung oleh kerajaan serta rakyat.',\n",
    "               'Pensyarah Kulliyah Undang-Undang Ahmad Ibrahim, Universiti Islam Antarabangsa Malaysia (UIAM) Prof Madya Dr Shamrahayu Ab Aziz berkata perubahan kerajaan, susulan kemenangan Pakatan Harapan pada Pilihan Raya Umum Ke-14 pada Mei lepas, tidak memberi kesan dari segi peranan, fungsi dan kedudukan Yang di-Pertuan Agong.',\n",
    "               'Peralihan kerajaan itu menyaksikan Sultan Muhammad V mencatat sejarah tersendiri dengan menjadi Yang di-Pertuan Agong Malaysia yang pertama memerintah dalam era dua kerajaan berbeza.',\n",
    "               'Semasa dilantik sebagai Yang di-Pertuan Agong Ke-15 pada 13 Dis 2016, kerajaan ketika itu diterajui oleh Barisan Nasional dan pada 10 Mei lepas, kepimpinan negara diambil alih oleh Pakatan Harapan yang memenangi Pilihan Raya Umum Ke-14.',\n",
    "               'Ketika merasmikan Istiadat Pembukaan Penggal Pertama, Parlimen ke-14 pada 17 Julai lepas, Seri Paduka bertitah mengalu-alukan pendekatan kerajaan Pakatan Harapan dalam menegakkan ketelusan terutamanya dengan mendedahkan kedudukan kewangan negara yang sebenar serta mengkaji semula perbelanjaan, kos projek dan mengurus kewangan secara berhemat bagi menangani kos sara hidup.',\n",
    "               'Pada Jun lepas, Sultan Muhammad V memperkenankan supaya peruntukan gaji dan emolumen Yang di-Pertuan Agong dikurangkan sebanyak 10 peratus sepanjang pemerintahan sehingga 2021 berikutan keprihatinan Seri Paduka terhadap tahap hutang dan keadaan ekonomi negara.',\n",
    "               'Seri Paduka turut menitahkan supaya Majlis Rumah Terbuka Aidilfitri tahun ini tidak diadakan di Istana Negara dengan peruntukan majlis itu digunakan bagi membantu golongan yang kurang bernasib baik.']"
   ]
  },
  {
   "cell_type": "code",
   "execution_count": 13,
   "metadata": {},
   "outputs": [
    {
     "name": "stdout",
     "output_type": "stream",
     "text": [
      "WARNING:tensorflow:From /usr/local/lib/python3.6/site-packages/tensorflow/python/ops/nn_impl.py:1124: sparse_to_dense (from tensorflow.python.ops.sparse_ops) is deprecated and will be removed in a future version.\n",
      "Instructions for updating:\n",
      "Create a `tf.sparse.SparseTensor` and use `tf.sparse.to_dense` instead.\n"
     ]
    },
    {
     "name": "stderr",
     "output_type": "stream",
     "text": [
      "train minibatch loop:  25%|██▌       | 2/8 [00:00<00:00, 18.50it/s, cost=29.6]"
     ]
    },
    {
     "name": "stdout",
     "output_type": "stream",
     "text": [
      "model built, vocab size 162, document length 239\n"
     ]
    },
    {
     "name": "stderr",
     "output_type": "stream",
     "text": [
      "train minibatch loop: 100%|██████████| 8/8 [00:00<00:00, 28.76it/s, cost=34.5]\n",
      "test minibatch loop: 100%|██████████| 1/1 [00:00<00:00, 27.24it/s, cost=30.2]\n",
      "train minibatch loop: 100%|██████████| 8/8 [00:00<00:00, 31.91it/s, cost=25.4]\n",
      "test minibatch loop: 100%|██████████| 1/1 [00:00<00:00, 82.09it/s, cost=27.8]\n",
      "train minibatch loop: 100%|██████████| 8/8 [00:00<00:00, 28.65it/s, cost=19.8]\n",
      "test minibatch loop: 100%|██████████| 1/1 [00:00<00:00, 88.25it/s, cost=14.8]\n",
      "train minibatch loop: 100%|██████████| 8/8 [00:00<00:00, 33.34it/s, cost=19.7]\n",
      "test minibatch loop: 100%|██████████| 1/1 [00:00<00:00, 86.77it/s, cost=11.9]\n",
      "train minibatch loop: 100%|██████████| 8/8 [00:00<00:00, 33.01it/s, cost=13.4]\n",
      "test minibatch loop: 100%|██████████| 1/1 [00:00<00:00, 108.38it/s, cost=7.07]\n",
      "train minibatch loop: 100%|██████████| 8/8 [00:00<00:00, 32.10it/s, cost=9.6] \n",
      "test minibatch loop: 100%|██████████| 1/1 [00:00<00:00, 88.64it/s, cost=12.4]\n",
      "train minibatch loop: 100%|██████████| 8/8 [00:00<00:00, 29.76it/s, cost=7.22]\n",
      "test minibatch loop: 100%|██████████| 1/1 [00:00<00:00, 114.69it/s, cost=11.1]\n",
      "train minibatch loop: 100%|██████████| 8/8 [00:00<00:00, 33.66it/s, cost=9.11]\n",
      "test minibatch loop: 100%|██████████| 1/1 [00:00<00:00, 109.45it/s, cost=6.26]\n",
      "train minibatch loop: 100%|██████████| 8/8 [00:00<00:00, 34.90it/s, cost=3.53]\n",
      "test minibatch loop: 100%|██████████| 1/1 [00:00<00:00, 109.55it/s, cost=4.43]\n",
      "train minibatch loop: 100%|██████████| 8/8 [00:00<00:00, 33.16it/s, cost=9.26]\n",
      "test minibatch loop: 100%|██████████| 1/1 [00:00<00:00, 99.80it/s, cost=13.7]\n"
     ]
    }
   ],
   "source": [
    "embed_weights, nce_weights, dictionary, ngrams = malaya.fast_text.train(isu_kerajaan, ngrams= (3,4))"
   ]
  },
  {
   "cell_type": "code",
   "execution_count": 24,
   "metadata": {},
   "outputs": [],
   "source": [
    "fast_text_embed = malaya.fast_text.fast_text(nce_weights,dictionary,ngrams)"
   ]
  },
  {
   "cell_type": "code",
   "execution_count": 25,
   "metadata": {},
   "outputs": [
    {
     "name": "stdout",
     "output_type": "stream",
     "text": [
      "[['pertama', 0.9139029383659363], ['raja', 0.8856638669967651], ['sultan', 0.8645539283752441], ['malaysia', 0.7939320206642151], ['mahathir', 0.7685380578041077], ['universiti', 0.7584933638572693], ['husein', 0.7584933042526245], ['najib', 0.7584932446479797]]\n"
     ]
    }
   ],
   "source": [
    "word = 'paduka'\n",
    "print(fast_text_embed.n_closest(word, ['raja','agong','universiti','mahathir',\n",
    "                                        'najib','husein','malaysia','pertama','sultan'],\n",
    "                                 num_closest=8, metric='cosine'))"
   ]
  },
  {
   "cell_type": "code",
   "execution_count": null,
   "metadata": {},
   "outputs": [],
   "source": []
  }
 ],
 "metadata": {
  "kernelspec": {
   "display_name": "Python 3",
   "language": "python",
   "name": "python3"
  },
  "language_info": {
   "codemirror_mode": {
    "name": "ipython",
    "version": 3
   },
   "file_extension": ".py",
   "mimetype": "text/x-python",
   "name": "python",
   "nbconvert_exporter": "python",
   "pygments_lexer": "ipython3",
   "version": "3.6.5"
  }
 },
 "nbformat": 4,
 "nbformat_minor": 2
}
