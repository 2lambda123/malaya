{
 "cells": [
  {
   "cell_type": "code",
   "execution_count": 1,
   "metadata": {},
   "outputs": [
    {
     "name": "stdout",
     "output_type": "stream",
     "text": [
      "CPU times: user 13.9 s, sys: 1.77 s, total: 15.7 s\n",
      "Wall time: 23 s\n"
     ]
    }
   ],
   "source": [
    "%%time\n",
    "import malaya"
   ]
  },
  {
   "cell_type": "markdown",
   "metadata": {},
   "source": [
    "## Preprocessing\n",
    "\n",
    "We know that social media texts from Twitter, Facebook and Instagram are very noisy and we want to clean as much as possible to make our machines understand the structure of sentence much better. In Malaya, we standardize our text preprocessing,\n",
    "\n",
    "1. Malaya can replace special words into tokens to reduce dimension curse. `rm10k` become `<money>`.\n",
    "2. Malaya can expand hashtags, `#drmahathir` become `dr mahathir`.\n",
    "3. Malaya can put tags for special words, `#drmahathir` become `<hashtag> drmahathir </hashtag>`.\n",
    "4. Malaya can expand english contractions.\n",
    "5. Malaya can translate english words to become bahasa malaysia words. Again, this translation is using dictionary, it will not understand semantically. Purpose of this translation just to standardize to become bahasa Malaysia.\n",
    "6. Remove postfix for a word, `kerjakan` become `kerja`.\n",
    "7. Normalize elongated words, but this required speller object.\n",
    "\n",
    "These are defaults setting for `preprocessing()`,\n",
    "\n",
    "```\n",
    "def preprocessing(\n",
    "    normalize = [\n",
    "        'url',\n",
    "        'email',\n",
    "        'percent',\n",
    "        'money',\n",
    "        'phone',\n",
    "        'user',\n",
    "        'time',\n",
    "        'date',\n",
    "        'number',\n",
    "    ],\n",
    "    annotate = [\n",
    "        'allcaps',\n",
    "        'elongated',\n",
    "        'repeated',\n",
    "        'emphasis',\n",
    "        'censored',\n",
    "        'hashtag',\n",
    "    ],\n",
    "    lowercase = True,\n",
    "    fix_unidecode = True,\n",
    "    expand_hashtags = True,\n",
    "    expand_english_contractions = True,\n",
    "    translate_english_to_bm = True,\n",
    "    remove_prefix_postfix = True,\n",
    "    maxlen_segmenter = 20,\n",
    "    validate = True,\n",
    "    speller = None,\n",
    "):\n",
    "```\n",
    "\n",
    "#### normalize\n",
    "\n",
    "Supported `normalize`,\n",
    "\n",
    "1. hashtag\n",
    "2. cashtag\n",
    "3. tag\n",
    "4. user\n",
    "5. emphasis\n",
    "6. censored\n",
    "7. acronym\n",
    "8. eastern_emoticons\n",
    "9. rest_emoticons\n",
    "10. emoji\n",
    "11. quotes\n",
    "12. percent\n",
    "13. repeat_puncts\n",
    "14. money\n",
    "15. email\n",
    "16. phone\n",
    "17. number\n",
    "18. allcaps\n",
    "19. url\n",
    "20. date\n",
    "21. time\n",
    "\n",
    "You can check all supported list at `malaya.preprocessing.get_normalize()`.\n",
    "\n",
    "Example, if you set `money` and `number`, and input string is `RM10k`, the output is `<money>`.\n",
    "\n",
    "#### annotate\n",
    "\n",
    "Supported `annotate`,\n",
    "\n",
    "1. hashtag\n",
    "2. allcaps\n",
    "3. elongated\n",
    "4. repeated\n",
    "5. emphasis\n",
    "6. censored\n",
    "\n",
    "Example, if you set `hashtag`, and input string is `#drmahathir`, the output is `<hashtag> drmahathir </hashtag>`."
   ]
  },
  {
   "cell_type": "markdown",
   "metadata": {},
   "source": [
    "## Load default paramaters\n",
    "\n",
    "default parameters able to expand hashtag, `#mahathirmohamad` into `mahathir mohamad`, but initial load is quite slow and translate english to bahasa malaysia."
   ]
  },
  {
   "cell_type": "code",
   "execution_count": 2,
   "metadata": {},
   "outputs": [],
   "source": [
    "string_1 = 'CANT WAIT for the new season of #mahathirmohamad ＼(^o^)／!!! #davidlynch #tvseries :))), TAAAK SAAABAAR!!!'\n",
    "string_2 = 'kecewa #johndoe movie and it suuuuucks!!! WASTED RM10... rm10 #badmovies :/'\n",
    "string_3 = \"@husein:  can't wait for the Nov 9 #Sentiment talks!  YAAAAAAY !!! :-D http://sentimentsymposium.com/.\"\n",
    "string_4 = 'aahhh, malasnye nak pegi keje harini #mondayblues'\n",
    "string_5 = '#drmahathir #najibrazak #1malaysia #mahathirnajib'"
   ]
  },
  {
   "cell_type": "code",
   "execution_count": 3,
   "metadata": {},
   "outputs": [
    {
     "name": "stdout",
     "output_type": "stream",
     "text": [
      "CPU times: user 15.5 s, sys: 1.61 s, total: 17.1 s\n",
      "Wall time: 18.9 s\n"
     ]
    }
   ],
   "source": [
    "%%time\n",
    "preprocessing = malaya.preprocessing.preprocessing()"
   ]
  },
  {
   "cell_type": "code",
   "execution_count": 4,
   "metadata": {},
   "outputs": [
    {
     "name": "stdout",
     "output_type": "stream",
     "text": [
      "CPU times: user 10.6 ms, sys: 1.07 ms, total: 11.7 ms\n",
      "Wall time: 12.2 ms\n"
     ]
    },
    {
     "data": {
      "text/plain": [
       "'<allcaps> tak boleh tunggu </allcaps> untuk yang baru musim daripada <hashtag> mahathir mohamad </hashtag> \\\\(^o^)/ ! <repeated> <hashtag> david lynch </hashtag> <hashtag> tv series </hashtag> <happy> , <allcaps> taak <elongated> saabaar <elongated> </allcaps> ! <repeated>'"
      ]
     },
     "execution_count": 4,
     "metadata": {},
     "output_type": "execute_result"
    }
   ],
   "source": [
    "%%time\n",
    "' '.join(preprocessing.process(string_1))"
   ]
  },
  {
   "cell_type": "code",
   "execution_count": 5,
   "metadata": {},
   "outputs": [
    {
     "name": "stdout",
     "output_type": "stream",
     "text": [
      "CPU times: user 3.67 ms, sys: 1.86 ms, total: 5.53 ms\n",
      "Wall time: 6.26 ms\n"
     ]
    },
    {
     "data": {
      "text/plain": [
       "'kecewa <hashtag> john doe </hashtag> filem dan ia suucks <elongated> ! <repeated> <allcaps> dibazir </allcaps> <money> . <repeated> <money> <hashtag> bad movies </hashtag> <annoyed>'"
      ]
     },
     "execution_count": 5,
     "metadata": {},
     "output_type": "execute_result"
    }
   ],
   "source": [
    "%%time\n",
    "' '.join(preprocessing.process(string_2))"
   ]
  },
  {
   "cell_type": "code",
   "execution_count": 6,
   "metadata": {},
   "outputs": [
    {
     "name": "stdout",
     "output_type": "stream",
     "text": [
      "CPU times: user 1.23 ms, sys: 90 µs, total: 1.32 ms\n",
      "Wall time: 1.26 ms\n"
     ]
    },
    {
     "data": {
      "text/plain": [
       "'<user> : boleh tidak tunggu untuk yang <date> <hashtag> sentimen </hashtag> talks ! <allcaps> yaay <elongated> </allcaps> ! <repeated> :-d <url>'"
      ]
     },
     "execution_count": 6,
     "metadata": {},
     "output_type": "execute_result"
    }
   ],
   "source": [
    "%%time\n",
    "' '.join(preprocessing.process(string_3))"
   ]
  },
  {
   "cell_type": "code",
   "execution_count": 7,
   "metadata": {},
   "outputs": [
    {
     "name": "stdout",
     "output_type": "stream",
     "text": [
      "CPU times: user 1.67 ms, sys: 34 µs, total: 1.7 ms\n",
      "Wall time: 1.74 ms\n"
     ]
    },
    {
     "data": {
      "text/plain": [
       "'aahh <elongated> , malas nak pergi kerja hari ini <hashtag> Isnin blues </hashtag>'"
      ]
     },
     "execution_count": 7,
     "metadata": {},
     "output_type": "execute_result"
    }
   ],
   "source": [
    "%%time\n",
    "' '.join(preprocessing.process(string_4))"
   ]
  },
  {
   "cell_type": "code",
   "execution_count": 8,
   "metadata": {},
   "outputs": [
    {
     "name": "stdout",
     "output_type": "stream",
     "text": [
      "CPU times: user 8.7 ms, sys: 634 µs, total: 9.33 ms\n",
      "Wall time: 15.5 ms\n"
     ]
    },
    {
     "data": {
      "text/plain": [
       "'<hashtag> dr mahathir </hashtag> <hashtag> najib razak </hashtag> <hashtag> 1 malaysia </hashtag> <hashtag> mahathir najib </hashtag>'"
      ]
     },
     "execution_count": 8,
     "metadata": {},
     "output_type": "execute_result"
    }
   ],
   "source": [
    "%%time\n",
    "' '.join(preprocessing.process(string_5))"
   ]
  },
  {
   "cell_type": "markdown",
   "metadata": {},
   "source": [
    "## Load default paramaters with spelling correction to normalize elongated words.\n",
    "\n",
    "We saw `taak`, `saabaar` and another elongated words are not the original words, so we can use spelling correction to normalize it."
   ]
  },
  {
   "cell_type": "code",
   "execution_count": 9,
   "metadata": {},
   "outputs": [
    {
     "name": "stdout",
     "output_type": "stream",
     "text": [
      "downloading Malay texts\n"
     ]
    },
    {
     "name": "stderr",
     "output_type": "stream",
     "text": [
      "1.00MB [00:00, 9.40MB/s]                   \n"
     ]
    }
   ],
   "source": [
    "malays = malaya.load_malay_dictionary()\n",
    "corrector = malaya.spell.naive(malays)"
   ]
  },
  {
   "cell_type": "code",
   "execution_count": 10,
   "metadata": {},
   "outputs": [
    {
     "name": "stdout",
     "output_type": "stream",
     "text": [
      "CPU times: user 16.2 s, sys: 2.53 s, total: 18.7 s\n",
      "Wall time: 22 s\n"
     ]
    }
   ],
   "source": [
    "%%time\n",
    "preprocessing = malaya.preprocessing.preprocessing(speller = corrector)"
   ]
  },
  {
   "cell_type": "code",
   "execution_count": 11,
   "metadata": {},
   "outputs": [
    {
     "name": "stdout",
     "output_type": "stream",
     "text": [
      "CPU times: user 670 ms, sys: 15.3 ms, total: 686 ms\n",
      "Wall time: 876 ms\n"
     ]
    },
    {
     "data": {
      "text/plain": [
       "'<allcaps> tak boleh tunggu </allcaps> untuk yang baru musim daripada <hashtag> mahathir mohamad </hashtag> \\\\(^o^)/ ! <repeated> <hashtag> david lynch </hashtag> <hashtag> tv series </hashtag> <happy> , <allcaps> tawak <elongated> sabar <elongated> </allcaps> ! <repeated>'"
      ]
     },
     "execution_count": 11,
     "metadata": {},
     "output_type": "execute_result"
    }
   ],
   "source": [
    "%%time\n",
    "' '.join(preprocessing.process(string_1))"
   ]
  },
  {
   "cell_type": "code",
   "execution_count": 12,
   "metadata": {},
   "outputs": [
    {
     "name": "stdout",
     "output_type": "stream",
     "text": [
      "CPU times: user 109 ms, sys: 3.92 ms, total: 113 ms\n",
      "Wall time: 139 ms\n"
     ]
    },
    {
     "data": {
      "text/plain": [
       "'kecewa <hashtag> john doe </hashtag> filem dan ia suucks <elongated> ! <repeated> <allcaps> dibazir </allcaps> <money> . <repeated> <money> <hashtag> bad movies </hashtag> <annoyed>'"
      ]
     },
     "execution_count": 12,
     "metadata": {},
     "output_type": "execute_result"
    }
   ],
   "source": [
    "%%time\n",
    "' '.join(preprocessing.process(string_2))"
   ]
  },
  {
   "cell_type": "code",
   "execution_count": 13,
   "metadata": {},
   "outputs": [
    {
     "name": "stdout",
     "output_type": "stream",
     "text": [
      "CPU times: user 169 ms, sys: 4.66 ms, total: 174 ms\n",
      "Wall time: 240 ms\n"
     ]
    },
    {
     "data": {
      "text/plain": [
       "'<user> : boleh tidak tunggu untuk yang <date> <hashtag> sentimen </hashtag> talks ! <allcaps> ya <elongated> </allcaps> ! <repeated> :-d <url>'"
      ]
     },
     "execution_count": 13,
     "metadata": {},
     "output_type": "execute_result"
    }
   ],
   "source": [
    "%%time\n",
    "' '.join(preprocessing.process(string_3))"
   ]
  },
  {
   "cell_type": "code",
   "execution_count": 14,
   "metadata": {},
   "outputs": [
    {
     "name": "stdout",
     "output_type": "stream",
     "text": [
      "CPU times: user 658 ms, sys: 12.4 ms, total: 670 ms\n",
      "Wall time: 822 ms\n"
     ]
    },
    {
     "data": {
      "text/plain": [
       "'a <elongated> , malas nak pergi kerja hari ini <hashtag> Isnin blues </hashtag>'"
      ]
     },
     "execution_count": 14,
     "metadata": {},
     "output_type": "execute_result"
    }
   ],
   "source": [
    "%%time\n",
    "' '.join(preprocessing.process(string_4))"
   ]
  },
  {
   "cell_type": "code",
   "execution_count": 15,
   "metadata": {},
   "outputs": [
    {
     "name": "stdout",
     "output_type": "stream",
     "text": [
      "CPU times: user 11.3 ms, sys: 1.89 ms, total: 13.2 ms\n",
      "Wall time: 53.9 ms\n"
     ]
    },
    {
     "data": {
      "text/plain": [
       "'<hashtag> dr mahathir </hashtag> <hashtag> najib razak </hashtag> <hashtag> 1 malaysia </hashtag> <hashtag> mahathir najib </hashtag>'"
      ]
     },
     "execution_count": 15,
     "metadata": {},
     "output_type": "execute_result"
    }
   ],
   "source": [
    "%%time\n",
    "' '.join(preprocessing.process(string_5))"
   ]
  },
  {
   "cell_type": "markdown",
   "metadata": {},
   "source": [
    "## disable hashtag expander\n",
    "\n",
    "Sometime we want to maintain hashtags because we want to study the frequencies."
   ]
  },
  {
   "cell_type": "code",
   "execution_count": 16,
   "metadata": {},
   "outputs": [
    {
     "name": "stdout",
     "output_type": "stream",
     "text": [
      "CPU times: user 205 ms, sys: 43.5 ms, total: 248 ms\n",
      "Wall time: 280 ms\n"
     ]
    }
   ],
   "source": [
    "%%time\n",
    "preprocessing = malaya.preprocessing.preprocessing(expand_hashtags = False)"
   ]
  },
  {
   "cell_type": "code",
   "execution_count": 17,
   "metadata": {},
   "outputs": [
    {
     "name": "stdout",
     "output_type": "stream",
     "text": [
      "CPU times: user 1.34 ms, sys: 16 µs, total: 1.36 ms\n",
      "Wall time: 1.39 ms\n"
     ]
    },
    {
     "data": {
      "text/plain": [
       "'<allcaps> tak boleh tunggu </allcaps> untuk yang baru musim daripada <hashtag> mahathirmohamad </hashtag> \\\\(^o^)/ ! <repeated> <hashtag> davidlynch </hashtag> <hashtag> tvseries </hashtag> <happy> , <allcaps> taak <elongated> saabaar <elongated> </allcaps> ! <repeated>'"
      ]
     },
     "execution_count": 17,
     "metadata": {},
     "output_type": "execute_result"
    }
   ],
   "source": [
    "%%time\n",
    "' '.join(preprocessing.process(string_1))"
   ]
  },
  {
   "cell_type": "code",
   "execution_count": 18,
   "metadata": {},
   "outputs": [
    {
     "name": "stdout",
     "output_type": "stream",
     "text": [
      "CPU times: user 1.17 ms, sys: 6 µs, total: 1.17 ms\n",
      "Wall time: 1.25 ms\n"
     ]
    },
    {
     "data": {
      "text/plain": [
       "'<hashtag> drmahathir </hashtag> <hashtag> najibrazak </hashtag> <hashtag> 1 malaysia </hashtag> <hashtag> mahathirnajib </hashtag>'"
      ]
     },
     "execution_count": 18,
     "metadata": {},
     "output_type": "execute_result"
    }
   ],
   "source": [
    "%%time\n",
    "' '.join(preprocessing.process(string_5))"
   ]
  },
  {
   "cell_type": "markdown",
   "metadata": {},
   "source": [
    "## disable english translation\n",
    "\n",
    "But there are basic normalizations that cannot override, like, `for` automatically become `untuk`. You can check default entire normalizations at `from malaya.texts._tatabahasa import rules_normalizer`"
   ]
  },
  {
   "cell_type": "code",
   "execution_count": 19,
   "metadata": {},
   "outputs": [
    {
     "name": "stdout",
     "output_type": "stream",
     "text": [
      "CPU times: user 18 s, sys: 3.49 s, total: 21.5 s\n",
      "Wall time: 30.4 s\n"
     ]
    }
   ],
   "source": [
    "%%time\n",
    "preprocessing = malaya.preprocessing.preprocessing(translate_english_to_bm = False)"
   ]
  },
  {
   "cell_type": "code",
   "execution_count": 20,
   "metadata": {},
   "outputs": [
    {
     "name": "stdout",
     "output_type": "stream",
     "text": [
      "CPU times: user 74.2 ms, sys: 5.8 ms, total: 80 ms\n",
      "Wall time: 85.8 ms\n"
     ]
    },
    {
     "data": {
      "text/plain": [
       "'<allcaps> tak boleh wait </allcaps> untuk the new season of <hashtag> mahathir mohamad </hashtag> \\\\(^o^)/ ! <repeated> <hashtag> david lynch </hashtag> <hashtag> tv series </hashtag> <happy> , <allcaps> taak <elongated> saabaar <elongated> </allcaps> ! <repeated>'"
      ]
     },
     "execution_count": 20,
     "metadata": {},
     "output_type": "execute_result"
    }
   ],
   "source": [
    "%%time\n",
    "' '.join(preprocessing.process(string_1))"
   ]
  },
  {
   "cell_type": "code",
   "execution_count": 21,
   "metadata": {},
   "outputs": [
    {
     "name": "stdout",
     "output_type": "stream",
     "text": [
      "CPU times: user 1.91 ms, sys: 148 µs, total: 2.06 ms\n",
      "Wall time: 2.06 ms\n"
     ]
    },
    {
     "data": {
      "text/plain": [
       "'kecewa <hashtag> john doe </hashtag> movie and it suucks <elongated> ! <repeated> <allcaps> wasted </allcaps> <money> . <repeated> <money> <hashtag> bad movies </hashtag> <annoyed>'"
      ]
     },
     "execution_count": 21,
     "metadata": {},
     "output_type": "execute_result"
    }
   ],
   "source": [
    "%%time\n",
    "' '.join(preprocessing.process(string_2))"
   ]
  },
  {
   "cell_type": "code",
   "execution_count": 22,
   "metadata": {},
   "outputs": [
    {
     "name": "stdout",
     "output_type": "stream",
     "text": [
      "CPU times: user 1.3 ms, sys: 129 µs, total: 1.43 ms\n",
      "Wall time: 1.61 ms\n"
     ]
    },
    {
     "data": {
      "text/plain": [
       "'<user> : can not wait untuk the <date> <hashtag> sentiment </hashtag> talks ! <allcaps> yaay <elongated> </allcaps> ! <repeated> :-d <url>'"
      ]
     },
     "execution_count": 22,
     "metadata": {},
     "output_type": "execute_result"
    }
   ],
   "source": [
    "%%time\n",
    "' '.join(preprocessing.process(string_3))"
   ]
  },
  {
   "cell_type": "markdown",
   "metadata": {},
   "source": [
    "## Tokenizer\n",
    "\n",
    "It able to tokenize multiple regex pipelines, you can check the list from `malaya.preprocessing.get_normalize()`"
   ]
  },
  {
   "cell_type": "code",
   "execution_count": 23,
   "metadata": {},
   "outputs": [],
   "source": [
    "tokenizer = malaya.preprocessing._SocialTokenizer().tokenize"
   ]
  },
  {
   "cell_type": "code",
   "execution_count": 24,
   "metadata": {},
   "outputs": [
    {
     "data": {
      "text/plain": [
       "['CANT',\n",
       " 'WAIT',\n",
       " 'for',\n",
       " 'the',\n",
       " 'new',\n",
       " 'season',\n",
       " 'of',\n",
       " '#mahathirmohamad',\n",
       " '＼(^o^)／',\n",
       " '!',\n",
       " '!',\n",
       " '!',\n",
       " '#davidlynch',\n",
       " '#tvseries',\n",
       " ':)))',\n",
       " ',',\n",
       " 'TAAAK',\n",
       " 'SAAABAAR',\n",
       " '!',\n",
       " '!',\n",
       " '!']"
      ]
     },
     "execution_count": 24,
     "metadata": {},
     "output_type": "execute_result"
    }
   ],
   "source": [
    "tokenizer(string_1)"
   ]
  },
  {
   "cell_type": "code",
   "execution_count": 25,
   "metadata": {},
   "outputs": [
    {
     "data": {
      "text/plain": [
       "['kecewa',\n",
       " '#johndoe',\n",
       " 'movie',\n",
       " 'and',\n",
       " 'it',\n",
       " 'suuuuucks',\n",
       " '!',\n",
       " '!',\n",
       " '!',\n",
       " 'WASTED',\n",
       " 'RM10',\n",
       " '.',\n",
       " '.',\n",
       " '.',\n",
       " 'rm10',\n",
       " '#badmovies',\n",
       " ':/']"
      ]
     },
     "execution_count": 25,
     "metadata": {},
     "output_type": "execute_result"
    }
   ],
   "source": [
    "tokenizer(string_2)"
   ]
  },
  {
   "cell_type": "code",
   "execution_count": 26,
   "metadata": {},
   "outputs": [
    {
     "data": {
      "text/plain": [
       "['@husein',\n",
       " ':',\n",
       " 'can',\n",
       " \"'\",\n",
       " 't',\n",
       " 'wait',\n",
       " 'for',\n",
       " 'the',\n",
       " 'Nov 9',\n",
       " '#Sentiment',\n",
       " 'talks',\n",
       " '!',\n",
       " 'YAAAAAAY',\n",
       " '!',\n",
       " '!',\n",
       " '!',\n",
       " ':-D',\n",
       " 'http://sentimentsymposium.com/.']"
      ]
     },
     "execution_count": 26,
     "metadata": {},
     "output_type": "execute_result"
    }
   ],
   "source": [
    "tokenizer(string_3)"
   ]
  },
  {
   "cell_type": "code",
   "execution_count": 27,
   "metadata": {},
   "outputs": [
    {
     "data": {
      "text/plain": [
       "['saya', 'nak', 'makan', 'ayam', 'harga', 'rm10k']"
      ]
     },
     "execution_count": 27,
     "metadata": {},
     "output_type": "execute_result"
    }
   ],
   "source": [
    "tokenizer('saya nak makan ayam harga rm10k')"
   ]
  },
  {
   "cell_type": "code",
   "execution_count": null,
   "metadata": {},
   "outputs": [],
   "source": []
  }
 ],
 "metadata": {
  "kernelspec": {
   "display_name": "Python 3",
   "language": "python",
   "name": "python3"
  },
  "language_info": {
   "codemirror_mode": {
    "name": "ipython",
    "version": 3
   },
   "file_extension": ".py",
   "mimetype": "text/x-python",
   "name": "python",
   "nbconvert_exporter": "python",
   "pygments_lexer": "ipython3",
   "version": "3.6.5"
  }
 },
 "nbformat": 4,
 "nbformat_minor": 2
}
