{
 "cells": [
  {
   "cell_type": "markdown",
   "id": "threatened-touch",
   "metadata": {},
   "source": [
    "# Devices"
   ]
  },
  {
   "cell_type": "markdown",
   "id": "increased-classroom",
   "metadata": {},
   "source": [
    "<div class=\"alert alert-info\">\n",
    "\n",
    "This tutorial is available as an IPython notebook at [Malaya/example/devices](https://github.com/huseinzol05/Malaya/tree/master/example/devices).\n",
    "    \n",
    "</div>"
   ]
  },
  {
   "cell_type": "markdown",
   "id": "finite-lyric",
   "metadata": {},
   "source": [
    "### List available devices supported to run Malaya model"
   ]
  },
  {
   "cell_type": "code",
   "execution_count": 1,
   "id": "cleared-economics",
   "metadata": {},
   "outputs": [],
   "source": [
    "import malaya"
   ]
  },
  {
   "cell_type": "code",
   "execution_count": 2,
   "id": "broadband-bathroom",
   "metadata": {},
   "outputs": [
    {
     "data": {
      "text/plain": [
       "[('CPU:0', '0.268 GB'), ('XLA_CPU:0', '17.18 GB')]"
      ]
     },
     "execution_count": 2,
     "metadata": {},
     "output_type": "execute_result"
    }
   ],
   "source": [
    "malaya.utils.available_device()"
   ]
  },
  {
   "cell_type": "markdown",
   "id": "smoking-pavilion",
   "metadata": {},
   "source": [
    "### Use specific device for specific model\n",
    "\n",
    "To do that, pass `device` parameter to any load model function in Malaya,\n",
    "\n",
    "```python\n",
    "malaya.sentiment.transformer(model = 'alxlnet', device = 'CPU:0')\n",
    "```\n",
    "\n",
    "Or if you want to use XLA,\n",
    "\n",
    "```python\n",
    "malaya.sentiment.transformer(model = 'alxlnet', device = 'XLA_CPU:0')\n",
    "```"
   ]
  },
  {
   "cell_type": "code",
   "execution_count": 3,
   "id": "demonstrated-enemy",
   "metadata": {},
   "outputs": [],
   "source": [
    "alxlnet_cpu = malaya.sentiment.transformer(model = 'alxlnet', device = 'CPU:0')\n",
    "alxlnet_xla_cpu = malaya.sentiment.transformer(model = 'alxlnet', device = 'XLA_CPU:0')"
   ]
  },
  {
   "cell_type": "code",
   "execution_count": 4,
   "id": "golden-rubber",
   "metadata": {},
   "outputs": [],
   "source": [
    "string = 'saya kentut busuk tapi muka comel'"
   ]
  },
  {
   "cell_type": "code",
   "execution_count": 9,
   "id": "white-candidate",
   "metadata": {},
   "outputs": [
    {
     "name": "stdout",
     "output_type": "stream",
     "text": [
      "CPU times: user 186 ms, sys: 19.7 ms, total: 206 ms\n",
      "Wall time: 53.7 ms\n"
     ]
    },
    {
     "data": {
      "text/plain": [
       "[{'negative': 0.99942386, 'positive': 5.755763e-06, 'neutral': 0.00057035685}]"
      ]
     },
     "execution_count": 9,
     "metadata": {},
     "output_type": "execute_result"
    }
   ],
   "source": [
    "%%time\n",
    "\n",
    "alxlnet_cpu.predict_proba([string])"
   ]
  },
  {
   "cell_type": "code",
   "execution_count": 10,
   "id": "protecting-handling",
   "metadata": {},
   "outputs": [
    {
     "name": "stdout",
     "output_type": "stream",
     "text": [
      "CPU times: user 171 ms, sys: 12.3 ms, total: 184 ms\n",
      "Wall time: 40 ms\n"
     ]
    },
    {
     "data": {
      "text/plain": [
       "[{'negative': 0.9999045, 'positive': 9.575936e-07, 'neutral': 9.453297e-05}]"
      ]
     },
     "execution_count": 10,
     "metadata": {},
     "output_type": "execute_result"
    }
   ],
   "source": [
    "%%time\n",
    "\n",
    "alxlnet_xla_cpu.predict_proba([string])"
   ]
  },
  {
   "cell_type": "markdown",
   "id": "neither-handling",
   "metadata": {},
   "source": [
    "**Again, not all Tensorflow operation support XLA**."
   ]
  }
 ],
 "metadata": {
  "kernelspec": {
   "display_name": "Python 3",
   "language": "python",
   "name": "python3"
  },
  "language_info": {
   "codemirror_mode": {
    "name": "ipython",
    "version": 3
   },
   "file_extension": ".py",
   "mimetype": "text/x-python",
   "name": "python",
   "nbconvert_exporter": "python",
   "pygments_lexer": "ipython3",
   "version": "3.7.7"
  }
 },
 "nbformat": 4,
 "nbformat_minor": 5
}
