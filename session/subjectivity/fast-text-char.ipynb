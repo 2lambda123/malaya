{
 "cells": [
  {
   "cell_type": "code",
   "execution_count": 1,
   "metadata": {},
   "outputs": [
    {
     "name": "stderr",
     "output_type": "stream",
     "text": [
      "/usr/local/lib/python3.6/dist-packages/sklearn/cross_validation.py:41: DeprecationWarning: This module was deprecated in version 0.18 in favor of the model_selection module into which all the refactored classes and functions are moved. Also note that the interface of the new CV iterators are different from that of this module. This module will be removed in 0.20.\n",
      "  \"This module will be removed in 0.20.\", DeprecationWarning)\n"
     ]
    }
   ],
   "source": [
    "import re\n",
    "import numpy as np\n",
    "import collections\n",
    "from sklearn import metrics\n",
    "from sklearn.cross_validation import train_test_split\n",
    "import tensorflow as tf\n",
    "import pandas as pd\n",
    "from unidecode import unidecode\n",
    "from sklearn.preprocessing import LabelEncoder\n",
    "from tqdm import tqdm\n",
    "import time"
   ]
  },
  {
   "cell_type": "code",
   "execution_count": 2,
   "metadata": {},
   "outputs": [],
   "source": [
    "import json\n",
    "\n",
    "with open('tokenization.json') as fopen:\n",
    "    dataset = json.load(fopen)\n",
    "texts = dataset['texts']\n",
    "labels = dataset['labels']\n",
    "del dataset"
   ]
  },
  {
   "cell_type": "code",
   "execution_count": 3,
   "metadata": {},
   "outputs": [
    {
     "name": "stderr",
     "output_type": "stream",
     "text": [
      "100%|██████████| 9962/9962 [00:00<00:00, 310529.86it/s]\n"
     ]
    }
   ],
   "source": [
    "x, y = [], []\n",
    "for i in tqdm(range(len(texts))):\n",
    "    s = ' '.join(texts[i])\n",
    "    if len(s) > 5:\n",
    "        x.append(s)\n",
    "        y.append(labels[i])"
   ]
  },
  {
   "cell_type": "code",
   "execution_count": 4,
   "metadata": {},
   "outputs": [],
   "source": [
    "def convert_sparse_matrix_to_sparse_tensor(X):\n",
    "    coo = X.tocoo()\n",
    "    indices = np.mat([coo.row, coo.col]).transpose()\n",
    "    return tf.SparseTensorValue(indices, coo.col, coo.shape), tf.SparseTensorValue(indices, coo.data, coo.shape)"
   ]
  },
  {
   "cell_type": "code",
   "execution_count": 5,
   "metadata": {},
   "outputs": [],
   "source": [
    "from sklearn.feature_extraction.text import CountVectorizer"
   ]
  },
  {
   "cell_type": "code",
   "execution_count": 6,
   "metadata": {},
   "outputs": [],
   "source": [
    "bow_chars = CountVectorizer(ngram_range=(3, 5), analyzer='char_wb', max_features=300000).fit(x)\n",
    "delattr(bow_chars, 'stop_words_')"
   ]
  },
  {
   "cell_type": "code",
   "execution_count": 7,
   "metadata": {},
   "outputs": [
    {
     "data": {
      "text/plain": [
       "65672"
      ]
     },
     "execution_count": 7,
     "metadata": {},
     "output_type": "execute_result"
    }
   ],
   "source": [
    "vectors = bow_chars.transform(x)\n",
    "feature_shape = vectors.shape[1]\n",
    "feature_shape"
   ]
  },
  {
   "cell_type": "code",
   "execution_count": 8,
   "metadata": {},
   "outputs": [],
   "source": [
    "class Model:\n",
    "    def __init__(self, output_size, vocab_size, learning_rate):\n",
    "        self.X = tf.sparse_placeholder(tf.int32)\n",
    "        self.W = tf.sparse_placeholder(tf.int32)\n",
    "        self.Y = tf.placeholder(tf.int32, [None])\n",
    "        embeddings = tf.Variable(tf.truncated_normal([vocab_size,128]))\n",
    "        embed = tf.nn.embedding_lookup_sparse(embeddings, self.X, self.W, combiner='mean')\n",
    "        self.logits = tf.layers.dense(embed, output_size)\n",
    "        self.cost = tf.reduce_mean(tf.nn.sparse_softmax_cross_entropy_with_logits(\n",
    "            logits = self.logits, labels = self.Y))\n",
    "        self.optimizer = tf.train.AdamOptimizer(learning_rate = learning_rate).minimize(self.cost)\n",
    "        correct_pred = tf.equal(tf.argmax(self.logits, 1,output_type=tf.int32), self.Y)\n",
    "        self.accuracy = tf.reduce_mean(tf.cast(correct_pred, tf.float32))"
   ]
  },
  {
   "cell_type": "code",
   "execution_count": 9,
   "metadata": {},
   "outputs": [
    {
     "name": "stderr",
     "output_type": "stream",
     "text": [
      "/usr/local/lib/python3.6/dist-packages/tensorflow/python/ops/gradients_impl.py:108: UserWarning: Converting sparse IndexedSlices to a dense Tensor of unknown shape. This may consume a large amount of memory.\n",
      "  \"Converting sparse IndexedSlices to a dense Tensor of unknown shape. \"\n"
     ]
    }
   ],
   "source": [
    "sess = tf.InteractiveSession()\n",
    "model = Model(2, feature_shape, 1e-4)\n",
    "sess.run(tf.global_variables_initializer())"
   ]
  },
  {
   "cell_type": "code",
   "execution_count": 10,
   "metadata": {},
   "outputs": [
    {
     "data": {
      "text/plain": [
       "'fast-text-char/model.ckpt'"
      ]
     },
     "execution_count": 10,
     "metadata": {},
     "output_type": "execute_result"
    }
   ],
   "source": [
    "saver = tf.train.Saver(tf.trainable_variables())\n",
    "saver.save(sess, 'fast-text-char/model.ckpt')"
   ]
  },
  {
   "cell_type": "code",
   "execution_count": 11,
   "metadata": {},
   "outputs": [],
   "source": [
    "train_X, test_X, train_Y, test_Y = train_test_split(\n",
    "    vectors, y, test_size = 0.2\n",
    ")"
   ]
  },
  {
   "cell_type": "code",
   "execution_count": 12,
   "metadata": {},
   "outputs": [
    {
     "name": "stderr",
     "output_type": "stream",
     "text": [
      "train minibatch loop: 100%|██████████| 133/133 [00:01<00:00, 70.98it/s, accuracy=0.592, cost=0.683]\n",
      "test minibatch loop: 100%|██████████| 34/34 [00:00<00:00, 277.33it/s, accuracy=0.462, cost=0.681]\n",
      "train minibatch loop:   6%|▌         | 8/133 [00:00<00:01, 77.28it/s, accuracy=0.5, cost=0.681]  "
     ]
    },
    {
     "name": "stdout",
     "output_type": "stream",
     "text": [
      "epoch: 0, pass acc: 0.000000, current acc: 0.568335\n",
      "time taken: 2.00079607963562\n",
      "epoch: 0, training loss: 0.693529, training acc: 0.525099, valid loss: 0.701461, valid acc: 0.568335\n",
      "\n"
     ]
    },
    {
     "name": "stderr",
     "output_type": "stream",
     "text": [
      "train minibatch loop: 100%|██████████| 133/133 [00:01<00:00, 77.73it/s, accuracy=0.673, cost=0.671]\n",
      "test minibatch loop: 100%|██████████| 34/34 [00:00<00:00, 288.63it/s, accuracy=0.462, cost=0.674]\n",
      "train minibatch loop:   6%|▌         | 8/133 [00:00<00:01, 77.47it/s, accuracy=0.717, cost=0.663]"
     ]
    },
    {
     "name": "stdout",
     "output_type": "stream",
     "text": [
      "epoch: 1, pass acc: 0.568335, current acc: 0.665174\n",
      "time taken: 1.8305857181549072\n",
      "epoch: 1, training loss: 0.676979, training acc: 0.610793, valid loss: 0.686072, valid acc: 0.665174\n",
      "\n"
     ]
    },
    {
     "name": "stderr",
     "output_type": "stream",
     "text": [
      "train minibatch loop: 100%|██████████| 133/133 [00:01<00:00, 77.83it/s, accuracy=0.714, cost=0.658]\n",
      "test minibatch loop: 100%|██████████| 34/34 [00:00<00:00, 290.84it/s, accuracy=0.615, cost=0.667]\n",
      "train minibatch loop:   6%|▌         | 8/133 [00:00<00:01, 78.02it/s, accuracy=0.817, cost=0.645]"
     ]
    },
    {
     "name": "stdout",
     "output_type": "stream",
     "text": [
      "epoch: 2, pass acc: 0.665174, current acc: 0.740553\n",
      "time taken: 1.8272716999053955\n",
      "epoch: 2, training loss: 0.660672, training acc: 0.704587, valid loss: 0.670402, valid acc: 0.740553\n",
      "\n"
     ]
    },
    {
     "name": "stderr",
     "output_type": "stream",
     "text": [
      "train minibatch loop: 100%|██████████| 133/133 [00:01<00:00, 77.93it/s, accuracy=0.755, cost=0.646]\n",
      "test minibatch loop: 100%|██████████| 34/34 [00:00<00:00, 288.84it/s, accuracy=0.538, cost=0.659]\n",
      "train minibatch loop:   6%|▌         | 8/133 [00:00<00:01, 77.57it/s, accuracy=0.8, cost=0.626]  "
     ]
    },
    {
     "name": "stdout",
     "output_type": "stream",
     "text": [
      "epoch: 3, pass acc: 0.740553, current acc: 0.791926\n",
      "time taken: 1.826045274734497\n",
      "epoch: 3, training loss: 0.643512, training acc: 0.767387, valid loss: 0.653684, valid acc: 0.791926\n",
      "\n"
     ]
    },
    {
     "name": "stderr",
     "output_type": "stream",
     "text": [
      "train minibatch loop: 100%|██████████| 133/133 [00:01<00:00, 77.90it/s, accuracy=0.755, cost=0.632]\n",
      "test minibatch loop: 100%|██████████| 34/34 [00:00<00:00, 292.15it/s, accuracy=0.615, cost=0.65] \n",
      "train minibatch loop:   6%|▌         | 8/133 [00:00<00:01, 78.10it/s, accuracy=0.85, cost=0.605] "
     ]
    },
    {
     "name": "stdout",
     "output_type": "stream",
     "text": [
      "epoch: 4, pass acc: 0.791926, current acc: 0.821336\n",
      "time taken: 1.8259706497192383\n",
      "epoch: 4, training loss: 0.624956, training acc: 0.796625, valid loss: 0.635584, valid acc: 0.821336\n",
      "\n"
     ]
    },
    {
     "name": "stderr",
     "output_type": "stream",
     "text": [
      "train minibatch loop: 100%|██████████| 133/133 [00:01<00:00, 77.87it/s, accuracy=0.755, cost=0.617]\n",
      "test minibatch loop: 100%|██████████| 34/34 [00:00<00:00, 289.86it/s, accuracy=0.692, cost=0.64] \n",
      "train minibatch loop:   6%|▌         | 8/133 [00:00<00:01, 77.77it/s, accuracy=0.867, cost=0.583]"
     ]
    },
    {
     "name": "stdout",
     "output_type": "stream",
     "text": [
      "epoch: 5, pass acc: 0.821336, current acc: 0.840210\n",
      "time taken: 1.8267972469329834\n",
      "epoch: 5, training loss: 0.604842, training acc: 0.815574, valid loss: 0.616117, valid acc: 0.840210\n",
      "\n"
     ]
    },
    {
     "name": "stderr",
     "output_type": "stream",
     "text": [
      "train minibatch loop: 100%|██████████| 133/133 [00:01<00:00, 77.41it/s, accuracy=0.776, cost=0.602]\n",
      "test minibatch loop: 100%|██████████| 34/34 [00:00<00:00, 261.05it/s, accuracy=0.692, cost=0.629]\n",
      "train minibatch loop:   6%|▌         | 8/133 [00:00<00:01, 77.35it/s, accuracy=0.883, cost=0.56] "
     ]
    },
    {
     "name": "stdout",
     "output_type": "stream",
     "text": [
      "epoch: 6, pass acc: 0.840210, current acc: 0.848238\n",
      "time taken: 1.8498857021331787\n",
      "epoch: 6, training loss: 0.583328, training acc: 0.832542, valid loss: 0.595559, valid acc: 0.848238\n",
      "\n"
     ]
    },
    {
     "name": "stderr",
     "output_type": "stream",
     "text": [
      "train minibatch loop: 100%|██████████| 133/133 [00:01<00:00, 77.78it/s, accuracy=0.796, cost=0.585]\n",
      "test minibatch loop: 100%|██████████| 34/34 [00:00<00:00, 289.52it/s, accuracy=0.692, cost=0.618]\n",
      "train minibatch loop:   6%|▌         | 8/133 [00:00<00:01, 78.24it/s, accuracy=0.883, cost=0.535]"
     ]
    },
    {
     "name": "stdout",
     "output_type": "stream",
     "text": [
      "epoch: 7, pass acc: 0.848238, current acc: 0.855764\n",
      "time taken: 1.8299586772918701\n",
      "epoch: 7, training loss: 0.560791, training acc: 0.842609, valid loss: 0.574360, valid acc: 0.855764\n",
      "\n"
     ]
    },
    {
     "name": "stderr",
     "output_type": "stream",
     "text": [
      "train minibatch loop: 100%|██████████| 133/133 [00:01<00:00, 77.96it/s, accuracy=0.796, cost=0.569]\n",
      "test minibatch loop: 100%|██████████| 34/34 [00:00<00:00, 286.56it/s, accuracy=0.692, cost=0.605]\n",
      "train minibatch loop:   6%|▌         | 8/133 [00:00<00:01, 77.43it/s, accuracy=0.883, cost=0.51] "
     ]
    },
    {
     "name": "stdout",
     "output_type": "stream",
     "text": [
      "epoch: 8, pass acc: 0.855764, current acc: 0.861284\n",
      "time taken: 1.8261587619781494\n",
      "epoch: 8, training loss: 0.537749, training acc: 0.853527, valid loss: 0.553053, valid acc: 0.861284\n",
      "\n"
     ]
    },
    {
     "name": "stderr",
     "output_type": "stream",
     "text": [
      "train minibatch loop: 100%|██████████| 133/133 [00:01<00:00, 77.57it/s, accuracy=0.796, cost=0.552]\n",
      "test minibatch loop: 100%|██████████| 34/34 [00:00<00:00, 288.88it/s, accuracy=0.692, cost=0.593]\n",
      "train minibatch loop:   6%|▌         | 8/133 [00:00<00:01, 77.90it/s, accuracy=0.883, cost=0.485]"
     ]
    },
    {
     "name": "stdout",
     "output_type": "stream",
     "text": [
      "epoch: 9, pass acc: 0.861284, current acc: 0.864294\n",
      "time taken: 1.8338537216186523\n",
      "epoch: 9, training loss: 0.514761, training acc: 0.858295, valid loss: 0.532173, valid acc: 0.864294\n",
      "\n"
     ]
    },
    {
     "name": "stderr",
     "output_type": "stream",
     "text": [
      "train minibatch loop: 100%|██████████| 133/133 [00:01<00:00, 77.71it/s, accuracy=0.816, cost=0.535]\n",
      "test minibatch loop: 100%|██████████| 34/34 [00:00<00:00, 292.23it/s, accuracy=0.692, cost=0.581]\n",
      "train minibatch loop:   6%|▌         | 8/133 [00:00<00:01, 77.13it/s, accuracy=0.9, cost=0.46]   "
     ]
    },
    {
     "name": "stdout",
     "output_type": "stream",
     "text": [
      "epoch: 10, pass acc: 0.864294, current acc: 0.867807\n",
      "time taken: 1.829629898071289\n",
      "epoch: 10, training loss: 0.492348, training acc: 0.862088, valid loss: 0.512176, valid acc: 0.867807\n",
      "\n"
     ]
    },
    {
     "name": "stderr",
     "output_type": "stream",
     "text": [
      "train minibatch loop: 100%|██████████| 133/133 [00:01<00:00, 77.70it/s, accuracy=0.837, cost=0.519]\n",
      "test minibatch loop: 100%|██████████| 34/34 [00:00<00:00, 288.81it/s, accuracy=0.692, cost=0.569]\n",
      "train minibatch loop:   6%|▌         | 8/133 [00:00<00:01, 77.38it/s, accuracy=0.917, cost=0.437]"
     ]
    },
    {
     "name": "stdout",
     "output_type": "stream",
     "text": [
      "epoch: 11, pass acc: 0.867807, current acc: 0.868810\n",
      "time taken: 1.8309235572814941\n",
      "epoch: 11, training loss: 0.470930, training acc: 0.866006, valid loss: 0.493399, valid acc: 0.868810\n",
      "\n"
     ]
    },
    {
     "name": "stderr",
     "output_type": "stream",
     "text": [
      "train minibatch loop: 100%|██████████| 133/133 [00:01<00:00, 77.85it/s, accuracy=0.857, cost=0.504]\n",
      "test minibatch loop: 100%|██████████| 34/34 [00:00<00:00, 288.94it/s, accuracy=0.692, cost=0.558]\n",
      "train minibatch loop:   6%|▌         | 8/133 [00:00<00:01, 77.30it/s, accuracy=0.917, cost=0.414]"
     ]
    },
    {
     "name": "stdout",
     "output_type": "stream",
     "text": [
      "epoch: 12, pass acc: 0.868810, current acc: 0.870315\n",
      "time taken: 1.827784538269043\n",
      "epoch: 12, training loss: 0.450793, training acc: 0.870301, valid loss: 0.476047, valid acc: 0.870315\n",
      "\n"
     ]
    },
    {
     "name": "stderr",
     "output_type": "stream",
     "text": [
      "train minibatch loop: 100%|██████████| 133/133 [00:01<00:00, 77.71it/s, accuracy=0.857, cost=0.489]\n",
      "test minibatch loop: 100%|██████████| 34/34 [00:00<00:00, 289.06it/s, accuracy=0.692, cost=0.547]\n",
      "train minibatch loop:   6%|▌         | 8/133 [00:00<00:01, 77.66it/s, accuracy=0.917, cost=0.393]"
     ]
    },
    {
     "name": "stdout",
     "output_type": "stream",
     "text": [
      "epoch: 13, pass acc: 0.870315, current acc: 0.873326\n",
      "time taken: 1.8306820392608643\n",
      "epoch: 13, training loss: 0.432091, training acc: 0.873062, valid loss: 0.460203, valid acc: 0.873326\n",
      "\n"
     ]
    },
    {
     "name": "stderr",
     "output_type": "stream",
     "text": [
      "train minibatch loop: 100%|██████████| 133/133 [00:01<00:00, 77.88it/s, accuracy=0.878, cost=0.475]\n",
      "test minibatch loop: 100%|██████████| 34/34 [00:00<00:00, 287.43it/s, accuracy=0.692, cost=0.538]\n",
      "train minibatch loop:   6%|▌         | 8/133 [00:00<00:01, 77.76it/s, accuracy=0.917, cost=0.374]"
     ]
    },
    {
     "name": "stdout",
     "output_type": "stream",
     "text": [
      "epoch: 14, pass acc: 0.873326, current acc: 0.875835\n",
      "time taken: 1.828165054321289\n",
      "epoch: 14, training loss: 0.414872, training acc: 0.877105, valid loss: 0.445862, valid acc: 0.875835\n",
      "\n"
     ]
    },
    {
     "name": "stderr",
     "output_type": "stream",
     "text": [
      "train minibatch loop: 100%|██████████| 133/133 [00:01<00:00, 77.71it/s, accuracy=0.878, cost=0.462]\n",
      "test minibatch loop: 100%|██████████| 34/34 [00:00<00:00, 287.89it/s, accuracy=0.692, cost=0.529]\n",
      "train minibatch loop:   6%|▌         | 8/133 [00:00<00:01, 77.92it/s, accuracy=0.917, cost=0.356]"
     ]
    },
    {
     "name": "stdout",
     "output_type": "stream",
     "text": [
      "epoch: 15, pass acc: 0.875835, current acc: 0.876336\n",
      "time taken: 1.8311221599578857\n",
      "epoch: 15, training loss: 0.399102, training acc: 0.878737, valid loss: 0.432956, valid acc: 0.876336\n",
      "\n"
     ]
    },
    {
     "name": "stderr",
     "output_type": "stream",
     "text": [
      "train minibatch loop: 100%|██████████| 133/133 [00:01<00:00, 77.83it/s, accuracy=0.878, cost=0.449]\n",
      "test minibatch loop: 100%|██████████| 34/34 [00:00<00:00, 288.81it/s, accuracy=0.692, cost=0.521]\n",
      "train minibatch loop:   6%|▌         | 8/133 [00:00<00:01, 77.29it/s, accuracy=0.917, cost=0.339]"
     ]
    },
    {
     "name": "stdout",
     "output_type": "stream",
     "text": [
      "epoch: 16, pass acc: 0.876336, current acc: 0.876838\n",
      "time taken: 1.82830810546875\n",
      "epoch: 16, training loss: 0.384696, training acc: 0.881874, valid loss: 0.421380, valid acc: 0.876838\n",
      "\n"
     ]
    },
    {
     "name": "stderr",
     "output_type": "stream",
     "text": [
      "train minibatch loop: 100%|██████████| 133/133 [00:01<00:00, 77.57it/s, accuracy=0.878, cost=0.438]\n",
      "test minibatch loop: 100%|██████████| 34/34 [00:00<00:00, 288.39it/s, accuracy=0.692, cost=0.514]\n",
      "train minibatch loop:   6%|▌         | 8/133 [00:00<00:01, 77.61it/s, accuracy=0.9, cost=0.324]  "
     ]
    },
    {
     "name": "stdout",
     "output_type": "stream",
     "text": [
      "epoch: 17, pass acc: 0.876838, current acc: 0.877340\n",
      "time taken: 1.8340368270874023\n",
      "epoch: 17, training loss: 0.371541, training acc: 0.885137, valid loss: 0.411012, valid acc: 0.877340\n",
      "\n"
     ]
    },
    {
     "name": "stderr",
     "output_type": "stream",
     "text": [
      "train minibatch loop: 100%|██████████| 133/133 [00:01<00:00, 77.98it/s, accuracy=0.878, cost=0.427]\n",
      "test minibatch loop: 100%|██████████| 34/34 [00:00<00:00, 288.45it/s, accuracy=0.692, cost=0.508]\n",
      "train minibatch loop:   6%|▌         | 8/133 [00:00<00:01, 77.36it/s, accuracy=0.9, cost=0.31]   "
     ]
    },
    {
     "name": "stdout",
     "output_type": "stream",
     "text": [
      "epoch: 18, pass acc: 0.877340, current acc: 0.877842\n",
      "time taken: 1.8251845836639404\n",
      "epoch: 18, training loss: 0.359514, training acc: 0.887270, valid loss: 0.401725, valid acc: 0.877842\n",
      "\n"
     ]
    },
    {
     "name": "stderr",
     "output_type": "stream",
     "text": [
      "train minibatch loop: 100%|██████████| 133/133 [00:01<00:00, 77.91it/s, accuracy=0.878, cost=0.416]\n",
      "test minibatch loop: 100%|██████████| 34/34 [00:00<00:00, 289.14it/s, accuracy=0.692, cost=0.502]\n",
      "train minibatch loop:   6%|▌         | 8/133 [00:00<00:01, 77.39it/s, accuracy=0.9, cost=0.298]  "
     ]
    },
    {
     "name": "stdout",
     "output_type": "stream",
     "text": [
      "epoch: 19, pass acc: 0.877842, current acc: 0.881856\n",
      "time taken: 1.8262813091278076\n",
      "epoch: 19, training loss: 0.348492, training acc: 0.889027, valid loss: 0.393399, valid acc: 0.881856\n",
      "\n"
     ]
    },
    {
     "name": "stderr",
     "output_type": "stream",
     "text": [
      "train minibatch loop: 100%|██████████| 133/133 [00:01<00:00, 77.97it/s, accuracy=0.878, cost=0.406]\n",
      "test minibatch loop: 100%|██████████| 34/34 [00:00<00:00, 287.91it/s, accuracy=0.692, cost=0.496]\n",
      "train minibatch loop:   6%|▌         | 8/133 [00:00<00:01, 77.27it/s, accuracy=0.9, cost=0.286]  "
     ]
    },
    {
     "name": "stdout",
     "output_type": "stream",
     "text": [
      "epoch: 20, pass acc: 0.881856, current acc: 0.882859\n",
      "time taken: 1.8260180950164795\n",
      "epoch: 20, training loss: 0.338358, training acc: 0.891536, valid loss: 0.385921, valid acc: 0.882859\n",
      "\n"
     ]
    },
    {
     "name": "stderr",
     "output_type": "stream",
     "text": [
      "train minibatch loop: 100%|██████████| 133/133 [00:01<00:00, 77.67it/s, accuracy=0.898, cost=0.396]\n",
      "test minibatch loop: 100%|██████████| 34/34 [00:00<00:00, 289.60it/s, accuracy=0.692, cost=0.492]\n",
      "train minibatch loop:   6%|▌         | 8/133 [00:00<00:01, 77.21it/s, accuracy=0.9, cost=0.275]  "
     ]
    },
    {
     "name": "stdout",
     "output_type": "stream",
     "text": [
      "epoch: 21, pass acc: 0.882859, current acc: 0.884365\n",
      "time taken: 1.831261157989502\n",
      "epoch: 21, training loss: 0.329004, training acc: 0.894702, valid loss: 0.379188, valid acc: 0.884365\n",
      "\n"
     ]
    },
    {
     "name": "stderr",
     "output_type": "stream",
     "text": [
      "train minibatch loop: 100%|██████████| 133/133 [00:01<00:00, 77.68it/s, accuracy=0.898, cost=0.387]\n",
      "test minibatch loop: 100%|██████████| 34/34 [00:00<00:00, 261.10it/s, accuracy=0.692, cost=0.487]\n",
      "train minibatch loop:   6%|▌         | 8/133 [00:00<00:01, 77.79it/s, accuracy=0.9, cost=0.265]  "
     ]
    },
    {
     "name": "stdout",
     "output_type": "stream",
     "text": [
      "epoch: 22, pass acc: 0.884365, current acc: 0.884866\n",
      "time taken: 1.8438198566436768\n",
      "epoch: 22, training loss: 0.320334, training acc: 0.896207, valid loss: 0.373110, valid acc: 0.884866\n",
      "\n"
     ]
    },
    {
     "name": "stderr",
     "output_type": "stream",
     "text": [
      "train minibatch loop: 100%|██████████| 133/133 [00:01<00:00, 78.05it/s, accuracy=0.898, cost=0.378]\n",
      "test minibatch loop: 100%|██████████| 34/34 [00:00<00:00, 289.57it/s, accuracy=0.692, cost=0.483]\n",
      "train minibatch loop:   6%|▌         | 8/133 [00:00<00:01, 77.45it/s, accuracy=0.9, cost=0.256]  "
     ]
    },
    {
     "name": "stdout",
     "output_type": "stream",
     "text": [
      "epoch: 23, pass acc: 0.884866, current acc: 0.885368\n",
      "time taken: 1.823049545288086\n",
      "epoch: 23, training loss: 0.312266, training acc: 0.897964, valid loss: 0.367608, valid acc: 0.885368\n",
      "\n"
     ]
    },
    {
     "name": "stderr",
     "output_type": "stream",
     "text": [
      "train minibatch loop: 100%|██████████| 133/133 [00:01<00:00, 77.74it/s, accuracy=0.898, cost=0.37] \n",
      "test minibatch loop: 100%|██████████| 34/34 [00:00<00:00, 290.19it/s, accuracy=0.692, cost=0.48] \n",
      "train minibatch loop:   6%|▌         | 8/133 [00:00<00:01, 77.61it/s, accuracy=0.9, cost=0.247]  "
     ]
    },
    {
     "name": "stdout",
     "output_type": "stream",
     "text": [
      "epoch: 24, pass acc: 0.885368, current acc: 0.886873\n",
      "time taken: 1.8294336795806885\n",
      "epoch: 24, training loss: 0.304724, training acc: 0.899470, valid loss: 0.362613, valid acc: 0.886873\n",
      "\n"
     ]
    },
    {
     "name": "stderr",
     "output_type": "stream",
     "text": [
      "train minibatch loop: 100%|██████████| 133/133 [00:01<00:00, 77.66it/s, accuracy=0.898, cost=0.361]\n",
      "test minibatch loop: 100%|██████████| 34/34 [00:00<00:00, 290.41it/s, accuracy=0.692, cost=0.476]\n",
      "train minibatch loop:   6%|▌         | 8/133 [00:00<00:01, 78.22it/s, accuracy=0.9, cost=0.239]  "
     ]
    },
    {
     "name": "stdout",
     "output_type": "stream",
     "text": [
      "epoch: 25, pass acc: 0.886873, current acc: 0.889382\n",
      "time taken: 1.831205129623413\n",
      "epoch: 25, training loss: 0.297645, training acc: 0.901729, valid loss: 0.358065, valid acc: 0.889382\n",
      "\n"
     ]
    },
    {
     "name": "stderr",
     "output_type": "stream",
     "text": [
      "train minibatch loop: 100%|██████████| 133/133 [00:01<00:00, 77.94it/s, accuracy=0.898, cost=0.353]\n",
      "test minibatch loop: 100%|██████████| 34/34 [00:00<00:00, 289.24it/s, accuracy=0.692, cost=0.473]\n",
      "train minibatch loop:   6%|▌         | 8/133 [00:00<00:01, 76.86it/s, accuracy=0.917, cost=0.232]"
     ]
    },
    {
     "name": "stdout",
     "output_type": "stream",
     "text": [
      "epoch: 26, pass acc: 0.889382, current acc: 0.890887\n",
      "time taken: 1.8260059356689453\n",
      "epoch: 26, training loss: 0.290973, training acc: 0.902858, valid loss: 0.353911, valid acc: 0.890887\n",
      "\n"
     ]
    },
    {
     "name": "stderr",
     "output_type": "stream",
     "text": [
      "train minibatch loop: 100%|██████████| 133/133 [00:01<00:00, 77.87it/s, accuracy=0.898, cost=0.346]\n",
      "test minibatch loop: 100%|██████████| 34/34 [00:00<00:00, 287.59it/s, accuracy=0.692, cost=0.47] \n",
      "train minibatch loop:   6%|▌         | 8/133 [00:00<00:01, 77.57it/s, accuracy=0.917, cost=0.225]"
     ]
    },
    {
     "name": "stdout",
     "output_type": "stream",
     "text": [
      "epoch: 27, pass acc: 0.890887, current acc: 0.891389\n",
      "time taken: 1.8283772468566895\n",
      "epoch: 27, training loss: 0.284663, training acc: 0.904364, valid loss: 0.350109, valid acc: 0.891389\n",
      "\n"
     ]
    },
    {
     "name": "stderr",
     "output_type": "stream",
     "text": [
      "train minibatch loop: 100%|██████████| 133/133 [00:01<00:00, 77.68it/s, accuracy=0.898, cost=0.338]\n",
      "test minibatch loop: 100%|██████████| 34/34 [00:00<00:00, 285.83it/s, accuracy=0.692, cost=0.468]\n",
      "train minibatch loop:   6%|▌         | 8/133 [00:00<00:01, 78.54it/s, accuracy=0.917, cost=0.218]"
     ]
    },
    {
     "name": "stdout",
     "output_type": "stream",
     "text": [
      "epoch: 28, pass acc: 0.891389, current acc: 0.892393\n",
      "time taken: 1.8324975967407227\n",
      "epoch: 28, training loss: 0.278672, training acc: 0.906246, valid loss: 0.346618, valid acc: 0.892393\n",
      "\n"
     ]
    },
    {
     "name": "stderr",
     "output_type": "stream",
     "text": [
      "train minibatch loop: 100%|██████████| 133/133 [00:01<00:00, 77.85it/s, accuracy=0.898, cost=0.331]\n",
      "test minibatch loop: 100%|██████████| 34/34 [00:00<00:00, 286.97it/s, accuracy=0.692, cost=0.465]\n",
      "train minibatch loop:   6%|▌         | 8/133 [00:00<00:01, 77.09it/s, accuracy=0.917, cost=0.212]"
     ]
    },
    {
     "name": "stdout",
     "output_type": "stream",
     "text": [
      "epoch: 29, pass acc: 0.892393, current acc: 0.893396\n",
      "time taken: 1.8290534019470215\n",
      "epoch: 29, training loss: 0.272967, training acc: 0.907878, valid loss: 0.343407, valid acc: 0.893396\n",
      "\n"
     ]
    },
    {
     "name": "stderr",
     "output_type": "stream",
     "text": [
      "train minibatch loop: 100%|██████████| 133/133 [00:01<00:00, 77.81it/s, accuracy=0.898, cost=0.324]\n",
      "test minibatch loop: 100%|██████████| 34/34 [00:00<00:00, 286.78it/s, accuracy=0.769, cost=0.463]\n",
      "train minibatch loop:   6%|▌         | 8/133 [00:00<00:01, 77.16it/s, accuracy=0.917, cost=0.206]"
     ]
    },
    {
     "name": "stdout",
     "output_type": "stream",
     "text": [
      "epoch: 30, pass acc: 0.893396, current acc: 0.896715\n",
      "time taken: 1.829481840133667\n",
      "epoch: 30, training loss: 0.267517, training acc: 0.909133, valid loss: 0.340446, valid acc: 0.896715\n",
      "\n"
     ]
    },
    {
     "name": "stderr",
     "output_type": "stream",
     "text": [
      "train minibatch loop: 100%|██████████| 133/133 [00:01<00:00, 77.74it/s, accuracy=0.898, cost=0.317]\n",
      "test minibatch loop: 100%|██████████| 34/34 [00:00<00:00, 289.63it/s, accuracy=0.769, cost=0.46] \n",
      "train minibatch loop:   6%|▌         | 8/133 [00:00<00:01, 77.88it/s, accuracy=0.917, cost=0.201]"
     ]
    },
    {
     "name": "stdout",
     "output_type": "stream",
     "text": [
      "epoch: 31, pass acc: 0.896715, current acc: 0.898221\n",
      "time taken: 1.8297929763793945\n",
      "epoch: 31, training loss: 0.262297, training acc: 0.910764, valid loss: 0.337711, valid acc: 0.898221\n",
      "\n"
     ]
    },
    {
     "name": "stderr",
     "output_type": "stream",
     "text": [
      "train minibatch loop: 100%|██████████| 133/133 [00:01<00:00, 77.72it/s, accuracy=0.898, cost=0.31] \n",
      "test minibatch loop: 100%|██████████| 34/34 [00:00<00:00, 289.40it/s, accuracy=0.769, cost=0.458]\n",
      "train minibatch loop:   6%|▌         | 8/133 [00:00<00:01, 77.83it/s, accuracy=0.917, cost=0.196]"
     ]
    },
    {
     "name": "stdout",
     "output_type": "stream",
     "text": [
      "epoch: 32, pass acc: 0.898221, current acc: 0.899224\n",
      "time taken: 1.8309762477874756\n",
      "epoch: 32, training loss: 0.257285, training acc: 0.912144, valid loss: 0.335181, valid acc: 0.899224\n",
      "\n"
     ]
    },
    {
     "name": "stderr",
     "output_type": "stream",
     "text": [
      "train minibatch loop: 100%|██████████| 133/133 [00:01<00:00, 77.87it/s, accuracy=0.898, cost=0.304]\n",
      "test minibatch loop: 100%|██████████| 34/34 [00:00<00:00, 289.64it/s, accuracy=0.769, cost=0.456]\n",
      "train minibatch loop:   6%|▌         | 8/133 [00:00<00:01, 77.99it/s, accuracy=0.917, cost=0.191]"
     ]
    },
    {
     "name": "stdout",
     "output_type": "stream",
     "text": [
      "epoch: 33, pass acc: 0.899224, current acc: 0.900228\n",
      "time taken: 1.8269217014312744\n",
      "epoch: 33, training loss: 0.252461, training acc: 0.913023, valid loss: 0.332838, valid acc: 0.900228\n",
      "\n"
     ]
    },
    {
     "name": "stderr",
     "output_type": "stream",
     "text": [
      "train minibatch loop: 100%|██████████| 133/133 [00:01<00:00, 77.77it/s, accuracy=0.918, cost=0.298]\n",
      "test minibatch loop: 100%|██████████| 34/34 [00:00<00:00, 290.09it/s, accuracy=0.769, cost=0.455]\n",
      "train minibatch loop:   6%|▌         | 8/133 [00:00<00:01, 77.72it/s, accuracy=0.917, cost=0.186]"
     ]
    },
    {
     "name": "stdout",
     "output_type": "stream",
     "text": [
      "time taken: 1.8288168907165527\n",
      "epoch: 34, training loss: 0.247810, training acc: 0.914808, valid loss: 0.330664, valid acc: 0.900228\n",
      "\n"
     ]
    },
    {
     "name": "stderr",
     "output_type": "stream",
     "text": [
      "train minibatch loop: 100%|██████████| 133/133 [00:01<00:00, 77.80it/s, accuracy=0.918, cost=0.291]\n",
      "test minibatch loop: 100%|██████████| 34/34 [00:00<00:00, 290.40it/s, accuracy=0.769, cost=0.453]\n",
      "train minibatch loop:   6%|▌         | 8/133 [00:00<00:01, 77.79it/s, accuracy=0.917, cost=0.182]"
     ]
    },
    {
     "name": "stdout",
     "output_type": "stream",
     "text": [
      "epoch: 35, pass acc: 0.900228, current acc: 0.900228\n",
      "time taken: 1.8282558917999268\n",
      "epoch: 35, training loss: 0.243318, training acc: 0.916690, valid loss: 0.328646, valid acc: 0.900228\n",
      "\n"
     ]
    },
    {
     "name": "stderr",
     "output_type": "stream",
     "text": [
      "train minibatch loop: 100%|██████████| 133/133 [00:01<00:00, 77.84it/s, accuracy=0.918, cost=0.286]\n",
      "test minibatch loop: 100%|██████████| 34/34 [00:00<00:00, 286.88it/s, accuracy=0.769, cost=0.451]\n",
      "train minibatch loop:   6%|▌         | 8/133 [00:00<00:01, 77.47it/s, accuracy=0.917, cost=0.177]"
     ]
    },
    {
     "name": "stdout",
     "output_type": "stream",
     "text": [
      "epoch: 36, pass acc: 0.900228, current acc: 0.901231\n",
      "time taken: 1.8287444114685059\n",
      "epoch: 36, training loss: 0.238971, training acc: 0.918196, valid loss: 0.326773, valid acc: 0.901231\n",
      "\n"
     ]
    },
    {
     "name": "stderr",
     "output_type": "stream",
     "text": [
      "train minibatch loop: 100%|██████████| 133/133 [00:01<00:00, 77.69it/s, accuracy=0.918, cost=0.28] \n",
      "test minibatch loop: 100%|██████████| 34/34 [00:00<00:00, 284.26it/s, accuracy=0.769, cost=0.449]\n",
      "train minibatch loop:   6%|▌         | 8/133 [00:00<00:01, 78.00it/s, accuracy=0.917, cost=0.173]"
     ]
    },
    {
     "name": "stdout",
     "output_type": "stream",
     "text": [
      "time taken: 1.83321213722229\n",
      "epoch: 37, training loss: 0.234759, training acc: 0.919576, valid loss: 0.325032, valid acc: 0.901231\n",
      "\n"
     ]
    },
    {
     "name": "stderr",
     "output_type": "stream",
     "text": [
      "train minibatch loop: 100%|██████████| 133/133 [00:01<00:00, 77.85it/s, accuracy=0.918, cost=0.274]\n",
      "test minibatch loop: 100%|██████████| 34/34 [00:00<00:00, 288.58it/s, accuracy=0.769, cost=0.448]\n",
      "train minibatch loop:   6%|▌         | 8/133 [00:00<00:01, 76.75it/s, accuracy=0.917, cost=0.169]"
     ]
    },
    {
     "name": "stdout",
     "output_type": "stream",
     "text": [
      "time taken: 1.827665090560913\n",
      "epoch: 38, training loss: 0.230674, training acc: 0.920705, valid loss: 0.323414, valid acc: 0.901231\n",
      "\n"
     ]
    },
    {
     "name": "stderr",
     "output_type": "stream",
     "text": [
      "train minibatch loop: 100%|██████████| 133/133 [00:01<00:00, 77.22it/s, accuracy=0.918, cost=0.269]\n",
      "test minibatch loop: 100%|██████████| 34/34 [00:00<00:00, 289.38it/s, accuracy=0.769, cost=0.446]\n",
      "train minibatch loop:   6%|▌         | 8/133 [00:00<00:01, 77.75it/s, accuracy=0.917, cost=0.166]"
     ]
    },
    {
     "name": "stdout",
     "output_type": "stream",
     "text": [
      "epoch: 39, pass acc: 0.901231, current acc: 0.901733\n",
      "time taken: 1.841341257095337\n",
      "epoch: 39, training loss: 0.226706, training acc: 0.922337, valid loss: 0.321912, valid acc: 0.901733\n",
      "\n"
     ]
    },
    {
     "name": "stderr",
     "output_type": "stream",
     "text": [
      "train minibatch loop: 100%|██████████| 133/133 [00:01<00:00, 77.64it/s, accuracy=0.918, cost=0.263]\n",
      "test minibatch loop: 100%|██████████| 34/34 [00:00<00:00, 287.91it/s, accuracy=0.769, cost=0.445]\n",
      "train minibatch loop:   6%|▌         | 8/133 [00:00<00:01, 77.31it/s, accuracy=0.917, cost=0.162]"
     ]
    },
    {
     "name": "stdout",
     "output_type": "stream",
     "text": [
      "epoch: 40, pass acc: 0.901733, current acc: 0.902235\n",
      "time taken: 1.8328146934509277\n",
      "epoch: 40, training loss: 0.222848, training acc: 0.924596, valid loss: 0.320517, valid acc: 0.902235\n",
      "\n"
     ]
    },
    {
     "name": "stderr",
     "output_type": "stream",
     "text": [
      "train minibatch loop: 100%|██████████| 133/133 [00:01<00:00, 77.73it/s, accuracy=0.918, cost=0.258]\n",
      "test minibatch loop: 100%|██████████| 34/34 [00:00<00:00, 287.24it/s, accuracy=0.769, cost=0.443]\n",
      "train minibatch loop:   6%|▌         | 8/133 [00:00<00:01, 77.57it/s, accuracy=0.917, cost=0.158]"
     ]
    },
    {
     "name": "stdout",
     "output_type": "stream",
     "text": [
      "time taken: 1.830817461013794\n",
      "epoch: 41, training loss: 0.219093, training acc: 0.925976, valid loss: 0.319223, valid acc: 0.902235\n",
      "\n"
     ]
    },
    {
     "name": "stderr",
     "output_type": "stream",
     "text": [
      "train minibatch loop: 100%|██████████| 133/133 [00:01<00:00, 77.76it/s, accuracy=0.918, cost=0.253]\n",
      "test minibatch loop: 100%|██████████| 34/34 [00:00<00:00, 289.74it/s, accuracy=0.769, cost=0.442]\n",
      "train minibatch loop:   6%|▌         | 8/133 [00:00<00:01, 77.20it/s, accuracy=0.917, cost=0.155]"
     ]
    },
    {
     "name": "stdout",
     "output_type": "stream",
     "text": [
      "time taken: 1.8297176361083984\n",
      "epoch: 42, training loss: 0.215437, training acc: 0.926854, valid loss: 0.318023, valid acc: 0.902235\n",
      "\n"
     ]
    },
    {
     "name": "stderr",
     "output_type": "stream",
     "text": [
      "train minibatch loop: 100%|██████████| 133/133 [00:01<00:00, 77.77it/s, accuracy=0.918, cost=0.248]\n",
      "test minibatch loop: 100%|██████████| 34/34 [00:00<00:00, 284.63it/s, accuracy=0.769, cost=0.44] \n",
      "train minibatch loop:   6%|▌         | 8/133 [00:00<00:01, 77.36it/s, accuracy=0.933, cost=0.152]"
     ]
    },
    {
     "name": "stdout",
     "output_type": "stream",
     "text": [
      "epoch: 43, pass acc: 0.902235, current acc: 0.902736\n",
      "time taken: 1.8312606811523438\n",
      "epoch: 43, training loss: 0.211873, training acc: 0.927984, valid loss: 0.316912, valid acc: 0.902736\n",
      "\n"
     ]
    },
    {
     "name": "stderr",
     "output_type": "stream",
     "text": [
      "train minibatch loop: 100%|██████████| 133/133 [00:01<00:00, 77.95it/s, accuracy=0.939, cost=0.244]\n",
      "test minibatch loop: 100%|██████████| 34/34 [00:00<00:00, 287.25it/s, accuracy=0.769, cost=0.439]\n",
      "train minibatch loop:   6%|▌         | 8/133 [00:00<00:01, 77.67it/s, accuracy=0.933, cost=0.149]"
     ]
    },
    {
     "name": "stdout",
     "output_type": "stream",
     "text": [
      "epoch: 44, pass acc: 0.902736, current acc: 0.903238\n",
      "time taken: 1.8262388706207275\n",
      "epoch: 44, training loss: 0.208397, training acc: 0.929267, valid loss: 0.315885, valid acc: 0.903238\n",
      "\n"
     ]
    },
    {
     "name": "stderr",
     "output_type": "stream",
     "text": [
      "train minibatch loop: 100%|██████████| 133/133 [00:01<00:00, 77.71it/s, accuracy=0.939, cost=0.239]\n",
      "test minibatch loop: 100%|██████████| 34/34 [00:00<00:00, 287.73it/s, accuracy=0.769, cost=0.437]\n",
      "train minibatch loop:   6%|▌         | 8/133 [00:00<00:01, 77.28it/s, accuracy=0.933, cost=0.146]"
     ]
    },
    {
     "name": "stdout",
     "output_type": "stream",
     "text": [
      "epoch: 45, pass acc: 0.903238, current acc: 0.903740\n",
      "time taken: 1.8311009407043457\n",
      "epoch: 45, training loss: 0.205005, training acc: 0.930898, valid loss: 0.314937, valid acc: 0.903740\n",
      "\n"
     ]
    },
    {
     "name": "stderr",
     "output_type": "stream",
     "text": [
      "train minibatch loop: 100%|██████████| 133/133 [00:01<00:00, 77.85it/s, accuracy=0.939, cost=0.235]\n",
      "test minibatch loop: 100%|██████████| 34/34 [00:00<00:00, 290.25it/s, accuracy=0.769, cost=0.436]\n",
      "train minibatch loop:   6%|▌         | 8/133 [00:00<00:01, 78.07it/s, accuracy=0.933, cost=0.143]"
     ]
    },
    {
     "name": "stdout",
     "output_type": "stream",
     "text": [
      "time taken: 1.827251672744751\n",
      "epoch: 46, training loss: 0.201693, training acc: 0.931525, valid loss: 0.314065, valid acc: 0.903740\n",
      "\n"
     ]
    },
    {
     "name": "stderr",
     "output_type": "stream",
     "text": [
      "train minibatch loop: 100%|██████████| 133/133 [00:01<00:00, 77.81it/s, accuracy=0.939, cost=0.23] \n",
      "test minibatch loop: 100%|██████████| 34/34 [00:00<00:00, 289.69it/s, accuracy=0.769, cost=0.435]\n",
      "train minibatch loop:   6%|▌         | 8/133 [00:00<00:01, 77.65it/s, accuracy=0.933, cost=0.14] "
     ]
    },
    {
     "name": "stdout",
     "output_type": "stream",
     "text": [
      "time taken: 1.828348159790039\n",
      "epoch: 47, training loss: 0.198457, training acc: 0.932404, valid loss: 0.313265, valid acc: 0.903238\n",
      "\n"
     ]
    },
    {
     "name": "stderr",
     "output_type": "stream",
     "text": [
      "train minibatch loop: 100%|██████████| 133/133 [00:01<00:00, 77.69it/s, accuracy=0.939, cost=0.226]\n",
      "test minibatch loop: 100%|██████████| 34/34 [00:00<00:00, 287.38it/s, accuracy=0.769, cost=0.433]"
     ]
    },
    {
     "name": "stdout",
     "output_type": "stream",
     "text": [
      "time taken: 1.8323161602020264\n",
      "epoch: 48, training loss: 0.195295, training acc: 0.933157, valid loss: 0.312532, valid acc: 0.903740\n",
      "\n",
      "break epoch:49\n",
      "\n"
     ]
    },
    {
     "name": "stderr",
     "output_type": "stream",
     "text": [
      "\n"
     ]
    }
   ],
   "source": [
    "from tqdm import tqdm\n",
    "import time\n",
    "\n",
    "batch_size = 60\n",
    "EARLY_STOPPING, CURRENT_CHECKPOINT, CURRENT_ACC, EPOCH = 3, 0, 0, 0\n",
    "\n",
    "while True:\n",
    "    lasttime = time.time()\n",
    "    if CURRENT_CHECKPOINT == EARLY_STOPPING:\n",
    "        print('break epoch:%d\\n' % (EPOCH))\n",
    "        break\n",
    "\n",
    "    train_acc, train_loss, test_acc, test_loss = 0, 0, 0, 0\n",
    "    pbar = tqdm(\n",
    "        range(0, train_X.shape[0], batch_size), desc = 'train minibatch loop'\n",
    "    )\n",
    "    for i in pbar:\n",
    "        batch_x = convert_sparse_matrix_to_sparse_tensor(train_X[i : min(i + batch_size, train_X.shape[0])])\n",
    "        batch_y = train_Y[i : min(i + batch_size, train_X.shape[0])]\n",
    "        acc, cost, _ = sess.run(\n",
    "            [model.accuracy, model.cost, model.optimizer],\n",
    "            feed_dict = {\n",
    "                model.Y: batch_y,\n",
    "                model.X: batch_x[0],\n",
    "                model.W: batch_x[1],\n",
    "            },\n",
    "        )\n",
    "        assert not np.isnan(cost)\n",
    "        train_loss += cost\n",
    "        train_acc += acc\n",
    "        pbar.set_postfix(cost = cost, accuracy = acc)\n",
    "\n",
    "    pbar = tqdm(range(0, test_X.shape[0], batch_size), desc = 'test minibatch loop')\n",
    "    for i in pbar:\n",
    "        batch_x = convert_sparse_matrix_to_sparse_tensor(test_X[i : min(i + batch_size, test_X.shape[0])])\n",
    "        batch_y = test_Y[i : min(i + batch_size, test_X.shape[0])]\n",
    "        acc, cost = sess.run(\n",
    "            [model.accuracy, model.cost],\n",
    "            feed_dict = {\n",
    "                model.Y: batch_y,\n",
    "                model.X: batch_x[0],\n",
    "                model.W: batch_x[1],\n",
    "            },\n",
    "        )\n",
    "        test_loss += cost\n",
    "        test_acc += acc\n",
    "        pbar.set_postfix(cost = cost, accuracy = acc)\n",
    "\n",
    "    train_loss /= train_X.shape[0] / batch_size\n",
    "    train_acc /= train_X.shape[0] / batch_size\n",
    "    test_loss /= test_X.shape[0] / batch_size\n",
    "    test_acc /= test_X.shape[0] / batch_size\n",
    "\n",
    "    if test_acc > CURRENT_ACC:\n",
    "        print(\n",
    "            'epoch: %d, pass acc: %f, current acc: %f'\n",
    "            % (EPOCH, CURRENT_ACC, test_acc)\n",
    "        )\n",
    "        CURRENT_ACC = test_acc\n",
    "        CURRENT_CHECKPOINT = 0\n",
    "    else:\n",
    "        CURRENT_CHECKPOINT += 1\n",
    "\n",
    "    print('time taken:', time.time() - lasttime)\n",
    "    print(\n",
    "        'epoch: %d, training loss: %f, training acc: %f, valid loss: %f, valid acc: %f\\n'\n",
    "        % (EPOCH, train_loss, train_acc, test_loss, test_acc)\n",
    "    )\n",
    "    EPOCH += 1"
   ]
  },
  {
   "cell_type": "code",
   "execution_count": 13,
   "metadata": {},
   "outputs": [
    {
     "name": "stderr",
     "output_type": "stream",
     "text": [
      "validation minibatch loop: 100%|██████████| 34/34 [00:00<00:00, 265.50it/s]\n"
     ]
    }
   ],
   "source": [
    "real_Y, predict_Y = [], []\n",
    "\n",
    "pbar = tqdm(\n",
    "    range(0, test_X.shape[0], batch_size), desc = 'validation minibatch loop'\n",
    ")\n",
    "for i in pbar:\n",
    "    batch_x = convert_sparse_matrix_to_sparse_tensor(test_X[i : min(i + batch_size, test_X.shape[0])])\n",
    "    batch_y = test_Y[i : min(i + batch_size, test_X.shape[0])]\n",
    "    predict_Y += np.argmax(\n",
    "        sess.run(\n",
    "            model.logits, feed_dict = {model.X: batch_x[0], model.W: batch_x[1], model.Y: batch_y}\n",
    "        ),\n",
    "        1,\n",
    "    ).tolist()\n",
    "    real_Y += batch_y"
   ]
  },
  {
   "cell_type": "code",
   "execution_count": 14,
   "metadata": {},
   "outputs": [
    {
     "name": "stdout",
     "output_type": "stream",
     "text": [
      "             precision    recall  f1-score   support\n",
      "\n",
      "   negative       0.89      0.88      0.88       992\n",
      "   positive       0.88      0.90      0.89      1001\n",
      "\n",
      "avg / total       0.89      0.89      0.89      1993\n",
      "\n"
     ]
    }
   ],
   "source": [
    "print(\n",
    "    metrics.classification_report(\n",
    "        real_Y, predict_Y, target_names = ['negative','positive']\n",
    "    )\n",
    ")"
   ]
  },
  {
   "cell_type": "code",
   "execution_count": 15,
   "metadata": {},
   "outputs": [
    {
     "data": {
      "text/plain": [
       "'fast-text-char/model.ckpt'"
      ]
     },
     "execution_count": 15,
     "metadata": {},
     "output_type": "execute_result"
    }
   ],
   "source": [
    "saver.save(sess, 'fast-text-char/model.ckpt')"
   ]
  },
  {
   "cell_type": "code",
   "execution_count": 16,
   "metadata": {},
   "outputs": [],
   "source": [
    "import pickle\n",
    "with open('vectorizer-sparse-subjectivity.pkl','wb') as fopen:\n",
    "    pickle.dump(bow_chars, fopen)"
   ]
  },
  {
   "cell_type": "code",
   "execution_count": null,
   "metadata": {},
   "outputs": [],
   "source": []
  }
 ],
 "metadata": {
  "kernelspec": {
   "display_name": "Python 3",
   "language": "python",
   "name": "python3"
  },
  "language_info": {
   "codemirror_mode": {
    "name": "ipython",
    "version": 3
   },
   "file_extension": ".py",
   "mimetype": "text/x-python",
   "name": "python",
   "nbconvert_exporter": "python",
   "pygments_lexer": "ipython3",
   "version": "3.6.8"
  }
 },
 "nbformat": 4,
 "nbformat_minor": 2
}
