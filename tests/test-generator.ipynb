{
 "cells": [
  {
   "cell_type": "code",
   "execution_count": 1,
   "metadata": {},
   "outputs": [],
   "source": [
    "import sys\n",
    "import os\n",
    "\n",
    "SOURCE_DIR = os.path.dirname(os.path.dirname(os.path.abspath(__name__)))\n",
    "sys.path.insert(0, SOURCE_DIR)"
   ]
  },
  {
   "cell_type": "code",
   "execution_count": 2,
   "metadata": {},
   "outputs": [],
   "source": [
    "import malaya\n",
    "import logging\n",
    "\n",
    "logging.basicConfig(level=logging.DEBUG)"
   ]
  },
  {
   "cell_type": "code",
   "execution_count": 7,
   "metadata": {},
   "outputs": [
    {
     "name": "stderr",
     "output_type": "stream",
     "text": [
      "DEBUG:urllib3.connectionpool:Starting new HTTPS connection (1): f000.backblazeb2.com:443\n",
      "DEBUG:urllib3.connectionpool:https://f000.backblazeb2.com:443 \"HEAD /file/malaya-model/generator/t5-quantized/model.pb HTTP/1.1\" 200 0\n",
      "WARNING:root:Load quantized model will cause accuracy drop.\n",
      "DEBUG:urllib3.connectionpool:Starting new HTTPS connection (1): f000.backblazeb2.com:443\n",
      "DEBUG:urllib3.connectionpool:https://f000.backblazeb2.com:443 \"HEAD /file/malaya-model/generator/t5-quantized/model.pb HTTP/1.1\" 200 0\n",
      "DEBUG:urllib3.connectionpool:Starting new HTTPS connection (1): f000.backblazeb2.com:443\n",
      "DEBUG:urllib3.connectionpool:https://f000.backblazeb2.com:443 \"HEAD /file/malaya-model/bpe/sp10m.cased.t5.model HTTP/1.1\" 200 0\n",
      "DEBUG:urllib3.connectionpool:Starting new HTTPS connection (1): f000.backblazeb2.com:443\n",
      "DEBUG:urllib3.connectionpool:https://f000.backblazeb2.com:443 \"HEAD /file/malaya-model/generator/t5-quantized/version HTTP/1.1\" 404 0\n",
      "DEBUG:urllib3.connectionpool:Starting new HTTPS connection (1): f000.backblazeb2.com:443\n"
     ]
    },
    {
     "name": "stdout",
     "output_type": "stream",
     "text": [
      "downloading frozen model to /Users/huseinzolkepli/Malaya/generator/t5-quantized/model.pb\n"
     ]
    },
    {
     "name": "stderr",
     "output_type": "stream",
     "text": [
      "DEBUG:urllib3.connectionpool:https://f000.backblazeb2.com:443 \"GET /file/malaya-model/generator/t5-quantized/model.pb HTTP/1.1\" 200 480964313\n",
      "100%|██████████| 459/459 [01:02<00:00, 7.40MB/s] \n",
      "DEBUG:urllib3.connectionpool:Starting new HTTPS connection (1): f000.backblazeb2.com:443\n"
     ]
    },
    {
     "name": "stdout",
     "output_type": "stream",
     "text": [
      "downloading frozen vocab to /Users/huseinzolkepli/Malaya/generator/t5-quantized/sp10m.cased.t5.model\n"
     ]
    },
    {
     "name": "stderr",
     "output_type": "stream",
     "text": [
      "DEBUG:urllib3.connectionpool:https://f000.backblazeb2.com:443 \"GET /file/malaya-model/bpe/sp10m.cased.t5.model HTTP/1.1\" 200 793027\n",
      "132%|██████████| 1.00/0.76 [00:01<00:00, 1.17s/MB]\n",
      "DEBUG:root:use_tensorrt: False\n",
      "DEBUG:root:tensorrt_precision_mode: FP32\n",
      "DEBUG:root:precision_mode: FP32\n",
      "DEBUG:root:t5_graph: True\n",
      "INFO:root:running generator/t5-quantized using device /device:CPU:0\n"
     ]
    }
   ],
   "source": [
    "model = malaya.generator.transformer(model = 't5', quantized = True)"
   ]
  },
  {
   "cell_type": "code",
   "execution_count": 8,
   "metadata": {},
   "outputs": [],
   "source": [
    "isi_penting = ['Dr M perlu dikekalkan sebagai perdana menteri',\n",
    "              'Muhyiddin perlulah menolong Dr M',\n",
    "              'rakyat perlu menolong Muhyiddin']"
   ]
  },
  {
   "cell_type": "code",
   "execution_count": 9,
   "metadata": {},
   "outputs": [
    {
     "data": {
      "text/plain": [
       "'Shah Alam - Presiden Parti Pribumi Bersatu Malaysia (Bersatu), Tan Sri Muhyiddin Yassin perlu dikekalkan sebagai perdana menteri daripada segi pentadbiran dan sokongan kepada Timbalan Presiden Pkr, Datuk Seri Mohamed Azmin Ali. Timbalan Ketua Badan Pimpinan Bersatu Negeri Johor itu berkata, Muhyiddin perlu memberi sokongan moral kepadanya untuk meneruskan jawatan perdana menteri. \"Beliau (Muhyiddin) sudah nyatakan bahawa beliau akan menyokong penuh kepimpinan Muhyiddin dan saya telah tegaskan kepada beliau bahawa saya akan menyokong penuh kepimpinan Dr Mahathir. \"Saya juga berharap Muhyiddin akan mendapatkan sokongan daripada rakyat... rakyat perlu menolong beliau,\" katanya kepada Sinar Harian. Artikel Berkaitan: Kuota matrikulasi: Tun M bukan perkara baru Seorang pembantu Muhyiddin yang juga Timbalan Menteri Dalam Negeri berkata demikian ketika diminta mengulas mengenai desakan beberapa pihak supaya beliau melepaskan jawatan perdana menteri daripada jawatan itu. Ketua Pemuda Bersatu, Syed Saddiq Syed Abdul Rahman berkata, beliau menerima ramai pihak yang memintanya untuk melepaskan jawatan berkenaan tetapi tidak diendahkan. Jelasnya, ramai pihak telah menghubunginya dan memintanya untuk melepaskan jawatan tersebut tetapi dia enggan berbuat demikian.'"
      ]
     },
     "execution_count": 9,
     "metadata": {},
     "output_type": "execute_result"
    }
   ],
   "source": [
    "model.greedy_decoder(isi_penting)"
   ]
  },
  {
   "cell_type": "code",
   "execution_count": 13,
   "metadata": {},
   "outputs": [],
   "source": [
    "del model"
   ]
  },
  {
   "cell_type": "code",
   "execution_count": 14,
   "metadata": {},
   "outputs": [
    {
     "data": {
      "text/plain": [
       "True"
      ]
     },
     "execution_count": 14,
     "metadata": {},
     "output_type": "execute_result"
    }
   ],
   "source": [
    "malaya.utils.delete_cache(f'generator')"
   ]
  },
  {
   "cell_type": "code",
   "execution_count": 9,
   "metadata": {},
   "outputs": [
    {
     "name": "stderr",
     "output_type": "stream",
     "text": [
      "WARNING:root:Load pretrained GPT2 model will disable eager execution.\n"
     ]
    },
    {
     "name": "stdout",
     "output_type": "stream",
     "text": [
      "downloading frozen model to /Users/huseinzolkepli/Malaya/gpt2/117M/gpt2-117M.tar.gz\n"
     ]
    },
    {
     "name": "stderr",
     "output_type": "stream",
     "text": [
      "DEBUG:urllib3.connectionpool:Starting new HTTPS connection (1): f000.backblazeb2.com:443\n",
      "DEBUG:urllib3.connectionpool:https://f000.backblazeb2.com:443 \"GET /file/malaya-model/v34/pretrained-model/gpt2-bahasa-117M.tar.gz HTTP/1.1\" 200 463007140\n",
      "100%|██████████| 442/442 [00:59<00:00, 7.45MB/s] \n"
     ]
    },
    {
     "name": "stdout",
     "output_type": "stream",
     "text": [
      "INFO:tensorflow:Restoring parameters from /Users/huseinzolkepli/Malaya/gpt2/117M/gpt2-bahasa-117M/model.ckpt\n"
     ]
    },
    {
     "name": "stderr",
     "output_type": "stream",
     "text": [
      "INFO:tensorflow:Restoring parameters from /Users/huseinzolkepli/Malaya/gpt2/117M/gpt2-bahasa-117M/model.ckpt\n"
     ]
    }
   ],
   "source": [
    "model = malaya.generator.gpt2(model = '117M')"
   ]
  },
  {
   "cell_type": "code",
   "execution_count": 5,
   "metadata": {},
   "outputs": [],
   "source": [
    "string = 'ceritanya sebegini, aku bangun pagi'"
   ]
  },
  {
   "cell_type": "code",
   "execution_count": 11,
   "metadata": {},
   "outputs": [
    {
     "data": {
      "text/plain": [
       "'ceritanya sebegini, aku bangun pagi untuk mencari duit hasil jualan daripada perusahaan lain (warisan yang hanya akan membawa masuknya sebuah negara).\\n\"Dengan demikian, sebuah syarikat itu akan berusaha untuk memenuhi jangkaan mereka sebagai sebuah negara demokrasi dan sebagai sebuah syarikat yang telah memberi sokongan besar terhadap kerajaan Pakatan Harapan,\" katanya.\\nBeliau ditemui di rumahnya di Kampung Binjai Taman Bukit Subang di sini kira-kira 8 malam.\\nKatanya, beliau yakin tidak ada tindakan yang lebih tegas terhadap syarikat berkenaan untuk membeli barang yang tidak terjual di pasaran yang lebih mahal.\\n\"Kita tidak mahu sekiranya syarikat itu mempunyai lebih banyak wang dan barang bukan milik kita, syarikat itu tidak akan memberi kesan besar pada orang lain,\" katanya.\\nMengenai projek mega, beliau berkata syarikat berkenaan kini menjadi syarikat mega dan tidak akan membeli lebih mahal daripada negara-negara lain sebelum ia mendapat keuntungan besar.\\nTambah beliau, syarikat itu sudah lama mendapat kejayaan di peringkat antarabangsa.\\n\"Beliau kini sedang belajar ke pelbagai program keusahawanan di peringkat antarabangsa yang tidak dapat memberi manfaat atau faedah dalam menguruskan hal cukai tanah yang telah dilaksanakan mereka dalam masa terdekat,\" katanya.\\nBeliau juga menambah syarikat itu tidak perlu menjual sebarang pendapatan sampingan lain kerana sebelum ini syarikat terbabit telah mula menjual semua produk.\\n\"Kami tidak mahu kerana setiap produk boleh dijadikan produk jualan baru kerana syarikat itu tidak akan memberi sumbangan kepada syarikat'"
      ]
     },
     "execution_count": 11,
     "metadata": {},
     "output_type": "execute_result"
    }
   ],
   "source": [
    "model.generate(string)"
   ]
  },
  {
   "cell_type": "code",
   "execution_count": 12,
   "metadata": {},
   "outputs": [
    {
     "data": {
      "text/plain": [
       "True"
      ]
     },
     "execution_count": 12,
     "metadata": {},
     "output_type": "execute_result"
    }
   ],
   "source": [
    "malaya.utils.delete_cache('gpt2')"
   ]
  },
  {
   "cell_type": "code",
   "execution_count": 3,
   "metadata": {},
   "outputs": [
    {
     "name": "stderr",
     "output_type": "stream",
     "text": [
      "WARNING:root:Load pretrained transformer model will disable eager execution.\n"
     ]
    },
    {
     "name": "stdout",
     "output_type": "stream",
     "text": [
      "WARNING:tensorflow:From /Library/Frameworks/Python.framework/Versions/3.7/lib/python3.7/site-packages/tensorflow/python/util/dispatch.py:201: multinomial (from tensorflow.python.ops.random_ops) is deprecated and will be removed in a future version.\n",
      "Instructions for updating:\n",
      "Use `tf.random.categorical` instead.\n"
     ]
    },
    {
     "name": "stderr",
     "output_type": "stream",
     "text": [
      "WARNING:tensorflow:From /Library/Frameworks/Python.framework/Versions/3.7/lib/python3.7/site-packages/tensorflow/python/util/dispatch.py:201: multinomial (from tensorflow.python.ops.random_ops) is deprecated and will be removed in a future version.\n",
      "Instructions for updating:\n",
      "Use `tf.random.categorical` instead.\n"
     ]
    },
    {
     "name": "stdout",
     "output_type": "stream",
     "text": [
      "INFO:tensorflow:Restoring parameters from /Users/huseinzolkepli/Malaya/electra-model/base/electra-base/model.ckpt\n"
     ]
    },
    {
     "name": "stderr",
     "output_type": "stream",
     "text": [
      "INFO:tensorflow:Restoring parameters from /Users/huseinzolkepli/Malaya/electra-model/base/electra-base/model.ckpt\n"
     ]
    }
   ],
   "source": [
    "electra = malaya.transformer.load(model = 'electra')"
   ]
  },
  {
   "cell_type": "code",
   "execution_count": 6,
   "metadata": {},
   "outputs": [
    {
     "data": {
      "text/plain": [
       "['ceritanya sebegini , aku bangun pagi td . sekilas komen adalah itulah anak buah . tanpa henti mandi sungai angin petang ni . balik - balik muka kau sampai tertido saat tengah pagi ni .',\n",
       " 'ceritanya sebegini , aku bangun pagi jam 2 pagi sikit . Balik la dr kem yang mana ada dedicated kejdnnn . Xda yang2 pun . Bukan dah tu . Hikss',\n",
       " 'ceritanya sebegini , aku bangun pagi . Rang Rang Malaysia yang bakal jadi Presiden di Tokyo bakal memimpin Malaysia menjelang 2020 . Semoga roh beliau kembali ke tanah roh beliau . Semoga roh beliau diangkat .',\n",
       " 'ceritanya sebegini , aku bangun pagi balik tidur je la penyampai kata orang . Kang mandi lena petang . Ni baru balik malam pun dah ni . Kalau tak tidur lah boleh mandi .',\n",
       " 'ceritanya sebegini , aku bangun pagi hari sebab aku macam demam dan kucingku . Maka tidaklah aku kerana hewan ini tidak kuat makan . Jadi kucingku ini kan aku masakkan kan hehe']"
      ]
     },
     "execution_count": 6,
     "metadata": {},
     "output_type": "execute_result"
    }
   ],
   "source": [
    "malaya.generator.babble(string, electra)"
   ]
  },
  {
   "cell_type": "code",
   "execution_count": 16,
   "metadata": {},
   "outputs": [
    {
     "data": {
      "text/plain": [
       "True"
      ]
     },
     "execution_count": 16,
     "metadata": {},
     "output_type": "execute_result"
    }
   ],
   "source": [
    "malaya.utils.delete_cache('electra-model')"
   ]
  }
 ],
 "metadata": {
  "kernelspec": {
   "display_name": "Python 3",
   "language": "python",
   "name": "python3"
  },
  "language_info": {
   "codemirror_mode": {
    "name": "ipython",
    "version": 3
   },
   "file_extension": ".py",
   "mimetype": "text/x-python",
   "name": "python",
   "nbconvert_exporter": "python",
   "pygments_lexer": "ipython3",
   "version": "3.7.7"
  }
 },
 "nbformat": 4,
 "nbformat_minor": 4
}
