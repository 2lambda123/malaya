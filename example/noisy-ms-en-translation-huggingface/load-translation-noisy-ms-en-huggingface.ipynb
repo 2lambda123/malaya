{
 "cells": [
  {
   "cell_type": "markdown",
   "metadata": {},
   "source": [
    "# MS to EN Noisy HuggingFace"
   ]
  },
  {
   "cell_type": "markdown",
   "metadata": {},
   "source": [
    "<div class=\"alert alert-info\">\n",
    "\n",
    "This tutorial is available as an IPython notebook at [Malaya/example/noisy-ms-en-translation-huggingface](https://github.com/huseinzol05/Malaya/tree/master/example/noisy-ms-en-translation-huggingface).\n",
    "    \n",
    "</div>"
   ]
  },
  {
   "cell_type": "markdown",
   "metadata": {},
   "source": [
    "<div class=\"alert alert-warning\">\n",
    "\n",
    "This module trained on standard language and augmented local language structures, proceed with caution.\n",
    "    \n",
    "</div>"
   ]
  },
  {
   "cell_type": "code",
   "execution_count": 1,
   "metadata": {},
   "outputs": [
    {
     "name": "stdout",
     "output_type": "stream",
     "text": [
      "CPU times: user 4.04 s, sys: 3.13 s, total: 7.17 s\n",
      "Wall time: 3.56 s\n"
     ]
    }
   ],
   "source": [
    "%%time\n",
    "\n",
    "import malaya\n",
    "import logging\n",
    "\n",
    "logging.basicConfig(level=logging.INFO)"
   ]
  },
  {
   "cell_type": "markdown",
   "metadata": {},
   "source": [
    "### List available HuggingFace models"
   ]
  },
  {
   "cell_type": "code",
   "execution_count": 2,
   "metadata": {},
   "outputs": [
    {
     "name": "stderr",
     "output_type": "stream",
     "text": [
      "INFO:malaya.translation.ms_en:tested on FLORES200 EN-MS (eng_Latn-zsm_Latn) pair `dev` set, https://github.com/facebookresearch/flores/tree/main/flores200\n",
      "INFO:malaya.translation.ms_en:for noisy, tested on noisy twitter google translation, https://huggingface.co/datasets/mesolitica/augmentation-test-set\n"
     ]
    },
    {
     "data": {
      "text/html": [
       "<div>\n",
       "<style scoped>\n",
       "    .dataframe tbody tr th:only-of-type {\n",
       "        vertical-align: middle;\n",
       "    }\n",
       "\n",
       "    .dataframe tbody tr th {\n",
       "        vertical-align: top;\n",
       "    }\n",
       "\n",
       "    .dataframe thead th {\n",
       "        text-align: right;\n",
       "    }\n",
       "</style>\n",
       "<table border=\"1\" class=\"dataframe\">\n",
       "  <thead>\n",
       "    <tr style=\"text-align: right;\">\n",
       "      <th></th>\n",
       "      <th>Size (MB)</th>\n",
       "      <th>BLEU</th>\n",
       "      <th>SacreBLEU Verbose</th>\n",
       "      <th>SacreBLEU-chrF++-FLORES200</th>\n",
       "      <th>Suggested length</th>\n",
       "    </tr>\n",
       "  </thead>\n",
       "  <tbody>\n",
       "    <tr>\n",
       "      <th>mesolitica/finetune-translation-t5-tiny-standard-bahasa-cased-v2</th>\n",
       "      <td>139</td>\n",
       "      <td>37.260485</td>\n",
       "      <td>68.3/44.1/30.5/21.4 (BP = 0.995 ratio = 0.995 ...</td>\n",
       "      <td>61.29</td>\n",
       "      <td>256</td>\n",
       "    </tr>\n",
       "    <tr>\n",
       "      <th>mesolitica/finetune-translation-t5-small-standard-bahasa-cased-v2</th>\n",
       "      <td>242</td>\n",
       "      <td>42.010218</td>\n",
       "      <td>71.7/49.0/35.6/26.1 (BP = 0.989 ratio = 0.989 ...</td>\n",
       "      <td>64.67</td>\n",
       "      <td>256</td>\n",
       "    </tr>\n",
       "    <tr>\n",
       "      <th>mesolitica/finetune-translation-t5-base-standard-bahasa-cased-v2</th>\n",
       "      <td>892</td>\n",
       "      <td>43.408853</td>\n",
       "      <td>72.3/50.5/37.1/27.7 (BP = 0.987 ratio = 0.987 ...</td>\n",
       "      <td>65.44</td>\n",
       "      <td>256</td>\n",
       "    </tr>\n",
       "    <tr>\n",
       "      <th>mesolitica/finetune-noisy-translation-t5-tiny-bahasa-cased-v3</th>\n",
       "      <td>139</td>\n",
       "      <td>60.000967</td>\n",
       "      <td>77.9/63.9/54.6/47.7 (BP = 1.000 ratio = 1.036 ...</td>\n",
       "      <td>None</td>\n",
       "      <td>256</td>\n",
       "    </tr>\n",
       "    <tr>\n",
       "      <th>mesolitica/finetune-noisy-translation-t5-small-bahasa-cased-v3</th>\n",
       "      <td>242</td>\n",
       "      <td>64.062582</td>\n",
       "      <td>80.1/67.7/59.1/52.5 (BP = 1.000 ratio = 1.042 ...</td>\n",
       "      <td>None</td>\n",
       "      <td>256</td>\n",
       "    </tr>\n",
       "    <tr>\n",
       "      <th>mesolitica/finetune-noisy-translation-t5-base-bahasa-cased-v2</th>\n",
       "      <td>892</td>\n",
       "      <td>64.583819</td>\n",
       "      <td>80.2/68.1/59.8/53.2 (BP = 1.000 ratio = 1.048 ...</td>\n",
       "      <td>None</td>\n",
       "      <td>256</td>\n",
       "    </tr>\n",
       "  </tbody>\n",
       "</table>\n",
       "</div>"
      ],
      "text/plain": [
       "                                                   Size (MB)       BLEU  \\\n",
       "mesolitica/finetune-translation-t5-tiny-standar...       139  37.260485   \n",
       "mesolitica/finetune-translation-t5-small-standa...       242  42.010218   \n",
       "mesolitica/finetune-translation-t5-base-standar...       892  43.408853   \n",
       "mesolitica/finetune-noisy-translation-t5-tiny-b...       139  60.000967   \n",
       "mesolitica/finetune-noisy-translation-t5-small-...       242  64.062582   \n",
       "mesolitica/finetune-noisy-translation-t5-base-b...       892  64.583819   \n",
       "\n",
       "                                                                                    SacreBLEU Verbose  \\\n",
       "mesolitica/finetune-translation-t5-tiny-standar...  68.3/44.1/30.5/21.4 (BP = 0.995 ratio = 0.995 ...   \n",
       "mesolitica/finetune-translation-t5-small-standa...  71.7/49.0/35.6/26.1 (BP = 0.989 ratio = 0.989 ...   \n",
       "mesolitica/finetune-translation-t5-base-standar...  72.3/50.5/37.1/27.7 (BP = 0.987 ratio = 0.987 ...   \n",
       "mesolitica/finetune-noisy-translation-t5-tiny-b...  77.9/63.9/54.6/47.7 (BP = 1.000 ratio = 1.036 ...   \n",
       "mesolitica/finetune-noisy-translation-t5-small-...  80.1/67.7/59.1/52.5 (BP = 1.000 ratio = 1.042 ...   \n",
       "mesolitica/finetune-noisy-translation-t5-base-b...  80.2/68.1/59.8/53.2 (BP = 1.000 ratio = 1.048 ...   \n",
       "\n",
       "                                                   SacreBLEU-chrF++-FLORES200  \\\n",
       "mesolitica/finetune-translation-t5-tiny-standar...                      61.29   \n",
       "mesolitica/finetune-translation-t5-small-standa...                      64.67   \n",
       "mesolitica/finetune-translation-t5-base-standar...                      65.44   \n",
       "mesolitica/finetune-noisy-translation-t5-tiny-b...                       None   \n",
       "mesolitica/finetune-noisy-translation-t5-small-...                       None   \n",
       "mesolitica/finetune-noisy-translation-t5-base-b...                       None   \n",
       "\n",
       "                                                   Suggested length  \n",
       "mesolitica/finetune-translation-t5-tiny-standar...              256  \n",
       "mesolitica/finetune-translation-t5-small-standa...              256  \n",
       "mesolitica/finetune-translation-t5-base-standar...              256  \n",
       "mesolitica/finetune-noisy-translation-t5-tiny-b...              256  \n",
       "mesolitica/finetune-noisy-translation-t5-small-...              256  \n",
       "mesolitica/finetune-noisy-translation-t5-base-b...              256  "
      ]
     },
     "execution_count": 2,
     "metadata": {},
     "output_type": "execute_result"
    }
   ],
   "source": [
    "malaya.translation.ms_en.available_huggingface()"
   ]
  },
  {
   "cell_type": "markdown",
   "metadata": {},
   "source": [
    "### Load Transformer models\n",
    "\n",
    "```python\n",
    "def huggingface(\n",
    "    model: str = 'mesolitica/finetune-translation-t5-small-standard-bahasa-cased',\n",
    "    force_check: bool = True,\n",
    "    **kwargs,\n",
    "):\n",
    "    \"\"\"\n",
    "    Load HuggingFace model to translate MS-to-EN.\n",
    "\n",
    "    Parameters\n",
    "    ----------\n",
    "    model: str, optional (default='mesolitica/finetune-translation-t5-small-standard-bahasa-cased-v2')\n",
    "        Check available models at `malaya.translation.ms_en.available_huggingface()`.\n",
    "    force_check: bool, optional (default=True)\n",
    "        Force check model one of malaya model.\n",
    "        Set to False if you have your own huggingface model.\n",
    "\n",
    "    Returns\n",
    "    -------\n",
    "    result: malaya.torch_model.huggingface.Generator\n",
    "    \"\"\"\n",
    "```"
   ]
  },
  {
   "cell_type": "code",
   "execution_count": 4,
   "metadata": {},
   "outputs": [],
   "source": [
    "transformer = malaya.translation.ms_en.huggingface()"
   ]
  },
  {
   "cell_type": "code",
   "execution_count": 5,
   "metadata": {},
   "outputs": [],
   "source": [
    "transformer_noisy = malaya.translation.ms_en.huggingface(model = 'mesolitica/finetune-noisy-translation-t5-small-bahasa-cased-v3')"
   ]
  },
  {
   "cell_type": "markdown",
   "metadata": {},
   "source": [
    "### Translate\n",
    "\n",
    "```python\n",
    "def generate(self, strings: List[str], **kwargs):\n",
    "    \"\"\"\n",
    "    Generate texts from the input.\n",
    "\n",
    "    Parameters\n",
    "    ----------\n",
    "    strings : List[str]\n",
    "    **kwargs: vector arguments pass to huggingface `generate` method.\n",
    "\n",
    "    Returns\n",
    "    -------\n",
    "    result: List[str]\n",
    "    \"\"\"\n",
    "```\n",
    "\n",
    "**For better results, always split by end of sentences**."
   ]
  },
  {
   "cell_type": "code",
   "execution_count": 6,
   "metadata": {},
   "outputs": [],
   "source": [
    "from pprint import pprint"
   ]
  },
  {
   "cell_type": "code",
   "execution_count": 7,
   "metadata": {},
   "outputs": [
    {
     "name": "stdout",
     "output_type": "stream",
     "text": [
      "('TANGKAK - Tan Sri Muhyiddin Yassin berkata, beliau tidak mahu menyentuh '\n",
      " 'mengenai isu politik buat masa ini, sebaliknya mahu menumpukan kepada soal '\n",
      " 'kebajikan rakyat serta usaha merancakkan semula ekonomi negara yang terjejas '\n",
      " 'berikutan pandemik Covid-19. Perdana Menteri menjelaskan perkara itu ketika '\n",
      " 'berucap pada Majlis Bertemu Pemimpin bersama pemimpin masyarakat Dewan '\n",
      " 'Undangan Negeri (DUN) Gambir di Dewan Serbaguna Bukit Gambir hari ini.')\n"
     ]
    }
   ],
   "source": [
    "# https://www.sinarharian.com.my/article/89678/BERITA/Politik/Saya-tidak-mahu-sentuh-isu-politik-Muhyiddin\n",
    "\n",
    "string_news1 = 'TANGKAK - Tan Sri Muhyiddin Yassin berkata, beliau tidak mahu menyentuh mengenai isu politik buat masa ini, sebaliknya mahu menumpukan kepada soal kebajikan rakyat serta usaha merancakkan semula ekonomi negara yang terjejas berikutan pandemik Covid-19. Perdana Menteri menjelaskan perkara itu ketika berucap pada Majlis Bertemu Pemimpin bersama pemimpin masyarakat Dewan Undangan Negeri (DUN) Gambir di Dewan Serbaguna Bukit Gambir hari ini.'\n",
    "pprint(string_news1)"
   ]
  },
  {
   "cell_type": "code",
   "execution_count": 8,
   "metadata": {},
   "outputs": [
    {
     "name": "stdout",
     "output_type": "stream",
     "text": [
      "('ALOR SETAR - Kemelut politik Pakatan Harapan (PH) belum berkesudahan apabila '\n",
      " 'masih gagal memuktamadkan calon Perdana Menteri yang dipersetujui bersama. '\n",
      " 'Ahli Parlimen Sik, Ahmad Tarmizi Sulaiman berkata, sehubungan itu pihaknya '\n",
      " 'mencadangkan mantan Pengerusi Parti Pribumi Bersatu Malaysia (Bersatu), Tun '\n",
      " 'Dr Mahathir Mohamad dan Presiden Parti Keadilan Rakyat (PKR), Datuk Seri '\n",
      " 'Anwar Ibrahim mengundurkan diri daripada politik sebagai jalan penyelesaian.')\n"
     ]
    }
   ],
   "source": [
    "# https://www.sinarharian.com.my/article/90021/BERITA/Politik/Tun-Mahathir-Anwar-disaran-bersara-untuk-selesai-kemelut-politik\n",
    "\n",
    "string_news2 = 'ALOR SETAR - Kemelut politik Pakatan Harapan (PH) belum berkesudahan apabila masih gagal memuktamadkan calon Perdana Menteri yang dipersetujui bersama. Ahli Parlimen Sik, Ahmad Tarmizi Sulaiman berkata, sehubungan itu pihaknya mencadangkan mantan Pengerusi Parti Pribumi Bersatu Malaysia (Bersatu), Tun Dr Mahathir Mohamad dan Presiden Parti Keadilan Rakyat (PKR), Datuk Seri Anwar Ibrahim mengundurkan diri daripada politik sebagai jalan penyelesaian.'\n",
    "pprint(string_news2)"
   ]
  },
  {
   "cell_type": "code",
   "execution_count": 9,
   "metadata": {},
   "outputs": [
    {
     "name": "stdout",
     "output_type": "stream",
     "text": [
      "('Menteri Kanan (Kluster Keselamatan) Datuk Seri Ismail Sabri Yaakob berkata, '\n",
      " 'kelonggaran itu diberi berikutan kerajaan menyedari masalah yang dihadapi '\n",
      " 'mereka untuk memperbaharui dokumen itu. Katanya, selain itu, bagi rakyat '\n",
      " 'asing yang pas lawatan sosial tamat semasa Perintah Kawalan Pergerakan (PKP) '\n",
      " 'pula boleh ke pejabat Jabatan Imigresen yang terdekat untuk mendapatkan '\n",
      " 'lanjutan tempoh.')\n"
     ]
    }
   ],
   "source": [
    "string_news3 = 'Menteri Kanan (Kluster Keselamatan) Datuk Seri Ismail Sabri Yaakob berkata, kelonggaran itu diberi berikutan kerajaan menyedari masalah yang dihadapi mereka untuk memperbaharui dokumen itu. Katanya, selain itu, bagi rakyat asing yang pas lawatan sosial tamat semasa Perintah Kawalan Pergerakan (PKP) pula boleh ke pejabat Jabatan Imigresen yang terdekat untuk mendapatkan lanjutan tempoh.'\n",
    "pprint(string_news3)"
   ]
  },
  {
   "cell_type": "code",
   "execution_count": 10,
   "metadata": {},
   "outputs": [
    {
     "name": "stdout",
     "output_type": "stream",
     "text": [
      "('Selain itu, pameran kerjaya membantu para pelajar menentukan kerjaya yang '\n",
      " 'akan diceburi oleh mereka. Seperti yang kita ketahui, pasaran kerjaya di '\n",
      " 'Malaysia sangat luas dan masih banyak sektor pekerjaan di negara ini yang '\n",
      " 'masih kosong kerana sukar untuk mencari tenaga kerja yang benar-benar '\n",
      " 'berkelayakan. Sebagai contohnya, sektor perubatan di Malaysia menghadapi '\n",
      " 'masalah kekurangan tenaga kerja yang kritikal, khususnya tenaga pakar '\n",
      " 'disebabkan peletakan jawatan oleh doktor dan pakar perubatan untuk memasuki '\n",
      " 'sektor swasta serta berkembangnya perkhidmatan kesihatan dan perubatan. '\n",
      " 'Setelah menyedari  hakikat ini, para pelajar akan lebih berminat untuk '\n",
      " 'menceburi bidang perubatan kerana pameran kerjaya yang dilaksanakan amat '\n",
      " 'membantu memberikan pengetahuan am tentang kerjaya ini')\n"
     ]
    }
   ],
   "source": [
    "# https://qcikgubm.blogspot.com/2018/02/contoh-soalan-dan-jawapan-karangan.html\n",
    "\n",
    "string_karangan = 'Selain itu, pameran kerjaya membantu para pelajar menentukan kerjaya yang akan diceburi oleh mereka. Seperti yang kita ketahui, pasaran kerjaya di Malaysia sangat luas dan masih banyak sektor pekerjaan di negara ini yang masih kosong kerana sukar untuk mencari tenaga kerja yang benar-benar berkelayakan. Sebagai contohnya, sektor perubatan di Malaysia menghadapi masalah kekurangan tenaga kerja yang kritikal, khususnya tenaga pakar disebabkan peletakan jawatan oleh doktor dan pakar perubatan untuk memasuki sektor swasta serta berkembangnya perkhidmatan kesihatan dan perubatan. Setelah menyedari  hakikat ini, para pelajar akan lebih berminat untuk menceburi bidang perubatan kerana pameran kerjaya yang dilaksanakan amat membantu memberikan pengetahuan am tentang kerjaya ini'\n",
    "pprint(string_karangan)"
   ]
  },
  {
   "cell_type": "code",
   "execution_count": 11,
   "metadata": {},
   "outputs": [
    {
     "name": "stderr",
     "output_type": "stream",
     "text": [
      "You're using a T5TokenizerFast tokenizer. Please note that with a fast tokenizer, using the `__call__` method is faster than using a method to encode the text followed by a call to the `pad` method to get a padded encoding.\n"
     ]
    },
    {
     "name": "stdout",
     "output_type": "stream",
     "text": [
      "['TANGKAK - Tan Sri Muhyiddin Yassin said he did not want to touch on '\n",
      " 'political issues for now, but instead wanted to focus on the welfare of the '\n",
      " \"people as well as efforts to revive the country's economy which was affected \"\n",
      " 'by the Covid-19 pandemic. The Prime Minister explained the matter when '\n",
      " \"speaking at the Leaders' Meeting with community leaders of the Gambir State \"\n",
      " 'Legislative Assembly (DUN) at the Bukit Gambir Multipurpose Hall today.',\n",
      " 'ALOR SETAR - The Pakatan Harapan (PH) political crisis has not ended when it '\n",
      " 'still fails to finalize the Prime Minister candidate who was mutually agreed '\n",
      " 'upon. Sik Member of Parliament, Ahmad Tarmizi Sulaiman said, in this regard, '\n",
      " 'he suggested that the former Chairman of Parti Pribumi Bersatu Malaysia '\n",
      " '(Bersatu), Tun Dr Mahathir Mohamad and the President of Parti Keadilan '\n",
      " 'Rakyat (PKR), Datuk Seri Anwar Ibrahim resign from politics as a solution.',\n",
      " 'Senior Minister (Security Cluster) Datuk Seri Ismail Sabri Yaakob said the '\n",
      " \"relaxation was given following the government's awareness of the problems \"\n",
      " 'they faced to renew the document. He said, apart from that, for foreigners '\n",
      " 'who have expired social visit during the Movement Control Order (MCO), they '\n",
      " 'can go to the nearest Immigration Department office to obtain an extension '\n",
      " 'of the period.',\n",
      " 'In addition, career exhibitions help students determine the career they will '\n",
      " 'venture into. As we know, the career market in Malaysia is very broad and '\n",
      " 'there are still many job sectors in this country that are still empty '\n",
      " 'because it is difficult to find a truly qualified workforce. For example, '\n",
      " 'the medical sector in Malaysia is facing a critical labor shortage problem, '\n",
      " 'especially expert energy due to the resignation of doctors and medical '\n",
      " 'experts to enter the private sector as well as the development of health and '\n",
      " 'medical services. After realizing this fact, the students will be more '\n",
      " 'interested in entering the medical field because the career exhibition '\n",
      " 'implemented is very helpful in providing general knowledge about this career']\n",
      "CPU times: user 20.1 s, sys: 24.8 ms, total: 20.1 s\n",
      "Wall time: 1.73 s\n"
     ]
    }
   ],
   "source": [
    "%%time\n",
    "\n",
    "pprint(transformer_noisy.generate([string_news1, string_news2, string_news3, string_karangan],\n",
    "                                 max_length = 1000))"
   ]
  },
  {
   "cell_type": "markdown",
   "metadata": {},
   "source": [
    "### compare results using local language structure"
   ]
  },
  {
   "cell_type": "code",
   "execution_count": 12,
   "metadata": {},
   "outputs": [],
   "source": [
    "strings = [\n",
    "    'ak tak paham la',\n",
    "    'Hi guys! I noticed semalam & harini dah ramai yang dapat cookies ni kan. So harini i nak share some post mortem of our first batch:',\n",
    "    \"Memanglah. Ini tak payah expert, aku pun tau. It's a gesture, bodoh.\",\n",
    "    'jam 8 di pasar KK memang org ramai 😂, pandai dia pilih tmpt.',\n",
    "    'Jadi haram jadah😀😃🤭',\n",
    "    'nak gi mana tuu',\n",
    "    'Macam nak ambil half day',\n",
    "    \"Bayangkan PH dan menang pru-14. Pastu macam-macam pintu belakang ada. Last-last Ismail Sabri naik. That's why I don't give a fk about politics anymore. Sumpah dah fk up dah.\",\n",
    "]"
   ]
  },
  {
   "cell_type": "code",
   "execution_count": 13,
   "metadata": {},
   "outputs": [
    {
     "name": "stderr",
     "output_type": "stream",
     "text": [
      "You're using a T5TokenizerFast tokenizer. Please note that with a fast tokenizer, using the `__call__` method is faster than using a method to encode the text followed by a call to the `pad` method to get a padded encoding.\n"
     ]
    },
    {
     "name": "stdout",
     "output_type": "stream",
     "text": [
      "CPU times: user 11.2 s, sys: 17.8 ms, total: 11.2 s\n",
      "Wall time: 997 ms\n"
     ]
    },
    {
     "data": {
      "text/plain": [
       "[\"I don't understand\",\n",
       " 'Hi guys! I noticed yesterday & there are many people who got this cookies, right. So dayni I want to share some post mortem of our first batch:',\n",
       " \"Indeed. This doesn't bother expert, I also know. It's a gesture, stupid.\",\n",
       " 'at 8 at the KK market, there are many people, he is good at choosing tmpt.',\n",
       " \"So it's illegal jadah\",\n",
       " 'want to go where is it',\n",
       " 'Like taking half day',\n",
       " \"Imagine PH and won pru-14. There are all kinds of back doors. Last-last Ismail Sabri went up. That's why I don't give a fk about politics anymore. The oath is fk up.\"]"
      ]
     },
     "execution_count": 13,
     "metadata": {},
     "output_type": "execute_result"
    }
   ],
   "source": [
    "%%time\n",
    "\n",
    "transformer.generate(strings, max_length = 1000)"
   ]
  },
  {
   "cell_type": "code",
   "execution_count": 14,
   "metadata": {},
   "outputs": [
    {
     "name": "stdout",
     "output_type": "stream",
     "text": [
      "CPU times: user 9.36 s, sys: 5.6 ms, total: 9.36 s\n",
      "Wall time: 809 ms\n"
     ]
    },
    {
     "data": {
      "text/plain": [
       "[\"I don't understand\",\n",
       " 'Hi guys! I noticed yesterday & today many people got these cookies, right? So today I want to share some post mortem of our first batch:',\n",
       " \"Indeed. This doesn't need an expert, I know too. It's a gesture, stupid.\",\n",
       " \"at 8 o'clock at the KK market there are many people, he is good at choosing a place.\",\n",
       " \"So it's illegal \",\n",
       " 'where do you want to go?',\n",
       " \"It's like taking half a day\",\n",
       " \"Imagine PAKATAN HARAPAN and winning pru-14. After that there are various back doors. Last-last Ismail Sabri went up. That's why I don't give a fk about politics anymore. I swear it's already up.\"]"
      ]
     },
     "execution_count": 14,
     "metadata": {},
     "output_type": "execute_result"
    }
   ],
   "source": [
    "%%time\n",
    "\n",
    "transformer_noisy.generate(strings, max_length = 1000)"
   ]
  },
  {
   "cell_type": "markdown",
   "metadata": {},
   "source": [
    "### compare with Google translate using googletrans\n",
    "\n",
    "Install it by,\n",
    "\n",
    "```bash\n",
    "pip3 install googletrans==4.0.0rc1\n",
    "```"
   ]
  },
  {
   "cell_type": "code",
   "execution_count": 15,
   "metadata": {},
   "outputs": [],
   "source": [
    "from googletrans import Translator\n",
    "\n",
    "translator = Translator()"
   ]
  },
  {
   "cell_type": "code",
   "execution_count": 16,
   "metadata": {},
   "outputs": [
    {
     "name": "stdout",
     "output_type": "stream",
     "text": [
      "I don't understand\n",
      "Hi guys!I noticed yesterday & today many have got these cookies.So today I want to share some post mortem of our first batch:\n",
      "That's it.This is not an expert, I know.It's a gesture, stupid.\n",
      "At 8 o'clock in the KK market is a lot of people 😂, he's good at choosing TMPT.\n",
      "So it's illegal to make it\n",
      "Where are you going\n",
      "It's like taking half day\n",
      "Imagine PH and won the GE-14.There must be all kinds of back door.Last-last Ismail Sabri went up.That's why I don't give a fk about politics anymore.I swear it's up.\n"
     ]
    }
   ],
   "source": [
    "for t in strings:\n",
    "    r = translator.translate(t, src='ms', dest = 'en')\n",
    "    print(r.text)"
   ]
  }
 ],
 "metadata": {
  "kernelspec": {
   "display_name": "Python 3 (ipykernel)",
   "language": "python",
   "name": "python3"
  },
  "language_info": {
   "codemirror_mode": {
    "name": "ipython",
    "version": 3
   },
   "file_extension": ".py",
   "mimetype": "text/x-python",
   "name": "python",
   "nbconvert_exporter": "python",
   "pygments_lexer": "ipython3",
   "version": "3.8.10"
  },
  "varInspector": {
   "cols": {
    "lenName": 16,
    "lenType": 16,
    "lenVar": 40
   },
   "kernels_config": {
    "python": {
     "delete_cmd_postfix": "",
     "delete_cmd_prefix": "del ",
     "library": "var_list.py",
     "varRefreshCmd": "print(var_dic_list())"
    },
    "r": {
     "delete_cmd_postfix": ") ",
     "delete_cmd_prefix": "rm(",
     "library": "var_list.r",
     "varRefreshCmd": "cat(var_dic_list()) "
    }
   },
   "types_to_exclude": [
    "module",
    "function",
    "builtin_function_or_method",
    "instance",
    "_Feature"
   ],
   "window_display": false
  }
 },
 "nbformat": 4,
 "nbformat_minor": 4
}
