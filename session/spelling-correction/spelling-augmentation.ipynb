{
 "cells": [
  {
   "cell_type": "code",
   "execution_count": 1,
   "metadata": {},
   "outputs": [],
   "source": [
    "import malaya\n",
    "from malaya.preprocessing import Tokenizer\n",
    "from malaya.text.function import case_of\n",
    "from malaya.augmentation import (\n",
    "    replace_similar_consonants, \n",
    "    replace_similar_vowels, \n",
    "    socialmedia_form,\n",
    "    vowel_alternate)\n",
    "from malaya.text import rules\n",
    "from collections import defaultdict\n",
    "import random"
   ]
  },
  {
   "cell_type": "code",
   "execution_count": 2,
   "metadata": {},
   "outputs": [],
   "source": [
    "string = \"\"\"\n",
    "Beliau telah dipilih untuk Parlimen Malaysia pada tahun 1976, pada usia 23 tahun, menggantikan bapanya duduk di kerusi Pekan yang berpangkalan di Pahang. Dari tahun 1982 hingga 1986 beliau menjadi Menteri Besar (Ketua Menteri) Pahang, sebelum memasuki persekutuan Kabinet Tun Dr Mahathir Mohamad pada tahun 1986 sebagai Menteri Kebudayaan, Belia dan Sukan. Beliau telah berkhidmat dalam pelbagai jawatan Kabinet sepanjang baki tahun 1980-an dan 1990-an, termasuk sebagai Menteri Pertahanan dan Menteri Pelajaran. Beliau menjadi Timbalan Perdana Menteri pada 7 Januari 2004, berkhidmat di bawah Perdana Menteri Tun Dato' Seri Abdullah Ahmad Badawi, sebelum menggantikan Badawi setahun selepas Barisan Nasional mengalami kerugian besar dalam pilihan raya 2008. Di bawah kepimpinan beliau, Barisan Nasional memenangi pilihan raya 2013, walaupun buat kali pertama dalam sejarah Malaysia pembangkang memenangi majoriti undi popular.\n",
    "\"\"\""
   ]
  },
  {
   "cell_type": "code",
   "execution_count": 3,
   "metadata": {},
   "outputs": [],
   "source": [
    "string2 = \"\"\"\n",
    "SUNGAI PETANI: Kerjasama rentas parti yang dicadangkan bukan bermaksud membentuk kerajaan perpaduan seperti digembar-gembur sesetengah pihak, tegas Datuk Seri Ismail Sabri Yaakob.\n",
    "Menurut Perdana Menteri, pemimpin pembangkang, sebaliknya, dipelawa untuk membantu kerajaan dengan menyertai Majlis Pemulihan Negara (MPN) dan Jawatankuasa Khas Menangani COVID-19.\n",
    "\"Tidak ada kerajaan perpaduan yang melibatkan pembangkang dalam Kabinet, tetapi kerjasama itu bukan semestinya pembangkang berada dalam Kabinet.\n",
    "\"Kalau nak bantu tangani COVID-19, kita ada Jawatankuasa Khas Menangani COVID-19, boleh bersama dalam jawatankuasa ini.\n",
    "\"\"\""
   ]
  },
  {
   "cell_type": "code",
   "execution_count": 4,
   "metadata": {},
   "outputs": [],
   "source": [
    "splitted = malaya.text.function.split_into_sentences(string)"
   ]
  },
  {
   "cell_type": "code",
   "execution_count": 5,
   "metadata": {},
   "outputs": [],
   "source": [
    "replace_normalizer = defaultdict(list)\n",
    "for k, v in rules.rules_normalizer.items():\n",
    "    if v.count(' ') == 0:\n",
    "        replace_normalizer[v].append(k)"
   ]
  },
  {
   "cell_type": "code",
   "execution_count": 69,
   "metadata": {},
   "outputs": [],
   "source": [
    "tokenizer = Tokenizer(duration = False).tokenize\n",
    "\n",
    "def augment(string):\n",
    "    \n",
    "    r = []\n",
    "    for word in tokenizer(string):\n",
    "        original_word = word\n",
    "        word_lower = word.lower()\n",
    "        try:\n",
    "            s = socialmedia_form(word_lower)\n",
    "            if len(s):\n",
    "                word = case_of(word)(s[0])\n",
    "            else:\n",
    "                if word_lower in replace_normalizer and random.random() >= 0.5:\n",
    "                    word = case_of(word)(random.choice(replace_normalizer[word_lower]))\n",
    "            \n",
    "            word = case_of(word)(vowel_alternate(word, 0.9))\n",
    "            word = case_of(word)(replace_similar_consonants(word, 0.95))\n",
    "            word = case_of(word)(replace_similar_vowels(word, 0.95))\n",
    "                \n",
    "        except Exception as e:\n",
    "            word = original_word\n",
    "            pass\n",
    "        \n",
    "        r.append(word)\n",
    "    return ' '.join(r)"
   ]
  },
  {
   "cell_type": "code",
   "execution_count": 72,
   "metadata": {},
   "outputs": [
    {
     "data": {
      "text/plain": [
       "'Beliau tela dipili tk Parlimen Msia pade tahum 1976 , pade usia 23 tahun , ngegantiin bapanye duduk d kerusi Pekan yg berpangkalan di Pahang .'"
      ]
     },
     "execution_count": 72,
     "metadata": {},
     "output_type": "execute_result"
    }
   ],
   "source": [
    "augment(splitted[0])"
   ]
  },
  {
   "cell_type": "code",
   "execution_count": null,
   "metadata": {},
   "outputs": [],
   "source": []
  }
 ],
 "metadata": {
  "kernelspec": {
   "display_name": "Python 3",
   "language": "python",
   "name": "python3"
  },
  "language_info": {
   "codemirror_mode": {
    "name": "ipython",
    "version": 3
   },
   "file_extension": ".py",
   "mimetype": "text/x-python",
   "name": "python",
   "nbconvert_exporter": "python",
   "pygments_lexer": "ipython3",
   "version": "3.7.7"
  }
 },
 "nbformat": 4,
 "nbformat_minor": 4
}
