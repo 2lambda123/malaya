{
 "cells": [
  {
   "cell_type": "markdown",
   "metadata": {},
   "source": [
    "# Isi Penting Generator"
   ]
  },
  {
   "cell_type": "markdown",
   "metadata": {},
   "source": [
    "Generate a long text given isi penting (important facts)."
   ]
  },
  {
   "cell_type": "markdown",
   "metadata": {},
   "source": [
    "<div class=\"alert alert-info\">\n",
    "\n",
    "This tutorial is available as an IPython notebook at [Malaya/example/isi-penting-generator](https://github.com/huseinzol05/Malaya/tree/master/example/isi-penting-generator).\n",
    "    \n",
    "</div>"
   ]
  },
  {
   "cell_type": "markdown",
   "metadata": {},
   "source": [
    "<div class=\"alert alert-warning\">\n",
    "\n",
    "This module trained heavily on news structure.\n",
    "    \n",
    "</div>"
   ]
  },
  {
   "cell_type": "markdown",
   "metadata": {},
   "source": [
    "<div class=\"alert alert-warning\">\n",
    "\n",
    "Results generated using stochastic methods.\n",
    "    \n",
    "</div>"
   ]
  },
  {
   "cell_type": "markdown",
   "metadata": {},
   "source": [
    "<div class=\"alert alert-warning\">\n",
    "\n",
    "This interface deprecated, use HuggingFace interface instead.\n",
    "    \n",
    "</div>"
   ]
  },
  {
   "cell_type": "code",
   "execution_count": 1,
   "metadata": {},
   "outputs": [
    {
     "name": "stdout",
     "output_type": "stream",
     "text": [
      "CPU times: user 3.22 s, sys: 3.48 s, total: 6.7 s\n",
      "Wall time: 2.25 s\n"
     ]
    }
   ],
   "source": [
    "%%time\n",
    "import malaya\n",
    "from pprint import pprint"
   ]
  },
  {
   "cell_type": "code",
   "execution_count": 2,
   "metadata": {},
   "outputs": [],
   "source": [
    "import warnings\n",
    "warnings.filterwarnings('default')"
   ]
  },
  {
   "cell_type": "markdown",
   "metadata": {},
   "source": [
    "### List available Transformer"
   ]
  },
  {
   "cell_type": "code",
   "execution_count": 3,
   "metadata": {},
   "outputs": [
    {
     "name": "stderr",
     "output_type": "stream",
     "text": [
      "/home/husein/dev/malaya/malaya/generator/isi_penting.py:57: DeprecationWarning: `malaya.generator.isi_penting.available_transformer` is deprecated, use `malaya.generator.isi_penting.available_huggingface` instead\n",
      "  warnings.warn(\n"
     ]
    },
    {
     "data": {
      "text/html": [
       "<div>\n",
       "<style scoped>\n",
       "    .dataframe tbody tr th:only-of-type {\n",
       "        vertical-align: middle;\n",
       "    }\n",
       "\n",
       "    .dataframe tbody tr th {\n",
       "        vertical-align: top;\n",
       "    }\n",
       "\n",
       "    .dataframe thead th {\n",
       "        text-align: right;\n",
       "    }\n",
       "</style>\n",
       "<table border=\"1\" class=\"dataframe\">\n",
       "  <thead>\n",
       "    <tr style=\"text-align: right;\">\n",
       "      <th></th>\n",
       "      <th>Size (MB)</th>\n",
       "      <th>Quantized Size (MB)</th>\n",
       "      <th>ROUGE-1</th>\n",
       "      <th>ROUGE-2</th>\n",
       "      <th>ROUGE-L</th>\n",
       "      <th>Maximum Length</th>\n",
       "    </tr>\n",
       "  </thead>\n",
       "  <tbody>\n",
       "    <tr>\n",
       "      <th>t5</th>\n",
       "      <td>1250.0</td>\n",
       "      <td>481.0</td>\n",
       "      <td>0.37174</td>\n",
       "      <td>0.184714</td>\n",
       "      <td>0.258272</td>\n",
       "      <td>1024.0</td>\n",
       "    </tr>\n",
       "    <tr>\n",
       "      <th>small-t5</th>\n",
       "      <td>355.6</td>\n",
       "      <td>195.0</td>\n",
       "      <td>0.37174</td>\n",
       "      <td>0.184714</td>\n",
       "      <td>0.258272</td>\n",
       "      <td>1024.0</td>\n",
       "    </tr>\n",
       "  </tbody>\n",
       "</table>\n",
       "</div>"
      ],
      "text/plain": [
       "          Size (MB)  Quantized Size (MB)  ROUGE-1   ROUGE-2   ROUGE-L  \\\n",
       "t5           1250.0                481.0  0.37174  0.184714  0.258272   \n",
       "small-t5      355.6                195.0  0.37174  0.184714  0.258272   \n",
       "\n",
       "          Maximum Length  \n",
       "t5                1024.0  \n",
       "small-t5          1024.0  "
      ]
     },
     "execution_count": 3,
     "metadata": {},
     "output_type": "execute_result"
    }
   ],
   "source": [
    "malaya.generator.isi_penting.available_transformer()"
   ]
  },
  {
   "cell_type": "markdown",
   "metadata": {},
   "source": [
    "### Load Transformer\n",
    "\n",
    "Transformer Generator in Malaya is quite unique, most of the text generative model we found on the internet like GPT2 or Markov, simply just continue prefix input from user, but not for Transformer Generator. We want to generate an article or karangan like high school when the users give 'isi penting'.\n",
    "\n",
    "```python\n",
    "def transformer(model: str = 't5', quantized: bool = False, **kwargs):\n",
    "    \"\"\"\n",
    "    Load Transformer model to generate a string given a isu penting.\n",
    "\n",
    "    Parameters\n",
    "    ----------\n",
    "    model: str, optional (default='base')\n",
    "        Check available models at `malaya.generator.isi_penting.available_transformer()`.\n",
    "    quantized: bool, optional (default=False)\n",
    "        if True, will load 8-bit quantized model.\n",
    "        Quantized model not necessary faster, totally depends on the machine.\n",
    "\n",
    "    Returns\n",
    "    -------\n",
    "    result: malaya.model.t5.Generator class\n",
    "    \"\"\"\n",
    "```"
   ]
  },
  {
   "cell_type": "code",
   "execution_count": null,
   "metadata": {},
   "outputs": [
    {
     "name": "stderr",
     "output_type": "stream",
     "text": [
      "/home/husein/dev/malaya/malaya/generator/isi_penting.py:90: DeprecationWarning: `malaya.generator.isi_penting.transformer` is deprecated, use `malaya.generator.isi_penting.huggingface` instead\n",
      "  warnings.warn(\n",
      "Load quantized model will cause accuracy drop.\n"
     ]
    },
    {
     "data": {
      "application/vnd.jupyter.widget-view+json": {
       "model_id": "4e7a51c6e0794383a0b83a8dcd4b13cf",
       "version_major": 2,
       "version_minor": 0
      },
      "text/plain": [
       "Downloading:   0%|          | 0.00/481M [00:00<?, ?B/s]"
      ]
     },
     "metadata": {},
     "output_type": "display_data"
    },
    {
     "data": {
      "application/vnd.jupyter.widget-view+json": {
       "model_id": "74d9b6a7c8d6478282992a0bf14a8d5a",
       "version_major": 2,
       "version_minor": 0
      },
      "text/plain": [
       "Downloading:   0%|          | 0.00/793k [00:00<?, ?B/s]"
      ]
     },
     "metadata": {},
     "output_type": "display_data"
    }
   ],
   "source": [
    "model = malaya.generator.isi_penting.transformer(model = 't5', quantized = True)"
   ]
  },
  {
   "cell_type": "code",
   "execution_count": 4,
   "metadata": {},
   "outputs": [],
   "source": [
    "isi_penting = ['Dr M perlu dikekalkan sebagai perdana menteri',\n",
    "              'Muhyiddin perlulah menolong Dr M',\n",
    "              'rakyat perlu menolong Muhyiddin']"
   ]
  },
  {
   "cell_type": "markdown",
   "metadata": {},
   "source": [
    "I just want to test the model given this isi penting, because we all know, Dr M and Muhyiddin are not supporting each others in the real world."
   ]
  },
  {
   "cell_type": "markdown",
   "metadata": {},
   "source": [
    "#### generate\n",
    "\n",
    "```python\n",
    "def greedy_decoder(self, strings: List[str]):\n",
    "    \"\"\"\n",
    "    generate a long text given a isi penting. \n",
    "    Decoder is greedy decoder with beam width size 1, alpha 0.5 .\n",
    "\n",
    "    Parameters\n",
    "    ----------\n",
    "    strings: List[str]\n",
    "\n",
    "    Returns\n",
    "    -------\n",
    "    result: str\n",
    "    \"\"\"\n",
    "```"
   ]
  },
  {
   "cell_type": "code",
   "execution_count": 5,
   "metadata": {},
   "outputs": [
    {
     "name": "stdout",
     "output_type": "stream",
     "text": [
      "(': Presiden Bersatu, Tan Sri Muhyiddin Yassin perlu mengekalkan Tun Dr '\n",
      " 'Mahathir Mohamad sebagai perdana menteri berbanding Datuk Seri Anwar Ibrahim '\n",
      " 'yang hanya minta bantuan untuk menyelesaikan kemelut kedudukan '\n",
      " 'negara.Muhyiddin berkata, ini kerana semua pihak tahu masalah yang dihadapi '\n",
      " 'oleh Perdana Menteri adalah di luar bidang kuasa beliau sendiri.Katanya, '\n",
      " 'Muhyiddin perlu membantu beliau kerana beliau percaya rakyat Malaysia tahu '\n",
      " 'apa yang berlaku di luar bidang kuasa beliau.\"Apa yang berlaku di luar '\n",
      " 'bidang kuasa Dr Mahathir... semua tahu bahawa ini berlaku di bawah '\n",
      " 'kepimpinan Anwar.\"Muhyiddin dan seluruh rakyat yang tahu apa yang berlaku di '\n",
      " 'Johor.\"Ini kerana di Johor ini, majoriti menteri-menteri dalam Pakatan '\n",
      " 'Harapan banyak sangat ketua-ketua parti.\"Jadi Muhyiddin perlu bantu Dr '\n",
      " 'Mahathir sebab rakyat tahu apa yang berlaku di Johor Bahru,\" katanya dalam '\n",
      " 'satu kenyataan di sini, pada Jumaat.Dalam pada itu, Muhyiddin berkata, '\n",
      " 'rakyat juga perlu menolong Muhyiddin untuk menyelesaikan masalah yang '\n",
      " 'melanda negara ketika ini.Menurutnya, Muhyiddin perlu menggalas tugas dengan '\n",
      " 'baik dan memastikan keadaan negara berada dalam keadaan baik.')\n"
     ]
    }
   ],
   "source": [
    "pprint(model.greedy_decoder(isi_penting))"
   ]
  },
  {
   "cell_type": "markdown",
   "metadata": {},
   "source": [
    "Pretty good!"
   ]
  },
  {
   "cell_type": "code",
   "execution_count": 6,
   "metadata": {},
   "outputs": [],
   "source": [
    "isi_penting = ['Neelofa tetap dengan keputusan untuk berkahwin akhir tahun ini',\n",
    "              'Long Tiger sanggup membantu Neelofa',\n",
    "              'Tiba-tiba Long Tiger bergaduh dengan Husein']"
   ]
  },
  {
   "cell_type": "markdown",
   "metadata": {},
   "source": [
    "We also can give any isi penting even does not make any sense."
   ]
  },
  {
   "cell_type": "code",
   "execution_count": 7,
   "metadata": {},
   "outputs": [
    {
     "name": "stdout",
     "output_type": "stream",
     "text": [
      "('Kuala Lumpur: Pelakon, Neelofa tetap dengan keputusan dibuat untuk berkahwin '\n",
      " 'penutup tahun ini, selepas mengadakan pertemuan dengan Long Tiger. Neelofa '\n",
      " 'atau nama sebenarnya, Mohd Neelofa Ahmad Noor berkata, dia tidak pernah '\n",
      " 'merancang untuk berkahwin, namun menegaskan dirinya lebih mengutamakan masa '\n",
      " 'depan. \"Saya seronok bersama keluarga. Kalau kami berkahwin awal tahun ini, '\n",
      " 'ia mengambil masa yang lama. Itu impian saya tetapi biarlah, selepas setahun '\n",
      " 'saya berehat, saya akan mula bekerja. \"Jadi, apabila sering sesi pertemuan '\n",
      " 'dengan Long Tiger, saya kena tegas mengenai perkara ini. Bukan soal nak '\n",
      " 'memalukan diri sendiri tetapi siapa yang boleh menghentam saya,\" katanya '\n",
      " 'kepada Bh Online. Dalam sesi pertemuan itu, Neelofa yang juga pengacara '\n",
      " 'acara Top 5, bergaduh dengan Husein, dalam pergaduhan yang berlaku di '\n",
      " 'Kompleks Mahkamah Tinggi Syariah di sini, baru-baru ini. Ditanya mengenai '\n",
      " 'hubungannya dengan wanita itu, Neelofa berkata, mereka masih belum '\n",
      " 'menyelesaikan perkara itu dengan baik. \"Saya tidak tahu pasal semua ini, '\n",
      " 'tetapi ia akan diselesaikan menerusi cara baik. Tidak kiralah apa yang kami '\n",
      " 'tidak cakap pun. \"Pada mulanya kami hanya mahu membebaskan mereka daripada '\n",
      " 'sebarang isu, namun selepas beberapa hari bergaduh, kami akhirnya mengambil '\n",
      " 'keputusan untuk berkahwin dengan Hadiza Aziz. \"Jika mereka mahu, kami akan '\n",
      " 'membendung, namun pada masa yang sama, kami tidak mahu bergaduh dengan '\n",
      " 'lelaki yang digelar Long Tiger,\" katanya.')\n"
     ]
    }
   ],
   "source": [
    "pprint(model.greedy_decoder(isi_penting))"
   ]
  },
  {
   "cell_type": "markdown",
   "metadata": {},
   "source": [
    "How about karangan like high school?"
   ]
  },
  {
   "cell_type": "code",
   "execution_count": 8,
   "metadata": {},
   "outputs": [],
   "source": [
    "# http://mieadham86.blogspot.com/2016/09/isi-isi-penting-karangan-bahasa-melayu.html\n",
    "# KEBAIKAN AMALAN BERGOTONG-ROYONG\n",
    "\n",
    "isi_penting = ['Dapat memupuk semangat kerjasama',\n",
    "               'Dapat mengeratkan hubungan silaturahim.',\n",
    "               'Kebersihan kawasan persekitaran terpelihara.',\n",
    "               'Terhindar daripada wabak penyakit seperti Denggi',\n",
    "               'Mengisi masa lapang',\n",
    "               'Menerapkan nilai-nilai murni dalam kehidupan']"
   ]
  },
  {
   "cell_type": "code",
   "execution_count": 10,
   "metadata": {},
   "outputs": [
    {
     "name": "stdout",
     "output_type": "stream",
     "text": [
      "('Dewasa ini, kes-kes seumpama denggi semakin menular di kalangan masyarakat. '\n",
      " 'Justeru, individu yang bertanggungjawab dan berkesan perlu memainkan peranan '\n",
      " 'penting dalam memastikan persekitaran dalam komuniti terjamin. Persis kata '\n",
      " 'peribahasa Melayu, melentur buluh biarlah dari rebungnya. Oleh itu, tindakan '\n",
      " 'yang wajar perlu diambil terutamanya jika kita mengamalkan sikap-sikap di '\n",
      " 'dalam komuniti supaya kehidupan kita tidak terjejas. Oleh itu, kita perlu '\n",
      " 'mengamalkan sikap bekerjasama dengan masyarakat dalam memastikan '\n",
      " 'persekitaran kita selamat. Jika kita sehati, sikap bekerjasama dapat dipupuk '\n",
      " 'dan dibudayakan dalam masyarakat. Maka, amalan ini secara tidak langsung '\n",
      " 'mampu membantu kita supaya tidak hidup lebih sejahtera. Pada masa yang sama, '\n",
      " 'ia juga dapat mengelakkan berlakunya sebarang masalah kesihatan dan '\n",
      " 'seterusnya membantu yang mungkin akan berlaku pada masa akan datang. '\n",
      " 'Masyarakat yang prihatin perlu meluahkan perasaan dan menitik beratkan soal '\n",
      " 'kebersihan kawasan persekitaran. Bak kata peribahasa Melayu, mencegah lebih '\n",
      " 'baik daripada merawat. Tamsilnya, pihak kerajaan perlu menjalankan usaha '\n",
      " 'yang bersungguh-sungguh sebagai tanggungjawab yang diamanahkan. Selain itu, '\n",
      " 'sikap masyarakat yang mengambil berat tentang kebersihan kawasan '\n",
      " 'persekitaran dapat membantu mengurangkan masalah kesihatan yang kian '\n",
      " 'menular. Secara tidak langsung, masyarakat awam akan melahirkan masyarakat '\n",
      " 'yang peka dan menghargai keberadaan anggota masyarakat di sekeliling mereka. '\n",
      " 'Bagi memastikan kebersihan kawasan persekitaran terjamin, kita perlu '\n",
      " 'memastikan komuniti yang berada ditaarapkan dalam keadaan bersih dan terurus '\n",
      " 'agar keselamatan masyarakat terjamin. Para pekerja dan ahli peniaga perlu '\n",
      " 'memastikan kebersihan kawasan mereka dijaga dengan baik. Hal ini kerana, '\n",
      " 'kita akan berhadapan dengan pelbagai masalah kesihatan yang mengakibatkan '\n",
      " 'Malaysia menjadi negara ketiga yang paling teruk terkena jangkitan demam '\n",
      " 'denggi pada tahun lepas. Sekiranya kita mempraktikkan amalan berkenaan, kita '\n",
      " 'akan berhadapan dengan bahaya. Sekiranya aktiviti ini diteruskan, kita akan '\n",
      " 'terencat daripada jumlah kes penyakit yang menyerang. Secara tidak langsung, '\n",
      " 'kita akan dapat membendung penularan wabak penyakit di kalangan masyarakat. '\n",
      " 'Sebagai contoh, wabak denggi di Malaysia berkemungkinan boleh menularkan '\n",
      " 'jangkitan kepada penduduk di negeri-negeri yang lain. Oleh itu, langkah ini '\n",
      " 'wajar dan mempunyai sistem pengurusan kebersihan yang terbaik bagi '\n",
      " 'membolehkan jumlah pesakit yang dirawat di hospital meningkat. Kesannya, ia '\n",
      " 'dapat membantu kita untuk mengamalkan kaedah yang betul dan matang dalam '\n",
      " 'kehidupan. Selain itu, sekiranya kita mengamalkan sikap kerja, kita akan '\n",
      " 'sentiasa berusaha supaya kita terhindar daripada wabak penyakit yang '\n",
      " 'menyerang penduduk di sekeliling kita. Bak kata peribahasa Melayu, mencegah '\n",
      " 'lebih baik daripada merawat. Semua pihak perlu berganding bahu bagai aur '\n",
      " 'dengan tebing untuk menjaga kesihatan dan keselamatan para pekerja dalam '\n",
      " 'kawasan yang sangat rentan. Kebersihan kawasan persekitaran merupakan elemen '\n",
      " 'yang penting dalam memastikan persekitaran kita selamat daripada jangkitan '\n",
      " 'wabak seperti denggi. Kita tentunya tidak mahu ada tempat yang kotor dan '\n",
      " 'busuk namun kita tidak boleh berbuat demikian kerana ia merupakan elemen '\n",
      " 'yang tidak boleh dijual beli. Oleh itu, jika kita mengamalkan sikap kerja '\n",
      " \"yang 'membersihkan', kita akan menjadi lebih baik dan selamat daripada wabak \"\n",
      " 'penyakit seperti denggi. Jika kita mengamalkan sikap ini, kita akan menjadi '\n",
      " 'lebih baik dan selamat daripada ancaman penyakit-penyakit yang berbahaya. '\n",
      " 'Tidak kira apabila kita sudah terbiasa dengan amalan ini, sudah pasti '\n",
      " 'keselamatan kita akan terjamin. Selain itu, kita perlulah dirikan amalan '\n",
      " 'seperti rajin mencuci tangan menggunakan sabun atau segala benda lain kerana '\n",
      " 'kita juga mempunyai tempat yang sesuai untuk membasuh tangan dengan baik. '\n",
      " 'Perkara ini boleh menjadi perubahan kepada amalan kita dalam kehidupan '\n",
      " 'apabila kita berusaha untuk membersihkan kawasan yang telah dikenal pasti. '\n",
      " 'Secara tidak langsung, kita dapat bertukar-tukar fikiran dan mengamalkan '\n",
      " 'nilai-nilai murni dalam kehidupan. Hal ini demikian kerana, kita antara '\n",
      " 'mereka yang merancang untuk melakukan sesuatu bagi mengelakkan berlakunya '\n",
      " 'kemalangan. Hakikatnya, amalan membasuh tangan menggunakan sabun atau benda '\n",
      " 'lain adalah berniat buruk kerana akan dapat mengganggu kelancaran proses '\n",
      " 'pemanduan terutamanya apabila tidur. Kesannya, kita akan mewujudkan '\n",
      " 'masyarakat yang bertimbang rasa dan bergantung kepada orang lain untuk '\n",
      " 'melakukan kerja mereka walaupun di mana mereka berada. Selain itu, kita '\n",
      " 'dapat mengamalkan cara yang betul dalam memastikan kebersihan kawasan '\n",
      " 'persekitaran adalah terjamin. Kita tidak boleh menyembunyikan diri daripada '\n",
      " 'pengetahuan umum seperti di tempat awam seperti tempat letak kereta yang '\n",
      " 'sering digunakan oleh orang ramai. Jika kita menggunakan tandas awam dan '\n",
      " 'menggunakan botol air untuk membersihkan kawasan berkenaan, kita akan mudah '\n",
      " 'terdedah dengan wabak penyakit yang membahayakan kesihatan. Selain itu, kita '\n",
      " 'juga perlu sentiasa berjaga-jaga dengan memakai penutup mulut dan hidung '\n",
      " 'jika ada demam. Jika kita tidak mengamalkan kebersihan, besar kemungkinan ia '\n",
      " 'boleh mengundang kepada penularan wabak penyakit. Bak kata peribahasa '\n",
      " 'Melayu, mencegah lebih baik daripada merawat. Jika kita membuat keputusan '\n",
      " 'untuk menutup mulut atau hidung dengan pakaian yang bersih dan bijak, kita '\n",
      " 'akan menjadi lebih baik daripada menyelamatkan diri sendiri daripada '\n",
      " 'jangkitan penyakit. Andai kata, pengamal media dapat menggunakan telefon '\n",
      " 'pintar ketika membuat liputan di media massa, proses ini akan membuatkan '\n",
      " 'kehidupan mereka lebih mudah dan sukar. Selain itu, proses nyah kuman juga '\n",
      " 'dapat memastikan kebersihan di kawasan rumah kita terjamin. Contohnya, semua '\n",
      " 'stesen minyak dan restoran makanan segera perlu memakai penutup mulut dan '\n",
      " 'hidung secara betul agar penularan wabak penyakit dapat dihentikan. Penonton '\n",
      " 'yang berada di dalam juga wajar digalakkan untuk menggunakan penutup mulut '\n",
      " 'dan hidung agar mudah terkena jangkitan kuman. Selain itu, pengisian masa '\n",
      " 'lapang yang terdapat di kawasan tempat awam dapat mendidik masyarakat untuk '\n",
      " 'mengamalkan nilai-nilai murni seperti rajin mencuci tangan menggunakan sabun '\n",
      " 'dan air supaya tidak terdedah kepada virus denggi. Walaupun kita mempunyai '\n",
      " 'ramai kenalan yang ramai tetapi tidak dapat mengamalkannya kerana kita perlu '\n",
      " 'adalah rakan yang sedar dan memahami tugas masing-masing. Pelbagai cara yang '\n",
      " 'boleh kita lakukan bagi memastikan hospital atau klinik-klinik kerajaan '\n",
      " 'menjadi')\n"
     ]
    }
   ],
   "source": [
    "pprint(model.greedy_decoder(isi_penting))"
   ]
  },
  {
   "cell_type": "code",
   "execution_count": 11,
   "metadata": {},
   "outputs": [],
   "source": [
    "# http://mieadham86.blogspot.com/2016/09/isi-isi-penting-karangan-bahasa-melayu.html\n",
    "# CARA MENJADI MURID CEMERLANG\n",
    "\n",
    "isi_penting = ['Rajin berusaha – tidak mudah putus asa',\n",
    "               'Menghormati orang yang lebih tua – mendapat keberkatan',\n",
    "               'Melibatkan diri secara aktif dalam bidang kokurikulum',\n",
    "               'Memberi tumpuan ketika guru mengajar.',\n",
    "               'Berdisiplin – menepati jadual yang disediakan.',\n",
    "               'Bercita-cita tinggi – mempunyai keazaman yang tinggi untuk berjaya']"
   ]
  },
  {
   "cell_type": "code",
   "execution_count": 12,
   "metadata": {},
   "outputs": [
    {
     "name": "stdout",
     "output_type": "stream",
     "text": [
      "('Sejak akhir-akhir ini, pelbagai isu yang hangat diperkatakan oleh masyarakat '\n",
      " 'yang berkait dengan sambutan Hari Raya Aidilfitri. Pelbagai faktor yang '\n",
      " 'melatari perkara yang berlaku dalam kalangan masyarakat hari ini, khususnya '\n",
      " 'bagi golongan muda. Dikatakan bahawa kehidupan kita hari ini semakin '\n",
      " 'mencabar terutamanya kesibukan dalam menjalankan tugas dan mengajar. '\n",
      " 'Justeru, tidak dinafikan apabila semakin jauh kita, semakin ramai yang '\n",
      " 'memilih untuk lalai atau tidak mematuhi arahan yang telah ditetapkan. '\n",
      " 'Mendepani cabaran ini, golongan muda terpaksa menempuhi segala cabaran untuk '\n",
      " 'menjadi lebih baik dan lebih baik. Minda yang perlu diterapkan, terutama di '\n",
      " 'dalam kelas untuk mempelajari ilmu pengetahuan. Jika tidak, kita akan '\n",
      " 'menjadi lebih mudah untuk menilai dan menyelesaikan masalah yang dihadapi. '\n",
      " 'Oleh itu, kita perlu berfikir untuk menetapkan langkah yang patut atau perlu '\n",
      " 'dilaksanakan bagi mengatasi masalah yang berlaku. Selain itu, guru-guru juga '\n",
      " 'harus mendidik peserta-peserta dalam kelas supaya dapat menjalankan kegiatan '\n",
      " 'dengan lebih serius dan berkesan. Guru-Guru juga seharusnya berusaha untuk '\n",
      " 'meningkatkan kemahiran mereka dalam kalangan pelajar. Seperti peribahasa '\n",
      " 'Melayu, melentur buluh biarlah dari rebungnya. Setiap insan mempunyai '\n",
      " 'peranan masing-masing dan tanggungjawab yang masing-masing. Kesempatan untuk '\n",
      " 'memberikan nasihat dan teguran adalah lebih penting dan membantu secara '\n",
      " 'halus dan bijaksana dalam melakukan sesuatu. Selain itu, guru-guru hendaklah '\n",
      " 'berani untuk melakukan sesuatu perkara yang memberi manfaat kepada para '\n",
      " 'pelajar yang lain. Cara ini adalah dengan melakukan aktiviti-aktiviti yang '\n",
      " 'boleh memberi manfaat kepada para pelajar. Selain itu, guru-guru juga '\n",
      " 'perlulah menjaga disiplin mereka dengan sebaik-baiknya. Dalam menyampaikan '\n",
      " 'nasihat dan teguran secara berterusan, pelajar juga boleh melakukan perkara '\n",
      " 'yang boleh mendatangkan mudarat. Anak-Anak awal pelajar dan rakan-rakan '\n",
      " 'mereka juga boleh melakukan tugas yang bermanfaat. Keadaan ini membolehkan '\n",
      " 'mereka untuk lebih berusaha dan memberikan nasihat yang berguna kepada kaum '\n",
      " 'lain. Oleh itu, mereka perlu sentiasa mengingati dan mendidik pelajar dengan '\n",
      " 'nilai-nilai yang murni. Setiap orang mempunyai impian yang tinggi untuk '\n",
      " 'berjaya. Sama ada kita berjaya atau tidak, pencapaian yang diperoleh setelah '\n",
      " 'tamat belajar akan memberikan kita nilai yang baik dan perlu menjadi contoh '\n",
      " 'yang baik untuk negara kita.')\n"
     ]
    }
   ],
   "source": [
    "pprint(model.greedy_decoder(isi_penting))"
   ]
  }
 ],
 "metadata": {
  "kernelspec": {
   "display_name": "Python 3 (ipykernel)",
   "language": "python",
   "name": "python3"
  },
  "language_info": {
   "codemirror_mode": {
    "name": "ipython",
    "version": 3
   },
   "file_extension": ".py",
   "mimetype": "text/x-python",
   "name": "python",
   "nbconvert_exporter": "python",
   "pygments_lexer": "ipython3",
   "version": "3.8.10"
  },
  "varInspector": {
   "cols": {
    "lenName": 16,
    "lenType": 16,
    "lenVar": 40
   },
   "kernels_config": {
    "python": {
     "delete_cmd_postfix": "",
     "delete_cmd_prefix": "del ",
     "library": "var_list.py",
     "varRefreshCmd": "print(var_dic_list())"
    },
    "r": {
     "delete_cmd_postfix": ") ",
     "delete_cmd_prefix": "rm(",
     "library": "var_list.r",
     "varRefreshCmd": "cat(var_dic_list()) "
    }
   },
   "types_to_exclude": [
    "module",
    "function",
    "builtin_function_or_method",
    "instance",
    "_Feature"
   ],
   "window_display": false
  }
 },
 "nbformat": 4,
 "nbformat_minor": 2
}
