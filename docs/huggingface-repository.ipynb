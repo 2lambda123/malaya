{
 "cells": [
  {
   "cell_type": "markdown",
   "metadata": {},
   "source": [
    "# HuggingFace Repository"
   ]
  },
  {
   "cell_type": "markdown",
   "metadata": {},
   "source": [
    "<div class=\"alert alert-info\">\n",
    "\n",
    "This tutorial is available as an IPython notebook at [Malaya/example/huggingface-repository](https://github.com/huseinzol05/Malaya/tree/master/example/huggingface-repository).\n",
    "    \n",
    "</div>"
   ]
  },
  {
   "cell_type": "markdown",
   "metadata": {},
   "source": [
    "Starting Malaya 4.7.4, you can load Malaya models from https://huggingface.co/huseinzol05 to get better download speed.\n",
    "\n",
    "**Starting Malaya 4.7.5, by default Malaya will use HuggingFace as backend repository**."
   ]
  },
  {
   "cell_type": "code",
   "execution_count": 1,
   "metadata": {},
   "outputs": [],
   "source": [
    "import os\n",
    "os.environ['MALAYA_USE_HUGGINGFACE'] = 'false'"
   ]
  },
  {
   "cell_type": "code",
   "execution_count": 2,
   "metadata": {},
   "outputs": [],
   "source": [
    "import malaya"
   ]
  },
  {
   "cell_type": "code",
   "execution_count": 3,
   "metadata": {},
   "outputs": [
    {
     "data": {
      "text/plain": [
       "'4.7.5'"
      ]
     },
     "execution_count": 3,
     "metadata": {},
     "output_type": "execute_result"
    }
   ],
   "source": [
    "malaya.__version__"
   ]
  },
  {
   "cell_type": "markdown",
   "metadata": {},
   "source": [
    "### Load model from Backblaze\n",
    "\n",
    "If you found some models not exist in HuggingFace, you can try to use BackBlaze as alternative,\n",
    "\n",
    "1. First, set global `MALAYA_USE_HUGGINGFACE` = `false`,\n",
    "\n",
    "```python\n",
    "os.environ['MALAYA_USE_HUGGINGFACE'] = 'false'\n",
    "import malaya\n",
    "```\n",
    "\n",
    "2. Simply pass `use_huggingface=False` in load model function parameter, for an example,\n",
    "\n",
    "```python\n",
    "malaya.emotion.transformer(model = 'bert', use_huggingface = False)\n",
    "```"
   ]
  },
  {
   "cell_type": "code",
   "execution_count": 6,
   "metadata": {},
   "outputs": [
    {
     "name": "stderr",
     "output_type": "stream",
     "text": [
      "101%|██████████| 49.0/48.6 [00:07<00:00, 6.37MB/s]\n",
      "184%|██████████| 1.00/0.54 [00:01<00:00, 1.37s/MB]\n",
      "135%|██████████| 1.00/0.74 [00:01<00:00, 1.22s/MB]\n"
     ]
    },
    {
     "data": {
      "text/plain": [
       "<malaya.model.bert.MulticlassBERT at 0x16647ce90>"
      ]
     },
     "execution_count": 6,
     "metadata": {},
     "output_type": "execute_result"
    }
   ],
   "source": [
    "malaya.emotion.transformer(model = 'albert', use_huggingface = False)"
   ]
  }
 ],
 "metadata": {
  "kernelspec": {
   "display_name": "Python 3",
   "language": "python",
   "name": "python3"
  },
  "language_info": {
   "codemirror_mode": {
    "name": "ipython",
    "version": 3
   },
   "file_extension": ".py",
   "mimetype": "text/x-python",
   "name": "python",
   "nbconvert_exporter": "python",
   "pygments_lexer": "ipython3",
   "version": "3.7.7"
  },
  "varInspector": {
   "cols": {
    "lenName": 16,
    "lenType": 16,
    "lenVar": 40
   },
   "kernels_config": {
    "python": {
     "delete_cmd_postfix": "",
     "delete_cmd_prefix": "del ",
     "library": "var_list.py",
     "varRefreshCmd": "print(var_dic_list())"
    },
    "r": {
     "delete_cmd_postfix": ") ",
     "delete_cmd_prefix": "rm(",
     "library": "var_list.r",
     "varRefreshCmd": "cat(var_dic_list()) "
    }
   },
   "types_to_exclude": [
    "module",
    "function",
    "builtin_function_or_method",
    "instance",
    "_Feature"
   ],
   "window_display": false
  }
 },
 "nbformat": 4,
 "nbformat_minor": 2
}
