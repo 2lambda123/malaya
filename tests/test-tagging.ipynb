{
 "cells": [
  {
   "cell_type": "code",
   "execution_count": 1,
   "id": "engaging-metro",
   "metadata": {},
   "outputs": [],
   "source": [
    "import sys\n",
    "import os\n",
    "\n",
    "SOURCE_DIR = os.path.dirname(os.path.dirname(os.path.abspath(__name__)))\n",
    "sys.path.insert(0, SOURCE_DIR)"
   ]
  },
  {
   "cell_type": "code",
   "execution_count": 2,
   "id": "terminal-authentication",
   "metadata": {},
   "outputs": [
    {
     "name": "stderr",
     "output_type": "stream",
     "text": [
      "2021-11-30 18:46:37.169325: I tensorflow/stream_executor/platform/default/dso_loader.cc:53] Successfully opened dynamic library libcudart.so.11.0\n",
      "/home/ubuntu/.local/lib/python3.8/site-packages/tensorflow_addons/utils/resource_loader.py:78: UserWarning: You are currently using TensorFlow 2.5.0 and trying to load a custom op (custom_ops/seq2seq/_beam_search_ops.so).\n",
      "TensorFlow Addons has compiled its custom ops against TensorFlow 2.6.0, and there are no compatibility guarantees between the two versions. \n",
      "This means that you might get segfaults when loading the custom op, or other kind of low-level errors.\n",
      " If you do, do not file an issue on Github. This is a known limitation.\n",
      "\n",
      "It might help you to fallback to pure Python ops by setting environment variable `TF_ADDONS_PY_OPS=1` or using `tfa.options.disable_custom_kernel()` in your code. To do that, see https://github.com/tensorflow/addons#gpucpu-custom-ops \n",
      "\n",
      "You can also change the TensorFlow version installed on your system. You would need a TensorFlow version equal to or above 2.6.0 and strictly below 2.7.0.\n",
      " Note that nightly versions of TensorFlow, as well as non-pip TensorFlow like `conda install tensorflow` or compiled from source are not supported.\n",
      "\n",
      "The last solution is to find the TensorFlow Addons version that has custom ops compatible with the TensorFlow installed on your system. To do that, refer to the readme: https://github.com/tensorflow/addons\n",
      "  warnings.warn(\n",
      "/home/ubuntu/.local/lib/python3.8/site-packages/malaya_boilerplate/frozen_graph.py:24: UserWarning: Cannot import beam_search_ops from Tensorflow Addons, `deep_model` for stemmer will not available to use, make sure Tensorflow Addons version >= 0.12.0\n",
      "  warnings.warn(\n"
     ]
    }
   ],
   "source": [
    "import malaya\n",
    "import logging\n",
    "\n",
    "logging.basicConfig(level=logging.DEBUG)"
   ]
  },
  {
   "cell_type": "code",
   "execution_count": 3,
   "id": "celtic-company",
   "metadata": {},
   "outputs": [
    {
     "data": {
      "text/plain": [
       "'/home/ubuntu/Malaya'"
      ]
     },
     "execution_count": 3,
     "metadata": {},
     "output_type": "execute_result"
    }
   ],
   "source": [
    "malaya.__home__"
   ]
  },
  {
   "cell_type": "code",
   "execution_count": 4,
   "id": "boxed-wedding",
   "metadata": {},
   "outputs": [],
   "source": [
    "string = 'KUALA LUMPUR: Sempena sambutan Aidilfitri minggu depan, Perdana Menteri Tun Dr Mahathir Mohamad dan Menteri Pengangkutan Anthony Loke Siew Fook menitipkan pesanan khas kepada orang ramai yang mahu pulang ke kampung halaman masing-masing. Dalam video pendek terbitan Jabatan Keselamatan Jalan Raya (JKJR) itu, Dr Mahathir menasihati mereka supaya berhenti berehat dan tidur sebentar  sekiranya mengantuk ketika memandu.'\n",
    "string1 = 'memperkenalkan Husein, dia sangat comel, berumur 25 tahun, bangsa melayu, agama islam, tinggal di cyberjaya malaysia, bercakap bahasa melayu, semua membaca buku undang-undang kewangan, dengar laju Siti Nurhaliza - Seluruh Cinta sambil makan ayam goreng KFC'"
   ]
  },
  {
   "cell_type": "code",
   "execution_count": 6,
   "id": "transsexual-platinum",
   "metadata": {},
   "outputs": [
    {
     "name": "stderr",
     "output_type": "stream",
     "text": [
      "INFO:root:tested on 20% test set.\n",
      "DEBUG:urllib3.connectionpool:Starting new HTTPS connection (1): f000.backblazeb2.com:443\n"
     ]
    },
    {
     "name": "stdout",
     "output_type": "stream",
     "text": [
      "fastformer\n"
     ]
    },
    {
     "name": "stderr",
     "output_type": "stream",
     "text": [
      "DEBUG:urllib3.connectionpool:https://f000.backblazeb2.com:443 \"HEAD /file/malaya-model/entity-ontonotes5/fastformer/model.pb HTTP/1.1\" 200 0\n",
      "DEBUG:urllib3.connectionpool:Starting new HTTPS connection (1): f000.backblazeb2.com:443\n",
      "DEBUG:urllib3.connectionpool:https://f000.backblazeb2.com:443 \"HEAD /file/malaya-model/bpe/BERT.wordpiece.vocab HTTP/1.1\" 200 0\n",
      "DEBUG:urllib3.connectionpool:Starting new HTTPS connection (1): f000.backblazeb2.com:443\n",
      "DEBUG:urllib3.connectionpool:https://f000.backblazeb2.com:443 \"HEAD /file/malaya-model/bpe/BERT.wordpiece HTTP/1.1\" 200 0\n",
      "DEBUG:urllib3.connectionpool:Starting new HTTPS connection (1): f000.backblazeb2.com:443\n",
      "DEBUG:urllib3.connectionpool:https://f000.backblazeb2.com:443 \"HEAD /file/malaya-model/setting/entities-ontonotes5.json HTTP/1.1\" 200 0\n",
      "DEBUG:urllib3.connectionpool:Starting new HTTPS connection (1): f000.backblazeb2.com:443\n",
      "DEBUG:urllib3.connectionpool:https://f000.backblazeb2.com:443 \"HEAD /file/malaya-model/entity-ontonotes5/fastformer/version HTTP/1.1\" 404 0\n",
      "2021-11-30 18:46:51.183384: I tensorflow/core/platform/cpu_feature_guard.cc:142] This TensorFlow binary is optimized with oneAPI Deep Neural Network Library (oneDNN) to use the following CPU instructions in performance-critical operations:  AVX2 AVX512F FMA\n",
      "To enable them in other operations, rebuild TensorFlow with the appropriate compiler flags.\n",
      "INFO:root:running entity-ontonotes5/fastformer using device /device:GPU:0\n",
      "2021-11-30 18:46:51.186535: I tensorflow/stream_executor/platform/default/dso_loader.cc:53] Successfully opened dynamic library libcuda.so.1\n",
      "2021-11-30 18:46:51.249946: I tensorflow/stream_executor/cuda/cuda_gpu_executor.cc:937] successful NUMA node read from SysFS had negative value (-1), but there must be at least one NUMA node, so returning NUMA node zero\n",
      "2021-11-30 18:46:51.251904: I tensorflow/core/common_runtime/gpu/gpu_device.cc:1733] Found device 0 with properties: \n",
      "pciBusID: 0000:01:00.0 name: GeForce RTX 3080 computeCapability: 8.6\n",
      "coreClock: 1.74GHz coreCount: 68 deviceMemorySize: 9.77GiB deviceMemoryBandwidth: 707.88GiB/s\n",
      "2021-11-30 18:46:51.251967: I tensorflow/stream_executor/platform/default/dso_loader.cc:53] Successfully opened dynamic library libcudart.so.11.0\n",
      "2021-11-30 18:46:51.258871: I tensorflow/stream_executor/platform/default/dso_loader.cc:53] Successfully opened dynamic library libcublas.so.11\n",
      "2021-11-30 18:46:51.259020: I tensorflow/stream_executor/platform/default/dso_loader.cc:53] Successfully opened dynamic library libcublasLt.so.11\n",
      "2021-11-30 18:46:51.261417: I tensorflow/stream_executor/platform/default/dso_loader.cc:53] Successfully opened dynamic library libcufft.so.10\n",
      "2021-11-30 18:46:51.261946: I tensorflow/stream_executor/platform/default/dso_loader.cc:53] Successfully opened dynamic library libcurand.so.10\n",
      "2021-11-30 18:46:51.266893: I tensorflow/stream_executor/platform/default/dso_loader.cc:53] Successfully opened dynamic library libcusolver.so.11\n",
      "2021-11-30 18:46:51.267711: I tensorflow/stream_executor/platform/default/dso_loader.cc:53] Successfully opened dynamic library libcusparse.so.11\n",
      "2021-11-30 18:46:51.267885: I tensorflow/stream_executor/platform/default/dso_loader.cc:53] Successfully opened dynamic library libcudnn.so.8\n",
      "2021-11-30 18:46:51.268004: I tensorflow/stream_executor/cuda/cuda_gpu_executor.cc:937] successful NUMA node read from SysFS had negative value (-1), but there must be at least one NUMA node, so returning NUMA node zero\n",
      "2021-11-30 18:46:51.268949: I tensorflow/stream_executor/cuda/cuda_gpu_executor.cc:937] successful NUMA node read from SysFS had negative value (-1), but there must be at least one NUMA node, so returning NUMA node zero\n",
      "2021-11-30 18:46:51.269798: I tensorflow/core/common_runtime/gpu/gpu_device.cc:1871] Adding visible gpu devices: 0\n",
      "2021-11-30 18:46:51.269833: I tensorflow/stream_executor/platform/default/dso_loader.cc:53] Successfully opened dynamic library libcudart.so.11.0\n",
      "2021-11-30 18:46:51.539042: I tensorflow/core/common_runtime/gpu/gpu_device.cc:1258] Device interconnect StreamExecutor with strength 1 edge matrix:\n",
      "2021-11-30 18:46:51.539061: I tensorflow/core/common_runtime/gpu/gpu_device.cc:1264]      0 \n",
      "2021-11-30 18:46:51.539065: I tensorflow/core/common_runtime/gpu/gpu_device.cc:1277] 0:   N \n",
      "2021-11-30 18:46:51.539207: I tensorflow/stream_executor/cuda/cuda_gpu_executor.cc:937] successful NUMA node read from SysFS had negative value (-1), but there must be at least one NUMA node, so returning NUMA node zero\n",
      "2021-11-30 18:46:51.539581: I tensorflow/stream_executor/cuda/cuda_gpu_executor.cc:937] successful NUMA node read from SysFS had negative value (-1), but there must be at least one NUMA node, so returning NUMA node zero\n",
      "2021-11-30 18:46:51.539926: I tensorflow/stream_executor/cuda/cuda_gpu_executor.cc:937] successful NUMA node read from SysFS had negative value (-1), but there must be at least one NUMA node, so returning NUMA node zero\n",
      "2021-11-30 18:46:51.540253: I tensorflow/core/common_runtime/gpu/gpu_device.cc:1418] Created TensorFlow device (/device:GPU:0 with 7882 MB memory) -> physical GPU (device: 0, name: GeForce RTX 3080, pci bus id: 0000:01:00.0, compute capability: 8.6)\n",
      "2021-11-30 18:46:53.656444: I tensorflow/stream_executor/cuda/cuda_gpu_executor.cc:937] successful NUMA node read from SysFS had negative value (-1), but there must be at least one NUMA node, so returning NUMA node zero\n",
      "2021-11-30 18:46:53.656841: I tensorflow/core/common_runtime/gpu/gpu_device.cc:1733] Found device 0 with properties: \n",
      "pciBusID: 0000:01:00.0 name: GeForce RTX 3080 computeCapability: 8.6\n",
      "coreClock: 1.74GHz coreCount: 68 deviceMemorySize: 9.77GiB deviceMemoryBandwidth: 707.88GiB/s\n",
      "2021-11-30 18:46:53.656968: I tensorflow/stream_executor/cuda/cuda_gpu_executor.cc:937] successful NUMA node read from SysFS had negative value (-1), but there must be at least one NUMA node, so returning NUMA node zero\n",
      "2021-11-30 18:46:53.657349: I tensorflow/stream_executor/cuda/cuda_gpu_executor.cc:937] successful NUMA node read from SysFS had negative value (-1), but there must be at least one NUMA node, so returning NUMA node zero\n",
      "2021-11-30 18:46:53.657671: I tensorflow/core/common_runtime/gpu/gpu_device.cc:1871] Adding visible gpu devices: 0\n",
      "2021-11-30 18:46:53.657689: I tensorflow/core/common_runtime/gpu/gpu_device.cc:1258] Device interconnect StreamExecutor with strength 1 edge matrix:\n",
      "2021-11-30 18:46:53.657693: I tensorflow/core/common_runtime/gpu/gpu_device.cc:1264]      0 \n",
      "2021-11-30 18:46:53.657696: I tensorflow/core/common_runtime/gpu/gpu_device.cc:1277] 0:   N \n",
      "2021-11-30 18:46:53.657758: I tensorflow/stream_executor/cuda/cuda_gpu_executor.cc:937] successful NUMA node read from SysFS had negative value (-1), but there must be at least one NUMA node, so returning NUMA node zero\n",
      "2021-11-30 18:46:53.658123: I tensorflow/stream_executor/cuda/cuda_gpu_executor.cc:937] successful NUMA node read from SysFS had negative value (-1), but there must be at least one NUMA node, so returning NUMA node zero\n",
      "2021-11-30 18:46:53.658460: I tensorflow/core/common_runtime/gpu/gpu_device.cc:1418] Created TensorFlow device (/job:localhost/replica:0/task:0/device:GPU:0 with 7882 MB memory) -> physical GPU (device: 0, name: GeForce RTX 3080, pci bus id: 0000:01:00.0, compute capability: 8.6)\n",
      "DEBUG:root:['[CLS]', 'KUALA', 'LUMPUR', ':', 'Sempena', 'sambutan', 'Aidilfitri', 'minggu', 'depan', ',', 'Perdana', 'Menteri', 'Tun', 'Dr', 'Mahathir', 'Mohamad', 'dan', 'Menteri', 'Pengangkutan', 'Anthony', 'Loke', 'Siew', 'Fo', '##ok', 'menit', '##ip', '##kan', 'pesanan', 'khas', 'kepada', 'orang', 'ramai', 'yang', 'mahu', 'pulang', 'ke', 'kampung', 'halaman', 'masing', '-', 'masing', '.', 'Dalam', 'video', 'pendek', 'terbitan', 'Jabatan', 'Keselamatan', 'Jalan', 'Raya', '(', 'JK', '##J', '##R', ')', 'itu', ',', 'Dr', 'Mahathir', 'menasihati', 'mereka', 'supaya', 'berhenti', 'berehat', 'dan', 'tidur', 'sebentar', 'sekiranya', 'mengantuk', 'ketika', 'memandu', '.', '[SEP]']\n",
      "2021-11-30 18:46:53.741883: I tensorflow/core/platform/profile_utils/cpu_utils.cc:114] CPU Frequency: 2496000000 Hz\n",
      "2021-11-30 18:46:56.707301: I tensorflow/stream_executor/platform/default/dso_loader.cc:53] Successfully opened dynamic library libcublas.so.11\n",
      "2021-11-30 18:46:57.021881: I tensorflow/stream_executor/platform/default/dso_loader.cc:53] Successfully opened dynamic library libcublasLt.so.11\n",
      "2021-11-30 18:46:57.021926: I tensorflow/stream_executor/cuda/cuda_blas.cc:1838] TensorFloat-32 will be used for the matrix multiplication. This will only be logged once.\n",
      "DEBUG:root:['[CLS]', 'memperkenalkan', 'Husein', ',', 'dia', 'sangat', 'comel', ',', 'berumur', '25', 'tahun', ',', 'bangsa', 'melayu', ',', 'agama', 'islam', ',', 'tinggal', 'di', 'c', '##y', '##ber', '##jaya', 'malaysia', ',', 'bercakap', 'bahasa', 'melayu', ',', 'semua', 'membaca', 'buku', 'undang', '-', 'undang', 'kewangan', ',', 'dengar', 'laju', 'Siti', 'Nurhaliza', '-', 'Seluruh', 'Cinta', 'sambil', 'makan', 'ayam', 'goreng', 'K', '##FC', '[SEP]']\n",
      "DEBUG:root:['[CLS]', 'KUALA', 'LUMPUR', ':', 'Sempena', 'sambutan', 'Aidilfitri', 'minggu', 'depan', ',', 'Perdana', 'Menteri', 'Tun', 'Dr', 'Mahathir', 'Mohamad', 'dan', 'Menteri', 'Pengangkutan', 'Anthony', 'Loke', 'Siew', 'Fo', '##ok', 'menit', '##ip', '##kan', 'pesanan', 'khas', 'kepada', 'orang', 'ramai', 'yang', 'mahu', 'pulang', 'ke', 'kampung', 'halaman', 'masing', '-', 'masing', '.', 'Dalam', 'video', 'pendek', 'terbitan', 'Jabatan', 'Keselamatan', 'Jalan', 'Raya', '(', 'JK', '##J', '##R', ')', 'itu', ',', 'Dr', 'Mahathir', 'menasihati', 'mereka', 'supaya', 'berhenti', 'berehat', 'dan', 'tidur', 'sebentar', 'sekiranya', 'mengantuk', 'ketika', 'memandu', '.', '[SEP]']\n",
      "DEBUG:urllib3.connectionpool:Starting new HTTPS connection (1): f000.backblazeb2.com:443\n"
     ]
    },
    {
     "name": "stdout",
     "output_type": "stream",
     "text": [
      "[('KUALA', 'X'), ('LUMPUR', 'OTHER'), (':', 'OTHER'), ('Sempena', 'OTHER'), ('sambutan', 'X'), ('Aidilfitri', 'OTHER'), ('minggu', 'OTHER'), ('depan', 'X'), (',', 'OTHER'), ('Perdana', 'NORP'), ('Menteri', 'X'), ('Tun', 'OTHER'), ('Dr', 'OTHER'), ('Mahathir', 'OTHER'), ('Mohamad', 'OTHER'), ('dan', 'OTHER'), ('Menteri', 'X'), ('Pengangkutan', 'OTHER'), ('Anthony', 'OTHER'), ('Loke', 'OTHER'), ('Siew', 'OTHER'), ('Fook', 'OTHER'), ('menitipkan', 'OTHER'), ('pesanan', 'WORK_OF_ART'), ('khas', 'X'), ('kepada', 'OTHER'), ('orang', 'X'), ('ramai', 'X'), ('yang', 'OTHER'), ('mahu', 'X'), ('pulang', 'X'), ('ke', 'OTHER'), ('kampung', 'OTHER'), ('halaman', 'OTHER'), ('masing', 'X'), ('-', 'ADDRESS'), ('masing', 'X'), ('.', 'OTHER'), ('Dalam', 'OTHER'), ('video', 'OTHER'), ('pendek', 'PERSON'), ('terbitan', 'OTHER'), ('Jabatan', 'X'), ('Keselamatan', 'PERSON'), ('Jalan', 'X'), ('Raya', 'OTHER'), ('(', 'OTHER'), ('JKJR', 'X'), (')', 'X'), ('itu', 'X'), (',', 'OTHER'), ('Dr', 'OTHER'), ('Mahathir', 'OTHER'), ('menasihati', 'OTHER'), ('mereka', 'OTHER'), ('supaya', 'OTHER'), ('berhenti', 'OTHER'), ('berehat', 'OTHER'), ('dan', 'OTHER'), ('tidur', 'OTHER'), ('sebentar', 'OTHER'), ('sekiranya', 'OTHER'), ('mengantuk', 'OTHER'), ('ketika', 'OTHER'), ('memandu', 'OTHER'), ('.', 'OTHER')]\n",
      "[('memperkenalkan', 'OTHER'), ('Husein', 'OTHER'), (',', 'OTHER'), ('dia', 'X'), ('sangat', 'OTHER'), ('comel', 'OTHER'), (',', 'OTHER'), ('berumur', 'PERSON'), ('25', 'OTHER'), ('tahun', 'X'), (',', 'OTHER'), ('bangsa', 'OTHER'), ('melayu', 'OTHER'), (',', 'OTHER'), ('agama', 'X'), ('islam', 'OTHER'), (',', 'OTHER'), ('tinggal', 'X'), ('di', 'OTHER'), ('cyberjaya', 'OTHER'), ('malaysia', 'X'), (',', 'X'), ('bercakap', 'QUANTITY'), ('bahasa', 'OTHER'), ('melayu', 'PERSON'), (',', 'OTHER'), ('semua', 'X'), ('membaca', 'X'), ('buku', 'OTHER'), ('undang', 'OTHER'), ('-', 'OTHER'), ('undang', 'OTHER'), ('kewangan', 'OTHER'), (',', 'OTHER'), ('dengar', 'OTHER'), ('laju', 'PERSON'), ('Siti', 'X'), ('Nurhaliza', 'OTHER'), ('-', 'OTHER'), ('Seluruh', 'OTHER'), ('Cinta', 'OTHER'), ('sambil', 'OTHER'), ('makan', 'OTHER'), ('ayam', 'OTHER'), ('goreng', 'OTHER'), ('KFC', 'PERSON')]\n",
      "[{'text': ['KUALA'], 'type': 'X', 'score': 1.0, 'beginOffset': 0, 'endOffset': 1}, {'text': ['LUMPUR', ':', 'Sempena'], 'type': 'OTHER', 'score': 1.0, 'beginOffset': 1, 'endOffset': 4}, {'text': ['sambutan'], 'type': 'X', 'score': 1.0, 'beginOffset': 4, 'endOffset': 5}, {'text': ['Aidilfitri', 'minggu'], 'type': 'OTHER', 'score': 1.0, 'beginOffset': 5, 'endOffset': 7}, {'text': ['depan'], 'type': 'X', 'score': 1.0, 'beginOffset': 7, 'endOffset': 8}, {'text': [','], 'type': 'OTHER', 'score': 1.0, 'beginOffset': 8, 'endOffset': 9}, {'text': ['Perdana'], 'type': 'NORP', 'score': 1.0, 'beginOffset': 9, 'endOffset': 10}, {'text': ['Menteri'], 'type': 'X', 'score': 1.0, 'beginOffset': 10, 'endOffset': 11}, {'text': ['Tun', 'Dr', 'Mahathir', 'Mohamad', 'dan'], 'type': 'OTHER', 'score': 1.0, 'beginOffset': 11, 'endOffset': 16}, {'text': ['Menteri'], 'type': 'X', 'score': 1.0, 'beginOffset': 16, 'endOffset': 17}, {'text': ['Pengangkutan', 'Anthony', 'Loke', 'Siew', 'Fook', 'menitipkan'], 'type': 'OTHER', 'score': 1.0, 'beginOffset': 17, 'endOffset': 23}, {'text': ['pesanan'], 'type': 'WORK_OF_ART', 'score': 1.0, 'beginOffset': 23, 'endOffset': 24}, {'text': ['khas'], 'type': 'X', 'score': 1.0, 'beginOffset': 24, 'endOffset': 25}, {'text': ['kepada'], 'type': 'OTHER', 'score': 1.0, 'beginOffset': 25, 'endOffset': 26}, {'text': ['orang', 'ramai'], 'type': 'X', 'score': 1.0, 'beginOffset': 26, 'endOffset': 28}, {'text': ['yang'], 'type': 'OTHER', 'score': 1.0, 'beginOffset': 28, 'endOffset': 29}, {'text': ['mahu', 'pulang'], 'type': 'X', 'score': 1.0, 'beginOffset': 29, 'endOffset': 31}, {'text': ['ke', 'kampung', 'halaman'], 'type': 'OTHER', 'score': 1.0, 'beginOffset': 31, 'endOffset': 34}, {'text': ['masing'], 'type': 'X', 'score': 1.0, 'beginOffset': 34, 'endOffset': 35}, {'text': ['-'], 'type': 'ADDRESS', 'score': 1.0, 'beginOffset': 35, 'endOffset': 36}, {'text': ['masing'], 'type': 'X', 'score': 1.0, 'beginOffset': 36, 'endOffset': 37}, {'text': ['.', 'Dalam', 'video'], 'type': 'OTHER', 'score': 1.0, 'beginOffset': 37, 'endOffset': 40}, {'text': ['pendek'], 'type': 'PERSON', 'score': 1.0, 'beginOffset': 40, 'endOffset': 41}, {'text': ['terbitan'], 'type': 'OTHER', 'score': 1.0, 'beginOffset': 41, 'endOffset': 42}, {'text': ['Jabatan'], 'type': 'X', 'score': 1.0, 'beginOffset': 42, 'endOffset': 43}, {'text': ['Keselamatan'], 'type': 'PERSON', 'score': 1.0, 'beginOffset': 43, 'endOffset': 44}, {'text': ['Jalan'], 'type': 'X', 'score': 1.0, 'beginOffset': 44, 'endOffset': 45}, {'text': ['Raya', '('], 'type': 'OTHER', 'score': 1.0, 'beginOffset': 45, 'endOffset': 47}, {'text': ['JKJR', ')', 'itu'], 'type': 'X', 'score': 1.0, 'beginOffset': 47, 'endOffset': 50}, {'text': [',', 'Dr', 'Mahathir', 'menasihati', 'mereka', 'supaya', 'berhenti', 'berehat', 'dan', 'tidur', 'sebentar', 'sekiranya', 'mengantuk', 'ketika', 'memandu', '.'], 'type': 'OTHER', 'score': 1.0, 'beginOffset': 50, 'endOffset': 66}]\n",
      "tiny-fastformer\n"
     ]
    },
    {
     "name": "stderr",
     "output_type": "stream",
     "text": [
      "DEBUG:urllib3.connectionpool:https://f000.backblazeb2.com:443 \"HEAD /file/malaya-model/entity-ontonotes5/tiny-fastformer/model.pb HTTP/1.1\" 200 0\n",
      "DEBUG:urllib3.connectionpool:Starting new HTTPS connection (1): f000.backblazeb2.com:443\n",
      "DEBUG:urllib3.connectionpool:https://f000.backblazeb2.com:443 \"HEAD /file/malaya-model/bpe/BERT.wordpiece.vocab HTTP/1.1\" 200 0\n",
      "DEBUG:urllib3.connectionpool:Starting new HTTPS connection (1): f000.backblazeb2.com:443\n",
      "DEBUG:urllib3.connectionpool:https://f000.backblazeb2.com:443 \"HEAD /file/malaya-model/bpe/BERT.wordpiece HTTP/1.1\" 200 0\n",
      "DEBUG:urllib3.connectionpool:Starting new HTTPS connection (1): f000.backblazeb2.com:443\n",
      "DEBUG:urllib3.connectionpool:https://f000.backblazeb2.com:443 \"HEAD /file/malaya-model/setting/entities-ontonotes5.json HTTP/1.1\" 200 0\n",
      "DEBUG:urllib3.connectionpool:Starting new HTTPS connection (1): f000.backblazeb2.com:443\n",
      "DEBUG:urllib3.connectionpool:https://f000.backblazeb2.com:443 \"HEAD /file/malaya-model/entity-ontonotes5/tiny-fastformer/version HTTP/1.1\" 404 0\n",
      "DEBUG:urllib3.connectionpool:Starting new HTTPS connection (1): f000.backblazeb2.com:443\n"
     ]
    },
    {
     "name": "stdout",
     "output_type": "stream",
     "text": [
      "downloading frozen model to /home/ubuntu/Malaya/entity-ontonotes5/tiny-fastformer/model.pb\n"
     ]
    },
    {
     "name": "stderr",
     "output_type": "stream",
     "text": [
      "DEBUG:urllib3.connectionpool:https://f000.backblazeb2.com:443 \"GET /file/malaya-model/entity-ontonotes5/tiny-fastformer/model.pb HTTP/1.1\" 200 77334526\n",
      "100%|██████████| 74.0/73.8 [00:11<00:00, 6.42MB/s]\n",
      "DEBUG:urllib3.connectionpool:Starting new HTTPS connection (1): f000.backblazeb2.com:443\n"
     ]
    },
    {
     "name": "stdout",
     "output_type": "stream",
     "text": [
      "downloading frozen vocab to /home/ubuntu/Malaya/entity-ontonotes5/tiny-fastformer/BERT.wordpiece.vocab\n"
     ]
    },
    {
     "name": "stderr",
     "output_type": "stream",
     "text": [
      "DEBUG:urllib3.connectionpool:https://f000.backblazeb2.com:443 \"GET /file/malaya-model/bpe/BERT.wordpiece.vocab HTTP/1.1\" 200 224153\n",
      "1.00MB [00:00, 1.28MB/s]                   \n",
      "DEBUG:urllib3.connectionpool:Starting new HTTPS connection (1): f000.backblazeb2.com:443\n"
     ]
    },
    {
     "name": "stdout",
     "output_type": "stream",
     "text": [
      "downloading frozen tokenizer to /home/ubuntu/Malaya/entity-ontonotes5/tiny-fastformer/BERT.wordpiece\n"
     ]
    },
    {
     "name": "stderr",
     "output_type": "stream",
     "text": [
      "DEBUG:urllib3.connectionpool:https://f000.backblazeb2.com:443 \"GET /file/malaya-model/bpe/BERT.wordpiece HTTP/1.1\" 200 224153\n",
      "1.00MB [00:00, 1.70MB/s]                   \n",
      "DEBUG:urllib3.connectionpool:Starting new HTTPS connection (1): f000.backblazeb2.com:443\n"
     ]
    },
    {
     "name": "stdout",
     "output_type": "stream",
     "text": [
      "downloading frozen setting to /home/ubuntu/Malaya/entity-ontonotes5/tiny-fastformer/entities-ontonotes5.json\n"
     ]
    },
    {
     "name": "stderr",
     "output_type": "stream",
     "text": [
      "DEBUG:urllib3.connectionpool:https://f000.backblazeb2.com:443 \"GET /file/malaya-model/setting/entities-ontonotes5.json HTTP/1.1\" 200 632\n",
      "1.00MB [00:00, 431MB/s]                    \n",
      "INFO:root:running entity-ontonotes5/tiny-fastformer using device /device:GPU:0\n",
      "2021-11-30 18:47:20.068855: I tensorflow/stream_executor/cuda/cuda_gpu_executor.cc:937] successful NUMA node read from SysFS had negative value (-1), but there must be at least one NUMA node, so returning NUMA node zero\n",
      "2021-11-30 18:47:20.069063: I tensorflow/core/common_runtime/gpu/gpu_device.cc:1733] Found device 0 with properties: \n",
      "pciBusID: 0000:01:00.0 name: GeForce RTX 3080 computeCapability: 8.6\n",
      "coreClock: 1.74GHz coreCount: 68 deviceMemorySize: 9.77GiB deviceMemoryBandwidth: 707.88GiB/s\n",
      "2021-11-30 18:47:20.069144: I tensorflow/stream_executor/cuda/cuda_gpu_executor.cc:937] successful NUMA node read from SysFS had negative value (-1), but there must be at least one NUMA node, so returning NUMA node zero\n",
      "2021-11-30 18:47:20.069335: I tensorflow/stream_executor/cuda/cuda_gpu_executor.cc:937] successful NUMA node read from SysFS had negative value (-1), but there must be at least one NUMA node, so returning NUMA node zero\n",
      "2021-11-30 18:47:20.069497: I tensorflow/core/common_runtime/gpu/gpu_device.cc:1871] Adding visible gpu devices: 0\n",
      "2021-11-30 18:47:20.069515: I tensorflow/core/common_runtime/gpu/gpu_device.cc:1258] Device interconnect StreamExecutor with strength 1 edge matrix:\n",
      "2021-11-30 18:47:20.069518: I tensorflow/core/common_runtime/gpu/gpu_device.cc:1264]      0 \n",
      "2021-11-30 18:47:20.069521: I tensorflow/core/common_runtime/gpu/gpu_device.cc:1277] 0:   N \n",
      "2021-11-30 18:47:20.069583: I tensorflow/stream_executor/cuda/cuda_gpu_executor.cc:937] successful NUMA node read from SysFS had negative value (-1), but there must be at least one NUMA node, so returning NUMA node zero\n",
      "2021-11-30 18:47:20.069772: I tensorflow/stream_executor/cuda/cuda_gpu_executor.cc:937] successful NUMA node read from SysFS had negative value (-1), but there must be at least one NUMA node, so returning NUMA node zero\n",
      "2021-11-30 18:47:20.069977: I tensorflow/core/common_runtime/gpu/gpu_device.cc:1418] Created TensorFlow device (/job:localhost/replica:0/task:0/device:GPU:0 with 7882 MB memory) -> physical GPU (device: 0, name: GeForce RTX 3080, pci bus id: 0000:01:00.0, compute capability: 8.6)\n",
      "DEBUG:root:['[CLS]', 'KUALA', 'LUMPUR', ':', 'Sempena', 'sambutan', 'Aidilfitri', 'minggu', 'depan', ',', 'Perdana', 'Menteri', 'Tun', 'Dr', 'Mahathir', 'Mohamad', 'dan', 'Menteri', 'Pengangkutan', 'Anthony', 'Loke', 'Siew', 'Fo', '##ok', 'menit', '##ip', '##kan', 'pesanan', 'khas', 'kepada', 'orang', 'ramai', 'yang', 'mahu', 'pulang', 'ke', 'kampung', 'halaman', 'masing', '-', 'masing', '.', 'Dalam', 'video', 'pendek', 'terbitan', 'Jabatan', 'Keselamatan', 'Jalan', 'Raya', '(', 'JK', '##J', '##R', ')', 'itu', ',', 'Dr', 'Mahathir', 'menasihati', 'mereka', 'supaya', 'berhenti', 'berehat', 'dan', 'tidur', 'sebentar', 'sekiranya', 'mengantuk', 'ketika', 'memandu', '.', '[SEP]']\n",
      "DEBUG:root:['[CLS]', 'memperkenalkan', 'Husein', ',', 'dia', 'sangat', 'comel', ',', 'berumur', '25', 'tahun', ',', 'bangsa', 'melayu', ',', 'agama', 'islam', ',', 'tinggal', 'di', 'c', '##y', '##ber', '##jaya', 'malaysia', ',', 'bercakap', 'bahasa', 'melayu', ',', 'semua', 'membaca', 'buku', 'undang', '-', 'undang', 'kewangan', ',', 'dengar', 'laju', 'Siti', 'Nurhaliza', '-', 'Seluruh', 'Cinta', 'sambil', 'makan', 'ayam', 'goreng', 'K', '##FC', '[SEP]']\n",
      "DEBUG:root:['[CLS]', 'KUALA', 'LUMPUR', ':', 'Sempena', 'sambutan', 'Aidilfitri', 'minggu', 'depan', ',', 'Perdana', 'Menteri', 'Tun', 'Dr', 'Mahathir', 'Mohamad', 'dan', 'Menteri', 'Pengangkutan', 'Anthony', 'Loke', 'Siew', 'Fo', '##ok', 'menit', '##ip', '##kan', 'pesanan', 'khas', 'kepada', 'orang', 'ramai', 'yang', 'mahu', 'pulang', 'ke', 'kampung', 'halaman', 'masing', '-', 'masing', '.', 'Dalam', 'video', 'pendek', 'terbitan', 'Jabatan', 'Keselamatan', 'Jalan', 'Raya', '(', 'JK', '##J', '##R', ')', 'itu', ',', 'Dr', 'Mahathir', 'menasihati', 'mereka', 'supaya', 'berhenti', 'berehat', 'dan', 'tidur', 'sebentar', 'sekiranya', 'mengantuk', 'ketika', 'memandu', '.', '[SEP]']\n"
     ]
    },
    {
     "name": "stdout",
     "output_type": "stream",
     "text": [
      "[('KUALA', 'X'), ('LUMPUR', 'OTHER'), (':', 'OTHER'), ('Sempena', 'OTHER'), ('sambutan', 'X'), ('Aidilfitri', 'OTHER'), ('minggu', 'OTHER'), ('depan', 'X'), (',', 'OTHER'), ('Perdana', 'NORP'), ('Menteri', 'X'), ('Tun', 'OTHER'), ('Dr', 'OTHER'), ('Mahathir', 'OTHER'), ('Mohamad', 'OTHER'), ('dan', 'OTHER'), ('Menteri', 'X'), ('Pengangkutan', 'PERSON'), ('Anthony', 'NORP'), ('Loke', 'WORK_OF_ART'), ('Siew', 'OTHER'), ('Fook', 'WORK_OF_ART'), ('menitipkan', 'OTHER'), ('pesanan', 'ADDRESS'), ('khas', 'ADDRESS'), ('kepada', 'OTHER'), ('orang', 'ADDRESS'), ('ramai', 'X'), ('yang', 'OTHER'), ('mahu', 'X'), ('pulang', 'X'), ('ke', 'OTHER'), ('kampung', 'OTHER'), ('halaman', 'OTHER'), ('masing', 'X'), ('-', 'X'), ('masing', 'X'), ('.', 'OTHER'), ('Dalam', 'ADDRESS'), ('video', 'OTHER'), ('pendek', 'ADDRESS'), ('terbitan', 'OTHER'), ('Jabatan', 'X'), ('Keselamatan', 'X'), ('Jalan', 'X'), ('Raya', 'X'), ('(', 'LOC'), ('JKJR', 'X'), (')', 'X'), ('itu', 'X'), (',', 'OTHER'), ('Dr', 'OTHER'), ('Mahathir', 'OTHER'), ('menasihati', 'OTHER'), ('mereka', 'OTHER'), ('supaya', 'OTHER'), ('berhenti', 'OTHER'), ('berehat', 'OTHER'), ('dan', 'OTHER'), ('tidur', 'WORK_OF_ART'), ('sebentar', 'OTHER'), ('sekiranya', 'WORK_OF_ART'), ('mengantuk', 'WORK_OF_ART'), ('ketika', 'OTHER'), ('memandu', 'OTHER'), ('.', 'OTHER')]\n",
      "[('memperkenalkan', 'OTHER'), ('Husein', 'WORK_OF_ART'), (',', 'OTHER'), ('dia', 'X'), ('sangat', 'OTHER'), ('comel', 'OTHER'), (',', 'OTHER'), ('berumur', 'OTHER'), ('25', 'OTHER'), ('tahun', 'X'), (',', 'OTHER'), ('bangsa', 'OTHER'), ('melayu', 'OTHER'), (',', 'OTHER'), ('agama', 'X'), ('islam', 'OTHER'), (',', 'OTHER'), ('tinggal', 'X'), ('di', 'OTHER'), ('cyberjaya', 'WORK_OF_ART'), ('malaysia', 'X'), (',', 'X'), ('bercakap', 'OTHER'), ('bahasa', 'OTHER'), ('melayu', 'ADDRESS'), (',', 'OTHER'), ('semua', 'X'), ('membaca', 'X'), ('buku', 'OTHER'), ('undang', 'OTHER'), ('-', 'OTHER'), ('undang', 'OTHER'), ('kewangan', 'OTHER'), (',', 'OTHER'), ('dengar', 'WORK_OF_ART'), ('laju', 'X'), ('Siti', 'X'), ('Nurhaliza', 'WORK_OF_ART'), ('-', 'OTHER'), ('Seluruh', 'OTHER'), ('Cinta', 'OTHER'), ('sambil', 'OTHER'), ('makan', 'OTHER'), ('ayam', 'OTHER'), ('goreng', 'OTHER'), ('KFC', 'OTHER')]\n",
      "[{'text': ['KUALA'], 'type': 'X', 'score': 1.0, 'beginOffset': 0, 'endOffset': 1}, {'text': ['LUMPUR', ':', 'Sempena'], 'type': 'OTHER', 'score': 1.0, 'beginOffset': 1, 'endOffset': 4}, {'text': ['sambutan'], 'type': 'X', 'score': 1.0, 'beginOffset': 4, 'endOffset': 5}, {'text': ['Aidilfitri', 'minggu'], 'type': 'OTHER', 'score': 1.0, 'beginOffset': 5, 'endOffset': 7}, {'text': ['depan'], 'type': 'X', 'score': 1.0, 'beginOffset': 7, 'endOffset': 8}, {'text': [','], 'type': 'OTHER', 'score': 1.0, 'beginOffset': 8, 'endOffset': 9}, {'text': ['Perdana'], 'type': 'NORP', 'score': 1.0, 'beginOffset': 9, 'endOffset': 10}, {'text': ['Menteri'], 'type': 'X', 'score': 1.0, 'beginOffset': 10, 'endOffset': 11}, {'text': ['Tun', 'Dr', 'Mahathir', 'Mohamad', 'dan'], 'type': 'OTHER', 'score': 1.0, 'beginOffset': 11, 'endOffset': 16}, {'text': ['Menteri'], 'type': 'X', 'score': 1.0, 'beginOffset': 16, 'endOffset': 17}, {'text': ['Pengangkutan'], 'type': 'PERSON', 'score': 1.0, 'beginOffset': 17, 'endOffset': 18}, {'text': ['Anthony'], 'type': 'NORP', 'score': 1.0, 'beginOffset': 18, 'endOffset': 19}, {'text': ['Loke'], 'type': 'WORK_OF_ART', 'score': 1.0, 'beginOffset': 19, 'endOffset': 20}, {'text': ['Siew'], 'type': 'OTHER', 'score': 1.0, 'beginOffset': 20, 'endOffset': 21}, {'text': ['Fook'], 'type': 'WORK_OF_ART', 'score': 1.0, 'beginOffset': 21, 'endOffset': 22}, {'text': ['menitipkan'], 'type': 'OTHER', 'score': 1.0, 'beginOffset': 22, 'endOffset': 23}, {'text': ['pesanan', 'khas'], 'type': 'ADDRESS', 'score': 1.0, 'beginOffset': 23, 'endOffset': 25}, {'text': ['kepada'], 'type': 'OTHER', 'score': 1.0, 'beginOffset': 25, 'endOffset': 26}, {'text': ['orang'], 'type': 'ADDRESS', 'score': 1.0, 'beginOffset': 26, 'endOffset': 27}, {'text': ['ramai'], 'type': 'X', 'score': 1.0, 'beginOffset': 27, 'endOffset': 28}, {'text': ['yang'], 'type': 'OTHER', 'score': 1.0, 'beginOffset': 28, 'endOffset': 29}, {'text': ['mahu', 'pulang'], 'type': 'X', 'score': 1.0, 'beginOffset': 29, 'endOffset': 31}, {'text': ['ke', 'kampung', 'halaman'], 'type': 'OTHER', 'score': 1.0, 'beginOffset': 31, 'endOffset': 34}, {'text': ['masing', '-', 'masing'], 'type': 'X', 'score': 1.0, 'beginOffset': 34, 'endOffset': 37}, {'text': ['.'], 'type': 'OTHER', 'score': 1.0, 'beginOffset': 37, 'endOffset': 38}, {'text': ['Dalam'], 'type': 'ADDRESS', 'score': 1.0, 'beginOffset': 38, 'endOffset': 39}, {'text': ['video'], 'type': 'OTHER', 'score': 1.0, 'beginOffset': 39, 'endOffset': 40}, {'text': ['pendek'], 'type': 'ADDRESS', 'score': 1.0, 'beginOffset': 40, 'endOffset': 41}, {'text': ['terbitan'], 'type': 'OTHER', 'score': 1.0, 'beginOffset': 41, 'endOffset': 42}, {'text': ['Jabatan', 'Keselamatan', 'Jalan', 'Raya'], 'type': 'X', 'score': 1.0, 'beginOffset': 42, 'endOffset': 46}, {'text': ['('], 'type': 'LOC', 'score': 1.0, 'beginOffset': 46, 'endOffset': 47}, {'text': ['JKJR', ')', 'itu'], 'type': 'X', 'score': 1.0, 'beginOffset': 47, 'endOffset': 50}, {'text': [',', 'Dr', 'Mahathir', 'menasihati', 'mereka', 'supaya', 'berhenti', 'berehat', 'dan'], 'type': 'OTHER', 'score': 1.0, 'beginOffset': 50, 'endOffset': 59}, {'text': ['tidur'], 'type': 'WORK_OF_ART', 'score': 1.0, 'beginOffset': 59, 'endOffset': 60}, {'text': ['sebentar'], 'type': 'OTHER', 'score': 1.0, 'beginOffset': 60, 'endOffset': 61}, {'text': ['sekiranya', 'mengantuk'], 'type': 'WORK_OF_ART', 'score': 1.0, 'beginOffset': 61, 'endOffset': 63}, {'text': ['ketika', 'memandu', '.'], 'type': 'OTHER', 'score': 1.0, 'beginOffset': 63, 'endOffset': 66}]\n"
     ]
    }
   ],
   "source": [
    "models = malaya.entity.available_transformer_ontonotes5()\n",
    "for m in models.index[-2:]:\n",
    "    print(m)\n",
    "    model = malaya.entity.transformer_ontonotes5(model = m)\n",
    "    print(model.predict(string))\n",
    "    print(model.predict(string1))\n",
    "    print(model.analyze(string))\n",
    "    malaya.utils.delete_cache(f'entity-ontonotes5/{m}')\n",
    "    del model"
   ]
  },
  {
   "cell_type": "code",
   "execution_count": 7,
   "id": "comparative-hands",
   "metadata": {},
   "outputs": [
    {
     "name": "stderr",
     "output_type": "stream",
     "text": [
      "INFO:root:tested on 20% test set.\n",
      "DEBUG:urllib3.connectionpool:Starting new HTTPS connection (1): f000.backblazeb2.com:443\n"
     ]
    },
    {
     "name": "stdout",
     "output_type": "stream",
     "text": [
      "bert\n"
     ]
    },
    {
     "name": "stderr",
     "output_type": "stream",
     "text": [
      "DEBUG:urllib3.connectionpool:https://f000.backblazeb2.com:443 \"HEAD /file/malaya-model/entity/bert/model.pb HTTP/1.1\" 200 0\n",
      "DEBUG:urllib3.connectionpool:Starting new HTTPS connection (1): f000.backblazeb2.com:443\n",
      "DEBUG:urllib3.connectionpool:https://f000.backblazeb2.com:443 \"HEAD /file/malaya-model/bpe/sp10m.cased.bert.vocab HTTP/1.1\" 200 0\n",
      "DEBUG:urllib3.connectionpool:Starting new HTTPS connection (1): f000.backblazeb2.com:443\n",
      "DEBUG:urllib3.connectionpool:https://f000.backblazeb2.com:443 \"HEAD /file/malaya-model/bpe/sp10m.cased.bert.model HTTP/1.1\" 200 0\n",
      "DEBUG:urllib3.connectionpool:Starting new HTTPS connection (1): f000.backblazeb2.com:443\n",
      "DEBUG:urllib3.connectionpool:https://f000.backblazeb2.com:443 \"HEAD /file/malaya-model/setting/entities.json HTTP/1.1\" 200 0\n",
      "DEBUG:urllib3.connectionpool:Starting new HTTPS connection (1): f000.backblazeb2.com:443\n",
      "DEBUG:urllib3.connectionpool:https://f000.backblazeb2.com:443 \"HEAD /file/malaya-model/entity/bert/version HTTP/1.1\" 404 0\n",
      "DEBUG:urllib3.connectionpool:Starting new HTTPS connection (1): f000.backblazeb2.com:443\n"
     ]
    },
    {
     "name": "stdout",
     "output_type": "stream",
     "text": [
      "downloading frozen model to /home/ubuntu/Malaya/entity/bert/model.pb\n"
     ]
    },
    {
     "name": "stderr",
     "output_type": "stream",
     "text": [
      "DEBUG:urllib3.connectionpool:https://f000.backblazeb2.com:443 \"GET /file/malaya-model/entity/bert/model.pb HTTP/1.1\" 200 447113532\n",
      "427MB [01:12, 5.93MB/s]                          \n",
      "DEBUG:urllib3.connectionpool:Starting new HTTPS connection (1): f000.backblazeb2.com:443\n"
     ]
    },
    {
     "name": "stdout",
     "output_type": "stream",
     "text": [
      "downloading frozen vocab to /home/ubuntu/Malaya/entity/bert/sp10m.cased.bert.vocab\n"
     ]
    },
    {
     "name": "stderr",
     "output_type": "stream",
     "text": [
      "DEBUG:urllib3.connectionpool:https://f000.backblazeb2.com:443 \"GET /file/malaya-model/bpe/sp10m.cased.bert.vocab HTTP/1.1\" 200 568997\n",
      "184%|██████████| 1.00/0.54 [00:00<00:00, 1.27MB/s]\n",
      "DEBUG:urllib3.connectionpool:Starting new HTTPS connection (1): f000.backblazeb2.com:443\n"
     ]
    },
    {
     "name": "stdout",
     "output_type": "stream",
     "text": [
      "downloading frozen tokenizer to /home/ubuntu/Malaya/entity/bert/sp10m.cased.bert.model\n"
     ]
    },
    {
     "name": "stderr",
     "output_type": "stream",
     "text": [
      "DEBUG:urllib3.connectionpool:https://f000.backblazeb2.com:443 \"GET /file/malaya-model/bpe/sp10m.cased.bert.model HTTP/1.1\" 200 778744\n",
      "135%|██████████| 1.00/0.74 [00:00<00:00, 1.02MB/s]\n",
      "DEBUG:urllib3.connectionpool:Starting new HTTPS connection (1): f000.backblazeb2.com:443\n"
     ]
    },
    {
     "name": "stdout",
     "output_type": "stream",
     "text": [
      "downloading frozen setting to /home/ubuntu/Malaya/entity/bert/entities.json\n"
     ]
    },
    {
     "name": "stderr",
     "output_type": "stream",
     "text": [
      "DEBUG:urllib3.connectionpool:https://f000.backblazeb2.com:443 \"GET /file/malaya-model/setting/entities.json HTTP/1.1\" 200 917464\n",
      "114%|██████████| 1.00/0.87 [00:01<00:00, 1.17s/MB]\n",
      "INFO:root:running entity/bert using device /device:GPU:0\n",
      "2021-11-30 18:50:19.191005: I tensorflow/stream_executor/cuda/cuda_gpu_executor.cc:937] successful NUMA node read from SysFS had negative value (-1), but there must be at least one NUMA node, so returning NUMA node zero\n",
      "2021-11-30 18:50:19.191257: I tensorflow/core/common_runtime/gpu/gpu_device.cc:1733] Found device 0 with properties: \n",
      "pciBusID: 0000:01:00.0 name: GeForce RTX 3080 computeCapability: 8.6\n",
      "coreClock: 1.74GHz coreCount: 68 deviceMemorySize: 9.77GiB deviceMemoryBandwidth: 707.88GiB/s\n",
      "2021-11-30 18:50:19.191435: I tensorflow/stream_executor/cuda/cuda_gpu_executor.cc:937] successful NUMA node read from SysFS had negative value (-1), but there must be at least one NUMA node, so returning NUMA node zero\n",
      "2021-11-30 18:50:19.191650: I tensorflow/stream_executor/cuda/cuda_gpu_executor.cc:937] successful NUMA node read from SysFS had negative value (-1), but there must be at least one NUMA node, so returning NUMA node zero\n",
      "2021-11-30 18:50:19.191824: I tensorflow/core/common_runtime/gpu/gpu_device.cc:1871] Adding visible gpu devices: 0\n",
      "2021-11-30 18:50:19.191847: I tensorflow/core/common_runtime/gpu/gpu_device.cc:1258] Device interconnect StreamExecutor with strength 1 edge matrix:\n",
      "2021-11-30 18:50:19.191865: I tensorflow/core/common_runtime/gpu/gpu_device.cc:1264]      0 \n",
      "2021-11-30 18:50:19.191869: I tensorflow/core/common_runtime/gpu/gpu_device.cc:1277] 0:   N \n",
      "2021-11-30 18:50:19.191954: I tensorflow/stream_executor/cuda/cuda_gpu_executor.cc:937] successful NUMA node read from SysFS had negative value (-1), but there must be at least one NUMA node, so returning NUMA node zero\n",
      "2021-11-30 18:50:19.192194: I tensorflow/stream_executor/cuda/cuda_gpu_executor.cc:937] successful NUMA node read from SysFS had negative value (-1), but there must be at least one NUMA node, so returning NUMA node zero\n",
      "2021-11-30 18:50:19.192372: I tensorflow/core/common_runtime/gpu/gpu_device.cc:1418] Created TensorFlow device (/job:localhost/replica:0/task:0/device:GPU:0 with 7882 MB memory) -> physical GPU (device: 0, name: GeForce RTX 3080, pci bus id: 0000:01:00.0, compute capability: 8.6)\n",
      "DEBUG:root:['[CLS]', '▁KUALA', '▁LUMPUR', '▁:', '▁Sempena', '▁sambutan', '▁Aidilfitri', '▁minggu', '▁depan', '▁,', '▁Perdana', '▁Menteri', '▁Tun', '▁Dr', '▁Mahathir', '▁Mohamad', '▁dan', '▁Menteri', '▁Pengangkutan', '▁Anthony', '▁Loke', '▁Siew', '▁Fook', '▁menit', 'ip', 'kan', '▁pesanan', '▁khas', '▁kepada', '▁orang', '▁ramai', '▁yang', '▁mahu', '▁pulang', '▁ke', '▁kampung', '▁halaman', '▁masing', '-', 'masing', '▁', '.', '▁Dalam', '▁video', '▁pendek', '▁terbitan', '▁Jabatan', '▁Keselamatan', '▁Jalan', '▁Raya', '▁', '(', '▁', 'JK', 'JR', '▁', ')', '▁itu', '▁,', '▁Dr', '▁Mahathir', '▁menasihati', '▁mereka', '▁supaya', '▁berhenti', '▁berehat', '▁dan', '▁tidur', '▁sebentar', '▁sekiranya', '▁mengantuk', '▁ketika', '▁memandu', '▁', '.', '[SEP]']\n",
      "DEBUG:root:['[CLS]', '▁memperkenalkan', '▁Hu', 'se', 'in', '▁,', '▁dia', '▁sangat', '▁comel', '▁,', '▁berumur', '▁25', '▁tahun', '▁,', '▁bangsa', '▁melayu', '▁,', '▁agama', '▁islam', '▁,', '▁tinggal', '▁di', '▁cyberjaya', '▁malaysia', '▁,', '▁bercakap', '▁bahasa', '▁melayu', '▁,', '▁semua', '▁membaca', '▁buku', '▁undang', '-', 'undang', '▁kewangan', '▁,', '▁dengar', '▁laju', '▁Siti', '▁Nurhaliza', '▁', '-', '▁Seluruh', '▁Cinta', '▁sambil', '▁makan', '▁ayam', '▁goreng', '▁KFC', '[SEP]']\n",
      "DEBUG:root:['[CLS]', '▁KUALA', '▁LUMPUR', '▁:', '▁Sempena', '▁sambutan', '▁Aidilfitri', '▁minggu', '▁depan', '▁,', '▁Perdana', '▁Menteri', '▁Tun', '▁Dr', '▁Mahathir', '▁Mohamad', '▁dan', '▁Menteri', '▁Pengangkutan', '▁Anthony', '▁Loke', '▁Siew', '▁Fook', '▁menit', 'ip', 'kan', '▁pesanan', '▁khas', '▁kepada', '▁orang', '▁ramai', '▁yang', '▁mahu', '▁pulang', '▁ke', '▁kampung', '▁halaman', '▁masing', '-', 'masing', '▁', '.', '▁Dalam', '▁video', '▁pendek', '▁terbitan', '▁Jabatan', '▁Keselamatan', '▁Jalan', '▁Raya', '▁', '(', '▁', 'JK', 'JR', '▁', ')', '▁itu', '▁,', '▁Dr', '▁Mahathir', '▁menasihati', '▁mereka', '▁supaya', '▁berhenti', '▁berehat', '▁dan', '▁tidur', '▁sebentar', '▁sekiranya', '▁mengantuk', '▁ketika', '▁memandu', '▁', '.', '[SEP]']\n",
      "DEBUG:urllib3.connectionpool:Starting new HTTPS connection (1): f000.backblazeb2.com:443\n"
     ]
    },
    {
     "name": "stdout",
     "output_type": "stream",
     "text": [
      "[('KUALA', 'location'), ('LUMPUR', 'location'), (':', 'OTHER'), ('Sempena', 'OTHER'), ('sambutan', 'OTHER'), ('Aidilfitri', 'event'), ('minggu', 'time'), ('depan', 'time'), (',', 'OTHER'), ('Perdana', 'person'), ('Menteri', 'person'), ('Tun', 'person'), ('Dr', 'person'), ('Mahathir', 'person'), ('Mohamad', 'person'), ('dan', 'OTHER'), ('Menteri', 'person'), ('Pengangkutan', 'person'), ('Anthony', 'person'), ('Loke', 'person'), ('Siew', 'person'), ('Fook', 'person'), ('menitipkan', 'OTHER'), ('pesanan', 'OTHER'), ('khas', 'OTHER'), ('kepada', 'OTHER'), ('orang', 'OTHER'), ('ramai', 'OTHER'), ('yang', 'OTHER'), ('mahu', 'OTHER'), ('pulang', 'OTHER'), ('ke', 'OTHER'), ('kampung', 'OTHER'), ('halaman', 'OTHER'), ('masing-masing', 'OTHER'), ('.', 'OTHER'), ('Dalam', 'OTHER'), ('video', 'OTHER'), ('pendek', 'OTHER'), ('terbitan', 'OTHER'), ('Jabatan', 'organization'), ('Keselamatan', 'organization'), ('Jalan', 'organization'), ('Raya', 'organization'), ('(', 'organization'), ('JKJR', 'organization'), (')', 'organization'), ('itu', 'OTHER'), (',', 'OTHER'), ('Dr', 'person'), ('Mahathir', 'person'), ('menasihati', 'OTHER'), ('mereka', 'OTHER'), ('supaya', 'OTHER'), ('berhenti', 'OTHER'), ('berehat', 'OTHER'), ('dan', 'OTHER'), ('tidur', 'OTHER'), ('sebentar', 'OTHER'), ('sekiranya', 'OTHER'), ('mengantuk', 'OTHER'), ('ketika', 'OTHER'), ('memandu', 'OTHER'), ('.', 'OTHER')]\n",
      "[('memperkenalkan', 'OTHER'), ('Husein', 'person'), (',', 'OTHER'), ('dia', 'OTHER'), ('sangat', 'OTHER'), ('comel', 'OTHER'), (',', 'OTHER'), ('berumur', 'time'), ('25', 'time'), ('tahun', 'time'), (',', 'OTHER'), ('bangsa', 'OTHER'), ('melayu', 'person'), (',', 'OTHER'), ('agama', 'OTHER'), ('islam', 'person'), (',', 'OTHER'), ('tinggal', 'OTHER'), ('di', 'OTHER'), ('cyberjaya', 'location'), ('malaysia', 'location'), (',', 'OTHER'), ('bercakap', 'OTHER'), ('bahasa', 'OTHER'), ('melayu', 'location'), (',', 'OTHER'), ('semua', 'OTHER'), ('membaca', 'OTHER'), ('buku', 'OTHER'), ('undang-undang', 'OTHER'), ('kewangan', 'OTHER'), (',', 'OTHER'), ('dengar', 'OTHER'), ('laju', 'OTHER'), ('Siti', 'person'), ('Nurhaliza', 'person'), ('-', 'OTHER'), ('Seluruh', 'OTHER'), ('Cinta', 'OTHER'), ('sambil', 'OTHER'), ('makan', 'OTHER'), ('ayam', 'OTHER'), ('goreng', 'OTHER'), ('KFC', 'organization')]\n",
      "[{'text': ['KUALA', 'LUMPUR'], 'type': 'location', 'score': 1.0, 'beginOffset': 0, 'endOffset': 2}, {'text': [':', 'Sempena', 'sambutan'], 'type': 'OTHER', 'score': 1.0, 'beginOffset': 2, 'endOffset': 5}, {'text': ['Aidilfitri'], 'type': 'event', 'score': 1.0, 'beginOffset': 5, 'endOffset': 6}, {'text': ['minggu', 'depan'], 'type': 'time', 'score': 1.0, 'beginOffset': 6, 'endOffset': 8}, {'text': [','], 'type': 'OTHER', 'score': 1.0, 'beginOffset': 8, 'endOffset': 9}, {'text': ['Perdana', 'Menteri', 'Tun', 'Dr', 'Mahathir', 'Mohamad'], 'type': 'person', 'score': 1.0, 'beginOffset': 9, 'endOffset': 15}, {'text': ['dan'], 'type': 'OTHER', 'score': 1.0, 'beginOffset': 15, 'endOffset': 16}, {'text': ['Menteri', 'Pengangkutan'], 'type': 'organization', 'score': 1.0, 'beginOffset': 16, 'endOffset': 18}, {'text': ['Anthony', 'Loke', 'Siew', 'Fook'], 'type': 'person', 'score': 1.0, 'beginOffset': 18, 'endOffset': 22}, {'text': ['menitipkan', 'pesanan', 'khas', 'kepada', 'orang', 'ramai', 'yang', 'mahu', 'pulang', 'ke', 'kampung', 'halaman', 'masing-masing', '.', 'Dalam', 'video', 'pendek', 'terbitan'], 'type': 'OTHER', 'score': 1.0, 'beginOffset': 22, 'endOffset': 40}, {'text': ['Jabatan', 'Keselamatan', 'Jalan', 'Raya', '(', 'JKJR', ')'], 'type': 'organization', 'score': 1.0, 'beginOffset': 40, 'endOffset': 47}, {'text': ['itu', ','], 'type': 'OTHER', 'score': 1.0, 'beginOffset': 47, 'endOffset': 49}, {'text': ['Dr', 'Mahathir'], 'type': 'person', 'score': 1.0, 'beginOffset': 49, 'endOffset': 51}, {'text': ['menasihati', 'mereka', 'supaya', 'berhenti', 'berehat', 'dan', 'tidur', 'sebentar', 'sekiranya', 'mengantuk', 'ketika', 'memandu', '.'], 'type': 'OTHER', 'score': 1.0, 'beginOffset': 51, 'endOffset': 64}]\n",
      "tiny-bert\n"
     ]
    },
    {
     "name": "stderr",
     "output_type": "stream",
     "text": [
      "DEBUG:urllib3.connectionpool:https://f000.backblazeb2.com:443 \"HEAD /file/malaya-model/entity/tiny-bert/model.pb HTTP/1.1\" 200 0\n",
      "DEBUG:urllib3.connectionpool:Starting new HTTPS connection (1): f000.backblazeb2.com:443\n",
      "DEBUG:urllib3.connectionpool:https://f000.backblazeb2.com:443 \"HEAD /file/malaya-model/bpe/sp10m.cased.bert.vocab HTTP/1.1\" 200 0\n",
      "DEBUG:urllib3.connectionpool:Starting new HTTPS connection (1): f000.backblazeb2.com:443\n",
      "DEBUG:urllib3.connectionpool:https://f000.backblazeb2.com:443 \"HEAD /file/malaya-model/bpe/sp10m.cased.bert.model HTTP/1.1\" 200 0\n",
      "DEBUG:urllib3.connectionpool:Starting new HTTPS connection (1): f000.backblazeb2.com:443\n",
      "DEBUG:urllib3.connectionpool:https://f000.backblazeb2.com:443 \"HEAD /file/malaya-model/setting/entities.json HTTP/1.1\" 200 0\n",
      "DEBUG:urllib3.connectionpool:Starting new HTTPS connection (1): f000.backblazeb2.com:443\n",
      "DEBUG:urllib3.connectionpool:https://f000.backblazeb2.com:443 \"HEAD /file/malaya-model/entity/tiny-bert/version HTTP/1.1\" 404 0\n",
      "DEBUG:urllib3.connectionpool:Starting new HTTPS connection (1): f000.backblazeb2.com:443\n"
     ]
    },
    {
     "name": "stdout",
     "output_type": "stream",
     "text": [
      "downloading frozen model to /home/ubuntu/Malaya/entity/tiny-bert/model.pb\n"
     ]
    },
    {
     "name": "stderr",
     "output_type": "stream",
     "text": [
      "DEBUG:urllib3.connectionpool:https://f000.backblazeb2.com:443 \"GET /file/malaya-model/entity/tiny-bert/model.pb HTTP/1.1\" 200 60515249\n",
      "100%|██████████| 58.0/57.7 [00:07<00:00, 7.28MB/s]\n",
      "DEBUG:urllib3.connectionpool:Starting new HTTPS connection (1): f000.backblazeb2.com:443\n"
     ]
    },
    {
     "name": "stdout",
     "output_type": "stream",
     "text": [
      "downloading frozen vocab to /home/ubuntu/Malaya/entity/tiny-bert/sp10m.cased.bert.vocab\n"
     ]
    },
    {
     "name": "stderr",
     "output_type": "stream",
     "text": [
      "DEBUG:urllib3.connectionpool:https://f000.backblazeb2.com:443 \"GET /file/malaya-model/bpe/sp10m.cased.bert.vocab HTTP/1.1\" 200 568997\n",
      "184%|██████████| 1.00/0.54 [00:00<00:00, 1.28MB/s]\n",
      "DEBUG:urllib3.connectionpool:Starting new HTTPS connection (1): f000.backblazeb2.com:443\n"
     ]
    },
    {
     "name": "stdout",
     "output_type": "stream",
     "text": [
      "downloading frozen tokenizer to /home/ubuntu/Malaya/entity/tiny-bert/sp10m.cased.bert.model\n"
     ]
    },
    {
     "name": "stderr",
     "output_type": "stream",
     "text": [
      "DEBUG:urllib3.connectionpool:https://f000.backblazeb2.com:443 \"GET /file/malaya-model/bpe/sp10m.cased.bert.model HTTP/1.1\" 200 778744\n",
      "135%|██████████| 1.00/0.74 [00:01<00:00, 1.00s/MB]\n",
      "DEBUG:urllib3.connectionpool:Starting new HTTPS connection (1): f000.backblazeb2.com:443\n"
     ]
    },
    {
     "name": "stdout",
     "output_type": "stream",
     "text": [
      "downloading frozen setting to /home/ubuntu/Malaya/entity/tiny-bert/entities.json\n"
     ]
    },
    {
     "name": "stderr",
     "output_type": "stream",
     "text": [
      "DEBUG:urllib3.connectionpool:https://f000.backblazeb2.com:443 \"GET /file/malaya-model/setting/entities.json HTTP/1.1\" 200 917464\n",
      "114%|██████████| 1.00/0.87 [00:01<00:00, 1.01s/MB]\n",
      "INFO:root:running entity/tiny-bert using device /device:GPU:0\n",
      "2021-11-30 18:50:40.466706: I tensorflow/stream_executor/cuda/cuda_gpu_executor.cc:937] successful NUMA node read from SysFS had negative value (-1), but there must be at least one NUMA node, so returning NUMA node zero\n",
      "2021-11-30 18:50:40.466926: I tensorflow/core/common_runtime/gpu/gpu_device.cc:1733] Found device 0 with properties: \n",
      "pciBusID: 0000:01:00.0 name: GeForce RTX 3080 computeCapability: 8.6\n",
      "coreClock: 1.74GHz coreCount: 68 deviceMemorySize: 9.77GiB deviceMemoryBandwidth: 707.88GiB/s\n",
      "2021-11-30 18:50:40.467003: I tensorflow/stream_executor/cuda/cuda_gpu_executor.cc:937] successful NUMA node read from SysFS had negative value (-1), but there must be at least one NUMA node, so returning NUMA node zero\n",
      "2021-11-30 18:50:40.467196: I tensorflow/stream_executor/cuda/cuda_gpu_executor.cc:937] successful NUMA node read from SysFS had negative value (-1), but there must be at least one NUMA node, so returning NUMA node zero\n",
      "2021-11-30 18:50:40.467354: I tensorflow/core/common_runtime/gpu/gpu_device.cc:1871] Adding visible gpu devices: 0\n",
      "2021-11-30 18:50:40.467373: I tensorflow/core/common_runtime/gpu/gpu_device.cc:1258] Device interconnect StreamExecutor with strength 1 edge matrix:\n",
      "2021-11-30 18:50:40.467377: I tensorflow/core/common_runtime/gpu/gpu_device.cc:1264]      0 \n",
      "2021-11-30 18:50:40.467379: I tensorflow/core/common_runtime/gpu/gpu_device.cc:1277] 0:   N \n",
      "2021-11-30 18:50:40.467438: I tensorflow/stream_executor/cuda/cuda_gpu_executor.cc:937] successful NUMA node read from SysFS had negative value (-1), but there must be at least one NUMA node, so returning NUMA node zero\n",
      "2021-11-30 18:50:40.467653: I tensorflow/stream_executor/cuda/cuda_gpu_executor.cc:937] successful NUMA node read from SysFS had negative value (-1), but there must be at least one NUMA node, so returning NUMA node zero\n",
      "2021-11-30 18:50:40.467814: I tensorflow/core/common_runtime/gpu/gpu_device.cc:1418] Created TensorFlow device (/job:localhost/replica:0/task:0/device:GPU:0 with 7882 MB memory) -> physical GPU (device: 0, name: GeForce RTX 3080, pci bus id: 0000:01:00.0, compute capability: 8.6)\n",
      "DEBUG:root:['[CLS]', '▁KUALA', '▁LUMPUR', '▁:', '▁Sempena', '▁sambutan', '▁Aidilfitri', '▁minggu', '▁depan', '▁,', '▁Perdana', '▁Menteri', '▁Tun', '▁Dr', '▁Mahathir', '▁Mohamad', '▁dan', '▁Menteri', '▁Pengangkutan', '▁Anthony', '▁Loke', '▁Siew', '▁Fook', '▁menit', 'ip', 'kan', '▁pesanan', '▁khas', '▁kepada', '▁orang', '▁ramai', '▁yang', '▁mahu', '▁pulang', '▁ke', '▁kampung', '▁halaman', '▁masing', '-', 'masing', '▁', '.', '▁Dalam', '▁video', '▁pendek', '▁terbitan', '▁Jabatan', '▁Keselamatan', '▁Jalan', '▁Raya', '▁', '(', '▁', 'JK', 'JR', '▁', ')', '▁itu', '▁,', '▁Dr', '▁Mahathir', '▁menasihati', '▁mereka', '▁supaya', '▁berhenti', '▁berehat', '▁dan', '▁tidur', '▁sebentar', '▁sekiranya', '▁mengantuk', '▁ketika', '▁memandu', '▁', '.', '[SEP]']\n",
      "DEBUG:root:['[CLS]', '▁memperkenalkan', '▁Hu', 'se', 'in', '▁,', '▁dia', '▁sangat', '▁comel', '▁,', '▁berumur', '▁25', '▁tahun', '▁,', '▁bangsa', '▁melayu', '▁,', '▁agama', '▁islam', '▁,', '▁tinggal', '▁di', '▁cyberjaya', '▁malaysia', '▁,', '▁bercakap', '▁bahasa', '▁melayu', '▁,', '▁semua', '▁membaca', '▁buku', '▁undang', '-', 'undang', '▁kewangan', '▁,', '▁dengar', '▁laju', '▁Siti', '▁Nurhaliza', '▁', '-', '▁Seluruh', '▁Cinta', '▁sambil', '▁makan', '▁ayam', '▁goreng', '▁KFC', '[SEP]']\n",
      "DEBUG:root:['[CLS]', '▁KUALA', '▁LUMPUR', '▁:', '▁Sempena', '▁sambutan', '▁Aidilfitri', '▁minggu', '▁depan', '▁,', '▁Perdana', '▁Menteri', '▁Tun', '▁Dr', '▁Mahathir', '▁Mohamad', '▁dan', '▁Menteri', '▁Pengangkutan', '▁Anthony', '▁Loke', '▁Siew', '▁Fook', '▁menit', 'ip', 'kan', '▁pesanan', '▁khas', '▁kepada', '▁orang', '▁ramai', '▁yang', '▁mahu', '▁pulang', '▁ke', '▁kampung', '▁halaman', '▁masing', '-', 'masing', '▁', '.', '▁Dalam', '▁video', '▁pendek', '▁terbitan', '▁Jabatan', '▁Keselamatan', '▁Jalan', '▁Raya', '▁', '(', '▁', 'JK', 'JR', '▁', ')', '▁itu', '▁,', '▁Dr', '▁Mahathir', '▁menasihati', '▁mereka', '▁supaya', '▁berhenti', '▁berehat', '▁dan', '▁tidur', '▁sebentar', '▁sekiranya', '▁mengantuk', '▁ketika', '▁memandu', '▁', '.', '[SEP]']\n",
      "DEBUG:urllib3.connectionpool:Starting new HTTPS connection (1): f000.backblazeb2.com:443\n"
     ]
    },
    {
     "name": "stdout",
     "output_type": "stream",
     "text": [
      "[('KUALA', 'location'), ('LUMPUR', 'location'), (':', 'OTHER'), ('Sempena', 'OTHER'), ('sambutan', 'OTHER'), ('Aidilfitri', 'event'), ('minggu', 'OTHER'), ('depan', 'OTHER'), (',', 'OTHER'), ('Perdana', 'person'), ('Menteri', 'person'), ('Tun', 'person'), ('Dr', 'person'), ('Mahathir', 'person'), ('Mohamad', 'person'), ('dan', 'OTHER'), ('Menteri', 'person'), ('Pengangkutan', 'person'), ('Anthony', 'person'), ('Loke', 'person'), ('Siew', 'person'), ('Fook', 'person'), ('menitipkan', 'OTHER'), ('pesanan', 'OTHER'), ('khas', 'OTHER'), ('kepada', 'OTHER'), ('orang', 'OTHER'), ('ramai', 'OTHER'), ('yang', 'OTHER'), ('mahu', 'OTHER'), ('pulang', 'OTHER'), ('ke', 'OTHER'), ('kampung', 'OTHER'), ('halaman', 'OTHER'), ('masing-masing', 'OTHER'), ('.', 'OTHER'), ('Dalam', 'OTHER'), ('video', 'OTHER'), ('pendek', 'OTHER'), ('terbitan', 'OTHER'), ('Jabatan', 'organization'), ('Keselamatan', 'organization'), ('Jalan', 'organization'), ('Raya', 'organization'), ('(', 'organization'), ('JKJR', 'organization'), (')', 'organization'), ('itu', 'OTHER'), (',', 'OTHER'), ('Dr', 'person'), ('Mahathir', 'person'), ('menasihati', 'OTHER'), ('mereka', 'OTHER'), ('supaya', 'OTHER'), ('berhenti', 'OTHER'), ('berehat', 'OTHER'), ('dan', 'OTHER'), ('tidur', 'OTHER'), ('sebentar', 'OTHER'), ('sekiranya', 'OTHER'), ('mengantuk', 'OTHER'), ('ketika', 'OTHER'), ('memandu', 'OTHER'), ('.', 'OTHER')]\n",
      "[('memperkenalkan', 'OTHER'), ('Husein', 'person'), (',', 'OTHER'), ('dia', 'OTHER'), ('sangat', 'OTHER'), ('comel', 'OTHER'), (',', 'OTHER'), ('berumur', 'time'), ('25', 'time'), ('tahun', 'OTHER'), (',', 'OTHER'), ('bangsa', 'organization'), ('melayu', 'law'), (',', 'OTHER'), ('agama', 'law'), ('islam', 'organization'), (',', 'OTHER'), ('tinggal', 'OTHER'), ('di', 'OTHER'), ('cyberjaya', 'location'), ('malaysia', 'location'), (',', 'OTHER'), ('bercakap', 'OTHER'), ('bahasa', 'OTHER'), ('melayu', 'OTHER'), (',', 'OTHER'), ('semua', 'OTHER'), ('membaca', 'OTHER'), ('buku', 'OTHER'), ('undang-undang', 'OTHER'), ('kewangan', 'OTHER'), (',', 'OTHER'), ('dengar', 'OTHER'), ('laju', 'OTHER'), ('Siti', 'person'), ('Nurhaliza', 'person'), ('-', 'OTHER'), ('Seluruh', 'OTHER'), ('Cinta', 'OTHER'), ('sambil', 'OTHER'), ('makan', 'OTHER'), ('ayam', 'OTHER'), ('goreng', 'OTHER'), ('KFC', 'OTHER')]\n",
      "[{'text': ['KUALA', 'LUMPUR'], 'type': 'location', 'score': 1.0, 'beginOffset': 0, 'endOffset': 2}, {'text': [':', 'Sempena', 'sambutan'], 'type': 'OTHER', 'score': 1.0, 'beginOffset': 2, 'endOffset': 5}, {'text': ['Aidilfitri'], 'type': 'event', 'score': 1.0, 'beginOffset': 5, 'endOffset': 6}, {'text': ['minggu', 'depan', ','], 'type': 'OTHER', 'score': 1.0, 'beginOffset': 6, 'endOffset': 9}, {'text': ['Perdana', 'Menteri', 'Tun', 'Dr', 'Mahathir', 'Mohamad'], 'type': 'person', 'score': 1.0, 'beginOffset': 9, 'endOffset': 15}, {'text': ['dan'], 'type': 'OTHER', 'score': 1.0, 'beginOffset': 15, 'endOffset': 16}, {'text': ['Menteri', 'Pengangkutan', 'Anthony', 'Loke', 'Siew', 'Fook'], 'type': 'person', 'score': 1.0, 'beginOffset': 16, 'endOffset': 22}, {'text': ['menitipkan', 'pesanan', 'khas', 'kepada', 'orang', 'ramai', 'yang', 'mahu', 'pulang', 'ke', 'kampung', 'halaman', 'masing-masing', '.', 'Dalam', 'video', 'pendek', 'terbitan'], 'type': 'OTHER', 'score': 1.0, 'beginOffset': 22, 'endOffset': 40}, {'text': ['Jabatan', 'Keselamatan', 'Jalan', 'Raya', '(', 'JKJR', ')'], 'type': 'organization', 'score': 1.0, 'beginOffset': 40, 'endOffset': 47}, {'text': ['itu', ','], 'type': 'OTHER', 'score': 1.0, 'beginOffset': 47, 'endOffset': 49}, {'text': ['Dr', 'Mahathir'], 'type': 'person', 'score': 1.0, 'beginOffset': 49, 'endOffset': 51}, {'text': ['menasihati', 'mereka', 'supaya', 'berhenti', 'berehat', 'dan', 'tidur', 'sebentar', 'sekiranya', 'mengantuk', 'ketika', 'memandu', '.'], 'type': 'OTHER', 'score': 1.0, 'beginOffset': 51, 'endOffset': 64}]\n",
      "albert\n"
     ]
    },
    {
     "name": "stderr",
     "output_type": "stream",
     "text": [
      "DEBUG:urllib3.connectionpool:https://f000.backblazeb2.com:443 \"HEAD /file/malaya-model/entity/albert/model.pb HTTP/1.1\" 200 0\n",
      "DEBUG:urllib3.connectionpool:Starting new HTTPS connection (1): f000.backblazeb2.com:443\n",
      "DEBUG:urllib3.connectionpool:https://f000.backblazeb2.com:443 \"HEAD /file/malaya-model/bpe/sp10m.cased.v10.vocab HTTP/1.1\" 200 0\n",
      "DEBUG:urllib3.connectionpool:Starting new HTTPS connection (1): f000.backblazeb2.com:443\n",
      "DEBUG:urllib3.connectionpool:https://f000.backblazeb2.com:443 \"HEAD /file/malaya-model/bpe/sp10m.cased.v10.model HTTP/1.1\" 200 0\n",
      "DEBUG:urllib3.connectionpool:Starting new HTTPS connection (1): f000.backblazeb2.com:443\n",
      "DEBUG:urllib3.connectionpool:https://f000.backblazeb2.com:443 \"HEAD /file/malaya-model/setting/entities.json HTTP/1.1\" 200 0\n",
      "DEBUG:urllib3.connectionpool:Starting new HTTPS connection (1): f000.backblazeb2.com:443\n",
      "DEBUG:urllib3.connectionpool:https://f000.backblazeb2.com:443 \"HEAD /file/malaya-model/entity/albert/version HTTP/1.1\" 404 0\n",
      "DEBUG:urllib3.connectionpool:Starting new HTTPS connection (1): f000.backblazeb2.com:443\n"
     ]
    },
    {
     "name": "stdout",
     "output_type": "stream",
     "text": [
      "downloading frozen model to /home/ubuntu/Malaya/entity/albert/model.pb\n"
     ]
    },
    {
     "name": "stderr",
     "output_type": "stream",
     "text": [
      "DEBUG:urllib3.connectionpool:https://f000.backblazeb2.com:443 \"GET /file/malaya-model/entity/albert/model.pb HTTP/1.1\" 200 51002608\n",
      "101%|██████████| 49.0/48.6 [00:06<00:00, 7.22MB/s]\n",
      "DEBUG:urllib3.connectionpool:Starting new HTTPS connection (1): f000.backblazeb2.com:443\n"
     ]
    },
    {
     "name": "stdout",
     "output_type": "stream",
     "text": [
      "downloading frozen vocab to /home/ubuntu/Malaya/entity/albert/sp10m.cased.v10.vocab\n"
     ]
    },
    {
     "name": "stderr",
     "output_type": "stream",
     "text": [
      "DEBUG:urllib3.connectionpool:https://f000.backblazeb2.com:443 \"GET /file/malaya-model/bpe/sp10m.cased.v10.vocab HTTP/1.1\" 200 569013\n",
      "184%|██████████| 1.00/0.54 [00:00<00:00, 1.13MB/s]\n",
      "DEBUG:urllib3.connectionpool:Starting new HTTPS connection (1): f000.backblazeb2.com:443\n"
     ]
    },
    {
     "name": "stdout",
     "output_type": "stream",
     "text": [
      "downloading frozen tokenizer to /home/ubuntu/Malaya/entity/albert/sp10m.cased.v10.model\n"
     ]
    },
    {
     "name": "stderr",
     "output_type": "stream",
     "text": [
      "DEBUG:urllib3.connectionpool:https://f000.backblazeb2.com:443 \"GET /file/malaya-model/bpe/sp10m.cased.v10.model HTTP/1.1\" 200 778641\n",
      "135%|██████████| 1.00/0.74 [00:00<00:00, 1.02MB/s]\n",
      "DEBUG:urllib3.connectionpool:Starting new HTTPS connection (1): f000.backblazeb2.com:443\n"
     ]
    },
    {
     "name": "stdout",
     "output_type": "stream",
     "text": [
      "downloading frozen setting to /home/ubuntu/Malaya/entity/albert/entities.json\n"
     ]
    },
    {
     "name": "stderr",
     "output_type": "stream",
     "text": [
      "DEBUG:urllib3.connectionpool:https://f000.backblazeb2.com:443 \"GET /file/malaya-model/setting/entities.json HTTP/1.1\" 200 917464\n",
      "114%|██████████| 1.00/0.87 [00:01<00:00, 1.01s/MB]\n",
      "INFO:root:running entity/albert using device /device:GPU:0\n",
      "2021-11-30 18:50:59.617254: I tensorflow/stream_executor/cuda/cuda_gpu_executor.cc:937] successful NUMA node read from SysFS had negative value (-1), but there must be at least one NUMA node, so returning NUMA node zero\n",
      "2021-11-30 18:50:59.617476: I tensorflow/core/common_runtime/gpu/gpu_device.cc:1733] Found device 0 with properties: \n",
      "pciBusID: 0000:01:00.0 name: GeForce RTX 3080 computeCapability: 8.6\n",
      "coreClock: 1.74GHz coreCount: 68 deviceMemorySize: 9.77GiB deviceMemoryBandwidth: 707.88GiB/s\n",
      "2021-11-30 18:50:59.617559: I tensorflow/stream_executor/cuda/cuda_gpu_executor.cc:937] successful NUMA node read from SysFS had negative value (-1), but there must be at least one NUMA node, so returning NUMA node zero\n",
      "2021-11-30 18:50:59.617739: I tensorflow/stream_executor/cuda/cuda_gpu_executor.cc:937] successful NUMA node read from SysFS had negative value (-1), but there must be at least one NUMA node, so returning NUMA node zero\n",
      "2021-11-30 18:50:59.617906: I tensorflow/core/common_runtime/gpu/gpu_device.cc:1871] Adding visible gpu devices: 0\n",
      "2021-11-30 18:50:59.617925: I tensorflow/core/common_runtime/gpu/gpu_device.cc:1258] Device interconnect StreamExecutor with strength 1 edge matrix:\n",
      "2021-11-30 18:50:59.617940: I tensorflow/core/common_runtime/gpu/gpu_device.cc:1264]      0 \n",
      "2021-11-30 18:50:59.617943: I tensorflow/core/common_runtime/gpu/gpu_device.cc:1277] 0:   N \n",
      "2021-11-30 18:50:59.617995: I tensorflow/stream_executor/cuda/cuda_gpu_executor.cc:937] successful NUMA node read from SysFS had negative value (-1), but there must be at least one NUMA node, so returning NUMA node zero\n",
      "2021-11-30 18:50:59.618197: I tensorflow/stream_executor/cuda/cuda_gpu_executor.cc:937] successful NUMA node read from SysFS had negative value (-1), but there must be at least one NUMA node, so returning NUMA node zero\n",
      "2021-11-30 18:50:59.618350: I tensorflow/core/common_runtime/gpu/gpu_device.cc:1418] Created TensorFlow device (/job:localhost/replica:0/task:0/device:GPU:0 with 7882 MB memory) -> physical GPU (device: 0, name: GeForce RTX 3080, pci bus id: 0000:01:00.0, compute capability: 8.6)\n",
      "DEBUG:root:['[CLS]', '▁KUALA', '▁LUMPUR', '▁:', '▁Sempena', '▁sambutan', '▁Aidilfitri', '▁minggu', '▁depan', '▁,', '▁Perdana', '▁Menteri', '▁Tun', '▁Dr', '▁Mahathir', '▁Mohamad', '▁dan', '▁Menteri', '▁Pengangkutan', '▁Anthony', '▁Loke', '▁Siew', '▁Fook', '▁menit', 'ip', 'kan', '▁pesanan', '▁khas', '▁kepada', '▁orang', '▁ramai', '▁yang', '▁mahu', '▁pulang', '▁ke', '▁kampung', '▁halaman', '▁masing', '-', 'masing', '▁', '.', '▁Dalam', '▁video', '▁pendek', '▁terbitan', '▁Jabatan', '▁Keselamatan', '▁Jalan', '▁Raya', '▁', '(', '▁', 'JK', 'JR', '▁', ')', '▁itu', '▁,', '▁Dr', '▁Mahathir', '▁menasihati', '▁mereka', '▁supaya', '▁berhenti', '▁berehat', '▁dan', '▁tidur', '▁sebentar', '▁sekiranya', '▁mengantuk', '▁ketika', '▁memandu', '▁', '.', '[SEP]']\n",
      "DEBUG:root:['[CLS]', '▁memperkenalkan', '▁Hu', 'se', 'in', '▁,', '▁dia', '▁sangat', '▁comel', '▁,', '▁berumur', '▁25', '▁tahun', '▁,', '▁bangsa', '▁melayu', '▁,', '▁agama', '▁islam', '▁,', '▁tinggal', '▁di', '▁cyberjaya', '▁malaysia', '▁,', '▁bercakap', '▁bahasa', '▁melayu', '▁,', '▁semua', '▁membaca', '▁buku', '▁undang', '-', 'undang', '▁kewangan', '▁,', '▁dengar', '▁laju', '▁Siti', '▁Nurhaliza', '▁', '-', '▁Seluruh', '▁Cinta', '▁sambil', '▁makan', '▁ayam', '▁goreng', '▁KFC', '[SEP]']\n",
      "DEBUG:root:['[CLS]', '▁KUALA', '▁LUMPUR', '▁:', '▁Sempena', '▁sambutan', '▁Aidilfitri', '▁minggu', '▁depan', '▁,', '▁Perdana', '▁Menteri', '▁Tun', '▁Dr', '▁Mahathir', '▁Mohamad', '▁dan', '▁Menteri', '▁Pengangkutan', '▁Anthony', '▁Loke', '▁Siew', '▁Fook', '▁menit', 'ip', 'kan', '▁pesanan', '▁khas', '▁kepada', '▁orang', '▁ramai', '▁yang', '▁mahu', '▁pulang', '▁ke', '▁kampung', '▁halaman', '▁masing', '-', 'masing', '▁', '.', '▁Dalam', '▁video', '▁pendek', '▁terbitan', '▁Jabatan', '▁Keselamatan', '▁Jalan', '▁Raya', '▁', '(', '▁', 'JK', 'JR', '▁', ')', '▁itu', '▁,', '▁Dr', '▁Mahathir', '▁menasihati', '▁mereka', '▁supaya', '▁berhenti', '▁berehat', '▁dan', '▁tidur', '▁sebentar', '▁sekiranya', '▁mengantuk', '▁ketika', '▁memandu', '▁', '.', '[SEP]']\n",
      "DEBUG:urllib3.connectionpool:Starting new HTTPS connection (1): f000.backblazeb2.com:443\n"
     ]
    },
    {
     "name": "stdout",
     "output_type": "stream",
     "text": [
      "[('KUALA', 'location'), ('LUMPUR', 'location'), (':', 'OTHER'), ('Sempena', 'OTHER'), ('sambutan', 'OTHER'), ('Aidilfitri', 'OTHER'), ('minggu', 'OTHER'), ('depan', 'OTHER'), (',', 'OTHER'), ('Perdana', 'person'), ('Menteri', 'person'), ('Tun', 'person'), ('Dr', 'person'), ('Mahathir', 'person'), ('Mohamad', 'person'), ('dan', 'OTHER'), ('Menteri', 'person'), ('Pengangkutan', 'person'), ('Anthony', 'person'), ('Loke', 'person'), ('Siew', 'person'), ('Fook', 'person'), ('menitipkan', 'OTHER'), ('pesanan', 'OTHER'), ('khas', 'OTHER'), ('kepada', 'OTHER'), ('orang', 'OTHER'), ('ramai', 'OTHER'), ('yang', 'OTHER'), ('mahu', 'OTHER'), ('pulang', 'OTHER'), ('ke', 'OTHER'), ('kampung', 'OTHER'), ('halaman', 'location'), ('masing-masing', 'OTHER'), ('.', 'OTHER'), ('Dalam', 'OTHER'), ('video', 'OTHER'), ('pendek', 'OTHER'), ('terbitan', 'OTHER'), ('Jabatan', 'organization'), ('Keselamatan', 'organization'), ('Jalan', 'organization'), ('Raya', 'organization'), ('(', 'organization'), ('JKJR', 'organization'), (')', 'organization'), ('itu', 'OTHER'), (',', 'OTHER'), ('Dr', 'person'), ('Mahathir', 'person'), ('menasihati', 'OTHER'), ('mereka', 'OTHER'), ('supaya', 'OTHER'), ('berhenti', 'OTHER'), ('berehat', 'OTHER'), ('dan', 'OTHER'), ('tidur', 'OTHER'), ('sebentar', 'OTHER'), ('sekiranya', 'OTHER'), ('mengantuk', 'OTHER'), ('ketika', 'OTHER'), ('memandu', 'OTHER'), ('.', 'OTHER')]\n",
      "[('memperkenalkan', 'OTHER'), ('Husein', 'person'), (',', 'OTHER'), ('dia', 'OTHER'), ('sangat', 'OTHER'), ('comel', 'OTHER'), (',', 'OTHER'), ('berumur', 'OTHER'), ('25', 'OTHER'), ('tahun', 'OTHER'), (',', 'OTHER'), ('bangsa', 'OTHER'), ('melayu', 'OTHER'), (',', 'OTHER'), ('agama', 'OTHER'), ('islam', 'person'), (',', 'OTHER'), ('tinggal', 'OTHER'), ('di', 'OTHER'), ('cyberjaya', 'location'), ('malaysia', 'location'), (',', 'OTHER'), ('bercakap', 'OTHER'), ('bahasa', 'OTHER'), ('melayu', 'OTHER'), (',', 'OTHER'), ('semua', 'OTHER'), ('membaca', 'OTHER'), ('buku', 'OTHER'), ('undang-undang', 'law'), ('kewangan', 'law'), (',', 'OTHER'), ('dengar', 'OTHER'), ('laju', 'OTHER'), ('Siti', 'person'), ('Nurhaliza', 'person'), ('-', 'OTHER'), ('Seluruh', 'OTHER'), ('Cinta', 'OTHER'), ('sambil', 'OTHER'), ('makan', 'OTHER'), ('ayam', 'OTHER'), ('goreng', 'OTHER'), ('KFC', 'location')]\n",
      "[{'text': ['KUALA', 'LUMPUR'], 'type': 'location', 'score': 1.0, 'beginOffset': 0, 'endOffset': 2}, {'text': [':', 'Sempena', 'sambutan', 'Aidilfitri', 'minggu', 'depan', ','], 'type': 'OTHER', 'score': 1.0, 'beginOffset': 2, 'endOffset': 9}, {'text': ['Perdana', 'Menteri', 'Tun', 'Dr', 'Mahathir', 'Mohamad'], 'type': 'person', 'score': 1.0, 'beginOffset': 9, 'endOffset': 15}, {'text': ['dan'], 'type': 'OTHER', 'score': 1.0, 'beginOffset': 15, 'endOffset': 16}, {'text': ['Menteri', 'Pengangkutan', 'Anthony', 'Loke', 'Siew', 'Fook'], 'type': 'person', 'score': 1.0, 'beginOffset': 16, 'endOffset': 22}, {'text': ['menitipkan', 'pesanan', 'khas', 'kepada', 'orang', 'ramai', 'yang', 'mahu', 'pulang', 'ke', 'kampung'], 'type': 'OTHER', 'score': 1.0, 'beginOffset': 22, 'endOffset': 33}, {'text': ['halaman'], 'type': 'location', 'score': 1.0, 'beginOffset': 33, 'endOffset': 34}, {'text': ['masing-masing', '.', 'Dalam', 'video', 'pendek', 'terbitan'], 'type': 'OTHER', 'score': 1.0, 'beginOffset': 34, 'endOffset': 40}, {'text': ['Jabatan', 'Keselamatan', 'Jalan', 'Raya', '(', 'JKJR', ')'], 'type': 'organization', 'score': 1.0, 'beginOffset': 40, 'endOffset': 47}, {'text': ['itu', ','], 'type': 'OTHER', 'score': 1.0, 'beginOffset': 47, 'endOffset': 49}, {'text': ['Dr', 'Mahathir'], 'type': 'person', 'score': 1.0, 'beginOffset': 49, 'endOffset': 51}, {'text': ['menasihati', 'mereka', 'supaya', 'berhenti', 'berehat', 'dan', 'tidur', 'sebentar', 'sekiranya', 'mengantuk', 'ketika', 'memandu', '.'], 'type': 'OTHER', 'score': 1.0, 'beginOffset': 51, 'endOffset': 64}]\n",
      "tiny-albert\n"
     ]
    },
    {
     "name": "stderr",
     "output_type": "stream",
     "text": [
      "DEBUG:urllib3.connectionpool:https://f000.backblazeb2.com:443 \"HEAD /file/malaya-model/entity/tiny-albert/model.pb HTTP/1.1\" 200 0\n",
      "DEBUG:urllib3.connectionpool:Starting new HTTPS connection (1): f000.backblazeb2.com:443\n",
      "DEBUG:urllib3.connectionpool:https://f000.backblazeb2.com:443 \"HEAD /file/malaya-model/bpe/sp10m.cased.v10.vocab HTTP/1.1\" 200 0\n",
      "DEBUG:urllib3.connectionpool:Starting new HTTPS connection (1): f000.backblazeb2.com:443\n",
      "DEBUG:urllib3.connectionpool:https://f000.backblazeb2.com:443 \"HEAD /file/malaya-model/bpe/sp10m.cased.v10.model HTTP/1.1\" 200 0\n",
      "DEBUG:urllib3.connectionpool:Starting new HTTPS connection (1): f000.backblazeb2.com:443\n",
      "DEBUG:urllib3.connectionpool:https://f000.backblazeb2.com:443 \"HEAD /file/malaya-model/setting/entities.json HTTP/1.1\" 200 0\n",
      "DEBUG:urllib3.connectionpool:Starting new HTTPS connection (1): f000.backblazeb2.com:443\n",
      "DEBUG:urllib3.connectionpool:https://f000.backblazeb2.com:443 \"HEAD /file/malaya-model/entity/tiny-albert/version HTTP/1.1\" 404 0\n",
      "DEBUG:urllib3.connectionpool:Starting new HTTPS connection (1): f000.backblazeb2.com:443\n"
     ]
    },
    {
     "name": "stdout",
     "output_type": "stream",
     "text": [
      "downloading frozen model to /home/ubuntu/Malaya/entity/tiny-albert/model.pb\n"
     ]
    },
    {
     "name": "stderr",
     "output_type": "stream",
     "text": [
      "DEBUG:urllib3.connectionpool:https://f000.backblazeb2.com:443 \"GET /file/malaya-model/entity/tiny-albert/model.pb HTTP/1.1\" 200 23503601\n",
      "23.0MB [00:04, 4.76MB/s]                          \n",
      "DEBUG:urllib3.connectionpool:Starting new HTTPS connection (1): f000.backblazeb2.com:443\n"
     ]
    },
    {
     "name": "stdout",
     "output_type": "stream",
     "text": [
      "downloading frozen vocab to /home/ubuntu/Malaya/entity/tiny-albert/sp10m.cased.v10.vocab\n"
     ]
    },
    {
     "name": "stderr",
     "output_type": "stream",
     "text": [
      "DEBUG:urllib3.connectionpool:https://f000.backblazeb2.com:443 \"GET /file/malaya-model/bpe/sp10m.cased.v10.vocab HTTP/1.1\" 200 569013\n",
      "184%|██████████| 1.00/0.54 [00:00<00:00, 1.03MB/s]\n",
      "DEBUG:urllib3.connectionpool:Starting new HTTPS connection (1): f000.backblazeb2.com:443\n"
     ]
    },
    {
     "name": "stdout",
     "output_type": "stream",
     "text": [
      "downloading frozen tokenizer to /home/ubuntu/Malaya/entity/tiny-albert/sp10m.cased.v10.model\n"
     ]
    },
    {
     "name": "stderr",
     "output_type": "stream",
     "text": [
      "DEBUG:urllib3.connectionpool:https://f000.backblazeb2.com:443 \"GET /file/malaya-model/bpe/sp10m.cased.v10.model HTTP/1.1\" 200 778641\n",
      "135%|██████████| 1.00/0.74 [00:00<00:00, 1.04MB/s]\n",
      "DEBUG:urllib3.connectionpool:Starting new HTTPS connection (1): f000.backblazeb2.com:443\n"
     ]
    },
    {
     "name": "stdout",
     "output_type": "stream",
     "text": [
      "downloading frozen setting to /home/ubuntu/Malaya/entity/tiny-albert/entities.json\n"
     ]
    },
    {
     "name": "stderr",
     "output_type": "stream",
     "text": [
      "DEBUG:urllib3.connectionpool:https://f000.backblazeb2.com:443 \"GET /file/malaya-model/setting/entities.json HTTP/1.1\" 200 917464\n",
      "114%|██████████| 1.00/0.87 [00:01<00:00, 1.03s/MB]\n",
      "INFO:root:running entity/tiny-albert using device /device:GPU:0\n",
      "2021-11-30 18:51:16.989023: I tensorflow/stream_executor/cuda/cuda_gpu_executor.cc:937] successful NUMA node read from SysFS had negative value (-1), but there must be at least one NUMA node, so returning NUMA node zero\n",
      "2021-11-30 18:51:16.989221: I tensorflow/core/common_runtime/gpu/gpu_device.cc:1733] Found device 0 with properties: \n",
      "pciBusID: 0000:01:00.0 name: GeForce RTX 3080 computeCapability: 8.6\n",
      "coreClock: 1.74GHz coreCount: 68 deviceMemorySize: 9.77GiB deviceMemoryBandwidth: 707.88GiB/s\n",
      "2021-11-30 18:51:16.989299: I tensorflow/stream_executor/cuda/cuda_gpu_executor.cc:937] successful NUMA node read from SysFS had negative value (-1), but there must be at least one NUMA node, so returning NUMA node zero\n",
      "2021-11-30 18:51:16.989482: I tensorflow/stream_executor/cuda/cuda_gpu_executor.cc:937] successful NUMA node read from SysFS had negative value (-1), but there must be at least one NUMA node, so returning NUMA node zero\n",
      "2021-11-30 18:51:16.989633: I tensorflow/core/common_runtime/gpu/gpu_device.cc:1871] Adding visible gpu devices: 0\n",
      "2021-11-30 18:51:16.989652: I tensorflow/core/common_runtime/gpu/gpu_device.cc:1258] Device interconnect StreamExecutor with strength 1 edge matrix:\n",
      "2021-11-30 18:51:16.989668: I tensorflow/core/common_runtime/gpu/gpu_device.cc:1264]      0 \n",
      "2021-11-30 18:51:16.989670: I tensorflow/core/common_runtime/gpu/gpu_device.cc:1277] 0:   N \n",
      "2021-11-30 18:51:16.989721: I tensorflow/stream_executor/cuda/cuda_gpu_executor.cc:937] successful NUMA node read from SysFS had negative value (-1), but there must be at least one NUMA node, so returning NUMA node zero\n",
      "2021-11-30 18:51:16.989941: I tensorflow/stream_executor/cuda/cuda_gpu_executor.cc:937] successful NUMA node read from SysFS had negative value (-1), but there must be at least one NUMA node, so returning NUMA node zero\n",
      "2021-11-30 18:51:16.990098: I tensorflow/core/common_runtime/gpu/gpu_device.cc:1418] Created TensorFlow device (/job:localhost/replica:0/task:0/device:GPU:0 with 7882 MB memory) -> physical GPU (device: 0, name: GeForce RTX 3080, pci bus id: 0000:01:00.0, compute capability: 8.6)\n",
      "DEBUG:root:['[CLS]', '▁KUALA', '▁LUMPUR', '▁:', '▁Sempena', '▁sambutan', '▁Aidilfitri', '▁minggu', '▁depan', '▁,', '▁Perdana', '▁Menteri', '▁Tun', '▁Dr', '▁Mahathir', '▁Mohamad', '▁dan', '▁Menteri', '▁Pengangkutan', '▁Anthony', '▁Loke', '▁Siew', '▁Fook', '▁menit', 'ip', 'kan', '▁pesanan', '▁khas', '▁kepada', '▁orang', '▁ramai', '▁yang', '▁mahu', '▁pulang', '▁ke', '▁kampung', '▁halaman', '▁masing', '-', 'masing', '▁', '.', '▁Dalam', '▁video', '▁pendek', '▁terbitan', '▁Jabatan', '▁Keselamatan', '▁Jalan', '▁Raya', '▁', '(', '▁', 'JK', 'JR', '▁', ')', '▁itu', '▁,', '▁Dr', '▁Mahathir', '▁menasihati', '▁mereka', '▁supaya', '▁berhenti', '▁berehat', '▁dan', '▁tidur', '▁sebentar', '▁sekiranya', '▁mengantuk', '▁ketika', '▁memandu', '▁', '.', '[SEP]']\n",
      "DEBUG:root:['[CLS]', '▁memperkenalkan', '▁Hu', 'se', 'in', '▁,', '▁dia', '▁sangat', '▁comel', '▁,', '▁berumur', '▁25', '▁tahun', '▁,', '▁bangsa', '▁melayu', '▁,', '▁agama', '▁islam', '▁,', '▁tinggal', '▁di', '▁cyberjaya', '▁malaysia', '▁,', '▁bercakap', '▁bahasa', '▁melayu', '▁,', '▁semua', '▁membaca', '▁buku', '▁undang', '-', 'undang', '▁kewangan', '▁,', '▁dengar', '▁laju', '▁Siti', '▁Nurhaliza', '▁', '-', '▁Seluruh', '▁Cinta', '▁sambil', '▁makan', '▁ayam', '▁goreng', '▁KFC', '[SEP]']\n",
      "DEBUG:root:['[CLS]', '▁KUALA', '▁LUMPUR', '▁:', '▁Sempena', '▁sambutan', '▁Aidilfitri', '▁minggu', '▁depan', '▁,', '▁Perdana', '▁Menteri', '▁Tun', '▁Dr', '▁Mahathir', '▁Mohamad', '▁dan', '▁Menteri', '▁Pengangkutan', '▁Anthony', '▁Loke', '▁Siew', '▁Fook', '▁menit', 'ip', 'kan', '▁pesanan', '▁khas', '▁kepada', '▁orang', '▁ramai', '▁yang', '▁mahu', '▁pulang', '▁ke', '▁kampung', '▁halaman', '▁masing', '-', 'masing', '▁', '.', '▁Dalam', '▁video', '▁pendek', '▁terbitan', '▁Jabatan', '▁Keselamatan', '▁Jalan', '▁Raya', '▁', '(', '▁', 'JK', 'JR', '▁', ')', '▁itu', '▁,', '▁Dr', '▁Mahathir', '▁menasihati', '▁mereka', '▁supaya', '▁berhenti', '▁berehat', '▁dan', '▁tidur', '▁sebentar', '▁sekiranya', '▁mengantuk', '▁ketika', '▁memandu', '▁', '.', '[SEP]']\n",
      "DEBUG:urllib3.connectionpool:Starting new HTTPS connection (1): f000.backblazeb2.com:443\n"
     ]
    },
    {
     "name": "stdout",
     "output_type": "stream",
     "text": [
      "[('KUALA', 'location'), ('LUMPUR', 'location'), (':', 'X'), ('Sempena', 'OTHER'), ('sambutan', 'OTHER'), ('Aidilfitri', 'event'), ('minggu', 'time'), ('depan', 'time'), (',', 'OTHER'), ('Perdana', 'person'), ('Menteri', 'person'), ('Tun', 'person'), ('Dr', 'person'), ('Mahathir', 'person'), ('Mohamad', 'person'), ('dan', 'OTHER'), ('Menteri', 'organization'), ('Pengangkutan', 'organization'), ('Anthony', 'person'), ('Loke', 'person'), ('Siew', 'person'), ('Fook', 'person'), ('menitipkan', 'OTHER'), ('pesanan', 'OTHER'), ('khas', 'OTHER'), ('kepada', 'OTHER'), ('orang', 'OTHER'), ('ramai', 'OTHER'), ('yang', 'OTHER'), ('mahu', 'OTHER'), ('pulang', 'OTHER'), ('ke', 'OTHER'), ('kampung', 'OTHER'), ('halaman', 'OTHER'), ('masing-masing', 'OTHER'), ('.', 'OTHER'), ('Dalam', 'OTHER'), ('video', 'OTHER'), ('pendek', 'OTHER'), ('terbitan', 'OTHER'), ('Jabatan', 'organization'), ('Keselamatan', 'organization'), ('Jalan', 'organization'), ('Raya', 'organization'), ('(', 'organization'), ('JKJR', 'organization'), (')', 'organization'), ('itu', 'OTHER'), (',', 'OTHER'), ('Dr', 'person'), ('Mahathir', 'person'), ('menasihati', 'OTHER'), ('mereka', 'OTHER'), ('supaya', 'OTHER'), ('berhenti', 'OTHER'), ('berehat', 'OTHER'), ('dan', 'OTHER'), ('tidur', 'OTHER'), ('sebentar', 'OTHER'), ('sekiranya', 'OTHER'), ('mengantuk', 'OTHER'), ('ketika', 'OTHER'), ('memandu', 'OTHER'), ('.', 'OTHER')]\n",
      "[('memperkenalkan', 'OTHER'), ('Husein', 'person'), (',', 'OTHER'), ('dia', 'OTHER'), ('sangat', 'OTHER'), ('comel', 'OTHER'), (',', 'OTHER'), ('berumur', 'OTHER'), ('25', 'time'), ('tahun', 'time'), (',', 'OTHER'), ('bangsa', 'OTHER'), ('melayu', 'OTHER'), (',', 'OTHER'), ('agama', 'OTHER'), ('islam', 'OTHER'), (',', 'OTHER'), ('tinggal', 'OTHER'), ('di', 'OTHER'), ('cyberjaya', 'location'), ('malaysia', 'location'), (',', 'OTHER'), ('bercakap', 'OTHER'), ('bahasa', 'OTHER'), ('melayu', 'person'), (',', 'OTHER'), ('semua', 'OTHER'), ('membaca', 'OTHER'), ('buku', 'OTHER'), ('undang-undang', 'OTHER'), ('kewangan', 'OTHER'), (',', 'OTHER'), ('dengar', 'OTHER'), ('laju', 'OTHER'), ('Siti', 'person'), ('Nurhaliza', 'person'), ('-', 'OTHER'), ('Seluruh', 'OTHER'), ('Cinta', 'organization'), ('sambil', 'OTHER'), ('makan', 'OTHER'), ('ayam', 'person'), ('goreng', 'person'), ('KFC', 'person')]\n",
      "[{'text': ['KUALA', 'LUMPUR'], 'type': 'location', 'score': 1.0, 'beginOffset': 0, 'endOffset': 2}, {'text': [':'], 'type': 'X', 'score': 1.0, 'beginOffset': 2, 'endOffset': 3}, {'text': ['Sempena', 'sambutan'], 'type': 'OTHER', 'score': 1.0, 'beginOffset': 3, 'endOffset': 5}, {'text': ['Aidilfitri'], 'type': 'event', 'score': 1.0, 'beginOffset': 5, 'endOffset': 6}, {'text': ['minggu', 'depan'], 'type': 'time', 'score': 1.0, 'beginOffset': 6, 'endOffset': 8}, {'text': [','], 'type': 'OTHER', 'score': 1.0, 'beginOffset': 8, 'endOffset': 9}, {'text': ['Perdana', 'Menteri', 'Tun', 'Dr', 'Mahathir', 'Mohamad'], 'type': 'person', 'score': 1.0, 'beginOffset': 9, 'endOffset': 15}, {'text': ['dan'], 'type': 'OTHER', 'score': 1.0, 'beginOffset': 15, 'endOffset': 16}, {'text': ['Menteri', 'Pengangkutan'], 'type': 'organization', 'score': 1.0, 'beginOffset': 16, 'endOffset': 18}, {'text': ['Anthony', 'Loke', 'Siew', 'Fook'], 'type': 'person', 'score': 1.0, 'beginOffset': 18, 'endOffset': 22}, {'text': ['menitipkan', 'pesanan', 'khas', 'kepada', 'orang', 'ramai', 'yang', 'mahu', 'pulang', 'ke', 'kampung', 'halaman', 'masing-masing', '.', 'Dalam', 'video', 'pendek', 'terbitan'], 'type': 'OTHER', 'score': 1.0, 'beginOffset': 22, 'endOffset': 40}, {'text': ['Jabatan', 'Keselamatan', 'Jalan', 'Raya', '(', 'JKJR', ')'], 'type': 'organization', 'score': 1.0, 'beginOffset': 40, 'endOffset': 47}, {'text': ['itu', ','], 'type': 'OTHER', 'score': 1.0, 'beginOffset': 47, 'endOffset': 49}, {'text': ['Dr', 'Mahathir'], 'type': 'person', 'score': 1.0, 'beginOffset': 49, 'endOffset': 51}, {'text': ['menasihati', 'mereka', 'supaya', 'berhenti', 'berehat', 'dan', 'tidur', 'sebentar', 'sekiranya', 'mengantuk', 'ketika', 'memandu', '.'], 'type': 'OTHER', 'score': 1.0, 'beginOffset': 51, 'endOffset': 64}]\n",
      "xlnet\n"
     ]
    },
    {
     "name": "stderr",
     "output_type": "stream",
     "text": [
      "DEBUG:urllib3.connectionpool:https://f000.backblazeb2.com:443 \"HEAD /file/malaya-model/entity/xlnet/model.pb HTTP/1.1\" 200 0\n",
      "DEBUG:urllib3.connectionpool:Starting new HTTPS connection (1): f000.backblazeb2.com:443\n",
      "DEBUG:urllib3.connectionpool:https://f000.backblazeb2.com:443 \"HEAD /file/malaya-model/bpe/sp10m.cased.v9.vocab HTTP/1.1\" 200 0\n",
      "DEBUG:urllib3.connectionpool:Starting new HTTPS connection (1): f000.backblazeb2.com:443\n",
      "DEBUG:urllib3.connectionpool:https://f000.backblazeb2.com:443 \"HEAD /file/malaya-model/bpe/sp10m.cased.v9.model HTTP/1.1\" 200 0\n",
      "DEBUG:urllib3.connectionpool:Starting new HTTPS connection (1): f000.backblazeb2.com:443\n",
      "DEBUG:urllib3.connectionpool:https://f000.backblazeb2.com:443 \"HEAD /file/malaya-model/setting/entities.json HTTP/1.1\" 200 0\n",
      "DEBUG:urllib3.connectionpool:Starting new HTTPS connection (1): f000.backblazeb2.com:443\n",
      "DEBUG:urllib3.connectionpool:https://f000.backblazeb2.com:443 \"HEAD /file/malaya-model/entity/xlnet/version HTTP/1.1\" 404 0\n",
      "DEBUG:urllib3.connectionpool:Starting new HTTPS connection (1): f000.backblazeb2.com:443\n"
     ]
    },
    {
     "name": "stdout",
     "output_type": "stream",
     "text": [
      "downloading frozen model to /home/ubuntu/Malaya/entity/xlnet/model.pb\n"
     ]
    },
    {
     "name": "stderr",
     "output_type": "stream",
     "text": [
      "DEBUG:urllib3.connectionpool:https://f000.backblazeb2.com:443 \"GET /file/malaya-model/entity/xlnet/model.pb HTTP/1.1\" 200 468245709\n",
      "100%|██████████| 447/447 [01:16<00:00, 5.82MB/s] \n",
      "DEBUG:urllib3.connectionpool:Starting new HTTPS connection (1): f000.backblazeb2.com:443\n"
     ]
    },
    {
     "name": "stdout",
     "output_type": "stream",
     "text": [
      "downloading frozen vocab to /home/ubuntu/Malaya/entity/xlnet/sp10m.cased.v9.vocab\n"
     ]
    },
    {
     "name": "stderr",
     "output_type": "stream",
     "text": [
      "DEBUG:urllib3.connectionpool:https://f000.backblazeb2.com:443 \"GET /file/malaya-model/bpe/sp10m.cased.v9.vocab HTTP/1.1\" 200 568997\n",
      "184%|██████████| 1.00/0.54 [00:00<00:00, 1.28MB/s]\n",
      "DEBUG:urllib3.connectionpool:Starting new HTTPS connection (1): f000.backblazeb2.com:443\n"
     ]
    },
    {
     "name": "stdout",
     "output_type": "stream",
     "text": [
      "downloading frozen tokenizer to /home/ubuntu/Malaya/entity/xlnet/sp10m.cased.v9.model\n"
     ]
    },
    {
     "name": "stderr",
     "output_type": "stream",
     "text": [
      "DEBUG:urllib3.connectionpool:https://f000.backblazeb2.com:443 \"GET /file/malaya-model/bpe/sp10m.cased.v9.model HTTP/1.1\" 200 778744\n",
      "135%|██████████| 1.00/0.74 [00:00<00:00, 1.02MB/s]\n",
      "DEBUG:urllib3.connectionpool:Starting new HTTPS connection (1): f000.backblazeb2.com:443\n"
     ]
    },
    {
     "name": "stdout",
     "output_type": "stream",
     "text": [
      "downloading frozen setting to /home/ubuntu/Malaya/entity/xlnet/entities.json\n"
     ]
    },
    {
     "name": "stderr",
     "output_type": "stream",
     "text": [
      "DEBUG:urllib3.connectionpool:https://f000.backblazeb2.com:443 \"GET /file/malaya-model/setting/entities.json HTTP/1.1\" 200 917464\n",
      "114%|██████████| 1.00/0.87 [00:00<00:00, 1.01MB/s]\n",
      "INFO:root:running entity/xlnet using device /device:GPU:0\n",
      "2021-11-30 18:52:47.480695: I tensorflow/stream_executor/cuda/cuda_gpu_executor.cc:937] successful NUMA node read from SysFS had negative value (-1), but there must be at least one NUMA node, so returning NUMA node zero\n",
      "2021-11-30 18:52:47.480910: I tensorflow/core/common_runtime/gpu/gpu_device.cc:1733] Found device 0 with properties: \n",
      "pciBusID: 0000:01:00.0 name: GeForce RTX 3080 computeCapability: 8.6\n",
      "coreClock: 1.74GHz coreCount: 68 deviceMemorySize: 9.77GiB deviceMemoryBandwidth: 707.88GiB/s\n",
      "2021-11-30 18:52:47.480991: I tensorflow/stream_executor/cuda/cuda_gpu_executor.cc:937] successful NUMA node read from SysFS had negative value (-1), but there must be at least one NUMA node, so returning NUMA node zero\n",
      "2021-11-30 18:52:47.481232: I tensorflow/stream_executor/cuda/cuda_gpu_executor.cc:937] successful NUMA node read from SysFS had negative value (-1), but there must be at least one NUMA node, so returning NUMA node zero\n",
      "2021-11-30 18:52:47.481394: I tensorflow/core/common_runtime/gpu/gpu_device.cc:1871] Adding visible gpu devices: 0\n",
      "2021-11-30 18:52:47.481421: I tensorflow/core/common_runtime/gpu/gpu_device.cc:1258] Device interconnect StreamExecutor with strength 1 edge matrix:\n",
      "2021-11-30 18:52:47.481424: I tensorflow/core/common_runtime/gpu/gpu_device.cc:1264]      0 \n",
      "2021-11-30 18:52:47.481426: I tensorflow/core/common_runtime/gpu/gpu_device.cc:1277] 0:   N \n",
      "2021-11-30 18:52:47.481488: I tensorflow/stream_executor/cuda/cuda_gpu_executor.cc:937] successful NUMA node read from SysFS had negative value (-1), but there must be at least one NUMA node, so returning NUMA node zero\n",
      "2021-11-30 18:52:47.481694: I tensorflow/stream_executor/cuda/cuda_gpu_executor.cc:937] successful NUMA node read from SysFS had negative value (-1), but there must be at least one NUMA node, so returning NUMA node zero\n",
      "2021-11-30 18:52:47.481873: I tensorflow/core/common_runtime/gpu/gpu_device.cc:1418] Created TensorFlow device (/job:localhost/replica:0/task:0/device:GPU:0 with 7882 MB memory) -> physical GPU (device: 0, name: GeForce RTX 3080, pci bus id: 0000:01:00.0, compute capability: 8.6)\n",
      "DEBUG:root:['▁KUALA', '▁LUMPUR', '▁:', '▁Sempena', '▁sambutan', '▁Aidilfitri', '▁minggu', '▁depan', '▁,', '▁Perdana', '▁Menteri', '▁Tun', '▁Dr', '▁Mahathir', '▁Mohamad', '▁dan', '▁Menteri', '▁Pengangkutan', '▁Anthony', '▁Loke', '▁Siew', '▁Fook', '▁menit', 'ip', 'kan', '▁pesanan', '▁khas', '▁kepada', '▁orang', '▁ramai', '▁yang', '▁mahu', '▁pulang', '▁ke', '▁kampung', '▁halaman', '▁masing', '-', 'masing', '▁', '.', '▁Dalam', '▁video', '▁pendek', '▁terbitan', '▁Jabatan', '▁Keselamatan', '▁Jalan', '▁Raya', '▁', '(', '▁', 'JK', 'JR', '▁', ')', '▁itu', '▁,', '▁Dr', '▁Mahathir', '▁menasihati', '▁mereka', '▁supaya', '▁berhenti', '▁berehat', '▁dan', '▁tidur', '▁sebentar', '▁sekiranya', '▁mengantuk', '▁ketika', '▁memandu', '▁', '.']\n",
      "DEBUG:root:[2208, 2516, 29, 13383, 4541, 3419, 758, 314, 20, 685, 247, 806, 383, 1096, 1515, 24, 247, 5605, 13893, 14089, 20774, 27736, 2340, 4700, 37, 4856, 1492, 72, 50, 396, 22, 943, 863, 32, 552, 5119, 1077, 13, 1384, 19, 9, 341, 596, 2449, 13974, 871, 5427, 708, 688, 19, 10, 19, 4710, 22348, 19, 11, 41, 20, 383, 1096, 21767, 88, 757, 1606, 15738, 24, 198, 4049, 2479, 7529, 271, 7644, 19, 9, 4, 3]\n",
      "DEBUG:root:['▁memperkenalkan', '▁Hu', 'se', 'in', '▁,', '▁dia', '▁sangat', '▁comel', '▁,', '▁berumur', '▁25', '▁tahun', '▁,', '▁bangsa', '▁melayu', '▁,', '▁agama', '▁islam', '▁,', '▁tinggal', '▁di', '▁cyberjaya', '▁malaysia', '▁,', '▁bercakap', '▁bahasa', '▁melayu', '▁,', '▁semua', '▁membaca', '▁buku', '▁undang', '-', 'undang', '▁kewangan', '▁,', '▁dengar', '▁laju', '▁Siti', '▁Nurhaliza', '▁', '-', '▁Seluruh', '▁Cinta', '▁sambil', '▁makan', '▁ayam', '▁goreng', '▁KFC']\n",
      "DEBUG:root:[4995, 2135, 372, 59, 20, 42, 150, 2698, 20, 4580, 1145, 73, 20, 1534, 1255, 20, 523, 2066, 20, 634, 23, 30431, 1836, 20, 3824, 645, 1255, 20, 86, 1524, 598, 1722, 13, 998, 1662, 20, 1147, 2620, 3123, 21002, 19, 13, 8671, 2760, 595, 131, 638, 952, 7621, 4, 3]\n",
      "DEBUG:root:['▁KUALA', '▁LUMPUR', '▁:', '▁Sempena', '▁sambutan', '▁Aidilfitri', '▁minggu', '▁depan', '▁,', '▁Perdana', '▁Menteri', '▁Tun', '▁Dr', '▁Mahathir', '▁Mohamad', '▁dan', '▁Menteri', '▁Pengangkutan', '▁Anthony', '▁Loke', '▁Siew', '▁Fook', '▁menit', 'ip', 'kan', '▁pesanan', '▁khas', '▁kepada', '▁orang', '▁ramai', '▁yang', '▁mahu', '▁pulang', '▁ke', '▁kampung', '▁halaman', '▁masing', '-', 'masing', '▁', '.', '▁Dalam', '▁video', '▁pendek', '▁terbitan', '▁Jabatan', '▁Keselamatan', '▁Jalan', '▁Raya', '▁', '(', '▁', 'JK', 'JR', '▁', ')', '▁itu', '▁,', '▁Dr', '▁Mahathir', '▁menasihati', '▁mereka', '▁supaya', '▁berhenti', '▁berehat', '▁dan', '▁tidur', '▁sebentar', '▁sekiranya', '▁mengantuk', '▁ketika', '▁memandu', '▁', '.']\n",
      "DEBUG:root:[2208, 2516, 29, 13383, 4541, 3419, 758, 314, 20, 685, 247, 806, 383, 1096, 1515, 24, 247, 5605, 13893, 14089, 20774, 27736, 2340, 4700, 37, 4856, 1492, 72, 50, 396, 22, 943, 863, 32, 552, 5119, 1077, 13, 1384, 19, 9, 341, 596, 2449, 13974, 871, 5427, 708, 688, 19, 10, 19, 4710, 22348, 19, 11, 41, 20, 383, 1096, 21767, 88, 757, 1606, 15738, 24, 198, 4049, 2479, 7529, 271, 7644, 19, 9, 4, 3]\n",
      "DEBUG:urllib3.connectionpool:Starting new HTTPS connection (1): f000.backblazeb2.com:443\n"
     ]
    },
    {
     "name": "stdout",
     "output_type": "stream",
     "text": [
      "[('KUALA', 'location'), ('LUMPUR', 'location'), (':', 'OTHER'), ('Sempena', 'OTHER'), ('sambutan', 'event'), ('Aidilfitri', 'event'), ('minggu', 'OTHER'), ('depan', 'OTHER'), (',', 'OTHER'), ('Perdana', 'person'), ('Menteri', 'person'), ('Tun', 'person'), ('Dr', 'person'), ('Mahathir', 'person'), ('Mohamad', 'person'), ('dan', 'OTHER'), ('Menteri', 'organization'), ('Pengangkutan', 'organization'), ('Anthony', 'person'), ('Loke', 'person'), ('Siew', 'person'), ('Fook', 'person'), ('menitipkan', 'OTHER'), ('pesanan', 'OTHER'), ('khas', 'OTHER'), ('kepada', 'OTHER'), ('orang', 'OTHER'), ('ramai', 'OTHER'), ('yang', 'OTHER'), ('mahu', 'OTHER'), ('pulang', 'OTHER'), ('ke', 'OTHER'), ('kampung', 'OTHER'), ('halaman', 'OTHER'), ('masing-masing', 'OTHER'), ('.', 'OTHER'), ('Dalam', 'OTHER'), ('video', 'OTHER'), ('pendek', 'OTHER'), ('terbitan', 'OTHER'), ('Jabatan', 'organization'), ('Keselamatan', 'organization'), ('Jalan', 'organization'), ('Raya', 'organization'), ('(', 'organization'), ('JKJR', 'organization'), (')', 'organization'), ('itu', 'OTHER'), (',', 'OTHER'), ('Dr', 'person'), ('Mahathir', 'person'), ('menasihati', 'OTHER'), ('mereka', 'OTHER'), ('supaya', 'OTHER'), ('berhenti', 'OTHER'), ('berehat', 'OTHER'), ('dan', 'OTHER'), ('tidur', 'OTHER'), ('sebentar', 'OTHER'), ('sekiranya', 'OTHER'), ('mengantuk', 'OTHER'), ('ketika', 'OTHER'), ('memandu', 'OTHER'), ('.', 'OTHER')]\n",
      "[('memperkenalkan', 'OTHER'), ('Husein', 'person'), (',', 'OTHER'), ('dia', 'OTHER'), ('sangat', 'OTHER'), ('comel', 'OTHER'), (',', 'OTHER'), ('berumur', 'time'), ('25', 'time'), ('tahun', 'time'), (',', 'OTHER'), ('bangsa', 'OTHER'), ('melayu', 'person'), (',', 'OTHER'), ('agama', 'person'), ('islam', 'person'), (',', 'OTHER'), ('tinggal', 'OTHER'), ('di', 'OTHER'), ('cyberjaya', 'location'), ('malaysia', 'location'), (',', 'OTHER'), ('bercakap', 'OTHER'), ('bahasa', 'OTHER'), ('melayu', 'person'), (',', 'OTHER'), ('semua', 'OTHER'), ('membaca', 'OTHER'), ('buku', 'OTHER'), ('undang-undang', 'OTHER'), ('kewangan', 'OTHER'), (',', 'OTHER'), ('dengar', 'OTHER'), ('laju', 'OTHER'), ('Siti', 'person'), ('Nurhaliza', 'person'), ('-', 'OTHER'), ('Seluruh', 'person'), ('Cinta', 'OTHER'), ('sambil', 'OTHER'), ('makan', 'OTHER'), ('ayam', 'OTHER'), ('goreng', 'OTHER'), ('KFC', 'OTHER')]\n",
      "[{'text': ['KUALA', 'LUMPUR'], 'type': 'location', 'score': 1.0, 'beginOffset': 0, 'endOffset': 2}, {'text': [':', 'Sempena', 'sambutan'], 'type': 'OTHER', 'score': 1.0, 'beginOffset': 2, 'endOffset': 5}, {'text': ['Aidilfitri'], 'type': 'event', 'score': 1.0, 'beginOffset': 5, 'endOffset': 6}, {'text': ['minggu', 'depan', ','], 'type': 'OTHER', 'score': 1.0, 'beginOffset': 6, 'endOffset': 9}, {'text': ['Perdana', 'Menteri', 'Tun', 'Dr', 'Mahathir', 'Mohamad'], 'type': 'person', 'score': 1.0, 'beginOffset': 9, 'endOffset': 15}, {'text': ['dan'], 'type': 'OTHER', 'score': 1.0, 'beginOffset': 15, 'endOffset': 16}, {'text': ['Menteri', 'Pengangkutan'], 'type': 'organization', 'score': 1.0, 'beginOffset': 16, 'endOffset': 18}, {'text': ['Anthony', 'Loke', 'Siew', 'Fook'], 'type': 'person', 'score': 1.0, 'beginOffset': 18, 'endOffset': 22}, {'text': ['menitipkan', 'pesanan', 'khas', 'kepada', 'orang', 'ramai', 'yang', 'mahu', 'pulang', 'ke', 'kampung'], 'type': 'OTHER', 'score': 1.0, 'beginOffset': 22, 'endOffset': 33}, {'text': ['halaman'], 'type': 'organization', 'score': 1.0, 'beginOffset': 33, 'endOffset': 34}, {'text': ['masing-masing', '.', 'Dalam', 'video', 'pendek', 'terbitan'], 'type': 'OTHER', 'score': 1.0, 'beginOffset': 34, 'endOffset': 40}, {'text': ['Jabatan', 'Keselamatan', 'Jalan', 'Raya', '(', 'JKJR', ')'], 'type': 'organization', 'score': 1.0, 'beginOffset': 40, 'endOffset': 47}, {'text': ['itu', ','], 'type': 'OTHER', 'score': 1.0, 'beginOffset': 47, 'endOffset': 49}, {'text': ['Dr', 'Mahathir'], 'type': 'person', 'score': 1.0, 'beginOffset': 49, 'endOffset': 51}, {'text': ['menasihati', 'mereka', 'supaya', 'berhenti', 'berehat', 'dan', 'tidur', 'sebentar', 'sekiranya', 'mengantuk', 'ketika', 'memandu', '.'], 'type': 'OTHER', 'score': 1.0, 'beginOffset': 51, 'endOffset': 64}]\n",
      "alxlnet\n"
     ]
    },
    {
     "name": "stderr",
     "output_type": "stream",
     "text": [
      "DEBUG:urllib3.connectionpool:https://f000.backblazeb2.com:443 \"HEAD /file/malaya-model/entity/alxlnet/model.pb HTTP/1.1\" 200 0\n",
      "DEBUG:urllib3.connectionpool:Starting new HTTPS connection (1): f000.backblazeb2.com:443\n",
      "DEBUG:urllib3.connectionpool:https://f000.backblazeb2.com:443 \"HEAD /file/malaya-model/bpe/sp10m.cased.v9.vocab HTTP/1.1\" 200 0\n",
      "DEBUG:urllib3.connectionpool:Starting new HTTPS connection (1): f000.backblazeb2.com:443\n",
      "DEBUG:urllib3.connectionpool:https://f000.backblazeb2.com:443 \"HEAD /file/malaya-model/bpe/sp10m.cased.v9.model HTTP/1.1\" 200 0\n",
      "DEBUG:urllib3.connectionpool:Starting new HTTPS connection (1): f000.backblazeb2.com:443\n",
      "DEBUG:urllib3.connectionpool:https://f000.backblazeb2.com:443 \"HEAD /file/malaya-model/setting/entities.json HTTP/1.1\" 200 0\n",
      "DEBUG:urllib3.connectionpool:Starting new HTTPS connection (1): f000.backblazeb2.com:443\n",
      "DEBUG:urllib3.connectionpool:https://f000.backblazeb2.com:443 \"HEAD /file/malaya-model/entity/alxlnet/version HTTP/1.1\" 404 0\n",
      "DEBUG:urllib3.connectionpool:Starting new HTTPS connection (1): f000.backblazeb2.com:443\n"
     ]
    },
    {
     "name": "stdout",
     "output_type": "stream",
     "text": [
      "downloading frozen model to /home/ubuntu/Malaya/entity/alxlnet/model.pb\n"
     ]
    },
    {
     "name": "stderr",
     "output_type": "stream",
     "text": [
      "DEBUG:urllib3.connectionpool:https://f000.backblazeb2.com:443 \"GET /file/malaya-model/entity/alxlnet/model.pb HTTP/1.1\" 200 49100365\n",
      "100%|██████████| 47.0/46.8 [00:07<00:00, 5.98MB/s]\n",
      "DEBUG:urllib3.connectionpool:Starting new HTTPS connection (1): f000.backblazeb2.com:443\n"
     ]
    },
    {
     "name": "stdout",
     "output_type": "stream",
     "text": [
      "downloading frozen vocab to /home/ubuntu/Malaya/entity/alxlnet/sp10m.cased.v9.vocab\n"
     ]
    },
    {
     "name": "stderr",
     "output_type": "stream",
     "text": [
      "DEBUG:urllib3.connectionpool:https://f000.backblazeb2.com:443 \"GET /file/malaya-model/bpe/sp10m.cased.v9.vocab HTTP/1.1\" 200 568997\n",
      "184%|██████████| 1.00/0.54 [00:00<00:00, 1.21MB/s]\n",
      "DEBUG:urllib3.connectionpool:Starting new HTTPS connection (1): f000.backblazeb2.com:443\n"
     ]
    },
    {
     "name": "stdout",
     "output_type": "stream",
     "text": [
      "downloading frozen tokenizer to /home/ubuntu/Malaya/entity/alxlnet/sp10m.cased.v9.model\n"
     ]
    },
    {
     "name": "stderr",
     "output_type": "stream",
     "text": [
      "DEBUG:urllib3.connectionpool:https://f000.backblazeb2.com:443 \"GET /file/malaya-model/bpe/sp10m.cased.v9.model HTTP/1.1\" 200 778744\n",
      "135%|██████████| 1.00/0.74 [00:00<00:00, 1.01MB/s]\n",
      "DEBUG:urllib3.connectionpool:Starting new HTTPS connection (1): f000.backblazeb2.com:443\n"
     ]
    },
    {
     "name": "stdout",
     "output_type": "stream",
     "text": [
      "downloading frozen setting to /home/ubuntu/Malaya/entity/alxlnet/entities.json\n"
     ]
    },
    {
     "name": "stderr",
     "output_type": "stream",
     "text": [
      "DEBUG:urllib3.connectionpool:https://f000.backblazeb2.com:443 \"GET /file/malaya-model/setting/entities.json HTTP/1.1\" 200 917464\n",
      "114%|██████████| 1.00/0.87 [00:00<00:00, 1.00MB/s]\n",
      "INFO:root:running entity/alxlnet using device /device:GPU:0\n",
      "2021-11-30 18:53:10.271815: I tensorflow/stream_executor/cuda/cuda_gpu_executor.cc:937] successful NUMA node read from SysFS had negative value (-1), but there must be at least one NUMA node, so returning NUMA node zero\n",
      "2021-11-30 18:53:10.272017: I tensorflow/core/common_runtime/gpu/gpu_device.cc:1733] Found device 0 with properties: \n",
      "pciBusID: 0000:01:00.0 name: GeForce RTX 3080 computeCapability: 8.6\n",
      "coreClock: 1.74GHz coreCount: 68 deviceMemorySize: 9.77GiB deviceMemoryBandwidth: 707.88GiB/s\n",
      "2021-11-30 18:53:10.272106: I tensorflow/stream_executor/cuda/cuda_gpu_executor.cc:937] successful NUMA node read from SysFS had negative value (-1), but there must be at least one NUMA node, so returning NUMA node zero\n",
      "2021-11-30 18:53:10.272294: I tensorflow/stream_executor/cuda/cuda_gpu_executor.cc:937] successful NUMA node read from SysFS had negative value (-1), but there must be at least one NUMA node, so returning NUMA node zero\n",
      "2021-11-30 18:53:10.272480: I tensorflow/core/common_runtime/gpu/gpu_device.cc:1871] Adding visible gpu devices: 0\n",
      "2021-11-30 18:53:10.272500: I tensorflow/core/common_runtime/gpu/gpu_device.cc:1258] Device interconnect StreamExecutor with strength 1 edge matrix:\n",
      "2021-11-30 18:53:10.272503: I tensorflow/core/common_runtime/gpu/gpu_device.cc:1264]      0 \n",
      "2021-11-30 18:53:10.272506: I tensorflow/core/common_runtime/gpu/gpu_device.cc:1277] 0:   N \n",
      "2021-11-30 18:53:10.272563: I tensorflow/stream_executor/cuda/cuda_gpu_executor.cc:937] successful NUMA node read from SysFS had negative value (-1), but there must be at least one NUMA node, so returning NUMA node zero\n",
      "2021-11-30 18:53:10.272745: I tensorflow/stream_executor/cuda/cuda_gpu_executor.cc:937] successful NUMA node read from SysFS had negative value (-1), but there must be at least one NUMA node, so returning NUMA node zero\n",
      "2021-11-30 18:53:10.272899: I tensorflow/core/common_runtime/gpu/gpu_device.cc:1418] Created TensorFlow device (/job:localhost/replica:0/task:0/device:GPU:0 with 7882 MB memory) -> physical GPU (device: 0, name: GeForce RTX 3080, pci bus id: 0000:01:00.0, compute capability: 8.6)\n",
      "DEBUG:root:['▁KUALA', '▁LUMPUR', '▁:', '▁Sempena', '▁sambutan', '▁Aidilfitri', '▁minggu', '▁depan', '▁,', '▁Perdana', '▁Menteri', '▁Tun', '▁Dr', '▁Mahathir', '▁Mohamad', '▁dan', '▁Menteri', '▁Pengangkutan', '▁Anthony', '▁Loke', '▁Siew', '▁Fook', '▁menit', 'ip', 'kan', '▁pesanan', '▁khas', '▁kepada', '▁orang', '▁ramai', '▁yang', '▁mahu', '▁pulang', '▁ke', '▁kampung', '▁halaman', '▁masing', '-', 'masing', '▁', '.', '▁Dalam', '▁video', '▁pendek', '▁terbitan', '▁Jabatan', '▁Keselamatan', '▁Jalan', '▁Raya', '▁', '(', '▁', 'JK', 'JR', '▁', ')', '▁itu', '▁,', '▁Dr', '▁Mahathir', '▁menasihati', '▁mereka', '▁supaya', '▁berhenti', '▁berehat', '▁dan', '▁tidur', '▁sebentar', '▁sekiranya', '▁mengantuk', '▁ketika', '▁memandu', '▁', '.']\n",
      "DEBUG:root:[2208, 2516, 29, 13383, 4541, 3419, 758, 314, 20, 685, 247, 806, 383, 1096, 1515, 24, 247, 5605, 13893, 14089, 20774, 27736, 2340, 4700, 37, 4856, 1492, 72, 50, 396, 22, 943, 863, 32, 552, 5119, 1077, 13, 1384, 19, 9, 341, 596, 2449, 13974, 871, 5427, 708, 688, 19, 10, 19, 4710, 22348, 19, 11, 41, 20, 383, 1096, 21767, 88, 757, 1606, 15738, 24, 198, 4049, 2479, 7529, 271, 7644, 19, 9, 4, 3]\n",
      "DEBUG:root:['▁memperkenalkan', '▁Hu', 'se', 'in', '▁,', '▁dia', '▁sangat', '▁comel', '▁,', '▁berumur', '▁25', '▁tahun', '▁,', '▁bangsa', '▁melayu', '▁,', '▁agama', '▁islam', '▁,', '▁tinggal', '▁di', '▁cyberjaya', '▁malaysia', '▁,', '▁bercakap', '▁bahasa', '▁melayu', '▁,', '▁semua', '▁membaca', '▁buku', '▁undang', '-', 'undang', '▁kewangan', '▁,', '▁dengar', '▁laju', '▁Siti', '▁Nurhaliza', '▁', '-', '▁Seluruh', '▁Cinta', '▁sambil', '▁makan', '▁ayam', '▁goreng', '▁KFC']\n",
      "DEBUG:root:[4995, 2135, 372, 59, 20, 42, 150, 2698, 20, 4580, 1145, 73, 20, 1534, 1255, 20, 523, 2066, 20, 634, 23, 30431, 1836, 20, 3824, 645, 1255, 20, 86, 1524, 598, 1722, 13, 998, 1662, 20, 1147, 2620, 3123, 21002, 19, 13, 8671, 2760, 595, 131, 638, 952, 7621, 4, 3]\n",
      "DEBUG:root:['▁KUALA', '▁LUMPUR', '▁:', '▁Sempena', '▁sambutan', '▁Aidilfitri', '▁minggu', '▁depan', '▁,', '▁Perdana', '▁Menteri', '▁Tun', '▁Dr', '▁Mahathir', '▁Mohamad', '▁dan', '▁Menteri', '▁Pengangkutan', '▁Anthony', '▁Loke', '▁Siew', '▁Fook', '▁menit', 'ip', 'kan', '▁pesanan', '▁khas', '▁kepada', '▁orang', '▁ramai', '▁yang', '▁mahu', '▁pulang', '▁ke', '▁kampung', '▁halaman', '▁masing', '-', 'masing', '▁', '.', '▁Dalam', '▁video', '▁pendek', '▁terbitan', '▁Jabatan', '▁Keselamatan', '▁Jalan', '▁Raya', '▁', '(', '▁', 'JK', 'JR', '▁', ')', '▁itu', '▁,', '▁Dr', '▁Mahathir', '▁menasihati', '▁mereka', '▁supaya', '▁berhenti', '▁berehat', '▁dan', '▁tidur', '▁sebentar', '▁sekiranya', '▁mengantuk', '▁ketika', '▁memandu', '▁', '.']\n",
      "DEBUG:root:[2208, 2516, 29, 13383, 4541, 3419, 758, 314, 20, 685, 247, 806, 383, 1096, 1515, 24, 247, 5605, 13893, 14089, 20774, 27736, 2340, 4700, 37, 4856, 1492, 72, 50, 396, 22, 943, 863, 32, 552, 5119, 1077, 13, 1384, 19, 9, 341, 596, 2449, 13974, 871, 5427, 708, 688, 19, 10, 19, 4710, 22348, 19, 11, 41, 20, 383, 1096, 21767, 88, 757, 1606, 15738, 24, 198, 4049, 2479, 7529, 271, 7644, 19, 9, 4, 3]\n",
      "DEBUG:urllib3.connectionpool:Starting new HTTPS connection (1): f000.backblazeb2.com:443\n"
     ]
    },
    {
     "name": "stdout",
     "output_type": "stream",
     "text": [
      "[('KUALA', 'location'), ('LUMPUR', 'location'), (':', 'OTHER'), ('Sempena', 'OTHER'), ('sambutan', 'OTHER'), ('Aidilfitri', 'event'), ('minggu', 'OTHER'), ('depan', 'OTHER'), (',', 'OTHER'), ('Perdana', 'person'), ('Menteri', 'person'), ('Tun', 'person'), ('Dr', 'person'), ('Mahathir', 'person'), ('Mohamad', 'person'), ('dan', 'OTHER'), ('Menteri', 'organization'), ('Pengangkutan', 'organization'), ('Anthony', 'person'), ('Loke', 'person'), ('Siew', 'person'), ('Fook', 'person'), ('menitipkan', 'OTHER'), ('pesanan', 'OTHER'), ('khas', 'OTHER'), ('kepada', 'OTHER'), ('orang', 'OTHER'), ('ramai', 'OTHER'), ('yang', 'OTHER'), ('mahu', 'OTHER'), ('pulang', 'OTHER'), ('ke', 'OTHER'), ('kampung', 'OTHER'), ('halaman', 'OTHER'), ('masing-masing', 'OTHER'), ('.', 'OTHER'), ('Dalam', 'OTHER'), ('video', 'OTHER'), ('pendek', 'OTHER'), ('terbitan', 'OTHER'), ('Jabatan', 'organization'), ('Keselamatan', 'organization'), ('Jalan', 'organization'), ('Raya', 'organization'), ('(', 'organization'), ('JKJR', 'organization'), (')', 'organization'), ('itu', 'OTHER'), (',', 'OTHER'), ('Dr', 'person'), ('Mahathir', 'person'), ('menasihati', 'OTHER'), ('mereka', 'OTHER'), ('supaya', 'OTHER'), ('berhenti', 'OTHER'), ('berehat', 'OTHER'), ('dan', 'OTHER'), ('tidur', 'OTHER'), ('sebentar', 'OTHER'), ('sekiranya', 'OTHER'), ('mengantuk', 'OTHER'), ('ketika', 'OTHER'), ('memandu', 'OTHER'), ('.', 'OTHER')]\n",
      "[('memperkenalkan', 'OTHER'), ('Husein', 'person'), (',', 'OTHER'), ('dia', 'OTHER'), ('sangat', 'OTHER'), ('comel', 'OTHER'), (',', 'OTHER'), ('berumur', 'OTHER'), ('25', 'OTHER'), ('tahun', 'OTHER'), (',', 'OTHER'), ('bangsa', 'OTHER'), ('melayu', 'person'), (',', 'OTHER'), ('agama', 'OTHER'), ('islam', 'person'), (',', 'OTHER'), ('tinggal', 'OTHER'), ('di', 'OTHER'), ('cyberjaya', 'location'), ('malaysia', 'location'), (',', 'OTHER'), ('bercakap', 'OTHER'), ('bahasa', 'OTHER'), ('melayu', 'OTHER'), (',', 'OTHER'), ('semua', 'OTHER'), ('membaca', 'OTHER'), ('buku', 'OTHER'), ('undang-undang', 'OTHER'), ('kewangan', 'OTHER'), (',', 'OTHER'), ('dengar', 'OTHER'), ('laju', 'OTHER'), ('Siti', 'person'), ('Nurhaliza', 'person'), ('-', 'OTHER'), ('Seluruh', 'OTHER'), ('Cinta', 'OTHER'), ('sambil', 'OTHER'), ('makan', 'OTHER'), ('ayam', 'OTHER'), ('goreng', 'OTHER'), ('KFC', 'person')]\n",
      "[{'text': ['KUALA', 'LUMPUR'], 'type': 'location', 'score': 1.0, 'beginOffset': 0, 'endOffset': 2}, {'text': [':', 'Sempena', 'sambutan'], 'type': 'OTHER', 'score': 1.0, 'beginOffset': 2, 'endOffset': 5}, {'text': ['Aidilfitri'], 'type': 'event', 'score': 1.0, 'beginOffset': 5, 'endOffset': 6}, {'text': ['minggu', 'depan'], 'type': 'time', 'score': 1.0, 'beginOffset': 6, 'endOffset': 8}, {'text': [','], 'type': 'OTHER', 'score': 1.0, 'beginOffset': 8, 'endOffset': 9}, {'text': ['Perdana', 'Menteri', 'Tun', 'Dr', 'Mahathir', 'Mohamad'], 'type': 'person', 'score': 1.0, 'beginOffset': 9, 'endOffset': 15}, {'text': ['dan'], 'type': 'OTHER', 'score': 1.0, 'beginOffset': 15, 'endOffset': 16}, {'text': ['Menteri', 'Pengangkutan', 'Anthony', 'Loke', 'Siew', 'Fook'], 'type': 'person', 'score': 1.0, 'beginOffset': 16, 'endOffset': 22}, {'text': ['menitipkan', 'pesanan', 'khas', 'kepada', 'orang', 'ramai', 'yang', 'mahu', 'pulang', 'ke', 'kampung', 'halaman', 'masing-masing', '.', 'Dalam', 'video', 'pendek', 'terbitan'], 'type': 'OTHER', 'score': 1.0, 'beginOffset': 22, 'endOffset': 40}, {'text': ['Jabatan', 'Keselamatan', 'Jalan', 'Raya', '(', 'JKJR', ')'], 'type': 'organization', 'score': 1.0, 'beginOffset': 40, 'endOffset': 47}, {'text': ['itu', ','], 'type': 'OTHER', 'score': 1.0, 'beginOffset': 47, 'endOffset': 49}, {'text': ['Dr', 'Mahathir'], 'type': 'person', 'score': 1.0, 'beginOffset': 49, 'endOffset': 51}, {'text': ['menasihati', 'mereka', 'supaya', 'berhenti', 'berehat', 'dan', 'tidur', 'sebentar', 'sekiranya', 'mengantuk', 'ketika', 'memandu', '.'], 'type': 'OTHER', 'score': 1.0, 'beginOffset': 51, 'endOffset': 64}]\n",
      "fastformer\n"
     ]
    },
    {
     "name": "stderr",
     "output_type": "stream",
     "text": [
      "DEBUG:urllib3.connectionpool:https://f000.backblazeb2.com:443 \"HEAD /file/malaya-model/entity/fastformer/model.pb HTTP/1.1\" 200 0\n",
      "DEBUG:urllib3.connectionpool:Starting new HTTPS connection (1): f000.backblazeb2.com:443\n",
      "DEBUG:urllib3.connectionpool:https://f000.backblazeb2.com:443 \"HEAD /file/malaya-model/bpe/BERT.wordpiece.vocab HTTP/1.1\" 200 0\n",
      "DEBUG:urllib3.connectionpool:Starting new HTTPS connection (1): f000.backblazeb2.com:443\n",
      "DEBUG:urllib3.connectionpool:https://f000.backblazeb2.com:443 \"HEAD /file/malaya-model/bpe/BERT.wordpiece HTTP/1.1\" 200 0\n",
      "DEBUG:urllib3.connectionpool:Starting new HTTPS connection (1): f000.backblazeb2.com:443\n",
      "DEBUG:urllib3.connectionpool:https://f000.backblazeb2.com:443 \"HEAD /file/malaya-model/setting/entities.json HTTP/1.1\" 200 0\n",
      "DEBUG:urllib3.connectionpool:Starting new HTTPS connection (1): f000.backblazeb2.com:443\n",
      "DEBUG:urllib3.connectionpool:https://f000.backblazeb2.com:443 \"HEAD /file/malaya-model/entity/fastformer/version HTTP/1.1\" 404 0\n",
      "DEBUG:urllib3.connectionpool:Starting new HTTPS connection (1): f000.backblazeb2.com:443\n"
     ]
    },
    {
     "name": "stdout",
     "output_type": "stream",
     "text": [
      "downloading frozen model to /home/ubuntu/Malaya/entity/fastformer/model.pb\n"
     ]
    },
    {
     "name": "stderr",
     "output_type": "stream",
     "text": [
      "DEBUG:urllib3.connectionpool:https://f000.backblazeb2.com:443 \"GET /file/malaya-model/entity/fastformer/model.pb HTTP/1.1\" 200 446232281\n",
      "100%|██████████| 426/426 [01:06<00:00, 6.41MB/s] \n",
      "DEBUG:urllib3.connectionpool:Starting new HTTPS connection (1): f000.backblazeb2.com:443\n"
     ]
    },
    {
     "name": "stdout",
     "output_type": "stream",
     "text": [
      "downloading frozen vocab to /home/ubuntu/Malaya/entity/fastformer/BERT.wordpiece.vocab\n"
     ]
    },
    {
     "name": "stderr",
     "output_type": "stream",
     "text": [
      "DEBUG:urllib3.connectionpool:https://f000.backblazeb2.com:443 \"GET /file/malaya-model/bpe/BERT.wordpiece.vocab HTTP/1.1\" 200 224153\n",
      "1.00MB [00:00, 1.67MB/s]                   \n",
      "DEBUG:urllib3.connectionpool:Starting new HTTPS connection (1): f000.backblazeb2.com:443\n"
     ]
    },
    {
     "name": "stdout",
     "output_type": "stream",
     "text": [
      "downloading frozen tokenizer to /home/ubuntu/Malaya/entity/fastformer/BERT.wordpiece\n"
     ]
    },
    {
     "name": "stderr",
     "output_type": "stream",
     "text": [
      "DEBUG:urllib3.connectionpool:https://f000.backblazeb2.com:443 \"GET /file/malaya-model/bpe/BERT.wordpiece HTTP/1.1\" 200 224153\n",
      "1.00MB [00:00, 1.30MB/s]                   \n",
      "DEBUG:urllib3.connectionpool:Starting new HTTPS connection (1): f000.backblazeb2.com:443\n"
     ]
    },
    {
     "name": "stdout",
     "output_type": "stream",
     "text": [
      "downloading frozen setting to /home/ubuntu/Malaya/entity/fastformer/entities.json\n"
     ]
    },
    {
     "name": "stderr",
     "output_type": "stream",
     "text": [
      "DEBUG:urllib3.connectionpool:https://f000.backblazeb2.com:443 \"GET /file/malaya-model/setting/entities.json HTTP/1.1\" 200 917464\n",
      "114%|██████████| 1.00/0.87 [00:00<00:00, 1.03MB/s]\n",
      "INFO:root:running entity/fastformer using device /device:GPU:0\n",
      "2021-11-30 18:54:31.347548: I tensorflow/stream_executor/cuda/cuda_gpu_executor.cc:937] successful NUMA node read from SysFS had negative value (-1), but there must be at least one NUMA node, so returning NUMA node zero\n",
      "2021-11-30 18:54:31.347761: I tensorflow/core/common_runtime/gpu/gpu_device.cc:1733] Found device 0 with properties: \n",
      "pciBusID: 0000:01:00.0 name: GeForce RTX 3080 computeCapability: 8.6\n",
      "coreClock: 1.74GHz coreCount: 68 deviceMemorySize: 9.77GiB deviceMemoryBandwidth: 707.88GiB/s\n",
      "2021-11-30 18:54:31.347842: I tensorflow/stream_executor/cuda/cuda_gpu_executor.cc:937] successful NUMA node read from SysFS had negative value (-1), but there must be at least one NUMA node, so returning NUMA node zero\n",
      "2021-11-30 18:54:31.348067: I tensorflow/stream_executor/cuda/cuda_gpu_executor.cc:937] successful NUMA node read from SysFS had negative value (-1), but there must be at least one NUMA node, so returning NUMA node zero\n",
      "2021-11-30 18:54:31.348222: I tensorflow/core/common_runtime/gpu/gpu_device.cc:1871] Adding visible gpu devices: 0\n",
      "2021-11-30 18:54:31.348242: I tensorflow/core/common_runtime/gpu/gpu_device.cc:1258] Device interconnect StreamExecutor with strength 1 edge matrix:\n",
      "2021-11-30 18:54:31.348246: I tensorflow/core/common_runtime/gpu/gpu_device.cc:1264]      0 \n",
      "2021-11-30 18:54:31.348250: I tensorflow/core/common_runtime/gpu/gpu_device.cc:1277] 0:   N \n",
      "2021-11-30 18:54:31.348309: I tensorflow/stream_executor/cuda/cuda_gpu_executor.cc:937] successful NUMA node read from SysFS had negative value (-1), but there must be at least one NUMA node, so returning NUMA node zero\n",
      "2021-11-30 18:54:31.348490: I tensorflow/stream_executor/cuda/cuda_gpu_executor.cc:937] successful NUMA node read from SysFS had negative value (-1), but there must be at least one NUMA node, so returning NUMA node zero\n",
      "2021-11-30 18:54:31.348645: I tensorflow/core/common_runtime/gpu/gpu_device.cc:1418] Created TensorFlow device (/job:localhost/replica:0/task:0/device:GPU:0 with 7882 MB memory) -> physical GPU (device: 0, name: GeForce RTX 3080, pci bus id: 0000:01:00.0, compute capability: 8.6)\n",
      "DEBUG:root:['[CLS]', 'KUALA', 'LUMPUR', ':', 'Sempena', 'sambutan', 'Aidilfitri', 'minggu', 'depan', ',', 'Perdana', 'Menteri', 'Tun', 'Dr', 'Mahathir', 'Mohamad', 'dan', 'Menteri', 'Pengangkutan', 'Anthony', 'Loke', 'Siew', 'Fo', '##ok', 'menit', '##ip', '##kan', 'pesanan', 'khas', 'kepada', 'orang', 'ramai', 'yang', 'mahu', 'pulang', 'ke', 'kampung', 'halaman', 'masing', '-', 'masing', '.', 'Dalam', 'video', 'pendek', 'terbitan', 'Jabatan', 'Keselamatan', 'Jalan', 'Raya', '(', 'JK', '##J', '##R', ')', 'itu', ',', 'Dr', 'Mahathir', 'menasihati', 'mereka', 'supaya', 'berhenti', 'berehat', 'dan', 'tidur', 'sebentar', 'sekiranya', 'mengantuk', 'ketika', 'memandu', '.', '[SEP]']\n",
      "DEBUG:root:['[CLS]', 'memperkenalkan', 'Husein', ',', 'dia', 'sangat', 'comel', ',', 'berumur', '25', 'tahun', ',', 'bangsa', 'melayu', ',', 'agama', 'islam', ',', 'tinggal', 'di', 'c', '##y', '##ber', '##jaya', 'malaysia', ',', 'bercakap', 'bahasa', 'melayu', ',', 'semua', 'membaca', 'buku', 'undang', '-', 'undang', 'kewangan', ',', 'dengar', 'laju', 'Siti', 'Nurhaliza', '-', 'Seluruh', 'Cinta', 'sambil', 'makan', 'ayam', 'goreng', 'K', '##FC', '[SEP]']\n",
      "DEBUG:root:['[CLS]', 'KUALA', 'LUMPUR', ':', 'Sempena', 'sambutan', 'Aidilfitri', 'minggu', 'depan', ',', 'Perdana', 'Menteri', 'Tun', 'Dr', 'Mahathir', 'Mohamad', 'dan', 'Menteri', 'Pengangkutan', 'Anthony', 'Loke', 'Siew', 'Fo', '##ok', 'menit', '##ip', '##kan', 'pesanan', 'khas', 'kepada', 'orang', 'ramai', 'yang', 'mahu', 'pulang', 'ke', 'kampung', 'halaman', 'masing', '-', 'masing', '.', 'Dalam', 'video', 'pendek', 'terbitan', 'Jabatan', 'Keselamatan', 'Jalan', 'Raya', '(', 'JK', '##J', '##R', ')', 'itu', ',', 'Dr', 'Mahathir', 'menasihati', 'mereka', 'supaya', 'berhenti', 'berehat', 'dan', 'tidur', 'sebentar', 'sekiranya', 'mengantuk', 'ketika', 'memandu', '.', '[SEP]']\n",
      "DEBUG:urllib3.connectionpool:Starting new HTTPS connection (1): f000.backblazeb2.com:443\n"
     ]
    },
    {
     "name": "stdout",
     "output_type": "stream",
     "text": [
      "[('KUALA', 'X'), ('LUMPUR', 'OTHER'), (':', 'X'), ('Sempena', 'time'), ('sambutan', 'X'), ('Aidilfitri', 'OTHER'), ('minggu', 'OTHER'), ('depan', 'X'), (',', 'X'), ('Perdana', 'organization'), ('Menteri', 'X'), ('Tun', 'OTHER'), ('Dr', 'OTHER'), ('Mahathir', 'OTHER'), ('Mohamad', 'OTHER'), ('dan', 'OTHER'), ('Menteri', 'X'), ('Pengangkutan', 'OTHER'), ('Anthony', 'OTHER'), ('Loke', 'X'), ('Siew', 'X'), ('Fook', 'X'), ('menitipkan', 'OTHER'), ('pesanan', 'person'), ('khas', 'OTHER'), ('kepada', 'OTHER'), ('orang', 'X'), ('ramai', 'X'), ('yang', 'OTHER'), ('mahu', 'X'), ('pulang', 'X'), ('ke', 'OTHER'), ('kampung', 'OTHER'), ('halaman', 'OTHER'), ('masing', 'X'), ('-', 'X'), ('masing', 'X'), ('.', 'X'), ('Dalam', 'OTHER'), ('video', 'OTHER'), ('pendek', 'person'), ('terbitan', 'X'), ('Jabatan', 'X'), ('Keselamatan', 'organization'), ('Jalan', 'X'), ('Raya', 'OTHER'), ('(', 'person'), ('JKJR', 'X'), (')', 'X'), ('itu', 'OTHER'), (',', 'X'), ('Dr', 'OTHER'), ('Mahathir', 'OTHER'), ('menasihati', 'OTHER'), ('mereka', 'X'), ('supaya', 'OTHER'), ('berhenti', 'OTHER'), ('berehat', 'OTHER'), ('dan', 'OTHER'), ('tidur', 'OTHER'), ('sebentar', 'OTHER'), ('sekiranya', 'OTHER'), ('mengantuk', 'person'), ('ketika', 'OTHER'), ('memandu', 'OTHER'), ('.', 'OTHER')]\n",
      "[('memperkenalkan', 'OTHER'), ('Husein', 'OTHER'), (',', 'X'), ('dia', 'X'), ('sangat', 'organization'), ('comel', 'OTHER'), (',', 'OTHER'), ('berumur', 'X'), ('25', 'OTHER'), ('tahun', 'X'), (',', 'OTHER'), ('bangsa', 'OTHER'), ('melayu', 'OTHER'), (',', 'OTHER'), ('agama', 'X'), ('islam', 'OTHER'), (',', 'OTHER'), ('tinggal', 'X'), ('di', 'OTHER'), ('cyberjaya', 'OTHER'), ('malaysia', 'OTHER'), (',', 'OTHER'), ('bercakap', 'OTHER'), ('bahasa', 'OTHER'), ('melayu', 'OTHER'), (',', 'OTHER'), ('semua', 'X'), ('membaca', 'X'), ('buku', 'OTHER'), ('undang', 'OTHER'), ('-', 'X'), ('undang', 'OTHER'), ('kewangan', 'X'), (',', 'OTHER'), ('dengar', 'OTHER'), ('laju', 'OTHER'), ('Siti', 'X'), ('Nurhaliza', 'OTHER'), ('-', 'X'), ('Seluruh', 'person'), ('Cinta', 'X'), ('sambil', 'OTHER'), ('makan', 'OTHER'), ('ayam', 'OTHER'), ('goreng', 'OTHER'), ('KFC', 'organization')]\n",
      "[{'text': ['KUALA'], 'type': 'X', 'score': 1.0, 'beginOffset': 0, 'endOffset': 1}, {'text': ['LUMPUR'], 'type': 'OTHER', 'score': 1.0, 'beginOffset': 1, 'endOffset': 2}, {'text': [':'], 'type': 'X', 'score': 1.0, 'beginOffset': 2, 'endOffset': 3}, {'text': ['Sempena'], 'type': 'time', 'score': 1.0, 'beginOffset': 3, 'endOffset': 4}, {'text': ['sambutan'], 'type': 'X', 'score': 1.0, 'beginOffset': 4, 'endOffset': 5}, {'text': ['Aidilfitri', 'minggu'], 'type': 'OTHER', 'score': 1.0, 'beginOffset': 5, 'endOffset': 7}, {'text': ['depan', ','], 'type': 'X', 'score': 1.0, 'beginOffset': 7, 'endOffset': 9}, {'text': ['Perdana'], 'type': 'organization', 'score': 1.0, 'beginOffset': 9, 'endOffset': 10}, {'text': ['Menteri'], 'type': 'X', 'score': 1.0, 'beginOffset': 10, 'endOffset': 11}, {'text': ['Tun', 'Dr', 'Mahathir', 'Mohamad', 'dan'], 'type': 'OTHER', 'score': 1.0, 'beginOffset': 11, 'endOffset': 16}, {'text': ['Menteri'], 'type': 'X', 'score': 1.0, 'beginOffset': 16, 'endOffset': 17}, {'text': ['Pengangkutan', 'Anthony'], 'type': 'OTHER', 'score': 1.0, 'beginOffset': 17, 'endOffset': 19}, {'text': ['Loke', 'Siew', 'Fook'], 'type': 'X', 'score': 1.0, 'beginOffset': 19, 'endOffset': 22}, {'text': ['menitipkan'], 'type': 'OTHER', 'score': 1.0, 'beginOffset': 22, 'endOffset': 23}, {'text': ['pesanan'], 'type': 'person', 'score': 1.0, 'beginOffset': 23, 'endOffset': 24}, {'text': ['khas', 'kepada'], 'type': 'OTHER', 'score': 1.0, 'beginOffset': 24, 'endOffset': 26}, {'text': ['orang', 'ramai'], 'type': 'X', 'score': 1.0, 'beginOffset': 26, 'endOffset': 28}, {'text': ['yang'], 'type': 'OTHER', 'score': 1.0, 'beginOffset': 28, 'endOffset': 29}, {'text': ['mahu', 'pulang'], 'type': 'X', 'score': 1.0, 'beginOffset': 29, 'endOffset': 31}, {'text': ['ke', 'kampung', 'halaman'], 'type': 'OTHER', 'score': 1.0, 'beginOffset': 31, 'endOffset': 34}, {'text': ['masing', '-', 'masing', '.'], 'type': 'X', 'score': 1.0, 'beginOffset': 34, 'endOffset': 38}, {'text': ['Dalam', 'video'], 'type': 'OTHER', 'score': 1.0, 'beginOffset': 38, 'endOffset': 40}, {'text': ['pendek'], 'type': 'person', 'score': 1.0, 'beginOffset': 40, 'endOffset': 41}, {'text': ['terbitan', 'Jabatan'], 'type': 'X', 'score': 1.0, 'beginOffset': 41, 'endOffset': 43}, {'text': ['Keselamatan'], 'type': 'organization', 'score': 1.0, 'beginOffset': 43, 'endOffset': 44}, {'text': ['Jalan'], 'type': 'X', 'score': 1.0, 'beginOffset': 44, 'endOffset': 45}, {'text': ['Raya'], 'type': 'OTHER', 'score': 1.0, 'beginOffset': 45, 'endOffset': 46}, {'text': ['('], 'type': 'person', 'score': 1.0, 'beginOffset': 46, 'endOffset': 47}, {'text': ['JKJR', ')'], 'type': 'X', 'score': 1.0, 'beginOffset': 47, 'endOffset': 49}, {'text': ['itu'], 'type': 'OTHER', 'score': 1.0, 'beginOffset': 49, 'endOffset': 50}, {'text': [','], 'type': 'X', 'score': 1.0, 'beginOffset': 50, 'endOffset': 51}, {'text': ['Dr', 'Mahathir', 'menasihati'], 'type': 'OTHER', 'score': 1.0, 'beginOffset': 51, 'endOffset': 54}, {'text': ['mereka'], 'type': 'X', 'score': 1.0, 'beginOffset': 54, 'endOffset': 55}, {'text': ['supaya', 'berhenti', 'berehat', 'dan', 'tidur', 'sebentar', 'sekiranya'], 'type': 'OTHER', 'score': 1.0, 'beginOffset': 55, 'endOffset': 62}, {'text': ['mengantuk'], 'type': 'person', 'score': 1.0, 'beginOffset': 62, 'endOffset': 63}, {'text': ['ketika', 'memandu', '.'], 'type': 'OTHER', 'score': 1.0, 'beginOffset': 63, 'endOffset': 66}]\n",
      "tiny-fastformer\n"
     ]
    },
    {
     "name": "stderr",
     "output_type": "stream",
     "text": [
      "DEBUG:urllib3.connectionpool:https://f000.backblazeb2.com:443 \"HEAD /file/malaya-model/entity/tiny-fastformer/model.pb HTTP/1.1\" 200 0\n",
      "DEBUG:urllib3.connectionpool:Starting new HTTPS connection (1): f000.backblazeb2.com:443\n",
      "DEBUG:urllib3.connectionpool:https://f000.backblazeb2.com:443 \"HEAD /file/malaya-model/bpe/BERT.wordpiece.vocab HTTP/1.1\" 200 0\n",
      "DEBUG:urllib3.connectionpool:Starting new HTTPS connection (1): f000.backblazeb2.com:443\n",
      "DEBUG:urllib3.connectionpool:https://f000.backblazeb2.com:443 \"HEAD /file/malaya-model/bpe/BERT.wordpiece HTTP/1.1\" 200 0\n",
      "DEBUG:urllib3.connectionpool:Starting new HTTPS connection (1): f000.backblazeb2.com:443\n",
      "DEBUG:urllib3.connectionpool:https://f000.backblazeb2.com:443 \"HEAD /file/malaya-model/setting/entities.json HTTP/1.1\" 200 0\n",
      "DEBUG:urllib3.connectionpool:Starting new HTTPS connection (1): f000.backblazeb2.com:443\n",
      "DEBUG:urllib3.connectionpool:https://f000.backblazeb2.com:443 \"HEAD /file/malaya-model/entity/tiny-fastformer/version HTTP/1.1\" 404 0\n",
      "DEBUG:urllib3.connectionpool:Starting new HTTPS connection (1): f000.backblazeb2.com:443\n"
     ]
    },
    {
     "name": "stdout",
     "output_type": "stream",
     "text": [
      "downloading frozen model to /home/ubuntu/Malaya/entity/tiny-fastformer/model.pb\n"
     ]
    },
    {
     "name": "stderr",
     "output_type": "stream",
     "text": [
      "DEBUG:urllib3.connectionpool:https://f000.backblazeb2.com:443 \"GET /file/malaya-model/entity/tiny-fastformer/model.pb HTTP/1.1\" 200 77316808\n",
      "100%|██████████| 74.0/73.7 [00:12<00:00, 5.93MB/s]\n",
      "DEBUG:urllib3.connectionpool:Starting new HTTPS connection (1): f000.backblazeb2.com:443\n"
     ]
    },
    {
     "name": "stdout",
     "output_type": "stream",
     "text": [
      "downloading frozen vocab to /home/ubuntu/Malaya/entity/tiny-fastformer/BERT.wordpiece.vocab\n"
     ]
    },
    {
     "name": "stderr",
     "output_type": "stream",
     "text": [
      "DEBUG:urllib3.connectionpool:https://f000.backblazeb2.com:443 \"GET /file/malaya-model/bpe/BERT.wordpiece.vocab HTTP/1.1\" 200 224153\n",
      "1.00MB [00:00, 1.24MB/s]                   \n",
      "DEBUG:urllib3.connectionpool:Starting new HTTPS connection (1): f000.backblazeb2.com:443\n"
     ]
    },
    {
     "name": "stdout",
     "output_type": "stream",
     "text": [
      "downloading frozen tokenizer to /home/ubuntu/Malaya/entity/tiny-fastformer/BERT.wordpiece\n"
     ]
    },
    {
     "name": "stderr",
     "output_type": "stream",
     "text": [
      "DEBUG:urllib3.connectionpool:https://f000.backblazeb2.com:443 \"GET /file/malaya-model/bpe/BERT.wordpiece HTTP/1.1\" 200 224153\n",
      "1.00MB [00:00, 1.45MB/s]                   \n",
      "DEBUG:urllib3.connectionpool:Starting new HTTPS connection (1): f000.backblazeb2.com:443\n"
     ]
    },
    {
     "name": "stdout",
     "output_type": "stream",
     "text": [
      "downloading frozen setting to /home/ubuntu/Malaya/entity/tiny-fastformer/entities.json\n"
     ]
    },
    {
     "name": "stderr",
     "output_type": "stream",
     "text": [
      "DEBUG:urllib3.connectionpool:https://f000.backblazeb2.com:443 \"GET /file/malaya-model/setting/entities.json HTTP/1.1\" 200 917464\n",
      "114%|██████████| 1.00/0.87 [00:01<00:00, 1.03s/MB]\n",
      "INFO:root:running entity/tiny-fastformer using device /device:GPU:0\n",
      "2021-11-30 18:54:58.765530: I tensorflow/stream_executor/cuda/cuda_gpu_executor.cc:937] successful NUMA node read from SysFS had negative value (-1), but there must be at least one NUMA node, so returning NUMA node zero\n",
      "2021-11-30 18:54:58.765741: I tensorflow/core/common_runtime/gpu/gpu_device.cc:1733] Found device 0 with properties: \n",
      "pciBusID: 0000:01:00.0 name: GeForce RTX 3080 computeCapability: 8.6\n",
      "coreClock: 1.74GHz coreCount: 68 deviceMemorySize: 9.77GiB deviceMemoryBandwidth: 707.88GiB/s\n",
      "2021-11-30 18:54:58.765846: I tensorflow/stream_executor/cuda/cuda_gpu_executor.cc:937] successful NUMA node read from SysFS had negative value (-1), but there must be at least one NUMA node, so returning NUMA node zero\n",
      "2021-11-30 18:54:58.766076: I tensorflow/stream_executor/cuda/cuda_gpu_executor.cc:937] successful NUMA node read from SysFS had negative value (-1), but there must be at least one NUMA node, so returning NUMA node zero\n",
      "2021-11-30 18:54:58.766247: I tensorflow/core/common_runtime/gpu/gpu_device.cc:1871] Adding visible gpu devices: 0\n",
      "2021-11-30 18:54:58.766266: I tensorflow/core/common_runtime/gpu/gpu_device.cc:1258] Device interconnect StreamExecutor with strength 1 edge matrix:\n",
      "2021-11-30 18:54:58.766281: I tensorflow/core/common_runtime/gpu/gpu_device.cc:1264]      0 \n",
      "2021-11-30 18:54:58.766284: I tensorflow/core/common_runtime/gpu/gpu_device.cc:1277] 0:   N \n",
      "2021-11-30 18:54:58.766340: I tensorflow/stream_executor/cuda/cuda_gpu_executor.cc:937] successful NUMA node read from SysFS had negative value (-1), but there must be at least one NUMA node, so returning NUMA node zero\n",
      "2021-11-30 18:54:58.766525: I tensorflow/stream_executor/cuda/cuda_gpu_executor.cc:937] successful NUMA node read from SysFS had negative value (-1), but there must be at least one NUMA node, so returning NUMA node zero\n",
      "2021-11-30 18:54:58.766697: I tensorflow/core/common_runtime/gpu/gpu_device.cc:1418] Created TensorFlow device (/job:localhost/replica:0/task:0/device:GPU:0 with 7882 MB memory) -> physical GPU (device: 0, name: GeForce RTX 3080, pci bus id: 0000:01:00.0, compute capability: 8.6)\n",
      "DEBUG:root:['[CLS]', 'KUALA', 'LUMPUR', ':', 'Sempena', 'sambutan', 'Aidilfitri', 'minggu', 'depan', ',', 'Perdana', 'Menteri', 'Tun', 'Dr', 'Mahathir', 'Mohamad', 'dan', 'Menteri', 'Pengangkutan', 'Anthony', 'Loke', 'Siew', 'Fo', '##ok', 'menit', '##ip', '##kan', 'pesanan', 'khas', 'kepada', 'orang', 'ramai', 'yang', 'mahu', 'pulang', 'ke', 'kampung', 'halaman', 'masing', '-', 'masing', '.', 'Dalam', 'video', 'pendek', 'terbitan', 'Jabatan', 'Keselamatan', 'Jalan', 'Raya', '(', 'JK', '##J', '##R', ')', 'itu', ',', 'Dr', 'Mahathir', 'menasihati', 'mereka', 'supaya', 'berhenti', 'berehat', 'dan', 'tidur', 'sebentar', 'sekiranya', 'mengantuk', 'ketika', 'memandu', '.', '[SEP]']\n",
      "DEBUG:root:['[CLS]', 'memperkenalkan', 'Husein', ',', 'dia', 'sangat', 'comel', ',', 'berumur', '25', 'tahun', ',', 'bangsa', 'melayu', ',', 'agama', 'islam', ',', 'tinggal', 'di', 'c', '##y', '##ber', '##jaya', 'malaysia', ',', 'bercakap', 'bahasa', 'melayu', ',', 'semua', 'membaca', 'buku', 'undang', '-', 'undang', 'kewangan', ',', 'dengar', 'laju', 'Siti', 'Nurhaliza', '-', 'Seluruh', 'Cinta', 'sambil', 'makan', 'ayam', 'goreng', 'K', '##FC', '[SEP]']\n",
      "DEBUG:root:['[CLS]', 'KUALA', 'LUMPUR', ':', 'Sempena', 'sambutan', 'Aidilfitri', 'minggu', 'depan', ',', 'Perdana', 'Menteri', 'Tun', 'Dr', 'Mahathir', 'Mohamad', 'dan', 'Menteri', 'Pengangkutan', 'Anthony', 'Loke', 'Siew', 'Fo', '##ok', 'menit', '##ip', '##kan', 'pesanan', 'khas', 'kepada', 'orang', 'ramai', 'yang', 'mahu', 'pulang', 'ke', 'kampung', 'halaman', 'masing', '-', 'masing', '.', 'Dalam', 'video', 'pendek', 'terbitan', 'Jabatan', 'Keselamatan', 'Jalan', 'Raya', '(', 'JK', '##J', '##R', ')', 'itu', ',', 'Dr', 'Mahathir', 'menasihati', 'mereka', 'supaya', 'berhenti', 'berehat', 'dan', 'tidur', 'sebentar', 'sekiranya', 'mengantuk', 'ketika', 'memandu', '.', '[SEP]']\n"
     ]
    },
    {
     "name": "stdout",
     "output_type": "stream",
     "text": [
      "[('KUALA', 'X'), ('LUMPUR', 'OTHER'), (':', 'X'), ('Sempena', 'OTHER'), ('sambutan', 'X'), ('Aidilfitri', 'OTHER'), ('minggu', 'OTHER'), ('depan', 'X'), (',', 'OTHER'), ('Perdana', 'organization'), ('Menteri', 'X'), ('Tun', 'OTHER'), ('Dr', 'OTHER'), ('Mahathir', 'OTHER'), ('Mohamad', 'OTHER'), ('dan', 'OTHER'), ('Menteri', 'X'), ('Pengangkutan', 'organization'), ('Anthony', 'OTHER'), ('Loke', 'OTHER'), ('Siew', 'X'), ('Fook', 'OTHER'), ('menitipkan', 'person'), ('pesanan', 'person'), ('khas', 'X'), ('kepada', 'OTHER'), ('orang', 'X'), ('ramai', 'X'), ('yang', 'OTHER'), ('mahu', 'X'), ('pulang', 'X'), ('ke', 'OTHER'), ('kampung', 'OTHER'), ('halaman', 'OTHER'), ('masing', 'X'), ('-', 'X'), ('masing', 'X'), ('.', 'X'), ('Dalam', 'OTHER'), ('video', 'OTHER'), ('pendek', 'organization'), ('terbitan', 'OTHER'), ('Jabatan', 'X'), ('Keselamatan', 'OTHER'), ('Jalan', 'X'), ('Raya', 'OTHER'), ('(', 'organization'), ('JKJR', 'X'), (')', 'X'), ('itu', 'OTHER'), (',', 'OTHER'), ('Dr', 'OTHER'), ('Mahathir', 'OTHER'), ('menasihati', 'person'), ('mereka', 'OTHER'), ('supaya', 'OTHER'), ('berhenti', 'person'), ('berehat', 'OTHER'), ('dan', 'OTHER'), ('tidur', 'person'), ('sebentar', 'OTHER'), ('sekiranya', 'person'), ('mengantuk', 'person'), ('ketika', 'X'), ('memandu', 'OTHER'), ('.', 'OTHER')]\n",
      "[('memperkenalkan', 'OTHER'), ('Husein', 'OTHER'), (',', 'OTHER'), ('dia', 'X'), ('sangat', 'location'), ('comel', 'OTHER'), (',', 'OTHER'), ('berumur', 'OTHER'), ('25', 'OTHER'), ('tahun', 'X'), (',', 'OTHER'), ('bangsa', 'OTHER'), ('melayu', 'organization'), (',', 'OTHER'), ('agama', 'X'), ('islam', 'OTHER'), (',', 'OTHER'), ('tinggal', 'X'), ('di', 'OTHER'), ('cyberjaya', 'OTHER'), ('malaysia', 'X'), (',', 'X'), ('bercakap', 'quantity'), ('bahasa', 'X'), ('melayu', 'X'), (',', 'OTHER'), ('semua', 'X'), ('membaca', 'X'), ('buku', 'OTHER'), ('undang', 'X'), ('-', 'X'), ('undang', 'X'), ('kewangan', 'X'), (',', 'OTHER'), ('dengar', 'OTHER'), ('laju', 'OTHER'), ('Siti', 'X'), ('Nurhaliza', 'organization'), ('-', 'X'), ('Seluruh', 'X'), ('Cinta', 'OTHER'), ('sambil', 'X'), ('makan', 'OTHER'), ('ayam', 'OTHER'), ('goreng', 'OTHER'), ('KFC', 'organization')]\n",
      "[{'text': ['KUALA'], 'type': 'X', 'score': 1.0, 'beginOffset': 0, 'endOffset': 1}, {'text': ['LUMPUR'], 'type': 'OTHER', 'score': 1.0, 'beginOffset': 1, 'endOffset': 2}, {'text': [':'], 'type': 'X', 'score': 1.0, 'beginOffset': 2, 'endOffset': 3}, {'text': ['Sempena'], 'type': 'OTHER', 'score': 1.0, 'beginOffset': 3, 'endOffset': 4}, {'text': ['sambutan'], 'type': 'X', 'score': 1.0, 'beginOffset': 4, 'endOffset': 5}, {'text': ['Aidilfitri', 'minggu'], 'type': 'OTHER', 'score': 1.0, 'beginOffset': 5, 'endOffset': 7}, {'text': ['depan'], 'type': 'X', 'score': 1.0, 'beginOffset': 7, 'endOffset': 8}, {'text': [','], 'type': 'OTHER', 'score': 1.0, 'beginOffset': 8, 'endOffset': 9}, {'text': ['Perdana'], 'type': 'organization', 'score': 1.0, 'beginOffset': 9, 'endOffset': 10}, {'text': ['Menteri'], 'type': 'X', 'score': 1.0, 'beginOffset': 10, 'endOffset': 11}, {'text': ['Tun', 'Dr', 'Mahathir', 'Mohamad', 'dan'], 'type': 'OTHER', 'score': 1.0, 'beginOffset': 11, 'endOffset': 16}, {'text': ['Menteri'], 'type': 'X', 'score': 1.0, 'beginOffset': 16, 'endOffset': 17}, {'text': ['Pengangkutan'], 'type': 'organization', 'score': 1.0, 'beginOffset': 17, 'endOffset': 18}, {'text': ['Anthony', 'Loke'], 'type': 'OTHER', 'score': 1.0, 'beginOffset': 18, 'endOffset': 20}, {'text': ['Siew'], 'type': 'X', 'score': 1.0, 'beginOffset': 20, 'endOffset': 21}, {'text': ['Fook'], 'type': 'OTHER', 'score': 1.0, 'beginOffset': 21, 'endOffset': 22}, {'text': ['menitipkan', 'pesanan'], 'type': 'person', 'score': 1.0, 'beginOffset': 22, 'endOffset': 24}, {'text': ['khas'], 'type': 'X', 'score': 1.0, 'beginOffset': 24, 'endOffset': 25}, {'text': ['kepada'], 'type': 'OTHER', 'score': 1.0, 'beginOffset': 25, 'endOffset': 26}, {'text': ['orang', 'ramai'], 'type': 'X', 'score': 1.0, 'beginOffset': 26, 'endOffset': 28}, {'text': ['yang'], 'type': 'OTHER', 'score': 1.0, 'beginOffset': 28, 'endOffset': 29}, {'text': ['mahu', 'pulang'], 'type': 'X', 'score': 1.0, 'beginOffset': 29, 'endOffset': 31}, {'text': ['ke', 'kampung', 'halaman'], 'type': 'OTHER', 'score': 1.0, 'beginOffset': 31, 'endOffset': 34}, {'text': ['masing', '-', 'masing', '.'], 'type': 'X', 'score': 1.0, 'beginOffset': 34, 'endOffset': 38}, {'text': ['Dalam', 'video'], 'type': 'OTHER', 'score': 1.0, 'beginOffset': 38, 'endOffset': 40}, {'text': ['pendek'], 'type': 'organization', 'score': 1.0, 'beginOffset': 40, 'endOffset': 41}, {'text': ['terbitan'], 'type': 'OTHER', 'score': 1.0, 'beginOffset': 41, 'endOffset': 42}, {'text': ['Jabatan'], 'type': 'X', 'score': 1.0, 'beginOffset': 42, 'endOffset': 43}, {'text': ['Keselamatan'], 'type': 'OTHER', 'score': 1.0, 'beginOffset': 43, 'endOffset': 44}, {'text': ['Jalan'], 'type': 'X', 'score': 1.0, 'beginOffset': 44, 'endOffset': 45}, {'text': ['Raya'], 'type': 'OTHER', 'score': 1.0, 'beginOffset': 45, 'endOffset': 46}, {'text': ['('], 'type': 'organization', 'score': 1.0, 'beginOffset': 46, 'endOffset': 47}, {'text': ['JKJR', ')'], 'type': 'X', 'score': 1.0, 'beginOffset': 47, 'endOffset': 49}, {'text': ['itu', ',', 'Dr', 'Mahathir'], 'type': 'OTHER', 'score': 1.0, 'beginOffset': 49, 'endOffset': 53}, {'text': ['menasihati'], 'type': 'person', 'score': 1.0, 'beginOffset': 53, 'endOffset': 54}, {'text': ['mereka', 'supaya'], 'type': 'OTHER', 'score': 1.0, 'beginOffset': 54, 'endOffset': 56}, {'text': ['berhenti'], 'type': 'person', 'score': 1.0, 'beginOffset': 56, 'endOffset': 57}, {'text': ['berehat', 'dan'], 'type': 'OTHER', 'score': 1.0, 'beginOffset': 57, 'endOffset': 59}, {'text': ['tidur'], 'type': 'person', 'score': 1.0, 'beginOffset': 59, 'endOffset': 60}, {'text': ['sebentar'], 'type': 'OTHER', 'score': 1.0, 'beginOffset': 60, 'endOffset': 61}, {'text': ['sekiranya', 'mengantuk'], 'type': 'person', 'score': 1.0, 'beginOffset': 61, 'endOffset': 63}, {'text': ['ketika'], 'type': 'X', 'score': 1.0, 'beginOffset': 63, 'endOffset': 64}, {'text': ['memandu', '.'], 'type': 'OTHER', 'score': 1.0, 'beginOffset': 64, 'endOffset': 66}]\n"
     ]
    }
   ],
   "source": [
    "models = malaya.entity.available_transformer()\n",
    "for m in models.index:\n",
    "    print(m)\n",
    "    model = malaya.entity.transformer(model = m)\n",
    "    print(model.predict(string))\n",
    "    print(model.predict(string1))\n",
    "    print(model.analyze(string))\n",
    "    malaya.utils.delete_cache(f'entity/{m}')\n",
    "    del model"
   ]
  },
  {
   "cell_type": "code",
   "execution_count": 5,
   "id": "funny-donor",
   "metadata": {},
   "outputs": [
    {
     "name": "stderr",
     "output_type": "stream",
     "text": [
      "INFO:root:tested on 20% test set.\n",
      "DEBUG:urllib3.connectionpool:Starting new HTTPS connection (1): f000.backblazeb2.com:443\n"
     ]
    },
    {
     "name": "stdout",
     "output_type": "stream",
     "text": [
      "bert\n"
     ]
    },
    {
     "name": "stderr",
     "output_type": "stream",
     "text": [
      "DEBUG:urllib3.connectionpool:https://f000.backblazeb2.com:443 \"HEAD /file/malaya-model/pos/bert/model.pb HTTP/1.1\" 200 0\n",
      "DEBUG:urllib3.connectionpool:Starting new HTTPS connection (1): f000.backblazeb2.com:443\n",
      "DEBUG:urllib3.connectionpool:https://f000.backblazeb2.com:443 \"HEAD /file/malaya-model/bpe/sp10m.cased.bert.vocab HTTP/1.1\" 200 0\n",
      "DEBUG:urllib3.connectionpool:Starting new HTTPS connection (1): f000.backblazeb2.com:443\n",
      "DEBUG:urllib3.connectionpool:https://f000.backblazeb2.com:443 \"HEAD /file/malaya-model/bpe/sp10m.cased.bert.model HTTP/1.1\" 200 0\n",
      "DEBUG:urllib3.connectionpool:Starting new HTTPS connection (1): f000.backblazeb2.com:443\n",
      "DEBUG:urllib3.connectionpool:https://f000.backblazeb2.com:443 \"HEAD /file/malaya-model/setting/pos.json HTTP/1.1\" 200 0\n",
      "DEBUG:urllib3.connectionpool:Starting new HTTPS connection (1): f000.backblazeb2.com:443\n",
      "DEBUG:urllib3.connectionpool:https://f000.backblazeb2.com:443 \"HEAD /file/malaya-model/pos/bert/version HTTP/1.1\" 404 0\n",
      "DEBUG:urllib3.connectionpool:Starting new HTTPS connection (1): f000.backblazeb2.com:443\n"
     ]
    },
    {
     "name": "stdout",
     "output_type": "stream",
     "text": [
      "downloading frozen model to /Users/huseinzolkepli/Malaya/pos/bert/model.pb\n"
     ]
    },
    {
     "name": "stderr",
     "output_type": "stream",
     "text": [
      "DEBUG:urllib3.connectionpool:https://f000.backblazeb2.com:443 \"GET /file/malaya-model/pos/bert/model.pb HTTP/1.1\" 200 447135820\n",
      "427MB [00:57, 7.45MB/s]                          \n",
      "DEBUG:urllib3.connectionpool:Starting new HTTPS connection (1): f000.backblazeb2.com:443\n"
     ]
    },
    {
     "name": "stdout",
     "output_type": "stream",
     "text": [
      "downloading frozen vocab to /Users/huseinzolkepli/Malaya/pos/bert/sp10m.cased.bert.vocab\n"
     ]
    },
    {
     "name": "stderr",
     "output_type": "stream",
     "text": [
      "DEBUG:urllib3.connectionpool:https://f000.backblazeb2.com:443 \"GET /file/malaya-model/bpe/sp10m.cased.bert.vocab HTTP/1.1\" 200 568997\n",
      "184%|██████████| 1.00/0.54 [00:00<00:00, 1.00MB/s]\n",
      "DEBUG:urllib3.connectionpool:Starting new HTTPS connection (1): f000.backblazeb2.com:443\n"
     ]
    },
    {
     "name": "stdout",
     "output_type": "stream",
     "text": [
      "downloading frozen tokenizer to /Users/huseinzolkepli/Malaya/pos/bert/sp10m.cased.bert.model\n"
     ]
    },
    {
     "name": "stderr",
     "output_type": "stream",
     "text": [
      "DEBUG:urllib3.connectionpool:https://f000.backblazeb2.com:443 \"GET /file/malaya-model/bpe/sp10m.cased.bert.model HTTP/1.1\" 200 778744\n",
      "135%|██████████| 1.00/0.74 [00:01<00:00, 1.12s/MB]\n",
      "DEBUG:urllib3.connectionpool:Starting new HTTPS connection (1): f000.backblazeb2.com:443\n"
     ]
    },
    {
     "name": "stdout",
     "output_type": "stream",
     "text": [
      "downloading frozen setting to /Users/huseinzolkepli/Malaya/pos/bert/pos.json\n"
     ]
    },
    {
     "name": "stderr",
     "output_type": "stream",
     "text": [
      "DEBUG:urllib3.connectionpool:https://f000.backblazeb2.com:443 \"GET /file/malaya-model/setting/pos.json HTTP/1.1\" 200 825070\n",
      "127%|██████████| 1.00/0.79 [00:01<00:00, 1.20s/MB]\n",
      "INFO:root:running pos/bert using device /device:CPU:0\n",
      "DEBUG:root:['[CLS]', '▁KUALA', '▁LUMPUR', '▁:', '▁Sempena', '▁sambutan', '▁Aidilfitri', '▁minggu', '▁depan', '▁,', '▁Perdana', '▁Menteri', '▁Tun', '▁Dr', '▁Mahathir', '▁Mohamad', '▁dan', '▁Menteri', '▁Pengangkutan', '▁Anthony', '▁Loke', '▁Siew', '▁Fook', '▁menit', 'ip', 'kan', '▁pesanan', '▁khas', '▁kepada', '▁orang', '▁ramai', '▁yang', '▁mahu', '▁pulang', '▁ke', '▁kampung', '▁halaman', '▁masing', '-', 'masing', '▁', '.', '▁Dalam', '▁video', '▁pendek', '▁terbitan', '▁Jabatan', '▁Keselamatan', '▁Jalan', '▁Raya', '▁', '(', '▁', 'JK', 'JR', '▁', ')', '▁itu', '▁,', '▁Dr', '▁Mahathir', '▁menasihati', '▁mereka', '▁supaya', '▁berhenti', '▁berehat', '▁dan', '▁tidur', '▁sebentar', '▁sekiranya', '▁mengantuk', '▁ketika', '▁memandu', '▁', '.', '[SEP]']\n",
      "DEBUG:root:['[CLS]', '▁memperkenalkan', '▁Hu', 'se', 'in', '▁,', '▁dia', '▁sangat', '▁comel', '▁,', '▁berumur', '▁25', '▁tahun', '▁,', '▁bangsa', '▁melayu', '▁,', '▁agama', '▁islam', '▁,', '▁tinggal', '▁di', '▁cyberjaya', '▁malaysia', '▁,', '▁bercakap', '▁bahasa', '▁melayu', '▁,', '▁semua', '▁membaca', '▁buku', '▁undang', '-', 'undang', '▁kewangan', '▁,', '▁dengar', '▁laju', '▁Siti', '▁Nurhaliza', '▁', '-', '▁Seluruh', '▁Cinta', '▁sambil', '▁makan', '▁ayam', '▁goreng', '▁KFC', '[SEP]']\n",
      "DEBUG:root:['[CLS]', '▁KUALA', '▁LUMPUR', '▁:', '▁Sempena', '▁sambutan', '▁Aidilfitri', '▁minggu', '▁depan', '▁,', '▁Perdana', '▁Menteri', '▁Tun', '▁Dr', '▁Mahathir', '▁Mohamad', '▁dan', '▁Menteri', '▁Pengangkutan', '▁Anthony', '▁Loke', '▁Siew', '▁Fook', '▁menit', 'ip', 'kan', '▁pesanan', '▁khas', '▁kepada', '▁orang', '▁ramai', '▁yang', '▁mahu', '▁pulang', '▁ke', '▁kampung', '▁halaman', '▁masing', '-', 'masing', '▁', '.', '▁Dalam', '▁video', '▁pendek', '▁terbitan', '▁Jabatan', '▁Keselamatan', '▁Jalan', '▁Raya', '▁', '(', '▁', 'JK', 'JR', '▁', ')', '▁itu', '▁,', '▁Dr', '▁Mahathir', '▁menasihati', '▁mereka', '▁supaya', '▁berhenti', '▁berehat', '▁dan', '▁tidur', '▁sebentar', '▁sekiranya', '▁mengantuk', '▁ketika', '▁memandu', '▁', '.', '[SEP]']\n"
     ]
    },
    {
     "name": "stdout",
     "output_type": "stream",
     "text": [
      "[('KUALA', 'PROPN'), ('LUMPUR', 'PROPN'), (':', 'PUNCT'), ('Sempena', 'ADP'), ('sambutan', 'NOUN'), ('Aidilfitri', 'NOUN'), ('minggu', 'NOUN'), ('depan', 'ADJ'), (',', 'PUNCT'), ('Perdana', 'PROPN'), ('Menteri', 'PROPN'), ('Tun', 'PROPN'), ('Dr', 'PROPN'), ('Mahathir', 'PROPN'), ('Mohamad', 'PROPN'), ('dan', 'CCONJ'), ('Menteri', 'PROPN'), ('Pengangkutan', 'PROPN'), ('Anthony', 'PROPN'), ('Loke', 'PROPN'), ('Siew', 'PROPN'), ('Fook', 'PROPN'), ('menitipkan', 'VERB'), ('pesanan', 'NOUN'), ('khas', 'ADJ'), ('kepada', 'ADP'), ('orang', 'NOUN'), ('ramai', 'PRON'), ('yang', 'PRON'), ('mahu', 'ADV'), ('pulang', 'VERB'), ('ke', 'ADP'), ('kampung', 'NOUN'), ('halaman', 'NOUN'), ('masing-masing', 'DET'), ('.', 'PUNCT'), ('Dalam', 'ADP'), ('video', 'NOUN'), ('pendek', 'ADJ'), ('terbitan', 'NOUN'), ('Jabatan', 'PROPN'), ('Keselamatan', 'PROPN'), ('Jalan', 'PROPN'), ('Raya', 'PROPN'), ('(', 'PUNCT'), ('JKJR', 'PROPN'), (')', 'PUNCT'), ('itu', 'DET'), (',', 'PUNCT'), ('Dr', 'PROPN'), ('Mahathir', 'PROPN'), ('menasihati', 'VERB'), ('mereka', 'PRON'), ('supaya', 'SCONJ'), ('berhenti', 'VERB'), ('berehat', 'VERB'), ('dan', 'CCONJ'), ('tidur', 'VERB'), ('sebentar', 'ADV'), ('sekiranya', 'ADP'), ('mengantuk', 'ADJ'), ('ketika', 'SCONJ'), ('memandu', 'VERB'), ('.', 'PUNCT')]\n",
      "[('memperkenalkan', 'VERB'), ('Husein', 'PROPN'), (',', 'PUNCT'), ('dia', 'PRON'), ('sangat', 'ADV'), ('comel', 'ADJ'), (',', 'PUNCT'), ('berumur', 'VERB'), ('25', 'NUM'), ('tahun', 'NOUN'), (',', 'PUNCT'), ('bangsa', 'NOUN'), ('melayu', 'PROPN'), (',', 'PUNCT'), ('agama', 'NOUN'), ('islam', 'PROPN'), (',', 'PUNCT'), ('tinggal', 'VERB'), ('di', 'ADP'), ('cyberjaya', 'NOUN'), ('malaysia', 'PROPN'), (',', 'PUNCT'), ('bercakap', 'VERB'), ('bahasa', 'NOUN'), ('melayu', 'NOUN'), (',', 'PUNCT'), ('semua', 'DET'), ('membaca', 'VERB'), ('buku', 'NOUN'), ('undang-undang', 'NOUN'), ('kewangan', 'NOUN'), (',', 'PUNCT'), ('dengar', 'VERB'), ('laju', 'NOUN'), ('Siti', 'PROPN'), ('Nurhaliza', 'PROPN'), ('-', 'PUNCT'), ('Seluruh', 'DET'), ('Cinta', 'PROPN'), ('sambil', 'ADP'), ('makan', 'VERB'), ('ayam', 'NOUN'), ('goreng', 'VERB'), ('KFC', 'PROPN')]\n",
      "[{'text': ['KUALA', 'LUMPUR'], 'type': 'PROPN', 'score': 1.0, 'beginOffset': 0, 'endOffset': 2}, {'text': [':'], 'type': 'PUNCT', 'score': 1.0, 'beginOffset': 2, 'endOffset': 3}, {'text': ['Sempena'], 'type': 'ADP', 'score': 1.0, 'beginOffset': 3, 'endOffset': 4}, {'text': ['sambutan', 'Aidilfitri', 'minggu', 'depan'], 'type': 'NOUN', 'score': 1.0, 'beginOffset': 4, 'endOffset': 8}, {'text': [','], 'type': 'PUNCT', 'score': 1.0, 'beginOffset': 8, 'endOffset': 9}, {'text': ['Perdana', 'Menteri', 'Tun', 'Dr', 'Mahathir', 'Mohamad'], 'type': 'PROPN', 'score': 1.0, 'beginOffset': 9, 'endOffset': 15}, {'text': ['dan'], 'type': 'CCONJ', 'score': 1.0, 'beginOffset': 15, 'endOffset': 16}, {'text': ['Menteri', 'Pengangkutan', 'Anthony', 'Loke', 'Siew', 'Fook'], 'type': 'PROPN', 'score': 1.0, 'beginOffset': 16, 'endOffset': 22}, {'text': ['menitipkan'], 'type': 'VERB', 'score': 1.0, 'beginOffset': 22, 'endOffset': 23}, {'text': ['pesanan'], 'type': 'NOUN', 'score': 1.0, 'beginOffset': 23, 'endOffset': 24}, {'text': ['khas'], 'type': 'ADJ', 'score': 1.0, 'beginOffset': 24, 'endOffset': 25}, {'text': ['kepada'], 'type': 'ADP', 'score': 1.0, 'beginOffset': 25, 'endOffset': 26}, {'text': ['orang'], 'type': 'NOUN', 'score': 1.0, 'beginOffset': 26, 'endOffset': 27}, {'text': ['ramai'], 'type': 'ADJ', 'score': 1.0, 'beginOffset': 27, 'endOffset': 28}, {'text': ['yang'], 'type': 'PRON', 'score': 1.0, 'beginOffset': 28, 'endOffset': 29}, {'text': ['mahu'], 'type': 'ADV', 'score': 1.0, 'beginOffset': 29, 'endOffset': 30}, {'text': ['pulang'], 'type': 'VERB', 'score': 1.0, 'beginOffset': 30, 'endOffset': 31}, {'text': ['ke'], 'type': 'ADP', 'score': 1.0, 'beginOffset': 31, 'endOffset': 32}, {'text': ['kampung', 'halaman'], 'type': 'NOUN', 'score': 1.0, 'beginOffset': 32, 'endOffset': 34}, {'text': ['masing-masing'], 'type': 'DET', 'score': 1.0, 'beginOffset': 34, 'endOffset': 35}, {'text': ['.'], 'type': 'PUNCT', 'score': 1.0, 'beginOffset': 35, 'endOffset': 36}, {'text': ['Dalam'], 'type': 'ADP', 'score': 1.0, 'beginOffset': 36, 'endOffset': 37}, {'text': ['video'], 'type': 'NOUN', 'score': 1.0, 'beginOffset': 37, 'endOffset': 38}, {'text': ['pendek'], 'type': 'ADJ', 'score': 1.0, 'beginOffset': 38, 'endOffset': 39}, {'text': ['terbitan'], 'type': 'NOUN', 'score': 1.0, 'beginOffset': 39, 'endOffset': 40}, {'text': ['Jabatan', 'Keselamatan', 'Jalan', 'Raya'], 'type': 'PROPN', 'score': 1.0, 'beginOffset': 40, 'endOffset': 44}, {'text': ['('], 'type': 'PUNCT', 'score': 1.0, 'beginOffset': 44, 'endOffset': 45}, {'text': ['JKJR'], 'type': 'PROPN', 'score': 1.0, 'beginOffset': 45, 'endOffset': 46}, {'text': [')'], 'type': 'PUNCT', 'score': 1.0, 'beginOffset': 46, 'endOffset': 47}, {'text': ['itu'], 'type': 'DET', 'score': 1.0, 'beginOffset': 47, 'endOffset': 48}, {'text': [','], 'type': 'PUNCT', 'score': 1.0, 'beginOffset': 48, 'endOffset': 49}, {'text': ['Dr', 'Mahathir'], 'type': 'PROPN', 'score': 1.0, 'beginOffset': 49, 'endOffset': 51}, {'text': ['menasihati'], 'type': 'VERB', 'score': 1.0, 'beginOffset': 51, 'endOffset': 52}, {'text': ['mereka'], 'type': 'PRON', 'score': 1.0, 'beginOffset': 52, 'endOffset': 53}, {'text': ['supaya'], 'type': 'SCONJ', 'score': 1.0, 'beginOffset': 53, 'endOffset': 54}, {'text': ['berhenti', 'berehat'], 'type': 'VERB', 'score': 1.0, 'beginOffset': 54, 'endOffset': 56}, {'text': ['dan'], 'type': 'CCONJ', 'score': 1.0, 'beginOffset': 56, 'endOffset': 57}, {'text': ['tidur'], 'type': 'VERB', 'score': 1.0, 'beginOffset': 57, 'endOffset': 58}, {'text': ['sebentar'], 'type': 'ADV', 'score': 1.0, 'beginOffset': 58, 'endOffset': 59}, {'text': ['sekiranya'], 'type': 'ADP', 'score': 1.0, 'beginOffset': 59, 'endOffset': 60}, {'text': ['mengantuk'], 'type': 'NOUN', 'score': 1.0, 'beginOffset': 60, 'endOffset': 61}, {'text': ['ketika'], 'type': 'SCONJ', 'score': 1.0, 'beginOffset': 61, 'endOffset': 62}, {'text': ['memandu'], 'type': 'VERB', 'score': 1.0, 'beginOffset': 62, 'endOffset': 63}, {'text': ['.'], 'type': 'PUNCT', 'score': 1.0, 'beginOffset': 63, 'endOffset': 64}]\n"
     ]
    },
    {
     "name": "stderr",
     "output_type": "stream",
     "text": [
      "DEBUG:urllib3.connectionpool:Starting new HTTPS connection (1): f000.backblazeb2.com:443\n"
     ]
    },
    {
     "name": "stdout",
     "output_type": "stream",
     "text": [
      "tiny-bert\n"
     ]
    },
    {
     "name": "stderr",
     "output_type": "stream",
     "text": [
      "DEBUG:urllib3.connectionpool:https://f000.backblazeb2.com:443 \"HEAD /file/malaya-model/pos/tiny-bert/model.pb HTTP/1.1\" 200 0\n",
      "DEBUG:urllib3.connectionpool:Starting new HTTPS connection (1): f000.backblazeb2.com:443\n",
      "DEBUG:urllib3.connectionpool:https://f000.backblazeb2.com:443 \"HEAD /file/malaya-model/bpe/sp10m.cased.bert.vocab HTTP/1.1\" 200 0\n",
      "DEBUG:urllib3.connectionpool:Starting new HTTPS connection (1): f000.backblazeb2.com:443\n",
      "DEBUG:urllib3.connectionpool:https://f000.backblazeb2.com:443 \"HEAD /file/malaya-model/bpe/sp10m.cased.bert.model HTTP/1.1\" 200 0\n",
      "DEBUG:urllib3.connectionpool:Starting new HTTPS connection (1): f000.backblazeb2.com:443\n",
      "DEBUG:urllib3.connectionpool:https://f000.backblazeb2.com:443 \"HEAD /file/malaya-model/setting/pos.json HTTP/1.1\" 200 0\n",
      "DEBUG:urllib3.connectionpool:Starting new HTTPS connection (1): f000.backblazeb2.com:443\n",
      "DEBUG:urllib3.connectionpool:https://f000.backblazeb2.com:443 \"HEAD /file/malaya-model/pos/tiny-bert/version HTTP/1.1\" 404 0\n",
      "DEBUG:urllib3.connectionpool:Starting new HTTPS connection (1): f000.backblazeb2.com:443\n"
     ]
    },
    {
     "name": "stdout",
     "output_type": "stream",
     "text": [
      "downloading frozen model to /Users/huseinzolkepli/Malaya/pos/tiny-bert/model.pb\n"
     ]
    },
    {
     "name": "stderr",
     "output_type": "stream",
     "text": [
      "DEBUG:urllib3.connectionpool:https://f000.backblazeb2.com:443 \"GET /file/malaya-model/pos/tiny-bert/model.pb HTTP/1.1\" 200 60524774\n",
      "100%|██████████| 58.0/57.7 [00:08<00:00, 7.04MB/s]\n",
      "DEBUG:urllib3.connectionpool:Starting new HTTPS connection (1): f000.backblazeb2.com:443\n"
     ]
    },
    {
     "name": "stdout",
     "output_type": "stream",
     "text": [
      "downloading frozen vocab to /Users/huseinzolkepli/Malaya/pos/tiny-bert/sp10m.cased.bert.vocab\n"
     ]
    },
    {
     "name": "stderr",
     "output_type": "stream",
     "text": [
      "DEBUG:urllib3.connectionpool:https://f000.backblazeb2.com:443 \"GET /file/malaya-model/bpe/sp10m.cased.bert.vocab HTTP/1.1\" 200 568997\n",
      "184%|██████████| 1.00/0.54 [00:00<00:00, 1.10MB/s]\n",
      "DEBUG:urllib3.connectionpool:Starting new HTTPS connection (1): f000.backblazeb2.com:443\n"
     ]
    },
    {
     "name": "stdout",
     "output_type": "stream",
     "text": [
      "downloading frozen tokenizer to /Users/huseinzolkepli/Malaya/pos/tiny-bert/sp10m.cased.bert.model\n"
     ]
    },
    {
     "name": "stderr",
     "output_type": "stream",
     "text": [
      "DEBUG:urllib3.connectionpool:https://f000.backblazeb2.com:443 \"GET /file/malaya-model/bpe/sp10m.cased.bert.model HTTP/1.1\" 200 778744\n",
      "135%|██████████| 1.00/0.74 [00:01<00:00, 1.12s/MB]\n",
      "DEBUG:urllib3.connectionpool:Starting new HTTPS connection (1): f000.backblazeb2.com:443\n"
     ]
    },
    {
     "name": "stdout",
     "output_type": "stream",
     "text": [
      "downloading frozen setting to /Users/huseinzolkepli/Malaya/pos/tiny-bert/pos.json\n"
     ]
    },
    {
     "name": "stderr",
     "output_type": "stream",
     "text": [
      "DEBUG:urllib3.connectionpool:https://f000.backblazeb2.com:443 \"GET /file/malaya-model/setting/pos.json HTTP/1.1\" 200 825070\n",
      "127%|██████████| 1.00/0.79 [00:01<00:00, 1.00s/MB]\n",
      "INFO:root:running pos/tiny-bert using device /device:CPU:0\n",
      "DEBUG:root:['[CLS]', '▁KUALA', '▁LUMPUR', '▁:', '▁Sempena', '▁sambutan', '▁Aidilfitri', '▁minggu', '▁depan', '▁,', '▁Perdana', '▁Menteri', '▁Tun', '▁Dr', '▁Mahathir', '▁Mohamad', '▁dan', '▁Menteri', '▁Pengangkutan', '▁Anthony', '▁Loke', '▁Siew', '▁Fook', '▁menit', 'ip', 'kan', '▁pesanan', '▁khas', '▁kepada', '▁orang', '▁ramai', '▁yang', '▁mahu', '▁pulang', '▁ke', '▁kampung', '▁halaman', '▁masing', '-', 'masing', '▁', '.', '▁Dalam', '▁video', '▁pendek', '▁terbitan', '▁Jabatan', '▁Keselamatan', '▁Jalan', '▁Raya', '▁', '(', '▁', 'JK', 'JR', '▁', ')', '▁itu', '▁,', '▁Dr', '▁Mahathir', '▁menasihati', '▁mereka', '▁supaya', '▁berhenti', '▁berehat', '▁dan', '▁tidur', '▁sebentar', '▁sekiranya', '▁mengantuk', '▁ketika', '▁memandu', '▁', '.', '[SEP]']\n",
      "DEBUG:root:['[CLS]', '▁memperkenalkan', '▁Hu', 'se', 'in', '▁,', '▁dia', '▁sangat', '▁comel', '▁,', '▁berumur', '▁25', '▁tahun', '▁,', '▁bangsa', '▁melayu', '▁,', '▁agama', '▁islam', '▁,', '▁tinggal', '▁di', '▁cyberjaya', '▁malaysia', '▁,', '▁bercakap', '▁bahasa', '▁melayu', '▁,', '▁semua', '▁membaca', '▁buku', '▁undang', '-', 'undang', '▁kewangan', '▁,', '▁dengar', '▁laju', '▁Siti', '▁Nurhaliza', '▁', '-', '▁Seluruh', '▁Cinta', '▁sambil', '▁makan', '▁ayam', '▁goreng', '▁KFC', '[SEP]']\n",
      "DEBUG:root:['[CLS]', '▁KUALA', '▁LUMPUR', '▁:', '▁Sempena', '▁sambutan', '▁Aidilfitri', '▁minggu', '▁depan', '▁,', '▁Perdana', '▁Menteri', '▁Tun', '▁Dr', '▁Mahathir', '▁Mohamad', '▁dan', '▁Menteri', '▁Pengangkutan', '▁Anthony', '▁Loke', '▁Siew', '▁Fook', '▁menit', 'ip', 'kan', '▁pesanan', '▁khas', '▁kepada', '▁orang', '▁ramai', '▁yang', '▁mahu', '▁pulang', '▁ke', '▁kampung', '▁halaman', '▁masing', '-', 'masing', '▁', '.', '▁Dalam', '▁video', '▁pendek', '▁terbitan', '▁Jabatan', '▁Keselamatan', '▁Jalan', '▁Raya', '▁', '(', '▁', 'JK', 'JR', '▁', ')', '▁itu', '▁,', '▁Dr', '▁Mahathir', '▁menasihati', '▁mereka', '▁supaya', '▁berhenti', '▁berehat', '▁dan', '▁tidur', '▁sebentar', '▁sekiranya', '▁mengantuk', '▁ketika', '▁memandu', '▁', '.', '[SEP]']\n",
      "DEBUG:urllib3.connectionpool:Starting new HTTPS connection (1): f000.backblazeb2.com:443\n"
     ]
    },
    {
     "name": "stdout",
     "output_type": "stream",
     "text": [
      "[('KUALA', 'PROPN'), ('LUMPUR', 'PROPN'), (':', 'PUNCT'), ('Sempena', 'ADP'), ('sambutan', 'NOUN'), ('Aidilfitri', 'NOUN'), ('minggu', 'NOUN'), ('depan', 'NOUN'), (',', 'PUNCT'), ('Perdana', 'PROPN'), ('Menteri', 'PROPN'), ('Tun', 'PROPN'), ('Dr', 'PROPN'), ('Mahathir', 'PROPN'), ('Mohamad', 'PROPN'), ('dan', 'CCONJ'), ('Menteri', 'PROPN'), ('Pengangkutan', 'PROPN'), ('Anthony', 'PROPN'), ('Loke', 'PROPN'), ('Siew', 'PROPN'), ('Fook', 'PROPN'), ('menitipkan', 'VERB'), ('pesanan', 'NOUN'), ('khas', 'ADJ'), ('kepada', 'ADP'), ('orang', 'PRON'), ('ramai', 'ADJ'), ('yang', 'PRON'), ('mahu', 'ADV'), ('pulang', 'VERB'), ('ke', 'ADP'), ('kampung', 'NOUN'), ('halaman', 'NOUN'), ('masing-masing', 'DET'), ('.', 'PUNCT'), ('Dalam', 'ADP'), ('video', 'NOUN'), ('pendek', 'ADJ'), ('terbitan', 'NOUN'), ('Jabatan', 'NOUN'), ('Keselamatan', 'PROPN'), ('Jalan', 'PROPN'), ('Raya', 'PROPN'), ('(', 'PUNCT'), ('JKJR', 'PROPN'), (')', 'PUNCT'), ('itu', 'DET'), (',', 'PUNCT'), ('Dr', 'PROPN'), ('Mahathir', 'PROPN'), ('menasihati', 'VERB'), ('mereka', 'PRON'), ('supaya', 'SCONJ'), ('berhenti', 'VERB'), ('berehat', 'VERB'), ('dan', 'CCONJ'), ('tidur', 'VERB'), ('sebentar', 'ADV'), ('sekiranya', 'ADP'), ('mengantuk', 'NOUN'), ('ketika', 'SCONJ'), ('memandu', 'VERB'), ('.', 'PUNCT')]\n",
      "[('memperkenalkan', 'VERB'), ('Husein', 'PROPN'), (',', 'PUNCT'), ('dia', 'PRON'), ('sangat', 'ADV'), ('comel', 'ADJ'), (',', 'PUNCT'), ('berumur', 'VERB'), ('25', 'NUM'), ('tahun', 'NOUN'), (',', 'PUNCT'), ('bangsa', 'NOUN'), ('melayu', 'PROPN'), (',', 'PUNCT'), ('agama', 'NOUN'), ('islam', 'PROPN'), (',', 'PUNCT'), ('tinggal', 'VERB'), ('di', 'ADP'), ('cyberjaya', 'PROPN'), ('malaysia', 'PROPN'), (',', 'PUNCT'), ('bercakap', 'VERB'), ('bahasa', 'NOUN'), ('melayu', 'NOUN'), (',', 'PUNCT'), ('semua', 'DET'), ('membaca', 'VERB'), ('buku', 'NOUN'), ('undang-undang', 'NOUN'), ('kewangan', 'NOUN'), (',', 'PUNCT'), ('dengar', 'VERB'), ('laju', 'NOUN'), ('Siti', 'PROPN'), ('Nurhaliza', 'PROPN'), ('-', 'PUNCT'), ('Seluruh', 'DET'), ('Cinta', 'PROPN'), ('sambil', 'ADP'), ('makan', 'VERB'), ('ayam', 'NOUN'), ('goreng', 'VERB'), ('KFC', 'PROPN')]\n",
      "[{'text': ['KUALA', 'LUMPUR'], 'type': 'PROPN', 'score': 1.0, 'beginOffset': 0, 'endOffset': 2}, {'text': [':'], 'type': 'PUNCT', 'score': 1.0, 'beginOffset': 2, 'endOffset': 3}, {'text': ['Sempena'], 'type': 'ADP', 'score': 1.0, 'beginOffset': 3, 'endOffset': 4}, {'text': ['sambutan', 'Aidilfitri', 'minggu'], 'type': 'NOUN', 'score': 1.0, 'beginOffset': 4, 'endOffset': 7}, {'text': ['depan'], 'type': 'ADJ', 'score': 1.0, 'beginOffset': 7, 'endOffset': 8}, {'text': [','], 'type': 'PUNCT', 'score': 1.0, 'beginOffset': 8, 'endOffset': 9}, {'text': ['Perdana', 'Menteri', 'Tun', 'Dr', 'Mahathir', 'Mohamad'], 'type': 'PROPN', 'score': 1.0, 'beginOffset': 9, 'endOffset': 15}, {'text': ['dan'], 'type': 'CCONJ', 'score': 1.0, 'beginOffset': 15, 'endOffset': 16}, {'text': ['Menteri', 'Pengangkutan', 'Anthony', 'Loke', 'Siew', 'Fook'], 'type': 'PROPN', 'score': 1.0, 'beginOffset': 16, 'endOffset': 22}, {'text': ['menitipkan'], 'type': 'VERB', 'score': 1.0, 'beginOffset': 22, 'endOffset': 23}, {'text': ['pesanan'], 'type': 'NOUN', 'score': 1.0, 'beginOffset': 23, 'endOffset': 24}, {'text': ['khas'], 'type': 'ADJ', 'score': 1.0, 'beginOffset': 24, 'endOffset': 25}, {'text': ['kepada'], 'type': 'ADP', 'score': 1.0, 'beginOffset': 25, 'endOffset': 26}, {'text': ['orang'], 'type': 'NOUN', 'score': 1.0, 'beginOffset': 26, 'endOffset': 27}, {'text': ['ramai'], 'type': 'ADJ', 'score': 1.0, 'beginOffset': 27, 'endOffset': 28}, {'text': ['yang'], 'type': 'PRON', 'score': 1.0, 'beginOffset': 28, 'endOffset': 29}, {'text': ['mahu'], 'type': 'ADV', 'score': 1.0, 'beginOffset': 29, 'endOffset': 30}, {'text': ['pulang'], 'type': 'VERB', 'score': 1.0, 'beginOffset': 30, 'endOffset': 31}, {'text': ['ke'], 'type': 'ADP', 'score': 1.0, 'beginOffset': 31, 'endOffset': 32}, {'text': ['kampung', 'halaman'], 'type': 'NOUN', 'score': 1.0, 'beginOffset': 32, 'endOffset': 34}, {'text': ['masing-masing'], 'type': 'DET', 'score': 1.0, 'beginOffset': 34, 'endOffset': 35}, {'text': ['.'], 'type': 'PUNCT', 'score': 1.0, 'beginOffset': 35, 'endOffset': 36}, {'text': ['Dalam'], 'type': 'ADP', 'score': 1.0, 'beginOffset': 36, 'endOffset': 37}, {'text': ['video'], 'type': 'NOUN', 'score': 1.0, 'beginOffset': 37, 'endOffset': 38}, {'text': ['pendek'], 'type': 'ADJ', 'score': 1.0, 'beginOffset': 38, 'endOffset': 39}, {'text': ['terbitan'], 'type': 'NOUN', 'score': 1.0, 'beginOffset': 39, 'endOffset': 40}, {'text': ['Jabatan', 'Keselamatan', 'Jalan', 'Raya'], 'type': 'PROPN', 'score': 1.0, 'beginOffset': 40, 'endOffset': 44}, {'text': ['('], 'type': 'PUNCT', 'score': 1.0, 'beginOffset': 44, 'endOffset': 45}, {'text': ['JKJR'], 'type': 'PROPN', 'score': 1.0, 'beginOffset': 45, 'endOffset': 46}, {'text': [')'], 'type': 'PUNCT', 'score': 1.0, 'beginOffset': 46, 'endOffset': 47}, {'text': ['itu'], 'type': 'DET', 'score': 1.0, 'beginOffset': 47, 'endOffset': 48}, {'text': [','], 'type': 'PUNCT', 'score': 1.0, 'beginOffset': 48, 'endOffset': 49}, {'text': ['Dr', 'Mahathir'], 'type': 'PROPN', 'score': 1.0, 'beginOffset': 49, 'endOffset': 51}, {'text': ['menasihati'], 'type': 'VERB', 'score': 1.0, 'beginOffset': 51, 'endOffset': 52}, {'text': ['mereka'], 'type': 'PRON', 'score': 1.0, 'beginOffset': 52, 'endOffset': 53}, {'text': ['supaya'], 'type': 'SCONJ', 'score': 1.0, 'beginOffset': 53, 'endOffset': 54}, {'text': ['berhenti', 'berehat'], 'type': 'VERB', 'score': 1.0, 'beginOffset': 54, 'endOffset': 56}, {'text': ['dan'], 'type': 'CCONJ', 'score': 1.0, 'beginOffset': 56, 'endOffset': 57}, {'text': ['tidur'], 'type': 'VERB', 'score': 1.0, 'beginOffset': 57, 'endOffset': 58}, {'text': ['sebentar'], 'type': 'ADV', 'score': 1.0, 'beginOffset': 58, 'endOffset': 59}, {'text': ['sekiranya'], 'type': 'ADP', 'score': 1.0, 'beginOffset': 59, 'endOffset': 60}, {'text': ['mengantuk'], 'type': 'ADJ', 'score': 1.0, 'beginOffset': 60, 'endOffset': 61}, {'text': ['ketika'], 'type': 'SCONJ', 'score': 1.0, 'beginOffset': 61, 'endOffset': 62}, {'text': ['memandu'], 'type': 'VERB', 'score': 1.0, 'beginOffset': 62, 'endOffset': 63}, {'text': ['.'], 'type': 'PUNCT', 'score': 1.0, 'beginOffset': 63, 'endOffset': 64}]\n",
      "albert\n"
     ]
    },
    {
     "name": "stderr",
     "output_type": "stream",
     "text": [
      "DEBUG:urllib3.connectionpool:https://f000.backblazeb2.com:443 \"HEAD /file/malaya-model/pos/albert/model.pb HTTP/1.1\" 200 0\n",
      "DEBUG:urllib3.connectionpool:Starting new HTTPS connection (1): f000.backblazeb2.com:443\n",
      "DEBUG:urllib3.connectionpool:https://f000.backblazeb2.com:443 \"HEAD /file/malaya-model/bpe/sp10m.cased.v10.vocab HTTP/1.1\" 200 0\n",
      "DEBUG:urllib3.connectionpool:Starting new HTTPS connection (1): f000.backblazeb2.com:443\n",
      "DEBUG:urllib3.connectionpool:https://f000.backblazeb2.com:443 \"HEAD /file/malaya-model/bpe/sp10m.cased.v10.model HTTP/1.1\" 200 0\n",
      "DEBUG:urllib3.connectionpool:Starting new HTTPS connection (1): f000.backblazeb2.com:443\n",
      "DEBUG:urllib3.connectionpool:https://f000.backblazeb2.com:443 \"HEAD /file/malaya-model/setting/pos.json HTTP/1.1\" 200 0\n",
      "DEBUG:urllib3.connectionpool:Starting new HTTPS connection (1): f000.backblazeb2.com:443\n",
      "DEBUG:urllib3.connectionpool:https://f000.backblazeb2.com:443 \"HEAD /file/malaya-model/pos/albert/version HTTP/1.1\" 404 0\n",
      "DEBUG:urllib3.connectionpool:Starting new HTTPS connection (1): f000.backblazeb2.com:443\n"
     ]
    },
    {
     "name": "stdout",
     "output_type": "stream",
     "text": [
      "downloading frozen model to /Users/huseinzolkepli/Malaya/pos/albert/model.pb\n"
     ]
    },
    {
     "name": "stderr",
     "output_type": "stream",
     "text": [
      "DEBUG:urllib3.connectionpool:https://f000.backblazeb2.com:443 \"GET /file/malaya-model/pos/albert/model.pb HTTP/1.1\" 200 51024896\n",
      "101%|██████████| 49.0/48.7 [00:07<00:00, 6.79MB/s]\n",
      "DEBUG:urllib3.connectionpool:Starting new HTTPS connection (1): f000.backblazeb2.com:443\n"
     ]
    },
    {
     "name": "stdout",
     "output_type": "stream",
     "text": [
      "downloading frozen vocab to /Users/huseinzolkepli/Malaya/pos/albert/sp10m.cased.v10.vocab\n"
     ]
    },
    {
     "name": "stderr",
     "output_type": "stream",
     "text": [
      "DEBUG:urllib3.connectionpool:https://f000.backblazeb2.com:443 \"GET /file/malaya-model/bpe/sp10m.cased.v10.vocab HTTP/1.1\" 200 569013\n",
      "184%|██████████| 1.00/0.54 [00:00<00:00, 1.02MB/s]\n",
      "DEBUG:urllib3.connectionpool:Starting new HTTPS connection (1): f000.backblazeb2.com:443\n"
     ]
    },
    {
     "name": "stdout",
     "output_type": "stream",
     "text": [
      "downloading frozen tokenizer to /Users/huseinzolkepli/Malaya/pos/albert/sp10m.cased.v10.model\n"
     ]
    },
    {
     "name": "stderr",
     "output_type": "stream",
     "text": [
      "DEBUG:urllib3.connectionpool:https://f000.backblazeb2.com:443 \"GET /file/malaya-model/bpe/sp10m.cased.v10.model HTTP/1.1\" 200 778641\n",
      "135%|██████████| 1.00/0.74 [00:01<00:00, 1.04s/MB]\n",
      "DEBUG:urllib3.connectionpool:Starting new HTTPS connection (1): f000.backblazeb2.com:443\n"
     ]
    },
    {
     "name": "stdout",
     "output_type": "stream",
     "text": [
      "downloading frozen setting to /Users/huseinzolkepli/Malaya/pos/albert/pos.json\n"
     ]
    },
    {
     "name": "stderr",
     "output_type": "stream",
     "text": [
      "DEBUG:urllib3.connectionpool:https://f000.backblazeb2.com:443 \"GET /file/malaya-model/setting/pos.json HTTP/1.1\" 200 825070\n",
      "127%|██████████| 1.00/0.79 [00:01<00:00, 1.19s/MB]\n",
      "INFO:root:running pos/albert using device /device:CPU:0\n",
      "DEBUG:root:['[CLS]', '▁KUALA', '▁LUMPUR', '▁:', '▁Sempena', '▁sambutan', '▁Aidilfitri', '▁minggu', '▁depan', '▁,', '▁Perdana', '▁Menteri', '▁Tun', '▁Dr', '▁Mahathir', '▁Mohamad', '▁dan', '▁Menteri', '▁Pengangkutan', '▁Anthony', '▁Loke', '▁Siew', '▁Fook', '▁menit', 'ip', 'kan', '▁pesanan', '▁khas', '▁kepada', '▁orang', '▁ramai', '▁yang', '▁mahu', '▁pulang', '▁ke', '▁kampung', '▁halaman', '▁masing', '-', 'masing', '▁', '.', '▁Dalam', '▁video', '▁pendek', '▁terbitan', '▁Jabatan', '▁Keselamatan', '▁Jalan', '▁Raya', '▁', '(', '▁', 'JK', 'JR', '▁', ')', '▁itu', '▁,', '▁Dr', '▁Mahathir', '▁menasihati', '▁mereka', '▁supaya', '▁berhenti', '▁berehat', '▁dan', '▁tidur', '▁sebentar', '▁sekiranya', '▁mengantuk', '▁ketika', '▁memandu', '▁', '.', '[SEP]']\n",
      "DEBUG:root:['[CLS]', '▁memperkenalkan', '▁Hu', 'se', 'in', '▁,', '▁dia', '▁sangat', '▁comel', '▁,', '▁berumur', '▁25', '▁tahun', '▁,', '▁bangsa', '▁melayu', '▁,', '▁agama', '▁islam', '▁,', '▁tinggal', '▁di', '▁cyberjaya', '▁malaysia', '▁,', '▁bercakap', '▁bahasa', '▁melayu', '▁,', '▁semua', '▁membaca', '▁buku', '▁undang', '-', 'undang', '▁kewangan', '▁,', '▁dengar', '▁laju', '▁Siti', '▁Nurhaliza', '▁', '-', '▁Seluruh', '▁Cinta', '▁sambil', '▁makan', '▁ayam', '▁goreng', '▁KFC', '[SEP]']\n",
      "DEBUG:root:['[CLS]', '▁KUALA', '▁LUMPUR', '▁:', '▁Sempena', '▁sambutan', '▁Aidilfitri', '▁minggu', '▁depan', '▁,', '▁Perdana', '▁Menteri', '▁Tun', '▁Dr', '▁Mahathir', '▁Mohamad', '▁dan', '▁Menteri', '▁Pengangkutan', '▁Anthony', '▁Loke', '▁Siew', '▁Fook', '▁menit', 'ip', 'kan', '▁pesanan', '▁khas', '▁kepada', '▁orang', '▁ramai', '▁yang', '▁mahu', '▁pulang', '▁ke', '▁kampung', '▁halaman', '▁masing', '-', 'masing', '▁', '.', '▁Dalam', '▁video', '▁pendek', '▁terbitan', '▁Jabatan', '▁Keselamatan', '▁Jalan', '▁Raya', '▁', '(', '▁', 'JK', 'JR', '▁', ')', '▁itu', '▁,', '▁Dr', '▁Mahathir', '▁menasihati', '▁mereka', '▁supaya', '▁berhenti', '▁berehat', '▁dan', '▁tidur', '▁sebentar', '▁sekiranya', '▁mengantuk', '▁ketika', '▁memandu', '▁', '.', '[SEP]']\n"
     ]
    },
    {
     "name": "stdout",
     "output_type": "stream",
     "text": [
      "[('KUALA', 'PROPN'), ('LUMPUR', 'PROPN'), (':', 'PUNCT'), ('Sempena', 'ADP'), ('sambutan', 'NOUN'), ('Aidilfitri', 'NOUN'), ('minggu', 'NOUN'), ('depan', 'ADJ'), (',', 'PUNCT'), ('Perdana', 'PROPN'), ('Menteri', 'PROPN'), ('Tun', 'PROPN'), ('Dr', 'PROPN'), ('Mahathir', 'PROPN'), ('Mohamad', 'PROPN'), ('dan', 'CCONJ'), ('Menteri', 'PROPN'), ('Pengangkutan', 'PROPN'), ('Anthony', 'PROPN'), ('Loke', 'PROPN'), ('Siew', 'PROPN'), ('Fook', 'PROPN'), ('menitipkan', 'VERB'), ('pesanan', 'NOUN'), ('khas', 'ADJ'), ('kepada', 'ADP'), ('orang', 'NOUN'), ('ramai', 'ADJ'), ('yang', 'PRON'), ('mahu', 'ADV'), ('pulang', 'VERB'), ('ke', 'ADP'), ('kampung', 'NOUN'), ('halaman', 'NOUN'), ('masing-masing', 'DET'), ('.', 'PUNCT'), ('Dalam', 'ADP'), ('video', 'NOUN'), ('pendek', 'ADJ'), ('terbitan', 'NOUN'), ('Jabatan', 'PROPN'), ('Keselamatan', 'PROPN'), ('Jalan', 'PROPN'), ('Raya', 'PROPN'), ('(', 'PUNCT'), ('JKJR', 'PROPN'), (')', 'PUNCT'), ('itu', 'DET'), (',', 'PUNCT'), ('Dr', 'PROPN'), ('Mahathir', 'PROPN'), ('menasihati', 'VERB'), ('mereka', 'PRON'), ('supaya', 'SCONJ'), ('berhenti', 'VERB'), ('berehat', 'VERB'), ('dan', 'CCONJ'), ('tidur', 'VERB'), ('sebentar', 'NOUN'), ('sekiranya', 'SCONJ'), ('mengantuk', 'ADJ'), ('ketika', 'SCONJ'), ('memandu', 'VERB'), ('.', 'PUNCT')]\n",
      "[('memperkenalkan', 'VERB'), ('Husein', 'PROPN'), (',', 'PUNCT'), ('dia', 'PRON'), ('sangat', 'ADV'), ('comel', 'ADJ'), (',', 'PUNCT'), ('berumur', 'VERB'), ('25', 'NUM'), ('tahun', 'NOUN'), (',', 'PUNCT'), ('bangsa', 'NOUN'), ('melayu', 'NOUN'), (',', 'PUNCT'), ('agama', 'NOUN'), ('islam', 'PROPN'), (',', 'PUNCT'), ('tinggal', 'VERB'), ('di', 'ADP'), ('cyberjaya', 'NOUN'), ('malaysia', 'PROPN'), (',', 'PUNCT'), ('bercakap', 'VERB'), ('bahasa', 'NOUN'), ('melayu', 'NOUN'), (',', 'PUNCT'), ('semua', 'DET'), ('membaca', 'VERB'), ('buku', 'NOUN'), ('undang-undang', 'NOUN'), ('kewangan', 'NOUN'), (',', 'PUNCT'), ('dengar', 'VERB'), ('laju', 'ADJ'), ('Siti', 'PROPN'), ('Nurhaliza', 'PROPN'), ('-', 'PUNCT'), ('Seluruh', 'PROPN'), ('Cinta', 'PROPN'), ('sambil', 'ADP'), ('makan', 'VERB'), ('ayam', 'NOUN'), ('goreng', 'VERB'), ('KFC', 'PROPN')]\n"
     ]
    },
    {
     "name": "stderr",
     "output_type": "stream",
     "text": [
      "DEBUG:urllib3.connectionpool:Starting new HTTPS connection (1): f000.backblazeb2.com:443\n"
     ]
    },
    {
     "name": "stdout",
     "output_type": "stream",
     "text": [
      "[{'text': ['KUALA', 'LUMPUR'], 'type': 'PROPN', 'score': 1.0, 'beginOffset': 0, 'endOffset': 2}, {'text': [':'], 'type': 'PUNCT', 'score': 1.0, 'beginOffset': 2, 'endOffset': 3}, {'text': ['Sempena'], 'type': 'ADP', 'score': 1.0, 'beginOffset': 3, 'endOffset': 4}, {'text': ['sambutan', 'Aidilfitri', 'minggu'], 'type': 'NOUN', 'score': 1.0, 'beginOffset': 4, 'endOffset': 7}, {'text': ['depan'], 'type': 'ADJ', 'score': 1.0, 'beginOffset': 7, 'endOffset': 8}, {'text': [','], 'type': 'PUNCT', 'score': 1.0, 'beginOffset': 8, 'endOffset': 9}, {'text': ['Perdana', 'Menteri', 'Tun', 'Dr', 'Mahathir', 'Mohamad'], 'type': 'PROPN', 'score': 1.0, 'beginOffset': 9, 'endOffset': 15}, {'text': ['dan'], 'type': 'CCONJ', 'score': 1.0, 'beginOffset': 15, 'endOffset': 16}, {'text': ['Menteri', 'Pengangkutan', 'Anthony', 'Loke', 'Siew', 'Fook'], 'type': 'PROPN', 'score': 1.0, 'beginOffset': 16, 'endOffset': 22}, {'text': ['menitipkan'], 'type': 'VERB', 'score': 1.0, 'beginOffset': 22, 'endOffset': 23}, {'text': ['pesanan'], 'type': 'NOUN', 'score': 1.0, 'beginOffset': 23, 'endOffset': 24}, {'text': ['khas'], 'type': 'ADJ', 'score': 1.0, 'beginOffset': 24, 'endOffset': 25}, {'text': ['kepada'], 'type': 'ADP', 'score': 1.0, 'beginOffset': 25, 'endOffset': 26}, {'text': ['orang'], 'type': 'NOUN', 'score': 1.0, 'beginOffset': 26, 'endOffset': 27}, {'text': ['ramai'], 'type': 'ADJ', 'score': 1.0, 'beginOffset': 27, 'endOffset': 28}, {'text': ['yang'], 'type': 'PRON', 'score': 1.0, 'beginOffset': 28, 'endOffset': 29}, {'text': ['mahu'], 'type': 'ADV', 'score': 1.0, 'beginOffset': 29, 'endOffset': 30}, {'text': ['pulang'], 'type': 'VERB', 'score': 1.0, 'beginOffset': 30, 'endOffset': 31}, {'text': ['ke'], 'type': 'ADP', 'score': 1.0, 'beginOffset': 31, 'endOffset': 32}, {'text': ['kampung', 'halaman'], 'type': 'NOUN', 'score': 1.0, 'beginOffset': 32, 'endOffset': 34}, {'text': ['masing-masing'], 'type': 'DET', 'score': 1.0, 'beginOffset': 34, 'endOffset': 35}, {'text': ['.'], 'type': 'PUNCT', 'score': 1.0, 'beginOffset': 35, 'endOffset': 36}, {'text': ['Dalam'], 'type': 'ADP', 'score': 1.0, 'beginOffset': 36, 'endOffset': 37}, {'text': ['video'], 'type': 'NOUN', 'score': 1.0, 'beginOffset': 37, 'endOffset': 38}, {'text': ['pendek'], 'type': 'ADJ', 'score': 1.0, 'beginOffset': 38, 'endOffset': 39}, {'text': ['terbitan'], 'type': 'NOUN', 'score': 1.0, 'beginOffset': 39, 'endOffset': 40}, {'text': ['Jabatan', 'Keselamatan', 'Jalan', 'Raya'], 'type': 'PROPN', 'score': 1.0, 'beginOffset': 40, 'endOffset': 44}, {'text': ['('], 'type': 'PUNCT', 'score': 1.0, 'beginOffset': 44, 'endOffset': 45}, {'text': ['JKJR'], 'type': 'PROPN', 'score': 1.0, 'beginOffset': 45, 'endOffset': 46}, {'text': [')'], 'type': 'PUNCT', 'score': 1.0, 'beginOffset': 46, 'endOffset': 47}, {'text': ['itu'], 'type': 'DET', 'score': 1.0, 'beginOffset': 47, 'endOffset': 48}, {'text': [','], 'type': 'PUNCT', 'score': 1.0, 'beginOffset': 48, 'endOffset': 49}, {'text': ['Dr', 'Mahathir'], 'type': 'PROPN', 'score': 1.0, 'beginOffset': 49, 'endOffset': 51}, {'text': ['menasihati'], 'type': 'VERB', 'score': 1.0, 'beginOffset': 51, 'endOffset': 52}, {'text': ['mereka'], 'type': 'PRON', 'score': 1.0, 'beginOffset': 52, 'endOffset': 53}, {'text': ['supaya'], 'type': 'SCONJ', 'score': 1.0, 'beginOffset': 53, 'endOffset': 54}, {'text': ['berhenti', 'berehat'], 'type': 'VERB', 'score': 1.0, 'beginOffset': 54, 'endOffset': 56}, {'text': ['dan'], 'type': 'CCONJ', 'score': 1.0, 'beginOffset': 56, 'endOffset': 57}, {'text': ['tidur'], 'type': 'VERB', 'score': 1.0, 'beginOffset': 57, 'endOffset': 58}, {'text': ['sebentar'], 'type': 'NOUN', 'score': 1.0, 'beginOffset': 58, 'endOffset': 59}, {'text': ['sekiranya'], 'type': 'SCONJ', 'score': 1.0, 'beginOffset': 59, 'endOffset': 60}, {'text': ['mengantuk'], 'type': 'ADJ', 'score': 1.0, 'beginOffset': 60, 'endOffset': 61}, {'text': ['ketika'], 'type': 'SCONJ', 'score': 1.0, 'beginOffset': 61, 'endOffset': 62}, {'text': ['memandu'], 'type': 'VERB', 'score': 1.0, 'beginOffset': 62, 'endOffset': 63}, {'text': ['.'], 'type': 'PUNCT', 'score': 1.0, 'beginOffset': 63, 'endOffset': 64}]\n",
      "tiny-albert\n"
     ]
    },
    {
     "name": "stderr",
     "output_type": "stream",
     "text": [
      "DEBUG:urllib3.connectionpool:https://f000.backblazeb2.com:443 \"HEAD /file/malaya-model/pos/tiny-albert/model.pb HTTP/1.1\" 200 0\n",
      "DEBUG:urllib3.connectionpool:Starting new HTTPS connection (1): f000.backblazeb2.com:443\n",
      "DEBUG:urllib3.connectionpool:https://f000.backblazeb2.com:443 \"HEAD /file/malaya-model/bpe/sp10m.cased.v10.vocab HTTP/1.1\" 200 0\n",
      "DEBUG:urllib3.connectionpool:Starting new HTTPS connection (1): f000.backblazeb2.com:443\n",
      "DEBUG:urllib3.connectionpool:https://f000.backblazeb2.com:443 \"HEAD /file/malaya-model/bpe/sp10m.cased.v10.model HTTP/1.1\" 200 0\n",
      "DEBUG:urllib3.connectionpool:Starting new HTTPS connection (1): f000.backblazeb2.com:443\n",
      "DEBUG:urllib3.connectionpool:https://f000.backblazeb2.com:443 \"HEAD /file/malaya-model/setting/pos.json HTTP/1.1\" 200 0\n",
      "DEBUG:urllib3.connectionpool:Starting new HTTPS connection (1): f000.backblazeb2.com:443\n",
      "DEBUG:urllib3.connectionpool:https://f000.backblazeb2.com:443 \"HEAD /file/malaya-model/pos/tiny-albert/version HTTP/1.1\" 404 0\n",
      "DEBUG:urllib3.connectionpool:Starting new HTTPS connection (1): f000.backblazeb2.com:443\n"
     ]
    },
    {
     "name": "stdout",
     "output_type": "stream",
     "text": [
      "downloading frozen model to /Users/huseinzolkepli/Malaya/pos/tiny-albert/model.pb\n"
     ]
    },
    {
     "name": "stderr",
     "output_type": "stream",
     "text": [
      "DEBUG:urllib3.connectionpool:https://f000.backblazeb2.com:443 \"GET /file/malaya-model/pos/tiny-albert/model.pb HTTP/1.1\" 200 23513798\n",
      "23.0MB [00:04, 5.68MB/s]                          \n",
      "DEBUG:urllib3.connectionpool:Starting new HTTPS connection (1): f000.backblazeb2.com:443\n"
     ]
    },
    {
     "name": "stdout",
     "output_type": "stream",
     "text": [
      "downloading frozen vocab to /Users/huseinzolkepli/Malaya/pos/tiny-albert/sp10m.cased.v10.vocab\n"
     ]
    },
    {
     "name": "stderr",
     "output_type": "stream",
     "text": [
      "DEBUG:urllib3.connectionpool:https://f000.backblazeb2.com:443 \"GET /file/malaya-model/bpe/sp10m.cased.v10.vocab HTTP/1.1\" 200 569013\n",
      "184%|██████████| 1.00/0.54 [00:00<00:00, 1.22MB/s]\n",
      "DEBUG:urllib3.connectionpool:Starting new HTTPS connection (1): f000.backblazeb2.com:443\n"
     ]
    },
    {
     "name": "stdout",
     "output_type": "stream",
     "text": [
      "downloading frozen tokenizer to /Users/huseinzolkepli/Malaya/pos/tiny-albert/sp10m.cased.v10.model\n"
     ]
    },
    {
     "name": "stderr",
     "output_type": "stream",
     "text": [
      "DEBUG:urllib3.connectionpool:https://f000.backblazeb2.com:443 \"GET /file/malaya-model/bpe/sp10m.cased.v10.model HTTP/1.1\" 200 778641\n",
      "135%|██████████| 1.00/0.74 [00:01<00:00, 1.21s/MB]\n",
      "DEBUG:urllib3.connectionpool:Starting new HTTPS connection (1): f000.backblazeb2.com:443\n"
     ]
    },
    {
     "name": "stdout",
     "output_type": "stream",
     "text": [
      "downloading frozen setting to /Users/huseinzolkepli/Malaya/pos/tiny-albert/pos.json\n"
     ]
    },
    {
     "name": "stderr",
     "output_type": "stream",
     "text": [
      "DEBUG:urllib3.connectionpool:https://f000.backblazeb2.com:443 \"GET /file/malaya-model/setting/pos.json HTTP/1.1\" 200 825070\n",
      "127%|██████████| 1.00/0.79 [00:01<00:00, 1.12s/MB]\n",
      "INFO:root:running pos/tiny-albert using device /device:CPU:0\n",
      "DEBUG:root:['[CLS]', '▁KUALA', '▁LUMPUR', '▁:', '▁Sempena', '▁sambutan', '▁Aidilfitri', '▁minggu', '▁depan', '▁,', '▁Perdana', '▁Menteri', '▁Tun', '▁Dr', '▁Mahathir', '▁Mohamad', '▁dan', '▁Menteri', '▁Pengangkutan', '▁Anthony', '▁Loke', '▁Siew', '▁Fook', '▁menit', 'ip', 'kan', '▁pesanan', '▁khas', '▁kepada', '▁orang', '▁ramai', '▁yang', '▁mahu', '▁pulang', '▁ke', '▁kampung', '▁halaman', '▁masing', '-', 'masing', '▁', '.', '▁Dalam', '▁video', '▁pendek', '▁terbitan', '▁Jabatan', '▁Keselamatan', '▁Jalan', '▁Raya', '▁', '(', '▁', 'JK', 'JR', '▁', ')', '▁itu', '▁,', '▁Dr', '▁Mahathir', '▁menasihati', '▁mereka', '▁supaya', '▁berhenti', '▁berehat', '▁dan', '▁tidur', '▁sebentar', '▁sekiranya', '▁mengantuk', '▁ketika', '▁memandu', '▁', '.', '[SEP]']\n",
      "DEBUG:root:['[CLS]', '▁memperkenalkan', '▁Hu', 'se', 'in', '▁,', '▁dia', '▁sangat', '▁comel', '▁,', '▁berumur', '▁25', '▁tahun', '▁,', '▁bangsa', '▁melayu', '▁,', '▁agama', '▁islam', '▁,', '▁tinggal', '▁di', '▁cyberjaya', '▁malaysia', '▁,', '▁bercakap', '▁bahasa', '▁melayu', '▁,', '▁semua', '▁membaca', '▁buku', '▁undang', '-', 'undang', '▁kewangan', '▁,', '▁dengar', '▁laju', '▁Siti', '▁Nurhaliza', '▁', '-', '▁Seluruh', '▁Cinta', '▁sambil', '▁makan', '▁ayam', '▁goreng', '▁KFC', '[SEP]']\n",
      "DEBUG:root:['[CLS]', '▁KUALA', '▁LUMPUR', '▁:', '▁Sempena', '▁sambutan', '▁Aidilfitri', '▁minggu', '▁depan', '▁,', '▁Perdana', '▁Menteri', '▁Tun', '▁Dr', '▁Mahathir', '▁Mohamad', '▁dan', '▁Menteri', '▁Pengangkutan', '▁Anthony', '▁Loke', '▁Siew', '▁Fook', '▁menit', 'ip', 'kan', '▁pesanan', '▁khas', '▁kepada', '▁orang', '▁ramai', '▁yang', '▁mahu', '▁pulang', '▁ke', '▁kampung', '▁halaman', '▁masing', '-', 'masing', '▁', '.', '▁Dalam', '▁video', '▁pendek', '▁terbitan', '▁Jabatan', '▁Keselamatan', '▁Jalan', '▁Raya', '▁', '(', '▁', 'JK', 'JR', '▁', ')', '▁itu', '▁,', '▁Dr', '▁Mahathir', '▁menasihati', '▁mereka', '▁supaya', '▁berhenti', '▁berehat', '▁dan', '▁tidur', '▁sebentar', '▁sekiranya', '▁mengantuk', '▁ketika', '▁memandu', '▁', '.', '[SEP]']\n",
      "DEBUG:urllib3.connectionpool:Starting new HTTPS connection (1): f000.backblazeb2.com:443\n"
     ]
    },
    {
     "name": "stdout",
     "output_type": "stream",
     "text": [
      "[('KUALA', 'PUNCT'), ('LUMPUR', 'PROPN'), (':', 'PUNCT'), ('Sempena', 'ADP'), ('sambutan', 'NOUN'), ('Aidilfitri', 'PROPN'), ('minggu', 'PROPN'), ('depan', 'PROPN'), (',', 'PUNCT'), ('Perdana', 'PROPN'), ('Menteri', 'PROPN'), ('Tun', 'PROPN'), ('Dr', 'PROPN'), ('Mahathir', 'PROPN'), ('Mohamad', 'PROPN'), ('dan', 'CCONJ'), ('Menteri', 'PROPN'), ('Pengangkutan', 'PROPN'), ('Anthony', 'PROPN'), ('Loke', 'PROPN'), ('Siew', 'PROPN'), ('Fook', 'PROPN'), ('menitipkan', 'NOUN'), ('pesanan', 'NOUN'), ('khas', 'ADJ'), ('kepada', 'ADP'), ('orang', 'NOUN'), ('ramai', 'ADJ'), ('yang', 'PRON'), ('mahu', 'ADV'), ('pulang', 'VERB'), ('ke', 'ADP'), ('kampung', 'NOUN'), ('halaman', 'NOUN'), ('masing-masing', 'DET'), ('.', 'PUNCT'), ('Dalam', 'ADP'), ('video', 'NOUN'), ('pendek', 'NOUN'), ('terbitan', 'NOUN'), ('Jabatan', 'NOUN'), ('Keselamatan', 'PROPN'), ('Jalan', 'PROPN'), ('Raya', 'PROPN'), ('(', 'PUNCT'), ('JKJR', 'PUNCT'), (')', 'PUNCT'), ('itu', 'DET'), (',', 'PUNCT'), ('Dr', 'PROPN'), ('Mahathir', 'PROPN'), ('menasihati', 'VERB'), ('mereka', 'PRON'), ('supaya', 'SCONJ'), ('berhenti', 'VERB'), ('berehat', 'VERB'), ('dan', 'CCONJ'), ('tidur', 'VERB'), ('sebentar', 'ADV'), ('sekiranya', 'ADV'), ('mengantuk', 'VERB'), ('ketika', 'SCONJ'), ('memandu', 'VERB'), ('.', 'PUNCT')]\n",
      "[('memperkenalkan', 'VERB'), ('Husein', 'PROPN'), (',', 'PUNCT'), ('dia', 'PRON'), ('sangat', 'ADV'), ('comel', 'VERB'), (',', 'PUNCT'), ('berumur', 'VERB'), ('25', 'NUM'), ('tahun', 'NOUN'), (',', 'PUNCT'), ('bangsa', 'NOUN'), ('melayu', 'NOUN'), (',', 'PUNCT'), ('agama', 'NOUN'), ('islam', 'NOUN'), (',', 'PUNCT'), ('tinggal', 'VERB'), ('di', 'ADP'), ('cyberjaya', 'PROPN'), ('malaysia', 'PROPN'), (',', 'PUNCT'), ('bercakap', 'VERB'), ('bahasa', 'NOUN'), ('melayu', 'NOUN'), (',', 'PUNCT'), ('semua', 'DET'), ('membaca', 'VERB'), ('buku', 'NOUN'), ('undang-undang', 'NOUN'), ('kewangan', 'NOUN'), (',', 'PUNCT'), ('dengar', 'ADV'), ('laju', 'NOUN'), ('Siti', 'PROPN'), ('Nurhaliza', 'PROPN'), ('-', 'PUNCT'), ('Seluruh', 'DET'), ('Cinta', 'PROPN'), ('sambil', 'ADP'), ('makan', 'VERB'), ('ayam', 'NOUN'), ('goreng', 'VERB'), ('KFC', 'PROPN')]\n",
      "[{'text': ['KUALA'], 'type': 'PUNCT', 'score': 1.0, 'beginOffset': 0, 'endOffset': 1}, {'text': ['LUMPUR'], 'type': 'PROPN', 'score': 1.0, 'beginOffset': 1, 'endOffset': 2}, {'text': [':'], 'type': 'PUNCT', 'score': 1.0, 'beginOffset': 2, 'endOffset': 3}, {'text': ['Sempena'], 'type': 'ADP', 'score': 1.0, 'beginOffset': 3, 'endOffset': 4}, {'text': ['sambutan'], 'type': 'NOUN', 'score': 1.0, 'beginOffset': 4, 'endOffset': 5}, {'text': ['Aidilfitri', 'minggu', 'depan'], 'type': 'PROPN', 'score': 1.0, 'beginOffset': 5, 'endOffset': 8}, {'text': [','], 'type': 'PUNCT', 'score': 1.0, 'beginOffset': 8, 'endOffset': 9}, {'text': ['Perdana', 'Menteri', 'Tun', 'Dr', 'Mahathir', 'Mohamad'], 'type': 'PROPN', 'score': 1.0, 'beginOffset': 9, 'endOffset': 15}, {'text': ['dan'], 'type': 'CCONJ', 'score': 1.0, 'beginOffset': 15, 'endOffset': 16}, {'text': ['Menteri', 'Pengangkutan', 'Anthony', 'Loke', 'Siew', 'Fook'], 'type': 'PROPN', 'score': 1.0, 'beginOffset': 16, 'endOffset': 22}, {'text': ['menitipkan', 'pesanan'], 'type': 'NOUN', 'score': 1.0, 'beginOffset': 22, 'endOffset': 24}, {'text': ['khas'], 'type': 'ADJ', 'score': 1.0, 'beginOffset': 24, 'endOffset': 25}, {'text': ['kepada'], 'type': 'ADP', 'score': 1.0, 'beginOffset': 25, 'endOffset': 26}, {'text': ['orang'], 'type': 'NOUN', 'score': 1.0, 'beginOffset': 26, 'endOffset': 27}, {'text': ['ramai'], 'type': 'ADJ', 'score': 1.0, 'beginOffset': 27, 'endOffset': 28}, {'text': ['yang'], 'type': 'PRON', 'score': 1.0, 'beginOffset': 28, 'endOffset': 29}, {'text': ['mahu'], 'type': 'ADV', 'score': 1.0, 'beginOffset': 29, 'endOffset': 30}, {'text': ['pulang'], 'type': 'VERB', 'score': 1.0, 'beginOffset': 30, 'endOffset': 31}, {'text': ['ke'], 'type': 'ADP', 'score': 1.0, 'beginOffset': 31, 'endOffset': 32}, {'text': ['kampung', 'halaman'], 'type': 'NOUN', 'score': 1.0, 'beginOffset': 32, 'endOffset': 34}, {'text': ['masing-masing'], 'type': 'DET', 'score': 1.0, 'beginOffset': 34, 'endOffset': 35}, {'text': ['.'], 'type': 'PUNCT', 'score': 1.0, 'beginOffset': 35, 'endOffset': 36}, {'text': ['Dalam'], 'type': 'ADP', 'score': 1.0, 'beginOffset': 36, 'endOffset': 37}, {'text': ['video', 'pendek', 'terbitan', 'Jabatan'], 'type': 'NOUN', 'score': 1.0, 'beginOffset': 37, 'endOffset': 41}, {'text': ['Keselamatan', 'Jalan', 'Raya'], 'type': 'PROPN', 'score': 1.0, 'beginOffset': 41, 'endOffset': 44}, {'text': ['(', 'JKJR', ')'], 'type': 'PUNCT', 'score': 1.0, 'beginOffset': 44, 'endOffset': 47}, {'text': ['itu'], 'type': 'DET', 'score': 1.0, 'beginOffset': 47, 'endOffset': 48}, {'text': [','], 'type': 'PUNCT', 'score': 1.0, 'beginOffset': 48, 'endOffset': 49}, {'text': ['Dr', 'Mahathir'], 'type': 'PROPN', 'score': 1.0, 'beginOffset': 49, 'endOffset': 51}, {'text': ['menasihati'], 'type': 'VERB', 'score': 1.0, 'beginOffset': 51, 'endOffset': 52}, {'text': ['mereka'], 'type': 'PRON', 'score': 1.0, 'beginOffset': 52, 'endOffset': 53}, {'text': ['supaya'], 'type': 'SCONJ', 'score': 1.0, 'beginOffset': 53, 'endOffset': 54}, {'text': ['berhenti', 'berehat'], 'type': 'VERB', 'score': 1.0, 'beginOffset': 54, 'endOffset': 56}, {'text': ['dan'], 'type': 'CCONJ', 'score': 1.0, 'beginOffset': 56, 'endOffset': 57}, {'text': ['tidur'], 'type': 'VERB', 'score': 1.0, 'beginOffset': 57, 'endOffset': 58}, {'text': ['sebentar', 'sekiranya'], 'type': 'ADV', 'score': 1.0, 'beginOffset': 58, 'endOffset': 60}, {'text': ['mengantuk'], 'type': 'VERB', 'score': 1.0, 'beginOffset': 60, 'endOffset': 61}, {'text': ['ketika'], 'type': 'SCONJ', 'score': 1.0, 'beginOffset': 61, 'endOffset': 62}, {'text': ['memandu'], 'type': 'VERB', 'score': 1.0, 'beginOffset': 62, 'endOffset': 63}, {'text': ['.'], 'type': 'PUNCT', 'score': 1.0, 'beginOffset': 63, 'endOffset': 64}]\n",
      "xlnet\n"
     ]
    },
    {
     "name": "stderr",
     "output_type": "stream",
     "text": [
      "DEBUG:urllib3.connectionpool:https://f000.backblazeb2.com:443 \"HEAD /file/malaya-model/pos/xlnet/model.pb HTTP/1.1\" 200 0\n",
      "DEBUG:urllib3.connectionpool:Starting new HTTPS connection (1): f000.backblazeb2.com:443\n",
      "DEBUG:urllib3.connectionpool:https://f000.backblazeb2.com:443 \"HEAD /file/malaya-model/bpe/sp10m.cased.v9.vocab HTTP/1.1\" 200 0\n",
      "DEBUG:urllib3.connectionpool:Starting new HTTPS connection (1): f000.backblazeb2.com:443\n",
      "DEBUG:urllib3.connectionpool:https://f000.backblazeb2.com:443 \"HEAD /file/malaya-model/bpe/sp10m.cased.v9.model HTTP/1.1\" 200 0\n",
      "DEBUG:urllib3.connectionpool:Starting new HTTPS connection (1): f000.backblazeb2.com:443\n",
      "DEBUG:urllib3.connectionpool:https://f000.backblazeb2.com:443 \"HEAD /file/malaya-model/setting/pos.json HTTP/1.1\" 200 0\n",
      "DEBUG:urllib3.connectionpool:Starting new HTTPS connection (1): f000.backblazeb2.com:443\n",
      "DEBUG:urllib3.connectionpool:https://f000.backblazeb2.com:443 \"HEAD /file/malaya-model/pos/xlnet/version HTTP/1.1\" 404 0\n",
      "DEBUG:urllib3.connectionpool:Starting new HTTPS connection (1): f000.backblazeb2.com:443\n"
     ]
    },
    {
     "name": "stdout",
     "output_type": "stream",
     "text": [
      "downloading frozen model to /Users/huseinzolkepli/Malaya/pos/xlnet/model.pb\n"
     ]
    },
    {
     "name": "stderr",
     "output_type": "stream",
     "text": [
      "DEBUG:urllib3.connectionpool:https://f000.backblazeb2.com:443 \"GET /file/malaya-model/pos/xlnet/model.pb HTTP/1.1\" 200 468267997\n",
      "100%|██████████| 447/447 [01:04<00:00, 6.89MB/s] \n",
      "DEBUG:urllib3.connectionpool:Starting new HTTPS connection (1): f000.backblazeb2.com:443\n"
     ]
    },
    {
     "name": "stdout",
     "output_type": "stream",
     "text": [
      "downloading frozen vocab to /Users/huseinzolkepli/Malaya/pos/xlnet/sp10m.cased.v9.vocab\n"
     ]
    },
    {
     "name": "stderr",
     "output_type": "stream",
     "text": [
      "DEBUG:urllib3.connectionpool:https://f000.backblazeb2.com:443 \"GET /file/malaya-model/bpe/sp10m.cased.v9.vocab HTTP/1.1\" 200 568997\n",
      "184%|██████████| 1.00/0.54 [00:00<00:00, 1.02MB/s]\n",
      "DEBUG:urllib3.connectionpool:Starting new HTTPS connection (1): f000.backblazeb2.com:443\n"
     ]
    },
    {
     "name": "stdout",
     "output_type": "stream",
     "text": [
      "downloading frozen tokenizer to /Users/huseinzolkepli/Malaya/pos/xlnet/sp10m.cased.v9.model\n"
     ]
    },
    {
     "name": "stderr",
     "output_type": "stream",
     "text": [
      "DEBUG:urllib3.connectionpool:https://f000.backblazeb2.com:443 \"GET /file/malaya-model/bpe/sp10m.cased.v9.model HTTP/1.1\" 200 778744\n",
      "135%|██████████| 1.00/0.74 [00:01<00:00, 1.19s/MB]\n",
      "DEBUG:urllib3.connectionpool:Starting new HTTPS connection (1): f000.backblazeb2.com:443\n"
     ]
    },
    {
     "name": "stdout",
     "output_type": "stream",
     "text": [
      "downloading frozen setting to /Users/huseinzolkepli/Malaya/pos/xlnet/pos.json\n"
     ]
    },
    {
     "name": "stderr",
     "output_type": "stream",
     "text": [
      "DEBUG:urllib3.connectionpool:https://f000.backblazeb2.com:443 \"GET /file/malaya-model/setting/pos.json HTTP/1.1\" 200 825070\n",
      "127%|██████████| 1.00/0.79 [00:01<00:00, 1.17s/MB]\n",
      "INFO:root:running pos/xlnet using device /device:CPU:0\n",
      "DEBUG:root:['▁KUALA', '▁LUMPUR', '▁:', '▁Sempena', '▁sambutan', '▁Aidilfitri', '▁minggu', '▁depan', '▁,', '▁Perdana', '▁Menteri', '▁Tun', '▁Dr', '▁Mahathir', '▁Mohamad', '▁dan', '▁Menteri', '▁Pengangkutan', '▁Anthony', '▁Loke', '▁Siew', '▁Fook', '▁menit', 'ip', 'kan', '▁pesanan', '▁khas', '▁kepada', '▁orang', '▁ramai', '▁yang', '▁mahu', '▁pulang', '▁ke', '▁kampung', '▁halaman', '▁masing', '-', 'masing', '▁', '.', '▁Dalam', '▁video', '▁pendek', '▁terbitan', '▁Jabatan', '▁Keselamatan', '▁Jalan', '▁Raya', '▁', '(', '▁', 'JK', 'JR', '▁', ')', '▁itu', '▁,', '▁Dr', '▁Mahathir', '▁menasihati', '▁mereka', '▁supaya', '▁berhenti', '▁berehat', '▁dan', '▁tidur', '▁sebentar', '▁sekiranya', '▁mengantuk', '▁ketika', '▁memandu', '▁', '.']\n",
      "DEBUG:root:[2208, 2516, 29, 13383, 4541, 3419, 758, 314, 20, 685, 247, 806, 383, 1096, 1515, 24, 247, 5605, 13893, 14089, 20774, 27736, 2340, 4700, 37, 4856, 1492, 72, 50, 396, 22, 943, 863, 32, 552, 5119, 1077, 13, 1384, 19, 9, 341, 596, 2449, 13974, 871, 5427, 708, 688, 19, 10, 19, 4710, 22348, 19, 11, 41, 20, 383, 1096, 21767, 88, 757, 1606, 15738, 24, 198, 4049, 2479, 7529, 271, 7644, 19, 9, 4, 3]\n",
      "DEBUG:root:['▁memperkenalkan', '▁Hu', 'se', 'in', '▁,', '▁dia', '▁sangat', '▁comel', '▁,', '▁berumur', '▁25', '▁tahun', '▁,', '▁bangsa', '▁melayu', '▁,', '▁agama', '▁islam', '▁,', '▁tinggal', '▁di', '▁cyberjaya', '▁malaysia', '▁,', '▁bercakap', '▁bahasa', '▁melayu', '▁,', '▁semua', '▁membaca', '▁buku', '▁undang', '-', 'undang', '▁kewangan', '▁,', '▁dengar', '▁laju', '▁Siti', '▁Nurhaliza', '▁', '-', '▁Seluruh', '▁Cinta', '▁sambil', '▁makan', '▁ayam', '▁goreng', '▁KFC']\n",
      "DEBUG:root:[4995, 2135, 372, 59, 20, 42, 150, 2698, 20, 4580, 1145, 73, 20, 1534, 1255, 20, 523, 2066, 20, 634, 23, 30431, 1836, 20, 3824, 645, 1255, 20, 86, 1524, 598, 1722, 13, 998, 1662, 20, 1147, 2620, 3123, 21002, 19, 13, 8671, 2760, 595, 131, 638, 952, 7621, 4, 3]\n",
      "DEBUG:root:['▁KUALA', '▁LUMPUR', '▁:', '▁Sempena', '▁sambutan', '▁Aidilfitri', '▁minggu', '▁depan', '▁,', '▁Perdana', '▁Menteri', '▁Tun', '▁Dr', '▁Mahathir', '▁Mohamad', '▁dan', '▁Menteri', '▁Pengangkutan', '▁Anthony', '▁Loke', '▁Siew', '▁Fook', '▁menit', 'ip', 'kan', '▁pesanan', '▁khas', '▁kepada', '▁orang', '▁ramai', '▁yang', '▁mahu', '▁pulang', '▁ke', '▁kampung', '▁halaman', '▁masing', '-', 'masing', '▁', '.', '▁Dalam', '▁video', '▁pendek', '▁terbitan', '▁Jabatan', '▁Keselamatan', '▁Jalan', '▁Raya', '▁', '(', '▁', 'JK', 'JR', '▁', ')', '▁itu', '▁,', '▁Dr', '▁Mahathir', '▁menasihati', '▁mereka', '▁supaya', '▁berhenti', '▁berehat', '▁dan', '▁tidur', '▁sebentar', '▁sekiranya', '▁mengantuk', '▁ketika', '▁memandu', '▁', '.']\n",
      "DEBUG:root:[2208, 2516, 29, 13383, 4541, 3419, 758, 314, 20, 685, 247, 806, 383, 1096, 1515, 24, 247, 5605, 13893, 14089, 20774, 27736, 2340, 4700, 37, 4856, 1492, 72, 50, 396, 22, 943, 863, 32, 552, 5119, 1077, 13, 1384, 19, 9, 341, 596, 2449, 13974, 871, 5427, 708, 688, 19, 10, 19, 4710, 22348, 19, 11, 41, 20, 383, 1096, 21767, 88, 757, 1606, 15738, 24, 198, 4049, 2479, 7529, 271, 7644, 19, 9, 4, 3]\n"
     ]
    },
    {
     "name": "stdout",
     "output_type": "stream",
     "text": [
      "[('KUALA', 'PROPN'), ('LUMPUR', 'NOUN'), (':', 'PUNCT'), ('Sempena', 'ADP'), ('sambutan', 'NOUN'), ('Aidilfitri', 'NOUN'), ('minggu', 'NOUN'), ('depan', 'NOUN'), (',', 'PUNCT'), ('Perdana', 'PROPN'), ('Menteri', 'PROPN'), ('Tun', 'PROPN'), ('Dr', 'PROPN'), ('Mahathir', 'PROPN'), ('Mohamad', 'PROPN'), ('dan', 'CCONJ'), ('Menteri', 'PROPN'), ('Pengangkutan', 'PROPN'), ('Anthony', 'PROPN'), ('Loke', 'PROPN'), ('Siew', 'PROPN'), ('Fook', 'PROPN'), ('menitipkan', 'VERB'), ('pesanan', 'NOUN'), ('khas', 'ADJ'), ('kepada', 'ADP'), ('orang', 'NOUN'), ('ramai', 'NOUN'), ('yang', 'PRON'), ('mahu', 'ADV'), ('pulang', 'VERB'), ('ke', 'ADP'), ('kampung', 'NOUN'), ('halaman', 'NOUN'), ('masing-masing', 'DET'), ('.', 'PUNCT'), ('Dalam', 'ADP'), ('video', 'NOUN'), ('pendek', 'ADJ'), ('terbitan', 'NOUN'), ('Jabatan', 'PROPN'), ('Keselamatan', 'PROPN'), ('Jalan', 'PROPN'), ('Raya', 'PROPN'), ('(', 'PUNCT'), ('JKJR', 'PROPN'), (')', 'PUNCT'), ('itu', 'DET'), (',', 'PUNCT'), ('Dr', 'PROPN'), ('Mahathir', 'PROPN'), ('menasihati', 'VERB'), ('mereka', 'PRON'), ('supaya', 'SCONJ'), ('berhenti', 'VERB'), ('berehat', 'VERB'), ('dan', 'CCONJ'), ('tidur', 'VERB'), ('sebentar', 'ADV'), ('sekiranya', 'SCONJ'), ('mengantuk', 'VERB'), ('ketika', 'ADP'), ('memandu', 'NOUN'), ('.', 'PUNCT')]\n",
      "[('memperkenalkan', 'VERB'), ('Husein', 'PROPN'), (',', 'PUNCT'), ('dia', 'PRON'), ('sangat', 'ADV'), ('comel', 'ADJ'), (',', 'PUNCT'), ('berumur', 'VERB'), ('25', 'NUM'), ('tahun', 'NOUN'), (',', 'PUNCT'), ('bangsa', 'NOUN'), ('melayu', 'NOUN'), (',', 'PUNCT'), ('agama', 'NOUN'), ('islam', 'PROPN'), (',', 'PUNCT'), ('tinggal', 'VERB'), ('di', 'ADP'), ('cyberjaya', 'PROPN'), ('malaysia', 'NOUN'), (',', 'PUNCT'), ('bercakap', 'VERB'), ('bahasa', 'NOUN'), ('melayu', 'PROPN'), (',', 'PUNCT'), ('semua', 'DET'), ('membaca', 'VERB'), ('buku', 'NOUN'), ('undang-undang', 'NOUN'), ('kewangan', 'NOUN'), (',', 'PUNCT'), ('dengar', 'PROPN'), ('laju', 'NOUN'), ('Siti', 'PROPN'), ('Nurhaliza', 'PROPN'), ('-', 'PUNCT'), ('Seluruh', 'DET'), ('Cinta', 'PROPN'), ('sambil', 'ADP'), ('makan', 'VERB'), ('ayam', 'NOUN'), ('goreng', 'VERB'), ('KFC', 'PROPN')]\n",
      "[{'text': ['KUALA', 'LUMPUR'], 'type': 'PROPN', 'score': 1.0, 'beginOffset': 0, 'endOffset': 2}, {'text': [':'], 'type': 'PUNCT', 'score': 1.0, 'beginOffset': 2, 'endOffset': 3}, {'text': ['Sempena'], 'type': 'ADP', 'score': 1.0, 'beginOffset': 3, 'endOffset': 4}, {'text': ['sambutan', 'Aidilfitri', 'minggu'], 'type': 'NOUN', 'score': 1.0, 'beginOffset': 4, 'endOffset': 7}, {'text': ['depan'], 'type': 'ADJ', 'score': 1.0, 'beginOffset': 7, 'endOffset': 8}, {'text': [','], 'type': 'PUNCT', 'score': 1.0, 'beginOffset': 8, 'endOffset': 9}, {'text': ['Perdana', 'Menteri', 'Tun', 'Dr', 'Mahathir', 'Mohamad'], 'type': 'PROPN', 'score': 1.0, 'beginOffset': 9, 'endOffset': 15}, {'text': ['dan'], 'type': 'CCONJ', 'score': 1.0, 'beginOffset': 15, 'endOffset': 16}, {'text': ['Menteri', 'Pengangkutan', 'Anthony', 'Loke', 'Siew', 'Fook'], 'type': 'PROPN', 'score': 1.0, 'beginOffset': 16, 'endOffset': 22}, {'text': ['menitipkan'], 'type': 'VERB', 'score': 1.0, 'beginOffset': 22, 'endOffset': 23}, {'text': ['pesanan'], 'type': 'NOUN', 'score': 1.0, 'beginOffset': 23, 'endOffset': 24}, {'text': ['khas'], 'type': 'ADJ', 'score': 1.0, 'beginOffset': 24, 'endOffset': 25}, {'text': ['kepada'], 'type': 'ADP', 'score': 1.0, 'beginOffset': 25, 'endOffset': 26}, {'text': ['orang'], 'type': 'NOUN', 'score': 1.0, 'beginOffset': 26, 'endOffset': 27}, {'text': ['ramai'], 'type': 'ADV', 'score': 1.0, 'beginOffset': 27, 'endOffset': 28}, {'text': ['yang'], 'type': 'PRON', 'score': 1.0, 'beginOffset': 28, 'endOffset': 29}, {'text': ['mahu'], 'type': 'ADV', 'score': 1.0, 'beginOffset': 29, 'endOffset': 30}, {'text': ['pulang'], 'type': 'VERB', 'score': 1.0, 'beginOffset': 30, 'endOffset': 31}, {'text': ['ke'], 'type': 'ADP', 'score': 1.0, 'beginOffset': 31, 'endOffset': 32}, {'text': ['kampung', 'halaman'], 'type': 'NOUN', 'score': 1.0, 'beginOffset': 32, 'endOffset': 34}, {'text': ['masing-masing'], 'type': 'DET', 'score': 1.0, 'beginOffset': 34, 'endOffset': 35}, {'text': ['.'], 'type': 'PUNCT', 'score': 1.0, 'beginOffset': 35, 'endOffset': 36}, {'text': ['Dalam'], 'type': 'ADP', 'score': 1.0, 'beginOffset': 36, 'endOffset': 37}, {'text': ['video'], 'type': 'NOUN', 'score': 1.0, 'beginOffset': 37, 'endOffset': 38}, {'text': ['pendek'], 'type': 'ADJ', 'score': 1.0, 'beginOffset': 38, 'endOffset': 39}, {'text': ['terbitan', 'Jabatan'], 'type': 'NOUN', 'score': 1.0, 'beginOffset': 39, 'endOffset': 41}, {'text': ['Keselamatan', 'Jalan', 'Raya'], 'type': 'PROPN', 'score': 1.0, 'beginOffset': 41, 'endOffset': 44}, {'text': ['('], 'type': 'PUNCT', 'score': 1.0, 'beginOffset': 44, 'endOffset': 45}, {'text': ['JKJR'], 'type': 'PROPN', 'score': 1.0, 'beginOffset': 45, 'endOffset': 46}, {'text': [')'], 'type': 'PUNCT', 'score': 1.0, 'beginOffset': 46, 'endOffset': 47}, {'text': ['itu'], 'type': 'DET', 'score': 1.0, 'beginOffset': 47, 'endOffset': 48}, {'text': [','], 'type': 'PUNCT', 'score': 1.0, 'beginOffset': 48, 'endOffset': 49}, {'text': ['Dr', 'Mahathir'], 'type': 'PROPN', 'score': 1.0, 'beginOffset': 49, 'endOffset': 51}, {'text': ['menasihati'], 'type': 'VERB', 'score': 1.0, 'beginOffset': 51, 'endOffset': 52}, {'text': ['mereka'], 'type': 'PRON', 'score': 1.0, 'beginOffset': 52, 'endOffset': 53}, {'text': ['supaya'], 'type': 'SCONJ', 'score': 1.0, 'beginOffset': 53, 'endOffset': 54}, {'text': ['berhenti', 'berehat'], 'type': 'VERB', 'score': 1.0, 'beginOffset': 54, 'endOffset': 56}, {'text': ['dan'], 'type': 'CCONJ', 'score': 1.0, 'beginOffset': 56, 'endOffset': 57}, {'text': ['tidur'], 'type': 'VERB', 'score': 1.0, 'beginOffset': 57, 'endOffset': 58}, {'text': ['sebentar'], 'type': 'ADV', 'score': 1.0, 'beginOffset': 58, 'endOffset': 59}, {'text': ['sekiranya'], 'type': 'SCONJ', 'score': 1.0, 'beginOffset': 59, 'endOffset': 60}, {'text': ['mengantuk'], 'type': 'VERB', 'score': 1.0, 'beginOffset': 60, 'endOffset': 61}, {'text': ['ketika'], 'type': 'ADP', 'score': 1.0, 'beginOffset': 61, 'endOffset': 62}, {'text': ['memandu'], 'type': 'NOUN', 'score': 1.0, 'beginOffset': 62, 'endOffset': 63}, {'text': ['.'], 'type': 'PUNCT', 'score': 1.0, 'beginOffset': 63, 'endOffset': 64}]\n"
     ]
    },
    {
     "name": "stderr",
     "output_type": "stream",
     "text": [
      "DEBUG:urllib3.connectionpool:Starting new HTTPS connection (1): f000.backblazeb2.com:443\n"
     ]
    },
    {
     "name": "stdout",
     "output_type": "stream",
     "text": [
      "alxlnet\n"
     ]
    },
    {
     "name": "stderr",
     "output_type": "stream",
     "text": [
      "DEBUG:urllib3.connectionpool:https://f000.backblazeb2.com:443 \"HEAD /file/malaya-model/pos/alxlnet/model.pb HTTP/1.1\" 200 0\n",
      "DEBUG:urllib3.connectionpool:Starting new HTTPS connection (1): f000.backblazeb2.com:443\n",
      "DEBUG:urllib3.connectionpool:https://f000.backblazeb2.com:443 \"HEAD /file/malaya-model/bpe/sp10m.cased.v9.vocab HTTP/1.1\" 200 0\n",
      "DEBUG:urllib3.connectionpool:Starting new HTTPS connection (1): f000.backblazeb2.com:443\n",
      "DEBUG:urllib3.connectionpool:https://f000.backblazeb2.com:443 \"HEAD /file/malaya-model/bpe/sp10m.cased.v9.model HTTP/1.1\" 200 0\n",
      "DEBUG:urllib3.connectionpool:Starting new HTTPS connection (1): f000.backblazeb2.com:443\n",
      "DEBUG:urllib3.connectionpool:https://f000.backblazeb2.com:443 \"HEAD /file/malaya-model/setting/pos.json HTTP/1.1\" 200 0\n",
      "DEBUG:urllib3.connectionpool:Starting new HTTPS connection (1): f000.backblazeb2.com:443\n",
      "DEBUG:urllib3.connectionpool:https://f000.backblazeb2.com:443 \"HEAD /file/malaya-model/pos/alxlnet/version HTTP/1.1\" 404 0\n",
      "DEBUG:urllib3.connectionpool:Starting new HTTPS connection (1): f000.backblazeb2.com:443\n"
     ]
    },
    {
     "name": "stdout",
     "output_type": "stream",
     "text": [
      "downloading frozen model to /Users/huseinzolkepli/Malaya/pos/alxlnet/model.pb\n"
     ]
    },
    {
     "name": "stderr",
     "output_type": "stream",
     "text": [
      "DEBUG:urllib3.connectionpool:https://f000.backblazeb2.com:443 \"GET /file/malaya-model/pos/alxlnet/model.pb HTTP/1.1\" 200 49122653\n",
      "100%|██████████| 47.0/46.8 [00:07<00:00, 6.03MB/s]\n",
      "DEBUG:urllib3.connectionpool:Starting new HTTPS connection (1): f000.backblazeb2.com:443\n"
     ]
    },
    {
     "name": "stdout",
     "output_type": "stream",
     "text": [
      "downloading frozen vocab to /Users/huseinzolkepli/Malaya/pos/alxlnet/sp10m.cased.v9.vocab\n"
     ]
    },
    {
     "name": "stderr",
     "output_type": "stream",
     "text": [
      "DEBUG:urllib3.connectionpool:https://f000.backblazeb2.com:443 \"GET /file/malaya-model/bpe/sp10m.cased.v9.vocab HTTP/1.1\" 200 568997\n",
      "184%|██████████| 1.00/0.54 [00:01<00:00, 1.02s/MB]\n",
      "DEBUG:urllib3.connectionpool:Starting new HTTPS connection (1): f000.backblazeb2.com:443\n"
     ]
    },
    {
     "name": "stdout",
     "output_type": "stream",
     "text": [
      "downloading frozen tokenizer to /Users/huseinzolkepli/Malaya/pos/alxlnet/sp10m.cased.v9.model\n"
     ]
    },
    {
     "name": "stderr",
     "output_type": "stream",
     "text": [
      "DEBUG:urllib3.connectionpool:https://f000.backblazeb2.com:443 \"GET /file/malaya-model/bpe/sp10m.cased.v9.model HTTP/1.1\" 200 778744\n",
      "135%|██████████| 1.00/0.74 [00:01<00:00, 1.07s/MB]\n",
      "DEBUG:urllib3.connectionpool:Starting new HTTPS connection (1): f000.backblazeb2.com:443\n"
     ]
    },
    {
     "name": "stdout",
     "output_type": "stream",
     "text": [
      "downloading frozen setting to /Users/huseinzolkepli/Malaya/pos/alxlnet/pos.json\n"
     ]
    },
    {
     "name": "stderr",
     "output_type": "stream",
     "text": [
      "DEBUG:urllib3.connectionpool:https://f000.backblazeb2.com:443 \"GET /file/malaya-model/setting/pos.json HTTP/1.1\" 200 825070\n",
      "127%|██████████| 1.00/0.79 [00:01<00:00, 1.15s/MB]\n",
      "INFO:root:running pos/alxlnet using device /device:CPU:0\n",
      "DEBUG:root:['▁KUALA', '▁LUMPUR', '▁:', '▁Sempena', '▁sambutan', '▁Aidilfitri', '▁minggu', '▁depan', '▁,', '▁Perdana', '▁Menteri', '▁Tun', '▁Dr', '▁Mahathir', '▁Mohamad', '▁dan', '▁Menteri', '▁Pengangkutan', '▁Anthony', '▁Loke', '▁Siew', '▁Fook', '▁menit', 'ip', 'kan', '▁pesanan', '▁khas', '▁kepada', '▁orang', '▁ramai', '▁yang', '▁mahu', '▁pulang', '▁ke', '▁kampung', '▁halaman', '▁masing', '-', 'masing', '▁', '.', '▁Dalam', '▁video', '▁pendek', '▁terbitan', '▁Jabatan', '▁Keselamatan', '▁Jalan', '▁Raya', '▁', '(', '▁', 'JK', 'JR', '▁', ')', '▁itu', '▁,', '▁Dr', '▁Mahathir', '▁menasihati', '▁mereka', '▁supaya', '▁berhenti', '▁berehat', '▁dan', '▁tidur', '▁sebentar', '▁sekiranya', '▁mengantuk', '▁ketika', '▁memandu', '▁', '.']\n",
      "DEBUG:root:[2208, 2516, 29, 13383, 4541, 3419, 758, 314, 20, 685, 247, 806, 383, 1096, 1515, 24, 247, 5605, 13893, 14089, 20774, 27736, 2340, 4700, 37, 4856, 1492, 72, 50, 396, 22, 943, 863, 32, 552, 5119, 1077, 13, 1384, 19, 9, 341, 596, 2449, 13974, 871, 5427, 708, 688, 19, 10, 19, 4710, 22348, 19, 11, 41, 20, 383, 1096, 21767, 88, 757, 1606, 15738, 24, 198, 4049, 2479, 7529, 271, 7644, 19, 9, 4, 3]\n",
      "DEBUG:root:['▁memperkenalkan', '▁Hu', 'se', 'in', '▁,', '▁dia', '▁sangat', '▁comel', '▁,', '▁berumur', '▁25', '▁tahun', '▁,', '▁bangsa', '▁melayu', '▁,', '▁agama', '▁islam', '▁,', '▁tinggal', '▁di', '▁cyberjaya', '▁malaysia', '▁,', '▁bercakap', '▁bahasa', '▁melayu', '▁,', '▁semua', '▁membaca', '▁buku', '▁undang', '-', 'undang', '▁kewangan', '▁,', '▁dengar', '▁laju', '▁Siti', '▁Nurhaliza', '▁', '-', '▁Seluruh', '▁Cinta', '▁sambil', '▁makan', '▁ayam', '▁goreng', '▁KFC']\n",
      "DEBUG:root:[4995, 2135, 372, 59, 20, 42, 150, 2698, 20, 4580, 1145, 73, 20, 1534, 1255, 20, 523, 2066, 20, 634, 23, 30431, 1836, 20, 3824, 645, 1255, 20, 86, 1524, 598, 1722, 13, 998, 1662, 20, 1147, 2620, 3123, 21002, 19, 13, 8671, 2760, 595, 131, 638, 952, 7621, 4, 3]\n",
      "DEBUG:root:['▁KUALA', '▁LUMPUR', '▁:', '▁Sempena', '▁sambutan', '▁Aidilfitri', '▁minggu', '▁depan', '▁,', '▁Perdana', '▁Menteri', '▁Tun', '▁Dr', '▁Mahathir', '▁Mohamad', '▁dan', '▁Menteri', '▁Pengangkutan', '▁Anthony', '▁Loke', '▁Siew', '▁Fook', '▁menit', 'ip', 'kan', '▁pesanan', '▁khas', '▁kepada', '▁orang', '▁ramai', '▁yang', '▁mahu', '▁pulang', '▁ke', '▁kampung', '▁halaman', '▁masing', '-', 'masing', '▁', '.', '▁Dalam', '▁video', '▁pendek', '▁terbitan', '▁Jabatan', '▁Keselamatan', '▁Jalan', '▁Raya', '▁', '(', '▁', 'JK', 'JR', '▁', ')', '▁itu', '▁,', '▁Dr', '▁Mahathir', '▁menasihati', '▁mereka', '▁supaya', '▁berhenti', '▁berehat', '▁dan', '▁tidur', '▁sebentar', '▁sekiranya', '▁mengantuk', '▁ketika', '▁memandu', '▁', '.']\n",
      "DEBUG:root:[2208, 2516, 29, 13383, 4541, 3419, 758, 314, 20, 685, 247, 806, 383, 1096, 1515, 24, 247, 5605, 13893, 14089, 20774, 27736, 2340, 4700, 37, 4856, 1492, 72, 50, 396, 22, 943, 863, 32, 552, 5119, 1077, 13, 1384, 19, 9, 341, 596, 2449, 13974, 871, 5427, 708, 688, 19, 10, 19, 4710, 22348, 19, 11, 41, 20, 383, 1096, 21767, 88, 757, 1606, 15738, 24, 198, 4049, 2479, 7529, 271, 7644, 19, 9, 4, 3]\n"
     ]
    },
    {
     "name": "stdout",
     "output_type": "stream",
     "text": [
      "[('KUALA', 'PROPN'), ('LUMPUR', 'PROPN'), (':', 'PUNCT'), ('Sempena', 'ADP'), ('sambutan', 'NOUN'), ('Aidilfitri', 'NOUN'), ('minggu', 'NOUN'), ('depan', 'ADJ'), (',', 'PUNCT'), ('Perdana', 'PROPN'), ('Menteri', 'PROPN'), ('Tun', 'PROPN'), ('Dr', 'PROPN'), ('Mahathir', 'PROPN'), ('Mohamad', 'PROPN'), ('dan', 'CCONJ'), ('Menteri', 'PROPN'), ('Pengangkutan', 'PROPN'), ('Anthony', 'PROPN'), ('Loke', 'PROPN'), ('Siew', 'PROPN'), ('Fook', 'PROPN'), ('menitipkan', 'VERB'), ('pesanan', 'NOUN'), ('khas', 'ADJ'), ('kepada', 'ADP'), ('orang', 'NOUN'), ('ramai', 'ADJ'), ('yang', 'PRON'), ('mahu', 'ADV'), ('pulang', 'VERB'), ('ke', 'ADP'), ('kampung', 'NOUN'), ('halaman', 'NOUN'), ('masing-masing', 'ADV'), ('.', 'PUNCT'), ('Dalam', 'ADP'), ('video', 'NOUN'), ('pendek', 'ADJ'), ('terbitan', 'ADP'), ('Jabatan', 'NOUN'), ('Keselamatan', 'PROPN'), ('Jalan', 'PROPN'), ('Raya', 'PROPN'), ('(', 'PUNCT'), ('JKJR', 'PROPN'), (')', 'PUNCT'), ('itu', 'DET'), (',', 'PUNCT'), ('Dr', 'PROPN'), ('Mahathir', 'PROPN'), ('menasihati', 'VERB'), ('mereka', 'PRON'), ('supaya', 'SCONJ'), ('berhenti', 'VERB'), ('berehat', 'VERB'), ('dan', 'CCONJ'), ('tidur', 'VERB'), ('sebentar', 'ADV'), ('sekiranya', 'SCONJ'), ('mengantuk', 'ADJ'), ('ketika', 'SCONJ'), ('memandu', 'VERB'), ('.', 'PUNCT')]\n",
      "[('memperkenalkan', 'VERB'), ('Husein', 'PROPN'), (',', 'PUNCT'), ('dia', 'PRON'), ('sangat', 'ADV'), ('comel', 'ADJ'), (',', 'PUNCT'), ('berumur', 'VERB'), ('25', 'NUM'), ('tahun', 'NOUN'), (',', 'PUNCT'), ('bangsa', 'NOUN'), ('melayu', 'PROPN'), (',', 'PUNCT'), ('agama', 'NOUN'), ('islam', 'PROPN'), (',', 'PUNCT'), ('tinggal', 'VERB'), ('di', 'ADP'), ('cyberjaya', 'PROPN'), ('malaysia', 'PROPN'), (',', 'PUNCT'), ('bercakap', 'VERB'), ('bahasa', 'NOUN'), ('melayu', 'PROPN'), (',', 'PUNCT'), ('semua', 'DET'), ('membaca', 'VERB'), ('buku', 'NOUN'), ('undang-undang', 'NOUN'), ('kewangan', 'NOUN'), (',', 'PUNCT'), ('dengar', 'VERB'), ('laju', 'NOUN'), ('Siti', 'PROPN'), ('Nurhaliza', 'PROPN'), ('-', 'PUNCT'), ('Seluruh', 'DET'), ('Cinta', 'PROPN'), ('sambil', 'ADP'), ('makan', 'VERB'), ('ayam', 'NOUN'), ('goreng', 'VERB'), ('KFC', 'PROPN')]\n",
      "[{'text': ['KUALA', 'LUMPUR'], 'type': 'PROPN', 'score': 1.0, 'beginOffset': 0, 'endOffset': 2}, {'text': [':'], 'type': 'PUNCT', 'score': 1.0, 'beginOffset': 2, 'endOffset': 3}, {'text': ['Sempena'], 'type': 'ADP', 'score': 1.0, 'beginOffset': 3, 'endOffset': 4}, {'text': ['sambutan', 'Aidilfitri', 'minggu'], 'type': 'NOUN', 'score': 1.0, 'beginOffset': 4, 'endOffset': 7}, {'text': ['depan'], 'type': 'ADJ', 'score': 1.0, 'beginOffset': 7, 'endOffset': 8}, {'text': [','], 'type': 'PUNCT', 'score': 1.0, 'beginOffset': 8, 'endOffset': 9}, {'text': ['Perdana', 'Menteri', 'Tun', 'Dr', 'Mahathir', 'Mohamad'], 'type': 'PROPN', 'score': 1.0, 'beginOffset': 9, 'endOffset': 15}, {'text': ['dan'], 'type': 'CCONJ', 'score': 1.0, 'beginOffset': 15, 'endOffset': 16}, {'text': ['Menteri', 'Pengangkutan', 'Anthony', 'Loke', 'Siew', 'Fook'], 'type': 'PROPN', 'score': 1.0, 'beginOffset': 16, 'endOffset': 22}, {'text': ['menitipkan'], 'type': 'VERB', 'score': 1.0, 'beginOffset': 22, 'endOffset': 23}, {'text': ['pesanan'], 'type': 'NOUN', 'score': 1.0, 'beginOffset': 23, 'endOffset': 24}, {'text': ['khas'], 'type': 'ADJ', 'score': 1.0, 'beginOffset': 24, 'endOffset': 25}, {'text': ['kepada'], 'type': 'ADP', 'score': 1.0, 'beginOffset': 25, 'endOffset': 26}, {'text': ['orang'], 'type': 'NOUN', 'score': 1.0, 'beginOffset': 26, 'endOffset': 27}, {'text': ['ramai'], 'type': 'ADJ', 'score': 1.0, 'beginOffset': 27, 'endOffset': 28}, {'text': ['yang'], 'type': 'PRON', 'score': 1.0, 'beginOffset': 28, 'endOffset': 29}, {'text': ['mahu'], 'type': 'ADV', 'score': 1.0, 'beginOffset': 29, 'endOffset': 30}, {'text': ['pulang'], 'type': 'VERB', 'score': 1.0, 'beginOffset': 30, 'endOffset': 31}, {'text': ['ke'], 'type': 'ADP', 'score': 1.0, 'beginOffset': 31, 'endOffset': 32}, {'text': ['kampung', 'halaman'], 'type': 'NOUN', 'score': 1.0, 'beginOffset': 32, 'endOffset': 34}, {'text': ['masing-masing'], 'type': 'ADV', 'score': 1.0, 'beginOffset': 34, 'endOffset': 35}, {'text': ['.'], 'type': 'PUNCT', 'score': 1.0, 'beginOffset': 35, 'endOffset': 36}, {'text': ['Dalam'], 'type': 'ADP', 'score': 1.0, 'beginOffset': 36, 'endOffset': 37}, {'text': ['video'], 'type': 'NOUN', 'score': 1.0, 'beginOffset': 37, 'endOffset': 38}, {'text': ['pendek'], 'type': 'ADJ', 'score': 1.0, 'beginOffset': 38, 'endOffset': 39}, {'text': ['terbitan', 'Jabatan', 'Keselamatan'], 'type': 'NOUN', 'score': 1.0, 'beginOffset': 39, 'endOffset': 42}, {'text': ['Jalan', 'Raya'], 'type': 'PROPN', 'score': 1.0, 'beginOffset': 42, 'endOffset': 44}, {'text': ['('], 'type': 'PUNCT', 'score': 1.0, 'beginOffset': 44, 'endOffset': 45}, {'text': ['JKJR'], 'type': 'PROPN', 'score': 1.0, 'beginOffset': 45, 'endOffset': 46}, {'text': [')'], 'type': 'PUNCT', 'score': 1.0, 'beginOffset': 46, 'endOffset': 47}, {'text': ['itu'], 'type': 'DET', 'score': 1.0, 'beginOffset': 47, 'endOffset': 48}, {'text': [','], 'type': 'PUNCT', 'score': 1.0, 'beginOffset': 48, 'endOffset': 49}, {'text': ['Dr', 'Mahathir'], 'type': 'PROPN', 'score': 1.0, 'beginOffset': 49, 'endOffset': 51}, {'text': ['menasihati'], 'type': 'VERB', 'score': 1.0, 'beginOffset': 51, 'endOffset': 52}, {'text': ['mereka'], 'type': 'PRON', 'score': 1.0, 'beginOffset': 52, 'endOffset': 53}, {'text': ['supaya'], 'type': 'SCONJ', 'score': 1.0, 'beginOffset': 53, 'endOffset': 54}, {'text': ['berhenti', 'berehat'], 'type': 'VERB', 'score': 1.0, 'beginOffset': 54, 'endOffset': 56}, {'text': ['dan'], 'type': 'CCONJ', 'score': 1.0, 'beginOffset': 56, 'endOffset': 57}, {'text': ['tidur'], 'type': 'VERB', 'score': 1.0, 'beginOffset': 57, 'endOffset': 58}, {'text': ['sebentar'], 'type': 'ADV', 'score': 1.0, 'beginOffset': 58, 'endOffset': 59}, {'text': ['sekiranya'], 'type': 'SCONJ', 'score': 1.0, 'beginOffset': 59, 'endOffset': 60}, {'text': ['mengantuk'], 'type': 'ADJ', 'score': 1.0, 'beginOffset': 60, 'endOffset': 61}, {'text': ['ketika'], 'type': 'SCONJ', 'score': 1.0, 'beginOffset': 61, 'endOffset': 62}, {'text': ['memandu'], 'type': 'VERB', 'score': 1.0, 'beginOffset': 62, 'endOffset': 63}, {'text': ['.'], 'type': 'PUNCT', 'score': 1.0, 'beginOffset': 63, 'endOffset': 64}]\n"
     ]
    }
   ],
   "source": [
    "models = malaya.pos.available_transformer()\n",
    "for m in models.index:\n",
    "    print(m)\n",
    "    model = malaya.pos.transformer(model = m)\n",
    "    print(model.predict(string))\n",
    "    print(model.predict(string1))\n",
    "    print(model.analyze(string))\n",
    "    malaya.utils.delete_cache(f'pos/{m}')\n",
    "    del model"
   ]
  },
  {
   "cell_type": "code",
   "execution_count": null,
   "id": "romance-blocking",
   "metadata": {},
   "outputs": [],
   "source": []
  }
 ],
 "metadata": {
  "kernelspec": {
   "display_name": "Python 3 (ipykernel)",
   "language": "python",
   "name": "python3"
  },
  "language_info": {
   "codemirror_mode": {
    "name": "ipython",
    "version": 3
   },
   "file_extension": ".py",
   "mimetype": "text/x-python",
   "name": "python",
   "nbconvert_exporter": "python",
   "pygments_lexer": "ipython3",
   "version": "3.8.10"
  }
 },
 "nbformat": 4,
 "nbformat_minor": 5
}
