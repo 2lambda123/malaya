{
 "cells": [
  {
   "cell_type": "code",
   "execution_count": 1,
   "metadata": {},
   "outputs": [],
   "source": [
    "import sys\n",
    "import os\n",
    "\n",
    "SOURCE_DIR = os.path.dirname(os.path.dirname(os.path.abspath(__name__)))\n",
    "sys.path.insert(0, SOURCE_DIR)"
   ]
  },
  {
   "cell_type": "code",
   "execution_count": 2,
   "metadata": {},
   "outputs": [],
   "source": [
    "import malaya\n",
    "import logging\n",
    "\n",
    "logging.basicConfig(level=logging.DEBUG)"
   ]
  },
  {
   "cell_type": "code",
   "execution_count": 3,
   "metadata": {},
   "outputs": [],
   "source": [
    "string1 = 'jom makan di us makanan di sana sedap'"
   ]
  },
  {
   "cell_type": "code",
   "execution_count": 4,
   "metadata": {},
   "outputs": [
    {
     "name": "stderr",
     "output_type": "stream",
     "text": [
      "DEBUG:urllib3.connectionpool:Starting new HTTPS connection (1): f000.backblazeb2.com:443\n"
     ]
    },
    {
     "name": "stdout",
     "output_type": "stream",
     "text": [
      "small\n"
     ]
    },
    {
     "name": "stderr",
     "output_type": "stream",
     "text": [
      "DEBUG:urllib3.connectionpool:https://f000.backblazeb2.com:443 \"HEAD /file/malaya-model/true-case/small/model.pb HTTP/1.1\" 200 0\n",
      "DEBUG:urllib3.connectionpool:Starting new HTTPS connection (1): f000.backblazeb2.com:443\n",
      "DEBUG:urllib3.connectionpool:https://f000.backblazeb2.com:443 \"HEAD /file/malaya-model/bpe/true-case.yttm HTTP/1.1\" 200 0\n",
      "DEBUG:urllib3.connectionpool:Starting new HTTPS connection (1): f000.backblazeb2.com:443\n",
      "DEBUG:urllib3.connectionpool:https://f000.backblazeb2.com:443 \"HEAD /file/malaya-model/true-case/small/version HTTP/1.1\" 404 0\n",
      "INFO:backblaze:downloading frozen model to /Users/huseinzolkepli/Malaya/true-case/small/model.pb\n",
      "DEBUG:urllib3.connectionpool:Starting new HTTPS connection (1): f000.backblazeb2.com:443\n",
      "DEBUG:urllib3.connectionpool:https://f000.backblazeb2.com:443 \"GET /file/malaya-model/true-case/small/model.pb HTTP/1.1\" 200 48764573\n",
      "101%|██████████| 47.0/46.5 [00:25<00:00, 1.88MB/s]\n",
      "INFO:backblaze:downloading frozen vocab to /Users/huseinzolkepli/Malaya/true-case/small/true-case.yttm\n",
      "DEBUG:urllib3.connectionpool:Starting new HTTPS connection (1): f000.backblazeb2.com:443\n",
      "DEBUG:urllib3.connectionpool:https://f000.backblazeb2.com:443 \"GET /file/malaya-model/bpe/true-case.yttm HTTP/1.1\" 200 459266\n",
      "1.00MB [00:01, 1.74s/MB]                   \n",
      "DEBUG:frozen_graph:use_tensorrt: False\n",
      "DEBUG:frozen_graph:tensorrt_precision_mode: FP32\n",
      "DEBUG:frozen_graph:precision_mode: FP32\n",
      "DEBUG:frozen_graph:t5_graph: False\n",
      "DEBUG:frozen_graph:glowtts_graph: False\n",
      "DEBUG:frozen_graph:glowtts_multispeaker_graph: False\n",
      "INFO:frozen_graph:running true-case/small using device /device:CPU:0\n",
      "DEBUG:urllib3.connectionpool:Starting new HTTPS connection (1): f000.backblazeb2.com:443\n"
     ]
    },
    {
     "name": "stdout",
     "output_type": "stream",
     "text": [
      "['Jom makan di US makanan di sana sedap']\n",
      "base\n"
     ]
    },
    {
     "name": "stderr",
     "output_type": "stream",
     "text": [
      "DEBUG:urllib3.connectionpool:https://f000.backblazeb2.com:443 \"HEAD /file/malaya-model/true-case/base/model.pb HTTP/1.1\" 200 0\n",
      "DEBUG:urllib3.connectionpool:Starting new HTTPS connection (1): f000.backblazeb2.com:443\n",
      "DEBUG:urllib3.connectionpool:https://f000.backblazeb2.com:443 \"HEAD /file/malaya-model/bpe/true-case.yttm HTTP/1.1\" 200 0\n",
      "DEBUG:urllib3.connectionpool:Starting new HTTPS connection (1): f000.backblazeb2.com:443\n",
      "DEBUG:urllib3.connectionpool:https://f000.backblazeb2.com:443 \"HEAD /file/malaya-model/true-case/base/version HTTP/1.1\" 404 0\n",
      "INFO:backblaze:downloading frozen model to /Users/huseinzolkepli/Malaya/true-case/base/model.pb\n",
      "DEBUG:urllib3.connectionpool:Starting new HTTPS connection (1): f000.backblazeb2.com:443\n",
      "DEBUG:urllib3.connectionpool:https://f000.backblazeb2.com:443 \"GET /file/malaya-model/true-case/base/model.pb HTTP/1.1\" 200 245299065\n",
      "100%|██████████| 234/234 [01:01<00:00, 3.80MB/s] \n",
      "INFO:backblaze:downloading frozen vocab to /Users/huseinzolkepli/Malaya/true-case/base/true-case.yttm\n",
      "DEBUG:urllib3.connectionpool:Starting new HTTPS connection (1): f000.backblazeb2.com:443\n",
      "DEBUG:urllib3.connectionpool:https://f000.backblazeb2.com:443 \"GET /file/malaya-model/bpe/true-case.yttm HTTP/1.1\" 200 459266\n",
      "1.00MB [00:01, 1.59s/MB]                   \n",
      "DEBUG:frozen_graph:use_tensorrt: False\n",
      "DEBUG:frozen_graph:tensorrt_precision_mode: FP32\n",
      "DEBUG:frozen_graph:precision_mode: FP32\n",
      "DEBUG:frozen_graph:t5_graph: False\n",
      "DEBUG:frozen_graph:glowtts_graph: False\n",
      "DEBUG:frozen_graph:glowtts_multispeaker_graph: False\n",
      "INFO:frozen_graph:running true-case/base using device /device:CPU:0\n",
      "DEBUG:urllib3.connectionpool:Starting new HTTPS connection (1): f000.backblazeb2.com:443\n"
     ]
    },
    {
     "name": "stdout",
     "output_type": "stream",
     "text": [
      "['Jom makan di US makanan di sana sedap.']\n",
      "super-tiny-t5\n"
     ]
    },
    {
     "name": "stderr",
     "output_type": "stream",
     "text": [
      "DEBUG:urllib3.connectionpool:https://f000.backblazeb2.com:443 \"HEAD /file/malaya-model/true-case/super-tiny-t5/model.pb HTTP/1.1\" 200 0\n",
      "DEBUG:urllib3.connectionpool:Starting new HTTPS connection (1): f000.backblazeb2.com:443\n",
      "DEBUG:urllib3.connectionpool:https://f000.backblazeb2.com:443 \"HEAD /file/malaya-model/bpe/sp10m.cased.ms-en.model HTTP/1.1\" 200 0\n",
      "DEBUG:urllib3.connectionpool:Starting new HTTPS connection (1): f000.backblazeb2.com:443\n",
      "DEBUG:urllib3.connectionpool:https://f000.backblazeb2.com:443 \"HEAD /file/malaya-model/true-case/super-tiny-t5/version HTTP/1.1\" 404 0\n",
      "INFO:backblaze:downloading frozen model to /Users/huseinzolkepli/Malaya/true-case/super-tiny-t5/model.pb\n",
      "DEBUG:urllib3.connectionpool:Starting new HTTPS connection (1): f000.backblazeb2.com:443\n",
      "DEBUG:urllib3.connectionpool:https://f000.backblazeb2.com:443 \"GET /file/malaya-model/true-case/super-tiny-t5/model.pb HTTP/1.1\" 200 81899363\n",
      "79.0MB [00:24, 3.24MB/s]                          \n",
      "INFO:backblaze:downloading frozen vocab to /Users/huseinzolkepli/Malaya/true-case/super-tiny-t5/sp10m.cased.ms-en.model\n",
      "DEBUG:urllib3.connectionpool:Starting new HTTPS connection (1): f000.backblazeb2.com:443\n",
      "DEBUG:urllib3.connectionpool:https://f000.backblazeb2.com:443 \"GET /file/malaya-model/bpe/sp10m.cased.ms-en.model HTTP/1.1\" 200 803030\n",
      "131%|██████████| 1.00/0.77 [00:02<00:00, 2.77s/MB]\n",
      "DEBUG:frozen_graph:use_tensorrt: False\n",
      "DEBUG:frozen_graph:tensorrt_precision_mode: FP32\n",
      "DEBUG:frozen_graph:precision_mode: FP32\n",
      "DEBUG:frozen_graph:t5_graph: True\n",
      "DEBUG:frozen_graph:glowtts_graph: False\n",
      "DEBUG:frozen_graph:glowtts_multispeaker_graph: False\n",
      "INFO:frozen_graph:running true-case/super-tiny-t5 using device /device:CPU:0\n",
      "DEBUG:urllib3.connectionpool:Starting new HTTPS connection (1): f000.backblazeb2.com:443\n"
     ]
    },
    {
     "name": "stdout",
     "output_type": "stream",
     "text": [
      "['Jom makan di US makanan di sana sedap.']\n",
      "super-super-tiny-t5\n"
     ]
    },
    {
     "name": "stderr",
     "output_type": "stream",
     "text": [
      "DEBUG:urllib3.connectionpool:https://f000.backblazeb2.com:443 \"HEAD /file/malaya-model/true-case/super-super-tiny-t5/model.pb HTTP/1.1\" 200 0\n",
      "DEBUG:urllib3.connectionpool:Starting new HTTPS connection (1): f000.backblazeb2.com:443\n",
      "DEBUG:urllib3.connectionpool:https://f000.backblazeb2.com:443 \"HEAD /file/malaya-model/bpe/sp10m.cased.ms-en.model HTTP/1.1\" 200 0\n",
      "DEBUG:urllib3.connectionpool:Starting new HTTPS connection (1): f000.backblazeb2.com:443\n",
      "DEBUG:urllib3.connectionpool:https://f000.backblazeb2.com:443 \"HEAD /file/malaya-model/true-case/super-super-tiny-t5/version HTTP/1.1\" 404 0\n",
      "INFO:backblaze:downloading frozen model to /Users/huseinzolkepli/Malaya/true-case/super-super-tiny-t5/model.pb\n",
      "DEBUG:urllib3.connectionpool:Starting new HTTPS connection (1): f000.backblazeb2.com:443\n",
      "DEBUG:urllib3.connectionpool:https://f000.backblazeb2.com:443 \"GET /file/malaya-model/true-case/super-super-tiny-t5/model.pb HTTP/1.1\" 200 39597580\n",
      "101%|██████████| 38.0/37.8 [00:16<00:00, 2.34MB/s]\n",
      "INFO:backblaze:downloading frozen vocab to /Users/huseinzolkepli/Malaya/true-case/super-super-tiny-t5/sp10m.cased.ms-en.model\n",
      "DEBUG:urllib3.connectionpool:Starting new HTTPS connection (1): f000.backblazeb2.com:443\n",
      "DEBUG:urllib3.connectionpool:https://f000.backblazeb2.com:443 \"GET /file/malaya-model/bpe/sp10m.cased.ms-en.model HTTP/1.1\" 200 803030\n",
      "131%|██████████| 1.00/0.77 [00:01<00:00, 1.61s/MB]\n",
      "DEBUG:frozen_graph:use_tensorrt: False\n",
      "DEBUG:frozen_graph:tensorrt_precision_mode: FP32\n",
      "DEBUG:frozen_graph:precision_mode: FP32\n",
      "DEBUG:frozen_graph:t5_graph: True\n",
      "DEBUG:frozen_graph:glowtts_graph: False\n",
      "DEBUG:frozen_graph:glowtts_multispeaker_graph: False\n",
      "INFO:frozen_graph:running true-case/super-super-tiny-t5 using device /device:CPU:0\n",
      "DEBUG:urllib3.connectionpool:Starting new HTTPS connection (1): f000.backblazeb2.com:443\n"
     ]
    },
    {
     "name": "stdout",
     "output_type": "stream",
     "text": [
      "['Jom makan di US makanan di sana sedap.']\n",
      "3x-super-tiny-t5\n"
     ]
    },
    {
     "name": "stderr",
     "output_type": "stream",
     "text": [
      "DEBUG:urllib3.connectionpool:https://f000.backblazeb2.com:443 \"HEAD /file/malaya-model/true-case/3x-super-tiny-t5/model.pb HTTP/1.1\" 200 0\n",
      "DEBUG:urllib3.connectionpool:Starting new HTTPS connection (1): f000.backblazeb2.com:443\n",
      "DEBUG:urllib3.connectionpool:https://f000.backblazeb2.com:443 \"HEAD /file/malaya-model/bpe/sp10m.cased.ms-en.model HTTP/1.1\" 200 0\n",
      "DEBUG:urllib3.connectionpool:Starting new HTTPS connection (1): f000.backblazeb2.com:443\n",
      "DEBUG:urllib3.connectionpool:https://f000.backblazeb2.com:443 \"HEAD /file/malaya-model/true-case/3x-super-tiny-t5/version HTTP/1.1\" 404 0\n",
      "INFO:backblaze:downloading frozen model to /Users/huseinzolkepli/Malaya/true-case/3x-super-tiny-t5/model.pb\n",
      "DEBUG:urllib3.connectionpool:Starting new HTTPS connection (1): f000.backblazeb2.com:443\n",
      "DEBUG:urllib3.connectionpool:https://f000.backblazeb2.com:443 \"GET /file/malaya-model/true-case/3x-super-tiny-t5/model.pb HTTP/1.1\" 200 18311782\n",
      "18.0MB [00:10, 1.70MB/s]                          \n",
      "INFO:backblaze:downloading frozen vocab to /Users/huseinzolkepli/Malaya/true-case/3x-super-tiny-t5/sp10m.cased.ms-en.model\n",
      "DEBUG:urllib3.connectionpool:Starting new HTTPS connection (1): f000.backblazeb2.com:443\n",
      "DEBUG:urllib3.connectionpool:https://f000.backblazeb2.com:443 \"GET /file/malaya-model/bpe/sp10m.cased.ms-en.model HTTP/1.1\" 200 803030\n",
      "131%|██████████| 1.00/0.77 [00:01<00:00, 1.71s/MB]\n",
      "DEBUG:frozen_graph:use_tensorrt: False\n",
      "DEBUG:frozen_graph:tensorrt_precision_mode: FP32\n",
      "DEBUG:frozen_graph:precision_mode: FP32\n",
      "DEBUG:frozen_graph:t5_graph: True\n",
      "DEBUG:frozen_graph:glowtts_graph: False\n",
      "DEBUG:frozen_graph:glowtts_multispeaker_graph: False\n",
      "INFO:frozen_graph:running true-case/3x-super-tiny-t5 using device /device:CPU:0\n",
      "DEBUG:urllib3.connectionpool:Starting new HTTPS connection (1): f000.backblazeb2.com:443\n"
     ]
    },
    {
     "name": "stdout",
     "output_type": "stream",
     "text": [
      "['Jom makan di us makanan di sana sedap']\n",
      "3x-super-tiny-t5-4k\n"
     ]
    },
    {
     "name": "stderr",
     "output_type": "stream",
     "text": [
      "DEBUG:urllib3.connectionpool:https://f000.backblazeb2.com:443 \"HEAD /file/malaya-model/true-case/3x-super-tiny-t5-4k/model.pb HTTP/1.1\" 200 0\n",
      "DEBUG:urllib3.connectionpool:Starting new HTTPS connection (1): f000.backblazeb2.com:443\n",
      "DEBUG:urllib3.connectionpool:https://f000.backblazeb2.com:443 \"HEAD /file/malaya-model/bpe/sp10m.cased.ms-en-4k.model HTTP/1.1\" 200 0\n",
      "DEBUG:urllib3.connectionpool:Starting new HTTPS connection (1): f000.backblazeb2.com:443\n",
      "DEBUG:urllib3.connectionpool:https://f000.backblazeb2.com:443 \"HEAD /file/malaya-model/true-case/3x-super-tiny-t5-4k/version HTTP/1.1\" 404 0\n",
      "INFO:backblaze:downloading frozen model to /Users/huseinzolkepli/Malaya/true-case/3x-super-tiny-t5-4k/model.pb\n",
      "DEBUG:urllib3.connectionpool:Starting new HTTPS connection (1): f000.backblazeb2.com:443\n",
      "DEBUG:urllib3.connectionpool:https://f000.backblazeb2.com:443 \"GET /file/malaya-model/true-case/3x-super-tiny-t5-4k/model.pb HTTP/1.1\" 200 5025581\n",
      "104%|██████████| 5.00/4.79 [00:05<00:00, 1.17s/MB]\n",
      "INFO:backblaze:downloading frozen vocab to /Users/huseinzolkepli/Malaya/true-case/3x-super-tiny-t5-4k/sp10m.cased.ms-en-4k.model\n",
      "DEBUG:urllib3.connectionpool:Starting new HTTPS connection (1): f000.backblazeb2.com:443\n",
      "DEBUG:urllib3.connectionpool:https://f000.backblazeb2.com:443 \"GET /file/malaya-model/bpe/sp10m.cased.ms-en-4k.model HTTP/1.1\" 200 303209\n",
      "1.00MB [00:01, 1.26s/MB]                   \n",
      "DEBUG:frozen_graph:use_tensorrt: False\n",
      "DEBUG:frozen_graph:tensorrt_precision_mode: FP32\n",
      "DEBUG:frozen_graph:precision_mode: FP32\n",
      "DEBUG:frozen_graph:t5_graph: True\n",
      "DEBUG:frozen_graph:glowtts_graph: False\n",
      "DEBUG:frozen_graph:glowtts_multispeaker_graph: False\n",
      "INFO:frozen_graph:running true-case/3x-super-tiny-t5-4k using device /device:CPU:0\n"
     ]
    },
    {
     "name": "stdout",
     "output_type": "stream",
     "text": [
      "['Jom Makan di Usaman, di sana, sedap']\n"
     ]
    }
   ],
   "source": [
    "models = malaya.true_case.available_transformer()\n",
    "for m in models.index:\n",
    "    print(m)\n",
    "    model = malaya.true_case.transformer(model = m)\n",
    "    print(model.greedy_decoder([string1]))\n",
    "    malaya.utils.delete_cache(f'true-case/{m}')"
   ]
  },
  {
   "cell_type": "code",
   "execution_count": 5,
   "metadata": {},
   "outputs": [
    {
     "name": "stderr",
     "output_type": "stream",
     "text": [
      "DEBUG:urllib3.connectionpool:Starting new HTTPS connection (1): f000.backblazeb2.com:443\n"
     ]
    },
    {
     "name": "stdout",
     "output_type": "stream",
     "text": [
      "small\n"
     ]
    },
    {
     "name": "stderr",
     "output_type": "stream",
     "text": [
      "DEBUG:urllib3.connectionpool:https://f000.backblazeb2.com:443 \"HEAD /file/malaya-model/segmentation/small/model.pb HTTP/1.1\" 200 0\n",
      "DEBUG:urllib3.connectionpool:Starting new HTTPS connection (1): f000.backblazeb2.com:443\n",
      "DEBUG:urllib3.connectionpool:https://f000.backblazeb2.com:443 \"HEAD /file/malaya-model/bpe/segmentation.yttm HTTP/1.1\" 200 0\n",
      "DEBUG:urllib3.connectionpool:Starting new HTTPS connection (1): f000.backblazeb2.com:443\n",
      "DEBUG:urllib3.connectionpool:https://f000.backblazeb2.com:443 \"HEAD /file/malaya-model/segmentation/small/version HTTP/1.1\" 404 0\n",
      "INFO:backblaze:downloading frozen model to /Users/huseinzolkepli/Malaya/segmentation/small/model.pb\n",
      "DEBUG:urllib3.connectionpool:Starting new HTTPS connection (1): f000.backblazeb2.com:443\n",
      "DEBUG:urllib3.connectionpool:https://f000.backblazeb2.com:443 \"GET /file/malaya-model/segmentation/small/model.pb HTTP/1.1\" 200 48764573\n",
      "101%|██████████| 47.0/46.5 [00:39<00:00, 1.18MB/s]\n",
      "INFO:backblaze:downloading frozen vocab to /Users/huseinzolkepli/Malaya/segmentation/small/segmentation.yttm\n",
      "DEBUG:urllib3.connectionpool:Starting new HTTPS connection (1): f000.backblazeb2.com:443\n",
      "DEBUG:urllib3.connectionpool:https://f000.backblazeb2.com:443 \"GET /file/malaya-model/bpe/segmentation.yttm HTTP/1.1\" 200 459266\n",
      "1.00MB [00:01, 1.44s/MB]                   \n",
      "DEBUG:frozen_graph:use_tensorrt: False\n",
      "DEBUG:frozen_graph:tensorrt_precision_mode: FP32\n",
      "DEBUG:frozen_graph:precision_mode: FP32\n",
      "DEBUG:frozen_graph:t5_graph: False\n",
      "DEBUG:frozen_graph:glowtts_graph: False\n",
      "DEBUG:frozen_graph:glowtts_multispeaker_graph: False\n",
      "INFO:frozen_graph:running segmentation/small using device /device:CPU:0\n",
      "DEBUG:urllib3.connectionpool:Starting new HTTPS connection (1): f000.backblazeb2.com:443\n"
     ]
    },
    {
     "name": "stdout",
     "output_type": "stream",
     "text": [
      "['jom makan di us makanan di sana sedap']\n",
      "base\n"
     ]
    },
    {
     "name": "stderr",
     "output_type": "stream",
     "text": [
      "DEBUG:urllib3.connectionpool:https://f000.backblazeb2.com:443 \"HEAD /file/malaya-model/segmentation/base/model.pb HTTP/1.1\" 200 0\n",
      "DEBUG:urllib3.connectionpool:Starting new HTTPS connection (1): f000.backblazeb2.com:443\n",
      "DEBUG:urllib3.connectionpool:https://f000.backblazeb2.com:443 \"HEAD /file/malaya-model/bpe/segmentation.yttm HTTP/1.1\" 200 0\n",
      "DEBUG:urllib3.connectionpool:Starting new HTTPS connection (1): f000.backblazeb2.com:443\n",
      "DEBUG:urllib3.connectionpool:https://f000.backblazeb2.com:443 \"HEAD /file/malaya-model/segmentation/base/version HTTP/1.1\" 404 0\n",
      "INFO:backblaze:downloading frozen model to /Users/huseinzolkepli/Malaya/segmentation/base/model.pb\n",
      "DEBUG:urllib3.connectionpool:Starting new HTTPS connection (1): f000.backblazeb2.com:443\n",
      "DEBUG:urllib3.connectionpool:https://f000.backblazeb2.com:443 \"GET /file/malaya-model/segmentation/base/model.pb HTTP/1.1\" 200 245299065\n",
      "100%|██████████| 234/234 [01:03<00:00, 3.70MB/s] \n",
      "INFO:backblaze:downloading frozen vocab to /Users/huseinzolkepli/Malaya/segmentation/base/segmentation.yttm\n",
      "DEBUG:urllib3.connectionpool:Starting new HTTPS connection (1): f000.backblazeb2.com:443\n",
      "DEBUG:urllib3.connectionpool:https://f000.backblazeb2.com:443 \"GET /file/malaya-model/bpe/segmentation.yttm HTTP/1.1\" 200 459266\n",
      "1.00MB [00:01, 1.59s/MB]                   \n",
      "DEBUG:frozen_graph:use_tensorrt: False\n",
      "DEBUG:frozen_graph:tensorrt_precision_mode: FP32\n",
      "DEBUG:frozen_graph:precision_mode: FP32\n",
      "DEBUG:frozen_graph:t5_graph: False\n",
      "DEBUG:frozen_graph:glowtts_graph: False\n",
      "DEBUG:frozen_graph:glowtts_multispeaker_graph: False\n",
      "INFO:frozen_graph:running segmentation/base using device /device:CPU:0\n",
      "DEBUG:urllib3.connectionpool:Starting new HTTPS connection (1): f000.backblazeb2.com:443\n"
     ]
    },
    {
     "name": "stdout",
     "output_type": "stream",
     "text": [
      "['jom makan di us makanan di sana sedap']\n",
      "super-tiny-t5\n"
     ]
    },
    {
     "name": "stderr",
     "output_type": "stream",
     "text": [
      "DEBUG:urllib3.connectionpool:https://f000.backblazeb2.com:443 \"HEAD /file/malaya-model/segmentation/super-tiny-t5/model.pb HTTP/1.1\" 200 0\n",
      "DEBUG:urllib3.connectionpool:Starting new HTTPS connection (1): f000.backblazeb2.com:443\n",
      "DEBUG:urllib3.connectionpool:https://f000.backblazeb2.com:443 \"HEAD /file/malaya-model/bpe/sp10m.cased.ms-en.model HTTP/1.1\" 200 0\n",
      "DEBUG:urllib3.connectionpool:Starting new HTTPS connection (1): f000.backblazeb2.com:443\n",
      "DEBUG:urllib3.connectionpool:https://f000.backblazeb2.com:443 \"HEAD /file/malaya-model/segmentation/super-tiny-t5/version HTTP/1.1\" 404 0\n",
      "INFO:backblaze:downloading frozen model to /Users/huseinzolkepli/Malaya/segmentation/super-tiny-t5/model.pb\n",
      "DEBUG:urllib3.connectionpool:Starting new HTTPS connection (1): f000.backblazeb2.com:443\n",
      "DEBUG:urllib3.connectionpool:https://f000.backblazeb2.com:443 \"GET /file/malaya-model/segmentation/super-tiny-t5/model.pb HTTP/1.1\" 200 81865928\n",
      "79.0MB [00:25, 3.10MB/s]                          \n",
      "INFO:backblaze:downloading frozen vocab to /Users/huseinzolkepli/Malaya/segmentation/super-tiny-t5/sp10m.cased.ms-en.model\n",
      "DEBUG:urllib3.connectionpool:Starting new HTTPS connection (1): f000.backblazeb2.com:443\n",
      "DEBUG:urllib3.connectionpool:https://f000.backblazeb2.com:443 \"GET /file/malaya-model/bpe/sp10m.cased.ms-en.model HTTP/1.1\" 200 803030\n",
      "131%|██████████| 1.00/0.77 [00:02<00:00, 2.66s/MB]\n",
      "DEBUG:frozen_graph:use_tensorrt: False\n",
      "DEBUG:frozen_graph:tensorrt_precision_mode: FP32\n",
      "DEBUG:frozen_graph:precision_mode: FP32\n",
      "DEBUG:frozen_graph:t5_graph: True\n",
      "DEBUG:frozen_graph:glowtts_graph: False\n",
      "DEBUG:frozen_graph:glowtts_multispeaker_graph: False\n",
      "INFO:frozen_graph:running segmentation/super-tiny-t5 using device /device:CPU:0\n",
      "DEBUG:urllib3.connectionpool:Starting new HTTPS connection (1): f000.backblazeb2.com:443\n"
     ]
    },
    {
     "name": "stdout",
     "output_type": "stream",
     "text": [
      "['jom makan di us makanan di sana sedap']\n",
      "super-super-tiny-t5\n"
     ]
    },
    {
     "name": "stderr",
     "output_type": "stream",
     "text": [
      "DEBUG:urllib3.connectionpool:https://f000.backblazeb2.com:443 \"HEAD /file/malaya-model/segmentation/super-super-tiny-t5/model.pb HTTP/1.1\" 200 0\n",
      "DEBUG:urllib3.connectionpool:Starting new HTTPS connection (1): f000.backblazeb2.com:443\n",
      "DEBUG:urllib3.connectionpool:https://f000.backblazeb2.com:443 \"HEAD /file/malaya-model/bpe/sp10m.cased.ms-en.model HTTP/1.1\" 200 0\n",
      "DEBUG:urllib3.connectionpool:Starting new HTTPS connection (1): f000.backblazeb2.com:443\n",
      "DEBUG:urllib3.connectionpool:https://f000.backblazeb2.com:443 \"HEAD /file/malaya-model/segmentation/super-super-tiny-t5/version HTTP/1.1\" 404 0\n",
      "INFO:backblaze:downloading frozen model to /Users/huseinzolkepli/Malaya/segmentation/super-super-tiny-t5/model.pb\n",
      "DEBUG:urllib3.connectionpool:Starting new HTTPS connection (1): f000.backblazeb2.com:443\n",
      "DEBUG:urllib3.connectionpool:https://f000.backblazeb2.com:443 \"GET /file/malaya-model/segmentation/super-super-tiny-t5/model.pb HTTP/1.1\" 200 39597451\n",
      "101%|██████████| 38.0/37.8 [00:12<00:00, 3.05MB/s]\n",
      "INFO:backblaze:downloading frozen vocab to /Users/huseinzolkepli/Malaya/segmentation/super-super-tiny-t5/sp10m.cased.ms-en.model\n",
      "DEBUG:urllib3.connectionpool:Starting new HTTPS connection (1): f000.backblazeb2.com:443\n",
      "DEBUG:urllib3.connectionpool:https://f000.backblazeb2.com:443 \"GET /file/malaya-model/bpe/sp10m.cased.ms-en.model HTTP/1.1\" 200 803030\n",
      "131%|██████████| 1.00/0.77 [00:01<00:00, 1.84s/MB]\n",
      "DEBUG:frozen_graph:use_tensorrt: False\n",
      "DEBUG:frozen_graph:tensorrt_precision_mode: FP32\n",
      "DEBUG:frozen_graph:precision_mode: FP32\n",
      "DEBUG:frozen_graph:t5_graph: True\n",
      "DEBUG:frozen_graph:glowtts_graph: False\n",
      "DEBUG:frozen_graph:glowtts_multispeaker_graph: False\n",
      "INFO:frozen_graph:running segmentation/super-super-tiny-t5 using device /device:CPU:0\n",
      "DEBUG:urllib3.connectionpool:Starting new HTTPS connection (1): f000.backblazeb2.com:443\n"
     ]
    },
    {
     "name": "stdout",
     "output_type": "stream",
     "text": [
      "['jom makan di us makanan di sana sedap']\n",
      "3x-super-tiny-t5\n"
     ]
    },
    {
     "name": "stderr",
     "output_type": "stream",
     "text": [
      "DEBUG:urllib3.connectionpool:https://f000.backblazeb2.com:443 \"HEAD /file/malaya-model/segmentation/3x-super-tiny-t5/model.pb HTTP/1.1\" 200 0\n",
      "DEBUG:urllib3.connectionpool:Starting new HTTPS connection (1): f000.backblazeb2.com:443\n",
      "DEBUG:urllib3.connectionpool:https://f000.backblazeb2.com:443 \"HEAD /file/malaya-model/bpe/sp10m.cased.ms-en.model HTTP/1.1\" 200 0\n",
      "DEBUG:urllib3.connectionpool:Starting new HTTPS connection (1): f000.backblazeb2.com:443\n",
      "DEBUG:urllib3.connectionpool:https://f000.backblazeb2.com:443 \"HEAD /file/malaya-model/segmentation/3x-super-tiny-t5/version HTTP/1.1\" 404 0\n",
      "INFO:backblaze:downloading frozen model to /Users/huseinzolkepli/Malaya/segmentation/3x-super-tiny-t5/model.pb\n",
      "DEBUG:urllib3.connectionpool:Starting new HTTPS connection (1): f000.backblazeb2.com:443\n",
      "DEBUG:urllib3.connectionpool:https://f000.backblazeb2.com:443 \"GET /file/malaya-model/segmentation/3x-super-tiny-t5/model.pb HTTP/1.1\" 200 18321170\n",
      "18.0MB [00:07, 2.43MB/s]                          \n",
      "INFO:backblaze:downloading frozen vocab to /Users/huseinzolkepli/Malaya/segmentation/3x-super-tiny-t5/sp10m.cased.ms-en.model\n",
      "DEBUG:urllib3.connectionpool:Starting new HTTPS connection (1): f000.backblazeb2.com:443\n",
      "DEBUG:urllib3.connectionpool:https://f000.backblazeb2.com:443 \"GET /file/malaya-model/bpe/sp10m.cased.ms-en.model HTTP/1.1\" 200 803030\n",
      "131%|██████████| 1.00/0.77 [00:02<00:00, 2.13s/MB]\n",
      "DEBUG:frozen_graph:use_tensorrt: False\n",
      "DEBUG:frozen_graph:tensorrt_precision_mode: FP32\n",
      "DEBUG:frozen_graph:precision_mode: FP32\n",
      "DEBUG:frozen_graph:t5_graph: True\n",
      "DEBUG:frozen_graph:glowtts_graph: False\n",
      "DEBUG:frozen_graph:glowtts_multispeaker_graph: False\n",
      "INFO:frozen_graph:running segmentation/3x-super-tiny-t5 using device /device:CPU:0\n",
      "DEBUG:urllib3.connectionpool:Starting new HTTPS connection (1): f000.backblazeb2.com:443\n"
     ]
    },
    {
     "name": "stdout",
     "output_type": "stream",
     "text": [
      "['jom makan di us makanan di sana sedap']\n",
      "3x-super-tiny-t5-4k\n"
     ]
    },
    {
     "name": "stderr",
     "output_type": "stream",
     "text": [
      "DEBUG:urllib3.connectionpool:https://f000.backblazeb2.com:443 \"HEAD /file/malaya-model/segmentation/3x-super-tiny-t5-4k/model.pb HTTP/1.1\" 200 0\n",
      "DEBUG:urllib3.connectionpool:Starting new HTTPS connection (1): f000.backblazeb2.com:443\n",
      "DEBUG:urllib3.connectionpool:https://f000.backblazeb2.com:443 \"HEAD /file/malaya-model/bpe/sp10m.cased.ms-en-4k.model HTTP/1.1\" 200 0\n",
      "DEBUG:urllib3.connectionpool:Starting new HTTPS connection (1): f000.backblazeb2.com:443\n",
      "DEBUG:urllib3.connectionpool:https://f000.backblazeb2.com:443 \"HEAD /file/malaya-model/segmentation/3x-super-tiny-t5-4k/version HTTP/1.1\" 404 0\n",
      "INFO:backblaze:downloading frozen model to /Users/huseinzolkepli/Malaya/segmentation/3x-super-tiny-t5-4k/model.pb\n",
      "DEBUG:urllib3.connectionpool:Starting new HTTPS connection (1): f000.backblazeb2.com:443\n",
      "DEBUG:urllib3.connectionpool:https://f000.backblazeb2.com:443 \"GET /file/malaya-model/segmentation/3x-super-tiny-t5-4k/model.pb HTTP/1.1\" 200 5026757\n",
      "104%|██████████| 5.00/4.79 [00:08<00:00, 1.71s/MB]\n",
      "INFO:backblaze:downloading frozen vocab to /Users/huseinzolkepli/Malaya/segmentation/3x-super-tiny-t5-4k/sp10m.cased.ms-en-4k.model\n",
      "DEBUG:urllib3.connectionpool:Starting new HTTPS connection (1): f000.backblazeb2.com:443\n",
      "DEBUG:urllib3.connectionpool:https://f000.backblazeb2.com:443 \"GET /file/malaya-model/bpe/sp10m.cased.ms-en-4k.model HTTP/1.1\" 200 303209\n",
      "1.00MB [00:01, 1.02s/MB]                   \n",
      "DEBUG:frozen_graph:use_tensorrt: False\n",
      "DEBUG:frozen_graph:tensorrt_precision_mode: FP32\n",
      "DEBUG:frozen_graph:precision_mode: FP32\n",
      "DEBUG:frozen_graph:t5_graph: True\n",
      "DEBUG:frozen_graph:glowtts_graph: False\n",
      "DEBUG:frozen_graph:glowtts_multispeaker_graph: False\n",
      "INFO:frozen_graph:running segmentation/3x-super-tiny-t5-4k using device /device:CPU:0\n"
     ]
    },
    {
     "name": "stdout",
     "output_type": "stream",
     "text": [
      "['jom makan di us makanan di sana sedap']\n"
     ]
    }
   ],
   "source": [
    "models = malaya.segmentation.available_transformer()\n",
    "for m in models.index:\n",
    "    print(m)\n",
    "    model = malaya.segmentation.transformer(model = m)\n",
    "    print(model.greedy_decoder([string1]))\n",
    "    malaya.utils.delete_cache(f'segmentation/{m}')"
   ]
  },
  {
   "cell_type": "code",
   "execution_count": 6,
   "metadata": {
    "scrolled": true
   },
   "outputs": [
    {
     "name": "stderr",
     "output_type": "stream",
     "text": [
      "DEBUG:urllib3.connectionpool:Starting new HTTPS connection (1): f000.backblazeb2.com:443\n",
      "DEBUG:urllib3.connectionpool:https://f000.backblazeb2.com:443 \"HEAD /file/malaya-model/stem/lstm-bahdanau/model.pb HTTP/1.1\" 200 0\n",
      "DEBUG:urllib3.connectionpool:Starting new HTTPS connection (1): f000.backblazeb2.com:443\n",
      "DEBUG:urllib3.connectionpool:https://f000.backblazeb2.com:443 \"HEAD /file/malaya-model/bpe/stemmer.yttm HTTP/1.1\" 200 0\n",
      "DEBUG:urllib3.connectionpool:Starting new HTTPS connection (1): f000.backblazeb2.com:443\n",
      "DEBUG:urllib3.connectionpool:https://f000.backblazeb2.com:443 \"HEAD /file/malaya-model/stem/lstm-bahdanau/version HTTP/1.1\" 404 0\n",
      "INFO:backblaze:downloading frozen model to /Users/huseinzolkepli/Malaya/stem/lstm-bahdanau/model.pb\n",
      "DEBUG:urllib3.connectionpool:Starting new HTTPS connection (1): f000.backblazeb2.com:443\n",
      "DEBUG:urllib3.connectionpool:https://f000.backblazeb2.com:443 \"GET /file/malaya-model/stem/lstm-bahdanau/model.pb HTTP/1.1\" 200 41560071\n",
      "101%|██████████| 40.0/39.6 [00:17<00:00, 2.27MB/s]\n",
      "INFO:backblaze:downloading frozen vocab to /Users/huseinzolkepli/Malaya/stem/lstm-bahdanau/stemmer.yttm\n",
      "DEBUG:urllib3.connectionpool:Starting new HTTPS connection (1): f000.backblazeb2.com:443\n",
      "DEBUG:urllib3.connectionpool:https://f000.backblazeb2.com:443 \"GET /file/malaya-model/bpe/stemmer.yttm HTTP/1.1\" 200 4517\n",
      "1.00MB [00:00, 228MB/s]                    \n",
      "DEBUG:frozen_graph:use_tensorrt: False\n",
      "DEBUG:frozen_graph:tensorrt_precision_mode: FP32\n",
      "DEBUG:frozen_graph:precision_mode: FP32\n",
      "DEBUG:frozen_graph:t5_graph: False\n",
      "DEBUG:frozen_graph:glowtts_graph: False\n",
      "DEBUG:frozen_graph:glowtts_multispeaker_graph: False\n",
      "INFO:frozen_graph:running stem/lstm-bahdanau using device /device:CPU:0\n"
     ]
    },
    {
     "name": "stdout",
     "output_type": "stream",
     "text": [
      "saya seru\n"
     ]
    },
    {
     "data": {
      "text/plain": [
       "True"
      ]
     },
     "execution_count": 6,
     "metadata": {},
     "output_type": "execute_result"
    }
   ],
   "source": [
    "model = malaya.stem.deep_model()\n",
    "print(model.stem('saya menyerukanlah'))\n",
    "malaya.utils.delete_cache('stem')"
   ]
  },
  {
   "cell_type": "code",
   "execution_count": 7,
   "metadata": {},
   "outputs": [
    {
     "name": "stderr",
     "output_type": "stream",
     "text": [
      "DEBUG:urllib3.connectionpool:Starting new HTTPS connection (1): f000.backblazeb2.com:443\n",
      "DEBUG:urllib3.connectionpool:https://f000.backblazeb2.com:443 \"HEAD /file/malaya-model/stem/lstm-bahdanau-quantized/model.pb HTTP/1.1\" 200 0\n",
      "WARNING:backblaze:Load quantized model will cause accuracy drop.\n",
      "DEBUG:urllib3.connectionpool:Starting new HTTPS connection (1): f000.backblazeb2.com:443\n",
      "DEBUG:urllib3.connectionpool:https://f000.backblazeb2.com:443 \"HEAD /file/malaya-model/stem/lstm-bahdanau-quantized/model.pb HTTP/1.1\" 200 0\n",
      "DEBUG:urllib3.connectionpool:Starting new HTTPS connection (1): f000.backblazeb2.com:443\n",
      "DEBUG:urllib3.connectionpool:https://f000.backblazeb2.com:443 \"HEAD /file/malaya-model/bpe/stemmer.yttm HTTP/1.1\" 200 0\n",
      "DEBUG:urllib3.connectionpool:Starting new HTTPS connection (1): f000.backblazeb2.com:443\n",
      "DEBUG:urllib3.connectionpool:https://f000.backblazeb2.com:443 \"HEAD /file/malaya-model/stem/lstm-bahdanau-quantized/version HTTP/1.1\" 404 0\n",
      "INFO:backblaze:downloading frozen model to /Users/huseinzolkepli/Malaya/stem/lstm-bahdanau-quantized/model.pb\n",
      "DEBUG:urllib3.connectionpool:Starting new HTTPS connection (1): f000.backblazeb2.com:443\n",
      "DEBUG:urllib3.connectionpool:https://f000.backblazeb2.com:443 \"GET /file/malaya-model/stem/lstm-bahdanau-quantized/model.pb HTTP/1.1\" 200 10558779\n",
      "11.0MB [00:07, 1.56MB/s]                          \n",
      "INFO:backblaze:downloading frozen vocab to /Users/huseinzolkepli/Malaya/stem/lstm-bahdanau-quantized/stemmer.yttm\n",
      "DEBUG:urllib3.connectionpool:Starting new HTTPS connection (1): f000.backblazeb2.com:443\n",
      "DEBUG:urllib3.connectionpool:https://f000.backblazeb2.com:443 \"GET /file/malaya-model/bpe/stemmer.yttm HTTP/1.1\" 200 4517\n",
      "1.00MB [00:00, 226MB/s]                    \n",
      "DEBUG:frozen_graph:use_tensorrt: False\n",
      "DEBUG:frozen_graph:tensorrt_precision_mode: FP32\n",
      "DEBUG:frozen_graph:precision_mode: FP32\n",
      "DEBUG:frozen_graph:t5_graph: False\n",
      "DEBUG:frozen_graph:glowtts_graph: False\n",
      "DEBUG:frozen_graph:glowtts_multispeaker_graph: False\n",
      "INFO:frozen_graph:running stem/lstm-bahdanau-quantized using device /device:CPU:0\n"
     ]
    },
    {
     "name": "stdout",
     "output_type": "stream",
     "text": [
      "saya seru\n"
     ]
    }
   ],
   "source": [
    "model = malaya.stem.deep_model(quantized = True)\n",
    "print(model.stem('saya menyerukanlah'))"
   ]
  },
  {
   "cell_type": "code",
   "execution_count": null,
   "metadata": {},
   "outputs": [],
   "source": [
    "string = 'Pada amnya, hanya penjaga gol sahaja yang dibenarkan menyentuh bola dengan tangan di dalam kawasan golnya'"
   ]
  },
  {
   "cell_type": "code",
   "execution_count": null,
   "metadata": {},
   "outputs": [],
   "source": [
    "models = malaya.tatabahasa.available_transformer()\n",
    "for m in models.index:\n",
    "    print(m)\n",
    "    model = malaya.tatabahasa.transformer(model = m)\n",
    "    print(model.greedy_decoder([string]))\n",
    "    malaya.utils.delete_cache(f'kesalahan-tatabahasa/{m}')"
   ]
  },
  {
   "cell_type": "code",
   "execution_count": 4,
   "metadata": {},
   "outputs": [],
   "source": [
    "string1 = 'krajaan patut bagi pencen awal skt kpd warga emas supaya emosi'\n",
    "string2 = 'Husein ska mkn aym dkat kampng Jawa'\n",
    "string3 = 'Melayu malas ni narration dia sama je macam men are trash. True to some, false to some.'\n",
    "string4 = 'Tapi tak pikir ke bahaya perpetuate myths camtu. Nanti kalau ada hiring discrimination despite your good qualifications because of your race tau pulak marah. Your kids will be victims of that too.'\n",
    "string5 = 'DrM cerita Melayu malas semenjak saya kat University (early 1980s) and now as i am edging towards retirement in 4-5 years time after a career of being an Engineer, Project Manager, General Manager'\n",
    "string6 = 'blh bntg dlm kls nlp sy, nnti intch'\n",
    "string7 = '031 313.212-2341'"
   ]
  },
  {
   "cell_type": "code",
   "execution_count": 5,
   "metadata": {},
   "outputs": [],
   "source": [
    "corrector = malaya.spell.probability()\n",
    "normalizer = malaya.normalize.normalizer(corrector)"
   ]
  },
  {
   "cell_type": "code",
   "execution_count": 6,
   "metadata": {},
   "outputs": [
    {
     "name": "stderr",
     "output_type": "stream",
     "text": [
      "DEBUG:root:index: 0, word: boleh, queue: []\n",
      "DEBUG:root:index: 1, word: dtg, queue: ['boleh']\n",
      "DEBUG:root:index: 2, word: 8, queue: ['boleh', 'datang']\n",
      "DEBUG:root:index: 3, word: pagi, queue: ['boleh', 'datang', 'lapan']\n",
      "DEBUG:root:index: 4, word: esok, queue: ['boleh', 'datang', 'lapan', 'pagi']\n",
      "DEBUG:root:index: 5, word: tak, queue: ['boleh', 'datang', 'lapan', 'pagi', 'esok']\n",
      "DEBUG:root:index: 6, word: atau, queue: ['boleh', 'datang', 'lapan', 'pagi', 'esok', 'tidak']\n",
      "DEBUG:root:index: 7, word: minggu, queue: ['boleh', 'datang', 'lapan', 'pagi', 'esok', 'tidak', 'atau']\n",
      "DEBUG:root:index: 8, word: depan, queue: ['boleh', 'datang', 'lapan', 'pagi', 'esok', 'tidak', 'atau', 'minggu']\n",
      "DEBUG:root:index: 9, word: ?, queue: ['boleh', 'datang', 'lapan', 'pagi', 'esok', 'tidak', 'atau', 'minggu', 'depan']\n",
      "DEBUG:root:index: 10, word: 2 oktober 2019, queue: ['boleh', 'datang', 'lapan', 'pagi', 'esok', 'tidak', 'atau', 'minggu', 'depan', '?']\n",
      "DEBUG:root:index: 11, word: 2pm, queue: ['boleh', 'datang', 'lapan', 'pagi', 'esok', 'tidak', 'atau', 'minggu', 'depan', '?', '02/10/2019']\n",
      "DEBUG:root:index: 12, word: ,, queue: ['boleh', 'datang', 'lapan', 'pagi', 'esok', 'tidak', 'atau', 'minggu', 'depan', '?', '02/10/2019', '14:00:00']\n",
      "DEBUG:root:index: 13, word: tlong, queue: ['boleh', 'datang', 'lapan', 'pagi', 'esok', 'tidak', 'atau', 'minggu', 'depan', '?', '02/10/2019', '14:00:00', ',']\n",
      "DEBUG:root:index: 14, word: bayar, queue: ['boleh', 'datang', 'lapan', 'pagi', 'esok', 'tidak', 'atau', 'minggu', 'depan', '?', '02/10/2019', '14:00:00', ',', 'tolong']\n",
      "DEBUG:root:index: 15, word: rm 3.2k, queue: ['boleh', 'datang', 'lapan', 'pagi', 'esok', 'tidak', 'atau', 'minggu', 'depan', '?', '02/10/2019', '14:00:00', ',', 'tolong', 'bayar']\n",
      "DEBUG:root:index: 16, word: sekali, queue: ['boleh', 'datang', 'lapan', 'pagi', 'esok', 'tidak', 'atau', 'minggu', 'depan', '?', '02/10/2019', '14:00:00', ',', 'tolong', 'bayar', 'tiga ribu dua ratus ringgit']\n",
      "DEBUG:root:index: 17, word: tau, queue: ['boleh', 'datang', 'lapan', 'pagi', 'esok', 'tidak', 'atau', 'minggu', 'depan', '?', '02/10/2019', '14:00:00', ',', 'tolong', 'bayar', 'tiga ribu dua ratus ringgit', 'sekali']\n"
     ]
    },
    {
     "data": {
      "text/plain": [
       "{'normalize': 'boleh datang lapan pagi esok tidak atau minggu depan ? 02/10/2019 14:00:00 , tolong bayar tiga ribu dua ratus ringgit sekali tahu',\n",
       " 'date': {'minggu depan': datetime.datetime(2021, 12, 4, 17, 3, 53, 935279),\n",
       "  '8 AM esok': datetime.datetime(2021, 11, 28, 8, 0),\n",
       "  '2 oktober 2019 2pm': datetime.datetime(2019, 10, 2, 14, 0)},\n",
       " 'money': {'rm 3.2k': 'RM3200.0'}}"
      ]
     },
     "execution_count": 6,
     "metadata": {},
     "output_type": "execute_result"
    }
   ],
   "source": [
    "string = 'boleh dtg 8pagi esok tak atau minggu depan? 2 oktober 2019 2pm, tlong bayar rm 3.2k sekali tau'\n",
    "normalizer.normalize(string)"
   ]
  },
  {
   "cell_type": "code",
   "execution_count": 7,
   "metadata": {},
   "outputs": [
    {
     "name": "stderr",
     "output_type": "stream",
     "text": [
      "DEBUG:root:index: 0, word: 031, queue: []\n",
      "DEBUG:root:index: 1, word: 313.212-2341, queue: ['tiga puluh satu']\n"
     ]
    },
    {
     "data": {
      "text/plain": [
       "{'normalize': 'tiga puluh satu tiga satu tiga, dua satu dua dua tiga empat satu',\n",
       " 'date': {},\n",
       " 'money': {}}"
      ]
     },
     "execution_count": 7,
     "metadata": {},
     "output_type": "execute_result"
    }
   ],
   "source": [
    "normalizer.normalize(string7)"
   ]
  },
  {
   "cell_type": "code",
   "execution_count": 9,
   "metadata": {},
   "outputs": [
    {
     "name": "stderr",
     "output_type": "stream",
     "text": [
      "DEBUG:root:index: 0, word: Gambar, queue: []\n",
      "DEBUG:root:index: 1, word: ni, queue: ['Gambar']\n",
      "DEBUG:root:index: 2, word: membantu, queue: ['Gambar', 'ini']\n",
      "DEBUG:root:index: 3, word: ., queue: ['Gambar', 'ini', 'membantu']\n",
      "DEBUG:root:index: 4, word: Gambar, queue: ['Gambar', 'ini', 'membantu', '.']\n",
      "DEBUG:root:index: 5, word: tutorial, queue: ['Gambar', 'ini', 'membantu', '.', 'Gambar']\n",
      "DEBUG:root:index: 6, word: >, queue: ['Gambar', 'ini', 'membantu', '.', 'Gambar', 'tutorial']\n",
      "DEBUG:root:index: 7, word: >, queue: ['Gambar', 'ini', 'membantu', '.', 'Gambar', 'tutorial', '>']\n",
      "DEBUG:root:index: 8, word: ., queue: ['Gambar', 'ini', 'membantu', '.', 'Gambar', 'tutorial', '>', '>']\n",
      "DEBUG:root:index: 9, word: facebook, queue: ['Gambar', 'ini', 'membantu', '.', 'Gambar', 'tutorial', '>', '>', '.']\n",
      "DEBUG:root:index: 10, word: ., queue: ['Gambar', 'ini', 'membantu', '.', 'Gambar', 'tutorial', '>', '>', '.', 'facebook']\n",
      "DEBUG:root:index: 11, word: com, queue: ['Gambar', 'ini', 'membantu', '.', 'Gambar', 'tutorial', '>', '>', '.', 'facebook', '.']\n",
      "DEBUG:root:index: 12, word: /, queue: ['Gambar', 'ini', 'membantu', '.', 'Gambar', 'tutorial', '>', '>', '.', 'facebook', '.', 'com']\n",
      "DEBUG:root:index: 13, word: story, queue: ['Gambar', 'ini', 'membantu', '.', 'Gambar', 'tutorial', '>', '>', '.', 'facebook', '.', 'com', '/']\n",
      "DEBUG:root:index: 14, word: ., queue: ['Gambar', 'ini', 'membantu', '.', 'Gambar', 'tutorial', '>', '>', '.', 'facebook', '.', 'com', '/', 'story']\n",
      "DEBUG:root:index: 15, word: story_fbid, queue: ['Gambar', 'ini', 'membantu', '.', 'Gambar', 'tutorial', '>', '>', '.', 'facebook', '.', 'com', '/', 'story', '.']\n",
      "DEBUG:root:index: 16, word: =, queue: ['Gambar', 'ini', 'membantu', '.', 'Gambar', 'tutorial', '>', '>', '.', 'facebook', '.', 'com', '/', 'story', '.', 'story_fbid']\n",
      "DEBUG:root:index: 17, word: 10206183032200965, queue: ['Gambar', 'ini', 'membantu', '.', 'Gambar', 'tutorial', '>', '>', '.', 'facebook', '.', 'com', '/', 'story', '.', 'story_fbid', '=']\n",
      "DEBUG:root:index: 18, word: &, queue: ['Gambar', 'ini', 'membantu', '.', 'Gambar', 'tutorial', '>', '>', '.', 'facebook', '.', 'com', '/', 'story', '.', 'story_fbid', '=', 'sepuluh quadrillion dua ratus enam trilion seratus lapan puluh tiga bilion tiga puluh dua juta dua ratus ribu sembilan ratus enam puluh lima']\n",
      "DEBUG:root:index: 19, word: id, queue: ['Gambar', 'ini', 'membantu', '.', 'Gambar', 'tutorial', '>', '>', '.', 'facebook', '.', 'com', '/', 'story', '.', 'story_fbid', '=', 'sepuluh quadrillion dua ratus enam trilion seratus lapan puluh tiga bilion tiga puluh dua juta dua ratus ribu sembilan ratus enam puluh lima', '&']\n",
      "DEBUG:root:index: 20, word: =, queue: ['Gambar', 'ini', 'membantu', '.', 'Gambar', 'tutorial', '>', '>', '.', 'facebook', '.', 'com', '/', 'story', '.', 'story_fbid', '=', 'sepuluh quadrillion dua ratus enam trilion seratus lapan puluh tiga bilion tiga puluh dua juta dua ratus ribu sembilan ratus enam puluh lima', '&', 'id']\n",
      "DEBUG:root:index: 21, word: 1418962070, queue: ['Gambar', 'ini', 'membantu', '.', 'Gambar', 'tutorial', '>', '>', '.', 'facebook', '.', 'com', '/', 'story', '.', 'story_fbid', '=', 'sepuluh quadrillion dua ratus enam trilion seratus lapan puluh tiga bilion tiga puluh dua juta dua ratus ribu sembilan ratus enam puluh lima', '&', 'id', '=']\n"
     ]
    },
    {
     "data": {
      "text/plain": [
       "{'normalize': 'Gambar ini membantu . Gambar tutorial > > . facebook . com / story . story_fbid = sepuluh quadrillion dua ratus enam trilion seratus lapan puluh tiga bilion tiga puluh dua juta dua ratus ribu sembilan ratus enam puluh lima & id = 1418962070',\n",
       " 'date': {},\n",
       " 'money': {}}"
      ]
     },
     "execution_count": 9,
     "metadata": {},
     "output_type": "execute_result"
    }
   ],
   "source": [
    "normalizer.normalize('Gambar ni membantu. Gambar tutorial >>. facebook. com/story. story_fbid=10206183032200965&id=1418962070')"
   ]
  },
  {
   "cell_type": "code",
   "execution_count": null,
   "metadata": {},
   "outputs": [],
   "source": []
  }
 ],
 "metadata": {
  "kernelspec": {
   "display_name": "Python 3",
   "language": "python",
   "name": "python3"
  },
  "language_info": {
   "codemirror_mode": {
    "name": "ipython",
    "version": 3
   },
   "file_extension": ".py",
   "mimetype": "text/x-python",
   "name": "python",
   "nbconvert_exporter": "python",
   "pygments_lexer": "ipython3",
   "version": "3.7.7"
  }
 },
 "nbformat": 4,
 "nbformat_minor": 5
}
