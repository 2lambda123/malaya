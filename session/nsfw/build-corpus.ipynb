{
 "cells": [
  {
   "cell_type": "code",
   "execution_count": 1,
   "metadata": {},
   "outputs": [],
   "source": [
    "nsfw_sex = ['seks', 'lucah', 'xhamster', 'fuck', 'porno', 'porn', 'dubur',\n",
    "       'lancap', 'erotik', 'erotis', 'tetek', 'pepek', 'kote', 'goncang zakar',\n",
    "       'threesome', 'buah dada besar', 'seks tegar', 'seksi', 'berpayu dara besar',\n",
    "       'xxx', 'anal', 'blowjob', 'double penetration', 'milf', 'bikini', 'faraj menjilat',\n",
    "       'dewasa model', 'menjilat faraj', 'mejilat faraj', 'faraj jilat', 'menghisap zakar',\n",
    "       'sex', 'fingered', 'rated jepun filem', 'gersang', 'dewasa tiub', 'anak ayam', 'krim pai',\n",
    "       'been waiting untuk anda', 'mandi bersama sama', 'pantyhose', 'telanjang', 'menonton percuma',\n",
    "       'atas faraj', 'pelakon prono', 'batang adalah', 'pussy tanpa']\n",
    "\n",
    "nsfw_gambling = ['slot istimewa', 'slots majic', 'slots club', 'bet365', 'casino', 'petaruh baru',\n",
    "                'petaruh', 'kasino', 'eurogrand', 'poker', 'blackjack', 'rolet', 'craps', 'slot dalam talian', 'slot wang',\n",
    "                'baccarat', 'jackpot']\n",
    "\n",
    "gambling_rejected = ['chevrolet']\n",
    "\n",
    "rejected = ['analisa', 'seksa', 'seksyen', 'ketagihan seks', 'analisis', 'analisis', 'ceramah',\n",
    "           'merosakkan', 'ibu bapa', 'ini padah', 'kuala lumpur labuan batu pahat gemas johor bahru kluang kota tinggi mersing muar',\n",
    "           'select timezone', 'darah', 'burung kasawari', 'lawak', 'menjadi mangsa', 'utusan',\n",
    "           'penyelamat', 'minoriti', 'stigma', 'sungai', 'allah', 'penyebaran', 'menonton bahan',\n",
    "           'rogol ibu', 'adalah dilarang', 'paduka', 'sultan haji', 'analyt', 'kebenaran',\n",
    "           'sentiasa wujud', 'mencuci gigi', 'dna anwar', 'pihak minoriti', 'menyekat pengaruh',\n",
    "           'rasa terkongkong', 'lapisan otot', 'polisi insurans', 'remajakan', \n",
    "            'aboncourt · aboncourt-sur-seille · abreschviller · achain', 'too painful', 'motor',\n",
    "           'analitik', 'penggunaan anda', 'penyakit', 'kata doktor', 'barometer', 'kronometer', \n",
    "            'hukumnya', 'hukum haram', 'penggunaan anda','seks yang jahat', 'adalah tulen', 'editor media', 'tokoh politik', 'isu video', 'pakar tempatan',\n",
    "'pilihan raya','stainless steel', 'ilaaha', 'illallaah', 'subhaanal', 'kesadaran', 'adir jasin ab jalil backer']"
   ]
  },
  {
   "cell_type": "code",
   "execution_count": 3,
   "metadata": {},
   "outputs": [],
   "source": [
    "import json\n",
    "\n",
    "with open('nsfw-corpus.json', 'w') as fopen:\n",
    "    json.dump({'nsfw_sex': nsfw_sex,\n",
    "               'nsfw_gambling': nsfw_gambling,\n",
    "               'gambling_rejected': gambling_rejected,\n",
    "               'rejected': rejected}, fopen)"
   ]
  }
 ],
 "metadata": {
  "kernelspec": {
   "display_name": "Python 3",
   "language": "python",
   "name": "python3"
  },
  "language_info": {
   "codemirror_mode": {
    "name": "ipython",
    "version": 3
   },
   "file_extension": ".py",
   "mimetype": "text/x-python",
   "name": "python",
   "nbconvert_exporter": "python",
   "pygments_lexer": "ipython3",
   "version": "3.7.7"
  }
 },
 "nbformat": 4,
 "nbformat_minor": 4
}
