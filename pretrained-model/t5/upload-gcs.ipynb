{
 "cells": [
  {
   "cell_type": "code",
   "execution_count": 1,
   "metadata": {},
   "outputs": [],
   "source": [
    "import os\n",
    "\n",
    "os.environ['GOOGLE_APPLICATION_CREDENTIALS'] = 'mesolitica-tpu.json'"
   ]
  },
  {
   "cell_type": "code",
   "execution_count": 2,
   "metadata": {},
   "outputs": [],
   "source": [
    "from google.cloud import storage\n",
    "client = storage.Client()\n",
    "bucket = client.bucket('mesolitica-tpu-general')"
   ]
  },
  {
   "cell_type": "code",
   "execution_count": 5,
   "metadata": {},
   "outputs": [
    {
     "data": {
      "text/plain": [
       "['cleaned-news.txt-pair.tsv',\n",
       " 'filtered-dumping-academia.txt.tsv',\n",
       " 'cleaned-news.txt.tsv',\n",
       " 'filtered-dumping-cleaned-common-crawl.txt-pair.tsv',\n",
       " 'filtered-dumping-cleaned-common-crawl.txt.tsv',\n",
       " 'filtered-dumping-wiki.txt.tsv',\n",
       " 'dumping-parliament.txt.tsv',\n",
       " 'filtered-dumping-wiki.txt-pair.tsv',\n",
       " 'mnli.tsv',\n",
       " 'filtered-dumping-academia.txt-pair.tsv',\n",
       " 'dumping-parliament.txt-pair.tsv',\n",
       " 'qa.tsv',\n",
       " 'newstitle.tsv',\n",
       " 'quora.tsv',\n",
       " 'snli.tsv',\n",
       " 'stemming.tsv']"
      ]
     },
     "execution_count": 5,
     "metadata": {},
     "output_type": "execute_result"
    }
   ],
   "source": [
    "from glob import glob\n",
    "\n",
    "files = glob('*.tsv')\n",
    "files"
   ]
  },
  {
   "cell_type": "code",
   "execution_count": 6,
   "metadata": {},
   "outputs": [
    {
     "name": "stdout",
     "output_type": "stream",
     "text": [
      "cleaned-news.txt-pair.tsv\n",
      "filtered-dumping-academia.txt.tsv\n",
      "cleaned-news.txt.tsv\n",
      "filtered-dumping-cleaned-common-crawl.txt-pair.tsv\n",
      "filtered-dumping-cleaned-common-crawl.txt.tsv\n",
      "filtered-dumping-wiki.txt.tsv\n",
      "dumping-parliament.txt.tsv\n",
      "filtered-dumping-wiki.txt-pair.tsv\n",
      "mnli.tsv\n",
      "filtered-dumping-academia.txt-pair.tsv\n",
      "dumping-parliament.txt-pair.tsv\n",
      "qa.tsv\n",
      "newstitle.tsv\n",
      "quora.tsv\n",
      "snli.tsv\n",
      "stemming.tsv\n"
     ]
    }
   ],
   "source": [
    "for file in files:\n",
    "    print(file)\n",
    "    blob = bucket.blob(f't5-data/{file}')\n",
    "    blob.upload_from_filename(file)"
   ]
  }
 ],
 "metadata": {
  "kernelspec": {
   "display_name": "Python 3",
   "language": "python",
   "name": "python3"
  },
  "language_info": {
   "codemirror_mode": {
    "name": "ipython",
    "version": 3
   },
   "file_extension": ".py",
   "mimetype": "text/x-python",
   "name": "python",
   "nbconvert_exporter": "python",
   "pygments_lexer": "ipython3",
   "version": "3.6.8"
  }
 },
 "nbformat": 4,
 "nbformat_minor": 2
}
