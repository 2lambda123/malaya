{
 "cells": [
  {
   "cell_type": "code",
   "execution_count": 1,
   "metadata": {},
   "outputs": [],
   "source": [
    "import os\n",
    "\n",
    "os.environ['GOOGLE_APPLICATION_CREDENTIALS'] = 'prepare/mesolitica-tpu.json'"
   ]
  },
  {
   "cell_type": "code",
   "execution_count": 2,
   "metadata": {},
   "outputs": [],
   "source": [
    "from google.cloud import storage\n",
    "client = storage.Client()\n",
    "bucket = client.bucket('mesolitica-tpu-general')"
   ]
  },
  {
   "cell_type": "code",
   "execution_count": 3,
   "metadata": {},
   "outputs": [],
   "source": [
    "best = '346800'\n",
    "!rm -rf t5-large-summary\n",
    "!mkdir t5-large-summary\n",
    "model = best\n",
    "\n",
    "# gs://mesolitica-tpu-general/t5-large-summary/model.ckpt-356000.data-00001-of-00002"
   ]
  },
  {
   "cell_type": "code",
   "execution_count": 4,
   "metadata": {},
   "outputs": [],
   "source": [
    "blob = bucket.blob(f't5-large-summary/model.ckpt-{model}.data-00000-of-00002')\n",
    "blob.download_to_filename(f't5-large-summary/model.ckpt-{model}.data-00000-of-00002')\n",
    "\n",
    "blob = bucket.blob(f't5-large-summary/model.ckpt-{model}.data-00001-of-00002')\n",
    "blob.download_to_filename(f't5-large-summary/model.ckpt-{model}.data-00001-of-00002')\n",
    "\n",
    "blob = bucket.blob(f't5-large-summary/model.ckpt-{model}.index')\n",
    "blob.download_to_filename(f't5-large-summary/model.ckpt-{model}.index')\n",
    "\n",
    "blob = bucket.blob(f't5-large-summary/model.ckpt-{model}.meta')\n",
    "blob.download_to_filename(f't5-large-summary/model.ckpt-{model}.meta')\n",
    "\n",
    "blob = bucket.blob('t5-large-summary/checkpoint')\n",
    "blob.download_to_filename('t5-large-summary/checkpoint')\n",
    "\n",
    "blob = bucket.blob('t5-large-summary/operative_config.gin')\n",
    "blob.download_to_filename('t5-large-summary/operative_config.gin')"
   ]
  },
  {
   "cell_type": "code",
   "execution_count": 5,
   "metadata": {},
   "outputs": [],
   "source": [
    "with open('t5-large-summary/checkpoint', 'w') as fopen:\n",
    "    fopen.write(f'model_checkpoint_path: \"model.ckpt-{model}\"')"
   ]
  },
  {
   "cell_type": "code",
   "execution_count": 6,
   "metadata": {},
   "outputs": [],
   "source": [
    "import os\n",
    "os.environ['CUDA_VISIBLE_DEVICES'] = '3'"
   ]
  },
  {
   "cell_type": "code",
   "execution_count": 7,
   "metadata": {},
   "outputs": [],
   "source": [
    "import tensorflow as tf\n",
    "import tensorflow_datasets as tfds\n",
    "import t5"
   ]
  },
  {
   "cell_type": "code",
   "execution_count": 8,
   "metadata": {},
   "outputs": [],
   "source": [
    "model = t5.models.MtfModel(\n",
    "    model_dir='t5-large-summary',\n",
    "    tpu=None,\n",
    "    tpu_topology=None,\n",
    "    model_parallelism=2,\n",
    "    batch_size=5,\n",
    "    sequence_length={\"inputs\": 1024, \"targets\": 1024},\n",
    "    learning_rate_schedule=0.003,\n",
    "    save_checkpoints_steps=5000,\n",
    "    keep_checkpoint_max=3,\n",
    "    iterations_per_loop=100,\n",
    "    mesh_shape=\"model:1,batch:1\", \n",
    "    mesh_devices=[\"gpu:0\"]\n",
    ")"
   ]
  },
  {
   "cell_type": "code",
   "execution_count": 9,
   "metadata": {},
   "outputs": [],
   "source": [
    "!rm -rf output/*"
   ]
  },
  {
   "cell_type": "code",
   "execution_count": 10,
   "metadata": {},
   "outputs": [
    {
     "name": "stdout",
     "output_type": "stream",
     "text": [
      "INFO:tensorflow:Using config: {'_model_dir': 't5-large-summary', '_tf_random_seed': None, '_save_summary_steps': 100, '_save_checkpoints_steps': None, '_save_checkpoints_secs': None, '_session_config': allow_soft_placement: true\n",
      "graph_options {\n",
      "  rewrite_options {\n",
      "    meta_optimizer_iterations: ONE\n",
      "  }\n",
      "}\n",
      ", '_keep_checkpoint_max': 5, '_keep_checkpoint_every_n_hours': 10000, '_log_step_count_steps': None, '_train_distribute': None, '_device_fn': None, '_protocol': None, '_eval_distribute': None, '_experimental_distribute': None, '_experimental_max_worker_delay_secs': None, '_session_creation_timeout_secs': 7200, '_service': None, '_cluster_spec': <tensorflow.python.training.server_lib.ClusterSpec object at 0x7f3a536d5198>, '_task_type': 'worker', '_task_id': 0, '_global_id_in_cluster': 0, '_master': '', '_evaluation_master': '', '_is_chief': True, '_num_ps_replicas': 0, '_num_worker_replicas': 1, '_tpu_config': TPUConfig(iterations_per_loop=100, num_shards=None, num_cores_per_replica=1, per_host_input_for_training=4, tpu_job_name=None, initial_infeed_sleep_secs=None, input_partition_dims=None, eval_training_input_configuration=2, experimental_host_call_every_n_steps=1), '_cluster': None}\n",
      "INFO:tensorflow:_TPUContext: eval_on_tpu True\n",
      "WARNING:tensorflow:eval_on_tpu ignored because use_tpu is False.\n",
      "WARNING:tensorflow:From /home/husein/.local/lib/python3.6/site-packages/tensorflow_core/python/ops/resource_variable_ops.py:1630: calling BaseResourceVariable.__init__ (from tensorflow.python.ops.resource_variable_ops) with constraint is deprecated and will be removed in a future version.\n",
      "Instructions for updating:\n",
      "If using Keras pass *_constraint arguments to layers.\n",
      "INFO:tensorflow:Calling model_fn.\n",
      "INFO:tensorflow:Running infer on CPU\n",
      "INFO:tensorflow:feature inputs : Tensor(\"Reshape:0\", shape=(5, 1024), dtype=int32)\n",
      "WARNING:tensorflow:From /home/husein/.local/lib/python3.6/site-packages/mesh_tensorflow/transformer/utils.py:427: Print (from tensorflow.python.ops.logging_ops) is deprecated and will be removed after 2018-08-20.\n",
      "Instructions for updating:\n",
      "Use tf.print instead of tf.Print. Note that tf.print returns a no-output operator that directly prints the output. Outside of defuns or eager mode, this operator will not be executed unless it is directly specified in session.run or used as a control dependency for other operators. This is only a concern in graph mode. Below is an example of how to ensure tf.print executes in graph mode:\n",
      "\n",
      "WARNING:tensorflow:Using default tf glorot_uniform_initializer for variable encoder/block_000/layer_000/SelfAttention/relative_attention_bias  The initialzer will guess the input and output dimensions  based on dimension order.\n",
      "WARNING:tensorflow:Using default tf glorot_uniform_initializer for variable decoder/block_000/layer_000/SelfAttention/relative_attention_bias  The initialzer will guess the input and output dimensions  based on dimension order.\n",
      "WARNING:tensorflow:Using default tf glorot_uniform_initializer for variable decoder/block_000/layer_000/SelfAttention/relative_attention_bias  The initialzer will guess the input and output dimensions  based on dimension order.\n",
      "INFO:tensorflow:Variable decoder/block_000/layer_000/SelfAttention/k                  size 1048576      slice_size 1048576      Shape[d_model=1024, heads=1024]                             \n",
      "INFO:tensorflow:Variable decoder/block_000/layer_000/SelfAttention/o                  size 1048576      slice_size 1048576      Shape[heads=1024, d_model=1024]                             \n",
      "INFO:tensorflow:Variable decoder/block_000/layer_000/SelfAttention/q                  size 1048576      slice_size 1048576      Shape[d_model=1024, heads=1024]                             \n",
      "INFO:tensorflow:Variable decoder/block_000/layer_000/SelfAttention/relative_attention_bias size 512          slice_size 512          Shape[heads=16, buckets=32]                                 \n",
      "INFO:tensorflow:Variable decoder/block_000/layer_000/SelfAttention/v                  size 1048576      slice_size 1048576      Shape[d_model=1024, heads=1024]                             \n",
      "INFO:tensorflow:Variable decoder/block_000/layer_000/layer_norm/scale                 size 1024         slice_size 1024         Shape[d_model=1024]                                         \n",
      "INFO:tensorflow:Variable decoder/block_000/layer_001/EncDecAttention/k                size 1048576      slice_size 1048576      Shape[d_model=1024, heads=1024]                             \n",
      "INFO:tensorflow:Variable decoder/block_000/layer_001/EncDecAttention/o                size 1048576      slice_size 1048576      Shape[heads=1024, d_model=1024]                             \n",
      "INFO:tensorflow:Variable decoder/block_000/layer_001/EncDecAttention/q                size 1048576      slice_size 1048576      Shape[d_model=1024, heads=1024]                             \n",
      "INFO:tensorflow:Variable decoder/block_000/layer_001/EncDecAttention/v                size 1048576      slice_size 1048576      Shape[d_model=1024, heads=1024]                             \n",
      "INFO:tensorflow:Variable decoder/block_000/layer_001/layer_norm/scale                 size 1024         slice_size 1024         Shape[d_model=1024]                                         \n",
      "INFO:tensorflow:Variable decoder/block_000/layer_002/DenseReluDense/wi/kernel         size 4194304      slice_size 4194304      Shape[d_model=1024, d_ff=4096]                              \n",
      "INFO:tensorflow:Variable decoder/block_000/layer_002/DenseReluDense/wo/kernel         size 4194304      slice_size 4194304      Shape[d_ff=4096, d_model=1024]                              \n",
      "INFO:tensorflow:Variable decoder/block_000/layer_002/layer_norm/scale                 size 1024         slice_size 1024         Shape[d_model=1024]                                         \n",
      "INFO:tensorflow:Variable decoder/block_001/layer_000/SelfAttention/k                  size 1048576      slice_size 1048576      Shape[d_model=1024, heads=1024]                             \n",
      "INFO:tensorflow:Variable decoder/block_001/layer_000/SelfAttention/o                  size 1048576      slice_size 1048576      Shape[heads=1024, d_model=1024]                             \n",
      "INFO:tensorflow:Variable decoder/block_001/layer_000/SelfAttention/q                  size 1048576      slice_size 1048576      Shape[d_model=1024, heads=1024]                             \n",
      "INFO:tensorflow:Variable decoder/block_001/layer_000/SelfAttention/v                  size 1048576      slice_size 1048576      Shape[d_model=1024, heads=1024]                             \n",
      "INFO:tensorflow:Variable decoder/block_001/layer_000/layer_norm/scale                 size 1024         slice_size 1024         Shape[d_model=1024]                                         \n",
      "INFO:tensorflow:Variable decoder/block_001/layer_001/EncDecAttention/k                size 1048576      slice_size 1048576      Shape[d_model=1024, heads=1024]                             \n",
      "INFO:tensorflow:Variable decoder/block_001/layer_001/EncDecAttention/o                size 1048576      slice_size 1048576      Shape[heads=1024, d_model=1024]                             \n",
      "INFO:tensorflow:Variable decoder/block_001/layer_001/EncDecAttention/q                size 1048576      slice_size 1048576      Shape[d_model=1024, heads=1024]                             \n",
      "INFO:tensorflow:Variable decoder/block_001/layer_001/EncDecAttention/v                size 1048576      slice_size 1048576      Shape[d_model=1024, heads=1024]                             \n",
      "INFO:tensorflow:Variable decoder/block_001/layer_001/layer_norm/scale                 size 1024         slice_size 1024         Shape[d_model=1024]                                         \n",
      "INFO:tensorflow:Variable decoder/block_001/layer_002/DenseReluDense/wi/kernel         size 4194304      slice_size 4194304      Shape[d_model=1024, d_ff=4096]                              \n",
      "INFO:tensorflow:Variable decoder/block_001/layer_002/DenseReluDense/wo/kernel         size 4194304      slice_size 4194304      Shape[d_ff=4096, d_model=1024]                              \n",
      "INFO:tensorflow:Variable decoder/block_001/layer_002/layer_norm/scale                 size 1024         slice_size 1024         Shape[d_model=1024]                                         \n"
     ]
    },
    {
     "name": "stdout",
     "output_type": "stream",
     "text": [
      "INFO:tensorflow:Variable decoder/block_002/layer_000/SelfAttention/k                  size 1048576      slice_size 1048576      Shape[d_model=1024, heads=1024]                             \n",
      "INFO:tensorflow:Variable decoder/block_002/layer_000/SelfAttention/o                  size 1048576      slice_size 1048576      Shape[heads=1024, d_model=1024]                             \n",
      "INFO:tensorflow:Variable decoder/block_002/layer_000/SelfAttention/q                  size 1048576      slice_size 1048576      Shape[d_model=1024, heads=1024]                             \n",
      "INFO:tensorflow:Variable decoder/block_002/layer_000/SelfAttention/v                  size 1048576      slice_size 1048576      Shape[d_model=1024, heads=1024]                             \n",
      "INFO:tensorflow:Variable decoder/block_002/layer_000/layer_norm/scale                 size 1024         slice_size 1024         Shape[d_model=1024]                                         \n",
      "INFO:tensorflow:Variable decoder/block_002/layer_001/EncDecAttention/k                size 1048576      slice_size 1048576      Shape[d_model=1024, heads=1024]                             \n",
      "INFO:tensorflow:Variable decoder/block_002/layer_001/EncDecAttention/o                size 1048576      slice_size 1048576      Shape[heads=1024, d_model=1024]                             \n",
      "INFO:tensorflow:Variable decoder/block_002/layer_001/EncDecAttention/q                size 1048576      slice_size 1048576      Shape[d_model=1024, heads=1024]                             \n",
      "INFO:tensorflow:Variable decoder/block_002/layer_001/EncDecAttention/v                size 1048576      slice_size 1048576      Shape[d_model=1024, heads=1024]                             \n",
      "INFO:tensorflow:Variable decoder/block_002/layer_001/layer_norm/scale                 size 1024         slice_size 1024         Shape[d_model=1024]                                         \n",
      "INFO:tensorflow:Variable decoder/block_002/layer_002/DenseReluDense/wi/kernel         size 4194304      slice_size 4194304      Shape[d_model=1024, d_ff=4096]                              \n",
      "INFO:tensorflow:Variable decoder/block_002/layer_002/DenseReluDense/wo/kernel         size 4194304      slice_size 4194304      Shape[d_ff=4096, d_model=1024]                              \n",
      "INFO:tensorflow:Variable decoder/block_002/layer_002/layer_norm/scale                 size 1024         slice_size 1024         Shape[d_model=1024]                                         \n",
      "INFO:tensorflow:Variable decoder/block_003/layer_000/SelfAttention/k                  size 1048576      slice_size 1048576      Shape[d_model=1024, heads=1024]                             \n",
      "INFO:tensorflow:Variable decoder/block_003/layer_000/SelfAttention/o                  size 1048576      slice_size 1048576      Shape[heads=1024, d_model=1024]                             \n",
      "INFO:tensorflow:Variable decoder/block_003/layer_000/SelfAttention/q                  size 1048576      slice_size 1048576      Shape[d_model=1024, heads=1024]                             \n",
      "INFO:tensorflow:Variable decoder/block_003/layer_000/SelfAttention/v                  size 1048576      slice_size 1048576      Shape[d_model=1024, heads=1024]                             \n",
      "INFO:tensorflow:Variable decoder/block_003/layer_000/layer_norm/scale                 size 1024         slice_size 1024         Shape[d_model=1024]                                         \n",
      "INFO:tensorflow:Variable decoder/block_003/layer_001/EncDecAttention/k                size 1048576      slice_size 1048576      Shape[d_model=1024, heads=1024]                             \n",
      "INFO:tensorflow:Variable decoder/block_003/layer_001/EncDecAttention/o                size 1048576      slice_size 1048576      Shape[heads=1024, d_model=1024]                             \n",
      "INFO:tensorflow:Variable decoder/block_003/layer_001/EncDecAttention/q                size 1048576      slice_size 1048576      Shape[d_model=1024, heads=1024]                             \n",
      "INFO:tensorflow:Variable decoder/block_003/layer_001/EncDecAttention/v                size 1048576      slice_size 1048576      Shape[d_model=1024, heads=1024]                             \n",
      "INFO:tensorflow:Variable decoder/block_003/layer_001/layer_norm/scale                 size 1024         slice_size 1024         Shape[d_model=1024]                                         \n",
      "INFO:tensorflow:Variable decoder/block_003/layer_002/DenseReluDense/wi/kernel         size 4194304      slice_size 4194304      Shape[d_model=1024, d_ff=4096]                              \n",
      "INFO:tensorflow:Variable decoder/block_003/layer_002/DenseReluDense/wo/kernel         size 4194304      slice_size 4194304      Shape[d_ff=4096, d_model=1024]                              \n",
      "INFO:tensorflow:Variable decoder/block_003/layer_002/layer_norm/scale                 size 1024         slice_size 1024         Shape[d_model=1024]                                         \n",
      "INFO:tensorflow:Variable decoder/block_004/layer_000/SelfAttention/k                  size 1048576      slice_size 1048576      Shape[d_model=1024, heads=1024]                             \n",
      "INFO:tensorflow:Variable decoder/block_004/layer_000/SelfAttention/o                  size 1048576      slice_size 1048576      Shape[heads=1024, d_model=1024]                             \n",
      "INFO:tensorflow:Variable decoder/block_004/layer_000/SelfAttention/q                  size 1048576      slice_size 1048576      Shape[d_model=1024, heads=1024]                             \n",
      "INFO:tensorflow:Variable decoder/block_004/layer_000/SelfAttention/v                  size 1048576      slice_size 1048576      Shape[d_model=1024, heads=1024]                             \n",
      "INFO:tensorflow:Variable decoder/block_004/layer_000/layer_norm/scale                 size 1024         slice_size 1024         Shape[d_model=1024]                                         \n",
      "INFO:tensorflow:Variable decoder/block_004/layer_001/EncDecAttention/k                size 1048576      slice_size 1048576      Shape[d_model=1024, heads=1024]                             \n",
      "INFO:tensorflow:Variable decoder/block_004/layer_001/EncDecAttention/o                size 1048576      slice_size 1048576      Shape[heads=1024, d_model=1024]                             \n",
      "INFO:tensorflow:Variable decoder/block_004/layer_001/EncDecAttention/q                size 1048576      slice_size 1048576      Shape[d_model=1024, heads=1024]                             \n",
      "INFO:tensorflow:Variable decoder/block_004/layer_001/EncDecAttention/v                size 1048576      slice_size 1048576      Shape[d_model=1024, heads=1024]                             \n",
      "INFO:tensorflow:Variable decoder/block_004/layer_001/layer_norm/scale                 size 1024         slice_size 1024         Shape[d_model=1024]                                         \n",
      "INFO:tensorflow:Variable decoder/block_004/layer_002/DenseReluDense/wi/kernel         size 4194304      slice_size 4194304      Shape[d_model=1024, d_ff=4096]                              \n",
      "INFO:tensorflow:Variable decoder/block_004/layer_002/DenseReluDense/wo/kernel         size 4194304      slice_size 4194304      Shape[d_ff=4096, d_model=1024]                              \n",
      "INFO:tensorflow:Variable decoder/block_004/layer_002/layer_norm/scale                 size 1024         slice_size 1024         Shape[d_model=1024]                                         \n",
      "INFO:tensorflow:Variable decoder/block_005/layer_000/SelfAttention/k                  size 1048576      slice_size 1048576      Shape[d_model=1024, heads=1024]                             \n",
      "INFO:tensorflow:Variable decoder/block_005/layer_000/SelfAttention/o                  size 1048576      slice_size 1048576      Shape[heads=1024, d_model=1024]                             \n",
      "INFO:tensorflow:Variable decoder/block_005/layer_000/SelfAttention/q                  size 1048576      slice_size 1048576      Shape[d_model=1024, heads=1024]                             \n",
      "INFO:tensorflow:Variable decoder/block_005/layer_000/SelfAttention/v                  size 1048576      slice_size 1048576      Shape[d_model=1024, heads=1024]                             \n",
      "INFO:tensorflow:Variable decoder/block_005/layer_000/layer_norm/scale                 size 1024         slice_size 1024         Shape[d_model=1024]                                         \n"
     ]
    },
    {
     "name": "stdout",
     "output_type": "stream",
     "text": [
      "INFO:tensorflow:Variable decoder/block_005/layer_001/EncDecAttention/k                size 1048576      slice_size 1048576      Shape[d_model=1024, heads=1024]                             \n",
      "INFO:tensorflow:Variable decoder/block_005/layer_001/EncDecAttention/o                size 1048576      slice_size 1048576      Shape[heads=1024, d_model=1024]                             \n",
      "INFO:tensorflow:Variable decoder/block_005/layer_001/EncDecAttention/q                size 1048576      slice_size 1048576      Shape[d_model=1024, heads=1024]                             \n",
      "INFO:tensorflow:Variable decoder/block_005/layer_001/EncDecAttention/v                size 1048576      slice_size 1048576      Shape[d_model=1024, heads=1024]                             \n",
      "INFO:tensorflow:Variable decoder/block_005/layer_001/layer_norm/scale                 size 1024         slice_size 1024         Shape[d_model=1024]                                         \n",
      "INFO:tensorflow:Variable decoder/block_005/layer_002/DenseReluDense/wi/kernel         size 4194304      slice_size 4194304      Shape[d_model=1024, d_ff=4096]                              \n",
      "INFO:tensorflow:Variable decoder/block_005/layer_002/DenseReluDense/wo/kernel         size 4194304      slice_size 4194304      Shape[d_ff=4096, d_model=1024]                              \n",
      "INFO:tensorflow:Variable decoder/block_005/layer_002/layer_norm/scale                 size 1024         slice_size 1024         Shape[d_model=1024]                                         \n",
      "INFO:tensorflow:Variable decoder/block_006/layer_000/SelfAttention/k                  size 1048576      slice_size 1048576      Shape[d_model=1024, heads=1024]                             \n",
      "INFO:tensorflow:Variable decoder/block_006/layer_000/SelfAttention/o                  size 1048576      slice_size 1048576      Shape[heads=1024, d_model=1024]                             \n",
      "INFO:tensorflow:Variable decoder/block_006/layer_000/SelfAttention/q                  size 1048576      slice_size 1048576      Shape[d_model=1024, heads=1024]                             \n",
      "INFO:tensorflow:Variable decoder/block_006/layer_000/SelfAttention/v                  size 1048576      slice_size 1048576      Shape[d_model=1024, heads=1024]                             \n",
      "INFO:tensorflow:Variable decoder/block_006/layer_000/layer_norm/scale                 size 1024         slice_size 1024         Shape[d_model=1024]                                         \n",
      "INFO:tensorflow:Variable decoder/block_006/layer_001/EncDecAttention/k                size 1048576      slice_size 1048576      Shape[d_model=1024, heads=1024]                             \n",
      "INFO:tensorflow:Variable decoder/block_006/layer_001/EncDecAttention/o                size 1048576      slice_size 1048576      Shape[heads=1024, d_model=1024]                             \n",
      "INFO:tensorflow:Variable decoder/block_006/layer_001/EncDecAttention/q                size 1048576      slice_size 1048576      Shape[d_model=1024, heads=1024]                             \n",
      "INFO:tensorflow:Variable decoder/block_006/layer_001/EncDecAttention/v                size 1048576      slice_size 1048576      Shape[d_model=1024, heads=1024]                             \n",
      "INFO:tensorflow:Variable decoder/block_006/layer_001/layer_norm/scale                 size 1024         slice_size 1024         Shape[d_model=1024]                                         \n",
      "INFO:tensorflow:Variable decoder/block_006/layer_002/DenseReluDense/wi/kernel         size 4194304      slice_size 4194304      Shape[d_model=1024, d_ff=4096]                              \n",
      "INFO:tensorflow:Variable decoder/block_006/layer_002/DenseReluDense/wo/kernel         size 4194304      slice_size 4194304      Shape[d_ff=4096, d_model=1024]                              \n",
      "INFO:tensorflow:Variable decoder/block_006/layer_002/layer_norm/scale                 size 1024         slice_size 1024         Shape[d_model=1024]                                         \n",
      "INFO:tensorflow:Variable decoder/block_007/layer_000/SelfAttention/k                  size 1048576      slice_size 1048576      Shape[d_model=1024, heads=1024]                             \n",
      "INFO:tensorflow:Variable decoder/block_007/layer_000/SelfAttention/o                  size 1048576      slice_size 1048576      Shape[heads=1024, d_model=1024]                             \n",
      "INFO:tensorflow:Variable decoder/block_007/layer_000/SelfAttention/q                  size 1048576      slice_size 1048576      Shape[d_model=1024, heads=1024]                             \n",
      "INFO:tensorflow:Variable decoder/block_007/layer_000/SelfAttention/v                  size 1048576      slice_size 1048576      Shape[d_model=1024, heads=1024]                             \n",
      "INFO:tensorflow:Variable decoder/block_007/layer_000/layer_norm/scale                 size 1024         slice_size 1024         Shape[d_model=1024]                                         \n",
      "INFO:tensorflow:Variable decoder/block_007/layer_001/EncDecAttention/k                size 1048576      slice_size 1048576      Shape[d_model=1024, heads=1024]                             \n",
      "INFO:tensorflow:Variable decoder/block_007/layer_001/EncDecAttention/o                size 1048576      slice_size 1048576      Shape[heads=1024, d_model=1024]                             \n",
      "INFO:tensorflow:Variable decoder/block_007/layer_001/EncDecAttention/q                size 1048576      slice_size 1048576      Shape[d_model=1024, heads=1024]                             \n",
      "INFO:tensorflow:Variable decoder/block_007/layer_001/EncDecAttention/v                size 1048576      slice_size 1048576      Shape[d_model=1024, heads=1024]                             \n",
      "INFO:tensorflow:Variable decoder/block_007/layer_001/layer_norm/scale                 size 1024         slice_size 1024         Shape[d_model=1024]                                         \n",
      "INFO:tensorflow:Variable decoder/block_007/layer_002/DenseReluDense/wi/kernel         size 4194304      slice_size 4194304      Shape[d_model=1024, d_ff=4096]                              \n",
      "INFO:tensorflow:Variable decoder/block_007/layer_002/DenseReluDense/wo/kernel         size 4194304      slice_size 4194304      Shape[d_ff=4096, d_model=1024]                              \n",
      "INFO:tensorflow:Variable decoder/block_007/layer_002/layer_norm/scale                 size 1024         slice_size 1024         Shape[d_model=1024]                                         \n",
      "INFO:tensorflow:Variable decoder/block_008/layer_000/SelfAttention/k                  size 1048576      slice_size 1048576      Shape[d_model=1024, heads=1024]                             \n",
      "INFO:tensorflow:Variable decoder/block_008/layer_000/SelfAttention/o                  size 1048576      slice_size 1048576      Shape[heads=1024, d_model=1024]                             \n",
      "INFO:tensorflow:Variable decoder/block_008/layer_000/SelfAttention/q                  size 1048576      slice_size 1048576      Shape[d_model=1024, heads=1024]                             \n",
      "INFO:tensorflow:Variable decoder/block_008/layer_000/SelfAttention/v                  size 1048576      slice_size 1048576      Shape[d_model=1024, heads=1024]                             \n",
      "INFO:tensorflow:Variable decoder/block_008/layer_000/layer_norm/scale                 size 1024         slice_size 1024         Shape[d_model=1024]                                         \n",
      "INFO:tensorflow:Variable decoder/block_008/layer_001/EncDecAttention/k                size 1048576      slice_size 1048576      Shape[d_model=1024, heads=1024]                             \n",
      "INFO:tensorflow:Variable decoder/block_008/layer_001/EncDecAttention/o                size 1048576      slice_size 1048576      Shape[heads=1024, d_model=1024]                             \n",
      "INFO:tensorflow:Variable decoder/block_008/layer_001/EncDecAttention/q                size 1048576      slice_size 1048576      Shape[d_model=1024, heads=1024]                             \n",
      "INFO:tensorflow:Variable decoder/block_008/layer_001/EncDecAttention/v                size 1048576      slice_size 1048576      Shape[d_model=1024, heads=1024]                             \n",
      "INFO:tensorflow:Variable decoder/block_008/layer_001/layer_norm/scale                 size 1024         slice_size 1024         Shape[d_model=1024]                                         \n"
     ]
    },
    {
     "name": "stdout",
     "output_type": "stream",
     "text": [
      "INFO:tensorflow:Variable decoder/block_008/layer_002/DenseReluDense/wi/kernel         size 4194304      slice_size 4194304      Shape[d_model=1024, d_ff=4096]                              \n",
      "INFO:tensorflow:Variable decoder/block_008/layer_002/DenseReluDense/wo/kernel         size 4194304      slice_size 4194304      Shape[d_ff=4096, d_model=1024]                              \n",
      "INFO:tensorflow:Variable decoder/block_008/layer_002/layer_norm/scale                 size 1024         slice_size 1024         Shape[d_model=1024]                                         \n",
      "INFO:tensorflow:Variable decoder/block_009/layer_000/SelfAttention/k                  size 1048576      slice_size 1048576      Shape[d_model=1024, heads=1024]                             \n",
      "INFO:tensorflow:Variable decoder/block_009/layer_000/SelfAttention/o                  size 1048576      slice_size 1048576      Shape[heads=1024, d_model=1024]                             \n",
      "INFO:tensorflow:Variable decoder/block_009/layer_000/SelfAttention/q                  size 1048576      slice_size 1048576      Shape[d_model=1024, heads=1024]                             \n",
      "INFO:tensorflow:Variable decoder/block_009/layer_000/SelfAttention/v                  size 1048576      slice_size 1048576      Shape[d_model=1024, heads=1024]                             \n",
      "INFO:tensorflow:Variable decoder/block_009/layer_000/layer_norm/scale                 size 1024         slice_size 1024         Shape[d_model=1024]                                         \n",
      "INFO:tensorflow:Variable decoder/block_009/layer_001/EncDecAttention/k                size 1048576      slice_size 1048576      Shape[d_model=1024, heads=1024]                             \n",
      "INFO:tensorflow:Variable decoder/block_009/layer_001/EncDecAttention/o                size 1048576      slice_size 1048576      Shape[heads=1024, d_model=1024]                             \n",
      "INFO:tensorflow:Variable decoder/block_009/layer_001/EncDecAttention/q                size 1048576      slice_size 1048576      Shape[d_model=1024, heads=1024]                             \n",
      "INFO:tensorflow:Variable decoder/block_009/layer_001/EncDecAttention/v                size 1048576      slice_size 1048576      Shape[d_model=1024, heads=1024]                             \n",
      "INFO:tensorflow:Variable decoder/block_009/layer_001/layer_norm/scale                 size 1024         slice_size 1024         Shape[d_model=1024]                                         \n",
      "INFO:tensorflow:Variable decoder/block_009/layer_002/DenseReluDense/wi/kernel         size 4194304      slice_size 4194304      Shape[d_model=1024, d_ff=4096]                              \n",
      "INFO:tensorflow:Variable decoder/block_009/layer_002/DenseReluDense/wo/kernel         size 4194304      slice_size 4194304      Shape[d_ff=4096, d_model=1024]                              \n",
      "INFO:tensorflow:Variable decoder/block_009/layer_002/layer_norm/scale                 size 1024         slice_size 1024         Shape[d_model=1024]                                         \n",
      "INFO:tensorflow:Variable decoder/block_010/layer_000/SelfAttention/k                  size 1048576      slice_size 1048576      Shape[d_model=1024, heads=1024]                             \n",
      "INFO:tensorflow:Variable decoder/block_010/layer_000/SelfAttention/o                  size 1048576      slice_size 1048576      Shape[heads=1024, d_model=1024]                             \n",
      "INFO:tensorflow:Variable decoder/block_010/layer_000/SelfAttention/q                  size 1048576      slice_size 1048576      Shape[d_model=1024, heads=1024]                             \n",
      "INFO:tensorflow:Variable decoder/block_010/layer_000/SelfAttention/v                  size 1048576      slice_size 1048576      Shape[d_model=1024, heads=1024]                             \n",
      "INFO:tensorflow:Variable decoder/block_010/layer_000/layer_norm/scale                 size 1024         slice_size 1024         Shape[d_model=1024]                                         \n",
      "INFO:tensorflow:Variable decoder/block_010/layer_001/EncDecAttention/k                size 1048576      slice_size 1048576      Shape[d_model=1024, heads=1024]                             \n",
      "INFO:tensorflow:Variable decoder/block_010/layer_001/EncDecAttention/o                size 1048576      slice_size 1048576      Shape[heads=1024, d_model=1024]                             \n",
      "INFO:tensorflow:Variable decoder/block_010/layer_001/EncDecAttention/q                size 1048576      slice_size 1048576      Shape[d_model=1024, heads=1024]                             \n",
      "INFO:tensorflow:Variable decoder/block_010/layer_001/EncDecAttention/v                size 1048576      slice_size 1048576      Shape[d_model=1024, heads=1024]                             \n",
      "INFO:tensorflow:Variable decoder/block_010/layer_001/layer_norm/scale                 size 1024         slice_size 1024         Shape[d_model=1024]                                         \n",
      "INFO:tensorflow:Variable decoder/block_010/layer_002/DenseReluDense/wi/kernel         size 4194304      slice_size 4194304      Shape[d_model=1024, d_ff=4096]                              \n",
      "INFO:tensorflow:Variable decoder/block_010/layer_002/DenseReluDense/wo/kernel         size 4194304      slice_size 4194304      Shape[d_ff=4096, d_model=1024]                              \n",
      "INFO:tensorflow:Variable decoder/block_010/layer_002/layer_norm/scale                 size 1024         slice_size 1024         Shape[d_model=1024]                                         \n",
      "INFO:tensorflow:Variable decoder/block_011/layer_000/SelfAttention/k                  size 1048576      slice_size 1048576      Shape[d_model=1024, heads=1024]                             \n",
      "INFO:tensorflow:Variable decoder/block_011/layer_000/SelfAttention/o                  size 1048576      slice_size 1048576      Shape[heads=1024, d_model=1024]                             \n",
      "INFO:tensorflow:Variable decoder/block_011/layer_000/SelfAttention/q                  size 1048576      slice_size 1048576      Shape[d_model=1024, heads=1024]                             \n",
      "INFO:tensorflow:Variable decoder/block_011/layer_000/SelfAttention/v                  size 1048576      slice_size 1048576      Shape[d_model=1024, heads=1024]                             \n",
      "INFO:tensorflow:Variable decoder/block_011/layer_000/layer_norm/scale                 size 1024         slice_size 1024         Shape[d_model=1024]                                         \n",
      "INFO:tensorflow:Variable decoder/block_011/layer_001/EncDecAttention/k                size 1048576      slice_size 1048576      Shape[d_model=1024, heads=1024]                             \n",
      "INFO:tensorflow:Variable decoder/block_011/layer_001/EncDecAttention/o                size 1048576      slice_size 1048576      Shape[heads=1024, d_model=1024]                             \n",
      "INFO:tensorflow:Variable decoder/block_011/layer_001/EncDecAttention/q                size 1048576      slice_size 1048576      Shape[d_model=1024, heads=1024]                             \n",
      "INFO:tensorflow:Variable decoder/block_011/layer_001/EncDecAttention/v                size 1048576      slice_size 1048576      Shape[d_model=1024, heads=1024]                             \n",
      "INFO:tensorflow:Variable decoder/block_011/layer_001/layer_norm/scale                 size 1024         slice_size 1024         Shape[d_model=1024]                                         \n",
      "INFO:tensorflow:Variable decoder/block_011/layer_002/DenseReluDense/wi/kernel         size 4194304      slice_size 4194304      Shape[d_model=1024, d_ff=4096]                              \n",
      "INFO:tensorflow:Variable decoder/block_011/layer_002/DenseReluDense/wo/kernel         size 4194304      slice_size 4194304      Shape[d_ff=4096, d_model=1024]                              \n",
      "INFO:tensorflow:Variable decoder/block_011/layer_002/layer_norm/scale                 size 1024         slice_size 1024         Shape[d_model=1024]                                         \n",
      "INFO:tensorflow:Variable decoder/block_012/layer_000/SelfAttention/k                  size 1048576      slice_size 1048576      Shape[d_model=1024, heads=1024]                             \n",
      "INFO:tensorflow:Variable decoder/block_012/layer_000/SelfAttention/o                  size 1048576      slice_size 1048576      Shape[heads=1024, d_model=1024]                             \n"
     ]
    },
    {
     "name": "stdout",
     "output_type": "stream",
     "text": [
      "INFO:tensorflow:Variable decoder/block_012/layer_000/SelfAttention/q                  size 1048576      slice_size 1048576      Shape[d_model=1024, heads=1024]                             \n",
      "INFO:tensorflow:Variable decoder/block_012/layer_000/SelfAttention/v                  size 1048576      slice_size 1048576      Shape[d_model=1024, heads=1024]                             \n",
      "INFO:tensorflow:Variable decoder/block_012/layer_000/layer_norm/scale                 size 1024         slice_size 1024         Shape[d_model=1024]                                         \n",
      "INFO:tensorflow:Variable decoder/block_012/layer_001/EncDecAttention/k                size 1048576      slice_size 1048576      Shape[d_model=1024, heads=1024]                             \n",
      "INFO:tensorflow:Variable decoder/block_012/layer_001/EncDecAttention/o                size 1048576      slice_size 1048576      Shape[heads=1024, d_model=1024]                             \n",
      "INFO:tensorflow:Variable decoder/block_012/layer_001/EncDecAttention/q                size 1048576      slice_size 1048576      Shape[d_model=1024, heads=1024]                             \n",
      "INFO:tensorflow:Variable decoder/block_012/layer_001/EncDecAttention/v                size 1048576      slice_size 1048576      Shape[d_model=1024, heads=1024]                             \n",
      "INFO:tensorflow:Variable decoder/block_012/layer_001/layer_norm/scale                 size 1024         slice_size 1024         Shape[d_model=1024]                                         \n",
      "INFO:tensorflow:Variable decoder/block_012/layer_002/DenseReluDense/wi/kernel         size 4194304      slice_size 4194304      Shape[d_model=1024, d_ff=4096]                              \n",
      "INFO:tensorflow:Variable decoder/block_012/layer_002/DenseReluDense/wo/kernel         size 4194304      slice_size 4194304      Shape[d_ff=4096, d_model=1024]                              \n",
      "INFO:tensorflow:Variable decoder/block_012/layer_002/layer_norm/scale                 size 1024         slice_size 1024         Shape[d_model=1024]                                         \n",
      "INFO:tensorflow:Variable decoder/block_013/layer_000/SelfAttention/k                  size 1048576      slice_size 1048576      Shape[d_model=1024, heads=1024]                             \n",
      "INFO:tensorflow:Variable decoder/block_013/layer_000/SelfAttention/o                  size 1048576      slice_size 1048576      Shape[heads=1024, d_model=1024]                             \n",
      "INFO:tensorflow:Variable decoder/block_013/layer_000/SelfAttention/q                  size 1048576      slice_size 1048576      Shape[d_model=1024, heads=1024]                             \n",
      "INFO:tensorflow:Variable decoder/block_013/layer_000/SelfAttention/v                  size 1048576      slice_size 1048576      Shape[d_model=1024, heads=1024]                             \n",
      "INFO:tensorflow:Variable decoder/block_013/layer_000/layer_norm/scale                 size 1024         slice_size 1024         Shape[d_model=1024]                                         \n",
      "INFO:tensorflow:Variable decoder/block_013/layer_001/EncDecAttention/k                size 1048576      slice_size 1048576      Shape[d_model=1024, heads=1024]                             \n",
      "INFO:tensorflow:Variable decoder/block_013/layer_001/EncDecAttention/o                size 1048576      slice_size 1048576      Shape[heads=1024, d_model=1024]                             \n",
      "INFO:tensorflow:Variable decoder/block_013/layer_001/EncDecAttention/q                size 1048576      slice_size 1048576      Shape[d_model=1024, heads=1024]                             \n",
      "INFO:tensorflow:Variable decoder/block_013/layer_001/EncDecAttention/v                size 1048576      slice_size 1048576      Shape[d_model=1024, heads=1024]                             \n",
      "INFO:tensorflow:Variable decoder/block_013/layer_001/layer_norm/scale                 size 1024         slice_size 1024         Shape[d_model=1024]                                         \n",
      "INFO:tensorflow:Variable decoder/block_013/layer_002/DenseReluDense/wi/kernel         size 4194304      slice_size 4194304      Shape[d_model=1024, d_ff=4096]                              \n",
      "INFO:tensorflow:Variable decoder/block_013/layer_002/DenseReluDense/wo/kernel         size 4194304      slice_size 4194304      Shape[d_ff=4096, d_model=1024]                              \n",
      "INFO:tensorflow:Variable decoder/block_013/layer_002/layer_norm/scale                 size 1024         slice_size 1024         Shape[d_model=1024]                                         \n",
      "INFO:tensorflow:Variable decoder/block_014/layer_000/SelfAttention/k                  size 1048576      slice_size 1048576      Shape[d_model=1024, heads=1024]                             \n",
      "INFO:tensorflow:Variable decoder/block_014/layer_000/SelfAttention/o                  size 1048576      slice_size 1048576      Shape[heads=1024, d_model=1024]                             \n",
      "INFO:tensorflow:Variable decoder/block_014/layer_000/SelfAttention/q                  size 1048576      slice_size 1048576      Shape[d_model=1024, heads=1024]                             \n",
      "INFO:tensorflow:Variable decoder/block_014/layer_000/SelfAttention/v                  size 1048576      slice_size 1048576      Shape[d_model=1024, heads=1024]                             \n",
      "INFO:tensorflow:Variable decoder/block_014/layer_000/layer_norm/scale                 size 1024         slice_size 1024         Shape[d_model=1024]                                         \n",
      "INFO:tensorflow:Variable decoder/block_014/layer_001/EncDecAttention/k                size 1048576      slice_size 1048576      Shape[d_model=1024, heads=1024]                             \n",
      "INFO:tensorflow:Variable decoder/block_014/layer_001/EncDecAttention/o                size 1048576      slice_size 1048576      Shape[heads=1024, d_model=1024]                             \n",
      "INFO:tensorflow:Variable decoder/block_014/layer_001/EncDecAttention/q                size 1048576      slice_size 1048576      Shape[d_model=1024, heads=1024]                             \n",
      "INFO:tensorflow:Variable decoder/block_014/layer_001/EncDecAttention/v                size 1048576      slice_size 1048576      Shape[d_model=1024, heads=1024]                             \n",
      "INFO:tensorflow:Variable decoder/block_014/layer_001/layer_norm/scale                 size 1024         slice_size 1024         Shape[d_model=1024]                                         \n",
      "INFO:tensorflow:Variable decoder/block_014/layer_002/DenseReluDense/wi/kernel         size 4194304      slice_size 4194304      Shape[d_model=1024, d_ff=4096]                              \n",
      "INFO:tensorflow:Variable decoder/block_014/layer_002/DenseReluDense/wo/kernel         size 4194304      slice_size 4194304      Shape[d_ff=4096, d_model=1024]                              \n",
      "INFO:tensorflow:Variable decoder/block_014/layer_002/layer_norm/scale                 size 1024         slice_size 1024         Shape[d_model=1024]                                         \n",
      "INFO:tensorflow:Variable decoder/block_015/layer_000/SelfAttention/k                  size 1048576      slice_size 1048576      Shape[d_model=1024, heads=1024]                             \n",
      "INFO:tensorflow:Variable decoder/block_015/layer_000/SelfAttention/o                  size 1048576      slice_size 1048576      Shape[heads=1024, d_model=1024]                             \n",
      "INFO:tensorflow:Variable decoder/block_015/layer_000/SelfAttention/q                  size 1048576      slice_size 1048576      Shape[d_model=1024, heads=1024]                             \n",
      "INFO:tensorflow:Variable decoder/block_015/layer_000/SelfAttention/v                  size 1048576      slice_size 1048576      Shape[d_model=1024, heads=1024]                             \n",
      "INFO:tensorflow:Variable decoder/block_015/layer_000/layer_norm/scale                 size 1024         slice_size 1024         Shape[d_model=1024]                                         \n",
      "INFO:tensorflow:Variable decoder/block_015/layer_001/EncDecAttention/k                size 1048576      slice_size 1048576      Shape[d_model=1024, heads=1024]                             \n",
      "INFO:tensorflow:Variable decoder/block_015/layer_001/EncDecAttention/o                size 1048576      slice_size 1048576      Shape[heads=1024, d_model=1024]                             \n"
     ]
    },
    {
     "name": "stdout",
     "output_type": "stream",
     "text": [
      "INFO:tensorflow:Variable decoder/block_015/layer_001/EncDecAttention/q                size 1048576      slice_size 1048576      Shape[d_model=1024, heads=1024]                             \n",
      "INFO:tensorflow:Variable decoder/block_015/layer_001/EncDecAttention/v                size 1048576      slice_size 1048576      Shape[d_model=1024, heads=1024]                             \n",
      "INFO:tensorflow:Variable decoder/block_015/layer_001/layer_norm/scale                 size 1024         slice_size 1024         Shape[d_model=1024]                                         \n",
      "INFO:tensorflow:Variable decoder/block_015/layer_002/DenseReluDense/wi/kernel         size 4194304      slice_size 4194304      Shape[d_model=1024, d_ff=4096]                              \n",
      "INFO:tensorflow:Variable decoder/block_015/layer_002/DenseReluDense/wo/kernel         size 4194304      slice_size 4194304      Shape[d_ff=4096, d_model=1024]                              \n",
      "INFO:tensorflow:Variable decoder/block_015/layer_002/layer_norm/scale                 size 1024         slice_size 1024         Shape[d_model=1024]                                         \n",
      "INFO:tensorflow:Variable decoder/block_016/layer_000/SelfAttention/k                  size 1048576      slice_size 1048576      Shape[d_model=1024, heads=1024]                             \n",
      "INFO:tensorflow:Variable decoder/block_016/layer_000/SelfAttention/o                  size 1048576      slice_size 1048576      Shape[heads=1024, d_model=1024]                             \n",
      "INFO:tensorflow:Variable decoder/block_016/layer_000/SelfAttention/q                  size 1048576      slice_size 1048576      Shape[d_model=1024, heads=1024]                             \n",
      "INFO:tensorflow:Variable decoder/block_016/layer_000/SelfAttention/v                  size 1048576      slice_size 1048576      Shape[d_model=1024, heads=1024]                             \n",
      "INFO:tensorflow:Variable decoder/block_016/layer_000/layer_norm/scale                 size 1024         slice_size 1024         Shape[d_model=1024]                                         \n",
      "INFO:tensorflow:Variable decoder/block_016/layer_001/EncDecAttention/k                size 1048576      slice_size 1048576      Shape[d_model=1024, heads=1024]                             \n",
      "INFO:tensorflow:Variable decoder/block_016/layer_001/EncDecAttention/o                size 1048576      slice_size 1048576      Shape[heads=1024, d_model=1024]                             \n",
      "INFO:tensorflow:Variable decoder/block_016/layer_001/EncDecAttention/q                size 1048576      slice_size 1048576      Shape[d_model=1024, heads=1024]                             \n",
      "INFO:tensorflow:Variable decoder/block_016/layer_001/EncDecAttention/v                size 1048576      slice_size 1048576      Shape[d_model=1024, heads=1024]                             \n",
      "INFO:tensorflow:Variable decoder/block_016/layer_001/layer_norm/scale                 size 1024         slice_size 1024         Shape[d_model=1024]                                         \n",
      "INFO:tensorflow:Variable decoder/block_016/layer_002/DenseReluDense/wi/kernel         size 4194304      slice_size 4194304      Shape[d_model=1024, d_ff=4096]                              \n",
      "INFO:tensorflow:Variable decoder/block_016/layer_002/DenseReluDense/wo/kernel         size 4194304      slice_size 4194304      Shape[d_ff=4096, d_model=1024]                              \n",
      "INFO:tensorflow:Variable decoder/block_016/layer_002/layer_norm/scale                 size 1024         slice_size 1024         Shape[d_model=1024]                                         \n",
      "INFO:tensorflow:Variable decoder/block_017/layer_000/SelfAttention/k                  size 1048576      slice_size 1048576      Shape[d_model=1024, heads=1024]                             \n",
      "INFO:tensorflow:Variable decoder/block_017/layer_000/SelfAttention/o                  size 1048576      slice_size 1048576      Shape[heads=1024, d_model=1024]                             \n",
      "INFO:tensorflow:Variable decoder/block_017/layer_000/SelfAttention/q                  size 1048576      slice_size 1048576      Shape[d_model=1024, heads=1024]                             \n",
      "INFO:tensorflow:Variable decoder/block_017/layer_000/SelfAttention/v                  size 1048576      slice_size 1048576      Shape[d_model=1024, heads=1024]                             \n",
      "INFO:tensorflow:Variable decoder/block_017/layer_000/layer_norm/scale                 size 1024         slice_size 1024         Shape[d_model=1024]                                         \n",
      "INFO:tensorflow:Variable decoder/block_017/layer_001/EncDecAttention/k                size 1048576      slice_size 1048576      Shape[d_model=1024, heads=1024]                             \n",
      "INFO:tensorflow:Variable decoder/block_017/layer_001/EncDecAttention/o                size 1048576      slice_size 1048576      Shape[heads=1024, d_model=1024]                             \n",
      "INFO:tensorflow:Variable decoder/block_017/layer_001/EncDecAttention/q                size 1048576      slice_size 1048576      Shape[d_model=1024, heads=1024]                             \n",
      "INFO:tensorflow:Variable decoder/block_017/layer_001/EncDecAttention/v                size 1048576      slice_size 1048576      Shape[d_model=1024, heads=1024]                             \n",
      "INFO:tensorflow:Variable decoder/block_017/layer_001/layer_norm/scale                 size 1024         slice_size 1024         Shape[d_model=1024]                                         \n",
      "INFO:tensorflow:Variable decoder/block_017/layer_002/DenseReluDense/wi/kernel         size 4194304      slice_size 4194304      Shape[d_model=1024, d_ff=4096]                              \n",
      "INFO:tensorflow:Variable decoder/block_017/layer_002/DenseReluDense/wo/kernel         size 4194304      slice_size 4194304      Shape[d_ff=4096, d_model=1024]                              \n",
      "INFO:tensorflow:Variable decoder/block_017/layer_002/layer_norm/scale                 size 1024         slice_size 1024         Shape[d_model=1024]                                         \n",
      "INFO:tensorflow:Variable decoder/block_018/layer_000/SelfAttention/k                  size 1048576      slice_size 1048576      Shape[d_model=1024, heads=1024]                             \n",
      "INFO:tensorflow:Variable decoder/block_018/layer_000/SelfAttention/o                  size 1048576      slice_size 1048576      Shape[heads=1024, d_model=1024]                             \n",
      "INFO:tensorflow:Variable decoder/block_018/layer_000/SelfAttention/q                  size 1048576      slice_size 1048576      Shape[d_model=1024, heads=1024]                             \n",
      "INFO:tensorflow:Variable decoder/block_018/layer_000/SelfAttention/v                  size 1048576      slice_size 1048576      Shape[d_model=1024, heads=1024]                             \n",
      "INFO:tensorflow:Variable decoder/block_018/layer_000/layer_norm/scale                 size 1024         slice_size 1024         Shape[d_model=1024]                                         \n",
      "INFO:tensorflow:Variable decoder/block_018/layer_001/EncDecAttention/k                size 1048576      slice_size 1048576      Shape[d_model=1024, heads=1024]                             \n",
      "INFO:tensorflow:Variable decoder/block_018/layer_001/EncDecAttention/o                size 1048576      slice_size 1048576      Shape[heads=1024, d_model=1024]                             \n",
      "INFO:tensorflow:Variable decoder/block_018/layer_001/EncDecAttention/q                size 1048576      slice_size 1048576      Shape[d_model=1024, heads=1024]                             \n",
      "INFO:tensorflow:Variable decoder/block_018/layer_001/EncDecAttention/v                size 1048576      slice_size 1048576      Shape[d_model=1024, heads=1024]                             \n",
      "INFO:tensorflow:Variable decoder/block_018/layer_001/layer_norm/scale                 size 1024         slice_size 1024         Shape[d_model=1024]                                         \n",
      "INFO:tensorflow:Variable decoder/block_018/layer_002/DenseReluDense/wi/kernel         size 4194304      slice_size 4194304      Shape[d_model=1024, d_ff=4096]                              \n",
      "INFO:tensorflow:Variable decoder/block_018/layer_002/DenseReluDense/wo/kernel         size 4194304      slice_size 4194304      Shape[d_ff=4096, d_model=1024]                              \n"
     ]
    },
    {
     "name": "stdout",
     "output_type": "stream",
     "text": [
      "INFO:tensorflow:Variable decoder/block_018/layer_002/layer_norm/scale                 size 1024         slice_size 1024         Shape[d_model=1024]                                         \n",
      "INFO:tensorflow:Variable decoder/block_019/layer_000/SelfAttention/k                  size 1048576      slice_size 1048576      Shape[d_model=1024, heads=1024]                             \n",
      "INFO:tensorflow:Variable decoder/block_019/layer_000/SelfAttention/o                  size 1048576      slice_size 1048576      Shape[heads=1024, d_model=1024]                             \n",
      "INFO:tensorflow:Variable decoder/block_019/layer_000/SelfAttention/q                  size 1048576      slice_size 1048576      Shape[d_model=1024, heads=1024]                             \n",
      "INFO:tensorflow:Variable decoder/block_019/layer_000/SelfAttention/v                  size 1048576      slice_size 1048576      Shape[d_model=1024, heads=1024]                             \n",
      "INFO:tensorflow:Variable decoder/block_019/layer_000/layer_norm/scale                 size 1024         slice_size 1024         Shape[d_model=1024]                                         \n",
      "INFO:tensorflow:Variable decoder/block_019/layer_001/EncDecAttention/k                size 1048576      slice_size 1048576      Shape[d_model=1024, heads=1024]                             \n",
      "INFO:tensorflow:Variable decoder/block_019/layer_001/EncDecAttention/o                size 1048576      slice_size 1048576      Shape[heads=1024, d_model=1024]                             \n",
      "INFO:tensorflow:Variable decoder/block_019/layer_001/EncDecAttention/q                size 1048576      slice_size 1048576      Shape[d_model=1024, heads=1024]                             \n",
      "INFO:tensorflow:Variable decoder/block_019/layer_001/EncDecAttention/v                size 1048576      slice_size 1048576      Shape[d_model=1024, heads=1024]                             \n",
      "INFO:tensorflow:Variable decoder/block_019/layer_001/layer_norm/scale                 size 1024         slice_size 1024         Shape[d_model=1024]                                         \n",
      "INFO:tensorflow:Variable decoder/block_019/layer_002/DenseReluDense/wi/kernel         size 4194304      slice_size 4194304      Shape[d_model=1024, d_ff=4096]                              \n",
      "INFO:tensorflow:Variable decoder/block_019/layer_002/DenseReluDense/wo/kernel         size 4194304      slice_size 4194304      Shape[d_ff=4096, d_model=1024]                              \n",
      "INFO:tensorflow:Variable decoder/block_019/layer_002/layer_norm/scale                 size 1024         slice_size 1024         Shape[d_model=1024]                                         \n",
      "INFO:tensorflow:Variable decoder/block_020/layer_000/SelfAttention/k                  size 1048576      slice_size 1048576      Shape[d_model=1024, heads=1024]                             \n",
      "INFO:tensorflow:Variable decoder/block_020/layer_000/SelfAttention/o                  size 1048576      slice_size 1048576      Shape[heads=1024, d_model=1024]                             \n",
      "INFO:tensorflow:Variable decoder/block_020/layer_000/SelfAttention/q                  size 1048576      slice_size 1048576      Shape[d_model=1024, heads=1024]                             \n",
      "INFO:tensorflow:Variable decoder/block_020/layer_000/SelfAttention/v                  size 1048576      slice_size 1048576      Shape[d_model=1024, heads=1024]                             \n",
      "INFO:tensorflow:Variable decoder/block_020/layer_000/layer_norm/scale                 size 1024         slice_size 1024         Shape[d_model=1024]                                         \n",
      "INFO:tensorflow:Variable decoder/block_020/layer_001/EncDecAttention/k                size 1048576      slice_size 1048576      Shape[d_model=1024, heads=1024]                             \n",
      "INFO:tensorflow:Variable decoder/block_020/layer_001/EncDecAttention/o                size 1048576      slice_size 1048576      Shape[heads=1024, d_model=1024]                             \n",
      "INFO:tensorflow:Variable decoder/block_020/layer_001/EncDecAttention/q                size 1048576      slice_size 1048576      Shape[d_model=1024, heads=1024]                             \n",
      "INFO:tensorflow:Variable decoder/block_020/layer_001/EncDecAttention/v                size 1048576      slice_size 1048576      Shape[d_model=1024, heads=1024]                             \n",
      "INFO:tensorflow:Variable decoder/block_020/layer_001/layer_norm/scale                 size 1024         slice_size 1024         Shape[d_model=1024]                                         \n",
      "INFO:tensorflow:Variable decoder/block_020/layer_002/DenseReluDense/wi/kernel         size 4194304      slice_size 4194304      Shape[d_model=1024, d_ff=4096]                              \n",
      "INFO:tensorflow:Variable decoder/block_020/layer_002/DenseReluDense/wo/kernel         size 4194304      slice_size 4194304      Shape[d_ff=4096, d_model=1024]                              \n",
      "INFO:tensorflow:Variable decoder/block_020/layer_002/layer_norm/scale                 size 1024         slice_size 1024         Shape[d_model=1024]                                         \n",
      "INFO:tensorflow:Variable decoder/block_021/layer_000/SelfAttention/k                  size 1048576      slice_size 1048576      Shape[d_model=1024, heads=1024]                             \n",
      "INFO:tensorflow:Variable decoder/block_021/layer_000/SelfAttention/o                  size 1048576      slice_size 1048576      Shape[heads=1024, d_model=1024]                             \n",
      "INFO:tensorflow:Variable decoder/block_021/layer_000/SelfAttention/q                  size 1048576      slice_size 1048576      Shape[d_model=1024, heads=1024]                             \n",
      "INFO:tensorflow:Variable decoder/block_021/layer_000/SelfAttention/v                  size 1048576      slice_size 1048576      Shape[d_model=1024, heads=1024]                             \n",
      "INFO:tensorflow:Variable decoder/block_021/layer_000/layer_norm/scale                 size 1024         slice_size 1024         Shape[d_model=1024]                                         \n",
      "INFO:tensorflow:Variable decoder/block_021/layer_001/EncDecAttention/k                size 1048576      slice_size 1048576      Shape[d_model=1024, heads=1024]                             \n",
      "INFO:tensorflow:Variable decoder/block_021/layer_001/EncDecAttention/o                size 1048576      slice_size 1048576      Shape[heads=1024, d_model=1024]                             \n",
      "INFO:tensorflow:Variable decoder/block_021/layer_001/EncDecAttention/q                size 1048576      slice_size 1048576      Shape[d_model=1024, heads=1024]                             \n",
      "INFO:tensorflow:Variable decoder/block_021/layer_001/EncDecAttention/v                size 1048576      slice_size 1048576      Shape[d_model=1024, heads=1024]                             \n",
      "INFO:tensorflow:Variable decoder/block_021/layer_001/layer_norm/scale                 size 1024         slice_size 1024         Shape[d_model=1024]                                         \n",
      "INFO:tensorflow:Variable decoder/block_021/layer_002/DenseReluDense/wi/kernel         size 4194304      slice_size 4194304      Shape[d_model=1024, d_ff=4096]                              \n",
      "INFO:tensorflow:Variable decoder/block_021/layer_002/DenseReluDense/wo/kernel         size 4194304      slice_size 4194304      Shape[d_ff=4096, d_model=1024]                              \n",
      "INFO:tensorflow:Variable decoder/block_021/layer_002/layer_norm/scale                 size 1024         slice_size 1024         Shape[d_model=1024]                                         \n",
      "INFO:tensorflow:Variable decoder/block_022/layer_000/SelfAttention/k                  size 1048576      slice_size 1048576      Shape[d_model=1024, heads=1024]                             \n",
      "INFO:tensorflow:Variable decoder/block_022/layer_000/SelfAttention/o                  size 1048576      slice_size 1048576      Shape[heads=1024, d_model=1024]                             \n",
      "INFO:tensorflow:Variable decoder/block_022/layer_000/SelfAttention/q                  size 1048576      slice_size 1048576      Shape[d_model=1024, heads=1024]                             \n",
      "INFO:tensorflow:Variable decoder/block_022/layer_000/SelfAttention/v                  size 1048576      slice_size 1048576      Shape[d_model=1024, heads=1024]                             \n"
     ]
    },
    {
     "name": "stdout",
     "output_type": "stream",
     "text": [
      "INFO:tensorflow:Variable decoder/block_022/layer_000/layer_norm/scale                 size 1024         slice_size 1024         Shape[d_model=1024]                                         \n",
      "INFO:tensorflow:Variable decoder/block_022/layer_001/EncDecAttention/k                size 1048576      slice_size 1048576      Shape[d_model=1024, heads=1024]                             \n",
      "INFO:tensorflow:Variable decoder/block_022/layer_001/EncDecAttention/o                size 1048576      slice_size 1048576      Shape[heads=1024, d_model=1024]                             \n",
      "INFO:tensorflow:Variable decoder/block_022/layer_001/EncDecAttention/q                size 1048576      slice_size 1048576      Shape[d_model=1024, heads=1024]                             \n",
      "INFO:tensorflow:Variable decoder/block_022/layer_001/EncDecAttention/v                size 1048576      slice_size 1048576      Shape[d_model=1024, heads=1024]                             \n",
      "INFO:tensorflow:Variable decoder/block_022/layer_001/layer_norm/scale                 size 1024         slice_size 1024         Shape[d_model=1024]                                         \n",
      "INFO:tensorflow:Variable decoder/block_022/layer_002/DenseReluDense/wi/kernel         size 4194304      slice_size 4194304      Shape[d_model=1024, d_ff=4096]                              \n",
      "INFO:tensorflow:Variable decoder/block_022/layer_002/DenseReluDense/wo/kernel         size 4194304      slice_size 4194304      Shape[d_ff=4096, d_model=1024]                              \n",
      "INFO:tensorflow:Variable decoder/block_022/layer_002/layer_norm/scale                 size 1024         slice_size 1024         Shape[d_model=1024]                                         \n",
      "INFO:tensorflow:Variable decoder/block_023/layer_000/SelfAttention/k                  size 1048576      slice_size 1048576      Shape[d_model=1024, heads=1024]                             \n",
      "INFO:tensorflow:Variable decoder/block_023/layer_000/SelfAttention/o                  size 1048576      slice_size 1048576      Shape[heads=1024, d_model=1024]                             \n",
      "INFO:tensorflow:Variable decoder/block_023/layer_000/SelfAttention/q                  size 1048576      slice_size 1048576      Shape[d_model=1024, heads=1024]                             \n",
      "INFO:tensorflow:Variable decoder/block_023/layer_000/SelfAttention/v                  size 1048576      slice_size 1048576      Shape[d_model=1024, heads=1024]                             \n",
      "INFO:tensorflow:Variable decoder/block_023/layer_000/layer_norm/scale                 size 1024         slice_size 1024         Shape[d_model=1024]                                         \n",
      "INFO:tensorflow:Variable decoder/block_023/layer_001/EncDecAttention/k                size 1048576      slice_size 1048576      Shape[d_model=1024, heads=1024]                             \n",
      "INFO:tensorflow:Variable decoder/block_023/layer_001/EncDecAttention/o                size 1048576      slice_size 1048576      Shape[heads=1024, d_model=1024]                             \n",
      "INFO:tensorflow:Variable decoder/block_023/layer_001/EncDecAttention/q                size 1048576      slice_size 1048576      Shape[d_model=1024, heads=1024]                             \n",
      "INFO:tensorflow:Variable decoder/block_023/layer_001/EncDecAttention/v                size 1048576      slice_size 1048576      Shape[d_model=1024, heads=1024]                             \n",
      "INFO:tensorflow:Variable decoder/block_023/layer_001/layer_norm/scale                 size 1024         slice_size 1024         Shape[d_model=1024]                                         \n",
      "INFO:tensorflow:Variable decoder/block_023/layer_002/DenseReluDense/wi/kernel         size 4194304      slice_size 4194304      Shape[d_model=1024, d_ff=4096]                              \n",
      "INFO:tensorflow:Variable decoder/block_023/layer_002/DenseReluDense/wo/kernel         size 4194304      slice_size 4194304      Shape[d_ff=4096, d_model=1024]                              \n",
      "INFO:tensorflow:Variable decoder/block_023/layer_002/layer_norm/scale                 size 1024         slice_size 1024         Shape[d_model=1024]                                         \n",
      "INFO:tensorflow:Variable decoder/final_layer_norm/scale                               size 1024         slice_size 1024         Shape[d_model=1024]                                         \n",
      "INFO:tensorflow:Variable encoder/block_000/layer_000/SelfAttention/k                  size 1048576      slice_size 1048576      Shape[d_model=1024, heads=1024]                             \n",
      "INFO:tensorflow:Variable encoder/block_000/layer_000/SelfAttention/o                  size 1048576      slice_size 1048576      Shape[heads=1024, d_model=1024]                             \n",
      "INFO:tensorflow:Variable encoder/block_000/layer_000/SelfAttention/q                  size 1048576      slice_size 1048576      Shape[d_model=1024, heads=1024]                             \n",
      "INFO:tensorflow:Variable encoder/block_000/layer_000/SelfAttention/relative_attention_bias size 512          slice_size 512          Shape[heads=16, buckets=32]                                 \n",
      "INFO:tensorflow:Variable encoder/block_000/layer_000/SelfAttention/v                  size 1048576      slice_size 1048576      Shape[d_model=1024, heads=1024]                             \n",
      "INFO:tensorflow:Variable encoder/block_000/layer_000/layer_norm/scale                 size 1024         slice_size 1024         Shape[d_model=1024]                                         \n",
      "INFO:tensorflow:Variable encoder/block_000/layer_001/DenseReluDense/wi/kernel         size 4194304      slice_size 4194304      Shape[d_model=1024, d_ff=4096]                              \n",
      "INFO:tensorflow:Variable encoder/block_000/layer_001/DenseReluDense/wo/kernel         size 4194304      slice_size 4194304      Shape[d_ff=4096, d_model=1024]                              \n",
      "INFO:tensorflow:Variable encoder/block_000/layer_001/layer_norm/scale                 size 1024         slice_size 1024         Shape[d_model=1024]                                         \n",
      "INFO:tensorflow:Variable encoder/block_001/layer_000/SelfAttention/k                  size 1048576      slice_size 1048576      Shape[d_model=1024, heads=1024]                             \n",
      "INFO:tensorflow:Variable encoder/block_001/layer_000/SelfAttention/o                  size 1048576      slice_size 1048576      Shape[heads=1024, d_model=1024]                             \n",
      "INFO:tensorflow:Variable encoder/block_001/layer_000/SelfAttention/q                  size 1048576      slice_size 1048576      Shape[d_model=1024, heads=1024]                             \n",
      "INFO:tensorflow:Variable encoder/block_001/layer_000/SelfAttention/v                  size 1048576      slice_size 1048576      Shape[d_model=1024, heads=1024]                             \n",
      "INFO:tensorflow:Variable encoder/block_001/layer_000/layer_norm/scale                 size 1024         slice_size 1024         Shape[d_model=1024]                                         \n",
      "INFO:tensorflow:Variable encoder/block_001/layer_001/DenseReluDense/wi/kernel         size 4194304      slice_size 4194304      Shape[d_model=1024, d_ff=4096]                              \n",
      "INFO:tensorflow:Variable encoder/block_001/layer_001/DenseReluDense/wo/kernel         size 4194304      slice_size 4194304      Shape[d_ff=4096, d_model=1024]                              \n",
      "INFO:tensorflow:Variable encoder/block_001/layer_001/layer_norm/scale                 size 1024         slice_size 1024         Shape[d_model=1024]                                         \n",
      "INFO:tensorflow:Variable encoder/block_002/layer_000/SelfAttention/k                  size 1048576      slice_size 1048576      Shape[d_model=1024, heads=1024]                             \n",
      "INFO:tensorflow:Variable encoder/block_002/layer_000/SelfAttention/o                  size 1048576      slice_size 1048576      Shape[heads=1024, d_model=1024]                             \n",
      "INFO:tensorflow:Variable encoder/block_002/layer_000/SelfAttention/q                  size 1048576      slice_size 1048576      Shape[d_model=1024, heads=1024]                             \n",
      "INFO:tensorflow:Variable encoder/block_002/layer_000/SelfAttention/v                  size 1048576      slice_size 1048576      Shape[d_model=1024, heads=1024]                             \n"
     ]
    },
    {
     "name": "stdout",
     "output_type": "stream",
     "text": [
      "INFO:tensorflow:Variable encoder/block_002/layer_000/layer_norm/scale                 size 1024         slice_size 1024         Shape[d_model=1024]                                         \n",
      "INFO:tensorflow:Variable encoder/block_002/layer_001/DenseReluDense/wi/kernel         size 4194304      slice_size 4194304      Shape[d_model=1024, d_ff=4096]                              \n",
      "INFO:tensorflow:Variable encoder/block_002/layer_001/DenseReluDense/wo/kernel         size 4194304      slice_size 4194304      Shape[d_ff=4096, d_model=1024]                              \n",
      "INFO:tensorflow:Variable encoder/block_002/layer_001/layer_norm/scale                 size 1024         slice_size 1024         Shape[d_model=1024]                                         \n",
      "INFO:tensorflow:Variable encoder/block_003/layer_000/SelfAttention/k                  size 1048576      slice_size 1048576      Shape[d_model=1024, heads=1024]                             \n",
      "INFO:tensorflow:Variable encoder/block_003/layer_000/SelfAttention/o                  size 1048576      slice_size 1048576      Shape[heads=1024, d_model=1024]                             \n",
      "INFO:tensorflow:Variable encoder/block_003/layer_000/SelfAttention/q                  size 1048576      slice_size 1048576      Shape[d_model=1024, heads=1024]                             \n",
      "INFO:tensorflow:Variable encoder/block_003/layer_000/SelfAttention/v                  size 1048576      slice_size 1048576      Shape[d_model=1024, heads=1024]                             \n",
      "INFO:tensorflow:Variable encoder/block_003/layer_000/layer_norm/scale                 size 1024         slice_size 1024         Shape[d_model=1024]                                         \n",
      "INFO:tensorflow:Variable encoder/block_003/layer_001/DenseReluDense/wi/kernel         size 4194304      slice_size 4194304      Shape[d_model=1024, d_ff=4096]                              \n",
      "INFO:tensorflow:Variable encoder/block_003/layer_001/DenseReluDense/wo/kernel         size 4194304      slice_size 4194304      Shape[d_ff=4096, d_model=1024]                              \n",
      "INFO:tensorflow:Variable encoder/block_003/layer_001/layer_norm/scale                 size 1024         slice_size 1024         Shape[d_model=1024]                                         \n",
      "INFO:tensorflow:Variable encoder/block_004/layer_000/SelfAttention/k                  size 1048576      slice_size 1048576      Shape[d_model=1024, heads=1024]                             \n",
      "INFO:tensorflow:Variable encoder/block_004/layer_000/SelfAttention/o                  size 1048576      slice_size 1048576      Shape[heads=1024, d_model=1024]                             \n",
      "INFO:tensorflow:Variable encoder/block_004/layer_000/SelfAttention/q                  size 1048576      slice_size 1048576      Shape[d_model=1024, heads=1024]                             \n",
      "INFO:tensorflow:Variable encoder/block_004/layer_000/SelfAttention/v                  size 1048576      slice_size 1048576      Shape[d_model=1024, heads=1024]                             \n",
      "INFO:tensorflow:Variable encoder/block_004/layer_000/layer_norm/scale                 size 1024         slice_size 1024         Shape[d_model=1024]                                         \n",
      "INFO:tensorflow:Variable encoder/block_004/layer_001/DenseReluDense/wi/kernel         size 4194304      slice_size 4194304      Shape[d_model=1024, d_ff=4096]                              \n",
      "INFO:tensorflow:Variable encoder/block_004/layer_001/DenseReluDense/wo/kernel         size 4194304      slice_size 4194304      Shape[d_ff=4096, d_model=1024]                              \n",
      "INFO:tensorflow:Variable encoder/block_004/layer_001/layer_norm/scale                 size 1024         slice_size 1024         Shape[d_model=1024]                                         \n",
      "INFO:tensorflow:Variable encoder/block_005/layer_000/SelfAttention/k                  size 1048576      slice_size 1048576      Shape[d_model=1024, heads=1024]                             \n",
      "INFO:tensorflow:Variable encoder/block_005/layer_000/SelfAttention/o                  size 1048576      slice_size 1048576      Shape[heads=1024, d_model=1024]                             \n",
      "INFO:tensorflow:Variable encoder/block_005/layer_000/SelfAttention/q                  size 1048576      slice_size 1048576      Shape[d_model=1024, heads=1024]                             \n",
      "INFO:tensorflow:Variable encoder/block_005/layer_000/SelfAttention/v                  size 1048576      slice_size 1048576      Shape[d_model=1024, heads=1024]                             \n",
      "INFO:tensorflow:Variable encoder/block_005/layer_000/layer_norm/scale                 size 1024         slice_size 1024         Shape[d_model=1024]                                         \n",
      "INFO:tensorflow:Variable encoder/block_005/layer_001/DenseReluDense/wi/kernel         size 4194304      slice_size 4194304      Shape[d_model=1024, d_ff=4096]                              \n",
      "INFO:tensorflow:Variable encoder/block_005/layer_001/DenseReluDense/wo/kernel         size 4194304      slice_size 4194304      Shape[d_ff=4096, d_model=1024]                              \n",
      "INFO:tensorflow:Variable encoder/block_005/layer_001/layer_norm/scale                 size 1024         slice_size 1024         Shape[d_model=1024]                                         \n",
      "INFO:tensorflow:Variable encoder/block_006/layer_000/SelfAttention/k                  size 1048576      slice_size 1048576      Shape[d_model=1024, heads=1024]                             \n",
      "INFO:tensorflow:Variable encoder/block_006/layer_000/SelfAttention/o                  size 1048576      slice_size 1048576      Shape[heads=1024, d_model=1024]                             \n",
      "INFO:tensorflow:Variable encoder/block_006/layer_000/SelfAttention/q                  size 1048576      slice_size 1048576      Shape[d_model=1024, heads=1024]                             \n",
      "INFO:tensorflow:Variable encoder/block_006/layer_000/SelfAttention/v                  size 1048576      slice_size 1048576      Shape[d_model=1024, heads=1024]                             \n",
      "INFO:tensorflow:Variable encoder/block_006/layer_000/layer_norm/scale                 size 1024         slice_size 1024         Shape[d_model=1024]                                         \n",
      "INFO:tensorflow:Variable encoder/block_006/layer_001/DenseReluDense/wi/kernel         size 4194304      slice_size 4194304      Shape[d_model=1024, d_ff=4096]                              \n",
      "INFO:tensorflow:Variable encoder/block_006/layer_001/DenseReluDense/wo/kernel         size 4194304      slice_size 4194304      Shape[d_ff=4096, d_model=1024]                              \n",
      "INFO:tensorflow:Variable encoder/block_006/layer_001/layer_norm/scale                 size 1024         slice_size 1024         Shape[d_model=1024]                                         \n",
      "INFO:tensorflow:Variable encoder/block_007/layer_000/SelfAttention/k                  size 1048576      slice_size 1048576      Shape[d_model=1024, heads=1024]                             \n",
      "INFO:tensorflow:Variable encoder/block_007/layer_000/SelfAttention/o                  size 1048576      slice_size 1048576      Shape[heads=1024, d_model=1024]                             \n",
      "INFO:tensorflow:Variable encoder/block_007/layer_000/SelfAttention/q                  size 1048576      slice_size 1048576      Shape[d_model=1024, heads=1024]                             \n",
      "INFO:tensorflow:Variable encoder/block_007/layer_000/SelfAttention/v                  size 1048576      slice_size 1048576      Shape[d_model=1024, heads=1024]                             \n",
      "INFO:tensorflow:Variable encoder/block_007/layer_000/layer_norm/scale                 size 1024         slice_size 1024         Shape[d_model=1024]                                         \n",
      "INFO:tensorflow:Variable encoder/block_007/layer_001/DenseReluDense/wi/kernel         size 4194304      slice_size 4194304      Shape[d_model=1024, d_ff=4096]                              \n",
      "INFO:tensorflow:Variable encoder/block_007/layer_001/DenseReluDense/wo/kernel         size 4194304      slice_size 4194304      Shape[d_ff=4096, d_model=1024]                              \n",
      "INFO:tensorflow:Variable encoder/block_007/layer_001/layer_norm/scale                 size 1024         slice_size 1024         Shape[d_model=1024]                                         \n"
     ]
    },
    {
     "name": "stdout",
     "output_type": "stream",
     "text": [
      "INFO:tensorflow:Variable encoder/block_008/layer_000/SelfAttention/k                  size 1048576      slice_size 1048576      Shape[d_model=1024, heads=1024]                             \n",
      "INFO:tensorflow:Variable encoder/block_008/layer_000/SelfAttention/o                  size 1048576      slice_size 1048576      Shape[heads=1024, d_model=1024]                             \n",
      "INFO:tensorflow:Variable encoder/block_008/layer_000/SelfAttention/q                  size 1048576      slice_size 1048576      Shape[d_model=1024, heads=1024]                             \n",
      "INFO:tensorflow:Variable encoder/block_008/layer_000/SelfAttention/v                  size 1048576      slice_size 1048576      Shape[d_model=1024, heads=1024]                             \n",
      "INFO:tensorflow:Variable encoder/block_008/layer_000/layer_norm/scale                 size 1024         slice_size 1024         Shape[d_model=1024]                                         \n",
      "INFO:tensorflow:Variable encoder/block_008/layer_001/DenseReluDense/wi/kernel         size 4194304      slice_size 4194304      Shape[d_model=1024, d_ff=4096]                              \n",
      "INFO:tensorflow:Variable encoder/block_008/layer_001/DenseReluDense/wo/kernel         size 4194304      slice_size 4194304      Shape[d_ff=4096, d_model=1024]                              \n",
      "INFO:tensorflow:Variable encoder/block_008/layer_001/layer_norm/scale                 size 1024         slice_size 1024         Shape[d_model=1024]                                         \n",
      "INFO:tensorflow:Variable encoder/block_009/layer_000/SelfAttention/k                  size 1048576      slice_size 1048576      Shape[d_model=1024, heads=1024]                             \n",
      "INFO:tensorflow:Variable encoder/block_009/layer_000/SelfAttention/o                  size 1048576      slice_size 1048576      Shape[heads=1024, d_model=1024]                             \n",
      "INFO:tensorflow:Variable encoder/block_009/layer_000/SelfAttention/q                  size 1048576      slice_size 1048576      Shape[d_model=1024, heads=1024]                             \n",
      "INFO:tensorflow:Variable encoder/block_009/layer_000/SelfAttention/v                  size 1048576      slice_size 1048576      Shape[d_model=1024, heads=1024]                             \n",
      "INFO:tensorflow:Variable encoder/block_009/layer_000/layer_norm/scale                 size 1024         slice_size 1024         Shape[d_model=1024]                                         \n",
      "INFO:tensorflow:Variable encoder/block_009/layer_001/DenseReluDense/wi/kernel         size 4194304      slice_size 4194304      Shape[d_model=1024, d_ff=4096]                              \n",
      "INFO:tensorflow:Variable encoder/block_009/layer_001/DenseReluDense/wo/kernel         size 4194304      slice_size 4194304      Shape[d_ff=4096, d_model=1024]                              \n",
      "INFO:tensorflow:Variable encoder/block_009/layer_001/layer_norm/scale                 size 1024         slice_size 1024         Shape[d_model=1024]                                         \n",
      "INFO:tensorflow:Variable encoder/block_010/layer_000/SelfAttention/k                  size 1048576      slice_size 1048576      Shape[d_model=1024, heads=1024]                             \n",
      "INFO:tensorflow:Variable encoder/block_010/layer_000/SelfAttention/o                  size 1048576      slice_size 1048576      Shape[heads=1024, d_model=1024]                             \n",
      "INFO:tensorflow:Variable encoder/block_010/layer_000/SelfAttention/q                  size 1048576      slice_size 1048576      Shape[d_model=1024, heads=1024]                             \n",
      "INFO:tensorflow:Variable encoder/block_010/layer_000/SelfAttention/v                  size 1048576      slice_size 1048576      Shape[d_model=1024, heads=1024]                             \n",
      "INFO:tensorflow:Variable encoder/block_010/layer_000/layer_norm/scale                 size 1024         slice_size 1024         Shape[d_model=1024]                                         \n",
      "INFO:tensorflow:Variable encoder/block_010/layer_001/DenseReluDense/wi/kernel         size 4194304      slice_size 4194304      Shape[d_model=1024, d_ff=4096]                              \n",
      "INFO:tensorflow:Variable encoder/block_010/layer_001/DenseReluDense/wo/kernel         size 4194304      slice_size 4194304      Shape[d_ff=4096, d_model=1024]                              \n",
      "INFO:tensorflow:Variable encoder/block_010/layer_001/layer_norm/scale                 size 1024         slice_size 1024         Shape[d_model=1024]                                         \n",
      "INFO:tensorflow:Variable encoder/block_011/layer_000/SelfAttention/k                  size 1048576      slice_size 1048576      Shape[d_model=1024, heads=1024]                             \n",
      "INFO:tensorflow:Variable encoder/block_011/layer_000/SelfAttention/o                  size 1048576      slice_size 1048576      Shape[heads=1024, d_model=1024]                             \n",
      "INFO:tensorflow:Variable encoder/block_011/layer_000/SelfAttention/q                  size 1048576      slice_size 1048576      Shape[d_model=1024, heads=1024]                             \n",
      "INFO:tensorflow:Variable encoder/block_011/layer_000/SelfAttention/v                  size 1048576      slice_size 1048576      Shape[d_model=1024, heads=1024]                             \n",
      "INFO:tensorflow:Variable encoder/block_011/layer_000/layer_norm/scale                 size 1024         slice_size 1024         Shape[d_model=1024]                                         \n",
      "INFO:tensorflow:Variable encoder/block_011/layer_001/DenseReluDense/wi/kernel         size 4194304      slice_size 4194304      Shape[d_model=1024, d_ff=4096]                              \n",
      "INFO:tensorflow:Variable encoder/block_011/layer_001/DenseReluDense/wo/kernel         size 4194304      slice_size 4194304      Shape[d_ff=4096, d_model=1024]                              \n",
      "INFO:tensorflow:Variable encoder/block_011/layer_001/layer_norm/scale                 size 1024         slice_size 1024         Shape[d_model=1024]                                         \n",
      "INFO:tensorflow:Variable encoder/block_012/layer_000/SelfAttention/k                  size 1048576      slice_size 1048576      Shape[d_model=1024, heads=1024]                             \n",
      "INFO:tensorflow:Variable encoder/block_012/layer_000/SelfAttention/o                  size 1048576      slice_size 1048576      Shape[heads=1024, d_model=1024]                             \n",
      "INFO:tensorflow:Variable encoder/block_012/layer_000/SelfAttention/q                  size 1048576      slice_size 1048576      Shape[d_model=1024, heads=1024]                             \n",
      "INFO:tensorflow:Variable encoder/block_012/layer_000/SelfAttention/v                  size 1048576      slice_size 1048576      Shape[d_model=1024, heads=1024]                             \n",
      "INFO:tensorflow:Variable encoder/block_012/layer_000/layer_norm/scale                 size 1024         slice_size 1024         Shape[d_model=1024]                                         \n",
      "INFO:tensorflow:Variable encoder/block_012/layer_001/DenseReluDense/wi/kernel         size 4194304      slice_size 4194304      Shape[d_model=1024, d_ff=4096]                              \n",
      "INFO:tensorflow:Variable encoder/block_012/layer_001/DenseReluDense/wo/kernel         size 4194304      slice_size 4194304      Shape[d_ff=4096, d_model=1024]                              \n",
      "INFO:tensorflow:Variable encoder/block_012/layer_001/layer_norm/scale                 size 1024         slice_size 1024         Shape[d_model=1024]                                         \n",
      "INFO:tensorflow:Variable encoder/block_013/layer_000/SelfAttention/k                  size 1048576      slice_size 1048576      Shape[d_model=1024, heads=1024]                             \n",
      "INFO:tensorflow:Variable encoder/block_013/layer_000/SelfAttention/o                  size 1048576      slice_size 1048576      Shape[heads=1024, d_model=1024]                             \n",
      "INFO:tensorflow:Variable encoder/block_013/layer_000/SelfAttention/q                  size 1048576      slice_size 1048576      Shape[d_model=1024, heads=1024]                             \n",
      "INFO:tensorflow:Variable encoder/block_013/layer_000/SelfAttention/v                  size 1048576      slice_size 1048576      Shape[d_model=1024, heads=1024]                             \n"
     ]
    },
    {
     "name": "stdout",
     "output_type": "stream",
     "text": [
      "INFO:tensorflow:Variable encoder/block_013/layer_000/layer_norm/scale                 size 1024         slice_size 1024         Shape[d_model=1024]                                         \n",
      "INFO:tensorflow:Variable encoder/block_013/layer_001/DenseReluDense/wi/kernel         size 4194304      slice_size 4194304      Shape[d_model=1024, d_ff=4096]                              \n",
      "INFO:tensorflow:Variable encoder/block_013/layer_001/DenseReluDense/wo/kernel         size 4194304      slice_size 4194304      Shape[d_ff=4096, d_model=1024]                              \n",
      "INFO:tensorflow:Variable encoder/block_013/layer_001/layer_norm/scale                 size 1024         slice_size 1024         Shape[d_model=1024]                                         \n",
      "INFO:tensorflow:Variable encoder/block_014/layer_000/SelfAttention/k                  size 1048576      slice_size 1048576      Shape[d_model=1024, heads=1024]                             \n",
      "INFO:tensorflow:Variable encoder/block_014/layer_000/SelfAttention/o                  size 1048576      slice_size 1048576      Shape[heads=1024, d_model=1024]                             \n",
      "INFO:tensorflow:Variable encoder/block_014/layer_000/SelfAttention/q                  size 1048576      slice_size 1048576      Shape[d_model=1024, heads=1024]                             \n",
      "INFO:tensorflow:Variable encoder/block_014/layer_000/SelfAttention/v                  size 1048576      slice_size 1048576      Shape[d_model=1024, heads=1024]                             \n",
      "INFO:tensorflow:Variable encoder/block_014/layer_000/layer_norm/scale                 size 1024         slice_size 1024         Shape[d_model=1024]                                         \n",
      "INFO:tensorflow:Variable encoder/block_014/layer_001/DenseReluDense/wi/kernel         size 4194304      slice_size 4194304      Shape[d_model=1024, d_ff=4096]                              \n",
      "INFO:tensorflow:Variable encoder/block_014/layer_001/DenseReluDense/wo/kernel         size 4194304      slice_size 4194304      Shape[d_ff=4096, d_model=1024]                              \n",
      "INFO:tensorflow:Variable encoder/block_014/layer_001/layer_norm/scale                 size 1024         slice_size 1024         Shape[d_model=1024]                                         \n",
      "INFO:tensorflow:Variable encoder/block_015/layer_000/SelfAttention/k                  size 1048576      slice_size 1048576      Shape[d_model=1024, heads=1024]                             \n",
      "INFO:tensorflow:Variable encoder/block_015/layer_000/SelfAttention/o                  size 1048576      slice_size 1048576      Shape[heads=1024, d_model=1024]                             \n",
      "INFO:tensorflow:Variable encoder/block_015/layer_000/SelfAttention/q                  size 1048576      slice_size 1048576      Shape[d_model=1024, heads=1024]                             \n",
      "INFO:tensorflow:Variable encoder/block_015/layer_000/SelfAttention/v                  size 1048576      slice_size 1048576      Shape[d_model=1024, heads=1024]                             \n",
      "INFO:tensorflow:Variable encoder/block_015/layer_000/layer_norm/scale                 size 1024         slice_size 1024         Shape[d_model=1024]                                         \n",
      "INFO:tensorflow:Variable encoder/block_015/layer_001/DenseReluDense/wi/kernel         size 4194304      slice_size 4194304      Shape[d_model=1024, d_ff=4096]                              \n",
      "INFO:tensorflow:Variable encoder/block_015/layer_001/DenseReluDense/wo/kernel         size 4194304      slice_size 4194304      Shape[d_ff=4096, d_model=1024]                              \n",
      "INFO:tensorflow:Variable encoder/block_015/layer_001/layer_norm/scale                 size 1024         slice_size 1024         Shape[d_model=1024]                                         \n",
      "INFO:tensorflow:Variable encoder/block_016/layer_000/SelfAttention/k                  size 1048576      slice_size 1048576      Shape[d_model=1024, heads=1024]                             \n",
      "INFO:tensorflow:Variable encoder/block_016/layer_000/SelfAttention/o                  size 1048576      slice_size 1048576      Shape[heads=1024, d_model=1024]                             \n",
      "INFO:tensorflow:Variable encoder/block_016/layer_000/SelfAttention/q                  size 1048576      slice_size 1048576      Shape[d_model=1024, heads=1024]                             \n",
      "INFO:tensorflow:Variable encoder/block_016/layer_000/SelfAttention/v                  size 1048576      slice_size 1048576      Shape[d_model=1024, heads=1024]                             \n",
      "INFO:tensorflow:Variable encoder/block_016/layer_000/layer_norm/scale                 size 1024         slice_size 1024         Shape[d_model=1024]                                         \n",
      "INFO:tensorflow:Variable encoder/block_016/layer_001/DenseReluDense/wi/kernel         size 4194304      slice_size 4194304      Shape[d_model=1024, d_ff=4096]                              \n",
      "INFO:tensorflow:Variable encoder/block_016/layer_001/DenseReluDense/wo/kernel         size 4194304      slice_size 4194304      Shape[d_ff=4096, d_model=1024]                              \n",
      "INFO:tensorflow:Variable encoder/block_016/layer_001/layer_norm/scale                 size 1024         slice_size 1024         Shape[d_model=1024]                                         \n",
      "INFO:tensorflow:Variable encoder/block_017/layer_000/SelfAttention/k                  size 1048576      slice_size 1048576      Shape[d_model=1024, heads=1024]                             \n",
      "INFO:tensorflow:Variable encoder/block_017/layer_000/SelfAttention/o                  size 1048576      slice_size 1048576      Shape[heads=1024, d_model=1024]                             \n",
      "INFO:tensorflow:Variable encoder/block_017/layer_000/SelfAttention/q                  size 1048576      slice_size 1048576      Shape[d_model=1024, heads=1024]                             \n",
      "INFO:tensorflow:Variable encoder/block_017/layer_000/SelfAttention/v                  size 1048576      slice_size 1048576      Shape[d_model=1024, heads=1024]                             \n",
      "INFO:tensorflow:Variable encoder/block_017/layer_000/layer_norm/scale                 size 1024         slice_size 1024         Shape[d_model=1024]                                         \n",
      "INFO:tensorflow:Variable encoder/block_017/layer_001/DenseReluDense/wi/kernel         size 4194304      slice_size 4194304      Shape[d_model=1024, d_ff=4096]                              \n",
      "INFO:tensorflow:Variable encoder/block_017/layer_001/DenseReluDense/wo/kernel         size 4194304      slice_size 4194304      Shape[d_ff=4096, d_model=1024]                              \n",
      "INFO:tensorflow:Variable encoder/block_017/layer_001/layer_norm/scale                 size 1024         slice_size 1024         Shape[d_model=1024]                                         \n",
      "INFO:tensorflow:Variable encoder/block_018/layer_000/SelfAttention/k                  size 1048576      slice_size 1048576      Shape[d_model=1024, heads=1024]                             \n",
      "INFO:tensorflow:Variable encoder/block_018/layer_000/SelfAttention/o                  size 1048576      slice_size 1048576      Shape[heads=1024, d_model=1024]                             \n",
      "INFO:tensorflow:Variable encoder/block_018/layer_000/SelfAttention/q                  size 1048576      slice_size 1048576      Shape[d_model=1024, heads=1024]                             \n",
      "INFO:tensorflow:Variable encoder/block_018/layer_000/SelfAttention/v                  size 1048576      slice_size 1048576      Shape[d_model=1024, heads=1024]                             \n",
      "INFO:tensorflow:Variable encoder/block_018/layer_000/layer_norm/scale                 size 1024         slice_size 1024         Shape[d_model=1024]                                         \n",
      "INFO:tensorflow:Variable encoder/block_018/layer_001/DenseReluDense/wi/kernel         size 4194304      slice_size 4194304      Shape[d_model=1024, d_ff=4096]                              \n",
      "INFO:tensorflow:Variable encoder/block_018/layer_001/DenseReluDense/wo/kernel         size 4194304      slice_size 4194304      Shape[d_ff=4096, d_model=1024]                              \n",
      "INFO:tensorflow:Variable encoder/block_018/layer_001/layer_norm/scale                 size 1024         slice_size 1024         Shape[d_model=1024]                                         \n"
     ]
    },
    {
     "name": "stdout",
     "output_type": "stream",
     "text": [
      "INFO:tensorflow:Variable encoder/block_019/layer_000/SelfAttention/k                  size 1048576      slice_size 1048576      Shape[d_model=1024, heads=1024]                             \n",
      "INFO:tensorflow:Variable encoder/block_019/layer_000/SelfAttention/o                  size 1048576      slice_size 1048576      Shape[heads=1024, d_model=1024]                             \n",
      "INFO:tensorflow:Variable encoder/block_019/layer_000/SelfAttention/q                  size 1048576      slice_size 1048576      Shape[d_model=1024, heads=1024]                             \n",
      "INFO:tensorflow:Variable encoder/block_019/layer_000/SelfAttention/v                  size 1048576      slice_size 1048576      Shape[d_model=1024, heads=1024]                             \n",
      "INFO:tensorflow:Variable encoder/block_019/layer_000/layer_norm/scale                 size 1024         slice_size 1024         Shape[d_model=1024]                                         \n",
      "INFO:tensorflow:Variable encoder/block_019/layer_001/DenseReluDense/wi/kernel         size 4194304      slice_size 4194304      Shape[d_model=1024, d_ff=4096]                              \n",
      "INFO:tensorflow:Variable encoder/block_019/layer_001/DenseReluDense/wo/kernel         size 4194304      slice_size 4194304      Shape[d_ff=4096, d_model=1024]                              \n",
      "INFO:tensorflow:Variable encoder/block_019/layer_001/layer_norm/scale                 size 1024         slice_size 1024         Shape[d_model=1024]                                         \n",
      "INFO:tensorflow:Variable encoder/block_020/layer_000/SelfAttention/k                  size 1048576      slice_size 1048576      Shape[d_model=1024, heads=1024]                             \n",
      "INFO:tensorflow:Variable encoder/block_020/layer_000/SelfAttention/o                  size 1048576      slice_size 1048576      Shape[heads=1024, d_model=1024]                             \n",
      "INFO:tensorflow:Variable encoder/block_020/layer_000/SelfAttention/q                  size 1048576      slice_size 1048576      Shape[d_model=1024, heads=1024]                             \n",
      "INFO:tensorflow:Variable encoder/block_020/layer_000/SelfAttention/v                  size 1048576      slice_size 1048576      Shape[d_model=1024, heads=1024]                             \n",
      "INFO:tensorflow:Variable encoder/block_020/layer_000/layer_norm/scale                 size 1024         slice_size 1024         Shape[d_model=1024]                                         \n",
      "INFO:tensorflow:Variable encoder/block_020/layer_001/DenseReluDense/wi/kernel         size 4194304      slice_size 4194304      Shape[d_model=1024, d_ff=4096]                              \n",
      "INFO:tensorflow:Variable encoder/block_020/layer_001/DenseReluDense/wo/kernel         size 4194304      slice_size 4194304      Shape[d_ff=4096, d_model=1024]                              \n",
      "INFO:tensorflow:Variable encoder/block_020/layer_001/layer_norm/scale                 size 1024         slice_size 1024         Shape[d_model=1024]                                         \n",
      "INFO:tensorflow:Variable encoder/block_021/layer_000/SelfAttention/k                  size 1048576      slice_size 1048576      Shape[d_model=1024, heads=1024]                             \n",
      "INFO:tensorflow:Variable encoder/block_021/layer_000/SelfAttention/o                  size 1048576      slice_size 1048576      Shape[heads=1024, d_model=1024]                             \n",
      "INFO:tensorflow:Variable encoder/block_021/layer_000/SelfAttention/q                  size 1048576      slice_size 1048576      Shape[d_model=1024, heads=1024]                             \n",
      "INFO:tensorflow:Variable encoder/block_021/layer_000/SelfAttention/v                  size 1048576      slice_size 1048576      Shape[d_model=1024, heads=1024]                             \n",
      "INFO:tensorflow:Variable encoder/block_021/layer_000/layer_norm/scale                 size 1024         slice_size 1024         Shape[d_model=1024]                                         \n",
      "INFO:tensorflow:Variable encoder/block_021/layer_001/DenseReluDense/wi/kernel         size 4194304      slice_size 4194304      Shape[d_model=1024, d_ff=4096]                              \n",
      "INFO:tensorflow:Variable encoder/block_021/layer_001/DenseReluDense/wo/kernel         size 4194304      slice_size 4194304      Shape[d_ff=4096, d_model=1024]                              \n",
      "INFO:tensorflow:Variable encoder/block_021/layer_001/layer_norm/scale                 size 1024         slice_size 1024         Shape[d_model=1024]                                         \n",
      "INFO:tensorflow:Variable encoder/block_022/layer_000/SelfAttention/k                  size 1048576      slice_size 1048576      Shape[d_model=1024, heads=1024]                             \n",
      "INFO:tensorflow:Variable encoder/block_022/layer_000/SelfAttention/o                  size 1048576      slice_size 1048576      Shape[heads=1024, d_model=1024]                             \n",
      "INFO:tensorflow:Variable encoder/block_022/layer_000/SelfAttention/q                  size 1048576      slice_size 1048576      Shape[d_model=1024, heads=1024]                             \n",
      "INFO:tensorflow:Variable encoder/block_022/layer_000/SelfAttention/v                  size 1048576      slice_size 1048576      Shape[d_model=1024, heads=1024]                             \n",
      "INFO:tensorflow:Variable encoder/block_022/layer_000/layer_norm/scale                 size 1024         slice_size 1024         Shape[d_model=1024]                                         \n",
      "INFO:tensorflow:Variable encoder/block_022/layer_001/DenseReluDense/wi/kernel         size 4194304      slice_size 4194304      Shape[d_model=1024, d_ff=4096]                              \n",
      "INFO:tensorflow:Variable encoder/block_022/layer_001/DenseReluDense/wo/kernel         size 4194304      slice_size 4194304      Shape[d_ff=4096, d_model=1024]                              \n",
      "INFO:tensorflow:Variable encoder/block_022/layer_001/layer_norm/scale                 size 1024         slice_size 1024         Shape[d_model=1024]                                         \n",
      "INFO:tensorflow:Variable encoder/block_023/layer_000/SelfAttention/k                  size 1048576      slice_size 1048576      Shape[d_model=1024, heads=1024]                             \n",
      "INFO:tensorflow:Variable encoder/block_023/layer_000/SelfAttention/o                  size 1048576      slice_size 1048576      Shape[heads=1024, d_model=1024]                             \n",
      "INFO:tensorflow:Variable encoder/block_023/layer_000/SelfAttention/q                  size 1048576      slice_size 1048576      Shape[d_model=1024, heads=1024]                             \n",
      "INFO:tensorflow:Variable encoder/block_023/layer_000/SelfAttention/v                  size 1048576      slice_size 1048576      Shape[d_model=1024, heads=1024]                             \n",
      "INFO:tensorflow:Variable encoder/block_023/layer_000/layer_norm/scale                 size 1024         slice_size 1024         Shape[d_model=1024]                                         \n",
      "INFO:tensorflow:Variable encoder/block_023/layer_001/DenseReluDense/wi/kernel         size 4194304      slice_size 4194304      Shape[d_model=1024, d_ff=4096]                              \n",
      "INFO:tensorflow:Variable encoder/block_023/layer_001/DenseReluDense/wo/kernel         size 4194304      slice_size 4194304      Shape[d_ff=4096, d_model=1024]                              \n",
      "INFO:tensorflow:Variable encoder/block_023/layer_001/layer_norm/scale                 size 1024         slice_size 1024         Shape[d_model=1024]                                         \n",
      "INFO:tensorflow:Variable encoder/final_layer_norm/scale                               size 1024         slice_size 1024         Shape[d_model=1024]                                         \n",
      "INFO:tensorflow:Variable shared/embedding                                             size 32899072     slice_size 32899072     Shape[vocab=32128, d_model=1024]                            \n",
      "INFO:tensorflow:Trainable Variables            count: 509     Total size: 737668096        Total slice_size: 737668096      \n",
      "INFO:tensorflow:All Variables                  count: 509     Total size: 737668096        Total slice_size: 737668096      \n",
      "INFO:tensorflow:Counters:\n",
      "einsum: 4.92e+12\n",
      "einsum_unique: 4.92e+12\n",
      "output: 6.01e+10\n",
      " output/AddOperation: 2.13e+10\n",
      " output/BinaryOpWithBroadcasting: 2.27e+08\n",
      " output/Constant: 2.52e+08\n",
      " output/EinsumOperation: 1.22e+10\n",
      " output/ImportOperation: 5.34e+03\n",
      " output/MinMaxOperation: 7.55e+07\n",
      " output/OneHotOperation: 1.94e+09\n",
      " output/RangeOperation: 2.05e+03\n",
      " output/ReduceOperation: 1.24e+07\n",
      " output/ReshapeOperation: 2.14e+09\n",
      " output/ScalarAddOperation: 1.01e+08\n",
      " output/ScalarMultiplyOperation: 3.33e+08\n",
      " output/ShiftOperation: 5.12e+03\n",
      " output/SlicewiseOperation: 1.44e+10\n",
      " output/StopGradient: 6.04e+09\n",
      " output/Variable: 7.38e+08\n",
      " output/WhileLoopOperation: 2.52e+08\n",
      "output_unique: 6.01e+10\n",
      " output_unique/AddOperation: 2.13e+10\n",
      " output_unique/BinaryOpWithBroadcasting: 2.27e+08\n",
      " output_unique/Constant: 2.52e+08\n",
      " output_unique/EinsumOperation: 1.22e+10\n",
      " output_unique/ImportOperation: 5.34e+03\n",
      " output_unique/MinMaxOperation: 7.55e+07\n",
      " output_unique/OneHotOperation: 1.94e+09\n",
      " output_unique/RangeOperation: 2.05e+03\n",
      " output_unique/ReduceOperation: 1.24e+07\n",
      " output_unique/ReshapeOperation: 2.14e+09\n",
      " output_unique/ScalarAddOperation: 1.01e+08\n",
      " output_unique/ScalarMultiplyOperation: 3.33e+08\n",
      " output_unique/ShiftOperation: 5.12e+03\n",
      " output_unique/SlicewiseOperation: 1.44e+10\n",
      " output_unique/StopGradient: 6.04e+09\n",
      " output_unique/Variable: 7.38e+08\n",
      " output_unique/WhileLoopOperation: 2.52e+08\n",
      "variables: 7.38e+08\n"
     ]
    },
    {
     "name": "stdout",
     "output_type": "stream",
     "text": [
      " variables/trainable: 7.38e+08\n",
      "WARNING:tensorflow:From /home/husein/.local/lib/python3.6/site-packages/tensorflow_core/python/ops/array_ops.py:1475: where (from tensorflow.python.ops.array_ops) is deprecated and will be removed in a future version.\n",
      "Instructions for updating:\n",
      "Use tf.where in 2.0, which has the same broadcast rule as np.where\n",
      "INFO:tensorflow:Done calling model_fn.\n",
      "WARNING:tensorflow:From /home/husein/.local/lib/python3.6/site-packages/tensorflow_core/python/saved_model/signature_def_utils_impl.py:201: build_tensor_info (from tensorflow.python.saved_model.utils_impl) is deprecated and will be removed in a future version.\n",
      "Instructions for updating:\n",
      "This function will only be available through the v1 compatibility library as tf.compat.v1.saved_model.utils.build_tensor_info or tf.compat.v1.saved_model.build_tensor_info.\n",
      "INFO:tensorflow:Signatures INCLUDED in export for Classify: None\n",
      "INFO:tensorflow:Signatures INCLUDED in export for Regress: None\n",
      "INFO:tensorflow:Signatures INCLUDED in export for Predict: ['serving_default']\n",
      "INFO:tensorflow:Signatures INCLUDED in export for Train: None\n",
      "INFO:tensorflow:Signatures INCLUDED in export for Eval: None\n",
      "INFO:tensorflow:Restoring parameters from t5-large-summary/model.ckpt-346800\n",
      "INFO:tensorflow:Assets added to graph.\n",
      "INFO:tensorflow:No assets to write.\n",
      "INFO:tensorflow:SavedModel written to: output/temp-b'1602516541'/saved_model.pb\n"
     ]
    }
   ],
   "source": [
    "saved_model_path = model.export(\n",
    "    'output',\n",
    "    checkpoint_step=-1,\n",
    "    beam_size=1,\n",
    "    temperature=0.05,\n",
    "    sentencepiece_model_path='sp10m.cased.t5.model'\n",
    ")"
   ]
  },
  {
   "cell_type": "code",
   "execution_count": 11,
   "metadata": {},
   "outputs": [
    {
     "data": {
      "text/plain": [
       "'output/1602516541'"
      ]
     },
     "execution_count": 11,
     "metadata": {},
     "output_type": "execute_result"
    }
   ],
   "source": [
    "saved_model_path.decode()"
   ]
  },
  {
   "cell_type": "code",
   "execution_count": 12,
   "metadata": {},
   "outputs": [
    {
     "name": "stdout",
     "output_type": "stream",
     "text": [
      "WARNING:tensorflow:From <ipython-input-12-721f360137e2>:5: load (from tensorflow.python.saved_model.loader_impl) is deprecated and will be removed in a future version.\n",
      "Instructions for updating:\n",
      "This function will only be available through the v1 compatibility library as tf.compat.v1.saved_model.loader.load or tf.compat.v1.saved_model.load. There will be a new function for importing SavedModels in Tensorflow 2.0.\n",
      "INFO:tensorflow:Restoring parameters from output/1602516541/variables/variables\n"
     ]
    }
   ],
   "source": [
    "import tensorflow_text  \n",
    "\n",
    "tf.compat.v1.reset_default_graph()\n",
    "sess = tf.InteractiveSession()\n",
    "meta_graph_def = tf.compat.v1.saved_model.load(sess, [\"serve\"], saved_model_path.decode())\n",
    "signature_def = meta_graph_def.signature_def[\"serving_default\"]\n",
    "pred = lambda x: sess.run(\n",
    "    fetches=signature_def.outputs[\"outputs\"].name, \n",
    "    feed_dict={signature_def.inputs[\"input\"].name: x}\n",
    ")"
   ]
  },
  {
   "cell_type": "code",
   "execution_count": 13,
   "metadata": {},
   "outputs": [],
   "source": [
    "string = \"\"\"\n",
    "Amanah Kedah berpendapat jika ada Adun Pakatan Harapan atau Bersatu negeri itu mahu berpaling tadah memberikan sokongan kepada kumpulan Muafakat Nasional, mereka perku membuat kenyataan rasmi mengenainya.\n",
    "\n",
    "Pengerusi Amanah Kedah, Phahrolrazi Mohd Zawawi, berkata disebabkan tiada mana-mana Adun membuat kenyataan berhubung isu itu maka kerajaan negeri berpendapat tiada apa-apa yang berlaku.\n",
    "\n",
    "Ditemui media selepas mengadakan pertemuan tertutup lebih sejam dengan Menteri Besar, Mukhriz Mahathir, hari ini Phahrolrazi berkata pihaknya juga mendapati kerajaan negeri masih berfungsi seperti biasa.\n",
    "\n",
    "\"Kami bincang keadaan semasa, ada juga kita sentuh (cubaan menukar kerajaan negeri), tetapi kita lihat kerajaan masih berfungsi.\n",
    "\n",
    "\"Tidak ada apa-apa kenyataan dari pihak sana (pembangkang) bahawa mereka sudah cukup majoriti setakat ini,\" katanya seperti dipetik BH Online.\n",
    "\n",
    "Spekulasi mengenai pertukaran kerajaan menjadi kencang sejak semalam ekoran berlaku pertemuan tertutup pemimpin PAS dan Umno Kedah di Alor Setar semalam.\n",
    "\n",
    "Turut hadir Setiausaha Agung PAS yang juga Menteri di Jabatan Perdana Menteri, Takiyuddin Hassan, dan Menteri Besar Terengganu, Dr Ahmad Samsuri Mokhtar.  \n",
    "\n",
    "Perkembangan itu berlaku kesan tindakan PKR memecat dan menggantung sejumlah anggota mereka baru-baru ini dan dipercayai memberi kesan terhadap pendirian wakil rakyat parti itu di Kedah.\n",
    "\n",
    "Turut disebut-sebut akan beralih arah dalam perjalanan politik mereka ialah Adun Bersatu.\n",
    "\n",
    "Untuk rekod berdasarkan pecahan parti PAS menguasai kerusi terbesar dalam DUN dan lazimnya pemimpin parti itu akan menjadi pilihan menjadi menteri besar jika berlaku pertukaran kerajaan.\n",
    "\n",
    "Menurut Phahrolrazi, jika ada mana-mana wakil rakyat Bersatu atau PH mahu melompat, mereka wajar menyatakannya secara rasmi.\n",
    "\n",
    "Tanpa kenyataan begitu, katanya, Amanah beranggapan isu perubahan kerajaan negeri masih bersifat spekulasi.\n",
    "\n",
    "Timbalan Pengerusi Amanah Kedah, Dr Ismail Salleh, pula berkata ada kemungkinan Adun Bersatu, PH atau exco negeri tu yang sudah diumpan untuk membelakangkan mandat rakyat.\n",
    "\n",
    "Beliau yang juga exco Kedah berkata memang sejak dulu lagi PAS cuba menjatuhkan kerajaan negeri dengan memujuk Adun PH serta Bersatu bertindak seperti rakan mereka di Perak, Johor dan Selangor.\n",
    "\"\"\""
   ]
  },
  {
   "cell_type": "code",
   "execution_count": 14,
   "metadata": {},
   "outputs": [],
   "source": [
    "string1 = \"\"\"\n",
    "Timbalan Perdana Menteri Datuk Seri Dr Wan Azizah Wan Ismail mengakui pernah ditawarkan menjadi Perdana Menteri selepas Pakatan Harapan (PH) memenangi Pilihan Raya Umum ke-14 (PRU14) pada 9 Mei lepas.\n",
    "Pertama kali berkongsi pengalaman berkenaan kepada kira-kira 200 rakyat Malaysia di Indonesia sempena lawatan kerja pertamanya ke negara itu, Dr Wan Azizah berkata Yang di-Pertuan Agong Sultan Muhammad V memberi tawaran itu memandangkan beliau ialah Presiden PKR, yang simbolnya digunakan semua parti dalam PH pada PRU14.\n",
    "\"Bagaimanapun, saya menolak tawaran itu kerana kita berpegang kepada janji bahawa Tun Dr Mahathir Mohamad akan menjadi Perdana Menteri dan saya menjadi Timbalan Perdana Menteri,\" katanya ketika berucap pada acara itu di Kedutaan Besar Malaysia di sini malam ini.\n",
    "Mengakui PH tidak menyangka dapat menumbangkan Barisan Nasional (BN) yang memerintah selama 60 tahun, Dr Wan Azizah melahirkan rasa syukur pertukaran kerajaan selepas PRU14 dapat dijalankan secara demokratik dan aman.\n",
    "Beliau, bagaimanapun berkata PH turut tidak menyangka kerajaan diambil alih, ditinggalkan dalam keadaan jumlah hutang begitu besar dan sistem yang parah.\n",
    "Justeru, walaupun beberapa janji dalam manifesto PH pada PRU14 belum dapat ditunaikan, beliau memohon agar rakyat Malaysia supaya bersabar sebelum kerajaan membawa perubahan yang diinginkan rakyat.\n",
    "Menjawab soalan daripada seorang diaspora Malaysia sama ada kerajaan akan menilai menteri-menteri baharu dan menukar mereka yang tidak menunjukkan prestasi baik, Dr Wan Azizah berkata masih terlalu awal untuk membuat penilaian memandangkan baharu lima bulan PH mengambil alih pentadbiran kerajaan.\n",
    "\"Beri kami sedikit masa kerana kami masih dalam 'learning curve' (keluk pembelajaran),\" katanya sambil turut mengakui Perdana Menteri memberi amaran keras kepada jemaah menteri setiap kali mempengerusikan mesyuarat Kabinet supaya jangan sesekali terlibat dengan rasuah.\n",
    "Menurutnya, hanya segelintir anggota jemaah menteri mempunyai pengalaman luas dalam urusan pentadbiran kerajaan iaitu Dr Mahathir dan Menteri Dalam Negeri Tan Sri Muhyiddin Yassin, manakala Menteri Kewangan Lim Guan Eng dan Menteri Hal Ehwal Ekonomi Datuk Seri Mohamed Azmin Ali berpengalaman dalam pentadbiran kerajaan negeri.\n",
    "Dr Wan Azizah turut berkongsi kebanggaannya menjadi wanita pertama mempengerusikan mesyuarat Kabinet baru-baru ini, berikutan ketiadaan Dr Mahathir yang mengadakan lawatan ke luar negara.\n",
    "Dr Wan Azizah mengadakan lawatan kerja sehari ke Indonesia pada Selasa, lawatan pertamanya ke negara ini selepas dilantik sebagai timbalan perdana menteri pada 21 Mei lepas.\n",
    "\"\"\""
   ]
  },
  {
   "cell_type": "code",
   "execution_count": 15,
   "metadata": {},
   "outputs": [],
   "source": [
    "import re\n",
    "\n",
    "# minimum cleaning, just simply to remove newlines.\n",
    "def cleaning(string):\n",
    "    string = string.replace('\\n', ' ')\n",
    "    string = re.sub(r'[ ]+', ' ', string).strip()\n",
    "    return string\n",
    "\n",
    "string = cleaning(string)\n",
    "string1 = cleaning(string1)"
   ]
  },
  {
   "cell_type": "code",
   "execution_count": 16,
   "metadata": {},
   "outputs": [
    {
     "data": {
      "text/plain": [
       "array([b'\"Tidak ada apa-apa kenyataan dari pihak-pihak di sana (pembangkang) bahawa mereka sudah cukup majoriti setakat ini,\" kata pengerusi Sppppliiit, pemimpin Umno dan pemimpin Umno telah bertemu di sebuah hotel di Alor Setar. Spekulasi mengenai pertukaran kerajaan telah menjadi panas sejak semalam',\n",
       "       b'\"Tidak ada apa-apa kenyataan dari pihak-pihak di sana (pembangkang) bahawa mereka sudah cukup majoriti setakat ini,\" kata pengerusi Sppppliiit, pemimpin Umno dan pemimpin Umno telah bertemu di sebuah hotel di Alor Setar. Spekulasi mengenai pertukaran kerajaan telah menjadi panas sejak semalam',\n",
       "       b'\"Tidak ada apa-apa kenyataan dari pihak-pihak di sana (pembangkang) bahawa mereka sudah cukup majoriti setakat ini,\" kata pengerusi Sppppliiit, pemimpin Umno dan pemimpin Umno telah bertemu di sebuah hotel di Alor Setar. Spekulasi mengenai pertukaran kerajaan telah menjadi panas sejak semalam',\n",
       "       b'\"Tidak ada apa-apa kenyataan dari pihak-pihak di sana (pembangkang) bahawa mereka sudah cukup majoriti setakat ini,\" kata pengerusi Sppppliiit, pemimpin Umno dan pemimpin Umno telah bertemu di sebuah hotel di Alor Setar. Spekulasi mengenai pertukaran kerajaan telah menjadi panas sejak semalam',\n",
       "       b'\"Tidak ada apa-apa kenyataan dari pihak-pihak di sana (pembangkang) bahawa mereka sudah cukup majoriti setakat ini,\" kata pengerusi Sppppliiit, pemimpin Umno dan pemimpin Umno telah bertemu di sebuah hotel di Alor Setar. Spekulasi mengenai pertukaran kerajaan telah menjadi panas sejak semalam'],\n",
       "      dtype=object)"
      ]
     },
     "execution_count": 16,
     "metadata": {},
     "output_type": "execute_result"
    }
   ],
   "source": [
    "r = pred([f'ringkasan: {string}'] * 5)\n",
    "r"
   ]
  },
  {
   "cell_type": "code",
   "execution_count": 17,
   "metadata": {
    "scrolled": true
   },
   "outputs": [
    {
     "data": {
      "text/plain": [
       "array([b'Dr Wan Azizah mengakui pernah ditawarkan menjadi Perdana Menteri. Beliau bercakap pada lawatan kerja ke Indonesia pada hari Selasa. Beliau berkata Perdana Menteri telah berjanji untuk menjadi perdana menteri',\n",
       "       b'Dr Wan Azizah mengakui pernah ditawarkan menjadi Perdana Menteri. Beliau bercakap pada lawatan kerja ke Indonesia pada hari Selasa. Wan Azizah mengatakan dia tetap komited pada janji Perdana Menteri akan menjadi perdana menteri',\n",
       "       b'Dr Wan Azizah mengakui pernah ditawarkan menjadi Perdana Menteri. Beliau bercakap pada lawatan kerja ke Indonesia pada hari Selasa. Beliau berkata Perdana Menteri telah berjanji untuk menjadi perdana menteri',\n",
       "       b'Dr Wan Azizah mengakui pernah ditawarkan menjadi Perdana Menteri. Beliau bercakap pada lawatan kerja ke Indonesia pada hari Selasa. Beliau berkata Perdana Menteri telah berjanji untuk menjadi perdana menteri',\n",
       "       b'Dr Wan Azizah mengakui pernah ditawarkan menjadi Perdana Menteri. Beliau bercakap pada lawatan kerja ke Indonesia pada hari Selasa. Beliau berkata Perdana Menteri telah berjanji untuk menjadi perdana menteri'],\n",
       "      dtype=object)"
      ]
     },
     "execution_count": 17,
     "metadata": {},
     "output_type": "execute_result"
    }
   ],
   "source": [
    "r = pred([f'ringkasan: {string1}'] * 5)\n",
    "r"
   ]
  },
  {
   "cell_type": "code",
   "execution_count": 18,
   "metadata": {},
   "outputs": [
    {
     "name": "stderr",
     "output_type": "stream",
     "text": [
      "b'Skipping line 35779: expected 2 fields, saw 3\\nSkipping line 69214: expected 2 fields, saw 3\\nSkipping line 94511: expected 2 fields, saw 3\\n'\n"
     ]
    }
   ],
   "source": [
    "# blob = bucket.blob(f't5-data/newstitle.tsv')\n",
    "# blob.download_to_filename(f'newstitle.tsv')\n",
    "\n",
    "import pandas as pd\n",
    "df = pd.read_csv('newstitle.tsv', sep = '\\t', error_bad_lines=False, header = None)"
   ]
  },
  {
   "cell_type": "code",
   "execution_count": 19,
   "metadata": {
    "scrolled": true
   },
   "outputs": [
    {
     "data": {
      "text/plain": [
       "array([b'- Sebuah organisasi polis tentera yang dihormati telah melangkah ke depan dengan memberikan bantuan kepada orang-orang yang terjejas oleh wabak Evida di Sekadau, Ohio, yang mempunyai masalah kewangan yang serius. Sukarelawan mengumpulkan sekitar 25 paket sembako, beras, tepung, minyak goreng, dan mie instan, kepada warga yang sebelumnya telah didata, lapor Mus. Sebilangan paket tersebut diserahkan secara langsung kepada warga yang sebelumnya telah didata, untuk mengelakkan kerumunan. \"Semboyan kami adalah, \\'Kami tidak Sedarah, tapi lebih dari Saudara,\\'\" kata seorang pegawai kumpulan itu. \"Kekompakan dan rasa kemanusiaan kami tetap terjalin walaupun jarak yang jauh. \" Dia mengatakan bahawa warga yang belum mendapat bantuan harus merasa \"kewalahan ekonomi di tengah masa pandemi. \" Anggota perkhidmatan sosial warga juga turut sama, memberikan sumbangan amal kepada masyarakat.',\n",
       "       b'- Sebuah organisasi polis tentera yang baru dibentuk di Kabupaten Sekadau di Ohio melakukan sesuatu yang tidak pernah dilakukan sebelumnya: menghadiahkan 25 paket sembako kepada orang-orang yang sebelumnya telah didata, lapor Musa. Warga yang terjejas, misalnya, adalah antara mereka yang mendapat bantuan akibat wabak di masa pandemi, dan Yayasan Filipia -- organisasi tersebut menjelaskan bahawa mereka tidak menghadapi masalah ekonomi di tengah masa pandemi. \"Semboyan kami adalah, \\'Kami memang tidak Sedarah, tetapi lebih dari saudara\\',\" kata seorang anggota pasukan. \"Kekompakan dan rasa kemanusiaan kami tetap terjalin walaupun jarak yang berjauhan. \" Dia mengatakan bahawa kumpulan itu, yang pertama kali ditempatkan di Kabupaten Kalbar pada tahun 2006, \"selalu diharapkan kami berbagi, walaupun belum seberapa besar harapan kami bantuan diberikan bisa tepat sasaran dan meringankan beban warga. \" Anggota kumpulan lain, warga tua, anak yatim piatu di panti asuhan yang kini memerlukan bantuan, turut serta dalam aksi tersebut. (Anak lelaki \"Saudara\" ini diselamatkan dari selesema.',\n",
       "       b'- Sebuah organisasi polis tentera yang ditempatkan di Kabupaten Sekadau di Ohio melakukan sesuatu yang tidak pernah dilakukan sebelumnya: menghadiahkan 25 paket sembako kepada orang-orang yang sebelumnya telah didata, lapor Musa. Warga yang terjejas, misalnya, adalah antara mereka yang mendapat bantuan akibat wabak, dan warga yang tidak mampu, yang merupakan penerima bantuan wabak. Matlamat mereka adalah orang-orang yang kurang bernasib baik, lansia, orang-orang yang terkena penyakit, dan anak yatim piatu di panti asuhan. \"Semboyan kami adalah, \\'Kami tidak Sedarah, tapi lebih dari Saudara,\\'\" kata seorang anggota kumpulan itu. \"Kekompakan dan rasa kemanusiaan kami tetap terjalin walaupun jarak yang jauh. \" Dia mengatakan bahawa kumpulan itu, yang pertama kali ditempatkan di Kabupaten Kalbar pada tahun 2006, telah \"menggalang\" warganya \"dan hidup berdampingan dengan masyarakat. \" Matlamat mereka adalah untuk menolong orang lain, bukan hanya mereka yang memerlukan bantuan. \"Ini bukan sesuatu yang ingin anda lakukan,\" kata seorang anggota organisasi nirlaba. \"Ini adalah sesuatu yang ingin anda lakukan.',\n",
       "       b'- Sebuah organisasi polis tentera yang dihormati telah melangkah ke depan dengan memberikan bantuan kepada orang-orang yang terjejas akibat pandemik yang melanda Indonesia pada tahun 2005. Sebahagian daripada usaha itu adalah sumbangan langsung kepada warga yang sebelumnya telah didata, lapor Mus. com. Anggota kumpulan aktivis Bintara Polisi Angkatan ke-27 tahun 2005 gelombang II, yang terdiri daripada 22 orang, memberikan 25 paket sembako yang berisi beras, gula, tepung, minyak goreng, dan mie instan kepada warga yang sebelumnya telah didata. Tujuannya adalah untuk warga yang kurang mampu, lansia, dan anak yatim piatu di panti asuhan. \"Semboyan kami adalah, \\'Kami memang tidak Sedarah, tetapi lebih dari Saudara,\\'\" kata seorang penyelaras aksi baksos. \"Kekompakan dan rasa kemanusiaan kami tetap terjalin walaupun jaraknya berjauhan. \" Dia mengatakan bahawa kumpulan itu pertama kali ditempatkan di Kabupaten Kalbar pada tahun 2006, dan anggota perkhidmatan telah bergabung dengan kumpulan itu sejak itu. \"Semboyan kami adalah, \\'Kami memang tidak Sedarah, tetapi lebih dari Saudara. Kekompakan dan rasa kemanusiaan kami tetap terjalin walaupun jarak yang jauh,\" kata seorang anggota pasukan. (Bapa ini yang membantu orang-orang di Panti asuhan ini membantu.',\n",
       "       b'- Sebuah organisasi polis tentera yang berpusat di Ohio telah mengambil langkah besar untuk membuat warganya menjadi sasaran amal. Kumpulan itu, yang dikenali sebagai ZLD Polres Sekadau, memberikan 25 paket sembako kepada warga yang sebelumnya telah didata, lapor Musaz. Tujuannya adalah untuk menghindari kerumunan, terutama bagi orang-orang yang belum mendapat bantuan pemerintah. \"Semboyan kami adalah, \\'Kami tidak Sedarah, tapi lebih dari Saudara,\\'\" kata seorang wanita yang bertugas di sana. \"Kekompakan dan rasa kemanusiaan kami tetap terjalin meskipun jarak yang jauh. \" Kumpulan itu, yang pertama kali ditempatkan pada tahun 2006, telah menjadi bagian dari organisasi itu dan membangun organisasi itu bersama dengan 34 anggota. \"Semboyan kami adalah, \\'Kami memang tidak Sedarah, tetapi lebih dari Saudara. Kekompakan dan rasa kemanusiaan kami tetap terjalin walaupun jarak yang jauh,\" kata seorang pegawai kumpulan itu.'],\n",
       "      dtype=object)"
      ]
     },
     "execution_count": 19,
     "metadata": {},
     "output_type": "execute_result"
    }
   ],
   "source": [
    "r = pred([f'ringkasan: {df.iloc[0,0]}'] * 5)\n",
    "r"
   ]
  },
  {
   "cell_type": "code",
   "execution_count": 20,
   "metadata": {},
   "outputs": [
    {
     "data": {
      "text/plain": [
       "'Ketua MPR RI Bambang Soesatyo (Bamsoet) bersama Direksi PT Binabakti Niagaperkasa Andri Noviar, menyerahkan bantuan mobil ambulans kepada organisasi kemasyarakatan Gerakan Keadilan Bangun Solidaritas (GERAK BS). Nantinya, ambulans tersebut akan difungsikan untuk melayani kebutuhan masyarakat, khususnya yang kurang mampu secara gratis dalam menghadapi pandemi COVID-19. \"Kebutuhan masyarakat terhadap ambulans sangat tinggi, apalagi di tengah pandemi COVID-19 yang membuat kesadaran masyarakat terhadap akses kesehatan meningkat. Bagi mereka yang kurang mampu, menyewa ambulans yang disiapkan rumah sakit menjadi beban tersendiri. Karena itu kehadiran GERAK BS yang mengoperasikan ambulans gratis untuk masyarakat, merupakan sebuah terobosan yang patut ditiru oleh berbagai lembaga organisasi kemasyarakatan lainnya,\" ujarnya dalam keterangan, Senin (13/4/2020). Bamsoet menilai, ambulans sudah memiliki standar pelayanan kesehatan yang memadai. Sehingga masyarakat tak perlu lagi ke rumah sakit menggunakan transportasi yang kurang layak, yang justru malah membuat pasien yang sudah sakit menjadi lebih menderita. \"Tak semua warga memiliki kendaraan layak yang aman dan nyaman yang bisa digunakan sebagai transportasi dari dan ke rumah sakit. Tak jarang ditemui, pasien yang berasal dari kalangan tidak mampu malah menuju rumah sakit dengan berjalan kaki. Kehadiran ambulans GERAK BS diharapkan bisa menghindari pasien kurang mampu dari risiko cidera yang lebih besar akibat ketidakmampuannya mengakses pelayanan ambulans,\" jelasnya. Bamsoet berharap kehadiran ambulans GERAK BS ini dapat menekan angka kematian akibat pasien terlambat datang ke rumah sakit. Selain itu, ia juga berharap ambulans bisa memudahkan perpindahan pasien kritis dari satu rumah sakit ke rumah sakit rujukan lainnya. \"Tak semua rumah sakit memiliki ambulans dengan jumlah armada yang memadai. Jika Pun ada, harganya relatif tak murah. Ambulans GERAK BS dirancang sebagai armada yang serbaguna dan multifungsi sehingga bisa memenuhi kebutuhan masyarakat, khususnya yang kurang mampu, secara layak, aman, dan nyaman,\" pungkasnya.'"
      ]
     },
     "execution_count": 20,
     "metadata": {},
     "output_type": "execute_result"
    }
   ],
   "source": [
    "df.iloc[1,0]"
   ]
  },
  {
   "cell_type": "code",
   "execution_count": 21,
   "metadata": {
    "scrolled": false
   },
   "outputs": [
    {
     "data": {
      "text/plain": [
       "array([b'- Ketua MPR RI Bambang Soesatyo memberikan penjelasan mengenai keputusan untuk menyewa ambulans kepada masyarakat yang kurang mampu, lapor Ap. \"Kebutuhan masyarakat terhadap ambulans sangat tinggi, apalagi di tengah pandemi COVID-19 yang membuat kesadaran masyarakat terhadap akses kesehatan meningkat,\" katanya dalam keterangan yang dikeluarkan oleh Kepala Kepala MPR RI. \"Bagi mereka yang kurang mampu, menyewa ambulans yang disiapkan rumah sakit menjadi beban tersendiri. \" Dia menjelaskan bahawa ambulans sudah mempunyai standard perkhidmatan kesihatan yang memadai, sehingga masyarakat tidak perlu lagi ke rumah sakit untuk menggunakan transportasi yang kurang layak. \"Tak semua warga memiliki kendaraan layak yang aman dan nyaman yang bisa digunakan sebagai transportasi dari dan ke rumah sakit,\" tambahnya. \"Tak jarang berlaku, pasien yang berasal dari kalangan tidak mampu malah menuju rumah sakit dengan berjalan kaki. \" Dia juga menyatakan bahawa ambulans dapat membantu memindahkan pasien yang sakit ke satu rumah sakit, dan juga membantu memindahkan pasien yang sakit parah ke yang lain. \"Tak semua orang memiliki ambulans dengan jumlah armada yang memadai. Jika pun ada, harganya relatif murah.',\n",
       "       b'- Ketua MPR RI Bambang Soesatyo memberikan penjelasan mengenai keputusan untuk menyewa ambulans kepada masyarakat yang kurang mampu, lapor Ap. \"Kebutuhan masyarakat terhadap ambulans sangat tinggi, apalagi di tengah pandemi COVID-19 yang membuat kesadaran masyarakat terhadap akses kesehatan meningkat,\" katanya dalam keterangan yang dikeluarkan oleh Kepala Dad. \"Bagi mereka yang kurang mampu, menyewa ambulans yang disiapkan rumah sakit menjadi beban tersendiri. \" Dia menjelaskan bahawa masyarakat tidak perlu lagi menggunakan pengangkutan yang tidak layak, yang juga membuat pasien yang sakit menjadi lebih menderita. \"Tak semua warga memiliki kendaraan yang aman dan nyaman yang bisa digunakan sebagai transportasi dari dan ke rumah sakit,\" tambahnya. \"Tak jarang berlaku, pasien yang berasal dari kalangan tidak mampu malah menuju rumah sakit dengan berjalan kaki. \" Dia juga menyatakan bahawa ambulans akan membantu memindahkan pasien yang sakit ke rumah sakit rujukan lain.',\n",
       "       b'- Ketua MPR RI Bambang Soesatyo memberikan penjelasan mengenai keputusan untuk menyewa ambulans kepada masyarakat yang kurang mampu, lapor Ap. \"Kebutuhan masyarakat terhadap ambulans sangat tinggi, apalagi di tengah pandemi COVID-19 yang membuat kesadaran masyarakat terhadap akses kesehatan meningkat,\" kata pemimpin kumpulan itu dalam keterangan hari ini. \"Bagi mereka yang kurang mampu, menyewa ambulans yang disiapkan rumah sakit menjadi beban tersendiri. \" Dia menjelaskan bahawa masyarakat tidak perlu lagi menggunakan pengangkutan yang tidak layak, yang sering kali membuat pasien yang sudah sakit sakit sakit berjalan kaki. \"Kehadiran ambulans GERAK BS diharapkan dapat mencegah pasien kurang mampu dari risiko cidera yang lebih besar akibat ketidakmampuannya mengakses perkhidmatan ambulans,\" tambahnya.',\n",
       "       b'- Ketua MPR RI Bambang Soesatyo memberikan penjelasan mengenai keputusan untuk menyewa ambulans kepada masyarakat yang kurang mampu, lapor Ap. \"Kebutuhan masyarakat terhadap ambulans sangat tinggi, apalagi di tengah pandemi COVID-19 yang membuat kesadaran masyarakat terhadap akses kesehatan meningkat,\" katanya dalam keterangan yang dikeluarkan oleh Kepala Dad. \"Bagi mereka yang kurang mampu, menyewa ambulans yang disiapkan rumah sakit menjadi beban tersendiri. \" Dia menjelaskan bahawa masyarakat tidak perlu lagi menggunakan pengangkutan yang tidak layak, yang sering kali membuat pasien yang sudah sakit sakit sakit berjalan kaki. \"Kehadiran ambulans GERAK BS diharapkan dapat mencegah pasien kurang mampu dari risiko cidera yang lebih besar akibat ketidakmampuannya mengakses perkhidmatan ambulans,\" tambahnya. (Sebuah keluarga yang kehilangan anggota perkhidmatan di Ohio meninggal dunia akibat penyakit itu.',\n",
       "       b'- Ketua MPR RI Bambang Soesatyo memberikan penjelasan mengenai keputusan untuk menyewa ambulans kepada masyarakat yang kurang mampu, lapor Ap. \"Kebutuhan masyarakat terhadap ambulans sangat tinggi, apalagi di tengah pandemi COVID-19 yang membuat kesadaran masyarakat terhadap akses kesehatan meningkat,\" katanya dalam keterangan yang dikeluarkan oleh Kepala Kepala MPR RI. \"Bagi mereka yang kurang mampu, menyewa ambulans yang disiapkan rumah sakit menjadi beban tersendiri. \" Dia menjelaskan bahawa masyarakat tidak perlu lagi menggunakan pengangkutan yang tidak layak, yang juga membuat pasien yang sudah sakit menjadi lebih menderita. \"Tak semua warga memiliki kendaraan layak yang aman dan nyaman yang bisa digunakan sebagai transportasi dari dan ke rumah sakit,\" tambahnya. \"Tak jarang berlaku, pasien yang berasal dari kalangan tidak mampu malah menuju rumah sakit dengan berjalan kaki. \" Dia juga menyatakan bahawa ambulans akan membantu memindahkan pasien yang sakit ke rumah sakit rujukan lain.'],\n",
       "      dtype=object)"
      ]
     },
     "execution_count": 21,
     "metadata": {},
     "output_type": "execute_result"
    }
   ],
   "source": [
    "r = pred([f'ringkasan: {df.iloc[1,0]}'] * 5)\n",
    "r"
   ]
  },
  {
   "cell_type": "code",
   "execution_count": 22,
   "metadata": {},
   "outputs": [
    {
     "data": {
      "text/plain": [
       "'Bupati Purwakarta tak mewajibkan siswa dari tingkat ekonomi keluarga yang kurang mampu untuk menggunakan seragam sekolah. Kebijakan baru tersebut dikeluarkan bertepatan dengan dimulainya Kegiatan Belajar Mengajar (KBM) tahun ajaran 2017/2018. Aturan ini akan langsung diberlakukan pada tahun ajaran baru ini. \"Tidak boleh ada paksaan bagi pelajar SD dan SMP di Purwakarta untuk mengenakan seragam sekolah jika kondisi ekonomi pelajar tersebut dinilai kurang mampu,\" ujar Bupati Purwakarta Dedi Mulyadi sebagaimana dikutip Antara, Selasa (18/7/2017). \"Harus dilakukan identifikasi, berapa pelajar yang keadaan ekonominya mapan, dan berapa pelajar yang keadaan ekonominya rawan. Kita gotong-royong saja untuk membantu yang kurang mampu,\" imbuh Dedi. Ia juga menyerukan agar pihak-pihak dari keluarga mampu mau berempati kepada saudara-saudara di sekitarnya yang kurang mampu. Dedi mengaku akan sangat mengapresiasi jika ada warga dengan kondisi ekonomi mampu mau turut membantu warga-warga lain yang memiliki kondisi perekonomian kurang mampu. \"Saya sampaikan, tidak ada paksaan untuk mengenakan seragam. Boleh nanti pelajar yang ekonomi keluarganya dinilai mampu itu membantu pelajar yang keadaan ekonominya kurang mampu,\" ujarnya. Sebelumnya, Dedi juga sempat membuat kebijakan unik dalam hal pendidikan. Ia menganjurkan agar para siswa di Purwakarta membiasakan berangkat sekolah dengan berjalan kaki. Di wilayah perkotaan, Pemkab Purwakarta menunjuk SMPN 1 Purwakarta, SMPN 3 Purwakarta, SMPN 6 Purwakarta, SMPN 7 Purwakarta, SMPN 8 Purwakarta, SMPN 9 Purwakarta dan SMPN 10 Purwakarta sebagai sekolah percontohan pelajar berjalan kaki ke sekolah. Sedangkan di pedesaan, tidak ada sekolah yang dijadikan percontohan. Hal ini dikarenakan para siswa di desa dianggap sudah terbiasa berangkat sekolah dengan berjalan kaki. Dedi merupakan salah satu pejabat yang digadang-gadang bakal maju dalam bursa Pemilihan Gubernur (Pilgub) Jawa Barat pada 2018 mendatang. Namanya sendiri akan direkomendasikan oleh Partai Golkar untuk masuk pada bursa Pilgub. Keputusan tersebut dihasilkan berdasarkan hasil Rakor Pilkada DPD Partai Golkar Jawa Barat yang telah dilaksanakan pada Minggu (9/7/2017) lalu. tirto.id - Pemerintah Kabupaten (Pemkab) Purwakarta tidak mewajibkan siswa dari keluarga dengan perekonomian kurang mampu untuk menggunakan seragam. Langkah ini dilakukan menyusul adanya keluhan dari sejumlah orang tua murid karena tidak mampu membeli seragam, sepatu, serta peralatan sekolah.Kebijakan baru tersebut dikeluarkan bertepatan dengan dimulainya Kegiatan Belajar Mengajar (KBM) tahun ajaran 2017/2018. Aturan ini akan langsung diberlakukan pada tahun ajaran baru ini.\"Tidak boleh ada paksaan bagi pelajar SD dan SMP di Purwakarta untuk mengenakan seragam sekolah jika kondisi ekonomi pelajar tersebut dinilai kurang mampu,\" ujar Bupati Purwakarta Dedi Mulyadi sebagaimana dikutip Antara, Selasa (18/7/2017). Untuk menjalankan langkah tersebut, Dedi meminta pihak sekolah agar melakukan identifikasi terhadap kondisi ekonomi pelajar di masing-masing sekolah. Proses identifikasi ini tentunya penting agar aturan baru tersebut tidak disalahgunakan demi kebebasan pihak-pihak yang tidak bertanggungjawab.\"Harus dilakukan identifikasi, berapa pelajar yang keadaan ekonominya mapan, dan berapa pelajar yang keadaan ekonominya rawan. Kita gotong-royong saja untuk membantu yang kurang mampu,\" imbuh Dedi.Ia juga menyerukan agar pihak-pihak dari keluarga mampu mau berempati kepada saudara-saudara di sekitarnya yang kurang mampu. Dedi mengaku akan sangat mengapresiasi jika ada warga dengan kondisi ekonomi mampu mau turut membantu warga-warga lain yang memiliki kondisi perekonomian kurang mampu.\"Saya sampaikan, tidak ada paksaan untuk mengenakan seragam. Boleh nanti pelajar yang ekonomi keluarganya dinilai mampu itu membantu pelajar yang keadaan ekonominya kurang mampu,\" ujarnya.Sebelumnya, Dedi juga sempat membuat kebijakan unik dalam hal pendidikan. Ia menganjurkan agar para siswa di Purwakarta membiasakan berangkat sekolah dengan berjalan kaki.Di wilayah perkotaan, Pemkab Purwakarta menunjuk SMPN 1 Purwakarta, SMPN 3 Purwakarta, SMPN 6 Purwakarta, SMPN 7 Purwakarta, SMPN 8 Purwakarta, SMPN 9 Purwakarta dan SMPN 10 Purwakarta sebagai sekolah percontohan pelajar berjalan kaki ke sekolah.Sedangkan di pedesaan, tidak ada sekolah yang dijadikan percontohan. Hal ini dikarenakan para siswa di desa dianggap sudah terbiasa berangkat sekolah dengan berjalan kaki.Dedi merupakan salah satu pejabat yang digadang-gadang bakal maju dalam bursa Pemilihan Gubernur (Pilgub) Jawa Barat pada 2018 mendatang. Namanya sendiri akan direkomendasikan oleh Partai Golkar untuk masuk pada bursa Pilgub. Keputusan tersebut dihasilkan berdasarkan hasil Rakor Pilkada DPD Partai Golkar Jawa Barat yang telah dilaksanakan pada Minggu (9/7/2017) lalu.'"
      ]
     },
     "execution_count": 22,
     "metadata": {},
     "output_type": "execute_result"
    }
   ],
   "source": [
    "df.iloc[2,0]"
   ]
  },
  {
   "cell_type": "code",
   "execution_count": 23,
   "metadata": {},
   "outputs": [
    {
     "name": "stdout",
     "output_type": "stream",
     "text": [
      "CPU times: user 30.7 s, sys: 5.12 s, total: 35.8 s\n",
      "Wall time: 14.1 s\n"
     ]
    },
    {
     "data": {
      "text/plain": [
       "array([b'- Ibu bapa pelajar yang tidak mampu membeli seragam sekolah di Massachusetts tidak perlu mengikutinya -- dan tidak mahu anak-anak mereka memakainya. Pemerintah Kabupaten Purwakarta, yang memulai Kegiatan Belajar Mengajar (KBM) tahun ajaran 2017/2018, mengatakan langkah itu adalah sebagai tindak balas terhadap keluhan dari ibu bapa yang tidak mampu, lapor New York Times. \"Harus dilakukan identifikasi, berapa pelajar yang keadaan ekonominya mapan, dan berapa pelajar yang keadaan ekonominya rawan,\" kata gubernur, Dedi Mulyadi, Selasa. \"Kita gotong-royong saja untuk membantu yang kurang mampu. \" Sekolah tersebut meminta pihak sekolah untuk melaksanakan langkah tersebut, dan peraturan itu akan terus dilaksanakan pada tahun ajaran baru. Minggu lalu, Pemerintah John Daly mengumumkan bahawa peraturan itu akan membolehkan anak-anak di daerah luar bandar memilih untuk tidak memilih, lapor Ap.',\n",
       "       b'- Ibu bapa pelajar yang tidak mampu membeli seragam sekolah di Massachusetts tidak perlu mengikutinya -- dan tidak mahu anak-anak mereka memakainya. Pemerintah Kabupaten Purwakarta, yang memulai Kegiatan Belajar Mengajar (KBM) tahun ajaran 2017/2018, mengatakan langkah itu adalah sebagai tindak balas terhadap keluhan dari ibu bapa yang tidak mampu, lapor New York Times. \"Harus dilakukan identifikasi, berapa pelajar yang keadaan ekonominya mapan, dan berapa pelajar yang keadaan ekonominya rawan,\" kata gubernur, Dedi Mulyadi, dalam siaran pers. \"Kita gotong-royong saja untuk membantu yang kurang mampu. \" Sekolah tersebut meminta pihak sekolah untuk melaksanakan langkah tersebut, dan peraturan itu akan terus dilaksanakan pada tahun ajaran baru. Minggu lalu, Pemerintah John Daly mengumumkan perubahan serupa, yang akan menjadikan anak-anak lebih terjangkau. \"Saya tahu bahawa jika kita dapat berempati dengan orang lain, kita dapat melakukan sesuatu untuk menolong mereka,\" katanya. \"Tetapi saya juga tahu bahawa jika kita dapat berempati dengan orang lain, kita dapat melakukan sesuatu untuk menolong mereka yang mempunyai keadaan perekonomian kurang mampu. \" (Sekolah ini juga ingin menolong pelajar lain yang kurang mampu.',\n",
       "       b'- Ibu bapa pelajar yang tidak mampu membeli seragam sekolah di Massachusetts tidak perlu mengikutinya -- dan tidak mahu anak-anak mereka memakainya. Pemerintah Kabupaten Purwakarta, yang memulai Kegiatan Belajar Mengajar (KBM) tahun ajaran 2017/2018, mengatakan bahawa ia tidak mewajibkan pelajar dari keluarga dengan perekonomian yang kurang mampu untuk menggunakan seragam, lapor Berita Harian. \"Harus dilakukan identifikasi, berapa pelajar yang keadaan ekonominya mapan, dan berapa pelajar yang keadaan ekonominya rawan,\" kata Dedi dalam satu kenyataan. \"Kita hanya berempati dengan saudara-saudara di sekitarnya yang kurang mampu. \" Sekolah tersebut telah menerima aduan dari ibu bapa dan guru yang mengatakan bahawa mereka tidak mampu membeli seragam, kasut, dan peralatan sekolah. Dedi mengatakan bahawa dia akan sangat mengapresiasi warga yang mempunyai keadaan ekonominya yang kurang mampu, dan juga mengatakan bahawa jika ada warga yang mempunyai keadaan ekonomi yang mampu mau bergabung dengan orang lain, \"Saya akan mengatakan, tidak ada paksaan untuk mengenakan seragam. Boleh nanti pelajar yang ekonomi keluarganya dinilai mampu itu membantu pelajar yang keadaan ekonominya kurang mampu. \" (Seorang ibu bapa mengadu tentang anak-anak mereka yang berusia 6 tahun yang tidak mampu membeli seragam sekolah.',\n",
       "       b'- Ibu bapa pelajar yang tidak mampu membeli seragam sekolah di Massachusetts tidak perlu mengikutinya -- dan tidak mahu anak-anak mereka memakainya. Pemerintah Kabupaten Purwakarta, yang memulai Kegiatan Belajar Mengajar (KBM) tahun ajaran 2017/2018, mengatakan bahawa ia tidak mewajibkan pelajar dari keluarga dengan perekonomian yang kurang mampu untuk menggunakan seragam, lapor Berita Harian. \"Harus dilakukan identifikasi, berapa pelajar yang keadaan ekonominya mapan, dan berapa pelajar yang keadaan ekonominya rawan,\" kata Dedi dalam satu kenyataan. \"Kita hanya berempati dengan saudara-saudara di sekitarnya yang kurang mampu. \" Sekolah tersebut telah menerima aduan dari ibu bapa dan guru yang mengatakan bahawa mereka tidak mampu membeli seragam, kasut, dan peralatan sekolah. Dedi mengatakan bahawa dia akan sangat mengapresiasi warga yang mempunyai keadaan ekonominya yang kurang mampu, dan juga mengatakan bahawa jika ada warga yang mempunyai keadaan ekonomi yang mampu mau bergabung dengan orang lain, \"Saya akan mengatakan, tidak ada paksaan untuk mengenakan seragam. Boleh nanti pelajar yang ekonomi keluarganya dinilai mampu itu membantu pelajar yang keadaan ekonominya kurang mampu. \" (Seorang ibu bapa mengadu tentang anak-anak mereka yang berusia 6 tahun yang tidak mampu membeli seragam sekolah.',\n",
       "       b'- Ibu bapa pelajar yang tidak mampu membeli seragam sekolah di Massachusetts tidak perlu mengikutinya -- dan tidak mahu anak-anak mereka memakainya. Pemerintah Kabupaten Purwakarta, yang memulai Kegiatan Belajar Mengajar (KBM) tahun ajaran 2017/2018, mengatakan bahawa ia tidak mewajibkan pelajar dari keluarga dengan perekonomian yang kurang mampu untuk menggunakan seragam, lapor Berita Harian. \"Harus dilakukan identifikasi, berapa pelajar yang keadaan ekonominya mapan, dan berapa pelajar yang keadaan ekonominya rawan,\" kata Dedi dalam satu kenyataan. \"Kita hanya berempati dengan saudara-saudara di sekitarnya yang kurang mampu. \" Sekolah tersebut telah menerima aduan dari ibu bapa dan guru yang mengatakan bahawa mereka tidak mampu membeli seragam, kasut, dan peralatan sekolah. Dedi mengatakan bahawa dia akan sangat mengapresiasi warga yang mempunyai keadaan ekonominya yang kurang mampu, dan juga mengatakan bahawa jika ada warga yang mempunyai keadaan ekonomi yang mampu mau bergabung dengan orang lain, \"Saya akan katakan, tidak ada paksaan untuk mengenakan seragam. Boleh nanti pelajar yang ekonomi keluarganya dinilai mampu itu membantu pelajar yang keadaan ekonominya kurang mampu. \" (Seorang ibu bapa mengadu tentang anak-anak mereka yang berusia 6 tahun yang tidak mampu membeli seragam sekolah.'],\n",
       "      dtype=object)"
      ]
     },
     "execution_count": 23,
     "metadata": {},
     "output_type": "execute_result"
    }
   ],
   "source": [
    "%%time\n",
    "\n",
    "r = pred([f'ringkasan: {df.iloc[2,0]}'] * 5)\n",
    "r"
   ]
  },
  {
   "cell_type": "code",
   "execution_count": 24,
   "metadata": {},
   "outputs": [
    {
     "data": {
      "text/plain": [
       "(156683, 2)"
      ]
     },
     "execution_count": 24,
     "metadata": {},
     "output_type": "execute_result"
    }
   ],
   "source": [
    "df.shape"
   ]
  },
  {
   "cell_type": "code",
   "execution_count": null,
   "metadata": {},
   "outputs": [],
   "source": []
  }
 ],
 "metadata": {
  "kernelspec": {
   "display_name": "Python 3",
   "language": "python",
   "name": "python3"
  },
  "language_info": {
   "codemirror_mode": {
    "name": "ipython",
    "version": 3
   },
   "file_extension": ".py",
   "mimetype": "text/x-python",
   "name": "python",
   "nbconvert_exporter": "python",
   "pygments_lexer": "ipython3",
   "version": "3.6.8"
  }
 },
 "nbformat": 4,
 "nbformat_minor": 2
}
