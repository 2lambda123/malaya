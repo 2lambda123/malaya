{
 "cells": [
  {
   "cell_type": "code",
   "execution_count": 1,
   "metadata": {},
   "outputs": [
    {
     "name": "stderr",
     "output_type": "stream",
     "text": [
      "/usr/local/lib/python3.6/dist-packages/sklearn/cross_validation.py:41: DeprecationWarning: This module was deprecated in version 0.18 in favor of the model_selection module into which all the refactored classes and functions are moved. Also note that the interface of the new CV iterators are different from that of this module. This module will be removed in 0.20.\n",
      "  \"This module will be removed in 0.20.\", DeprecationWarning)\n"
     ]
    }
   ],
   "source": [
    "import re\n",
    "import numpy as np\n",
    "import pandas as pd\n",
    "import collections\n",
    "from sklearn import metrics\n",
    "from sklearn.cross_validation import train_test_split\n",
    "from sklearn.feature_extraction.text import CountVectorizer\n",
    "from sklearn.preprocessing import LabelEncoder\n",
    "from unidecode import unidecode\n",
    "import tensorflow as tf\n",
    "import pandas as pd\n",
    "from tqdm import tqdm\n",
    "import time"
   ]
  },
  {
   "cell_type": "code",
   "execution_count": 2,
   "metadata": {},
   "outputs": [],
   "source": [
    "permulaan = [\n",
    "    'bel',\n",
    "    'se',\n",
    "    'ter',\n",
    "    'men',\n",
    "    'meng',\n",
    "    'mem',\n",
    "    'memper',\n",
    "    'di',\n",
    "    'pe',\n",
    "    'me',\n",
    "    'ke',\n",
    "    'ber',\n",
    "    'pen',\n",
    "    'per',\n",
    "]\n",
    "\n",
    "hujung = ['kan', 'kah', 'lah', 'tah', 'nya', 'an', 'wan', 'wati', 'ita']\n",
    "\n",
    "def naive_stemmer(word):\n",
    "    assert isinstance(word, str), 'input must be a string'\n",
    "    hujung_result = [e for e in hujung if word.endswith(e)]\n",
    "    if len(hujung_result):\n",
    "        hujung_result = max(hujung_result, key = len)\n",
    "        if len(hujung_result):\n",
    "            word = word[: -len(hujung_result)]\n",
    "    permulaan_result = [e for e in permulaan if word.startswith(e)]\n",
    "    if len(permulaan_result):\n",
    "        permulaan_result = max(permulaan_result, key = len)\n",
    "        if len(permulaan_result):\n",
    "            word = word[len(permulaan_result) :]\n",
    "    return word"
   ]
  },
  {
   "cell_type": "code",
   "execution_count": 3,
   "metadata": {},
   "outputs": [],
   "source": [
    "def classification_textcleaning(string):\n",
    "    string = re.sub(\n",
    "        'http\\S+|www.\\S+',\n",
    "        '',\n",
    "        ' '.join(\n",
    "            [i for i in string.split() if i.find('#') < 0 and i.find('@') < 0]\n",
    "        ),\n",
    "    )\n",
    "    string = unidecode(string).replace('.', ' . ').replace(',', ' , ')\n",
    "    string = re.sub('[^A-Za-z ]+', ' ', string)\n",
    "    string = re.sub(r'[ ]+', ' ', string).strip()\n",
    "    string = ' '.join(\n",
    "        [i for i in re.findall('[\\\\w\\']+|[;:\\-\\(\\)&.,!?\"]', string) if len(i)]\n",
    "    )\n",
    "    string = string.lower().split()\n",
    "    string = [naive_stemmer(word) for word in string]\n",
    "    return ' '.join([word for word in string if len(word) > 1])\n",
    "\n",
    "def convert_sparse_matrix_to_sparse_tensor(X):\n",
    "    coo = X.tocoo()\n",
    "    indices = np.mat([coo.row, coo.col]).transpose()\n",
    "    return tf.SparseTensorValue(indices, coo.col, coo.shape), tf.SparseTensorValue(indices, coo.data, coo.shape)"
   ]
  },
  {
   "cell_type": "code",
   "execution_count": 4,
   "metadata": {},
   "outputs": [
    {
     "data": {
      "text/plain": [
       "['translated-joy',\n",
       " 'translated-love',\n",
       " 'translated-fear',\n",
       " 'translated-sadness',\n",
       " 'translated-surprise',\n",
       " 'translated-anger']"
      ]
     },
     "execution_count": 4,
     "metadata": {},
     "output_type": "execute_result"
    }
   ],
   "source": [
    "import os\n",
    "emotion_files = [f for f in os.listdir(os.getcwd()) if 'translated-' in f]\n",
    "emotion_files"
   ]
  },
  {
   "cell_type": "code",
   "execution_count": 5,
   "metadata": {},
   "outputs": [],
   "source": [
    "texts, labels = [], []\n",
    "for f in emotion_files:\n",
    "    with open(f) as fopen:\n",
    "        dataset = list(filter(None, fopen.read().split('\\n')))\n",
    "        labels.extend([f.split('-')[1]] * len(dataset))\n",
    "        texts.extend(dataset)"
   ]
  },
  {
   "cell_type": "code",
   "execution_count": 6,
   "metadata": {},
   "outputs": [
    {
     "data": {
      "text/plain": [
       "['anger', 'fear', 'joy', 'love', 'sadness', 'surprise']"
      ]
     },
     "execution_count": 6,
     "metadata": {},
     "output_type": "execute_result"
    }
   ],
   "source": [
    "unique_labels = np.unique(labels).tolist()\n",
    "labels = LabelEncoder().fit_transform(labels)\n",
    "unique_labels"
   ]
  },
  {
   "cell_type": "code",
   "execution_count": 7,
   "metadata": {},
   "outputs": [],
   "source": [
    "x, y = [], []\n",
    "for i in range(len(texts)):\n",
    "    s = classification_textcleaning(texts[i])\n",
    "    if len(s) > 5:\n",
    "        x.append(s)\n",
    "        y.append(labels[i])"
   ]
  },
  {
   "cell_type": "code",
   "execution_count": 8,
   "metadata": {},
   "outputs": [],
   "source": [
    "bow_chars = CountVectorizer(ngram_range=(3, 5), analyzer='char_wb', max_features=300000).fit(texts)\n",
    "delattr(bow_chars, 'stop_words_')"
   ]
  },
  {
   "cell_type": "code",
   "execution_count": 9,
   "metadata": {},
   "outputs": [
    {
     "data": {
      "text/plain": [
       "86078"
      ]
     },
     "execution_count": 9,
     "metadata": {},
     "output_type": "execute_result"
    }
   ],
   "source": [
    "feature_shape = bow_chars.transform(texts[:1]).shape[1]\n",
    "feature_shape"
   ]
  },
  {
   "cell_type": "code",
   "execution_count": 10,
   "metadata": {},
   "outputs": [],
   "source": [
    "class Model:\n",
    "    def __init__(self, output_size, vocab_size, learning_rate):\n",
    "        self.X = tf.sparse_placeholder(tf.int32)\n",
    "        self.W = tf.sparse_placeholder(tf.int32)\n",
    "        self.Y = tf.placeholder(tf.int32, [None])\n",
    "        embeddings = tf.Variable(tf.truncated_normal([vocab_size,128]))\n",
    "        embed = tf.nn.embedding_lookup_sparse(embeddings, self.X, self.W, combiner='mean')\n",
    "        self.logits = tf.layers.dense(embed, output_size)\n",
    "        self.cost = tf.reduce_mean(tf.nn.sparse_softmax_cross_entropy_with_logits(\n",
    "            logits = self.logits, labels = self.Y))\n",
    "        self.optimizer = tf.train.AdamOptimizer(learning_rate = learning_rate).minimize(self.cost)\n",
    "        correct_pred = tf.equal(tf.argmax(self.logits, 1,output_type=tf.int32), self.Y)\n",
    "        self.accuracy = tf.reduce_mean(tf.cast(correct_pred, tf.float32))"
   ]
  },
  {
   "cell_type": "code",
   "execution_count": 11,
   "metadata": {},
   "outputs": [
    {
     "name": "stderr",
     "output_type": "stream",
     "text": [
      "/usr/local/lib/python3.6/dist-packages/tensorflow/python/ops/gradients_impl.py:112: UserWarning: Converting sparse IndexedSlices to a dense Tensor of unknown shape. This may consume a large amount of memory.\n",
      "  \"Converting sparse IndexedSlices to a dense Tensor of unknown shape. \"\n"
     ]
    }
   ],
   "source": [
    "sess = tf.InteractiveSession()\n",
    "model = Model(len(unique_labels), feature_shape, 1e-4)\n",
    "sess.run(tf.global_variables_initializer())"
   ]
  },
  {
   "cell_type": "code",
   "execution_count": 12,
   "metadata": {},
   "outputs": [
    {
     "data": {
      "text/plain": [
       "'fast-text-char/model.ckpt'"
      ]
     },
     "execution_count": 12,
     "metadata": {},
     "output_type": "execute_result"
    }
   ],
   "source": [
    "saver = tf.train.Saver(tf.trainable_variables())\n",
    "saver.save(sess, 'fast-text-char/model.ckpt')"
   ]
  },
  {
   "cell_type": "code",
   "execution_count": 13,
   "metadata": {},
   "outputs": [],
   "source": [
    "vectors = bow_chars.transform(texts)\n",
    "train_X, test_X, train_Y, test_Y = train_test_split(\n",
    "    vectors, labels, test_size = 0.2\n",
    ")"
   ]
  },
  {
   "cell_type": "code",
   "execution_count": 14,
   "metadata": {},
   "outputs": [
    {
     "name": "stderr",
     "output_type": "stream",
     "text": [
      "train minibatch loop: 100%|██████████| 2463/2463 [00:34<00:00, 70.78it/s, accuracy=0.357, cost=1.7]  \n",
      "test minibatch loop: 100%|██████████| 616/616 [00:01<00:00, 380.79it/s, accuracy=0.435, cost=1.58]\n",
      "train minibatch loop:   0%|          | 8/2463 [00:00<00:34, 70.91it/s, accuracy=0.406, cost=1.63]"
     ]
    },
    {
     "name": "stdout",
     "output_type": "stream",
     "text": [
      "epoch: 0, pass acc: 0.000000, current acc: 0.435818\n",
      "time taken: 36.526482820510864\n",
      "epoch: 0, training loss: 1.719506, training acc: 0.311557, valid loss: 1.642083, valid acc: 0.435818\n",
      "\n"
     ]
    },
    {
     "name": "stderr",
     "output_type": "stream",
     "text": [
      "train minibatch loop: 100%|██████████| 2463/2463 [00:34<00:00, 70.89it/s, accuracy=0.429, cost=1.55]\n",
      "test minibatch loop: 100%|██████████| 616/616 [00:01<00:00, 387.49it/s, accuracy=0.696, cost=1.39]\n",
      "train minibatch loop:   0%|          | 8/2463 [00:00<00:34, 71.40it/s, accuracy=0.406, cost=1.46]"
     ]
    },
    {
     "name": "stdout",
     "output_type": "stream",
     "text": [
      "epoch: 1, pass acc: 0.435818, current acc: 0.559877\n",
      "time taken: 36.337278842926025\n",
      "epoch: 1, training loss: 1.541226, training acc: 0.506874, valid loss: 1.439651, valid acc: 0.559877\n",
      "\n"
     ]
    },
    {
     "name": "stderr",
     "output_type": "stream",
     "text": [
      "train minibatch loop: 100%|██████████| 2463/2463 [00:34<00:00, 70.93it/s, accuracy=0.536, cost=1.39]\n",
      "test minibatch loop: 100%|██████████| 616/616 [00:01<00:00, 381.69it/s, accuracy=0.652, cost=1.2] \n",
      "train minibatch loop:   0%|          | 8/2463 [00:00<00:34, 71.39it/s, accuracy=0.438, cost=1.3] "
     ]
    },
    {
     "name": "stdout",
     "output_type": "stream",
     "text": [
      "epoch: 2, pass acc: 0.559877, current acc: 0.626852\n",
      "time taken: 36.342402935028076\n",
      "epoch: 2, training loss: 1.323602, training acc: 0.601750, valid loss: 1.231924, valid acc: 0.626852\n",
      "\n"
     ]
    },
    {
     "name": "stderr",
     "output_type": "stream",
     "text": [
      "train minibatch loop: 100%|██████████| 2463/2463 [00:34<00:00, 70.88it/s, accuracy=0.571, cost=1.27] \n",
      "test minibatch loop: 100%|██████████| 616/616 [00:01<00:00, 387.22it/s, accuracy=0.696, cost=1.07] \n",
      "train minibatch loop:   0%|          | 8/2463 [00:00<00:34, 71.34it/s, accuracy=0.469, cost=1.17] "
     ]
    },
    {
     "name": "stdout",
     "output_type": "stream",
     "text": [
      "epoch: 3, pass acc: 0.626852, current acc: 0.669962\n",
      "time taken: 36.342238664627075\n",
      "epoch: 3, training loss: 1.134289, training acc: 0.655741, valid loss: 1.075691, valid acc: 0.669962\n",
      "\n"
     ]
    },
    {
     "name": "stderr",
     "output_type": "stream",
     "text": [
      "train minibatch loop: 100%|██████████| 2463/2463 [00:34<00:00, 70.57it/s, accuracy=0.643, cost=1.19] \n",
      "test minibatch loop: 100%|██████████| 616/616 [00:01<00:00, 388.18it/s, accuracy=0.652, cost=0.989]\n",
      "train minibatch loop:   0%|          | 8/2463 [00:00<00:34, 71.03it/s, accuracy=0.531, cost=1.06] "
     ]
    },
    {
     "name": "stdout",
     "output_type": "stream",
     "text": [
      "epoch: 4, pass acc: 0.669962, current acc: 0.698719\n",
      "time taken: 36.333343744277954\n",
      "epoch: 4, training loss: 0.998491, training acc: 0.694736, valid loss: 0.969251, valid acc: 0.698719\n",
      "\n"
     ]
    },
    {
     "name": "stderr",
     "output_type": "stream",
     "text": [
      "train minibatch loop: 100%|██████████| 2463/2463 [00:34<00:00, 70.90it/s, accuracy=0.679, cost=1.15] \n",
      "test minibatch loop: 100%|██████████| 616/616 [00:01<00:00, 386.50it/s, accuracy=0.609, cost=0.931]\n",
      "train minibatch loop:   0%|          | 8/2463 [00:00<00:34, 71.71it/s, accuracy=0.531, cost=0.984]"
     ]
    },
    {
     "name": "stdout",
     "output_type": "stream",
     "text": [
      "epoch: 5, pass acc: 0.698719, current acc: 0.717174\n",
      "time taken: 36.339839696884155\n",
      "epoch: 5, training loss: 0.905001, training acc: 0.720179, valid loss: 0.897002, valid acc: 0.717174\n",
      "\n"
     ]
    },
    {
     "name": "stderr",
     "output_type": "stream",
     "text": [
      "train minibatch loop: 100%|██████████| 2463/2463 [00:34<00:00, 71.06it/s, accuracy=0.679, cost=1.12] \n",
      "test minibatch loop: 100%|██████████| 616/616 [00:01<00:00, 386.56it/s, accuracy=0.609, cost=0.889]\n",
      "train minibatch loop:   0%|          | 8/2463 [00:00<00:34, 70.95it/s, accuracy=0.531, cost=0.924]"
     ]
    },
    {
     "name": "stdout",
     "output_type": "stream",
     "text": [
      "epoch: 6, pass acc: 0.717174, current acc: 0.729609\n",
      "time taken: 36.34914755821228\n",
      "epoch: 6, training loss: 0.839532, training acc: 0.738272, valid loss: 0.846647, valid acc: 0.729609\n",
      "\n"
     ]
    },
    {
     "name": "stderr",
     "output_type": "stream",
     "text": [
      "train minibatch loop: 100%|██████████| 2463/2463 [00:34<00:00, 70.81it/s, accuracy=0.714, cost=1.09] \n",
      "test minibatch loop: 100%|██████████| 616/616 [00:01<00:00, 387.07it/s, accuracy=0.609, cost=0.857]\n",
      "train minibatch loop:   0%|          | 8/2463 [00:00<00:34, 70.70it/s, accuracy=0.625, cost=0.878]"
     ]
    },
    {
     "name": "stdout",
     "output_type": "stream",
     "text": [
      "epoch: 7, pass acc: 0.729609, current acc: 0.737577\n",
      "time taken: 36.355093002319336\n",
      "epoch: 7, training loss: 0.792104, training acc: 0.749782, valid loss: 0.810350, valid acc: 0.737577\n",
      "\n"
     ]
    },
    {
     "name": "stderr",
     "output_type": "stream",
     "text": [
      "train minibatch loop: 100%|██████████| 2463/2463 [00:34<00:00, 70.80it/s, accuracy=0.714, cost=1.07] \n",
      "test minibatch loop: 100%|██████████| 616/616 [00:01<00:00, 387.46it/s, accuracy=0.652, cost=0.831]\n",
      "train minibatch loop:   0%|          | 8/2463 [00:00<00:34, 71.31it/s, accuracy=0.656, cost=0.843]"
     ]
    },
    {
     "name": "stdout",
     "output_type": "stream",
     "text": [
      "epoch: 8, pass acc: 0.737577, current acc: 0.743738\n",
      "time taken: 36.382598638534546\n",
      "epoch: 8, training loss: 0.756453, training acc: 0.758982, valid loss: 0.783319, valid acc: 0.743738\n",
      "\n"
     ]
    },
    {
     "name": "stderr",
     "output_type": "stream",
     "text": [
      "train minibatch loop: 100%|██████████| 2463/2463 [00:34<00:00, 70.96it/s, accuracy=0.714, cost=1.05] \n",
      "test minibatch loop: 100%|██████████| 616/616 [00:01<00:00, 388.64it/s, accuracy=0.652, cost=0.81] \n",
      "train minibatch loop:   0%|          | 8/2463 [00:00<00:34, 70.95it/s, accuracy=0.688, cost=0.814]"
     ]
    },
    {
     "name": "stdout",
     "output_type": "stream",
     "text": [
      "epoch: 9, pass acc: 0.743738, current acc: 0.747748\n",
      "time taken: 36.29483675956726\n",
      "epoch: 9, training loss: 0.728712, training acc: 0.765998, valid loss: 0.762610, valid acc: 0.747748\n",
      "\n"
     ]
    },
    {
     "name": "stderr",
     "output_type": "stream",
     "text": [
      "train minibatch loop: 100%|██████████| 2463/2463 [00:34<00:00, 70.91it/s, accuracy=0.714, cost=1.03] \n",
      "test minibatch loop: 100%|██████████| 616/616 [00:01<00:00, 389.73it/s, accuracy=0.652, cost=0.793]\n",
      "train minibatch loop:   0%|          | 8/2463 [00:00<00:34, 70.73it/s, accuracy=0.688, cost=0.792]"
     ]
    },
    {
     "name": "stdout",
     "output_type": "stream",
     "text": [
      "epoch: 10, pass acc: 0.747748, current acc: 0.752315\n",
      "time taken: 36.31716275215149\n",
      "epoch: 10, training loss: 0.706465, training acc: 0.771442, valid loss: 0.746365, valid acc: 0.752315\n",
      "\n"
     ]
    },
    {
     "name": "stderr",
     "output_type": "stream",
     "text": [
      "train minibatch loop: 100%|██████████| 2463/2463 [00:34<00:00, 70.87it/s, accuracy=0.714, cost=1.02] \n",
      "test minibatch loop: 100%|██████████| 616/616 [00:01<00:00, 374.06it/s, accuracy=0.696, cost=0.778]\n",
      "train minibatch loop:   0%|          | 8/2463 [00:00<00:35, 70.09it/s, accuracy=0.688, cost=0.773]"
     ]
    },
    {
     "name": "stdout",
     "output_type": "stream",
     "text": [
      "epoch: 11, pass acc: 0.752315, current acc: 0.756446\n",
      "time taken: 36.397101402282715\n",
      "epoch: 11, training loss: 0.688158, training acc: 0.776771, valid loss: 0.733372, valid acc: 0.756446\n",
      "\n"
     ]
    },
    {
     "name": "stderr",
     "output_type": "stream",
     "text": [
      "train minibatch loop: 100%|██████████| 2463/2463 [00:34<00:00, 70.60it/s, accuracy=0.714, cost=1]    \n",
      "test minibatch loop: 100%|██████████| 616/616 [00:01<00:00, 383.09it/s, accuracy=0.696, cost=0.765]\n",
      "train minibatch loop:   0%|          | 8/2463 [00:00<00:34, 70.79it/s, accuracy=0.688, cost=0.757]"
     ]
    },
    {
     "name": "stdout",
     "output_type": "stream",
     "text": [
      "epoch: 12, pass acc: 0.756446, current acc: 0.759898\n",
      "time taken: 36.49841284751892\n",
      "epoch: 12, training loss: 0.672764, training acc: 0.780780, valid loss: 0.722814, valid acc: 0.759898\n",
      "\n"
     ]
    },
    {
     "name": "stderr",
     "output_type": "stream",
     "text": [
      "train minibatch loop: 100%|██████████| 2463/2463 [00:34<00:00, 70.98it/s, accuracy=0.75, cost=0.99]  \n",
      "test minibatch loop: 100%|██████████| 616/616 [00:01<00:00, 382.64it/s, accuracy=0.696, cost=0.753]\n",
      "train minibatch loop:   0%|          | 8/2463 [00:00<00:34, 71.26it/s, accuracy=0.688, cost=0.743]"
     ]
    },
    {
     "name": "stdout",
     "output_type": "stream",
     "text": [
      "epoch: 13, pass acc: 0.759898, current acc: 0.761623\n",
      "time taken: 36.41802668571472\n",
      "epoch: 13, training loss: 0.659580, training acc: 0.784284, valid loss: 0.714125, valid acc: 0.761623\n",
      "\n"
     ]
    },
    {
     "name": "stderr",
     "output_type": "stream",
     "text": [
      "train minibatch loop: 100%|██████████| 2463/2463 [00:34<00:00, 70.92it/s, accuracy=0.75, cost=0.977] \n",
      "test minibatch loop: 100%|██████████| 616/616 [00:01<00:00, 387.85it/s, accuracy=0.696, cost=0.743]\n",
      "train minibatch loop:   0%|          | 8/2463 [00:00<00:34, 71.36it/s, accuracy=0.719, cost=0.732]"
     ]
    },
    {
     "name": "stdout",
     "output_type": "stream",
     "text": [
      "epoch: 14, pass acc: 0.761623, current acc: 0.762689\n",
      "time taken: 36.31924271583557\n",
      "epoch: 14, training loss: 0.648110, training acc: 0.787101, valid loss: 0.706897, valid acc: 0.762689\n",
      "\n"
     ]
    },
    {
     "name": "stderr",
     "output_type": "stream",
     "text": [
      "train minibatch loop: 100%|██████████| 2463/2463 [00:34<00:00, 70.86it/s, accuracy=0.75, cost=0.964] \n",
      "test minibatch loop: 100%|██████████| 616/616 [00:01<00:00, 390.25it/s, accuracy=0.696, cost=0.734]\n",
      "train minibatch loop:   0%|          | 8/2463 [00:00<00:34, 70.38it/s, accuracy=0.719, cost=0.721]"
     ]
    },
    {
     "name": "stdout",
     "output_type": "stream",
     "text": [
      "epoch: 15, pass acc: 0.762689, current acc: 0.764973\n",
      "time taken: 36.338618755340576\n",
      "epoch: 15, training loss: 0.638001, training acc: 0.790336, valid loss: 0.700835, valid acc: 0.764973\n",
      "\n"
     ]
    },
    {
     "name": "stderr",
     "output_type": "stream",
     "text": [
      "train minibatch loop: 100%|██████████| 2463/2463 [00:34<00:00, 70.95it/s, accuracy=0.75, cost=0.952] \n",
      "test minibatch loop: 100%|██████████| 616/616 [00:01<00:00, 388.74it/s, accuracy=0.696, cost=0.725]\n",
      "train minibatch loop:   0%|          | 8/2463 [00:00<00:34, 71.17it/s, accuracy=0.719, cost=0.712]"
     ]
    },
    {
     "name": "stdout",
     "output_type": "stream",
     "text": [
      "epoch: 16, pass acc: 0.764973, current acc: 0.765125\n",
      "time taken: 36.30199193954468\n",
      "epoch: 16, training loss: 0.628989, training acc: 0.792976, valid loss: 0.695717, valid acc: 0.765125\n",
      "\n"
     ]
    },
    {
     "name": "stderr",
     "output_type": "stream",
     "text": [
      "train minibatch loop: 100%|██████████| 2463/2463 [00:34<00:00, 71.06it/s, accuracy=0.75, cost=0.941] \n",
      "test minibatch loop: 100%|██████████| 616/616 [00:01<00:00, 387.32it/s, accuracy=0.739, cost=0.718]\n",
      "train minibatch loop:   0%|          | 8/2463 [00:00<00:34, 71.01it/s, accuracy=0.75, cost=0.704] "
     ]
    },
    {
     "name": "stdout",
     "output_type": "stream",
     "text": [
      "epoch: 17, pass acc: 0.765125, current acc: 0.766718\n",
      "time taken: 36.254037380218506\n",
      "epoch: 17, training loss: 0.620877, training acc: 0.795336, valid loss: 0.691374, valid acc: 0.766718\n",
      "\n"
     ]
    },
    {
     "name": "stderr",
     "output_type": "stream",
     "text": [
      "train minibatch loop: 100%|██████████| 2463/2463 [00:34<00:00, 70.98it/s, accuracy=0.75, cost=0.93]  \n",
      "test minibatch loop: 100%|██████████| 616/616 [00:01<00:00, 389.20it/s, accuracy=0.739, cost=0.711]\n",
      "train minibatch loop:   0%|          | 8/2463 [00:00<00:34, 70.85it/s, accuracy=0.75, cost=0.697] "
     ]
    },
    {
     "name": "stdout",
     "output_type": "stream",
     "text": [
      "epoch: 18, pass acc: 0.766718, current acc: 0.768038\n",
      "time taken: 36.285399198532104\n",
      "epoch: 18, training loss: 0.613515, training acc: 0.797455, valid loss: 0.687674, valid acc: 0.768038\n",
      "\n"
     ]
    },
    {
     "name": "stderr",
     "output_type": "stream",
     "text": [
      "train minibatch loop: 100%|██████████| 2463/2463 [00:34<00:00, 70.93it/s, accuracy=0.75, cost=0.92]  \n",
      "test minibatch loop: 100%|██████████| 616/616 [00:01<00:00, 389.41it/s, accuracy=0.739, cost=0.704]\n",
      "train minibatch loop:   0%|          | 8/2463 [00:00<00:34, 70.80it/s, accuracy=0.75, cost=0.69]  "
     ]
    },
    {
     "name": "stdout",
     "output_type": "stream",
     "text": [
      "epoch: 19, pass acc: 0.768038, current acc: 0.768749\n",
      "time taken: 36.307868242263794\n",
      "epoch: 19, training loss: 0.606783, training acc: 0.799028, valid loss: 0.684515, valid acc: 0.768749\n",
      "\n"
     ]
    },
    {
     "name": "stderr",
     "output_type": "stream",
     "text": [
      "train minibatch loop: 100%|██████████| 2463/2463 [00:34<00:00, 70.91it/s, accuracy=0.75, cost=0.91]  \n",
      "test minibatch loop: 100%|██████████| 616/616 [00:01<00:00, 390.15it/s, accuracy=0.739, cost=0.698]\n",
      "train minibatch loop:   0%|          | 8/2463 [00:00<00:34, 71.83it/s, accuracy=0.75, cost=0.684] "
     ]
    },
    {
     "name": "stdout",
     "output_type": "stream",
     "text": [
      "epoch: 20, pass acc: 0.768749, current acc: 0.769307\n",
      "time taken: 36.31364560127258\n",
      "epoch: 20, training loss: 0.600590, training acc: 0.800957, valid loss: 0.681815, valid acc: 0.769307\n",
      "\n"
     ]
    },
    {
     "name": "stderr",
     "output_type": "stream",
     "text": [
      "train minibatch loop: 100%|██████████| 2463/2463 [00:34<00:00, 71.23it/s, accuracy=0.75, cost=0.901] \n",
      "test minibatch loop: 100%|██████████| 616/616 [00:01<00:00, 391.62it/s, accuracy=0.739, cost=0.693]\n",
      "train minibatch loop:   0%|          | 8/2463 [00:00<00:34, 71.49it/s, accuracy=0.75, cost=0.678] "
     ]
    },
    {
     "name": "stdout",
     "output_type": "stream",
     "text": [
      "epoch: 21, pass acc: 0.769307, current acc: 0.769611\n",
      "time taken: 36.282639265060425\n",
      "epoch: 21, training loss: 0.594859, training acc: 0.802632, valid loss: 0.679508, valid acc: 0.769611\n",
      "\n"
     ]
    },
    {
     "name": "stderr",
     "output_type": "stream",
     "text": [
      "train minibatch loop: 100%|██████████| 2463/2463 [00:34<00:00, 71.02it/s, accuracy=0.75, cost=0.892] \n",
      "test minibatch loop: 100%|██████████| 616/616 [00:01<00:00, 385.48it/s, accuracy=0.696, cost=0.688]\n",
      "train minibatch loop:   0%|          | 8/2463 [00:00<00:34, 70.45it/s, accuracy=0.75, cost=0.673] "
     ]
    },
    {
     "name": "stdout",
     "output_type": "stream",
     "text": [
      "epoch: 22, pass acc: 0.769611, current acc: 0.769744\n",
      "time taken: 36.27955889701843\n",
      "epoch: 22, training loss: 0.589530, training acc: 0.804091, valid loss: 0.677539, valid acc: 0.769744\n",
      "\n"
     ]
    },
    {
     "name": "stderr",
     "output_type": "stream",
     "text": [
      "train minibatch loop: 100%|██████████| 2463/2463 [00:34<00:00, 70.99it/s, accuracy=0.75, cost=0.883] \n",
      "test minibatch loop: 100%|██████████| 616/616 [00:01<00:00, 389.81it/s, accuracy=0.696, cost=0.684]\n",
      "train minibatch loop:   0%|          | 8/2463 [00:00<00:34, 71.44it/s, accuracy=0.75, cost=0.669] "
     ]
    },
    {
     "name": "stdout",
     "output_type": "stream",
     "text": [
      "epoch: 23, pass acc: 0.769744, current acc: 0.770759\n",
      "time taken: 36.27450656890869\n",
      "epoch: 23, training loss: 0.584552, training acc: 0.805537, valid loss: 0.675864, valid acc: 0.770759\n",
      "\n"
     ]
    },
    {
     "name": "stderr",
     "output_type": "stream",
     "text": [
      "train minibatch loop: 100%|██████████| 2463/2463 [00:34<00:00, 71.02it/s, accuracy=0.75, cost=0.875] \n",
      "test minibatch loop: 100%|██████████| 616/616 [00:01<00:00, 384.88it/s, accuracy=0.739, cost=0.68] \n",
      "train minibatch loop:   0%|          | 8/2463 [00:00<00:34, 71.30it/s, accuracy=0.75, cost=0.664] "
     ]
    },
    {
     "name": "stdout",
     "output_type": "stream",
     "text": [
      "epoch: 24, pass acc: 0.770759, current acc: 0.771286\n",
      "time taken: 36.28367853164673\n",
      "epoch: 24, training loss: 0.579884, training acc: 0.807111, valid loss: 0.674445, valid acc: 0.771286\n",
      "\n"
     ]
    },
    {
     "name": "stderr",
     "output_type": "stream",
     "text": [
      "train minibatch loop: 100%|██████████| 2463/2463 [00:34<00:00, 71.01it/s, accuracy=0.75, cost=0.868] \n",
      "test minibatch loop: 100%|██████████| 616/616 [00:01<00:00, 391.23it/s, accuracy=0.739, cost=0.676]\n",
      "train minibatch loop:   0%|          | 8/2463 [00:00<00:34, 71.26it/s, accuracy=0.75, cost=0.66]  "
     ]
    },
    {
     "name": "stdout",
     "output_type": "stream",
     "text": [
      "epoch: 25, pass acc: 0.771286, current acc: 0.771540\n",
      "time taken: 36.26240372657776\n",
      "epoch: 25, training loss: 0.575489, training acc: 0.808709, valid loss: 0.673251, valid acc: 0.771540\n",
      "\n"
     ]
    },
    {
     "name": "stderr",
     "output_type": "stream",
     "text": [
      "train minibatch loop: 100%|██████████| 2463/2463 [00:34<00:00, 71.02it/s, accuracy=0.75, cost=0.861] \n",
      "test minibatch loop: 100%|██████████| 616/616 [00:01<00:00, 388.60it/s, accuracy=0.739, cost=0.673]\n",
      "train minibatch loop:   0%|          | 8/2463 [00:00<00:34, 70.21it/s, accuracy=0.75, cost=0.657] "
     ]
    },
    {
     "name": "stdout",
     "output_type": "stream",
     "text": [
      "epoch: 26, pass acc: 0.771540, current acc: 0.771844\n",
      "time taken: 36.26729607582092\n",
      "epoch: 26, training loss: 0.571340, training acc: 0.810156, valid loss: 0.672255, valid acc: 0.771844\n",
      "\n"
     ]
    },
    {
     "name": "stderr",
     "output_type": "stream",
     "text": [
      "train minibatch loop: 100%|██████████| 2463/2463 [00:34<00:00, 71.04it/s, accuracy=0.75, cost=0.854] \n",
      "test minibatch loop: 100%|██████████| 616/616 [00:01<00:00, 388.18it/s, accuracy=0.739, cost=0.67] \n",
      "train minibatch loop:   0%|          | 8/2463 [00:00<00:34, 70.72it/s, accuracy=0.75, cost=0.653] "
     ]
    },
    {
     "name": "stdout",
     "output_type": "stream",
     "text": [
      "time taken: 36.260812520980835\n",
      "epoch: 27, training loss: 0.567410, training acc: 0.811412, valid loss: 0.671436, valid acc: 0.771540\n",
      "\n"
     ]
    },
    {
     "name": "stderr",
     "output_type": "stream",
     "text": [
      "train minibatch loop: 100%|██████████| 2463/2463 [00:34<00:00, 71.20it/s, accuracy=0.75, cost=0.847] \n",
      "test minibatch loop: 100%|██████████| 616/616 [00:01<00:00, 389.44it/s, accuracy=0.739, cost=0.668]\n",
      "train minibatch loop:   0%|          | 8/2463 [00:00<00:34, 70.53it/s, accuracy=0.75, cost=0.65]  "
     ]
    },
    {
     "name": "stdout",
     "output_type": "stream",
     "text": [
      "time taken: 36.282947301864624\n",
      "epoch: 28, training loss: 0.563677, training acc: 0.812757, valid loss: 0.670772, valid acc: 0.771844\n",
      "\n"
     ]
    },
    {
     "name": "stderr",
     "output_type": "stream",
     "text": [
      "train minibatch loop: 100%|██████████| 2463/2463 [00:34<00:00, 71.00it/s, accuracy=0.75, cost=0.841] \n",
      "test minibatch loop: 100%|██████████| 616/616 [00:01<00:00, 382.91it/s, accuracy=0.739, cost=0.665]\n",
      "train minibatch loop:   0%|          | 8/2463 [00:00<00:34, 71.19it/s, accuracy=0.75, cost=0.647] "
     ]
    },
    {
     "name": "stdout",
     "output_type": "stream",
     "text": [
      "epoch: 29, pass acc: 0.771844, current acc: 0.772149\n",
      "time taken: 36.29914617538452\n",
      "epoch: 29, training loss: 0.560123, training acc: 0.813747, valid loss: 0.670249, valid acc: 0.772149\n",
      "\n"
     ]
    },
    {
     "name": "stderr",
     "output_type": "stream",
     "text": [
      "train minibatch loop: 100%|██████████| 2463/2463 [00:34<00:00, 71.03it/s, accuracy=0.786, cost=0.835]\n",
      "test minibatch loop: 100%|██████████| 616/616 [00:01<00:00, 389.13it/s, accuracy=0.739, cost=0.663]\n",
      "train minibatch loop:   0%|          | 8/2463 [00:00<00:34, 70.54it/s, accuracy=0.75, cost=0.644] "
     ]
    },
    {
     "name": "stdout",
     "output_type": "stream",
     "text": [
      "time taken: 36.25847387313843\n",
      "epoch: 30, training loss: 0.556732, training acc: 0.814865, valid loss: 0.669850, valid acc: 0.771997\n",
      "\n"
     ]
    },
    {
     "name": "stderr",
     "output_type": "stream",
     "text": [
      "train minibatch loop: 100%|██████████| 2463/2463 [00:34<00:00, 70.98it/s, accuracy=0.786, cost=0.83] \n",
      "test minibatch loop: 100%|██████████| 616/616 [00:01<00:00, 388.67it/s, accuracy=0.739, cost=0.661]\n",
      "train minibatch loop:   0%|          | 8/2463 [00:00<00:34, 71.39it/s, accuracy=0.75, cost=0.641] "
     ]
    },
    {
     "name": "stdout",
     "output_type": "stream",
     "text": [
      "epoch: 31, pass acc: 0.772149, current acc: 0.772504\n",
      "time taken: 36.28441309928894\n",
      "epoch: 31, training loss: 0.553490, training acc: 0.815652, valid loss: 0.669565, valid acc: 0.772504\n",
      "\n"
     ]
    },
    {
     "name": "stderr",
     "output_type": "stream",
     "text": [
      "train minibatch loop: 100%|██████████| 2463/2463 [00:34<00:00, 70.85it/s, accuracy=0.786, cost=0.825]\n",
      "test minibatch loop: 100%|██████████| 616/616 [00:01<00:00, 388.94it/s, accuracy=0.739, cost=0.659]\n",
      "train minibatch loop:   0%|          | 8/2463 [00:00<00:34, 71.56it/s, accuracy=0.75, cost=0.638] "
     ]
    },
    {
     "name": "stdout",
     "output_type": "stream",
     "text": [
      "epoch: 32, pass acc: 0.772504, current acc: 0.772860\n",
      "time taken: 36.26200866699219\n",
      "epoch: 32, training loss: 0.550383, training acc: 0.816794, valid loss: 0.669381, valid acc: 0.772860\n",
      "\n"
     ]
    },
    {
     "name": "stderr",
     "output_type": "stream",
     "text": [
      "train minibatch loop: 100%|██████████| 2463/2463 [00:34<00:00, 70.99it/s, accuracy=0.786, cost=0.82] \n",
      "test minibatch loop: 100%|██████████| 616/616 [00:01<00:00, 389.30it/s, accuracy=0.739, cost=0.658]\n",
      "train minibatch loop:   0%|          | 8/2463 [00:00<00:34, 70.23it/s, accuracy=0.75, cost=0.636] "
     ]
    },
    {
     "name": "stdout",
     "output_type": "stream",
     "text": [
      "epoch: 33, pass acc: 0.772860, current acc: 0.772910\n",
      "time taken: 36.27719235420227\n",
      "epoch: 33, training loss: 0.547402, training acc: 0.817809, valid loss: 0.669289, valid acc: 0.772910\n",
      "\n"
     ]
    },
    {
     "name": "stderr",
     "output_type": "stream",
     "text": [
      "train minibatch loop: 100%|██████████| 2463/2463 [00:34<00:00, 70.96it/s, accuracy=0.786, cost=0.815]\n",
      "test minibatch loop: 100%|██████████| 616/616 [00:01<00:00, 384.71it/s, accuracy=0.739, cost=0.657]\n",
      "train minibatch loop:   0%|          | 8/2463 [00:00<00:34, 71.33it/s, accuracy=0.75, cost=0.633] "
     ]
    },
    {
     "name": "stdout",
     "output_type": "stream",
     "text": [
      "time taken: 36.311283111572266\n",
      "epoch: 34, training loss: 0.544536, training acc: 0.818837, valid loss: 0.669282, valid acc: 0.772301\n",
      "\n"
     ]
    },
    {
     "name": "stderr",
     "output_type": "stream",
     "text": [
      "train minibatch loop: 100%|██████████| 2463/2463 [00:34<00:00, 71.12it/s, accuracy=0.786, cost=0.811]\n",
      "test minibatch loop: 100%|██████████| 616/616 [00:01<00:00, 385.35it/s, accuracy=0.739, cost=0.655]\n",
      "train minibatch loop:   0%|          | 8/2463 [00:00<00:34, 70.68it/s, accuracy=0.75, cost=0.631] "
     ]
    },
    {
     "name": "stdout",
     "output_type": "stream",
     "text": [
      "time taken: 36.267308950424194\n",
      "epoch: 35, training loss: 0.541777, training acc: 0.819725, valid loss: 0.669350, valid acc: 0.772301\n",
      "\n"
     ]
    },
    {
     "name": "stderr",
     "output_type": "stream",
     "text": [
      "train minibatch loop: 100%|██████████| 2463/2463 [00:34<00:00, 70.97it/s, accuracy=0.786, cost=0.806]\n",
      "test minibatch loop: 100%|██████████| 616/616 [00:01<00:00, 389.88it/s, accuracy=0.739, cost=0.654]"
     ]
    },
    {
     "name": "stdout",
     "output_type": "stream",
     "text": [
      "time taken: 36.284964084625244\n",
      "epoch: 36, training loss: 0.539117, training acc: 0.820575, valid loss: 0.669489, valid acc: 0.772251\n",
      "\n",
      "break epoch:37\n",
      "\n"
     ]
    },
    {
     "name": "stderr",
     "output_type": "stream",
     "text": [
      "\n"
     ]
    }
   ],
   "source": [
    "from tqdm import tqdm\n",
    "import time\n",
    "\n",
    "batch_size = 32\n",
    "EARLY_STOPPING, CURRENT_CHECKPOINT, CURRENT_ACC, EPOCH = 3, 0, 0, 0\n",
    "\n",
    "while True:\n",
    "    lasttime = time.time()\n",
    "    if CURRENT_CHECKPOINT == EARLY_STOPPING:\n",
    "        print('break epoch:%d\\n' % (EPOCH))\n",
    "        break\n",
    "\n",
    "    train_acc, train_loss, test_acc, test_loss = 0, 0, 0, 0\n",
    "    pbar = tqdm(\n",
    "        range(0, train_X.shape[0], batch_size), desc = 'train minibatch loop'\n",
    "    )\n",
    "    for i in pbar:\n",
    "        batch_x = convert_sparse_matrix_to_sparse_tensor(train_X[i : min(i + batch_size, train_X.shape[0])])\n",
    "        batch_y = train_Y[i : min(i + batch_size, train_X.shape[0])]\n",
    "        batch_x_expand = np.expand_dims(batch_x,axis = 1)\n",
    "        acc, cost, _ = sess.run(\n",
    "            [model.accuracy, model.cost, model.optimizer],\n",
    "            feed_dict = {\n",
    "                model.Y: batch_y,\n",
    "                model.X: batch_x[0],\n",
    "                model.W: batch_x[1],\n",
    "            },\n",
    "        )\n",
    "        assert not np.isnan(cost)\n",
    "        train_loss += cost\n",
    "        train_acc += acc\n",
    "        pbar.set_postfix(cost = cost, accuracy = acc)\n",
    "\n",
    "    pbar = tqdm(range(0, test_X.shape[0], batch_size), desc = 'test minibatch loop')\n",
    "    for i in pbar:\n",
    "        batch_x = convert_sparse_matrix_to_sparse_tensor(test_X[i : min(i + batch_size, test_X.shape[0])])\n",
    "        batch_y = test_Y[i : min(i + batch_size, test_X.shape[0])]\n",
    "        batch_x_expand = np.expand_dims(batch_x,axis = 1)\n",
    "        acc, cost = sess.run(\n",
    "            [model.accuracy, model.cost],\n",
    "            feed_dict = {\n",
    "                model.Y: batch_y,\n",
    "                model.X: batch_x[0],\n",
    "                model.W: batch_x[1],\n",
    "            },\n",
    "        )\n",
    "        test_loss += cost\n",
    "        test_acc += acc\n",
    "        pbar.set_postfix(cost = cost, accuracy = acc)\n",
    "\n",
    "    train_loss /= train_X.shape[0] / batch_size\n",
    "    train_acc /= train_X.shape[0] / batch_size\n",
    "    test_loss /= test_X.shape[0] / batch_size\n",
    "    test_acc /= test_X.shape[0] / batch_size\n",
    "\n",
    "    if test_acc > CURRENT_ACC:\n",
    "        print(\n",
    "            'epoch: %d, pass acc: %f, current acc: %f'\n",
    "            % (EPOCH, CURRENT_ACC, test_acc)\n",
    "        )\n",
    "        CURRENT_ACC = test_acc\n",
    "        CURRENT_CHECKPOINT = 0\n",
    "    else:\n",
    "        CURRENT_CHECKPOINT += 1\n",
    "\n",
    "    print('time taken:', time.time() - lasttime)\n",
    "    print(\n",
    "        'epoch: %d, training loss: %f, training acc: %f, valid loss: %f, valid acc: %f\\n'\n",
    "        % (EPOCH, train_loss, train_acc, test_loss, test_acc)\n",
    "    )\n",
    "    EPOCH += 1"
   ]
  },
  {
   "cell_type": "code",
   "execution_count": 15,
   "metadata": {},
   "outputs": [
    {
     "name": "stderr",
     "output_type": "stream",
     "text": [
      "validation minibatch loop: 100%|██████████| 616/616 [00:00<00:00, 721.06it/s]\n"
     ]
    }
   ],
   "source": [
    "real_Y, predict_Y = [], []\n",
    "\n",
    "pbar = tqdm(\n",
    "    range(0, test_X.shape[0], batch_size), desc = 'validation minibatch loop'\n",
    ")\n",
    "for i in pbar:\n",
    "    batch_x = convert_sparse_matrix_to_sparse_tensor(test_X[i : min(i + batch_size, test_X.shape[0])])\n",
    "    batch_y = test_Y[i : min(i + batch_size, test_X.shape[0])]\n",
    "    predict_Y += np.argmax(\n",
    "        sess.run(\n",
    "            model.logits, feed_dict = {model.X: batch_x[0], model.W: batch_x[1], model.Y: batch_y}\n",
    "        ),\n",
    "        1,\n",
    "    ).tolist()\n",
    "    real_Y += batch_y.tolist()"
   ]
  },
  {
   "cell_type": "code",
   "execution_count": 16,
   "metadata": {},
   "outputs": [
    {
     "name": "stdout",
     "output_type": "stream",
     "text": [
      "             precision    recall  f1-score   support\n",
      "\n",
      "      anger       0.79      0.79      0.79      3698\n",
      "       fear       0.75      0.75      0.75      3808\n",
      "        joy       0.76      0.77      0.77      3945\n",
      "       love       0.84      0.83      0.84      3049\n",
      "    sadness       0.75      0.72      0.74      3251\n",
      "   surprise       0.74      0.76      0.75      1952\n",
      "\n",
      "avg / total       0.77      0.77      0.77     19703\n",
      "\n"
     ]
    }
   ],
   "source": [
    "print(\n",
    "    metrics.classification_report(\n",
    "        real_Y, predict_Y, target_names = unique_labels\n",
    "    )\n",
    ")"
   ]
  },
  {
   "cell_type": "code",
   "execution_count": 17,
   "metadata": {},
   "outputs": [
    {
     "data": {
      "text/plain": [
       "array([[1.1725525e-07, 2.0598983e-07, 2.3001657e-04, 9.8360693e-01,\n",
       "        3.8486030e-14, 1.6162727e-02]], dtype=float32)"
      ]
     },
     "execution_count": 17,
     "metadata": {},
     "output_type": "execute_result"
    }
   ],
   "source": [
    "text = classification_textcleaning('kerajaan sebenarnya sangat sayangkan rakyatnya')\n",
    "transformed = bow_chars.transform([text[0]])\n",
    "batch_x = convert_sparse_matrix_to_sparse_tensor(transformed)\n",
    "sess.run(tf.nn.softmax(model.logits), feed_dict = {model.X: batch_x[0], model.W: batch_x[1]})"
   ]
  },
  {
   "cell_type": "code",
   "execution_count": 18,
   "metadata": {},
   "outputs": [
    {
     "data": {
      "text/plain": [
       "'fast-text-char/model.ckpt'"
      ]
     },
     "execution_count": 18,
     "metadata": {},
     "output_type": "execute_result"
    }
   ],
   "source": [
    "saver.save(sess, 'fast-text-char/model.ckpt')"
   ]
  },
  {
   "cell_type": "code",
   "execution_count": 19,
   "metadata": {},
   "outputs": [],
   "source": [
    "import pickle\n",
    "with open('vectorizer-sparse-emotion.pkl','wb') as fopen:\n",
    "    pickle.dump(bow_chars, fopen)"
   ]
  },
  {
   "cell_type": "code",
   "execution_count": null,
   "metadata": {},
   "outputs": [],
   "source": []
  }
 ],
 "metadata": {
  "kernelspec": {
   "display_name": "Python 3",
   "language": "python",
   "name": "python3"
  },
  "language_info": {
   "codemirror_mode": {
    "name": "ipython",
    "version": 3
   },
   "file_extension": ".py",
   "mimetype": "text/x-python",
   "name": "python",
   "nbconvert_exporter": "python",
   "pygments_lexer": "ipython3",
   "version": "3.6.8"
  }
 },
 "nbformat": 4,
 "nbformat_minor": 2
}
