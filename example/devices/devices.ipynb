{
 "cells": [
  {
   "cell_type": "markdown",
   "metadata": {},
   "source": [
    "# Devices"
   ]
  },
  {
   "cell_type": "markdown",
   "metadata": {},
   "source": [
    "<div class=\"alert alert-info\">\n",
    "\n",
    "This tutorial is available as an IPython notebook at [Malaya/example/devices](https://github.com/huseinzol05/Malaya/tree/master/example/devices).\n",
    "    \n",
    "</div>"
   ]
  },
  {
   "cell_type": "markdown",
   "metadata": {},
   "source": [
    "### List available devices supported to run Malaya model"
   ]
  },
  {
   "cell_type": "code",
   "execution_count": 1,
   "metadata": {},
   "outputs": [],
   "source": [
    "import malaya\n",
    "import logging\n",
    "logging.basicConfig(level = logging.INFO)"
   ]
  },
  {
   "cell_type": "code",
   "execution_count": 2,
   "metadata": {},
   "outputs": [
    {
     "data": {
      "text/plain": [
       "[('CPU:0', '0.268 GB'),\n",
       " ('XLA_CPU:0', '17.18 GB'),\n",
       " ('XLA_GPU:0', '17.18 GB'),\n",
       " ('XLA_GPU:1', '17.18 GB'),\n",
       " ('XLA_GPU:2', '17.18 GB'),\n",
       " ('XLA_GPU:3', '17.18 GB'),\n",
       " ('GPU:0', '32.035 GB'),\n",
       " ('GPU:1', '30.489 GB'),\n",
       " ('GPU:2', '0.258 GB'),\n",
       " ('GPU:3', '0.572 GB')]"
      ]
     },
     "execution_count": 2,
     "metadata": {},
     "output_type": "execute_result"
    }
   ],
   "source": [
    "malaya.utils.available_device()"
   ]
  },
  {
   "cell_type": "markdown",
   "metadata": {},
   "source": [
    "### Use specific device for specific model\n",
    "\n",
    "To do that, pass `device` parameter to any load model function in Malaya, default is `CPU:0`.\n",
    "\n",
    "```python\n",
    "malaya.sentiment.transformer(model = 'alxlnet', device = 'CPU:0')\n",
    "```\n",
    "\n",
    "Or if you want to use XLA,\n",
    "\n",
    "```python\n",
    "malaya.sentiment.transformer(model = 'alxlnet', device = 'XLA_CPU:0')\n",
    "```\n",
    "\n",
    "But if you installed malaya-gpu, `device` will automatically set to a gpu with the most empty memory."
   ]
  },
  {
   "cell_type": "code",
   "execution_count": 4,
   "metadata": {},
   "outputs": [
    {
     "name": "stderr",
     "output_type": "stream",
     "text": [
      "INFO:root:running sentiment/alxlnet using device /device:GPU:0\n"
     ]
    }
   ],
   "source": [
    "alxlnet_cpu = malaya.sentiment.transformer(model = 'alxlnet', device = 'CPU:0')"
   ]
  },
  {
   "cell_type": "markdown",
   "metadata": {},
   "source": [
    "### Disable auto GPU\n",
    "\n",
    "If you are using malaya-gpu and you do not want to use auto allocate to gpu, simply set `auto_gpu` to `False`."
   ]
  },
  {
   "cell_type": "code",
   "execution_count": 5,
   "metadata": {},
   "outputs": [
    {
     "name": "stderr",
     "output_type": "stream",
     "text": [
      "INFO:root:running sentiment/alxlnet using device /device:CPU:0\n"
     ]
    }
   ],
   "source": [
    "alxlnet_cpu = malaya.sentiment.transformer(model = 'alxlnet', device = 'CPU:0', auto_gpu = False)"
   ]
  },
  {
   "cell_type": "code",
   "execution_count": 6,
   "metadata": {},
   "outputs": [
    {
     "name": "stderr",
     "output_type": "stream",
     "text": [
      "INFO:root:running sentiment/alxlnet using device /device:XLA_CPU:0\n"
     ]
    }
   ],
   "source": [
    "alxlnet_xla_cpu = malaya.sentiment.transformer(model = 'alxlnet', device = 'XLA_CPU:0', auto_gpu = False)"
   ]
  },
  {
   "cell_type": "code",
   "execution_count": 4,
   "metadata": {},
   "outputs": [],
   "source": [
    "string = 'saya kentut busuk tapi muka comel'"
   ]
  },
  {
   "cell_type": "code",
   "execution_count": 9,
   "metadata": {},
   "outputs": [
    {
     "name": "stdout",
     "output_type": "stream",
     "text": [
      "CPU times: user 186 ms, sys: 19.7 ms, total: 206 ms\n",
      "Wall time: 53.7 ms\n"
     ]
    },
    {
     "data": {
      "text/plain": [
       "[{'negative': 0.99942386, 'positive': 5.755763e-06, 'neutral': 0.00057035685}]"
      ]
     },
     "execution_count": 9,
     "metadata": {},
     "output_type": "execute_result"
    }
   ],
   "source": [
    "%%time\n",
    "\n",
    "alxlnet_cpu.predict_proba([string])"
   ]
  },
  {
   "cell_type": "code",
   "execution_count": 10,
   "metadata": {},
   "outputs": [
    {
     "name": "stdout",
     "output_type": "stream",
     "text": [
      "CPU times: user 171 ms, sys: 12.3 ms, total: 184 ms\n",
      "Wall time: 40 ms\n"
     ]
    },
    {
     "data": {
      "text/plain": [
       "[{'negative': 0.9999045, 'positive': 9.575936e-07, 'neutral': 9.453297e-05}]"
      ]
     },
     "execution_count": 10,
     "metadata": {},
     "output_type": "execute_result"
    }
   ],
   "source": [
    "%%time\n",
    "\n",
    "alxlnet_xla_cpu.predict_proba([string])"
   ]
  },
  {
   "cell_type": "markdown",
   "metadata": {},
   "source": [
    "**Again, not all Tensorflow operation support XLA**."
   ]
  }
 ],
 "metadata": {
  "kernelspec": {
   "display_name": "Python 3",
   "language": "python",
   "name": "python3"
  },
  "language_info": {
   "codemirror_mode": {
    "name": "ipython",
    "version": 3
   },
   "file_extension": ".py",
   "mimetype": "text/x-python",
   "name": "python",
   "nbconvert_exporter": "python",
   "pygments_lexer": "ipython3",
   "version": "3.6.9"
  }
 },
 "nbformat": 4,
 "nbformat_minor": 5
}
