{
 "cells": [
  {
   "cell_type": "markdown",
   "metadata": {},
   "source": [
    "# Prefix Generator HuggingFace"
   ]
  },
  {
   "cell_type": "markdown",
   "metadata": {},
   "source": [
    "Give initial sentence, then the models will continue to generate the text."
   ]
  },
  {
   "cell_type": "markdown",
   "metadata": {},
   "source": [
    "<div class=\"alert alert-info\">\n",
    "\n",
    "This tutorial is available as an IPython notebook at [Malaya/example/prefix-generator-huggingface](https://github.com/huseinzol05/Malaya/tree/master/example/prefix-generator-huggingface).\n",
    "    \n",
    "</div>"
   ]
  },
  {
   "cell_type": "code",
   "execution_count": 1,
   "metadata": {},
   "outputs": [],
   "source": [
    "import os\n",
    "os.environ['CUDA_VISIBLE_DEVICES'] = ''\n",
    "os.environ['TF_FORCE_GPU_ALLOW_GROWTH'] = 'true'"
   ]
  },
  {
   "cell_type": "code",
   "execution_count": 2,
   "metadata": {},
   "outputs": [
    {
     "name": "stdout",
     "output_type": "stream",
     "text": [
      "CPU times: user 3 s, sys: 3.39 s, total: 6.38 s\n",
      "Wall time: 2.46 s\n"
     ]
    }
   ],
   "source": [
    "%%time\n",
    "import malaya\n",
    "from pprint import pprint"
   ]
  },
  {
   "cell_type": "markdown",
   "metadata": {},
   "source": [
    "### List available HuggingFace models"
   ]
  },
  {
   "cell_type": "code",
   "execution_count": 3,
   "metadata": {},
   "outputs": [
    {
     "data": {
      "text/html": [
       "<div>\n",
       "<style scoped>\n",
       "    .dataframe tbody tr th:only-of-type {\n",
       "        vertical-align: middle;\n",
       "    }\n",
       "\n",
       "    .dataframe tbody tr th {\n",
       "        vertical-align: top;\n",
       "    }\n",
       "\n",
       "    .dataframe thead th {\n",
       "        text-align: right;\n",
       "    }\n",
       "</style>\n",
       "<table border=\"1\" class=\"dataframe\">\n",
       "  <thead>\n",
       "    <tr style=\"text-align: right;\">\n",
       "      <th></th>\n",
       "      <th>Size (MB)</th>\n",
       "    </tr>\n",
       "  </thead>\n",
       "  <tbody>\n",
       "    <tr>\n",
       "      <th>mesolitica/gpt2-117m-bahasa-cased-v2</th>\n",
       "      <td>454</td>\n",
       "    </tr>\n",
       "    <tr>\n",
       "      <th>mesolitica/gpt2-355m-bahasa-cased</th>\n",
       "      <td>454</td>\n",
       "    </tr>\n",
       "  </tbody>\n",
       "</table>\n",
       "</div>"
      ],
      "text/plain": [
       "                                      Size (MB)\n",
       "mesolitica/gpt2-117m-bahasa-cased-v2        454\n",
       "mesolitica/gpt2-355m-bahasa-cased           454"
      ]
     },
     "execution_count": 3,
     "metadata": {},
     "output_type": "execute_result"
    }
   ],
   "source": [
    "malaya.generator.prefix.available_huggingface()"
   ]
  },
  {
   "cell_type": "markdown",
   "metadata": {},
   "source": [
    "### load HuggingFace model\n",
    "\n",
    "```python\n",
    "def huggingface(model: str = 'mesolitica/gpt2-117m-bahasa-cased-v2', force_check: bool = True, **kwargs):\n",
    "    \"\"\"\n",
    "    Load Prefix language model.\n",
    "\n",
    "    Parameters\n",
    "    ----------\n",
    "    model: str, optional (default='mesolitica/gpt2-117m-bahasa-cased-v2')\n",
    "        Check available models at `malaya.generator.prefix.available_huggingface()`.\n",
    "    force_check: bool, optional (default=True)\n",
    "        Force check model one of malaya model.\n",
    "        Set to False if you have your own huggingface model.\n",
    "\n",
    "    Returns\n",
    "    -------\n",
    "    result: malaya.torch_model.huggingface.Prefix class\n",
    "    \"\"\"\n",
    "```"
   ]
  },
  {
   "cell_type": "code",
   "execution_count": 4,
   "metadata": {
    "scrolled": true
   },
   "outputs": [],
   "source": [
    "model = malaya.generator.prefix.huggingface(model = 'mesolitica/gpt2-117m-bahasa-cased-v2')"
   ]
  },
  {
   "cell_type": "code",
   "execution_count": 5,
   "metadata": {},
   "outputs": [],
   "source": [
    "string = 'ceritanya sebegini, aku bangun pagi baca surat khabar berita harian, tetiba aku nampak cerita seram, '"
   ]
  },
  {
   "cell_type": "markdown",
   "metadata": {},
   "source": [
    "#### generate\n",
    "\n",
    "```python\n",
    "def generate(self, string, **kwargs):\n",
    "    \"\"\"\n",
    "    Generate texts from the input.\n",
    "\n",
    "    Parameters\n",
    "    ----------\n",
    "    string : str\n",
    "    **kwargs: vector arguments pass to huggingface `generate` method.\n",
    "        Read more at https://huggingface.co/docs/transformers/main_classes/text_generation\n",
    "\n",
    "    Returns\n",
    "    -------\n",
    "    result: List[str]\n",
    "    \"\"\"\n",
    "```"
   ]
  },
  {
   "cell_type": "markdown",
   "metadata": {},
   "source": [
    "Good thing about huggingface, you can do greedy decoder, beam decoder, nucleus decoder and sampling decoder very easy, read more at https://huggingface.co/blog/how-to-generate\n",
    "\n",
    "Recently, huggingface released Contrastive Search, https://huggingface.co/blog/introducing-csearch"
   ]
  },
  {
   "cell_type": "code",
   "execution_count": 7,
   "metadata": {},
   "outputs": [
    {
     "name": "stderr",
     "output_type": "stream",
     "text": [
      "The attention mask and the pad token id were not set. As a consequence, you may observe unexpected behavior. Please pass your input's `attention_mask` to obtain reliable results.\n",
      "Setting `pad_token_id` to `eos_token_id`:50256 for open-end generation.\n"
     ]
    },
    {
     "name": "stdout",
     "output_type": "stream",
     "text": [
      "['ceritanya sebegini, aku bangun pagi baca surat khabar berita harian, tetiba aku nampak cerita seram, ari-ari dia tulis.\\n\\nDia tak suka orang buat macam-macam.” Kata-kataku. “Tak apa, kita jumpa di tempat lain.” Aku mula-mulanya terkejut dengan apa yang aku dengar dari mulut budak-budak yang baru belajar di sekolah dulu.\\n-tiba ada seorang lelaki datang ke bilik aku untuk ambil barang-barangan dari kedai yang aku duduk di tingkat 3, tapi tak lama lepas tu dia tanya, “Mana beg kau?” Dia jawab, “Dah lama tak balik rumah, baru aku perasan”.\\n\\n“Aku nak beli baju yang kau pakai tu, tapi tak sampai hati aku nak cakap dengan kau.” Kata-katak gadis itu dengan muka masam mencuka.\\n\\n-kata yang keluar dari mulut budak tu, “Kau ni kenapa tak bagi duit kat orang yang tak ada duit ni?” Aku cuba berlagak biasa-lainan dengan dia, tapi bila dah masuk universiti, aku rasa tak sedap hati.\\n\\n“Kalau kau tak dapat apa-apakan aku, tolong jangan ambil kesempatan dengan cara kau ni.\\n& tak nak susahkan diri']\n"
     ]
    }
   ],
   "source": [
    "print(model.generate(string, penalty_alpha=0.8, top_k=4, max_length=256))"
   ]
  },
  {
   "cell_type": "code",
   "execution_count": 8,
   "metadata": {},
   "outputs": [
    {
     "name": "stderr",
     "output_type": "stream",
     "text": [
      "The attention mask and the pad token id were not set. As a consequence, you may observe unexpected behavior. Please pass your input's `attention_mask` to obtain reliable results.\n",
      "Setting `pad_token_id` to `eos_token_id`:50256 for open-end generation.\n"
     ]
    },
    {
     "name": "stdout",
     "output_type": "stream",
     "text": [
      "['ceritanya sebegini, aku bangun pagi baca surat khabar berita harian, tetiba aku nampak cerita seram, alahan, aku wat tambah beberapa keping gambar kenangan di perpustakaan.\\n\\nBila aku tgk cerita, aku tersedar aku menjadi seram, sebab aku ikut je cakap muka pencacai politik.\\n\\nLepastu aku check balik dekat instagram dan bahagian bayaran.\\n\\nApa yang aku lalui sebenarnya ialah cerita yang aku diamkan oleh para wartawan.\\n\\nMesti cerita ni betul2.\\n\\nTepat waktu, aku suarakan ketika zaman sekolah menengah, aku sebak dan sebak sebaik melihat kemenangan selepas goyah sekampung.\\n\\nLaki-laki, anak-anak, menantu dan putera-putera yang lain turut berada dalam situasi tersebut.\\n\\nNext week, dalam perjalanan, aku ada kelas mingguan \"jumpa kawan-kawan,\" (walaupun kawan-kawan dia betul-betul dapat duit \\'aku\\') dan tidur untuk orang lain.\\n\\nSepanjang perjalanan itu, aku terjaga dan bersandar di belakang badanku.\\n\\nWaktu itu aku nampak terus hilang mood yang tidak berpenghujung dan aku semakin hilang mood untuk bangun pagi-pagi.\\n\\nBila mereka marah-marah aku pula mulalah rasa bosan.\\n\\nSolat lambat senang, pukul 11 (maghrib ada lagi, pagi ni tunggu']\n"
     ]
    }
   ],
   "source": [
    "print(model.generate(string, do_sample=True, max_length=256, top_p=0.95, top_k=0))"
   ]
  }
 ],
 "metadata": {
  "kernelspec": {
   "display_name": "Python 3 (ipykernel)",
   "language": "python",
   "name": "python3"
  },
  "language_info": {
   "codemirror_mode": {
    "name": "ipython",
    "version": 3
   },
   "file_extension": ".py",
   "mimetype": "text/x-python",
   "name": "python",
   "nbconvert_exporter": "python",
   "pygments_lexer": "ipython3",
   "version": "3.8.10"
  }
 },
 "nbformat": 4,
 "nbformat_minor": 2
}
