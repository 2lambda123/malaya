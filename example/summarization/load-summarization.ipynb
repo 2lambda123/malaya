{
 "cells": [
  {
   "cell_type": "code",
   "execution_count": 1,
   "metadata": {},
   "outputs": [
    {
     "name": "stdout",
     "output_type": "stream",
     "text": [
      "CPU times: user 12 s, sys: 1.61 s, total: 13.6 s\n",
      "Wall time: 17.9 s\n"
     ]
    }
   ],
   "source": [
    "%%time\n",
    "import malaya"
   ]
  },
  {
   "cell_type": "code",
   "execution_count": 2,
   "metadata": {},
   "outputs": [],
   "source": [
    "isu_kerajaan = [\n",
    "    'Kenyataan kontroversi Setiausaha Agung Barisan Nasional (BN), Datuk Seri Mohamed Nazri Aziz berhubung sekolah vernakular merupakan pandangan peribadi beliau',\n",
    "    'Timbalan Presiden UMNO, Datuk Seri Mohamad Hasan berkata, kenyataan tersebut tidak mewakili pendirian serta pandangan UMNO kerana parti itu menghormati serta memahami keperluan sekolah vernakular dalam negara',\n",
    "    '\"Saya ingin menegaskan dua perkara penting',\n",
    "    'Pertama pendirian beliau tersebut adalah pandangan peribadi yang tidak mewakili pendirian dan pandangan UMNO',\n",
    "    '\"Kedua UMNO sebagai sebuah parti sangat menghormati dan memahami keperluan sekolah vernakular di Malaysia',\n",
    "    'UMNO berpendirian sekolah jenis ini perlu terus wujud di negara kita,\" katanya dalam satu kenyataan akhbar malam ini',\n",
    "    'Mohamed Nazri semalam menjelaskan, kenyataannya mengenai sekolah jenis kebangsaan Cina dan Tamil baru-baru ini disalah petik pihak media',\n",
    "    'Kata Nazri dalam kenyataannya itu, beliau menekankan bahawa semua pihak perlu menghormati hak orang Melayu dan bumiputera',\n",
    "    'Mohamad yang menjalankan tugas-tugas Presiden UMNO berkata, UMNO konsisten dengan pendirian itu dalam mengiktiraf kepelbagaian bangsa dan etnik termasuk hak untuk beragama serta mendapat pendidikan',\n",
    "    'Menurut beliau, persefahaman dan keupayaan meraikan kepelbagaian itu menjadi kelebihan dan kekuatan UMNO dan BN selama ini',\n",
    "    'Kata beliau, komitmen UMNO dan BN berhubung perkara itu dapat dilihat dengan jelas dalam bentuk sokongan infrastruktur, pengiktirafan dan pemberian peruntukan yang diperlukan',\n",
    "    '\"Saya berharap isu ini tidak dipolitikkan secara tidak bertanggungjawab oleh mana-mana pihak terutama dengan cara yang tidak menggambarkan pendirian sebenar UMNO dan BN,\" katanya',\n",
    "    'Beliau turut menegaskan Mohamed Nazri telah mengambil pertanggungjawaban dengan membuat penjelasan maksud sebenarnya ucapanny di Semenyih, Selangor tersebut',\n",
    "]"
   ]
  },
  {
   "cell_type": "markdown",
   "metadata": {},
   "source": [
    "We also can give a string, but remember, Malaya will always split a string by `.` for summarization task."
   ]
  },
  {
   "cell_type": "code",
   "execution_count": 3,
   "metadata": {},
   "outputs": [],
   "source": [
    "isu_kerajaan_combined = '. '.join(isu_kerajaan)"
   ]
  },
  {
   "cell_type": "markdown",
   "metadata": {},
   "source": [
    "## Load Pretrained News summarization deep learning"
   ]
  },
  {
   "cell_type": "code",
   "execution_count": 4,
   "metadata": {},
   "outputs": [],
   "source": [
    "deep_summary = malaya.summarize.deep_model_news()"
   ]
  },
  {
   "cell_type": "code",
   "execution_count": 5,
   "metadata": {},
   "outputs": [
    {
     "data": {
      "text/plain": [
       "{'summary': 'timbalan presiden umno, datuk seri mohamad hasan berkata, kenyataan tersebut tidak mewakili pendirian serta pandangan umno kerana parti itu menghormati serta memahami keperluan sekolah vernakular dalam negara. menurut beliau, persefahaman dan keupayaan meraikan kepelbagaian itu menjadi kelebihan dan kekuatan umno dan bn selama ini. umno berpendirian sekolah jenis ini perlu terus wujud di negara kita,\" katanya dalam satu kenyataan akhbar malam ini',\n",
       " 'top-words': ['bersabdabarangsiapa',\n",
       "  'pembikin',\n",
       "  'sharmini',\n",
       "  'kepulangan',\n",
       "  'sakailah',\n",
       "  'klon',\n",
       "  'seliakekurangan',\n",
       "  'poupart',\n",
       "  'chusus',\n",
       "  'mempunya'],\n",
       " 'cluster-top-words': ['chusus',\n",
       "  'seliakekurangan',\n",
       "  'pembikin',\n",
       "  'sakailah',\n",
       "  'kepulangan',\n",
       "  'klon',\n",
       "  'poupart',\n",
       "  'mempunya',\n",
       "  'sharmini',\n",
       "  'bersabdabarangsiapa']}"
      ]
     },
     "execution_count": 5,
     "metadata": {},
     "output_type": "execute_result"
    }
   ],
   "source": [
    "deep_summary.summarize(isu_kerajaan,important_words=10)"
   ]
  },
  {
   "cell_type": "code",
   "execution_count": 6,
   "metadata": {},
   "outputs": [
    {
     "data": {
      "text/plain": [
       "{'summary': 'timbalan presiden umno, datuk seri mohamad hasan berkata, kenyataan tersebut tidak mewakili pendirian serta pandangan umno kerana parti itu menghormati serta memahami keperluan sekolah vernakular dalam negara. menurut beliau, persefahaman dan keupayaan meraikan kepelbagaian itu menjadi kelebihan dan kekuatan umno dan bn selama ini. umno berpendirian sekolah jenis ini perlu terus wujud di negara kita,\" katanya dalam satu kenyataan akhbar malam ini',\n",
       " 'top-words': ['bersabdabarangsiapa',\n",
       "  'pembikin',\n",
       "  'sharmini',\n",
       "  'kepulangan',\n",
       "  'sakailah',\n",
       "  'klon',\n",
       "  'seliakekurangan',\n",
       "  'poupart',\n",
       "  'chusus',\n",
       "  'mempunya'],\n",
       " 'cluster-top-words': ['chusus',\n",
       "  'seliakekurangan',\n",
       "  'pembikin',\n",
       "  'sakailah',\n",
       "  'kepulangan',\n",
       "  'klon',\n",
       "  'poupart',\n",
       "  'mempunya',\n",
       "  'sharmini',\n",
       "  'bersabdabarangsiapa']}"
      ]
     },
     "execution_count": 6,
     "metadata": {},
     "output_type": "execute_result"
    }
   ],
   "source": [
    "deep_summary.summarize(isu_kerajaan_combined,important_words=10)"
   ]
  },
  {
   "cell_type": "markdown",
   "metadata": {},
   "source": [
    "You also can change sentences to vector representation using `vectorize()`."
   ]
  },
  {
   "cell_type": "code",
   "execution_count": 7,
   "metadata": {},
   "outputs": [
    {
     "data": {
      "text/plain": [
       "(13, 128)"
      ]
     },
     "execution_count": 7,
     "metadata": {},
     "output_type": "execute_result"
    }
   ],
   "source": [
    "deep_summary.vectorize(isu_kerajaan_combined).shape"
   ]
  },
  {
   "cell_type": "code",
   "execution_count": 8,
   "metadata": {},
   "outputs": [
    {
     "data": {
      "text/plain": [
       "(13, 128)"
      ]
     },
     "execution_count": 8,
     "metadata": {},
     "output_type": "execute_result"
    }
   ],
   "source": [
    "deep_summary.vectorize(isu_kerajaan).shape"
   ]
  },
  {
   "cell_type": "markdown",
   "metadata": {},
   "source": [
    "## Load Pretrained Wikipedia summarization deep learning"
   ]
  },
  {
   "cell_type": "code",
   "execution_count": 9,
   "metadata": {},
   "outputs": [
    {
     "name": "stdout",
     "output_type": "stream",
     "text": [
      "WARNING: this model is using convolutional based, Tensorflow-GPU above 1.10 may got a problem. Please downgrade to Tensorflow-GPU v1.8 if got any cuDNN error.\n"
     ]
    }
   ],
   "source": [
    "deep_summary = malaya.summarize.deep_model_wiki()"
   ]
  },
  {
   "cell_type": "code",
   "execution_count": 10,
   "metadata": {},
   "outputs": [
    {
     "data": {
      "text/plain": [
       "{'summary': '\"saya ingin menegaskan dua perkara penting. umno berpendirian sekolah jenis ini perlu terus wujud di negara kita,\" katanya dalam satu kenyataan akhbar malam ini. \"saya berharap isu ini tidak dipolitikkan secara tidak bertanggungjawab oleh mana-mana pihak terutama dengan cara yang tidak menggambarkan pendirian sebenar umno dan bn,\" katanya',\n",
       " 'top-words': ['jagaannya',\n",
       "  'ferdy',\n",
       "  'hoe',\n",
       "  'lanun',\n",
       "  'laksmi',\n",
       "  'zulkifli',\n",
       "  'televisyen',\n",
       "  'ongr',\n",
       "  'kawan',\n",
       "  'sharidake'],\n",
       " 'cluster-top-words': ['lanun',\n",
       "  'hoe',\n",
       "  'televisyen',\n",
       "  'jagaannya',\n",
       "  'ongr',\n",
       "  'laksmi',\n",
       "  'zulkifli',\n",
       "  'kawan',\n",
       "  'ferdy',\n",
       "  'sharidake']}"
      ]
     },
     "execution_count": 10,
     "metadata": {},
     "output_type": "execute_result"
    }
   ],
   "source": [
    "deep_summary.summarize(isu_kerajaan,important_words=10)"
   ]
  },
  {
   "cell_type": "markdown",
   "metadata": {},
   "source": [
    "You also can change sentences to vector representation using `vectorize()`."
   ]
  },
  {
   "cell_type": "code",
   "execution_count": 11,
   "metadata": {},
   "outputs": [
    {
     "data": {
      "text/plain": [
       "(13, 64)"
      ]
     },
     "execution_count": 11,
     "metadata": {},
     "output_type": "execute_result"
    }
   ],
   "source": [
    "deep_summary.vectorize(isu_kerajaan).shape"
   ]
  },
  {
   "cell_type": "code",
   "execution_count": 12,
   "metadata": {},
   "outputs": [
    {
     "data": {
      "text/plain": [
       "(13, 64)"
      ]
     },
     "execution_count": 12,
     "metadata": {},
     "output_type": "execute_result"
    }
   ],
   "source": [
    "deep_summary.vectorize(isu_kerajaan_combined).shape"
   ]
  },
  {
   "cell_type": "markdown",
   "metadata": {},
   "source": [
    "## Train skip-thought summarization deep learning model"
   ]
  },
  {
   "cell_type": "code",
   "execution_count": 13,
   "metadata": {},
   "outputs": [
    {
     "name": "stderr",
     "output_type": "stream",
     "text": [
      "minibatch loop: 100%|██████████| 6/6 [00:01<00:00,  3.79it/s, cost=9.18]\n",
      "minibatch loop: 100%|██████████| 6/6 [00:01<00:00,  5.26it/s, cost=6.16]\n",
      "minibatch loop: 100%|██████████| 6/6 [00:01<00:00,  5.02it/s, cost=4.82]\n",
      "minibatch loop: 100%|██████████| 6/6 [00:01<00:00,  5.14it/s, cost=3.59]\n",
      "minibatch loop: 100%|██████████| 6/6 [00:01<00:00,  5.28it/s, cost=2.63]\n"
     ]
    }
   ],
   "source": [
    "deep_summary = malaya.summarize.train_skip_thought(isu_kerajaan, batch_size = 2)"
   ]
  },
  {
   "cell_type": "code",
   "execution_count": 14,
   "metadata": {},
   "outputs": [
    {
     "data": {
      "text/plain": [
       "{'summary': 'pertama pendirian beliau tersebut adalah pandangan peribadi yang tidak mewakili pendirian dan pandangan umno. \"kedua umno sebagai sebuah parti sangat menghormati dan memahami keperluan sekolah vernakular di malaysia. kenyataan kontroversi setiausaha agung barisan nasional bn , datuk seri mohamed nazri aziz berhubung sekolah vernakular merupakan pandangan peribadi beliau',\n",
       " 'top-words': ['persefahaman',\n",
       "  'kekuatan',\n",
       "  'pendirian',\n",
       "  'isu',\n",
       "  'tugas',\n",
       "  'presiden',\n",
       "  'menjalankan',\n",
       "  'sokongan',\n",
       "  'bentuk',\n",
       "  'tidak'],\n",
       " 'cluster-top-words': ['persefahaman',\n",
       "  'sokongan',\n",
       "  'bentuk',\n",
       "  'tidak',\n",
       "  'isu',\n",
       "  'menjalankan',\n",
       "  'presiden',\n",
       "  'pendirian',\n",
       "  'kekuatan',\n",
       "  'tugas']}"
      ]
     },
     "execution_count": 14,
     "metadata": {},
     "output_type": "execute_result"
    }
   ],
   "source": [
    "deep_summary.summarize(isu_kerajaan,important_words=10)"
   ]
  },
  {
   "cell_type": "markdown",
   "metadata": {},
   "source": [
    "## Train LSA model"
   ]
  },
  {
   "cell_type": "code",
   "execution_count": 15,
   "metadata": {},
   "outputs": [
    {
     "data": {
      "text/plain": [
       "{'summary': 'komitmen umno berhubung bentuk sokongan infrastruktur pengiktirafan pemberian peruntukan. berharap isu dipolitikkan bertanggungjawab menggambarkan pendirian sebenar umno. mohamed nazri mengambil pertanggungjawaban penjelasan maksud ucapanny semenyih selangor',\n",
       " 'top-words': ['wakil pandang umno',\n",
       "  'parti',\n",
       "  'hak',\n",
       "  'hormat paham',\n",
       "  'hormat paham sekolah',\n",
       "  'hubung',\n",
       "  'iktiraf',\n",
       "  'jenis',\n",
       "  'mohamad',\n",
       "  'nazri nyata'],\n",
       " 'cluster-top-words': ['wakil pandang umno',\n",
       "  'nazri nyata',\n",
       "  'parti',\n",
       "  'mohamad',\n",
       "  'hak',\n",
       "  'jenis',\n",
       "  'hubung',\n",
       "  'hormat paham sekolah',\n",
       "  'iktiraf']}"
      ]
     },
     "execution_count": 15,
     "metadata": {},
     "output_type": "execute_result"
    }
   ],
   "source": [
    "malaya.summarize.lsa(isu_kerajaan,important_words=10)"
   ]
  },
  {
   "cell_type": "code",
   "execution_count": 20,
   "metadata": {},
   "outputs": [
    {
     "data": {
      "text/plain": [
       "{'summary': 'komitmen umno berhubung bentuk sokongan infrastruktur pengiktirafan pemberian peruntukan. berharap isu dipolitikkan bertanggungjawab menggambarkan pendirian sebenar umno. mohamed nazri mengambil pertanggungjawaban penjelasan maksud ucapanny semenyih selangor',\n",
       " 'top-words': ['wakil pandang umno',\n",
       "  'parti',\n",
       "  'hak',\n",
       "  'hormat paham',\n",
       "  'hormat paham sekolah',\n",
       "  'hubung',\n",
       "  'iktiraf',\n",
       "  'jenis',\n",
       "  'mohamad',\n",
       "  'nazri nyata'],\n",
       " 'cluster-top-words': ['wakil pandang umno',\n",
       "  'nazri nyata',\n",
       "  'parti',\n",
       "  'mohamad',\n",
       "  'hak',\n",
       "  'jenis',\n",
       "  'hubung',\n",
       "  'hormat paham sekolah',\n",
       "  'iktiraf']}"
      ]
     },
     "execution_count": 20,
     "metadata": {},
     "output_type": "execute_result"
    }
   ],
   "source": [
    "malaya.summarize.lsa(isu_kerajaan_combined,important_words=10)"
   ]
  },
  {
   "cell_type": "markdown",
   "metadata": {},
   "source": [
    "#### Maintain original"
   ]
  },
  {
   "cell_type": "code",
   "execution_count": 16,
   "metadata": {},
   "outputs": [
    {
     "data": {
      "text/plain": [
       "{'summary': 'kata beliau, komitmen umno dan bn berhubung perkara itu dapat dilihat dengan jelas dalam bentuk sokongan infrastruktur, pengiktirafan dan pemberian peruntukan yang diperlukan. \"saya berharap isu ini tidak dipolitikkan secara tidak bertanggungjawab oleh mana-mana pihak terutama dengan cara yang tidak menggambarkan pendirian sebenar umno dan bn,\" katanya. beliau turut menegaskan mohamed nazri telah mengambil pertanggungjawaban dengan membuat penjelasan maksud sebenarnya ucapanny di semenyih, selangor tersebut',\n",
       " 'top-words': ['wakil pandang umno',\n",
       "  'pandang umno',\n",
       "  'hak',\n",
       "  'hormat paham',\n",
       "  'hormat paham sekolah',\n",
       "  'hubung',\n",
       "  'iktiraf',\n",
       "  'jenis',\n",
       "  'mohamad',\n",
       "  'nazri nyata'],\n",
       " 'cluster-top-words': ['wakil pandang umno',\n",
       "  'nazri nyata',\n",
       "  'mohamad',\n",
       "  'hak',\n",
       "  'jenis',\n",
       "  'hubung',\n",
       "  'hormat paham sekolah',\n",
       "  'iktiraf']}"
      ]
     },
     "execution_count": 16,
     "metadata": {},
     "output_type": "execute_result"
    }
   ],
   "source": [
    "malaya.summarize.lsa(isu_kerajaan, important_words=10,maintain_original=True)"
   ]
  },
  {
   "cell_type": "code",
   "execution_count": 21,
   "metadata": {},
   "outputs": [
    {
     "data": {
      "text/plain": [
       "{'summary': 'kata beliau, komitmen umno dan bn berhubung perkara itu dapat dilihat dengan jelas dalam bentuk sokongan infrastruktur, pengiktirafan dan pemberian peruntukan yang diperlukan. \"saya berharap isu ini tidak dipolitikkan secara tidak bertanggungjawab oleh mana-mana pihak terutama dengan cara yang tidak menggambarkan pendirian sebenar umno dan bn,\" katanya. beliau turut menegaskan mohamed nazri telah mengambil pertanggungjawaban dengan membuat penjelasan maksud sebenarnya ucapanny di semenyih, selangor tersebut',\n",
       " 'top-words': ['wakil pandang umno',\n",
       "  'pandang umno',\n",
       "  'hak',\n",
       "  'hormat paham',\n",
       "  'hormat paham sekolah',\n",
       "  'hubung',\n",
       "  'iktiraf',\n",
       "  'jenis',\n",
       "  'mohamad',\n",
       "  'nazri nyata'],\n",
       " 'cluster-top-words': ['wakil pandang umno',\n",
       "  'nazri nyata',\n",
       "  'mohamad',\n",
       "  'hak',\n",
       "  'jenis',\n",
       "  'hubung',\n",
       "  'hormat paham sekolah',\n",
       "  'iktiraf']}"
      ]
     },
     "execution_count": 21,
     "metadata": {},
     "output_type": "execute_result"
    }
   ],
   "source": [
    "malaya.summarize.lsa(isu_kerajaan_combined, important_words=10,maintain_original=True)"
   ]
  },
  {
   "cell_type": "markdown",
   "metadata": {},
   "source": [
    "## Train NMF model"
   ]
  },
  {
   "cell_type": "code",
   "execution_count": 17,
   "metadata": {},
   "outputs": [
    {
     "data": {
      "text/plain": [
       "{'summary': 'komitmen umno berhubung bentuk sokongan infrastruktur pengiktirafan pemberian peruntukan. berharap isu dipolitikkan bertanggungjawab menggambarkan pendirian sebenar umno. mohamed nazri mengambil pertanggungjawaban penjelasan maksud ucapanny semenyih selangor',\n",
       " 'top-words': ['wakil pandang umno',\n",
       "  'parti',\n",
       "  'hak',\n",
       "  'hormat paham',\n",
       "  'hormat paham sekolah',\n",
       "  'hubung',\n",
       "  'iktiraf',\n",
       "  'jenis',\n",
       "  'mohamad',\n",
       "  'nazri nyata'],\n",
       " 'cluster-top-words': ['wakil pandang umno',\n",
       "  'nazri nyata',\n",
       "  'parti',\n",
       "  'mohamad',\n",
       "  'hak',\n",
       "  'jenis',\n",
       "  'hubung',\n",
       "  'hormat paham sekolah',\n",
       "  'iktiraf']}"
      ]
     },
     "execution_count": 17,
     "metadata": {},
     "output_type": "execute_result"
    }
   ],
   "source": [
    "malaya.summarize.nmf(isu_kerajaan,important_words=10)"
   ]
  },
  {
   "cell_type": "markdown",
   "metadata": {},
   "source": [
    "## Train LDA model"
   ]
  },
  {
   "cell_type": "code",
   "execution_count": 18,
   "metadata": {},
   "outputs": [
    {
     "data": {
      "text/plain": [
       "{'summary': 'komitmen umno berhubung bentuk sokongan infrastruktur pengiktirafan pemberian peruntukan. berharap isu dipolitikkan bertanggungjawab menggambarkan pendirian sebenar umno. mohamed nazri mengambil pertanggungjawaban penjelasan maksud ucapanny semenyih selangor',\n",
       " 'top-words': ['wakil pandang umno',\n",
       "  'parti',\n",
       "  'hak',\n",
       "  'hormat paham',\n",
       "  'hormat paham sekolah',\n",
       "  'hubung',\n",
       "  'iktiraf',\n",
       "  'jenis',\n",
       "  'mohamad',\n",
       "  'nazri nyata'],\n",
       " 'cluster-top-words': ['wakil pandang umno',\n",
       "  'nazri nyata',\n",
       "  'parti',\n",
       "  'mohamad',\n",
       "  'hak',\n",
       "  'jenis',\n",
       "  'hubung',\n",
       "  'hormat paham sekolah',\n",
       "  'iktiraf']}"
      ]
     },
     "execution_count": 18,
     "metadata": {},
     "output_type": "execute_result"
    }
   ],
   "source": [
    "malaya.summarize.lda(isu_kerajaan,important_words=10)"
   ]
  },
  {
   "cell_type": "markdown",
   "metadata": {},
   "source": [
    "#### Not clustering important words"
   ]
  },
  {
   "cell_type": "code",
   "execution_count": 19,
   "metadata": {},
   "outputs": [
    {
     "data": {
      "text/plain": [
       "{'summary': 'komitmen umno berhubung bentuk sokongan infrastruktur pengiktirafan pemberian peruntukan. berharap isu dipolitikkan bertanggungjawab menggambarkan pendirian sebenar umno. mohamed nazri mengambil pertanggungjawaban penjelasan maksud ucapanny semenyih selangor',\n",
       " 'top-words': ['wakil pandang umno',\n",
       "  'parti',\n",
       "  'hak',\n",
       "  'hormat paham',\n",
       "  'hormat paham sekolah',\n",
       "  'hubung',\n",
       "  'iktiraf',\n",
       "  'jenis',\n",
       "  'mohamad',\n",
       "  'nazri nyata']}"
      ]
     },
     "execution_count": 19,
     "metadata": {},
     "output_type": "execute_result"
    }
   ],
   "source": [
    "malaya.summarize.lda(isu_kerajaan,important_words=10,return_cluster=False)"
   ]
  }
 ],
 "metadata": {
  "kernelspec": {
   "display_name": "Python 3",
   "language": "python",
   "name": "python3"
  },
  "language_info": {
   "codemirror_mode": {
    "name": "ipython",
    "version": 3
   },
   "file_extension": ".py",
   "mimetype": "text/x-python",
   "name": "python",
   "nbconvert_exporter": "python",
   "pygments_lexer": "ipython3",
   "version": "3.6.5"
  }
 },
 "nbformat": 4,
 "nbformat_minor": 2
}
