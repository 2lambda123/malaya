{
 "cells": [
  {
   "cell_type": "code",
   "execution_count": 1,
   "metadata": {},
   "outputs": [],
   "source": [
    "import re\n",
    "import random\n",
    "\n",
    "punctuation = '!()&%{}[];:\\'\",./?\\\\<>'\n",
    "\n",
    "def remove_punc(string):\n",
    "    string = re.sub('[^A-Za-z0-9 ]+', ' ', string)\n",
    "    string = re.sub(r'[ ]+', ' ', string).strip()\n",
    "    return string\n",
    "\n",
    "def remove_punc_random(string, threshold = 0.3):\n",
    "    result = []\n",
    "    for c in string:\n",
    "        if c in punctuation and random.random() >= threshold:\n",
    "            continue\n",
    "            \n",
    "        result.append(c)\n",
    "    return ''.join(result)\n",
    "\n",
    "def add_punc_random(string, threshold = 0.7):\n",
    "    string = string.split()\n",
    "    for i in range(len(string)):\n",
    "        if random.random() >= threshold and string[i][-1] not in punctuation:\n",
    "            string[i] = string[i] + random.choice(punctuation)\n",
    "    return ' '.join(string)\n",
    "\n",
    "def add_space_after_punc(string, threshold = 0.3):\n",
    "    string = string.split()\n",
    "    for i in range(len(string)):\n",
    "        if random.random() >= threshold and string[i][-1] in punctuation:\n",
    "            string[i] = string[i][:-1] + ' ' + string[i][-1]\n",
    "    return ' '.join(string)\n",
    "\n",
    "def replace_random_punc(string):\n",
    "    string = string.split()\n",
    "    for i in range(len(string)):\n",
    "        if string[i][-1] in punctuation:\n",
    "            string[i] = string[i][:-1] + random.choice(punctuation)\n",
    "    return ' '.join(string)\n",
    "\n",
    "def random_upper(string, threshold = 0.5):\n",
    "    string = string.split()\n",
    "    for i in range(len(string)):\n",
    "        if random.random() >= threshold:\n",
    "            string[i] = string[i].upper()\n",
    "    return ' '.join(string)\n",
    "\n",
    "def random_title(string, threshold = 0.5):\n",
    "    string = string.split()\n",
    "    for i in range(len(string)):\n",
    "        if random.random() >= threshold:\n",
    "            string[i] = string[i].title()\n",
    "    return ' '.join(string)\n",
    "\n",
    "def random_char_upper(string, threshold = 0.7):\n",
    "    result = []\n",
    "    for c in string:\n",
    "        if random.random() >= threshold:\n",
    "            c = c.upper()\n",
    "        result.append(c)\n",
    "    return ''.join(result)\n",
    "\n",
    "funcs = [remove_punc, remove_punc_random, add_punc_random, add_space_after_punc, \n",
    "         random_upper, random_title, random_char_upper, replace_random_punc]\n",
    "\n",
    "chain_funcs = [remove_punc_random, add_punc_random, add_space_after_punc, \n",
    "         random_upper, random_title, random_char_upper, replace_random_punc]\n",
    "\n",
    "def package(string, repeat = 2, repeat_chain = 5, threshold = 0.5):\n",
    "    \n",
    "    result = [string]\n",
    "    result.append(string.lower())\n",
    "    result.append(string.upper())\n",
    "    result.append(string.title())\n",
    "    \n",
    "    for _ in range(repeat):\n",
    "    \n",
    "        for func in funcs:\n",
    "            result.append(func(string))\n",
    "\n",
    "        for func in funcs:\n",
    "            result.append(func(string.lower()))\n",
    "\n",
    "        for func in funcs:\n",
    "            result.append(func(string.upper()))\n",
    "\n",
    "        for func in funcs:\n",
    "            result.append(func(string.title()))\n",
    "    \n",
    "    for _ in range(repeat_chain):\n",
    "        s = string[:]\n",
    "        for func in chain_funcs:\n",
    "            if random.random() > threshold:\n",
    "                s = func(s)\n",
    "        result.append(s)\n",
    "        \n",
    "    result = list(set(result))\n",
    "        \n",
    "    return result\n",
    "\n",
    "def slide(strings, n = 5):\n",
    "    result = []\n",
    "    for i in range(0, len(strings), len(strings) - (n - 1)):\n",
    "        result.append(strings[i: i + n])\n",
    "    return result"
   ]
  },
  {
   "cell_type": "code",
   "execution_count": 7,
   "metadata": {},
   "outputs": [],
   "source": [
    "import cleaning\n",
    "import random"
   ]
  },
  {
   "cell_type": "code",
   "execution_count": 3,
   "metadata": {},
   "outputs": [],
   "source": [
    "files = ['../pure-text/filtered-dumping-wiki.txt',\n",
    "        '../pure-text/dumping-cleaned-news.txt']"
   ]
  },
  {
   "cell_type": "code",
   "execution_count": 22,
   "metadata": {},
   "outputs": [
    {
     "data": {
      "text/plain": [
       "363578"
      ]
     },
     "execution_count": 22,
     "metadata": {},
     "output_type": "execute_result"
    }
   ],
   "source": [
    "with open(files[0]) as fopen:\n",
    "    data = fopen.read().split('\\n')\n",
    "    \n",
    "results, result = [], []\n",
    "for i in data:\n",
    "    if len(i) and i[-1] != '.':\n",
    "        i = i + '.'\n",
    "    if not len(i) and len(result):\n",
    "        results.append(result)\n",
    "        result = []\n",
    "    else:\n",
    "        if len(i):\n",
    "            result.append(i)\n",
    "        \n",
    "if len(result):\n",
    "    results.append(result)\n",
    "    \n",
    "len(results)"
   ]
  },
  {
   "cell_type": "code",
   "execution_count": 23,
   "metadata": {},
   "outputs": [],
   "source": [
    "from tqdm import tqdm\n",
    "\n",
    "def loop(strings):\n",
    "    results = []\n",
    "    for i in tqdm(range(len(strings))):\n",
    "        try:\n",
    "            slided = slide(strings[i])\n",
    "            slided = [s for s in slided if len(s) > 1]\n",
    "            for s in slided:\n",
    "                s = ' '.join(s)\n",
    "                p = package(s)\n",
    "                for row in p:\n",
    "                    results.append((row, s))\n",
    "        except:\n",
    "            pass\n",
    "    return results"
   ]
  },
  {
   "cell_type": "code",
   "execution_count": 24,
   "metadata": {},
   "outputs": [
    {
     "name": "stderr",
     "output_type": "stream",
     "text": [
      "100%|██████████| 22723/22723 [00:10<00:00, 2112.09it/s]\n",
      "100%|██████████| 10/10 [00:00<00:00, 79739.62it/s]/s]s]\n",
      "100%|██████████| 22723/22723 [00:15<00:00, 1436.86it/s]\n",
      "100%|██████████| 22723/22723 [00:21<00:00, 1047.61it/s]\n",
      "100%|██████████| 22723/22723 [00:22<00:00, 997.90it/s]]\n",
      "100%|██████████| 22723/22723 [00:25<00:00, 875.86it/s] \n",
      "100%|██████████| 22723/22723 [00:26<00:00, 846.02it/s] \n",
      "100%|██████████| 22723/22723 [00:26<00:00, 845.28it/s]\n",
      "100%|██████████| 22723/22723 [00:27<00:00, 818.32it/s] \n",
      "100%|██████████| 22723/22723 [00:39<00:00, 574.06it/s] \n",
      "100%|██████████| 22723/22723 [00:54<00:00, 413.47it/s] \n",
      "100%|██████████| 22723/22723 [01:01<00:00, 369.44it/s]\n",
      "100%|██████████| 22723/22723 [01:07<00:00, 337.90it/s]\n",
      "100%|██████████| 22723/22723 [01:07<00:00, 336.10it/s]\n",
      " 99%|█████████▉| 22455/22723 [01:09<00:02, 107.27it/s]\n",
      "100%|██████████| 22723/22723 [01:11<00:00, 319.68it/s]\n",
      "100%|██████████| 22723/22723 [01:12<00:00, 315.38it/s]\n"
     ]
    }
   ],
   "source": [
    "results1 = cleaning.multiprocessing(results, loop)"
   ]
  },
  {
   "cell_type": "code",
   "execution_count": 25,
   "metadata": {},
   "outputs": [
    {
     "data": {
      "text/plain": [
       "15141820"
      ]
     },
     "execution_count": 25,
     "metadata": {},
     "output_type": "execute_result"
    }
   ],
   "source": [
    "len(results1)"
   ]
  },
  {
   "cell_type": "code",
   "execution_count": 26,
   "metadata": {},
   "outputs": [
    {
     "data": {
      "text/plain": [
       "[('Hypo-ARena ? Hypo-AreNa (DahulU DikEnaLI SebAgAi \" IAlaH SEbUAh StaDiUM seRBA GuNa Di KLAGEnfUrt/ AustRiA \" IA MerupaKan Stadium pAsuKan AustRia KarNTen\\' StaDium LAMA DiKeNali SebagAi WoRTheRSEESTAdIOn % DibInA Pada 1960 dAn MeMPunyAi KApAsIti SebaNYak 10,900[ Ia diRoBOhkan PadA 2005 DaN DiganTikan Dengan HYpo-ArENa Yang BaRU . JUga dIkeNALi SehinggA 30 JuN 2007 Dengan naMa \"WorTHerseestadion\"\\'',\n",
       "  'Hypo-Arena. Hypo-Arena (dahulu dikenali sebagai ) ialah sebuah stadium serba guna di Klagenfurt, Austria. Ia merupakan stadium pasukan Austria Karnten. Stadium lama dikenali sebagai Wortherseestadion, dibina pada 1960 dan mempunyai kapasiti sebanyak 10,900. Ia dirobohkan pada 2005 dan digantikan dengan Hypo-Arena yang baru, juga dikenali sehingga 30 Jun 2007 dengan nama \"Wortherseestadion\".'),\n",
       " ('HyPo-AreNa. Hypo-AreNA (dAhulu dIKeNAli SEbAgAI ) iALah sEbuAh stadiUM SeRba gUNA di KlAgEnfUrT, AusTrIa. IA meRupakAN STAdiuM paSuKan AUstria KarnTEn. Stadium LamA dIkEnaLI seBaGaI WortherseestaDIon, DIBiNa pAdA 1960 daN meMpunyai KApasIti sEbanyAk 10,900. IA Dirobohkan PAdA 2005 dan digantIKan Dengan HYpO-Arena yanG BArU, juGa dIKenali SehIngga 30 Jun 2007 DenGan NAma \"WorthErseesTaDIon\".',\n",
       "  'Hypo-Arena. Hypo-Arena (dahulu dikenali sebagai ) ialah sebuah stadium serba guna di Klagenfurt, Austria. Ia merupakan stadium pasukan Austria Karnten. Stadium lama dikenali sebagai Wortherseestadion, dibina pada 1960 dan mempunyai kapasiti sebanyak 10,900. Ia dirobohkan pada 2005 dan digantikan dengan Hypo-Arena yang baru, juga dikenali sehingga 30 Jun 2007 dengan nama \"Wortherseestadion\".'),\n",
       " ('Hypo-Arena. Hypo-Arena} (Dahulu Dikenali; Sebagai\" ) Ialah Sebuah Stadium Serba Guna Di Klagenfurt, Austria. Ia Merupakan Stadium) Pasukan Austria Karnten. Stadium! Lama Dikenali] Sebagai Wortherseestadion, Dibina? Pada( 1960 Dan Mempunyai\" Kapasiti Sebanyak 10,900. Ia Dirobohkan% Pada\\' 2005 Dan Digantikan Dengan Hypo-Arena Yang& Baru, Juga Dikenali Sehingga 30 Jun. 2007 Dengan Nama \"Wortherseestadion\".',\n",
       "  'Hypo-Arena. Hypo-Arena (dahulu dikenali sebagai ) ialah sebuah stadium serba guna di Klagenfurt, Austria. Ia merupakan stadium pasukan Austria Karnten. Stadium lama dikenali sebagai Wortherseestadion, dibina pada 1960 dan mempunyai kapasiti sebanyak 10,900. Ia dirobohkan pada 2005 dan digantikan dengan Hypo-Arena yang baru, juga dikenali sehingga 30 Jun 2007 dengan nama \"Wortherseestadion\".'),\n",
       " ('Hypo-AREnA. Hypo-Arena (dAhULu DikEnali SebagAI ) IalaH SEbuAh StAdIum serba guna di KlagenfURt, AuStria. Ia MERupaKaN StaDium pAsUKaN AUStrIa KarnTeN. StadIUM Lama dikEnaLI sEbagai WoRtheRseEstAdiOn, dIbiNA pada 1960 dan meMPuNyaI kaPASiti seBAnyak 10,900. IA dirobohkAn pada 2005 Dan DigantiKAn DenGan Hypo-AReNa YANG Baru, jugA diKenalI sEhingga 30 Jun 2007 Dengan nAma \"WOrThersEeSTadion\".',\n",
       "  'Hypo-Arena. Hypo-Arena (dahulu dikenali sebagai ) ialah sebuah stadium serba guna di Klagenfurt, Austria. Ia merupakan stadium pasukan Austria Karnten. Stadium lama dikenali sebagai Wortherseestadion, dibina pada 1960 dan mempunyai kapasiti sebanyak 10,900. Ia dirobohkan pada 2005 dan digantikan dengan Hypo-Arena yang baru, juga dikenali sehingga 30 Jun 2007 dengan nama \"Wortherseestadion\".'),\n",
       " ('Hypo-Arena. Hypo-Arena (dahulu% dikenali{ sebagai ) ialah sebuah stadium serba guna di( Klagenfurt, Austria. Ia merupakan% stadium} pasukan Austria Karnten. Stadium lama dikenali< sebagai Wortherseestadion, dibina pada 1960 dan mempunyai kapasiti sebanyak 10,900. Ia, dirobohkan( pada 2005% dan\\' digantikan% dengan Hypo-Arena yang baru, juga dikenali> sehingga 30 Jun 2007\\' dengan nama: \"Wortherseestadion\".',\n",
       "  'Hypo-Arena. Hypo-Arena (dahulu dikenali sebagai ) ialah sebuah stadium serba guna di Klagenfurt, Austria. Ia merupakan stadium pasukan Austria Karnten. Stadium lama dikenali sebagai Wortherseestadion, dibina pada 1960 dan mempunyai kapasiti sebanyak 10,900. Ia dirobohkan pada 2005 dan digantikan dengan Hypo-Arena yang baru, juga dikenali sehingga 30 Jun 2007 dengan nama \"Wortherseestadion\".'),\n",
       " ('hypo arena hypo arena dahulu dikenali sebagai ialah sebuah stadium serba guna di klagenfurt austria ia merupakan stadium pasukan austria karnten stadium lama dikenali sebagai wortherseestadion dibina pada 1960 dan mempunyai kapasiti sebanyak 10 900 ia dirobohkan pada 2005 dan digantikan dengan hypo arena yang baru juga dikenali sehingga 30 jun 2007 dengan nama wortherseestadion',\n",
       "  'Hypo-Arena. Hypo-Arena (dahulu dikenali sebagai ) ialah sebuah stadium serba guna di Klagenfurt, Austria. Ia merupakan stadium pasukan Austria Karnten. Stadium lama dikenali sebagai Wortherseestadion, dibina pada 1960 dan mempunyai kapasiti sebanyak 10,900. Ia dirobohkan pada 2005 dan digantikan dengan Hypo-Arena yang baru, juga dikenali sehingga 30 Jun 2007 dengan nama \"Wortherseestadion\".'),\n",
       " ('hypo-arena . hypo-arena (dahulu dikenali sebagai  ) ialah sebuah stadium serba guna di klagenfurt , austria . ia merupakan stadium pasukan austria karnten . stadium lama dikenali sebagai wortherseestadion, dibina pada 1960 dan mempunyai kapasiti sebanyak 10,900 . ia dirobohkan pada 2005 dan digantikan dengan hypo-arena yang baru , juga dikenali sehingga 30 jun 2007 dengan nama \"wortherseestadion\" .',\n",
       "  'Hypo-Arena. Hypo-Arena (dahulu dikenali sebagai ) ialah sebuah stadium serba guna di Klagenfurt, Austria. Ia merupakan stadium pasukan Austria Karnten. Stadium lama dikenali sebagai Wortherseestadion, dibina pada 1960 dan mempunyai kapasiti sebanyak 10,900. Ia dirobohkan pada 2005 dan digantikan dengan Hypo-Arena yang baru, juga dikenali sehingga 30 Jun 2007 dengan nama \"Wortherseestadion\".'),\n",
       " ('Hypo-Arena. Hypo-Arena (Dahulu DIKENALI Sebagai ) Ialah Sebuah Stadium Serba Guna Di KLAGENFURT, AUSTRIA. IA Merupakan Stadium PASUKAN AUSTRIA KARNTEN. STADIUM LAMA DIKENALI SEBAGAI WORTHERSEESTADION, Dibina PADA 1960 DAN MEMPUNYAI KAPASITI Sebanyak 10,900. Ia Dirobohkan PADA 2005 Dan DIGANTIKAN Dengan HYPO-ARENA YANG BARU, JUGA Dikenali SEHINGGA 30 Jun 2007 Dengan Nama \"Wortherseestadion\".',\n",
       "  'Hypo-Arena. Hypo-Arena (dahulu dikenali sebagai ) ialah sebuah stadium serba guna di Klagenfurt, Austria. Ia merupakan stadium pasukan Austria Karnten. Stadium lama dikenali sebagai Wortherseestadion, dibina pada 1960 dan mempunyai kapasiti sebanyak 10,900. Ia dirobohkan pada 2005 dan digantikan dengan Hypo-Arena yang baru, juga dikenali sehingga 30 Jun 2007 dengan nama \"Wortherseestadion\".'),\n",
       " ('hypo-arena. hypo-arena (DAHULU dikenali SEBAGAI ) IALAH SEBUAH stadium serba guna DI klagenfurt, austria. IA MERUPAKAN STADIUM pasukan AUSTRIA karnten. stadium LAMA DIKENALI sebagai wortherseestadion, DIBINA PADA 1960 DAN MEMPUNYAI KAPASITI SEBANYAK 10,900. IA DIROBOHKAN PADA 2005 DAN DIGANTIKAN dengan hypo-arena yang baru, juga dikenali sehingga 30 JUN 2007 dengan nama \"WORTHERSEESTADION\".',\n",
       "  'Hypo-Arena. Hypo-Arena (dahulu dikenali sebagai ) ialah sebuah stadium serba guna di Klagenfurt, Austria. Ia merupakan stadium pasukan Austria Karnten. Stadium lama dikenali sebagai Wortherseestadion, dibina pada 1960 dan mempunyai kapasiti sebanyak 10,900. Ia dirobohkan pada 2005 dan digantikan dengan Hypo-Arena yang baru, juga dikenali sehingga 30 Jun 2007 dengan nama \"Wortherseestadion\".'),\n",
       " ('Hypo-Arena . Hypo-Arena (dahulu dikenali sebagai ) ialah sebuah stadium serba guna di Klagenfurt , Austria. Ia merupakan stadium pasukan Austria Karnten . Stadium lama dikenali sebagai Wortherseestadion, dibina pada 1960 dan mempunyai kapasiti sebanyak 10,900 . Ia dirobohkan pada 2005 dan digantikan dengan Hypo-Arena yang baru , juga dikenali sehingga 30 Jun 2007 dengan nama \"Wortherseestadion\".',\n",
       "  'Hypo-Arena. Hypo-Arena (dahulu dikenali sebagai ) ialah sebuah stadium serba guna di Klagenfurt, Austria. Ia merupakan stadium pasukan Austria Karnten. Stadium lama dikenali sebagai Wortherseestadion, dibina pada 1960 dan mempunyai kapasiti sebanyak 10,900. Ia dirobohkan pada 2005 dan digantikan dengan Hypo-Arena yang baru, juga dikenali sehingga 30 Jun 2007 dengan nama \"Wortherseestadion\".'),\n",
       " ('Hypo-Arena. Hypo-Arena (dahulu Dikenali sebagai ) ialah Sebuah stadium Serba guna di Klagenfurt, Austria. Ia Merupakan Stadium pasukan Austria Karnten. Stadium lama dikenali Sebagai Wortherseestadion, dibina pada 1960 dan mempunyai kapasiti sebanyak 10,900. Ia Dirobohkan Pada 2005 Dan Digantikan dengan Hypo-Arena Yang Baru, Juga dikenali Sehingga 30 Jun 2007 Dengan Nama \"Wortherseestadion\".',\n",
       "  'Hypo-Arena. Hypo-Arena (dahulu dikenali sebagai ) ialah sebuah stadium serba guna di Klagenfurt, Austria. Ia merupakan stadium pasukan Austria Karnten. Stadium lama dikenali sebagai Wortherseestadion, dibina pada 1960 dan mempunyai kapasiti sebanyak 10,900. Ia dirobohkan pada 2005 dan digantikan dengan Hypo-Arena yang baru, juga dikenali sehingga 30 Jun 2007 dengan nama \"Wortherseestadion\".'),\n",
       " ('Hypo-Arena( Hypo-Arena (Dahulu Dikenali Sebagai \\\\ Ialah Sebuah Stadium Serba Guna Di Klagenfurt< Austria\" Ia Merupakan Stadium Pasukan Austria Karnten; Stadium Lama Dikenali Sebagai Wortherseestadion? Dibina Pada 1960 Dan Mempunyai Kapasiti Sebanyak 10,900> Ia Dirobohkan Pada 2005 Dan Digantikan Dengan Hypo-Arena Yang Baru) Juga Dikenali Sehingga 30 Jun 2007 Dengan Nama \"Wortherseestadion\"}',\n",
       "  'Hypo-Arena. Hypo-Arena (dahulu dikenali sebagai ) ialah sebuah stadium serba guna di Klagenfurt, Austria. Ia merupakan stadium pasukan Austria Karnten. Stadium lama dikenali sebagai Wortherseestadion, dibina pada 1960 dan mempunyai kapasiti sebanyak 10,900. Ia dirobohkan pada 2005 dan digantikan dengan Hypo-Arena yang baru, juga dikenali sehingga 30 Jun 2007 dengan nama \"Wortherseestadion\".'),\n",
       " ('Hypo-Arena Hypo-Arena dahulu dikenali sebagai  ialah sebuah stadium serba guna di Klagenfurt Austria Ia merupakan stadium pasukan Austria Karnten Stadium lama dikenali sebagai Wortherseestadion dibina pada 1960 dan mempunyai kapasiti sebanyak 10900 Ia dirobohkan pada 2005 dan digantikan dengan Hypo-Arena yang baru, juga dikenali sehingga 30 Jun 2007 dengan nama Wortherseestadion',\n",
       "  'Hypo-Arena. Hypo-Arena (dahulu dikenali sebagai ) ialah sebuah stadium serba guna di Klagenfurt, Austria. Ia merupakan stadium pasukan Austria Karnten. Stadium lama dikenali sebagai Wortherseestadion, dibina pada 1960 dan mempunyai kapasiti sebanyak 10,900. Ia dirobohkan pada 2005 dan digantikan dengan Hypo-Arena yang baru, juga dikenali sehingga 30 Jun 2007 dengan nama \"Wortherseestadion\".'),\n",
       " ('hypo-arena hypo-arena (dahulu dikenali sebagai ) ialah sebuah stadium serba guna di klagenfurt, austria. ia merupakan stadium pasukan austria karnten. stadium lama dikenali sebagai wortherseestadion, dibina pada 1960 dan mempunyai kapasiti sebanyak 10900 ia dirobohkan pada 2005 dan digantikan dengan hypo-arena yang baru juga dikenali sehingga 30 jun 2007 dengan nama wortherseestadion\"',\n",
       "  'Hypo-Arena. Hypo-Arena (dahulu dikenali sebagai ) ialah sebuah stadium serba guna di Klagenfurt, Austria. Ia merupakan stadium pasukan Austria Karnten. Stadium lama dikenali sebagai Wortherseestadion, dibina pada 1960 dan mempunyai kapasiti sebanyak 10,900. Ia dirobohkan pada 2005 dan digantikan dengan Hypo-Arena yang baru, juga dikenali sehingga 30 Jun 2007 dengan nama \"Wortherseestadion\".'),\n",
       " ('Hypo-Arena} Hypo-Arena (dahulu dikenali sebagai \\\\ ialah sebuah stadium serba guna di Klagenfurt: Austria, Ia merupakan stadium pasukan Austria Karnten. Stadium lama dikenali sebagai Wortherseestadion? dibina pada 1960 dan mempunyai kapasiti sebanyak 10,900[ Ia dirobohkan pada 2005 dan digantikan dengan Hypo-Arena yang baru/ juga dikenali sehingga 30 Jun 2007 dengan nama \"Wortherseestadion\"?',\n",
       "  'Hypo-Arena. Hypo-Arena (dahulu dikenali sebagai ) ialah sebuah stadium serba guna di Klagenfurt, Austria. Ia merupakan stadium pasukan Austria Karnten. Stadium lama dikenali sebagai Wortherseestadion, dibina pada 1960 dan mempunyai kapasiti sebanyak 10,900. Ia dirobohkan pada 2005 dan digantikan dengan Hypo-Arena yang baru, juga dikenali sehingga 30 Jun 2007 dengan nama \"Wortherseestadion\".'),\n",
       " ('Hypo-Arena . Hypo-Arena / (dahulu dikenali Sebagai ) ialah sebuah ; Stadium . serba guna Di Klagenfurt, Austria . Ia Merupakan % stadium pasukan Austria Karnten. Stadium Lama { dikenali { sebagai Wortherseestadion , Dibina pada 1960 Dan Mempunyai\\\\ kapasiti ( Sebanyak 10,900 . Ia Dirobohkan : Pada 2005 & dan digantikan dengan Hypo-Arena yang, baru, Juga \\\\ Dikenali Sehingga 30/ Jun 2007 dengan nama \"Wortherseestadion\" .',\n",
       "  'Hypo-Arena. Hypo-Arena (dahulu dikenali sebagai ) ialah sebuah stadium serba guna di Klagenfurt, Austria. Ia merupakan stadium pasukan Austria Karnten. Stadium lama dikenali sebagai Wortherseestadion, dibina pada 1960 dan mempunyai kapasiti sebanyak 10,900. Ia dirobohkan pada 2005 dan digantikan dengan Hypo-Arena yang baru, juga dikenali sehingga 30 Jun 2007 dengan nama \"Wortherseestadion\".'),\n",
       " ('Hypo-Arena\\\\ Hypo-Arena (dahulu dikenali sebagai > ialah sebuah stadium serba guna di Klagenfurt> Austria\" Ia merupakan stadium pasukan Austria Karnten: Stadium lama dikenali sebagai Wortherseestadion} dibina pada 1960 dan mempunyai kapasiti sebanyak 10,900) Ia dirobohkan pada 2005 dan digantikan dengan Hypo-Arena yang baru< juga dikenali sehingga 30 Jun 2007 dengan nama \"Wortherseestadion\"<',\n",
       "  'Hypo-Arena. Hypo-Arena (dahulu dikenali sebagai ) ialah sebuah stadium serba guna di Klagenfurt, Austria. Ia merupakan stadium pasukan Austria Karnten. Stadium lama dikenali sebagai Wortherseestadion, dibina pada 1960 dan mempunyai kapasiti sebanyak 10,900. Ia dirobohkan pada 2005 dan digantikan dengan Hypo-Arena yang baru, juga dikenali sehingga 30 Jun 2007 dengan nama \"Wortherseestadion\".'),\n",
       " ('HYPO-ARENA. HYPO-ARENA (DAHULU DIKENALI SEBAGAI ) IALAH SEBUAH STADIUM SERBA GUNA DI KLAGENFURT, AUSTRIA. IA MERUPAKAN STADIUM PASUKAN AUSTRIA KARNTEN. STADIUM LAMA DIKENALI SEBAGAI WORTHERSEESTADION, DIBINA PADA 1960 DAN MEMPUNYAI KAPASITI SEBANYAK 10,900. IA DIROBOHKAN PADA 2005 DAN DIGANTIKAN DENGAN HYPO-ARENA YANG BARU, JUGA DIKENALI SEHINGGA 30 JUN 2007 DENGAN NAMA \"WORTHERSEESTADION\".',\n",
       "  'Hypo-Arena. Hypo-Arena (dahulu dikenali sebagai ) ialah sebuah stadium serba guna di Klagenfurt, Austria. Ia merupakan stadium pasukan Austria Karnten. Stadium lama dikenali sebagai Wortherseestadion, dibina pada 1960 dan mempunyai kapasiti sebanyak 10,900. Ia dirobohkan pada 2005 dan digantikan dengan Hypo-Arena yang baru, juga dikenali sehingga 30 Jun 2007 dengan nama \"Wortherseestadion\".'),\n",
       " ('hypo-arena. hypo-arena (dahulu dikenali sebagai ) ialah sebuah stadium serba guna di klagenfurt, austria. ia merupakan stadium pasukan austria karnten. stadium lama dikenali sebagai wortherseestadion, dibina pada 1960 dan mempunyai kapasiti sebanyak 10,900. ia dirobohkan pada 2005 dan digantikan dengan hypo-arena yang baru, juga dikenali sehingga 30 jun 2007 dengan nama \"wortherseestadion\".',\n",
       "  'Hypo-Arena. Hypo-Arena (dahulu dikenali sebagai ) ialah sebuah stadium serba guna di Klagenfurt, Austria. Ia merupakan stadium pasukan Austria Karnten. Stadium lama dikenali sebagai Wortherseestadion, dibina pada 1960 dan mempunyai kapasiti sebanyak 10,900. Ia dirobohkan pada 2005 dan digantikan dengan Hypo-Arena yang baru, juga dikenali sehingga 30 Jun 2007 dengan nama \"Wortherseestadion\".'),\n",
       " ('hypo-arena. Hypo-Arena (Dahulu dikenali sebagai ) ialah Sebuah stadium serba guna Di klagenfurt, Austria. Ia merupakan Stadium pasukan austria Karnten. stadium lama Dikenali sebagai Wortherseestadion, dibina Pada 1960 dan Mempunyai Kapasiti sebanyak 10,900. ia dirobohkan pada 2005 dan Digantikan dengan hypo-arena yang baru, juga dikenali Sehingga 30 Jun 2007 Dengan nama \"Wortherseestadion\".',\n",
       "  'Hypo-Arena. Hypo-Arena (dahulu dikenali sebagai ) ialah sebuah stadium serba guna di Klagenfurt, Austria. Ia merupakan stadium pasukan Austria Karnten. Stadium lama dikenali sebagai Wortherseestadion, dibina pada 1960 dan mempunyai kapasiti sebanyak 10,900. Ia dirobohkan pada 2005 dan digantikan dengan Hypo-Arena yang baru, juga dikenali sehingga 30 Jun 2007 dengan nama \"Wortherseestadion\".'),\n",
       " ('Hypo Arena Hypo Arena dahulu dikenali sebagai ialah sebuah stadium serba guna di Klagenfurt Austria Ia merupakan stadium pasukan Austria Karnten Stadium lama dikenali sebagai Wortherseestadion dibina pada 1960 dan mempunyai kapasiti sebanyak 10 900 Ia dirobohkan pada 2005 dan digantikan dengan Hypo Arena yang baru juga dikenali sehingga 30 Jun 2007 dengan nama Wortherseestadion',\n",
       "  'Hypo-Arena. Hypo-Arena (dahulu dikenali sebagai ) ialah sebuah stadium serba guna di Klagenfurt, Austria. Ia merupakan stadium pasukan Austria Karnten. Stadium lama dikenali sebagai Wortherseestadion, dibina pada 1960 dan mempunyai kapasiti sebanyak 10,900. Ia dirobohkan pada 2005 dan digantikan dengan Hypo-Arena yang baru, juga dikenali sehingga 30 Jun 2007 dengan nama \"Wortherseestadion\".'),\n",
       " ('Hypo-ArenA. Hypo-AReNA (DAhulU DIkenali SeBagaI ) IalAh SebuAh Stadium SErBa GuNa Di KLagenfurt, AuStriA. Ia Merupakan StaDiuM PasUkAn AustRia KArnteN. StaDiUM LaMa DIkenALi SEbagai WOrtHerSeEStaDIoN, DibInA PADA 1960 Dan MeMpuNYai KapasiTi SeBanyAk 10,900. IA DiroBohKan PaDa 2005 DaN DiGANtIkan DENGan HyPo-ArenA YAng BARu, JuGa DIkEnali SeHingga 30 JUn 2007 DEnGan NAma \"WortherseEStadion\".',\n",
       "  'Hypo-Arena. Hypo-Arena (dahulu dikenali sebagai ) ialah sebuah stadium serba guna di Klagenfurt, Austria. Ia merupakan stadium pasukan Austria Karnten. Stadium lama dikenali sebagai Wortherseestadion, dibina pada 1960 dan mempunyai kapasiti sebanyak 10,900. Ia dirobohkan pada 2005 dan digantikan dengan Hypo-Arena yang baru, juga dikenali sehingga 30 Jun 2007 dengan nama \"Wortherseestadion\".'),\n",
       " ('HYPO ARENA HYPO ARENA DAHULU DIKENALI SEBAGAI IALAH SEBUAH STADIUM SERBA GUNA DI KLAGENFURT AUSTRIA IA MERUPAKAN STADIUM PASUKAN AUSTRIA KARNTEN STADIUM LAMA DIKENALI SEBAGAI WORTHERSEESTADION DIBINA PADA 1960 DAN MEMPUNYAI KAPASITI SEBANYAK 10 900 IA DIROBOHKAN PADA 2005 DAN DIGANTIKAN DENGAN HYPO ARENA YANG BARU JUGA DIKENALI SEHINGGA 30 JUN 2007 DENGAN NAMA WORTHERSEESTADION',\n",
       "  'Hypo-Arena. Hypo-Arena (dahulu dikenali sebagai ) ialah sebuah stadium serba guna di Klagenfurt, Austria. Ia merupakan stadium pasukan Austria Karnten. Stadium lama dikenali sebagai Wortherseestadion, dibina pada 1960 dan mempunyai kapasiti sebanyak 10,900. Ia dirobohkan pada 2005 dan digantikan dengan Hypo-Arena yang baru, juga dikenali sehingga 30 Jun 2007 dengan nama \"Wortherseestadion\".'),\n",
       " ('HYPO-ARENA. HYPO-ARENA (DAHULU? DIKENALI SEBAGAI\\' ) IALAH SEBUAH& STADIUM SERBA GUNA DI\\\\ KLAGENFURT, AUSTRIA. IA MERUPAKAN STADIUM PASUKAN% AUSTRIA. KARNTEN. STADIUM LAMA DIKENALI SEBAGAI WORTHERSEESTADION, DIBINA PADA 1960 DAN MEMPUNYAI KAPASITI SEBANYAK 10,900. IA. DIROBOHKAN PADA 2005} DAN DIGANTIKAN DENGAN HYPO-ARENA> YANG BARU, JUGA/ DIKENALI SEHINGGA 30< JUN 2007> DENGAN{ NAMA \"WORTHERSEESTADION\".',\n",
       "  'Hypo-Arena. Hypo-Arena (dahulu dikenali sebagai ) ialah sebuah stadium serba guna di Klagenfurt, Austria. Ia merupakan stadium pasukan Austria Karnten. Stadium lama dikenali sebagai Wortherseestadion, dibina pada 1960 dan mempunyai kapasiti sebanyak 10,900. Ia dirobohkan pada 2005 dan digantikan dengan Hypo-Arena yang baru, juga dikenali sehingga 30 Jun 2007 dengan nama \"Wortherseestadion\".'),\n",
       " ('HYPO-ARENA HYPO-ARENA DAHULU DIKENALI SEBAGAI  IALAH SEBUAH STADIUM SERBA GUNA DI KLAGENFURT AUSTRIA IA MERUPAKAN STADIUM PASUKAN AUSTRIA KARNTEN STADIUM LAMA DIKENALI SEBAGAI WORTHERSEESTADION, DIBINA PADA 1960 DAN MEMPUNYAI KAPASITI SEBANYAK 10900 IA DIROBOHKAN PADA 2005 DAN DIGANTIKAN DENGAN HYPO-ARENA YANG BARU, JUGA DIKENALI SEHINGGA 30 JUN 2007 DENGAN NAMA WORTHERSEESTADION\"',\n",
       "  'Hypo-Arena. Hypo-Arena (dahulu dikenali sebagai ) ialah sebuah stadium serba guna di Klagenfurt, Austria. Ia merupakan stadium pasukan Austria Karnten. Stadium lama dikenali sebagai Wortherseestadion, dibina pada 1960 dan mempunyai kapasiti sebanyak 10,900. Ia dirobohkan pada 2005 dan digantikan dengan Hypo-Arena yang baru, juga dikenali sehingga 30 Jun 2007 dengan nama \"Wortherseestadion\".'),\n",
       " ('HYPO-ARENA> HYPO-ARENA (DAHULU DIKENALI SEBAGAI % IALAH SEBUAH STADIUM SERBA GUNA DI KLAGENFURT] AUSTRIA& IA MERUPAKAN STADIUM PASUKAN AUSTRIA KARNTEN/ STADIUM LAMA DIKENALI SEBAGAI WORTHERSEESTADION. DIBINA PADA 1960 DAN MEMPUNYAI KAPASITI SEBANYAK 10,900< IA DIROBOHKAN PADA 2005 DAN DIGANTIKAN DENGAN HYPO-ARENA YANG BARU! JUGA DIKENALI SEHINGGA 30 JUN 2007 DENGAN NAMA \"WORTHERSEESTADION\"[',\n",
       "  'Hypo-Arena. Hypo-Arena (dahulu dikenali sebagai ) ialah sebuah stadium serba guna di Klagenfurt, Austria. Ia merupakan stadium pasukan Austria Karnten. Stadium lama dikenali sebagai Wortherseestadion, dibina pada 1960 dan mempunyai kapasiti sebanyak 10,900. Ia dirobohkan pada 2005 dan digantikan dengan Hypo-Arena yang baru, juga dikenali sehingga 30 Jun 2007 dengan nama \"Wortherseestadion\".'),\n",
       " ('Hypo Arena Hypo Arena Dahulu Dikenali Sebagai Ialah Sebuah Stadium Serba Guna Di Klagenfurt Austria Ia Merupakan Stadium Pasukan Austria Karnten Stadium Lama Dikenali Sebagai Wortherseestadion Dibina Pada 1960 Dan Mempunyai Kapasiti Sebanyak 10 900 Ia Dirobohkan Pada 2005 Dan Digantikan Dengan Hypo Arena Yang Baru Juga Dikenali Sehingga 30 Jun 2007 Dengan Nama Wortherseestadion',\n",
       "  'Hypo-Arena. Hypo-Arena (dahulu dikenali sebagai ) ialah sebuah stadium serba guna di Klagenfurt, Austria. Ia merupakan stadium pasukan Austria Karnten. Stadium lama dikenali sebagai Wortherseestadion, dibina pada 1960 dan mempunyai kapasiti sebanyak 10,900. Ia dirobohkan pada 2005 dan digantikan dengan Hypo-Arena yang baru, juga dikenali sehingga 30 Jun 2007 dengan nama \"Wortherseestadion\".'),\n",
       " ('hYpo-arena. HYpo-Arena (DahUlU DIkenali seBaGai ) iAlah Sebuah sTAdIUM serBA GuNa di klaGenfurt, AUsTRia. iA MeruPaKan stadiuM pAsUKAn auStriA KArntEn. stadiUM lAma dikeNALI seBaGaI woRtherseestadion, dIbInA pAdA 1960 DAN mEmPunyai KApAsItI sebanYAK 10,900. iA dIrOBoHkAN paDa 2005 dAN dIgantikan dEngaN HyPO-aReNa yaNg baru, juga dikEnaLi seHIngGA 30 Jun 2007 deNgan namA \"wortHerseestadion\".',\n",
       "  'Hypo-Arena. Hypo-Arena (dahulu dikenali sebagai ) ialah sebuah stadium serba guna di Klagenfurt, Austria. Ia merupakan stadium pasukan Austria Karnten. Stadium lama dikenali sebagai Wortherseestadion, dibina pada 1960 dan mempunyai kapasiti sebanyak 10,900. Ia dirobohkan pada 2005 dan digantikan dengan Hypo-Arena yang baru, juga dikenali sehingga 30 Jun 2007 dengan nama \"Wortherseestadion\".'),\n",
       " ('Hypo-Arena. Hypo-Arena (dahulu dikenali sebagai ) ialah sebuah stadium serba guna di Klagenfurt, Austria. Ia merupakan stadium pasukan Austria Karnten. Stadium lama dikenali sebagai Wortherseestadion, dibina pada 1960 dan mempunyai kapasiti sebanyak 10,900. Ia dirobohkan pada 2005 dan digantikan dengan Hypo-Arena yang baru, juga dikenali sehingga 30 Jun 2007 dengan nama \"Wortherseestadion\".',\n",
       "  'Hypo-Arena. Hypo-Arena (dahulu dikenali sebagai ) ialah sebuah stadium serba guna di Klagenfurt, Austria. Ia merupakan stadium pasukan Austria Karnten. Stadium lama dikenali sebagai Wortherseestadion, dibina pada 1960 dan mempunyai kapasiti sebanyak 10,900. Ia dirobohkan pada 2005 dan digantikan dengan Hypo-Arena yang baru, juga dikenali sehingga 30 Jun 2007 dengan nama \"Wortherseestadion\".'),\n",
       " ('hypo-arena\\\\ hypo-arena (dahulu dikenali sebagai / ialah sebuah stadium serba guna di klagenfurt& austria. ia merupakan stadium pasukan austria karnten> stadium lama dikenali sebagai wortherseestadion[ dibina pada 1960 dan mempunyai kapasiti sebanyak 10,900] ia dirobohkan pada 2005 dan digantikan dengan hypo-arena yang baru\\' juga dikenali sehingga 30 jun 2007 dengan nama \"wortherseestadion\"[',\n",
       "  'Hypo-Arena. Hypo-Arena (dahulu dikenali sebagai ) ialah sebuah stadium serba guna di Klagenfurt, Austria. Ia merupakan stadium pasukan Austria Karnten. Stadium lama dikenali sebagai Wortherseestadion, dibina pada 1960 dan mempunyai kapasiti sebanyak 10,900. Ia dirobohkan pada 2005 dan digantikan dengan Hypo-Arena yang baru, juga dikenali sehingga 30 Jun 2007 dengan nama \"Wortherseestadion\".'),\n",
       " ('hypo-arena; hypo-arena (dahulu dikenali sebagai ] ialah sebuah stadium serba guna di klagenfurt> austria; ia merupakan stadium pasukan austria karnten\\\\ stadium lama dikenali sebagai wortherseestadion) dibina pada 1960 dan mempunyai kapasiti sebanyak 10,900; ia dirobohkan pada 2005 dan digantikan dengan hypo-arena yang baru% juga dikenali sehingga 30 jun 2007 dengan nama \"wortherseestadion\"[',\n",
       "  'Hypo-Arena. Hypo-Arena (dahulu dikenali sebagai ) ialah sebuah stadium serba guna di Klagenfurt, Austria. Ia merupakan stadium pasukan Austria Karnten. Stadium lama dikenali sebagai Wortherseestadion, dibina pada 1960 dan mempunyai kapasiti sebanyak 10,900. Ia dirobohkan pada 2005 dan digantikan dengan Hypo-Arena yang baru, juga dikenali sehingga 30 Jun 2007 dengan nama \"Wortherseestadion\".'),\n",
       " ('HYPO-ARENA. Hypo-Arena (DAHULU DIKENALI Sebagai ) Ialah SEBUAH STADIUM SERBA Guna Di Klagenfurt, Austria. Ia Merupakan STADIUM PASUKAN AUSTRIA KARNTEN. Stadium LAMA DIKENALI Sebagai Wortherseestadion, DIBINA Pada 1960 Dan MEMPUNYAI Kapasiti SEBANYAK 10,900. Ia Dirobohkan PADA 2005 Dan DIGANTIKAN Dengan Hypo-Arena YANG BARU, Juga Dikenali Sehingga 30 JUN 2007 Dengan NAMA \"Wortherseestadion\".',\n",
       "  'Hypo-Arena. Hypo-Arena (dahulu dikenali sebagai ) ialah sebuah stadium serba guna di Klagenfurt, Austria. Ia merupakan stadium pasukan Austria Karnten. Stadium lama dikenali sebagai Wortherseestadion, dibina pada 1960 dan mempunyai kapasiti sebanyak 10,900. Ia dirobohkan pada 2005 dan digantikan dengan Hypo-Arena yang baru, juga dikenali sehingga 30 Jun 2007 dengan nama \"Wortherseestadion\".'),\n",
       " ('Hypo-Arena. Hypo-Arena (dahulu dikenali sebagai ) ialah sebuah stadium serba guna di Klagenfurt , Austria . Ia merupakan stadium pasukan Austria Karnten . Stadium lama dikenali sebagai Wortherseestadion , dibina pada 1960 dan mempunyai kapasiti sebanyak 10,900 . Ia dirobohkan pada 2005 dan digantikan dengan Hypo-Arena yang baru , juga dikenali sehingga 30 Jun 2007 dengan nama \"Wortherseestadion\" .',\n",
       "  'Hypo-Arena. Hypo-Arena (dahulu dikenali sebagai ) ialah sebuah stadium serba guna di Klagenfurt, Austria. Ia merupakan stadium pasukan Austria Karnten. Stadium lama dikenali sebagai Wortherseestadion, dibina pada 1960 dan mempunyai kapasiti sebanyak 10,900. Ia dirobohkan pada 2005 dan digantikan dengan Hypo-Arena yang baru, juga dikenali sehingga 30 Jun 2007 dengan nama \"Wortherseestadion\".'),\n",
       " ('Hypo-Arena. Hypo-Arena (Dahulu Dikenali Sebagai ) ialah Sebuah stadium serba guna di Klagenfurt, Austria. Ia Merupakan Stadium Pasukan Austria Karnten. Stadium Lama Dikenali Sebagai Wortherseestadion, dibina pada 1960 dan mempunyai kapasiti sebanyak 10,900. Ia dirobohkan pada 2005 dan Digantikan dengan Hypo-Arena yang Baru, Juga dikenali sehingga 30 Jun 2007 dengan nama \"Wortherseestadion\".',\n",
       "  'Hypo-Arena. Hypo-Arena (dahulu dikenali sebagai ) ialah sebuah stadium serba guna di Klagenfurt, Austria. Ia merupakan stadium pasukan Austria Karnten. Stadium lama dikenali sebagai Wortherseestadion, dibina pada 1960 dan mempunyai kapasiti sebanyak 10,900. Ia dirobohkan pada 2005 dan digantikan dengan Hypo-Arena yang baru, juga dikenali sehingga 30 Jun 2007 dengan nama \"Wortherseestadion\".'),\n",
       " ('HYPO-ARENA. HYPO-ARENA (DAHULU DIKENALI\\' SEBAGAI ) IALAH SEBUAH! STADIUM\" SERBA GUNA{ DI KLAGENFURT, AUSTRIA. IA< MERUPAKAN STADIUM[ PASUKAN AUSTRIA KARNTEN. STADIUM LAMA DIKENALI\" SEBAGAI] WORTHERSEESTADION, DIBINA( PADA 1960/ DAN MEMPUNYAI, KAPASITI[ SEBANYAK 10,900. IA DIROBOHKAN PADA 2005 DAN DIGANTIKAN DENGAN& HYPO-ARENA YANG BARU, JUGA DIKENALI SEHINGGA] 30 JUN: 2007 DENGAN< NAMA& \"WORTHERSEESTADION\".',\n",
       "  'Hypo-Arena. Hypo-Arena (dahulu dikenali sebagai ) ialah sebuah stadium serba guna di Klagenfurt, Austria. Ia merupakan stadium pasukan Austria Karnten. Stadium lama dikenali sebagai Wortherseestadion, dibina pada 1960 dan mempunyai kapasiti sebanyak 10,900. Ia dirobohkan pada 2005 dan digantikan dengan Hypo-Arena yang baru, juga dikenali sehingga 30 Jun 2007 dengan nama \"Wortherseestadion\".'),\n",
       " ('HYPO-ARENA. HYPO-ARENA (DAHULU DIKENALI Sebagai ) IALAH Sebuah STADIUM Serba Guna Di KLAGENFURT, AUSTRIA. IA MERUPAKAN Stadium PASUKAN Austria Karnten. STADIUM Lama Dikenali SEBAGAI WORTHERSEESTADION, DIBINA Pada 1960 Dan MEMPUNYAI Kapasiti Sebanyak 10,900. IA DIROBOHKAN PADA 2005 Dan Digantikan Dengan HYPO-ARENA Yang Baru, JUGA Dikenali SEHINGGA 30 JUN 2007 DENGAN NAMA \"Wortherseestadion\".',\n",
       "  'Hypo-Arena. Hypo-Arena (dahulu dikenali sebagai ) ialah sebuah stadium serba guna di Klagenfurt, Austria. Ia merupakan stadium pasukan Austria Karnten. Stadium lama dikenali sebagai Wortherseestadion, dibina pada 1960 dan mempunyai kapasiti sebanyak 10,900. Ia dirobohkan pada 2005 dan digantikan dengan Hypo-Arena yang baru, juga dikenali sehingga 30 Jun 2007 dengan nama \"Wortherseestadion\".'),\n",
       " ('hypo-arena. hypo-arena (dahulu dikenali{ sebagai ) ialah( sebuah stadium. serba guna di. klagenfurt, austria. ia. merupakan( stadium/ pasukan austria karnten. stadium lama dikenali sebagai wortherseestadion, dibina\" pada 1960 dan mempunyai kapasiti sebanyak 10,900. ia dirobohkan pada 2005 dan digantikan dengan hypo-arena yang& baru, juga dikenali sehingga] 30) jun 2007: dengan nama \"wortherseestadion\".',\n",
       "  'Hypo-Arena. Hypo-Arena (dahulu dikenali sebagai ) ialah sebuah stadium serba guna di Klagenfurt, Austria. Ia merupakan stadium pasukan Austria Karnten. Stadium lama dikenali sebagai Wortherseestadion, dibina pada 1960 dan mempunyai kapasiti sebanyak 10,900. Ia dirobohkan pada 2005 dan digantikan dengan Hypo-Arena yang baru, juga dikenali sehingga 30 Jun 2007 dengan nama \"Wortherseestadion\".'),\n",
       " ('HYPO-ARENA. HYPO-ARENA DAHULU DIKENALI SEBAGAI ) IALAH SEBUAH STADIUM SERBA GUNA DI KLAGENFURT AUSTRIA. IA MERUPAKAN STADIUM PASUKAN AUSTRIA KARNTEN STADIUM LAMA DIKENALI SEBAGAI WORTHERSEESTADION DIBINA PADA 1960 DAN MEMPUNYAI KAPASITI SEBANYAK 10900 IA DIROBOHKAN PADA 2005 DAN DIGANTIKAN DENGAN HYPO-ARENA YANG BARU JUGA DIKENALI SEHINGGA 30 JUN 2007 DENGAN NAMA \"WORTHERSEESTADION\"',\n",
       "  'Hypo-Arena. Hypo-Arena (dahulu dikenali sebagai ) ialah sebuah stadium serba guna di Klagenfurt, Austria. Ia merupakan stadium pasukan Austria Karnten. Stadium lama dikenali sebagai Wortherseestadion, dibina pada 1960 dan mempunyai kapasiti sebanyak 10,900. Ia dirobohkan pada 2005 dan digantikan dengan Hypo-Arena yang baru, juga dikenali sehingga 30 Jun 2007 dengan nama \"Wortherseestadion\".'),\n",
       " ('HYPO-ARENA( HYPO-ARENA (DAHULU DIKENALI SEBAGAI ? IALAH SEBUAH STADIUM SERBA GUNA DI KLAGENFURT} AUSTRIA) IA MERUPAKAN STADIUM PASUKAN AUSTRIA KARNTEN% STADIUM LAMA DIKENALI SEBAGAI WORTHERSEESTADION& DIBINA PADA 1960 DAN MEMPUNYAI KAPASITI SEBANYAK 10,900% IA DIROBOHKAN PADA 2005 DAN DIGANTIKAN DENGAN HYPO-ARENA YANG BARU\\\\ JUGA DIKENALI SEHINGGA 30 JUN 2007 DENGAN NAMA \"WORTHERSEESTADION\"/',\n",
       "  'Hypo-Arena. Hypo-Arena (dahulu dikenali sebagai ) ialah sebuah stadium serba guna di Klagenfurt, Austria. Ia merupakan stadium pasukan Austria Karnten. Stadium lama dikenali sebagai Wortherseestadion, dibina pada 1960 dan mempunyai kapasiti sebanyak 10,900. Ia dirobohkan pada 2005 dan digantikan dengan Hypo-Arena yang baru, juga dikenali sehingga 30 Jun 2007 dengan nama \"Wortherseestadion\".'),\n",
       " ('hypo-arena. hypo-arena& (dahulu? dikenali sebagai ) ialah] sebuah stadium serba% guna di klagenfurt, austria. ia merupakan stadium> pasukan austria& karnten. stadium% lama dikenali sebagai wortherseestadion, dibina( pada 1960 dan mempunyai kapasiti sebanyak, 10,900. ia dirobohkan[ pada 2005 dan> digantikan dengan] hypo-arena yang baru, juga dikenali] sehingga 30 jun 2007 dengan nama \"wortherseestadion\".',\n",
       "  'Hypo-Arena. Hypo-Arena (dahulu dikenali sebagai ) ialah sebuah stadium serba guna di Klagenfurt, Austria. Ia merupakan stadium pasukan Austria Karnten. Stadium lama dikenali sebagai Wortherseestadion, dibina pada 1960 dan mempunyai kapasiti sebanyak 10,900. Ia dirobohkan pada 2005 dan digantikan dengan Hypo-Arena yang baru, juga dikenali sehingga 30 Jun 2007 dengan nama \"Wortherseestadion\".'),\n",
       " ('HYPO-ARENA. hypo-arena (DAHULU dikenali SEBAGAI ) IALAH sebuah STADIUM serba GUNA di KLAGENFURT, AUSTRIA. IA MERUPAKAN STADIUM PASUKAN austria karnten. stadium lama dikenali sebagai wortherseestadion, DIBINA PADA 1960 dan MEMPUNYAI kapasiti sebanyak 10,900. ia dirobohkan PADA 2005 dan digantikan dengan hypo-arena yang baru, juga dikenali SEHINGGA 30 JUN 2007 dengan NAMA \"WORTHERSEESTADION\".',\n",
       "  'Hypo-Arena. Hypo-Arena (dahulu dikenali sebagai ) ialah sebuah stadium serba guna di Klagenfurt, Austria. Ia merupakan stadium pasukan Austria Karnten. Stadium lama dikenali sebagai Wortherseestadion, dibina pada 1960 dan mempunyai kapasiti sebanyak 10,900. Ia dirobohkan pada 2005 dan digantikan dengan Hypo-Arena yang baru, juga dikenali sehingga 30 Jun 2007 dengan nama \"Wortherseestadion\".'),\n",
       " ('Hypo-Arena Hypo-Arena (dahulu dikenali sebagai  ialah sebuah stadium serba guna di Klagenfurt Austria Ia merupakan stadium pasukan Austria Karnten. Stadium lama dikenali sebagai Wortherseestadion, dibina pada 1960 dan mempunyai kapasiti sebanyak 10900 Ia dirobohkan pada 2005 dan digantikan dengan Hypo-Arena yang baru, juga dikenali sehingga 30 Jun 2007 dengan nama Wortherseestadion\".',\n",
       "  'Hypo-Arena. Hypo-Arena (dahulu dikenali sebagai ) ialah sebuah stadium serba guna di Klagenfurt, Austria. Ia merupakan stadium pasukan Austria Karnten. Stadium lama dikenali sebagai Wortherseestadion, dibina pada 1960 dan mempunyai kapasiti sebanyak 10,900. Ia dirobohkan pada 2005 dan digantikan dengan Hypo-Arena yang baru, juga dikenali sehingga 30 Jun 2007 dengan nama \"Wortherseestadion\".'),\n",
       " ('Hypo-Arena. Hypo-Arena (dahulu DIKENALI SEBAGAI ) ialah sebuah STADIUM serba guna DI KLAGENFURT, AUSTRIA. IA merupakan STADIUM pasukan AUSTRIA KARNTEN. Stadium LAMA dikenali sebagai Wortherseestadion, DIBINA PADA 1960 dan mempunyai KAPASITI sebanyak 10,900. Ia dirobohkan pada 2005 DAN DIGANTIKAN dengan Hypo-Arena yang baru, JUGA DIKENALI SEHINGGA 30 JUN 2007 dengan NAMA \"WORTHERSEESTADION\".',\n",
       "  'Hypo-Arena. Hypo-Arena (dahulu dikenali sebagai ) ialah sebuah stadium serba guna di Klagenfurt, Austria. Ia merupakan stadium pasukan Austria Karnten. Stadium lama dikenali sebagai Wortherseestadion, dibina pada 1960 dan mempunyai kapasiti sebanyak 10,900. Ia dirobohkan pada 2005 dan digantikan dengan Hypo-Arena yang baru, juga dikenali sehingga 30 Jun 2007 dengan nama \"Wortherseestadion\".'),\n",
       " ('Hypo-Arena! Hypo-Arena (Dahulu Dikenali Sebagai \" Ialah Sebuah Stadium Serba Guna Di Klagenfurt\\\\ Austria\\\\ Ia Merupakan Stadium Pasukan Austria Karnten} Stadium Lama Dikenali Sebagai Wortherseestadion( Dibina Pada 1960 Dan Mempunyai Kapasiti Sebanyak 10,900{ Ia Dirobohkan Pada 2005 Dan Digantikan Dengan Hypo-Arena Yang Baru/ Juga Dikenali Sehingga 30 Jun 2007 Dengan Nama \"Wortherseestadion\"%',\n",
       "  'Hypo-Arena. Hypo-Arena (dahulu dikenali sebagai ) ialah sebuah stadium serba guna di Klagenfurt, Austria. Ia merupakan stadium pasukan Austria Karnten. Stadium lama dikenali sebagai Wortherseestadion, dibina pada 1960 dan mempunyai kapasiti sebanyak 10,900. Ia dirobohkan pada 2005 dan digantikan dengan Hypo-Arena yang baru, juga dikenali sehingga 30 Jun 2007 dengan nama \"Wortherseestadion\".'),\n",
       " ('Hypo-Arena. Hypo-Arena dahulu dikenali sebagai  ialah sebuah stadium serba guna di Klagenfurt Austria Ia merupakan stadium pasukan Austria Karnten Stadium lama dikenali sebagai Wortherseestadion dibina pada 1960 dan mempunyai kapasiti sebanyak 10900. Ia dirobohkan pada 2005 dan digantikan dengan Hypo-Arena yang baru juga dikenali sehingga 30 Jun 2007 dengan nama Wortherseestadion',\n",
       "  'Hypo-Arena. Hypo-Arena (dahulu dikenali sebagai ) ialah sebuah stadium serba guna di Klagenfurt, Austria. Ia merupakan stadium pasukan Austria Karnten. Stadium lama dikenali sebagai Wortherseestadion, dibina pada 1960 dan mempunyai kapasiti sebanyak 10,900. Ia dirobohkan pada 2005 dan digantikan dengan Hypo-Arena yang baru, juga dikenali sehingga 30 Jun 2007 dengan nama \"Wortherseestadion\".'),\n",
       " ('Hypo-Arena . Hypo-Arena (Dahulu Dikenali Sebagai  ) Ialah Sebuah Stadium Serba Guna Di Klagenfurt , Austria. Ia Merupakan Stadium Pasukan Austria Karnten. Stadium Lama Dikenali Sebagai Wortherseestadion, Dibina Pada 1960 Dan Mempunyai Kapasiti Sebanyak 10,900. Ia Dirobohkan Pada 2005 Dan Digantikan Dengan Hypo-Arena Yang Baru , Juga Dikenali Sehingga 30 Jun 2007 Dengan Nama \"Wortherseestadion\" .',\n",
       "  'Hypo-Arena. Hypo-Arena (dahulu dikenali sebagai ) ialah sebuah stadium serba guna di Klagenfurt, Austria. Ia merupakan stadium pasukan Austria Karnten. Stadium lama dikenali sebagai Wortherseestadion, dibina pada 1960 dan mempunyai kapasiti sebanyak 10,900. Ia dirobohkan pada 2005 dan digantikan dengan Hypo-Arena yang baru, juga dikenali sehingga 30 Jun 2007 dengan nama \"Wortherseestadion\".'),\n",
       " ('Hypo-Arena Hypo-Arena dahulu dikenali sebagai ialah sebuah stadium serba guna di Klagenfurt Austria Ia merupakan stadium pasukan Austria Karnten Stadium lama dikenali sebagai Wortherseestadion dibina pada 1960 dan mempunyai kapasiti sebanyak 10900 . Ia dirobohkan pada 2005 dan digantikan dengan Hypo-Arena yang baru juga dikenali sehingga 30 Jun 2007 dengan nama Wortherseestadion',\n",
       "  'Hypo-Arena. Hypo-Arena (dahulu dikenali sebagai ) ialah sebuah stadium serba guna di Klagenfurt, Austria. Ia merupakan stadium pasukan Austria Karnten. Stadium lama dikenali sebagai Wortherseestadion, dibina pada 1960 dan mempunyai kapasiti sebanyak 10,900. Ia dirobohkan pada 2005 dan digantikan dengan Hypo-Arena yang baru, juga dikenali sehingga 30 Jun 2007 dengan nama \"Wortherseestadion\".'),\n",
       " ('HYPO-ARENA . HYPO-ARENA (DAHULU DIKENALI SEBAGAI  ) IALAH SEBUAH STADIUM SERBA GUNA DI KLAGENFURT , AUSTRIA. IA MERUPAKAN STADIUM PASUKAN AUSTRIA KARNTEN . STADIUM LAMA DIKENALI SEBAGAI WORTHERSEESTADION, DIBINA PADA 1960 DAN MEMPUNYAI KAPASITI SEBANYAK 10,900 . IA DIROBOHKAN PADA 2005 DAN DIGANTIKAN DENGAN HYPO-ARENA YANG BARU , JUGA DIKENALI SEHINGGA 30 JUN 2007 DENGAN NAMA \"WORTHERSEESTADION\" .',\n",
       "  'Hypo-Arena. Hypo-Arena (dahulu dikenali sebagai ) ialah sebuah stadium serba guna di Klagenfurt, Austria. Ia merupakan stadium pasukan Austria Karnten. Stadium lama dikenali sebagai Wortherseestadion, dibina pada 1960 dan mempunyai kapasiti sebanyak 10,900. Ia dirobohkan pada 2005 dan digantikan dengan Hypo-Arena yang baru, juga dikenali sehingga 30 Jun 2007 dengan nama \"Wortherseestadion\".'),\n",
       " ('hypO-areNA. Hypo-arenA (dahUlU dIkenALi SebagaI ) ialaH sebuah StAdiuM sErBa gunA dI KlaGeNfurT, ausTria. iA MerUPaKan stadium PAsukAn AUSTRiA karNten. StadIUm lAma dIkeNali Sebagai worTherseestadion, DiBIna paDA 1960 dan mempunyai KaPasiti SeBanyAk 10,900. ia DirOboHkan pAda 2005 daN dIgAntikAn denGan Hypo-arEnA yANg baRu, juga dikenali sehINgga 30 juN 2007 DeNGan NaMa \"worTheRseesTadion\".',\n",
       "  'Hypo-Arena. Hypo-Arena (dahulu dikenali sebagai ) ialah sebuah stadium serba guna di Klagenfurt, Austria. Ia merupakan stadium pasukan Austria Karnten. Stadium lama dikenali sebagai Wortherseestadion, dibina pada 1960 dan mempunyai kapasiti sebanyak 10,900. Ia dirobohkan pada 2005 dan digantikan dengan Hypo-Arena yang baru, juga dikenali sehingga 30 Jun 2007 dengan nama \"Wortherseestadion\".'),\n",
       " ('hypo-arena. Hypo-Arena (dahulu Dikenali Sebagai ) Ialah Sebuah stadium serba guna di Klagenfurt, Austria. ia merupakan stadium pasukan austria Karnten. stadium Lama Dikenali sebagai wortherseestadion, dibina Pada 1960 dan Mempunyai Kapasiti Sebanyak 10,900. ia Dirobohkan pada 2005 Dan Digantikan dengan Hypo-Arena yang baru, juga Dikenali Sehingga 30 jun 2007 dengan Nama \"Wortherseestadion\".',\n",
       "  'Hypo-Arena. Hypo-Arena (dahulu dikenali sebagai ) ialah sebuah stadium serba guna di Klagenfurt, Austria. Ia merupakan stadium pasukan Austria Karnten. Stadium lama dikenali sebagai Wortherseestadion, dibina pada 1960 dan mempunyai kapasiti sebanyak 10,900. Ia dirobohkan pada 2005 dan digantikan dengan Hypo-Arena yang baru, juga dikenali sehingga 30 Jun 2007 dengan nama \"Wortherseestadion\".'),\n",
       " ('Hypo-Arena. Hypo-Arena (dahulu dikenali sebagai ) ialah sebuah stadium serba guna di Klagenfurt, Austria. Ia< merupakan stadium{ pasukan\\\\ Austria] Karnten. Stadium lama: dikenali sebagai Wortherseestadion, dibina, pada 1960} dan( mempunyai kapasiti sebanyak 10,900. Ia dirobohkan pada 2005 dan digantikan dengan\\\\ Hypo-Arena yang baru, juga dikenali sehingga\\' 30 Jun 2007 dengan nama \"Wortherseestadion\".',\n",
       "  'Hypo-Arena. Hypo-Arena (dahulu dikenali sebagai ) ialah sebuah stadium serba guna di Klagenfurt, Austria. Ia merupakan stadium pasukan Austria Karnten. Stadium lama dikenali sebagai Wortherseestadion, dibina pada 1960 dan mempunyai kapasiti sebanyak 10,900. Ia dirobohkan pada 2005 dan digantikan dengan Hypo-Arena yang baru, juga dikenali sehingga 30 Jun 2007 dengan nama \"Wortherseestadion\".'),\n",
       " ('Hypo-Arena. Hypo-Arena (Dahulu Dikenali Sebagai ) Ialah Sebuah Stadium Serba Guna Di Klagenfurt, Austria. Ia Merupakan Stadium Pasukan Austria Karnten. Stadium Lama Dikenali Sebagai Wortherseestadion, Dibina Pada 1960 Dan Mempunyai Kapasiti Sebanyak 10,900. Ia Dirobohkan Pada 2005 Dan Digantikan Dengan Hypo-Arena Yang Baru, Juga Dikenali Sehingga 30 Jun 2007 Dengan Nama \"Wortherseestadion\".',\n",
       "  'Hypo-Arena. Hypo-Arena (dahulu dikenali sebagai ) ialah sebuah stadium serba guna di Klagenfurt, Austria. Ia merupakan stadium pasukan Austria Karnten. Stadium lama dikenali sebagai Wortherseestadion, dibina pada 1960 dan mempunyai kapasiti sebanyak 10,900. Ia dirobohkan pada 2005 dan digantikan dengan Hypo-Arena yang baru, juga dikenali sehingga 30 Jun 2007 dengan nama \"Wortherseestadion\".'),\n",
       " ('Hypo-Arena . Hypo-Arena (Dahulu Dikenali Sebagai  ) Ialah Sebuah Stadium Serba Guna Di Klagenfurt , Austria . Ia Merupakan Stadium Pasukan Austria Karnten . Stadium Lama Dikenali Sebagai Wortherseestadion, Dibina Pada 1960 Dan Mempunyai Kapasiti Sebanyak 10,900. Ia Dirobohkan Pada 2005 Dan Digantikan Dengan Hypo-Arena Yang Baru , Juga Dikenali Sehingga 30 Jun 2007 Dengan Nama \"Wortherseestadion\".',\n",
       "  'Hypo-Arena. Hypo-Arena (dahulu dikenali sebagai ) ialah sebuah stadium serba guna di Klagenfurt, Austria. Ia merupakan stadium pasukan Austria Karnten. Stadium lama dikenali sebagai Wortherseestadion, dibina pada 1960 dan mempunyai kapasiti sebanyak 10,900. Ia dirobohkan pada 2005 dan digantikan dengan Hypo-Arena yang baru, juga dikenali sehingga 30 Jun 2007 dengan nama \"Wortherseestadion\".'),\n",
       " ('Hypo-Arena. HYPO-ARENA (DAHULU DIKENALI SEBAGAI ) IALAH SEBUAH STADIUM serba GUNA DI KLAGENFURT, AUSTRIA. IA MERUPAKAN STADIUM pasukan Austria KARNTEN. Stadium lama DIKENALI SEBAGAI WORTHERSEESTADION, dibina PADA 1960 dan MEMPUNYAI KAPASITI sebanyak 10,900. Ia DIROBOHKAN pada 2005 dan digantikan dengan Hypo-Arena yang BARU, JUGA DIKENALI SEHINGGA 30 JUN 2007 dengan nama \"WORTHERSEESTADION\".',\n",
       "  'Hypo-Arena. Hypo-Arena (dahulu dikenali sebagai ) ialah sebuah stadium serba guna di Klagenfurt, Austria. Ia merupakan stadium pasukan Austria Karnten. Stadium lama dikenali sebagai Wortherseestadion, dibina pada 1960 dan mempunyai kapasiti sebanyak 10,900. Ia dirobohkan pada 2005 dan digantikan dengan Hypo-Arena yang baru, juga dikenali sehingga 30 Jun 2007 dengan nama \"Wortherseestadion\".'),\n",
       " ('HyPo-Arena. Hypo-AREna (DahUlU DiKENALI SEBagai ) IAlaH SebuAH STadIUm Serba GUna Di KlAgENfURt, AUsTRia. Ia MerupAkan StAdIuM PaSukAn Austria KaRnten. STadIUm LAmA DikEnali SEbagAi WORTherseEStadiOn, DibIna PadA 1960 DaN MeMpUnyai KapASIti SeBAnyak 10,900. Ia DiRobOhKaN Pada 2005 Dan DIganTikan DEngan Hypo-AreNA Yang BARu, JugA DIkenaLi SEHinGgA 30 Jun 2007 Dengan NAMa \"WorTherSeestadiON\".',\n",
       "  'Hypo-Arena. Hypo-Arena (dahulu dikenali sebagai ) ialah sebuah stadium serba guna di Klagenfurt, Austria. Ia merupakan stadium pasukan Austria Karnten. Stadium lama dikenali sebagai Wortherseestadion, dibina pada 1960 dan mempunyai kapasiti sebanyak 10,900. Ia dirobohkan pada 2005 dan digantikan dengan Hypo-Arena yang baru, juga dikenali sehingga 30 Jun 2007 dengan nama \"Wortherseestadion\".'),\n",
       " ('hypo-arena. hypo-arena dahulu dikenali sebagai  ialah sebuah stadium serba guna di klagenfurt, austria. ia merupakan stadium pasukan austria karnten. stadium lama dikenali sebagai wortherseestadion, dibina pada 1960 dan mempunyai kapasiti sebanyak 10900 ia dirobohkan pada 2005 dan digantikan dengan hypo-arena yang baru juga dikenali sehingga 30 jun 2007 dengan nama \"wortherseestadion\"',\n",
       "  'Hypo-Arena. Hypo-Arena (dahulu dikenali sebagai ) ialah sebuah stadium serba guna di Klagenfurt, Austria. Ia merupakan stadium pasukan Austria Karnten. Stadium lama dikenali sebagai Wortherseestadion, dibina pada 1960 dan mempunyai kapasiti sebanyak 10,900. Ia dirobohkan pada 2005 dan digantikan dengan Hypo-Arena yang baru, juga dikenali sehingga 30 Jun 2007 dengan nama \"Wortherseestadion\".'),\n",
       " ('hypo-arena . hypo-arena (dahulu dikenali sebagai  ) ialah sebuah stadium serba guna di klagenfurt , austria . ia merupakan stadium pasukan austria karnten . stadium lama dikenali sebagai wortherseestadion , dibina pada 1960 dan mempunyai kapasiti sebanyak 10,900 . ia dirobohkan pada 2005 dan digantikan dengan hypo-arena yang baru , juga dikenali sehingga 30 jun 2007 dengan nama \"wortherseestadion\".',\n",
       "  'Hypo-Arena. Hypo-Arena (dahulu dikenali sebagai ) ialah sebuah stadium serba guna di Klagenfurt, Austria. Ia merupakan stadium pasukan Austria Karnten. Stadium lama dikenali sebagai Wortherseestadion, dibina pada 1960 dan mempunyai kapasiti sebanyak 10,900. Ia dirobohkan pada 2005 dan digantikan dengan Hypo-Arena yang baru, juga dikenali sehingga 30 Jun 2007 dengan nama \"Wortherseestadion\".'),\n",
       " ('HYPO-ARENA . HYPO-ARENA (DAHULU DIKENALI SEBAGAI  ) IALAH SEBUAH STADIUM SERBA GUNA DI KLAGENFURT, AUSTRIA. IA MERUPAKAN STADIUM PASUKAN AUSTRIA KARNTEN . STADIUM LAMA DIKENALI SEBAGAI WORTHERSEESTADION , DIBINA PADA 1960 DAN MEMPUNYAI KAPASITI SEBANYAK 10,900 . IA DIROBOHKAN PADA 2005 DAN DIGANTIKAN DENGAN HYPO-ARENA YANG BARU , JUGA DIKENALI SEHINGGA 30 JUN 2007 DENGAN NAMA \"WORTHERSEESTADION\" .',\n",
       "  'Hypo-Arena. Hypo-Arena (dahulu dikenali sebagai ) ialah sebuah stadium serba guna di Klagenfurt, Austria. Ia merupakan stadium pasukan Austria Karnten. Stadium lama dikenali sebagai Wortherseestadion, dibina pada 1960 dan mempunyai kapasiti sebanyak 10,900. Ia dirobohkan pada 2005 dan digantikan dengan Hypo-Arena yang baru, juga dikenali sehingga 30 Jun 2007 dengan nama \"Wortherseestadion\".'),\n",
       " ('Hypo-Arena. HYPO-ARENA (DAHULU DIKENALI SEBAGAI ) Ialah SEBUAH Stadium Serba Guna DI Klagenfurt, AUSTRIA. Ia Merupakan Stadium PASUKAN AUSTRIA KARNTEN. Stadium Lama Dikenali Sebagai WORTHERSEESTADION, Dibina Pada 1960 Dan MEMPUNYAI KAPASITI SEBANYAK 10,900. IA DIROBOHKAN Pada 2005 Dan DIGANTIKAN Dengan Hypo-Arena YANG BARU, Juga DIKENALI Sehingga 30 Jun 2007 Dengan Nama \"WORTHERSEESTADION\".',\n",
       "  'Hypo-Arena. Hypo-Arena (dahulu dikenali sebagai ) ialah sebuah stadium serba guna di Klagenfurt, Austria. Ia merupakan stadium pasukan Austria Karnten. Stadium lama dikenali sebagai Wortherseestadion, dibina pada 1960 dan mempunyai kapasiti sebanyak 10,900. Ia dirobohkan pada 2005 dan digantikan dengan Hypo-Arena yang baru, juga dikenali sehingga 30 Jun 2007 dengan nama \"Wortherseestadion\".'),\n",
       " ('Hypo-Arena. Hypo-Arena Dahulu Dikenali Sebagai  Ialah Sebuah Stadium Serba Guna Di Klagenfurt Austria. Ia Merupakan Stadium Pasukan Austria Karnten. Stadium Lama Dikenali Sebagai Wortherseestadion Dibina Pada 1960 Dan Mempunyai Kapasiti Sebanyak 10,900 Ia Dirobohkan Pada 2005 Dan Digantikan Dengan Hypo-Arena Yang Baru Juga Dikenali Sehingga 30 Jun 2007 Dengan Nama \"Wortherseestadion.',\n",
       "  'Hypo-Arena. Hypo-Arena (dahulu dikenali sebagai ) ialah sebuah stadium serba guna di Klagenfurt, Austria. Ia merupakan stadium pasukan Austria Karnten. Stadium lama dikenali sebagai Wortherseestadion, dibina pada 1960 dan mempunyai kapasiti sebanyak 10,900. Ia dirobohkan pada 2005 dan digantikan dengan Hypo-Arena yang baru, juga dikenali sehingga 30 Jun 2007 dengan nama \"Wortherseestadion\".'),\n",
       " ('Hypo-Arena Hypo-Arena Dahulu Dikenali Sebagai  Ialah Sebuah Stadium Serba Guna Di Klagenfurt Austria Ia Merupakan Stadium Pasukan Austria Karnten Stadium Lama Dikenali Sebagai Wortherseestadion Dibina Pada 1960 Dan Mempunyai Kapasiti Sebanyak 10900 Ia Dirobohkan Pada 2005 Dan Digantikan Dengan Hypo-Arena Yang Baru Juga Dikenali Sehingga 30 Jun 2007 Dengan Nama Wortherseestadion',\n",
       "  'Hypo-Arena. Hypo-Arena (dahulu dikenali sebagai ) ialah sebuah stadium serba guna di Klagenfurt, Austria. Ia merupakan stadium pasukan Austria Karnten. Stadium lama dikenali sebagai Wortherseestadion, dibina pada 1960 dan mempunyai kapasiti sebanyak 10,900. Ia dirobohkan pada 2005 dan digantikan dengan Hypo-Arena yang baru, juga dikenali sehingga 30 Jun 2007 dengan nama \"Wortherseestadion\".'),\n",
       " ('Hypo-Arena. Hypo-Arena (Dahulu Dikenali< Sebagai% ) Ialah& Sebuah Stadium. Serba Guna Di& Klagenfurt, Austria. Ia Merupakan Stadium; Pasukan\\\\ Austria Karnten. Stadium Lama? Dikenali Sebagai Wortherseestadion, Dibina Pada 1960 Dan Mempunyai Kapasiti Sebanyak 10,900. Ia[ Dirobohkan Pada 2005 Dan Digantikan Dengan Hypo-Arena Yang< Baru, Juga? Dikenali Sehingga 30] Jun 2007 Dengan Nama \"Wortherseestadion\".',\n",
       "  'Hypo-Arena. Hypo-Arena (dahulu dikenali sebagai ) ialah sebuah stadium serba guna di Klagenfurt, Austria. Ia merupakan stadium pasukan Austria Karnten. Stadium lama dikenali sebagai Wortherseestadion, dibina pada 1960 dan mempunyai kapasiti sebanyak 10,900. Ia dirobohkan pada 2005 dan digantikan dengan Hypo-Arena yang baru, juga dikenali sehingga 30 Jun 2007 dengan nama \"Wortherseestadion\".'),\n",
       " ('Hypo-Arena. HyPo-ArEnA (daHUlu dikEnaLi/ SEbAgAI &  ) IaLaH SeBUaH ] stAdiuM sErba & Guna DI KlagenfURt, AusTRIa . Ia } mERUPakan) stadiuM pasukan AUstriA KarnTEN . StAdium laMa> dIkenalI } sebAGAI WoRtHerseestaDiOn, dIBinA pADA 1960 dan & mEmPunyAI kApasiTi SEbaNYak . 10,900 . Ia > dIroBOhKaN pada 2005 ] daN diGaNtiKaN \\\\ deNgan HYpo-AREnA yANG BARu , JuGa dikeNalI ! SeHinGGa 30 JuN 2007 < dengAn nama \"WortHerSEEStadion\" .',\n",
       "  'Hypo-Arena. Hypo-Arena (dahulu dikenali sebagai ) ialah sebuah stadium serba guna di Klagenfurt, Austria. Ia merupakan stadium pasukan Austria Karnten. Stadium lama dikenali sebagai Wortherseestadion, dibina pada 1960 dan mempunyai kapasiti sebanyak 10,900. Ia dirobohkan pada 2005 dan digantikan dengan Hypo-Arena yang baru, juga dikenali sehingga 30 Jun 2007 dengan nama \"Wortherseestadion\".'),\n",
       " ('Ia DIrOboHkan pAda 2005 DAn digantIkan dEngan HyPo-ARena YaNg baru, JUgA dIKeNAli sEhIngGa 30 Jun 2007 dengan naMA \"WOrthErseEstAdIon\". IA AdALah Salah satU DAripADa 8 staDIuM unTUk UEFA EUrO 2008, Dan dIBinA UntuK menampung 32,000 pEnonTon. SelEpAS Acara terSeBuT, KapAsiti stAdium iNi seDang DiPerTImbangKAN UnTuK dikurangKan KepAda 12,500. StADiUM inI dIbUkA SeCARA Rasmi pada 7 SepTEmbEr 2007 dengaN menjadI TuaN Rumah uNtuK perlaWAnaN PERsaHaBatan di aNTaRA AustrIa daN Jepun Di HADaPan 26,500 penoNton.',\n",
       "  'Ia dirobohkan pada 2005 dan digantikan dengan Hypo-Arena yang baru, juga dikenali sehingga 30 Jun 2007 dengan nama \"Wortherseestadion\". Ia adalah salah satu daripada 8 stadium untuk UEFA Euro 2008, dan dibina untuk menampung 32,000 penonton. Selepas acara tersebut, kapasiti stadium ini sedang dipertimbangkan untuk dikurangkan kepada 12,500. Stadium ini dibuka secara rasmi pada 7 September 2007 dengan menjadi tuan rumah untuk perlawanan persahabatan di antara Austria dan Jepun di hadapan 26,500 penonton.'),\n",
       " ('Ia DirObohkAn Pada 2005 Dan Digantikan DeNgaN HYpo-AreNa YaNG Baru, Juga DIkeNali SehinggA 30 Jun 2007 DengAN Nama \"WorthErseestAdioN\". Ia ADalah SaLah Satu DarIpada 8 STaDiUM UNtUk Uefa EurO 2008, DaN DiBina UNtUk MenAMPuNG 32,000 PenontoN. SElEPaS ACArA TeRSeBut, KaPasiti StAdiuM Ini SEDaNG DipERtiMbAngkan Untuk DiKurangKan KEPada 12,500. STadIUm INi Dibuka SecArA RAsmi Pada 7 SEPteMber 2007 DengaN MenjADi Tuan RuMah Untuk Perlawanan PersahAbAtan DI Antara AustRia Dan Jepun DI HaDaPAn 26,500 PenontOn.',\n",
       "  'Ia dirobohkan pada 2005 dan digantikan dengan Hypo-Arena yang baru, juga dikenali sehingga 30 Jun 2007 dengan nama \"Wortherseestadion\". Ia adalah salah satu daripada 8 stadium untuk UEFA Euro 2008, dan dibina untuk menampung 32,000 penonton. Selepas acara tersebut, kapasiti stadium ini sedang dipertimbangkan untuk dikurangkan kepada 12,500. Stadium ini dibuka secara rasmi pada 7 September 2007 dengan menjadi tuan rumah untuk perlawanan persahabatan di antara Austria dan Jepun di hadapan 26,500 penonton.'),\n",
       " ('ia dirobohkan pada 2005 dan digantikan dengan hypo-arena yang baru, juga dikenali sehingga 30 jun 2007 dengan nama wortherseestadion\". ia adalah salah satu daripada 8 stadium untuk uefa euro 2008 dan dibina untuk menampung 32000 penonton selepas acara tersebut kapasiti stadium ini sedang dipertimbangkan untuk dikurangkan kepada 12500. stadium ini dibuka secara rasmi pada 7 september 2007 dengan menjadi tuan rumah untuk perlawanan persahabatan di antara austria dan jepun di hadapan 26,500 penonton',\n",
       "  'Ia dirobohkan pada 2005 dan digantikan dengan Hypo-Arena yang baru, juga dikenali sehingga 30 Jun 2007 dengan nama \"Wortherseestadion\". Ia adalah salah satu daripada 8 stadium untuk UEFA Euro 2008, dan dibina untuk menampung 32,000 penonton. Selepas acara tersebut, kapasiti stadium ini sedang dipertimbangkan untuk dikurangkan kepada 12,500. Stadium ini dibuka secara rasmi pada 7 September 2007 dengan menjadi tuan rumah untuk perlawanan persahabatan di antara Austria dan Jepun di hadapan 26,500 penonton.'),\n",
       " ('ia DIROBOHKAN pada 2005 dan digantikan DENGAN HYPO-ARENA yang baru, juga DIKENALI SEHINGGA 30 JUN 2007 DENGAN NAMA \"WORTHERSEESTADION\". IA adalah SALAH SATU DARIPADA 8 stadium untuk uefa EURO 2008, DAN dibina untuk menampung 32,000 PENONTON. selepas ACARA TERSEBUT, KAPASITI STADIUM INI SEDANG dipertimbangkan UNTUK DIKURANGKAN KEPADA 12,500. STADIUM INI dibuka secara RASMI PADA 7 september 2007 DENGAN menjadi TUAN RUMAH UNTUK PERLAWANAN persahabatan DI ANTARA AUSTRIA DAN jepun DI hadapan 26,500 penonton.',\n",
       "  'Ia dirobohkan pada 2005 dan digantikan dengan Hypo-Arena yang baru, juga dikenali sehingga 30 Jun 2007 dengan nama \"Wortherseestadion\". Ia adalah salah satu daripada 8 stadium untuk UEFA Euro 2008, dan dibina untuk menampung 32,000 penonton. Selepas acara tersebut, kapasiti stadium ini sedang dipertimbangkan untuk dikurangkan kepada 12,500. Stadium ini dibuka secara rasmi pada 7 September 2007 dengan menjadi tuan rumah untuk perlawanan persahabatan di antara Austria dan Jepun di hadapan 26,500 penonton.'),\n",
       " ('Ia dirobohkan pada 2005 dan digantikan dengan Hypo Arena yang baru juga dikenali sehingga 30 Jun 2007 dengan nama Wortherseestadion Ia adalah salah satu daripada 8 stadium untuk UEFA Euro 2008 dan dibina untuk menampung 32 000 penonton Selepas acara tersebut kapasiti stadium ini sedang dipertimbangkan untuk dikurangkan kepada 12 500 Stadium ini dibuka secara rasmi pada 7 September 2007 dengan menjadi tuan rumah untuk perlawanan persahabatan di antara Austria dan Jepun di hadapan 26 500 penonton',\n",
       "  'Ia dirobohkan pada 2005 dan digantikan dengan Hypo-Arena yang baru, juga dikenali sehingga 30 Jun 2007 dengan nama \"Wortherseestadion\". Ia adalah salah satu daripada 8 stadium untuk UEFA Euro 2008, dan dibina untuk menampung 32,000 penonton. Selepas acara tersebut, kapasiti stadium ini sedang dipertimbangkan untuk dikurangkan kepada 12,500. Stadium ini dibuka secara rasmi pada 7 September 2007 dengan menjadi tuan rumah untuk perlawanan persahabatan di antara Austria dan Jepun di hadapan 26,500 penonton.'),\n",
       " ('Ia Dirobohkan Pada 2005 Dan Digantikan Dengan Hypo-Arena Yang Baru Juga Dikenali Sehingga 30 Jun 2007 Dengan Nama \"Wortherseestadion\". Ia Adalah Salah Satu Daripada 8 Stadium Untuk Uefa Euro 2008 Dan Dibina Untuk Menampung 32000 Penonton Selepas Acara Tersebut, Kapasiti Stadium Ini Sedang Dipertimbangkan Untuk Dikurangkan Kepada 12,500 Stadium Ini Dibuka Secara Rasmi Pada 7 September 2007 Dengan Menjadi Tuan Rumah Untuk Perlawanan Persahabatan Di Antara Austria Dan Jepun Di Hadapan 26500 Penonton',\n",
       "  'Ia dirobohkan pada 2005 dan digantikan dengan Hypo-Arena yang baru, juga dikenali sehingga 30 Jun 2007 dengan nama \"Wortherseestadion\". Ia adalah salah satu daripada 8 stadium untuk UEFA Euro 2008, dan dibina untuk menampung 32,000 penonton. Selepas acara tersebut, kapasiti stadium ini sedang dipertimbangkan untuk dikurangkan kepada 12,500. Stadium ini dibuka secara rasmi pada 7 September 2007 dengan menjadi tuan rumah untuk perlawanan persahabatan di antara Austria dan Jepun di hadapan 26,500 penonton.'),\n",
       " ('Ia diRoboHkaN pADa 2005 dan Digantikan dengan HYpo-areNA yAng BarU, juga DikeNali sEhingga 30 jUN 2007 dEngan NamA \"worTHERsEeStaDion\". ia aDalah salAh satu daRiPadA 8 sTadium unTuK uefa eUro 2008, Dan dibina untuK menAmpung 32,000 penoNtoN. sElepas acarA tersebut, kapasiti sTaDiuM ini sedanG DiPertimbAngkaN uNtUK diKUraNgkan KePaDa 12,500. stADIUM iNi dIbuka secarA rasmi pADA 7 septeMBer 2007 deNgaN mEnJadi tuAn rUmAh untUK peRLaWanan persaHabatan di AntaRa austria DaN jepUN di hAdapAn 26,500 PeNoNton.',\n",
       "  'Ia dirobohkan pada 2005 dan digantikan dengan Hypo-Arena yang baru, juga dikenali sehingga 30 Jun 2007 dengan nama \"Wortherseestadion\". Ia adalah salah satu daripada 8 stadium untuk UEFA Euro 2008, dan dibina untuk menampung 32,000 penonton. Selepas acara tersebut, kapasiti stadium ini sedang dipertimbangkan untuk dikurangkan kepada 12,500. Stadium ini dibuka secara rasmi pada 7 September 2007 dengan menjadi tuan rumah untuk perlawanan persahabatan di antara Austria dan Jepun di hadapan 26,500 penonton.'),\n",
       " ('Ia Dirobohkan PADA 2005 Dan DIGANTIKAN Dengan HYPO-ARENA Yang Baru, Juga Dikenali Sehingga 30 JUN 2007 Dengan Nama \"Wortherseestadion\". IA Adalah SALAH Satu DARIPADA 8 Stadium UNTUK UEFA EURO 2008, DAN DIBINA Untuk MENAMPUNG 32,000 Penonton. Selepas ACARA TERSEBUT, KAPASITI Stadium Ini Sedang Dipertimbangkan UNTUK Dikurangkan Kepada 12,500. Stadium Ini Dibuka Secara Rasmi Pada 7 SEPTEMBER 2007 Dengan Menjadi Tuan RUMAH UNTUK PERLAWANAN Persahabatan DI Antara Austria Dan JEPUN DI Hadapan 26,500 PENONTON.',\n",
       "  'Ia dirobohkan pada 2005 dan digantikan dengan Hypo-Arena yang baru, juga dikenali sehingga 30 Jun 2007 dengan nama \"Wortherseestadion\". Ia adalah salah satu daripada 8 stadium untuk UEFA Euro 2008, dan dibina untuk menampung 32,000 penonton. Selepas acara tersebut, kapasiti stadium ini sedang dipertimbangkan untuk dikurangkan kepada 12,500. Stadium ini dibuka secara rasmi pada 7 September 2007 dengan menjadi tuan rumah untuk perlawanan persahabatan di antara Austria dan Jepun di hadapan 26,500 penonton.'),\n",
       " ('Ia dirobohkan, pada 2005 dan digantikan\\' dengan Hypo-Arena) yang? baru, juga( dikenali sehingga 30] Jun 2007 dengan} nama \"Wortherseestadion\". Ia} adalah salah satu daripada 8\\' stadium untuk UEFA Euro; 2008, dan dibina untuk menampung 32,000{ penonton. Selepas acara, tersebut, kapasiti stadium\\' ini sedang dipertimbangkan untuk dikurangkan, kepada 12,500. Stadium\\' ini dibuka secara rasmi pada 7) September 2007] dengan menjadi> tuan] rumah untuk perlawanan persahabatan, di antara Austria, dan> Jepun di. hadapan 26,500 penonton.',\n",
       "  'Ia dirobohkan pada 2005 dan digantikan dengan Hypo-Arena yang baru, juga dikenali sehingga 30 Jun 2007 dengan nama \"Wortherseestadion\". Ia adalah salah satu daripada 8 stadium untuk UEFA Euro 2008, dan dibina untuk menampung 32,000 penonton. Selepas acara tersebut, kapasiti stadium ini sedang dipertimbangkan untuk dikurangkan kepada 12,500. Stadium ini dibuka secara rasmi pada 7 September 2007 dengan menjadi tuan rumah untuk perlawanan persahabatan di antara Austria dan Jepun di hadapan 26,500 penonton.'),\n",
       " ('ia dirobohkan Pada 2005 dan digantikan Dengan hypo-arena Yang baru, Juga Dikenali Sehingga 30 jun 2007 Dengan Nama \"wortherseestadion\". Ia Adalah Salah Satu daripada 8 stadium untuk uefa Euro 2008, dan Dibina Untuk Menampung 32,000 penonton. Selepas acara Tersebut, kapasiti Stadium Ini Sedang dipertimbangkan untuk Dikurangkan kepada 12,500. Stadium ini dibuka secara rasmi Pada 7 september 2007 dengan Menjadi tuan Rumah untuk perlawanan persahabatan Di Antara Austria Dan jepun di Hadapan 26,500 penonton.',\n",
       "  'Ia dirobohkan pada 2005 dan digantikan dengan Hypo-Arena yang baru, juga dikenali sehingga 30 Jun 2007 dengan nama \"Wortherseestadion\". Ia adalah salah satu daripada 8 stadium untuk UEFA Euro 2008, dan dibina untuk menampung 32,000 penonton. Selepas acara tersebut, kapasiti stadium ini sedang dipertimbangkan untuk dikurangkan kepada 12,500. Stadium ini dibuka secara rasmi pada 7 September 2007 dengan menjadi tuan rumah untuk perlawanan persahabatan di antara Austria dan Jepun di hadapan 26,500 penonton.'),\n",
       " ('Ia dirobohkan pada 2005 dan digantikan dengan Hypo-Arena yang baru, juga dikenali sehingga 30 Jun 2007 dengan nama \"Wortherseestadion\". Ia adalah salah satu daripada 8 stadium untuk UEFA Euro 2008, dan dibina untuk menampung 32,000 penonton. Selepas acara tersebut, kapasiti stadium ini sedang dipertimbangkan untuk dikurangkan kepada 12,500. Stadium ini dibuka secara rasmi pada 7 September 2007 dengan menjadi tuan rumah untuk perlawanan persahabatan di antara Austria dan Jepun di hadapan 26,500 penonton.',\n",
       "  'Ia dirobohkan pada 2005 dan digantikan dengan Hypo-Arena yang baru, juga dikenali sehingga 30 Jun 2007 dengan nama \"Wortherseestadion\". Ia adalah salah satu daripada 8 stadium untuk UEFA Euro 2008, dan dibina untuk menampung 32,000 penonton. Selepas acara tersebut, kapasiti stadium ini sedang dipertimbangkan untuk dikurangkan kepada 12,500. Stadium ini dibuka secara rasmi pada 7 September 2007 dengan menjadi tuan rumah untuk perlawanan persahabatan di antara Austria dan Jepun di hadapan 26,500 penonton.'),\n",
       " ('IA DIROBOHKAN PADA 2005 DAN DIGANTIKAN DENGAN HYPO-ARENA YANG BARU, JUGA DIKENALI SEHINGGA 30 JUN 2007 DENGAN NAMA \"WORTHERSEESTADION\" . IA ADALAH SALAH SATU DARIPADA 8 STADIUM UNTUK UEFA EURO 2008 , DAN DIBINA UNTUK MENAMPUNG 32,000 PENONTON . SELEPAS ACARA TERSEBUT , KAPASITI STADIUM INI SEDANG DIPERTIMBANGKAN UNTUK DIKURANGKAN KEPADA 12,500. STADIUM INI DIBUKA SECARA RASMI PADA 7 SEPTEMBER 2007 DENGAN MENJADI TUAN RUMAH UNTUK PERLAWANAN PERSAHABATAN DI ANTARA AUSTRIA DAN JEPUN DI HADAPAN 26,500 PENONTON.',\n",
       "  'Ia dirobohkan pada 2005 dan digantikan dengan Hypo-Arena yang baru, juga dikenali sehingga 30 Jun 2007 dengan nama \"Wortherseestadion\". Ia adalah salah satu daripada 8 stadium untuk UEFA Euro 2008, dan dibina untuk menampung 32,000 penonton. Selepas acara tersebut, kapasiti stadium ini sedang dipertimbangkan untuk dikurangkan kepada 12,500. Stadium ini dibuka secara rasmi pada 7 September 2007 dengan menjadi tuan rumah untuk perlawanan persahabatan di antara Austria dan Jepun di hadapan 26,500 penonton.'),\n",
       " ('ia dirobOHKan pada 2005 dan dIgaNtiKAn dengan hypo-arENa yang bAru, juga dikenalI sEhIngga 30 jun 2007 dengAn namA \"wortherseEStaDion\". ia Adalah sALah sAtU daripadA 8 stadium UNtUk uEFA eURo 2008, DAn diBina UNtuK MEnampuNg 32,000 penOnton. seLepAs acara TeRSeBut, kapasiti stadium Ini seDaNG DipERtImbangKAN uNtuK DikUranGkAN kePadA 12,500. stadium INI dIBukA secarA Rasmi pADA 7 SEPTembeR 2007 dengan menJaDI Tuan rumaH UnTUk peRlAwanaN PerSAhaBatan di ANtARA AustRia dAN jepUn di haDapAn 26,500 penontoN.',\n",
       "  'Ia dirobohkan pada 2005 dan digantikan dengan Hypo-Arena yang baru, juga dikenali sehingga 30 Jun 2007 dengan nama \"Wortherseestadion\". Ia adalah salah satu daripada 8 stadium untuk UEFA Euro 2008, dan dibina untuk menampung 32,000 penonton. Selepas acara tersebut, kapasiti stadium ini sedang dipertimbangkan untuk dikurangkan kepada 12,500. Stadium ini dibuka secara rasmi pada 7 September 2007 dengan menjadi tuan rumah untuk perlawanan persahabatan di antara Austria dan Jepun di hadapan 26,500 penonton.'),\n",
       " ('Ia dirobohkan> pada 2005> dan? digantikan\\\\ dengan Hypo-Arena yang baru, juga dikenali> sehingga 30 Jun 2007) dengan nama \"Wortherseestadion\". Ia adalah salah, satu daripada 8, stadium\\' untuk UEFA Euro( 2008, dan dibina. untuk menampung 32,000\\' penonton. Selepas acara tersebut, kapasiti stadium\\\\ ini sedang? dipertimbangkan{ untuk dikurangkan kepada 12,500. Stadium ini dibuka secara rasmi/ pada 7 September 2007 dengan menjadi tuan: rumah untuk perlawanan persahabatan\\' di antara Austria dan Jepun\" di hadapan 26,500. penonton.',\n",
       "  'Ia dirobohkan pada 2005 dan digantikan dengan Hypo-Arena yang baru, juga dikenali sehingga 30 Jun 2007 dengan nama \"Wortherseestadion\". Ia adalah salah satu daripada 8 stadium untuk UEFA Euro 2008, dan dibina untuk menampung 32,000 penonton. Selepas acara tersebut, kapasiti stadium ini sedang dipertimbangkan untuk dikurangkan kepada 12,500. Stadium ini dibuka secara rasmi pada 7 September 2007 dengan menjadi tuan rumah untuk perlawanan persahabatan di antara Austria dan Jepun di hadapan 26,500 penonton.'),\n",
       " ('Ia dIrobohKaN pAda 2005 DAn digAnTIKAn DEnGAn HYPo-AreNa yang baru, JUga dikenali sehInGga 30 JUn 2007 dEnGAN naMa \"WoRtheRSeesTadioN\". Ia adalah SaLAH satU daripaDa 8 sTADiuM unTuk UEFA EurO 2008, DAn DIbiNa unTuK menampuNg 32,000 peNONTon. Selepas acara terSebUt, kapasIti STAdIUm ini seDAng DIpERtIMbanGkan untUk dikURaNGkan kepAdA 12,500. Stadium ini dibuka seCara rAsmi Pada 7 SEpTemBeR 2007 DeNgAN menjAdi tuAN ruMaH untuk pErLAWanan pERsAhAbatan di ANtaRA AusTRia dAn Jepun dI hadapAn 26,500 peNonTON.',\n",
       "  'Ia dirobohkan pada 2005 dan digantikan dengan Hypo-Arena yang baru, juga dikenali sehingga 30 Jun 2007 dengan nama \"Wortherseestadion\". Ia adalah salah satu daripada 8 stadium untuk UEFA Euro 2008, dan dibina untuk menampung 32,000 penonton. Selepas acara tersebut, kapasiti stadium ini sedang dipertimbangkan untuk dikurangkan kepada 12,500. Stadium ini dibuka secara rasmi pada 7 September 2007 dengan menjadi tuan rumah untuk perlawanan persahabatan di antara Austria dan Jepun di hadapan 26,500 penonton.'),\n",
       " ('ia dirobohkan pada 2005 dan digantikan dengan hypo-arena yang baru , juga dikenali sehingga 30 jun 2007 dengan nama \"wortherseestadion\". ia adalah salah satu daripada 8 stadium untuk uefa euro 2008, dan dibina untuk menampung 32,000 penonton. selepas acara tersebut, kapasiti stadium ini sedang dipertimbangkan untuk dikurangkan kepada 12,500 . stadium ini dibuka secara rasmi pada 7 september 2007 dengan menjadi tuan rumah untuk perlawanan persahabatan di antara austria dan jepun di hadapan 26,500 penonton .',\n",
       "  'Ia dirobohkan pada 2005 dan digantikan dengan Hypo-Arena yang baru, juga dikenali sehingga 30 Jun 2007 dengan nama \"Wortherseestadion\". Ia adalah salah satu daripada 8 stadium untuk UEFA Euro 2008, dan dibina untuk menampung 32,000 penonton. Selepas acara tersebut, kapasiti stadium ini sedang dipertimbangkan untuk dikurangkan kepada 12,500. Stadium ini dibuka secara rasmi pada 7 September 2007 dengan menjadi tuan rumah untuk perlawanan persahabatan di antara Austria dan Jepun di hadapan 26,500 penonton.'),\n",
       " ('Ia dirobohkan pada 2005 dan digantikan dengan Hypo-Arena yang baru , juga dikenali sehingga 30 Jun 2007 dengan nama \"Wortherseestadion\" . Ia adalah salah satu daripada 8 stadium untuk UEFA Euro 2008, dan dibina untuk menampung 32,000 penonton . Selepas acara tersebut , kapasiti stadium ini sedang dipertimbangkan untuk dikurangkan kepada 12,500 . Stadium ini dibuka secara rasmi pada 7 September 2007 dengan menjadi tuan rumah untuk perlawanan persahabatan di antara Austria dan Jepun di hadapan 26,500 penonton .',\n",
       "  'Ia dirobohkan pada 2005 dan digantikan dengan Hypo-Arena yang baru, juga dikenali sehingga 30 Jun 2007 dengan nama \"Wortherseestadion\". Ia adalah salah satu daripada 8 stadium untuk UEFA Euro 2008, dan dibina untuk menampung 32,000 penonton. Selepas acara tersebut, kapasiti stadium ini sedang dipertimbangkan untuk dikurangkan kepada 12,500. Stadium ini dibuka secara rasmi pada 7 September 2007 dengan menjadi tuan rumah untuk perlawanan persahabatan di antara Austria dan Jepun di hadapan 26,500 penonton.'),\n",
       " ('IA DIROBOHKAN PADA 2005 DAN DIGANTIKAN DENGAN HYPO-ARENA YANG BARU JUGA DIKENALI SEHINGGA 30 JUN 2007 DENGAN NAMA WORTHERSEESTADION IA ADALAH SALAH SATU DARIPADA 8 STADIUM UNTUK UEFA EURO 2008, DAN DIBINA UNTUK MENAMPUNG 32,000 PENONTON SELEPAS ACARA TERSEBUT KAPASITI STADIUM INI SEDANG DIPERTIMBANGKAN UNTUK DIKURANGKAN KEPADA 12500 STADIUM INI DIBUKA SECARA RASMI PADA 7 SEPTEMBER 2007 DENGAN MENJADI TUAN RUMAH UNTUK PERLAWANAN PERSAHABATAN DI ANTARA AUSTRIA DAN JEPUN DI HADAPAN 26,500 PENONTON',\n",
       "  'Ia dirobohkan pada 2005 dan digantikan dengan Hypo-Arena yang baru, juga dikenali sehingga 30 Jun 2007 dengan nama \"Wortherseestadion\". Ia adalah salah satu daripada 8 stadium untuk UEFA Euro 2008, dan dibina untuk menampung 32,000 penonton. Selepas acara tersebut, kapasiti stadium ini sedang dipertimbangkan untuk dikurangkan kepada 12,500. Stadium ini dibuka secara rasmi pada 7 September 2007 dengan menjadi tuan rumah untuk perlawanan persahabatan di antara Austria dan Jepun di hadapan 26,500 penonton.'),\n",
       " ('Ia dirobohkan pada 2005 dan digantikan dengan Hypo-Arena yang baru juga dikenali sehingga 30 Jun 2007 dengan nama Wortherseestadion Ia adalah salah satu daripada 8 stadium untuk UEFA Euro 2008 dan dibina untuk menampung 32,000 penonton Selepas acara tersebut, kapasiti stadium ini sedang dipertimbangkan untuk dikurangkan kepada 12500 Stadium ini dibuka secara rasmi pada 7 September 2007 dengan menjadi tuan rumah untuk perlawanan persahabatan di antara Austria dan Jepun di hadapan 26500 penonton.',\n",
       "  'Ia dirobohkan pada 2005 dan digantikan dengan Hypo-Arena yang baru, juga dikenali sehingga 30 Jun 2007 dengan nama \"Wortherseestadion\". Ia adalah salah satu daripada 8 stadium untuk UEFA Euro 2008, dan dibina untuk menampung 32,000 penonton. Selepas acara tersebut, kapasiti stadium ini sedang dipertimbangkan untuk dikurangkan kepada 12,500. Stadium ini dibuka secara rasmi pada 7 September 2007 dengan menjadi tuan rumah untuk perlawanan persahabatan di antara Austria dan Jepun di hadapan 26,500 penonton.'),\n",
       " ('IA DIROBOHKAN Pada 2005 Dan Digantikan DENGAN HYPO-ARENA Yang BARU, Juga Dikenali SEHINGGA 30 Jun 2007 DENGAN NAMA \"Wortherseestadion\". IA ADALAH SALAH Satu Daripada 8 Stadium UNTUK UEFA EURO 2008, DAN Dibina UNTUK MENAMPUNG 32,000 Penonton. SELEPAS Acara TERSEBUT, KAPASITI STADIUM Ini Sedang Dipertimbangkan UNTUK Dikurangkan Kepada 12,500. Stadium Ini DIBUKA SECARA RASMI Pada 7 September 2007 Dengan Menjadi Tuan Rumah UNTUK PERLAWANAN Persahabatan DI Antara Austria Dan Jepun DI HADAPAN 26,500 Penonton.',\n",
       "  'Ia dirobohkan pada 2005 dan digantikan dengan Hypo-Arena yang baru, juga dikenali sehingga 30 Jun 2007 dengan nama \"Wortherseestadion\". Ia adalah salah satu daripada 8 stadium untuk UEFA Euro 2008, dan dibina untuk menampung 32,000 penonton. Selepas acara tersebut, kapasiti stadium ini sedang dipertimbangkan untuk dikurangkan kepada 12,500. Stadium ini dibuka secara rasmi pada 7 September 2007 dengan menjadi tuan rumah untuk perlawanan persahabatan di antara Austria dan Jepun di hadapan 26,500 penonton.'),\n",
       " ('Ia dirobohkan pada 2005 dan digantikan dengan Hypo-Arena yang baru: juga dikenali sehingga 30 Jun 2007 dengan nama \"Wortherseestadion\") Ia adalah salah satu daripada 8 stadium untuk UEFA Euro 2008& dan dibina untuk menampung 32,000 penonton( Selepas acara tersebut\" kapasiti stadium ini sedang dipertimbangkan untuk dikurangkan kepada 12,500{ Stadium ini dibuka secara rasmi pada 7 September 2007 dengan menjadi tuan rumah untuk perlawanan persahabatan di antara Austria dan Jepun di hadapan 26,500 penonton(',\n",
       "  'Ia dirobohkan pada 2005 dan digantikan dengan Hypo-Arena yang baru, juga dikenali sehingga 30 Jun 2007 dengan nama \"Wortherseestadion\". Ia adalah salah satu daripada 8 stadium untuk UEFA Euro 2008, dan dibina untuk menampung 32,000 penonton. Selepas acara tersebut, kapasiti stadium ini sedang dipertimbangkan untuk dikurangkan kepada 12,500. Stadium ini dibuka secara rasmi pada 7 September 2007 dengan menjadi tuan rumah untuk perlawanan persahabatan di antara Austria dan Jepun di hadapan 26,500 penonton.'),\n",
       " ('Ia dirobohkan pada 2005 dan Digantikan dengan Hypo-Arena Yang baru, Juga Dikenali Sehingga 30 Jun 2007 Dengan Nama \"Wortherseestadion\". Ia Adalah Salah Satu Daripada 8 stadium untuk Uefa Euro 2008, dan Dibina Untuk menampung 32,000 penonton. Selepas acara Tersebut, Kapasiti Stadium Ini Sedang Dipertimbangkan Untuk Dikurangkan kepada 12,500. Stadium Ini Dibuka Secara rasmi Pada 7 September 2007 dengan menjadi tuan Rumah untuk Perlawanan Persahabatan Di Antara Austria dan Jepun di hadapan 26,500 Penonton.',\n",
       "  'Ia dirobohkan pada 2005 dan digantikan dengan Hypo-Arena yang baru, juga dikenali sehingga 30 Jun 2007 dengan nama \"Wortherseestadion\". Ia adalah salah satu daripada 8 stadium untuk UEFA Euro 2008, dan dibina untuk menampung 32,000 penonton. Selepas acara tersebut, kapasiti stadium ini sedang dipertimbangkan untuk dikurangkan kepada 12,500. Stadium ini dibuka secara rasmi pada 7 September 2007 dengan menjadi tuan rumah untuk perlawanan persahabatan di antara Austria dan Jepun di hadapan 26,500 penonton.'),\n",
       " ('IA DIROBOHKAN PADA% 2005 DAN DIGANTIKAN DENGAN HYPO-ARENA YANG BARU, JUGA DIKENALI\" SEHINGGA 30 JUN 2007 DENGAN NAMA \"WORTHERSEESTADION\". IA. ADALAH& SALAH{ SATU DARIPADA 8 STADIUM/ UNTUK UEFA EURO 2008, DAN DIBINA UNTUK\\' MENAMPUNG\\\\ 32,000 PENONTON. SELEPAS ACARA] TERSEBUT, KAPASITI STADIUM INI SEDANG DIPERTIMBANGKAN UNTUK DIKURANGKAN KEPADA 12,500. STADIUM INI, DIBUKA SECARA RASMI{ PADA 7 SEPTEMBER 2007; DENGAN MENJADI TUAN RUMAH UNTUK PERLAWANAN PERSAHABATAN DI ANTARA AUSTRIA> DAN JEPUN} DI\\\\ HADAPAN 26,500% PENONTON.',\n",
       "  'Ia dirobohkan pada 2005 dan digantikan dengan Hypo-Arena yang baru, juga dikenali sehingga 30 Jun 2007 dengan nama \"Wortherseestadion\". Ia adalah salah satu daripada 8 stadium untuk UEFA Euro 2008, dan dibina untuk menampung 32,000 penonton. Selepas acara tersebut, kapasiti stadium ini sedang dipertimbangkan untuk dikurangkan kepada 12,500. Stadium ini dibuka secara rasmi pada 7 September 2007 dengan menjadi tuan rumah untuk perlawanan persahabatan di antara Austria dan Jepun di hadapan 26,500 penonton.'),\n",
       " ('Ia Dirobohkan Pada 2005 Dan Digantikan Dengan Hypo-Arena Yang Baru& Juga Dikenali Sehingga 30 Jun 2007 Dengan Nama \"Wortherseestadion\". Ia Adalah Salah Satu Daripada 8 Stadium Untuk Uefa Euro 2008} Dan Dibina Untuk Menampung 32,000 Penonton? Selepas Acara Tersebut! Kapasiti Stadium Ini Sedang Dipertimbangkan Untuk Dikurangkan Kepada 12,500> Stadium Ini Dibuka Secara Rasmi Pada 7 September 2007 Dengan Menjadi Tuan Rumah Untuk Perlawanan Persahabatan Di Antara Austria Dan Jepun Di Hadapan 26,500 Penonton?',\n",
       "  'Ia dirobohkan pada 2005 dan digantikan dengan Hypo-Arena yang baru, juga dikenali sehingga 30 Jun 2007 dengan nama \"Wortherseestadion\". Ia adalah salah satu daripada 8 stadium untuk UEFA Euro 2008, dan dibina untuk menampung 32,000 penonton. Selepas acara tersebut, kapasiti stadium ini sedang dipertimbangkan untuk dikurangkan kepada 12,500. Stadium ini dibuka secara rasmi pada 7 September 2007 dengan menjadi tuan rumah untuk perlawanan persahabatan di antara Austria dan Jepun di hadapan 26,500 penonton.'),\n",
       " ('IA DIROBOHKAN PADA 2005 DAN digantikan DENGAN HYPO-ARENA yang BARU, juga DIKENALI SEHINGGA 30 JUN 2007 DENGAN nama \"WORTHERSEESTADION\". Ia adalah salah satu DARIPADA 8 STADIUM UNTUK UEFA Euro 2008, DAN dibina UNTUK menampung 32,000 penonton. Selepas acara TERSEBUT, kapasiti stadium INI sedang DIPERTIMBANGKAN UNTUK DIKURANGKAN KEPADA 12,500. Stadium ini dibuka secara rasmi PADA 7 SEPTEMBER 2007 dengan menjadi tuan rumah UNTUK perlawanan persahabatan DI ANTARA AUSTRIA dan JEPUN di hadapan 26,500 penonton.',\n",
       "  'Ia dirobohkan pada 2005 dan digantikan dengan Hypo-Arena yang baru, juga dikenali sehingga 30 Jun 2007 dengan nama \"Wortherseestadion\". Ia adalah salah satu daripada 8 stadium untuk UEFA Euro 2008, dan dibina untuk menampung 32,000 penonton. Selepas acara tersebut, kapasiti stadium ini sedang dipertimbangkan untuk dikurangkan kepada 12,500. Stadium ini dibuka secara rasmi pada 7 September 2007 dengan menjadi tuan rumah untuk perlawanan persahabatan di antara Austria dan Jepun di hadapan 26,500 penonton.'),\n",
       " ('IA dirobohkan PADA 2005 Dan Digantikan DENGAN Hypo-Arena yang Baru, JUGA dikenali Sehingga 30 Jun 2007 Dengan nama \"WORTHERSEESTADION\" Ia Adalah Salah Satu Daripada 8 stadium Untuk Uefa Euro 2008 dan Dibina Untuk Menampung 32,000 penonton Selepas Acara TERSEBUT Kapasiti stadium INI Sedang dipertimbangkan Untuk DIKURANGKAN KEPADA 12,500. Stadium Ini dibuka Secara Rasmi PADA 7 September 2007 Dengan MENJADI TUAN RUMAH Untuk perlawanan Persahabatan DI antara Austria Dan JEPUN Di Hadapan 26500 Penonton',\n",
       "  'Ia dirobohkan pada 2005 dan digantikan dengan Hypo-Arena yang baru, juga dikenali sehingga 30 Jun 2007 dengan nama \"Wortherseestadion\". Ia adalah salah satu daripada 8 stadium untuk UEFA Euro 2008, dan dibina untuk menampung 32,000 penonton. Selepas acara tersebut, kapasiti stadium ini sedang dipertimbangkan untuk dikurangkan kepada 12,500. Stadium ini dibuka secara rasmi pada 7 September 2007 dengan menjadi tuan rumah untuk perlawanan persahabatan di antara Austria dan Jepun di hadapan 26,500 penonton.'),\n",
       " ('ia dirobohkan pada 2005 dan& digantikan dengan hypo-arena[ yang baru, juga dikenali sehingga) 30 jun 2007 dengan] nama \"wortherseestadion\". ia: adalah salah[ satu; daripada? 8 stadium untuk uefa< euro 2008, dan dibina\\' untuk menampung 32,000 penonton. selepas} acara/ tersebut, kapasiti stadium\" ini sedang? dipertimbangkan> untuk dikurangkan kepada 12,500. stadium. ini? dibuka: secara rasmi pada 7 september 2007 dengan menjadi tuan) rumah untuk perlawanan persahabatan: di antara> austria dan jepun di hadapan; 26,500 penonton.',\n",
       "  'Ia dirobohkan pada 2005 dan digantikan dengan Hypo-Arena yang baru, juga dikenali sehingga 30 Jun 2007 dengan nama \"Wortherseestadion\". Ia adalah salah satu daripada 8 stadium untuk UEFA Euro 2008, dan dibina untuk menampung 32,000 penonton. Selepas acara tersebut, kapasiti stadium ini sedang dipertimbangkan untuk dikurangkan kepada 12,500. Stadium ini dibuka secara rasmi pada 7 September 2007 dengan menjadi tuan rumah untuk perlawanan persahabatan di antara Austria dan Jepun di hadapan 26,500 penonton.'),\n",
       " ('ia dirobohkan pada 2005 DAN digantikan dengan HYPO-ARENA yang baru, JUGA DIKENALI sehingga 30 JUN 2007 dengan NAMA \"wortherseestadion\". IA adalah SALAH SATU DARIPADA 8 stadium untuk UEFA euro 2008, DAN dibina UNTUK MENAMPUNG 32,000 PENONTON. SELEPAS acara TERSEBUT, KAPASITI stadium ini SEDANG DIPERTIMBANGKAN untuk dikurangkan kepada 12,500. STADIUM ini DIBUKA secara RASMI pada 7 SEPTEMBER 2007 DENGAN MENJADI TUAN RUMAH UNTUK PERLAWANAN persahabatan di antara AUSTRIA dan jepun di HADAPAN 26,500 PENONTON.',\n",
       "  'Ia dirobohkan pada 2005 dan digantikan dengan Hypo-Arena yang baru, juga dikenali sehingga 30 Jun 2007 dengan nama \"Wortherseestadion\". Ia adalah salah satu daripada 8 stadium untuk UEFA Euro 2008, dan dibina untuk menampung 32,000 penonton. Selepas acara tersebut, kapasiti stadium ini sedang dipertimbangkan untuk dikurangkan kepada 12,500. Stadium ini dibuka secara rasmi pada 7 September 2007 dengan menjadi tuan rumah untuk perlawanan persahabatan di antara Austria dan Jepun di hadapan 26,500 penonton.'),\n",
       " ('Ia Dirobohkan Pada 2005 Dan Digantikan Dengan Hypo-Arena Yang Baru , Juga Dikenali Sehingga 30 Jun 2007 Dengan Nama \"Wortherseestadion\" . Ia Adalah Salah Satu Daripada 8 Stadium Untuk Uefa Euro 2008 , Dan Dibina Untuk Menampung 32,000 Penonton. Selepas Acara Tersebut , Kapasiti Stadium Ini Sedang Dipertimbangkan Untuk Dikurangkan Kepada 12,500. Stadium Ini Dibuka Secara Rasmi Pada 7 September 2007 Dengan Menjadi Tuan Rumah Untuk Perlawanan Persahabatan Di Antara Austria Dan Jepun Di Hadapan 26,500 Penonton.',\n",
       "  'Ia dirobohkan pada 2005 dan digantikan dengan Hypo-Arena yang baru, juga dikenali sehingga 30 Jun 2007 dengan nama \"Wortherseestadion\". Ia adalah salah satu daripada 8 stadium untuk UEFA Euro 2008, dan dibina untuk menampung 32,000 penonton. Selepas acara tersebut, kapasiti stadium ini sedang dipertimbangkan untuk dikurangkan kepada 12,500. Stadium ini dibuka secara rasmi pada 7 September 2007 dengan menjadi tuan rumah untuk perlawanan persahabatan di antara Austria dan Jepun di hadapan 26,500 penonton.'),\n",
       " ('IA DIROBOHKAN pada 2005 dan DIGANTIKAN DENGAN Hypo-Arena YANG BARU, juga DIKENALI SEHINGGA 30 JUN 2007 dengan NAMA \"Wortherseestadion\". IA adalah salah satu DARIPADA 8 STADIUM UNTUK UEFA Euro 2008, DAN dibina untuk MENAMPUNG 32,000 penonton. SELEPAS ACARA tersebut, kapasiti stadium ini sedang dipertimbangkan UNTUK DIKURANGKAN KEPADA 12,500. Stadium INI dibuka secara RASMI PADA 7 September 2007 DENGAN menjadi tuan rumah untuk PERLAWANAN PERSAHABATAN di ANTARA AUSTRIA DAN Jepun di HADAPAN 26,500 penonton.',\n",
       "  'Ia dirobohkan pada 2005 dan digantikan dengan Hypo-Arena yang baru, juga dikenali sehingga 30 Jun 2007 dengan nama \"Wortherseestadion\". Ia adalah salah satu daripada 8 stadium untuk UEFA Euro 2008, dan dibina untuk menampung 32,000 penonton. Selepas acara tersebut, kapasiti stadium ini sedang dipertimbangkan untuk dikurangkan kepada 12,500. Stadium ini dibuka secara rasmi pada 7 September 2007 dengan menjadi tuan rumah untuk perlawanan persahabatan di antara Austria dan Jepun di hadapan 26,500 penonton.'),\n",
       " ('Ia Dirobohkan Pada 2005 Dan Digantikan Dengan Hypo Arena Yang Baru Juga Dikenali Sehingga 30 Jun 2007 Dengan Nama Wortherseestadion Ia Adalah Salah Satu Daripada 8 Stadium Untuk Uefa Euro 2008 Dan Dibina Untuk Menampung 32 000 Penonton Selepas Acara Tersebut Kapasiti Stadium Ini Sedang Dipertimbangkan Untuk Dikurangkan Kepada 12 500 Stadium Ini Dibuka Secara Rasmi Pada 7 September 2007 Dengan Menjadi Tuan Rumah Untuk Perlawanan Persahabatan Di Antara Austria Dan Jepun Di Hadapan 26 500 Penonton',\n",
       "  'Ia dirobohkan pada 2005 dan digantikan dengan Hypo-Arena yang baru, juga dikenali sehingga 30 Jun 2007 dengan nama \"Wortherseestadion\". Ia adalah salah satu daripada 8 stadium untuk UEFA Euro 2008, dan dibina untuk menampung 32,000 penonton. Selepas acara tersebut, kapasiti stadium ini sedang dipertimbangkan untuk dikurangkan kepada 12,500. Stadium ini dibuka secara rasmi pada 7 September 2007 dengan menjadi tuan rumah untuk perlawanan persahabatan di antara Austria dan Jepun di hadapan 26,500 penonton.'),\n",
       " ('Ia Dirobohkan Pada 2005 Dan Digantikan Dengan Hypo-Arena Yang Baru Juga Dikenali Sehingga 30 Jun 2007 Dengan Nama \"Wortherseestadion Ia Adalah Salah Satu Daripada 8 Stadium Untuk Uefa Euro 2008, Dan Dibina Untuk Menampung 32,000 Penonton Selepas Acara Tersebut Kapasiti Stadium Ini Sedang Dipertimbangkan Untuk Dikurangkan Kepada 12500 Stadium Ini Dibuka Secara Rasmi Pada 7 September 2007 Dengan Menjadi Tuan Rumah Untuk Perlawanan Persahabatan Di Antara Austria Dan Jepun Di Hadapan 26,500 Penonton',\n",
       "  'Ia dirobohkan pada 2005 dan digantikan dengan Hypo-Arena yang baru, juga dikenali sehingga 30 Jun 2007 dengan nama \"Wortherseestadion\". Ia adalah salah satu daripada 8 stadium untuk UEFA Euro 2008, dan dibina untuk menampung 32,000 penonton. Selepas acara tersebut, kapasiti stadium ini sedang dipertimbangkan untuk dikurangkan kepada 12,500. Stadium ini dibuka secara rasmi pada 7 September 2007 dengan menjadi tuan rumah untuk perlawanan persahabatan di antara Austria dan Jepun di hadapan 26,500 penonton.'),\n",
       " ('IA> DIROBOHKAN\\' PADA 2005 DAN DIGANTIKAN DENGAN& HYPO-ARENA YANG BARU, JUGA DIKENALI{ SEHINGGA 30: JUN 2007\\' DENGAN NAMA \"WORTHERSEESTADION\". IA ADALAH SALAH SATU DARIPADA 8: STADIUM% UNTUK UEFA EURO 2008, DAN DIBINA UNTUK MENAMPUNG 32,000 PENONTON. SELEPAS ACARA; TERSEBUT, KAPASITI. STADIUM INI SEDANG\" DIPERTIMBANGKAN. UNTUK DIKURANGKAN\\\\ KEPADA 12,500. STADIUM\\' INI. DIBUKA SECARA RASMI PADA 7 SEPTEMBER 2007> DENGAN MENJADI TUAN RUMAH UNTUK PERLAWANAN PERSAHABATAN DI ANTARA AUSTRIA> DAN JEPUN DI HADAPAN: 26,500? PENONTON.',\n",
       "  'Ia dirobohkan pada 2005 dan digantikan dengan Hypo-Arena yang baru, juga dikenali sehingga 30 Jun 2007 dengan nama \"Wortherseestadion\". Ia adalah salah satu daripada 8 stadium untuk UEFA Euro 2008, dan dibina untuk menampung 32,000 penonton. Selepas acara tersebut, kapasiti stadium ini sedang dipertimbangkan untuk dikurangkan kepada 12,500. Stadium ini dibuka secara rasmi pada 7 September 2007 dengan menjadi tuan rumah untuk perlawanan persahabatan di antara Austria dan Jepun di hadapan 26,500 penonton.'),\n",
       " ('Ia dirobohkan pada 2005 dan digantikan dengan Hypo-Arena yang baru\" juga dikenali sehingga 30 Jun 2007 dengan nama \"Wortherseestadion\"\\\\ Ia adalah salah satu daripada 8 stadium untuk UEFA Euro 2008\\\\ dan dibina untuk menampung 32,000 penonton! Selepas acara tersebut& kapasiti stadium ini sedang dipertimbangkan untuk dikurangkan kepada 12,500/ Stadium ini dibuka secara rasmi pada 7 September 2007 dengan menjadi tuan rumah untuk perlawanan persahabatan di antara Austria dan Jepun di hadapan 26,500 penonton!',\n",
       "  'Ia dirobohkan pada 2005 dan digantikan dengan Hypo-Arena yang baru, juga dikenali sehingga 30 Jun 2007 dengan nama \"Wortherseestadion\". Ia adalah salah satu daripada 8 stadium untuk UEFA Euro 2008, dan dibina untuk menampung 32,000 penonton. Selepas acara tersebut, kapasiti stadium ini sedang dipertimbangkan untuk dikurangkan kepada 12,500. Stadium ini dibuka secara rasmi pada 7 September 2007 dengan menjadi tuan rumah untuk perlawanan persahabatan di antara Austria dan Jepun di hadapan 26,500 penonton.'),\n",
       " ('Ia dirobohkan pada 2005 dan digantikan dengan Hypo-Arena yang baru juga dikenali sehingga 30 Jun 2007 dengan nama \"Wortherseestadion\" Ia adalah salah satu daripada 8 stadium untuk UEFA Euro 2008 dan dibina untuk menampung 32000 penonton. Selepas acara tersebut, kapasiti stadium ini sedang dipertimbangkan untuk dikurangkan kepada 12500 Stadium ini dibuka secara rasmi pada 7 September 2007 dengan menjadi tuan rumah untuk perlawanan persahabatan di antara Austria dan Jepun di hadapan 26,500 penonton.',\n",
       "  'Ia dirobohkan pada 2005 dan digantikan dengan Hypo-Arena yang baru, juga dikenali sehingga 30 Jun 2007 dengan nama \"Wortherseestadion\". Ia adalah salah satu daripada 8 stadium untuk UEFA Euro 2008, dan dibina untuk menampung 32,000 penonton. Selepas acara tersebut, kapasiti stadium ini sedang dipertimbangkan untuk dikurangkan kepada 12,500. Stadium ini dibuka secara rasmi pada 7 September 2007 dengan menjadi tuan rumah untuk perlawanan persahabatan di antara Austria dan Jepun di hadapan 26,500 penonton.'),\n",
       " ('ia dirobohkan pada 2005 dan digantikan dengan hypo-arena yang baru juga dikenali sehingga 30 jun 2007 dengan nama wortherseestadion. ia adalah salah satu daripada 8 stadium untuk uefa euro 2008, dan dibina untuk menampung 32,000 penonton selepas acara tersebut kapasiti stadium ini sedang dipertimbangkan untuk dikurangkan kepada 12500 stadium ini dibuka secara rasmi pada 7 september 2007 dengan menjadi tuan rumah untuk perlawanan persahabatan di antara austria dan jepun di hadapan 26500 penonton.',\n",
       "  'Ia dirobohkan pada 2005 dan digantikan dengan Hypo-Arena yang baru, juga dikenali sehingga 30 Jun 2007 dengan nama \"Wortherseestadion\". Ia adalah salah satu daripada 8 stadium untuk UEFA Euro 2008, dan dibina untuk menampung 32,000 penonton. Selepas acara tersebut, kapasiti stadium ini sedang dipertimbangkan untuk dikurangkan kepada 12,500. Stadium ini dibuka secara rasmi pada 7 September 2007 dengan menjadi tuan rumah untuk perlawanan persahabatan di antara Austria dan Jepun di hadapan 26,500 penonton.'),\n",
       " ('Ia DIROBOHKAN Pada 2005 DAN DIGANTIKAN Dengan HYPO-ARENA YANG BARU, JUGA Dikenali Sehingga 30 JUN 2007 DENGAN NAMA \"Wortherseestadion\". Ia Adalah SALAH Satu Daripada 8 STADIUM UNTUK Uefa Euro 2008, Dan Dibina UNTUK Menampung 32,000 PENONTON. SELEPAS Acara TERSEBUT, Kapasiti Stadium Ini SEDANG Dipertimbangkan UNTUK Dikurangkan KEPADA 12,500. STADIUM INI Dibuka SECARA RASMI Pada 7 September 2007 Dengan Menjadi Tuan Rumah Untuk Perlawanan Persahabatan DI ANTARA Austria DAN JEPUN DI HADAPAN 26,500 Penonton.',\n",
       "  'Ia dirobohkan pada 2005 dan digantikan dengan Hypo-Arena yang baru, juga dikenali sehingga 30 Jun 2007 dengan nama \"Wortherseestadion\". Ia adalah salah satu daripada 8 stadium untuk UEFA Euro 2008, dan dibina untuk menampung 32,000 penonton. Selepas acara tersebut, kapasiti stadium ini sedang dipertimbangkan untuk dikurangkan kepada 12,500. Stadium ini dibuka secara rasmi pada 7 September 2007 dengan menjadi tuan rumah untuk perlawanan persahabatan di antara Austria dan Jepun di hadapan 26,500 penonton.')]"
      ]
     },
     "execution_count": 26,
     "metadata": {},
     "output_type": "execute_result"
    }
   ],
   "source": [
    "results1[:100]"
   ]
  },
  {
   "cell_type": "code",
   "execution_count": 27,
   "metadata": {},
   "outputs": [],
   "source": [
    "import json\n",
    "\n",
    "with open('results-wiki.json', 'w') as fopen:\n",
    "    json.dump(results1, fopen)"
   ]
  },
  {
   "cell_type": "code",
   "execution_count": 31,
   "metadata": {},
   "outputs": [
    {
     "data": {
      "text/plain": [
       "3656919"
      ]
     },
     "execution_count": 31,
     "metadata": {},
     "output_type": "execute_result"
    }
   ],
   "source": [
    "with open(files[1]) as fopen:\n",
    "    data = fopen.read().split('\\n')\n",
    "    \n",
    "len(data)"
   ]
  },
  {
   "cell_type": "code",
   "execution_count": 32,
   "metadata": {},
   "outputs": [],
   "source": [
    "results, result = [], []\n",
    "for i in data:\n",
    "    if len(i) and i[-1] != '.':\n",
    "        i = i + '.'\n",
    "    if not len(i) and len(result):\n",
    "        results.append(result)\n",
    "        result = []\n",
    "    else:\n",
    "        if len(i):\n",
    "            result.append(i)\n",
    "        \n",
    "if len(result):\n",
    "    results.append(result)"
   ]
  },
  {
   "cell_type": "code",
   "execution_count": 33,
   "metadata": {},
   "outputs": [
    {
     "data": {
      "text/plain": [
       "173012"
      ]
     },
     "execution_count": 33,
     "metadata": {},
     "output_type": "execute_result"
    }
   ],
   "source": [
    "len(results)"
   ]
  },
  {
   "cell_type": "code",
   "execution_count": 38,
   "metadata": {},
   "outputs": [],
   "source": [
    "results = random.sample(results, 70000)"
   ]
  },
  {
   "cell_type": "code",
   "execution_count": 39,
   "metadata": {},
   "outputs": [
    {
     "name": "stderr",
     "output_type": "stream",
     "text": [
      "100%|██████████| 4375/4375 [00:32<00:00, 136.30it/s]\n",
      "100%|█████████▉| 4368/4375 [00:32<00:00, 131.64it/s]\n",
      " 97%|█████████▋| 4255/4375 [00:30<00:00, 138.66it/s]\n",
      " 98%|█████████▊| 4270/4375 [00:31<00:00, 135.61it/s]\n",
      "100%|██████████| 4375/4375 [00:32<00:00, 136.40it/s]\n",
      "100%|██████████| 4375/4375 [00:32<00:00, 136.71it/s]\n",
      "100%|██████████| 4375/4375 [00:31<00:00, 137.92it/s]\n",
      "100%|██████████| 4375/4375 [00:31<00:00, 137.02it/s]\n",
      "100%|██████████| 4375/4375 [00:32<00:00, 135.70it/s]\n",
      "100%|██████████| 4375/4375 [00:31<00:00, 137.48it/s]\n",
      "100%|██████████| 4375/4375 [00:31<00:00, 137.07it/s]\n",
      "100%|██████████| 4375/4375 [00:31<00:00, 137.32it/s]\n",
      "100%|██████████| 4375/4375 [00:32<00:00, 134.75it/s]\n",
      "100%|██████████| 4375/4375 [00:32<00:00, 134.97it/s]\n",
      "100%|██████████| 4375/4375 [00:32<00:00, 133.59it/s]\n",
      "100%|██████████| 4375/4375 [00:32<00:00, 133.77it/s]\n"
     ]
    }
   ],
   "source": [
    "results1 = cleaning.multiprocessing(results, loop)"
   ]
  },
  {
   "cell_type": "code",
   "execution_count": 41,
   "metadata": {},
   "outputs": [
    {
     "data": {
      "text/plain": [
       "8564087"
      ]
     },
     "execution_count": 41,
     "metadata": {},
     "output_type": "execute_result"
    }
   ],
   "source": [
    "len(results1)"
   ]
  },
  {
   "cell_type": "code",
   "execution_count": 42,
   "metadata": {},
   "outputs": [],
   "source": [
    "with open('results-news.json', 'w') as fopen:\n",
    "    json.dump(results1, fopen)"
   ]
  },
  {
   "cell_type": "code",
   "execution_count": null,
   "metadata": {},
   "outputs": [],
   "source": []
  }
 ],
 "metadata": {
  "kernelspec": {
   "display_name": "Python 3",
   "language": "python",
   "name": "python3"
  },
  "language_info": {
   "codemirror_mode": {
    "name": "ipython",
    "version": 3
   },
   "file_extension": ".py",
   "mimetype": "text/x-python",
   "name": "python",
   "nbconvert_exporter": "python",
   "pygments_lexer": "ipython3",
   "version": "3.6.8"
  }
 },
 "nbformat": 4,
 "nbformat_minor": 2
}
