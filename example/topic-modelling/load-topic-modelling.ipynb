{
 "cells": [
  {
   "cell_type": "code",
   "execution_count": 1,
   "metadata": {},
   "outputs": [
    {
     "name": "stderr",
     "output_type": "stream",
     "text": [
      "Using TensorFlow backend.\n",
      "/usr/local/lib/python3.6/site-packages/sklearn/cross_validation.py:41: DeprecationWarning: This module was deprecated in version 0.18 in favor of the model_selection module into which all the refactored classes and functions are moved. Also note that the interface of the new CV iterators are different from that of this module. This module will be removed in 0.20.\n",
      "  \"This module will be removed in 0.20.\", DeprecationWarning)\n"
     ]
    }
   ],
   "source": [
    "import pandas as pd\n",
    "import malaya"
   ]
  },
  {
   "cell_type": "code",
   "execution_count": 2,
   "metadata": {},
   "outputs": [],
   "source": [
    "df = pd.read_csv('tests/02032018.csv',sep=';')\n",
    "df = df.iloc[3:,1:]\n",
    "df.columns = ['text','label']\n",
    "corpus = df.text.tolist()"
   ]
  },
  {
   "cell_type": "code",
   "execution_count": 3,
   "metadata": {},
   "outputs": [
    {
     "name": "stderr",
     "output_type": "stream",
     "text": [
      "/usr/local/lib/python3.6/site-packages/sklearn/decomposition/online_lda.py:294: DeprecationWarning: n_topics has been renamed to n_components in version 0.19 and will be removed in 0.21\n",
      "  DeprecationWarning)\n"
     ]
    },
    {
     "name": "stdout",
     "output_type": "stream",
     "text": [
      "topic 0       topic 1       topic 2       topic 3       topic 4       \n",
      "--------      --------      --------      --------      --------      \n",
      "kerajaan      bahasa        negara        projek        diterjemahkan \n",
      "negara        keputusan     bank          faktor        ilmu          \n",
      "parti         raya          teknikal      parti         wujud         \n",
      "kelulusan     pilihan       malaysia      meningkatkan  dasar         \n",
      "malaysia      inggeris      pertumbuhan   harga         bahasa        \n",
      "tindakan      ilmu          berkongsi     nilai         bukti         \n",
      "pas           pengurusan    ekonomi       kerajaan      serahkan      \n",
      "undi          tanah         pengalaman    syarikat      mengumpul     \n",
      "masyarakat    sewa          selatan       tumpuan       asalnya       \n",
      "mengambil     parti         dibenarkan    bahasa        proses        \n",
      "\n",
      "\n"
     ]
    }
   ],
   "source": [
    "lda = malaya.lda_topic_modelling(corpus,10)\n",
    "lda.print_topics(5)"
   ]
  },
  {
   "cell_type": "code",
   "execution_count": 4,
   "metadata": {},
   "outputs": [
    {
     "name": "stdout",
     "output_type": "stream",
     "text": [
      "bermakna strategi set dasar kondusif destinasi malaysia mestilah bijak berterusan strategi kempen pemasaran merancang pendekatan pasaran berbeza\n",
      "kerja keras ahli jentera parti dilaksanakan henti pru membuktikankesungguhan kepimpinan menabur bakti masyarakat ketinggalan manfaat disediakan kerajaan\n",
      "amanah bermasalah pas hati terbuka mengajak parti islam pakatan harapan harapan menyelamatkan negara\n",
      "politik perbezaan pandangan langsungkah titik persamaan pas parti pembangkang menjatuhkan kerajaan gagal mentadbir negara\n",
      "berfungsi semak imbang pakatan pelbagai isu berkaitan pergerakan sosial suara akar umbi terpinggir\n"
     ]
    }
   ],
   "source": [
    "lda.get_sentences(5)"
   ]
  },
  {
   "cell_type": "code",
   "execution_count": 5,
   "metadata": {},
   "outputs": [
    {
     "data": {
      "text/plain": [
       "[(0,\n",
       "  'kerajaan negara parti kelulusan malaysia tindakan pas undi masyarakat mengambil'),\n",
       " (1,\n",
       "  'bahasa keputusan raya pilihan inggeris ilmu pengurusan tanah sewa parti'),\n",
       " (2,\n",
       "  'negara bank teknikal malaysia pertumbuhan berkongsi ekonomi pengalaman selatan dibenarkan'),\n",
       " (3,\n",
       "  'projek faktor parti meningkatkan harga nilai kerajaan syarikat tumpuan bahasa'),\n",
       " (4,\n",
       "  'diterjemahkan ilmu wujud dasar bahasa bukti serahkan mengumpul asalnya proses'),\n",
       " (5, 'mdb low jho kenyataan ambil masyarakat sebarang kapal doj perniagaan'),\n",
       " (6,\n",
       "  'awam ahli syarikat parti menteri pesawat berlaku tatakelakuan lembaga politik'),\n",
       " (7,\n",
       "  'rakyat malaysia asli perniagaan pendapatan sumber menerima negara ros penambahbaikan'),\n",
       " (8,\n",
       "  'hutang menteri mdb malaysia diselesaikan kewangan asli perdana isu negara'),\n",
       " (9,\n",
       "  'wang tinggal memakan disediakan pekan kampung hasil hutang najib membabitkan')]"
      ]
     },
     "execution_count": 5,
     "metadata": {},
     "output_type": "execute_result"
    }
   ],
   "source": [
    "lda.get_topics(10)"
   ]
  },
  {
   "cell_type": "code",
   "execution_count": 6,
   "metadata": {},
   "outputs": [
    {
     "name": "stdout",
     "output_type": "stream",
     "text": [
      "topic 0       topic 1       topic 2       topic 3       topic 4       \n",
      "--------      --------      --------      --------      --------      \n",
      "rakyat        keputusan     parti         hutang        menteri       \n",
      "malaysia      ambil         ros           mdb           perdana       \n",
      "negara        benda         umno          diselesaikan  berlaku       \n",
      "kepimpinan    kena          kebenaran     kewangan      jemaah        \n",
      "ppsmi         bersatu       pemilihan     tempoh        seri          \n",
      "kepentingan   peringkat     perlembagaan  pendek        penjelasan    \n",
      "memudahkan    negeri        kelulusan     wujud         isu           \n",
      "serius        ph            pendaftaran   projek        razak         \n",
      "negeri        sarawak       melebihi      tutup         najib         \n",
      "mengatasi     sabah         bersatu       bergantung    kuok          \n",
      "\n",
      "\n"
     ]
    }
   ],
   "source": [
    "nmf = malaya.nmf_topic_modelling(corpus,10)\n",
    "nmf.print_topics(5)"
   ]
  },
  {
   "cell_type": "code",
   "execution_count": 7,
   "metadata": {},
   "outputs": [
    {
     "name": "stdout",
     "output_type": "stream",
     "text": [
      "rakyat\n",
      "terpulang rakyat pertimbangkan\n",
      "rakyat malaysia kepentingan negara\n",
      "percaya berkongsi maklumat berasas terutamanya maklumat berkaitan kepimpinan negara rakyat malaysia rakyat memilih kepimpinan negara berkaliber sesuai pandangan rakyat\n",
      "memudahkan rakyat\n"
     ]
    }
   ],
   "source": [
    "nmf.get_sentences(5)"
   ]
  },
  {
   "cell_type": "code",
   "execution_count": 8,
   "metadata": {},
   "outputs": [
    {
     "data": {
      "text/plain": [
       "[(0,\n",
       "  'rakyat malaysia negara kepimpinan ppsmi kepentingan memudahkan serius negeri mengatasi'),\n",
       " (1, 'keputusan ambil benda kena bersatu peringkat negeri ph sarawak sabah'),\n",
       " (2,\n",
       "  'parti ros umno kebenaran pemilihan perlembagaan kelulusan pendaftaran melebihi bersatu'),\n",
       " (3,\n",
       "  'hutang mdb diselesaikan kewangan tempoh pendek wujud projek tutup bergantung'),\n",
       " (4, 'menteri perdana berlaku jemaah seri penjelasan isu razak najib kuok'),\n",
       " (5,\n",
       "  'raya pilihan memandangkan kononnya perlembagaan kerusi prestasi kuok artikel mendakwa'),\n",
       " (6,\n",
       "  'kerajaan negara meningkatkan pengangkutan tindakan malaysia pengajaran kemajuan bidang pembelajaran'),\n",
       " (7, 'kapal jho low dirampas perniagaan doj indonesia anak tuntutan sivil'),\n",
       " (8,\n",
       "  'undi mengundi harapan pakatan catatan cina mendakwa demokrasi bahagian kepentingan'),\n",
       " (9,\n",
       "  'berjalan projek lancar gembira pencarian peribadi pendidikan asalnya mengalami perdana')]"
      ]
     },
     "execution_count": 8,
     "metadata": {},
     "output_type": "execute_result"
    }
   ],
   "source": [
    "nmf.get_topics(10)"
   ]
  },
  {
   "cell_type": "code",
   "execution_count": 9,
   "metadata": {},
   "outputs": [
    {
     "name": "stdout",
     "output_type": "stream",
     "text": [
      "topic 0       topic 1       topic 2       topic 3       topic 4       \n",
      "--------      --------      --------      --------      --------      \n",
      "rakyat        rakyat        hutang        hutang        menteri       \n",
      "malaysia      malaysia      mdb           rakyat        perdana       \n",
      "negara        kepimpinan    negara        mdb           berlaku       \n",
      "kerajaan      ppsmi         projek        projek        kerajaan      \n",
      "parti         memudahkan    kewangan      diselesaikan  rakyat        \n",
      "isu           serius        diselesaikan  tempoh        jemaah        \n",
      "tindakan      dasar         kerajaan      kewangan      seri          \n",
      "menteri       berita        malaysia      pendek        penjelasan    \n",
      "berkongsi     kepentingan   kapal         tutup         asli          \n",
      "kepimpinan    mengatasi     low           sumber        isu           \n",
      "\n",
      "\n"
     ]
    }
   ],
   "source": [
    "lsa = malaya.lsa_topic_modelling(corpus,10)\n",
    "lsa.print_topics(5)"
   ]
  },
  {
   "cell_type": "code",
   "execution_count": 10,
   "metadata": {},
   "outputs": [
    {
     "name": "stdout",
     "output_type": "stream",
     "text": [
      "rakyat malaysia kepentingan negara\n",
      "rakyat malaysia celik serius isu kepimpinan negara negeri\n",
      "rakyat malaysia penyelesaian konkrit kerajaan mengatasi\n",
      "percaya berkongsi maklumat berasas terutamanya maklumat berkaitan kepimpinan negara rakyat malaysia rakyat memilih kepimpinan negara berkaliber sesuai pandangan rakyat\n",
      "terpulang rakyat pertimbangkan\n"
     ]
    }
   ],
   "source": [
    "lsa.get_sentences(5)"
   ]
  },
  {
   "cell_type": "code",
   "execution_count": 11,
   "metadata": {},
   "outputs": [
    {
     "data": {
      "text/plain": [
       "[(0,\n",
       "  'rakyat malaysia negara kerajaan parti isu tindakan menteri berkongsi kepimpinan'),\n",
       " (1,\n",
       "  'rakyat malaysia kepimpinan ppsmi memudahkan serius dasar berita kepentingan mengatasi'),\n",
       " (2,\n",
       "  'hutang mdb negara projek kewangan diselesaikan kerajaan malaysia kapal low'),\n",
       " (3,\n",
       "  'hutang rakyat mdb projek diselesaikan tempoh kewangan pendek tutup sumber'),\n",
       " (4,\n",
       "  'menteri perdana berlaku kerajaan rakyat jemaah seri penjelasan asli isu'),\n",
       " (5,\n",
       "  'raya pilihan memandangkan perlembagaan kononnya prestasi kerusi kuok negara mendakwa'),\n",
       " (6, 'kerajaan jho kapal low perniagaan doj dirampas dana sivil ahli'),\n",
       " (7, 'kapal low jho menteri negara perdana doj berlaku anak perniagaan'),\n",
       " (8,\n",
       "  'undi pertumbuhan asli harapan pendapatan pakatan mengundi masyarakat cina catatan'),\n",
       " (9, 'undi harapan pas isu pakatan amanah parti mdb menteri tindakan')]"
      ]
     },
     "execution_count": 11,
     "metadata": {},
     "output_type": "execute_result"
    }
   ],
   "source": [
    "lsa.get_topics(10)"
   ]
  }
 ],
 "metadata": {
  "kernelspec": {
   "display_name": "Python 3",
   "language": "python",
   "name": "python3"
  },
  "language_info": {
   "codemirror_mode": {
    "name": "ipython",
    "version": 3
   },
   "file_extension": ".py",
   "mimetype": "text/x-python",
   "name": "python",
   "nbconvert_exporter": "python",
   "pygments_lexer": "ipython3",
   "version": "3.6.5"
  }
 },
 "nbformat": 4,
 "nbformat_minor": 2
}
