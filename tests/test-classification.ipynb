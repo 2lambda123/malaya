{
 "cells": [
  {
   "cell_type": "code",
   "execution_count": 1,
   "metadata": {},
   "outputs": [],
   "source": [
    "import sys\n",
    "import os\n",
    "\n",
    "SOURCE_DIR = os.path.dirname(os.path.dirname(os.path.abspath(__name__)))\n",
    "sys.path.insert(0, SOURCE_DIR)"
   ]
  },
  {
   "cell_type": "code",
   "execution_count": 2,
   "metadata": {},
   "outputs": [],
   "source": [
    "os.environ['CUDA_VISIBLE_DEVICES'] = ''"
   ]
  },
  {
   "cell_type": "code",
   "execution_count": 3,
   "metadata": {},
   "outputs": [],
   "source": [
    "import malaya\n",
    "import logging\n",
    "\n",
    "logging.basicConfig(level=logging.DEBUG)"
   ]
  },
  {
   "cell_type": "code",
   "execution_count": 4,
   "metadata": {},
   "outputs": [
    {
     "data": {
      "text/plain": [
       "'/Users/huseinzolkepli/Malaya'"
      ]
     },
     "execution_count": 4,
     "metadata": {},
     "output_type": "execute_result"
    }
   ],
   "source": [
    "malaya.__home__"
   ]
  },
  {
   "cell_type": "code",
   "execution_count": 5,
   "metadata": {},
   "outputs": [],
   "source": [
    "text = 'Jabatan Penjara Malaysia diperuntukkan RM20 juta laksana program pembangunan Insan kepada banduan. Majikan yang menggaji bekas banduan, bekas penagih dadah diberi potongan cukai tambahan sehingga 2025.'"
   ]
  },
  {
   "cell_type": "code",
   "execution_count": 6,
   "metadata": {},
   "outputs": [
    {
     "name": "stderr",
     "output_type": "stream",
     "text": [
      "DEBUG:urllib3.connectionpool:Starting new HTTPS connection (1): f000.backblazeb2.com:443\n",
      "DEBUG:urllib3.connectionpool:https://f000.backblazeb2.com:443 \"HEAD /file/malaya-model/emotion/tiny-albert/model.pb HTTP/1.1\" 200 0\n",
      "DEBUG:urllib3.connectionpool:Starting new HTTPS connection (1): f000.backblazeb2.com:443\n",
      "DEBUG:urllib3.connectionpool:https://f000.backblazeb2.com:443 \"HEAD /file/malaya-model/bpe/sp10m.cased.v10.vocab HTTP/1.1\" 200 0\n",
      "DEBUG:urllib3.connectionpool:Starting new HTTPS connection (1): f000.backblazeb2.com:443\n",
      "DEBUG:urllib3.connectionpool:https://f000.backblazeb2.com:443 \"HEAD /file/malaya-model/bpe/sp10m.cased.v10.model HTTP/1.1\" 200 0\n",
      "DEBUG:urllib3.connectionpool:Starting new HTTPS connection (1): f000.backblazeb2.com:443\n",
      "DEBUG:urllib3.connectionpool:https://f000.backblazeb2.com:443 \"HEAD /file/malaya-model/emotion/tiny-albert/version HTTP/1.1\" 404 0\n",
      "DEBUG:frozen_graph:use_tensorrt: False\n",
      "DEBUG:frozen_graph:tensorrt_precision_mode: FP32\n",
      "DEBUG:frozen_graph:precision_mode: FP32\n",
      "DEBUG:frozen_graph:t5_graph: False\n",
      "DEBUG:frozen_graph:glowtts_graph: False\n",
      "DEBUG:frozen_graph:glowtts_multispeaker_graph: False\n",
      "INFO:frozen_graph:running emotion/tiny-albert using device /device:CPU:0\n"
     ]
    }
   ],
   "source": [
    "model = malaya.emotion.transformer(model = 'tiny-albert', validate = False)"
   ]
  },
  {
   "cell_type": "code",
   "execution_count": 7,
   "metadata": {},
   "outputs": [
    {
     "name": "stderr",
     "output_type": "stream",
     "text": [
      "DEBUG:root:['▁kucing', '▁gemuk']\n"
     ]
    },
    {
     "data": {
      "text/html": [
       "<div style=\"width:100%;height:250px\"><div style=\"position:relative;width:100%;height:0;padding-bottom:1;\"><iframe srcdoc=\"&lt;head&gt;\n",
       "  &lt;meta name=&quot;viewport&quot; content=&quot;width=device-width, initial-scale=1&quot;&gt;\n",
       "  &lt;title&gt;Malaya&lt;/title&gt;\n",
       "  &lt;link href=&quot;https://cdn.jsdelivr.net/gh/huseinzol05/malaya/malaya/function/web/static/admin-materialize.min.css&quot;\n",
       "    rel=&quot;stylesheet&quot;&gt;\n",
       "  &lt;link href=&quot;https://fonts.googleapis.com/icon?family=Material+Icons&quot; rel=&quot;stylesheet&quot;&gt;\n",
       "  &lt;link href=&quot;https://afeld.github.io/emoji-css/emoji.css&quot; rel=&quot;stylesheet&quot;&gt;\n",
       "&lt;/head&gt;\n",
       "\n",
       "&lt;body&gt;\n",
       "  &lt;main&gt;\n",
       "    &lt;div class=&quot;container&quot;&gt;\n",
       "      &lt;h4&gt;emotion classification&lt;/h4&gt;\n",
       "      &lt;div class=&quot;row&quot;&gt;\n",
       "        &lt;div class=&quot;col l4 m4 s12&quot;&gt;\n",
       "          &lt;div id=&quot;count&quot; style=&quot;height: 300px;&quot;&gt;&lt;/div&gt;\n",
       "        &lt;/div&gt;\n",
       "        &lt;div class=&quot;col l4 m4 s12&quot;&gt;\n",
       "          &lt;div id=&quot;histogram&quot; style=&quot;height: 300px;&quot;&gt;&lt;/div&gt;\n",
       "        &lt;/div&gt;\n",
       "        &lt;div class=&quot;col l4 m4 s12&quot;&gt;\n",
       "          &lt;div id=&quot;entropy&quot; style=&quot;height: 300px;&quot;&gt;&lt;/div&gt;\n",
       "        &lt;/div&gt;\n",
       "      &lt;/div&gt;\n",
       "      &lt;div class=&quot;row&quot;&gt;\n",
       "        &lt;p&gt;&lt;mark style=&#x27;background-color:rgb(254, 0, 20)&#x27; class=&#x27;tooltipped&#x27; data-position=&#x27;bottom&#x27; data-tooltip=&quot;Anger &lt;i class=&#x27;em em-angry&#x27;&gt;&lt;/i&gt; 0.960&lt;br&gt;Fear &lt;i class=&#x27;em em-fearful&#x27;&gt;&lt;/i&gt; 0.001&lt;br&gt;Happy &lt;i class=&#x27;em em-smile&#x27;&gt;&lt;/i&gt; 0.008&lt;br&gt;Love &lt;i class=&#x27;em em-heart_eyes&#x27;&gt;&lt;/i&gt; 0.007&lt;br&gt;Sadness &lt;i class=&#x27;em em-white_frowning_face&#x27;&gt;&lt;/i&gt; 0.001&lt;br&gt;Surprise &lt;i class=&#x27;em em-dizzy_face&#x27;&gt;&lt;/i&gt; 0.024&lt;br&gt;Attention &lt;i class=&#x27;em em-warning&#x27;&gt;&lt;/i&gt; 0.416&lt;br&gt;&quot;&gt;kucing&lt;/mark&gt; &lt;mark style=&#x27;background-color:rgb(254, 0, 20)&#x27; class=&#x27;tooltipped&#x27; data-position=&#x27;bottom&#x27; data-tooltip=&quot;Anger &lt;i class=&#x27;em em-angry&#x27;&gt;&lt;/i&gt; 0.987&lt;br&gt;Fear &lt;i class=&#x27;em em-fearful&#x27;&gt;&lt;/i&gt; 0.001&lt;br&gt;Happy &lt;i class=&#x27;em em-smile&#x27;&gt;&lt;/i&gt; 0.005&lt;br&gt;Love &lt;i class=&#x27;em em-heart_eyes&#x27;&gt;&lt;/i&gt; 0.003&lt;br&gt;Sadness &lt;i class=&#x27;em em-white_frowning_face&#x27;&gt;&lt;/i&gt; 0.001&lt;br&gt;Surprise &lt;i class=&#x27;em em-dizzy_face&#x27;&gt;&lt;/i&gt; 0.004&lt;br&gt;Attention &lt;i class=&#x27;em em-warning&#x27;&gt;&lt;/i&gt; 0.584&lt;br&gt;&quot;&gt;gemuk&lt;/mark&gt;&lt;/p&gt;\n",
       "      &lt;/div&gt;\n",
       "    &lt;/div&gt;\n",
       "  &lt;/main&gt;\n",
       "&lt;/body&gt;\n",
       "\n",
       "&lt;script src=&quot;https://code.jquery.com/jquery-3.4.1.slim.js&quot;&gt;&lt;/script&gt;\n",
       "&lt;script src=&quot;https://cdnjs.cloudflare.com/ajax/libs/materialize/1.0.0/js/materialize.min.js&quot;&gt;&lt;/script&gt;\n",
       "&lt;script src=&quot;https://cdn.jsdelivr.net/gh/huseinzol05/malaya/malaya/function/web/static/echarts.min.js&quot;&gt;&lt;/script&gt;\n",
       "\n",
       "&lt;script&gt;\n",
       "\n",
       "  var plot = echarts.init(document.getElementById(&#x27;count&#x27;));\n",
       "  var colors = [&#x27;rgb(254, 0, 20)&#x27;, &#x27;rgb(168, 103, 172)&#x27;, &#x27;rgb(0, 211, 239)&#x27;, &#x27;rgb(255, 70, 198)&#x27;,\n",
       "    &#x27;rgb(255, 206, 0)&#x27;, &#x27;rgb(255, 244, 0)&#x27;];\n",
       "\n",
       "  option = {\n",
       "    title: {\n",
       "      text: &#x27;Classes barplot&#x27;\n",
       "    },\n",
       "    tooltip: {\n",
       "      trigger: &#x27;axis&#x27;,\n",
       "      axisPointer: {\n",
       "        type: &#x27;cross&#x27;\n",
       "      }\n",
       "    },\n",
       "    data: [&#x27;Anger&#x27;, &#x27;Fear&#x27;, &#x27;Happy&#x27;, &#x27;Love&#x27;, &#x27;Sadness&#x27;, &#x27;Surprise&#x27;],\n",
       "    xAxis: {\n",
       "      type: &#x27;category&#x27;,\n",
       "      data: [&#x27;Anger&#x27;, &#x27;Fear&#x27;, &#x27;Happy&#x27;, &#x27;Love&#x27;, &#x27;Sadness&#x27;, &#x27;Surprise&#x27;],\n",
       "      axisLabel: {\n",
       "        interval: 0,\n",
       "        rotate: 30\n",
       "      },\n",
       "    },\n",
       "    yAxis: {\n",
       "      type: &#x27;value&#x27;,\n",
       "      splitLine: {\n",
       "        show: false\n",
       "      }\n",
       "    },\n",
       "    series: [{\n",
       "      data: [2, &#x27;-&#x27;, &#x27;-&#x27;, &#x27;-&#x27;, &#x27;-&#x27;, &#x27;-&#x27;],\n",
       "      stack: &#x27;1&#x27;,\n",
       "      type: &#x27;bar&#x27;,\n",
       "      name: &#x27;Anger&#x27;,\n",
       "      color: colors[0],\n",
       "      label: {\n",
       "        normal: {\n",
       "          show: true,\n",
       "          position: &#x27;top&#x27;\n",
       "        }\n",
       "      },\n",
       "    },\n",
       "    {\n",
       "      data: [&#x27;-&#x27;, 1, &#x27;-&#x27;, &#x27;-&#x27;, &#x27;-&#x27;, &#x27;-&#x27;],\n",
       "      type: &#x27;bar&#x27;,\n",
       "      stack: &#x27;1&#x27;,\n",
       "      name: &#x27;Fear&#x27;,\n",
       "      color: colors[1],\n",
       "      label: {\n",
       "        normal: {\n",
       "          show: true,\n",
       "          position: &#x27;top&#x27;\n",
       "        }\n",
       "      },\n",
       "    },\n",
       "    {\n",
       "      data: [&#x27;-&#x27;, &#x27;-&#x27;, 2, &#x27;-&#x27;, &#x27;-&#x27;, &#x27;-&#x27;],\n",
       "      type: &#x27;bar&#x27;,\n",
       "      stack: &#x27;1&#x27;,\n",
       "      name: &#x27;Happy&#x27;,\n",
       "      color: colors[2],\n",
       "      label: {\n",
       "        normal: {\n",
       "          show: true,\n",
       "          position: &#x27;top&#x27;\n",
       "        }\n",
       "      },\n",
       "    },\n",
       "    {\n",
       "      data: [&#x27;-&#x27;, &#x27;-&#x27;, &#x27;-&#x27;, 3, &#x27;-&#x27;, &#x27;-&#x27;],\n",
       "      type: &#x27;bar&#x27;,\n",
       "      stack: &#x27;1&#x27;,\n",
       "      name: &#x27;Love&#x27;,\n",
       "      color: colors[3],\n",
       "      label: {\n",
       "        normal: {\n",
       "          show: true,\n",
       "          position: &#x27;top&#x27;\n",
       "        }\n",
       "      },\n",
       "    },\n",
       "    {\n",
       "      data: [&#x27;-&#x27;, &#x27;-&#x27;, &#x27;-&#x27;, &#x27;-&#x27;, 4, &#x27;-&#x27;],\n",
       "      type: &#x27;bar&#x27;,\n",
       "      stack: &#x27;1&#x27;,\n",
       "      name: &#x27;Sadness&#x27;,\n",
       "      color: colors[4],\n",
       "      label: {\n",
       "        normal: {\n",
       "          show: true,\n",
       "          position: &#x27;top&#x27;\n",
       "        }\n",
       "      },\n",
       "    },\n",
       "    {\n",
       "      data: [&#x27;-&#x27;, &#x27;-&#x27;, &#x27;-&#x27;, &#x27;-&#x27;, &#x27;-&#x27;, 5],\n",
       "      type: &#x27;bar&#x27;,\n",
       "      stack: &#x27;1&#x27;,\n",
       "      name: &#x27;Surprise&#x27;,\n",
       "      color: colors[5],\n",
       "      label: {\n",
       "        normal: {\n",
       "          show: true,\n",
       "          position: &#x27;top&#x27;\n",
       "        }\n",
       "      },\n",
       "    }\n",
       "    ]\n",
       "  };\n",
       "  plot.setOption(option = option)\n",
       "\n",
       "  option = {\n",
       "    title: {\n",
       "      text: &#x27;probability histogram&#x27;\n",
       "    },\n",
       "    tooltip: {\n",
       "      trigger: &#x27;axis&#x27;,\n",
       "      axisPointer: {\n",
       "        type: &#x27;cross&#x27;\n",
       "      }\n",
       "    },\n",
       "    xAxis: {\n",
       "      type: &#x27;category&#x27;,\n",
       "      data: [0.0, 0.05, 0.1, 0.15000000000000002, 0.2, 0.25, 0.30000000000000004, 0.35000000000000003, 0.4, 0.45, 0.5, 0.55, 0.6000000000000001, 0.65, 0.7000000000000001, 0.75, 0.8, 0.8500000000000001, 0.9, 0.9500000000000001, 1.0],\n",
       "    },\n",
       "    yAxis: {\n",
       "      type: &#x27;value&#x27;,\n",
       "      splitLine: {\n",
       "        show: false\n",
       "      }\n",
       "    },\n",
       "    series: [{\n",
       "      data: [0.0, 0.0, 0.0, 0.0, 0.0, 0.0, 0.0, 0.0, 0.0, 0.0, 0.0, 0.0, 0.0, 0.0, 0.0, 0.0, 0.0, 0.0, 0.0, 1.0],\n",
       "      type: &#x27;bar&#x27;\n",
       "    }]\n",
       "  };\n",
       "\n",
       "  var plot = echarts.init(document.getElementById(&#x27;histogram&#x27;));\n",
       "  plot.setOption(option = option)\n",
       "\n",
       "  option = {\n",
       "    title: {\n",
       "      text: &#x27;Attention&#x27;\n",
       "    },\n",
       "    tooltip: {\n",
       "      trigger: &#x27;axis&#x27;,\n",
       "      axisPointer: {\n",
       "        type: &#x27;cross&#x27;\n",
       "      }\n",
       "    },\n",
       "    xAxis: {\n",
       "      type: &#x27;category&#x27;,\n",
       "      name: &#x27;Sentence length&#x27;,\n",
       "      nameLocation: &#x27;center&#x27;,\n",
       "      nameGap: 30,\n",
       "      data: [0, 1]\n",
       "    },\n",
       "    yAxis: {\n",
       "      type: &#x27;value&#x27;,\n",
       "      splitLine: {\n",
       "        show: false\n",
       "      }\n",
       "    },\n",
       "    series: [{\n",
       "      data: [0.41605743765830994, 0.5839425325393677],\n",
       "      type: &#x27;line&#x27;,\n",
       "      showSymbol: false\n",
       "    }]\n",
       "  };\n",
       "\n",
       "  var plot = echarts.init(document.getElementById(&#x27;entropy&#x27;));\n",
       "  plot.setOption(option = option)\n",
       "\n",
       "  document.addEventListener(&#x27;DOMContentLoaded&#x27;, function () {\n",
       "    var elems = document.querySelectorAll(&#x27;.tooltipped&#x27;);\n",
       "    var instances = M.Tooltip.init(elems);\n",
       "  });\n",
       "\n",
       "&lt;/script&gt;\" style=\"position:absolute;width:100%;height:250px;left:0;top:0;border:none !important;\" allowfullscreen webkitallowfullscreen mozallowfullscreen></iframe></div></div>"
      ],
      "text/plain": [
       "<IPython.core.display.HTML object>"
      ]
     },
     "metadata": {},
     "output_type": "display_data"
    }
   ],
   "source": [
    "model.predict_words('kucing gemuk')"
   ]
  },
  {
   "cell_type": "code",
   "execution_count": null,
   "metadata": {},
   "outputs": [],
   "source": [
    "from IPython.display import IFrame, display, HTML"
   ]
  },
  {
   "cell_type": "code",
   "execution_count": null,
   "metadata": {},
   "outputs": [],
   "source": [
    "model = malaya.emotion.multinomial()\n",
    "print(model.predict_proba(['anjeng']))\n",
    "malaya.utils.delete_cache('emotion/multinomial')"
   ]
  },
  {
   "cell_type": "code",
   "execution_count": null,
   "metadata": {},
   "outputs": [],
   "source": [
    "models = malaya.emotion.available_transformer()\n",
    "for m in models.index:\n",
    "    print(m)\n",
    "    model = malaya.emotion.transformer(model = m, gpu_limit = 0.3)\n",
    "    print(model.predict_proba([text]))\n",
    "    try:\n",
    "        print(model.predict_words(text, visualization = False))\n",
    "    except Exception as e:\n",
    "        print(e)\n",
    "    print(model.vectorize([text]))\n",
    "    malaya.utils.delete_cache(f'emotion/{m}')\n",
    "    del model"
   ]
  },
  {
   "cell_type": "code",
   "execution_count": null,
   "metadata": {},
   "outputs": [],
   "source": [
    "malaya.utils.print_cache()"
   ]
  },
  {
   "cell_type": "code",
   "execution_count": null,
   "metadata": {},
   "outputs": [],
   "source": [
    "model = malaya.sentiment.multinomial()\n",
    "print(model.predict_proba(['anjeng']))\n",
    "malaya.utils.delete_cache('sentiment/multinomial')"
   ]
  },
  {
   "cell_type": "code",
   "execution_count": null,
   "metadata": {},
   "outputs": [],
   "source": [
    "models = malaya.sentiment.available_transformer()\n",
    "for m in models.index:\n",
    "    print(m)\n",
    "    model = malaya.sentiment.transformer(model = m, gpu_limit = 0.3)\n",
    "    print(model.predict_proba([text]))\n",
    "    try:\n",
    "        print(model.predict_words(text, visualization = False))\n",
    "    except Exception as e:\n",
    "        print(e)\n",
    "    print(model.vectorize([text]))\n",
    "    malaya.utils.delete_cache(f'sentiment-v2/{m}')\n",
    "    del model"
   ]
  },
  {
   "cell_type": "code",
   "execution_count": null,
   "metadata": {},
   "outputs": [],
   "source": [
    "models = malaya.relevancy.available_transformer()\n",
    "for m in models.index:\n",
    "    print(m)\n",
    "    model = malaya.relevancy.transformer(model = m, gpu_limit = 0.3)\n",
    "    print(model.predict_proba([text]))\n",
    "    try:\n",
    "        print(model.predict_words(text, visualization = False))\n",
    "    except Exception as e:\n",
    "        print(e)\n",
    "    print(model.vectorize([text]))\n",
    "    malaya.utils.delete_cache(f'relevancy/{m}')\n",
    "    del model"
   ]
  },
  {
   "cell_type": "code",
   "execution_count": null,
   "metadata": {},
   "outputs": [],
   "source": [
    "models = malaya.subjectivity.available_transformer()\n",
    "for m in models.index:\n",
    "    print(m)\n",
    "    model = malaya.subjectivity.transformer(model = m, gpu_limit = 0.3)\n",
    "    print(model.predict_proba([text], add_neutral = True))\n",
    "    try:\n",
    "        print(model.predict_words(text, visualization = False))\n",
    "    except Exception as e:\n",
    "        print(e)\n",
    "    print(model.vectorize([text]))\n",
    "    malaya.utils.delete_cache(f'subjectivity/{m}')\n",
    "    del model"
   ]
  },
  {
   "cell_type": "code",
   "execution_count": null,
   "metadata": {
    "scrolled": false
   },
   "outputs": [],
   "source": [
    "models = malaya.toxicity.available_transformer()\n",
    "for m in models.index:\n",
    "    print(m)\n",
    "    model = malaya.toxicity.transformer(model = m, gpu_limit = 0.3)\n",
    "    print(model.predict_proba([text]))\n",
    "    try:\n",
    "        print(model.predict_words(text, visualization = False))\n",
    "    except Exception as e:\n",
    "        print(e)\n",
    "    print(model.vectorize([text]))\n",
    "    malaya.utils.delete_cache(f'toxicity/{m}')\n",
    "    del model"
   ]
  },
  {
   "cell_type": "code",
   "execution_count": null,
   "metadata": {},
   "outputs": [],
   "source": [
    "model = malaya.toxicity.multinomial()\n",
    "print(model.predict_proba(['anjeng']))\n",
    "malaya.utils.delete_cache('toxicity/multinomial')"
   ]
  },
  {
   "cell_type": "code",
   "execution_count": null,
   "metadata": {},
   "outputs": [],
   "source": []
  }
 ],
 "metadata": {
  "kernelspec": {
   "display_name": "Python 3",
   "language": "python",
   "name": "python3"
  },
  "language_info": {
   "codemirror_mode": {
    "name": "ipython",
    "version": 3
   },
   "file_extension": ".py",
   "mimetype": "text/x-python",
   "name": "python",
   "nbconvert_exporter": "python",
   "pygments_lexer": "ipython3",
   "version": "3.7.7"
  }
 },
 "nbformat": 4,
 "nbformat_minor": 5
}
