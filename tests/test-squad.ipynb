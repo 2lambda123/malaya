{
 "cells": [
  {
   "cell_type": "code",
   "execution_count": 1,
   "metadata": {},
   "outputs": [],
   "source": [
    "import sys\n",
    "import os\n",
    "\n",
    "SOURCE_DIR = os.path.dirname(os.path.dirname(os.path.abspath(__name__)))\n",
    "sys.path.insert(0, SOURCE_DIR)"
   ]
  },
  {
   "cell_type": "code",
   "execution_count": 2,
   "metadata": {},
   "outputs": [],
   "source": [
    "import malaya\n",
    "import logging\n",
    "\n",
    "logging.basicConfig(level=logging.DEBUG)"
   ]
  },
  {
   "cell_type": "code",
   "execution_count": 3,
   "metadata": {},
   "outputs": [],
   "source": [
    "p_wikipedia = \"\"\"\n",
    "Najib razak telah dipilih untuk Parlimen Malaysia pada tahun 1976,\n",
    "pada usia 23 tahun, menggantikan bapanya duduk di kerusi Pekan yang berpangkalan di Pahang.\n",
    "Dari tahun 1982 hingga 1986 beliau menjadi Menteri Besar (Ketua Menteri) Pahang,\n",
    "sebelum memasuki persekutuan Kabinet Tun Dr Mahathir Mohamad pada tahun 1986 sebagai Menteri Kebudayaan, Belia dan Sukan.\n",
    "Beliau telah berkhidmat dalam pelbagai jawatan Kabinet sepanjang baki tahun 1980-an dan 1990-an, termasuk sebagai Menteri Pertahanan dan Menteri Pelajaran.\n",
    "Beliau menjadi Timbalan Perdana Menteri pada 7 Januari 2004, berkhidmat di bawah Perdana Menteri Tun Dato' Seri Abdullah Ahmad Badawi,\n",
    "sebelum menggantikan Badawi setahun selepas Barisan Nasional mengalami kerugian besar dalam pilihan raya 2008.\n",
    "Di bawah kepimpinan beliau, Barisan Nasional memenangi pilihan raya 2013,\n",
    "walaupun buat kali pertama dalam sejarah Malaysia pembangkang memenangi majoriti undi popular.\n",
    "\"\"\"\n",
    "q_wikipedia = ['Siapakah Menteri Besar Pahang', 'Apakah jawatan yang pernah dipegang oleh Najib Razak']"
   ]
  },
  {
   "cell_type": "code",
   "execution_count": 5,
   "metadata": {},
   "outputs": [
    {
     "name": "stderr",
     "output_type": "stream",
     "text": [
      "INFO:root:tested on SQUAD V2 Dev set.\n"
     ]
    },
    {
     "data": {
      "text/html": [
       "<div>\n",
       "<style scoped>\n",
       "    .dataframe tbody tr th:only-of-type {\n",
       "        vertical-align: middle;\n",
       "    }\n",
       "\n",
       "    .dataframe tbody tr th {\n",
       "        vertical-align: top;\n",
       "    }\n",
       "\n",
       "    .dataframe thead th {\n",
       "        text-align: right;\n",
       "    }\n",
       "</style>\n",
       "<table border=\"1\" class=\"dataframe\">\n",
       "  <thead>\n",
       "    <tr style=\"text-align: right;\">\n",
       "      <th></th>\n",
       "      <th>Size (MB)</th>\n",
       "      <th>Quantized Size (MB)</th>\n",
       "      <th>exact</th>\n",
       "      <th>f1</th>\n",
       "      <th>total</th>\n",
       "    </tr>\n",
       "  </thead>\n",
       "  <tbody>\n",
       "    <tr>\n",
       "      <th>xlnet</th>\n",
       "      <td>478.0</td>\n",
       "      <td>120.0</td>\n",
       "      <td>62.74245</td>\n",
       "      <td>66.56101</td>\n",
       "      <td>11858.0</td>\n",
       "    </tr>\n",
       "    <tr>\n",
       "      <th>alxlnet</th>\n",
       "      <td>58.4</td>\n",
       "      <td>15.6</td>\n",
       "      <td>61.97503</td>\n",
       "      <td>65.89765</td>\n",
       "      <td>11858.0</td>\n",
       "    </tr>\n",
       "  </tbody>\n",
       "</table>\n",
       "</div>"
      ],
      "text/plain": [
       "         Size (MB)  Quantized Size (MB)     exact        f1    total\n",
       "xlnet        478.0                120.0  62.74245  66.56101  11858.0\n",
       "alxlnet       58.4                 15.6  61.97503  65.89765  11858.0"
      ]
     },
     "execution_count": 5,
     "metadata": {},
     "output_type": "execute_result"
    }
   ],
   "source": [
    "malaya.qa.available_transformer_squad()[-2:]"
   ]
  },
  {
   "cell_type": "code",
   "execution_count": 7,
   "metadata": {},
   "outputs": [
    {
     "name": "stderr",
     "output_type": "stream",
     "text": [
      "INFO:root:tested on SQUAD V2 Dev set.\n",
      "DEBUG:urllib3.connectionpool:Starting new HTTPS connection (1): f000.backblazeb2.com:443\n"
     ]
    },
    {
     "name": "stdout",
     "output_type": "stream",
     "text": [
      "xlnet\n"
     ]
    },
    {
     "name": "stderr",
     "output_type": "stream",
     "text": [
      "DEBUG:urllib3.connectionpool:https://f000.backblazeb2.com:443 \"HEAD /file/malaya-model/qa-squad/xlnet/model.pb HTTP/1.1\" 200 0\n",
      "DEBUG:urllib3.connectionpool:Starting new HTTPS connection (1): f000.backblazeb2.com:443\n",
      "DEBUG:urllib3.connectionpool:https://f000.backblazeb2.com:443 \"HEAD /file/malaya-model/bpe/sp10m.cased.v9.vocab HTTP/1.1\" 200 0\n",
      "DEBUG:urllib3.connectionpool:Starting new HTTPS connection (1): f000.backblazeb2.com:443\n",
      "DEBUG:urllib3.connectionpool:https://f000.backblazeb2.com:443 \"HEAD /file/malaya-model/bpe/sp10m.cased.v9.model HTTP/1.1\" 200 0\n",
      "DEBUG:urllib3.connectionpool:Starting new HTTPS connection (1): f000.backblazeb2.com:443\n",
      "DEBUG:urllib3.connectionpool:https://f000.backblazeb2.com:443 \"HEAD /file/malaya-model/qa-squad/xlnet/version HTTP/1.1\" 404 0\n",
      "DEBUG:urllib3.connectionpool:Starting new HTTPS connection (1): f000.backblazeb2.com:443\n"
     ]
    },
    {
     "name": "stdout",
     "output_type": "stream",
     "text": [
      "downloading frozen model to /Users/huseinzolkepli/Malaya/qa-squad/xlnet/model.pb\n"
     ]
    },
    {
     "name": "stderr",
     "output_type": "stream",
     "text": [
      "DEBUG:urllib3.connectionpool:https://f000.backblazeb2.com:443 \"GET /file/malaya-model/qa-squad/xlnet/model.pb HTTP/1.1\" 200 477546319\n",
      "456MB [01:13, 6.22MB/s]                          \n",
      "DEBUG:urllib3.connectionpool:Starting new HTTPS connection (1): f000.backblazeb2.com:443\n"
     ]
    },
    {
     "name": "stdout",
     "output_type": "stream",
     "text": [
      "downloading frozen vocab to /Users/huseinzolkepli/Malaya/qa-squad/xlnet/sp10m.cased.v9.vocab\n"
     ]
    },
    {
     "name": "stderr",
     "output_type": "stream",
     "text": [
      "DEBUG:urllib3.connectionpool:https://f000.backblazeb2.com:443 \"GET /file/malaya-model/bpe/sp10m.cased.v9.vocab HTTP/1.1\" 200 568997\n",
      "184%|██████████| 1.00/0.54 [00:00<00:00, 1.06MB/s]\n",
      "DEBUG:urllib3.connectionpool:Starting new HTTPS connection (1): f000.backblazeb2.com:443\n"
     ]
    },
    {
     "name": "stdout",
     "output_type": "stream",
     "text": [
      "downloading frozen tokenizer to /Users/huseinzolkepli/Malaya/qa-squad/xlnet/sp10m.cased.v9.model\n"
     ]
    },
    {
     "name": "stderr",
     "output_type": "stream",
     "text": [
      "DEBUG:urllib3.connectionpool:https://f000.backblazeb2.com:443 \"GET /file/malaya-model/bpe/sp10m.cased.v9.model HTTP/1.1\" 200 778744\n",
      "135%|██████████| 1.00/0.74 [00:01<00:00, 1.13s/MB]\n",
      "DEBUG:root:use_tensorrt: False\n",
      "DEBUG:root:tensorrt_precision_mode: FP32\n",
      "DEBUG:root:precision_mode: FP32\n",
      "DEBUG:root:t5_graph: False\n",
      "INFO:root:running qa-squad/xlnet using device /device:CPU:0\n",
      "DEBUG:root:['▁Siapakah', '▁Menteri', '▁Besar', '▁Pahang']\n",
      "DEBUG:root:['▁Apakah', '▁jawatan', '▁yang', '▁pernah', '▁dipegang', '▁oleh', '▁Najib', '▁Razak']\n"
     ]
    },
    {
     "name": "stdout",
     "output_type": "stream",
     "text": [
      "[{'text': 'Najib razak', 'start': 0, 'end': 11}, {'text': 'Pekan yang berpangkalan di Pahang', 'start': 123, 'end': 157}]\n"
     ]
    },
    {
     "name": "stderr",
     "output_type": "stream",
     "text": [
      "DEBUG:urllib3.connectionpool:Starting new HTTPS connection (1): f000.backblazeb2.com:443\n"
     ]
    },
    {
     "name": "stdout",
     "output_type": "stream",
     "text": [
      "alxlnet\n"
     ]
    },
    {
     "name": "stderr",
     "output_type": "stream",
     "text": [
      "DEBUG:urllib3.connectionpool:https://f000.backblazeb2.com:443 \"HEAD /file/malaya-model/qa-squad/alxlnet/model.pb HTTP/1.1\" 200 0\n",
      "DEBUG:urllib3.connectionpool:Starting new HTTPS connection (1): f000.backblazeb2.com:443\n",
      "DEBUG:urllib3.connectionpool:https://f000.backblazeb2.com:443 \"HEAD /file/malaya-model/bpe/sp10m.cased.v9.vocab HTTP/1.1\" 200 0\n",
      "DEBUG:urllib3.connectionpool:Starting new HTTPS connection (1): f000.backblazeb2.com:443\n",
      "DEBUG:urllib3.connectionpool:https://f000.backblazeb2.com:443 \"HEAD /file/malaya-model/bpe/sp10m.cased.v9.model HTTP/1.1\" 200 0\n",
      "DEBUG:urllib3.connectionpool:Starting new HTTPS connection (1): f000.backblazeb2.com:443\n",
      "DEBUG:urllib3.connectionpool:https://f000.backblazeb2.com:443 \"HEAD /file/malaya-model/qa-squad/alxlnet/version HTTP/1.1\" 404 0\n",
      "DEBUG:urllib3.connectionpool:Starting new HTTPS connection (1): f000.backblazeb2.com:443\n"
     ]
    },
    {
     "name": "stdout",
     "output_type": "stream",
     "text": [
      "downloading frozen model to /Users/huseinzolkepli/Malaya/qa-squad/alxlnet/model.pb\n"
     ]
    },
    {
     "name": "stderr",
     "output_type": "stream",
     "text": [
      "DEBUG:urllib3.connectionpool:https://f000.backblazeb2.com:443 \"GET /file/malaya-model/qa-squad/alxlnet/model.pb HTTP/1.1\" 200 58390166\n",
      "101%|██████████| 56.0/55.7 [00:08<00:00, 6.83MB/s]\n",
      "DEBUG:urllib3.connectionpool:Starting new HTTPS connection (1): f000.backblazeb2.com:443\n"
     ]
    },
    {
     "name": "stdout",
     "output_type": "stream",
     "text": [
      "downloading frozen vocab to /Users/huseinzolkepli/Malaya/qa-squad/alxlnet/sp10m.cased.v9.vocab\n"
     ]
    },
    {
     "name": "stderr",
     "output_type": "stream",
     "text": [
      "DEBUG:urllib3.connectionpool:https://f000.backblazeb2.com:443 \"GET /file/malaya-model/bpe/sp10m.cased.v9.vocab HTTP/1.1\" 200 568997\n",
      "184%|██████████| 1.00/0.54 [00:00<00:00, 1.07MB/s]\n",
      "DEBUG:urllib3.connectionpool:Starting new HTTPS connection (1): f000.backblazeb2.com:443\n"
     ]
    },
    {
     "name": "stdout",
     "output_type": "stream",
     "text": [
      "downloading frozen tokenizer to /Users/huseinzolkepli/Malaya/qa-squad/alxlnet/sp10m.cased.v9.model\n"
     ]
    },
    {
     "name": "stderr",
     "output_type": "stream",
     "text": [
      "DEBUG:urllib3.connectionpool:https://f000.backblazeb2.com:443 \"GET /file/malaya-model/bpe/sp10m.cased.v9.model HTTP/1.1\" 200 778744\n",
      "135%|██████████| 1.00/0.74 [00:01<00:00, 1.20s/MB]\n",
      "DEBUG:root:use_tensorrt: False\n",
      "DEBUG:root:tensorrt_precision_mode: FP32\n",
      "DEBUG:root:precision_mode: FP32\n",
      "DEBUG:root:t5_graph: False\n",
      "INFO:root:running qa-squad/alxlnet using device /device:CPU:0\n",
      "DEBUG:root:['▁Siapakah', '▁Menteri', '▁Besar', '▁Pahang']\n",
      "DEBUG:root:['▁Apakah', '▁jawatan', '▁yang', '▁pernah', '▁dipegang', '▁oleh', '▁Najib', '▁Razak']\n"
     ]
    },
    {
     "name": "stdout",
     "output_type": "stream",
     "text": [
      "[{'text': 'Najib razak', 'start': 0, 'end': 11}, {'text': 'Kabinet', 'start': 408, 'end': 416}]\n"
     ]
    }
   ],
   "source": [
    "models = malaya.qa.available_transformer_squad()[-2:]\n",
    "for m in models.index:\n",
    "    print(m)\n",
    "    model = malaya.qa.transformer_squad(model = m, gpu_limit = 0.3)\n",
    "    print(model.predict(p_wikipedia, q_wikipedia))\n",
    "    malaya.utils.delete_cache(f'qa-squad/{m}')\n",
    "    del model"
   ]
  },
  {
   "cell_type": "code",
   "execution_count": null,
   "metadata": {},
   "outputs": [],
   "source": []
  }
 ],
 "metadata": {
  "kernelspec": {
   "display_name": "Python 3",
   "language": "python",
   "name": "python3"
  },
  "language_info": {
   "codemirror_mode": {
    "name": "ipython",
    "version": 3
   },
   "file_extension": ".py",
   "mimetype": "text/x-python",
   "name": "python",
   "nbconvert_exporter": "python",
   "pygments_lexer": "ipython3",
   "version": "3.7.7"
  }
 },
 "nbformat": 4,
 "nbformat_minor": 4
}
