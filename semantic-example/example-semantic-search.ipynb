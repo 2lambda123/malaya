{
 "cells": [
  {
   "cell_type": "code",
   "execution_count": 1,
   "metadata": {},
   "outputs": [
    {
     "name": "stderr",
     "output_type": "stream",
     "text": [
      "/usr/local/lib/python3.5/dist-packages/sklearn/cross_validation.py:41: DeprecationWarning: This module was deprecated in version 0.18 in favor of the model_selection module into which all the refactored classes and functions are moved. Also note that the interface of the new CV iterators are different from that of this module. This module will be removed in 0.20.\n",
      "  \"This module will be removed in 0.20.\", DeprecationWarning)\n"
     ]
    }
   ],
   "source": [
    "import pandas as pd\n",
    "import malaya"
   ]
  },
  {
   "cell_type": "code",
   "execution_count": 2,
   "metadata": {},
   "outputs": [
    {
     "data": {
      "text/html": [
       "<div>\n",
       "<style>\n",
       "    .dataframe thead tr:only-child th {\n",
       "        text-align: right;\n",
       "    }\n",
       "\n",
       "    .dataframe thead th {\n",
       "        text-align: left;\n",
       "    }\n",
       "\n",
       "    .dataframe tbody tr th {\n",
       "        vertical-align: top;\n",
       "    }\n",
       "</style>\n",
       "<table border=\"1\" class=\"dataframe\">\n",
       "  <thead>\n",
       "    <tr style=\"text-align: right;\">\n",
       "      <th></th>\n",
       "      <th>text</th>\n",
       "      <th>label</th>\n",
       "    </tr>\n",
       "  </thead>\n",
       "  <tbody>\n",
       "    <tr>\n",
       "      <th>3</th>\n",
       "      <td>Justeru, tiada sebarang pemindahan bon atau da...</td>\n",
       "      <td>Positive</td>\n",
       "    </tr>\n",
       "    <tr>\n",
       "      <th>4</th>\n",
       "      <td>Oleh sebab ini jelas merupakan dokumen dipalsu...</td>\n",
       "      <td>Positive</td>\n",
       "    </tr>\n",
       "    <tr>\n",
       "      <th>5</th>\n",
       "      <td>Sebelum mana-mana keputusan pelaburan dibuat, ...</td>\n",
       "      <td>Positive</td>\n",
       "    </tr>\n",
       "    <tr>\n",
       "      <th>6</th>\n",
       "      <td>Semua kelulusan perlu melalui jawatankuasa pel...</td>\n",
       "      <td>Neutral</td>\n",
       "    </tr>\n",
       "    <tr>\n",
       "      <th>7</th>\n",
       "      <td>Kerajaan sedar dan telah mengambil langkah pan...</td>\n",
       "      <td>Positive</td>\n",
       "    </tr>\n",
       "  </tbody>\n",
       "</table>\n",
       "</div>"
      ],
      "text/plain": [
       "                                                text     label\n",
       "3  Justeru, tiada sebarang pemindahan bon atau da...  Positive\n",
       "4  Oleh sebab ini jelas merupakan dokumen dipalsu...  Positive\n",
       "5  Sebelum mana-mana keputusan pelaburan dibuat, ...  Positive\n",
       "6  Semua kelulusan perlu melalui jawatankuasa pel...   Neutral\n",
       "7  Kerajaan sedar dan telah mengambil langkah pan...  Positive"
      ]
     },
     "execution_count": 2,
     "metadata": {},
     "output_type": "execute_result"
    }
   ],
   "source": [
    "df = pd.read_csv('02032018.csv',sep=';')\n",
    "df = df.iloc[3:,1:]\n",
    "df.columns = ['text','label']\n",
    "df.head()"
   ]
  },
  {
   "cell_type": "code",
   "execution_count": 3,
   "metadata": {},
   "outputs": [
    {
     "name": "stdout",
     "output_type": "stream",
     "text": [
      "Vocabulary size: 1650\n",
      "Creating Word2Vec model..\n",
      "WARNING:tensorflow:From /home/husein/space/dh-ai/malaya/semantic.py:86: calling reduce_sum (from tensorflow.python.ops.math_ops) with keep_dims is deprecated and will be removed in a future version.\n",
      "Instructions for updating:\n",
      "keep_dims is deprecated, use keepdims instead\n",
      "epoch: 1000, loss: 4.156271\n",
      "epoch: 2000, loss: 3.501364\n",
      "epoch: 3000, loss: 2.607565\n",
      "epoch: 4000, loss: 2.888038\n",
      "epoch: 5000, loss: 2.324599\n",
      "epoch: 6000, loss: 2.288272\n",
      "epoch: 7000, loss: 1.827932\n",
      "epoch: 8000, loss: 2.251363\n",
      "epoch: 9000, loss: 1.611805\n",
      "epoch: 10000, loss: 1.972360\n",
      "done train\n"
     ]
    }
   ],
   "source": [
    "corpus = df.text.tolist()\n",
    "malaya.train_vector(corpus,10)"
   ]
  },
  {
   "cell_type": "code",
   "execution_count": 4,
   "metadata": {},
   "outputs": [
    {
     "data": {
      "text/plain": [
       "[(0, 'mahathir'),\n",
       " (1, 'ketokohan'),\n",
       " (2, 'berfikiran'),\n",
       " (3, 'guru'),\n",
       " (4, 'tnb'),\n",
       " (5, 'menyebut'),\n",
       " (6, 'muda'),\n",
       " (7, 'bermasalah'),\n",
       " (8, 'mengharapkan'),\n",
       " (9, 'hasil')]"
      ]
     },
     "execution_count": 4,
     "metadata": {},
     "output_type": "execute_result"
    }
   ],
   "source": [
    "malaya.semantic_search('mahathir')"
   ]
  },
  {
   "cell_type": "code",
   "execution_count": 5,
   "metadata": {},
   "outputs": [
    {
     "data": {
      "text/plain": [
       "[(0, 'najib'),\n",
       " (1, 'dijadikan'),\n",
       " (2, 'mengatasi'),\n",
       " (3, 'tersedia'),\n",
       " (4, 'sampai'),\n",
       " (5, 'mencari'),\n",
       " (6, 'pucuk'),\n",
       " (7, 'restoran'),\n",
       " (8, 'stres'),\n",
       " (9, 'terhasil')]"
      ]
     },
     "execution_count": 5,
     "metadata": {},
     "output_type": "execute_result"
    }
   ],
   "source": [
    "malaya.semantic_search('najib')"
   ]
  },
  {
   "cell_type": "code",
   "execution_count": null,
   "metadata": {},
   "outputs": [],
   "source": []
  }
 ],
 "metadata": {
  "kernelspec": {
   "display_name": "Python 3",
   "language": "python",
   "name": "python3"
  },
  "language_info": {
   "codemirror_mode": {
    "name": "ipython",
    "version": 3
   },
   "file_extension": ".py",
   "mimetype": "text/x-python",
   "name": "python",
   "nbconvert_exporter": "python",
   "pygments_lexer": "ipython3",
   "version": "3.5.2"
  }
 },
 "nbformat": 4,
 "nbformat_minor": 2
}
