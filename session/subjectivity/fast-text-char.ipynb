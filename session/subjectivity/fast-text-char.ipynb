{
 "cells": [
  {
   "cell_type": "code",
   "execution_count": 1,
   "metadata": {},
   "outputs": [],
   "source": [
    "import re\n",
    "import numpy as np\n",
    "import pandas as pd\n",
    "import collections\n",
    "from sklearn import metrics\n",
    "from sklearn.preprocessing import LabelEncoder\n",
    "import tensorflow as tf\n",
    "from sklearn.feature_extraction.text import CountVectorizer\n",
    "from sklearn.model_selection import train_test_split\n",
    "from unidecode import unidecode\n",
    "from nltk.util import ngrams\n",
    "from tqdm import tqdm\n",
    "import time"
   ]
  },
  {
   "cell_type": "code",
   "execution_count": 2,
   "metadata": {},
   "outputs": [],
   "source": [
    "permulaan = [\n",
    "    'bel',\n",
    "    'se',\n",
    "    'ter',\n",
    "    'men',\n",
    "    'meng',\n",
    "    'mem',\n",
    "    'memper',\n",
    "    'di',\n",
    "    'pe',\n",
    "    'me',\n",
    "    'ke',\n",
    "    'ber',\n",
    "    'pen',\n",
    "    'per',\n",
    "]\n",
    "\n",
    "hujung = ['kan', 'kah', 'lah', 'tah', 'nya', 'an', 'wan', 'wati', 'ita']\n",
    "\n",
    "def naive_stemmer(word):\n",
    "    assert isinstance(word, str), 'input must be a string'\n",
    "    hujung_result = re.findall(r'^(.*?)(%s)$' % ('|'.join(hujung)), word)\n",
    "    word = hujung_result[0][0] if len(hujung_result) else word\n",
    "    permulaan_result = re.findall(r'^(.*?)(%s)' % ('|'.join(permulaan[::-1])), word)\n",
    "    permulaan_result.extend(re.findall(r'^(.*?)(%s)' % ('|'.join(permulaan)), word))\n",
    "    mula = permulaan_result if len(permulaan_result) else ''\n",
    "    if len(mula):\n",
    "        mula = mula[1][1] if len(mula[1][1]) > len(mula[0][1]) else mula[0][1]\n",
    "    return word.replace(mula, '')"
   ]
  },
  {
   "cell_type": "code",
   "execution_count": 3,
   "metadata": {},
   "outputs": [],
   "source": [
    "def classification_textcleaning(string):\n",
    "    string = re.sub(\n",
    "        'http\\S+|www.\\S+',\n",
    "        '',\n",
    "        ' '.join(\n",
    "            [i for i in string.split() if i.find('#') < 0 and i.find('@') < 0]\n",
    "        ),\n",
    "    )\n",
    "    string = unidecode(string).replace('.', ' . ').replace(',', ' , ')\n",
    "    string = re.sub('[^A-Za-z ]+', ' ', string)\n",
    "    string = re.sub(r'[ ]+', ' ', string).strip()\n",
    "    string = ' '.join(\n",
    "        [i for i in re.findall('[\\\\w\\']+|[;:\\-\\(\\)&.,!?\"]', string) if len(i)]\n",
    "    )\n",
    "    string = string.lower().split()\n",
    "    string = [(naive_stemmer(word), word) for word in string]\n",
    "    return (\n",
    "        ' '.join([word[0] for word in string if len(word[0]) > 1]),\n",
    "        ' '.join([word[1] for word in string if len(word[0]) > 1]),\n",
    "    )\n",
    "\n",
    "def convert_sparse_matrix_to_sparse_tensor(X, limit = 5):\n",
    "    coo = X.tocoo()\n",
    "    indices = np.mat([coo.row, coo.col]).transpose()\n",
    "    coo.data[coo.data > limit] = limit\n",
    "    return tf.SparseTensorValue(indices, coo.col, coo.shape), tf.SparseTensorValue(indices, coo.data, coo.shape)"
   ]
  },
  {
   "cell_type": "code",
   "execution_count": 4,
   "metadata": {},
   "outputs": [],
   "source": [
    "with open('subjectivity-negative-translated.txt','r') as fopen:\n",
    "    texts = fopen.read().split('\\n')\n",
    "labels = [0] * len(texts)\n",
    "\n",
    "with open('subjectivity-positive-translated.txt','r') as fopen:\n",
    "    positive_texts = fopen.read().split('\\n')\n",
    "labels += [1] * len(positive_texts)\n",
    "texts += positive_texts\n",
    "\n",
    "assert len(labels) == len(texts)"
   ]
  },
  {
   "cell_type": "code",
   "execution_count": 5,
   "metadata": {},
   "outputs": [],
   "source": [
    "for i in range(len(texts)):\n",
    "    texts[i] = classification_textcleaning(texts[i])[0]"
   ]
  },
  {
   "cell_type": "code",
   "execution_count": 6,
   "metadata": {},
   "outputs": [],
   "source": [
    "bow_chars = CountVectorizer(ngram_range=(3, 5), analyzer='char_wb', max_features=300000).fit(texts)\n",
    "delattr(bow_chars, 'stop_words_')\n",
    "feature_shape = bow_chars.transform(texts[:1]).shape[1]"
   ]
  },
  {
   "cell_type": "code",
   "execution_count": 7,
   "metadata": {},
   "outputs": [],
   "source": [
    "class Model:\n",
    "    def __init__(self, vocab_size, learning_rate):\n",
    "        self.X = tf.sparse_placeholder(tf.int32)\n",
    "        self.W = tf.sparse_placeholder(tf.int32)\n",
    "        self.Y = tf.placeholder(tf.int32, [None])\n",
    "        embeddings = tf.Variable(tf.truncated_normal([vocab_size,64]))\n",
    "        embed = tf.nn.embedding_lookup_sparse(embeddings, self.X, self.W, combiner='mean')\n",
    "        self.logits = tf.layers.dense(embed, 2)\n",
    "        self.cost = tf.reduce_mean(tf.nn.sparse_softmax_cross_entropy_with_logits(\n",
    "            logits = self.logits, labels = self.Y))\n",
    "        self.optimizer = tf.train.AdamOptimizer(learning_rate = learning_rate).minimize(self.cost)\n",
    "        correct_pred = tf.equal(tf.argmax(self.logits, 1,output_type=tf.int32), self.Y)\n",
    "        self.accuracy = tf.reduce_mean(tf.cast(correct_pred, tf.float32))"
   ]
  },
  {
   "cell_type": "code",
   "execution_count": 8,
   "metadata": {},
   "outputs": [
    {
     "name": "stderr",
     "output_type": "stream",
     "text": [
      "/usr/local/lib/python3.5/dist-packages/tensorflow/python/ops/gradients_impl.py:112: UserWarning: Converting sparse IndexedSlices to a dense Tensor of unknown shape. This may consume a large amount of memory.\n",
      "  \"Converting sparse IndexedSlices to a dense Tensor of unknown shape. \"\n"
     ]
    }
   ],
   "source": [
    "sess = tf.InteractiveSession()\n",
    "model = Model(feature_shape, 1e-4)\n",
    "sess.run(tf.global_variables_initializer())"
   ]
  },
  {
   "cell_type": "code",
   "execution_count": 9,
   "metadata": {},
   "outputs": [
    {
     "data": {
      "text/plain": [
       "'fast-text-char/model.ckpt'"
      ]
     },
     "execution_count": 9,
     "metadata": {},
     "output_type": "execute_result"
    }
   ],
   "source": [
    "saver = tf.train.Saver(tf.trainable_variables())\n",
    "saver.save(sess, 'fast-text-char/model.ckpt')"
   ]
  },
  {
   "cell_type": "code",
   "execution_count": 10,
   "metadata": {},
   "outputs": [],
   "source": [
    "vectors = bow_chars.transform(texts)\n",
    "train_X, test_X, train_Y, test_Y = train_test_split(\n",
    "    vectors, labels, test_size = 0.2\n",
    ")"
   ]
  },
  {
   "cell_type": "code",
   "execution_count": 11,
   "metadata": {},
   "outputs": [
    {
     "name": "stderr",
     "output_type": "stream",
     "text": [
      "train minibatch loop: 100%|██████████| 250/250 [00:01<00:00, 132.66it/s, accuracy=0, cost=0.723]    \n",
      "test minibatch loop: 100%|██████████| 63/63 [00:00<00:00, 368.76it/s, accuracy=0.333, cost=0.715]\n",
      "train minibatch loop:   6%|▌         | 15/250 [00:00<00:01, 140.11it/s, accuracy=0.562, cost=0.689]"
     ]
    },
    {
     "name": "stdout",
     "output_type": "stream",
     "text": [
      "epoch: 0, pass acc: 0.000000, current acc: 0.584379\n",
      "time taken: 2.057943344116211\n",
      "epoch: 0, training loss: 0.691504, training acc: 0.547371, valid loss: 0.689925, valid acc: 0.584379\n",
      "\n"
     ]
    },
    {
     "name": "stderr",
     "output_type": "stream",
     "text": [
      "train minibatch loop: 100%|██████████| 250/250 [00:01<00:00, 141.50it/s, accuracy=0, cost=0.707]    \n",
      "test minibatch loop: 100%|██████████| 63/63 [00:00<00:00, 386.29it/s, accuracy=0.444, cost=0.702]\n",
      "train minibatch loop:   6%|▌         | 14/250 [00:00<00:01, 139.49it/s, accuracy=0.688, cost=0.657]"
     ]
    },
    {
     "name": "stdout",
     "output_type": "stream",
     "text": [
      "epoch: 1, pass acc: 0.584379, current acc: 0.672465\n",
      "time taken: 1.940366506576538\n",
      "epoch: 1, training loss: 0.676703, training acc: 0.641486, valid loss: 0.674847, valid acc: 0.672465\n",
      "\n"
     ]
    },
    {
     "name": "stderr",
     "output_type": "stream",
     "text": [
      "train minibatch loop: 100%|██████████| 250/250 [00:01<00:00, 140.84it/s, accuracy=1, cost=0.691]    \n",
      "test minibatch loop: 100%|██████████| 63/63 [00:00<00:00, 381.39it/s, accuracy=0.556, cost=0.688]\n",
      "train minibatch loop:   6%|▌         | 14/250 [00:00<00:01, 139.52it/s, accuracy=0.656, cost=0.655]"
     ]
    },
    {
     "name": "stdout",
     "output_type": "stream",
     "text": [
      "epoch: 2, pass acc: 0.672465, current acc: 0.731951\n",
      "time taken: 1.9460294246673584\n",
      "epoch: 2, training loss: 0.660657, training acc: 0.716276, valid loss: 0.658011, valid acc: 0.731951\n",
      "\n"
     ]
    },
    {
     "name": "stderr",
     "output_type": "stream",
     "text": [
      "train minibatch loop: 100%|██████████| 250/250 [00:01<00:00, 141.21it/s, accuracy=1, cost=0.673]    \n",
      "test minibatch loop: 100%|██████████| 63/63 [00:00<00:00, 383.47it/s, accuracy=0.667, cost=0.675]\n",
      "train minibatch loop:   6%|▌         | 14/250 [00:00<00:01, 139.29it/s, accuracy=0.719, cost=0.616]"
     ]
    },
    {
     "name": "stdout",
     "output_type": "stream",
     "text": [
      "epoch: 3, pass acc: 0.731951, current acc: 0.769861\n",
      "time taken: 1.9369497299194336\n",
      "epoch: 3, training loss: 0.642434, training acc: 0.762329, valid loss: 0.638832, valid acc: 0.769861\n",
      "\n"
     ]
    },
    {
     "name": "stderr",
     "output_type": "stream",
     "text": [
      "train minibatch loop: 100%|██████████| 250/250 [00:01<00:00, 140.63it/s, accuracy=1, cost=0.652]    \n",
      "test minibatch loop: 100%|██████████| 63/63 [00:00<00:00, 382.93it/s, accuracy=0.667, cost=0.661]\n",
      "train minibatch loop:   6%|▌         | 15/250 [00:00<00:01, 140.70it/s, accuracy=0.688, cost=0.613]"
     ]
    },
    {
     "name": "stdout",
     "output_type": "stream",
     "text": [
      "epoch: 4, pass acc: 0.769861, current acc: 0.797960\n",
      "time taken: 1.9444482326507568\n",
      "epoch: 4, training loss: 0.621668, training acc: 0.791316, valid loss: 0.617237, valid acc: 0.797960\n",
      "\n"
     ]
    },
    {
     "name": "stderr",
     "output_type": "stream",
     "text": [
      "train minibatch loop: 100%|██████████| 250/250 [00:01<00:00, 140.84it/s, accuracy=1, cost=0.627]    \n",
      "test minibatch loop: 100%|██████████| 63/63 [00:00<00:00, 387.88it/s, accuracy=0.667, cost=0.646]\n",
      "train minibatch loop:   6%|▌         | 15/250 [00:00<00:01, 140.67it/s, accuracy=0.75, cost=0.588] "
     ]
    },
    {
     "name": "stdout",
     "output_type": "stream",
     "text": [
      "epoch: 5, pass acc: 0.797960, current acc: 0.815019\n",
      "time taken: 1.939239263534546\n",
      "epoch: 5, training loss: 0.598515, training acc: 0.810892, valid loss: 0.593676, valid acc: 0.815019\n",
      "\n"
     ]
    },
    {
     "name": "stderr",
     "output_type": "stream",
     "text": [
      "train minibatch loop: 100%|██████████| 250/250 [00:01<00:00, 141.67it/s, accuracy=1, cost=0.599]    \n",
      "test minibatch loop: 100%|██████████| 63/63 [00:00<00:00, 380.66it/s, accuracy=0.667, cost=0.63] \n",
      "train minibatch loop:   6%|▌         | 15/250 [00:00<00:01, 140.39it/s, accuracy=0.75, cost=0.562] "
     ]
    },
    {
     "name": "stdout",
     "output_type": "stream",
     "text": [
      "epoch: 6, pass acc: 0.815019, current acc: 0.826058\n",
      "time taken: 1.9318571090698242\n",
      "epoch: 6, training loss: 0.573608, training acc: 0.827331, valid loss: 0.568980, valid acc: 0.826058\n",
      "\n"
     ]
    },
    {
     "name": "stderr",
     "output_type": "stream",
     "text": [
      "train minibatch loop: 100%|██████████| 250/250 [00:01<00:00, 141.23it/s, accuracy=1, cost=0.567]    \n",
      "test minibatch loop: 100%|██████████| 63/63 [00:00<00:00, 320.40it/s, accuracy=0.667, cost=0.615]\n",
      "train minibatch loop:   5%|▌         | 13/250 [00:00<00:01, 128.96it/s, accuracy=0.781, cost=0.559]"
     ]
    },
    {
     "name": "stdout",
     "output_type": "stream",
     "text": [
      "epoch: 7, pass acc: 0.826058, current acc: 0.838602\n",
      "time taken: 1.9686055183410645\n",
      "epoch: 7, training loss: 0.547853, training acc: 0.837244, valid loss: 0.544119, valid acc: 0.838602\n",
      "\n"
     ]
    },
    {
     "name": "stderr",
     "output_type": "stream",
     "text": [
      "train minibatch loop: 100%|██████████| 250/250 [00:01<00:00, 138.95it/s, accuracy=1, cost=0.532]    \n",
      "test minibatch loop: 100%|██████████| 63/63 [00:00<00:00, 383.18it/s, accuracy=0.667, cost=0.599]\n",
      "train minibatch loop:   6%|▌         | 14/250 [00:00<00:01, 139.49it/s, accuracy=0.75, cost=0.51]  "
     ]
    },
    {
     "name": "stdout",
     "output_type": "stream",
     "text": [
      "epoch: 8, pass acc: 0.838602, current acc: 0.844121\n",
      "time taken: 1.9654672145843506\n",
      "epoch: 8, training loss: 0.522203, training acc: 0.846154, valid loss: 0.519986, valid acc: 0.844121\n",
      "\n"
     ]
    },
    {
     "name": "stderr",
     "output_type": "stream",
     "text": [
      "train minibatch loop: 100%|██████████| 250/250 [00:01<00:00, 136.07it/s, accuracy=1, cost=0.495]    \n",
      "test minibatch loop: 100%|██████████| 63/63 [00:00<00:00, 386.74it/s, accuracy=0.667, cost=0.585]\n",
      "train minibatch loop:   6%|▌         | 15/250 [00:00<00:01, 140.88it/s, accuracy=0.75, cost=0.485] "
     ]
    },
    {
     "name": "stdout",
     "output_type": "stream",
     "text": [
      "epoch: 9, pass acc: 0.844121, current acc: 0.848135\n",
      "time taken: 2.002082109451294\n",
      "epoch: 9, training loss: 0.497461, training acc: 0.852177, valid loss: 0.497258, valid acc: 0.848135\n",
      "\n"
     ]
    },
    {
     "name": "stderr",
     "output_type": "stream",
     "text": [
      "train minibatch loop: 100%|██████████| 250/250 [00:01<00:00, 140.88it/s, accuracy=1, cost=0.457]    \n",
      "test minibatch loop: 100%|██████████| 63/63 [00:00<00:00, 385.45it/s, accuracy=0.667, cost=0.571]\n",
      "train minibatch loop:   6%|▌         | 15/250 [00:00<00:01, 140.58it/s, accuracy=0.812, cost=0.462]"
     ]
    },
    {
     "name": "stdout",
     "output_type": "stream",
     "text": [
      "epoch: 10, pass acc: 0.848135, current acc: 0.849640\n",
      "time taken: 1.9400067329406738\n",
      "epoch: 10, training loss: 0.474194, training acc: 0.856695, valid loss: 0.476349, valid acc: 0.849640\n",
      "\n"
     ]
    },
    {
     "name": "stderr",
     "output_type": "stream",
     "text": [
      "train minibatch loop: 100%|██████████| 250/250 [00:01<00:00, 141.15it/s, accuracy=1, cost=0.419]    \n",
      "test minibatch loop: 100%|██████████| 63/63 [00:00<00:00, 384.11it/s, accuracy=0.667, cost=0.559]\n",
      "train minibatch loop:   6%|▌         | 15/250 [00:00<00:01, 141.41it/s, accuracy=0.844, cost=0.44] "
     ]
    },
    {
     "name": "stdout",
     "output_type": "stream",
     "text": [
      "epoch: 11, pass acc: 0.849640, current acc: 0.855661\n",
      "time taken: 1.9369804859161377\n",
      "epoch: 11, training loss: 0.452712, training acc: 0.862718, valid loss: 0.457439, valid acc: 0.855661\n",
      "\n"
     ]
    },
    {
     "name": "stderr",
     "output_type": "stream",
     "text": [
      "train minibatch loop: 100%|██████████| 250/250 [00:01<00:00, 140.92it/s, accuracy=1, cost=0.382]    \n",
      "test minibatch loop: 100%|██████████| 63/63 [00:00<00:00, 384.54it/s, accuracy=0.667, cost=0.549]\n",
      "train minibatch loop:   6%|▌         | 15/250 [00:00<00:01, 140.83it/s, accuracy=0.844, cost=0.42] "
     ]
    },
    {
     "name": "stdout",
     "output_type": "stream",
     "text": [
      "epoch: 12, pass acc: 0.855661, current acc: 0.858170\n",
      "time taken: 1.9396755695343018\n",
      "epoch: 12, training loss: 0.433118, training acc: 0.867863, valid loss: 0.440528, valid acc: 0.858170\n",
      "\n"
     ]
    },
    {
     "name": "stderr",
     "output_type": "stream",
     "text": [
      "train minibatch loop: 100%|██████████| 250/250 [00:01<00:00, 141.31it/s, accuracy=1, cost=0.347]    \n",
      "test minibatch loop: 100%|██████████| 63/63 [00:00<00:00, 383.73it/s, accuracy=0.667, cost=0.54] \n",
      "train minibatch loop:   6%|▌         | 15/250 [00:00<00:01, 140.98it/s, accuracy=0.844, cost=0.402]"
     ]
    },
    {
     "name": "stdout",
     "output_type": "stream",
     "text": [
      "epoch: 13, pass acc: 0.858170, current acc: 0.861683\n",
      "time taken: 1.9351062774658203\n",
      "epoch: 13, training loss: 0.415371, training acc: 0.871000, valid loss: 0.425510, valid acc: 0.861683\n",
      "\n"
     ]
    },
    {
     "name": "stderr",
     "output_type": "stream",
     "text": [
      "train minibatch loop: 100%|██████████| 250/250 [00:01<00:00, 140.95it/s, accuracy=1, cost=0.313]    \n",
      "test minibatch loop: 100%|██████████| 63/63 [00:00<00:00, 383.26it/s, accuracy=0.667, cost=0.532]\n",
      "train minibatch loop:   6%|▌         | 15/250 [00:00<00:01, 142.03it/s, accuracy=0.844, cost=0.384]"
     ]
    },
    {
     "name": "stdout",
     "output_type": "stream",
     "text": [
      "epoch: 14, pass acc: 0.861683, current acc: 0.862686\n",
      "time taken: 1.9404613971710205\n",
      "epoch: 14, training loss: 0.399342, training acc: 0.872882, valid loss: 0.412217, valid acc: 0.862686\n",
      "\n"
     ]
    },
    {
     "name": "stderr",
     "output_type": "stream",
     "text": [
      "train minibatch loop: 100%|██████████| 250/250 [00:01<00:00, 141.19it/s, accuracy=1, cost=0.282]    \n",
      "test minibatch loop: 100%|██████████| 63/63 [00:00<00:00, 382.06it/s, accuracy=0.667, cost=0.526]\n",
      "train minibatch loop:   6%|▌         | 14/250 [00:00<00:01, 138.86it/s, accuracy=0.875, cost=0.393]"
     ]
    },
    {
     "name": "stdout",
     "output_type": "stream",
     "text": [
      "epoch: 15, pass acc: 0.862686, current acc: 0.863188\n",
      "time taken: 1.937262773513794\n",
      "epoch: 15, training loss: 0.384863, training acc: 0.876522, valid loss: 0.400461, valid acc: 0.863188\n",
      "\n"
     ]
    },
    {
     "name": "stderr",
     "output_type": "stream",
     "text": [
      "train minibatch loop: 100%|██████████| 250/250 [00:01<00:00, 139.86it/s, accuracy=1, cost=0.254]    \n",
      "test minibatch loop: 100%|██████████| 63/63 [00:00<00:00, 379.77it/s, accuracy=0.667, cost=0.521]\n",
      "train minibatch loop:   6%|▌         | 15/250 [00:00<00:01, 140.81it/s, accuracy=0.875, cost=0.384]"
     ]
    },
    {
     "name": "stdout",
     "output_type": "stream",
     "text": [
      "epoch: 16, pass acc: 0.863188, current acc: 0.865697\n",
      "time taken: 1.9556941986083984\n",
      "epoch: 16, training loss: 0.371752, training acc: 0.879659, valid loss: 0.390054, valid acc: 0.865697\n",
      "\n"
     ]
    },
    {
     "name": "stderr",
     "output_type": "stream",
     "text": [
      "train minibatch loop: 100%|██████████| 250/250 [00:01<00:00, 141.06it/s, accuracy=1, cost=0.228]    \n",
      "test minibatch loop: 100%|██████████| 63/63 [00:00<00:00, 384.90it/s, accuracy=0.667, cost=0.517]\n",
      "train minibatch loop:   6%|▌         | 14/250 [00:00<00:01, 139.95it/s, accuracy=0.875, cost=0.34] "
     ]
    },
    {
     "name": "stdout",
     "output_type": "stream",
     "text": [
      "epoch: 17, pass acc: 0.865697, current acc: 0.867704\n",
      "time taken: 1.9377660751342773\n",
      "epoch: 17, training loss: 0.359836, training acc: 0.881917, valid loss: 0.380819, valid acc: 0.867704\n",
      "\n"
     ]
    },
    {
     "name": "stderr",
     "output_type": "stream",
     "text": [
      "train minibatch loop: 100%|██████████| 250/250 [00:01<00:00, 141.01it/s, accuracy=1, cost=0.204]    \n",
      "test minibatch loop: 100%|██████████| 63/63 [00:00<00:00, 385.50it/s, accuracy=0.667, cost=0.514]\n",
      "train minibatch loop:   6%|▌         | 14/250 [00:00<00:01, 138.52it/s, accuracy=0.875, cost=0.37] "
     ]
    },
    {
     "name": "stdout",
     "output_type": "stream",
     "text": [
      "epoch: 18, pass acc: 0.867704, current acc: 0.870714\n",
      "time taken: 1.9382882118225098\n",
      "epoch: 18, training loss: 0.348954, training acc: 0.884804, valid loss: 0.372599, valid acc: 0.870714\n",
      "\n"
     ]
    },
    {
     "name": "stderr",
     "output_type": "stream",
     "text": [
      "train minibatch loop: 100%|██████████| 250/250 [00:01<00:00, 141.17it/s, accuracy=1, cost=0.183]    \n",
      "test minibatch loop: 100%|██████████| 63/63 [00:00<00:00, 383.95it/s, accuracy=0.667, cost=0.512]\n",
      "train minibatch loop:   6%|▌         | 15/250 [00:00<00:01, 140.10it/s, accuracy=0.875, cost=0.315]"
     ]
    },
    {
     "name": "stdout",
     "output_type": "stream",
     "text": [
      "epoch: 19, pass acc: 0.870714, current acc: 0.872219\n",
      "time taken: 1.9366741180419922\n",
      "epoch: 19, training loss: 0.338965, training acc: 0.886435, valid loss: 0.365256, valid acc: 0.872219\n",
      "\n"
     ]
    },
    {
     "name": "stderr",
     "output_type": "stream",
     "text": [
      "train minibatch loop: 100%|██████████| 250/250 [00:01<00:00, 141.42it/s, accuracy=1, cost=0.164]    \n",
      "test minibatch loop: 100%|██████████| 63/63 [00:00<00:00, 383.66it/s, accuracy=0.667, cost=0.51] \n",
      "train minibatch loop:   6%|▌         | 15/250 [00:00<00:01, 140.55it/s, accuracy=0.906, cost=0.359]"
     ]
    },
    {
     "name": "stdout",
     "output_type": "stream",
     "text": [
      "epoch: 20, pass acc: 0.872219, current acc: 0.873223\n",
      "time taken: 1.9462225437164307\n",
      "epoch: 20, training loss: 0.329747, training acc: 0.889070, valid loss: 0.358671, valid acc: 0.873223\n",
      "\n"
     ]
    },
    {
     "name": "stderr",
     "output_type": "stream",
     "text": [
      "train minibatch loop: 100%|██████████| 250/250 [00:01<00:00, 140.52it/s, accuracy=1, cost=0.147]    \n",
      "test minibatch loop: 100%|██████████| 63/63 [00:00<00:00, 383.69it/s, accuracy=0.667, cost=0.509]\n",
      "train minibatch loop:   6%|▌         | 15/250 [00:00<00:01, 140.95it/s, accuracy=0.875, cost=0.293]"
     ]
    },
    {
     "name": "stdout",
     "output_type": "stream",
     "text": [
      "time taken: 1.9455444812774658\n",
      "epoch: 21, training loss: 0.321195, training acc: 0.890952, valid loss: 0.352742, valid acc: 0.873223\n",
      "\n"
     ]
    },
    {
     "name": "stderr",
     "output_type": "stream",
     "text": [
      "train minibatch loop: 100%|██████████| 250/250 [00:01<00:00, 141.19it/s, accuracy=1, cost=0.131]    \n",
      "test minibatch loop: 100%|██████████| 63/63 [00:00<00:00, 280.02it/s, accuracy=0.667, cost=0.509]\n",
      "train minibatch loop:   6%|▌         | 15/250 [00:00<00:01, 141.66it/s, accuracy=0.875, cost=0.282]"
     ]
    },
    {
     "name": "stdout",
     "output_type": "stream",
     "text": [
      "epoch: 22, pass acc: 0.873223, current acc: 0.874226\n",
      "time taken: 1.9974935054779053\n",
      "epoch: 22, training loss: 0.313220, training acc: 0.893964, valid loss: 0.347384, valid acc: 0.874226\n",
      "\n"
     ]
    },
    {
     "name": "stderr",
     "output_type": "stream",
     "text": [
      "train minibatch loop: 100%|██████████| 250/250 [00:01<00:00, 140.80it/s, accuracy=1, cost=0.118]    \n",
      "test minibatch loop: 100%|██████████| 63/63 [00:00<00:00, 382.06it/s, accuracy=0.667, cost=0.509]\n",
      "train minibatch loop:   6%|▌         | 15/250 [00:00<00:01, 141.55it/s, accuracy=0.875, cost=0.272]"
     ]
    },
    {
     "name": "stdout",
     "output_type": "stream",
     "text": [
      "epoch: 23, pass acc: 0.874226, current acc: 0.875230\n",
      "time taken: 1.943094253540039\n",
      "epoch: 23, training loss: 0.305747, training acc: 0.896725, valid loss: 0.342522, valid acc: 0.875230\n",
      "\n"
     ]
    },
    {
     "name": "stderr",
     "output_type": "stream",
     "text": [
      "train minibatch loop: 100%|██████████| 250/250 [00:01<00:00, 141.11it/s, accuracy=1, cost=0.106]    \n",
      "test minibatch loop: 100%|██████████| 63/63 [00:00<00:00, 381.89it/s, accuracy=0.667, cost=0.51] \n",
      "train minibatch loop:   6%|▌         | 15/250 [00:00<00:01, 140.93it/s, accuracy=0.875, cost=0.263]"
     ]
    },
    {
     "name": "stdout",
     "output_type": "stream",
     "text": [
      "time taken: 1.9383635520935059\n",
      "epoch: 24, training loss: 0.298715, training acc: 0.898356, valid loss: 0.338095, valid acc: 0.874728\n",
      "\n"
     ]
    },
    {
     "name": "stderr",
     "output_type": "stream",
     "text": [
      "train minibatch loop: 100%|██████████| 250/250 [00:01<00:00, 141.28it/s, accuracy=1, cost=0.0949]   \n",
      "test minibatch loop: 100%|██████████| 63/63 [00:00<00:00, 383.35it/s, accuracy=0.667, cost=0.511]\n",
      "train minibatch loop:   6%|▌         | 14/250 [00:00<00:01, 139.64it/s, accuracy=0.875, cost=0.254]"
     ]
    },
    {
     "name": "stdout",
     "output_type": "stream",
     "text": [
      "time taken: 1.935624599456787\n",
      "epoch: 25, training loss: 0.292069, training acc: 0.900238, valid loss: 0.334051, valid acc: 0.874728\n",
      "\n"
     ]
    },
    {
     "name": "stderr",
     "output_type": "stream",
     "text": [
      "train minibatch loop: 100%|██████████| 250/250 [00:01<00:00, 140.88it/s, accuracy=1, cost=0.0854]   \n",
      "test minibatch loop: 100%|██████████| 63/63 [00:00<00:00, 382.41it/s, accuracy=0.667, cost=0.512]\n",
      "train minibatch loop:   6%|▌         | 14/250 [00:00<00:01, 137.77it/s, accuracy=0.906, cost=0.333]"
     ]
    },
    {
     "name": "stdout",
     "output_type": "stream",
     "text": [
      "epoch: 26, pass acc: 0.875230, current acc: 0.876233\n",
      "time taken: 1.9413058757781982\n",
      "epoch: 26, training loss: 0.285767, training acc: 0.901493, valid loss: 0.330346, valid acc: 0.876233\n",
      "\n"
     ]
    },
    {
     "name": "stderr",
     "output_type": "stream",
     "text": [
      "train minibatch loop: 100%|██████████| 250/250 [00:01<00:00, 139.93it/s, accuracy=1, cost=0.0769]   \n",
      "test minibatch loop: 100%|██████████| 63/63 [00:00<00:00, 382.77it/s, accuracy=0.667, cost=0.514]\n",
      "train minibatch loop:   6%|▌         | 15/250 [00:00<00:01, 140.52it/s, accuracy=0.906, cost=0.238]"
     ]
    },
    {
     "name": "stdout",
     "output_type": "stream",
     "text": [
      "epoch: 27, pass acc: 0.876233, current acc: 0.879244\n",
      "time taken: 1.9531888961791992\n",
      "epoch: 27, training loss: 0.279769, training acc: 0.903376, valid loss: 0.326941, valid acc: 0.879244\n",
      "\n"
     ]
    },
    {
     "name": "stderr",
     "output_type": "stream",
     "text": [
      "train minibatch loop: 100%|██████████| 250/250 [00:01<00:00, 140.69it/s, accuracy=1, cost=0.0694]   \n",
      "test minibatch loop: 100%|██████████| 63/63 [00:00<00:00, 386.76it/s, accuracy=0.667, cost=0.516]\n",
      "train minibatch loop:   6%|▌         | 15/250 [00:00<00:01, 141.85it/s, accuracy=0.906, cost=0.23] "
     ]
    },
    {
     "name": "stdout",
     "output_type": "stream",
     "text": [
      "epoch: 28, pass acc: 0.879244, current acc: 0.880749\n",
      "time taken: 1.9434189796447754\n",
      "epoch: 28, training loss: 0.274044, training acc: 0.905634, valid loss: 0.323804, valid acc: 0.880749\n",
      "\n"
     ]
    },
    {
     "name": "stderr",
     "output_type": "stream",
     "text": [
      "train minibatch loop: 100%|██████████| 250/250 [00:01<00:00, 140.90it/s, accuracy=1, cost=0.0627]   \n",
      "test minibatch loop: 100%|██████████| 63/63 [00:00<00:00, 381.16it/s, accuracy=0.667, cost=0.518]\n",
      "train minibatch loop:   6%|▌         | 15/250 [00:00<00:01, 140.93it/s, accuracy=0.938, cost=0.222]"
     ]
    },
    {
     "name": "stdout",
     "output_type": "stream",
     "text": [
      "epoch: 29, pass acc: 0.880749, current acc: 0.881753\n",
      "time taken: 1.9414536952972412\n",
      "epoch: 29, training loss: 0.268564, training acc: 0.907768, valid loss: 0.320907, valid acc: 0.881753\n",
      "\n"
     ]
    },
    {
     "name": "stderr",
     "output_type": "stream",
     "text": [
      "train minibatch loop: 100%|██████████| 250/250 [00:01<00:00, 140.54it/s, accuracy=1, cost=0.0568]   \n",
      "test minibatch loop: 100%|██████████| 63/63 [00:00<00:00, 382.64it/s, accuracy=0.667, cost=0.52] \n",
      "train minibatch loop:   6%|▌         | 15/250 [00:00<00:01, 141.17it/s, accuracy=0.906, cost=0.319]"
     ]
    },
    {
     "name": "stdout",
     "output_type": "stream",
     "text": [
      "time taken: 1.9452533721923828\n",
      "epoch: 30, training loss: 0.263307, training acc: 0.910152, valid loss: 0.318228, valid acc: 0.881753\n",
      "\n"
     ]
    },
    {
     "name": "stderr",
     "output_type": "stream",
     "text": [
      "train minibatch loop: 100%|██████████| 250/250 [00:01<00:00, 141.52it/s, accuracy=1, cost=0.0515]   \n",
      "test minibatch loop: 100%|██████████| 63/63 [00:00<00:00, 382.33it/s, accuracy=0.667, cost=0.523]\n",
      "train minibatch loop:   6%|▌         | 14/250 [00:00<00:01, 139.61it/s, accuracy=0.906, cost=0.316]"
     ]
    },
    {
     "name": "stdout",
     "output_type": "stream",
     "text": [
      "time taken: 1.9482879638671875\n",
      "epoch: 31, training loss: 0.258252, training acc: 0.911783, valid loss: 0.315743, valid acc: 0.880749\n",
      "\n"
     ]
    },
    {
     "name": "stderr",
     "output_type": "stream",
     "text": [
      "train minibatch loop: 100%|██████████| 250/250 [00:01<00:00, 141.46it/s, accuracy=1, cost=0.0468]   \n",
      "test minibatch loop: 100%|██████████| 63/63 [00:00<00:00, 383.58it/s, accuracy=0.667, cost=0.525]\n",
      "train minibatch loop:   6%|▌         | 15/250 [00:00<00:01, 140.72it/s, accuracy=0.938, cost=0.202]"
     ]
    },
    {
     "name": "stdout",
     "output_type": "stream",
     "text": [
      "epoch: 32, pass acc: 0.881753, current acc: 0.882255\n",
      "time taken: 1.9427552223205566\n",
      "epoch: 32, training loss: 0.253383, training acc: 0.913791, valid loss: 0.313438, valid acc: 0.882255\n",
      "\n"
     ]
    },
    {
     "name": "stderr",
     "output_type": "stream",
     "text": [
      "train minibatch loop: 100%|██████████| 250/250 [00:01<00:00, 141.49it/s, accuracy=1, cost=0.0425]   \n",
      "test minibatch loop: 100%|██████████| 63/63 [00:00<00:00, 383.16it/s, accuracy=0.667, cost=0.528]\n",
      "train minibatch loop:   6%|▌         | 14/250 [00:00<00:01, 139.33it/s, accuracy=0.906, cost=0.309]"
     ]
    },
    {
     "name": "stdout",
     "output_type": "stream",
     "text": [
      "epoch: 33, pass acc: 0.882255, current acc: 0.883258\n",
      "time taken: 1.9330670833587646\n",
      "epoch: 33, training loss: 0.248683, training acc: 0.915799, valid loss: 0.311294, valid acc: 0.883258\n",
      "\n"
     ]
    },
    {
     "name": "stderr",
     "output_type": "stream",
     "text": [
      "train minibatch loop: 100%|██████████| 250/250 [00:01<00:00, 140.84it/s, accuracy=1, cost=0.0388]   \n",
      "test minibatch loop: 100%|██████████| 63/63 [00:00<00:00, 381.17it/s, accuracy=0.667, cost=0.531]\n",
      "train minibatch loop:   6%|▌         | 15/250 [00:00<00:01, 140.65it/s, accuracy=0.938, cost=0.19] "
     ]
    },
    {
     "name": "stdout",
     "output_type": "stream",
     "text": [
      "time taken: 1.942573070526123\n",
      "epoch: 34, training loss: 0.244140, training acc: 0.917054, valid loss: 0.309300, valid acc: 0.882756\n",
      "\n"
     ]
    },
    {
     "name": "stderr",
     "output_type": "stream",
     "text": [
      "train minibatch loop: 100%|██████████| 250/250 [00:01<00:00, 140.65it/s, accuracy=1, cost=0.0354]   \n",
      "test minibatch loop: 100%|██████████| 63/63 [00:00<00:00, 387.62it/s, accuracy=0.667, cost=0.535]\n",
      "train minibatch loop:   6%|▌         | 15/250 [00:00<00:01, 141.22it/s, accuracy=0.938, cost=0.185]"
     ]
    },
    {
     "name": "stdout",
     "output_type": "stream",
     "text": [
      "time taken: 1.9421100616455078\n",
      "epoch: 35, training loss: 0.239742, training acc: 0.919061, valid loss: 0.307442, valid acc: 0.883258\n",
      "\n"
     ]
    },
    {
     "name": "stderr",
     "output_type": "stream",
     "text": [
      "train minibatch loop: 100%|██████████| 250/250 [00:01<00:00, 140.86it/s, accuracy=1, cost=0.0323]   \n",
      "test minibatch loop: 100%|██████████| 63/63 [00:00<00:00, 384.79it/s, accuracy=0.667, cost=0.538]\n",
      "train minibatch loop:   6%|▌         | 15/250 [00:00<00:01, 140.76it/s, accuracy=0.938, cost=0.18] "
     ]
    },
    {
     "name": "stdout",
     "output_type": "stream",
     "text": [
      "epoch: 36, pass acc: 0.883258, current acc: 0.883760\n",
      "time taken: 1.9409313201904297\n",
      "epoch: 36, training loss: 0.235480, training acc: 0.919940, valid loss: 0.305711, valid acc: 0.883760\n",
      "\n"
     ]
    },
    {
     "name": "stderr",
     "output_type": "stream",
     "text": [
      "train minibatch loop: 100%|██████████| 250/250 [00:01<00:00, 140.81it/s, accuracy=1, cost=0.0296]   \n",
      "test minibatch loop: 100%|██████████| 63/63 [00:00<00:00, 384.25it/s, accuracy=0.667, cost=0.542]\n",
      "train minibatch loop:   6%|▌         | 15/250 [00:00<00:01, 140.39it/s, accuracy=0.938, cost=0.174]"
     ]
    },
    {
     "name": "stdout",
     "output_type": "stream",
     "text": [
      "epoch: 37, pass acc: 0.883760, current acc: 0.884763\n",
      "time taken: 1.9411437511444092\n",
      "epoch: 37, training loss: 0.231344, training acc: 0.922449, valid loss: 0.304098, valid acc: 0.884763\n",
      "\n"
     ]
    },
    {
     "name": "stderr",
     "output_type": "stream",
     "text": [
      "train minibatch loop: 100%|██████████| 250/250 [00:01<00:00, 140.70it/s, accuracy=1, cost=0.0271]   \n",
      "test minibatch loop: 100%|██████████| 63/63 [00:00<00:00, 381.36it/s, accuracy=0.667, cost=0.545]\n",
      "train minibatch loop:   6%|▌         | 14/250 [00:00<00:01, 139.41it/s, accuracy=0.906, cost=0.294]"
     ]
    },
    {
     "name": "stdout",
     "output_type": "stream",
     "text": [
      "time taken: 1.9439127445220947\n",
      "epoch: 38, training loss: 0.227327, training acc: 0.924206, valid loss: 0.302595, valid acc: 0.884262\n",
      "\n"
     ]
    },
    {
     "name": "stderr",
     "output_type": "stream",
     "text": [
      "train minibatch loop: 100%|██████████| 250/250 [00:01<00:00, 138.76it/s, accuracy=1, cost=0.0249]   \n",
      "test minibatch loop: 100%|██████████| 63/63 [00:00<00:00, 382.89it/s, accuracy=0.667, cost=0.549]\n",
      "train minibatch loop:   6%|▌         | 14/250 [00:00<00:01, 138.93it/s, accuracy=0.906, cost=0.291]"
     ]
    },
    {
     "name": "stdout",
     "output_type": "stream",
     "text": [
      "time taken: 1.968212366104126\n",
      "epoch: 39, training loss: 0.223421, training acc: 0.925461, valid loss: 0.301193, valid acc: 0.884262\n",
      "\n"
     ]
    },
    {
     "name": "stderr",
     "output_type": "stream",
     "text": [
      "train minibatch loop: 100%|██████████| 250/250 [00:01<00:00, 139.79it/s, accuracy=1, cost=0.0229]   \n",
      "test minibatch loop: 100%|██████████| 63/63 [00:00<00:00, 382.79it/s, accuracy=0.667, cost=0.553]"
     ]
    },
    {
     "name": "stdout",
     "output_type": "stream",
     "text": [
      "time taken: 1.9546802043914795\n",
      "epoch: 40, training loss: 0.219620, training acc: 0.926591, valid loss: 0.299888, valid acc: 0.884262\n",
      "\n",
      "break epoch:41\n",
      "\n"
     ]
    },
    {
     "name": "stderr",
     "output_type": "stream",
     "text": [
      "\n"
     ]
    }
   ],
   "source": [
    "from tqdm import tqdm\n",
    "import time\n",
    "\n",
    "batch_size = 32\n",
    "EARLY_STOPPING, CURRENT_CHECKPOINT, CURRENT_ACC, EPOCH = 3, 0, 0, 0\n",
    "\n",
    "while True:\n",
    "    lasttime = time.time()\n",
    "    if CURRENT_CHECKPOINT == EARLY_STOPPING:\n",
    "        print('break epoch:%d\\n' % (EPOCH))\n",
    "        break\n",
    "\n",
    "    train_acc, train_loss, test_acc, test_loss = 0, 0, 0, 0\n",
    "    pbar = tqdm(\n",
    "        range(0, train_X.shape[0], batch_size), desc = 'train minibatch loop'\n",
    "    )\n",
    "    for i in pbar:\n",
    "        batch_x = convert_sparse_matrix_to_sparse_tensor(train_X[i : min(i + batch_size, train_X.shape[0])])\n",
    "        batch_y = train_Y[i : min(i + batch_size, train_X.shape[0])]\n",
    "        batch_x_expand = np.expand_dims(batch_x,axis = 1)\n",
    "        acc, cost, _ = sess.run(\n",
    "            [model.accuracy, model.cost, model.optimizer],\n",
    "            feed_dict = {\n",
    "                model.Y: batch_y,\n",
    "                model.X: batch_x[0],\n",
    "                model.W: batch_x[1],\n",
    "            },\n",
    "        )\n",
    "        assert not np.isnan(cost)\n",
    "        train_loss += cost\n",
    "        train_acc += acc\n",
    "        pbar.set_postfix(cost = cost, accuracy = acc)\n",
    "\n",
    "    pbar = tqdm(range(0, test_X.shape[0], batch_size), desc = 'test minibatch loop')\n",
    "    for i in pbar:\n",
    "        batch_x = convert_sparse_matrix_to_sparse_tensor(test_X[i : min(i + batch_size, test_X.shape[0])])\n",
    "        batch_y = test_Y[i : min(i + batch_size, test_X.shape[0])]\n",
    "        batch_x_expand = np.expand_dims(batch_x,axis = 1)\n",
    "        acc, cost = sess.run(\n",
    "            [model.accuracy, model.cost],\n",
    "            feed_dict = {\n",
    "                model.Y: batch_y,\n",
    "                model.X: batch_x[0],\n",
    "                model.W: batch_x[1],\n",
    "            },\n",
    "        )\n",
    "        test_loss += cost\n",
    "        test_acc += acc\n",
    "        pbar.set_postfix(cost = cost, accuracy = acc)\n",
    "\n",
    "    train_loss /= train_X.shape[0] / batch_size\n",
    "    train_acc /= train_X.shape[0] / batch_size\n",
    "    test_loss /= test_X.shape[0] / batch_size\n",
    "    test_acc /= test_X.shape[0] / batch_size\n",
    "\n",
    "    if test_acc > CURRENT_ACC:\n",
    "        print(\n",
    "            'epoch: %d, pass acc: %f, current acc: %f'\n",
    "            % (EPOCH, CURRENT_ACC, test_acc)\n",
    "        )\n",
    "        CURRENT_ACC = test_acc\n",
    "        CURRENT_CHECKPOINT = 0\n",
    "    else:\n",
    "        CURRENT_CHECKPOINT += 1\n",
    "\n",
    "    print('time taken:', time.time() - lasttime)\n",
    "    print(\n",
    "        'epoch: %d, training loss: %f, training acc: %f, valid loss: %f, valid acc: %f\\n'\n",
    "        % (EPOCH, train_loss, train_acc, test_loss, test_acc)\n",
    "    )\n",
    "    EPOCH += 1"
   ]
  },
  {
   "cell_type": "code",
   "execution_count": 12,
   "metadata": {},
   "outputs": [
    {
     "name": "stderr",
     "output_type": "stream",
     "text": [
      "validation minibatch loop: 100%|██████████| 63/63 [00:00<00:00, 623.93it/s]\n"
     ]
    }
   ],
   "source": [
    "real_Y, predict_Y = [], []\n",
    "\n",
    "pbar = tqdm(\n",
    "    range(0, test_X.shape[0], batch_size), desc = 'validation minibatch loop'\n",
    ")\n",
    "for i in pbar:\n",
    "    batch_x = convert_sparse_matrix_to_sparse_tensor(test_X[i : min(i + batch_size, test_X.shape[0])])\n",
    "    batch_y = test_Y[i : min(i + batch_size, test_X.shape[0])]\n",
    "    predict_Y += np.argmax(\n",
    "        sess.run(\n",
    "            model.logits, feed_dict = {model.X: batch_x[0], model.W: batch_x[1], model.Y: batch_y}\n",
    "        ),\n",
    "        1,\n",
    "    ).tolist()\n",
    "    real_Y += batch_y"
   ]
  },
  {
   "cell_type": "code",
   "execution_count": 13,
   "metadata": {},
   "outputs": [
    {
     "name": "stdout",
     "output_type": "stream",
     "text": [
      "             precision    recall  f1-score   support\n",
      "\n",
      "   negative       0.88      0.88      0.88      1002\n",
      "   positive       0.88      0.87      0.88       991\n",
      "\n",
      "avg / total       0.88      0.88      0.88      1993\n",
      "\n"
     ]
    }
   ],
   "source": [
    "print(\n",
    "    metrics.classification_report(\n",
    "        real_Y, predict_Y, target_names = ['negative', 'positive']\n",
    "    )\n",
    ")"
   ]
  },
  {
   "cell_type": "code",
   "execution_count": 14,
   "metadata": {},
   "outputs": [
    {
     "data": {
      "text/plain": [
       "'fast-text-char/model.ckpt'"
      ]
     },
     "execution_count": 14,
     "metadata": {},
     "output_type": "execute_result"
    }
   ],
   "source": [
    "saver.save(sess, 'fast-text-char/model.ckpt')"
   ]
  },
  {
   "cell_type": "code",
   "execution_count": 15,
   "metadata": {},
   "outputs": [],
   "source": [
    "import pickle\n",
    "with open('vectorizer-sparse-subjectivity.pkl','wb') as fopen:\n",
    "    pickle.dump(bow_chars, fopen)"
   ]
  }
 ],
 "metadata": {
  "kernelspec": {
   "display_name": "Python 3",
   "language": "python",
   "name": "python3"
  },
  "language_info": {
   "codemirror_mode": {
    "name": "ipython",
    "version": 3
   },
   "file_extension": ".py",
   "mimetype": "text/x-python",
   "name": "python",
   "nbconvert_exporter": "python",
   "pygments_lexer": "ipython3",
   "version": "3.5.2"
  }
 },
 "nbformat": 4,
 "nbformat_minor": 2
}
