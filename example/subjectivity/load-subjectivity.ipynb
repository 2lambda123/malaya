{
 "cells": [
  {
   "cell_type": "code",
   "execution_count": 1,
   "metadata": {},
   "outputs": [
    {
     "name": "stdout",
     "output_type": "stream",
     "text": [
      "CPU times: user 12.4 s, sys: 1.4 s, total: 13.8 s\n",
      "Wall time: 17.2 s\n"
     ]
    }
   ],
   "source": [
    "%%time\n",
    "import malaya"
   ]
  },
  {
   "cell_type": "markdown",
   "metadata": {},
   "source": [
    "## Explanation\n",
    "\n",
    "Positive subjectivity: based on or influenced by personal feelings, tastes, or opinions. Can be a positive or negative sentiment.\n",
    "\n",
    "Negative subjectivity: based on a report or a fact. Can be a positive or negative sentiment."
   ]
  },
  {
   "cell_type": "code",
   "execution_count": 2,
   "metadata": {},
   "outputs": [],
   "source": [
    "negative_text = 'Kerajaan negeri Kelantan mempersoalkan motif kenyataan Menteri Kewangan Lim Guan Eng yang hanya menyebut Kelantan penerima terbesar bantuan kewangan dari Kerajaan Persekutuan. Sedangkan menurut Timbalan Menteri Besarnya, Datuk Mohd Amar Nik Abdullah, negeri lain yang lebih maju dari Kelantan turut mendapat pembiayaan dan pinjaman.'\n",
    "positive_text = 'kerajaan sebenarnya sangat bencikan rakyatnya, minyak naik dan segalanya'"
   ]
  },
  {
   "cell_type": "markdown",
   "metadata": {},
   "source": [
    "All models got `get_proba` parameters.\n",
    "If True, it will returned probability every classes. Else, it will return highest probability class. **Default is False.**"
   ]
  },
  {
   "cell_type": "markdown",
   "metadata": {},
   "source": [
    "## Load multinomial model"
   ]
  },
  {
   "cell_type": "code",
   "execution_count": 3,
   "metadata": {},
   "outputs": [
    {
     "name": "stdout",
     "output_type": "stream",
     "text": [
      "{'negative': 0.46203835811002486, 'positive': 0.5379616418899767}\n",
      "{'negative': 0.8607294776614423, 'positive': 0.13927052233855727}\n"
     ]
    },
    {
     "data": {
      "text/plain": [
       "[{'negative': 0.8607294776614423, 'positive': 0.13927052233855727},\n",
       " {'negative': 0.8607294776614423, 'positive': 0.13927052233855727}]"
      ]
     },
     "execution_count": 3,
     "metadata": {},
     "output_type": "execute_result"
    }
   ],
   "source": [
    "model = malaya.subjective.multinomial()\n",
    "print(model.predict(positive_text,get_proba=True))\n",
    "print(model.predict(negative_text,get_proba=True))\n",
    "model.predict_batch([negative_text,negative_text],get_proba=True)"
   ]
  },
  {
   "cell_type": "markdown",
   "metadata": {},
   "source": [
    "## Load xgb model"
   ]
  },
  {
   "cell_type": "code",
   "execution_count": 4,
   "metadata": {},
   "outputs": [
    {
     "name": "stdout",
     "output_type": "stream",
     "text": [
      "{'negative': 0.4284472, 'positive': 0.5715528}\n",
      "{'negative': 0.9249991, 'positive': 0.07500088}\n"
     ]
    },
    {
     "data": {
      "text/plain": [
       "[{'negative': 0.9249991, 'positive': 0.07500088},\n",
       " {'negative': 0.9249991, 'positive': 0.07500088}]"
      ]
     },
     "execution_count": 4,
     "metadata": {},
     "output_type": "execute_result"
    }
   ],
   "source": [
    "model = malaya.subjective.xgb()\n",
    "print(model.predict(positive_text,get_proba=True))\n",
    "print(model.predict(negative_text,get_proba=True))\n",
    "model.predict_batch([negative_text,negative_text],get_proba=True)"
   ]
  },
  {
   "cell_type": "markdown",
   "metadata": {},
   "source": [
    "## List available deep learning models"
   ]
  },
  {
   "cell_type": "code",
   "execution_count": 5,
   "metadata": {},
   "outputs": [
    {
     "data": {
      "text/plain": [
       "['fast-text',\n",
       " 'hierarchical',\n",
       " 'bahdanau',\n",
       " 'luong',\n",
       " 'bidirectional',\n",
       " 'bert',\n",
       " 'entity-network']"
      ]
     },
     "execution_count": 5,
     "metadata": {},
     "output_type": "execute_result"
    }
   ],
   "source": [
    "malaya.subjective.available_deep_model()"
   ]
  },
  {
   "cell_type": "code",
   "execution_count": 6,
   "metadata": {},
   "outputs": [
    {
     "name": "stdout",
     "output_type": "stream",
     "text": [
      "Testing fast-text model\n",
      "negative\n",
      "['negative', 'positive']\n",
      "[{'negative': 1.0, 'positive': 5.600171e-08}, {'negative': 0.25236478, 'positive': 0.74763525}]\n",
      "\n",
      "Testing hierarchical model\n",
      "negative\n",
      "['negative', 'positive']\n",
      "[{'negative': 0.99999225, 'positive': 7.692454e-06}, {'negative': 0.29224393, 'positive': 0.70775604}]\n",
      "\n",
      "Testing bahdanau model\n",
      "negative\n",
      "['negative', 'positive']\n",
      "[{'negative': 0.99998605, 'positive': 1.3971644e-05}, {'negative': 0.41739935, 'positive': 0.5826007}]\n",
      "\n",
      "Testing luong model\n",
      "positive\n",
      "['positive', 'negative']\n",
      "[{'negative': 0.07556655, 'positive': 0.92443347}, {'negative': 0.96075815, 'positive': 0.039241895}]\n",
      "\n",
      "Testing bidirectional model\n",
      "negative\n",
      "['negative', 'positive']\n",
      "[{'negative': 0.9999918, 'positive': 8.21179e-06}, {'negative': 0.046924926, 'positive': 0.95307505}]\n",
      "\n",
      "Testing bert model\n",
      "negative\n",
      "['negative', 'negative']\n",
      "[{'negative': 0.98487025, 'positive': 0.015129704}, {'negative': 0.98668575, 'positive': 0.013314218}]\n",
      "\n",
      "Testing entity-network model\n",
      "negative\n",
      "['negative', 'negative']\n",
      "[{'negative': 0.6470482, 'positive': 0.35295185}, {'negative': 0.65467215, 'positive': 0.34532788}]\n",
      "\n"
     ]
    }
   ],
   "source": [
    "for i in malaya.subjective.available_deep_model():\n",
    "    print('Testing %s model'%(i))\n",
    "    model = malaya.subjective.deep_model(i)\n",
    "    print(model.predict(negative_text))\n",
    "    print(model.predict_batch([negative_text, positive_text]))\n",
    "    print(model.predict_batch([negative_text, positive_text],get_proba=True))\n",
    "    print()"
   ]
  },
  {
   "cell_type": "markdown",
   "metadata": {},
   "source": [
    "## Unsupervised important words learning"
   ]
  },
  {
   "cell_type": "code",
   "execution_count": 7,
   "metadata": {},
   "outputs": [],
   "source": [
    "import matplotlib.pyplot as plt\n",
    "import seaborn as sns\n",
    "sns.set() # i just really like seaborn colors"
   ]
  },
  {
   "cell_type": "markdown",
   "metadata": {},
   "source": [
    "We need to set `get_proba` become True to get the 'attention'."
   ]
  },
  {
   "cell_type": "markdown",
   "metadata": {},
   "source": [
    "#### Visualizing bahdanau model"
   ]
  },
  {
   "cell_type": "code",
   "execution_count": 8,
   "metadata": {},
   "outputs": [
    {
     "data": {
      "image/png": "[encoded data removed]",
      "text/plain": [
       "<Figure size 1080x504 with 1 Axes>"
      ]
     },
     "metadata": {
      "needs_background": "light"
     },
     "output_type": "display_data"
    }
   ],
   "source": [
    "model = malaya.subjective.deep_model('bahdanau')\n",
    "result = model.predict(negative_text, get_proba=True)['attention']\n",
    "\n",
    "plt.figure(figsize = (15, 7))\n",
    "labels = [r[0] for r in result]\n",
    "val = [r[1] for r in result]\n",
    "aranged = [i for i in range(len(labels))]\n",
    "plt.bar(aranged, val)\n",
    "plt.xticks(aranged, labels, rotation = 'vertical')\n",
    "plt.show()"
   ]
  },
  {
   "cell_type": "markdown",
   "metadata": {},
   "source": [
    "#### Visualizing luong model"
   ]
  },
  {
   "cell_type": "code",
   "execution_count": 9,
   "metadata": {},
   "outputs": [
    {
     "data": {
      "image/png": "[encoded data removed]",
      "text/plain": [
       "<Figure size 1080x504 with 1 Axes>"
      ]
     },
     "metadata": {
      "needs_background": "light"
     },
     "output_type": "display_data"
    }
   ],
   "source": [
    "model = malaya.subjective.deep_model('luong')\n",
    "result = model.predict(negative_text, get_proba=True)['attention']\n",
    "\n",
    "plt.figure(figsize = (15, 7))\n",
    "labels = [r[0] for r in result]\n",
    "val = [r[1] for r in result]\n",
    "aranged = [i for i in range(len(labels))]\n",
    "plt.bar(aranged, val)\n",
    "plt.xticks(aranged, labels, rotation = 'vertical')\n",
    "plt.show()"
   ]
  },
  {
   "cell_type": "markdown",
   "metadata": {},
   "source": [
    "#### Visualizing hierarchical model"
   ]
  },
  {
   "cell_type": "code",
   "execution_count": 10,
   "metadata": {},
   "outputs": [
    {
     "data": {
      "image/png": "[encoded data removed]",
      "text/plain": [
       "<Figure size 1080x504 with 1 Axes>"
      ]
     },
     "metadata": {
      "needs_background": "light"
     },
     "output_type": "display_data"
    }
   ],
   "source": [
    "model = malaya.subjective.deep_model('hierarchical')\n",
    "result = model.predict(negative_text, get_proba=True)['attention']\n",
    "\n",
    "plt.figure(figsize = (15, 7))\n",
    "labels = [r[0] for r in result]\n",
    "val = [r[1] for r in result]\n",
    "aranged = [i for i in range(len(labels))]\n",
    "plt.bar(aranged, val)\n",
    "plt.xticks(aranged, labels, rotation = 'vertical')\n",
    "plt.show()"
   ]
  },
  {
   "cell_type": "markdown",
   "metadata": {},
   "source": [
    "## Load Sparse deep learning models"
   ]
  },
  {
   "cell_type": "markdown",
   "metadata": {},
   "source": [
    "What happen if a word not included in the dictionary of the models? like `setan`, what if `setan` appeared in text we want to classify? We found this problem when classifying social media texts / posts. Words used not really a vocabulary-based contextual.\n",
    "\n",
    "Malaya will treat **unknown words** as `<UNK>`, so, to solve this problem, we need to use N-grams character based. Malaya chose tri-grams until fifth-grams.\n",
    "\n",
    "```python\n",
    "setan = ['set', 'eta', 'tan']\n",
    "```\n",
    "\n",
    "Sklearn provided easy interface to use n-grams, problem is, it is very sparse, a lot of zeros and not memory efficient. Sklearn returned sparse matrix for the result, lucky Tensorflow already provided some sparse function."
   ]
  },
  {
   "cell_type": "code",
   "execution_count": 11,
   "metadata": {},
   "outputs": [
    {
     "data": {
      "text/plain": [
       "['fast-text-char']"
      ]
     },
     "execution_count": 11,
     "metadata": {},
     "output_type": "execute_result"
    }
   ],
   "source": [
    "malaya.subjective.available_sparse_deep_model()"
   ]
  },
  {
   "cell_type": "markdown",
   "metadata": {},
   "source": [
    "Right now Malaya only provide 1 sparse model, `fast-text-char`. We will try to evolve it."
   ]
  },
  {
   "cell_type": "code",
   "execution_count": 12,
   "metadata": {},
   "outputs": [
    {
     "name": "stdout",
     "output_type": "stream",
     "text": [
      "INFO:tensorflow:Restoring parameters from /Users/huseinzol/Malaya/subjective/fast-text-char/model.ckpt\n"
     ]
    }
   ],
   "source": [
    "sparse_model = malaya.subjective.sparse_deep_model()"
   ]
  },
  {
   "cell_type": "code",
   "execution_count": 13,
   "metadata": {},
   "outputs": [
    {
     "data": {
      "text/plain": [
       "'positive'"
      ]
     },
     "execution_count": 13,
     "metadata": {},
     "output_type": "execute_result"
    }
   ],
   "source": [
    "sparse_model.predict(positive_text)"
   ]
  },
  {
   "cell_type": "code",
   "execution_count": 14,
   "metadata": {},
   "outputs": [
    {
     "data": {
      "text/plain": [
       "['positive', 'negative']"
      ]
     },
     "execution_count": 14,
     "metadata": {},
     "output_type": "execute_result"
    }
   ],
   "source": [
    "sparse_model.predict_batch([positive_text, negative_text])"
   ]
  },
  {
   "cell_type": "code",
   "execution_count": 15,
   "metadata": {},
   "outputs": [
    {
     "data": {
      "text/plain": [
       "[{'negative': 0.054842573, 'positive': 0.94515747},\n",
       " {'negative': 0.95071983, 'positive': 0.04928014}]"
      ]
     },
     "execution_count": 15,
     "metadata": {},
     "output_type": "execute_result"
    }
   ],
   "source": [
    "sparse_model.predict_batch([positive_text, negative_text], get_proba=True)"
   ]
  }
 ],
 "metadata": {
  "kernelspec": {
   "display_name": "Python 3",
   "language": "python",
   "name": "python3"
  },
  "language_info": {
   "codemirror_mode": {
    "name": "ipython",
    "version": 3
   },
   "file_extension": ".py",
   "mimetype": "text/x-python",
   "name": "python",
   "nbconvert_exporter": "python",
   "pygments_lexer": "ipython3",
   "version": "3.6.5"
  }
 },
 "nbformat": 4,
 "nbformat_minor": 2
}
