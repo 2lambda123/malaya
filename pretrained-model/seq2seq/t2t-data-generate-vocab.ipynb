{
 "cells": [
  {
   "cell_type": "code",
   "execution_count": 1,
   "metadata": {},
   "outputs": [],
   "source": [
    "import tensorflow as tf\n",
    "from tensor2tensor.data_generators import problem\n",
    "from tensor2tensor.data_generators import text_problems\n",
    "from tensor2tensor.utils import registry\n",
    "from glob import glob\n",
    "import os"
   ]
  },
  {
   "cell_type": "code",
   "execution_count": null,
   "metadata": {},
   "outputs": [],
   "source": [
    "import sentencepiece as spm\n",
    "vocab = 'sp10m.cased.t5.model'\n",
    "sp = spm.SentencePieceProcessor()\n",
    "sp.Load(vocab)"
   ]
  },
  {
   "cell_type": "code",
   "execution_count": 2,
   "metadata": {},
   "outputs": [
    {
     "data": {
      "text/plain": [
       "['ringkasan-1.parse',\n",
       " 'ringkasan-2.parse',\n",
       " 'dumping-2.parse',\n",
       " 'news-0.parse',\n",
       " 'dumping-0.parse',\n",
       " 'ringkasan-0.parse',\n",
       " 'dumping-1.parse']"
      ]
     },
     "execution_count": 2,
     "metadata": {},
     "output_type": "execute_result"
    }
   ],
   "source": [
    "files = glob('*.parse')\n",
    "selected = ['ringkasan', 'news', 'dumping']\n",
    "files = [f for f in files if any([s in f for s in selected])]\n",
    "files"
   ]
  },
  {
   "cell_type": "code",
   "execution_count": 3,
   "metadata": {},
   "outputs": [],
   "source": [
    "from tqdm import tqdm\n",
    "\n",
    "@registry.register_problem\n",
    "class Seq2Seq(text_problems.Text2TextProblem):\n",
    "\n",
    "    @property\n",
    "    def approx_vocab_size(self):\n",
    "        return 32000\n",
    "    \n",
    "    @property\n",
    "    def is_generate_per_split(self):\n",
    "        return False\n",
    "    \n",
    "    @property\n",
    "    def dataset_splits(self):\n",
    "        return [{\n",
    "            \"split\": problem.DatasetSplit.TRAIN,\n",
    "            \"shards\": 9,\n",
    "        }, {\n",
    "            \"split\": problem.DatasetSplit.EVAL,\n",
    "            \"shards\": 1,\n",
    "        }]\n",
    "    \n",
    "    def generate_samples(self, data_dir, tmp_dir, dataset_split):\n",
    "        del data_dir\n",
    "        del tmp_dir\n",
    "        del dataset_split\n",
    "        \n",
    "        for file in files:\n",
    "            with open(file) as fopen:\n",
    "                data = fopen.read().split('\\n')\n",
    "            for row in tqdm(data):\n",
    "                if len(row):\n",
    "                    i, o = row.split(' [[EENNDD]] ')\n",
    "                    i = i.strip()\n",
    "                    o = o.strip()\n",
    "                    yield {\"inputs\": i, \"targets\": o}\n",
    "                    \n",
    "    def generate_encoded_samples(self, data_dir, tmp_dir, dataset_split):\n",
    "        del data_dir\n",
    "        del tmp_dir\n",
    "        del dataset_split\n",
    "        \n",
    "        generator = self.generate_samples(data_dir, tmp_dir, dataset_split)\n",
    "        for sample in generator:\n",
    "            sample[\"inputs\"] = sp.EncodeAsIds(sample[\"inputs\"])\n",
    "            sample[\"targets\"] = sp.EncodeAsIds(sample[\"targets\"])\n",
    "            yield sample"
   ]
  },
  {
   "cell_type": "code",
   "execution_count": 4,
   "metadata": {},
   "outputs": [],
   "source": [
    "!rm -rf t2t"
   ]
  },
  {
   "cell_type": "code",
   "execution_count": 5,
   "metadata": {},
   "outputs": [],
   "source": [
    "DATA_DIR = os.path.expanduser(\"t2t/data\")\n",
    "TMP_DIR = os.path.expanduser(\"t2t/tmp\")\n",
    "TRAIN_DIR = os.path.expanduser(\"t2t/train\")\n",
    "EXPORT_DIR = os.path.expanduser(\"t2t/export\")\n",
    "TRANSLATIONS_DIR = os.path.expanduser(\"t2t/translation\")\n",
    "EVENT_DIR = os.path.expanduser(\"t2t/event\")\n",
    "USR_DIR = os.path.expanduser(\"t2t/user\")\n",
    " \n",
    "tf.gfile.MakeDirs(DATA_DIR)\n",
    "tf.gfile.MakeDirs(TMP_DIR)\n",
    "tf.gfile.MakeDirs(TRAIN_DIR)\n",
    "tf.gfile.MakeDirs(EXPORT_DIR)\n",
    "tf.gfile.MakeDirs(TRANSLATIONS_DIR)\n",
    "tf.gfile.MakeDirs(EVENT_DIR)\n",
    "tf.gfile.MakeDirs(USR_DIR)"
   ]
  },
  {
   "cell_type": "code",
   "execution_count": null,
   "metadata": {},
   "outputs": [
    {
     "name": "stdout",
     "output_type": "stream",
     "text": [
      "INFO:tensorflow:Generating vocab file: t2t/data/vocab.seq2_seq.32000.subwords\n"
     ]
    },
    {
     "name": "stderr",
     "output_type": "stream",
     "text": [
      "INFO:tensorflow:Generating vocab file: t2t/data/vocab.seq2_seq.32000.subwords\n",
      "100%|██████████| 50001/50001 [00:36<00:00, 1384.90it/s]\n",
      "100%|██████████| 7472/7472 [00:07<00:00, 973.06it/s] \n",
      "100%|██████████| 41049/41049 [00:59<00:00, 692.81it/s] \n",
      "100%|██████████| 81400/81400 [00:55<00:00, 1476.83it/s]\n",
      "100%|██████████| 100002/100002 [01:54<00:00, 874.11it/s]\n",
      "100%|██████████| 50002/50002 [00:39<00:00, 1268.68it/s]\n",
      "100%|██████████| 100001/100001 [02:02<00:00, 815.23it/s]"
     ]
    },
    {
     "name": "stdout",
     "output_type": "stream",
     "text": [
      "INFO:tensorflow:Trying min_count 500\n"
     ]
    },
    {
     "name": "stderr",
     "output_type": "stream",
     "text": [
      "\n",
      "INFO:tensorflow:Trying min_count 500\n"
     ]
    },
    {
     "name": "stdout",
     "output_type": "stream",
     "text": [
      "INFO:tensorflow:Iteration 0\n"
     ]
    },
    {
     "name": "stderr",
     "output_type": "stream",
     "text": [
      "INFO:tensorflow:Iteration 0\n"
     ]
    },
    {
     "name": "stdout",
     "output_type": "stream",
     "text": [
      "INFO:tensorflow:Processing token [MenurutMenurutMenurutMenurutMenurutMenurutMenurutMenurutMenurutMenurutMenurutMenurutMenurutMenurutMenurutMenurutMenurutMenurutMenurutMenurutMenurutMenurutMenurutMenurutMenurutMenurutMenurutMenurutMenurutMenurutMenurutMenurutMenurutMenurutMenurutMenurutMenurutMenurutMenurutMenurutMenurutMenurutMenurutMenurutMenurutMenurutMenurutMenurutMenurutMenurutMenurutMenurutMenurutMenurutMenurutMenurutMenurutMenurutMenurutMenurutMenurutMenurutMenurutMenurutMenurutMenurutMenurutMenurutMenurutMenurutMenurutMenurutMenurutMenurutMenurutMenurutMenurutMenurutMenurutMenurutMenurutMenurutMenurutMenurutMenurutMenurutMenurutMenurutMenurutMenurutMenurutMenurutMenurutMenurutMenurutMenurutMenurutMenurutMenurutMenurutMenurutMenurutMenurutMenurutMenurutMenurutMenurutMenurutMenurutMenurutMenurutMenurutMenurutMenurutMenurutMenurutMenurutMenurutMenurutMenurutMenurutMenurutMenurutMenurutMenurutMenurutMenurutMenurutMenurutMenurutMenurutMenurutMenurutMenurutMenurutMenurutMenurutMenurutMenurutMenurutMenurutMenurutMenurutMenurutMenurutMenurutMenurutMenurutMenurutMenurutMenurutMenurutMenurutMenurutMenurutMenurutMenurutMenurutMenurutMenurutMenurutMenurutMenurutMenurutMenurutMenurutMenurutMenurutMenurutMenurutMenurutMenurutMenurutMenurutMenurutMenurutMenurutMenurutMenurutMenurutMenurutMenurutMenurutMenurutMenurutMenurutMenurutMenurutMenurutMenurutMenurutMenurutMenurutMenurutMenurutMenurutMenurutMenurutMenurutMenurutMenurutMenurutMenurutMenurutMenurutMenurutMenurutMenurutMenurutMenurutMenurutMenurutMenurutMenurutMenurutMenurutMenurutMenurutMenurutMenurutMenurutMenurutMenurutMenurutMenurutMenurutMenurutMenurutMenurutMenurutMenurutMenurutMenurutMenurutMenurutMenurutMenurutMenurutMenurutMenurutMenurutMenurutMenurutMenurutMenurutMenurutMenurutMenurutMenurutMenurutMenurutMenurutMenurutMenurutMenurutMenurutMenurutMenurutMenurutMenurutMenurutMenurutMenurutMenurutMenurutMenurutMenurutMenurutMenurutMenurutMenurutMenurutMenurutMenurutMenurutMenurutMenurutMenurutMenurutMenurutMenurutMenurutMenurutMenurutMenurutMenurutMenurutMenurutMenurutMenurutMenurutMenurutMenurutMenurutMenurutMenurutMenurutMenurutMenurutMenurutMenurutMenurutMenurutMenurutMenurutMenurutMenurutMenurutMenurutMenurutMenurutMenurutMenurutMenurutMenurutMenurutMenurutMenurutMenurutMenurutMenurutMenurutMenurutMenurutMenurutMenurutMenurutMenurutMenurutMenurutMenurutMenurutMenurutMenurutMenurutMenurutMenurutMenurutMenurutMenurutMenurutMenurutMenurutMenurutMenurutMenurutMenurutMenurutMenurutMenurutMenurutMenurutMenurutMenurutMenurutMenurutMenurutMenurutMenurutMenurutMenurutMenurutMenurutMenurutMenurutMenurutMenurutMenurutMenurutMenurutMenurutMenurutMenurutMenurutMenurutMenurutMenurutMenurutMenurutMenurutMenurutMenurutMenurutMenurutMenurutMenurutMenurutMenurutMenurutMenurutMenurutMenurutMenurutMenurutMenurutMenurutMenurutMenurutMenurutMenurutMenurutMenurutMenurutMenurutMenurutMenurutMenurutMenurutMenurutMenurutMenurutMenurutMenurutMenurutMenurutMenurutMenurutMenurutMenurutMenurutMenurutMenurutMenurutMenurutMenurutMenurutMenurutMenurutMenurutMenurutMenurutMenurutMenurutMenurutMenurutMenurutMenurutMenurutMenurutMenurutMenurutMenurutMenurutMenurutMenurutMenurutMenurutMenurutMenurutMenurutMenurutMenurutMenurutMenurutMenurutMenurutMenurutMenurutMenurutMenurutMenurutMenurutMenurutMenurutMenurutMenurutMenurutMenurutMenurutMenurutMenurutMenurutMenurutMenurutMenurutMenurutMenurutMenurutMenurutMenurutMenurutMenurutMenurutMenurutMenurutMenurutMenurutMenurutMenurutMenurutMenurutMenurutMenurutMenurutMenurutMenurutMenurutMenurutMenurutMenurutMenurutMenurutMenurutMenurutMenurutMenurutMenurutMenurutMenurutMenurutMenurutMenurutMenurutMenurutMenurutMenurutMenurutMenurutMenurutMenurutMenurutMenurutMenurutMenurutMenurutMenurutMenurutMenurutMenurutMenurutMenurutMenurutMenurutMenurutMenurutMenurutMenurutMenurutMenurut] took 0.36812829971313477 seconds, consider setting Text2TextProblem.max_subtoken_length to a smaller value.\n"
     ]
    },
    {
     "name": "stderr",
     "output_type": "stream",
     "text": [
      "INFO:tensorflow:Processing token [MenurutMenurutMenurutMenurutMenurutMenurutMenurutMenurutMenurutMenurutMenurutMenurutMenurutMenurutMenurutMenurutMenurutMenurutMenurutMenurutMenurutMenurutMenurutMenurutMenurutMenurutMenurutMenurutMenurutMenurutMenurutMenurutMenurutMenurutMenurutMenurutMenurutMenurutMenurutMenurutMenurutMenurutMenurutMenurutMenurutMenurutMenurutMenurutMenurutMenurutMenurutMenurutMenurutMenurutMenurutMenurutMenurutMenurutMenurutMenurutMenurutMenurutMenurutMenurutMenurutMenurutMenurutMenurutMenurutMenurutMenurutMenurutMenurutMenurutMenurutMenurutMenurutMenurutMenurutMenurutMenurutMenurutMenurutMenurutMenurutMenurutMenurutMenurutMenurutMenurutMenurutMenurutMenurutMenurutMenurutMenurutMenurutMenurutMenurutMenurutMenurutMenurutMenurutMenurutMenurutMenurutMenurutMenurutMenurutMenurutMenurutMenurutMenurutMenurutMenurutMenurutMenurutMenurutMenurutMenurutMenurutMenurutMenurutMenurutMenurutMenurutMenurutMenurutMenurutMenurutMenurutMenurutMenurutMenurutMenurutMenurutMenurutMenurutMenurutMenurutMenurutMenurutMenurutMenurutMenurutMenurutMenurutMenurutMenurutMenurutMenurutMenurutMenurutMenurutMenurutMenurutMenurutMenurutMenurutMenurutMenurutMenurutMenurutMenurutMenurutMenurutMenurutMenurutMenurutMenurutMenurutMenurutMenurutMenurutMenurutMenurutMenurutMenurutMenurutMenurutMenurutMenurutMenurutMenurutMenurutMenurutMenurutMenurutMenurutMenurutMenurutMenurutMenurutMenurutMenurutMenurutMenurutMenurutMenurutMenurutMenurutMenurutMenurutMenurutMenurutMenurutMenurutMenurutMenurutMenurutMenurutMenurutMenurutMenurutMenurutMenurutMenurutMenurutMenurutMenurutMenurutMenurutMenurutMenurutMenurutMenurutMenurutMenurutMenurutMenurutMenurutMenurutMenurutMenurutMenurutMenurutMenurutMenurutMenurutMenurutMenurutMenurutMenurutMenurutMenurutMenurutMenurutMenurutMenurutMenurutMenurutMenurutMenurutMenurutMenurutMenurutMenurutMenurutMenurutMenurutMenurutMenurutMenurutMenurutMenurutMenurutMenurutMenurutMenurutMenurutMenurutMenurutMenurutMenurutMenurutMenurutMenurutMenurutMenurutMenurutMenurutMenurutMenurutMenurutMenurutMenurutMenurutMenurutMenurutMenurutMenurutMenurutMenurutMenurutMenurutMenurutMenurutMenurutMenurutMenurutMenurutMenurutMenurutMenurutMenurutMenurutMenurutMenurutMenurutMenurutMenurutMenurutMenurutMenurutMenurutMenurutMenurutMenurutMenurutMenurutMenurutMenurutMenurutMenurutMenurutMenurutMenurutMenurutMenurutMenurutMenurutMenurutMenurutMenurutMenurutMenurutMenurutMenurutMenurutMenurutMenurutMenurutMenurutMenurutMenurutMenurutMenurutMenurutMenurutMenurutMenurutMenurutMenurutMenurutMenurutMenurutMenurutMenurutMenurutMenurutMenurutMenurutMenurutMenurutMenurutMenurutMenurutMenurutMenurutMenurutMenurutMenurutMenurutMenurutMenurutMenurutMenurutMenurutMenurutMenurutMenurutMenurutMenurutMenurutMenurutMenurutMenurutMenurutMenurutMenurutMenurutMenurutMenurutMenurutMenurutMenurutMenurutMenurutMenurutMenurutMenurutMenurutMenurutMenurutMenurutMenurutMenurutMenurutMenurutMenurutMenurutMenurutMenurutMenurutMenurutMenurutMenurutMenurutMenurutMenurutMenurutMenurutMenurutMenurutMenurutMenurutMenurutMenurutMenurutMenurutMenurutMenurutMenurutMenurutMenurutMenurutMenurutMenurutMenurutMenurutMenurutMenurutMenurutMenurutMenurutMenurutMenurutMenurutMenurutMenurutMenurutMenurutMenurutMenurutMenurutMenurutMenurutMenurutMenurutMenurutMenurutMenurutMenurutMenurutMenurutMenurutMenurutMenurutMenurutMenurutMenurutMenurutMenurutMenurutMenurutMenurutMenurutMenurutMenurutMenurutMenurutMenurutMenurutMenurutMenurutMenurutMenurutMenurutMenurutMenurutMenurutMenurutMenurutMenurutMenurutMenurutMenurutMenurutMenurutMenurutMenurutMenurutMenurutMenurutMenurutMenurutMenurutMenurutMenurutMenurutMenurutMenurutMenurutMenurutMenurutMenurutMenurutMenurutMenurutMenurutMenurutMenurutMenurutMenurutMenurutMenurutMenurutMenurutMenurutMenurutMenurutMenurutMenurutMenurutMenurutMenurutMenurutMenurutMenurut] took 0.36812829971313477 seconds, consider setting Text2TextProblem.max_subtoken_length to a smaller value.\n"
     ]
    },
    {
     "name": "stdout",
     "output_type": "stream",
     "text": [
      "INFO:tensorflow:Processing token [Summitmitmitmitmitmitmitmitmitmitmitmitmitmitmitmitmitmitmitmitmitmitmitmitmitmitmitmitmitmitmitmitmitmitmitmitmitmitmitmitmitmitmitmitmitmitmitmitmitmitmitmitmitmitmitmitmitmitmitmitmitmitmitmitmitmitmitmitmitmitmitmitmitmitmitmitmitmitmitmitmitmitmitmitmitmitmitmitmitmitmitmitmitmitmitmitmitmitmitmitmitmitmitmitmitmitmitmitmitmitmitmitmitmitmitmitmitmitmitmitmitmitmitmitmitmitmitmitmitmitmitmitmitmitmitmitmitmitmitmitmitmitmitmitmitmitmitmitmitmitmitmitmitmitmitmitmitmitmitmitmitmitmitmitmitmitmitmitmitmitmitmitmitmitmitmitmitmitmitmitmitmitmitmitmitmitmitmitmitmitmitmitmitmitmitmitmitmitmitmitmitmitmitmitmitmitmitmitmitmitmitmitmitmitmitmitmitmitmitmitmitmitmitmitmitmitmitmitmitmitmitmitmitmitmitmitmitmitmitmitmitmitmitmitmitmitmitmitmitmitmitmitmitmitmitmitmitmitmitmitmitmitmitmitmitmitmitmitmitmitmitmitmitmitmitmitmitmitmitmitmitmitmitmitmitmitmitmitmitmitmitmitmitmitmitmitmitmitmitmitmitmitmitmitmitmitmitmitmitmitmitmitmitmitmitmitmitmitmitmitmitmitmitmitmitmitmitmitmitmitmitmitmitmitmitmitmitmitmitmitmitmitmitmitmitmitmitmitmitmitmitmitmitmitmitmitmitmitmitmitmitmitmitmitmitmitmitmitmitmitmitmitmitmitmitmitmitmitmitmitmitmitmitmitmitmitmitmitmitmitmitmitmitmitmitmitmitmitmitmitmitmitmitmitmitmitmitmitmitmitmitmitmitmitmitmitmitmitmitmitmitmitmitmitmitmitmitmitmitmitmitmitmitmitmitmitmitmitmitmitmitmitmitmitmitmitmitmitmitmitmitmitmitmitmitmitmitmitmitmitmitmitmitmitmitmitmitmitmitmitmitmitmitmitmitmitmitmitmitmitmitmitmitmitmitmitmitmitmitmitmitmitmitmitmitmitmitmitmitmitmitmitmitmitmitmitmitmitmitmitmitmitmitmitmitmitmitmitmitmitmitmitmitmitmitmitmitmitmitmitmitmitmitmitmitmitmitmitmitmitmitmitmitmitmitmitmitmitmitmitmitmitmitmitmitmitmitmitmitmitmitmitmitmitmitmitmitmitmitmitmitmitmitmitmitmitmitmitmitmitmitmitmitmitmitmitmitmitmitmitmitmitmitmitmitmitmitmitmitmitmitmitmitmitmitmitmitmitmitmitmitmitmitmitmitmitmitmitmitmitmitmitmitmitmitmitmitmitmitmitmitmitmitmitmitmitmitmitmitmitmitmitmitmitmitmitmitmitmitmitmitmitmitmitmitmitmitmitmitmitmitmitmitmitmitmitmitmitmitmitmitmitmitmitmitmitmitmitmitmitmitmitmitmitmitmitmitmitmitmitmitmitmitmitmitmitmitmitmitmitmitmitmitmitmitmitmitmitmitmitmitmitmitmitmitmitmitmitmitmitmitmitmitmitmitmitmitmitmitmitmitmitmitmitmit] took 0.1576552391052246 seconds, consider setting Text2TextProblem.max_subtoken_length to a smaller value.\n"
     ]
    },
    {
     "name": "stderr",
     "output_type": "stream",
     "text": [
      "INFO:tensorflow:Processing token [Summitmitmitmitmitmitmitmitmitmitmitmitmitmitmitmitmitmitmitmitmitmitmitmitmitmitmitmitmitmitmitmitmitmitmitmitmitmitmitmitmitmitmitmitmitmitmitmitmitmitmitmitmitmitmitmitmitmitmitmitmitmitmitmitmitmitmitmitmitmitmitmitmitmitmitmitmitmitmitmitmitmitmitmitmitmitmitmitmitmitmitmitmitmitmitmitmitmitmitmitmitmitmitmitmitmitmitmitmitmitmitmitmitmitmitmitmitmitmitmitmitmitmitmitmitmitmitmitmitmitmitmitmitmitmitmitmitmitmitmitmitmitmitmitmitmitmitmitmitmitmitmitmitmitmitmitmitmitmitmitmitmitmitmitmitmitmitmitmitmitmitmitmitmitmitmitmitmitmitmitmitmitmitmitmitmitmitmitmitmitmitmitmitmitmitmitmitmitmitmitmitmitmitmitmitmitmitmitmitmitmitmitmitmitmitmitmitmitmitmitmitmitmitmitmitmitmitmitmitmitmitmitmitmitmitmitmitmitmitmitmitmitmitmitmitmitmitmitmitmitmitmitmitmitmitmitmitmitmitmitmitmitmitmitmitmitmitmitmitmitmitmitmitmitmitmitmitmitmitmitmitmitmitmitmitmitmitmitmitmitmitmitmitmitmitmitmitmitmitmitmitmitmitmitmitmitmitmitmitmitmitmitmitmitmitmitmitmitmitmitmitmitmitmitmitmitmitmitmitmitmitmitmitmitmitmitmitmitmitmitmitmitmitmitmitmitmitmitmitmitmitmitmitmitmitmitmitmitmitmitmitmitmitmitmitmitmitmitmitmitmitmitmitmitmitmitmitmitmitmitmitmitmitmitmitmitmitmitmitmitmitmitmitmitmitmitmitmitmitmitmitmitmitmitmitmitmitmitmitmitmitmitmitmitmitmitmitmitmitmitmitmitmitmitmitmitmitmitmitmitmitmitmitmitmitmitmitmitmitmitmitmitmitmitmitmitmitmitmitmitmitmitmitmitmitmitmitmitmitmitmitmitmitmitmitmitmitmitmitmitmitmitmitmitmitmitmitmitmitmitmitmitmitmitmitmitmitmitmitmitmitmitmitmitmitmitmitmitmitmitmitmitmitmitmitmitmitmitmitmitmitmitmitmitmitmitmitmitmitmitmitmitmitmitmitmitmitmitmitmitmitmitmitmitmitmitmitmitmitmitmitmitmitmitmitmitmitmitmitmitmitmitmitmitmitmitmitmitmitmitmitmitmitmitmitmitmitmitmitmitmitmitmitmitmitmitmitmitmitmitmitmitmitmitmitmitmitmitmitmitmitmitmitmitmitmitmitmitmitmitmitmitmitmitmitmitmitmitmitmitmitmitmitmitmitmitmitmitmitmitmitmitmitmitmitmitmitmitmitmitmitmitmitmitmitmitmitmitmitmitmitmitmitmitmitmitmitmitmitmitmitmitmitmitmitmitmitmitmitmitmitmitmitmitmitmitmitmitmitmitmitmitmitmitmitmitmitmitmitmitmitmitmitmitmitmitmitmitmitmitmitmitmitmitmitmitmitmitmitmitmitmitmitmitmitmitmitmitmitmitmitmitmitmitmitmitmitmitmitmitmitmitmitmitmitmitmitmitmitmitmitmitmitmitmit] took 0.1576552391052246 seconds, consider setting Text2TextProblem.max_subtoken_length to a smaller value.\n"
     ]
    },
    {
     "name": "stdout",
     "output_type": "stream",
     "text": [
      "INFO:tensorflow:Processing token [lalufrekuensinciPertemuan] took 0.14032816886901855 seconds, consider setting Text2TextProblem.max_subtoken_length to a smaller value.\n"
     ]
    },
    {
     "name": "stderr",
     "output_type": "stream",
     "text": [
      "INFO:tensorflow:Processing token [lalufrekuensinciPertemuan] took 0.14032816886901855 seconds, consider setting Text2TextProblem.max_subtoken_length to a smaller value.\n"
     ]
    },
    {
     "name": "stdout",
     "output_type": "stream",
     "text": [
      "INFO:tensorflow:Processing token [ditaksirkerja] took 0.44312596321105957 seconds, consider setting Text2TextProblem.max_subtoken_length to a smaller value.\n"
     ]
    },
    {
     "name": "stderr",
     "output_type": "stream",
     "text": [
      "INFO:tensorflow:Processing token [ditaksirkerja] took 0.44312596321105957 seconds, consider setting Text2TextProblem.max_subtoken_length to a smaller value.\n"
     ]
    },
    {
     "name": "stdout",
     "output_type": "stream",
     "text": [
      "INFO:tensorflow:Processing token [percikanchoic] took 0.9035961627960205 seconds, consider setting Text2TextProblem.max_subtoken_length to a smaller value.\n"
     ]
    },
    {
     "name": "stderr",
     "output_type": "stream",
     "text": [
      "INFO:tensorflow:Processing token [percikanchoic] took 0.9035961627960205 seconds, consider setting Text2TextProblem.max_subtoken_length to a smaller value.\n"
     ]
    },
    {
     "name": "stdout",
     "output_type": "stream",
     "text": [
      "INFO:tensorflow:Processing token [pemimpinPertemuanpemimpin] took 2.0790340900421143 seconds, consider setting Text2TextProblem.max_subtoken_length to a smaller value.\n"
     ]
    },
    {
     "name": "stderr",
     "output_type": "stream",
     "text": [
      "INFO:tensorflow:Processing token [pemimpinPertemuanpemimpin] took 2.0790340900421143 seconds, consider setting Text2TextProblem.max_subtoken_length to a smaller value.\n"
     ]
    },
    {
     "name": "stdout",
     "output_type": "stream",
     "text": [
      "INFO:tensorflow:Processing token [metaforforforforforforforforforforforforforforforforforforforforforforforforforforforforforforforforforforforforforforforforforforforforforforforforforforforforforforforforforforforforforforforforforforforforforforforforforforforforforforforforforforforforforforforforforforforforforforforforforforforforforforforforforforforforforforforforforforforforforforforforforforforforforforforforforforforforforforforforforforforforforforforforforforforforforforforforforforforforforforforforforforforforforforforforforforforforforforforforforforforforforforforforforforforforforforforforforforforforforforforforforforforforforforforforforforforforforforforforforforforforforforforforforforforforforforforforforforforforforforforforforforforforforforforforforforforforforforforforforforforforforforforforforforforforforforforforforforforforforforforforforforforforforforforforforforforforforforforforforforforforforforforforforforforforforforforforforforforforforforforforforforforforforforforforforforforforforforforforforforforforforforforforforforforforforforforforforforforforforforforforforforforforforforforforforforforforforforforforforforforforforforforforforforforforforforforforforforforforforforforforforforforforforforforforforforforforforforforforforforforfor] took 0.13518118858337402 seconds, consider setting Text2TextProblem.max_subtoken_length to a smaller value.\n"
     ]
    },
    {
     "name": "stderr",
     "output_type": "stream",
     "text": [
      "INFO:tensorflow:Processing token [metaforforforforforforforforforforforforforforforforforforforforforforforforforforforforforforforforforforforforforforforforforforforforforforforforforforforforforforforforforforforforforforforforforforforforforforforforforforforforforforforforforforforforforforforforforforforforforforforforforforforforforforforforforforforforforforforforforforforforforforforforforforforforforforforforforforforforforforforforforforforforforforforforforforforforforforforforforforforforforforforforforforforforforforforforforforforforforforforforforforforforforforforforforforforforforforforforforforforforforforforforforforforforforforforforforforforforforforforforforforforforforforforforforforforforforforforforforforforforforforforforforforforforforforforforforforforforforforforforforforforforforforforforforforforforforforforforforforforforforforforforforforforforforforforforforforforforforforforforforforforforforforforforforforforforforforforforforforforforforforforforforforforforforforforforforforforforforforforforforforforforforforforforforforforforforforforforforforforforforforforforforforforforforforforforforforforforforforforforforforforforforforforforforforforforforforforforforforforforforforforforforforforforforforforforforforforforforforforforforforforfor] took 0.13518118858337402 seconds, consider setting Text2TextProblem.max_subtoken_length to a smaller value.\n"
     ]
    },
    {
     "name": "stdout",
     "output_type": "stream",
     "text": [
      "INFO:tensorflow:Processing token [sekseksekseksekseksekseksekseksekseksekseksekseksekseksekseksekseksekseksekseksekseksekseksekseksekseksekseksekseksekseksekseksekseksekseksekseksekseksekseksekseksekseksekseksekseksekseksekseksekseksekseksekseksekseksekseksekseksekseksekseksekseksekseksekseksekseksekseksekseksekseksekseksekseksekseksekseksekseksekseksekseksekseksekseksekseksekseksekseksekseksekseksekseksekseksekseksekseksekseksekseksekseksekseksekseksekseksekseksekseksekseksekseksekseksekseksekseksekseksekseksekseksekseksekseksekseksekseksekseksekseksekseksekseksekseksekseksekseksekseksekseksekseksekseksekseksekseksekseksekseksekseksekseksekseksekseksekseksekseksekseksekseksekseksekseksekseksekseksekseksekseksekseksekseksekseksekseksekseksekseksekseksekseksekseksekseksekseksekseksekseksekseksekseksekseksekseksekseksekseksekseksekseksekseksekseksekseksekseksekseksekseksekseksekseksekseksekseksekseksekseksekseksekseksekseksekseksekseksekseksekseksekseksekseksekseksekseksekseksekseksekseksekseksekseksekseksekseksekseksekseksekseksekseksekseksekseksekseksekseksekseksekseksekseksekseksekseksekseksekseksekseksekseksekseksekseksekseksekseksekseksekseksekseksekseksekseksekseksekseksekseksekseksekseksekseksekseksekseksekseksekseksekseksekseksekseksekseksekseksekseksekseksekseksekseksekseksekseksekseksekseksekseksekseksekseksekseksekseksekseksekseksekseksekseksekseksekseksekseksekseksekseksekseksekseksekseksekseksekseksekseksekseksekseksekseksekseksekseksekseksekseksekseksekseksekseksekseksekseksekseksekseksekseksekseksekseksekseksekseksekseksekseksekseksekseksekseksekseksekseksekseksekseksekseksekseksekseksekseksekseksekseksekseksekseksekseksekseksekseksekseksekseksekseksekseksekseksekseksekseksekseksekseksekseksekseksekseksekseksekseksekseksekseksekseksekseksekseksekseksekseksekseksekseksekseksekseksekseksekseksekseksekseksekseksekseksekseksekseksekseksekseksekseksekseksekseksekseksekseksekseksekseksekseksekseksekseksekseksekseksekseksekseksekseksekseksekseksekseksekseksekseksekseksekseksekseksekseksekseksekseksekseksekseksekseksekseksekseksekseksekseksekseksekseksekseksekseksekseksekseksekseksekseksekseksekseksekseks] took 0.1766364574432373 seconds, consider setting Text2TextProblem.max_subtoken_length to a smaller value.\n"
     ]
    },
    {
     "name": "stderr",
     "output_type": "stream",
     "text": [
      "INFO:tensorflow:Processing token [sekseksekseksekseksekseksekseksekseksekseksekseksekseksekseksekseksekseksekseksekseksekseksekseksekseksekseksekseksekseksekseksekseksekseksekseksekseksekseksekseksekseksekseksekseksekseksekseksekseksekseksekseksekseksekseksekseksekseksekseksekseksekseksekseksekseksekseksekseksekseksekseksekseksekseksekseksekseksekseksekseksekseksekseksekseksekseksekseksekseksekseksekseksekseksekseksekseksekseksekseksekseksekseksekseksekseksekseksekseksekseksekseksekseksekseksekseksekseksekseksekseksekseksekseksekseksekseksekseksekseksekseksekseksekseksekseksekseksekseksekseksekseksekseksekseksekseksekseksekseksekseksekseksekseksekseksekseksekseksekseksekseksekseksekseksekseksekseksekseksekseksekseksekseksekseksekseksekseksekseksekseksekseksekseksekseksekseksekseksekseksekseksekseksekseksekseksekseksekseksekseksekseksekseksekseksekseksekseksekseksekseksekseksekseksekseksekseksekseksekseksekseksekseksekseksekseksekseksekseksekseksekseksekseksekseksekseksekseksekseksekseksekseksekseksekseksekseksekseksekseksekseksekseksekseksekseksekseksekseksekseksekseksekseksekseksekseksekseksekseksekseksekseksekseksekseksekseksekseksekseksekseksekseksekseksekseksekseksekseksekseksekseksekseksekseksekseksekseksekseksekseksekseksekseksekseksekseksekseksekseksekseksekseksekseksekseksekseksekseksekseksekseksekseksekseksekseksekseksekseksekseksekseksekseksekseksekseksekseksekseksekseksekseksekseksekseksekseksekseksekseksekseksekseksekseksekseksekseksekseksekseksekseksekseksekseksekseksekseksekseksekseksekseksekseksekseksekseksekseksekseksekseksekseksekseksekseksekseksekseksekseksekseksekseksekseksekseksekseksekseksekseksekseksekseksekseksekseksekseksekseksekseksekseksekseksekseksekseksekseksekseksekseksekseksekseksekseksekseksekseksekseksekseksekseksekseksekseksekseksekseksekseksekseksekseksekseksekseksekseksekseksekseksekseksekseksekseksekseksekseksekseksekseksekseksekseksekseksekseksekseksekseksekseksekseksekseksekseksekseksekseksekseksekseksekseksekseksekseksekseksekseksekseksekseksekseksekseksekseksekseksekseksekseksekseksekseksekseksekseksekseksekseksekseksekseksekseksekseksekseksekseksekseksekseksekseksekseks] took 0.1766364574432373 seconds, consider setting Text2TextProblem.max_subtoken_length to a smaller value.\n"
     ]
    },
    {
     "name": "stdout",
     "output_type": "stream",
     "text": [
      "INFO:tensorflow:Processing token [MenurutMenurutMenurutMenurutMenurutMenurutMenurutMenurutMenurutMenurutMenurutMenurutMenurutMenurutMenurutMenurutMenurutMenurutMenurutMenurutMenurutMenurutMenurutMenurutMenurutMenurutMenurutMenurutMenurutMenurutMenurutMenurutMenurutMenurutMenurutMenurutMenurutMenurutMenurutMenurutMenurutMenurutMenurutMenurutMenurutMenurutMenurutMenurutMenurutMenurutMenurutMenurutMenurutMenurutMenurutMenurutMenurutMenurutMenurutMenurutMenurutMenurutMenurutMenurutMenurutMenurutMenurutMenurutMenurutMenurutMenurutMenurutMenurutMenurutMenurutMenurutMenurutMenurutMenurutMenurutMenurutMenurutMenurutMenurutMenurutMenurutMenurutMenurutMenurutMenurutMenurutMenurutMenurutMenurutMenurutMenurutMenurutMenurutMenurutMenurutMenurutMenurutMenurutMenurutMenurutMenurutMenurutMenurutMenurutMenurutMenurutMenurutMenurutMenurutMenurutMenurutMenurutMenurutMenurutMenurutMenurutMenurutMenurutMenurutMenurutMenurutMenurutMenurutMenurutMenurutMenurutMenurutMenurutMenurutMenurutMenurutMenurutMenurutMenurutMenurutMenurutMenurutMenurutMenurutMenurutMenurutMenurutMenurutMenurutMenurutMenurutMenurutMenurutMenurutMenurutMenurutMenurutMenurutMenurutMenurutMenurutMenurutMenurutMenurutMenurutMenurutMenurutMenurutMenurutMenurutMenurutMenurutMenurutMenurutMenurutMenurutMenurutMenurutMenurutMenurutMenurutMenurutMenurutMenurutMenurutMenurutMenurutMenurutMenurutMenurutMenurutMenurutMenurutMenurutMenurutMenurutMenurutMenurutMenurutMenurutMenurutMenurutMenurutMenurutMenurutMenurutMenurutMenurutMenurutMenurutMenurutMenurutMenurutMenurutMenurutMenurutMenurutMenurutMenurutMenurutMenurutMenurutMenurutMenurutMenurutMenurutMenurutMenurutMenurutMenurutMenurutMenurutMenurutMenurutMenurutMenurutMenurutMenurutMenurutMenurutMenurutMenurutMenurutMenurutMenurutMenurutMenurutMenurutMenurutMenurutMenurutMenurutMenurutMenurutMenurutMenurutMenurutMenurutMenurutMenurutMenurutMenurutMenurutMenurutMenurutMenurutMenurutMenurutMenurutMenurutMenurutMenurutMenurutMenurutMenurutMenurutMenurutMenurutMenurutMenurutMenurutMenurutMenurutMenurutMenurutMenurutMenurutMenurutMenurutMenurutMenurutMenurutMenurutMenurutMenurutMenurutMenurutMenurutMenurutMenurutMenurutMenurutMenurutMenurutMenurutMenurutMenurutMenurutMenurutMenurutMenurutMenurutMenurutMenurutMenurutMenurutMenurutMenurutMenurutMenurutMenurutMenurutMenurutMenurutMenurutMenurutMenurutMenurutMenurutMenurutMenurutMenurutMenurutMenurutMenurutMenurutMenurutMenurutMenurutMenurutMenurutMenurutMenurutMenurutMenurutMenurutMenurutMenurutMenurutMenurutMenurutMenurutMenurutMenurutMenurutMenurutMenurutMenurutMenurutMenurutMenurutMenurutMenurutMenurutMenurutMenurutMenurutMenurutMenurutMenurutMenurutMenurutMenurutMenurutMenurutMenurutMenurutMenurutMenurutMenurutMenurutMenurutMenurutMenurutMenurutMenurutMenurutMenurutMenurutMenurutMenurutMenurutMenurutMenurutMenurutMenurutMenurutMenurutMenurutMenurutMenurutMenurutMenurutMenurutMenurutMenurutMenurutMenurutMenurutMenurutMenurutMenurutMenurutMenurutMenurutMenurutMenurutMenurutMenurutMenurutMenurutMenurutMenurutMenurutMenurutMenurutMenurutMenurutMenurutMenurutMenurutMenurutMenurutMenurutMenurutMenurutMenurutMenurutMenurutMenurutMenurutMenurutMenurutMenurutMenurutMenurutMenurutMenurutMenurutMenurutMenurutMenurutMenurutMenurutMenurutMenurutMenurutMenurutMenurutMenurutMenurutMenurutMenurutMenurutMenurutMenurutMenurutMenurutMenurutMenurutMenurutMenurutMenurutMenurutMenurutMenurutMenurutMenurutMenurutMenurutMenurutMenurutMenurutMenurutMenurutMenurutMenurutMenurutMenurutMenurutMenurutMenurutMenurutMenurutMenurutMenurutMenurutMenurutMenurutMenurutMenurutMenurutMenurutMenurutMenurutMenurutMenurutMenurutMenurutMenurutMenurutMenurutMenurutMenurutMenurutMenurutMenurutMenurutMenurutMenurutMenurutMenurutMenurutMenurutMenurutMenurutMenurutMenurutMenurutMenurutMenurutMenurutMenurutMenurutMenurutMenurutMenurutMenurutMenurutMenurutMenurutMenurutMenurutMenurutMenurutMenurutMenurutMenurutMenurutMenurutMenurutMenurutMenurutMenurutMenurutMenurutMenurutMenurutMenurutMenurutMenurutMenurutMenurutMenurutMenurutMenurutMenurutMenurutMenurutMenurutMenurutMenurutMenurutMenurutMenurutMenurutMenurutMenurutMenurutMenurutMenurutMenurutMenurutMenurutMenurutMenurutMenurutMenurutMenurutMenurutMenurutMenurutMenurutMenurutMenurutMenurutMenurutMenurutMenurutMenurutMenurutMenurutMenurutMenurutMenurutMenurutMenurutMenurutMenurutMenurutMenurut] took 0.310713529586792 seconds, consider setting Text2TextProblem.max_subtoken_length to a smaller value.\n"
     ]
    },
    {
     "name": "stderr",
     "output_type": "stream",
     "text": [
      "INFO:tensorflow:Processing token [MenurutMenurutMenurutMenurutMenurutMenurutMenurutMenurutMenurutMenurutMenurutMenurutMenurutMenurutMenurutMenurutMenurutMenurutMenurutMenurutMenurutMenurutMenurutMenurutMenurutMenurutMenurutMenurutMenurutMenurutMenurutMenurutMenurutMenurutMenurutMenurutMenurutMenurutMenurutMenurutMenurutMenurutMenurutMenurutMenurutMenurutMenurutMenurutMenurutMenurutMenurutMenurutMenurutMenurutMenurutMenurutMenurutMenurutMenurutMenurutMenurutMenurutMenurutMenurutMenurutMenurutMenurutMenurutMenurutMenurutMenurutMenurutMenurutMenurutMenurutMenurutMenurutMenurutMenurutMenurutMenurutMenurutMenurutMenurutMenurutMenurutMenurutMenurutMenurutMenurutMenurutMenurutMenurutMenurutMenurutMenurutMenurutMenurutMenurutMenurutMenurutMenurutMenurutMenurutMenurutMenurutMenurutMenurutMenurutMenurutMenurutMenurutMenurutMenurutMenurutMenurutMenurutMenurutMenurutMenurutMenurutMenurutMenurutMenurutMenurutMenurutMenurutMenurutMenurutMenurutMenurutMenurutMenurutMenurutMenurutMenurutMenurutMenurutMenurutMenurutMenurutMenurutMenurutMenurutMenurutMenurutMenurutMenurutMenurutMenurutMenurutMenurutMenurutMenurutMenurutMenurutMenurutMenurutMenurutMenurutMenurutMenurutMenurutMenurutMenurutMenurutMenurutMenurutMenurutMenurutMenurutMenurutMenurutMenurutMenurutMenurutMenurutMenurutMenurutMenurutMenurutMenurutMenurutMenurutMenurutMenurutMenurutMenurutMenurutMenurutMenurutMenurutMenurutMenurutMenurutMenurutMenurutMenurutMenurutMenurutMenurutMenurutMenurutMenurutMenurutMenurutMenurutMenurutMenurutMenurutMenurutMenurutMenurutMenurutMenurutMenurutMenurutMenurutMenurutMenurutMenurutMenurutMenurutMenurutMenurutMenurutMenurutMenurutMenurutMenurutMenurutMenurutMenurutMenurutMenurutMenurutMenurutMenurutMenurutMenurutMenurutMenurutMenurutMenurutMenurutMenurutMenurutMenurutMenurutMenurutMenurutMenurutMenurutMenurutMenurutMenurutMenurutMenurutMenurutMenurutMenurutMenurutMenurutMenurutMenurutMenurutMenurutMenurutMenurutMenurutMenurutMenurutMenurutMenurutMenurutMenurutMenurutMenurutMenurutMenurutMenurutMenurutMenurutMenurutMenurutMenurutMenurutMenurutMenurutMenurutMenurutMenurutMenurutMenurutMenurutMenurutMenurutMenurutMenurutMenurutMenurutMenurutMenurutMenurutMenurutMenurutMenurutMenurutMenurutMenurutMenurutMenurutMenurutMenurutMenurutMenurutMenurutMenurutMenurutMenurutMenurutMenurutMenurutMenurutMenurutMenurutMenurutMenurutMenurutMenurutMenurutMenurutMenurutMenurutMenurutMenurutMenurutMenurutMenurutMenurutMenurutMenurutMenurutMenurutMenurutMenurutMenurutMenurutMenurutMenurutMenurutMenurutMenurutMenurutMenurutMenurutMenurutMenurutMenurutMenurutMenurutMenurutMenurutMenurutMenurutMenurutMenurutMenurutMenurutMenurutMenurutMenurutMenurutMenurutMenurutMenurutMenurutMenurutMenurutMenurutMenurutMenurutMenurutMenurutMenurutMenurutMenurutMenurutMenurutMenurutMenurutMenurutMenurutMenurutMenurutMenurutMenurutMenurutMenurutMenurutMenurutMenurutMenurutMenurutMenurutMenurutMenurutMenurutMenurutMenurutMenurutMenurutMenurutMenurutMenurutMenurutMenurutMenurutMenurutMenurutMenurutMenurutMenurutMenurutMenurutMenurutMenurutMenurutMenurutMenurutMenurutMenurutMenurutMenurutMenurutMenurutMenurutMenurutMenurutMenurutMenurutMenurutMenurutMenurutMenurutMenurutMenurutMenurutMenurutMenurutMenurutMenurutMenurutMenurutMenurutMenurutMenurutMenurutMenurutMenurutMenurutMenurutMenurutMenurutMenurutMenurutMenurutMenurutMenurutMenurutMenurutMenurutMenurutMenurutMenurutMenurutMenurutMenurutMenurutMenurutMenurutMenurutMenurutMenurutMenurutMenurutMenurutMenurutMenurutMenurutMenurutMenurutMenurutMenurutMenurutMenurutMenurutMenurutMenurutMenurutMenurutMenurutMenurutMenurutMenurutMenurutMenurutMenurutMenurutMenurutMenurutMenurutMenurutMenurutMenurutMenurutMenurutMenurutMenurutMenurutMenurutMenurutMenurutMenurutMenurutMenurutMenurutMenurutMenurutMenurutMenurutMenurutMenurutMenurutMenurutMenurutMenurutMenurutMenurutMenurutMenurutMenurutMenurutMenurutMenurutMenurutMenurutMenurutMenurutMenurutMenurutMenurutMenurutMenurutMenurutMenurutMenurutMenurutMenurutMenurutMenurutMenurutMenurutMenurutMenurutMenurutMenurutMenurutMenurutMenurutMenurutMenurutMenurutMenurutMenurutMenurutMenurutMenurutMenurutMenurutMenurutMenurutMenurutMenurutMenurutMenurutMenurutMenurutMenurutMenurutMenurutMenurutMenurutMenurutMenurutMenurutMenurutMenurutMenurutMenurutMenurutMenurutMenurutMenurutMenurutMenurutMenurutMenurutMenurutMenurutMenurut] took 0.310713529586792 seconds, consider setting Text2TextProblem.max_subtoken_length to a smaller value.\n"
     ]
    },
    {
     "name": "stdout",
     "output_type": "stream",
     "text": [
      "INFO:tensorflow:Processing token [sukayanghijau] took 3.7758095264434814 seconds, consider setting Text2TextProblem.max_subtoken_length to a smaller value.\n"
     ]
    },
    {
     "name": "stderr",
     "output_type": "stream",
     "text": [
      "INFO:tensorflow:Processing token [sukayanghijau] took 3.7758095264434814 seconds, consider setting Text2TextProblem.max_subtoken_length to a smaller value.\n"
     ]
    },
    {
     "name": "stdout",
     "output_type": "stream",
     "text": [
      "INFO:tensorflow:vocab_size = 134339\n"
     ]
    },
    {
     "name": "stderr",
     "output_type": "stream",
     "text": [
      "INFO:tensorflow:vocab_size = 134339\n"
     ]
    },
    {
     "name": "stdout",
     "output_type": "stream",
     "text": [
      "INFO:tensorflow:Iteration 1\n"
     ]
    },
    {
     "name": "stderr",
     "output_type": "stream",
     "text": [
      "INFO:tensorflow:Iteration 1\n"
     ]
    },
    {
     "name": "stdout",
     "output_type": "stream",
     "text": [
      "INFO:tensorflow:Processing token [кури] took 0.1393437385559082 seconds, consider setting Text2TextProblem.max_subtoken_length to a smaller value.\n"
     ]
    },
    {
     "name": "stderr",
     "output_type": "stream",
     "text": [
      "INFO:tensorflow:Processing token [кури] took 0.1393437385559082 seconds, consider setting Text2TextProblem.max_subtoken_length to a smaller value.\n"
     ]
    },
    {
     "name": "stdout",
     "output_type": "stream",
     "text": [
      "INFO:tensorflow:Processing token [SunwaySpacelintasfrekuensi] took 0.42242002487182617 seconds, consider setting Text2TextProblem.max_subtoken_length to a smaller value.\n"
     ]
    },
    {
     "name": "stderr",
     "output_type": "stream",
     "text": [
      "INFO:tensorflow:Processing token [SunwaySpacelintasfrekuensi] took 0.42242002487182617 seconds, consider setting Text2TextProblem.max_subtoken_length to a smaller value.\n"
     ]
    },
    {
     "name": "stdout",
     "output_type": "stream",
     "text": [
      "INFO:tensorflow:Processing token [ , ? * ] took 0.8611695766448975 seconds, consider setting Text2TextProblem.max_subtoken_length to a smaller value.\n"
     ]
    },
    {
     "name": "stderr",
     "output_type": "stream",
     "text": [
      "INFO:tensorflow:Processing token [ , ? * ] took 0.8611695766448975 seconds, consider setting Text2TextProblem.max_subtoken_length to a smaller value.\n"
     ]
    },
    {
     "name": "stdout",
     "output_type": "stream",
     "text": [
      "INFO:tensorflow:vocab_size = 53653\n"
     ]
    },
    {
     "name": "stderr",
     "output_type": "stream",
     "text": [
      "INFO:tensorflow:vocab_size = 53653\n"
     ]
    },
    {
     "name": "stdout",
     "output_type": "stream",
     "text": [
      "INFO:tensorflow:Iteration 2\n"
     ]
    },
    {
     "name": "stderr",
     "output_type": "stream",
     "text": [
      "INFO:tensorflow:Iteration 2\n"
     ]
    },
    {
     "name": "stdout",
     "output_type": "stream",
     "text": [
      "INFO:tensorflow:Processing token [MMMSHSJHHSHSHSJSJJ] took 0.22988390922546387 seconds, consider setting Text2TextProblem.max_subtoken_length to a smaller value.\n"
     ]
    },
    {
     "name": "stderr",
     "output_type": "stream",
     "text": [
      "INFO:tensorflow:Processing token [MMMSHSJHHSHSHSJSJJ] took 0.22988390922546387 seconds, consider setting Text2TextProblem.max_subtoken_length to a smaller value.\n"
     ]
    },
    {
     "name": "stdout",
     "output_type": "stream",
     "text": [
      "INFO:tensorflow:Processing token [orthorhombic] took 0.5402085781097412 seconds, consider setting Text2TextProblem.max_subtoken_length to a smaller value.\n"
     ]
    },
    {
     "name": "stderr",
     "output_type": "stream",
     "text": [
      "INFO:tensorflow:Processing token [orthorhombic] took 0.5402085781097412 seconds, consider setting Text2TextProblem.max_subtoken_length to a smaller value.\n"
     ]
    },
    {
     "name": "stdout",
     "output_type": "stream",
     "text": [
      "INFO:tensorflow:Processing token [snidanezakladdne] took 0.9035694599151611 seconds, consider setting Text2TextProblem.max_subtoken_length to a smaller value.\n"
     ]
    },
    {
     "name": "stderr",
     "output_type": "stream",
     "text": [
      "INFO:tensorflow:Processing token [snidanezakladdne] took 0.9035694599151611 seconds, consider setting Text2TextProblem.max_subtoken_length to a smaller value.\n"
     ]
    },
    {
     "name": "stdout",
     "output_type": "stream",
     "text": [
      "INFO:tensorflow:vocab_size = 54629\n"
     ]
    },
    {
     "name": "stderr",
     "output_type": "stream",
     "text": [
      "INFO:tensorflow:vocab_size = 54629\n"
     ]
    },
    {
     "name": "stdout",
     "output_type": "stream",
     "text": [
      "INFO:tensorflow:Iteration 3\n"
     ]
    },
    {
     "name": "stderr",
     "output_type": "stream",
     "text": [
      "INFO:tensorflow:Iteration 3\n"
     ]
    },
    {
     "name": "stdout",
     "output_type": "stream",
     "text": [
      "INFO:tensorflow:Processing token [daari] took 0.1347661018371582 seconds, consider setting Text2TextProblem.max_subtoken_length to a smaller value.\n"
     ]
    },
    {
     "name": "stderr",
     "output_type": "stream",
     "text": [
      "INFO:tensorflow:Processing token [daari] took 0.1347661018371582 seconds, consider setting Text2TextProblem.max_subtoken_length to a smaller value.\n"
     ]
    },
    {
     "name": "stdout",
     "output_type": "stream",
     "text": [
      "INFO:tensorflow:Processing token [Ovoglobulin] took 0.4194355010986328 seconds, consider setting Text2TextProblem.max_subtoken_length to a smaller value.\n"
     ]
    },
    {
     "name": "stderr",
     "output_type": "stream",
     "text": [
      "INFO:tensorflow:Processing token [Ovoglobulin] took 0.4194355010986328 seconds, consider setting Text2TextProblem.max_subtoken_length to a smaller value.\n"
     ]
    },
    {
     "name": "stdout",
     "output_type": "stream",
     "text": [
      "INFO:tensorflow:Processing token [satriahiuindonesia] took 0.8692893981933594 seconds, consider setting Text2TextProblem.max_subtoken_length to a smaller value.\n"
     ]
    },
    {
     "name": "stderr",
     "output_type": "stream",
     "text": [
      "INFO:tensorflow:Processing token [satriahiuindonesia] took 0.8692893981933594 seconds, consider setting Text2TextProblem.max_subtoken_length to a smaller value.\n"
     ]
    },
    {
     "name": "stdout",
     "output_type": "stream",
     "text": [
      "INFO:tensorflow:vocab_size = 54513\n"
     ]
    },
    {
     "name": "stderr",
     "output_type": "stream",
     "text": [
      "INFO:tensorflow:vocab_size = 54513\n"
     ]
    },
    {
     "name": "stdout",
     "output_type": "stream",
     "text": [
      "INFO:tensorflow:Trying min_count 750\n"
     ]
    },
    {
     "name": "stderr",
     "output_type": "stream",
     "text": [
      "INFO:tensorflow:Trying min_count 750\n"
     ]
    },
    {
     "name": "stdout",
     "output_type": "stream",
     "text": [
      "INFO:tensorflow:Iteration 0\n"
     ]
    },
    {
     "name": "stderr",
     "output_type": "stream",
     "text": [
      "INFO:tensorflow:Iteration 0\n"
     ]
    },
    {
     "name": "stdout",
     "output_type": "stream",
     "text": [
      "INFO:tensorflow:Processing token [MenurutMenurutMenurutMenurutMenurutMenurutMenurutMenurutMenurutMenurutMenurutMenurutMenurutMenurutMenurutMenurutMenurutMenurutMenurutMenurutMenurutMenurutMenurutMenurutMenurutMenurutMenurutMenurutMenurutMenurutMenurutMenurutMenurutMenurutMenurutMenurutMenurutMenurutMenurutMenurutMenurutMenurutMenurutMenurutMenurutMenurutMenurutMenurutMenurutMenurutMenurutMenurutMenurutMenurutMenurutMenurutMenurutMenurutMenurutMenurutMenurutMenurutMenurutMenurutMenurutMenurutMenurutMenurutMenurutMenurutMenurutMenurutMenurutMenurutMenurutMenurutMenurutMenurutMenurutMenurutMenurutMenurutMenurutMenurutMenurutMenurutMenurutMenurutMenurutMenurutMenurutMenurutMenurutMenurutMenurutMenurutMenurutMenurutMenurutMenurutMenurutMenurutMenurutMenurutMenurutMenurutMenurutMenurutMenurutMenurutMenurutMenurutMenurutMenurutMenurutMenurutMenurutMenurutMenurutMenurutMenurutMenurutMenurutMenurutMenurutMenurutMenurutMenurutMenurutMenurutMenurutMenurutMenurutMenurutMenurutMenurutMenurutMenurutMenurutMenurutMenurutMenurutMenurutMenurutMenurutMenurutMenurutMenurutMenurutMenurutMenurutMenurutMenurutMenurutMenurutMenurutMenurutMenurutMenurutMenurutMenurutMenurutMenurutMenurutMenurutMenurutMenurutMenurutMenurutMenurutMenurutMenurutMenurutMenurutMenurutMenurutMenurutMenurutMenurutMenurutMenurutMenurutMenurutMenurutMenurutMenurutMenurutMenurutMenurutMenurutMenurutMenurutMenurutMenurutMenurutMenurutMenurutMenurutMenurutMenurutMenurutMenurutMenurutMenurutMenurutMenurutMenurutMenurutMenurutMenurutMenurutMenurutMenurutMenurutMenurutMenurutMenurutMenurutMenurutMenurutMenurutMenurutMenurutMenurutMenurutMenurutMenurutMenurutMenurutMenurutMenurutMenurutMenurutMenurutMenurutMenurutMenurutMenurutMenurutMenurutMenurutMenurutMenurutMenurutMenurutMenurutMenurutMenurutMenurutMenurutMenurutMenurutMenurutMenurutMenurutMenurutMenurutMenurutMenurutMenurutMenurutMenurutMenurutMenurutMenurutMenurutMenurutMenurutMenurutMenurutMenurutMenurutMenurutMenurutMenurutMenurutMenurutMenurutMenurutMenurutMenurutMenurutMenurutMenurutMenurutMenurutMenurutMenurutMenurutMenurutMenurutMenurutMenurutMenurutMenurutMenurutMenurutMenurutMenurutMenurutMenurutMenurutMenurutMenurutMenurutMenurutMenurutMenurutMenurutMenurutMenurutMenurutMenurutMenurutMenurutMenurutMenurutMenurutMenurutMenurutMenurutMenurutMenurutMenurutMenurutMenurutMenurutMenurutMenurutMenurutMenurutMenurutMenurutMenurutMenurutMenurutMenurutMenurutMenurutMenurutMenurutMenurutMenurutMenurutMenurutMenurutMenurutMenurutMenurutMenurutMenurutMenurutMenurutMenurutMenurutMenurutMenurutMenurutMenurutMenurutMenurutMenurutMenurutMenurutMenurutMenurutMenurutMenurutMenurutMenurutMenurutMenurutMenurutMenurutMenurutMenurutMenurutMenurutMenurutMenurutMenurutMenurutMenurutMenurutMenurutMenurutMenurutMenurutMenurutMenurutMenurutMenurutMenurutMenurutMenurutMenurutMenurutMenurutMenurutMenurutMenurutMenurutMenurutMenurutMenurutMenurutMenurutMenurutMenurutMenurutMenurutMenurutMenurutMenurutMenurutMenurutMenurutMenurutMenurutMenurutMenurutMenurutMenurutMenurutMenurutMenurutMenurutMenurutMenurutMenurutMenurutMenurutMenurutMenurutMenurutMenurutMenurutMenurutMenurutMenurutMenurutMenurutMenurutMenurutMenurutMenurutMenurutMenurutMenurutMenurutMenurutMenurutMenurutMenurutMenurutMenurutMenurutMenurutMenurutMenurutMenurutMenurutMenurutMenurutMenurutMenurutMenurutMenurutMenurutMenurutMenurutMenurutMenurutMenurutMenurutMenurutMenurutMenurutMenurutMenurutMenurutMenurutMenurutMenurutMenurutMenurutMenurutMenurutMenurutMenurutMenurutMenurutMenurutMenurutMenurutMenurutMenurutMenurutMenurutMenurutMenurutMenurutMenurutMenurutMenurutMenurutMenurutMenurutMenurutMenurutMenurutMenurutMenurutMenurutMenurutMenurutMenurutMenurutMenurutMenurutMenurutMenurutMenurutMenurutMenurutMenurutMenurutMenurutMenurutMenurutMenurutMenurutMenurutMenurutMenurutMenurutMenurutMenurutMenurut] took 0.31018495559692383 seconds, consider setting Text2TextProblem.max_subtoken_length to a smaller value.\n"
     ]
    },
    {
     "name": "stderr",
     "output_type": "stream",
     "text": [
      "INFO:tensorflow:Processing token [MenurutMenurutMenurutMenurutMenurutMenurutMenurutMenurutMenurutMenurutMenurutMenurutMenurutMenurutMenurutMenurutMenurutMenurutMenurutMenurutMenurutMenurutMenurutMenurutMenurutMenurutMenurutMenurutMenurutMenurutMenurutMenurutMenurutMenurutMenurutMenurutMenurutMenurutMenurutMenurutMenurutMenurutMenurutMenurutMenurutMenurutMenurutMenurutMenurutMenurutMenurutMenurutMenurutMenurutMenurutMenurutMenurutMenurutMenurutMenurutMenurutMenurutMenurutMenurutMenurutMenurutMenurutMenurutMenurutMenurutMenurutMenurutMenurutMenurutMenurutMenurutMenurutMenurutMenurutMenurutMenurutMenurutMenurutMenurutMenurutMenurutMenurutMenurutMenurutMenurutMenurutMenurutMenurutMenurutMenurutMenurutMenurutMenurutMenurutMenurutMenurutMenurutMenurutMenurutMenurutMenurutMenurutMenurutMenurutMenurutMenurutMenurutMenurutMenurutMenurutMenurutMenurutMenurutMenurutMenurutMenurutMenurutMenurutMenurutMenurutMenurutMenurutMenurutMenurutMenurutMenurutMenurutMenurutMenurutMenurutMenurutMenurutMenurutMenurutMenurutMenurutMenurutMenurutMenurutMenurutMenurutMenurutMenurutMenurutMenurutMenurutMenurutMenurutMenurutMenurutMenurutMenurutMenurutMenurutMenurutMenurutMenurutMenurutMenurutMenurutMenurutMenurutMenurutMenurutMenurutMenurutMenurutMenurutMenurutMenurutMenurutMenurutMenurutMenurutMenurutMenurutMenurutMenurutMenurutMenurutMenurutMenurutMenurutMenurutMenurutMenurutMenurutMenurutMenurutMenurutMenurutMenurutMenurutMenurutMenurutMenurutMenurutMenurutMenurutMenurutMenurutMenurutMenurutMenurutMenurutMenurutMenurutMenurutMenurutMenurutMenurutMenurutMenurutMenurutMenurutMenurutMenurutMenurutMenurutMenurutMenurutMenurutMenurutMenurutMenurutMenurutMenurutMenurutMenurutMenurutMenurutMenurutMenurutMenurutMenurutMenurutMenurutMenurutMenurutMenurutMenurutMenurutMenurutMenurutMenurutMenurutMenurutMenurutMenurutMenurutMenurutMenurutMenurutMenurutMenurutMenurutMenurutMenurutMenurutMenurutMenurutMenurutMenurutMenurutMenurutMenurutMenurutMenurutMenurutMenurutMenurutMenurutMenurutMenurutMenurutMenurutMenurutMenurutMenurutMenurutMenurutMenurutMenurutMenurutMenurutMenurutMenurutMenurutMenurutMenurutMenurutMenurutMenurutMenurutMenurutMenurutMenurutMenurutMenurutMenurutMenurutMenurutMenurutMenurutMenurutMenurutMenurutMenurutMenurutMenurutMenurutMenurutMenurutMenurutMenurutMenurutMenurutMenurutMenurutMenurutMenurutMenurutMenurutMenurutMenurutMenurutMenurutMenurutMenurutMenurutMenurutMenurutMenurutMenurutMenurutMenurutMenurutMenurutMenurutMenurutMenurutMenurutMenurutMenurutMenurutMenurutMenurutMenurutMenurutMenurutMenurutMenurutMenurutMenurutMenurutMenurutMenurutMenurutMenurutMenurutMenurutMenurutMenurutMenurutMenurutMenurutMenurutMenurutMenurutMenurutMenurutMenurutMenurutMenurutMenurutMenurutMenurutMenurutMenurutMenurutMenurutMenurutMenurutMenurutMenurutMenurutMenurutMenurutMenurutMenurutMenurutMenurutMenurutMenurutMenurutMenurutMenurutMenurutMenurutMenurutMenurutMenurutMenurutMenurutMenurutMenurutMenurutMenurutMenurutMenurutMenurutMenurutMenurutMenurutMenurutMenurutMenurutMenurutMenurutMenurutMenurutMenurutMenurutMenurutMenurutMenurutMenurutMenurutMenurutMenurutMenurutMenurutMenurutMenurutMenurutMenurutMenurutMenurutMenurutMenurutMenurutMenurutMenurutMenurutMenurutMenurutMenurutMenurutMenurutMenurutMenurutMenurutMenurutMenurutMenurutMenurutMenurutMenurutMenurutMenurutMenurutMenurutMenurutMenurutMenurutMenurutMenurutMenurutMenurutMenurutMenurutMenurutMenurutMenurutMenurutMenurutMenurutMenurutMenurutMenurutMenurutMenurutMenurutMenurutMenurutMenurutMenurutMenurutMenurutMenurutMenurutMenurutMenurutMenurutMenurutMenurutMenurutMenurutMenurutMenurutMenurutMenurutMenurutMenurutMenurutMenurutMenurutMenurutMenurutMenurutMenurutMenurutMenurutMenurutMenurutMenurutMenurutMenurutMenurutMenurutMenurutMenurutMenurutMenurutMenurutMenurutMenurutMenurutMenurutMenurutMenurutMenurutMenurutMenurut] took 0.31018495559692383 seconds, consider setting Text2TextProblem.max_subtoken_length to a smaller value.\n"
     ]
    },
    {
     "name": "stdout",
     "output_type": "stream",
     "text": [
      "INFO:tensorflow:Processing token [Summitmitmitmitmitmitmitmitmitmitmitmitmitmitmitmitmitmitmitmitmitmitmitmitmitmitmitmitmitmitmitmitmitmitmitmitmitmitmitmitmitmitmitmitmitmitmitmitmitmitmitmitmitmitmitmitmitmitmitmitmitmitmitmitmitmitmitmitmitmitmitmitmitmitmitmitmitmitmitmitmitmitmitmitmitmitmitmitmitmitmitmitmitmitmitmitmitmitmitmitmitmitmitmitmitmitmitmitmitmitmitmitmitmitmitmitmitmitmitmitmitmitmitmitmitmitmitmitmitmitmitmitmitmitmitmitmitmitmitmitmitmitmitmitmitmitmitmitmitmitmitmitmitmitmitmitmitmitmitmitmitmitmitmitmitmitmitmitmitmitmitmitmitmitmitmitmitmitmitmitmitmitmitmitmitmitmitmitmitmitmitmitmitmitmitmitmitmitmitmitmitmitmitmitmitmitmitmitmitmitmitmitmitmitmitmitmitmitmitmitmitmitmitmitmitmitmitmitmitmitmitmitmitmitmitmitmitmitmitmitmitmitmitmitmitmitmitmitmitmitmitmitmitmitmitmitmitmitmitmitmitmitmitmitmitmitmitmitmitmitmitmitmitmitmitmitmitmitmitmitmitmitmitmitmitmitmitmitmitmitmitmitmitmitmitmitmitmitmitmitmitmitmitmitmitmitmitmitmitmitmitmitmitmitmitmitmitmitmitmitmitmitmitmitmitmitmitmitmitmitmitmitmitmitmitmitmitmitmitmitmitmitmitmitmitmitmitmitmitmitmitmitmitmitmitmitmitmitmitmitmitmitmitmitmitmitmitmitmitmitmitmitmitmitmitmitmitmitmitmitmitmitmitmitmitmitmitmitmitmitmitmitmitmitmitmitmitmitmitmitmitmitmitmitmitmitmitmitmitmitmitmitmitmitmitmitmitmitmitmitmitmitmitmitmitmitmitmitmitmitmitmitmitmitmitmitmitmitmitmitmitmitmitmitmitmitmitmitmitmitmitmitmitmitmitmitmitmitmitmitmitmitmitmitmitmitmitmitmitmitmitmitmitmitmitmitmitmitmitmitmitmitmitmitmitmitmitmitmitmitmitmitmitmitmitmitmitmitmitmitmitmitmitmitmitmitmitmitmitmitmitmitmitmitmitmitmitmitmitmitmitmitmitmitmitmitmitmitmitmitmitmitmitmitmitmitmitmitmitmitmitmitmitmitmitmitmitmitmitmitmitmitmitmitmitmitmitmitmitmitmitmitmitmitmitmitmitmitmitmitmitmitmitmitmitmitmitmitmitmitmitmitmitmitmitmitmitmitmitmitmitmitmitmitmitmitmitmitmitmitmitmitmitmitmitmitmitmitmitmitmitmitmitmitmitmitmitmitmitmitmitmitmitmitmitmitmitmitmitmitmitmitmitmitmitmitmitmitmitmitmitmitmitmitmitmitmitmitmitmitmitmitmitmitmitmitmitmitmitmitmitmitmitmitmitmitmitmitmitmitmitmitmitmitmitmitmitmitmitmitmitmitmitmitmitmitmitmitmitmitmitmitmitmitmitmitmitmitmitmitmitmitmitmitmitmitmitmitmitmitmitmitmitmitmitmitmitmitmitmitmitmitmitmitmitmitmitmitmitmitmitmitmitmitmit] took 0.15652155876159668 seconds, consider setting Text2TextProblem.max_subtoken_length to a smaller value.\n"
     ]
    },
    {
     "name": "stderr",
     "output_type": "stream",
     "text": [
      "INFO:tensorflow:Processing token [Summitmitmitmitmitmitmitmitmitmitmitmitmitmitmitmitmitmitmitmitmitmitmitmitmitmitmitmitmitmitmitmitmitmitmitmitmitmitmitmitmitmitmitmitmitmitmitmitmitmitmitmitmitmitmitmitmitmitmitmitmitmitmitmitmitmitmitmitmitmitmitmitmitmitmitmitmitmitmitmitmitmitmitmitmitmitmitmitmitmitmitmitmitmitmitmitmitmitmitmitmitmitmitmitmitmitmitmitmitmitmitmitmitmitmitmitmitmitmitmitmitmitmitmitmitmitmitmitmitmitmitmitmitmitmitmitmitmitmitmitmitmitmitmitmitmitmitmitmitmitmitmitmitmitmitmitmitmitmitmitmitmitmitmitmitmitmitmitmitmitmitmitmitmitmitmitmitmitmitmitmitmitmitmitmitmitmitmitmitmitmitmitmitmitmitmitmitmitmitmitmitmitmitmitmitmitmitmitmitmitmitmitmitmitmitmitmitmitmitmitmitmitmitmitmitmitmitmitmitmitmitmitmitmitmitmitmitmitmitmitmitmitmitmitmitmitmitmitmitmitmitmitmitmitmitmitmitmitmitmitmitmitmitmitmitmitmitmitmitmitmitmitmitmitmitmitmitmitmitmitmitmitmitmitmitmitmitmitmitmitmitmitmitmitmitmitmitmitmitmitmitmitmitmitmitmitmitmitmitmitmitmitmitmitmitmitmitmitmitmitmitmitmitmitmitmitmitmitmitmitmitmitmitmitmitmitmitmitmitmitmitmitmitmitmitmitmitmitmitmitmitmitmitmitmitmitmitmitmitmitmitmitmitmitmitmitmitmitmitmitmitmitmitmitmitmitmitmitmitmitmitmitmitmitmitmitmitmitmitmitmitmitmitmitmitmitmitmitmitmitmitmitmitmitmitmitmitmitmitmitmitmitmitmitmitmitmitmitmitmitmitmitmitmitmitmitmitmitmitmitmitmitmitmitmitmitmitmitmitmitmitmitmitmitmitmitmitmitmitmitmitmitmitmitmitmitmitmitmitmitmitmitmitmitmitmitmitmitmitmitmitmitmitmitmitmitmitmitmitmitmitmitmitmitmitmitmitmitmitmitmitmitmitmitmitmitmitmitmitmitmitmitmitmitmitmitmitmitmitmitmitmitmitmitmitmitmitmitmitmitmitmitmitmitmitmitmitmitmitmitmitmitmitmitmitmitmitmitmitmitmitmitmitmitmitmitmitmitmitmitmitmitmitmitmitmitmitmitmitmitmitmitmitmitmitmitmitmitmitmitmitmitmitmitmitmitmitmitmitmitmitmitmitmitmitmitmitmitmitmitmitmitmitmitmitmitmitmitmitmitmitmitmitmitmitmitmitmitmitmitmitmitmitmitmitmitmitmitmitmitmitmitmitmitmitmitmitmitmitmitmitmitmitmitmitmitmitmitmitmitmitmitmitmitmitmitmitmitmitmitmitmitmitmitmitmitmitmitmitmitmitmitmitmitmitmitmitmitmitmitmitmitmitmitmitmitmitmitmitmitmitmitmitmitmitmitmitmitmitmitmitmitmitmitmitmitmitmitmitmitmitmitmitmitmitmitmitmitmitmitmitmitmitmitmitmitmitmitmitmitmitmitmitmitmitmitmitmitmitmitmitmitmitmitmit] took 0.15652155876159668 seconds, consider setting Text2TextProblem.max_subtoken_length to a smaller value.\n"
     ]
    },
    {
     "name": "stdout",
     "output_type": "stream",
     "text": [
      "INFO:tensorflow:Processing token [lalufrekuensinciPertemuan] took 0.1332111358642578 seconds, consider setting Text2TextProblem.max_subtoken_length to a smaller value.\n"
     ]
    },
    {
     "name": "stderr",
     "output_type": "stream",
     "text": [
      "INFO:tensorflow:Processing token [lalufrekuensinciPertemuan] took 0.1332111358642578 seconds, consider setting Text2TextProblem.max_subtoken_length to a smaller value.\n"
     ]
    },
    {
     "name": "stdout",
     "output_type": "stream",
     "text": [
      "INFO:tensorflow:Processing token [ditaksirkerja] took 0.4157581329345703 seconds, consider setting Text2TextProblem.max_subtoken_length to a smaller value.\n"
     ]
    },
    {
     "name": "stderr",
     "output_type": "stream",
     "text": [
      "INFO:tensorflow:Processing token [ditaksirkerja] took 0.4157581329345703 seconds, consider setting Text2TextProblem.max_subtoken_length to a smaller value.\n"
     ]
    },
    {
     "name": "stdout",
     "output_type": "stream",
     "text": [
      "INFO:tensorflow:Processing token [percikanchoic] took 1.008260726928711 seconds, consider setting Text2TextProblem.max_subtoken_length to a smaller value.\n"
     ]
    },
    {
     "name": "stderr",
     "output_type": "stream",
     "text": [
      "INFO:tensorflow:Processing token [percikanchoic] took 1.008260726928711 seconds, consider setting Text2TextProblem.max_subtoken_length to a smaller value.\n"
     ]
    },
    {
     "name": "stdout",
     "output_type": "stream",
     "text": [
      "INFO:tensorflow:Processing token [pemimpinPertemuanpemimpin] took 1.9992847442626953 seconds, consider setting Text2TextProblem.max_subtoken_length to a smaller value.\n"
     ]
    },
    {
     "name": "stderr",
     "output_type": "stream",
     "text": [
      "INFO:tensorflow:Processing token [pemimpinPertemuanpemimpin] took 1.9992847442626953 seconds, consider setting Text2TextProblem.max_subtoken_length to a smaller value.\n"
     ]
    },
    {
     "name": "stdout",
     "output_type": "stream",
     "text": [
      "INFO:tensorflow:Processing token [metaforforforforforforforforforforforforforforforforforforforforforforforforforforforforforforforforforforforforforforforforforforforforforforforforforforforforforforforforforforforforforforforforforforforforforforforforforforforforforforforforforforforforforforforforforforforforforforforforforforforforforforforforforforforforforforforforforforforforforforforforforforforforforforforforforforforforforforforforforforforforforforforforforforforforforforforforforforforforforforforforforforforforforforforforforforforforforforforforforforforforforforforforforforforforforforforforforforforforforforforforforforforforforforforforforforforforforforforforforforforforforforforforforforforforforforforforforforforforforforforforforforforforforforforforforforforforforforforforforforforforforforforforforforforforforforforforforforforforforforforforforforforforforforforforforforforforforforforforforforforforforforforforforforforforforforforforforforforforforforforforforforforforforforforforforforforforforforforforforforforforforforforforforforforforforforforforforforforforforforforforforforforforforforforforforforforforforforforforforforforforforforforforforforforforforforforforforforforforforforforforforforforforforforforforforforforforforforforforforforforfor] took 0.1009070873260498 seconds, consider setting Text2TextProblem.max_subtoken_length to a smaller value.\n"
     ]
    },
    {
     "name": "stderr",
     "output_type": "stream",
     "text": [
      "INFO:tensorflow:Processing token [metaforforforforforforforforforforforforforforforforforforforforforforforforforforforforforforforforforforforforforforforforforforforforforforforforforforforforforforforforforforforforforforforforforforforforforforforforforforforforforforforforforforforforforforforforforforforforforforforforforforforforforforforforforforforforforforforforforforforforforforforforforforforforforforforforforforforforforforforforforforforforforforforforforforforforforforforforforforforforforforforforforforforforforforforforforforforforforforforforforforforforforforforforforforforforforforforforforforforforforforforforforforforforforforforforforforforforforforforforforforforforforforforforforforforforforforforforforforforforforforforforforforforforforforforforforforforforforforforforforforforforforforforforforforforforforforforforforforforforforforforforforforforforforforforforforforforforforforforforforforforforforforforforforforforforforforforforforforforforforforforforforforforforforforforforforforforforforforforforforforforforforforforforforforforforforforforforforforforforforforforforforforforforforforforforforforforforforforforforforforforforforforforforforforforforforforforforforforforforforforforforforforforforforforforforforforforforforforforforforforforfor] took 0.1009070873260498 seconds, consider setting Text2TextProblem.max_subtoken_length to a smaller value.\n"
     ]
    },
    {
     "name": "stdout",
     "output_type": "stream",
     "text": [
      "INFO:tensorflow:Processing token [sekseksekseksekseksekseksekseksekseksekseksekseksekseksekseksekseksekseksekseksekseksekseksekseksekseksekseksekseksekseksekseksekseksekseksekseksekseksekseksekseksekseksekseksekseksekseksekseksekseksekseksekseksekseksekseksekseksekseksekseksekseksekseksekseksekseksekseksekseksekseksekseksekseksekseksekseksekseksekseksekseksekseksekseksekseksekseksekseksekseksekseksekseksekseksekseksekseksekseksekseksekseksekseksekseksekseksekseksekseksekseksekseksekseksekseksekseksekseksekseksekseksekseksekseksekseksekseksekseksekseksekseksekseksekseksekseksekseksekseksekseksekseksekseksekseksekseksekseksekseksekseksekseksekseksekseksekseksekseksekseksekseksekseksekseksekseksekseksekseksekseksekseksekseksekseksekseksekseksekseksekseksekseksekseksekseksekseksekseksekseksekseksekseksekseksekseksekseksekseksekseksekseksekseksekseksekseksekseksekseksekseksekseksekseksekseksekseksekseksekseksekseksekseksekseksekseksekseksekseksekseksekseksekseksekseksekseksekseksekseksekseksekseksekseksekseksekseksekseksekseksekseksekseksekseksekseksekseksekseksekseksekseksekseksekseksekseksekseksekseksekseksekseksekseksekseksekseksekseksekseksekseksekseksekseksekseksekseksekseksekseksekseksekseksekseksekseksekseksekseksekseksekseksekseksekseksekseksekseksekseksekseksekseksekseksekseksekseksekseksekseksekseksekseksekseksekseksekseksekseksekseksekseksekseksekseksekseksekseksekseksekseksekseksekseksekseksekseksekseksekseksekseksekseksekseksekseksekseksekseksekseksekseksekseksekseksekseksekseksekseksekseksekseksekseksekseksekseksekseksekseksekseksekseksekseksekseksekseksekseksekseksekseksekseksekseksekseksekseksekseksekseksekseksekseksekseksekseksekseksekseksekseksekseksekseksekseksekseksekseksekseksekseksekseksekseksekseksekseksekseksekseksekseksekseksekseksekseksekseksekseksekseksekseksekseksekseksekseksekseksekseksekseksekseksekseksekseksekseksekseksekseksekseksekseksekseksekseksekseksekseksekseksekseksekseksekseksekseksekseksekseksekseksekseksekseksekseksekseksekseksekseksekseksekseksekseksekseksekseksekseksekseksekseksekseksekseksekseksekseksekseksekseksekseksekseksekseksekseksekseksekseksekseksekseksekseksekseks] took 0.17381548881530762 seconds, consider setting Text2TextProblem.max_subtoken_length to a smaller value.\n"
     ]
    },
    {
     "name": "stderr",
     "output_type": "stream",
     "text": [
      "INFO:tensorflow:Processing token [sekseksekseksekseksekseksekseksekseksekseksekseksekseksekseksekseksekseksekseksekseksekseksekseksekseksekseksekseksekseksekseksekseksekseksekseksekseksekseksekseksekseksekseksekseksekseksekseksekseksekseksekseksekseksekseksekseksekseksekseksekseksekseksekseksekseksekseksekseksekseksekseksekseksekseksekseksekseksekseksekseksekseksekseksekseksekseksekseksekseksekseksekseksekseksekseksekseksekseksekseksekseksekseksekseksekseksekseksekseksekseksekseksekseksekseksekseksekseksekseksekseksekseksekseksekseksekseksekseksekseksekseksekseksekseksekseksekseksekseksekseksekseksekseksekseksekseksekseksekseksekseksekseksekseksekseksekseksekseksekseksekseksekseksekseksekseksekseksekseksekseksekseksekseksekseksekseksekseksekseksekseksekseksekseksekseksekseksekseksekseksekseksekseksekseksekseksekseksekseksekseksekseksekseksekseksekseksekseksekseksekseksekseksekseksekseksekseksekseksekseksekseksekseksekseksekseksekseksekseksekseksekseksekseksekseksekseksekseksekseksekseksekseksekseksekseksekseksekseksekseksekseksekseksekseksekseksekseksekseksekseksekseksekseksekseksekseksekseksekseksekseksekseksekseksekseksekseksekseksekseksekseksekseksekseksekseksekseksekseksekseksekseksekseksekseksekseksekseksekseksekseksekseksekseksekseksekseksekseksekseksekseksekseksekseksekseksekseksekseksekseksekseksekseksekseksekseksekseksekseksekseksekseksekseksekseksekseksekseksekseksekseksekseksekseksekseksekseksekseksekseksekseksekseksekseksekseksekseksekseksekseksekseksekseksekseksekseksekseksekseksekseksekseksekseksekseksekseksekseksekseksekseksekseksekseksekseksekseksekseksekseksekseksekseksekseksekseksekseksekseksekseksekseksekseksekseksekseksekseksekseksekseksekseksekseksekseksekseksekseksekseksekseksekseksekseksekseksekseksekseksekseksekseksekseksekseksekseksekseksekseksekseksekseksekseksekseksekseksekseksekseksekseksekseksekseksekseksekseksekseksekseksekseksekseksekseksekseksekseksekseksekseksekseksekseksekseksekseksekseksekseksekseksekseksekseksekseksekseksekseksekseksekseksekseksekseksekseksekseksekseksekseksekseksekseksekseksekseksekseksekseksekseksekseksekseksekseksekseksekseksekseksekseksekseksekseksekseks] took 0.17381548881530762 seconds, consider setting Text2TextProblem.max_subtoken_length to a smaller value.\n"
     ]
    },
    {
     "name": "stdout",
     "output_type": "stream",
     "text": [
      "INFO:tensorflow:Processing token [MenurutMenurutMenurutMenurutMenurutMenurutMenurutMenurutMenurutMenurutMenurutMenurutMenurutMenurutMenurutMenurutMenurutMenurutMenurutMenurutMenurutMenurutMenurutMenurutMenurutMenurutMenurutMenurutMenurutMenurutMenurutMenurutMenurutMenurutMenurutMenurutMenurutMenurutMenurutMenurutMenurutMenurutMenurutMenurutMenurutMenurutMenurutMenurutMenurutMenurutMenurutMenurutMenurutMenurutMenurutMenurutMenurutMenurutMenurutMenurutMenurutMenurutMenurutMenurutMenurutMenurutMenurutMenurutMenurutMenurutMenurutMenurutMenurutMenurutMenurutMenurutMenurutMenurutMenurutMenurutMenurutMenurutMenurutMenurutMenurutMenurutMenurutMenurutMenurutMenurutMenurutMenurutMenurutMenurutMenurutMenurutMenurutMenurutMenurutMenurutMenurutMenurutMenurutMenurutMenurutMenurutMenurutMenurutMenurutMenurutMenurutMenurutMenurutMenurutMenurutMenurutMenurutMenurutMenurutMenurutMenurutMenurutMenurutMenurutMenurutMenurutMenurutMenurutMenurutMenurutMenurutMenurutMenurutMenurutMenurutMenurutMenurutMenurutMenurutMenurutMenurutMenurutMenurutMenurutMenurutMenurutMenurutMenurutMenurutMenurutMenurutMenurutMenurutMenurutMenurutMenurutMenurutMenurutMenurutMenurutMenurutMenurutMenurutMenurutMenurutMenurutMenurutMenurutMenurutMenurutMenurutMenurutMenurutMenurutMenurutMenurutMenurutMenurutMenurutMenurutMenurutMenurutMenurutMenurutMenurutMenurutMenurutMenurutMenurutMenurutMenurutMenurutMenurutMenurutMenurutMenurutMenurutMenurutMenurutMenurutMenurutMenurutMenurutMenurutMenurutMenurutMenurutMenurutMenurutMenurutMenurutMenurutMenurutMenurutMenurutMenurutMenurutMenurutMenurutMenurutMenurutMenurutMenurutMenurutMenurutMenurutMenurutMenurutMenurutMenurutMenurutMenurutMenurutMenurutMenurutMenurutMenurutMenurutMenurutMenurutMenurutMenurutMenurutMenurutMenurutMenurutMenurutMenurutMenurutMenurutMenurutMenurutMenurutMenurutMenurutMenurutMenurutMenurutMenurutMenurutMenurutMenurutMenurutMenurutMenurutMenurutMenurutMenurutMenurutMenurutMenurutMenurutMenurutMenurutMenurutMenurutMenurutMenurutMenurutMenurutMenurutMenurutMenurutMenurutMenurutMenurutMenurutMenurutMenurutMenurutMenurutMenurutMenurutMenurutMenurutMenurutMenurutMenurutMenurutMenurutMenurutMenurutMenurutMenurutMenurutMenurutMenurutMenurutMenurutMenurutMenurutMenurutMenurutMenurutMenurutMenurutMenurutMenurutMenurutMenurutMenurutMenurutMenurutMenurutMenurutMenurutMenurutMenurutMenurutMenurutMenurutMenurutMenurutMenurutMenurutMenurutMenurutMenurutMenurutMenurutMenurutMenurutMenurutMenurutMenurutMenurutMenurutMenurutMenurutMenurutMenurutMenurutMenurutMenurutMenurutMenurutMenurutMenurutMenurutMenurutMenurutMenurutMenurutMenurutMenurutMenurutMenurutMenurutMenurutMenurutMenurutMenurutMenurutMenurutMenurutMenurutMenurutMenurutMenurutMenurutMenurutMenurutMenurutMenurutMenurutMenurutMenurutMenurutMenurutMenurutMenurutMenurutMenurutMenurutMenurutMenurutMenurutMenurutMenurutMenurutMenurutMenurutMenurutMenurutMenurutMenurutMenurutMenurutMenurutMenurutMenurutMenurutMenurutMenurutMenurutMenurutMenurutMenurutMenurutMenurutMenurutMenurutMenurutMenurutMenurutMenurutMenurutMenurutMenurutMenurutMenurutMenurutMenurutMenurutMenurutMenurutMenurutMenurutMenurutMenurutMenurutMenurutMenurutMenurutMenurutMenurutMenurutMenurutMenurutMenurutMenurutMenurutMenurutMenurutMenurutMenurutMenurutMenurutMenurutMenurutMenurutMenurutMenurutMenurutMenurutMenurutMenurutMenurutMenurutMenurutMenurutMenurutMenurutMenurutMenurutMenurutMenurutMenurutMenurutMenurutMenurutMenurutMenurutMenurutMenurutMenurutMenurutMenurutMenurutMenurutMenurutMenurutMenurutMenurutMenurutMenurutMenurutMenurutMenurutMenurutMenurutMenurutMenurutMenurutMenurutMenurutMenurutMenurutMenurutMenurutMenurutMenurutMenurutMenurutMenurutMenurutMenurutMenurutMenurutMenurutMenurutMenurutMenurutMenurutMenurutMenurutMenurutMenurutMenurutMenurutMenurutMenurutMenurutMenurutMenurutMenurutMenurutMenurutMenurutMenurutMenurutMenurutMenurutMenurutMenurutMenurutMenurutMenurutMenurutMenurutMenurutMenurutMenurutMenurutMenurutMenurutMenurutMenurutMenurutMenurutMenurutMenurutMenurutMenurutMenurutMenurutMenurutMenurutMenurutMenurutMenurutMenurutMenurutMenurutMenurutMenurutMenurutMenurutMenurutMenurutMenurutMenurutMenurutMenurutMenurutMenurutMenurutMenurutMenurutMenurutMenurutMenurutMenurutMenurutMenurutMenurutMenurutMenurutMenurutMenurutMenurutMenurutMenurutMenurutMenurutMenurutMenurutMenurutMenurutMenurutMenurut] took 0.3133225440979004 seconds, consider setting Text2TextProblem.max_subtoken_length to a smaller value.\n"
     ]
    },
    {
     "name": "stderr",
     "output_type": "stream",
     "text": [
      "INFO:tensorflow:Processing token [MenurutMenurutMenurutMenurutMenurutMenurutMenurutMenurutMenurutMenurutMenurutMenurutMenurutMenurutMenurutMenurutMenurutMenurutMenurutMenurutMenurutMenurutMenurutMenurutMenurutMenurutMenurutMenurutMenurutMenurutMenurutMenurutMenurutMenurutMenurutMenurutMenurutMenurutMenurutMenurutMenurutMenurutMenurutMenurutMenurutMenurutMenurutMenurutMenurutMenurutMenurutMenurutMenurutMenurutMenurutMenurutMenurutMenurutMenurutMenurutMenurutMenurutMenurutMenurutMenurutMenurutMenurutMenurutMenurutMenurutMenurutMenurutMenurutMenurutMenurutMenurutMenurutMenurutMenurutMenurutMenurutMenurutMenurutMenurutMenurutMenurutMenurutMenurutMenurutMenurutMenurutMenurutMenurutMenurutMenurutMenurutMenurutMenurutMenurutMenurutMenurutMenurutMenurutMenurutMenurutMenurutMenurutMenurutMenurutMenurutMenurutMenurutMenurutMenurutMenurutMenurutMenurutMenurutMenurutMenurutMenurutMenurutMenurutMenurutMenurutMenurutMenurutMenurutMenurutMenurutMenurutMenurutMenurutMenurutMenurutMenurutMenurutMenurutMenurutMenurutMenurutMenurutMenurutMenurutMenurutMenurutMenurutMenurutMenurutMenurutMenurutMenurutMenurutMenurutMenurutMenurutMenurutMenurutMenurutMenurutMenurutMenurutMenurutMenurutMenurutMenurutMenurutMenurutMenurutMenurutMenurutMenurutMenurutMenurutMenurutMenurutMenurutMenurutMenurutMenurutMenurutMenurutMenurutMenurutMenurutMenurutMenurutMenurutMenurutMenurutMenurutMenurutMenurutMenurutMenurutMenurutMenurutMenurutMenurutMenurutMenurutMenurutMenurutMenurutMenurutMenurutMenurutMenurutMenurutMenurutMenurutMenurutMenurutMenurutMenurutMenurutMenurutMenurutMenurutMenurutMenurutMenurutMenurutMenurutMenurutMenurutMenurutMenurutMenurutMenurutMenurutMenurutMenurutMenurutMenurutMenurutMenurutMenurutMenurutMenurutMenurutMenurutMenurutMenurutMenurutMenurutMenurutMenurutMenurutMenurutMenurutMenurutMenurutMenurutMenurutMenurutMenurutMenurutMenurutMenurutMenurutMenurutMenurutMenurutMenurutMenurutMenurutMenurutMenurutMenurutMenurutMenurutMenurutMenurutMenurutMenurutMenurutMenurutMenurutMenurutMenurutMenurutMenurutMenurutMenurutMenurutMenurutMenurutMenurutMenurutMenurutMenurutMenurutMenurutMenurutMenurutMenurutMenurutMenurutMenurutMenurutMenurutMenurutMenurutMenurutMenurutMenurutMenurutMenurutMenurutMenurutMenurutMenurutMenurutMenurutMenurutMenurutMenurutMenurutMenurutMenurutMenurutMenurutMenurutMenurutMenurutMenurutMenurutMenurutMenurutMenurutMenurutMenurutMenurutMenurutMenurutMenurutMenurutMenurutMenurutMenurutMenurutMenurutMenurutMenurutMenurutMenurutMenurutMenurutMenurutMenurutMenurutMenurutMenurutMenurutMenurutMenurutMenurutMenurutMenurutMenurutMenurutMenurutMenurutMenurutMenurutMenurutMenurutMenurutMenurutMenurutMenurutMenurutMenurutMenurutMenurutMenurutMenurutMenurutMenurutMenurutMenurutMenurutMenurutMenurutMenurutMenurutMenurutMenurutMenurutMenurutMenurutMenurutMenurutMenurutMenurutMenurutMenurutMenurutMenurutMenurutMenurutMenurutMenurutMenurutMenurutMenurutMenurutMenurutMenurutMenurutMenurutMenurutMenurutMenurutMenurutMenurutMenurutMenurutMenurutMenurutMenurutMenurutMenurutMenurutMenurutMenurutMenurutMenurutMenurutMenurutMenurutMenurutMenurutMenurutMenurutMenurutMenurutMenurutMenurutMenurutMenurutMenurutMenurutMenurutMenurutMenurutMenurutMenurutMenurutMenurutMenurutMenurutMenurutMenurutMenurutMenurutMenurutMenurutMenurutMenurutMenurutMenurutMenurutMenurutMenurutMenurutMenurutMenurutMenurutMenurutMenurutMenurutMenurutMenurutMenurutMenurutMenurutMenurutMenurutMenurutMenurutMenurutMenurutMenurutMenurutMenurutMenurutMenurutMenurutMenurutMenurutMenurutMenurutMenurutMenurutMenurutMenurutMenurutMenurutMenurutMenurutMenurutMenurutMenurutMenurutMenurutMenurutMenurutMenurutMenurutMenurutMenurutMenurutMenurutMenurutMenurutMenurutMenurutMenurutMenurutMenurutMenurutMenurutMenurutMenurutMenurutMenurutMenurutMenurutMenurutMenurutMenurutMenurutMenurutMenurutMenurutMenurutMenurutMenurutMenurutMenurutMenurutMenurutMenurutMenurutMenurutMenurutMenurutMenurutMenurutMenurutMenurutMenurutMenurutMenurutMenurutMenurutMenurutMenurutMenurutMenurutMenurutMenurutMenurutMenurutMenurutMenurutMenurutMenurutMenurutMenurutMenurutMenurutMenurutMenurutMenurutMenurutMenurutMenurutMenurutMenurutMenurutMenurutMenurutMenurutMenurutMenurutMenurutMenurutMenurutMenurutMenurutMenurutMenurutMenurutMenurutMenurutMenurutMenurutMenurutMenurutMenurutMenurutMenurutMenurutMenurutMenurutMenurutMenurutMenurut] took 0.3133225440979004 seconds, consider setting Text2TextProblem.max_subtoken_length to a smaller value.\n"
     ]
    },
    {
     "name": "stdout",
     "output_type": "stream",
     "text": [
      "INFO:tensorflow:Processing token [sukayanghijau] took 3.8400251865386963 seconds, consider setting Text2TextProblem.max_subtoken_length to a smaller value.\n"
     ]
    },
    {
     "name": "stderr",
     "output_type": "stream",
     "text": [
      "INFO:tensorflow:Processing token [sukayanghijau] took 3.8400251865386963 seconds, consider setting Text2TextProblem.max_subtoken_length to a smaller value.\n"
     ]
    },
    {
     "name": "stdout",
     "output_type": "stream",
     "text": [
      "INFO:tensorflow:vocab_size = 103616\n"
     ]
    },
    {
     "name": "stderr",
     "output_type": "stream",
     "text": [
      "INFO:tensorflow:vocab_size = 103616\n"
     ]
    },
    {
     "name": "stdout",
     "output_type": "stream",
     "text": [
      "INFO:tensorflow:Iteration 1\n"
     ]
    },
    {
     "name": "stderr",
     "output_type": "stream",
     "text": [
      "INFO:tensorflow:Iteration 1\n"
     ]
    },
    {
     "name": "stdout",
     "output_type": "stream",
     "text": [
      "INFO:tensorflow:Processing token [PembasmianIsSha] took 0.14432096481323242 seconds, consider setting Text2TextProblem.max_subtoken_length to a smaller value.\n"
     ]
    },
    {
     "name": "stderr",
     "output_type": "stream",
     "text": [
      "INFO:tensorflow:Processing token [PembasmianIsSha] took 0.14432096481323242 seconds, consider setting Text2TextProblem.max_subtoken_length to a smaller value.\n"
     ]
    },
    {
     "name": "stdout",
     "output_type": "stream",
     "text": [
      "INFO:tensorflow:Processing token [akCard] took 0.41164445877075195 seconds, consider setting Text2TextProblem.max_subtoken_length to a smaller value.\n"
     ]
    },
    {
     "name": "stderr",
     "output_type": "stream",
     "text": [
      "INFO:tensorflow:Processing token [akCard] took 0.41164445877075195 seconds, consider setting Text2TextProblem.max_subtoken_length to a smaller value.\n"
     ]
    },
    {
     "name": "stdout",
     "output_type": "stream",
     "text": [
      "INFO:tensorflow:Processing token [Aleetha] took 0.8264870643615723 seconds, consider setting Text2TextProblem.max_subtoken_length to a smaller value.\n"
     ]
    },
    {
     "name": "stderr",
     "output_type": "stream",
     "text": [
      "INFO:tensorflow:Processing token [Aleetha] took 0.8264870643615723 seconds, consider setting Text2TextProblem.max_subtoken_length to a smaller value.\n"
     ]
    },
    {
     "name": "stdout",
     "output_type": "stream",
     "text": [
      "INFO:tensorflow:vocab_size = 41845\n"
     ]
    },
    {
     "name": "stderr",
     "output_type": "stream",
     "text": [
      "INFO:tensorflow:vocab_size = 41845\n"
     ]
    },
    {
     "name": "stdout",
     "output_type": "stream",
     "text": [
      "INFO:tensorflow:Iteration 2\n"
     ]
    },
    {
     "name": "stderr",
     "output_type": "stream",
     "text": [
      "INFO:tensorflow:Iteration 2\n"
     ]
    },
    {
     "name": "stdout",
     "output_type": "stream",
     "text": [
      "INFO:tensorflow:Processing token [RENGGAMnistakan] took 0.12738537788391113 seconds, consider setting Text2TextProblem.max_subtoken_length to a smaller value.\n"
     ]
    },
    {
     "name": "stderr",
     "output_type": "stream",
     "text": [
      "INFO:tensorflow:Processing token [RENGGAMnistakan] took 0.12738537788391113 seconds, consider setting Text2TextProblem.max_subtoken_length to a smaller value.\n"
     ]
    },
    {
     "name": "stdout",
     "output_type": "stream",
     "text": [
      "INFO:tensorflow:Processing token [Monyettaka] took 0.40642476081848145 seconds, consider setting Text2TextProblem.max_subtoken_length to a smaller value.\n"
     ]
    },
    {
     "name": "stderr",
     "output_type": "stream",
     "text": [
      "INFO:tensorflow:Processing token [Monyettaka] took 0.40642476081848145 seconds, consider setting Text2TextProblem.max_subtoken_length to a smaller value.\n"
     ]
    },
    {
     "name": "stdout",
     "output_type": "stream",
     "text": [
      "INFO:tensorflow:Processing token [UsahawanDigital] took 0.9142959117889404 seconds, consider setting Text2TextProblem.max_subtoken_length to a smaller value.\n"
     ]
    },
    {
     "name": "stderr",
     "output_type": "stream",
     "text": [
      "INFO:tensorflow:Processing token [UsahawanDigital] took 0.9142959117889404 seconds, consider setting Text2TextProblem.max_subtoken_length to a smaller value.\n"
     ]
    },
    {
     "name": "stdout",
     "output_type": "stream",
     "text": [
      "INFO:tensorflow:vocab_size = 42605\n"
     ]
    },
    {
     "name": "stderr",
     "output_type": "stream",
     "text": [
      "INFO:tensorflow:vocab_size = 42605\n"
     ]
    },
    {
     "name": "stdout",
     "output_type": "stream",
     "text": [
      "INFO:tensorflow:Iteration 3\n"
     ]
    },
    {
     "name": "stderr",
     "output_type": "stream",
     "text": [
      "INFO:tensorflow:Iteration 3\n"
     ]
    },
    {
     "name": "stdout",
     "output_type": "stream",
     "text": [
      "INFO:tensorflow:Processing token [AWEKPertemuanDELAH] took 0.13805603981018066 seconds, consider setting Text2TextProblem.max_subtoken_length to a smaller value.\n"
     ]
    },
    {
     "name": "stderr",
     "output_type": "stream",
     "text": [
      "INFO:tensorflow:Processing token [AWEKPertemuanDELAH] took 0.13805603981018066 seconds, consider setting Text2TextProblem.max_subtoken_length to a smaller value.\n"
     ]
    },
    {
     "name": "stdout",
     "output_type": "stream",
     "text": [
      "INFO:tensorflow:Processing token [dirintisakeh] took 0.42113661766052246 seconds, consider setting Text2TextProblem.max_subtoken_length to a smaller value.\n"
     ]
    },
    {
     "name": "stderr",
     "output_type": "stream",
     "text": [
      "INFO:tensorflow:Processing token [dirintisakeh] took 0.42113661766052246 seconds, consider setting Text2TextProblem.max_subtoken_length to a smaller value.\n"
     ]
    },
    {
     "name": "stdout",
     "output_type": "stream",
     "text": [
      "INFO:tensorflow:Processing token [DenPost] took 0.8213984966278076 seconds, consider setting Text2TextProblem.max_subtoken_length to a smaller value.\n"
     ]
    },
    {
     "name": "stderr",
     "output_type": "stream",
     "text": [
      "INFO:tensorflow:Processing token [DenPost] took 0.8213984966278076 seconds, consider setting Text2TextProblem.max_subtoken_length to a smaller value.\n"
     ]
    },
    {
     "name": "stdout",
     "output_type": "stream",
     "text": [
      "INFO:tensorflow:vocab_size = 42523\n"
     ]
    },
    {
     "name": "stderr",
     "output_type": "stream",
     "text": [
      "INFO:tensorflow:vocab_size = 42523\n"
     ]
    },
    {
     "name": "stdout",
     "output_type": "stream",
     "text": [
      "INFO:tensorflow:Trying min_count 875\n"
     ]
    },
    {
     "name": "stderr",
     "output_type": "stream",
     "text": [
      "INFO:tensorflow:Trying min_count 875\n"
     ]
    },
    {
     "name": "stdout",
     "output_type": "stream",
     "text": [
      "INFO:tensorflow:Iteration 0\n"
     ]
    },
    {
     "name": "stderr",
     "output_type": "stream",
     "text": [
      "INFO:tensorflow:Iteration 0\n"
     ]
    },
    {
     "name": "stdout",
     "output_type": "stream",
     "text": [
      "INFO:tensorflow:Processing token [MenurutMenurutMenurutMenurutMenurutMenurutMenurutMenurutMenurutMenurutMenurutMenurutMenurutMenurutMenurutMenurutMenurutMenurutMenurutMenurutMenurutMenurutMenurutMenurutMenurutMenurutMenurutMenurutMenurutMenurutMenurutMenurutMenurutMenurutMenurutMenurutMenurutMenurutMenurutMenurutMenurutMenurutMenurutMenurutMenurutMenurutMenurutMenurutMenurutMenurutMenurutMenurutMenurutMenurutMenurutMenurutMenurutMenurutMenurutMenurutMenurutMenurutMenurutMenurutMenurutMenurutMenurutMenurutMenurutMenurutMenurutMenurutMenurutMenurutMenurutMenurutMenurutMenurutMenurutMenurutMenurutMenurutMenurutMenurutMenurutMenurutMenurutMenurutMenurutMenurutMenurutMenurutMenurutMenurutMenurutMenurutMenurutMenurutMenurutMenurutMenurutMenurutMenurutMenurutMenurutMenurutMenurutMenurutMenurutMenurutMenurutMenurutMenurutMenurutMenurutMenurutMenurutMenurutMenurutMenurutMenurutMenurutMenurutMenurutMenurutMenurutMenurutMenurutMenurutMenurutMenurutMenurutMenurutMenurutMenurutMenurutMenurutMenurutMenurutMenurutMenurutMenurutMenurutMenurutMenurutMenurutMenurutMenurutMenurutMenurutMenurutMenurutMenurutMenurutMenurutMenurutMenurutMenurutMenurutMenurutMenurutMenurutMenurutMenurutMenurutMenurutMenurutMenurutMenurutMenurutMenurutMenurutMenurutMenurutMenurutMenurutMenurutMenurutMenurutMenurutMenurutMenurutMenurutMenurutMenurutMenurutMenurutMenurutMenurutMenurutMenurutMenurutMenurutMenurutMenurutMenurutMenurutMenurutMenurutMenurutMenurutMenurutMenurutMenurutMenurutMenurutMenurutMenurutMenurutMenurutMenurutMenurutMenurutMenurutMenurutMenurutMenurutMenurutMenurutMenurutMenurutMenurutMenurutMenurutMenurutMenurutMenurutMenurutMenurutMenurutMenurutMenurutMenurutMenurutMenurutMenurutMenurutMenurutMenurutMenurutMenurutMenurutMenurutMenurutMenurutMenurutMenurutMenurutMenurutMenurutMenurutMenurutMenurutMenurutMenurutMenurutMenurutMenurutMenurutMenurutMenurutMenurutMenurutMenurutMenurutMenurutMenurutMenurutMenurutMenurutMenurutMenurutMenurutMenurutMenurutMenurutMenurutMenurutMenurutMenurutMenurutMenurutMenurutMenurutMenurutMenurutMenurutMenurutMenurutMenurutMenurutMenurutMenurutMenurutMenurutMenurutMenurutMenurutMenurutMenurutMenurutMenurutMenurutMenurutMenurutMenurutMenurutMenurutMenurutMenurutMenurutMenurutMenurutMenurutMenurutMenurutMenurutMenurutMenurutMenurutMenurutMenurutMenurutMenurutMenurutMenurutMenurutMenurutMenurutMenurutMenurutMenurutMenurutMenurutMenurutMenurutMenurutMenurutMenurutMenurutMenurutMenurutMenurutMenurutMenurutMenurutMenurutMenurutMenurutMenurutMenurutMenurutMenurutMenurutMenurutMenurutMenurutMenurutMenurutMenurutMenurutMenurutMenurutMenurutMenurutMenurutMenurutMenurutMenurutMenurutMenurutMenurutMenurutMenurutMenurutMenurutMenurutMenurutMenurutMenurutMenurutMenurutMenurutMenurutMenurutMenurutMenurutMenurutMenurutMenurutMenurutMenurutMenurutMenurutMenurutMenurutMenurutMenurutMenurutMenurutMenurutMenurutMenurutMenurutMenurutMenurutMenurutMenurutMenurutMenurutMenurutMenurutMenurutMenurutMenurutMenurutMenurutMenurutMenurutMenurutMenurutMenurutMenurutMenurutMenurutMenurutMenurutMenurutMenurutMenurutMenurutMenurutMenurutMenurutMenurutMenurutMenurutMenurutMenurutMenurutMenurutMenurutMenurutMenurutMenurutMenurutMenurutMenurutMenurutMenurutMenurutMenurutMenurutMenurutMenurutMenurutMenurutMenurutMenurutMenurutMenurutMenurutMenurutMenurutMenurutMenurutMenurutMenurutMenurutMenurutMenurutMenurutMenurutMenurutMenurutMenurutMenurutMenurutMenurutMenurutMenurutMenurutMenurutMenurutMenurutMenurutMenurutMenurutMenurutMenurutMenurutMenurutMenurutMenurutMenurutMenurutMenurutMenurutMenurutMenurutMenurutMenurutMenurutMenurutMenurutMenurutMenurutMenurutMenurutMenurutMenurutMenurutMenurutMenurutMenurutMenurutMenurutMenurutMenurutMenurutMenurutMenurutMenurutMenurutMenurutMenurutMenurutMenurutMenurutMenurutMenurutMenurutMenurutMenurutMenurutMenurutMenurutMenurutMenurut] took 0.30449771881103516 seconds, consider setting Text2TextProblem.max_subtoken_length to a smaller value.\n"
     ]
    },
    {
     "name": "stderr",
     "output_type": "stream",
     "text": [
      "INFO:tensorflow:Processing token [MenurutMenurutMenurutMenurutMenurutMenurutMenurutMenurutMenurutMenurutMenurutMenurutMenurutMenurutMenurutMenurutMenurutMenurutMenurutMenurutMenurutMenurutMenurutMenurutMenurutMenurutMenurutMenurutMenurutMenurutMenurutMenurutMenurutMenurutMenurutMenurutMenurutMenurutMenurutMenurutMenurutMenurutMenurutMenurutMenurutMenurutMenurutMenurutMenurutMenurutMenurutMenurutMenurutMenurutMenurutMenurutMenurutMenurutMenurutMenurutMenurutMenurutMenurutMenurutMenurutMenurutMenurutMenurutMenurutMenurutMenurutMenurutMenurutMenurutMenurutMenurutMenurutMenurutMenurutMenurutMenurutMenurutMenurutMenurutMenurutMenurutMenurutMenurutMenurutMenurutMenurutMenurutMenurutMenurutMenurutMenurutMenurutMenurutMenurutMenurutMenurutMenurutMenurutMenurutMenurutMenurutMenurutMenurutMenurutMenurutMenurutMenurutMenurutMenurutMenurutMenurutMenurutMenurutMenurutMenurutMenurutMenurutMenurutMenurutMenurutMenurutMenurutMenurutMenurutMenurutMenurutMenurutMenurutMenurutMenurutMenurutMenurutMenurutMenurutMenurutMenurutMenurutMenurutMenurutMenurutMenurutMenurutMenurutMenurutMenurutMenurutMenurutMenurutMenurutMenurutMenurutMenurutMenurutMenurutMenurutMenurutMenurutMenurutMenurutMenurutMenurutMenurutMenurutMenurutMenurutMenurutMenurutMenurutMenurutMenurutMenurutMenurutMenurutMenurutMenurutMenurutMenurutMenurutMenurutMenurutMenurutMenurutMenurutMenurutMenurutMenurutMenurutMenurutMenurutMenurutMenurutMenurutMenurutMenurutMenurutMenurutMenurutMenurutMenurutMenurutMenurutMenurutMenurutMenurutMenurutMenurutMenurutMenurutMenurutMenurutMenurutMenurutMenurutMenurutMenurutMenurutMenurutMenurutMenurutMenurutMenurutMenurutMenurutMenurutMenurutMenurutMenurutMenurutMenurutMenurutMenurutMenurutMenurutMenurutMenurutMenurutMenurutMenurutMenurutMenurutMenurutMenurutMenurutMenurutMenurutMenurutMenurutMenurutMenurutMenurutMenurutMenurutMenurutMenurutMenurutMenurutMenurutMenurutMenurutMenurutMenurutMenurutMenurutMenurutMenurutMenurutMenurutMenurutMenurutMenurutMenurutMenurutMenurutMenurutMenurutMenurutMenurutMenurutMenurutMenurutMenurutMenurutMenurutMenurutMenurutMenurutMenurutMenurutMenurutMenurutMenurutMenurutMenurutMenurutMenurutMenurutMenurutMenurutMenurutMenurutMenurutMenurutMenurutMenurutMenurutMenurutMenurutMenurutMenurutMenurutMenurutMenurutMenurutMenurutMenurutMenurutMenurutMenurutMenurutMenurutMenurutMenurutMenurutMenurutMenurutMenurutMenurutMenurutMenurutMenurutMenurutMenurutMenurutMenurutMenurutMenurutMenurutMenurutMenurutMenurutMenurutMenurutMenurutMenurutMenurutMenurutMenurutMenurutMenurutMenurutMenurutMenurutMenurutMenurutMenurutMenurutMenurutMenurutMenurutMenurutMenurutMenurutMenurutMenurutMenurutMenurutMenurutMenurutMenurutMenurutMenurutMenurutMenurutMenurutMenurutMenurutMenurutMenurutMenurutMenurutMenurutMenurutMenurutMenurutMenurutMenurutMenurutMenurutMenurutMenurutMenurutMenurutMenurutMenurutMenurutMenurutMenurutMenurutMenurutMenurutMenurutMenurutMenurutMenurutMenurutMenurutMenurutMenurutMenurutMenurutMenurutMenurutMenurutMenurutMenurutMenurutMenurutMenurutMenurutMenurutMenurutMenurutMenurutMenurutMenurutMenurutMenurutMenurutMenurutMenurutMenurutMenurutMenurutMenurutMenurutMenurutMenurutMenurutMenurutMenurutMenurutMenurutMenurutMenurutMenurutMenurutMenurutMenurutMenurutMenurutMenurutMenurutMenurutMenurutMenurutMenurutMenurutMenurutMenurutMenurutMenurutMenurutMenurutMenurutMenurutMenurutMenurutMenurutMenurutMenurutMenurutMenurutMenurutMenurutMenurutMenurutMenurutMenurutMenurutMenurutMenurutMenurutMenurutMenurutMenurutMenurutMenurutMenurutMenurutMenurutMenurutMenurutMenurutMenurutMenurutMenurutMenurutMenurutMenurutMenurutMenurutMenurutMenurutMenurutMenurutMenurutMenurutMenurutMenurutMenurutMenurutMenurutMenurutMenurutMenurutMenurutMenurutMenurutMenurutMenurutMenurutMenurutMenurutMenurutMenurutMenurutMenurutMenurutMenurutMenurutMenurutMenurutMenurutMenurut] took 0.30449771881103516 seconds, consider setting Text2TextProblem.max_subtoken_length to a smaller value.\n"
     ]
    },
    {
     "name": "stdout",
     "output_type": "stream",
     "text": [
      "INFO:tensorflow:Processing token [Summitmitmitmitmitmitmitmitmitmitmitmitmitmitmitmitmitmitmitmitmitmitmitmitmitmitmitmitmitmitmitmitmitmitmitmitmitmitmitmitmitmitmitmitmitmitmitmitmitmitmitmitmitmitmitmitmitmitmitmitmitmitmitmitmitmitmitmitmitmitmitmitmitmitmitmitmitmitmitmitmitmitmitmitmitmitmitmitmitmitmitmitmitmitmitmitmitmitmitmitmitmitmitmitmitmitmitmitmitmitmitmitmitmitmitmitmitmitmitmitmitmitmitmitmitmitmitmitmitmitmitmitmitmitmitmitmitmitmitmitmitmitmitmitmitmitmitmitmitmitmitmitmitmitmitmitmitmitmitmitmitmitmitmitmitmitmitmitmitmitmitmitmitmitmitmitmitmitmitmitmitmitmitmitmitmitmitmitmitmitmitmitmitmitmitmitmitmitmitmitmitmitmitmitmitmitmitmitmitmitmitmitmitmitmitmitmitmitmitmitmitmitmitmitmitmitmitmitmitmitmitmitmitmitmitmitmitmitmitmitmitmitmitmitmitmitmitmitmitmitmitmitmitmitmitmitmitmitmitmitmitmitmitmitmitmitmitmitmitmitmitmitmitmitmitmitmitmitmitmitmitmitmitmitmitmitmitmitmitmitmitmitmitmitmitmitmitmitmitmitmitmitmitmitmitmitmitmitmitmitmitmitmitmitmitmitmitmitmitmitmitmitmitmitmitmitmitmitmitmitmitmitmitmitmitmitmitmitmitmitmitmitmitmitmitmitmitmitmitmitmitmitmitmitmitmitmitmitmitmitmitmitmitmitmitmitmitmitmitmitmitmitmitmitmitmitmitmitmitmitmitmitmitmitmitmitmitmitmitmitmitmitmitmitmitmitmitmitmitmitmitmitmitmitmitmitmitmitmitmitmitmitmitmitmitmitmitmitmitmitmitmitmitmitmitmitmitmitmitmitmitmitmitmitmitmitmitmitmitmitmitmitmitmitmitmitmitmitmitmitmitmitmitmitmitmitmitmitmitmitmitmitmitmitmitmitmitmitmitmitmitmitmitmitmitmitmitmitmitmitmitmitmitmitmitmitmitmitmitmitmitmitmitmitmitmitmitmitmitmitmitmitmitmitmitmitmitmitmitmitmitmitmitmitmitmitmitmitmitmitmitmitmitmitmitmitmitmitmitmitmitmitmitmitmitmitmitmitmitmitmitmitmitmitmitmitmitmitmitmitmitmitmitmitmitmitmitmitmitmitmitmitmitmitmitmitmitmitmitmitmitmitmitmitmitmitmitmitmitmitmitmitmitmitmitmitmitmitmitmitmitmitmitmitmitmitmitmitmitmitmitmitmitmitmitmitmitmitmitmitmitmitmitmitmitmitmitmitmitmitmitmitmitmitmitmitmitmitmitmitmitmitmitmitmitmitmitmitmitmitmitmitmitmitmitmitmitmitmitmitmitmitmitmitmitmitmitmitmitmitmitmitmitmitmitmitmitmitmitmitmitmitmitmitmitmitmitmitmitmitmitmitmitmitmitmitmitmitmitmitmitmitmitmitmitmitmitmitmitmitmitmitmitmitmitmitmitmitmitmitmitmitmitmitmitmitmitmitmitmitmitmitmitmitmitmitmitmitmitmitmitmitmitmitmit] took 0.15262722969055176 seconds, consider setting Text2TextProblem.max_subtoken_length to a smaller value.\n"
     ]
    },
    {
     "name": "stderr",
     "output_type": "stream",
     "text": [
      "INFO:tensorflow:Processing token [Summitmitmitmitmitmitmitmitmitmitmitmitmitmitmitmitmitmitmitmitmitmitmitmitmitmitmitmitmitmitmitmitmitmitmitmitmitmitmitmitmitmitmitmitmitmitmitmitmitmitmitmitmitmitmitmitmitmitmitmitmitmitmitmitmitmitmitmitmitmitmitmitmitmitmitmitmitmitmitmitmitmitmitmitmitmitmitmitmitmitmitmitmitmitmitmitmitmitmitmitmitmitmitmitmitmitmitmitmitmitmitmitmitmitmitmitmitmitmitmitmitmitmitmitmitmitmitmitmitmitmitmitmitmitmitmitmitmitmitmitmitmitmitmitmitmitmitmitmitmitmitmitmitmitmitmitmitmitmitmitmitmitmitmitmitmitmitmitmitmitmitmitmitmitmitmitmitmitmitmitmitmitmitmitmitmitmitmitmitmitmitmitmitmitmitmitmitmitmitmitmitmitmitmitmitmitmitmitmitmitmitmitmitmitmitmitmitmitmitmitmitmitmitmitmitmitmitmitmitmitmitmitmitmitmitmitmitmitmitmitmitmitmitmitmitmitmitmitmitmitmitmitmitmitmitmitmitmitmitmitmitmitmitmitmitmitmitmitmitmitmitmitmitmitmitmitmitmitmitmitmitmitmitmitmitmitmitmitmitmitmitmitmitmitmitmitmitmitmitmitmitmitmitmitmitmitmitmitmitmitmitmitmitmitmitmitmitmitmitmitmitmitmitmitmitmitmitmitmitmitmitmitmitmitmitmitmitmitmitmitmitmitmitmitmitmitmitmitmitmitmitmitmitmitmitmitmitmitmitmitmitmitmitmitmitmitmitmitmitmitmitmitmitmitmitmitmitmitmitmitmitmitmitmitmitmitmitmitmitmitmitmitmitmitmitmitmitmitmitmitmitmitmitmitmitmitmitmitmitmitmitmitmitmitmitmitmitmitmitmitmitmitmitmitmitmitmitmitmitmitmitmitmitmitmitmitmitmitmitmitmitmitmitmitmitmitmitmitmitmitmitmitmitmitmitmitmitmitmitmitmitmitmitmitmitmitmitmitmitmitmitmitmitmitmitmitmitmitmitmitmitmitmitmitmitmitmitmitmitmitmitmitmitmitmitmitmitmitmitmitmitmitmitmitmitmitmitmitmitmitmitmitmitmitmitmitmitmitmitmitmitmitmitmitmitmitmitmitmitmitmitmitmitmitmitmitmitmitmitmitmitmitmitmitmitmitmitmitmitmitmitmitmitmitmitmitmitmitmitmitmitmitmitmitmitmitmitmitmitmitmitmitmitmitmitmitmitmitmitmitmitmitmitmitmitmitmitmitmitmitmitmitmitmitmitmitmitmitmitmitmitmitmitmitmitmitmitmitmitmitmitmitmitmitmitmitmitmitmitmitmitmitmitmitmitmitmitmitmitmitmitmitmitmitmitmitmitmitmitmitmitmitmitmitmitmitmitmitmitmitmitmitmitmitmitmitmitmitmitmitmitmitmitmitmitmitmitmitmitmitmitmitmitmitmitmitmitmitmitmitmitmitmitmitmitmitmitmitmitmitmitmitmitmitmitmitmitmitmitmitmitmitmitmitmitmitmitmitmitmitmitmitmitmitmitmitmitmitmitmitmitmitmitmitmitmitmitmitmitmitmitmitmitmitmit] took 0.15262722969055176 seconds, consider setting Text2TextProblem.max_subtoken_length to a smaller value.\n"
     ]
    },
    {
     "name": "stdout",
     "output_type": "stream",
     "text": [
      "INFO:tensorflow:Processing token [lalufrekuensinciPertemuan] took 0.1382901668548584 seconds, consider setting Text2TextProblem.max_subtoken_length to a smaller value.\n"
     ]
    },
    {
     "name": "stderr",
     "output_type": "stream",
     "text": [
      "INFO:tensorflow:Processing token [lalufrekuensinciPertemuan] took 0.1382901668548584 seconds, consider setting Text2TextProblem.max_subtoken_length to a smaller value.\n"
     ]
    },
    {
     "name": "stdout",
     "output_type": "stream",
     "text": [
      "INFO:tensorflow:Processing token [ditaksirkerja] took 0.4273033142089844 seconds, consider setting Text2TextProblem.max_subtoken_length to a smaller value.\n"
     ]
    },
    {
     "name": "stderr",
     "output_type": "stream",
     "text": [
      "INFO:tensorflow:Processing token [ditaksirkerja] took 0.4273033142089844 seconds, consider setting Text2TextProblem.max_subtoken_length to a smaller value.\n"
     ]
    },
    {
     "name": "stdout",
     "output_type": "stream",
     "text": [
      "INFO:tensorflow:Processing token [percikanchoic] took 0.8768444061279297 seconds, consider setting Text2TextProblem.max_subtoken_length to a smaller value.\n"
     ]
    },
    {
     "name": "stderr",
     "output_type": "stream",
     "text": [
      "INFO:tensorflow:Processing token [percikanchoic] took 0.8768444061279297 seconds, consider setting Text2TextProblem.max_subtoken_length to a smaller value.\n"
     ]
    },
    {
     "name": "stdout",
     "output_type": "stream",
     "text": [
      "INFO:tensorflow:Processing token [pemimpinPertemuanpemimpin] took 1.7681522369384766 seconds, consider setting Text2TextProblem.max_subtoken_length to a smaller value.\n"
     ]
    },
    {
     "name": "stderr",
     "output_type": "stream",
     "text": [
      "INFO:tensorflow:Processing token [pemimpinPertemuanpemimpin] took 1.7681522369384766 seconds, consider setting Text2TextProblem.max_subtoken_length to a smaller value.\n"
     ]
    },
    {
     "name": "stdout",
     "output_type": "stream",
     "text": [
      "INFO:tensorflow:Processing token [metaforforforforforforforforforforforforforforforforforforforforforforforforforforforforforforforforforforforforforforforforforforforforforforforforforforforforforforforforforforforforforforforforforforforforforforforforforforforforforforforforforforforforforforforforforforforforforforforforforforforforforforforforforforforforforforforforforforforforforforforforforforforforforforforforforforforforforforforforforforforforforforforforforforforforforforforforforforforforforforforforforforforforforforforforforforforforforforforforforforforforforforforforforforforforforforforforforforforforforforforforforforforforforforforforforforforforforforforforforforforforforforforforforforforforforforforforforforforforforforforforforforforforforforforforforforforforforforforforforforforforforforforforforforforforforforforforforforforforforforforforforforforforforforforforforforforforforforforforforforforforforforforforforforforforforforforforforforforforforforforforforforforforforforforforforforforforforforforforforforforforforforforforforforforforforforforforforforforforforforforforforforforforforforforforforforforforforforforforforforforforforforforforforforforforforforforforforforforforforforforforforforforforforforforforforforforforforforforforforforforfor] took 0.10531902313232422 seconds, consider setting Text2TextProblem.max_subtoken_length to a smaller value.\n"
     ]
    },
    {
     "name": "stderr",
     "output_type": "stream",
     "text": [
      "INFO:tensorflow:Processing token [metaforforforforforforforforforforforforforforforforforforforforforforforforforforforforforforforforforforforforforforforforforforforforforforforforforforforforforforforforforforforforforforforforforforforforforforforforforforforforforforforforforforforforforforforforforforforforforforforforforforforforforforforforforforforforforforforforforforforforforforforforforforforforforforforforforforforforforforforforforforforforforforforforforforforforforforforforforforforforforforforforforforforforforforforforforforforforforforforforforforforforforforforforforforforforforforforforforforforforforforforforforforforforforforforforforforforforforforforforforforforforforforforforforforforforforforforforforforforforforforforforforforforforforforforforforforforforforforforforforforforforforforforforforforforforforforforforforforforforforforforforforforforforforforforforforforforforforforforforforforforforforforforforforforforforforforforforforforforforforforforforforforforforforforforforforforforforforforforforforforforforforforforforforforforforforforforforforforforforforforforforforforforforforforforforforforforforforforforforforforforforforforforforforforforforforforforforforforforforforforforforforforforforforforforforforforforforforforforforforforforfor] took 0.10531902313232422 seconds, consider setting Text2TextProblem.max_subtoken_length to a smaller value.\n"
     ]
    },
    {
     "name": "stdout",
     "output_type": "stream",
     "text": [
      "INFO:tensorflow:Processing token [sekseksekseksekseksekseksekseksekseksekseksekseksekseksekseksekseksekseksekseksekseksekseksekseksekseksekseksekseksekseksekseksekseksekseksekseksekseksekseksekseksekseksekseksekseksekseksekseksekseksekseksekseksekseksekseksekseksekseksekseksekseksekseksekseksekseksekseksekseksekseksekseksekseksekseksekseksekseksekseksekseksekseksekseksekseksekseksekseksekseksekseksekseksekseksekseksekseksekseksekseksekseksekseksekseksekseksekseksekseksekseksekseksekseksekseksekseksekseksekseksekseksekseksekseksekseksekseksekseksekseksekseksekseksekseksekseksekseksekseksekseksekseksekseksekseksekseksekseksekseksekseksekseksekseksekseksekseksekseksekseksekseksekseksekseksekseksekseksekseksekseksekseksekseksekseksekseksekseksekseksekseksekseksekseksekseksekseksekseksekseksekseksekseksekseksekseksekseksekseksekseksekseksekseksekseksekseksekseksekseksekseksekseksekseksekseksekseksekseksekseksekseksekseksekseksekseksekseksekseksekseksekseksekseksekseksekseksekseksekseksekseksekseksekseksekseksekseksekseksekseksekseksekseksekseksekseksekseksekseksekseksekseksekseksekseksekseksekseksekseksekseksekseksekseksekseksekseksekseksekseksekseksekseksekseksekseksekseksekseksekseksekseksekseksekseksekseksekseksekseksekseksekseksekseksekseksekseksekseksekseksekseksekseksekseksekseksekseksekseksekseksekseksekseksekseksekseksekseksekseksekseksekseksekseksekseksekseksekseksekseksekseksekseksekseksekseksekseksekseksekseksekseksekseksekseksekseksekseksekseksekseksekseksekseksekseksekseksekseksekseksekseksekseksekseksekseksekseksekseksekseksekseksekseksekseksekseksekseksekseksekseksekseksekseksekseksekseksekseksekseksekseksekseksekseksekseksekseksekseksekseksekseksekseksekseksekseksekseksekseksekseksekseksekseksekseksekseksekseksekseksekseksekseksekseksekseksekseksekseksekseksekseksekseksekseksekseksekseksekseksekseksekseksekseksekseksekseksekseksekseksekseksekseksekseksekseksekseksekseksekseksekseksekseksekseksekseksekseksekseksekseksekseksekseksekseksekseksekseksekseksekseksekseksekseksekseksekseksekseksekseksekseksekseksekseksekseksekseksekseksekseksekseksekseksekseksekseksekseksekseksekseksekseksekseksekseksekseks] took 0.17827677726745605 seconds, consider setting Text2TextProblem.max_subtoken_length to a smaller value.\n"
     ]
    },
    {
     "name": "stderr",
     "output_type": "stream",
     "text": [
      "INFO:tensorflow:Processing token [sekseksekseksekseksekseksekseksekseksekseksekseksekseksekseksekseksekseksekseksekseksekseksekseksekseksekseksekseksekseksekseksekseksekseksekseksekseksekseksekseksekseksekseksekseksekseksekseksekseksekseksekseksekseksekseksekseksekseksekseksekseksekseksekseksekseksekseksekseksekseksekseksekseksekseksekseksekseksekseksekseksekseksekseksekseksekseksekseksekseksekseksekseksekseksekseksekseksekseksekseksekseksekseksekseksekseksekseksekseksekseksekseksekseksekseksekseksekseksekseksekseksekseksekseksekseksekseksekseksekseksekseksekseksekseksekseksekseksekseksekseksekseksekseksekseksekseksekseksekseksekseksekseksekseksekseksekseksekseksekseksekseksekseksekseksekseksekseksekseksekseksekseksekseksekseksekseksekseksekseksekseksekseksekseksekseksekseksekseksekseksekseksekseksekseksekseksekseksekseksekseksekseksekseksekseksekseksekseksekseksekseksekseksekseksekseksekseksekseksekseksekseksekseksekseksekseksekseksekseksekseksekseksekseksekseksekseksekseksekseksekseksekseksekseksekseksekseksekseksekseksekseksekseksekseksekseksekseksekseksekseksekseksekseksekseksekseksekseksekseksekseksekseksekseksekseksekseksekseksekseksekseksekseksekseksekseksekseksekseksekseksekseksekseksekseksekseksekseksekseksekseksekseksekseksekseksekseksekseksekseksekseksekseksekseksekseksekseksekseksekseksekseksekseksekseksekseksekseksekseksekseksekseksekseksekseksekseksekseksekseksekseksekseksekseksekseksekseksekseksekseksekseksekseksekseksekseksekseksekseksekseksekseksekseksekseksekseksekseksekseksekseksekseksekseksekseksekseksekseksekseksekseksekseksekseksekseksekseksekseksekseksekseksekseksekseksekseksekseksekseksekseksekseksekseksekseksekseksekseksekseksekseksekseksekseksekseksekseksekseksekseksekseksekseksekseksekseksekseksekseksekseksekseksekseksekseksekseksekseksekseksekseksekseksekseksekseksekseksekseksekseksekseksekseksekseksekseksekseksekseksekseksekseksekseksekseksekseksekseksekseksekseksekseksekseksekseksekseksekseksekseksekseksekseksekseksekseksekseksekseksekseksekseksekseksekseksekseksekseksekseksekseksekseksekseksekseksekseksekseksekseksekseksekseksekseksekseksekseksekseksekseksekseksekseksekseksekseks] took 0.17827677726745605 seconds, consider setting Text2TextProblem.max_subtoken_length to a smaller value.\n"
     ]
    },
    {
     "name": "stdout",
     "output_type": "stream",
     "text": [
      "INFO:tensorflow:Processing token [MenurutMenurutMenurutMenurutMenurutMenurutMenurutMenurutMenurutMenurutMenurutMenurutMenurutMenurutMenurutMenurutMenurutMenurutMenurutMenurutMenurutMenurutMenurutMenurutMenurutMenurutMenurutMenurutMenurutMenurutMenurutMenurutMenurutMenurutMenurutMenurutMenurutMenurutMenurutMenurutMenurutMenurutMenurutMenurutMenurutMenurutMenurutMenurutMenurutMenurutMenurutMenurutMenurutMenurutMenurutMenurutMenurutMenurutMenurutMenurutMenurutMenurutMenurutMenurutMenurutMenurutMenurutMenurutMenurutMenurutMenurutMenurutMenurutMenurutMenurutMenurutMenurutMenurutMenurutMenurutMenurutMenurutMenurutMenurutMenurutMenurutMenurutMenurutMenurutMenurutMenurutMenurutMenurutMenurutMenurutMenurutMenurutMenurutMenurutMenurutMenurutMenurutMenurutMenurutMenurutMenurutMenurutMenurutMenurutMenurutMenurutMenurutMenurutMenurutMenurutMenurutMenurutMenurutMenurutMenurutMenurutMenurutMenurutMenurutMenurutMenurutMenurutMenurutMenurutMenurutMenurutMenurutMenurutMenurutMenurutMenurutMenurutMenurutMenurutMenurutMenurutMenurutMenurutMenurutMenurutMenurutMenurutMenurutMenurutMenurutMenurutMenurutMenurutMenurutMenurutMenurutMenurutMenurutMenurutMenurutMenurutMenurutMenurutMenurutMenurutMenurutMenurutMenurutMenurutMenurutMenurutMenurutMenurutMenurutMenurutMenurutMenurutMenurutMenurutMenurutMenurutMenurutMenurutMenurutMenurutMenurutMenurutMenurutMenurutMenurutMenurutMenurutMenurutMenurutMenurutMenurutMenurutMenurutMenurutMenurutMenurutMenurutMenurutMenurutMenurutMenurutMenurutMenurutMenurutMenurutMenurutMenurutMenurutMenurutMenurutMenurutMenurutMenurutMenurutMenurutMenurutMenurutMenurutMenurutMenurutMenurutMenurutMenurutMenurutMenurutMenurutMenurutMenurutMenurutMenurutMenurutMenurutMenurutMenurutMenurutMenurutMenurutMenurutMenurutMenurutMenurutMenurutMenurutMenurutMenurutMenurutMenurutMenurutMenurutMenurutMenurutMenurutMenurutMenurutMenurutMenurutMenurutMenurutMenurutMenurutMenurutMenurutMenurutMenurutMenurutMenurutMenurutMenurutMenurutMenurutMenurutMenurutMenurutMenurutMenurutMenurutMenurutMenurutMenurutMenurutMenurutMenurutMenurutMenurutMenurutMenurutMenurutMenurutMenurutMenurutMenurutMenurutMenurutMenurutMenurutMenurutMenurutMenurutMenurutMenurutMenurutMenurutMenurutMenurutMenurutMenurutMenurutMenurutMenurutMenurutMenurutMenurutMenurutMenurutMenurutMenurutMenurutMenurutMenurutMenurutMenurutMenurutMenurutMenurutMenurutMenurutMenurutMenurutMenurutMenurutMenurutMenurutMenurutMenurutMenurutMenurutMenurutMenurutMenurutMenurutMenurutMenurutMenurutMenurutMenurutMenurutMenurutMenurutMenurutMenurutMenurutMenurutMenurutMenurutMenurutMenurutMenurutMenurutMenurutMenurutMenurutMenurutMenurutMenurutMenurutMenurutMenurutMenurutMenurutMenurutMenurutMenurutMenurutMenurutMenurutMenurutMenurutMenurutMenurutMenurutMenurutMenurutMenurutMenurutMenurutMenurutMenurutMenurutMenurutMenurutMenurutMenurutMenurutMenurutMenurutMenurutMenurutMenurutMenurutMenurutMenurutMenurutMenurutMenurutMenurutMenurutMenurutMenurutMenurutMenurutMenurutMenurutMenurutMenurutMenurutMenurutMenurutMenurutMenurutMenurutMenurutMenurutMenurutMenurutMenurutMenurutMenurutMenurutMenurutMenurutMenurutMenurutMenurutMenurutMenurutMenurutMenurutMenurutMenurutMenurutMenurutMenurutMenurutMenurutMenurutMenurutMenurutMenurutMenurutMenurutMenurutMenurutMenurutMenurutMenurutMenurutMenurutMenurutMenurutMenurutMenurutMenurutMenurutMenurutMenurutMenurutMenurutMenurutMenurutMenurutMenurutMenurutMenurutMenurutMenurutMenurutMenurutMenurutMenurutMenurutMenurutMenurutMenurutMenurutMenurutMenurutMenurutMenurutMenurutMenurutMenurutMenurutMenurutMenurutMenurutMenurutMenurutMenurutMenurutMenurutMenurutMenurutMenurutMenurutMenurutMenurutMenurutMenurutMenurutMenurutMenurutMenurutMenurutMenurutMenurutMenurutMenurutMenurutMenurutMenurutMenurutMenurutMenurutMenurutMenurutMenurutMenurutMenurutMenurutMenurutMenurutMenurutMenurutMenurutMenurutMenurutMenurutMenurutMenurutMenurutMenurutMenurutMenurutMenurutMenurutMenurutMenurutMenurutMenurutMenurutMenurutMenurutMenurutMenurutMenurutMenurutMenurutMenurutMenurutMenurutMenurutMenurutMenurutMenurutMenurutMenurutMenurutMenurutMenurutMenurutMenurutMenurutMenurutMenurutMenurutMenurutMenurutMenurutMenurutMenurutMenurutMenurutMenurutMenurutMenurutMenurutMenurutMenurutMenurutMenurutMenurutMenurutMenurutMenurutMenurutMenurutMenurutMenurutMenurutMenurutMenurutMenurutMenurutMenurutMenurutMenurut] took 0.31540942192077637 seconds, consider setting Text2TextProblem.max_subtoken_length to a smaller value.\n"
     ]
    },
    {
     "name": "stderr",
     "output_type": "stream",
     "text": [
      "INFO:tensorflow:Processing token [MenurutMenurutMenurutMenurutMenurutMenurutMenurutMenurutMenurutMenurutMenurutMenurutMenurutMenurutMenurutMenurutMenurutMenurutMenurutMenurutMenurutMenurutMenurutMenurutMenurutMenurutMenurutMenurutMenurutMenurutMenurutMenurutMenurutMenurutMenurutMenurutMenurutMenurutMenurutMenurutMenurutMenurutMenurutMenurutMenurutMenurutMenurutMenurutMenurutMenurutMenurutMenurutMenurutMenurutMenurutMenurutMenurutMenurutMenurutMenurutMenurutMenurutMenurutMenurutMenurutMenurutMenurutMenurutMenurutMenurutMenurutMenurutMenurutMenurutMenurutMenurutMenurutMenurutMenurutMenurutMenurutMenurutMenurutMenurutMenurutMenurutMenurutMenurutMenurutMenurutMenurutMenurutMenurutMenurutMenurutMenurutMenurutMenurutMenurutMenurutMenurutMenurutMenurutMenurutMenurutMenurutMenurutMenurutMenurutMenurutMenurutMenurutMenurutMenurutMenurutMenurutMenurutMenurutMenurutMenurutMenurutMenurutMenurutMenurutMenurutMenurutMenurutMenurutMenurutMenurutMenurutMenurutMenurutMenurutMenurutMenurutMenurutMenurutMenurutMenurutMenurutMenurutMenurutMenurutMenurutMenurutMenurutMenurutMenurutMenurutMenurutMenurutMenurutMenurutMenurutMenurutMenurutMenurutMenurutMenurutMenurutMenurutMenurutMenurutMenurutMenurutMenurutMenurutMenurutMenurutMenurutMenurutMenurutMenurutMenurutMenurutMenurutMenurutMenurutMenurutMenurutMenurutMenurutMenurutMenurutMenurutMenurutMenurutMenurutMenurutMenurutMenurutMenurutMenurutMenurutMenurutMenurutMenurutMenurutMenurutMenurutMenurutMenurutMenurutMenurutMenurutMenurutMenurutMenurutMenurutMenurutMenurutMenurutMenurutMenurutMenurutMenurutMenurutMenurutMenurutMenurutMenurutMenurutMenurutMenurutMenurutMenurutMenurutMenurutMenurutMenurutMenurutMenurutMenurutMenurutMenurutMenurutMenurutMenurutMenurutMenurutMenurutMenurutMenurutMenurutMenurutMenurutMenurutMenurutMenurutMenurutMenurutMenurutMenurutMenurutMenurutMenurutMenurutMenurutMenurutMenurutMenurutMenurutMenurutMenurutMenurutMenurutMenurutMenurutMenurutMenurutMenurutMenurutMenurutMenurutMenurutMenurutMenurutMenurutMenurutMenurutMenurutMenurutMenurutMenurutMenurutMenurutMenurutMenurutMenurutMenurutMenurutMenurutMenurutMenurutMenurutMenurutMenurutMenurutMenurutMenurutMenurutMenurutMenurutMenurutMenurutMenurutMenurutMenurutMenurutMenurutMenurutMenurutMenurutMenurutMenurutMenurutMenurutMenurutMenurutMenurutMenurutMenurutMenurutMenurutMenurutMenurutMenurutMenurutMenurutMenurutMenurutMenurutMenurutMenurutMenurutMenurutMenurutMenurutMenurutMenurutMenurutMenurutMenurutMenurutMenurutMenurutMenurutMenurutMenurutMenurutMenurutMenurutMenurutMenurutMenurutMenurutMenurutMenurutMenurutMenurutMenurutMenurutMenurutMenurutMenurutMenurutMenurutMenurutMenurutMenurutMenurutMenurutMenurutMenurutMenurutMenurutMenurutMenurutMenurutMenurutMenurutMenurutMenurutMenurutMenurutMenurutMenurutMenurutMenurutMenurutMenurutMenurutMenurutMenurutMenurutMenurutMenurutMenurutMenurutMenurutMenurutMenurutMenurutMenurutMenurutMenurutMenurutMenurutMenurutMenurutMenurutMenurutMenurutMenurutMenurutMenurutMenurutMenurutMenurutMenurutMenurutMenurutMenurutMenurutMenurutMenurutMenurutMenurutMenurutMenurutMenurutMenurutMenurutMenurutMenurutMenurutMenurutMenurutMenurutMenurutMenurutMenurutMenurutMenurutMenurutMenurutMenurutMenurutMenurutMenurutMenurutMenurutMenurutMenurutMenurutMenurutMenurutMenurutMenurutMenurutMenurutMenurutMenurutMenurutMenurutMenurutMenurutMenurutMenurutMenurutMenurutMenurutMenurutMenurutMenurutMenurutMenurutMenurutMenurutMenurutMenurutMenurutMenurutMenurutMenurutMenurutMenurutMenurutMenurutMenurutMenurutMenurutMenurutMenurutMenurutMenurutMenurutMenurutMenurutMenurutMenurutMenurutMenurutMenurutMenurutMenurutMenurutMenurutMenurutMenurutMenurutMenurutMenurutMenurutMenurutMenurutMenurutMenurutMenurutMenurutMenurutMenurutMenurutMenurutMenurutMenurutMenurutMenurutMenurutMenurutMenurutMenurutMenurutMenurutMenurutMenurutMenurutMenurutMenurutMenurutMenurutMenurutMenurutMenurutMenurutMenurutMenurutMenurutMenurutMenurutMenurutMenurutMenurutMenurutMenurutMenurutMenurutMenurutMenurutMenurutMenurutMenurutMenurutMenurutMenurutMenurutMenurutMenurutMenurutMenurutMenurutMenurutMenurutMenurutMenurutMenurutMenurutMenurutMenurutMenurutMenurutMenurutMenurutMenurutMenurutMenurutMenurutMenurutMenurutMenurutMenurutMenurutMenurutMenurutMenurutMenurutMenurutMenurutMenurutMenurutMenurutMenurutMenurutMenurutMenurutMenurutMenurutMenurutMenurutMenurut] took 0.31540942192077637 seconds, consider setting Text2TextProblem.max_subtoken_length to a smaller value.\n"
     ]
    },
    {
     "name": "stdout",
     "output_type": "stream",
     "text": [
      "INFO:tensorflow:Processing token [sukayanghijau] took 3.6278669834136963 seconds, consider setting Text2TextProblem.max_subtoken_length to a smaller value.\n"
     ]
    },
    {
     "name": "stderr",
     "output_type": "stream",
     "text": [
      "INFO:tensorflow:Processing token [sukayanghijau] took 3.6278669834136963 seconds, consider setting Text2TextProblem.max_subtoken_length to a smaller value.\n"
     ]
    },
    {
     "name": "stdout",
     "output_type": "stream",
     "text": [
      "INFO:tensorflow:vocab_size = 93844\n"
     ]
    },
    {
     "name": "stderr",
     "output_type": "stream",
     "text": [
      "INFO:tensorflow:vocab_size = 93844\n"
     ]
    },
    {
     "name": "stdout",
     "output_type": "stream",
     "text": [
      "INFO:tensorflow:Iteration 1\n"
     ]
    },
    {
     "name": "stderr",
     "output_type": "stream",
     "text": [
      "INFO:tensorflow:Iteration 1\n"
     ]
    },
    {
     "name": "stdout",
     "output_type": "stream",
     "text": [
      "INFO:tensorflow:Processing token [Farasfrekuensibelakang] took 0.12952828407287598 seconds, consider setting Text2TextProblem.max_subtoken_length to a smaller value.\n"
     ]
    },
    {
     "name": "stderr",
     "output_type": "stream",
     "text": [
      "INFO:tensorflow:Processing token [Farasfrekuensibelakang] took 0.12952828407287598 seconds, consider setting Text2TextProblem.max_subtoken_length to a smaller value.\n"
     ]
    },
    {
     "name": "stdout",
     "output_type": "stream",
     "text": [
      "INFO:tensorflow:Processing token [PengecualianPertemuan] took 0.39061784744262695 seconds, consider setting Text2TextProblem.max_subtoken_length to a smaller value.\n"
     ]
    },
    {
     "name": "stderr",
     "output_type": "stream",
     "text": [
      "INFO:tensorflow:Processing token [PengecualianPertemuan] took 0.39061784744262695 seconds, consider setting Text2TextProblem.max_subtoken_length to a smaller value.\n"
     ]
    },
    {
     "name": "stdout",
     "output_type": "stream",
     "text": [
      "INFO:tensorflow:Processing token [kekimportNFDPong] took 0.9659707546234131 seconds, consider setting Text2TextProblem.max_subtoken_length to a smaller value.\n"
     ]
    },
    {
     "name": "stderr",
     "output_type": "stream",
     "text": [
      "INFO:tensorflow:Processing token [kekimportNFDPong] took 0.9659707546234131 seconds, consider setting Text2TextProblem.max_subtoken_length to a smaller value.\n"
     ]
    },
    {
     "name": "stdout",
     "output_type": "stream",
     "text": [
      "INFO:tensorflow:vocab_size = 38114\n"
     ]
    },
    {
     "name": "stderr",
     "output_type": "stream",
     "text": [
      "INFO:tensorflow:vocab_size = 38114\n"
     ]
    },
    {
     "name": "stdout",
     "output_type": "stream",
     "text": [
      "INFO:tensorflow:Iteration 2\n"
     ]
    },
    {
     "name": "stderr",
     "output_type": "stream",
     "text": [
      "INFO:tensorflow:Iteration 2\n"
     ]
    },
    {
     "name": "stdout",
     "output_type": "stream",
     "text": [
      "INFO:tensorflow:Processing token [mengompreskan] took 0.13311028480529785 seconds, consider setting Text2TextProblem.max_subtoken_length to a smaller value.\n"
     ]
    },
    {
     "name": "stderr",
     "output_type": "stream",
     "text": [
      "INFO:tensorflow:Processing token [mengompreskan] took 0.13311028480529785 seconds, consider setting Text2TextProblem.max_subtoken_length to a smaller value.\n"
     ]
    },
    {
     "name": "stdout",
     "output_type": "stream",
     "text": [
      "INFO:tensorflow:Processing token [aparigraha] took 0.41717529296875 seconds, consider setting Text2TextProblem.max_subtoken_length to a smaller value.\n"
     ]
    },
    {
     "name": "stderr",
     "output_type": "stream",
     "text": [
      "INFO:tensorflow:Processing token [aparigraha] took 0.41717529296875 seconds, consider setting Text2TextProblem.max_subtoken_length to a smaller value.\n"
     ]
    },
    {
     "name": "stdout",
     "output_type": "stream",
     "text": [
      "INFO:tensorflow:Processing token [interintradisiplin] took 0.8419156074523926 seconds, consider setting Text2TextProblem.max_subtoken_length to a smaller value.\n"
     ]
    },
    {
     "name": "stderr",
     "output_type": "stream",
     "text": [
      "INFO:tensorflow:Processing token [interintradisiplin] took 0.8419156074523926 seconds, consider setting Text2TextProblem.max_subtoken_length to a smaller value.\n"
     ]
    },
    {
     "name": "stdout",
     "output_type": "stream",
     "text": [
      "INFO:tensorflow:vocab_size = 38816\n"
     ]
    },
    {
     "name": "stderr",
     "output_type": "stream",
     "text": [
      "INFO:tensorflow:vocab_size = 38816\n"
     ]
    },
    {
     "name": "stdout",
     "output_type": "stream",
     "text": [
      "INFO:tensorflow:Iteration 3\n"
     ]
    },
    {
     "name": "stderr",
     "output_type": "stream",
     "text": [
      "INFO:tensorflow:Iteration 3\n"
     ]
    },
    {
     "name": "stdout",
     "output_type": "stream",
     "text": [
      "INFO:tensorflow:Processing token [Risha] took 0.1980130672454834 seconds, consider setting Text2TextProblem.max_subtoken_length to a smaller value.\n"
     ]
    },
    {
     "name": "stderr",
     "output_type": "stream",
     "text": [
      "INFO:tensorflow:Processing token [Risha] took 0.1980130672454834 seconds, consider setting Text2TextProblem.max_subtoken_length to a smaller value.\n"
     ]
    },
    {
     "name": "stdout",
     "output_type": "stream",
     "text": [
      "INFO:tensorflow:Processing token [Bolboscho] took 0.3691365718841553 seconds, consider setting Text2TextProblem.max_subtoken_length to a smaller value.\n"
     ]
    },
    {
     "name": "stderr",
     "output_type": "stream",
     "text": [
      "INFO:tensorflow:Processing token [Bolboscho] took 0.3691365718841553 seconds, consider setting Text2TextProblem.max_subtoken_length to a smaller value.\n"
     ]
    },
    {
     "name": "stdout",
     "output_type": "stream",
     "text": [
      "INFO:tensorflow:Processing token [kemandfrekuensi] took 0.9345786571502686 seconds, consider setting Text2TextProblem.max_subtoken_length to a smaller value.\n"
     ]
    },
    {
     "name": "stderr",
     "output_type": "stream",
     "text": [
      "INFO:tensorflow:Processing token [kemandfrekuensi] took 0.9345786571502686 seconds, consider setting Text2TextProblem.max_subtoken_length to a smaller value.\n"
     ]
    },
    {
     "name": "stdout",
     "output_type": "stream",
     "text": [
      "INFO:tensorflow:vocab_size = 38760\n"
     ]
    },
    {
     "name": "stderr",
     "output_type": "stream",
     "text": [
      "INFO:tensorflow:vocab_size = 38760\n"
     ]
    },
    {
     "name": "stdout",
     "output_type": "stream",
     "text": [
      "INFO:tensorflow:Trying min_count 938\n"
     ]
    },
    {
     "name": "stderr",
     "output_type": "stream",
     "text": [
      "INFO:tensorflow:Trying min_count 938\n"
     ]
    },
    {
     "name": "stdout",
     "output_type": "stream",
     "text": [
      "INFO:tensorflow:Iteration 0\n"
     ]
    },
    {
     "name": "stderr",
     "output_type": "stream",
     "text": [
      "INFO:tensorflow:Iteration 0\n"
     ]
    },
    {
     "name": "stdout",
     "output_type": "stream",
     "text": [
      "INFO:tensorflow:Processing token [MenurutMenurutMenurutMenurutMenurutMenurutMenurutMenurutMenurutMenurutMenurutMenurutMenurutMenurutMenurutMenurutMenurutMenurutMenurutMenurutMenurutMenurutMenurutMenurutMenurutMenurutMenurutMenurutMenurutMenurutMenurutMenurutMenurutMenurutMenurutMenurutMenurutMenurutMenurutMenurutMenurutMenurutMenurutMenurutMenurutMenurutMenurutMenurutMenurutMenurutMenurutMenurutMenurutMenurutMenurutMenurutMenurutMenurutMenurutMenurutMenurutMenurutMenurutMenurutMenurutMenurutMenurutMenurutMenurutMenurutMenurutMenurutMenurutMenurutMenurutMenurutMenurutMenurutMenurutMenurutMenurutMenurutMenurutMenurutMenurutMenurutMenurutMenurutMenurutMenurutMenurutMenurutMenurutMenurutMenurutMenurutMenurutMenurutMenurutMenurutMenurutMenurutMenurutMenurutMenurutMenurutMenurutMenurutMenurutMenurutMenurutMenurutMenurutMenurutMenurutMenurutMenurutMenurutMenurutMenurutMenurutMenurutMenurutMenurutMenurutMenurutMenurutMenurutMenurutMenurutMenurutMenurutMenurutMenurutMenurutMenurutMenurutMenurutMenurutMenurutMenurutMenurutMenurutMenurutMenurutMenurutMenurutMenurutMenurutMenurutMenurutMenurutMenurutMenurutMenurutMenurutMenurutMenurutMenurutMenurutMenurutMenurutMenurutMenurutMenurutMenurutMenurutMenurutMenurutMenurutMenurutMenurutMenurutMenurutMenurutMenurutMenurutMenurutMenurutMenurutMenurutMenurutMenurutMenurutMenurutMenurutMenurutMenurutMenurutMenurutMenurutMenurutMenurutMenurutMenurutMenurutMenurutMenurutMenurutMenurutMenurutMenurutMenurutMenurutMenurutMenurutMenurutMenurutMenurutMenurutMenurutMenurutMenurutMenurutMenurutMenurutMenurutMenurutMenurutMenurutMenurutMenurutMenurutMenurutMenurutMenurutMenurutMenurutMenurutMenurutMenurutMenurutMenurutMenurutMenurutMenurutMenurutMenurutMenurutMenurutMenurutMenurutMenurutMenurutMenurutMenurutMenurutMenurutMenurutMenurutMenurutMenurutMenurutMenurutMenurutMenurutMenurutMenurutMenurutMenurutMenurutMenurutMenurutMenurutMenurutMenurutMenurutMenurutMenurutMenurutMenurutMenurutMenurutMenurutMenurutMenurutMenurutMenurutMenurutMenurutMenurutMenurutMenurutMenurutMenurutMenurutMenurutMenurutMenurutMenurutMenurutMenurutMenurutMenurutMenurutMenurutMenurutMenurutMenurutMenurutMenurutMenurutMenurutMenurutMenurutMenurutMenurutMenurutMenurutMenurutMenurutMenurutMenurutMenurutMenurutMenurutMenurutMenurutMenurutMenurutMenurutMenurutMenurutMenurutMenurutMenurutMenurutMenurutMenurutMenurutMenurutMenurutMenurutMenurutMenurutMenurutMenurutMenurutMenurutMenurutMenurutMenurutMenurutMenurutMenurutMenurutMenurutMenurutMenurutMenurutMenurutMenurutMenurutMenurutMenurutMenurutMenurutMenurutMenurutMenurutMenurutMenurutMenurutMenurutMenurutMenurutMenurutMenurutMenurutMenurutMenurutMenurutMenurutMenurutMenurutMenurutMenurutMenurutMenurutMenurutMenurutMenurutMenurutMenurutMenurutMenurutMenurutMenurutMenurutMenurutMenurutMenurutMenurutMenurutMenurutMenurutMenurutMenurutMenurutMenurutMenurutMenurutMenurutMenurutMenurutMenurutMenurutMenurutMenurutMenurutMenurutMenurutMenurutMenurutMenurutMenurutMenurutMenurutMenurutMenurutMenurutMenurutMenurutMenurutMenurutMenurutMenurutMenurutMenurutMenurutMenurutMenurutMenurutMenurutMenurutMenurutMenurutMenurutMenurutMenurutMenurutMenurutMenurutMenurutMenurutMenurutMenurutMenurutMenurutMenurutMenurutMenurutMenurutMenurutMenurutMenurutMenurutMenurutMenurutMenurutMenurutMenurutMenurutMenurutMenurutMenurutMenurutMenurutMenurutMenurutMenurutMenurutMenurutMenurutMenurutMenurutMenurutMenurutMenurutMenurutMenurutMenurutMenurutMenurutMenurutMenurutMenurutMenurutMenurutMenurutMenurutMenurutMenurutMenurutMenurutMenurutMenurutMenurutMenurutMenurutMenurutMenurutMenurutMenurutMenurutMenurutMenurutMenurutMenurutMenurutMenurutMenurutMenurutMenurutMenurutMenurutMenurutMenurutMenurutMenurutMenurutMenurutMenurutMenurutMenurutMenurutMenurutMenurutMenurutMenurutMenurutMenurutMenurutMenurutMenurutMenurutMenurutMenurutMenurut] took 0.47058820724487305 seconds, consider setting Text2TextProblem.max_subtoken_length to a smaller value.\n"
     ]
    },
    {
     "name": "stderr",
     "output_type": "stream",
     "text": [
      "INFO:tensorflow:Processing token [MenurutMenurutMenurutMenurutMenurutMenurutMenurutMenurutMenurutMenurutMenurutMenurutMenurutMenurutMenurutMenurutMenurutMenurutMenurutMenurutMenurutMenurutMenurutMenurutMenurutMenurutMenurutMenurutMenurutMenurutMenurutMenurutMenurutMenurutMenurutMenurutMenurutMenurutMenurutMenurutMenurutMenurutMenurutMenurutMenurutMenurutMenurutMenurutMenurutMenurutMenurutMenurutMenurutMenurutMenurutMenurutMenurutMenurutMenurutMenurutMenurutMenurutMenurutMenurutMenurutMenurutMenurutMenurutMenurutMenurutMenurutMenurutMenurutMenurutMenurutMenurutMenurutMenurutMenurutMenurutMenurutMenurutMenurutMenurutMenurutMenurutMenurutMenurutMenurutMenurutMenurutMenurutMenurutMenurutMenurutMenurutMenurutMenurutMenurutMenurutMenurutMenurutMenurutMenurutMenurutMenurutMenurutMenurutMenurutMenurutMenurutMenurutMenurutMenurutMenurutMenurutMenurutMenurutMenurutMenurutMenurutMenurutMenurutMenurutMenurutMenurutMenurutMenurutMenurutMenurutMenurutMenurutMenurutMenurutMenurutMenurutMenurutMenurutMenurutMenurutMenurutMenurutMenurutMenurutMenurutMenurutMenurutMenurutMenurutMenurutMenurutMenurutMenurutMenurutMenurutMenurutMenurutMenurutMenurutMenurutMenurutMenurutMenurutMenurutMenurutMenurutMenurutMenurutMenurutMenurutMenurutMenurutMenurutMenurutMenurutMenurutMenurutMenurutMenurutMenurutMenurutMenurutMenurutMenurutMenurutMenurutMenurutMenurutMenurutMenurutMenurutMenurutMenurutMenurutMenurutMenurutMenurutMenurutMenurutMenurutMenurutMenurutMenurutMenurutMenurutMenurutMenurutMenurutMenurutMenurutMenurutMenurutMenurutMenurutMenurutMenurutMenurutMenurutMenurutMenurutMenurutMenurutMenurutMenurutMenurutMenurutMenurutMenurutMenurutMenurutMenurutMenurutMenurutMenurutMenurutMenurutMenurutMenurutMenurutMenurutMenurutMenurutMenurutMenurutMenurutMenurutMenurutMenurutMenurutMenurutMenurutMenurutMenurutMenurutMenurutMenurutMenurutMenurutMenurutMenurutMenurutMenurutMenurutMenurutMenurutMenurutMenurutMenurutMenurutMenurutMenurutMenurutMenurutMenurutMenurutMenurutMenurutMenurutMenurutMenurutMenurutMenurutMenurutMenurutMenurutMenurutMenurutMenurutMenurutMenurutMenurutMenurutMenurutMenurutMenurutMenurutMenurutMenurutMenurutMenurutMenurutMenurutMenurutMenurutMenurutMenurutMenurutMenurutMenurutMenurutMenurutMenurutMenurutMenurutMenurutMenurutMenurutMenurutMenurutMenurutMenurutMenurutMenurutMenurutMenurutMenurutMenurutMenurutMenurutMenurutMenurutMenurutMenurutMenurutMenurutMenurutMenurutMenurutMenurutMenurutMenurutMenurutMenurutMenurutMenurutMenurutMenurutMenurutMenurutMenurutMenurutMenurutMenurutMenurutMenurutMenurutMenurutMenurutMenurutMenurutMenurutMenurutMenurutMenurutMenurutMenurutMenurutMenurutMenurutMenurutMenurutMenurutMenurutMenurutMenurutMenurutMenurutMenurutMenurutMenurutMenurutMenurutMenurutMenurutMenurutMenurutMenurutMenurutMenurutMenurutMenurutMenurutMenurutMenurutMenurutMenurutMenurutMenurutMenurutMenurutMenurutMenurutMenurutMenurutMenurutMenurutMenurutMenurutMenurutMenurutMenurutMenurutMenurutMenurutMenurutMenurutMenurutMenurutMenurutMenurutMenurutMenurutMenurutMenurutMenurutMenurutMenurutMenurutMenurutMenurutMenurutMenurutMenurutMenurutMenurutMenurutMenurutMenurutMenurutMenurutMenurutMenurutMenurutMenurutMenurutMenurutMenurutMenurutMenurutMenurutMenurutMenurutMenurutMenurutMenurutMenurutMenurutMenurutMenurutMenurutMenurutMenurutMenurutMenurutMenurutMenurutMenurutMenurutMenurutMenurutMenurutMenurutMenurutMenurutMenurutMenurutMenurutMenurutMenurutMenurutMenurutMenurutMenurutMenurutMenurutMenurutMenurutMenurutMenurutMenurutMenurutMenurutMenurutMenurutMenurutMenurutMenurutMenurutMenurutMenurutMenurutMenurutMenurutMenurutMenurutMenurutMenurutMenurutMenurutMenurutMenurutMenurutMenurutMenurutMenurutMenurutMenurutMenurutMenurutMenurutMenurutMenurutMenurutMenurutMenurutMenurutMenurutMenurutMenurutMenurutMenurutMenurutMenurutMenurutMenurutMenurutMenurutMenurutMenurut] took 0.47058820724487305 seconds, consider setting Text2TextProblem.max_subtoken_length to a smaller value.\n"
     ]
    },
    {
     "name": "stdout",
     "output_type": "stream",
     "text": [
      "INFO:tensorflow:Processing token [Summitmitmitmitmitmitmitmitmitmitmitmitmitmitmitmitmitmitmitmitmitmitmitmitmitmitmitmitmitmitmitmitmitmitmitmitmitmitmitmitmitmitmitmitmitmitmitmitmitmitmitmitmitmitmitmitmitmitmitmitmitmitmitmitmitmitmitmitmitmitmitmitmitmitmitmitmitmitmitmitmitmitmitmitmitmitmitmitmitmitmitmitmitmitmitmitmitmitmitmitmitmitmitmitmitmitmitmitmitmitmitmitmitmitmitmitmitmitmitmitmitmitmitmitmitmitmitmitmitmitmitmitmitmitmitmitmitmitmitmitmitmitmitmitmitmitmitmitmitmitmitmitmitmitmitmitmitmitmitmitmitmitmitmitmitmitmitmitmitmitmitmitmitmitmitmitmitmitmitmitmitmitmitmitmitmitmitmitmitmitmitmitmitmitmitmitmitmitmitmitmitmitmitmitmitmitmitmitmitmitmitmitmitmitmitmitmitmitmitmitmitmitmitmitmitmitmitmitmitmitmitmitmitmitmitmitmitmitmitmitmitmitmitmitmitmitmitmitmitmitmitmitmitmitmitmitmitmitmitmitmitmitmitmitmitmitmitmitmitmitmitmitmitmitmitmitmitmitmitmitmitmitmitmitmitmitmitmitmitmitmitmitmitmitmitmitmitmitmitmitmitmitmitmitmitmitmitmitmitmitmitmitmitmitmitmitmitmitmitmitmitmitmitmitmitmitmitmitmitmitmitmitmitmitmitmitmitmitmitmitmitmitmitmitmitmitmitmitmitmitmitmitmitmitmitmitmitmitmitmitmitmitmitmitmitmitmitmitmitmitmitmitmitmitmitmitmitmitmitmitmitmitmitmitmitmitmitmitmitmitmitmitmitmitmitmitmitmitmitmitmitmitmitmitmitmitmitmitmitmitmitmitmitmitmitmitmitmitmitmitmitmitmitmitmitmitmitmitmitmitmitmitmitmitmitmitmitmitmitmitmitmitmitmitmitmitmitmitmitmitmitmitmitmitmitmitmitmitmitmitmitmitmitmitmitmitmitmitmitmitmitmitmitmitmitmitmitmitmitmitmitmitmitmitmitmitmitmitmitmitmitmitmitmitmitmitmitmitmitmitmitmitmitmitmitmitmitmitmitmitmitmitmitmitmitmitmitmitmitmitmitmitmitmitmitmitmitmitmitmitmitmitmitmitmitmitmitmitmitmitmitmitmitmitmitmitmitmitmitmitmitmitmitmitmitmitmitmitmitmitmitmitmitmitmitmitmitmitmitmitmitmitmitmitmitmitmitmitmitmitmitmitmitmitmitmitmitmitmitmitmitmitmitmitmitmitmitmitmitmitmitmitmitmitmitmitmitmitmitmitmitmitmitmitmitmitmitmitmitmitmitmitmitmitmitmitmitmitmitmitmitmitmitmitmitmitmitmitmitmitmitmitmitmitmitmitmitmitmitmitmitmitmitmitmitmitmitmitmitmitmitmitmitmitmitmitmitmitmitmitmitmitmitmitmitmitmitmitmitmitmitmitmitmitmitmitmitmitmitmitmitmitmitmitmitmitmitmitmitmitmitmitmitmitmitmitmitmitmitmitmitmitmitmitmitmitmitmitmitmitmitmitmitmitmitmitmitmitmitmitmitmitmitmitmit] took 0.15808963775634766 seconds, consider setting Text2TextProblem.max_subtoken_length to a smaller value.\n"
     ]
    },
    {
     "name": "stderr",
     "output_type": "stream",
     "text": [
      "INFO:tensorflow:Processing token [Summitmitmitmitmitmitmitmitmitmitmitmitmitmitmitmitmitmitmitmitmitmitmitmitmitmitmitmitmitmitmitmitmitmitmitmitmitmitmitmitmitmitmitmitmitmitmitmitmitmitmitmitmitmitmitmitmitmitmitmitmitmitmitmitmitmitmitmitmitmitmitmitmitmitmitmitmitmitmitmitmitmitmitmitmitmitmitmitmitmitmitmitmitmitmitmitmitmitmitmitmitmitmitmitmitmitmitmitmitmitmitmitmitmitmitmitmitmitmitmitmitmitmitmitmitmitmitmitmitmitmitmitmitmitmitmitmitmitmitmitmitmitmitmitmitmitmitmitmitmitmitmitmitmitmitmitmitmitmitmitmitmitmitmitmitmitmitmitmitmitmitmitmitmitmitmitmitmitmitmitmitmitmitmitmitmitmitmitmitmitmitmitmitmitmitmitmitmitmitmitmitmitmitmitmitmitmitmitmitmitmitmitmitmitmitmitmitmitmitmitmitmitmitmitmitmitmitmitmitmitmitmitmitmitmitmitmitmitmitmitmitmitmitmitmitmitmitmitmitmitmitmitmitmitmitmitmitmitmitmitmitmitmitmitmitmitmitmitmitmitmitmitmitmitmitmitmitmitmitmitmitmitmitmitmitmitmitmitmitmitmitmitmitmitmitmitmitmitmitmitmitmitmitmitmitmitmitmitmitmitmitmitmitmitmitmitmitmitmitmitmitmitmitmitmitmitmitmitmitmitmitmitmitmitmitmitmitmitmitmitmitmitmitmitmitmitmitmitmitmitmitmitmitmitmitmitmitmitmitmitmitmitmitmitmitmitmitmitmitmitmitmitmitmitmitmitmitmitmitmitmitmitmitmitmitmitmitmitmitmitmitmitmitmitmitmitmitmitmitmitmitmitmitmitmitmitmitmitmitmitmitmitmitmitmitmitmitmitmitmitmitmitmitmitmitmitmitmitmitmitmitmitmitmitmitmitmitmitmitmitmitmitmitmitmitmitmitmitmitmitmitmitmitmitmitmitmitmitmitmitmitmitmitmitmitmitmitmitmitmitmitmitmitmitmitmitmitmitmitmitmitmitmitmitmitmitmitmitmitmitmitmitmitmitmitmitmitmitmitmitmitmitmitmitmitmitmitmitmitmitmitmitmitmitmitmitmitmitmitmitmitmitmitmitmitmitmitmitmitmitmitmitmitmitmitmitmitmitmitmitmitmitmitmitmitmitmitmitmitmitmitmitmitmitmitmitmitmitmitmitmitmitmitmitmitmitmitmitmitmitmitmitmitmitmitmitmitmitmitmitmitmitmitmitmitmitmitmitmitmitmitmitmitmitmitmitmitmitmitmitmitmitmitmitmitmitmitmitmitmitmitmitmitmitmitmitmitmitmitmitmitmitmitmitmitmitmitmitmitmitmitmitmitmitmitmitmitmitmitmitmitmitmitmitmitmitmitmitmitmitmitmitmitmitmitmitmitmitmitmitmitmitmitmitmitmitmitmitmitmitmitmitmitmitmitmitmitmitmitmitmitmitmitmitmitmitmitmitmitmitmitmitmitmitmitmitmitmitmitmitmitmitmitmitmitmitmitmitmitmitmitmitmitmitmitmitmitmitmitmitmitmitmitmitmitmitmitmitmitmitmitmitmitmitmit] took 0.15808963775634766 seconds, consider setting Text2TextProblem.max_subtoken_length to a smaller value.\n"
     ]
    },
    {
     "name": "stdout",
     "output_type": "stream",
     "text": [
      "INFO:tensorflow:Processing token [lalufrekuensinciPertemuan] took 0.14534592628479004 seconds, consider setting Text2TextProblem.max_subtoken_length to a smaller value.\n"
     ]
    },
    {
     "name": "stderr",
     "output_type": "stream",
     "text": [
      "INFO:tensorflow:Processing token [lalufrekuensinciPertemuan] took 0.14534592628479004 seconds, consider setting Text2TextProblem.max_subtoken_length to a smaller value.\n"
     ]
    },
    {
     "name": "stdout",
     "output_type": "stream",
     "text": [
      "INFO:tensorflow:Processing token [ditaksirkerja] took 0.4364125728607178 seconds, consider setting Text2TextProblem.max_subtoken_length to a smaller value.\n"
     ]
    },
    {
     "name": "stderr",
     "output_type": "stream",
     "text": [
      "INFO:tensorflow:Processing token [ditaksirkerja] took 0.4364125728607178 seconds, consider setting Text2TextProblem.max_subtoken_length to a smaller value.\n"
     ]
    },
    {
     "name": "stdout",
     "output_type": "stream",
     "text": [
      "INFO:tensorflow:Processing token [percikanchoic] took 0.9089860916137695 seconds, consider setting Text2TextProblem.max_subtoken_length to a smaller value.\n"
     ]
    },
    {
     "name": "stderr",
     "output_type": "stream",
     "text": [
      "INFO:tensorflow:Processing token [percikanchoic] took 0.9089860916137695 seconds, consider setting Text2TextProblem.max_subtoken_length to a smaller value.\n"
     ]
    },
    {
     "name": "stdout",
     "output_type": "stream",
     "text": [
      "INFO:tensorflow:Processing token [pemimpinPertemuanpemimpin] took 1.847947359085083 seconds, consider setting Text2TextProblem.max_subtoken_length to a smaller value.\n"
     ]
    },
    {
     "name": "stderr",
     "output_type": "stream",
     "text": [
      "INFO:tensorflow:Processing token [pemimpinPertemuanpemimpin] took 1.847947359085083 seconds, consider setting Text2TextProblem.max_subtoken_length to a smaller value.\n"
     ]
    },
    {
     "name": "stdout",
     "output_type": "stream",
     "text": [
      "INFO:tensorflow:Processing token [metaforforforforforforforforforforforforforforforforforforforforforforforforforforforforforforforforforforforforforforforforforforforforforforforforforforforforforforforforforforforforforforforforforforforforforforforforforforforforforforforforforforforforforforforforforforforforforforforforforforforforforforforforforforforforforforforforforforforforforforforforforforforforforforforforforforforforforforforforforforforforforforforforforforforforforforforforforforforforforforforforforforforforforforforforforforforforforforforforforforforforforforforforforforforforforforforforforforforforforforforforforforforforforforforforforforforforforforforforforforforforforforforforforforforforforforforforforforforforforforforforforforforforforforforforforforforforforforforforforforforforforforforforforforforforforforforforforforforforforforforforforforforforforforforforforforforforforforforforforforforforforforforforforforforforforforforforforforforforforforforforforforforforforforforforforforforforforforforforforforforforforforforforforforforforforforforforforforforforforforforforforforforforforforforforforforforforforforforforforforforforforforforforforforforforforforforforforforforforforforforforforforforforforforforforforforforforforforforforforforforfor] took 0.10493588447570801 seconds, consider setting Text2TextProblem.max_subtoken_length to a smaller value.\n"
     ]
    },
    {
     "name": "stderr",
     "output_type": "stream",
     "text": [
      "INFO:tensorflow:Processing token [metaforforforforforforforforforforforforforforforforforforforforforforforforforforforforforforforforforforforforforforforforforforforforforforforforforforforforforforforforforforforforforforforforforforforforforforforforforforforforforforforforforforforforforforforforforforforforforforforforforforforforforforforforforforforforforforforforforforforforforforforforforforforforforforforforforforforforforforforforforforforforforforforforforforforforforforforforforforforforforforforforforforforforforforforforforforforforforforforforforforforforforforforforforforforforforforforforforforforforforforforforforforforforforforforforforforforforforforforforforforforforforforforforforforforforforforforforforforforforforforforforforforforforforforforforforforforforforforforforforforforforforforforforforforforforforforforforforforforforforforforforforforforforforforforforforforforforforforforforforforforforforforforforforforforforforforforforforforforforforforforforforforforforforforforforforforforforforforforforforforforforforforforforforforforforforforforforforforforforforforforforforforforforforforforforforforforforforforforforforforforforforforforforforforforforforforforforforforforforforforforforforforforforforforforforforforforforforforforforforforforfor] took 0.10493588447570801 seconds, consider setting Text2TextProblem.max_subtoken_length to a smaller value.\n"
     ]
    },
    {
     "name": "stdout",
     "output_type": "stream",
     "text": [
      "INFO:tensorflow:Processing token [sekseksekseksekseksekseksekseksekseksekseksekseksekseksekseksekseksekseksekseksekseksekseksekseksekseksekseksekseksekseksekseksekseksekseksekseksekseksekseksekseksekseksekseksekseksekseksekseksekseksekseksekseksekseksekseksekseksekseksekseksekseksekseksekseksekseksekseksekseksekseksekseksekseksekseksekseksekseksekseksekseksekseksekseksekseksekseksekseksekseksekseksekseksekseksekseksekseksekseksekseksekseksekseksekseksekseksekseksekseksekseksekseksekseksekseksekseksekseksekseksekseksekseksekseksekseksekseksekseksekseksekseksekseksekseksekseksekseksekseksekseksekseksekseksekseksekseksekseksekseksekseksekseksekseksekseksekseksekseksekseksekseksekseksekseksekseksekseksekseksekseksekseksekseksekseksekseksekseksekseksekseksekseksekseksekseksekseksekseksekseksekseksekseksekseksekseksekseksekseksekseksekseksekseksekseksekseksekseksekseksekseksekseksekseksekseksekseksekseksekseksekseksekseksekseksekseksekseksekseksekseksekseksekseksekseksekseksekseksekseksekseksekseksekseksekseksekseksekseksekseksekseksekseksekseksekseksekseksekseksekseksekseksekseksekseksekseksekseksekseksekseksekseksekseksekseksekseksekseksekseksekseksekseksekseksekseksekseksekseksekseksekseksekseksekseksekseksekseksekseksekseksekseksekseksekseksekseksekseksekseksekseksekseksekseksekseksekseksekseksekseksekseksekseksekseksekseksekseksekseksekseksekseksekseksekseksekseksekseksekseksekseksekseksekseksekseksekseksekseksekseksekseksekseksekseksekseksekseksekseksekseksekseksekseksekseksekseksekseksekseksekseksekseksekseksekseksekseksekseksekseksekseksekseksekseksekseksekseksekseksekseksekseksekseksekseksekseksekseksekseksekseksekseksekseksekseksekseksekseksekseksekseksekseksekseksekseksekseksekseksekseksekseksekseksekseksekseksekseksekseksekseksekseksekseksekseksekseksekseksekseksekseksekseksekseksekseksekseksekseksekseksekseksekseksekseksekseksekseksekseksekseksekseksekseksekseksekseksekseksekseksekseksekseksekseksekseksekseksekseksekseksekseksekseksekseksekseksekseksekseksekseksekseksekseksekseksekseksekseksekseksekseksekseksekseksekseksekseksekseksekseksekseksekseksekseksekseksekseksekseksekseksekseksekseksekseksekseks] took 0.17615818977355957 seconds, consider setting Text2TextProblem.max_subtoken_length to a smaller value.\n"
     ]
    },
    {
     "name": "stderr",
     "output_type": "stream",
     "text": [
      "INFO:tensorflow:Processing token [sekseksekseksekseksekseksekseksekseksekseksekseksekseksekseksekseksekseksekseksekseksekseksekseksekseksekseksekseksekseksekseksekseksekseksekseksekseksekseksekseksekseksekseksekseksekseksekseksekseksekseksekseksekseksekseksekseksekseksekseksekseksekseksekseksekseksekseksekseksekseksekseksekseksekseksekseksekseksekseksekseksekseksekseksekseksekseksekseksekseksekseksekseksekseksekseksekseksekseksekseksekseksekseksekseksekseksekseksekseksekseksekseksekseksekseksekseksekseksekseksekseksekseksekseksekseksekseksekseksekseksekseksekseksekseksekseksekseksekseksekseksekseksekseksekseksekseksekseksekseksekseksekseksekseksekseksekseksekseksekseksekseksekseksekseksekseksekseksekseksekseksekseksekseksekseksekseksekseksekseksekseksekseksekseksekseksekseksekseksekseksekseksekseksekseksekseksekseksekseksekseksekseksekseksekseksekseksekseksekseksekseksekseksekseksekseksekseksekseksekseksekseksekseksekseksekseksekseksekseksekseksekseksekseksekseksekseksekseksekseksekseksekseksekseksekseksekseksekseksekseksekseksekseksekseksekseksekseksekseksekseksekseksekseksekseksekseksekseksekseksekseksekseksekseksekseksekseksekseksekseksekseksekseksekseksekseksekseksekseksekseksekseksekseksekseksekseksekseksekseksekseksekseksekseksekseksekseksekseksekseksekseksekseksekseksekseksekseksekseksekseksekseksekseksekseksekseksekseksekseksekseksekseksekseksekseksekseksekseksekseksekseksekseksekseksekseksekseksekseksekseksekseksekseksekseksekseksekseksekseksekseksekseksekseksekseksekseksekseksekseksekseksekseksekseksekseksekseksekseksekseksekseksekseksekseksekseksekseksekseksekseksekseksekseksekseksekseksekseksekseksekseksekseksekseksekseksekseksekseksekseksekseksekseksekseksekseksekseksekseksekseksekseksekseksekseksekseksekseksekseksekseksekseksekseksekseksekseksekseksekseksekseksekseksekseksekseksekseksekseksekseksekseksekseksekseksekseksekseksekseksekseksekseksekseksekseksekseksekseksekseksekseksekseksekseksekseksekseksekseksekseksekseksekseksekseksekseksekseksekseksekseksekseksekseksekseksekseksekseksekseksekseksekseksekseksekseksekseksekseksekseksekseksekseksekseksekseksekseksekseksekseksekseksekseksekseksekseks] took 0.17615818977355957 seconds, consider setting Text2TextProblem.max_subtoken_length to a smaller value.\n"
     ]
    },
    {
     "name": "stdout",
     "output_type": "stream",
     "text": [
      "INFO:tensorflow:Processing token [MenurutMenurutMenurutMenurutMenurutMenurutMenurutMenurutMenurutMenurutMenurutMenurutMenurutMenurutMenurutMenurutMenurutMenurutMenurutMenurutMenurutMenurutMenurutMenurutMenurutMenurutMenurutMenurutMenurutMenurutMenurutMenurutMenurutMenurutMenurutMenurutMenurutMenurutMenurutMenurutMenurutMenurutMenurutMenurutMenurutMenurutMenurutMenurutMenurutMenurutMenurutMenurutMenurutMenurutMenurutMenurutMenurutMenurutMenurutMenurutMenurutMenurutMenurutMenurutMenurutMenurutMenurutMenurutMenurutMenurutMenurutMenurutMenurutMenurutMenurutMenurutMenurutMenurutMenurutMenurutMenurutMenurutMenurutMenurutMenurutMenurutMenurutMenurutMenurutMenurutMenurutMenurutMenurutMenurutMenurutMenurutMenurutMenurutMenurutMenurutMenurutMenurutMenurutMenurutMenurutMenurutMenurutMenurutMenurutMenurutMenurutMenurutMenurutMenurutMenurutMenurutMenurutMenurutMenurutMenurutMenurutMenurutMenurutMenurutMenurutMenurutMenurutMenurutMenurutMenurutMenurutMenurutMenurutMenurutMenurutMenurutMenurutMenurutMenurutMenurutMenurutMenurutMenurutMenurutMenurutMenurutMenurutMenurutMenurutMenurutMenurutMenurutMenurutMenurutMenurutMenurutMenurutMenurutMenurutMenurutMenurutMenurutMenurutMenurutMenurutMenurutMenurutMenurutMenurutMenurutMenurutMenurutMenurutMenurutMenurutMenurutMenurutMenurutMenurutMenurutMenurutMenurutMenurutMenurutMenurutMenurutMenurutMenurutMenurutMenurutMenurutMenurutMenurutMenurutMenurutMenurutMenurutMenurutMenurutMenurutMenurutMenurutMenurutMenurutMenurutMenurutMenurutMenurutMenurutMenurutMenurutMenurutMenurutMenurutMenurutMenurutMenurutMenurutMenurutMenurutMenurutMenurutMenurutMenurutMenurutMenurutMenurutMenurutMenurutMenurutMenurutMenurutMenurutMenurutMenurutMenurutMenurutMenurutMenurutMenurutMenurutMenurutMenurutMenurutMenurutMenurutMenurutMenurutMenurutMenurutMenurutMenurutMenurutMenurutMenurutMenurutMenurutMenurutMenurutMenurutMenurutMenurutMenurutMenurutMenurutMenurutMenurutMenurutMenurutMenurutMenurutMenurutMenurutMenurutMenurutMenurutMenurutMenurutMenurutMenurutMenurutMenurutMenurutMenurutMenurutMenurutMenurutMenurutMenurutMenurutMenurutMenurutMenurutMenurutMenurutMenurutMenurutMenurutMenurutMenurutMenurutMenurutMenurutMenurutMenurutMenurutMenurutMenurutMenurutMenurutMenurutMenurutMenurutMenurutMenurutMenurutMenurutMenurutMenurutMenurutMenurutMenurutMenurutMenurutMenurutMenurutMenurutMenurutMenurutMenurutMenurutMenurutMenurutMenurutMenurutMenurutMenurutMenurutMenurutMenurutMenurutMenurutMenurutMenurutMenurutMenurutMenurutMenurutMenurutMenurutMenurutMenurutMenurutMenurutMenurutMenurutMenurutMenurutMenurutMenurutMenurutMenurutMenurutMenurutMenurutMenurutMenurutMenurutMenurutMenurutMenurutMenurutMenurutMenurutMenurutMenurutMenurutMenurutMenurutMenurutMenurutMenurutMenurutMenurutMenurutMenurutMenurutMenurutMenurutMenurutMenurutMenurutMenurutMenurutMenurutMenurutMenurutMenurutMenurutMenurutMenurutMenurutMenurutMenurutMenurutMenurutMenurutMenurutMenurutMenurutMenurutMenurutMenurutMenurutMenurutMenurutMenurutMenurutMenurutMenurutMenurutMenurutMenurutMenurutMenurutMenurutMenurutMenurutMenurutMenurutMenurutMenurutMenurutMenurutMenurutMenurutMenurutMenurutMenurutMenurutMenurutMenurutMenurutMenurutMenurutMenurutMenurutMenurutMenurutMenurutMenurutMenurutMenurutMenurutMenurutMenurutMenurutMenurutMenurutMenurutMenurutMenurutMenurutMenurutMenurutMenurutMenurutMenurutMenurutMenurutMenurutMenurutMenurutMenurutMenurutMenurutMenurutMenurutMenurutMenurutMenurutMenurutMenurutMenurutMenurutMenurutMenurutMenurutMenurutMenurutMenurutMenurutMenurutMenurutMenurutMenurutMenurutMenurutMenurutMenurutMenurutMenurutMenurutMenurutMenurutMenurutMenurutMenurutMenurutMenurutMenurutMenurutMenurutMenurutMenurutMenurutMenurutMenurutMenurutMenurutMenurutMenurutMenurutMenurutMenurutMenurutMenurutMenurutMenurutMenurutMenurutMenurutMenurutMenurutMenurutMenurutMenurutMenurutMenurutMenurutMenurutMenurutMenurutMenurutMenurutMenurutMenurutMenurutMenurutMenurutMenurutMenurutMenurutMenurutMenurutMenurutMenurutMenurutMenurutMenurutMenurutMenurutMenurutMenurutMenurutMenurutMenurutMenurutMenurutMenurutMenurutMenurutMenurutMenurutMenurutMenurutMenurutMenurutMenurutMenurutMenurutMenurutMenurutMenurutMenurutMenurutMenurutMenurutMenurutMenurutMenurutMenurutMenurutMenurutMenurutMenurutMenurutMenurutMenurutMenurutMenurutMenurutMenurutMenurutMenurutMenurutMenurutMenurutMenurutMenurutMenurut] took 0.31331348419189453 seconds, consider setting Text2TextProblem.max_subtoken_length to a smaller value.\n"
     ]
    },
    {
     "name": "stderr",
     "output_type": "stream",
     "text": [
      "INFO:tensorflow:Processing token [MenurutMenurutMenurutMenurutMenurutMenurutMenurutMenurutMenurutMenurutMenurutMenurutMenurutMenurutMenurutMenurutMenurutMenurutMenurutMenurutMenurutMenurutMenurutMenurutMenurutMenurutMenurutMenurutMenurutMenurutMenurutMenurutMenurutMenurutMenurutMenurutMenurutMenurutMenurutMenurutMenurutMenurutMenurutMenurutMenurutMenurutMenurutMenurutMenurutMenurutMenurutMenurutMenurutMenurutMenurutMenurutMenurutMenurutMenurutMenurutMenurutMenurutMenurutMenurutMenurutMenurutMenurutMenurutMenurutMenurutMenurutMenurutMenurutMenurutMenurutMenurutMenurutMenurutMenurutMenurutMenurutMenurutMenurutMenurutMenurutMenurutMenurutMenurutMenurutMenurutMenurutMenurutMenurutMenurutMenurutMenurutMenurutMenurutMenurutMenurutMenurutMenurutMenurutMenurutMenurutMenurutMenurutMenurutMenurutMenurutMenurutMenurutMenurutMenurutMenurutMenurutMenurutMenurutMenurutMenurutMenurutMenurutMenurutMenurutMenurutMenurutMenurutMenurutMenurutMenurutMenurutMenurutMenurutMenurutMenurutMenurutMenurutMenurutMenurutMenurutMenurutMenurutMenurutMenurutMenurutMenurutMenurutMenurutMenurutMenurutMenurutMenurutMenurutMenurutMenurutMenurutMenurutMenurutMenurutMenurutMenurutMenurutMenurutMenurutMenurutMenurutMenurutMenurutMenurutMenurutMenurutMenurutMenurutMenurutMenurutMenurutMenurutMenurutMenurutMenurutMenurutMenurutMenurutMenurutMenurutMenurutMenurutMenurutMenurutMenurutMenurutMenurutMenurutMenurutMenurutMenurutMenurutMenurutMenurutMenurutMenurutMenurutMenurutMenurutMenurutMenurutMenurutMenurutMenurutMenurutMenurutMenurutMenurutMenurutMenurutMenurutMenurutMenurutMenurutMenurutMenurutMenurutMenurutMenurutMenurutMenurutMenurutMenurutMenurutMenurutMenurutMenurutMenurutMenurutMenurutMenurutMenurutMenurutMenurutMenurutMenurutMenurutMenurutMenurutMenurutMenurutMenurutMenurutMenurutMenurutMenurutMenurutMenurutMenurutMenurutMenurutMenurutMenurutMenurutMenurutMenurutMenurutMenurutMenurutMenurutMenurutMenurutMenurutMenurutMenurutMenurutMenurutMenurutMenurutMenurutMenurutMenurutMenurutMenurutMenurutMenurutMenurutMenurutMenurutMenurutMenurutMenurutMenurutMenurutMenurutMenurutMenurutMenurutMenurutMenurutMenurutMenurutMenurutMenurutMenurutMenurutMenurutMenurutMenurutMenurutMenurutMenurutMenurutMenurutMenurutMenurutMenurutMenurutMenurutMenurutMenurutMenurutMenurutMenurutMenurutMenurutMenurutMenurutMenurutMenurutMenurutMenurutMenurutMenurutMenurutMenurutMenurutMenurutMenurutMenurutMenurutMenurutMenurutMenurutMenurutMenurutMenurutMenurutMenurutMenurutMenurutMenurutMenurutMenurutMenurutMenurutMenurutMenurutMenurutMenurutMenurutMenurutMenurutMenurutMenurutMenurutMenurutMenurutMenurutMenurutMenurutMenurutMenurutMenurutMenurutMenurutMenurutMenurutMenurutMenurutMenurutMenurutMenurutMenurutMenurutMenurutMenurutMenurutMenurutMenurutMenurutMenurutMenurutMenurutMenurutMenurutMenurutMenurutMenurutMenurutMenurutMenurutMenurutMenurutMenurutMenurutMenurutMenurutMenurutMenurutMenurutMenurutMenurutMenurutMenurutMenurutMenurutMenurutMenurutMenurutMenurutMenurutMenurutMenurutMenurutMenurutMenurutMenurutMenurutMenurutMenurutMenurutMenurutMenurutMenurutMenurutMenurutMenurutMenurutMenurutMenurutMenurutMenurutMenurutMenurutMenurutMenurutMenurutMenurutMenurutMenurutMenurutMenurutMenurutMenurutMenurutMenurutMenurutMenurutMenurutMenurutMenurutMenurutMenurutMenurutMenurutMenurutMenurutMenurutMenurutMenurutMenurutMenurutMenurutMenurutMenurutMenurutMenurutMenurutMenurutMenurutMenurutMenurutMenurutMenurutMenurutMenurutMenurutMenurutMenurutMenurutMenurutMenurutMenurutMenurutMenurutMenurutMenurutMenurutMenurutMenurutMenurutMenurutMenurutMenurutMenurutMenurutMenurutMenurutMenurutMenurutMenurutMenurutMenurutMenurutMenurutMenurutMenurutMenurutMenurutMenurutMenurutMenurutMenurutMenurutMenurutMenurutMenurutMenurutMenurutMenurutMenurutMenurutMenurutMenurutMenurutMenurutMenurutMenurutMenurutMenurutMenurutMenurutMenurutMenurutMenurutMenurutMenurutMenurutMenurutMenurutMenurutMenurutMenurutMenurutMenurutMenurutMenurutMenurutMenurutMenurutMenurutMenurutMenurutMenurutMenurutMenurutMenurutMenurutMenurutMenurutMenurutMenurutMenurutMenurutMenurutMenurutMenurutMenurutMenurutMenurutMenurutMenurutMenurutMenurutMenurutMenurutMenurutMenurutMenurutMenurutMenurutMenurutMenurutMenurutMenurutMenurutMenurutMenurutMenurutMenurutMenurutMenurutMenurutMenurutMenurutMenurutMenurutMenurutMenurutMenurutMenurutMenurutMenurutMenurutMenurut] took 0.31331348419189453 seconds, consider setting Text2TextProblem.max_subtoken_length to a smaller value.\n"
     ]
    },
    {
     "name": "stdout",
     "output_type": "stream",
     "text": [
      "INFO:tensorflow:Processing token [sukayanghijau] took 3.8739523887634277 seconds, consider setting Text2TextProblem.max_subtoken_length to a smaller value.\n"
     ]
    },
    {
     "name": "stderr",
     "output_type": "stream",
     "text": [
      "INFO:tensorflow:Processing token [sukayanghijau] took 3.8739523887634277 seconds, consider setting Text2TextProblem.max_subtoken_length to a smaller value.\n"
     ]
    },
    {
     "name": "stdout",
     "output_type": "stream",
     "text": [
      "INFO:tensorflow:vocab_size = 89616\n"
     ]
    },
    {
     "name": "stderr",
     "output_type": "stream",
     "text": [
      "INFO:tensorflow:vocab_size = 89616\n"
     ]
    },
    {
     "name": "stdout",
     "output_type": "stream",
     "text": [
      "INFO:tensorflow:Iteration 1\n"
     ]
    },
    {
     "name": "stderr",
     "output_type": "stream",
     "text": [
      "INFO:tensorflow:Iteration 1\n"
     ]
    },
    {
     "name": "stdout",
     "output_type": "stream",
     "text": [
      "INFO:tensorflow:Processing token [Terlingkup] took 0.601428747177124 seconds, consider setting Text2TextProblem.max_subtoken_length to a smaller value.\n"
     ]
    },
    {
     "name": "stderr",
     "output_type": "stream",
     "text": [
      "INFO:tensorflow:Processing token [Terlingkup] took 0.601428747177124 seconds, consider setting Text2TextProblem.max_subtoken_length to a smaller value.\n"
     ]
    },
    {
     "name": "stdout",
     "output_type": "stream",
     "text": [
      "INFO:tensorflow:Processing token [disebutKota] took 0.8965432643890381 seconds, consider setting Text2TextProblem.max_subtoken_length to a smaller value.\n"
     ]
    },
    {
     "name": "stderr",
     "output_type": "stream",
     "text": [
      "INFO:tensorflow:Processing token [disebutKota] took 0.8965432643890381 seconds, consider setting Text2TextProblem.max_subtoken_length to a smaller value.\n"
     ]
    },
    {
     "name": "stdout",
     "output_type": "stream",
     "text": [
      "INFO:tensorflow:vocab_size = 36544\n"
     ]
    },
    {
     "name": "stderr",
     "output_type": "stream",
     "text": [
      "INFO:tensorflow:vocab_size = 36544\n"
     ]
    },
    {
     "name": "stdout",
     "output_type": "stream",
     "text": [
      "INFO:tensorflow:Iteration 2\n"
     ]
    },
    {
     "name": "stderr",
     "output_type": "stream",
     "text": [
      "INFO:tensorflow:Iteration 2\n"
     ]
    },
    {
     "name": "stdout",
     "output_type": "stream",
     "text": [
      "INFO:tensorflow:Processing token [terestrialrekod] took 0.10257744789123535 seconds, consider setting Text2TextProblem.max_subtoken_length to a smaller value.\n"
     ]
    },
    {
     "name": "stderr",
     "output_type": "stream",
     "text": [
      "INFO:tensorflow:Processing token [terestrialrekod] took 0.10257744789123535 seconds, consider setting Text2TextProblem.max_subtoken_length to a smaller value.\n"
     ]
    },
    {
     "name": "stdout",
     "output_type": "stream",
     "text": [
      "INFO:tensorflow:Processing token [ , , ,■_ ] took 0.14441895484924316 seconds, consider setting Text2TextProblem.max_subtoken_length to a smaller value.\n"
     ]
    },
    {
     "name": "stderr",
     "output_type": "stream",
     "text": [
      "INFO:tensorflow:Processing token [ , , ,■_ ] took 0.14441895484924316 seconds, consider setting Text2TextProblem.max_subtoken_length to a smaller value.\n"
     ]
    },
    {
     "name": "stdout",
     "output_type": "stream",
     "text": [
      "INFO:tensorflow:Processing token [zoologiasiMyIPO] took 0.43370985984802246 seconds, consider setting Text2TextProblem.max_subtoken_length to a smaller value.\n"
     ]
    },
    {
     "name": "stderr",
     "output_type": "stream",
     "text": [
      "INFO:tensorflow:Processing token [zoologiasiMyIPO] took 0.43370985984802246 seconds, consider setting Text2TextProblem.max_subtoken_length to a smaller value.\n"
     ]
    },
    {
     "name": "stdout",
     "output_type": "stream",
     "text": [
      "INFO:tensorflow:Processing token [aulatTuanku] took 0.889484167098999 seconds, consider setting Text2TextProblem.max_subtoken_length to a smaller value.\n"
     ]
    },
    {
     "name": "stderr",
     "output_type": "stream",
     "text": [
      "INFO:tensorflow:Processing token [aulatTuanku] took 0.889484167098999 seconds, consider setting Text2TextProblem.max_subtoken_length to a smaller value.\n"
     ]
    },
    {
     "name": "stdout",
     "output_type": "stream",
     "text": [
      "INFO:tensorflow:vocab_size = 37190\n"
     ]
    },
    {
     "name": "stderr",
     "output_type": "stream",
     "text": [
      "INFO:tensorflow:vocab_size = 37190\n"
     ]
    },
    {
     "name": "stdout",
     "output_type": "stream",
     "text": [
      "INFO:tensorflow:Iteration 3\n"
     ]
    },
    {
     "name": "stderr",
     "output_type": "stream",
     "text": [
      "INFO:tensorflow:Iteration 3\n"
     ]
    },
    {
     "name": "stdout",
     "output_type": "stream",
     "text": [
      "INFO:tensorflow:Processing token [universitySpace] took 0.12635231018066406 seconds, consider setting Text2TextProblem.max_subtoken_length to a smaller value.\n"
     ]
    },
    {
     "name": "stderr",
     "output_type": "stream",
     "text": [
      "INFO:tensorflow:Processing token [universitySpace] took 0.12635231018066406 seconds, consider setting Text2TextProblem.max_subtoken_length to a smaller value.\n"
     ]
    },
    {
     "name": "stdout",
     "output_type": "stream",
     "text": [
      "INFO:tensorflow:Processing token [Minyon] took 0.43296313285827637 seconds, consider setting Text2TextProblem.max_subtoken_length to a smaller value.\n"
     ]
    },
    {
     "name": "stderr",
     "output_type": "stream",
     "text": [
      "INFO:tensorflow:Processing token [Minyon] took 0.43296313285827637 seconds, consider setting Text2TextProblem.max_subtoken_length to a smaller value.\n"
     ]
    },
    {
     "name": "stdout",
     "output_type": "stream",
     "text": [
      "INFO:tensorflow:Processing token [musangkingkakitigaSpace] took 0.896937370300293 seconds, consider setting Text2TextProblem.max_subtoken_length to a smaller value.\n"
     ]
    },
    {
     "name": "stderr",
     "output_type": "stream",
     "text": [
      "INFO:tensorflow:Processing token [musangkingkakitigaSpace] took 0.896937370300293 seconds, consider setting Text2TextProblem.max_subtoken_length to a smaller value.\n"
     ]
    },
    {
     "name": "stdout",
     "output_type": "stream",
     "text": [
      "INFO:tensorflow:vocab_size = 37132\n"
     ]
    },
    {
     "name": "stderr",
     "output_type": "stream",
     "text": [
      "INFO:tensorflow:vocab_size = 37132\n"
     ]
    },
    {
     "name": "stdout",
     "output_type": "stream",
     "text": [
      "INFO:tensorflow:Trying min_count 969\n"
     ]
    },
    {
     "name": "stderr",
     "output_type": "stream",
     "text": [
      "INFO:tensorflow:Trying min_count 969\n"
     ]
    },
    {
     "name": "stdout",
     "output_type": "stream",
     "text": [
      "INFO:tensorflow:Iteration 0\n"
     ]
    },
    {
     "name": "stderr",
     "output_type": "stream",
     "text": [
      "INFO:tensorflow:Iteration 0\n"
     ]
    },
    {
     "name": "stdout",
     "output_type": "stream",
     "text": [
      "INFO:tensorflow:Processing token [MenurutMenurutMenurutMenurutMenurutMenurutMenurutMenurutMenurutMenurutMenurutMenurutMenurutMenurutMenurutMenurutMenurutMenurutMenurutMenurutMenurutMenurutMenurutMenurutMenurutMenurutMenurutMenurutMenurutMenurutMenurutMenurutMenurutMenurutMenurutMenurutMenurutMenurutMenurutMenurutMenurutMenurutMenurutMenurutMenurutMenurutMenurutMenurutMenurutMenurutMenurutMenurutMenurutMenurutMenurutMenurutMenurutMenurutMenurutMenurutMenurutMenurutMenurutMenurutMenurutMenurutMenurutMenurutMenurutMenurutMenurutMenurutMenurutMenurutMenurutMenurutMenurutMenurutMenurutMenurutMenurutMenurutMenurutMenurutMenurutMenurutMenurutMenurutMenurutMenurutMenurutMenurutMenurutMenurutMenurutMenurutMenurutMenurutMenurutMenurutMenurutMenurutMenurutMenurutMenurutMenurutMenurutMenurutMenurutMenurutMenurutMenurutMenurutMenurutMenurutMenurutMenurutMenurutMenurutMenurutMenurutMenurutMenurutMenurutMenurutMenurutMenurutMenurutMenurutMenurutMenurutMenurutMenurutMenurutMenurutMenurutMenurutMenurutMenurutMenurutMenurutMenurutMenurutMenurutMenurutMenurutMenurutMenurutMenurutMenurutMenurutMenurutMenurutMenurutMenurutMenurutMenurutMenurutMenurutMenurutMenurutMenurutMenurutMenurutMenurutMenurutMenurutMenurutMenurutMenurutMenurutMenurutMenurutMenurutMenurutMenurutMenurutMenurutMenurutMenurutMenurutMenurutMenurutMenurutMenurutMenurutMenurutMenurutMenurutMenurutMenurutMenurutMenurutMenurutMenurutMenurutMenurutMenurutMenurutMenurutMenurutMenurutMenurutMenurutMenurutMenurutMenurutMenurutMenurutMenurutMenurutMenurutMenurutMenurutMenurutMenurutMenurutMenurutMenurutMenurutMenurutMenurutMenurutMenurutMenurutMenurutMenurutMenurutMenurutMenurutMenurutMenurutMenurutMenurutMenurutMenurutMenurutMenurutMenurutMenurutMenurutMenurutMenurutMenurutMenurutMenurutMenurutMenurutMenurutMenurutMenurutMenurutMenurutMenurutMenurutMenurutMenurutMenurutMenurutMenurutMenurutMenurutMenurutMenurutMenurutMenurutMenurutMenurutMenurutMenurutMenurutMenurutMenurutMenurutMenurutMenurutMenurutMenurutMenurutMenurutMenurutMenurutMenurutMenurutMenurutMenurutMenurutMenurutMenurutMenurutMenurutMenurutMenurutMenurutMenurutMenurutMenurutMenurutMenurutMenurutMenurutMenurutMenurutMenurutMenurutMenurutMenurutMenurutMenurutMenurutMenurutMenurutMenurutMenurutMenurutMenurutMenurutMenurutMenurutMenurutMenurutMenurutMenurutMenurutMenurutMenurutMenurutMenurutMenurutMenurutMenurutMenurutMenurutMenurutMenurutMenurutMenurutMenurutMenurutMenurutMenurutMenurutMenurutMenurutMenurutMenurutMenurutMenurutMenurutMenurutMenurutMenurutMenurutMenurutMenurutMenurutMenurutMenurutMenurutMenurutMenurutMenurutMenurutMenurutMenurutMenurutMenurutMenurutMenurutMenurutMenurutMenurutMenurutMenurutMenurutMenurutMenurutMenurutMenurutMenurutMenurutMenurutMenurutMenurutMenurutMenurutMenurutMenurutMenurutMenurutMenurutMenurutMenurutMenurutMenurutMenurutMenurutMenurutMenurutMenurutMenurutMenurutMenurutMenurutMenurutMenurutMenurutMenurutMenurutMenurutMenurutMenurutMenurutMenurutMenurutMenurutMenurutMenurutMenurutMenurutMenurutMenurutMenurutMenurutMenurutMenurutMenurutMenurutMenurutMenurutMenurutMenurutMenurutMenurutMenurutMenurutMenurutMenurutMenurutMenurutMenurutMenurutMenurutMenurutMenurutMenurutMenurutMenurutMenurutMenurutMenurutMenurutMenurutMenurutMenurutMenurutMenurutMenurutMenurutMenurutMenurutMenurutMenurutMenurutMenurutMenurutMenurutMenurutMenurutMenurutMenurutMenurutMenurutMenurutMenurutMenurutMenurutMenurutMenurutMenurutMenurutMenurutMenurutMenurutMenurutMenurutMenurutMenurutMenurutMenurutMenurutMenurutMenurutMenurutMenurutMenurutMenurutMenurutMenurutMenurutMenurutMenurutMenurutMenurutMenurutMenurutMenurutMenurutMenurutMenurutMenurutMenurutMenurutMenurutMenurutMenurutMenurutMenurutMenurutMenurutMenurutMenurutMenurutMenurutMenurutMenurutMenurutMenurutMenurutMenurutMenurutMenurutMenurutMenurutMenurutMenurutMenurutMenurutMenurut] took 0.30808472633361816 seconds, consider setting Text2TextProblem.max_subtoken_length to a smaller value.\n"
     ]
    },
    {
     "name": "stderr",
     "output_type": "stream",
     "text": [
      "INFO:tensorflow:Processing token [MenurutMenurutMenurutMenurutMenurutMenurutMenurutMenurutMenurutMenurutMenurutMenurutMenurutMenurutMenurutMenurutMenurutMenurutMenurutMenurutMenurutMenurutMenurutMenurutMenurutMenurutMenurutMenurutMenurutMenurutMenurutMenurutMenurutMenurutMenurutMenurutMenurutMenurutMenurutMenurutMenurutMenurutMenurutMenurutMenurutMenurutMenurutMenurutMenurutMenurutMenurutMenurutMenurutMenurutMenurutMenurutMenurutMenurutMenurutMenurutMenurutMenurutMenurutMenurutMenurutMenurutMenurutMenurutMenurutMenurutMenurutMenurutMenurutMenurutMenurutMenurutMenurutMenurutMenurutMenurutMenurutMenurutMenurutMenurutMenurutMenurutMenurutMenurutMenurutMenurutMenurutMenurutMenurutMenurutMenurutMenurutMenurutMenurutMenurutMenurutMenurutMenurutMenurutMenurutMenurutMenurutMenurutMenurutMenurutMenurutMenurutMenurutMenurutMenurutMenurutMenurutMenurutMenurutMenurutMenurutMenurutMenurutMenurutMenurutMenurutMenurutMenurutMenurutMenurutMenurutMenurutMenurutMenurutMenurutMenurutMenurutMenurutMenurutMenurutMenurutMenurutMenurutMenurutMenurutMenurutMenurutMenurutMenurutMenurutMenurutMenurutMenurutMenurutMenurutMenurutMenurutMenurutMenurutMenurutMenurutMenurutMenurutMenurutMenurutMenurutMenurutMenurutMenurutMenurutMenurutMenurutMenurutMenurutMenurutMenurutMenurutMenurutMenurutMenurutMenurutMenurutMenurutMenurutMenurutMenurutMenurutMenurutMenurutMenurutMenurutMenurutMenurutMenurutMenurutMenurutMenurutMenurutMenurutMenurutMenurutMenurutMenurutMenurutMenurutMenurutMenurutMenurutMenurutMenurutMenurutMenurutMenurutMenurutMenurutMenurutMenurutMenurutMenurutMenurutMenurutMenurutMenurutMenurutMenurutMenurutMenurutMenurutMenurutMenurutMenurutMenurutMenurutMenurutMenurutMenurutMenurutMenurutMenurutMenurutMenurutMenurutMenurutMenurutMenurutMenurutMenurutMenurutMenurutMenurutMenurutMenurutMenurutMenurutMenurutMenurutMenurutMenurutMenurutMenurutMenurutMenurutMenurutMenurutMenurutMenurutMenurutMenurutMenurutMenurutMenurutMenurutMenurutMenurutMenurutMenurutMenurutMenurutMenurutMenurutMenurutMenurutMenurutMenurutMenurutMenurutMenurutMenurutMenurutMenurutMenurutMenurutMenurutMenurutMenurutMenurutMenurutMenurutMenurutMenurutMenurutMenurutMenurutMenurutMenurutMenurutMenurutMenurutMenurutMenurutMenurutMenurutMenurutMenurutMenurutMenurutMenurutMenurutMenurutMenurutMenurutMenurutMenurutMenurutMenurutMenurutMenurutMenurutMenurutMenurutMenurutMenurutMenurutMenurutMenurutMenurutMenurutMenurutMenurutMenurutMenurutMenurutMenurutMenurutMenurutMenurutMenurutMenurutMenurutMenurutMenurutMenurutMenurutMenurutMenurutMenurutMenurutMenurutMenurutMenurutMenurutMenurutMenurutMenurutMenurutMenurutMenurutMenurutMenurutMenurutMenurutMenurutMenurutMenurutMenurutMenurutMenurutMenurutMenurutMenurutMenurutMenurutMenurutMenurutMenurutMenurutMenurutMenurutMenurutMenurutMenurutMenurutMenurutMenurutMenurutMenurutMenurutMenurutMenurutMenurutMenurutMenurutMenurutMenurutMenurutMenurutMenurutMenurutMenurutMenurutMenurutMenurutMenurutMenurutMenurutMenurutMenurutMenurutMenurutMenurutMenurutMenurutMenurutMenurutMenurutMenurutMenurutMenurutMenurutMenurutMenurutMenurutMenurutMenurutMenurutMenurutMenurutMenurutMenurutMenurutMenurutMenurutMenurutMenurutMenurutMenurutMenurutMenurutMenurutMenurutMenurutMenurutMenurutMenurutMenurutMenurutMenurutMenurutMenurutMenurutMenurutMenurutMenurutMenurutMenurutMenurutMenurutMenurutMenurutMenurutMenurutMenurutMenurutMenurutMenurutMenurutMenurutMenurutMenurutMenurutMenurutMenurutMenurutMenurutMenurutMenurutMenurutMenurutMenurutMenurutMenurutMenurutMenurutMenurutMenurutMenurutMenurutMenurutMenurutMenurutMenurutMenurutMenurutMenurutMenurutMenurutMenurutMenurutMenurutMenurutMenurutMenurutMenurutMenurutMenurutMenurutMenurutMenurutMenurutMenurutMenurutMenurutMenurutMenurutMenurutMenurutMenurutMenurutMenurutMenurutMenurutMenurutMenurutMenurutMenurutMenurutMenurutMenurutMenurutMenurut] took 0.30808472633361816 seconds, consider setting Text2TextProblem.max_subtoken_length to a smaller value.\n"
     ]
    },
    {
     "name": "stdout",
     "output_type": "stream",
     "text": [
      "INFO:tensorflow:Processing token [Summitmitmitmitmitmitmitmitmitmitmitmitmitmitmitmitmitmitmitmitmitmitmitmitmitmitmitmitmitmitmitmitmitmitmitmitmitmitmitmitmitmitmitmitmitmitmitmitmitmitmitmitmitmitmitmitmitmitmitmitmitmitmitmitmitmitmitmitmitmitmitmitmitmitmitmitmitmitmitmitmitmitmitmitmitmitmitmitmitmitmitmitmitmitmitmitmitmitmitmitmitmitmitmitmitmitmitmitmitmitmitmitmitmitmitmitmitmitmitmitmitmitmitmitmitmitmitmitmitmitmitmitmitmitmitmitmitmitmitmitmitmitmitmitmitmitmitmitmitmitmitmitmitmitmitmitmitmitmitmitmitmitmitmitmitmitmitmitmitmitmitmitmitmitmitmitmitmitmitmitmitmitmitmitmitmitmitmitmitmitmitmitmitmitmitmitmitmitmitmitmitmitmitmitmitmitmitmitmitmitmitmitmitmitmitmitmitmitmitmitmitmitmitmitmitmitmitmitmitmitmitmitmitmitmitmitmitmitmitmitmitmitmitmitmitmitmitmitmitmitmitmitmitmitmitmitmitmitmitmitmitmitmitmitmitmitmitmitmitmitmitmitmitmitmitmitmitmitmitmitmitmitmitmitmitmitmitmitmitmitmitmitmitmitmitmitmitmitmitmitmitmitmitmitmitmitmitmitmitmitmitmitmitmitmitmitmitmitmitmitmitmitmitmitmitmitmitmitmitmitmitmitmitmitmitmitmitmitmitmitmitmitmitmitmitmitmitmitmitmitmitmitmitmitmitmitmitmitmitmitmitmitmitmitmitmitmitmitmitmitmitmitmitmitmitmitmitmitmitmitmitmitmitmitmitmitmitmitmitmitmitmitmitmitmitmitmitmitmitmitmitmitmitmitmitmitmitmitmitmitmitmitmitmitmitmitmitmitmitmitmitmitmitmitmitmitmitmitmitmitmitmitmitmitmitmitmitmitmitmitmitmitmitmitmitmitmitmitmitmitmitmitmitmitmitmitmitmitmitmitmitmitmitmitmitmitmitmitmitmitmitmitmitmitmitmitmitmitmitmitmitmitmitmitmitmitmitmitmitmitmitmitmitmitmitmitmitmitmitmitmitmitmitmitmitmitmitmitmitmitmitmitmitmitmitmitmitmitmitmitmitmitmitmitmitmitmitmitmitmitmitmitmitmitmitmitmitmitmitmitmitmitmitmitmitmitmitmitmitmitmitmitmitmitmitmitmitmitmitmitmitmitmitmitmitmitmitmitmitmitmitmitmitmitmitmitmitmitmitmitmitmitmitmitmitmitmitmitmitmitmitmitmitmitmitmitmitmitmitmitmitmitmitmitmitmitmitmitmitmitmitmitmitmitmitmitmitmitmitmitmitmitmitmitmitmitmitmitmitmitmitmitmitmitmitmitmitmitmitmitmitmitmitmitmitmitmitmitmitmitmitmitmitmitmitmitmitmitmitmitmitmitmitmitmitmitmitmitmitmitmitmitmitmitmitmitmitmitmitmitmitmitmitmitmitmitmitmitmitmitmitmitmitmitmitmitmitmitmitmitmitmitmitmitmitmitmitmitmitmitmitmitmitmitmitmitmitmitmitmitmitmitmitmitmitmitmitmitmitmitmitmitmitmitmit] took 0.15854358673095703 seconds, consider setting Text2TextProblem.max_subtoken_length to a smaller value.\n"
     ]
    },
    {
     "name": "stderr",
     "output_type": "stream",
     "text": [
      "INFO:tensorflow:Processing token [Summitmitmitmitmitmitmitmitmitmitmitmitmitmitmitmitmitmitmitmitmitmitmitmitmitmitmitmitmitmitmitmitmitmitmitmitmitmitmitmitmitmitmitmitmitmitmitmitmitmitmitmitmitmitmitmitmitmitmitmitmitmitmitmitmitmitmitmitmitmitmitmitmitmitmitmitmitmitmitmitmitmitmitmitmitmitmitmitmitmitmitmitmitmitmitmitmitmitmitmitmitmitmitmitmitmitmitmitmitmitmitmitmitmitmitmitmitmitmitmitmitmitmitmitmitmitmitmitmitmitmitmitmitmitmitmitmitmitmitmitmitmitmitmitmitmitmitmitmitmitmitmitmitmitmitmitmitmitmitmitmitmitmitmitmitmitmitmitmitmitmitmitmitmitmitmitmitmitmitmitmitmitmitmitmitmitmitmitmitmitmitmitmitmitmitmitmitmitmitmitmitmitmitmitmitmitmitmitmitmitmitmitmitmitmitmitmitmitmitmitmitmitmitmitmitmitmitmitmitmitmitmitmitmitmitmitmitmitmitmitmitmitmitmitmitmitmitmitmitmitmitmitmitmitmitmitmitmitmitmitmitmitmitmitmitmitmitmitmitmitmitmitmitmitmitmitmitmitmitmitmitmitmitmitmitmitmitmitmitmitmitmitmitmitmitmitmitmitmitmitmitmitmitmitmitmitmitmitmitmitmitmitmitmitmitmitmitmitmitmitmitmitmitmitmitmitmitmitmitmitmitmitmitmitmitmitmitmitmitmitmitmitmitmitmitmitmitmitmitmitmitmitmitmitmitmitmitmitmitmitmitmitmitmitmitmitmitmitmitmitmitmitmitmitmitmitmitmitmitmitmitmitmitmitmitmitmitmitmitmitmitmitmitmitmitmitmitmitmitmitmitmitmitmitmitmitmitmitmitmitmitmitmitmitmitmitmitmitmitmitmitmitmitmitmitmitmitmitmitmitmitmitmitmitmitmitmitmitmitmitmitmitmitmitmitmitmitmitmitmitmitmitmitmitmitmitmitmitmitmitmitmitmitmitmitmitmitmitmitmitmitmitmitmitmitmitmitmitmitmitmitmitmitmitmitmitmitmitmitmitmitmitmitmitmitmitmitmitmitmitmitmitmitmitmitmitmitmitmitmitmitmitmitmitmitmitmitmitmitmitmitmitmitmitmitmitmitmitmitmitmitmitmitmitmitmitmitmitmitmitmitmitmitmitmitmitmitmitmitmitmitmitmitmitmitmitmitmitmitmitmitmitmitmitmitmitmitmitmitmitmitmitmitmitmitmitmitmitmitmitmitmitmitmitmitmitmitmitmitmitmitmitmitmitmitmitmitmitmitmitmitmitmitmitmitmitmitmitmitmitmitmitmitmitmitmitmitmitmitmitmitmitmitmitmitmitmitmitmitmitmitmitmitmitmitmitmitmitmitmitmitmitmitmitmitmitmitmitmitmitmitmitmitmitmitmitmitmitmitmitmitmitmitmitmitmitmitmitmitmitmitmitmitmitmitmitmitmitmitmitmitmitmitmitmitmitmitmitmitmitmitmitmitmitmitmitmitmitmitmitmitmitmitmitmitmitmitmitmitmitmitmitmitmitmitmitmitmitmitmitmitmitmitmitmitmitmitmitmitmitmitmitmitmitmit] took 0.15854358673095703 seconds, consider setting Text2TextProblem.max_subtoken_length to a smaller value.\n"
     ]
    },
    {
     "name": "stdout",
     "output_type": "stream",
     "text": [
      "INFO:tensorflow:Processing token [lalufrekuensinciPertemuan] took 0.13318395614624023 seconds, consider setting Text2TextProblem.max_subtoken_length to a smaller value.\n"
     ]
    },
    {
     "name": "stderr",
     "output_type": "stream",
     "text": [
      "INFO:tensorflow:Processing token [lalufrekuensinciPertemuan] took 0.13318395614624023 seconds, consider setting Text2TextProblem.max_subtoken_length to a smaller value.\n"
     ]
    },
    {
     "name": "stdout",
     "output_type": "stream",
     "text": [
      "INFO:tensorflow:Processing token [ditaksirkerja] took 0.4565286636352539 seconds, consider setting Text2TextProblem.max_subtoken_length to a smaller value.\n"
     ]
    },
    {
     "name": "stderr",
     "output_type": "stream",
     "text": [
      "INFO:tensorflow:Processing token [ditaksirkerja] took 0.4565286636352539 seconds, consider setting Text2TextProblem.max_subtoken_length to a smaller value.\n"
     ]
    },
    {
     "name": "stdout",
     "output_type": "stream",
     "text": [
      "INFO:tensorflow:Processing token [percikanchoic] took 0.8561835289001465 seconds, consider setting Text2TextProblem.max_subtoken_length to a smaller value.\n"
     ]
    },
    {
     "name": "stderr",
     "output_type": "stream",
     "text": [
      "INFO:tensorflow:Processing token [percikanchoic] took 0.8561835289001465 seconds, consider setting Text2TextProblem.max_subtoken_length to a smaller value.\n"
     ]
    },
    {
     "name": "stdout",
     "output_type": "stream",
     "text": [
      "INFO:tensorflow:Processing token [pemimpinPertemuanpemimpin] took 1.80159592628479 seconds, consider setting Text2TextProblem.max_subtoken_length to a smaller value.\n"
     ]
    },
    {
     "name": "stderr",
     "output_type": "stream",
     "text": [
      "INFO:tensorflow:Processing token [pemimpinPertemuanpemimpin] took 1.80159592628479 seconds, consider setting Text2TextProblem.max_subtoken_length to a smaller value.\n"
     ]
    },
    {
     "name": "stdout",
     "output_type": "stream",
     "text": [
      "INFO:tensorflow:Processing token [metaforforforforforforforforforforforforforforforforforforforforforforforforforforforforforforforforforforforforforforforforforforforforforforforforforforforforforforforforforforforforforforforforforforforforforforforforforforforforforforforforforforforforforforforforforforforforforforforforforforforforforforforforforforforforforforforforforforforforforforforforforforforforforforforforforforforforforforforforforforforforforforforforforforforforforforforforforforforforforforforforforforforforforforforforforforforforforforforforforforforforforforforforforforforforforforforforforforforforforforforforforforforforforforforforforforforforforforforforforforforforforforforforforforforforforforforforforforforforforforforforforforforforforforforforforforforforforforforforforforforforforforforforforforforforforforforforforforforforforforforforforforforforforforforforforforforforforforforforforforforforforforforforforforforforforforforforforforforforforforforforforforforforforforforforforforforforforforforforforforforforforforforforforforforforforforforforforforforforforforforforforforforforforforforforforforforforforforforforforforforforforforforforforforforforforforforforforforforforforforforforforforforforforforforforforforforforforforforforforforforfor] took 0.10392904281616211 seconds, consider setting Text2TextProblem.max_subtoken_length to a smaller value.\n"
     ]
    },
    {
     "name": "stderr",
     "output_type": "stream",
     "text": [
      "INFO:tensorflow:Processing token [metaforforforforforforforforforforforforforforforforforforforforforforforforforforforforforforforforforforforforforforforforforforforforforforforforforforforforforforforforforforforforforforforforforforforforforforforforforforforforforforforforforforforforforforforforforforforforforforforforforforforforforforforforforforforforforforforforforforforforforforforforforforforforforforforforforforforforforforforforforforforforforforforforforforforforforforforforforforforforforforforforforforforforforforforforforforforforforforforforforforforforforforforforforforforforforforforforforforforforforforforforforforforforforforforforforforforforforforforforforforforforforforforforforforforforforforforforforforforforforforforforforforforforforforforforforforforforforforforforforforforforforforforforforforforforforforforforforforforforforforforforforforforforforforforforforforforforforforforforforforforforforforforforforforforforforforforforforforforforforforforforforforforforforforforforforforforforforforforforforforforforforforforforforforforforforforforforforforforforforforforforforforforforforforforforforforforforforforforforforforforforforforforforforforforforforforforforforforforforforforforforforforforforforforforforforforforforforforforforforforforfor] took 0.10392904281616211 seconds, consider setting Text2TextProblem.max_subtoken_length to a smaller value.\n"
     ]
    },
    {
     "name": "stdout",
     "output_type": "stream",
     "text": [
      "INFO:tensorflow:Processing token [sekseksekseksekseksekseksekseksekseksekseksekseksekseksekseksekseksekseksekseksekseksekseksekseksekseksekseksekseksekseksekseksekseksekseksekseksekseksekseksekseksekseksekseksekseksekseksekseksekseksekseksekseksekseksekseksekseksekseksekseksekseksekseksekseksekseksekseksekseksekseksekseksekseksekseksekseksekseksekseksekseksekseksekseksekseksekseksekseksekseksekseksekseksekseksekseksekseksekseksekseksekseksekseksekseksekseksekseksekseksekseksekseksekseksekseksekseksekseksekseksekseksekseksekseksekseksekseksekseksekseksekseksekseksekseksekseksekseksekseksekseksekseksekseksekseksekseksekseksekseksekseksekseksekseksekseksekseksekseksekseksekseksekseksekseksekseksekseksekseksekseksekseksekseksekseksekseksekseksekseksekseksekseksekseksekseksekseksekseksekseksekseksekseksekseksekseksekseksekseksekseksekseksekseksekseksekseksekseksekseksekseksekseksekseksekseksekseksekseksekseksekseksekseksekseksekseksekseksekseksekseksekseksekseksekseksekseksekseksekseksekseksekseksekseksekseksekseksekseksekseksekseksekseksekseksekseksekseksekseksekseksekseksekseksekseksekseksekseksekseksekseksekseksekseksekseksekseksekseksekseksekseksekseksekseksekseksekseksekseksekseksekseksekseksekseksekseksekseksekseksekseksekseksekseksekseksekseksekseksekseksekseksekseksekseksekseksekseksekseksekseksekseksekseksekseksekseksekseksekseksekseksekseksekseksekseksekseksekseksekseksekseksekseksekseksekseksekseksekseksekseksekseksekseksekseksekseksekseksekseksekseksekseksekseksekseksekseksekseksekseksekseksekseksekseksekseksekseksekseksekseksekseksekseksekseksekseksekseksekseksekseksekseksekseksekseksekseksekseksekseksekseksekseksekseksekseksekseksekseksekseksekseksekseksekseksekseksekseksekseksekseksekseksekseksekseksekseksekseksekseksekseksekseksekseksekseksekseksekseksekseksekseksekseksekseksekseksekseksekseksekseksekseksekseksekseksekseksekseksekseksekseksekseksekseksekseksekseksekseksekseksekseksekseksekseksekseksekseksekseksekseksekseksekseksekseksekseksekseksekseksekseksekseksekseksekseksekseksekseksekseksekseksekseksekseksekseksekseksekseksekseksekseksekseksekseksekseksekseksekseksekseksekseksekseksekseksekseks] took 0.17691802978515625 seconds, consider setting Text2TextProblem.max_subtoken_length to a smaller value.\n"
     ]
    },
    {
     "name": "stderr",
     "output_type": "stream",
     "text": [
      "INFO:tensorflow:Processing token [sekseksekseksekseksekseksekseksekseksekseksekseksekseksekseksekseksekseksekseksekseksekseksekseksekseksekseksekseksekseksekseksekseksekseksekseksekseksekseksekseksekseksekseksekseksekseksekseksekseksekseksekseksekseksekseksekseksekseksekseksekseksekseksekseksekseksekseksekseksekseksekseksekseksekseksekseksekseksekseksekseksekseksekseksekseksekseksekseksekseksekseksekseksekseksekseksekseksekseksekseksekseksekseksekseksekseksekseksekseksekseksekseksekseksekseksekseksekseksekseksekseksekseksekseksekseksekseksekseksekseksekseksekseksekseksekseksekseksekseksekseksekseksekseksekseksekseksekseksekseksekseksekseksekseksekseksekseksekseksekseksekseksekseksekseksekseksekseksekseksekseksekseksekseksekseksekseksekseksekseksekseksekseksekseksekseksekseksekseksekseksekseksekseksekseksekseksekseksekseksekseksekseksekseksekseksekseksekseksekseksekseksekseksekseksekseksekseksekseksekseksekseksekseksekseksekseksekseksekseksekseksekseksekseksekseksekseksekseksekseksekseksekseksekseksekseksekseksekseksekseksekseksekseksekseksekseksekseksekseksekseksekseksekseksekseksekseksekseksekseksekseksekseksekseksekseksekseksekseksekseksekseksekseksekseksekseksekseksekseksekseksekseksekseksekseksekseksekseksekseksekseksekseksekseksekseksekseksekseksekseksekseksekseksekseksekseksekseksekseksekseksekseksekseksekseksekseksekseksekseksekseksekseksekseksekseksekseksekseksekseksekseksekseksekseksekseksekseksekseksekseksekseksekseksekseksekseksekseksekseksekseksekseksekseksekseksekseksekseksekseksekseksekseksekseksekseksekseksekseksekseksekseksekseksekseksekseksekseksekseksekseksekseksekseksekseksekseksekseksekseksekseksekseksekseksekseksekseksekseksekseksekseksekseksekseksekseksekseksekseksekseksekseksekseksekseksekseksekseksekseksekseksekseksekseksekseksekseksekseksekseksekseksekseksekseksekseksekseksekseksekseksekseksekseksekseksekseksekseksekseksekseksekseksekseksekseksekseksekseksekseksekseksekseksekseksekseksekseksekseksekseksekseksekseksekseksekseksekseksekseksekseksekseksekseksekseksekseksekseksekseksekseksekseksekseksekseksekseksekseksekseksekseksekseksekseksekseksekseksekseksekseksekseksekseksekseksekseks] took 0.17691802978515625 seconds, consider setting Text2TextProblem.max_subtoken_length to a smaller value.\n"
     ]
    },
    {
     "name": "stdout",
     "output_type": "stream",
     "text": [
      "INFO:tensorflow:Processing token [MenurutMenurutMenurutMenurutMenurutMenurutMenurutMenurutMenurutMenurutMenurutMenurutMenurutMenurutMenurutMenurutMenurutMenurutMenurutMenurutMenurutMenurutMenurutMenurutMenurutMenurutMenurutMenurutMenurutMenurutMenurutMenurutMenurutMenurutMenurutMenurutMenurutMenurutMenurutMenurutMenurutMenurutMenurutMenurutMenurutMenurutMenurutMenurutMenurutMenurutMenurutMenurutMenurutMenurutMenurutMenurutMenurutMenurutMenurutMenurutMenurutMenurutMenurutMenurutMenurutMenurutMenurutMenurutMenurutMenurutMenurutMenurutMenurutMenurutMenurutMenurutMenurutMenurutMenurutMenurutMenurutMenurutMenurutMenurutMenurutMenurutMenurutMenurutMenurutMenurutMenurutMenurutMenurutMenurutMenurutMenurutMenurutMenurutMenurutMenurutMenurutMenurutMenurutMenurutMenurutMenurutMenurutMenurutMenurutMenurutMenurutMenurutMenurutMenurutMenurutMenurutMenurutMenurutMenurutMenurutMenurutMenurutMenurutMenurutMenurutMenurutMenurutMenurutMenurutMenurutMenurutMenurutMenurutMenurutMenurutMenurutMenurutMenurutMenurutMenurutMenurutMenurutMenurutMenurutMenurutMenurutMenurutMenurutMenurutMenurutMenurutMenurutMenurutMenurutMenurutMenurutMenurutMenurutMenurutMenurutMenurutMenurutMenurutMenurutMenurutMenurutMenurutMenurutMenurutMenurutMenurutMenurutMenurutMenurutMenurutMenurutMenurutMenurutMenurutMenurutMenurutMenurutMenurutMenurutMenurutMenurutMenurutMenurutMenurutMenurutMenurutMenurutMenurutMenurutMenurutMenurutMenurutMenurutMenurutMenurutMenurutMenurutMenurutMenurutMenurutMenurutMenurutMenurutMenurutMenurutMenurutMenurutMenurutMenurutMenurutMenurutMenurutMenurutMenurutMenurutMenurutMenurutMenurutMenurutMenurutMenurutMenurutMenurutMenurutMenurutMenurutMenurutMenurutMenurutMenurutMenurutMenurutMenurutMenurutMenurutMenurutMenurutMenurutMenurutMenurutMenurutMenurutMenurutMenurutMenurutMenurutMenurutMenurutMenurutMenurutMenurutMenurutMenurutMenurutMenurutMenurutMenurutMenurutMenurutMenurutMenurutMenurutMenurutMenurutMenurutMenurutMenurutMenurutMenurutMenurutMenurutMenurutMenurutMenurutMenurutMenurutMenurutMenurutMenurutMenurutMenurutMenurutMenurutMenurutMenurutMenurutMenurutMenurutMenurutMenurutMenurutMenurutMenurutMenurutMenurutMenurutMenurutMenurutMenurutMenurutMenurutMenurutMenurutMenurutMenurutMenurutMenurutMenurutMenurutMenurutMenurutMenurutMenurutMenurutMenurutMenurutMenurutMenurutMenurutMenurutMenurutMenurutMenurutMenurutMenurutMenurutMenurutMenurutMenurutMenurutMenurutMenurutMenurutMenurutMenurutMenurutMenurutMenurutMenurutMenurutMenurutMenurutMenurutMenurutMenurutMenurutMenurutMenurutMenurutMenurutMenurutMenurutMenurutMenurutMenurutMenurutMenurutMenurutMenurutMenurutMenurutMenurutMenurutMenurutMenurutMenurutMenurutMenurutMenurutMenurutMenurutMenurutMenurutMenurutMenurutMenurutMenurutMenurutMenurutMenurutMenurutMenurutMenurutMenurutMenurutMenurutMenurutMenurutMenurutMenurutMenurutMenurutMenurutMenurutMenurutMenurutMenurutMenurutMenurutMenurutMenurutMenurutMenurutMenurutMenurutMenurutMenurutMenurutMenurutMenurutMenurutMenurutMenurutMenurutMenurutMenurutMenurutMenurutMenurutMenurutMenurutMenurutMenurutMenurutMenurutMenurutMenurutMenurutMenurutMenurutMenurutMenurutMenurutMenurutMenurutMenurutMenurutMenurutMenurutMenurutMenurutMenurutMenurutMenurutMenurutMenurutMenurutMenurutMenurutMenurutMenurutMenurutMenurutMenurutMenurutMenurutMenurutMenurutMenurutMenurutMenurutMenurutMenurutMenurutMenurutMenurutMenurutMenurutMenurutMenurutMenurutMenurutMenurutMenurutMenurutMenurutMenurutMenurutMenurutMenurutMenurutMenurutMenurutMenurutMenurutMenurutMenurutMenurutMenurutMenurutMenurutMenurutMenurutMenurutMenurutMenurutMenurutMenurutMenurutMenurutMenurutMenurutMenurutMenurutMenurutMenurutMenurutMenurutMenurutMenurutMenurutMenurutMenurutMenurutMenurutMenurutMenurutMenurutMenurutMenurutMenurutMenurutMenurutMenurutMenurutMenurutMenurutMenurutMenurutMenurutMenurutMenurutMenurutMenurutMenurutMenurutMenurutMenurutMenurutMenurutMenurutMenurutMenurutMenurutMenurutMenurutMenurutMenurutMenurutMenurutMenurutMenurutMenurutMenurutMenurutMenurutMenurutMenurutMenurutMenurutMenurutMenurutMenurutMenurutMenurutMenurutMenurutMenurutMenurutMenurutMenurutMenurutMenurutMenurutMenurutMenurutMenurutMenurutMenurutMenurutMenurutMenurutMenurutMenurutMenurutMenurutMenurutMenurutMenurutMenurutMenurutMenurutMenurutMenurutMenurutMenurutMenurutMenurutMenurutMenurutMenurutMenurutMenurutMenurutMenurutMenurut] took 0.3168675899505615 seconds, consider setting Text2TextProblem.max_subtoken_length to a smaller value.\n"
     ]
    },
    {
     "name": "stderr",
     "output_type": "stream",
     "text": [
      "INFO:tensorflow:Processing token [MenurutMenurutMenurutMenurutMenurutMenurutMenurutMenurutMenurutMenurutMenurutMenurutMenurutMenurutMenurutMenurutMenurutMenurutMenurutMenurutMenurutMenurutMenurutMenurutMenurutMenurutMenurutMenurutMenurutMenurutMenurutMenurutMenurutMenurutMenurutMenurutMenurutMenurutMenurutMenurutMenurutMenurutMenurutMenurutMenurutMenurutMenurutMenurutMenurutMenurutMenurutMenurutMenurutMenurutMenurutMenurutMenurutMenurutMenurutMenurutMenurutMenurutMenurutMenurutMenurutMenurutMenurutMenurutMenurutMenurutMenurutMenurutMenurutMenurutMenurutMenurutMenurutMenurutMenurutMenurutMenurutMenurutMenurutMenurutMenurutMenurutMenurutMenurutMenurutMenurutMenurutMenurutMenurutMenurutMenurutMenurutMenurutMenurutMenurutMenurutMenurutMenurutMenurutMenurutMenurutMenurutMenurutMenurutMenurutMenurutMenurutMenurutMenurutMenurutMenurutMenurutMenurutMenurutMenurutMenurutMenurutMenurutMenurutMenurutMenurutMenurutMenurutMenurutMenurutMenurutMenurutMenurutMenurutMenurutMenurutMenurutMenurutMenurutMenurutMenurutMenurutMenurutMenurutMenurutMenurutMenurutMenurutMenurutMenurutMenurutMenurutMenurutMenurutMenurutMenurutMenurutMenurutMenurutMenurutMenurutMenurutMenurutMenurutMenurutMenurutMenurutMenurutMenurutMenurutMenurutMenurutMenurutMenurutMenurutMenurutMenurutMenurutMenurutMenurutMenurutMenurutMenurutMenurutMenurutMenurutMenurutMenurutMenurutMenurutMenurutMenurutMenurutMenurutMenurutMenurutMenurutMenurutMenurutMenurutMenurutMenurutMenurutMenurutMenurutMenurutMenurutMenurutMenurutMenurutMenurutMenurutMenurutMenurutMenurutMenurutMenurutMenurutMenurutMenurutMenurutMenurutMenurutMenurutMenurutMenurutMenurutMenurutMenurutMenurutMenurutMenurutMenurutMenurutMenurutMenurutMenurutMenurutMenurutMenurutMenurutMenurutMenurutMenurutMenurutMenurutMenurutMenurutMenurutMenurutMenurutMenurutMenurutMenurutMenurutMenurutMenurutMenurutMenurutMenurutMenurutMenurutMenurutMenurutMenurutMenurutMenurutMenurutMenurutMenurutMenurutMenurutMenurutMenurutMenurutMenurutMenurutMenurutMenurutMenurutMenurutMenurutMenurutMenurutMenurutMenurutMenurutMenurutMenurutMenurutMenurutMenurutMenurutMenurutMenurutMenurutMenurutMenurutMenurutMenurutMenurutMenurutMenurutMenurutMenurutMenurutMenurutMenurutMenurutMenurutMenurutMenurutMenurutMenurutMenurutMenurutMenurutMenurutMenurutMenurutMenurutMenurutMenurutMenurutMenurutMenurutMenurutMenurutMenurutMenurutMenurutMenurutMenurutMenurutMenurutMenurutMenurutMenurutMenurutMenurutMenurutMenurutMenurutMenurutMenurutMenurutMenurutMenurutMenurutMenurutMenurutMenurutMenurutMenurutMenurutMenurutMenurutMenurutMenurutMenurutMenurutMenurutMenurutMenurutMenurutMenurutMenurutMenurutMenurutMenurutMenurutMenurutMenurutMenurutMenurutMenurutMenurutMenurutMenurutMenurutMenurutMenurutMenurutMenurutMenurutMenurutMenurutMenurutMenurutMenurutMenurutMenurutMenurutMenurutMenurutMenurutMenurutMenurutMenurutMenurutMenurutMenurutMenurutMenurutMenurutMenurutMenurutMenurutMenurutMenurutMenurutMenurutMenurutMenurutMenurutMenurutMenurutMenurutMenurutMenurutMenurutMenurutMenurutMenurutMenurutMenurutMenurutMenurutMenurutMenurutMenurutMenurutMenurutMenurutMenurutMenurutMenurutMenurutMenurutMenurutMenurutMenurutMenurutMenurutMenurutMenurutMenurutMenurutMenurutMenurutMenurutMenurutMenurutMenurutMenurutMenurutMenurutMenurutMenurutMenurutMenurutMenurutMenurutMenurutMenurutMenurutMenurutMenurutMenurutMenurutMenurutMenurutMenurutMenurutMenurutMenurutMenurutMenurutMenurutMenurutMenurutMenurutMenurutMenurutMenurutMenurutMenurutMenurutMenurutMenurutMenurutMenurutMenurutMenurutMenurutMenurutMenurutMenurutMenurutMenurutMenurutMenurutMenurutMenurutMenurutMenurutMenurutMenurutMenurutMenurutMenurutMenurutMenurutMenurutMenurutMenurutMenurutMenurutMenurutMenurutMenurutMenurutMenurutMenurutMenurutMenurutMenurutMenurutMenurutMenurutMenurutMenurutMenurutMenurutMenurutMenurutMenurutMenurutMenurutMenurutMenurutMenurutMenurutMenurutMenurutMenurutMenurutMenurutMenurutMenurutMenurutMenurutMenurutMenurutMenurutMenurutMenurutMenurutMenurutMenurutMenurutMenurutMenurutMenurutMenurutMenurutMenurutMenurutMenurutMenurutMenurutMenurutMenurutMenurutMenurutMenurutMenurutMenurutMenurutMenurutMenurutMenurutMenurutMenurutMenurutMenurutMenurutMenurutMenurutMenurutMenurutMenurutMenurutMenurutMenurutMenurutMenurutMenurutMenurutMenurutMenurutMenurutMenurutMenurutMenurutMenurutMenurutMenurutMenurutMenurutMenurutMenurut] took 0.3168675899505615 seconds, consider setting Text2TextProblem.max_subtoken_length to a smaller value.\n"
     ]
    },
    {
     "name": "stdout",
     "output_type": "stream",
     "text": [
      "INFO:tensorflow:Processing token [sukayanghijau] took 3.5683021545410156 seconds, consider setting Text2TextProblem.max_subtoken_length to a smaller value.\n"
     ]
    },
    {
     "name": "stderr",
     "output_type": "stream",
     "text": [
      "INFO:tensorflow:Processing token [sukayanghijau] took 3.5683021545410156 seconds, consider setting Text2TextProblem.max_subtoken_length to a smaller value.\n"
     ]
    },
    {
     "name": "stdout",
     "output_type": "stream",
     "text": [
      "INFO:tensorflow:vocab_size = 87826\n"
     ]
    },
    {
     "name": "stderr",
     "output_type": "stream",
     "text": [
      "INFO:tensorflow:vocab_size = 87826\n"
     ]
    },
    {
     "name": "stdout",
     "output_type": "stream",
     "text": [
      "INFO:tensorflow:Iteration 1\n"
     ]
    },
    {
     "name": "stderr",
     "output_type": "stream",
     "text": [
      "INFO:tensorflow:Iteration 1\n"
     ]
    },
    {
     "name": "stdout",
     "output_type": "stream",
     "text": [
      "INFO:tensorflow:Processing token [CornwalltakutMPFN] took 0.11439061164855957 seconds, consider setting Text2TextProblem.max_subtoken_length to a smaller value.\n"
     ]
    },
    {
     "name": "stderr",
     "output_type": "stream",
     "text": [
      "INFO:tensorflow:Processing token [CornwalltakutMPFN] took 0.11439061164855957 seconds, consider setting Text2TextProblem.max_subtoken_length to a smaller value.\n"
     ]
    },
    {
     "name": "stdout",
     "output_type": "stream",
     "text": [
      "INFO:tensorflow:Processing token [Kusuruh] took 0.13111019134521484 seconds, consider setting Text2TextProblem.max_subtoken_length to a smaller value.\n"
     ]
    },
    {
     "name": "stderr",
     "output_type": "stream",
     "text": [
      "INFO:tensorflow:Processing token [Kusuruh] took 0.13111019134521484 seconds, consider setting Text2TextProblem.max_subtoken_length to a smaller value.\n"
     ]
    },
    {
     "name": "stdout",
     "output_type": "stream",
     "text": [
      "INFO:tensorflow:Processing token [Prayurasakdi] took 0.4113295078277588 seconds, consider setting Text2TextProblem.max_subtoken_length to a smaller value.\n"
     ]
    },
    {
     "name": "stderr",
     "output_type": "stream",
     "text": [
      "INFO:tensorflow:Processing token [Prayurasakdi] took 0.4113295078277588 seconds, consider setting Text2TextProblem.max_subtoken_length to a smaller value.\n"
     ]
    },
    {
     "name": "stdout",
     "output_type": "stream",
     "text": [
      "INFO:tensorflow:Processing token [AkanMPFNIGINA] took 0.9492452144622803 seconds, consider setting Text2TextProblem.max_subtoken_length to a smaller value.\n"
     ]
    },
    {
     "name": "stderr",
     "output_type": "stream",
     "text": [
      "INFO:tensorflow:Processing token [AkanMPFNIGINA] took 0.9492452144622803 seconds, consider setting Text2TextProblem.max_subtoken_length to a smaller value.\n"
     ]
    },
    {
     "name": "stdout",
     "output_type": "stream",
     "text": [
      "INFO:tensorflow:vocab_size = 35905\n"
     ]
    },
    {
     "name": "stderr",
     "output_type": "stream",
     "text": [
      "INFO:tensorflow:vocab_size = 35905\n"
     ]
    },
    {
     "name": "stdout",
     "output_type": "stream",
     "text": [
      "INFO:tensorflow:Iteration 2\n"
     ]
    },
    {
     "name": "stderr",
     "output_type": "stream",
     "text": [
      "INFO:tensorflow:Iteration 2\n"
     ]
    },
    {
     "name": "stdout",
     "output_type": "stream",
     "text": [
      "INFO:tensorflow:Processing token [ ! ? \" ] took 0.14040732383728027 seconds, consider setting Text2TextProblem.max_subtoken_length to a smaller value.\n"
     ]
    },
    {
     "name": "stderr",
     "output_type": "stream",
     "text": [
      "INFO:tensorflow:Processing token [ ! ? \" ] took 0.14040732383728027 seconds, consider setting Text2TextProblem.max_subtoken_length to a smaller value.\n"
     ]
    },
    {
     "name": "stdout",
     "output_type": "stream",
     "text": [
      "INFO:tensorflow:Processing token [menyejukkanbunnies] took 0.44130373001098633 seconds, consider setting Text2TextProblem.max_subtoken_length to a smaller value.\n"
     ]
    },
    {
     "name": "stderr",
     "output_type": "stream",
     "text": [
      "INFO:tensorflow:Processing token [menyejukkanbunnies] took 0.44130373001098633 seconds, consider setting Text2TextProblem.max_subtoken_length to a smaller value.\n"
     ]
    },
    {
     "name": "stdout",
     "output_type": "stream",
     "text": [
      "INFO:tensorflow:Processing token [Ambulanstanpunyacerita] took 0.8917455673217773 seconds, consider setting Text2TextProblem.max_subtoken_length to a smaller value.\n"
     ]
    },
    {
     "name": "stderr",
     "output_type": "stream",
     "text": [
      "INFO:tensorflow:Processing token [Ambulanstanpunyacerita] took 0.8917455673217773 seconds, consider setting Text2TextProblem.max_subtoken_length to a smaller value.\n"
     ]
    },
    {
     "name": "stdout",
     "output_type": "stream",
     "text": [
      "INFO:tensorflow:vocab_size = 36525\n"
     ]
    },
    {
     "name": "stderr",
     "output_type": "stream",
     "text": [
      "INFO:tensorflow:vocab_size = 36525\n"
     ]
    },
    {
     "name": "stdout",
     "output_type": "stream",
     "text": [
      "INFO:tensorflow:Iteration 3\n"
     ]
    },
    {
     "name": "stderr",
     "output_type": "stream",
     "text": [
      "INFO:tensorflow:Iteration 3\n"
     ]
    },
    {
     "name": "stdout",
     "output_type": "stream",
     "text": [
      "INFO:tensorflow:Processing token [Penafrekuensinyakkan] took 0.1675868034362793 seconds, consider setting Text2TextProblem.max_subtoken_length to a smaller value.\n"
     ]
    },
    {
     "name": "stderr",
     "output_type": "stream",
     "text": [
      "INFO:tensorflow:Processing token [Penafrekuensinyakkan] took 0.1675868034362793 seconds, consider setting Text2TextProblem.max_subtoken_length to a smaller value.\n"
     ]
    },
    {
     "name": "stdout",
     "output_type": "stream",
     "text": [
      "INFO:tensorflow:Processing token [Allendale] took 0.4453897476196289 seconds, consider setting Text2TextProblem.max_subtoken_length to a smaller value.\n"
     ]
    },
    {
     "name": "stderr",
     "output_type": "stream",
     "text": [
      "INFO:tensorflow:Processing token [Allendale] took 0.4453897476196289 seconds, consider setting Text2TextProblem.max_subtoken_length to a smaller value.\n"
     ]
    },
    {
     "name": "stdout",
     "output_type": "stream",
     "text": [
      "INFO:tensorflow:Processing token [sparcobandung] took 0.8901448249816895 seconds, consider setting Text2TextProblem.max_subtoken_length to a smaller value.\n"
     ]
    },
    {
     "name": "stderr",
     "output_type": "stream",
     "text": [
      "INFO:tensorflow:Processing token [sparcobandung] took 0.8901448249816895 seconds, consider setting Text2TextProblem.max_subtoken_length to a smaller value.\n"
     ]
    },
    {
     "name": "stdout",
     "output_type": "stream",
     "text": [
      "INFO:tensorflow:vocab_size = 36468\n"
     ]
    },
    {
     "name": "stderr",
     "output_type": "stream",
     "text": [
      "INFO:tensorflow:vocab_size = 36468\n"
     ]
    },
    {
     "name": "stdout",
     "output_type": "stream",
     "text": [
      "INFO:tensorflow:Trying min_count 985\n"
     ]
    },
    {
     "name": "stderr",
     "output_type": "stream",
     "text": [
      "INFO:tensorflow:Trying min_count 985\n"
     ]
    },
    {
     "name": "stdout",
     "output_type": "stream",
     "text": [
      "INFO:tensorflow:Iteration 0\n"
     ]
    },
    {
     "name": "stderr",
     "output_type": "stream",
     "text": [
      "INFO:tensorflow:Iteration 0\n"
     ]
    },
    {
     "name": "stdout",
     "output_type": "stream",
     "text": [
      "INFO:tensorflow:Processing token [MenurutMenurutMenurutMenurutMenurutMenurutMenurutMenurutMenurutMenurutMenurutMenurutMenurutMenurutMenurutMenurutMenurutMenurutMenurutMenurutMenurutMenurutMenurutMenurutMenurutMenurutMenurutMenurutMenurutMenurutMenurutMenurutMenurutMenurutMenurutMenurutMenurutMenurutMenurutMenurutMenurutMenurutMenurutMenurutMenurutMenurutMenurutMenurutMenurutMenurutMenurutMenurutMenurutMenurutMenurutMenurutMenurutMenurutMenurutMenurutMenurutMenurutMenurutMenurutMenurutMenurutMenurutMenurutMenurutMenurutMenurutMenurutMenurutMenurutMenurutMenurutMenurutMenurutMenurutMenurutMenurutMenurutMenurutMenurutMenurutMenurutMenurutMenurutMenurutMenurutMenurutMenurutMenurutMenurutMenurutMenurutMenurutMenurutMenurutMenurutMenurutMenurutMenurutMenurutMenurutMenurutMenurutMenurutMenurutMenurutMenurutMenurutMenurutMenurutMenurutMenurutMenurutMenurutMenurutMenurutMenurutMenurutMenurutMenurutMenurutMenurutMenurutMenurutMenurutMenurutMenurutMenurutMenurutMenurutMenurutMenurutMenurutMenurutMenurutMenurutMenurutMenurutMenurutMenurutMenurutMenurutMenurutMenurutMenurutMenurutMenurutMenurutMenurutMenurutMenurutMenurutMenurutMenurutMenurutMenurutMenurutMenurutMenurutMenurutMenurutMenurutMenurutMenurutMenurutMenurutMenurutMenurutMenurutMenurutMenurutMenurutMenurutMenurutMenurutMenurutMenurutMenurutMenurutMenurutMenurutMenurutMenurutMenurutMenurutMenurutMenurutMenurutMenurutMenurutMenurutMenurutMenurutMenurutMenurutMenurutMenurutMenurutMenurutMenurutMenurutMenurutMenurutMenurutMenurutMenurutMenurutMenurutMenurutMenurutMenurutMenurutMenurutMenurutMenurutMenurutMenurutMenurutMenurutMenurutMenurutMenurutMenurutMenurutMenurutMenurutMenurutMenurutMenurutMenurutMenurutMenurutMenurutMenurutMenurutMenurutMenurutMenurutMenurutMenurutMenurutMenurutMenurutMenurutMenurutMenurutMenurutMenurutMenurutMenurutMenurutMenurutMenurutMenurutMenurutMenurutMenurutMenurutMenurutMenurutMenurutMenurutMenurutMenurutMenurutMenurutMenurutMenurutMenurutMenurutMenurutMenurutMenurutMenurutMenurutMenurutMenurutMenurutMenurutMenurutMenurutMenurutMenurutMenurutMenurutMenurutMenurutMenurutMenurutMenurutMenurutMenurutMenurutMenurutMenurutMenurutMenurutMenurutMenurutMenurutMenurutMenurutMenurutMenurutMenurutMenurutMenurutMenurutMenurutMenurutMenurutMenurutMenurutMenurutMenurutMenurutMenurutMenurutMenurutMenurutMenurutMenurutMenurutMenurutMenurutMenurutMenurutMenurutMenurutMenurutMenurutMenurutMenurutMenurutMenurutMenurutMenurutMenurutMenurutMenurutMenurutMenurutMenurutMenurutMenurutMenurutMenurutMenurutMenurutMenurutMenurutMenurutMenurutMenurutMenurutMenurutMenurutMenurutMenurutMenurutMenurutMenurutMenurutMenurutMenurutMenurutMenurutMenurutMenurutMenurutMenurutMenurutMenurutMenurutMenurutMenurutMenurutMenurutMenurutMenurutMenurutMenurutMenurutMenurutMenurutMenurutMenurutMenurutMenurutMenurutMenurutMenurutMenurutMenurutMenurutMenurutMenurutMenurutMenurutMenurutMenurutMenurutMenurutMenurutMenurutMenurutMenurutMenurutMenurutMenurutMenurutMenurutMenurutMenurutMenurutMenurutMenurutMenurutMenurutMenurutMenurutMenurutMenurutMenurutMenurutMenurutMenurutMenurutMenurutMenurutMenurutMenurutMenurutMenurutMenurutMenurutMenurutMenurutMenurutMenurutMenurutMenurutMenurutMenurutMenurutMenurutMenurutMenurutMenurutMenurutMenurutMenurutMenurutMenurutMenurutMenurutMenurutMenurutMenurutMenurutMenurutMenurutMenurutMenurutMenurutMenurutMenurutMenurutMenurutMenurutMenurutMenurutMenurutMenurutMenurutMenurutMenurutMenurutMenurutMenurutMenurutMenurutMenurutMenurutMenurutMenurutMenurutMenurutMenurutMenurutMenurutMenurutMenurutMenurutMenurutMenurutMenurutMenurutMenurutMenurutMenurutMenurutMenurutMenurutMenurutMenurutMenurutMenurutMenurutMenurutMenurutMenurutMenurutMenurutMenurutMenurutMenurutMenurutMenurutMenurutMenurutMenurutMenurutMenurutMenurutMenurutMenurutMenurutMenurutMenurutMenurutMenurutMenurutMenurutMenurut] took 0.31507015228271484 seconds, consider setting Text2TextProblem.max_subtoken_length to a smaller value.\n"
     ]
    },
    {
     "name": "stderr",
     "output_type": "stream",
     "text": [
      "INFO:tensorflow:Processing token [MenurutMenurutMenurutMenurutMenurutMenurutMenurutMenurutMenurutMenurutMenurutMenurutMenurutMenurutMenurutMenurutMenurutMenurutMenurutMenurutMenurutMenurutMenurutMenurutMenurutMenurutMenurutMenurutMenurutMenurutMenurutMenurutMenurutMenurutMenurutMenurutMenurutMenurutMenurutMenurutMenurutMenurutMenurutMenurutMenurutMenurutMenurutMenurutMenurutMenurutMenurutMenurutMenurutMenurutMenurutMenurutMenurutMenurutMenurutMenurutMenurutMenurutMenurutMenurutMenurutMenurutMenurutMenurutMenurutMenurutMenurutMenurutMenurutMenurutMenurutMenurutMenurutMenurutMenurutMenurutMenurutMenurutMenurutMenurutMenurutMenurutMenurutMenurutMenurutMenurutMenurutMenurutMenurutMenurutMenurutMenurutMenurutMenurutMenurutMenurutMenurutMenurutMenurutMenurutMenurutMenurutMenurutMenurutMenurutMenurutMenurutMenurutMenurutMenurutMenurutMenurutMenurutMenurutMenurutMenurutMenurutMenurutMenurutMenurutMenurutMenurutMenurutMenurutMenurutMenurutMenurutMenurutMenurutMenurutMenurutMenurutMenurutMenurutMenurutMenurutMenurutMenurutMenurutMenurutMenurutMenurutMenurutMenurutMenurutMenurutMenurutMenurutMenurutMenurutMenurutMenurutMenurutMenurutMenurutMenurutMenurutMenurutMenurutMenurutMenurutMenurutMenurutMenurutMenurutMenurutMenurutMenurutMenurutMenurutMenurutMenurutMenurutMenurutMenurutMenurutMenurutMenurutMenurutMenurutMenurutMenurutMenurutMenurutMenurutMenurutMenurutMenurutMenurutMenurutMenurutMenurutMenurutMenurutMenurutMenurutMenurutMenurutMenurutMenurutMenurutMenurutMenurutMenurutMenurutMenurutMenurutMenurutMenurutMenurutMenurutMenurutMenurutMenurutMenurutMenurutMenurutMenurutMenurutMenurutMenurutMenurutMenurutMenurutMenurutMenurutMenurutMenurutMenurutMenurutMenurutMenurutMenurutMenurutMenurutMenurutMenurutMenurutMenurutMenurutMenurutMenurutMenurutMenurutMenurutMenurutMenurutMenurutMenurutMenurutMenurutMenurutMenurutMenurutMenurutMenurutMenurutMenurutMenurutMenurutMenurutMenurutMenurutMenurutMenurutMenurutMenurutMenurutMenurutMenurutMenurutMenurutMenurutMenurutMenurutMenurutMenurutMenurutMenurutMenurutMenurutMenurutMenurutMenurutMenurutMenurutMenurutMenurutMenurutMenurutMenurutMenurutMenurutMenurutMenurutMenurutMenurutMenurutMenurutMenurutMenurutMenurutMenurutMenurutMenurutMenurutMenurutMenurutMenurutMenurutMenurutMenurutMenurutMenurutMenurutMenurutMenurutMenurutMenurutMenurutMenurutMenurutMenurutMenurutMenurutMenurutMenurutMenurutMenurutMenurutMenurutMenurutMenurutMenurutMenurutMenurutMenurutMenurutMenurutMenurutMenurutMenurutMenurutMenurutMenurutMenurutMenurutMenurutMenurutMenurutMenurutMenurutMenurutMenurutMenurutMenurutMenurutMenurutMenurutMenurutMenurutMenurutMenurutMenurutMenurutMenurutMenurutMenurutMenurutMenurutMenurutMenurutMenurutMenurutMenurutMenurutMenurutMenurutMenurutMenurutMenurutMenurutMenurutMenurutMenurutMenurutMenurutMenurutMenurutMenurutMenurutMenurutMenurutMenurutMenurutMenurutMenurutMenurutMenurutMenurutMenurutMenurutMenurutMenurutMenurutMenurutMenurutMenurutMenurutMenurutMenurutMenurutMenurutMenurutMenurutMenurutMenurutMenurutMenurutMenurutMenurutMenurutMenurutMenurutMenurutMenurutMenurutMenurutMenurutMenurutMenurutMenurutMenurutMenurutMenurutMenurutMenurutMenurutMenurutMenurutMenurutMenurutMenurutMenurutMenurutMenurutMenurutMenurutMenurutMenurutMenurutMenurutMenurutMenurutMenurutMenurutMenurutMenurutMenurutMenurutMenurutMenurutMenurutMenurutMenurutMenurutMenurutMenurutMenurutMenurutMenurutMenurutMenurutMenurutMenurutMenurutMenurutMenurutMenurutMenurutMenurutMenurutMenurutMenurutMenurutMenurutMenurutMenurutMenurutMenurutMenurutMenurutMenurutMenurutMenurutMenurutMenurutMenurutMenurutMenurutMenurutMenurutMenurutMenurutMenurutMenurutMenurutMenurutMenurutMenurutMenurutMenurutMenurutMenurutMenurutMenurutMenurutMenurutMenurutMenurutMenurutMenurutMenurutMenurutMenurutMenurutMenurutMenurutMenurutMenurutMenurutMenurutMenurutMenurutMenurut] took 0.31507015228271484 seconds, consider setting Text2TextProblem.max_subtoken_length to a smaller value.\n"
     ]
    },
    {
     "name": "stdout",
     "output_type": "stream",
     "text": [
      "INFO:tensorflow:Processing token [Summitmitmitmitmitmitmitmitmitmitmitmitmitmitmitmitmitmitmitmitmitmitmitmitmitmitmitmitmitmitmitmitmitmitmitmitmitmitmitmitmitmitmitmitmitmitmitmitmitmitmitmitmitmitmitmitmitmitmitmitmitmitmitmitmitmitmitmitmitmitmitmitmitmitmitmitmitmitmitmitmitmitmitmitmitmitmitmitmitmitmitmitmitmitmitmitmitmitmitmitmitmitmitmitmitmitmitmitmitmitmitmitmitmitmitmitmitmitmitmitmitmitmitmitmitmitmitmitmitmitmitmitmitmitmitmitmitmitmitmitmitmitmitmitmitmitmitmitmitmitmitmitmitmitmitmitmitmitmitmitmitmitmitmitmitmitmitmitmitmitmitmitmitmitmitmitmitmitmitmitmitmitmitmitmitmitmitmitmitmitmitmitmitmitmitmitmitmitmitmitmitmitmitmitmitmitmitmitmitmitmitmitmitmitmitmitmitmitmitmitmitmitmitmitmitmitmitmitmitmitmitmitmitmitmitmitmitmitmitmitmitmitmitmitmitmitmitmitmitmitmitmitmitmitmitmitmitmitmitmitmitmitmitmitmitmitmitmitmitmitmitmitmitmitmitmitmitmitmitmitmitmitmitmitmitmitmitmitmitmitmitmitmitmitmitmitmitmitmitmitmitmitmitmitmitmitmitmitmitmitmitmitmitmitmitmitmitmitmitmitmitmitmitmitmitmitmitmitmitmitmitmitmitmitmitmitmitmitmitmitmitmitmitmitmitmitmitmitmitmitmitmitmitmitmitmitmitmitmitmitmitmitmitmitmitmitmitmitmitmitmitmitmitmitmitmitmitmitmitmitmitmitmitmitmitmitmitmitmitmitmitmitmitmitmitmitmitmitmitmitmitmitmitmitmitmitmitmitmitmitmitmitmitmitmitmitmitmitmitmitmitmitmitmitmitmitmitmitmitmitmitmitmitmitmitmitmitmitmitmitmitmitmitmitmitmitmitmitmitmitmitmitmitmitmitmitmitmitmitmitmitmitmitmitmitmitmitmitmitmitmitmitmitmitmitmitmitmitmitmitmitmitmitmitmitmitmitmitmitmitmitmitmitmitmitmitmitmitmitmitmitmitmitmitmitmitmitmitmitmitmitmitmitmitmitmitmitmitmitmitmitmitmitmitmitmitmitmitmitmitmitmitmitmitmitmitmitmitmitmitmitmitmitmitmitmitmitmitmitmitmitmitmitmitmitmitmitmitmitmitmitmitmitmitmitmitmitmitmitmitmitmitmitmitmitmitmitmitmitmitmitmitmitmitmitmitmitmitmitmitmitmitmitmitmitmitmitmitmitmitmitmitmitmitmitmitmitmitmitmitmitmitmitmitmitmitmitmitmitmitmitmitmitmitmitmitmitmitmitmitmitmitmitmitmitmitmitmitmitmitmitmitmitmitmitmitmitmitmitmitmitmitmitmitmitmitmitmitmitmitmitmitmitmitmitmitmitmitmitmitmitmitmitmitmitmitmitmitmitmitmitmitmitmitmitmitmitmitmitmitmitmitmitmitmitmitmitmitmitmitmitmitmitmitmitmitmitmitmitmitmitmitmitmitmitmitmitmitmitmitmitmitmitmitmitmitmitmitmitmitmitmitmitmitmit] took 0.15805411338806152 seconds, consider setting Text2TextProblem.max_subtoken_length to a smaller value.\n"
     ]
    },
    {
     "name": "stderr",
     "output_type": "stream",
     "text": [
      "INFO:tensorflow:Processing token [Summitmitmitmitmitmitmitmitmitmitmitmitmitmitmitmitmitmitmitmitmitmitmitmitmitmitmitmitmitmitmitmitmitmitmitmitmitmitmitmitmitmitmitmitmitmitmitmitmitmitmitmitmitmitmitmitmitmitmitmitmitmitmitmitmitmitmitmitmitmitmitmitmitmitmitmitmitmitmitmitmitmitmitmitmitmitmitmitmitmitmitmitmitmitmitmitmitmitmitmitmitmitmitmitmitmitmitmitmitmitmitmitmitmitmitmitmitmitmitmitmitmitmitmitmitmitmitmitmitmitmitmitmitmitmitmitmitmitmitmitmitmitmitmitmitmitmitmitmitmitmitmitmitmitmitmitmitmitmitmitmitmitmitmitmitmitmitmitmitmitmitmitmitmitmitmitmitmitmitmitmitmitmitmitmitmitmitmitmitmitmitmitmitmitmitmitmitmitmitmitmitmitmitmitmitmitmitmitmitmitmitmitmitmitmitmitmitmitmitmitmitmitmitmitmitmitmitmitmitmitmitmitmitmitmitmitmitmitmitmitmitmitmitmitmitmitmitmitmitmitmitmitmitmitmitmitmitmitmitmitmitmitmitmitmitmitmitmitmitmitmitmitmitmitmitmitmitmitmitmitmitmitmitmitmitmitmitmitmitmitmitmitmitmitmitmitmitmitmitmitmitmitmitmitmitmitmitmitmitmitmitmitmitmitmitmitmitmitmitmitmitmitmitmitmitmitmitmitmitmitmitmitmitmitmitmitmitmitmitmitmitmitmitmitmitmitmitmitmitmitmitmitmitmitmitmitmitmitmitmitmitmitmitmitmitmitmitmitmitmitmitmitmitmitmitmitmitmitmitmitmitmitmitmitmitmitmitmitmitmitmitmitmitmitmitmitmitmitmitmitmitmitmitmitmitmitmitmitmitmitmitmitmitmitmitmitmitmitmitmitmitmitmitmitmitmitmitmitmitmitmitmitmitmitmitmitmitmitmitmitmitmitmitmitmitmitmitmitmitmitmitmitmitmitmitmitmitmitmitmitmitmitmitmitmitmitmitmitmitmitmitmitmitmitmitmitmitmitmitmitmitmitmitmitmitmitmitmitmitmitmitmitmitmitmitmitmitmitmitmitmitmitmitmitmitmitmitmitmitmitmitmitmitmitmitmitmitmitmitmitmitmitmitmitmitmitmitmitmitmitmitmitmitmitmitmitmitmitmitmitmitmitmitmitmitmitmitmitmitmitmitmitmitmitmitmitmitmitmitmitmitmitmitmitmitmitmitmitmitmitmitmitmitmitmitmitmitmitmitmitmitmitmitmitmitmitmitmitmitmitmitmitmitmitmitmitmitmitmitmitmitmitmitmitmitmitmitmitmitmitmitmitmitmitmitmitmitmitmitmitmitmitmitmitmitmitmitmitmitmitmitmitmitmitmitmitmitmitmitmitmitmitmitmitmitmitmitmitmitmitmitmitmitmitmitmitmitmitmitmitmitmitmitmitmitmitmitmitmitmitmitmitmitmitmitmitmitmitmitmitmitmitmitmitmitmitmitmitmitmitmitmitmitmitmitmitmitmitmitmitmitmitmitmitmitmitmitmitmitmitmitmitmitmitmitmitmitmitmitmitmitmitmitmitmitmitmitmitmitmitmitmitmitmitmit] took 0.15805411338806152 seconds, consider setting Text2TextProblem.max_subtoken_length to a smaller value.\n"
     ]
    },
    {
     "name": "stdout",
     "output_type": "stream",
     "text": [
      "INFO:tensorflow:Processing token [lalufrekuensinciPertemuan] took 0.13649654388427734 seconds, consider setting Text2TextProblem.max_subtoken_length to a smaller value.\n"
     ]
    },
    {
     "name": "stderr",
     "output_type": "stream",
     "text": [
      "INFO:tensorflow:Processing token [lalufrekuensinciPertemuan] took 0.13649654388427734 seconds, consider setting Text2TextProblem.max_subtoken_length to a smaller value.\n"
     ]
    },
    {
     "name": "stdout",
     "output_type": "stream",
     "text": [
      "INFO:tensorflow:Processing token [ditaksirkerja] took 0.4073915481567383 seconds, consider setting Text2TextProblem.max_subtoken_length to a smaller value.\n"
     ]
    },
    {
     "name": "stderr",
     "output_type": "stream",
     "text": [
      "INFO:tensorflow:Processing token [ditaksirkerja] took 0.4073915481567383 seconds, consider setting Text2TextProblem.max_subtoken_length to a smaller value.\n"
     ]
    },
    {
     "name": "stdout",
     "output_type": "stream",
     "text": [
      "INFO:tensorflow:Processing token [percikanchoic] took 0.9003477096557617 seconds, consider setting Text2TextProblem.max_subtoken_length to a smaller value.\n"
     ]
    },
    {
     "name": "stderr",
     "output_type": "stream",
     "text": [
      "INFO:tensorflow:Processing token [percikanchoic] took 0.9003477096557617 seconds, consider setting Text2TextProblem.max_subtoken_length to a smaller value.\n"
     ]
    },
    {
     "name": "stdout",
     "output_type": "stream",
     "text": [
      "INFO:tensorflow:Processing token [pemimpinPertemuanpemimpin] took 1.7477726936340332 seconds, consider setting Text2TextProblem.max_subtoken_length to a smaller value.\n"
     ]
    },
    {
     "name": "stderr",
     "output_type": "stream",
     "text": [
      "INFO:tensorflow:Processing token [pemimpinPertemuanpemimpin] took 1.7477726936340332 seconds, consider setting Text2TextProblem.max_subtoken_length to a smaller value.\n"
     ]
    },
    {
     "name": "stdout",
     "output_type": "stream",
     "text": [
      "INFO:tensorflow:Processing token [metaforforforforforforforforforforforforforforforforforforforforforforforforforforforforforforforforforforforforforforforforforforforforforforforforforforforforforforforforforforforforforforforforforforforforforforforforforforforforforforforforforforforforforforforforforforforforforforforforforforforforforforforforforforforforforforforforforforforforforforforforforforforforforforforforforforforforforforforforforforforforforforforforforforforforforforforforforforforforforforforforforforforforforforforforforforforforforforforforforforforforforforforforforforforforforforforforforforforforforforforforforforforforforforforforforforforforforforforforforforforforforforforforforforforforforforforforforforforforforforforforforforforforforforforforforforforforforforforforforforforforforforforforforforforforforforforforforforforforforforforforforforforforforforforforforforforforforforforforforforforforforforforforforforforforforforforforforforforforforforforforforforforforforforforforforforforforforforforforforforforforforforforforforforforforforforforforforforforforforforforforforforforforforforforforforforforforforforforforforforforforforforforforforforforforforforforforforforforforforforforforforforforforforforforforforforforforforforforforforforforfor] took 0.12347984313964844 seconds, consider setting Text2TextProblem.max_subtoken_length to a smaller value.\n"
     ]
    },
    {
     "name": "stderr",
     "output_type": "stream",
     "text": [
      "INFO:tensorflow:Processing token [metaforforforforforforforforforforforforforforforforforforforforforforforforforforforforforforforforforforforforforforforforforforforforforforforforforforforforforforforforforforforforforforforforforforforforforforforforforforforforforforforforforforforforforforforforforforforforforforforforforforforforforforforforforforforforforforforforforforforforforforforforforforforforforforforforforforforforforforforforforforforforforforforforforforforforforforforforforforforforforforforforforforforforforforforforforforforforforforforforforforforforforforforforforforforforforforforforforforforforforforforforforforforforforforforforforforforforforforforforforforforforforforforforforforforforforforforforforforforforforforforforforforforforforforforforforforforforforforforforforforforforforforforforforforforforforforforforforforforforforforforforforforforforforforforforforforforforforforforforforforforforforforforforforforforforforforforforforforforforforforforforforforforforforforforforforforforforforforforforforforforforforforforforforforforforforforforforforforforforforforforforforforforforforforforforforforforforforforforforforforforforforforforforforforforforforforforforforforforforforforforforforforforforforforforforforforforforforforforforforforforfor] took 0.12347984313964844 seconds, consider setting Text2TextProblem.max_subtoken_length to a smaller value.\n"
     ]
    },
    {
     "name": "stdout",
     "output_type": "stream",
     "text": [
      "INFO:tensorflow:Processing token [sekseksekseksekseksekseksekseksekseksekseksekseksekseksekseksekseksekseksekseksekseksekseksekseksekseksekseksekseksekseksekseksekseksekseksekseksekseksekseksekseksekseksekseksekseksekseksekseksekseksekseksekseksekseksekseksekseksekseksekseksekseksekseksekseksekseksekseksekseksekseksekseksekseksekseksekseksekseksekseksekseksekseksekseksekseksekseksekseksekseksekseksekseksekseksekseksekseksekseksekseksekseksekseksekseksekseksekseksekseksekseksekseksekseksekseksekseksekseksekseksekseksekseksekseksekseksekseksekseksekseksekseksekseksekseksekseksekseksekseksekseksekseksekseksekseksekseksekseksekseksekseksekseksekseksekseksekseksekseksekseksekseksekseksekseksekseksekseksekseksekseksekseksekseksekseksekseksekseksekseksekseksekseksekseksekseksekseksekseksekseksekseksekseksekseksekseksekseksekseksekseksekseksekseksekseksekseksekseksekseksekseksekseksekseksekseksekseksekseksekseksekseksekseksekseksekseksekseksekseksekseksekseksekseksekseksekseksekseksekseksekseksekseksekseksekseksekseksekseksekseksekseksekseksekseksekseksekseksekseksekseksekseksekseksekseksekseksekseksekseksekseksekseksekseksekseksekseksekseksekseksekseksekseksekseksekseksekseksekseksekseksekseksekseksekseksekseksekseksekseksekseksekseksekseksekseksekseksekseksekseksekseksekseksekseksekseksekseksekseksekseksekseksekseksekseksekseksekseksekseksekseksekseksekseksekseksekseksekseksekseksekseksekseksekseksekseksekseksekseksekseksekseksekseksekseksekseksekseksekseksekseksekseksekseksekseksekseksekseksekseksekseksekseksekseksekseksekseksekseksekseksekseksekseksekseksekseksekseksekseksekseksekseksekseksekseksekseksekseksekseksekseksekseksekseksekseksekseksekseksekseksekseksekseksekseksekseksekseksekseksekseksekseksekseksekseksekseksekseksekseksekseksekseksekseksekseksekseksekseksekseksekseksekseksekseksekseksekseksekseksekseksekseksekseksekseksekseksekseksekseksekseksekseksekseksekseksekseksekseksekseksekseksekseksekseksekseksekseksekseksekseksekseksekseksekseksekseksekseksekseksekseksekseksekseksekseksekseksekseksekseksekseksekseksekseksekseksekseksekseksekseksekseksekseksekseksekseksekseksekseksekseksekseksekseksekseksekseks] took 0.17206096649169922 seconds, consider setting Text2TextProblem.max_subtoken_length to a smaller value.\n"
     ]
    },
    {
     "name": "stderr",
     "output_type": "stream",
     "text": [
      "INFO:tensorflow:Processing token [sekseksekseksekseksekseksekseksekseksekseksekseksekseksekseksekseksekseksekseksekseksekseksekseksekseksekseksekseksekseksekseksekseksekseksekseksekseksekseksekseksekseksekseksekseksekseksekseksekseksekseksekseksekseksekseksekseksekseksekseksekseksekseksekseksekseksekseksekseksekseksekseksekseksekseksekseksekseksekseksekseksekseksekseksekseksekseksekseksekseksekseksekseksekseksekseksekseksekseksekseksekseksekseksekseksekseksekseksekseksekseksekseksekseksekseksekseksekseksekseksekseksekseksekseksekseksekseksekseksekseksekseksekseksekseksekseksekseksekseksekseksekseksekseksekseksekseksekseksekseksekseksekseksekseksekseksekseksekseksekseksekseksekseksekseksekseksekseksekseksekseksekseksekseksekseksekseksekseksekseksekseksekseksekseksekseksekseksekseksekseksekseksekseksekseksekseksekseksekseksekseksekseksekseksekseksekseksekseksekseksekseksekseksekseksekseksekseksekseksekseksekseksekseksekseksekseksekseksekseksekseksekseksekseksekseksekseksekseksekseksekseksekseksekseksekseksekseksekseksekseksekseksekseksekseksekseksekseksekseksekseksekseksekseksekseksekseksekseksekseksekseksekseksekseksekseksekseksekseksekseksekseksekseksekseksekseksekseksekseksekseksekseksekseksekseksekseksekseksekseksekseksekseksekseksekseksekseksekseksekseksekseksekseksekseksekseksekseksekseksekseksekseksekseksekseksekseksekseksekseksekseksekseksekseksekseksekseksekseksekseksekseksekseksekseksekseksekseksekseksekseksekseksekseksekseksekseksekseksekseksekseksekseksekseksekseksekseksekseksekseksekseksekseksekseksekseksekseksekseksekseksekseksekseksekseksekseksekseksekseksekseksekseksekseksekseksekseksekseksekseksekseksekseksekseksekseksekseksekseksekseksekseksekseksekseksekseksekseksekseksekseksekseksekseksekseksekseksekseksekseksekseksekseksekseksekseksekseksekseksekseksekseksekseksekseksekseksekseksekseksekseksekseksekseksekseksekseksekseksekseksekseksekseksekseksekseksekseksekseksekseksekseksekseksekseksekseksekseksekseksekseksekseksekseksekseksekseksekseksekseksekseksekseksekseksekseksekseksekseksekseksekseksekseksekseksekseksekseksekseksekseksekseksekseksekseksekseksekseksekseksekseksekseksekseksekseksekseks] took 0.17206096649169922 seconds, consider setting Text2TextProblem.max_subtoken_length to a smaller value.\n"
     ]
    },
    {
     "name": "stdout",
     "output_type": "stream",
     "text": [
      "INFO:tensorflow:Processing token [MenurutMenurutMenurutMenurutMenurutMenurutMenurutMenurutMenurutMenurutMenurutMenurutMenurutMenurutMenurutMenurutMenurutMenurutMenurutMenurutMenurutMenurutMenurutMenurutMenurutMenurutMenurutMenurutMenurutMenurutMenurutMenurutMenurutMenurutMenurutMenurutMenurutMenurutMenurutMenurutMenurutMenurutMenurutMenurutMenurutMenurutMenurutMenurutMenurutMenurutMenurutMenurutMenurutMenurutMenurutMenurutMenurutMenurutMenurutMenurutMenurutMenurutMenurutMenurutMenurutMenurutMenurutMenurutMenurutMenurutMenurutMenurutMenurutMenurutMenurutMenurutMenurutMenurutMenurutMenurutMenurutMenurutMenurutMenurutMenurutMenurutMenurutMenurutMenurutMenurutMenurutMenurutMenurutMenurutMenurutMenurutMenurutMenurutMenurutMenurutMenurutMenurutMenurutMenurutMenurutMenurutMenurutMenurutMenurutMenurutMenurutMenurutMenurutMenurutMenurutMenurutMenurutMenurutMenurutMenurutMenurutMenurutMenurutMenurutMenurutMenurutMenurutMenurutMenurutMenurutMenurutMenurutMenurutMenurutMenurutMenurutMenurutMenurutMenurutMenurutMenurutMenurutMenurutMenurutMenurutMenurutMenurutMenurutMenurutMenurutMenurutMenurutMenurutMenurutMenurutMenurutMenurutMenurutMenurutMenurutMenurutMenurutMenurutMenurutMenurutMenurutMenurutMenurutMenurutMenurutMenurutMenurutMenurutMenurutMenurutMenurutMenurutMenurutMenurutMenurutMenurutMenurutMenurutMenurutMenurutMenurutMenurutMenurutMenurutMenurutMenurutMenurutMenurutMenurutMenurutMenurutMenurutMenurutMenurutMenurutMenurutMenurutMenurutMenurutMenurutMenurutMenurutMenurutMenurutMenurutMenurutMenurutMenurutMenurutMenurutMenurutMenurutMenurutMenurutMenurutMenurutMenurutMenurutMenurutMenurutMenurutMenurutMenurutMenurutMenurutMenurutMenurutMenurutMenurutMenurutMenurutMenurutMenurutMenurutMenurutMenurutMenurutMenurutMenurutMenurutMenurutMenurutMenurutMenurutMenurutMenurutMenurutMenurutMenurutMenurutMenurutMenurutMenurutMenurutMenurutMenurutMenurutMenurutMenurutMenurutMenurutMenurutMenurutMenurutMenurutMenurutMenurutMenurutMenurutMenurutMenurutMenurutMenurutMenurutMenurutMenurutMenurutMenurutMenurutMenurutMenurutMenurutMenurutMenurutMenurutMenurutMenurutMenurutMenurutMenurutMenurutMenurutMenurutMenurutMenurutMenurutMenurutMenurutMenurutMenurutMenurutMenurutMenurutMenurutMenurutMenurutMenurutMenurutMenurutMenurutMenurutMenurutMenurutMenurutMenurutMenurutMenurutMenurutMenurutMenurutMenurutMenurutMenurutMenurutMenurutMenurutMenurutMenurutMenurutMenurutMenurutMenurutMenurutMenurutMenurutMenurutMenurutMenurutMenurutMenurutMenurutMenurutMenurutMenurutMenurutMenurutMenurutMenurutMenurutMenurutMenurutMenurutMenurutMenurutMenurutMenurutMenurutMenurutMenurutMenurutMenurutMenurutMenurutMenurutMenurutMenurutMenurutMenurutMenurutMenurutMenurutMenurutMenurutMenurutMenurutMenurutMenurutMenurutMenurutMenurutMenurutMenurutMenurutMenurutMenurutMenurutMenurutMenurutMenurutMenurutMenurutMenurutMenurutMenurutMenurutMenurutMenurutMenurutMenurutMenurutMenurutMenurutMenurutMenurutMenurutMenurutMenurutMenurutMenurutMenurutMenurutMenurutMenurutMenurutMenurutMenurutMenurutMenurutMenurutMenurutMenurutMenurutMenurutMenurutMenurutMenurutMenurutMenurutMenurutMenurutMenurutMenurutMenurutMenurutMenurutMenurutMenurutMenurutMenurutMenurutMenurutMenurutMenurutMenurutMenurutMenurutMenurutMenurutMenurutMenurutMenurutMenurutMenurutMenurutMenurutMenurutMenurutMenurutMenurutMenurutMenurutMenurutMenurutMenurutMenurutMenurutMenurutMenurutMenurutMenurutMenurutMenurutMenurutMenurutMenurutMenurutMenurutMenurutMenurutMenurutMenurutMenurutMenurutMenurutMenurutMenurutMenurutMenurutMenurutMenurutMenurutMenurutMenurutMenurutMenurutMenurutMenurutMenurutMenurutMenurutMenurutMenurutMenurutMenurutMenurutMenurutMenurutMenurutMenurutMenurutMenurutMenurutMenurutMenurutMenurutMenurutMenurutMenurutMenurutMenurutMenurutMenurutMenurutMenurutMenurutMenurutMenurutMenurutMenurutMenurutMenurutMenurutMenurutMenurutMenurutMenurutMenurutMenurutMenurutMenurutMenurutMenurutMenurutMenurutMenurutMenurutMenurutMenurutMenurutMenurutMenurutMenurutMenurutMenurutMenurutMenurutMenurutMenurutMenurutMenurutMenurutMenurutMenurutMenurutMenurutMenurutMenurutMenurutMenurutMenurutMenurutMenurutMenurutMenurutMenurutMenurutMenurutMenurutMenurutMenurutMenurutMenurutMenurutMenurutMenurutMenurutMenurutMenurutMenurutMenurutMenurutMenurutMenurutMenurutMenurutMenurutMenurutMenurutMenurutMenurutMenurutMenurutMenurutMenurutMenurutMenurut] took 0.3077857494354248 seconds, consider setting Text2TextProblem.max_subtoken_length to a smaller value.\n"
     ]
    },
    {
     "name": "stderr",
     "output_type": "stream",
     "text": [
      "INFO:tensorflow:Processing token [MenurutMenurutMenurutMenurutMenurutMenurutMenurutMenurutMenurutMenurutMenurutMenurutMenurutMenurutMenurutMenurutMenurutMenurutMenurutMenurutMenurutMenurutMenurutMenurutMenurutMenurutMenurutMenurutMenurutMenurutMenurutMenurutMenurutMenurutMenurutMenurutMenurutMenurutMenurutMenurutMenurutMenurutMenurutMenurutMenurutMenurutMenurutMenurutMenurutMenurutMenurutMenurutMenurutMenurutMenurutMenurutMenurutMenurutMenurutMenurutMenurutMenurutMenurutMenurutMenurutMenurutMenurutMenurutMenurutMenurutMenurutMenurutMenurutMenurutMenurutMenurutMenurutMenurutMenurutMenurutMenurutMenurutMenurutMenurutMenurutMenurutMenurutMenurutMenurutMenurutMenurutMenurutMenurutMenurutMenurutMenurutMenurutMenurutMenurutMenurutMenurutMenurutMenurutMenurutMenurutMenurutMenurutMenurutMenurutMenurutMenurutMenurutMenurutMenurutMenurutMenurutMenurutMenurutMenurutMenurutMenurutMenurutMenurutMenurutMenurutMenurutMenurutMenurutMenurutMenurutMenurutMenurutMenurutMenurutMenurutMenurutMenurutMenurutMenurutMenurutMenurutMenurutMenurutMenurutMenurutMenurutMenurutMenurutMenurutMenurutMenurutMenurutMenurutMenurutMenurutMenurutMenurutMenurutMenurutMenurutMenurutMenurutMenurutMenurutMenurutMenurutMenurutMenurutMenurutMenurutMenurutMenurutMenurutMenurutMenurutMenurutMenurutMenurutMenurutMenurutMenurutMenurutMenurutMenurutMenurutMenurutMenurutMenurutMenurutMenurutMenurutMenurutMenurutMenurutMenurutMenurutMenurutMenurutMenurutMenurutMenurutMenurutMenurutMenurutMenurutMenurutMenurutMenurutMenurutMenurutMenurutMenurutMenurutMenurutMenurutMenurutMenurutMenurutMenurutMenurutMenurutMenurutMenurutMenurutMenurutMenurutMenurutMenurutMenurutMenurutMenurutMenurutMenurutMenurutMenurutMenurutMenurutMenurutMenurutMenurutMenurutMenurutMenurutMenurutMenurutMenurutMenurutMenurutMenurutMenurutMenurutMenurutMenurutMenurutMenurutMenurutMenurutMenurutMenurutMenurutMenurutMenurutMenurutMenurutMenurutMenurutMenurutMenurutMenurutMenurutMenurutMenurutMenurutMenurutMenurutMenurutMenurutMenurutMenurutMenurutMenurutMenurutMenurutMenurutMenurutMenurutMenurutMenurutMenurutMenurutMenurutMenurutMenurutMenurutMenurutMenurutMenurutMenurutMenurutMenurutMenurutMenurutMenurutMenurutMenurutMenurutMenurutMenurutMenurutMenurutMenurutMenurutMenurutMenurutMenurutMenurutMenurutMenurutMenurutMenurutMenurutMenurutMenurutMenurutMenurutMenurutMenurutMenurutMenurutMenurutMenurutMenurutMenurutMenurutMenurutMenurutMenurutMenurutMenurutMenurutMenurutMenurutMenurutMenurutMenurutMenurutMenurutMenurutMenurutMenurutMenurutMenurutMenurutMenurutMenurutMenurutMenurutMenurutMenurutMenurutMenurutMenurutMenurutMenurutMenurutMenurutMenurutMenurutMenurutMenurutMenurutMenurutMenurutMenurutMenurutMenurutMenurutMenurutMenurutMenurutMenurutMenurutMenurutMenurutMenurutMenurutMenurutMenurutMenurutMenurutMenurutMenurutMenurutMenurutMenurutMenurutMenurutMenurutMenurutMenurutMenurutMenurutMenurutMenurutMenurutMenurutMenurutMenurutMenurutMenurutMenurutMenurutMenurutMenurutMenurutMenurutMenurutMenurutMenurutMenurutMenurutMenurutMenurutMenurutMenurutMenurutMenurutMenurutMenurutMenurutMenurutMenurutMenurutMenurutMenurutMenurutMenurutMenurutMenurutMenurutMenurutMenurutMenurutMenurutMenurutMenurutMenurutMenurutMenurutMenurutMenurutMenurutMenurutMenurutMenurutMenurutMenurutMenurutMenurutMenurutMenurutMenurutMenurutMenurutMenurutMenurutMenurutMenurutMenurutMenurutMenurutMenurutMenurutMenurutMenurutMenurutMenurutMenurutMenurutMenurutMenurutMenurutMenurutMenurutMenurutMenurutMenurutMenurutMenurutMenurutMenurutMenurutMenurutMenurutMenurutMenurutMenurutMenurutMenurutMenurutMenurutMenurutMenurutMenurutMenurutMenurutMenurutMenurutMenurutMenurutMenurutMenurutMenurutMenurutMenurutMenurutMenurutMenurutMenurutMenurutMenurutMenurutMenurutMenurutMenurutMenurutMenurutMenurutMenurutMenurutMenurutMenurutMenurutMenurutMenurutMenurutMenurutMenurutMenurutMenurutMenurutMenurutMenurutMenurutMenurutMenurutMenurutMenurutMenurutMenurutMenurutMenurutMenurutMenurutMenurutMenurutMenurutMenurutMenurutMenurutMenurutMenurutMenurutMenurutMenurutMenurutMenurutMenurutMenurutMenurutMenurutMenurutMenurutMenurutMenurutMenurutMenurutMenurutMenurutMenurutMenurutMenurutMenurutMenurutMenurutMenurutMenurutMenurutMenurutMenurutMenurutMenurutMenurutMenurutMenurutMenurutMenurutMenurutMenurutMenurutMenurutMenurutMenurutMenurutMenurutMenurutMenurutMenurutMenurutMenurutMenurut] took 0.3077857494354248 seconds, consider setting Text2TextProblem.max_subtoken_length to a smaller value.\n"
     ]
    },
    {
     "name": "stdout",
     "output_type": "stream",
     "text": [
      "INFO:tensorflow:Processing token [sukayanghijau] took 3.7277746200561523 seconds, consider setting Text2TextProblem.max_subtoken_length to a smaller value.\n"
     ]
    },
    {
     "name": "stderr",
     "output_type": "stream",
     "text": [
      "INFO:tensorflow:Processing token [sukayanghijau] took 3.7277746200561523 seconds, consider setting Text2TextProblem.max_subtoken_length to a smaller value.\n"
     ]
    },
    {
     "name": "stdout",
     "output_type": "stream",
     "text": [
      "INFO:tensorflow:vocab_size = 86822\n"
     ]
    },
    {
     "name": "stderr",
     "output_type": "stream",
     "text": [
      "INFO:tensorflow:vocab_size = 86822\n"
     ]
    },
    {
     "name": "stdout",
     "output_type": "stream",
     "text": [
      "INFO:tensorflow:Iteration 1\n"
     ]
    },
    {
     "name": "stderr",
     "output_type": "stream",
     "text": [
      "INFO:tensorflow:Iteration 1\n"
     ]
    },
    {
     "name": "stdout",
     "output_type": "stream",
     "text": [
      "INFO:tensorflow:Processing token [analystmpikan] took 0.14931011199951172 seconds, consider setting Text2TextProblem.max_subtoken_length to a smaller value.\n"
     ]
    },
    {
     "name": "stderr",
     "output_type": "stream",
     "text": [
      "INFO:tensorflow:Processing token [analystmpikan] took 0.14931011199951172 seconds, consider setting Text2TextProblem.max_subtoken_length to a smaller value.\n"
     ]
    },
    {
     "name": "stdout",
     "output_type": "stream",
     "text": [
      "INFO:tensorflow:Processing token [HSIAOJawatankuasa] took 0.42342543601989746 seconds, consider setting Text2TextProblem.max_subtoken_length to a smaller value.\n"
     ]
    },
    {
     "name": "stderr",
     "output_type": "stream",
     "text": [
      "INFO:tensorflow:Processing token [HSIAOJawatankuasa] took 0.42342543601989746 seconds, consider setting Text2TextProblem.max_subtoken_length to a smaller value.\n"
     ]
    },
    {
     "name": "stdout",
     "output_type": "stream",
     "text": [
      "INFO:tensorflow:Processing token [cushionfoundation] took 0.9109675884246826 seconds, consider setting Text2TextProblem.max_subtoken_length to a smaller value.\n"
     ]
    },
    {
     "name": "stderr",
     "output_type": "stream",
     "text": [
      "INFO:tensorflow:Processing token [cushionfoundation] took 0.9109675884246826 seconds, consider setting Text2TextProblem.max_subtoken_length to a smaller value.\n"
     ]
    },
    {
     "name": "stdout",
     "output_type": "stream",
     "text": [
      "INFO:tensorflow:vocab_size = 35553\n"
     ]
    },
    {
     "name": "stderr",
     "output_type": "stream",
     "text": [
      "INFO:tensorflow:vocab_size = 35553\n"
     ]
    },
    {
     "name": "stdout",
     "output_type": "stream",
     "text": [
      "INFO:tensorflow:Iteration 2\n"
     ]
    },
    {
     "name": "stderr",
     "output_type": "stream",
     "text": [
      "INFO:tensorflow:Iteration 2\n"
     ]
    },
    {
     "name": "stdout",
     "output_type": "stream",
     "text": [
      "INFO:tensorflow:Processing token [MenurutMenurutMenurutMenurutMenurutMenurutMenurutMenurutMenurutMenurutMenurutMenurutMenurutMenurutMenurutMenurutMenurutMenurutMenurutMenurutMenurutMenurutMenurutMenurutMenurutMenurutMenurutMenurutMenurutMenurutMenurutMenurutMenurutMenurutMenurutMenurutMenurutMenurutMenurutMenurutMenurutMenurutMenurutMenurutMenurutMenurutMenurutMenurutMenurutMenurutMenurutMenurutMenurutMenurutMenurutMenurutMenurutMenurutMenurutMenurutMenurutMenurutMenurutMenurutMenurutMenurutMenurutMenurutMenurutMenurutMenurutMenurutMenurutMenurutMenurutMenurutMenurutMenurutMenurutMenurutMenurutMenurutMenurutMenurutMenurutMenurutMenurutMenurutMenurutMenurutMenurutMenurutMenurutMenurutMenurutMenurutMenurutMenurutMenurutMenurutMenurutMenurutMenurutMenurutMenurutMenurutMenurutMenurutMenurutMenurutMenurutMenurutMenurutMenurutMenurutMenurutMenurutMenurutMenurutMenurutMenurutMenurutMenurutMenurutMenurutMenurutMenurutMenurutMenurutMenurutMenurutMenurutMenurutMenurutMenurutMenurutMenurutMenurutMenurutMenurutMenurutMenurutMenurutMenurutMenurutMenurutMenurutMenurutMenurutMenurutMenurutMenurutMenurutMenurutMenurutMenurutMenurutMenurutMenurutMenurutMenurutMenurutMenurutMenurutMenurutMenurutMenurutMenurutMenurutMenurutMenurutMenurutMenurutMenurutMenurutMenurutMenurutMenurutMenurutMenurutMenurutMenurutMenurutMenurutMenurutMenurutMenurutMenurutMenurutMenurutMenurutMenurutMenurutMenurutMenurutMenurutMenurutMenurutMenurutMenurutMenurutMenurutMenurutMenurutMenurutMenurutMenurutMenurutMenurutMenurutMenurutMenurutMenurutMenurutMenurutMenurutMenurutMenurutMenurutMenurutMenurutMenurutMenurutMenurutMenurutMenurutMenurutMenurutMenurutMenurutMenurutMenurutMenurutMenurutMenurutMenurutMenurutMenurutMenurutMenurutMenurutMenurutMenurutMenurutMenurutMenurutMenurutMenurutMenurutMenurutMenurutMenurutMenurutMenurutMenurutMenurutMenurutMenurutMenurutMenurutMenurutMenurutMenurutMenurutMenurutMenurutMenurutMenurutMenurutMenurutMenurutMenurutMenurutMenurutMenurutMenurutMenurutMenurutMenurutMenurutMenurutMenurutMenurutMenurutMenurutMenurutMenurutMenurutMenurutMenurutMenurutMenurutMenurutMenurutMenurutMenurutMenurutMenurutMenurutMenurutMenurutMenurutMenurutMenurutMenurutMenurutMenurutMenurutMenurutMenurutMenurutMenurutMenurutMenurutMenurutMenurutMenurutMenurutMenurutMenurutMenurutMenurutMenurutMenurutMenurutMenurutMenurutMenurutMenurutMenurutMenurutMenurutMenurutMenurutMenurutMenurutMenurutMenurutMenurutMenurutMenurutMenurutMenurutMenurutMenurutMenurutMenurutMenurutMenurutMenurutMenurutMenurutMenurutMenurutMenurutMenurutMenurutMenurutMenurutMenurutMenurutMenurutMenurutMenurutMenurutMenurutMenurutMenurutMenurutMenurutMenurutMenurutMenurutMenurutMenurutMenurutMenurutMenurutMenurutMenurutMenurutMenurutMenurutMenurutMenurutMenurutMenurutMenurutMenurutMenurutMenurutMenurutMenurutMenurutMenurutMenurutMenurutMenurutMenurutMenurutMenurutMenurutMenurutMenurutMenurutMenurutMenurutMenurutMenurutMenurutMenurutMenurutMenurutMenurutMenurutMenurutMenurutMenurutMenurutMenurutMenurutMenurutMenurutMenurutMenurutMenurutMenurutMenurutMenurutMenurutMenurutMenurutMenurutMenurutMenurutMenurutMenurutMenurutMenurutMenurutMenurutMenurutMenurutMenurutMenurutMenurutMenurutMenurutMenurutMenurutMenurutMenurutMenurutMenurutMenurutMenurutMenurutMenurutMenurutMenurutMenurutMenurutMenurutMenurutMenurutMenurutMenurutMenurutMenurutMenurutMenurutMenurutMenurutMenurutMenurutMenurutMenurutMenurutMenurutMenurutMenurutMenurutMenurutMenurutMenurutMenurutMenurutMenurutMenurutMenurutMenurutMenurutMenurutMenurutMenurutMenurutMenurutMenurutMenurutMenurutMenurutMenurutMenurutMenurutMenurutMenurutMenurutMenurutMenurutMenurutMenurutMenurutMenurutMenurutMenurutMenurutMenurutMenurutMenurutMenurutMenurutMenurutMenurutMenurutMenurutMenurutMenurutMenurutMenurutMenurutMenurutMenurutMenurutMenurutMenurutMenurutMenurutMenurutMenurut] took 0.17830491065979004 seconds, consider setting Text2TextProblem.max_subtoken_length to a smaller value.\n"
     ]
    },
    {
     "name": "stderr",
     "output_type": "stream",
     "text": [
      "INFO:tensorflow:Processing token [MenurutMenurutMenurutMenurutMenurutMenurutMenurutMenurutMenurutMenurutMenurutMenurutMenurutMenurutMenurutMenurutMenurutMenurutMenurutMenurutMenurutMenurutMenurutMenurutMenurutMenurutMenurutMenurutMenurutMenurutMenurutMenurutMenurutMenurutMenurutMenurutMenurutMenurutMenurutMenurutMenurutMenurutMenurutMenurutMenurutMenurutMenurutMenurutMenurutMenurutMenurutMenurutMenurutMenurutMenurutMenurutMenurutMenurutMenurutMenurutMenurutMenurutMenurutMenurutMenurutMenurutMenurutMenurutMenurutMenurutMenurutMenurutMenurutMenurutMenurutMenurutMenurutMenurutMenurutMenurutMenurutMenurutMenurutMenurutMenurutMenurutMenurutMenurutMenurutMenurutMenurutMenurutMenurutMenurutMenurutMenurutMenurutMenurutMenurutMenurutMenurutMenurutMenurutMenurutMenurutMenurutMenurutMenurutMenurutMenurutMenurutMenurutMenurutMenurutMenurutMenurutMenurutMenurutMenurutMenurutMenurutMenurutMenurutMenurutMenurutMenurutMenurutMenurutMenurutMenurutMenurutMenurutMenurutMenurutMenurutMenurutMenurutMenurutMenurutMenurutMenurutMenurutMenurutMenurutMenurutMenurutMenurutMenurutMenurutMenurutMenurutMenurutMenurutMenurutMenurutMenurutMenurutMenurutMenurutMenurutMenurutMenurutMenurutMenurutMenurutMenurutMenurutMenurutMenurutMenurutMenurutMenurutMenurutMenurutMenurutMenurutMenurutMenurutMenurutMenurutMenurutMenurutMenurutMenurutMenurutMenurutMenurutMenurutMenurutMenurutMenurutMenurutMenurutMenurutMenurutMenurutMenurutMenurutMenurutMenurutMenurutMenurutMenurutMenurutMenurutMenurutMenurutMenurutMenurutMenurutMenurutMenurutMenurutMenurutMenurutMenurutMenurutMenurutMenurutMenurutMenurutMenurutMenurutMenurutMenurutMenurutMenurutMenurutMenurutMenurutMenurutMenurutMenurutMenurutMenurutMenurutMenurutMenurutMenurutMenurutMenurutMenurutMenurutMenurutMenurutMenurutMenurutMenurutMenurutMenurutMenurutMenurutMenurutMenurutMenurutMenurutMenurutMenurutMenurutMenurutMenurutMenurutMenurutMenurutMenurutMenurutMenurutMenurutMenurutMenurutMenurutMenurutMenurutMenurutMenurutMenurutMenurutMenurutMenurutMenurutMenurutMenurutMenurutMenurutMenurutMenurutMenurutMenurutMenurutMenurutMenurutMenurutMenurutMenurutMenurutMenurutMenurutMenurutMenurutMenurutMenurutMenurutMenurutMenurutMenurutMenurutMenurutMenurutMenurutMenurutMenurutMenurutMenurutMenurutMenurutMenurutMenurutMenurutMenurutMenurutMenurutMenurutMenurutMenurutMenurutMenurutMenurutMenurutMenurutMenurutMenurutMenurutMenurutMenurutMenurutMenurutMenurutMenurutMenurutMenurutMenurutMenurutMenurutMenurutMenurutMenurutMenurutMenurutMenurutMenurutMenurutMenurutMenurutMenurutMenurutMenurutMenurutMenurutMenurutMenurutMenurutMenurutMenurutMenurutMenurutMenurutMenurutMenurutMenurutMenurutMenurutMenurutMenurutMenurutMenurutMenurutMenurutMenurutMenurutMenurutMenurutMenurutMenurutMenurutMenurutMenurutMenurutMenurutMenurutMenurutMenurutMenurutMenurutMenurutMenurutMenurutMenurutMenurutMenurutMenurutMenurutMenurutMenurutMenurutMenurutMenurutMenurutMenurutMenurutMenurutMenurutMenurutMenurutMenurutMenurutMenurutMenurutMenurutMenurutMenurutMenurutMenurutMenurutMenurutMenurutMenurutMenurutMenurutMenurutMenurutMenurutMenurutMenurutMenurutMenurutMenurutMenurutMenurutMenurutMenurutMenurutMenurutMenurutMenurutMenurutMenurutMenurutMenurutMenurutMenurutMenurutMenurutMenurutMenurutMenurutMenurutMenurutMenurutMenurutMenurutMenurutMenurutMenurutMenurutMenurutMenurutMenurutMenurutMenurutMenurutMenurutMenurutMenurutMenurutMenurutMenurutMenurutMenurutMenurutMenurutMenurutMenurutMenurutMenurutMenurutMenurutMenurutMenurutMenurutMenurutMenurutMenurutMenurutMenurutMenurutMenurutMenurutMenurutMenurutMenurutMenurutMenurutMenurutMenurutMenurutMenurutMenurutMenurutMenurutMenurutMenurutMenurutMenurutMenurutMenurutMenurutMenurutMenurutMenurutMenurutMenurutMenurutMenurutMenurutMenurutMenurutMenurutMenurutMenurutMenurutMenurutMenurutMenurutMenurutMenurutMenurutMenurutMenurutMenurut] took 0.17830491065979004 seconds, consider setting Text2TextProblem.max_subtoken_length to a smaller value.\n"
     ]
    },
    {
     "name": "stdout",
     "output_type": "stream",
     "text": [
      "INFO:tensorflow:Processing token [lnsentifdur] took 0.15062284469604492 seconds, consider setting Text2TextProblem.max_subtoken_length to a smaller value.\n"
     ]
    },
    {
     "name": "stderr",
     "output_type": "stream",
     "text": [
      "INFO:tensorflow:Processing token [lnsentifdur] took 0.15062284469604492 seconds, consider setting Text2TextProblem.max_subtoken_length to a smaller value.\n"
     ]
    },
    {
     "name": "stdout",
     "output_type": "stream",
     "text": [
      "INFO:tensorflow:Processing token [Ferreyra] took 0.4342522621154785 seconds, consider setting Text2TextProblem.max_subtoken_length to a smaller value.\n"
     ]
    },
    {
     "name": "stderr",
     "output_type": "stream",
     "text": [
      "INFO:tensorflow:Processing token [Ferreyra] took 0.4342522621154785 seconds, consider setting Text2TextProblem.max_subtoken_length to a smaller value.\n"
     ]
    },
    {
     "name": "stdout",
     "output_type": "stream",
     "text": [
      "INFO:tensorflow:Processing token [CornwalltuningisMPFNoterattack] took 0.8541076183319092 seconds, consider setting Text2TextProblem.max_subtoken_length to a smaller value.\n"
     ]
    },
    {
     "name": "stderr",
     "output_type": "stream",
     "text": [
      "INFO:tensorflow:Processing token [CornwalltuningisMPFNoterattack] took 0.8541076183319092 seconds, consider setting Text2TextProblem.max_subtoken_length to a smaller value.\n"
     ]
    },
    {
     "name": "stdout",
     "output_type": "stream",
     "text": [
      "INFO:tensorflow:vocab_size = 36188\n"
     ]
    },
    {
     "name": "stderr",
     "output_type": "stream",
     "text": [
      "INFO:tensorflow:vocab_size = 36188\n"
     ]
    },
    {
     "name": "stdout",
     "output_type": "stream",
     "text": [
      "INFO:tensorflow:Iteration 3\n"
     ]
    },
    {
     "name": "stderr",
     "output_type": "stream",
     "text": [
      "INFO:tensorflow:Iteration 3\n"
     ]
    },
    {
     "name": "stdout",
     "output_type": "stream",
     "text": [
      "INFO:tensorflow:Processing token [WajahNFDPria] took 0.1127159595489502 seconds, consider setting Text2TextProblem.max_subtoken_length to a smaller value.\n"
     ]
    },
    {
     "name": "stderr",
     "output_type": "stream",
     "text": [
      "INFO:tensorflow:Processing token [WajahNFDPria] took 0.1127159595489502 seconds, consider setting Text2TextProblem.max_subtoken_length to a smaller value.\n"
     ]
    },
    {
     "name": "stdout",
     "output_type": "stream",
     "text": [
      "INFO:tensorflow:Processing token [MuaraSpacecofrekuensitemurunPertemuan] took 0.4379303455352783 seconds, consider setting Text2TextProblem.max_subtoken_length to a smaller value.\n"
     ]
    },
    {
     "name": "stderr",
     "output_type": "stream",
     "text": [
      "INFO:tensorflow:Processing token [MuaraSpacecofrekuensitemurunPertemuan] took 0.4379303455352783 seconds, consider setting Text2TextProblem.max_subtoken_length to a smaller value.\n"
     ]
    },
    {
     "name": "stdout",
     "output_type": "stream",
     "text": [
      "INFO:tensorflow:Processing token [letsbengkung] took 0.9232974052429199 seconds, consider setting Text2TextProblem.max_subtoken_length to a smaller value.\n"
     ]
    },
    {
     "name": "stderr",
     "output_type": "stream",
     "text": [
      "INFO:tensorflow:Processing token [letsbengkung] took 0.9232974052429199 seconds, consider setting Text2TextProblem.max_subtoken_length to a smaller value.\n"
     ]
    },
    {
     "name": "stdout",
     "output_type": "stream",
     "text": [
      "INFO:tensorflow:vocab_size = 36135\n"
     ]
    },
    {
     "name": "stderr",
     "output_type": "stream",
     "text": [
      "INFO:tensorflow:vocab_size = 36135\n"
     ]
    },
    {
     "name": "stdout",
     "output_type": "stream",
     "text": [
      "INFO:tensorflow:Trying min_count 993\n"
     ]
    },
    {
     "name": "stderr",
     "output_type": "stream",
     "text": [
      "INFO:tensorflow:Trying min_count 993\n"
     ]
    },
    {
     "name": "stdout",
     "output_type": "stream",
     "text": [
      "INFO:tensorflow:Iteration 0\n"
     ]
    },
    {
     "name": "stderr",
     "output_type": "stream",
     "text": [
      "INFO:tensorflow:Iteration 0\n"
     ]
    },
    {
     "name": "stdout",
     "output_type": "stream",
     "text": [
      "INFO:tensorflow:Processing token [MenurutMenurutMenurutMenurutMenurutMenurutMenurutMenurutMenurutMenurutMenurutMenurutMenurutMenurutMenurutMenurutMenurutMenurutMenurutMenurutMenurutMenurutMenurutMenurutMenurutMenurutMenurutMenurutMenurutMenurutMenurutMenurutMenurutMenurutMenurutMenurutMenurutMenurutMenurutMenurutMenurutMenurutMenurutMenurutMenurutMenurutMenurutMenurutMenurutMenurutMenurutMenurutMenurutMenurutMenurutMenurutMenurutMenurutMenurutMenurutMenurutMenurutMenurutMenurutMenurutMenurutMenurutMenurutMenurutMenurutMenurutMenurutMenurutMenurutMenurutMenurutMenurutMenurutMenurutMenurutMenurutMenurutMenurutMenurutMenurutMenurutMenurutMenurutMenurutMenurutMenurutMenurutMenurutMenurutMenurutMenurutMenurutMenurutMenurutMenurutMenurutMenurutMenurutMenurutMenurutMenurutMenurutMenurutMenurutMenurutMenurutMenurutMenurutMenurutMenurutMenurutMenurutMenurutMenurutMenurutMenurutMenurutMenurutMenurutMenurutMenurutMenurutMenurutMenurutMenurutMenurutMenurutMenurutMenurutMenurutMenurutMenurutMenurutMenurutMenurutMenurutMenurutMenurutMenurutMenurutMenurutMenurutMenurutMenurutMenurutMenurutMenurutMenurutMenurutMenurutMenurutMenurutMenurutMenurutMenurutMenurutMenurutMenurutMenurutMenurutMenurutMenurutMenurutMenurutMenurutMenurutMenurutMenurutMenurutMenurutMenurutMenurutMenurutMenurutMenurutMenurutMenurutMenurutMenurutMenurutMenurutMenurutMenurutMenurutMenurutMenurutMenurutMenurutMenurutMenurutMenurutMenurutMenurutMenurutMenurutMenurutMenurutMenurutMenurutMenurutMenurutMenurutMenurutMenurutMenurutMenurutMenurutMenurutMenurutMenurutMenurutMenurutMenurutMenurutMenurutMenurutMenurutMenurutMenurutMenurutMenurutMenurutMenurutMenurutMenurutMenurutMenurutMenurutMenurutMenurutMenurutMenurutMenurutMenurutMenurutMenurutMenurutMenurutMenurutMenurutMenurutMenurutMenurutMenurutMenurutMenurutMenurutMenurutMenurutMenurutMenurutMenurutMenurutMenurutMenurutMenurutMenurutMenurutMenurutMenurutMenurutMenurutMenurutMenurutMenurutMenurutMenurutMenurutMenurutMenurutMenurutMenurutMenurutMenurutMenurutMenurutMenurutMenurutMenurutMenurutMenurutMenurutMenurutMenurutMenurutMenurutMenurutMenurutMenurutMenurutMenurutMenurutMenurutMenurutMenurutMenurutMenurutMenurutMenurutMenurutMenurutMenurutMenurutMenurutMenurutMenurutMenurutMenurutMenurutMenurutMenurutMenurutMenurutMenurutMenurutMenurutMenurutMenurutMenurutMenurutMenurutMenurutMenurutMenurutMenurutMenurutMenurutMenurutMenurutMenurutMenurutMenurutMenurutMenurutMenurutMenurutMenurutMenurutMenurutMenurutMenurutMenurutMenurutMenurutMenurutMenurutMenurutMenurutMenurutMenurutMenurutMenurutMenurutMenurutMenurutMenurutMenurutMenurutMenurutMenurutMenurutMenurutMenurutMenurutMenurutMenurutMenurutMenurutMenurutMenurutMenurutMenurutMenurutMenurutMenurutMenurutMenurutMenurutMenurutMenurutMenurutMenurutMenurutMenurutMenurutMenurutMenurutMenurutMenurutMenurutMenurutMenurutMenurutMenurutMenurutMenurutMenurutMenurutMenurutMenurutMenurutMenurutMenurutMenurutMenurutMenurutMenurutMenurutMenurutMenurutMenurutMenurutMenurutMenurutMenurutMenurutMenurutMenurutMenurutMenurutMenurutMenurutMenurutMenurutMenurutMenurutMenurutMenurutMenurutMenurutMenurutMenurutMenurutMenurutMenurutMenurutMenurutMenurutMenurutMenurutMenurutMenurutMenurutMenurutMenurutMenurutMenurutMenurutMenurutMenurutMenurutMenurutMenurutMenurutMenurutMenurutMenurutMenurutMenurutMenurutMenurutMenurutMenurutMenurutMenurutMenurutMenurutMenurutMenurutMenurutMenurutMenurutMenurutMenurutMenurutMenurutMenurutMenurutMenurutMenurutMenurutMenurutMenurutMenurutMenurutMenurutMenurutMenurutMenurutMenurutMenurutMenurutMenurutMenurutMenurutMenurutMenurutMenurutMenurutMenurutMenurutMenurutMenurutMenurutMenurutMenurutMenurutMenurutMenurutMenurutMenurutMenurutMenurutMenurutMenurutMenurutMenurutMenurutMenurutMenurutMenurutMenurutMenurutMenurutMenurutMenurutMenurutMenurutMenurutMenurutMenurutMenurutMenurutMenurut] took 0.45687007904052734 seconds, consider setting Text2TextProblem.max_subtoken_length to a smaller value.\n"
     ]
    },
    {
     "name": "stderr",
     "output_type": "stream",
     "text": [
      "INFO:tensorflow:Processing token [MenurutMenurutMenurutMenurutMenurutMenurutMenurutMenurutMenurutMenurutMenurutMenurutMenurutMenurutMenurutMenurutMenurutMenurutMenurutMenurutMenurutMenurutMenurutMenurutMenurutMenurutMenurutMenurutMenurutMenurutMenurutMenurutMenurutMenurutMenurutMenurutMenurutMenurutMenurutMenurutMenurutMenurutMenurutMenurutMenurutMenurutMenurutMenurutMenurutMenurutMenurutMenurutMenurutMenurutMenurutMenurutMenurutMenurutMenurutMenurutMenurutMenurutMenurutMenurutMenurutMenurutMenurutMenurutMenurutMenurutMenurutMenurutMenurutMenurutMenurutMenurutMenurutMenurutMenurutMenurutMenurutMenurutMenurutMenurutMenurutMenurutMenurutMenurutMenurutMenurutMenurutMenurutMenurutMenurutMenurutMenurutMenurutMenurutMenurutMenurutMenurutMenurutMenurutMenurutMenurutMenurutMenurutMenurutMenurutMenurutMenurutMenurutMenurutMenurutMenurutMenurutMenurutMenurutMenurutMenurutMenurutMenurutMenurutMenurutMenurutMenurutMenurutMenurutMenurutMenurutMenurutMenurutMenurutMenurutMenurutMenurutMenurutMenurutMenurutMenurutMenurutMenurutMenurutMenurutMenurutMenurutMenurutMenurutMenurutMenurutMenurutMenurutMenurutMenurutMenurutMenurutMenurutMenurutMenurutMenurutMenurutMenurutMenurutMenurutMenurutMenurutMenurutMenurutMenurutMenurutMenurutMenurutMenurutMenurutMenurutMenurutMenurutMenurutMenurutMenurutMenurutMenurutMenurutMenurutMenurutMenurutMenurutMenurutMenurutMenurutMenurutMenurutMenurutMenurutMenurutMenurutMenurutMenurutMenurutMenurutMenurutMenurutMenurutMenurutMenurutMenurutMenurutMenurutMenurutMenurutMenurutMenurutMenurutMenurutMenurutMenurutMenurutMenurutMenurutMenurutMenurutMenurutMenurutMenurutMenurutMenurutMenurutMenurutMenurutMenurutMenurutMenurutMenurutMenurutMenurutMenurutMenurutMenurutMenurutMenurutMenurutMenurutMenurutMenurutMenurutMenurutMenurutMenurutMenurutMenurutMenurutMenurutMenurutMenurutMenurutMenurutMenurutMenurutMenurutMenurutMenurutMenurutMenurutMenurutMenurutMenurutMenurutMenurutMenurutMenurutMenurutMenurutMenurutMenurutMenurutMenurutMenurutMenurutMenurutMenurutMenurutMenurutMenurutMenurutMenurutMenurutMenurutMenurutMenurutMenurutMenurutMenurutMenurutMenurutMenurutMenurutMenurutMenurutMenurutMenurutMenurutMenurutMenurutMenurutMenurutMenurutMenurutMenurutMenurutMenurutMenurutMenurutMenurutMenurutMenurutMenurutMenurutMenurutMenurutMenurutMenurutMenurutMenurutMenurutMenurutMenurutMenurutMenurutMenurutMenurutMenurutMenurutMenurutMenurutMenurutMenurutMenurutMenurutMenurutMenurutMenurutMenurutMenurutMenurutMenurutMenurutMenurutMenurutMenurutMenurutMenurutMenurutMenurutMenurutMenurutMenurutMenurutMenurutMenurutMenurutMenurutMenurutMenurutMenurutMenurutMenurutMenurutMenurutMenurutMenurutMenurutMenurutMenurutMenurutMenurutMenurutMenurutMenurutMenurutMenurutMenurutMenurutMenurutMenurutMenurutMenurutMenurutMenurutMenurutMenurutMenurutMenurutMenurutMenurutMenurutMenurutMenurutMenurutMenurutMenurutMenurutMenurutMenurutMenurutMenurutMenurutMenurutMenurutMenurutMenurutMenurutMenurutMenurutMenurutMenurutMenurutMenurutMenurutMenurutMenurutMenurutMenurutMenurutMenurutMenurutMenurutMenurutMenurutMenurutMenurutMenurutMenurutMenurutMenurutMenurutMenurutMenurutMenurutMenurutMenurutMenurutMenurutMenurutMenurutMenurutMenurutMenurutMenurutMenurutMenurutMenurutMenurutMenurutMenurutMenurutMenurutMenurutMenurutMenurutMenurutMenurutMenurutMenurutMenurutMenurutMenurutMenurutMenurutMenurutMenurutMenurutMenurutMenurutMenurutMenurutMenurutMenurutMenurutMenurutMenurutMenurutMenurutMenurutMenurutMenurutMenurutMenurutMenurutMenurutMenurutMenurutMenurutMenurutMenurutMenurutMenurutMenurutMenurutMenurutMenurutMenurutMenurutMenurutMenurutMenurutMenurutMenurutMenurutMenurutMenurutMenurutMenurutMenurutMenurutMenurutMenurutMenurutMenurutMenurutMenurutMenurutMenurutMenurutMenurutMenurutMenurutMenurutMenurutMenurutMenurutMenurutMenurutMenurutMenurutMenurutMenurutMenurutMenurutMenurut] took 0.45687007904052734 seconds, consider setting Text2TextProblem.max_subtoken_length to a smaller value.\n"
     ]
    },
    {
     "name": "stdout",
     "output_type": "stream",
     "text": [
      "INFO:tensorflow:Processing token [Summitmitmitmitmitmitmitmitmitmitmitmitmitmitmitmitmitmitmitmitmitmitmitmitmitmitmitmitmitmitmitmitmitmitmitmitmitmitmitmitmitmitmitmitmitmitmitmitmitmitmitmitmitmitmitmitmitmitmitmitmitmitmitmitmitmitmitmitmitmitmitmitmitmitmitmitmitmitmitmitmitmitmitmitmitmitmitmitmitmitmitmitmitmitmitmitmitmitmitmitmitmitmitmitmitmitmitmitmitmitmitmitmitmitmitmitmitmitmitmitmitmitmitmitmitmitmitmitmitmitmitmitmitmitmitmitmitmitmitmitmitmitmitmitmitmitmitmitmitmitmitmitmitmitmitmitmitmitmitmitmitmitmitmitmitmitmitmitmitmitmitmitmitmitmitmitmitmitmitmitmitmitmitmitmitmitmitmitmitmitmitmitmitmitmitmitmitmitmitmitmitmitmitmitmitmitmitmitmitmitmitmitmitmitmitmitmitmitmitmitmitmitmitmitmitmitmitmitmitmitmitmitmitmitmitmitmitmitmitmitmitmitmitmitmitmitmitmitmitmitmitmitmitmitmitmitmitmitmitmitmitmitmitmitmitmitmitmitmitmitmitmitmitmitmitmitmitmitmitmitmitmitmitmitmitmitmitmitmitmitmitmitmitmitmitmitmitmitmitmitmitmitmitmitmitmitmitmitmitmitmitmitmitmitmitmitmitmitmitmitmitmitmitmitmitmitmitmitmitmitmitmitmitmitmitmitmitmitmitmitmitmitmitmitmitmitmitmitmitmitmitmitmitmitmitmitmitmitmitmitmitmitmitmitmitmitmitmitmitmitmitmitmitmitmitmitmitmitmitmitmitmitmitmitmitmitmitmitmitmitmitmitmitmitmitmitmitmitmitmitmitmitmitmitmitmitmitmitmitmitmitmitmitmitmitmitmitmitmitmitmitmitmitmitmitmitmitmitmitmitmitmitmitmitmitmitmitmitmitmitmitmitmitmitmitmitmitmitmitmitmitmitmitmitmitmitmitmitmitmitmitmitmitmitmitmitmitmitmitmitmitmitmitmitmitmitmitmitmitmitmitmitmitmitmitmitmitmitmitmitmitmitmitmitmitmitmitmitmitmitmitmitmitmitmitmitmitmitmitmitmitmitmitmitmitmitmitmitmitmitmitmitmitmitmitmitmitmitmitmitmitmitmitmitmitmitmitmitmitmitmitmitmitmitmitmitmitmitmitmitmitmitmitmitmitmitmitmitmitmitmitmitmitmitmitmitmitmitmitmitmitmitmitmitmitmitmitmitmitmitmitmitmitmitmitmitmitmitmitmitmitmitmitmitmitmitmitmitmitmitmitmitmitmitmitmitmitmitmitmitmitmitmitmitmitmitmitmitmitmitmitmitmitmitmitmitmitmitmitmitmitmitmitmitmitmitmitmitmitmitmitmitmitmitmitmitmitmitmitmitmitmitmitmitmitmitmitmitmitmitmitmitmitmitmitmitmitmitmitmitmitmitmitmitmitmitmitmitmitmitmitmitmitmitmitmitmitmitmitmitmitmitmitmitmitmitmitmitmitmitmitmitmitmitmitmitmitmitmitmitmitmitmitmitmitmitmitmitmitmitmitmitmitmitmitmitmitmitmitmitmitmitmitmitmit] took 0.1639707088470459 seconds, consider setting Text2TextProblem.max_subtoken_length to a smaller value.\n"
     ]
    },
    {
     "name": "stderr",
     "output_type": "stream",
     "text": [
      "INFO:tensorflow:Processing token [Summitmitmitmitmitmitmitmitmitmitmitmitmitmitmitmitmitmitmitmitmitmitmitmitmitmitmitmitmitmitmitmitmitmitmitmitmitmitmitmitmitmitmitmitmitmitmitmitmitmitmitmitmitmitmitmitmitmitmitmitmitmitmitmitmitmitmitmitmitmitmitmitmitmitmitmitmitmitmitmitmitmitmitmitmitmitmitmitmitmitmitmitmitmitmitmitmitmitmitmitmitmitmitmitmitmitmitmitmitmitmitmitmitmitmitmitmitmitmitmitmitmitmitmitmitmitmitmitmitmitmitmitmitmitmitmitmitmitmitmitmitmitmitmitmitmitmitmitmitmitmitmitmitmitmitmitmitmitmitmitmitmitmitmitmitmitmitmitmitmitmitmitmitmitmitmitmitmitmitmitmitmitmitmitmitmitmitmitmitmitmitmitmitmitmitmitmitmitmitmitmitmitmitmitmitmitmitmitmitmitmitmitmitmitmitmitmitmitmitmitmitmitmitmitmitmitmitmitmitmitmitmitmitmitmitmitmitmitmitmitmitmitmitmitmitmitmitmitmitmitmitmitmitmitmitmitmitmitmitmitmitmitmitmitmitmitmitmitmitmitmitmitmitmitmitmitmitmitmitmitmitmitmitmitmitmitmitmitmitmitmitmitmitmitmitmitmitmitmitmitmitmitmitmitmitmitmitmitmitmitmitmitmitmitmitmitmitmitmitmitmitmitmitmitmitmitmitmitmitmitmitmitmitmitmitmitmitmitmitmitmitmitmitmitmitmitmitmitmitmitmitmitmitmitmitmitmitmitmitmitmitmitmitmitmitmitmitmitmitmitmitmitmitmitmitmitmitmitmitmitmitmitmitmitmitmitmitmitmitmitmitmitmitmitmitmitmitmitmitmitmitmitmitmitmitmitmitmitmitmitmitmitmitmitmitmitmitmitmitmitmitmitmitmitmitmitmitmitmitmitmitmitmitmitmitmitmitmitmitmitmitmitmitmitmitmitmitmitmitmitmitmitmitmitmitmitmitmitmitmitmitmitmitmitmitmitmitmitmitmitmitmitmitmitmitmitmitmitmitmitmitmitmitmitmitmitmitmitmitmitmitmitmitmitmitmitmitmitmitmitmitmitmitmitmitmitmitmitmitmitmitmitmitmitmitmitmitmitmitmitmitmitmitmitmitmitmitmitmitmitmitmitmitmitmitmitmitmitmitmitmitmitmitmitmitmitmitmitmitmitmitmitmitmitmitmitmitmitmitmitmitmitmitmitmitmitmitmitmitmitmitmitmitmitmitmitmitmitmitmitmitmitmitmitmitmitmitmitmitmitmitmitmitmitmitmitmitmitmitmitmitmitmitmitmitmitmitmitmitmitmitmitmitmitmitmitmitmitmitmitmitmitmitmitmitmitmitmitmitmitmitmitmitmitmitmitmitmitmitmitmitmitmitmitmitmitmitmitmitmitmitmitmitmitmitmitmitmitmitmitmitmitmitmitmitmitmitmitmitmitmitmitmitmitmitmitmitmitmitmitmitmitmitmitmitmitmitmitmitmitmitmitmitmitmitmitmitmitmitmitmitmitmitmitmitmitmitmitmitmitmitmitmitmitmitmitmitmitmitmitmitmitmitmitmitmitmitmitmitmitmitmitmitmitmit] took 0.1639707088470459 seconds, consider setting Text2TextProblem.max_subtoken_length to a smaller value.\n"
     ]
    },
    {
     "name": "stdout",
     "output_type": "stream",
     "text": [
      "INFO:tensorflow:Processing token [lalufrekuensinciPertemuan] took 0.22238373756408691 seconds, consider setting Text2TextProblem.max_subtoken_length to a smaller value.\n"
     ]
    },
    {
     "name": "stderr",
     "output_type": "stream",
     "text": [
      "INFO:tensorflow:Processing token [lalufrekuensinciPertemuan] took 0.22238373756408691 seconds, consider setting Text2TextProblem.max_subtoken_length to a smaller value.\n"
     ]
    },
    {
     "name": "stdout",
     "output_type": "stream",
     "text": [
      "INFO:tensorflow:Processing token [ditaksirkerja] took 0.44220471382141113 seconds, consider setting Text2TextProblem.max_subtoken_length to a smaller value.\n"
     ]
    },
    {
     "name": "stderr",
     "output_type": "stream",
     "text": [
      "INFO:tensorflow:Processing token [ditaksirkerja] took 0.44220471382141113 seconds, consider setting Text2TextProblem.max_subtoken_length to a smaller value.\n"
     ]
    },
    {
     "name": "stdout",
     "output_type": "stream",
     "text": [
      "INFO:tensorflow:Processing token [percikanchoic] took 0.8964593410491943 seconds, consider setting Text2TextProblem.max_subtoken_length to a smaller value.\n"
     ]
    },
    {
     "name": "stderr",
     "output_type": "stream",
     "text": [
      "INFO:tensorflow:Processing token [percikanchoic] took 0.8964593410491943 seconds, consider setting Text2TextProblem.max_subtoken_length to a smaller value.\n"
     ]
    },
    {
     "name": "stdout",
     "output_type": "stream",
     "text": [
      "INFO:tensorflow:Processing token [pemimpinPertemuanpemimpin] took 1.9227824211120605 seconds, consider setting Text2TextProblem.max_subtoken_length to a smaller value.\n"
     ]
    },
    {
     "name": "stderr",
     "output_type": "stream",
     "text": [
      "INFO:tensorflow:Processing token [pemimpinPertemuanpemimpin] took 1.9227824211120605 seconds, consider setting Text2TextProblem.max_subtoken_length to a smaller value.\n"
     ]
    },
    {
     "name": "stdout",
     "output_type": "stream",
     "text": [
      "INFO:tensorflow:Processing token [metaforforforforforforforforforforforforforforforforforforforforforforforforforforforforforforforforforforforforforforforforforforforforforforforforforforforforforforforforforforforforforforforforforforforforforforforforforforforforforforforforforforforforforforforforforforforforforforforforforforforforforforforforforforforforforforforforforforforforforforforforforforforforforforforforforforforforforforforforforforforforforforforforforforforforforforforforforforforforforforforforforforforforforforforforforforforforforforforforforforforforforforforforforforforforforforforforforforforforforforforforforforforforforforforforforforforforforforforforforforforforforforforforforforforforforforforforforforforforforforforforforforforforforforforforforforforforforforforforforforforforforforforforforforforforforforforforforforforforforforforforforforforforforforforforforforforforforforforforforforforforforforforforforforforforforforforforforforforforforforforforforforforforforforforforforforforforforforforforforforforforforforforforforforforforforforforforforforforforforforforforforforforforforforforforforforforforforforforforforforforforforforforforforforforforforforforforforforforforforforforforforforforforforforforforforforforforforforforforforforforfor] took 0.10120701789855957 seconds, consider setting Text2TextProblem.max_subtoken_length to a smaller value.\n"
     ]
    },
    {
     "name": "stderr",
     "output_type": "stream",
     "text": [
      "INFO:tensorflow:Processing token [metaforforforforforforforforforforforforforforforforforforforforforforforforforforforforforforforforforforforforforforforforforforforforforforforforforforforforforforforforforforforforforforforforforforforforforforforforforforforforforforforforforforforforforforforforforforforforforforforforforforforforforforforforforforforforforforforforforforforforforforforforforforforforforforforforforforforforforforforforforforforforforforforforforforforforforforforforforforforforforforforforforforforforforforforforforforforforforforforforforforforforforforforforforforforforforforforforforforforforforforforforforforforforforforforforforforforforforforforforforforforforforforforforforforforforforforforforforforforforforforforforforforforforforforforforforforforforforforforforforforforforforforforforforforforforforforforforforforforforforforforforforforforforforforforforforforforforforforforforforforforforforforforforforforforforforforforforforforforforforforforforforforforforforforforforforforforforforforforforforforforforforforforforforforforforforforforforforforforforforforforforforforforforforforforforforforforforforforforforforforforforforforforforforforforforforforforforforforforforforforforforforforforforforforforforforforforforforforforforforforforfor] took 0.10120701789855957 seconds, consider setting Text2TextProblem.max_subtoken_length to a smaller value.\n"
     ]
    },
    {
     "name": "stdout",
     "output_type": "stream",
     "text": [
      "INFO:tensorflow:Processing token [sekseksekseksekseksekseksekseksekseksekseksekseksekseksekseksekseksekseksekseksekseksekseksekseksekseksekseksekseksekseksekseksekseksekseksekseksekseksekseksekseksekseksekseksekseksekseksekseksekseksekseksekseksekseksekseksekseksekseksekseksekseksekseksekseksekseksekseksekseksekseksekseksekseksekseksekseksekseksekseksekseksekseksekseksekseksekseksekseksekseksekseksekseksekseksekseksekseksekseksekseksekseksekseksekseksekseksekseksekseksekseksekseksekseksekseksekseksekseksekseksekseksekseksekseksekseksekseksekseksekseksekseksekseksekseksekseksekseksekseksekseksekseksekseksekseksekseksekseksekseksekseksekseksekseksekseksekseksekseksekseksekseksekseksekseksekseksekseksekseksekseksekseksekseksekseksekseksekseksekseksekseksekseksekseksekseksekseksekseksekseksekseksekseksekseksekseksekseksekseksekseksekseksekseksekseksekseksekseksekseksekseksekseksekseksekseksekseksekseksekseksekseksekseksekseksekseksekseksekseksekseksekseksekseksekseksekseksekseksekseksekseksekseksekseksekseksekseksekseksekseksekseksekseksekseksekseksekseksekseksekseksekseksekseksekseksekseksekseksekseksekseksekseksekseksekseksekseksekseksekseksekseksekseksekseksekseksekseksekseksekseksekseksekseksekseksekseksekseksekseksekseksekseksekseksekseksekseksekseksekseksekseksekseksekseksekseksekseksekseksekseksekseksekseksekseksekseksekseksekseksekseksekseksekseksekseksekseksekseksekseksekseksekseksekseksekseksekseksekseksekseksekseksekseksekseksekseksekseksekseksekseksekseksekseksekseksekseksekseksekseksekseksekseksekseksekseksekseksekseksekseksekseksekseksekseksekseksekseksekseksekseksekseksekseksekseksekseksekseksekseksekseksekseksekseksekseksekseksekseksekseksekseksekseksekseksekseksekseksekseksekseksekseksekseksekseksekseksekseksekseksekseksekseksekseksekseksekseksekseksekseksekseksekseksekseksekseksekseksekseksekseksekseksekseksekseksekseksekseksekseksekseksekseksekseksekseksekseksekseksekseksekseksekseksekseksekseksekseksekseksekseksekseksekseksekseksekseksekseksekseksekseksekseksekseksekseksekseksekseksekseksekseksekseksekseksekseksekseksekseksekseksekseksekseksekseksekseksekseksekseksekseksekseksekseksekseksekseks] took 0.19239306449890137 seconds, consider setting Text2TextProblem.max_subtoken_length to a smaller value.\n"
     ]
    },
    {
     "name": "stderr",
     "output_type": "stream",
     "text": [
      "INFO:tensorflow:Processing token [sekseksekseksekseksekseksekseksekseksekseksekseksekseksekseksekseksekseksekseksekseksekseksekseksekseksekseksekseksekseksekseksekseksekseksekseksekseksekseksekseksekseksekseksekseksekseksekseksekseksekseksekseksekseksekseksekseksekseksekseksekseksekseksekseksekseksekseksekseksekseksekseksekseksekseksekseksekseksekseksekseksekseksekseksekseksekseksekseksekseksekseksekseksekseksekseksekseksekseksekseksekseksekseksekseksekseksekseksekseksekseksekseksekseksekseksekseksekseksekseksekseksekseksekseksekseksekseksekseksekseksekseksekseksekseksekseksekseksekseksekseksekseksekseksekseksekseksekseksekseksekseksekseksekseksekseksekseksekseksekseksekseksekseksekseksekseksekseksekseksekseksekseksekseksekseksekseksekseksekseksekseksekseksekseksekseksekseksekseksekseksekseksekseksekseksekseksekseksekseksekseksekseksekseksekseksekseksekseksekseksekseksekseksekseksekseksekseksekseksekseksekseksekseksekseksekseksekseksekseksekseksekseksekseksekseksekseksekseksekseksekseksekseksekseksekseksekseksekseksekseksekseksekseksekseksekseksekseksekseksekseksekseksekseksekseksekseksekseksekseksekseksekseksekseksekseksekseksekseksekseksekseksekseksekseksekseksekseksekseksekseksekseksekseksekseksekseksekseksekseksekseksekseksekseksekseksekseksekseksekseksekseksekseksekseksekseksekseksekseksekseksekseksekseksekseksekseksekseksekseksekseksekseksekseksekseksekseksekseksekseksekseksekseksekseksekseksekseksekseksekseksekseksekseksekseksekseksekseksekseksekseksekseksekseksekseksekseksekseksekseksekseksekseksekseksekseksekseksekseksekseksekseksekseksekseksekseksekseksekseksekseksekseksekseksekseksekseksekseksekseksekseksekseksekseksekseksekseksekseksekseksekseksekseksekseksekseksekseksekseksekseksekseksekseksekseksekseksekseksekseksekseksekseksekseksekseksekseksekseksekseksekseksekseksekseksekseksekseksekseksekseksekseksekseksekseksekseksekseksekseksekseksekseksekseksekseksekseksekseksekseksekseksekseksekseksekseksekseksekseksekseksekseksekseksekseksekseksekseksekseksekseksekseksekseksekseksekseksekseksekseksekseksekseksekseksekseksekseksekseksekseksekseksekseksekseksekseksekseksekseksekseksekseksekseksekseksekseks] took 0.19239306449890137 seconds, consider setting Text2TextProblem.max_subtoken_length to a smaller value.\n"
     ]
    },
    {
     "name": "stdout",
     "output_type": "stream",
     "text": [
      "INFO:tensorflow:Processing token [MenurutMenurutMenurutMenurutMenurutMenurutMenurutMenurutMenurutMenurutMenurutMenurutMenurutMenurutMenurutMenurutMenurutMenurutMenurutMenurutMenurutMenurutMenurutMenurutMenurutMenurutMenurutMenurutMenurutMenurutMenurutMenurutMenurutMenurutMenurutMenurutMenurutMenurutMenurutMenurutMenurutMenurutMenurutMenurutMenurutMenurutMenurutMenurutMenurutMenurutMenurutMenurutMenurutMenurutMenurutMenurutMenurutMenurutMenurutMenurutMenurutMenurutMenurutMenurutMenurutMenurutMenurutMenurutMenurutMenurutMenurutMenurutMenurutMenurutMenurutMenurutMenurutMenurutMenurutMenurutMenurutMenurutMenurutMenurutMenurutMenurutMenurutMenurutMenurutMenurutMenurutMenurutMenurutMenurutMenurutMenurutMenurutMenurutMenurutMenurutMenurutMenurutMenurutMenurutMenurutMenurutMenurutMenurutMenurutMenurutMenurutMenurutMenurutMenurutMenurutMenurutMenurutMenurutMenurutMenurutMenurutMenurutMenurutMenurutMenurutMenurutMenurutMenurutMenurutMenurutMenurutMenurutMenurutMenurutMenurutMenurutMenurutMenurutMenurutMenurutMenurutMenurutMenurutMenurutMenurutMenurutMenurutMenurutMenurutMenurutMenurutMenurutMenurutMenurutMenurutMenurutMenurutMenurutMenurutMenurutMenurutMenurutMenurutMenurutMenurutMenurutMenurutMenurutMenurutMenurutMenurutMenurutMenurutMenurutMenurutMenurutMenurutMenurutMenurutMenurutMenurutMenurutMenurutMenurutMenurutMenurutMenurutMenurutMenurutMenurutMenurutMenurutMenurutMenurutMenurutMenurutMenurutMenurutMenurutMenurutMenurutMenurutMenurutMenurutMenurutMenurutMenurutMenurutMenurutMenurutMenurutMenurutMenurutMenurutMenurutMenurutMenurutMenurutMenurutMenurutMenurutMenurutMenurutMenurutMenurutMenurutMenurutMenurutMenurutMenurutMenurutMenurutMenurutMenurutMenurutMenurutMenurutMenurutMenurutMenurutMenurutMenurutMenurutMenurutMenurutMenurutMenurutMenurutMenurutMenurutMenurutMenurutMenurutMenurutMenurutMenurutMenurutMenurutMenurutMenurutMenurutMenurutMenurutMenurutMenurutMenurutMenurutMenurutMenurutMenurutMenurutMenurutMenurutMenurutMenurutMenurutMenurutMenurutMenurutMenurutMenurutMenurutMenurutMenurutMenurutMenurutMenurutMenurutMenurutMenurutMenurutMenurutMenurutMenurutMenurutMenurutMenurutMenurutMenurutMenurutMenurutMenurutMenurutMenurutMenurutMenurutMenurutMenurutMenurutMenurutMenurutMenurutMenurutMenurutMenurutMenurutMenurutMenurutMenurutMenurutMenurutMenurutMenurutMenurutMenurutMenurutMenurutMenurutMenurutMenurutMenurutMenurutMenurutMenurutMenurutMenurutMenurutMenurutMenurutMenurutMenurutMenurutMenurutMenurutMenurutMenurutMenurutMenurutMenurutMenurutMenurutMenurutMenurutMenurutMenurutMenurutMenurutMenurutMenurutMenurutMenurutMenurutMenurutMenurutMenurutMenurutMenurutMenurutMenurutMenurutMenurutMenurutMenurutMenurutMenurutMenurutMenurutMenurutMenurutMenurutMenurutMenurutMenurutMenurutMenurutMenurutMenurutMenurutMenurutMenurutMenurutMenurutMenurutMenurutMenurutMenurutMenurutMenurutMenurutMenurutMenurutMenurutMenurutMenurutMenurutMenurutMenurutMenurutMenurutMenurutMenurutMenurutMenurutMenurutMenurutMenurutMenurutMenurutMenurutMenurutMenurutMenurutMenurutMenurutMenurutMenurutMenurutMenurutMenurutMenurutMenurutMenurutMenurutMenurutMenurutMenurutMenurutMenurutMenurutMenurutMenurutMenurutMenurutMenurutMenurutMenurutMenurutMenurutMenurutMenurutMenurutMenurutMenurutMenurutMenurutMenurutMenurutMenurutMenurutMenurutMenurutMenurutMenurutMenurutMenurutMenurutMenurutMenurutMenurutMenurutMenurutMenurutMenurutMenurutMenurutMenurutMenurutMenurutMenurutMenurutMenurutMenurutMenurutMenurutMenurutMenurutMenurutMenurutMenurutMenurutMenurutMenurutMenurutMenurutMenurutMenurutMenurutMenurutMenurutMenurutMenurutMenurutMenurutMenurutMenurutMenurutMenurutMenurutMenurutMenurutMenurutMenurutMenurutMenurutMenurutMenurutMenurutMenurutMenurutMenurutMenurutMenurutMenurutMenurutMenurutMenurutMenurutMenurutMenurutMenurutMenurutMenurutMenurutMenurutMenurutMenurutMenurutMenurutMenurutMenurutMenurutMenurutMenurutMenurutMenurutMenurutMenurutMenurutMenurutMenurutMenurutMenurutMenurutMenurutMenurutMenurutMenurutMenurutMenurutMenurutMenurutMenurutMenurutMenurutMenurutMenurutMenurutMenurutMenurutMenurutMenurutMenurutMenurutMenurutMenurutMenurutMenurutMenurutMenurutMenurutMenurutMenurutMenurutMenurutMenurutMenurutMenurutMenurutMenurutMenurutMenurutMenurutMenurutMenurutMenurutMenurutMenurutMenurutMenurutMenurutMenurutMenurutMenurutMenurutMenurutMenurutMenurutMenurutMenurutMenurutMenurut] took 0.3831031322479248 seconds, consider setting Text2TextProblem.max_subtoken_length to a smaller value.\n"
     ]
    },
    {
     "name": "stderr",
     "output_type": "stream",
     "text": [
      "INFO:tensorflow:Processing token [MenurutMenurutMenurutMenurutMenurutMenurutMenurutMenurutMenurutMenurutMenurutMenurutMenurutMenurutMenurutMenurutMenurutMenurutMenurutMenurutMenurutMenurutMenurutMenurutMenurutMenurutMenurutMenurutMenurutMenurutMenurutMenurutMenurutMenurutMenurutMenurutMenurutMenurutMenurutMenurutMenurutMenurutMenurutMenurutMenurutMenurutMenurutMenurutMenurutMenurutMenurutMenurutMenurutMenurutMenurutMenurutMenurutMenurutMenurutMenurutMenurutMenurutMenurutMenurutMenurutMenurutMenurutMenurutMenurutMenurutMenurutMenurutMenurutMenurutMenurutMenurutMenurutMenurutMenurutMenurutMenurutMenurutMenurutMenurutMenurutMenurutMenurutMenurutMenurutMenurutMenurutMenurutMenurutMenurutMenurutMenurutMenurutMenurutMenurutMenurutMenurutMenurutMenurutMenurutMenurutMenurutMenurutMenurutMenurutMenurutMenurutMenurutMenurutMenurutMenurutMenurutMenurutMenurutMenurutMenurutMenurutMenurutMenurutMenurutMenurutMenurutMenurutMenurutMenurutMenurutMenurutMenurutMenurutMenurutMenurutMenurutMenurutMenurutMenurutMenurutMenurutMenurutMenurutMenurutMenurutMenurutMenurutMenurutMenurutMenurutMenurutMenurutMenurutMenurutMenurutMenurutMenurutMenurutMenurutMenurutMenurutMenurutMenurutMenurutMenurutMenurutMenurutMenurutMenurutMenurutMenurutMenurutMenurutMenurutMenurutMenurutMenurutMenurutMenurutMenurutMenurutMenurutMenurutMenurutMenurutMenurutMenurutMenurutMenurutMenurutMenurutMenurutMenurutMenurutMenurutMenurutMenurutMenurutMenurutMenurutMenurutMenurutMenurutMenurutMenurutMenurutMenurutMenurutMenurutMenurutMenurutMenurutMenurutMenurutMenurutMenurutMenurutMenurutMenurutMenurutMenurutMenurutMenurutMenurutMenurutMenurutMenurutMenurutMenurutMenurutMenurutMenurutMenurutMenurutMenurutMenurutMenurutMenurutMenurutMenurutMenurutMenurutMenurutMenurutMenurutMenurutMenurutMenurutMenurutMenurutMenurutMenurutMenurutMenurutMenurutMenurutMenurutMenurutMenurutMenurutMenurutMenurutMenurutMenurutMenurutMenurutMenurutMenurutMenurutMenurutMenurutMenurutMenurutMenurutMenurutMenurutMenurutMenurutMenurutMenurutMenurutMenurutMenurutMenurutMenurutMenurutMenurutMenurutMenurutMenurutMenurutMenurutMenurutMenurutMenurutMenurutMenurutMenurutMenurutMenurutMenurutMenurutMenurutMenurutMenurutMenurutMenurutMenurutMenurutMenurutMenurutMenurutMenurutMenurutMenurutMenurutMenurutMenurutMenurutMenurutMenurutMenurutMenurutMenurutMenurutMenurutMenurutMenurutMenurutMenurutMenurutMenurutMenurutMenurutMenurutMenurutMenurutMenurutMenurutMenurutMenurutMenurutMenurutMenurutMenurutMenurutMenurutMenurutMenurutMenurutMenurutMenurutMenurutMenurutMenurutMenurutMenurutMenurutMenurutMenurutMenurutMenurutMenurutMenurutMenurutMenurutMenurutMenurutMenurutMenurutMenurutMenurutMenurutMenurutMenurutMenurutMenurutMenurutMenurutMenurutMenurutMenurutMenurutMenurutMenurutMenurutMenurutMenurutMenurutMenurutMenurutMenurutMenurutMenurutMenurutMenurutMenurutMenurutMenurutMenurutMenurutMenurutMenurutMenurutMenurutMenurutMenurutMenurutMenurutMenurutMenurutMenurutMenurutMenurutMenurutMenurutMenurutMenurutMenurutMenurutMenurutMenurutMenurutMenurutMenurutMenurutMenurutMenurutMenurutMenurutMenurutMenurutMenurutMenurutMenurutMenurutMenurutMenurutMenurutMenurutMenurutMenurutMenurutMenurutMenurutMenurutMenurutMenurutMenurutMenurutMenurutMenurutMenurutMenurutMenurutMenurutMenurutMenurutMenurutMenurutMenurutMenurutMenurutMenurutMenurutMenurutMenurutMenurutMenurutMenurutMenurutMenurutMenurutMenurutMenurutMenurutMenurutMenurutMenurutMenurutMenurutMenurutMenurutMenurutMenurutMenurutMenurutMenurutMenurutMenurutMenurutMenurutMenurutMenurutMenurutMenurutMenurutMenurutMenurutMenurutMenurutMenurutMenurutMenurutMenurutMenurutMenurutMenurutMenurutMenurutMenurutMenurutMenurutMenurutMenurutMenurutMenurutMenurutMenurutMenurutMenurutMenurutMenurutMenurutMenurutMenurutMenurutMenurutMenurutMenurutMenurutMenurutMenurutMenurutMenurutMenurutMenurutMenurutMenurutMenurutMenurutMenurutMenurutMenurutMenurutMenurutMenurutMenurutMenurutMenurutMenurutMenurutMenurutMenurutMenurutMenurutMenurutMenurutMenurutMenurutMenurutMenurutMenurutMenurutMenurutMenurutMenurutMenurutMenurutMenurutMenurutMenurutMenurutMenurutMenurutMenurutMenurutMenurutMenurutMenurutMenurutMenurutMenurutMenurutMenurutMenurutMenurutMenurutMenurutMenurutMenurutMenurutMenurutMenurutMenurutMenurutMenurutMenurutMenurutMenurutMenurutMenurutMenurutMenurutMenurutMenurutMenurutMenurutMenurutMenurutMenurut] took 0.3831031322479248 seconds, consider setting Text2TextProblem.max_subtoken_length to a smaller value.\n"
     ]
    },
    {
     "name": "stdout",
     "output_type": "stream",
     "text": [
      "INFO:tensorflow:Processing token [sukayanghijau] took 3.9532904624938965 seconds, consider setting Text2TextProblem.max_subtoken_length to a smaller value.\n"
     ]
    },
    {
     "name": "stderr",
     "output_type": "stream",
     "text": [
      "INFO:tensorflow:Processing token [sukayanghijau] took 3.9532904624938965 seconds, consider setting Text2TextProblem.max_subtoken_length to a smaller value.\n"
     ]
    },
    {
     "name": "stdout",
     "output_type": "stream",
     "text": [
      "INFO:tensorflow:vocab_size = 86322\n"
     ]
    },
    {
     "name": "stderr",
     "output_type": "stream",
     "text": [
      "INFO:tensorflow:vocab_size = 86322\n"
     ]
    },
    {
     "name": "stdout",
     "output_type": "stream",
     "text": [
      "INFO:tensorflow:Iteration 1\n"
     ]
    },
    {
     "name": "stderr",
     "output_type": "stream",
     "text": [
      "INFO:tensorflow:Iteration 1\n"
     ]
    },
    {
     "name": "stdout",
     "output_type": "stream",
     "text": [
      "INFO:tensorflow:Processing token [SAfrekuensiUDAK2Pertemuan] took 0.13646388053894043 seconds, consider setting Text2TextProblem.max_subtoken_length to a smaller value.\n"
     ]
    },
    {
     "name": "stderr",
     "output_type": "stream",
     "text": [
      "INFO:tensorflow:Processing token [SAfrekuensiUDAK2Pertemuan] took 0.13646388053894043 seconds, consider setting Text2TextProblem.max_subtoken_length to a smaller value.\n"
     ]
    },
    {
     "name": "stdout",
     "output_type": "stream",
     "text": [
      "INFO:tensorflow:Processing token [foundry] took 0.4195518493652344 seconds, consider setting Text2TextProblem.max_subtoken_length to a smaller value.\n"
     ]
    },
    {
     "name": "stderr",
     "output_type": "stream",
     "text": [
      "INFO:tensorflow:Processing token [foundry] took 0.4195518493652344 seconds, consider setting Text2TextProblem.max_subtoken_length to a smaller value.\n"
     ]
    },
    {
     "name": "stdout",
     "output_type": "stream",
     "text": [
      "INFO:tensorflow:Processing token [pemerataanbaja] took 0.8764557838439941 seconds, consider setting Text2TextProblem.max_subtoken_length to a smaller value.\n"
     ]
    },
    {
     "name": "stderr",
     "output_type": "stream",
     "text": [
      "INFO:tensorflow:Processing token [pemerataanbaja] took 0.8764557838439941 seconds, consider setting Text2TextProblem.max_subtoken_length to a smaller value.\n"
     ]
    },
    {
     "name": "stdout",
     "output_type": "stream",
     "text": [
      "INFO:tensorflow:vocab_size = 35360\n"
     ]
    },
    {
     "name": "stderr",
     "output_type": "stream",
     "text": [
      "INFO:tensorflow:vocab_size = 35360\n"
     ]
    },
    {
     "name": "stdout",
     "output_type": "stream",
     "text": [
      "INFO:tensorflow:Iteration 2\n"
     ]
    },
    {
     "name": "stderr",
     "output_type": "stream",
     "text": [
      "INFO:tensorflow:Iteration 2\n"
     ]
    },
    {
     "name": "stdout",
     "output_type": "stream",
     "text": [
      "INFO:tensorflow:Processing token [DesMoinesRegi] took 0.10634303092956543 seconds, consider setting Text2TextProblem.max_subtoken_length to a smaller value.\n"
     ]
    },
    {
     "name": "stderr",
     "output_type": "stream",
     "text": [
      "INFO:tensorflow:Processing token [DesMoinesRegi] took 0.10634303092956543 seconds, consider setting Text2TextProblem.max_subtoken_length to a smaller value.\n"
     ]
    }
   ],
   "source": [
    "from tensor2tensor.utils import registry\n",
    "from tensor2tensor import problems\n",
    "\n",
    "PROBLEM = 'seq2_seq'\n",
    "t2t_problem = problems.problem(PROBLEM)\n",
    "t2t_problem.generate_data(DATA_DIR, TMP_DIR)"
   ]
  },
  {
   "cell_type": "code",
   "execution_count": null,
   "metadata": {},
   "outputs": [],
   "source": []
  }
 ],
 "metadata": {
  "kernelspec": {
   "display_name": "Python 3",
   "language": "python",
   "name": "python3"
  },
  "language_info": {
   "codemirror_mode": {
    "name": "ipython",
    "version": 3
   },
   "file_extension": ".py",
   "mimetype": "text/x-python",
   "name": "python",
   "nbconvert_exporter": "python",
   "pygments_lexer": "ipython3",
   "version": "3.6.8"
  }
 },
 "nbformat": 4,
 "nbformat_minor": 2
}
