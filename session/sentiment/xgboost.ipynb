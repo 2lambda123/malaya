{
 "cells": [
  {
   "cell_type": "code",
   "execution_count": 1,
   "metadata": {},
   "outputs": [
    {
     "name": "stderr",
     "output_type": "stream",
     "text": [
      "/usr/local/lib/python3.5/dist-packages/sklearn/cross_validation.py:41: DeprecationWarning: This module was deprecated in version 0.18 in favor of the model_selection module into which all the refactored classes and functions are moved. Also note that the interface of the new CV iterators are different from that of this module. This module will be removed in 0.20.\n",
      "  \"This module will be removed in 0.20.\", DeprecationWarning)\n"
     ]
    }
   ],
   "source": [
    "import re\n",
    "import numpy as np\n",
    "import pandas as pd\n",
    "from sklearn import metrics\n",
    "from sklearn.preprocessing import LabelEncoder\n",
    "from sklearn.cross_validation import train_test_split\n",
    "from unidecode import unidecode"
   ]
  },
  {
   "cell_type": "code",
   "execution_count": 2,
   "metadata": {},
   "outputs": [],
   "source": [
    "permulaan = [\n",
    "    'bel',\n",
    "    'se',\n",
    "    'ter',\n",
    "    'men',\n",
    "    'meng',\n",
    "    'mem',\n",
    "    'memper',\n",
    "    'di',\n",
    "    'pe',\n",
    "    'me',\n",
    "    'ke',\n",
    "    'ber',\n",
    "    'pen',\n",
    "    'per',\n",
    "]\n",
    "\n",
    "hujung = ['kan', 'kah', 'lah', 'tah', 'nya', 'an', 'wan', 'wati', 'ita']\n",
    "\n",
    "def naive_stemmer(word):\n",
    "    assert isinstance(word, str), 'input must be a string'\n",
    "    hujung_result = re.findall(r'^(.*?)(%s)$' % ('|'.join(hujung)), word)\n",
    "    word = hujung_result[0][0] if len(hujung_result) else word\n",
    "    permulaan_result = re.findall(r'^(.*?)(%s)' % ('|'.join(permulaan[::-1])), word)\n",
    "    permulaan_result.extend(re.findall(r'^(.*?)(%s)' % ('|'.join(permulaan)), word))\n",
    "    mula = permulaan_result if len(permulaan_result) else ''\n",
    "    if len(mula):\n",
    "        mula = mula[1][1] if len(mula[1][1]) > len(mula[0][1]) else mula[0][1]\n",
    "    return word.replace(mula, '')\n",
    "\n",
    "def classification_textcleaning(string):\n",
    "    string = re.sub(\n",
    "        'http\\S+|www.\\S+',\n",
    "        '',\n",
    "        ' '.join(\n",
    "            [i for i in string.split() if i.find('#') < 0 and i.find('@') < 0]\n",
    "        ),\n",
    "    )\n",
    "    string = unidecode(string).replace('.', ' . ').replace(',', ' , ')\n",
    "    string = re.sub('[^A-Za-z ]+', ' ', string)\n",
    "    string = re.sub(r'[ ]+', ' ', string).strip()\n",
    "    string = ' '.join(\n",
    "        [i for i in re.findall('[\\\\w\\']+|[;:\\-\\(\\)&.,!?\"]', string) if len(i)]\n",
    "    )\n",
    "    string = string.lower().split()\n",
    "    string = [(naive_stemmer(word), word) for word in string]\n",
    "    return (\n",
    "        ' '.join([word[0] for word in string if len(word[0]) > 1]),\n",
    "        ' '.join([word[1] for word in string if len(word[0]) > 1]),\n",
    "    )"
   ]
  },
  {
   "cell_type": "code",
   "execution_count": 3,
   "metadata": {},
   "outputs": [
    {
     "data": {
      "text/html": [
       "<div>\n",
       "<style scoped>\n",
       "    .dataframe tbody tr th:only-of-type {\n",
       "        vertical-align: middle;\n",
       "    }\n",
       "\n",
       "    .dataframe tbody tr th {\n",
       "        vertical-align: top;\n",
       "    }\n",
       "\n",
       "    .dataframe thead th {\n",
       "        text-align: right;\n",
       "    }\n",
       "</style>\n",
       "<table border=\"1\" class=\"dataframe\">\n",
       "  <thead>\n",
       "    <tr style=\"text-align: right;\">\n",
       "      <th></th>\n",
       "      <th>label</th>\n",
       "      <th>text</th>\n",
       "    </tr>\n",
       "  </thead>\n",
       "  <tbody>\n",
       "    <tr>\n",
       "      <th>0</th>\n",
       "      <td>Negative</td>\n",
       "      <td>Lebih-lebih lagi dengan  kemudahan internet da...</td>\n",
       "    </tr>\n",
       "    <tr>\n",
       "      <th>1</th>\n",
       "      <td>Positive</td>\n",
       "      <td>boleh memberi teguran kepada parti tetapi perl...</td>\n",
       "    </tr>\n",
       "    <tr>\n",
       "      <th>2</th>\n",
       "      <td>Negative</td>\n",
       "      <td>Adalah membingungkan mengapa masyarakat Cina b...</td>\n",
       "    </tr>\n",
       "    <tr>\n",
       "      <th>3</th>\n",
       "      <td>Positive</td>\n",
       "      <td>Kami menurunkan defisit daripada 6.7 peratus p...</td>\n",
       "    </tr>\n",
       "    <tr>\n",
       "      <th>4</th>\n",
       "      <td>Negative</td>\n",
       "      <td>Ini masalahnya. Bukan rakyat, tetapi sistem</td>\n",
       "    </tr>\n",
       "  </tbody>\n",
       "</table>\n",
       "</div>"
      ],
      "text/plain": [
       "      label                                               text\n",
       "0  Negative  Lebih-lebih lagi dengan  kemudahan internet da...\n",
       "1  Positive  boleh memberi teguran kepada parti tetapi perl...\n",
       "2  Negative  Adalah membingungkan mengapa masyarakat Cina b...\n",
       "3  Positive  Kami menurunkan defisit daripada 6.7 peratus p...\n",
       "4  Negative        Ini masalahnya. Bukan rakyat, tetapi sistem"
      ]
     },
     "execution_count": 3,
     "metadata": {},
     "output_type": "execute_result"
    }
   ],
   "source": [
    "df = pd.read_csv('dataset/sentiment-data-v2.csv')\n",
    "Y = LabelEncoder().fit_transform(df.label)\n",
    "df.head()"
   ]
  },
  {
   "cell_type": "code",
   "execution_count": 4,
   "metadata": {},
   "outputs": [],
   "source": [
    "with open('dataset/polarity-negative-translated.txt','r') as fopen:\n",
    "    texts = fopen.read().split('\\n')\n",
    "labels = [0] * len(texts)\n",
    "\n",
    "with open('dataset/polarity-positive-translated.txt','r') as fopen:\n",
    "    positive_texts = fopen.read().split('\\n')\n",
    "labels += [1] * len(positive_texts)\n",
    "texts += positive_texts\n",
    "texts += df.iloc[:,1].tolist()\n",
    "labels += Y.tolist()\n",
    "\n",
    "assert len(labels) == len(texts)"
   ]
  },
  {
   "cell_type": "code",
   "execution_count": 5,
   "metadata": {},
   "outputs": [],
   "source": [
    "for i in range(len(texts)):\n",
    "    texts[i] = classification_textcleaning(texts[i])[0]"
   ]
  },
  {
   "cell_type": "code",
   "execution_count": 6,
   "metadata": {},
   "outputs": [
    {
     "name": "stderr",
     "output_type": "stream",
     "text": [
      "Using TensorFlow backend.\n"
     ]
    }
   ],
   "source": [
    "from sklearn.feature_extraction.text import TfidfVectorizer\n",
    "import xgboost as xgb\n",
    "from malaya.text_functions import STOPWORDS"
   ]
  },
  {
   "cell_type": "code",
   "execution_count": 7,
   "metadata": {},
   "outputs": [
    {
     "data": {
      "text/plain": [
       "(14279, 39525)"
      ]
     },
     "execution_count": 7,
     "metadata": {},
     "output_type": "execute_result"
    }
   ],
   "source": [
    "target = LabelEncoder().fit_transform(labels)\n",
    "tfidf = TfidfVectorizer(ngram_range=(1, 3),min_df=2).fit(texts)\n",
    "vectors = tfidf.transform(texts)\n",
    "vectors.shape"
   ]
  },
  {
   "cell_type": "code",
   "execution_count": 8,
   "metadata": {},
   "outputs": [],
   "source": [
    "train_X, test_X, train_Y, test_Y = train_test_split(vectors, target, test_size = 0.2)"
   ]
  },
  {
   "cell_type": "code",
   "execution_count": 9,
   "metadata": {},
   "outputs": [
    {
     "name": "stdout",
     "output_type": "stream",
     "text": [
      "[0]\tvalidation-mlogloss:0.689475\n",
      "Will train until validation-mlogloss hasn't improved in 100 rounds.\n",
      "[5]\tvalidation-mlogloss:0.674113\n",
      "[10]\tvalidation-mlogloss:0.664839\n",
      "[15]\tvalidation-mlogloss:0.655095\n",
      "[20]\tvalidation-mlogloss:0.648783\n",
      "[25]\tvalidation-mlogloss:0.644937\n",
      "[30]\tvalidation-mlogloss:0.639983\n",
      "[35]\tvalidation-mlogloss:0.636577\n",
      "[40]\tvalidation-mlogloss:0.63348\n",
      "[45]\tvalidation-mlogloss:0.631154\n",
      "[50]\tvalidation-mlogloss:0.628292\n",
      "[55]\tvalidation-mlogloss:0.625998\n",
      "[60]\tvalidation-mlogloss:0.623632\n",
      "[65]\tvalidation-mlogloss:0.621446\n",
      "[70]\tvalidation-mlogloss:0.619443\n",
      "[75]\tvalidation-mlogloss:0.618203\n",
      "[80]\tvalidation-mlogloss:0.616871\n",
      "[85]\tvalidation-mlogloss:0.61484\n",
      "[90]\tvalidation-mlogloss:0.613788\n",
      "[95]\tvalidation-mlogloss:0.612716\n",
      "[100]\tvalidation-mlogloss:0.611539\n",
      "[105]\tvalidation-mlogloss:0.610019\n",
      "[110]\tvalidation-mlogloss:0.609321\n",
      "[115]\tvalidation-mlogloss:0.607768\n",
      "[120]\tvalidation-mlogloss:0.606331\n",
      "[125]\tvalidation-mlogloss:0.605313\n",
      "[130]\tvalidation-mlogloss:0.604488\n",
      "[135]\tvalidation-mlogloss:0.603142\n",
      "[140]\tvalidation-mlogloss:0.602647\n",
      "[145]\tvalidation-mlogloss:0.601831\n",
      "[150]\tvalidation-mlogloss:0.601019\n",
      "[155]\tvalidation-mlogloss:0.599851\n",
      "[160]\tvalidation-mlogloss:0.599302\n",
      "[165]\tvalidation-mlogloss:0.598519\n",
      "[170]\tvalidation-mlogloss:0.597991\n",
      "[175]\tvalidation-mlogloss:0.597215\n",
      "[180]\tvalidation-mlogloss:0.595796\n",
      "[185]\tvalidation-mlogloss:0.595351\n",
      "[190]\tvalidation-mlogloss:0.595077\n",
      "[195]\tvalidation-mlogloss:0.594483\n",
      "[200]\tvalidation-mlogloss:0.593895\n",
      "[205]\tvalidation-mlogloss:0.593579\n",
      "[210]\tvalidation-mlogloss:0.593381\n",
      "[215]\tvalidation-mlogloss:0.592725\n",
      "[220]\tvalidation-mlogloss:0.591829\n",
      "[225]\tvalidation-mlogloss:0.59165\n",
      "[230]\tvalidation-mlogloss:0.591326\n",
      "[235]\tvalidation-mlogloss:0.591003\n",
      "[240]\tvalidation-mlogloss:0.590787\n",
      "[245]\tvalidation-mlogloss:0.590319\n",
      "[250]\tvalidation-mlogloss:0.589933\n",
      "[255]\tvalidation-mlogloss:0.589305\n",
      "[260]\tvalidation-mlogloss:0.588897\n",
      "[265]\tvalidation-mlogloss:0.588538\n",
      "[270]\tvalidation-mlogloss:0.588185\n",
      "[275]\tvalidation-mlogloss:0.587713\n",
      "[280]\tvalidation-mlogloss:0.587369\n",
      "[285]\tvalidation-mlogloss:0.587073\n",
      "[290]\tvalidation-mlogloss:0.586551\n",
      "[295]\tvalidation-mlogloss:0.586141\n",
      "[300]\tvalidation-mlogloss:0.585923\n",
      "[305]\tvalidation-mlogloss:0.585835\n",
      "[310]\tvalidation-mlogloss:0.585873\n",
      "[315]\tvalidation-mlogloss:0.58547\n",
      "[320]\tvalidation-mlogloss:0.585175\n",
      "[325]\tvalidation-mlogloss:0.585307\n",
      "[330]\tvalidation-mlogloss:0.585155\n",
      "[335]\tvalidation-mlogloss:0.584962\n",
      "[340]\tvalidation-mlogloss:0.585138\n",
      "[345]\tvalidation-mlogloss:0.584658\n",
      "[350]\tvalidation-mlogloss:0.584295\n",
      "[355]\tvalidation-mlogloss:0.584334\n",
      "[360]\tvalidation-mlogloss:0.584251\n",
      "[365]\tvalidation-mlogloss:0.584211\n",
      "[370]\tvalidation-mlogloss:0.584097\n",
      "[375]\tvalidation-mlogloss:0.58396\n",
      "[380]\tvalidation-mlogloss:0.583823\n",
      "[385]\tvalidation-mlogloss:0.583591\n",
      "[390]\tvalidation-mlogloss:0.582808\n",
      "[395]\tvalidation-mlogloss:0.582806\n",
      "[400]\tvalidation-mlogloss:0.582755\n",
      "[405]\tvalidation-mlogloss:0.58308\n",
      "[410]\tvalidation-mlogloss:0.582727\n",
      "[415]\tvalidation-mlogloss:0.58257\n",
      "[420]\tvalidation-mlogloss:0.582571\n",
      "[425]\tvalidation-mlogloss:0.582674\n",
      "[430]\tvalidation-mlogloss:0.582615\n",
      "[435]\tvalidation-mlogloss:0.582394\n",
      "[440]\tvalidation-mlogloss:0.582412\n",
      "[445]\tvalidation-mlogloss:0.582222\n",
      "[450]\tvalidation-mlogloss:0.582187\n",
      "[455]\tvalidation-mlogloss:0.582248\n",
      "[460]\tvalidation-mlogloss:0.582109\n",
      "[465]\tvalidation-mlogloss:0.581966\n",
      "[470]\tvalidation-mlogloss:0.582114\n",
      "[475]\tvalidation-mlogloss:0.581884\n",
      "[480]\tvalidation-mlogloss:0.581826\n",
      "[485]\tvalidation-mlogloss:0.581901\n",
      "[490]\tvalidation-mlogloss:0.582271\n",
      "[495]\tvalidation-mlogloss:0.58227\n",
      "[500]\tvalidation-mlogloss:0.58272\n",
      "[505]\tvalidation-mlogloss:0.58263\n",
      "[510]\tvalidation-mlogloss:0.582266\n",
      "[515]\tvalidation-mlogloss:0.582272\n",
      "[520]\tvalidation-mlogloss:0.582293\n",
      "[525]\tvalidation-mlogloss:0.582717\n",
      "[530]\tvalidation-mlogloss:0.582867\n",
      "[535]\tvalidation-mlogloss:0.582832\n",
      "[540]\tvalidation-mlogloss:0.583004\n",
      "[545]\tvalidation-mlogloss:0.583045\n",
      "[550]\tvalidation-mlogloss:0.583364\n",
      "[555]\tvalidation-mlogloss:0.583388\n",
      "[560]\tvalidation-mlogloss:0.583436\n",
      "[565]\tvalidation-mlogloss:0.58369\n",
      "[570]\tvalidation-mlogloss:0.583669\n",
      "[575]\tvalidation-mlogloss:0.583688\n",
      "[580]\tvalidation-mlogloss:0.583869\n",
      "Stopping. Best iteration:\n",
      "[484]\tvalidation-mlogloss:0.581757\n",
      "\n"
     ]
    }
   ],
   "source": [
    "train_d = xgb.DMatrix(train_X, train_Y)\n",
    "test_d = xgb.DMatrix(test_X, test_Y)\n",
    "params_xgd = {\n",
    "    'min_child_weight': 10.0,\n",
    "    'max_depth': 7,\n",
    "    'objective': 'multi:softprob',\n",
    "    'max_delta_step': 1.8,\n",
    "    'num_class': 2,\n",
    "    'colsample_bytree': 0.4,\n",
    "    'subsample': 0.8,\n",
    "    'learning_rate': 0.1,\n",
    "    'gamma': 0.65,\n",
    "    'silent': True,\n",
    "    'eval_metric': 'mlogloss'\n",
    "}\n",
    "model = xgb.train(params_xgd, train_d, 10000, evals=[(test_d, 'validation')], \n",
    "                  early_stopping_rounds=100, verbose_eval=5)"
   ]
  },
  {
   "cell_type": "code",
   "execution_count": 10,
   "metadata": {},
   "outputs": [
    {
     "name": "stdout",
     "output_type": "stream",
     "text": [
      "             precision    recall  f1-score   support\n",
      "\n",
      "   negative       0.69      0.61      0.65      1332\n",
      "   positive       0.69      0.76      0.72      1524\n",
      "\n",
      "avg / total       0.69      0.69      0.69      2856\n",
      "\n"
     ]
    }
   ],
   "source": [
    "predicted = np.argmax(model.predict(xgb.DMatrix(test_X),ntree_limit=model.best_ntree_limit),axis=1)\n",
    "print(metrics.classification_report(test_Y, predicted, target_names = ['negative','positive']))"
   ]
  },
  {
   "cell_type": "code",
   "execution_count": 15,
   "metadata": {},
   "outputs": [
    {
     "data": {
      "text/plain": [
       "array([[0.47532737, 0.5246726 ]], dtype=float32)"
      ]
     },
     "execution_count": 15,
     "metadata": {},
     "output_type": "execute_result"
    }
   ],
   "source": [
    "text = (\n",
    "    'kerajaan sebenarnya sangat bencikan rakyatnya, minyak naik dan segalanya'\n",
    ")\n",
    "model.predict(\n",
    "    xgb.DMatrix(tfidf.transform([classification_textcleaning(text)[0]])),\n",
    "    ntree_limit = model.best_ntree_limit,\n",
    ")"
   ]
  },
  {
   "cell_type": "code",
   "execution_count": 16,
   "metadata": {},
   "outputs": [],
   "source": [
    "import pickle\n",
    "with open('xgboost-sentiment.pkl','wb') as fopen:\n",
    "    pickle.dump(model,fopen)\n",
    "\n",
    "with open('tfidf-xgboost-sentiment.pkl','wb') as fopen:\n",
    "    pickle.dump(tfidf,fopen)"
   ]
  },
  {
   "cell_type": "code",
   "execution_count": null,
   "metadata": {},
   "outputs": [],
   "source": []
  }
 ],
 "metadata": {
  "kernelspec": {
   "display_name": "Python 3",
   "language": "python",
   "name": "python3"
  },
  "language_info": {
   "codemirror_mode": {
    "name": "ipython",
    "version": 3
   },
   "file_extension": ".py",
   "mimetype": "text/x-python",
   "name": "python",
   "nbconvert_exporter": "python",
   "pygments_lexer": "ipython3",
   "version": "3.5.2"
  }
 },
 "nbformat": 4,
 "nbformat_minor": 2
}
