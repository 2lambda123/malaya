{
 "cells": [
  {
   "cell_type": "code",
   "execution_count": 1,
   "metadata": {},
   "outputs": [],
   "source": [
    "import os\n",
    "\n",
    "out = 'bert-base-bahasa-standard-cased'\n",
    "os.makedirs(out, exist_ok=True)"
   ]
  },
  {
   "cell_type": "code",
   "execution_count": 2,
   "metadata": {},
   "outputs": [],
   "source": [
    "directory = out"
   ]
  },
  {
   "cell_type": "code",
   "execution_count": 3,
   "metadata": {
    "scrolled": true
   },
   "outputs": [],
   "source": [
    "from transformers import BertTokenizer, BertModel, BertConfig, AutoTokenizer, AutoModelWithLMHead, pipeline"
   ]
  },
  {
   "cell_type": "code",
   "execution_count": 4,
   "metadata": {},
   "outputs": [],
   "source": [
    "# !pip3 install torch==1.6.0+cpu torchvision==0.7.0+cpu -f https://download.pytorch.org/whl/torch_stable.html"
   ]
  },
  {
   "cell_type": "code",
   "execution_count": 5,
   "metadata": {},
   "outputs": [
    {
     "data": {
      "text/plain": [
       "('bert-base-bahasa-standard-cased/vocab.txt',\n",
       " 'bert-base-bahasa-standard-cased/special_tokens_map.json',\n",
       " 'bert-base-bahasa-standard-cased/added_tokens.json')"
      ]
     },
     "execution_count": 5,
     "metadata": {},
     "output_type": "execute_result"
    }
   ],
   "source": [
    "tokenizer = BertTokenizer('BERT.wordpiece', do_lower_case = False)\n",
    "tokenizer.save_pretrained('bert-base-bahasa-standard-cased')"
   ]
  },
  {
   "cell_type": "code",
   "execution_count": 6,
   "metadata": {},
   "outputs": [],
   "source": [
    "tokenizer = BertTokenizer.from_pretrained('./bert-base-bahasa-standard-cased', do_lower_case = False)"
   ]
  },
  {
   "cell_type": "code",
   "execution_count": 7,
   "metadata": {},
   "outputs": [],
   "source": [
    "# !transformers-cli convert --model_type bert \\\n",
    "#   --tf_checkpoint bert-large/model.ckpt-700000 \\\n",
    "#   --config LARGE_config.json \\\n",
    "#   --pytorch_dump_output bert-large-bahasa-standard-cased/pytorch_model.bin"
   ]
  },
  {
   "cell_type": "code",
   "execution_count": 10,
   "metadata": {
    "scrolled": false
   },
   "outputs": [],
   "source": [
    "# import transformers.convert_bert_original_tf_checkpoint_to_pytorch\n",
    "\n",
    "# transformers.convert_bert_original_tf_checkpoint_to_pytorch.convert_tf_checkpoint_to_pytorch(\n",
    "# 'bert-base/model.ckpt-1000000', 'BASE_config.json', 'bert-base-bahasa-standard-cased/pytorch_model.bin')"
   ]
  },
  {
   "cell_type": "code",
   "execution_count": 11,
   "metadata": {},
   "outputs": [],
   "source": [
    "config = BertConfig(f'{directory}/config.json')\n",
    "config.vocab_size = 32000"
   ]
  },
  {
   "cell_type": "code",
   "execution_count": 12,
   "metadata": {},
   "outputs": [
    {
     "data": {
      "text/plain": [
       "BertConfig {\n",
       "  \"attention_probs_dropout_prob\": 0.1,\n",
       "  \"gradient_checkpointing\": false,\n",
       "  \"hidden_act\": \"gelu\",\n",
       "  \"hidden_dropout_prob\": 0.1,\n",
       "  \"hidden_size\": 768,\n",
       "  \"initializer_range\": 0.02,\n",
       "  \"intermediate_size\": 3072,\n",
       "  \"layer_norm_eps\": 1e-12,\n",
       "  \"max_position_embeddings\": 512,\n",
       "  \"model_type\": \"bert\",\n",
       "  \"num_attention_heads\": 12,\n",
       "  \"num_hidden_layers\": 12,\n",
       "  \"pad_token_id\": 0,\n",
       "  \"type_vocab_size\": 2,\n",
       "  \"vocab_size\": 32000\n",
       "}"
      ]
     },
     "execution_count": 12,
     "metadata": {},
     "output_type": "execute_result"
    }
   ],
   "source": [
    "config"
   ]
  },
  {
   "cell_type": "code",
   "execution_count": 13,
   "metadata": {},
   "outputs": [
    {
     "name": "stderr",
     "output_type": "stream",
     "text": [
      "/home/ubuntu/.local/lib/python3.6/site-packages/transformers/modeling_auto.py:798: FutureWarning: The class `AutoModelWithLMHead` is deprecated and will be removed in a future version. Please use `AutoModelForCausalLM` for causal language models, `AutoModelForMaskedLM` for masked language models and `AutoModelForSeq2SeqLM` for encoder-decoder models.\n",
      "  FutureWarning,\n",
      "INFO:transformers.modeling_utils:loading weights file ./bert-base-bahasa-standard-cased/pytorch_model.bin\n",
      "WARNING:transformers.modeling_utils:Some weights of the model checkpoint at ./bert-base-bahasa-standard-cased/pytorch_model.bin were not used when initializing BertForMaskedLM: ['cls.seq_relationship.weight', 'cls.seq_relationship.bias']\n",
      "- This IS expected if you are initializing BertForMaskedLM from the checkpoint of a model trained on another task or with another architecture (e.g. initializing a BertForSequenceClassification model from a BertForPretraining model).\n",
      "- This IS NOT expected if you are initializing BertForMaskedLM from the checkpoint of a model that you expect to be exactly identical (initializing a BertForSequenceClassification model from a BertForSequenceClassification model).\n",
      "INFO:transformers.modeling_utils:All the weights of BertForMaskedLM were initialized from the model checkpoint at ./bert-base-bahasa-standard-cased/pytorch_model.bin.\n",
      "If your task is similar to the task the model of the ckeckpoint was trained on, you can already use BertForMaskedLM for predictions without further training.\n"
     ]
    }
   ],
   "source": [
    "model = AutoModelWithLMHead.from_pretrained('./bert-base-bahasa-standard-cased/pytorch_model.bin', config = config)"
   ]
  },
  {
   "cell_type": "code",
   "execution_count": 14,
   "metadata": {},
   "outputs": [],
   "source": [
    "fill_mask = pipeline('fill-mask', model=model, tokenizer=tokenizer)"
   ]
  },
  {
   "cell_type": "code",
   "execution_count": 15,
   "metadata": {},
   "outputs": [
    {
     "name": "stderr",
     "output_type": "stream",
     "text": [
      "/home/ubuntu/.local/lib/python3.6/site-packages/transformers/pipelines.py:882: UserWarning: This overload of nonzero is deprecated:\n",
      "\tnonzero()\n",
      "Consider using one of the following signatures instead:\n",
      "\tnonzero(*, bool as_tuple) (Triggered internally at  /pytorch/torch/csrc/utils/python_arg_parser.cpp:766.)\n",
      "  masked_index = (input_ids == self.tokenizer.mask_token_id).nonzero()\n"
     ]
    },
    {
     "data": {
      "text/plain": [
       "[{'sequence': '[CLS] mahathir mohamad sebenarnya zalim terhadap rakyatnya [SEP]',\n",
       "  'score': 0.08475544303655624,\n",
       "  'token': 16278,\n",
       "  'token_str': 'zalim'},\n",
       " {'sequence': '[CLS] mahathir mohamad sebenarnya bertanggungjawab terhadap rakyatnya [SEP]',\n",
       "  'score': 0.06203313171863556,\n",
       "  'token': 4657,\n",
       "  'token_str': 'bertanggungjawab'},\n",
       " {'sequence': '[CLS] mahathir mohamad sebenarnya marah terhadap rakyatnya [SEP]',\n",
       "  'score': 0.045952457934617996,\n",
       "  'token': 6638,\n",
       "  'token_str': 'marah'},\n",
       " {'sequence': '[CLS] mahathir mohamad sebenarnya benci terhadap rakyatnya [SEP]',\n",
       "  'score': 0.033943504095077515,\n",
       "  'token': 14934,\n",
       "  'token_str': 'benci'},\n",
       " {'sequence': '[CLS] mahathir mohamad sebenarnya khianat terhadap rakyatnya [SEP]',\n",
       "  'score': 0.029009034857153893,\n",
       "  'token': 27803,\n",
       "  'token_str': 'khianat'}]"
      ]
     },
     "execution_count": 15,
     "metadata": {},
     "output_type": "execute_result"
    }
   ],
   "source": [
    "fill_mask('mahathir mohamad sebenarnya [MASK] terhadap rakyatnya')"
   ]
  },
  {
   "cell_type": "code",
   "execution_count": 16,
   "metadata": {},
   "outputs": [
    {
     "data": {
      "text/plain": [
       "[{'sequence': '[CLS] mahathir sebenarnya sangat mencintai tanah airnya [SEP]',\n",
       "  'score': 0.11776357144117355,\n",
       "  'token': 14727,\n",
       "  'token_str': 'mencintai'},\n",
       " {'sequence': '[CLS] mahathir sebenarnya sangat suka tanah airnya [SEP]',\n",
       "  'score': 0.1127161756157875,\n",
       "  'token': 3085,\n",
       "  'token_str': 'suka'},\n",
       " {'sequence': '[CLS] mahathir sebenarnya sangat sayangkan tanah airnya [SEP]',\n",
       "  'score': 0.036616381257772446,\n",
       "  'token': 22562,\n",
       "  'token_str': 'sayangkan'},\n",
       " {'sequence': '[CLS] mahathir sebenarnya sangat menyayangi tanah airnya [SEP]',\n",
       "  'score': 0.03625521436333656,\n",
       "  'token': 27640,\n",
       "  'token_str': 'menyayangi'},\n",
       " {'sequence': '[CLS] mahathir sebenarnya sangat menghargai tanah airnya [SEP]',\n",
       "  'score': 0.024249471724033356,\n",
       "  'token': 8159,\n",
       "  'token_str': 'menghargai'}]"
      ]
     },
     "execution_count": 16,
     "metadata": {},
     "output_type": "execute_result"
    }
   ],
   "source": [
    "fill_mask('mahathir sebenarnya sangat [MASK] tanah airnya')"
   ]
  },
  {
   "cell_type": "code",
   "execution_count": 17,
   "metadata": {},
   "outputs": [
    {
     "name": "stderr",
     "output_type": "stream",
     "text": [
      "INFO:transformers.configuration_utils:Configuration saved in bert-base-bahasa-standard-cased/config.json\n",
      "INFO:transformers.modeling_utils:Model weights saved in bert-base-bahasa-standard-cased/pytorch_model.bin\n"
     ]
    }
   ],
   "source": [
    "model.save_pretrained('bert-base-bahasa-standard-cased')"
   ]
  },
  {
   "cell_type": "code",
   "execution_count": 37,
   "metadata": {},
   "outputs": [
    {
     "name": "stdout",
     "output_type": "stream",
     "text": [
      "/bin/bash: transformers-cli: command not found\r\n"
     ]
    }
   ],
   "source": [
    "!transformers-cli upload ./bert-base-bahasa-standard-cased"
   ]
  },
  {
   "cell_type": "code",
   "execution_count": null,
   "metadata": {},
   "outputs": [],
   "source": []
  }
 ],
 "metadata": {
  "kernelspec": {
   "display_name": "Python 3",
   "language": "python",
   "name": "python3"
  },
  "language_info": {
   "codemirror_mode": {
    "name": "ipython",
    "version": 3
   },
   "file_extension": ".py",
   "mimetype": "text/x-python",
   "name": "python",
   "nbconvert_exporter": "python",
   "pygments_lexer": "ipython3",
   "version": "3.6.9"
  }
 },
 "nbformat": 4,
 "nbformat_minor": 4
}
