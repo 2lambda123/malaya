{
 "cells": [
  {
   "cell_type": "code",
   "execution_count": 1,
   "metadata": {},
   "outputs": [
    {
     "name": "stderr",
     "output_type": "stream",
     "text": [
      "/usr/local/lib/python3.5/dist-packages/sklearn/cross_validation.py:41: DeprecationWarning: This module was deprecated in version 0.18 in favor of the model_selection module into which all the refactored classes and functions are moved. Also note that the interface of the new CV iterators are different from that of this module. This module will be removed in 0.20.\n",
      "  \"This module will be removed in 0.20.\", DeprecationWarning)\n"
     ]
    }
   ],
   "source": [
    "import re\n",
    "import numpy as np\n",
    "import pandas as pd\n",
    "import collections\n",
    "from sklearn import metrics\n",
    "from sklearn.cross_validation import train_test_split\n",
    "from sklearn.feature_extraction.text import CountVectorizer\n",
    "from sklearn.preprocessing import LabelEncoder\n",
    "from unidecode import unidecode\n",
    "import tensorflow as tf\n",
    "import pandas as pd\n",
    "from tqdm import tqdm\n",
    "import time"
   ]
  },
  {
   "cell_type": "code",
   "execution_count": 2,
   "metadata": {},
   "outputs": [],
   "source": [
    "permulaan = [\n",
    "    'bel',\n",
    "    'se',\n",
    "    'ter',\n",
    "    'men',\n",
    "    'meng',\n",
    "    'mem',\n",
    "    'memper',\n",
    "    'di',\n",
    "    'pe',\n",
    "    'me',\n",
    "    'ke',\n",
    "    'ber',\n",
    "    'pen',\n",
    "    'per',\n",
    "]\n",
    "\n",
    "hujung = ['kan', 'kah', 'lah', 'tah', 'nya', 'an', 'wan', 'wati', 'ita']\n",
    "\n",
    "def naive_stemmer(word):\n",
    "    assert isinstance(word, str), 'input must be a string'\n",
    "    hujung_result = re.findall(r'^(.*?)(%s)$' % ('|'.join(hujung)), word)\n",
    "    word = hujung_result[0][0] if len(hujung_result) else word\n",
    "    permulaan_result = re.findall(r'^(.*?)(%s)' % ('|'.join(permulaan[::-1])), word)\n",
    "    permulaan_result.extend(re.findall(r'^(.*?)(%s)' % ('|'.join(permulaan)), word))\n",
    "    mula = permulaan_result if len(permulaan_result) else ''\n",
    "    if len(mula):\n",
    "        mula = mula[1][1] if len(mula[1][1]) > len(mula[0][1]) else mula[0][1]\n",
    "    return word.replace(mula, '')"
   ]
  },
  {
   "cell_type": "code",
   "execution_count": 3,
   "metadata": {},
   "outputs": [],
   "source": [
    "def classification_textcleaning(string):\n",
    "    string = re.sub(\n",
    "        'http\\S+|www.\\S+',\n",
    "        '',\n",
    "        ' '.join(\n",
    "            [i for i in string.split() if i.find('#') < 0 and i.find('@') < 0]\n",
    "        ),\n",
    "    )\n",
    "    string = unidecode(string).replace('.', ' . ').replace(',', ' , ')\n",
    "    string = re.sub('[^A-Za-z ]+', ' ', string)\n",
    "    string = re.sub(r'[ ]+', ' ', string).strip()\n",
    "    string = ' '.join(\n",
    "        [i for i in re.findall('[\\\\w\\']+|[;:\\-\\(\\)&.,!?\"]', string) if len(i)]\n",
    "    )\n",
    "    string = string.lower().split()\n",
    "    string = [(naive_stemmer(word), word) for word in string]\n",
    "    return (\n",
    "        ' '.join([word[0] for word in string if len(word[0]) > 1]),\n",
    "        ' '.join([word[1] for word in string if len(word[0]) > 1]),\n",
    "    )\n",
    "\n",
    "def convert_sparse_matrix_to_sparse_tensor(X, limit = 5):\n",
    "    coo = X.tocoo()\n",
    "    indices = np.mat([coo.row, coo.col]).transpose()\n",
    "    coo.data[coo.data > limit] = limit\n",
    "    return tf.SparseTensorValue(indices, coo.col, coo.shape), tf.SparseTensorValue(indices, coo.data, coo.shape)"
   ]
  },
  {
   "cell_type": "code",
   "execution_count": 4,
   "metadata": {},
   "outputs": [
    {
     "data": {
      "text/plain": [
       "['translated-joy',\n",
       " 'translated-love',\n",
       " 'translated-fear',\n",
       " 'translated-sadness',\n",
       " 'translated-surprise',\n",
       " 'translated-anger']"
      ]
     },
     "execution_count": 4,
     "metadata": {},
     "output_type": "execute_result"
    }
   ],
   "source": [
    "import os\n",
    "emotion_files = [f for f in os.listdir(os.getcwd()) if 'translated-' in f]\n",
    "emotion_files"
   ]
  },
  {
   "cell_type": "code",
   "execution_count": 5,
   "metadata": {},
   "outputs": [],
   "source": [
    "texts, labels = [], []\n",
    "for f in emotion_files:\n",
    "    with open(f) as fopen:\n",
    "        dataset = list(filter(None, fopen.read().split('\\n')))\n",
    "        labels.extend([f.split('-')[1]] * len(dataset))\n",
    "        texts.extend(dataset)"
   ]
  },
  {
   "cell_type": "code",
   "execution_count": 6,
   "metadata": {},
   "outputs": [],
   "source": [
    "for i in range(len(texts)):\n",
    "    texts[i] = classification_textcleaning(texts[i])[0]"
   ]
  },
  {
   "cell_type": "code",
   "execution_count": 7,
   "metadata": {},
   "outputs": [
    {
     "data": {
      "text/plain": [
       "['anger', 'fear', 'joy', 'love', 'sadness', 'surprise']"
      ]
     },
     "execution_count": 7,
     "metadata": {},
     "output_type": "execute_result"
    }
   ],
   "source": [
    "unique_labels = np.unique(labels).tolist()\n",
    "labels = LabelEncoder().fit_transform(labels)\n",
    "unique_labels"
   ]
  },
  {
   "cell_type": "code",
   "execution_count": 8,
   "metadata": {},
   "outputs": [],
   "source": [
    "for i in range(len(texts)):\n",
    "    texts[i] = classification_textcleaning(texts[i])[0]"
   ]
  },
  {
   "cell_type": "code",
   "execution_count": 9,
   "metadata": {},
   "outputs": [],
   "source": [
    "bow_chars = CountVectorizer(ngram_range=(3, 5), analyzer='char_wb', max_features=300000).fit(texts)\n",
    "delattr(bow_chars, 'stop_words_')"
   ]
  },
  {
   "cell_type": "code",
   "execution_count": 10,
   "metadata": {},
   "outputs": [
    {
     "data": {
      "text/plain": [
       "67557"
      ]
     },
     "execution_count": 10,
     "metadata": {},
     "output_type": "execute_result"
    }
   ],
   "source": [
    "feature_shape = bow_chars.transform(texts[:1]).shape[1]\n",
    "feature_shape"
   ]
  },
  {
   "cell_type": "code",
   "execution_count": 11,
   "metadata": {},
   "outputs": [],
   "source": [
    "class Model:\n",
    "    def __init__(self, output_size, vocab_size, learning_rate):\n",
    "        self.X = tf.sparse_placeholder(tf.int32)\n",
    "        self.W = tf.sparse_placeholder(tf.int32)\n",
    "        self.Y = tf.placeholder(tf.int32, [None])\n",
    "        embeddings = tf.Variable(tf.truncated_normal([vocab_size,64]))\n",
    "        embed = tf.nn.embedding_lookup_sparse(embeddings, self.X, self.W, combiner='mean')\n",
    "        self.logits = tf.layers.dense(embed, output_size)\n",
    "        self.cost = tf.reduce_mean(tf.nn.sparse_softmax_cross_entropy_with_logits(\n",
    "            logits = self.logits, labels = self.Y))\n",
    "        self.optimizer = tf.train.AdamOptimizer(learning_rate = learning_rate).minimize(self.cost)\n",
    "        correct_pred = tf.equal(tf.argmax(self.logits, 1,output_type=tf.int32), self.Y)\n",
    "        self.accuracy = tf.reduce_mean(tf.cast(correct_pred, tf.float32))"
   ]
  },
  {
   "cell_type": "code",
   "execution_count": 12,
   "metadata": {},
   "outputs": [
    {
     "name": "stderr",
     "output_type": "stream",
     "text": [
      "/usr/local/lib/python3.5/dist-packages/tensorflow/python/ops/gradients_impl.py:112: UserWarning: Converting sparse IndexedSlices to a dense Tensor of unknown shape. This may consume a large amount of memory.\n",
      "  \"Converting sparse IndexedSlices to a dense Tensor of unknown shape. \"\n"
     ]
    }
   ],
   "source": [
    "sess = tf.InteractiveSession()\n",
    "model = Model(len(unique_labels), feature_shape, 1e-4)\n",
    "sess.run(tf.global_variables_initializer())"
   ]
  },
  {
   "cell_type": "code",
   "execution_count": 13,
   "metadata": {},
   "outputs": [
    {
     "data": {
      "text/plain": [
       "'fast-text-char/model.ckpt'"
      ]
     },
     "execution_count": 13,
     "metadata": {},
     "output_type": "execute_result"
    }
   ],
   "source": [
    "saver = tf.train.Saver(tf.trainable_variables())\n",
    "saver.save(sess, 'fast-text-char/model.ckpt')"
   ]
  },
  {
   "cell_type": "code",
   "execution_count": 14,
   "metadata": {},
   "outputs": [],
   "source": [
    "vectors = bow_chars.transform(texts)\n",
    "train_X, test_X, train_Y, test_Y = train_test_split(\n",
    "    vectors, labels, test_size = 0.2\n",
    ")"
   ]
  },
  {
   "cell_type": "code",
   "execution_count": 15,
   "metadata": {},
   "outputs": [
    {
     "name": "stderr",
     "output_type": "stream",
     "text": [
      "train minibatch loop: 100%|██████████| 2463/2463 [00:25<00:00, 94.81it/s, accuracy=0.5, cost=1.64]   \n",
      "test minibatch loop: 100%|██████████| 616/616 [00:02<00:00, 219.05it/s, accuracy=0.261, cost=1.71]\n",
      "train minibatch loop:   0%|          | 10/2463 [00:00<00:26, 93.47it/s, accuracy=0.281, cost=1.71]"
     ]
    },
    {
     "name": "stdout",
     "output_type": "stream",
     "text": [
      "epoch: 0, pass acc: 0.000000, current acc: 0.367424\n",
      "time taken: 28.793192148208618\n",
      "epoch: 0, training loss: 1.737624, training acc: 0.286365, valid loss: 1.683998, valid acc: 0.367424\n",
      "\n"
     ]
    },
    {
     "name": "stderr",
     "output_type": "stream",
     "text": [
      "train minibatch loop: 100%|██████████| 2463/2463 [00:25<00:00, 95.42it/s, accuracy=0.5, cost=1.47]  \n",
      "test minibatch loop: 100%|██████████| 616/616 [00:02<00:00, 217.81it/s, accuracy=0.522, cost=1.58]\n",
      "train minibatch loop:   0%|          | 10/2463 [00:00<00:27, 90.54it/s, accuracy=0.344, cost=1.59]"
     ]
    },
    {
     "name": "stdout",
     "output_type": "stream",
     "text": [
      "epoch: 1, pass acc: 0.367424, current acc: 0.477628\n",
      "time taken: 28.64283514022827\n",
      "epoch: 1, training loss: 1.616371, training acc: 0.432574, valid loss: 1.552411, valid acc: 0.477628\n",
      "\n"
     ]
    },
    {
     "name": "stderr",
     "output_type": "stream",
     "text": [
      "train minibatch loop: 100%|██████████| 2463/2463 [00:25<00:00, 94.91it/s, accuracy=0.643, cost=1.27] \n",
      "test minibatch loop: 100%|██████████| 616/616 [00:02<00:00, 218.93it/s, accuracy=0.652, cost=1.42]\n",
      "train minibatch loop:   0%|          | 10/2463 [00:00<00:26, 93.13it/s, accuracy=0.531, cost=1.41]"
     ]
    },
    {
     "name": "stdout",
     "output_type": "stream",
     "text": [
      "epoch: 2, pass acc: 0.477628, current acc: 0.551381\n",
      "time taken: 28.76784896850586\n",
      "epoch: 2, training loss: 1.464915, training acc: 0.528620, valid loss: 1.396159, valid acc: 0.551381\n",
      "\n"
     ]
    },
    {
     "name": "stderr",
     "output_type": "stream",
     "text": [
      "train minibatch loop: 100%|██████████| 2463/2463 [00:25<00:00, 95.33it/s, accuracy=0.714, cost=1.1]   \n",
      "test minibatch loop: 100%|██████████| 616/616 [00:02<00:00, 214.44it/s, accuracy=0.609, cost=1.27] \n",
      "train minibatch loop:   0%|          | 10/2463 [00:00<00:26, 91.84it/s, accuracy=0.625, cost=1.25]"
     ]
    },
    {
     "name": "stdout",
     "output_type": "stream",
     "text": [
      "epoch: 3, pass acc: 0.551381, current acc: 0.598512\n",
      "time taken: 28.711954355239868\n",
      "epoch: 3, training loss: 1.307954, training acc: 0.589959, valid loss: 1.253290, valid acc: 0.598512\n",
      "\n"
     ]
    },
    {
     "name": "stderr",
     "output_type": "stream",
     "text": [
      "train minibatch loop: 100%|██████████| 2463/2463 [00:25<00:00, 95.20it/s, accuracy=0.786, cost=0.973]\n",
      "test minibatch loop: 100%|██████████| 616/616 [00:02<00:00, 213.55it/s, accuracy=0.609, cost=1.16] \n",
      "train minibatch loop:   0%|          | 10/2463 [00:00<00:26, 93.12it/s, accuracy=0.562, cost=1.22]"
     ]
    },
    {
     "name": "stdout",
     "output_type": "stream",
     "text": [
      "epoch: 4, pass acc: 0.598512, current acc: 0.637288\n",
      "time taken: 28.757939338684082\n",
      "epoch: 4, training loss: 1.174731, training acc: 0.633383, valid loss: 1.140401, valid acc: 0.637288\n",
      "\n"
     ]
    },
    {
     "name": "stderr",
     "output_type": "stream",
     "text": [
      "train minibatch loop: 100%|██████████| 2463/2463 [00:25<00:00, 95.30it/s, accuracy=0.75, cost=0.877] \n",
      "test minibatch loop: 100%|██████████| 616/616 [00:02<00:00, 218.63it/s, accuracy=0.565, cost=1.07] \n",
      "train minibatch loop:   0%|          | 10/2463 [00:00<00:25, 95.99it/s, accuracy=0.594, cost=1.15] "
     ]
    },
    {
     "name": "stdout",
     "output_type": "stream",
     "text": [
      "epoch: 5, pass acc: 0.637288, current acc: 0.661630\n",
      "time taken: 28.666513681411743\n",
      "epoch: 5, training loss: 1.072006, training acc: 0.662767, valid loss: 1.056140, valid acc: 0.661630\n",
      "\n"
     ]
    },
    {
     "name": "stderr",
     "output_type": "stream",
     "text": [
      "train minibatch loop: 100%|██████████| 2463/2463 [00:25<00:00, 95.55it/s, accuracy=0.786, cost=0.805]\n",
      "test minibatch loop: 100%|██████████| 616/616 [00:02<00:00, 217.30it/s, accuracy=0.609, cost=1]    \n",
      "train minibatch loop:   0%|          | 10/2463 [00:00<00:27, 90.84it/s, accuracy=0.594, cost=1.09] "
     ]
    },
    {
     "name": "stdout",
     "output_type": "stream",
     "text": [
      "epoch: 6, pass acc: 0.661630, current acc: 0.680987\n",
      "time taken: 28.615931510925293\n",
      "epoch: 6, training loss: 0.995213, training acc: 0.683210, valid loss: 0.994008, valid acc: 0.680987\n",
      "\n"
     ]
    },
    {
     "name": "stderr",
     "output_type": "stream",
     "text": [
      "train minibatch loop: 100%|██████████| 2463/2463 [00:26<00:00, 95.48it/s, accuracy=0.786, cost=0.75] \n",
      "test minibatch loop: 100%|██████████| 616/616 [00:02<00:00, 216.61it/s, accuracy=0.652, cost=0.945]\n",
      "train minibatch loop:   0%|          | 9/2463 [00:00<00:27, 89.52it/s, accuracy=0.594, cost=1.05] "
     ]
    },
    {
     "name": "stdout",
     "output_type": "stream",
     "text": [
      "epoch: 7, pass acc: 0.680987, current acc: 0.693441\n",
      "time taken: 28.90414547920227\n",
      "epoch: 7, training loss: 0.937690, training acc: 0.698893, valid loss: 0.947770, valid acc: 0.693441\n",
      "\n"
     ]
    },
    {
     "name": "stderr",
     "output_type": "stream",
     "text": [
      "train minibatch loop: 100%|██████████| 2463/2463 [00:25<00:00, 95.71it/s, accuracy=0.786, cost=0.707] \n",
      "test minibatch loop: 100%|██████████| 616/616 [00:02<00:00, 211.98it/s, accuracy=0.652, cost=0.901]\n",
      "train minibatch loop:   0%|          | 10/2463 [00:00<00:26, 93.23it/s, accuracy=0.719, cost=0.828]"
     ]
    },
    {
     "name": "stdout",
     "output_type": "stream",
     "text": [
      "epoch: 8, pass acc: 0.693441, current acc: 0.702374\n",
      "time taken: 28.642375230789185\n",
      "epoch: 8, training loss: 0.893843, training acc: 0.710655, valid loss: 0.912714, valid acc: 0.702374\n",
      "\n"
     ]
    },
    {
     "name": "stderr",
     "output_type": "stream",
     "text": [
      "train minibatch loop: 100%|██████████| 2463/2463 [00:26<00:00, 94.62it/s, accuracy=0.786, cost=0.673]\n",
      "test minibatch loop: 100%|██████████| 616/616 [00:02<00:00, 216.21it/s, accuracy=0.696, cost=0.866]\n",
      "train minibatch loop:   0%|          | 9/2463 [00:00<00:27, 88.15it/s, accuracy=0.656, cost=0.979]"
     ]
    },
    {
     "name": "stdout",
     "output_type": "stream",
     "text": [
      "epoch: 9, pass acc: 0.702374, current acc: 0.710565\n",
      "time taken: 28.882978916168213\n",
      "epoch: 9, training loss: 0.859628, training acc: 0.720387, valid loss: 0.885560, valid acc: 0.710565\n",
      "\n"
     ]
    },
    {
     "name": "stderr",
     "output_type": "stream",
     "text": [
      "train minibatch loop: 100%|██████████| 2463/2463 [00:25<00:00, 95.47it/s, accuracy=0.786, cost=0.646]\n",
      "test minibatch loop: 100%|██████████| 616/616 [00:02<00:00, 217.88it/s, accuracy=0.739, cost=0.836]\n",
      "train minibatch loop:   0%|          | 11/2463 [00:00<00:24, 100.15it/s, accuracy=0.656, cost=0.954]"
     ]
    },
    {
     "name": "stdout",
     "output_type": "stream",
     "text": [
      "epoch: 10, pass acc: 0.710565, current acc: 0.715406\n",
      "time taken: 28.62755060195923\n",
      "epoch: 10, training loss: 0.832274, training acc: 0.727937, valid loss: 0.864087, valid acc: 0.715406\n",
      "\n"
     ]
    },
    {
     "name": "stderr",
     "output_type": "stream",
     "text": [
      "train minibatch loop: 100%|██████████| 2463/2463 [00:25<00:00, 94.80it/s, accuracy=0.786, cost=0.624]\n",
      "test minibatch loop: 100%|██████████| 616/616 [00:02<00:00, 218.43it/s, accuracy=0.739, cost=0.81] \n",
      "train minibatch loop:   0%|          | 10/2463 [00:00<00:26, 92.49it/s, accuracy=0.656, cost=0.932]"
     ]
    },
    {
     "name": "stdout",
     "output_type": "stream",
     "text": [
      "epoch: 11, pass acc: 0.715406, current acc: 0.719619\n",
      "time taken: 28.80274724960327\n",
      "epoch: 11, training loss: 0.809904, training acc: 0.734103, valid loss: 0.846787, valid acc: 0.719619\n",
      "\n"
     ]
    },
    {
     "name": "stderr",
     "output_type": "stream",
     "text": [
      "train minibatch loop: 100%|██████████| 2463/2463 [00:24<00:00, 101.79it/s, accuracy=0.786, cost=0.606]\n",
      "test minibatch loop: 100%|██████████| 616/616 [00:02<00:00, 234.45it/s, accuracy=0.739, cost=0.788]\n",
      "train minibatch loop:   0%|          | 10/2463 [00:00<00:24, 98.90it/s, accuracy=0.719, cost=0.778]"
     ]
    },
    {
     "name": "stdout",
     "output_type": "stream",
     "text": [
      "epoch: 12, pass acc: 0.719619, current acc: 0.724288\n",
      "time taken: 26.893165588378906\n",
      "epoch: 12, training loss: 0.791237, training acc: 0.739750, valid loss: 0.832623, valid acc: 0.724288\n",
      "\n"
     ]
    },
    {
     "name": "stderr",
     "output_type": "stream",
     "text": [
      "train minibatch loop: 100%|██████████| 2463/2463 [00:23<00:00, 105.10it/s, accuracy=0.821, cost=0.591]\n",
      "test minibatch loop: 100%|██████████| 616/616 [00:02<00:00, 232.67it/s, accuracy=0.739, cost=0.769]\n",
      "train minibatch loop:   0%|          | 11/2463 [00:00<00:23, 105.56it/s, accuracy=0.719, cost=0.768]"
     ]
    },
    {
     "name": "stdout",
     "output_type": "stream",
     "text": [
      "epoch: 13, pass acc: 0.724288, current acc: 0.726826\n",
      "time taken: 26.086301565170288\n",
      "epoch: 13, training loss: 0.775384, training acc: 0.744370, valid loss: 0.820864, valid acc: 0.726826\n",
      "\n"
     ]
    },
    {
     "name": "stderr",
     "output_type": "stream",
     "text": [
      "train minibatch loop: 100%|██████████| 2463/2463 [00:23<00:00, 105.78it/s, accuracy=0.821, cost=0.578]\n",
      "test minibatch loop: 100%|██████████| 616/616 [00:02<00:00, 229.20it/s, accuracy=0.696, cost=0.752]\n",
      "train minibatch loop:   0%|          | 10/2463 [00:00<00:24, 98.49it/s, accuracy=0.781, cost=0.687]"
     ]
    },
    {
     "name": "stdout",
     "output_type": "stream",
     "text": [
      "epoch: 14, pass acc: 0.726826, current acc: 0.728532\n",
      "time taken: 25.974788427352905\n",
      "epoch: 14, training loss: 0.761716, training acc: 0.748430, valid loss: 0.810987, valid acc: 0.728532\n",
      "\n"
     ]
    },
    {
     "name": "stderr",
     "output_type": "stream",
     "text": [
      "train minibatch loop: 100%|██████████| 2463/2463 [00:23<00:00, 104.50it/s, accuracy=0.821, cost=0.567]\n",
      "test minibatch loop: 100%|██████████| 616/616 [00:02<00:00, 217.30it/s, accuracy=0.696, cost=0.736]\n",
      "train minibatch loop:   0%|          | 10/2463 [00:00<00:27, 90.61it/s, accuracy=0.719, cost=0.868]"
     ]
    },
    {
     "name": "stdout",
     "output_type": "stream",
     "text": [
      "epoch: 15, pass acc: 0.728532, current acc: 0.731678\n",
      "time taken: 26.40718150138855\n",
      "epoch: 15, training loss: 0.749777, training acc: 0.752008, valid loss: 0.802608, valid acc: 0.731678\n",
      "\n"
     ]
    },
    {
     "name": "stderr",
     "output_type": "stream",
     "text": [
      "train minibatch loop: 100%|██████████| 2463/2463 [00:25<00:00, 94.84it/s, accuracy=0.821, cost=0.558]\n",
      "test minibatch loop: 100%|██████████| 616/616 [00:02<00:00, 218.78it/s, accuracy=0.696, cost=0.722]\n",
      "train minibatch loop:   0%|          | 11/2463 [00:00<00:24, 100.87it/s, accuracy=0.719, cost=0.856]"
     ]
    },
    {
     "name": "stdout",
     "output_type": "stream",
     "text": [
      "epoch: 16, pass acc: 0.731678, current acc: 0.734521\n",
      "time taken: 28.788124084472656\n",
      "epoch: 16, training loss: 0.739230, training acc: 0.754571, valid loss: 0.795440, valid acc: 0.734521\n",
      "\n"
     ]
    },
    {
     "name": "stderr",
     "output_type": "stream",
     "text": [
      "train minibatch loop: 100%|██████████| 2463/2463 [00:25<00:00, 95.32it/s, accuracy=0.821, cost=0.55] \n",
      "test minibatch loop: 100%|██████████| 616/616 [00:02<00:00, 212.67it/s, accuracy=0.696, cost=0.709]\n",
      "train minibatch loop:   0%|          | 9/2463 [00:00<00:28, 86.72it/s, accuracy=0.781, cost=0.786]"
     ]
    },
    {
     "name": "stdout",
     "output_type": "stream",
     "text": [
      "epoch: 17, pass acc: 0.734521, current acc: 0.735688\n",
      "time taken: 28.74174976348877\n",
      "epoch: 17, training loss: 0.729820, training acc: 0.757147, valid loss: 0.789265, valid acc: 0.735688\n",
      "\n"
     ]
    },
    {
     "name": "stderr",
     "output_type": "stream",
     "text": [
      "train minibatch loop: 100%|██████████| 2463/2463 [00:25<00:00, 95.41it/s, accuracy=0.821, cost=0.543]\n",
      "test minibatch loop: 100%|██████████| 616/616 [00:02<00:00, 217.65it/s, accuracy=0.696, cost=0.697]\n",
      "train minibatch loop:   0%|          | 10/2463 [00:00<00:26, 94.22it/s, accuracy=0.781, cost=0.644]"
     ]
    },
    {
     "name": "stdout",
     "output_type": "stream",
     "text": [
      "epoch: 18, pass acc: 0.735688, current acc: 0.736906\n",
      "time taken: 28.64875364303589\n",
      "epoch: 18, training loss: 0.721354, training acc: 0.759698, valid loss: 0.783914, valid acc: 0.736906\n",
      "\n"
     ]
    },
    {
     "name": "stderr",
     "output_type": "stream",
     "text": [
      "train minibatch loop: 100%|██████████| 2463/2463 [00:25<00:00, 94.92it/s, accuracy=0.857, cost=0.536]\n",
      "test minibatch loop: 100%|██████████| 616/616 [00:02<00:00, 218.38it/s, accuracy=0.696, cost=0.687]\n",
      "train minibatch loop:   0%|          | 10/2463 [00:00<00:25, 96.02it/s, accuracy=0.719, cost=0.827]"
     ]
    },
    {
     "name": "stdout",
     "output_type": "stream",
     "text": [
      "epoch: 19, pass acc: 0.736906, current acc: 0.737718\n",
      "time taken: 28.772202253341675\n",
      "epoch: 19, training loss: 0.713681, training acc: 0.762326, valid loss: 0.779254, valid acc: 0.737718\n",
      "\n"
     ]
    },
    {
     "name": "stderr",
     "output_type": "stream",
     "text": [
      "train minibatch loop: 100%|██████████| 2463/2463 [00:25<00:00, 95.52it/s, accuracy=0.857, cost=0.531] \n",
      "test minibatch loop: 100%|██████████| 616/616 [00:02<00:00, 216.14it/s, accuracy=0.696, cost=0.676]\n",
      "train minibatch loop:   0%|          | 10/2463 [00:00<00:26, 91.18it/s, accuracy=0.719, cost=0.819]"
     ]
    },
    {
     "name": "stdout",
     "output_type": "stream",
     "text": [
      "epoch: 20, pass acc: 0.737718, current acc: 0.739342\n",
      "time taken: 28.638182640075684\n",
      "epoch: 20, training loss: 0.706681, training acc: 0.763887, valid loss: 0.775181, valid acc: 0.739342\n",
      "\n"
     ]
    },
    {
     "name": "stderr",
     "output_type": "stream",
     "text": [
      "train minibatch loop: 100%|██████████| 2463/2463 [00:25<00:00, 95.13it/s, accuracy=0.857, cost=0.526]\n",
      "test minibatch loop: 100%|██████████| 616/616 [00:02<00:00, 217.17it/s, accuracy=0.739, cost=0.667]\n",
      "train minibatch loop:   0%|          | 9/2463 [00:00<00:27, 88.63it/s, accuracy=0.719, cost=0.811]"
     ]
    },
    {
     "name": "stdout",
     "output_type": "stream",
     "text": [
      "epoch: 21, pass acc: 0.739342, current acc: 0.741189\n",
      "time taken: 28.732747316360474\n",
      "epoch: 21, training loss: 0.700259, training acc: 0.765790, valid loss: 0.771611, valid acc: 0.741189\n",
      "\n"
     ]
    },
    {
     "name": "stderr",
     "output_type": "stream",
     "text": [
      "train minibatch loop: 100%|██████████| 2463/2463 [00:25<00:00, 96.55it/s, accuracy=0.857, cost=0.522] \n",
      "test minibatch loop: 100%|██████████| 616/616 [00:02<00:00, 214.11it/s, accuracy=0.783, cost=0.658]\n",
      "train minibatch loop:   0%|          | 10/2463 [00:00<00:26, 93.60it/s, accuracy=0.812, cost=0.617]"
     ]
    },
    {
     "name": "stdout",
     "output_type": "stream",
     "text": [
      "epoch: 22, pass acc: 0.741189, current acc: 0.742021\n",
      "time taken: 28.73519778251648\n",
      "epoch: 22, training loss: 0.694336, training acc: 0.767490, valid loss: 0.768473, valid acc: 0.742021\n",
      "\n"
     ]
    },
    {
     "name": "stderr",
     "output_type": "stream",
     "text": [
      "train minibatch loop: 100%|██████████| 2463/2463 [00:25<00:00, 95.43it/s, accuracy=0.857, cost=0.518]\n",
      "test minibatch loop: 100%|██████████| 616/616 [00:02<00:00, 216.38it/s, accuracy=0.783, cost=0.65] \n",
      "train minibatch loop:   0%|          | 9/2463 [00:00<00:27, 89.91it/s, accuracy=0.719, cost=0.798]"
     ]
    },
    {
     "name": "stdout",
     "output_type": "stream",
     "text": [
      "time taken: 28.658127546310425\n",
      "epoch: 23, training loss: 0.688850, training acc: 0.769089, valid loss: 0.765713, valid acc: 0.741970\n",
      "\n"
     ]
    },
    {
     "name": "stderr",
     "output_type": "stream",
     "text": [
      "train minibatch loop: 100%|██████████| 2463/2463 [00:25<00:00, 95.30it/s, accuracy=0.857, cost=0.515]\n",
      "test minibatch loop: 100%|██████████| 616/616 [00:02<00:00, 219.95it/s, accuracy=0.783, cost=0.643]\n",
      "train minibatch loop:   0%|          | 10/2463 [00:00<00:26, 92.47it/s, accuracy=0.719, cost=0.792]"
     ]
    },
    {
     "name": "stdout",
     "output_type": "stream",
     "text": [
      "epoch: 24, pass acc: 0.742021, current acc: 0.742681\n",
      "time taken: 28.648456811904907\n",
      "epoch: 24, training loss: 0.683748, training acc: 0.770751, valid loss: 0.763283, valid acc: 0.742681\n",
      "\n"
     ]
    },
    {
     "name": "stderr",
     "output_type": "stream",
     "text": [
      "train minibatch loop: 100%|██████████| 2463/2463 [00:25<00:00, 95.32it/s, accuracy=0.857, cost=0.512] \n",
      "test minibatch loop: 100%|██████████| 616/616 [00:02<00:00, 217.69it/s, accuracy=0.783, cost=0.635]\n",
      "train minibatch loop:   0%|          | 11/2463 [00:00<00:24, 100.85it/s, accuracy=0.75, cost=0.716] "
     ]
    },
    {
     "name": "stdout",
     "output_type": "stream",
     "text": [
      "time taken: 28.670026540756226\n",
      "epoch: 25, training loss: 0.678984, training acc: 0.772210, valid loss: 0.761142, valid acc: 0.742630\n",
      "\n"
     ]
    },
    {
     "name": "stderr",
     "output_type": "stream",
     "text": [
      "train minibatch loop: 100%|██████████| 2463/2463 [00:25<00:00, 95.12it/s, accuracy=0.857, cost=0.509]\n",
      "test minibatch loop: 100%|██████████| 616/616 [00:02<00:00, 217.15it/s, accuracy=0.783, cost=0.629]\n",
      "train minibatch loop:   0%|          | 10/2463 [00:00<00:25, 95.63it/s, accuracy=0.75, cost=0.714] "
     ]
    },
    {
     "name": "stdout",
     "output_type": "stream",
     "text": [
      "epoch: 26, pass acc: 0.742681, current acc: 0.743544\n",
      "time taken: 28.733546257019043\n",
      "epoch: 26, training loss: 0.674522, training acc: 0.773581, valid loss: 0.759257, valid acc: 0.743544\n",
      "\n"
     ]
    },
    {
     "name": "stderr",
     "output_type": "stream",
     "text": [
      "train minibatch loop: 100%|██████████| 2463/2463 [00:25<00:00, 95.22it/s, accuracy=0.857, cost=0.507]\n",
      "test minibatch loop: 100%|██████████| 616/616 [00:02<00:00, 217.35it/s, accuracy=0.783, cost=0.622]\n",
      "train minibatch loop:   0%|          | 10/2463 [00:00<00:24, 98.61it/s, accuracy=0.812, cost=0.595]"
     ]
    },
    {
     "name": "stdout",
     "output_type": "stream",
     "text": [
      "epoch: 27, pass acc: 0.743544, current acc: 0.743950\n",
      "time taken: 28.70233988761902\n",
      "epoch: 27, training loss: 0.670330, training acc: 0.774989, valid loss: 0.757598, valid acc: 0.743950\n",
      "\n"
     ]
    },
    {
     "name": "stderr",
     "output_type": "stream",
     "text": [
      "train minibatch loop: 100%|██████████| 2463/2463 [00:25<00:00, 95.47it/s, accuracy=0.857, cost=0.504]\n",
      "test minibatch loop: 100%|██████████| 616/616 [00:02<00:00, 214.83it/s, accuracy=0.783, cost=0.617]\n",
      "train minibatch loop:   0%|          | 9/2463 [00:00<00:28, 87.45it/s, accuracy=0.719, cost=0.773]"
     ]
    },
    {
     "name": "stdout",
     "output_type": "stream",
     "text": [
      "time taken: 28.67311692237854\n",
      "epoch: 28, training loss: 0.666380, training acc: 0.776372, valid loss: 0.756140, valid acc: 0.743798\n",
      "\n"
     ]
    },
    {
     "name": "stderr",
     "output_type": "stream",
     "text": [
      "train minibatch loop: 100%|██████████| 2463/2463 [00:25<00:00, 95.22it/s, accuracy=0.857, cost=0.502]\n",
      "test minibatch loop: 100%|██████████| 616/616 [00:02<00:00, 215.74it/s, accuracy=0.783, cost=0.611]\n",
      "train minibatch loop:   0%|          | 9/2463 [00:00<00:27, 88.99it/s, accuracy=0.719, cost=0.768]"
     ]
    },
    {
     "name": "stdout",
     "output_type": "stream",
     "text": [
      "epoch: 29, pass acc: 0.743950, current acc: 0.744153\n",
      "time taken: 28.724653244018555\n",
      "epoch: 29, training loss: 0.662648, training acc: 0.777514, valid loss: 0.754863, valid acc: 0.744153\n",
      "\n"
     ]
    },
    {
     "name": "stderr",
     "output_type": "stream",
     "text": [
      "train minibatch loop: 100%|██████████| 2463/2463 [00:25<00:00, 95.14it/s, accuracy=0.857, cost=0.5]   \n",
      "test minibatch loop: 100%|██████████| 616/616 [00:02<00:00, 213.82it/s, accuracy=0.783, cost=0.606]\n",
      "train minibatch loop:   0%|          | 10/2463 [00:00<00:26, 94.11it/s, accuracy=0.812, cost=0.585]"
     ]
    },
    {
     "name": "stdout",
     "output_type": "stream",
     "text": [
      "epoch: 30, pass acc: 0.744153, current acc: 0.744457\n",
      "time taken: 28.77310824394226\n",
      "epoch: 30, training loss: 0.659113, training acc: 0.778504, valid loss: 0.753746, valid acc: 0.744457\n",
      "\n"
     ]
    },
    {
     "name": "stderr",
     "output_type": "stream",
     "text": [
      "train minibatch loop: 100%|██████████| 2463/2463 [00:25<00:00, 95.35it/s, accuracy=0.857, cost=0.498]\n",
      "test minibatch loop: 100%|██████████| 616/616 [00:02<00:00, 215.26it/s, accuracy=0.783, cost=0.601]\n",
      "train minibatch loop:   0%|          | 10/2463 [00:00<00:25, 96.22it/s, accuracy=0.719, cost=0.761]"
     ]
    },
    {
     "name": "stdout",
     "output_type": "stream",
     "text": [
      "epoch: 31, pass acc: 0.744457, current acc: 0.744762\n",
      "time taken: 28.694873571395874\n",
      "epoch: 31, training loss: 0.655758, training acc: 0.779557, valid loss: 0.752773, valid acc: 0.744762\n",
      "\n"
     ]
    },
    {
     "name": "stderr",
     "output_type": "stream",
     "text": [
      "train minibatch loop: 100%|██████████| 2463/2463 [00:25<00:00, 95.08it/s, accuracy=0.857, cost=0.497]\n",
      "test minibatch loop: 100%|██████████| 616/616 [00:02<00:00, 215.59it/s, accuracy=0.783, cost=0.596]\n",
      "train minibatch loop:   0%|          | 9/2463 [00:00<00:28, 86.68it/s, accuracy=0.812, cost=0.661]"
     ]
    },
    {
     "name": "stdout",
     "output_type": "stream",
     "text": [
      "epoch: 32, pass acc: 0.744762, current acc: 0.745016\n",
      "time taken: 28.76305365562439\n",
      "epoch: 32, training loss: 0.652567, training acc: 0.780508, valid loss: 0.751931, valid acc: 0.745016\n",
      "\n"
     ]
    },
    {
     "name": "stderr",
     "output_type": "stream",
     "text": [
      "train minibatch loop: 100%|██████████| 2463/2463 [00:25<00:00, 95.54it/s, accuracy=0.857, cost=0.495]\n",
      "test minibatch loop: 100%|██████████| 616/616 [00:02<00:00, 213.01it/s, accuracy=0.783, cost=0.592]\n",
      "train minibatch loop:   0%|          | 10/2463 [00:00<00:24, 98.70it/s, accuracy=0.812, cost=0.577]"
     ]
    },
    {
     "name": "stdout",
     "output_type": "stream",
     "text": [
      "epoch: 33, pass acc: 0.745016, current acc: 0.745219\n",
      "time taken: 28.673179626464844\n",
      "epoch: 33, training loss: 0.649525, training acc: 0.781460, valid loss: 0.751206, valid acc: 0.745219\n",
      "\n"
     ]
    },
    {
     "name": "stderr",
     "output_type": "stream",
     "text": [
      "train minibatch loop: 100%|██████████| 2463/2463 [00:25<00:00, 95.28it/s, accuracy=0.857, cost=0.494]\n",
      "test minibatch loop: 100%|██████████| 616/616 [00:02<00:00, 217.01it/s, accuracy=0.783, cost=0.588]\n",
      "train minibatch loop:   0%|          | 10/2463 [00:00<00:26, 92.33it/s, accuracy=0.719, cost=0.751]"
     ]
    },
    {
     "name": "stdout",
     "output_type": "stream",
     "text": [
      "epoch: 34, pass acc: 0.745219, current acc: 0.745472\n",
      "time taken: 28.691425800323486\n",
      "epoch: 34, training loss: 0.646621, training acc: 0.782729, valid loss: 0.750589, valid acc: 0.745472\n",
      "\n"
     ]
    },
    {
     "name": "stderr",
     "output_type": "stream",
     "text": [
      "train minibatch loop: 100%|██████████| 2463/2463 [00:25<00:00, 95.21it/s, accuracy=0.857, cost=0.492]\n",
      "test minibatch loop: 100%|██████████| 616/616 [00:02<00:00, 219.42it/s, accuracy=0.783, cost=0.584]\n",
      "train minibatch loop:   0%|          | 9/2463 [00:00<00:28, 86.17it/s, accuracy=0.812, cost=0.652]"
     ]
    },
    {
     "name": "stdout",
     "output_type": "stream",
     "text": [
      "epoch: 35, pass acc: 0.745472, current acc: 0.745777\n",
      "time taken: 28.678489685058594\n",
      "epoch: 35, training loss: 0.643844, training acc: 0.783516, valid loss: 0.750068, valid acc: 0.745777\n",
      "\n"
     ]
    },
    {
     "name": "stderr",
     "output_type": "stream",
     "text": [
      "train minibatch loop: 100%|██████████| 2463/2463 [00:25<00:00, 95.54it/s, accuracy=0.857, cost=0.491]\n",
      "test minibatch loop: 100%|██████████| 616/616 [00:02<00:00, 214.17it/s, accuracy=0.783, cost=0.581]\n",
      "train minibatch loop:   0%|          | 10/2463 [00:00<00:25, 94.90it/s, accuracy=0.719, cost=0.746]"
     ]
    },
    {
     "name": "stdout",
     "output_type": "stream",
     "text": [
      "time taken: 28.657948970794678\n",
      "epoch: 36, training loss: 0.641184, training acc: 0.784607, valid loss: 0.749637, valid acc: 0.745574\n",
      "\n"
     ]
    },
    {
     "name": "stderr",
     "output_type": "stream",
     "text": [
      "train minibatch loop: 100%|██████████| 2463/2463 [00:25<00:00, 95.24it/s, accuracy=0.857, cost=0.489] \n",
      "test minibatch loop: 100%|██████████| 616/616 [00:02<00:00, 215.19it/s, accuracy=0.783, cost=0.578]\n",
      "train minibatch loop:   0%|          | 10/2463 [00:00<00:24, 98.59it/s, accuracy=0.719, cost=0.743]"
     ]
    },
    {
     "name": "stdout",
     "output_type": "stream",
     "text": [
      "time taken: 28.724912405014038\n",
      "epoch: 37, training loss: 0.638633, training acc: 0.785609, valid loss: 0.749287, valid acc: 0.745574\n",
      "\n"
     ]
    },
    {
     "name": "stderr",
     "output_type": "stream",
     "text": [
      "train minibatch loop: 100%|██████████| 2463/2463 [00:25<00:00, 94.77it/s, accuracy=0.857, cost=0.488]\n",
      "test minibatch loop: 100%|██████████| 616/616 [00:02<00:00, 217.93it/s, accuracy=0.783, cost=0.575]"
     ]
    },
    {
     "name": "stdout",
     "output_type": "stream",
     "text": [
      "time taken: 28.819119691848755\n",
      "epoch: 38, training loss: 0.636182, training acc: 0.786624, valid loss: 0.749011, valid acc: 0.745269\n",
      "\n",
      "break epoch:39\n",
      "\n"
     ]
    },
    {
     "name": "stderr",
     "output_type": "stream",
     "text": [
      "\n"
     ]
    }
   ],
   "source": [
    "from tqdm import tqdm\n",
    "import time\n",
    "\n",
    "batch_size = 32\n",
    "EARLY_STOPPING, CURRENT_CHECKPOINT, CURRENT_ACC, EPOCH = 3, 0, 0, 0\n",
    "\n",
    "while True:\n",
    "    lasttime = time.time()\n",
    "    if CURRENT_CHECKPOINT == EARLY_STOPPING:\n",
    "        print('break epoch:%d\\n' % (EPOCH))\n",
    "        break\n",
    "\n",
    "    train_acc, train_loss, test_acc, test_loss = 0, 0, 0, 0\n",
    "    pbar = tqdm(\n",
    "        range(0, train_X.shape[0], batch_size), desc = 'train minibatch loop'\n",
    "    )\n",
    "    for i in pbar:\n",
    "        batch_x = convert_sparse_matrix_to_sparse_tensor(train_X[i : min(i + batch_size, train_X.shape[0])])\n",
    "        batch_y = train_Y[i : min(i + batch_size, train_X.shape[0])]\n",
    "        batch_x_expand = np.expand_dims(batch_x,axis = 1)\n",
    "        acc, cost, _ = sess.run(\n",
    "            [model.accuracy, model.cost, model.optimizer],\n",
    "            feed_dict = {\n",
    "                model.Y: batch_y,\n",
    "                model.X: batch_x[0],\n",
    "                model.W: batch_x[1],\n",
    "            },\n",
    "        )\n",
    "        assert not np.isnan(cost)\n",
    "        train_loss += cost\n",
    "        train_acc += acc\n",
    "        pbar.set_postfix(cost = cost, accuracy = acc)\n",
    "\n",
    "    pbar = tqdm(range(0, test_X.shape[0], batch_size), desc = 'test minibatch loop')\n",
    "    for i in pbar:\n",
    "        batch_x = convert_sparse_matrix_to_sparse_tensor(test_X[i : min(i + batch_size, test_X.shape[0])])\n",
    "        batch_y = test_Y[i : min(i + batch_size, test_X.shape[0])]\n",
    "        batch_x_expand = np.expand_dims(batch_x,axis = 1)\n",
    "        acc, cost = sess.run(\n",
    "            [model.accuracy, model.cost],\n",
    "            feed_dict = {\n",
    "                model.Y: batch_y,\n",
    "                model.X: batch_x[0],\n",
    "                model.W: batch_x[1],\n",
    "            },\n",
    "        )\n",
    "        test_loss += cost\n",
    "        test_acc += acc\n",
    "        pbar.set_postfix(cost = cost, accuracy = acc)\n",
    "\n",
    "    train_loss /= train_X.shape[0] / batch_size\n",
    "    train_acc /= train_X.shape[0] / batch_size\n",
    "    test_loss /= test_X.shape[0] / batch_size\n",
    "    test_acc /= test_X.shape[0] / batch_size\n",
    "\n",
    "    if test_acc > CURRENT_ACC:\n",
    "        print(\n",
    "            'epoch: %d, pass acc: %f, current acc: %f'\n",
    "            % (EPOCH, CURRENT_ACC, test_acc)\n",
    "        )\n",
    "        CURRENT_ACC = test_acc\n",
    "        CURRENT_CHECKPOINT = 0\n",
    "    else:\n",
    "        CURRENT_CHECKPOINT += 1\n",
    "\n",
    "    print('time taken:', time.time() - lasttime)\n",
    "    print(\n",
    "        'epoch: %d, training loss: %f, training acc: %f, valid loss: %f, valid acc: %f\\n'\n",
    "        % (EPOCH, train_loss, train_acc, test_loss, test_acc)\n",
    "    )\n",
    "    EPOCH += 1"
   ]
  },
  {
   "cell_type": "code",
   "execution_count": 16,
   "metadata": {},
   "outputs": [
    {
     "name": "stderr",
     "output_type": "stream",
     "text": [
      "validation minibatch loop: 100%|██████████| 616/616 [00:01<00:00, 420.11it/s]\n"
     ]
    }
   ],
   "source": [
    "real_Y, predict_Y = [], []\n",
    "\n",
    "pbar = tqdm(\n",
    "    range(0, test_X.shape[0], batch_size), desc = 'validation minibatch loop'\n",
    ")\n",
    "for i in pbar:\n",
    "    batch_x = convert_sparse_matrix_to_sparse_tensor(test_X[i : min(i + batch_size, test_X.shape[0])])\n",
    "    batch_y = test_Y[i : min(i + batch_size, test_X.shape[0])]\n",
    "    predict_Y += np.argmax(\n",
    "        sess.run(\n",
    "            model.logits, feed_dict = {model.X: batch_x[0], model.W: batch_x[1], model.Y: batch_y}\n",
    "        ),\n",
    "        1,\n",
    "    ).tolist()\n",
    "    real_Y += batch_y.tolist()"
   ]
  },
  {
   "cell_type": "code",
   "execution_count": 17,
   "metadata": {},
   "outputs": [
    {
     "name": "stdout",
     "output_type": "stream",
     "text": [
      "             precision    recall  f1-score   support\n",
      "\n",
      "      anger       0.79      0.75      0.77      3803\n",
      "       fear       0.73      0.73      0.73      3784\n",
      "        joy       0.71      0.77      0.74      3872\n",
      "       love       0.81      0.80      0.80      3052\n",
      "    sadness       0.72      0.70      0.71      3205\n",
      "   surprise       0.73      0.70      0.72      1987\n",
      "\n",
      "avg / total       0.75      0.74      0.75     19703\n",
      "\n"
     ]
    }
   ],
   "source": [
    "print(\n",
    "    metrics.classification_report(\n",
    "        real_Y, predict_Y, target_names = unique_labels\n",
    "    )\n",
    ")"
   ]
  },
  {
   "cell_type": "code",
   "execution_count": 18,
   "metadata": {},
   "outputs": [
    {
     "data": {
      "text/plain": [
       "array([[4.2693354e-03, 3.0179410e-03, 5.0122179e-03, 9.8567480e-01,\n",
       "        1.7875731e-03, 2.3805207e-04]], dtype=float32)"
      ]
     },
     "execution_count": 18,
     "metadata": {},
     "output_type": "execute_result"
    }
   ],
   "source": [
    "text = classification_textcleaning('kerajaan sebenarnya sangat sayangkan rakyatnya')\n",
    "transformed = bow_chars.transform([text[0]])\n",
    "batch_x = convert_sparse_matrix_to_sparse_tensor(transformed)\n",
    "sess.run(tf.nn.softmax(model.logits), feed_dict = {model.X: batch_x[0], model.W: batch_x[1]})"
   ]
  },
  {
   "cell_type": "code",
   "execution_count": 19,
   "metadata": {},
   "outputs": [
    {
     "data": {
      "text/plain": [
       "'fast-text-char/model.ckpt'"
      ]
     },
     "execution_count": 19,
     "metadata": {},
     "output_type": "execute_result"
    }
   ],
   "source": [
    "saver.save(sess, 'fast-text-char/model.ckpt')"
   ]
  },
  {
   "cell_type": "code",
   "execution_count": 20,
   "metadata": {},
   "outputs": [],
   "source": [
    "import pickle\n",
    "with open('vectorizer-sparse-emotion.pkl','wb') as fopen:\n",
    "    pickle.dump(bow_chars, fopen)"
   ]
  },
  {
   "cell_type": "code",
   "execution_count": null,
   "metadata": {},
   "outputs": [],
   "source": []
  }
 ],
 "metadata": {
  "kernelspec": {
   "display_name": "Python 3",
   "language": "python",
   "name": "python3"
  },
  "language_info": {
   "codemirror_mode": {
    "name": "ipython",
    "version": 3
   },
   "file_extension": ".py",
   "mimetype": "text/x-python",
   "name": "python",
   "nbconvert_exporter": "python",
   "pygments_lexer": "ipython3",
   "version": "3.5.2"
  }
 },
 "nbformat": 4,
 "nbformat_minor": 2
}
