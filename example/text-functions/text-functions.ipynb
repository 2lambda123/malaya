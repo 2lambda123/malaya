{
  "cells": [
    {
      "cell_type": "code",
      "source": [
        "import malaya\n",
        "from malaya import text_functions"
      ],
      "outputs": [],
      "execution_count": 1,
      "metadata": {
        "collapsed": false,
        "outputHidden": false,
        "inputHidden": false
      }
    },
    {
      "cell_type": "code",
      "source": [
        "string = 'KUALA LUMPUR: Sempena sambutan Aidilfitri minggu depan, Perdana Menteri Tun Dr Mahathir Mohamad dan Menteri Pengangkutan Anthony Loke Siew Fook menitipkan pesanan khas kepada orang ramai yang mahu pulang ke kampung halaman masing-masing. Dalam video pendek terbitan Jabatan Keselamatan Jalan Raya (JKJR) itu, Dr Mahathir menasihati mereka supaya berhenti berehat dan tidur sebentar  sekiranya mengantuk ketika memandu.'"
      ],
      "outputs": [],
      "execution_count": 2,
      "metadata": {
        "collapsed": false,
        "outputHidden": false,
        "inputHidden": false
      }
    },
    {
      "cell_type": "code",
      "source": [
        "entities = malaya.deep_entities('concat')\n",
        "pos = malaya.deep_pos('concat')"
      ],
      "outputs": [
        {
          "output_type": "stream",
          "name": "stderr",
          "text": [
            "1.00MB [00:00, 5.49MB/s]                   \n",
            "3.00MB [00:00, 3.16MB/s]                          \n",
            "1.00MB [00:00, 1.83MB/s]                   \n",
            "6.00MB [00:01, 3.01MB/s]                          \n"
          ]
        },
        {
          "output_type": "stream",
          "name": "stdout",
          "text": [
            "downloading ENTITIES concat settings\n",
            "downloading ENTITIES frozen concat model\n",
            "downloading POS concat settings\n",
            "downloading POS frozen concat model\n"
          ]
        }
      ],
      "execution_count": 3,
      "metadata": {
        "collapsed": false,
        "outputHidden": false,
        "inputHidden": false
      }
    },
    {
      "cell_type": "code",
      "source": [
        "result_entities = entities.predict(string)\n",
        "result_entities[:10]"
      ],
      "outputs": [
        {
          "output_type": "execute_result",
          "execution_count": 4,
          "data": {
            "text/plain": [
              "[('kuala', 'location'),\n",
              " ('lumpur', 'location'),\n",
              " ('sempena', 'OTHER'),\n",
              " ('sambutan', 'OTHER'),\n",
              " ('aidilfitri', 'OTHER'),\n",
              " ('minggu', 'time'),\n",
              " ('depan', 'time'),\n",
              " ('perdana', 'person'),\n",
              " ('menteri', 'person'),\n",
              " ('tun', 'person')]"
            ]
          },
          "metadata": {}
        }
      ],
      "execution_count": 4,
      "metadata": {
        "collapsed": false,
        "outputHidden": false,
        "inputHidden": false
      }
    },
    {
      "cell_type": "code",
      "source": [
        "result_pos = pos.predict(string)\n",
        "result_pos[:10]"
      ],
      "outputs": [
        {
          "output_type": "execute_result",
          "execution_count": 5,
          "data": {
            "text/plain": [
              "[('kuala', 'PROPN'),\n",
              " ('lumpur', 'PROPN'),\n",
              " ('sempena', 'PROPN'),\n",
              " ('sambutan', 'NOUN'),\n",
              " ('aidilfitri', 'PROPN'),\n",
              " ('minggu', 'PROPN'),\n",
              " ('depan', 'ADJ'),\n",
              " ('perdana', 'PROPN'),\n",
              " ('menteri', 'NOUN'),\n",
              " ('tun', 'PROPN')]"
            ]
          },
          "metadata": {}
        }
      ],
      "execution_count": 5,
      "metadata": {
        "collapsed": false,
        "outputHidden": false,
        "inputHidden": false
      }
    },
    {
      "cell_type": "code",
      "source": [
        "text_functions.cluster_pos(result_pos)"
      ],
      "outputs": [
        {
          "output_type": "execute_result",
          "execution_count": 6,
          "data": {
            "text/plain": [
              "{'ADJ': ['depan', 'khas', 'ramai', 'masing-masing', 'pendek', 'mengantuk'],\n",
              " 'ADP': ['kepada', 'ke'],\n",
              " 'ADV': ['mahu', 'dalam', 'sebentar'],\n",
              " 'ADX': [],\n",
              " 'CCONJ': ['dan'],\n",
              " 'DET': ['itu'],\n",
              " 'NOUN': ['sambutan',\n",
              "  'menteri',\n",
              "  'pesanan',\n",
              "  'orang',\n",
              "  'kampung halaman',\n",
              "  'video',\n",
              "  'terbitan jabatan',\n",
              "  'menasihati',\n",
              "  'tidur',\n",
              "  'sekiranya'],\n",
              " 'NUM': [],\n",
              " 'PART': [],\n",
              " 'PRON': ['yang', 'mereka'],\n",
              " 'PROPN': ['kuala lumpur sempena',\n",
              "  'aidilfitri minggu',\n",
              "  'perdana',\n",
              "  'tun dr mahathir mohamad',\n",
              "  'pengangkutan anthony loke siew fook menitipkan',\n",
              "  'keselamatan jalan raya jkjr',\n",
              "  'dr mahathir',\n",
              "  'berehat'],\n",
              " 'SCONJ': ['supaya', 'ketika'],\n",
              " 'SYM': [],\n",
              " 'VERB': ['pulang', 'berhenti'],\n",
              " 'X': []}"
            ]
          },
          "metadata": {}
        }
      ],
      "execution_count": 6,
      "metadata": {
        "collapsed": false,
        "outputHidden": false,
        "inputHidden": false
      }
    },
    {
      "cell_type": "code",
      "source": [
        "text_functions.cluster_entities(result_entities)"
      ],
      "outputs": [
        {
          "output_type": "execute_result",
          "execution_count": 7,
          "data": {
            "text/plain": [
              "{'OTHER': ['sempena sambutan aidilfitri',\n",
              "  'dan menteri pengangkutan',\n",
              "  'menitipkan pesanan khas kepada orang ramai yang mahu pulang ke kampung halaman masing-masing dalam video pendek terbitan',\n",
              "  'itu'],\n",
              " 'law': [],\n",
              " 'location': ['kuala lumpur'],\n",
              " 'organization': ['jabatan keselamatan jalan raya jkjr'],\n",
              " 'person': ['perdana menteri tun dr mahathir mohamad',\n",
              "  'anthony loke siew fook',\n",
              "  'dr mahathir'],\n",
              " 'quantity': [],\n",
              " 'time': ['minggu depan']}"
            ]
          },
          "metadata": {}
        }
      ],
      "execution_count": 7,
      "metadata": {
        "collapsed": false,
        "outputHidden": false,
        "inputHidden": false
      }
    },
    {
      "cell_type": "code",
      "source": [
        "ngram = text_functions.generate_ngram(result_pos,result_entities)\n",
        "ngram"
      ],
      "outputs": [
        {
          "output_type": "execute_result",
          "execution_count": 13,
          "data": {
            "text/plain": [
              "['raya jkjr dr',\n",
              " 'mahathir mohamad',\n",
              " 'perdana menteri',\n",
              " 'minggu depan perdana',\n",
              " 'jabatan keselamatan jalan',\n",
              " 'sempena',\n",
              " 'pulang kampung',\n",
              " 'menitipkan pesanan orang',\n",
              " 'dr',\n",
              " 'menitipkan',\n",
              " 'menasihati',\n",
              " 'tidur sekiranya',\n",
              " 'loke siew',\n",
              " 'kuala',\n",
              " 'mahathir',\n",
              " 'pesanan',\n",
              " 'perdana',\n",
              " 'sempena sambutan',\n",
              " 'kampung halaman video',\n",
              " 'menteri tun',\n",
              " 'pulang kampung halaman',\n",
              " 'perdana menteri tun',\n",
              " 'menasihati berhenti berehat',\n",
              " 'mahathir mohamad menteri',\n",
              " 'anthony loke',\n",
              " 'tun',\n",
              " 'berhenti berehat tidur',\n",
              " 'depan perdana menteri',\n",
              " 'berehat',\n",
              " 'jkjr dr mahathir',\n",
              " 'terbitan jabatan',\n",
              " 'raya jkjr',\n",
              " 'mohamad',\n",
              " 'video terbitan',\n",
              " 'sekiranya',\n",
              " 'sekiranya memandu',\n",
              " 'orang pulang kampung',\n",
              " 'loke',\n",
              " 'fook menitipkan',\n",
              " 'orang pulang',\n",
              " 'lumpur sempena',\n",
              " 'loke siew fook',\n",
              " 'halaman video terbitan',\n",
              " 'berehat tidur sekiranya',\n",
              " 'kampung',\n",
              " 'lumpur sempena sambutan',\n",
              " 'sambutan aidilfitri',\n",
              " 'menitipkan pesanan',\n",
              " 'menteri pengangkutan anthony',\n",
              " 'video terbitan jabatan',\n",
              " 'memandu',\n",
              " 'siew',\n",
              " 'mohamad menteri pengangkutan',\n",
              " 'keselamatan',\n",
              " 'siew fook',\n",
              " 'anthony loke siew',\n",
              " 'dr mahathir',\n",
              " 'berhenti',\n",
              " 'jalan raya',\n",
              " 'aidilfitri minggu',\n",
              " 'berehat tidur',\n",
              " 'fook menitipkan pesanan',\n",
              " 'pesanan orang pulang',\n",
              " 'orang',\n",
              " 'halaman',\n",
              " 'dr mahathir mohamad',\n",
              " 'sambutan aidilfitri minggu',\n",
              " 'kuala lumpur',\n",
              " 'dr mahathir menasihati',\n",
              " 'aidilfitri',\n",
              " 'fook',\n",
              " 'pengangkutan',\n",
              " 'video',\n",
              " 'menteri',\n",
              " 'lumpur',\n",
              " 'mohamad menteri',\n",
              " 'jabatan keselamatan',\n",
              " 'kampung halaman',\n",
              " 'jabatan',\n",
              " 'pulang',\n",
              " 'tidur',\n",
              " 'pesanan orang',\n",
              " 'mahathir menasihati',\n",
              " 'jalan raya jkjr',\n",
              " 'pengangkutan anthony loke',\n",
              " 'sambutan',\n",
              " 'menasihati berhenti',\n",
              " 'menteri tun dr',\n",
              " 'kuala lumpur sempena',\n",
              " 'mahathir menasihati berhenti',\n",
              " 'depan',\n",
              " 'terbitan jabatan keselamatan',\n",
              " 'jalan',\n",
              " 'pengangkutan anthony',\n",
              " 'sempena sambutan aidilfitri',\n",
              " 'jkjr',\n",
              " 'anthony',\n",
              " 'depan perdana',\n",
              " 'keselamatan jalan raya',\n",
              " 'jkjr dr',\n",
              " 'aidilfitri minggu depan',\n",
              " 'siew fook menitipkan',\n",
              " 'terbitan',\n",
              " 'tun dr mahathir',\n",
              " 'raya',\n",
              " 'halaman video',\n",
              " 'minggu',\n",
              " 'berhenti berehat',\n",
              " 'minggu depan',\n",
              " 'keselamatan jalan',\n",
              " 'tidur sekiranya memandu',\n",
              " 'menteri pengangkutan',\n",
              " 'tun dr']"
            ]
          },
          "metadata": {}
        }
      ],
      "execution_count": 13,
      "metadata": {
        "collapsed": false,
        "outputHidden": false,
        "inputHidden": false
      }
    },
    {
      "cell_type": "code",
      "source": [
        "text_functions.cluster_words(ngram)"
      ],
      "outputs": [
        {
          "output_type": "execute_result",
          "execution_count": 14,
          "data": {
            "text/plain": [
              "['raya jkjr dr',\n",
              " 'menteri tun dr',\n",
              " 'dr mahathir mohamad',\n",
              " 'sambutan aidilfitri minggu',\n",
              " 'minggu depan perdana',\n",
              " 'mahathir menasihati berhenti',\n",
              " 'kuala lumpur sempena',\n",
              " 'dr mahathir menasihati',\n",
              " 'jabatan keselamatan jalan',\n",
              " 'orang pulang kampung',\n",
              " 'loke siew fook',\n",
              " 'halaman video terbitan',\n",
              " 'menitipkan pesanan orang',\n",
              " 'terbitan jabatan keselamatan',\n",
              " 'berehat tidur sekiranya',\n",
              " 'sempena sambutan aidilfitri',\n",
              " 'kampung halaman video',\n",
              " 'lumpur sempena sambutan',\n",
              " 'menteri pengangkutan anthony',\n",
              " 'video terbitan jabatan',\n",
              " 'keselamatan jalan raya',\n",
              " 'pulang kampung halaman',\n",
              " 'perdana menteri tun',\n",
              " 'aidilfitri minggu depan',\n",
              " 'menasihati berhenti berehat',\n",
              " 'mahathir mohamad menteri',\n",
              " 'mohamad menteri pengangkutan',\n",
              " 'siew fook menitipkan',\n",
              " 'anthony loke siew',\n",
              " 'berhenti berehat tidur',\n",
              " 'depan perdana menteri',\n",
              " 'tun dr mahathir',\n",
              " 'jalan raya jkjr',\n",
              " 'jkjr dr mahathir',\n",
              " 'pengangkutan anthony loke',\n",
              " 'fook menitipkan pesanan',\n",
              " 'tidur sekiranya memandu',\n",
              " 'pesanan orang pulang']"
            ]
          },
          "metadata": {}
        }
      ],
      "execution_count": 14,
      "metadata": {
        "collapsed": false,
        "outputHidden": false,
        "inputHidden": false
      }
    },
    {
      "cell_type": "code",
      "source": [],
      "outputs": [],
      "execution_count": null,
      "metadata": {
        "collapsed": false,
        "outputHidden": false,
        "inputHidden": false
      }
    }
  ],
  "metadata": {
    "kernel_info": {
      "name": "python3"
    },
    "language_info": {
      "name": "python",
      "version": "3.6.5",
      "mimetype": "text/x-python",
      "codemirror_mode": {
        "name": "ipython",
        "version": 3
      },
      "pygments_lexer": "ipython3",
      "nbconvert_exporter": "python",
      "file_extension": ".py"
    },
    "kernelspec": {
      "name": "python3",
      "language": "python",
      "display_name": "Python 3"
    },
    "nteract": {
      "version": "0.12.3"
    }
  },
  "nbformat": 4,
  "nbformat_minor": 4
}