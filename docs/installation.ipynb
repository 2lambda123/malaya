{
 "cells": [
  {
   "cell_type": "markdown",
   "metadata": {},
   "source": [
    "## Installation"
   ]
  },
  {
   "cell_type": "markdown",
   "metadata": {},
   "source": [
    "### Using PIP"
   ]
  },
  {
   "cell_type": "markdown",
   "metadata": {},
   "source": [
    "Simply use PIP to install malaya,\n",
    "\n",
    "```bash\n",
    "pip3 install malaya\n",
    "```\n",
    "\n",
    "It will automatically all dependencies except for Tensorflow and PyTorch. So you can choose your own Tensorflow CPU / GPU version and PyTorch CPU / GPU version.\n",
    "\n",
    "Make sure **Tensorflow >= 1.15.0**, and **PyTorch >= 1.10**."
   ]
  },
  {
   "cell_type": "markdown",
   "metadata": {},
   "source": [
    "### Getting started"
   ]
  },
  {
   "cell_type": "code",
   "execution_count": 1,
   "metadata": {},
   "outputs": [],
   "source": [
    "import malaya"
   ]
  },
  {
   "cell_type": "markdown",
   "metadata": {},
   "source": [
    "If no error or warning, you are good to go!"
   ]
  },
  {
   "cell_type": "markdown",
   "metadata": {},
   "source": [
    "### Simple sentiment analysis"
   ]
  },
  {
   "cell_type": "code",
   "execution_count": 6,
   "metadata": {},
   "outputs": [],
   "source": [
    "model = malaya.sentiment.transformer(model = 'tiny-albert')"
   ]
  },
  {
   "cell_type": "code",
   "execution_count": 8,
   "metadata": {},
   "outputs": [
    {
     "data": {
      "text/html": [
       "<div style=\"width:100%;height:500px\"><div style=\"position:relative;width:100%;height:0;padding-bottom:1;\"><iframe srcdoc=\"&lt;html lang=&quot;en&quot;&gt;\n",
       "\n",
       "&lt;head&gt;\n",
       "  &lt;meta name=&quot;viewport&quot; content=&quot;width=device-width, initial-scale=1&quot;&gt;\n",
       "  &lt;title&gt;Malaya&lt;/title&gt;\n",
       "  &lt;link href=&quot;https://cdn.jsdelivr.net/gh/huseinzol05/malaya/malaya/function/web/static/admin-materialize.min.css&quot;\n",
       "    rel=&quot;stylesheet&quot;&gt;\n",
       "  &lt;link href=&quot;https://fonts.googleapis.com/icon?family=Material+Icons&quot; rel=&quot;stylesheet&quot;&gt;\n",
       "  &lt;link href=&quot;https://afeld.github.io/emoji-css/emoji.css&quot; rel=&quot;stylesheet&quot;&gt;\n",
       "&lt;/head&gt;\n",
       "\n",
       "&lt;body&gt;\n",
       "  &lt;main&gt;\n",
       "    &lt;div class=&quot;container&quot;&gt;\n",
       "      &lt;h4&gt;sentiment-v2 classification&lt;/h4&gt;\n",
       "      &lt;div class=&quot;row&quot;&gt;\n",
       "        &lt;div class=&quot;col l4 m4 s12&quot;&gt;\n",
       "          &lt;div id=&quot;count&quot; style=&quot;height: 300px;&quot;&gt;&lt;/div&gt;\n",
       "        &lt;/div&gt;\n",
       "        &lt;div class=&quot;col l4 m4 s12&quot;&gt;\n",
       "          &lt;div id=&quot;histogram&quot; style=&quot;height: 300px;&quot;&gt;&lt;/div&gt;\n",
       "        &lt;/div&gt;\n",
       "        &lt;div class=&quot;col l4 m4 s12&quot;&gt;\n",
       "          &lt;div id=&quot;entropy&quot; style=&quot;height: 300px;&quot;&gt;&lt;/div&gt;\n",
       "        &lt;/div&gt;\n",
       "      &lt;/div&gt;\n",
       "      &lt;div class=&quot;row&quot;&gt;\n",
       "        &lt;p&gt;&lt;mark style=&#x27;background-color:rgb(255, 238, 109)&#x27; class=&#x27;tooltipped&#x27; data-position=&#x27;bottom&#x27; data-tooltip=&quot;Positive &lt;i class=&#x27;em em-smiley_cat&#x27;&gt;&lt;/i&gt; 0.116&lt;br&gt;Neutral &lt;i class=&#x27;em em-cat&#x27;&gt;&lt;/i&gt; 0.869&lt;br&gt;Negative &lt;i class=&#x27;em em-pouting_cat&#x27;&gt;&lt;/i&gt; 0.015&lt;br&gt;Attention &lt;i class=&#x27;em em-warning&#x27;&gt;&lt;/i&gt; 0.661&quot;&gt;Dia&lt;/mark&gt; &lt;mark style=&#x27;background-color:rgb(255, 238, 109)&#x27; class=&#x27;tooltipped&#x27; data-position=&#x27;bottom&#x27; data-tooltip=&quot;Positive &lt;i class=&#x27;em em-smiley_cat&#x27;&gt;&lt;/i&gt; 0.277&lt;br&gt;Neutral &lt;i class=&#x27;em em-cat&#x27;&gt;&lt;/i&gt; 0.687&lt;br&gt;Negative &lt;i class=&#x27;em em-pouting_cat&#x27;&gt;&lt;/i&gt; 0.036&lt;br&gt;Attention &lt;i class=&#x27;em em-warning&#x27;&gt;&lt;/i&gt; 0.048&quot;&gt;ni&lt;/mark&gt; &lt;mark style=&#x27;background-color:rgb(255, 238, 109)&#x27; class=&#x27;tooltipped&#x27; data-position=&#x27;bottom&#x27; data-tooltip=&quot;Positive &lt;i class=&#x27;em em-smiley_cat&#x27;&gt;&lt;/i&gt; 0.275&lt;br&gt;Neutral &lt;i class=&#x27;em em-cat&#x27;&gt;&lt;/i&gt; 0.703&lt;br&gt;Negative &lt;i class=&#x27;em em-pouting_cat&#x27;&gt;&lt;/i&gt; 0.022&lt;br&gt;Attention &lt;i class=&#x27;em em-warning&#x27;&gt;&lt;/i&gt; 0.053&quot;&gt;dlm&lt;/mark&gt; &lt;mark style=&#x27;background-color:rgb(255, 238, 109)&#x27; class=&#x27;tooltipped&#x27; data-position=&#x27;bottom&#x27; data-tooltip=&quot;Positive &lt;i class=&#x27;em em-smiley_cat&#x27;&gt;&lt;/i&gt; 0.237&lt;br&gt;Neutral &lt;i class=&#x27;em em-cat&#x27;&gt;&lt;/i&gt; 0.738&lt;br&gt;Negative &lt;i class=&#x27;em em-pouting_cat&#x27;&gt;&lt;/i&gt; 0.025&lt;br&gt;Attention &lt;i class=&#x27;em em-warning&#x27;&gt;&lt;/i&gt; 0.034&quot;&gt;pemerhatian&lt;/mark&gt; &lt;mark style=&#x27;background-color:rgb(255, 238, 109)&#x27; class=&#x27;tooltipped&#x27; data-position=&#x27;bottom&#x27; data-tooltip=&quot;Positive &lt;i class=&#x27;em em-smiley_cat&#x27;&gt;&lt;/i&gt; 0.308&lt;br&gt;Neutral &lt;i class=&#x27;em em-cat&#x27;&gt;&lt;/i&gt; 0.664&lt;br&gt;Negative &lt;i class=&#x27;em em-pouting_cat&#x27;&gt;&lt;/i&gt; 0.028&lt;br&gt;Attention &lt;i class=&#x27;em em-warning&#x27;&gt;&lt;/i&gt; 0.087&quot;&gt;kita,,,bole&lt;/mark&gt; &lt;mark style=&#x27;background-color:rgb(255, 238, 109)&#x27; class=&#x27;tooltipped&#x27; data-position=&#x27;bottom&#x27; data-tooltip=&quot;Positive &lt;i class=&#x27;em em-smiley_cat&#x27;&gt;&lt;/i&gt; 0.388&lt;br&gt;Neutral &lt;i class=&#x27;em em-cat&#x27;&gt;&lt;/i&gt; 0.587&lt;br&gt;Negative &lt;i class=&#x27;em em-pouting_cat&#x27;&gt;&lt;/i&gt; 0.025&lt;br&gt;Attention &lt;i class=&#x27;em em-warning&#x27;&gt;&lt;/i&gt; 0.024&quot;&gt;dkatakn&lt;/mark&gt; &lt;mark style=&#x27;background-color:rgb(255, 238, 109)&#x27; class=&#x27;tooltipped&#x27; data-position=&#x27;bottom&#x27; data-tooltip=&quot;Positive &lt;i class=&#x27;em em-smiley_cat&#x27;&gt;&lt;/i&gt; 0.097&lt;br&gt;Neutral &lt;i class=&#x27;em em-cat&#x27;&gt;&lt;/i&gt; 0.891&lt;br&gt;Negative &lt;i class=&#x27;em em-pouting_cat&#x27;&gt;&lt;/i&gt; 0.012&lt;br&gt;Attention &lt;i class=&#x27;em em-warning&#x27;&gt;&lt;/i&gt; 0.016&quot;&gt;&quot;gertak&lt;/mark&gt; &lt;mark style=&#x27;background-color:rgb(255, 238, 109)&#x27; class=&#x27;tooltipped&#x27; data-position=&#x27;bottom&#x27; data-tooltip=&quot;Positive &lt;i class=&#x27;em em-smiley_cat&#x27;&gt;&lt;/i&gt; 0.161&lt;br&gt;Neutral &lt;i class=&#x27;em em-cat&#x27;&gt;&lt;/i&gt; 0.828&lt;br&gt;Negative &lt;i class=&#x27;em em-pouting_cat&#x27;&gt;&lt;/i&gt; 0.011&lt;br&gt;Attention &lt;i class=&#x27;em em-warning&#x27;&gt;&lt;/i&gt; 0.011&quot;&gt;kuat&quot;,,,bhsa&lt;/mark&gt; &lt;mark style=&#x27;background-color:rgb(255, 238, 109)&#x27; class=&#x27;tooltipped&#x27; data-position=&#x27;bottom&#x27; data-tooltip=&quot;Positive &lt;i class=&#x27;em em-smiley_cat&#x27;&gt;&lt;/i&gt; 0.161&lt;br&gt;Neutral &lt;i class=&#x27;em em-cat&#x27;&gt;&lt;/i&gt; 0.831&lt;br&gt;Negative &lt;i class=&#x27;em em-pouting_cat&#x27;&gt;&lt;/i&gt; 0.008&lt;br&gt;Attention &lt;i class=&#x27;em em-warning&#x27;&gt;&lt;/i&gt; 0.006&quot;&gt;utra&lt;/mark&gt; &lt;mark style=&#x27;background-color:rgb(255, 238, 109)&#x27; class=&#x27;tooltipped&#x27; data-position=&#x27;bottom&#x27; data-tooltip=&quot;Positive &lt;i class=&#x27;em em-smiley_cat&#x27;&gt;&lt;/i&gt; 0.075&lt;br&gt;Neutral &lt;i class=&#x27;em em-cat&#x27;&gt;&lt;/i&gt; 0.919&lt;br&gt;Negative &lt;i class=&#x27;em em-pouting_cat&#x27;&gt;&lt;/i&gt; 0.006&lt;br&gt;Attention &lt;i class=&#x27;em em-warning&#x27;&gt;&lt;/i&gt; 0.003&quot;&gt;kta&lt;/mark&gt; &lt;mark style=&#x27;background-color:rgb(255, 238, 109)&#x27; class=&#x27;tooltipped&#x27; data-position=&#x27;bottom&#x27; data-tooltip=&quot;Positive &lt;i class=&#x27;em em-smiley_cat&#x27;&gt;&lt;/i&gt; 0.034&lt;br&gt;Neutral &lt;i class=&#x27;em em-cat&#x27;&gt;&lt;/i&gt; 0.961&lt;br&gt;Negative &lt;i class=&#x27;em em-pouting_cat&#x27;&gt;&lt;/i&gt; 0.004&lt;br&gt;Attention &lt;i class=&#x27;em em-warning&#x27;&gt;&lt;/i&gt; 0.004&quot;&gt;&quot;gempaq&lt;/mark&gt; &lt;mark style=&#x27;background-color:rgb(255, 238, 109)&#x27; class=&#x27;tooltipped&#x27; data-position=&#x27;bottom&#x27; data-tooltip=&quot;Positive &lt;i class=&#x27;em em-smiley_cat&#x27;&gt;&lt;/i&gt; 0.080&lt;br&gt;Neutral &lt;i class=&#x27;em em-cat&#x27;&gt;&lt;/i&gt; 0.914&lt;br&gt;Negative &lt;i class=&#x27;em em-pouting_cat&#x27;&gt;&lt;/i&gt; 0.006&lt;br&gt;Attention &lt;i class=&#x27;em em-warning&#x27;&gt;&lt;/i&gt; 0.051&quot;&gt;kuat&quot;,&lt;/mark&gt;&lt;/p&gt;\n",
       "      &lt;/div&gt;\n",
       "    &lt;/div&gt;\n",
       "  &lt;/main&gt;\n",
       "&lt;/body&gt;\n",
       "\n",
       "&lt;script src=&quot;https://code.jquery.com/jquery-3.4.1.slim.js&quot;&gt;&lt;/script&gt;\n",
       "&lt;script src=&quot;https://cdnjs.cloudflare.com/ajax/libs/materialize/1.0.0/js/materialize.min.js&quot;&gt;&lt;/script&gt;\n",
       "&lt;script src=&quot;https://cdn.jsdelivr.net/gh/huseinzol05/malaya/malaya/function/web/static/echarts.min.js&quot;&gt;&lt;/script&gt;\n",
       "\n",
       "&lt;script&gt;\n",
       "\n",
       "  var plot = echarts.init(document.getElementById(&#x27;count&#x27;));\n",
       "  var colors = [&#x27;rgb(143, 255, 113)&#x27;, &#x27;rgb(255, 238, 109)&#x27;, &#x27;rgb(255, 139, 118)&#x27;];\n",
       "\n",
       "  option = {\n",
       "    title: {\n",
       "      text: &#x27;Classes barplot&#x27;\n",
       "    },\n",
       "    tooltip: {\n",
       "      trigger: &#x27;axis&#x27;,\n",
       "      axisPointer: {\n",
       "        type: &#x27;cross&#x27;\n",
       "      }\n",
       "    },\n",
       "    data: [&#x27;Positive&#x27;, &#x27;Neutral&#x27;, &#x27;Negative&#x27;],\n",
       "    xAxis: {\n",
       "      type: &#x27;category&#x27;,\n",
       "      data: [&#x27;Positive&#x27;, &#x27;Neutral&#x27;, &#x27;Negative&#x27;]\n",
       "    },\n",
       "    yAxis: {\n",
       "      type: &#x27;value&#x27;,\n",
       "      splitLine: {\n",
       "        show: false\n",
       "      }\n",
       "    },\n",
       "    series: [{\n",
       "      data: [2, &#x27;-&#x27;, &#x27;-&#x27;],\n",
       "      stack: &#x27;1&#x27;,\n",
       "      type: &#x27;bar&#x27;,\n",
       "      name: &#x27;Positive&#x27;,\n",
       "      color: colors[0],\n",
       "      label: {\n",
       "        normal: {\n",
       "          show: true,\n",
       "          position: &#x27;top&#x27;\n",
       "        }\n",
       "      },\n",
       "    },\n",
       "    {\n",
       "      data: [&#x27;-&#x27;, 12, &#x27;-&#x27;],\n",
       "      type: &#x27;bar&#x27;,\n",
       "      stack: &#x27;1&#x27;,\n",
       "      name: &#x27;Neutral&#x27;,\n",
       "      color: colors[1],\n",
       "      label: {\n",
       "        normal: {\n",
       "          show: true,\n",
       "          position: &#x27;top&#x27;\n",
       "        }\n",
       "      },\n",
       "    },\n",
       "    {\n",
       "      data: [&#x27;-&#x27;, &#x27;-&#x27;, 0],\n",
       "      type: &#x27;bar&#x27;,\n",
       "      stack: &#x27;1&#x27;,\n",
       "      name: &#x27;Negative&#x27;,\n",
       "      color: colors[2],\n",
       "      label: {\n",
       "        normal: {\n",
       "          show: true,\n",
       "          position: &#x27;top&#x27;\n",
       "        }\n",
       "      },\n",
       "    }\n",
       "    ]\n",
       "  };\n",
       "  plot.setOption(option = option)\n",
       "\n",
       "  option = {\n",
       "    tooltip: {\n",
       "      trigger: &#x27;axis&#x27;,\n",
       "      axisPointer: {\n",
       "        type: &#x27;cross&#x27;\n",
       "      }\n",
       "    },\n",
       "    title: {\n",
       "      text: &#x27;probability histogram&#x27;\n",
       "    },\n",
       "    xAxis: {\n",
       "      type: &#x27;category&#x27;,\n",
       "      data: [0.0, 0.01, 0.02, 0.03, 0.04, 0.05, 0.06, 0.07, 0.08, 0.09, 0.1, 0.11, 0.12, 0.13, 0.14, 0.15, 0.16, 0.17, 0.18, 0.19, 0.2, 0.21, 0.22, 0.23, 0.24, 0.25, 0.26, 0.27, 0.28, 0.29, 0.3, 0.31, 0.32, 0.33, 0.34, 0.35000000000000003, 0.36, 0.37, 0.38, 0.39, 0.4, 0.41000000000000003, 0.42, 0.43, 0.44, 0.45, 0.46, 0.47000000000000003, 0.48, 0.49, 0.5, 0.51, 0.52, 0.53, 0.54, 0.55, 0.56, 0.5700000000000001, 0.58, 0.59, 0.6, 0.61, 0.62, 0.63, 0.64, 0.65, 0.66, 0.67, 0.68, 0.6900000000000001, 0.7000000000000001, 0.71, 0.72, 0.73, 0.74, 0.75, 0.76, 0.77, 0.78, 0.79, 0.8, 0.81, 0.8200000000000001, 0.8300000000000001, 0.84, 0.85, 0.86, 0.87, 0.88, 0.89, 0.9, 0.91, 0.92, 0.93, 0.9400000000000001, 0.9500000000000001, 0.96, 0.97, 0.98, 0.99, 1.0]\n",
       "    },\n",
       "    yAxis: {\n",
       "      type: &#x27;value&#x27;,\n",
       "      splitLine: {\n",
       "        show: false\n",
       "      }\n",
       "    },\n",
       "    series: [{\n",
       "      data: [0.0, 0.0, 0.0, 0.0, 0.0, 0.0, 0.0, 0.0, 0.0, 0.0, 0.0, 0.0, 0.0, 0.0, 0.0, 0.0, 0.0, 0.0, 0.0, 0.0, 0.0, 0.0, 0.0, 0.0, 0.0, 0.0, 0.0, 0.0, 0.0, 0.0, 0.0, 0.0, 0.0, 0.0, 0.0, 0.0, 0.0, 0.0, 0.0, 0.0, 0.0, 0.0, 0.0, 0.0, 0.0, 0.0, 0.0, 0.0, 0.0, 0.0, 0.0, 0.0, 0.0, 0.0, 0.0, 0.0, 0.0, 0.0, 0.08333333333333333, 0.0, 0.0, 0.0, 0.0, 0.0, 0.0, 0.0, 0.08333333333333333, 0.0, 0.08333333333333333, 0.0, 0.08333333333333333, 0.0, 0.0, 0.08333333333333333, 0.0, 0.0, 0.0, 0.0, 0.0, 0.0, 0.0, 0.0, 0.08333333333333333, 0.08333333333333333, 0.0, 0.0, 0.08333333333333333, 0.0, 0.0, 0.08333333333333333, 0.0, 0.16666666666666666, 0.0, 0.0, 0.0, 0.0, 0.08333333333333333, 0.0, 0.0, 0.0],\n",
       "      type: &#x27;bar&#x27;\n",
       "    }]\n",
       "  };\n",
       "\n",
       "  var plot = echarts.init(document.getElementById(&#x27;histogram&#x27;));\n",
       "  plot.setOption(option = option)\n",
       "\n",
       "  option = {\n",
       "    title: {\n",
       "      text: &#x27;Attention&#x27;\n",
       "    },\n",
       "    tooltip: {\n",
       "      trigger: &#x27;axis&#x27;,\n",
       "      axisPointer: {\n",
       "        type: &#x27;cross&#x27;\n",
       "      }\n",
       "    },\n",
       "    xAxis: {\n",
       "      type: &#x27;category&#x27;,\n",
       "      name: &#x27;Sentence length&#x27;,\n",
       "      nameLocation: &#x27;center&#x27;,\n",
       "      nameGap: 30,\n",
       "      data: [0, 1, 2, 3, 4, 5, 6, 7, 8, 9, 10, 11]\n",
       "    },\n",
       "    yAxis: {\n",
       "      type: &#x27;value&#x27;,\n",
       "      splitLine: {\n",
       "        show: false\n",
       "      }\n",
       "    },\n",
       "    series: [{\n",
       "      data: [0.661210298538208, 0.04837701842188835, 0.052696723490953445, 0.03430647775530815, 0.08711126446723938, 0.024458669126033783, 0.01634932868182659, 0.010691449046134949, 0.006325720809400082, 0.003315841779112816, 0.0038952205795794725, 0.05126190930604935],\n",
       "      type: &#x27;line&#x27;,\n",
       "      showSymbol: false\n",
       "    }]\n",
       "  };\n",
       "\n",
       "  var plot = echarts.init(document.getElementById(&#x27;entropy&#x27;));\n",
       "  plot.setOption(option = option)\n",
       "\n",
       "  document.addEventListener(&#x27;DOMContentLoaded&#x27;, function () {\n",
       "    var elems = document.querySelectorAll(&#x27;.tooltipped&#x27;);\n",
       "    var instances = M.Tooltip.init(elems);\n",
       "  });\n",
       "\n",
       "&lt;/script&gt;\n",
       "\n",
       "&lt;/html&gt;\" style=\"position:absolute;width:100%;height:500px;left:0;top:0;border:none !important;\" allowfullscreen webkitallowfullscreen mozallowfullscreen></iframe></div></div>"
      ],
      "text/plain": [
       "<IPython.core.display.HTML object>"
      ]
     },
     "metadata": {},
     "output_type": "display_data"
    }
   ],
   "source": [
    "model.predict_words('Dia ni dlm pemerhatian kita,,,bole dkatakn \"gertak kuat\",,,bhsa utra kta \"gempaq kuat\",', bins_size = 0.01)"
   ]
  }
 ],
 "metadata": {
  "kernelspec": {
   "display_name": "Python 3",
   "language": "python",
   "name": "python3"
  },
  "language_info": {
   "codemirror_mode": {
    "name": "ipython",
    "version": 3
   },
   "file_extension": ".py",
   "mimetype": "text/x-python",
   "name": "python",
   "nbconvert_exporter": "python",
   "pygments_lexer": "ipython3",
   "version": "3.7.7"
  },
  "varInspector": {
   "cols": {
    "lenName": 16,
    "lenType": 16,
    "lenVar": 40
   },
   "kernels_config": {
    "python": {
     "delete_cmd_postfix": "",
     "delete_cmd_prefix": "del ",
     "library": "var_list.py",
     "varRefreshCmd": "print(var_dic_list())"
    },
    "r": {
     "delete_cmd_postfix": ") ",
     "delete_cmd_prefix": "rm(",
     "library": "var_list.r",
     "varRefreshCmd": "cat(var_dic_list()) "
    }
   },
   "types_to_exclude": [
    "module",
    "function",
    "builtin_function_or_method",
    "instance",
    "_Feature"
   ],
   "window_display": false
  }
 },
 "nbformat": 4,
 "nbformat_minor": 4
}
