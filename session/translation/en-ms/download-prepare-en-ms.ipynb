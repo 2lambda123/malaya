{
 "cells": [
  {
   "cell_type": "code",
   "execution_count": 1,
   "metadata": {},
   "outputs": [],
   "source": [
    "# x = \"\"\"\n",
    "# translation/malay-english/translated-0.json\n",
    "# translation/malay-english/translated-100000.json\n",
    "# translation/malay-english/translated-200000.json\n",
    "# translation/malay-english/translated-300000.json\n",
    "# translation/malay-english/translated-400000.json\n",
    "# translation/malay-english/translated-500000.json\n",
    "# translation/malay-english/translated-600000.json\n",
    "# translation/malay-english/translated-700000.json\n",
    "# translation/malay-english/translated-800000.json\n",
    "# translation/malay-english/translated-900000.json\n",
    "# translation/malay-english/translated-1000000.json\n",
    "# translation/malay-english/translated-1100000.json\n",
    "# translation/malay-english/translated-1200000.json\n",
    "# translation/malay-english/translated-1300000.json\n",
    "# translation/malay-english/translated-1400000.json\n",
    "# translation/malay-english/translated-1500000.json\n",
    "# translation/malay-english/translated-1600000.json\n",
    "# translation/malay-english/translated-1700000.json\n",
    "# translation/malay-english/translated-1800000.json\n",
    "# translation/malay-english/translated-1900000.json\n",
    "# translation/malay-english/translated-2000000.json\n",
    "# translation/malay-english/translated-2100000.json\n",
    "# translation/malay-english/translated-2200000.json\n",
    "# translation/malay-english/translated-2300000.json\n",
    "# translation/malay-english/translated-2400000.json\n",
    "# translation/malay-english/translated-2500000.json\n",
    "# translation/malay-english/translated-2600000.json\n",
    "# translation/malay-english/translated-2700000.json\n",
    "# translation/malay-english/translated-2800000.json\n",
    "# translation/malay-english/translated-2900000.json\n",
    "# translation/malay-english/translated-3000000.json\n",
    "# translation/malay-english/translated-3100000.json\n",
    "# translation/malay-english/translated-3200000.json\n",
    "# translation/malay-english/translated-3300000.json\n",
    "# translation/malay-english/translated-3400000.json\n",
    "# translation/malay-english/translated-3500000.json\n",
    "# \"\"\""
   ]
  },
  {
   "cell_type": "code",
   "execution_count": 2,
   "metadata": {},
   "outputs": [],
   "source": [
    "# import os\n",
    "# url = 'https://f000.backblazeb2.com/file/malay-dataset/'\n",
    "\n",
    "# for row in x.split('\\n'):\n",
    "#     if not len(row):\n",
    "#         continue\n",
    "#     link = f'{url}{row}'\n",
    "#     os.system(f'wget {link}')"
   ]
  },
  {
   "cell_type": "code",
   "execution_count": 3,
   "metadata": {},
   "outputs": [],
   "source": [
    "# !wget https://f000.backblazeb2.com/file/malay-dataset/translation/parliament/translated-trainset-parliament.json"
   ]
  },
  {
   "cell_type": "code",
   "execution_count": 4,
   "metadata": {},
   "outputs": [],
   "source": [
    "# !wget https://f000.backblazeb2.com/file/malay-dataset/translation/opus/gnome-ms-en.json X\n",
    "# !wget https://f000.backblazeb2.com/file/malay-dataset/translation/opus/kde4-ms-en.json X\n",
    "# !wget https://f000.backblazeb2.com/file/malay-dataset/translation/opus/opensubtitle-ms-en.json X\n",
    "# !wget https://f000.backblazeb2.com/file/malay-dataset/translation/opus/qed-ms-en.json\n",
    "# !wget https://f000.backblazeb2.com/file/malay-dataset/translation/opus/tanzil-ms-en.json\n",
    "# !wget https://f000.backblazeb2.com/file/malay-dataset/translation/opus/ubuntu-ms-en.json"
   ]
  },
  {
   "cell_type": "code",
   "execution_count": 5,
   "metadata": {},
   "outputs": [],
   "source": [
    "import json\n",
    "\n",
    "with open('translated-trainset-parliament.json') as fopen:\n",
    "    data = json.load(fopen)"
   ]
  },
  {
   "cell_type": "code",
   "execution_count": 6,
   "metadata": {},
   "outputs": [],
   "source": [
    "rejected = ['PERTANYAAN-PERTANYAAN JAWAB LISAN', 'PENGGAL KEEMPAT', 'PUSAT JAGAAN BERDAFTAR',\n",
    "           'BILANGAN PUSAT JAGAAN', 'pewan']"
   ]
  },
  {
   "cell_type": "code",
   "execution_count": 7,
   "metadata": {},
   "outputs": [
    {
     "name": "stdout",
     "output_type": "stream",
     "text": [
      "50460\n"
     ]
    }
   ],
   "source": [
    "selected, reject = [], []\n",
    "for row in data:\n",
    "    if any([r.lower() in row[0].lower() for r in rejected]):\n",
    "        reject.append(row)\n",
    "        continue\n",
    "    s = row[0]\n",
    "    if (sum(c.isdigit() for c in s) / len(s)) > 0.15:\n",
    "        reject.append(row)\n",
    "        continue\n",
    "    if sum(c.isalpha() for c in s) == 0:\n",
    "        reject.append(row)\n",
    "        continue\n",
    "    selected.append(row)\n",
    "    \n",
    "print(len(selected))\n",
    "x_parliament, y_parliament = list(zip(*selected))"
   ]
  },
  {
   "cell_type": "code",
   "execution_count": 8,
   "metadata": {},
   "outputs": [],
   "source": [
    "import random\n",
    "\n",
    "with open('ubuntu-ms-en.json') as fopen:\n",
    "    data = json.load(fopen)\n",
    "    \n",
    "X, Y = list(zip(*data))\n",
    "X = list(X)\n",
    "Y = list(Y)"
   ]
  },
  {
   "cell_type": "code",
   "execution_count": 9,
   "metadata": {},
   "outputs": [],
   "source": [
    "with open('qed-ms-en.json') as fopen:\n",
    "    data = json.load(fopen)\n",
    "    \n",
    "x, y = list(zip(*data))\n",
    "X.extend(x)\n",
    "Y.extend(y)"
   ]
  },
  {
   "cell_type": "code",
   "execution_count": 10,
   "metadata": {},
   "outputs": [],
   "source": [
    "with open('tanzil-ms-en.json') as fopen:\n",
    "    data = json.load(fopen)\n",
    "    \n",
    "x, y = list(zip(*data))\n",
    "X.extend(x)\n",
    "Y.extend(y)"
   ]
  },
  {
   "cell_type": "code",
   "execution_count": 11,
   "metadata": {},
   "outputs": [
    {
     "data": {
      "text/plain": [
       "['translated-3200000.json',\n",
       " 'translated-700000.json',\n",
       " 'translated-2100000.json',\n",
       " 'translated-3300000.json',\n",
       " 'translated-2300000.json',\n",
       " 'translated-2000000.json',\n",
       " 'translated-600000.json',\n",
       " 'translated-900000.json',\n",
       " 'translated-1000000.json',\n",
       " 'translated-1100000.json',\n",
       " 'translated-1900000.json',\n",
       " 'translated-500000.json',\n",
       " 'translated-1400000.json',\n",
       " 'translated-1500000.json',\n",
       " 'translated-2600000.json',\n",
       " 'translated-200000.json',\n",
       " 'translated-2900000.json',\n",
       " 'translated-3400000.json',\n",
       " 'translated-3500000.json',\n",
       " 'translated-2800000.json',\n",
       " 'translated-300000.json',\n",
       " 'translated-2500000.json',\n",
       " 'translated-3100000.json',\n",
       " 'translated-1300000.json',\n",
       " 'translated-2400000.json',\n",
       " 'translated-100000.json',\n",
       " 'translated-1600000.json',\n",
       " 'translated-2700000.json',\n",
       " 'translated-0.json',\n",
       " 'translated-800000.json',\n",
       " 'translated-1800000.json',\n",
       " 'translated-2200000.json',\n",
       " 'translated-1200000.json',\n",
       " 'translated-1700000.json',\n",
       " 'translated-3000000.json',\n",
       " 'translated-400000.json']"
      ]
     },
     "execution_count": 11,
     "metadata": {},
     "output_type": "execute_result"
    }
   ],
   "source": [
    "from glob import glob\n",
    "\n",
    "translated = glob('translated*0.json')\n",
    "translated"
   ]
  },
  {
   "cell_type": "code",
   "execution_count": 12,
   "metadata": {},
   "outputs": [],
   "source": [
    "for file in translated:\n",
    "    with open(file) as fopen:\n",
    "        data = json.load(fopen)\n",
    "\n",
    "    x, y = list(zip(*data))\n",
    "    X.extend(x)\n",
    "    Y.extend(y)"
   ]
  },
  {
   "cell_type": "code",
   "execution_count": 13,
   "metadata": {},
   "outputs": [],
   "source": [
    "# import os\n",
    "\n",
    "# prefix = 'https://f000.backblazeb2.com/file/malay-dataset/'\n",
    "# urls = \"\"\"\n",
    "# wiki-wizard/dialogs.translate\n",
    "# wiki-wizard/informations-0.json.translate\n",
    "# wiki-wizard/informations-100000.json.translate\n",
    "# wiki-wizard/informations-200000.json.translate\n",
    "# chatbot/convai2/convai2-0.json.translate\n",
    "# chatbot/convai2/convai2-100000.json.translate\n",
    "# paraphrase/funpedia/rephrase.json.translate\n",
    "# \"\"\"\n",
    "# for url in urls.split('\\n'):\n",
    "#     if len(url):\n",
    "#         print(url)\n",
    "#         os.system(f'wget {prefix}{url}')"
   ]
  },
  {
   "cell_type": "code",
   "execution_count": 14,
   "metadata": {},
   "outputs": [
    {
     "data": {
      "text/plain": [
       "['rephrase.json.translate',\n",
       " 'informations-100000.json.translate',\n",
       " 'dialogs.translate',\n",
       " 'informations-200000.json.translate',\n",
       " 'informations-0.json.translate',\n",
       " 'convai2-100000.json.translate',\n",
       " 'convai2-0.json.translate']"
      ]
     },
     "execution_count": 14,
     "metadata": {},
     "output_type": "execute_result"
    }
   ],
   "source": [
    "translated = glob('*.translate')\n",
    "translated"
   ]
  },
  {
   "cell_type": "code",
   "execution_count": 15,
   "metadata": {
    "scrolled": false
   },
   "outputs": [
    {
     "name": "stdout",
     "output_type": "stream",
     "text": [
      "informations-100000.json.translate 1.982215263559356\n",
      "dialogs.translate 2.4126386389843635\n",
      "informations-200000.json.translate 1.6322194321035348\n",
      "informations-0.json.translate 2.2543461041397426\n",
      "convai2-100000.json.translate 1.8807818751752086\n",
      "convai2-0.json.translate 2.149234888669429\n"
     ]
    }
   ],
   "source": [
    "x, y = [], []\n",
    "\n",
    "for t in translated:\n",
    "    \n",
    "    if 'rephrase.json' in t:\n",
    "        continue\n",
    "        \n",
    "    with open(t) as fopen:\n",
    "        data = json.load(fopen)\n",
    "        \n",
    "    count = 0\n",
    "    for no, row in enumerate(data):\n",
    "        splitted = row[0]['text'].split('<>')\n",
    "        splitted_bm = row[1].split('<>')\n",
    "        if len(splitted) != len(splitted_bm):\n",
    "            count += 1\n",
    "            continue\n",
    "            \n",
    "        y.append(row[0]['text'])\n",
    "        x.append(row[1])\n",
    "        \n",
    "        for k in range(len(splitted)):\n",
    "            y.append(splitted[k])\n",
    "            x.append(splitted_bm[k])\n",
    "        \n",
    "    print(t, count / len(data) * 100)"
   ]
  },
  {
   "cell_type": "code",
   "execution_count": 16,
   "metadata": {},
   "outputs": [
    {
     "data": {
      "text/plain": [
       "[('Dallas <> nama saya john dan saya tinggal di dallas, tx. <> Keistimewaan kota ini muncul dari kepentingan sejarahnya sebagai pusat industri minyak dan kapas, dan kedudukannya di sepanjang banyak landasan kereta api.',\n",
       "  \"Dallas <> my name is john and i live in dallas , tx. <> The city's prominence arose from its historical importance as a center for the oil and cotton industries, and its position along numerous railroad lines.\"),\n",
       " ('Dallas ', 'Dallas '),\n",
       " (' nama saya john dan saya tinggal di dallas, tx. ',\n",
       "  ' my name is john and i live in dallas , tx. '),\n",
       " (' Keistimewaan kota ini muncul dari kepentingan sejarahnya sebagai pusat industri minyak dan kapas, dan kedudukannya di sepanjang banyak landasan kereta api.',\n",
       "  \" The city's prominence arose from its historical importance as a center for the oil and cotton industries, and its position along numerous railroad lines.\"),\n",
       " ('Dallas <> nama saya john dan saya tinggal di dallas, tx. <> Sebahagian besar bandar berada di Dallas County, di mana ia adalah tempat duduk daerah; namun, bahagian bandar terletak di daerah Collin, Denton, Kaufman, dan Rockwall.',\n",
       "  'Dallas <> my name is john and i live in dallas , tx. <> The bulk of the city is in Dallas County, of which it is the county seat; however, sections of the city are located in Collin, Denton, Kaufman, and Rockwall counties.'),\n",
       " ('Dallas ', 'Dallas '),\n",
       " (' nama saya john dan saya tinggal di dallas, tx. ',\n",
       "  ' my name is john and i live in dallas , tx. '),\n",
       " (' Sebahagian besar bandar berada di Dallas County, di mana ia adalah tempat duduk daerah; namun, bahagian bandar terletak di daerah Collin, Denton, Kaufman, dan Rockwall.',\n",
       "  ' The bulk of the city is in Dallas County, of which it is the county seat; however, sections of the city are located in Collin, Denton, Kaufman, and Rockwall counties.'),\n",
       " ('Dallas <> nama saya john dan saya tinggal di dallas, tx. <> Menurut Banci Amerika Syarikat 2010, bandar ini mempunyai populasi 1,197,816.',\n",
       "  'Dallas <> my name is john and i live in dallas , tx. <> According to the 2010 United States Census, the city had a population of 1,197,816.'),\n",
       " ('Dallas ', 'Dallas '),\n",
       " (' nama saya john dan saya tinggal di dallas, tx. ',\n",
       "  ' my name is john and i live in dallas , tx. '),\n",
       " (' Menurut Banci Amerika Syarikat 2010, bandar ini mempunyai populasi 1,197,816.',\n",
       "  ' According to the 2010 United States Census, the city had a population of 1,197,816.'),\n",
       " ('Dallas <> nama saya john dan saya tinggal di dallas, tx. <> Anggaran Biro Banci Amerika Syarikat untuk penduduk bandar meningkat kepada 1,317,929 pada 1 Julai 2016.',\n",
       "  \"Dallas <> my name is john and i live in dallas , tx. <> The United States Census Bureau's estimate for the city's population increased to 1,317,929 as of July 1, 2016.\"),\n",
       " ('Dallas ', 'Dallas '),\n",
       " (' nama saya john dan saya tinggal di dallas, tx. ',\n",
       "  ' my name is john and i live in dallas , tx. '),\n",
       " (' Anggaran Biro Banci Amerika Syarikat untuk penduduk bandar meningkat kepada 1,317,929 pada 1 Julai 2016.',\n",
       "  \" The United States Census Bureau's estimate for the city's population increased to 1,317,929 as of July 1, 2016.\"),\n",
       " ('Dallas <> nama saya john dan saya tinggal di dallas, tx. <> Secara keseluruhan, kawasan metro Dallas – Fort Worth mempunyai peningkatan populasi kedua terbesar di antara kawasan metro di A.S., yang mencatatkan populasi 7,233,323 pada 1 Julai 2016, peningkatan 807,000 orang sejak banci 2010.',\n",
       "  'Dallas <> my name is john and i live in dallas , tx. <> Overall, the Dallas–Fort Worth metro area had the second largest population increase among metro areas in the U.S., which recorded a population of 7,233,323 as of July 1, 2016, an increase of 807,000 people since the 2010 census.'),\n",
       " ('Dallas ', 'Dallas '),\n",
       " (' nama saya john dan saya tinggal di dallas, tx. ',\n",
       "  ' my name is john and i live in dallas , tx. '),\n",
       " (' Secara keseluruhan, kawasan metro Dallas – Fort Worth mempunyai peningkatan populasi kedua terbesar di antara kawasan metro di A.S., yang mencatatkan populasi 7,233,323 pada 1 Julai 2016, peningkatan 807,000 orang sejak banci 2010.',\n",
       "  ' Overall, the Dallas–Fort Worth metro area had the second largest population increase among metro areas in the U.S., which recorded a population of 7,233,323 as of July 1, 2016, an increase of 807,000 people since the 2010 census.'),\n",
       " ('Dallas <> nama saya john dan saya tinggal di dallas, tx. <> Dari tahun 2010 hingga 2016, Dallas mencatat migrasi domestik bersih tertinggi di negara ini, melebihi 300,000.',\n",
       "  'Dallas <> my name is john and i live in dallas , tx. <> From 2010 to 2016, Dallas recorded the highest net domestic migration in the country, in excess of 300,000.'),\n",
       " ('Dallas ', 'Dallas '),\n",
       " (' nama saya john dan saya tinggal di dallas, tx. ',\n",
       "  ' my name is john and i live in dallas , tx. '),\n",
       " (' Dari tahun 2010 hingga 2016, Dallas mencatat migrasi domestik bersih tertinggi di negara ini, melebihi 300,000.',\n",
       "  ' From 2010 to 2016, Dallas recorded the highest net domestic migration in the country, in excess of 300,000.'),\n",
       " ('Dallas <> nama saya john dan saya tinggal di dallas, tx. <> Dallas adalah salah satu bandar yang paling pesat berkembang di Amerika Syarikat.',\n",
       "  'Dallas <> my name is john and i live in dallas , tx. <> Dallas is one of the fastest-growing cities in the United States.'),\n",
       " ('Dallas ', 'Dallas '),\n",
       " (' nama saya john dan saya tinggal di dallas, tx. ',\n",
       "  ' my name is john and i live in dallas , tx. '),\n",
       " (' Dallas adalah salah satu bandar yang paling pesat berkembang di Amerika Syarikat.',\n",
       "  ' Dallas is one of the fastest-growing cities in the United States.'),\n",
       " ('Asma <> saya menghidap asma. <> Ia dicirikan oleh simptom yang berubah-ubah dan berulang, halangan aliran udara yang boleh dibalikkan, dan bronkospasme.',\n",
       "  'Asthma <> i have asthma. <> It is characterized by variable and recurring symptoms, reversible airflow obstruction, and bronchospasm.'),\n",
       " ('Asma ', 'Asthma '),\n",
       " (' saya menghidap asma. ', ' i have asthma. '),\n",
       " (' Ia dicirikan oleh simptom yang berubah-ubah dan berulang, halangan aliran udara yang boleh dibalikkan, dan bronkospasme.',\n",
       "  ' It is characterized by variable and recurring symptoms, reversible airflow obstruction, and bronchospasm.'),\n",
       " ('Asma <> saya menghidap asma. <> Gejala termasuk episod mengi, batuk, sesak dada, dan sesak nafas.',\n",
       "  'Asthma <> i have asthma. <> Symptoms include episodes of wheezing, coughing, chest tightness, and shortness of breath.'),\n",
       " ('Asma ', 'Asthma '),\n",
       " (' saya menghidap asma. ', ' i have asthma. '),\n",
       " (' Gejala termasuk episod mengi, batuk, sesak dada, dan sesak nafas.',\n",
       "  ' Symptoms include episodes of wheezing, coughing, chest tightness, and shortness of breath.'),\n",
       " ('Asma <> saya menghidap asma. <> Asma adalah penyakit keradangan jangka panjang saluran udara paru-paru.',\n",
       "  'Asthma <> i have asthma. <> Asthma is a common long-term inflammatory disease of the airways of the lungs.'),\n",
       " ('Asma ', 'Asthma '),\n",
       " (' saya menghidap asma. ', ' i have asthma. '),\n",
       " (' Asma adalah penyakit keradangan jangka panjang saluran udara paru-paru.',\n",
       "  ' Asthma is a common long-term inflammatory disease of the airways of the lungs.'),\n",
       " ('Asma <> saya menghidap asma. <> Asma dianggap disebabkan oleh gabungan faktor genetik dan persekitaran.',\n",
       "  'Asthma <> i have asthma. <> Asthma is thought to be caused by a combination of genetic and environmental factors.'),\n",
       " ('Asma ', 'Asthma '),\n",
       " (' saya menghidap asma. ', ' i have asthma. '),\n",
       " (' Asma dianggap disebabkan oleh gabungan faktor genetik dan persekitaran.',\n",
       "  ' Asthma is thought to be caused by a combination of genetic and environmental factors.'),\n",
       " ('Asma <> saya menghidap asma. <> Ia juga boleh diklasifikasikan sebagai atopik atau bukan atopik, di mana atopi merujuk kepada kecenderungan untuk mengembangkan reaksi hipersensitiviti jenis 1.',\n",
       "  'Asthma <> i have asthma. <> It may also be classified as atopic or non-atopic, where atopy refers to a predisposition toward developing a type 1 hypersensitivity reaction.'),\n",
       " ('Asma ', 'Asthma '),\n",
       " (' saya menghidap asma. ', ' i have asthma. '),\n",
       " (' Ia juga boleh diklasifikasikan sebagai atopik atau bukan atopik, di mana atopi merujuk kepada kecenderungan untuk mengembangkan reaksi hipersensitiviti jenis 1.',\n",
       "  ' It may also be classified as atopic or non-atopic, where atopy refers to a predisposition toward developing a type 1 hypersensitivity reaction.'),\n",
       " ('Asma <> saya menghidap asma. <> Asma diklasifikasikan mengikut kekerapan gejala, jumlah paksa ekspirasi dalam satu saat (FEV1), dan kadar aliran ekspirasi puncak.',\n",
       "  'Asthma <> i have asthma. <> Asthma is classified according to the frequency of symptoms, forced expiratory volume in one second (FEV1), and peak expiratory flow rate.'),\n",
       " ('Asma ', 'Asthma '),\n",
       " (' saya menghidap asma. ', ' i have asthma. '),\n",
       " (' Asma diklasifikasikan mengikut kekerapan gejala, jumlah paksa ekspirasi dalam satu saat (FEV1), dan kadar aliran ekspirasi puncak.',\n",
       "  ' Asthma is classified according to the frequency of symptoms, forced expiratory volume in one second (FEV1), and peak expiratory flow rate.'),\n",
       " ('Asma <> saya menghidap asma. <> Diagnosis biasanya berdasarkan pola gejala, tindak balas terhadap terapi dari masa ke masa, dan spirometri.',\n",
       "  'Asthma <> i have asthma. <> Diagnosis is usually based on the pattern of symptoms, response to therapy over time, and spirometry.'),\n",
       " ('Asma ', 'Asthma '),\n",
       " (' saya menghidap asma. ', ' i have asthma. '),\n",
       " (' Diagnosis biasanya berdasarkan pola gejala, tindak balas terhadap terapi dari masa ke masa, dan spirometri.',\n",
       "  ' Diagnosis is usually based on the pattern of symptoms, response to therapy over time, and spirometry.'),\n",
       " ('Asma <> saya menghidap asma. <> Episod ini mungkin berlaku beberapa kali sehari atau beberapa kali seminggu.',\n",
       "  'Asthma <> i have asthma. <> These episodes may occur a few times a day or a few times per week.'),\n",
       " ('Asma ', 'Asthma '),\n",
       " (' saya menghidap asma. ', ' i have asthma. '),\n",
       " (' Episod ini mungkin berlaku beberapa kali sehari atau beberapa kali seminggu.',\n",
       "  ' These episodes may occur a few times a day or a few times per week.'),\n",
       " ('Asma <> saya menghidap asma. <> Bergantung pada orang tersebut, mereka mungkin menjadi lebih teruk pada waktu malam atau dengan bersenam.',\n",
       "  'Asthma <> i have asthma. <> Depending on the person, they may become worse at night or with exercise.'),\n",
       " ('Asma ', 'Asthma '),\n",
       " (' saya menghidap asma. ', ' i have asthma. '),\n",
       " (' Bergantung pada orang tersebut, mereka mungkin menjadi lebih teruk pada waktu malam atau dengan bersenam.',\n",
       "  ' Depending on the person, they may become worse at night or with exercise.'),\n",
       " ('Asma <> saya menghidap asma. <> Gejala dapat dicegah dengan menghindari pemicu, seperti alergen dan perengsa, dan dengan penggunaan kortikosteroid yang dihirup.',\n",
       "  'Asthma <> i have asthma. <> Symptoms can be prevented by avoiding triggers, such as allergens and irritants, and by the use of inhaled corticosteroids.'),\n",
       " ('Asma ', 'Asthma '),\n",
       " (' saya menghidap asma. ', ' i have asthma. '),\n",
       " (' Gejala dapat dicegah dengan menghindari pemicu, seperti alergen dan perengsa, dan dengan penggunaan kortikosteroid yang dihirup.',\n",
       "  ' Symptoms can be prevented by avoiding triggers, such as allergens and irritants, and by the use of inhaled corticosteroids.'),\n",
       " ('Asma <> saya menghidap asma. <> Pencetus berpotensi lain termasuk ubat-ubatan seperti penyekat aspirin dan beta.',\n",
       "  'Asthma <> i have asthma. <> Other potential triggers include medications such as aspirin and beta blockers.'),\n",
       " ('Asma ', 'Asthma '),\n",
       " (' saya menghidap asma. ', ' i have asthma. '),\n",
       " (' Pencetus berpotensi lain termasuk ubat-ubatan seperti penyekat aspirin dan beta.',\n",
       "  ' Other potential triggers include medications such as aspirin and beta blockers.'),\n",
       " ('Asma <> saya menghidap asma. <> Faktor persekitaran merangkumi pendedahan kepada pencemaran udara dan alergen.',\n",
       "  'Asthma <> i have asthma. <> Environmental factors include exposure to air pollution and allergens.'),\n",
       " ('Asma ', 'Asthma '),\n",
       " (' saya menghidap asma. ', ' i have asthma. '),\n",
       " (' Faktor persekitaran merangkumi pendedahan kepada pencemaran udara dan alergen.',\n",
       "  ' Environmental factors include exposure to air pollution and allergens.'),\n",
       " ('Asma <> saya menghidap asma. <> Tidak ada penawar untuk asma.',\n",
       "  'Asthma <> i have asthma. <> There is no cure for asthma.'),\n",
       " ('Asma ', 'Asthma '),\n",
       " (' saya menghidap asma. ', ' i have asthma. '),\n",
       " (' Tidak ada penawar untuk asma.', ' There is no cure for asthma.'),\n",
       " ('Asma <> saya menghidap asma. <> Agonis beta lama bertindak (LABA) atau agen antileukotriena boleh digunakan sebagai tambahan kepada kortikosteroid yang dihirup jika gejala asma tetap tidak terkawal.',\n",
       "  'Asthma <> i have asthma. <> Long-acting beta agonists (LABA) or antileukotriene agents may be used in addition to inhaled corticosteroids if asthma symptoms remain uncontrolled.'),\n",
       " ('Asma ', 'Asthma '),\n",
       " (' saya menghidap asma. ', ' i have asthma. '),\n",
       " (' Agonis beta lama bertindak (LABA) atau agen antileukotriena boleh digunakan sebagai tambahan kepada kortikosteroid yang dihirup jika gejala asma tetap tidak terkawal.',\n",
       "  ' Long-acting beta agonists (LABA) or antileukotriene agents may be used in addition to inhaled corticosteroids if asthma symptoms remain uncontrolled.'),\n",
       " ('Wartawan <> saya adalah wartawan akhbar yang telah bersara. <> Wartawan adalah orang yang mengumpulkan, menulis, atau menyebarkan berita atau maklumat terkini kepada orang ramai.',\n",
       "  'Journalist <> i am a retired newspaper reporter. <> A journalist is a person who collects, writes, or distributes news or other current information to the public.'),\n",
       " ('Wartawan ', 'Journalist '),\n",
       " (' saya adalah wartawan akhbar yang telah bersara. ',\n",
       "  ' i am a retired newspaper reporter. '),\n",
       " (' Wartawan adalah orang yang mengumpulkan, menulis, atau menyebarkan berita atau maklumat terkini kepada orang ramai.',\n",
       "  ' A journalist is a person who collects, writes, or distributes news or other current information to the public.'),\n",
       " ('Wartawan <> saya adalah wartawan akhbar yang telah bersara. <> Karya wartawan disebut kewartawanan.',\n",
       "  \"Journalist <> i am a retired newspaper reporter. <> A journalist's work is called journalism.\"),\n",
       " ('Wartawan ', 'Journalist '),\n",
       " (' saya adalah wartawan akhbar yang telah bersara. ',\n",
       "  ' i am a retired newspaper reporter. '),\n",
       " (' Karya wartawan disebut kewartawanan.',\n",
       "  \" A journalist's work is called journalism.\"),\n",
       " ('Wartawan <> saya adalah wartawan akhbar yang telah bersara. <> Seorang wartawan boleh bekerja dengan isu-isu umum atau pakar dalam isu-isu tertentu.',\n",
       "  'Journalist <> i am a retired newspaper reporter. <> A journalist can work with general issues or specialize in certain issues.'),\n",
       " ('Wartawan ', 'Journalist '),\n",
       " (' saya adalah wartawan akhbar yang telah bersara. ',\n",
       "  ' i am a retired newspaper reporter. '),\n",
       " (' Seorang wartawan boleh bekerja dengan isu-isu umum atau pakar dalam isu-isu tertentu.',\n",
       "  ' A journalist can work with general issues or specialize in certain issues.'),\n",
       " ('Wartawan <> saya adalah wartawan akhbar yang telah bersara. <> Seorang wartawan adalah sejenis wartawan yang meneliti, menulis, dan melaporkan maklumat untuk hadir dalam sumber, melakukan wawancara, terlibat dalam penyelidikan, dan membuat laporan.',\n",
       "  'Journalist <> i am a retired newspaper reporter. <> A reporter is a type of journalist who researches, writes, and reports on information in order to present in sources, conduct interviews, engage in research, and make reports.'),\n",
       " ('Wartawan ', 'Journalist '),\n",
       " (' saya adalah wartawan akhbar yang telah bersara. ',\n",
       "  ' i am a retired newspaper reporter. '),\n",
       " (' Seorang wartawan adalah sejenis wartawan yang meneliti, menulis, dan melaporkan maklumat untuk hadir dalam sumber, melakukan wawancara, terlibat dalam penyelidikan, dan membuat laporan.',\n",
       "  ' A reporter is a type of journalist who researches, writes, and reports on information in order to present in sources, conduct interviews, engage in research, and make reports.')]"
      ]
     },
     "execution_count": 16,
     "metadata": {},
     "output_type": "execute_result"
    }
   ],
   "source": [
    "list(zip(x[:100], y[:100]))"
   ]
  },
  {
   "cell_type": "code",
   "execution_count": 17,
   "metadata": {},
   "outputs": [],
   "source": [
    "X.extend(x)\n",
    "Y.extend(y)"
   ]
  },
  {
   "cell_type": "code",
   "execution_count": 18,
   "metadata": {
    "scrolled": true
   },
   "outputs": [
    {
     "data": {
      "text/plain": [
       "(5738335, 5738335)"
      ]
     },
     "execution_count": 18,
     "metadata": {},
     "output_type": "execute_result"
    }
   ],
   "source": [
    "len(X), len(Y)"
   ]
  },
  {
   "cell_type": "code",
   "execution_count": 19,
   "metadata": {},
   "outputs": [
    {
     "name": "stderr",
     "output_type": "stream",
     "text": [
      "100%|██████████| 5738335/5738335 [01:38<00:00, 58150.40it/s]\n"
     ]
    }
   ],
   "source": [
    "from tqdm import tqdm\n",
    "from unidecode import unidecode\n",
    "import re\n",
    "\n",
    "def cleaning(string):\n",
    "    string = unidecode(string).replace('\\n', ' ').replace('\\t', ' ')\n",
    "    string = re.sub(r'[ ]+', ' ', string).strip()\n",
    "    return string\n",
    "\n",
    "filtered_X, filtered_Y = [], []\n",
    "\n",
    "for i in tqdm(range(len(X))):\n",
    "    X[i] = cleaning(X[i])\n",
    "    Y[i] = cleaning(Y[i])\n",
    "    if len(X[i]) and len(Y[i]):\n",
    "        filtered_X.append(X[i])\n",
    "        filtered_Y.append(Y[i])"
   ]
  },
  {
   "cell_type": "code",
   "execution_count": 20,
   "metadata": {},
   "outputs": [
    {
     "data": {
      "text/plain": [
       "(5738335, 5738194)"
      ]
     },
     "execution_count": 20,
     "metadata": {},
     "output_type": "execute_result"
    }
   ],
   "source": [
    "len(X), len(filtered_X)"
   ]
  },
  {
   "cell_type": "code",
   "execution_count": 21,
   "metadata": {},
   "outputs": [
    {
     "data": {
      "text/plain": [
       "[('Sedikit dan hanya ingin menarik santai melihat bagaimana saya mahu membuat halaman belakang saya yang baru',\n",
       "  'Little and just want to draw relax see how I want to create my new back yard'),\n",
       " ('Saya minta maaf atas kehilangan anda. Dia berada di syurga anjing. <> Tidak mengapa anak-anak saya adalah dunia saya dan terima kasih',\n",
       "  \"I am so sorry for your loss. He's in dog heaven. <> It be okay my sons is my world and thanks\"),\n",
       " ('Saya minta maaf atas kehilangan anda. Dia berada di syurga anjing.',\n",
       "  \"I am so sorry for your loss. He's in dog heaven.\"),\n",
       " ('Tidak mengapa anak-anak saya adalah dunia saya dan terima kasih',\n",
       "  'It be okay my sons is my world and thanks'),\n",
       " ('Sejuk! Saya mempunyai dua orang anak. Mereka tidak kemas. <> Suami membersihkan dengan baik hanya cuba bangun',\n",
       "  \"Cool! I've two kids. They are messy. <> Husband cleans nice just trying to wake up\"),\n",
       " ('Sejuk! Saya mempunyai dua orang anak. Mereka tidak kemas.',\n",
       "  \"Cool! I've two kids. They are messy.\"),\n",
       " ('Suami membersihkan dengan baik hanya cuba bangun',\n",
       "  'Husband cleans nice just trying to wake up'),\n",
       " ('Nama anjing anda sedikit? <> Little adalah nama yang baik dan semoga hari anda berjalan lancar',\n",
       "  'The name of your dog is little? <> Little is a good name and hope your day goes good'),\n",
       " ('Nama anjing anda sedikit?', 'The name of your dog is little?'),\n",
       " ('Little adalah nama yang baik dan semoga hari anda berjalan lancar',\n",
       "  'Little is a good name and hope your day goes good')]"
      ]
     },
     "execution_count": 21,
     "metadata": {},
     "output_type": "execute_result"
    }
   ],
   "source": [
    "list(zip(filtered_X[-10:], filtered_Y[-10:]))"
   ]
  },
  {
   "cell_type": "code",
   "execution_count": 23,
   "metadata": {},
   "outputs": [],
   "source": [
    "from sklearn.model_selection import train_test_split\n",
    "\n",
    "train_X, test_X, train_Y, test_Y = train_test_split(filtered_Y, filtered_X, test_size = 150000)"
   ]
  },
  {
   "cell_type": "code",
   "execution_count": 24,
   "metadata": {},
   "outputs": [
    {
     "data": {
      "text/plain": [
       "[('As elected representatives of the people, they need to show their face in the House to take on the trust they are responsible for.',\n",
       "  'Sebagai wakil yang dipilih oleh rakyat, mereka perlu menunjukkan muka di Dewan itu bagi memikul amanah yang dipertanggungjawabkan.'),\n",
       " ('Together, 48 neighboring states and the District of Columbia occupy an area of 3,119,884.69 square miles (8,080,464.3 km2).',\n",
       "  'Bersama-sama, 48 negara bersebelahan dan Daerah Columbia menempati kawasan gabungan 3,119,884.69 mil persegi (8,080,464.3 km2).'),\n",
       " ('Skateboarding', 'Skateboarding'),\n",
       " ('Panadol is available in over 80 countries in Europe, Africa, Asia, Central America and Australasia.',\n",
       "  'Panadol boleh didapati di lebih 80 negara di Eropah, Afrika, Asia, Amerika Tengah dan Australasia.'),\n",
       " ('Give us our share quickly, before the Day of Reckoning.\"',\n",
       "  'Segerakanlah azab yang ditetapkan untuk kami, sebelum datangnya hari hitungan amal (yang dikatakan oleh Muhammad itu)\".'),\n",
       " (\"No, it was about a girl who was beautiful, grew up very poor and ended up as a geisha. Geisha's aren't the same as prostitutes. Have you read any historical fiction?\",\n",
       "  'Tidak, ini mengenai seorang gadis yang cantik, dibesarkan dengan sangat miskin dan akhirnya menjadi geisha. Geisha tidak sama dengan pelacur. Adakah anda pernah membaca fiksyen sejarah?'),\n",
       " ('Dance <> i love to dance. <> Examples are western ballet and modern dance, Classical Indian dance and Chinese and Japanese song and dance dramas.',\n",
       "  'Tarian <> saya suka menari. <> Contohnya ialah tarian balet barat dan moden, tarian India Klasik dan drama tarian Cina dan Jepun.'),\n",
       " ('i love riding roller coasters.', 'saya suka menunggang roller coaster.'),\n",
       " ('Prince (musician)', 'Putera (pemuzik)'),\n",
       " ('ISAT shares managed to reach the highest level of 6,400 and the lowest of 6.175.',\n",
       "  'Saham ISAT sempat berada di level tertinggi 6.400 dan terendah 6.175.')]"
      ]
     },
     "execution_count": 24,
     "metadata": {},
     "output_type": "execute_result"
    }
   ],
   "source": [
    "list(zip(train_X[-10:], train_Y[-10:]))"
   ]
  },
  {
   "cell_type": "code",
   "execution_count": 25,
   "metadata": {},
   "outputs": [
    {
     "data": {
      "text/plain": [
       "[('Desert <> i love the desert. <> Deserts are formed by weathering processes as large variations in temperature between day and night put strains on the rocks which consequently break in pieces.',\n",
       "  'Gurun <> saya suka padang pasir. <> Gurun dibentuk oleh proses luluhawa kerana variasi suhu yang besar antara siang dan malam menimbulkan ketegangan pada batu yang akhirnya pecah-pecah.'),\n",
       " ('The Bandra-Worli Sea Link Bridge and the Mahim Pond connect the island city with the suburb of the west.',\n",
       "  'Jambatan Bandra-Worli Sea Link dan Tambak Mahim menghubungkan kota pulau dengan subbandar di barat.'),\n",
       " ('Kharibot Kharibot is a village located in Nepal.',\n",
       "  'Kharibot Kharibot merupakan sebuah kampung yang terletak di Nepal.'),\n",
       " ('Night owl (person) <> i prefer the night instead of the day. <> The term is derived from the primarily nocturnal habits of the owl.',\n",
       "  'Burung hantu malam (orang) <> saya lebih suka malam daripada siang. <> Istilah ini berasal dari kebiasaan burung hantu pada waktu malam.'),\n",
       " ('She has played for Kashima Antlers, Centro Futebol Zico, Urawa Reds, Vegalta Sendai and Albirex Niigata.',\n",
       "  'Dia bermain untuk Kashima Antlers, Centro Futebol Zico, Urawa Reds, Vegalta Sendai dan Albirex Niigata.'),\n",
       " ('In addition, reading requires creativity and critical analysis.',\n",
       "  'Selain itu, membaca memerlukan kreativiti dan analisis kritis.'),\n",
       " ('The group is the origin of the Kirarin Revolution anime where all members play the voice for the characters in the anime.',\n",
       "  'Kumpulan ini adalah asal dari anime Kirarin Revolution dimana semua anggota memainkan suara untuk watak didalam anime tersebut.'),\n",
       " ('my favorite breakfast is pancakes. <> How do you like to make your pancakes? With or without milk? And or water? I prefer milk. <> With milk definitely!!',\n",
       "  'sarapan kegemaran saya adalah penkek. <> Bagaimana anda suka membuat penkek anda? Dengan atau tanpa susu? Dan atau air? Saya lebih suka susu. <> Dengan susu pasti !!'),\n",
       " ('He is best known for being an A-4 Skyhawk aircraft designer.',\n",
       "  'Dia terkenal kerana menjadi pereka kapal terbang A-4 Skyhawk.'),\n",
       " ('Actors Idina Menzel, Kristen Bell, Jonathan Groff, Josh Gad, and Santino Fontana return as their original characters, with newcomers Sterling K. Brown, Evan Rachel Wood, Alfred Molina, Martha Plimpton, Rachel Matthews, and Jason Ritter.',\n",
       "  'Pelakon suara Idina Menzel, Kristen Bell, Jonathan Groff, Josh Gad, dan Santino Fontana kembali sebagai watak mereka sebelumnya, bersama pendatang baru Sterling K. Brown, Evan Rachel Wood, Alfred Molina, Martha Plimpton, Rachel Matthews, dan Jason Ritter.')]"
      ]
     },
     "execution_count": 25,
     "metadata": {},
     "output_type": "execute_result"
    }
   ],
   "source": [
    "list(zip(train_X[:10], train_Y[:10]))"
   ]
  },
  {
   "cell_type": "code",
   "execution_count": 26,
   "metadata": {},
   "outputs": [
    {
     "data": {
      "text/plain": [
       "[('American football', 'Bola sepak Amerika'),\n",
       " ('The Furat River gives life to the emergence of Sumerian civilization, around the 4th millennium BCE.',\n",
       "  'Sungai Furat memberi kehidupan yang membawa kepada kemunculan tamadun Sumeria, lebih kurang alaf ke-4 BCE.'),\n",
       " ('and that He Himself created the two kinds, male and female,',\n",
       "  'Dan bahawa sesungguhnya, Dia lah yang menciptakan pasangan - lelaki dan perempuan, -'),\n",
       " ('The Citroen system adds about 1% to the cost of the car compared to the passive iron spring.',\n",
       "  'Sistem Citroen menambah sekitar 1% kepada kos kereta berbanding spring besi pasif.'),\n",
       " (\"Mariscal Sucre International Airport is located at latitude S00 * 08.4667 ', longtitude W78 * 29.3167' at 2812.69 meters above sea level.\",\n",
       "  \"Lapangan Terbang Antarabangsa Mariscal Sucre terletak pada kedudukan latitude S00* 08.4667', longtitude W78* 29.3167' pada ketinggian 2812.69 meter dari aras laut.\"),\n",
       " ('Jimi Hendrix', 'Jimi Hendrix'),\n",
       " ('Do you participate in competitive skiing?',\n",
       "  'Adakah anda mengambil bahagian dalam sukan ski yang kompetitif?'),\n",
       " (\"He called on Muslims in particular to practice the concept of 'tabayyun' - ensuring the authenticity of information received in order to avoid being tricked into spreading false information.\",\n",
       "  \"Beliau menyeru umat Islam khususnya supaya mengamalkan konsep 'tabayyun' - memastikan kesahihan maklumat diterima bagi mengelak diri terjebak melakukan kesalahan menyebarkan maklumat palsu.\"),\n",
       " ('Among the blocked platforms are Facebook, WhatsApp, YouTube and Viper, with the platform blocked from Monday.',\n",
       "  'Antara platform yang disekat ialah Facebook, WhatsApp, YouTube dan Viper, di mana platform berkenaan disekat mulai Isnin.'),\n",
       " ('Other concerns include the standard practice of separating the mother from her calf and denying the calf its natural source of milk.',\n",
       "  'Kebimbangan lain termasuk amalan biasa memisahkan ibu dari anak lembu dan menolak anak lembu sebagai sumber semula jadi susu.')]"
      ]
     },
     "execution_count": 26,
     "metadata": {},
     "output_type": "execute_result"
    }
   ],
   "source": [
    "list(zip(test_X[-10:], test_Y[-10:]))"
   ]
  },
  {
   "cell_type": "code",
   "execution_count": 27,
   "metadata": {},
   "outputs": [],
   "source": [
    "from sklearn.utils import shuffle\n",
    "\n",
    "train_X, train_Y = shuffle(train_X, train_Y)"
   ]
  },
  {
   "cell_type": "code",
   "execution_count": 28,
   "metadata": {},
   "outputs": [],
   "source": [
    "with open('dataset-en-to-ms.json', 'w') as fopen:\n",
    "    json.dump({'train_X': train_X, 'train_Y': train_Y, 'test_X': test_X, 'test_Y': test_Y}, fopen)"
   ]
  },
  {
   "cell_type": "code",
   "execution_count": 29,
   "metadata": {},
   "outputs": [
    {
     "name": "stdout",
     "output_type": "stream",
     "text": [
      "mkdir: cannot create directory ‘train-en’: File exists\n",
      "mkdir: cannot create directory ‘test-en’: File exists\n"
     ]
    }
   ],
   "source": [
    "!mkdir train-en\n",
    "!mkdir test-en"
   ]
  },
  {
   "cell_type": "code",
   "execution_count": null,
   "metadata": {},
   "outputs": [],
   "source": [
    "with open('train-en/left.txt', 'w') as fopen:\n",
    "    fopen.write('\\n'.join(train_X))\n",
    "    \n",
    "with open('train-en/right.txt', 'w') as fopen:\n",
    "    fopen.write('\\n'.join(train_Y))\n",
    "    \n",
    "with open('test-en/left.txt', 'w') as fopen:\n",
    "    fopen.write('\\n'.join(test_X))\n",
    "    \n",
    "with open('test-en/right.txt', 'w') as fopen:\n",
    "    fopen.write('\\n'.join(test_Y))"
   ]
  },
  {
   "cell_type": "code",
   "execution_count": 31,
   "metadata": {},
   "outputs": [
    {
     "name": "stdout",
     "output_type": "stream",
     "text": [
      "test-en/\n",
      "test-en/left.txt\n",
      "test-en/right.txt\n"
     ]
    }
   ],
   "source": [
    "!tar -czvf train-en-ms.tar.gz train-en\n",
    "!tar -czvf test-en-ms.tar.gz test-en"
   ]
  },
  {
   "cell_type": "code",
   "execution_count": 32,
   "metadata": {},
   "outputs": [
    {
     "data": {
      "text/plain": [
       "5588194"
      ]
     },
     "execution_count": 32,
     "metadata": {},
     "output_type": "execute_result"
    }
   ],
   "source": [
    "len(train_X)"
   ]
  },
  {
   "cell_type": "code",
   "execution_count": 33,
   "metadata": {},
   "outputs": [
    {
     "data": {
      "text/plain": [
       "[('The breed\\'s officially recognized name is German Shepherd Dog in the English language (sometimes abbreviated as \"GSD\").',\n",
       "  'Nama baka yang dikenali secara rasmi adalah German Shepherd Dog dalam bahasa Inggeris (kadang-kadang disingkat sebagai \"GSD\").'),\n",
       " ('Owranjaq Owranjaq is an area located in Iran.',\n",
       "  'Owranjaq Owranjaq merupakan sebuah kawasan yang terletak di Iran.'),\n",
       " ('I am fine, thanks for asking, how are you?',\n",
       "  'Saya baik-baik saja, terima kasih kerana bertanya, apa khabar?'),\n",
       " ('Action on various cases since June 11',\n",
       "  'Tindakan terhadap pelbagai kes sejak 11 Jun'),\n",
       " (\"%s: option '--%s' requires an argument\",\n",
       "  \"%s: pilihan '--%s' memerlukan argumen\"),\n",
       " ('Just a year. Thanks for telling me. I will look it up',\n",
       "  'Hanya setahun. Terima kasih kerana memberitahu saya. Saya akan mencarinya'),\n",
       " (\"Cempaka Suri, however, rejected Lang's request to be with them.\",\n",
       "  'Cempaka Suri pula menolak ajakan Lang Surya agar bersama-sama mereka.'),\n",
       " ('Tennis <> i like to play tennis. <> Tennis is a racket sport that can be played individually against a single opponent (singles) or between two teams of two players each (doubles).',\n",
       "  'Tenis <> saya suka bermain tenis. <> Tenis adalah sukan raket yang boleh dimainkan secara individu menentang satu lawan satu (perseorangan) atau antara dua pasukan yang terdiri daripada dua pemain masing-masing (beregu).'),\n",
       " ('Prior to 2003, Tomohan City was one of the districts in Minahasa district.',\n",
       "  'Sebelum tahun 2003, Kota Tomohan merupakan salah satu kecamatan di Kabupaten Minahasa.'),\n",
       " (\"Therefore, those who settled in Myanmar after independence were officially considered as foreigners and threatened the country's security.\",\n",
       "  'Justeru, mereka yang menetap di Myanmar selepas kemerdekaan secara rasminya dianggap sebagai pendatang asing dan mengancam keselamatan negara ini.')]"
      ]
     },
     "execution_count": 33,
     "metadata": {},
     "output_type": "execute_result"
    }
   ],
   "source": [
    "list(zip(test_X[:10], test_Y[:10]))"
   ]
  },
  {
   "cell_type": "code",
   "execution_count": 34,
   "metadata": {},
   "outputs": [
    {
     "data": {
      "text/plain": [
       "2.6139986598900204"
      ]
     },
     "execution_count": 34,
     "metadata": {},
     "output_type": "execute_result"
    }
   ],
   "source": [
    "len(test_X) / len(X) * 100"
   ]
  },
  {
   "cell_type": "code",
   "execution_count": null,
   "metadata": {},
   "outputs": [],
   "source": []
  }
 ],
 "metadata": {
  "kernelspec": {
   "display_name": "Python 3",
   "language": "python",
   "name": "python3"
  },
  "language_info": {
   "codemirror_mode": {
    "name": "ipython",
    "version": 3
   },
   "file_extension": ".py",
   "mimetype": "text/x-python",
   "name": "python",
   "nbconvert_exporter": "python",
   "pygments_lexer": "ipython3",
   "version": "3.6.8"
  }
 },
 "nbformat": 4,
 "nbformat_minor": 2
}
