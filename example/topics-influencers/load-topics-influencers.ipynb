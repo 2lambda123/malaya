{
 "cells": [
  {
   "cell_type": "code",
   "execution_count": 1,
   "metadata": {},
   "outputs": [],
   "source": [
    "import malaya"
   ]
  },
  {
   "cell_type": "code",
   "execution_count": 2,
   "metadata": {},
   "outputs": [],
   "source": [
    "news = 'najib razak dan mahathir mengalami masalah air di kemamam terengganu'\n",
    "second_news = 'ikat penyedia perkhidmatan jalur lebar Telekom Malaysia (TM) perlu mencari jalan penyelesaian bagi meningkatkan akses capaian Internet ke seluruh negara, kata Menteri Komunikasi dan Multimedia, Gobind Singh Deo. Beliau berkata menjadi dasar kerajaan untuk membekalkan akses Internet jalur lebar kepada semua dan memberi penekanan kepada kualiti perkhidmatan yang terbaik. \"Dasar kerajaan untuk bekalkan akses kepada semua bukan sekadar pembekalan sahaja tetapi beri penekanan kepada kualiti perkhidmatan yang baik dan dapat bersaing dengan negara lain pada tahap antarabangsa,\" kata Gobind Singh menerusi catatan di laman rasmi Twitter beliau, malam tadi. Beliau berkata demikian sebagai respons terhadap aduan beberapa pengguna Twitter berhubung akses Internet yang masih tidak stabil serta harga yang tidak berpatutan di beberapa lokasi di seluruh negara.'"
   ]
  },
  {
   "cell_type": "markdown",
   "metadata": {},
   "source": [
    "## Using fuzzy for topics"
   ]
  },
  {
   "cell_type": "code",
   "execution_count": 3,
   "metadata": {},
   "outputs": [
    {
     "data": {
      "text/plain": [
       "['najib razak', 'mahathir', 'masalah air']"
      ]
     },
     "execution_count": 3,
     "metadata": {},
     "output_type": "execute_result"
    }
   ],
   "source": [
    "malaya.topic_influencer.fuzzy_topic(news)"
   ]
  },
  {
   "cell_type": "code",
   "execution_count": 4,
   "metadata": {},
   "outputs": [
    {
     "data": {
      "text/plain": [
       "['politik',\n",
       " 'kkmm',\n",
       " 'telekom malaysia',\n",
       " 'internet',\n",
       " 'pendidikan',\n",
       " 'perkhidmatan awam',\n",
       " 'teknologi',\n",
       " 'twitter',\n",
       " 'kerajaan',\n",
       " 'sosial media']"
      ]
     },
     "execution_count": 4,
     "metadata": {},
     "output_type": "execute_result"
    }
   ],
   "source": [
    "malaya.topic_influencer.fuzzy_topic(second_news)"
   ]
  },
  {
   "cell_type": "markdown",
   "metadata": {},
   "source": [
    "## Using fuzzy for influencers"
   ]
  },
  {
   "cell_type": "code",
   "execution_count": 5,
   "metadata": {},
   "outputs": [
    {
     "data": {
      "text/plain": [
       "['najib razak', 'mahathir']"
      ]
     },
     "execution_count": 5,
     "metadata": {},
     "output_type": "execute_result"
    }
   ],
   "source": [
    "malaya.topic_influencer.fuzzy_influencer(news)"
   ]
  },
  {
   "cell_type": "code",
   "execution_count": 6,
   "metadata": {},
   "outputs": [
    {
     "data": {
      "text/plain": [
       "['gobind singh deo']"
      ]
     },
     "execution_count": 6,
     "metadata": {},
     "output_type": "execute_result"
    }
   ],
   "source": [
    "malaya.topic_influencer.fuzzy_influencer(second_news)"
   ]
  },
  {
   "cell_type": "markdown",
   "metadata": {},
   "source": [
    "## Using fuzzy for location"
   ]
  },
  {
   "cell_type": "code",
   "execution_count": 7,
   "metadata": {},
   "outputs": [
    {
     "data": {
      "text/plain": [
       "{'negeri': [], 'parlimen': ['sungai petani'], 'dun': []}"
      ]
     },
     "execution_count": 7,
     "metadata": {},
     "output_type": "execute_result"
    }
   ],
   "source": [
    "malaya.topic_influencer.fuzzy_location('saya suka makan sate di sungai petani')"
   ]
  },
  {
   "cell_type": "markdown",
   "metadata": {},
   "source": [
    "## Check location from a string"
   ]
  },
  {
   "cell_type": "code",
   "execution_count": 8,
   "metadata": {},
   "outputs": [
    {
     "data": {
      "text/plain": [
       "True"
      ]
     },
     "execution_count": 8,
     "metadata": {},
     "output_type": "execute_result"
    }
   ],
   "source": [
    "malaya.topic_influencer.is_location('sungai petani')"
   ]
  },
  {
   "cell_type": "markdown",
   "metadata": {},
   "source": [
    "## Train TF-IDF for topics analysis"
   ]
  },
  {
   "cell_type": "code",
   "execution_count": 10,
   "metadata": {},
   "outputs": [],
   "source": [
    "topics_similarity = malaya.topic_influencer.fast_topic()"
   ]
  },
  {
   "cell_type": "code",
   "execution_count": 11,
   "metadata": {},
   "outputs": [
    {
     "data": {
      "text/plain": [
       "['najib razak',\n",
       " 'mahathir',\n",
       " 'tan sri mokhzani mahathir',\n",
       " 'tengku razaleigh hamzah']"
      ]
     },
     "execution_count": 11,
     "metadata": {},
     "output_type": "execute_result"
    }
   ],
   "source": [
    "topics_similarity.get_similarity(news)"
   ]
  },
  {
   "cell_type": "markdown",
   "metadata": {},
   "source": [
    "## Train TF-IDF for influencers analysis"
   ]
  },
  {
   "cell_type": "code",
   "execution_count": 12,
   "metadata": {},
   "outputs": [],
   "source": [
    "influencers_similarity = malaya.topic_influencer.fast_influencer()"
   ]
  },
  {
   "cell_type": "code",
   "execution_count": 13,
   "metadata": {},
   "outputs": [
    {
     "data": {
      "text/plain": [
       "['najib razak',\n",
       " 'mahathir',\n",
       " 'tan sri mokhzani mahathir',\n",
       " 'tengku razaleigh hamzah']"
      ]
     },
     "execution_count": 13,
     "metadata": {},
     "output_type": "execute_result"
    }
   ],
   "source": [
    "influencers_similarity.get_similarity(news)"
   ]
  },
  {
   "cell_type": "code",
   "execution_count": 14,
   "metadata": {},
   "outputs": [
    {
     "data": {
      "text/plain": [
       "['mic',\n",
       " 'jabatan perancangan bandar dan desa',\n",
       " 'pakatan harapan',\n",
       " 'parti pribumi bersatu malaysia',\n",
       " 'gobind singh deo',\n",
       " 'ppbm',\n",
       " 'parti islam semalaysia',\n",
       " 'perkasa']"
      ]
     },
     "execution_count": 14,
     "metadata": {},
     "output_type": "execute_result"
    }
   ],
   "source": [
    "influencers_similarity.get_similarity(second_news)"
   ]
  },
  {
   "cell_type": "markdown",
   "metadata": {},
   "source": [
    "## Train skip-thought model for topics analysis"
   ]
  },
  {
   "cell_type": "code",
   "execution_count": 15,
   "metadata": {},
   "outputs": [
    {
     "name": "stderr",
     "output_type": "stream",
     "text": [
      "minibatch loop: 100%|██████████| 157/157 [01:47<00:00,  1.67it/s, cost=0.447]\n",
      "minibatch loop: 100%|██████████| 157/157 [01:45<00:00,  1.71it/s, cost=0.00799]\n",
      "minibatch loop: 100%|██████████| 157/157 [01:45<00:00,  1.68it/s, cost=0.00315]\n",
      "minibatch loop: 100%|██████████| 157/157 [01:44<00:00,  1.60it/s, cost=0.00197]\n",
      "minibatch loop: 100%|██████████| 157/157 [01:44<00:00,  1.70it/s, cost=0.00152]\n"
     ]
    }
   ],
   "source": [
    "deep_topic = malaya.topic_influencer.skipthought_topic()"
   ]
  },
  {
   "cell_type": "code",
   "execution_count": 16,
   "metadata": {},
   "outputs": [
    {
     "data": {
      "text/plain": [
       "['kkmm',\n",
       " 'k-pop',\n",
       " 'mikro-ekonomi',\n",
       " 'malaysia-indonesia',\n",
       " 'makro-ekonomi',\n",
       " 'pilihan raya umum ke-14',\n",
       " 'programming language',\n",
       " '#fakenews',\n",
       " 'undi rosak']"
      ]
     },
     "execution_count": 16,
     "metadata": {},
     "output_type": "execute_result"
    }
   ],
   "source": [
    "deep_topic.get_similarity(news, anchor = 0.5)"
   ]
  },
  {
   "cell_type": "code",
   "execution_count": 17,
   "metadata": {},
   "outputs": [
    {
     "data": {
      "text/plain": [
       "['datuk seri abdul hadi awang',\n",
       " 'kkmm',\n",
       " 'k-pop',\n",
       " 'mikro-ekonomi',\n",
       " 'malaysia-indonesia',\n",
       " 'makro-ekonomi',\n",
       " 'pilihan raya umum ke-14',\n",
       " 'programming language',\n",
       " '#fakenews',\n",
       " 'new straits times',\n",
       " 'undi rosak']"
      ]
     },
     "execution_count": 17,
     "metadata": {},
     "output_type": "execute_result"
    }
   ],
   "source": [
    "deep_topic.get_similarity(second_news, anchor = 0.5)"
   ]
  },
  {
   "cell_type": "markdown",
   "metadata": {},
   "source": [
    "## Train skip-thought model for influencers analysis"
   ]
  },
  {
   "cell_type": "code",
   "execution_count": 18,
   "metadata": {},
   "outputs": [
    {
     "name": "stderr",
     "output_type": "stream",
     "text": [
      "minibatch loop: 100%|██████████| 20/20 [00:13<00:00,  1.70it/s, cost=3.46]\n",
      "minibatch loop: 100%|██████████| 20/20 [00:13<00:00,  1.33it/s, cost=1.08]\n",
      "minibatch loop: 100%|██████████| 20/20 [00:13<00:00,  1.66it/s, cost=0.547]\n",
      "minibatch loop: 100%|██████████| 20/20 [00:12<00:00,  1.74it/s, cost=0.275]\n",
      "minibatch loop: 100%|██████████| 20/20 [00:12<00:00,  1.59it/s, cost=0.253]\n",
      "minibatch loop: 100%|██████████| 20/20 [00:12<00:00,  1.69it/s, cost=0.281]\n",
      "minibatch loop: 100%|██████████| 20/20 [00:12<00:00,  1.71it/s, cost=0.209]\n",
      "minibatch loop: 100%|██████████| 20/20 [00:12<00:00,  1.66it/s, cost=0.259]\n",
      "minibatch loop: 100%|██████████| 20/20 [00:12<00:00,  1.67it/s, cost=0.232]\n",
      "minibatch loop: 100%|██████████| 20/20 [00:12<00:00,  1.62it/s, cost=0.219]\n"
     ]
    }
   ],
   "source": [
    "deep_influencer = malaya.topic_influencer.skipthought_influencer()"
   ]
  },
  {
   "cell_type": "code",
   "execution_count": 19,
   "metadata": {},
   "outputs": [
    {
     "data": {
      "text/plain": [
       "['najib razak', 'mahathir']"
      ]
     },
     "execution_count": 19,
     "metadata": {},
     "output_type": "execute_result"
    }
   ],
   "source": [
    "deep_influencer.get_similarity(news, anchor = 0.5)"
   ]
  },
  {
   "cell_type": "code",
   "execution_count": 20,
   "metadata": {},
   "outputs": [
    {
     "data": {
      "text/plain": [
       "['gobind singh deo']"
      ]
     },
     "execution_count": 20,
     "metadata": {},
     "output_type": "execute_result"
    }
   ],
   "source": [
    "deep_influencer.get_similarity(second_news, anchor = 0.5)"
   ]
  },
  {
   "cell_type": "markdown",
   "metadata": {},
   "source": [
    "## Train siamese network for topics analysis"
   ]
  },
  {
   "cell_type": "code",
   "execution_count": 21,
   "metadata": {},
   "outputs": [
    {
     "name": "stderr",
     "output_type": "stream",
     "text": [
      "minibatch loop: 100%|██████████| 157/157 [01:50<00:00,  1.67it/s, accuracy=1, cost=0.114]    \n",
      "minibatch loop: 100%|██████████| 157/157 [01:49<00:00,  1.69it/s, accuracy=1, cost=0.0739]   \n",
      "minibatch loop: 100%|██████████| 157/157 [01:49<00:00,  1.66it/s, accuracy=1, cost=0.0686]    \n",
      "minibatch loop: 100%|██████████| 157/157 [01:50<00:00,  1.68it/s, accuracy=1, cost=0.0279]    \n",
      "minibatch loop: 100%|██████████| 157/157 [01:49<00:00,  1.70it/s, accuracy=1, cost=0.0193]    \n"
     ]
    },
    {
     "name": "stdout",
     "output_type": "stream",
     "text": [
      "['kesihatan', 'politik', 'wan azizah', 'kaum cina', 'tiga penjuru', 'pusat transformasi bandar', 'bumiputra', 'jabatan perancangan bandar dan desa', 'pusat daerah mangundi', 'menteri pertahanan', 'kewangan', 'gaza', 'kaum melayu', 'programming language', 'lgbt', 'infrastruktur', 'sinar harian', 'singapura', 'real madrid cf', 'anwar ibrahim']\n",
      "['politik', 'kkmm', 'bumiputra', 'malaysia-indonesia', 'menteri pertahanan', 'motogp', 'programming language', 'twitter', 'lgbt', 'gaji menteri', 'singapura']\n"
     ]
    }
   ],
   "source": [
    "deep_topic = malaya.topic_influencer.siamese_topic()\n",
    "print(deep_topic.get_similarity(news, anchor = 0.5))\n",
    "print(deep_topic.get_similarity(second_news, anchor = 0.5))"
   ]
  },
  {
   "cell_type": "code",
   "execution_count": 22,
   "metadata": {},
   "outputs": [
    {
     "name": "stdout",
     "output_type": "stream",
     "text": [
      "[]\n",
      "[]\n"
     ]
    }
   ],
   "source": [
    "print(deep_topic.get_similarity(news, anchor = 0.7))\n",
    "print(deep_topic.get_similarity(second_news, anchor = 0.7))"
   ]
  },
  {
   "cell_type": "markdown",
   "metadata": {},
   "source": [
    "## Train siamese network for influencers analysis"
   ]
  },
  {
   "cell_type": "code",
   "execution_count": 23,
   "metadata": {},
   "outputs": [
    {
     "name": "stderr",
     "output_type": "stream",
     "text": [
      "minibatch loop: 100%|██████████| 20/20 [00:14<00:00,  1.46it/s, accuracy=0.583, cost=0.129]\n",
      "minibatch loop: 100%|██████████| 20/20 [00:13<00:00,  1.48it/s, accuracy=0.542, cost=0.124]\n",
      "minibatch loop: 100%|██████████| 20/20 [00:13<00:00,  1.49it/s, accuracy=0.542, cost=0.121]\n",
      "minibatch loop: 100%|██████████| 20/20 [00:14<00:00,  1.49it/s, accuracy=0.833, cost=0.0885]\n",
      "minibatch loop: 100%|██████████| 20/20 [00:14<00:00,  1.47it/s, accuracy=0.875, cost=0.0637]\n"
     ]
    }
   ],
   "source": [
    "deep_influencer = malaya.topic_influencer.siamese_influencer()"
   ]
  },
  {
   "cell_type": "code",
   "execution_count": 24,
   "metadata": {},
   "outputs": [
    {
     "data": {
      "text/plain": [
       "['najib razak', 'mahathir']"
      ]
     },
     "execution_count": 24,
     "metadata": {},
     "output_type": "execute_result"
    }
   ],
   "source": [
    "deep_influencer.get_similarity(news, anchor = 0.5)"
   ]
  },
  {
   "cell_type": "code",
   "execution_count": 25,
   "metadata": {},
   "outputs": [
    {
     "data": {
      "text/plain": [
       "['gobind singh deo']"
      ]
     },
     "execution_count": 25,
     "metadata": {},
     "output_type": "execute_result"
    }
   ],
   "source": [
    "deep_influencer.get_similarity(second_news, anchor = 0.5)"
   ]
  }
 ],
 "metadata": {
  "kernelspec": {
   "display_name": "Python 3",
   "language": "python",
   "name": "python3"
  },
  "language_info": {
   "codemirror_mode": {
    "name": "ipython",
    "version": 3
   },
   "file_extension": ".py",
   "mimetype": "text/x-python",
   "name": "python",
   "nbconvert_exporter": "python",
   "pygments_lexer": "ipython3",
   "version": "3.6.5"
  }
 },
 "nbformat": 4,
 "nbformat_minor": 2
}
