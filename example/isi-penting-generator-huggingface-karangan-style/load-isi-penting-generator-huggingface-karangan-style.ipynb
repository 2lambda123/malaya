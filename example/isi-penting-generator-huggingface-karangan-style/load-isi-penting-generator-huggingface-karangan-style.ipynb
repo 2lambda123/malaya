{
 "cells": [
  {
   "cell_type": "markdown",
   "metadata": {},
   "source": [
    "# Isi Penting Generator HuggingFace karangan style"
   ]
  },
  {
   "cell_type": "markdown",
   "metadata": {},
   "source": [
    "Generate a long text with karangan style given isi penting (important facts)."
   ]
  },
  {
   "cell_type": "markdown",
   "metadata": {},
   "source": [
    "<div class=\"alert alert-info\">\n",
    "\n",
    "This tutorial is available as an IPython notebook at [Malaya/example/isi-penting-generator-huggingface-karangan-style](https://github.com/huseinzol05/Malaya/tree/master/example/isi-penting-generator-huggingface-karangan-style).\n",
    "    \n",
    "</div>"
   ]
  },
  {
   "cell_type": "markdown",
   "metadata": {},
   "source": [
    "<div class=\"alert alert-warning\">\n",
    "\n",
    "Results generated using stochastic methods.\n",
    "    \n",
    "</div>"
   ]
  },
  {
   "cell_type": "code",
   "execution_count": 1,
   "metadata": {},
   "outputs": [
    {
     "name": "stdout",
     "output_type": "stream",
     "text": [
      "CPU times: user 3.12 s, sys: 3.47 s, total: 6.59 s\n",
      "Wall time: 2.34 s\n"
     ]
    }
   ],
   "source": [
    "%%time\n",
    "import malaya\n",
    "from pprint import pprint"
   ]
  },
  {
   "cell_type": "markdown",
   "metadata": {},
   "source": [
    "### List available HuggingFace"
   ]
  },
  {
   "cell_type": "code",
   "execution_count": 2,
   "metadata": {},
   "outputs": [
    {
     "data": {
      "text/html": [
       "<div>\n",
       "<style scoped>\n",
       "    .dataframe tbody tr th:only-of-type {\n",
       "        vertical-align: middle;\n",
       "    }\n",
       "\n",
       "    .dataframe tbody tr th {\n",
       "        vertical-align: top;\n",
       "    }\n",
       "\n",
       "    .dataframe thead th {\n",
       "        text-align: right;\n",
       "    }\n",
       "</style>\n",
       "<table border=\"1\" class=\"dataframe\">\n",
       "  <thead>\n",
       "    <tr style=\"text-align: right;\">\n",
       "      <th></th>\n",
       "      <th>Size (MB)</th>\n",
       "      <th>ROUGE-1</th>\n",
       "      <th>ROUGE-2</th>\n",
       "      <th>ROUGE-L</th>\n",
       "      <th>Suggested length</th>\n",
       "    </tr>\n",
       "  </thead>\n",
       "  <tbody>\n",
       "    <tr>\n",
       "      <th>mesolitica/finetune-isi-penting-generator-t5-small-standard-bahasa-cased</th>\n",
       "      <td>242.0</td>\n",
       "      <td>0.246203</td>\n",
       "      <td>0.058961</td>\n",
       "      <td>0.15159</td>\n",
       "      <td>1024.0</td>\n",
       "    </tr>\n",
       "    <tr>\n",
       "      <th>mesolitica/finetune-isi-penting-generator-t5-base-standard-bahasa-cased</th>\n",
       "      <td>892.0</td>\n",
       "      <td>0.246203</td>\n",
       "      <td>0.058961</td>\n",
       "      <td>0.15159</td>\n",
       "      <td>1024.0</td>\n",
       "    </tr>\n",
       "  </tbody>\n",
       "</table>\n",
       "</div>"
      ],
      "text/plain": [
       "                                                    Size (MB)   ROUGE-1  \\\n",
       "mesolitica/finetune-isi-penting-generator-t5-sm...      242.0  0.246203   \n",
       "mesolitica/finetune-isi-penting-generator-t5-ba...      892.0  0.246203   \n",
       "\n",
       "                                                     ROUGE-2  ROUGE-L  \\\n",
       "mesolitica/finetune-isi-penting-generator-t5-sm...  0.058961  0.15159   \n",
       "mesolitica/finetune-isi-penting-generator-t5-ba...  0.058961  0.15159   \n",
       "\n",
       "                                                    Suggested length  \n",
       "mesolitica/finetune-isi-penting-generator-t5-sm...            1024.0  \n",
       "mesolitica/finetune-isi-penting-generator-t5-ba...            1024.0  "
      ]
     },
     "execution_count": 2,
     "metadata": {},
     "output_type": "execute_result"
    }
   ],
   "source": [
    "malaya.generator.isi_penting.available_huggingface()"
   ]
  },
  {
   "cell_type": "markdown",
   "metadata": {},
   "source": [
    "### Load HuggingFace\n",
    "\n",
    "Transformer Generator in Malaya is quite unique, most of the text generative model we found on the internet like GPT2 or Markov, simply just continue prefix input from user, but not for Transformer Generator. We want to generate an article or karangan like high school when the users give 'isi penting'.\n",
    "\n",
    "```python\n",
    "def huggingface(model: str = 'mesolitica/finetune-isi-penting-generator-t5-base-standard-bahasa-cased', **kwargs):\n",
    "    \"\"\"\n",
    "    Load HuggingFace model to generate text based on isi penting.\n",
    "\n",
    "    Parameters\n",
    "    ----------\n",
    "    model: str, optional (default='mesolitica/finetune-isi-penting-generator-t5-base-standard-bahasa-cased')\n",
    "        Check available models at `malaya.generator.isi_penting.available_huggingface()`.\n",
    "\n",
    "    Returns\n",
    "    -------\n",
    "    result: malaya.torch_model.huggingface.IsiPentingGenerator\n",
    "    \"\"\"\n",
    "```"
   ]
  },
  {
   "cell_type": "code",
   "execution_count": 3,
   "metadata": {},
   "outputs": [],
   "source": [
    "model = malaya.generator.isi_penting.huggingface()"
   ]
  },
  {
   "cell_type": "markdown",
   "metadata": {},
   "source": [
    "#### generate\n",
    "\n",
    "```python\n",
    "def generate(\n",
    "    self,\n",
    "    strings: List[str],\n",
    "    mode: str = 'surat-khabar',\n",
    "    **kwargs,\n",
    "):\n",
    "    \"\"\"\n",
    "    generate a long text given a isi penting.\n",
    "\n",
    "    Parameters\n",
    "    ----------\n",
    "    strings : List[str]\n",
    "    mode: str, optional (default='surat-khabar')\n",
    "        Mode supported. Allowed values:\n",
    "\n",
    "        * ``'surat-khabar'`` - news style writing.\n",
    "        * ``'tajuk-surat-khabar'`` - headline news style writing.\n",
    "        * ``'artikel'`` - article style writing.\n",
    "        * ``'penerangan-produk'`` - product description style writing.\n",
    "        * ``'karangan'`` - karangan sekolah style writing.\n",
    "\n",
    "    **kwargs: vector arguments pass to huggingface `generate` method.\n",
    "        Read more at https://huggingface.co/docs/transformers/main_classes/text_generation\n",
    "\n",
    "    Returns\n",
    "    -------\n",
    "    result: List[str]\n",
    "    \"\"\"\n",
    "```"
   ]
  },
  {
   "cell_type": "markdown",
   "metadata": {},
   "source": [
    "### Good thing about HuggingFace\n",
    "\n",
    "In `generate` method, you can do greedy, beam, sampling, nucleus decoder and so much more, read it at https://huggingface.co/blog/how-to-generate\n",
    "\n",
    "And recently, huggingface released https://huggingface.co/blog/introducing-csearch"
   ]
  },
  {
   "cell_type": "code",
   "execution_count": 5,
   "metadata": {},
   "outputs": [],
   "source": [
    "isi_penting = ['ayam yang sihat dan sejahtera', 'nasi ayam yang sedap dan lazat', 'kedai bernama Husein Nasi Ayam']"
   ]
  },
  {
   "cell_type": "code",
   "execution_count": 7,
   "metadata": {},
   "outputs": [
    {
     "name": "stdout",
     "output_type": "stream",
     "text": [
      "['Husein Nasi Ayam merupakan nasi yang sejahtera dan sedap saban tahun. Nasi '\n",
      " 'ayam merupakan nasi yang sangat istimewa dan sinonim dengan keluarga. Nasi '\n",
      " 'ayam merupakan hidangan istimewa yang akan dinikmati seisi keluarga. Ia '\n",
      " 'merupakan sumber tenaga yang besar untuk memulakan kehidupan dan dapat '\n",
      " 'mengeratkan lagi hubungan kekeluargaan. Jadi, nescaya, ayam mempunyai '\n",
      " 'potensi yang besar untuk dituai dan disembelih. Hal ini demikian kerana, '\n",
      " 'santan menjadi bumbu, air serta arang yang menjadi nukleus padu dalam hati '\n",
      " 'para ibu. Tegasnya, banyak kebaikan yang diperolehi daripada makanan ayam '\n",
      " 'yang lazat ini, bak kata pepatah, berat sama dipikul, ringan sama dijinjing. '\n",
      " 'Oleh itu, wajar untuk kita mengenal pasti cara yang betul agar setiap '\n",
      " 'golongan masyarakat mempunyai akhlak yang baik dalam kehidupan masing-masing '\n",
      " 'agar menjadi contoh terbaik dan celik dalam tutur kata. Langkah pertama yang '\n",
      " 'boleh dilakukan adalah dengan memperkenalkan nasi ayam yang mempunyai nilai '\n",
      " 'yang baik supaya ia memberi kesan yang lebih baik. Diharap, setiap ahli '\n",
      " 'masyarakat dapat berganding bahu dengan lebih gigih dalam menjayakan '\n",
      " 'aktiviti berfaedah ini. Selain dapat memupuk gaya hidup sihat, nasi ayam '\n",
      " 'yang lazat ini dapat menjamin kesihatan']\n"
     ]
    }
   ],
   "source": [
    "pprint(model.generate(isi_penting, mode = 'karangan',\n",
    "    do_sample=True, \n",
    "    max_length=256, \n",
    "    top_k=50, \n",
    "    top_p=0.95,))"
   ]
  },
  {
   "cell_type": "code",
   "execution_count": 8,
   "metadata": {},
   "outputs": [],
   "source": [
    "# http://mieadham86.blogspot.com/2016/09/isi-isi-penting-karangan-bahasa-melayu.html\n",
    "# CARA MENJADI MURID CEMERLANG\n",
    "\n",
    "isi_penting = ['Rajin berusaha – tidak mudah putus asa',\n",
    "               'Menghormati orang yang lebih tua – mendapat keberkatan',\n",
    "               'Melibatkan diri secara aktif dalam bidang kokurikulum',\n",
    "               'Memberi tumpuan ketika guru mengajar.',\n",
    "               'Berdisiplin – menepati jadual yang disediakan.',\n",
    "               'Bercita-cita tinggi – mempunyai keazaman yang tinggi untuk berjaya']"
   ]
  },
  {
   "cell_type": "code",
   "execution_count": 9,
   "metadata": {},
   "outputs": [
    {
     "name": "stdout",
     "output_type": "stream",
     "text": [
      "['Pada zaman yang penuh dengan kemajuan sejagat dan kemajuan sejagat, terdapat '\n",
      " 'segelintir yang tidak bertanggungjawab menidakkan kemajuan minda masyarakat. '\n",
      " 'Masyarakat yang semakin hari semakin luntur dek perkembangan dan kemajuan '\n",
      " 'dek kerana kecanggihan teknologi, masalah sosial yang tidak terkawal dan '\n",
      " 'peningkatan kos sara hidup. Isu-isu ini telah dibincangkan secara '\n",
      " 'besar-besaran dan dibincang dalam media massa serta bertegas dan tiada '\n",
      " 'kompromi dalam soal ini. Tidak dinafikan masyarakat di seluruh dunia terus '\n",
      " 'ingkar terhadap pembangunan dan kemajuan negara malah golongan yang tidak '\n",
      " 'bertanggungjawab menggunakan teknologi untuk kepentingan diri. Sebagai '\n",
      " 'contoh, golongan remaja merupakan golongan yang paling terdedah kepada '\n",
      " 'perkembangan teknologi dan ia menjadi satu ancaman kepada kesihatan. Hal ini '\n",
      " 'disebabkan kemajuan teknologi dapat membawa limpahan pendapatan yang '\n",
      " 'signifikan kepada mereka. Maka, adalah tidak adil untuk kita lihat '\n",
      " 'bagaimanakah cara-cara yang boleh dilakukan oleh golongan remaja dalam '\n",
      " 'meningkatkan nilai murni dalam diri mereka. Cara terbaik dalam merencana '\n",
      " 'pendidikan adalah dengan menjaga kebersihan diri. Salah satu langkah terbaik '\n",
      " 'dalam mengekalkan jati diri adalah dengan memberi perhatian ketika guru '\n",
      " 'mengajar. Selain itu, ibu dan bapalah berperanan penting dalam memberikan '\n",
      " 'perhatian yang cukup kepada murid-murid. Sebagai contoh, para pelajar '\n",
      " 'hendaklah mencungkil bakat-bakat yang mempunyai nilai tertentu dan '\n",
      " 'berbekalkan latihan yang baik. Namun, sebagai pelajar']\n"
     ]
    }
   ],
   "source": [
    "pprint(model.generate(isi_penting, do_sample=True, mode = 'karangan',\n",
    "    max_length=256,\n",
    "    top_k=50, \n",
    "    top_p=0.95, ))"
   ]
  }
 ],
 "metadata": {
  "kernelspec": {
   "display_name": "Python 3 (ipykernel)",
   "language": "python",
   "name": "python3"
  },
  "language_info": {
   "codemirror_mode": {
    "name": "ipython",
    "version": 3
   },
   "file_extension": ".py",
   "mimetype": "text/x-python",
   "name": "python",
   "nbconvert_exporter": "python",
   "pygments_lexer": "ipython3",
   "version": "3.8.10"
  },
  "varInspector": {
   "cols": {
    "lenName": 16,
    "lenType": 16,
    "lenVar": 40
   },
   "kernels_config": {
    "python": {
     "delete_cmd_postfix": "",
     "delete_cmd_prefix": "del ",
     "library": "var_list.py",
     "varRefreshCmd": "print(var_dic_list())"
    },
    "r": {
     "delete_cmd_postfix": ") ",
     "delete_cmd_prefix": "rm(",
     "library": "var_list.r",
     "varRefreshCmd": "cat(var_dic_list()) "
    }
   },
   "types_to_exclude": [
    "module",
    "function",
    "builtin_function_or_method",
    "instance",
    "_Feature"
   ],
   "window_display": false
  }
 },
 "nbformat": 4,
 "nbformat_minor": 2
}
