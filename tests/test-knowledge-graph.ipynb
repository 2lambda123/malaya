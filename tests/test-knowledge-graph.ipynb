{
 "cells": [
  {
   "cell_type": "code",
   "execution_count": 1,
   "id": "fallen-clear",
   "metadata": {},
   "outputs": [],
   "source": [
    "import sys\n",
    "import os\n",
    "\n",
    "SOURCE_DIR = os.path.dirname(os.path.dirname(os.path.abspath(__name__)))\n",
    "sys.path.insert(0, SOURCE_DIR)"
   ]
  },
  {
   "cell_type": "code",
   "execution_count": 2,
   "id": "likely-asbestos",
   "metadata": {},
   "outputs": [],
   "source": [
    "import malaya\n",
    "import logging\n",
    "\n",
    "logging.basicConfig(level=logging.DEBUG)"
   ]
  },
  {
   "cell_type": "code",
   "execution_count": 3,
   "id": "adjacent-honduras",
   "metadata": {},
   "outputs": [
    {
     "data": {
      "text/plain": [
       "'/Users/huseinzolkepli/Malaya'"
      ]
     },
     "execution_count": 3,
     "metadata": {},
     "output_type": "execute_result"
    }
   ],
   "source": [
    "malaya.__home__"
   ]
  },
  {
   "cell_type": "code",
   "execution_count": 4,
   "id": "inner-buying",
   "metadata": {},
   "outputs": [],
   "source": [
    "string1 = \"Yang Berhormat Dato Sri Haji Mohammad Najib bin Tun Haji Abdul Razak ialah ahli politik Malaysia dan merupakan bekas Perdana Menteri Malaysia ke-6 yang mana beliau menjawat jawatan dari 3 April 2009 hingga 9 Mei 2018. Beliau juga pernah berkhidmat sebagai bekas Menteri Kewangan dan merupakan Ahli Parlimen Pekan Pahang\"\n",
    "string2 = \"Pahang ialah negeri yang ketiga terbesar di Malaysia Terletak di lembangan Sungai Pahang yang amat luas negeri Pahang bersempadan dengan Kelantan di utara Perak Selangor serta Negeri Sembilan di barat Johor di selatan dan Terengganu dan Laut China Selatan di timur.\""
   ]
  },
  {
   "cell_type": "code",
   "execution_count": 5,
   "id": "floating-weather",
   "metadata": {},
   "outputs": [
    {
     "name": "stderr",
     "output_type": "stream",
     "text": [
      "DEBUG:urllib3.connectionpool:Starting new HTTPS connection (1): f000.backblazeb2.com:443\n",
      "DEBUG:urllib3.connectionpool:https://f000.backblazeb2.com:443 \"HEAD /file/malaya-model/knowledge-graph-generator/base/model.pb HTTP/1.1\" 200 0\n",
      "DEBUG:urllib3.connectionpool:Starting new HTTPS connection (1): f000.backblazeb2.com:443\n",
      "DEBUG:urllib3.connectionpool:https://f000.backblazeb2.com:443 \"HEAD /file/malaya-model/bpe/sp10m.cased.ms-en.model HTTP/1.1\" 200 0\n",
      "DEBUG:urllib3.connectionpool:Starting new HTTPS connection (1): f000.backblazeb2.com:443\n",
      "DEBUG:urllib3.connectionpool:https://f000.backblazeb2.com:443 \"HEAD /file/malaya-model/knowledge-graph-generator/base/version HTTP/1.1\" 404 0\n",
      "DEBUG:urllib3.connectionpool:Starting new HTTPS connection (1): f000.backblazeb2.com:443\n"
     ]
    },
    {
     "name": "stdout",
     "output_type": "stream",
     "text": [
      "downloading frozen model to /Users/huseinzolkepli/Malaya/knowledge-graph-generator/base/model.pb\n"
     ]
    },
    {
     "name": "stderr",
     "output_type": "stream",
     "text": [
      "DEBUG:urllib3.connectionpool:https://f000.backblazeb2.com:443 \"GET /file/malaya-model/knowledge-graph-generator/base/model.pb HTTP/1.1\" 200 245503769\n",
      "235MB [00:29, 8.04MB/s]                          \n",
      "DEBUG:urllib3.connectionpool:Starting new HTTPS connection (1): f000.backblazeb2.com:443\n"
     ]
    },
    {
     "name": "stdout",
     "output_type": "stream",
     "text": [
      "downloading frozen vocab to /Users/huseinzolkepli/Malaya/knowledge-graph-generator/base/sp10m.cased.ms-en.model\n"
     ]
    },
    {
     "name": "stderr",
     "output_type": "stream",
     "text": [
      "DEBUG:urllib3.connectionpool:https://f000.backblazeb2.com:443 \"GET /file/malaya-model/bpe/sp10m.cased.ms-en.model HTTP/1.1\" 200 803030\n",
      "131%|██████████| 1.00/0.77 [00:01<00:00, 1.21s/MB]\n",
      "INFO:root:running knowledge-graph-generator/base using device /device:CPU:0\n",
      "DEBUG:urllib3.connectionpool:Starting new HTTPS connection (1): f000.backblazeb2.com:443\n",
      "DEBUG:urllib3.connectionpool:https://f000.backblazeb2.com:443 \"HEAD /file/malaya-model/knowledge-graph-generator/base-quantized/model.pb HTTP/1.1\" 200 0\n",
      "WARNING:root:Load quantized model will cause accuracy drop.\n",
      "DEBUG:urllib3.connectionpool:Starting new HTTPS connection (1): f000.backblazeb2.com:443\n",
      "DEBUG:urllib3.connectionpool:https://f000.backblazeb2.com:443 \"HEAD /file/malaya-model/knowledge-graph-generator/base-quantized/model.pb HTTP/1.1\" 200 0\n",
      "DEBUG:urllib3.connectionpool:Starting new HTTPS connection (1): f000.backblazeb2.com:443\n",
      "DEBUG:urllib3.connectionpool:https://f000.backblazeb2.com:443 \"HEAD /file/malaya-model/bpe/sp10m.cased.ms-en.model HTTP/1.1\" 200 0\n",
      "DEBUG:urllib3.connectionpool:Starting new HTTPS connection (1): f000.backblazeb2.com:443\n",
      "DEBUG:urllib3.connectionpool:https://f000.backblazeb2.com:443 \"HEAD /file/malaya-model/knowledge-graph-generator/base-quantized/version HTTP/1.1\" 404 0\n",
      "DEBUG:urllib3.connectionpool:Starting new HTTPS connection (1): f000.backblazeb2.com:443\n"
     ]
    },
    {
     "name": "stdout",
     "output_type": "stream",
     "text": [
      "downloading frozen model to /Users/huseinzolkepli/Malaya/knowledge-graph-generator/base-quantized/model.pb\n"
     ]
    },
    {
     "name": "stderr",
     "output_type": "stream",
     "text": [
      "DEBUG:urllib3.connectionpool:https://f000.backblazeb2.com:443 \"GET /file/malaya-model/knowledge-graph-generator/base-quantized/model.pb HTTP/1.1\" 200 63827304\n",
      "100%|██████████| 61.0/60.9 [00:10<00:00, 5.92MB/s]\n",
      "DEBUG:urllib3.connectionpool:Starting new HTTPS connection (1): f000.backblazeb2.com:443\n"
     ]
    },
    {
     "name": "stdout",
     "output_type": "stream",
     "text": [
      "downloading frozen vocab to /Users/huseinzolkepli/Malaya/knowledge-graph-generator/base-quantized/sp10m.cased.ms-en.model\n"
     ]
    },
    {
     "name": "stderr",
     "output_type": "stream",
     "text": [
      "DEBUG:urllib3.connectionpool:https://f000.backblazeb2.com:443 \"GET /file/malaya-model/bpe/sp10m.cased.ms-en.model HTTP/1.1\" 200 803030\n",
      "131%|██████████| 1.00/0.77 [00:01<00:00, 1.65s/MB]\n",
      "INFO:root:running knowledge-graph-generator/base-quantized using device /device:CPU:0\n"
     ]
    }
   ],
   "source": [
    "model = malaya.knowledge_graph.transformer()\n",
    "quantized_model = malaya.knowledge_graph.transformer(quantized = True)"
   ]
  },
  {
   "cell_type": "code",
   "execution_count": 6,
   "id": "brief-content",
   "metadata": {},
   "outputs": [
    {
     "name": "stderr",
     "output_type": "stream",
     "text": [
      "WARNING:root:1\n"
     ]
    },
    {
     "data": {
      "text/plain": [
       "{'result': [{'subject': 'Honored Dato Sri Haji Mohammad Najib bin Tun Haji Abdul Razak',\n",
       "   'relation': 'occupation',\n",
       "   'object': 'Politician'},\n",
       "  {'subject': '6th Prime Minister of Malaysia',\n",
       "   'relation': 'position held',\n",
       "   'object': 'Member of the Pekan Pahang Parliament'},\n",
       "  {'subject': '6th Prime Minister of Malaysia',\n",
       "   'relation': 'end time',\n",
       "   'object': '09 May 2018'},\n",
       "  {'subject': 'Prime Minister of Malaysia',\n",
       "   'relation': 'position held',\n",
       "   'object': 'Minister of Finance'},\n",
       "  {'subject': 'Member of the Pekan Pahang Parliament',\n",
       "   'relation': 'start time',\n",
       "   'object': '03 April 2009'}],\n",
       " 'main_object': 'Honored Dato Sri Haji Mohammad Najib bin Tun Haji Abdul Razak',\n",
       " 'triple': 'Honored Dato Sri Haji Mohammad Najib bin Tun Haji Abdul Razak occupation Politician, 6th Prime Minister of Malaysia position held Member of the Pekan Pahang Parliament, 6th Prime Minister of Malaysia end time 09 May 2018, Prime Minister of Malaysia position held Minister of Finance, Member of the Pekan Pahang Parliament start time 03 April 2009.',\n",
       " 'G': <networkx.classes.multidigraph.MultiDiGraph at 0x14b4bed90>}"
      ]
     },
     "execution_count": 6,
     "metadata": {},
     "output_type": "execute_result"
    }
   ],
   "source": [
    "r = model.greedy_decoder([string1, string2])\n",
    "r[0]"
   ]
  },
  {
   "cell_type": "code",
   "execution_count": 7,
   "id": "imported-participation",
   "metadata": {},
   "outputs": [
    {
     "name": "stderr",
     "output_type": "stream",
     "text": [
      "DEBUG:urllib3.connectionpool:Starting new HTTPS connection (1): f000.backblazeb2.com:443\n",
      "DEBUG:urllib3.connectionpool:https://f000.backblazeb2.com:443 \"HEAD /file/malaya-model/knowledge-graph-generator/large/model.pb HTTP/1.1\" 200 0\n",
      "DEBUG:urllib3.connectionpool:Starting new HTTPS connection (1): f000.backblazeb2.com:443\n",
      "DEBUG:urllib3.connectionpool:https://f000.backblazeb2.com:443 \"HEAD /file/malaya-model/bpe/sp10m.cased.ms-en.model HTTP/1.1\" 200 0\n",
      "DEBUG:urllib3.connectionpool:Starting new HTTPS connection (1): f000.backblazeb2.com:443\n",
      "DEBUG:urllib3.connectionpool:https://f000.backblazeb2.com:443 \"HEAD /file/malaya-model/knowledge-graph-generator/large/version HTTP/1.1\" 404 0\n",
      "DEBUG:urllib3.connectionpool:Starting new HTTPS connection (1): f000.backblazeb2.com:443\n"
     ]
    },
    {
     "name": "stdout",
     "output_type": "stream",
     "text": [
      "downloading frozen model to /Users/huseinzolkepli/Malaya/knowledge-graph-generator/large/model.pb\n"
     ]
    },
    {
     "name": "stderr",
     "output_type": "stream",
     "text": [
      "DEBUG:urllib3.connectionpool:https://f000.backblazeb2.com:443 \"GET /file/malaya-model/knowledge-graph-generator/large/model.pb HTTP/1.1\" 200 632000883\n",
      "100%|██████████| 603/603 [01:23<00:00, 7.19MB/s] \n",
      "DEBUG:urllib3.connectionpool:Starting new HTTPS connection (1): f000.backblazeb2.com:443\n"
     ]
    },
    {
     "name": "stdout",
     "output_type": "stream",
     "text": [
      "downloading frozen vocab to /Users/huseinzolkepli/Malaya/knowledge-graph-generator/large/sp10m.cased.ms-en.model\n"
     ]
    },
    {
     "name": "stderr",
     "output_type": "stream",
     "text": [
      "DEBUG:urllib3.connectionpool:https://f000.backblazeb2.com:443 \"GET /file/malaya-model/bpe/sp10m.cased.ms-en.model HTTP/1.1\" 200 803030\n",
      "131%|██████████| 1.00/0.77 [00:01<00:00, 1.12s/MB]\n",
      "INFO:root:running knowledge-graph-generator/large using device /device:CPU:0\n",
      "DEBUG:urllib3.connectionpool:Starting new HTTPS connection (1): f000.backblazeb2.com:443\n",
      "DEBUG:urllib3.connectionpool:https://f000.backblazeb2.com:443 \"HEAD /file/malaya-model/knowledge-graph-generator/large-quantized/model.pb HTTP/1.1\" 200 0\n",
      "WARNING:root:Load quantized model will cause accuracy drop.\n",
      "DEBUG:urllib3.connectionpool:Starting new HTTPS connection (1): f000.backblazeb2.com:443\n",
      "DEBUG:urllib3.connectionpool:https://f000.backblazeb2.com:443 \"HEAD /file/malaya-model/knowledge-graph-generator/large-quantized/model.pb HTTP/1.1\" 200 0\n",
      "DEBUG:urllib3.connectionpool:Starting new HTTPS connection (1): f000.backblazeb2.com:443\n",
      "DEBUG:urllib3.connectionpool:https://f000.backblazeb2.com:443 \"HEAD /file/malaya-model/bpe/sp10m.cased.ms-en.model HTTP/1.1\" 200 0\n",
      "DEBUG:urllib3.connectionpool:Starting new HTTPS connection (1): f000.backblazeb2.com:443\n",
      "DEBUG:urllib3.connectionpool:https://f000.backblazeb2.com:443 \"HEAD /file/malaya-model/knowledge-graph-generator/large-quantized/version HTTP/1.1\" 404 0\n",
      "DEBUG:urllib3.connectionpool:Starting new HTTPS connection (1): f000.backblazeb2.com:443\n"
     ]
    },
    {
     "name": "stdout",
     "output_type": "stream",
     "text": [
      "downloading frozen model to /Users/huseinzolkepli/Malaya/knowledge-graph-generator/large-quantized/model.pb\n"
     ]
    },
    {
     "name": "stderr",
     "output_type": "stream",
     "text": [
      "DEBUG:urllib3.connectionpool:https://f000.backblazeb2.com:443 \"GET /file/malaya-model/knowledge-graph-generator/large-quantized/model.pb HTTP/1.1\" 200 161296160\n",
      "100%|██████████| 154/154 [00:22<00:00, 6.76MB/s] \n",
      "DEBUG:urllib3.connectionpool:Starting new HTTPS connection (1): f000.backblazeb2.com:443\n"
     ]
    },
    {
     "name": "stdout",
     "output_type": "stream",
     "text": [
      "downloading frozen vocab to /Users/huseinzolkepli/Malaya/knowledge-graph-generator/large-quantized/sp10m.cased.ms-en.model\n"
     ]
    },
    {
     "name": "stderr",
     "output_type": "stream",
     "text": [
      "DEBUG:urllib3.connectionpool:https://f000.backblazeb2.com:443 \"GET /file/malaya-model/bpe/sp10m.cased.ms-en.model HTTP/1.1\" 200 803030\n",
      "131%|██████████| 1.00/0.77 [00:01<00:00, 1.11s/MB]\n",
      "INFO:root:running knowledge-graph-generator/large-quantized using device /device:CPU:0\n"
     ]
    }
   ],
   "source": [
    "model = malaya.knowledge_graph.transformer(model = 'large')\n",
    "quantized_model = malaya.knowledge_graph.transformer(model = 'large', quantized = True)"
   ]
  },
  {
   "cell_type": "code",
   "execution_count": 8,
   "id": "designing-sydney",
   "metadata": {},
   "outputs": [
    {
     "name": "stderr",
     "output_type": "stream",
     "text": [
      "WARNING:root:1\n"
     ]
    },
    {
     "data": {
      "text/plain": [
       "{'result': [{'subject': 'Dato Sri Haji Mohammad Najib bin Tun Haji Abdul Razak',\n",
       "   'relation': 'position held',\n",
       "   'object': 'Member of Parliament in the Parliament of Malaysia'},\n",
       "  {'subject': 'Member of Parliament',\n",
       "   'relation': 'in the',\n",
       "   'object': 'Parliament of Malaysia replaces Manuel bin Tun Haji Abdul Razak'},\n",
       "  {'subject': 'Member of Parliament',\n",
       "   'relation': 'in the',\n",
       "   'object': 'Parliament of Malaysia end time 09 May 2018'},\n",
       "  {'subject': 'Member of Parliament',\n",
       "   'relation': 'in the',\n",
       "   'object': 'Parliament of Pahang start time 03 April 2009'},\n",
       "  {'subject': 'Member of Parliament',\n",
       "   'relation': 'in the',\n",
       "   'object': 'Parliament of Pahang start time 09 May 2018'}],\n",
       " 'main_object': 'Dato Sri Haji Mohammad Najib bin Tun Haji Abdul Razak',\n",
       " 'triple': 'Dato Sri Haji Mohammad Najib bin Tun Haji Abdul Razak position held Member of Parliament in the Parliament of Malaysia, Member of Parliament in the Parliament of Malaysia replaces Manuel bin Tun Haji Abdul Razak, Member of Parliament in the Parliament of Malaysia end time 09 May 2018, Member of Parliament in the Parliament of Pahang start time 03 April 2009, Member of Parliament in the Parliament of Pahang start time 09 May 2018.',\n",
       " 'G': <networkx.classes.multidigraph.MultiDiGraph at 0x14b4be910>}"
      ]
     },
     "execution_count": 8,
     "metadata": {},
     "output_type": "execute_result"
    }
   ],
   "source": [
    "r = model.greedy_decoder([string1, string2])\n",
    "r[0]"
   ]
  },
  {
   "cell_type": "code",
   "execution_count": 9,
   "id": "everyday-crazy",
   "metadata": {},
   "outputs": [
    {
     "data": {
      "text/plain": [
       "True"
      ]
     },
     "execution_count": 9,
     "metadata": {},
     "output_type": "execute_result"
    }
   ],
   "source": [
    "malaya.utils.delete_cache('knowledge-graph-generator')"
   ]
  }
 ],
 "metadata": {
  "kernelspec": {
   "display_name": "Python 3",
   "language": "python",
   "name": "python3"
  },
  "language_info": {
   "codemirror_mode": {
    "name": "ipython",
    "version": 3
   },
   "file_extension": ".py",
   "mimetype": "text/x-python",
   "name": "python",
   "nbconvert_exporter": "python",
   "pygments_lexer": "ipython3",
   "version": "3.7.7"
  }
 },
 "nbformat": 4,
 "nbformat_minor": 5
}
