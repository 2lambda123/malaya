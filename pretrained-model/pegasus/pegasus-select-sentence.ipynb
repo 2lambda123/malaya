{
 "cells": [
  {
   "cell_type": "code",
   "execution_count": 1,
   "metadata": {},
   "outputs": [
    {
     "data": {
      "text/plain": [
       "3656919"
      ]
     },
     "execution_count": 1,
     "metadata": {},
     "output_type": "execute_result"
    }
   ],
   "source": [
    "with open('cleaned-news.txt') as fopen:\n",
    "    data = fopen.read().split('\\n')\n",
    "    \n",
    "len(data)"
   ]
  },
  {
   "cell_type": "code",
   "execution_count": 2,
   "metadata": {},
   "outputs": [
    {
     "data": {
      "text/plain": [
       "['Timb menteri pertanian',\n",
       " 'China telah menjadi pasaran antarabangsa baru Malaysia untuk pelbagai nanas premium, MD2, berikutan kejayaan durian dalam menembusi negara itu pada Mei lepas.',\n",
       " 'Timbalan Menteri Pertanian dan Industri Asas Tani Sim Tze Tzin kementerian yakin dapat mencapai eksport keseluruhan nanas sebanyak RM350 juta tahun ini berbanding RM343 juta yang dicatatkan pada tahun lepas dengan pasaran baharu itu.',\n",
       " '\"Industri nanas negara dijangka mempunyai kadar pertumbuhan tahunan sebanyak lima peratus setahun berdasarkan trend yang semakin meningkat dan penerimaan terhadap nanas Malaysia.',\n",
       " '\"Pengeluaran nanas kebangsaan pada 2019 dijangka bernilai RM530 juta berbanding RM502 juta pada 2018,\" katanya kepada media selepas pelancaran penerbangan sewa khas Malaysia yang pertama untuk membawa nanas dari Malaysia ke Zhengzhou, China, di Sepang hari ini.']"
      ]
     },
     "execution_count": 2,
     "metadata": {},
     "output_type": "execute_result"
    }
   ],
   "source": [
    "data[:5]"
   ]
  },
  {
   "cell_type": "code",
   "execution_count": 3,
   "metadata": {},
   "outputs": [
    {
     "name": "stdout",
     "output_type": "stream",
     "text": [
      "173012\n"
     ]
    }
   ],
   "source": [
    "results, result = [], []\n",
    "for i in data:\n",
    "    if not len(i) and len(result):\n",
    "        results.append(result)\n",
    "        result = []\n",
    "    else:\n",
    "        result.append(i)\n",
    "        \n",
    "if len(result):\n",
    "    results.append(result)\n",
    "    \n",
    "print(len(results))"
   ]
  },
  {
   "cell_type": "code",
   "execution_count": 4,
   "metadata": {},
   "outputs": [],
   "source": [
    "import re\n",
    "\n",
    "def sliding(strings, n = 5):\n",
    "    results = []\n",
    "    for i in range(len(strings) - n):\n",
    "        results.append(strings[i: i + n])\n",
    "    return results\n",
    "\n",
    "def _get_ngrams(n, text):\n",
    "    ngram_set = set()\n",
    "    text_length = len(text)\n",
    "    max_index_ngram_start = text_length - n\n",
    "    for i in range(max_index_ngram_start + 1):\n",
    "        ngram_set.add(tuple(text[i:i + n]))\n",
    "    return ngram_set\n",
    "\n",
    "\n",
    "def _get_word_ngrams(n, sentences):\n",
    "    assert len(sentences) > 0\n",
    "    assert n > 0\n",
    "\n",
    "    words = sum(sentences, [])\n",
    "    return _get_ngrams(n, words)\n",
    "\n",
    "def cal_rouge(evaluated_ngrams, reference_ngrams):\n",
    "    reference_count = len(reference_ngrams)\n",
    "    evaluated_count = len(evaluated_ngrams)\n",
    "\n",
    "    overlapping_ngrams = evaluated_ngrams.intersection(reference_ngrams)\n",
    "    overlapping_count = len(overlapping_ngrams)\n",
    "\n",
    "    if evaluated_count == 0:\n",
    "        precision = 0.0\n",
    "    else:\n",
    "        precision = overlapping_count / evaluated_count\n",
    "\n",
    "    if reference_count == 0:\n",
    "        recall = 0.0\n",
    "    else:\n",
    "        recall = overlapping_count / reference_count\n",
    "\n",
    "    f1_score = 2.0 * ((precision * recall) / (precision + recall + 1e-8))\n",
    "    return {\"f\": f1_score, \"p\": precision, \"r\": recall}\n",
    "\n",
    "def _rouge_clean(s):\n",
    "    return re.sub(r'[^a-zA-Z0-9 ]', '', s)"
   ]
  },
  {
   "cell_type": "code",
   "execution_count": 5,
   "metadata": {},
   "outputs": [],
   "source": [
    "import numpy as np\n",
    "from numpy.random import default_rng\n",
    "\n",
    "rng = default_rng()"
   ]
  },
  {
   "cell_type": "code",
   "execution_count": 9,
   "metadata": {},
   "outputs": [
    {
     "data": {
      "text/plain": [
       "[0]"
      ]
     },
     "execution_count": 9,
     "metadata": {},
     "output_type": "execute_result"
    }
   ],
   "source": [
    "def get_rouges(strings, n = 1):\n",
    "    rouges = []\n",
    "    for i in range(len(strings)):\n",
    "        abstract = strings[i]\n",
    "        doc_sent_list = [strings[k] for k in range(len(strings)) if k != i]\n",
    "        sents = _rouge_clean(' '.join(doc_sent_list)).split()\n",
    "        abstract = _rouge_clean(abstract).split()\n",
    "        evaluated_1grams = _get_word_ngrams(n, [sents])\n",
    "        reference_1grams = _get_word_ngrams(n, [abstract])\n",
    "        rouges.append(cal_rouge(evaluated_1grams, reference_1grams)['f'])\n",
    "    return rouges\n",
    "\n",
    "# Principal Select top-m scored sentences according to importance. As a proxy for importance we compute ROUGE1-\n",
    "# F1 (Lin, 2004) between the sentence and the rest of the document\n",
    "def get_rouge(strings, top_k = 1):\n",
    "    rouges = get_rouges(strings)\n",
    "    return np.argsort(rouges)[::-1][:top_k]\n",
    "\n",
    "# Random Uniformly select m sentences at random.\n",
    "def get_random(strings, top_k = 1):\n",
    "    return rng.choice(len(strings), size=top_k, replace=False)\n",
    "\n",
    "# Lead Select the first m sentences.\n",
    "def get_lead(strings, top_k = 1):\n",
    "    return [i for i in range(top_k)]"
   ]
  },
  {
   "cell_type": "code",
   "execution_count": 8,
   "metadata": {},
   "outputs": [
    {
     "name": "stdout",
     "output_type": "stream",
     "text": [
      "['Timb menteri pertanian', 'China telah menjadi pasaran antarabangsa baru Malaysia untuk pelbagai nanas premium, MD2, berikutan kejayaan durian dalam menembusi negara itu pada Mei lepas.', '[MASK]', '\"Industri nanas negara dijangka mempunyai kadar pertumbuhan tahunan sebanyak lima peratus setahun berdasarkan trend yang semakin meningkat dan penerimaan terhadap nanas Malaysia.', '\"Pengeluaran nanas kebangsaan pada 2019 dijangka bernilai RM530 juta berbanding RM502 juta pada 2018,\" katanya kepada media selepas pelancaran penerbangan sewa khas Malaysia yang pertama untuk membawa nanas dari Malaysia ke Zhengzhou, China, di Sepang hari ini.'] \n",
      "\n",
      "['China telah menjadi pasaran antarabangsa baru Malaysia untuk pelbagai nanas premium, MD2, berikutan kejayaan durian dalam menembusi negara itu pada Mei lepas.', '[MASK]', '\"Industri nanas negara dijangka mempunyai kadar pertumbuhan tahunan sebanyak lima peratus setahun berdasarkan trend yang semakin meningkat dan penerimaan terhadap nanas Malaysia.', '\"Pengeluaran nanas kebangsaan pada 2019 dijangka bernilai RM530 juta berbanding RM502 juta pada 2018,\" katanya kepada media selepas pelancaran penerbangan sewa khas Malaysia yang pertama untuk membawa nanas dari Malaysia ke Zhengzhou, China, di Sepang hari ini.', 'Turut hadir Ketua Pegawai Eksekutif Kumpulan Malaysia Airports Holdings Bhd Raja Azmi Raja Nazuddin dan Duta Khas Malaysia ke China Tan Kok Wai.'] \n",
      "\n",
      "['[MASK]', '\"Industri nanas negara dijangka mempunyai kadar pertumbuhan tahunan sebanyak lima peratus setahun berdasarkan trend yang semakin meningkat dan penerimaan terhadap nanas Malaysia.', '\"Pengeluaran nanas kebangsaan pada 2019 dijangka bernilai RM530 juta berbanding RM502 juta pada 2018,\" katanya kepada media selepas pelancaran penerbangan sewa khas Malaysia yang pertama untuk membawa nanas dari Malaysia ke Zhengzhou, China, di Sepang hari ini.', 'Turut hadir Ketua Pegawai Eksekutif Kumpulan Malaysia Airports Holdings Bhd Raja Azmi Raja Nazuddin dan Duta Khas Malaysia ke China Tan Kok Wai.', 'Sim berkata dari segi eksport, produk nanas Malaysia telah menembusi 20 negara, dengan negara-negara pengimport utama termasuk dari Singapura, Jepun, Hong Kong, China, Timur Tengah dan Eropah.'] \n",
      "\n",
      "['\"Industri nanas negara dijangka mempunyai kadar pertumbuhan tahunan sebanyak lima peratus setahun berdasarkan trend yang semakin meningkat dan penerimaan terhadap nanas Malaysia.', '[MASK]', 'Turut hadir Ketua Pegawai Eksekutif Kumpulan Malaysia Airports Holdings Bhd Raja Azmi Raja Nazuddin dan Duta Khas Malaysia ke China Tan Kok Wai.', 'Sim berkata dari segi eksport, produk nanas Malaysia telah menembusi 20 negara, dengan negara-negara pengimport utama termasuk dari Singapura, Jepun, Hong Kong, China, Timur Tengah dan Eropah.', 'Beliau berkata pada masa ini terdapat kira-kira 16,500 hektar ladang nanas, di mana 2,500 hektar ditanam dengan pelbagai MD2.'] \n",
      "\n",
      "['\"Pengeluaran nanas kebangsaan pada 2019 dijangka bernilai RM530 juta berbanding RM502 juta pada 2018,\" katanya kepada media selepas pelancaran penerbangan sewa khas Malaysia yang pertama untuk membawa nanas dari Malaysia ke Zhengzhou, China, di Sepang hari ini.', 'Turut hadir Ketua Pegawai Eksekutif Kumpulan Malaysia Airports Holdings Bhd Raja Azmi Raja Nazuddin dan Duta Khas Malaysia ke China Tan Kok Wai.', 'Sim berkata dari segi eksport, produk nanas Malaysia telah menembusi 20 negara, dengan negara-negara pengimport utama termasuk dari Singapura, Jepun, Hong Kong, China, Timur Tengah dan Eropah.', 'Beliau berkata pada masa ini terdapat kira-kira 16,500 hektar ladang nanas, di mana 2,500 hektar ditanam dengan pelbagai MD2.', '[MASK]'] \n",
      "\n",
      "['Turut hadir Ketua Pegawai Eksekutif Kumpulan Malaysia Airports Holdings Bhd Raja Azmi Raja Nazuddin dan Duta Khas Malaysia ke China Tan Kok Wai.', 'Sim berkata dari segi eksport, produk nanas Malaysia telah menembusi 20 negara, dengan negara-negara pengimport utama termasuk dari Singapura, Jepun, Hong Kong, China, Timur Tengah dan Eropah.', 'Beliau berkata pada masa ini terdapat kira-kira 16,500 hektar ladang nanas, di mana 2,500 hektar ditanam dengan pelbagai MD2.', '[MASK]', '\"Usaha LHM pasti akan meningkatkan jumlah eksport nanas dari Malaysia terutamanya ke China.'] \n",
      "\n",
      "['Sim berkata dari segi eksport, produk nanas Malaysia telah menembusi 20 negara, dengan negara-negara pengimport utama termasuk dari Singapura, Jepun, Hong Kong, China, Timur Tengah dan Eropah.', 'Beliau berkata pada masa ini terdapat kira-kira 16,500 hektar ladang nanas, di mana 2,500 hektar ditanam dengan pelbagai MD2.', '[MASK]', '\"Usaha LHM pasti akan meningkatkan jumlah eksport nanas dari Malaysia terutamanya ke China.', '\"Saya difahamkan bahawa LHM akan mengeksport nanas melalui tiga penerbangan kargo setiap minggu, sekurang-kurangnya 2,000 tan nanas setahun - anggaran jumlah eksport bernilai RM12 juta,\" katanya.'] \n",
      "\n",
      "['Beliau berkata pada masa ini terdapat kira-kira 16,500 hektar ladang nanas, di mana 2,500 hektar ditanam dengan pelbagai MD2.', '[MASK]', '\"Usaha LHM pasti akan meningkatkan jumlah eksport nanas dari Malaysia terutamanya ke China.', '\"Saya difahamkan bahawa LHM akan mengeksport nanas melalui tiga penerbangan kargo setiap minggu, sekurang-kurangnya 2,000 tan nanas setahun - anggaran jumlah eksport bernilai RM12 juta,\" katanya.', 'Beliau berkata penerbangan sewa khas berjadual ke Zhengzhou akan meningkatkan dan mengukuhkan hubungan perdagangan dua hala antara Malaysia dan China.'] \n",
      "\n",
      "['[MASK]', '\"Usaha LHM pasti akan meningkatkan jumlah eksport nanas dari Malaysia terutamanya ke China.', '\"Saya difahamkan bahawa LHM akan mengeksport nanas melalui tiga penerbangan kargo setiap minggu, sekurang-kurangnya 2,000 tan nanas setahun - anggaran jumlah eksport bernilai RM12 juta,\" katanya.', 'Beliau berkata penerbangan sewa khas berjadual ke Zhengzhou akan meningkatkan dan mengukuhkan hubungan perdagangan dua hala antara Malaysia dan China.', 'Sementara itu, Sim berkata selepas durian dan nanas, kementerian merancang untuk mengeksport nangka, cempedak, belimbing dan rambutan.'] \n",
      "\n"
     ]
    }
   ],
   "source": [
    "slided = sliding(results[0][:])\n",
    "for i in range(len(slided)):\n",
    "    strings = slided[i]\n",
    "    rouge_, random_ = get_rouge(strings), get_random(strings)\n",
    "    strings[rouge_[0]] = '[MASK]'\n",
    "    print(strings, '\\n')"
   ]
  },
  {
   "cell_type": "code",
   "execution_count": null,
   "metadata": {},
   "outputs": [],
   "source": []
  }
 ],
 "metadata": {
  "kernelspec": {
   "display_name": "Python 3",
   "language": "python",
   "name": "python3"
  },
  "language_info": {
   "codemirror_mode": {
    "name": "ipython",
    "version": 3
   },
   "file_extension": ".py",
   "mimetype": "text/x-python",
   "name": "python",
   "nbconvert_exporter": "python",
   "pygments_lexer": "ipython3",
   "version": "3.6.8"
  }
 },
 "nbformat": 4,
 "nbformat_minor": 2
}
