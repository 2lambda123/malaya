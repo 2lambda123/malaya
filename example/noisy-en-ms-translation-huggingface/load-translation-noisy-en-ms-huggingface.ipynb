{
 "cells": [
  {
   "cell_type": "markdown",
   "metadata": {},
   "source": [
    "# EN to MS Noisy HuggingFace"
   ]
  },
  {
   "cell_type": "markdown",
   "metadata": {},
   "source": [
    "<div class=\"alert alert-info\">\n",
    "\n",
    "This tutorial is available as an IPython notebook at [Malaya/example/noisy-en-ms-translation-huggingface](https://github.com/huseinzol05/Malaya/tree/master/example/noisy-en-ms-translation-huggingface).\n",
    "    \n",
    "</div>"
   ]
  },
  {
   "cell_type": "markdown",
   "metadata": {},
   "source": [
    "<div class=\"alert alert-warning\">\n",
    "\n",
    "This module trained on standard language and augmented local language structures, proceed with caution.\n",
    "    \n",
    "</div>"
   ]
  },
  {
   "cell_type": "markdown",
   "metadata": {},
   "source": [
    "<div class=\"alert alert-warning\">\n",
    "\n",
    "Required Tensorflow >= 2.0 for HuggingFace interface.\n",
    "    \n",
    "</div>"
   ]
  },
  {
   "cell_type": "code",
   "execution_count": 1,
   "metadata": {},
   "outputs": [
    {
     "name": "stdout",
     "output_type": "stream",
     "text": [
      "CPU times: user 5.77 s, sys: 1.13 s, total: 6.89 s\n",
      "Wall time: 20.2 s\n"
     ]
    }
   ],
   "source": [
    "%%time\n",
    "\n",
    "import malaya\n",
    "import logging\n",
    "\n",
    "logging.basicConfig(level=logging.INFO)"
   ]
  },
  {
   "cell_type": "markdown",
   "metadata": {},
   "source": [
    "### List available HuggingFace models"
   ]
  },
  {
   "cell_type": "code",
   "execution_count": 2,
   "metadata": {},
   "outputs": [
    {
     "name": "stderr",
     "output_type": "stream",
     "text": [
      "INFO:malaya.translation.en_ms:tested on 77k EN-MS test set generated from teacher semisupervised model, https://huggingface.co/datasets/mesolitica/en-ms\n",
      "INFO:malaya.translation.en_ms:tested on FLORES200 EN-MS (eng_Latn-zsm_Latn) pair `dev` set, https://github.com/facebookresearch/flores/tree/main/flores200\n",
      "WARNING:malaya.translation.en_ms:77k EN-MS test set generated from teacher semisupervised model, the models might generate better results compared to to the teacher semisupervised model, thus lower BLEU score.\n"
     ]
    },
    {
     "data": {
      "text/html": [
       "<div>\n",
       "<style scoped>\n",
       "    .dataframe tbody tr th:only-of-type {\n",
       "        vertical-align: middle;\n",
       "    }\n",
       "\n",
       "    .dataframe tbody tr th {\n",
       "        vertical-align: top;\n",
       "    }\n",
       "\n",
       "    .dataframe thead th {\n",
       "        text-align: right;\n",
       "    }\n",
       "</style>\n",
       "<table border=\"1\" class=\"dataframe\">\n",
       "  <thead>\n",
       "    <tr style=\"text-align: right;\">\n",
       "      <th></th>\n",
       "      <th>Size (MB)</th>\n",
       "      <th>BLEU</th>\n",
       "      <th>SacreBLEU Verbose</th>\n",
       "      <th>SacreBLEU-chrF++-FLORES200</th>\n",
       "      <th>Suggested length</th>\n",
       "    </tr>\n",
       "  </thead>\n",
       "  <tbody>\n",
       "    <tr>\n",
       "      <th>mesolitica/t5-super-tiny-finetuned-noisy-en-ms</th>\n",
       "      <td>50.8</td>\n",
       "      <td>58.72114</td>\n",
       "      <td>80.4/64.0/53.0/44.7 (BP = 0.994 ratio = 0.994 ...</td>\n",
       "      <td>64.22</td>\n",
       "      <td>256</td>\n",
       "    </tr>\n",
       "    <tr>\n",
       "      <th>mesolitica/t5-tiny-finetuned-noisy-en-ms</th>\n",
       "      <td>139</td>\n",
       "      <td>62.343084</td>\n",
       "      <td>82.6/67.5/57.2/49.3 (BP = 0.990 ratio = 0.990 ...</td>\n",
       "      <td>64.26</td>\n",
       "      <td>256</td>\n",
       "    </tr>\n",
       "    <tr>\n",
       "      <th>mesolitica/t5-small-finetuned-noisy-en-ms</th>\n",
       "      <td>242</td>\n",
       "      <td>65.000708</td>\n",
       "      <td>84.8/70.5/60.6/52.9 (BP = 0.983 ratio = 0.983 ...</td>\n",
       "      <td>66.31</td>\n",
       "      <td>256</td>\n",
       "    </tr>\n",
       "  </tbody>\n",
       "</table>\n",
       "</div>"
      ],
      "text/plain": [
       "                                               Size (MB)       BLEU  \\\n",
       "mesolitica/t5-super-tiny-finetuned-noisy-en-ms      50.8   58.72114   \n",
       "mesolitica/t5-tiny-finetuned-noisy-en-ms             139  62.343084   \n",
       "mesolitica/t5-small-finetuned-noisy-en-ms            242  65.000708   \n",
       "\n",
       "                                                                                SacreBLEU Verbose  \\\n",
       "mesolitica/t5-super-tiny-finetuned-noisy-en-ms  80.4/64.0/53.0/44.7 (BP = 0.994 ratio = 0.994 ...   \n",
       "mesolitica/t5-tiny-finetuned-noisy-en-ms        82.6/67.5/57.2/49.3 (BP = 0.990 ratio = 0.990 ...   \n",
       "mesolitica/t5-small-finetuned-noisy-en-ms       84.8/70.5/60.6/52.9 (BP = 0.983 ratio = 0.983 ...   \n",
       "\n",
       "                                               SacreBLEU-chrF++-FLORES200  \\\n",
       "mesolitica/t5-super-tiny-finetuned-noisy-en-ms                      64.22   \n",
       "mesolitica/t5-tiny-finetuned-noisy-en-ms                            64.26   \n",
       "mesolitica/t5-small-finetuned-noisy-en-ms                           66.31   \n",
       "\n",
       "                                               Suggested length  \n",
       "mesolitica/t5-super-tiny-finetuned-noisy-en-ms              256  \n",
       "mesolitica/t5-tiny-finetuned-noisy-en-ms                    256  \n",
       "mesolitica/t5-small-finetuned-noisy-en-ms                   256  "
      ]
     },
     "execution_count": 2,
     "metadata": {},
     "output_type": "execute_result"
    }
   ],
   "source": [
    "malaya.translation.en_ms.available_huggingface()"
   ]
  },
  {
   "cell_type": "markdown",
   "metadata": {},
   "source": [
    "### Load Transformer models\n",
    "\n",
    "```python\n",
    "def huggingface(model: str = 'mesolitica/t5-tiny-finetuned-noisy-en-ms', **kwargs):\n",
    "    \"\"\"\n",
    "    Load HuggingFace model to translate EN-to-MS.\n",
    "\n",
    "    Parameters\n",
    "    ----------\n",
    "    model : str, optional (default='base')\n",
    "        Model architecture supported. Allowed values:\n",
    "\n",
    "        * ``'mesolitica/t5-super-tiny-finetuned-noisy-en-ms'`` - https://huggingface.co/mesolitica/t5-super-tiny-finetuned-noisy-en-ms\n",
    "        * ``'mesolitica/t5-tiny-finetuned-noisy-en-ms'`` - https://huggingface.co/mesolitica/t5-tiny-finetuned-noisy-en-ms\n",
    "        * ``'mesolitica/t5-small-finetuned-noisy-en-ms'`` - https://huggingface.co/mesolitica/t5-small-finetuned-noisy-en-ms\n",
    "\n",
    "    Returns\n",
    "    -------\n",
    "    result: malaya.model.huggingface.Generator\n",
    "    \"\"\"\n",
    "```"
   ]
  },
  {
   "cell_type": "code",
   "execution_count": 3,
   "metadata": {},
   "outputs": [
    {
     "name": "stderr",
     "output_type": "stream",
     "text": [
      "INFO:malaya_boilerplate.frozen_graph:running Users/huseinzolkepli/.cache/huggingface/hub using device /device:CPU:0\n"
     ]
    }
   ],
   "source": [
    "transformer = malaya.translation.en_ms.transformer()"
   ]
  },
  {
   "cell_type": "code",
   "execution_count": 12,
   "metadata": {},
   "outputs": [],
   "source": [
    "transformer_noisy = malaya.translation.en_ms.huggingface(model = 'mesolitica/t5-small-finetuned-noisy-en-ms')"
   ]
  },
  {
   "cell_type": "markdown",
   "metadata": {},
   "source": [
    "### Translate\n",
    "\n",
    "```python\n",
    "def generate(self, strings: List[str], **kwargs):\n",
    "    \"\"\"\n",
    "    Generate texts from the input.\n",
    "\n",
    "    Parameters\n",
    "    ----------\n",
    "    strings : List[str]\n",
    "    **kwargs: vector arguments pass to huggingface `generate` method.\n",
    "\n",
    "    Returns\n",
    "    -------\n",
    "    result: List[str]\n",
    "    \"\"\"\n",
    "```\n",
    "\n",
    "**For better results, always split by end of sentences**."
   ]
  },
  {
   "cell_type": "code",
   "execution_count": 6,
   "metadata": {},
   "outputs": [],
   "source": [
    "from pprint import pprint"
   ]
  },
  {
   "cell_type": "code",
   "execution_count": 7,
   "metadata": {},
   "outputs": [
    {
     "name": "stdout",
     "output_type": "stream",
     "text": [
      "('KUALA LUMPUR, July 1 - Datuk Seri Anwar Ibrahim is not suitable to as the '\n",
      " 'prime minister candidate as he is allegedly not \"popular\" among the Malays, '\n",
      " 'Tun Dr Mahathir Mohamad claimed. The former prime minister reportedly said '\n",
      " 'the PKR president needs someone like himself in order to acquire support '\n",
      " 'from the Malays and win the election.')\n"
     ]
    }
   ],
   "source": [
    "# https://www.malaymail.com/news/malaysia/2020/07/01/dr-mahathir-again-claims-anwar-lacks-popularity-with-malays-to-be-pakatans/1880420\n",
    "\n",
    "string_news1 = 'KUALA LUMPUR, July 1 - Datuk Seri Anwar Ibrahim is not suitable to as the prime minister candidate as he is allegedly not \"popular\" among the Malays, Tun Dr Mahathir Mohamad claimed. The former prime minister reportedly said the PKR president needs someone like himself in order to acquire support from the Malays and win the election.'\n",
    "pprint(string_news1)"
   ]
  },
  {
   "cell_type": "code",
   "execution_count": 8,
   "metadata": {},
   "outputs": [
    {
     "name": "stdout",
     "output_type": "stream",
     "text": [
      "('(CNN)New York Attorney General Letitia James on Monday ordered the Black '\n",
      " 'Lives Matter Foundation -- which she said is not affiliated with the larger '\n",
      " 'Black Lives Matter movement -- to stop collecting donations in New York. \"I '\n",
      " 'ordered the Black Lives Matter Foundation to stop illegally accepting '\n",
      " 'donations that were intended for the #BlackLivesMatter movement. This '\n",
      " 'foundation is not affiliated with the movement, yet it accepted countless '\n",
      " 'donations and deceived goodwill,\" James tweeted.')\n"
     ]
    }
   ],
   "source": [
    "# https://edition.cnn.com/2020/07/06/politics/new-york-attorney-general-blm/index.html\n",
    "\n",
    "string_news2 = '(CNN)New York Attorney General Letitia James on Monday ordered the Black Lives Matter Foundation -- which she said is not affiliated with the larger Black Lives Matter movement -- to stop collecting donations in New York. \"I ordered the Black Lives Matter Foundation to stop illegally accepting donations that were intended for the #BlackLivesMatter movement. This foundation is not affiliated with the movement, yet it accepted countless donations and deceived goodwill,\" James tweeted.'\n",
    "pprint(string_news2)"
   ]
  },
  {
   "cell_type": "code",
   "execution_count": 9,
   "metadata": {},
   "outputs": [
    {
     "name": "stdout",
     "output_type": "stream",
     "text": [
      "('Amongst the wide-ranging initiatives proposed are a sustainable food '\n",
      " 'labelling framework, a reformulation of processed foods, and a '\n",
      " 'sustainability chapter in all EU bilateral trade agreements. The EU also '\n",
      " 'plans to publish a proposal for a legislative framework for sustainable food '\n",
      " 'systems by 2023 to ensure all foods on the EU market become increasingly '\n",
      " 'sustainable.')\n"
     ]
    }
   ],
   "source": [
    "# https://www.thestar.com.my/business/business-news/2020/07/04/malaysia-worries-new-eu-food-rules-could-hurt-palm-oil-exports\n",
    "\n",
    "string_news3 = 'Amongst the wide-ranging initiatives proposed are a sustainable food labelling framework, a reformulation of processed foods, and a sustainability chapter in all EU bilateral trade agreements. The EU also plans to publish a proposal for a legislative framework for sustainable food systems by 2023 to ensure all foods on the EU market become increasingly sustainable.'\n",
    "pprint(string_news3)"
   ]
  },
  {
   "cell_type": "code",
   "execution_count": 10,
   "metadata": {},
   "outputs": [
    {
     "name": "stdout",
     "output_type": "stream",
     "text": [
      "('This page shares my best articles to read on topics like health, happiness, '\n",
      " 'creativity, productivity and more. The central question that drives my work '\n",
      " 'is, “How can we live better?” To answer that question, I like to write about '\n",
      " 'science-based ways to solve practical problems.')\n"
     ]
    }
   ],
   "source": [
    "# https://jamesclear.com/articles\n",
    "\n",
    "string_article1 = 'This page shares my best articles to read on topics like health, happiness, creativity, productivity and more. The central question that drives my work is, “How can we live better?” To answer that question, I like to write about science-based ways to solve practical problems.'\n",
    "pprint(string_article1)"
   ]
  },
  {
   "cell_type": "code",
   "execution_count": 11,
   "metadata": {},
   "outputs": [
    {
     "name": "stdout",
     "output_type": "stream",
     "text": [
      "['KUALA LUMPUR 1 Julai - Datuk Seri Anwar Ibrahim tidak sesuai menjadi calon '\n",
      " 'perdana menteri kerana beliau didakwa tidak \"popular\" dalam kalangan orang '\n",
      " 'Melayu, kata Tun Dr Mahathir Mohamad. Bekas perdana menteri itu dilaporkan '\n",
      " 'berkata Presiden PKR memerlukan seseorang seperti dirinya untuk memperoleh '\n",
      " 'sokongan daripada orang Melayu dan memenangi pilihan raya.',\n",
      " '(CNN) Peguam Negara New York Letitia James pada hari Isnin memerintahkan '\n",
      " 'Yayasan Black Lives Matter - yang menurutnya tidak berafiliasi dengan '\n",
      " 'gerakan Black Lives Matter yang lebih besar - untuk berhenti mengumpulkan '\n",
      " 'sumbangan di New York. \"Saya memerintahkan Yayasan Black Lives Matter untuk '\n",
      " 'berhenti menerima sumbangan secara haram yang ditujukan untuk gerakan '\n",
      " '#BlackLivesMatter. Yayasan ini tidak berafiliasi dengan gerakan itu, namun '\n",
      " 'ia menerima banyak sumbangan dan menipu muhibah,\" tweet James.',\n",
      " 'Antara inisiatif luas yang dicadangkan adalah kerangka pelabelan makanan '\n",
      " 'yang lestari, pembaharuan makanan yang diproses, dan bab kelestarian dalam '\n",
      " 'semua perjanjian perdagangan dua hala EU. EU juga merancang untuk '\n",
      " 'menerbitkan proposal untuk kerangka perundangan untuk sistem makanan lestari '\n",
      " 'menjelang tahun 2023 untuk memastikan semua makanan di pasaran EU menjadi '\n",
      " 'semakin lestari.']\n",
      "CPU times: user 32.9 s, sys: 3.38 s, total: 36.3 s\n",
      "Wall time: 16.8 s\n"
     ]
    }
   ],
   "source": [
    "%%time\n",
    "\n",
    "pprint(transformer_noisy.generate([string_news1, string_news2, string_news3],\n",
    "                                 max_length = 1000))"
   ]
  },
  {
   "cell_type": "markdown",
   "metadata": {},
   "source": [
    "### compare results using local language structure"
   ]
  },
  {
   "cell_type": "code",
   "execution_count": 13,
   "metadata": {},
   "outputs": [],
   "source": [
    "strings = [\n",
    "    'u ni, talk properly lah',\n",
    "    \"just attended my cousin's wedding. pelik jugak dia buat majlis biasa2 je sebab her lifestyle looks lavish. then i found out they're going on a 3 weeks honeymoon. smart decision 👍\",\n",
    "    'Me after seeing this video: mm dapnya burger benjo extra mayo',\n",
    "    'Hi guys! I noticed semalam & harini dah ramai yang dapat cookies ni kan. So harini i nak share some post mortem of our first batch:',\n",
    "]"
   ]
  },
  {
   "cell_type": "code",
   "execution_count": 14,
   "metadata": {},
   "outputs": [
    {
     "name": "stdout",
     "output_type": "stream",
     "text": [
      "CPU times: user 13.4 s, sys: 1.71 s, total: 15.1 s\n",
      "Wall time: 7.63 s\n"
     ]
    },
    {
     "data": {
      "text/plain": [
       "['u ni, cakap betul lah',\n",
       " 'baru sahaja menghadiri majlis perkahwinan sepupu saya. pelik juga dia buat majlis biasa2 kerana gaya hidupnya kelihatan mewah. kemudian saya mendapat tahu bahawa mereka akan berbulan madu selama 3 minggu. keputusan pintar ',\n",
       " 'Saya setelah melihat video ini: mm dapnya burger benjo tambahan mayo',\n",
       " 'Hai kawan! Saya perhatikan semalam & harini ramai yang dapat kuki ni. Jadi harini saya nak berkongsi beberapa post mortem kumpulan pertama kami:']"
      ]
     },
     "execution_count": 14,
     "metadata": {},
     "output_type": "execute_result"
    }
   ],
   "source": [
    "%%time\n",
    "\n",
    "transformer_noisy.generate(strings, max_length = 1000)"
   ]
  },
  {
   "cell_type": "code",
   "execution_count": 15,
   "metadata": {},
   "outputs": [
    {
     "name": "stdout",
     "output_type": "stream",
     "text": [
      "CPU times: user 17.2 s, sys: 5.97 s, total: 23.2 s\n",
      "Wall time: 16.5 s\n"
     ]
    },
    {
     "data": {
      "text/plain": [
       "['u ni, bercakap dengan betul lah',\n",
       " 'baru sahaja menghadiri majlis perkahwinan sepupu saya. jugak buat dia majlis biasa2 je sebab gaya hidupnya kelihatan mewah. kemudian saya mendapat tahu bahawa mereka akan berbulan madu selama 3 minggu. keputusan pintar',\n",
       " 'Saya setelah melihat video ini: mm dapnya burger benjo extra mayo',\n",
       " 'Hai kawan-kawan! Saya perhatikan semalam & harini dah ramai yang dapat cookies ni kan. Jadi harini saya nak berkongsi beberapa post mortem kumpulan pertama kami:']"
      ]
     },
     "execution_count": 15,
     "metadata": {},
     "output_type": "execute_result"
    }
   ],
   "source": [
    "%%time\n",
    "\n",
    "transformer.greedy_decoder(strings)"
   ]
  },
  {
   "cell_type": "markdown",
   "metadata": {},
   "source": [
    "### compare with Google translate using googletrans\n",
    "\n",
    "Install it by,\n",
    "\n",
    "```bash\n",
    "pip3 install googletrans==4.0.0rc1\n",
    "```"
   ]
  },
  {
   "cell_type": "code",
   "execution_count": 18,
   "metadata": {},
   "outputs": [],
   "source": [
    "from googletrans import Translator\n",
    "\n",
    "translator = Translator()"
   ]
  },
  {
   "cell_type": "code",
   "execution_count": 19,
   "metadata": {},
   "outputs": [
    {
     "name": "stdout",
     "output_type": "stream",
     "text": [
      "u ni, bercakap dengan betul lah\n",
      "Baru sahaja menghadiri majlis perkahwinan sepupu saya.Pelik Jugak Dia Buat Majlis Biasa2 Je Sebab Gaya Hidupnya kelihatan mewah.Kemudian saya dapati mereka akan berbulan madu selama 3 minggu.Keputusan Pintar 👍\n",
      "Saya setelah melihat video ini: mm dapnya burger benjo tambahan mayo\n",
      "Hai semua!Saya perhatikan Semalam & Harini Dah Ramai Yang Dapate Cookies Ni Kan.Jadi harini i nak berkongsi beberapa bedah siasat kumpulan pertama kami:\n"
     ]
    }
   ],
   "source": [
    "for t in strings:\n",
    "    r = translator.translate(t, src='en', dest = 'ms')\n",
    "    print(r.text)"
   ]
  }
 ],
 "metadata": {
  "kernelspec": {
   "display_name": "Python 3",
   "language": "python",
   "name": "python3"
  },
  "language_info": {
   "codemirror_mode": {
    "name": "ipython",
    "version": 3
   },
   "file_extension": ".py",
   "mimetype": "text/x-python",
   "name": "python",
   "nbconvert_exporter": "python",
   "pygments_lexer": "ipython3",
   "version": "3.7.7"
  },
  "varInspector": {
   "cols": {
    "lenName": 16,
    "lenType": 16,
    "lenVar": 40
   },
   "kernels_config": {
    "python": {
     "delete_cmd_postfix": "",
     "delete_cmd_prefix": "del ",
     "library": "var_list.py",
     "varRefreshCmd": "print(var_dic_list())"
    },
    "r": {
     "delete_cmd_postfix": ") ",
     "delete_cmd_prefix": "rm(",
     "library": "var_list.r",
     "varRefreshCmd": "cat(var_dic_list()) "
    }
   },
   "types_to_exclude": [
    "module",
    "function",
    "builtin_function_or_method",
    "instance",
    "_Feature"
   ],
   "window_display": false
  }
 },
 "nbformat": 4,
 "nbformat_minor": 4
}
