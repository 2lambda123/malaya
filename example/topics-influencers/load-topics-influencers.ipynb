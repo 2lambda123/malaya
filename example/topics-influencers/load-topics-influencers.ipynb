{
 "cells": [
  {
   "cell_type": "code",
   "execution_count": 1,
   "metadata": {},
   "outputs": [],
   "source": [
    "import malaya"
   ]
  },
  {
   "cell_type": "code",
   "execution_count": 2,
   "metadata": {},
   "outputs": [],
   "source": [
    "news = 'najib razak dan mahathir mengalami masalah air di kemamam terengganu'\n",
    "second_news = 'ikat penyedia perkhidmatan jalur lebar Telekom Malaysia (TM) perlu mencari jalan penyelesaian bagi meningkatkan akses capaian Internet ke seluruh negara, kata Menteri Komunikasi dan Multimedia, Gobind Singh Deo. Beliau berkata menjadi dasar kerajaan untuk membekalkan akses Internet jalur lebar kepada semua dan memberi penekanan kepada kualiti perkhidmatan yang terbaik. \"Dasar kerajaan untuk bekalkan akses kepada semua bukan sekadar pembekalan sahaja tetapi beri penekanan kepada kualiti perkhidmatan yang baik dan dapat bersaing dengan negara lain pada tahap antarabangsa,\" kata Gobind Singh menerusi catatan di laman rasmi Twitter beliau, malam tadi. Beliau berkata demikian sebagai respons terhadap aduan beberapa pengguna Twitter berhubung akses Internet yang masih tidak stabil serta harga yang tidak berpatutan di beberapa lokasi di seluruh negara.'"
   ]
  },
  {
   "cell_type": "markdown",
   "metadata": {},
   "source": [
    "## Using fuzzy for topics"
   ]
  },
  {
   "cell_type": "code",
   "execution_count": 3,
   "metadata": {},
   "outputs": [
    {
     "data": {
      "text/plain": [
       "['najib razak', 'masalah air', 'mahathir']"
      ]
     },
     "execution_count": 3,
     "metadata": {},
     "output_type": "execute_result"
    }
   ],
   "source": [
    "malaya.fuzzy_get_topics(news)"
   ]
  },
  {
   "cell_type": "code",
   "execution_count": 4,
   "metadata": {},
   "outputs": [
    {
     "data": {
      "text/plain": [
       "['teknologi',\n",
       " 'internet',\n",
       " 'kkmm',\n",
       " 'perkhidmatan awam',\n",
       " 'twitter',\n",
       " 'pendidikan',\n",
       " 'politik',\n",
       " 'sosial media',\n",
       " 'telekom malaysia',\n",
       " 'kerajaan']"
      ]
     },
     "execution_count": 4,
     "metadata": {},
     "output_type": "execute_result"
    }
   ],
   "source": [
    "malaya.fuzzy_get_topics(second_news)"
   ]
  },
  {
   "cell_type": "markdown",
   "metadata": {},
   "source": [
    "## Using fuzzy for influencers"
   ]
  },
  {
   "cell_type": "code",
   "execution_count": 5,
   "metadata": {},
   "outputs": [
    {
     "data": {
      "text/plain": [
       "['najib razak', 'mahathir']"
      ]
     },
     "execution_count": 5,
     "metadata": {},
     "output_type": "execute_result"
    }
   ],
   "source": [
    "malaya.fuzzy_get_influencers(news)"
   ]
  },
  {
   "cell_type": "code",
   "execution_count": 6,
   "metadata": {},
   "outputs": [
    {
     "data": {
      "text/plain": [
       "['gobind singh deo']"
      ]
     },
     "execution_count": 6,
     "metadata": {},
     "output_type": "execute_result"
    }
   ],
   "source": [
    "malaya.fuzzy_get_influencers(second_news)"
   ]
  },
  {
   "cell_type": "markdown",
   "metadata": {},
   "source": [
    "## Train TF-IDF for topics analysis"
   ]
  },
  {
   "cell_type": "code",
   "execution_count": 7,
   "metadata": {},
   "outputs": [],
   "source": [
    "topics_similarity = malaya.fast_get_topics()"
   ]
  },
  {
   "cell_type": "code",
   "execution_count": 8,
   "metadata": {},
   "outputs": [
    {
     "data": {
      "text/plain": [
       "['tan sri mokhzani mahathir', 'najib razak', 'masalah air', 'mahathir']"
      ]
     },
     "execution_count": 8,
     "metadata": {},
     "output_type": "execute_result"
    }
   ],
   "source": [
    "topics_similarity.get_similarity(news)"
   ]
  },
  {
   "cell_type": "markdown",
   "metadata": {},
   "source": [
    "## Train TF-IDF for influencers analysis"
   ]
  },
  {
   "cell_type": "code",
   "execution_count": 9,
   "metadata": {},
   "outputs": [],
   "source": [
    "influencers_similarity = malaya.fast_get_influencers()"
   ]
  },
  {
   "cell_type": "code",
   "execution_count": 10,
   "metadata": {},
   "outputs": [
    {
     "data": {
      "text/plain": [
       "['tan sri mokhzani mahathir', 'najib razak', 'zakir naik', 'mahathir']"
      ]
     },
     "execution_count": 10,
     "metadata": {},
     "output_type": "execute_result"
    }
   ],
   "source": [
    "influencers_similarity.get_similarity(news)"
   ]
  },
  {
   "cell_type": "code",
   "execution_count": 11,
   "metadata": {},
   "outputs": [
    {
     "data": {
      "text/plain": [
       "['parti pribumi bersatu malaysia',\n",
       " 'majlis pakatan harapan',\n",
       " 'jabatan perancangan bandar dan desa',\n",
       " 'pakatan harapan',\n",
       " 'gobind singh deo',\n",
       " 'parti islam semalaysia',\n",
       " 'ppbm']"
      ]
     },
     "execution_count": 11,
     "metadata": {},
     "output_type": "execute_result"
    }
   ],
   "source": [
    "influencers_similarity.get_similarity(second_news)"
   ]
  },
  {
   "cell_type": "markdown",
   "metadata": {},
   "source": [
    "## Train skip-thought model for topics analysis"
   ]
  },
  {
   "cell_type": "code",
   "execution_count": 12,
   "metadata": {},
   "outputs": [
    {
     "name": "stderr",
     "output_type": "stream",
     "text": [
      "minibatch loop: 100%|██████████| 168/168 [01:57<00:00,  1.62it/s, cost=3.04]\n",
      "minibatch loop: 100%|██████████| 168/168 [02:01<00:00,  1.57it/s, cost=0.0263]\n",
      "minibatch loop: 100%|██████████| 168/168 [02:00<00:00,  1.55it/s, cost=0.0103]\n",
      "minibatch loop: 100%|██████████| 168/168 [02:01<00:00,  1.58it/s, cost=0.00615]\n",
      "minibatch loop: 100%|██████████| 168/168 [01:59<00:00,  1.51it/s, cost=0.00474]\n"
     ]
    }
   ],
   "source": [
    "deep_topic = malaya.deep_get_topics()"
   ]
  },
  {
   "cell_type": "code",
   "execution_count": 13,
   "metadata": {},
   "outputs": [
    {
     "data": {
      "text/plain": [
       "['tan sri mokhzani mahathir',\n",
       " 'najib razak',\n",
       " 'pusat transformasi bandar',\n",
       " 'anthony loke siew fook',\n",
       " '#fakenews',\n",
       " 'survei institut darul ehsan',\n",
       " 'makro-ekonomi',\n",
       " 'pilihan raya umum ke-14',\n",
       " 'malaysia-indonesia',\n",
       " 'k-pop',\n",
       " 'lee kuan yew',\n",
       " 'tengku razaleigh hamzah',\n",
       " 'tan sri dr rais yatim',\n",
       " 'mikro-ekonomi']"
      ]
     },
     "execution_count": 13,
     "metadata": {},
     "output_type": "execute_result"
    }
   ],
   "source": [
    "deep_topic.get_similarity(news, anchor = 0.5)"
   ]
  },
  {
   "cell_type": "code",
   "execution_count": 14,
   "metadata": {},
   "outputs": [
    {
     "data": {
      "text/plain": [
       "['tan sri mokhzani mahathir',\n",
       " 'kkmm',\n",
       " 'rais yatim',\n",
       " 'datuk seri abdul hadi awang',\n",
       " 'survei institut darul ehsan',\n",
       " 'pilihan raya umum ke-14',\n",
       " 'ahli dewan undangan negeri',\n",
       " 'malaysia-indonesia',\n",
       " 'datuk seri ti lian ker',\n",
       " 'k-pop',\n",
       " 'datuk seri azmin ali',\n",
       " 'tengku razaleigh hamzah',\n",
       " 'pusat daerah mangundi',\n",
       " 'jabatan agama islam wilayah persekutuan',\n",
       " 'pusat transformasi bandar',\n",
       " 'inisiatif peduli rakyat',\n",
       " 'makro-ekonomi',\n",
       " 'anthony loke siew fook',\n",
       " 'nga kor ming',\n",
       " 'lee kuan yew',\n",
       " 'tunku ismail idris',\n",
       " 'tan sri dr rais yatim',\n",
       " '#fakenews',\n",
       " 'mikro-ekonomi']"
      ]
     },
     "execution_count": 14,
     "metadata": {},
     "output_type": "execute_result"
    }
   ],
   "source": [
    "deep_topic.get_similarity(second_news, anchor = 0.5)"
   ]
  },
  {
   "cell_type": "markdown",
   "metadata": {},
   "source": [
    "## Train skip-thought model for influencers analysis"
   ]
  },
  {
   "cell_type": "code",
   "execution_count": 15,
   "metadata": {},
   "outputs": [
    {
     "name": "stderr",
     "output_type": "stream",
     "text": [
      "minibatch loop: 100%|██████████| 24/24 [00:15<00:00,  1.55it/s, cost=3.64]\n",
      "minibatch loop: 100%|██████████| 24/24 [00:14<00:00,  1.68it/s, cost=1.45]\n",
      "minibatch loop: 100%|██████████| 24/24 [00:15<00:00,  1.40it/s, cost=0.55] \n",
      "minibatch loop: 100%|██████████| 24/24 [00:14<00:00,  1.69it/s, cost=0.362]\n",
      "minibatch loop: 100%|██████████| 24/24 [00:15<00:00,  1.63it/s, cost=0.275]\n",
      "minibatch loop: 100%|██████████| 24/24 [00:14<00:00,  1.62it/s, cost=0.249]\n",
      "minibatch loop: 100%|██████████| 24/24 [00:15<00:00,  1.63it/s, cost=0.237] \n",
      "minibatch loop: 100%|██████████| 24/24 [00:14<00:00,  1.64it/s, cost=0.207] \n",
      "minibatch loop: 100%|██████████| 24/24 [00:16<00:00,  1.55it/s, cost=0.262]\n",
      "minibatch loop: 100%|██████████| 24/24 [00:15<00:00,  1.44it/s, cost=0.229] \n"
     ]
    }
   ],
   "source": [
    "deep_influencer = malaya.deep_get_influencers()"
   ]
  },
  {
   "cell_type": "code",
   "execution_count": 16,
   "metadata": {},
   "outputs": [
    {
     "data": {
      "text/plain": [
       "['najib razak', 'anthony loke siew fook', 'datuk seri azmin ali', 'mahathir']"
      ]
     },
     "execution_count": 16,
     "metadata": {},
     "output_type": "execute_result"
    }
   ],
   "source": [
    "deep_influencer.get_similarity(news, anchor = 0.5)"
   ]
  },
  {
   "cell_type": "code",
   "execution_count": 17,
   "metadata": {},
   "outputs": [
    {
     "data": {
      "text/plain": [
       "['gobind singh deo']"
      ]
     },
     "execution_count": 17,
     "metadata": {},
     "output_type": "execute_result"
    }
   ],
   "source": [
    "deep_influencer.get_similarity(second_news, anchor = 0.5)"
   ]
  },
  {
   "cell_type": "markdown",
   "metadata": {},
   "source": [
    "## Train siamese network for topics analysis"
   ]
  },
  {
   "cell_type": "code",
   "execution_count": 18,
   "metadata": {},
   "outputs": [
    {
     "name": "stderr",
     "output_type": "stream",
     "text": [
      "minibatch loop: 100%|██████████| 168/168 [02:03<00:00,  1.60it/s, accuracy=0.75, cost=0.113] \n",
      "minibatch loop: 100%|██████████| 168/168 [02:01<00:00,  1.64it/s, accuracy=1, cost=0.0975]   \n",
      "minibatch loop: 100%|██████████| 168/168 [02:10<00:00,  1.65it/s, accuracy=1, cost=0.0539]   \n",
      "minibatch loop: 100%|██████████| 168/168 [01:59<00:00,  1.64it/s, accuracy=1, cost=0.057]     \n",
      "minibatch loop: 100%|██████████| 168/168 [01:58<00:00,  1.68it/s, accuracy=1, cost=0.0324]    \n"
     ]
    },
    {
     "name": "stdout",
     "output_type": "stream",
     "text": [
      "['tan sri mokhzani mahathir', 'najib razak', 'internet', 'rais yatim', 'anwar ibrahim', '1mdb', 'makanan', 'idealogi', 'recep tayyip erdogan', 'datuk seri abdul hadi awang', 'fc bayern munich', 'tsunami fitnah', 'thai cave', 'oppo smartphone', 'arsenal fc', 'jho low', 'datuk johari abdul', 'teknologi', 'syed saddiq', 'liverpool fc', 'isu bumiputera', 'startup companies', 'datuk seri ti lian ker', 'kadir jasin', 'datuk seri azmin ali', 'ptptn', 'tengku razaleigh hamzah', 'tabung haji', 'isu kemiskinan', 'pengangkutan awam', 'perkhidmatan awam', 'wanita', 'euro 2020', 'ganja', 'sosial', 'twitter', 'huawei smartphone', 'anthony loke siew fook', 'felda', 'fc barcelona', 'bebas tahanan', 'gst', 'ekonomi', 'lee kuan yew', 'tunku ismail idris', 'baling botol', 'masyarakat', 'sosial media', 'ariff md yusof', 'tan sri dr rais yatim', 'lenovo smartphone', 'chelsea fc', '#fakenews', 'umno', 'median salary', 'gaji minimum', 'juventus fc', 'kesihatan', 'mikro-ekonomi']\n",
      "['anwar ibrahim', 'makanan', 'recep tayyip erdogan', 'datuk seri abdul hadi awang', 'fc bayern munich', 'tsunami fitnah', 'jho low', 'syed saddiq', 'liverpool fc', 'tabung haji', 'tengku razaleigh hamzah', 'pengangkutan awam', 'wanita', 'euro 2020', 'ganja', 'fc barcelona', 'felda', 'bung mokhtar', 'bebas tahanan', 'gst', 'ekonomi', 'lee kuan yew', 'baling botol', 'ariff md yusof', 'chelsea fc', 'median salary', 'gaji minimum', 'kesihatan']\n"
     ]
    }
   ],
   "source": [
    "deep_topic = malaya.deep_siamese_get_topics()\n",
    "print(deep_topic.get_similarity(news, anchor = 0.5))\n",
    "print(deep_topic.get_similarity(second_news, anchor = 0.5))"
   ]
  },
  {
   "cell_type": "code",
   "execution_count": 19,
   "metadata": {},
   "outputs": [
    {
     "name": "stdout",
     "output_type": "stream",
     "text": [
      "['tan sri mokhzani mahathir', 'ganja', 'syed saddiq', 'sosial', 'chelsea fc', 'makanan', 'liverpool fc', 'felda', 'datuk seri abdul hadi awang', 'gaji minimum', 'juventus fc', 'baling botol', 'datuk seri azmin ali', 'masyarakat', 'arsenal fc', 'pengangkutan awam', 'perkhidmatan awam', 'euro 2020', 'jho low']\n",
      "[]\n"
     ]
    }
   ],
   "source": [
    "print(deep_topic.get_similarity(news, anchor = 0.7))\n",
    "print(deep_topic.get_similarity(second_news, anchor = 0.7))"
   ]
  },
  {
   "cell_type": "code",
   "execution_count": null,
   "metadata": {},
   "outputs": [],
   "source": []
  }
 ],
 "metadata": {
  "kernelspec": {
   "display_name": "Python 3",
   "language": "python",
   "name": "python3"
  },
  "language_info": {
   "codemirror_mode": {
    "name": "ipython",
    "version": 3
   },
   "file_extension": ".py",
   "mimetype": "text/x-python",
   "name": "python",
   "nbconvert_exporter": "python",
   "pygments_lexer": "ipython3",
   "version": "3.6.5"
  }
 },
 "nbformat": 4,
 "nbformat_minor": 2
}
