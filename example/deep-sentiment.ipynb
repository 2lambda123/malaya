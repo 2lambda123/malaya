{
 "cells": [
  {
   "cell_type": "code",
   "execution_count": 1,
   "metadata": {},
   "outputs": [
    {
     "name": "stderr",
     "output_type": "stream",
     "text": [
      "/usr/local/lib/python3.5/dist-packages/sklearn/cross_validation.py:41: DeprecationWarning: This module was deprecated in version 0.18 in favor of the model_selection module into which all the refactored classes and functions are moved. Also note that the interface of the new CV iterators are different from that of this module. This module will be removed in 0.20.\n",
      "  \"This module will be removed in 0.20.\", DeprecationWarning)\n"
     ]
    }
   ],
   "source": [
    "import malaya"
   ]
  },
  {
   "cell_type": "code",
   "execution_count": 2,
   "metadata": {},
   "outputs": [],
   "source": [
    "model = malaya.deep_sentiment()"
   ]
  },
  {
   "cell_type": "code",
   "execution_count": 3,
   "metadata": {},
   "outputs": [
    {
     "data": {
      "text/plain": [
       "{'attention': [['itu', 0.010114629],\n",
       "  ['luahan', 0.011603625],\n",
       "  ['ibu', 0.013130191],\n",
       "  ['kepada', 0.014695615],\n",
       "  ['adam', 0.019652419],\n",
       "  ['rayqal', 0.023623446],\n",
       "  ['mohd', 0.026430555],\n",
       "  ['sufi', 0.02637163],\n",
       "  ['berusia', 0.024927197],\n",
       "  ['lima', 0.021254309],\n",
       "  ['bulan', 0.020151515],\n",
       "  ['yang', 0.018860165],\n",
       "  ['ditemukan', 0.023863137],\n",
       "  ['maut', 0.024894103],\n",
       "  ['dalam', 0.022707025],\n",
       "  ['peti', 0.02510267],\n",
       "  ['sejuk', 0.027117774],\n",
       "  ['di', 0.027523432],\n",
       "  ['rumah', 0.03352615],\n",
       "  ['pengasuhnya', 0.040462654],\n",
       "  ['di', 0.042655356],\n",
       "  ['kampung', 0.05751138],\n",
       "  ['nakhoda', 0.064501695],\n",
       "  ['batu', 0.074137],\n",
       "  ['caves', 0.07565814],\n",
       "  ['dekat', 0.068563],\n",
       "  ['sini', 0.06280588],\n",
       "  ['malam', 0.053027365],\n",
       "  ['tadi', 0.045127857]],\n",
       " 'negative': 0.8487525,\n",
       " 'positive': 0.15124744}"
      ]
     },
     "execution_count": 3,
     "metadata": {},
     "output_type": "execute_result"
    }
   ],
   "source": [
    "model.predict('Itu luahan ibu kepada Adam Rayqal Mohd. Sufi berusia lima bulan yang ditemukan maut dalam peti sejuk di rumah pengasuhnya di Kampung Nakhoda, Batu Caves dekat sini malam tadi.')"
   ]
  },
  {
   "cell_type": "code",
   "execution_count": null,
   "metadata": {},
   "outputs": [],
   "source": []
  }
 ],
 "metadata": {
  "kernelspec": {
   "display_name": "Python 3",
   "language": "python",
   "name": "python3"
  },
  "language_info": {
   "codemirror_mode": {
    "name": "ipython",
    "version": 3
   },
   "file_extension": ".py",
   "mimetype": "text/x-python",
   "name": "python",
   "nbconvert_exporter": "python",
   "pygments_lexer": "ipython3",
   "version": "3.5.2"
  }
 },
 "nbformat": 4,
 "nbformat_minor": 2
}
