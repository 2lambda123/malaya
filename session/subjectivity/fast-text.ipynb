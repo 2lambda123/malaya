{
 "cells": [
  {
   "cell_type": "code",
   "execution_count": 1,
   "metadata": {},
   "outputs": [
    {
     "name": "stderr",
     "output_type": "stream",
     "text": [
      "/usr/local/lib/python3.6/dist-packages/sklearn/cross_validation.py:41: DeprecationWarning: This module was deprecated in version 0.18 in favor of the model_selection module into which all the refactored classes and functions are moved. Also note that the interface of the new CV iterators are different from that of this module. This module will be removed in 0.20.\n",
      "  \"This module will be removed in 0.20.\", DeprecationWarning)\n"
     ]
    }
   ],
   "source": [
    "import re\n",
    "import numpy as np\n",
    "import pandas as pd\n",
    "import collections\n",
    "from sklearn import metrics\n",
    "from sklearn.preprocessing import LabelEncoder\n",
    "import tensorflow as tf\n",
    "from sklearn.cross_validation import train_test_split\n",
    "from unidecode import unidecode\n",
    "from nltk.util import ngrams\n",
    "from tqdm import tqdm\n",
    "import time"
   ]
  },
  {
   "cell_type": "code",
   "execution_count": 2,
   "metadata": {},
   "outputs": [],
   "source": [
    "permulaan = [\n",
    "    'bel',\n",
    "    'se',\n",
    "    'ter',\n",
    "    'men',\n",
    "    'meng',\n",
    "    'mem',\n",
    "    'memper',\n",
    "    'di',\n",
    "    'pe',\n",
    "    'me',\n",
    "    'ke',\n",
    "    'ber',\n",
    "    'pen',\n",
    "    'per',\n",
    "]\n",
    "\n",
    "hujung = ['kan', 'kah', 'lah', 'tah', 'nya', 'an', 'wan', 'wati', 'ita']\n",
    "\n",
    "def naive_stemmer(word):\n",
    "    assert isinstance(word, str), 'input must be a string'\n",
    "    hujung_result = [e for e in hujung if word.endswith(e)]\n",
    "    if len(hujung_result):\n",
    "        hujung_result = max(hujung_result, key = len)\n",
    "        if len(hujung_result):\n",
    "            word = word[: -len(hujung_result)]\n",
    "    permulaan_result = [e for e in permulaan if word.startswith(e)]\n",
    "    if len(permulaan_result):\n",
    "        permulaan_result = max(permulaan_result, key = len)\n",
    "        if len(permulaan_result):\n",
    "            word = word[len(permulaan_result) :]\n",
    "    return word"
   ]
  },
  {
   "cell_type": "code",
   "execution_count": 3,
   "metadata": {},
   "outputs": [],
   "source": [
    "def build_dataset(words, n_words):\n",
    "    count = [['GO', 0], ['PAD', 1], ['EOS', 2], ['UNK', 3]]\n",
    "    counter = collections.Counter(words).most_common(n_words)\n",
    "    count.extend(counter)\n",
    "    dictionary = dict()\n",
    "    for word, _ in count:\n",
    "        dictionary[word] = len(dictionary)\n",
    "    data = list()\n",
    "    unk_count = 0\n",
    "    for word in words:\n",
    "        index = dictionary.get(word, 3)\n",
    "        if index == 0:\n",
    "            unk_count += 1\n",
    "        data.append(index)\n",
    "    count[0][1] = unk_count\n",
    "    reversed_dictionary = dict(zip(dictionary.values(), dictionary.keys()))\n",
    "    return data, count, dictionary, reversed_dictionary\n",
    "\n",
    "\n",
    "def classification_textcleaning(string):\n",
    "    string = re.sub(\n",
    "        'http\\S+|www.\\S+',\n",
    "        '',\n",
    "        ' '.join(\n",
    "            [i for i in string.split() if i.find('#') < 0 and i.find('@') < 0]\n",
    "        ),\n",
    "    )\n",
    "    string = unidecode(string).replace('.', ' . ').replace(',', ' , ')\n",
    "    string = re.sub('[^A-Za-z ]+', ' ', string)\n",
    "    string = re.sub(r'[ ]+', ' ', string).strip()\n",
    "    string = ' '.join(\n",
    "        [i for i in re.findall('[\\\\w\\']+|[;:\\-\\(\\)&.,!?\"]', string) if len(i)]\n",
    "    )\n",
    "    string = string.lower().split()\n",
    "    string = [naive_stemmer(word) for word in string]\n",
    "    return ' '.join([word for word in string if len(word) > 1])\n",
    "\n",
    "\n",
    "def str_idx(corpus, dic, maxlen, UNK = 3):\n",
    "    X = np.zeros((len(corpus), maxlen))\n",
    "    for i in range(len(corpus)):\n",
    "        for no, k in enumerate(corpus[i].split()[:maxlen][::-1]):\n",
    "            X[i, -1 - no] = dic.get(k, UNK)\n",
    "    return X"
   ]
  },
  {
   "cell_type": "code",
   "execution_count": 4,
   "metadata": {},
   "outputs": [
    {
     "data": {
      "text/plain": [
       "'raja benar sangat benci rakyat minyak naik gala'"
      ]
     },
     "execution_count": 4,
     "metadata": {},
     "output_type": "execute_result"
    }
   ],
   "source": [
    "classification_textcleaning('kerajaan sebenarnya sangat bencikan rakyatnya, minyak naik dan segalanya')"
   ]
  },
  {
   "cell_type": "code",
   "execution_count": 5,
   "metadata": {},
   "outputs": [],
   "source": [
    "with open('subjectivity-negative-translated.txt','r') as fopen:\n",
    "    texts = fopen.read().split('\\n')\n",
    "labels = [0] * len(texts)\n",
    "\n",
    "with open('subjectivity-positive-translated.txt','r') as fopen:\n",
    "    positive_texts = fopen.read().split('\\n')\n",
    "labels += [1] * len(positive_texts)\n",
    "texts += positive_texts\n",
    "\n",
    "assert len(labels) == len(texts)"
   ]
  },
  {
   "cell_type": "code",
   "execution_count": 6,
   "metadata": {},
   "outputs": [],
   "source": [
    "for i in range(len(texts)):\n",
    "    texts[i] = classification_textcleaning(texts[i])"
   ]
  },
  {
   "cell_type": "code",
   "execution_count": 7,
   "metadata": {},
   "outputs": [
    {
     "name": "stdout",
     "output_type": "stream",
     "text": [
      "vocab from size: 13269\n",
      "Most common words [('yang', 11804), ('untuk', 3879), ('tidak', 2898), ('deng', 2827), ('ada', 2298), ('dalam', 2193)]\n",
      "Sample data [10, 68, 13, 28, 55, 53, 11, 387, 34, 186] ['filem', 'mula', 'pada', 'masa', 'lalu', 'mana', 'orang', 'budak', 'lelaki', 'nama']\n"
     ]
    }
   ],
   "source": [
    "concat = ' '.join(texts).split()\n",
    "vocabulary_size = len(list(set(concat)))\n",
    "data, count, dictionary, rev_dictionary = build_dataset(concat, vocabulary_size)\n",
    "print('vocab from size: %d'%(vocabulary_size))\n",
    "print('Most common words', count[4:10])\n",
    "print('Sample data', data[:10], [rev_dictionary[i] for i in data[:10]])"
   ]
  },
  {
   "cell_type": "code",
   "execution_count": 8,
   "metadata": {},
   "outputs": [],
   "source": [
    "max_features = len(dictionary)\n",
    "maxlen = 100\n",
    "batch_size = 32\n",
    "embedded_size = 256"
   ]
  },
  {
   "cell_type": "code",
   "execution_count": 9,
   "metadata": {},
   "outputs": [],
   "source": [
    "X = str_idx(texts, dictionary, maxlen)"
   ]
  },
  {
   "cell_type": "code",
   "execution_count": 10,
   "metadata": {},
   "outputs": [],
   "source": [
    "train_X, test_X, train_Y, test_Y = train_test_split(X, \n",
    "                                                    labels,\n",
    "                                                    test_size = 0.2)"
   ]
  },
  {
   "cell_type": "code",
   "execution_count": 11,
   "metadata": {},
   "outputs": [],
   "source": [
    "class Model:\n",
    "    def __init__(\n",
    "        self, embedded_size, dict_size, dimension_output, learning_rate\n",
    "    ):\n",
    "\n",
    "        self.X = tf.placeholder(tf.int32, [None, None])\n",
    "        self.Y = tf.placeholder(tf.int32, [None])\n",
    "        encoder_embeddings = tf.Variable(\n",
    "            tf.random_uniform([dict_size, embedded_size], -1, 1)\n",
    "        )\n",
    "        encoder_embedded = tf.nn.embedding_lookup(encoder_embeddings, self.X)\n",
    "        self.logits = tf.identity(\n",
    "            tf.layers.dense(\n",
    "                tf.reduce_mean(encoder_embedded, 1), dimension_output\n",
    "            ),\n",
    "            name = 'logits',\n",
    "        )\n",
    "        self.cost = tf.reduce_mean(\n",
    "            tf.nn.sparse_softmax_cross_entropy_with_logits(\n",
    "                logits = self.logits, labels = self.Y\n",
    "            )\n",
    "        )\n",
    "        self.optimizer = tf.train.AdamOptimizer(learning_rate).minimize(\n",
    "            self.cost\n",
    "        )\n",
    "        correct_pred = tf.equal(\n",
    "            tf.argmax(self.logits, 1, output_type = tf.int32), self.Y\n",
    "        )\n",
    "        self.accuracy = tf.reduce_mean(tf.cast(correct_pred, tf.float32))"
   ]
  },
  {
   "cell_type": "code",
   "execution_count": 12,
   "metadata": {},
   "outputs": [
    {
     "data": {
      "text/plain": [
       "'fast-text/model.ckpt'"
      ]
     },
     "execution_count": 12,
     "metadata": {},
     "output_type": "execute_result"
    }
   ],
   "source": [
    "tf.reset_default_graph()\n",
    "sess = tf.InteractiveSession()\n",
    "model = Model(embedded_size, max_features, 2, 5e-4)\n",
    "sess.run(tf.global_variables_initializer())\n",
    "saver = tf.train.Saver(tf.trainable_variables())\n",
    "saver.save(sess, 'fast-text/model.ckpt')"
   ]
  },
  {
   "cell_type": "code",
   "execution_count": 13,
   "metadata": {},
   "outputs": [],
   "source": [
    "strings = ','.join(\n",
    "    [\n",
    "        n.name\n",
    "        for n in tf.get_default_graph().as_graph_def().node\n",
    "        if ('Variable' in n.op\n",
    "        or 'Placeholder' in n.name\n",
    "        or 'logits' in n.name)\n",
    "        and 'Adam' not in n.name\n",
    "        and 'beta' not in n.name\n",
    "    ]\n",
    ")"
   ]
  },
  {
   "cell_type": "code",
   "execution_count": 14,
   "metadata": {},
   "outputs": [
    {
     "data": {
      "text/plain": [
       "['Placeholder',\n",
       " 'Placeholder_1',\n",
       " 'Variable',\n",
       " 'dense/kernel',\n",
       " 'dense/bias',\n",
       " 'logits']"
      ]
     },
     "execution_count": 14,
     "metadata": {},
     "output_type": "execute_result"
    }
   ],
   "source": [
    "strings.split(',')"
   ]
  },
  {
   "cell_type": "code",
   "execution_count": 15,
   "metadata": {},
   "outputs": [
    {
     "data": {
      "text/plain": [
       "[<tf.Variable 'Variable:0' shape=(13273, 256) dtype=float32_ref>,\n",
       " <tf.Variable 'dense/kernel:0' shape=(256, 2) dtype=float32_ref>,\n",
       " <tf.Variable 'dense/bias:0' shape=(2,) dtype=float32_ref>]"
      ]
     },
     "execution_count": 15,
     "metadata": {},
     "output_type": "execute_result"
    }
   ],
   "source": [
    "tf.trainable_variables()"
   ]
  },
  {
   "cell_type": "code",
   "execution_count": 16,
   "metadata": {},
   "outputs": [
    {
     "name": "stderr",
     "output_type": "stream",
     "text": [
      "train minibatch loop: 100%|██████████| 250/250 [00:03<00:00, 80.20it/s, accuracy=0, cost=0.779]    \n",
      "test minibatch loop: 100%|██████████| 63/63 [00:00<00:00, 231.76it/s, accuracy=0.667, cost=0.646]\n",
      "train minibatch loop:   3%|▎         | 7/250 [00:00<00:03, 66.79it/s, accuracy=0.594, cost=0.666]"
     ]
    },
    {
     "name": "stdout",
     "output_type": "stream",
     "text": [
      "epoch: 0, pass acc: 0.000000, current acc: 0.609299\n",
      "time taken: 3.391561985015869\n",
      "epoch: 0, training loss: 0.685732, training acc: 0.553896, valid loss: 0.676238, valid acc: 0.609299\n",
      "\n"
     ]
    },
    {
     "name": "stderr",
     "output_type": "stream",
     "text": [
      "train minibatch loop: 100%|██████████| 250/250 [00:02<00:00, 85.88it/s, accuracy=0, cost=0.736]    \n",
      "test minibatch loop: 100%|██████████| 63/63 [00:00<00:00, 222.72it/s, accuracy=0.667, cost=0.621]\n",
      "train minibatch loop:   4%|▎         | 9/250 [00:00<00:02, 81.30it/s, accuracy=0.688, cost=0.632]"
     ]
    },
    {
     "name": "stdout",
     "output_type": "stream",
     "text": [
      "epoch: 1, pass acc: 0.609299, current acc: 0.761833\n",
      "time taken: 3.1963703632354736\n",
      "epoch: 1, training loss: 0.648177, training acc: 0.701845, valid loss: 0.635186, valid acc: 0.761833\n",
      "\n"
     ]
    },
    {
     "name": "stderr",
     "output_type": "stream",
     "text": [
      "train minibatch loop: 100%|██████████| 250/250 [00:02<00:00, 87.14it/s, accuracy=1, cost=0.676]    \n",
      "test minibatch loop: 100%|██████████| 63/63 [00:00<00:00, 222.57it/s, accuracy=0.778, cost=0.59] \n",
      "train minibatch loop:   4%|▍         | 11/250 [00:00<00:02, 106.93it/s, accuracy=0.875, cost=0.512]"
     ]
    },
    {
     "name": "stdout",
     "output_type": "stream",
     "text": [
      "epoch: 2, pass acc: 0.761833, current acc: 0.838881\n",
      "time taken: 3.2188074588775635\n",
      "epoch: 2, training loss: 0.598484, training acc: 0.799724, valid loss: 0.580830, valid acc: 0.838881\n",
      "\n"
     ]
    },
    {
     "name": "stderr",
     "output_type": "stream",
     "text": [
      "train minibatch loop: 100%|██████████| 250/250 [00:02<00:00, 85.58it/s, accuracy=1, cost=0.607]    \n",
      "test minibatch loop: 100%|██████████| 63/63 [00:00<00:00, 236.82it/s, accuracy=0.778, cost=0.56] \n",
      "train minibatch loop:   4%|▎         | 9/250 [00:00<00:02, 85.48it/s, accuracy=0.906, cost=0.44] "
     ]
    },
    {
     "name": "stdout",
     "output_type": "stream",
     "text": [
      "epoch: 3, pass acc: 0.838881, current acc: 0.852930\n",
      "time taken: 3.1890017986297607\n",
      "epoch: 3, training loss: 0.537547, training acc: 0.848162, valid loss: 0.521171, valid acc: 0.852930\n",
      "\n"
     ]
    },
    {
     "name": "stderr",
     "output_type": "stream",
     "text": [
      "train minibatch loop: 100%|██████████| 250/250 [00:02<00:00, 85.20it/s, accuracy=1, cost=0.54]     \n",
      "test minibatch loop: 100%|██████████| 63/63 [00:00<00:00, 232.53it/s, accuracy=0.778, cost=0.538]\n",
      "train minibatch loop:   3%|▎         | 8/250 [00:00<00:03, 73.89it/s, accuracy=0.875, cost=0.421]"
     ]
    },
    {
     "name": "stdout",
     "output_type": "stream",
     "text": [
      "epoch: 4, pass acc: 0.852930, current acc: 0.859954\n",
      "time taken: 3.206967353820801\n",
      "epoch: 4, training loss: 0.475943, training acc: 0.868616, valid loss: 0.467396, valid acc: 0.859954\n",
      "\n"
     ]
    },
    {
     "name": "stderr",
     "output_type": "stream",
     "text": [
      "train minibatch loop: 100%|██████████| 250/250 [00:02<00:00, 89.77it/s, accuracy=1, cost=0.481]    \n",
      "test minibatch loop: 100%|██████████| 63/63 [00:00<00:00, 228.06it/s, accuracy=0.778, cost=0.523]\n",
      "train minibatch loop:   3%|▎         | 8/250 [00:00<00:03, 76.36it/s, accuracy=0.875, cost=0.378]"
     ]
    },
    {
     "name": "stdout",
     "output_type": "stream",
     "text": [
      "epoch: 5, pass acc: 0.859954, current acc: 0.865975\n",
      "time taken: 3.1982595920562744\n",
      "epoch: 5, training loss: 0.422640, training acc: 0.880914, valid loss: 0.424664, valid acc: 0.865975\n",
      "\n"
     ]
    },
    {
     "name": "stderr",
     "output_type": "stream",
     "text": [
      "train minibatch loop: 100%|██████████| 250/250 [00:02<00:00, 85.60it/s, accuracy=1, cost=0.431]    \n",
      "test minibatch loop: 100%|██████████| 63/63 [00:00<00:00, 216.14it/s, accuracy=0.778, cost=0.514]\n",
      "train minibatch loop:   5%|▍         | 12/250 [00:00<00:02, 117.18it/s, accuracy=0.844, cost=0.372]"
     ]
    },
    {
     "name": "stdout",
     "output_type": "stream",
     "text": [
      "epoch: 6, pass acc: 0.865975, current acc: 0.875509\n",
      "time taken: 3.2150681018829346\n",
      "epoch: 6, training loss: 0.379994, training acc: 0.888945, valid loss: 0.392454, valid acc: 0.875509\n",
      "\n"
     ]
    },
    {
     "name": "stderr",
     "output_type": "stream",
     "text": [
      "train minibatch loop: 100%|██████████| 250/250 [00:02<00:00, 83.97it/s, accuracy=1, cost=0.391]    \n",
      "test minibatch loop: 100%|██████████| 63/63 [00:00<00:00, 235.45it/s, accuracy=0.778, cost=0.508]\n",
      "train minibatch loop:   4%|▎         | 9/250 [00:00<00:02, 84.60it/s, accuracy=0.719, cost=0.498]"
     ]
    },
    {
     "name": "stdout",
     "output_type": "stream",
     "text": [
      "epoch: 7, pass acc: 0.875509, current acc: 0.878018\n",
      "time taken: 3.2466814517974854\n",
      "epoch: 7, training loss: 0.346466, training acc: 0.894968, valid loss: 0.368386, valid acc: 0.878018\n",
      "\n"
     ]
    },
    {
     "name": "stderr",
     "output_type": "stream",
     "text": [
      "train minibatch loop: 100%|██████████| 250/250 [00:02<00:00, 84.28it/s, accuracy=1, cost=0.359]    \n",
      "test minibatch loop: 100%|██████████| 63/63 [00:00<00:00, 177.22it/s, accuracy=0.778, cost=0.504]\n",
      "train minibatch loop:   4%|▎         | 9/250 [00:00<00:02, 84.59it/s, accuracy=0.906, cost=0.276]"
     ]
    },
    {
     "name": "stdout",
     "output_type": "stream",
     "text": [
      "epoch: 8, pass acc: 0.878018, current acc: 0.880025\n",
      "time taken: 3.2371163368225098\n",
      "epoch: 8, training loss: 0.319742, training acc: 0.899486, valid loss: 0.350208, valid acc: 0.880025\n",
      "\n"
     ]
    },
    {
     "name": "stderr",
     "output_type": "stream",
     "text": [
      "train minibatch loop: 100%|██████████| 250/250 [00:02<00:00, 85.55it/s, accuracy=1, cost=0.332]    \n",
      "test minibatch loop: 100%|██████████| 63/63 [00:00<00:00, 255.06it/s, accuracy=0.778, cost=0.501]\n",
      "train minibatch loop:   3%|▎         | 7/250 [00:00<00:03, 65.36it/s, accuracy=0.906, cost=0.245]"
     ]
    },
    {
     "name": "stdout",
     "output_type": "stream",
     "text": [
      "epoch: 9, pass acc: 0.880025, current acc: 0.882533\n",
      "time taken: 3.1710965633392334\n",
      "epoch: 9, training loss: 0.297900, training acc: 0.905258, valid loss: 0.336245, valid acc: 0.882533\n",
      "\n"
     ]
    },
    {
     "name": "stderr",
     "output_type": "stream",
     "text": [
      "train minibatch loop: 100%|██████████| 250/250 [00:02<00:00, 86.30it/s, accuracy=1, cost=0.31]     \n",
      "test minibatch loop: 100%|██████████| 63/63 [00:00<00:00, 212.60it/s, accuracy=0.778, cost=0.499]\n",
      "train minibatch loop:   4%|▍         | 11/250 [00:00<00:02, 104.89it/s, accuracy=0.938, cost=0.182]"
     ]
    },
    {
     "name": "stdout",
     "output_type": "stream",
     "text": [
      "epoch: 10, pass acc: 0.882533, current acc: 0.885042\n",
      "time taken: 3.1959893703460693\n",
      "epoch: 10, training loss: 0.279566, training acc: 0.911532, valid loss: 0.325334, valid acc: 0.885042\n",
      "\n"
     ]
    },
    {
     "name": "stderr",
     "output_type": "stream",
     "text": [
      "train minibatch loop: 100%|██████████| 250/250 [00:02<00:00, 86.02it/s, accuracy=1, cost=0.292]    \n",
      "test minibatch loop: 100%|██████████| 63/63 [00:00<00:00, 235.11it/s, accuracy=0.778, cost=0.498]\n",
      "train minibatch loop:   4%|▎         | 9/250 [00:00<00:03, 79.07it/s, accuracy=0.75, cost=0.455] "
     ]
    },
    {
     "name": "stdout",
     "output_type": "stream",
     "text": [
      "epoch: 11, pass acc: 0.885042, current acc: 0.890060\n",
      "time taken: 3.1764888763427734\n",
      "epoch: 11, training loss: 0.263799, training acc: 0.914920, valid loss: 0.316681, valid acc: 0.890060\n",
      "\n"
     ]
    },
    {
     "name": "stderr",
     "output_type": "stream",
     "text": [
      "train minibatch loop: 100%|██████████| 250/250 [00:02<00:00, 85.31it/s, accuracy=1, cost=0.276]    \n",
      "test minibatch loop: 100%|██████████| 63/63 [00:00<00:00, 227.50it/s, accuracy=0.778, cost=0.498]\n",
      "train minibatch loop:   3%|▎         | 8/250 [00:00<00:03, 74.38it/s, accuracy=0.906, cost=0.197]"
     ]
    },
    {
     "name": "stdout",
     "output_type": "stream",
     "text": [
      "epoch: 12, pass acc: 0.890060, current acc: 0.891063\n",
      "time taken: 3.2097699642181396\n",
      "epoch: 12, training loss: 0.249953, training acc: 0.920693, valid loss: 0.309735, valid acc: 0.891063\n",
      "\n"
     ]
    },
    {
     "name": "stderr",
     "output_type": "stream",
     "text": [
      "train minibatch loop: 100%|██████████| 250/250 [00:02<00:00, 85.97it/s, accuracy=1, cost=0.263]    \n",
      "test minibatch loop: 100%|██████████| 63/63 [00:00<00:00, 231.38it/s, accuracy=0.778, cost=0.498]\n",
      "train minibatch loop:   3%|▎         | 8/250 [00:00<00:03, 78.19it/s, accuracy=0.938, cost=0.179]"
     ]
    },
    {
     "name": "stdout",
     "output_type": "stream",
     "text": [
      "epoch: 13, pass acc: 0.891063, current acc: 0.893572\n",
      "time taken: 3.184178590774536\n",
      "epoch: 13, training loss: 0.237585, training acc: 0.924457, valid loss: 0.304114, valid acc: 0.893572\n",
      "\n"
     ]
    },
    {
     "name": "stderr",
     "output_type": "stream",
     "text": [
      "train minibatch loop: 100%|██████████| 250/250 [00:02<00:00, 86.80it/s, accuracy=1, cost=0.252]    \n",
      "test minibatch loop: 100%|██████████| 63/63 [00:00<00:00, 219.03it/s, accuracy=0.778, cost=0.499]\n",
      "train minibatch loop:   5%|▍         | 12/250 [00:00<00:02, 110.12it/s, accuracy=0.938, cost=0.147]"
     ]
    },
    {
     "name": "stdout",
     "output_type": "stream",
     "text": [
      "epoch: 14, pass acc: 0.893572, current acc: 0.894575\n",
      "time taken: 3.2424464225769043\n",
      "epoch: 14, training loss: 0.226381, training acc: 0.928473, valid loss: 0.299542, valid acc: 0.894575\n",
      "\n"
     ]
    },
    {
     "name": "stderr",
     "output_type": "stream",
     "text": [
      "train minibatch loop: 100%|██████████| 250/250 [00:02<00:00, 84.83it/s, accuracy=1, cost=0.243]    \n",
      "test minibatch loop: 100%|██████████| 63/63 [00:00<00:00, 213.38it/s, accuracy=0.778, cost=0.5]  \n",
      "train minibatch loop:   5%|▍         | 12/250 [00:00<00:02, 110.51it/s, accuracy=0.75, cost=0.414] "
     ]
    },
    {
     "name": "stdout",
     "output_type": "stream",
     "text": [
      "epoch: 15, pass acc: 0.894575, current acc: 0.895579\n",
      "time taken: 3.2455670833587646\n",
      "epoch: 15, training loss: 0.216118, training acc: 0.932739, valid loss: 0.295822, valid acc: 0.895579\n",
      "\n"
     ]
    },
    {
     "name": "stderr",
     "output_type": "stream",
     "text": [
      "train minibatch loop: 100%|██████████| 250/250 [00:02<00:00, 86.58it/s, accuracy=1, cost=0.234]     \n",
      "test minibatch loop: 100%|██████████| 63/63 [00:00<00:00, 211.03it/s, accuracy=0.778, cost=0.502]\n",
      "train minibatch loop:   4%|▎         | 9/250 [00:00<00:03, 78.15it/s, accuracy=0.75, cost=0.403] "
     ]
    },
    {
     "name": "stdout",
     "output_type": "stream",
     "text": [
      "epoch: 16, pass acc: 0.895579, current acc: 0.897084\n",
      "time taken: 3.1893484592437744\n",
      "epoch: 16, training loss: 0.206631, training acc: 0.935626, valid loss: 0.292807, valid acc: 0.897084\n",
      "\n"
     ]
    },
    {
     "name": "stderr",
     "output_type": "stream",
     "text": [
      "train minibatch loop: 100%|██████████| 250/250 [00:02<00:00, 85.59it/s, accuracy=1, cost=0.227]     \n",
      "test minibatch loop: 100%|██████████| 63/63 [00:00<00:00, 241.81it/s, accuracy=0.778, cost=0.504]\n",
      "train minibatch loop:   3%|▎         | 7/250 [00:00<00:04, 59.32it/s, accuracy=0.969, cost=0.144]"
     ]
    },
    {
     "name": "stdout",
     "output_type": "stream",
     "text": [
      "epoch: 17, pass acc: 0.897084, current acc: 0.898088\n",
      "time taken: 3.183919668197632\n",
      "epoch: 17, training loss: 0.197800, training acc: 0.938888, valid loss: 0.290387, valid acc: 0.898088\n",
      "\n"
     ]
    },
    {
     "name": "stderr",
     "output_type": "stream",
     "text": [
      "train minibatch loop: 100%|██████████| 250/250 [00:02<00:00, 84.57it/s, accuracy=1, cost=0.221]     \n",
      "test minibatch loop: 100%|██████████| 63/63 [00:00<00:00, 238.50it/s, accuracy=0.889, cost=0.506]\n",
      "train minibatch loop:   3%|▎         | 8/250 [00:00<00:03, 72.00it/s, accuracy=0.969, cost=0.13] "
     ]
    },
    {
     "name": "stdout",
     "output_type": "stream",
     "text": [
      "epoch: 18, pass acc: 0.898088, current acc: 0.899872\n",
      "time taken: 3.223072052001953\n",
      "epoch: 18, training loss: 0.189530, training acc: 0.941272, valid loss: 0.288476, valid acc: 0.899872\n",
      "\n"
     ]
    },
    {
     "name": "stderr",
     "output_type": "stream",
     "text": [
      "train minibatch loop: 100%|██████████| 250/250 [00:02<00:00, 85.54it/s, accuracy=1, cost=0.215]     \n",
      "test minibatch loop: 100%|██████████| 63/63 [00:00<00:00, 212.98it/s, accuracy=0.889, cost=0.509]\n",
      "train minibatch loop:   5%|▍         | 12/250 [00:00<00:02, 111.31it/s, accuracy=0.938, cost=0.202]"
     ]
    },
    {
     "name": "stdout",
     "output_type": "stream",
     "text": [
      "epoch: 19, pass acc: 0.899872, current acc: 0.901377\n",
      "time taken: 3.220914602279663\n",
      "epoch: 19, training loss: 0.181752, training acc: 0.943657, valid loss: 0.287009, valid acc: 0.901377\n",
      "\n"
     ]
    },
    {
     "name": "stderr",
     "output_type": "stream",
     "text": [
      "train minibatch loop: 100%|██████████| 250/250 [00:02<00:00, 85.78it/s, accuracy=1, cost=0.21]      \n",
      "test minibatch loop: 100%|██████████| 63/63 [00:00<00:00, 235.75it/s, accuracy=0.889, cost=0.511]\n",
      "train minibatch loop:   3%|▎         | 8/250 [00:00<00:03, 77.09it/s, accuracy=0.938, cost=0.197]"
     ]
    },
    {
     "name": "stdout",
     "output_type": "stream",
     "text": [
      "epoch: 20, pass acc: 0.901377, current acc: 0.901879\n",
      "time taken: 3.183746099472046\n",
      "epoch: 20, training loss: 0.174408, training acc: 0.947296, valid loss: 0.285935, valid acc: 0.901879\n",
      "\n"
     ]
    },
    {
     "name": "stderr",
     "output_type": "stream",
     "text": [
      "train minibatch loop: 100%|██████████| 250/250 [00:02<00:00, 80.64it/s, accuracy=1, cost=0.205]     \n",
      "test minibatch loop: 100%|██████████| 63/63 [00:00<00:00, 247.81it/s, accuracy=0.889, cost=0.514]\n",
      "train minibatch loop:   3%|▎         | 7/250 [00:00<00:03, 68.21it/s, accuracy=0.938, cost=0.176]"
     ]
    },
    {
     "name": "stdout",
     "output_type": "stream",
     "text": [
      "time taken: 3.181997060775757\n",
      "epoch: 21, training loss: 0.167454, training acc: 0.950182, valid loss: 0.285210, valid acc: 0.899370\n",
      "\n"
     ]
    },
    {
     "name": "stderr",
     "output_type": "stream",
     "text": [
      "train minibatch loop: 100%|██████████| 250/250 [00:02<00:00, 87.21it/s, accuracy=1, cost=0.2]       \n",
      "test minibatch loop: 100%|██████████| 63/63 [00:00<00:00, 215.59it/s, accuracy=0.889, cost=0.517]\n",
      "train minibatch loop:   4%|▍         | 11/250 [00:00<00:02, 106.46it/s, accuracy=0.938, cost=0.118]"
     ]
    },
    {
     "name": "stdout",
     "output_type": "stream",
     "text": [
      "time taken: 3.1607871055603027\n",
      "epoch: 22, training loss: 0.160853, training acc: 0.952441, valid loss: 0.284802, valid acc: 0.899872\n",
      "\n"
     ]
    },
    {
     "name": "stderr",
     "output_type": "stream",
     "text": [
      "train minibatch loop: 100%|██████████| 250/250 [00:02<00:00, 85.02it/s, accuracy=1, cost=0.196]     \n",
      "test minibatch loop: 100%|██████████| 63/63 [00:00<00:00, 242.72it/s, accuracy=0.889, cost=0.52] \n"
     ]
    },
    {
     "name": "stdout",
     "output_type": "stream",
     "text": [
      "time taken: 3.201809883117676\n",
      "epoch: 23, training loss: 0.154575, training acc: 0.955076, valid loss: 0.284680, valid acc: 0.901879\n",
      "\n",
      "break epoch:24\n",
      "\n"
     ]
    },
    {
     "data": {
      "text/plain": [
       "'fast-text/model.ckpt'"
      ]
     },
     "execution_count": 16,
     "metadata": {},
     "output_type": "execute_result"
    }
   ],
   "source": [
    "EARLY_STOPPING, CURRENT_CHECKPOINT, CURRENT_ACC, EPOCH = 3, 0, 0, 0\n",
    "\n",
    "while True:\n",
    "    lasttime = time.time()\n",
    "    if CURRENT_CHECKPOINT == EARLY_STOPPING:\n",
    "        print('break epoch:%d\\n' % (EPOCH))\n",
    "        break\n",
    "\n",
    "    train_acc, train_loss, test_acc, test_loss = 0, 0, 0, 0\n",
    "    pbar = tqdm(\n",
    "        range(0, len(train_X), batch_size), desc = 'train minibatch loop'\n",
    "    )\n",
    "    for i in pbar:\n",
    "        batch_x = train_X[i : min(i + batch_size, train_X.shape[0])]\n",
    "        batch_y = train_Y[i : min(i + batch_size, train_X.shape[0])]\n",
    "        acc, cost, _ = sess.run(\n",
    "            [model.accuracy, model.cost, model.optimizer],\n",
    "            feed_dict = {\n",
    "                model.X: batch_x,\n",
    "                model.Y: batch_y\n",
    "            },\n",
    "        )\n",
    "        assert not np.isnan(cost)\n",
    "        train_loss += cost\n",
    "        train_acc += acc\n",
    "        pbar.set_postfix(cost = cost, accuracy = acc)\n",
    "\n",
    "    pbar = tqdm(range(0, len(test_X), batch_size), desc = 'test minibatch loop')\n",
    "    for i in pbar:\n",
    "        batch_x = test_X[i : min(i + batch_size, test_X.shape[0])]\n",
    "        batch_y = test_Y[i : min(i + batch_size, test_X.shape[0])]\n",
    "        batch_x_expand = np.expand_dims(batch_x,axis = 1)\n",
    "        acc, cost = sess.run(\n",
    "            [model.accuracy, model.cost],\n",
    "            feed_dict = {\n",
    "                model.X: batch_x,\n",
    "                model.Y: batch_y\n",
    "            },\n",
    "        )\n",
    "        test_loss += cost\n",
    "        test_acc += acc\n",
    "        pbar.set_postfix(cost = cost, accuracy = acc)\n",
    "\n",
    "    train_loss /= len(train_X) / batch_size\n",
    "    train_acc /= len(train_X) / batch_size\n",
    "    test_loss /= len(test_X) / batch_size\n",
    "    test_acc /= len(test_X) / batch_size\n",
    "\n",
    "    if test_acc > CURRENT_ACC:\n",
    "        print(\n",
    "            'epoch: %d, pass acc: %f, current acc: %f'\n",
    "            % (EPOCH, CURRENT_ACC, test_acc)\n",
    "        )\n",
    "        CURRENT_ACC = test_acc\n",
    "        CURRENT_CHECKPOINT = 0\n",
    "    else:\n",
    "        CURRENT_CHECKPOINT += 1\n",
    "\n",
    "    print('time taken:', time.time() - lasttime)\n",
    "    print(\n",
    "        'epoch: %d, training loss: %f, training acc: %f, valid loss: %f, valid acc: %f\\n'\n",
    "        % (EPOCH, train_loss, train_acc, test_loss, test_acc)\n",
    "    )\n",
    "    EPOCH += 1\n",
    "\n",
    "saver.save(sess, \"fast-text/model.ckpt\")"
   ]
  },
  {
   "cell_type": "code",
   "execution_count": 17,
   "metadata": {},
   "outputs": [
    {
     "name": "stderr",
     "output_type": "stream",
     "text": [
      "validation minibatch loop: 100%|██████████| 63/63 [00:00<00:00, 718.86it/s]\n"
     ]
    }
   ],
   "source": [
    "real_Y, predict_Y = [], []\n",
    "\n",
    "pbar = tqdm(\n",
    "    range(0, len(test_X), batch_size), desc = 'validation minibatch loop'\n",
    ")\n",
    "for i in pbar:\n",
    "    batch_x = test_X[i : min(i + batch_size, test_X.shape[0])]\n",
    "    batch_y = test_Y[i : min(i + batch_size, test_X.shape[0])]\n",
    "    predict_Y += np.argmax(\n",
    "        sess.run(\n",
    "            model.logits, feed_dict = {model.X: batch_x, model.Y: batch_y}\n",
    "        ),\n",
    "        1,\n",
    "    ).tolist()\n",
    "    real_Y += batch_y"
   ]
  },
  {
   "cell_type": "code",
   "execution_count": 18,
   "metadata": {},
   "outputs": [
    {
     "name": "stdout",
     "output_type": "stream",
     "text": [
      "             precision    recall  f1-score   support\n",
      "\n",
      "          -       0.88      0.89      0.89       953\n",
      "          +       0.90      0.89      0.90      1040\n",
      "\n",
      "avg / total       0.89      0.89      0.89      1993\n",
      "\n"
     ]
    }
   ],
   "source": [
    "from sklearn import metrics\n",
    "print(metrics.classification_report(real_Y, predict_Y, target_names = ['-','+']))"
   ]
  },
  {
   "cell_type": "code",
   "execution_count": 19,
   "metadata": {},
   "outputs": [
    {
     "data": {
      "text/plain": [
       "array([[2.0217092e-05, 9.9997973e-01]], dtype=float32)"
      ]
     },
     "execution_count": 19,
     "metadata": {},
     "output_type": "execute_result"
    }
   ],
   "source": [
    "text = 'kerajaan sebenarnya sangat sayangkan rakyatnya, tetapi sebenarnya benci'\n",
    "new_vector = str_idx([classification_textcleaning(text)],dictionary, len(text.split()))\n",
    "sess.run(tf.nn.softmax(model.logits), feed_dict={model.X:new_vector})"
   ]
  },
  {
   "cell_type": "code",
   "execution_count": 20,
   "metadata": {},
   "outputs": [],
   "source": [
    "import json\n",
    "with open('fast-text-subjective.json','w') as fopen:\n",
    "    fopen.write(json.dumps({'dictionary':dictionary,'reverse_dictionary':rev_dictionary}))"
   ]
  },
  {
   "cell_type": "code",
   "execution_count": 21,
   "metadata": {},
   "outputs": [],
   "source": [
    "def freeze_graph(model_dir, output_node_names):\n",
    "\n",
    "    if not tf.gfile.Exists(model_dir):\n",
    "        raise AssertionError(\n",
    "            \"Export directory doesn't exists. Please specify an export \"\n",
    "            'directory: %s' % model_dir\n",
    "        )\n",
    "\n",
    "    checkpoint = tf.train.get_checkpoint_state(model_dir)\n",
    "    input_checkpoint = checkpoint.model_checkpoint_path\n",
    "\n",
    "    absolute_model_dir = '/'.join(input_checkpoint.split('/')[:-1])\n",
    "    output_graph = absolute_model_dir + '/frozen_model.pb'\n",
    "    clear_devices = True\n",
    "    with tf.Session(graph = tf.Graph()) as sess:\n",
    "        saver = tf.train.import_meta_graph(\n",
    "            input_checkpoint + '.meta', clear_devices = clear_devices\n",
    "        )\n",
    "        saver.restore(sess, input_checkpoint)\n",
    "        output_graph_def = tf.graph_util.convert_variables_to_constants(\n",
    "            sess,\n",
    "            tf.get_default_graph().as_graph_def(),\n",
    "            output_node_names.split(','),\n",
    "        )\n",
    "        with tf.gfile.GFile(output_graph, 'wb') as f:\n",
    "            f.write(output_graph_def.SerializeToString())\n",
    "        print('%d ops in the final graph.' % len(output_graph_def.node))"
   ]
  },
  {
   "cell_type": "code",
   "execution_count": 22,
   "metadata": {},
   "outputs": [
    {
     "name": "stdout",
     "output_type": "stream",
     "text": [
      "INFO:tensorflow:Restoring parameters from fast-text/model.ckpt\n",
      "INFO:tensorflow:Froze 3 variables.\n",
      "INFO:tensorflow:Converted 3 variables to const ops.\n",
      "16 ops in the final graph.\n"
     ]
    }
   ],
   "source": [
    "freeze_graph('fast-text', strings)"
   ]
  },
  {
   "cell_type": "code",
   "execution_count": 23,
   "metadata": {},
   "outputs": [],
   "source": [
    "def load_graph(frozen_graph_filename):\n",
    "    with tf.gfile.GFile(frozen_graph_filename, 'rb') as f:\n",
    "        graph_def = tf.GraphDef()\n",
    "        graph_def.ParseFromString(f.read())\n",
    "    with tf.Graph().as_default() as graph:\n",
    "        tf.import_graph_def(graph_def)\n",
    "    return graph"
   ]
  },
  {
   "cell_type": "code",
   "execution_count": 24,
   "metadata": {},
   "outputs": [
    {
     "name": "stderr",
     "output_type": "stream",
     "text": [
      "/usr/local/lib/python3.6/dist-packages/tensorflow/python/client/session.py:1702: UserWarning: An interactive session is already active. This can cause out-of-memory errors in some cases. You must explicitly call `InteractiveSession.close()` to release resources held by the other session(s).\n",
      "  warnings.warn('An interactive session is already active. This can '\n"
     ]
    },
    {
     "data": {
      "text/plain": [
       "array([[2.0217092e-05, 9.9997973e-01]], dtype=float32)"
      ]
     },
     "execution_count": 24,
     "metadata": {},
     "output_type": "execute_result"
    }
   ],
   "source": [
    "g = load_graph('fast-text/frozen_model.pb')\n",
    "x = g.get_tensor_by_name('import/Placeholder:0')\n",
    "logits = g.get_tensor_by_name('import/logits:0')\n",
    "test_sess = tf.InteractiveSession(graph = g)\n",
    "test_sess.run(tf.nn.softmax(logits), feed_dict = {x: new_vector})"
   ]
  },
  {
   "cell_type": "code",
   "execution_count": null,
   "metadata": {},
   "outputs": [],
   "source": []
  }
 ],
 "metadata": {
  "kernelspec": {
   "display_name": "Python 3",
   "language": "python",
   "name": "python3"
  },
  "language_info": {
   "codemirror_mode": {
    "name": "ipython",
    "version": 3
   },
   "file_extension": ".py",
   "mimetype": "text/x-python",
   "name": "python",
   "nbconvert_exporter": "python",
   "pygments_lexer": "ipython3",
   "version": "3.6.8"
  }
 },
 "nbformat": 4,
 "nbformat_minor": 2
}
