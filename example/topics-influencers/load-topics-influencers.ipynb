{
 "cells": [
  {
   "cell_type": "code",
   "execution_count": 1,
   "metadata": {},
   "outputs": [
    {
     "name": "stderr",
     "output_type": "stream",
     "text": [
      "Using TensorFlow backend.\n"
     ]
    }
   ],
   "source": [
    "import malaya"
   ]
  },
  {
   "cell_type": "code",
   "execution_count": 2,
   "metadata": {},
   "outputs": [],
   "source": [
    "news = 'najib razak dan mahathir mengalami masalah air di kemamam terengganu'"
   ]
  },
  {
   "cell_type": "code",
   "execution_count": 3,
   "metadata": {},
   "outputs": [
    {
     "data": {
      "text/plain": [
       "['masalah air', 'mahathir', 'najib razak']"
      ]
     },
     "execution_count": 3,
     "metadata": {},
     "output_type": "execute_result"
    }
   ],
   "source": [
    "malaya.fuzzy_get_topics(news)"
   ]
  },
  {
   "cell_type": "code",
   "execution_count": 4,
   "metadata": {},
   "outputs": [
    {
     "data": {
      "text/plain": [
       "['mahathir', 'najib razak']"
      ]
     },
     "execution_count": 4,
     "metadata": {},
     "output_type": "execute_result"
    }
   ],
   "source": [
    "malaya.fuzzy_get_influencers(news)"
   ]
  },
  {
   "cell_type": "code",
   "execution_count": 5,
   "metadata": {},
   "outputs": [],
   "source": [
    "second_news = 'ikat penyedia perkhidmatan jalur lebar Telekom Malaysia (TM) perlu mencari jalan penyelesaian bagi meningkatkan akses capaian Internet ke seluruh negara, kata Menteri Komunikasi dan Multimedia, Gobind Singh Deo. Beliau berkata menjadi dasar kerajaan untuk membekalkan akses Internet jalur lebar kepada semua dan memberi penekanan kepada kualiti perkhidmatan yang terbaik. \"Dasar kerajaan untuk bekalkan akses kepada semua bukan sekadar pembekalan sahaja tetapi beri penekanan kepada kualiti perkhidmatan yang baik dan dapat bersaing dengan negara lain pada tahap antarabangsa,\" kata Gobind Singh menerusi catatan di laman rasmi Twitter beliau, malam tadi. Beliau berkata demikian sebagai respons terhadap aduan beberapa pengguna Twitter berhubung akses Internet yang masih tidak stabil serta harga yang tidak berpatutan di beberapa lokasi di seluruh negara.'"
   ]
  },
  {
   "cell_type": "code",
   "execution_count": 6,
   "metadata": {},
   "outputs": [
    {
     "data": {
      "text/plain": [
       "['teknologi',\n",
       " 'telekom malaysia',\n",
       " 'kerajaan',\n",
       " 'politik',\n",
       " 'perkhidmatan awam',\n",
       " 'internet',\n",
       " 'pendidikan',\n",
       " 'twitter',\n",
       " 'kkmm',\n",
       " 'sosial media']"
      ]
     },
     "execution_count": 6,
     "metadata": {},
     "output_type": "execute_result"
    }
   ],
   "source": [
    "malaya.fuzzy_get_topics(second_news)"
   ]
  },
  {
   "cell_type": "code",
   "execution_count": 7,
   "metadata": {},
   "outputs": [
    {
     "data": {
      "text/plain": [
       "['gobind singh deo']"
      ]
     },
     "execution_count": 7,
     "metadata": {},
     "output_type": "execute_result"
    }
   ],
   "source": [
    "malaya.fuzzy_get_influencers(second_news)"
   ]
  },
  {
   "cell_type": "code",
   "execution_count": 8,
   "metadata": {},
   "outputs": [],
   "source": [
    "topics_similarity = malaya.fast_get_topics()"
   ]
  },
  {
   "cell_type": "code",
   "execution_count": 9,
   "metadata": {},
   "outputs": [
    {
     "data": {
      "text/plain": [
       "['mahathir', 'najib razak', 'tan sri mokhzani mahathir']"
      ]
     },
     "execution_count": 9,
     "metadata": {},
     "output_type": "execute_result"
    }
   ],
   "source": [
    "topics_similarity.get_similarity(news)"
   ]
  },
  {
   "cell_type": "code",
   "execution_count": 10,
   "metadata": {},
   "outputs": [],
   "source": [
    "influencers_similarity = malaya.fast_get_influencers()"
   ]
  },
  {
   "cell_type": "code",
   "execution_count": 11,
   "metadata": {},
   "outputs": [
    {
     "data": {
      "text/plain": [
       "['mahathir', 'najib razak', 'tan sri mokhzani mahathir']"
      ]
     },
     "execution_count": 11,
     "metadata": {},
     "output_type": "execute_result"
    }
   ],
   "source": [
    "influencers_similarity.get_similarity(news)"
   ]
  },
  {
   "cell_type": "code",
   "execution_count": 12,
   "metadata": {},
   "outputs": [
    {
     "data": {
      "text/plain": [
       "['mic',\n",
       " 'gobind singh deo',\n",
       " 'parti amanah',\n",
       " 'majlis pakatan harapan',\n",
       " 'ppbm',\n",
       " 'pakatan harapan',\n",
       " 'parti pribumi bersatu malaysia',\n",
       " 'jabatan perancangan bandar dan desa',\n",
       " 'parti islam semalaysia']"
      ]
     },
     "execution_count": 12,
     "metadata": {},
     "output_type": "execute_result"
    }
   ],
   "source": [
    "influencers_similarity.get_similarity(second_news)"
   ]
  },
  {
   "cell_type": "code",
   "execution_count": 13,
   "metadata": {},
   "outputs": [
    {
     "name": "stderr",
     "output_type": "stream",
     "text": [
      "minibatch loop: 100%|██████████| 157/157 [00:18<00:00,  8.87it/s, cost=1.75]\n",
      "minibatch loop: 100%|██████████| 157/157 [00:17<00:00,  9.12it/s, cost=0.141]\n",
      "minibatch loop: 100%|██████████| 157/157 [00:17<00:00,  9.02it/s, cost=0.0708]\n",
      "minibatch loop: 100%|██████████| 157/157 [00:17<00:00,  9.13it/s, cost=0.0447]\n",
      "minibatch loop: 100%|██████████| 157/157 [00:17<00:00,  9.15it/s, cost=0.0469]\n"
     ]
    }
   ],
   "source": [
    "deep_topic = malaya.deep_get_topics()"
   ]
  },
  {
   "cell_type": "code",
   "execution_count": 14,
   "metadata": {},
   "outputs": [
    {
     "data": {
      "text/plain": [
       "['mikro-ekonomi',\n",
       " 'pusat daerah mangundi',\n",
       " 'k-pop',\n",
       " 'datuk seri ti lian ker',\n",
       " 'keluar parti',\n",
       " 'pilihan raya umum ke-14',\n",
       " 'malaysia-indonesia',\n",
       " 'tunku ismail idris',\n",
       " 'parti pribumi bersatu malaysia',\n",
       " 'makro-ekonomi',\n",
       " 'kkmm',\n",
       " '#fakenews',\n",
       " 'datuk seri azmin ali']"
      ]
     },
     "execution_count": 14,
     "metadata": {},
     "output_type": "execute_result"
    }
   ],
   "source": [
    "deep_topic.get_similarity(second_news, anchor = 0.5)"
   ]
  },
  {
   "cell_type": "code",
   "execution_count": 15,
   "metadata": {},
   "outputs": [
    {
     "name": "stderr",
     "output_type": "stream",
     "text": [
      "minibatch loop: 100%|██████████| 20/20 [00:02<00:00,  9.06it/s, cost=3.79]\n",
      "minibatch loop: 100%|██████████| 20/20 [00:02<00:00,  9.16it/s, cost=1.95]\n",
      "minibatch loop: 100%|██████████| 20/20 [00:02<00:00,  9.03it/s, cost=0.947]\n",
      "minibatch loop: 100%|██████████| 20/20 [00:02<00:00,  9.16it/s, cost=0.535]\n",
      "minibatch loop: 100%|██████████| 20/20 [00:02<00:00,  9.09it/s, cost=0.463]\n",
      "minibatch loop: 100%|██████████| 20/20 [00:02<00:00,  9.03it/s, cost=0.336]\n",
      "minibatch loop: 100%|██████████| 20/20 [00:02<00:00,  8.98it/s, cost=0.334]\n",
      "minibatch loop: 100%|██████████| 20/20 [00:02<00:00,  9.04it/s, cost=0.285]\n",
      "minibatch loop: 100%|██████████| 20/20 [00:02<00:00,  8.84it/s, cost=0.309]\n",
      "minibatch loop: 100%|██████████| 20/20 [00:02<00:00,  9.21it/s, cost=0.377]\n"
     ]
    }
   ],
   "source": [
    "deep_influencer = malaya.deep_get_influencers()"
   ]
  },
  {
   "cell_type": "code",
   "execution_count": 16,
   "metadata": {},
   "outputs": [
    {
     "data": {
      "text/plain": [
       "['mahathir', 'najib razak']"
      ]
     },
     "execution_count": 16,
     "metadata": {},
     "output_type": "execute_result"
    }
   ],
   "source": [
    "deep_influencer.get_similarity(news, anchor = 0.5)"
   ]
  },
  {
   "cell_type": "code",
   "execution_count": 17,
   "metadata": {},
   "outputs": [
    {
     "data": {
      "text/plain": [
       "['gobind singh deo']"
      ]
     },
     "execution_count": 17,
     "metadata": {},
     "output_type": "execute_result"
    }
   ],
   "source": [
    "deep_influencer.get_similarity(second_news, anchor = 0.5)"
   ]
  },
  {
   "cell_type": "code",
   "execution_count": null,
   "metadata": {},
   "outputs": [],
   "source": []
  }
 ],
 "metadata": {
  "kernelspec": {
   "display_name": "Python 3",
   "language": "python",
   "name": "python3"
  },
  "language_info": {
   "codemirror_mode": {
    "name": "ipython",
    "version": 3
   },
   "file_extension": ".py",
   "mimetype": "text/x-python",
   "name": "python",
   "nbconvert_exporter": "python",
   "pygments_lexer": "ipython3",
   "version": "3.5.2"
  }
 },
 "nbformat": 4,
 "nbformat_minor": 2
}
