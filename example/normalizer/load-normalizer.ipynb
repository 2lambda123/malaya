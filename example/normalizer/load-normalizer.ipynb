{
 "cells": [
  {
   "cell_type": "code",
   "execution_count": 1,
   "metadata": {},
   "outputs": [
    {
     "name": "stdout",
     "output_type": "stream",
     "text": [
      "CPU times: user 13.2 s, sys: 1.41 s, total: 14.6 s\n",
      "Wall time: 18.2 s\n"
     ]
    }
   ],
   "source": [
    "%%time\n",
    "import malaya"
   ]
  },
  {
   "cell_type": "code",
   "execution_count": 2,
   "metadata": {},
   "outputs": [],
   "source": [
    "string = 'y u xsuka makan HUSEIN kt situ tmpt'\n",
    "another = 'i mmg xska mknn HUSEIN kampng tempt'"
   ]
  },
  {
   "cell_type": "markdown",
   "metadata": {},
   "source": [
    "## Load basic normalizer"
   ]
  },
  {
   "cell_type": "code",
   "execution_count": 3,
   "metadata": {},
   "outputs": [
    {
     "data": {
      "text/plain": [
       "'kenapa awak xsuka makan Husein kt situ tmpt'"
      ]
     },
     "execution_count": 3,
     "metadata": {},
     "output_type": "execute_result"
    }
   ],
   "source": [
    "malaya.normalize.basic(string)"
   ]
  },
  {
   "cell_type": "markdown",
   "metadata": {},
   "source": [
    "## Load fuzzy normalizer"
   ]
  },
  {
   "cell_type": "code",
   "execution_count": 4,
   "metadata": {},
   "outputs": [],
   "source": [
    "malays = malaya.load_malay_dictionary()\n",
    "normalizer = malaya.normalize.fuzzy(malays)"
   ]
  },
  {
   "cell_type": "code",
   "execution_count": 5,
   "metadata": {},
   "outputs": [
    {
     "data": {
      "text/plain": [
       "'kenapa awak tak suka makan Husein kat situ tempat'"
      ]
     },
     "execution_count": 5,
     "metadata": {},
     "output_type": "execute_result"
    }
   ],
   "source": [
    "normalizer.normalize(string)"
   ]
  },
  {
   "cell_type": "code",
   "execution_count": 6,
   "metadata": {},
   "outputs": [
    {
     "data": {
      "text/plain": [
       "'saya memang tak saka makanan Husein kampung tempat'"
      ]
     },
     "execution_count": 6,
     "metadata": {},
     "output_type": "execute_result"
    }
   ],
   "source": [
    "normalizer.normalize(another)"
   ]
  },
  {
   "cell_type": "markdown",
   "metadata": {},
   "source": [
    "## Load deep expander"
   ]
  },
  {
   "cell_type": "code",
   "execution_count": 7,
   "metadata": {},
   "outputs": [],
   "source": [
    "wiki, ngrams = malaya.fast_text.load_wiki()\n",
    "fast_text_embed = malaya.fast_text.fast_text(wiki['embed_weights'],wiki['dictionary'],ngrams)\n",
    "normalizer = malaya.normalize.deep_expander(malays, fast_text_embed)"
   ]
  },
  {
   "cell_type": "code",
   "execution_count": 8,
   "metadata": {},
   "outputs": [
    {
     "data": {
      "text/plain": [
       "[[('tmpt',\n",
       "   'kenapa awak tak suka makan Husein kat situ tut',\n",
       "   0.8088938253521919),\n",
       "  ('tmpt',\n",
       "   'kenapa awak tak suka makan Husein kat situ tuit',\n",
       "   0.863929785296917),\n",
       "  ('tmpt',\n",
       "   'kenapa awak tak suka makan Husein kat situ tat',\n",
       "   0.8680638003787995),\n",
       "  ('tmpt',\n",
       "   'kenapa awak tak suka makan Husein kat situ top',\n",
       "   0.8688952446055412),\n",
       "  ('tmpt',\n",
       "   'kenapa awak tak suka makan Husein kat situ tip',\n",
       "   0.8978437346220016),\n",
       "  ('tmpt',\n",
       "   'kenapa awak tak suka makan Husein kat situ taat',\n",
       "   0.936883625289917),\n",
       "  ('tmpt',\n",
       "   'kenapa awak tak suka makan Husein kat situ topi',\n",
       "   0.9442774548711776),\n",
       "  ('tmpt',\n",
       "   'kenapa awak tak suka makan Husein kat situ tumit',\n",
       "   0.9495834815340042),\n",
       "  ('tmpt',\n",
       "   'kenapa awak tak suka makan Husein kat situ tempe',\n",
       "   0.9758907731723786),\n",
       "  ('tmpt',\n",
       "   'kenapa awak tak suka makan Husein kat situ ampe',\n",
       "   0.9821926467533112),\n",
       "  ('tmpt',\n",
       "   'kenapa awak tak suka makan Husein kat situ tempo',\n",
       "   0.9836614096956253),\n",
       "  ('tmpt',\n",
       "   'kenapa awak tak suka makan Husein kat situ tepet',\n",
       "   0.994007917971611),\n",
       "  ('tmpt',\n",
       "   'kenapa awak tak suka makan Husein kat situ amit',\n",
       "   0.9999424153804779),\n",
       "  ('tmpt',\n",
       "   'kenapa awak tak suka makan Husein kat situ tuat',\n",
       "   1.0002889167022706),\n",
       "  ('tmpt',\n",
       "   'kenapa awak tak suka makan Husein kat situ mat',\n",
       "   1.0071370331926346),\n",
       "  ('tmpt',\n",
       "   'kenapa awak tak suka makan Husein kat situ temut',\n",
       "   1.011553812426567),\n",
       "  ('tmpt',\n",
       "   'kenapa awak tak suka makan Husein kat situ ampit',\n",
       "   1.022653616695404),\n",
       "  ('tmpt',\n",
       "   'kenapa awak tak suka makan Husein kat situ ampo',\n",
       "   1.0231078831071854),\n",
       "  ('tmpt',\n",
       "   'kenapa awak tak suka makan Husein kat situ tipu',\n",
       "   1.0246861065587998),\n",
       "  ('tmpt',\n",
       "   'kenapa awak tak suka makan Husein kat situ tepi',\n",
       "   1.0285266551542283),\n",
       "  ('tmpt',\n",
       "   'kenapa awak tak suka makan Husein kat situ umut',\n",
       "   1.0287358275117875),\n",
       "  ('tmpt',\n",
       "   'kenapa awak tak suka makan Husein kat situ emat',\n",
       "   1.0357482937116622),\n",
       "  ('tmpt',\n",
       "   'kenapa awak tak suka makan Husein kat situ empat',\n",
       "   1.0431590774860382),\n",
       "  ('tmpt',\n",
       "   'kenapa awak tak suka makan Husein kat situ tapi',\n",
       "   1.0562509994459153),\n",
       "  ('tmpt',\n",
       "   'kenapa awak tak suka makan Husein kat situ tepu',\n",
       "   1.0601519473543166),\n",
       "  ('tmpt',\n",
       "   'kenapa awak tak suka makan Husein kat situ tumpat',\n",
       "   1.074669928882599),\n",
       "  ('tmpt',\n",
       "   'kenapa awak tak suka makan Husein kat situ impi',\n",
       "   1.078846170501709),\n",
       "  ('tmpt',\n",
       "   'kenapa awak tak suka makan Husein kat situ umat',\n",
       "   1.0791117155513763),\n",
       "  ('tmpt',\n",
       "   'kenapa awak tak suka makan Husein kat situ tampi',\n",
       "   1.0883281208925248),\n",
       "  ('tmpt',\n",
       "   'kenapa awak tak suka makan Husein kat situ tumpu',\n",
       "   1.091578345676422),\n",
       "  ('tmpt',\n",
       "   'kenapa awak tak suka makan Husein kat situ umpat',\n",
       "   1.092372225769043),\n",
       "  ('tmpt',\n",
       "   'kenapa awak tak suka makan Husein kat situ tepat',\n",
       "   1.0979607516746521),\n",
       "  ('tmpt',\n",
       "   'kenapa awak tak suka makan Husein kat situ tampa',\n",
       "   1.1118229238204955),\n",
       "  ('tmpt',\n",
       "   'kenapa awak tak suka makan Husein kat situ amput',\n",
       "   1.1226389572820663),\n",
       "  ('tmpt',\n",
       "   'kenapa awak tak suka makan Husein kat situ tapa',\n",
       "   1.129335333744049),\n",
       "  ('tmpt',\n",
       "   'kenapa awak tak suka makan Husein kat situ timpa',\n",
       "   1.1353471846590042),\n",
       "  ('tmpt',\n",
       "   'kenapa awak tak suka makan Husein kat situ empu',\n",
       "   1.1459274488725661),\n",
       "  ('tmpt',\n",
       "   'kenapa awak tak suka makan Husein kat situ tempa',\n",
       "   1.164648480837822),\n",
       "  ('tmpt',\n",
       "   'kenapa awak tak suka makan Husein kat situ tampu',\n",
       "   1.1812463180065156),\n",
       "  ('tmpt',\n",
       "   'kenapa awak tak suka makan Husein kat situ tempat',\n",
       "   1.1856716803007126),\n",
       "  ('tmpt',\n",
       "   'kenapa awak tak suka makan Husein kat situ tamat',\n",
       "   1.2068403679332733),\n",
       "  ('tmpt',\n",
       "   'kenapa awak tak suka makan Husein kat situ amat',\n",
       "   1.2214121790246963),\n",
       "  ('tmpt',\n",
       "   'kenapa awak tak suka makan Husein kat situ ampu',\n",
       "   1.2350379461402894),\n",
       "  ('tmpt',\n",
       "   'kenapa awak tak suka makan Husein kat situ taut',\n",
       "   1.2796957146606445)]]"
      ]
     },
     "execution_count": 8,
     "metadata": {},
     "output_type": "execute_result"
    }
   ],
   "source": [
    "normalizer.normalize(string)"
   ]
  },
  {
   "cell_type": "code",
   "execution_count": 9,
   "metadata": {},
   "outputs": [
    {
     "data": {
      "text/plain": [
       "[[('ska', 'saya memang tak soka mknn Husein kampng tempt', 0.7199365496635437),\n",
       "  ('ska', 'saya memang tak suka mknn Husein kampng tempt', 0.8050327301025391),\n",
       "  ('ska', 'saya memang tak sika mknn Husein kampng tempt', 0.8729341626167297),\n",
       "  ('ska', 'saya memang tak saka mknn Husein kampng tempt', 0.875930666923523),\n",
       "  ('ska', 'saya memang tak spa mknn Husein kampng tempt', 0.8995948433876038),\n",
       "  ('ska', 'saya memang tak sua mknn Husein kampng tempt', 0.9496822357177734),\n",
       "  ('ska', 'saya memang tak seka mknn Husein kampng tempt', 0.9891390204429626),\n",
       "  ('ska', 'saya memang tak ski mknn Husein kampng tempt', 1.1318669319152832),\n",
       "  ('ska', 'saya memang tak sia mknn Husein kampng tempt', 1.1666431427001953)],\n",
       " [('mknn', 'saya memang tak ska min Husein kampng tempt', 0.8653836846351624),\n",
       "  ('mknn', 'saya memang tak ska maun Husein kampng tempt', 1.045318603515625),\n",
       "  ('mknn', 'saya memang tak ska kun Husein kampng tempt', 1.0710314512252808),\n",
       "  ('mknn', 'saya memang tak ska ken Husein kampng tempt', 1.0728274583816528),\n",
       "  ('mknn', 'saya memang tak ska kon Husein kampng tempt', 1.0992072820663452),\n",
       "  ('mknn', 'saya memang tak ska ikon Husein kampng tempt', 1.1365187168121338),\n",
       "  ('mknn', 'saya memang tak ska makin Husein kampng tempt', 1.180336833000183),\n",
       "  ('mknn', 'saya memang tak ska main Husein kampng tempt', 1.182568907737732),\n",
       "  ('mknn', 'saya memang tak ska makan Husein kampng tempt', 1.183489203453064),\n",
       "  ('mknn', 'saya memang tak ska makna Husein kampng tempt', 1.184565544128418),\n",
       "  ('mknn', 'saya memang tak ska kan Husein kampng tempt', 1.2368937730789185),\n",
       "  ('mknn', 'saya memang tak ska akan Husein kampng tempt', 1.2527291774749756),\n",
       "  ('mknn', 'saya memang tak ska mani Husein kampng tempt', 1.266147494316101),\n",
       "  ('mknn', 'saya memang tak ska ikan Husein kampng tempt', 1.2773109674453735),\n",
       "  ('mknn', 'saya memang tak ska mini Husein kampng tempt', 1.3020210266113281),\n",
       "  ('mknn', 'saya memang tak ska mana Husein kampng tempt', 1.3099677562713623),\n",
       "  ('mknn', 'saya memang tak ska menu Husein kampng tempt', 1.3974181413650513),\n",
       "  ('mknn', 'saya memang tak ska mena Husein kampng tempt', 1.404064655303955),\n",
       "  ('mknn',\n",
       "   'saya memang tak ska makanan Husein kampng tempt',\n",
       "   1.4473483562469482)],\n",
       " [('kampng',\n",
       "   'saya memang tak ska mknn Husein kampung tempt',\n",
       "   0.9272603988647461)],\n",
       " [('tempt',\n",
       "   'saya memang tak ska mknn Husein kampng tempo',\n",
       "   0.7405402660369873),\n",
       "  ('tempt',\n",
       "   'saya memang tak ska mknn Husein kampng tempe',\n",
       "   0.7510019540786743),\n",
       "  ('tempt', 'saya memang tak ska mknn Husein kampng tempa', 0.885798454284668),\n",
       "  ('tempt',\n",
       "   'saya memang tak ska mknn Husein kampng temut',\n",
       "   0.9036741256713867),\n",
       "  ('tempt',\n",
       "   'saya memang tak ska mknn Husein kampng tempat',\n",
       "   0.9161624312400818)]]"
      ]
     },
     "execution_count": 9,
     "metadata": {},
     "output_type": "execute_result"
    }
   ],
   "source": [
    "normalizer.normalize(another)"
   ]
  },
  {
   "cell_type": "markdown",
   "metadata": {},
   "source": [
    "`deep_expander` will suggest nearest distance based on Word Mover distance. This distance algorithm really depends on vector definition."
   ]
  },
  {
   "cell_type": "markdown",
   "metadata": {},
   "source": [
    "## Load spell normalizer"
   ]
  },
  {
   "cell_type": "code",
   "execution_count": 10,
   "metadata": {},
   "outputs": [],
   "source": [
    "normalizer = malaya.normalize.spell(malays)"
   ]
  },
  {
   "cell_type": "markdown",
   "metadata": {},
   "source": [
    "#### To list all selected words during normalize"
   ]
  },
  {
   "cell_type": "code",
   "execution_count": 11,
   "metadata": {},
   "outputs": [
    {
     "name": "stdout",
     "output_type": "stream",
     "text": [
      "[(('tepu', False), 10), (('tuat', False), 15), (('taut', False), 15), (('tapa', False), 10), (('timpa', False), 20), (('tampi', True), 15), (('tumpat', True), 24), (('temut', False), 15), (('tut', False), 16), (('umpat', True), 20), (('amat', False), 21), (('top', False), 11), (('ampit', False), 20), (('tampa', False), 15), (('tipu', False), 15), (('tat', False), 11), (('tepi', False), 10), (('ampu', False), 15), (('impi', False), 15), (('umut', False), 21), (('umat', False), 21), (('amit', False), 21), (('tampu', False), 15), (('tumit', False), 20), (('tempa', False), 15), (('tempat', False), 20), (('empu', False), 10), (('tapi', False), 10), (('topi', False), 10), (('tempo', False), 15), (('tuit', False), 15), (('tip', False), 16), (('tamat', False), 20), (('tepet', False), 15), (('tepat', False), 15), (('amput', False), 20), (('mat', False), 16), (('tumpu', False), 20), (('tempe', False), 15), (('emat', False), 15), (('ampo', False), 15), (('empat', True), 15), (('ampe', False), 15), (('taat', False), 15)] \n",
      "\n"
     ]
    },
    {
     "data": {
      "text/plain": [
       "'kenapa awak tak suka makan Husein kat situ amit'"
      ]
     },
     "execution_count": 11,
     "metadata": {},
     "output_type": "execute_result"
    }
   ],
   "source": [
    "normalizer.normalize(string,debug=True)"
   ]
  },
  {
   "cell_type": "markdown",
   "metadata": {},
   "source": [
    "## Load deep learning"
   ]
  },
  {
   "cell_type": "markdown",
   "metadata": {},
   "source": [
    "This model is not perfect, really suggest you to use other models. Husein needs to read more!"
   ]
  },
  {
   "cell_type": "code",
   "execution_count": 12,
   "metadata": {},
   "outputs": [
    {
     "data": {
      "text/plain": [
       "'eye uau tak suka makan unsein kati situ tumpat'"
      ]
     },
     "execution_count": 12,
     "metadata": {},
     "output_type": "execute_result"
    }
   ],
   "source": [
    "normalizer = malaya.normalize.deep_model()\n",
    "normalizer.normalize(string)"
   ]
  }
 ],
 "metadata": {
  "kernelspec": {
   "display_name": "Python 3",
   "language": "python",
   "name": "python3"
  },
  "language_info": {
   "codemirror_mode": {
    "name": "ipython",
    "version": 3
   },
   "file_extension": ".py",
   "mimetype": "text/x-python",
   "name": "python",
   "nbconvert_exporter": "python",
   "pygments_lexer": "ipython3",
   "version": "3.6.5"
  }
 },
 "nbformat": 4,
 "nbformat_minor": 2
}
