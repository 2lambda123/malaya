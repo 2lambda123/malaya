{
 "cells": [
  {
   "cell_type": "code",
   "execution_count": 1,
   "metadata": {},
   "outputs": [
    {
     "name": "stderr",
     "output_type": "stream",
     "text": [
      "/usr/local/lib/python3.6/dist-packages/sklearn/cross_validation.py:41: DeprecationWarning: This module was deprecated in version 0.18 in favor of the model_selection module into which all the refactored classes and functions are moved. Also note that the interface of the new CV iterators are different from that of this module. This module will be removed in 0.20.\n",
      "  \"This module will be removed in 0.20.\", DeprecationWarning)\n"
     ]
    }
   ],
   "source": [
    "import re\n",
    "import numpy as np\n",
    "import collections\n",
    "from sklearn import metrics\n",
    "from sklearn.cross_validation import train_test_split\n",
    "import tensorflow as tf\n",
    "import pandas as pd\n",
    "from unidecode import unidecode\n",
    "from sklearn.preprocessing import LabelEncoder\n",
    "from tqdm import tqdm\n",
    "import time"
   ]
  },
  {
   "cell_type": "code",
   "execution_count": 2,
   "metadata": {},
   "outputs": [],
   "source": [
    "import json\n",
    "\n",
    "with open('tokenization.json') as fopen:\n",
    "    dataset = json.load(fopen)\n",
    "texts = dataset['texts']\n",
    "labels = dataset['labels']\n",
    "del dataset"
   ]
  },
  {
   "cell_type": "code",
   "execution_count": 3,
   "metadata": {},
   "outputs": [
    {
     "name": "stderr",
     "output_type": "stream",
     "text": [
      "100%|██████████| 675023/675023 [00:00<00:00, 1247938.47it/s]\n"
     ]
    }
   ],
   "source": [
    "x, y = [], []\n",
    "for i in tqdm(range(len(texts))):\n",
    "    s = ' '.join(texts[i])\n",
    "    if len(s) > 5:\n",
    "        x.append(s)\n",
    "        y.append(labels[i])"
   ]
  },
  {
   "cell_type": "code",
   "execution_count": 4,
   "metadata": {},
   "outputs": [],
   "source": [
    "def convert_sparse_matrix_to_sparse_tensor(X):\n",
    "    coo = X.tocoo()\n",
    "    indices = np.mat([coo.row, coo.col]).transpose()\n",
    "    return tf.SparseTensorValue(indices, coo.col, coo.shape), tf.SparseTensorValue(indices, coo.data, coo.shape)"
   ]
  },
  {
   "cell_type": "code",
   "execution_count": 5,
   "metadata": {},
   "outputs": [],
   "source": [
    "from sklearn.feature_extraction.text import CountVectorizer"
   ]
  },
  {
   "cell_type": "code",
   "execution_count": 6,
   "metadata": {},
   "outputs": [],
   "source": [
    "bow_chars = CountVectorizer(ngram_range=(3, 5), analyzer='char_wb', max_features=300000).fit(x)\n",
    "delattr(bow_chars, 'stop_words_')"
   ]
  },
  {
   "cell_type": "code",
   "execution_count": 7,
   "metadata": {},
   "outputs": [
    {
     "data": {
      "text/plain": [
       "300000"
      ]
     },
     "execution_count": 7,
     "metadata": {},
     "output_type": "execute_result"
    }
   ],
   "source": [
    "vectors = bow_chars.transform(x)\n",
    "feature_shape = vectors.shape[1]\n",
    "feature_shape"
   ]
  },
  {
   "cell_type": "code",
   "execution_count": 8,
   "metadata": {},
   "outputs": [],
   "source": [
    "class Model:\n",
    "    def __init__(self, output_size, vocab_size, learning_rate):\n",
    "        self.X = tf.sparse_placeholder(tf.int32)\n",
    "        self.W = tf.sparse_placeholder(tf.int32)\n",
    "        self.Y = tf.placeholder(tf.int32, [None])\n",
    "        embeddings = tf.Variable(tf.truncated_normal([vocab_size,128]))\n",
    "        embed = tf.nn.embedding_lookup_sparse(embeddings, self.X, self.W, combiner='mean')\n",
    "        self.logits = tf.layers.dense(embed, output_size)\n",
    "        self.cost = tf.reduce_mean(tf.nn.sparse_softmax_cross_entropy_with_logits(\n",
    "            logits = self.logits, labels = self.Y))\n",
    "        self.optimizer = tf.train.AdamOptimizer(learning_rate = learning_rate).minimize(self.cost)\n",
    "        correct_pred = tf.equal(tf.argmax(self.logits, 1,output_type=tf.int32), self.Y)\n",
    "        self.accuracy = tf.reduce_mean(tf.cast(correct_pred, tf.float32))"
   ]
  },
  {
   "cell_type": "code",
   "execution_count": 9,
   "metadata": {},
   "outputs": [
    {
     "name": "stderr",
     "output_type": "stream",
     "text": [
      "/usr/local/lib/python3.6/dist-packages/tensorflow/python/ops/gradients_impl.py:108: UserWarning: Converting sparse IndexedSlices to a dense Tensor of unknown shape. This may consume a large amount of memory.\n",
      "  \"Converting sparse IndexedSlices to a dense Tensor of unknown shape. \"\n"
     ]
    }
   ],
   "source": [
    "sess = tf.InteractiveSession()\n",
    "model = Model(2, feature_shape, 1e-4)\n",
    "sess.run(tf.global_variables_initializer())"
   ]
  },
  {
   "cell_type": "code",
   "execution_count": 10,
   "metadata": {},
   "outputs": [
    {
     "data": {
      "text/plain": [
       "'fast-text-char/model.ckpt'"
      ]
     },
     "execution_count": 10,
     "metadata": {},
     "output_type": "execute_result"
    }
   ],
   "source": [
    "saver = tf.train.Saver(tf.trainable_variables())\n",
    "saver.save(sess, 'fast-text-char/model.ckpt')"
   ]
  },
  {
   "cell_type": "code",
   "execution_count": 11,
   "metadata": {},
   "outputs": [],
   "source": [
    "train_X, test_X, train_Y, test_Y = train_test_split(\n",
    "    vectors, y, test_size = 0.2\n",
    ")"
   ]
  },
  {
   "cell_type": "code",
   "execution_count": 12,
   "metadata": {},
   "outputs": [
    {
     "name": "stderr",
     "output_type": "stream",
     "text": [
      "train minibatch loop: 100%|██████████| 8935/8935 [06:08<00:00, 24.23it/s, accuracy=0.812, cost=0.467]\n",
      "test minibatch loop: 100%|██████████| 2234/2234 [00:06<00:00, 354.11it/s, accuracy=0.738, cost=0.518]\n",
      "train minibatch loop:   0%|          | 3/8935 [00:00<06:10, 24.11it/s, accuracy=0.817, cost=0.422]"
     ]
    },
    {
     "name": "stdout",
     "output_type": "stream",
     "text": [
      "epoch: 0, pass acc: 0.000000, current acc: 0.753968\n",
      "time taken: 375.06318616867065\n",
      "epoch: 0, training loss: 0.557531, training acc: 0.718055, valid loss: 0.512189, valid acc: 0.753968\n",
      "\n"
     ]
    },
    {
     "name": "stderr",
     "output_type": "stream",
     "text": [
      "train minibatch loop: 100%|██████████| 8935/8935 [06:08<00:00, 24.23it/s, accuracy=0.792, cost=0.454]\n",
      "test minibatch loop: 100%|██████████| 2234/2234 [00:06<00:00, 353.14it/s, accuracy=0.714, cost=0.499]\n",
      "train minibatch loop:   0%|          | 3/8935 [00:00<06:09, 24.17it/s, accuracy=0.767, cost=0.41] "
     ]
    },
    {
     "name": "stdout",
     "output_type": "stream",
     "text": [
      "epoch: 1, pass acc: 0.753968, current acc: 0.766470\n",
      "time taken: 375.01256942749023\n",
      "epoch: 1, training loss: 0.498124, training acc: 0.763182, valid loss: 0.494869, valid acc: 0.766470\n",
      "\n"
     ]
    },
    {
     "name": "stderr",
     "output_type": "stream",
     "text": [
      "train minibatch loop: 100%|██████████| 8935/8935 [06:08<00:00, 24.23it/s, accuracy=0.792, cost=0.448]\n",
      "test minibatch loop: 100%|██████████| 2234/2234 [00:06<00:00, 356.66it/s, accuracy=0.738, cost=0.496]\n",
      "train minibatch loop:   0%|          | 3/8935 [00:00<06:07, 24.33it/s, accuracy=0.8, cost=0.404]  "
     ]
    },
    {
     "name": "stdout",
     "output_type": "stream",
     "text": [
      "epoch: 2, pass acc: 0.766470, current acc: 0.769861\n",
      "time taken: 375.08100295066833\n",
      "epoch: 2, training loss: 0.485102, training acc: 0.771971, valid loss: 0.488623, valid acc: 0.769861\n",
      "\n"
     ]
    },
    {
     "name": "stderr",
     "output_type": "stream",
     "text": [
      "train minibatch loop: 100%|██████████| 8935/8935 [06:08<00:00, 24.25it/s, accuracy=0.792, cost=0.444]\n",
      "test minibatch loop: 100%|██████████| 2234/2234 [00:06<00:00, 352.61it/s, accuracy=0.738, cost=0.499]\n",
      "train minibatch loop:   0%|          | 3/8935 [00:00<06:08, 24.21it/s, accuracy=0.817, cost=0.4]  "
     ]
    },
    {
     "name": "stdout",
     "output_type": "stream",
     "text": [
      "epoch: 3, pass acc: 0.769861, current acc: 0.771711\n",
      "time taken: 374.79356360435486\n",
      "epoch: 3, training loss: 0.478148, training acc: 0.776566, valid loss: 0.485498, valid acc: 0.771711\n",
      "\n"
     ]
    },
    {
     "name": "stderr",
     "output_type": "stream",
     "text": [
      "train minibatch loop: 100%|██████████| 8935/8935 [06:08<00:00, 24.24it/s, accuracy=0.792, cost=0.441]\n",
      "test minibatch loop: 100%|██████████| 2234/2234 [00:06<00:00, 356.45it/s, accuracy=0.738, cost=0.503]\n",
      "train minibatch loop:   0%|          | 3/8935 [00:00<06:09, 24.17it/s, accuracy=0.817, cost=0.396]"
     ]
    },
    {
     "name": "stdout",
     "output_type": "stream",
     "text": [
      "epoch: 4, pass acc: 0.771711, current acc: 0.772368\n",
      "time taken: 374.80304861068726\n",
      "epoch: 4, training loss: 0.473402, training acc: 0.779878, valid loss: 0.483744, valid acc: 0.772368\n",
      "\n"
     ]
    },
    {
     "name": "stderr",
     "output_type": "stream",
     "text": [
      "train minibatch loop: 100%|██████████| 8935/8935 [06:08<00:00, 24.24it/s, accuracy=0.792, cost=0.438]\n",
      "test minibatch loop: 100%|██████████| 2234/2234 [00:06<00:00, 356.53it/s, accuracy=0.738, cost=0.508]\n",
      "train minibatch loop:   0%|          | 3/8935 [00:00<06:06, 24.36it/s, accuracy=0.817, cost=0.392]"
     ]
    },
    {
     "name": "stdout",
     "output_type": "stream",
     "text": [
      "epoch: 5, pass acc: 0.772368, current acc: 0.773099\n",
      "time taken: 374.81426978111267\n",
      "epoch: 5, training loss: 0.469783, training acc: 0.782354, valid loss: 0.482727, valid acc: 0.773099\n",
      "\n"
     ]
    },
    {
     "name": "stderr",
     "output_type": "stream",
     "text": [
      "train minibatch loop: 100%|██████████| 8935/8935 [06:08<00:00, 24.25it/s, accuracy=0.792, cost=0.436]\n",
      "test minibatch loop: 100%|██████████| 2234/2234 [00:06<00:00, 356.55it/s, accuracy=0.762, cost=0.513]\n",
      "train minibatch loop:   0%|          | 3/8935 [00:00<06:08, 24.22it/s, accuracy=0.8, cost=0.389]  "
     ]
    },
    {
     "name": "stdout",
     "output_type": "stream",
     "text": [
      "epoch: 6, pass acc: 0.773099, current acc: 0.773707\n",
      "time taken: 374.66761803627014\n",
      "epoch: 6, training loss: 0.466841, training acc: 0.784040, valid loss: 0.482160, valid acc: 0.773707\n",
      "\n"
     ]
    },
    {
     "name": "stderr",
     "output_type": "stream",
     "text": [
      "train minibatch loop: 100%|██████████| 8935/8935 [06:08<00:00, 24.25it/s, accuracy=0.792, cost=0.433]\n",
      "test minibatch loop: 100%|██████████| 2234/2234 [00:06<00:00, 358.53it/s, accuracy=0.738, cost=0.518]\n",
      "train minibatch loop:   0%|          | 3/8935 [00:00<06:08, 24.24it/s, accuracy=0.8, cost=0.385] "
     ]
    },
    {
     "name": "stdout",
     "output_type": "stream",
     "text": [
      "epoch: 7, pass acc: 0.773707, current acc: 0.773868\n",
      "time taken: 374.6353108882904\n",
      "epoch: 7, training loss: 0.464347, training acc: 0.785775, valid loss: 0.481890, valid acc: 0.773868\n",
      "\n"
     ]
    },
    {
     "name": "stderr",
     "output_type": "stream",
     "text": [
      "train minibatch loop: 100%|██████████| 8935/8935 [06:08<00:00, 24.26it/s, accuracy=0.792, cost=0.431]\n",
      "test minibatch loop: 100%|██████████| 2234/2234 [00:06<00:00, 352.21it/s, accuracy=0.738, cost=0.523]\n",
      "train minibatch loop:   0%|          | 3/8935 [00:00<06:08, 24.24it/s, accuracy=0.817, cost=0.381]"
     ]
    },
    {
     "name": "stdout",
     "output_type": "stream",
     "text": [
      "epoch: 8, pass acc: 0.773868, current acc: 0.774062\n",
      "time taken: 374.69484996795654\n",
      "epoch: 8, training loss: 0.462174, training acc: 0.787183, valid loss: 0.481829, valid acc: 0.774062\n",
      "\n"
     ]
    },
    {
     "name": "stderr",
     "output_type": "stream",
     "text": [
      "train minibatch loop: 100%|██████████| 8935/8935 [06:08<00:00, 24.26it/s, accuracy=0.812, cost=0.429]\n",
      "test minibatch loop: 100%|██████████| 2234/2234 [00:06<00:00, 358.06it/s, accuracy=0.714, cost=0.527]\n",
      "train minibatch loop:   0%|          | 3/8935 [00:00<06:08, 24.26it/s, accuracy=0.817, cost=0.378]"
     ]
    },
    {
     "name": "stdout",
     "output_type": "stream",
     "text": [
      "time taken: 374.5051779747009\n",
      "epoch: 9, training loss: 0.460240, training acc: 0.788499, valid loss: 0.481923, valid acc: 0.773894\n",
      "\n"
     ]
    },
    {
     "name": "stderr",
     "output_type": "stream",
     "text": [
      "train minibatch loop: 100%|██████████| 8935/8935 [06:08<00:00, 24.26it/s, accuracy=0.812, cost=0.428]\n",
      "test minibatch loop: 100%|██████████| 2234/2234 [00:06<00:00, 357.88it/s, accuracy=0.69, cost=0.531] \n",
      "train minibatch loop:   0%|          | 3/8935 [00:00<06:07, 24.29it/s, accuracy=0.817, cost=0.374]"
     ]
    },
    {
     "name": "stdout",
     "output_type": "stream",
     "text": [
      "time taken: 374.56684923171997\n",
      "epoch: 10, training loss: 0.458494, training acc: 0.789598, valid loss: 0.482133, valid acc: 0.773996\n",
      "\n"
     ]
    },
    {
     "name": "stderr",
     "output_type": "stream",
     "text": [
      "train minibatch loop: 100%|██████████| 8935/8935 [06:08<00:00, 24.26it/s, accuracy=0.812, cost=0.426]\n",
      "test minibatch loop: 100%|██████████| 2234/2234 [00:06<00:00, 358.37it/s, accuracy=0.69, cost=0.535] "
     ]
    },
    {
     "name": "stdout",
     "output_type": "stream",
     "text": [
      "time taken: 374.5287504196167\n",
      "epoch: 11, training loss: 0.456897, training acc: 0.790584, valid loss: 0.482434, valid acc: 0.773913\n",
      "\n",
      "break epoch:12\n",
      "\n"
     ]
    },
    {
     "name": "stderr",
     "output_type": "stream",
     "text": [
      "\n"
     ]
    }
   ],
   "source": [
    "from tqdm import tqdm\n",
    "import time\n",
    "\n",
    "batch_size = 60\n",
    "EARLY_STOPPING, CURRENT_CHECKPOINT, CURRENT_ACC, EPOCH = 3, 0, 0, 0\n",
    "\n",
    "while True:\n",
    "    lasttime = time.time()\n",
    "    if CURRENT_CHECKPOINT == EARLY_STOPPING:\n",
    "        print('break epoch:%d\\n' % (EPOCH))\n",
    "        break\n",
    "\n",
    "    train_acc, train_loss, test_acc, test_loss = 0, 0, 0, 0\n",
    "    pbar = tqdm(\n",
    "        range(0, train_X.shape[0], batch_size), desc = 'train minibatch loop'\n",
    "    )\n",
    "    for i in pbar:\n",
    "        batch_x = convert_sparse_matrix_to_sparse_tensor(train_X[i : min(i + batch_size, train_X.shape[0])])\n",
    "        batch_y = train_Y[i : min(i + batch_size, train_X.shape[0])]\n",
    "        acc, cost, _ = sess.run(\n",
    "            [model.accuracy, model.cost, model.optimizer],\n",
    "            feed_dict = {\n",
    "                model.Y: batch_y,\n",
    "                model.X: batch_x[0],\n",
    "                model.W: batch_x[1],\n",
    "            },\n",
    "        )\n",
    "        assert not np.isnan(cost)\n",
    "        train_loss += cost\n",
    "        train_acc += acc\n",
    "        pbar.set_postfix(cost = cost, accuracy = acc)\n",
    "\n",
    "    pbar = tqdm(range(0, test_X.shape[0], batch_size), desc = 'test minibatch loop')\n",
    "    for i in pbar:\n",
    "        batch_x = convert_sparse_matrix_to_sparse_tensor(test_X[i : min(i + batch_size, test_X.shape[0])])\n",
    "        batch_y = test_Y[i : min(i + batch_size, test_X.shape[0])]\n",
    "        acc, cost = sess.run(\n",
    "            [model.accuracy, model.cost],\n",
    "            feed_dict = {\n",
    "                model.Y: batch_y,\n",
    "                model.X: batch_x[0],\n",
    "                model.W: batch_x[1],\n",
    "            },\n",
    "        )\n",
    "        test_loss += cost\n",
    "        test_acc += acc\n",
    "        pbar.set_postfix(cost = cost, accuracy = acc)\n",
    "\n",
    "    train_loss /= train_X.shape[0] / batch_size\n",
    "    train_acc /= train_X.shape[0] / batch_size\n",
    "    test_loss /= test_X.shape[0] / batch_size\n",
    "    test_acc /= test_X.shape[0] / batch_size\n",
    "\n",
    "    if test_acc > CURRENT_ACC:\n",
    "        print(\n",
    "            'epoch: %d, pass acc: %f, current acc: %f'\n",
    "            % (EPOCH, CURRENT_ACC, test_acc)\n",
    "        )\n",
    "        CURRENT_ACC = test_acc\n",
    "        CURRENT_CHECKPOINT = 0\n",
    "    else:\n",
    "        CURRENT_CHECKPOINT += 1\n",
    "\n",
    "    print('time taken:', time.time() - lasttime)\n",
    "    print(\n",
    "        'epoch: %d, training loss: %f, training acc: %f, valid loss: %f, valid acc: %f\\n'\n",
    "        % (EPOCH, train_loss, train_acc, test_loss, test_acc)\n",
    "    )\n",
    "    EPOCH += 1"
   ]
  },
  {
   "cell_type": "code",
   "execution_count": 13,
   "metadata": {},
   "outputs": [
    {
     "name": "stderr",
     "output_type": "stream",
     "text": [
      "validation minibatch loop: 100%|██████████| 2234/2234 [00:03<00:00, 607.53it/s]\n"
     ]
    }
   ],
   "source": [
    "real_Y, predict_Y = [], []\n",
    "\n",
    "pbar = tqdm(\n",
    "    range(0, test_X.shape[0], batch_size), desc = 'validation minibatch loop'\n",
    ")\n",
    "for i in pbar:\n",
    "    batch_x = convert_sparse_matrix_to_sparse_tensor(test_X[i : min(i + batch_size, test_X.shape[0])])\n",
    "    batch_y = test_Y[i : min(i + batch_size, test_X.shape[0])]\n",
    "    predict_Y += np.argmax(\n",
    "        sess.run(\n",
    "            model.logits, feed_dict = {model.X: batch_x[0], model.W: batch_x[1], model.Y: batch_y}\n",
    "        ),\n",
    "        1,\n",
    "    ).tolist()\n",
    "    real_Y += batch_y"
   ]
  },
  {
   "cell_type": "code",
   "execution_count": 14,
   "metadata": {},
   "outputs": [
    {
     "name": "stdout",
     "output_type": "stream",
     "text": [
      "             precision    recall  f1-score   support\n",
      "\n",
      "   negative       0.78      0.80      0.79     70256\n",
      "   positive       0.77      0.75      0.76     63766\n",
      "\n",
      "avg / total       0.77      0.77      0.77    134022\n",
      "\n"
     ]
    }
   ],
   "source": [
    "print(\n",
    "    metrics.classification_report(\n",
    "        real_Y, predict_Y, target_names = ['negative','positive']\n",
    "    )\n",
    ")"
   ]
  },
  {
   "cell_type": "code",
   "execution_count": 16,
   "metadata": {},
   "outputs": [
    {
     "data": {
      "text/plain": [
       "'fast-text-char/model.ckpt'"
      ]
     },
     "execution_count": 16,
     "metadata": {},
     "output_type": "execute_result"
    }
   ],
   "source": [
    "saver.save(sess, 'fast-text-char/model.ckpt')"
   ]
  },
  {
   "cell_type": "code",
   "execution_count": 17,
   "metadata": {},
   "outputs": [],
   "source": [
    "import pickle\n",
    "with open('vectorizer-sparse-sentiment.pkl','wb') as fopen:\n",
    "    pickle.dump(bow_chars, fopen)"
   ]
  },
  {
   "cell_type": "code",
   "execution_count": null,
   "metadata": {},
   "outputs": [],
   "source": []
  }
 ],
 "metadata": {
  "kernelspec": {
   "display_name": "Python 3",
   "language": "python",
   "name": "python3"
  },
  "language_info": {
   "codemirror_mode": {
    "name": "ipython",
    "version": 3
   },
   "file_extension": ".py",
   "mimetype": "text/x-python",
   "name": "python",
   "nbconvert_exporter": "python",
   "pygments_lexer": "ipython3",
   "version": "3.6.8"
  }
 },
 "nbformat": 4,
 "nbformat_minor": 2
}
