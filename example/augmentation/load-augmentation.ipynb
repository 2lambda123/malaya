{
 "cells": [
  {
   "cell_type": "markdown",
   "metadata": {},
   "source": [
    "# Text Augmentation"
   ]
  },
  {
   "cell_type": "markdown",
   "metadata": {},
   "source": [
    "<div class=\"alert alert-info\">\n",
    "\n",
    "This tutorial is available as an IPython notebook at [Malaya/example/augmentation](https://github.com/huseinzol05/Malaya/tree/master/example/augmentation).\n",
    "    \n",
    "</div>"
   ]
  },
  {
   "cell_type": "code",
   "execution_count": 1,
   "metadata": {},
   "outputs": [],
   "source": [
    "import os\n",
    "\n",
    "os.environ['CUDA_VISIBLE_DEVICES'] = ''\n",
    "os.environ['TF_FORCE_GPU_ALLOW_GROWTH'] = 'true'"
   ]
  },
  {
   "cell_type": "code",
   "execution_count": 2,
   "metadata": {},
   "outputs": [
    {
     "name": "stderr",
     "output_type": "stream",
     "text": [
      "/home/husein/dev/malaya/malaya/tokenizer.py:202: FutureWarning: Possible nested set at position 3361\n",
      "  self.tok = re.compile(r'({})'.format('|'.join(pipeline)))\n",
      "/home/husein/dev/malaya/malaya/tokenizer.py:202: FutureWarning: Possible nested set at position 3879\n",
      "  self.tok = re.compile(r'({})'.format('|'.join(pipeline)))\n"
     ]
    },
    {
     "name": "stdout",
     "output_type": "stream",
     "text": [
      "CPU times: user 3.09 s, sys: 3.49 s, total: 6.58 s\n",
      "Wall time: 2.05 s\n"
     ]
    }
   ],
   "source": [
    "%%time\n",
    "\n",
    "import malaya"
   ]
  },
  {
   "cell_type": "markdown",
   "metadata": {},
   "source": [
    "### Why augmentation\n",
    "\n",
    "Let say you have a very limited labelled corpus, and you want to add more, but labelling is very costly.\n",
    "\n",
    "So, text augmentation! We provided few augmentation interfaces in Malaya."
   ]
  },
  {
   "cell_type": "markdown",
   "metadata": {},
   "source": [
    "### Load Synonym\n",
    "\n",
    "Use dictionary of synonym to replace words with it synonyms. Synonym data from [Malaya-Dataset/90k-synonym](https://github.com/huseinzol05/Malaya-Dataset#90k-synonym).\n",
    "\n",
    "```python\n",
    "def synonym(\n",
    "    string: str,\n",
    "    threshold: float = 0.5,\n",
    "    top_n = 5,\n",
    "    **kwargs\n",
    "):\n",
    "    \"\"\"\n",
    "    augmenting a string using synonym, https://github.com/huseinzol05/Malaya-Dataset#90k-synonym\n",
    "\n",
    "    Parameters\n",
    "    ----------\n",
    "    string: str\n",
    "        this string input assumed been properly tokenized and cleaned.\n",
    "    threshold: float, optional (default=0.5)\n",
    "        random selection for a word.\n",
    "    top_n: int, (default=5)\n",
    "        number of nearest neighbors returned. Length of returned result should as top_n.\n",
    "\n",
    "    Returns\n",
    "    -------\n",
    "    result: List[str]\n",
    "    \"\"\"\n",
    "```"
   ]
  },
  {
   "cell_type": "code",
   "execution_count": 3,
   "metadata": {},
   "outputs": [],
   "source": [
    "string = 'saya suka makan ayam dan ikan'\n",
    "text = 'Perdana Menteri berkata, beliau perlu memperoleh maklumat terperinci berhubung isu berkenaan sebelum kerajaan dapat mengambil sebarang tindakan lanjut. Bagaimanapun, beliau yakin masalah itu dapat diselesaikan dan pentadbiran kerajaan boleh berfungsi dengan baik.'"
   ]
  },
  {
   "cell_type": "code",
   "execution_count": 4,
   "metadata": {},
   "outputs": [],
   "source": [
    "tokenizer = malaya.preprocessing.Tokenizer()"
   ]
  },
  {
   "cell_type": "code",
   "execution_count": 5,
   "metadata": {},
   "outputs": [
    {
     "data": {
      "text/plain": [
       "['saya suka mensyaratkan burung burung dan ikan',\n",
       " 'saya menyukai mensyaratkan ayam dan ikan',\n",
       " 'saya menghendaki memerlukan ayam dan ikan',\n",
       " 'saya menghendaki memerlukan ayam dan ikan',\n",
       " 'saya menghendaki perlu ayam jantan dan ikan']"
      ]
     },
     "execution_count": 5,
     "metadata": {},
     "output_type": "execute_result"
    }
   ],
   "source": [
    "malaya.augmentation.synonym(' '.join(tokenizer.tokenize(string)))"
   ]
  },
  {
   "cell_type": "code",
   "execution_count": 6,
   "metadata": {},
   "outputs": [
    {
     "data": {
      "text/plain": [
       "['Utama Menteri menunjukkan , beliau perlu memuat Maklumat terperinci berhubung isu berkenaan sebelum pentadbiran menggunakannya menaiki sebarang tindakan lanjut . Bagaimanapun , beliau keruan kesukaran itu dapat diselesaikan dan kerajaan kerajaan berupaya bertindak dengan cikgu .',\n",
       " 'Utama Menteri menunjukkan , beliau perlu memuat Maklumat terperinci mencakup hal berkenaan sebelum pengurusan mempergunakan berjalan sebarang prosiding bekas . Bagaimanapun , beliau yakin kesukaran itu berupaya diselesaikan dan alam kerajaan dapat bergeser dengan guru .',\n",
       " 'Utama Menteri menunjukkan , beliau berkehendakkan memuat Maklumat terperinci menyusahkan perhatian berkenaan sebelum penyelenggaraan menggunakannya berjalan sebarang tindakan bekas . Bagaimanapun , beliau percaya kesukaran itu berupaya diselesaikan dan kewujudan kerajaan dihukum beralih dengan guru .',\n",
       " 'Utama Menteri menunjukkan , beliau mendesak memuat Maklumat terperinci menyusahkan perhatian berkenaan sebelum penjagaan menggunakannya berulang alik sebarang tindak kesannya . masih , beliau percaya kesukaran itu berupaya diselesaikan dan eksistensi pemerintah dihukum beralih dengan guru .',\n",
       " 'Berkuasa Menteri menampilkan , beliau mendesak memuat Maklumat terperinci merumitkan layanan berkenaan sebelum penyimpanan menggunakannya melompat sebarang bersikap kesannya . bagaimanapun , beliau menelan kesesakan itu sanggup diselesaikan dan kewujudan komander dihukum mengubah dengan cikgu .']"
      ]
     },
     "execution_count": 6,
     "metadata": {},
     "output_type": "execute_result"
    }
   ],
   "source": [
    "malaya.augmentation.synonym(' '.join(tokenizer.tokenize(text)))"
   ]
  },
  {
   "cell_type": "markdown",
   "metadata": {},
   "source": [
    "### Load Wordvector\n",
    "\n",
    "dictionary of synonym is quite hard to populate, required some domain experts to help us. So we can use wordvector to find nearest words.\n",
    "\n",
    "```python\n",
    "def wordvector(\n",
    "    string: str,\n",
    "    wordvector,\n",
    "    threshold: float = 0.5,\n",
    "    top_n: int = 5,\n",
    "    soft: bool = False,\n",
    "):\n",
    "    \"\"\"\n",
    "    augmenting a string using wordvector.\n",
    "\n",
    "    Parameters\n",
    "    ----------\n",
    "    string: str\n",
    "    wordvector: object\n",
    "        wordvector interface object.\n",
    "    threshold: float, optional (default=0.5)\n",
    "        random selection for a word.\n",
    "    soft: bool, optional (default=False)\n",
    "        if True, a word not in the dictionary will be replaced with nearest jarowrinkler ratio.\n",
    "        if False, it will throw an exception if a word not in the dictionary.\n",
    "    top_n: int, (default=5)\n",
    "        number of nearest neighbors returned. Length of returned result should as top_n.\n",
    "\n",
    "    Returns\n",
    "    -------\n",
    "    result: List[str]\n",
    "    \"\"\"\n",
    "```"
   ]
  },
  {
   "cell_type": "code",
   "execution_count": 7,
   "metadata": {},
   "outputs": [
    {
     "name": "stderr",
     "output_type": "stream",
     "text": [
      "Load pretrained wordvector into `malaya.wordvector.WordVector` class will disable eager execution.\n",
      "2022-09-15 16:57:05.776615: I tensorflow/core/platform/cpu_feature_guard.cc:142] This TensorFlow binary is optimized with oneAPI Deep Neural Network Library (oneDNN) to use the following CPU instructions in performance-critical operations:  AVX2 FMA\n",
      "To enable them in other operations, rebuild TensorFlow with the appropriate compiler flags.\n",
      "2022-09-15 16:57:05.780391: E tensorflow/stream_executor/cuda/cuda_driver.cc:271] failed call to cuInit: CUDA_ERROR_NO_DEVICE: no CUDA-capable device is detected\n",
      "2022-09-15 16:57:05.780415: I tensorflow/stream_executor/cuda/cuda_diagnostics.cc:169] retrieving CUDA diagnostic information for host: husein-MS-7D31\n",
      "2022-09-15 16:57:05.780418: I tensorflow/stream_executor/cuda/cuda_diagnostics.cc:176] hostname: husein-MS-7D31\n",
      "2022-09-15 16:57:05.780486: I tensorflow/stream_executor/cuda/cuda_diagnostics.cc:200] libcuda reported version is: Not found: was unable to find libcuda.so DSO loaded into this program\n",
      "2022-09-15 16:57:05.780509: I tensorflow/stream_executor/cuda/cuda_diagnostics.cc:204] kernel reported version is: 470.141.3\n"
     ]
    }
   ],
   "source": [
    "vocab_wiki, embedded_wiki = malaya.wordvector.load(model = 'wikipedia')\n",
    "word_vector_wiki = malaya.wordvector.WordVector(embedded_wiki, vocab_wiki)"
   ]
  },
  {
   "cell_type": "code",
   "execution_count": 8,
   "metadata": {},
   "outputs": [
    {
     "data": {
      "text/plain": [
       "['saya suka makan ayam dan ikan',\n",
       " 'kamu gemar minum ayam dan ikan',\n",
       " 'anda pandai tidur ayam dan ikan',\n",
       " 'kami senang mandi ayam dan ikan',\n",
       " 'aku ingin berehat ayam dan ikan']"
      ]
     },
     "execution_count": 8,
     "metadata": {},
     "output_type": "execute_result"
    }
   ],
   "source": [
    "malaya.augmentation.wordvector(\n",
    "    ' '.join(tokenizer.tokenize(string)), word_vector_wiki, soft = True\n",
    ")"
   ]
  },
  {
   "cell_type": "code",
   "execution_count": 9,
   "metadata": {},
   "outputs": [
    {
     "data": {
      "text/plain": [
       "['Perdana Menteri berkata , beliau perlu memperoleh maklumat terperinci berhubung isu berkenaan sebelum kerajaan dapat mengambil sebarang tindakan lanjut . Bagaimanapun , beliau yakin masalah itu dapat diselesaikan dan pentadbiran kerajaan boleh berfungsi dengan baik .',\n",
       " 'Perdana Menteri berkata , beliau perlu memperoleh data mendalam berhubung isu berkenaan sebelum kerajaan boleh mendapat sebarang dakwaan terperinci . Bagaimanapun , dia yakin masalah tersebut dapat diselesaikan dan pemerintahan pemerintah boleh dikelaskan dengan baik .',\n",
       " 'Perdana Menteri berkata , beliau perlu memperoleh bacaan menyeluruh berhubung isu berkenaan sebelum kerajaan harus menghabiskan sebarang kesalahan lanjutan . Bagaimanapun , baginda yakin masalah ini dapat diselesaikan dan perancangan perlembagaan boleh bertindak dengan baik .',\n",
       " 'Perdana Menteri berkata , beliau perlu memperoleh penjelasan efektif berhubung isu berkenaan sebelum kerajaan perlu mengubah sebarang perbuatan ringkas . Bagaimanapun , mereka yakin masalah itulah dapat diselesaikan dan perundangan kesultanan boleh dirujuk dengan baik .',\n",
       " 'Perdana Menteri berkata , beliau perlu memperoleh informasi konsisten berhubung isu berkenaan sebelum kerajaan mampu memakan sebarang gerakan positif . Bagaimanapun , saya yakin masalah inilah dapat diselesaikan dan kepimpinan pemerintahan boleh dikira dengan baik .']"
      ]
     },
     "execution_count": 9,
     "metadata": {},
     "output_type": "execute_result"
    }
   ],
   "source": [
    "malaya.augmentation.wordvector(\n",
    "    ' '.join(tokenizer.tokenize(text)), word_vector_wiki, soft = True\n",
    ")"
   ]
  },
  {
   "cell_type": "markdown",
   "metadata": {},
   "source": [
    "### Load Transformer\n",
    "\n",
    "Problem with wordvector, it just replaced a word for near synonym without understood the whole sentence context, so, Transformer comes to the rescue!\n",
    "\n",
    "```python\n",
    "def transformer(\n",
    "    string: str,\n",
    "    model,\n",
    "    threshold: float = 0.5,\n",
    "    top_p: float = 0.9,\n",
    "    top_k: int = 100,\n",
    "    temperature: float = 1.0,\n",
    "    top_n: int = 5,\n",
    "):\n",
    "\n",
    "    \"\"\"\n",
    "    augmenting a string using transformer + nucleus sampling / top-k sampling.\n",
    "\n",
    "    Parameters\n",
    "    ----------\n",
    "    string: str\n",
    "    model: object\n",
    "        transformer interface object. Right now only supported BERT, ALBERT and ELECTRA.\n",
    "    threshold: float, optional (default=0.5)\n",
    "        random selection for a word.\n",
    "    top_p: float, optional (default=0.8)\n",
    "        cumulative sum of probabilities to sample a word. \n",
    "        If top_n bigger than 0, the model will use nucleus sampling, else top-k sampling.\n",
    "    top_k: int, optional (default=100)\n",
    "        k for top-k sampling.\n",
    "    temperature: float, optional (default=0.8)\n",
    "        logits * temperature.\n",
    "    top_n: int, (default=5)\n",
    "        number of nearest neighbors returned. Length of returned result should as top_n.\n",
    "\n",
    "    Returns\n",
    "    -------\n",
    "    result: List[str]\n",
    "    \"\"\"\n",
    "```"
   ]
  },
  {
   "cell_type": "code",
   "execution_count": 10,
   "metadata": {},
   "outputs": [
    {
     "name": "stdout",
     "output_type": "stream",
     "text": [
      "WARNING:tensorflow:From /home/husein/.local/lib/python3.8/site-packages/tensorflow/python/util/dispatch.py:206: multinomial (from tensorflow.python.ops.random_ops) is deprecated and will be removed in a future version.\n",
      "Instructions for updating:\n",
      "Use `tf.random.categorical` instead.\n",
      "INFO:tensorflow:Restoring parameters from /home/husein/Malaya/electra-model/base/electra-base/model.ckpt\n"
     ]
    }
   ],
   "source": [
    "electra = malaya.transformer.load(model = 'electra')"
   ]
  },
  {
   "cell_type": "code",
   "execution_count": 12,
   "metadata": {},
   "outputs": [
    {
     "data": {
      "text/plain": [
       "['saya nak makan nasi dan ikan',\n",
       " 'saya terpaksa makan ikan / ikan',\n",
       " 'saya kurang makan babi sama ikan',\n",
       " 'saya lg makan opor dan ikan',\n",
       " 'saya tak makan ikan apa ikan']"
      ]
     },
     "execution_count": 12,
     "metadata": {},
     "output_type": "execute_result"
    }
   ],
   "source": [
    "malaya.augmentation.transformer(' '.join(tokenizer.tokenize(string)), electra)"
   ]
  },
  {
   "cell_type": "code",
   "execution_count": 11,
   "metadata": {},
   "outputs": [
    {
     "name": "stderr",
     "output_type": "stream",
     "text": [
      "2022-09-15 16:57:09.906859: W tensorflow/core/grappler/costs/op_level_cost_estimator.cc:689] Error in PredictCost() for the op: op: \"Softmax\" attr { key: \"T\" value { type: DT_FLOAT } } inputs { dtype: DT_FLOAT shape { unknown_rank: true } } device { type: \"CPU\" vendor: \"GenuineIntel\" model: \"103\" frequency: 2112 num_cores: 20 environment { key: \"cpu_instruction_set\" value: \"AVX SSE, SSE2, SSE3, SSSE3, SSE4.1, SSE4.2\" } environment { key: \"eigen\" value: \"3.3.90\" } l1_cache_size: 49152 l2_cache_size: 1310720 l3_cache_size: 26214400 memory_size: 268435456 } outputs { dtype: DT_FLOAT shape { unknown_rank: true } }\n"
     ]
    },
    {
     "data": {
      "text/plain": [
       "['Perdana Menteri berkata , kerajaan akan memperoleh maklumat lanjut berhubung isu berkenaan sebelum rakyat dapat mengambil sebarang tindakan lanjut . Bagaimanapun , beliau berharap masalah itu dapat diselesaikan dan mendedahkan kerajaan boleh diselesaikan dengan baik .',\n",
       " 'Perdana Menteri berkata , pihaknya dapat memperoleh maklumat baharu berhubung isu ini sebelum beliau dapat mengambil sebarang tindakan lanjut . Bagaimanapun , beliau berharap masalah itu dapat diselesaikan dan kaedah kerajaan boleh diselesaikan dengan baik .',\n",
       " 'Perdana Menteri berkata , beliau telah memperoleh maklumat terperinci berhubung isu itu sebelum kerajaan dapat melihat sebarang tindakan lanjut . Bagaimanapun , beliau yakin masalah itu dapat diselesaikan apabila memastikan kerajaan boleh diselesaikan dengan baik .',\n",
       " 'Perdana Menteri berkata , kerajaan perlu memperoleh maklumat lanjut berhubung isu berkenaan sebelum beliau dapat melihat sebarang tindakan lanjut . Bagaimanapun , beliau berharap masalah itu dapat diselesaikan dan memastikan kerajaan boleh diselesaikan dengan lancar .',\n",
       " 'Perdana Menteri berkata , kerajaan boleh memperoleh maklumat tepat berhubung isu kesihatan sebelum mereka dapat mengeluarkan sebarang tindakan lanjut . Bagaimanapun , beliau berharap masalah itu dapat diselesaikan selagi harap kerajaan boleh diselesaikan dengan baik .']"
      ]
     },
     "execution_count": 11,
     "metadata": {},
     "output_type": "execute_result"
    }
   ],
   "source": [
    "malaya.augmentation.transformer(' '.join(tokenizer.tokenize(text)), electra)"
   ]
  }
 ],
 "metadata": {
  "kernelspec": {
   "display_name": "Python 3 (ipykernel)",
   "language": "python",
   "name": "python3"
  },
  "language_info": {
   "codemirror_mode": {
    "name": "ipython",
    "version": 3
   },
   "file_extension": ".py",
   "mimetype": "text/x-python",
   "name": "python",
   "nbconvert_exporter": "python",
   "pygments_lexer": "ipython3",
   "version": "3.8.10"
  }
 },
 "nbformat": 4,
 "nbformat_minor": 2
}
