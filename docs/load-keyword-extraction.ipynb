{
 "cells": [
  {
   "cell_type": "markdown",
   "metadata": {},
   "source": [
    "# Keyword Extraction"
   ]
  },
  {
   "cell_type": "markdown",
   "metadata": {},
   "source": [
    "<div class=\"alert alert-info\">\n",
    "\n",
    "This tutorial is available as an IPython notebook at [Malaya/example/keyword-extraction](https://github.com/huseinzol05/Malaya/tree/master/example/keyword-extraction).\n",
    "    \n",
    "</div>"
   ]
  },
  {
   "cell_type": "code",
   "execution_count": 1,
   "metadata": {},
   "outputs": [],
   "source": [
    "import malaya"
   ]
  },
  {
   "cell_type": "code",
   "execution_count": 8,
   "metadata": {},
   "outputs": [],
   "source": [
    "# https://www.bharian.com.my/berita/nasional/2020/06/698386/isu-bersatu-tun-m-6-yang-lain-saman-muhyiddin\n",
    "\n",
    "string = \"\"\"\n",
    "Dalam saman itu, plaintif memohon perisytiharan, antaranya mereka adalah ahli BERSATU yang sah, masih lagi memegang jawatan dalam parti (bagi pemegang jawatan) dan layak untuk bertanding pada pemilihan parti.\n",
    "\n",
    "Mereka memohon perisytiharan bahawa semua surat pemberhentian yang ditandatangani Muhammad Suhaimi bertarikh 28 Mei lalu dan pengesahan melalui mesyuarat Majlis Pimpinan Tertinggi (MPT) parti bertarikh 4 Jun lalu adalah tidak sah dan terbatal.\n",
    "\n",
    "Plaintif juga memohon perisytiharan bahawa keahlian Muhyiddin, Hamzah dan Muhammad Suhaimi di dalam BERSATU adalah terlucut, berkuat kuasa pada 28 Februari 2020 dan/atau 29 Februari 2020, menurut Fasal 10.2.3 perlembagaan parti.\n",
    "\n",
    "Yang turut dipohon, perisytiharan bahawa Seksyen 18C Akta Pertubuhan 1966 adalah tidak terpakai untuk menghalang pelupusan pertikaian berkenaan oleh mahkamah.\n",
    "\n",
    "Perisytiharan lain ialah Fasal 10.2.6 Perlembagaan BERSATU tidak terpakai di atas hal melucutkan/ memberhentikan keahlian semua plaintif.\n",
    "\"\"\""
   ]
  },
  {
   "cell_type": "code",
   "execution_count": 9,
   "metadata": {},
   "outputs": [],
   "source": [
    "import re\n",
    "\n",
    "# minimum cleaning, just simply to remove newlines.\n",
    "def cleaning(string):\n",
    "    string = string.replace('\\n', ' ')\n",
    "    string = re.sub('[^A-Za-z\\-() ]+', ' ', string).strip()\n",
    "    string = re.sub(r'[ ]+', ' ', string).strip()\n",
    "    return string\n",
    "\n",
    "string = cleaning(string)"
   ]
  },
  {
   "cell_type": "markdown",
   "metadata": {},
   "source": [
    "### Use RAKE algorithm\n",
    "\n",
    "Original implementation from [https://github.com/aneesha/RAKE](https://github.com/aneesha/RAKE). Malaya added attention mechanism into RAKE algorithm.\n",
    "\n",
    "```python\n",
    "def rake(\n",
    "    string: str,\n",
    "    model = None,\n",
    "    top_k: int = 5,\n",
    "    auto_ngram: bool = True,\n",
    "    ngram_method: str = 'bow',\n",
    "    ngram: Tuple[int, int] = (1, 1),\n",
    "    atleast: int = 1,\n",
    "    stop_words: List[str] = STOPWORDS,\n",
    "    **kwargs\n",
    "):\n",
    "    \"\"\"\n",
    "    Extract keywords using Rake algorithm.\n",
    "\n",
    "    Parameters\n",
    "    ----------\n",
    "    string: str\n",
    "    model: Object, optional (default='None')\n",
    "        Transformer model or any model has `attention` method.\n",
    "    top_k: int, optional (default=5)\n",
    "        return top-k results.\n",
    "    auto_ngram: bool, optional (default=True)\n",
    "        If True, will generate keyword candidates using N suitable ngram. Else use `ngram_method`.\n",
    "    ngram_method: str, optional (default='bow')\n",
    "        Only usable if `auto_ngram` is False. supported ngram generator:\n",
    "\n",
    "        * ``'bow'`` - bag-of-word.\n",
    "        * ``'skipgram'`` - bag-of-word with skip technique.\n",
    "    ngram: tuple, optional (default=(1,1))\n",
    "        n-grams size.\n",
    "    atleast: int, optional (default=1)\n",
    "        at least count appeared in the string to accept as candidate.\n",
    "    stop_words: list, (default=malaya.text.function.STOPWORDS)\n",
    "        list of stop words to remove. \n",
    "\n",
    "    Returns\n",
    "    -------\n",
    "    result: Tuple[float, str]\n",
    "    \"\"\"\n",
    "```"
   ]
  },
  {
   "cell_type": "markdown",
   "metadata": {},
   "source": [
    "#### auto-ngram\n",
    "\n",
    "This will auto generated N-size ngram for keyword candidates."
   ]
  },
  {
   "cell_type": "code",
   "execution_count": 10,
   "metadata": {},
   "outputs": [
    {
     "data": {
      "text/plain": [
       "[(0.11666666666666665, 'ditandatangani Muhammad Suhaimi bertarikh Mei'),\n",
       " (0.08888888888888888, 'mesyuarat Majlis Pimpinan Tertinggi'),\n",
       " (0.08888888888888888, 'Seksyen C Akta Pertubuhan'),\n",
       " (0.05138888888888888, 'parti bertarikh Jun'),\n",
       " (0.04999999999999999, 'keahlian Muhyiddin Hamzah')]"
      ]
     },
     "execution_count": 10,
     "metadata": {},
     "output_type": "execute_result"
    }
   ],
   "source": [
    "malaya.keyword_extraction.rake(string)"
   ]
  },
  {
   "cell_type": "markdown",
   "metadata": {},
   "source": [
    "#### auto-gram with Attention\n",
    "\n",
    "This will use attention mechanism as the scores. I will use `small-electra` in this example."
   ]
  },
  {
   "cell_type": "code",
   "execution_count": 6,
   "metadata": {},
   "outputs": [
    {
     "name": "stdout",
     "output_type": "stream",
     "text": [
      "WARNING:tensorflow:From /Users/huseinzolkepli/Documents/Malaya/malaya/transformers/electra/__init__.py:56: The name tf.placeholder is deprecated. Please use tf.compat.v1.placeholder instead.\n",
      "\n",
      "WARNING:tensorflow:From /Users/huseinzolkepli/Documents/Malaya/malaya/transformers/electra/modeling.py:240: dense (from tensorflow.python.layers.core) is deprecated and will be removed in a future version.\n",
      "Instructions for updating:\n",
      "Use keras.layers.Dense instead.\n",
      "WARNING:tensorflow:From /usr/local/lib/python3.7/site-packages/tensorflow_core/python/layers/core.py:187: Layer.apply (from tensorflow.python.keras.engine.base_layer) is deprecated and will be removed in a future version.\n",
      "Instructions for updating:\n",
      "Please use `layer.__call__` method instead.\n",
      "WARNING:tensorflow:From /Users/huseinzolkepli/Documents/Malaya/malaya/transformers/electra/__init__.py:79: The name tf.variable_scope is deprecated. Please use tf.compat.v1.variable_scope instead.\n",
      "\n",
      "WARNING:tensorflow:From /Users/huseinzolkepli/Documents/Malaya/malaya/transformers/electra/__init__.py:93: The name tf.get_variable is deprecated. Please use tf.compat.v1.get_variable instead.\n",
      "\n",
      "WARNING:tensorflow:From /Users/huseinzolkepli/Documents/Malaya/malaya/transformers/sampling.py:26: where (from tensorflow.python.ops.array_ops) is deprecated and will be removed in a future version.\n",
      "Instructions for updating:\n",
      "Use tf.where in 2.0, which has the same broadcast rule as np.where\n",
      "WARNING:tensorflow:From /Users/huseinzolkepli/Documents/Malaya/malaya/transformers/electra/__init__.py:115: multinomial (from tensorflow.python.ops.random_ops) is deprecated and will be removed in a future version.\n",
      "Instructions for updating:\n",
      "Use `tf.random.categorical` instead.\n",
      "WARNING:tensorflow:From /Users/huseinzolkepli/Documents/Malaya/malaya/transformers/electra/__init__.py:118: The name tf.InteractiveSession is deprecated. Please use tf.compat.v1.InteractiveSession instead.\n",
      "\n",
      "WARNING:tensorflow:From /Users/huseinzolkepli/Documents/Malaya/malaya/transformers/electra/__init__.py:119: The name tf.global_variables_initializer is deprecated. Please use tf.compat.v1.global_variables_initializer instead.\n",
      "\n",
      "WARNING:tensorflow:From /Users/huseinzolkepli/Documents/Malaya/malaya/transformers/electra/__init__.py:121: The name tf.get_collection is deprecated. Please use tf.compat.v1.get_collection instead.\n",
      "\n",
      "WARNING:tensorflow:From /Users/huseinzolkepli/Documents/Malaya/malaya/transformers/electra/__init__.py:122: The name tf.GraphKeys is deprecated. Please use tf.compat.v1.GraphKeys instead.\n",
      "\n",
      "WARNING:tensorflow:From /Users/huseinzolkepli/Documents/Malaya/malaya/transformers/electra/__init__.py:128: The name tf.train.Saver is deprecated. Please use tf.compat.v1.train.Saver instead.\n",
      "\n",
      "WARNING:tensorflow:From /Users/huseinzolkepli/Documents/Malaya/malaya/transformers/electra/__init__.py:130: The name tf.get_default_graph is deprecated. Please use tf.compat.v1.get_default_graph instead.\n",
      "\n",
      "INFO:tensorflow:Restoring parameters from /Users/huseinzolkepli/Malaya/electra-model/small/electra-small/model.ckpt\n"
     ]
    }
   ],
   "source": [
    "electra = malaya.transformer.load(model = 'small-electra')"
   ]
  },
  {
   "cell_type": "code",
   "execution_count": 11,
   "metadata": {},
   "outputs": [
    {
     "data": {
      "text/plain": [
       "[(0.2113546236771915, 'ditandatangani Muhammad Suhaimi bertarikh Mei'),\n",
       " (0.1707678455680971, 'terlucut berkuat kuasa'),\n",
       " (0.16650756665229807, 'Muhammad Suhaimi'),\n",
       " (0.1620429894692799, 'mesyuarat Majlis Pimpinan Tertinggi'),\n",
       " (0.08333952583953884, 'Seksyen C Akta Pertubuhan')]"
      ]
     },
     "execution_count": 11,
     "metadata": {},
     "output_type": "execute_result"
    }
   ],
   "source": [
    "malaya.keyword_extraction.rake(string, model = electra)"
   ]
  },
  {
   "cell_type": "markdown",
   "metadata": {},
   "source": [
    "#### fixed-ngram"
   ]
  },
  {
   "cell_type": "code",
   "execution_count": 12,
   "metadata": {},
   "outputs": [
    {
     "data": {
      "text/plain": [
       "[(0.0010991603139160087, 'parti memohon perisytiharan'),\n",
       " (0.0010989640254270869, 'memohon perisytiharan Muhammad'),\n",
       " (0.0010985209375133323, 'perisytiharan Muhammad Suhaimi'),\n",
       " (0.0010972572356757605, 'memohon perisytiharan BERSATU'),\n",
       " (0.0010970435210070695, 'memohon perisytiharan sah')]"
      ]
     },
     "execution_count": 12,
     "metadata": {},
     "output_type": "execute_result"
    }
   ],
   "source": [
    "malaya.keyword_extraction.rake(string, auto_ngram = False, ngram = (1, 3), \n",
    "                               ngram_method = 'skipgram', skip = 3)"
   ]
  },
  {
   "cell_type": "markdown",
   "metadata": {},
   "source": [
    "#### fixed-ngram with Attention"
   ]
  },
  {
   "cell_type": "code",
   "execution_count": 13,
   "metadata": {},
   "outputs": [
    {
     "data": {
      "text/plain": [
       "[(0.007511555412415397, 'Suhaimi terlucut kuasa'),\n",
       " (0.00726812348703141, 'Suhaimi terlucut Februari'),\n",
       " (0.00725420955956774, 'Suhaimi terlucut berkuat'),\n",
       " (0.007235384019369932, 'Muhyiddin Suhaimi terlucut'),\n",
       " (0.00721164037502389, 'Hamzah Suhaimi terlucut')]"
      ]
     },
     "execution_count": 13,
     "metadata": {},
     "output_type": "execute_result"
    }
   ],
   "source": [
    "malaya.keyword_extraction.rake(string, model = electra, auto_ngram = False, ngram = (1, 3), \n",
    "                               ngram_method = 'skipgram', skip = 3)"
   ]
  },
  {
   "cell_type": "markdown",
   "metadata": {},
   "source": [
    "### Use Textrank algorithm\n",
    "\n",
    "Malaya simply use textrank algorithm from networkx library.\n",
    "\n",
    "```python\n",
    "def textrank(\n",
    "    string: str,\n",
    "    vectorizer,\n",
    "    top_k: int = 5,\n",
    "    auto_ngram: bool = True,\n",
    "    ngram_method: str = 'bow',\n",
    "    ngram: Tuple[int, int] = (1, 1),\n",
    "    atleast: int = 1,\n",
    "    stop_words: List[str] = STOPWORDS,\n",
    "    **kwargs\n",
    "):\n",
    "    \"\"\"\n",
    "    Extract keywords using Textrank algorithm.\n",
    "\n",
    "    Parameters\n",
    "    ----------\n",
    "    string: str\n",
    "    vectorizer: Object, optional (default='None')\n",
    "        model has `fit_transform` or `vectorize` method.\n",
    "    top_k: int, optional (default=5)\n",
    "        return top-k results.\n",
    "    auto_ngram: bool, optional (default=True)\n",
    "        If True, will generate keyword candidates using N suitable ngram. Else use `ngram_method`.\n",
    "    ngram_method: str, optional (default='bow')\n",
    "        Only usable if `auto_ngram` is False. supported ngram generator:\n",
    "\n",
    "        * ``'bow'`` - bag-of-word.\n",
    "        * ``'skipgram'`` - bag-of-word with skip technique.\n",
    "    ngram: tuple, optional (default=(1,1))\n",
    "        n-grams size.\n",
    "    atleast: int, optional (default=1)\n",
    "        at least count appeared in the string to accept as candidate.\n",
    "    stop_words: list, (default=malaya.text.function.STOPWORDS)\n",
    "        list of stop words to remove. \n",
    "\n",
    "    Returns\n",
    "    -------\n",
    "    result: Tuple[float, str]\n",
    "    \"\"\"\n",
    "```"
   ]
  },
  {
   "cell_type": "code",
   "execution_count": 14,
   "metadata": {},
   "outputs": [],
   "source": [
    "from sklearn.feature_extraction.text import TfidfVectorizer\n",
    "tfidf = TfidfVectorizer()"
   ]
  },
  {
   "cell_type": "markdown",
   "metadata": {},
   "source": [
    "#### auto-ngram with TFIDF\n",
    "\n",
    "This will auto generated N-size ngram for keyword candidates."
   ]
  },
  {
   "cell_type": "code",
   "execution_count": 15,
   "metadata": {},
   "outputs": [
    {
     "data": {
      "text/plain": [
       "[(0.00015733542115111895, 'plaintif memohon perisytiharan'),\n",
       " (0.00012558589872969095, 'Fasal perlembagaan parti'),\n",
       " (0.00011512878779574369, 'Fasal Perlembagaan BERSATU'),\n",
       " (0.00011505807280697136, 'parti'),\n",
       " (0.00010763518916902933, 'memohon perisytiharan')]"
      ]
     },
     "execution_count": 15,
     "metadata": {},
     "output_type": "execute_result"
    }
   ],
   "source": [
    "malaya.keyword_extraction.textrank(string, vectorizer = tfidf)"
   ]
  },
  {
   "cell_type": "markdown",
   "metadata": {},
   "source": [
    "#### auto-ngram with Attention\n",
    "\n",
    "This will auto generated N-size ngram for keyword candidates."
   ]
  },
  {
   "cell_type": "code",
   "execution_count": 16,
   "metadata": {
    "scrolled": true
   },
   "outputs": [
    {
     "name": "stdout",
     "output_type": "stream",
     "text": [
      "INFO:tensorflow:Restoring parameters from /Users/huseinzolkepli/Malaya/electra-model/small/electra-small/model.ckpt\n",
      "WARNING:tensorflow:From /usr/local/lib/python3.7/site-packages/albert/tokenization.py:240: The name tf.logging.info is deprecated. Please use tf.compat.v1.logging.info instead.\n",
      "\n",
      "INFO:tensorflow:loading sentence piece model\n",
      "WARNING:tensorflow:From /usr/local/lib/python3.7/site-packages/albert/modeling.py:116: The name tf.gfile.GFile is deprecated. Please use tf.io.gfile.GFile instead.\n",
      "\n",
      "WARNING:tensorflow:From /usr/local/lib/python3.7/site-packages/albert/modeling.py:588: The name tf.assert_less_equal is deprecated. Please use tf.compat.v1.assert_less_equal instead.\n",
      "\n",
      "WARNING:tensorflow:From /usr/local/lib/python3.7/site-packages/albert/modeling.py:1025: The name tf.AUTO_REUSE is deprecated. Please use tf.compat.v1.AUTO_REUSE instead.\n",
      "\n",
      "INFO:tensorflow:Restoring parameters from /Users/huseinzolkepli/Malaya/albert-model/base/albert-base/model.ckpt\n"
     ]
    }
   ],
   "source": [
    "electra = malaya.transformer.load(model = 'small-electra')\n",
    "albert = malaya.transformer.load(model = 'albert')"
   ]
  },
  {
   "cell_type": "code",
   "execution_count": 17,
   "metadata": {},
   "outputs": [
    {
     "data": {
      "text/plain": [
       "[(6.3182663025223e-05, 'dipohon perisytiharan'),\n",
       " (6.31674674645778e-05, 'pemegang jawatan'),\n",
       " (6.316119389302752e-05, 'parti bertarikh Jun'),\n",
       " (6.316104723812124e-05, 'Februari'),\n",
       " (6.315819355276039e-05, 'plaintif')]"
      ]
     },
     "execution_count": 17,
     "metadata": {},
     "output_type": "execute_result"
    }
   ],
   "source": [
    "malaya.keyword_extraction.textrank(string, vectorizer = electra)"
   ]
  },
  {
   "cell_type": "code",
   "execution_count": 18,
   "metadata": {},
   "outputs": [
    {
     "data": {
      "text/plain": [
       "[(7.94645241452814e-05, 'Fasal Perlembagaan BERSATU'),\n",
       " (7.728400390215039e-05, 'mesyuarat Majlis Pimpinan Tertinggi'),\n",
       " (7.506390584039057e-05, 'Muhammad Suhaimi'),\n",
       " (7.503252483650059e-05, 'pengesahan'),\n",
       " (7.502407753712274e-05, 'terbatal Plaintif')]"
      ]
     },
     "execution_count": 18,
     "metadata": {},
     "output_type": "execute_result"
    }
   ],
   "source": [
    "malaya.keyword_extraction.textrank(string, vectorizer = albert)"
   ]
  },
  {
   "cell_type": "markdown",
   "metadata": {},
   "source": [
    "#### fixed-ngram with Attention"
   ]
  },
  {
   "cell_type": "code",
   "execution_count": 19,
   "metadata": {},
   "outputs": [
    {
     "data": {
      "text/plain": [
       "[(1.7071539462023998e-09, 'perisytiharan ahli sah'),\n",
       " (1.7071528386679705e-09, 'Fasal parti perisytiharan'),\n",
       " (1.7071498274826471e-09, 'Plaintif perisytiharan keahlian'),\n",
       " (1.7071355361007092e-09, 'Fasal dipohon perisytiharan'),\n",
       " (1.707130673312775e-09, 'plaintif perisytiharan')]"
      ]
     },
     "execution_count": 19,
     "metadata": {},
     "output_type": "execute_result"
    }
   ],
   "source": [
    "malaya.keyword_extraction.textrank(string, vectorizer = electra, auto_ngram = False,\n",
    "                                   ngram = (1, 3), ngram_method = 'skipgram', skip = 3)"
   ]
  },
  {
   "cell_type": "code",
   "execution_count": 20,
   "metadata": {},
   "outputs": [
    {
     "data": {
      "text/plain": [
       "[(2.1995491577326747e-09, 'Perisytiharan Fasal melucutkan'),\n",
       " (2.1990164283127147e-09, 'Pimpinan Tertinggi (MPT)'),\n",
       " (2.1981574699825158e-09, 'Majlis Pimpinan (MPT)'),\n",
       " (2.1980610020130363e-09, 'Perisytiharan Fasal BERSATU'),\n",
       " (2.1973393621296214e-09, 'Perisytiharan Perlembagaan')]"
      ]
     },
     "execution_count": 20,
     "metadata": {},
     "output_type": "execute_result"
    }
   ],
   "source": [
    "malaya.keyword_extraction.textrank(string, vectorizer = albert, auto_ngram = False,\n",
    "                                   ngram = (1, 3), ngram_method = 'skipgram', skip = 3)"
   ]
  },
  {
   "cell_type": "markdown",
   "metadata": {},
   "source": [
    "### Load Attention mechanism\n",
    "\n",
    "Use attention mechanism to get important keywords."
   ]
  },
  {
   "cell_type": "markdown",
   "metadata": {},
   "source": [
    "#### auto-ngram\n",
    "\n",
    "This will auto generated N-size ngram for keyword candidates."
   ]
  },
  {
   "cell_type": "code",
   "execution_count": 21,
   "metadata": {},
   "outputs": [
    {
     "data": {
      "text/plain": [
       "[(0.9452064568002397, 'menghalang pelupusan pertikaian'),\n",
       " (0.007486688404188947, 'Fasal Perlembagaan BERSATU'),\n",
       " (0.005130747276971111, 'ahli BERSATU'),\n",
       " (0.005036595631722718, 'melucutkan memberhentikan keahlian'),\n",
       " (0.004883706288857347, 'BERSATU')]"
      ]
     },
     "execution_count": 21,
     "metadata": {},
     "output_type": "execute_result"
    }
   ],
   "source": [
    "malaya.keyword_extraction.attention(string, model = electra)"
   ]
  },
  {
   "cell_type": "code",
   "execution_count": 23,
   "metadata": {},
   "outputs": [
    {
     "data": {
      "text/plain": [
       "[(0.16196368022187793, 'plaintif memohon perisytiharan'),\n",
       " (0.09294065744319371, 'memohon perisytiharan'),\n",
       " (0.06902302277868422, 'plaintif'),\n",
       " (0.05584840295920779, 'ditandatangani Muhammad Suhaimi bertarikh Mei'),\n",
       " (0.05206225590337424, 'dipohon perisytiharan')]"
      ]
     },
     "execution_count": 23,
     "metadata": {},
     "output_type": "execute_result"
    }
   ],
   "source": [
    "malaya.keyword_extraction.attention(string, model = albert)"
   ]
  },
  {
   "cell_type": "markdown",
   "metadata": {},
   "source": [
    "#### fixed-ngram"
   ]
  },
  {
   "cell_type": "code",
   "execution_count": 25,
   "metadata": {},
   "outputs": [
    {
     "data": {
      "text/plain": [
       "[(0.15667043125587973, 'pelupusan pertikaian mahkamah'),\n",
       " (0.15665311872357476, 'pertikaian mahkamah Perisytiharan'),\n",
       " (0.15657934237804905, 'pertikaian mahkamah'),\n",
       " (0.1563242367855659, 'menghalang pelupusan pertikaian'),\n",
       " (0.1562270516451705, 'pelupusan pertikaian')]"
      ]
     },
     "execution_count": 25,
     "metadata": {},
     "output_type": "execute_result"
    }
   ],
   "source": [
    "malaya.keyword_extraction.attention(string, model = electra, auto_ngram = False,\n",
    "                                   ngram = (1, 3), ngram_method = 'bow')"
   ]
  },
  {
   "cell_type": "code",
   "execution_count": 26,
   "metadata": {},
   "outputs": [
    {
     "data": {
      "text/plain": [
       "[(0.031264380566934015, 'saman plaintif memohon'),\n",
       " (0.02621530292963218, 'plaintif memohon perisytiharan'),\n",
       " (0.02573609954868083, 'Dalam saman plaintif'),\n",
       " (0.022935623722179672, 'plaintif memohon'),\n",
       " (0.019724791761830188, 'Mereka memohon perisytiharan')]"
      ]
     },
     "execution_count": 26,
     "metadata": {},
     "output_type": "execute_result"
    }
   ],
   "source": [
    "malaya.keyword_extraction.attention(string, model = albert, auto_ngram = False,\n",
    "                                   ngram = (1, 3), ngram_method = 'bow')"
   ]
  }
 ],
 "metadata": {
  "kernelspec": {
   "display_name": "Python 3",
   "language": "python",
   "name": "python3"
  },
  "language_info": {
   "codemirror_mode": {
    "name": "ipython",
    "version": 3
   },
   "file_extension": ".py",
   "mimetype": "text/x-python",
   "name": "python",
   "nbconvert_exporter": "python",
   "pygments_lexer": "ipython3",
   "version": "3.7.7"
  }
 },
 "nbformat": 4,
 "nbformat_minor": 2
}
