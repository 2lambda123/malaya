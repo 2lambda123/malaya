{
 "cells": [
  {
   "cell_type": "code",
   "execution_count": 1,
   "id": "4b481345",
   "metadata": {},
   "outputs": [],
   "source": [
    "import os\n",
    "os.environ['CUDA_VISIBLE_DEVICES'] = ''\n",
    "os.environ['TF_FORCE_GPU_ALLOW_GROWTH'] = 'true'"
   ]
  },
  {
   "cell_type": "code",
   "execution_count": 2,
   "id": "1fc59091",
   "metadata": {},
   "outputs": [],
   "source": [
    "from tokenizers import ByteLevelBPETokenizer\n",
    "from tokenizers.processors import BertProcessing\n",
    "from pathlib import Path"
   ]
  },
  {
   "cell_type": "code",
   "execution_count": 3,
   "id": "d92e953a",
   "metadata": {},
   "outputs": [],
   "source": [
    "# !wget https://f000.backblazeb2.com/file/malay-dataset/dumping/clean/filtered-dumping-academia.txt\n",
    "# !wget https://f000.backblazeb2.com/file/malay-dataset/dumping/clean/filtered-dumping-wiki.txt\n",
    "# !wget https://f000.backblazeb2.com/file/malay-dataset/dumping/clean/dumping-iium.txt\n",
    "# !wget https://f000.backblazeb2.com/file/malay-dataset/dumping/clean/dumping-instagram.txt\n",
    "# !wget https://f000.backblazeb2.com/file/malay-dataset/dumping/clean/dumping-news.txt\n",
    "# !wget https://f000.backblazeb2.com/file/malay-dataset/dumping/clean/dumping-parliament.txt\n",
    "# !wget https://f000.backblazeb2.com/file/malay-dataset/dumping/clean/dumping-pdf.txt\n",
    "# !wget https://f000.backblazeb2.com/file/malay-dataset/dumping/clean/dumping-twitter.txt\n",
    "# !wget https://f000.backblazeb2.com/file/malay-dataset/dumping/clean/dumping-watpadd.txt"
   ]
  },
  {
   "cell_type": "code",
   "execution_count": 3,
   "id": "e23efb39",
   "metadata": {},
   "outputs": [],
   "source": [
    "tokenizer = ByteLevelBPETokenizer(lowercase=False)"
   ]
  },
  {
   "cell_type": "code",
   "execution_count": 1,
   "id": "2b2b34fa",
   "metadata": {},
   "outputs": [
    {
     "data": {
      "text/plain": [
       "['dumping-iium.txt',\n",
       " 'dumping-instagram.txt',\n",
       " 'dumping-news.txt',\n",
       " 'dumping-parliament.txt',\n",
       " 'dumping-pdf.txt',\n",
       " 'dumping-twitter.txt',\n",
       " 'dumping-watpadd.txt',\n",
       " 'filtered-dumping-academia.txt',\n",
       " 'filtered-dumping-wiki.txt']"
      ]
     },
     "execution_count": 1,
     "metadata": {},
     "output_type": "execute_result"
    }
   ],
   "source": [
    "from glob import glob\n",
    "\n",
    "files = glob('filtered-dumping-*.txt')\n",
    "files.extend(glob('dumping-*.txt'))\n",
    "files = sorted(files)\n",
    "files"
   ]
  },
  {
   "cell_type": "code",
   "execution_count": 9,
   "id": "cc2b6202",
   "metadata": {
    "scrolled": true
   },
   "outputs": [
    {
     "name": "stdout",
     "output_type": "stream",
     "text": [
      "\n",
      "\n",
      "\n"
     ]
    }
   ],
   "source": [
    "tokenizer.train(files=files, vocab_size=32000, min_frequency=2,\n",
    "                show_progress=True,\n",
    "                special_tokens=[\n",
    "                                \"<s>\",\n",
    "                                \"<pad>\",\n",
    "                                \"</s>\",\n",
    "                                \"<unk>\",\n",
    "                                \"<mask>\",\n",
    "])"
   ]
  },
  {
   "cell_type": "code",
   "execution_count": 11,
   "id": "bb11c1a2",
   "metadata": {},
   "outputs": [
    {
     "name": "stdout",
     "output_type": "stream",
     "text": [
      "huggingface/tokenizers: The current process just got forked, after parallelism has already been used. Disabling parallelism to avoid deadlocks...\n",
      "To disable this warning, you can either:\n",
      "\t- Avoid using `tokenizers` before the fork if possible\n",
      "\t- Explicitly set the environment variable TOKENIZERS_PARALLELISM=(true | false)\n"
     ]
    }
   ],
   "source": [
    "!mkdir roberta_bpe"
   ]
  },
  {
   "cell_type": "code",
   "execution_count": 12,
   "id": "a14bf05e",
   "metadata": {},
   "outputs": [
    {
     "data": {
      "text/plain": [
       "['roberta_bpe/vocab.json', 'roberta_bpe/merges.txt']"
      ]
     },
     "execution_count": 12,
     "metadata": {},
     "output_type": "execute_result"
    }
   ],
   "source": [
    "tokenizer.save_model('roberta_bpe')"
   ]
  },
  {
   "cell_type": "code",
   "execution_count": 2,
   "id": "6cb35487",
   "metadata": {},
   "outputs": [],
   "source": [
    "import torch\n",
    "import numpy as np\n",
    "import transformers\n",
    "from transformers import RobertaTokenizer, AutoModelForMaskedLM, RobertaConfig, RobertaForMaskedLM"
   ]
  },
  {
   "cell_type": "code",
   "execution_count": 5,
   "id": "e27618b9",
   "metadata": {},
   "outputs": [
    {
     "name": "stderr",
     "output_type": "stream",
     "text": [
      "The tokenizer class you load from this checkpoint is not the same type as the class this function is called from. It may result in unexpected tokenization. \n",
      "The tokenizer class you load from this checkpoint is 'BertTokenizer'. \n",
      "The class this function is called from is 'RobertaTokenizer'.\n"
     ]
    }
   ],
   "source": [
    "tokenizer = RobertaTokenizer.from_pretrained('./roberta_bpe', do_lower_case = False)"
   ]
  },
  {
   "cell_type": "code",
   "execution_count": 6,
   "id": "2d6f538e",
   "metadata": {},
   "outputs": [
    {
     "data": {
      "text/plain": [
       "('malay-cased-roberta-base/tokenizer_config.json',\n",
       " 'malay-cased-roberta-base/special_tokens_map.json',\n",
       " 'malay-cased-roberta-base/vocab.json',\n",
       " 'malay-cased-roberta-base/merges.txt',\n",
       " 'malay-cased-roberta-base/added_tokens.json')"
      ]
     },
     "execution_count": 6,
     "metadata": {},
     "output_type": "execute_result"
    }
   ],
   "source": [
    "tokenizer.save_pretrained('malay-cased-roberta-base')"
   ]
  },
  {
   "cell_type": "code",
   "execution_count": 23,
   "id": "50acb470",
   "metadata": {},
   "outputs": [],
   "source": [
    "!head -n 10000 filtered-dumping-wiki.txt > sample-wiki.txt"
   ]
  },
  {
   "cell_type": "code",
   "execution_count": 2,
   "id": "e5a38da9",
   "metadata": {},
   "outputs": [
    {
     "data": {
      "text/plain": [
       "'dumping-iium.txt dumping-instagram.txt dumping-news.txt dumping-parliament.txt dumping-pdf.txt dumping-twitter.txt dumping-watpadd.txt filtered-dumping-academia.txt filtered-dumping-wiki.txt'"
      ]
     },
     "execution_count": 2,
     "metadata": {},
     "output_type": "execute_result"
    }
   ],
   "source": [
    "' '.join(files)"
   ]
  },
  {
   "cell_type": "code",
   "execution_count": 3,
   "id": "9b7b5bd6",
   "metadata": {},
   "outputs": [],
   "source": [
    "cat {' '.join(files)} >> train.txt"
   ]
  },
  {
   "cell_type": "code",
   "execution_count": 7,
   "id": "06671b51",
   "metadata": {},
   "outputs": [
    {
     "name": "stdout",
     "output_type": "stream",
     "text": [
      "393397677 train.txt\r\n"
     ]
    }
   ],
   "source": [
    "!wc -w train.txt"
   ]
  }
 ],
 "metadata": {
  "kernelspec": {
   "display_name": "Python 3 (ipykernel)",
   "language": "python",
   "name": "python3"
  },
  "language_info": {
   "codemirror_mode": {
    "name": "ipython",
    "version": 3
   },
   "file_extension": ".py",
   "mimetype": "text/x-python",
   "name": "python",
   "nbconvert_exporter": "python",
   "pygments_lexer": "ipython3",
   "version": "3.8.10"
  }
 },
 "nbformat": 4,
 "nbformat_minor": 5
}
