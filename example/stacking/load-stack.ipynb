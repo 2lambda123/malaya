{
 "cells": [
  {
   "cell_type": "code",
   "execution_count": 1,
   "metadata": {},
   "outputs": [],
   "source": [
    "import malaya"
   ]
  },
  {
   "cell_type": "code",
   "execution_count": 2,
   "metadata": {},
   "outputs": [],
   "source": [
    "bahdanau = malaya.sentiment.deep_model('bahdanau')\n",
    "luong = malaya.sentiment.deep_model('luong')\n",
    "entity = malaya.sentiment.deep_model('entity-network')\n",
    "multinomial = malaya.sentiment.multinomial()"
   ]
  },
  {
   "cell_type": "markdown",
   "metadata": {},
   "source": [
    "## Stack multiple sentiment models"
   ]
  },
  {
   "cell_type": "code",
   "execution_count": 3,
   "metadata": {},
   "outputs": [
    {
     "data": {
      "text/plain": [
       "{'negative': 0.5589608851409659, 'positive': 0.40215390241162385}"
      ]
     },
     "execution_count": 3,
     "metadata": {},
     "output_type": "execute_result"
    }
   ],
   "source": [
    "malaya.stack.predict_stack([bahdanau,\n",
    "                            luong,\n",
    "                            entity,\n",
    "                            multinomial],\n",
    "                          'harga minyak tak menentu')"
   ]
  },
  {
   "cell_type": "markdown",
   "metadata": {},
   "source": [
    "## Stack multiple toxic models"
   ]
  },
  {
   "cell_type": "code",
   "execution_count": 4,
   "metadata": {},
   "outputs": [
    {
     "data": {
      "text/plain": [
       "{'toxic': 0.1940847,\n",
       " 'severe_toxic': 0.06477653,\n",
       " 'obscene': 0.15512805,\n",
       " 'threat': 0.13735601,\n",
       " 'insult': 0.14242107,\n",
       " 'identity_hate': 0.119892955}"
      ]
     },
     "execution_count": 4,
     "metadata": {},
     "output_type": "execute_result"
    }
   ],
   "source": [
    "bahdanau = malaya.toxic.deep_model('bahdanau')\n",
    "luong = malaya.toxic.deep_model('luong')\n",
    "entity = malaya.toxic.deep_model('entity-network')\n",
    "malaya.stack.predict_stack([bahdanau,\n",
    "                            luong,\n",
    "                            entity],\n",
    "                          'harga minyak tak menentu')"
   ]
  },
  {
   "cell_type": "markdown",
   "metadata": {},
   "source": [
    "## Stack tagging models"
   ]
  },
  {
   "cell_type": "code",
   "execution_count": 6,
   "metadata": {},
   "outputs": [
    {
     "data": {
      "text/plain": [
       "[('kuala', 'location'),\n",
       " ('lumpur', 'location'),\n",
       " ('sempena', 'OTHER'),\n",
       " ('sambutan', 'event'),\n",
       " ('aidilfitri', 'event'),\n",
       " ('minggu', 'time'),\n",
       " ('depan', 'time'),\n",
       " ('perdana', 'person'),\n",
       " ('menteri', 'person'),\n",
       " ('tun', 'person'),\n",
       " ('dr', 'person'),\n",
       " ('mahathir', 'person'),\n",
       " ('mohamad', 'person'),\n",
       " ('dan', 'OTHER'),\n",
       " ('menteri', 'person'),\n",
       " ('pengangkutan', 'OTHER'),\n",
       " ('anthony', 'person'),\n",
       " ('loke', 'person'),\n",
       " ('siew', 'person'),\n",
       " ('fook', 'person'),\n",
       " ('menitipkan', 'OTHER'),\n",
       " ('pesanan', 'OTHER'),\n",
       " ('khas', 'OTHER'),\n",
       " ('kepada', 'OTHER'),\n",
       " ('orang', 'OTHER'),\n",
       " ('ramai', 'OTHER'),\n",
       " ('yang', 'OTHER'),\n",
       " ('mahu', 'OTHER'),\n",
       " ('pulang', 'OTHER'),\n",
       " ('ke', 'OTHER'),\n",
       " ('kampung', 'OTHER'),\n",
       " ('halaman', 'OTHER'),\n",
       " ('masing-masing', 'OTHER'),\n",
       " ('dalam', 'OTHER'),\n",
       " ('video', 'OTHER'),\n",
       " ('pendek', 'OTHER'),\n",
       " ('terbitan', 'OTHER'),\n",
       " ('jabatan', 'organization'),\n",
       " ('keselamatan', 'organization'),\n",
       " ('jalan', 'organization'),\n",
       " ('raya', 'organization'),\n",
       " ('jkjr', 'organization'),\n",
       " ('itu', 'OTHER'),\n",
       " ('dr', 'person'),\n",
       " ('mahathir', 'person'),\n",
       " ('menasihati', 'OTHER'),\n",
       " ('mereka', 'OTHER'),\n",
       " ('supaya', 'OTHER'),\n",
       " ('berhenti', 'OTHER'),\n",
       " ('berehat', 'OTHER'),\n",
       " ('dan', 'OTHER'),\n",
       " ('tidur', 'OTHER'),\n",
       " ('sebentar', 'OTHER'),\n",
       " ('sekiranya', 'OTHER'),\n",
       " ('mengantuk', 'OTHER'),\n",
       " ('ketika', 'OTHER'),\n",
       " ('memandu', 'OTHER')]"
      ]
     },
     "execution_count": 6,
     "metadata": {},
     "output_type": "execute_result"
    }
   ],
   "source": [
    "string = 'KUALA LUMPUR: Sempena sambutan Aidilfitri minggu depan, Perdana Menteri Tun Dr Mahathir Mohamad dan Menteri Pengangkutan Anthony Loke Siew Fook menitipkan pesanan khas kepada orang ramai yang mahu pulang ke kampung halaman masing-masing. Dalam video pendek terbitan Jabatan Keselamatan Jalan Raya (JKJR) itu, Dr Mahathir menasihati mereka supaya berhenti berehat dan tidur sebentar  sekiranya mengantuk ketika memandu.'\n",
    "entity_network = malaya.entity.deep_model('entity-network')\n",
    "bahdanau = malaya.entity.deep_model('bahdanau')\n",
    "luong = malaya.entity.deep_model('luong')\n",
    "malaya.stack.voting_stack([entity_network, bahdanau, luong], string)"
   ]
  },
  {
   "cell_type": "code",
   "execution_count": null,
   "metadata": {},
   "outputs": [],
   "source": []
  }
 ],
 "metadata": {
  "kernelspec": {
   "display_name": "Python 3",
   "language": "python",
   "name": "python3"
  },
  "language_info": {
   "codemirror_mode": {
    "name": "ipython",
    "version": 3
   },
   "file_extension": ".py",
   "mimetype": "text/x-python",
   "name": "python",
   "nbconvert_exporter": "python",
   "pygments_lexer": "ipython3",
   "version": "3.6.5"
  }
 },
 "nbformat": 4,
 "nbformat_minor": 2
}
