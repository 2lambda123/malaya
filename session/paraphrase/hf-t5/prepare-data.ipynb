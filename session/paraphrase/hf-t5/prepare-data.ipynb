{
 "cells": [
  {
   "cell_type": "code",
   "execution_count": 1,
   "metadata": {},
   "outputs": [],
   "source": [
    "from tqdm import tqdm\n",
    "import json"
   ]
  },
  {
   "cell_type": "code",
   "execution_count": 5,
   "metadata": {},
   "outputs": [
    {
     "data": {
      "text/plain": [
       "27842"
      ]
     },
     "execution_count": 5,
     "metadata": {},
     "output_type": "execute_result"
    }
   ],
   "source": [
    "with open('paws-train.json') as fopen:\n",
    "    data = json.load(fopen)\n",
    "    \n",
    "with open('paws-dev.json') as fopen:\n",
    "    data.extend(json.load(fopen))\n",
    "    \n",
    "with open('mrpc-train.json') as fopen:\n",
    "    data.extend(json.load(fopen))\n",
    "    \n",
    "len(data)"
   ]
  },
  {
   "cell_type": "code",
   "execution_count": 7,
   "metadata": {},
   "outputs": [
    {
     "data": {
      "text/plain": [
       "{'en': ['The NBA season of 1975 -- 76 was the 30th season of the National Basketball Association .',\n",
       "  'The 1975 -- 76 season of the National Basketball Association was the 30th season of the NBA .'],\n",
       " 'ms': ['Musim NBA 1975-76 adalah musim ke-30 Persatuan Bola Keranjang Kebangsaan.',\n",
       "  'Musim 1975-76 Persatuan Bola Keranjang Kebangsaan adalah musim ke-30 NBA.']}"
      ]
     },
     "execution_count": 7,
     "metadata": {},
     "output_type": "execute_result"
    }
   ],
   "source": [
    "data[0]"
   ]
  },
  {
   "cell_type": "code",
   "execution_count": 8,
   "metadata": {},
   "outputs": [
    {
     "data": {
      "text/plain": [
       "{'en': [\"Two of Collins ' top assistants will consult with state police during the investigation and determine if any federal laws were violated , he said Friday .\",\n",
       "  'U.S. Attorney Jeffrey Collins also said two of his assistants will consult with state police during the investigation and determine if any federal laws were broken .'],\n",
       " 'ms': ['Dua daripada pembantu utama Collins akan berunding dengan polis negeri semasa siasatan dan menentukan sama ada mana-mana undang-undang persekutuan telah dilanggar, katanya Jumaat.',\n",
       "  'Peguam AS Jeffrey Collins juga berkata dua pembantunya akan berunding dengan polis negeri semasa siasatan dan menentukan sama ada undang-undang persekutuan telah dilanggar.']}"
      ]
     },
     "execution_count": 8,
     "metadata": {},
     "output_type": "execute_result"
    }
   ],
   "source": [
    "data[-1]"
   ]
  },
  {
   "cell_type": "code",
   "execution_count": 10,
   "metadata": {},
   "outputs": [
    {
     "name": "stderr",
     "output_type": "stream",
     "text": [
      "100%|█████████████████████████████████| 27842/27842 [00:00<00:00, 185191.41it/s]\n"
     ]
    }
   ],
   "source": [
    "with open('train.json', 'w') as fopen_jsonl:\n",
    "    \n",
    "    for i in tqdm(range(len(data))):\n",
    "        ms = data[i]['ms']\n",
    "        if len(ms) != 2:\n",
    "            continue\n",
    "            \n",
    "        left = ms[0]\n",
    "        right = ms[1]\n",
    "        \n",
    "        if left == right:\n",
    "            continue\n",
    "            \n",
    "        if len(left) and len(right) and len(left.split()) < 256 and len(right.split()) < 256:\n",
    "            d = {\"translation\": {\"src\": left, \"tgt\": right, 'prefix': 'parafrasa: '}}\n",
    "            fopen_jsonl.write(f'{json.dumps(d)}\\n')\n",
    "            d = {\"translation\": {\"src\": right, \"tgt\": left, 'prefix': 'parafrasa: '}}\n",
    "            fopen_jsonl.write(f'{json.dumps(d)}\\n')"
   ]
  },
  {
   "cell_type": "code",
   "execution_count": 11,
   "metadata": {},
   "outputs": [
    {
     "data": {
      "text/plain": [
       "{'en': ['In January 2011 , the Deputy Secretary General of FIBA Asia , Hagop Khajirian , inspected the venue together with SBP - President Manuel V. Pangilinan .',\n",
       "  'In January 2011 , FIBA Asia deputy secretary general Hagop Khajirian along with SBP president Manuel V. Pangilinan inspected the venue .'],\n",
       " 'ms': ['Pada Januari 2011, Timbalan Ketua Setiausaha FIBA Asia, Hagop Khajirian, memeriksa tempat itu bersama-sama dengan SBP-Presiden Manuel V. Pangilinan.',\n",
       "  'Pada Januari 2011, Timbalan Setiausaha Agung FIBA Asia, Hagop Khajirian bersama-sama dengan Presiden SBP Manuel V. Pangilinan memeriksa tempat tersebut.']}"
      ]
     },
     "execution_count": 11,
     "metadata": {},
     "output_type": "execute_result"
    }
   ],
   "source": [
    "with open('paws-test.json') as fopen:\n",
    "    data = json.load(fopen)\n",
    "    \n",
    "with open('mrpc-val.json') as fopen:\n",
    "    data.extend(json.load(fopen))\n",
    "    \n",
    "data[0]"
   ]
  },
  {
   "cell_type": "code",
   "execution_count": 12,
   "metadata": {},
   "outputs": [
    {
     "data": {
      "text/plain": [
       "{'en': [\"Business Week 's online edition reported on Friday that WorldCom and the SEC could announce a settlement as early as Monday .\",\n",
       "  'BusinessWeek Online has learned that the settlement could come as early as Monday , May 19 .'],\n",
       " 'ms': ['Edisi dalam talian Business Week melaporkan pada hari Jumaat bahawa WorldCom dan SEC boleh mengumumkan penyelesaian seawal Isnin.',\n",
       "  'BusinessWeek Online telah mengetahui bahawa penyelesaian itu boleh datang seawal Isnin, 19 Mei.']}"
      ]
     },
     "execution_count": 12,
     "metadata": {},
     "output_type": "execute_result"
    }
   ],
   "source": [
    "data[-1]"
   ]
  },
  {
   "cell_type": "code",
   "execution_count": 13,
   "metadata": {},
   "outputs": [
    {
     "name": "stderr",
     "output_type": "stream",
     "text": [
      "100%|███████████████████████████████████| 3815/3815 [00:00<00:00, 180827.78it/s]\n"
     ]
    }
   ],
   "source": [
    "with open('test.json', 'w') as fopen_jsonl:\n",
    "    \n",
    "    for i in tqdm(range(len(data))):\n",
    "        ms = data[i]['ms']\n",
    "        if len(ms) != 2:\n",
    "            continue\n",
    "            \n",
    "        left = ms[0]\n",
    "        right = ms[1]\n",
    "        \n",
    "        if left == right:\n",
    "            continue\n",
    "            \n",
    "        if len(left) and len(right) and len(left.split()) < 256 and len(right.split()) < 256:\n",
    "            d = {\"translation\": {\"src\": left, \"tgt\": right, 'prefix': 'parafrasa: '}}\n",
    "            fopen_jsonl.write(f'{json.dumps(d)}\\n')\n",
    "            d = {\"translation\": {\"src\": right, \"tgt\": left, 'prefix': 'parafrasa: '}}\n",
    "            fopen_jsonl.write(f'{json.dumps(d)}\\n')"
   ]
  },
  {
   "cell_type": "code",
   "execution_count": null,
   "metadata": {},
   "outputs": [],
   "source": []
  }
 ],
 "metadata": {
  "kernelspec": {
   "display_name": "Python 3 (ipykernel)",
   "language": "python",
   "name": "python3"
  },
  "language_info": {
   "codemirror_mode": {
    "name": "ipython",
    "version": 3
   },
   "file_extension": ".py",
   "mimetype": "text/x-python",
   "name": "python",
   "nbconvert_exporter": "python",
   "pygments_lexer": "ipython3",
   "version": "3.8.10"
  }
 },
 "nbformat": 4,
 "nbformat_minor": 4
}
