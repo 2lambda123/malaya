{
 "cells": [
  {
   "cell_type": "markdown",
   "metadata": {},
   "source": [
    "# EN to MS HuggingFace"
   ]
  },
  {
   "cell_type": "markdown",
   "metadata": {},
   "source": [
    "<div class=\"alert alert-info\">\n",
    "\n",
    "This tutorial is available as an IPython notebook at [Malaya/example/en-ms-translation-huggingface](https://github.com/huseinzol05/Malaya/tree/master/example/en-ms-translation-huggingface).\n",
    "    \n",
    "</div>"
   ]
  },
  {
   "cell_type": "markdown",
   "metadata": {},
   "source": [
    "<div class=\"alert alert-warning\">\n",
    "\n",
    "This module trained on standard language and augmented local language structures, proceed with caution.\n",
    "    \n",
    "</div>"
   ]
  },
  {
   "cell_type": "code",
   "execution_count": 1,
   "metadata": {},
   "outputs": [],
   "source": [
    "import os\n",
    "\n",
    "os.environ['CUDA_VISIBLE_DEVICES'] = ''"
   ]
  },
  {
   "cell_type": "code",
   "execution_count": 2,
   "metadata": {},
   "outputs": [
    {
     "name": "stdout",
     "output_type": "stream",
     "text": [
      "CPU times: user 3.97 s, sys: 3.52 s, total: 7.49 s\n",
      "Wall time: 4.09 s\n"
     ]
    }
   ],
   "source": [
    "%%time\n",
    "\n",
    "import malaya\n",
    "import logging\n",
    "\n",
    "logging.basicConfig(level=logging.INFO)"
   ]
  },
  {
   "cell_type": "markdown",
   "metadata": {},
   "source": [
    "### List available HuggingFace models"
   ]
  },
  {
   "cell_type": "code",
   "execution_count": 3,
   "metadata": {
    "scrolled": true
   },
   "outputs": [
    {
     "name": "stderr",
     "output_type": "stream",
     "text": [
      "INFO:malaya.translation.en_ms:tested on FLORES200 EN-MS (eng_Latn-zsm_Latn) pair `dev` set, https://github.com/facebookresearch/flores/tree/main/flores200\n",
      "INFO:malaya.translation.en_ms:for noisy, tested on noisy twitter google translation, https://huggingface.co/datasets/mesolitica/augmentation-test-set\n"
     ]
    },
    {
     "data": {
      "text/html": [
       "<div>\n",
       "<style scoped>\n",
       "    .dataframe tbody tr th:only-of-type {\n",
       "        vertical-align: middle;\n",
       "    }\n",
       "\n",
       "    .dataframe tbody tr th {\n",
       "        vertical-align: top;\n",
       "    }\n",
       "\n",
       "    .dataframe thead th {\n",
       "        text-align: right;\n",
       "    }\n",
       "</style>\n",
       "<table border=\"1\" class=\"dataframe\">\n",
       "  <thead>\n",
       "    <tr style=\"text-align: right;\">\n",
       "      <th></th>\n",
       "      <th>Size (MB)</th>\n",
       "      <th>BLEU</th>\n",
       "      <th>SacreBLEU Verbose</th>\n",
       "      <th>SacreBLEU-chrF++-FLORES200</th>\n",
       "      <th>Suggested length</th>\n",
       "    </tr>\n",
       "  </thead>\n",
       "  <tbody>\n",
       "    <tr>\n",
       "      <th>mesolitica/finetune-translation-t5-tiny-standard-bahasa-cased-v2</th>\n",
       "      <td>139</td>\n",
       "      <td>41.625536</td>\n",
       "      <td>73.4/50.1/35.7/25.7 (BP = 0.971 ratio = 0.972 ...</td>\n",
       "      <td>65.7</td>\n",
       "      <td>256</td>\n",
       "    </tr>\n",
       "    <tr>\n",
       "      <th>mesolitica/finetune-translation-t5-small-standard-bahasa-cased-v2</th>\n",
       "      <td>242</td>\n",
       "      <td>43.937298</td>\n",
       "      <td>74.9/52.2/37.9/27.7 (BP = 0.976 ratio = 0.977 ...</td>\n",
       "      <td>67.43</td>\n",
       "      <td>256</td>\n",
       "    </tr>\n",
       "    <tr>\n",
       "      <th>mesolitica/finetune-translation-t5-base-standard-bahasa-cased-v2</th>\n",
       "      <td>892</td>\n",
       "      <td>44.173559</td>\n",
       "      <td>74.7/52.3/38.0/28.0 (BP = 0.979 ratio = 0.979 ...</td>\n",
       "      <td>67.6</td>\n",
       "      <td>256</td>\n",
       "    </tr>\n",
       "    <tr>\n",
       "      <th>mesolitica/finetune-noisy-translation-t5-tiny-bahasa-cased-v3</th>\n",
       "      <td>139</td>\n",
       "      <td>60.000967</td>\n",
       "      <td>77.9/63.9/54.6/47.7 (BP = 1.000 ratio = 1.036 ...</td>\n",
       "      <td>None</td>\n",
       "      <td>256</td>\n",
       "    </tr>\n",
       "    <tr>\n",
       "      <th>mesolitica/finetune-noisy-translation-t5-small-bahasa-cased-v3</th>\n",
       "      <td>242</td>\n",
       "      <td>64.062582</td>\n",
       "      <td>80.1/67.7/59.1/52.5 (BP = 1.000 ratio = 1.042 ...</td>\n",
       "      <td>None</td>\n",
       "      <td>256</td>\n",
       "    </tr>\n",
       "    <tr>\n",
       "      <th>mesolitica/finetune-noisy-translation-t5-base-bahasa-cased-v2</th>\n",
       "      <td>892</td>\n",
       "      <td>64.583819</td>\n",
       "      <td>80.2/68.1/59.8/53.2 (BP = 1.000 ratio = 1.048 ...</td>\n",
       "      <td>None</td>\n",
       "      <td>256</td>\n",
       "    </tr>\n",
       "  </tbody>\n",
       "</table>\n",
       "</div>"
      ],
      "text/plain": [
       "                                                   Size (MB)       BLEU  \\\n",
       "mesolitica/finetune-translation-t5-tiny-standar...       139  41.625536   \n",
       "mesolitica/finetune-translation-t5-small-standa...       242  43.937298   \n",
       "mesolitica/finetune-translation-t5-base-standar...       892  44.173559   \n",
       "mesolitica/finetune-noisy-translation-t5-tiny-b...       139  60.000967   \n",
       "mesolitica/finetune-noisy-translation-t5-small-...       242  64.062582   \n",
       "mesolitica/finetune-noisy-translation-t5-base-b...       892  64.583819   \n",
       "\n",
       "                                                                                    SacreBLEU Verbose  \\\n",
       "mesolitica/finetune-translation-t5-tiny-standar...  73.4/50.1/35.7/25.7 (BP = 0.971 ratio = 0.972 ...   \n",
       "mesolitica/finetune-translation-t5-small-standa...  74.9/52.2/37.9/27.7 (BP = 0.976 ratio = 0.977 ...   \n",
       "mesolitica/finetune-translation-t5-base-standar...  74.7/52.3/38.0/28.0 (BP = 0.979 ratio = 0.979 ...   \n",
       "mesolitica/finetune-noisy-translation-t5-tiny-b...  77.9/63.9/54.6/47.7 (BP = 1.000 ratio = 1.036 ...   \n",
       "mesolitica/finetune-noisy-translation-t5-small-...  80.1/67.7/59.1/52.5 (BP = 1.000 ratio = 1.042 ...   \n",
       "mesolitica/finetune-noisy-translation-t5-base-b...  80.2/68.1/59.8/53.2 (BP = 1.000 ratio = 1.048 ...   \n",
       "\n",
       "                                                   SacreBLEU-chrF++-FLORES200  \\\n",
       "mesolitica/finetune-translation-t5-tiny-standar...                       65.7   \n",
       "mesolitica/finetune-translation-t5-small-standa...                      67.43   \n",
       "mesolitica/finetune-translation-t5-base-standar...                       67.6   \n",
       "mesolitica/finetune-noisy-translation-t5-tiny-b...                       None   \n",
       "mesolitica/finetune-noisy-translation-t5-small-...                       None   \n",
       "mesolitica/finetune-noisy-translation-t5-base-b...                       None   \n",
       "\n",
       "                                                   Suggested length  \n",
       "mesolitica/finetune-translation-t5-tiny-standar...              256  \n",
       "mesolitica/finetune-translation-t5-small-standa...              256  \n",
       "mesolitica/finetune-translation-t5-base-standar...              256  \n",
       "mesolitica/finetune-noisy-translation-t5-tiny-b...              256  \n",
       "mesolitica/finetune-noisy-translation-t5-small-...              256  \n",
       "mesolitica/finetune-noisy-translation-t5-base-b...              256  "
      ]
     },
     "execution_count": 3,
     "metadata": {},
     "output_type": "execute_result"
    }
   ],
   "source": [
    "malaya.translation.en_ms.available_huggingface()"
   ]
  },
  {
   "cell_type": "markdown",
   "metadata": {},
   "source": [
    "### Load Transformer models\n",
    "\n",
    "```python\n",
    "def huggingface(\n",
    "    model: str = 'mesolitica/finetune-translation-t5-small-standard-bahasa-cased-v2',\n",
    "    force_check: bool = True,\n",
    "    **kwargs,\n",
    "):\n",
    "    \"\"\"\n",
    "    Load HuggingFace model to translate EN-to-MS.\n",
    "\n",
    "    Parameters\n",
    "    ----------\n",
    "    model: str, optional (default='mesolitica/finetune-translation-t5-small-standard-bahasa-cased-v2')\n",
    "        Check available models at `malaya.translation.en_ms.available_huggingface()`.\n",
    "    force_check: bool, optional (default=True)\n",
    "        Force check model one of malaya model.\n",
    "        Set to False if you have your own huggingface model.\n",
    "\n",
    "    Returns\n",
    "    -------\n",
    "    result: malaya.torch_model.huggingface.Generator\n",
    "    \"\"\"\n",
    "```"
   ]
  },
  {
   "cell_type": "code",
   "execution_count": 16,
   "metadata": {},
   "outputs": [],
   "source": [
    "transformer = malaya.translation.en_ms.transformer()"
   ]
  },
  {
   "cell_type": "code",
   "execution_count": 18,
   "metadata": {},
   "outputs": [],
   "source": [
    "transformer_huggingface = malaya.translation.en_ms.huggingface()"
   ]
  },
  {
   "cell_type": "markdown",
   "metadata": {},
   "source": [
    "### Translate\n",
    "\n",
    "```python\n",
    "def generate(self, strings: List[str], **kwargs):\n",
    "    \"\"\"\n",
    "    Generate texts from the input.\n",
    "\n",
    "    Parameters\n",
    "    ----------\n",
    "    strings : List[str]\n",
    "    **kwargs: vector arguments pass to huggingface `generate` method.\n",
    "        Read more at https://huggingface.co/docs/transformers/main_classes/text_generation\n",
    "\n",
    "    Returns\n",
    "    -------\n",
    "    result: List[str]\n",
    "    \"\"\"\n",
    "```\n",
    "\n",
    "**For better results, always split by end of sentences**."
   ]
  },
  {
   "cell_type": "code",
   "execution_count": 6,
   "metadata": {},
   "outputs": [],
   "source": [
    "from pprint import pprint"
   ]
  },
  {
   "cell_type": "code",
   "execution_count": 7,
   "metadata": {},
   "outputs": [
    {
     "name": "stdout",
     "output_type": "stream",
     "text": [
      "('KUALA LUMPUR, July 1 - Datuk Seri Anwar Ibrahim is not suitable to as the '\n",
      " 'prime minister candidate as he is allegedly not \"popular\" among the Malays, '\n",
      " 'Tun Dr Mahathir Mohamad claimed. The former prime minister reportedly said '\n",
      " 'the PKR president needs someone like himself in order to acquire support '\n",
      " 'from the Malays and win the election.')\n"
     ]
    }
   ],
   "source": [
    "# https://www.malaymail.com/news/malaysia/2020/07/01/dr-mahathir-again-claims-anwar-lacks-popularity-with-malays-to-be-pakatans/1880420\n",
    "\n",
    "string_news1 = 'KUALA LUMPUR, July 1 - Datuk Seri Anwar Ibrahim is not suitable to as the prime minister candidate as he is allegedly not \"popular\" among the Malays, Tun Dr Mahathir Mohamad claimed. The former prime minister reportedly said the PKR president needs someone like himself in order to acquire support from the Malays and win the election.'\n",
    "pprint(string_news1)"
   ]
  },
  {
   "cell_type": "code",
   "execution_count": 8,
   "metadata": {},
   "outputs": [
    {
     "name": "stdout",
     "output_type": "stream",
     "text": [
      "('(CNN)New York Attorney General Letitia James on Monday ordered the Black '\n",
      " 'Lives Matter Foundation -- which she said is not affiliated with the larger '\n",
      " 'Black Lives Matter movement -- to stop collecting donations in New York. \"I '\n",
      " 'ordered the Black Lives Matter Foundation to stop illegally accepting '\n",
      " 'donations that were intended for the #BlackLivesMatter movement. This '\n",
      " 'foundation is not affiliated with the movement, yet it accepted countless '\n",
      " 'donations and deceived goodwill,\" James tweeted.')\n"
     ]
    }
   ],
   "source": [
    "# https://edition.cnn.com/2020/07/06/politics/new-york-attorney-general-blm/index.html\n",
    "\n",
    "string_news2 = '(CNN)New York Attorney General Letitia James on Monday ordered the Black Lives Matter Foundation -- which she said is not affiliated with the larger Black Lives Matter movement -- to stop collecting donations in New York. \"I ordered the Black Lives Matter Foundation to stop illegally accepting donations that were intended for the #BlackLivesMatter movement. This foundation is not affiliated with the movement, yet it accepted countless donations and deceived goodwill,\" James tweeted.'\n",
    "pprint(string_news2)"
   ]
  },
  {
   "cell_type": "code",
   "execution_count": 9,
   "metadata": {},
   "outputs": [
    {
     "name": "stdout",
     "output_type": "stream",
     "text": [
      "('Amongst the wide-ranging initiatives proposed are a sustainable food '\n",
      " 'labelling framework, a reformulation of processed foods, and a '\n",
      " 'sustainability chapter in all EU bilateral trade agreements. The EU also '\n",
      " 'plans to publish a proposal for a legislative framework for sustainable food '\n",
      " 'systems by 2023 to ensure all foods on the EU market become increasingly '\n",
      " 'sustainable.')\n"
     ]
    }
   ],
   "source": [
    "# https://www.thestar.com.my/business/business-news/2020/07/04/malaysia-worries-new-eu-food-rules-could-hurt-palm-oil-exports\n",
    "\n",
    "string_news3 = 'Amongst the wide-ranging initiatives proposed are a sustainable food labelling framework, a reformulation of processed foods, and a sustainability chapter in all EU bilateral trade agreements. The EU also plans to publish a proposal for a legislative framework for sustainable food systems by 2023 to ensure all foods on the EU market become increasingly sustainable.'\n",
    "pprint(string_news3)"
   ]
  },
  {
   "cell_type": "code",
   "execution_count": 10,
   "metadata": {},
   "outputs": [
    {
     "name": "stdout",
     "output_type": "stream",
     "text": [
      "('This page shares my best articles to read on topics like health, happiness, '\n",
      " 'creativity, productivity and more. The central question that drives my work '\n",
      " 'is, “How can we live better?” To answer that question, I like to write about '\n",
      " 'science-based ways to solve practical problems.')\n"
     ]
    }
   ],
   "source": [
    "# https://jamesclear.com/articles\n",
    "\n",
    "string_article1 = 'This page shares my best articles to read on topics like health, happiness, creativity, productivity and more. The central question that drives my work is, “How can we live better?” To answer that question, I like to write about science-based ways to solve practical problems.'\n",
    "pprint(string_article1)"
   ]
  },
  {
   "cell_type": "code",
   "execution_count": 11,
   "metadata": {},
   "outputs": [
    {
     "name": "stdout",
     "output_type": "stream",
     "text": [
      "['KUALA LUMPUR 1 Julai - Datuk Seri Anwar Ibrahim tidak sesuai menjadi calon '\n",
      " 'Perdana Menteri kerana beliau didakwa tidak \"popular\" dalam kalangan orang '\n",
      " 'Melayu, Tun Dr Mahathir Mohamad mendakwa, bekas Perdana Menteri itu '\n",
      " 'dilaporkan berkata Presiden PKR itu memerlukan seseorang seperti dirinya '\n",
      " 'bagi mendapatkan sokongan daripada orang Melayu dan memenangi pilihan raya.',\n",
      " '(CNN) Peguam Negara New York Letitia James pada hari Isnin memerintahkan '\n",
      " 'Black Lives Matter Foundation - yang menurutnya tidak berafiliasi dengan '\n",
      " 'gerakan Black Lives Matter yang lebih besar - untuk berhenti mengumpulkan '\n",
      " 'sumbangan di New York. \"Saya memerintahkan Black Lives Matter Foundation '\n",
      " 'untuk berhenti menerima sumbangan secara haram yang bertujuan untuk gerakan '\n",
      " '#BlackLivesMatter. Yayasan ini tidak berafiliasi dengan gerakan itu, namun '\n",
      " 'ia menerima banyak sumbangan dan muhibah yang ditipu,\" tweet James.',\n",
      " 'Di antara inisiatif luas yang diusulkan adalah kerangka pelabelan makanan '\n",
      " 'yang berkelanjutan, reformulasi makanan yang diproses, dan bab keberlanjutan '\n",
      " 'dalam semua perjanjian perdagangan dua hala EU. EU juga berencana untuk '\n",
      " 'menerbitkan proposal untuk kerangka perundangan untuk sistem makanan lestari '\n",
      " 'pada tahun 2023 untuk memastikan semua makanan di pasar EU menjadi semakin '\n",
      " 'lestari.',\n",
      " 'Halaman ini berkongsi artikel terbaik saya untuk dibaca mengenai topik '\n",
      " 'seperti kesihatan, kebahagiaan, kreativiti, produktiviti dan banyak lagi. '\n",
      " 'Soalan utama yang mendorong kerja saya adalah, \"Bagaimana kita dapat hidup '\n",
      " 'lebih baik?\" Untuk menjawab soalan itu, saya suka menulis mengenai kaedah '\n",
      " 'berasaskan sains untuk menyelesaikan masalah praktikal.']\n",
      "CPU times: user 11.5 s, sys: 2.19 s, total: 13.7 s\n",
      "Wall time: 6.14 s\n"
     ]
    }
   ],
   "source": [
    "%%time\n",
    "\n",
    "pprint(transformer.greedy_decoder([string_news1, string_news2, string_news3, string_article1]))"
   ]
  },
  {
   "cell_type": "code",
   "execution_count": 12,
   "metadata": {},
   "outputs": [
    {
     "name": "stderr",
     "output_type": "stream",
     "text": [
      "You're using a T5TokenizerFast tokenizer. Please note that with a fast tokenizer, using the `__call__` method is faster than using a method to encode the text followed by a call to the `pad` method to get a padded encoding.\n"
     ]
    },
    {
     "name": "stdout",
     "output_type": "stream",
     "text": [
      "['KUALA LUMPUR 1 Julai - Datuk Seri Anwar Ibrahim tidak sesuai sebagai calon '\n",
      " 'perdana menteri kerana didakwa tidak \"popular\" dalam kalangan orang Melayu, '\n",
      " 'dakwa Tun Dr Mahathir Mohamad. Bekas perdana menteri itu dilaporkan berkata '\n",
      " 'presiden PKR memerlukan seseorang seperti dirinya untuk memperoleh sokongan '\n",
      " 'daripada orang Melayu dan memenangi pilihan raya.',\n",
      " '(CNN) Peguam Negara New York Letitia James pada hari Isnin mengarahkan '\n",
      " 'Yayasan Black Lives Matter - yang katanya tidak bergabung dengan pergerakan '\n",
      " 'Black Lives Matter yang lebih besar - untuk berhenti mengumpul sumbangan di '\n",
      " 'New York. \"Saya mengarahkan Yayasan Black Lives Matter berhenti menerima '\n",
      " 'sumbangan secara haram yang bertujuan untuk pergerakan #BlackLivesMatter. '\n",
      " 'Yayasan ini tidak bergabung dengan pergerakan itu, namun ia menerima '\n",
      " 'sumbangan yang tidak terkira banyaknya dan menipu muhibah,\" tulis James.',\n",
      " 'Antara inisiatif meluas yang dicadangkan ialah rangka pelabelan makanan '\n",
      " 'mampan, pembaharuan makanan yang diproses dan bab kemampanan dalam semua '\n",
      " 'perjanjian perdagangan dua hala EU. EU juga merancang untuk menerbitkan '\n",
      " 'cadangan rangka kerja perundangan untuk sistem makanan mampan menjelang 2023 '\n",
      " 'untuk memastikan semua makanan di pasaran EU semakin mampan.',\n",
      " 'Halaman ini berkongsi artikel terbaik saya untuk dibaca mengenai topik '\n",
      " 'seperti kesihatan, kebahagiaan, kreativiti, produktiviti dan banyak lagi. '\n",
      " 'Soalan utama yang mendorong kerja saya ialah, Bagaimana kita boleh hidup '\n",
      " 'dengan lebih baik? Untuk menjawab soalan itu, saya suka menulis tentang cara '\n",
      " 'berasaskan sains untuk menyelesaikan masalah praktikal.']\n",
      "CPU times: user 15 s, sys: 0 ns, total: 15 s\n",
      "Wall time: 1.3 s\n"
     ]
    }
   ],
   "source": [
    "%%time\n",
    "\n",
    "pprint(transformer_huggingface.generate([string_news1, string_news2, string_news3, string_article1],\n",
    "                                       max_length = 1000))"
   ]
  },
  {
   "cell_type": "markdown",
   "metadata": {},
   "source": [
    "### compare with Google translate using googletrans\n",
    "\n",
    "Install it by,\n",
    "\n",
    "```bash\n",
    "pip3 install googletrans==4.0.0rc1\n",
    "```"
   ]
  },
  {
   "cell_type": "code",
   "execution_count": 13,
   "metadata": {},
   "outputs": [],
   "source": [
    "from googletrans import Translator\n",
    "\n",
    "translator = Translator()"
   ]
  },
  {
   "cell_type": "code",
   "execution_count": 14,
   "metadata": {},
   "outputs": [],
   "source": [
    "strings = [string_news1, string_news2, string_news3, string_article1]"
   ]
  },
  {
   "cell_type": "code",
   "execution_count": 15,
   "metadata": {},
   "outputs": [
    {
     "name": "stdout",
     "output_type": "stream",
     "text": [
      "KUALA LUMPUR, 1 Julai - Datuk Seri Anwar Ibrahim tidak sesuai sebagai calon Perdana Menteri kerana dia tidak \"popular\" di kalangan orang Melayu, Tun Dr Mahathir Mohamad mendakwa.Bekas Perdana Menteri dilaporkan berkata presiden PKR memerlukan seseorang seperti dirinya untuk mendapatkan sokongan daripada orang Melayu dan memenangi pilihan raya.\n",
      "(CNN) Peguam Negara New York, Letitia James pada hari Isnin mengarahkan Yayasan Black Lives Matter - yang dikatakannya tidak bergabung dengan pergerakan Black Lives Matter yang lebih besar - untuk berhenti mengumpul sumbangan di New York.\"Saya memerintahkan Yayasan Black Lives Matter untuk berhenti menerima sumbangan secara haram yang dimaksudkan untuk gerakan #BlackLivesMatter.\n",
      "Di antara inisiatif yang luas yang dicadangkan adalah rangka kerja pelabelan makanan yang mampan, pembaharuan makanan yang diproses, dan bab kemampanan dalam semua perjanjian perdagangan dua hala EU.EU juga merancang untuk menerbitkan cadangan untuk rangka kerja perundangan untuk sistem makanan lestari menjelang 2023 untuk memastikan semua makanan di pasaran EU menjadi semakin mampan.\n",
      "Halaman ini berkongsi artikel terbaik saya untuk membaca topik seperti kesihatan, kebahagiaan, kreativiti, produktiviti dan banyak lagi.Soalan utama yang mendorong kerja saya ialah, \"Bagaimana kita boleh hidup lebih baik?\"Untuk menjawab soalan itu, saya suka menulis tentang cara berasaskan sains untuk menyelesaikan masalah praktikal.\n"
     ]
    }
   ],
   "source": [
    "for t in strings:\n",
    "    r = translator.translate(t, src='en', dest = 'ms')\n",
    "    print(r.text)"
   ]
  }
 ],
 "metadata": {
  "kernelspec": {
   "display_name": "Python 3 (ipykernel)",
   "language": "python",
   "name": "python3"
  },
  "language_info": {
   "codemirror_mode": {
    "name": "ipython",
    "version": 3
   },
   "file_extension": ".py",
   "mimetype": "text/x-python",
   "name": "python",
   "nbconvert_exporter": "python",
   "pygments_lexer": "ipython3",
   "version": "3.8.10"
  },
  "varInspector": {
   "cols": {
    "lenName": 16,
    "lenType": 16,
    "lenVar": 40
   },
   "kernels_config": {
    "python": {
     "delete_cmd_postfix": "",
     "delete_cmd_prefix": "del ",
     "library": "var_list.py",
     "varRefreshCmd": "print(var_dic_list())"
    },
    "r": {
     "delete_cmd_postfix": ") ",
     "delete_cmd_prefix": "rm(",
     "library": "var_list.r",
     "varRefreshCmd": "cat(var_dic_list()) "
    }
   },
   "types_to_exclude": [
    "module",
    "function",
    "builtin_function_or_method",
    "instance",
    "_Feature"
   ],
   "window_display": false
  }
 },
 "nbformat": 4,
 "nbformat_minor": 4
}
