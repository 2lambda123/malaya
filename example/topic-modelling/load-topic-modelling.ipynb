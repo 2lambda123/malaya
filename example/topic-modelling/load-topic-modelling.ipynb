{
 "cells": [
  {
   "cell_type": "code",
   "execution_count": 1,
   "metadata": {},
   "outputs": [
    {
     "name": "stderr",
     "output_type": "stream",
     "text": [
      "/usr/local/lib/python3.6/site-packages/sklearn/cross_validation.py:41: DeprecationWarning: This module was deprecated in version 0.18 in favor of the model_selection module into which all the refactored classes and functions are moved. Also note that the interface of the new CV iterators are different from that of this module. This module will be removed in 0.20.\n",
      "  \"This module will be removed in 0.20.\", DeprecationWarning)\n"
     ]
    }
   ],
   "source": [
    "import pandas as pd\n",
    "import malaya"
   ]
  },
  {
   "cell_type": "code",
   "execution_count": 2,
   "metadata": {},
   "outputs": [],
   "source": [
    "df = pd.read_csv('tests/02032018.csv',sep=';')\n",
    "df = df.iloc[3:,1:]\n",
    "df.columns = ['text','label']\n",
    "corpus = df.text.tolist()"
   ]
  },
  {
   "cell_type": "code",
   "execution_count": 3,
   "metadata": {},
   "outputs": [
    {
     "name": "stderr",
     "output_type": "stream",
     "text": [
      "/usr/local/lib/python3.6/site-packages/sklearn/decomposition/online_lda.py:294: DeprecationWarning: n_topics has been renamed to n_components in version 0.19 and will be removed in 0.21\n",
      "  DeprecationWarning)\n"
     ]
    },
    {
     "data": {
      "text/plain": [
       "[(0, 'parti keputusan kelulusan umno tindakan mengambil faktor ph dana awam'),\n",
       " (1, 'pesawat berbeza dasar strategi terima mencari kempen kasih kuok rm'),\n",
       " (2,\n",
       "  'kerajaan meningkatkan awam isu bahasa penjelasan kemajuan menerima mewujudkan proses'),\n",
       " (3,\n",
       "  'projek hutang negara mdb kewangan diselesaikan syarikat malaysia wang sewa'),\n",
       " (4,\n",
       "  'asli malaysia masyarakat bahasa jakoa pembangunan ambil perdana ilmu inggeris'),\n",
       " (5, 'air kapal low jho bersih rm selesa harga dana nik'),\n",
       " (6,\n",
       "  'malaysia rakyat undi antarabangsa dasar memalukan bukti bertanding kenyataan proses'),\n",
       " (7,\n",
       "  'pertumbuhan takut ros pesara tentera pekan pendapatan mca membenarkan jppm'),\n",
       " (8,\n",
       "  'mdb perniagaan rakyat negara pilihan raya malaysia kepimpinan wujud hutang'),\n",
       " (9,\n",
       "  'menteri perdana malaysia tumpuan najib seri jemaah arab keselamatan saudi')]"
      ]
     },
     "execution_count": 3,
     "metadata": {},
     "output_type": "execute_result"
    }
   ],
   "source": [
    "lda = malaya.lda_topic_modelling(corpus,10)\n",
    "lda.get_topics(10)"
   ]
  },
  {
   "cell_type": "code",
   "execution_count": 4,
   "metadata": {},
   "outputs": [
    {
     "data": {
      "text/plain": [
       "[(0,\n",
       "  'rakyat malaysia negara kepimpinan ppsmi memudahkan kepentingan serius negeri mengatasi'),\n",
       " (1, 'keputusan ambil benda kena bersatu peringkat negeri ph sarawak sabah'),\n",
       " (2,\n",
       "  'parti ros umno kebenaran pemilihan perlembagaan kelulusan pendaftaran melebihi bersatu'),\n",
       " (3,\n",
       "  'hutang mdb diselesaikan kewangan tempoh pendek wujud projek tutup bergantung'),\n",
       " (4, 'menteri perdana berlaku jemaah seri penjelasan isu razak najib kuok'),\n",
       " (5,\n",
       "  'raya pilihan memandangkan kononnya perlembagaan kerusi prestasi kuok artikel mendakwa'),\n",
       " (6,\n",
       "  'kerajaan negara meningkatkan tindakan pengangkutan malaysia pengajaran kemajuan bidang pendidikan'),\n",
       " (7, 'kapal jho low dirampas perniagaan doj indonesia anak tuntutan sivil'),\n",
       " (8,\n",
       "  'undi mengundi harapan pakatan catatan cina mendakwa demokrasi bahagian kepentingan'),\n",
       " (9,\n",
       "  'berjalan projek lancar gembira pencarian peribadi pendidikan asalnya mengalami perdana')]"
      ]
     },
     "execution_count": 4,
     "metadata": {},
     "output_type": "execute_result"
    }
   ],
   "source": [
    "nmf = malaya.nmf_topic_modelling(corpus,10)\n",
    "nmf.get_topics(10)"
   ]
  },
  {
   "cell_type": "code",
   "execution_count": 5,
   "metadata": {},
   "outputs": [
    {
     "data": {
      "text/plain": [
       "[(0,\n",
       "  'rakyat malaysia negara kerajaan parti isu tindakan kepimpinan berkongsi menteri'),\n",
       " (1,\n",
       "  'rakyat malaysia kepimpinan ppsmi memudahkan serius berita mengatasi kepentingan negeri'),\n",
       " (2, 'hutang mdb negara projek kewangan diselesaikan kerajaan kapal low jho'),\n",
       " (3,\n",
       "  'hutang rakyat mdb projek diselesaikan tempoh kewangan pendek tutup wujud'),\n",
       " (4,\n",
       "  'menteri perdana kerajaan rakyat berlaku seri jemaah penjelasan isu asli'),\n",
       " (5,\n",
       "  'pilihan raya memandangkan perlembagaan kononnya prestasi kerusi kuok menerima pertumbuhan'),\n",
       " (6, 'kerajaan jho kapal low perniagaan dana doj dirampas ahli pas'),\n",
       " (7,\n",
       "  'kerajaan hutang masyarakat meningkatkan asli pas pendidikan pembelajaran pengajaran proses'),\n",
       " (8,\n",
       "  'undi asli harapan pendapatan cina pertumbuhan catatan masyarakat pakatan mengundi'),\n",
       " (9,\n",
       "  'projek berjalan lancar ros gembira kebenaran asli pendidikan sumber pencarian')]"
      ]
     },
     "execution_count": 5,
     "metadata": {},
     "output_type": "execute_result"
    }
   ],
   "source": [
    "lsa = malaya.lsa_topic_modelling(corpus,10)\n",
    "lsa.get_topics(10)"
   ]
  },
  {
   "cell_type": "code",
   "execution_count": null,
   "metadata": {},
   "outputs": [],
   "source": []
  }
 ],
 "metadata": {
  "kernelspec": {
   "display_name": "Python 3",
   "language": "python",
   "name": "python3"
  },
  "language_info": {
   "codemirror_mode": {
    "name": "ipython",
    "version": 3
   },
   "file_extension": ".py",
   "mimetype": "text/x-python",
   "name": "python",
   "nbconvert_exporter": "python",
   "pygments_lexer": "ipython3",
   "version": "3.6.5"
  }
 },
 "nbformat": 4,
 "nbformat_minor": 2
}
