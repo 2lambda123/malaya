{
 "cells": [
  {
   "cell_type": "code",
   "execution_count": 3,
   "metadata": {},
   "outputs": [],
   "source": [
    "from core import google_news_run\n",
    "import json\n",
    "import os"
   ]
  },
  {
   "cell_type": "code",
   "execution_count": 6,
   "metadata": {},
   "outputs": [],
   "source": [
    "# with open('new.txt') as fopen:\n",
    "#     topics = fopen.read().split('\\n')\n",
    "    \n",
    "# topics = [topic.split('. ')[1] for topic in topics]\n",
    "# topics[-1]\n",
    "\n",
    "topics = ['isu yaman', 'isu arab']"
   ]
  },
  {
   "cell_type": "code",
   "execution_count": 7,
   "metadata": {},
   "outputs": [
    {
     "name": "stderr",
     "output_type": "stream",
     "text": [
      "2020-05-14 15:29:43,929 - DEBUG - Starting new HTTPS connection (1): www.google.com.my:443\n",
      "2020-05-14 15:29:44,087 - DEBUG - https://www.google.com.my:443 \"GET /search?q=isu+yaman&source=lnt&tbs=cdr%3A1%2Ccd_min%3A2000%2Ccd_max%3A2021&tbm=nws&start=0 HTTP/1.1\" 200 None\n"
     ]
    },
    {
     "name": "stdout",
     "output_type": "stream",
     "text": [
      "crawling isu yaman\n"
     ]
    },
    {
     "name": "stderr",
     "output_type": "stream",
     "text": [
      "2020-05-14 15:29:45,342 - DEBUG - utf-8  confidence = 0.99\n",
      "2020-05-14 15:29:45,343 - DEBUG - SHIFT_JIS Japanese confidence = 0.01\n",
      "2020-05-14 15:29:45,344 - DEBUG - EUC-JP Japanese confidence = 0.01\n",
      "2020-05-14 15:29:45,344 - DEBUG - GB2312 Chinese confidence = 0.01\n",
      "2020-05-14 15:29:45,345 - DEBUG - EUC-KR Korean confidence = 0.01\n",
      "2020-05-14 15:29:45,346 - DEBUG - CP949 Korean confidence = 0.01\n",
      "2020-05-14 15:29:45,346 - DEBUG - Big5 Chinese confidence = 0.01\n",
      "2020-05-14 15:29:45,347 - DEBUG - EUC-TW Taiwan confidence = 0.01\n",
      "2020-05-14 15:29:45,348 - DEBUG - windows-1251 Russian confidence = 0.01\n",
      "2020-05-14 15:29:45,348 - DEBUG - KOI8-R Russian confidence = 0.01\n",
      "2020-05-14 15:29:45,349 - DEBUG - ISO-8859-5 Russian confidence = 0.01\n",
      "2020-05-14 15:29:45,350 - DEBUG - MacCyrillic Russian confidence = 0.0\n",
      "2020-05-14 15:29:45,350 - DEBUG - IBM866 Russian confidence = 0.0\n",
      "2020-05-14 15:29:45,351 - DEBUG - IBM855 Russian confidence = 0.01\n",
      "2020-05-14 15:29:45,352 - DEBUG - ISO-8859-7 Greek confidence = 0.0\n",
      "2020-05-14 15:29:45,352 - DEBUG - windows-1253 Greek confidence = 0.0\n",
      "2020-05-14 15:29:45,353 - DEBUG - ISO-8859-5 Bulgairan confidence = 0.0\n",
      "2020-05-14 15:29:45,353 - DEBUG - windows-1251 Bulgarian confidence = 0.0\n",
      "2020-05-14 15:29:45,354 - DEBUG - TIS-620 Thai confidence = 0.01\n",
      "2020-05-14 15:29:45,354 - DEBUG - ISO-8859-9 Turkish confidence = 0.40454416717239094\n",
      "2020-05-14 15:29:45,355 - DEBUG - windows-1255 Hebrew confidence = 0.0\n",
      "2020-05-14 15:29:45,356 - DEBUG - windows-1255 Hebrew confidence = 0.0\n",
      "2020-05-14 15:29:45,357 - DEBUG - windows-1255 Hebrew confidence = 0.0\n",
      "2020-05-14 15:29:45,357 - DEBUG - utf-8  confidence = 0.99\n",
      "2020-05-14 15:29:45,358 - DEBUG - SHIFT_JIS Japanese confidence = 0.01\n",
      "2020-05-14 15:29:45,358 - DEBUG - EUC-JP Japanese confidence = 0.01\n",
      "2020-05-14 15:29:45,359 - DEBUG - GB2312 Chinese confidence = 0.01\n",
      "2020-05-14 15:29:45,359 - DEBUG - EUC-KR Korean confidence = 0.01\n",
      "2020-05-14 15:29:45,360 - DEBUG - CP949 Korean confidence = 0.01\n",
      "2020-05-14 15:29:45,361 - DEBUG - Big5 Chinese confidence = 0.01\n",
      "2020-05-14 15:29:45,361 - DEBUG - EUC-TW Taiwan confidence = 0.01\n",
      "2020-05-14 15:29:45,414 - DEBUG - Starting new HTTPS connection (1): www.bharian.com.my:443\n",
      "2020-05-14 15:29:46,046 - DEBUG - https://www.bharian.com.my:443 \"GET /berita/nasional/2018/12/505031/patriot-gesa-penjelasan-bekas-menteri-pertahanan-isu-ops-yaman-2 HTTP/1.1\" 200 None\n",
      "2020-05-14 15:29:46,197 - DEBUG - Starting new HTTPS connection (1): www.bharian.com.my:443\n",
      "2020-05-14 15:29:46,277 - DEBUG - https://www.bharian.com.my:443 \"GET /berita/nasional/2018/12/505031/patriot-gesa-penjelasan-bekas-menteri-pertahanan-isu-ops-yaman-2 HTTP/1.1\" 200 None\n"
     ]
    },
    {
     "name": "stdout",
     "output_type": "stream",
     "text": [
      "found BM/ID article\n"
     ]
    },
    {
     "name": "stderr",
     "output_type": "stream",
     "text": [
      "2020-05-14 15:29:46,450 - DEBUG - Starting new HTTP connection (1): www.astroawani.com:80\n",
      "2020-05-14 15:29:47,955 - DEBUG - http://www.astroawani.com:80 \"GET /berita-dunia/krisis-fahaman-syiah-dan-sunni-di-yaman-makin-getir-162074 HTTP/1.1\" 200 18707\n",
      "2020-05-14 15:29:48,087 - DEBUG - Starting new HTTP connection (1): www.astroawani.com:80\n",
      "2020-05-14 15:29:48,264 - DEBUG - http://www.astroawani.com:80 \"GET /berita-dunia/krisis-fahaman-syiah-dan-sunni-di-yaman-makin-getir-162074 HTTP/1.1\" 200 18707\n"
     ]
    },
    {
     "name": "stdout",
     "output_type": "stream",
     "text": [
      "found BM/ID article\n"
     ]
    },
    {
     "name": "stderr",
     "output_type": "stream",
     "text": [
      "2020-05-14 15:29:48,406 - DEBUG - Starting new HTTPS connection (1): www.bharian.com.my:443\n",
      "2020-05-14 15:29:49,489 - DEBUG - https://www.bharian.com.my:443 \"GET /berita/nasional/2018/01/379620/malaysia-gesa-masyarakat-dunia-bantu-yaman HTTP/1.1\" 200 None\n",
      "2020-05-14 15:29:49,633 - DEBUG - Starting new HTTPS connection (1): www.bharian.com.my:443\n",
      "2020-05-14 15:29:49,718 - DEBUG - https://www.bharian.com.my:443 \"GET /berita/nasional/2018/01/379620/malaysia-gesa-masyarakat-dunia-bantu-yaman HTTP/1.1\" 200 None\n"
     ]
    },
    {
     "name": "stdout",
     "output_type": "stream",
     "text": [
      "found BM/ID article\n"
     ]
    },
    {
     "name": "stderr",
     "output_type": "stream",
     "text": [
      "2020-05-14 15:29:49,879 - DEBUG - Starting new HTTPS connection (1): www.bharian.com.my:443\n",
      "2020-05-14 15:29:50,638 - DEBUG - https://www.bharian.com.my:443 \"GET /berita/nasional/2018/01/377852/oic-malaysia-hadiri-mesyuarat-bincang-serangan-yaman HTTP/1.1\" 200 None\n",
      "2020-05-14 15:29:50,784 - DEBUG - Starting new HTTPS connection (1): www.bharian.com.my:443\n",
      "2020-05-14 15:29:50,875 - DEBUG - https://www.bharian.com.my:443 \"GET /berita/nasional/2018/01/377852/oic-malaysia-hadiri-mesyuarat-bincang-serangan-yaman HTTP/1.1\" 200 None\n"
     ]
    },
    {
     "name": "stdout",
     "output_type": "stream",
     "text": [
      "found BM/ID article\n"
     ]
    },
    {
     "name": "stderr",
     "output_type": "stream",
     "text": [
      "2020-05-14 15:29:51,032 - DEBUG - Starting new HTTPS connection (1): www.bharian.com.my:443\n",
      "2020-05-14 15:29:51,828 - DEBUG - https://www.bharian.com.my:443 \"GET /berita/nasional/2018/06/442628/tentera-malaysia-di-arab-saudi-akan-dibawa-pulang HTTP/1.1\" 200 None\n",
      "2020-05-14 15:29:51,972 - DEBUG - Starting new HTTPS connection (1): www.bharian.com.my:443\n",
      "2020-05-14 15:29:52,060 - DEBUG - https://www.bharian.com.my:443 \"GET /berita/nasional/2018/06/442628/tentera-malaysia-di-arab-saudi-akan-dibawa-pulang HTTP/1.1\" 200 None\n"
     ]
    },
    {
     "name": "stdout",
     "output_type": "stream",
     "text": [
      "found BM/ID article\n"
     ]
    },
    {
     "name": "stderr",
     "output_type": "stream",
     "text": [
      "2020-05-14 15:29:52,204 - DEBUG - Starting new HTTP connection (1): www.astroawani.com:80\n",
      "2020-05-14 15:29:53,487 - DEBUG - http://www.astroawani.com:80 \"GET /berita-dunia/yaman-bedil-barat-daya-jizan-di-arab-saudi-180899 HTTP/1.1\" 200 16588\n",
      "2020-05-14 15:29:53,600 - DEBUG - Starting new HTTP connection (1): www.astroawani.com:80\n",
      "2020-05-14 15:29:53,782 - DEBUG - http://www.astroawani.com:80 \"GET /berita-dunia/yaman-bedil-barat-daya-jizan-di-arab-saudi-180899 HTTP/1.1\" 200 16588\n"
     ]
    },
    {
     "name": "stdout",
     "output_type": "stream",
     "text": [
      "found BM/ID article\n"
     ]
    },
    {
     "name": "stderr",
     "output_type": "stream",
     "text": [
      "2020-05-14 15:29:53,913 - DEBUG - Starting new HTTPS connection (1): www.sinarharian.com.my:443\n",
      "2020-05-14 15:29:54,337 - DEBUG - https://www.sinarharian.com.my:443 \"GET /article/33386/BERITA/Nasional/Pelarian-Yaman-di-Malaysia-serah-memorandum-kepada-UNCHR HTTP/1.1\" 200 None\n",
      "2020-05-14 15:29:54,470 - DEBUG - Starting new HTTPS connection (1): www.bharian.com.my:443\n",
      "2020-05-14 15:29:55,123 - DEBUG - https://www.bharian.com.my:443 \"GET /berita/nasional/2018/12/508248/tiada-pencerobohan-ruang-udara-chin-tong HTTP/1.1\" 200 None\n",
      "2020-05-14 15:29:55,275 - DEBUG - Starting new HTTPS connection (1): www.bharian.com.my:443\n",
      "2020-05-14 15:29:55,355 - DEBUG - https://www.bharian.com.my:443 \"GET /berita/nasional/2018/12/508248/tiada-pencerobohan-ruang-udara-chin-tong HTTP/1.1\" 200 None\n"
     ]
    },
    {
     "name": "stdout",
     "output_type": "stream",
     "text": [
      "found BM/ID article\n"
     ]
    },
    {
     "name": "stderr",
     "output_type": "stream",
     "text": [
      "2020-05-14 15:29:55,527 - DEBUG - Starting new HTTPS connection (1): www.bharian.com.my:443\n",
      "2020-05-14 15:29:56,193 - DEBUG - https://www.bharian.com.my:443 \"GET /dunia/amerika/2019/09/607661/bukti-tunjuk-iran-sebagai-dalang HTTP/1.1\" 200 None\n",
      "2020-05-14 15:29:56,348 - DEBUG - Starting new HTTPS connection (1): www.bharian.com.my:443\n",
      "2020-05-14 15:29:56,425 - DEBUG - https://www.bharian.com.my:443 \"GET /dunia/amerika/2019/09/607661/bukti-tunjuk-iran-sebagai-dalang HTTP/1.1\" 200 None\n"
     ]
    },
    {
     "name": "stdout",
     "output_type": "stream",
     "text": [
      "found BM/ID article\n"
     ]
    },
    {
     "name": "stderr",
     "output_type": "stream",
     "text": [
      "2020-05-14 15:29:56,621 - DEBUG - Starting new HTTPS connection (1): www.hmetro.com.my:443\n",
      "2020-05-14 15:29:57,579 - DEBUG - https://www.hmetro.com.my:443 \"GET /node/181604 HTTP/1.1\" 200 None\n",
      "2020-05-14 15:29:57,704 - DEBUG - Starting new HTTPS connection (1): www.hmetro.com.my:443\n",
      "2020-05-14 15:29:57,784 - DEBUG - https://www.hmetro.com.my:443 \"GET /node/181604 HTTP/1.1\" 200 None\n"
     ]
    },
    {
     "name": "stdout",
     "output_type": "stream",
     "text": [
      "found BM/ID article\n"
     ]
    },
    {
     "name": "stderr",
     "output_type": "stream",
     "text": [
      "2020-05-14 15:30:07,918 - DEBUG - Starting new HTTPS connection (1): www.google.com.my:443\n",
      "2020-05-14 15:30:08,034 - DEBUG - https://www.google.com.my:443 \"GET /search?q=isu+yaman&source=lnt&tbs=cdr%3A1%2Ccd_min%3A2000%2Ccd_max%3A2021&tbm=nws&start=10 HTTP/1.1\" 200 None\n",
      "2020-05-14 15:30:09,066 - DEBUG - utf-8  confidence = 0.99\n",
      "2020-05-14 15:30:09,067 - DEBUG - SHIFT_JIS Japanese confidence = 0.01\n",
      "2020-05-14 15:30:09,068 - DEBUG - EUC-JP Japanese confidence = 0.01\n",
      "2020-05-14 15:30:09,068 - DEBUG - GB2312 Chinese confidence = 0.01\n",
      "2020-05-14 15:30:09,069 - DEBUG - EUC-KR Korean confidence = 0.01\n",
      "2020-05-14 15:30:09,069 - DEBUG - CP949 Korean confidence = 0.01\n",
      "2020-05-14 15:30:09,070 - DEBUG - Big5 Chinese confidence = 0.01\n",
      "2020-05-14 15:30:09,070 - DEBUG - EUC-TW Taiwan confidence = 0.01\n",
      "2020-05-14 15:30:09,071 - DEBUG - windows-1251 Russian confidence = 0.01\n",
      "2020-05-14 15:30:09,072 - DEBUG - KOI8-R Russian confidence = 0.01\n",
      "2020-05-14 15:30:09,072 - DEBUG - ISO-8859-5 Russian confidence = 0.01\n",
      "2020-05-14 15:30:09,073 - DEBUG - MacCyrillic Russian confidence = 0.0\n",
      "2020-05-14 15:30:09,073 - DEBUG - IBM866 Russian confidence = 0.0\n",
      "2020-05-14 15:30:09,074 - DEBUG - IBM855 Russian confidence = 0.01\n",
      "2020-05-14 15:30:09,074 - DEBUG - ISO-8859-7 Greek confidence = 0.0\n",
      "2020-05-14 15:30:09,075 - DEBUG - windows-1253 Greek confidence = 0.0\n",
      "2020-05-14 15:30:09,075 - DEBUG - ISO-8859-5 Bulgairan confidence = 0.01\n",
      "2020-05-14 15:30:09,076 - DEBUG - windows-1251 Bulgarian confidence = 0.01\n",
      "2020-05-14 15:30:09,076 - DEBUG - TIS-620 Thai confidence = 0.01\n",
      "2020-05-14 15:30:09,077 - DEBUG - ISO-8859-9 Turkish confidence = 0.4046177878585389\n",
      "2020-05-14 15:30:09,077 - DEBUG - windows-1255 Hebrew confidence = 0.0\n",
      "2020-05-14 15:30:09,078 - DEBUG - windows-1255 Hebrew confidence = 0.0\n",
      "2020-05-14 15:30:09,079 - DEBUG - windows-1255 Hebrew confidence = 0.0\n",
      "2020-05-14 15:30:09,079 - DEBUG - utf-8  confidence = 0.99\n",
      "2020-05-14 15:30:09,080 - DEBUG - SHIFT_JIS Japanese confidence = 0.01\n",
      "2020-05-14 15:30:09,080 - DEBUG - EUC-JP Japanese confidence = 0.01\n",
      "2020-05-14 15:30:09,080 - DEBUG - GB2312 Chinese confidence = 0.01\n",
      "2020-05-14 15:30:09,081 - DEBUG - EUC-KR Korean confidence = 0.01\n",
      "2020-05-14 15:30:09,081 - DEBUG - CP949 Korean confidence = 0.01\n",
      "2020-05-14 15:30:09,082 - DEBUG - Big5 Chinese confidence = 0.01\n",
      "2020-05-14 15:30:09,082 - DEBUG - EUC-TW Taiwan confidence = 0.01\n",
      "2020-05-14 15:30:09,147 - DEBUG - Starting new HTTPS connection (1): harakahdaily.net:443\n",
      "2020-05-14 15:30:16,215 - DEBUG - Download failed on URL https://harakahdaily.net/index.php/2017/12/03/konflik-yaman-antara-naratif-sunni-syiah-dan-geopolitik-kuasa-serantau/ because of HTTPSConnectionPool(host='harakahdaily.net', port=443): Read timed out. (read timeout=7)\n",
      "2020-05-14 15:30:16,232 - DEBUG - Starting new HTTPS connection (1): www.malaysiakini.com:443\n",
      "2020-05-14 15:30:16,493 - DEBUG - https://www.malaysiakini.com:443 \"GET /news/367336 HTTP/1.1\" 200 None\n",
      "2020-05-14 15:30:16,602 - DEBUG - Starting new HTTPS connection (1): www.malaysiakini.com:443\n",
      "2020-05-14 15:30:16,678 - DEBUG - https://www.malaysiakini.com:443 \"GET /news/367336 HTTP/1.1\" 200 None\n"
     ]
    },
    {
     "name": "stdout",
     "output_type": "stream",
     "text": [
      "found BM/ID article\n"
     ]
    },
    {
     "name": "stderr",
     "output_type": "stream",
     "text": [
      "2020-05-14 15:30:16,807 - DEBUG - Starting new HTTP connection (1): www.astroawani.com:80\n",
      "2020-05-14 15:30:18,133 - DEBUG - http://www.astroawani.com:80 \"GET /berita-dunia/lebih-7-juta-kanak-kanak-yaman-berdepan-kebuluran-189983 HTTP/1.1\" 200 16701\n",
      "2020-05-14 15:30:18,256 - DEBUG - Starting new HTTP connection (1): www.astroawani.com:80\n",
      "2020-05-14 15:30:18,430 - DEBUG - http://www.astroawani.com:80 \"GET /berita-dunia/lebih-7-juta-kanak-kanak-yaman-berdepan-kebuluran-189983 HTTP/1.1\" 200 16701\n"
     ]
    },
    {
     "name": "stdout",
     "output_type": "stream",
     "text": [
      "found BM/ID article\n"
     ]
    },
    {
     "name": "stderr",
     "output_type": "stream",
     "text": [
      "2020-05-14 15:30:18,579 - DEBUG - Starting new HTTPS connection (1): www.bharian.com.my:443\n",
      "2020-05-14 15:30:20,127 - DEBUG - https://www.bharian.com.my:443 \"GET /berita/nasional/2018/04/407402/krisis-perubatan-yaman-kian-kritikal HTTP/1.1\" 200 None\n",
      "2020-05-14 15:30:20,288 - DEBUG - Starting new HTTPS connection (1): www.bharian.com.my:443\n",
      "2020-05-14 15:30:20,363 - DEBUG - https://www.bharian.com.my:443 \"GET /berita/nasional/2018/04/407402/krisis-perubatan-yaman-kian-kritikal HTTP/1.1\" 200 None\n"
     ]
    },
    {
     "name": "stdout",
     "output_type": "stream",
     "text": [
      "found BM/ID article\n"
     ]
    },
    {
     "name": "stderr",
     "output_type": "stream",
     "text": [
      "2020-05-14 15:30:20,521 - DEBUG - Starting new HTTPS connection (1): www.hmetro.com.my:443\n",
      "2020-05-14 15:30:22,432 - DEBUG - https://www.hmetro.com.my:443 \"GET /mutakhir/2019/10/511106/isu-kemanusiaan-perlu-dihayati HTTP/1.1\" 200 None\n",
      "2020-05-14 15:30:22,550 - DEBUG - Starting new HTTPS connection (1): www.hmetro.com.my:443\n",
      "2020-05-14 15:30:22,690 - DEBUG - https://www.hmetro.com.my:443 \"GET /mutakhir/2019/10/511106/isu-kemanusiaan-perlu-dihayati HTTP/1.1\" 200 None\n"
     ]
    },
    {
     "name": "stdout",
     "output_type": "stream",
     "text": [
      "found BM/ID article\n"
     ]
    },
    {
     "name": "stderr",
     "output_type": "stream",
     "text": [
      "2020-05-14 15:30:22,812 - DEBUG - Starting new HTTPS connection (1): www.hmetro.com.my:443\n",
      "2020-05-14 15:30:24,642 - DEBUG - https://www.hmetro.com.my:443 \"GET /mutakhir/2017/02/207167/fahami-air-mata-yaman HTTP/1.1\" 200 None\n",
      "2020-05-14 15:30:24,772 - DEBUG - Starting new HTTPS connection (1): www.hmetro.com.my:443\n",
      "2020-05-14 15:30:24,866 - DEBUG - https://www.hmetro.com.my:443 \"GET /mutakhir/2017/02/207167/fahami-air-mata-yaman HTTP/1.1\" 200 None\n"
     ]
    },
    {
     "name": "stdout",
     "output_type": "stream",
     "text": [
      "found BM/ID article\n"
     ]
    },
    {
     "name": "stderr",
     "output_type": "stream",
     "text": [
      "2020-05-14 15:30:25,022 - DEBUG - Starting new HTTP connection (1): www.astroawani.com:80\n",
      "2020-05-14 15:30:26,355 - DEBUG - http://www.astroawani.com:80 \"GET /berita-dunia/arab-saudi-gagal-bela-yaman-masyarakat-islam-australia-boikot-industri-haji-213669 HTTP/1.1\" 200 17492\n",
      "2020-05-14 15:30:26,473 - DEBUG - Starting new HTTP connection (1): www.astroawani.com:80\n",
      "2020-05-14 15:30:26,650 - DEBUG - http://www.astroawani.com:80 \"GET /berita-dunia/arab-saudi-gagal-bela-yaman-masyarakat-islam-australia-boikot-industri-haji-213669 HTTP/1.1\" 200 17492\n"
     ]
    },
    {
     "name": "stdout",
     "output_type": "stream",
     "text": [
      "found BM/ID article\n"
     ]
    },
    {
     "name": "stderr",
     "output_type": "stream",
     "text": [
      "2020-05-14 15:30:26,804 - DEBUG - Starting new HTTPS connection (1): www.merdeka.com:443\n",
      "2020-05-14 15:30:26,936 - DEBUG - https://www.merdeka.com:443 \"GET /khas/permainan-berbahaya-di-yaman-2.html HTTP/1.1\" 200 None\n",
      "2020-05-14 15:30:27,023 - DEBUG - Starting new HTTPS connection (1): www.merdeka.com:443\n",
      "2020-05-14 15:30:27,122 - DEBUG - https://www.merdeka.com:443 \"GET /khas/permainan-berbahaya-di-yaman-2.html HTTP/1.1\" 200 None\n",
      "2020-05-14 15:30:27,215 - DEBUG - Starting new HTTPS connection (1): www.bharian.com.my:443\n"
     ]
    },
    {
     "name": "stdout",
     "output_type": "stream",
     "text": [
      "found BM/ID article\n"
     ]
    },
    {
     "name": "stderr",
     "output_type": "stream",
     "text": [
      "2020-05-14 15:30:28,812 - DEBUG - https://www.bharian.com.my:443 \"GET /berita/nasional/2018/10/482021/mra-kutuk-pembunuhan-pengarah-cssw-yaman HTTP/1.1\" 200 None\n",
      "2020-05-14 15:30:28,949 - DEBUG - Starting new HTTPS connection (1): www.bharian.com.my:443\n",
      "2020-05-14 15:30:29,031 - DEBUG - https://www.bharian.com.my:443 \"GET /berita/nasional/2018/10/482021/mra-kutuk-pembunuhan-pengarah-cssw-yaman HTTP/1.1\" 200 None\n"
     ]
    },
    {
     "name": "stdout",
     "output_type": "stream",
     "text": [
      "found BM/ID article\n"
     ]
    },
    {
     "name": "stderr",
     "output_type": "stream",
     "text": [
      "2020-05-14 15:30:29,173 - DEBUG - Starting new HTTPS connection (1): www.bharian.com.my:443\n",
      "2020-05-14 15:30:30,143 - DEBUG - https://www.bharian.com.my:443 \"GET /berita/nasional/2017/08/316476/mll4s-bina-sekolah-pelarian-di-yaman HTTP/1.1\" 200 None\n",
      "2020-05-14 15:30:30,283 - DEBUG - Starting new HTTPS connection (1): www.bharian.com.my:443\n",
      "2020-05-14 15:30:30,371 - DEBUG - https://www.bharian.com.my:443 \"GET /berita/nasional/2017/08/316476/mll4s-bina-sekolah-pelarian-di-yaman HTTP/1.1\" 200 None\n"
     ]
    },
    {
     "name": "stdout",
     "output_type": "stream",
     "text": [
      "found BM/ID article\n"
     ]
    },
    {
     "name": "stderr",
     "output_type": "stream",
     "text": [
      "2020-05-14 15:30:40,528 - DEBUG - Starting new HTTPS connection (1): www.google.com.my:443\n",
      "2020-05-14 15:30:40,648 - DEBUG - https://www.google.com.my:443 \"GET /search?q=isu+yaman&source=lnt&tbs=cdr%3A1%2Ccd_min%3A2000%2Ccd_max%3A2021&tbm=nws&start=20 HTTP/1.1\" 200 None\n",
      "2020-05-14 15:30:41,781 - DEBUG - utf-8  confidence = 0.99\n",
      "2020-05-14 15:30:41,782 - DEBUG - SHIFT_JIS Japanese confidence = 0.01\n",
      "2020-05-14 15:30:41,783 - DEBUG - EUC-JP Japanese confidence = 0.01\n",
      "2020-05-14 15:30:41,783 - DEBUG - GB2312 Chinese confidence = 0.01\n",
      "2020-05-14 15:30:41,784 - DEBUG - EUC-KR Korean confidence = 0.01\n",
      "2020-05-14 15:30:41,784 - DEBUG - CP949 Korean confidence = 0.01\n",
      "2020-05-14 15:30:41,785 - DEBUG - Big5 Chinese confidence = 0.01\n",
      "2020-05-14 15:30:41,785 - DEBUG - EUC-TW Taiwan confidence = 0.01\n",
      "2020-05-14 15:30:41,786 - DEBUG - windows-1251 Russian confidence = 0.01\n",
      "2020-05-14 15:30:41,786 - DEBUG - KOI8-R Russian confidence = 0.01\n",
      "2020-05-14 15:30:41,787 - DEBUG - ISO-8859-5 Russian confidence = 0.01\n",
      "2020-05-14 15:30:41,787 - DEBUG - MacCyrillic Russian confidence = 0.0\n",
      "2020-05-14 15:30:41,788 - DEBUG - IBM866 Russian confidence = 0.0\n",
      "2020-05-14 15:30:41,788 - DEBUG - IBM855 Russian confidence = 0.01\n",
      "2020-05-14 15:30:41,789 - DEBUG - ISO-8859-7 Greek confidence = 0.0\n",
      "2020-05-14 15:30:41,789 - DEBUG - windows-1253 Greek confidence = 0.0\n",
      "2020-05-14 15:30:41,790 - DEBUG - ISO-8859-5 Bulgairan confidence = 0.0\n",
      "2020-05-14 15:30:41,790 - DEBUG - windows-1251 Bulgarian confidence = 0.0\n",
      "2020-05-14 15:30:41,791 - DEBUG - TIS-620 Thai confidence = 0.01\n",
      "2020-05-14 15:30:41,791 - DEBUG - ISO-8859-9 Turkish confidence = 0.40623503438885517\n",
      "2020-05-14 15:30:41,791 - DEBUG - windows-1255 Hebrew confidence = 0.0\n",
      "2020-05-14 15:30:41,792 - DEBUG - windows-1255 Hebrew confidence = 0.0\n",
      "2020-05-14 15:30:41,792 - DEBUG - windows-1255 Hebrew confidence = 0.0\n",
      "2020-05-14 15:30:41,793 - DEBUG - utf-8  confidence = 0.99\n",
      "2020-05-14 15:30:41,793 - DEBUG - SHIFT_JIS Japanese confidence = 0.01\n",
      "2020-05-14 15:30:41,794 - DEBUG - EUC-JP Japanese confidence = 0.01\n",
      "2020-05-14 15:30:41,794 - DEBUG - GB2312 Chinese confidence = 0.01\n",
      "2020-05-14 15:30:41,795 - DEBUG - EUC-KR Korean confidence = 0.01\n",
      "2020-05-14 15:30:41,796 - DEBUG - CP949 Korean confidence = 0.01\n",
      "2020-05-14 15:30:41,796 - DEBUG - Big5 Chinese confidence = 0.01\n",
      "2020-05-14 15:30:41,797 - DEBUG - EUC-TW Taiwan confidence = 0.01\n",
      "2020-05-14 15:30:41,835 - DEBUG - Starting new HTTPS connection (1): www.malaysiakini.com:443\n",
      "2020-05-14 15:30:42,060 - DEBUG - https://www.malaysiakini.com:443 \"GET /news/368476 HTTP/1.1\" 200 None\n",
      "2020-05-14 15:30:42,152 - DEBUG - Starting new HTTPS connection (1): www.malaysiakini.com:443\n",
      "2020-05-14 15:30:42,230 - DEBUG - https://www.malaysiakini.com:443 \"GET /news/368476 HTTP/1.1\" 200 None\n",
      "2020-05-14 15:30:42,326 - DEBUG - Starting new HTTPS connection (1): www.bharian.com.my:443\n"
     ]
    },
    {
     "name": "stdout",
     "output_type": "stream",
     "text": [
      "found BM/ID article\n"
     ]
    },
    {
     "name": "stderr",
     "output_type": "stream",
     "text": [
      "2020-05-14 15:30:43,151 - DEBUG - https://www.bharian.com.my:443 \"GET /berita/kes/2019/09/606482/54-pengikut-syiah-termasuk-warga-asing-ditahan HTTP/1.1\" 200 None\n",
      "2020-05-14 15:30:43,288 - DEBUG - Starting new HTTPS connection (1): www.bharian.com.my:443\n",
      "2020-05-14 15:30:43,379 - DEBUG - https://www.bharian.com.my:443 \"GET /berita/kes/2019/09/606482/54-pengikut-syiah-termasuk-warga-asing-ditahan HTTP/1.1\" 200 None\n"
     ]
    },
    {
     "name": "stdout",
     "output_type": "stream",
     "text": [
      "found BM/ID article\n"
     ]
    },
    {
     "name": "stderr",
     "output_type": "stream",
     "text": [
      "2020-05-14 15:30:43,522 - DEBUG - Starting new HTTPS connection (1): www.bharian.com.my:443\n",
      "2020-05-14 15:30:44,340 - DEBUG - https://www.bharian.com.my:443 \"GET /berita/nasional/2018/01/379107/oic-digesa-perkasa-peranan-tangani-pengganas HTTP/1.1\" 200 None\n",
      "2020-05-14 15:30:44,487 - DEBUG - Starting new HTTPS connection (1): www.bharian.com.my:443\n",
      "2020-05-14 15:30:44,569 - DEBUG - https://www.bharian.com.my:443 \"GET /berita/nasional/2018/01/379107/oic-digesa-perkasa-peranan-tangani-pengganas HTTP/1.1\" 200 None\n"
     ]
    },
    {
     "name": "stdout",
     "output_type": "stream",
     "text": [
      "found BM/ID article\n"
     ]
    },
    {
     "name": "stderr",
     "output_type": "stream",
     "text": [
      "2020-05-14 15:30:44,727 - DEBUG - Starting new HTTP connection (1): www.astroawani.com:80\n",
      "2020-05-14 15:30:45,918 - DEBUG - http://www.astroawani.com:80 \"GET /berita-malaysia/dakwaan-pakatan-negara-arab-bunuh-rakyat-yaman-tidak-benar-duta-yaman-187882 HTTP/1.1\" 200 15629\n",
      "2020-05-14 15:30:46,032 - DEBUG - Starting new HTTP connection (1): www.astroawani.com:80\n",
      "2020-05-14 15:30:46,201 - DEBUG - http://www.astroawani.com:80 \"GET /berita-malaysia/dakwaan-pakatan-negara-arab-bunuh-rakyat-yaman-tidak-benar-duta-yaman-187882 HTTP/1.1\" 200 15629\n"
     ]
    },
    {
     "name": "stdout",
     "output_type": "stream",
     "text": [
      "found BM/ID article\n"
     ]
    },
    {
     "name": "stderr",
     "output_type": "stream",
     "text": [
      "2020-05-14 15:30:46,315 - DEBUG - Starting new HTTPS connection (1): www.malaysiakini.com:443\n",
      "2020-05-14 15:30:46,733 - DEBUG - https://www.malaysiakini.com:443 \"GET /news/438579 HTTP/1.1\" 200 None\n",
      "2020-05-14 15:30:46,822 - DEBUG - Starting new HTTPS connection (1): www.malaysiakini.com:443\n",
      "2020-05-14 15:30:46,911 - DEBUG - https://www.malaysiakini.com:443 \"GET /news/438579 HTTP/1.1\" 200 None\n"
     ]
    },
    {
     "name": "stdout",
     "output_type": "stream",
     "text": [
      "found BM/ID article\n"
     ]
    },
    {
     "name": "stderr",
     "output_type": "stream",
     "text": [
      "2020-05-14 15:30:47,025 - DEBUG - Starting new HTTPS connection (1): www.hmetro.com.my:443\n",
      "2020-05-14 15:30:48,069 - DEBUG - https://www.hmetro.com.my:443 \"GET /node/205005 HTTP/1.1\" 200 None\n",
      "2020-05-14 15:30:48,210 - DEBUG - Starting new HTTPS connection (1): www.hmetro.com.my:443\n",
      "2020-05-14 15:30:48,283 - DEBUG - https://www.hmetro.com.my:443 \"GET /node/205005 HTTP/1.1\" 200 None\n"
     ]
    },
    {
     "name": "stdout",
     "output_type": "stream",
     "text": [
      "found BM/ID article\n"
     ]
    },
    {
     "name": "stderr",
     "output_type": "stream",
     "text": [
      "2020-05-14 15:30:48,431 - DEBUG - Starting new HTTPS connection (1): www.hmetro.com.my:443\n",
      "2020-05-14 15:30:50,039 - DEBUG - https://www.hmetro.com.my:443 \"GET /mutakhir/2017/02/203641/bencana-perang HTTP/1.1\" 200 None\n",
      "2020-05-14 15:30:50,163 - DEBUG - Starting new HTTPS connection (1): www.hmetro.com.my:443\n",
      "2020-05-14 15:30:50,310 - DEBUG - https://www.hmetro.com.my:443 \"GET /mutakhir/2017/02/203641/bencana-perang HTTP/1.1\" 200 None\n"
     ]
    },
    {
     "name": "stdout",
     "output_type": "stream",
     "text": [
      "found BM/ID article\n"
     ]
    },
    {
     "name": "stderr",
     "output_type": "stream",
     "text": [
      "2020-05-14 15:30:50,440 - DEBUG - Starting new HTTPS connection (1): www.hmetro.com.my:443\n",
      "2020-05-14 15:30:51,064 - DEBUG - https://www.hmetro.com.my:443 \"GET /mutakhir/2017/12/295736/krisis-kemanusiaan-di-yaman-kritikal HTTP/1.1\" 200 None\n",
      "2020-05-14 15:30:51,178 - DEBUG - Starting new HTTPS connection (1): www.hmetro.com.my:443\n",
      "2020-05-14 15:30:51,256 - DEBUG - https://www.hmetro.com.my:443 \"GET /mutakhir/2017/12/295736/krisis-kemanusiaan-di-yaman-kritikal HTTP/1.1\" 200 None\n",
      "2020-05-14 15:30:51,371 - DEBUG - Starting new HTTPS connection (1): www.bharian.com.my:443\n"
     ]
    },
    {
     "name": "stdout",
     "output_type": "stream",
     "text": [
      "found BM/ID article\n"
     ]
    },
    {
     "name": "stderr",
     "output_type": "stream",
     "text": [
      "2020-05-14 15:30:53,493 - DEBUG - https://www.bharian.com.my:443 \"GET /node/254582 HTTP/1.1\" 200 None\n",
      "2020-05-14 15:30:53,633 - DEBUG - Starting new HTTPS connection (1): www.bharian.com.my:443\n",
      "2020-05-14 15:30:53,716 - DEBUG - https://www.bharian.com.my:443 \"GET /node/254582 HTTP/1.1\" 200 None\n"
     ]
    },
    {
     "name": "stdout",
     "output_type": "stream",
     "text": [
      "found BM/ID article\n"
     ]
    },
    {
     "name": "stderr",
     "output_type": "stream",
     "text": [
      "2020-05-14 15:30:53,866 - DEBUG - Starting new HTTPS connection (1): www.bharian.com.my:443\n",
      "2020-05-14 15:30:55,236 - DEBUG - https://www.bharian.com.my:443 \"GET /berita/nasional/2018/11/501235/pantau-ucapan-berbaur-kebencian-patriot HTTP/1.1\" 200 None\n",
      "2020-05-14 15:30:55,380 - DEBUG - Starting new HTTPS connection (1): www.bharian.com.my:443\n",
      "2020-05-14 15:30:55,464 - DEBUG - https://www.bharian.com.my:443 \"GET /berita/nasional/2018/11/501235/pantau-ucapan-berbaur-kebencian-patriot HTTP/1.1\" 200 None\n"
     ]
    },
    {
     "name": "stdout",
     "output_type": "stream",
     "text": [
      "found BM/ID article\n"
     ]
    },
    {
     "name": "stderr",
     "output_type": "stream",
     "text": [
      "2020-05-14 15:31:05,625 - DEBUG - Starting new HTTPS connection (1): www.google.com.my:443\n",
      "2020-05-14 15:31:05,751 - DEBUG - https://www.google.com.my:443 \"GET /search?q=isu+yaman&source=lnt&tbs=cdr%3A1%2Ccd_min%3A2000%2Ccd_max%3A2021&tbm=nws&start=30 HTTP/1.1\" 200 None\n",
      "2020-05-14 15:31:06,956 - DEBUG - utf-8  confidence = 0.99\n",
      "2020-05-14 15:31:06,956 - DEBUG - SHIFT_JIS Japanese confidence = 0.01\n",
      "2020-05-14 15:31:06,957 - DEBUG - EUC-JP Japanese confidence = 0.01\n",
      "2020-05-14 15:31:06,957 - DEBUG - GB2312 Chinese confidence = 0.01\n",
      "2020-05-14 15:31:06,957 - DEBUG - EUC-KR Korean confidence = 0.01\n",
      "2020-05-14 15:31:06,958 - DEBUG - CP949 Korean confidence = 0.01\n",
      "2020-05-14 15:31:06,958 - DEBUG - Big5 Chinese confidence = 0.01\n",
      "2020-05-14 15:31:06,959 - DEBUG - EUC-TW Taiwan confidence = 0.01\n",
      "2020-05-14 15:31:06,959 - DEBUG - windows-1251 Russian confidence = 0.01\n",
      "2020-05-14 15:31:06,960 - DEBUG - KOI8-R Russian confidence = 0.01\n",
      "2020-05-14 15:31:06,961 - DEBUG - ISO-8859-5 Russian confidence = 0.01\n",
      "2020-05-14 15:31:06,961 - DEBUG - MacCyrillic Russian confidence = 0.01\n",
      "2020-05-14 15:31:06,961 - DEBUG - IBM866 Russian confidence = 0.01\n",
      "2020-05-14 15:31:06,962 - DEBUG - IBM855 Russian confidence = 0.01\n",
      "2020-05-14 15:31:06,962 - DEBUG - ISO-8859-7 Greek confidence = 0.0\n",
      "2020-05-14 15:31:06,963 - DEBUG - windows-1253 Greek confidence = 0.0\n",
      "2020-05-14 15:31:06,963 - DEBUG - ISO-8859-5 Bulgairan confidence = 0.01\n",
      "2020-05-14 15:31:06,964 - DEBUG - windows-1251 Bulgarian confidence = 0.01\n",
      "2020-05-14 15:31:06,964 - DEBUG - TIS-620 Thai confidence = 0.01\n",
      "2020-05-14 15:31:06,965 - DEBUG - ISO-8859-9 Turkish confidence = 0.4129228759321391\n",
      "2020-05-14 15:31:06,966 - DEBUG - windows-1255 Hebrew confidence = 0.0\n",
      "2020-05-14 15:31:06,966 - DEBUG - windows-1255 Hebrew confidence = 0.0\n",
      "2020-05-14 15:31:06,967 - DEBUG - windows-1255 Hebrew confidence = 0.0\n",
      "2020-05-14 15:31:06,968 - DEBUG - utf-8  confidence = 0.99\n",
      "2020-05-14 15:31:06,968 - DEBUG - SHIFT_JIS Japanese confidence = 0.01\n",
      "2020-05-14 15:31:06,969 - DEBUG - EUC-JP Japanese confidence = 0.01\n",
      "2020-05-14 15:31:06,969 - DEBUG - GB2312 Chinese confidence = 0.01\n",
      "2020-05-14 15:31:06,970 - DEBUG - EUC-KR Korean confidence = 0.01\n",
      "2020-05-14 15:31:06,970 - DEBUG - CP949 Korean confidence = 0.01\n",
      "2020-05-14 15:31:06,971 - DEBUG - Big5 Chinese confidence = 0.01\n",
      "2020-05-14 15:31:06,971 - DEBUG - EUC-TW Taiwan confidence = 0.01\n",
      "2020-05-14 15:31:07,003 - DEBUG - Starting new HTTP connection (1): www.astroawani.com:80\n",
      "2020-05-14 15:31:08,321 - DEBUG - http://www.astroawani.com:80 \"GET /berita-dunia/qatar-digugur-dari-pakatan-perangi-pemberontak-yaman-145074 HTTP/1.1\" 200 16579\n",
      "2020-05-14 15:31:08,456 - DEBUG - Starting new HTTP connection (1): www.astroawani.com:80\n",
      "2020-05-14 15:31:08,625 - DEBUG - http://www.astroawani.com:80 \"GET /berita-dunia/qatar-digugur-dari-pakatan-perangi-pemberontak-yaman-145074 HTTP/1.1\" 200 16579\n"
     ]
    },
    {
     "name": "stdout",
     "output_type": "stream",
     "text": [
      "found BM/ID article\n"
     ]
    },
    {
     "name": "stderr",
     "output_type": "stream",
     "text": [
      "2020-05-14 15:31:08,742 - DEBUG - Starting new HTTPS connection (1): www.hmetro.com.my:443\n",
      "2020-05-14 15:31:10,574 - DEBUG - https://www.hmetro.com.my:443 \"GET /mutakhir/2018/04/326572/14000-peroleh-manfaat-pam-air HTTP/1.1\" 200 None\n",
      "2020-05-14 15:31:10,690 - DEBUG - Starting new HTTPS connection (1): www.hmetro.com.my:443\n",
      "2020-05-14 15:31:10,770 - DEBUG - https://www.hmetro.com.my:443 \"GET /mutakhir/2018/04/326572/14000-peroleh-manfaat-pam-air HTTP/1.1\" 200 None\n"
     ]
    },
    {
     "name": "stdout",
     "output_type": "stream",
     "text": [
      "found BM/ID article\n"
     ]
    },
    {
     "name": "stderr",
     "output_type": "stream",
     "text": [
      "2020-05-14 15:31:10,898 - DEBUG - Starting new HTTPS connection (1): www.bharian.com.my:443\n",
      "2020-05-14 15:31:11,480 - DEBUG - https://www.bharian.com.my:443 \"GET /berita/nasional/2019/06/574351/patriot-puji-abdul-hamid-sebagai-pemimpin-teladan HTTP/1.1\" 200 None\n",
      "2020-05-14 15:31:11,613 - DEBUG - Starting new HTTPS connection (1): www.bharian.com.my:443\n",
      "2020-05-14 15:31:11,742 - DEBUG - https://www.bharian.com.my:443 \"GET /berita/nasional/2019/06/574351/patriot-puji-abdul-hamid-sebagai-pemimpin-teladan HTTP/1.1\" 200 None\n"
     ]
    },
    {
     "name": "stdout",
     "output_type": "stream",
     "text": [
      "found BM/ID article\n"
     ]
    },
    {
     "name": "stderr",
     "output_type": "stream",
     "text": [
      "2020-05-14 15:31:11,889 - DEBUG - Starting new HTTPS connection (1): www.bharian.com.my:443\n",
      "2020-05-14 15:31:13,155 - DEBUG - https://www.bharian.com.my:443 \"GET /node/141224 HTTP/1.1\" 200 None\n",
      "2020-05-14 15:31:13,309 - DEBUG - Starting new HTTPS connection (1): www.bharian.com.my:443\n",
      "2020-05-14 15:31:13,400 - DEBUG - https://www.bharian.com.my:443 \"GET /node/141224 HTTP/1.1\" 200 None\n"
     ]
    },
    {
     "name": "stdout",
     "output_type": "stream",
     "text": [
      "found BM/ID article\n"
     ]
    },
    {
     "name": "stderr",
     "output_type": "stream",
     "text": [
      "2020-05-14 15:31:13,571 - DEBUG - Starting new HTTP connection (1): www.astroawani.com:80\n",
      "2020-05-14 15:31:14,895 - DEBUG - http://www.astroawani.com:80 \"GET /berita-dunia/tehran-gesa-arab-saudi-cermin-diri-sebelum-mahu-jadikan-iran-kambing-hitam-161583 HTTP/1.1\" 200 16772\n",
      "2020-05-14 15:31:15,007 - DEBUG - Starting new HTTPS connection (1): www.bharian.com.my:443\n",
      "2020-05-14 15:31:15,714 - DEBUG - https://www.bharian.com.my:443 \"GET /berita/nasional/2018/07/445047/mra-dapat-sumbangan-untuk-bekalan-air-di-yaman HTTP/1.1\" 200 None\n",
      "2020-05-14 15:31:15,874 - DEBUG - Starting new HTTPS connection (1): www.bharian.com.my:443\n",
      "2020-05-14 15:31:15,954 - DEBUG - https://www.bharian.com.my:443 \"GET /berita/nasional/2018/07/445047/mra-dapat-sumbangan-untuk-bekalan-air-di-yaman HTTP/1.1\" 200 None\n"
     ]
    },
    {
     "name": "stdout",
     "output_type": "stream",
     "text": [
      "found BM/ID article\n"
     ]
    },
    {
     "name": "stderr",
     "output_type": "stream",
     "text": [
      "2020-05-14 15:31:16,106 - DEBUG - Starting new HTTP connection (1): www.astroawani.com:80\n",
      "2020-05-14 15:31:18,169 - DEBUG - http://www.astroawani.com:80 \"GET /berita-dunia/pemberontak-houthi-yaman-lancar-serangan-ke-atas-lapangan-terbang-dan-stesen-jana-kuasa-arab-saudi-212177 HTTP/1.1\" 200 16976\n",
      "2020-05-14 15:31:18,285 - DEBUG - Starting new HTTP connection (1): www.astroawani.com:80\n",
      "2020-05-14 15:31:18,459 - DEBUG - http://www.astroawani.com:80 \"GET /berita-dunia/pemberontak-houthi-yaman-lancar-serangan-ke-atas-lapangan-terbang-dan-stesen-jana-kuasa-arab-saudi-212177 HTTP/1.1\" 200 16976\n"
     ]
    },
    {
     "name": "stdout",
     "output_type": "stream",
     "text": [
      "found BM/ID article\n"
     ]
    },
    {
     "name": "stderr",
     "output_type": "stream",
     "text": [
      "2020-05-14 15:31:18,576 - DEBUG - Starting new HTTPS connection (1): www.bharian.com.my:443\n",
      "2020-05-14 15:31:19,632 - DEBUG - https://www.bharian.com.my:443 \"GET /berita/nasional/2019/04/554941/kementerian-pertahanan-garis-6-pencapaian-di-bawah-ph HTTP/1.1\" 200 None\n",
      "2020-05-14 15:31:19,775 - DEBUG - Starting new HTTPS connection (1): www.bharian.com.my:443\n",
      "2020-05-14 15:31:19,857 - DEBUG - https://www.bharian.com.my:443 \"GET /berita/nasional/2019/04/554941/kementerian-pertahanan-garis-6-pencapaian-di-bawah-ph HTTP/1.1\" 200 None\n"
     ]
    },
    {
     "name": "stdout",
     "output_type": "stream",
     "text": [
      "found BM/ID article\n"
     ]
    },
    {
     "name": "stderr",
     "output_type": "stream",
     "text": [
      "2020-05-14 15:31:20,012 - DEBUG - Starting new HTTPS connection (1): harakahdaily.net:443\n",
      "2020-05-14 15:31:27,064 - DEBUG - Download failed on URL https://harakahdaily.net/index.php/2020/04/03/lantikan-iktiraf-peranan-untuk-timur-tengah/ because of HTTPSConnectionPool(host='harakahdaily.net', port=443): Read timed out. (read timeout=7)\n",
      "2020-05-14 15:31:27,068 - DEBUG - Starting new HTTPS connection (1): www.hmetro.com.my:443\n",
      "2020-05-14 15:31:28,925 - DEBUG - https://www.hmetro.com.my:443 \"GET /node/163769 HTTP/1.1\" 200 None\n",
      "2020-05-14 15:31:29,053 - DEBUG - Starting new HTTPS connection (1): www.hmetro.com.my:443\n",
      "2020-05-14 15:31:29,146 - DEBUG - https://www.hmetro.com.my:443 \"GET /node/163769 HTTP/1.1\" 200 None\n"
     ]
    },
    {
     "name": "stdout",
     "output_type": "stream",
     "text": [
      "found BM/ID article\n"
     ]
    },
    {
     "name": "stderr",
     "output_type": "stream",
     "text": [
      "2020-05-14 15:31:39,284 - DEBUG - Starting new HTTPS connection (1): www.google.com.my:443\n",
      "2020-05-14 15:31:39,393 - DEBUG - https://www.google.com.my:443 \"GET /search?q=isu+yaman&source=lnt&tbs=cdr%3A1%2Ccd_min%3A2000%2Ccd_max%3A2021&tbm=nws&start=40 HTTP/1.1\" 200 None\n",
      "2020-05-14 15:31:40,521 - DEBUG - utf-8  confidence = 0.99\n",
      "2020-05-14 15:31:40,522 - DEBUG - SHIFT_JIS Japanese confidence = 0.01\n",
      "2020-05-14 15:31:40,522 - DEBUG - EUC-JP Japanese confidence = 0.01\n",
      "2020-05-14 15:31:40,523 - DEBUG - GB2312 Chinese confidence = 0.01\n",
      "2020-05-14 15:31:40,524 - DEBUG - EUC-KR Korean confidence = 0.01\n",
      "2020-05-14 15:31:40,524 - DEBUG - CP949 Korean confidence = 0.01\n",
      "2020-05-14 15:31:40,525 - DEBUG - Big5 Chinese confidence = 0.01\n",
      "2020-05-14 15:31:40,525 - DEBUG - EUC-TW Taiwan confidence = 0.01\n",
      "2020-05-14 15:31:40,526 - DEBUG - windows-1251 Russian confidence = 0.01\n",
      "2020-05-14 15:31:40,526 - DEBUG - KOI8-R Russian confidence = 0.01\n",
      "2020-05-14 15:31:40,527 - DEBUG - ISO-8859-5 Russian confidence = 0.01\n",
      "2020-05-14 15:31:40,527 - DEBUG - MacCyrillic Russian confidence = 0.0\n",
      "2020-05-14 15:31:40,528 - DEBUG - IBM866 Russian confidence = 0.0\n",
      "2020-05-14 15:31:40,528 - DEBUG - IBM855 Russian confidence = 0.01\n",
      "2020-05-14 15:31:40,529 - DEBUG - ISO-8859-7 Greek confidence = 0.01\n",
      "2020-05-14 15:31:40,529 - DEBUG - windows-1253 Greek confidence = 0.01\n",
      "2020-05-14 15:31:40,530 - DEBUG - ISO-8859-5 Bulgairan confidence = 0.01\n",
      "2020-05-14 15:31:40,530 - DEBUG - windows-1251 Bulgarian confidence = 0.01\n",
      "2020-05-14 15:31:40,530 - DEBUG - TIS-620 Thai confidence = 0.01\n",
      "2020-05-14 15:31:40,531 - DEBUG - ISO-8859-9 Turkish confidence = 0.41470821511272976\n",
      "2020-05-14 15:31:40,531 - DEBUG - windows-1255 Hebrew confidence = 0.0\n",
      "2020-05-14 15:31:40,532 - DEBUG - windows-1255 Hebrew confidence = 0.0\n",
      "2020-05-14 15:31:40,532 - DEBUG - windows-1255 Hebrew confidence = 0.0\n",
      "2020-05-14 15:31:40,533 - DEBUG - utf-8  confidence = 0.99\n",
      "2020-05-14 15:31:40,533 - DEBUG - SHIFT_JIS Japanese confidence = 0.01\n",
      "2020-05-14 15:31:40,534 - DEBUG - EUC-JP Japanese confidence = 0.01\n",
      "2020-05-14 15:31:40,534 - DEBUG - GB2312 Chinese confidence = 0.01\n",
      "2020-05-14 15:31:40,535 - DEBUG - EUC-KR Korean confidence = 0.01\n",
      "2020-05-14 15:31:40,536 - DEBUG - CP949 Korean confidence = 0.01\n",
      "2020-05-14 15:31:40,536 - DEBUG - Big5 Chinese confidence = 0.01\n",
      "2020-05-14 15:31:40,537 - DEBUG - EUC-TW Taiwan confidence = 0.01\n",
      "2020-05-14 15:31:40,570 - DEBUG - Starting new HTTPS connection (1): www.bharian.com.my:443\n",
      "2020-05-14 15:31:41,267 - DEBUG - https://www.bharian.com.my:443 \"GET /node/290777 HTTP/1.1\" 200 None\n",
      "2020-05-14 15:31:41,416 - DEBUG - Starting new HTTPS connection (1): www.bharian.com.my:443\n",
      "2020-05-14 15:31:41,487 - DEBUG - https://www.bharian.com.my:443 \"GET /node/290777 HTTP/1.1\" 200 None\n"
     ]
    },
    {
     "name": "stdout",
     "output_type": "stream",
     "text": [
      "found BM/ID article\n"
     ]
    },
    {
     "name": "stderr",
     "output_type": "stream",
     "text": [
      "2020-05-14 15:31:41,642 - DEBUG - Starting new HTTPS connection (1): www.bharian.com.my:443\n",
      "2020-05-14 15:31:42,234 - DEBUG - https://www.bharian.com.my:443 \"GET /berita/nasional/2017/11/345169/malaysia-sedia-sertai-misi-kemanusiaan-di-yaman HTTP/1.1\" 200 None\n",
      "2020-05-14 15:31:42,382 - DEBUG - Starting new HTTPS connection (1): www.bharian.com.my:443\n",
      "2020-05-14 15:31:42,469 - DEBUG - https://www.bharian.com.my:443 \"GET /berita/nasional/2017/11/345169/malaysia-sedia-sertai-misi-kemanusiaan-di-yaman HTTP/1.1\" 200 None\n"
     ]
    },
    {
     "name": "stdout",
     "output_type": "stream",
     "text": [
      "found BM/ID article\n"
     ]
    },
    {
     "name": "stderr",
     "output_type": "stream",
     "text": [
      "2020-05-14 15:31:42,619 - DEBUG - Starting new HTTPS connection (1): www.hmetro.com.my:443\n",
      "2020-05-14 15:31:44,079 - DEBUG - https://www.hmetro.com.my:443 \"GET /mutakhir/2019/03/435671/pusing-eropah-kutip-dana-yaman HTTP/1.1\" 200 None\n",
      "2020-05-14 15:31:44,248 - DEBUG - Starting new HTTPS connection (1): www.hmetro.com.my:443\n",
      "2020-05-14 15:31:44,345 - DEBUG - https://www.hmetro.com.my:443 \"GET /mutakhir/2019/03/435671/pusing-eropah-kutip-dana-yaman HTTP/1.1\" 200 None\n"
     ]
    },
    {
     "name": "stdout",
     "output_type": "stream",
     "text": [
      "found BM/ID article\n"
     ]
    },
    {
     "name": "stderr",
     "output_type": "stream",
     "text": [
      "2020-05-14 15:31:44,504 - DEBUG - Starting new HTTPS connection (1): www.bharian.com.my:443\n",
      "2020-05-14 15:31:45,202 - DEBUG - https://www.bharian.com.my:443 \"GET /node/260211 HTTP/1.1\" 200 None\n",
      "2020-05-14 15:31:45,361 - DEBUG - Starting new HTTPS connection (1): www.bharian.com.my:443\n",
      "2020-05-14 15:31:45,439 - DEBUG - https://www.bharian.com.my:443 \"GET /node/260211 HTTP/1.1\" 200 None\n"
     ]
    },
    {
     "name": "stdout",
     "output_type": "stream",
     "text": [
      "found BM/ID article\n"
     ]
    },
    {
     "name": "stderr",
     "output_type": "stream",
     "text": [
      "2020-05-14 15:31:45,582 - DEBUG - Starting new HTTPS connection (1): www.bharian.com.my:443\n",
      "2020-05-14 15:31:46,230 - DEBUG - https://www.bharian.com.my:443 \"GET /berita/nasional/2017/07/305828/150204-pelarian-pemohon-suaka-di-malaysia HTTP/1.1\" 200 None\n",
      "2020-05-14 15:31:46,368 - DEBUG - Starting new HTTPS connection (1): www.bharian.com.my:443\n",
      "2020-05-14 15:31:46,447 - DEBUG - https://www.bharian.com.my:443 \"GET /berita/nasional/2017/07/305828/150204-pelarian-pemohon-suaka-di-malaysia HTTP/1.1\" 200 None\n"
     ]
    },
    {
     "name": "stdout",
     "output_type": "stream",
     "text": [
      "found BM/ID article\n"
     ]
    },
    {
     "name": "stderr",
     "output_type": "stream",
     "text": [
      "2020-05-14 15:31:46,606 - DEBUG - Starting new HTTPS connection (1): www.cnnindonesia.com:443\n",
      "2020-05-14 15:31:47,460 - DEBUG - https://www.cnnindonesia.com:443 \"GET /internasional/20150411140729-120-45902/perang-yaman-dan-houthi-bukan-masalah-sunni-syiah HTTP/1.1\" 200 None\n",
      "2020-05-14 15:31:47,773 - DEBUG - Starting new HTTPS connection (1): harakahdaily.net:443\n",
      "2020-05-14 15:31:49,299 - DEBUG - https://harakahdaily.net:443 \"GET /index.php/2019/11/26/iran-isu-umat-islam-vs-sentimen-mazhab/ HTTP/1.1\" 500 None\n",
      "2020-05-14 15:31:49,305 - DEBUG - Download failed on URL https://harakahdaily.net/index.php/2019/11/26/iran-isu-umat-islam-vs-sentimen-mazhab/ because of 500 Server Error: Internal Server Error for url: https://harakahdaily.net/index.php/2019/11/26/iran-isu-umat-islam-vs-sentimen-mazhab/\n",
      "2020-05-14 15:31:49,310 - DEBUG - Starting new HTTPS connection (1): www.malaysiakini.com:443\n",
      "2020-05-14 15:31:50,545 - DEBUG - https://www.malaysiakini.com:443 \"GET /news/375767 HTTP/1.1\" 200 None\n",
      "2020-05-14 15:31:50,642 - DEBUG - Starting new HTTPS connection (1): www.malaysiakini.com:443\n",
      "2020-05-14 15:31:50,730 - DEBUG - https://www.malaysiakini.com:443 \"GET /news/375767 HTTP/1.1\" 200 None\n",
      "2020-05-14 15:31:50,843 - DEBUG - Starting new HTTPS connection (1): www.hmetro.com.my:443\n"
     ]
    },
    {
     "name": "stdout",
     "output_type": "stream",
     "text": [
      "found BM/ID article\n"
     ]
    },
    {
     "name": "stderr",
     "output_type": "stream",
     "text": [
      "2020-05-14 15:31:51,712 - DEBUG - https://www.hmetro.com.my:443 \"GET /akademia/2020/01/532433/perpustakaan-mini-anak-rohingya HTTP/1.1\" 200 None\n",
      "2020-05-14 15:31:51,844 - DEBUG - Starting new HTTPS connection (1): www.hmetro.com.my:443\n",
      "2020-05-14 15:31:52,841 - DEBUG - https://www.hmetro.com.my:443 \"GET /node/205741 HTTP/1.1\" 200 None\n",
      "2020-05-14 15:31:52,990 - DEBUG - Starting new HTTPS connection (1): www.hmetro.com.my:443\n",
      "2020-05-14 15:31:53,071 - DEBUG - https://www.hmetro.com.my:443 \"GET /node/205741 HTTP/1.1\" 200 None\n"
     ]
    },
    {
     "name": "stdout",
     "output_type": "stream",
     "text": [
      "found BM/ID article\n"
     ]
    },
    {
     "name": "stderr",
     "output_type": "stream",
     "text": [
      "2020-05-14 15:32:03,234 - DEBUG - Starting new HTTPS connection (1): www.google.com.my:443\n",
      "2020-05-14 15:32:03,362 - DEBUG - https://www.google.com.my:443 \"GET /search?q=isu+yaman&source=lnt&tbs=cdr%3A1%2Ccd_min%3A2000%2Ccd_max%3A2021&tbm=nws&start=50 HTTP/1.1\" 200 None\n",
      "2020-05-14 15:32:04,494 - DEBUG - utf-8  confidence = 0.99\n",
      "2020-05-14 15:32:04,496 - DEBUG - SHIFT_JIS Japanese confidence = 0.01\n",
      "2020-05-14 15:32:04,496 - DEBUG - EUC-JP Japanese confidence = 0.01\n",
      "2020-05-14 15:32:04,497 - DEBUG - GB2312 Chinese confidence = 0.01\n",
      "2020-05-14 15:32:04,498 - DEBUG - EUC-KR Korean confidence = 0.01\n",
      "2020-05-14 15:32:04,498 - DEBUG - CP949 Korean confidence = 0.01\n",
      "2020-05-14 15:32:04,499 - DEBUG - Big5 Chinese confidence = 0.01\n",
      "2020-05-14 15:32:04,499 - DEBUG - EUC-TW Taiwan confidence = 0.01\n",
      "2020-05-14 15:32:04,500 - DEBUG - windows-1251 Russian confidence = 0.01\n",
      "2020-05-14 15:32:04,501 - DEBUG - KOI8-R Russian confidence = 0.01\n",
      "2020-05-14 15:32:04,501 - DEBUG - ISO-8859-5 Russian confidence = 0.0\n",
      "2020-05-14 15:32:04,501 - DEBUG - MacCyrillic Russian confidence = 0.01\n",
      "2020-05-14 15:32:04,502 - DEBUG - IBM866 Russian confidence = 0.01\n",
      "2020-05-14 15:32:04,502 - DEBUG - IBM855 Russian confidence = 0.01\n",
      "2020-05-14 15:32:04,503 - DEBUG - ISO-8859-7 Greek confidence = 0.0\n",
      "2020-05-14 15:32:04,503 - DEBUG - windows-1253 Greek confidence = 0.0\n",
      "2020-05-14 15:32:04,504 - DEBUG - ISO-8859-5 Bulgairan confidence = 0.0\n",
      "2020-05-14 15:32:04,504 - DEBUG - windows-1251 Bulgarian confidence = 0.01\n",
      "2020-05-14 15:32:04,505 - DEBUG - TIS-620 Thai confidence = 0.0\n",
      "2020-05-14 15:32:04,505 - DEBUG - ISO-8859-9 Turkish confidence = 0.4134838488864637\n",
      "2020-05-14 15:32:04,505 - DEBUG - windows-1255 Hebrew confidence = 0.0\n",
      "2020-05-14 15:32:04,506 - DEBUG - windows-1255 Hebrew confidence = 0.0\n",
      "2020-05-14 15:32:04,506 - DEBUG - windows-1255 Hebrew confidence = 0.0\n",
      "2020-05-14 15:32:04,507 - DEBUG - utf-8  confidence = 0.99\n",
      "2020-05-14 15:32:04,507 - DEBUG - SHIFT_JIS Japanese confidence = 0.01\n",
      "2020-05-14 15:32:04,508 - DEBUG - EUC-JP Japanese confidence = 0.01\n",
      "2020-05-14 15:32:04,508 - DEBUG - GB2312 Chinese confidence = 0.01\n",
      "2020-05-14 15:32:04,509 - DEBUG - EUC-KR Korean confidence = 0.01\n",
      "2020-05-14 15:32:04,509 - DEBUG - CP949 Korean confidence = 0.01\n",
      "2020-05-14 15:32:04,510 - DEBUG - Big5 Chinese confidence = 0.01\n",
      "2020-05-14 15:32:04,511 - DEBUG - EUC-TW Taiwan confidence = 0.01\n",
      "2020-05-14 15:32:04,565 - DEBUG - Starting new HTTPS connection (1): www.matamatapolitik.com:443\n",
      "2020-05-14 15:32:07,256 - DEBUG - https://www.matamatapolitik.com:443 \"GET /awal-mula-perang-yaman-mengapa-konflik-terus-memburuk-in-depth/ HTTP/1.1\" 200 None\n",
      "2020-05-14 15:32:07,738 - DEBUG - Starting new HTTPS connection (1): www.matamatapolitik.com:443\n"
     ]
    },
    {
     "name": "stdout",
     "output_type": "stream",
     "text": [
      "found BM/ID article\n"
     ]
    },
    {
     "name": "stderr",
     "output_type": "stream",
     "text": [
      "2020-05-14 15:32:08,421 - DEBUG - https://www.matamatapolitik.com:443 \"GET /awal-mula-perang-yaman-mengapa-konflik-terus-memburuk-in-depth/ HTTP/1.1\" 200 None\n",
      "2020-05-14 15:32:08,919 - DEBUG - Starting new HTTPS connection (1): www.sinarharian.com.my:443\n",
      "2020-05-14 15:32:09,193 - DEBUG - https://www.sinarharian.com.my:443 \"GET /article/16018/GLOBAL/Lima-kanak-kanak-terbunuh-di-Yaman-UNICEF HTTP/1.1\" 200 None\n",
      "2020-05-14 15:32:09,317 - DEBUG - Starting new HTTPS connection (1): www.bharian.com.my:443\n",
      "2020-05-14 15:32:09,883 - DEBUG - https://www.bharian.com.my:443 \"GET /berita/wilayah/2017/10/337399/wasim-bantah-laporan-pbb HTTP/1.1\" 200 None\n",
      "2020-05-14 15:32:10,026 - DEBUG - Starting new HTTPS connection (1): www.bharian.com.my:443\n",
      "2020-05-14 15:32:10,127 - DEBUG - https://www.bharian.com.my:443 \"GET /berita/wilayah/2017/10/337399/wasim-bantah-laporan-pbb HTTP/1.1\" 200 None\n"
     ]
    },
    {
     "name": "stdout",
     "output_type": "stream",
     "text": [
      "found BM/ID article\n"
     ]
    },
    {
     "name": "stderr",
     "output_type": "stream",
     "text": [
      "2020-05-14 15:32:10,273 - DEBUG - Starting new HTTPS connection (1): www.bharian.com.my:443\n",
      "2020-05-14 15:32:11,007 - DEBUG - https://www.bharian.com.my:443 \"GET /berita/nasional/2018/09/477745/patriot-tidak-terbabit-penulisan-artikel-kritik-menteri-pertahanan HTTP/1.1\" 200 None\n",
      "2020-05-14 15:32:11,147 - DEBUG - Starting new HTTPS connection (1): www.bharian.com.my:443\n",
      "2020-05-14 15:32:11,225 - DEBUG - https://www.bharian.com.my:443 \"GET /berita/nasional/2018/09/477745/patriot-tidak-terbabit-penulisan-artikel-kritik-menteri-pertahanan HTTP/1.1\" 200 None\n"
     ]
    },
    {
     "name": "stdout",
     "output_type": "stream",
     "text": [
      "found BM/ID article\n"
     ]
    },
    {
     "name": "stderr",
     "output_type": "stream",
     "text": [
      "2020-05-14 15:32:11,373 - DEBUG - Starting new HTTPS connection (1): www.bharian.com.my:443\n",
      "2020-05-14 15:32:12,176 - DEBUG - https://www.bharian.com.my:443 \"GET /node/162782 HTTP/1.1\" 200 None\n",
      "2020-05-14 15:32:12,314 - DEBUG - Starting new HTTPS connection (1): www.bharian.com.my:443\n",
      "2020-05-14 15:32:12,395 - DEBUG - https://www.bharian.com.my:443 \"GET /node/162782 HTTP/1.1\" 200 None\n"
     ]
    },
    {
     "name": "stdout",
     "output_type": "stream",
     "text": [
      "found BM/ID article\n"
     ]
    },
    {
     "name": "stderr",
     "output_type": "stream",
     "text": [
      "2020-05-14 15:32:12,563 - DEBUG - Starting new HTTP connection (1): www.astroawani.com:80\n",
      "2020-05-14 15:32:13,977 - DEBUG - http://www.astroawani.com:80 \"GET /berita-dunia/kumpulan-pemberontak-houthi-mengaku-serang-lapangan-terbang-arab-saudi-211388 HTTP/1.1\" 200 17026\n",
      "2020-05-14 15:32:14,093 - DEBUG - Starting new HTTP connection (1): www.astroawani.com:80\n"
     ]
    },
    {
     "name": "stdout",
     "output_type": "stream",
     "text": [
      "found BM/ID article\n"
     ]
    },
    {
     "name": "stderr",
     "output_type": "stream",
     "text": [
      "2020-05-14 15:32:14,316 - DEBUG - http://www.astroawani.com:80 \"GET /berita-dunia/kumpulan-pemberontak-houthi-mengaku-serang-lapangan-terbang-arab-saudi-211388 HTTP/1.1\" 200 17502\n",
      "2020-05-14 15:32:14,437 - DEBUG - Starting new HTTPS connection (1): www.cnnindonesia.com:443\n",
      "2020-05-14 15:32:15,206 - DEBUG - https://www.cnnindonesia.com:443 \"GET /internasional/20150212115537-120-31601/tinggalkan-yaman-marinir-as-musnahkan-senjata HTTP/1.1\" 200 None\n",
      "2020-05-14 15:32:15,504 - DEBUG - Starting new HTTPS connection (1): www.bbc.com:443\n",
      "2020-05-14 15:32:18,176 - DEBUG - https://www.bbc.com:443 \"GET /indonesia/dunia-45974151 HTTP/1.1\" 200 40340\n",
      "2020-05-14 15:32:18,373 - DEBUG - Starting new HTTPS connection (1): www.bharian.com.my:443\n",
      "2020-05-14 15:32:18,995 - DEBUG - https://www.bharian.com.my:443 \"GET /berita/nasional/2018/07/446350/mujahid-nafi-iktiraf-golongan-lgbt HTTP/1.1\" 200 None\n",
      "2020-05-14 15:32:19,134 - DEBUG - Starting new HTTPS connection (1): www.bharian.com.my:443\n",
      "2020-05-14 15:32:19,216 - DEBUG - https://www.bharian.com.my:443 \"GET /berita/nasional/2018/07/446350/mujahid-nafi-iktiraf-golongan-lgbt HTTP/1.1\" 200 None\n"
     ]
    },
    {
     "name": "stdout",
     "output_type": "stream",
     "text": [
      "found BM/ID article\n"
     ]
    },
    {
     "name": "stderr",
     "output_type": "stream",
     "text": [
      "2020-05-14 15:32:19,355 - DEBUG - Starting new HTTPS connection (1): harakahdaily.net:443\n",
      "2020-05-14 15:32:26,430 - DEBUG - Download failed on URL https://harakahdaily.net/index.php/2019/11/29/isytihar-perang-israel-vs-iran/ because of HTTPSConnectionPool(host='harakahdaily.net', port=443): Read timed out. (read timeout=7)\n",
      "2020-05-14 15:32:36,436 - DEBUG - Starting new HTTPS connection (1): www.google.com.my:443\n",
      "2020-05-14 15:32:36,555 - DEBUG - https://www.google.com.my:443 \"GET /search?q=isu+yaman&source=lnt&tbs=cdr%3A1%2Ccd_min%3A2000%2Ccd_max%3A2021&tbm=nws&start=60 HTTP/1.1\" 200 None\n",
      "2020-05-14 15:32:37,550 - DEBUG - utf-8  confidence = 0.99\n",
      "2020-05-14 15:32:37,551 - DEBUG - SHIFT_JIS Japanese confidence = 0.01\n",
      "2020-05-14 15:32:37,551 - DEBUG - EUC-JP Japanese confidence = 0.01\n",
      "2020-05-14 15:32:37,552 - DEBUG - GB2312 Chinese confidence = 0.01\n",
      "2020-05-14 15:32:37,553 - DEBUG - EUC-KR Korean confidence = 0.01\n",
      "2020-05-14 15:32:37,553 - DEBUG - CP949 Korean confidence = 0.01\n",
      "2020-05-14 15:32:37,554 - DEBUG - Big5 Chinese confidence = 0.01\n",
      "2020-05-14 15:32:37,555 - DEBUG - EUC-TW Taiwan confidence = 0.01\n",
      "2020-05-14 15:32:37,555 - DEBUG - windows-1251 Russian confidence = 0.01\n",
      "2020-05-14 15:32:37,556 - DEBUG - KOI8-R Russian confidence = 0.01\n",
      "2020-05-14 15:32:37,557 - DEBUG - ISO-8859-5 Russian confidence = 0.0\n",
      "2020-05-14 15:32:37,557 - DEBUG - MacCyrillic Russian confidence = 0.0\n",
      "2020-05-14 15:32:37,557 - DEBUG - IBM866 Russian confidence = 0.0\n",
      "2020-05-14 15:32:37,558 - DEBUG - IBM855 Russian confidence = 0.01\n",
      "2020-05-14 15:32:37,558 - DEBUG - ISO-8859-7 Greek confidence = 0.0\n",
      "2020-05-14 15:32:37,559 - DEBUG - windows-1253 Greek confidence = 0.0\n",
      "2020-05-14 15:32:37,559 - DEBUG - ISO-8859-5 Bulgairan confidence = 0.0\n",
      "2020-05-14 15:32:37,560 - DEBUG - windows-1251 Bulgarian confidence = 0.01\n",
      "2020-05-14 15:32:37,560 - DEBUG - TIS-620 Thai confidence = 0.0\n",
      "2020-05-14 15:32:37,561 - DEBUG - ISO-8859-9 Turkish confidence = 0.4129045742346828\n",
      "2020-05-14 15:32:37,561 - DEBUG - windows-1255 Hebrew confidence = 0.0\n",
      "2020-05-14 15:32:37,562 - DEBUG - windows-1255 Hebrew confidence = 0.0\n",
      "2020-05-14 15:32:37,562 - DEBUG - windows-1255 Hebrew confidence = 0.0\n",
      "2020-05-14 15:32:37,563 - DEBUG - utf-8  confidence = 0.99\n",
      "2020-05-14 15:32:37,563 - DEBUG - SHIFT_JIS Japanese confidence = 0.01\n",
      "2020-05-14 15:32:37,563 - DEBUG - EUC-JP Japanese confidence = 0.01\n",
      "2020-05-14 15:32:37,564 - DEBUG - GB2312 Chinese confidence = 0.01\n",
      "2020-05-14 15:32:37,565 - DEBUG - EUC-KR Korean confidence = 0.01\n",
      "2020-05-14 15:32:37,565 - DEBUG - CP949 Korean confidence = 0.01\n",
      "2020-05-14 15:32:37,566 - DEBUG - Big5 Chinese confidence = 0.01\n",
      "2020-05-14 15:32:37,566 - DEBUG - EUC-TW Taiwan confidence = 0.01\n",
      "2020-05-14 15:32:37,626 - DEBUG - Starting new HTTPS connection (1): www.liputan6.com:443\n",
      "2020-05-14 15:32:38,171 - DEBUG - https://www.liputan6.com:443 \"GET /global/read/4159512/prajurit-yaman-diserang-rudal-pasukan-houthi-saat-sedang-salat HTTP/1.1\" 200 None\n",
      "2020-05-14 15:32:38,411 - DEBUG - Starting new HTTPS connection (1): www.liputan6.com:443\n",
      "2020-05-14 15:32:38,525 - DEBUG - https://www.liputan6.com:443 \"GET /global/read/4159512/prajurit-yaman-diserang-rudal-pasukan-houthi-saat-sedang-salat HTTP/1.1\" 200 73191\n"
     ]
    },
    {
     "name": "stdout",
     "output_type": "stream",
     "text": [
      "found BM/ID article\n"
     ]
    },
    {
     "name": "stderr",
     "output_type": "stream",
     "text": [
      "2020-05-14 15:32:38,787 - DEBUG - Starting new HTTPS connection (1): www.hmetro.com.my:443\n",
      "2020-05-14 15:32:39,785 - DEBUG - https://www.hmetro.com.my:443 \"GET /mutakhir/2017/03/211739/14-juta-rakyat-kebuluran HTTP/1.1\" 200 None\n",
      "2020-05-14 15:32:39,903 - DEBUG - Starting new HTTPS connection (1): www.hmetro.com.my:443\n",
      "2020-05-14 15:32:39,986 - DEBUG - https://www.hmetro.com.my:443 \"GET /mutakhir/2017/03/211739/14-juta-rakyat-kebuluran HTTP/1.1\" 200 None\n"
     ]
    },
    {
     "name": "stdout",
     "output_type": "stream",
     "text": [
      "found BM/ID article\n"
     ]
    },
    {
     "name": "stderr",
     "output_type": "stream",
     "text": [
      "2020-05-14 15:32:40,112 - DEBUG - Starting new HTTPS connection (1): www.bharian.com.my:443\n",
      "2020-05-14 15:32:40,822 - DEBUG - https://www.bharian.com.my:443 \"GET /node/143662 HTTP/1.1\" 200 None\n",
      "2020-05-14 15:32:40,957 - DEBUG - Starting new HTTPS connection (1): www.bharian.com.my:443\n",
      "2020-05-14 15:32:41,065 - DEBUG - https://www.bharian.com.my:443 \"GET /node/143662 HTTP/1.1\" 200 None\n"
     ]
    },
    {
     "name": "stdout",
     "output_type": "stream",
     "text": [
      "found BM/ID article\n"
     ]
    },
    {
     "name": "stderr",
     "output_type": "stream",
     "text": [
      "2020-05-14 15:32:41,209 - DEBUG - Starting new HTTPS connection (1): www.bharian.com.my:443\n",
      "2020-05-14 15:32:41,832 - DEBUG - https://www.bharian.com.my:443 \"GET /node/27825 HTTP/1.1\" 200 None\n",
      "2020-05-14 15:32:41,965 - DEBUG - Starting new HTTPS connection (1): www.bharian.com.my:443\n",
      "2020-05-14 15:32:42,046 - DEBUG - https://www.bharian.com.my:443 \"GET /node/27825 HTTP/1.1\" 200 None\n"
     ]
    },
    {
     "name": "stdout",
     "output_type": "stream",
     "text": [
      "found BM/ID article\n"
     ]
    },
    {
     "name": "stderr",
     "output_type": "stream",
     "text": [
      "2020-05-14 15:32:42,213 - DEBUG - Starting new HTTP connection (1): www.astroawani.com:80\n",
      "2020-05-14 15:32:43,878 - DEBUG - http://www.astroawani.com:80 \"GET /berita-dunia/isu-baitulmaqdis-tugas-berat-turki-yakinkan-negara-arab-untuk-rapatkan-saf-162718 HTTP/1.1\" 200 17637\n",
      "2020-05-14 15:32:44,019 - DEBUG - Starting new HTTPS connection (1): dunia.tempo.co:443\n",
      "2020-05-14 15:32:44,241 - DEBUG - https://dunia.tempo.co:443 \"GET /read/1142124/kenapa-yaman-dilanda-perang HTTP/1.1\" 200 None\n",
      "2020-05-14 15:32:44,429 - DEBUG - Starting new HTTPS connection (1): dunia.tempo.co:443\n",
      "2020-05-14 15:32:44,628 - DEBUG - https://dunia.tempo.co:443 \"GET /read/1142124/kenapa-yaman-dilanda-perang HTTP/1.1\" 200 None\n"
     ]
    },
    {
     "name": "stdout",
     "output_type": "stream",
     "text": [
      "found BM/ID article\n"
     ]
    },
    {
     "name": "stderr",
     "output_type": "stream",
     "text": [
      "2020-05-14 15:32:44,821 - DEBUG - Starting new HTTPS connection (1): www.hmetro.com.my:443\n",
      "2020-05-14 15:32:45,647 - DEBUG - https://www.hmetro.com.my:443 \"GET /hati/2019/06/468734/bantu-capai-berat-ideal HTTP/1.1\" 200 None\n",
      "2020-05-14 15:32:45,767 - DEBUG - Starting new HTTPS connection (1): www.hmetro.com.my:443\n",
      "2020-05-14 15:32:45,867 - DEBUG - https://www.hmetro.com.my:443 \"GET /hati/2019/06/468734/bantu-capai-berat-ideal HTTP/1.1\" 200 None\n"
     ]
    },
    {
     "name": "stdout",
     "output_type": "stream",
     "text": [
      "found BM/ID article\n"
     ]
    },
    {
     "name": "stderr",
     "output_type": "stream",
     "text": [
      "2020-05-14 15:32:46,034 - DEBUG - Starting new HTTPS connection (1): news.okezone.com:443\n",
      "2020-05-14 15:32:46,704 - DEBUG - https://news.okezone.com:443 \"GET /read/2015/03/28/18/1125649/kronologi-konflik-yaman-hingga-kini HTTP/1.1\" 200 None\n",
      "2020-05-14 15:32:46,862 - DEBUG - Starting new HTTPS connection (1): www.sinarharian.com.my:443\n",
      "2020-05-14 15:32:47,258 - DEBUG - https://www.sinarharian.com.my:443 \"GET /article/38753/GLOBAL/PBB-hantar-makanan-ke-Yaman HTTP/1.1\" 200 None\n",
      "2020-05-14 15:32:47,386 - DEBUG - Starting new HTTPS connection (1): www.bharian.com.my:443\n",
      "2020-05-14 15:32:48,607 - DEBUG - https://www.bharian.com.my:443 \"GET /berita/nasional/2019/06/570416/dialog-shangri-la-perkasa-kerjasama-pertahanan-serantau HTTP/1.1\" 200 None\n",
      "2020-05-14 15:32:48,743 - DEBUG - Starting new HTTPS connection (1): www.bharian.com.my:443\n",
      "2020-05-14 15:32:48,822 - DEBUG - https://www.bharian.com.my:443 \"GET /berita/nasional/2019/06/570416/dialog-shangri-la-perkasa-kerjasama-pertahanan-serantau HTTP/1.1\" 200 None\n"
     ]
    },
    {
     "name": "stdout",
     "output_type": "stream",
     "text": [
      "found BM/ID article\n"
     ]
    },
    {
     "name": "stderr",
     "output_type": "stream",
     "text": [
      "2020-05-14 15:32:58,961 - DEBUG - Starting new HTTPS connection (1): www.google.com.my:443\n",
      "2020-05-14 15:32:59,090 - DEBUG - https://www.google.com.my:443 \"GET /search?q=isu+yaman&source=lnt&tbs=cdr%3A1%2Ccd_min%3A2000%2Ccd_max%3A2021&tbm=nws&start=70 HTTP/1.1\" 200 None\n",
      "2020-05-14 15:33:00,161 - DEBUG - utf-8  confidence = 0.99\n",
      "2020-05-14 15:33:00,162 - DEBUG - SHIFT_JIS Japanese confidence = 0.01\n",
      "2020-05-14 15:33:00,163 - DEBUG - EUC-JP Japanese confidence = 0.01\n",
      "2020-05-14 15:33:00,163 - DEBUG - GB2312 Chinese confidence = 0.01\n",
      "2020-05-14 15:33:00,164 - DEBUG - EUC-KR Korean confidence = 0.01\n",
      "2020-05-14 15:33:00,165 - DEBUG - CP949 Korean confidence = 0.01\n",
      "2020-05-14 15:33:00,166 - DEBUG - Big5 Chinese confidence = 0.01\n",
      "2020-05-14 15:33:00,166 - DEBUG - EUC-TW Taiwan confidence = 0.01\n",
      "2020-05-14 15:33:00,167 - DEBUG - windows-1251 Russian confidence = 0.01\n",
      "2020-05-14 15:33:00,167 - DEBUG - KOI8-R Russian confidence = 0.01\n",
      "2020-05-14 15:33:00,167 - DEBUG - ISO-8859-5 Russian confidence = 0.01\n",
      "2020-05-14 15:33:00,168 - DEBUG - MacCyrillic Russian confidence = 0.01\n",
      "2020-05-14 15:33:00,168 - DEBUG - IBM866 Russian confidence = 0.01\n",
      "2020-05-14 15:33:00,169 - DEBUG - IBM855 Russian confidence = 0.01\n",
      "2020-05-14 15:33:00,169 - DEBUG - ISO-8859-7 Greek confidence = 0.01\n",
      "2020-05-14 15:33:00,170 - DEBUG - windows-1253 Greek confidence = 0.01\n",
      "2020-05-14 15:33:00,170 - DEBUG - ISO-8859-5 Bulgairan confidence = 0.01\n",
      "2020-05-14 15:33:00,171 - DEBUG - windows-1251 Bulgarian confidence = 0.01\n",
      "2020-05-14 15:33:00,171 - DEBUG - TIS-620 Thai confidence = 0.01\n",
      "2020-05-14 15:33:00,171 - DEBUG - ISO-8859-9 Turkish confidence = 0.40544147083979815\n",
      "2020-05-14 15:33:00,172 - DEBUG - windows-1255 Hebrew confidence = 0.0\n",
      "2020-05-14 15:33:00,172 - DEBUG - windows-1255 Hebrew confidence = 0.0\n",
      "2020-05-14 15:33:00,173 - DEBUG - windows-1255 Hebrew confidence = 0.0\n",
      "2020-05-14 15:33:00,173 - DEBUG - utf-8  confidence = 0.99\n",
      "2020-05-14 15:33:00,174 - DEBUG - SHIFT_JIS Japanese confidence = 0.01\n",
      "2020-05-14 15:33:00,174 - DEBUG - EUC-JP Japanese confidence = 0.01\n",
      "2020-05-14 15:33:00,175 - DEBUG - GB2312 Chinese confidence = 0.01\n",
      "2020-05-14 15:33:00,175 - DEBUG - EUC-KR Korean confidence = 0.01\n",
      "2020-05-14 15:33:00,176 - DEBUG - CP949 Korean confidence = 0.01\n",
      "2020-05-14 15:33:00,176 - DEBUG - Big5 Chinese confidence = 0.01\n",
      "2020-05-14 15:33:00,177 - DEBUG - EUC-TW Taiwan confidence = 0.01\n",
      "2020-05-14 15:33:00,236 - DEBUG - Starting new HTTPS connection (1): www.cnnindonesia.com:443\n",
      "2020-05-14 15:33:01,081 - DEBUG - https://www.cnnindonesia.com:443 \"GET /internasional/20190516164043-120-395500/kilang-minyak-dibom-saudi-serang-balik-pemberontak-yaman HTTP/1.1\" 200 None\n",
      "2020-05-14 15:33:01,272 - DEBUG - Starting new HTTPS connection (1): www.bharian.com.my:443\n",
      "2020-05-14 15:33:02,207 - DEBUG - https://www.bharian.com.my:443 \"GET /dunia/amerika/2020/04/672801/covid-19-letakkan-senjata-tumpu-usaha-lawan-pandemik HTTP/1.1\" 200 None\n",
      "2020-05-14 15:33:02,346 - DEBUG - Starting new HTTPS connection (1): www.bharian.com.my:443\n"
     ]
    },
    {
     "name": "stdout",
     "output_type": "stream",
     "text": [
      "found BM/ID article\n"
     ]
    },
    {
     "name": "stderr",
     "output_type": "stream",
     "text": [
      "2020-05-14 15:33:02,924 - DEBUG - https://www.bharian.com.my:443 \"GET /dunia/amerika/2020/04/672801/covid-19-letakkan-senjata-tumpu-usaha-lawan-pandemik HTTP/1.1\" 200 None\n",
      "2020-05-14 15:33:03,159 - DEBUG - Starting new HTTPS connection (1): www.sinarharian.com.my:443\n",
      "2020-05-14 15:33:03,465 - DEBUG - https://www.sinarharian.com.my:443 \"GET /article/48055/BERITA/Nasional/Isu-projek-RM450-juta-Guan-Eng-akan-bincang-dengan-PM HTTP/1.1\" 200 None\n",
      "2020-05-14 15:33:03,610 - DEBUG - Starting new HTTPS connection (1): news.detik.com:443\n",
      "2020-05-14 15:33:04,928 - DEBUG - https://news.detik.com:443 \"GET /kolom/d-4210315/kejahatan-perang-di-yaman HTTP/1.1\" 200 None\n",
      "2020-05-14 15:33:05,113 - DEBUG - Starting new HTTPS connection (1): www.bharian.com.my:443\n",
      "2020-05-14 15:33:06,611 - DEBUG - https://www.bharian.com.my:443 \"GET /node/159818 HTTP/1.1\" 200 None\n",
      "2020-05-14 15:33:06,753 - DEBUG - Starting new HTTPS connection (1): www.bharian.com.my:443\n",
      "2020-05-14 15:33:06,833 - DEBUG - https://www.bharian.com.my:443 \"GET /node/159818 HTTP/1.1\" 200 None\n"
     ]
    },
    {
     "name": "stdout",
     "output_type": "stream",
     "text": [
      "found BM/ID article\n"
     ]
    },
    {
     "name": "stderr",
     "output_type": "stream",
     "text": [
      "2020-05-14 15:33:06,983 - DEBUG - Starting new HTTPS connection (1): www.sinarharian.com.my:443\n",
      "2020-05-14 15:33:07,264 - DEBUG - https://www.sinarharian.com.my:443 \"GET /article/17976/GLOBAL/Senat-lulus-resolusi-tamatkan-sokongan-AS-di-Yaman HTTP/1.1\" 200 None\n",
      "2020-05-14 15:33:07,424 - DEBUG - Starting new HTTPS connection (1): www.republika.co.id:443\n",
      "2020-05-14 15:33:07,565 - DEBUG - https://www.republika.co.id:443 \"GET /berita/internasional/timur-tengah/18/01/17/p2on99366-perang-yaman-5000-anak-tewas-dan-400-ribu-malnutrisi HTTP/1.1\" 200 None\n",
      "2020-05-14 15:33:07,871 - DEBUG - Starting new HTTPS connection (1): www.malaysiakini.com:443\n",
      "2020-05-14 15:33:08,125 - DEBUG - https://www.malaysiakini.com:443 \"GET /news/509871 HTTP/1.1\" 200 None\n",
      "2020-05-14 15:33:08,218 - DEBUG - Starting new HTTPS connection (1): www.malaysiakini.com:443\n",
      "2020-05-14 15:33:08,300 - DEBUG - https://www.malaysiakini.com:443 \"GET /news/509871 HTTP/1.1\" 200 None\n"
     ]
    },
    {
     "name": "stdout",
     "output_type": "stream",
     "text": [
      "found BM/ID article\n"
     ]
    },
    {
     "name": "stderr",
     "output_type": "stream",
     "text": [
      "2020-05-14 15:33:08,422 - DEBUG - Starting new HTTPS connection (1): www.gatra.com:443\n",
      "2020-05-14 15:33:09,170 - DEBUG - https://www.gatra.com:443 \"GET /detail/news/436345/internasional/serangan-arab-saudi-di-yaman-munculkan-gerakan-boikot-haji HTTP/1.1\" 200 None\n",
      "2020-05-14 15:33:09,234 - DEBUG - Starting new HTTPS connection (1): www.gatra.com:443\n",
      "2020-05-14 15:33:09,316 - DEBUG - https://www.gatra.com:443 \"GET /detail/news/436345/internasional/serangan-arab-saudi-di-yaman-munculkan-gerakan-boikot-haji HTTP/1.1\" 200 None\n",
      "2020-05-14 15:33:09,397 - DEBUG - Starting new HTTPS connection (1): www.bharian.com.my:443\n"
     ]
    },
    {
     "name": "stdout",
     "output_type": "stream",
     "text": [
      "found BM/ID article\n"
     ]
    },
    {
     "name": "stderr",
     "output_type": "stream",
     "text": [
      "2020-05-14 15:33:10,904 - DEBUG - https://www.bharian.com.my:443 \"GET /node/29931 HTTP/1.1\" 200 None\n",
      "2020-05-14 15:33:21,075 - DEBUG - Starting new HTTPS connection (1): www.google.com.my:443\n",
      "2020-05-14 15:33:21,201 - DEBUG - https://www.google.com.my:443 \"GET /search?q=isu+yaman&source=lnt&tbs=cdr%3A1%2Ccd_min%3A2000%2Ccd_max%3A2021&tbm=nws&start=80 HTTP/1.1\" 200 None\n",
      "2020-05-14 15:33:22,351 - DEBUG - utf-8  confidence = 0.99\n",
      "2020-05-14 15:33:22,351 - DEBUG - SHIFT_JIS Japanese confidence = 0.01\n",
      "2020-05-14 15:33:22,352 - DEBUG - EUC-JP Japanese confidence = 0.01\n",
      "2020-05-14 15:33:22,352 - DEBUG - GB2312 Chinese confidence = 0.01\n",
      "2020-05-14 15:33:22,353 - DEBUG - EUC-KR Korean confidence = 0.01\n",
      "2020-05-14 15:33:22,354 - DEBUG - CP949 Korean confidence = 0.01\n",
      "2020-05-14 15:33:22,355 - DEBUG - Big5 Chinese confidence = 0.01\n",
      "2020-05-14 15:33:22,356 - DEBUG - EUC-TW Taiwan confidence = 0.01\n",
      "2020-05-14 15:33:22,356 - DEBUG - windows-1251 Russian confidence = 0.01\n",
      "2020-05-14 15:33:22,357 - DEBUG - KOI8-R Russian confidence = 0.01\n",
      "2020-05-14 15:33:22,358 - DEBUG - ISO-8859-5 Russian confidence = 0.01\n",
      "2020-05-14 15:33:22,359 - DEBUG - MacCyrillic Russian confidence = 0.0\n",
      "2020-05-14 15:33:22,359 - DEBUG - IBM866 Russian confidence = 0.0\n",
      "2020-05-14 15:33:22,360 - DEBUG - IBM855 Russian confidence = 0.01\n",
      "2020-05-14 15:33:22,360 - DEBUG - ISO-8859-7 Greek confidence = 0.0\n",
      "2020-05-14 15:33:22,361 - DEBUG - windows-1253 Greek confidence = 0.0\n",
      "2020-05-14 15:33:22,362 - DEBUG - ISO-8859-5 Bulgairan confidence = 0.01\n",
      "2020-05-14 15:33:22,362 - DEBUG - windows-1251 Bulgarian confidence = 0.01\n",
      "2020-05-14 15:33:22,363 - DEBUG - TIS-620 Thai confidence = 0.01\n",
      "2020-05-14 15:33:22,363 - DEBUG - ISO-8859-9 Turkish confidence = 0.40353093299077\n",
      "2020-05-14 15:33:22,364 - DEBUG - windows-1255 Hebrew confidence = 0.0\n",
      "2020-05-14 15:33:22,365 - DEBUG - windows-1255 Hebrew confidence = 0.0\n",
      "2020-05-14 15:33:22,365 - DEBUG - windows-1255 Hebrew confidence = 0.0\n",
      "2020-05-14 15:33:22,366 - DEBUG - utf-8  confidence = 0.99\n",
      "2020-05-14 15:33:22,366 - DEBUG - SHIFT_JIS Japanese confidence = 0.01\n",
      "2020-05-14 15:33:22,366 - DEBUG - EUC-JP Japanese confidence = 0.01\n",
      "2020-05-14 15:33:22,367 - DEBUG - GB2312 Chinese confidence = 0.01\n",
      "2020-05-14 15:33:22,368 - DEBUG - EUC-KR Korean confidence = 0.01\n",
      "2020-05-14 15:33:22,368 - DEBUG - CP949 Korean confidence = 0.01\n",
      "2020-05-14 15:33:22,368 - DEBUG - Big5 Chinese confidence = 0.01\n",
      "2020-05-14 15:33:22,369 - DEBUG - EUC-TW Taiwan confidence = 0.01\n",
      "2020-05-14 15:33:22,401 - DEBUG - Starting new HTTPS connection (1): www.malaysiakini.com:443\n",
      "2020-05-14 15:33:22,692 - DEBUG - https://www.malaysiakini.com:443 \"GET /news/371335 HTTP/1.1\" 200 None\n",
      "2020-05-14 15:33:22,795 - DEBUG - Starting new HTTPS connection (1): www.malaysiakini.com:443\n",
      "2020-05-14 15:33:22,889 - DEBUG - https://www.malaysiakini.com:443 \"GET /news/371335 HTTP/1.1\" 200 None\n"
     ]
    },
    {
     "name": "stdout",
     "output_type": "stream",
     "text": [
      "found BM/ID article\n"
     ]
    },
    {
     "name": "stderr",
     "output_type": "stream",
     "text": [
      "2020-05-14 15:33:23,003 - DEBUG - Starting new HTTPS connection (1): www.bharian.com.my:443\n",
      "2020-05-14 15:33:24,840 - DEBUG - https://www.bharian.com.my:443 \"GET /node/245959 HTTP/1.1\" 200 None\n",
      "2020-05-14 15:33:24,974 - DEBUG - Starting new HTTPS connection (1): www.bharian.com.my:443\n",
      "2020-05-14 15:33:25,067 - DEBUG - https://www.bharian.com.my:443 \"GET /node/245959 HTTP/1.1\" 200 None\n"
     ]
    },
    {
     "name": "stdout",
     "output_type": "stream",
     "text": [
      "found BM/ID article\n"
     ]
    },
    {
     "name": "stderr",
     "output_type": "stream",
     "text": [
      "2020-05-14 15:33:25,204 - DEBUG - Starting new HTTPS connection (1): www.bharian.com.my:443\n",
      "2020-05-14 15:33:27,705 - DEBUG - https://www.bharian.com.my:443 \"GET /berita/nasional/2017/11/355928/selesaikan-sebelum-lebih-parah-ahmad-zahid HTTP/1.1\" 200 None\n",
      "2020-05-14 15:33:27,862 - DEBUG - Starting new HTTPS connection (1): www.bharian.com.my:443\n",
      "2020-05-14 15:33:27,947 - DEBUG - https://www.bharian.com.my:443 \"GET /berita/nasional/2017/11/355928/selesaikan-sebelum-lebih-parah-ahmad-zahid HTTP/1.1\" 200 None\n"
     ]
    },
    {
     "name": "stdout",
     "output_type": "stream",
     "text": [
      "found BM/ID article\n"
     ]
    },
    {
     "name": "stderr",
     "output_type": "stream",
     "text": [
      "2020-05-14 15:33:28,099 - DEBUG - Starting new HTTPS connection (1): www.bharian.com.my:443\n",
      "2020-05-14 15:33:28,885 - DEBUG - https://www.bharian.com.my:443 \"GET /berita/nasional/2017/11/353151/unicef-komited-laksana-agenda-bela-kanak-kanak HTTP/1.1\" 200 None\n",
      "2020-05-14 15:33:29,027 - DEBUG - Starting new HTTPS connection (1): www.bharian.com.my:443\n",
      "2020-05-14 15:33:29,119 - DEBUG - https://www.bharian.com.my:443 \"GET /berita/nasional/2017/11/353151/unicef-komited-laksana-agenda-bela-kanak-kanak HTTP/1.1\" 200 None\n"
     ]
    },
    {
     "name": "stdout",
     "output_type": "stream",
     "text": [
      "found BM/ID article\n"
     ]
    },
    {
     "name": "stderr",
     "output_type": "stream",
     "text": [
      "2020-05-14 15:33:29,271 - DEBUG - Starting new HTTPS connection (1): www.hmetro.com.my:443\n",
      "2020-05-14 15:33:30,266 - DEBUG - https://www.hmetro.com.my:443 \"GET /mutakhir/2018/08/369600/sprm-pdrm-digesa-siasat-dana-rm555-juta HTTP/1.1\" 200 None\n",
      "2020-05-14 15:33:30,382 - DEBUG - Starting new HTTPS connection (1): www.hmetro.com.my:443\n",
      "2020-05-14 15:33:30,457 - DEBUG - https://www.hmetro.com.my:443 \"GET /mutakhir/2018/08/369600/sprm-pdrm-digesa-siasat-dana-rm555-juta HTTP/1.1\" 200 None\n"
     ]
    },
    {
     "name": "stdout",
     "output_type": "stream",
     "text": [
      "found BM/ID article\n"
     ]
    },
    {
     "name": "stderr",
     "output_type": "stream",
     "text": [
      "2020-05-14 15:33:30,603 - DEBUG - Starting new HTTPS connection (1): aceh.tribunnews.com:443\n",
      "2020-05-14 15:33:31,084 - DEBUG - https://aceh.tribunnews.com:443 \"GET /2016/07/20/kisah-miris-di-yaman-dinikahkan-dengan-pria-tua-bocah-8-tahun-tewas-di-malam-pertama HTTP/1.1\" 200 27099\n",
      "2020-05-14 15:33:31,229 - DEBUG - Starting new HTTPS connection (1): aceh.tribunnews.com:443\n",
      "2020-05-14 15:33:31,673 - DEBUG - https://aceh.tribunnews.com:443 \"GET /2018/03/27/dunia-kecam-serangan-7-rudal-ke-arab-saudi-iran-dicurigai-sebagai-pemasok-senjata HTTP/1.1\" 200 27556\n",
      "2020-05-14 15:33:31,821 - DEBUG - Starting new HTTPS connection (1): www.bharian.com.my:443\n",
      "2020-05-14 15:33:33,527 - DEBUG - https://www.bharian.com.my:443 \"GET /node/261309 HTTP/1.1\" 200 None\n",
      "2020-05-14 15:33:33,659 - DEBUG - Starting new HTTPS connection (1): www.bharian.com.my:443\n",
      "2020-05-14 15:33:33,730 - DEBUG - https://www.bharian.com.my:443 \"GET /node/261309 HTTP/1.1\" 200 None\n"
     ]
    },
    {
     "name": "stdout",
     "output_type": "stream",
     "text": [
      "found BM/ID article\n"
     ]
    },
    {
     "name": "stderr",
     "output_type": "stream",
     "text": [
      "2020-05-14 15:33:33,866 - DEBUG - Starting new HTTPS connection (1): www.medcom.id:443\n",
      "2020-05-14 15:33:34,093 - DEBUG - https://www.medcom.id:443 \"GET /internasional/dunia/1bVV4p2b-pemberontakan-houthi-dan-intervensi-saudi-di-yaman HTTP/1.1\" 200 None\n",
      "2020-05-14 15:33:34,340 - DEBUG - Starting new HTTP connection (1): www.astroawani.com:80\n",
      "2020-05-14 15:33:35,648 - DEBUG - http://www.astroawani.com:80 \"GET /berita-dunia/ketegangan-politik-qatar-dan-negara-teluk-boleh-bawa-kerugian-berbilion-dolar-145203 HTTP/1.1\" 200 17267\n",
      "2020-05-14 15:33:35,765 - DEBUG - Starting new HTTP connection (1): www.astroawani.com:80\n",
      "2020-05-14 15:33:35,946 - DEBUG - http://www.astroawani.com:80 \"GET /berita-dunia/ketegangan-politik-qatar-dan-negara-teluk-boleh-bawa-kerugian-berbilion-dolar-145203 HTTP/1.1\" 200 17267\n"
     ]
    },
    {
     "name": "stdout",
     "output_type": "stream",
     "text": [
      "found BM/ID article\n"
     ]
    },
    {
     "name": "stderr",
     "output_type": "stream",
     "text": [
      "2020-05-14 15:33:46,071 - DEBUG - Starting new HTTPS connection (1): www.google.com.my:443\n",
      "2020-05-14 15:33:46,195 - DEBUG - https://www.google.com.my:443 \"GET /search?q=isu+yaman&source=lnt&tbs=cdr%3A1%2Ccd_min%3A2000%2Ccd_max%3A2021&tbm=nws&start=90 HTTP/1.1\" 200 None\n",
      "2020-05-14 15:33:47,269 - DEBUG - utf-8  confidence = 0.99\n",
      "2020-05-14 15:33:47,270 - DEBUG - SHIFT_JIS Japanese confidence = 0.01\n",
      "2020-05-14 15:33:47,271 - DEBUG - EUC-JP Japanese confidence = 0.01\n",
      "2020-05-14 15:33:47,272 - DEBUG - GB2312 Chinese confidence = 0.01\n",
      "2020-05-14 15:33:47,273 - DEBUG - EUC-KR Korean confidence = 0.01\n",
      "2020-05-14 15:33:47,274 - DEBUG - CP949 Korean confidence = 0.01\n",
      "2020-05-14 15:33:47,274 - DEBUG - Big5 Chinese confidence = 0.01\n",
      "2020-05-14 15:33:47,275 - DEBUG - EUC-TW Taiwan confidence = 0.01\n",
      "2020-05-14 15:33:47,275 - DEBUG - windows-1251 Russian confidence = 0.01\n",
      "2020-05-14 15:33:47,276 - DEBUG - KOI8-R Russian confidence = 0.01\n",
      "2020-05-14 15:33:47,277 - DEBUG - ISO-8859-5 Russian confidence = 0.01\n",
      "2020-05-14 15:33:47,277 - DEBUG - MacCyrillic Russian confidence = 0.01\n",
      "2020-05-14 15:33:47,278 - DEBUG - IBM866 Russian confidence = 0.01\n",
      "2020-05-14 15:33:47,279 - DEBUG - IBM855 Russian confidence = 0.01\n",
      "2020-05-14 15:33:47,279 - DEBUG - ISO-8859-7 Greek confidence = 0.0\n",
      "2020-05-14 15:33:47,280 - DEBUG - windows-1253 Greek confidence = 0.0\n",
      "2020-05-14 15:33:47,280 - DEBUG - ISO-8859-5 Bulgairan confidence = 0.01\n",
      "2020-05-14 15:33:47,281 - DEBUG - windows-1251 Bulgarian confidence = 0.01\n",
      "2020-05-14 15:33:47,281 - DEBUG - TIS-620 Thai confidence = 0.01\n",
      "2020-05-14 15:33:47,282 - DEBUG - ISO-8859-9 Turkish confidence = 0.41183426557119335\n",
      "2020-05-14 15:33:47,282 - DEBUG - windows-1255 Hebrew confidence = 0.0\n",
      "2020-05-14 15:33:47,283 - DEBUG - windows-1255 Hebrew confidence = 0.0\n",
      "2020-05-14 15:33:47,283 - DEBUG - windows-1255 Hebrew confidence = 0.0\n",
      "2020-05-14 15:33:47,284 - DEBUG - utf-8  confidence = 0.99\n",
      "2020-05-14 15:33:47,285 - DEBUG - SHIFT_JIS Japanese confidence = 0.01\n",
      "2020-05-14 15:33:47,285 - DEBUG - EUC-JP Japanese confidence = 0.01\n",
      "2020-05-14 15:33:47,286 - DEBUG - GB2312 Chinese confidence = 0.01\n",
      "2020-05-14 15:33:47,286 - DEBUG - EUC-KR Korean confidence = 0.01\n",
      "2020-05-14 15:33:47,287 - DEBUG - CP949 Korean confidence = 0.01\n",
      "2020-05-14 15:33:47,287 - DEBUG - Big5 Chinese confidence = 0.01\n",
      "2020-05-14 15:33:47,288 - DEBUG - EUC-TW Taiwan confidence = 0.01\n",
      "2020-05-14 15:33:47,318 - DEBUG - Starting new HTTPS connection (1): www.bharian.com.my:443\n",
      "2020-05-14 15:33:49,105 - DEBUG - https://www.bharian.com.my:443 \"GET /node/107955 HTTP/1.1\" 200 None\n",
      "2020-05-14 15:33:49,238 - DEBUG - Starting new HTTPS connection (1): www.bharian.com.my:443\n",
      "2020-05-14 15:33:49,322 - DEBUG - https://www.bharian.com.my:443 \"GET /node/107955 HTTP/1.1\" 200 None\n"
     ]
    },
    {
     "name": "stdout",
     "output_type": "stream",
     "text": [
      "found BM/ID article\n"
     ]
    },
    {
     "name": "stderr",
     "output_type": "stream",
     "text": [
      "2020-05-14 15:33:49,462 - DEBUG - Starting new HTTPS connection (1): www.bharian.com.my:443\n",
      "2020-05-14 15:33:50,131 - DEBUG - https://www.bharian.com.my:443 \"GET /node/30922 HTTP/1.1\" 200 None\n",
      "2020-05-14 15:33:50,269 - DEBUG - Starting new HTTPS connection (1): www.bharian.com.my:443\n",
      "2020-05-14 15:33:50,352 - DEBUG - https://www.bharian.com.my:443 \"GET /node/30922 HTTP/1.1\" 200 None\n"
     ]
    },
    {
     "name": "stdout",
     "output_type": "stream",
     "text": [
      "found BM/ID article\n"
     ]
    },
    {
     "name": "stderr",
     "output_type": "stream",
     "text": [
      "2020-05-14 15:33:50,517 - DEBUG - Starting new HTTPS connection (1): www.tempo.co:443\n",
      "2020-05-14 15:33:50,714 - DEBUG - https://www.tempo.co:443 \"GET /abc/3608/paus-fransiskus-lakukan-kunjungan-bersejarah-pertama-ke-kawasan-teluk HTTP/1.1\" 200 None\n",
      "2020-05-14 15:33:50,913 - DEBUG - Starting new HTTPS connection (1): www.bharian.com.my:443\n",
      "2020-05-14 15:33:51,566 - DEBUG - https://www.bharian.com.my:443 \"GET /dunia/eropah/2017/09/330802/ireland-buat-pungutan-suara-isu-pengguguran HTTP/1.1\" 200 None\n",
      "2020-05-14 15:33:51,704 - DEBUG - Starting new HTTPS connection (1): www.bharian.com.my:443\n",
      "2020-05-14 15:33:51,786 - DEBUG - https://www.bharian.com.my:443 \"GET /dunia/eropah/2017/09/330802/ireland-buat-pungutan-suara-isu-pengguguran HTTP/1.1\" 200 None\n"
     ]
    },
    {
     "name": "stdout",
     "output_type": "stream",
     "text": [
      "found BM/ID article\n"
     ]
    },
    {
     "name": "stderr",
     "output_type": "stream",
     "text": [
      "2020-05-14 15:33:51,933 - DEBUG - Starting new HTTPS connection (1): www.malaysiakini.com:443\n",
      "2020-05-14 15:33:52,186 - DEBUG - https://www.malaysiakini.com:443 \"GET /columns/401382 HTTP/1.1\" 200 None\n",
      "2020-05-14 15:33:52,300 - DEBUG - Starting new HTTPS connection (1): www.sinarharian.com.my:443\n",
      "2020-05-14 15:33:52,643 - DEBUG - https://www.sinarharian.com.my:443 \"GET /article/17444/EDISI/Kelantan/Kerajaan-kena-ambil-tindakan-isu-LGBT-Bersatu-Kota-Bharu HTTP/1.1\" 200 None\n",
      "2020-05-14 15:33:52,764 - DEBUG - Starting new HTTPS connection (1): www.bharian.com.my:443\n",
      "2020-05-14 15:33:53,781 - DEBUG - https://www.bharian.com.my:443 \"GET /berita/nasional/2019/04/553025/kementerian-luar-bantah-senaraikan-malaysia-negara-k HTTP/1.1\" 200 None\n",
      "2020-05-14 15:33:53,921 - DEBUG - Starting new HTTPS connection (1): www.bharian.com.my:443\n",
      "2020-05-14 15:33:54,002 - DEBUG - https://www.bharian.com.my:443 \"GET /berita/nasional/2019/04/553025/kementerian-luar-bantah-senaraikan-malaysia-negara-k HTTP/1.1\" 200 None\n"
     ]
    },
    {
     "name": "stdout",
     "output_type": "stream",
     "text": [
      "found BM/ID article\n"
     ]
    },
    {
     "name": "stderr",
     "output_type": "stream",
     "text": [
      "2020-05-14 15:33:54,145 - DEBUG - Starting new HTTPS connection (1): www.malaysiakini.com:443\n",
      "2020-05-14 15:33:54,349 - DEBUG - https://www.malaysiakini.com:443 \"GET /news/462349 HTTP/1.1\" 200 None\n",
      "2020-05-14 15:33:54,440 - DEBUG - Starting new HTTPS connection (1): www.malaysiakini.com:443\n",
      "2020-05-14 15:33:54,521 - DEBUG - https://www.malaysiakini.com:443 \"GET /news/462349 HTTP/1.1\" 200 None\n",
      "2020-05-14 15:33:54,614 - DEBUG - Starting new HTTPS connection (1): www.cnnindonesia.com:443\n"
     ]
    },
    {
     "name": "stdout",
     "output_type": "stream",
     "text": [
      "found BM/ID article\n"
     ]
    },
    {
     "name": "stderr",
     "output_type": "stream",
     "text": [
      "2020-05-14 15:33:55,339 - DEBUG - https://www.cnnindonesia.com:443 \"GET /internasional/20171203223806-120-259891/perang-jalanan-dan-terbelahnya-pemberontak-di-yaman HTTP/1.1\" 200 None\n",
      "2020-05-14 15:33:55,622 - DEBUG - Starting new HTTPS connection (1): www.bharian.com.my:443\n",
      "2020-05-14 15:33:56,205 - DEBUG - https://www.bharian.com.my:443 \"GET /node/28232 HTTP/1.1\" 200 None\n",
      "2020-05-14 15:33:56,342 - DEBUG - Starting new HTTPS connection (1): www.bharian.com.my:443\n",
      "2020-05-14 15:33:56,435 - DEBUG - https://www.bharian.com.my:443 \"GET /node/28232 HTTP/1.1\" 200 None\n"
     ]
    },
    {
     "name": "stdout",
     "output_type": "stream",
     "text": [
      "found BM/ID article\n"
     ]
    },
    {
     "name": "stderr",
     "output_type": "stream",
     "text": [
      "2020-05-14 15:34:06,590 - DEBUG - Starting new HTTPS connection (1): www.google.com.my:443\n",
      "2020-05-14 15:34:06,709 - DEBUG - https://www.google.com.my:443 \"GET /search?q=isu+yaman&source=lnt&tbs=cdr%3A1%2Ccd_min%3A2000%2Ccd_max%3A2021&tbm=nws&start=100 HTTP/1.1\" 200 None\n",
      "2020-05-14 15:34:07,777 - DEBUG - utf-8  confidence = 0.99\n",
      "2020-05-14 15:34:07,777 - DEBUG - SHIFT_JIS Japanese confidence = 0.01\n",
      "2020-05-14 15:34:07,778 - DEBUG - EUC-JP Japanese confidence = 0.01\n",
      "2020-05-14 15:34:07,779 - DEBUG - GB2312 Chinese confidence = 0.01\n",
      "2020-05-14 15:34:07,780 - DEBUG - EUC-KR Korean confidence = 0.01\n",
      "2020-05-14 15:34:07,780 - DEBUG - CP949 Korean confidence = 0.01\n",
      "2020-05-14 15:34:07,781 - DEBUG - Big5 Chinese confidence = 0.01\n",
      "2020-05-14 15:34:07,782 - DEBUG - EUC-TW Taiwan confidence = 0.01\n",
      "2020-05-14 15:34:07,783 - DEBUG - windows-1251 Russian confidence = 0.01\n",
      "2020-05-14 15:34:07,783 - DEBUG - KOI8-R Russian confidence = 0.01\n",
      "2020-05-14 15:34:07,784 - DEBUG - ISO-8859-5 Russian confidence = 0.01\n",
      "2020-05-14 15:34:07,785 - DEBUG - MacCyrillic Russian confidence = 0.0\n",
      "2020-05-14 15:34:07,785 - DEBUG - IBM866 Russian confidence = 0.0\n",
      "2020-05-14 15:34:07,786 - DEBUG - IBM855 Russian confidence = 0.01\n",
      "2020-05-14 15:34:07,787 - DEBUG - ISO-8859-7 Greek confidence = 0.01\n",
      "2020-05-14 15:34:07,787 - DEBUG - windows-1253 Greek confidence = 0.01\n",
      "2020-05-14 15:34:07,788 - DEBUG - ISO-8859-5 Bulgairan confidence = 0.01\n",
      "2020-05-14 15:34:07,788 - DEBUG - windows-1251 Bulgarian confidence = 0.01\n",
      "2020-05-14 15:34:07,789 - DEBUG - TIS-620 Thai confidence = 0.01\n",
      "2020-05-14 15:34:07,790 - DEBUG - ISO-8859-9 Turkish confidence = 0.4105259565018356\n",
      "2020-05-14 15:34:07,790 - DEBUG - windows-1255 Hebrew confidence = 0.0\n",
      "2020-05-14 15:34:07,791 - DEBUG - windows-1255 Hebrew confidence = 0.0\n",
      "2020-05-14 15:34:07,791 - DEBUG - windows-1255 Hebrew confidence = 0.0\n",
      "2020-05-14 15:34:07,792 - DEBUG - utf-8  confidence = 0.99\n",
      "2020-05-14 15:34:07,792 - DEBUG - SHIFT_JIS Japanese confidence = 0.01\n",
      "2020-05-14 15:34:07,793 - DEBUG - EUC-JP Japanese confidence = 0.01\n",
      "2020-05-14 15:34:07,793 - DEBUG - GB2312 Chinese confidence = 0.01\n",
      "2020-05-14 15:34:07,794 - DEBUG - EUC-KR Korean confidence = 0.01\n",
      "2020-05-14 15:34:07,794 - DEBUG - CP949 Korean confidence = 0.01\n",
      "2020-05-14 15:34:07,795 - DEBUG - Big5 Chinese confidence = 0.01\n",
      "2020-05-14 15:34:07,795 - DEBUG - EUC-TW Taiwan confidence = 0.01\n",
      "2020-05-14 15:34:07,830 - DEBUG - Starting new HTTPS connection (1): www.bharian.com.my:443\n",
      "2020-05-14 15:34:08,668 - DEBUG - https://www.bharian.com.my:443 \"GET /taxonomy/term/1303/2017/07/280850/yaman-tidak-lagi-bertuah HTTP/1.1\" 200 None\n",
      "2020-05-14 15:34:08,811 - DEBUG - Starting new HTTPS connection (1): www.bharian.com.my:443\n",
      "2020-05-14 15:34:08,891 - DEBUG - https://www.bharian.com.my:443 \"GET /taxonomy/term/1303/2017/07/280850/yaman-tidak-lagi-bertuah HTTP/1.1\" 200 None\n"
     ]
    },
    {
     "name": "stdout",
     "output_type": "stream",
     "text": [
      "found BM/ID article\n"
     ]
    },
    {
     "name": "stderr",
     "output_type": "stream",
     "text": [
      "2020-05-14 15:34:09,069 - DEBUG - Starting new HTTPS connection (1): www.hmetro.com.my:443\n",
      "2020-05-14 15:34:10,021 - DEBUG - https://www.hmetro.com.my:443 \"GET /node/205203 HTTP/1.1\" 200 None\n",
      "2020-05-14 15:34:10,145 - DEBUG - Starting new HTTPS connection (1): www.hmetro.com.my:443\n",
      "2020-05-14 15:34:10,238 - DEBUG - https://www.hmetro.com.my:443 \"GET /node/205203 HTTP/1.1\" 200 None\n"
     ]
    },
    {
     "name": "stdout",
     "output_type": "stream",
     "text": [
      "found BM/ID article\n"
     ]
    },
    {
     "name": "stderr",
     "output_type": "stream",
     "text": [
      "2020-05-14 15:34:10,371 - DEBUG - Starting new HTTPS connection (1): www.cnnindonesia.com:443\n",
      "2020-05-14 15:34:11,135 - DEBUG - https://www.cnnindonesia.com:443 \"GET /internasional/20180906122009-120-328132/pangeran-arab-saudi-bantah-ada-perpecahan-keluarga-kerajaan HTTP/1.1\" 200 None\n",
      "2020-05-14 15:34:11,416 - DEBUG - Starting new HTTPS connection (1): www.malaysiakini.com:443\n",
      "2020-05-14 15:34:11,650 - DEBUG - https://www.malaysiakini.com:443 \"GET /letters/506320 HTTP/1.1\" 200 None\n",
      "2020-05-14 15:34:11,754 - DEBUG - Starting new HTTPS connection (1): harakahdaily.net:443\n",
      "2020-05-14 15:34:18,805 - DEBUG - Download failed on URL https://harakahdaily.net/index.php/2019/12/29/persaingan-kuasa-besar-di-era-kerasulan/ because of HTTPSConnectionPool(host='harakahdaily.net', port=443): Read timed out. (read timeout=7)\n",
      "2020-05-14 15:34:18,829 - DEBUG - Starting new HTTPS connection (1): www.liputan6.com:443\n",
      "2020-05-14 15:34:19,353 - DEBUG - https://www.liputan6.com:443 \"GET /bisnis/read/3858902/arab-saudi-gelontorkan-rp-1456-triliun-demi-perang-yaman HTTP/1.1\" 200 None\n",
      "2020-05-14 15:34:19,654 - DEBUG - Starting new HTTPS connection (1): www.bharian.com.my:443\n",
      "2020-05-14 15:34:20,586 - DEBUG - https://www.bharian.com.my:443 \"GET /kolumnis/2020/01/645517/ada-muslihat-di-sebalik-konflik-iran HTTP/1.1\" 200 None\n",
      "2020-05-14 15:34:20,732 - DEBUG - Starting new HTTPS connection (1): www.liputan6.com:443\n",
      "2020-05-14 15:34:21,098 - DEBUG - https://www.liputan6.com:443 \"GET /global/read/3804063/pbb-yaman-dan-houthi-akan-bahas-solusi-politik-pada-dialog-damai-berikutnya HTTP/1.1\" 200 None\n",
      "2020-05-14 15:34:21,336 - DEBUG - Starting new HTTPS connection (1): www.liputan6.com:443\n",
      "2020-05-14 15:34:21,485 - DEBUG - https://www.liputan6.com:443 \"GET /global/read/3804063/pbb-yaman-dan-houthi-akan-bahas-solusi-politik-pada-dialog-damai-berikutnya HTTP/1.1\" 200 74017\n"
     ]
    },
    {
     "name": "stdout",
     "output_type": "stream",
     "text": [
      "found BM/ID article\n"
     ]
    },
    {
     "name": "stderr",
     "output_type": "stream",
     "text": [
      "2020-05-14 15:34:21,767 - DEBUG - Starting new HTTPS connection (1): www.merdeka.com:443\n",
      "2020-05-14 15:34:21,908 - DEBUG - https://www.merdeka.com:443 \"GET /dunia/dk-pbb-minta-arab-saudi-dan-koalisi-hentikan-serangan-ke-pelabuhan-di-yaman.html HTTP/1.1\" 200 None\n",
      "2020-05-14 15:34:21,991 - DEBUG - Starting new HTTPS connection (1): www.merdeka.com:443\n",
      "2020-05-14 15:34:22,118 - DEBUG - https://www.merdeka.com:443 \"GET /dunia/dk-pbb-minta-arab-saudi-dan-koalisi-hentikan-serangan-ke-pelabuhan-di-yaman.html HTTP/1.1\" 200 None\n"
     ]
    },
    {
     "name": "stdout",
     "output_type": "stream",
     "text": [
      "found BM/ID article\n"
     ]
    },
    {
     "name": "stderr",
     "output_type": "stream",
     "text": [
      "2020-05-14 15:34:22,206 - DEBUG - Starting new HTTPS connection (1): www.hmetro.com.my:443\n",
      "2020-05-14 15:34:23,178 - DEBUG - https://www.hmetro.com.my:443 \"GET /mutakhir/2017/04/218647/perah-otak-isu-asia-barat-metrotv HTTP/1.1\" 200 None\n",
      "2020-05-14 15:34:23,293 - DEBUG - Starting new HTTPS connection (1): www.hmetro.com.my:443\n",
      "2020-05-14 15:34:23,400 - DEBUG - https://www.hmetro.com.my:443 \"GET /mutakhir/2017/04/218647/perah-otak-isu-asia-barat-metrotv HTTP/1.1\" 200 None\n"
     ]
    },
    {
     "name": "stdout",
     "output_type": "stream",
     "text": [
      "found BM/ID article\n"
     ]
    },
    {
     "name": "stderr",
     "output_type": "stream",
     "text": [
      "2020-05-14 15:34:33,530 - DEBUG - Starting new HTTPS connection (1): www.google.com.my:443\n",
      "2020-05-14 15:34:33,652 - DEBUG - https://www.google.com.my:443 \"GET /search?q=isu+yaman&source=lnt&tbs=cdr%3A1%2Ccd_min%3A2000%2Ccd_max%3A2021&tbm=nws&start=110 HTTP/1.1\" 200 None\n",
      "2020-05-14 15:34:34,795 - DEBUG - utf-8  confidence = 0.99\n",
      "2020-05-14 15:34:34,796 - DEBUG - SHIFT_JIS Japanese confidence = 0.01\n",
      "2020-05-14 15:34:34,796 - DEBUG - EUC-JP Japanese confidence = 0.01\n",
      "2020-05-14 15:34:34,797 - DEBUG - GB2312 Chinese confidence = 0.01\n",
      "2020-05-14 15:34:34,797 - DEBUG - EUC-KR Korean confidence = 0.01\n",
      "2020-05-14 15:34:34,798 - DEBUG - CP949 Korean confidence = 0.01\n",
      "2020-05-14 15:34:34,799 - DEBUG - Big5 Chinese confidence = 0.01\n",
      "2020-05-14 15:34:34,799 - DEBUG - EUC-TW Taiwan confidence = 0.01\n",
      "2020-05-14 15:34:34,800 - DEBUG - windows-1251 Russian confidence = 0.01\n",
      "2020-05-14 15:34:34,800 - DEBUG - KOI8-R Russian confidence = 0.01\n",
      "2020-05-14 15:34:34,801 - DEBUG - ISO-8859-5 Russian confidence = 0.01\n",
      "2020-05-14 15:34:34,801 - DEBUG - MacCyrillic Russian confidence = 0.0\n",
      "2020-05-14 15:34:34,802 - DEBUG - IBM866 Russian confidence = 0.0\n",
      "2020-05-14 15:34:34,802 - DEBUG - IBM855 Russian confidence = 0.01\n",
      "2020-05-14 15:34:34,803 - DEBUG - ISO-8859-7 Greek confidence = 0.0\n",
      "2020-05-14 15:34:34,803 - DEBUG - windows-1253 Greek confidence = 0.0\n",
      "2020-05-14 15:34:34,804 - DEBUG - ISO-8859-5 Bulgairan confidence = 0.01\n",
      "2020-05-14 15:34:34,804 - DEBUG - windows-1251 Bulgarian confidence = 0.01\n",
      "2020-05-14 15:34:34,805 - DEBUG - TIS-620 Thai confidence = 0.01\n",
      "2020-05-14 15:34:34,805 - DEBUG - ISO-8859-9 Turkish confidence = 0.41417341743687713\n",
      "2020-05-14 15:34:34,806 - DEBUG - windows-1255 Hebrew confidence = 0.0\n",
      "2020-05-14 15:34:34,807 - DEBUG - windows-1255 Hebrew confidence = 0.0\n",
      "2020-05-14 15:34:34,807 - DEBUG - windows-1255 Hebrew confidence = 0.0\n",
      "2020-05-14 15:34:34,807 - DEBUG - utf-8  confidence = 0.99\n",
      "2020-05-14 15:34:34,808 - DEBUG - SHIFT_JIS Japanese confidence = 0.01\n",
      "2020-05-14 15:34:34,809 - DEBUG - EUC-JP Japanese confidence = 0.01\n",
      "2020-05-14 15:34:34,810 - DEBUG - GB2312 Chinese confidence = 0.01\n",
      "2020-05-14 15:34:34,811 - DEBUG - EUC-KR Korean confidence = 0.01\n",
      "2020-05-14 15:34:34,811 - DEBUG - CP949 Korean confidence = 0.01\n",
      "2020-05-14 15:34:34,811 - DEBUG - Big5 Chinese confidence = 0.01\n",
      "2020-05-14 15:34:34,812 - DEBUG - EUC-TW Taiwan confidence = 0.01\n",
      "2020-05-14 15:34:34,878 - DEBUG - Starting new HTTPS connection (1): www.bharian.com.my:443\n",
      "2020-05-14 15:34:35,496 - DEBUG - https://www.bharian.com.my:443 \"GET /dunia/amerika/2017/12/365503/baitulmaqdis-sesi-tergempar-pbb-khamis-ini HTTP/1.1\" 200 None\n",
      "2020-05-14 15:34:35,640 - DEBUG - Starting new HTTPS connection (1): www.bharian.com.my:443\n",
      "2020-05-14 15:34:35,720 - DEBUG - https://www.bharian.com.my:443 \"GET /dunia/amerika/2017/12/365503/baitulmaqdis-sesi-tergempar-pbb-khamis-ini HTTP/1.1\" 200 None\n"
     ]
    },
    {
     "name": "stdout",
     "output_type": "stream",
     "text": [
      "found BM/ID article\n"
     ]
    },
    {
     "name": "stderr",
     "output_type": "stream",
     "text": [
      "2020-05-14 15:34:35,871 - DEBUG - Starting new HTTPS connection (1): aceh.tribunnews.com:443\n",
      "2020-05-14 15:34:36,239 - DEBUG - https://aceh.tribunnews.com:443 \"GET /2020/04/10/yaman-umumkan-kasus-virus-corona-pertama-sehari-setelah-gencatan-senjata HTTP/1.1\" 200 27911\n",
      "2020-05-14 15:34:36,421 - DEBUG - Starting new HTTPS connection (1): www.bbc.com:443\n",
      "2020-05-14 15:34:38,047 - DEBUG - https://www.bbc.com:443 \"GET /indonesia/dunia-46220987 HTTP/1.1\" 200 38620\n",
      "2020-05-14 15:34:38,200 - DEBUG - Starting new HTTPS connection (1): www.bharian.com.my:443\n",
      "2020-05-14 15:34:39,081 - DEBUG - https://www.bharian.com.my:443 \"GET /rencana/agama/2018/09/473203/umat-islam-semakin-hilang-kesedaran-jadi-ummah-terbaik HTTP/1.1\" 200 None\n",
      "2020-05-14 15:34:39,219 - DEBUG - Starting new HTTPS connection (1): www.bharian.com.my:443\n",
      "2020-05-14 15:34:39,329 - DEBUG - https://www.bharian.com.my:443 \"GET /rencana/agama/2018/09/473203/umat-islam-semakin-hilang-kesedaran-jadi-ummah-terbaik HTTP/1.1\" 200 None\n"
     ]
    },
    {
     "name": "stdout",
     "output_type": "stream",
     "text": [
      "found BM/ID article\n"
     ]
    },
    {
     "name": "stderr",
     "output_type": "stream",
     "text": [
      "2020-05-14 15:34:39,509 - DEBUG - Starting new HTTP connection (1): www.astroawani.com:80\n",
      "2020-05-14 15:34:40,942 - DEBUG - http://www.astroawani.com:80 \"GET /berita-malaysia/isu-dana-politik-ipcmc-dan-siasatan-kes-rasuah-lampau-perlu-diselesai-segera-tim-228827 HTTP/1.1\" 200 17668\n",
      "2020-05-14 15:34:41,060 - DEBUG - Starting new HTTPS connection (1): www.bharian.com.my:443\n",
      "2020-05-14 15:34:41,590 - DEBUG - https://www.bharian.com.my:443 \"GET /node/273194 HTTP/1.1\" 200 None\n",
      "2020-05-14 15:34:41,728 - DEBUG - Starting new HTTPS connection (1): www.bharian.com.my:443\n",
      "2020-05-14 15:34:41,816 - DEBUG - https://www.bharian.com.my:443 \"GET /node/273194 HTTP/1.1\" 200 None\n"
     ]
    },
    {
     "name": "stdout",
     "output_type": "stream",
     "text": [
      "found BM/ID article\n"
     ]
    },
    {
     "name": "stderr",
     "output_type": "stream",
     "text": [
      "2020-05-14 15:34:41,951 - DEBUG - Starting new HTTPS connection (1): www.bharian.com.my:443\n",
      "2020-05-14 15:34:42,869 - DEBUG - https://www.bharian.com.my:443 \"GET /kolumnis/2018/01/370175/cabaran-2018-dijangka-lebih-sengit HTTP/1.1\" 200 None\n",
      "2020-05-14 15:34:43,011 - DEBUG - Starting new HTTPS connection (1): www.bharian.com.my:443\n",
      "2020-05-14 15:34:43,093 - DEBUG - https://www.bharian.com.my:443 \"GET /kolumnis/2018/01/370175/cabaran-2018-dijangka-lebih-sengit HTTP/1.1\" 200 None\n"
     ]
    },
    {
     "name": "stdout",
     "output_type": "stream",
     "text": [
      "found BM/ID article\n"
     ]
    },
    {
     "name": "stderr",
     "output_type": "stream",
     "text": [
      "2020-05-14 15:34:43,242 - DEBUG - Starting new HTTPS connection (1): www.bharian.com.my:443\n",
      "2020-05-14 15:34:43,894 - DEBUG - https://www.bharian.com.my:443 \"GET /node/272061 HTTP/1.1\" 200 None\n",
      "2020-05-14 15:34:44,032 - DEBUG - Starting new HTTPS connection (1): www.bharian.com.my:443\n",
      "2020-05-14 15:34:44,108 - DEBUG - https://www.bharian.com.my:443 \"GET /node/272061 HTTP/1.1\" 200 None\n"
     ]
    },
    {
     "name": "stdout",
     "output_type": "stream",
     "text": [
      "found BM/ID article\n"
     ]
    },
    {
     "name": "stderr",
     "output_type": "stream",
     "text": [
      "2020-05-14 15:34:44,255 - DEBUG - Starting new HTTPS connection (1): www.bharian.com.my:443\n",
      "2020-05-14 15:34:45,225 - DEBUG - https://www.bharian.com.my:443 \"GET /berita/nasional/2018/10/482612/kementerian-luar-nafi-hishammuddin-bantu-pulih-hubungan-dengan-arab HTTP/1.1\" 200 None\n",
      "2020-05-14 15:34:45,357 - DEBUG - Starting new HTTPS connection (1): www.bharian.com.my:443\n",
      "2020-05-14 15:34:45,428 - DEBUG - https://www.bharian.com.my:443 \"GET /berita/nasional/2018/10/482612/kementerian-luar-nafi-hishammuddin-bantu-pulih-hubungan-dengan-arab HTTP/1.1\" 200 None\n"
     ]
    },
    {
     "name": "stdout",
     "output_type": "stream",
     "text": [
      "found BM/ID article\n"
     ]
    },
    {
     "name": "stderr",
     "output_type": "stream",
     "text": [
      "2020-05-14 15:34:45,578 - DEBUG - Starting new HTTPS connection (1): www.bbc.com:443\n",
      "2020-05-14 15:34:47,680 - DEBUG - https://www.bbc.com:443 \"GET /indonesia/majalah-46600825 HTTP/1.1\" 200 37877\n",
      "2020-05-14 15:34:57,843 - DEBUG - Starting new HTTPS connection (1): www.google.com.my:443\n",
      "2020-05-14 15:34:57,959 - DEBUG - https://www.google.com.my:443 \"GET /search?q=isu+yaman&source=lnt&tbs=cdr%3A1%2Ccd_min%3A2000%2Ccd_max%3A2021&tbm=nws&start=120 HTTP/1.1\" 200 None\n",
      "2020-05-14 15:34:59,058 - DEBUG - utf-8  confidence = 0.99\n",
      "2020-05-14 15:34:59,059 - DEBUG - SHIFT_JIS Japanese confidence = 0.01\n",
      "2020-05-14 15:34:59,059 - DEBUG - EUC-JP Japanese confidence = 0.01\n",
      "2020-05-14 15:34:59,060 - DEBUG - GB2312 Chinese confidence = 0.01\n",
      "2020-05-14 15:34:59,060 - DEBUG - EUC-KR Korean confidence = 0.01\n",
      "2020-05-14 15:34:59,061 - DEBUG - CP949 Korean confidence = 0.01\n",
      "2020-05-14 15:34:59,061 - DEBUG - Big5 Chinese confidence = 0.01\n",
      "2020-05-14 15:34:59,062 - DEBUG - EUC-TW Taiwan confidence = 0.01\n",
      "2020-05-14 15:34:59,063 - DEBUG - windows-1251 Russian confidence = 0.01\n",
      "2020-05-14 15:34:59,064 - DEBUG - KOI8-R Russian confidence = 0.01\n",
      "2020-05-14 15:34:59,064 - DEBUG - ISO-8859-5 Russian confidence = 0.01\n",
      "2020-05-14 15:34:59,065 - DEBUG - MacCyrillic Russian confidence = 0.01\n",
      "2020-05-14 15:34:59,066 - DEBUG - IBM866 Russian confidence = 0.01\n",
      "2020-05-14 15:34:59,066 - DEBUG - IBM855 Russian confidence = 0.01\n",
      "2020-05-14 15:34:59,067 - DEBUG - ISO-8859-7 Greek confidence = 0.0\n",
      "2020-05-14 15:34:59,068 - DEBUG - windows-1253 Greek confidence = 0.0\n",
      "2020-05-14 15:34:59,068 - DEBUG - ISO-8859-5 Bulgairan confidence = 0.0\n",
      "2020-05-14 15:34:59,069 - DEBUG - windows-1251 Bulgarian confidence = 0.0\n",
      "2020-05-14 15:34:59,070 - DEBUG - TIS-620 Thai confidence = 0.01\n",
      "2020-05-14 15:34:59,070 - DEBUG - ISO-8859-9 Turkish confidence = 0.4129030219186523\n",
      "2020-05-14 15:34:59,071 - DEBUG - windows-1255 Hebrew confidence = 0.0\n",
      "2020-05-14 15:34:59,072 - DEBUG - windows-1255 Hebrew confidence = 0.0\n",
      "2020-05-14 15:34:59,073 - DEBUG - windows-1255 Hebrew confidence = 0.0\n",
      "2020-05-14 15:34:59,074 - DEBUG - utf-8  confidence = 0.99\n",
      "2020-05-14 15:34:59,074 - DEBUG - SHIFT_JIS Japanese confidence = 0.01\n",
      "2020-05-14 15:34:59,075 - DEBUG - EUC-JP Japanese confidence = 0.01\n",
      "2020-05-14 15:34:59,076 - DEBUG - GB2312 Chinese confidence = 0.01\n",
      "2020-05-14 15:34:59,076 - DEBUG - EUC-KR Korean confidence = 0.01\n",
      "2020-05-14 15:34:59,077 - DEBUG - CP949 Korean confidence = 0.01\n",
      "2020-05-14 15:34:59,077 - DEBUG - Big5 Chinese confidence = 0.01\n",
      "2020-05-14 15:34:59,078 - DEBUG - EUC-TW Taiwan confidence = 0.01\n",
      "2020-05-14 15:34:59,110 - DEBUG - Starting new HTTPS connection (1): www.bharian.com.my:443\n",
      "2020-05-14 15:34:59,765 - DEBUG - https://www.bharian.com.my:443 \"GET /dunia/amerika/2020/04/682929/pbb-syor-tempoh-bertenang-hentikan-semua-konflik-kemanusiaan HTTP/1.1\" 200 None\n",
      "2020-05-14 15:34:59,906 - DEBUG - Starting new HTTPS connection (1): www.bharian.com.my:443\n",
      "2020-05-14 15:34:59,986 - DEBUG - https://www.bharian.com.my:443 \"GET /dunia/amerika/2020/04/682929/pbb-syor-tempoh-bertenang-hentikan-semua-konflik-kemanusiaan HTTP/1.1\" 200 None\n"
     ]
    },
    {
     "name": "stdout",
     "output_type": "stream",
     "text": [
      "found BM/ID article\n"
     ]
    },
    {
     "name": "stderr",
     "output_type": "stream",
     "text": [
      "2020-05-14 15:35:00,133 - DEBUG - Starting new HTTPS connection (1): www.bharian.com.my:443\n",
      "2020-05-14 15:35:00,787 - DEBUG - https://www.bharian.com.my:443 \"GET /dunia/eropah/2018/02/391689/kelemahan-pemimpin-punca-keganasan-di-myanmar HTTP/1.1\" 200 None\n",
      "2020-05-14 15:35:00,927 - DEBUG - Starting new HTTPS connection (1): www.bharian.com.my:443\n",
      "2020-05-14 15:35:01,013 - DEBUG - https://www.bharian.com.my:443 \"GET /dunia/eropah/2018/02/391689/kelemahan-pemimpin-punca-keganasan-di-myanmar HTTP/1.1\" 200 None\n"
     ]
    },
    {
     "name": "stdout",
     "output_type": "stream",
     "text": [
      "found BM/ID article\n"
     ]
    },
    {
     "name": "stderr",
     "output_type": "stream",
     "text": [
      "2020-05-14 15:35:01,155 - DEBUG - Starting new HTTPS connection (1): www.bharian.com.my:443\n",
      "2020-05-14 15:35:01,912 - DEBUG - https://www.bharian.com.my:443 \"GET /berita/nasional/2019/05/559058/komuniti-antarabangsa-perlu-komited-akhiri-masalah-penjajahan-tanah HTTP/1.1\" 200 None\n",
      "2020-05-14 15:35:02,047 - DEBUG - Starting new HTTPS connection (1): www.bharian.com.my:443\n",
      "2020-05-14 15:35:02,134 - DEBUG - https://www.bharian.com.my:443 \"GET /berita/nasional/2019/05/559058/komuniti-antarabangsa-perlu-komited-akhiri-masalah-penjajahan-tanah HTTP/1.1\" 200 None\n"
     ]
    },
    {
     "name": "stdout",
     "output_type": "stream",
     "text": [
      "found BM/ID article\n"
     ]
    },
    {
     "name": "stderr",
     "output_type": "stream",
     "text": [
      "2020-05-14 15:35:02,285 - DEBUG - Starting new HTTPS connection (1): www.bharian.com.my:443\n",
      "2020-05-14 15:35:03,059 - DEBUG - https://www.bharian.com.my:443 \"GET /berita/politik/2020/02/654476/terlalu-banyak-politiking-di-malaysia HTTP/1.1\" 200 None\n",
      "2020-05-14 15:35:03,195 - DEBUG - Starting new HTTPS connection (1): www.bharian.com.my:443\n",
      "2020-05-14 15:35:03,279 - DEBUG - https://www.bharian.com.my:443 \"GET /berita/politik/2020/02/654476/terlalu-banyak-politiking-di-malaysia HTTP/1.1\" 200 None\n"
     ]
    },
    {
     "name": "stdout",
     "output_type": "stream",
     "text": [
      "found BM/ID article\n"
     ]
    },
    {
     "name": "stderr",
     "output_type": "stream",
     "text": [
      "2020-05-14 15:35:03,425 - DEBUG - Starting new HTTPS connection (1): www.liputan6.com:443\n",
      "2020-05-14 15:35:03,978 - DEBUG - https://www.liputan6.com:443 \"GET /global/read/3976860/drone-houthi-ditembak-jatuh-sebelum-serang-bandara-arab-saudi HTTP/1.1\" 200 None\n",
      "2020-05-14 15:35:04,231 - DEBUG - Starting new HTTPS connection (1): www.liputan6.com:443\n"
     ]
    },
    {
     "name": "stdout",
     "output_type": "stream",
     "text": [
      "found BM/ID article\n"
     ]
    },
    {
     "name": "stderr",
     "output_type": "stream",
     "text": [
      "2020-05-14 15:35:04,702 - DEBUG - https://www.liputan6.com:443 \"GET /global/read/3976860/drone-houthi-ditembak-jatuh-sebelum-serang-bandara-arab-saudi HTTP/1.1\" 200 None\n",
      "2020-05-14 15:35:04,974 - DEBUG - Starting new HTTPS connection (1): www.bharian.com.my:443\n",
      "2020-05-14 15:35:06,010 - DEBUG - https://www.bharian.com.my:443 \"GET /berita/nasional/2018/11/494570/wisma-putra-laksana-langkah-berjimat HTTP/1.1\" 200 None\n",
      "2020-05-14 15:35:06,145 - DEBUG - Starting new HTTPS connection (1): www.bharian.com.my:443\n",
      "2020-05-14 15:35:06,226 - DEBUG - https://www.bharian.com.my:443 \"GET /berita/nasional/2018/11/494570/wisma-putra-laksana-langkah-berjimat HTTP/1.1\" 200 None\n"
     ]
    },
    {
     "name": "stdout",
     "output_type": "stream",
     "text": [
      "found BM/ID article\n"
     ]
    },
    {
     "name": "stderr",
     "output_type": "stream",
     "text": [
      "2020-05-14 15:35:06,374 - DEBUG - Starting new HTTPS connection (1): www.bharian.com.my:443\n",
      "2020-05-14 15:35:07,326 - DEBUG - https://www.bharian.com.my:443 \"GET /node/120638 HTTP/1.1\" 200 None\n",
      "2020-05-14 15:35:07,495 - DEBUG - Starting new HTTP connection (1): www.astroawani.com:80\n",
      "2020-05-14 15:35:08,981 - DEBUG - http://www.astroawani.com:80 \"GET /berita-malaysia/malaysia-kutuk-sekeras-kerasnya-serangan-peluru-berpandu-pemberontak-houthi-236189 HTTP/1.1\" 200 16637\n",
      "2020-05-14 15:35:09,092 - DEBUG - Starting new HTTPS connection (1): www.liputan6.com:443\n",
      "2020-05-14 15:35:09,611 - DEBUG - https://www.liputan6.com:443 \"GET /global/read/3915157/pbb-kutuk-perang-baru-di-yaman-yang-menewaskan-puluhan-perempuan-dan-anak HTTP/1.1\" 200 None\n",
      "2020-05-14 15:35:09,848 - DEBUG - Starting new HTTPS connection (1): www.liputan6.com:443\n",
      "2020-05-14 15:35:09,957 - DEBUG - https://www.liputan6.com:443 \"GET /global/read/3915157/pbb-kutuk-perang-baru-di-yaman-yang-menewaskan-puluhan-perempuan-dan-anak HTTP/1.1\" 200 74571\n"
     ]
    },
    {
     "name": "stdout",
     "output_type": "stream",
     "text": [
      "found BM/ID article\n"
     ]
    },
    {
     "name": "stderr",
     "output_type": "stream",
     "text": [
      "2020-05-14 15:35:10,197 - DEBUG - Starting new HTTP connection (1): www.astroawani.com:80\n",
      "2020-05-14 15:35:11,542 - DEBUG - http://www.astroawani.com:80 \"GET /berita-dunia/lepas-beri-ucapan-di-pbb-tun-mahathir-dikerumun-bak-bintang-popular-186882 HTTP/1.1\" 200 17688\n",
      "2020-05-14 15:35:21,672 - DEBUG - Starting new HTTPS connection (1): www.google.com.my:443\n",
      "2020-05-14 15:35:21,801 - DEBUG - https://www.google.com.my:443 \"GET /search?q=isu+yaman&source=lnt&tbs=cdr%3A1%2Ccd_min%3A2000%2Ccd_max%3A2021&tbm=nws&start=130 HTTP/1.1\" 200 None\n",
      "2020-05-14 15:35:22,985 - DEBUG - utf-8  confidence = 0.99\n",
      "2020-05-14 15:35:22,986 - DEBUG - SHIFT_JIS Japanese confidence = 0.01\n",
      "2020-05-14 15:35:22,987 - DEBUG - EUC-JP Japanese confidence = 0.01\n",
      "2020-05-14 15:35:22,988 - DEBUG - GB2312 Chinese confidence = 0.01\n",
      "2020-05-14 15:35:22,989 - DEBUG - EUC-KR Korean confidence = 0.01\n",
      "2020-05-14 15:35:22,990 - DEBUG - CP949 Korean confidence = 0.01\n",
      "2020-05-14 15:35:22,991 - DEBUG - Big5 Chinese confidence = 0.01\n",
      "2020-05-14 15:35:22,991 - DEBUG - EUC-TW Taiwan confidence = 0.01\n",
      "2020-05-14 15:35:22,992 - DEBUG - windows-1251 Russian confidence = 0.01\n",
      "2020-05-14 15:35:22,993 - DEBUG - KOI8-R Russian confidence = 0.01\n",
      "2020-05-14 15:35:22,993 - DEBUG - ISO-8859-5 Russian confidence = 0.01\n",
      "2020-05-14 15:35:22,994 - DEBUG - MacCyrillic Russian confidence = 0.0\n",
      "2020-05-14 15:35:22,995 - DEBUG - IBM866 Russian confidence = 0.0\n",
      "2020-05-14 15:35:22,995 - DEBUG - IBM855 Russian confidence = 0.01\n",
      "2020-05-14 15:35:22,996 - DEBUG - ISO-8859-7 Greek confidence = 0.0\n",
      "2020-05-14 15:35:22,997 - DEBUG - windows-1253 Greek confidence = 0.0\n",
      "2020-05-14 15:35:22,997 - DEBUG - ISO-8859-5 Bulgairan confidence = 0.01\n",
      "2020-05-14 15:35:22,998 - DEBUG - windows-1251 Bulgarian confidence = 0.01\n",
      "2020-05-14 15:35:22,998 - DEBUG - TIS-620 Thai confidence = 0.01\n",
      "2020-05-14 15:35:22,999 - DEBUG - ISO-8859-9 Turkish confidence = 0.40247482042962357\n",
      "2020-05-14 15:35:23,000 - DEBUG - windows-1255 Hebrew confidence = 0.0\n",
      "2020-05-14 15:35:23,000 - DEBUG - windows-1255 Hebrew confidence = 0.0\n",
      "2020-05-14 15:35:23,001 - DEBUG - windows-1255 Hebrew confidence = 0.0\n",
      "2020-05-14 15:35:23,001 - DEBUG - utf-8  confidence = 0.99\n",
      "2020-05-14 15:35:23,002 - DEBUG - SHIFT_JIS Japanese confidence = 0.01\n",
      "2020-05-14 15:35:23,003 - DEBUG - EUC-JP Japanese confidence = 0.01\n",
      "2020-05-14 15:35:23,004 - DEBUG - GB2312 Chinese confidence = 0.01\n",
      "2020-05-14 15:35:23,004 - DEBUG - EUC-KR Korean confidence = 0.01\n",
      "2020-05-14 15:35:23,005 - DEBUG - CP949 Korean confidence = 0.01\n",
      "2020-05-14 15:35:23,005 - DEBUG - Big5 Chinese confidence = 0.01\n",
      "2020-05-14 15:35:23,006 - DEBUG - EUC-TW Taiwan confidence = 0.01\n",
      "2020-05-14 15:35:23,043 - DEBUG - Starting new HTTPS connection (1): www.malaysiakini.com:443\n",
      "2020-05-14 15:35:23,323 - DEBUG - https://www.malaysiakini.com:443 \"GET /news/402117 HTTP/1.1\" 200 None\n",
      "2020-05-14 15:35:23,417 - DEBUG - Starting new HTTPS connection (1): www.malaysiakini.com:443\n",
      "2020-05-14 15:35:23,489 - DEBUG - https://www.malaysiakini.com:443 \"GET /news/402117 HTTP/1.1\" 200 None\n",
      "2020-05-14 15:35:23,614 - DEBUG - Starting new HTTPS connection (1): internasional.republika.co.id:443\n"
     ]
    },
    {
     "name": "stdout",
     "output_type": "stream",
     "text": [
      "found BM/ID article\n"
     ]
    },
    {
     "name": "stderr",
     "output_type": "stream",
     "text": [
      "2020-05-14 15:35:23,764 - DEBUG - https://internasional.republika.co.id:443 \"GET /berita/pz6i4e382/yaman-terancam-jadi-negara-termiskin-di-dunia HTTP/1.1\" 200 None\n",
      "2020-05-14 15:35:24,075 - DEBUG - Starting new HTTPS connection (1): beritagar.id:443\n",
      "2020-05-14 15:35:24,960 - DEBUG - https://beritagar.id:443 \"GET /artikel/berita/isu-senjata-kimia-arab-saudi-di-balik-kematian-khashoggi HTTP/1.1\" 200 None\n",
      "2020-05-14 15:35:24,996 - DEBUG - Starting new HTTPS connection (1): storage.googleapis.com:443\n",
      "2020-05-14 15:35:25,067 - DEBUG - https://storage.googleapis.com:443 \"GET /ddos-shield.appspot.com/shield-logo-mono-darktext.svg HTTP/1.1\" 200 16999\n",
      "2020-05-14 15:35:25,083 - DEBUG - Starting new HTTPS connection (1): storage.googleapis.com:443\n",
      "2020-05-14 15:35:25,143 - DEBUG - https://storage.googleapis.com:443 \"GET /ddos-shield.appspot.com/shield-logo-mono-darktext.svg HTTP/1.1\" 200 16999\n",
      "2020-05-14 15:35:25,156 - DEBUG - using max img None\n",
      "2020-05-14 15:35:25,160 - DEBUG - Starting new HTTPS connection (1): beritagar.id:443\n"
     ]
    },
    {
     "name": "stdout",
     "output_type": "stream",
     "text": [
      "found BM/ID article\n"
     ]
    },
    {
     "name": "stderr",
     "output_type": "stream",
     "text": [
      "2020-05-14 15:35:25,987 - DEBUG - https://beritagar.id:443 \"GET /artikel/berita/isu-senjata-kimia-arab-saudi-di-balik-kematian-khashoggi HTTP/1.1\" 200 None\n",
      "2020-05-14 15:35:26,003 - DEBUG - Starting new HTTPS connection (1): storage.googleapis.com:443\n",
      "2020-05-14 15:35:26,061 - DEBUG - https://storage.googleapis.com:443 \"GET /ddos-shield.appspot.com/shield-logo-mono-darktext.svg HTTP/1.1\" 200 16999\n",
      "2020-05-14 15:35:26,074 - DEBUG - using max img None\n",
      "2020-05-14 15:35:26,100 - DEBUG - Starting new HTTPS connection (1): harakahdaily.net:443\n",
      "2020-05-14 15:35:33,161 - DEBUG - Download failed on URL https://harakahdaily.net/index.php/2020/01/09/sektarian-mazhab-dan-perpecahan-ummat/ because of HTTPSConnectionPool(host='harakahdaily.net', port=443): Read timed out. (read timeout=7)\n",
      "2020-05-14 15:35:33,168 - DEBUG - Starting new HTTPS connection (1): harakahdaily.net:443\n",
      "2020-05-14 15:35:40,219 - DEBUG - Download failed on URL https://harakahdaily.net/index.php/2019/12/22/mengkaji-politik-antarabangsa/ because of HTTPSConnectionPool(host='harakahdaily.net', port=443): Read timed out. (read timeout=7)\n",
      "2020-05-14 15:35:40,223 - DEBUG - Starting new HTTPS connection (1): www.malaysiakini.com:443\n",
      "2020-05-14 15:35:40,485 - DEBUG - https://www.malaysiakini.com:443 \"GET /news/507353 HTTP/1.1\" 200 None\n",
      "2020-05-14 15:35:40,576 - DEBUG - Starting new HTTPS connection (1): www.malaysiakini.com:443\n",
      "2020-05-14 15:35:40,646 - DEBUG - https://www.malaysiakini.com:443 \"GET /news/507353 HTTP/1.1\" 200 None\n",
      "2020-05-14 15:35:40,771 - DEBUG - Starting new HTTP connection (1): www.astroawani.com:80\n"
     ]
    },
    {
     "name": "stdout",
     "output_type": "stream",
     "text": [
      "found BM/ID article\n"
     ]
    },
    {
     "name": "stderr",
     "output_type": "stream",
     "text": [
      "2020-05-14 15:35:42,164 - DEBUG - http://www.astroawani.com:80 \"GET /berita-dunia/hati-hati-ini-10-negara-paling-bahaya-untuk-wanita-179119 HTTP/1.1\" 200 15934\n",
      "2020-05-14 15:35:42,317 - DEBUG - Starting new HTTPS connection (1): www.cnnindonesia.com:443\n",
      "2020-05-14 15:35:43,189 - DEBUG - https://www.cnnindonesia.com:443 \"GET /internasional/20150421143245-120-48154/sekitar-90-persen-gedung-kedutaan-hancur-kbri-yaman-kosong HTTP/1.1\" 200 None\n",
      "2020-05-14 15:35:43,382 - DEBUG - Starting new HTTPS connection (1): harakahdaily.net:443\n",
      "2020-05-14 15:35:50,433 - DEBUG - Download failed on URL https://harakahdaily.net/index.php/2019/10/08/arab-saudi-british-amerika-dan-israel/ because of HTTPSConnectionPool(host='harakahdaily.net', port=443): Read timed out. (read timeout=7)\n",
      "2020-05-14 15:35:50,454 - DEBUG - Starting new HTTPS connection (1): www.medcom.id:443\n",
      "2020-05-14 15:35:50,684 - DEBUG - https://www.medcom.id:443 \"GET /internasional/dunia/0Kv91Epk-bandara-diserang-bom-arab-saudi-peringatkan-iran HTTP/1.1\" 200 None\n",
      "2020-05-14 15:36:00,904 - DEBUG - Starting new HTTPS connection (1): www.google.com.my:443\n",
      "2020-05-14 15:36:01,047 - DEBUG - https://www.google.com.my:443 \"GET /search?q=isu+yaman&source=lnt&tbs=cdr%3A1%2Ccd_min%3A2000%2Ccd_max%3A2021&tbm=nws&start=140 HTTP/1.1\" 200 None\n",
      "2020-05-14 15:36:02,139 - DEBUG - utf-8  confidence = 0.99\n",
      "2020-05-14 15:36:02,140 - DEBUG - SHIFT_JIS Japanese confidence = 0.01\n",
      "2020-05-14 15:36:02,141 - DEBUG - EUC-JP Japanese confidence = 0.01\n",
      "2020-05-14 15:36:02,141 - DEBUG - GB2312 Chinese confidence = 0.01\n",
      "2020-05-14 15:36:02,142 - DEBUG - EUC-KR Korean confidence = 0.01\n",
      "2020-05-14 15:36:02,142 - DEBUG - CP949 Korean confidence = 0.01\n",
      "2020-05-14 15:36:02,143 - DEBUG - Big5 Chinese confidence = 0.01\n",
      "2020-05-14 15:36:02,143 - DEBUG - EUC-TW Taiwan confidence = 0.01\n",
      "2020-05-14 15:36:02,144 - DEBUG - windows-1251 Russian confidence = 0.01\n",
      "2020-05-14 15:36:02,145 - DEBUG - KOI8-R Russian confidence = 0.01\n",
      "2020-05-14 15:36:02,145 - DEBUG - ISO-8859-5 Russian confidence = 0.0\n",
      "2020-05-14 15:36:02,146 - DEBUG - MacCyrillic Russian confidence = 0.01\n",
      "2020-05-14 15:36:02,147 - DEBUG - IBM866 Russian confidence = 0.01\n",
      "2020-05-14 15:36:02,148 - DEBUG - IBM855 Russian confidence = 0.01\n",
      "2020-05-14 15:36:02,149 - DEBUG - ISO-8859-7 Greek confidence = 0.0\n",
      "2020-05-14 15:36:02,150 - DEBUG - windows-1253 Greek confidence = 0.0\n",
      "2020-05-14 15:36:02,150 - DEBUG - ISO-8859-5 Bulgairan confidence = 0.0\n",
      "2020-05-14 15:36:02,151 - DEBUG - windows-1251 Bulgarian confidence = 0.0\n",
      "2020-05-14 15:36:02,152 - DEBUG - TIS-620 Thai confidence = 0.0\n",
      "2020-05-14 15:36:02,152 - DEBUG - ISO-8859-9 Turkish confidence = 0.4069118829784866\n",
      "2020-05-14 15:36:02,153 - DEBUG - windows-1255 Hebrew confidence = 0.0\n",
      "2020-05-14 15:36:02,153 - DEBUG - windows-1255 Hebrew confidence = 0.0\n",
      "2020-05-14 15:36:02,158 - DEBUG - windows-1255 Hebrew confidence = 0.0\n",
      "2020-05-14 15:36:02,160 - DEBUG - utf-8  confidence = 0.99\n",
      "2020-05-14 15:36:02,160 - DEBUG - SHIFT_JIS Japanese confidence = 0.01\n",
      "2020-05-14 15:36:02,161 - DEBUG - EUC-JP Japanese confidence = 0.01\n",
      "2020-05-14 15:36:02,161 - DEBUG - GB2312 Chinese confidence = 0.01\n",
      "2020-05-14 15:36:02,162 - DEBUG - EUC-KR Korean confidence = 0.01\n",
      "2020-05-14 15:36:02,163 - DEBUG - CP949 Korean confidence = 0.01\n",
      "2020-05-14 15:36:02,164 - DEBUG - Big5 Chinese confidence = 0.01\n",
      "2020-05-14 15:36:02,164 - DEBUG - EUC-TW Taiwan confidence = 0.01\n",
      "2020-05-14 15:36:02,230 - DEBUG - Starting new HTTPS connection (1): www.suara.com:443\n",
      "2020-05-14 15:36:02,569 - DEBUG - https://www.suara.com:443 \"GET /news/2019/09/17/171827/serukan-damai-di-yaman-presiden-rusia-vladimir-putin-bacakan-ayat-alquran HTTP/1.1\" 200 None\n",
      "2020-05-14 15:36:02,893 - DEBUG - Starting new HTTPS connection (1): news.okezone.com:443\n",
      "2020-05-14 15:36:09,983 - DEBUG - Download failed on URL https://news.okezone.com/read/2016/04/07/18/1356161/cadangan-minyak-gas-alasan-saudi-acak-acak-yaman because of HTTPSConnectionPool(host='news.okezone.com', port=443): Read timed out. (read timeout=7)\n",
      "2020-05-14 15:36:09,990 - DEBUG - Starting new HTTPS connection (1): www.bharian.com.my:443\n",
      "2020-05-14 15:36:11,354 - DEBUG - https://www.bharian.com.my:443 \"GET /berita/nasional/2019/12/642178/malaysia-lantik-konsul-kehormat-di-ramallah-gaza HTTP/1.1\" 200 None\n",
      "2020-05-14 15:36:11,493 - DEBUG - Starting new HTTPS connection (1): www.bharian.com.my:443\n",
      "2020-05-14 15:36:11,611 - DEBUG - https://www.bharian.com.my:443 \"GET /berita/nasional/2019/12/642178/malaysia-lantik-konsul-kehormat-di-ramallah-gaza HTTP/1.1\" 200 None\n"
     ]
    },
    {
     "name": "stdout",
     "output_type": "stream",
     "text": [
      "found BM/ID article\n"
     ]
    },
    {
     "name": "stderr",
     "output_type": "stream",
     "text": [
      "2020-05-14 15:36:11,758 - DEBUG - Starting new HTTPS connection (1): www.medcom.id:443\n",
      "2020-05-14 15:36:11,974 - DEBUG - https://www.medcom.id:443 \"GET /internasional/dunia/xkE3d1rN-iran-geram-dituduh-serang-fasilitas-minyak-arab-saudi HTTP/1.1\" 200 None\n",
      "2020-05-14 15:36:12,196 - DEBUG - Starting new HTTPS connection (1): www.bharian.com.my:443\n",
      "2020-05-14 15:36:12,821 - DEBUG - https://www.bharian.com.my:443 \"GET /berita/nasional/2019/06/573981/malaysia-kutuk-serangan-peluru-berpandu HTTP/1.1\" 200 None\n",
      "2020-05-14 15:36:12,953 - DEBUG - Starting new HTTPS connection (1): www.bharian.com.my:443\n",
      "2020-05-14 15:36:13,046 - DEBUG - https://www.bharian.com.my:443 \"GET /berita/nasional/2019/06/573981/malaysia-kutuk-serangan-peluru-berpandu HTTP/1.1\" 200 None\n"
     ]
    },
    {
     "name": "stdout",
     "output_type": "stream",
     "text": [
      "found BM/ID article\n"
     ]
    },
    {
     "name": "stderr",
     "output_type": "stream",
     "text": [
      "2020-05-14 15:36:13,194 - DEBUG - Starting new HTTPS connection (1): www.hmetro.com.my:443\n",
      "2020-05-14 15:36:17,808 - DEBUG - https://www.hmetro.com.my:443 \"GET /arena/2020/03/551887/afc-tunda-aksi-kelayakan HTTP/1.1\" 200 None\n",
      "2020-05-14 15:36:17,932 - DEBUG - Starting new HTTPS connection (1): www.hmetro.com.my:443\n",
      "2020-05-14 15:36:18,020 - DEBUG - https://www.hmetro.com.my:443 \"GET /arena/2020/03/551887/afc-tunda-aksi-kelayakan HTTP/1.1\" 200 None\n"
     ]
    },
    {
     "name": "stdout",
     "output_type": "stream",
     "text": [
      "found BM/ID article\n"
     ]
    },
    {
     "name": "stderr",
     "output_type": "stream",
     "text": [
      "2020-05-14 15:36:18,164 - DEBUG - Starting new HTTPS connection (1): internasional.republika.co.id:443\n",
      "2020-05-14 15:36:18,333 - DEBUG - https://internasional.republika.co.id:443 \"GET /berita/q2po6h459/lima-isu-negara-muslim-akan-dibahas-di-kl-summit HTTP/1.1\" 200 None\n",
      "2020-05-14 15:36:18,647 - DEBUG - Starting new HTTPS connection (1): www.bharian.com.my:443\n",
      "2020-05-14 15:36:19,955 - DEBUG - https://www.bharian.com.my:443 \"GET /rencana/komentar/2017/12/360347/isu-baitulmaqdis-kenapa-erdogan-hubungi-najib HTTP/1.1\" 200 None\n",
      "2020-05-14 15:36:20,101 - DEBUG - Starting new HTTPS connection (1): www.bharian.com.my:443\n",
      "2020-05-14 15:36:20,185 - DEBUG - https://www.bharian.com.my:443 \"GET /rencana/komentar/2017/12/360347/isu-baitulmaqdis-kenapa-erdogan-hubungi-najib HTTP/1.1\" 200 None\n"
     ]
    },
    {
     "name": "stdout",
     "output_type": "stream",
     "text": [
      "found BM/ID article\n"
     ]
    },
    {
     "name": "stderr",
     "output_type": "stream",
     "text": [
      "2020-05-14 15:36:20,363 - DEBUG - Starting new HTTPS connection (1): www.liputan6.com:443\n",
      "2020-05-14 15:36:20,923 - DEBUG - https://www.liputan6.com:443 \"GET /global/read/3802890/pbb-dialog-damai-antara-yaman-saudi-dan-houthi-beri-hasil-positif HTTP/1.1\" 200 75828\n",
      "2020-05-14 15:36:21,162 - DEBUG - Starting new HTTPS connection (1): www.liputan6.com:443\n"
     ]
    },
    {
     "name": "stdout",
     "output_type": "stream",
     "text": [
      "found BM/ID article\n"
     ]
    },
    {
     "name": "stderr",
     "output_type": "stream",
     "text": [
      "2020-05-14 15:36:21,491 - DEBUG - https://www.liputan6.com:443 \"GET /global/read/3802890/pbb-dialog-damai-antara-yaman-saudi-dan-houthi-beri-hasil-positif HTTP/1.1\" 200 None\n",
      "2020-05-14 15:36:21,741 - DEBUG - Starting new HTTPS connection (1): internasional.republika.co.id:443\n",
      "2020-05-14 15:36:21,893 - DEBUG - https://internasional.republika.co.id:443 \"GET /berita/q0jerg366/perang-yaman-berakhir-dengan-kesepakatan-damai HTTP/1.1\" 200 None\n",
      "2020-05-14 15:36:32,171 - DEBUG - Starting new HTTPS connection (1): www.google.com.my:443\n",
      "2020-05-14 15:36:32,306 - DEBUG - https://www.google.com.my:443 \"GET /search?q=isu+yaman&source=lnt&tbs=cdr%3A1%2Ccd_min%3A2000%2Ccd_max%3A2021&tbm=nws&start=150 HTTP/1.1\" 200 None\n",
      "2020-05-14 15:36:33,430 - DEBUG - utf-8  confidence = 0.99\n",
      "2020-05-14 15:36:33,431 - DEBUG - SHIFT_JIS Japanese confidence = 0.01\n",
      "2020-05-14 15:36:33,431 - DEBUG - EUC-JP Japanese confidence = 0.01\n",
      "2020-05-14 15:36:33,432 - DEBUG - GB2312 Chinese confidence = 0.01\n",
      "2020-05-14 15:36:33,433 - DEBUG - EUC-KR Korean confidence = 0.01\n",
      "2020-05-14 15:36:33,434 - DEBUG - CP949 Korean confidence = 0.01\n",
      "2020-05-14 15:36:33,434 - DEBUG - Big5 Chinese confidence = 0.01\n",
      "2020-05-14 15:36:33,435 - DEBUG - EUC-TW Taiwan confidence = 0.01\n",
      "2020-05-14 15:36:33,436 - DEBUG - windows-1251 Russian confidence = 0.01\n",
      "2020-05-14 15:36:33,436 - DEBUG - KOI8-R Russian confidence = 0.01\n",
      "2020-05-14 15:36:33,437 - DEBUG - ISO-8859-5 Russian confidence = 0.01\n",
      "2020-05-14 15:36:33,437 - DEBUG - MacCyrillic Russian confidence = 0.0\n",
      "2020-05-14 15:36:33,438 - DEBUG - IBM866 Russian confidence = 0.0\n",
      "2020-05-14 15:36:33,439 - DEBUG - IBM855 Russian confidence = 0.01\n",
      "2020-05-14 15:36:33,439 - DEBUG - ISO-8859-7 Greek confidence = 0.01\n",
      "2020-05-14 15:36:33,440 - DEBUG - windows-1253 Greek confidence = 0.01\n",
      "2020-05-14 15:36:33,440 - DEBUG - ISO-8859-5 Bulgairan confidence = 0.01\n",
      "2020-05-14 15:36:33,441 - DEBUG - windows-1251 Bulgarian confidence = 0.01\n",
      "2020-05-14 15:36:33,441 - DEBUG - TIS-620 Thai confidence = 0.0\n",
      "2020-05-14 15:36:33,442 - DEBUG - ISO-8859-9 Turkish confidence = 0.40756821333157794\n",
      "2020-05-14 15:36:33,442 - DEBUG - windows-1255 Hebrew confidence = 0.0\n",
      "2020-05-14 15:36:33,443 - DEBUG - windows-1255 Hebrew confidence = 0.0\n",
      "2020-05-14 15:36:33,443 - DEBUG - windows-1255 Hebrew confidence = 0.0\n",
      "2020-05-14 15:36:33,444 - DEBUG - utf-8  confidence = 0.99\n",
      "2020-05-14 15:36:33,444 - DEBUG - SHIFT_JIS Japanese confidence = 0.01\n",
      "2020-05-14 15:36:33,445 - DEBUG - EUC-JP Japanese confidence = 0.01\n",
      "2020-05-14 15:36:33,445 - DEBUG - GB2312 Chinese confidence = 0.01\n",
      "2020-05-14 15:36:33,445 - DEBUG - EUC-KR Korean confidence = 0.01\n",
      "2020-05-14 15:36:33,446 - DEBUG - CP949 Korean confidence = 0.01\n",
      "2020-05-14 15:36:33,447 - DEBUG - Big5 Chinese confidence = 0.01\n",
      "2020-05-14 15:36:33,447 - DEBUG - EUC-TW Taiwan confidence = 0.01\n",
      "2020-05-14 15:36:33,477 - DEBUG - Starting new HTTPS connection (1): harakahdaily.net:443\n",
      "2020-05-14 15:36:40,536 - DEBUG - Download failed on URL https://harakahdaily.net/index.php/2020/04/07/warkah-pkp-buat-yang-hilang-pangkat-darjat/ because of HTTPSConnectionPool(host='harakahdaily.net', port=443): Read timed out. (read timeout=7)\n",
      "2020-05-14 15:36:40,542 - DEBUG - Starting new HTTPS connection (1): www.matamatapolitik.com:443\n",
      "2020-05-14 15:36:42,893 - DEBUG - https://www.matamatapolitik.com:443 \"GET /perundingan-untuk-akhiri-perang-yaman-dimulai-di-swedia/ HTTP/1.1\" 200 None\n",
      "2020-05-14 15:36:43,429 - DEBUG - Starting new HTTPS connection (1): www.matamatapolitik.com:443\n"
     ]
    },
    {
     "name": "stdout",
     "output_type": "stream",
     "text": [
      "found BM/ID article\n"
     ]
    },
    {
     "name": "stderr",
     "output_type": "stream",
     "text": [
      "2020-05-14 15:36:45,296 - DEBUG - https://www.matamatapolitik.com:443 \"GET /perundingan-untuk-akhiri-perang-yaman-dimulai-di-swedia/ HTTP/1.1\" 200 None\n",
      "2020-05-14 15:36:45,782 - DEBUG - Starting new HTTPS connection (1): internasional.republika.co.id:443\n",
      "2020-05-14 15:36:45,929 - DEBUG - https://internasional.republika.co.id:443 \"GET /berita/internasional/timur-tengah/pnjcuh382/pbb-umumkan-sumbangan-dana-kemanusiaan-untuk-yaman HTTP/1.1\" 200 None\n",
      "2020-05-14 15:36:46,237 - DEBUG - Starting new HTTPS connection (1): www.liputan6.com:443\n",
      "2020-05-14 15:36:46,700 - DEBUG - https://www.liputan6.com:443 \"GET /global/read/3622134/koalisi-arab-saudi-pakai-bom-buatan-as-saat-ledakkan-bus-berisi-anak-anak-di-yaman HTTP/1.1\" 200 None\n",
      "2020-05-14 15:36:46,940 - DEBUG - Starting new HTTPS connection (1): www.liputan6.com:443\n"
     ]
    },
    {
     "name": "stdout",
     "output_type": "stream",
     "text": [
      "found BM/ID article\n"
     ]
    },
    {
     "name": "stderr",
     "output_type": "stream",
     "text": [
      "2020-05-14 15:36:53,975 - DEBUG - Download failed on URL https://www.liputan6.com/global/read/3622134/koalisi-arab-saudi-pakai-bom-buatan-as-saat-ledakkan-bus-berisi-anak-anak-di-yaman because of HTTPSConnectionPool(host='www.liputan6.com', port=443): Read timed out. (read timeout=7)\n",
      "2020-05-14 15:36:53,981 - DEBUG - Starting new HTTPS connection (1): www.bharian.com.my:443\n",
      "2020-05-14 15:36:54,619 - DEBUG - https://www.bharian.com.my:443 \"GET /node/236659 HTTP/1.1\" 200 None\n",
      "2020-05-14 15:36:54,760 - DEBUG - Starting new HTTPS connection (1): www.bharian.com.my:443\n",
      "2020-05-14 15:36:54,842 - DEBUG - https://www.bharian.com.my:443 \"GET /node/236659 HTTP/1.1\" 200 None\n"
     ]
    },
    {
     "name": "stdout",
     "output_type": "stream",
     "text": [
      "found BM/ID article\n"
     ]
    },
    {
     "name": "stderr",
     "output_type": "stream",
     "text": [
      "2020-05-14 15:36:54,981 - DEBUG - Starting new HTTPS connection (1): www.bharian.com.my:443\n",
      "2020-05-14 15:36:55,692 - DEBUG - https://www.bharian.com.my:443 \"GET /node/199706 HTTP/1.1\" 200 None\n",
      "2020-05-14 15:36:55,824 - DEBUG - Starting new HTTPS connection (1): www.bharian.com.my:443\n",
      "2020-05-14 15:36:55,907 - DEBUG - https://www.bharian.com.my:443 \"GET /node/199706 HTTP/1.1\" 200 None\n"
     ]
    },
    {
     "name": "stdout",
     "output_type": "stream",
     "text": [
      "found BM/ID article\n"
     ]
    },
    {
     "name": "stderr",
     "output_type": "stream",
     "text": [
      "2020-05-14 15:36:56,045 - DEBUG - Starting new HTTPS connection (1): www.hmetro.com.my:443\n",
      "2020-05-14 15:36:56,820 - DEBUG - https://www.hmetro.com.my:443 \"GET /mutakhir/2017/07/248003/150204-berdaftar-dengan-unhcr-di-malaysia HTTP/1.1\" 200 None\n",
      "2020-05-14 15:36:56,934 - DEBUG - Starting new HTTPS connection (1): www.hmetro.com.my:443\n",
      "2020-05-14 15:36:57,023 - DEBUG - https://www.hmetro.com.my:443 \"GET /mutakhir/2017/07/248003/150204-berdaftar-dengan-unhcr-di-malaysia HTTP/1.1\" 200 None\n"
     ]
    },
    {
     "name": "stdout",
     "output_type": "stream",
     "text": [
      "found BM/ID article\n"
     ]
    },
    {
     "name": "stderr",
     "output_type": "stream",
     "text": [
      "2020-05-14 15:36:57,147 - DEBUG - Starting new HTTPS connection (1): www.bharian.com.my:443\n",
      "2020-05-14 15:36:57,844 - DEBUG - https://www.bharian.com.my:443 \"GET /node/251061 HTTP/1.1\" 200 None\n",
      "2020-05-14 15:36:57,984 - DEBUG - Starting new HTTPS connection (1): www.bharian.com.my:443\n",
      "2020-05-14 15:36:58,064 - DEBUG - https://www.bharian.com.my:443 \"GET /node/251061 HTTP/1.1\" 200 None\n"
     ]
    },
    {
     "name": "stdout",
     "output_type": "stream",
     "text": [
      "found BM/ID article\n"
     ]
    },
    {
     "name": "stderr",
     "output_type": "stream",
     "text": [
      "2020-05-14 15:36:58,225 - DEBUG - Starting new HTTPS connection (1): www.merdeka.com:443\n",
      "2020-05-14 15:36:58,497 - DEBUG - https://www.merdeka.com:443 \"GET /dunia/saudi-ingin-bangun-kerajaan-wahabi-di-yaman.html HTTP/1.1\" 200 None\n",
      "2020-05-14 15:36:58,583 - DEBUG - Starting new HTTPS connection (1): www.merdeka.com:443\n",
      "2020-05-14 15:36:58,699 - DEBUG - https://www.merdeka.com:443 \"GET /dunia/saudi-ingin-bangun-kerajaan-wahabi-di-yaman.html HTTP/1.1\" 200 None\n"
     ]
    },
    {
     "name": "stdout",
     "output_type": "stream",
     "text": [
      "found BM/ID article\n"
     ]
    },
    {
     "name": "stderr",
     "output_type": "stream",
     "text": [
      "2020-05-14 15:36:58,783 - DEBUG - Starting new HTTPS connection (1): www.liputan6.com:443\n",
      "2020-05-14 15:36:59,194 - DEBUG - https://www.liputan6.com:443 \"GET /global/read/3204371/rekor-dunia-wabah-kolera-di-yaman-mencapai-1-juta-orang HTTP/1.1\" 200 75533\n",
      "2020-05-14 15:36:59,438 - DEBUG - Starting new HTTPS connection (1): www.liputan6.com:443\n"
     ]
    },
    {
     "name": "stdout",
     "output_type": "stream",
     "text": [
      "found BM/ID article\n"
     ]
    },
    {
     "name": "stderr",
     "output_type": "stream",
     "text": [
      "2020-05-14 15:36:59,914 - DEBUG - https://www.liputan6.com:443 \"GET /global/read/3204371/rekor-dunia-wabah-kolera-di-yaman-mencapai-1-juta-orang HTTP/1.1\" 200 None\n",
      "2020-05-14 15:37:10,185 - DEBUG - Starting new HTTPS connection (1): www.google.com.my:443\n",
      "2020-05-14 15:37:10,309 - DEBUG - https://www.google.com.my:443 \"GET /search?q=isu+yaman&source=lnt&tbs=cdr%3A1%2Ccd_min%3A2000%2Ccd_max%3A2021&tbm=nws&start=160 HTTP/1.1\" 200 None\n",
      "2020-05-14 15:37:11,406 - DEBUG - utf-8  confidence = 0.99\n",
      "2020-05-14 15:37:11,407 - DEBUG - SHIFT_JIS Japanese confidence = 0.01\n",
      "2020-05-14 15:37:11,407 - DEBUG - EUC-JP Japanese confidence = 0.01\n",
      "2020-05-14 15:37:11,408 - DEBUG - GB2312 Chinese confidence = 0.01\n",
      "2020-05-14 15:37:11,408 - DEBUG - EUC-KR Korean confidence = 0.01\n",
      "2020-05-14 15:37:11,409 - DEBUG - CP949 Korean confidence = 0.01\n",
      "2020-05-14 15:37:11,409 - DEBUG - Big5 Chinese confidence = 0.01\n",
      "2020-05-14 15:37:11,410 - DEBUG - EUC-TW Taiwan confidence = 0.01\n",
      "2020-05-14 15:37:11,410 - DEBUG - windows-1251 Russian confidence = 0.01\n",
      "2020-05-14 15:37:11,410 - DEBUG - KOI8-R Russian confidence = 0.01\n",
      "2020-05-14 15:37:11,411 - DEBUG - ISO-8859-5 Russian confidence = 0.0\n",
      "2020-05-14 15:37:11,411 - DEBUG - MacCyrillic Russian confidence = 0.01\n",
      "2020-05-14 15:37:11,412 - DEBUG - IBM866 Russian confidence = 0.01\n",
      "2020-05-14 15:37:11,412 - DEBUG - IBM855 Russian confidence = 0.01\n",
      "2020-05-14 15:37:11,412 - DEBUG - ISO-8859-7 Greek confidence = 0.0\n",
      "2020-05-14 15:37:11,413 - DEBUG - windows-1253 Greek confidence = 0.0\n",
      "2020-05-14 15:37:11,413 - DEBUG - ISO-8859-5 Bulgairan confidence = 0.0\n",
      "2020-05-14 15:37:11,414 - DEBUG - windows-1251 Bulgarian confidence = 0.01\n",
      "2020-05-14 15:37:11,414 - DEBUG - TIS-620 Thai confidence = 0.0\n",
      "2020-05-14 15:37:11,415 - DEBUG - ISO-8859-9 Turkish confidence = 0.41352674967424413\n",
      "2020-05-14 15:37:11,416 - DEBUG - windows-1255 Hebrew confidence = 0.0\n",
      "2020-05-14 15:37:11,416 - DEBUG - windows-1255 Hebrew confidence = 0.0\n",
      "2020-05-14 15:37:11,417 - DEBUG - windows-1255 Hebrew confidence = 0.0\n",
      "2020-05-14 15:37:11,417 - DEBUG - utf-8  confidence = 0.99\n",
      "2020-05-14 15:37:11,418 - DEBUG - SHIFT_JIS Japanese confidence = 0.01\n",
      "2020-05-14 15:37:11,418 - DEBUG - EUC-JP Japanese confidence = 0.01\n",
      "2020-05-14 15:37:11,419 - DEBUG - GB2312 Chinese confidence = 0.01\n",
      "2020-05-14 15:37:11,420 - DEBUG - EUC-KR Korean confidence = 0.01\n",
      "2020-05-14 15:37:11,420 - DEBUG - CP949 Korean confidence = 0.01\n",
      "2020-05-14 15:37:11,421 - DEBUG - Big5 Chinese confidence = 0.01\n",
      "2020-05-14 15:37:11,421 - DEBUG - EUC-TW Taiwan confidence = 0.01\n",
      "2020-05-14 15:37:11,474 - DEBUG - Starting new HTTPS connection (1): www.bharian.com.my:443\n",
      "2020-05-14 15:37:12,183 - DEBUG - https://www.bharian.com.my:443 \"GET /berita/nasional/2018/06/433493/hubungan-pertahanan-malaysia-singapura-diperkukuh HTTP/1.1\" 200 None\n",
      "2020-05-14 15:37:12,316 - DEBUG - Starting new HTTPS connection (1): www.bharian.com.my:443\n",
      "2020-05-14 15:37:12,398 - DEBUG - https://www.bharian.com.my:443 \"GET /berita/nasional/2018/06/433493/hubungan-pertahanan-malaysia-singapura-diperkukuh HTTP/1.1\" 200 None\n"
     ]
    },
    {
     "name": "stdout",
     "output_type": "stream",
     "text": [
      "found BM/ID article\n"
     ]
    },
    {
     "name": "stderr",
     "output_type": "stream",
     "text": [
      "2020-05-14 15:37:12,566 - DEBUG - Starting new HTTPS connection (1): tirto.id:443\n",
      "2020-05-14 15:37:12,919 - DEBUG - https://tirto.id:443 \"GET /ada-iran-dan-korut-di-balik-rudal-yang-membidik-mekkah-bZnG HTTP/1.1\" 200 None\n",
      "2020-05-14 15:37:13,114 - DEBUG - Starting new HTTPS connection (1): www.malaysiakini.com:443\n",
      "2020-05-14 15:37:13,352 - DEBUG - https://www.malaysiakini.com:443 \"GET /news/456599 HTTP/1.1\" 200 None\n",
      "2020-05-14 15:37:13,472 - DEBUG - Starting new HTTPS connection (1): www.malaysiakini.com:443\n",
      "2020-05-14 15:37:13,567 - DEBUG - https://www.malaysiakini.com:443 \"GET /news/456599 HTTP/1.1\" 200 None\n"
     ]
    },
    {
     "name": "stdout",
     "output_type": "stream",
     "text": [
      "found BM/ID article\n"
     ]
    },
    {
     "name": "stderr",
     "output_type": "stream",
     "text": [
      "2020-05-14 15:37:13,708 - DEBUG - Starting new HTTPS connection (1): harakahdaily.net:443\n",
      "2020-05-14 15:37:15,662 - DEBUG - https://harakahdaily.net:443 \"GET /index.php/2020/02/01/wef2020-apa-langkah-malaysia-seterusnya/ HTTP/1.1\" 500 None\n",
      "2020-05-14 15:37:15,665 - DEBUG - Download failed on URL https://harakahdaily.net/index.php/2020/02/01/wef2020-apa-langkah-malaysia-seterusnya/ because of 500 Server Error: Internal Server Error for url: https://harakahdaily.net/index.php/2020/02/01/wef2020-apa-langkah-malaysia-seterusnya/\n",
      "2020-05-14 15:37:15,689 - DEBUG - Starting new HTTPS connection (1): www.liputan6.com:443\n",
      "2020-05-14 15:37:16,204 - DEBUG - https://www.liputan6.com:443 \"GET /global/read/3858026/headline-ribuan-orang-tewas-dan-kelaparan-dunia-tak-boleh-abaikan-yaman HTTP/1.1\" 200 85204\n",
      "2020-05-14 15:37:16,489 - DEBUG - Starting new HTTPS connection (1): www.bharian.com.my:443\n",
      "2020-05-14 15:37:17,504 - DEBUG - https://www.bharian.com.my:443 \"GET /berita/pendidikan/2018/01/377718/malaysia-bantu-pelajar-negara-bergolak HTTP/1.1\" 200 None\n",
      "2020-05-14 15:37:17,648 - DEBUG - Starting new HTTPS connection (1): www.bharian.com.my:443\n",
      "2020-05-14 15:37:17,730 - DEBUG - https://www.bharian.com.my:443 \"GET /berita/pendidikan/2018/01/377718/malaysia-bantu-pelajar-negara-bergolak HTTP/1.1\" 200 None\n"
     ]
    },
    {
     "name": "stdout",
     "output_type": "stream",
     "text": [
      "found BM/ID article\n"
     ]
    },
    {
     "name": "stderr",
     "output_type": "stream",
     "text": [
      "2020-05-14 15:37:17,875 - DEBUG - Starting new HTTPS connection (1): www.bharian.com.my:443\n",
      "2020-05-14 15:37:18,837 - DEBUG - https://www.bharian.com.my:443 \"GET /rencana/agama/2017/07/301250/cabaran-bantu-penduduk-marib HTTP/1.1\" 200 None\n",
      "2020-05-14 15:37:18,993 - DEBUG - Starting new HTTPS connection (1): www.bharian.com.my:443\n",
      "2020-05-14 15:37:19,067 - DEBUG - https://www.bharian.com.my:443 \"GET /rencana/agama/2017/07/301250/cabaran-bantu-penduduk-marib HTTP/1.1\" 200 None\n"
     ]
    },
    {
     "name": "stdout",
     "output_type": "stream",
     "text": [
      "found BM/ID article\n"
     ]
    },
    {
     "name": "stderr",
     "output_type": "stream",
     "text": [
      "2020-05-14 15:37:19,229 - DEBUG - Starting new HTTPS connection (1): www.malaysiakini.com:443\n",
      "2020-05-14 15:37:19,468 - DEBUG - https://www.malaysiakini.com:443 \"GET /news/470400 HTTP/1.1\" 200 None\n",
      "2020-05-14 15:37:19,569 - DEBUG - Starting new HTTPS connection (1): www.malaysiakini.com:443\n",
      "2020-05-14 15:37:19,673 - DEBUG - https://www.malaysiakini.com:443 \"GET /news/470400 HTTP/1.1\" 200 None\n"
     ]
    },
    {
     "name": "stdout",
     "output_type": "stream",
     "text": [
      "found BM/ID article\n"
     ]
    },
    {
     "name": "stderr",
     "output_type": "stream",
     "text": [
      "2020-05-14 15:37:19,791 - DEBUG - Starting new HTTP connection (1): www.astroawani.com:80\n",
      "2020-05-14 15:37:21,091 - DEBUG - http://www.astroawani.com:80 \"GET /berita-malaysia/mycare-sasar-sumbangan-rm3-5-juta-untuk-komuniti-islam-kurang-bernasib-baik-206945 HTTP/1.1\" 200 17793\n",
      "2020-05-14 15:37:21,211 - DEBUG - Starting new HTTPS connection (1): www.bharian.com.my:443\n",
      "2020-05-14 15:37:21,858 - DEBUG - https://www.bharian.com.my:443 \"GET /rencana/agama/2018/10/481917/masjid-ar-rahman-sulam-keunikan-seni-bina-melayu-islam HTTP/1.1\" 200 None\n",
      "2020-05-14 15:37:22,018 - DEBUG - Starting new HTTPS connection (1): www.bharian.com.my:443\n",
      "2020-05-14 15:37:22,107 - DEBUG - https://www.bharian.com.my:443 \"GET /rencana/agama/2018/10/481917/masjid-ar-rahman-sulam-keunikan-seni-bina-melayu-islam HTTP/1.1\" 200 None\n"
     ]
    },
    {
     "name": "stdout",
     "output_type": "stream",
     "text": [
      "found BM/ID article\n"
     ]
    },
    {
     "name": "stderr",
     "output_type": "stream",
     "text": [
      "2020-05-14 15:37:32,293 - DEBUG - Starting new HTTPS connection (1): www.google.com.my:443\n",
      "2020-05-14 15:37:32,416 - DEBUG - https://www.google.com.my:443 \"GET /search?q=isu+yaman&source=lnt&tbs=cdr%3A1%2Ccd_min%3A2000%2Ccd_max%3A2021&tbm=nws&start=170 HTTP/1.1\" 200 None\n",
      "2020-05-14 15:37:33,443 - DEBUG - utf-8  confidence = 0.9690625\n",
      "2020-05-14 15:37:33,444 - DEBUG - SHIFT_JIS Japanese confidence = 0.01\n",
      "2020-05-14 15:37:33,444 - DEBUG - EUC-JP Japanese confidence = 0.01\n",
      "2020-05-14 15:37:33,445 - DEBUG - GB2312 Chinese confidence = 0.01\n",
      "2020-05-14 15:37:33,446 - DEBUG - EUC-KR Korean confidence = 0.01\n",
      "2020-05-14 15:37:33,447 - DEBUG - CP949 Korean confidence = 0.01\n",
      "2020-05-14 15:37:33,448 - DEBUG - Big5 Chinese confidence = 0.01\n",
      "2020-05-14 15:37:33,449 - DEBUG - EUC-TW Taiwan confidence = 0.01\n",
      "2020-05-14 15:37:33,450 - DEBUG - windows-1251 Russian confidence = 0.01\n",
      "2020-05-14 15:37:33,451 - DEBUG - KOI8-R Russian confidence = 0.01\n",
      "2020-05-14 15:37:33,451 - DEBUG - ISO-8859-5 Russian confidence = 0.01\n",
      "2020-05-14 15:37:33,452 - DEBUG - MacCyrillic Russian confidence = 0.01\n",
      "2020-05-14 15:37:33,453 - DEBUG - IBM866 Russian confidence = 0.01\n",
      "2020-05-14 15:37:33,453 - DEBUG - IBM855 Russian confidence = 0.01\n",
      "2020-05-14 15:37:33,455 - DEBUG - ISO-8859-7 Greek confidence = 0.01\n",
      "2020-05-14 15:37:33,456 - DEBUG - windows-1253 Greek confidence = 0.01\n",
      "2020-05-14 15:37:33,456 - DEBUG - ISO-8859-5 Bulgairan confidence = 0.01\n",
      "2020-05-14 15:37:33,457 - DEBUG - windows-1251 Bulgarian confidence = 0.01\n",
      "2020-05-14 15:37:33,458 - DEBUG - TIS-620 Thai confidence = 0.01\n",
      "2020-05-14 15:37:33,459 - DEBUG - ISO-8859-9 Turkish confidence = 0.41105370818627\n",
      "2020-05-14 15:37:33,459 - DEBUG - windows-1255 Hebrew confidence = 0.0\n",
      "2020-05-14 15:37:33,460 - DEBUG - windows-1255 Hebrew confidence = 0.0\n",
      "2020-05-14 15:37:33,461 - DEBUG - windows-1255 Hebrew confidence = 0.0\n",
      "2020-05-14 15:37:33,462 - DEBUG - utf-8  confidence = 0.9690625\n",
      "2020-05-14 15:37:33,463 - DEBUG - SHIFT_JIS Japanese confidence = 0.01\n",
      "2020-05-14 15:37:33,463 - DEBUG - EUC-JP Japanese confidence = 0.01\n",
      "2020-05-14 15:37:33,464 - DEBUG - GB2312 Chinese confidence = 0.01\n",
      "2020-05-14 15:37:33,465 - DEBUG - EUC-KR Korean confidence = 0.01\n",
      "2020-05-14 15:37:33,465 - DEBUG - CP949 Korean confidence = 0.01\n",
      "2020-05-14 15:37:33,466 - DEBUG - Big5 Chinese confidence = 0.01\n",
      "2020-05-14 15:37:33,467 - DEBUG - EUC-TW Taiwan confidence = 0.01\n",
      "2020-05-14 15:37:33,523 - DEBUG - Starting new HTTPS connection (1): news.detik.com:443\n",
      "2020-05-14 15:37:34,737 - DEBUG - https://news.detik.com:443 \"GET /berita-jawa-timur/d-4795840/keluarga-nella-dan-mantan-bupati-kediri-kompak-bantah-isu-selingkuh HTTP/1.1\" 200 None\n",
      "2020-05-14 15:37:34,915 - DEBUG - Starting new HTTPS connection (1): news.detik.com:443\n"
     ]
    },
    {
     "name": "stdout",
     "output_type": "stream",
     "text": [
      "found BM/ID article\n"
     ]
    },
    {
     "name": "stderr",
     "output_type": "stream",
     "text": [
      "2020-05-14 15:37:35,791 - DEBUG - https://news.detik.com:443 \"GET /berita-jawa-timur/d-4795840/keluarga-nella-dan-mantan-bupati-kediri-kompak-bantah-isu-selingkuh HTTP/1.1\" 200 None\n",
      "2020-05-14 15:37:35,983 - DEBUG - Starting new HTTPS connection (1): www.bharian.com.my:443\n",
      "2020-05-14 15:37:36,971 - DEBUG - https://www.bharian.com.my:443 \"GET /rencana/muka10/2020/02/658226/urus-tadbir-cemerlang-selaras-al-quran-banteras-rasuah HTTP/1.1\" 200 None\n",
      "2020-05-14 15:37:37,113 - DEBUG - Starting new HTTPS connection (1): www.bharian.com.my:443\n",
      "2020-05-14 15:37:37,194 - DEBUG - https://www.bharian.com.my:443 \"GET /rencana/muka10/2020/02/658226/urus-tadbir-cemerlang-selaras-al-quran-banteras-rasuah HTTP/1.1\" 200 None\n"
     ]
    },
    {
     "name": "stdout",
     "output_type": "stream",
     "text": [
      "found BM/ID article\n"
     ]
    },
    {
     "name": "stderr",
     "output_type": "stream",
     "text": [
      "2020-05-14 15:37:37,353 - DEBUG - Starting new HTTPS connection (1): republika.co.id:443\n",
      "2020-05-14 15:37:37,502 - DEBUG - https://republika.co.id:443 \"GET /berita/px8oix282/emquo-vadisem-perang-yaman HTTP/1.1\" 200 None\n",
      "2020-05-14 15:37:37,839 - DEBUG - Starting new HTTP connection (1): www.astroawani.com:80\n",
      "2020-05-14 15:37:39,216 - DEBUG - http://www.astroawani.com:80 \"GET /berita-malaysia/isu-palestin-dan-kejohanan-renang-para-dunia-mahathir-buka-mata-antarabangsa-198320 HTTP/1.1\" 200 18364\n",
      "2020-05-14 15:37:39,329 - DEBUG - Starting new HTTPS connection (1): www.republika.co.id:443\n",
      "2020-05-14 15:37:39,463 - DEBUG - https://www.republika.co.id:443 \"GET /berita/dunia-islam/mondial/19/09/23/py9ait385-saudiiran-di-ambang-perang HTTP/1.1\" 200 None\n",
      "2020-05-14 15:37:39,758 - DEBUG - Starting new HTTPS connection (1): www.malaysiakini.com:443\n",
      "2020-05-14 15:37:40,136 - DEBUG - https://www.malaysiakini.com:443 \"GET /news/491701 HTTP/1.1\" 200 None\n",
      "2020-05-14 15:37:40,225 - DEBUG - Starting new HTTPS connection (1): www.malaysiakini.com:443\n",
      "2020-05-14 15:37:40,303 - DEBUG - https://www.malaysiakini.com:443 \"GET /news/491701 HTTP/1.1\" 200 None\n",
      "2020-05-14 15:37:40,397 - DEBUG - Starting new HTTPS connection (1): www.bharian.com.my:443\n"
     ]
    },
    {
     "name": "stdout",
     "output_type": "stream",
     "text": [
      "found BM/ID article\n"
     ]
    },
    {
     "name": "stderr",
     "output_type": "stream",
     "text": [
      "2020-05-14 15:37:41,123 - DEBUG - https://www.bharian.com.my:443 \"GET /node/115024 HTTP/1.1\" 200 None\n",
      "2020-05-14 15:37:41,264 - DEBUG - Starting new HTTPS connection (1): www.bharian.com.my:443\n",
      "2020-05-14 15:37:41,343 - DEBUG - https://www.bharian.com.my:443 \"GET /node/115024 HTTP/1.1\" 200 None\n"
     ]
    },
    {
     "name": "stdout",
     "output_type": "stream",
     "text": [
      "found BM/ID article\n"
     ]
    },
    {
     "name": "stderr",
     "output_type": "stream",
     "text": [
      "2020-05-14 15:37:41,482 - DEBUG - Starting new HTTPS connection (1): www.bharian.com.my:443\n",
      "2020-05-14 15:37:42,288 - DEBUG - https://www.bharian.com.my:443 \"GET /berita/nasional/2018/10/490800/derma-rm26-bilion-tiada-kena-mengena-dengan-kerajaan-arab-saudi HTTP/1.1\" 200 None\n",
      "2020-05-14 15:37:42,425 - DEBUG - Starting new HTTPS connection (1): www.bharian.com.my:443\n",
      "2020-05-14 15:37:42,510 - DEBUG - https://www.bharian.com.my:443 \"GET /berita/nasional/2018/10/490800/derma-rm26-bilion-tiada-kena-mengena-dengan-kerajaan-arab-saudi HTTP/1.1\" 200 None\n"
     ]
    },
    {
     "name": "stdout",
     "output_type": "stream",
     "text": [
      "found BM/ID article\n"
     ]
    },
    {
     "name": "stderr",
     "output_type": "stream",
     "text": [
      "2020-05-14 15:37:42,679 - DEBUG - Starting new HTTPS connection (1): www.idntimes.com:443\n",
      "2020-05-14 15:37:43,240 - DEBUG - https://www.idntimes.com:443 \"GET /news/indonesia/santi-dewi/kemenlu-bantah-menghalangi-putri-rizieq-shihab-yaman-ke-oman HTTP/1.1\" 200 None\n",
      "2020-05-14 15:37:43,381 - DEBUG - Starting new HTTPS connection (1): www.idntimes.com:443\n"
     ]
    },
    {
     "name": "stdout",
     "output_type": "stream",
     "text": [
      "found BM/ID article\n"
     ]
    },
    {
     "name": "stderr",
     "output_type": "stream",
     "text": [
      "2020-05-14 15:37:43,680 - DEBUG - https://www.idntimes.com:443 \"GET /news/indonesia/santi-dewi/kemenlu-bantah-menghalangi-putri-rizieq-shihab-yaman-ke-oman HTTP/1.1\" 200 None\n",
      "2020-05-14 15:37:43,816 - DEBUG - Starting new HTTPS connection (1): www.bharian.com.my:443\n",
      "2020-05-14 15:37:44,436 - DEBUG - https://www.bharian.com.my:443 \"GET /berita/kes/2018/07/444314/pesakit-maut-ambulans-langgar-kereta HTTP/1.1\" 200 None\n",
      "2020-05-14 15:37:44,572 - DEBUG - Starting new HTTPS connection (1): www.bharian.com.my:443\n",
      "2020-05-14 15:37:44,647 - DEBUG - https://www.bharian.com.my:443 \"GET /berita/kes/2018/07/444314/pesakit-maut-ambulans-langgar-kereta HTTP/1.1\" 200 None\n"
     ]
    },
    {
     "name": "stdout",
     "output_type": "stream",
     "text": [
      "found BM/ID article\n"
     ]
    },
    {
     "name": "stderr",
     "output_type": "stream",
     "text": [
      "2020-05-14 15:37:54,796 - DEBUG - Starting new HTTPS connection (1): www.google.com.my:443\n",
      "2020-05-14 15:37:54,938 - DEBUG - https://www.google.com.my:443 \"GET /search?q=isu+yaman&source=lnt&tbs=cdr%3A1%2Ccd_min%3A2000%2Ccd_max%3A2021&tbm=nws&start=180 HTTP/1.1\" 200 None\n",
      "2020-05-14 15:37:55,990 - DEBUG - utf-8  confidence = 0.99\n",
      "2020-05-14 15:37:55,991 - DEBUG - SHIFT_JIS Japanese confidence = 0.01\n",
      "2020-05-14 15:37:55,991 - DEBUG - EUC-JP Japanese confidence = 0.01\n",
      "2020-05-14 15:37:55,992 - DEBUG - GB2312 Chinese confidence = 0.01\n",
      "2020-05-14 15:37:55,992 - DEBUG - EUC-KR Korean confidence = 0.01\n",
      "2020-05-14 15:37:55,993 - DEBUG - CP949 Korean confidence = 0.01\n",
      "2020-05-14 15:37:55,994 - DEBUG - Big5 Chinese confidence = 0.01\n",
      "2020-05-14 15:37:55,995 - DEBUG - EUC-TW Taiwan confidence = 0.01\n",
      "2020-05-14 15:37:55,995 - DEBUG - windows-1251 Russian confidence = 0.01\n",
      "2020-05-14 15:37:55,996 - DEBUG - KOI8-R Russian confidence = 0.01\n",
      "2020-05-14 15:37:55,997 - DEBUG - ISO-8859-5 Russian confidence = 0.01\n",
      "2020-05-14 15:37:55,997 - DEBUG - MacCyrillic Russian confidence = 0.0\n",
      "2020-05-14 15:37:55,998 - DEBUG - IBM866 Russian confidence = 0.0\n",
      "2020-05-14 15:37:55,998 - DEBUG - IBM855 Russian confidence = 0.01\n",
      "2020-05-14 15:37:55,999 - DEBUG - ISO-8859-7 Greek confidence = 0.01\n",
      "2020-05-14 15:37:56,000 - DEBUG - windows-1253 Greek confidence = 0.01\n",
      "2020-05-14 15:37:56,000 - DEBUG - ISO-8859-5 Bulgairan confidence = 0.01\n",
      "2020-05-14 15:37:56,001 - DEBUG - windows-1251 Bulgarian confidence = 0.01\n",
      "2020-05-14 15:37:56,001 - DEBUG - TIS-620 Thai confidence = 0.01\n",
      "2020-05-14 15:37:56,002 - DEBUG - ISO-8859-9 Turkish confidence = 0.4176898163310609\n",
      "2020-05-14 15:37:56,002 - DEBUG - windows-1255 Hebrew confidence = 0.0\n",
      "2020-05-14 15:37:56,003 - DEBUG - windows-1255 Hebrew confidence = 0.0\n",
      "2020-05-14 15:37:56,003 - DEBUG - windows-1255 Hebrew confidence = 0.0\n",
      "2020-05-14 15:37:56,004 - DEBUG - utf-8  confidence = 0.99\n",
      "2020-05-14 15:37:56,005 - DEBUG - SHIFT_JIS Japanese confidence = 0.01\n",
      "2020-05-14 15:37:56,005 - DEBUG - EUC-JP Japanese confidence = 0.01\n",
      "2020-05-14 15:37:56,005 - DEBUG - GB2312 Chinese confidence = 0.01\n",
      "2020-05-14 15:37:56,006 - DEBUG - EUC-KR Korean confidence = 0.01\n",
      "2020-05-14 15:37:56,006 - DEBUG - CP949 Korean confidence = 0.01\n",
      "2020-05-14 15:37:56,007 - DEBUG - Big5 Chinese confidence = 0.01\n",
      "2020-05-14 15:37:56,007 - DEBUG - EUC-TW Taiwan confidence = 0.01\n",
      "2020-05-14 15:37:56,041 - DEBUG - Starting new HTTPS connection (1): www.merdeka.com:443\n",
      "2020-05-14 15:37:56,542 - DEBUG - https://www.merdeka.com:443 \"GET /dunia/data-pbb-pertempuran-di-yaman-7300-anak-anak-terbunuh-dan-terluka-parah.html HTTP/1.1\" 200 None\n",
      "2020-05-14 15:37:56,635 - DEBUG - Starting new HTTPS connection (1): www.merdeka.com:443\n",
      "2020-05-14 15:37:56,805 - DEBUG - https://www.merdeka.com:443 \"GET /dunia/data-pbb-pertempuran-di-yaman-7300-anak-anak-terbunuh-dan-terluka-parah.html HTTP/1.1\" 200 None\n"
     ]
    },
    {
     "name": "stdout",
     "output_type": "stream",
     "text": [
      "found BM/ID article\n"
     ]
    },
    {
     "name": "stderr",
     "output_type": "stream",
     "text": [
      "2020-05-14 15:37:56,899 - DEBUG - Starting new HTTPS connection (1): www.bharian.com.my:443\n",
      "2020-05-14 15:37:57,541 - DEBUG - https://www.bharian.com.my:443 \"GET /node/261307 HTTP/1.1\" 200 None\n",
      "2020-05-14 15:37:57,676 - DEBUG - Starting new HTTPS connection (1): www.bharian.com.my:443\n",
      "2020-05-14 15:37:57,771 - DEBUG - https://www.bharian.com.my:443 \"GET /node/261307 HTTP/1.1\" 200 None\n"
     ]
    },
    {
     "name": "stdout",
     "output_type": "stream",
     "text": [
      "found BM/ID article\n"
     ]
    },
    {
     "name": "stderr",
     "output_type": "stream",
     "text": [
      "2020-05-14 15:37:57,957 - DEBUG - Starting new HTTPS connection (1): www.hmetro.com.my:443\n",
      "2020-05-14 15:37:58,877 - DEBUG - https://www.hmetro.com.my:443 \"GET /mutakhir/2019/11/514215/kumpulan-ancam-keselamatan-dalam-radar-polis HTTP/1.1\" 200 None\n",
      "2020-05-14 15:37:58,991 - DEBUG - Starting new HTTPS connection (1): www.hmetro.com.my:443\n",
      "2020-05-14 15:37:59,078 - DEBUG - https://www.hmetro.com.my:443 \"GET /mutakhir/2019/11/514215/kumpulan-ancam-keselamatan-dalam-radar-polis HTTP/1.1\" 200 None\n"
     ]
    },
    {
     "name": "stdout",
     "output_type": "stream",
     "text": [
      "found BM/ID article\n"
     ]
    },
    {
     "name": "stderr",
     "output_type": "stream",
     "text": [
      "2020-05-14 15:37:59,216 - DEBUG - Starting new HTTPS connection (1): www.tempo.co:443\n",
      "2020-05-14 15:37:59,434 - DEBUG - https://www.tempo.co:443 \"GET /dw/1732/ktt-pemimpin-muslim-di-malaysia-terseret-konflik-politik-di-timur-tengah HTTP/1.1\" 200 None\n",
      "2020-05-14 15:37:59,609 - DEBUG - Starting new HTTPS connection (1): www.tempo.co:443\n"
     ]
    },
    {
     "name": "stdout",
     "output_type": "stream",
     "text": [
      "found BM/ID article\n"
     ]
    },
    {
     "name": "stderr",
     "output_type": "stream",
     "text": [
      "2020-05-14 15:37:59,828 - DEBUG - https://www.tempo.co:443 \"GET /dw/1732/ktt-pemimpin-muslim-di-malaysia-terseret-konflik-politik-di-timur-tengah HTTP/1.1\" 200 None\n",
      "2020-05-14 15:38:00,011 - DEBUG - Starting new HTTPS connection (1): www.bharian.com.my:443\n",
      "2020-05-14 15:38:00,681 - DEBUG - https://www.bharian.com.my:443 \"GET /berita/nasional/2018/02/393197/500000-kanak-kanak-palestin-tidak-dapat-pendidikan HTTP/1.1\" 200 None\n",
      "2020-05-14 15:38:00,826 - DEBUG - Starting new HTTPS connection (1): www.bharian.com.my:443\n",
      "2020-05-14 15:38:00,913 - DEBUG - https://www.bharian.com.my:443 \"GET /berita/nasional/2018/02/393197/500000-kanak-kanak-palestin-tidak-dapat-pendidikan HTTP/1.1\" 200 None\n"
     ]
    },
    {
     "name": "stdout",
     "output_type": "stream",
     "text": [
      "found BM/ID article\n"
     ]
    },
    {
     "name": "stderr",
     "output_type": "stream",
     "text": [
      "2020-05-14 15:38:01,062 - DEBUG - Starting new HTTPS connection (1): www.bharian.com.my:443\n",
      "2020-05-14 15:38:01,741 - DEBUG - https://www.bharian.com.my:443 \"GET /rencana/muka10/2017/07/302213/fuqaha-amal-amar-makruf-nahi-mungkar HTTP/1.1\" 200 None\n",
      "2020-05-14 15:38:01,892 - DEBUG - Starting new HTTPS connection (1): www.bharian.com.my:443\n",
      "2020-05-14 15:38:01,972 - DEBUG - https://www.bharian.com.my:443 \"GET /rencana/muka10/2017/07/302213/fuqaha-amal-amar-makruf-nahi-mungkar HTTP/1.1\" 200 None\n"
     ]
    },
    {
     "name": "stdout",
     "output_type": "stream",
     "text": [
      "found BM/ID article\n"
     ]
    },
    {
     "name": "stderr",
     "output_type": "stream",
     "text": [
      "2020-05-14 15:38:02,112 - DEBUG - Starting new HTTPS connection (1): www.bharian.com.my:443\n",
      "2020-05-14 15:38:02,949 - DEBUG - https://www.bharian.com.my:443 \"GET /node/31095 HTTP/1.1\" 200 None\n",
      "2020-05-14 15:38:03,092 - DEBUG - Starting new HTTPS connection (1): www.bharian.com.my:443\n",
      "2020-05-14 15:38:03,166 - DEBUG - https://www.bharian.com.my:443 \"GET /node/31095 HTTP/1.1\" 200 None\n"
     ]
    },
    {
     "name": "stdout",
     "output_type": "stream",
     "text": [
      "found BM/ID article\n"
     ]
    },
    {
     "name": "stderr",
     "output_type": "stream",
     "text": [
      "2020-05-14 15:38:03,310 - DEBUG - Starting new HTTPS connection (1): tirto.id:443\n",
      "2020-05-14 15:38:03,689 - DEBUG - https://tirto.id:443 \"GET /91000-orang-tewas-dalam-pertempuran-di-yaman-sejak-2015-ecHd HTTP/1.1\" 200 None\n",
      "2020-05-14 15:38:03,877 - DEBUG - Starting new HTTPS connection (1): www.bharian.com.my:443\n",
      "2020-05-14 15:38:05,429 - DEBUG - https://www.bharian.com.my:443 \"GET /berita/nasional/2018/11/495606/6-bulan-masa-sesuai-rombak-kabinet HTTP/1.1\" 200 None\n",
      "2020-05-14 15:38:05,569 - DEBUG - Starting new HTTPS connection (1): www.bharian.com.my:443\n",
      "2020-05-14 15:38:05,659 - DEBUG - https://www.bharian.com.my:443 \"GET /berita/nasional/2018/11/495606/6-bulan-masa-sesuai-rombak-kabinet HTTP/1.1\" 200 None\n"
     ]
    },
    {
     "name": "stdout",
     "output_type": "stream",
     "text": [
      "found BM/ID article\n"
     ]
    },
    {
     "name": "stderr",
     "output_type": "stream",
     "text": [
      "2020-05-14 15:38:05,813 - DEBUG - Starting new HTTPS connection (1): harakahdaily.net:443\n",
      "2020-05-14 15:38:07,008 - DEBUG - https://harakahdaily.net:443 \"GET /index.php/2019/12/02/amerika-israel-taja-senjata-untuk-timbulkan-konflik/ HTTP/1.1\" 500 None\n",
      "2020-05-14 15:38:07,014 - DEBUG - Download failed on URL https://harakahdaily.net/index.php/2019/12/02/amerika-israel-taja-senjata-untuk-timbulkan-konflik/ because of 500 Server Error: Internal Server Error for url: https://harakahdaily.net/index.php/2019/12/02/amerika-israel-taja-senjata-untuk-timbulkan-konflik/\n",
      "2020-05-14 15:38:17,022 - DEBUG - Starting new HTTPS connection (1): www.google.com.my:443\n",
      "2020-05-14 15:38:17,146 - DEBUG - https://www.google.com.my:443 \"GET /search?q=isu+yaman&source=lnt&tbs=cdr%3A1%2Ccd_min%3A2000%2Ccd_max%3A2021&tbm=nws&start=190 HTTP/1.1\" 200 None\n",
      "2020-05-14 15:38:18,262 - DEBUG - utf-8  confidence = 0.99\n",
      "2020-05-14 15:38:18,263 - DEBUG - SHIFT_JIS Japanese confidence = 0.01\n",
      "2020-05-14 15:38:18,263 - DEBUG - EUC-JP Japanese confidence = 0.01\n",
      "2020-05-14 15:38:18,264 - DEBUG - GB2312 Chinese confidence = 0.01\n",
      "2020-05-14 15:38:18,265 - DEBUG - EUC-KR Korean confidence = 0.01\n",
      "2020-05-14 15:38:18,265 - DEBUG - CP949 Korean confidence = 0.01\n",
      "2020-05-14 15:38:18,266 - DEBUG - Big5 Chinese confidence = 0.01\n",
      "2020-05-14 15:38:18,266 - DEBUG - EUC-TW Taiwan confidence = 0.01\n",
      "2020-05-14 15:38:18,266 - DEBUG - windows-1251 Russian confidence = 0.01\n",
      "2020-05-14 15:38:18,267 - DEBUG - KOI8-R Russian confidence = 0.01\n",
      "2020-05-14 15:38:18,267 - DEBUG - ISO-8859-5 Russian confidence = 0.01\n",
      "2020-05-14 15:38:18,268 - DEBUG - MacCyrillic Russian confidence = 0.0\n",
      "2020-05-14 15:38:18,268 - DEBUG - IBM866 Russian confidence = 0.0\n",
      "2020-05-14 15:38:18,269 - DEBUG - IBM855 Russian confidence = 0.01\n",
      "2020-05-14 15:38:18,269 - DEBUG - ISO-8859-7 Greek confidence = 0.01\n",
      "2020-05-14 15:38:18,269 - DEBUG - windows-1253 Greek confidence = 0.01\n",
      "2020-05-14 15:38:18,270 - DEBUG - ISO-8859-5 Bulgairan confidence = 0.01\n",
      "2020-05-14 15:38:18,270 - DEBUG - windows-1251 Bulgarian confidence = 0.01\n",
      "2020-05-14 15:38:18,271 - DEBUG - TIS-620 Thai confidence = 0.01\n",
      "2020-05-14 15:38:18,271 - DEBUG - ISO-8859-9 Turkish confidence = 0.4055486621594412\n",
      "2020-05-14 15:38:18,272 - DEBUG - windows-1255 Hebrew confidence = 0.0\n",
      "2020-05-14 15:38:18,273 - DEBUG - windows-1255 Hebrew confidence = 0.0\n",
      "2020-05-14 15:38:18,273 - DEBUG - windows-1255 Hebrew confidence = 0.0\n",
      "2020-05-14 15:38:18,274 - DEBUG - utf-8  confidence = 0.99\n",
      "2020-05-14 15:38:18,275 - DEBUG - SHIFT_JIS Japanese confidence = 0.01\n",
      "2020-05-14 15:38:18,275 - DEBUG - EUC-JP Japanese confidence = 0.01\n",
      "2020-05-14 15:38:18,276 - DEBUG - GB2312 Chinese confidence = 0.01\n",
      "2020-05-14 15:38:18,276 - DEBUG - EUC-KR Korean confidence = 0.01\n",
      "2020-05-14 15:38:18,277 - DEBUG - CP949 Korean confidence = 0.01\n",
      "2020-05-14 15:38:18,277 - DEBUG - Big5 Chinese confidence = 0.01\n",
      "2020-05-14 15:38:18,278 - DEBUG - EUC-TW Taiwan confidence = 0.01\n",
      "2020-05-14 15:38:18,342 - DEBUG - Starting new HTTP connection (1): www.astroawani.com:80\n",
      "2020-05-14 15:38:19,661 - DEBUG - http://www.astroawani.com:80 \"GET /berita-dunia/2019-pengharapan-pada-meninggikan-darjat-insani-195183 HTTP/1.1\" 200 15863\n",
      "2020-05-14 15:38:19,781 - DEBUG - Starting new HTTP connection (1): www.astroawani.com:80\n",
      "2020-05-14 15:38:19,971 - DEBUG - http://www.astroawani.com:80 \"GET /berita-dunia/2019-pengharapan-pada-meninggikan-darjat-insani-195183 HTTP/1.1\" 200 15863\n"
     ]
    },
    {
     "name": "stdout",
     "output_type": "stream",
     "text": [
      "found BM/ID article\n"
     ]
    },
    {
     "name": "stderr",
     "output_type": "stream",
     "text": [
      "2020-05-14 15:38:20,111 - DEBUG - Starting new HTTPS connection (1): www.malaysiakini.com:443\n",
      "2020-05-14 15:38:20,365 - DEBUG - https://www.malaysiakini.com:443 \"GET /news/249272 HTTP/1.1\" 200 None\n",
      "2020-05-14 15:38:20,471 - DEBUG - Starting new HTTPS connection (1): www.malaysiakini.com:443\n",
      "2020-05-14 15:38:20,579 - DEBUG - https://www.malaysiakini.com:443 \"GET /news/249272 HTTP/1.1\" 200 None\n"
     ]
    },
    {
     "name": "stdout",
     "output_type": "stream",
     "text": [
      "found BM/ID article\n"
     ]
    },
    {
     "name": "stderr",
     "output_type": "stream",
     "text": [
      "2020-05-14 15:38:20,699 - DEBUG - Starting new HTTPS connection (1): www.bharian.com.my:443\n",
      "2020-05-14 15:38:20,781 - DEBUG - https://www.bharian.com.my:443 \"GET /node/49415 HTTP/1.1\" 200 None\n",
      "2020-05-14 15:38:20,927 - DEBUG - Starting new HTTPS connection (1): www.bharian.com.my:443\n",
      "2020-05-14 15:38:21,015 - DEBUG - https://www.bharian.com.my:443 \"GET /node/49415 HTTP/1.1\" 200 None\n"
     ]
    },
    {
     "name": "stdout",
     "output_type": "stream",
     "text": [
      "found BM/ID article\n"
     ]
    },
    {
     "name": "stderr",
     "output_type": "stream",
     "text": [
      "2020-05-14 15:38:21,200 - DEBUG - Starting new HTTPS connection (1): news.detik.com:443\n",
      "2020-05-14 15:38:22,486 - DEBUG - https://news.detik.com:443 \"GET /bbc-world/d-3464630/pm-inggris-dicecar-soal-kunjungan-ke-arab-saudi HTTP/1.1\" 200 None\n",
      "2020-05-14 15:38:22,723 - DEBUG - Starting new HTTPS connection (1): harakahdaily.net:443\n",
      "2020-05-14 15:38:29,780 - DEBUG - Download failed on URL https://harakahdaily.net/index.php/2020/04/03/presiden-pas-sebagai-musab-bin-umair-moden/ because of HTTPSConnectionPool(host='harakahdaily.net', port=443): Read timed out. (read timeout=7)\n",
      "2020-05-14 15:38:29,817 - DEBUG - Starting new HTTPS connection (1): republika.co.id:443\n",
      "2020-05-14 15:38:30,227 - DEBUG - https://republika.co.id:443 \"GET /berita/q3avjm382/parade-militer-di-yaman-dihantam-rudal-houthi HTTP/1.1\" 200 None\n",
      "2020-05-14 15:38:30,506 - DEBUG - Starting new HTTPS connection (1): www.malaysiakini.com:443\n",
      "2020-05-14 15:38:30,752 - DEBUG - https://www.malaysiakini.com:443 \"GET /news/492742 HTTP/1.1\" 200 None\n",
      "2020-05-14 15:38:30,912 - DEBUG - Starting new HTTPS connection (1): www.malaysiakini.com:443\n",
      "2020-05-14 15:38:31,011 - DEBUG - https://www.malaysiakini.com:443 \"GET /news/492742 HTTP/1.1\" 200 None\n"
     ]
    },
    {
     "name": "stdout",
     "output_type": "stream",
     "text": [
      "found BM/ID article\n"
     ]
    },
    {
     "name": "stderr",
     "output_type": "stream",
     "text": [
      "2020-05-14 15:38:31,223 - DEBUG - Starting new HTTPS connection (1): www.bharian.com.my:443\n",
      "2020-05-14 15:38:32,205 - DEBUG - https://www.bharian.com.my:443 \"GET /berita/nasional/2018/02/393751/etnik-rohingya-akan-terus-dibantu HTTP/1.1\" 200 None\n",
      "2020-05-14 15:38:32,343 - DEBUG - Starting new HTTPS connection (1): www.bharian.com.my:443\n",
      "2020-05-14 15:38:32,418 - DEBUG - https://www.bharian.com.my:443 \"GET /berita/nasional/2018/02/393751/etnik-rohingya-akan-terus-dibantu HTTP/1.1\" 200 None\n"
     ]
    },
    {
     "name": "stdout",
     "output_type": "stream",
     "text": [
      "found BM/ID article\n"
     ]
    },
    {
     "name": "stderr",
     "output_type": "stream",
     "text": [
      "2020-05-14 15:38:33,601 - DEBUG - Starting new HTTPS connection (1): www.sinarharian.com.my:443\n",
      "2020-05-14 15:38:34,303 - DEBUG - https://www.sinarharian.com.my:443 \"GET /article/30004/BERITA/Nasional/Malabari-tuntut-status-Bumiputera HTTP/1.1\" 200 None\n",
      "2020-05-14 15:38:34,441 - DEBUG - Starting new HTTPS connection (1): www.malaysiakini.com:443\n",
      "2020-05-14 15:38:34,644 - DEBUG - https://www.malaysiakini.com:443 \"GET /news/482607 HTTP/1.1\" 200 None\n",
      "2020-05-14 15:38:44,764 - DEBUG - Starting new HTTPS connection (1): www.google.com.my:443\n",
      "2020-05-14 15:38:44,891 - DEBUG - https://www.google.com.my:443 \"GET /search?q=isu+yaman&source=lnt&tbs=cdr%3A1%2Ccd_min%3A2000%2Ccd_max%3A2021&tbm=nws&start=200 HTTP/1.1\" 200 None\n",
      "2020-05-14 15:38:46,001 - DEBUG - utf-8  confidence = 0.99\n",
      "2020-05-14 15:38:46,002 - DEBUG - SHIFT_JIS Japanese confidence = 0.01\n",
      "2020-05-14 15:38:46,002 - DEBUG - EUC-JP Japanese confidence = 0.01\n",
      "2020-05-14 15:38:46,003 - DEBUG - GB2312 Chinese confidence = 0.01\n",
      "2020-05-14 15:38:46,003 - DEBUG - EUC-KR Korean confidence = 0.01\n",
      "2020-05-14 15:38:46,004 - DEBUG - CP949 Korean confidence = 0.01\n",
      "2020-05-14 15:38:46,004 - DEBUG - Big5 Chinese confidence = 0.01\n",
      "2020-05-14 15:38:46,005 - DEBUG - EUC-TW Taiwan confidence = 0.01\n",
      "2020-05-14 15:38:46,005 - DEBUG - windows-1251 Russian confidence = 0.01\n",
      "2020-05-14 15:38:46,006 - DEBUG - KOI8-R Russian confidence = 0.01\n",
      "2020-05-14 15:38:46,006 - DEBUG - ISO-8859-5 Russian confidence = 0.0\n",
      "2020-05-14 15:38:46,007 - DEBUG - MacCyrillic Russian confidence = 0.0\n",
      "2020-05-14 15:38:46,007 - DEBUG - IBM866 Russian confidence = 0.0\n",
      "2020-05-14 15:38:46,008 - DEBUG - IBM855 Russian confidence = 0.01\n",
      "2020-05-14 15:38:46,008 - DEBUG - ISO-8859-7 Greek confidence = 0.0\n",
      "2020-05-14 15:38:46,009 - DEBUG - windows-1253 Greek confidence = 0.0\n",
      "2020-05-14 15:38:46,010 - DEBUG - ISO-8859-5 Bulgairan confidence = 0.0\n",
      "2020-05-14 15:38:46,010 - DEBUG - windows-1251 Bulgarian confidence = 0.01\n",
      "2020-05-14 15:38:46,012 - DEBUG - TIS-620 Thai confidence = 0.0\n",
      "2020-05-14 15:38:46,013 - DEBUG - ISO-8859-9 Turkish confidence = 0.4063895861753338\n",
      "2020-05-14 15:38:46,014 - DEBUG - windows-1255 Hebrew confidence = 0.0\n",
      "2020-05-14 15:38:46,014 - DEBUG - windows-1255 Hebrew confidence = 0.0\n",
      "2020-05-14 15:38:46,015 - DEBUG - windows-1255 Hebrew confidence = 0.0\n",
      "2020-05-14 15:38:46,016 - DEBUG - utf-8  confidence = 0.99\n",
      "2020-05-14 15:38:46,016 - DEBUG - SHIFT_JIS Japanese confidence = 0.01\n",
      "2020-05-14 15:38:46,017 - DEBUG - EUC-JP Japanese confidence = 0.01\n",
      "2020-05-14 15:38:46,018 - DEBUG - GB2312 Chinese confidence = 0.01\n",
      "2020-05-14 15:38:46,019 - DEBUG - EUC-KR Korean confidence = 0.01\n",
      "2020-05-14 15:38:46,020 - DEBUG - CP949 Korean confidence = 0.01\n",
      "2020-05-14 15:38:46,020 - DEBUG - Big5 Chinese confidence = 0.01\n",
      "2020-05-14 15:38:46,021 - DEBUG - EUC-TW Taiwan confidence = 0.01\n",
      "2020-05-14 15:38:46,059 - DEBUG - Starting new HTTPS connection (1): www.sinarharian.com.my:443\n",
      "2020-05-14 15:38:46,738 - DEBUG - https://www.sinarharian.com.my:443 \"GET /article/76666/KHAS/Koronavirus/Masih-ada-negara-terselamat-daripada-Covid-19 HTTP/1.1\" 200 None\n",
      "2020-05-14 15:38:46,876 - DEBUG - Starting new HTTPS connection (1): www.malaysiakini.com:443\n",
      "2020-05-14 15:38:47,093 - DEBUG - https://www.malaysiakini.com:443 \"GET /news/449650 HTTP/1.1\" 200 None\n",
      "2020-05-14 15:38:47,232 - DEBUG - Starting new HTTPS connection (1): www.bharian.com.my:443\n",
      "2020-05-14 15:38:48,800 - DEBUG - https://www.bharian.com.my:443 \"GET /node/197795 HTTP/1.1\" 200 None\n",
      "2020-05-14 15:38:48,943 - DEBUG - Starting new HTTPS connection (1): www.bharian.com.my:443\n",
      "2020-05-14 15:38:49,028 - DEBUG - https://www.bharian.com.my:443 \"GET /node/197795 HTTP/1.1\" 200 None\n"
     ]
    },
    {
     "name": "stdout",
     "output_type": "stream",
     "text": [
      "found BM/ID article\n"
     ]
    },
    {
     "name": "stderr",
     "output_type": "stream",
     "text": [
      "2020-05-14 15:38:49,207 - DEBUG - Starting new HTTPS connection (1): nasional.tempo.co:443\n",
      "2020-05-14 15:38:49,400 - DEBUG - https://nasional.tempo.co:443 \"GET /read/1181052/diskusi-empat-pilar-mpr-bahas-potensiisu-sara-dalam-pemilu HTTP/1.1\" 200 None\n",
      "2020-05-14 15:38:49,620 - DEBUG - Starting new HTTPS connection (1): nasional.tempo.co:443\n",
      "2020-05-14 15:38:49,815 - DEBUG - https://nasional.tempo.co:443 \"GET /read/1181052/diskusi-empat-pilar-mpr-bahas-potensiisu-sara-dalam-pemilu HTTP/1.1\" 200 None\n"
     ]
    },
    {
     "name": "stdout",
     "output_type": "stream",
     "text": [
      "found BM/ID article\n"
     ]
    },
    {
     "name": "stderr",
     "output_type": "stream",
     "text": [
      "2020-05-14 15:38:50,013 - DEBUG - Starting new HTTPS connection (1): www.bharian.com.my:443\n",
      "2020-05-14 15:38:52,831 - DEBUG - https://www.bharian.com.my:443 \"GET /berita/nasional/2017/12/365283/hantar-tentera-ke-asia-barat-bukan-untuk-perang HTTP/1.1\" 200 None\n",
      "2020-05-14 15:38:52,987 - DEBUG - Starting new HTTPS connection (1): www.bharian.com.my:443\n",
      "2020-05-14 15:38:53,060 - DEBUG - https://www.bharian.com.my:443 \"GET /berita/nasional/2017/12/365283/hantar-tentera-ke-asia-barat-bukan-untuk-perang HTTP/1.1\" 200 None\n"
     ]
    },
    {
     "name": "stdout",
     "output_type": "stream",
     "text": [
      "found BM/ID article\n"
     ]
    },
    {
     "name": "stderr",
     "output_type": "stream",
     "text": [
      "2020-05-14 15:39:03,254 - DEBUG - Starting new HTTPS connection (1): internasional.kompas.com:443\n",
      "2020-05-14 15:39:03,463 - DEBUG - https://internasional.kompas.com:443 \"GET /read/2017/02/27/18493581/selamat.datang.raja.salman.apa.kabar.suriah.dan.yaman. HTTP/1.1\" 200 None\n",
      "2020-05-14 15:39:03,712 - DEBUG - Starting new HTTPS connection (1): internasional.kompas.com:443\n",
      "2020-05-14 15:39:03,800 - DEBUG - https://internasional.kompas.com:443 \"GET /read/2017/02/27/18493581/selamat.datang.raja.salman.apa.kabar.suriah.dan.yaman. HTTP/1.1\" 200 None\n"
     ]
    },
    {
     "name": "stdout",
     "output_type": "stream",
     "text": [
      "found BM/ID article\n"
     ]
    },
    {
     "name": "stderr",
     "output_type": "stream",
     "text": [
      "2020-05-14 15:39:04,067 - DEBUG - Starting new HTTPS connection (1): www.matamatapolitik.com:443\n",
      "2020-05-14 15:39:06,587 - DEBUG - https://www.matamatapolitik.com:443 \"GET /opini-saudi-dan-sekutu-emirat-nya-biarkan-orang-yaman-mati-kelaparan/ HTTP/1.1\" 200 None\n",
      "2020-05-14 15:39:07,185 - DEBUG - Starting new HTTPS connection (1): www.nu.or.id:443\n",
      "2020-05-14 15:39:08,057 - DEBUG - https://www.nu.or.id:443 \"GET /post/read/85093/yaman-mencekam-muslim-dunia-bungkam HTTP/1.1\" 200 None\n",
      "2020-05-14 15:39:08,504 - DEBUG - Starting new HTTPS connection (1): kumparan.com:443\n",
      "2020-05-14 15:39:09,434 - DEBUG - https://kumparan.com:443 \"GET /chairil-anhar-siregar1519198977416/indonesia-dapat-selamatkan-warga-yaman HTTP/1.1\" 200 None\n",
      "2020-05-14 15:39:09,671 - DEBUG - Starting new HTTPS connection (1): www.bharian.com.my:443\n",
      "2020-05-14 15:39:10,678 - DEBUG - https://www.bharian.com.my:443 \"GET /node/21024 HTTP/1.1\" 200 None\n",
      "2020-05-14 15:39:10,826 - DEBUG - Starting new HTTPS connection (1): www.bharian.com.my:443\n",
      "2020-05-14 15:39:10,911 - DEBUG - https://www.bharian.com.my:443 \"GET /node/21024 HTTP/1.1\" 200 None\n"
     ]
    },
    {
     "name": "stdout",
     "output_type": "stream",
     "text": [
      "found BM/ID article\n"
     ]
    },
    {
     "name": "stderr",
     "output_type": "stream",
     "text": [
      "2020-05-14 15:39:21,091 - DEBUG - Starting new HTTPS connection (1): www.google.com.my:443\n",
      "2020-05-14 15:39:21,208 - DEBUG - https://www.google.com.my:443 \"GET /search?q=isu+yaman&source=lnt&tbs=cdr%3A1%2Ccd_min%3A2000%2Ccd_max%3A2021&tbm=nws&start=210 HTTP/1.1\" 200 None\n",
      "2020-05-14 15:39:22,387 - DEBUG - utf-8  confidence = 0.99\n",
      "2020-05-14 15:39:22,387 - DEBUG - SHIFT_JIS Japanese confidence = 0.01\n",
      "2020-05-14 15:39:22,388 - DEBUG - EUC-JP Japanese confidence = 0.01\n",
      "2020-05-14 15:39:22,389 - DEBUG - GB2312 Chinese confidence = 0.01\n",
      "2020-05-14 15:39:22,390 - DEBUG - EUC-KR Korean confidence = 0.01\n",
      "2020-05-14 15:39:22,390 - DEBUG - CP949 Korean confidence = 0.01\n",
      "2020-05-14 15:39:22,391 - DEBUG - Big5 Chinese confidence = 0.01\n",
      "2020-05-14 15:39:22,392 - DEBUG - EUC-TW Taiwan confidence = 0.01\n",
      "2020-05-14 15:39:22,393 - DEBUG - windows-1251 Russian confidence = 0.01\n",
      "2020-05-14 15:39:22,394 - DEBUG - KOI8-R Russian confidence = 0.01\n",
      "2020-05-14 15:39:22,395 - DEBUG - ISO-8859-5 Russian confidence = 0.01\n",
      "2020-05-14 15:39:22,395 - DEBUG - MacCyrillic Russian confidence = 0.0\n",
      "2020-05-14 15:39:22,396 - DEBUG - IBM866 Russian confidence = 0.0\n",
      "2020-05-14 15:39:22,396 - DEBUG - IBM855 Russian confidence = 0.01\n",
      "2020-05-14 15:39:22,397 - DEBUG - ISO-8859-7 Greek confidence = 0.01\n",
      "2020-05-14 15:39:22,398 - DEBUG - windows-1253 Greek confidence = 0.01\n",
      "2020-05-14 15:39:22,399 - DEBUG - ISO-8859-5 Bulgairan confidence = 0.01\n",
      "2020-05-14 15:39:22,400 - DEBUG - windows-1251 Bulgarian confidence = 0.01\n",
      "2020-05-14 15:39:22,401 - DEBUG - TIS-620 Thai confidence = 0.01\n",
      "2020-05-14 15:39:22,402 - DEBUG - ISO-8859-9 Turkish confidence = 0.41600707977502654\n",
      "2020-05-14 15:39:22,403 - DEBUG - windows-1255 Hebrew confidence = 0.0\n",
      "2020-05-14 15:39:22,404 - DEBUG - windows-1255 Hebrew confidence = 0.0\n",
      "2020-05-14 15:39:22,405 - DEBUG - windows-1255 Hebrew confidence = 0.0\n",
      "2020-05-14 15:39:22,406 - DEBUG - utf-8  confidence = 0.99\n",
      "2020-05-14 15:39:22,407 - DEBUG - SHIFT_JIS Japanese confidence = 0.01\n",
      "2020-05-14 15:39:22,408 - DEBUG - EUC-JP Japanese confidence = 0.01\n",
      "2020-05-14 15:39:22,408 - DEBUG - GB2312 Chinese confidence = 0.01\n",
      "2020-05-14 15:39:22,409 - DEBUG - EUC-KR Korean confidence = 0.01\n",
      "2020-05-14 15:39:22,410 - DEBUG - CP949 Korean confidence = 0.01\n",
      "2020-05-14 15:39:22,411 - DEBUG - Big5 Chinese confidence = 0.01\n",
      "2020-05-14 15:39:22,411 - DEBUG - EUC-TW Taiwan confidence = 0.01\n",
      "2020-05-14 15:39:22,473 - DEBUG - Starting new HTTPS connection (1): sports.okezone.com:443\n",
      "2020-05-14 15:39:23,108 - DEBUG - https://sports.okezone.com:443 \"GET /read/2010/11/18/43/394392/atlet-yaman-terganggu-cewek-berbikini HTTP/1.1\" 200 None\n",
      "2020-05-14 15:39:23,274 - DEBUG - Starting new HTTPS connection (1): www.matamatapolitik.com:443\n",
      "2020-05-14 15:39:25,312 - DEBUG - https://www.matamatapolitik.com:443 \"GET /in-depth-perang-lain-di-yaman-kuasai-internet-untuk-lumpuhkan-lawan/ HTTP/1.1\" 200 None\n",
      "2020-05-14 15:39:25,776 - DEBUG - Starting new HTTPS connection (1): www.matamatapolitik.com:443\n"
     ]
    },
    {
     "name": "stdout",
     "output_type": "stream",
     "text": [
      "found BM/ID article\n"
     ]
    },
    {
     "name": "stderr",
     "output_type": "stream",
     "text": [
      "2020-05-14 15:39:26,529 - DEBUG - https://www.matamatapolitik.com:443 \"GET /in-depth-perang-lain-di-yaman-kuasai-internet-untuk-lumpuhkan-lawan/ HTTP/1.1\" 200 None\n",
      "2020-05-14 15:39:27,452 - DEBUG - Starting new HTTPS connection (1): dunia.tempo.co:443\n",
      "2020-05-14 15:39:27,670 - DEBUG - https://dunia.tempo.co:443 \"GET /read/1074245/bicarakan-yaman-mohammed-bin-salman-temui-sekjen-pbb HTTP/1.1\" 200 None\n",
      "2020-05-14 15:39:27,866 - DEBUG - Starting new HTTPS connection (1): dunia.tempo.co:443\n",
      "2020-05-14 15:39:28,053 - DEBUG - https://dunia.tempo.co:443 \"GET /read/1074245/bicarakan-yaman-mohammed-bin-salman-temui-sekjen-pbb HTTP/1.1\" 200 None\n"
     ]
    },
    {
     "name": "stdout",
     "output_type": "stream",
     "text": [
      "found BM/ID article\n"
     ]
    },
    {
     "name": "stderr",
     "output_type": "stream",
     "text": [
      "2020-05-14 15:39:28,271 - DEBUG - Starting new HTTPS connection (1): www.liputan6.com:443\n",
      "2020-05-14 15:39:28,700 - DEBUG - https://www.liputan6.com:443 \"GET /global/read/4008329/uea-akan-kurangi-jumlah-pasukan-di-wilayah-konflik-yaman-sinyal-perdamaian HTTP/1.1\" 200 None\n",
      "2020-05-14 15:39:28,972 - DEBUG - Starting new HTTPS connection (1): www.liputan6.com:443\n"
     ]
    },
    {
     "name": "stdout",
     "output_type": "stream",
     "text": [
      "found BM/ID article\n"
     ]
    },
    {
     "name": "stderr",
     "output_type": "stream",
     "text": [
      "2020-05-14 15:39:29,523 - DEBUG - https://www.liputan6.com:443 \"GET /global/read/4008329/uea-akan-kurangi-jumlah-pasukan-di-wilayah-konflik-yaman-sinyal-perdamaian HTTP/1.1\" 200 None\n",
      "2020-05-14 15:39:29,823 - DEBUG - Starting new HTTPS connection (1): khazanah.republika.co.id:443\n",
      "2020-05-14 15:39:29,994 - DEBUG - https://khazanah.republika.co.id:443 \"GET /berita/dunia-islam/islam-digest/po1whw458/sejarah-keturunan-hadhrami-dari-yaman-hingga-indonesia-3 HTTP/1.1\" 200 None\n",
      "2020-05-14 15:39:30,281 - DEBUG - Starting new HTTPS connection (1): dunia.tempo.co:443\n",
      "2020-05-14 15:39:30,484 - DEBUG - https://dunia.tempo.co:443 \"GET /read/1153826/ktt-teluk-raja-salman-minta-negara-teluk-bersatu HTTP/1.1\" 200 None\n",
      "2020-05-14 15:39:30,684 - DEBUG - Starting new HTTPS connection (1): dunia.tempo.co:443\n",
      "2020-05-14 15:39:30,873 - DEBUG - https://dunia.tempo.co:443 \"GET /read/1153826/ktt-teluk-raja-salman-minta-negara-teluk-bersatu HTTP/1.1\" 200 None\n"
     ]
    },
    {
     "name": "stdout",
     "output_type": "stream",
     "text": [
      "found BM/ID article\n"
     ]
    },
    {
     "name": "stderr",
     "output_type": "stream",
     "text": [
      "2020-05-14 15:39:31,136 - DEBUG - Starting new HTTPS connection (1): harakahdaily.net:443\n",
      "2020-05-14 15:39:38,185 - DEBUG - Download failed on URL https://harakahdaily.net/index.php/2020/01/04/igauan-perang-dunia-ketiga-cabaran-ke-atas-dunia-islam-2020/ because of HTTPSConnectionPool(host='harakahdaily.net', port=443): Read timed out. (read timeout=7)\n",
      "2020-05-14 15:39:38,207 - DEBUG - Starting new HTTPS connection (1): www.cnnindonesia.com:443\n",
      "2020-05-14 15:39:38,933 - DEBUG - https://www.cnnindonesia.com:443 \"GET /internasional/20190314175812-106-377346/kronologi-penculikan-wni-oleh-kelompok-bersenjata-di-yaman HTTP/1.1\" 200 None\n",
      "2020-05-14 15:39:39,224 - DEBUG - Starting new HTTPS connection (1): www.republika.co.id:443\n",
      "2020-05-14 15:39:39,337 - DEBUG - https://www.republika.co.id:443 \"GET /berita/dunia-islam/islam-digest/17/05/04/opf4z2313-dari-masjid-yaman-promosikan-nilainilai-islam-yang-luhur HTTP/1.1\" 200 None\n",
      "2020-05-14 15:39:39,623 - DEBUG - Starting new HTTPS connection (1): republika.co.id:443\n",
      "2020-05-14 15:39:39,747 - DEBUG - https://republika.co.id:443 \"GET /berita/pubpjk382/wabah-kolera-di-yaman-memburuk HTTP/1.1\" 200 None\n",
      "2020-05-14 15:39:50,059 - DEBUG - Starting new HTTPS connection (1): www.google.com.my:443\n",
      "2020-05-14 15:39:50,204 - DEBUG - https://www.google.com.my:443 \"GET /search?q=isu+yaman&source=lnt&tbs=cdr%3A1%2Ccd_min%3A2000%2Ccd_max%3A2021&tbm=nws&start=220 HTTP/1.1\" 200 None\n",
      "2020-05-14 15:39:51,258 - DEBUG - utf-8  confidence = 0.99\n",
      "2020-05-14 15:39:51,259 - DEBUG - SHIFT_JIS Japanese confidence = 0.01\n",
      "2020-05-14 15:39:51,259 - DEBUG - EUC-JP Japanese confidence = 0.01\n",
      "2020-05-14 15:39:51,260 - DEBUG - GB2312 Chinese confidence = 0.01\n",
      "2020-05-14 15:39:51,260 - DEBUG - EUC-KR Korean confidence = 0.01\n",
      "2020-05-14 15:39:51,261 - DEBUG - CP949 Korean confidence = 0.01\n",
      "2020-05-14 15:39:51,261 - DEBUG - Big5 Chinese confidence = 0.01\n",
      "2020-05-14 15:39:51,261 - DEBUG - EUC-TW Taiwan confidence = 0.01\n",
      "2020-05-14 15:39:51,262 - DEBUG - windows-1251 Russian confidence = 0.01\n",
      "2020-05-14 15:39:51,262 - DEBUG - KOI8-R Russian confidence = 0.01\n",
      "2020-05-14 15:39:51,263 - DEBUG - ISO-8859-5 Russian confidence = 0.01\n",
      "2020-05-14 15:39:51,263 - DEBUG - MacCyrillic Russian confidence = 0.0\n",
      "2020-05-14 15:39:51,264 - DEBUG - IBM866 Russian confidence = 0.0\n",
      "2020-05-14 15:39:51,264 - DEBUG - IBM855 Russian confidence = 0.01\n",
      "2020-05-14 15:39:51,264 - DEBUG - ISO-8859-7 Greek confidence = 0.01\n",
      "2020-05-14 15:39:51,265 - DEBUG - windows-1253 Greek confidence = 0.01\n",
      "2020-05-14 15:39:51,265 - DEBUG - ISO-8859-5 Bulgairan confidence = 0.01\n",
      "2020-05-14 15:39:51,266 - DEBUG - windows-1251 Bulgarian confidence = 0.01\n",
      "2020-05-14 15:39:51,266 - DEBUG - TIS-620 Thai confidence = 0.01\n",
      "2020-05-14 15:39:51,266 - DEBUG - ISO-8859-9 Turkish confidence = 0.4138711272215172\n",
      "2020-05-14 15:39:51,267 - DEBUG - windows-1255 Hebrew confidence = 0.0\n",
      "2020-05-14 15:39:51,268 - DEBUG - windows-1255 Hebrew confidence = 0.0\n",
      "2020-05-14 15:39:51,268 - DEBUG - windows-1255 Hebrew confidence = 0.0\n",
      "2020-05-14 15:39:51,269 - DEBUG - utf-8  confidence = 0.99\n",
      "2020-05-14 15:39:51,269 - DEBUG - SHIFT_JIS Japanese confidence = 0.01\n",
      "2020-05-14 15:39:51,269 - DEBUG - EUC-JP Japanese confidence = 0.01\n",
      "2020-05-14 15:39:51,270 - DEBUG - GB2312 Chinese confidence = 0.01\n",
      "2020-05-14 15:39:51,270 - DEBUG - EUC-KR Korean confidence = 0.01\n",
      "2020-05-14 15:39:51,271 - DEBUG - CP949 Korean confidence = 0.01\n",
      "2020-05-14 15:39:51,271 - DEBUG - Big5 Chinese confidence = 0.01\n",
      "2020-05-14 15:39:51,272 - DEBUG - EUC-TW Taiwan confidence = 0.01\n",
      "2020-05-14 15:39:51,316 - DEBUG - Starting new HTTP connection (1): www.astroawani.com:80\n",
      "2020-05-14 15:39:52,641 - DEBUG - http://www.astroawani.com:80 \"GET /berita-politik/mencari-downline-di-lubuk-felda-174366 HTTP/1.1\" 200 19286\n",
      "2020-05-14 15:39:52,777 - DEBUG - Starting new HTTPS connection (1): www.malaysiakini.com:443\n",
      "2020-05-14 15:39:52,986 - DEBUG - https://www.malaysiakini.com:443 \"GET /news/474760 HTTP/1.1\" 200 None\n",
      "2020-05-14 15:39:53,081 - DEBUG - Starting new HTTPS connection (1): www.malaysiakini.com:443\n",
      "2020-05-14 15:39:53,169 - DEBUG - https://www.malaysiakini.com:443 \"GET /news/474760 HTTP/1.1\" 200 None\n",
      "2020-05-14 15:39:53,280 - DEBUG - Starting new HTTPS connection (1): internasional.kompas.com:443\n"
     ]
    },
    {
     "name": "stdout",
     "output_type": "stream",
     "text": [
      "found BM/ID article\n"
     ]
    },
    {
     "name": "stderr",
     "output_type": "stream",
     "text": [
      "2020-05-14 15:39:53,458 - DEBUG - https://internasional.kompas.com:443 \"GET /read/2019/02/07/08143191/pemerintah-jepang-cegah-seorang-jurnalis-yang-ingin-liputan-ke-yaman HTTP/1.1\" 200 None\n",
      "2020-05-14 15:39:53,690 - DEBUG - Starting new HTTPS connection (1): internasional.kompas.com:443\n",
      "2020-05-14 15:39:53,777 - DEBUG - https://internasional.kompas.com:443 \"GET /read/2019/02/07/08143191/pemerintah-jepang-cegah-seorang-jurnalis-yang-ingin-liputan-ke-yaman HTTP/1.1\" 200 None\n"
     ]
    },
    {
     "name": "stdout",
     "output_type": "stream",
     "text": [
      "found BM/ID article\n"
     ]
    },
    {
     "name": "stderr",
     "output_type": "stream",
     "text": [
      "2020-05-14 15:39:54,020 - DEBUG - Starting new HTTPS connection (1): www.sinarharian.com.my:443\n",
      "2020-05-14 15:39:54,758 - DEBUG - https://www.sinarharian.com.my:443 \"GET /article/56008/BERITA/Nasional/Kanak-kanak-pelarian-wajar-diberi-peluang-pendidikan HTTP/1.1\" 200 None\n",
      "2020-05-14 15:39:54,920 - DEBUG - Starting new HTTPS connection (1): www.malaysiakini.com:443\n",
      "2020-05-14 15:39:55,154 - DEBUG - https://www.malaysiakini.com:443 \"GET /news/430381 HTTP/1.1\" 200 None\n",
      "2020-05-14 15:39:55,243 - DEBUG - Starting new HTTPS connection (1): www.malaysiakini.com:443\n",
      "2020-05-14 15:39:55,333 - DEBUG - https://www.malaysiakini.com:443 \"GET /news/430381 HTTP/1.1\" 200 None\n",
      "2020-05-14 15:39:55,429 - DEBUG - Starting new HTTPS connection (1): news.detik.com:443\n"
     ]
    },
    {
     "name": "stdout",
     "output_type": "stream",
     "text": [
      "found BM/ID article\n"
     ]
    },
    {
     "name": "stderr",
     "output_type": "stream",
     "text": [
      "2020-05-14 15:39:56,668 - DEBUG - https://news.detik.com:443 \"GET /berita/d-4251570/ppi-yaman-tolak-kaitkan-masalahnya-ke-rizieq-fpi-pasti-terkait HTTP/1.1\" 200 None\n",
      "2020-05-14 15:39:56,882 - DEBUG - Starting new HTTP connection (1): www.gresnews.com:80\n",
      "2020-05-14 15:39:56,977 - DEBUG - http://www.gresnews.com:80 \"GET /berita/internasional/97641-kemlu-tim-percepatan-evakuasi-wni-di-yaman-tiba-di-tarim/ HTTP/1.1\" 200 None\n",
      "2020-05-14 15:39:57,400 - DEBUG - Starting new HTTP connection (1): www.gresnews.com:80\n",
      "2020-05-14 15:39:57,467 - DEBUG - http://www.gresnews.com:80 \"GET /berita/internasional/97641-kemlu-tim-percepatan-evakuasi-wni-di-yaman-tiba-di-tarim/ HTTP/1.1\" 200 None\n"
     ]
    },
    {
     "name": "stdout",
     "output_type": "stream",
     "text": [
      "found BM/ID article\n"
     ]
    },
    {
     "name": "stderr",
     "output_type": "stream",
     "text": [
      "2020-05-14 15:39:57,926 - DEBUG - Starting new HTTPS connection (1): www.merdeka.com:443\n",
      "2020-05-14 15:39:58,183 - DEBUG - https://www.merdeka.com:443 \"GET /dunia/muncul-seruan-boikot-haji-terkait-isu-pelanggaran-ham-arab-saudi.html HTTP/1.1\" 200 None\n",
      "2020-05-14 15:39:58,267 - DEBUG - Starting new HTTPS connection (1): www.merdeka.com:443\n",
      "2020-05-14 15:39:58,390 - DEBUG - https://www.merdeka.com:443 \"GET /dunia/muncul-seruan-boikot-haji-terkait-isu-pelanggaran-ham-arab-saudi.html HTTP/1.1\" 200 None\n"
     ]
    },
    {
     "name": "stdout",
     "output_type": "stream",
     "text": [
      "found BM/ID article\n"
     ]
    },
    {
     "name": "stderr",
     "output_type": "stream",
     "text": [
      "2020-05-14 15:39:58,484 - DEBUG - Starting new HTTPS connection (1): tirto.id:443\n",
      "2020-05-14 15:39:58,673 - DEBUG - https://tirto.id:443 \"GET /mekkah-di-bawah-naungan-amerika-b1rE HTTP/1.1\" 200 None\n",
      "2020-05-14 15:39:58,875 - DEBUG - Starting new HTTPS connection (1): tirto.id:443\n",
      "2020-05-14 15:39:59,303 - DEBUG - https://tirto.id:443 \"GET /kbri-sanaa-ditutup-sementara-akibat-konflik-di-yaman-ee37 HTTP/1.1\" 200 None\n",
      "2020-05-14 15:40:09,502 - DEBUG - Starting new HTTPS connection (1): www.google.com.my:443\n",
      "2020-05-14 15:40:09,620 - DEBUG - https://www.google.com.my:443 \"GET /search?q=isu+yaman&source=lnt&tbs=cdr%3A1%2Ccd_min%3A2000%2Ccd_max%3A2021&tbm=nws&start=230 HTTP/1.1\" 200 None\n",
      "2020-05-14 15:40:10,714 - DEBUG - utf-8  confidence = 0.99\n",
      "2020-05-14 15:40:10,714 - DEBUG - SHIFT_JIS Japanese confidence = 0.01\n",
      "2020-05-14 15:40:10,715 - DEBUG - EUC-JP Japanese confidence = 0.01\n",
      "2020-05-14 15:40:10,715 - DEBUG - GB2312 Chinese confidence = 0.01\n",
      "2020-05-14 15:40:10,716 - DEBUG - EUC-KR Korean confidence = 0.01\n",
      "2020-05-14 15:40:10,717 - DEBUG - CP949 Korean confidence = 0.01\n",
      "2020-05-14 15:40:10,717 - DEBUG - Big5 Chinese confidence = 0.01\n",
      "2020-05-14 15:40:10,718 - DEBUG - EUC-TW Taiwan confidence = 0.01\n",
      "2020-05-14 15:40:10,718 - DEBUG - windows-1251 Russian confidence = 0.01\n",
      "2020-05-14 15:40:10,719 - DEBUG - KOI8-R Russian confidence = 0.01\n",
      "2020-05-14 15:40:10,719 - DEBUG - ISO-8859-5 Russian confidence = 0.01\n",
      "2020-05-14 15:40:10,720 - DEBUG - MacCyrillic Russian confidence = 0.0\n",
      "2020-05-14 15:40:10,720 - DEBUG - IBM866 Russian confidence = 0.0\n",
      "2020-05-14 15:40:10,721 - DEBUG - IBM855 Russian confidence = 0.01\n",
      "2020-05-14 15:40:10,721 - DEBUG - ISO-8859-7 Greek confidence = 0.0\n",
      "2020-05-14 15:40:10,721 - DEBUG - windows-1253 Greek confidence = 0.0\n",
      "2020-05-14 15:40:10,722 - DEBUG - ISO-8859-5 Bulgairan confidence = 0.01\n",
      "2020-05-14 15:40:10,723 - DEBUG - windows-1251 Bulgarian confidence = 0.01\n",
      "2020-05-14 15:40:10,723 - DEBUG - TIS-620 Thai confidence = 0.01\n",
      "2020-05-14 15:40:10,724 - DEBUG - ISO-8859-9 Turkish confidence = 0.41018091895788844\n",
      "2020-05-14 15:40:10,724 - DEBUG - windows-1255 Hebrew confidence = 0.0\n",
      "2020-05-14 15:40:10,725 - DEBUG - windows-1255 Hebrew confidence = 0.0\n",
      "2020-05-14 15:40:10,725 - DEBUG - windows-1255 Hebrew confidence = 0.0\n",
      "2020-05-14 15:40:10,726 - DEBUG - utf-8  confidence = 0.99\n",
      "2020-05-14 15:40:10,727 - DEBUG - SHIFT_JIS Japanese confidence = 0.01\n",
      "2020-05-14 15:40:10,727 - DEBUG - EUC-JP Japanese confidence = 0.01\n",
      "2020-05-14 15:40:10,728 - DEBUG - GB2312 Chinese confidence = 0.01\n",
      "2020-05-14 15:40:10,729 - DEBUG - EUC-KR Korean confidence = 0.01\n",
      "2020-05-14 15:40:10,729 - DEBUG - CP949 Korean confidence = 0.01\n",
      "2020-05-14 15:40:10,730 - DEBUG - Big5 Chinese confidence = 0.01\n",
      "2020-05-14 15:40:10,730 - DEBUG - EUC-TW Taiwan confidence = 0.01\n",
      "2020-05-14 15:40:10,793 - DEBUG - Starting new HTTPS connection (1): internasional.republika.co.id:443\n",
      "2020-05-14 15:40:11,003 - DEBUG - https://internasional.republika.co.id:443 \"GET /berita/internasional/timur-tengah/17/12/12/p0u7mk366-delapan-juta-rakyat-yaman-dalam-jurang-kelaparan HTTP/1.1\" 200 None\n",
      "2020-05-14 15:40:11,302 - DEBUG - Starting new HTTPS connection (1): www.malaysiakini.com:443\n",
      "2020-05-14 15:40:11,536 - DEBUG - https://www.malaysiakini.com:443 \"GET /letters/412382 HTTP/1.1\" 200 None\n",
      "2020-05-14 15:40:11,684 - DEBUG - Starting new HTTPS connection (1): www.hmetro.com.my:443\n",
      "2020-05-14 15:40:12,631 - DEBUG - https://www.hmetro.com.my:443 \"GET /addin/2019/06/468790/panduan-azimuth-penentu-arah-kiblat HTTP/1.1\" 200 None\n",
      "2020-05-14 15:40:12,762 - DEBUG - Starting new HTTPS connection (1): www.hmetro.com.my:443\n",
      "2020-05-14 15:40:12,838 - DEBUG - https://www.hmetro.com.my:443 \"GET /addin/2019/06/468790/panduan-azimuth-penentu-arah-kiblat HTTP/1.1\" 200 None\n"
     ]
    },
    {
     "name": "stdout",
     "output_type": "stream",
     "text": [
      "found BM/ID article\n"
     ]
    },
    {
     "name": "stderr",
     "output_type": "stream",
     "text": [
      "2020-05-14 15:40:12,983 - DEBUG - Starting new HTTPS connection (1): www.hmetro.com.my:443\n",
      "2020-05-14 15:40:13,837 - DEBUG - https://www.hmetro.com.my:443 \"GET /utama/2019/04/447717/kacak-kelakar-kaya HTTP/1.1\" 200 None\n",
      "2020-05-14 15:40:13,955 - DEBUG - Starting new HTTPS connection (1): www.hmetro.com.my:443\n",
      "2020-05-14 15:40:14,035 - DEBUG - https://www.hmetro.com.my:443 \"GET /utama/2019/04/447717/kacak-kelakar-kaya HTTP/1.1\" 200 None\n"
     ]
    },
    {
     "name": "stdout",
     "output_type": "stream",
     "text": [
      "found BM/ID article\n"
     ]
    },
    {
     "name": "stderr",
     "output_type": "stream",
     "text": [
      "2020-05-14 15:40:14,193 - DEBUG - Starting new HTTPS connection (1): www.bharian.com.my:443\n",
      "2020-05-14 15:40:14,964 - DEBUG - https://www.bharian.com.my:443 \"GET /berita/nasional/2019/10/621004/malaysia-mahu-terbabit-tentukan-status-pelarian HTTP/1.1\" 200 None\n",
      "2020-05-14 15:40:15,102 - DEBUG - Starting new HTTPS connection (1): www.bharian.com.my:443\n",
      "2020-05-14 15:40:15,189 - DEBUG - https://www.bharian.com.my:443 \"GET /berita/nasional/2019/10/621004/malaysia-mahu-terbabit-tentukan-status-pelarian HTTP/1.1\" 200 None\n"
     ]
    },
    {
     "name": "stdout",
     "output_type": "stream",
     "text": [
      "found BM/ID article\n"
     ]
    },
    {
     "name": "stderr",
     "output_type": "stream",
     "text": [
      "2020-05-14 15:40:15,431 - DEBUG - Starting new HTTPS connection (1): www.voaindonesia.com:443\n",
      "2020-05-14 15:40:16,579 - DEBUG - https://www.voaindonesia.com:443 \"GET /a/perang-saudara-dan-campur-tangan-arab-saudi-di-yaman/3861609.html HTTP/1.1\" 200 13630\n",
      "2020-05-14 15:40:16,782 - DEBUG - Starting new HTTPS connection (1): www.bharian.com.my:443\n",
      "2020-05-14 15:40:17,524 - DEBUG - https://www.bharian.com.my:443 \"GET /node/180680 HTTP/1.1\" 200 None\n",
      "2020-05-14 15:40:17,658 - DEBUG - Starting new HTTPS connection (1): www.bharian.com.my:443\n",
      "2020-05-14 15:40:17,734 - DEBUG - https://www.bharian.com.my:443 \"GET /node/180680 HTTP/1.1\" 200 None\n"
     ]
    },
    {
     "name": "stdout",
     "output_type": "stream",
     "text": [
      "found BM/ID article\n"
     ]
    },
    {
     "name": "stderr",
     "output_type": "stream",
     "text": [
      "2020-05-14 15:40:17,884 - DEBUG - Starting new HTTPS connection (1): www.bharian.com.my:443\n",
      "2020-05-14 15:40:18,470 - DEBUG - https://www.bharian.com.my:443 \"GET /node/280336 HTTP/1.1\" 200 None\n",
      "2020-05-14 15:40:18,608 - DEBUG - Starting new HTTPS connection (1): www.bharian.com.my:443\n",
      "2020-05-14 15:40:18,710 - DEBUG - https://www.bharian.com.my:443 \"GET /node/280336 HTTP/1.1\" 200 None\n"
     ]
    },
    {
     "name": "stdout",
     "output_type": "stream",
     "text": [
      "found BM/ID article\n"
     ]
    },
    {
     "name": "stderr",
     "output_type": "stream",
     "text": [
      "2020-05-14 15:40:18,853 - DEBUG - Starting new HTTPS connection (1): www.matamatapolitik.com:443\n",
      "2020-05-14 15:40:21,416 - DEBUG - https://www.matamatapolitik.com:443 \"GET /news-theresa-may-serukan-raja-salman-untuk-bantu-akhiri-krisis-yaman/ HTTP/1.1\" 200 None\n",
      "2020-05-14 15:40:21,847 - DEBUG - Starting new HTTPS connection (1): www.matamatapolitik.com:443\n"
     ]
    },
    {
     "name": "stdout",
     "output_type": "stream",
     "text": [
      "found BM/ID article\n"
     ]
    },
    {
     "name": "stderr",
     "output_type": "stream",
     "text": [
      "2020-05-14 15:40:22,495 - DEBUG - https://www.matamatapolitik.com:443 \"GET /news-theresa-may-serukan-raja-salman-untuk-bantu-akhiri-krisis-yaman/ HTTP/1.1\" 200 None\n",
      "2020-05-14 15:40:22,940 - DEBUG - Starting new HTTPS connection (1): republika.co.id:443\n",
      "2020-05-14 15:40:23,075 - DEBUG - https://republika.co.id:443 \"GET /berita/nyfqki317/uae-gunakan-tentara-bayaran-asal-amerika-selatan-di-perang-yaman HTTP/1.1\" 200 None\n",
      "2020-05-14 15:40:33,349 - DEBUG - Starting new HTTPS connection (1): www.google.com.my:443\n",
      "2020-05-14 15:40:33,523 - DEBUG - https://www.google.com.my:443 \"GET /search?q=isu+yaman&source=lnt&tbs=cdr%3A1%2Ccd_min%3A2000%2Ccd_max%3A2021&tbm=nws&start=240 HTTP/1.1\" 200 None\n",
      "2020-05-14 15:40:34,606 - DEBUG - utf-8  confidence = 0.99\n",
      "2020-05-14 15:40:34,607 - DEBUG - SHIFT_JIS Japanese confidence = 0.01\n",
      "2020-05-14 15:40:34,607 - DEBUG - EUC-JP Japanese confidence = 0.01\n",
      "2020-05-14 15:40:34,608 - DEBUG - GB2312 Chinese confidence = 0.01\n",
      "2020-05-14 15:40:34,608 - DEBUG - EUC-KR Korean confidence = 0.01\n",
      "2020-05-14 15:40:34,609 - DEBUG - CP949 Korean confidence = 0.01\n",
      "2020-05-14 15:40:34,609 - DEBUG - Big5 Chinese confidence = 0.01\n",
      "2020-05-14 15:40:34,610 - DEBUG - EUC-TW Taiwan confidence = 0.01\n",
      "2020-05-14 15:40:34,610 - DEBUG - windows-1251 Russian confidence = 0.01\n",
      "2020-05-14 15:40:34,611 - DEBUG - KOI8-R Russian confidence = 0.01\n",
      "2020-05-14 15:40:34,611 - DEBUG - ISO-8859-5 Russian confidence = 0.01\n",
      "2020-05-14 15:40:34,612 - DEBUG - MacCyrillic Russian confidence = 0.01\n",
      "2020-05-14 15:40:34,612 - DEBUG - IBM866 Russian confidence = 0.01\n",
      "2020-05-14 15:40:34,612 - DEBUG - IBM855 Russian confidence = 0.01\n",
      "2020-05-14 15:40:34,613 - DEBUG - ISO-8859-7 Greek confidence = 0.0\n",
      "2020-05-14 15:40:34,613 - DEBUG - windows-1253 Greek confidence = 0.0\n",
      "2020-05-14 15:40:34,614 - DEBUG - ISO-8859-5 Bulgairan confidence = 0.01\n",
      "2020-05-14 15:40:34,614 - DEBUG - windows-1251 Bulgarian confidence = 0.01\n",
      "2020-05-14 15:40:34,615 - DEBUG - TIS-620 Thai confidence = 0.01\n",
      "2020-05-14 15:40:34,615 - DEBUG - ISO-8859-9 Turkish confidence = 0.4096239773815064\n",
      "2020-05-14 15:40:34,616 - DEBUG - windows-1255 Hebrew confidence = 0.0\n",
      "2020-05-14 15:40:34,616 - DEBUG - windows-1255 Hebrew confidence = 0.0\n",
      "2020-05-14 15:40:34,617 - DEBUG - windows-1255 Hebrew confidence = 0.0\n",
      "2020-05-14 15:40:34,617 - DEBUG - utf-8  confidence = 0.99\n",
      "2020-05-14 15:40:34,618 - DEBUG - SHIFT_JIS Japanese confidence = 0.01\n",
      "2020-05-14 15:40:34,619 - DEBUG - EUC-JP Japanese confidence = 0.01\n",
      "2020-05-14 15:40:34,620 - DEBUG - GB2312 Chinese confidence = 0.01\n",
      "2020-05-14 15:40:34,620 - DEBUG - EUC-KR Korean confidence = 0.01\n",
      "2020-05-14 15:40:34,621 - DEBUG - CP949 Korean confidence = 0.01\n",
      "2020-05-14 15:40:34,621 - DEBUG - Big5 Chinese confidence = 0.01\n",
      "2020-05-14 15:40:34,622 - DEBUG - EUC-TW Taiwan confidence = 0.01\n",
      "2020-05-14 15:40:34,650 - DEBUG - Starting new HTTPS connection (1): www.bharian.com.my:443\n",
      "2020-05-14 15:40:35,342 - DEBUG - https://www.bharian.com.my:443 \"GET /node/265331 HTTP/1.1\" 200 None\n",
      "2020-05-14 15:40:35,483 - DEBUG - Starting new HTTPS connection (1): www.bharian.com.my:443\n",
      "2020-05-14 15:40:35,560 - DEBUG - https://www.bharian.com.my:443 \"GET /node/265331 HTTP/1.1\" 200 None\n"
     ]
    },
    {
     "name": "stdout",
     "output_type": "stream",
     "text": [
      "found BM/ID article\n"
     ]
    },
    {
     "name": "stderr",
     "output_type": "stream",
     "text": [
      "2020-05-14 15:40:35,710 - DEBUG - Starting new HTTPS connection (1): www.bharian.com.my:443\n",
      "2020-05-14 15:40:36,569 - DEBUG - https://www.bharian.com.my:443 \"GET /dunia/amerika/2017/09/326243/krisis-kebuluran-dunia-meningkat HTTP/1.1\" 200 None\n",
      "2020-05-14 15:40:36,726 - DEBUG - Starting new HTTPS connection (1): www.bharian.com.my:443\n",
      "2020-05-14 15:40:36,797 - DEBUG - https://www.bharian.com.my:443 \"GET /dunia/amerika/2017/09/326243/krisis-kebuluran-dunia-meningkat HTTP/1.1\" 200 None\n"
     ]
    },
    {
     "name": "stdout",
     "output_type": "stream",
     "text": [
      "found BM/ID article\n"
     ]
    },
    {
     "name": "stderr",
     "output_type": "stream",
     "text": [
      "2020-05-14 15:40:36,953 - DEBUG - Starting new HTTPS connection (1): www.voaindonesia.com:443\n",
      "2020-05-14 15:40:38,584 - DEBUG - https://www.voaindonesia.com:443 \"GET /a/hrw-tuding-pasukan-saudi-lakukan-pelanggaran-ham-di-yaman/5344844.html HTTP/1.1\" 200 12440\n",
      "2020-05-14 15:40:38,876 - DEBUG - Starting new HTTP connection (1): www.astroawani.com:80\n",
      "2020-05-14 15:40:40,142 - DEBUG - http://www.astroawani.com:80 \"GET /berita-dunia/covid-19-bersedia-untuk-keadaan-lebih-teruk-who-bimbang-susulan-kematian-di-afrika-234254 HTTP/1.1\" 200 18173\n",
      "2020-05-14 15:40:40,274 - DEBUG - Starting new HTTPS connection (1): harakahdaily.net:443\n",
      "2020-05-14 15:40:47,325 - DEBUG - Download failed on URL https://harakahdaily.net/index.php/2017/10/16/geopolitik-tanduk-afrika-kenapa-somalia-penting-kepada-kuasa-dunia/ because of HTTPSConnectionPool(host='harakahdaily.net', port=443): Read timed out. (read timeout=7)\n",
      "2020-05-14 15:40:47,354 - DEBUG - Starting new HTTPS connection (1): internasional.republika.co.id:443\n",
      "2020-05-14 15:40:47,480 - DEBUG - https://internasional.republika.co.id:443 \"GET /berita/q5srn5377/serangan-koalisi-saudi-tewaskan-30-warga-sipil-yaman HTTP/1.1\" 200 None\n",
      "2020-05-14 15:40:47,799 - DEBUG - Starting new HTTPS connection (1): www.hmetro.com.my:443\n",
      "2020-05-14 15:40:48,580 - DEBUG - https://www.hmetro.com.my:443 \"GET /mutakhir/2018/01/299052/bantu-insan-sejagat HTTP/1.1\" 200 None\n",
      "2020-05-14 15:40:48,708 - DEBUG - Starting new HTTPS connection (1): www.hmetro.com.my:443\n",
      "2020-05-14 15:40:48,789 - DEBUG - https://www.hmetro.com.my:443 \"GET /mutakhir/2018/01/299052/bantu-insan-sejagat HTTP/1.1\" 200 None\n"
     ]
    },
    {
     "name": "stdout",
     "output_type": "stream",
     "text": [
      "found BM/ID article\n"
     ]
    },
    {
     "name": "stderr",
     "output_type": "stream",
     "text": [
      "2020-05-14 15:40:48,937 - DEBUG - Starting new HTTPS connection (1): internasional.republika.co.id:443\n",
      "2020-05-14 15:40:49,079 - DEBUG - https://internasional.republika.co.id:443 \"GET /berita/pwl67d382/emdroneem-militer-as-ditembak-jatuh-di-yaman HTTP/1.1\" 200 None\n",
      "2020-05-14 15:40:49,378 - DEBUG - Starting new HTTPS connection (1): www.voaindonesia.com:443\n",
      "2020-05-14 15:40:52,365 - DEBUG - https://www.voaindonesia.com:443 \"GET /a/presiden-bantah-isu-hampir-2-juta-pekerja-china-masuk-indonesia/3648135.html HTTP/1.1\" 200 16875\n",
      "2020-05-14 15:40:53,218 - DEBUG - Starting new HTTPS connection (1): www.malaysiakini.com:443\n",
      "2020-05-14 15:40:53,439 - DEBUG - https://www.malaysiakini.com:443 \"GET /columns/403682 HTTP/1.1\" 200 None\n",
      "2020-05-14 15:41:03,572 - DEBUG - Starting new HTTPS connection (1): www.google.com.my:443\n",
      "2020-05-14 15:41:03,700 - DEBUG - https://www.google.com.my:443 \"GET /search?q=isu+yaman&source=lnt&tbs=cdr%3A1%2Ccd_min%3A2000%2Ccd_max%3A2021&tbm=nws&start=250 HTTP/1.1\" 200 None\n",
      "2020-05-14 15:41:04,906 - DEBUG - utf-8  confidence = 0.99\n",
      "2020-05-14 15:41:04,907 - DEBUG - SHIFT_JIS Japanese confidence = 0.01\n",
      "2020-05-14 15:41:04,907 - DEBUG - EUC-JP Japanese confidence = 0.01\n",
      "2020-05-14 15:41:04,908 - DEBUG - GB2312 Chinese confidence = 0.01\n",
      "2020-05-14 15:41:04,908 - DEBUG - EUC-KR Korean confidence = 0.01\n",
      "2020-05-14 15:41:04,909 - DEBUG - CP949 Korean confidence = 0.01\n",
      "2020-05-14 15:41:04,909 - DEBUG - Big5 Chinese confidence = 0.01\n",
      "2020-05-14 15:41:04,910 - DEBUG - EUC-TW Taiwan confidence = 0.01\n",
      "2020-05-14 15:41:04,910 - DEBUG - windows-1251 Russian confidence = 0.01\n",
      "2020-05-14 15:41:04,911 - DEBUG - KOI8-R Russian confidence = 0.01\n",
      "2020-05-14 15:41:04,911 - DEBUG - ISO-8859-5 Russian confidence = 0.01\n",
      "2020-05-14 15:41:04,911 - DEBUG - MacCyrillic Russian confidence = 0.01\n",
      "2020-05-14 15:41:04,912 - DEBUG - IBM866 Russian confidence = 0.01\n",
      "2020-05-14 15:41:04,913 - DEBUG - IBM855 Russian confidence = 0.01\n",
      "2020-05-14 15:41:04,913 - DEBUG - ISO-8859-7 Greek confidence = 0.0\n",
      "2020-05-14 15:41:04,913 - DEBUG - windows-1253 Greek confidence = 0.0\n",
      "2020-05-14 15:41:04,914 - DEBUG - ISO-8859-5 Bulgairan confidence = 0.01\n",
      "2020-05-14 15:41:04,914 - DEBUG - windows-1251 Bulgarian confidence = 0.01\n",
      "2020-05-14 15:41:04,915 - DEBUG - TIS-620 Thai confidence = 0.01\n",
      "2020-05-14 15:41:04,916 - DEBUG - ISO-8859-9 Turkish confidence = 0.41553458686341793\n",
      "2020-05-14 15:41:04,916 - DEBUG - windows-1255 Hebrew confidence = 0.0\n",
      "2020-05-14 15:41:04,916 - DEBUG - windows-1255 Hebrew confidence = 0.0\n",
      "2020-05-14 15:41:04,917 - DEBUG - windows-1255 Hebrew confidence = 0.0\n",
      "2020-05-14 15:41:04,917 - DEBUG - utf-8  confidence = 0.99\n",
      "2020-05-14 15:41:04,918 - DEBUG - SHIFT_JIS Japanese confidence = 0.01\n",
      "2020-05-14 15:41:04,918 - DEBUG - EUC-JP Japanese confidence = 0.01\n",
      "2020-05-14 15:41:04,918 - DEBUG - GB2312 Chinese confidence = 0.01\n",
      "2020-05-14 15:41:04,919 - DEBUG - EUC-KR Korean confidence = 0.01\n",
      "2020-05-14 15:41:04,920 - DEBUG - CP949 Korean confidence = 0.01\n",
      "2020-05-14 15:41:04,920 - DEBUG - Big5 Chinese confidence = 0.01\n",
      "2020-05-14 15:41:04,920 - DEBUG - EUC-TW Taiwan confidence = 0.01\n",
      "2020-05-14 15:41:04,971 - DEBUG - Starting new HTTPS connection (1): www.voaindonesia.com:443\n",
      "2020-05-14 15:41:05,389 - DEBUG - https://www.voaindonesia.com:443 \"GET /a/hrw-tuding-pasukan-saudi-lakukan-pelanggaran-ham-di-yaman/5344844.html HTTP/1.1\" 200 12924\n",
      "2020-05-14 15:41:05,603 - DEBUG - Starting new HTTP connection (1): www.astroawani.com:80\n",
      "2020-05-14 15:41:05,889 - DEBUG - http://www.astroawani.com:80 \"GET /berita-dunia/covid-19-bersedia-untuk-keadaan-lebih-teruk-who-bimbang-susulan-kematian-di-afrika-234254 HTTP/1.1\" 200 18173\n",
      "2020-05-14 15:41:06,925 - DEBUG - Starting new HTTPS connection (1): harakahdaily.net:443\n",
      "2020-05-14 15:41:11,489 - DEBUG - https://harakahdaily.net:443 \"GET /index.php/2017/10/16/geopolitik-tanduk-afrika-kenapa-somalia-penting-kepada-kuasa-dunia/ HTTP/1.1\" 200 None\n",
      "2020-05-14 15:41:11,658 - DEBUG - Starting new HTTPS connection (1): internasional.republika.co.id:443\n",
      "2020-05-14 15:41:11,782 - DEBUG - https://internasional.republika.co.id:443 \"GET /berita/q5srn5377/serangan-koalisi-saudi-tewaskan-30-warga-sipil-yaman HTTP/1.1\" 200 None\n",
      "2020-05-14 15:41:12,122 - DEBUG - Starting new HTTPS connection (1): www.hmetro.com.my:443\n",
      "2020-05-14 15:41:12,197 - DEBUG - https://www.hmetro.com.my:443 \"GET /mutakhir/2018/01/299052/bantu-insan-sejagat HTTP/1.1\" 200 None\n",
      "2020-05-14 15:41:12,314 - DEBUG - Starting new HTTPS connection (1): www.hmetro.com.my:443\n",
      "2020-05-14 15:41:12,386 - DEBUG - https://www.hmetro.com.my:443 \"GET /mutakhir/2018/01/299052/bantu-insan-sejagat HTTP/1.1\" 200 None\n"
     ]
    },
    {
     "name": "stdout",
     "output_type": "stream",
     "text": [
      "found BM/ID article\n"
     ]
    },
    {
     "name": "stderr",
     "output_type": "stream",
     "text": [
      "2020-05-14 15:41:12,563 - DEBUG - Starting new HTTPS connection (1): internasional.republika.co.id:443\n",
      "2020-05-14 15:41:12,690 - DEBUG - https://internasional.republika.co.id:443 \"GET /berita/pwl67d382/emdroneem-militer-as-ditembak-jatuh-di-yaman HTTP/1.1\" 200 None\n",
      "2020-05-14 15:41:12,987 - DEBUG - Starting new HTTPS connection (1): www.voaindonesia.com:443\n",
      "2020-05-14 15:41:13,336 - DEBUG - https://www.voaindonesia.com:443 \"GET /a/presiden-bantah-isu-hampir-2-juta-pekerja-china-masuk-indonesia/3648135.html HTTP/1.1\" 200 16875\n",
      "2020-05-14 15:41:13,610 - DEBUG - Starting new HTTPS connection (1): www.malaysiakini.com:443\n",
      "2020-05-14 15:41:13,861 - DEBUG - https://www.malaysiakini.com:443 \"GET /columns/403682 HTTP/1.1\" 200 None\n",
      "2020-05-14 15:41:14,003 - DEBUG - Starting new HTTPS connection (1): www.republika.co.id:443\n",
      "2020-05-14 15:41:14,150 - DEBUG - https://www.republika.co.id:443 \"GET /berita/internasional/timur-tengah/15/07/26/ns3j8s330-arab-saudi-setujui-permintaan-presiden-yaman HTTP/1.1\" 200 None\n",
      "2020-05-14 15:41:14,433 - DEBUG - Starting new HTTPS connection (1): news.detik.com:443\n",
      "2020-05-14 15:41:15,613 - DEBUG - https://news.detik.com:443 \"GET /internasional/d-4283979/isu-senjata-kimia-arab-saudi-di-balik-pembunuhan-khashoggi HTTP/1.1\" 200 None\n",
      "2020-05-14 15:41:25,818 - DEBUG - Starting new HTTPS connection (1): www.google.com.my:443\n",
      "2020-05-14 15:41:25,987 - DEBUG - https://www.google.com.my:443 \"GET /search?q=isu+yaman&source=lnt&tbs=cdr%3A1%2Ccd_min%3A2000%2Ccd_max%3A2021&tbm=nws&start=260 HTTP/1.1\" 200 None\n",
      "2020-05-14 15:41:27,025 - DEBUG - utf-8  confidence = 0.99\n",
      "2020-05-14 15:41:27,026 - DEBUG - SHIFT_JIS Japanese confidence = 0.01\n",
      "2020-05-14 15:41:27,027 - DEBUG - EUC-JP Japanese confidence = 0.01\n",
      "2020-05-14 15:41:27,027 - DEBUG - GB2312 Chinese confidence = 0.01\n",
      "2020-05-14 15:41:27,028 - DEBUG - EUC-KR Korean confidence = 0.01\n",
      "2020-05-14 15:41:27,029 - DEBUG - CP949 Korean confidence = 0.01\n",
      "2020-05-14 15:41:27,029 - DEBUG - Big5 Chinese confidence = 0.01\n",
      "2020-05-14 15:41:27,030 - DEBUG - EUC-TW Taiwan confidence = 0.01\n",
      "2020-05-14 15:41:27,031 - DEBUG - windows-1251 Russian confidence = 0.01\n",
      "2020-05-14 15:41:27,032 - DEBUG - KOI8-R Russian confidence = 0.01\n",
      "2020-05-14 15:41:27,033 - DEBUG - ISO-8859-5 Russian confidence = 0.01\n",
      "2020-05-14 15:41:27,034 - DEBUG - MacCyrillic Russian confidence = 0.0\n",
      "2020-05-14 15:41:27,034 - DEBUG - IBM866 Russian confidence = 0.0\n",
      "2020-05-14 15:41:27,035 - DEBUG - IBM855 Russian confidence = 0.01\n",
      "2020-05-14 15:41:27,036 - DEBUG - ISO-8859-7 Greek confidence = 0.0\n",
      "2020-05-14 15:41:27,036 - DEBUG - windows-1253 Greek confidence = 0.0\n",
      "2020-05-14 15:41:27,037 - DEBUG - ISO-8859-5 Bulgairan confidence = 0.01\n",
      "2020-05-14 15:41:27,038 - DEBUG - windows-1251 Bulgarian confidence = 0.01\n",
      "2020-05-14 15:41:27,038 - DEBUG - TIS-620 Thai confidence = 0.01\n",
      "2020-05-14 15:41:27,039 - DEBUG - ISO-8859-9 Turkish confidence = 0.4221436333498167\n",
      "2020-05-14 15:41:27,040 - DEBUG - windows-1255 Hebrew confidence = 0.0\n",
      "2020-05-14 15:41:27,040 - DEBUG - windows-1255 Hebrew confidence = 0.0\n",
      "2020-05-14 15:41:27,040 - DEBUG - windows-1255 Hebrew confidence = 0.0\n",
      "2020-05-14 15:41:27,041 - DEBUG - utf-8  confidence = 0.99\n",
      "2020-05-14 15:41:27,041 - DEBUG - SHIFT_JIS Japanese confidence = 0.01\n",
      "2020-05-14 15:41:27,042 - DEBUG - EUC-JP Japanese confidence = 0.01\n",
      "2020-05-14 15:41:27,042 - DEBUG - GB2312 Chinese confidence = 0.01\n",
      "2020-05-14 15:41:27,043 - DEBUG - EUC-KR Korean confidence = 0.01\n",
      "2020-05-14 15:41:27,043 - DEBUG - CP949 Korean confidence = 0.01\n",
      "2020-05-14 15:41:27,043 - DEBUG - Big5 Chinese confidence = 0.01\n",
      "2020-05-14 15:41:27,044 - DEBUG - EUC-TW Taiwan confidence = 0.01\n",
      "2020-05-14 15:41:27,080 - DEBUG - Starting new HTTPS connection (1): internasional.republika.co.id:443\n",
      "2020-05-14 15:41:27,218 - DEBUG - https://internasional.republika.co.id:443 \"GET /berita/q36fb2320/5-tahun-perang-yaman-krisis-terburuk-abad-modern HTTP/1.1\" 200 None\n",
      "2020-05-14 15:41:27,517 - DEBUG - Starting new HTTPS connection (1): www.merdeka.com:443\n",
      "2020-05-14 15:41:27,645 - DEBUG - https://www.merdeka.com:443 \"GET /dunia/oman-tutup-perbatasan-dengan-yaman-bagaimana-nasib-pelajar-indonesia.html HTTP/1.1\" 200 None\n",
      "2020-05-14 15:41:27,728 - DEBUG - Starting new HTTPS connection (1): www.merdeka.com:443\n",
      "2020-05-14 15:41:27,848 - DEBUG - https://www.merdeka.com:443 \"GET /dunia/oman-tutup-perbatasan-dengan-yaman-bagaimana-nasib-pelajar-indonesia.html HTTP/1.1\" 200 None\n"
     ]
    },
    {
     "name": "stdout",
     "output_type": "stream",
     "text": [
      "found BM/ID article\n"
     ]
    },
    {
     "name": "stderr",
     "output_type": "stream",
     "text": [
      "2020-05-14 15:41:27,960 - DEBUG - Starting new HTTPS connection (1): radarsukabumi.com:443\n",
      "2020-05-14 15:41:29,040 - DEBUG - https://radarsukabumi.com:443 \"GET /dunia/ulama-yaman-dalam-khotbah-jumat-sebut-yahudi-dan-as-ciptakan-virus-corona-untuk-tutup-masjidilharam/ HTTP/1.1\" 200 None\n",
      "2020-05-14 15:41:29,322 - DEBUG - Starting new HTTPS connection (1): www.republika.co.id:443\n",
      "2020-05-14 15:41:29,456 - DEBUG - https://www.republika.co.id:443 \"GET /berita/internasional/global/17/11/27/p02333-pengiriman-5000-ton-tepung-sampai-ke-yaman HTTP/1.1\" 200 None\n",
      "2020-05-14 15:41:29,757 - DEBUG - Starting new HTTPS connection (1): tekno.kompas.com:443\n",
      "2020-05-14 15:41:29,879 - DEBUG - https://tekno.kompas.com:443 \"GET /read/2020/05/08/09160027/facebook-bentuk-dewan-pengawas-yang-bisa-memveto-zuckerberg HTTP/1.1\" 200 None\n",
      "2020-05-14 15:41:30,140 - DEBUG - Starting new HTTPS connection (1): tekno.kompas.com:443\n",
      "2020-05-14 15:41:30,227 - DEBUG - https://tekno.kompas.com:443 \"GET /read/2020/05/08/09160027/facebook-bentuk-dewan-pengawas-yang-bisa-memveto-zuckerberg HTTP/1.1\" 200 None\n"
     ]
    },
    {
     "name": "stdout",
     "output_type": "stream",
     "text": [
      "found BM/ID article\n"
     ]
    },
    {
     "name": "stderr",
     "output_type": "stream",
     "text": [
      "2020-05-14 15:41:30,503 - DEBUG - Starting new HTTPS connection (1): www.jpnn.com:443\n",
      "2020-05-14 15:41:30,635 - DEBUG - https://www.jpnn.com:443 \"GET /news/amerika-tarik-rudal-patriot-dari-saudi-raja-salman-langsung-telepon-donald-trump HTTP/1.1\" 200 None\n",
      "2020-05-14 15:41:30,785 - DEBUG - Starting new HTTPS connection (1): republika.co.id:443\n",
      "2020-05-14 15:41:30,930 - DEBUG - https://republika.co.id:443 \"GET /berita/qa9ezx430/peristiwa-di-bulan-ramadhan-fathu-makkah HTTP/1.1\" 200 None\n",
      "2020-05-14 15:41:31,036 - DEBUG - Starting new HTTPS connection (1): republika.co.id:443\n",
      "2020-05-14 15:41:31,172 - DEBUG - https://republika.co.id:443 \"GET /berita/qa9ezx430/peristiwa-di-bulan-ramadhan-fathu-makkah HTTP/1.1\" 200 None\n"
     ]
    },
    {
     "name": "stdout",
     "output_type": "stream",
     "text": [
      "found BM/ID article\n"
     ]
    },
    {
     "name": "stderr",
     "output_type": "stream",
     "text": [
      "2020-05-14 15:41:31,349 - DEBUG - Starting new HTTPS connection (1): indonesiainside.id:443\n",
      "2020-05-14 15:41:32,276 - DEBUG - https://indonesiainside.id:443 \"GET /news/internasional/2020/05/14/tunangan-jamal-khashoggi-ajak-fans-newcastle-untuk-menolak-muhammad-bin-salman HTTP/1.1\" 200 20098\n",
      "2020-05-14 15:41:32,522 - DEBUG - Starting new HTTPS connection (1): terkini.com:443\n",
      "2020-05-14 15:41:33,813 - DEBUG - https://terkini.com:443 \"GET /radikalisme-intoleransi-harus-jadi-agenda-indonesia-di-dewan-ham-pbb-internasional-terkini/ HTTP/1.1\" 404 None\n",
      "2020-05-14 15:41:33,975 - DEBUG - Download failed on URL https://terkini.com/radikalisme-intoleransi-harus-jadi-agenda-indonesia-di-dewan-ham-pbb-internasional-terkini/ because of 404 Client Error: Not Found for url: https://terkini.com/radikalisme-intoleransi-harus-jadi-agenda-indonesia-di-dewan-ham-pbb-internasional-terkini/\n",
      "2020-05-14 15:41:34,001 - DEBUG - Starting new HTTPS connection (1): www.suaramuhammadiyah.id:443\n",
      "2020-05-14 15:41:36,680 - DEBUG - https://www.suaramuhammadiyah.id:443 \"GET /2020/05/08/menjadikan-islam-indonesia-unggul/ HTTP/1.1\" 200 66503\n",
      "2020-05-14 15:41:47,292 - DEBUG - Starting new HTTPS connection (1): www.google.com.my:443\n",
      "2020-05-14 15:41:47,437 - DEBUG - https://www.google.com.my:443 \"GET /search?q=isu+yaman&source=lnt&tbs=cdr%3A1%2Ccd_min%3A2000%2Ccd_max%3A2021&tbm=nws&start=270 HTTP/1.1\" 200 None\n",
      "2020-05-14 15:41:48,306 - DEBUG - utf-8  confidence = 0.99\n",
      "2020-05-14 15:41:48,307 - DEBUG - SHIFT_JIS Japanese confidence = 0.01\n",
      "2020-05-14 15:41:48,307 - DEBUG - EUC-JP Japanese confidence = 0.01\n",
      "2020-05-14 15:41:48,308 - DEBUG - GB2312 Chinese confidence = 0.01\n",
      "2020-05-14 15:41:48,308 - DEBUG - EUC-KR Korean confidence = 0.01\n",
      "2020-05-14 15:41:48,309 - DEBUG - CP949 Korean confidence = 0.01\n",
      "2020-05-14 15:41:48,309 - DEBUG - Big5 Chinese confidence = 0.01\n",
      "2020-05-14 15:41:48,310 - DEBUG - EUC-TW Taiwan confidence = 0.01\n",
      "2020-05-14 15:41:48,310 - DEBUG - windows-1251 Russian confidence = 0.01\n",
      "2020-05-14 15:41:48,311 - DEBUG - KOI8-R Russian confidence = 0.01\n",
      "2020-05-14 15:41:48,311 - DEBUG - ISO-8859-5 Russian confidence = 0.0\n",
      "2020-05-14 15:41:48,312 - DEBUG - MacCyrillic Russian confidence = 0.0\n",
      "2020-05-14 15:41:48,312 - DEBUG - IBM866 Russian confidence = 0.0\n",
      "2020-05-14 15:41:48,313 - DEBUG - IBM855 Russian confidence = 0.01\n",
      "2020-05-14 15:41:48,313 - DEBUG - ISO-8859-7 Greek confidence = 0.0\n",
      "2020-05-14 15:41:48,313 - DEBUG - windows-1253 Greek confidence = 0.0\n",
      "2020-05-14 15:41:48,314 - DEBUG - ISO-8859-5 Bulgairan confidence = 0.0\n",
      "2020-05-14 15:41:48,314 - DEBUG - windows-1251 Bulgarian confidence = 0.0\n",
      "2020-05-14 15:41:48,315 - DEBUG - TIS-620 Thai confidence = 0.0\n",
      "2020-05-14 15:41:48,315 - DEBUG - ISO-8859-9 Turkish confidence = 0.45642020580911685\n",
      "2020-05-14 15:41:48,316 - DEBUG - windows-1255 Hebrew confidence = 0.0\n",
      "2020-05-14 15:41:48,316 - DEBUG - windows-1255 Hebrew confidence = 0.0\n",
      "2020-05-14 15:41:48,317 - DEBUG - windows-1255 Hebrew confidence = 0.0\n",
      "2020-05-14 15:41:48,317 - DEBUG - utf-8  confidence = 0.99\n",
      "2020-05-14 15:41:48,317 - DEBUG - SHIFT_JIS Japanese confidence = 0.01\n",
      "2020-05-14 15:41:48,318 - DEBUG - EUC-JP Japanese confidence = 0.01\n",
      "2020-05-14 15:41:48,319 - DEBUG - GB2312 Chinese confidence = 0.01\n",
      "2020-05-14 15:41:48,320 - DEBUG - EUC-KR Korean confidence = 0.01\n",
      "2020-05-14 15:41:48,321 - DEBUG - CP949 Korean confidence = 0.01\n",
      "2020-05-14 15:41:48,322 - DEBUG - Big5 Chinese confidence = 0.01\n",
      "2020-05-14 15:41:48,323 - DEBUG - EUC-TW Taiwan confidence = 0.01\n",
      "2020-05-14 15:41:48,376 - DEBUG - Starting new HTTPS connection (1): nusantaranews.co:443\n",
      "2020-05-14 15:41:48,499 - DEBUG - https://nusantaranews.co:443 \"GET /partai-kebebasan-belanda-akan-menggelar-lomba-karikatur-nabi-muhammad/ HTTP/1.1\" 200 25194\n",
      "2020-05-14 15:41:48,736 - DEBUG - Starting new HTTPS connection (1): www.indopress.id:443\n",
      "2020-05-14 15:41:49,180 - DEBUG - https://www.indopress.id:443 \"GET /article/internasional/banyak-jalan-menuju-tel-aviv HTTP/1.1\" 200 None\n",
      "2020-05-14 15:41:49,194 - DEBUG - Starting new HTTPS connection (1): www.indopress.id:443\n"
     ]
    },
    {
     "name": "stdout",
     "output_type": "stream",
     "text": [
      "found BM/ID article\n"
     ]
    },
    {
     "name": "stderr",
     "output_type": "stream",
     "text": [
      "2020-05-14 15:41:49,607 - DEBUG - https://www.indopress.id:443 \"GET /article/internasional/banyak-jalan-menuju-tel-aviv HTTP/1.1\" 200 None\n",
      "2020-05-14 15:41:49,620 - DEBUG - Starting new HTTPS connection (1): www.indopress.id:443\n",
      "2020-05-14 15:41:50,040 - DEBUG - https://www.indopress.id:443 \"GET /article/internasional/putra-di-tubir-mahkota HTTP/1.1\" 200 None\n",
      "2020-05-14 15:41:50,056 - DEBUG - Starting new HTTPS connection (1): www.indopress.id:443\n"
     ]
    },
    {
     "name": "stdout",
     "output_type": "stream",
     "text": [
      "found BM/ID article\n"
     ]
    },
    {
     "name": "stderr",
     "output_type": "stream",
     "text": [
      "2020-05-14 15:41:50,457 - DEBUG - https://www.indopress.id:443 \"GET /article/internasional/putra-di-tubir-mahkota HTTP/1.1\" 200 None\n",
      "2020-05-14 15:41:50,472 - DEBUG - Starting new HTTPS connection (1): www.indopress.id:443\n",
      "2020-05-14 15:41:50,881 - DEBUG - https://www.indopress.id:443 \"GET /article/internasional/aktivis-burma-repatriasi-rohingya-adalah-kejahatan HTTP/1.1\" 200 None\n",
      "2020-05-14 15:41:50,896 - DEBUG - Starting new HTTPS connection (1): www.indopress.id:443\n"
     ]
    },
    {
     "name": "stdout",
     "output_type": "stream",
     "text": [
      "found BM/ID article\n"
     ]
    },
    {
     "name": "stderr",
     "output_type": "stream",
     "text": [
      "2020-05-14 15:41:51,300 - DEBUG - https://www.indopress.id:443 \"GET /article/internasional/aktivis-burma-repatriasi-rohingya-adalah-kejahatan HTTP/1.1\" 200 None\n",
      "2020-05-14 15:42:01,318 - DEBUG - Starting new HTTPS connection (1): www.google.com.my:443\n",
      "2020-05-14 15:42:01,458 - DEBUG - https://www.google.com.my:443 \"GET /search?q=isu+yaman&source=lnt&tbs=cdr%3A1%2Ccd_min%3A2000%2Ccd_max%3A2021&tbm=nws&start=280 HTTP/1.1\" 200 None\n",
      "2020-05-14 15:42:01,655 - DEBUG - Starting new HTTPS connection (1): www.google.com.my:443\n",
      "2020-05-14 15:42:01,782 - DEBUG - https://www.google.com.my:443 \"GET /search?q=isu+arab&source=lnt&tbs=cdr%3A1%2Ccd_min%3A2000%2Ccd_max%3A2021&tbm=nws&start=0 HTTP/1.1\" 200 None\n"
     ]
    },
    {
     "name": "stdout",
     "output_type": "stream",
     "text": [
      "No more news to read for keyword isu yaman.\n",
      "crawling isu arab\n"
     ]
    },
    {
     "name": "stderr",
     "output_type": "stream",
     "text": [
      "2020-05-14 15:42:02,935 - DEBUG - utf-8  confidence = 0.99\n",
      "2020-05-14 15:42:02,936 - DEBUG - SHIFT_JIS Japanese confidence = 0.01\n",
      "2020-05-14 15:42:02,936 - DEBUG - EUC-JP Japanese confidence = 0.01\n",
      "2020-05-14 15:42:02,937 - DEBUG - GB2312 Chinese confidence = 0.01\n",
      "2020-05-14 15:42:02,937 - DEBUG - EUC-KR Korean confidence = 0.01\n",
      "2020-05-14 15:42:02,938 - DEBUG - CP949 Korean confidence = 0.01\n",
      "2020-05-14 15:42:02,939 - DEBUG - Big5 Chinese confidence = 0.01\n",
      "2020-05-14 15:42:02,939 - DEBUG - EUC-TW Taiwan confidence = 0.01\n",
      "2020-05-14 15:42:02,940 - DEBUG - windows-1251 Russian confidence = 0.01\n",
      "2020-05-14 15:42:02,940 - DEBUG - KOI8-R Russian confidence = 0.01\n",
      "2020-05-14 15:42:02,941 - DEBUG - ISO-8859-5 Russian confidence = 0.01\n",
      "2020-05-14 15:42:02,941 - DEBUG - MacCyrillic Russian confidence = 0.0\n",
      "2020-05-14 15:42:02,942 - DEBUG - IBM866 Russian confidence = 0.0\n",
      "2020-05-14 15:42:02,943 - DEBUG - IBM855 Russian confidence = 0.01\n",
      "2020-05-14 15:42:02,943 - DEBUG - ISO-8859-7 Greek confidence = 0.0\n",
      "2020-05-14 15:42:02,944 - DEBUG - windows-1253 Greek confidence = 0.0\n",
      "2020-05-14 15:42:02,945 - DEBUG - ISO-8859-5 Bulgairan confidence = 0.01\n",
      "2020-05-14 15:42:02,945 - DEBUG - windows-1251 Bulgarian confidence = 0.01\n",
      "2020-05-14 15:42:02,946 - DEBUG - TIS-620 Thai confidence = 0.01\n",
      "2020-05-14 15:42:02,946 - DEBUG - ISO-8859-9 Turkish confidence = 0.4176483769903641\n",
      "2020-05-14 15:42:02,947 - DEBUG - windows-1255 Hebrew confidence = 0.0\n",
      "2020-05-14 15:42:02,947 - DEBUG - windows-1255 Hebrew confidence = 0.0\n",
      "2020-05-14 15:42:02,948 - DEBUG - windows-1255 Hebrew confidence = 0.0\n",
      "2020-05-14 15:42:02,948 - DEBUG - utf-8  confidence = 0.99\n",
      "2020-05-14 15:42:02,949 - DEBUG - SHIFT_JIS Japanese confidence = 0.01\n",
      "2020-05-14 15:42:02,949 - DEBUG - EUC-JP Japanese confidence = 0.01\n",
      "2020-05-14 15:42:02,950 - DEBUG - GB2312 Chinese confidence = 0.01\n",
      "2020-05-14 15:42:02,950 - DEBUG - EUC-KR Korean confidence = 0.01\n",
      "2020-05-14 15:42:02,950 - DEBUG - CP949 Korean confidence = 0.01\n",
      "2020-05-14 15:42:02,951 - DEBUG - Big5 Chinese confidence = 0.01\n",
      "2020-05-14 15:42:02,951 - DEBUG - EUC-TW Taiwan confidence = 0.01\n",
      "2020-05-14 15:42:02,997 - DEBUG - Starting new HTTPS connection (1): www.bharian.com.my:443\n",
      "2020-05-14 15:42:05,556 - DEBUG - https://www.bharian.com.my:443 \"GET /berita/nasional/2020/04/672495/covid-19-malaysia-arab-saudi-bincang-isu-haji-tahun-ini HTTP/1.1\" 200 None\n",
      "2020-05-14 15:42:05,697 - DEBUG - Starting new HTTPS connection (1): www.bharian.com.my:443\n",
      "2020-05-14 15:42:05,778 - DEBUG - https://www.bharian.com.my:443 \"GET /berita/nasional/2020/04/672495/covid-19-malaysia-arab-saudi-bincang-isu-haji-tahun-ini HTTP/1.1\" 200 None\n"
     ]
    },
    {
     "name": "stdout",
     "output_type": "stream",
     "text": [
      "found BM/ID article\n"
     ]
    },
    {
     "name": "stderr",
     "output_type": "stream",
     "text": [
      "2020-05-14 15:42:05,925 - DEBUG - Starting new HTTPS connection (1): www.sinarharian.com.my:443\n",
      "2020-05-14 15:42:06,665 - DEBUG - https://www.sinarharian.com.my:443 \"GET /article/30582/BERITA/Nasional/Tangani-keselamatan-tanah-Arab HTTP/1.1\" 200 None\n",
      "2020-05-14 15:42:06,847 - DEBUG - Starting new HTTPS connection (1): www.bharian.com.my:443\n",
      "2020-05-14 15:42:08,318 - DEBUG - https://www.bharian.com.my:443 \"GET /berita/nasional/2020/02/660100/15000-jemaah-malaysia-bakal-terkesan-visa-umrah-digantung HTTP/1.1\" 200 None\n",
      "2020-05-14 15:42:08,467 - DEBUG - Starting new HTTPS connection (1): www.bharian.com.my:443\n",
      "2020-05-14 15:42:08,606 - DEBUG - https://www.bharian.com.my:443 \"GET /berita/nasional/2020/02/660100/15000-jemaah-malaysia-bakal-terkesan-visa-umrah-digantung HTTP/1.1\" 200 None\n"
     ]
    },
    {
     "name": "stdout",
     "output_type": "stream",
     "text": [
      "found BM/ID article\n"
     ]
    },
    {
     "name": "stderr",
     "output_type": "stream",
     "text": [
      "2020-05-14 15:42:08,758 - DEBUG - Starting new HTTPS connection (1): www.malaysiakini.com:443\n",
      "2020-05-14 15:42:09,045 - DEBUG - https://www.malaysiakini.com:443 \"GET /news/510360 HTTP/1.1\" 200 None\n",
      "2020-05-14 15:42:09,170 - DEBUG - Starting new HTTPS connection (1): www.malaysiakini.com:443\n",
      "2020-05-14 15:42:09,253 - DEBUG - https://www.malaysiakini.com:443 \"GET /news/510360 HTTP/1.1\" 200 None\n"
     ]
    },
    {
     "name": "stdout",
     "output_type": "stream",
     "text": [
      "found BM/ID article\n"
     ]
    },
    {
     "name": "stderr",
     "output_type": "stream",
     "text": [
      "2020-05-14 15:42:09,408 - DEBUG - Starting new HTTPS connection (1): www.bharian.com.my:443\n",
      "2020-05-14 15:42:10,211 - DEBUG - https://www.bharian.com.my:443 \"GET /berita/nasional/2020/01/648846/malaysia-arab-saudi-bincang-hal-ehwal-jemaah-haji HTTP/1.1\" 200 None\n",
      "2020-05-14 15:42:10,353 - DEBUG - Starting new HTTPS connection (1): www.bharian.com.my:443\n",
      "2020-05-14 15:42:10,434 - DEBUG - https://www.bharian.com.my:443 \"GET /berita/nasional/2020/01/648846/malaysia-arab-saudi-bincang-hal-ehwal-jemaah-haji HTTP/1.1\" 200 None\n"
     ]
    },
    {
     "name": "stdout",
     "output_type": "stream",
     "text": [
      "found BM/ID article\n"
     ]
    },
    {
     "name": "stderr",
     "output_type": "stream",
     "text": [
      "2020-05-14 15:42:10,575 - DEBUG - Starting new HTTPS connection (1): www.malaysiakini.com:443\n",
      "2020-05-14 15:42:10,906 - DEBUG - https://www.malaysiakini.com:443 \"GET /news/492027 HTTP/1.1\" 200 None\n",
      "2020-05-14 15:42:11,003 - DEBUG - Starting new HTTPS connection (1): www.malaysiakini.com:443\n"
     ]
    },
    {
     "name": "stdout",
     "output_type": "stream",
     "text": [
      "found BM/ID article\n"
     ]
    },
    {
     "name": "stderr",
     "output_type": "stream",
     "text": [
      "2020-05-14 15:42:11,285 - DEBUG - https://www.malaysiakini.com:443 \"GET /news/492027 HTTP/1.1\" 200 None\n",
      "2020-05-14 15:42:11,413 - DEBUG - Starting new HTTP connection (1): www.astroawani.com:80\n",
      "2020-05-14 15:42:13,393 - DEBUG - http://www.astroawani.com:80 \"GET /berita-malaysia/kenyataan-tidak-berasas-isu-kuota-haji-boleh-jejas-hubungan-malaysia-arab-saudi-206941 HTTP/1.1\" 200 17430\n",
      "2020-05-14 15:42:13,512 - DEBUG - Starting new HTTP connection (1): www.astroawani.com:80\n",
      "2020-05-14 15:42:14,750 - DEBUG - http://www.astroawani.com:80 \"GET /berita-malaysia/isu-pembunuhan-khashoggi-hubungan-malaysia-arab-saudi-kekal-kukuh-188875 HTTP/1.1\" 200 14879\n",
      "2020-05-14 15:42:14,909 - DEBUG - Starting new HTTPS connection (1): www.bharian.com.my:443\n",
      "2020-05-14 15:42:15,703 - DEBUG - https://www.bharian.com.my:443 \"GET /berita/nasional/2018/10/490847/najib-pertahan-rm26-bilion-dari-arab-saudi HTTP/1.1\" 200 None\n",
      "2020-05-14 15:42:15,954 - DEBUG - Starting new HTTPS connection (1): www.bharian.com.my:443\n",
      "2020-05-14 15:42:16,144 - DEBUG - https://www.bharian.com.my:443 \"GET /berita/nasional/2018/10/490847/najib-pertahan-rm26-bilion-dari-arab-saudi HTTP/1.1\" 200 None\n"
     ]
    },
    {
     "name": "stdout",
     "output_type": "stream",
     "text": [
      "found BM/ID article\n"
     ]
    },
    {
     "name": "stderr",
     "output_type": "stream",
     "text": [
      "2020-05-14 15:42:16,327 - DEBUG - Starting new HTTPS connection (1): www.bharian.com.my:443\n",
      "2020-05-14 15:42:17,599 - DEBUG - https://www.bharian.com.my:443 \"GET /berita/nasional/2018/06/442628/tentera-malaysia-di-arab-saudi-akan-dibawa-pulang HTTP/1.1\" 200 None\n",
      "2020-05-14 15:42:17,743 - DEBUG - Starting new HTTPS connection (1): www.bharian.com.my:443\n",
      "2020-05-14 15:42:17,831 - DEBUG - https://www.bharian.com.my:443 \"GET /berita/nasional/2018/06/442628/tentera-malaysia-di-arab-saudi-akan-dibawa-pulang HTTP/1.1\" 200 None\n"
     ]
    },
    {
     "name": "stdout",
     "output_type": "stream",
     "text": [
      "found BM/ID article\n"
     ]
    },
    {
     "name": "stderr",
     "output_type": "stream",
     "text": [
      "2020-05-14 15:42:27,989 - DEBUG - Starting new HTTPS connection (1): www.google.com.my:443\n",
      "2020-05-14 15:42:28,111 - DEBUG - https://www.google.com.my:443 \"GET /search?q=isu+arab&source=lnt&tbs=cdr%3A1%2Ccd_min%3A2000%2Ccd_max%3A2021&tbm=nws&start=10 HTTP/1.1\" 200 None\n",
      "2020-05-14 15:42:29,399 - DEBUG - utf-8  confidence = 0.99\n",
      "2020-05-14 15:42:29,400 - DEBUG - SHIFT_JIS Japanese confidence = 0.01\n",
      "2020-05-14 15:42:29,400 - DEBUG - EUC-JP Japanese confidence = 0.01\n",
      "2020-05-14 15:42:29,401 - DEBUG - GB2312 Chinese confidence = 0.01\n",
      "2020-05-14 15:42:29,401 - DEBUG - EUC-KR Korean confidence = 0.01\n",
      "2020-05-14 15:42:29,402 - DEBUG - CP949 Korean confidence = 0.01\n",
      "2020-05-14 15:42:29,402 - DEBUG - Big5 Chinese confidence = 0.01\n",
      "2020-05-14 15:42:29,403 - DEBUG - EUC-TW Taiwan confidence = 0.01\n",
      "2020-05-14 15:42:29,403 - DEBUG - windows-1251 Russian confidence = 0.01\n",
      "2020-05-14 15:42:29,404 - DEBUG - KOI8-R Russian confidence = 0.01\n",
      "2020-05-14 15:42:29,404 - DEBUG - ISO-8859-5 Russian confidence = 0.01\n",
      "2020-05-14 15:42:29,405 - DEBUG - MacCyrillic Russian confidence = 0.0\n",
      "2020-05-14 15:42:29,405 - DEBUG - IBM866 Russian confidence = 0.0\n",
      "2020-05-14 15:42:29,406 - DEBUG - IBM855 Russian confidence = 0.01\n",
      "2020-05-14 15:42:29,406 - DEBUG - ISO-8859-7 Greek confidence = 0.0\n",
      "2020-05-14 15:42:29,406 - DEBUG - windows-1253 Greek confidence = 0.0\n",
      "2020-05-14 15:42:29,407 - DEBUG - ISO-8859-5 Bulgairan confidence = 0.01\n",
      "2020-05-14 15:42:29,407 - DEBUG - windows-1251 Bulgarian confidence = 0.01\n",
      "2020-05-14 15:42:29,408 - DEBUG - TIS-620 Thai confidence = 0.01\n",
      "2020-05-14 15:42:29,408 - DEBUG - ISO-8859-9 Turkish confidence = 0.4089775780267977\n",
      "2020-05-14 15:42:29,409 - DEBUG - windows-1255 Hebrew confidence = 0.0\n",
      "2020-05-14 15:42:29,409 - DEBUG - windows-1255 Hebrew confidence = 0.0\n",
      "2020-05-14 15:42:29,410 - DEBUG - windows-1255 Hebrew confidence = 0.0\n",
      "2020-05-14 15:42:29,410 - DEBUG - utf-8  confidence = 0.99\n",
      "2020-05-14 15:42:29,411 - DEBUG - SHIFT_JIS Japanese confidence = 0.01\n",
      "2020-05-14 15:42:29,412 - DEBUG - EUC-JP Japanese confidence = 0.01\n",
      "2020-05-14 15:42:29,413 - DEBUG - GB2312 Chinese confidence = 0.01\n",
      "2020-05-14 15:42:29,413 - DEBUG - EUC-KR Korean confidence = 0.01\n",
      "2020-05-14 15:42:29,414 - DEBUG - CP949 Korean confidence = 0.01\n",
      "2020-05-14 15:42:29,414 - DEBUG - Big5 Chinese confidence = 0.01\n",
      "2020-05-14 15:42:29,415 - DEBUG - EUC-TW Taiwan confidence = 0.01\n",
      "2020-05-14 15:42:29,765 - DEBUG - Starting new HTTP connection (1): www.astroawani.com:80\n",
      "2020-05-14 15:42:31,003 - DEBUG - http://www.astroawani.com:80 \"GET /berita-malaysia/jho-low-urus-derma-bagi-pihak-keluarga-diraja-arab-saudi-najib-224462 HTTP/1.1\" 200 17471\n",
      "2020-05-14 15:42:31,136 - DEBUG - Starting new HTTPS connection (1): www.malaysiakini.com:443\n",
      "2020-05-14 15:42:31,352 - DEBUG - https://www.malaysiakini.com:443 \"GET /news/506077 HTTP/1.1\" 200 None\n",
      "2020-05-14 15:42:31,456 - DEBUG - Starting new HTTPS connection (1): www.malaysiakini.com:443\n",
      "2020-05-14 15:42:31,543 - DEBUG - https://www.malaysiakini.com:443 \"GET /news/506077 HTTP/1.1\" 200 None\n",
      "2020-05-14 15:42:31,654 - DEBUG - Starting new HTTP connection (1): www.astroawani.com:80\n"
     ]
    },
    {
     "name": "stdout",
     "output_type": "stream",
     "text": [
      "found BM/ID article\n"
     ]
    },
    {
     "name": "stderr",
     "output_type": "stream",
     "text": [
      "2020-05-14 15:42:32,995 - DEBUG - http://www.astroawani.com:80 \"GET /berita-dunia/harga-minyak-mentah-jatuh-30-peratus-232969 HTTP/1.1\" 200 17451\n",
      "2020-05-14 15:42:33,116 - DEBUG - Starting new HTTP connection (1): www.astroawani.com:80\n",
      "2020-05-14 15:42:34,666 - DEBUG - http://www.astroawani.com:80 \"GET /berita-malaysia/zamihan-dinasihat-berhenti-sensasikan-keadaan-isu-arab-saudi-nur-jazlan-160206 HTTP/1.1\" 200 17112\n",
      "2020-05-14 15:42:34,803 - DEBUG - Starting new HTTPS connection (1): www.bharian.com.my:443\n",
      "2020-05-14 15:42:35,660 - DEBUG - https://www.bharian.com.my:443 \"GET /berita/nasional/2018/12/505031/patriot-gesa-penjelasan-bekas-menteri-pertahanan-isu-ops-yaman-2 HTTP/1.1\" 200 None\n",
      "2020-05-14 15:42:35,806 - DEBUG - Starting new HTTPS connection (1): www.bharian.com.my:443\n",
      "2020-05-14 15:42:35,913 - DEBUG - https://www.bharian.com.my:443 \"GET /berita/nasional/2018/12/505031/patriot-gesa-penjelasan-bekas-menteri-pertahanan-isu-ops-yaman-2 HTTP/1.1\" 200 None\n"
     ]
    },
    {
     "name": "stdout",
     "output_type": "stream",
     "text": [
      "found BM/ID article\n"
     ]
    },
    {
     "name": "stderr",
     "output_type": "stream",
     "text": [
      "2020-05-14 15:42:36,067 - DEBUG - Starting new HTTPS connection (1): www.bharian.com.my:443\n",
      "2020-05-14 15:42:36,786 - DEBUG - https://www.bharian.com.my:443 \"GET /dunia/eropah/2019/07/584309/arab-saudi-antara-37-negara-sokong-dasar-china-di-xinjiang HTTP/1.1\" 200 None\n",
      "2020-05-14 15:42:36,925 - DEBUG - Starting new HTTPS connection (1): www.bharian.com.my:443\n",
      "2020-05-14 15:42:37,016 - DEBUG - https://www.bharian.com.my:443 \"GET /dunia/eropah/2019/07/584309/arab-saudi-antara-37-negara-sokong-dasar-china-di-xinjiang HTTP/1.1\" 200 None\n"
     ]
    },
    {
     "name": "stdout",
     "output_type": "stream",
     "text": [
      "found BM/ID article\n"
     ]
    },
    {
     "name": "stderr",
     "output_type": "stream",
     "text": [
      "2020-05-14 15:42:37,156 - DEBUG - Starting new HTTPS connection (1): www.bharian.com.my:443\n",
      "2020-05-14 15:42:38,017 - DEBUG - https://www.bharian.com.my:443 \"GET /dunia/asia/2020/03/662781/arab-saudi-dilaporkan-tahan-3-ahli-keluarga-diraja HTTP/1.1\" 200 None\n",
      "2020-05-14 15:42:38,158 - DEBUG - Starting new HTTPS connection (1): www.bharian.com.my:443\n",
      "2020-05-14 15:42:38,240 - DEBUG - https://www.bharian.com.my:443 \"GET /dunia/asia/2020/03/662781/arab-saudi-dilaporkan-tahan-3-ahli-keluarga-diraja HTTP/1.1\" 200 None\n"
     ]
    },
    {
     "name": "stdout",
     "output_type": "stream",
     "text": [
      "found BM/ID article\n"
     ]
    },
    {
     "name": "stderr",
     "output_type": "stream",
     "text": [
      "2020-05-14 15:42:38,395 - DEBUG - Starting new HTTPS connection (1): www.bharian.com.my:443\n",
      "2020-05-14 15:42:39,072 - DEBUG - https://www.bharian.com.my:443 \"GET /berita/nasional/2020/04/674575/covid-19-penangguhan-haji-tahun-ini-belum-pasti HTTP/1.1\" 200 None\n",
      "2020-05-14 15:42:39,221 - DEBUG - Starting new HTTPS connection (1): www.bharian.com.my:443\n",
      "2020-05-14 15:42:39,302 - DEBUG - https://www.bharian.com.my:443 \"GET /berita/nasional/2020/04/674575/covid-19-penangguhan-haji-tahun-ini-belum-pasti HTTP/1.1\" 200 None\n"
     ]
    },
    {
     "name": "stdout",
     "output_type": "stream",
     "text": [
      "found BM/ID article\n"
     ]
    },
    {
     "name": "stderr",
     "output_type": "stream",
     "text": [
      "2020-05-14 15:42:39,459 - DEBUG - Starting new HTTPS connection (1): www.malaysiakini.com:443\n",
      "2020-05-14 15:42:39,689 - DEBUG - https://www.malaysiakini.com:443 \"GET /news/407817 HTTP/1.1\" 200 None\n",
      "2020-05-14 15:42:39,786 - DEBUG - Starting new HTTPS connection (1): www.malaysiakini.com:443\n",
      "2020-05-14 15:42:39,872 - DEBUG - https://www.malaysiakini.com:443 \"GET /news/407817 HTTP/1.1\" 200 None\n",
      "2020-05-14 15:42:39,967 - DEBUG - Starting new HTTPS connection (1): www.bharian.com.my:443\n"
     ]
    },
    {
     "name": "stdout",
     "output_type": "stream",
     "text": [
      "found BM/ID article\n"
     ]
    },
    {
     "name": "stderr",
     "output_type": "stream",
     "text": [
      "2020-05-14 15:42:40,680 - DEBUG - https://www.bharian.com.my:443 \"GET /dunia/asia/2017/09/323141/qatar-putar-belit-fakta-arab-saudi HTTP/1.1\" 200 None\n",
      "2020-05-14 15:42:40,825 - DEBUG - Starting new HTTPS connection (1): www.bharian.com.my:443\n",
      "2020-05-14 15:42:40,909 - DEBUG - https://www.bharian.com.my:443 \"GET /dunia/asia/2017/09/323141/qatar-putar-belit-fakta-arab-saudi HTTP/1.1\" 200 None\n"
     ]
    },
    {
     "name": "stdout",
     "output_type": "stream",
     "text": [
      "found BM/ID article\n"
     ]
    },
    {
     "name": "stderr",
     "output_type": "stream",
     "text": [
      "2020-05-14 15:42:51,061 - DEBUG - Starting new HTTPS connection (1): www.google.com.my:443\n",
      "2020-05-14 15:42:51,173 - DEBUG - https://www.google.com.my:443 \"GET /search?q=isu+arab&source=lnt&tbs=cdr%3A1%2Ccd_min%3A2000%2Ccd_max%3A2021&tbm=nws&start=20 HTTP/1.1\" 200 None\n",
      "2020-05-14 15:42:52,382 - DEBUG - utf-8  confidence = 0.99\n",
      "2020-05-14 15:42:52,383 - DEBUG - SHIFT_JIS Japanese confidence = 0.01\n",
      "2020-05-14 15:42:52,383 - DEBUG - EUC-JP Japanese confidence = 0.01\n",
      "2020-05-14 15:42:52,384 - DEBUG - GB2312 Chinese confidence = 0.01\n",
      "2020-05-14 15:42:52,384 - DEBUG - EUC-KR Korean confidence = 0.01\n",
      "2020-05-14 15:42:52,385 - DEBUG - CP949 Korean confidence = 0.01\n",
      "2020-05-14 15:42:52,386 - DEBUG - Big5 Chinese confidence = 0.01\n",
      "2020-05-14 15:42:52,387 - DEBUG - EUC-TW Taiwan confidence = 0.01\n",
      "2020-05-14 15:42:52,388 - DEBUG - windows-1251 Russian confidence = 0.01\n",
      "2020-05-14 15:42:52,388 - DEBUG - KOI8-R Russian confidence = 0.01\n",
      "2020-05-14 15:42:52,389 - DEBUG - ISO-8859-5 Russian confidence = 0.01\n",
      "2020-05-14 15:42:52,389 - DEBUG - MacCyrillic Russian confidence = 0.0\n",
      "2020-05-14 15:42:52,390 - DEBUG - IBM866 Russian confidence = 0.0\n",
      "2020-05-14 15:42:52,390 - DEBUG - IBM855 Russian confidence = 0.01\n",
      "2020-05-14 15:42:52,391 - DEBUG - ISO-8859-7 Greek confidence = 0.01\n",
      "2020-05-14 15:42:52,391 - DEBUG - windows-1253 Greek confidence = 0.01\n",
      "2020-05-14 15:42:52,392 - DEBUG - ISO-8859-5 Bulgairan confidence = 0.01\n",
      "2020-05-14 15:42:52,392 - DEBUG - windows-1251 Bulgarian confidence = 0.01\n",
      "2020-05-14 15:42:52,392 - DEBUG - TIS-620 Thai confidence = 0.01\n",
      "2020-05-14 15:42:52,393 - DEBUG - ISO-8859-9 Turkish confidence = 0.41324494259197625\n",
      "2020-05-14 15:42:52,393 - DEBUG - windows-1255 Hebrew confidence = 0.0\n",
      "2020-05-14 15:42:52,394 - DEBUG - windows-1255 Hebrew confidence = 0.0\n",
      "2020-05-14 15:42:52,394 - DEBUG - windows-1255 Hebrew confidence = 0.0\n",
      "2020-05-14 15:42:52,395 - DEBUG - utf-8  confidence = 0.99\n",
      "2020-05-14 15:42:52,396 - DEBUG - SHIFT_JIS Japanese confidence = 0.01\n",
      "2020-05-14 15:42:52,396 - DEBUG - EUC-JP Japanese confidence = 0.01\n",
      "2020-05-14 15:42:52,397 - DEBUG - GB2312 Chinese confidence = 0.01\n",
      "2020-05-14 15:42:52,397 - DEBUG - EUC-KR Korean confidence = 0.01\n",
      "2020-05-14 15:42:52,398 - DEBUG - CP949 Korean confidence = 0.01\n",
      "2020-05-14 15:42:52,398 - DEBUG - Big5 Chinese confidence = 0.01\n",
      "2020-05-14 15:42:52,399 - DEBUG - EUC-TW Taiwan confidence = 0.01\n",
      "2020-05-14 15:42:52,435 - DEBUG - Starting new HTTPS connection (1): www.malaysiakini.com:443\n",
      "2020-05-14 15:42:52,719 - DEBUG - https://www.malaysiakini.com:443 \"GET /news/470400 HTTP/1.1\" 200 None\n",
      "2020-05-14 15:42:52,818 - DEBUG - Starting new HTTPS connection (1): www.malaysiakini.com:443\n",
      "2020-05-14 15:42:52,894 - DEBUG - https://www.malaysiakini.com:443 \"GET /news/470400 HTTP/1.1\" 200 None\n"
     ]
    },
    {
     "name": "stdout",
     "output_type": "stream",
     "text": [
      "found BM/ID article\n"
     ]
    },
    {
     "name": "stderr",
     "output_type": "stream",
     "text": [
      "2020-05-14 15:42:53,022 - DEBUG - Starting new HTTPS connection (1): www.sinarharian.com.my:443\n",
      "2020-05-14 15:42:53,786 - DEBUG - https://www.sinarharian.com.my:443 \"GET /article/59220/GLOBAL/Liga-Arab-kecam-keputusan-AS-sokong-penempatan-haram-Yahudi HTTP/1.1\" 200 None\n",
      "2020-05-14 15:42:53,929 - DEBUG - Starting new HTTPS connection (1): www.bharian.com.my:443\n",
      "2020-05-14 15:42:55,833 - DEBUG - https://www.bharian.com.my:443 \"GET /berita/nasional/2020/03/662344/arab-saudi-kuat-kuasa-larangan-umrah-ziarah-masjid-nabawi-sejak HTTP/1.1\" 200 None\n",
      "2020-05-14 15:42:55,979 - DEBUG - Starting new HTTPS connection (1): www.bharian.com.my:443\n",
      "2020-05-14 15:42:56,054 - DEBUG - https://www.bharian.com.my:443 \"GET /berita/nasional/2020/03/662344/arab-saudi-kuat-kuasa-larangan-umrah-ziarah-masjid-nabawi-sejak HTTP/1.1\" 200 None\n"
     ]
    },
    {
     "name": "stdout",
     "output_type": "stream",
     "text": [
      "found BM/ID article\n"
     ]
    },
    {
     "name": "stderr",
     "output_type": "stream",
     "text": [
      "2020-05-14 15:42:56,237 - DEBUG - Starting new HTTPS connection (1): www.pikiran-rakyat.com:443\n",
      "2020-05-14 15:42:56,479 - DEBUG - https://www.pikiran-rakyat.com:443 \"GET /internasional/pr-01348221/isu-berebut-kekuasaan-arab-saudi-mencuat-mbs-tangkap-dua-anggota-senior-kerajaan-termasuk-adik-raja-salman HTTP/1.1\" 200 None\n",
      "2020-05-14 15:42:56,666 - DEBUG - Starting new HTTPS connection (1): www.bharian.com.my:443\n",
      "2020-05-14 15:42:57,398 - DEBUG - https://www.bharian.com.my:443 \"GET /berita/nasional/2017/12/361315/denda-penjara-jika-jual-air-zam-zam HTTP/1.1\" 200 None\n",
      "2020-05-14 15:42:57,544 - DEBUG - Starting new HTTPS connection (1): www.bharian.com.my:443\n",
      "2020-05-14 15:42:57,618 - DEBUG - https://www.bharian.com.my:443 \"GET /berita/nasional/2017/12/361315/denda-penjara-jika-jual-air-zam-zam HTTP/1.1\" 200 None\n"
     ]
    },
    {
     "name": "stdout",
     "output_type": "stream",
     "text": [
      "found BM/ID article\n"
     ]
    },
    {
     "name": "stderr",
     "output_type": "stream",
     "text": [
      "2020-05-14 15:42:57,765 - DEBUG - Starting new HTTPS connection (1): www.malaysiakini.com:443\n",
      "2020-05-14 15:42:58,027 - DEBUG - https://www.malaysiakini.com:443 \"GET /news/505582 HTTP/1.1\" 200 None\n",
      "2020-05-14 15:42:58,134 - DEBUG - Starting new HTTPS connection (1): www.malaysiakini.com:443\n",
      "2020-05-14 15:42:58,223 - DEBUG - https://www.malaysiakini.com:443 \"GET /news/505582 HTTP/1.1\" 200 None\n"
     ]
    },
    {
     "name": "stdout",
     "output_type": "stream",
     "text": [
      "found BM/ID article\n"
     ]
    },
    {
     "name": "stderr",
     "output_type": "stream",
     "text": [
      "2020-05-14 15:42:58,353 - DEBUG - Starting new HTTPS connection (1): www.bharian.com.my:443\n",
      "2020-05-14 15:42:59,418 - DEBUG - https://www.bharian.com.my:443 \"GET /berita/nasional/2020/01/647488/arab-saudi-malaysia-bekerjasama-perangi-islamofobia HTTP/1.1\" 200 None\n",
      "2020-05-14 15:42:59,554 - DEBUG - Starting new HTTPS connection (1): www.bharian.com.my:443\n",
      "2020-05-14 15:42:59,639 - DEBUG - https://www.bharian.com.my:443 \"GET /berita/nasional/2020/01/647488/arab-saudi-malaysia-bekerjasama-perangi-islamofobia HTTP/1.1\" 200 None\n"
     ]
    },
    {
     "name": "stdout",
     "output_type": "stream",
     "text": [
      "found BM/ID article\n"
     ]
    },
    {
     "name": "stderr",
     "output_type": "stream",
     "text": [
      "2020-05-14 15:42:59,799 - DEBUG - Starting new HTTPS connection (1): www.hmetro.com.my:443\n",
      "2020-05-14 15:43:00,750 - DEBUG - https://www.hmetro.com.my:443 \"GET /global/2019/07/473976/nicki-minaj-batal-persembahan-di-arab-saudi HTTP/1.1\" 200 None\n",
      "2020-05-14 15:43:00,870 - DEBUG - Starting new HTTPS connection (1): www.hmetro.com.my:443\n",
      "2020-05-14 15:43:00,942 - DEBUG - https://www.hmetro.com.my:443 \"GET /global/2019/07/473976/nicki-minaj-batal-persembahan-di-arab-saudi HTTP/1.1\" 200 None\n"
     ]
    },
    {
     "name": "stdout",
     "output_type": "stream",
     "text": [
      "found BM/ID article\n"
     ]
    },
    {
     "name": "stderr",
     "output_type": "stream",
     "text": [
      "2020-05-14 15:43:01,085 - DEBUG - Starting new HTTP connection (1): www.astroawani.com:80\n",
      "2020-05-14 15:43:02,389 - DEBUG - http://www.astroawani.com:80 \"GET /berita-malaysia/mapim-ajak-ulama-bantah-festival-dunia-jeddah-212636 HTTP/1.1\" 200 15252\n",
      "2020-05-14 15:43:02,504 - DEBUG - Starting new HTTP connection (1): www.astroawani.com:80\n",
      "2020-05-14 15:43:02,678 - DEBUG - http://www.astroawani.com:80 \"GET /berita-malaysia/mapim-ajak-ulama-bantah-festival-dunia-jeddah-212636 HTTP/1.1\" 200 15252\n"
     ]
    },
    {
     "name": "stdout",
     "output_type": "stream",
     "text": [
      "found BM/ID article\n"
     ]
    },
    {
     "name": "stderr",
     "output_type": "stream",
     "text": [
      "2020-05-14 15:43:02,795 - DEBUG - Starting new HTTPS connection (1): www.sinarharian.com.my:443\n",
      "2020-05-14 15:43:03,719 - DEBUG - https://www.sinarharian.com.my:443 \"GET /article/56558/PRU/PRK-Tanjung-Piai/Gerakan-minta-penjelasan-pertukaran-guru-dari-Arab-Saudi HTTP/1.1\" 200 None\n",
      "2020-05-14 15:43:13,842 - DEBUG - Starting new HTTPS connection (1): www.google.com.my:443\n",
      "2020-05-14 15:43:13,970 - DEBUG - https://www.google.com.my:443 \"GET /search?q=isu+arab&source=lnt&tbs=cdr%3A1%2Ccd_min%3A2000%2Ccd_max%3A2021&tbm=nws&start=30 HTTP/1.1\" 200 None\n",
      "2020-05-14 15:43:15,119 - DEBUG - utf-8  confidence = 0.99\n",
      "2020-05-14 15:43:15,120 - DEBUG - SHIFT_JIS Japanese confidence = 0.01\n",
      "2020-05-14 15:43:15,121 - DEBUG - EUC-JP Japanese confidence = 0.01\n",
      "2020-05-14 15:43:15,121 - DEBUG - GB2312 Chinese confidence = 0.01\n",
      "2020-05-14 15:43:15,122 - DEBUG - EUC-KR Korean confidence = 0.01\n",
      "2020-05-14 15:43:15,123 - DEBUG - CP949 Korean confidence = 0.01\n",
      "2020-05-14 15:43:15,123 - DEBUG - Big5 Chinese confidence = 0.01\n",
      "2020-05-14 15:43:15,124 - DEBUG - EUC-TW Taiwan confidence = 0.01\n",
      "2020-05-14 15:43:15,124 - DEBUG - windows-1251 Russian confidence = 0.01\n",
      "2020-05-14 15:43:15,125 - DEBUG - KOI8-R Russian confidence = 0.01\n",
      "2020-05-14 15:43:15,126 - DEBUG - ISO-8859-5 Russian confidence = 0.01\n",
      "2020-05-14 15:43:15,126 - DEBUG - MacCyrillic Russian confidence = 0.01\n",
      "2020-05-14 15:43:15,127 - DEBUG - IBM866 Russian confidence = 0.01\n",
      "2020-05-14 15:43:15,127 - DEBUG - IBM855 Russian confidence = 0.01\n",
      "2020-05-14 15:43:15,128 - DEBUG - ISO-8859-7 Greek confidence = 0.0\n",
      "2020-05-14 15:43:15,128 - DEBUG - windows-1253 Greek confidence = 0.0\n",
      "2020-05-14 15:43:15,129 - DEBUG - ISO-8859-5 Bulgairan confidence = 0.01\n",
      "2020-05-14 15:43:15,130 - DEBUG - windows-1251 Bulgarian confidence = 0.01\n",
      "2020-05-14 15:43:15,130 - DEBUG - TIS-620 Thai confidence = 0.01\n",
      "2020-05-14 15:43:15,131 - DEBUG - ISO-8859-9 Turkish confidence = 0.412576453405289\n",
      "2020-05-14 15:43:15,132 - DEBUG - windows-1255 Hebrew confidence = 0.0\n",
      "2020-05-14 15:43:15,132 - DEBUG - windows-1255 Hebrew confidence = 0.0\n",
      "2020-05-14 15:43:15,133 - DEBUG - windows-1255 Hebrew confidence = 0.0\n",
      "2020-05-14 15:43:15,134 - DEBUG - utf-8  confidence = 0.99\n",
      "2020-05-14 15:43:15,134 - DEBUG - SHIFT_JIS Japanese confidence = 0.01\n",
      "2020-05-14 15:43:15,135 - DEBUG - EUC-JP Japanese confidence = 0.01\n",
      "2020-05-14 15:43:15,136 - DEBUG - GB2312 Chinese confidence = 0.01\n",
      "2020-05-14 15:43:15,136 - DEBUG - EUC-KR Korean confidence = 0.01\n",
      "2020-05-14 15:43:15,137 - DEBUG - CP949 Korean confidence = 0.01\n",
      "2020-05-14 15:43:15,137 - DEBUG - Big5 Chinese confidence = 0.01\n",
      "2020-05-14 15:43:15,138 - DEBUG - EUC-TW Taiwan confidence = 0.01\n",
      "2020-05-14 15:43:15,172 - DEBUG - Starting new HTTPS connection (1): www.sinarharian.com.my:443\n",
      "2020-05-14 15:43:15,905 - DEBUG - https://www.sinarharian.com.my:443 \"GET /article/35843/BERITA/Nasional/Isu-kuota-haji-Malaysia-dijangka-terima-berita-baik HTTP/1.1\" 200 None\n",
      "2020-05-14 15:43:16,057 - DEBUG - Starting new HTTPS connection (1): beritagar.id:443\n",
      "2020-05-14 15:43:16,949 - DEBUG - https://beritagar.id:443 \"GET /artikel/berita/isu-senjata-kimia-arab-saudi-di-balik-kematian-khashoggi HTTP/1.1\" 200 None\n",
      "2020-05-14 15:43:16,983 - DEBUG - Starting new HTTPS connection (1): storage.googleapis.com:443\n",
      "2020-05-14 15:43:17,058 - DEBUG - https://storage.googleapis.com:443 \"GET /ddos-shield.appspot.com/shield-logo-mono-darktext.svg HTTP/1.1\" 200 16999\n",
      "2020-05-14 15:43:17,074 - DEBUG - Starting new HTTPS connection (1): storage.googleapis.com:443\n",
      "2020-05-14 15:43:17,126 - DEBUG - https://storage.googleapis.com:443 \"GET /ddos-shield.appspot.com/shield-logo-mono-darktext.svg HTTP/1.1\" 200 16999\n",
      "2020-05-14 15:43:17,137 - DEBUG - using max img None\n",
      "2020-05-14 15:43:17,141 - DEBUG - Starting new HTTPS connection (1): beritagar.id:443\n"
     ]
    },
    {
     "name": "stdout",
     "output_type": "stream",
     "text": [
      "found BM/ID article\n"
     ]
    },
    {
     "name": "stderr",
     "output_type": "stream",
     "text": [
      "2020-05-14 15:43:17,954 - DEBUG - https://beritagar.id:443 \"GET /artikel/berita/isu-senjata-kimia-arab-saudi-di-balik-kematian-khashoggi HTTP/1.1\" 200 None\n",
      "2020-05-14 15:43:17,967 - DEBUG - Starting new HTTPS connection (1): storage.googleapis.com:443\n",
      "2020-05-14 15:43:18,038 - DEBUG - https://storage.googleapis.com:443 \"GET /ddos-shield.appspot.com/shield-logo-mono-darktext.svg HTTP/1.1\" 200 16999\n",
      "2020-05-14 15:43:18,054 - DEBUG - using max img None\n",
      "2020-05-14 15:43:18,059 - DEBUG - Starting new HTTP connection (1): www.astroawani.com:80\n",
      "2020-05-14 15:43:19,284 - DEBUG - http://www.astroawani.com:80 \"GET /berita-malaysia/putera-arab-saudi-gagal-tunjuk-bukti-derma-rm2-6-bil-kepada-najib-kp-sprm-176145 HTTP/1.1\" 200 17504\n",
      "2020-05-14 15:43:19,403 - DEBUG - Starting new HTTP connection (1): www.astroawani.com:80\n",
      "2020-05-14 15:43:19,581 - DEBUG - http://www.astroawani.com:80 \"GET /berita-malaysia/putera-arab-saudi-gagal-tunjuk-bukti-derma-rm2-6-bil-kepada-najib-kp-sprm-176145 HTTP/1.1\" 200 17504\n"
     ]
    },
    {
     "name": "stdout",
     "output_type": "stream",
     "text": [
      "found BM/ID article\n"
     ]
    },
    {
     "name": "stderr",
     "output_type": "stream",
     "text": [
      "2020-05-14 15:43:19,717 - DEBUG - Starting new HTTPS connection (1): www.bharian.com.my:443\n",
      "2020-05-14 15:43:20,513 - DEBUG - https://www.bharian.com.my:443 \"GET /berita/nasional/2018/10/482612/kementerian-luar-nafi-hishammuddin-bantu-pulih-hubungan-dengan-arab HTTP/1.1\" 200 None\n",
      "2020-05-14 15:43:20,652 - DEBUG - Starting new HTTPS connection (1): www.bharian.com.my:443\n",
      "2020-05-14 15:43:20,730 - DEBUG - https://www.bharian.com.my:443 \"GET /berita/nasional/2018/10/482612/kementerian-luar-nafi-hishammuddin-bantu-pulih-hubungan-dengan-arab HTTP/1.1\" 200 None\n"
     ]
    },
    {
     "name": "stdout",
     "output_type": "stream",
     "text": [
      "found BM/ID article\n"
     ]
    },
    {
     "name": "stderr",
     "output_type": "stream",
     "text": [
      "2020-05-14 15:43:20,876 - DEBUG - Starting new HTTPS connection (1): www.merdeka.com:443\n",
      "2020-05-14 15:43:30,059 - DEBUG - Download failed on URL https://www.merdeka.com/dunia/muncul-seruan-boikot-haji-terkait-isu-pelanggaran-ham-arab-saudi.html because of HTTPSConnectionPool(host='www.merdeka.com', port=443): Read timed out. (read timeout=7)\n",
      "2020-05-14 15:43:30,088 - DEBUG - Starting new HTTP connection (1): www.astroawani.com:80\n",
      "2020-05-14 15:43:31,345 - DEBUG - http://www.astroawani.com:80 \"GET /berita-dunia/seorang-di-arab-saudi-dua-di-vietnam-disahkan-dijangkiti-koronavirus-228863 HTTP/1.1\" 200 17841\n",
      "2020-05-14 15:43:31,496 - DEBUG - Starting new HTTPS connection (1): www.liputan6.com:443\n",
      "2020-05-14 15:43:32,111 - DEBUG - https://www.liputan6.com:443 \"GET /global/read/3979068/isu-iran-berpeluang-mencairkan-krisis-diplomatik-qatar-dan-arab-saudi HTTP/1.1\" 200 None\n",
      "2020-05-14 15:43:32,385 - DEBUG - Starting new HTTPS connection (1): www.liputan6.com:443\n"
     ]
    },
    {
     "name": "stdout",
     "output_type": "stream",
     "text": [
      "found BM/ID article\n"
     ]
    },
    {
     "name": "stderr",
     "output_type": "stream",
     "text": [
      "2020-05-14 15:43:32,746 - DEBUG - https://www.liputan6.com:443 \"GET /global/read/3979068/isu-iran-berpeluang-mencairkan-krisis-diplomatik-qatar-dan-arab-saudi HTTP/1.1\" 200 None\n",
      "2020-05-14 15:43:33,032 - DEBUG - Starting new HTTPS connection (1): news.detik.com:443\n",
      "2020-05-14 15:43:34,170 - DEBUG - https://news.detik.com:443 \"GET /berita/d-4778848/tentang-habib-rizieq-yang-tak-kunjung-pulang-isu-overstay-hingga-surat-cekal HTTP/1.1\" 200 None\n",
      "2020-05-14 15:43:34,364 - DEBUG - Starting new HTTPS connection (1): www.bharian.com.my:443\n",
      "2020-05-14 15:43:35,066 - DEBUG - https://www.bharian.com.my:443 \"GET /node/107955 HTTP/1.1\" 200 None\n",
      "2020-05-14 15:43:35,198 - DEBUG - Starting new HTTPS connection (1): www.bharian.com.my:443\n",
      "2020-05-14 15:43:35,278 - DEBUG - https://www.bharian.com.my:443 \"GET /node/107955 HTTP/1.1\" 200 None\n"
     ]
    },
    {
     "name": "stdout",
     "output_type": "stream",
     "text": [
      "found BM/ID article\n"
     ]
    },
    {
     "name": "stderr",
     "output_type": "stream",
     "text": [
      "2020-05-14 15:43:35,451 - DEBUG - Starting new HTTPS connection (1): www.hmetro.com.my:443\n",
      "2020-05-14 15:43:37,101 - DEBUG - https://www.hmetro.com.my:443 \"GET /mutakhir/2019/12/524467/negaraku-versi-bahasa-arab-pula-keluar HTTP/1.1\" 200 None\n",
      "2020-05-14 15:43:37,219 - DEBUG - Starting new HTTPS connection (1): www.hmetro.com.my:443\n",
      "2020-05-14 15:43:37,318 - DEBUG - https://www.hmetro.com.my:443 \"GET /mutakhir/2019/12/524467/negaraku-versi-bahasa-arab-pula-keluar HTTP/1.1\" 200 None\n"
     ]
    },
    {
     "name": "stdout",
     "output_type": "stream",
     "text": [
      "found BM/ID article\n"
     ]
    },
    {
     "name": "stderr",
     "output_type": "stream",
     "text": [
      "2020-05-14 15:43:47,449 - DEBUG - Starting new HTTPS connection (1): www.google.com.my:443\n",
      "2020-05-14 15:43:47,584 - DEBUG - https://www.google.com.my:443 \"GET /search?q=isu+arab&source=lnt&tbs=cdr%3A1%2Ccd_min%3A2000%2Ccd_max%3A2021&tbm=nws&start=40 HTTP/1.1\" 200 None\n",
      "2020-05-14 15:43:48,736 - DEBUG - utf-8  confidence = 0.99\n",
      "2020-05-14 15:43:48,736 - DEBUG - SHIFT_JIS Japanese confidence = 0.01\n",
      "2020-05-14 15:43:48,737 - DEBUG - EUC-JP Japanese confidence = 0.01\n",
      "2020-05-14 15:43:48,737 - DEBUG - GB2312 Chinese confidence = 0.01\n",
      "2020-05-14 15:43:48,737 - DEBUG - EUC-KR Korean confidence = 0.01\n",
      "2020-05-14 15:43:48,738 - DEBUG - CP949 Korean confidence = 0.01\n",
      "2020-05-14 15:43:48,738 - DEBUG - Big5 Chinese confidence = 0.01\n",
      "2020-05-14 15:43:48,739 - DEBUG - EUC-TW Taiwan confidence = 0.01\n",
      "2020-05-14 15:43:48,739 - DEBUG - windows-1251 Russian confidence = 0.01\n",
      "2020-05-14 15:43:48,740 - DEBUG - KOI8-R Russian confidence = 0.01\n",
      "2020-05-14 15:43:48,740 - DEBUG - ISO-8859-5 Russian confidence = 0.01\n",
      "2020-05-14 15:43:48,741 - DEBUG - MacCyrillic Russian confidence = 0.01\n",
      "2020-05-14 15:43:48,741 - DEBUG - IBM866 Russian confidence = 0.01\n",
      "2020-05-14 15:43:48,742 - DEBUG - IBM855 Russian confidence = 0.01\n",
      "2020-05-14 15:43:48,742 - DEBUG - ISO-8859-7 Greek confidence = 0.01\n",
      "2020-05-14 15:43:48,743 - DEBUG - windows-1253 Greek confidence = 0.01\n",
      "2020-05-14 15:43:48,743 - DEBUG - ISO-8859-5 Bulgairan confidence = 0.01\n",
      "2020-05-14 15:43:48,744 - DEBUG - windows-1251 Bulgarian confidence = 0.01\n",
      "2020-05-14 15:43:48,745 - DEBUG - TIS-620 Thai confidence = 0.01\n",
      "2020-05-14 15:43:48,745 - DEBUG - ISO-8859-9 Turkish confidence = 0.40778948126697007\n",
      "2020-05-14 15:43:48,746 - DEBUG - windows-1255 Hebrew confidence = 0.0\n",
      "2020-05-14 15:43:48,746 - DEBUG - windows-1255 Hebrew confidence = 0.0\n",
      "2020-05-14 15:43:48,747 - DEBUG - windows-1255 Hebrew confidence = 0.0\n",
      "2020-05-14 15:43:48,747 - DEBUG - utf-8  confidence = 0.99\n",
      "2020-05-14 15:43:48,748 - DEBUG - SHIFT_JIS Japanese confidence = 0.01\n",
      "2020-05-14 15:43:48,748 - DEBUG - EUC-JP Japanese confidence = 0.01\n",
      "2020-05-14 15:43:48,748 - DEBUG - GB2312 Chinese confidence = 0.01\n",
      "2020-05-14 15:43:48,749 - DEBUG - EUC-KR Korean confidence = 0.01\n",
      "2020-05-14 15:43:48,749 - DEBUG - CP949 Korean confidence = 0.01\n",
      "2020-05-14 15:43:48,750 - DEBUG - Big5 Chinese confidence = 0.01\n",
      "2020-05-14 15:43:48,750 - DEBUG - EUC-TW Taiwan confidence = 0.01\n",
      "2020-05-14 15:43:48,815 - DEBUG - Starting new HTTPS connection (1): tirto.id:443\n",
      "2020-05-14 15:43:49,038 - DEBUG - https://tirto.id:443 \"GET /klarifikasi-kemenag-soal-isu-arab-saudi-minta-haji-2020-ditunda-eKdY HTTP/1.1\" 200 None\n",
      "2020-05-14 15:43:49,257 - DEBUG - Starting new HTTPS connection (1): cirebon.pikiran-rakyat.com:443\n",
      "2020-05-14 15:43:49,512 - DEBUG - https://cirebon.pikiran-rakyat.com:443 \"GET /internasional/pr-04350733/cek-fakta-beredar-video-planet-terbakar-di-langit-mekkah-usai-arab-saudi-hentikan-layanan-haji-dan-umrah-sementara HTTP/1.1\" 200 None\n",
      "2020-05-14 15:43:49,755 - DEBUG - Starting new HTTP connection (1): www.astroawani.com:80\n",
      "2020-05-14 15:43:51,207 - DEBUG - http://www.astroawani.com:80 \"GET /berita-malaysia/raja-arab-saudi-gusar-malaysia-anjur-kl-summit-225583 HTTP/1.1\" 200 17073\n",
      "2020-05-14 15:43:51,332 - DEBUG - Starting new HTTP connection (1): www.astroawani.com:80\n",
      "2020-05-14 15:43:51,504 - DEBUG - http://www.astroawani.com:80 \"GET /berita-malaysia/raja-arab-saudi-gusar-malaysia-anjur-kl-summit-225583 HTTP/1.1\" 200 17073\n"
     ]
    },
    {
     "name": "stdout",
     "output_type": "stream",
     "text": [
      "found BM/ID article\n"
     ]
    },
    {
     "name": "stderr",
     "output_type": "stream",
     "text": [
      "2020-05-14 15:43:51,627 - DEBUG - Starting new HTTP connection (1): www.astroawani.com:80\n",
      "2020-05-14 15:43:52,838 - DEBUG - http://www.astroawani.com:80 \"GET /berita-dunia/memahami-krisis-qatar-arab-saudi-dan-sekutunya-145085 HTTP/1.1\" 200 16829\n",
      "2020-05-14 15:43:52,952 - DEBUG - Starting new HTTP connection (1): www.astroawani.com:80\n",
      "2020-05-14 15:43:53,122 - DEBUG - http://www.astroawani.com:80 \"GET /berita-dunia/memahami-krisis-qatar-arab-saudi-dan-sekutunya-145085 HTTP/1.1\" 200 16829\n"
     ]
    },
    {
     "name": "stdout",
     "output_type": "stream",
     "text": [
      "found BM/ID article\n"
     ]
    },
    {
     "name": "stderr",
     "output_type": "stream",
     "text": [
      "2020-05-14 15:43:53,242 - DEBUG - Starting new HTTPS connection (1): www.sinarharian.com.my:443\n",
      "2020-05-14 15:43:53,588 - DEBUG - https://www.sinarharian.com.my:443 \"GET /article/20850/GLOBAL/Isu-Bukit-Golan-Negara-Arab-mahu-halang-keputusan-Trump HTTP/1.1\" 200 None\n",
      "2020-05-14 15:43:53,730 - DEBUG - Starting new HTTPS connection (1): tasikmalaya.pikiran-rakyat.com:443\n",
      "2020-05-14 15:43:53,977 - DEBUG - https://tasikmalaya.pikiran-rakyat.com:443 \"GET /internasional/pr-06347192/isu-kiamat-semakin-dekat-usai-kabah-sepi-dari-ibadah-thawaf-pihak-kjri-berikan-fakta-sebenarnya HTTP/1.1\" 200 None\n",
      "2020-05-14 15:43:54,168 - DEBUG - Starting new HTTPS connection (1): www.liputan6.com:443\n",
      "2020-05-14 15:43:54,735 - DEBUG - https://www.liputan6.com:443 \"GET /global/read/4138586/kepala-negara-arab-saudi-dan-indonesia-tak-hadir-di-ktt-malaysia-ada-apa HTTP/1.1\" 200 None\n",
      "2020-05-14 15:43:55,011 - DEBUG - Starting new HTTPS connection (1): www.liputan6.com:443\n"
     ]
    },
    {
     "name": "stdout",
     "output_type": "stream",
     "text": [
      "found BM/ID article\n"
     ]
    },
    {
     "name": "stderr",
     "output_type": "stream",
     "text": [
      "2020-05-14 15:43:55,328 - DEBUG - https://www.liputan6.com:443 \"GET /global/read/4138586/kepala-negara-arab-saudi-dan-indonesia-tak-hadir-di-ktt-malaysia-ada-apa HTTP/1.1\" 200 None\n",
      "2020-05-14 15:43:55,593 - DEBUG - Starting new HTTPS connection (1): www.hmetro.com.my:443\n",
      "2020-05-14 15:43:56,457 - DEBUG - https://www.hmetro.com.my:443 \"GET /mutakhir/2019/02/423819/putera-arab-saudi-tangguh-lawatan-ke-malaysia HTTP/1.1\" 200 None\n",
      "2020-05-14 15:43:56,581 - DEBUG - Starting new HTTPS connection (1): www.hmetro.com.my:443\n",
      "2020-05-14 15:43:56,664 - DEBUG - https://www.hmetro.com.my:443 \"GET /mutakhir/2019/02/423819/putera-arab-saudi-tangguh-lawatan-ke-malaysia HTTP/1.1\" 200 None\n"
     ]
    },
    {
     "name": "stdout",
     "output_type": "stream",
     "text": [
      "found BM/ID article\n"
     ]
    },
    {
     "name": "stderr",
     "output_type": "stream",
     "text": [
      "2020-05-14 15:43:56,815 - DEBUG - Starting new HTTPS connection (1): www.malaysiakini.com:443\n",
      "2020-05-14 15:43:57,046 - DEBUG - https://www.malaysiakini.com:443 \"GET /news/513156 HTTP/1.1\" 200 None\n",
      "2020-05-14 15:43:57,167 - DEBUG - Starting new HTTPS connection (1): www.malaysiakini.com:443\n",
      "2020-05-14 15:43:57,255 - DEBUG - https://www.malaysiakini.com:443 \"GET /news/513156 HTTP/1.1\" 200 None\n"
     ]
    },
    {
     "name": "stdout",
     "output_type": "stream",
     "text": [
      "found BM/ID article\n"
     ]
    },
    {
     "name": "stderr",
     "output_type": "stream",
     "text": [
      "2020-05-14 15:43:57,413 - DEBUG - Starting new HTTPS connection (1): jatimtimes.com:443\n",
      "2020-05-14 15:43:58,755 - DEBUG - https://jatimtimes.com:443 \"GET /baca/209900/20200227/191700/cerita-warga-kota-malang-di-arab-saat-corona-merebak-berikut-pernyataan-kbri-di-riyadh HTTP/1.1\" 200 None\n",
      "2020-05-14 15:44:08,880 - DEBUG - Starting new HTTPS connection (1): www.google.com.my:443\n",
      "2020-05-14 15:44:08,998 - DEBUG - https://www.google.com.my:443 \"GET /search?q=isu+arab&source=lnt&tbs=cdr%3A1%2Ccd_min%3A2000%2Ccd_max%3A2021&tbm=nws&start=50 HTTP/1.1\" 200 None\n",
      "2020-05-14 15:44:10,077 - DEBUG - utf-8  confidence = 0.99\n",
      "2020-05-14 15:44:10,078 - DEBUG - SHIFT_JIS Japanese confidence = 0.01\n",
      "2020-05-14 15:44:10,078 - DEBUG - EUC-JP Japanese confidence = 0.01\n",
      "2020-05-14 15:44:10,078 - DEBUG - GB2312 Chinese confidence = 0.01\n",
      "2020-05-14 15:44:10,079 - DEBUG - EUC-KR Korean confidence = 0.01\n",
      "2020-05-14 15:44:10,080 - DEBUG - CP949 Korean confidence = 0.01\n",
      "2020-05-14 15:44:10,080 - DEBUG - Big5 Chinese confidence = 0.01\n",
      "2020-05-14 15:44:10,081 - DEBUG - EUC-TW Taiwan confidence = 0.01\n",
      "2020-05-14 15:44:10,082 - DEBUG - windows-1251 Russian confidence = 0.01\n",
      "2020-05-14 15:44:10,082 - DEBUG - KOI8-R Russian confidence = 0.01\n",
      "2020-05-14 15:44:10,082 - DEBUG - ISO-8859-5 Russian confidence = 0.01\n",
      "2020-05-14 15:44:10,083 - DEBUG - MacCyrillic Russian confidence = 0.0\n",
      "2020-05-14 15:44:10,083 - DEBUG - IBM866 Russian confidence = 0.0\n",
      "2020-05-14 15:44:10,084 - DEBUG - IBM855 Russian confidence = 0.01\n",
      "2020-05-14 15:44:10,084 - DEBUG - ISO-8859-7 Greek confidence = 0.0\n",
      "2020-05-14 15:44:10,085 - DEBUG - windows-1253 Greek confidence = 0.0\n",
      "2020-05-14 15:44:10,085 - DEBUG - ISO-8859-5 Bulgairan confidence = 0.01\n",
      "2020-05-14 15:44:10,086 - DEBUG - windows-1251 Bulgarian confidence = 0.01\n",
      "2020-05-14 15:44:10,086 - DEBUG - TIS-620 Thai confidence = 0.01\n",
      "2020-05-14 15:44:10,087 - DEBUG - ISO-8859-9 Turkish confidence = 0.4146838048081154\n",
      "2020-05-14 15:44:10,087 - DEBUG - windows-1255 Hebrew confidence = 0.0\n",
      "2020-05-14 15:44:10,088 - DEBUG - windows-1255 Hebrew confidence = 0.0\n",
      "2020-05-14 15:44:10,088 - DEBUG - windows-1255 Hebrew confidence = 0.0\n",
      "2020-05-14 15:44:10,089 - DEBUG - utf-8  confidence = 0.99\n",
      "2020-05-14 15:44:10,089 - DEBUG - SHIFT_JIS Japanese confidence = 0.01\n",
      "2020-05-14 15:44:10,090 - DEBUG - EUC-JP Japanese confidence = 0.01\n",
      "2020-05-14 15:44:10,091 - DEBUG - GB2312 Chinese confidence = 0.01\n",
      "2020-05-14 15:44:10,092 - DEBUG - EUC-KR Korean confidence = 0.01\n",
      "2020-05-14 15:44:10,092 - DEBUG - CP949 Korean confidence = 0.01\n",
      "2020-05-14 15:44:10,092 - DEBUG - Big5 Chinese confidence = 0.01\n",
      "2020-05-14 15:44:10,093 - DEBUG - EUC-TW Taiwan confidence = 0.01\n",
      "2020-05-14 15:44:10,134 - DEBUG - Starting new HTTPS connection (1): www.hmetro.com.my:443\n",
      "2020-05-14 15:44:11,307 - DEBUG - https://www.hmetro.com.my:443 \"GET /utama/2019/08/483747/kedutaan-arab-saudi-keluarkan-visa-furada HTTP/1.1\" 200 None\n",
      "2020-05-14 15:44:11,436 - DEBUG - Starting new HTTPS connection (1): www.hmetro.com.my:443\n",
      "2020-05-14 15:44:11,521 - DEBUG - https://www.hmetro.com.my:443 \"GET /utama/2019/08/483747/kedutaan-arab-saudi-keluarkan-visa-furada HTTP/1.1\" 200 None\n"
     ]
    },
    {
     "name": "stdout",
     "output_type": "stream",
     "text": [
      "found BM/ID article\n"
     ]
    },
    {
     "name": "stderr",
     "output_type": "stream",
     "text": [
      "2020-05-14 15:44:11,652 - DEBUG - Starting new HTTPS connection (1): www.sinarharian.com.my:443\n",
      "2020-05-14 15:44:11,921 - DEBUG - https://www.sinarharian.com.my:443 \"GET /article/62843/BERITA/Viral/Juventus-guna-tulisan-Arab-buat-jersi-edisi-Riyadh HTTP/1.1\" 200 None\n",
      "2020-05-14 15:44:12,084 - DEBUG - Starting new HTTPS connection (1): www.bharian.com.my:443\n",
      "2020-05-14 15:44:12,721 - DEBUG - https://www.bharian.com.my:443 \"GET /berita/nasional/2018/02/393751/etnik-rohingya-akan-terus-dibantu HTTP/1.1\" 200 None\n",
      "2020-05-14 15:44:12,857 - DEBUG - Starting new HTTPS connection (1): www.bharian.com.my:443\n",
      "2020-05-14 15:44:12,937 - DEBUG - https://www.bharian.com.my:443 \"GET /berita/nasional/2018/02/393751/etnik-rohingya-akan-terus-dibantu HTTP/1.1\" 200 None\n"
     ]
    },
    {
     "name": "stdout",
     "output_type": "stream",
     "text": [
      "found BM/ID article\n"
     ]
    },
    {
     "name": "stderr",
     "output_type": "stream",
     "text": [
      "2020-05-14 15:44:13,109 - DEBUG - Starting new HTTPS connection (1): harakahdaily.net:443\n",
      "2020-05-14 15:44:20,184 - DEBUG - Download failed on URL https://harakahdaily.net/index.php/2020/02/03/anwar-bangkitkan-kembali-isu-kafir-mengkafir/ because of HTTPSConnectionPool(host='harakahdaily.net', port=443): Read timed out. (read timeout=7)\n",
      "2020-05-14 15:44:20,188 - DEBUG - Starting new HTTPS connection (1): www.hmetro.com.my:443\n",
      "2020-05-14 15:44:21,005 - DEBUG - https://www.hmetro.com.my:443 \"GET /mutakhir/2020/02/541066/papuh-harap-visa-pelancongan-tidak-ditarik HTTP/1.1\" 200 None\n",
      "2020-05-14 15:44:21,127 - DEBUG - Starting new HTTPS connection (1): www.hmetro.com.my:443\n",
      "2020-05-14 15:44:21,206 - DEBUG - https://www.hmetro.com.my:443 \"GET /mutakhir/2020/02/541066/papuh-harap-visa-pelancongan-tidak-ditarik HTTP/1.1\" 200 None\n"
     ]
    },
    {
     "name": "stdout",
     "output_type": "stream",
     "text": [
      "found BM/ID article\n"
     ]
    },
    {
     "name": "stderr",
     "output_type": "stream",
     "text": [
      "2020-05-14 15:44:21,335 - DEBUG - Starting new HTTPS connection (1): www.malaysiakini.com:443\n",
      "2020-05-14 15:44:21,569 - DEBUG - https://www.malaysiakini.com:443 \"GET /news/470894 HTTP/1.1\" 200 None\n",
      "2020-05-14 15:44:21,662 - DEBUG - Starting new HTTPS connection (1): www.malaysiakini.com:443\n",
      "2020-05-14 15:44:21,879 - DEBUG - https://www.malaysiakini.com:443 \"GET /news/373932 HTTP/1.1\" 200 None\n",
      "2020-05-14 15:44:21,972 - DEBUG - Starting new HTTPS connection (1): www.malaysiakini.com:443\n",
      "2020-05-14 15:44:22,048 - DEBUG - https://www.malaysiakini.com:443 \"GET /news/373932 HTTP/1.1\" 200 None\n",
      "2020-05-14 15:44:22,155 - DEBUG - Starting new HTTPS connection (1): www.sinarharian.com.my:443\n"
     ]
    },
    {
     "name": "stdout",
     "output_type": "stream",
     "text": [
      "found BM/ID article\n"
     ]
    },
    {
     "name": "stderr",
     "output_type": "stream",
     "text": [
      "2020-05-14 15:44:22,409 - DEBUG - https://www.sinarharian.com.my:443 \"GET /article/55610/BERITA/Nasional/Arab-Saudi-hantar-guru-ke-Malaysia-hadapi-pendidikan-abad-ke-21 HTTP/1.1\" 200 None\n",
      "2020-05-14 15:44:22,540 - DEBUG - Starting new HTTPS connection (1): www.bharian.com.my:443\n",
      "2020-05-14 15:44:23,283 - DEBUG - https://www.bharian.com.my:443 \"GET /node/254582 HTTP/1.1\" 200 None\n",
      "2020-05-14 15:44:23,429 - DEBUG - Starting new HTTPS connection (1): www.bharian.com.my:443\n",
      "2020-05-14 15:44:23,508 - DEBUG - https://www.bharian.com.my:443 \"GET /node/254582 HTTP/1.1\" 200 None\n"
     ]
    },
    {
     "name": "stdout",
     "output_type": "stream",
     "text": [
      "found BM/ID article\n"
     ]
    },
    {
     "name": "stderr",
     "output_type": "stream",
     "text": [
      "2020-05-14 15:44:23,679 - DEBUG - Starting new HTTPS connection (1): finance.detik.com:443\n",
      "2020-05-14 15:44:24,772 - DEBUG - https://finance.detik.com:443 \"GET /energi/d-3521658/kepentingan-as-di-balik-ketegangan-arab-saudi-qatar HTTP/1.1\" 200 None\n",
      "2020-05-14 15:44:34,897 - DEBUG - Starting new HTTPS connection (1): www.google.com.my:443\n",
      "2020-05-14 15:44:35,014 - DEBUG - https://www.google.com.my:443 \"GET /search?q=isu+arab&source=lnt&tbs=cdr%3A1%2Ccd_min%3A2000%2Ccd_max%3A2021&tbm=nws&start=60 HTTP/1.1\" 200 None\n",
      "2020-05-14 15:44:36,195 - DEBUG - utf-8  confidence = 0.99\n",
      "2020-05-14 15:44:36,196 - DEBUG - SHIFT_JIS Japanese confidence = 0.01\n",
      "2020-05-14 15:44:36,196 - DEBUG - EUC-JP Japanese confidence = 0.01\n",
      "2020-05-14 15:44:36,196 - DEBUG - GB2312 Chinese confidence = 0.01\n",
      "2020-05-14 15:44:36,197 - DEBUG - EUC-KR Korean confidence = 0.01\n",
      "2020-05-14 15:44:36,197 - DEBUG - CP949 Korean confidence = 0.01\n",
      "2020-05-14 15:44:36,198 - DEBUG - Big5 Chinese confidence = 0.01\n",
      "2020-05-14 15:44:36,198 - DEBUG - EUC-TW Taiwan confidence = 0.01\n",
      "2020-05-14 15:44:36,199 - DEBUG - windows-1251 Russian confidence = 0.01\n",
      "2020-05-14 15:44:36,199 - DEBUG - KOI8-R Russian confidence = 0.01\n",
      "2020-05-14 15:44:36,200 - DEBUG - ISO-8859-5 Russian confidence = 0.01\n",
      "2020-05-14 15:44:36,200 - DEBUG - MacCyrillic Russian confidence = 0.0\n",
      "2020-05-14 15:44:36,201 - DEBUG - IBM866 Russian confidence = 0.0\n",
      "2020-05-14 15:44:36,201 - DEBUG - IBM855 Russian confidence = 0.01\n",
      "2020-05-14 15:44:36,202 - DEBUG - ISO-8859-7 Greek confidence = 0.0\n",
      "2020-05-14 15:44:36,202 - DEBUG - windows-1253 Greek confidence = 0.0\n",
      "2020-05-14 15:44:36,203 - DEBUG - ISO-8859-5 Bulgairan confidence = 0.01\n",
      "2020-05-14 15:44:36,203 - DEBUG - windows-1251 Bulgarian confidence = 0.01\n",
      "2020-05-14 15:44:36,204 - DEBUG - TIS-620 Thai confidence = 0.01\n",
      "2020-05-14 15:44:36,204 - DEBUG - ISO-8859-9 Turkish confidence = 0.41189275375009543\n",
      "2020-05-14 15:44:36,204 - DEBUG - windows-1255 Hebrew confidence = 0.0\n",
      "2020-05-14 15:44:36,205 - DEBUG - windows-1255 Hebrew confidence = 0.0\n",
      "2020-05-14 15:44:36,206 - DEBUG - windows-1255 Hebrew confidence = 0.0\n",
      "2020-05-14 15:44:36,207 - DEBUG - utf-8  confidence = 0.99\n",
      "2020-05-14 15:44:36,208 - DEBUG - SHIFT_JIS Japanese confidence = 0.01\n",
      "2020-05-14 15:44:36,208 - DEBUG - EUC-JP Japanese confidence = 0.01\n",
      "2020-05-14 15:44:36,209 - DEBUG - GB2312 Chinese confidence = 0.01\n",
      "2020-05-14 15:44:36,209 - DEBUG - EUC-KR Korean confidence = 0.01\n",
      "2020-05-14 15:44:36,210 - DEBUG - CP949 Korean confidence = 0.01\n",
      "2020-05-14 15:44:36,211 - DEBUG - Big5 Chinese confidence = 0.01\n",
      "2020-05-14 15:44:36,211 - DEBUG - EUC-TW Taiwan confidence = 0.01\n",
      "2020-05-14 15:44:36,274 - DEBUG - Starting new HTTPS connection (1): www.hmetro.com.my:443\n",
      "2020-05-14 15:44:37,064 - DEBUG - https://www.hmetro.com.my:443 \"GET /mutakhir/2019/11/520751/arab-saudi-usaha-bangun-kod-masjid HTTP/1.1\" 200 None\n",
      "2020-05-14 15:44:37,201 - DEBUG - Starting new HTTPS connection (1): www.hmetro.com.my:443\n",
      "2020-05-14 15:44:37,287 - DEBUG - https://www.hmetro.com.my:443 \"GET /mutakhir/2019/11/520751/arab-saudi-usaha-bangun-kod-masjid HTTP/1.1\" 200 None\n"
     ]
    },
    {
     "name": "stdout",
     "output_type": "stream",
     "text": [
      "found BM/ID article\n"
     ]
    },
    {
     "name": "stderr",
     "output_type": "stream",
     "text": [
      "2020-05-14 15:44:37,432 - DEBUG - Starting new HTTPS connection (1): www.cnbcindonesia.com:443\n",
      "2020-05-14 15:44:38,533 - DEBUG - https://www.cnbcindonesia.com:443 \"GET /news/20190416084103-4-66952/simak-poin-poin-pertemuan-jokowi-dan-raja-salman-di-arab HTTP/1.1\" 200 None\n",
      "2020-05-14 15:44:38,729 - DEBUG - Starting new HTTPS connection (1): dunia.tempo.co:443\n",
      "2020-05-14 15:44:38,948 - DEBUG - https://dunia.tempo.co:443 \"GET /read/1219595/bertemu-putra-mahkota-arab-saudi-presiden-jokowi-bahas-4-isu-ini HTTP/1.1\" 200 None\n",
      "2020-05-14 15:44:39,142 - DEBUG - Starting new HTTPS connection (1): dunia.tempo.co:443\n"
     ]
    },
    {
     "name": "stdout",
     "output_type": "stream",
     "text": [
      "found BM/ID article\n"
     ]
    },
    {
     "name": "stderr",
     "output_type": "stream",
     "text": [
      "2020-05-14 15:44:39,346 - DEBUG - https://dunia.tempo.co:443 \"GET /read/1219595/bertemu-putra-mahkota-arab-saudi-presiden-jokowi-bahas-4-isu-ini HTTP/1.1\" 200 None\n",
      "2020-05-14 15:44:39,573 - DEBUG - Starting new HTTPS connection (1): news.detik.com:443\n",
      "2020-05-14 15:44:40,435 - DEBUG - https://news.detik.com:443 \"GET /internasional/d-4283979/isu-senjata-kimia-arab-saudi-di-balik-pembunuhan-khashoggi HTTP/1.1\" 200 None\n",
      "2020-05-14 15:44:40,667 - DEBUG - Starting new HTTP connection (1): www.astroawani.com:80\n",
      "2020-05-14 15:44:40,902 - DEBUG - http://www.astroawani.com:80 \"GET /berita-malaysia/isu-palestin-dan-kejohanan-renang-para-dunia-mahathir-buka-mata-antarabangsa-198320 HTTP/1.1\" 200 18364\n",
      "2020-05-14 15:44:41,021 - DEBUG - Starting new HTTPS connection (1): www.hmetro.com.my:443\n",
      "2020-05-14 15:44:42,470 - DEBUG - https://www.hmetro.com.my:443 \"GET /mutakhir/2019/09/495710/jemaah-perlu-bersedia-tanggung-kos-visa HTTP/1.1\" 200 None\n",
      "2020-05-14 15:44:42,642 - DEBUG - Starting new HTTPS connection (1): www.hmetro.com.my:443\n",
      "2020-05-14 15:44:42,740 - DEBUG - https://www.hmetro.com.my:443 \"GET /mutakhir/2019/09/495710/jemaah-perlu-bersedia-tanggung-kos-visa HTTP/1.1\" 200 None\n"
     ]
    },
    {
     "name": "stdout",
     "output_type": "stream",
     "text": [
      "found BM/ID article\n"
     ]
    },
    {
     "name": "stderr",
     "output_type": "stream",
     "text": [
      "2020-05-14 15:44:42,870 - DEBUG - Starting new HTTPS connection (1): news.detik.com:443\n",
      "2020-05-14 15:44:43,977 - DEBUG - https://news.detik.com:443 \"GET /berita/d-4784805/arab-saudi-klarifikasi-soal-keamanan-hrs-di-luar-saudi-tak-terjamin HTTP/1.1\" 200 None\n",
      "2020-05-14 15:44:44,185 - DEBUG - Starting new HTTPS connection (1): www.malaysiakini.com:443\n",
      "2020-05-14 15:44:44,422 - DEBUG - https://www.malaysiakini.com:443 \"GET /news/519052 HTTP/1.1\" 200 None\n",
      "2020-05-14 15:44:44,530 - DEBUG - Starting new HTTPS connection (1): www.malaysiakini.com:443\n",
      "2020-05-14 15:44:44,632 - DEBUG - https://www.malaysiakini.com:443 \"GET /news/519052 HTTP/1.1\" 200 None\n"
     ]
    },
    {
     "name": "stdout",
     "output_type": "stream",
     "text": [
      "found BM/ID article\n"
     ]
    },
    {
     "name": "stderr",
     "output_type": "stream",
     "text": [
      "2020-05-14 15:44:44,738 - DEBUG - Starting new HTTPS connection (1): www.malaysiakini.com:443\n",
      "2020-05-14 15:44:44,995 - DEBUG - https://www.malaysiakini.com:443 \"GET /news/410257 HTTP/1.1\" 200 None\n",
      "2020-05-14 15:44:45,147 - DEBUG - Starting new HTTPS connection (1): www.malaysiakini.com:443\n",
      "2020-05-14 15:44:45,267 - DEBUG - https://www.malaysiakini.com:443 \"GET /news/410257 HTTP/1.1\" 200 None\n"
     ]
    },
    {
     "name": "stdout",
     "output_type": "stream",
     "text": [
      "found BM/ID article\n"
     ]
    },
    {
     "name": "stderr",
     "output_type": "stream",
     "text": [
      "2020-05-14 15:44:45,414 - DEBUG - Starting new HTTPS connection (1): www.sinarharian.com.my:443\n",
      "2020-05-14 15:44:45,916 - DEBUG - https://www.sinarharian.com.my:443 \"GET /article/61404/BERITA/Nasional/Lagu-Negaraku-versi-Arab-Polis-rakam-keterangan-pihak-terlibat HTTP/1.1\" 200 None\n",
      "2020-05-14 15:44:56,070 - DEBUG - Starting new HTTPS connection (1): www.google.com.my:443\n",
      "2020-05-14 15:44:56,202 - DEBUG - https://www.google.com.my:443 \"GET /search?q=isu+arab&source=lnt&tbs=cdr%3A1%2Ccd_min%3A2000%2Ccd_max%3A2021&tbm=nws&start=70 HTTP/1.1\" 200 None\n",
      "2020-05-14 15:44:57,363 - DEBUG - utf-8  confidence = 0.99\n",
      "2020-05-14 15:44:57,364 - DEBUG - SHIFT_JIS Japanese confidence = 0.01\n",
      "2020-05-14 15:44:57,364 - DEBUG - EUC-JP Japanese confidence = 0.01\n",
      "2020-05-14 15:44:57,364 - DEBUG - GB2312 Chinese confidence = 0.01\n",
      "2020-05-14 15:44:57,365 - DEBUG - EUC-KR Korean confidence = 0.01\n",
      "2020-05-14 15:44:57,366 - DEBUG - CP949 Korean confidence = 0.01\n",
      "2020-05-14 15:44:57,366 - DEBUG - Big5 Chinese confidence = 0.01\n",
      "2020-05-14 15:44:57,367 - DEBUG - EUC-TW Taiwan confidence = 0.01\n",
      "2020-05-14 15:44:57,368 - DEBUG - windows-1251 Russian confidence = 0.01\n",
      "2020-05-14 15:44:57,369 - DEBUG - KOI8-R Russian confidence = 0.01\n",
      "2020-05-14 15:44:57,370 - DEBUG - ISO-8859-5 Russian confidence = 0.01\n",
      "2020-05-14 15:44:57,370 - DEBUG - MacCyrillic Russian confidence = 0.0\n",
      "2020-05-14 15:44:57,371 - DEBUG - IBM866 Russian confidence = 0.0\n",
      "2020-05-14 15:44:57,372 - DEBUG - IBM855 Russian confidence = 0.01\n",
      "2020-05-14 15:44:57,372 - DEBUG - ISO-8859-7 Greek confidence = 0.0\n",
      "2020-05-14 15:44:57,373 - DEBUG - windows-1253 Greek confidence = 0.0\n",
      "2020-05-14 15:44:57,373 - DEBUG - ISO-8859-5 Bulgairan confidence = 0.01\n",
      "2020-05-14 15:44:57,374 - DEBUG - windows-1251 Bulgarian confidence = 0.01\n",
      "2020-05-14 15:44:57,374 - DEBUG - TIS-620 Thai confidence = 0.01\n",
      "2020-05-14 15:44:57,375 - DEBUG - ISO-8859-9 Turkish confidence = 0.4099417274877425\n",
      "2020-05-14 15:44:57,375 - DEBUG - windows-1255 Hebrew confidence = 0.0\n",
      "2020-05-14 15:44:57,375 - DEBUG - windows-1255 Hebrew confidence = 0.0\n",
      "2020-05-14 15:44:57,376 - DEBUG - windows-1255 Hebrew confidence = 0.0\n",
      "2020-05-14 15:44:57,376 - DEBUG - utf-8  confidence = 0.99\n",
      "2020-05-14 15:44:57,377 - DEBUG - SHIFT_JIS Japanese confidence = 0.01\n",
      "2020-05-14 15:44:57,377 - DEBUG - EUC-JP Japanese confidence = 0.01\n",
      "2020-05-14 15:44:57,378 - DEBUG - GB2312 Chinese confidence = 0.01\n",
      "2020-05-14 15:44:57,378 - DEBUG - EUC-KR Korean confidence = 0.01\n",
      "2020-05-14 15:44:57,379 - DEBUG - CP949 Korean confidence = 0.01\n",
      "2020-05-14 15:44:57,379 - DEBUG - Big5 Chinese confidence = 0.01\n",
      "2020-05-14 15:44:57,380 - DEBUG - EUC-TW Taiwan confidence = 0.01\n",
      "2020-05-14 15:44:57,414 - DEBUG - Starting new HTTPS connection (1): www.malaysiakini.com:443\n",
      "2020-05-14 15:44:57,679 - DEBUG - https://www.malaysiakini.com:443 \"GET /columns/405290 HTTP/1.1\" 200 None\n",
      "2020-05-14 15:44:57,804 - DEBUG - Starting new HTTPS connection (1): www.sinarharian.com.my:443\n",
      "2020-05-14 15:44:58,100 - DEBUG - https://www.sinarharian.com.my:443 \"GET /article/29078/GLOBAL/Mesyuarat-tergempar-GCC-Liga-Arab-30-Mei-ini HTTP/1.1\" 200 None\n",
      "2020-05-14 15:44:58,220 - DEBUG - Starting new HTTPS connection (1): dunia.tempo.co:443\n",
      "2020-05-14 15:44:58,407 - DEBUG - https://dunia.tempo.co:443 \"GET /read/637054/sederet-prestasi-raja-arab-abdullah HTTP/1.1\" 200 None\n",
      "2020-05-14 15:44:58,598 - DEBUG - Starting new HTTPS connection (1): dunia.tempo.co:443\n"
     ]
    },
    {
     "name": "stdout",
     "output_type": "stream",
     "text": [
      "found BM/ID article\n"
     ]
    },
    {
     "name": "stderr",
     "output_type": "stream",
     "text": [
      "2020-05-14 15:44:58,819 - DEBUG - https://dunia.tempo.co:443 \"GET /read/637054/sederet-prestasi-raja-arab-abdullah HTTP/1.1\" 200 None\n",
      "2020-05-14 15:44:59,040 - DEBUG - Starting new HTTPS connection (1): www.bharian.com.my:443\n",
      "2020-05-14 15:45:00,045 - DEBUG - https://www.bharian.com.my:443 \"GET /berita/nasional/2019/02/526886/arab-saudi-boleh-tangkap-rakyat-malaysia-buat-umrah-diy HTTP/1.1\" 200 None\n",
      "2020-05-14 15:45:00,229 - DEBUG - Starting new HTTPS connection (1): www.bharian.com.my:443\n",
      "2020-05-14 15:45:00,313 - DEBUG - https://www.bharian.com.my:443 \"GET /berita/nasional/2019/02/526886/arab-saudi-boleh-tangkap-rakyat-malaysia-buat-umrah-diy HTTP/1.1\" 200 None\n"
     ]
    },
    {
     "name": "stdout",
     "output_type": "stream",
     "text": [
      "found BM/ID article\n"
     ]
    },
    {
     "name": "stderr",
     "output_type": "stream",
     "text": [
      "2020-05-14 15:45:00,554 - DEBUG - Starting new HTTPS connection (1): www.liputan6.com:443\n",
      "2020-05-14 15:45:01,060 - DEBUG - https://www.liputan6.com:443 \"GET /global/read/3153485/headline-11-pangeran-arab-saudi-ditangkap-demi-amankan-takhta HTTP/1.1\" 200 None\n",
      "2020-05-14 15:45:01,374 - DEBUG - Starting new HTTP connection (1): www.astroawani.com:80\n",
      "2020-05-14 15:45:02,708 - DEBUG - http://www.astroawani.com:80 \"GET /berita-hiburan/nicki-minaj-cetus-kontroversi-diundang-buat-persembahan-di-festival-jeddah-arab-saudi-211783 HTTP/1.1\" 200 15312\n",
      "2020-05-14 15:45:02,817 - DEBUG - Starting new HTTP connection (1): www.astroawani.com:80\n",
      "2020-05-14 15:45:02,986 - DEBUG - http://www.astroawani.com:80 \"GET /berita-hiburan/nicki-minaj-cetus-kontroversi-diundang-buat-persembahan-di-festival-jeddah-arab-saudi-211783 HTTP/1.1\" 200 15312\n"
     ]
    },
    {
     "name": "stdout",
     "output_type": "stream",
     "text": [
      "found BM/ID article\n"
     ]
    },
    {
     "name": "stderr",
     "output_type": "stream",
     "text": [
      "2020-05-14 15:45:03,102 - DEBUG - Starting new HTTPS connection (1): www.bharian.com.my:443\n",
      "2020-05-14 15:45:05,374 - DEBUG - https://www.bharian.com.my:443 \"GET /berita/nasional/2018/10/490845/loket-berlian-merah-jambu-22-karat-hadiah-putera-raja HTTP/1.1\" 200 None\n",
      "2020-05-14 15:45:05,511 - DEBUG - Starting new HTTPS connection (1): www.bharian.com.my:443\n",
      "2020-05-14 15:45:05,593 - DEBUG - https://www.bharian.com.my:443 \"GET /berita/nasional/2018/10/490845/loket-berlian-merah-jambu-22-karat-hadiah-putera-raja HTTP/1.1\" 200 None\n"
     ]
    },
    {
     "name": "stdout",
     "output_type": "stream",
     "text": [
      "found BM/ID article\n"
     ]
    },
    {
     "name": "stderr",
     "output_type": "stream",
     "text": [
      "2020-05-14 15:45:05,734 - DEBUG - Starting new HTTP connection (1): www.astroawani.com:80\n",
      "2020-05-14 15:45:06,946 - DEBUG - http://www.astroawani.com:80 \"GET /berita-dunia/tehran-gesa-arab-saudi-cermin-diri-sebelum-mahu-jadikan-iran-kambing-hitam-161583 HTTP/1.1\" 200 17216\n",
      "2020-05-14 15:45:07,098 - DEBUG - Starting new HTTPS connection (1): www.tempo.co:443\n",
      "2020-05-14 15:45:07,311 - DEBUG - https://www.tempo.co:443 \"GET /dw/350/bagaimana-media-arab-membahas-pembunuhan-jamal-khashoggi HTTP/1.1\" 200 None\n",
      "2020-05-14 15:45:07,493 - DEBUG - Starting new HTTPS connection (1): www.tempo.co:443\n",
      "2020-05-14 15:45:07,665 - DEBUG - https://www.tempo.co:443 \"GET /dw/350/bagaimana-media-arab-membahas-pembunuhan-jamal-khashoggi HTTP/1.1\" 200 None\n"
     ]
    },
    {
     "name": "stdout",
     "output_type": "stream",
     "text": [
      "found BM/ID article\n"
     ]
    },
    {
     "name": "stderr",
     "output_type": "stream",
     "text": [
      "2020-05-14 15:45:07,846 - DEBUG - Starting new HTTPS connection (1): www.sinarharian.com.my:443\n",
      "2020-05-14 15:45:08,614 - DEBUG - https://www.sinarharian.com.my:443 \"GET /article/28103/BERITA/Nasional/Kuota-haji-tambahan-TH-tunggu-keputusan-Arab-Saudi HTTP/1.1\" 200 None\n",
      "2020-05-14 15:45:18,788 - DEBUG - Starting new HTTPS connection (1): www.google.com.my:443\n",
      "2020-05-14 15:45:18,905 - DEBUG - https://www.google.com.my:443 \"GET /search?q=isu+arab&source=lnt&tbs=cdr%3A1%2Ccd_min%3A2000%2Ccd_max%3A2021&tbm=nws&start=80 HTTP/1.1\" 200 None\n",
      "2020-05-14 15:45:19,992 - DEBUG - utf-8  confidence = 0.99\n",
      "2020-05-14 15:45:19,993 - DEBUG - SHIFT_JIS Japanese confidence = 0.01\n",
      "2020-05-14 15:45:19,993 - DEBUG - EUC-JP Japanese confidence = 0.01\n",
      "2020-05-14 15:45:19,994 - DEBUG - GB2312 Chinese confidence = 0.01\n",
      "2020-05-14 15:45:19,994 - DEBUG - EUC-KR Korean confidence = 0.01\n",
      "2020-05-14 15:45:19,995 - DEBUG - CP949 Korean confidence = 0.01\n",
      "2020-05-14 15:45:19,996 - DEBUG - Big5 Chinese confidence = 0.01\n",
      "2020-05-14 15:45:19,996 - DEBUG - EUC-TW Taiwan confidence = 0.01\n",
      "2020-05-14 15:45:19,997 - DEBUG - windows-1251 Russian confidence = 0.01\n",
      "2020-05-14 15:45:19,997 - DEBUG - KOI8-R Russian confidence = 0.01\n",
      "2020-05-14 15:45:19,998 - DEBUG - ISO-8859-5 Russian confidence = 0.01\n",
      "2020-05-14 15:45:19,998 - DEBUG - MacCyrillic Russian confidence = 0.0\n",
      "2020-05-14 15:45:19,999 - DEBUG - IBM866 Russian confidence = 0.0\n",
      "2020-05-14 15:45:20,000 - DEBUG - IBM855 Russian confidence = 0.01\n",
      "2020-05-14 15:45:20,000 - DEBUG - ISO-8859-7 Greek confidence = 0.01\n",
      "2020-05-14 15:45:20,000 - DEBUG - windows-1253 Greek confidence = 0.01\n",
      "2020-05-14 15:45:20,001 - DEBUG - ISO-8859-5 Bulgairan confidence = 0.01\n",
      "2020-05-14 15:45:20,002 - DEBUG - windows-1251 Bulgarian confidence = 0.01\n",
      "2020-05-14 15:45:20,002 - DEBUG - TIS-620 Thai confidence = 0.01\n",
      "2020-05-14 15:45:20,003 - DEBUG - ISO-8859-9 Turkish confidence = 0.42064703218314076\n",
      "2020-05-14 15:45:20,003 - DEBUG - windows-1255 Hebrew confidence = 0.0\n",
      "2020-05-14 15:45:20,004 - DEBUG - windows-1255 Hebrew confidence = 0.0\n",
      "2020-05-14 15:45:20,004 - DEBUG - windows-1255 Hebrew confidence = 0.0\n",
      "2020-05-14 15:45:20,005 - DEBUG - utf-8  confidence = 0.99\n",
      "2020-05-14 15:45:20,006 - DEBUG - SHIFT_JIS Japanese confidence = 0.01\n",
      "2020-05-14 15:45:20,006 - DEBUG - EUC-JP Japanese confidence = 0.01\n",
      "2020-05-14 15:45:20,007 - DEBUG - GB2312 Chinese confidence = 0.01\n",
      "2020-05-14 15:45:20,007 - DEBUG - EUC-KR Korean confidence = 0.01\n",
      "2020-05-14 15:45:20,008 - DEBUG - CP949 Korean confidence = 0.01\n",
      "2020-05-14 15:45:20,008 - DEBUG - Big5 Chinese confidence = 0.01\n",
      "2020-05-14 15:45:20,009 - DEBUG - EUC-TW Taiwan confidence = 0.01\n",
      "2020-05-14 15:45:20,045 - DEBUG - Starting new HTTPS connection (1): news.detik.com:443\n",
      "2020-05-14 15:45:21,182 - DEBUG - https://news.detik.com:443 \"GET /internasional/d-4264928/hilangnya-pewarta-berujung-isu-ganti-putra-mahkota-saudi HTTP/1.1\" 200 None\n",
      "2020-05-14 15:45:21,405 - DEBUG - Starting new HTTP connection (1): www.astroawani.com:80\n",
      "2020-05-14 15:45:22,645 - DEBUG - http://www.astroawani.com:80 \"GET /berita-malaysia/penutupan-kscip-jejas-hubungan-malaysia-saudi-asyraf-wajdi-182561 HTTP/1.1\" 200 17893\n",
      "2020-05-14 15:45:22,765 - DEBUG - Starting new HTTPS connection (1): www.sinarharian.com.my:443\n",
      "2020-05-14 15:45:23,469 - DEBUG - https://www.sinarharian.com.my:443 \"GET /article/49693/BERITA/Nasional/Visa-pelancong-Arab-Saudi-Peluang-agensi-pelancongan-luas-perniagaan HTTP/1.1\" 200 None\n",
      "2020-05-14 15:45:23,623 - DEBUG - Starting new HTTPS connection (1): www.medcom.id:443\n",
      "2020-05-14 15:45:23,832 - DEBUG - https://www.medcom.id:443 \"GET /telusur/cek-fakta/Wb70OwMk-raja-salman-meninggal-dunia-ini-faktanya HTTP/1.1\" 200 None\n",
      "2020-05-14 15:45:24,057 - DEBUG - Starting new HTTPS connection (1): www.beritasatu.com:443\n",
      "2020-05-14 15:45:24,509 - DEBUG - https://www.beritasatu.com:443 \"GET /galeri-foto/9610-dubes-arab-saudi-untuk-indonesia-tanggapi-isuisu-terkini HTTP/1.1\" 200 13516\n",
      "2020-05-14 15:45:24,788 - DEBUG - Starting new HTTPS connection (1): www.malaysiakini.com:443\n",
      "2020-05-14 15:45:25,024 - DEBUG - https://www.malaysiakini.com:443 \"GET /news/442571 HTTP/1.1\" 200 None\n",
      "2020-05-14 15:45:25,131 - DEBUG - Starting new HTTPS connection (1): www.malaysiakini.com:443\n",
      "2020-05-14 15:45:25,207 - DEBUG - https://www.malaysiakini.com:443 \"GET /news/442571 HTTP/1.1\" 200 None\n",
      "2020-05-14 15:45:25,328 - DEBUG - Starting new HTTP connection (1): www.astroawani.com:80\n"
     ]
    },
    {
     "name": "stdout",
     "output_type": "stream",
     "text": [
      "found BM/ID article\n"
     ]
    },
    {
     "name": "stderr",
     "output_type": "stream",
     "text": [
      "2020-05-14 15:45:26,670 - DEBUG - http://www.astroawani.com:80 \"GET /berita-dunia/isu-baitulmaqdis-tugas-berat-turki-yakinkan-negara-arab-untuk-rapatkan-saf-162718 HTTP/1.1\" 200 17648\n",
      "2020-05-14 15:45:26,839 - DEBUG - Starting new HTTPS connection (1): www.indozone.id:443\n",
      "2020-05-14 15:45:34,572 - DEBUG - https://www.indozone.id:443 \"GET /news/aPs0OZ/ramai-isu-arab-saudi-batalkan-haji-kemenag-angkat-bicara HTTP/1.1\" 200 15338\n",
      "2020-05-14 15:45:34,746 - DEBUG - Starting new HTTPS connection (1): www.bbc.com:443\n",
      "2020-05-14 15:45:34,847 - DEBUG - https://www.bbc.com:443 \"GET /indonesia/dunia-45974656 HTTP/1.1\" 200 42051\n",
      "2020-05-14 15:45:35,022 - DEBUG - Starting new HTTPS connection (1): www.malaysiakini.com:443\n",
      "2020-05-14 15:45:35,262 - DEBUG - https://www.malaysiakini.com:443 \"GET /news/504479 HTTP/1.1\" 200 None\n",
      "2020-05-14 15:45:35,354 - DEBUG - Starting new HTTPS connection (1): www.malaysiakini.com:443\n",
      "2020-05-14 15:45:35,435 - DEBUG - https://www.malaysiakini.com:443 \"GET /news/504479 HTTP/1.1\" 200 None\n"
     ]
    },
    {
     "name": "stdout",
     "output_type": "stream",
     "text": [
      "found BM/ID article\n"
     ]
    },
    {
     "name": "stderr",
     "output_type": "stream",
     "text": [
      "2020-05-14 15:45:45,539 - DEBUG - Starting new HTTPS connection (1): www.google.com.my:443\n",
      "2020-05-14 15:45:45,700 - DEBUG - https://www.google.com.my:443 \"GET /search?q=isu+arab&source=lnt&tbs=cdr%3A1%2Ccd_min%3A2000%2Ccd_max%3A2021&tbm=nws&start=90 HTTP/1.1\" 200 None\n",
      "2020-05-14 15:45:46,773 - DEBUG - utf-8  confidence = 0.99\n",
      "2020-05-14 15:45:46,774 - DEBUG - SHIFT_JIS Japanese confidence = 0.01\n",
      "2020-05-14 15:45:46,774 - DEBUG - EUC-JP Japanese confidence = 0.01\n",
      "2020-05-14 15:45:46,775 - DEBUG - GB2312 Chinese confidence = 0.01\n",
      "2020-05-14 15:45:46,776 - DEBUG - EUC-KR Korean confidence = 0.01\n",
      "2020-05-14 15:45:46,776 - DEBUG - CP949 Korean confidence = 0.01\n",
      "2020-05-14 15:45:46,777 - DEBUG - Big5 Chinese confidence = 0.01\n",
      "2020-05-14 15:45:46,777 - DEBUG - EUC-TW Taiwan confidence = 0.01\n",
      "2020-05-14 15:45:46,778 - DEBUG - windows-1251 Russian confidence = 0.01\n",
      "2020-05-14 15:45:46,779 - DEBUG - KOI8-R Russian confidence = 0.01\n",
      "2020-05-14 15:45:46,779 - DEBUG - ISO-8859-5 Russian confidence = 0.01\n",
      "2020-05-14 15:45:46,781 - DEBUG - MacCyrillic Russian confidence = 0.01\n",
      "2020-05-14 15:45:46,781 - DEBUG - IBM866 Russian confidence = 0.01\n",
      "2020-05-14 15:45:46,783 - DEBUG - IBM855 Russian confidence = 0.01\n",
      "2020-05-14 15:45:46,784 - DEBUG - ISO-8859-7 Greek confidence = 0.01\n",
      "2020-05-14 15:45:46,788 - DEBUG - windows-1253 Greek confidence = 0.01\n",
      "2020-05-14 15:45:46,789 - DEBUG - ISO-8859-5 Bulgairan confidence = 0.01\n",
      "2020-05-14 15:45:46,790 - DEBUG - windows-1251 Bulgarian confidence = 0.01\n",
      "2020-05-14 15:45:46,790 - DEBUG - TIS-620 Thai confidence = 0.01\n",
      "2020-05-14 15:45:46,791 - DEBUG - ISO-8859-9 Turkish confidence = 0.413068458586936\n",
      "2020-05-14 15:45:46,797 - DEBUG - windows-1255 Hebrew confidence = 0.0\n",
      "2020-05-14 15:45:46,798 - DEBUG - windows-1255 Hebrew confidence = 0.0\n",
      "2020-05-14 15:45:46,799 - DEBUG - windows-1255 Hebrew confidence = 0.0\n",
      "2020-05-14 15:45:46,799 - DEBUG - utf-8  confidence = 0.99\n",
      "2020-05-14 15:45:46,800 - DEBUG - SHIFT_JIS Japanese confidence = 0.01\n",
      "2020-05-14 15:45:46,801 - DEBUG - EUC-JP Japanese confidence = 0.01\n",
      "2020-05-14 15:45:46,802 - DEBUG - GB2312 Chinese confidence = 0.01\n",
      "2020-05-14 15:45:46,802 - DEBUG - EUC-KR Korean confidence = 0.01\n",
      "2020-05-14 15:45:46,803 - DEBUG - CP949 Korean confidence = 0.01\n",
      "2020-05-14 15:45:46,804 - DEBUG - Big5 Chinese confidence = 0.01\n",
      "2020-05-14 15:45:46,804 - DEBUG - EUC-TW Taiwan confidence = 0.01\n",
      "2020-05-14 15:45:46,885 - DEBUG - Starting new HTTP connection (1): www.astroawani.com:80\n",
      "2020-05-14 15:45:48,174 - DEBUG - http://www.astroawani.com:80 \"GET /berita-dunia/palestin-yakin-dunia-arab-sokong-perjuangannya-tuntut-keadilan-173022 HTTP/1.1\" 200 17308\n",
      "2020-05-14 15:45:48,292 - DEBUG - Starting new HTTP connection (1): www.astroawani.com:80\n",
      "2020-05-14 15:45:48,468 - DEBUG - http://www.astroawani.com:80 \"GET /berita-dunia/palestin-yakin-dunia-arab-sokong-perjuangannya-tuntut-keadilan-173022 HTTP/1.1\" 200 17308\n"
     ]
    },
    {
     "name": "stdout",
     "output_type": "stream",
     "text": [
      "found BM/ID article\n"
     ]
    },
    {
     "name": "stderr",
     "output_type": "stream",
     "text": [
      "2020-05-14 15:45:48,590 - DEBUG - Starting new HTTPS connection (1): www.sinarharian.com.my:443\n",
      "2020-05-14 15:45:49,403 - DEBUG - https://www.sinarharian.com.my:443 \"GET /article/24532/BERITA/Nasional/Malaysia-sertai-Misi-Ekonomi-Minyak-Sawit-di-Arab-Saudi-Isnin-ini HTTP/1.1\" 200 None\n",
      "2020-05-14 15:45:49,561 - DEBUG - Starting new HTTPS connection (1): www.liputan6.com:443\n",
      "2020-05-14 15:45:50,244 - DEBUG - https://www.liputan6.com:443 \"GET /global/read/3674780/ri-arab-saudi-bahas-penyelesaian-isu-perlindungan-tki-dan-insiden-crane-jatuh HTTP/1.1\" 200 None\n",
      "2020-05-14 15:45:50,487 - DEBUG - Starting new HTTPS connection (1): www.liputan6.com:443\n"
     ]
    },
    {
     "name": "stdout",
     "output_type": "stream",
     "text": [
      "found BM/ID article\n"
     ]
    },
    {
     "name": "stderr",
     "output_type": "stream",
     "text": [
      "2020-05-14 15:45:51,266 - DEBUG - https://www.liputan6.com:443 \"GET /global/read/3674780/ri-arab-saudi-bahas-penyelesaian-isu-perlindungan-tki-dan-insiden-crane-jatuh HTTP/1.1\" 200 None\n",
      "2020-05-14 15:45:51,589 - DEBUG - Starting new HTTP connection (1): www.astroawani.com:80\n",
      "2020-05-14 15:45:52,782 - DEBUG - http://www.astroawani.com:80 \"GET /berita-malaysia/raja-arab-saudi-ucap-tahniah-kepada-tun-mahathir-175471 HTTP/1.1\" 200 16386\n",
      "2020-05-14 15:45:52,903 - DEBUG - Starting new HTTPS connection (1): www.malaysiakini.com:443\n",
      "2020-05-14 15:45:53,185 - DEBUG - https://www.malaysiakini.com:443 \"GET /news/521850 HTTP/1.1\" 200 None\n",
      "2020-05-14 15:45:53,294 - DEBUG - Starting new HTTPS connection (1): www.liputan6.com:443\n",
      "2020-05-14 15:45:53,833 - DEBUG - https://www.liputan6.com:443 \"GET /global/read/3970373/tampil-di-cover-majalah-bergengsi-arab-saudi-jokowi-bahas-isu-terorisme HTTP/1.1\" 200 None\n",
      "2020-05-14 15:45:54,091 - DEBUG - Starting new HTTPS connection (1): www.liputan6.com:443\n",
      "2020-05-14 15:45:54,219 - DEBUG - https://www.liputan6.com:443 \"GET /global/read/3970373/tampil-di-cover-majalah-bergengsi-arab-saudi-jokowi-bahas-isu-terorisme HTTP/1.1\" 200 75041\n"
     ]
    },
    {
     "name": "stdout",
     "output_type": "stream",
     "text": [
      "found BM/ID article\n"
     ]
    },
    {
     "name": "stderr",
     "output_type": "stream",
     "text": [
      "2020-05-14 15:45:54,474 - DEBUG - Starting new HTTP connection (1): www.astroawani.com:80\n",
      "2020-05-14 15:45:55,854 - DEBUG - http://www.astroawani.com:80 \"GET /berita-dunia/arab-saudi-gagal-bela-yaman-masyarakat-islam-australia-boikot-industri-haji-213669 HTTP/1.1\" 200 17460\n",
      "2020-05-14 15:45:55,970 - DEBUG - Starting new HTTP connection (1): www.astroawani.com:80\n",
      "2020-05-14 15:45:56,154 - DEBUG - http://www.astroawani.com:80 \"GET /berita-dunia/arab-saudi-gagal-bela-yaman-masyarakat-islam-australia-boikot-industri-haji-213669 HTTP/1.1\" 200 17460\n"
     ]
    },
    {
     "name": "stdout",
     "output_type": "stream",
     "text": [
      "found BM/ID article\n"
     ]
    },
    {
     "name": "stderr",
     "output_type": "stream",
     "text": [
      "2020-05-14 15:45:56,285 - DEBUG - Starting new HTTPS connection (1): news.detik.com:443\n",
      "2020-05-14 15:45:57,755 - DEBUG - https://news.detik.com:443 \"GET /internasional/d-4034548/pangeran-arab-saudi-serukan-kudeta-lengserkan-raja-salman HTTP/1.1\" 200 None\n",
      "2020-05-14 15:45:57,965 - DEBUG - Starting new HTTPS connection (1): www.inews.id:443\n",
      "2020-05-14 15:45:59,056 - DEBUG - https://www.inews.id:443 \"GET /news/nasional/suasana-terkini-masjidil-haram-usai-arab-saudi-larang-sementara-umrah HTTP/1.1\" 200 None\n",
      "2020-05-14 15:45:59,157 - DEBUG - Starting new HTTPS connection (1): www.malaysiakini.com:443\n",
      "2020-05-14 15:45:59,399 - DEBUG - https://www.malaysiakini.com:443 \"GET /news/509544 HTTP/1.1\" 200 None\n",
      "2020-05-14 15:45:59,491 - DEBUG - Starting new HTTPS connection (1): www.malaysiakini.com:443\n",
      "2020-05-14 15:45:59,588 - DEBUG - https://www.malaysiakini.com:443 \"GET /news/509544 HTTP/1.1\" 200 None\n"
     ]
    },
    {
     "name": "stdout",
     "output_type": "stream",
     "text": [
      "found BM/ID article\n"
     ]
    },
    {
     "name": "stderr",
     "output_type": "stream",
     "text": [
      "2020-05-14 15:46:09,695 - DEBUG - Starting new HTTPS connection (1): www.google.com.my:443\n",
      "2020-05-14 15:46:09,813 - DEBUG - https://www.google.com.my:443 \"GET /search?q=isu+arab&source=lnt&tbs=cdr%3A1%2Ccd_min%3A2000%2Ccd_max%3A2021&tbm=nws&start=100 HTTP/1.1\" 200 None\n",
      "2020-05-14 15:46:10,979 - DEBUG - utf-8  confidence = 0.99\n",
      "2020-05-14 15:46:10,979 - DEBUG - SHIFT_JIS Japanese confidence = 0.01\n",
      "2020-05-14 15:46:10,980 - DEBUG - EUC-JP Japanese confidence = 0.01\n",
      "2020-05-14 15:46:10,980 - DEBUG - GB2312 Chinese confidence = 0.01\n",
      "2020-05-14 15:46:10,981 - DEBUG - EUC-KR Korean confidence = 0.01\n",
      "2020-05-14 15:46:10,981 - DEBUG - CP949 Korean confidence = 0.01\n",
      "2020-05-14 15:46:10,982 - DEBUG - Big5 Chinese confidence = 0.01\n",
      "2020-05-14 15:46:10,982 - DEBUG - EUC-TW Taiwan confidence = 0.01\n",
      "2020-05-14 15:46:10,983 - DEBUG - windows-1251 Russian confidence = 0.01\n",
      "2020-05-14 15:46:10,983 - DEBUG - KOI8-R Russian confidence = 0.01\n",
      "2020-05-14 15:46:10,984 - DEBUG - ISO-8859-5 Russian confidence = 0.01\n",
      "2020-05-14 15:46:10,984 - DEBUG - MacCyrillic Russian confidence = 0.0\n",
      "2020-05-14 15:46:10,985 - DEBUG - IBM866 Russian confidence = 0.0\n",
      "2020-05-14 15:46:10,986 - DEBUG - IBM855 Russian confidence = 0.01\n",
      "2020-05-14 15:46:10,986 - DEBUG - ISO-8859-7 Greek confidence = 0.0\n",
      "2020-05-14 15:46:10,988 - DEBUG - windows-1253 Greek confidence = 0.0\n",
      "2020-05-14 15:46:10,997 - DEBUG - ISO-8859-5 Bulgairan confidence = 0.01\n",
      "2020-05-14 15:46:10,998 - DEBUG - windows-1251 Bulgarian confidence = 0.01\n",
      "2020-05-14 15:46:10,999 - DEBUG - TIS-620 Thai confidence = 0.01\n",
      "2020-05-14 15:46:11,000 - DEBUG - ISO-8859-9 Turkish confidence = 0.41322361413246417\n",
      "2020-05-14 15:46:11,001 - DEBUG - windows-1255 Hebrew confidence = 0.0\n",
      "2020-05-14 15:46:11,002 - DEBUG - windows-1255 Hebrew confidence = 0.0\n",
      "2020-05-14 15:46:11,003 - DEBUG - windows-1255 Hebrew confidence = 0.0\n",
      "2020-05-14 15:46:11,004 - DEBUG - utf-8  confidence = 0.99\n",
      "2020-05-14 15:46:11,005 - DEBUG - SHIFT_JIS Japanese confidence = 0.01\n",
      "2020-05-14 15:46:11,005 - DEBUG - EUC-JP Japanese confidence = 0.01\n",
      "2020-05-14 15:46:11,006 - DEBUG - GB2312 Chinese confidence = 0.01\n",
      "2020-05-14 15:46:11,007 - DEBUG - EUC-KR Korean confidence = 0.01\n",
      "2020-05-14 15:46:11,008 - DEBUG - CP949 Korean confidence = 0.01\n",
      "2020-05-14 15:46:11,009 - DEBUG - Big5 Chinese confidence = 0.01\n",
      "2020-05-14 15:46:11,010 - DEBUG - EUC-TW Taiwan confidence = 0.01\n",
      "2020-05-14 15:46:11,148 - DEBUG - Starting new HTTPS connection (1): www.bharian.com.my:443\n",
      "2020-05-14 15:46:11,929 - DEBUG - https://www.bharian.com.my:443 \"GET /dunia/asia/2019/10/617743/imran-khan-bantu-selesai-isu-tehran-riyadh HTTP/1.1\" 200 None\n",
      "2020-05-14 15:46:12,070 - DEBUG - Starting new HTTPS connection (1): www.bharian.com.my:443\n",
      "2020-05-14 15:46:12,164 - DEBUG - https://www.bharian.com.my:443 \"GET /dunia/asia/2019/10/617743/imran-khan-bantu-selesai-isu-tehran-riyadh HTTP/1.1\" 200 None\n"
     ]
    },
    {
     "name": "stdout",
     "output_type": "stream",
     "text": [
      "found BM/ID article\n"
     ]
    },
    {
     "name": "stderr",
     "output_type": "stream",
     "text": [
      "2020-05-14 15:46:12,315 - DEBUG - Starting new HTTPS connection (1): www.sinarharian.com.my:443\n",
      "2020-05-14 15:46:12,680 - DEBUG - https://www.sinarharian.com.my:443 \"GET /article/14924/BERITA/Nasional/Malaysia-dihormati-negara-Arab-kerana-sokong-perjuangan-Palestin HTTP/1.1\" 200 None\n",
      "2020-05-14 15:46:12,825 - DEBUG - Starting new HTTPS connection (1): harakahdaily.net:443\n",
      "2020-05-14 15:46:16,129 - DEBUG - https://harakahdaily.net:443 \"GET /index.php/2020/01/07/benarnya-pendirian-presiden-pas/ HTTP/1.1\" 500 None\n",
      "2020-05-14 15:46:16,135 - DEBUG - Download failed on URL https://harakahdaily.net/index.php/2020/01/07/benarnya-pendirian-presiden-pas/ because of 500 Server Error: Internal Server Error for url: https://harakahdaily.net/index.php/2020/01/07/benarnya-pendirian-presiden-pas/\n",
      "2020-05-14 15:46:16,162 - DEBUG - Starting new HTTP connection (1): www.astroawani.com:80\n",
      "2020-05-14 15:46:17,724 - DEBUG - http://www.astroawani.com:80 \"GET /berita-dunia/yaman-bedil-barat-daya-jizan-di-arab-saudi-180899 HTTP/1.1\" 200 16574\n",
      "2020-05-14 15:46:17,844 - DEBUG - Starting new HTTP connection (1): www.astroawani.com:80\n",
      "2020-05-14 15:46:18,019 - DEBUG - http://www.astroawani.com:80 \"GET /berita-dunia/yaman-bedil-barat-daya-jizan-di-arab-saudi-180899 HTTP/1.1\" 200 16574\n"
     ]
    },
    {
     "name": "stdout",
     "output_type": "stream",
     "text": [
      "found BM/ID article\n"
     ]
    },
    {
     "name": "stderr",
     "output_type": "stream",
     "text": [
      "2020-05-14 15:46:18,162 - DEBUG - Starting new HTTPS connection (1): www.merdeka.com:443\n",
      "2020-05-14 15:46:18,285 - DEBUG - https://www.merdeka.com:443 \"GET /dunia/nicki-minaj-batalkan-konser-di-arab-saudi-karena-isu-pelanggaran-ham.html HTTP/1.1\" 200 None\n",
      "2020-05-14 15:46:18,370 - DEBUG - Starting new HTTPS connection (1): www.merdeka.com:443\n",
      "2020-05-14 15:46:18,478 - DEBUG - https://www.merdeka.com:443 \"GET /dunia/nicki-minaj-batalkan-konser-di-arab-saudi-karena-isu-pelanggaran-ham.html HTTP/1.1\" 200 None\n",
      "2020-05-14 15:46:18,563 - DEBUG - Starting new HTTPS connection (1): www.malaysiakini.com:443\n"
     ]
    },
    {
     "name": "stdout",
     "output_type": "stream",
     "text": [
      "found BM/ID article\n"
     ]
    },
    {
     "name": "stderr",
     "output_type": "stream",
     "text": [
      "2020-05-14 15:46:18,777 - DEBUG - https://www.malaysiakini.com:443 \"GET /news/402773 HTTP/1.1\" 200 None\n",
      "2020-05-14 15:46:18,873 - DEBUG - Starting new HTTPS connection (1): www.malaysiakini.com:443\n",
      "2020-05-14 15:46:18,953 - DEBUG - https://www.malaysiakini.com:443 \"GET /news/402773 HTTP/1.1\" 200 None\n",
      "2020-05-14 15:46:19,055 - DEBUG - Starting new HTTP connection (1): www.astroawani.com:80\n"
     ]
    },
    {
     "name": "stdout",
     "output_type": "stream",
     "text": [
      "found BM/ID article\n"
     ]
    },
    {
     "name": "stderr",
     "output_type": "stream",
     "text": [
      "2020-05-14 15:46:20,327 - DEBUG - http://www.astroawani.com:80 \"GET /berita-hiburan/selamat-berlepas-ke-jeddah-neelofa-bersyukur-dapat-selesaikan-isu-visa-214455 HTTP/1.1\" 200 16951\n",
      "2020-05-14 15:46:20,447 - DEBUG - Starting new HTTP connection (1): www.astroawani.com:80\n",
      "2020-05-14 15:46:20,634 - DEBUG - http://www.astroawani.com:80 \"GET /berita-hiburan/selamat-berlepas-ke-jeddah-neelofa-bersyukur-dapat-selesaikan-isu-visa-214455 HTTP/1.1\" 200 16951\n"
     ]
    },
    {
     "name": "stdout",
     "output_type": "stream",
     "text": [
      "found BM/ID article\n"
     ]
    },
    {
     "name": "stderr",
     "output_type": "stream",
     "text": [
      "2020-05-14 15:46:20,819 - DEBUG - Starting new HTTPS connection (1): news.okezone.com:443\n",
      "2020-05-14 15:46:21,513 - DEBUG - https://news.okezone.com:443 \"GET /read/2017/01/27/18/1602944/kunjungan-raja-salman-kedubes-arab-saudi-bantah-isu-di-media-sosial HTTP/1.1\" 200 None\n",
      "2020-05-14 15:46:21,658 - DEBUG - Starting new HTTPS connection (1): www.sinarharian.com.my:443\n",
      "2020-05-14 15:46:21,941 - DEBUG - https://www.sinarharian.com.my:443 \"GET /article/68593/GLOBAL/OIC-tolak-pelan-damai-berat-sebelah-Trump HTTP/1.1\" 200 None\n",
      "2020-05-14 15:46:22,076 - DEBUG - Starting new HTTPS connection (1): www.sinarharian.com.my:443\n",
      "2020-05-14 15:46:22,351 - DEBUG - https://www.sinarharian.com.my:443 \"GET /article/61654/KOLUMNIS/Persidangan-KL-dan-harapan-Islam HTTP/1.1\" 200 None\n",
      "2020-05-14 15:46:32,490 - DEBUG - Starting new HTTPS connection (1): www.google.com.my:443\n",
      "2020-05-14 15:46:32,611 - DEBUG - https://www.google.com.my:443 \"GET /search?q=isu+arab&source=lnt&tbs=cdr%3A1%2Ccd_min%3A2000%2Ccd_max%3A2021&tbm=nws&start=110 HTTP/1.1\" 200 None\n",
      "2020-05-14 15:46:33,821 - DEBUG - utf-8  confidence = 0.99\n",
      "2020-05-14 15:46:33,821 - DEBUG - SHIFT_JIS Japanese confidence = 0.01\n",
      "2020-05-14 15:46:33,822 - DEBUG - EUC-JP Japanese confidence = 0.01\n",
      "2020-05-14 15:46:33,822 - DEBUG - GB2312 Chinese confidence = 0.01\n",
      "2020-05-14 15:46:33,823 - DEBUG - EUC-KR Korean confidence = 0.01\n",
      "2020-05-14 15:46:33,823 - DEBUG - CP949 Korean confidence = 0.01\n",
      "2020-05-14 15:46:33,824 - DEBUG - Big5 Chinese confidence = 0.01\n",
      "2020-05-14 15:46:33,824 - DEBUG - EUC-TW Taiwan confidence = 0.01\n",
      "2020-05-14 15:46:33,824 - DEBUG - windows-1251 Russian confidence = 0.01\n",
      "2020-05-14 15:46:33,825 - DEBUG - KOI8-R Russian confidence = 0.01\n",
      "2020-05-14 15:46:33,826 - DEBUG - ISO-8859-5 Russian confidence = 0.01\n",
      "2020-05-14 15:46:33,826 - DEBUG - MacCyrillic Russian confidence = 0.0\n",
      "2020-05-14 15:46:33,827 - DEBUG - IBM866 Russian confidence = 0.0\n",
      "2020-05-14 15:46:33,827 - DEBUG - IBM855 Russian confidence = 0.01\n",
      "2020-05-14 15:46:33,828 - DEBUG - ISO-8859-7 Greek confidence = 0.0\n",
      "2020-05-14 15:46:33,828 - DEBUG - windows-1253 Greek confidence = 0.0\n",
      "2020-05-14 15:46:33,829 - DEBUG - ISO-8859-5 Bulgairan confidence = 0.01\n",
      "2020-05-14 15:46:33,829 - DEBUG - windows-1251 Bulgarian confidence = 0.01\n",
      "2020-05-14 15:46:33,830 - DEBUG - TIS-620 Thai confidence = 0.01\n",
      "2020-05-14 15:46:33,830 - DEBUG - ISO-8859-9 Turkish confidence = 0.41662131130321917\n",
      "2020-05-14 15:46:33,831 - DEBUG - windows-1255 Hebrew confidence = 0.0\n",
      "2020-05-14 15:46:33,832 - DEBUG - windows-1255 Hebrew confidence = 0.0\n",
      "2020-05-14 15:46:33,832 - DEBUG - windows-1255 Hebrew confidence = 0.0\n",
      "2020-05-14 15:46:33,833 - DEBUG - utf-8  confidence = 0.99\n",
      "2020-05-14 15:46:33,834 - DEBUG - SHIFT_JIS Japanese confidence = 0.01\n",
      "2020-05-14 15:46:33,834 - DEBUG - EUC-JP Japanese confidence = 0.01\n",
      "2020-05-14 15:46:33,835 - DEBUG - GB2312 Chinese confidence = 0.01\n",
      "2020-05-14 15:46:33,836 - DEBUG - EUC-KR Korean confidence = 0.01\n",
      "2020-05-14 15:46:33,836 - DEBUG - CP949 Korean confidence = 0.01\n",
      "2020-05-14 15:46:33,837 - DEBUG - Big5 Chinese confidence = 0.01\n",
      "2020-05-14 15:46:33,838 - DEBUG - EUC-TW Taiwan confidence = 0.01\n",
      "2020-05-14 15:46:33,898 - DEBUG - Starting new HTTPS connection (1): www.bharian.com.my:443\n",
      "2020-05-14 15:46:34,561 - DEBUG - https://www.bharian.com.my:443 \"GET /node/251417 HTTP/1.1\" 200 None\n",
      "2020-05-14 15:46:34,697 - DEBUG - Starting new HTTPS connection (1): www.bharian.com.my:443\n",
      "2020-05-14 15:46:34,803 - DEBUG - https://www.bharian.com.my:443 \"GET /node/251417 HTTP/1.1\" 200 None\n"
     ]
    },
    {
     "name": "stdout",
     "output_type": "stream",
     "text": [
      "found BM/ID article\n"
     ]
    },
    {
     "name": "stderr",
     "output_type": "stream",
     "text": [
      "2020-05-14 15:46:34,939 - DEBUG - Starting new HTTPS connection (1): news.detik.com:443\n",
      "2020-05-14 15:46:36,128 - DEBUG - https://news.detik.com:443 \"GET /internasional/d-3984231/fakta-di-balik-tembakan-di-istana-arab-saudi-yang-picu-isu-kudeta HTTP/1.1\" 200 None\n",
      "2020-05-14 15:46:36,364 - DEBUG - Starting new HTTPS connection (1): www.liputan6.com:443\n",
      "2020-05-14 15:46:36,834 - DEBUG - https://www.liputan6.com:443 \"GET /global/read/3691754/putra-mahkota-arab-saudi-alihkan-isu-jamal-khashoggi-ke-konflik-gaza HTTP/1.1\" 200 None\n",
      "2020-05-14 15:46:37,119 - DEBUG - Starting new HTTPS connection (1): www.liputan6.com:443\n",
      "2020-05-14 15:46:37,232 - DEBUG - https://www.liputan6.com:443 \"GET /global/read/3691754/putra-mahkota-arab-saudi-alihkan-isu-jamal-khashoggi-ke-konflik-gaza HTTP/1.1\" 200 75268\n"
     ]
    },
    {
     "name": "stdout",
     "output_type": "stream",
     "text": [
      "found BM/ID article\n"
     ]
    },
    {
     "name": "stderr",
     "output_type": "stream",
     "text": [
      "2020-05-14 15:46:37,486 - DEBUG - Starting new HTTPS connection (1): www.cnbcindonesia.com:443\n",
      "2020-05-14 15:46:38,463 - DEBUG - https://www.cnbcindonesia.com:443 \"GET /market/20200310082950-17-143654/perang-minyak-arab-saudi-vs-rusia-harga-minyak-jeblok-4 HTTP/1.1\" 200 None\n",
      "2020-05-14 15:46:38,646 - DEBUG - Starting new HTTPS connection (1): dunia.tempo.co:443\n",
      "2020-05-14 15:46:38,865 - DEBUG - https://dunia.tempo.co:443 \"GET /read/1206947/arab-saudi-tidak-inginkan-perang-lawan-iran HTTP/1.1\" 200 None\n",
      "2020-05-14 15:46:39,066 - DEBUG - Starting new HTTPS connection (1): dunia.tempo.co:443\n",
      "2020-05-14 15:46:39,254 - DEBUG - https://dunia.tempo.co:443 \"GET /read/1206947/arab-saudi-tidak-inginkan-perang-lawan-iran HTTP/1.1\" 200 None\n"
     ]
    },
    {
     "name": "stdout",
     "output_type": "stream",
     "text": [
      "found BM/ID article\n"
     ]
    },
    {
     "name": "stderr",
     "output_type": "stream",
     "text": [
      "2020-05-14 15:46:39,445 - DEBUG - Starting new HTTPS connection (1): www.cnbcindonesia.com:443\n",
      "2020-05-14 15:46:40,546 - DEBUG - https://www.cnbcindonesia.com:443 \"GET /news/20190415135952-4-66799/bukan-cuma-umroh-jokowi-juga-bahas-kilang-cilacap-di-arab HTTP/1.1\" 200 None\n",
      "2020-05-14 15:46:40,716 - DEBUG - Starting new HTTPS connection (1): www.bharian.com.my:443\n",
      "2020-05-14 15:46:41,350 - DEBUG - https://www.bharian.com.my:443 \"GET /dunia/asia/2020/04/676564/covid-19-arab-saudi-kuarantin-ribuan-orang-di-hotel HTTP/1.1\" 200 None\n",
      "2020-05-14 15:46:41,498 - DEBUG - Starting new HTTPS connection (1): www.bharian.com.my:443\n",
      "2020-05-14 15:46:41,579 - DEBUG - https://www.bharian.com.my:443 \"GET /dunia/asia/2020/04/676564/covid-19-arab-saudi-kuarantin-ribuan-orang-di-hotel HTTP/1.1\" 200 None\n"
     ]
    },
    {
     "name": "stdout",
     "output_type": "stream",
     "text": [
      "found BM/ID article\n"
     ]
    },
    {
     "name": "stderr",
     "output_type": "stream",
     "text": [
      "2020-05-14 15:46:41,744 - DEBUG - Starting new HTTPS connection (1): tirto.id:443\n",
      "2020-05-14 15:46:41,980 - DEBUG - https://tirto.id:443 \"GET /dubes-arab-saudi-sebut-nasib-rizieq-tengah-dinegosiasikan-ri-saudi-emiP HTTP/1.1\" 200 None\n",
      "2020-05-14 15:46:42,166 - DEBUG - Starting new HTTPS connection (1): www.sinarharian.com.my:443\n",
      "2020-05-14 15:46:42,580 - DEBUG - https://www.sinarharian.com.my:443 \"GET /article/15923/KOLUMNIS/Elok-bahas-isu-subsidi-haji HTTP/1.1\" 200 None\n",
      "2020-05-14 15:46:42,711 - DEBUG - Starting new HTTPS connection (1): www.sinarharian.com.my:443\n",
      "2020-05-14 15:46:43,471 - DEBUG - https://www.sinarharian.com.my:443 \"GET /article/62024/BERITA/Nasional/Isu-Negaraku-versi-Mandarin-tak-perlu-disiasat-Guan-Eng HTTP/1.1\" 200 None\n",
      "2020-05-14 15:46:53,597 - DEBUG - Starting new HTTPS connection (1): www.google.com.my:443\n",
      "2020-05-14 15:46:53,712 - DEBUG - https://www.google.com.my:443 \"GET /search?q=isu+arab&source=lnt&tbs=cdr%3A1%2Ccd_min%3A2000%2Ccd_max%3A2021&tbm=nws&start=120 HTTP/1.1\" 200 None\n",
      "2020-05-14 15:46:54,774 - DEBUG - utf-8  confidence = 0.99\n",
      "2020-05-14 15:46:54,775 - DEBUG - SHIFT_JIS Japanese confidence = 0.01\n",
      "2020-05-14 15:46:54,776 - DEBUG - EUC-JP Japanese confidence = 0.01\n",
      "2020-05-14 15:46:54,776 - DEBUG - GB2312 Chinese confidence = 0.01\n",
      "2020-05-14 15:46:54,777 - DEBUG - EUC-KR Korean confidence = 0.01\n",
      "2020-05-14 15:46:54,777 - DEBUG - CP949 Korean confidence = 0.01\n",
      "2020-05-14 15:46:54,778 - DEBUG - Big5 Chinese confidence = 0.01\n",
      "2020-05-14 15:46:54,779 - DEBUG - EUC-TW Taiwan confidence = 0.01\n",
      "2020-05-14 15:46:54,779 - DEBUG - windows-1251 Russian confidence = 0.01\n",
      "2020-05-14 15:46:54,779 - DEBUG - KOI8-R Russian confidence = 0.01\n",
      "2020-05-14 15:46:54,780 - DEBUG - ISO-8859-5 Russian confidence = 0.01\n",
      "2020-05-14 15:46:54,780 - DEBUG - MacCyrillic Russian confidence = 0.0\n",
      "2020-05-14 15:46:54,781 - DEBUG - IBM866 Russian confidence = 0.0\n",
      "2020-05-14 15:46:54,781 - DEBUG - IBM855 Russian confidence = 0.01\n",
      "2020-05-14 15:46:54,781 - DEBUG - ISO-8859-7 Greek confidence = 0.01\n",
      "2020-05-14 15:46:54,782 - DEBUG - windows-1253 Greek confidence = 0.01\n",
      "2020-05-14 15:46:54,782 - DEBUG - ISO-8859-5 Bulgairan confidence = 0.01\n",
      "2020-05-14 15:46:54,783 - DEBUG - windows-1251 Bulgarian confidence = 0.01\n",
      "2020-05-14 15:46:54,783 - DEBUG - TIS-620 Thai confidence = 0.01\n",
      "2020-05-14 15:46:54,784 - DEBUG - ISO-8859-9 Turkish confidence = 0.4139157069295459\n",
      "2020-05-14 15:46:54,784 - DEBUG - windows-1255 Hebrew confidence = 0.0\n",
      "2020-05-14 15:46:54,785 - DEBUG - windows-1255 Hebrew confidence = 0.0\n",
      "2020-05-14 15:46:54,785 - DEBUG - windows-1255 Hebrew confidence = 0.0\n",
      "2020-05-14 15:46:54,786 - DEBUG - utf-8  confidence = 0.99\n",
      "2020-05-14 15:46:54,786 - DEBUG - SHIFT_JIS Japanese confidence = 0.01\n",
      "2020-05-14 15:46:54,787 - DEBUG - EUC-JP Japanese confidence = 0.01\n",
      "2020-05-14 15:46:54,787 - DEBUG - GB2312 Chinese confidence = 0.01\n",
      "2020-05-14 15:46:54,788 - DEBUG - EUC-KR Korean confidence = 0.01\n",
      "2020-05-14 15:46:54,788 - DEBUG - CP949 Korean confidence = 0.01\n",
      "2020-05-14 15:46:54,789 - DEBUG - Big5 Chinese confidence = 0.01\n",
      "2020-05-14 15:46:54,789 - DEBUG - EUC-TW Taiwan confidence = 0.01\n",
      "2020-05-14 15:46:54,851 - DEBUG - Starting new HTTP connection (1): www.astroawani.com:80\n",
      "2020-05-14 15:46:56,168 - DEBUG - http://www.astroawani.com:80 \"GET /berita-dunia/arab-saudi-haramkan-tindakan-intip-telefon-pasangan-172044 HTTP/1.1\" 200 16929\n",
      "2020-05-14 15:46:56,287 - DEBUG - Starting new HTTP connection (1): www.astroawani.com:80\n",
      "2020-05-14 15:46:56,467 - DEBUG - http://www.astroawani.com:80 \"GET /berita-dunia/arab-saudi-haramkan-tindakan-intip-telefon-pasangan-172044 HTTP/1.1\" 200 16929\n"
     ]
    },
    {
     "name": "stdout",
     "output_type": "stream",
     "text": [
      "found BM/ID article\n"
     ]
    },
    {
     "name": "stderr",
     "output_type": "stream",
     "text": [
      "2020-05-14 15:46:56,611 - DEBUG - Starting new HTTPS connection (1): www.tribunnews.com:443\n",
      "2020-05-14 15:46:57,294 - DEBUG - https://www.tribunnews.com:443 \"GET /bisnis/2017/03/02/11-kesepakatan-diteken-pemerintah-ri-dan-arab-saudi HTTP/1.1\" 200 31226\n",
      "2020-05-14 15:46:57,453 - DEBUG - Starting new HTTP connection (1): www.astroawani.com:80\n",
      "2020-05-14 15:46:58,628 - DEBUG - http://www.astroawani.com:80 \"GET /berita-malaysia/perbicaraan-src-derma-kontroversi-rm2-6-bilion-dari-arab-saudi-timbul-206424 HTTP/1.1\" 200 17400\n",
      "2020-05-14 15:46:58,756 - DEBUG - Starting new HTTP connection (1): www.astroawani.com:80\n",
      "2020-05-14 15:46:58,936 - DEBUG - http://www.astroawani.com:80 \"GET /berita-malaysia/perbicaraan-src-derma-kontroversi-rm2-6-bilion-dari-arab-saudi-timbul-206424 HTTP/1.1\" 200 17400\n"
     ]
    },
    {
     "name": "stdout",
     "output_type": "stream",
     "text": [
      "found BM/ID article\n"
     ]
    },
    {
     "name": "stderr",
     "output_type": "stream",
     "text": [
      "2020-05-14 15:46:59,081 - DEBUG - Starting new HTTPS connection (1): kabar24.bisnis.com:443\n",
      "2020-05-14 15:46:59,752 - DEBUG - https://kabar24.bisnis.com:443 \"GET /read/20200302/15/1207857/umrah-ditutup-gara-gara-virus-corona-bagaimana-nasib-ibadah-haji-2020 HTTP/1.1\" 200 None\n",
      "2020-05-14 15:46:59,910 - DEBUG - Starting new HTTPS connection (1): kabar24.bisnis.com:443\n"
     ]
    },
    {
     "name": "stdout",
     "output_type": "stream",
     "text": [
      "found BM/ID article\n"
     ]
    },
    {
     "name": "stderr",
     "output_type": "stream",
     "text": [
      "2020-05-14 15:47:00,479 - DEBUG - https://kabar24.bisnis.com:443 \"GET /read/20200302/15/1207857/umrah-ditutup-gara-gara-virus-corona-bagaimana-nasib-ibadah-haji-2020 HTTP/1.1\" 200 None\n",
      "2020-05-14 15:47:30,641 - DEBUG - Starting new HTTPS connection (1): jateng.tribunnews.com:443\n",
      "2020-05-14 15:47:31,188 - DEBUG - https://jateng.tribunnews.com:443 \"GET /2018/11/07/pengacararizieqshihab-ungkap-soal-isu-penangkapan-dan-pemasangan-bendera-di-arab-saudi HTTP/1.1\" 200 28372\n",
      "2020-05-14 15:47:31,346 - DEBUG - Starting new HTTPS connection (1): news.detik.com:443\n",
      "2020-05-14 15:47:33,101 - DEBUG - https://news.detik.com:443 \"GET /internasional/d-4871303/perawat-asal-india-positif-terkena-virus-corona-di-arab-saudi HTTP/1.1\" 200 None\n",
      "2020-05-14 15:47:39,344 - DEBUG - Starting new HTTPS connection (1): www.bbc.com:443\n",
      "2020-05-14 15:47:39,468 - DEBUG - https://www.bbc.com:443 \"GET /indonesia/dunia-49902217 HTTP/1.1\" 200 59143\n",
      "2020-05-14 15:47:39,843 - DEBUG - Starting new HTTP connection (1): www.astroawani.com:80\n",
      "2020-05-14 15:47:41,118 - DEBUG - http://www.astroawani.com:80 \"GET /berita-dunia/pawagam-pertama-arab-saudi-dibuka-bulan-depan-172114 HTTP/1.1\" 200 16801\n",
      "2020-05-14 15:47:41,240 - DEBUG - Starting new HTTP connection (1): www.astroawani.com:80\n",
      "2020-05-14 15:47:41,433 - DEBUG - http://www.astroawani.com:80 \"GET /berita-dunia/pawagam-pertama-arab-saudi-dibuka-bulan-depan-172114 HTTP/1.1\" 200 16801\n"
     ]
    },
    {
     "name": "stdout",
     "output_type": "stream",
     "text": [
      "found BM/ID article\n"
     ]
    },
    {
     "name": "stderr",
     "output_type": "stream",
     "text": [
      "2020-05-14 15:47:41,576 - DEBUG - Starting new HTTPS connection (1): mojok.co:443\n",
      "2020-05-14 15:47:43,886 - DEBUG - https://mojok.co:443 \"GET /red/rame/kilas/habib-rizieq-dianggap-menebar-fitnah-terkait-isu-kampanye-menteri-luar-negeri-di-arab-saudi/ HTTP/1.1\" 200 None\n",
      "2020-05-14 15:47:44,098 - DEBUG - Starting new HTTPS connection (1): www.sinarharian.com.my:443\n",
      "2020-05-14 15:47:44,500 - DEBUG - https://www.sinarharian.com.my:443 \"GET /article/40837/GLOBAL/Restoran-halal-Beijing-diarah-turunkan-simbol-ada-kaitan-Islam HTTP/1.1\" 200 None\n",
      "2020-05-14 15:47:54,631 - DEBUG - Starting new HTTPS connection (1): www.google.com.my:443\n",
      "2020-05-14 15:47:54,774 - DEBUG - https://www.google.com.my:443 \"GET /search?q=isu+arab&source=lnt&tbs=cdr%3A1%2Ccd_min%3A2000%2Ccd_max%3A2021&tbm=nws&start=130 HTTP/1.1\" 200 None\n",
      "2020-05-14 15:47:55,860 - DEBUG - utf-8  confidence = 0.99\n",
      "2020-05-14 15:47:55,861 - DEBUG - SHIFT_JIS Japanese confidence = 0.01\n",
      "2020-05-14 15:47:55,861 - DEBUG - EUC-JP Japanese confidence = 0.01\n",
      "2020-05-14 15:47:55,862 - DEBUG - GB2312 Chinese confidence = 0.01\n",
      "2020-05-14 15:47:55,862 - DEBUG - EUC-KR Korean confidence = 0.01\n",
      "2020-05-14 15:47:55,863 - DEBUG - CP949 Korean confidence = 0.01\n",
      "2020-05-14 15:47:55,863 - DEBUG - Big5 Chinese confidence = 0.01\n",
      "2020-05-14 15:47:55,864 - DEBUG - EUC-TW Taiwan confidence = 0.01\n",
      "2020-05-14 15:47:55,864 - DEBUG - windows-1251 Russian confidence = 0.01\n",
      "2020-05-14 15:47:55,865 - DEBUG - KOI8-R Russian confidence = 0.01\n",
      "2020-05-14 15:47:55,865 - DEBUG - ISO-8859-5 Russian confidence = 0.01\n",
      "2020-05-14 15:47:55,865 - DEBUG - MacCyrillic Russian confidence = 0.0\n",
      "2020-05-14 15:47:55,866 - DEBUG - IBM866 Russian confidence = 0.0\n",
      "2020-05-14 15:47:55,867 - DEBUG - IBM855 Russian confidence = 0.01\n",
      "2020-05-14 15:47:55,868 - DEBUG - ISO-8859-7 Greek confidence = 0.01\n",
      "2020-05-14 15:47:55,869 - DEBUG - windows-1253 Greek confidence = 0.01\n",
      "2020-05-14 15:47:55,869 - DEBUG - ISO-8859-5 Bulgairan confidence = 0.01\n",
      "2020-05-14 15:47:55,870 - DEBUG - windows-1251 Bulgarian confidence = 0.01\n",
      "2020-05-14 15:47:55,870 - DEBUG - TIS-620 Thai confidence = 0.01\n",
      "2020-05-14 15:47:55,871 - DEBUG - ISO-8859-9 Turkish confidence = 0.4177343743708675\n",
      "2020-05-14 15:47:55,871 - DEBUG - windows-1255 Hebrew confidence = 0.0\n",
      "2020-05-14 15:47:55,872 - DEBUG - windows-1255 Hebrew confidence = 0.0\n",
      "2020-05-14 15:47:55,872 - DEBUG - windows-1255 Hebrew confidence = 0.0\n",
      "2020-05-14 15:47:55,873 - DEBUG - utf-8  confidence = 0.99\n",
      "2020-05-14 15:47:55,873 - DEBUG - SHIFT_JIS Japanese confidence = 0.01\n",
      "2020-05-14 15:47:55,874 - DEBUG - EUC-JP Japanese confidence = 0.01\n",
      "2020-05-14 15:47:55,874 - DEBUG - GB2312 Chinese confidence = 0.01\n",
      "2020-05-14 15:47:55,875 - DEBUG - EUC-KR Korean confidence = 0.01\n",
      "2020-05-14 15:47:55,875 - DEBUG - CP949 Korean confidence = 0.01\n",
      "2020-05-14 15:47:55,876 - DEBUG - Big5 Chinese confidence = 0.01\n",
      "2020-05-14 15:47:55,876 - DEBUG - EUC-TW Taiwan confidence = 0.01\n",
      "2020-05-14 15:47:55,933 - DEBUG - Starting new HTTP connection (1): www.astroawani.com:80\n",
      "2020-05-14 15:47:57,198 - DEBUG - http://www.astroawani.com:80 \"GET /berita-malaysia/wisma-putra-tumpu-isu-covid-19-233311 HTTP/1.1\" 200 17185\n",
      "2020-05-14 15:47:57,339 - DEBUG - Starting new HTTPS connection (1): www.bharian.com.my:443\n",
      "2020-05-14 15:47:58,244 - DEBUG - https://www.bharian.com.my:443 \"GET /berita/nasional/2020/01/650059/th-tanggung-kos-visa-jemaah-haji HTTP/1.1\" 200 None\n",
      "2020-05-14 15:47:58,380 - DEBUG - Starting new HTTPS connection (1): www.bharian.com.my:443\n",
      "2020-05-14 15:47:58,483 - DEBUG - https://www.bharian.com.my:443 \"GET /berita/nasional/2020/01/650059/th-tanggung-kos-visa-jemaah-haji HTTP/1.1\" 200 None\n"
     ]
    },
    {
     "name": "stdout",
     "output_type": "stream",
     "text": [
      "found BM/ID article\n"
     ]
    },
    {
     "name": "stderr",
     "output_type": "stream",
     "text": [
      "2020-05-14 15:47:58,636 - DEBUG - Starting new HTTP connection (1): www.astroawani.com:80\n",
      "2020-05-14 15:47:59,757 - DEBUG - http://www.astroawani.com:80 \"GET /berita-dunia/krisis-fahaman-syiah-dan-sunni-di-yaman-makin-getir-162074 HTTP/1.1\" 200 18690\n",
      "2020-05-14 15:47:59,954 - DEBUG - Starting new HTTP connection (1): www.astroawani.com:80\n",
      "2020-05-14 15:48:00,150 - DEBUG - http://www.astroawani.com:80 \"GET /berita-dunia/krisis-fahaman-syiah-dan-sunni-di-yaman-makin-getir-162074 HTTP/1.1\" 200 18690\n"
     ]
    },
    {
     "name": "stdout",
     "output_type": "stream",
     "text": [
      "found BM/ID article\n"
     ]
    },
    {
     "name": "stderr",
     "output_type": "stream",
     "text": [
      "2020-05-14 15:48:00,340 - DEBUG - Starting new HTTPS connection (1): harakahdaily.net:443\n",
      "2020-05-14 15:48:01,101 - DEBUG - https://harakahdaily.net:443 \"GET /index.php/2020/01/26/sufi-sekular-dan-persaingan-pengaruh/ HTTP/1.1\" 500 None\n",
      "2020-05-14 15:48:01,106 - DEBUG - Download failed on URL https://harakahdaily.net/index.php/2020/01/26/sufi-sekular-dan-persaingan-pengaruh/ because of 500 Server Error: Internal Server Error for url: https://harakahdaily.net/index.php/2020/01/26/sufi-sekular-dan-persaingan-pengaruh/\n",
      "2020-05-14 15:48:01,110 - DEBUG - Starting new HTTPS connection (1): www.bharian.com.my:443\n",
      "2020-05-14 15:48:04,899 - DEBUG - https://www.bharian.com.my:443 \"GET /rencana/komentar/2020/02/653384/kepentingan-dunia-islam-bukan-hak-milik-negara-arab HTTP/1.1\" 200 None\n",
      "2020-05-14 15:48:05,040 - DEBUG - Starting new HTTPS connection (1): www.bharian.com.my:443\n",
      "2020-05-14 15:48:05,223 - DEBUG - https://www.bharian.com.my:443 \"GET /rencana/komentar/2020/02/653384/kepentingan-dunia-islam-bukan-hak-milik-negara-arab HTTP/1.1\" 200 None\n"
     ]
    },
    {
     "name": "stdout",
     "output_type": "stream",
     "text": [
      "found BM/ID article\n"
     ]
    },
    {
     "name": "stderr",
     "output_type": "stream",
     "text": [
      "2020-05-14 15:48:05,379 - DEBUG - Starting new HTTP connection (1): www.astroawani.com:80\n",
      "2020-05-14 15:48:06,721 - DEBUG - http://www.astroawani.com:80 \"GET /berita-dunia/kisah-pilu-si-pembantu-rumah-dihukum-mati-189918 HTTP/1.1\" 200 15287\n",
      "2020-05-14 15:48:06,844 - DEBUG - Starting new HTTP connection (1): www.astroawani.com:80\n",
      "2020-05-14 15:48:07,029 - DEBUG - http://www.astroawani.com:80 \"GET /berita-dunia/kisah-pilu-si-pembantu-rumah-dihukum-mati-189918 HTTP/1.1\" 200 15287\n"
     ]
    },
    {
     "name": "stdout",
     "output_type": "stream",
     "text": [
      "found BM/ID article\n"
     ]
    },
    {
     "name": "stderr",
     "output_type": "stream",
     "text": [
      "2020-05-14 15:48:07,174 - DEBUG - Starting new HTTPS connection (1): www.hmetro.com.my:443\n",
      "2020-05-14 15:48:13,093 - DEBUG - https://www.hmetro.com.my:443 \"GET /mutakhir/2020/02/540995/isu-sajat-banyak-hikmah-pu-amin HTTP/1.1\" 200 None\n",
      "2020-05-14 15:48:13,213 - DEBUG - Starting new HTTPS connection (1): www.hmetro.com.my:443\n"
     ]
    },
    {
     "name": "stdout",
     "output_type": "stream",
     "text": [
      "found BM/ID article\n"
     ]
    },
    {
     "name": "stderr",
     "output_type": "stream",
     "text": [
      "2020-05-14 15:48:18,307 - DEBUG - https://www.hmetro.com.my:443 \"GET /mutakhir/2020/02/540995/isu-sajat-banyak-hikmah-pu-amin HTTP/1.1\" 200 None\n",
      "2020-05-14 15:48:18,463 - DEBUG - Starting new HTTPS connection (1): www.liputan6.com:443\n",
      "2020-05-14 15:48:19,010 - DEBUG - https://www.liputan6.com:443 \"GET /global/read/3156974/ini-4-pangeran-arab-saudi-dengan-gaya-hidup-super-mewah HTTP/1.1\" 200 None\n",
      "2020-05-14 15:48:19,271 - DEBUG - Starting new HTTPS connection (1): www.liputan6.com:443\n",
      "2020-05-14 15:48:19,375 - DEBUG - https://www.liputan6.com:443 \"GET /global/read/3156974/ini-4-pangeran-arab-saudi-dengan-gaya-hidup-super-mewah HTTP/1.1\" 200 75459\n"
     ]
    },
    {
     "name": "stdout",
     "output_type": "stream",
     "text": [
      "found BM/ID article\n"
     ]
    },
    {
     "name": "stderr",
     "output_type": "stream",
     "text": [
      "2020-05-14 15:48:19,623 - DEBUG - Starting new HTTP connection (1): www.astroawani.com:80\n",
      "2020-05-14 15:48:21,128 - DEBUG - http://www.astroawani.com:80 \"GET /berita-dunia/arab-saudi-dah-banyak-berubah-kenapa-kita-tak-boleh-bersahabat-boris-johnson-169897 HTTP/1.1\" 200 16729\n",
      "2020-05-14 15:48:21,268 - DEBUG - Starting new HTTP connection (1): www.astroawani.com:80\n",
      "2020-05-14 15:48:21,443 - DEBUG - http://www.astroawani.com:80 \"GET /berita-dunia/arab-saudi-dah-banyak-berubah-kenapa-kita-tak-boleh-bersahabat-boris-johnson-169897 HTTP/1.1\" 200 16729\n"
     ]
    },
    {
     "name": "stdout",
     "output_type": "stream",
     "text": [
      "found BM/ID article\n"
     ]
    },
    {
     "name": "stderr",
     "output_type": "stream",
     "text": [
      "2020-05-14 15:48:51,580 - DEBUG - Starting new HTTPS connection (1): www.malaysiakini.com:443\n",
      "2020-05-14 15:48:52,843 - DEBUG - https://www.malaysiakini.com:443 \"GET /news/498687 HTTP/1.1\" 200 None\n",
      "2020-05-14 15:48:52,934 - DEBUG - Starting new HTTPS connection (1): www.malaysiakini.com:443\n",
      "2020-05-14 15:48:53,020 - DEBUG - https://www.malaysiakini.com:443 \"GET /news/498687 HTTP/1.1\" 200 None\n"
     ]
    },
    {
     "name": "stdout",
     "output_type": "stream",
     "text": [
      "found BM/ID article\n"
     ]
    },
    {
     "name": "stderr",
     "output_type": "stream",
     "text": [
      "2020-05-14 15:49:03,124 - DEBUG - Starting new HTTPS connection (1): www.google.com.my:443\n",
      "2020-05-14 15:49:03,263 - DEBUG - https://www.google.com.my:443 \"GET /search?q=isu+arab&source=lnt&tbs=cdr%3A1%2Ccd_min%3A2000%2Ccd_max%3A2021&tbm=nws&start=140 HTTP/1.1\" 200 None\n",
      "2020-05-14 15:49:04,402 - DEBUG - utf-8  confidence = 0.99\n",
      "2020-05-14 15:49:04,403 - DEBUG - SHIFT_JIS Japanese confidence = 0.01\n",
      "2020-05-14 15:49:04,403 - DEBUG - EUC-JP Japanese confidence = 0.01\n",
      "2020-05-14 15:49:04,404 - DEBUG - GB2312 Chinese confidence = 0.01\n",
      "2020-05-14 15:49:04,405 - DEBUG - EUC-KR Korean confidence = 0.01\n",
      "2020-05-14 15:49:04,406 - DEBUG - CP949 Korean confidence = 0.01\n",
      "2020-05-14 15:49:04,407 - DEBUG - Big5 Chinese confidence = 0.01\n",
      "2020-05-14 15:49:04,408 - DEBUG - EUC-TW Taiwan confidence = 0.01\n",
      "2020-05-14 15:49:04,408 - DEBUG - windows-1251 Russian confidence = 0.01\n",
      "2020-05-14 15:49:04,409 - DEBUG - KOI8-R Russian confidence = 0.01\n",
      "2020-05-14 15:49:04,410 - DEBUG - ISO-8859-5 Russian confidence = 0.01\n",
      "2020-05-14 15:49:04,410 - DEBUG - MacCyrillic Russian confidence = 0.01\n",
      "2020-05-14 15:49:04,411 - DEBUG - IBM866 Russian confidence = 0.01\n",
      "2020-05-14 15:49:04,412 - DEBUG - IBM855 Russian confidence = 0.01\n",
      "2020-05-14 15:49:04,412 - DEBUG - ISO-8859-7 Greek confidence = 0.01\n",
      "2020-05-14 15:49:04,413 - DEBUG - windows-1253 Greek confidence = 0.01\n",
      "2020-05-14 15:49:04,414 - DEBUG - ISO-8859-5 Bulgairan confidence = 0.01\n",
      "2020-05-14 15:49:04,414 - DEBUG - windows-1251 Bulgarian confidence = 0.01\n",
      "2020-05-14 15:49:04,415 - DEBUG - TIS-620 Thai confidence = 0.01\n",
      "2020-05-14 15:49:04,415 - DEBUG - ISO-8859-9 Turkish confidence = 0.4150192798293334\n",
      "2020-05-14 15:49:04,416 - DEBUG - windows-1255 Hebrew confidence = 0.0\n",
      "2020-05-14 15:49:04,416 - DEBUG - windows-1255 Hebrew confidence = 0.0\n",
      "2020-05-14 15:49:04,417 - DEBUG - windows-1255 Hebrew confidence = 0.0\n",
      "2020-05-14 15:49:04,418 - DEBUG - utf-8  confidence = 0.99\n",
      "2020-05-14 15:49:04,418 - DEBUG - SHIFT_JIS Japanese confidence = 0.01\n",
      "2020-05-14 15:49:04,419 - DEBUG - EUC-JP Japanese confidence = 0.01\n",
      "2020-05-14 15:49:04,419 - DEBUG - GB2312 Chinese confidence = 0.01\n",
      "2020-05-14 15:49:04,420 - DEBUG - EUC-KR Korean confidence = 0.01\n",
      "2020-05-14 15:49:04,420 - DEBUG - CP949 Korean confidence = 0.01\n",
      "2020-05-14 15:49:04,421 - DEBUG - Big5 Chinese confidence = 0.01\n",
      "2020-05-14 15:49:04,421 - DEBUG - EUC-TW Taiwan confidence = 0.01\n",
      "2020-05-14 15:49:04,611 - DEBUG - Starting new HTTPS connection (1): www.cnnindonesia.com:443\n",
      "2020-05-14 15:49:05,331 - DEBUG - https://www.cnnindonesia.com:443 \"GET /ekonomi/20190918092013-85-431450/tak-perlu-was-was-dengan-kondisi-surga-minyak-arab-saudi HTTP/1.1\" 200 None\n",
      "2020-05-14 15:49:05,738 - DEBUG - Starting new HTTP connection (1): www.astroawani.com:80\n",
      "2020-05-14 15:49:07,035 - DEBUG - http://www.astroawani.com:80 \"GET /berita-dunia/arab-saudi-bebaskan-ahli-perniagaan-terkemuka-sabih-al-masri-163218 HTTP/1.1\" 200 16913\n",
      "2020-05-14 15:49:07,154 - DEBUG - Starting new HTTP connection (1): www.astroawani.com:80\n",
      "2020-05-14 15:49:07,344 - DEBUG - http://www.astroawani.com:80 \"GET /berita-dunia/arab-saudi-bebaskan-ahli-perniagaan-terkemuka-sabih-al-masri-163218 HTTP/1.1\" 200 16913\n"
     ]
    },
    {
     "name": "stdout",
     "output_type": "stream",
     "text": [
      "found BM/ID article\n"
     ]
    },
    {
     "name": "stderr",
     "output_type": "stream",
     "text": [
      "2020-05-14 15:49:07,475 - DEBUG - Starting new HTTPS connection (1): news.detik.com:443\n",
      "2020-05-14 15:49:09,148 - DEBUG - https://news.detik.com:443 \"GET /berita/d-4622221/soal-fpi-akan-galang-dana-buat-rizieq-istana-tak-usah-lagi-bikin-isu HTTP/1.1\" 200 None\n",
      "2020-05-14 15:49:09,346 - DEBUG - Starting new HTTP connection (1): www.astroawani.com:80\n",
      "2020-05-14 15:49:10,576 - DEBUG - http://www.astroawani.com:80 \"GET /berita-hiburan/jemaah-malaysia-lelaki-berpakaian-wanita-di-makkah-polis-bagi-amaran-229704 HTTP/1.1\" 200 20169\n",
      "2020-05-14 15:49:10,705 - DEBUG - Starting new HTTP connection (1): www.astroawani.com:80\n"
     ]
    },
    {
     "name": "stdout",
     "output_type": "stream",
     "text": [
      "found BM/ID article\n"
     ]
    },
    {
     "name": "stderr",
     "output_type": "stream",
     "text": [
      "2020-05-14 15:49:10,919 - DEBUG - http://www.astroawani.com:80 \"GET /berita-hiburan/jemaah-malaysia-lelaki-berpakaian-wanita-di-makkah-polis-bagi-amaran-229704 HTTP/1.1\" 200 20169\n",
      "2020-05-14 15:49:11,054 - DEBUG - Starting new HTTPS connection (1): www.liputan6.com:443\n",
      "2020-05-14 15:49:11,465 - DEBUG - https://www.liputan6.com:443 \"GET /global/read/3990867/konflik-as-iran-memanas-arab-saudi-serukan-perlindungan-suplai-minyak-global HTTP/1.1\" 200 None\n",
      "2020-05-14 15:49:11,734 - DEBUG - Starting new HTTPS connection (1): www.liputan6.com:443\n"
     ]
    },
    {
     "name": "stdout",
     "output_type": "stream",
     "text": [
      "found BM/ID article\n"
     ]
    },
    {
     "name": "stderr",
     "output_type": "stream",
     "text": [
      "2020-05-14 15:49:12,142 - DEBUG - https://www.liputan6.com:443 \"GET /global/read/3990867/konflik-as-iran-memanas-arab-saudi-serukan-perlindungan-suplai-minyak-global HTTP/1.1\" 200 None\n",
      "2020-05-14 15:49:12,419 - DEBUG - Starting new HTTPS connection (1): news.detik.com:443\n",
      "2020-05-14 15:49:13,617 - DEBUG - https://news.detik.com:443 \"GET /berita/d-4370346/protes-keras-nu-dan-isu-dubes-saudi-baru HTTP/1.1\" 200 None\n",
      "2020-05-14 15:49:13,829 - DEBUG - Starting new HTTPS connection (1): m.malaysiakini.com:443\n",
      "2020-05-14 15:49:14,202 - DEBUG - https://m.malaysiakini.com:443 \"GET /news/493312 HTTP/1.1\" 200 None\n",
      "2020-05-14 15:49:14,280 - DEBUG - Starting new HTTPS connection (1): m.malaysiakini.com:443\n",
      "2020-05-14 15:49:14,371 - DEBUG - https://m.malaysiakini.com:443 \"GET /news/493312 HTTP/1.1\" 200 None\n"
     ]
    },
    {
     "name": "stdout",
     "output_type": "stream",
     "text": [
      "found BM/ID article\n"
     ]
    },
    {
     "name": "stderr",
     "output_type": "stream",
     "text": [
      "2020-05-14 15:49:14,487 - DEBUG - Starting new HTTPS connection (1): nasional.kompas.com:443\n",
      "2020-05-14 15:49:14,680 - DEBUG - https://nasional.kompas.com:443 \"GET /read/2018/03/20/12240941/zaini-dieksekusi-mati-arab-saudi-bargaining-position-pemerintah-dinilai HTTP/1.1\" 200 None\n",
      "2020-05-14 15:49:14,919 - DEBUG - Starting new HTTPS connection (1): nasional.kompas.com:443\n",
      "2020-05-14 15:49:15,012 - DEBUG - https://nasional.kompas.com:443 \"GET /read/2018/03/20/12240941/zaini-dieksekusi-mati-arab-saudi-bargaining-position-pemerintah-dinilai HTTP/1.1\" 200 None\n"
     ]
    },
    {
     "name": "stdout",
     "output_type": "stream",
     "text": [
      "found BM/ID article\n"
     ]
    },
    {
     "name": "stderr",
     "output_type": "stream",
     "text": [
      "2020-05-14 15:49:15,252 - DEBUG - Starting new HTTPS connection (1): www.malaysiakini.com:443\n",
      "2020-05-14 15:49:15,473 - DEBUG - https://www.malaysiakini.com:443 \"GET /news/243978 HTTP/1.1\" 200 None\n",
      "2020-05-14 15:49:15,566 - DEBUG - Starting new HTTPS connection (1): www.malaysiakini.com:443\n",
      "2020-05-14 15:49:15,664 - DEBUG - https://www.malaysiakini.com:443 \"GET /news/243978 HTTP/1.1\" 200 None\n"
     ]
    },
    {
     "name": "stdout",
     "output_type": "stream",
     "text": [
      "found BM/ID article\n"
     ]
    },
    {
     "name": "stderr",
     "output_type": "stream",
     "text": [
      "2020-05-14 15:49:15,779 - DEBUG - Starting new HTTPS connection (1): www.sinarharian.com.my:443\n",
      "2020-05-14 15:49:16,558 - DEBUG - https://www.sinarharian.com.my:443 \"GET /article/50753/BERITA/Nasional/Wanita-pergi-umrah-tanpa-mahram-Kemuka-segera-fatwa HTTP/1.1\" 200 None\n",
      "2020-05-14 15:49:26,692 - DEBUG - Starting new HTTPS connection (1): www.google.com.my:443\n",
      "2020-05-14 15:49:26,816 - DEBUG - https://www.google.com.my:443 \"GET /search?q=isu+arab&source=lnt&tbs=cdr%3A1%2Ccd_min%3A2000%2Ccd_max%3A2021&tbm=nws&start=150 HTTP/1.1\" 200 None\n",
      "2020-05-14 15:49:28,081 - DEBUG - utf-8  confidence = 0.99\n",
      "2020-05-14 15:49:28,081 - DEBUG - SHIFT_JIS Japanese confidence = 0.01\n",
      "2020-05-14 15:49:28,082 - DEBUG - EUC-JP Japanese confidence = 0.01\n",
      "2020-05-14 15:49:28,082 - DEBUG - GB2312 Chinese confidence = 0.01\n",
      "2020-05-14 15:49:28,082 - DEBUG - EUC-KR Korean confidence = 0.01\n",
      "2020-05-14 15:49:28,083 - DEBUG - CP949 Korean confidence = 0.01\n",
      "2020-05-14 15:49:28,083 - DEBUG - Big5 Chinese confidence = 0.01\n",
      "2020-05-14 15:49:28,084 - DEBUG - EUC-TW Taiwan confidence = 0.01\n",
      "2020-05-14 15:49:28,084 - DEBUG - windows-1251 Russian confidence = 0.01\n",
      "2020-05-14 15:49:28,085 - DEBUG - KOI8-R Russian confidence = 0.01\n",
      "2020-05-14 15:49:28,085 - DEBUG - ISO-8859-5 Russian confidence = 0.01\n",
      "2020-05-14 15:49:28,086 - DEBUG - MacCyrillic Russian confidence = 0.0\n",
      "2020-05-14 15:49:28,086 - DEBUG - IBM866 Russian confidence = 0.0\n",
      "2020-05-14 15:49:28,086 - DEBUG - IBM855 Russian confidence = 0.01\n",
      "2020-05-14 15:49:28,087 - DEBUG - ISO-8859-7 Greek confidence = 0.01\n",
      "2020-05-14 15:49:28,087 - DEBUG - windows-1253 Greek confidence = 0.01\n",
      "2020-05-14 15:49:28,088 - DEBUG - ISO-8859-5 Bulgairan confidence = 0.01\n",
      "2020-05-14 15:49:28,088 - DEBUG - windows-1251 Bulgarian confidence = 0.01\n",
      "2020-05-14 15:49:28,089 - DEBUG - TIS-620 Thai confidence = 0.01\n",
      "2020-05-14 15:49:28,090 - DEBUG - ISO-8859-9 Turkish confidence = 0.4135317095111681\n",
      "2020-05-14 15:49:28,090 - DEBUG - windows-1255 Hebrew confidence = 0.0\n",
      "2020-05-14 15:49:28,091 - DEBUG - windows-1255 Hebrew confidence = 0.0\n",
      "2020-05-14 15:49:28,091 - DEBUG - windows-1255 Hebrew confidence = 0.0\n",
      "2020-05-14 15:49:28,092 - DEBUG - utf-8  confidence = 0.99\n",
      "2020-05-14 15:49:28,092 - DEBUG - SHIFT_JIS Japanese confidence = 0.01\n",
      "2020-05-14 15:49:28,093 - DEBUG - EUC-JP Japanese confidence = 0.01\n",
      "2020-05-14 15:49:28,093 - DEBUG - GB2312 Chinese confidence = 0.01\n",
      "2020-05-14 15:49:28,094 - DEBUG - EUC-KR Korean confidence = 0.01\n",
      "2020-05-14 15:49:28,094 - DEBUG - CP949 Korean confidence = 0.01\n",
      "2020-05-14 15:49:28,095 - DEBUG - Big5 Chinese confidence = 0.01\n",
      "2020-05-14 15:49:28,095 - DEBUG - EUC-TW Taiwan confidence = 0.01\n",
      "2020-05-14 15:49:28,129 - DEBUG - Starting new HTTPS connection (1): www.sinarharian.com.my:443\n",
      "2020-05-14 15:49:28,439 - DEBUG - https://www.sinarharian.com.my:443 \"GET /article/50753/BERITA/Nasional/Wanita-pergi-umrah-tanpa-mahram-Kemuka-segera-fatwa HTTP/1.1\" 200 None\n",
      "2020-05-14 15:49:28,595 - DEBUG - Starting new HTTPS connection (1): www.bbc.com:443\n",
      "2020-05-14 15:49:28,696 - DEBUG - https://www.bbc.com:443 \"GET /indonesia/dunia-45804374 HTTP/1.1\" 200 40081\n",
      "2020-05-14 15:49:28,879 - DEBUG - Starting new HTTPS connection (1): www.bbc.com:443\n",
      "2020-05-14 15:49:28,968 - DEBUG - https://www.bbc.com:443 \"GET /indonesia/dunia/2016/09/160901_dunia_arabsaudi_khotbah HTTP/1.1\" 200 36986\n",
      "2020-05-14 15:49:29,108 - DEBUG - Starting new HTTPS connection (1): www.malaysiakini.com:443\n",
      "2020-05-14 15:49:29,339 - DEBUG - https://www.malaysiakini.com:443 \"GET /news/504568 HTTP/1.1\" 200 None\n",
      "2020-05-14 15:49:29,438 - DEBUG - Starting new HTTPS connection (1): www.malaysiakini.com:443\n",
      "2020-05-14 15:49:29,523 - DEBUG - https://www.malaysiakini.com:443 \"GET /news/504568 HTTP/1.1\" 200 None\n"
     ]
    },
    {
     "name": "stdout",
     "output_type": "stream",
     "text": [
      "found BM/ID article\n"
     ]
    },
    {
     "name": "stderr",
     "output_type": "stream",
     "text": [
      "2020-05-14 15:49:29,675 - DEBUG - Starting new HTTPS connection (1): waspada.co.id:443\n",
      "2020-05-14 15:49:33,047 - DEBUG - https://waspada.co.id:443 \"GET /2018/09/isu-pencekalan-rizieq-shihab-di-arab-saudi-ini-pernyataan-kbri/ HTTP/1.1\" 200 None\n",
      "2020-05-14 15:49:33,421 - DEBUG - Starting new HTTPS connection (1): www.malaysiakini.com:443\n",
      "2020-05-14 15:49:33,632 - DEBUG - https://www.malaysiakini.com:443 \"GET /news/490935 HTTP/1.1\" 200 None\n",
      "2020-05-14 15:49:33,729 - DEBUG - Starting new HTTPS connection (1): www.malaysiakini.com:443\n",
      "2020-05-14 15:49:33,811 - DEBUG - https://www.malaysiakini.com:443 \"GET /news/490935 HTTP/1.1\" 200 None\n",
      "2020-05-14 15:49:33,914 - DEBUG - Starting new HTTPS connection (1): news.detik.com:443\n"
     ]
    },
    {
     "name": "stdout",
     "output_type": "stream",
     "text": [
      "found BM/ID article\n"
     ]
    },
    {
     "name": "stderr",
     "output_type": "stream",
     "text": [
      "2020-05-14 15:49:35,010 - DEBUG - https://news.detik.com:443 \"GET /kolom/d-3779411/sikap-arab-saudi-terhadap-palestina HTTP/1.1\" 200 None\n",
      "2020-05-14 15:49:35,218 - DEBUG - Starting new HTTPS connection (1): www.malaysiakini.com:443\n",
      "2020-05-14 15:49:35,463 - DEBUG - https://www.malaysiakini.com:443 \"GET /news/489010 HTTP/1.1\" 200 None\n",
      "2020-05-14 15:49:35,560 - DEBUG - Starting new HTTPS connection (1): www.malaysiakini.com:443\n",
      "2020-05-14 15:49:35,649 - DEBUG - https://www.malaysiakini.com:443 \"GET /news/489010 HTTP/1.1\" 200 None\n"
     ]
    },
    {
     "name": "stdout",
     "output_type": "stream",
     "text": [
      "found BM/ID article\n"
     ]
    },
    {
     "name": "stderr",
     "output_type": "stream",
     "text": [
      "2020-05-14 15:49:35,787 - DEBUG - Starting new HTTPS connection (1): www.bharian.com.my:443\n",
      "2020-05-14 15:49:36,526 - DEBUG - https://www.bharian.com.my:443 \"GET /dunia/asia/2017/09/327910/arab-saudi-britain-tandatangani-kerjasama-ketenteraan HTTP/1.1\" 200 None\n",
      "2020-05-14 15:49:36,670 - DEBUG - Starting new HTTPS connection (1): www.bharian.com.my:443\n",
      "2020-05-14 15:49:36,755 - DEBUG - https://www.bharian.com.my:443 \"GET /dunia/asia/2017/09/327910/arab-saudi-britain-tandatangani-kerjasama-ketenteraan HTTP/1.1\" 200 None\n"
     ]
    },
    {
     "name": "stdout",
     "output_type": "stream",
     "text": [
      "found BM/ID article\n"
     ]
    },
    {
     "name": "stderr",
     "output_type": "stream",
     "text": [
      "2020-05-14 15:49:36,916 - DEBUG - Starting new HTTPS connection (1): www.malaysiakini.com:443\n",
      "2020-05-14 15:49:37,122 - DEBUG - https://www.malaysiakini.com:443 \"GET /news/487093 HTTP/1.1\" 200 None\n",
      "2020-05-14 15:49:37,214 - DEBUG - Starting new HTTPS connection (1): www.malaysiakini.com:443\n",
      "2020-05-14 15:49:37,298 - DEBUG - https://www.malaysiakini.com:443 \"GET /news/487093 HTTP/1.1\" 200 None\n"
     ]
    },
    {
     "name": "stdout",
     "output_type": "stream",
     "text": [
      "found BM/ID article\n"
     ]
    },
    {
     "name": "stderr",
     "output_type": "stream",
     "text": [
      "2020-05-14 15:49:47,403 - DEBUG - Starting new HTTPS connection (1): www.google.com.my:443\n",
      "2020-05-14 15:49:47,568 - DEBUG - https://www.google.com.my:443 \"GET /search?q=isu+arab&source=lnt&tbs=cdr%3A1%2Ccd_min%3A2000%2Ccd_max%3A2021&tbm=nws&start=160 HTTP/1.1\" 200 None\n",
      "2020-05-14 15:49:48,749 - DEBUG - utf-8  confidence = 0.99\n",
      "2020-05-14 15:49:48,750 - DEBUG - SHIFT_JIS Japanese confidence = 0.01\n",
      "2020-05-14 15:49:48,751 - DEBUG - EUC-JP Japanese confidence = 0.01\n",
      "2020-05-14 15:49:48,751 - DEBUG - GB2312 Chinese confidence = 0.01\n",
      "2020-05-14 15:49:48,751 - DEBUG - EUC-KR Korean confidence = 0.01\n",
      "2020-05-14 15:49:48,752 - DEBUG - CP949 Korean confidence = 0.01\n",
      "2020-05-14 15:49:48,752 - DEBUG - Big5 Chinese confidence = 0.01\n",
      "2020-05-14 15:49:48,753 - DEBUG - EUC-TW Taiwan confidence = 0.01\n",
      "2020-05-14 15:49:48,753 - DEBUG - windows-1251 Russian confidence = 0.01\n",
      "2020-05-14 15:49:48,754 - DEBUG - KOI8-R Russian confidence = 0.01\n",
      "2020-05-14 15:49:48,754 - DEBUG - ISO-8859-5 Russian confidence = 0.01\n",
      "2020-05-14 15:49:48,755 - DEBUG - MacCyrillic Russian confidence = 0.01\n",
      "2020-05-14 15:49:48,755 - DEBUG - IBM866 Russian confidence = 0.01\n",
      "2020-05-14 15:49:48,756 - DEBUG - IBM855 Russian confidence = 0.01\n",
      "2020-05-14 15:49:48,756 - DEBUG - ISO-8859-7 Greek confidence = 0.01\n",
      "2020-05-14 15:49:48,757 - DEBUG - windows-1253 Greek confidence = 0.01\n",
      "2020-05-14 15:49:48,757 - DEBUG - ISO-8859-5 Bulgairan confidence = 0.01\n",
      "2020-05-14 15:49:48,758 - DEBUG - windows-1251 Bulgarian confidence = 0.01\n",
      "2020-05-14 15:49:48,759 - DEBUG - TIS-620 Thai confidence = 0.01\n",
      "2020-05-14 15:49:48,759 - DEBUG - ISO-8859-9 Turkish confidence = 0.4150007112656528\n",
      "2020-05-14 15:49:48,759 - DEBUG - windows-1255 Hebrew confidence = 0.0\n",
      "2020-05-14 15:49:48,760 - DEBUG - windows-1255 Hebrew confidence = 0.0\n",
      "2020-05-14 15:49:48,760 - DEBUG - windows-1255 Hebrew confidence = 0.0\n",
      "2020-05-14 15:49:48,761 - DEBUG - utf-8  confidence = 0.99\n",
      "2020-05-14 15:49:48,761 - DEBUG - SHIFT_JIS Japanese confidence = 0.01\n",
      "2020-05-14 15:49:48,762 - DEBUG - EUC-JP Japanese confidence = 0.01\n",
      "2020-05-14 15:49:48,762 - DEBUG - GB2312 Chinese confidence = 0.01\n",
      "2020-05-14 15:49:48,763 - DEBUG - EUC-KR Korean confidence = 0.01\n",
      "2020-05-14 15:49:48,763 - DEBUG - CP949 Korean confidence = 0.01\n",
      "2020-05-14 15:49:48,764 - DEBUG - Big5 Chinese confidence = 0.01\n",
      "2020-05-14 15:49:48,764 - DEBUG - EUC-TW Taiwan confidence = 0.01\n",
      "2020-05-14 15:49:48,829 - DEBUG - Starting new HTTPS connection (1): prfmnews.pikiran-rakyat.com:443\n",
      "2020-05-14 15:49:49,092 - DEBUG - https://prfmnews.pikiran-rakyat.com:443 \"GET /mapay-kota/pr-13380964/masih-tunggu-kepastian-arab-saudi-kemenag-sudah-siapkan-2-skenario-terkait-ibadah-haji-tahun-ini HTTP/1.1\" 200 None\n",
      "2020-05-14 15:49:49,229 - DEBUG - Starting new HTTPS connection (1): news.detik.com:443\n",
      "2020-05-14 15:49:50,299 - DEBUG - https://news.detik.com:443 \"GET /internasional/d-4455814/raja-salman-marah-atas-kebijakan-baru-putra-mahkota-arab-saudi HTTP/1.1\" 200 None\n",
      "2020-05-14 15:49:53,575 - DEBUG - Starting new HTTPS connection (1): www.cnbcindonesia.com:443\n",
      "2020-05-14 15:49:54,812 - DEBUG - https://www.cnbcindonesia.com:443 \"GET /news/20190418110708-4-67519/kelar-pilpres-jokowi-gelar-rapat-bahas-investasi-arab-saudi HTTP/1.1\" 200 None\n",
      "2020-05-14 15:49:55,011 - DEBUG - Starting new HTTPS connection (1): www.tribunnews.com:443\n",
      "2020-05-14 15:49:55,573 - DEBUG - https://www.tribunnews.com:443 \"GET /nasional/2017/03/05/media-arab-tulis-kesan-raja-arab-terhadap-jokowi-seperti-apa-isinya HTTP/1.1\" 200 31412\n",
      "2020-05-14 15:49:55,762 - DEBUG - Starting new HTTPS connection (1): www.dw.com:443\n",
      "2020-05-14 15:49:57,415 - DEBUG - https://www.dw.com:443 \"GET /id/pertalian-racun-iran-dan-arab-saudi/g-18956857 HTTP/1.1\" 200 17421\n",
      "2020-05-14 15:49:57,608 - DEBUG - Starting new HTTPS connection (1): www.bharian.com.my:443\n",
      "2020-05-14 15:49:58,391 - DEBUG - https://www.bharian.com.my:443 \"GET /berita/nasional/2018/08/460954/th-dilarang-urus-jemaah-guna-visa-furada HTTP/1.1\" 200 None\n",
      "2020-05-14 15:49:58,528 - DEBUG - Starting new HTTPS connection (1): www.bharian.com.my:443\n",
      "2020-05-14 15:49:58,620 - DEBUG - https://www.bharian.com.my:443 \"GET /berita/nasional/2018/08/460954/th-dilarang-urus-jemaah-guna-visa-furada HTTP/1.1\" 200 None\n"
     ]
    },
    {
     "name": "stdout",
     "output_type": "stream",
     "text": [
      "found BM/ID article\n"
     ]
    },
    {
     "name": "stderr",
     "output_type": "stream",
     "text": [
      "2020-05-14 15:49:58,790 - DEBUG - Starting new HTTPS connection (1): kumparan.com:443\n",
      "2020-05-14 15:50:00,406 - DEBUG - https://kumparan.com:443 \"GET /kumparannews/memahami-kisruh-diplomatik-arab-saudi-dan-kanada-1533713342316384501 HTTP/1.1\" 200 None\n",
      "2020-05-14 15:50:00,698 - DEBUG - Starting new HTTP connection (1): www.astroawani.com:80\n",
      "2020-05-14 15:50:02,126 - DEBUG - http://www.astroawani.com:80 \"GET /berita-dunia/arab-saudi-sumbang-dana-500-juta-untuk-kajian-covid-19-241532 HTTP/1.1\" 200 16575\n",
      "2020-05-14 15:50:02,242 - DEBUG - Starting new HTTPS connection (1): www.tribunnews.com:443\n",
      "2020-05-14 15:50:02,658 - DEBUG - https://www.tribunnews.com:443 \"GET /nasional/2019/07/19/polemik-kepulangan-habib-rizieq-shihab-wiranto-beliau-langgar-aturan-di-arab-saudi HTTP/1.1\" 200 30245\n",
      "2020-05-14 15:50:02,840 - DEBUG - Starting new HTTPS connection (1): www.liputan6.com:443\n",
      "2020-05-14 15:50:03,483 - DEBUG - https://www.liputan6.com:443 \"GET /global/read/4081596/headline-aturan-baru-arab-saudi-longgarkan-hak-perempuan-fenomena-apa HTTP/1.1\" 200 None\n",
      "2020-05-14 15:50:03,775 - DEBUG - Starting new HTTPS connection (1): www.liputan6.com:443\n"
     ]
    },
    {
     "name": "stdout",
     "output_type": "stream",
     "text": [
      "found BM/ID article\n"
     ]
    },
    {
     "name": "stderr",
     "output_type": "stream",
     "text": [
      "2020-05-14 15:50:04,145 - DEBUG - https://www.liputan6.com:443 \"GET /global/read/4081596/headline-aturan-baru-arab-saudi-longgarkan-hak-perempuan-fenomena-apa HTTP/1.1\" 200 None\n",
      "2020-05-14 15:50:14,456 - DEBUG - Starting new HTTPS connection (1): www.google.com.my:443\n",
      "2020-05-14 15:50:14,583 - DEBUG - https://www.google.com.my:443 \"GET /search?q=isu+arab&source=lnt&tbs=cdr%3A1%2Ccd_min%3A2000%2Ccd_max%3A2021&tbm=nws&start=170 HTTP/1.1\" 200 None\n",
      "2020-05-14 15:50:15,692 - DEBUG - utf-8  confidence = 0.99\n",
      "2020-05-14 15:50:15,692 - DEBUG - SHIFT_JIS Japanese confidence = 0.01\n",
      "2020-05-14 15:50:15,693 - DEBUG - EUC-JP Japanese confidence = 0.01\n",
      "2020-05-14 15:50:15,693 - DEBUG - GB2312 Chinese confidence = 0.01\n",
      "2020-05-14 15:50:15,694 - DEBUG - EUC-KR Korean confidence = 0.01\n",
      "2020-05-14 15:50:15,694 - DEBUG - CP949 Korean confidence = 0.01\n",
      "2020-05-14 15:50:15,695 - DEBUG - Big5 Chinese confidence = 0.01\n",
      "2020-05-14 15:50:15,695 - DEBUG - EUC-TW Taiwan confidence = 0.01\n",
      "2020-05-14 15:50:15,695 - DEBUG - windows-1251 Russian confidence = 0.01\n",
      "2020-05-14 15:50:15,696 - DEBUG - KOI8-R Russian confidence = 0.01\n",
      "2020-05-14 15:50:15,697 - DEBUG - ISO-8859-5 Russian confidence = 0.01\n",
      "2020-05-14 15:50:15,697 - DEBUG - MacCyrillic Russian confidence = 0.01\n",
      "2020-05-14 15:50:15,698 - DEBUG - IBM866 Russian confidence = 0.01\n",
      "2020-05-14 15:50:15,698 - DEBUG - IBM855 Russian confidence = 0.01\n",
      "2020-05-14 15:50:15,699 - DEBUG - ISO-8859-7 Greek confidence = 0.01\n",
      "2020-05-14 15:50:15,699 - DEBUG - windows-1253 Greek confidence = 0.01\n",
      "2020-05-14 15:50:15,700 - DEBUG - ISO-8859-5 Bulgairan confidence = 0.01\n",
      "2020-05-14 15:50:15,701 - DEBUG - windows-1251 Bulgarian confidence = 0.01\n",
      "2020-05-14 15:50:15,701 - DEBUG - TIS-620 Thai confidence = 0.01\n",
      "2020-05-14 15:50:15,702 - DEBUG - ISO-8859-9 Turkish confidence = 0.4042654102828303\n",
      "2020-05-14 15:50:15,702 - DEBUG - windows-1255 Hebrew confidence = 0.0\n",
      "2020-05-14 15:50:15,703 - DEBUG - windows-1255 Hebrew confidence = 0.0\n",
      "2020-05-14 15:50:15,703 - DEBUG - windows-1255 Hebrew confidence = 0.0\n",
      "2020-05-14 15:50:15,704 - DEBUG - utf-8  confidence = 0.99\n",
      "2020-05-14 15:50:15,705 - DEBUG - SHIFT_JIS Japanese confidence = 0.01\n",
      "2020-05-14 15:50:15,705 - DEBUG - EUC-JP Japanese confidence = 0.01\n",
      "2020-05-14 15:50:15,706 - DEBUG - GB2312 Chinese confidence = 0.01\n",
      "2020-05-14 15:50:15,706 - DEBUG - EUC-KR Korean confidence = 0.01\n",
      "2020-05-14 15:50:15,707 - DEBUG - CP949 Korean confidence = 0.01\n",
      "2020-05-14 15:50:15,707 - DEBUG - Big5 Chinese confidence = 0.01\n",
      "2020-05-14 15:50:15,708 - DEBUG - EUC-TW Taiwan confidence = 0.01\n",
      "2020-05-14 15:50:15,741 - DEBUG - Starting new HTTPS connection (1): www.bharian.com.my:443\n",
      "2020-05-14 15:50:16,770 - DEBUG - https://www.bharian.com.my:443 \"GET /node/299102 HTTP/1.1\" 200 None\n",
      "2020-05-14 15:50:16,919 - DEBUG - Starting new HTTPS connection (1): www.bharian.com.my:443\n",
      "2020-05-14 15:50:17,077 - DEBUG - https://www.bharian.com.my:443 \"GET /node/299102 HTTP/1.1\" 200 None\n"
     ]
    },
    {
     "name": "stdout",
     "output_type": "stream",
     "text": [
      "found BM/ID article\n"
     ]
    },
    {
     "name": "stderr",
     "output_type": "stream",
     "text": [
      "2020-05-14 15:50:17,249 - DEBUG - Starting new HTTP connection (1): www.astroawani.com:80\n",
      "2020-05-14 15:50:18,408 - DEBUG - http://www.astroawani.com:80 \"GET /berita-dunia/ketegangan-politik-qatar-dan-negara-teluk-boleh-bawa-kerugian-berbilion-dolar-145203 HTTP/1.1\" 200 17298\n",
      "2020-05-14 15:50:18,521 - DEBUG - Starting new HTTP connection (1): www.astroawani.com:80\n",
      "2020-05-14 15:50:18,700 - DEBUG - http://www.astroawani.com:80 \"GET /berita-dunia/ketegangan-politik-qatar-dan-negara-teluk-boleh-bawa-kerugian-berbilion-dolar-145203 HTTP/1.1\" 200 17298\n"
     ]
    },
    {
     "name": "stdout",
     "output_type": "stream",
     "text": [
      "found BM/ID article\n"
     ]
    },
    {
     "name": "stderr",
     "output_type": "stream",
     "text": [
      "2020-05-14 15:50:18,819 - DEBUG - Starting new HTTPS connection (1): www.tribunnews.com:443\n",
      "2020-05-14 15:50:19,086 - DEBUG - https://www.tribunnews.com:443 \"GET /nasional/2019/12/04/kediaman-habib-rizieq-shihab-di-arab-saudi-selalu-ramai-dikunjungi-otoritas-setempat-tak-masalah HTTP/1.1\" 200 31077\n",
      "2020-05-14 15:50:19,243 - DEBUG - Starting new HTTPS connection (1): www.cnnindonesia.com:443\n",
      "2020-05-14 15:50:19,946 - DEBUG - https://www.cnnindonesia.com:443 \"GET /internasional/20181030185256-106-342715/tki-dieksekusi-mati-lsm-kritik-arab-saudi-dan-jokowi HTTP/1.1\" 200 None\n",
      "2020-05-14 15:50:20,248 - DEBUG - Starting new HTTPS connection (1): www.merdeka.com:443\n",
      "2020-05-14 15:50:34,260 - DEBUG - Download failed on URL https://www.merdeka.com/peristiwa/cerita-pedang-emas-isu-berlian-untuk-istri-jokowi-dari-raja-saudi.html because of HTTPSConnectionPool(host='www.merdeka.com', port=443): Max retries exceeded with url: /peristiwa/cerita-pedang-emas-isu-berlian-untuk-istri-jokowi-dari-raja-saudi.html (Caused by ConnectTimeoutError(<urllib3.connection.VerifiedHTTPSConnection object at 0x125bb4d90>, 'Connection to www.merdeka.com timed out. (connect timeout=7)'))\n",
      "2020-05-14 15:50:34,264 - DEBUG - Starting new HTTPS connection (1): www.liputan6.com:443\n",
      "2020-05-14 15:50:34,810 - DEBUG - https://www.liputan6.com:443 \"GET /global/read/4195431/masjidil-haram-dan-masjid-nabawi-dibuka-kembali-usai-sterilisasi-virus-corona HTTP/1.1\" 200 None\n",
      "2020-05-14 15:50:35,099 - DEBUG - Starting new HTTPS connection (1): www.liputan6.com:443\n"
     ]
    },
    {
     "name": "stdout",
     "output_type": "stream",
     "text": [
      "found BM/ID article\n"
     ]
    },
    {
     "name": "stderr",
     "output_type": "stream",
     "text": [
      "2020-05-14 15:50:35,629 - DEBUG - https://www.liputan6.com:443 \"GET /global/read/4195431/masjidil-haram-dan-masjid-nabawi-dibuka-kembali-usai-sterilisasi-virus-corona HTTP/1.1\" 200 None\n",
      "2020-05-14 15:50:35,889 - DEBUG - Starting new HTTPS connection (1): www.bharian.com.my:443\n",
      "2020-05-14 15:50:36,530 - DEBUG - https://www.bharian.com.my:443 \"GET /node/259518 HTTP/1.1\" 200 None\n",
      "2020-05-14 15:50:36,719 - DEBUG - Starting new HTTPS connection (1): www.bharian.com.my:443\n",
      "2020-05-14 15:50:36,793 - DEBUG - https://www.bharian.com.my:443 \"GET /node/259518 HTTP/1.1\" 200 None\n"
     ]
    },
    {
     "name": "stdout",
     "output_type": "stream",
     "text": [
      "found BM/ID article\n"
     ]
    },
    {
     "name": "stderr",
     "output_type": "stream",
     "text": [
      "2020-05-14 15:50:36,933 - DEBUG - Starting new HTTPS connection (1): harakahdaily.net:443\n",
      "2020-05-14 15:50:43,986 - DEBUG - Download failed on URL https://harakahdaily.net/index.php/2020/04/03/pemilihan-tuan-guru-sebagai-duta-khas-amat-tepat/ because of HTTPSConnectionPool(host='harakahdaily.net', port=443): Read timed out. (read timeout=7)\n",
      "2020-05-14 15:50:43,989 - DEBUG - Starting new HTTPS connection (1): www.malaysiakini.com:443\n",
      "2020-05-14 15:50:44,239 - DEBUG - https://www.malaysiakini.com:443 \"GET /news/385125 HTTP/1.1\" 200 None\n",
      "2020-05-14 15:50:44,338 - DEBUG - Starting new HTTPS connection (1): www.malaysiakini.com:443\n",
      "2020-05-14 15:50:44,413 - DEBUG - https://www.malaysiakini.com:443 \"GET /news/385125 HTTP/1.1\" 200 None\n",
      "2020-05-14 15:50:44,514 - DEBUG - Starting new HTTPS connection (1): harakahdaily.net:443\n"
     ]
    },
    {
     "name": "stdout",
     "output_type": "stream",
     "text": [
      "found BM/ID article\n"
     ]
    },
    {
     "name": "stderr",
     "output_type": "stream",
     "text": [
      "2020-05-14 15:50:51,568 - DEBUG - Download failed on URL https://harakahdaily.net/index.php/2017/12/03/konflik-yaman-antara-naratif-sunni-syiah-dan-geopolitik-kuasa-serantau/ because of HTTPSConnectionPool(host='harakahdaily.net', port=443): Read timed out. (read timeout=7)\n",
      "2020-05-14 15:51:01,593 - DEBUG - Starting new HTTPS connection (1): www.google.com.my:443\n",
      "2020-05-14 15:51:01,714 - DEBUG - https://www.google.com.my:443 \"GET /search?q=isu+arab&source=lnt&tbs=cdr%3A1%2Ccd_min%3A2000%2Ccd_max%3A2021&tbm=nws&start=180 HTTP/1.1\" 200 None\n",
      "2020-05-14 15:51:02,914 - DEBUG - utf-8  confidence = 0.99\n",
      "2020-05-14 15:51:02,914 - DEBUG - SHIFT_JIS Japanese confidence = 0.01\n",
      "2020-05-14 15:51:02,915 - DEBUG - EUC-JP Japanese confidence = 0.01\n",
      "2020-05-14 15:51:02,916 - DEBUG - GB2312 Chinese confidence = 0.01\n",
      "2020-05-14 15:51:02,916 - DEBUG - EUC-KR Korean confidence = 0.01\n",
      "2020-05-14 15:51:02,917 - DEBUG - CP949 Korean confidence = 0.01\n",
      "2020-05-14 15:51:02,918 - DEBUG - Big5 Chinese confidence = 0.01\n",
      "2020-05-14 15:51:02,919 - DEBUG - EUC-TW Taiwan confidence = 0.01\n",
      "2020-05-14 15:51:02,919 - DEBUG - windows-1251 Russian confidence = 0.01\n",
      "2020-05-14 15:51:02,920 - DEBUG - KOI8-R Russian confidence = 0.01\n",
      "2020-05-14 15:51:02,920 - DEBUG - ISO-8859-5 Russian confidence = 0.01\n",
      "2020-05-14 15:51:02,921 - DEBUG - MacCyrillic Russian confidence = 0.01\n",
      "2020-05-14 15:51:02,921 - DEBUG - IBM866 Russian confidence = 0.01\n",
      "2020-05-14 15:51:02,922 - DEBUG - IBM855 Russian confidence = 0.01\n",
      "2020-05-14 15:51:02,922 - DEBUG - ISO-8859-7 Greek confidence = 0.01\n",
      "2020-05-14 15:51:02,923 - DEBUG - windows-1253 Greek confidence = 0.01\n",
      "2020-05-14 15:51:02,923 - DEBUG - ISO-8859-5 Bulgairan confidence = 0.01\n",
      "2020-05-14 15:51:02,924 - DEBUG - windows-1251 Bulgarian confidence = 0.01\n",
      "2020-05-14 15:51:02,924 - DEBUG - TIS-620 Thai confidence = 0.01\n",
      "2020-05-14 15:51:02,925 - DEBUG - ISO-8859-9 Turkish confidence = 0.4163383535193453\n",
      "2020-05-14 15:51:02,925 - DEBUG - windows-1255 Hebrew confidence = 0.0\n",
      "2020-05-14 15:51:02,926 - DEBUG - windows-1255 Hebrew confidence = 0.0\n",
      "2020-05-14 15:51:02,927 - DEBUG - windows-1255 Hebrew confidence = 0.0\n",
      "2020-05-14 15:51:02,927 - DEBUG - utf-8  confidence = 0.99\n",
      "2020-05-14 15:51:02,928 - DEBUG - SHIFT_JIS Japanese confidence = 0.01\n",
      "2020-05-14 15:51:02,928 - DEBUG - EUC-JP Japanese confidence = 0.01\n",
      "2020-05-14 15:51:02,929 - DEBUG - GB2312 Chinese confidence = 0.01\n",
      "2020-05-14 15:51:02,930 - DEBUG - EUC-KR Korean confidence = 0.01\n",
      "2020-05-14 15:51:02,930 - DEBUG - CP949 Korean confidence = 0.01\n",
      "2020-05-14 15:51:02,931 - DEBUG - Big5 Chinese confidence = 0.01\n",
      "2020-05-14 15:51:02,931 - DEBUG - EUC-TW Taiwan confidence = 0.01\n",
      "2020-05-14 15:51:02,968 - DEBUG - Starting new HTTPS connection (1): www.malaysiakini.com:443\n",
      "2020-05-14 15:51:03,363 - DEBUG - https://www.malaysiakini.com:443 \"GET /news/490662 HTTP/1.1\" 200 None\n",
      "2020-05-14 15:51:03,469 - DEBUG - Starting new HTTPS connection (1): www.malaysiakini.com:443\n",
      "2020-05-14 15:51:03,542 - DEBUG - https://www.malaysiakini.com:443 \"GET /news/490662 HTTP/1.1\" 200 None\n",
      "2020-05-14 15:51:03,666 - DEBUG - Starting new HTTPS connection (1): www.bharian.com.my:443\n"
     ]
    },
    {
     "name": "stdout",
     "output_type": "stream",
     "text": [
      "found BM/ID article\n"
     ]
    },
    {
     "name": "stderr",
     "output_type": "stream",
     "text": [
      "2020-05-14 15:51:05,925 - DEBUG - https://www.bharian.com.my:443 \"GET /berita/nasional/2018/01/379107/oic-digesa-perkasa-peranan-tangani-pengganas HTTP/1.1\" 200 None\n",
      "2020-05-14 15:51:06,075 - DEBUG - Starting new HTTPS connection (1): www.bharian.com.my:443\n",
      "2020-05-14 15:51:06,161 - DEBUG - https://www.bharian.com.my:443 \"GET /berita/nasional/2018/01/379107/oic-digesa-perkasa-peranan-tangani-pengganas HTTP/1.1\" 200 None\n"
     ]
    },
    {
     "name": "stdout",
     "output_type": "stream",
     "text": [
      "found BM/ID article\n"
     ]
    },
    {
     "name": "stderr",
     "output_type": "stream",
     "text": [
      "2020-05-14 15:51:06,336 - DEBUG - Starting new HTTPS connection (1): www.bbc.com:443\n",
      "2020-05-14 15:51:08,031 - DEBUG - https://www.bbc.com:443 \"GET /indonesia/dunia-42036425 HTTP/1.1\" 200 40418\n",
      "2020-05-14 15:51:08,219 - DEBUG - Starting new HTTPS connection (1): harakahdaily.net:443\n",
      "2020-05-14 15:51:15,271 - DEBUG - Download failed on URL https://harakahdaily.net/index.php/2019/12/14/apa-sebenarnya-disebalik-arab-spring/ because of HTTPSConnectionPool(host='harakahdaily.net', port=443): Read timed out. (read timeout=7)\n",
      "2020-05-14 15:51:15,294 - DEBUG - Starting new HTTPS connection (1): tirto.id:443\n",
      "2020-05-14 15:51:15,514 - DEBUG - https://tirto.id:443 \"GET /mesir-dan-arab-saudi-bekerja-sama-perangi-terorisme-cnlY HTTP/1.1\" 200 None\n",
      "2020-05-14 15:51:15,691 - DEBUG - Starting new HTTPS connection (1): www.malaysiakini.com:443\n",
      "2020-05-14 15:51:15,901 - DEBUG - https://www.malaysiakini.com:443 \"GET /news/373854 HTTP/1.1\" 200 None\n",
      "2020-05-14 15:51:16,003 - DEBUG - Starting new HTTPS connection (1): www.malaysiakini.com:443\n"
     ]
    },
    {
     "name": "stdout",
     "output_type": "stream",
     "text": [
      "found BM/ID article\n"
     ]
    },
    {
     "name": "stderr",
     "output_type": "stream",
     "text": [
      "2020-05-14 15:51:16,409 - DEBUG - https://www.malaysiakini.com:443 \"GET /news/373854 HTTP/1.1\" 200 None\n",
      "2020-05-14 15:51:16,507 - DEBUG - Starting new HTTPS connection (1): news.detik.com:443\n",
      "2020-05-14 15:51:17,909 - DEBUG - https://news.detik.com:443 \"GET /berita/d-4723378/menlu-retno-bahas-palestina-dengan-arab-saudi-dan-bahrain HTTP/1.1\" 200 None\n",
      "2020-05-14 15:51:18,136 - DEBUG - Starting new HTTPS connection (1): www.liputan6.com:443\n",
      "2020-05-14 15:51:18,782 - DEBUG - https://www.liputan6.com:443 \"GET /global/read/3977294/arab-saudi-undang-qatar-pada-pertemuan-negara-teluk-bahas-isu-iran HTTP/1.1\" 200 74509\n",
      "2020-05-14 15:51:19,065 - DEBUG - Starting new HTTPS connection (1): www.liputan6.com:443\n"
     ]
    },
    {
     "name": "stdout",
     "output_type": "stream",
     "text": [
      "found BM/ID article\n"
     ]
    },
    {
     "name": "stderr",
     "output_type": "stream",
     "text": [
      "2020-05-14 15:51:19,410 - DEBUG - https://www.liputan6.com:443 \"GET /global/read/3977294/arab-saudi-undang-qatar-pada-pertemuan-negara-teluk-bahas-isu-iran HTTP/1.1\" 200 None\n",
      "2020-05-14 15:51:19,755 - DEBUG - Starting new HTTP connection (1): www.astroawani.com:80\n",
      "2020-05-14 15:51:21,103 - DEBUG - http://www.astroawani.com:80 \"GET /berita-malaysia/ketua-diaspora-hamas-mahu-malaysia-ketuai-isu-baitulmuqaddis-162428 HTTP/1.1\" 200 17526\n",
      "2020-05-14 15:51:21,245 - DEBUG - Starting new HTTPS connection (1): www.malaysiakini.com:443\n",
      "2020-05-14 15:51:21,522 - DEBUG - https://www.malaysiakini.com:443 \"GET /news/487318 HTTP/1.1\" 200 None\n",
      "2020-05-14 15:51:21,619 - DEBUG - Starting new HTTPS connection (1): www.malaysiakini.com:443\n",
      "2020-05-14 15:51:21,772 - DEBUG - https://www.malaysiakini.com:443 \"GET /news/487318 HTTP/1.1\" 200 None\n"
     ]
    },
    {
     "name": "stdout",
     "output_type": "stream",
     "text": [
      "found BM/ID article\n"
     ]
    },
    {
     "name": "stderr",
     "output_type": "stream",
     "text": [
      "2020-05-14 15:51:31,912 - DEBUG - Starting new HTTPS connection (1): www.google.com.my:443\n",
      "2020-05-14 15:51:32,056 - DEBUG - https://www.google.com.my:443 \"GET /search?q=isu+arab&source=lnt&tbs=cdr%3A1%2Ccd_min%3A2000%2Ccd_max%3A2021&tbm=nws&start=190 HTTP/1.1\" 200 None\n",
      "2020-05-14 15:51:33,194 - DEBUG - utf-8  confidence = 0.99\n",
      "2020-05-14 15:51:33,195 - DEBUG - SHIFT_JIS Japanese confidence = 0.01\n",
      "2020-05-14 15:51:33,195 - DEBUG - EUC-JP Japanese confidence = 0.01\n",
      "2020-05-14 15:51:33,196 - DEBUG - GB2312 Chinese confidence = 0.01\n",
      "2020-05-14 15:51:33,196 - DEBUG - EUC-KR Korean confidence = 0.01\n",
      "2020-05-14 15:51:33,197 - DEBUG - CP949 Korean confidence = 0.01\n",
      "2020-05-14 15:51:33,198 - DEBUG - Big5 Chinese confidence = 0.01\n",
      "2020-05-14 15:51:33,198 - DEBUG - EUC-TW Taiwan confidence = 0.01\n",
      "2020-05-14 15:51:33,199 - DEBUG - windows-1251 Russian confidence = 0.01\n",
      "2020-05-14 15:51:33,200 - DEBUG - KOI8-R Russian confidence = 0.01\n",
      "2020-05-14 15:51:33,201 - DEBUG - ISO-8859-5 Russian confidence = 0.01\n",
      "2020-05-14 15:51:33,202 - DEBUG - MacCyrillic Russian confidence = 0.01\n",
      "2020-05-14 15:51:33,202 - DEBUG - IBM866 Russian confidence = 0.01\n",
      "2020-05-14 15:51:33,203 - DEBUG - IBM855 Russian confidence = 0.01\n",
      "2020-05-14 15:51:33,204 - DEBUG - ISO-8859-7 Greek confidence = 0.01\n",
      "2020-05-14 15:51:33,205 - DEBUG - windows-1253 Greek confidence = 0.01\n",
      "2020-05-14 15:51:33,205 - DEBUG - ISO-8859-5 Bulgairan confidence = 0.01\n",
      "2020-05-14 15:51:33,206 - DEBUG - windows-1251 Bulgarian confidence = 0.01\n",
      "2020-05-14 15:51:33,206 - DEBUG - TIS-620 Thai confidence = 0.01\n",
      "2020-05-14 15:51:33,207 - DEBUG - ISO-8859-9 Turkish confidence = 0.4117360897748939\n",
      "2020-05-14 15:51:33,208 - DEBUG - windows-1255 Hebrew confidence = 0.0\n",
      "2020-05-14 15:51:33,209 - DEBUG - windows-1255 Hebrew confidence = 0.0\n",
      "2020-05-14 15:51:33,210 - DEBUG - windows-1255 Hebrew confidence = 0.0\n",
      "2020-05-14 15:51:33,210 - DEBUG - utf-8  confidence = 0.99\n",
      "2020-05-14 15:51:33,211 - DEBUG - SHIFT_JIS Japanese confidence = 0.01\n",
      "2020-05-14 15:51:33,211 - DEBUG - EUC-JP Japanese confidence = 0.01\n",
      "2020-05-14 15:51:33,212 - DEBUG - GB2312 Chinese confidence = 0.01\n",
      "2020-05-14 15:51:33,212 - DEBUG - EUC-KR Korean confidence = 0.01\n",
      "2020-05-14 15:51:33,212 - DEBUG - CP949 Korean confidence = 0.01\n",
      "2020-05-14 15:51:33,213 - DEBUG - Big5 Chinese confidence = 0.01\n",
      "2020-05-14 15:51:33,213 - DEBUG - EUC-TW Taiwan confidence = 0.01\n",
      "2020-05-14 15:51:33,249 - DEBUG - Starting new HTTPS connection (1): www.malaysiakini.com:443\n",
      "2020-05-14 15:51:33,335 - DEBUG - https://www.malaysiakini.com:443 \"GET /news/487318 HTTP/1.1\" 200 None\n",
      "2020-05-14 15:51:33,435 - DEBUG - Starting new HTTPS connection (1): www.malaysiakini.com:443\n",
      "2020-05-14 15:51:33,512 - DEBUG - https://www.malaysiakini.com:443 \"GET /news/487318 HTTP/1.1\" 200 None\n"
     ]
    },
    {
     "name": "stdout",
     "output_type": "stream",
     "text": [
      "found BM/ID article\n"
     ]
    },
    {
     "name": "stderr",
     "output_type": "stream",
     "text": [
      "2020-05-14 15:51:33,645 - DEBUG - Starting new HTTPS connection (1): www.dw.com:443\n",
      "2020-05-14 15:51:35,071 - DEBUG - https://www.dw.com:443 \"GET /id/obama-dipermalukan-di-arab-saudi/a-19202692 HTTP/1.1\" 200 21330\n",
      "2020-05-14 15:51:35,534 - DEBUG - Starting new HTTPS connection (1): www.bharian.com.my:443\n",
      "2020-05-14 15:51:36,220 - DEBUG - https://www.bharian.com.my:443 \"GET /berita/nasional/2018/10/492545/kenyataan-najib-bercanggah-bukti-fbi-doj-abu-kassim HTTP/1.1\" 200 None\n",
      "2020-05-14 15:51:36,358 - DEBUG - Starting new HTTPS connection (1): www.bharian.com.my:443\n",
      "2020-05-14 15:51:36,445 - DEBUG - https://www.bharian.com.my:443 \"GET /berita/nasional/2018/10/492545/kenyataan-najib-bercanggah-bukti-fbi-doj-abu-kassim HTTP/1.1\" 200 None\n"
     ]
    },
    {
     "name": "stdout",
     "output_type": "stream",
     "text": [
      "found BM/ID article\n"
     ]
    },
    {
     "name": "stderr",
     "output_type": "stream",
     "text": [
      "2020-05-14 15:51:36,614 - DEBUG - Starting new HTTPS connection (1): www.bbc.com:443\n",
      "2020-05-14 15:51:38,382 - DEBUG - https://www.bbc.com:443 \"GET /indonesia/dunia-49917256 HTTP/1.1\" 200 38852\n",
      "2020-05-14 15:51:38,596 - DEBUG - Starting new HTTPS connection (1): suryamalang.tribunnews.com:443\n",
      "2020-05-14 15:51:38,707 - DEBUG - https://suryamalang.tribunnews.com:443 \"GET /2019/05/27/gara-gara-isu-sungai-di-vietnam-tercemar-arab-saudi-impor-300-ton-ikan-patin-dari-indonesia HTTP/1.1\" 200 27918\n",
      "2020-05-14 15:51:38,927 - DEBUG - Starting new HTTPS connection (1): www.cnnindonesia.com:443\n",
      "2020-05-14 15:51:39,871 - DEBUG - https://www.cnnindonesia.com:443 \"GET /internasional/20190719021238-120-413488/solidaritas-semu-uighur-dan-pujian-negara-muslim-bagi-china HTTP/1.1\" 200 None\n",
      "2020-05-14 15:51:40,385 - DEBUG - Starting new HTTPS connection (1): www.republika.co.id:443\n",
      "2020-05-14 15:51:41,020 - DEBUG - https://www.republika.co.id:443 \"GET /berita/internasional/timur-tengah/18/12/09/pjgml3368-isu-diplomatik-hingga-khashoggi-jadi-bahasan-ktt-gcc HTTP/1.1\" 200 None\n",
      "2020-05-14 15:51:41,458 - DEBUG - Starting new HTTPS connection (1): www.liputan6.com:443\n",
      "2020-05-14 15:51:43,220 - DEBUG - https://www.liputan6.com:443 \"GET /global/read/2982767/akar-permusuhan-arab-saudi-dan-qatar-ada-sejak-22-tahun-lalu HTTP/1.1\" 200 None\n",
      "2020-05-14 15:51:43,748 - DEBUG - Starting new HTTPS connection (1): sport.detik.com:443\n",
      "2020-05-14 15:51:47,211 - DEBUG - https://sport.detik.com:443 \"GET /sepakbola/liga-inggris/d-5004001/isu-pelanggaran-ham-warnai-akuisisi-newcastle-apa-tanggapan-suporter HTTP/1.1\" 200 None\n",
      "2020-05-14 15:51:48,374 - DEBUG - Starting new HTTPS connection (1): travel.tribunnews.com:443\n",
      "2020-05-14 15:51:48,622 - DEBUG - https://travel.tribunnews.com:443 \"GET /2020/05/13/tunggu-kepastian-dari-arab-saudi-kemenag-siapkan-dua-skenario-penyelenggaraan-haji HTTP/1.1\" 200 34004\n",
      "2020-05-14 15:51:58,848 - DEBUG - Starting new HTTPS connection (1): www.google.com.my:443\n",
      "2020-05-14 15:51:59,226 - DEBUG - https://www.google.com.my:443 \"GET /search?q=isu+arab&source=lnt&tbs=cdr%3A1%2Ccd_min%3A2000%2Ccd_max%3A2021&tbm=nws&start=200 HTTP/1.1\" 200 None\n",
      "2020-05-14 15:52:00,247 - DEBUG - utf-8  confidence = 0.99\n",
      "2020-05-14 15:52:00,248 - DEBUG - SHIFT_JIS Japanese confidence = 0.01\n",
      "2020-05-14 15:52:00,249 - DEBUG - EUC-JP Japanese confidence = 0.01\n",
      "2020-05-14 15:52:00,250 - DEBUG - GB2312 Chinese confidence = 0.01\n",
      "2020-05-14 15:52:00,251 - DEBUG - EUC-KR Korean confidence = 0.01\n",
      "2020-05-14 15:52:00,251 - DEBUG - CP949 Korean confidence = 0.01\n",
      "2020-05-14 15:52:00,252 - DEBUG - Big5 Chinese confidence = 0.01\n",
      "2020-05-14 15:52:00,252 - DEBUG - EUC-TW Taiwan confidence = 0.01\n",
      "2020-05-14 15:52:00,253 - DEBUG - windows-1251 Russian confidence = 0.01\n",
      "2020-05-14 15:52:00,253 - DEBUG - KOI8-R Russian confidence = 0.01\n",
      "2020-05-14 15:52:00,254 - DEBUG - ISO-8859-5 Russian confidence = 0.01\n",
      "2020-05-14 15:52:00,254 - DEBUG - MacCyrillic Russian confidence = 0.01\n",
      "2020-05-14 15:52:00,255 - DEBUG - IBM866 Russian confidence = 0.01\n",
      "2020-05-14 15:52:00,255 - DEBUG - IBM855 Russian confidence = 0.01\n",
      "2020-05-14 15:52:00,256 - DEBUG - ISO-8859-7 Greek confidence = 0.01\n",
      "2020-05-14 15:52:00,256 - DEBUG - windows-1253 Greek confidence = 0.01\n",
      "2020-05-14 15:52:00,257 - DEBUG - ISO-8859-5 Bulgairan confidence = 0.01\n",
      "2020-05-14 15:52:00,257 - DEBUG - windows-1251 Bulgarian confidence = 0.01\n",
      "2020-05-14 15:52:00,258 - DEBUG - TIS-620 Thai confidence = 0.01\n",
      "2020-05-14 15:52:00,259 - DEBUG - ISO-8859-9 Turkish confidence = 0.42323373497571115\n",
      "2020-05-14 15:52:00,259 - DEBUG - windows-1255 Hebrew confidence = 0.0\n",
      "2020-05-14 15:52:00,260 - DEBUG - windows-1255 Hebrew confidence = 0.0\n",
      "2020-05-14 15:52:00,261 - DEBUG - windows-1255 Hebrew confidence = 0.0\n",
      "2020-05-14 15:52:00,261 - DEBUG - utf-8  confidence = 0.99\n",
      "2020-05-14 15:52:00,262 - DEBUG - SHIFT_JIS Japanese confidence = 0.01\n",
      "2020-05-14 15:52:00,263 - DEBUG - EUC-JP Japanese confidence = 0.01\n",
      "2020-05-14 15:52:00,264 - DEBUG - GB2312 Chinese confidence = 0.01\n",
      "2020-05-14 15:52:00,265 - DEBUG - EUC-KR Korean confidence = 0.01\n",
      "2020-05-14 15:52:00,265 - DEBUG - CP949 Korean confidence = 0.01\n",
      "2020-05-14 15:52:00,266 - DEBUG - Big5 Chinese confidence = 0.01\n",
      "2020-05-14 15:52:00,266 - DEBUG - EUC-TW Taiwan confidence = 0.01\n",
      "2020-05-14 15:52:03,410 - DEBUG - Starting new HTTPS connection (1): www.sinarharian.com.my:443\n",
      "2020-05-14 15:52:04,440 - DEBUG - https://www.sinarharian.com.my:443 \"GET /article/82803/KOLUMNIS/Memulihkan-dasar-luar-Malaysia HTTP/1.1\" 200 None\n",
      "2020-05-14 15:52:04,705 - DEBUG - Starting new HTTPS connection (1): finance.detik.com:443\n",
      "2020-05-14 15:52:05,982 - DEBUG - https://finance.detik.com:443 \"GET /infrastruktur/d-4932730/arab-mau-investasi-tiga-proyek-di-aceh-apa-saja HTTP/1.1\" 200 None\n",
      "2020-05-14 15:52:06,171 - DEBUG - Starting new HTTPS connection (1): bebas.kompas.id:443\n",
      "2020-05-14 15:52:09,117 - DEBUG - https://bebas.kompas.id:443 \"GET /baca/internasional/2020/05/08/misi-penemuan-vaksin-covid-19-pererat-relasi-uea-israel/ HTTP/1.1\" 200 None\n",
      "2020-05-14 15:52:09,291 - DEBUG - Starting new HTTPS connection (1): www.suara.com:443\n",
      "2020-05-14 15:52:09,429 - DEBUG - https://www.suara.com:443 \"GET /news/2020/05/08/092843/cek-fakta-benarkah-umat-islam-di-arab-banyak-yang-murtad-gegara-covid-19 HTTP/1.1\" 200 None\n",
      "2020-05-14 15:52:09,961 - DEBUG - Starting new HTTPS connection (1): sport.detik.com:443\n",
      "2020-05-14 15:52:10,886 - DEBUG - https://sport.detik.com:443 \"GET /sepakbola/liga-inggris/d-5012080/pangeran-arab-terlibat-pembajakan-hak-siar-premier-league-bungkam HTTP/1.1\" 200 None\n",
      "2020-05-14 15:52:11,087 - DEBUG - Starting new HTTPS connection (1): bola.okezone.com:443\n",
      "2020-05-14 15:52:11,650 - DEBUG - https://bola.okezone.com:443 \"GET /read/2020/05/14/45/2213750/tunangan-khashoggi-harap-penggemar-newcastle-lawan-proses-akuisisi-klub HTTP/1.1\" 200 None\n",
      "2020-05-14 15:52:12,904 - DEBUG - Starting new HTTPS connection (1): pontianak.tribunnews.com:443\n",
      "2020-05-14 15:52:13,401 - DEBUG - https://pontianak.tribunnews.com:443 \"GET /2020/05/08/viral-isu-kiamat-terbantahkan-ini-penjelasannya HTTP/1.1\" 200 28140\n",
      "2020-05-14 15:52:13,918 - DEBUG - Starting new HTTPS connection (1): www.goriau.com:443\n",
      "2020-05-14 15:52:14,535 - DEBUG - https://www.goriau.com:443 \"GET /berita/baca/minta-pemerintah-cabut-psbb-pernyataan-presiden-the-world-peace-committee-bikin-geger.html HTTP/1.1\" 200 11240\n",
      "2020-05-14 15:52:14,690 - DEBUG - Starting new HTTPS connection (1): www.goriau.com:443\n"
     ]
    },
    {
     "name": "stdout",
     "output_type": "stream",
     "text": [
      "found BM/ID article\n"
     ]
    },
    {
     "name": "stderr",
     "output_type": "stream",
     "text": [
      "2020-05-14 15:52:15,395 - DEBUG - https://www.goriau.com:443 \"GET /berita/baca/minta-pemerintah-cabut-psbb-pernyataan-presiden-the-world-peace-committee-bikin-geger.html HTTP/1.1\" 200 11240\n",
      "2020-05-14 15:52:16,630 - DEBUG - Starting new HTTPS connection (1): surabaya.tribunnews.com:443\n",
      "2020-05-14 15:52:16,728 - DEBUG - https://surabaya.tribunnews.com:443 \"GET /2020/05/07/viral-isu-dukhan-asteroid-tabrak-bumi-besok-jumat-15-ramadhan-lapan-hanya-lewat HTTP/1.1\" 200 27966\n",
      "2020-05-14 15:52:16,953 - DEBUG - Starting new HTTPS connection (1): www.dream.co.id:443\n",
      "2020-05-14 15:52:17,334 - DEBUG - https://www.dream.co.id:443 \"GET /unik/viral-video-makhluk-aneh-di-langit-saudi-ternyata-hoax-200508v.html HTTP/1.1\" 200 None\n",
      "2020-05-14 15:52:17,478 - DEBUG - Starting new HTTPS connection (1): www.dream.co.id:443\n"
     ]
    },
    {
     "name": "stdout",
     "output_type": "stream",
     "text": [
      "found BM/ID article\n"
     ]
    },
    {
     "name": "stderr",
     "output_type": "stream",
     "text": [
      "2020-05-14 15:52:17,967 - DEBUG - https://www.dream.co.id:443 \"GET /unik/viral-video-makhluk-aneh-di-langit-saudi-ternyata-hoax-200508v.html HTTP/1.1\" 200 None\n",
      "2020-05-14 15:52:28,137 - DEBUG - Starting new HTTPS connection (1): www.google.com.my:443\n",
      "2020-05-14 15:52:28,368 - DEBUG - https://www.google.com.my:443 \"GET /search?q=isu+arab&source=lnt&tbs=cdr%3A1%2Ccd_min%3A2000%2Ccd_max%3A2021&tbm=nws&start=210 HTTP/1.1\" 200 None\n",
      "2020-05-14 15:52:29,442 - DEBUG - utf-8  confidence = 0.99\n",
      "2020-05-14 15:52:29,443 - DEBUG - SHIFT_JIS Japanese confidence = 0.01\n",
      "2020-05-14 15:52:29,443 - DEBUG - EUC-JP Japanese confidence = 0.01\n",
      "2020-05-14 15:52:29,444 - DEBUG - GB2312 Chinese confidence = 0.01\n",
      "2020-05-14 15:52:29,444 - DEBUG - EUC-KR Korean confidence = 0.01\n",
      "2020-05-14 15:52:29,445 - DEBUG - CP949 Korean confidence = 0.01\n",
      "2020-05-14 15:52:29,445 - DEBUG - Big5 Chinese confidence = 0.01\n",
      "2020-05-14 15:52:29,446 - DEBUG - EUC-TW Taiwan confidence = 0.01\n",
      "2020-05-14 15:52:29,446 - DEBUG - windows-1251 Russian confidence = 0.01\n",
      "2020-05-14 15:52:29,447 - DEBUG - KOI8-R Russian confidence = 0.01\n",
      "2020-05-14 15:52:29,447 - DEBUG - ISO-8859-5 Russian confidence = 0.0\n",
      "2020-05-14 15:52:29,448 - DEBUG - MacCyrillic Russian confidence = 0.01\n",
      "2020-05-14 15:52:29,448 - DEBUG - IBM866 Russian confidence = 0.01\n",
      "2020-05-14 15:52:29,449 - DEBUG - IBM855 Russian confidence = 0.01\n",
      "2020-05-14 15:52:29,449 - DEBUG - ISO-8859-7 Greek confidence = 0.01\n",
      "2020-05-14 15:52:29,450 - DEBUG - windows-1253 Greek confidence = 0.01\n",
      "2020-05-14 15:52:29,450 - DEBUG - ISO-8859-5 Bulgairan confidence = 0.0\n",
      "2020-05-14 15:52:29,451 - DEBUG - windows-1251 Bulgarian confidence = 0.0\n",
      "2020-05-14 15:52:29,451 - DEBUG - TIS-620 Thai confidence = 0.1140278488846997\n",
      "2020-05-14 15:52:29,451 - DEBUG - ISO-8859-9 Turkish confidence = 0.41912241862447625\n",
      "2020-05-14 15:52:29,452 - DEBUG - windows-1255 Hebrew confidence = 0.0\n",
      "2020-05-14 15:52:29,453 - DEBUG - windows-1255 Hebrew confidence = 0.0\n",
      "2020-05-14 15:52:29,453 - DEBUG - windows-1255 Hebrew confidence = 0.0\n",
      "2020-05-14 15:52:29,454 - DEBUG - utf-8  confidence = 0.99\n",
      "2020-05-14 15:52:29,455 - DEBUG - SHIFT_JIS Japanese confidence = 0.01\n",
      "2020-05-14 15:52:29,455 - DEBUG - EUC-JP Japanese confidence = 0.01\n",
      "2020-05-14 15:52:29,456 - DEBUG - GB2312 Chinese confidence = 0.01\n",
      "2020-05-14 15:52:29,457 - DEBUG - EUC-KR Korean confidence = 0.01\n",
      "2020-05-14 15:52:29,457 - DEBUG - CP949 Korean confidence = 0.01\n",
      "2020-05-14 15:52:29,458 - DEBUG - Big5 Chinese confidence = 0.01\n",
      "2020-05-14 15:52:29,458 - DEBUG - EUC-TW Taiwan confidence = 0.01\n",
      "2020-05-14 15:52:29,585 - DEBUG - Starting new HTTPS connection (1): banjarmasin.tribunnews.com:443\n",
      "2020-05-14 15:52:29,700 - DEBUG - https://banjarmasin.tribunnews.com:443 \"GET /2020/05/07/viral-isu-peristiwa-dukhan-tanda-kiamat-pada-jumat-8-mei-2020-ini-kata-mui-ustadz-abdul-somad HTTP/1.1\" 200 28944\n",
      "2020-05-14 15:52:29,939 - DEBUG - Starting new HTTPS connection (1): republika.co.id:443\n",
      "2020-05-14 15:52:30,384 - DEBUG - https://republika.co.id:443 \"GET /berita/pfema9385/alkitab-bahasa-arab-kristen-koptik-di-mesir HTTP/1.1\" 200 None\n",
      "2020-05-14 15:52:30,738 - DEBUG - Starting new HTTPS connection (1): www.minews.id:443\n",
      "2020-05-14 15:52:31,242 - DEBUG - https://www.minews.id:443 \"GET /news/newcastle-kaya-mendadak-gareth-bale-siap-dibeli-rp-960-m HTTP/1.1\" 200 None\n",
      "2020-05-14 15:52:32,429 - DEBUG - Starting new HTTPS connection (1): kalam.sindonews.com:443\n",
      "2020-05-14 15:52:34,590 - DEBUG - https://kalam.sindonews.com:443 \"GET /read/24605/70/sultan-hamid-ii-tak-akan-kuberikan-tanah-palestina-pada-yahudi-meskipun-sejengkal-1589191540 HTTP/1.1\" 200 None\n",
      "2020-05-14 15:52:34,764 - DEBUG - Starting new HTTPS connection (1): katadata.co.id:443\n",
      "2020-05-14 15:52:35,482 - DEBUG - https://katadata.co.id:443 \"GET /berita/2020/05/13/isu-akurasi-kimia-farma-setop-sementara-distribusi-rapid-test-biozek HTTP/1.1\" 200 None\n",
      "2020-05-14 15:52:35,590 - DEBUG - Starting new HTTPS connection (1): news.detik.com:443\n",
      "2020-05-14 15:52:37,012 - DEBUG - https://news.detik.com:443 \"GET /berita/d-5007082/viral-dukhan-tanda-kiamat-ustaz-adi-hidayat-ingatkan-jangan-asal-percaya HTTP/1.1\" 200 None\n",
      "2020-05-14 15:52:37,242 - DEBUG - Starting new HTTPS connection (1): news.ddtc.co.id:443\n",
      "2020-05-14 15:52:38,203 - DEBUG - https://news.ddtc.co.id:443 \"GET /mencermati-isu-pph-atas-kik-eba-syariah-20864 HTTP/1.1\" 200 None\n",
      "2020-05-14 15:52:38,766 - DEBUG - Starting new HTTPS connection (1): akurat.co:443\n",
      "2020-05-14 15:52:42,405 - DEBUG - https://akurat.co:443 \"GET /olahraga/id-1114185-read-dokumen-baru-pertanyakan-usaha-saudi-ambil-alih-newcastle HTTP/1.1\" 200 None\n",
      "2020-05-14 15:52:42,633 - DEBUG - Starting new HTTPS connection (1): akurat.co:443\n"
     ]
    },
    {
     "name": "stdout",
     "output_type": "stream",
     "text": [
      "found BM/ID article\n"
     ]
    },
    {
     "name": "stderr",
     "output_type": "stream",
     "text": [
      "2020-05-14 15:52:45,122 - DEBUG - https://akurat.co:443 \"GET /olahraga/id-1114185-read-dokumen-baru-pertanyakan-usaha-saudi-ambil-alih-newcastle HTTP/1.1\" 200 None\n",
      "2020-05-14 15:52:45,338 - DEBUG - Starting new HTTPS connection (1): tirto.id:443\n",
      "2020-05-14 15:52:46,115 - DEBUG - https://tirto.id:443 \"GET /fatema-mernissi-aisyah-teladan-feminisme-bukan-cuma-romantisme-fqol HTTP/1.1\" 200 None\n",
      "2020-05-14 15:52:46,353 - DEBUG - Starting new HTTPS connection (1): www.medcom.id:443\n",
      "2020-05-14 15:52:46,932 - DEBUG - https://www.medcom.id:443 \"GET /telusur/cek-fakta/9K50aPyk-jokowi-akan-pecat-mereka-yang-persulit-wn-tiongkok-masuk-indonesia HTTP/1.1\" 200 None\n",
      "2020-05-14 15:52:57,422 - DEBUG - Starting new HTTPS connection (1): www.google.com.my:443\n",
      "2020-05-14 15:52:57,538 - DEBUG - https://www.google.com.my:443 \"GET /search?q=isu+arab&source=lnt&tbs=cdr%3A1%2Ccd_min%3A2000%2Ccd_max%3A2021&tbm=nws&start=220 HTTP/1.1\" 200 None\n",
      "2020-05-14 15:52:58,522 - DEBUG - utf-8  confidence = 0.9690625\n",
      "2020-05-14 15:52:58,523 - DEBUG - SHIFT_JIS Japanese confidence = 0.01\n",
      "2020-05-14 15:52:58,523 - DEBUG - EUC-JP Japanese confidence = 0.01\n",
      "2020-05-14 15:52:58,523 - DEBUG - GB2312 Chinese confidence = 0.01\n",
      "2020-05-14 15:52:58,524 - DEBUG - EUC-KR Korean confidence = 0.01\n",
      "2020-05-14 15:52:58,524 - DEBUG - CP949 Korean confidence = 0.01\n",
      "2020-05-14 15:52:58,525 - DEBUG - Big5 Chinese confidence = 0.01\n",
      "2020-05-14 15:52:58,525 - DEBUG - EUC-TW Taiwan confidence = 0.01\n",
      "2020-05-14 15:52:58,526 - DEBUG - windows-1251 Russian confidence = 0.01\n",
      "2020-05-14 15:52:58,526 - DEBUG - KOI8-R Russian confidence = 0.01\n",
      "2020-05-14 15:52:58,527 - DEBUG - ISO-8859-5 Russian confidence = 0.0\n",
      "2020-05-14 15:52:58,527 - DEBUG - MacCyrillic Russian confidence = 0.01\n",
      "2020-05-14 15:52:58,528 - DEBUG - IBM866 Russian confidence = 0.01\n",
      "2020-05-14 15:52:58,528 - DEBUG - IBM855 Russian confidence = 0.01\n",
      "2020-05-14 15:52:58,529 - DEBUG - ISO-8859-7 Greek confidence = 0.0\n",
      "2020-05-14 15:52:58,529 - DEBUG - windows-1253 Greek confidence = 0.0\n",
      "2020-05-14 15:52:58,530 - DEBUG - ISO-8859-5 Bulgairan confidence = 0.0\n",
      "2020-05-14 15:52:58,530 - DEBUG - windows-1251 Bulgarian confidence = 0.01\n",
      "2020-05-14 15:52:58,531 - DEBUG - TIS-620 Thai confidence = 0.0\n",
      "2020-05-14 15:52:58,531 - DEBUG - ISO-8859-9 Turkish confidence = 0.4308603047210419\n",
      "2020-05-14 15:52:58,532 - DEBUG - windows-1255 Hebrew confidence = 0.0\n",
      "2020-05-14 15:52:58,533 - DEBUG - windows-1255 Hebrew confidence = 0.0\n",
      "2020-05-14 15:52:58,534 - DEBUG - windows-1255 Hebrew confidence = 0.0\n",
      "2020-05-14 15:52:58,535 - DEBUG - utf-8  confidence = 0.9690625\n",
      "2020-05-14 15:52:58,535 - DEBUG - SHIFT_JIS Japanese confidence = 0.01\n",
      "2020-05-14 15:52:58,536 - DEBUG - EUC-JP Japanese confidence = 0.01\n",
      "2020-05-14 15:52:58,537 - DEBUG - GB2312 Chinese confidence = 0.01\n",
      "2020-05-14 15:52:58,537 - DEBUG - EUC-KR Korean confidence = 0.01\n",
      "2020-05-14 15:52:58,537 - DEBUG - CP949 Korean confidence = 0.01\n",
      "2020-05-14 15:52:58,538 - DEBUG - Big5 Chinese confidence = 0.01\n",
      "2020-05-14 15:52:58,538 - DEBUG - EUC-TW Taiwan confidence = 0.01\n",
      "2020-05-14 15:52:58,604 - DEBUG - Starting new HTTPS connection (1): www.alinea.id:443\n",
      "2020-05-14 15:52:59,490 - DEBUG - https://www.alinea.id:443 \"GET /dunia/ke-israel-menlu-as-berbincang-soal-isu-aneksasi-tepi-barat-b1ZMY9usn HTTP/1.1\" 200 None\n",
      "2020-05-14 15:52:59,637 - DEBUG - Starting new HTTPS connection (1): indonesiainside.id:443\n",
      "2020-05-14 15:53:01,225 - DEBUG - https://indonesiainside.id:443 \"GET /news/internasional/2020/05/14/tunangan-jamal-khashoggi-ajak-fans-newcastle-untuk-menolak-muhammad-bin-salman HTTP/1.1\" 200 20071\n",
      "2020-05-14 15:53:01,527 - DEBUG - Starting new HTTPS connection (1): finance.detik.com:443\n",
      "2020-05-14 15:53:03,031 - DEBUG - https://finance.detik.com:443 \"GET /moneter/d-4951651/bank-mulai-tutup-sementara-kantor-cabang HTTP/1.1\" 200 None\n",
      "2020-05-14 15:53:03,162 - DEBUG - Starting new HTTPS connection (1): bizlaw.id:443\n",
      "2020-05-14 15:53:03,662 - DEBUG - https://bizlaw.id:443 \"GET /read/22423/Dianggap-Bermasalah-USCIRF-Akan-Awasi-Kebebasan-Beragama-di-Indonesia HTTP/1.1\" 200 None\n",
      "2020-05-14 15:53:03,752 - DEBUG - Starting new HTTPS connection (1): bizlaw.id:443\n"
     ]
    },
    {
     "name": "stdout",
     "output_type": "stream",
     "text": [
      "found BM/ID article\n"
     ]
    },
    {
     "name": "stderr",
     "output_type": "stream",
     "text": [
      "2020-05-14 15:53:04,186 - DEBUG - https://bizlaw.id:443 \"GET /read/22423/Dianggap-Bermasalah-USCIRF-Akan-Awasi-Kebebasan-Beragama-di-Indonesia HTTP/1.1\" 200 11216\n",
      "2020-05-14 15:53:04,297 - DEBUG - Starting new HTTPS connection (1): akuratnews.com:443\n",
      "2020-05-14 15:53:05,950 - DEBUG - https://akuratnews.com:443 \"GET /ekonomi-politik-sebagai-alat-analisis-kebijakan-publik/ HTTP/1.1\" 200 None\n",
      "2020-05-14 15:53:06,145 - DEBUG - Starting new HTTPS connection (1): islami.co:443\n",
      "2020-05-14 15:53:06,549 - DEBUG - https://islami.co:443 \"GET /berkenalan-dengan-amina-wadud-dan-tafsirnya-yang-membela-perempuan/ HTTP/1.1\" 200 None\n",
      "2020-05-14 15:53:06,633 - DEBUG - Starting new HTTPS connection (1): islami.co:443\n",
      "2020-05-14 15:53:06,725 - DEBUG - https://islami.co:443 \"GET /berkenalan-dengan-amina-wadud-dan-tafsirnya-yang-membela-perempuan/ HTTP/1.1\" 200 None\n"
     ]
    },
    {
     "name": "stdout",
     "output_type": "stream",
     "text": [
      "found BM/ID article\n"
     ]
    },
    {
     "name": "stderr",
     "output_type": "stream",
     "text": [
      "2020-05-14 15:53:06,836 - DEBUG - Starting new HTTPS connection (1): www.tagar.id:443\n",
      "2020-05-14 15:53:07,265 - DEBUG - https://www.tagar.id:443 \"GET /denny-siregar-kenapa-banyak-tenaga-kerja-china-di-indonesia HTTP/1.1\" 200 None\n",
      "2020-05-14 15:53:17,419 - DEBUG - Starting new HTTPS connection (1): www.google.com.my:443\n",
      "2020-05-14 15:53:17,527 - DEBUG - https://www.google.com.my:443 \"GET /search?q=isu+arab&source=lnt&tbs=cdr%3A1%2Ccd_min%3A2000%2Ccd_max%3A2021&tbm=nws&start=230 HTTP/1.1\" 200 None\n"
     ]
    },
    {
     "name": "stdout",
     "output_type": "stream",
     "text": [
      "No more news to read for keyword isu arab.\n"
     ]
    }
   ],
   "source": [
    "for topic in topics:\n",
    "    # topic = 'isu ' + topic\n",
    "    file = topic + '.json'\n",
    "    if file in os.listdir(os.getcwd()):\n",
    "        print('passed: ', file)\n",
    "        continue\n",
    "    \n",
    "    print('crawling', topic)\n",
    "    results = google_news_run(\n",
    "        topic,\n",
    "        limit = 10000,\n",
    "        year_start = 2000,\n",
    "        year_end = 2021,\n",
    "        debug = False,\n",
    "        sleep_time_every_ten_articles = 10\n",
    "    )\n",
    "\n",
    "    with open(file, 'w') as fopen:\n",
    "        fopen.write(json.dumps(results))"
   ]
  },
  {
   "cell_type": "code",
   "execution_count": null,
   "metadata": {},
   "outputs": [],
   "source": []
  }
 ],
 "metadata": {
  "kernelspec": {
   "display_name": "Python 3",
   "language": "python",
   "name": "python3"
  },
  "language_info": {
   "codemirror_mode": {
    "name": "ipython",
    "version": 3
   },
   "file_extension": ".py",
   "mimetype": "text/x-python",
   "name": "python",
   "nbconvert_exporter": "python",
   "pygments_lexer": "ipython3",
   "version": "3.7.5"
  }
 },
 "nbformat": 4,
 "nbformat_minor": 2
}
