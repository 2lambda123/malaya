{
 "cells": [
  {
   "cell_type": "code",
   "execution_count": 1,
   "metadata": {},
   "outputs": [
    {
     "name": "stdout",
     "output_type": "stream",
     "text": [
      "CPU times: user 13.4 s, sys: 1.49 s, total: 14.9 s\n",
      "Wall time: 18.6 s\n"
     ]
    }
   ],
   "source": [
    "%%time\n",
    "import malaya"
   ]
  },
  {
   "cell_type": "code",
   "execution_count": 2,
   "metadata": {},
   "outputs": [],
   "source": [
    "positive_text = 'Kerajaan negeri Kelantan mempersoalkan motif kenyataan Menteri Kewangan Lim Guan Eng yang hanya menyebut Kelantan penerima terbesar bantuan kewangan dari Kerajaan Persekutuan. Sedangkan menurut Timbalan Menteri Besarnya, Datuk Mohd Amar Nik Abdullah, negeri lain yang lebih maju dari Kelantan turut mendapat pembiayaan dan pinjaman.'\n",
    "negative_text = 'kerajaan sebenarnya sangat bencikan rakyatnya, minyak naik dan segalanya'"
   ]
  },
  {
   "cell_type": "markdown",
   "metadata": {},
   "source": [
    "All models got `get_proba` parameters.\n",
    "If True, it will returned probability every classes. Else, it will return highest probability class. **Default is False.**"
   ]
  },
  {
   "cell_type": "markdown",
   "metadata": {},
   "source": [
    "## Load multinomial model"
   ]
  },
  {
   "cell_type": "code",
   "execution_count": 3,
   "metadata": {},
   "outputs": [
    {
     "name": "stdout",
     "output_type": "stream",
     "text": [
      "{'negative': 0.2422829560944563, 'positive': 0.7577170439055456}\n",
      "{'negative': 0.7385102541701198, 'positive': 0.26148974582987783}\n"
     ]
    },
    {
     "data": {
      "text/plain": [
       "[{'negative': 0.7385102541701198, 'positive': 0.26148974582987783},\n",
       " {'negative': 0.7385102541701198, 'positive': 0.26148974582987783}]"
      ]
     },
     "execution_count": 3,
     "metadata": {},
     "output_type": "execute_result"
    }
   ],
   "source": [
    "model = malaya.sentiment.multinomial()\n",
    "print(model.predict(positive_text,get_proba=True))\n",
    "print(model.predict(negative_text,get_proba=True))\n",
    "model.predict_batch([negative_text,negative_text],get_proba=True)"
   ]
  },
  {
   "cell_type": "markdown",
   "metadata": {},
   "source": [
    "## Load xgb model"
   ]
  },
  {
   "cell_type": "code",
   "execution_count": 4,
   "metadata": {},
   "outputs": [
    {
     "name": "stdout",
     "output_type": "stream",
     "text": [
      "{'negative': 0.24086821, 'positive': 0.7591318}\n",
      "{'negative': 0.844284, 'positive': 0.15571605}\n"
     ]
    },
    {
     "data": {
      "text/plain": [
       "[{'negative': 0.844284, 'positive': 0.15571605},\n",
       " {'negative': 0.844284, 'positive': 0.15571605}]"
      ]
     },
     "execution_count": 4,
     "metadata": {},
     "output_type": "execute_result"
    }
   ],
   "source": [
    "model = malaya.sentiment.xgb()\n",
    "print(model.predict(positive_text,get_proba=True))\n",
    "print(model.predict(negative_text,get_proba=True))\n",
    "model.predict_batch([negative_text,negative_text],get_proba=True)"
   ]
  },
  {
   "cell_type": "markdown",
   "metadata": {},
   "source": [
    "## List available deep learning models"
   ]
  },
  {
   "cell_type": "code",
   "execution_count": 5,
   "metadata": {},
   "outputs": [
    {
     "data": {
      "text/plain": [
       "['fast-text',\n",
       " 'hierarchical',\n",
       " 'bahdanau',\n",
       " 'luong',\n",
       " 'bidirectional',\n",
       " 'bert',\n",
       " 'entity-network']"
      ]
     },
     "execution_count": 5,
     "metadata": {},
     "output_type": "execute_result"
    }
   ],
   "source": [
    "malaya.sentiment.available_deep_model()"
   ]
  },
  {
   "cell_type": "markdown",
   "metadata": {},
   "source": [
    "## Load deep learning models"
   ]
  },
  {
   "cell_type": "code",
   "execution_count": 6,
   "metadata": {},
   "outputs": [
    {
     "name": "stdout",
     "output_type": "stream",
     "text": [
      "Testing fast-text model\n",
      "negative\n",
      "['negative', 'positive']\n",
      "[{'negative': 0.8405276, 'positive': 0.15947239}, {'negative': 1.8619101e-05, 'positive': 0.9999814}]\n",
      "\n",
      "Testing hierarchical model\n",
      "negative\n",
      "['negative', 'positive']\n",
      "[{'negative': 0.94964343, 'positive': 0.050356578}, {'negative': 0.018990694, 'positive': 0.98100936}]\n",
      "\n",
      "Testing bahdanau model\n",
      "negative\n",
      "['negative', 'positive']\n",
      "[{'negative': 0.99957806, 'positive': 0.0004218969}, {'negative': 0.06250752, 'positive': 0.9374925}]\n",
      "\n",
      "Testing luong model\n",
      "negative\n",
      "['negative', 'positive']\n",
      "[{'negative': 0.8572259, 'positive': 0.14277408}, {'negative': 0.010074314, 'positive': 0.9899256}]\n",
      "\n",
      "Testing bidirectional model\n",
      "negative\n",
      "['negative', 'positive']\n",
      "[{'negative': 0.99718577, 'positive': 0.0028142664}, {'negative': 0.0021885026, 'positive': 0.9978115}]\n",
      "\n",
      "Testing bert model\n",
      "positive\n",
      "['positive', 'negative']\n",
      "[{'negative': 0.37042966, 'positive': 0.62957036}, {'negative': 0.84760416, 'positive': 0.15239581}]\n",
      "\n",
      "Testing entity-network model\n",
      "positive\n",
      "['positive', 'positive']\n",
      "[{'negative': 0.44306344, 'positive': 0.55693656}, {'negative': 0.32117522, 'positive': 0.6788247}]\n",
      "\n"
     ]
    }
   ],
   "source": [
    "for i in malaya.sentiment.available_deep_model():\n",
    "    print('Testing %s model'%(i))\n",
    "    model = malaya.sentiment.deep_model(i)\n",
    "    print(model.predict(negative_text))\n",
    "    print(model.predict_batch([negative_text, positive_text]))\n",
    "    print(model.predict_batch([negative_text, positive_text],get_proba=True))\n",
    "    print()"
   ]
  },
  {
   "cell_type": "markdown",
   "metadata": {},
   "source": [
    "## Unsupervised important words learning"
   ]
  },
  {
   "cell_type": "code",
   "execution_count": 7,
   "metadata": {},
   "outputs": [],
   "source": [
    "import matplotlib.pyplot as plt\n",
    "import seaborn as sns\n",
    "sns.set() # i just really like seaborn colors"
   ]
  },
  {
   "cell_type": "markdown",
   "metadata": {},
   "source": [
    "We need to set `get_proba` become True to get the 'attention'."
   ]
  },
  {
   "cell_type": "markdown",
   "metadata": {},
   "source": [
    "#### Visualizing bahdanau model"
   ]
  },
  {
   "cell_type": "code",
   "execution_count": 8,
   "metadata": {},
   "outputs": [
    {
     "data": {
      "image/png": "[encoded data removed]",
      "text/plain": [
       "<Figure size 1080x504 with 1 Axes>"
      ]
     },
     "metadata": {
      "needs_background": "light"
     },
     "output_type": "display_data"
    }
   ],
   "source": [
    "model = malaya.sentiment.deep_model('bahdanau')\n",
    "result = model.predict(positive_text,get_proba=True)['attention']\n",
    "\n",
    "plt.figure(figsize = (15, 7))\n",
    "labels = [r[0] for r in result]\n",
    "val = [r[1] for r in result]\n",
    "aranged = [i for i in range(len(labels))]\n",
    "plt.bar(aranged, val)\n",
    "plt.xticks(aranged, labels, rotation = 'vertical')\n",
    "plt.show()"
   ]
  },
  {
   "cell_type": "markdown",
   "metadata": {},
   "source": [
    "#### Visualizing luong model"
   ]
  },
  {
   "cell_type": "code",
   "execution_count": 9,
   "metadata": {},
   "outputs": [
    {
     "data": {
      "image/png": "[encoded data removed]",
      "text/plain": [
       "<Figure size 1080x504 with 1 Axes>"
      ]
     },
     "metadata": {
      "needs_background": "light"
     },
     "output_type": "display_data"
    }
   ],
   "source": [
    "model = malaya.sentiment.deep_model('luong')\n",
    "result = model.predict(positive_text,get_proba=True)['attention']\n",
    "\n",
    "plt.figure(figsize = (15, 7))\n",
    "labels = [r[0] for r in result]\n",
    "val = [r[1] for r in result]\n",
    "aranged = [i for i in range(len(labels))]\n",
    "plt.bar(aranged, val)\n",
    "plt.xticks(aranged, labels, rotation = 'vertical')\n",
    "plt.show()"
   ]
  },
  {
   "cell_type": "markdown",
   "metadata": {},
   "source": [
    "#### Visualizing hierarchical model"
   ]
  },
  {
   "cell_type": "code",
   "execution_count": 10,
   "metadata": {},
   "outputs": [
    {
     "data": {
      "image/png": "[encoded data removed]",
      "text/plain": [
       "<Figure size 1080x504 with 1 Axes>"
      ]
     },
     "metadata": {
      "needs_background": "light"
     },
     "output_type": "display_data"
    }
   ],
   "source": [
    "model = malaya.sentiment.deep_model('hierarchical')\n",
    "result = model.predict(positive_text,get_proba=True)['attention']\n",
    "\n",
    "plt.figure(figsize = (15, 7))\n",
    "labels = [r[0] for r in result]\n",
    "val = [r[1] for r in result]\n",
    "aranged = [i for i in range(len(labels))]\n",
    "plt.bar(aranged, val)\n",
    "plt.xticks(aranged, labels, rotation = 'vertical')\n",
    "plt.show()"
   ]
  },
  {
   "cell_type": "markdown",
   "metadata": {},
   "source": [
    "## Load Sparse deep learning models"
   ]
  },
  {
   "cell_type": "markdown",
   "metadata": {},
   "source": [
    "What happen if a word not included in the dictionary of the models? like `setan`, what if `setan` appeared in text we want to classify? We found this problem when classifying social media texts / posts. Words used not really a vocabulary-based contextual.\n",
    "\n",
    "Malaya will treat **unknown words** as `<UNK>`, so, to solve this problem, we need to use N-grams character based. Malaya chose tri-grams until fifth-grams.\n",
    "\n",
    "```python\n",
    "setan = ['set', 'eta', 'tan']\n",
    "```\n",
    "\n",
    "Sklearn provided easy interface to use n-grams, problem is, it is very sparse, a lot of zeros and not memory efficient. Sklearn returned sparse matrix for the result, lucky Tensorflow already provided some sparse function."
   ]
  },
  {
   "cell_type": "code",
   "execution_count": 11,
   "metadata": {},
   "outputs": [
    {
     "data": {
      "text/plain": [
       "['fast-text-char']"
      ]
     },
     "execution_count": 11,
     "metadata": {},
     "output_type": "execute_result"
    }
   ],
   "source": [
    "malaya.sentiment.available_sparse_deep_model()"
   ]
  },
  {
   "cell_type": "markdown",
   "metadata": {},
   "source": [
    "Right now Malaya only provide 1 sparse model, `fast-text-char`. We will try to evolve it."
   ]
  },
  {
   "cell_type": "code",
   "execution_count": 12,
   "metadata": {},
   "outputs": [
    {
     "name": "stdout",
     "output_type": "stream",
     "text": [
      "INFO:tensorflow:Restoring parameters from /Users/huseinzol/Malaya/sentiment/fast-text-char/model.ckpt\n"
     ]
    }
   ],
   "source": [
    "sparse_model = malaya.sentiment.sparse_deep_model()"
   ]
  },
  {
   "cell_type": "code",
   "execution_count": 13,
   "metadata": {},
   "outputs": [
    {
     "data": {
      "text/plain": [
       "'positive'"
      ]
     },
     "execution_count": 13,
     "metadata": {},
     "output_type": "execute_result"
    }
   ],
   "source": [
    "sparse_model.predict(positive_text)"
   ]
  },
  {
   "cell_type": "code",
   "execution_count": 14,
   "metadata": {},
   "outputs": [
    {
     "data": {
      "text/plain": [
       "['positive', 'negative']"
      ]
     },
     "execution_count": 14,
     "metadata": {},
     "output_type": "execute_result"
    }
   ],
   "source": [
    "sparse_model.predict_batch([positive_text, negative_text])"
   ]
  },
  {
   "cell_type": "code",
   "execution_count": 15,
   "metadata": {},
   "outputs": [
    {
     "data": {
      "text/plain": [
       "[{'negative': 0.41368636, 'positive': 0.58631366},\n",
       " {'negative': 0.6855174, 'positive': 0.31448266}]"
      ]
     },
     "execution_count": 15,
     "metadata": {},
     "output_type": "execute_result"
    }
   ],
   "source": [
    "sparse_model.predict_batch([positive_text, negative_text],get_proba=True)"
   ]
  },
  {
   "cell_type": "markdown",
   "metadata": {},
   "source": [
    "**Not bad huh, but the polarity is not really high as word-based models. Word-based models can get negative / positive value really near to 1.0**"
   ]
  },
  {
   "cell_type": "markdown",
   "metadata": {},
   "source": [
    "## Train a multinomial model using custom dataset"
   ]
  },
  {
   "cell_type": "code",
   "execution_count": 16,
   "metadata": {},
   "outputs": [],
   "source": [
    "import pandas as pd\n",
    "df = pd.read_csv('tests/02032018.csv',sep=';')\n",
    "df = df.iloc[3:,1:]\n",
    "df.columns = ['text','label']\n",
    "corpus = df.text.tolist()"
   ]
  },
  {
   "cell_type": "markdown",
   "metadata": {},
   "source": [
    "corpus should be [(text, label)]"
   ]
  },
  {
   "cell_type": "code",
   "execution_count": 17,
   "metadata": {},
   "outputs": [
    {
     "name": "stdout",
     "output_type": "stream",
     "text": [
      "             precision    recall  f1-score   support\n",
      "\n",
      "   Negative       0.00      0.00      0.00        14\n",
      "    Neutral       1.00      0.16      0.27        19\n",
      "   Positive       0.48      1.00      0.65        28\n",
      "\n",
      "avg / total       0.53      0.51      0.38        61\n",
      "\n"
     ]
    }
   ],
   "source": [
    "dataset = [[df.iloc[i,0],df.iloc[i,1]] for i in range(df.shape[0])]\n",
    "bayes = malaya.sentiment.train_multinomial(dataset)"
   ]
  },
  {
   "cell_type": "markdown",
   "metadata": {},
   "source": [
    "#### You also able to feed directory location\n",
    "\n",
    "```\n",
    "directory\n",
    "    |\n",
    "    |- adidas\n",
    "    |- apple\n",
    "    |- hungry\n",
    "```"
   ]
  },
  {
   "cell_type": "code",
   "execution_count": 18,
   "metadata": {},
   "outputs": [
    {
     "name": "stdout",
     "output_type": "stream",
     "text": [
      "             precision    recall  f1-score   support\n",
      "\n",
      "     adidas       0.96      0.60      0.73       307\n",
      "      apple       0.98      0.61      0.75       452\n",
      "     hungry       0.81      0.92      0.86      1080\n",
      "   kerajaan       0.85      0.84      0.85      1368\n",
      "       nike       0.97      0.59      0.73       337\n",
      "pembangkang       0.71      0.86      0.78      1515\n",
      "\n",
      "avg / total       0.83      0.81      0.81      5059\n",
      "\n"
     ]
    }
   ],
   "source": [
    "bayes = malaya.sentiment.train_multinomial('tests/local')"
   ]
  },
  {
   "cell_type": "code",
   "execution_count": 19,
   "metadata": {},
   "outputs": [
    {
     "data": {
      "text/plain": [
       "{'adidas': 0.0009457320283650909,\n",
       " 'apple': 0.0015201576315820337,\n",
       " 'hungry': 0.010995398743342504,\n",
       " 'kerajaan': 0.052672712669506426,\n",
       " 'nike': 0.0010803916911456771,\n",
       " 'pembangkang': 0.9327856072360596}"
      ]
     },
     "execution_count": 19,
     "metadata": {},
     "output_type": "execute_result"
    }
   ],
   "source": [
    "bayes.predict('saya suka kerajaan dan anwar ibrahim', get_proba = True)"
   ]
  },
  {
   "cell_type": "markdown",
   "metadata": {},
   "source": [
    "#### Train a multinomial using skip-gram vectorization"
   ]
  },
  {
   "cell_type": "code",
   "execution_count": 20,
   "metadata": {},
   "outputs": [
    {
     "name": "stdout",
     "output_type": "stream",
     "text": [
      "             precision    recall  f1-score   support\n",
      "\n",
      "     adidas       0.39      0.85      0.54       327\n",
      "      apple       0.53      0.90      0.67       485\n",
      "     hungry       0.82      0.92      0.87      1006\n",
      "   kerajaan       0.90      0.62      0.73      1440\n",
      "       nike       0.55      0.79      0.65       311\n",
      "pembangkang       0.88      0.56      0.68      1490\n",
      "\n",
      "avg / total       0.79      0.71      0.72      5059\n",
      "\n"
     ]
    }
   ],
   "source": [
    "bayes = malaya.sentiment.train_multinomial(\n",
    "    'tests/local', vector = 'skip-gram', ngram_range = (1, 3), skip = 5\n",
    ")"
   ]
  },
  {
   "cell_type": "code",
   "execution_count": 21,
   "metadata": {},
   "outputs": [
    {
     "data": {
      "text/plain": [
       "{'adidas': 5.862202104675177e-13,\n",
       " 'apple': 1.2083814498363065e-12,\n",
       " 'hungry': 5.524552079715613e-10,\n",
       " 'kerajaan': 3.502009688789598e-08,\n",
       " 'nike': 9.084892985507942e-13,\n",
       " 'pembangkang': 0.9999999644247459}"
      ]
     },
     "execution_count": 21,
     "metadata": {},
     "output_type": "execute_result"
    }
   ],
   "source": [
    "bayes.predict('saya suka kerajaan dan anwar ibrahim', get_proba = True)"
   ]
  }
 ],
 "metadata": {
  "kernelspec": {
   "display_name": "Python 3",
   "language": "python",
   "name": "python3"
  },
  "language_info": {
   "codemirror_mode": {
    "name": "ipython",
    "version": 3
   },
   "file_extension": ".py",
   "mimetype": "text/x-python",
   "name": "python",
   "nbconvert_exporter": "python",
   "pygments_lexer": "ipython3",
   "version": "3.6.5"
  }
 },
 "nbformat": 4,
 "nbformat_minor": 2
}
