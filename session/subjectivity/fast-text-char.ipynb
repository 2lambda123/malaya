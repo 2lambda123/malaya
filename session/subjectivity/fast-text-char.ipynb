{
 "cells": [
  {
   "cell_type": "code",
   "execution_count": 1,
   "metadata": {},
   "outputs": [
    {
     "name": "stderr",
     "output_type": "stream",
     "text": [
      "/usr/local/lib/python3.6/dist-packages/sklearn/cross_validation.py:41: DeprecationWarning: This module was deprecated in version 0.18 in favor of the model_selection module into which all the refactored classes and functions are moved. Also note that the interface of the new CV iterators are different from that of this module. This module will be removed in 0.20.\n",
      "  \"This module will be removed in 0.20.\", DeprecationWarning)\n"
     ]
    }
   ],
   "source": [
    "import re\n",
    "import numpy as np\n",
    "import pandas as pd\n",
    "import collections\n",
    "from sklearn import metrics\n",
    "from sklearn.preprocessing import LabelEncoder\n",
    "import tensorflow as tf\n",
    "from sklearn.cross_validation import train_test_split\n",
    "from unidecode import unidecode\n",
    "from nltk.util import ngrams\n",
    "from tqdm import tqdm\n",
    "import time"
   ]
  },
  {
   "cell_type": "code",
   "execution_count": 2,
   "metadata": {},
   "outputs": [],
   "source": [
    "permulaan = [\n",
    "    'bel',\n",
    "    'se',\n",
    "    'ter',\n",
    "    'men',\n",
    "    'meng',\n",
    "    'mem',\n",
    "    'memper',\n",
    "    'di',\n",
    "    'pe',\n",
    "    'me',\n",
    "    'ke',\n",
    "    'ber',\n",
    "    'pen',\n",
    "    'per',\n",
    "]\n",
    "\n",
    "hujung = ['kan', 'kah', 'lah', 'tah', 'nya', 'an', 'wan', 'wati', 'ita']\n",
    "\n",
    "def naive_stemmer(word):\n",
    "    assert isinstance(word, str), 'input must be a string'\n",
    "    hujung_result = [e for e in hujung if word.endswith(e)]\n",
    "    if len(hujung_result):\n",
    "        hujung_result = max(hujung_result, key = len)\n",
    "        if len(hujung_result):\n",
    "            word = word[: -len(hujung_result)]\n",
    "    permulaan_result = [e for e in permulaan if word.startswith(e)]\n",
    "    if len(permulaan_result):\n",
    "        permulaan_result = max(permulaan_result, key = len)\n",
    "        if len(permulaan_result):\n",
    "            word = word[len(permulaan_result) :]\n",
    "    return word"
   ]
  },
  {
   "cell_type": "code",
   "execution_count": 4,
   "metadata": {},
   "outputs": [],
   "source": [
    "def classification_textcleaning(string):\n",
    "    string = re.sub(\n",
    "        'http\\S+|www.\\S+',\n",
    "        '',\n",
    "        ' '.join(\n",
    "            [i for i in string.split() if i.find('#') < 0 and i.find('@') < 0]\n",
    "        ),\n",
    "    )\n",
    "    string = unidecode(string).replace('.', ' . ').replace(',', ' , ')\n",
    "    string = re.sub('[^A-Za-z ]+', ' ', string)\n",
    "    string = re.sub(r'[ ]+', ' ', string).strip()\n",
    "    string = ' '.join(\n",
    "        [i for i in re.findall('[\\\\w\\']+|[;:\\-\\(\\)&.,!?\"]', string) if len(i)]\n",
    "    )\n",
    "    string = string.lower().split()\n",
    "    string = [naive_stemmer(word) for word in string]\n",
    "    return ' '.join([word for word in string if len(word) > 1])\n",
    "\n",
    "def convert_sparse_matrix_to_sparse_tensor(X):\n",
    "    coo = X.tocoo()\n",
    "    indices = np.mat([coo.row, coo.col]).transpose()\n",
    "    return tf.SparseTensorValue(indices, coo.col, coo.shape), tf.SparseTensorValue(indices, coo.data, coo.shape)"
   ]
  },
  {
   "cell_type": "code",
   "execution_count": 5,
   "metadata": {},
   "outputs": [],
   "source": [
    "with open('subjectivity-negative-translated.txt','r') as fopen:\n",
    "    texts = fopen.read().split('\\n')\n",
    "labels = [0] * len(texts)\n",
    "\n",
    "with open('subjectivity-positive-translated.txt','r') as fopen:\n",
    "    positive_texts = fopen.read().split('\\n')\n",
    "labels += [1] * len(positive_texts)\n",
    "texts += positive_texts\n",
    "\n",
    "assert len(labels) == len(texts)"
   ]
  },
  {
   "cell_type": "code",
   "execution_count": 6,
   "metadata": {},
   "outputs": [],
   "source": [
    "x, y = [], []\n",
    "for i in range(len(texts)):\n",
    "    s = classification_textcleaning(texts[i])\n",
    "    if len(s) > 5:\n",
    "        x.append(s)\n",
    "        y.append(labels[i])"
   ]
  },
  {
   "cell_type": "code",
   "execution_count": 8,
   "metadata": {},
   "outputs": [],
   "source": [
    "from sklearn.feature_extraction.text import CountVectorizer\n",
    "bow_chars = CountVectorizer(ngram_range=(3, 5), analyzer='char_wb', max_features=300000).fit(texts)\n",
    "delattr(bow_chars, 'stop_words_')\n",
    "feature_shape = bow_chars.transform(texts[:1]).shape[1]"
   ]
  },
  {
   "cell_type": "code",
   "execution_count": 11,
   "metadata": {},
   "outputs": [],
   "source": [
    "class Model:\n",
    "    def __init__(self, vocab_size, learning_rate):\n",
    "        self.X = tf.sparse_placeholder(tf.int32)\n",
    "        self.W = tf.sparse_placeholder(tf.int32)\n",
    "        self.Y = tf.placeholder(tf.int32, [None])\n",
    "        embeddings = tf.Variable(tf.truncated_normal([vocab_size,128]))\n",
    "        embed = tf.nn.embedding_lookup_sparse(embeddings, self.X, self.W, combiner='mean')\n",
    "        self.logits = tf.layers.dense(embed, 2)\n",
    "        self.cost = tf.reduce_mean(tf.nn.sparse_softmax_cross_entropy_with_logits(\n",
    "            logits = self.logits, labels = self.Y))\n",
    "        self.optimizer = tf.train.AdamOptimizer(learning_rate = learning_rate).minimize(self.cost)\n",
    "        correct_pred = tf.equal(tf.argmax(self.logits, 1,output_type=tf.int32), self.Y)\n",
    "        self.accuracy = tf.reduce_mean(tf.cast(correct_pred, tf.float32))"
   ]
  },
  {
   "cell_type": "code",
   "execution_count": 12,
   "metadata": {},
   "outputs": [
    {
     "name": "stderr",
     "output_type": "stream",
     "text": [
      "/usr/local/lib/python3.6/dist-packages/tensorflow/python/ops/gradients_impl.py:112: UserWarning: Converting sparse IndexedSlices to a dense Tensor of unknown shape. This may consume a large amount of memory.\n",
      "  \"Converting sparse IndexedSlices to a dense Tensor of unknown shape. \"\n"
     ]
    }
   ],
   "source": [
    "sess = tf.InteractiveSession()\n",
    "model = Model(feature_shape, 1e-4)\n",
    "sess.run(tf.global_variables_initializer())"
   ]
  },
  {
   "cell_type": "code",
   "execution_count": 13,
   "metadata": {},
   "outputs": [
    {
     "data": {
      "text/plain": [
       "'fast-text-char/model.ckpt'"
      ]
     },
     "execution_count": 13,
     "metadata": {},
     "output_type": "execute_result"
    }
   ],
   "source": [
    "saver = tf.train.Saver(tf.trainable_variables())\n",
    "saver.save(sess, 'fast-text-char/model.ckpt')"
   ]
  },
  {
   "cell_type": "code",
   "execution_count": 14,
   "metadata": {},
   "outputs": [],
   "source": [
    "vectors = bow_chars.transform(x)\n",
    "train_X, test_X, train_Y, test_Y = train_test_split(\n",
    "    vectors, y, test_size = 0.2\n",
    ")"
   ]
  },
  {
   "cell_type": "code",
   "execution_count": 15,
   "metadata": {},
   "outputs": [
    {
     "name": "stderr",
     "output_type": "stream",
     "text": [
      "train minibatch loop: 100%|██████████| 250/250 [00:03<00:00, 70.09it/s, accuracy=1, cost=0.677]    \n",
      "test minibatch loop: 100%|██████████| 63/63 [00:00<00:00, 342.76it/s, accuracy=0.667, cost=0.643]\n",
      "train minibatch loop:   3%|▎         | 8/250 [00:00<00:03, 73.91it/s, accuracy=0.594, cost=0.669]"
     ]
    },
    {
     "name": "stdout",
     "output_type": "stream",
     "text": [
      "epoch: 0, pass acc: 0.000000, current acc: 0.619836\n",
      "time taken: 3.7533926963806152\n",
      "epoch: 0, training loss: 0.685426, training acc: 0.569708, valid loss: 0.679796, valid acc: 0.619836\n",
      "\n"
     ]
    },
    {
     "name": "stderr",
     "output_type": "stream",
     "text": [
      "train minibatch loop: 100%|██████████| 250/250 [00:03<00:00, 72.87it/s, accuracy=1, cost=0.676]    \n",
      "test minibatch loop: 100%|██████████| 63/63 [00:00<00:00, 358.85it/s, accuracy=0.778, cost=0.617]\n",
      "train minibatch loop:   3%|▎         | 8/250 [00:00<00:03, 73.65it/s, accuracy=0.75, cost=0.647] "
     ]
    },
    {
     "name": "stdout",
     "output_type": "stream",
     "text": [
      "epoch: 1, pass acc: 0.619836, current acc: 0.717957\n",
      "time taken: 3.6083834171295166\n",
      "epoch: 1, training loss: 0.663374, training acc: 0.668465, valid loss: 0.659503, valid acc: 0.717957\n",
      "\n"
     ]
    },
    {
     "name": "stderr",
     "output_type": "stream",
     "text": [
      "train minibatch loop: 100%|██████████| 250/250 [00:03<00:00, 72.79it/s, accuracy=1, cost=0.67]     \n",
      "test minibatch loop: 100%|██████████| 63/63 [00:00<00:00, 364.50it/s, accuracy=0.889, cost=0.588]\n",
      "train minibatch loop:   3%|▎         | 8/250 [00:00<00:03, 73.56it/s, accuracy=0.75, cost=0.622] "
     ]
    },
    {
     "name": "stdout",
     "output_type": "stream",
     "text": [
      "epoch: 2, pass acc: 0.717957, current acc: 0.765401\n",
      "time taken: 3.6092426776885986\n",
      "epoch: 2, training loss: 0.639591, training acc: 0.741122, valid loss: 0.636817, valid acc: 0.765401\n",
      "\n"
     ]
    },
    {
     "name": "stderr",
     "output_type": "stream",
     "text": [
      "train minibatch loop: 100%|██████████| 250/250 [00:03<00:00, 72.73it/s, accuracy=1, cost=0.66]     \n",
      "test minibatch loop: 100%|██████████| 63/63 [00:00<00:00, 361.53it/s, accuracy=0.889, cost=0.556]\n",
      "train minibatch loop:   3%|▎         | 8/250 [00:00<00:03, 72.94it/s, accuracy=0.812, cost=0.594]"
     ]
    },
    {
     "name": "stdout",
     "output_type": "stream",
     "text": [
      "epoch: 3, pass acc: 0.765401, current acc: 0.786977\n",
      "time taken: 3.6130621433258057\n",
      "epoch: 3, training loss: 0.612778, training acc: 0.789309, valid loss: 0.611288, valid acc: 0.786977\n",
      "\n"
     ]
    },
    {
     "name": "stderr",
     "output_type": "stream",
     "text": [
      "train minibatch loop: 100%|██████████| 250/250 [00:03<00:00, 72.90it/s, accuracy=1, cost=0.645]    \n",
      "test minibatch loop: 100%|██████████| 63/63 [00:00<00:00, 359.34it/s, accuracy=0.889, cost=0.52] \n",
      "train minibatch loop:   3%|▎         | 8/250 [00:00<00:03, 73.11it/s, accuracy=0.812, cost=0.565]"
     ]
    },
    {
     "name": "stdout",
     "output_type": "stream",
     "text": [
      "epoch: 4, pass acc: 0.786977, current acc: 0.806043\n",
      "time taken: 3.613224983215332\n",
      "epoch: 4, training loss: 0.582990, training acc: 0.815284, valid loss: 0.583503, valid acc: 0.806043\n",
      "\n"
     ]
    },
    {
     "name": "stderr",
     "output_type": "stream",
     "text": [
      "train minibatch loop: 100%|██████████| 250/250 [00:03<00:00, 72.82it/s, accuracy=1, cost=0.625]    \n",
      "test minibatch loop: 100%|██████████| 63/63 [00:00<00:00, 361.00it/s, accuracy=0.889, cost=0.484]\n",
      "train minibatch loop:   3%|▎         | 8/250 [00:00<00:03, 72.96it/s, accuracy=0.812, cost=0.534]"
     ]
    },
    {
     "name": "stdout",
     "output_type": "stream",
     "text": [
      "epoch: 5, pass acc: 0.806043, current acc: 0.814071\n",
      "time taken: 3.6099295616149902\n",
      "epoch: 5, training loss: 0.551289, training acc: 0.833605, valid loss: 0.554787, valid acc: 0.814071\n",
      "\n"
     ]
    },
    {
     "name": "stderr",
     "output_type": "stream",
     "text": [
      "train minibatch loop: 100%|██████████| 250/250 [00:03<00:00, 72.70it/s, accuracy=1, cost=0.598]    \n",
      "test minibatch loop: 100%|██████████| 63/63 [00:00<00:00, 362.84it/s, accuracy=0.889, cost=0.449]\n",
      "train minibatch loop:   3%|▎         | 8/250 [00:00<00:03, 72.90it/s, accuracy=0.812, cost=0.503]"
     ]
    },
    {
     "name": "stdout",
     "output_type": "stream",
     "text": [
      "epoch: 6, pass acc: 0.814071, current acc: 0.820594\n",
      "time taken: 3.6144044399261475\n",
      "epoch: 6, training loss: 0.519261, training acc: 0.843142, valid loss: 0.526669, valid acc: 0.820594\n",
      "\n"
     ]
    },
    {
     "name": "stderr",
     "output_type": "stream",
     "text": [
      "train minibatch loop: 100%|██████████| 250/250 [00:03<00:00, 72.77it/s, accuracy=1, cost=0.566]    \n",
      "test minibatch loop: 100%|██████████| 63/63 [00:00<00:00, 359.75it/s, accuracy=0.889, cost=0.417]\n",
      "train minibatch loop:   3%|▎         | 8/250 [00:00<00:03, 73.74it/s, accuracy=0.812, cost=0.474]"
     ]
    },
    {
     "name": "stdout",
     "output_type": "stream",
     "text": [
      "epoch: 7, pass acc: 0.820594, current acc: 0.827117\n",
      "time taken: 3.6120619773864746\n",
      "epoch: 7, training loss: 0.488437, training acc: 0.850295, valid loss: 0.500409, valid acc: 0.827117\n",
      "\n"
     ]
    },
    {
     "name": "stderr",
     "output_type": "stream",
     "text": [
      "train minibatch loop: 100%|██████████| 250/250 [00:03<00:00, 72.79it/s, accuracy=1, cost=0.529]    \n",
      "test minibatch loop: 100%|██████████| 63/63 [00:00<00:00, 345.64it/s, accuracy=0.889, cost=0.389]\n",
      "train minibatch loop:   3%|▎         | 8/250 [00:00<00:03, 72.52it/s, accuracy=0.875, cost=0.447]"
     ]
    },
    {
     "name": "stdout",
     "output_type": "stream",
     "text": [
      "epoch: 8, pass acc: 0.827117, current acc: 0.834142\n",
      "time taken: 3.618224859237671\n",
      "epoch: 8, training loss: 0.459905, training acc: 0.858075, valid loss: 0.476761, valid acc: 0.834142\n",
      "\n"
     ]
    },
    {
     "name": "stderr",
     "output_type": "stream",
     "text": [
      "train minibatch loop: 100%|██████████| 250/250 [00:03<00:00, 72.80it/s, accuracy=1, cost=0.49]     \n",
      "test minibatch loop: 100%|██████████| 63/63 [00:00<00:00, 361.02it/s, accuracy=0.889, cost=0.364]\n",
      "train minibatch loop:   3%|▎         | 8/250 [00:00<00:03, 73.07it/s, accuracy=0.906, cost=0.423]"
     ]
    },
    {
     "name": "stdout",
     "output_type": "stream",
     "text": [
      "epoch: 9, pass acc: 0.834142, current acc: 0.839159\n",
      "time taken: 3.6102097034454346\n",
      "epoch: 9, training loss: 0.434198, training acc: 0.864977, valid loss: 0.455991, valid acc: 0.839159\n",
      "\n"
     ]
    },
    {
     "name": "stderr",
     "output_type": "stream",
     "text": [
      "train minibatch loop: 100%|██████████| 250/250 [00:03<00:00, 72.82it/s, accuracy=1, cost=0.449]    \n",
      "test minibatch loop: 100%|██████████| 63/63 [00:00<00:00, 358.81it/s, accuracy=0.889, cost=0.342]\n",
      "train minibatch loop:   3%|▎         | 8/250 [00:00<00:03, 73.16it/s, accuracy=0.938, cost=0.401]"
     ]
    },
    {
     "name": "stdout",
     "output_type": "stream",
     "text": [
      "epoch: 10, pass acc: 0.839159, current acc: 0.842672\n",
      "time taken: 3.6107470989227295\n",
      "epoch: 10, training loss: 0.411403, training acc: 0.868867, valid loss: 0.438023, valid acc: 0.842672\n",
      "\n"
     ]
    },
    {
     "name": "stderr",
     "output_type": "stream",
     "text": [
      "train minibatch loop: 100%|██████████| 250/250 [00:03<00:00, 72.80it/s, accuracy=1, cost=0.408]    \n",
      "test minibatch loop: 100%|██████████| 63/63 [00:00<00:00, 359.27it/s, accuracy=0.889, cost=0.324]\n",
      "train minibatch loop:   3%|▎         | 8/250 [00:00<00:03, 72.93it/s, accuracy=0.906, cost=0.381]"
     ]
    },
    {
     "name": "stdout",
     "output_type": "stream",
     "text": [
      "epoch: 11, pass acc: 0.842672, current acc: 0.844177\n",
      "time taken: 3.61116623878479\n",
      "epoch: 11, training loss: 0.391329, training acc: 0.872631, valid loss: 0.422596, valid acc: 0.844177\n",
      "\n"
     ]
    },
    {
     "name": "stderr",
     "output_type": "stream",
     "text": [
      "train minibatch loop: 100%|██████████| 250/250 [00:03<00:00, 72.83it/s, accuracy=1, cost=0.369]    \n",
      "test minibatch loop: 100%|██████████| 63/63 [00:00<00:00, 359.83it/s, accuracy=0.889, cost=0.309]\n",
      "train minibatch loop:   3%|▎         | 8/250 [00:00<00:03, 72.94it/s, accuracy=0.906, cost=0.363]"
     ]
    },
    {
     "name": "stdout",
     "output_type": "stream",
     "text": [
      "epoch: 12, pass acc: 0.844177, current acc: 0.850198\n",
      "time taken: 3.609103202819824\n",
      "epoch: 12, training loss: 0.373658, training acc: 0.877525, valid loss: 0.409375, valid acc: 0.850198\n",
      "\n"
     ]
    },
    {
     "name": "stderr",
     "output_type": "stream",
     "text": [
      "train minibatch loop: 100%|██████████| 250/250 [00:03<00:00, 72.84it/s, accuracy=1, cost=0.331]    \n",
      "test minibatch loop: 100%|██████████| 63/63 [00:00<00:00, 357.14it/s, accuracy=0.889, cost=0.295]\n",
      "train minibatch loop:   3%|▎         | 8/250 [00:00<00:03, 73.50it/s, accuracy=0.906, cost=0.347]"
     ]
    },
    {
     "name": "stdout",
     "output_type": "stream",
     "text": [
      "epoch: 13, pass acc: 0.850198, current acc: 0.851703\n",
      "time taken: 3.610186815261841\n",
      "epoch: 13, training loss: 0.358040, training acc: 0.881917, valid loss: 0.398026, valid acc: 0.851703\n",
      "\n"
     ]
    },
    {
     "name": "stderr",
     "output_type": "stream",
     "text": [
      "train minibatch loop: 100%|██████████| 250/250 [00:03<00:00, 72.89it/s, accuracy=1, cost=0.296]    \n",
      "test minibatch loop: 100%|██████████| 63/63 [00:00<00:00, 349.37it/s, accuracy=0.889, cost=0.283]\n",
      "train minibatch loop:   3%|▎         | 8/250 [00:00<00:03, 72.48it/s, accuracy=0.906, cost=0.333]"
     ]
    },
    {
     "name": "stdout",
     "output_type": "stream",
     "text": [
      "epoch: 14, pass acc: 0.851703, current acc: 0.855717\n",
      "time taken: 3.6123716831207275\n",
      "epoch: 14, training loss: 0.344145, training acc: 0.886435, valid loss: 0.388243, valid acc: 0.855717\n",
      "\n"
     ]
    },
    {
     "name": "stderr",
     "output_type": "stream",
     "text": [
      "train minibatch loop: 100%|██████████| 250/250 [00:03<00:00, 72.68it/s, accuracy=1, cost=0.263]    \n",
      "test minibatch loop: 100%|██████████| 63/63 [00:00<00:00, 333.86it/s, accuracy=0.889, cost=0.273]\n",
      "train minibatch loop:   3%|▎         | 8/250 [00:00<00:03, 70.37it/s, accuracy=0.906, cost=0.319]"
     ]
    },
    {
     "name": "stdout",
     "output_type": "stream",
     "text": [
      "epoch: 15, pass acc: 0.855717, current acc: 0.857724\n",
      "time taken: 3.630380868911743\n",
      "epoch: 15, training loss: 0.331682, training acc: 0.889447, valid loss: 0.379764, valid acc: 0.857724\n",
      "\n"
     ]
    },
    {
     "name": "stderr",
     "output_type": "stream",
     "text": [
      "train minibatch loop: 100%|██████████| 250/250 [00:03<00:00, 72.44it/s, accuracy=1, cost=0.234]    \n",
      "test minibatch loop: 100%|██████████| 63/63 [00:00<00:00, 363.92it/s, accuracy=0.889, cost=0.264]\n",
      "train minibatch loop:   3%|▎         | 8/250 [00:00<00:03, 72.11it/s, accuracy=0.906, cost=0.307]"
     ]
    },
    {
     "name": "stdout",
     "output_type": "stream",
     "text": [
      "epoch: 16, pass acc: 0.857724, current acc: 0.860233\n",
      "time taken: 3.625947952270508\n",
      "epoch: 16, training loss: 0.320406, training acc: 0.893462, valid loss: 0.372368, valid acc: 0.860233\n",
      "\n"
     ]
    },
    {
     "name": "stderr",
     "output_type": "stream",
     "text": [
      "train minibatch loop: 100%|██████████| 250/250 [00:03<00:00, 72.79it/s, accuracy=1, cost=0.207]    \n",
      "test minibatch loop: 100%|██████████| 63/63 [00:00<00:00, 363.38it/s, accuracy=0.778, cost=0.256]\n",
      "train minibatch loop:   3%|▎         | 8/250 [00:00<00:03, 73.29it/s, accuracy=0.906, cost=0.295]"
     ]
    },
    {
     "name": "stdout",
     "output_type": "stream",
     "text": [
      "time taken: 3.6094651222229004\n",
      "epoch: 17, training loss: 0.310119, training acc: 0.897227, valid loss: 0.365877, valid acc: 0.859954\n",
      "\n"
     ]
    },
    {
     "name": "stderr",
     "output_type": "stream",
     "text": [
      "train minibatch loop: 100%|██████████| 250/250 [00:03<00:00, 72.86it/s, accuracy=1, cost=0.183]    \n",
      "test minibatch loop: 100%|██████████| 63/63 [00:00<00:00, 357.29it/s, accuracy=0.778, cost=0.249]\n",
      "train minibatch loop:   3%|▎         | 8/250 [00:00<00:03, 72.64it/s, accuracy=0.906, cost=0.285]"
     ]
    },
    {
     "name": "stdout",
     "output_type": "stream",
     "text": [
      "epoch: 18, pass acc: 0.860233, current acc: 0.861460\n",
      "time taken: 3.6095030307769775\n",
      "epoch: 18, training loss: 0.300658, training acc: 0.899736, valid loss: 0.360145, valid acc: 0.861460\n",
      "\n"
     ]
    },
    {
     "name": "stderr",
     "output_type": "stream",
     "text": [
      "train minibatch loop: 100%|██████████| 250/250 [00:03<00:00, 72.88it/s, accuracy=1, cost=0.162]    \n",
      "test minibatch loop: 100%|██████████| 63/63 [00:00<00:00, 359.76it/s, accuracy=0.778, cost=0.243]\n",
      "train minibatch loop:   3%|▎         | 8/250 [00:00<00:03, 72.92it/s, accuracy=0.906, cost=0.275]"
     ]
    },
    {
     "name": "stdout",
     "output_type": "stream",
     "text": [
      "epoch: 19, pass acc: 0.861460, current acc: 0.862463\n",
      "time taken: 3.6069769859313965\n",
      "epoch: 19, training loss: 0.291894, training acc: 0.901870, valid loss: 0.355054, valid acc: 0.862463\n",
      "\n"
     ]
    },
    {
     "name": "stderr",
     "output_type": "stream",
     "text": [
      "train minibatch loop: 100%|██████████| 250/250 [00:03<00:00, 72.76it/s, accuracy=1, cost=0.144]    \n",
      "test minibatch loop: 100%|██████████| 63/63 [00:00<00:00, 362.89it/s, accuracy=0.778, cost=0.237]\n",
      "train minibatch loop:   3%|▎         | 8/250 [00:00<00:03, 72.37it/s, accuracy=0.906, cost=0.266]"
     ]
    },
    {
     "name": "stdout",
     "output_type": "stream",
     "text": [
      "epoch: 20, pass acc: 0.862463, current acc: 0.863968\n",
      "time taken: 3.611123561859131\n",
      "epoch: 20, training loss: 0.283721, training acc: 0.904756, valid loss: 0.350509, valid acc: 0.863968\n",
      "\n"
     ]
    },
    {
     "name": "stderr",
     "output_type": "stream",
     "text": [
      "train minibatch loop: 100%|██████████| 250/250 [00:03<00:00, 72.65it/s, accuracy=1, cost=0.127]    \n",
      "test minibatch loop: 100%|██████████| 63/63 [00:00<00:00, 356.95it/s, accuracy=0.778, cost=0.232]\n",
      "train minibatch loop:   3%|▎         | 8/250 [00:00<00:03, 72.66it/s, accuracy=0.906, cost=0.257]"
     ]
    },
    {
     "name": "stdout",
     "output_type": "stream",
     "text": [
      "epoch: 21, pass acc: 0.863968, current acc: 0.864972\n",
      "time taken: 3.619170665740967\n",
      "epoch: 21, training loss: 0.276056, training acc: 0.906387, valid loss: 0.346434, valid acc: 0.864972\n",
      "\n"
     ]
    },
    {
     "name": "stderr",
     "output_type": "stream",
     "text": [
      "train minibatch loop: 100%|██████████| 250/250 [00:03<00:00, 72.75it/s, accuracy=1, cost=0.113]    \n",
      "test minibatch loop: 100%|██████████| 63/63 [00:00<00:00, 362.54it/s, accuracy=0.778, cost=0.227]\n",
      "train minibatch loop:   3%|▎         | 8/250 [00:00<00:03, 72.87it/s, accuracy=0.906, cost=0.249]"
     ]
    },
    {
     "name": "stdout",
     "output_type": "stream",
     "text": [
      "epoch: 22, pass acc: 0.864972, current acc: 0.865975\n",
      "time taken: 3.6117050647735596\n",
      "epoch: 22, training loss: 0.268832, training acc: 0.910152, valid loss: 0.342765, valid acc: 0.865975\n",
      "\n"
     ]
    },
    {
     "name": "stderr",
     "output_type": "stream",
     "text": [
      "train minibatch loop: 100%|██████████| 250/250 [00:03<00:00, 72.71it/s, accuracy=1, cost=0.1]      \n",
      "test minibatch loop: 100%|██████████| 63/63 [00:00<00:00, 360.50it/s, accuracy=0.778, cost=0.222]\n",
      "train minibatch loop:   3%|▎         | 8/250 [00:00<00:03, 73.02it/s, accuracy=0.906, cost=0.241]"
     ]
    },
    {
     "name": "stdout",
     "output_type": "stream",
     "text": [
      "epoch: 23, pass acc: 0.865975, current acc: 0.867982\n",
      "time taken: 3.6148324012756348\n",
      "epoch: 23, training loss: 0.261993, training acc: 0.913164, valid loss: 0.339452, valid acc: 0.867982\n",
      "\n"
     ]
    },
    {
     "name": "stderr",
     "output_type": "stream",
     "text": [
      "train minibatch loop: 100%|██████████| 250/250 [00:03<00:00, 72.84it/s, accuracy=1, cost=0.0894]   \n",
      "test minibatch loop: 100%|██████████| 63/63 [00:00<00:00, 359.41it/s, accuracy=0.889, cost=0.218]\n",
      "train minibatch loop:   3%|▎         | 8/250 [00:00<00:03, 73.32it/s, accuracy=0.906, cost=0.233]"
     ]
    },
    {
     "name": "stdout",
     "output_type": "stream",
     "text": [
      "epoch: 24, pass acc: 0.867982, current acc: 0.870268\n",
      "time taken: 3.6091933250427246\n",
      "epoch: 24, training loss: 0.255495, training acc: 0.915046, valid loss: 0.336452, valid acc: 0.870268\n",
      "\n"
     ]
    },
    {
     "name": "stderr",
     "output_type": "stream",
     "text": [
      "train minibatch loop: 100%|██████████| 250/250 [00:03<00:00, 72.80it/s, accuracy=1, cost=0.0798]   \n",
      "test minibatch loop: 100%|██████████| 63/63 [00:00<00:00, 360.80it/s, accuracy=0.889, cost=0.214]\n",
      "train minibatch loop:   3%|▎         | 8/250 [00:00<00:03, 73.50it/s, accuracy=0.906, cost=0.226]"
     ]
    },
    {
     "name": "stdout",
     "output_type": "stream",
     "text": [
      "time taken: 3.610092878341675\n",
      "epoch: 25, training loss: 0.249301, training acc: 0.916301, valid loss: 0.333730, valid acc: 0.869766\n",
      "\n"
     ]
    },
    {
     "name": "stderr",
     "output_type": "stream",
     "text": [
      "train minibatch loop: 100%|██████████| 250/250 [00:03<00:00, 72.78it/s, accuracy=1, cost=0.0715]   \n",
      "test minibatch loop: 100%|██████████| 63/63 [00:00<00:00, 349.51it/s, accuracy=0.889, cost=0.21] \n",
      "train minibatch loop:   3%|▎         | 8/250 [00:00<00:03, 73.77it/s, accuracy=0.906, cost=0.22] "
     ]
    },
    {
     "name": "stdout",
     "output_type": "stream",
     "text": [
      "time taken: 3.6166813373565674\n",
      "epoch: 26, training loss: 0.243380, training acc: 0.919061, valid loss: 0.331257, valid acc: 0.869766\n",
      "\n"
     ]
    },
    {
     "name": "stderr",
     "output_type": "stream",
     "text": [
      "train minibatch loop: 100%|██████████| 250/250 [00:03<00:00, 72.87it/s, accuracy=1, cost=0.0642]   \n",
      "test minibatch loop: 100%|██████████| 63/63 [00:00<00:00, 359.48it/s, accuracy=0.889, cost=0.207]"
     ]
    },
    {
     "name": "stdout",
     "output_type": "stream",
     "text": [
      "time taken: 3.6078076362609863\n",
      "epoch: 27, training loss: 0.237706, training acc: 0.921571, valid loss: 0.329006, valid acc: 0.870268\n",
      "\n",
      "break epoch:28\n",
      "\n"
     ]
    },
    {
     "name": "stderr",
     "output_type": "stream",
     "text": [
      "\n"
     ]
    }
   ],
   "source": [
    "from tqdm import tqdm\n",
    "import time\n",
    "\n",
    "batch_size = 32\n",
    "EARLY_STOPPING, CURRENT_CHECKPOINT, CURRENT_ACC, EPOCH = 3, 0, 0, 0\n",
    "\n",
    "while True:\n",
    "    lasttime = time.time()\n",
    "    if CURRENT_CHECKPOINT == EARLY_STOPPING:\n",
    "        print('break epoch:%d\\n' % (EPOCH))\n",
    "        break\n",
    "\n",
    "    train_acc, train_loss, test_acc, test_loss = 0, 0, 0, 0\n",
    "    pbar = tqdm(\n",
    "        range(0, train_X.shape[0], batch_size), desc = 'train minibatch loop'\n",
    "    )\n",
    "    for i in pbar:\n",
    "        batch_x = convert_sparse_matrix_to_sparse_tensor(train_X[i : min(i + batch_size, train_X.shape[0])])\n",
    "        batch_y = train_Y[i : min(i + batch_size, train_X.shape[0])]\n",
    "        batch_x_expand = np.expand_dims(batch_x,axis = 1)\n",
    "        acc, cost, _ = sess.run(\n",
    "            [model.accuracy, model.cost, model.optimizer],\n",
    "            feed_dict = {\n",
    "                model.Y: batch_y,\n",
    "                model.X: batch_x[0],\n",
    "                model.W: batch_x[1],\n",
    "            },\n",
    "        )\n",
    "        assert not np.isnan(cost)\n",
    "        train_loss += cost\n",
    "        train_acc += acc\n",
    "        pbar.set_postfix(cost = cost, accuracy = acc)\n",
    "    pbar = tqdm(range(0, test_X.shape[0], batch_size), desc = 'test minibatch loop')\n",
    "    for i in pbar:\n",
    "        batch_x = convert_sparse_matrix_to_sparse_tensor(test_X[i : min(i + batch_size, test_X.shape[0])])\n",
    "        batch_y = test_Y[i : min(i + batch_size, test_X.shape[0])]\n",
    "        batch_x_expand = np.expand_dims(batch_x,axis = 1)\n",
    "        acc, cost = sess.run(\n",
    "            [model.accuracy, model.cost],\n",
    "            feed_dict = {\n",
    "                model.Y: batch_y,\n",
    "                model.X: batch_x[0],\n",
    "                model.W: batch_x[1],\n",
    "            },\n",
    "        )\n",
    "        test_loss += cost\n",
    "        test_acc += acc\n",
    "        pbar.set_postfix(cost = cost, accuracy = acc)\n",
    "\n",
    "    train_loss /= train_X.shape[0] / batch_size\n",
    "    train_acc /= train_X.shape[0] / batch_size\n",
    "    test_loss /= test_X.shape[0] / batch_size\n",
    "    test_acc /= test_X.shape[0] / batch_size\n",
    "\n",
    "    if test_acc > CURRENT_ACC:\n",
    "        print(\n",
    "            'epoch: %d, pass acc: %f, current acc: %f'\n",
    "            % (EPOCH, CURRENT_ACC, test_acc)\n",
    "        )\n",
    "        CURRENT_ACC = test_acc\n",
    "        CURRENT_CHECKPOINT = 0\n",
    "    else:\n",
    "        CURRENT_CHECKPOINT += 1\n",
    "    print('time taken:', time.time() - lasttime)\n",
    "    print(\n",
    "        'epoch: %d, training loss: %f, training acc: %f, valid loss: %f, valid acc: %f\\n'\n",
    "        % (EPOCH, train_loss, train_acc, test_loss, test_acc)\n",
    "    )\n",
    "    EPOCH += 1"
   ]
  },
  {
   "cell_type": "code",
   "execution_count": 16,
   "metadata": {},
   "outputs": [
    {
     "name": "stderr",
     "output_type": "stream",
     "text": [
      "validation minibatch loop: 100%|██████████| 63/63 [00:00<00:00, 586.12it/s]\n"
     ]
    }
   ],
   "source": [
    "real_Y, predict_Y = [], []\n",
    "\n",
    "pbar = tqdm(\n",
    "    range(0, test_X.shape[0], batch_size), desc = 'validation minibatch loop'\n",
    ")\n",
    "for i in pbar:\n",
    "    batch_x = convert_sparse_matrix_to_sparse_tensor(test_X[i : min(i + batch_size, test_X.shape[0])])\n",
    "    batch_y = test_Y[i : min(i + batch_size, test_X.shape[0])]\n",
    "    predict_Y += np.argmax(\n",
    "        sess.run(\n",
    "            model.logits, feed_dict = {model.X: batch_x[0], model.W: batch_x[1], model.Y: batch_y}\n",
    "        ),\n",
    "        1,\n",
    "    ).tolist()\n",
    "    real_Y += batch_y"
   ]
  },
  {
   "cell_type": "code",
   "execution_count": 17,
   "metadata": {},
   "outputs": [
    {
     "name": "stdout",
     "output_type": "stream",
     "text": [
      "             precision    recall  f1-score   support\n",
      "\n",
      "   negative       0.85      0.87      0.86       992\n",
      "   positive       0.87      0.85      0.86      1001\n",
      "\n",
      "avg / total       0.86      0.86      0.86      1993\n",
      "\n"
     ]
    }
   ],
   "source": [
    "print(\n",
    "    metrics.classification_report(\n",
    "        real_Y, predict_Y, target_names = ['negative', 'positive']\n",
    "    )\n",
    ")"
   ]
  },
  {
   "cell_type": "code",
   "execution_count": 18,
   "metadata": {},
   "outputs": [
    {
     "data": {
      "text/plain": [
       "'fast-text-char/model.ckpt'"
      ]
     },
     "execution_count": 18,
     "metadata": {},
     "output_type": "execute_result"
    }
   ],
   "source": [
    "saver.save(sess, 'fast-text-char/model.ckpt')"
   ]
  },
  {
   "cell_type": "code",
   "execution_count": 19,
   "metadata": {},
   "outputs": [],
   "source": [
    "import pickle\n",
    "with open('vectorizer-sparse-subjectivity.pkl','wb') as fopen:\n",
    "    pickle.dump(bow_chars, fopen)"
   ]
  },
  {
   "cell_type": "code",
   "execution_count": null,
   "metadata": {},
   "outputs": [],
   "source": []
  }
 ],
 "metadata": {
  "kernelspec": {
   "display_name": "Python 3",
   "language": "python",
   "name": "python3"
  },
  "language_info": {
   "codemirror_mode": {
    "name": "ipython",
    "version": 3
   },
   "file_extension": ".py",
   "mimetype": "text/x-python",
   "name": "python",
   "nbconvert_exporter": "python",
   "pygments_lexer": "ipython3",
   "version": "3.6.8"
  }
 },
 "nbformat": 4,
 "nbformat_minor": 2
}
