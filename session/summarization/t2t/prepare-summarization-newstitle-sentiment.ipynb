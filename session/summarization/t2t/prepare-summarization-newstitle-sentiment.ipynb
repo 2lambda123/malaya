{
 "cells": [
  {
   "cell_type": "code",
   "execution_count": 11,
   "metadata": {
    "scrolled": true
   },
   "outputs": [
    {
     "data": {
      "text/plain": [
       "['t5-data/cnn-summarization-0.tsv.sentiment',\n",
       " 't5-data/news-title-0.tsv.sentiment',\n",
       " 't5-data/news-title-3.tsv.sentiment',\n",
       " 't5-data/news-title-1.tsv.sentiment',\n",
       " 't5-data/multinews-summarization-1.tsv.sentiment',\n",
       " 't5-data/multinews-summarization-0.tsv.sentiment',\n",
       " 't5-data/news-title-2.tsv.sentiment',\n",
       " 't5-data/cnn-summarization-1.tsv.sentiment']"
      ]
     },
     "execution_count": 11,
     "metadata": {},
     "output_type": "execute_result"
    }
   ],
   "source": [
    "from glob import glob\n",
    "\n",
    "files = glob('t5-data/*.tsv.sentiment')\n",
    "files"
   ]
  },
  {
   "cell_type": "code",
   "execution_count": 16,
   "metadata": {},
   "outputs": [
    {
     "name": "stdout",
     "output_type": "stream",
     "text": [
      "t5-data/cnn-summarization-0.tsv.sentiment\n",
      "t5-data/news-title-0.tsv.sentiment\n",
      "t5-data/news-title-3.tsv.sentiment\n",
      "t5-data/news-title-1.tsv.sentiment\n",
      "t5-data/multinews-summarization-1.tsv.sentiment\n",
      "t5-data/multinews-summarization-0.tsv.sentiment\n",
      "t5-data/news-title-2.tsv.sentiment\n",
      "t5-data/cnn-summarization-1.tsv.sentiment\n"
     ]
    }
   ],
   "source": [
    "import json\n",
    "import tensorflow as tf\n",
    "\n",
    "for file in files:\n",
    "    print(file)\n",
    "    \n",
    "    with open(file) as fopen:\n",
    "        data = json.load(fopen)\n",
    "\n",
    "    before = data['left']\n",
    "    sentiment = data['sentiment']\n",
    "    after = data['right']\n",
    "    \n",
    "    with tf.io.gfile.GFile(f'{file}.tsv', 'w') as outfile:\n",
    "        for i in range(len(before)):\n",
    "            b = f'sentiment: {sentiment[i]}: {before[i]}'\n",
    "            outfile.write('%s\\t%s\\n' % (b, after[i]))"
   ]
  },
  {
   "cell_type": "code",
   "execution_count": 17,
   "metadata": {},
   "outputs": [],
   "source": [
    "with open('../news/populate-news-sentiment.json') as fopen:\n",
    "    sentiment_news = json.load(fopen)\n",
    "    \n",
    "with open('../news/populate-news.json') as fopen:\n",
    "    news = json.load(fopen)"
   ]
  },
  {
   "cell_type": "code",
   "execution_count": 18,
   "metadata": {},
   "outputs": [
    {
     "data": {
      "text/plain": [
       "dict_keys(['text-sentiment', 'headline-sentiment', 'headline'])"
      ]
     },
     "execution_count": 18,
     "metadata": {},
     "output_type": "execute_result"
    }
   ],
   "source": [
    "sentiment_news.keys()"
   ]
  },
  {
   "cell_type": "code",
   "execution_count": 20,
   "metadata": {},
   "outputs": [
    {
     "data": {
      "text/plain": [
       "dict_keys(['text', 'title'])"
      ]
     },
     "execution_count": 20,
     "metadata": {},
     "output_type": "execute_result"
    }
   ],
   "source": [
    "news.keys()"
   ]
  },
  {
   "cell_type": "code",
   "execution_count": 24,
   "metadata": {},
   "outputs": [],
   "source": [
    "before = news['text']\n",
    "after = news['title']\n",
    "sentiment = sentiment_news['text-sentiment']"
   ]
  },
  {
   "cell_type": "code",
   "execution_count": null,
   "metadata": {},
   "outputs": [],
   "source": [
    "with tf.io.gfile.GFile(f't5-data/newstitle-sentiment.tsv', 'w') as outfile:\n",
    "    for i in range(len(before)):\n",
    "        b = f'sentiment: {sentiment[i]}: {before[i]}'\n",
    "        outfile.write('%s\\t%s\\n' % (b, after[i]))"
   ]
  }
 ],
 "metadata": {
  "kernelspec": {
   "display_name": "Python 3",
   "language": "python",
   "name": "python3"
  },
  "language_info": {
   "codemirror_mode": {
    "name": "ipython",
    "version": 3
   },
   "file_extension": ".py",
   "mimetype": "text/x-python",
   "name": "python",
   "nbconvert_exporter": "python",
   "pygments_lexer": "ipython3",
   "version": "3.6.8"
  }
 },
 "nbformat": 4,
 "nbformat_minor": 2
}
