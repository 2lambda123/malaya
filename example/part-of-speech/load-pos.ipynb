{
 "cells": [
  {
   "cell_type": "code",
   "execution_count": 1,
   "metadata": {},
   "outputs": [],
   "source": [
    "import malaya"
   ]
  },
  {
   "cell_type": "markdown",
   "metadata": {},
   "source": [
    "## List available deep learning POS models"
   ]
  },
  {
   "cell_type": "code",
   "execution_count": 2,
   "metadata": {},
   "outputs": [
    {
     "data": {
      "text/plain": [
       "['concat', 'bahdanau', 'luong', 'entity-network']"
      ]
     },
     "execution_count": 2,
     "metadata": {},
     "output_type": "execute_result"
    }
   ],
   "source": [
    "malaya.get_available_pos_models()"
   ]
  },
  {
   "cell_type": "markdown",
   "metadata": {},
   "source": [
    "## Describe supported POS"
   ]
  },
  {
   "cell_type": "code",
   "execution_count": 3,
   "metadata": {},
   "outputs": [
    {
     "name": "stdout",
     "output_type": "stream",
     "text": [
      "ADJ - Adjective, kata sifat\n",
      "ADP - Adposition\n",
      "ADV - Adverb, kata keterangan\n",
      "ADX - Auxiliary verb, kata kerja tambahan\n",
      "CCONJ - Coordinating conjuction, kata hubung\n",
      "DET - Determiner, kata penentu\n",
      "NOUN - Noun, kata nama\n",
      "NUM - Number, nombor\n",
      "PART - Particle\n",
      "PRON - Pronoun, kata ganti\n",
      "PROPN - Proper noun, kata ganti nama khas\n",
      "SCONJ - Subordinating conjunction\n",
      "SYM - Symbol\n",
      "VERB - Verb, kata kerja\n",
      "X - Other\n"
     ]
    }
   ],
   "source": [
    "malaya.describe_pos()"
   ]
  },
  {
   "cell_type": "markdown",
   "metadata": {},
   "source": [
    "## Load CRF Model"
   ]
  },
  {
   "cell_type": "code",
   "execution_count": 4,
   "metadata": {},
   "outputs": [],
   "source": [
    "crf = malaya.crf_pos()"
   ]
  },
  {
   "cell_type": "code",
   "execution_count": 5,
   "metadata": {},
   "outputs": [],
   "source": [
    "string = 'KUALA LUMPUR: Sempena sambutan Aidilfitri minggu depan, Perdana Menteri Tun Dr Mahathir Mohamad dan Menteri Pengangkutan Anthony Loke Siew Fook menitipkan pesanan khas kepada orang ramai yang mahu pulang ke kampung halaman masing-masing. Dalam video pendek terbitan Jabatan Keselamatan Jalan Raya (JKJR) itu, Dr Mahathir menasihati mereka supaya berhenti berehat dan tidur sebentar  sekiranya mengantuk ketika memandu.'"
   ]
  },
  {
   "cell_type": "code",
   "execution_count": 6,
   "metadata": {},
   "outputs": [
    {
     "data": {
      "text/plain": [
       "[('Kuala', 'PROPN'),\n",
       " ('Lumpur', 'PROPN'),\n",
       " ('Sempena', 'CCONJ'),\n",
       " ('sambutan', 'NOUN'),\n",
       " ('Aidilfitri', 'NOUN'),\n",
       " ('minggu', 'NOUN'),\n",
       " ('depan', 'ADJ'),\n",
       " ('Perdana', 'PROPN'),\n",
       " ('Menteri', 'PROPN'),\n",
       " ('Tun', 'PROPN'),\n",
       " ('Dr', 'PROPN'),\n",
       " ('Mahathir', 'PROPN'),\n",
       " ('Mohamad', 'PROPN'),\n",
       " ('dan', 'CCONJ'),\n",
       " ('Menteri', 'PROPN'),\n",
       " ('Pengangkutan', 'PROPN'),\n",
       " ('Anthony', 'PROPN'),\n",
       " ('Loke', 'PROPN'),\n",
       " ('Siew', 'PROPN'),\n",
       " ('Fook', 'PROPN'),\n",
       " ('menitipkan', 'VERB'),\n",
       " ('pesanan', 'NOUN'),\n",
       " ('khas', 'ADJ'),\n",
       " ('kepada', 'ADP'),\n",
       " ('orang', 'NOUN'),\n",
       " ('ramai', 'ADJ'),\n",
       " ('yang', 'PRON'),\n",
       " ('mahu', 'ADV'),\n",
       " ('pulang', 'VERB'),\n",
       " ('ke', 'ADP'),\n",
       " ('kampung', 'NOUN'),\n",
       " ('halaman', 'NOUN'),\n",
       " ('masing-masing', 'NOUN'),\n",
       " ('Dalam', 'NOUN'),\n",
       " ('video', 'NOUN'),\n",
       " ('pendek', 'ADJ'),\n",
       " ('terbitan', 'NOUN'),\n",
       " ('Jabatan', 'PROPN'),\n",
       " ('Keselamatan', 'PROPN'),\n",
       " ('Jalan', 'PROPN'),\n",
       " ('Raya', 'PROPN'),\n",
       " ('Jkjr', 'PROPN'),\n",
       " ('itu', 'DET'),\n",
       " ('Dr', 'PROPN'),\n",
       " ('Mahathir', 'PROPN'),\n",
       " ('menasihati', 'VERB'),\n",
       " ('mereka', 'PRON'),\n",
       " ('supaya', 'SCONJ'),\n",
       " ('berhenti', 'VERB'),\n",
       " ('berehat', 'VERB'),\n",
       " ('dan', 'CCONJ'),\n",
       " ('tidur', 'VERB'),\n",
       " ('sebentar', 'ADP'),\n",
       " ('sekiranya', 'NOUN'),\n",
       " ('mengantuk', 'VERB'),\n",
       " ('ketika', 'SCONJ'),\n",
       " ('memandu', 'VERB')]"
      ]
     },
     "execution_count": 6,
     "metadata": {},
     "output_type": "execute_result"
    }
   ],
   "source": [
    "crf.predict(string)"
   ]
  },
  {
   "cell_type": "markdown",
   "metadata": {},
   "source": [
    "## Print important features CRF model"
   ]
  },
  {
   "cell_type": "code",
   "execution_count": 9,
   "metadata": {},
   "outputs": [
    {
     "name": "stdout",
     "output_type": "stream",
     "text": [
      "Top-10 positive:\n",
      "16.307872 DET      word:tersebut\n",
      "15.868179 DET      word:para\n",
      "15.590679 VERB     word:percaya\n",
      "15.520492 ADP      word:dari\n",
      "15.296975 DET      word:berbagai\n",
      "14.691924 ADJ      word:menakjubkan\n",
      "14.609917 ADJ      word:menyejukkan\n",
      "14.503045 PRON     word:kapan\n",
      "14.319357 DET      word:ini\n",
      "14.267956 ADV      word:pernah\n",
      "\n",
      "Top-10 negative:\n",
      "-7.217718 PROPN    word:bunga\n",
      "-7.258999 VERB     word:memuaskan\n",
      "-7.498110 ADP      prev_word:pernah\n",
      "-7.523901 ADV      next_word-suffix-3:nai\n",
      "-7.874955 NOUN     prev_word-prefix-3:arw\n",
      "-7.921689 NOUN     suffix-2:ke\n",
      "-8.049832 ADJ      prev_word:sunda\n",
      "-8.210202 PROPN    prefix-3:ora\n",
      "-8.524420 NUM      prev_word:perang\n",
      "-10.346546 CCONJ    prev_word-suffix-3:rja\n"
     ]
    }
   ],
   "source": [
    "crf.print_features(10)"
   ]
  },
  {
   "cell_type": "markdown",
   "metadata": {},
   "source": [
    "## Print important transitions CRF model"
   ]
  },
  {
   "cell_type": "code",
   "execution_count": 10,
   "metadata": {},
   "outputs": [
    {
     "name": "stdout",
     "output_type": "stream",
     "text": [
      "Top-10 likely transitions:\n",
      "PROPN  -> PROPN   5.529614\n",
      "DET    -> DET     4.492123\n",
      "NOUN   -> NOUN    2.600533\n",
      "ADJ    -> ADJ     2.276762\n",
      "CCONJ  -> CCONJ   1.888801\n",
      "CCONJ  -> SCONJ   1.855106\n",
      "NOUN   -> ADJ     1.729610\n",
      "SCONJ  -> CCONJ   1.598273\n",
      "NUM    -> NUM     1.475505\n",
      "ADV    -> VERB    1.442607\n",
      "\n",
      "Top-10 unlikely transitions:\n",
      "SCONJ  -> AUX     -3.559017\n",
      "X      -> SCONJ   -3.566058\n",
      "SYM    -> ADJ     -3.720358\n",
      "PART   -> ADP     -3.744172\n",
      "X      -> CCONJ   -4.270577\n",
      "PART   -> PART    -4.543812\n",
      "ADV    -> X       -4.809254\n",
      "ADP    -> SCONJ   -5.157816\n",
      "ADP    -> CCONJ   -5.455725\n",
      "ADP    -> SYM     -6.841944\n"
     ]
    }
   ],
   "source": [
    "crf.print_transitions(10)"
   ]
  },
  {
   "cell_type": "markdown",
   "metadata": {},
   "source": [
    "## Load deep learning models"
   ]
  },
  {
   "cell_type": "code",
   "execution_count": 11,
   "metadata": {},
   "outputs": [
    {
     "name": "stdout",
     "output_type": "stream",
     "text": [
      "Testing concat model\n",
      "[('Kuala', 'PROPN'), ('Lumpur', 'PROPN'), ('Sempena', 'VERB'), ('sambutan', 'NOUN'), ('Aidilfitri', 'NOUN'), ('minggu', 'NOUN'), ('depan', 'ADJ'), ('Perdana', 'NOUN'), ('Menteri', 'PROPN'), ('Tun', 'PROPN'), ('Dr', 'PROPN'), ('Mahathir', 'PROPN'), ('Mohamad', 'PROPN'), ('dan', 'CCONJ'), ('Menteri', 'NOUN'), ('Pengangkutan', 'PROPN'), ('Anthony', 'PROPN'), ('Loke', 'PROPN'), ('Siew', 'PROPN'), ('Fook', 'PROPN'), ('menitipkan', 'NOUN'), ('pesanan', 'VERB'), ('khas', 'ADJ'), ('kepada', 'ADP'), ('orang', 'NOUN'), ('ramai', 'ADJ'), ('yang', 'PRON'), ('mahu', 'ADV'), ('pulang', 'VERB'), ('ke', 'ADP'), ('kampung', 'NOUN'), ('halaman', 'NOUN'), ('masing-masing', 'PROPN'), ('Dalam', 'NOUN'), ('video', 'NOUN'), ('pendek', 'ADJ'), ('terbitan', 'NOUN'), ('Jabatan', 'PROPN'), ('Keselamatan', 'PROPN'), ('Jalan', 'PROPN'), ('Raya', 'PROPN'), ('Jkjr', 'NOUN'), ('itu', 'DET'), ('Dr', 'PROPN'), ('Mahathir', 'PROPN'), ('menasihati', 'VERB'), ('mereka', 'PRON'), ('supaya', 'SCONJ'), ('berhenti', 'VERB'), ('berehat', 'PROPN'), ('dan', 'CCONJ'), ('tidur', 'VERB'), ('sebentar', 'ADJ'), ('sekiranya', 'NOUN'), ('mengantuk', 'PROPN'), ('ketika', 'SCONJ'), ('memandu', 'VERB')]\n",
      "\n",
      "Testing bahdanau model\n",
      "[('Kuala', 'PROPN'), ('Lumpur', 'PROPN'), ('Sempena', 'PRON'), ('sambutan', 'NOUN'), ('Aidilfitri', 'PROPN'), ('minggu', 'PROPN'), ('depan', 'ADJ'), ('Perdana', 'PROPN'), ('Menteri', 'PROPN'), ('Tun', 'PROPN'), ('Dr', 'PROPN'), ('Mahathir', 'PROPN'), ('Mohamad', 'PROPN'), ('dan', 'CCONJ'), ('Menteri', 'PROPN'), ('Pengangkutan', 'PROPN'), ('Anthony', 'PROPN'), ('Loke', 'PROPN'), ('Siew', 'PROPN'), ('Fook', 'PRON'), ('menitipkan', 'PROPN'), ('pesanan', 'ADP'), ('khas', 'ADJ'), ('kepada', 'ADP'), ('orang', 'NOUN'), ('ramai', 'ADJ'), ('yang', 'PRON'), ('mahu', 'ADV'), ('pulang', 'VERB'), ('ke', 'ADP'), ('kampung', 'NOUN'), ('halaman', 'NOUN'), ('masing-masing', 'PROPN'), ('Dalam', 'PROPN'), ('video', 'NOUN'), ('pendek', 'ADJ'), ('terbitan', 'NOUN'), ('Jabatan', 'NOUN'), ('Keselamatan', 'PROPN'), ('Jalan', 'PROPN'), ('Raya', 'PROPN'), ('Jkjr', 'PROPN'), ('itu', 'DET'), ('Dr', 'PROPN'), ('Mahathir', 'PROPN'), ('menasihati', 'VERB'), ('mereka', 'PRON'), ('supaya', 'PART'), ('berhenti', 'VERB'), ('berehat', 'PROPN'), ('dan', 'CCONJ'), ('tidur', 'VERB'), ('sebentar', 'ADV'), ('sekiranya', 'PROPN'), ('mengantuk', 'PROPN'), ('ketika', 'SCONJ'), ('memandu', 'VERB')]\n",
      "\n",
      "Testing luong model\n",
      "downloading POS frozen luong model\n"
     ]
    },
    {
     "name": "stderr",
     "output_type": "stream",
     "text": [
      "13.0MB [00:04, 2.92MB/s]                          \n"
     ]
    },
    {
     "name": "stdout",
     "output_type": "stream",
     "text": [
      "downloading POS luong dictionary\n"
     ]
    },
    {
     "name": "stderr",
     "output_type": "stream",
     "text": [
      "1.00MB [00:00, 3.15MB/s]                   \n"
     ]
    },
    {
     "name": "stdout",
     "output_type": "stream",
     "text": [
      "[('Kuala', 'PROPN'), ('Lumpur', 'PROPN'), ('Sempena', 'PROPN'), ('sambutan', 'PROPN'), ('Aidilfitri', 'PROPN'), ('minggu', 'PROPN'), ('depan', 'ADP'), ('Perdana', 'PROPN'), ('Menteri', 'PROPN'), ('Tun', 'PROPN'), ('Dr', 'PROPN'), ('Mahathir', 'PROPN'), ('Mohamad', 'PROPN'), ('dan', 'CCONJ'), ('Menteri', 'PROPN'), ('Pengangkutan', 'PROPN'), ('Anthony', 'PROPN'), ('Loke', 'PROPN'), ('Siew', 'PROPN'), ('Fook', 'PROPN'), ('menitipkan', 'PROPN'), ('pesanan', 'PROPN'), ('khas', 'ADJ'), ('kepada', 'ADP'), ('orang', 'NOUN'), ('ramai', 'NOUN'), ('yang', 'PRON'), ('mahu', 'ADV'), ('pulang', 'VERB'), ('ke', 'ADP'), ('kampung', 'NOUN'), ('halaman', 'NOUN'), ('masing-masing', 'NOUN'), ('Dalam', 'NOUN'), ('video', 'NOUN'), ('pendek', 'ADJ'), ('terbitan', 'NOUN'), ('Jabatan', 'PROPN'), ('Keselamatan', 'PROPN'), ('Jalan', 'PROPN'), ('Raya', 'PROPN'), ('Jkjr', 'PROPN'), ('itu', 'DET'), ('Dr', 'PROPN'), ('Mahathir', 'PROPN'), ('menasihati', 'PROPN'), ('mereka', 'PRON'), ('supaya', 'SCONJ'), ('berhenti', 'VERB'), ('berehat', 'NOUN'), ('dan', 'CCONJ'), ('tidur', 'NOUN'), ('sebentar', 'ADV'), ('sekiranya', 'PROPN'), ('mengantuk', 'NOUN'), ('ketika', 'SCONJ'), ('memandu', 'VERB')]\n",
      "\n",
      "Testing entity-network model\n",
      "downloading POS frozen entity-network model\n"
     ]
    },
    {
     "name": "stderr",
     "output_type": "stream",
     "text": [
      "11.0MB [00:03, 3.21MB/s]                          \n",
      "  0%|          | 0.00/0.69 [00:00<?, ?MB/s]"
     ]
    },
    {
     "name": "stdout",
     "output_type": "stream",
     "text": [
      "downloading POS entity-network dictionary\n"
     ]
    },
    {
     "name": "stderr",
     "output_type": "stream",
     "text": [
      "1.00MB [00:00, 2.44MB/s]                   \n"
     ]
    },
    {
     "name": "stdout",
     "output_type": "stream",
     "text": [
      "[('Kuala', 'NOUN'), ('Lumpur', 'DET'), ('Sempena', 'NOUN'), ('sambutan', 'NOUN'), ('Aidilfitri', 'NOUN'), ('minggu', 'PROPN'), ('depan', 'SCONJ'), ('Perdana', 'VERB'), ('Menteri', 'PROPN'), ('Tun', 'VERB'), ('Dr', 'NOUN'), ('Mahathir', 'ADV'), ('Mohamad', 'VERB'), ('dan', 'CCONJ'), ('Menteri', 'ADV'), ('Pengangkutan', 'ADV'), ('Anthony', 'VERB'), ('Loke', 'X'), ('Siew', 'X'), ('Fook', 'DET'), ('menitipkan', 'VERB'), ('pesanan', 'DET'), ('khas', 'ADJ'), ('kepada', 'ADP'), ('orang', 'NOUN'), ('ramai', 'ADJ'), ('yang', 'PRON'), ('mahu', 'ADV'), ('pulang', 'VERB'), ('ke', 'ADP'), ('kampung', 'NOUN'), ('halaman', 'NOUN'), ('masing-masing', 'NOUN'), ('Dalam', 'ADV'), ('video', 'NOUN'), ('pendek', 'ADJ'), ('terbitan', 'ADP'), ('Jabatan', 'NOUN'), ('Keselamatan', 'PROPN'), ('Jalan', 'PROPN'), ('Raya', 'PROPN'), ('Jkjr', 'PROPN'), ('itu', 'DET'), ('Dr', 'VERB'), ('Mahathir', 'PROPN'), ('menasihati', 'PROPN'), ('mereka', 'PRON'), ('supaya', 'ADV'), ('berhenti', 'VERB'), ('berehat', 'NOUN'), ('dan', 'CCONJ'), ('tidur', 'NOUN'), ('sebentar', 'ADV'), ('sekiranya', 'VERB'), ('mengantuk', 'ADV'), ('ketika', 'SCONJ'), ('memandu', 'VERB')]\n",
      "\n"
     ]
    }
   ],
   "source": [
    "for i in malaya.get_available_pos_models():\n",
    "    print('Testing %s model'%(i))\n",
    "    model = malaya.deep_pos(i)\n",
    "    print(model.predict(string))\n",
    "    print()"
   ]
  },
  {
   "cell_type": "markdown",
   "metadata": {},
   "source": [
    "## Voting stack model"
   ]
  },
  {
   "cell_type": "code",
   "execution_count": 12,
   "metadata": {},
   "outputs": [
    {
     "data": {
      "text/plain": [
       "[('Kuala', 'PROPN'),\n",
       " ('Lumpur', 'PROPN'),\n",
       " ('Sempena', 'SCONJ'),\n",
       " ('sambutan', 'NOUN'),\n",
       " ('Aidilfitri', 'NOUN'),\n",
       " ('minggu', 'PROPN'),\n",
       " ('depan', 'ADJ'),\n",
       " ('Perdana', 'PROPN'),\n",
       " ('Menteri', 'PROPN'),\n",
       " ('Tun', 'PROPN'),\n",
       " ('Dr', 'PROPN'),\n",
       " ('Mahathir', 'PROPN'),\n",
       " ('Mohamad', 'PROPN'),\n",
       " ('dan', 'CCONJ'),\n",
       " ('Menteri', 'PROPN'),\n",
       " ('Pengangkutan', 'PROPN'),\n",
       " ('Anthony', 'PROPN'),\n",
       " ('Loke', 'PROPN'),\n",
       " ('Siew', 'PROPN'),\n",
       " ('Fook', 'PROPN'),\n",
       " ('menitipkan', 'VERB'),\n",
       " ('pesanan', 'VERB'),\n",
       " ('khas', 'ADJ'),\n",
       " ('kepada', 'ADP'),\n",
       " ('orang', 'NOUN'),\n",
       " ('ramai', 'ADJ'),\n",
       " ('yang', 'PRON'),\n",
       " ('mahu', 'ADV'),\n",
       " ('pulang', 'VERB'),\n",
       " ('ke', 'ADP'),\n",
       " ('kampung', 'NOUN'),\n",
       " ('halaman', 'NOUN'),\n",
       " ('masing-masing', 'NOUN'),\n",
       " ('Dalam', 'NOUN'),\n",
       " ('video', 'NOUN'),\n",
       " ('pendek', 'ADJ'),\n",
       " ('terbitan', 'NOUN'),\n",
       " ('Jabatan', 'NOUN'),\n",
       " ('Keselamatan', 'PROPN'),\n",
       " ('Jalan', 'PROPN'),\n",
       " ('Raya', 'PROPN'),\n",
       " ('Jkjr', 'DET'),\n",
       " ('itu', 'DET'),\n",
       " ('Dr', 'VERB'),\n",
       " ('Mahathir', 'PROPN'),\n",
       " ('menasihati', 'VERB'),\n",
       " ('mereka', 'PRON'),\n",
       " ('supaya', 'SCONJ'),\n",
       " ('berhenti', 'VERB'),\n",
       " ('berehat', 'VERB'),\n",
       " ('dan', 'CCONJ'),\n",
       " ('tidur', 'VERB'),\n",
       " ('sebentar', 'ADP'),\n",
       " ('sekiranya', 'NOUN'),\n",
       " ('mengantuk', 'VERB'),\n",
       " ('ketika', 'SCONJ'),\n",
       " ('memandu', 'VERB')]"
      ]
     },
     "execution_count": 12,
     "metadata": {},
     "output_type": "execute_result"
    }
   ],
   "source": [
    "entity_network = malaya.deep_pos('entity-network')\n",
    "bahdanau = malaya.deep_pos('bahdanau')\n",
    "malaya.voting_stack([entity_network, bahdanau, crf], string)"
   ]
  },
  {
   "cell_type": "code",
   "execution_count": null,
   "metadata": {},
   "outputs": [],
   "source": []
  }
 ],
 "metadata": {
  "kernelspec": {
   "display_name": "Python 3",
   "language": "python",
   "name": "python3"
  },
  "language_info": {
   "codemirror_mode": {
    "name": "ipython",
    "version": 3
   },
   "file_extension": ".py",
   "mimetype": "text/x-python",
   "name": "python",
   "nbconvert_exporter": "python",
   "pygments_lexer": "ipython3",
   "version": "3.6.5"
  }
 },
 "nbformat": 4,
 "nbformat_minor": 2
}
