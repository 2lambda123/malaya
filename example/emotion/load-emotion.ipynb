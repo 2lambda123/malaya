{
 "cells": [
  {
   "cell_type": "code",
   "execution_count": 1,
   "metadata": {},
   "outputs": [
    {
     "name": "stdout",
     "output_type": "stream",
     "text": [
      "CPU times: user 10.1 s, sys: 769 ms, total: 10.9 s\n",
      "Wall time: 11 s\n"
     ]
    }
   ],
   "source": [
    "%%time\n",
    "import malaya"
   ]
  },
  {
   "cell_type": "code",
   "execution_count": 2,
   "metadata": {},
   "outputs": [],
   "source": [
    "anger_text = 'babi la company ni, aku dah la penat datang dari jauh'\n",
    "fear_text = 'takut doh tengok cerita hantu tadi'\n",
    "joy_text = 'bestnya dapat tidur harini, tak payah pergi kerja'\n",
    "love_text = 'aku sayang sgt dia dah doh'\n",
    "sadness_text = 'kecewa tengok kerajaan baru ni, janji ape pun tak dapat'\n",
    "surprise_text = 'sakit jantung aku, terkejut dengan cerita hantu tadi'"
   ]
  },
  {
   "cell_type": "markdown",
   "metadata": {},
   "source": [
    "All models got `get_proba` parameters.\n",
    "If True, it will returned probability every classes. Else, it will return highest probability class. **Default is True.**\n",
    "\n",
    "I suggest you to use deep learning models to understand emotion, these models are better for detecting emotions from social media."
   ]
  },
  {
   "cell_type": "markdown",
   "metadata": {},
   "source": [
    "## Load multinomial model"
   ]
  },
  {
   "cell_type": "code",
   "execution_count": 3,
   "metadata": {},
   "outputs": [
    {
     "name": "stdout",
     "output_type": "stream",
     "text": [
      "joy\n",
      "{'anger': 0.11733952772643724, 'fear': 0.15199690452609127, 'joy': 0.2589124946219144, 'love': 0.2024854510784686, 'sadness': 0.2211704631949802, 'surprise': 0.048095158852106114}\n"
     ]
    },
    {
     "data": {
      "text/plain": [
       "['joy', 'fear', 'anger', 'love', 'anger', 'fear']"
      ]
     },
     "execution_count": 3,
     "metadata": {},
     "output_type": "execute_result"
    }
   ],
   "source": [
    "model = malaya.emotion.multinomial()\n",
    "print(model.predict(anger_text))\n",
    "print(model.predict(anger_text,get_proba=True))\n",
    "model.predict_batch([anger_text,\n",
    "                    fear_text,\n",
    "                    joy_text,\n",
    "                    love_text,\n",
    "                    sadness_text,\n",
    "                    surprise_text])"
   ]
  },
  {
   "cell_type": "markdown",
   "metadata": {},
   "source": [
    "## Load xgb model"
   ]
  },
  {
   "cell_type": "code",
   "execution_count": 4,
   "metadata": {},
   "outputs": [
    {
     "name": "stdout",
     "output_type": "stream",
     "text": [
      "anger\n",
      "{'anger': 0.37050414, 'fear': 0.17237191, 'joy': 0.21709572, 'love': 0.040401105, 'sadness': 0.16886166, 'surprise': 0.030765474}\n"
     ]
    },
    {
     "data": {
      "text/plain": [
       "[{'anger': 0.37050414,\n",
       "  'fear': 0.17237191,\n",
       "  'joy': 0.21709572,\n",
       "  'love': 0.040401105,\n",
       "  'sadness': 0.16886166,\n",
       "  'surprise': 0.030765474},\n",
       " {'anger': 0.024576988,\n",
       "  'fear': 0.9346102,\n",
       "  'joy': 0.017333886,\n",
       "  'love': 0.00388243,\n",
       "  'sadness': 0.015722778,\n",
       "  'surprise': 0.0038737422},\n",
       " {'anger': 0.6121963,\n",
       "  'fear': 0.07615826,\n",
       "  'joy': 0.12938385,\n",
       "  'love': 0.021234306,\n",
       "  'sadness': 0.13893352,\n",
       "  'surprise': 0.022093719},\n",
       " {'anger': 0.078999326,\n",
       "  'fear': 0.05360329,\n",
       "  'joy': 0.05482416,\n",
       "  'love': 0.7758813,\n",
       "  'sadness': 0.03182298,\n",
       "  'surprise': 0.004868941},\n",
       " {'anger': 0.7553716,\n",
       "  'fear': 0.060115993,\n",
       "  'joy': 0.01417792,\n",
       "  'love': 0.005369766,\n",
       "  'sadness': 0.15161343,\n",
       "  'surprise': 0.01335139},\n",
       " {'anger': 0.07156373,\n",
       "  'fear': 0.241878,\n",
       "  'joy': 0.0074376594,\n",
       "  'love': 0.0042003845,\n",
       "  'sadness': 0.06661975,\n",
       "  'surprise': 0.6083005}]"
      ]
     },
     "execution_count": 4,
     "metadata": {},
     "output_type": "execute_result"
    }
   ],
   "source": [
    "model = malaya.emotion.xgb()\n",
    "print(model.predict(anger_text))\n",
    "print(model.predict(anger_text,get_proba=True))\n",
    "model.predict_batch([anger_text,\n",
    "                    fear_text,\n",
    "                    joy_text,\n",
    "                    love_text,\n",
    "                    sadness_text,\n",
    "                    surprise_text],get_proba=True)"
   ]
  },
  {
   "cell_type": "markdown",
   "metadata": {},
   "source": [
    "## List available deep learning models"
   ]
  },
  {
   "cell_type": "code",
   "execution_count": 5,
   "metadata": {},
   "outputs": [
    {
     "data": {
      "text/plain": [
       "['self-attention', 'bahdanau', 'luong']"
      ]
     },
     "execution_count": 5,
     "metadata": {},
     "output_type": "execute_result"
    }
   ],
   "source": [
    "malaya.emotion.available_deep_model()"
   ]
  },
  {
   "cell_type": "markdown",
   "metadata": {},
   "source": [
    "## Load deep learning models\n",
    "\n",
    "Good thing about deep learning models from Malaya, it returns `Attention` result, means, which part of words give the high impact to the results. But to get `Attention`, you need to set `get_proba=True`."
   ]
  },
  {
   "cell_type": "code",
   "execution_count": 6,
   "metadata": {},
   "outputs": [],
   "source": [
    "import matplotlib.pyplot as plt\n",
    "import seaborn as sns\n",
    "sns.set()"
   ]
  },
  {
   "cell_type": "markdown",
   "metadata": {},
   "source": [
    "### Load bahdanau model"
   ]
  },
  {
   "cell_type": "code",
   "execution_count": 7,
   "metadata": {},
   "outputs": [],
   "source": [
    "model = malaya.emotion.deep_model('bahdanau')"
   ]
  },
  {
   "cell_type": "markdown",
   "metadata": {},
   "source": [
    "#### Predict single string"
   ]
  },
  {
   "cell_type": "code",
   "execution_count": 10,
   "metadata": {},
   "outputs": [
    {
     "data": {
      "text/plain": [
       "'anger'"
      ]
     },
     "execution_count": 10,
     "metadata": {},
     "output_type": "execute_result"
    }
   ],
   "source": [
    "model.predict(anger_text)"
   ]
  },
  {
   "cell_type": "code",
   "execution_count": 11,
   "metadata": {},
   "outputs": [
    {
     "data": {
      "text/plain": [
       "'fear'"
      ]
     },
     "execution_count": 11,
     "metadata": {},
     "output_type": "execute_result"
    }
   ],
   "source": [
    "model.predict(fear_text)"
   ]
  },
  {
   "cell_type": "code",
   "execution_count": 12,
   "metadata": {},
   "outputs": [
    {
     "data": {
      "text/plain": [
       "{'anger': 0.38946533,\n",
       " 'fear': 0.0006788928,\n",
       " 'joy': 4.502521e-05,\n",
       " 'love': 0.00035775406,\n",
       " 'sadness': 0.58941084,\n",
       " 'surprise': 0.020042183,\n",
       " 'attention': {'kecewa': 0.9982584,\n",
       "  'tengok': 0.00024031276,\n",
       "  'kerajaan': 0.00020539697,\n",
       "  'baru': 0.00023952134,\n",
       "  'ni': 0.00016858104,\n",
       "  ',': 0.0,\n",
       "  'janji': 0.00020889708,\n",
       "  'ape': 0.00017103164,\n",
       "  'pun': 0.00016638139,\n",
       "  'tak': 0.00017561934,\n",
       "  'dapat': 0.00016583406}}"
      ]
     },
     "execution_count": 12,
     "metadata": {},
     "output_type": "execute_result"
    }
   ],
   "source": [
    "result = model.predict(sadness_text,get_proba=True)\n",
    "result"
   ]
  },
  {
   "cell_type": "code",
   "execution_count": 13,
   "metadata": {},
   "outputs": [
    {
     "data": {
      "image/png": "[encoded data removed]",
      "text/plain": [
       "<Figure size 1080x360 with 1 Axes>"
      ]
     },
     "metadata": {
      "needs_background": "light"
     },
     "output_type": "display_data"
    }
   ],
   "source": [
    "plt.figure(figsize = (15, 5))\n",
    "keys = result['attention'].keys()\n",
    "values = result['attention'].values()\n",
    "aranged = [i for i in range(len(keys))]\n",
    "plt.bar(aranged, values)\n",
    "plt.xticks(aranged, keys, rotation = 'vertical')\n",
    "plt.show()"
   ]
  },
  {
   "cell_type": "markdown",
   "metadata": {},
   "source": [
    "#### Open emotion visualization dashboard\n",
    "\n",
    "Default when you call `predict_words` it will open a browser with visualization dashboard, you can disable by `visualization=False`."
   ]
  },
  {
   "cell_type": "code",
   "execution_count": 14,
   "metadata": {},
   "outputs": [
    {
     "name": "stdout",
     "output_type": "stream",
     "text": [
      "Serving to http://127.0.0.1:8889/    [Ctrl-C to exit]\n"
     ]
    },
    {
     "name": "stderr",
     "output_type": "stream",
     "text": [
      "127.0.0.1 - - [01/Jun/2019 12:09:32] \"GET / HTTP/1.1\" 200 -\n",
      "127.0.0.1 - - [01/Jun/2019 12:09:33] \"GET /static/admin-materialize.min.css HTTP/1.1\" 200 -\n",
      "127.0.0.1 - - [01/Jun/2019 12:09:33] \"GET /static/echarts.min.js HTTP/1.1\" 200 -\n",
      "127.0.0.1 - - [01/Jun/2019 12:09:33] \"GET /favicon.ico HTTP/1.1\" 200 -\n",
      "----------------------------------------\n",
      "Exception happened during processing of request from ('127.0.0.1', 61764)\n",
      "Traceback (most recent call last):\n",
      "  File \"/usr/local/Cellar/python/3.6.5_1/Frameworks/Python.framework/Versions/3.6/lib/python3.6/socketserver.py\", line 317, in _handle_request_noblock\n",
      "    self.process_request(request, client_address)\n",
      "  File \"/usr/local/Cellar/python/3.6.5_1/Frameworks/Python.framework/Versions/3.6/lib/python3.6/socketserver.py\", line 348, in process_request\n",
      "    self.finish_request(request, client_address)\n",
      "  File \"/usr/local/Cellar/python/3.6.5_1/Frameworks/Python.framework/Versions/3.6/lib/python3.6/socketserver.py\", line 361, in finish_request\n",
      "    self.RequestHandlerClass(request, client_address, self)\n",
      "  File \"/usr/local/Cellar/python/3.6.5_1/Frameworks/Python.framework/Versions/3.6/lib/python3.6/socketserver.py\", line 696, in __init__\n",
      "    self.handle()\n",
      "  File \"/usr/local/Cellar/python/3.6.5_1/Frameworks/Python.framework/Versions/3.6/lib/python3.6/http/server.py\", line 418, in handle\n",
      "    self.handle_one_request()\n",
      "  File \"/usr/local/Cellar/python/3.6.5_1/Frameworks/Python.framework/Versions/3.6/lib/python3.6/http/server.py\", line 406, in handle_one_request\n",
      "    method()\n",
      "  File \"/Users/huseinzol/Documents/Malaya/malaya/_utils/_server.py\", line 32, in do_GET\n",
      "    with open(filepath, 'rb') as fh:\n",
      "FileNotFoundError: [Errno 2] No such file or directory: '/Users/huseinzol/Documents/Malaya/malaya/_utils/web/favicon.ico'\n",
      "----------------------------------------\n"
     ]
    },
    {
     "name": "stdout",
     "output_type": "stream",
     "text": [
      "\n",
      "stopping Server...\n"
     ]
    }
   ],
   "source": [
    "model.predict_words(sadness_text)"
   ]
  },
  {
   "cell_type": "code",
   "execution_count": 15,
   "metadata": {},
   "outputs": [
    {
     "data": {
      "image/png": "[encoded data removed]",
      "text/plain": [
       "<IPython.core.display.Image object>"
      ]
     },
     "metadata": {
      "image/png": {
       "width": 800
      }
     },
     "output_type": "display_data"
    }
   ],
   "source": [
    "from IPython.core.display import Image, display\n",
    "\n",
    "display(Image('emotion-bahdanau.png', width=800))"
   ]
  },
  {
   "cell_type": "markdown",
   "metadata": {},
   "source": [
    "I tried to put the html and javascript inside a notebook cell, pretty hard you know and a lot of weird bugs. Let stick to HTTP serving ya.\n",
    "\n",
    "`predict_words` only accept a single string. You can't predict multiple texts."
   ]
  },
  {
   "cell_type": "markdown",
   "metadata": {},
   "source": [
    "#### Predict batch of strings"
   ]
  },
  {
   "cell_type": "code",
   "execution_count": 16,
   "metadata": {},
   "outputs": [
    {
     "data": {
      "text/plain": [
       "[{'anger': 0.9470582,\n",
       "  'fear': 0.00033167106,\n",
       "  'joy': 9.066894e-06,\n",
       "  'love': 0.00016375592,\n",
       "  'sadness': 0.0035682153,\n",
       "  'surprise': 0.04886904},\n",
       " {'anger': 0.013118468,\n",
       "  'fear': 0.9863961,\n",
       "  'joy': 5.042084e-05,\n",
       "  'love': 0.0001933256,\n",
       "  'sadness': 7.211378e-05,\n",
       "  'surprise': 0.00016965455},\n",
       " {'anger': 0.87134695,\n",
       "  'fear': 0.008704395,\n",
       "  'joy': 0.00010600241,\n",
       "  'love': 0.00063341705,\n",
       "  'sadness': 0.10522701,\n",
       "  'surprise': 0.013982114},\n",
       " {'anger': 0.007687589,\n",
       "  'fear': 0.00057056156,\n",
       "  'joy': 0.0033636452,\n",
       "  'love': 0.98015594,\n",
       "  'sadness': 0.003200713,\n",
       "  'surprise': 0.0050216294},\n",
       " {'anger': 0.3216797,\n",
       "  'fear': 0.00076514384,\n",
       "  'joy': 3.4114866e-05,\n",
       "  'love': 0.00025139845,\n",
       "  'sadness': 0.6674833,\n",
       "  'surprise': 0.009786241},\n",
       " {'anger': 0.028422995,\n",
       "  'fear': 0.0025764697,\n",
       "  'joy': 0.00012938023,\n",
       "  'love': 0.00037871674,\n",
       "  'sadness': 0.36064965,\n",
       "  'surprise': 0.60784286}]"
      ]
     },
     "execution_count": 16,
     "metadata": {},
     "output_type": "execute_result"
    }
   ],
   "source": [
    "model.predict_batch([anger_text, fear_text, joy_text,\n",
    "                    love_text, sadness_text, surprise_text],get_proba=True)"
   ]
  },
  {
   "cell_type": "markdown",
   "metadata": {},
   "source": [
    "**You might want to try `luong` and `self-attention` by yourself.**"
   ]
  },
  {
   "cell_type": "markdown",
   "metadata": {},
   "source": [
    "## Stacking models\n",
    "\n",
    "More information, you can read at [https://malaya.readthedocs.io/en/latest/Stack.html](https://malaya.readthedocs.io/en/latest/Stack.html)"
   ]
  },
  {
   "cell_type": "code",
   "execution_count": 8,
   "metadata": {},
   "outputs": [],
   "source": [
    "multinomial = malaya.emotion.multinomial()\n",
    "xgb = malaya.emotion.xgb()"
   ]
  },
  {
   "cell_type": "code",
   "execution_count": 9,
   "metadata": {},
   "outputs": [
    {
     "data": {
      "text/plain": [
       "{'anger': 0.34863618616181175,\n",
       " 'fear': 0.022930197531217115,\n",
       " 'joy': 0.006847226031582371,\n",
       " 'love': 0.014764885318498622,\n",
       " 'sadness': 0.030968564413978033,\n",
       " 'surprise': 0.032697431654758996}"
      ]
     },
     "execution_count": 9,
     "metadata": {},
     "output_type": "execute_result"
    }
   ],
   "source": [
    "malaya.stack.predict_stack([multinomial, xgb, model], anger_text)"
   ]
  },
  {
   "cell_type": "markdown",
   "metadata": {},
   "source": [
    "## Load Sparse deep learning models"
   ]
  },
  {
   "cell_type": "markdown",
   "metadata": {},
   "source": [
    "What happen if a word not included in the dictionary of the models? like `setan`, what if `setan` appeared in text we want to classify? We found this problem when classifying social media texts / posts. Words used not really a vocabulary-based contextual.\n",
    "\n",
    "Malaya will treat **unknown words** as `<UNK>`, so, to solve this problem, we need to use N-grams character based. Malaya chose tri-grams until fifth-grams.\n",
    "\n",
    "```python\n",
    "setan = ['set', 'eta', 'tan']\n",
    "```\n",
    "\n",
    "Sklearn provided easy interface to use n-grams, problem is, it is very sparse, a lot of zeros and not memory efficient. Sklearn returned sparse matrix for the result, lucky Tensorflow already provided some sparse function."
   ]
  },
  {
   "cell_type": "code",
   "execution_count": 17,
   "metadata": {},
   "outputs": [
    {
     "data": {
      "text/plain": [
       "['fast-text-char']"
      ]
     },
     "execution_count": 17,
     "metadata": {},
     "output_type": "execute_result"
    }
   ],
   "source": [
    "malaya.emotion.available_sparse_deep_model()"
   ]
  },
  {
   "cell_type": "markdown",
   "metadata": {},
   "source": [
    "Right now Malaya only provide 1 sparse model, `fast-text-char`. We will try to evolve it."
   ]
  },
  {
   "cell_type": "code",
   "execution_count": 18,
   "metadata": {},
   "outputs": [
    {
     "name": "stdout",
     "output_type": "stream",
     "text": [
      "INFO:tensorflow:Restoring parameters from /Users/huseinzol/Malaya/emotion/fast-text-char/model.ckpt\n"
     ]
    }
   ],
   "source": [
    "sparse_model = malaya.emotion.sparse_deep_model()"
   ]
  },
  {
   "cell_type": "code",
   "execution_count": 19,
   "metadata": {},
   "outputs": [
    {
     "data": {
      "text/plain": [
       "'love'"
      ]
     },
     "execution_count": 19,
     "metadata": {},
     "output_type": "execute_result"
    }
   ],
   "source": [
    "sparse_model.predict(love_text)"
   ]
  },
  {
   "cell_type": "code",
   "execution_count": 20,
   "metadata": {},
   "outputs": [
    {
     "data": {
      "text/plain": [
       "['joy', 'fear', 'sadness', 'love', 'anger', 'surprise']"
      ]
     },
     "execution_count": 20,
     "metadata": {},
     "output_type": "execute_result"
    }
   ],
   "source": [
    "sparse_model.predict_batch([anger_text,\n",
    "                    fear_text,\n",
    "                    joy_text,\n",
    "                    love_text,\n",
    "                    sadness_text,\n",
    "                    surprise_text])"
   ]
  },
  {
   "cell_type": "code",
   "execution_count": 21,
   "metadata": {},
   "outputs": [
    {
     "data": {
      "text/plain": [
       "[{'anger': 0.04526143,\n",
       "  'fear': 0.09979316,\n",
       "  'joy': 0.4658971,\n",
       "  'love': 0.020664953,\n",
       "  'sadness': 0.30431935,\n",
       "  'surprise': 0.064064085},\n",
       " {'anger': 6.130409e-06,\n",
       "  'fear': 0.9997508,\n",
       "  'joy': 2.2800703e-05,\n",
       "  'love': 3.8201404e-07,\n",
       "  'sadness': 4.3520595e-06,\n",
       "  'surprise': 0.00021553691},\n",
       " {'anger': 0.20740777,\n",
       "  'fear': 0.22583336,\n",
       "  'joy': 0.017892161,\n",
       "  'love': 0.0037904498,\n",
       "  'sadness': 0.5115712,\n",
       "  'surprise': 0.033505023},\n",
       " {'anger': 5.2901927e-05,\n",
       "  'fear': 6.0754595e-05,\n",
       "  'joy': 1.1822221e-05,\n",
       "  'love': 0.9991229,\n",
       "  'sadness': 0.00072059815,\n",
       "  'surprise': 3.093863e-05},\n",
       " {'anger': 0.48188186,\n",
       "  'fear': 0.33322,\n",
       "  'joy': 0.018766977,\n",
       "  'love': 0.00092354603,\n",
       "  'sadness': 0.078747146,\n",
       "  'surprise': 0.086460434},\n",
       " {'anger': 0.007138084,\n",
       "  'fear': 0.2971508,\n",
       "  'joy': 0.0024597635,\n",
       "  'love': 0.00037835565,\n",
       "  'sadness': 0.031262815,\n",
       "  'surprise': 0.6616101}]"
      ]
     },
     "execution_count": 21,
     "metadata": {},
     "output_type": "execute_result"
    }
   ],
   "source": [
    "sparse_model.predict_batch([anger_text,\n",
    "                    fear_text,\n",
    "                    joy_text,\n",
    "                    love_text,\n",
    "                    sadness_text,\n",
    "                    surprise_text], get_proba = True)"
   ]
  },
  {
   "cell_type": "code",
   "execution_count": null,
   "metadata": {},
   "outputs": [],
   "source": []
  }
 ],
 "metadata": {
  "kernelspec": {
   "display_name": "Python 3",
   "language": "python",
   "name": "python3"
  },
  "language_info": {
   "codemirror_mode": {
    "name": "ipython",
    "version": 3
   },
   "file_extension": ".py",
   "mimetype": "text/x-python",
   "name": "python",
   "nbconvert_exporter": "python",
   "pygments_lexer": "ipython3",
   "version": "3.6.5"
  }
 },
 "nbformat": 4,
 "nbformat_minor": 2
}
