{
 "cells": [
  {
   "cell_type": "code",
   "execution_count": 1,
   "metadata": {},
   "outputs": [],
   "source": [
    "import tensorflow as tf\n",
    "import transformer"
   ]
  },
  {
   "cell_type": "code",
   "execution_count": 2,
   "metadata": {},
   "outputs": [],
   "source": [
    "# tf.enable_eager_execution()"
   ]
  },
  {
   "cell_type": "code",
   "execution_count": 4,
   "metadata": {
    "scrolled": true
   },
   "outputs": [
    {
     "name": "stdout",
     "output_type": "stream",
     "text": [
      "WARNING:tensorflow:From /Users/huseinzolkepli/Documents/Malaya/pretrained-model/pegasus/layers/decoding.py:89: The name tf.random_uniform is deprecated. Please use tf.random.uniform instead.\n",
      "\n",
      "WARNING:tensorflow:From /Users/huseinzolkepli/Documents/Malaya/pretrained-model/pegasus/layers/decoding.py:90: The name tf.log is deprecated. Please use tf.math.log instead.\n",
      "\n"
     ]
    }
   ],
   "source": [
    "vocab_size = 12\n",
    "hidden_size = 16\n",
    "filter_size = 16\n",
    "num_encoder_layers = 2\n",
    "num_decoder_layers = 2\n",
    "num_heads = 2\n",
    "label_smoothing = 0.1\n",
    "dropout = 0.1\n",
    "beam_size = 3\n",
    "model = transformer.TransformerEncoderDecoderModel(vocab_size, hidden_size,\n",
    "                                                   filter_size, num_heads,\n",
    "                                                   num_encoder_layers,\n",
    "                                                   num_decoder_layers,\n",
    "                                                   label_smoothing, dropout)\n",
    "\n",
    "X = tf.placeholder(tf.int64, (None, None))\n",
    "Y = tf.placeholder(tf.int64, (None, None))\n",
    "\n",
    "# X = tf.ones((2, 7), tf.int64)\n",
    "# Y = tf.ones((2, 5), tf.int64)\n",
    "\n",
    "loss, outputs = model(\n",
    "    {\n",
    "        \"inputs\": X,\n",
    "        \"targets\": Y\n",
    "    }, True)\n",
    "\n",
    "outputs = model.predict(\n",
    "  {\n",
    "      \"inputs\": X,\n",
    "  }, 9, 1, top_p = 0.8, temperature = 0.5)"
   ]
  },
  {
   "cell_type": "code",
   "execution_count": 5,
   "metadata": {},
   "outputs": [
    {
     "data": {
      "text/plain": [
       "(<tf.Tensor 'softmax_cross_entropy_loss_1/value:0' shape=() dtype=float32>,\n",
       " {'outputs': <tf.Tensor 'while_1/Exit_1:0' shape=(?, 9) dtype=int64>})"
      ]
     },
     "execution_count": 5,
     "metadata": {},
     "output_type": "execute_result"
    }
   ],
   "source": [
    "loss, outputs"
   ]
  },
  {
   "cell_type": "code",
   "execution_count": 6,
   "metadata": {},
   "outputs": [],
   "source": [
    "sess = tf.InteractiveSession()\n",
    "sess.run(tf.global_variables_initializer())"
   ]
  },
  {
   "cell_type": "code",
   "execution_count": 7,
   "metadata": {},
   "outputs": [],
   "source": [
    "import numpy as np\n",
    "\n",
    "l, o = sess.run([loss, outputs], feed_dict = {X: np.ones((2, 7)), Y: np.ones((2, 5))})"
   ]
  },
  {
   "cell_type": "code",
   "execution_count": 8,
   "metadata": {},
   "outputs": [
    {
     "data": {
      "text/plain": [
       "array([[6, 6, 7, 7, 7, 7, 7, 7, 7],\n",
       "       [3, 3, 3, 4, 4, 4, 6, 6, 6]])"
      ]
     },
     "execution_count": 8,
     "metadata": {},
     "output_type": "execute_result"
    }
   ],
   "source": [
    "o['outputs']"
   ]
  },
  {
   "cell_type": "code",
   "execution_count": 9,
   "metadata": {},
   "outputs": [
    {
     "data": {
      "text/plain": [
       "2.1659281"
      ]
     },
     "execution_count": 9,
     "metadata": {},
     "output_type": "execute_result"
    }
   ],
   "source": [
    "l"
   ]
  }
 ],
 "metadata": {
  "kernelspec": {
   "display_name": "Python 3",
   "language": "python",
   "name": "python3"
  },
  "language_info": {
   "codemirror_mode": {
    "name": "ipython",
    "version": 3
   },
   "file_extension": ".py",
   "mimetype": "text/x-python",
   "name": "python",
   "nbconvert_exporter": "python",
   "pygments_lexer": "ipython3",
   "version": "3.7.5"
  }
 },
 "nbformat": 4,
 "nbformat_minor": 2
}
