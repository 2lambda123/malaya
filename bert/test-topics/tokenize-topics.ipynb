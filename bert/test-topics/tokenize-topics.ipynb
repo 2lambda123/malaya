{
 "cells": [
  {
   "cell_type": "code",
   "execution_count": 1,
   "metadata": {},
   "outputs": [],
   "source": [
    "import json\n",
    "import random"
   ]
  },
  {
   "cell_type": "code",
   "execution_count": 2,
   "metadata": {},
   "outputs": [
    {
     "data": {
      "text/plain": [
       "13"
      ]
     },
     "execution_count": 2,
     "metadata": {},
     "output_type": "execute_result"
    }
   ],
   "source": [
    "accept = ['kesihatan.json', 'kes lemas.json', 'kes pecah rumah.json', \n",
    "          'kes tangkap basah.json', 'kewangan dan perniagaan.json',\n",
    "         'kos sara hidup.json', 'suruhanjaya pilihan raya malaysia.json',\n",
    "         'tentera malaysia.json', 'nilai ringgit jatuh.json', 'kes buang bayi.json',\n",
    "         'isu kemiskinan.json', 'infrastruktur.json', 'harga minyak.json']\n",
    "len(accept)"
   ]
  },
  {
   "cell_type": "code",
   "execution_count": 3,
   "metadata": {},
   "outputs": [],
   "source": [
    "X, Y = [], []\n",
    "for no, a in enumerate(accept):\n",
    "    with open('malaysia-topics/'+a) as fopen:\n",
    "        x = list(set(json.load(fopen)))\n",
    "    x = random.sample(x, 5000)\n",
    "    X.extend(x)\n",
    "    Y.extend([no] * len(x))"
   ]
  },
  {
   "cell_type": "code",
   "execution_count": 4,
   "metadata": {},
   "outputs": [
    {
     "data": {
      "text/plain": [
       "(65000, 65000)"
      ]
     },
     "execution_count": 4,
     "metadata": {},
     "output_type": "execute_result"
    }
   ],
   "source": [
    "len(X), len(Y)"
   ]
  },
  {
   "cell_type": "code",
   "execution_count": 5,
   "metadata": {},
   "outputs": [],
   "source": [
    "with open('selected-topics.json', 'w') as fopen:\n",
    "    json.dump({'X': X, 'Y': Y}, fopen)"
   ]
  },
  {
   "cell_type": "code",
   "execution_count": null,
   "metadata": {},
   "outputs": [],
   "source": []
  }
 ],
 "metadata": {
  "kernelspec": {
   "display_name": "Python 3",
   "language": "python",
   "name": "python3"
  },
  "language_info": {
   "codemirror_mode": {
    "name": "ipython",
    "version": 3
   },
   "file_extension": ".py",
   "mimetype": "text/x-python",
   "name": "python",
   "nbconvert_exporter": "python",
   "pygments_lexer": "ipython3",
   "version": "3.6.8"
  }
 },
 "nbformat": 4,
 "nbformat_minor": 2
}
