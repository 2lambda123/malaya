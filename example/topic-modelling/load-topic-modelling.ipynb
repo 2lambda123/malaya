{
 "cells": [
  {
   "cell_type": "code",
   "execution_count": 1,
   "metadata": {},
   "outputs": [
    {
     "name": "stderr",
     "output_type": "stream",
     "text": [
      "Using TensorFlow backend.\n",
      "/usr/local/lib/python3.6/site-packages/sklearn/cross_validation.py:41: DeprecationWarning: This module was deprecated in version 0.18 in favor of the model_selection module into which all the refactored classes and functions are moved. Also note that the interface of the new CV iterators are different from that of this module. This module will be removed in 0.20.\n",
      "  \"This module will be removed in 0.20.\", DeprecationWarning)\n"
     ]
    }
   ],
   "source": [
    "import pandas as pd\n",
    "import malaya"
   ]
  },
  {
   "cell_type": "code",
   "execution_count": 2,
   "metadata": {},
   "outputs": [],
   "source": [
    "df = pd.read_csv('tests/02032018.csv',sep=';')\n",
    "df = df.iloc[3:,1:]\n",
    "df.columns = ['text','label']\n",
    "corpus = df.text.tolist()"
   ]
  },
  {
   "cell_type": "code",
   "execution_count": 3,
   "metadata": {},
   "outputs": [
    {
     "name": "stderr",
     "output_type": "stream",
     "text": [
      "/usr/local/lib/python3.6/site-packages/sklearn/decomposition/online_lda.py:294: DeprecationWarning: n_topics has been renamed to n_components in version 0.19 and will be removed in 0.21\n",
      "  DeprecationWarning)\n"
     ]
    },
    {
     "name": "stdout",
     "output_type": "stream",
     "text": [
      "topic 0       topic 1       topic 2       topic 3       topic 4       \n",
      "--------      --------      --------      --------      --------      \n",
      "kerajaan      bahasa        negara        projek        diterjemahkan \n",
      "negara        keputusan     bank          faktor        ilmu          \n",
      "parti         raya          teknikal      parti         wujud         \n",
      "kelulusan     pilihan       malaysia      meningkatkan  dasar         \n",
      "malaysia      inggeris      pertumbuhan   harga         bahasa        \n",
      "tindakan      ilmu          berkongsi     nilai         bukti         \n",
      "pas           pengurusan    ekonomi       kerajaan      serahkan      \n",
      "undi          tanah         pengalaman    syarikat      mengumpul     \n",
      "masyarakat    sewa          selatan       tumpuan       asalnya       \n",
      "mengambil     parti         dibenarkan    bahasa        proses        \n",
      "\n",
      "\n"
     ]
    }
   ],
   "source": [
    "lda = malaya.lda_topic_modelling(corpus,10,stemming=False)\n",
    "lda.print_topics(5)"
   ]
  },
  {
   "cell_type": "code",
   "execution_count": 4,
   "metadata": {},
   "outputs": [
    {
     "data": {
      "text/plain": [
       "['bermakna strategi set dasar kondusif destinasi malaysia mestilah bijak berterusan strategi kempen pemasaran merancang pendekatan pasaran berbeza',\n",
       " 'kerja keras ahli jentera parti dilaksanakan henti pru membuktikankesungguhan kepimpinan menabur bakti masyarakat ketinggalan manfaat disediakan kerajaan',\n",
       " 'amanah bermasalah pas hati terbuka mengajak parti islam pakatan harapan harapan menyelamatkan negara',\n",
       " 'politik perbezaan pandangan langsungkah titik persamaan pas parti pembangkang menjatuhkan kerajaan gagal mentadbir negara',\n",
       " 'berfungsi semak imbang pakatan pelbagai isu berkaitan pergerakan sosial suara akar umbi terpinggir']"
      ]
     },
     "execution_count": 4,
     "metadata": {},
     "output_type": "execute_result"
    }
   ],
   "source": [
    "lda.get_sentences(5)"
   ]
  },
  {
   "cell_type": "code",
   "execution_count": 5,
   "metadata": {},
   "outputs": [
    {
     "data": {
      "text/plain": [
       "[(0,\n",
       "  'kerajaan negara parti kelulusan malaysia tindakan pas undi masyarakat mengambil'),\n",
       " (1,\n",
       "  'bahasa keputusan raya pilihan inggeris ilmu pengurusan tanah sewa parti'),\n",
       " (2,\n",
       "  'negara bank teknikal malaysia pertumbuhan berkongsi ekonomi pengalaman selatan dibenarkan'),\n",
       " (3,\n",
       "  'projek faktor parti meningkatkan harga nilai kerajaan syarikat tumpuan bahasa'),\n",
       " (4,\n",
       "  'diterjemahkan ilmu wujud dasar bahasa bukti serahkan mengumpul asalnya proses'),\n",
       " (5, 'mdb low jho kenyataan ambil masyarakat sebarang kapal doj perniagaan'),\n",
       " (6,\n",
       "  'awam ahli syarikat parti menteri pesawat berlaku tatakelakuan lembaga politik'),\n",
       " (7,\n",
       "  'rakyat malaysia asli perniagaan pendapatan sumber menerima negara ros penambahbaikan'),\n",
       " (8,\n",
       "  'hutang menteri mdb malaysia diselesaikan kewangan asli perdana isu negara'),\n",
       " (9,\n",
       "  'wang tinggal memakan disediakan pekan kampung hasil hutang najib membabitkan')]"
      ]
     },
     "execution_count": 5,
     "metadata": {},
     "output_type": "execute_result"
    }
   ],
   "source": [
    "lda.get_topics(10)"
   ]
  },
  {
   "cell_type": "code",
   "execution_count": 6,
   "metadata": {},
   "outputs": [
    {
     "name": "stdout",
     "output_type": "stream",
     "text": [
      "topic 0       topic 1       topic 2       topic 3       topic 4       \n",
      "--------      --------      --------      --------      --------      \n",
      "rakyat        ros           menteri       hutang        ambil         \n",
      "malaysia      tangguh       perdana       selesai       putus         \n",
      "kena          parti         terima        mdb           tindak        \n",
      "pimpin        umno          isu           wang          langkah       \n",
      "mudah         pilih         seri          wujud         dar           \n",
      "negara        lembaga       jemaah        tutup         mahkamah      \n",
      "negeri        putus         nyata         tempoh        punca         \n",
      "dasar         daftar        kena          projek        bahagian      \n",
      "serius        kelulus       razak         pendek        kelulus       \n",
      "tingkat       tempoh        raja          gantung       sarawak       \n",
      "\n",
      "\n"
     ]
    }
   ],
   "source": [
    "nmf = malaya.nmf_topic_modelling(corpus,10)\n",
    "nmf.print_topics(5)"
   ]
  },
  {
   "cell_type": "code",
   "execution_count": 7,
   "metadata": {},
   "outputs": [
    {
     "data": {
      "text/plain": [
       "['rakyat malaysia negara',\n",
       " 'kena rakyat',\n",
       " 'mudah rakyat',\n",
       " 'rakyat malaysia selesai konkrit raja',\n",
       " 'rakyat malaysia celik serius isu pimpin negara negeri']"
      ]
     },
     "execution_count": 7,
     "metadata": {},
     "output_type": "execute_result"
    }
   ],
   "source": [
    "nmf.get_sentences(5)"
   ]
  },
  {
   "cell_type": "code",
   "execution_count": 8,
   "metadata": {},
   "outputs": [
    {
     "data": {
      "text/plain": [
       "[(0, 'rakyat malaysia kena pimpin mudah negara negeri dasar serius tingkat'),\n",
       " (1, 'ros tangguh parti umno pilih lembaga putus daftar kelulus tempoh'),\n",
       " (2, 'menteri perdana terima isu seri jemaah nyata kena razak raja'),\n",
       " (3, 'hutang selesai mdb wang wujud tutup tempoh projek pendek gantung'),\n",
       " (4, 'ambil putus tindak langkah dar mahkamah punca bahagian kelulus sarawak'),\n",
       " (5, 'bangun negara kongsi malaysia alam sedia selatan kawasan main mahir'),\n",
       " (6, 'undi pakat impak tuju rana wujud catat cina dakwa sumber'),\n",
       " (7, 'kapal jho low rampas doj niaga dakwa sivil tuntut milik'),\n",
       " (8, 'laku ajar wujud bimbang proses raja didik bukti maju bidang'),\n",
       " (9, 'raya pilih konon lembaga selesai dengar pandang buah selesa kuok')]"
      ]
     },
     "execution_count": 8,
     "metadata": {},
     "output_type": "execute_result"
    }
   ],
   "source": [
    "nmf.get_topics(10)"
   ]
  },
  {
   "cell_type": "code",
   "execution_count": 9,
   "metadata": {},
   "outputs": [
    {
     "name": "stdout",
     "output_type": "stream",
     "text": [
      "topic 0       topic 1       topic 2       topic 3       topic 4       \n",
      "--------      --------      --------      --------      --------      \n",
      "rakyat        parti         laku          hutang        ambil         \n",
      "malaysia      pilih         hutang        mdb           putus         \n",
      "negara        ros           mdb           wang          undi          \n",
      "raja          tangguh       selesai       selesai       rana          \n",
      "menteri       umno          menteri       negara        tindak        \n",
      "parti         putus         projek        bangun        parti         \n",
      "selesai       lembaga       wujud         wujud         pas           \n",
      "kena          raya          terima        tutup         langkah       \n",
      "bangun        ambil         wang          tempoh        ph            \n",
      "ambil         daftar        nyata         pilih         kena          \n",
      "\n",
      "\n"
     ]
    }
   ],
   "source": [
    "lsa = malaya.lsa_topic_modelling(corpus,10)\n",
    "lsa.print_topics(5)"
   ]
  },
  {
   "cell_type": "code",
   "execution_count": 10,
   "metadata": {},
   "outputs": [
    {
     "data": {
      "text/plain": [
       "['rakyat malaysia negara',\n",
       " 'rakyat malaysia selesai konkrit raja',\n",
       " 'rakyat malaysia celik serius isu pimpin negara negeri',\n",
       " 'perdana menteri isu kena nyata raja terima',\n",
       " 'percaya kongsi maklumat asas utama maklumat kait pimpin negara rakyat malaysia rakyat pilih pimpin negara kaliber sesuai pandang rakyat']"
      ]
     },
     "execution_count": 10,
     "metadata": {},
     "output_type": "execute_result"
    }
   ],
   "source": [
    "lsa.get_sentences(5)"
   ]
  },
  {
   "cell_type": "code",
   "execution_count": 11,
   "metadata": {},
   "outputs": [
    {
     "data": {
      "text/plain": [
       "[(0, 'rakyat malaysia negara raja menteri parti selesai kena bangun ambil'),\n",
       " (1, 'parti pilih ros tangguh umno putus lembaga raya ambil daftar'),\n",
       " (2, 'laku hutang mdb selesai menteri projek wujud terima wang nyata'),\n",
       " (3, 'hutang mdb wang selesai negara bangun wujud tutup tempoh pilih'),\n",
       " (4, 'ambil putus undi rana tindak parti pas langkah ph kena'),\n",
       " (5, 'rakyat selesai hutang kena mdb malaysia menteri undi timbang wujud'),\n",
       " (6, 'undi laku ajar ros rakyat parti dakwa cina catat wujud'),\n",
       " (7, 'low jho kapal nyata dakwa rakyat niaga doj dana tumbuh'),\n",
       " (8, 'laku ambil ajar pilih dakwa bidang didik tindak putus raya'),\n",
       " (9, 'menteri bangun negara perdana laku putus kongsi alam parti nyata')]"
      ]
     },
     "execution_count": 11,
     "metadata": {},
     "output_type": "execute_result"
    }
   ],
   "source": [
    "lsa.get_topics(10)"
   ]
  },
  {
   "cell_type": "code",
   "execution_count": null,
   "metadata": {},
   "outputs": [],
   "source": []
  }
 ],
 "metadata": {
  "kernelspec": {
   "display_name": "Python 3",
   "language": "python",
   "name": "python3"
  },
  "language_info": {
   "codemirror_mode": {
    "name": "ipython",
    "version": 3
   },
   "file_extension": ".py",
   "mimetype": "text/x-python",
   "name": "python",
   "nbconvert_exporter": "python",
   "pygments_lexer": "ipython3",
   "version": "3.6.5"
  }
 },
 "nbformat": 4,
 "nbformat_minor": 2
}
