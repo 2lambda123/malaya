{
 "cells": [
  {
   "cell_type": "markdown",
   "metadata": {},
   "source": [
    "# Emotion Analysis"
   ]
  },
  {
   "cell_type": "markdown",
   "metadata": {},
   "source": [
    "<div class=\"alert alert-info\">\n",
    "\n",
    "This tutorial is available as an IPython notebook at [Malaya/example/emotion](https://github.com/huseinzol05/Malaya/tree/master/example/emotion).\n",
    "    \n",
    "</div>"
   ]
  },
  {
   "cell_type": "markdown",
   "metadata": {},
   "source": [
    "<div class=\"alert alert-info\">\n",
    "\n",
    "This module trained on both standard and local (included social media) language structures, so it is save to use for both.\n",
    "    \n",
    "</div>"
   ]
  },
  {
   "cell_type": "code",
   "execution_count": 1,
   "metadata": {},
   "outputs": [
    {
     "name": "stdout",
     "output_type": "stream",
     "text": [
      "CPU times: user 6.41 s, sys: 1.3 s, total: 7.71 s\n",
      "Wall time: 9.2 s\n"
     ]
    }
   ],
   "source": [
    "%%time\n",
    "import malaya"
   ]
  },
  {
   "cell_type": "markdown",
   "metadata": {},
   "source": [
    "### Models accuracy\n",
    "\n",
    "We use `sklearn.metrics.classification_report` for accuracy reporting, check at https://malaya.readthedocs.io/en/latest/models-accuracy.html#emotion-analysis"
   ]
  },
  {
   "cell_type": "markdown",
   "metadata": {},
   "source": [
    "### labels supported\n",
    "\n",
    "Default labels for emotion module."
   ]
  },
  {
   "cell_type": "code",
   "execution_count": 2,
   "metadata": {},
   "outputs": [
    {
     "data": {
      "text/plain": [
       "['anger', 'fear', 'happy', 'love', 'sadness', 'surprise']"
      ]
     },
     "execution_count": 2,
     "metadata": {},
     "output_type": "execute_result"
    }
   ],
   "source": [
    "malaya.emotion.label"
   ]
  },
  {
   "cell_type": "markdown",
   "metadata": {},
   "source": [
    "### Example texts\n",
    "\n",
    "Copy pasted from random tweets."
   ]
  },
  {
   "cell_type": "code",
   "execution_count": 3,
   "metadata": {},
   "outputs": [],
   "source": [
    "anger_text = 'babi la company ni, aku dah la penat datang dari jauh'\n",
    "fear_text = 'takut doh tengok cerita hantu tadi'\n",
    "happy_text = 'bestnya dapat tidur harini, tak payah pergi kerja'\n",
    "love_text = 'aku sayang sgt dia dah doh'\n",
    "sadness_text = 'kecewa tengok kerajaan baru ni, janji ape pun tak dapat'\n",
    "surprise_text = 'sakit jantung aku, terkejut dengan cerita hantu tadi'"
   ]
  },
  {
   "cell_type": "markdown",
   "metadata": {},
   "source": [
    "### Load multinomial model\n",
    "\n",
    "```python\n",
    "def multinomial(**kwargs):\n",
    "    \"\"\"\n",
    "    Load multinomial emotion model.\n",
    "\n",
    "    Returns\n",
    "    -------\n",
    "    result : malaya.model.ml.Bayes class\n",
    "    \"\"\"\n",
    "```"
   ]
  },
  {
   "cell_type": "code",
   "execution_count": 4,
   "metadata": {},
   "outputs": [],
   "source": [
    "model = malaya.emotion.multinomial()"
   ]
  },
  {
   "cell_type": "markdown",
   "metadata": {},
   "source": [
    "#### Predict batch of strings\n",
    "\n",
    "```python\n",
    "def predict(self, strings: List[str]):\n",
    "    \"\"\"\n",
    "    classify list of strings.\n",
    "\n",
    "    Parameters\n",
    "    ----------\n",
    "    strings: List[str]\n",
    "\n",
    "    Returns\n",
    "    -------\n",
    "    result: List[str]\n",
    "    \"\"\"\n",
    "```"
   ]
  },
  {
   "cell_type": "code",
   "execution_count": 5,
   "metadata": {},
   "outputs": [
    {
     "data": {
      "text/plain": [
       "['anger']"
      ]
     },
     "execution_count": 5,
     "metadata": {},
     "output_type": "execute_result"
    }
   ],
   "source": [
    "model.predict([anger_text])"
   ]
  },
  {
   "cell_type": "code",
   "execution_count": 6,
   "metadata": {},
   "outputs": [
    {
     "data": {
      "text/plain": [
       "['anger', 'fear', 'happy', 'love', 'sadness', 'surprise']"
      ]
     },
     "execution_count": 6,
     "metadata": {},
     "output_type": "execute_result"
    }
   ],
   "source": [
    "model.predict(\n",
    "    [anger_text, fear_text, happy_text, love_text, sadness_text, surprise_text]\n",
    ")"
   ]
  },
  {
   "cell_type": "markdown",
   "metadata": {},
   "source": [
    "#### Predict batch of strings with probability\n",
    "\n",
    "```python\n",
    "def predict_proba(self, strings: List[str]):\n",
    "    \"\"\"\n",
    "    classify list of strings and return probability.\n",
    "\n",
    "    Parameters\n",
    "    ----------\n",
    "    strings: List[str]\n",
    "\n",
    "    Returns\n",
    "    -------\n",
    "    result: List[dict[str, float]]\n",
    "    \"\"\"\n",
    "```"
   ]
  },
  {
   "cell_type": "code",
   "execution_count": 7,
   "metadata": {},
   "outputs": [
    {
     "data": {
      "text/plain": [
       "[{'anger': 0.32948272681734814,\n",
       "  'fear': 0.13959708810717708,\n",
       "  'happy': 0.14671455153216045,\n",
       "  'love': 0.12489192355631354,\n",
       "  'sadness': 0.1285972541671178,\n",
       "  'surprise': 0.13071645581988448},\n",
       " {'anger': 0.11379406005377896,\n",
       "  'fear': 0.4006934391283133,\n",
       "  'happy': 0.11389665647702245,\n",
       "  'love': 0.12481915233837086,\n",
       "  'sadness': 0.0991261507380643,\n",
       "  'surprise': 0.14767054126445014},\n",
       " {'anger': 0.14667998117610198,\n",
       "  'fear': 0.1422732633232615,\n",
       "  'happy': 0.29984520430807293,\n",
       "  'love': 0.1409005078277281,\n",
       "  'sadness': 0.13374705318404811,\n",
       "  'surprise': 0.13655399018078768},\n",
       " {'anger': 0.1590563839629243,\n",
       "  'fear': 0.14687344690114268,\n",
       "  'happy': 0.1419948160674701,\n",
       "  'love': 0.279550441361504,\n",
       "  'sadness': 0.1285927908584157,\n",
       "  'surprise': 0.14393212084854254},\n",
       " {'anger': 0.13425914937312508,\n",
       "  'fear': 0.12053328146716755,\n",
       "  'happy': 0.14923350911233682,\n",
       "  'love': 0.10289492749919464,\n",
       "  'sadness': 0.36961334597699913,\n",
       "  'surprise': 0.12346578657117815},\n",
       " {'anger': 0.06724850384395685,\n",
       "  'fear': 0.1283628050361525,\n",
       "  'happy': 0.05801958643852813,\n",
       "  'love': 0.06666524240157067,\n",
       "  'sadness': 0.06537667186293224,\n",
       "  'surprise': 0.6143271904168589}]"
      ]
     },
     "execution_count": 7,
     "metadata": {},
     "output_type": "execute_result"
    }
   ],
   "source": [
    "model.predict_proba(\n",
    "    [anger_text, fear_text, happy_text, love_text, sadness_text, surprise_text]\n",
    ")"
   ]
  },
  {
   "cell_type": "markdown",
   "metadata": {},
   "source": [
    "### List available Transformer models"
   ]
  },
  {
   "cell_type": "code",
   "execution_count": 4,
   "metadata": {},
   "outputs": [
    {
     "data": {
      "text/html": [
       "<div>\n",
       "<style scoped>\n",
       "    .dataframe tbody tr th:only-of-type {\n",
       "        vertical-align: middle;\n",
       "    }\n",
       "\n",
       "    .dataframe tbody tr th {\n",
       "        vertical-align: top;\n",
       "    }\n",
       "\n",
       "    .dataframe thead th {\n",
       "        text-align: right;\n",
       "    }\n",
       "</style>\n",
       "<table border=\"1\" class=\"dataframe\">\n",
       "  <thead>\n",
       "    <tr style=\"text-align: right;\">\n",
       "      <th></th>\n",
       "      <th>Size (MB)</th>\n",
       "      <th>Quantized Size (MB)</th>\n",
       "      <th>macro precision</th>\n",
       "      <th>macro recall</th>\n",
       "      <th>macro f1-score</th>\n",
       "    </tr>\n",
       "  </thead>\n",
       "  <tbody>\n",
       "    <tr>\n",
       "      <th>bert</th>\n",
       "      <td>425.6</td>\n",
       "      <td>111.00</td>\n",
       "      <td>0.99786</td>\n",
       "      <td>0.99773</td>\n",
       "      <td>0.99779</td>\n",
       "    </tr>\n",
       "    <tr>\n",
       "      <th>tiny-bert</th>\n",
       "      <td>57.4</td>\n",
       "      <td>15.40</td>\n",
       "      <td>0.99692</td>\n",
       "      <td>0.99696</td>\n",
       "      <td>0.99694</td>\n",
       "    </tr>\n",
       "    <tr>\n",
       "      <th>albert</th>\n",
       "      <td>48.6</td>\n",
       "      <td>12.80</td>\n",
       "      <td>0.99740</td>\n",
       "      <td>0.99773</td>\n",
       "      <td>0.99757</td>\n",
       "    </tr>\n",
       "    <tr>\n",
       "      <th>tiny-albert</th>\n",
       "      <td>22.4</td>\n",
       "      <td>5.98</td>\n",
       "      <td>0.99325</td>\n",
       "      <td>0.99378</td>\n",
       "      <td>0.99351</td>\n",
       "    </tr>\n",
       "    <tr>\n",
       "      <th>xlnet</th>\n",
       "      <td>446.5</td>\n",
       "      <td>118.00</td>\n",
       "      <td>0.99773</td>\n",
       "      <td>0.99775</td>\n",
       "      <td>0.99774</td>\n",
       "    </tr>\n",
       "    <tr>\n",
       "      <th>alxlnet</th>\n",
       "      <td>46.8</td>\n",
       "      <td>13.30</td>\n",
       "      <td>0.99663</td>\n",
       "      <td>0.99697</td>\n",
       "      <td>0.99680</td>\n",
       "    </tr>\n",
       "    <tr>\n",
       "      <th>fastformer</th>\n",
       "      <td>446.0</td>\n",
       "      <td>113.00</td>\n",
       "      <td>0.99197</td>\n",
       "      <td>0.99194</td>\n",
       "      <td>0.99195</td>\n",
       "    </tr>\n",
       "    <tr>\n",
       "      <th>tiny-fastformer</th>\n",
       "      <td>77.2</td>\n",
       "      <td>19.60</td>\n",
       "      <td>0.98926</td>\n",
       "      <td>0.98783</td>\n",
       "      <td>0.98853</td>\n",
       "    </tr>\n",
       "  </tbody>\n",
       "</table>\n",
       "</div>"
      ],
      "text/plain": [
       "                 Size (MB)  Quantized Size (MB)  macro precision  \\\n",
       "bert                 425.6               111.00          0.99786   \n",
       "tiny-bert             57.4                15.40          0.99692   \n",
       "albert                48.6                12.80          0.99740   \n",
       "tiny-albert           22.4                 5.98          0.99325   \n",
       "xlnet                446.5               118.00          0.99773   \n",
       "alxlnet               46.8                13.30          0.99663   \n",
       "fastformer           446.0               113.00          0.99197   \n",
       "tiny-fastformer       77.2                19.60          0.98926   \n",
       "\n",
       "                 macro recall  macro f1-score  \n",
       "bert                  0.99773         0.99779  \n",
       "tiny-bert             0.99696         0.99694  \n",
       "albert                0.99773         0.99757  \n",
       "tiny-albert           0.99378         0.99351  \n",
       "xlnet                 0.99775         0.99774  \n",
       "alxlnet               0.99697         0.99680  \n",
       "fastformer            0.99194         0.99195  \n",
       "tiny-fastformer       0.98783         0.98853  "
      ]
     },
     "execution_count": 4,
     "metadata": {},
     "output_type": "execute_result"
    }
   ],
   "source": [
    "malaya.emotion.available_transformer()"
   ]
  },
  {
   "cell_type": "markdown",
   "metadata": {},
   "source": [
    "### Load Transformer model\n",
    "\n",
    "```python\n",
    "def transformer(model: str = 'xlnet', quantized: bool = False, **kwargs):\n",
    "    \"\"\"\n",
    "    Load Transformer emotion model.\n",
    "\n",
    "    Parameters\n",
    "    ----------\n",
    "    model : str, optional (default='bert')\n",
    "        Model architecture supported. Allowed values:\n",
    "\n",
    "        * ``'bert'`` - Google BERT BASE parameters.\n",
    "        * ``'tiny-bert'`` - Google BERT TINY parameters.\n",
    "        * ``'albert'`` - Google ALBERT BASE parameters.\n",
    "        * ``'tiny-albert'`` - Google ALBERT TINY parameters.\n",
    "        * ``'xlnet'`` - Google XLNET BASE parameters.\n",
    "        * ``'alxlnet'`` - Malaya ALXLNET BASE parameters.\n",
    "        * ``'fastformer'`` - FastFormer BASE parameters.\n",
    "        * ``'tiny-fastformer'`` - FastFormer TINY parameters.\n",
    "\n",
    "    quantized : bool, optional (default=False)\n",
    "        if True, will load 8-bit quantized model.\n",
    "        Quantized model not necessary faster, totally depends on the machine.\n",
    "\n",
    "    Returns\n",
    "    -------\n",
    "    result: model\n",
    "        List of model classes:\n",
    "\n",
    "        * if `bert` in model, will return `malaya.model.bert.MulticlassBERT`.\n",
    "        * if `xlnet` in model, will return `malaya.model.xlnet.MulticlassXLNET`.\n",
    "        * if `fastformer` in model, will return `malaya.model.fastformer.MulticlassFastFormer`.\n",
    "    \"\"\"\n",
    "```"
   ]
  },
  {
   "cell_type": "code",
   "execution_count": 4,
   "metadata": {},
   "outputs": [],
   "source": [
    "model = malaya.emotion.transformer(model = 'albert')"
   ]
  },
  {
   "cell_type": "markdown",
   "metadata": {},
   "source": [
    "### Load Quantized model\n",
    "\n",
    "To load 8-bit quantized model, simply pass `quantized = True`, default is `False`.\n",
    "\n",
    "We can expect slightly accuracy drop from quantized model, and not necessary faster than normal 32-bit float model, totally depends on machine."
   ]
  },
  {
   "cell_type": "code",
   "execution_count": 31,
   "metadata": {
    "scrolled": true
   },
   "outputs": [
    {
     "name": "stderr",
     "output_type": "stream",
     "text": [
      "WARNING:root:Load quantized model will cause accuracy drop.\n"
     ]
    },
    {
     "name": "stdout",
     "output_type": "stream",
     "text": [
      "INFO:tensorflow:loading sentence piece model\n"
     ]
    },
    {
     "name": "stderr",
     "output_type": "stream",
     "text": [
      "INFO:tensorflow:loading sentence piece model\n"
     ]
    }
   ],
   "source": [
    "quantized_model = malaya.emotion.transformer(model = 'albert', quantized = True)"
   ]
  },
  {
   "cell_type": "markdown",
   "metadata": {},
   "source": [
    "#### Predict batch of strings\n",
    "\n",
    "```python\n",
    "def predict(self, strings: List[str]):\n",
    "    \"\"\"\n",
    "    classify list of strings.\n",
    "\n",
    "    Parameters\n",
    "    ----------\n",
    "    strings: List[str]\n",
    "\n",
    "    Returns\n",
    "    -------\n",
    "    result: List[str]\n",
    "    \"\"\"\n",
    "```"
   ]
  },
  {
   "cell_type": "code",
   "execution_count": 33,
   "metadata": {},
   "outputs": [
    {
     "data": {
      "text/plain": [
       "['anger', 'fear', 'anger', 'love', 'sadness', 'surprise']"
      ]
     },
     "execution_count": 33,
     "metadata": {},
     "output_type": "execute_result"
    }
   ],
   "source": [
    "model.predict(\n",
    "    [anger_text, fear_text, happy_text, love_text, sadness_text, surprise_text]\n",
    ")"
   ]
  },
  {
   "cell_type": "code",
   "execution_count": 34,
   "metadata": {},
   "outputs": [
    {
     "data": {
      "text/plain": [
       "['anger', 'fear', 'happy', 'love', 'sadness', 'surprise']"
      ]
     },
     "execution_count": 34,
     "metadata": {},
     "output_type": "execute_result"
    }
   ],
   "source": [
    "quantized_model.predict(\n",
    "    [anger_text, fear_text, happy_text, love_text, sadness_text, surprise_text]\n",
    ")"
   ]
  },
  {
   "cell_type": "markdown",
   "metadata": {},
   "source": [
    "#### Predict batch of strings with probability\n",
    "\n",
    "```python\n",
    "def predict_proba(self, strings: List[str]):\n",
    "    \"\"\"\n",
    "    classify list of strings and return probability.\n",
    "\n",
    "    Parameters\n",
    "    ----------\n",
    "    strings : List[str]\n",
    "\n",
    "    Returns\n",
    "    -------\n",
    "    result: List[dict[str, float]]\n",
    "    \"\"\"\n",
    "```"
   ]
  },
  {
   "cell_type": "code",
   "execution_count": 14,
   "metadata": {},
   "outputs": [
    {
     "data": {
      "text/plain": [
       "[{'anger': 0.9998901,\n",
       "  'fear': 3.2524113e-05,\n",
       "  'happy': 2.620931e-05,\n",
       "  'love': 2.2871463e-05,\n",
       "  'sadness': 9.782951e-06,\n",
       "  'surprise': 1.8502667e-05},\n",
       " {'anger': 1.6941378e-05,\n",
       "  'fear': 0.9999205,\n",
       "  'happy': 9.070281e-06,\n",
       "  'love': 2.044179e-05,\n",
       "  'sadness': 6.7731107e-06,\n",
       "  'surprise': 2.6314676e-05},\n",
       " {'anger': 0.15370166,\n",
       "  'fear': 0.0013852724,\n",
       "  'happy': 0.8268689,\n",
       "  'love': 0.011433229,\n",
       "  'sadness': 0.0011807577,\n",
       "  'surprise': 0.005430276},\n",
       " {'anger': 1.2597201e-05,\n",
       "  'fear': 1.7600481e-05,\n",
       "  'happy': 9.667115e-06,\n",
       "  'love': 0.9999331,\n",
       "  'sadness': 1.3735416e-05,\n",
       "  'surprise': 1.3399296e-05},\n",
       " {'anger': 1.9176923e-05,\n",
       "  'fear': 1.1163729e-05,\n",
       "  'happy': 6.353941e-06,\n",
       "  'love': 7.004002e-06,\n",
       "  'sadness': 0.99994576,\n",
       "  'surprise': 1.0511084e-05},\n",
       " {'anger': 5.8739704e-05,\n",
       "  'fear': 1.9771342e-05,\n",
       "  'happy': 1.8316741e-05,\n",
       "  'love': 2.2319455e-05,\n",
       "  'sadness': 3.646786e-05,\n",
       "  'surprise': 0.9998443}]"
      ]
     },
     "execution_count": 14,
     "metadata": {},
     "output_type": "execute_result"
    }
   ],
   "source": [
    "model.predict_proba(\n",
    "    [anger_text, fear_text, happy_text, love_text, sadness_text, surprise_text]\n",
    ")"
   ]
  },
  {
   "cell_type": "code",
   "execution_count": 15,
   "metadata": {},
   "outputs": [
    {
     "data": {
      "text/plain": [
       "[{'anger': 0.99988353,\n",
       "  'fear': 3.5938003e-05,\n",
       "  'happy': 2.7778764e-05,\n",
       "  'love': 2.3541537e-05,\n",
       "  'sadness': 9.574292e-06,\n",
       "  'surprise': 1.9607493e-05},\n",
       " {'anger': 1.6855265e-05,\n",
       "  'fear': 0.9999219,\n",
       "  'happy': 9.185196e-06,\n",
       "  'love': 2.0216348e-05,\n",
       "  'sadness': 6.6679663e-06,\n",
       "  'surprise': 2.5186611e-05},\n",
       " {'anger': 0.22842072,\n",
       "  'fear': 0.001628682,\n",
       "  'happy': 0.7477462,\n",
       "  'love': 0.014303649,\n",
       "  'sadness': 0.0013838055,\n",
       "  'surprise': 0.00651699},\n",
       " {'anger': 1.28296715e-05,\n",
       "  'fear': 1.7833345e-05,\n",
       "  'happy': 9.577061e-06,\n",
       "  'love': 0.9999324,\n",
       "  'sadness': 1.3832815e-05,\n",
       "  'surprise': 1.34745715e-05},\n",
       " {'anger': 1.9776813e-05,\n",
       "  'fear': 1.1116885e-05,\n",
       "  'happy': 6.3422367e-06,\n",
       "  'love': 6.905633e-06,\n",
       "  'sadness': 0.9999455,\n",
       "  'surprise': 1.0316757e-05},\n",
       " {'anger': 5.8218586e-05,\n",
       "  'fear': 2.07504e-05,\n",
       "  'happy': 1.8061248e-05,\n",
       "  'love': 2.1852256e-05,\n",
       "  'sadness': 3.5944133e-05,\n",
       "  'surprise': 0.99984515}]"
      ]
     },
     "execution_count": 15,
     "metadata": {},
     "output_type": "execute_result"
    }
   ],
   "source": [
    "quantized_model.predict_proba(\n",
    "    [anger_text, fear_text, happy_text, love_text, sadness_text, surprise_text]\n",
    ")"
   ]
  },
  {
   "cell_type": "markdown",
   "metadata": {},
   "source": [
    "#### Open emotion visualization dashboard\n",
    "\n",
    "```python\n",
    "def predict_words(\n",
    "    self,\n",
    "    string: str,\n",
    "    method: str = 'last',\n",
    "    bins_size: float = 0.05,\n",
    "    visualization: bool = True,\n",
    "):\n",
    "    \"\"\"\n",
    "    classify words.\n",
    "\n",
    "    Parameters\n",
    "    ----------\n",
    "    string : str\n",
    "    method : str, optional (default='last')\n",
    "        Attention layer supported. Allowed values:\n",
    "\n",
    "        * ``'last'`` - attention from last layer.\n",
    "        * ``'first'`` - attention from first layer.\n",
    "        * ``'mean'`` - average attentions from all layers.\n",
    "    bins_size: float, optional (default=0.05)\n",
    "        default bins size for word distribution histogram.\n",
    "    visualization: bool, optional (default=True)\n",
    "        If True, it will open the visualization dashboard.\n",
    "\n",
    "    Returns\n",
    "    -------\n",
    "    dictionary: results\n",
    "    \"\"\"\n",
    "```\n",
    "\n",
    "Default when you call `predict_words` it will open a browser with visualization dashboard, you can disable by `visualization=False`."
   ]
  },
  {
   "cell_type": "code",
   "execution_count": 5,
   "metadata": {},
   "outputs": [
    {
     "data": {
      "text/html": [
       "<div style=\"width:100%;height:500px\"><div style=\"position:relative;width:100%;height:0;padding-bottom:1;\"><iframe srcdoc=\"&lt;head&gt;\n",
       "  &lt;meta name=&quot;viewport&quot; content=&quot;width=device-width, initial-scale=1&quot;&gt;\n",
       "  &lt;title&gt;Malaya&lt;/title&gt;\n",
       "  &lt;link href=&quot;https://cdn.jsdelivr.net/gh/huseinzol05/malaya/malaya/function/web/static/admin-materialize.min.css&quot;\n",
       "    rel=&quot;stylesheet&quot;&gt;\n",
       "  &lt;link href=&quot;https://fonts.googleapis.com/icon?family=Material+Icons&quot; rel=&quot;stylesheet&quot;&gt;\n",
       "  &lt;link href=&quot;https://afeld.github.io/emoji-css/emoji.css&quot; rel=&quot;stylesheet&quot;&gt;\n",
       "&lt;/head&gt;\n",
       "\n",
       "&lt;body&gt;\n",
       "  &lt;main&gt;\n",
       "    &lt;div class=&quot;container&quot;&gt;\n",
       "      &lt;h4&gt;emotion classification&lt;/h4&gt;\n",
       "      &lt;div class=&quot;row&quot;&gt;\n",
       "        &lt;div class=&quot;col l4 m4 s12&quot;&gt;\n",
       "          &lt;div id=&quot;count&quot; style=&quot;height: 300px;&quot;&gt;&lt;/div&gt;\n",
       "        &lt;/div&gt;\n",
       "        &lt;div class=&quot;col l4 m4 s12&quot;&gt;\n",
       "          &lt;div id=&quot;histogram&quot; style=&quot;height: 300px;&quot;&gt;&lt;/div&gt;\n",
       "        &lt;/div&gt;\n",
       "        &lt;div class=&quot;col l4 m4 s12&quot;&gt;\n",
       "          &lt;div id=&quot;entropy&quot; style=&quot;height: 300px;&quot;&gt;&lt;/div&gt;\n",
       "        &lt;/div&gt;\n",
       "      &lt;/div&gt;\n",
       "      &lt;div class=&quot;row&quot;&gt;\n",
       "        &lt;p&gt;&lt;mark style=&#x27;background-color:rgb(255, 206, 0)&#x27; class=&#x27;tooltipped&#x27; data-position=&#x27;bottom&#x27; data-tooltip=&quot;Anger &lt;i class=&#x27;em em-angry&#x27;&gt;&lt;/i&gt; 0.001&lt;br&gt;Fear &lt;i class=&#x27;em em-fearful&#x27;&gt;&lt;/i&gt; 0.002&lt;br&gt;Happy &lt;i class=&#x27;em em-smile&#x27;&gt;&lt;/i&gt; 0.001&lt;br&gt;Love &lt;i class=&#x27;em em-heart_eyes&#x27;&gt;&lt;/i&gt; 0.000&lt;br&gt;Sadness &lt;i class=&#x27;em em-white_frowning_face&#x27;&gt;&lt;/i&gt; 0.995&lt;br&gt;Surprise &lt;i class=&#x27;em em-dizzy_face&#x27;&gt;&lt;/i&gt; 0.002&lt;br&gt;Attention &lt;i class=&#x27;em em-warning&#x27;&gt;&lt;/i&gt; 0.150&lt;br&gt;&quot;&gt;kecewa&lt;/mark&gt; &lt;mark style=&#x27;background-color:rgb(255, 206, 0)&#x27; class=&#x27;tooltipped&#x27; data-position=&#x27;bottom&#x27; data-tooltip=&quot;Anger &lt;i class=&#x27;em em-angry&#x27;&gt;&lt;/i&gt; 0.005&lt;br&gt;Fear &lt;i class=&#x27;em em-fearful&#x27;&gt;&lt;/i&gt; 0.002&lt;br&gt;Happy &lt;i class=&#x27;em em-smile&#x27;&gt;&lt;/i&gt; 0.003&lt;br&gt;Love &lt;i class=&#x27;em em-heart_eyes&#x27;&gt;&lt;/i&gt; 0.001&lt;br&gt;Sadness &lt;i class=&#x27;em em-white_frowning_face&#x27;&gt;&lt;/i&gt; 0.985&lt;br&gt;Surprise &lt;i class=&#x27;em em-dizzy_face&#x27;&gt;&lt;/i&gt; 0.005&lt;br&gt;Attention &lt;i class=&#x27;em em-warning&#x27;&gt;&lt;/i&gt; 0.136&lt;br&gt;&quot;&gt;tengok&lt;/mark&gt; &lt;mark style=&#x27;background-color:rgb(255, 206, 0)&#x27; class=&#x27;tooltipped&#x27; data-position=&#x27;bottom&#x27; data-tooltip=&quot;Anger &lt;i class=&#x27;em em-angry&#x27;&gt;&lt;/i&gt; 0.029&lt;br&gt;Fear &lt;i class=&#x27;em em-fearful&#x27;&gt;&lt;/i&gt; 0.004&lt;br&gt;Happy &lt;i class=&#x27;em em-smile&#x27;&gt;&lt;/i&gt; 0.024&lt;br&gt;Love &lt;i class=&#x27;em em-heart_eyes&#x27;&gt;&lt;/i&gt; 0.010&lt;br&gt;Sadness &lt;i class=&#x27;em em-white_frowning_face&#x27;&gt;&lt;/i&gt; 0.918&lt;br&gt;Surprise &lt;i class=&#x27;em em-dizzy_face&#x27;&gt;&lt;/i&gt; 0.015&lt;br&gt;Attention &lt;i class=&#x27;em em-warning&#x27;&gt;&lt;/i&gt; 0.176&lt;br&gt;&quot;&gt;kerajaan&lt;/mark&gt; &lt;mark style=&#x27;background-color:rgb(255, 206, 0)&#x27; class=&#x27;tooltipped&#x27; data-position=&#x27;bottom&#x27; data-tooltip=&quot;Anger &lt;i class=&#x27;em em-angry&#x27;&gt;&lt;/i&gt; 0.026&lt;br&gt;Fear &lt;i class=&#x27;em em-fearful&#x27;&gt;&lt;/i&gt; 0.046&lt;br&gt;Happy &lt;i class=&#x27;em em-smile&#x27;&gt;&lt;/i&gt; 0.099&lt;br&gt;Love &lt;i class=&#x27;em em-heart_eyes&#x27;&gt;&lt;/i&gt; 0.008&lt;br&gt;Sadness &lt;i class=&#x27;em em-white_frowning_face&#x27;&gt;&lt;/i&gt; 0.740&lt;br&gt;Surprise &lt;i class=&#x27;em em-dizzy_face&#x27;&gt;&lt;/i&gt; 0.082&lt;br&gt;Attention &lt;i class=&#x27;em em-warning&#x27;&gt;&lt;/i&gt; 0.066&lt;br&gt;&quot;&gt;baru&lt;/mark&gt; &lt;mark style=&#x27;background-color:rgb(255, 206, 0)&#x27; class=&#x27;tooltipped&#x27; data-position=&#x27;bottom&#x27; data-tooltip=&quot;Anger &lt;i class=&#x27;em em-angry&#x27;&gt;&lt;/i&gt; 0.043&lt;br&gt;Fear &lt;i class=&#x27;em em-fearful&#x27;&gt;&lt;/i&gt; 0.019&lt;br&gt;Happy &lt;i class=&#x27;em em-smile&#x27;&gt;&lt;/i&gt; 0.009&lt;br&gt;Love &lt;i class=&#x27;em em-heart_eyes&#x27;&gt;&lt;/i&gt; 0.002&lt;br&gt;Sadness &lt;i class=&#x27;em em-white_frowning_face&#x27;&gt;&lt;/i&gt; 0.892&lt;br&gt;Surprise &lt;i class=&#x27;em em-dizzy_face&#x27;&gt;&lt;/i&gt; 0.035&lt;br&gt;Attention &lt;i class=&#x27;em em-warning&#x27;&gt;&lt;/i&gt; 0.054&lt;br&gt;&quot;&gt;ni,&lt;/mark&gt; &lt;mark style=&#x27;background-color:rgb(255, 206, 0)&#x27; class=&#x27;tooltipped&#x27; data-position=&#x27;bottom&#x27; data-tooltip=&quot;Anger &lt;i class=&#x27;em em-angry&#x27;&gt;&lt;/i&gt; 0.063&lt;br&gt;Fear &lt;i class=&#x27;em em-fearful&#x27;&gt;&lt;/i&gt; 0.085&lt;br&gt;Happy &lt;i class=&#x27;em em-smile&#x27;&gt;&lt;/i&gt; 0.047&lt;br&gt;Love &lt;i class=&#x27;em em-heart_eyes&#x27;&gt;&lt;/i&gt; 0.009&lt;br&gt;Sadness &lt;i class=&#x27;em em-white_frowning_face&#x27;&gt;&lt;/i&gt; 0.630&lt;br&gt;Surprise &lt;i class=&#x27;em em-dizzy_face&#x27;&gt;&lt;/i&gt; 0.167&lt;br&gt;Attention &lt;i class=&#x27;em em-warning&#x27;&gt;&lt;/i&gt; 0.060&lt;br&gt;&quot;&gt;janji&lt;/mark&gt; &lt;mark style=&#x27;background-color:rgb(255, 206, 0)&#x27; class=&#x27;tooltipped&#x27; data-position=&#x27;bottom&#x27; data-tooltip=&quot;Anger &lt;i class=&#x27;em em-angry&#x27;&gt;&lt;/i&gt; 0.174&lt;br&gt;Fear &lt;i class=&#x27;em em-fearful&#x27;&gt;&lt;/i&gt; 0.039&lt;br&gt;Happy &lt;i class=&#x27;em em-smile&#x27;&gt;&lt;/i&gt; 0.027&lt;br&gt;Love &lt;i class=&#x27;em em-heart_eyes&#x27;&gt;&lt;/i&gt; 0.005&lt;br&gt;Sadness &lt;i class=&#x27;em em-white_frowning_face&#x27;&gt;&lt;/i&gt; 0.734&lt;br&gt;Surprise &lt;i class=&#x27;em em-dizzy_face&#x27;&gt;&lt;/i&gt; 0.021&lt;br&gt;Attention &lt;i class=&#x27;em em-warning&#x27;&gt;&lt;/i&gt; 0.129&lt;br&gt;&quot;&gt;ape&lt;/mark&gt; &lt;mark style=&#x27;background-color:rgb(255, 206, 0)&#x27; class=&#x27;tooltipped&#x27; data-position=&#x27;bottom&#x27; data-tooltip=&quot;Anger &lt;i class=&#x27;em em-angry&#x27;&gt;&lt;/i&gt; 0.001&lt;br&gt;Fear &lt;i class=&#x27;em em-fearful&#x27;&gt;&lt;/i&gt; 0.003&lt;br&gt;Happy &lt;i class=&#x27;em em-smile&#x27;&gt;&lt;/i&gt; 0.001&lt;br&gt;Love &lt;i class=&#x27;em em-heart_eyes&#x27;&gt;&lt;/i&gt; 0.000&lt;br&gt;Sadness &lt;i class=&#x27;em em-white_frowning_face&#x27;&gt;&lt;/i&gt; 0.991&lt;br&gt;Surprise &lt;i class=&#x27;em em-dizzy_face&#x27;&gt;&lt;/i&gt; 0.003&lt;br&gt;Attention &lt;i class=&#x27;em em-warning&#x27;&gt;&lt;/i&gt; 0.112&lt;br&gt;&quot;&gt;pun&lt;/mark&gt; &lt;mark style=&#x27;background-color:rgb(255, 206, 0)&#x27; class=&#x27;tooltipped&#x27; data-position=&#x27;bottom&#x27; data-tooltip=&quot;Anger &lt;i class=&#x27;em em-angry&#x27;&gt;&lt;/i&gt; 0.019&lt;br&gt;Fear &lt;i class=&#x27;em em-fearful&#x27;&gt;&lt;/i&gt; 0.090&lt;br&gt;Happy &lt;i class=&#x27;em em-smile&#x27;&gt;&lt;/i&gt; 0.045&lt;br&gt;Love &lt;i class=&#x27;em em-heart_eyes&#x27;&gt;&lt;/i&gt; 0.018&lt;br&gt;Sadness &lt;i class=&#x27;em em-white_frowning_face&#x27;&gt;&lt;/i&gt; 0.593&lt;br&gt;Surprise &lt;i class=&#x27;em em-dizzy_face&#x27;&gt;&lt;/i&gt; 0.236&lt;br&gt;Attention &lt;i class=&#x27;em em-warning&#x27;&gt;&lt;/i&gt; 0.055&lt;br&gt;&quot;&gt;tak&lt;/mark&gt; &lt;mark style=&#x27;background-color:rgb(255, 206, 0)&#x27; class=&#x27;tooltipped&#x27; data-position=&#x27;bottom&#x27; data-tooltip=&quot;Anger &lt;i class=&#x27;em em-angry&#x27;&gt;&lt;/i&gt; 0.023&lt;br&gt;Fear &lt;i class=&#x27;em em-fearful&#x27;&gt;&lt;/i&gt; 0.087&lt;br&gt;Happy &lt;i class=&#x27;em em-smile&#x27;&gt;&lt;/i&gt; 0.024&lt;br&gt;Love &lt;i class=&#x27;em em-heart_eyes&#x27;&gt;&lt;/i&gt; 0.002&lt;br&gt;Sadness &lt;i class=&#x27;em em-white_frowning_face&#x27;&gt;&lt;/i&gt; 0.829&lt;br&gt;Surprise &lt;i class=&#x27;em em-dizzy_face&#x27;&gt;&lt;/i&gt; 0.035&lt;br&gt;Attention &lt;i class=&#x27;em em-warning&#x27;&gt;&lt;/i&gt; 0.061&lt;br&gt;&quot;&gt;dapat&lt;/mark&gt;&lt;/p&gt;\n",
       "      &lt;/div&gt;\n",
       "    &lt;/div&gt;\n",
       "  &lt;/main&gt;\n",
       "&lt;/body&gt;\n",
       "\n",
       "&lt;script src=&quot;https://code.jquery.com/jquery-3.4.1.slim.js&quot;&gt;&lt;/script&gt;\n",
       "&lt;script src=&quot;https://cdnjs.cloudflare.com/ajax/libs/materialize/1.0.0/js/materialize.min.js&quot;&gt;&lt;/script&gt;\n",
       "&lt;script src=&quot;https://cdn.jsdelivr.net/gh/huseinzol05/malaya/malaya/function/web/static/echarts.min.js&quot;&gt;&lt;/script&gt;\n",
       "\n",
       "&lt;script&gt;\n",
       "\n",
       "  var plot = echarts.init(document.getElementById(&#x27;count&#x27;));\n",
       "  var colors = [&#x27;rgb(254, 0, 20)&#x27;, &#x27;rgb(168, 103, 172)&#x27;, &#x27;rgb(0, 211, 239)&#x27;, &#x27;rgb(255, 70, 198)&#x27;,\n",
       "    &#x27;rgb(255, 206, 0)&#x27;, &#x27;rgb(255, 244, 0)&#x27;];\n",
       "\n",
       "  option = {\n",
       "    title: {\n",
       "      text: &#x27;Classes barplot&#x27;\n",
       "    },\n",
       "    tooltip: {\n",
       "      trigger: &#x27;axis&#x27;,\n",
       "      axisPointer: {\n",
       "        type: &#x27;cross&#x27;\n",
       "      }\n",
       "    },\n",
       "    data: [&#x27;Anger&#x27;, &#x27;Fear&#x27;, &#x27;Happy&#x27;, &#x27;Love&#x27;, &#x27;Sadness&#x27;, &#x27;Surprise&#x27;],\n",
       "    xAxis: {\n",
       "      type: &#x27;category&#x27;,\n",
       "      data: [&#x27;Anger&#x27;, &#x27;Fear&#x27;, &#x27;Happy&#x27;, &#x27;Love&#x27;, &#x27;Sadness&#x27;, &#x27;Surprise&#x27;],\n",
       "      axisLabel: {\n",
       "        interval: 0,\n",
       "        rotate: 30\n",
       "      },\n",
       "    },\n",
       "    yAxis: {\n",
       "      type: &#x27;value&#x27;,\n",
       "      splitLine: {\n",
       "        show: false\n",
       "      }\n",
       "    },\n",
       "    series: [{\n",
       "      data: [0, &#x27;-&#x27;, &#x27;-&#x27;, &#x27;-&#x27;, &#x27;-&#x27;, &#x27;-&#x27;],\n",
       "      stack: &#x27;1&#x27;,\n",
       "      type: &#x27;bar&#x27;,\n",
       "      name: &#x27;Anger&#x27;,\n",
       "      color: colors[0],\n",
       "      label: {\n",
       "        normal: {\n",
       "          show: true,\n",
       "          position: &#x27;top&#x27;\n",
       "        }\n",
       "      },\n",
       "    },\n",
       "    {\n",
       "      data: [&#x27;-&#x27;, 1, &#x27;-&#x27;, &#x27;-&#x27;, &#x27;-&#x27;, &#x27;-&#x27;],\n",
       "      type: &#x27;bar&#x27;,\n",
       "      stack: &#x27;1&#x27;,\n",
       "      name: &#x27;Fear&#x27;,\n",
       "      color: colors[1],\n",
       "      label: {\n",
       "        normal: {\n",
       "          show: true,\n",
       "          position: &#x27;top&#x27;\n",
       "        }\n",
       "      },\n",
       "    },\n",
       "    {\n",
       "      data: [&#x27;-&#x27;, &#x27;-&#x27;, 2, &#x27;-&#x27;, &#x27;-&#x27;, &#x27;-&#x27;],\n",
       "      type: &#x27;bar&#x27;,\n",
       "      stack: &#x27;1&#x27;,\n",
       "      name: &#x27;Happy&#x27;,\n",
       "      color: colors[2],\n",
       "      label: {\n",
       "        normal: {\n",
       "          show: true,\n",
       "          position: &#x27;top&#x27;\n",
       "        }\n",
       "      },\n",
       "    },\n",
       "    {\n",
       "      data: [&#x27;-&#x27;, &#x27;-&#x27;, &#x27;-&#x27;, 3, &#x27;-&#x27;, &#x27;-&#x27;],\n",
       "      type: &#x27;bar&#x27;,\n",
       "      stack: &#x27;1&#x27;,\n",
       "      name: &#x27;Love&#x27;,\n",
       "      color: colors[3],\n",
       "      label: {\n",
       "        normal: {\n",
       "          show: true,\n",
       "          position: &#x27;top&#x27;\n",
       "        }\n",
       "      },\n",
       "    },\n",
       "    {\n",
       "      data: [&#x27;-&#x27;, &#x27;-&#x27;, &#x27;-&#x27;, &#x27;-&#x27;, 10, &#x27;-&#x27;],\n",
       "      type: &#x27;bar&#x27;,\n",
       "      stack: &#x27;1&#x27;,\n",
       "      name: &#x27;Sadness&#x27;,\n",
       "      color: colors[4],\n",
       "      label: {\n",
       "        normal: {\n",
       "          show: true,\n",
       "          position: &#x27;top&#x27;\n",
       "        }\n",
       "      },\n",
       "    },\n",
       "    {\n",
       "      data: [&#x27;-&#x27;, &#x27;-&#x27;, &#x27;-&#x27;, &#x27;-&#x27;, &#x27;-&#x27;, 5],\n",
       "      type: &#x27;bar&#x27;,\n",
       "      stack: &#x27;1&#x27;,\n",
       "      name: &#x27;Surprise&#x27;,\n",
       "      color: colors[5],\n",
       "      label: {\n",
       "        normal: {\n",
       "          show: true,\n",
       "          position: &#x27;top&#x27;\n",
       "        }\n",
       "      },\n",
       "    }\n",
       "    ]\n",
       "  };\n",
       "  plot.setOption(option = option)\n",
       "\n",
       "  option = {\n",
       "    title: {\n",
       "      text: &#x27;probability histogram&#x27;\n",
       "    },\n",
       "    tooltip: {\n",
       "      trigger: &#x27;axis&#x27;,\n",
       "      axisPointer: {\n",
       "        type: &#x27;cross&#x27;\n",
       "      }\n",
       "    },\n",
       "    xAxis: {\n",
       "      type: &#x27;category&#x27;,\n",
       "      data: [0.0, 0.05, 0.1, 0.15000000000000002, 0.2, 0.25, 0.30000000000000004, 0.35000000000000003, 0.4, 0.45, 0.5, 0.55, 0.6000000000000001, 0.65, 0.7000000000000001, 0.75, 0.8, 0.8500000000000001, 0.9, 0.9500000000000001, 1.0],\n",
       "    },\n",
       "    yAxis: {\n",
       "      type: &#x27;value&#x27;,\n",
       "      splitLine: {\n",
       "        show: false\n",
       "      }\n",
       "    },\n",
       "    series: [{\n",
       "      data: [0.0, 0.0, 0.0, 0.0, 0.0, 0.0, 0.0, 0.0, 0.0, 0.0, 0.0, 0.1, 0.1, 0.0, 0.2, 0.0, 0.1, 0.1, 0.1, 0.3],\n",
       "      type: &#x27;bar&#x27;\n",
       "    }]\n",
       "  };\n",
       "\n",
       "  var plot = echarts.init(document.getElementById(&#x27;histogram&#x27;));\n",
       "  plot.setOption(option = option)\n",
       "\n",
       "  option = {\n",
       "    title: {\n",
       "      text: &#x27;Attention&#x27;\n",
       "    },\n",
       "    tooltip: {\n",
       "      trigger: &#x27;axis&#x27;,\n",
       "      axisPointer: {\n",
       "        type: &#x27;cross&#x27;\n",
       "      }\n",
       "    },\n",
       "    xAxis: {\n",
       "      type: &#x27;category&#x27;,\n",
       "      name: &#x27;Sentence length&#x27;,\n",
       "      nameLocation: &#x27;center&#x27;,\n",
       "      nameGap: 30,\n",
       "      data: [0, 1, 2, 3, 4, 5, 6, 7, 8, 9]\n",
       "    },\n",
       "    yAxis: {\n",
       "      type: &#x27;value&#x27;,\n",
       "      splitLine: {\n",
       "        show: false\n",
       "      }\n",
       "    },\n",
       "    series: [{\n",
       "      data: [0.15048716962337494, 0.13648198544979095, 0.17551971971988678, 0.06648290157318115, 0.05409768223762512, 0.05964370444417, 0.1292484700679779, 0.1124691590666771, 0.05459275096654892, 0.060976430773735046],\n",
       "      type: &#x27;line&#x27;,\n",
       "      showSymbol: false\n",
       "    }]\n",
       "  };\n",
       "\n",
       "  var plot = echarts.init(document.getElementById(&#x27;entropy&#x27;));\n",
       "  plot.setOption(option = option)\n",
       "\n",
       "  document.addEventListener(&#x27;DOMContentLoaded&#x27;, function () {\n",
       "    var elems = document.querySelectorAll(&#x27;.tooltipped&#x27;);\n",
       "    var instances = M.Tooltip.init(elems);\n",
       "  });\n",
       "\n",
       "&lt;/script&gt;\" style=\"position:absolute;width:100%;height:500px;left:0;top:0;border:none !important;\" allowfullscreen webkitallowfullscreen mozallowfullscreen></iframe></div></div>"
      ],
      "text/plain": [
       "<IPython.core.display.HTML object>"
      ]
     },
     "metadata": {},
     "output_type": "display_data"
    }
   ],
   "source": [
    "model.predict_words(sadness_text)"
   ]
  },
  {
   "cell_type": "markdown",
   "metadata": {},
   "source": [
    "### Vectorize\n",
    "\n",
    "Let say you want to visualize sentence / word level in lower dimension, you can use `model.vectorize`,\n",
    "\n",
    "```python\n",
    "def vectorize(self, strings: List[str], method: str = 'first'):\n",
    "    \"\"\"\n",
    "    vectorize list of strings.\n",
    "\n",
    "    Parameters\n",
    "    ----------\n",
    "    strings: List[str]\n",
    "    method : str, optional (default='first')\n",
    "        Vectorization layer supported. Allowed values:\n",
    "\n",
    "        * ``'last'`` - vector from last sequence.\n",
    "        * ``'first'`` - vector from first sequence.\n",
    "        * ``'mean'`` - average vectors from all sequences.\n",
    "        * ``'word'`` - average vectors based on tokens.\n",
    "\n",
    "    Returns\n",
    "    -------\n",
    "    result: np.array\n",
    "    \"\"\"\n",
    "```"
   ]
  },
  {
   "cell_type": "markdown",
   "metadata": {},
   "source": [
    "#### Sentence level"
   ]
  },
  {
   "cell_type": "code",
   "execution_count": 20,
   "metadata": {},
   "outputs": [],
   "source": [
    "texts = [anger_text, fear_text, happy_text, love_text, sadness_text, surprise_text]\n",
    "r = quantized_model.vectorize(texts, method = 'first')"
   ]
  },
  {
   "cell_type": "code",
   "execution_count": 21,
   "metadata": {},
   "outputs": [
    {
     "data": {
      "text/plain": [
       "(6, 2)"
      ]
     },
     "execution_count": 21,
     "metadata": {},
     "output_type": "execute_result"
    }
   ],
   "source": [
    "from sklearn.manifold import TSNE\n",
    "import matplotlib.pyplot as plt\n",
    "\n",
    "tsne = TSNE().fit_transform(r)\n",
    "tsne.shape"
   ]
  },
  {
   "cell_type": "code",
   "execution_count": 22,
   "metadata": {},
   "outputs": [
    {
     "data": {
      "image/png": "[encoded data removed]",
      "text/plain": [
       "<Figure size 504x504 with 1 Axes>"
      ]
     },
     "metadata": {
      "needs_background": "light"
     },
     "output_type": "display_data"
    }
   ],
   "source": [
    "plt.figure(figsize = (7, 7))\n",
    "plt.scatter(tsne[:, 0], tsne[:, 1])\n",
    "labels = texts\n",
    "for label, x, y in zip(\n",
    "    labels, tsne[:, 0], tsne[:, 1]\n",
    "):\n",
    "    label = (\n",
    "        '%s, %.3f' % (label[0], label[1])\n",
    "        if isinstance(label, list)\n",
    "        else label\n",
    "    )\n",
    "    plt.annotate(\n",
    "        label,\n",
    "        xy = (x, y),\n",
    "        xytext = (0, 0),\n",
    "        textcoords = 'offset points',\n",
    "    )"
   ]
  },
  {
   "cell_type": "markdown",
   "metadata": {},
   "source": [
    "#### Word level"
   ]
  },
  {
   "cell_type": "code",
   "execution_count": 23,
   "metadata": {},
   "outputs": [],
   "source": [
    "r = quantized_model.vectorize(texts, method = 'word')"
   ]
  },
  {
   "cell_type": "code",
   "execution_count": 24,
   "metadata": {},
   "outputs": [],
   "source": [
    "x, y = [], []\n",
    "for row in r:\n",
    "    x.extend([i[0] for i in row])\n",
    "    y.extend([i[1] for i in row])"
   ]
  },
  {
   "cell_type": "code",
   "execution_count": 25,
   "metadata": {},
   "outputs": [
    {
     "data": {
      "text/plain": [
       "(49, 2)"
      ]
     },
     "execution_count": 25,
     "metadata": {},
     "output_type": "execute_result"
    }
   ],
   "source": [
    "tsne = TSNE().fit_transform(y)\n",
    "tsne.shape"
   ]
  },
  {
   "cell_type": "code",
   "execution_count": 26,
   "metadata": {
    "scrolled": false
   },
   "outputs": [
    {
     "data": {
      "image/png": "[encoded data removed]",
      "text/plain": [
       "<Figure size 504x504 with 1 Axes>"
      ]
     },
     "metadata": {
      "needs_background": "light"
     },
     "output_type": "display_data"
    }
   ],
   "source": [
    "plt.figure(figsize = (7, 7))\n",
    "plt.scatter(tsne[:, 0], tsne[:, 1])\n",
    "labels = x\n",
    "for label, x, y in zip(\n",
    "    labels, tsne[:, 0], tsne[:, 1]\n",
    "):\n",
    "    label = (\n",
    "        '%s, %.3f' % (label[0], label[1])\n",
    "        if isinstance(label, list)\n",
    "        else label\n",
    "    )\n",
    "    plt.annotate(\n",
    "        label,\n",
    "        xy = (x, y),\n",
    "        xytext = (0, 0),\n",
    "        textcoords = 'offset points',\n",
    "    )"
   ]
  },
  {
   "cell_type": "markdown",
   "metadata": {},
   "source": [
    "Pretty good, the model able to know cluster top right as surprise emotion."
   ]
  },
  {
   "cell_type": "markdown",
   "metadata": {},
   "source": [
    "### Stacking models\n",
    "\n",
    "More information, you can read at [https://malaya.readthedocs.io/en/latest/Stack.html](https://malaya.readthedocs.io/en/latest/Stack.html)"
   ]
  },
  {
   "cell_type": "code",
   "execution_count": 27,
   "metadata": {},
   "outputs": [],
   "source": [
    "multinomial = malaya.emotion.multinomial()"
   ]
  },
  {
   "cell_type": "code",
   "execution_count": 28,
   "metadata": {},
   "outputs": [
    {
     "data": {
      "text/plain": [
       "[{'anger': 0.5739743139312979,\n",
       "  'fear': 0.002130791264743306,\n",
       "  'happy': 0.0019609404077070573,\n",
       "  'love': 0.0016901068202818533,\n",
       "  'sadness': 0.001121633002361737,\n",
       "  'surprise': 0.0015551851123993595}]"
      ]
     },
     "execution_count": 28,
     "metadata": {},
     "output_type": "execute_result"
    }
   ],
   "source": [
    "malaya.stack.predict_stack([multinomial, model], [anger_text])"
   ]
  },
  {
   "cell_type": "code",
   "execution_count": 29,
   "metadata": {},
   "outputs": [
    {
     "data": {
      "text/plain": [
       "[{'anger': 0.5739743139312979,\n",
       "  'fear': 0.002130791264743306,\n",
       "  'happy': 0.0019609404077070573,\n",
       "  'love': 0.0016901068202818533,\n",
       "  'sadness': 0.001121633002361737,\n",
       "  'surprise': 0.0015551858768478731},\n",
       " {'anger': 0.001604580129233267,\n",
       "  'fear': 0.0011600003908574707,\n",
       "  'happy': 0.0009737663531537643,\n",
       "  'love': 0.0008489265368074127,\n",
       "  'sadness': 0.6079418541812244,\n",
       "  'surprise': 0.001139192858067602}]"
      ]
     },
     "execution_count": 29,
     "metadata": {},
     "output_type": "execute_result"
    }
   ],
   "source": [
    "malaya.stack.predict_stack([multinomial, model], [anger_text, sadness_text])"
   ]
  }
 ],
 "metadata": {
  "kernelspec": {
   "display_name": "Python 3",
   "language": "python",
   "name": "python3"
  },
  "language_info": {
   "codemirror_mode": {
    "name": "ipython",
    "version": 3
   },
   "file_extension": ".py",
   "mimetype": "text/x-python",
   "name": "python",
   "nbconvert_exporter": "python",
   "pygments_lexer": "ipython3",
   "version": "3.7.7"
  }
 },
 "nbformat": 4,
 "nbformat_minor": 2
}
