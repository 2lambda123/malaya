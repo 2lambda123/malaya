{
 "cells": [
  {
   "cell_type": "code",
   "execution_count": 1,
   "metadata": {},
   "outputs": [
    {
     "name": "stdout",
     "output_type": "stream",
     "text": [
      "deleting previous version models..\n"
     ]
    },
    {
     "name": "stderr",
     "output_type": "stream",
     "text": [
      "1.00MB [00:00, 1.13kMB/s]                  "
     ]
    },
    {
     "name": "stdout",
     "output_type": "stream",
     "text": [
      "downloading stopwords\n"
     ]
    },
    {
     "name": "stderr",
     "output_type": "stream",
     "text": [
      "\n",
      "Using TensorFlow backend.\n",
      "/usr/local/lib/python3.5/dist-packages/sklearn/cross_validation.py:41: DeprecationWarning: This module was deprecated in version 0.18 in favor of the model_selection module into which all the refactored classes and functions are moved. Also note that the interface of the new CV iterators are different from that of this module. This module will be removed in 0.20.\n",
      "  \"This module will be removed in 0.20.\", DeprecationWarning)\n",
      "1.00MB [00:00, 15.0MB/s]                   "
     ]
    },
    {
     "name": "stdout",
     "output_type": "stream",
     "text": [
      "downloading ZIP rules-based\n"
     ]
    },
    {
     "name": "stderr",
     "output_type": "stream",
     "text": [
      "\n"
     ]
    }
   ],
   "source": [
    "import malaya"
   ]
  },
  {
   "cell_type": "code",
   "execution_count": 2,
   "metadata": {},
   "outputs": [
    {
     "name": "stdout",
     "output_type": "stream",
     "text": [
      "ADJ - Adjective, kata sifat\n",
      "ADP - Adposition\n",
      "ADV - Adverb, kata keterangan\n",
      "ADX - Auxiliary verb, kata kerja tambahan\n",
      "CCONJ - Coordinating conjuction, kata hubung\n",
      "DET - Determiner, kata penentu\n",
      "NOUN - Noun, kata nama\n",
      "NUM - Number, nombor\n",
      "PART - Particle\n",
      "PRON - Pronoun, kata ganti\n",
      "PROPN - Proper noun, kata ganti nama khas\n",
      "SCONJ - Subordinating conjunction\n",
      "SYM - Symbol\n",
      "VERB - Verb, kata kerja\n",
      "X - Other\n"
     ]
    }
   ],
   "source": [
    "malaya.describe_pos()"
   ]
  },
  {
   "cell_type": "code",
   "execution_count": 3,
   "metadata": {},
   "outputs": [],
   "source": [
    "string = 'KUALA LUMPUR: Sempena sambutan Aidilfitri minggu depan, Perdana Menteri Tun Dr Mahathir Mohamad dan Menteri Pengangkutan Anthony Loke Siew Fook menitipkan pesanan khas kepada orang ramai yang mahu pulang ke kampung halaman masing-masing. Dalam video pendek terbitan Jabatan Keselamatan Jalan Raya (JKJR) itu, Dr Mahathir menasihati mereka supaya berhenti berehat dan tidur sebentar  sekiranya mengantuk ketika memandu.'"
   ]
  },
  {
   "cell_type": "code",
   "execution_count": 4,
   "metadata": {},
   "outputs": [
    {
     "name": "stderr",
     "output_type": "stream",
     "text": [
      "\r",
      "  0%|          | 0.00/0.90 [00:00<?, ?MB/s]"
     ]
    },
    {
     "name": "stdout",
     "output_type": "stream",
     "text": [
      "downloading pickled bag-of-word multinomial POS\n"
     ]
    },
    {
     "name": "stderr",
     "output_type": "stream",
     "text": [
      "1.00MB [00:00, 3.78MB/s]                   \n",
      "  0%|          | 0.00/2.26 [00:00<?, ?MB/s]"
     ]
    },
    {
     "name": "stdout",
     "output_type": "stream",
     "text": [
      "downloading pickled multinomial POS model\n"
     ]
    },
    {
     "name": "stderr",
     "output_type": "stream",
     "text": [
      "3.00MB [00:00, 5.08MB/s]                          \n"
     ]
    },
    {
     "data": {
      "text/plain": [
       "[('KUALA', 'ADV'),\n",
       " ('LUMPUR', 'ADV'),\n",
       " ('Sempena', 'ADJ'),\n",
       " ('sambutan', 'ADJ'),\n",
       " ('Aidilfitri', 'CCONJ'),\n",
       " ('minggu', 'ADJ'),\n",
       " ('depan', 'ADJ'),\n",
       " ('Perdana', 'CCONJ'),\n",
       " ('Menteri', 'ADJ'),\n",
       " ('Tun', 'CCONJ'),\n",
       " ('Dr', 'CCONJ'),\n",
       " ('Mahathir', 'CCONJ'),\n",
       " ('Mohamad', 'CCONJ'),\n",
       " ('dan', 'ADJ'),\n",
       " ('Menteri', 'ADJ'),\n",
       " ('Pengangkutan', 'ADJ'),\n",
       " ('Anthony', 'CCONJ'),\n",
       " ('Loke', 'CCONJ'),\n",
       " ('Siew', 'CCONJ'),\n",
       " ('Fook', 'AUX'),\n",
       " ('menitipkan', 'ADJ'),\n",
       " ('pesanan', 'ADJ'),\n",
       " ('khas', 'ADJ'),\n",
       " ('kepada', 'ADJ'),\n",
       " ('orang', 'ADJ'),\n",
       " ('ramai', 'ADJ'),\n",
       " ('yang', 'ADJ'),\n",
       " ('mahu', 'ADJ'),\n",
       " ('pulang', 'ADJ'),\n",
       " ('ke', 'ADJ'),\n",
       " ('kampung', 'ADJ'),\n",
       " ('halaman', 'ADJ'),\n",
       " ('masing-masing', 'ADJ'),\n",
       " ('Dalam', 'ADJ'),\n",
       " ('video', 'ADJ'),\n",
       " ('pendek', 'ADJ'),\n",
       " ('terbitan', 'ADJ'),\n",
       " ('Jabatan', 'AUX'),\n",
       " ('Keselamatan', 'ADJ'),\n",
       " ('Jalan', 'ADV'),\n",
       " ('Raya', 'CCONJ'),\n",
       " ('JKJR', 'ADJ'),\n",
       " ('itu', 'ADJ'),\n",
       " ('Dr', 'CCONJ'),\n",
       " ('Mahathir', 'CCONJ'),\n",
       " ('menasihati', 'ADJ'),\n",
       " ('mereka', 'ADJ'),\n",
       " ('supaya', 'ADJ'),\n",
       " ('berhenti', 'ADJ'),\n",
       " ('berehat', 'ADJ'),\n",
       " ('dan', 'ADJ'),\n",
       " ('tidur', 'ADJ'),\n",
       " ('sebentar', 'ADJ'),\n",
       " ('sekiranya', 'ADJ'),\n",
       " ('mengantuk', 'ADJ'),\n",
       " ('ketika', 'ADJ'),\n",
       " ('memandu', 'ADJ')]"
      ]
     },
     "execution_count": 4,
     "metadata": {},
     "output_type": "execute_result"
    }
   ],
   "source": [
    "malaya.multinomial_pos(string)"
   ]
  },
  {
   "cell_type": "code",
   "execution_count": 5,
   "metadata": {},
   "outputs": [
    {
     "name": "stderr",
     "output_type": "stream",
     "text": [
      "\r",
      "  0%|          | 0.00/1.21 [00:00<?, ?MB/s]"
     ]
    },
    {
     "name": "stdout",
     "output_type": "stream",
     "text": [
      "downloading pickled bag-of-word XGB POS\n"
     ]
    },
    {
     "name": "stderr",
     "output_type": "stream",
     "text": [
      "2.00MB [00:00, 6.26MB/s]                          \n",
      "  0%|          | 0.00/86.3 [00:00<?, ?MB/s]"
     ]
    },
    {
     "name": "stdout",
     "output_type": "stream",
     "text": [
      "downloading pickled xgb POS model\n"
     ]
    },
    {
     "name": "stderr",
     "output_type": "stream",
     "text": [
      "87.0MB [00:23, 3.73MB/s]                          \n"
     ]
    },
    {
     "data": {
      "text/plain": [
       "[('KUALA', 'PROPN'),\n",
       " ('LUMPUR', 'NOUN'),\n",
       " ('Sempena', 'PROPN'),\n",
       " ('sambutan', 'NOUN'),\n",
       " ('Aidilfitri', 'PROPN'),\n",
       " ('minggu', 'PROPN'),\n",
       " ('depan', 'ADJ'),\n",
       " ('Perdana', 'ADJ'),\n",
       " ('Menteri', 'PROPN'),\n",
       " ('Tun', 'PROPN'),\n",
       " ('Dr', 'PROPN'),\n",
       " ('Mahathir', 'PROPN'),\n",
       " ('Mohamad', 'PROPN'),\n",
       " ('dan', 'CCONJ'),\n",
       " ('Menteri', 'PROPN'),\n",
       " ('Pengangkutan', 'NOUN'),\n",
       " ('Anthony', 'PROPN'),\n",
       " ('Loke', 'NOUN'),\n",
       " ('Siew', 'PROPN'),\n",
       " ('Fook', 'PROPN'),\n",
       " ('menitipkan', 'VERB'),\n",
       " ('pesanan', 'NOUN'),\n",
       " ('khas', 'ADJ'),\n",
       " ('kepada', 'ADP'),\n",
       " ('orang', 'NOUN'),\n",
       " ('ramai', 'NOUN'),\n",
       " ('yang', 'PRON'),\n",
       " ('mahu', 'PROPN'),\n",
       " ('pulang', 'VERB'),\n",
       " ('ke', 'ADP'),\n",
       " ('kampung', 'NOUN'),\n",
       " ('halaman', 'NOUN'),\n",
       " ('masing-masing', 'NOUN'),\n",
       " ('Dalam', 'ADP'),\n",
       " ('video', 'NOUN'),\n",
       " ('pendek', 'ADJ'),\n",
       " ('terbitan', 'NOUN'),\n",
       " ('Jabatan', 'NOUN'),\n",
       " ('Keselamatan', 'NOUN'),\n",
       " ('Jalan', 'NOUN'),\n",
       " ('Raya', 'PROPN'),\n",
       " ('JKJR', 'NUM'),\n",
       " ('itu', 'DET'),\n",
       " ('Dr', 'PROPN'),\n",
       " ('Mahathir', 'PROPN'),\n",
       " ('menasihati', 'VERB'),\n",
       " ('mereka', 'PRON'),\n",
       " ('supaya', 'NOUN'),\n",
       " ('berhenti', 'VERB'),\n",
       " ('berehat', 'VERB'),\n",
       " ('dan', 'CCONJ'),\n",
       " ('tidur', 'NOUN'),\n",
       " ('sebentar', 'NOUN'),\n",
       " ('sekiranya', 'NOUN'),\n",
       " ('mengantuk', 'VERB'),\n",
       " ('ketika', 'SCONJ'),\n",
       " ('memandu', 'VERB')]"
      ]
     },
     "execution_count": 5,
     "metadata": {},
     "output_type": "execute_result"
    }
   ],
   "source": [
    "malaya.xgb_pos(string)"
   ]
  },
  {
   "cell_type": "code",
   "execution_count": 6,
   "metadata": {},
   "outputs": [
    {
     "name": "stderr",
     "output_type": "stream",
     "text": [
      "1.00MB [00:00, 1.08kMB/s]                  "
     ]
    },
    {
     "name": "stdout",
     "output_type": "stream",
     "text": [
      "Testing char model\n",
      "downloading POS char settings\n",
      "downloading POS frozen char model\n"
     ]
    },
    {
     "name": "stderr",
     "output_type": "stream",
     "text": [
      "\n",
      "2.00MB [00:00, 6.92MB/s]                          \n"
     ]
    },
    {
     "name": "stdout",
     "output_type": "stream",
     "text": [
      "[('kuala', 'PROPN'), ('lumpur', 'NOUN'), ('sempena', 'NOUN'), ('sambutan', 'NOUN'), ('aidilfitri', 'NOUN'), ('minggu', 'PROPN'), ('depan', 'ADJ'), ('perdana', 'PROPN'), ('menteri', 'NOUN'), ('tun', 'PROPN'), ('dr', 'PROPN'), ('mahathir', 'PROPN'), ('mohamad', 'PROPN'), ('dan', 'CCONJ'), ('menteri', 'NOUN'), ('pengangkutan', 'NOUN'), ('anthony', 'PROPN'), ('loke', 'PROPN'), ('siew', 'PROPN'), ('fook', 'NOUN'), ('menitipkan', 'VERB'), ('pesanan', 'NOUN'), ('khas', 'ADJ'), ('kepada', 'ADP'), ('orang', 'NOUN'), ('ramai', 'PROPN'), ('yang', 'PRON'), ('mahu', 'ADJ'), ('pulang', 'PROPN'), ('ke', 'ADP'), ('kampung', 'NOUN'), ('halaman', 'NOUN'), ('masing-masing', 'NOUN'), ('dalam', 'ADP'), ('video', 'NOUN'), ('pendek', 'PROPN'), ('terbitan', 'NOUN'), ('jabatan', 'NOUN'), ('keselamatan', 'NOUN'), ('jalan', 'NOUN'), ('raya', 'PROPN'), ('jkjr', 'NOUN'), ('itu', 'DET'), ('dr', 'PROPN'), ('mahathir', 'PROPN'), ('menasihati', 'VERB'), ('mereka', 'PRON'), ('supaya', 'NOUN'), ('berhenti', 'VERB'), ('berehat', 'VERB'), ('dan', 'CCONJ'), ('tidur', 'NOUN'), ('sebentar', 'SCONJ'), ('sekiranya', 'NOUN'), ('mengantuk', 'VERB'), ('ketika', 'SCONJ'), ('memandu', 'VERB')]\n",
      "\n",
      "Testing word model\n",
      "downloading POS word settings\n"
     ]
    },
    {
     "name": "stderr",
     "output_type": "stream",
     "text": [
      "1.00MB [00:00, 4.62MB/s]                   \n",
      "  0%|          | 0.00/9.94 [00:00<?, ?MB/s]"
     ]
    },
    {
     "name": "stdout",
     "output_type": "stream",
     "text": [
      "downloading POS frozen word model\n"
     ]
    },
    {
     "name": "stderr",
     "output_type": "stream",
     "text": [
      "10.0MB [00:02, 3.97MB/s]                          \n",
      "  0%|          | 0.00/0.69 [00:00<?, ?MB/s]"
     ]
    },
    {
     "name": "stdout",
     "output_type": "stream",
     "text": [
      "[('kuala', 'PROPN'), ('lumpur', 'PROPN'), ('sempena', 'PROPN'), ('sambutan', 'NOUN'), ('aidilfitri', 'PROPN'), ('minggu', 'PROPN'), ('depan', 'CCONJ'), ('perdana', 'PROPN'), ('menteri', 'NOUN'), ('tun', 'PROPN'), ('dr', 'PROPN'), ('mahathir', 'PROPN'), ('mohamad', 'PROPN'), ('dan', 'CCONJ'), ('menteri', 'PROPN'), ('pengangkutan', 'PROPN'), ('anthony', 'PROPN'), ('loke', 'PROPN'), ('siew', 'PROPN'), ('fook', 'PROPN'), ('menitipkan', 'PROPN'), ('pesanan', 'NOUN'), ('khas', 'ADJ'), ('kepada', 'ADP'), ('orang', 'NOUN'), ('ramai', 'ADJ'), ('yang', 'PRON'), ('mahu', 'ADV'), ('pulang', 'VERB'), ('ke', 'ADP'), ('kampung', 'NOUN'), ('halaman', 'NOUN'), ('masing-masing', 'PROPN'), ('dalam', 'ADP'), ('video', 'NOUN'), ('pendek', 'ADJ'), ('terbitan', 'NOUN'), ('jabatan', 'NOUN'), ('keselamatan', 'NOUN'), ('jalan', 'PROPN'), ('raya', 'PROPN'), ('jkjr', 'PROPN'), ('itu', 'DET'), ('dr', 'PROPN'), ('mahathir', 'PROPN'), ('menasihati', 'PROPN'), ('mereka', 'PRON'), ('supaya', 'SCONJ'), ('berhenti', 'VERB'), ('berehat', 'PROPN'), ('dan', 'CCONJ'), ('tidur', 'VERB'), ('sebentar', 'ADJ'), ('sekiranya', 'NOUN'), ('mengantuk', 'NOUN'), ('ketika', 'SCONJ'), ('memandu', 'VERB')]\n",
      "\n",
      "Testing concat model\n",
      "downloading POS concat settings\n"
     ]
    },
    {
     "name": "stderr",
     "output_type": "stream",
     "text": [
      "1.00MB [00:00, 4.66MB/s]                   \n",
      "  0%|          | 0.00/5.44 [00:00<?, ?MB/s]"
     ]
    },
    {
     "name": "stdout",
     "output_type": "stream",
     "text": [
      "downloading POS frozen concat model\n"
     ]
    },
    {
     "name": "stderr",
     "output_type": "stream",
     "text": [
      "6.00MB [00:01, 4.34MB/s]                          \n"
     ]
    },
    {
     "name": "stdout",
     "output_type": "stream",
     "text": [
      "[('kuala', 'PROPN'), ('lumpur', 'PROPN'), ('sempena', 'PROPN'), ('sambutan', 'NOUN'), ('aidilfitri', 'PROPN'), ('minggu', 'PROPN'), ('depan', 'ADJ'), ('perdana', 'PROPN'), ('menteri', 'NOUN'), ('tun', 'PROPN'), ('dr', 'PROPN'), ('mahathir', 'PROPN'), ('mohamad', 'PROPN'), ('dan', 'CCONJ'), ('menteri', 'NOUN'), ('pengangkutan', 'PROPN'), ('anthony', 'PROPN'), ('loke', 'PROPN'), ('siew', 'PROPN'), ('fook', 'PROPN'), ('menitipkan', 'PROPN'), ('pesanan', 'NOUN'), ('khas', 'ADJ'), ('kepada', 'ADP'), ('orang', 'NOUN'), ('ramai', 'ADJ'), ('yang', 'PRON'), ('mahu', 'ADV'), ('pulang', 'VERB'), ('ke', 'ADP'), ('kampung', 'NOUN'), ('halaman', 'NOUN'), ('masing-masing', 'ADJ'), ('dalam', 'ADV'), ('video', 'NOUN'), ('pendek', 'ADJ'), ('terbitan', 'NOUN'), ('jabatan', 'NOUN'), ('keselamatan', 'PROPN'), ('jalan', 'PROPN'), ('raya', 'PROPN'), ('jkjr', 'PROPN'), ('itu', 'DET'), ('dr', 'PROPN'), ('mahathir', 'PROPN'), ('menasihati', 'NOUN'), ('mereka', 'PRON'), ('supaya', 'SCONJ'), ('berhenti', 'VERB'), ('berehat', 'PROPN'), ('dan', 'CCONJ'), ('tidur', 'NOUN'), ('sebentar', 'ADV'), ('sekiranya', 'NOUN'), ('mengantuk', 'ADJ'), ('ketika', 'SCONJ'), ('memandu', 'VERB')]\n",
      "\n"
     ]
    }
   ],
   "source": [
    "for i in malaya.get_available_pos_models():\n",
    "    print('Testing %s model'%(i))\n",
    "    model = malaya.deep_pos(i)\n",
    "    print(model.predict(string))\n",
    "    print()"
   ]
  },
  {
   "cell_type": "code",
   "execution_count": null,
   "metadata": {},
   "outputs": [],
   "source": []
  }
 ],
 "metadata": {
  "kernelspec": {
   "display_name": "Python 3",
   "language": "python",
   "name": "python3"
  },
  "language_info": {
   "codemirror_mode": {
    "name": "ipython",
    "version": 3
   },
   "file_extension": ".py",
   "mimetype": "text/x-python",
   "name": "python",
   "nbconvert_exporter": "python",
   "pygments_lexer": "ipython3",
   "version": "3.5.2"
  }
 },
 "nbformat": 4,
 "nbformat_minor": 2
}
