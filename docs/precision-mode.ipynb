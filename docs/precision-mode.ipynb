{
 "cells": [
  {
   "cell_type": "markdown",
   "id": "rapid-female",
   "metadata": {},
   "source": [
    "# Precision Mode"
   ]
  },
  {
   "cell_type": "markdown",
   "id": "stable-orchestra",
   "metadata": {},
   "source": [
    "<div class=\"alert alert-info\">\n",
    "\n",
    "This tutorial is available as an IPython notebook at [Malaya/example/precision-mode](https://github.com/huseinzol05/Malaya/tree/master/example/precision-mode).\n",
    "    \n",
    "</div>"
   ]
  },
  {
   "cell_type": "markdown",
   "id": "exciting-teens",
   "metadata": {},
   "source": [
    "Let say you want to run the model in FP16, or FP64."
   ]
  },
  {
   "cell_type": "code",
   "execution_count": 1,
   "id": "resident-electric",
   "metadata": {},
   "outputs": [],
   "source": [
    "import malaya\n",
    "import logging\n",
    "logging.basicConfig(level = logging.INFO)"
   ]
  },
  {
   "cell_type": "markdown",
   "id": "anonymous-night",
   "metadata": {},
   "source": [
    "### Use specific precision for specific model\n",
    "\n",
    "To do that, pass `precision_mode` parameter to any load model function in Malaya,\n",
    "\n",
    "```python\n",
    "malaya.sentiment.transformer(model = 'albert', precision_mode = 'FP16')\n",
    "```\n",
    "\n",
    "Supported precision mode is `{'BFLOAT16', 'FP16', 'FP32', 'FP64'}`, default is `FP32`, check code at https://github.com/huseinzol05/malaya-boilerplate/blob/main/malaya_boilerplate/frozen_graph.py"
   ]
  },
  {
   "cell_type": "code",
   "execution_count": 2,
   "id": "hidden-alfred",
   "metadata": {},
   "outputs": [
    {
     "name": "stderr",
     "output_type": "stream",
     "text": [
      "INFO:root:running sentiment/albert using device /device:CPU:0\n",
      "INFO:root:running sentiment/albert using device /device:CPU:0\n"
     ]
    },
    {
     "name": "stdout",
     "output_type": "stream",
     "text": [
      "Converting sentiment/albert to FP16.\n"
     ]
    }
   ],
   "source": [
    "albert = malaya.sentiment.transformer(model = 'albert')\n",
    "albert_fp16 = malaya.sentiment.transformer(model = 'albert', precision_mode = 'FP16')"
   ]
  },
  {
   "cell_type": "code",
   "execution_count": 3,
   "id": "weird-cooking",
   "metadata": {},
   "outputs": [],
   "source": [
    "string = 'ketiak saya masam tapi saya comel'"
   ]
  },
  {
   "cell_type": "code",
   "execution_count": 5,
   "id": "greatest-participant",
   "metadata": {},
   "outputs": [
    {
     "name": "stdout",
     "output_type": "stream",
     "text": [
      "CPU times: user 166 ms, sys: 15.9 ms, total: 182 ms\n",
      "Wall time: 47.1 ms\n"
     ]
    },
    {
     "data": {
      "text/plain": [
       "[{'negative': 0.8387252, 'positive': 0.0016127465, 'neutral': 0.15966207}]"
      ]
     },
     "execution_count": 5,
     "metadata": {},
     "output_type": "execute_result"
    }
   ],
   "source": [
    "%%time\n",
    "\n",
    "albert.predict_proba([string])"
   ]
  },
  {
   "cell_type": "code",
   "execution_count": 7,
   "id": "focal-repeat",
   "metadata": {},
   "outputs": [
    {
     "name": "stdout",
     "output_type": "stream",
     "text": [
      "CPU times: user 14.6 s, sys: 53.3 ms, total: 14.6 s\n",
      "Wall time: 2.21 s\n"
     ]
    },
    {
     "data": {
      "text/plain": [
       "[{'negative': 0.839, 'positive': 0.001611, 'neutral': 0.1597}]"
      ]
     },
     "execution_count": 7,
     "metadata": {},
     "output_type": "execute_result"
    }
   ],
   "source": [
    "%%time\n",
    "\n",
    "albert_fp16.predict_proba([string])"
   ]
  },
  {
   "cell_type": "markdown",
   "id": "scientific-flush",
   "metadata": {},
   "source": [
    "**Running on FP16 is not necessary faster, most CPUs are not optimized for FP16, might want to look into GPU RTX and above**."
   ]
  }
 ],
 "metadata": {
  "kernelspec": {
   "display_name": "Python 3",
   "language": "python",
   "name": "python3"
  },
  "language_info": {
   "codemirror_mode": {
    "name": "ipython",
    "version": 3
   },
   "file_extension": ".py",
   "mimetype": "text/x-python",
   "name": "python",
   "nbconvert_exporter": "python",
   "pygments_lexer": "ipython3",
   "version": "3.7.7"
  }
 },
 "nbformat": 4,
 "nbformat_minor": 5
}
