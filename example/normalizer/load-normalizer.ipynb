{
 "cells": [
  {
   "cell_type": "code",
   "execution_count": 1,
   "metadata": {},
   "outputs": [
    {
     "name": "stdout",
     "output_type": "stream",
     "text": [
      "CPU times: user 11.4 s, sys: 798 ms, total: 12.2 s\n",
      "Wall time: 12.4 s\n"
     ]
    }
   ],
   "source": [
    "%%time\n",
    "import malaya"
   ]
  },
  {
   "cell_type": "code",
   "execution_count": 2,
   "metadata": {},
   "outputs": [],
   "source": [
    "string = 'y u xsuka makan HUSEIN kt situ tmpt'\n",
    "another = 'i mmg xska mknn HUSEIN kampng tempt'"
   ]
  },
  {
   "cell_type": "markdown",
   "metadata": {},
   "source": [
    "## Load basic normalizer"
   ]
  },
  {
   "cell_type": "code",
   "execution_count": 3,
   "metadata": {},
   "outputs": [
    {
     "data": {
      "text/plain": [
       "'kenapa awak xsuka makan Husein kt situ tmpt'"
      ]
     },
     "execution_count": 3,
     "metadata": {},
     "output_type": "execute_result"
    }
   ],
   "source": [
    "malaya.normalize.basic(string)"
   ]
  },
  {
   "cell_type": "markdown",
   "metadata": {},
   "source": [
    "## Load fuzzy normalizer"
   ]
  },
  {
   "cell_type": "code",
   "execution_count": 4,
   "metadata": {},
   "outputs": [],
   "source": [
    "malays = malaya.load_malay_dictionary()\n",
    "normalizer = malaya.normalize.fuzzy(malays)"
   ]
  },
  {
   "cell_type": "code",
   "execution_count": 5,
   "metadata": {},
   "outputs": [
    {
     "data": {
      "text/plain": [
       "'kenapa awak tak suka makan Husein kat situ tempat'"
      ]
     },
     "execution_count": 5,
     "metadata": {},
     "output_type": "execute_result"
    }
   ],
   "source": [
    "normalizer.normalize(string)"
   ]
  },
  {
   "cell_type": "code",
   "execution_count": 6,
   "metadata": {},
   "outputs": [
    {
     "data": {
      "text/plain": [
       "'saya memang tak saka makanan Husein kampung tempat'"
      ]
     },
     "execution_count": 6,
     "metadata": {},
     "output_type": "execute_result"
    }
   ],
   "source": [
    "normalizer.normalize(another)"
   ]
  },
  {
   "cell_type": "markdown",
   "metadata": {},
   "source": [
    "## Load spell normalizer"
   ]
  },
  {
   "cell_type": "code",
   "execution_count": 7,
   "metadata": {},
   "outputs": [],
   "source": [
    "normalizer = malaya.normalize.spell(malays)"
   ]
  },
  {
   "cell_type": "markdown",
   "metadata": {},
   "source": [
    "#### To list all selected words during normalize"
   ]
  },
  {
   "cell_type": "code",
   "execution_count": 8,
   "metadata": {},
   "outputs": [
    {
     "name": "stdout",
     "output_type": "stream",
     "text": [
      "[(('ampit', False), 20), (('tempat', False), 20), (('tempo', False), 15), (('tat', False), 11), (('tapa', False), 10), (('ampu', False), 15), (('impi', False), 15), (('amput', False), 20), (('taut', False), 15), (('tuat', False), 15), (('ampe', False), 15), (('top', False), 11), (('umut', False), 21), (('tampu', False), 15), (('timpa', False), 20), (('temut', False), 15), (('tut', False), 16), (('empat', True), 15), (('tumit', False), 20), (('amit', False), 21), (('topi', False), 10), (('umpat', True), 20), (('tepi', False), 10), (('tumpat', True), 24), (('umat', False), 21), (('ampo', False), 15), (('tepu', False), 10), (('tipu', False), 15), (('empu', False), 10), (('tip', False), 16), (('tempa', False), 15), (('tuit', False), 15), (('tampa', False), 15), (('tepet', False), 15), (('emat', False), 15), (('tamat', False), 20), (('taat', False), 15), (('amat', False), 21), (('tampi', True), 15), (('tapi', False), 10), (('tempe', False), 15), (('mat', False), 16), (('tumpu', False), 20), (('tepat', False), 15)] \n",
      "\n"
     ]
    },
    {
     "data": {
      "text/plain": [
       "'kenapa awak tak suka makan Husein kat situ umat'"
      ]
     },
     "execution_count": 8,
     "metadata": {},
     "output_type": "execute_result"
    }
   ],
   "source": [
    "normalizer.normalize(string,debug=True)"
   ]
  },
  {
   "cell_type": "markdown",
   "metadata": {},
   "source": [
    "## Load deep learning"
   ]
  },
  {
   "cell_type": "markdown",
   "metadata": {},
   "source": [
    "This model is not perfect, really suggest you to use other models"
   ]
  },
  {
   "cell_type": "code",
   "execution_count": 9,
   "metadata": {},
   "outputs": [
    {
     "data": {
      "text/plain": [
       "'eye uau tak suka makan unsein kati situ tumpat'"
      ]
     },
     "execution_count": 9,
     "metadata": {},
     "output_type": "execute_result"
    }
   ],
   "source": [
    "normalizer = malaya.normalize.deep_model()\n",
    "normalizer.normalize(string)"
   ]
  },
  {
   "cell_type": "code",
   "execution_count": null,
   "metadata": {},
   "outputs": [],
   "source": []
  }
 ],
 "metadata": {
  "kernelspec": {
   "display_name": "Python 3",
   "language": "python",
   "name": "python3"
  },
  "language_info": {
   "codemirror_mode": {
    "name": "ipython",
    "version": 3
   },
   "file_extension": ".py",
   "mimetype": "text/x-python",
   "name": "python",
   "nbconvert_exporter": "python",
   "pygments_lexer": "ipython3",
   "version": "3.6.5"
  }
 },
 "nbformat": 4,
 "nbformat_minor": 2
}
