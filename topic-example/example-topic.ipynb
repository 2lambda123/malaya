{
 "cells": [
  {
   "cell_type": "code",
   "execution_count": 1,
   "metadata": {},
   "outputs": [
    {
     "name": "stderr",
     "output_type": "stream",
     "text": [
      "/usr/local/lib/python3.5/dist-packages/sklearn/cross_validation.py:41: DeprecationWarning: This module was deprecated in version 0.18 in favor of the model_selection module into which all the refactored classes and functions are moved. Also note that the interface of the new CV iterators are different from that of this module. This module will be removed in 0.20.\n",
      "  \"This module will be removed in 0.20.\", DeprecationWarning)\n"
     ]
    }
   ],
   "source": [
    "import pandas as pd\n",
    "import malaya"
   ]
  },
  {
   "cell_type": "code",
   "execution_count": 2,
   "metadata": {},
   "outputs": [
    {
     "data": {
      "text/html": [
       "<div>\n",
       "<style>\n",
       "    .dataframe thead tr:only-child th {\n",
       "        text-align: right;\n",
       "    }\n",
       "\n",
       "    .dataframe thead th {\n",
       "        text-align: left;\n",
       "    }\n",
       "\n",
       "    .dataframe tbody tr th {\n",
       "        vertical-align: top;\n",
       "    }\n",
       "</style>\n",
       "<table border=\"1\" class=\"dataframe\">\n",
       "  <thead>\n",
       "    <tr style=\"text-align: right;\">\n",
       "      <th></th>\n",
       "      <th>text</th>\n",
       "      <th>label</th>\n",
       "    </tr>\n",
       "  </thead>\n",
       "  <tbody>\n",
       "    <tr>\n",
       "      <th>3</th>\n",
       "      <td>Justeru, tiada sebarang pemindahan bon atau da...</td>\n",
       "      <td>Positive</td>\n",
       "    </tr>\n",
       "    <tr>\n",
       "      <th>4</th>\n",
       "      <td>Oleh sebab ini jelas merupakan dokumen dipalsu...</td>\n",
       "      <td>Positive</td>\n",
       "    </tr>\n",
       "    <tr>\n",
       "      <th>5</th>\n",
       "      <td>Sebelum mana-mana keputusan pelaburan dibuat, ...</td>\n",
       "      <td>Positive</td>\n",
       "    </tr>\n",
       "    <tr>\n",
       "      <th>6</th>\n",
       "      <td>Semua kelulusan perlu melalui jawatankuasa pel...</td>\n",
       "      <td>Neutral</td>\n",
       "    </tr>\n",
       "    <tr>\n",
       "      <th>7</th>\n",
       "      <td>Kerajaan sedar dan telah mengambil langkah pan...</td>\n",
       "      <td>Positive</td>\n",
       "    </tr>\n",
       "  </tbody>\n",
       "</table>\n",
       "</div>"
      ],
      "text/plain": [
       "                                                text     label\n",
       "3  Justeru, tiada sebarang pemindahan bon atau da...  Positive\n",
       "4  Oleh sebab ini jelas merupakan dokumen dipalsu...  Positive\n",
       "5  Sebelum mana-mana keputusan pelaburan dibuat, ...  Positive\n",
       "6  Semua kelulusan perlu melalui jawatankuasa pel...   Neutral\n",
       "7  Kerajaan sedar dan telah mengambil langkah pan...  Positive"
      ]
     },
     "execution_count": 2,
     "metadata": {},
     "output_type": "execute_result"
    }
   ],
   "source": [
    "df = pd.read_csv('02032018.csv',sep=';')\n",
    "df = df.iloc[3:,1:]\n",
    "df.columns = ['text','label']\n",
    "df.head()"
   ]
  },
  {
   "cell_type": "code",
   "execution_count": 3,
   "metadata": {},
   "outputs": [
    {
     "name": "stderr",
     "output_type": "stream",
     "text": [
      "/usr/local/lib/python3.5/dist-packages/sklearn/decomposition/online_lda.py:294: DeprecationWarning: n_topics has been renamed to n_components in version 0.19 and will be removed in 0.21\n",
      "  DeprecationWarning)\n"
     ]
    },
    {
     "data": {
      "text/plain": [
       "[(0,\n",
       "  'kemahirannya memainkan kawasan peranan membangun luar membangunkan antara berkongsi pengalaman'),\n",
       " (1,\n",
       "  'penting berkembang negara harus mengeluarkan perlembagaan raya tersebut juga pilihan'),\n",
       " (2,\n",
       "  'ros pemilihan parti perlembagaan umno melebihi tempoh bulan keputusan benar'),\n",
       " (3, 'nak bayar macam mana mdb tutup selepas sewa tanah rumah'),\n",
       " (4, 'kalau minta mca kita tidak daripada lah ada apaapa tahunan'),\n",
       " (5, 'dan kami dalam tidak yang dengan untuk ia ini itu'),\n",
       " (6, 'yang dan dalam dengan menteri oleh itu seperti pengalaman telah'),\n",
       " (7, 'dan yang kita di akan dalam ini untuk saya itu'),\n",
       " (8, 'sebab akan tumpuan pada di dan untuk mahu rm harga'),\n",
       " (9, 'ada global perlu kerana kita pas pengalaman baiah percaya pilihanraya')]"
      ]
     },
     "execution_count": 3,
     "metadata": {},
     "output_type": "execute_result"
    }
   ],
   "source": [
    "corpus = df.text.tolist()\n",
    "malaya.train_lda(corpus,10)\n",
    "malaya.topic_lda(10)"
   ]
  },
  {
   "cell_type": "code",
   "execution_count": 4,
   "metadata": {},
   "outputs": [
    {
     "data": {
      "text/plain": [
       "[(0, 'yang dan dalam malaysia di dengan negara telah kepada itu'),\n",
       " (1, 'kita akan kalau bahasa ppsmi tak nak inggeris ilmu ambil'),\n",
       " (2, 'saya mungkin itu harap perlu membuat diri cina adalah tetapi'),\n",
       " (3, 'kami akan dan itu tiada dalam jppm pihak pesawat keduadua'),\n",
       " (4, 'ini masa untuk pada adalah rakyat bukan terus meningkatkan dan'),\n",
       " (5, 'tidak ada lagi pernah kerajaan pas boleh berlaku politik bulan'),\n",
       " (6, 'kapal jho low tak di itu ada dirampas dah mana'),\n",
       " (7, 'berjalan lancar gembira projek ia amat melihat dengan semakin saya'),\n",
       " (8,\n",
       "  'parti ros umno pemilihan perlembagaan keputusan kebenaran melebihi bersatu dah'),\n",
       " (9, 'orang asli masyarakat jakoa menjadi temiar harus mereka kerana sumber')]"
      ]
     },
     "execution_count": 4,
     "metadata": {},
     "output_type": "execute_result"
    }
   ],
   "source": [
    "malaya.train_nmf(corpus,10)\n",
    "malaya.topic_nmf(10)"
   ]
  },
  {
   "cell_type": "code",
   "execution_count": 5,
   "metadata": {},
   "outputs": [
    {
     "data": {
      "text/plain": [
       "[(0, 'dan yang kita dalam akan ini itu kami untuk dengan'),\n",
       " (1, 'kita kalau ini tak masa rakyat bahasa ada nak parti'),\n",
       " (2, 'saya tidak ada itu yang menteri mungkin mdb perdana tak'),\n",
       " (3, 'kami tidak akan itu ada parti tak mereka kita tiada'),\n",
       " (4, 'dalam negara ada tidak dengan yang pengalaman pas berkongsi mempunyai'),\n",
       " (5, 'tidak ia dengan ada lagi kerajaan pas berjalan pernah boleh'),\n",
       " (6, 'ini mereka masa pada parti yang kepada bukan oleh ros'),\n",
       " (7, 'dengan ia berjalan parti umno lancar ros pemilihan saya dan'),\n",
       " (8, 'untuk orang asli di ada ia kerajaan kapal malaysia bulan'),\n",
       " (9, 'yang di menteri untuk keputusan perdana ada sebelum apa sudah')]"
      ]
     },
     "execution_count": 5,
     "metadata": {},
     "output_type": "execute_result"
    }
   ],
   "source": [
    "malaya.train_lsa(corpus,10)\n",
    "malaya.topic_lsa(10)"
   ]
  },
  {
   "cell_type": "code",
   "execution_count": null,
   "metadata": {},
   "outputs": [],
   "source": []
  }
 ],
 "metadata": {
  "kernelspec": {
   "display_name": "Python 3",
   "language": "python",
   "name": "python3"
  },
  "language_info": {
   "codemirror_mode": {
    "name": "ipython",
    "version": 3
   },
   "file_extension": ".py",
   "mimetype": "text/x-python",
   "name": "python",
   "nbconvert_exporter": "python",
   "pygments_lexer": "ipython3",
   "version": "3.5.2"
  }
 },
 "nbformat": 4,
 "nbformat_minor": 2
}
