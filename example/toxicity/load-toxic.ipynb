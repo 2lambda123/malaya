{
 "cells": [
  {
   "cell_type": "code",
   "execution_count": 1,
   "metadata": {},
   "outputs": [
    {
     "name": "stdout",
     "output_type": "stream",
     "text": [
      "CPU times: user 12.4 s, sys: 1.42 s, total: 13.8 s\n",
      "Wall time: 17.5 s\n"
     ]
    }
   ],
   "source": [
    "%%time\n",
    "import malaya"
   ]
  },
  {
   "cell_type": "code",
   "execution_count": 2,
   "metadata": {},
   "outputs": [],
   "source": [
    "string = 'Benda yg SALAH ni, jgn lah didebatkan. Yg SALAH xkan jadi betul. Ingat tu. Mcm mana kesat sekalipun org sampaikan mesej, dan memang benda tu salah, diam je. Xyah nk tunjuk kau open sangat nk tegur cara org lain berdakwah. '\n",
    "another_string = 'bodoh, dah la gay, sokong lgbt lagi, memang tak guna'"
   ]
  },
  {
   "cell_type": "markdown",
   "metadata": {},
   "source": [
    "All models got `get_proba` parameters.\n",
    "If True, it will returned probability every classes. Else, it will return highest probability class. **Default is False.**"
   ]
  },
  {
   "cell_type": "markdown",
   "metadata": {},
   "source": [
    "## Load multinomial model"
   ]
  },
  {
   "cell_type": "code",
   "execution_count": 3,
   "metadata": {},
   "outputs": [],
   "source": [
    "model = malaya.toxic.multinomial()"
   ]
  },
  {
   "cell_type": "code",
   "execution_count": 4,
   "metadata": {},
   "outputs": [
    {
     "data": {
      "text/plain": [
       "[]"
      ]
     },
     "execution_count": 4,
     "metadata": {},
     "output_type": "execute_result"
    }
   ],
   "source": [
    "model.predict(string)"
   ]
  },
  {
   "cell_type": "code",
   "execution_count": 5,
   "metadata": {},
   "outputs": [
    {
     "data": {
      "text/plain": [
       "{'toxic': 0.14165235977019472,\n",
       " 'severe_toxic': 1.9272487152616215e-06,\n",
       " 'obscene': 0.011323038998473341,\n",
       " 'threat': 8.249039905334012e-08,\n",
       " 'insult': 0.008620760536227347,\n",
       " 'identity_hate': 4.703244329372946e-06}"
      ]
     },
     "execution_count": 5,
     "metadata": {},
     "output_type": "execute_result"
    }
   ],
   "source": [
    "model.predict(string,get_proba=True)"
   ]
  },
  {
   "cell_type": "code",
   "execution_count": 6,
   "metadata": {},
   "outputs": [
    {
     "data": {
      "text/plain": [
       "['toxic', 'insult']"
      ]
     },
     "execution_count": 6,
     "metadata": {},
     "output_type": "execute_result"
    }
   ],
   "source": [
    "model.predict(another_string)"
   ]
  },
  {
   "cell_type": "code",
   "execution_count": 7,
   "metadata": {},
   "outputs": [
    {
     "data": {
      "text/plain": [
       "{'toxic': 0.97624511869432,\n",
       " 'severe_toxic': 0.0004143925305717536,\n",
       " 'obscene': 0.48936571876841484,\n",
       " 'threat': 5.809081616106756e-06,\n",
       " 'insult': 0.7853970362543069,\n",
       " 'identity_hate': 0.002109806847753244}"
      ]
     },
     "execution_count": 7,
     "metadata": {},
     "output_type": "execute_result"
    }
   ],
   "source": [
    "model.predict(another_string,get_proba=True)"
   ]
  },
  {
   "cell_type": "code",
   "execution_count": 8,
   "metadata": {},
   "outputs": [
    {
     "data": {
      "text/plain": [
       "[[], ['toxic', 'insult']]"
      ]
     },
     "execution_count": 8,
     "metadata": {},
     "output_type": "execute_result"
    }
   ],
   "source": [
    "model.predict_batch([string,another_string])"
   ]
  },
  {
   "cell_type": "code",
   "execution_count": 9,
   "metadata": {},
   "outputs": [
    {
     "data": {
      "text/plain": [
       "[{'toxic': 0.14165235977019472,\n",
       "  'severe_toxic': 1.9272487152616215e-06,\n",
       "  'obscene': 0.011323038998473341,\n",
       "  'threat': 8.249039905334012e-08,\n",
       "  'insult': 0.008620760536227347,\n",
       "  'identity_hate': 4.703244329372946e-06},\n",
       " {'toxic': 0.97624511869432,\n",
       "  'severe_toxic': 0.0004143925305717536,\n",
       "  'obscene': 0.48936571876841484,\n",
       "  'threat': 5.809081616106756e-06,\n",
       "  'insult': 0.7853970362543069,\n",
       "  'identity_hate': 0.002109806847753244}]"
      ]
     },
     "execution_count": 9,
     "metadata": {},
     "output_type": "execute_result"
    }
   ],
   "source": [
    "model.predict_batch([string,another_string],get_proba=True)"
   ]
  },
  {
   "cell_type": "markdown",
   "metadata": {},
   "source": [
    "## Load logistics model"
   ]
  },
  {
   "cell_type": "code",
   "execution_count": 10,
   "metadata": {},
   "outputs": [],
   "source": [
    "model = malaya.toxic.logistic()"
   ]
  },
  {
   "cell_type": "code",
   "execution_count": 11,
   "metadata": {},
   "outputs": [
    {
     "data": {
      "text/plain": [
       "[]"
      ]
     },
     "execution_count": 11,
     "metadata": {},
     "output_type": "execute_result"
    }
   ],
   "source": [
    "model.predict(string)"
   ]
  },
  {
   "cell_type": "code",
   "execution_count": 12,
   "metadata": {},
   "outputs": [
    {
     "data": {
      "text/plain": [
       "[{'toxic': 0.10299208923447233,\n",
       "  'severe_toxic': 0.010195223990855215,\n",
       "  'obscene': 0.04834509566263489,\n",
       "  'threat': 0.003488478318883341,\n",
       "  'insult': 0.04528784776538583,\n",
       "  'identity_hate': 0.011326619000125776},\n",
       " {'toxic': 0.6297643126911581,\n",
       "  'severe_toxic': 0.019551370640497476,\n",
       "  'obscene': 0.1995748012804703,\n",
       "  'threat': 0.004014463652898358,\n",
       "  'insult': 0.3354069432946268,\n",
       "  'identity_hate': 0.052626041879065236}]"
      ]
     },
     "execution_count": 12,
     "metadata": {},
     "output_type": "execute_result"
    }
   ],
   "source": [
    "model.predict_batch([string,another_string],get_proba=True)"
   ]
  },
  {
   "cell_type": "markdown",
   "metadata": {},
   "source": [
    "## List available deep learning models"
   ]
  },
  {
   "cell_type": "code",
   "execution_count": 13,
   "metadata": {},
   "outputs": [
    {
     "data": {
      "text/plain": [
       "['bahdanau', 'hierarchical', 'luong', 'fast-text', 'entity-network']"
      ]
     },
     "execution_count": 13,
     "metadata": {},
     "output_type": "execute_result"
    }
   ],
   "source": [
    "malaya.toxic.available_deep_model()"
   ]
  },
  {
   "cell_type": "markdown",
   "metadata": {},
   "source": [
    "## Load deep learning model"
   ]
  },
  {
   "cell_type": "code",
   "execution_count": 15,
   "metadata": {},
   "outputs": [
    {
     "name": "stdout",
     "output_type": "stream",
     "text": [
      "Testing bahdanau model\n",
      "[]\n",
      "[[], ['toxic']]\n",
      "[{'toxic': 0.002869941, 'severe_toxic': 3.2165422e-05, 'obscene': 0.00031625567, 'threat': 3.3063134e-05, 'insult': 0.0001917479, 'identity_hate': 5.6739605e-05}, {'toxic': 0.844302, 'severe_toxic': 0.0026948317, 'obscene': 0.048079386, 'threat': 0.00057450164, 'insult': 0.108705685, 'identity_hate': 0.06786145}]\n",
      "\n",
      "Testing hierarchical model\n",
      "[]\n",
      "[[], ['toxic']]\n",
      "[{'toxic': 0.01493061, 'severe_toxic': 0.0001075709, 'obscene': 0.003345779, 'threat': 0.00030603033, 'insult': 0.0016393703, 'identity_hate': 0.00053284934}, {'toxic': 0.69389653, 'severe_toxic': 0.002439942, 'obscene': 0.033795167, 'threat': 0.002826849, 'insult': 0.30907208, 'identity_hate': 0.06302948}]\n",
      "\n",
      "Testing luong model\n",
      "[]\n",
      "[[], ['toxic']]\n",
      "[{'toxic': 0.0038469762, 'severe_toxic': 0.00030991185, 'obscene': 0.0025601375, 'threat': 0.0010575273, 'insult': 0.0007667314, 'identity_hate': 0.0008790955}, {'toxic': 0.9767287, 'severe_toxic': 0.021122381, 'obscene': 0.25348565, 'threat': 0.01192961, 'insult': 0.4519248, 'identity_hate': 0.09681236}]\n",
      "\n",
      "Testing fast-text model\n",
      "['threat']\n",
      "[[], []]\n",
      "[{'toxic': 4.6989637e-08, 'severe_toxic': 2.8443527e-08, 'obscene': 4.1618722e-10, 'threat': 3.280739e-06, 'insult': 7.941728e-10, 'identity_hate': 8.946894e-07}, {'toxic': 0.07565687, 'severe_toxic': 0.005023106, 'obscene': 0.0053009894, 'threat': 0.0040464187, 'insult': 0.043121953, 'identity_hate': 0.016103525}]\n",
      "\n",
      "Testing entity-network model\n",
      "['toxic']\n",
      "[['toxic', 'obscene', 'insult'], []]\n",
      "[{'toxic': 0.7704032, 'severe_toxic': 0.1794783, 'obscene': 0.50242037, 'threat': 0.16002978, 'insult': 0.61826205, 'identity_hate': 0.2263789}, {'toxic': 0.23564923, 'severe_toxic': 0.009002773, 'obscene': 0.14901799, 'threat': 0.030735493, 'insult': 0.12641545, 'identity_hate': 0.019457512}]\n",
      "\n"
     ]
    }
   ],
   "source": [
    "for model in malaya.toxic.available_deep_model():\n",
    "    print('Testing %s model'%(model))\n",
    "    deep_model = malaya.toxic.deep_model(model = model)\n",
    "    print(deep_model.predict(string))\n",
    "    print(deep_model.predict_batch([string, another_string]))\n",
    "    print(deep_model.predict_batch([string, another_string],get_proba=True))\n",
    "    print()"
   ]
  },
  {
   "cell_type": "markdown",
   "metadata": {},
   "source": [
    "## Unsupervised important words learning"
   ]
  },
  {
   "cell_type": "code",
   "execution_count": 16,
   "metadata": {},
   "outputs": [],
   "source": [
    "import matplotlib.pyplot as plt\n",
    "import seaborn as sns\n",
    "sns.set() # i just really like seaborn colors"
   ]
  },
  {
   "cell_type": "markdown",
   "metadata": {},
   "source": [
    "We need to set `get_proba` become True to get the 'attention'."
   ]
  },
  {
   "cell_type": "markdown",
   "metadata": {},
   "source": [
    "#### Visualizing bahdanau model"
   ]
  },
  {
   "cell_type": "code",
   "execution_count": 17,
   "metadata": {},
   "outputs": [
    {
     "data": {
      "image/png": "[encoded data removed]",
      "text/plain": [
       "<Figure size 1080x504 with 1 Axes>"
      ]
     },
     "metadata": {
      "needs_background": "light"
     },
     "output_type": "display_data"
    }
   ],
   "source": [
    "model = malaya.toxic.deep_model('bahdanau')\n",
    "result = model.predict(another_string,get_proba=True)['attention']\n",
    "\n",
    "plt.figure(figsize = (15, 7))\n",
    "labels = [r[0] for r in result]\n",
    "val = [r[1] for r in result]\n",
    "aranged = [i for i in range(len(labels))]\n",
    "plt.bar(aranged, val)\n",
    "plt.xticks(aranged, labels, rotation = 'vertical')\n",
    "plt.show()"
   ]
  },
  {
   "cell_type": "markdown",
   "metadata": {},
   "source": [
    "#### Visualizing luong model"
   ]
  },
  {
   "cell_type": "code",
   "execution_count": 18,
   "metadata": {},
   "outputs": [
    {
     "data": {
      "image/png": "[encoded data removed]",
      "text/plain": [
       "<Figure size 1080x504 with 1 Axes>"
      ]
     },
     "metadata": {
      "needs_background": "light"
     },
     "output_type": "display_data"
    }
   ],
   "source": [
    "model = malaya.toxic.deep_model('luong')\n",
    "result = model.predict(another_string,get_proba=True)['attention']\n",
    "\n",
    "plt.figure(figsize = (15, 7))\n",
    "labels = [r[0] for r in result]\n",
    "val = [r[1] for r in result]\n",
    "aranged = [i for i in range(len(labels))]\n",
    "plt.bar(aranged, val)\n",
    "plt.xticks(aranged, labels, rotation = 'vertical')\n",
    "plt.show()"
   ]
  },
  {
   "cell_type": "markdown",
   "metadata": {},
   "source": [
    "#### Visualizing hierarchical model"
   ]
  },
  {
   "cell_type": "code",
   "execution_count": 19,
   "metadata": {},
   "outputs": [
    {
     "data": {
      "image/png": "[encoded data removed]",
      "text/plain": [
       "<Figure size 1080x504 with 1 Axes>"
      ]
     },
     "metadata": {
      "needs_background": "light"
     },
     "output_type": "display_data"
    }
   ],
   "source": [
    "model = malaya.toxic.deep_model('hierarchical')\n",
    "result = model.predict(another_string,get_proba=True)['attention']\n",
    "\n",
    "plt.figure(figsize = (15, 7))\n",
    "labels = [r[0] for r in result]\n",
    "val = [r[1] for r in result]\n",
    "aranged = [i for i in range(len(labels))]\n",
    "plt.bar(aranged, val)\n",
    "plt.xticks(aranged, labels, rotation = 'vertical')\n",
    "plt.show()"
   ]
  },
  {
   "cell_type": "code",
   "execution_count": null,
   "metadata": {},
   "outputs": [],
   "source": []
  }
 ],
 "metadata": {
  "kernelspec": {
   "display_name": "Python 3",
   "language": "python",
   "name": "python3"
  },
  "language_info": {
   "codemirror_mode": {
    "name": "ipython",
    "version": 3
   },
   "file_extension": ".py",
   "mimetype": "text/x-python",
   "name": "python",
   "nbconvert_exporter": "python",
   "pygments_lexer": "ipython3",
   "version": "3.6.5"
  }
 },
 "nbformat": 4,
 "nbformat_minor": 2
}
