{
 "cells": [
  {
   "cell_type": "code",
   "execution_count": 1,
   "metadata": {},
   "outputs": [
    {
     "name": "stderr",
     "output_type": "stream",
     "text": [
      "/usr/local/lib/python3.5/dist-packages/sklearn/cross_validation.py:41: DeprecationWarning: This module was deprecated in version 0.18 in favor of the model_selection module into which all the refactored classes and functions are moved. Also note that the interface of the new CV iterators are different from that of this module. This module will be removed in 0.20.\n",
      "  \"This module will be removed in 0.20.\", DeprecationWarning)\n"
     ]
    }
   ],
   "source": [
    "import re\n",
    "import numpy as np\n",
    "import pandas as pd\n",
    "import collections\n",
    "from sklearn import metrics\n",
    "from sklearn.preprocessing import LabelEncoder\n",
    "import tensorflow as tf\n",
    "from sklearn.feature_extraction.text import CountVectorizer\n",
    "from sklearn.cross_validation import train_test_split\n",
    "from unidecode import unidecode\n",
    "from tqdm import tqdm\n",
    "import time"
   ]
  },
  {
   "cell_type": "code",
   "execution_count": 2,
   "metadata": {},
   "outputs": [],
   "source": [
    "permulaan = [\n",
    "    'bel',\n",
    "    'se',\n",
    "    'ter',\n",
    "    'men',\n",
    "    'meng',\n",
    "    'mem',\n",
    "    'memper',\n",
    "    'di',\n",
    "    'pe',\n",
    "    'me',\n",
    "    'ke',\n",
    "    'ber',\n",
    "    'pen',\n",
    "    'per',\n",
    "]\n",
    "\n",
    "hujung = ['kan', 'kah', 'lah', 'tah', 'nya', 'an', 'wan', 'wati', 'ita']\n",
    "\n",
    "def naive_stemmer(word):\n",
    "    assert isinstance(word, str), 'input must be a string'\n",
    "    hujung_result = re.findall(r'^(.*?)(%s)$' % ('|'.join(hujung)), word)\n",
    "    word = hujung_result[0][0] if len(hujung_result) else word\n",
    "    permulaan_result = re.findall(r'^(.*?)(%s)' % ('|'.join(permulaan[::-1])), word)\n",
    "    permulaan_result.extend(re.findall(r'^(.*?)(%s)' % ('|'.join(permulaan)), word))\n",
    "    mula = permulaan_result if len(permulaan_result) else ''\n",
    "    if len(mula):\n",
    "        mula = mula[1][1] if len(mula[1][1]) > len(mula[0][1]) else mula[0][1]\n",
    "    return word.replace(mula, '')"
   ]
  },
  {
   "cell_type": "code",
   "execution_count": 3,
   "metadata": {},
   "outputs": [],
   "source": [
    "def classification_textcleaning(string):\n",
    "    string = re.sub(\n",
    "        'http\\S+|www.\\S+',\n",
    "        '',\n",
    "        ' '.join(\n",
    "            [i for i in string.split() if i.find('#') < 0 and i.find('@') < 0]\n",
    "        ),\n",
    "    )\n",
    "    string = unidecode(string).replace('.', ' . ').replace(',', ' , ')\n",
    "    string = re.sub('[^A-Za-z ]+', ' ', string)\n",
    "    string = re.sub(r'[ ]+', ' ', string).strip()\n",
    "    string = ' '.join(\n",
    "        [i for i in re.findall('[\\\\w\\']+|[;:\\-\\(\\)&.,!?\"]', string) if len(i)]\n",
    "    )\n",
    "    string = string.lower().split()\n",
    "    string = [(naive_stemmer(word), word) for word in string]\n",
    "    return (\n",
    "        ' '.join([word[0] for word in string if len(word[0]) > 1]),\n",
    "        ' '.join([word[1] for word in string if len(word[0]) > 1]),\n",
    "    )\n",
    "\n",
    "def convert_sparse_matrix_to_sparse_tensor(X, limit = 5):\n",
    "    coo = X.tocoo()\n",
    "    indices = np.mat([coo.row, coo.col]).transpose()\n",
    "    coo.data[coo.data > limit] = limit\n",
    "    return tf.SparseTensorValue(indices, coo.col, coo.shape), tf.SparseTensorValue(indices, coo.data, coo.shape)"
   ]
  },
  {
   "cell_type": "code",
   "execution_count": 4,
   "metadata": {},
   "outputs": [
    {
     "data": {
      "text/html": [
       "<div>\n",
       "<style scoped>\n",
       "    .dataframe tbody tr th:only-of-type {\n",
       "        vertical-align: middle;\n",
       "    }\n",
       "\n",
       "    .dataframe tbody tr th {\n",
       "        vertical-align: top;\n",
       "    }\n",
       "\n",
       "    .dataframe thead th {\n",
       "        text-align: right;\n",
       "    }\n",
       "</style>\n",
       "<table border=\"1\" class=\"dataframe\">\n",
       "  <thead>\n",
       "    <tr style=\"text-align: right;\">\n",
       "      <th></th>\n",
       "      <th>label</th>\n",
       "      <th>text</th>\n",
       "    </tr>\n",
       "  </thead>\n",
       "  <tbody>\n",
       "    <tr>\n",
       "      <th>0</th>\n",
       "      <td>Negative</td>\n",
       "      <td>Lebih-lebih lagi dengan  kemudahan internet da...</td>\n",
       "    </tr>\n",
       "    <tr>\n",
       "      <th>1</th>\n",
       "      <td>Positive</td>\n",
       "      <td>boleh memberi teguran kepada parti tetapi perl...</td>\n",
       "    </tr>\n",
       "    <tr>\n",
       "      <th>2</th>\n",
       "      <td>Negative</td>\n",
       "      <td>Adalah membingungkan mengapa masyarakat Cina b...</td>\n",
       "    </tr>\n",
       "    <tr>\n",
       "      <th>3</th>\n",
       "      <td>Positive</td>\n",
       "      <td>Kami menurunkan defisit daripada 6.7 peratus p...</td>\n",
       "    </tr>\n",
       "    <tr>\n",
       "      <th>4</th>\n",
       "      <td>Negative</td>\n",
       "      <td>Ini masalahnya. Bukan rakyat, tetapi sistem</td>\n",
       "    </tr>\n",
       "  </tbody>\n",
       "</table>\n",
       "</div>"
      ],
      "text/plain": [
       "      label                                               text\n",
       "0  Negative  Lebih-lebih lagi dengan  kemudahan internet da...\n",
       "1  Positive  boleh memberi teguran kepada parti tetapi perl...\n",
       "2  Negative  Adalah membingungkan mengapa masyarakat Cina b...\n",
       "3  Positive  Kami menurunkan defisit daripada 6.7 peratus p...\n",
       "4  Negative        Ini masalahnya. Bukan rakyat, tetapi sistem"
      ]
     },
     "execution_count": 4,
     "metadata": {},
     "output_type": "execute_result"
    }
   ],
   "source": [
    "df = pd.read_csv('dataset/sentiment-data-v2.csv')\n",
    "Y = LabelEncoder().fit_transform(df.label)\n",
    "df.head()"
   ]
  },
  {
   "cell_type": "code",
   "execution_count": 5,
   "metadata": {},
   "outputs": [],
   "source": [
    "with open('dataset/polarity-negative-translated.txt','r') as fopen:\n",
    "    texts = fopen.read().split('\\n')\n",
    "labels = [0] * len(texts)\n",
    "\n",
    "with open('dataset/polarity-positive-translated.txt','r') as fopen:\n",
    "    positive_texts = fopen.read().split('\\n')\n",
    "labels += [1] * len(positive_texts)\n",
    "texts += positive_texts\n",
    "texts += df.iloc[:,1].tolist()\n",
    "labels += Y.tolist()\n",
    "\n",
    "assert len(labels) == len(texts)"
   ]
  },
  {
   "cell_type": "code",
   "execution_count": 6,
   "metadata": {},
   "outputs": [],
   "source": [
    "for i in range(len(texts)):\n",
    "    texts[i] = classification_textcleaning(texts[i])[0]"
   ]
  },
  {
   "cell_type": "code",
   "execution_count": 7,
   "metadata": {},
   "outputs": [],
   "source": [
    "bow_chars = CountVectorizer(ngram_range=(3, 5), analyzer='char_wb', max_features=300000).fit(texts)\n",
    "delattr(bow_chars, 'stop_words_')"
   ]
  },
  {
   "cell_type": "code",
   "execution_count": 8,
   "metadata": {},
   "outputs": [],
   "source": [
    "feature_shape = bow_chars.transform(texts[:1]).shape[1]"
   ]
  },
  {
   "cell_type": "code",
   "execution_count": 9,
   "metadata": {},
   "outputs": [],
   "source": [
    "class Model:\n",
    "    def __init__(self, vocab_size, learning_rate):\n",
    "        self.X = tf.sparse_placeholder(tf.int32)\n",
    "        self.W = tf.sparse_placeholder(tf.int32)\n",
    "        self.Y = tf.placeholder(tf.int32, [None])\n",
    "        embeddings = tf.Variable(tf.truncated_normal([vocab_size,64]))\n",
    "        embed = tf.nn.embedding_lookup_sparse(embeddings, self.X, self.W, combiner='mean')\n",
    "        self.logits = tf.layers.dense(embed, 2)\n",
    "        self.cost = tf.reduce_mean(tf.nn.sparse_softmax_cross_entropy_with_logits(\n",
    "            logits = self.logits, labels = self.Y))\n",
    "        self.optimizer = tf.train.AdamOptimizer(learning_rate = learning_rate).minimize(self.cost)\n",
    "        correct_pred = tf.equal(tf.argmax(self.logits, 1,output_type=tf.int32), self.Y)\n",
    "        self.accuracy = tf.reduce_mean(tf.cast(correct_pred, tf.float32))"
   ]
  },
  {
   "cell_type": "code",
   "execution_count": 10,
   "metadata": {},
   "outputs": [
    {
     "name": "stderr",
     "output_type": "stream",
     "text": [
      "/usr/local/lib/python3.5/dist-packages/tensorflow/python/ops/gradients_impl.py:112: UserWarning: Converting sparse IndexedSlices to a dense Tensor of unknown shape. This may consume a large amount of memory.\n",
      "  \"Converting sparse IndexedSlices to a dense Tensor of unknown shape. \"\n"
     ]
    }
   ],
   "source": [
    "sess = tf.InteractiveSession()\n",
    "model = Model(feature_shape, 1e-4)\n",
    "sess.run(tf.global_variables_initializer())"
   ]
  },
  {
   "cell_type": "code",
   "execution_count": 11,
   "metadata": {},
   "outputs": [
    {
     "data": {
      "text/plain": [
       "'fast-text-char/model.ckpt'"
      ]
     },
     "execution_count": 11,
     "metadata": {},
     "output_type": "execute_result"
    }
   ],
   "source": [
    "saver = tf.train.Saver(tf.trainable_variables())\n",
    "saver.save(sess, 'fast-text-char/model.ckpt')"
   ]
  },
  {
   "cell_type": "code",
   "execution_count": 12,
   "metadata": {},
   "outputs": [],
   "source": [
    "vectors = bow_chars.transform(texts)\n",
    "train_X, test_X, train_Y, test_Y = train_test_split(\n",
    "    vectors, labels, test_size = 0.2\n",
    ")"
   ]
  },
  {
   "cell_type": "code",
   "execution_count": 13,
   "metadata": {},
   "outputs": [
    {
     "name": "stderr",
     "output_type": "stream",
     "text": [
      "train minibatch loop: 100%|██████████| 357/357 [00:02<00:00, 135.13it/s, accuracy=0.548, cost=0.694]\n",
      "test minibatch loop: 100%|██████████| 90/90 [00:00<00:00, 377.78it/s, accuracy=0.75, cost=0.675] \n",
      "train minibatch loop:   4%|▍         | 14/357 [00:00<00:02, 139.94it/s, accuracy=0.344, cost=0.73] "
     ]
    },
    {
     "name": "stdout",
     "output_type": "stream",
     "text": [
      "epoch: 0, pass acc: 0.000000, current acc: 0.557073\n",
      "time taken: 2.8827085494995117\n",
      "epoch: 0, training loss: 0.692972, training acc: 0.524341, valid loss: 0.691601, valid acc: 0.557073\n",
      "\n"
     ]
    },
    {
     "name": "stderr",
     "output_type": "stream",
     "text": [
      "train minibatch loop: 100%|██████████| 357/357 [00:02<00:00, 138.14it/s, accuracy=0.516, cost=0.691]\n",
      "test minibatch loop: 100%|██████████| 90/90 [00:00<00:00, 378.54it/s, accuracy=0.75, cost=0.669] \n",
      "train minibatch loop:   4%|▍         | 15/357 [00:00<00:02, 142.93it/s, accuracy=0.406, cost=0.725]"
     ]
    },
    {
     "name": "stdout",
     "output_type": "stream",
     "text": [
      "epoch: 1, pass acc: 0.557073, current acc: 0.582283\n",
      "time taken: 2.82466197013855\n",
      "epoch: 1, training loss: 0.683992, training acc: 0.560493, valid loss: 0.684942, valid acc: 0.582283\n",
      "\n"
     ]
    },
    {
     "name": "stderr",
     "output_type": "stream",
     "text": [
      "train minibatch loop: 100%|██████████| 357/357 [00:02<00:00, 138.60it/s, accuracy=0.516, cost=0.688]\n",
      "test minibatch loop: 100%|██████████| 90/90 [00:00<00:00, 390.31it/s, accuracy=0.75, cost=0.665] \n",
      "train minibatch loop:   4%|▍         | 15/357 [00:00<00:02, 141.31it/s, accuracy=0.406, cost=0.717]"
     ]
    },
    {
     "name": "stdout",
     "output_type": "stream",
     "text": [
      "epoch: 2, pass acc: 0.582283, current acc: 0.601891\n",
      "time taken: 2.80815052986145\n",
      "epoch: 2, training loss: 0.676320, training acc: 0.583955, valid loss: 0.679109, valid acc: 0.601891\n",
      "\n"
     ]
    },
    {
     "name": "stderr",
     "output_type": "stream",
     "text": [
      "train minibatch loop: 100%|██████████| 357/357 [00:02<00:00, 141.37it/s, accuracy=0.548, cost=0.683]\n",
      "test minibatch loop: 100%|██████████| 90/90 [00:00<00:00, 387.60it/s, accuracy=0.75, cost=0.663] \n",
      "train minibatch loop:   4%|▍         | 15/357 [00:00<00:02, 140.39it/s, accuracy=0.438, cost=0.709]"
     ]
    },
    {
     "name": "stdout",
     "output_type": "stream",
     "text": [
      "epoch: 3, pass acc: 0.601891, current acc: 0.611695\n",
      "time taken: 2.759413242340088\n",
      "epoch: 3, training loss: 0.668874, training acc: 0.599715, valid loss: 0.673454, valid acc: 0.611695\n",
      "\n"
     ]
    },
    {
     "name": "stderr",
     "output_type": "stream",
     "text": [
      "train minibatch loop: 100%|██████████| 357/357 [00:02<00:00, 141.49it/s, accuracy=0.548, cost=0.677]\n",
      "test minibatch loop: 100%|██████████| 90/90 [00:00<00:00, 385.68it/s, accuracy=0.625, cost=0.66] \n",
      "train minibatch loop:   4%|▍         | 15/357 [00:00<00:02, 141.40it/s, accuracy=0.438, cost=0.7]  "
     ]
    },
    {
     "name": "stdout",
     "output_type": "stream",
     "text": [
      "epoch: 4, pass acc: 0.611695, current acc: 0.619748\n",
      "time taken: 2.7584547996520996\n",
      "epoch: 4, training loss: 0.661259, training acc: 0.616086, valid loss: 0.667748, valid acc: 0.619748\n",
      "\n"
     ]
    },
    {
     "name": "stderr",
     "output_type": "stream",
     "text": [
      "train minibatch loop: 100%|██████████| 357/357 [00:02<00:00, 141.79it/s, accuracy=0.548, cost=0.67] \n",
      "test minibatch loop: 100%|██████████| 90/90 [00:00<00:00, 389.77it/s, accuracy=0.625, cost=0.658]\n",
      "train minibatch loop:   4%|▍         | 15/357 [00:00<00:02, 142.68it/s, accuracy=0.5, cost=0.69]   "
     ]
    },
    {
     "name": "stdout",
     "output_type": "stream",
     "text": [
      "epoch: 5, pass acc: 0.619748, current acc: 0.628501\n",
      "time taken: 2.750880002975464\n",
      "epoch: 5, training loss: 0.653339, training acc: 0.629655, valid loss: 0.661933, valid acc: 0.628501\n",
      "\n"
     ]
    },
    {
     "name": "stderr",
     "output_type": "stream",
     "text": [
      "train minibatch loop: 100%|██████████| 357/357 [00:02<00:00, 141.63it/s, accuracy=0.548, cost=0.662]\n",
      "test minibatch loop: 100%|██████████| 90/90 [00:00<00:00, 392.35it/s, accuracy=0.625, cost=0.656]\n",
      "train minibatch loop:   4%|▍         | 15/357 [00:00<00:02, 142.49it/s, accuracy=0.5, cost=0.68]   "
     ]
    },
    {
     "name": "stdout",
     "output_type": "stream",
     "text": [
      "epoch: 6, pass acc: 0.628501, current acc: 0.632703\n",
      "time taken: 2.7522051334381104\n",
      "epoch: 6, training loss: 0.645093, training acc: 0.645850, valid loss: 0.656033, valid acc: 0.632703\n",
      "\n"
     ]
    },
    {
     "name": "stderr",
     "output_type": "stream",
     "text": [
      "train minibatch loop: 100%|██████████| 357/357 [00:02<00:00, 141.72it/s, accuracy=0.548, cost=0.654]\n",
      "test minibatch loop: 100%|██████████| 90/90 [00:00<00:00, 389.13it/s, accuracy=0.625, cost=0.653]\n",
      "train minibatch loop:   4%|▍         | 15/357 [00:00<00:02, 140.33it/s, accuracy=0.531, cost=0.67] "
     ]
    },
    {
     "name": "stdout",
     "output_type": "stream",
     "text": [
      "epoch: 7, pass acc: 0.632703, current acc: 0.642507\n",
      "time taken: 2.7521347999572754\n",
      "epoch: 7, training loss: 0.636568, training acc: 0.657231, valid loss: 0.650113, valid acc: 0.642507\n",
      "\n"
     ]
    },
    {
     "name": "stderr",
     "output_type": "stream",
     "text": [
      "train minibatch loop: 100%|██████████| 357/357 [00:02<00:00, 141.12it/s, accuracy=0.613, cost=0.645]\n",
      "test minibatch loop: 100%|██████████| 90/90 [00:00<00:00, 387.28it/s, accuracy=0.75, cost=0.65]  \n",
      "train minibatch loop:   4%|▍         | 15/357 [00:00<00:02, 142.51it/s, accuracy=0.562, cost=0.659]"
     ]
    },
    {
     "name": "stdout",
     "output_type": "stream",
     "text": [
      "epoch: 8, pass acc: 0.642507, current acc: 0.653011\n",
      "time taken: 2.7645280361175537\n",
      "epoch: 8, training loss: 0.627843, training acc: 0.670543, valid loss: 0.644252, valid acc: 0.653011\n",
      "\n"
     ]
    },
    {
     "name": "stderr",
     "output_type": "stream",
     "text": [
      "train minibatch loop: 100%|██████████| 357/357 [00:02<00:00, 141.51it/s, accuracy=0.613, cost=0.636]\n",
      "test minibatch loop: 100%|██████████| 90/90 [00:00<00:00, 390.22it/s, accuracy=0.75, cost=0.647] \n",
      "train minibatch loop:   4%|▍         | 15/357 [00:00<00:02, 139.74it/s, accuracy=0.562, cost=0.649]"
     ]
    },
    {
     "name": "stdout",
     "output_type": "stream",
     "text": [
      "epoch: 9, pass acc: 0.653011, current acc: 0.660014\n",
      "time taken: 2.7556698322296143\n",
      "epoch: 9, training loss: 0.619011, training acc: 0.680173, valid loss: 0.638526, valid acc: 0.660014\n",
      "\n"
     ]
    },
    {
     "name": "stderr",
     "output_type": "stream",
     "text": [
      "train minibatch loop: 100%|██████████| 357/357 [00:02<00:00, 141.83it/s, accuracy=0.645, cost=0.627]\n",
      "test minibatch loop: 100%|██████████| 90/90 [00:00<00:00, 388.00it/s, accuracy=0.75, cost=0.644] \n",
      "train minibatch loop:   4%|▍         | 15/357 [00:00<00:02, 142.79it/s, accuracy=0.594, cost=0.639]"
     ]
    },
    {
     "name": "stdout",
     "output_type": "stream",
     "text": [
      "epoch: 10, pass acc: 0.660014, current acc: 0.662115\n",
      "time taken: 2.7511253356933594\n",
      "epoch: 10, training loss: 0.610162, training acc: 0.691556, valid loss: 0.633000, valid acc: 0.662115\n",
      "\n"
     ]
    },
    {
     "name": "stderr",
     "output_type": "stream",
     "text": [
      "train minibatch loop: 100%|██████████| 357/357 [00:02<00:00, 141.08it/s, accuracy=0.677, cost=0.617]\n",
      "test minibatch loop: 100%|██████████| 90/90 [00:00<00:00, 390.23it/s, accuracy=0.75, cost=0.641] \n",
      "train minibatch loop:   4%|▍         | 15/357 [00:00<00:02, 140.96it/s, accuracy=0.594, cost=0.629]"
     ]
    },
    {
     "name": "stdout",
     "output_type": "stream",
     "text": [
      "epoch: 11, pass acc: 0.662115, current acc: 0.669118\n",
      "time taken: 2.762988328933716\n",
      "epoch: 11, training loss: 0.601373, training acc: 0.701014, valid loss: 0.627722, valid acc: 0.669118\n",
      "\n"
     ]
    },
    {
     "name": "stderr",
     "output_type": "stream",
     "text": [
      "train minibatch loop: 100%|██████████| 357/357 [00:02<00:00, 141.05it/s, accuracy=0.645, cost=0.608]\n",
      "test minibatch loop: 100%|██████████| 90/90 [00:00<00:00, 388.39it/s, accuracy=0.75, cost=0.638] \n",
      "train minibatch loop:   4%|▍         | 15/357 [00:00<00:02, 141.13it/s, accuracy=0.625, cost=0.619]"
     ]
    },
    {
     "name": "stdout",
     "output_type": "stream",
     "text": [
      "epoch: 12, pass acc: 0.669118, current acc: 0.673669\n",
      "time taken: 2.7647182941436768\n",
      "epoch: 12, training loss: 0.592705, training acc: 0.708890, valid loss: 0.622722, valid acc: 0.673669\n",
      "\n"
     ]
    },
    {
     "name": "stderr",
     "output_type": "stream",
     "text": [
      "train minibatch loop: 100%|██████████| 357/357 [00:02<00:00, 141.68it/s, accuracy=0.71, cost=0.598] \n",
      "test minibatch loop: 100%|██████████| 90/90 [00:00<00:00, 389.31it/s, accuracy=0.75, cost=0.634] \n",
      "train minibatch loop:   4%|▍         | 15/357 [00:00<00:02, 142.10it/s, accuracy=0.625, cost=0.61] "
     ]
    },
    {
     "name": "stdout",
     "output_type": "stream",
     "text": [
      "epoch: 13, pass acc: 0.673669, current acc: 0.677521\n",
      "time taken: 2.752776622772217\n",
      "epoch: 13, training loss: 0.584202, training acc: 0.717912, valid loss: 0.618016, valid acc: 0.677521\n",
      "\n"
     ]
    },
    {
     "name": "stderr",
     "output_type": "stream",
     "text": [
      "train minibatch loop: 100%|██████████| 357/357 [00:02<00:00, 141.40it/s, accuracy=0.71, cost=0.589] \n",
      "test minibatch loop: 100%|██████████| 90/90 [00:00<00:00, 388.58it/s, accuracy=0.75, cost=0.631] \n",
      "train minibatch loop:   4%|▍         | 15/357 [00:00<00:02, 142.73it/s, accuracy=0.625, cost=0.601]"
     ]
    },
    {
     "name": "stdout",
     "output_type": "stream",
     "text": [
      "epoch: 14, pass acc: 0.677521, current acc: 0.683824\n",
      "time taken: 2.758405923843384\n",
      "epoch: 14, training loss: 0.575892, training acc: 0.726229, valid loss: 0.613612, valid acc: 0.683824\n",
      "\n"
     ]
    },
    {
     "name": "stderr",
     "output_type": "stream",
     "text": [
      "train minibatch loop: 100%|██████████| 357/357 [00:02<00:00, 141.67it/s, accuracy=0.71, cost=0.579] \n",
      "test minibatch loop: 100%|██████████| 90/90 [00:00<00:00, 390.11it/s, accuracy=0.75, cost=0.628] \n",
      "train minibatch loop:   4%|▍         | 15/357 [00:00<00:02, 141.13it/s, accuracy=0.625, cost=0.592]"
     ]
    },
    {
     "name": "stdout",
     "output_type": "stream",
     "text": [
      "epoch: 15, pass acc: 0.683824, current acc: 0.686625\n",
      "time taken: 2.7528414726257324\n",
      "epoch: 15, training loss: 0.567794, training acc: 0.729730, valid loss: 0.609508, valid acc: 0.686625\n",
      "\n"
     ]
    },
    {
     "name": "stderr",
     "output_type": "stream",
     "text": [
      "train minibatch loop: 100%|██████████| 357/357 [00:02<00:00, 141.28it/s, accuracy=0.71, cost=0.57]  \n",
      "test minibatch loop: 100%|██████████| 90/90 [00:00<00:00, 392.20it/s, accuracy=0.75, cost=0.624] \n",
      "train minibatch loop:   4%|▍         | 15/357 [00:00<00:02, 140.84it/s, accuracy=0.625, cost=0.584]"
     ]
    },
    {
     "name": "stdout",
     "output_type": "stream",
     "text": [
      "epoch: 16, pass acc: 0.686625, current acc: 0.688025\n",
      "time taken: 2.7586071491241455\n",
      "epoch: 16, training loss: 0.559920, training acc: 0.736033, valid loss: 0.605698, valid acc: 0.688025\n",
      "\n"
     ]
    },
    {
     "name": "stderr",
     "output_type": "stream",
     "text": [
      "train minibatch loop: 100%|██████████| 357/357 [00:02<00:00, 141.84it/s, accuracy=0.71, cost=0.561] \n",
      "test minibatch loop: 100%|██████████| 90/90 [00:00<00:00, 387.14it/s, accuracy=0.75, cost=0.621] \n",
      "train minibatch loop:   4%|▍         | 15/357 [00:00<00:02, 141.56it/s, accuracy=0.625, cost=0.575]"
     ]
    },
    {
     "name": "stdout",
     "output_type": "stream",
     "text": [
      "epoch: 17, pass acc: 0.688025, current acc: 0.690476\n",
      "time taken: 2.7624003887176514\n",
      "epoch: 17, training loss: 0.552275, training acc: 0.740936, valid loss: 0.602174, valid acc: 0.690476\n",
      "\n"
     ]
    },
    {
     "name": "stderr",
     "output_type": "stream",
     "text": [
      "train minibatch loop: 100%|██████████| 357/357 [00:02<00:00, 141.35it/s, accuracy=0.71, cost=0.552] \n",
      "test minibatch loop: 100%|██████████| 90/90 [00:00<00:00, 388.68it/s, accuracy=0.75, cost=0.618] \n",
      "train minibatch loop:   4%|▍         | 14/357 [00:00<00:02, 139.90it/s, accuracy=0.719, cost=0.567]"
     ]
    },
    {
     "name": "stdout",
     "output_type": "stream",
     "text": [
      "epoch: 18, pass acc: 0.690476, current acc: 0.694328\n",
      "time taken: 2.759275197982788\n",
      "epoch: 18, training loss: 0.544860, training acc: 0.745838, valid loss: 0.598926, valid acc: 0.694328\n",
      "\n"
     ]
    },
    {
     "name": "stderr",
     "output_type": "stream",
     "text": [
      "train minibatch loop: 100%|██████████| 357/357 [00:02<00:00, 141.15it/s, accuracy=0.71, cost=0.543] \n",
      "test minibatch loop: 100%|██████████| 90/90 [00:00<00:00, 390.34it/s, accuracy=0.75, cost=0.615] \n",
      "train minibatch loop:   4%|▍         | 15/357 [00:00<00:02, 142.45it/s, accuracy=0.688, cost=0.56] "
     ]
    },
    {
     "name": "stdout",
     "output_type": "stream",
     "text": [
      "epoch: 19, pass acc: 0.694328, current acc: 0.696078\n",
      "time taken: 2.7616238594055176\n",
      "epoch: 19, training loss: 0.537674, training acc: 0.751091, valid loss: 0.595943, valid acc: 0.696078\n",
      "\n"
     ]
    },
    {
     "name": "stderr",
     "output_type": "stream",
     "text": [
      "train minibatch loop: 100%|██████████| 357/357 [00:02<00:00, 141.05it/s, accuracy=0.71, cost=0.535] \n",
      "test minibatch loop: 100%|██████████| 90/90 [00:00<00:00, 389.80it/s, accuracy=0.875, cost=0.612]\n",
      "train minibatch loop:   4%|▍         | 15/357 [00:00<00:02, 141.62it/s, accuracy=0.688, cost=0.552]"
     ]
    },
    {
     "name": "stdout",
     "output_type": "stream",
     "text": [
      "epoch: 20, pass acc: 0.696078, current acc: 0.699230\n",
      "time taken: 2.7638111114501953\n",
      "epoch: 20, training loss: 0.530713, training acc: 0.756168, valid loss: 0.593213, valid acc: 0.699230\n",
      "\n"
     ]
    },
    {
     "name": "stderr",
     "output_type": "stream",
     "text": [
      "train minibatch loop: 100%|██████████| 357/357 [00:02<00:00, 141.55it/s, accuracy=0.71, cost=0.527] \n",
      "test minibatch loop: 100%|██████████| 90/90 [00:00<00:00, 387.96it/s, accuracy=0.875, cost=0.609]\n",
      "train minibatch loop:   4%|▍         | 15/357 [00:00<00:02, 141.29it/s, accuracy=0.688, cost=0.545]"
     ]
    },
    {
     "name": "stdout",
     "output_type": "stream",
     "text": [
      "epoch: 21, pass acc: 0.699230, current acc: 0.705882\n",
      "time taken: 2.7564079761505127\n",
      "epoch: 21, training loss: 0.523973, training acc: 0.760283, valid loss: 0.590724, valid acc: 0.705882\n",
      "\n"
     ]
    },
    {
     "name": "stderr",
     "output_type": "stream",
     "text": [
      "train minibatch loop: 100%|██████████| 357/357 [00:02<00:00, 141.72it/s, accuracy=0.71, cost=0.519] \n",
      "test minibatch loop: 100%|██████████| 90/90 [00:00<00:00, 390.19it/s, accuracy=0.75, cost=0.607] \n",
      "train minibatch loop:   4%|▍         | 15/357 [00:00<00:02, 140.85it/s, accuracy=0.688, cost=0.539]"
     ]
    },
    {
     "name": "stdout",
     "output_type": "stream",
     "text": [
      "epoch: 22, pass acc: 0.705882, current acc: 0.709034\n",
      "time taken: 2.7519538402557373\n",
      "epoch: 22, training loss: 0.517449, training acc: 0.764135, valid loss: 0.588464, valid acc: 0.709034\n",
      "\n"
     ]
    },
    {
     "name": "stderr",
     "output_type": "stream",
     "text": [
      "train minibatch loop: 100%|██████████| 357/357 [00:02<00:00, 139.98it/s, accuracy=0.742, cost=0.511]\n",
      "test minibatch loop: 100%|██████████| 90/90 [00:00<00:00, 386.37it/s, accuracy=0.75, cost=0.604] \n",
      "train minibatch loop:   4%|▍         | 14/357 [00:00<00:02, 139.76it/s, accuracy=0.75, cost=0.546] "
     ]
    },
    {
     "name": "stdout",
     "output_type": "stream",
     "text": [
      "epoch: 23, pass acc: 0.709034, current acc: 0.711134\n",
      "time taken: 2.7852275371551514\n",
      "epoch: 23, training loss: 0.511133, training acc: 0.766939, valid loss: 0.586422, valid acc: 0.711134\n",
      "\n"
     ]
    },
    {
     "name": "stderr",
     "output_type": "stream",
     "text": [
      "train minibatch loop: 100%|██████████| 357/357 [00:02<00:00, 140.79it/s, accuracy=0.742, cost=0.503]\n",
      "test minibatch loop: 100%|██████████| 90/90 [00:00<00:00, 388.31it/s, accuracy=0.75, cost=0.602] \n",
      "train minibatch loop:   4%|▍         | 15/357 [00:00<00:02, 141.68it/s, accuracy=0.688, cost=0.526]"
     ]
    },
    {
     "name": "stdout",
     "output_type": "stream",
     "text": [
      "epoch: 24, pass acc: 0.711134, current acc: 0.714286\n",
      "time taken: 2.769306182861328\n",
      "epoch: 24, training loss: 0.505019, training acc: 0.771053, valid loss: 0.584587, valid acc: 0.714286\n",
      "\n"
     ]
    },
    {
     "name": "stderr",
     "output_type": "stream",
     "text": [
      "train minibatch loop: 100%|██████████| 357/357 [00:02<00:00, 141.56it/s, accuracy=0.774, cost=0.496]\n",
      "test minibatch loop: 100%|██████████| 90/90 [00:00<00:00, 383.06it/s, accuracy=0.75, cost=0.6]   \n",
      "train minibatch loop:   4%|▍         | 15/357 [00:00<00:02, 141.37it/s, accuracy=0.688, cost=0.52] "
     ]
    },
    {
     "name": "stdout",
     "output_type": "stream",
     "text": [
      "time taken: 2.759004592895508\n",
      "epoch: 25, training loss: 0.499100, training acc: 0.775433, valid loss: 0.582946, valid acc: 0.712885\n",
      "\n"
     ]
    },
    {
     "name": "stderr",
     "output_type": "stream",
     "text": [
      "train minibatch loop: 100%|██████████| 357/357 [00:02<00:00, 141.49it/s, accuracy=0.774, cost=0.489]\n",
      "test minibatch loop: 100%|██████████| 90/90 [00:00<00:00, 391.37it/s, accuracy=0.75, cost=0.598] \n",
      "train minibatch loop:   4%|▍         | 14/357 [00:00<00:02, 139.37it/s, accuracy=0.688, cost=0.514]"
     ]
    },
    {
     "name": "stdout",
     "output_type": "stream",
     "text": [
      "time taken: 2.7552366256713867\n",
      "epoch: 26, training loss: 0.493368, training acc: 0.779635, valid loss: 0.581490, valid acc: 0.713936\n",
      "\n"
     ]
    },
    {
     "name": "stderr",
     "output_type": "stream",
     "text": [
      "train minibatch loop: 100%|██████████| 357/357 [00:02<00:00, 141.22it/s, accuracy=0.774, cost=0.482]\n",
      "test minibatch loop: 100%|██████████| 90/90 [00:00<00:00, 389.51it/s, accuracy=0.75, cost=0.596] \n",
      "train minibatch loop:   4%|▍         | 15/357 [00:00<00:02, 140.76it/s, accuracy=0.688, cost=0.509]"
     ]
    },
    {
     "name": "stdout",
     "output_type": "stream",
     "text": [
      "epoch: 27, pass acc: 0.714286, current acc: 0.715686\n",
      "time taken: 2.7610113620758057\n",
      "epoch: 27, training loss: 0.487816, training acc: 0.782962, valid loss: 0.580207, valid acc: 0.715686\n",
      "\n"
     ]
    },
    {
     "name": "stderr",
     "output_type": "stream",
     "text": [
      "train minibatch loop: 100%|██████████| 357/357 [00:02<00:00, 141.44it/s, accuracy=0.806, cost=0.475]\n",
      "test minibatch loop: 100%|██████████| 90/90 [00:00<00:00, 387.98it/s, accuracy=0.75, cost=0.595] \n",
      "train minibatch loop:   4%|▍         | 15/357 [00:00<00:02, 142.14it/s, accuracy=0.688, cost=0.503]"
     ]
    },
    {
     "name": "stdout",
     "output_type": "stream",
     "text": [
      "time taken: 2.7584028244018555\n",
      "epoch: 28, training loss: 0.482437, training acc: 0.785591, valid loss: 0.579088, valid acc: 0.715686\n",
      "\n"
     ]
    },
    {
     "name": "stderr",
     "output_type": "stream",
     "text": [
      "train minibatch loop: 100%|██████████| 357/357 [00:02<00:00, 141.29it/s, accuracy=0.806, cost=0.469]\n",
      "test minibatch loop: 100%|██████████| 90/90 [00:00<00:00, 389.15it/s, accuracy=0.75, cost=0.594] \n",
      "train minibatch loop:   4%|▍         | 15/357 [00:00<00:02, 142.98it/s, accuracy=0.688, cost=0.498]"
     ]
    },
    {
     "name": "stdout",
     "output_type": "stream",
     "text": [
      "epoch: 29, pass acc: 0.715686, current acc: 0.717787\n",
      "time taken: 2.75982666015625\n",
      "epoch: 29, training loss: 0.477222, training acc: 0.789618, valid loss: 0.578122, valid acc: 0.717787\n",
      "\n"
     ]
    },
    {
     "name": "stderr",
     "output_type": "stream",
     "text": [
      "train minibatch loop: 100%|██████████| 357/357 [00:02<00:00, 141.47it/s, accuracy=0.806, cost=0.463]\n",
      "test minibatch loop: 100%|██████████| 90/90 [00:00<00:00, 389.13it/s, accuracy=0.75, cost=0.593] \n",
      "train minibatch loop:   4%|▍         | 15/357 [00:00<00:02, 140.98it/s, accuracy=0.688, cost=0.493]"
     ]
    },
    {
     "name": "stdout",
     "output_type": "stream",
     "text": [
      "epoch: 30, pass acc: 0.717787, current acc: 0.719188\n",
      "time taken: 2.756946563720703\n",
      "epoch: 30, training loss: 0.472165, training acc: 0.793207, valid loss: 0.577300, valid acc: 0.719188\n",
      "\n"
     ]
    },
    {
     "name": "stderr",
     "output_type": "stream",
     "text": [
      "train minibatch loop: 100%|██████████| 357/357 [00:02<00:00, 141.24it/s, accuracy=0.806, cost=0.457]\n",
      "test minibatch loop: 100%|██████████| 90/90 [00:00<00:00, 387.14it/s, accuracy=0.75, cost=0.592] \n",
      "train minibatch loop:   4%|▍         | 15/357 [00:00<00:02, 141.82it/s, accuracy=0.688, cost=0.489]"
     ]
    },
    {
     "name": "stdout",
     "output_type": "stream",
     "text": [
      "epoch: 31, pass acc: 0.719188, current acc: 0.720588\n",
      "time taken: 2.7619266510009766\n",
      "epoch: 31, training loss: 0.467257, training acc: 0.795221, valid loss: 0.576612, valid acc: 0.720588\n",
      "\n"
     ]
    },
    {
     "name": "stderr",
     "output_type": "stream",
     "text": [
      "train minibatch loop: 100%|██████████| 357/357 [00:02<00:00, 141.26it/s, accuracy=0.806, cost=0.451]\n",
      "test minibatch loop: 100%|██████████| 90/90 [00:00<00:00, 389.60it/s, accuracy=0.75, cost=0.591] \n",
      "train minibatch loop:   4%|▍         | 15/357 [00:00<00:02, 142.78it/s, accuracy=0.688, cost=0.484]"
     ]
    },
    {
     "name": "stdout",
     "output_type": "stream",
     "text": [
      "epoch: 32, pass acc: 0.720588, current acc: 0.721289\n",
      "time taken: 2.765531301498413\n",
      "epoch: 32, training loss: 0.462491, training acc: 0.798110, valid loss: 0.576051, valid acc: 0.721289\n",
      "\n"
     ]
    },
    {
     "name": "stderr",
     "output_type": "stream",
     "text": [
      "train minibatch loop: 100%|██████████| 357/357 [00:02<00:00, 141.88it/s, accuracy=0.806, cost=0.445]\n",
      "test minibatch loop: 100%|██████████| 90/90 [00:00<00:00, 387.49it/s, accuracy=0.75, cost=0.59]  \n",
      "train minibatch loop:   4%|▍         | 15/357 [00:00<00:02, 141.26it/s, accuracy=0.719, cost=0.48] "
     ]
    },
    {
     "name": "stdout",
     "output_type": "stream",
     "text": [
      "epoch: 33, pass acc: 0.721289, current acc: 0.722339\n",
      "time taken: 2.7505366802215576\n",
      "epoch: 33, training loss: 0.457860, training acc: 0.800386, valid loss: 0.575607, valid acc: 0.722339\n",
      "\n"
     ]
    },
    {
     "name": "stderr",
     "output_type": "stream",
     "text": [
      "train minibatch loop: 100%|██████████| 357/357 [00:02<00:00, 141.02it/s, accuracy=0.806, cost=0.44] \n",
      "test minibatch loop: 100%|██████████| 90/90 [00:00<00:00, 385.89it/s, accuracy=0.75, cost=0.59]  \n",
      "train minibatch loop:   4%|▍         | 15/357 [00:00<00:02, 141.45it/s, accuracy=0.719, cost=0.476]"
     ]
    },
    {
     "name": "stdout",
     "output_type": "stream",
     "text": [
      "epoch: 34, pass acc: 0.722339, current acc: 0.722689\n",
      "time taken: 2.766610622406006\n",
      "epoch: 34, training loss: 0.453357, training acc: 0.801962, valid loss: 0.575274, valid acc: 0.722689\n",
      "\n"
     ]
    },
    {
     "name": "stderr",
     "output_type": "stream",
     "text": [
      "train minibatch loop: 100%|██████████| 357/357 [00:02<00:00, 141.22it/s, accuracy=0.806, cost=0.434]\n",
      "test minibatch loop: 100%|██████████| 90/90 [00:00<00:00, 386.44it/s, accuracy=0.75, cost=0.59]  \n",
      "train minibatch loop:   4%|▍         | 14/357 [00:00<00:02, 139.49it/s, accuracy=0.75, cost=0.472] "
     ]
    },
    {
     "name": "stdout",
     "output_type": "stream",
     "text": [
      "time taken: 2.762693166732788\n",
      "epoch: 35, training loss: 0.448976, training acc: 0.804675, valid loss: 0.575043, valid acc: 0.722689\n",
      "\n"
     ]
    },
    {
     "name": "stderr",
     "output_type": "stream",
     "text": [
      "train minibatch loop: 100%|██████████| 357/357 [00:02<00:00, 141.57it/s, accuracy=0.806, cost=0.429]\n",
      "test minibatch loop: 100%|██████████| 90/90 [00:00<00:00, 389.69it/s, accuracy=0.75, cost=0.589] \n",
      "train minibatch loop:   4%|▍         | 15/357 [00:00<00:02, 142.45it/s, accuracy=0.781, cost=0.468]"
     ]
    },
    {
     "name": "stdout",
     "output_type": "stream",
     "text": [
      "time taken: 2.7545599937438965\n",
      "epoch: 36, training loss: 0.444709, training acc: 0.807127, valid loss: 0.574909, valid acc: 0.721639\n",
      "\n"
     ]
    },
    {
     "name": "stderr",
     "output_type": "stream",
     "text": [
      "train minibatch loop: 100%|██████████| 357/357 [00:02<00:00, 141.58it/s, accuracy=0.806, cost=0.424]\n",
      "test minibatch loop: 100%|██████████| 90/90 [00:00<00:00, 386.84it/s, accuracy=0.75, cost=0.589] "
     ]
    },
    {
     "name": "stdout",
     "output_type": "stream",
     "text": [
      "time taken: 2.7560172080993652\n",
      "epoch: 37, training loss: 0.440552, training acc: 0.809665, valid loss: 0.574864, valid acc: 0.720238\n",
      "\n",
      "break epoch:38\n",
      "\n"
     ]
    },
    {
     "name": "stderr",
     "output_type": "stream",
     "text": [
      "\n"
     ]
    }
   ],
   "source": [
    "from tqdm import tqdm\n",
    "import time\n",
    "\n",
    "batch_size = 32\n",
    "EARLY_STOPPING, CURRENT_CHECKPOINT, CURRENT_ACC, EPOCH = 3, 0, 0, 0\n",
    "\n",
    "while True:\n",
    "    lasttime = time.time()\n",
    "    if CURRENT_CHECKPOINT == EARLY_STOPPING:\n",
    "        print('break epoch:%d\\n' % (EPOCH))\n",
    "        break\n",
    "\n",
    "    train_acc, train_loss, test_acc, test_loss = 0, 0, 0, 0\n",
    "    pbar = tqdm(\n",
    "        range(0, train_X.shape[0], batch_size), desc = 'train minibatch loop'\n",
    "    )\n",
    "    for i in pbar:\n",
    "        batch_x = convert_sparse_matrix_to_sparse_tensor(train_X[i : min(i + batch_size, train_X.shape[0])])\n",
    "        batch_y = train_Y[i : min(i + batch_size, train_X.shape[0])]\n",
    "        batch_x_expand = np.expand_dims(batch_x,axis = 1)\n",
    "        acc, cost, _ = sess.run(\n",
    "            [model.accuracy, model.cost, model.optimizer],\n",
    "            feed_dict = {\n",
    "                model.Y: batch_y,\n",
    "                model.X: batch_x[0],\n",
    "                model.W: batch_x[1],\n",
    "            },\n",
    "        )\n",
    "        assert not np.isnan(cost)\n",
    "        train_loss += cost\n",
    "        train_acc += acc\n",
    "        pbar.set_postfix(cost = cost, accuracy = acc)\n",
    "\n",
    "    pbar = tqdm(range(0, test_X.shape[0], batch_size), desc = 'test minibatch loop')\n",
    "    for i in pbar:\n",
    "        batch_x = convert_sparse_matrix_to_sparse_tensor(test_X[i : min(i + batch_size, test_X.shape[0])])\n",
    "        batch_y = test_Y[i : min(i + batch_size, test_X.shape[0])]\n",
    "        batch_x_expand = np.expand_dims(batch_x,axis = 1)\n",
    "        acc, cost = sess.run(\n",
    "            [model.accuracy, model.cost],\n",
    "            feed_dict = {\n",
    "                model.Y: batch_y,\n",
    "                model.X: batch_x[0],\n",
    "                model.W: batch_x[1],\n",
    "            },\n",
    "        )\n",
    "        test_loss += cost\n",
    "        test_acc += acc\n",
    "        pbar.set_postfix(cost = cost, accuracy = acc)\n",
    "\n",
    "    train_loss /= train_X.shape[0] / batch_size\n",
    "    train_acc /= train_X.shape[0] / batch_size\n",
    "    test_loss /= test_X.shape[0] / batch_size\n",
    "    test_acc /= test_X.shape[0] / batch_size\n",
    "\n",
    "    if test_acc > CURRENT_ACC:\n",
    "        print(\n",
    "            'epoch: %d, pass acc: %f, current acc: %f'\n",
    "            % (EPOCH, CURRENT_ACC, test_acc)\n",
    "        )\n",
    "        CURRENT_ACC = test_acc\n",
    "        CURRENT_CHECKPOINT = 0\n",
    "    else:\n",
    "        CURRENT_CHECKPOINT += 1\n",
    "\n",
    "    print('time taken:', time.time() - lasttime)\n",
    "    print(\n",
    "        'epoch: %d, training loss: %f, training acc: %f, valid loss: %f, valid acc: %f\\n'\n",
    "        % (EPOCH, train_loss, train_acc, test_loss, test_acc)\n",
    "    )\n",
    "    EPOCH += 1"
   ]
  },
  {
   "cell_type": "code",
   "execution_count": 14,
   "metadata": {},
   "outputs": [
    {
     "name": "stderr",
     "output_type": "stream",
     "text": [
      "validation minibatch loop: 100%|██████████| 90/90 [00:00<00:00, 655.27it/s]\n"
     ]
    }
   ],
   "source": [
    "real_Y, predict_Y = [], []\n",
    "\n",
    "pbar = tqdm(\n",
    "    range(0, test_X.shape[0], batch_size), desc = 'validation minibatch loop'\n",
    ")\n",
    "for i in pbar:\n",
    "    batch_x = convert_sparse_matrix_to_sparse_tensor(test_X[i : min(i + batch_size, test_X.shape[0])])\n",
    "    batch_y = test_Y[i : min(i + batch_size, test_X.shape[0])]\n",
    "    predict_Y += np.argmax(\n",
    "        sess.run(\n",
    "            model.logits, feed_dict = {model.X: batch_x[0], model.W: batch_x[1], model.Y: batch_y}\n",
    "        ),\n",
    "        1,\n",
    "    ).tolist()\n",
    "    real_Y += batch_y"
   ]
  },
  {
   "cell_type": "code",
   "execution_count": 15,
   "metadata": {},
   "outputs": [
    {
     "name": "stdout",
     "output_type": "stream",
     "text": [
      "             precision    recall  f1-score   support\n",
      "\n",
      "   negative       0.71      0.64      0.67      1303\n",
      "   positive       0.72      0.78      0.75      1553\n",
      "\n",
      "avg / total       0.71      0.71      0.71      2856\n",
      "\n"
     ]
    }
   ],
   "source": [
    "print(\n",
    "    metrics.classification_report(\n",
    "        real_Y, predict_Y, target_names = ['negative','positive']\n",
    "    )\n",
    ")"
   ]
  },
  {
   "cell_type": "code",
   "execution_count": 16,
   "metadata": {},
   "outputs": [
    {
     "data": {
      "text/plain": [
       "array([[-0.8593565,  0.9225268]], dtype=float32)"
      ]
     },
     "execution_count": 16,
     "metadata": {},
     "output_type": "execute_result"
    }
   ],
   "source": [
    "text = classification_textcleaning('kerajaan sebenarnya sangat sayangkan rakyatnya')\n",
    "transformed = bow_chars.transform([text[0]])\n",
    "batch_x = convert_sparse_matrix_to_sparse_tensor(transformed)\n",
    "sess.run(model.logits, feed_dict = {model.X: batch_x[0], model.W: batch_x[1]})"
   ]
  },
  {
   "cell_type": "code",
   "execution_count": 17,
   "metadata": {},
   "outputs": [
    {
     "data": {
      "text/plain": [
       "'fast-text-char/model.ckpt'"
      ]
     },
     "execution_count": 17,
     "metadata": {},
     "output_type": "execute_result"
    }
   ],
   "source": [
    "saver.save(sess, 'fast-text-char/model.ckpt')"
   ]
  },
  {
   "cell_type": "code",
   "execution_count": 18,
   "metadata": {},
   "outputs": [],
   "source": [
    "import pickle\n",
    "with open('vectorizer-sparse-sentiment.pkl','wb') as fopen:\n",
    "    pickle.dump(bow_chars, fopen)"
   ]
  },
  {
   "cell_type": "code",
   "execution_count": null,
   "metadata": {},
   "outputs": [],
   "source": []
  }
 ],
 "metadata": {
  "kernelspec": {
   "display_name": "Python 3",
   "language": "python",
   "name": "python3"
  },
  "language_info": {
   "codemirror_mode": {
    "name": "ipython",
    "version": 3
   },
   "file_extension": ".py",
   "mimetype": "text/x-python",
   "name": "python",
   "nbconvert_exporter": "python",
   "pygments_lexer": "ipython3",
   "version": "3.5.2"
  }
 },
 "nbformat": 4,
 "nbformat_minor": 2
}
