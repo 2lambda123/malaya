{
 "cells": [
  {
   "cell_type": "code",
   "execution_count": 1,
   "id": "piano-input",
   "metadata": {},
   "outputs": [],
   "source": [
    "import sys\n",
    "import os\n",
    "\n",
    "SOURCE_DIR = os.path.dirname(os.path.dirname(os.path.abspath(__name__)))\n",
    "sys.path.insert(0, SOURCE_DIR)"
   ]
  },
  {
   "cell_type": "code",
   "execution_count": 2,
   "id": "terminal-authentication",
   "metadata": {},
   "outputs": [],
   "source": [
    "import malaya\n",
    "import logging\n",
    "\n",
    "logging.basicConfig(level=logging.DEBUG)"
   ]
  },
  {
   "cell_type": "code",
   "execution_count": 2,
   "id": "celtic-company",
   "metadata": {},
   "outputs": [
    {
     "data": {
      "text/plain": [
       "'/Users/huseinzolkepli/Malaya'"
      ]
     },
     "execution_count": 2,
     "metadata": {},
     "output_type": "execute_result"
    }
   ],
   "source": [
    "malaya.__home__"
   ]
  },
  {
   "cell_type": "code",
   "execution_count": 3,
   "id": "military-opening",
   "metadata": {},
   "outputs": [],
   "source": [
    "model = malaya.emotion.multinomial()\n",
    "print(model.predict_proba(['anjeng']))\n",
    "malaya.utils.delete_cache('emotion/multinomial')"
   ]
  },
  {
   "cell_type": "code",
   "execution_count": 3,
   "id": "boxed-wedding",
   "metadata": {},
   "outputs": [],
   "source": [
    "text = 'Jabatan Penjara Malaysia diperuntukkan RM20 juta laksana program pembangunan Insan kepada banduan. Majikan yang menggaji bekas banduan, bekas penagih dadah diberi potongan cukai tambahan sehingga 2025.'"
   ]
  },
  {
   "cell_type": "code",
   "execution_count": 5,
   "id": "comparative-hands",
   "metadata": {},
   "outputs": [
    {
     "name": "stderr",
     "output_type": "stream",
     "text": [
      "INFO:root:tested on 20% test set.\n",
      "DEBUG:urllib3.connectionpool:Starting new HTTPS connection (1): f000.backblazeb2.com:443\n"
     ]
    },
    {
     "name": "stdout",
     "output_type": "stream",
     "text": [
      "bert\n"
     ]
    },
    {
     "name": "stderr",
     "output_type": "stream",
     "text": [
      "DEBUG:urllib3.connectionpool:https://f000.backblazeb2.com:443 \"HEAD /file/malaya-model/emotion/bert/model.pb HTTP/1.1\" 200 0\n",
      "DEBUG:urllib3.connectionpool:Starting new HTTPS connection (1): f000.backblazeb2.com:443\n",
      "DEBUG:urllib3.connectionpool:https://f000.backblazeb2.com:443 \"HEAD /file/malaya-model/bpe/sp10m.cased.bert.vocab HTTP/1.1\" 200 0\n",
      "DEBUG:urllib3.connectionpool:Starting new HTTPS connection (1): f000.backblazeb2.com:443\n",
      "DEBUG:urllib3.connectionpool:https://f000.backblazeb2.com:443 \"HEAD /file/malaya-model/bpe/sp10m.cased.bert.model HTTP/1.1\" 200 0\n",
      "DEBUG:urllib3.connectionpool:Starting new HTTPS connection (1): f000.backblazeb2.com:443\n",
      "DEBUG:urllib3.connectionpool:https://f000.backblazeb2.com:443 \"HEAD /file/malaya-model/emotion/bert/version HTTP/1.1\" 404 0\n",
      "DEBUG:urllib3.connectionpool:Starting new HTTPS connection (1): f000.backblazeb2.com:443\n"
     ]
    },
    {
     "name": "stdout",
     "output_type": "stream",
     "text": [
      "downloading frozen model to /Users/huseinzolkepli/Malaya/emotion/bert/model.pb\n"
     ]
    },
    {
     "name": "stderr",
     "output_type": "stream",
     "text": [
      "DEBUG:urllib3.connectionpool:https://f000.backblazeb2.com:443 \"GET /file/malaya-model/emotion/bert/model.pb HTTP/1.1\" 200 446317965\n",
      "100%|██████████| 426/426 [01:03<00:00, 6.75MB/s] \n",
      "DEBUG:urllib3.connectionpool:Starting new HTTPS connection (1): f000.backblazeb2.com:443\n"
     ]
    },
    {
     "name": "stdout",
     "output_type": "stream",
     "text": [
      "downloading frozen vocab to /Users/huseinzolkepli/Malaya/emotion/bert/sp10m.cased.bert.vocab\n"
     ]
    },
    {
     "name": "stderr",
     "output_type": "stream",
     "text": [
      "DEBUG:urllib3.connectionpool:https://f000.backblazeb2.com:443 \"GET /file/malaya-model/bpe/sp10m.cased.bert.vocab HTTP/1.1\" 200 568997\n",
      "184%|██████████| 1.00/0.54 [00:00<00:00, 1.03MB/s]\n",
      "DEBUG:urllib3.connectionpool:Starting new HTTPS connection (1): f000.backblazeb2.com:443\n"
     ]
    },
    {
     "name": "stdout",
     "output_type": "stream",
     "text": [
      "downloading frozen tokenizer to /Users/huseinzolkepli/Malaya/emotion/bert/sp10m.cased.bert.model\n"
     ]
    },
    {
     "name": "stderr",
     "output_type": "stream",
     "text": [
      "DEBUG:urllib3.connectionpool:https://f000.backblazeb2.com:443 \"GET /file/malaya-model/bpe/sp10m.cased.bert.model HTTP/1.1\" 200 778744\n",
      "135%|██████████| 1.00/0.74 [00:01<00:00, 1.15s/MB]\n",
      "INFO:root:running emotion/bert using device /device:CPU:0\n",
      "DEBUG:root:['▁anjeng', '▁semua', '▁dan', '▁korang']\n"
     ]
    },
    {
     "name": "stdout",
     "output_type": "stream",
     "text": [
      "[{'anger': 0.99985605, 'fear': 2.1016724e-05, 'happy': 2.7580263e-05, 'love': 1.7199804e-05, 'sadness': 5.7412457e-05, 'surprise': 2.139446e-05}]\n"
     ]
    },
    {
     "name": "stderr",
     "output_type": "stream",
     "text": [
      "DEBUG:urllib3.connectionpool:Starting new HTTPS connection (1): f000.backblazeb2.com:443\n"
     ]
    },
    {
     "name": "stdout",
     "output_type": "stream",
     "text": [
      "tiny-bert\n"
     ]
    },
    {
     "name": "stderr",
     "output_type": "stream",
     "text": [
      "DEBUG:urllib3.connectionpool:https://f000.backblazeb2.com:443 \"HEAD /file/malaya-model/emotion/tiny-bert/model.pb HTTP/1.1\" 200 0\n",
      "DEBUG:urllib3.connectionpool:Starting new HTTPS connection (1): f000.backblazeb2.com:443\n",
      "DEBUG:urllib3.connectionpool:https://f000.backblazeb2.com:443 \"HEAD /file/malaya-model/bpe/sp10m.cased.bert.vocab HTTP/1.1\" 200 0\n",
      "DEBUG:urllib3.connectionpool:Starting new HTTPS connection (1): f000.backblazeb2.com:443\n",
      "DEBUG:urllib3.connectionpool:https://f000.backblazeb2.com:443 \"HEAD /file/malaya-model/bpe/sp10m.cased.bert.model HTTP/1.1\" 200 0\n",
      "DEBUG:urllib3.connectionpool:Starting new HTTPS connection (1): f000.backblazeb2.com:443\n",
      "DEBUG:urllib3.connectionpool:https://f000.backblazeb2.com:443 \"HEAD /file/malaya-model/emotion/tiny-bert/version HTTP/1.1\" 404 0\n",
      "DEBUG:urllib3.connectionpool:Starting new HTTPS connection (1): f000.backblazeb2.com:443\n"
     ]
    },
    {
     "name": "stdout",
     "output_type": "stream",
     "text": [
      "downloading frozen model to /Users/huseinzolkepli/Malaya/emotion/tiny-bert/model.pb\n"
     ]
    },
    {
     "name": "stderr",
     "output_type": "stream",
     "text": [
      "DEBUG:urllib3.connectionpool:https://f000.backblazeb2.com:443 \"GET /file/malaya-model/emotion/tiny-bert/model.pb HTTP/1.1\" 200 60145061\n",
      "58.0MB [00:11, 5.20MB/s]                          \n",
      "DEBUG:urllib3.connectionpool:Starting new HTTPS connection (1): f000.backblazeb2.com:443\n"
     ]
    },
    {
     "name": "stdout",
     "output_type": "stream",
     "text": [
      "downloading frozen vocab to /Users/huseinzolkepli/Malaya/emotion/tiny-bert/sp10m.cased.bert.vocab\n"
     ]
    },
    {
     "name": "stderr",
     "output_type": "stream",
     "text": [
      "DEBUG:urllib3.connectionpool:https://f000.backblazeb2.com:443 \"GET /file/malaya-model/bpe/sp10m.cased.bert.vocab HTTP/1.1\" 200 568997\n",
      "184%|██████████| 1.00/0.54 [00:00<00:00, 1.07MB/s]\n",
      "DEBUG:urllib3.connectionpool:Starting new HTTPS connection (1): f000.backblazeb2.com:443\n"
     ]
    },
    {
     "name": "stdout",
     "output_type": "stream",
     "text": [
      "downloading frozen tokenizer to /Users/huseinzolkepli/Malaya/emotion/tiny-bert/sp10m.cased.bert.model\n"
     ]
    },
    {
     "name": "stderr",
     "output_type": "stream",
     "text": [
      "DEBUG:urllib3.connectionpool:https://f000.backblazeb2.com:443 \"GET /file/malaya-model/bpe/sp10m.cased.bert.model HTTP/1.1\" 200 778744\n",
      "135%|██████████| 1.00/0.74 [00:01<00:00, 1.18s/MB]\n",
      "INFO:root:running emotion/tiny-bert using device /device:CPU:0\n",
      "DEBUG:root:['▁anjeng', '▁semua', '▁dan', '▁korang']\n",
      "DEBUG:urllib3.connectionpool:Starting new HTTPS connection (1): f000.backblazeb2.com:443\n"
     ]
    },
    {
     "name": "stdout",
     "output_type": "stream",
     "text": [
      "[{'anger': 0.9998779, 'fear': 1.9286505e-05, 'happy': 2.1188247e-05, 'love': 3.5431865e-05, 'sadness': 1.6081289e-05, 'surprise': 3.053168e-05}]\n",
      "albert\n"
     ]
    },
    {
     "name": "stderr",
     "output_type": "stream",
     "text": [
      "DEBUG:urllib3.connectionpool:https://f000.backblazeb2.com:443 \"HEAD /file/malaya-model/emotion/albert/model.pb HTTP/1.1\" 200 0\n",
      "DEBUG:urllib3.connectionpool:Starting new HTTPS connection (1): f000.backblazeb2.com:443\n",
      "DEBUG:urllib3.connectionpool:https://f000.backblazeb2.com:443 \"HEAD /file/malaya-model/bpe/sp10m.cased.v10.vocab HTTP/1.1\" 200 0\n",
      "DEBUG:urllib3.connectionpool:Starting new HTTPS connection (1): f000.backblazeb2.com:443\n",
      "DEBUG:urllib3.connectionpool:https://f000.backblazeb2.com:443 \"HEAD /file/malaya-model/bpe/sp10m.cased.v10.model HTTP/1.1\" 200 0\n",
      "DEBUG:urllib3.connectionpool:Starting new HTTPS connection (1): f000.backblazeb2.com:443\n",
      "DEBUG:urllib3.connectionpool:https://f000.backblazeb2.com:443 \"HEAD /file/malaya-model/emotion/albert/version HTTP/1.1\" 404 0\n",
      "DEBUG:urllib3.connectionpool:Starting new HTTPS connection (1): f000.backblazeb2.com:443\n"
     ]
    },
    {
     "name": "stdout",
     "output_type": "stream",
     "text": [
      "downloading frozen model to /Users/huseinzolkepli/Malaya/emotion/albert/model.pb\n"
     ]
    },
    {
     "name": "stderr",
     "output_type": "stream",
     "text": [
      "DEBUG:urllib3.connectionpool:https://f000.backblazeb2.com:443 \"GET /file/malaya-model/emotion/albert/model.pb HTTP/1.1\" 200 50953442\n",
      "101%|██████████| 49.0/48.6 [00:08<00:00, 5.58MB/s]\n",
      "DEBUG:urllib3.connectionpool:Starting new HTTPS connection (1): f000.backblazeb2.com:443\n"
     ]
    },
    {
     "name": "stdout",
     "output_type": "stream",
     "text": [
      "downloading frozen vocab to /Users/huseinzolkepli/Malaya/emotion/albert/sp10m.cased.v10.vocab\n"
     ]
    },
    {
     "name": "stderr",
     "output_type": "stream",
     "text": [
      "DEBUG:urllib3.connectionpool:https://f000.backblazeb2.com:443 \"GET /file/malaya-model/bpe/sp10m.cased.v10.vocab HTTP/1.1\" 200 569013\n",
      "184%|██████████| 1.00/0.54 [00:01<00:00, 1.02s/MB]\n",
      "DEBUG:urllib3.connectionpool:Starting new HTTPS connection (1): f000.backblazeb2.com:443\n"
     ]
    },
    {
     "name": "stdout",
     "output_type": "stream",
     "text": [
      "downloading frozen tokenizer to /Users/huseinzolkepli/Malaya/emotion/albert/sp10m.cased.v10.model\n"
     ]
    },
    {
     "name": "stderr",
     "output_type": "stream",
     "text": [
      "DEBUG:urllib3.connectionpool:https://f000.backblazeb2.com:443 \"GET /file/malaya-model/bpe/sp10m.cased.v10.model HTTP/1.1\" 200 778641\n",
      "135%|██████████| 1.00/0.74 [00:01<00:00, 1.21s/MB]\n",
      "INFO:root:running emotion/albert using device /device:CPU:0\n",
      "DEBUG:root:['▁anjeng', '▁semua', '▁dan', '▁korang']\n",
      "DEBUG:urllib3.connectionpool:Starting new HTTPS connection (1): f000.backblazeb2.com:443\n"
     ]
    },
    {
     "name": "stdout",
     "output_type": "stream",
     "text": [
      "[{'anger': 0.9988544, 'fear': 3.116131e-05, 'happy': 0.000590401, 'love': 0.0003063284, 'sadness': 3.1299805e-05, 'surprise': 0.00018620289}]\n",
      "tiny-albert\n"
     ]
    },
    {
     "name": "stderr",
     "output_type": "stream",
     "text": [
      "DEBUG:urllib3.connectionpool:https://f000.backblazeb2.com:443 \"HEAD /file/malaya-model/emotion/tiny-albert/model.pb HTTP/1.1\" 200 0\n",
      "DEBUG:urllib3.connectionpool:Starting new HTTPS connection (1): f000.backblazeb2.com:443\n",
      "DEBUG:urllib3.connectionpool:https://f000.backblazeb2.com:443 \"HEAD /file/malaya-model/bpe/sp10m.cased.v10.vocab HTTP/1.1\" 200 0\n",
      "DEBUG:urllib3.connectionpool:Starting new HTTPS connection (1): f000.backblazeb2.com:443\n",
      "DEBUG:urllib3.connectionpool:https://f000.backblazeb2.com:443 \"HEAD /file/malaya-model/bpe/sp10m.cased.v10.model HTTP/1.1\" 200 0\n",
      "DEBUG:urllib3.connectionpool:Starting new HTTPS connection (1): f000.backblazeb2.com:443\n",
      "DEBUG:urllib3.connectionpool:https://f000.backblazeb2.com:443 \"HEAD /file/malaya-model/emotion/tiny-albert/version HTTP/1.1\" 404 0\n",
      "DEBUG:urllib3.connectionpool:Starting new HTTPS connection (1): f000.backblazeb2.com:443\n"
     ]
    },
    {
     "name": "stdout",
     "output_type": "stream",
     "text": [
      "downloading frozen model to /Users/huseinzolkepli/Malaya/emotion/tiny-albert/model.pb\n"
     ]
    },
    {
     "name": "stderr",
     "output_type": "stream",
     "text": [
      "DEBUG:urllib3.connectionpool:https://f000.backblazeb2.com:443 \"GET /file/malaya-model/emotion/tiny-albert/model.pb HTTP/1.1\" 200 23968030\n",
      "101%|██████████| 23.0/22.9 [00:04<00:00, 5.12MB/s]\n",
      "DEBUG:urllib3.connectionpool:Starting new HTTPS connection (1): f000.backblazeb2.com:443\n"
     ]
    },
    {
     "name": "stdout",
     "output_type": "stream",
     "text": [
      "downloading frozen vocab to /Users/huseinzolkepli/Malaya/emotion/tiny-albert/sp10m.cased.v10.vocab\n"
     ]
    },
    {
     "name": "stderr",
     "output_type": "stream",
     "text": [
      "DEBUG:urllib3.connectionpool:https://f000.backblazeb2.com:443 \"GET /file/malaya-model/bpe/sp10m.cased.v10.vocab HTTP/1.1\" 200 569013\n",
      "184%|██████████| 1.00/0.54 [00:00<00:00, 1.01MB/s]\n",
      "DEBUG:urllib3.connectionpool:Starting new HTTPS connection (1): f000.backblazeb2.com:443\n"
     ]
    },
    {
     "name": "stdout",
     "output_type": "stream",
     "text": [
      "downloading frozen tokenizer to /Users/huseinzolkepli/Malaya/emotion/tiny-albert/sp10m.cased.v10.model\n"
     ]
    },
    {
     "name": "stderr",
     "output_type": "stream",
     "text": [
      "DEBUG:urllib3.connectionpool:https://f000.backblazeb2.com:443 \"GET /file/malaya-model/bpe/sp10m.cased.v10.model HTTP/1.1\" 200 778641\n",
      "135%|██████████| 1.00/0.74 [00:01<00:00, 1.23s/MB]\n",
      "INFO:root:running emotion/tiny-albert using device /device:CPU:0\n",
      "DEBUG:root:['▁anjeng', '▁semua', '▁dan', '▁korang']\n",
      "DEBUG:urllib3.connectionpool:Starting new HTTPS connection (1): f000.backblazeb2.com:443\n"
     ]
    },
    {
     "name": "stdout",
     "output_type": "stream",
     "text": [
      "[{'anger': 0.9988696, 'fear': 0.00034190583, 'happy': 0.00012861515, 'love': 0.0004241244, 'sadness': 9.424604e-05, 'surprise': 0.00014141666}]\n",
      "xlnet\n"
     ]
    },
    {
     "name": "stderr",
     "output_type": "stream",
     "text": [
      "DEBUG:urllib3.connectionpool:https://f000.backblazeb2.com:443 \"HEAD /file/malaya-model/emotion/xlnet/model.pb HTTP/1.1\" 200 0\n",
      "DEBUG:urllib3.connectionpool:Starting new HTTPS connection (1): f000.backblazeb2.com:443\n",
      "DEBUG:urllib3.connectionpool:https://f000.backblazeb2.com:443 \"HEAD /file/malaya-model/bpe/sp10m.cased.v9.vocab HTTP/1.1\" 200 0\n",
      "DEBUG:urllib3.connectionpool:Starting new HTTPS connection (1): f000.backblazeb2.com:443\n",
      "DEBUG:urllib3.connectionpool:https://f000.backblazeb2.com:443 \"HEAD /file/malaya-model/bpe/sp10m.cased.v9.model HTTP/1.1\" 200 0\n",
      "DEBUG:urllib3.connectionpool:Starting new HTTPS connection (1): f000.backblazeb2.com:443\n",
      "DEBUG:urllib3.connectionpool:https://f000.backblazeb2.com:443 \"HEAD /file/malaya-model/emotion/xlnet/version HTTP/1.1\" 404 0\n",
      "DEBUG:urllib3.connectionpool:Starting new HTTPS connection (1): f000.backblazeb2.com:443\n"
     ]
    },
    {
     "name": "stdout",
     "output_type": "stream",
     "text": [
      "downloading frozen model to /Users/huseinzolkepli/Malaya/emotion/xlnet/model.pb\n"
     ]
    },
    {
     "name": "stderr",
     "output_type": "stream",
     "text": [
      "DEBUG:urllib3.connectionpool:https://f000.backblazeb2.com:443 \"GET /file/malaya-model/emotion/xlnet/model.pb HTTP/1.1\" 200 468196557\n",
      "100%|██████████| 447/447 [01:25<00:00, 5.24MB/s] \n",
      "DEBUG:urllib3.connectionpool:Starting new HTTPS connection (1): f000.backblazeb2.com:443\n"
     ]
    },
    {
     "name": "stdout",
     "output_type": "stream",
     "text": [
      "downloading frozen vocab to /Users/huseinzolkepli/Malaya/emotion/xlnet/sp10m.cased.v9.vocab\n"
     ]
    },
    {
     "name": "stderr",
     "output_type": "stream",
     "text": [
      "DEBUG:urllib3.connectionpool:https://f000.backblazeb2.com:443 \"GET /file/malaya-model/bpe/sp10m.cased.v9.vocab HTTP/1.1\" 200 568997\n",
      "184%|██████████| 1.00/0.54 [00:00<00:00, 1.06MB/s]\n",
      "DEBUG:urllib3.connectionpool:Starting new HTTPS connection (1): f000.backblazeb2.com:443\n"
     ]
    },
    {
     "name": "stdout",
     "output_type": "stream",
     "text": [
      "downloading frozen tokenizer to /Users/huseinzolkepli/Malaya/emotion/xlnet/sp10m.cased.v9.model\n"
     ]
    },
    {
     "name": "stderr",
     "output_type": "stream",
     "text": [
      "DEBUG:urllib3.connectionpool:https://f000.backblazeb2.com:443 \"GET /file/malaya-model/bpe/sp10m.cased.v9.model HTTP/1.1\" 200 778744\n",
      "135%|██████████| 1.00/0.74 [00:01<00:00, 1.22s/MB]\n",
      "INFO:root:running emotion/xlnet using device /device:CPU:0\n",
      "DEBUG:root:['▁anjeng', '▁semua', '▁dan', '▁korang']\n",
      "DEBUG:root:[27591, 86, 24, 499, 4, 3]\n"
     ]
    },
    {
     "name": "stdout",
     "output_type": "stream",
     "text": [
      "[{'anger': 1.0, 'fear': 9.86441e-10, 'happy': 1.7656744e-08, 'love': 1.6443727e-10, 'sadness': 1.877792e-11, 'surprise': 3.0050287e-10}]\n"
     ]
    },
    {
     "name": "stderr",
     "output_type": "stream",
     "text": [
      "DEBUG:urllib3.connectionpool:Starting new HTTPS connection (1): f000.backblazeb2.com:443\n"
     ]
    },
    {
     "name": "stdout",
     "output_type": "stream",
     "text": [
      "alxlnet\n"
     ]
    },
    {
     "name": "stderr",
     "output_type": "stream",
     "text": [
      "DEBUG:urllib3.connectionpool:https://f000.backblazeb2.com:443 \"HEAD /file/malaya-model/emotion/alxlnet/model.pb HTTP/1.1\" 200 0\n",
      "DEBUG:urllib3.connectionpool:Starting new HTTPS connection (1): f000.backblazeb2.com:443\n",
      "DEBUG:urllib3.connectionpool:https://f000.backblazeb2.com:443 \"HEAD /file/malaya-model/bpe/sp10m.cased.v9.vocab HTTP/1.1\" 200 0\n",
      "DEBUG:urllib3.connectionpool:Starting new HTTPS connection (1): f000.backblazeb2.com:443\n",
      "DEBUG:urllib3.connectionpool:https://f000.backblazeb2.com:443 \"HEAD /file/malaya-model/bpe/sp10m.cased.v9.model HTTP/1.1\" 200 0\n",
      "DEBUG:urllib3.connectionpool:Starting new HTTPS connection (1): f000.backblazeb2.com:443\n",
      "DEBUG:urllib3.connectionpool:https://f000.backblazeb2.com:443 \"HEAD /file/malaya-model/emotion/alxlnet/version HTTP/1.1\" 404 0\n",
      "DEBUG:urllib3.connectionpool:Starting new HTTPS connection (1): f000.backblazeb2.com:443\n"
     ]
    },
    {
     "name": "stdout",
     "output_type": "stream",
     "text": [
      "downloading frozen model to /Users/huseinzolkepli/Malaya/emotion/alxlnet/model.pb\n"
     ]
    },
    {
     "name": "stderr",
     "output_type": "stream",
     "text": [
      "DEBUG:urllib3.connectionpool:https://f000.backblazeb2.com:443 \"GET /file/malaya-model/emotion/alxlnet/model.pb HTTP/1.1\" 200 49051213\n",
      "100%|██████████| 47.0/46.8 [00:07<00:00, 6.30MB/s]\n",
      "DEBUG:urllib3.connectionpool:Starting new HTTPS connection (1): f000.backblazeb2.com:443\n"
     ]
    },
    {
     "name": "stdout",
     "output_type": "stream",
     "text": [
      "downloading frozen vocab to /Users/huseinzolkepli/Malaya/emotion/alxlnet/sp10m.cased.v9.vocab\n"
     ]
    },
    {
     "name": "stderr",
     "output_type": "stream",
     "text": [
      "DEBUG:urllib3.connectionpool:https://f000.backblazeb2.com:443 \"GET /file/malaya-model/bpe/sp10m.cased.v9.vocab HTTP/1.1\" 200 568997\n",
      "184%|██████████| 1.00/0.54 [00:00<00:00, 1.09MB/s]\n",
      "DEBUG:urllib3.connectionpool:Starting new HTTPS connection (1): f000.backblazeb2.com:443\n"
     ]
    },
    {
     "name": "stdout",
     "output_type": "stream",
     "text": [
      "downloading frozen tokenizer to /Users/huseinzolkepli/Malaya/emotion/alxlnet/sp10m.cased.v9.model\n"
     ]
    },
    {
     "name": "stderr",
     "output_type": "stream",
     "text": [
      "DEBUG:urllib3.connectionpool:https://f000.backblazeb2.com:443 \"GET /file/malaya-model/bpe/sp10m.cased.v9.model HTTP/1.1\" 200 778744\n",
      "135%|██████████| 1.00/0.74 [00:01<00:00, 1.21s/MB]\n",
      "INFO:root:running emotion/alxlnet using device /device:CPU:0\n",
      "DEBUG:root:['▁anjeng', '▁semua', '▁dan', '▁korang']\n",
      "DEBUG:root:[27591, 86, 24, 499, 4, 3]\n"
     ]
    },
    {
     "name": "stdout",
     "output_type": "stream",
     "text": [
      "[{'anger': 0.999877, 'fear': 2.5445883e-05, 'happy': 2.9125047e-06, 'love': 1.5567608e-05, 'sadness': 1.1203499e-05, 'surprise': 6.759836e-05}]\n"
     ]
    }
   ],
   "source": [
    "models = malaya.emotion.available_transformer()\n",
    "for m in models.index:\n",
    "    print(m)\n",
    "    model = malaya.emotion.transformer(model = m, gpu_limit = 0.3)\n",
    "    print(model.predict_proba([text]))\n",
    "    print(model.predict_words(text, visualization = False))\n",
    "    malaya.utils.delete_cache(f'emotion/{m}')\n",
    "    del model"
   ]
  },
  {
   "cell_type": "code",
   "execution_count": 6,
   "id": "beginning-hearts",
   "metadata": {},
   "outputs": [
    {
     "name": "stderr",
     "output_type": "stream",
     "text": [
      "INFO:root:tested on 20% test set.\n",
      "DEBUG:urllib3.connectionpool:Starting new HTTPS connection (1): f000.backblazeb2.com:443\n"
     ]
    },
    {
     "name": "stdout",
     "output_type": "stream",
     "text": [
      "bert\n"
     ]
    },
    {
     "name": "stderr",
     "output_type": "stream",
     "text": [
      "DEBUG:urllib3.connectionpool:https://f000.backblazeb2.com:443 \"HEAD /file/malaya-model/sentiment/bert/model.pb HTTP/1.1\" 200 0\n",
      "DEBUG:urllib3.connectionpool:Starting new HTTPS connection (1): f000.backblazeb2.com:443\n",
      "DEBUG:urllib3.connectionpool:https://f000.backblazeb2.com:443 \"HEAD /file/malaya-model/bpe/sp10m.cased.bert.vocab HTTP/1.1\" 200 0\n",
      "DEBUG:urllib3.connectionpool:Starting new HTTPS connection (1): f000.backblazeb2.com:443\n",
      "DEBUG:urllib3.connectionpool:https://f000.backblazeb2.com:443 \"HEAD /file/malaya-model/bpe/sp10m.cased.bert.model HTTP/1.1\" 200 0\n",
      "DEBUG:urllib3.connectionpool:Starting new HTTPS connection (1): f000.backblazeb2.com:443\n",
      "DEBUG:urllib3.connectionpool:https://f000.backblazeb2.com:443 \"HEAD /file/malaya-model/sentiment/bert/version HTTP/1.1\" 404 0\n",
      "DEBUG:urllib3.connectionpool:Starting new HTTPS connection (1): f000.backblazeb2.com:443\n"
     ]
    },
    {
     "name": "stdout",
     "output_type": "stream",
     "text": [
      "downloading frozen model to /Users/huseinzolkepli/Malaya/sentiment/bert/model.pb\n"
     ]
    },
    {
     "name": "stderr",
     "output_type": "stream",
     "text": [
      "DEBUG:urllib3.connectionpool:https://f000.backblazeb2.com:443 \"GET /file/malaya-model/sentiment/bert/model.pb HTTP/1.1\" 200 446305656\n",
      "100%|██████████| 426/426 [01:11<00:00, 5.95MB/s] \n",
      "DEBUG:urllib3.connectionpool:Starting new HTTPS connection (1): f000.backblazeb2.com:443\n"
     ]
    },
    {
     "name": "stdout",
     "output_type": "stream",
     "text": [
      "downloading frozen vocab to /Users/huseinzolkepli/Malaya/sentiment/bert/sp10m.cased.bert.vocab\n"
     ]
    },
    {
     "name": "stderr",
     "output_type": "stream",
     "text": [
      "DEBUG:urllib3.connectionpool:https://f000.backblazeb2.com:443 \"GET /file/malaya-model/bpe/sp10m.cased.bert.vocab HTTP/1.1\" 200 568997\n",
      "184%|██████████| 1.00/0.54 [00:01<00:00, 1.03s/MB]\n",
      "DEBUG:urllib3.connectionpool:Starting new HTTPS connection (1): f000.backblazeb2.com:443\n"
     ]
    },
    {
     "name": "stdout",
     "output_type": "stream",
     "text": [
      "downloading frozen tokenizer to /Users/huseinzolkepli/Malaya/sentiment/bert/sp10m.cased.bert.model\n"
     ]
    },
    {
     "name": "stderr",
     "output_type": "stream",
     "text": [
      "DEBUG:urllib3.connectionpool:https://f000.backblazeb2.com:443 \"GET /file/malaya-model/bpe/sp10m.cased.bert.model HTTP/1.1\" 200 778744\n",
      "135%|██████████| 1.00/0.74 [00:01<00:00, 1.16s/MB]\n",
      "INFO:root:running sentiment/bert using device /device:CPU:0\n",
      "DEBUG:root:['▁anjeng', '▁semua', '▁dan', '▁korang']\n"
     ]
    },
    {
     "name": "stdout",
     "output_type": "stream",
     "text": [
      "[{'negative': 0.17420685, 'positive': 0.008257931, 'neutral': 0.8175352}]\n"
     ]
    },
    {
     "name": "stderr",
     "output_type": "stream",
     "text": [
      "DEBUG:urllib3.connectionpool:Starting new HTTPS connection (1): f000.backblazeb2.com:443\n"
     ]
    },
    {
     "name": "stdout",
     "output_type": "stream",
     "text": [
      "tiny-bert\n"
     ]
    },
    {
     "name": "stderr",
     "output_type": "stream",
     "text": [
      "DEBUG:urllib3.connectionpool:https://f000.backblazeb2.com:443 \"HEAD /file/malaya-model/sentiment/tiny-bert/model.pb HTTP/1.1\" 200 0\n",
      "DEBUG:urllib3.connectionpool:Starting new HTTPS connection (1): f000.backblazeb2.com:443\n",
      "DEBUG:urllib3.connectionpool:https://f000.backblazeb2.com:443 \"HEAD /file/malaya-model/bpe/sp10m.cased.bert.vocab HTTP/1.1\" 200 0\n",
      "DEBUG:urllib3.connectionpool:Starting new HTTPS connection (1): f000.backblazeb2.com:443\n",
      "DEBUG:urllib3.connectionpool:https://f000.backblazeb2.com:443 \"HEAD /file/malaya-model/bpe/sp10m.cased.bert.model HTTP/1.1\" 200 0\n",
      "DEBUG:urllib3.connectionpool:Starting new HTTPS connection (1): f000.backblazeb2.com:443\n",
      "DEBUG:urllib3.connectionpool:https://f000.backblazeb2.com:443 \"HEAD /file/malaya-model/sentiment/tiny-bert/version HTTP/1.1\" 404 0\n",
      "DEBUG:urllib3.connectionpool:Starting new HTTPS connection (1): f000.backblazeb2.com:443\n"
     ]
    },
    {
     "name": "stdout",
     "output_type": "stream",
     "text": [
      "downloading frozen model to /Users/huseinzolkepli/Malaya/sentiment/tiny-bert/model.pb\n"
     ]
    },
    {
     "name": "stderr",
     "output_type": "stream",
     "text": [
      "DEBUG:urllib3.connectionpool:https://f000.backblazeb2.com:443 \"GET /file/malaya-model/sentiment/tiny-bert/model.pb HTTP/1.1\" 200 60140053\n",
      "58.0MB [00:07, 7.26MB/s]                          \n",
      "DEBUG:urllib3.connectionpool:Starting new HTTPS connection (1): f000.backblazeb2.com:443\n"
     ]
    },
    {
     "name": "stdout",
     "output_type": "stream",
     "text": [
      "downloading frozen vocab to /Users/huseinzolkepli/Malaya/sentiment/tiny-bert/sp10m.cased.bert.vocab\n"
     ]
    },
    {
     "name": "stderr",
     "output_type": "stream",
     "text": [
      "DEBUG:urllib3.connectionpool:https://f000.backblazeb2.com:443 \"GET /file/malaya-model/bpe/sp10m.cased.bert.vocab HTTP/1.1\" 200 568997\n",
      "184%|██████████| 1.00/0.54 [00:01<00:00, 1.02s/MB]\n",
      "DEBUG:urllib3.connectionpool:Starting new HTTPS connection (1): f000.backblazeb2.com:443\n"
     ]
    },
    {
     "name": "stdout",
     "output_type": "stream",
     "text": [
      "downloading frozen tokenizer to /Users/huseinzolkepli/Malaya/sentiment/tiny-bert/sp10m.cased.bert.model\n"
     ]
    },
    {
     "name": "stderr",
     "output_type": "stream",
     "text": [
      "DEBUG:urllib3.connectionpool:https://f000.backblazeb2.com:443 \"GET /file/malaya-model/bpe/sp10m.cased.bert.model HTTP/1.1\" 200 778744\n",
      "135%|██████████| 1.00/0.74 [00:01<00:00, 1.21s/MB]\n",
      "INFO:root:running sentiment/tiny-bert using device /device:CPU:0\n",
      "DEBUG:root:['▁anjeng', '▁semua', '▁dan', '▁korang']\n",
      "DEBUG:urllib3.connectionpool:Starting new HTTPS connection (1): f000.backblazeb2.com:443\n"
     ]
    },
    {
     "name": "stdout",
     "output_type": "stream",
     "text": [
      "[{'negative': 0.99512255, 'positive': 4.8775608e-05, 'neutral': 0.0048286915}]\n",
      "albert\n"
     ]
    },
    {
     "name": "stderr",
     "output_type": "stream",
     "text": [
      "DEBUG:urllib3.connectionpool:https://f000.backblazeb2.com:443 \"HEAD /file/malaya-model/sentiment/albert/model.pb HTTP/1.1\" 200 0\n",
      "DEBUG:urllib3.connectionpool:Starting new HTTPS connection (1): f000.backblazeb2.com:443\n",
      "DEBUG:urllib3.connectionpool:https://f000.backblazeb2.com:443 \"HEAD /file/malaya-model/bpe/sp10m.cased.v10.vocab HTTP/1.1\" 200 0\n",
      "DEBUG:urllib3.connectionpool:Starting new HTTPS connection (1): f000.backblazeb2.com:443\n",
      "DEBUG:urllib3.connectionpool:https://f000.backblazeb2.com:443 \"HEAD /file/malaya-model/bpe/sp10m.cased.v10.model HTTP/1.1\" 200 0\n",
      "DEBUG:urllib3.connectionpool:Starting new HTTPS connection (1): f000.backblazeb2.com:443\n",
      "DEBUG:urllib3.connectionpool:https://f000.backblazeb2.com:443 \"HEAD /file/malaya-model/sentiment/albert/version HTTP/1.1\" 404 0\n",
      "DEBUG:urllib3.connectionpool:Starting new HTTPS connection (1): f000.backblazeb2.com:443\n"
     ]
    },
    {
     "name": "stdout",
     "output_type": "stream",
     "text": [
      "downloading frozen model to /Users/huseinzolkepli/Malaya/sentiment/albert/model.pb\n"
     ]
    },
    {
     "name": "stderr",
     "output_type": "stream",
     "text": [
      "DEBUG:urllib3.connectionpool:https://f000.backblazeb2.com:443 \"GET /file/malaya-model/sentiment/albert/model.pb HTTP/1.1\" 200 50941133\n",
      "101%|██████████| 49.0/48.6 [00:08<00:00, 5.55MB/s]\n",
      "DEBUG:urllib3.connectionpool:Starting new HTTPS connection (1): f000.backblazeb2.com:443\n"
     ]
    },
    {
     "name": "stdout",
     "output_type": "stream",
     "text": [
      "downloading frozen vocab to /Users/huseinzolkepli/Malaya/sentiment/albert/sp10m.cased.v10.vocab\n"
     ]
    },
    {
     "name": "stderr",
     "output_type": "stream",
     "text": [
      "DEBUG:urllib3.connectionpool:https://f000.backblazeb2.com:443 \"GET /file/malaya-model/bpe/sp10m.cased.v10.vocab HTTP/1.1\" 200 569013\n",
      "184%|██████████| 1.00/0.54 [00:00<00:00, 1.04MB/s]\n",
      "DEBUG:urllib3.connectionpool:Starting new HTTPS connection (1): f000.backblazeb2.com:443\n"
     ]
    },
    {
     "name": "stdout",
     "output_type": "stream",
     "text": [
      "downloading frozen tokenizer to /Users/huseinzolkepli/Malaya/sentiment/albert/sp10m.cased.v10.model\n"
     ]
    },
    {
     "name": "stderr",
     "output_type": "stream",
     "text": [
      "DEBUG:urllib3.connectionpool:https://f000.backblazeb2.com:443 \"GET /file/malaya-model/bpe/sp10m.cased.v10.model HTTP/1.1\" 200 778641\n",
      "135%|██████████| 1.00/0.74 [00:01<00:00, 1.18s/MB]\n",
      "INFO:root:running sentiment/albert using device /device:CPU:0\n",
      "DEBUG:root:['▁anjeng', '▁semua', '▁dan', '▁korang']\n",
      "DEBUG:urllib3.connectionpool:Starting new HTTPS connection (1): f000.backblazeb2.com:443\n"
     ]
    },
    {
     "name": "stdout",
     "output_type": "stream",
     "text": [
      "[{'negative': 0.0014824296, 'positive': 0.85175717, 'neutral': 0.1467604}]\n",
      "tiny-albert\n"
     ]
    },
    {
     "name": "stderr",
     "output_type": "stream",
     "text": [
      "DEBUG:urllib3.connectionpool:https://f000.backblazeb2.com:443 \"HEAD /file/malaya-model/sentiment/tiny-albert/model.pb HTTP/1.1\" 200 0\n",
      "DEBUG:urllib3.connectionpool:Starting new HTTPS connection (1): f000.backblazeb2.com:443\n",
      "DEBUG:urllib3.connectionpool:https://f000.backblazeb2.com:443 \"HEAD /file/malaya-model/bpe/sp10m.cased.v10.vocab HTTP/1.1\" 200 0\n",
      "DEBUG:urllib3.connectionpool:Starting new HTTPS connection (1): f000.backblazeb2.com:443\n",
      "DEBUG:urllib3.connectionpool:https://f000.backblazeb2.com:443 \"HEAD /file/malaya-model/bpe/sp10m.cased.v10.model HTTP/1.1\" 200 0\n",
      "DEBUG:urllib3.connectionpool:Starting new HTTPS connection (1): f000.backblazeb2.com:443\n",
      "DEBUG:urllib3.connectionpool:https://f000.backblazeb2.com:443 \"HEAD /file/malaya-model/sentiment/tiny-albert/version HTTP/1.1\" 404 0\n",
      "DEBUG:urllib3.connectionpool:Starting new HTTPS connection (1): f000.backblazeb2.com:443\n"
     ]
    },
    {
     "name": "stdout",
     "output_type": "stream",
     "text": [
      "downloading frozen model to /Users/huseinzolkepli/Malaya/sentiment/tiny-albert/model.pb\n"
     ]
    },
    {
     "name": "stderr",
     "output_type": "stream",
     "text": [
      "DEBUG:urllib3.connectionpool:https://f000.backblazeb2.com:443 \"GET /file/malaya-model/sentiment/tiny-albert/model.pb HTTP/1.1\" 200 23455955\n",
      "23.0MB [00:04, 5.55MB/s]                          \n",
      "DEBUG:urllib3.connectionpool:Starting new HTTPS connection (1): f000.backblazeb2.com:443\n"
     ]
    },
    {
     "name": "stdout",
     "output_type": "stream",
     "text": [
      "downloading frozen vocab to /Users/huseinzolkepli/Malaya/sentiment/tiny-albert/sp10m.cased.v10.vocab\n"
     ]
    },
    {
     "name": "stderr",
     "output_type": "stream",
     "text": [
      "DEBUG:urllib3.connectionpool:https://f000.backblazeb2.com:443 \"GET /file/malaya-model/bpe/sp10m.cased.v10.vocab HTTP/1.1\" 200 569013\n",
      "184%|██████████| 1.00/0.54 [00:00<00:00, 1.01MB/s]\n",
      "DEBUG:urllib3.connectionpool:Starting new HTTPS connection (1): f000.backblazeb2.com:443\n"
     ]
    },
    {
     "name": "stdout",
     "output_type": "stream",
     "text": [
      "downloading frozen tokenizer to /Users/huseinzolkepli/Malaya/sentiment/tiny-albert/sp10m.cased.v10.model\n"
     ]
    },
    {
     "name": "stderr",
     "output_type": "stream",
     "text": [
      "DEBUG:urllib3.connectionpool:https://f000.backblazeb2.com:443 \"GET /file/malaya-model/bpe/sp10m.cased.v10.model HTTP/1.1\" 200 778641\n",
      "135%|██████████| 1.00/0.74 [00:01<00:00, 1.20s/MB]\n",
      "INFO:root:running sentiment/tiny-albert using device /device:CPU:0\n",
      "DEBUG:root:['▁anjeng', '▁semua', '▁dan', '▁korang']\n",
      "DEBUG:urllib3.connectionpool:Starting new HTTPS connection (1): f000.backblazeb2.com:443\n"
     ]
    },
    {
     "name": "stdout",
     "output_type": "stream",
     "text": [
      "[{'negative': 0.9921644, 'positive': 7.835672e-05, 'neutral': 0.0077572465}]\n",
      "xlnet\n"
     ]
    },
    {
     "name": "stderr",
     "output_type": "stream",
     "text": [
      "DEBUG:urllib3.connectionpool:https://f000.backblazeb2.com:443 \"HEAD /file/malaya-model/sentiment/xlnet/model.pb HTTP/1.1\" 200 0\n",
      "DEBUG:urllib3.connectionpool:Starting new HTTPS connection (1): f000.backblazeb2.com:443\n",
      "DEBUG:urllib3.connectionpool:https://f000.backblazeb2.com:443 \"HEAD /file/malaya-model/bpe/sp10m.cased.v9.vocab HTTP/1.1\" 200 0\n",
      "DEBUG:urllib3.connectionpool:Starting new HTTPS connection (1): f000.backblazeb2.com:443\n",
      "DEBUG:urllib3.connectionpool:https://f000.backblazeb2.com:443 \"HEAD /file/malaya-model/bpe/sp10m.cased.v9.model HTTP/1.1\" 200 0\n",
      "DEBUG:urllib3.connectionpool:Starting new HTTPS connection (1): f000.backblazeb2.com:443\n",
      "DEBUG:urllib3.connectionpool:https://f000.backblazeb2.com:443 \"HEAD /file/malaya-model/sentiment/xlnet/version HTTP/1.1\" 404 0\n",
      "DEBUG:urllib3.connectionpool:Starting new HTTPS connection (1): f000.backblazeb2.com:443\n"
     ]
    },
    {
     "name": "stdout",
     "output_type": "stream",
     "text": [
      "downloading frozen model to /Users/huseinzolkepli/Malaya/sentiment/xlnet/model.pb\n"
     ]
    },
    {
     "name": "stderr",
     "output_type": "stream",
     "text": [
      "DEBUG:urllib3.connectionpool:https://f000.backblazeb2.com:443 \"GET /file/malaya-model/sentiment/xlnet/model.pb HTTP/1.1\" 200 468184248\n",
      "447MB [01:14, 6.02MB/s]                          \n",
      "DEBUG:urllib3.connectionpool:Starting new HTTPS connection (1): f000.backblazeb2.com:443\n"
     ]
    },
    {
     "name": "stdout",
     "output_type": "stream",
     "text": [
      "downloading frozen vocab to /Users/huseinzolkepli/Malaya/sentiment/xlnet/sp10m.cased.v9.vocab\n"
     ]
    },
    {
     "name": "stderr",
     "output_type": "stream",
     "text": [
      "DEBUG:urllib3.connectionpool:https://f000.backblazeb2.com:443 \"GET /file/malaya-model/bpe/sp10m.cased.v9.vocab HTTP/1.1\" 200 568997\n",
      "184%|██████████| 1.00/0.54 [00:01<00:00, 1.09s/MB]\n",
      "DEBUG:urllib3.connectionpool:Starting new HTTPS connection (1): f000.backblazeb2.com:443\n"
     ]
    },
    {
     "name": "stdout",
     "output_type": "stream",
     "text": [
      "downloading frozen tokenizer to /Users/huseinzolkepli/Malaya/sentiment/xlnet/sp10m.cased.v9.model\n"
     ]
    },
    {
     "name": "stderr",
     "output_type": "stream",
     "text": [
      "DEBUG:urllib3.connectionpool:https://f000.backblazeb2.com:443 \"GET /file/malaya-model/bpe/sp10m.cased.v9.model HTTP/1.1\" 200 778744\n",
      "135%|██████████| 1.00/0.74 [00:01<00:00, 1.05s/MB]\n",
      "INFO:root:running sentiment/xlnet using device /device:CPU:0\n",
      "DEBUG:root:['▁anjeng', '▁semua', '▁dan', '▁korang']\n",
      "DEBUG:root:[27591, 86, 24, 499, 4, 3]\n"
     ]
    },
    {
     "name": "stdout",
     "output_type": "stream",
     "text": [
      "[{'negative': 0.998644, 'positive': 1.356084e-05, 'neutral': 0.0013424158}]\n"
     ]
    },
    {
     "name": "stderr",
     "output_type": "stream",
     "text": [
      "DEBUG:urllib3.connectionpool:Starting new HTTPS connection (1): f000.backblazeb2.com:443\n"
     ]
    },
    {
     "name": "stdout",
     "output_type": "stream",
     "text": [
      "alxlnet\n"
     ]
    },
    {
     "name": "stderr",
     "output_type": "stream",
     "text": [
      "DEBUG:urllib3.connectionpool:https://f000.backblazeb2.com:443 \"HEAD /file/malaya-model/sentiment/alxlnet/model.pb HTTP/1.1\" 200 0\n",
      "DEBUG:urllib3.connectionpool:Starting new HTTPS connection (1): f000.backblazeb2.com:443\n",
      "DEBUG:urllib3.connectionpool:https://f000.backblazeb2.com:443 \"HEAD /file/malaya-model/bpe/sp10m.cased.v9.vocab HTTP/1.1\" 200 0\n",
      "DEBUG:urllib3.connectionpool:Starting new HTTPS connection (1): f000.backblazeb2.com:443\n",
      "DEBUG:urllib3.connectionpool:https://f000.backblazeb2.com:443 \"HEAD /file/malaya-model/bpe/sp10m.cased.v9.model HTTP/1.1\" 200 0\n",
      "DEBUG:urllib3.connectionpool:Starting new HTTPS connection (1): f000.backblazeb2.com:443\n",
      "DEBUG:urllib3.connectionpool:https://f000.backblazeb2.com:443 \"HEAD /file/malaya-model/sentiment/alxlnet/version HTTP/1.1\" 404 0\n",
      "INFO:root:running sentiment/alxlnet using device /device:CPU:0\n",
      "DEBUG:root:['▁anjeng', '▁semua', '▁dan', '▁korang']\n",
      "DEBUG:root:[27591, 86, 24, 499, 4, 3]\n"
     ]
    },
    {
     "name": "stdout",
     "output_type": "stream",
     "text": [
      "[{'negative': 0.9992125, 'positive': 7.877292e-06, 'neutral': 0.00077962875}]\n"
     ]
    }
   ],
   "source": [
    "models = malaya.sentiment.available_transformer()\n",
    "for m in models.index:\n",
    "    print(m)\n",
    "    model = malaya.sentiment.transformer(model = m, gpu_limit = 0.3)\n",
    "    print(model.predict_proba([text], add_neutral = True))\n",
    "    print(model.predict_words(text, visualization = False))\n",
    "    malaya.utils.delete_cache(f'sentiment/{m}')\n",
    "    del model"
   ]
  },
  {
   "cell_type": "code",
   "execution_count": 8,
   "id": "sharp-invention",
   "metadata": {},
   "outputs": [
    {
     "name": "stderr",
     "output_type": "stream",
     "text": [
      "INFO:root:tested on 20% test set.\n",
      "DEBUG:urllib3.connectionpool:Starting new HTTPS connection (1): f000.backblazeb2.com:443\n"
     ]
    },
    {
     "name": "stdout",
     "output_type": "stream",
     "text": [
      "bert\n"
     ]
    },
    {
     "name": "stderr",
     "output_type": "stream",
     "text": [
      "DEBUG:urllib3.connectionpool:https://f000.backblazeb2.com:443 \"HEAD /file/malaya-model/relevancy/bert/model.pb HTTP/1.1\" 200 0\n",
      "DEBUG:urllib3.connectionpool:Starting new HTTPS connection (1): f000.backblazeb2.com:443\n",
      "DEBUG:urllib3.connectionpool:https://f000.backblazeb2.com:443 \"HEAD /file/malaya-model/bpe/sp10m.cased.bert.vocab HTTP/1.1\" 200 0\n",
      "DEBUG:urllib3.connectionpool:Starting new HTTPS connection (1): f000.backblazeb2.com:443\n",
      "DEBUG:urllib3.connectionpool:https://f000.backblazeb2.com:443 \"HEAD /file/malaya-model/bpe/sp10m.cased.bert.model HTTP/1.1\" 200 0\n",
      "DEBUG:urllib3.connectionpool:Starting new HTTPS connection (1): f000.backblazeb2.com:443\n",
      "DEBUG:urllib3.connectionpool:https://f000.backblazeb2.com:443 \"HEAD /file/malaya-model/relevancy/bert/version HTTP/1.1\" 404 0\n",
      "DEBUG:urllib3.connectionpool:Starting new HTTPS connection (1): f000.backblazeb2.com:443\n"
     ]
    },
    {
     "name": "stdout",
     "output_type": "stream",
     "text": [
      "downloading frozen model to /Users/huseinzolkepli/Malaya/relevancy/bert/model.pb\n"
     ]
    },
    {
     "name": "stderr",
     "output_type": "stream",
     "text": [
      "DEBUG:urllib3.connectionpool:https://f000.backblazeb2.com:443 \"GET /file/malaya-model/relevancy/bert/model.pb HTTP/1.1\" 200 446869734\n",
      "427MB [01:14, 5.74MB/s]                          \n",
      "DEBUG:urllib3.connectionpool:Starting new HTTPS connection (1): f000.backblazeb2.com:443\n"
     ]
    },
    {
     "name": "stdout",
     "output_type": "stream",
     "text": [
      "downloading frozen vocab to /Users/huseinzolkepli/Malaya/relevancy/bert/sp10m.cased.bert.vocab\n"
     ]
    },
    {
     "name": "stderr",
     "output_type": "stream",
     "text": [
      "DEBUG:urllib3.connectionpool:https://f000.backblazeb2.com:443 \"GET /file/malaya-model/bpe/sp10m.cased.bert.vocab HTTP/1.1\" 200 568997\n",
      "184%|██████████| 1.00/0.54 [00:00<00:00, 1.00MB/s]\n",
      "DEBUG:urllib3.connectionpool:Starting new HTTPS connection (1): f000.backblazeb2.com:443\n"
     ]
    },
    {
     "name": "stdout",
     "output_type": "stream",
     "text": [
      "downloading frozen tokenizer to /Users/huseinzolkepli/Malaya/relevancy/bert/sp10m.cased.bert.model\n"
     ]
    },
    {
     "name": "stderr",
     "output_type": "stream",
     "text": [
      "DEBUG:urllib3.connectionpool:https://f000.backblazeb2.com:443 \"GET /file/malaya-model/bpe/sp10m.cased.bert.model HTTP/1.1\" 200 778744\n",
      "135%|██████████| 1.00/0.74 [00:01<00:00, 1.12s/MB]\n",
      "INFO:root:running relevancy/bert using device /device:CPU:0\n",
      "DEBUG:root:['▁anjeng', '▁semua', '▁dan', '▁korang']\n"
     ]
    },
    {
     "name": "stdout",
     "output_type": "stream",
     "text": [
      "[{'not relevant': 0.99779755, 'relevant': 0.002202538}]\n"
     ]
    },
    {
     "name": "stderr",
     "output_type": "stream",
     "text": [
      "DEBUG:urllib3.connectionpool:Starting new HTTPS connection (1): f000.backblazeb2.com:443\n"
     ]
    },
    {
     "name": "stdout",
     "output_type": "stream",
     "text": [
      "tiny-bert\n"
     ]
    },
    {
     "name": "stderr",
     "output_type": "stream",
     "text": [
      "DEBUG:urllib3.connectionpool:https://f000.backblazeb2.com:443 \"HEAD /file/malaya-model/relevancy/tiny-bert/model.pb HTTP/1.1\" 200 0\n",
      "DEBUG:urllib3.connectionpool:Starting new HTTPS connection (1): f000.backblazeb2.com:443\n",
      "DEBUG:urllib3.connectionpool:https://f000.backblazeb2.com:443 \"HEAD /file/malaya-model/bpe/sp10m.cased.bert.vocab HTTP/1.1\" 200 0\n",
      "DEBUG:urllib3.connectionpool:Starting new HTTPS connection (1): f000.backblazeb2.com:443\n",
      "DEBUG:urllib3.connectionpool:https://f000.backblazeb2.com:443 \"HEAD /file/malaya-model/bpe/sp10m.cased.bert.model HTTP/1.1\" 200 0\n",
      "DEBUG:urllib3.connectionpool:Starting new HTTPS connection (1): f000.backblazeb2.com:443\n",
      "DEBUG:urllib3.connectionpool:https://f000.backblazeb2.com:443 \"HEAD /file/malaya-model/relevancy/tiny-bert/version HTTP/1.1\" 404 0\n",
      "DEBUG:urllib3.connectionpool:Starting new HTTPS connection (1): f000.backblazeb2.com:443\n"
     ]
    },
    {
     "name": "stdout",
     "output_type": "stream",
     "text": [
      "downloading frozen model to /Users/huseinzolkepli/Malaya/relevancy/tiny-bert/model.pb\n"
     ]
    },
    {
     "name": "stderr",
     "output_type": "stream",
     "text": [
      "DEBUG:urllib3.connectionpool:https://f000.backblazeb2.com:443 \"GET /file/malaya-model/relevancy/tiny-bert/model.pb HTTP/1.1\" 200 60321365\n",
      "101%|██████████| 58.0/57.5 [00:10<00:00, 5.33MB/s]\n",
      "DEBUG:urllib3.connectionpool:Starting new HTTPS connection (1): f000.backblazeb2.com:443\n"
     ]
    },
    {
     "name": "stdout",
     "output_type": "stream",
     "text": [
      "downloading frozen vocab to /Users/huseinzolkepli/Malaya/relevancy/tiny-bert/sp10m.cased.bert.vocab\n"
     ]
    },
    {
     "name": "stderr",
     "output_type": "stream",
     "text": [
      "DEBUG:urllib3.connectionpool:https://f000.backblazeb2.com:443 \"GET /file/malaya-model/bpe/sp10m.cased.bert.vocab HTTP/1.1\" 200 568997\n",
      "184%|██████████| 1.00/0.54 [00:01<00:00, 1.01s/MB]\n",
      "DEBUG:urllib3.connectionpool:Starting new HTTPS connection (1): f000.backblazeb2.com:443\n"
     ]
    },
    {
     "name": "stdout",
     "output_type": "stream",
     "text": [
      "downloading frozen tokenizer to /Users/huseinzolkepli/Malaya/relevancy/tiny-bert/sp10m.cased.bert.model\n"
     ]
    },
    {
     "name": "stderr",
     "output_type": "stream",
     "text": [
      "DEBUG:urllib3.connectionpool:https://f000.backblazeb2.com:443 \"GET /file/malaya-model/bpe/sp10m.cased.bert.model HTTP/1.1\" 200 778744\n",
      "135%|██████████| 1.00/0.74 [00:01<00:00, 1.12s/MB]\n",
      "INFO:root:running relevancy/tiny-bert using device /device:CPU:0\n",
      "DEBUG:root:['▁anjeng', '▁semua', '▁dan', '▁korang']\n",
      "DEBUG:urllib3.connectionpool:Starting new HTTPS connection (1): f000.backblazeb2.com:443\n"
     ]
    },
    {
     "name": "stdout",
     "output_type": "stream",
     "text": [
      "[{'not relevant': 0.98767745, 'relevant': 0.012322535}]\n",
      "albert\n"
     ]
    },
    {
     "name": "stderr",
     "output_type": "stream",
     "text": [
      "DEBUG:urllib3.connectionpool:https://f000.backblazeb2.com:443 \"HEAD /file/malaya-model/relevancy/albert/model.pb HTTP/1.1\" 200 0\n",
      "DEBUG:urllib3.connectionpool:Starting new HTTPS connection (1): f000.backblazeb2.com:443\n",
      "DEBUG:urllib3.connectionpool:https://f000.backblazeb2.com:443 \"HEAD /file/malaya-model/bpe/sp10m.cased.v10.vocab HTTP/1.1\" 200 0\n",
      "DEBUG:urllib3.connectionpool:Starting new HTTPS connection (1): f000.backblazeb2.com:443\n",
      "DEBUG:urllib3.connectionpool:https://f000.backblazeb2.com:443 \"HEAD /file/malaya-model/bpe/sp10m.cased.v10.model HTTP/1.1\" 200 0\n",
      "DEBUG:urllib3.connectionpool:Starting new HTTPS connection (1): f000.backblazeb2.com:443\n",
      "DEBUG:urllib3.connectionpool:https://f000.backblazeb2.com:443 \"HEAD /file/malaya-model/relevancy/albert/version HTTP/1.1\" 404 0\n",
      "DEBUG:urllib3.connectionpool:Starting new HTTPS connection (1): f000.backblazeb2.com:443\n"
     ]
    },
    {
     "name": "stdout",
     "output_type": "stream",
     "text": [
      "downloading frozen model to /Users/huseinzolkepli/Malaya/relevancy/albert/model.pb\n"
     ]
    },
    {
     "name": "stderr",
     "output_type": "stream",
     "text": [
      "DEBUG:urllib3.connectionpool:https://f000.backblazeb2.com:443 \"GET /file/malaya-model/relevancy/albert/model.pb HTTP/1.1\" 200 50941133\n",
      "101%|██████████| 49.0/48.6 [00:10<00:00, 4.74MB/s]\n",
      "DEBUG:urllib3.connectionpool:Starting new HTTPS connection (1): f000.backblazeb2.com:443\n"
     ]
    },
    {
     "name": "stdout",
     "output_type": "stream",
     "text": [
      "downloading frozen vocab to /Users/huseinzolkepli/Malaya/relevancy/albert/sp10m.cased.v10.vocab\n"
     ]
    },
    {
     "name": "stderr",
     "output_type": "stream",
     "text": [
      "DEBUG:urllib3.connectionpool:https://f000.backblazeb2.com:443 \"GET /file/malaya-model/bpe/sp10m.cased.v10.vocab HTTP/1.1\" 200 569013\n",
      "184%|██████████| 1.00/0.54 [00:00<00:00, 1.01MB/s]\n",
      "DEBUG:urllib3.connectionpool:Starting new HTTPS connection (1): f000.backblazeb2.com:443\n"
     ]
    },
    {
     "name": "stdout",
     "output_type": "stream",
     "text": [
      "downloading frozen tokenizer to /Users/huseinzolkepli/Malaya/relevancy/albert/sp10m.cased.v10.model\n"
     ]
    },
    {
     "name": "stderr",
     "output_type": "stream",
     "text": [
      "DEBUG:urllib3.connectionpool:https://f000.backblazeb2.com:443 \"GET /file/malaya-model/bpe/sp10m.cased.v10.model HTTP/1.1\" 200 778641\n",
      "135%|██████████| 1.00/0.74 [00:01<00:00, 1.14s/MB]\n",
      "INFO:root:running relevancy/albert using device /device:CPU:0\n",
      "DEBUG:root:['▁anjeng', '▁semua', '▁dan', '▁korang']\n",
      "DEBUG:urllib3.connectionpool:Starting new HTTPS connection (1): f000.backblazeb2.com:443\n"
     ]
    },
    {
     "name": "stdout",
     "output_type": "stream",
     "text": [
      "[{'not relevant': 0.067403056, 'relevant': 0.9325969}]\n",
      "tiny-albert\n"
     ]
    },
    {
     "name": "stderr",
     "output_type": "stream",
     "text": [
      "DEBUG:urllib3.connectionpool:https://f000.backblazeb2.com:443 \"HEAD /file/malaya-model/relevancy/tiny-albert/model.pb HTTP/1.1\" 200 0\n",
      "DEBUG:urllib3.connectionpool:Starting new HTTPS connection (1): f000.backblazeb2.com:443\n",
      "DEBUG:urllib3.connectionpool:https://f000.backblazeb2.com:443 \"HEAD /file/malaya-model/bpe/sp10m.cased.v10.vocab HTTP/1.1\" 200 0\n",
      "DEBUG:urllib3.connectionpool:Starting new HTTPS connection (1): f000.backblazeb2.com:443\n",
      "DEBUG:urllib3.connectionpool:https://f000.backblazeb2.com:443 \"HEAD /file/malaya-model/bpe/sp10m.cased.v10.model HTTP/1.1\" 200 0\n",
      "DEBUG:urllib3.connectionpool:Starting new HTTPS connection (1): f000.backblazeb2.com:443\n",
      "DEBUG:urllib3.connectionpool:https://f000.backblazeb2.com:443 \"HEAD /file/malaya-model/relevancy/tiny-albert/version HTTP/1.1\" 404 0\n",
      "DEBUG:urllib3.connectionpool:Starting new HTTPS connection (1): f000.backblazeb2.com:443\n"
     ]
    },
    {
     "name": "stdout",
     "output_type": "stream",
     "text": [
      "downloading frozen model to /Users/huseinzolkepli/Malaya/relevancy/tiny-albert/model.pb\n"
     ]
    },
    {
     "name": "stderr",
     "output_type": "stream",
     "text": [
      "DEBUG:urllib3.connectionpool:https://f000.backblazeb2.com:443 \"GET /file/malaya-model/relevancy/tiny-albert/model.pb HTTP/1.1\" 200 23455955\n",
      "23.0MB [00:05, 4.32MB/s]                          \n",
      "DEBUG:urllib3.connectionpool:Starting new HTTPS connection (1): f000.backblazeb2.com:443\n"
     ]
    },
    {
     "name": "stdout",
     "output_type": "stream",
     "text": [
      "downloading frozen vocab to /Users/huseinzolkepli/Malaya/relevancy/tiny-albert/sp10m.cased.v10.vocab\n"
     ]
    },
    {
     "name": "stderr",
     "output_type": "stream",
     "text": [
      "DEBUG:urllib3.connectionpool:https://f000.backblazeb2.com:443 \"GET /file/malaya-model/bpe/sp10m.cased.v10.vocab HTTP/1.1\" 200 569013\n",
      "184%|██████████| 1.00/0.54 [00:00<00:00, 1.00MB/s]\n",
      "DEBUG:urllib3.connectionpool:Starting new HTTPS connection (1): f000.backblazeb2.com:443\n"
     ]
    },
    {
     "name": "stdout",
     "output_type": "stream",
     "text": [
      "downloading frozen tokenizer to /Users/huseinzolkepli/Malaya/relevancy/tiny-albert/sp10m.cased.v10.model\n"
     ]
    },
    {
     "name": "stderr",
     "output_type": "stream",
     "text": [
      "DEBUG:urllib3.connectionpool:https://f000.backblazeb2.com:443 \"GET /file/malaya-model/bpe/sp10m.cased.v10.model HTTP/1.1\" 200 778641\n",
      "135%|██████████| 1.00/0.74 [00:01<00:00, 1.13s/MB]\n",
      "INFO:root:running relevancy/tiny-albert using device /device:CPU:0\n",
      "DEBUG:root:['▁anjeng', '▁semua', '▁dan', '▁korang']\n",
      "DEBUG:urllib3.connectionpool:Starting new HTTPS connection (1): f000.backblazeb2.com:443\n"
     ]
    },
    {
     "name": "stdout",
     "output_type": "stream",
     "text": [
      "[{'not relevant': 0.98591095, 'relevant': 0.014089019}]\n",
      "xlnet\n"
     ]
    },
    {
     "name": "stderr",
     "output_type": "stream",
     "text": [
      "DEBUG:urllib3.connectionpool:https://f000.backblazeb2.com:443 \"HEAD /file/malaya-model/relevancy/xlnet/model.pb HTTP/1.1\" 200 0\n",
      "DEBUG:urllib3.connectionpool:Starting new HTTPS connection (1): f000.backblazeb2.com:443\n",
      "DEBUG:urllib3.connectionpool:https://f000.backblazeb2.com:443 \"HEAD /file/malaya-model/bpe/sp10m.cased.v9.vocab HTTP/1.1\" 200 0\n",
      "DEBUG:urllib3.connectionpool:Starting new HTTPS connection (1): f000.backblazeb2.com:443\n",
      "DEBUG:urllib3.connectionpool:https://f000.backblazeb2.com:443 \"HEAD /file/malaya-model/bpe/sp10m.cased.v9.model HTTP/1.1\" 200 0\n",
      "DEBUG:urllib3.connectionpool:Starting new HTTPS connection (1): f000.backblazeb2.com:443\n",
      "DEBUG:urllib3.connectionpool:https://f000.backblazeb2.com:443 \"HEAD /file/malaya-model/relevancy/xlnet/version HTTP/1.1\" 404 0\n",
      "DEBUG:urllib3.connectionpool:Starting new HTTPS connection (1): f000.backblazeb2.com:443\n"
     ]
    },
    {
     "name": "stdout",
     "output_type": "stream",
     "text": [
      "downloading frozen model to /Users/huseinzolkepli/Malaya/relevancy/xlnet/model.pb\n"
     ]
    },
    {
     "name": "stderr",
     "output_type": "stream",
     "text": [
      "DEBUG:urllib3.connectionpool:https://f000.backblazeb2.com:443 \"GET /file/malaya-model/relevancy/xlnet/model.pb HTTP/1.1\" 200 468184248\n",
      "447MB [01:04, 6.93MB/s]                          \n",
      "DEBUG:urllib3.connectionpool:Starting new HTTPS connection (1): f000.backblazeb2.com:443\n"
     ]
    },
    {
     "name": "stdout",
     "output_type": "stream",
     "text": [
      "downloading frozen vocab to /Users/huseinzolkepli/Malaya/relevancy/xlnet/sp10m.cased.v9.vocab\n"
     ]
    },
    {
     "name": "stderr",
     "output_type": "stream",
     "text": [
      "DEBUG:urllib3.connectionpool:https://f000.backblazeb2.com:443 \"GET /file/malaya-model/bpe/sp10m.cased.v9.vocab HTTP/1.1\" 200 568997\n",
      "184%|██████████| 1.00/0.54 [00:00<00:00, 1.04MB/s]\n",
      "DEBUG:urllib3.connectionpool:Starting new HTTPS connection (1): f000.backblazeb2.com:443\n"
     ]
    },
    {
     "name": "stdout",
     "output_type": "stream",
     "text": [
      "downloading frozen tokenizer to /Users/huseinzolkepli/Malaya/relevancy/xlnet/sp10m.cased.v9.model\n"
     ]
    },
    {
     "name": "stderr",
     "output_type": "stream",
     "text": [
      "DEBUG:urllib3.connectionpool:https://f000.backblazeb2.com:443 \"GET /file/malaya-model/bpe/sp10m.cased.v9.model HTTP/1.1\" 200 778744\n",
      "135%|██████████| 1.00/0.74 [00:01<00:00, 1.18s/MB]\n",
      "INFO:root:running relevancy/xlnet using device /device:CPU:0\n",
      "DEBUG:root:['▁anjeng', '▁semua', '▁dan', '▁korang']\n",
      "DEBUG:root:[27591, 86, 24, 499, 4, 3]\n"
     ]
    },
    {
     "name": "stdout",
     "output_type": "stream",
     "text": [
      "[{'not relevant': 1.0, 'relevant': 1.363424e-08}]\n"
     ]
    },
    {
     "name": "stderr",
     "output_type": "stream",
     "text": [
      "DEBUG:urllib3.connectionpool:Starting new HTTPS connection (1): f000.backblazeb2.com:443\n"
     ]
    },
    {
     "name": "stdout",
     "output_type": "stream",
     "text": [
      "alxlnet\n"
     ]
    },
    {
     "name": "stderr",
     "output_type": "stream",
     "text": [
      "DEBUG:urllib3.connectionpool:https://f000.backblazeb2.com:443 \"HEAD /file/malaya-model/relevancy/alxlnet/model.pb HTTP/1.1\" 200 0\n",
      "DEBUG:urllib3.connectionpool:Starting new HTTPS connection (1): f000.backblazeb2.com:443\n",
      "DEBUG:urllib3.connectionpool:https://f000.backblazeb2.com:443 \"HEAD /file/malaya-model/bpe/sp10m.cased.v9.vocab HTTP/1.1\" 200 0\n",
      "DEBUG:urllib3.connectionpool:Starting new HTTPS connection (1): f000.backblazeb2.com:443\n",
      "DEBUG:urllib3.connectionpool:https://f000.backblazeb2.com:443 \"HEAD /file/malaya-model/bpe/sp10m.cased.v9.model HTTP/1.1\" 200 0\n",
      "DEBUG:urllib3.connectionpool:Starting new HTTPS connection (1): f000.backblazeb2.com:443\n",
      "DEBUG:urllib3.connectionpool:https://f000.backblazeb2.com:443 \"HEAD /file/malaya-model/relevancy/alxlnet/version HTTP/1.1\" 404 0\n",
      "DEBUG:urllib3.connectionpool:Starting new HTTPS connection (1): f000.backblazeb2.com:443\n"
     ]
    },
    {
     "name": "stdout",
     "output_type": "stream",
     "text": [
      "downloading frozen model to /Users/huseinzolkepli/Malaya/relevancy/alxlnet/model.pb\n"
     ]
    },
    {
     "name": "stderr",
     "output_type": "stream",
     "text": [
      "DEBUG:urllib3.connectionpool:https://f000.backblazeb2.com:443 \"GET /file/malaya-model/relevancy/alxlnet/model.pb HTTP/1.1\" 200 49038904\n",
      "100%|██████████| 47.0/46.8 [00:07<00:00, 6.46MB/s]\n",
      "DEBUG:urllib3.connectionpool:Starting new HTTPS connection (1): f000.backblazeb2.com:443\n"
     ]
    },
    {
     "name": "stdout",
     "output_type": "stream",
     "text": [
      "downloading frozen vocab to /Users/huseinzolkepli/Malaya/relevancy/alxlnet/sp10m.cased.v9.vocab\n"
     ]
    },
    {
     "name": "stderr",
     "output_type": "stream",
     "text": [
      "DEBUG:urllib3.connectionpool:https://f000.backblazeb2.com:443 \"GET /file/malaya-model/bpe/sp10m.cased.v9.vocab HTTP/1.1\" 200 568997\n",
      "184%|██████████| 1.00/0.54 [00:00<00:00, 1.08MB/s]\n",
      "DEBUG:urllib3.connectionpool:Starting new HTTPS connection (1): f000.backblazeb2.com:443\n"
     ]
    },
    {
     "name": "stdout",
     "output_type": "stream",
     "text": [
      "downloading frozen tokenizer to /Users/huseinzolkepli/Malaya/relevancy/alxlnet/sp10m.cased.v9.model\n"
     ]
    },
    {
     "name": "stderr",
     "output_type": "stream",
     "text": [
      "DEBUG:urllib3.connectionpool:https://f000.backblazeb2.com:443 \"GET /file/malaya-model/bpe/sp10m.cased.v9.model HTTP/1.1\" 200 778744\n",
      "135%|██████████| 1.00/0.74 [00:01<00:00, 1.21s/MB]\n",
      "INFO:root:running relevancy/alxlnet using device /device:CPU:0\n",
      "DEBUG:root:['▁anjeng', '▁semua', '▁dan', '▁korang']\n",
      "DEBUG:root:[27591, 86, 24, 499, 4, 3]\n",
      "DEBUG:urllib3.connectionpool:Starting new HTTPS connection (1): f000.backblazeb2.com:443\n"
     ]
    },
    {
     "name": "stdout",
     "output_type": "stream",
     "text": [
      "[{'not relevant': 0.99996704, 'relevant': 3.3171866e-05}]\n",
      "bigbird\n"
     ]
    },
    {
     "name": "stderr",
     "output_type": "stream",
     "text": [
      "DEBUG:urllib3.connectionpool:https://f000.backblazeb2.com:443 \"HEAD /file/malaya-model/relevancy/bigbird/model.pb HTTP/1.1\" 200 0\n",
      "DEBUG:urllib3.connectionpool:Starting new HTTPS connection (1): f000.backblazeb2.com:443\n",
      "DEBUG:urllib3.connectionpool:https://f000.backblazeb2.com:443 \"HEAD /file/malaya-model/bpe/sp10m.cased.bert.vocab HTTP/1.1\" 200 0\n",
      "DEBUG:urllib3.connectionpool:Starting new HTTPS connection (1): f000.backblazeb2.com:443\n",
      "DEBUG:urllib3.connectionpool:https://f000.backblazeb2.com:443 \"HEAD /file/malaya-model/bpe/sp10m.cased.bert.model HTTP/1.1\" 200 0\n",
      "DEBUG:urllib3.connectionpool:Starting new HTTPS connection (1): f000.backblazeb2.com:443\n",
      "DEBUG:urllib3.connectionpool:https://f000.backblazeb2.com:443 \"HEAD /file/malaya-model/relevancy/bigbird/version HTTP/1.1\" 404 0\n",
      "DEBUG:urllib3.connectionpool:Starting new HTTPS connection (1): f000.backblazeb2.com:443\n"
     ]
    },
    {
     "name": "stdout",
     "output_type": "stream",
     "text": [
      "downloading frozen model to /Users/huseinzolkepli/Malaya/relevancy/bigbird/model.pb\n"
     ]
    },
    {
     "name": "stderr",
     "output_type": "stream",
     "text": [
      "DEBUG:urllib3.connectionpool:https://f000.backblazeb2.com:443 \"GET /file/malaya-model/relevancy/bigbird/model.pb HTTP/1.1\" 200 458438181\n",
      "438MB [00:59, 7.33MB/s]                          \n",
      "DEBUG:urllib3.connectionpool:Starting new HTTPS connection (1): f000.backblazeb2.com:443\n"
     ]
    },
    {
     "name": "stdout",
     "output_type": "stream",
     "text": [
      "downloading frozen vocab to /Users/huseinzolkepli/Malaya/relevancy/bigbird/sp10m.cased.bert.vocab\n"
     ]
    },
    {
     "name": "stderr",
     "output_type": "stream",
     "text": [
      "DEBUG:urllib3.connectionpool:https://f000.backblazeb2.com:443 \"GET /file/malaya-model/bpe/sp10m.cased.bert.vocab HTTP/1.1\" 200 568997\n",
      "184%|██████████| 1.00/0.54 [00:00<00:00, 1.05MB/s]\n",
      "DEBUG:urllib3.connectionpool:Starting new HTTPS connection (1): f000.backblazeb2.com:443\n"
     ]
    },
    {
     "name": "stdout",
     "output_type": "stream",
     "text": [
      "downloading frozen tokenizer to /Users/huseinzolkepli/Malaya/relevancy/bigbird/sp10m.cased.bert.model\n"
     ]
    },
    {
     "name": "stderr",
     "output_type": "stream",
     "text": [
      "DEBUG:urllib3.connectionpool:https://f000.backblazeb2.com:443 \"GET /file/malaya-model/bpe/sp10m.cased.bert.model HTTP/1.1\" 200 778744\n",
      "135%|██████████| 1.00/0.74 [00:01<00:00, 1.22s/MB]\n",
      "INFO:root:running relevancy/bigbird using device /device:CPU:0\n",
      "DEBUG:root:['▁anjeng', '▁semua', '▁dan', '▁korang']\n"
     ]
    },
    {
     "name": "stdout",
     "output_type": "stream",
     "text": [
      "[{'not relevant': 0.99947584, 'relevant': 0.00052422186}]\n"
     ]
    },
    {
     "name": "stderr",
     "output_type": "stream",
     "text": [
      "DEBUG:urllib3.connectionpool:Starting new HTTPS connection (1): f000.backblazeb2.com:443\n"
     ]
    },
    {
     "name": "stdout",
     "output_type": "stream",
     "text": [
      "tiny-bigbird\n"
     ]
    },
    {
     "name": "stderr",
     "output_type": "stream",
     "text": [
      "DEBUG:urllib3.connectionpool:https://f000.backblazeb2.com:443 \"HEAD /file/malaya-model/relevancy/tiny-bigbird/model.pb HTTP/1.1\" 200 0\n",
      "DEBUG:urllib3.connectionpool:Starting new HTTPS connection (1): f000.backblazeb2.com:443\n",
      "DEBUG:urllib3.connectionpool:https://f000.backblazeb2.com:443 \"HEAD /file/malaya-model/bpe/sp10m.cased.bert.vocab HTTP/1.1\" 200 0\n",
      "DEBUG:urllib3.connectionpool:Starting new HTTPS connection (1): f000.backblazeb2.com:443\n",
      "DEBUG:urllib3.connectionpool:https://f000.backblazeb2.com:443 \"HEAD /file/malaya-model/bpe/sp10m.cased.bert.model HTTP/1.1\" 200 0\n",
      "DEBUG:urllib3.connectionpool:Starting new HTTPS connection (1): f000.backblazeb2.com:443\n",
      "DEBUG:urllib3.connectionpool:https://f000.backblazeb2.com:443 \"HEAD /file/malaya-model/relevancy/tiny-bigbird/version HTTP/1.1\" 404 0\n",
      "DEBUG:urllib3.connectionpool:Starting new HTTPS connection (1): f000.backblazeb2.com:443\n"
     ]
    },
    {
     "name": "stdout",
     "output_type": "stream",
     "text": [
      "downloading frozen model to /Users/huseinzolkepli/Malaya/relevancy/tiny-bigbird/model.pb\n"
     ]
    },
    {
     "name": "stderr",
     "output_type": "stream",
     "text": [
      "DEBUG:urllib3.connectionpool:https://f000.backblazeb2.com:443 \"GET /file/malaya-model/relevancy/tiny-bigbird/model.pb HTTP/1.1\" 200 65008051\n",
      "100%|██████████| 62.0/62.0 [00:10<00:00, 5.74MB/s]\n",
      "DEBUG:urllib3.connectionpool:Starting new HTTPS connection (1): f000.backblazeb2.com:443\n"
     ]
    },
    {
     "name": "stdout",
     "output_type": "stream",
     "text": [
      "downloading frozen vocab to /Users/huseinzolkepli/Malaya/relevancy/tiny-bigbird/sp10m.cased.bert.vocab\n"
     ]
    },
    {
     "name": "stderr",
     "output_type": "stream",
     "text": [
      "DEBUG:urllib3.connectionpool:https://f000.backblazeb2.com:443 \"GET /file/malaya-model/bpe/sp10m.cased.bert.vocab HTTP/1.1\" 200 568997\n",
      "184%|██████████| 1.00/0.54 [00:00<00:00, 1.13MB/s]\n",
      "DEBUG:urllib3.connectionpool:Starting new HTTPS connection (1): f000.backblazeb2.com:443\n"
     ]
    },
    {
     "name": "stdout",
     "output_type": "stream",
     "text": [
      "downloading frozen tokenizer to /Users/huseinzolkepli/Malaya/relevancy/tiny-bigbird/sp10m.cased.bert.model\n"
     ]
    },
    {
     "name": "stderr",
     "output_type": "stream",
     "text": [
      "DEBUG:urllib3.connectionpool:https://f000.backblazeb2.com:443 \"GET /file/malaya-model/bpe/sp10m.cased.bert.model HTTP/1.1\" 200 778744\n",
      "135%|██████████| 1.00/0.74 [00:01<00:00, 1.08s/MB]\n",
      "INFO:root:running relevancy/tiny-bigbird using device /device:CPU:0\n",
      "DEBUG:root:['▁anjeng', '▁semua', '▁dan', '▁korang']\n"
     ]
    },
    {
     "name": "stdout",
     "output_type": "stream",
     "text": [
      "[{'not relevant': 0.96539235, 'relevant': 0.03460767}]\n"
     ]
    }
   ],
   "source": [
    "models = malaya.relevancy.available_transformer()\n",
    "for m in models.index:\n",
    "    print(m)\n",
    "    model = malaya.relevancy.transformer(model = m, gpu_limit = 0.3)\n",
    "    print(model.predict_proba([text]))\n",
    "    print(model.predict_words(text, visualization = False))\n",
    "    malaya.utils.delete_cache(f'relevancy/{m}')\n",
    "    del model"
   ]
  },
  {
   "cell_type": "code",
   "execution_count": 9,
   "id": "baking-wings",
   "metadata": {},
   "outputs": [
    {
     "name": "stderr",
     "output_type": "stream",
     "text": [
      "INFO:root:tested on 20% test set.\n",
      "DEBUG:urllib3.connectionpool:Starting new HTTPS connection (1): f000.backblazeb2.com:443\n"
     ]
    },
    {
     "name": "stdout",
     "output_type": "stream",
     "text": [
      "bert\n"
     ]
    },
    {
     "name": "stderr",
     "output_type": "stream",
     "text": [
      "DEBUG:urllib3.connectionpool:https://f000.backblazeb2.com:443 \"HEAD /file/malaya-model/subjectivity/bert/model.pb HTTP/1.1\" 200 0\n",
      "DEBUG:urllib3.connectionpool:Starting new HTTPS connection (1): f000.backblazeb2.com:443\n",
      "DEBUG:urllib3.connectionpool:https://f000.backblazeb2.com:443 \"HEAD /file/malaya-model/bpe/sp10m.cased.bert.vocab HTTP/1.1\" 200 0\n",
      "DEBUG:urllib3.connectionpool:Starting new HTTPS connection (1): f000.backblazeb2.com:443\n",
      "DEBUG:urllib3.connectionpool:https://f000.backblazeb2.com:443 \"HEAD /file/malaya-model/bpe/sp10m.cased.bert.model HTTP/1.1\" 200 0\n",
      "DEBUG:urllib3.connectionpool:Starting new HTTPS connection (1): f000.backblazeb2.com:443\n",
      "DEBUG:urllib3.connectionpool:https://f000.backblazeb2.com:443 \"HEAD /file/malaya-model/subjectivity/bert/version HTTP/1.1\" 404 0\n",
      "DEBUG:urllib3.connectionpool:Starting new HTTPS connection (1): f000.backblazeb2.com:443\n"
     ]
    },
    {
     "name": "stdout",
     "output_type": "stream",
     "text": [
      "downloading frozen model to /Users/huseinzolkepli/Malaya/subjectivity/bert/model.pb\n"
     ]
    },
    {
     "name": "stderr",
     "output_type": "stream",
     "text": [
      "DEBUG:urllib3.connectionpool:https://f000.backblazeb2.com:443 \"GET /file/malaya-model/subjectivity/bert/model.pb HTTP/1.1\" 200 446305656\n",
      "100%|██████████| 426/426 [01:02<00:00, 6.86MB/s] \n",
      "DEBUG:urllib3.connectionpool:Starting new HTTPS connection (1): f000.backblazeb2.com:443\n"
     ]
    },
    {
     "name": "stdout",
     "output_type": "stream",
     "text": [
      "downloading frozen vocab to /Users/huseinzolkepli/Malaya/subjectivity/bert/sp10m.cased.bert.vocab\n"
     ]
    },
    {
     "name": "stderr",
     "output_type": "stream",
     "text": [
      "DEBUG:urllib3.connectionpool:https://f000.backblazeb2.com:443 \"GET /file/malaya-model/bpe/sp10m.cased.bert.vocab HTTP/1.1\" 200 568997\n",
      "184%|██████████| 1.00/0.54 [00:00<00:00, 1.17MB/s]\n",
      "DEBUG:urllib3.connectionpool:Starting new HTTPS connection (1): f000.backblazeb2.com:443\n"
     ]
    },
    {
     "name": "stdout",
     "output_type": "stream",
     "text": [
      "downloading frozen tokenizer to /Users/huseinzolkepli/Malaya/subjectivity/bert/sp10m.cased.bert.model\n"
     ]
    },
    {
     "name": "stderr",
     "output_type": "stream",
     "text": [
      "DEBUG:urllib3.connectionpool:https://f000.backblazeb2.com:443 \"GET /file/malaya-model/bpe/sp10m.cased.bert.model HTTP/1.1\" 200 778744\n",
      "135%|██████████| 1.00/0.74 [00:01<00:00, 1.34s/MB]\n",
      "INFO:root:running subjectivity/bert using device /device:CPU:0\n",
      "DEBUG:root:['▁anjeng', '▁semua', '▁dan', '▁korang']\n"
     ]
    },
    {
     "name": "stdout",
     "output_type": "stream",
     "text": [
      "[{'negative': 0.9988769, 'positive': 1.1233398e-05, 'neutral': 0.001111865}]\n"
     ]
    },
    {
     "name": "stderr",
     "output_type": "stream",
     "text": [
      "DEBUG:urllib3.connectionpool:Starting new HTTPS connection (1): f000.backblazeb2.com:443\n"
     ]
    },
    {
     "name": "stdout",
     "output_type": "stream",
     "text": [
      "tiny-bert\n"
     ]
    },
    {
     "name": "stderr",
     "output_type": "stream",
     "text": [
      "DEBUG:urllib3.connectionpool:https://f000.backblazeb2.com:443 \"HEAD /file/malaya-model/subjectivity/tiny-bert/model.pb HTTP/1.1\" 200 0\n",
      "DEBUG:urllib3.connectionpool:Starting new HTTPS connection (1): f000.backblazeb2.com:443\n",
      "DEBUG:urllib3.connectionpool:https://f000.backblazeb2.com:443 \"HEAD /file/malaya-model/bpe/sp10m.cased.bert.vocab HTTP/1.1\" 200 0\n",
      "DEBUG:urllib3.connectionpool:Starting new HTTPS connection (1): f000.backblazeb2.com:443\n",
      "DEBUG:urllib3.connectionpool:https://f000.backblazeb2.com:443 \"HEAD /file/malaya-model/bpe/sp10m.cased.bert.model HTTP/1.1\" 200 0\n",
      "DEBUG:urllib3.connectionpool:Starting new HTTPS connection (1): f000.backblazeb2.com:443\n",
      "DEBUG:urllib3.connectionpool:https://f000.backblazeb2.com:443 \"HEAD /file/malaya-model/subjectivity/tiny-bert/version HTTP/1.1\" 404 0\n",
      "DEBUG:urllib3.connectionpool:Starting new HTTPS connection (1): f000.backblazeb2.com:443\n"
     ]
    },
    {
     "name": "stdout",
     "output_type": "stream",
     "text": [
      "downloading frozen model to /Users/huseinzolkepli/Malaya/subjectivity/tiny-bert/model.pb\n"
     ]
    },
    {
     "name": "stderr",
     "output_type": "stream",
     "text": [
      "DEBUG:urllib3.connectionpool:https://f000.backblazeb2.com:443 \"GET /file/malaya-model/subjectivity/tiny-bert/model.pb HTTP/1.1\" 200 60140053\n",
      "58.0MB [00:11, 4.87MB/s]                          \n",
      "DEBUG:urllib3.connectionpool:Starting new HTTPS connection (1): f000.backblazeb2.com:443\n"
     ]
    },
    {
     "name": "stdout",
     "output_type": "stream",
     "text": [
      "downloading frozen vocab to /Users/huseinzolkepli/Malaya/subjectivity/tiny-bert/sp10m.cased.bert.vocab\n"
     ]
    },
    {
     "name": "stderr",
     "output_type": "stream",
     "text": [
      "DEBUG:urllib3.connectionpool:https://f000.backblazeb2.com:443 \"GET /file/malaya-model/bpe/sp10m.cased.bert.vocab HTTP/1.1\" 200 568997\n",
      "184%|██████████| 1.00/0.54 [00:01<00:00, 1.02s/MB]\n",
      "DEBUG:urllib3.connectionpool:Starting new HTTPS connection (1): f000.backblazeb2.com:443\n"
     ]
    },
    {
     "name": "stdout",
     "output_type": "stream",
     "text": [
      "downloading frozen tokenizer to /Users/huseinzolkepli/Malaya/subjectivity/tiny-bert/sp10m.cased.bert.model\n"
     ]
    },
    {
     "name": "stderr",
     "output_type": "stream",
     "text": [
      "DEBUG:urllib3.connectionpool:https://f000.backblazeb2.com:443 \"GET /file/malaya-model/bpe/sp10m.cased.bert.model HTTP/1.1\" 200 778744\n",
      "135%|██████████| 1.00/0.74 [00:01<00:00, 1.00s/MB]\n",
      "INFO:root:running subjectivity/tiny-bert using device /device:CPU:0\n",
      "DEBUG:root:['▁anjeng', '▁semua', '▁dan', '▁korang']\n",
      "DEBUG:urllib3.connectionpool:Starting new HTTPS connection (1): f000.backblazeb2.com:443\n"
     ]
    },
    {
     "name": "stdout",
     "output_type": "stream",
     "text": [
      "[{'negative': 0.0017665438, 'positive': 0.82334566, 'neutral': 0.17488778}]\n",
      "albert\n"
     ]
    },
    {
     "name": "stderr",
     "output_type": "stream",
     "text": [
      "DEBUG:urllib3.connectionpool:https://f000.backblazeb2.com:443 \"HEAD /file/malaya-model/subjectivity/albert/model.pb HTTP/1.1\" 200 0\n",
      "DEBUG:urllib3.connectionpool:Starting new HTTPS connection (1): f000.backblazeb2.com:443\n",
      "DEBUG:urllib3.connectionpool:https://f000.backblazeb2.com:443 \"HEAD /file/malaya-model/bpe/sp10m.cased.v10.vocab HTTP/1.1\" 200 0\n",
      "DEBUG:urllib3.connectionpool:Starting new HTTPS connection (1): f000.backblazeb2.com:443\n",
      "DEBUG:urllib3.connectionpool:https://f000.backblazeb2.com:443 \"HEAD /file/malaya-model/bpe/sp10m.cased.v10.model HTTP/1.1\" 200 0\n",
      "DEBUG:urllib3.connectionpool:Starting new HTTPS connection (1): f000.backblazeb2.com:443\n",
      "DEBUG:urllib3.connectionpool:https://f000.backblazeb2.com:443 \"HEAD /file/malaya-model/subjectivity/albert/version HTTP/1.1\" 404 0\n",
      "DEBUG:urllib3.connectionpool:Starting new HTTPS connection (1): f000.backblazeb2.com:443\n"
     ]
    },
    {
     "name": "stdout",
     "output_type": "stream",
     "text": [
      "downloading frozen model to /Users/huseinzolkepli/Malaya/subjectivity/albert/model.pb\n"
     ]
    },
    {
     "name": "stderr",
     "output_type": "stream",
     "text": [
      "DEBUG:urllib3.connectionpool:https://f000.backblazeb2.com:443 \"GET /file/malaya-model/subjectivity/albert/model.pb HTTP/1.1\" 200 50941133\n",
      "101%|██████████| 49.0/48.6 [00:07<00:00, 6.19MB/s]\n",
      "DEBUG:urllib3.connectionpool:Starting new HTTPS connection (1): f000.backblazeb2.com:443\n"
     ]
    },
    {
     "name": "stdout",
     "output_type": "stream",
     "text": [
      "downloading frozen vocab to /Users/huseinzolkepli/Malaya/subjectivity/albert/sp10m.cased.v10.vocab\n"
     ]
    },
    {
     "name": "stderr",
     "output_type": "stream",
     "text": [
      "DEBUG:urllib3.connectionpool:https://f000.backblazeb2.com:443 \"GET /file/malaya-model/bpe/sp10m.cased.v10.vocab HTTP/1.1\" 200 569013\n",
      "184%|██████████| 1.00/0.54 [00:01<00:00, 1.03s/MB]\n",
      "DEBUG:urllib3.connectionpool:Starting new HTTPS connection (1): f000.backblazeb2.com:443\n"
     ]
    },
    {
     "name": "stdout",
     "output_type": "stream",
     "text": [
      "downloading frozen tokenizer to /Users/huseinzolkepli/Malaya/subjectivity/albert/sp10m.cased.v10.model\n"
     ]
    },
    {
     "name": "stderr",
     "output_type": "stream",
     "text": [
      "DEBUG:urllib3.connectionpool:https://f000.backblazeb2.com:443 \"GET /file/malaya-model/bpe/sp10m.cased.v10.model HTTP/1.1\" 200 778641\n",
      "135%|██████████| 1.00/0.74 [00:01<00:00, 1.20s/MB]\n",
      "INFO:root:running subjectivity/albert using device /device:CPU:0\n",
      "DEBUG:root:['▁anjeng', '▁semua', '▁dan', '▁korang']\n",
      "DEBUG:urllib3.connectionpool:Starting new HTTPS connection (1): f000.backblazeb2.com:443\n"
     ]
    },
    {
     "name": "stdout",
     "output_type": "stream",
     "text": [
      "[{'negative': 0.8271158, 'positive': 0.001728841, 'neutral': 0.1711554}]\n",
      "tiny-albert\n"
     ]
    },
    {
     "name": "stderr",
     "output_type": "stream",
     "text": [
      "DEBUG:urllib3.connectionpool:https://f000.backblazeb2.com:443 \"HEAD /file/malaya-model/subjectivity/tiny-albert/model.pb HTTP/1.1\" 200 0\n",
      "DEBUG:urllib3.connectionpool:Starting new HTTPS connection (1): f000.backblazeb2.com:443\n",
      "DEBUG:urllib3.connectionpool:https://f000.backblazeb2.com:443 \"HEAD /file/malaya-model/bpe/sp10m.cased.v10.vocab HTTP/1.1\" 200 0\n",
      "DEBUG:urllib3.connectionpool:Starting new HTTPS connection (1): f000.backblazeb2.com:443\n",
      "DEBUG:urllib3.connectionpool:https://f000.backblazeb2.com:443 \"HEAD /file/malaya-model/bpe/sp10m.cased.v10.model HTTP/1.1\" 200 0\n",
      "DEBUG:urllib3.connectionpool:Starting new HTTPS connection (1): f000.backblazeb2.com:443\n",
      "DEBUG:urllib3.connectionpool:https://f000.backblazeb2.com:443 \"HEAD /file/malaya-model/subjectivity/tiny-albert/version HTTP/1.1\" 404 0\n",
      "DEBUG:urllib3.connectionpool:Starting new HTTPS connection (1): f000.backblazeb2.com:443\n"
     ]
    },
    {
     "name": "stdout",
     "output_type": "stream",
     "text": [
      "downloading frozen model to /Users/huseinzolkepli/Malaya/subjectivity/tiny-albert/model.pb\n"
     ]
    },
    {
     "name": "stderr",
     "output_type": "stream",
     "text": [
      "DEBUG:urllib3.connectionpool:https://f000.backblazeb2.com:443 \"GET /file/malaya-model/subjectivity/tiny-albert/model.pb HTTP/1.1\" 200 23455955\n",
      "23.0MB [00:05, 4.52MB/s]                          \n",
      "DEBUG:urllib3.connectionpool:Starting new HTTPS connection (1): f000.backblazeb2.com:443\n"
     ]
    },
    {
     "name": "stdout",
     "output_type": "stream",
     "text": [
      "downloading frozen vocab to /Users/huseinzolkepli/Malaya/subjectivity/tiny-albert/sp10m.cased.v10.vocab\n"
     ]
    },
    {
     "name": "stderr",
     "output_type": "stream",
     "text": [
      "DEBUG:urllib3.connectionpool:https://f000.backblazeb2.com:443 \"GET /file/malaya-model/bpe/sp10m.cased.v10.vocab HTTP/1.1\" 200 569013\n",
      "184%|██████████| 1.00/0.54 [00:00<00:00, 1.08MB/s]\n",
      "DEBUG:urllib3.connectionpool:Starting new HTTPS connection (1): f000.backblazeb2.com:443\n"
     ]
    },
    {
     "name": "stdout",
     "output_type": "stream",
     "text": [
      "downloading frozen tokenizer to /Users/huseinzolkepli/Malaya/subjectivity/tiny-albert/sp10m.cased.v10.model\n"
     ]
    },
    {
     "name": "stderr",
     "output_type": "stream",
     "text": [
      "DEBUG:urllib3.connectionpool:https://f000.backblazeb2.com:443 \"GET /file/malaya-model/bpe/sp10m.cased.v10.model HTTP/1.1\" 200 778641\n",
      "135%|██████████| 1.00/0.74 [00:01<00:00, 1.10s/MB]\n",
      "INFO:root:running subjectivity/tiny-albert using device /device:CPU:0\n",
      "DEBUG:root:['▁anjeng', '▁semua', '▁dan', '▁korang']\n",
      "DEBUG:urllib3.connectionpool:Starting new HTTPS connection (1): f000.backblazeb2.com:443\n"
     ]
    },
    {
     "name": "stdout",
     "output_type": "stream",
     "text": [
      "[{'negative': 0.00928295, 'positive': 0.07170498, 'neutral': 0.91901207}]\n",
      "xlnet\n"
     ]
    },
    {
     "name": "stderr",
     "output_type": "stream",
     "text": [
      "DEBUG:urllib3.connectionpool:https://f000.backblazeb2.com:443 \"HEAD /file/malaya-model/subjectivity/xlnet/model.pb HTTP/1.1\" 200 0\n",
      "DEBUG:urllib3.connectionpool:Starting new HTTPS connection (1): f000.backblazeb2.com:443\n",
      "DEBUG:urllib3.connectionpool:https://f000.backblazeb2.com:443 \"HEAD /file/malaya-model/bpe/sp10m.cased.v9.vocab HTTP/1.1\" 200 0\n",
      "DEBUG:urllib3.connectionpool:Starting new HTTPS connection (1): f000.backblazeb2.com:443\n",
      "DEBUG:urllib3.connectionpool:https://f000.backblazeb2.com:443 \"HEAD /file/malaya-model/bpe/sp10m.cased.v9.model HTTP/1.1\" 200 0\n",
      "DEBUG:urllib3.connectionpool:Starting new HTTPS connection (1): f000.backblazeb2.com:443\n",
      "DEBUG:urllib3.connectionpool:https://f000.backblazeb2.com:443 \"HEAD /file/malaya-model/subjectivity/xlnet/version HTTP/1.1\" 404 0\n",
      "DEBUG:urllib3.connectionpool:Starting new HTTPS connection (1): f000.backblazeb2.com:443\n"
     ]
    },
    {
     "name": "stdout",
     "output_type": "stream",
     "text": [
      "downloading frozen model to /Users/huseinzolkepli/Malaya/subjectivity/xlnet/model.pb\n"
     ]
    },
    {
     "name": "stderr",
     "output_type": "stream",
     "text": [
      "DEBUG:urllib3.connectionpool:https://f000.backblazeb2.com:443 \"GET /file/malaya-model/subjectivity/xlnet/model.pb HTTP/1.1\" 200 468184248\n",
      "447MB [01:02, 7.18MB/s]                          \n",
      "DEBUG:urllib3.connectionpool:Starting new HTTPS connection (1): f000.backblazeb2.com:443\n"
     ]
    },
    {
     "name": "stdout",
     "output_type": "stream",
     "text": [
      "downloading frozen vocab to /Users/huseinzolkepli/Malaya/subjectivity/xlnet/sp10m.cased.v9.vocab\n"
     ]
    },
    {
     "name": "stderr",
     "output_type": "stream",
     "text": [
      "DEBUG:urllib3.connectionpool:https://f000.backblazeb2.com:443 \"GET /file/malaya-model/bpe/sp10m.cased.v9.vocab HTTP/1.1\" 200 568997\n",
      "184%|██████████| 1.00/0.54 [00:01<00:00, 1.01s/MB]\n",
      "DEBUG:urllib3.connectionpool:Starting new HTTPS connection (1): f000.backblazeb2.com:443\n"
     ]
    },
    {
     "name": "stdout",
     "output_type": "stream",
     "text": [
      "downloading frozen tokenizer to /Users/huseinzolkepli/Malaya/subjectivity/xlnet/sp10m.cased.v9.model\n"
     ]
    },
    {
     "name": "stderr",
     "output_type": "stream",
     "text": [
      "DEBUG:urllib3.connectionpool:https://f000.backblazeb2.com:443 \"GET /file/malaya-model/bpe/sp10m.cased.v9.model HTTP/1.1\" 200 778744\n",
      "135%|██████████| 1.00/0.74 [00:01<00:00, 1.19s/MB]\n",
      "INFO:root:running subjectivity/xlnet using device /device:CPU:0\n",
      "DEBUG:root:['▁anjeng', '▁semua', '▁dan', '▁korang']\n",
      "DEBUG:root:[27591, 86, 24, 499, 4, 3]\n"
     ]
    },
    {
     "name": "stdout",
     "output_type": "stream",
     "text": [
      "[{'negative': 0.9705794, 'positive': 0.0002942028, 'neutral': 0.029126406}]\n"
     ]
    },
    {
     "name": "stderr",
     "output_type": "stream",
     "text": [
      "DEBUG:urllib3.connectionpool:Starting new HTTPS connection (1): f000.backblazeb2.com:443\n"
     ]
    },
    {
     "name": "stdout",
     "output_type": "stream",
     "text": [
      "alxlnet\n"
     ]
    },
    {
     "name": "stderr",
     "output_type": "stream",
     "text": [
      "DEBUG:urllib3.connectionpool:https://f000.backblazeb2.com:443 \"HEAD /file/malaya-model/subjectivity/alxlnet/model.pb HTTP/1.1\" 200 0\n",
      "DEBUG:urllib3.connectionpool:Starting new HTTPS connection (1): f000.backblazeb2.com:443\n",
      "DEBUG:urllib3.connectionpool:https://f000.backblazeb2.com:443 \"HEAD /file/malaya-model/bpe/sp10m.cased.v9.vocab HTTP/1.1\" 200 0\n",
      "DEBUG:urllib3.connectionpool:Starting new HTTPS connection (1): f000.backblazeb2.com:443\n",
      "DEBUG:urllib3.connectionpool:https://f000.backblazeb2.com:443 \"HEAD /file/malaya-model/bpe/sp10m.cased.v9.model HTTP/1.1\" 200 0\n",
      "DEBUG:urllib3.connectionpool:Starting new HTTPS connection (1): f000.backblazeb2.com:443\n",
      "DEBUG:urllib3.connectionpool:https://f000.backblazeb2.com:443 \"HEAD /file/malaya-model/subjectivity/alxlnet/version HTTP/1.1\" 404 0\n",
      "DEBUG:urllib3.connectionpool:Starting new HTTPS connection (1): f000.backblazeb2.com:443\n"
     ]
    },
    {
     "name": "stdout",
     "output_type": "stream",
     "text": [
      "downloading frozen model to /Users/huseinzolkepli/Malaya/subjectivity/alxlnet/model.pb\n"
     ]
    },
    {
     "name": "stderr",
     "output_type": "stream",
     "text": [
      "DEBUG:urllib3.connectionpool:https://f000.backblazeb2.com:443 \"GET /file/malaya-model/subjectivity/alxlnet/model.pb HTTP/1.1\" 200 49038904\n",
      "100%|██████████| 47.0/46.8 [00:07<00:00, 6.58MB/s]\n",
      "DEBUG:urllib3.connectionpool:Starting new HTTPS connection (1): f000.backblazeb2.com:443\n"
     ]
    },
    {
     "name": "stdout",
     "output_type": "stream",
     "text": [
      "downloading frozen vocab to /Users/huseinzolkepli/Malaya/subjectivity/alxlnet/sp10m.cased.v9.vocab\n"
     ]
    },
    {
     "name": "stderr",
     "output_type": "stream",
     "text": [
      "DEBUG:urllib3.connectionpool:https://f000.backblazeb2.com:443 \"GET /file/malaya-model/bpe/sp10m.cased.v9.vocab HTTP/1.1\" 200 568997\n",
      "184%|██████████| 1.00/0.54 [00:01<00:00, 1.03s/MB]\n",
      "DEBUG:urllib3.connectionpool:Starting new HTTPS connection (1): f000.backblazeb2.com:443\n"
     ]
    },
    {
     "name": "stdout",
     "output_type": "stream",
     "text": [
      "downloading frozen tokenizer to /Users/huseinzolkepli/Malaya/subjectivity/alxlnet/sp10m.cased.v9.model\n"
     ]
    },
    {
     "name": "stderr",
     "output_type": "stream",
     "text": [
      "DEBUG:urllib3.connectionpool:https://f000.backblazeb2.com:443 \"GET /file/malaya-model/bpe/sp10m.cased.v9.model HTTP/1.1\" 200 778744\n",
      "135%|██████████| 1.00/0.74 [00:01<00:00, 1.17s/MB]\n",
      "INFO:root:running subjectivity/alxlnet using device /device:CPU:0\n",
      "DEBUG:root:['▁anjeng', '▁semua', '▁dan', '▁korang']\n",
      "DEBUG:root:[27591, 86, 24, 499, 4, 3]\n"
     ]
    },
    {
     "name": "stdout",
     "output_type": "stream",
     "text": [
      "[{'negative': 0.72633696, 'positive': 0.0027366304, 'neutral': 0.27092642}]\n"
     ]
    }
   ],
   "source": [
    "models = malaya.subjectivity.available_transformer()\n",
    "for m in models.index:\n",
    "    print(m)\n",
    "    model = malaya.subjectivity.transformer(model = m, gpu_limit = 0.3)\n",
    "    print(model.predict_proba([text]))\n",
    "    print(model.predict_words(text, visualization = False))\n",
    "    malaya.utils.delete_cache(f'subjectivity/{m}')\n",
    "    del model"
   ]
  },
  {
   "cell_type": "code",
   "execution_count": 10,
   "id": "wicked-pocket",
   "metadata": {
    "scrolled": false
   },
   "outputs": [
    {
     "name": "stderr",
     "output_type": "stream",
     "text": [
      "INFO:root:tested on 20% test set.\n",
      "DEBUG:urllib3.connectionpool:Starting new HTTPS connection (1): f000.backblazeb2.com:443\n"
     ]
    },
    {
     "name": "stdout",
     "output_type": "stream",
     "text": [
      "bert\n"
     ]
    },
    {
     "name": "stderr",
     "output_type": "stream",
     "text": [
      "DEBUG:urllib3.connectionpool:https://f000.backblazeb2.com:443 \"HEAD /file/malaya-model/toxicity/bert/model.pb HTTP/1.1\" 200 0\n",
      "DEBUG:urllib3.connectionpool:Starting new HTTPS connection (1): f000.backblazeb2.com:443\n",
      "DEBUG:urllib3.connectionpool:https://f000.backblazeb2.com:443 \"HEAD /file/malaya-model/bpe/sp10m.cased.bert.vocab HTTP/1.1\" 200 0\n",
      "DEBUG:urllib3.connectionpool:Starting new HTTPS connection (1): f000.backblazeb2.com:443\n",
      "DEBUG:urllib3.connectionpool:https://f000.backblazeb2.com:443 \"HEAD /file/malaya-model/bpe/sp10m.cased.bert.model HTTP/1.1\" 200 0\n",
      "DEBUG:urllib3.connectionpool:Starting new HTTPS connection (1): f000.backblazeb2.com:443\n",
      "DEBUG:urllib3.connectionpool:https://f000.backblazeb2.com:443 \"HEAD /file/malaya-model/toxicity/bert/version HTTP/1.1\" 404 0\n",
      "DEBUG:urllib3.connectionpool:Starting new HTTPS connection (1): f000.backblazeb2.com:443\n"
     ]
    },
    {
     "name": "stdout",
     "output_type": "stream",
     "text": [
      "downloading frozen model to /Users/huseinzolkepli/Malaya/toxicity/bert/model.pb\n"
     ]
    },
    {
     "name": "stderr",
     "output_type": "stream",
     "text": [
      "DEBUG:urllib3.connectionpool:https://f000.backblazeb2.com:443 \"GET /file/malaya-model/toxicity/bert/model.pb HTTP/1.1\" 200 446386404\n",
      "100%|██████████| 426/426 [00:56<00:00, 7.55MB/s] \n",
      "DEBUG:urllib3.connectionpool:Starting new HTTPS connection (1): f000.backblazeb2.com:443\n"
     ]
    },
    {
     "name": "stdout",
     "output_type": "stream",
     "text": [
      "downloading frozen vocab to /Users/huseinzolkepli/Malaya/toxicity/bert/sp10m.cased.bert.vocab\n"
     ]
    },
    {
     "name": "stderr",
     "output_type": "stream",
     "text": [
      "DEBUG:urllib3.connectionpool:https://f000.backblazeb2.com:443 \"GET /file/malaya-model/bpe/sp10m.cased.bert.vocab HTTP/1.1\" 200 568997\n",
      "184%|██████████| 1.00/0.54 [00:00<00:00, 1.06MB/s]\n",
      "DEBUG:urllib3.connectionpool:Starting new HTTPS connection (1): f000.backblazeb2.com:443\n"
     ]
    },
    {
     "name": "stdout",
     "output_type": "stream",
     "text": [
      "downloading frozen tokenizer to /Users/huseinzolkepli/Malaya/toxicity/bert/sp10m.cased.bert.model\n"
     ]
    },
    {
     "name": "stderr",
     "output_type": "stream",
     "text": [
      "DEBUG:urllib3.connectionpool:https://f000.backblazeb2.com:443 \"GET /file/malaya-model/bpe/sp10m.cased.bert.model HTTP/1.1\" 200 778744\n",
      "135%|██████████| 1.00/0.74 [00:01<00:00, 1.10s/MB]\n",
      "INFO:root:running toxicity/bert using device /device:CPU:0\n",
      "DEBUG:root:['▁anjeng', '▁semua', '▁dan', '▁korang']\n"
     ]
    },
    {
     "name": "stdout",
     "output_type": "stream",
     "text": [
      "[{'severe toxic': 0.047244247, 'obscene': 0.31317097, 'identity attack': 0.020306973, 'insult': 0.5153407, 'threat': 0.0066944277, 'asian': 3.6319318e-05, 'atheist': 1.9398256e-05, 'bisexual': 2.2521905e-05, 'buddhist': 6.6695748e-06, 'christian': 0.0003740306, 'female': 0.00010691133, 'heterosexual': 1.135441e-05, 'indian': 3.7791982e-05, 'homosexual, gay or lesbian': 5.6351528e-05, 'intellectual or learning disability': 0.00019064276, 'male': 0.00042328125, 'muslim': 6.13325e-05, 'other disability': 5.0255538e-05, 'other gender': 5.2294883e-05, 'other race or ethnicity': 4.6523164e-05, 'other religion': 7.5373246e-05, 'other sexual orientation': 6.95526e-05, 'physical disability': 3.2101398e-05, 'psychiatric or mental illness': 0.00044680876, 'transgender': 2.7355818e-05, 'malay': 1.48167965e-05, 'chinese': 0.0007233482}]\n"
     ]
    },
    {
     "name": "stderr",
     "output_type": "stream",
     "text": [
      "DEBUG:urllib3.connectionpool:Starting new HTTPS connection (1): f000.backblazeb2.com:443\n"
     ]
    },
    {
     "name": "stdout",
     "output_type": "stream",
     "text": [
      "tiny-bert\n"
     ]
    },
    {
     "name": "stderr",
     "output_type": "stream",
     "text": [
      "DEBUG:urllib3.connectionpool:https://f000.backblazeb2.com:443 \"HEAD /file/malaya-model/toxicity/tiny-bert/model.pb HTTP/1.1\" 200 0\n",
      "DEBUG:urllib3.connectionpool:Starting new HTTPS connection (1): f000.backblazeb2.com:443\n",
      "DEBUG:urllib3.connectionpool:https://f000.backblazeb2.com:443 \"HEAD /file/malaya-model/bpe/sp10m.cased.bert.vocab HTTP/1.1\" 200 0\n",
      "DEBUG:urllib3.connectionpool:Starting new HTTPS connection (1): f000.backblazeb2.com:443\n",
      "DEBUG:urllib3.connectionpool:https://f000.backblazeb2.com:443 \"HEAD /file/malaya-model/bpe/sp10m.cased.bert.model HTTP/1.1\" 200 0\n",
      "DEBUG:urllib3.connectionpool:Starting new HTTPS connection (1): f000.backblazeb2.com:443\n",
      "DEBUG:urllib3.connectionpool:https://f000.backblazeb2.com:443 \"HEAD /file/malaya-model/toxicity/tiny-bert/version HTTP/1.1\" 404 0\n",
      "DEBUG:urllib3.connectionpool:Starting new HTTPS connection (1): f000.backblazeb2.com:443\n"
     ]
    },
    {
     "name": "stdout",
     "output_type": "stream",
     "text": [
      "downloading frozen model to /Users/huseinzolkepli/Malaya/toxicity/tiny-bert/model.pb\n"
     ]
    },
    {
     "name": "stderr",
     "output_type": "stream",
     "text": [
      "DEBUG:urllib3.connectionpool:https://f000.backblazeb2.com:443 \"GET /file/malaya-model/toxicity/tiny-bert/model.pb HTTP/1.1\" 200 60175201\n",
      "58.0MB [00:08, 6.82MB/s]                          \n",
      "DEBUG:urllib3.connectionpool:Starting new HTTPS connection (1): f000.backblazeb2.com:443\n"
     ]
    },
    {
     "name": "stdout",
     "output_type": "stream",
     "text": [
      "downloading frozen vocab to /Users/huseinzolkepli/Malaya/toxicity/tiny-bert/sp10m.cased.bert.vocab\n"
     ]
    },
    {
     "name": "stderr",
     "output_type": "stream",
     "text": [
      "DEBUG:urllib3.connectionpool:https://f000.backblazeb2.com:443 \"GET /file/malaya-model/bpe/sp10m.cased.bert.vocab HTTP/1.1\" 200 568997\n",
      "184%|██████████| 1.00/0.54 [00:01<00:00, 1.01s/MB]\n",
      "DEBUG:urllib3.connectionpool:Starting new HTTPS connection (1): f000.backblazeb2.com:443\n"
     ]
    },
    {
     "name": "stdout",
     "output_type": "stream",
     "text": [
      "downloading frozen tokenizer to /Users/huseinzolkepli/Malaya/toxicity/tiny-bert/sp10m.cased.bert.model\n"
     ]
    },
    {
     "name": "stderr",
     "output_type": "stream",
     "text": [
      "DEBUG:urllib3.connectionpool:https://f000.backblazeb2.com:443 \"GET /file/malaya-model/bpe/sp10m.cased.bert.model HTTP/1.1\" 200 778744\n",
      "135%|██████████| 1.00/0.74 [00:01<00:00, 1.19s/MB]\n",
      "INFO:root:running toxicity/tiny-bert using device /device:CPU:0\n",
      "DEBUG:root:['▁anjeng', '▁semua', '▁dan', '▁korang']\n",
      "DEBUG:urllib3.connectionpool:Starting new HTTPS connection (1): f000.backblazeb2.com:443\n"
     ]
    },
    {
     "name": "stdout",
     "output_type": "stream",
     "text": [
      "[{'severe toxic': 0.08358802, 'obscene': 0.117240794, 'identity attack': 0.12694152, 'insult': 0.47204247, 'threat': 0.009130141, 'asian': 0.0006017385, 'atheist': 2.4400966e-05, 'bisexual': 1.6541473e-05, 'buddhist': 8.843684e-06, 'christian': 0.00014445194, 'female': 8.277081e-05, 'heterosexual': 1.5327863e-05, 'indian': 1.0526983e-05, 'homosexual, gay or lesbian': 0.00014770811, 'intellectual or learning disability': 0.00010193895, 'male': 0.00045176983, 'muslim': 0.00013988097, 'other disability': 5.942963e-05, 'other gender': 9.6976095e-05, 'other race or ethnicity': 0.0005597251, 'other religion': 0.00015236999, 'other sexual orientation': 7.28479e-05, 'physical disability': 3.519954e-05, 'psychiatric or mental illness': 6.878217e-05, 'transgender': 2.750713e-05, 'malay': 1.9169625e-05, 'chinese': 0.0008177413}]\n",
      "albert\n"
     ]
    },
    {
     "name": "stderr",
     "output_type": "stream",
     "text": [
      "DEBUG:urllib3.connectionpool:https://f000.backblazeb2.com:443 \"HEAD /file/malaya-model/toxicity/albert/model.pb HTTP/1.1\" 200 0\n",
      "DEBUG:urllib3.connectionpool:Starting new HTTPS connection (1): f000.backblazeb2.com:443\n",
      "DEBUG:urllib3.connectionpool:https://f000.backblazeb2.com:443 \"HEAD /file/malaya-model/bpe/sp10m.cased.v10.vocab HTTP/1.1\" 200 0\n",
      "DEBUG:urllib3.connectionpool:Starting new HTTPS connection (1): f000.backblazeb2.com:443\n",
      "DEBUG:urllib3.connectionpool:https://f000.backblazeb2.com:443 \"HEAD /file/malaya-model/bpe/sp10m.cased.v10.model HTTP/1.1\" 200 0\n",
      "DEBUG:urllib3.connectionpool:Starting new HTTPS connection (1): f000.backblazeb2.com:443\n",
      "DEBUG:urllib3.connectionpool:https://f000.backblazeb2.com:443 \"HEAD /file/malaya-model/toxicity/albert/version HTTP/1.1\" 404 0\n",
      "DEBUG:urllib3.connectionpool:Starting new HTTPS connection (1): f000.backblazeb2.com:443\n"
     ]
    },
    {
     "name": "stdout",
     "output_type": "stream",
     "text": [
      "downloading frozen model to /Users/huseinzolkepli/Malaya/toxicity/albert/model.pb\n"
     ]
    },
    {
     "name": "stderr",
     "output_type": "stream",
     "text": [
      "DEBUG:urllib3.connectionpool:https://f000.backblazeb2.com:443 \"GET /file/malaya-model/toxicity/albert/model.pb HTTP/1.1\" 200 51018044\n",
      "101%|██████████| 49.0/48.7 [00:08<00:00, 5.72MB/s]\n",
      "DEBUG:urllib3.connectionpool:Starting new HTTPS connection (1): f000.backblazeb2.com:443\n"
     ]
    },
    {
     "name": "stdout",
     "output_type": "stream",
     "text": [
      "downloading frozen vocab to /Users/huseinzolkepli/Malaya/toxicity/albert/sp10m.cased.v10.vocab\n"
     ]
    },
    {
     "name": "stderr",
     "output_type": "stream",
     "text": [
      "DEBUG:urllib3.connectionpool:https://f000.backblazeb2.com:443 \"GET /file/malaya-model/bpe/sp10m.cased.v10.vocab HTTP/1.1\" 200 569013\n",
      "184%|██████████| 1.00/0.54 [00:01<00:00, 1.07s/MB]\n",
      "DEBUG:urllib3.connectionpool:Starting new HTTPS connection (1): f000.backblazeb2.com:443\n"
     ]
    },
    {
     "name": "stdout",
     "output_type": "stream",
     "text": [
      "downloading frozen tokenizer to /Users/huseinzolkepli/Malaya/toxicity/albert/sp10m.cased.v10.model\n"
     ]
    },
    {
     "name": "stderr",
     "output_type": "stream",
     "text": [
      "DEBUG:urllib3.connectionpool:https://f000.backblazeb2.com:443 \"GET /file/malaya-model/bpe/sp10m.cased.v10.model HTTP/1.1\" 200 778641\n",
      "135%|██████████| 1.00/0.74 [00:01<00:00, 1.19s/MB]\n",
      "INFO:root:running toxicity/albert using device /device:CPU:0\n",
      "DEBUG:root:['▁anjeng', '▁semua', '▁dan', '▁korang']\n",
      "DEBUG:urllib3.connectionpool:Starting new HTTPS connection (1): f000.backblazeb2.com:443\n"
     ]
    },
    {
     "name": "stdout",
     "output_type": "stream",
     "text": [
      "[{'severe toxic': 0.09428157, 'obscene': 0.30642435, 'identity attack': 0.0038580263, 'insult': 0.4607309, 'threat': 0.06691651, 'asian': 6.498168e-05, 'atheist': 7.872227e-06, 'bisexual': 3.7808135e-05, 'buddhist': 1.8564038e-05, 'christian': 0.00015227775, 'female': 0.0002541696, 'heterosexual': 4.1662628e-05, 'indian': 0.0001888394, 'homosexual, gay or lesbian': 9.011976e-05, 'intellectual or learning disability': 0.00021880073, 'male': 0.0007298998, 'muslim': 1.9384921e-05, 'other disability': 9.6930984e-05, 'other gender': 8.3286126e-05, 'other race or ethnicity': 5.8169328e-05, 'other religion': 6.164435e-05, 'other sexual orientation': 8.9221074e-05, 'physical disability': 6.2558756e-05, 'psychiatric or mental illness': 0.00011426784, 'transgender': 4.0811745e-05, 'malay': 0.0002446389, 'chinese': 0.00014446379}]\n",
      "tiny-albert\n"
     ]
    },
    {
     "name": "stderr",
     "output_type": "stream",
     "text": [
      "DEBUG:urllib3.connectionpool:https://f000.backblazeb2.com:443 \"HEAD /file/malaya-model/toxicity/tiny-albert/model.pb HTTP/1.1\" 200 0\n",
      "DEBUG:urllib3.connectionpool:Starting new HTTPS connection (1): f000.backblazeb2.com:443\n",
      "DEBUG:urllib3.connectionpool:https://f000.backblazeb2.com:443 \"HEAD /file/malaya-model/bpe/sp10m.cased.v10.vocab HTTP/1.1\" 200 0\n",
      "DEBUG:urllib3.connectionpool:Starting new HTTPS connection (1): f000.backblazeb2.com:443\n",
      "DEBUG:urllib3.connectionpool:https://f000.backblazeb2.com:443 \"HEAD /file/malaya-model/bpe/sp10m.cased.v10.model HTTP/1.1\" 200 0\n",
      "DEBUG:urllib3.connectionpool:Starting new HTTPS connection (1): f000.backblazeb2.com:443\n",
      "DEBUG:urllib3.connectionpool:https://f000.backblazeb2.com:443 \"HEAD /file/malaya-model/toxicity/tiny-albert/version HTTP/1.1\" 404 0\n",
      "DEBUG:urllib3.connectionpool:Starting new HTTPS connection (1): f000.backblazeb2.com:443\n"
     ]
    },
    {
     "name": "stdout",
     "output_type": "stream",
     "text": [
      "downloading frozen model to /Users/huseinzolkepli/Malaya/toxicity/tiny-albert/model.pb\n"
     ]
    },
    {
     "name": "stderr",
     "output_type": "stream",
     "text": [
      "DEBUG:urllib3.connectionpool:https://f000.backblazeb2.com:443 \"GET /file/malaya-model/toxicity/tiny-albert/model.pb HTTP/1.1\" 200 23489666\n",
      "23.0MB [00:05, 4.10MB/s]                          \n",
      "DEBUG:urllib3.connectionpool:Starting new HTTPS connection (1): f000.backblazeb2.com:443\n"
     ]
    },
    {
     "name": "stdout",
     "output_type": "stream",
     "text": [
      "downloading frozen vocab to /Users/huseinzolkepli/Malaya/toxicity/tiny-albert/sp10m.cased.v10.vocab\n"
     ]
    },
    {
     "name": "stderr",
     "output_type": "stream",
     "text": [
      "DEBUG:urllib3.connectionpool:https://f000.backblazeb2.com:443 \"GET /file/malaya-model/bpe/sp10m.cased.v10.vocab HTTP/1.1\" 200 569013\n",
      "184%|██████████| 1.00/0.54 [00:00<00:00, 1.03MB/s]\n",
      "DEBUG:urllib3.connectionpool:Starting new HTTPS connection (1): f000.backblazeb2.com:443\n"
     ]
    },
    {
     "name": "stdout",
     "output_type": "stream",
     "text": [
      "downloading frozen tokenizer to /Users/huseinzolkepli/Malaya/toxicity/tiny-albert/sp10m.cased.v10.model\n"
     ]
    },
    {
     "name": "stderr",
     "output_type": "stream",
     "text": [
      "DEBUG:urllib3.connectionpool:https://f000.backblazeb2.com:443 \"GET /file/malaya-model/bpe/sp10m.cased.v10.model HTTP/1.1\" 200 778641\n",
      "135%|██████████| 1.00/0.74 [00:01<00:00, 1.17s/MB]\n",
      "INFO:root:running toxicity/tiny-albert using device /device:CPU:0\n",
      "DEBUG:root:['▁anjeng', '▁semua', '▁dan', '▁korang']\n",
      "DEBUG:urllib3.connectionpool:Starting new HTTPS connection (1): f000.backblazeb2.com:443\n"
     ]
    },
    {
     "name": "stdout",
     "output_type": "stream",
     "text": [
      "[{'severe toxic': 0.03981557, 'obscene': 0.383737, 'identity attack': 0.016769366, 'insult': 0.34151596, 'threat': 0.02451048, 'asian': 0.00011089742, 'atheist': 1.7367402e-05, 'bisexual': 1.4727311e-05, 'buddhist': 5.235269e-06, 'christian': 0.00047272295, 'female': 0.00034153776, 'heterosexual': 0.00011256777, 'indian': 7.6602926e-05, 'homosexual, gay or lesbian': 0.00014411991, 'intellectual or learning disability': 0.00026503616, 'male': 0.0014181384, 'muslim': 2.5641397e-05, 'other disability': 0.00015207949, 'other gender': 9.70777e-05, 'other race or ethnicity': 0.00023424582, 'other religion': 0.00016982738, 'other sexual orientation': 0.00010507199, 'physical disability': 0.00017470455, 'psychiatric or mental illness': 0.00024692944, 'transgender': 1.7348133e-05, 'malay': 7.723569e-05, 'chinese': 0.00021755107}]\n",
      "xlnet\n"
     ]
    },
    {
     "name": "stderr",
     "output_type": "stream",
     "text": [
      "DEBUG:urllib3.connectionpool:https://f000.backblazeb2.com:443 \"HEAD /file/malaya-model/toxicity/xlnet/model.pb HTTP/1.1\" 200 0\n",
      "DEBUG:urllib3.connectionpool:Starting new HTTPS connection (1): f000.backblazeb2.com:443\n",
      "DEBUG:urllib3.connectionpool:https://f000.backblazeb2.com:443 \"HEAD /file/malaya-model/bpe/sp10m.cased.v9.vocab HTTP/1.1\" 200 0\n",
      "DEBUG:urllib3.connectionpool:Starting new HTTPS connection (1): f000.backblazeb2.com:443\n",
      "DEBUG:urllib3.connectionpool:https://f000.backblazeb2.com:443 \"HEAD /file/malaya-model/bpe/sp10m.cased.v9.model HTTP/1.1\" 200 0\n",
      "DEBUG:urllib3.connectionpool:Starting new HTTPS connection (1): f000.backblazeb2.com:443\n",
      "DEBUG:urllib3.connectionpool:https://f000.backblazeb2.com:443 \"HEAD /file/malaya-model/toxicity/xlnet/version HTTP/1.1\" 404 0\n",
      "DEBUG:urllib3.connectionpool:Starting new HTTPS connection (1): f000.backblazeb2.com:443\n"
     ]
    },
    {
     "name": "stdout",
     "output_type": "stream",
     "text": [
      "downloading frozen model to /Users/huseinzolkepli/Malaya/toxicity/xlnet/model.pb\n"
     ]
    },
    {
     "name": "stderr",
     "output_type": "stream",
     "text": [
      "DEBUG:urllib3.connectionpool:https://f000.backblazeb2.com:443 \"GET /file/malaya-model/toxicity/xlnet/model.pb HTTP/1.1\" 200 468261159\n",
      "100%|██████████| 447/447 [00:59<00:00, 7.57MB/s] \n",
      "DEBUG:urllib3.connectionpool:Starting new HTTPS connection (1): f000.backblazeb2.com:443\n"
     ]
    },
    {
     "name": "stdout",
     "output_type": "stream",
     "text": [
      "downloading frozen vocab to /Users/huseinzolkepli/Malaya/toxicity/xlnet/sp10m.cased.v9.vocab\n"
     ]
    },
    {
     "name": "stderr",
     "output_type": "stream",
     "text": [
      "DEBUG:urllib3.connectionpool:https://f000.backblazeb2.com:443 \"GET /file/malaya-model/bpe/sp10m.cased.v9.vocab HTTP/1.1\" 200 568997\n",
      "184%|██████████| 1.00/0.54 [00:00<00:00, 1.04MB/s]\n",
      "DEBUG:urllib3.connectionpool:Starting new HTTPS connection (1): f000.backblazeb2.com:443\n"
     ]
    },
    {
     "name": "stdout",
     "output_type": "stream",
     "text": [
      "downloading frozen tokenizer to /Users/huseinzolkepli/Malaya/toxicity/xlnet/sp10m.cased.v9.model\n"
     ]
    },
    {
     "name": "stderr",
     "output_type": "stream",
     "text": [
      "DEBUG:urllib3.connectionpool:https://f000.backblazeb2.com:443 \"GET /file/malaya-model/bpe/sp10m.cased.v9.model HTTP/1.1\" 200 778744\n",
      "135%|██████████| 1.00/0.74 [00:01<00:00, 1.18s/MB]\n",
      "INFO:root:running toxicity/xlnet using device /device:CPU:0\n",
      "DEBUG:root:['▁anjeng', '▁semua', '▁dan', '▁korang']\n",
      "DEBUG:root:[27591, 86, 24, 499, 4, 3]\n"
     ]
    },
    {
     "name": "stdout",
     "output_type": "stream",
     "text": [
      "[{'severe toxic': 0.026121082, 'obscene': 0.03985378, 'identity attack': 0.018634735, 'insult': 0.31707293, 'threat': 0.009219445, 'asian': 0.0005110423, 'atheist': 0.0005849141, 'bisexual': 1.862339e-05, 'buddhist': 0.00016436313, 'christian': 0.002271049, 'female': 0.0028402775, 'heterosexual': 4.8229536e-05, 'indian': 4.0498893e-05, 'homosexual, gay or lesbian': 9.533797e-05, 'intellectual or learning disability': 0.00020467617, 'male': 0.0134057775, 'muslim': 0.00041657465, 'other disability': 8.84978e-05, 'other gender': 5.538436e-05, 'other race or ethnicity': 0.0001458424, 'other religion': 0.00011015105, 'other sexual orientation': 7.3343464e-05, 'physical disability': 4.1378677e-05, 'psychiatric or mental illness': 0.00013211636, 'transgender': 6.79949e-05, 'malay': 0.0001086459, 'chinese': 0.00047961602}]\n"
     ]
    },
    {
     "name": "stderr",
     "output_type": "stream",
     "text": [
      "DEBUG:urllib3.connectionpool:Starting new HTTPS connection (1): f000.backblazeb2.com:443\n"
     ]
    },
    {
     "name": "stdout",
     "output_type": "stream",
     "text": [
      "alxlnet\n"
     ]
    },
    {
     "name": "stderr",
     "output_type": "stream",
     "text": [
      "DEBUG:urllib3.connectionpool:https://f000.backblazeb2.com:443 \"HEAD /file/malaya-model/toxicity/alxlnet/model.pb HTTP/1.1\" 200 0\n",
      "DEBUG:urllib3.connectionpool:Starting new HTTPS connection (1): f000.backblazeb2.com:443\n",
      "DEBUG:urllib3.connectionpool:https://f000.backblazeb2.com:443 \"HEAD /file/malaya-model/bpe/sp10m.cased.v9.vocab HTTP/1.1\" 200 0\n",
      "DEBUG:urllib3.connectionpool:Starting new HTTPS connection (1): f000.backblazeb2.com:443\n",
      "DEBUG:urllib3.connectionpool:https://f000.backblazeb2.com:443 \"HEAD /file/malaya-model/bpe/sp10m.cased.v9.model HTTP/1.1\" 200 0\n",
      "DEBUG:urllib3.connectionpool:Starting new HTTPS connection (1): f000.backblazeb2.com:443\n",
      "DEBUG:urllib3.connectionpool:https://f000.backblazeb2.com:443 \"HEAD /file/malaya-model/toxicity/alxlnet/version HTTP/1.1\" 404 0\n",
      "DEBUG:urllib3.connectionpool:Starting new HTTPS connection (1): f000.backblazeb2.com:443\n"
     ]
    },
    {
     "name": "stdout",
     "output_type": "stream",
     "text": [
      "downloading frozen model to /Users/huseinzolkepli/Malaya/toxicity/alxlnet/model.pb\n"
     ]
    },
    {
     "name": "stderr",
     "output_type": "stream",
     "text": [
      "DEBUG:urllib3.connectionpool:https://f000.backblazeb2.com:443 \"GET /file/malaya-model/toxicity/alxlnet/model.pb HTTP/1.1\" 200 49115815\n",
      "100%|██████████| 47.0/46.8 [00:07<00:00, 6.12MB/s]\n",
      "DEBUG:urllib3.connectionpool:Starting new HTTPS connection (1): f000.backblazeb2.com:443\n"
     ]
    },
    {
     "name": "stdout",
     "output_type": "stream",
     "text": [
      "downloading frozen vocab to /Users/huseinzolkepli/Malaya/toxicity/alxlnet/sp10m.cased.v9.vocab\n"
     ]
    },
    {
     "name": "stderr",
     "output_type": "stream",
     "text": [
      "DEBUG:urllib3.connectionpool:https://f000.backblazeb2.com:443 \"GET /file/malaya-model/bpe/sp10m.cased.v9.vocab HTTP/1.1\" 200 568997\n",
      "184%|██████████| 1.00/0.54 [00:00<00:00, 1.11MB/s]\n",
      "DEBUG:urllib3.connectionpool:Starting new HTTPS connection (1): f000.backblazeb2.com:443\n"
     ]
    },
    {
     "name": "stdout",
     "output_type": "stream",
     "text": [
      "downloading frozen tokenizer to /Users/huseinzolkepli/Malaya/toxicity/alxlnet/sp10m.cased.v9.model\n"
     ]
    },
    {
     "name": "stderr",
     "output_type": "stream",
     "text": [
      "DEBUG:urllib3.connectionpool:https://f000.backblazeb2.com:443 \"GET /file/malaya-model/bpe/sp10m.cased.v9.model HTTP/1.1\" 200 778744\n",
      "135%|██████████| 1.00/0.74 [00:01<00:00, 1.09s/MB]\n",
      "INFO:root:running toxicity/alxlnet using device /device:CPU:0\n",
      "DEBUG:root:['▁anjeng', '▁semua', '▁dan', '▁korang']\n",
      "DEBUG:root:[27591, 86, 24, 499, 4, 3]\n"
     ]
    },
    {
     "name": "stdout",
     "output_type": "stream",
     "text": [
      "[{'severe toxic': 0.035606686, 'obscene': 0.29214028, 'identity attack': 0.015387283, 'insult': 0.29182553, 'threat': 0.022618143, 'asian': 0.0005699518, 'atheist': 0.00018598195, 'bisexual': 0.00071654853, 'buddhist': 2.5504894e-05, 'christian': 0.0047067106, 'female': 0.0037225832, 'heterosexual': 9.1593516e-05, 'indian': 0.000163634, 'homosexual, gay or lesbian': 0.00029606477, 'intellectual or learning disability': 0.0009792232, 'male': 0.0027635775, 'muslim': 0.00030462013, 'other disability': 0.00010148045, 'other gender': 0.00019835038, 'other race or ethnicity': 0.00022896055, 'other religion': 0.00017744457, 'other sexual orientation': 0.0003872897, 'physical disability': 0.00028202566, 'psychiatric or mental illness': 0.001094312, 'transgender': 3.8204078e-05, 'malay': 0.0002583845, 'chinese': 0.0005328881}]\n"
     ]
    }
   ],
   "source": [
    "models = malaya.toxicity.available_transformer()\n",
    "for m in models.index:\n",
    "    print(m)\n",
    "    model = malaya.toxicity.transformer(model = m, gpu_limit = 0.3)\n",
    "    print(model.predict_proba([text]))\n",
    "    print(model.predict_words(text, visualization = False))\n",
    "    malaya.utils.delete_cache(f'toxicity/{m}')\n",
    "    del model"
   ]
  },
  {
   "cell_type": "code",
   "execution_count": 11,
   "id": "copyrighted-victory",
   "metadata": {},
   "outputs": [
    {
     "name": "stderr",
     "output_type": "stream",
     "text": [
      "DEBUG:urllib3.connectionpool:Starting new HTTPS connection (1): f000.backblazeb2.com:443\n"
     ]
    },
    {
     "name": "stdout",
     "output_type": "stream",
     "text": [
      "downloading frozen model to /Users/huseinzolkepli/Malaya/toxicity/multinomial/multinomial.pkl\n"
     ]
    },
    {
     "name": "stderr",
     "output_type": "stream",
     "text": [
      "DEBUG:urllib3.connectionpool:https://f000.backblazeb2.com:443 \"GET /file/malaya-model/v34/toxicity/multinomial.pkl HTTP/1.1\" 200 60011856\n",
      "58.0MB [00:07, 7.78MB/s]                          \n",
      "DEBUG:urllib3.connectionpool:Starting new HTTPS connection (1): f000.backblazeb2.com:443\n"
     ]
    },
    {
     "name": "stdout",
     "output_type": "stream",
     "text": [
      "downloading frozen vector to /Users/huseinzolkepli/Malaya/toxicity/multinomial/tfidf.pkl\n"
     ]
    },
    {
     "name": "stderr",
     "output_type": "stream",
     "text": [
      "DEBUG:urllib3.connectionpool:https://f000.backblazeb2.com:443 \"GET /file/malaya-model/v34/toxicity/tfidf.pkl HTTP/1.1\" 200 2746894\n",
      "115%|██████████| 3.00/2.62 [00:01<00:00, 1.75MB/s]\n",
      "DEBUG:urllib3.connectionpool:Starting new HTTPS connection (1): f000.backblazeb2.com:443\n"
     ]
    },
    {
     "name": "stdout",
     "output_type": "stream",
     "text": [
      "downloading frozen bpe to /Users/huseinzolkepli/Malaya/toxicity/multinomial/bpe.model\n"
     ]
    },
    {
     "name": "stderr",
     "output_type": "stream",
     "text": [
      "DEBUG:urllib3.connectionpool:https://f000.backblazeb2.com:443 \"GET /file/malaya-model/v34/toxicity/bpe.model HTTP/1.1\" 200 882031\n",
      "119%|██████████| 1.00/0.84 [00:01<00:00, 1.14s/MB]\n"
     ]
    },
    {
     "name": "stdout",
     "output_type": "stream",
     "text": [
      "[{'severe toxic': 0.9913422836835973, 'obscene': 0.8946858492083218, 'identity attack': 0.8294924055514997, 'insult': 0.48818242514172616, 'threat': 0.686850843992082, 'asian': 0.6739135760762739, 'atheist': 0.6951747898587136, 'bisexual': 0.7137301659313864, 'buddhist': 0.7097961892326001, 'christian': 0.4856033403320324, 'female': 0.45471656535412586, 'heterosexual': 0.6999727209304136, 'indian': 0.9353104358141244, 'homosexual, gay or lesbian': 0.576363279537782, 'intellectual or learning disability': 0.7157436940505602, 'male': 0.5247014928365297, 'muslim': 0.5805212173980271, 'other disability': 0.0, 'other gender': 0.0, 'other race or ethnicity': 0.7156945542185648, 'other religion': 0.7155091342774362, 'other sexual orientation': 0.7164054032592839, 'physical disability': 0.7158554493788809, 'psychiatric or mental illness': 0.6837785171585007, 'transgender': 0.690599177583506, 'malay': 0.8998344883625864, 'chinese': 0.9889399672323255}]\n"
     ]
    },
    {
     "data": {
      "text/plain": [
       "True"
      ]
     },
     "execution_count": 11,
     "metadata": {},
     "output_type": "execute_result"
    }
   ],
   "source": [
    "model = malaya.toxicity.multinomial()\n",
    "print(model.predict_proba(['anjeng']))\n",
    "malaya.utils.delete_cache('toxicity/multinomial')"
   ]
  },
  {
   "cell_type": "code",
   "execution_count": null,
   "id": "traditional-television",
   "metadata": {},
   "outputs": [],
   "source": []
  }
 ],
 "metadata": {
  "kernelspec": {
   "display_name": "Python 3",
   "language": "python",
   "name": "python3"
  },
  "language_info": {
   "codemirror_mode": {
    "name": "ipython",
    "version": 3
   },
   "file_extension": ".py",
   "mimetype": "text/x-python",
   "name": "python",
   "nbconvert_exporter": "python",
   "pygments_lexer": "ipython3",
   "version": "3.7.7"
  }
 },
 "nbformat": 4,
 "nbformat_minor": 5
}
