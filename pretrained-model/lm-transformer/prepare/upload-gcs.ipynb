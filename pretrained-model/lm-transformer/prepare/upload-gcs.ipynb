{
 "cells": [
  {
   "cell_type": "code",
   "execution_count": 1,
   "metadata": {},
   "outputs": [],
   "source": [
    "import os\n",
    "\n",
    "os.environ['GOOGLE_APPLICATION_CREDENTIALS'] = 'mesolitica-tpu.json'"
   ]
  },
  {
   "cell_type": "code",
   "execution_count": 2,
   "metadata": {},
   "outputs": [],
   "source": [
    "from google.cloud import storage\n",
    "client = storage.Client()\n",
    "bucket = client.bucket('mesolitica-tpu-general')"
   ]
  },
  {
   "cell_type": "code",
   "execution_count": 4,
   "metadata": {
    "scrolled": true
   },
   "outputs": [
    {
     "data": {
      "text/plain": [
       "['t2t-dumping/data/seq2_seq-train-00002-of-00050',\n",
       " 't2t-dumping/data/seq2_seq-train-00039-of-00050',\n",
       " 't2t-dumping/data/seq2_seq-train-00013-of-00050',\n",
       " 't2t-dumping/data/seq2_seq-train-00004-of-00050',\n",
       " 't2t-dumping/data/seq2_seq-train-00044-of-00050',\n",
       " 't2t-dumping/data/seq2_seq-train-00042-of-00050',\n",
       " 't2t-dumping/data/seq2_seq-train-00026-of-00050',\n",
       " 't2t-dumping/data/seq2_seq-train-00003-of-00050',\n",
       " 't2t-dumping/data/seq2_seq-train-00000-of-00050',\n",
       " 't2t-dumping/data/seq2_seq-train-00022-of-00050',\n",
       " 't2t-dumping/data/seq2_seq-train-00043-of-00050',\n",
       " 't2t-dumping/data/seq2_seq-train-00023-of-00050',\n",
       " 't2t-dumping/data/seq2_seq-train-00014-of-00050',\n",
       " 't2t-dumping/data/seq2_seq-train-00021-of-00050',\n",
       " 't2t-dumping/data/seq2_seq-train-00019-of-00050',\n",
       " 't2t-dumping/data/seq2_seq-train-00034-of-00050',\n",
       " 't2t-dumping/data/seq2_seq-train-00031-of-00050',\n",
       " 't2t-dumping/data/seq2_seq-train-00033-of-00050',\n",
       " 't2t-dumping/data/seq2_seq-train-00007-of-00050',\n",
       " 't2t-dumping/data/seq2_seq-train-00017-of-00050',\n",
       " 't2t-dumping/data/seq2_seq-train-00049-of-00050',\n",
       " 't2t-dumping/data/seq2_seq-train-00045-of-00050',\n",
       " 't2t-dumping/data/seq2_seq-train-00041-of-00050',\n",
       " 't2t-dumping/data/seq2_seq-train-00006-of-00050',\n",
       " 't2t-dumping/data/seq2_seq-train-00027-of-00050',\n",
       " 't2t-dumping/data/seq2_seq-train-00046-of-00050',\n",
       " 't2t-dumping/data/seq2_seq-train-00020-of-00050',\n",
       " 't2t-dumping/data/seq2_seq-train-00010-of-00050',\n",
       " 't2t-dumping/data/seq2_seq-train-00012-of-00050',\n",
       " 't2t-dumping/data/seq2_seq-train-00047-of-00050',\n",
       " 't2t-dumping/data/seq2_seq-train-00037-of-00050',\n",
       " 't2t-dumping/data/seq2_seq-train-00025-of-00050',\n",
       " 't2t-dumping/data/seq2_seq-train-00032-of-00050',\n",
       " 't2t-dumping/data/seq2_seq-train-00040-of-00050',\n",
       " 't2t-dumping/data/seq2_seq-train-00029-of-00050',\n",
       " 't2t-dumping/data/seq2_seq-train-00024-of-00050',\n",
       " 't2t-dumping/data/seq2_seq-train-00018-of-00050',\n",
       " 't2t-dumping/data/seq2_seq-train-00048-of-00050',\n",
       " 't2t-dumping/data/seq2_seq-train-00036-of-00050',\n",
       " 't2t-dumping/data/seq2_seq-train-00028-of-00050',\n",
       " 't2t-dumping/data/seq2_seq-train-00015-of-00050',\n",
       " 't2t-dumping/data/seq2_seq-train-00035-of-00050',\n",
       " 't2t-dumping/data/seq2_seq-train-00016-of-00050',\n",
       " 't2t-dumping/data/seq2_seq-train-00009-of-00050',\n",
       " 't2t-dumping/data/seq2_seq-train-00008-of-00050',\n",
       " 't2t-dumping/data/seq2_seq-train-00011-of-00050',\n",
       " 't2t-dumping/data/seq2_seq-train-00005-of-00050',\n",
       " 't2t-dumping/data/seq2_seq-train-00038-of-00050',\n",
       " 't2t-dumping/data/seq2_seq-train-00001-of-00050',\n",
       " 't2t-dumping/data/seq2_seq-train-00030-of-00050']"
      ]
     },
     "execution_count": 4,
     "metadata": {},
     "output_type": "execute_result"
    }
   ],
   "source": [
    "from glob import glob\n",
    "\n",
    "files = glob('t2t-dumping/data/*')\n",
    "files"
   ]
  },
  {
   "cell_type": "code",
   "execution_count": 6,
   "metadata": {},
   "outputs": [
    {
     "name": "stdout",
     "output_type": "stream",
     "text": [
      "t2t-dumping/data/seq2_seq-train-00002-of-00050\n",
      "t2t-dumping/data/seq2_seq-train-00039-of-00050\n",
      "t2t-dumping/data/seq2_seq-train-00013-of-00050\n",
      "t2t-dumping/data/seq2_seq-train-00004-of-00050\n",
      "t2t-dumping/data/seq2_seq-train-00044-of-00050\n",
      "t2t-dumping/data/seq2_seq-train-00042-of-00050\n",
      "t2t-dumping/data/seq2_seq-train-00026-of-00050\n",
      "t2t-dumping/data/seq2_seq-train-00003-of-00050\n",
      "t2t-dumping/data/seq2_seq-train-00000-of-00050\n",
      "t2t-dumping/data/seq2_seq-train-00022-of-00050\n",
      "t2t-dumping/data/seq2_seq-train-00043-of-00050\n",
      "t2t-dumping/data/seq2_seq-train-00023-of-00050\n",
      "t2t-dumping/data/seq2_seq-train-00014-of-00050\n",
      "t2t-dumping/data/seq2_seq-train-00021-of-00050\n",
      "t2t-dumping/data/seq2_seq-train-00019-of-00050\n",
      "t2t-dumping/data/seq2_seq-train-00034-of-00050\n",
      "t2t-dumping/data/seq2_seq-train-00031-of-00050\n",
      "t2t-dumping/data/seq2_seq-train-00033-of-00050\n",
      "t2t-dumping/data/seq2_seq-train-00007-of-00050\n",
      "t2t-dumping/data/seq2_seq-train-00017-of-00050\n",
      "t2t-dumping/data/seq2_seq-train-00049-of-00050\n",
      "t2t-dumping/data/seq2_seq-train-00045-of-00050\n",
      "t2t-dumping/data/seq2_seq-train-00041-of-00050\n",
      "t2t-dumping/data/seq2_seq-train-00006-of-00050\n",
      "t2t-dumping/data/seq2_seq-train-00027-of-00050\n",
      "t2t-dumping/data/seq2_seq-train-00046-of-00050\n",
      "t2t-dumping/data/seq2_seq-train-00020-of-00050\n",
      "t2t-dumping/data/seq2_seq-train-00010-of-00050\n",
      "t2t-dumping/data/seq2_seq-train-00012-of-00050\n",
      "t2t-dumping/data/seq2_seq-train-00047-of-00050\n",
      "t2t-dumping/data/seq2_seq-train-00037-of-00050\n",
      "t2t-dumping/data/seq2_seq-train-00025-of-00050\n",
      "t2t-dumping/data/seq2_seq-train-00032-of-00050\n",
      "t2t-dumping/data/seq2_seq-train-00040-of-00050\n",
      "t2t-dumping/data/seq2_seq-train-00029-of-00050\n",
      "t2t-dumping/data/seq2_seq-train-00024-of-00050\n",
      "t2t-dumping/data/seq2_seq-train-00018-of-00050\n",
      "t2t-dumping/data/seq2_seq-train-00048-of-00050\n",
      "t2t-dumping/data/seq2_seq-train-00036-of-00050\n",
      "t2t-dumping/data/seq2_seq-train-00028-of-00050\n",
      "t2t-dumping/data/seq2_seq-train-00015-of-00050\n",
      "t2t-dumping/data/seq2_seq-train-00035-of-00050\n",
      "t2t-dumping/data/seq2_seq-train-00016-of-00050\n",
      "t2t-dumping/data/seq2_seq-train-00009-of-00050\n",
      "t2t-dumping/data/seq2_seq-train-00008-of-00050\n",
      "t2t-dumping/data/seq2_seq-train-00011-of-00050\n",
      "t2t-dumping/data/seq2_seq-train-00005-of-00050\n",
      "t2t-dumping/data/seq2_seq-train-00038-of-00050\n",
      "t2t-dumping/data/seq2_seq-train-00001-of-00050\n",
      "t2t-dumping/data/seq2_seq-train-00030-of-00050\n"
     ]
    }
   ],
   "source": [
    "for file in files:\n",
    "    print(file)\n",
    "    blob = bucket.blob(file.replace('t2t-dumping/data', 't2t/data'))\n",
    "    blob.upload_from_filename(file)"
   ]
  },
  {
   "cell_type": "code",
   "execution_count": null,
   "metadata": {},
   "outputs": [],
   "source": []
  }
 ],
 "metadata": {
  "kernelspec": {
   "display_name": "Python 3",
   "language": "python",
   "name": "python3"
  },
  "language_info": {
   "codemirror_mode": {
    "name": "ipython",
    "version": 3
   },
   "file_extension": ".py",
   "mimetype": "text/x-python",
   "name": "python",
   "nbconvert_exporter": "python",
   "pygments_lexer": "ipython3",
   "version": "3.6.8"
  }
 },
 "nbformat": 4,
 "nbformat_minor": 2
}
