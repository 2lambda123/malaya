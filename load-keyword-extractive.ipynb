{
 "cells": [
  {
   "cell_type": "markdown",
   "metadata": {},
   "source": [
    "# Extractive"
   ]
  },
  {
   "cell_type": "markdown",
   "metadata": {},
   "source": [
    "<div class=\"alert alert-info\">\n",
    "\n",
    "This tutorial is available as an IPython notebook at [Malaya/example/keyword-extractive](https://github.com/huseinzol05/Malaya/tree/master/example/keyword-extractive).\n",
    "    \n",
    "</div>"
   ]
  },
  {
   "cell_type": "code",
   "execution_count": 1,
   "metadata": {},
   "outputs": [],
   "source": [
    "import os\n",
    "\n",
    "os.environ['CUDA_VISIBLE_DEVICES'] = ''"
   ]
  },
  {
   "cell_type": "code",
   "execution_count": 2,
   "metadata": {},
   "outputs": [],
   "source": [
    "import malaya"
   ]
  },
  {
   "cell_type": "code",
   "execution_count": 3,
   "metadata": {},
   "outputs": [],
   "source": [
    "# https://www.bharian.com.my/berita/nasional/2020/06/698386/isu-bersatu-tun-m-6-yang-lain-saman-muhyiddin\n",
    "\n",
    "string = \"\"\"\n",
    "Dalam saman itu, plaintif memohon perisytiharan, antaranya mereka adalah ahli BERSATU yang sah, masih lagi memegang jawatan dalam parti (bagi pemegang jawatan) dan layak untuk bertanding pada pemilihan parti.\n",
    "\n",
    "Mereka memohon perisytiharan bahawa semua surat pemberhentian yang ditandatangani Muhammad Suhaimi bertarikh 28 Mei lalu dan pengesahan melalui mesyuarat Majlis Pimpinan Tertinggi (MPT) parti bertarikh 4 Jun lalu adalah tidak sah dan terbatal.\n",
    "\n",
    "Plaintif juga memohon perisytiharan bahawa keahlian Muhyiddin, Hamzah dan Muhammad Suhaimi di dalam BERSATU adalah terlucut, berkuat kuasa pada 28 Februari 2020 dan/atau 29 Februari 2020, menurut Fasal 10.2.3 perlembagaan parti.\n",
    "\n",
    "Yang turut dipohon, perisytiharan bahawa Seksyen 18C Akta Pertubuhan 1966 adalah tidak terpakai untuk menghalang pelupusan pertikaian berkenaan oleh mahkamah.\n",
    "\n",
    "Perisytiharan lain ialah Fasal 10.2.6 Perlembagaan BERSATU tidak terpakai di atas hal melucutkan/ memberhentikan keahlian semua plaintif.\n",
    "\"\"\""
   ]
  },
  {
   "cell_type": "code",
   "execution_count": 4,
   "metadata": {},
   "outputs": [],
   "source": [
    "import re\n",
    "\n",
    "# minimum cleaning, just simply to remove newlines.\n",
    "def cleaning(string):\n",
    "    string = string.replace('\\n', ' ')\n",
    "    string = re.sub('[^A-Za-z\\-() ]+', ' ', string).strip()\n",
    "    string = re.sub(r'[ ]+', ' ', string).strip()\n",
    "    return string\n",
    "\n",
    "string = cleaning(string)"
   ]
  },
  {
   "cell_type": "markdown",
   "metadata": {},
   "source": [
    "### Use RAKE algorithm\n",
    "\n",
    "Original implementation from [https://github.com/aneesha/RAKE](https://github.com/aneesha/RAKE). Malaya added attention mechanism into RAKE algorithm.\n",
    "\n",
    "```python\n",
    "def rake(\n",
    "    string: str,\n",
    "    model = None,\n",
    "    vectorizer = None,\n",
    "    top_k: int = 5,\n",
    "    atleast: int = 1,\n",
    "    stopwords = get_stopwords,\n",
    "    **kwargs\n",
    "):\n",
    "    \"\"\"\n",
    "    Extract keywords using Rake algorithm.\n",
    "\n",
    "    Parameters\n",
    "    ----------\n",
    "    string: str\n",
    "    model: Object, optional (default=None)\n",
    "        Transformer model or any model has `attention` method.\n",
    "    vectorizer: Object, optional (default=None)\n",
    "        Prefer `sklearn.feature_extraction.text.CountVectorizer` or,\n",
    "        `malaya.text.vectorizer.SkipGramCountVectorizer`.\n",
    "        If None, will generate ngram automatically based on `stopwords`.\n",
    "    top_k: int, optional (default=5)\n",
    "        return top-k results.\n",
    "    ngram: tuple, optional (default=(1,1))\n",
    "        n-grams size.\n",
    "    atleast: int, optional (default=1)\n",
    "        at least count appeared in the string to accept as candidate.\n",
    "    stopwords: List[str], (default=malaya.texts.function.get_stopwords)\n",
    "        A callable that returned a List[str], or a List[str], or a Tuple[str]\n",
    "        For automatic Ngram generator.\n",
    "\n",
    "    Returns\n",
    "    -------\n",
    "    result: Tuple[float, str]\n",
    "    \"\"\"\n",
    "```"
   ]
  },
  {
   "cell_type": "markdown",
   "metadata": {},
   "source": [
    "#### auto-ngram\n",
    "\n",
    "This will auto generated N-size ngram for keyword candidates."
   ]
  },
  {
   "cell_type": "code",
   "execution_count": 5,
   "metadata": {},
   "outputs": [
    {
     "data": {
      "text/plain": [
       "[(0.11666666666666665, 'ditandatangani Muhammad Suhaimi bertarikh Mei'),\n",
       " (0.08888888888888888, 'mesyuarat Majlis Pimpinan Tertinggi'),\n",
       " (0.08888888888888888, 'Seksyen C Akta Pertubuhan'),\n",
       " (0.05138888888888888, 'parti bertarikh Jun'),\n",
       " (0.04999999999999999, 'keahlian Muhyiddin Hamzah')]"
      ]
     },
     "execution_count": 5,
     "metadata": {},
     "output_type": "execute_result"
    }
   ],
   "source": [
    "malaya.keyword.extractive.rake(string)"
   ]
  },
  {
   "cell_type": "markdown",
   "metadata": {},
   "source": [
    "#### auto-gram with Attention"
   ]
  },
  {
   "cell_type": "code",
   "execution_count": 6,
   "metadata": {},
   "outputs": [],
   "source": [
    "electra = malaya.transformer.huggingface(model = 'mesolitica/electra-base-generator-bahasa-cased')"
   ]
  },
  {
   "cell_type": "code",
   "execution_count": 7,
   "metadata": {},
   "outputs": [
    {
     "data": {
      "text/plain": [
       "[(0.17997008100624823, 'mesyuarat Majlis Pimpinan Tertinggi'),\n",
       " (0.1483454093851034, 'Seksyen C Akta Pertubuhan'),\n",
       " (0.12264519442465575, 'ditandatangani Muhammad Suhaimi bertarikh Mei'),\n",
       " (0.0648944024912417, 'terlucut berkuat kuasa'),\n",
       " (0.057367307347866874, 'menghalang pelupusan pertikaian')]"
      ]
     },
     "execution_count": 7,
     "metadata": {},
     "output_type": "execute_result"
    }
   ],
   "source": [
    "malaya.keyword.extractive.rake(string, model = electra)"
   ]
  },
  {
   "cell_type": "markdown",
   "metadata": {},
   "source": [
    "#### using vectorizer"
   ]
  },
  {
   "cell_type": "code",
   "execution_count": 8,
   "metadata": {},
   "outputs": [],
   "source": [
    "from malaya.text.vectorizer import SkipGramCountVectorizer\n",
    "\n",
    "stopwords = malaya.text.function.get_stopwords()\n",
    "vectorizer = SkipGramCountVectorizer(\n",
    "    token_pattern = r'[\\S]+',\n",
    "    ngram_range = (1, 3),\n",
    "    stop_words = stopwords,\n",
    "    lowercase = False,\n",
    "    skip = 2\n",
    ")"
   ]
  },
  {
   "cell_type": "code",
   "execution_count": 9,
   "metadata": {},
   "outputs": [
    {
     "data": {
      "text/plain": [
       "[(0.0017052987393271276, 'parti memohon perisytiharan'),\n",
       " (0.0017036368782590756, 'memohon perisytiharan BERSATU'),\n",
       " (0.0017012023597074357, 'memohon perisytiharan sah'),\n",
       " (0.0017012023597074357, 'sah memohon perisytiharan'),\n",
       " (0.0016992809994779549, 'perisytiharan BERSATU sah')]"
      ]
     },
     "execution_count": 9,
     "metadata": {},
     "output_type": "execute_result"
    }
   ],
   "source": [
    "malaya.keyword.extractive.rake(string, vectorizer = vectorizer)"
   ]
  },
  {
   "cell_type": "markdown",
   "metadata": {},
   "source": [
    "#### fixed-ngram with Attention"
   ]
  },
  {
   "cell_type": "code",
   "execution_count": 10,
   "metadata": {},
   "outputs": [
    {
     "data": {
      "text/plain": [
       "[(0.003363637295440784, 'Majlis Pimpinan Tertinggi'),\n",
       " (0.0033245617879032238, 'Majlis Pimpinan (MPT)'),\n",
       " (0.003241558153239806, 'mesyuarat Majlis Pimpinan'),\n",
       " (0.003145061732603308, 'pengesahan Majlis Pimpinan'),\n",
       " (0.0031039185739102334, 'Mei Majlis Pimpinan')]"
      ]
     },
     "execution_count": 10,
     "metadata": {},
     "output_type": "execute_result"
    }
   ],
   "source": [
    "malaya.keyword.extractive.rake(string, model = electra, vectorizer = vectorizer)"
   ]
  },
  {
   "cell_type": "markdown",
   "metadata": {},
   "source": [
    "### Use Textrank algorithm\n",
    "\n",
    "Malaya simply use textrank algorithm.\n",
    "\n",
    "```python\n",
    "def textrank(\n",
    "    string: str,\n",
    "    model = None,\n",
    "    vectorizer = None,\n",
    "    top_k: int = 5,\n",
    "    atleast: int = 1,\n",
    "    stopwords = get_stopwords,\n",
    "    **kwargs\n",
    "):\n",
    "    \"\"\"\n",
    "    Extract keywords using Textrank algorithm.\n",
    "\n",
    "    Parameters\n",
    "    ----------\n",
    "    string: str\n",
    "    model: Object, optional (default='None')\n",
    "        model has `fit_transform` or `vectorize` method.\n",
    "    vectorizer: Object, optional (default=None)\n",
    "        Prefer `sklearn.feature_extraction.text.CountVectorizer` or, \n",
    "        `malaya.text.vectorizer.SkipGramCountVectorizer`.\n",
    "        If None, will generate ngram automatically based on `stopwords`.\n",
    "    top_k: int, optional (default=5)\n",
    "        return top-k results.\n",
    "    atleast: int, optional (default=1)\n",
    "        at least count appeared in the string to accept as candidate.\n",
    "    stopwords: List[str], (default=malaya.texts.function.get_stopwords)\n",
    "        A callable that returned a List[str], or a List[str], or a Tuple[str]\n",
    "\n",
    "    Returns\n",
    "    -------\n",
    "    result: Tuple[float, str]\n",
    "    \"\"\"\n",
    "```"
   ]
  },
  {
   "cell_type": "code",
   "execution_count": 11,
   "metadata": {},
   "outputs": [],
   "source": [
    "from sklearn.feature_extraction.text import TfidfVectorizer\n",
    "tfidf = TfidfVectorizer()"
   ]
  },
  {
   "cell_type": "markdown",
   "metadata": {},
   "source": [
    "#### auto-ngram with TFIDF\n",
    "\n",
    "This will auto generated N-size ngram for keyword candidates."
   ]
  },
  {
   "cell_type": "code",
   "execution_count": 12,
   "metadata": {},
   "outputs": [
    {
     "name": "stderr",
     "output_type": "stream",
     "text": [
      "2022-11-13 14:12:36.563458: I tensorflow/core/platform/cpu_feature_guard.cc:142] This TensorFlow binary is optimized with oneAPI Deep Neural Network Library (oneDNN) to use the following CPU instructions in performance-critical operations:  AVX2 FMA\n",
      "To enable them in other operations, rebuild TensorFlow with the appropriate compiler flags.\n",
      "2022-11-13 14:12:36.588292: E tensorflow/stream_executor/cuda/cuda_driver.cc:271] failed call to cuInit: CUDA_ERROR_NO_DEVICE: no CUDA-capable device is detected\n",
      "2022-11-13 14:12:36.588326: I tensorflow/stream_executor/cuda/cuda_diagnostics.cc:169] retrieving CUDA diagnostic information for host: husein-MS-7D31\n",
      "2022-11-13 14:12:36.588331: I tensorflow/stream_executor/cuda/cuda_diagnostics.cc:176] hostname: husein-MS-7D31\n",
      "2022-11-13 14:12:36.588424: I tensorflow/stream_executor/cuda/cuda_diagnostics.cc:200] libcuda reported version is: Not found: was unable to find libcuda.so DSO loaded into this program\n",
      "2022-11-13 14:12:36.588453: I tensorflow/stream_executor/cuda/cuda_diagnostics.cc:204] kernel reported version is: 470.141.3\n"
     ]
    },
    {
     "data": {
      "text/plain": [
       "[(0.00015733542072521276, 'plaintif memohon perisytiharan'),\n",
       " (0.00012558967703709949, 'Fasal perlembagaan parti'),\n",
       " (0.00011514137183023086, 'Fasal Perlembagaan BERSATU'),\n",
       " (0.00011505528232050443, 'parti'),\n",
       " (0.00010763519022276223, 'memohon perisytiharan')]"
      ]
     },
     "execution_count": 12,
     "metadata": {},
     "output_type": "execute_result"
    }
   ],
   "source": [
    "malaya.keyword.extractive.textrank(string, model = tfidf)"
   ]
  },
  {
   "cell_type": "markdown",
   "metadata": {},
   "source": [
    "#### auto-ngram with Attention\n",
    "\n",
    "This will auto generated N-size ngram for keyword candidates."
   ]
  },
  {
   "cell_type": "code",
   "execution_count": 13,
   "metadata": {},
   "outputs": [
    {
     "data": {
      "text/html": [
       "<div>\n",
       "<style scoped>\n",
       "    .dataframe tbody tr th:only-of-type {\n",
       "        vertical-align: middle;\n",
       "    }\n",
       "\n",
       "    .dataframe tbody tr th {\n",
       "        vertical-align: top;\n",
       "    }\n",
       "\n",
       "    .dataframe thead th {\n",
       "        text-align: right;\n",
       "    }\n",
       "</style>\n",
       "<table border=\"1\" class=\"dataframe\">\n",
       "  <thead>\n",
       "    <tr style=\"text-align: right;\">\n",
       "      <th></th>\n",
       "      <th>Size (MB)</th>\n",
       "    </tr>\n",
       "  </thead>\n",
       "  <tbody>\n",
       "    <tr>\n",
       "      <th>mesolitica/roberta-base-bahasa-cased</th>\n",
       "      <td>443.0</td>\n",
       "    </tr>\n",
       "    <tr>\n",
       "      <th>mesolitica/roberta-tiny-bahasa-cased</th>\n",
       "      <td>66.1</td>\n",
       "    </tr>\n",
       "    <tr>\n",
       "      <th>mesolitica/bert-base-standard-bahasa-cased</th>\n",
       "      <td>443.0</td>\n",
       "    </tr>\n",
       "    <tr>\n",
       "      <th>mesolitica/bert-tiny-standard-bahasa-cased</th>\n",
       "      <td>66.1</td>\n",
       "    </tr>\n",
       "    <tr>\n",
       "      <th>mesolitica/roberta-base-standard-bahasa-cased</th>\n",
       "      <td>443.0</td>\n",
       "    </tr>\n",
       "    <tr>\n",
       "      <th>mesolitica/roberta-tiny-standard-bahasa-cased</th>\n",
       "      <td>66.1</td>\n",
       "    </tr>\n",
       "    <tr>\n",
       "      <th>mesolitica/electra-base-generator-bahasa-cased</th>\n",
       "      <td>140.0</td>\n",
       "    </tr>\n",
       "    <tr>\n",
       "      <th>mesolitica/electra-small-generator-bahasa-cased</th>\n",
       "      <td>19.3</td>\n",
       "    </tr>\n",
       "    <tr>\n",
       "      <th>mesolitica/finetune-mnli-t5-super-tiny-standard-bahasa-cased</th>\n",
       "      <td>50.7</td>\n",
       "    </tr>\n",
       "    <tr>\n",
       "      <th>mesolitica/finetune-mnli-t5-tiny-standard-bahasa-cased</th>\n",
       "      <td>139.0</td>\n",
       "    </tr>\n",
       "    <tr>\n",
       "      <th>mesolitica/finetune-mnli-t5-small-standard-bahasa-cased</th>\n",
       "      <td>242.0</td>\n",
       "    </tr>\n",
       "    <tr>\n",
       "      <th>mesolitica/finetune-mnli-t5-base-standard-bahasa-cased</th>\n",
       "      <td>892.0</td>\n",
       "    </tr>\n",
       "  </tbody>\n",
       "</table>\n",
       "</div>"
      ],
      "text/plain": [
       "                                                    Size (MB)\n",
       "mesolitica/roberta-base-bahasa-cased                    443.0\n",
       "mesolitica/roberta-tiny-bahasa-cased                     66.1\n",
       "mesolitica/bert-base-standard-bahasa-cased              443.0\n",
       "mesolitica/bert-tiny-standard-bahasa-cased               66.1\n",
       "mesolitica/roberta-base-standard-bahasa-cased           443.0\n",
       "mesolitica/roberta-tiny-standard-bahasa-cased            66.1\n",
       "mesolitica/electra-base-generator-bahasa-cased          140.0\n",
       "mesolitica/electra-small-generator-bahasa-cased          19.3\n",
       "mesolitica/finetune-mnli-t5-super-tiny-standard...       50.7\n",
       "mesolitica/finetune-mnli-t5-tiny-standard-bahas...      139.0\n",
       "mesolitica/finetune-mnli-t5-small-standard-baha...      242.0\n",
       "mesolitica/finetune-mnli-t5-base-standard-bahas...      892.0"
      ]
     },
     "execution_count": 13,
     "metadata": {},
     "output_type": "execute_result"
    }
   ],
   "source": [
    "malaya.transformer.available_huggingface()"
   ]
  },
  {
   "cell_type": "code",
   "execution_count": 14,
   "metadata": {
    "scrolled": true
   },
   "outputs": [],
   "source": [
    "electra = malaya.transformer.huggingface(model = 'mesolitica/electra-small-generator-bahasa-cased')\n",
    "roberta = malaya.transformer.huggingface(model = 'mesolitica/roberta-tiny-bahasa-cased')"
   ]
  },
  {
   "cell_type": "code",
   "execution_count": 15,
   "metadata": {},
   "outputs": [
    {
     "data": {
      "text/plain": [
       "[(6.3182659440111e-05, 'dipohon perisytiharan'),\n",
       " (6.316746690755411e-05, 'pemegang jawatan'),\n",
       " (6.316118879734439e-05, 'parti bertarikh Jun'),\n",
       " (6.31610442906559e-05, 'Februari'),\n",
       " (6.315818922956695e-05, 'plaintif')]"
      ]
     },
     "execution_count": 15,
     "metadata": {},
     "output_type": "execute_result"
    }
   ],
   "source": [
    "malaya.keyword.extractive.textrank(string, model = electra)"
   ]
  },
  {
   "cell_type": "code",
   "execution_count": 16,
   "metadata": {},
   "outputs": [
    {
     "data": {
      "text/plain": [
       "[(6.59244746396528e-05, 'parti'),\n",
       " (6.584499867695376e-05, 'keahlian Muhyiddin Hamzah'),\n",
       " (6.488547404816735e-05, 'dipohon perisytiharan'),\n",
       " (6.45851817185769e-05, 'surat pemberhentian'),\n",
       " (6.436101053983185e-05, 'parti bertarikh Jun')]"
      ]
     },
     "execution_count": 16,
     "metadata": {},
     "output_type": "execute_result"
    }
   ],
   "source": [
    "malaya.keyword.extractive.textrank(string, model = roberta)"
   ]
  },
  {
   "cell_type": "markdown",
   "metadata": {},
   "source": [
    "**Or you can use any classification model to find keywords sensitive towards to specific domain**."
   ]
  },
  {
   "cell_type": "code",
   "execution_count": 17,
   "metadata": {
    "scrolled": true
   },
   "outputs": [
    {
     "name": "stderr",
     "output_type": "stream",
     "text": [
      "Load quantized model will cause accuracy drop.\n"
     ]
    }
   ],
   "source": [
    "sentiment = malaya.sentiment.transformer(model = 'xlnet', quantized = True)"
   ]
  },
  {
   "cell_type": "code",
   "execution_count": 18,
   "metadata": {},
   "outputs": [
    {
     "name": "stderr",
     "output_type": "stream",
     "text": [
      "2022-11-13 14:13:04.195921: W tensorflow/core/framework/cpu_allocator_impl.cc:80] Allocation of 98304000 exceeds 10% of free system memory.\n",
      "2022-11-13 14:13:04.454041: W tensorflow/core/framework/cpu_allocator_impl.cc:80] Allocation of 98304000 exceeds 10% of free system memory.\n",
      "2022-11-13 14:13:04.619901: W tensorflow/core/framework/cpu_allocator_impl.cc:80] Allocation of 98304000 exceeds 10% of free system memory.\n",
      "2022-11-13 14:13:04.771232: W tensorflow/core/framework/cpu_allocator_impl.cc:80] Allocation of 98304000 exceeds 10% of free system memory.\n",
      "2022-11-13 14:13:04.944275: W tensorflow/core/framework/cpu_allocator_impl.cc:80] Allocation of 98304000 exceeds 10% of free system memory.\n"
     ]
    },
    {
     "data": {
      "text/plain": [
       "[(6.847900589825627e-05, 'mahkamah Perisytiharan'),\n",
       " (6.846671026597114e-05, 'plaintif memohon perisytiharan'),\n",
       " (6.76475758513156e-05, 'Seksyen C Akta Pertubuhan'),\n",
       " (6.713097984411573e-05, 'terpakai'),\n",
       " (6.675669252867354e-05, 'memegang jawatan')]"
      ]
     },
     "execution_count": 18,
     "metadata": {},
     "output_type": "execute_result"
    }
   ],
   "source": [
    "malaya.keyword.extractive.textrank(string, model = sentiment)"
   ]
  },
  {
   "cell_type": "markdown",
   "metadata": {},
   "source": [
    "#### fixed-ngram with Attention"
   ]
  },
  {
   "cell_type": "code",
   "execution_count": 19,
   "metadata": {},
   "outputs": [],
   "source": [
    "stopwords = malaya.text.function.get_stopwords()\n",
    "vectorizer = SkipGramCountVectorizer(\n",
    "    token_pattern = r'[\\S]+',\n",
    "    ngram_range = (1, 3),\n",
    "    stop_words = stopwords,\n",
    "    lowercase = False,\n",
    "    skip = 2\n",
    ")"
   ]
  },
  {
   "cell_type": "code",
   "execution_count": 20,
   "metadata": {},
   "outputs": [
    {
     "data": {
      "text/plain": [
       "[(5.652169583755948e-09, 'plaintif perisytiharan'),\n",
       " (5.652076035266543e-09, 'perisytiharan ahli sah'),\n",
       " (5.651996008669155e-09, 'Plaintif perisytiharan keahlian'),\n",
       " (5.651931474886066e-09, 'Perisytiharan'),\n",
       " (5.6517038324285826e-09, 'plaintif memohon perisytiharan')]"
      ]
     },
     "execution_count": 20,
     "metadata": {},
     "output_type": "execute_result"
    }
   ],
   "source": [
    "malaya.keyword.extractive.textrank(string, model = electra, vectorizer = vectorizer)"
   ]
  },
  {
   "cell_type": "code",
   "execution_count": 21,
   "metadata": {},
   "outputs": [
    {
     "data": {
      "text/plain": [
       "[(5.923585394811239e-09, 'keahlian Muhyiddin Muhammad'),\n",
       " (5.916529250417852e-09, 'parti bertarikh'),\n",
       " (5.913084767462724e-09, 'kuasa Fasal'),\n",
       " (5.902600575309735e-09, 'C Akta menghalang'),\n",
       " (5.900931358064983e-09, 'keahlian Muhyiddin')]"
      ]
     },
     "execution_count": 21,
     "metadata": {},
     "output_type": "execute_result"
    }
   ],
   "source": [
    "malaya.keyword.extractive.textrank(string, model = roberta, vectorizer = vectorizer)"
   ]
  },
  {
   "cell_type": "markdown",
   "metadata": {},
   "source": [
    "### Use Attention mechanism\n",
    "\n",
    "Use attention mechanism from transformer model to get important keywords.\n",
    "\n",
    "```python\n",
    "def attention(\n",
    "    string: str,\n",
    "    model,\n",
    "    vectorizer = None,\n",
    "    top_k: int = 5,\n",
    "    atleast: int = 1,\n",
    "    stopwords = get_stopwords,\n",
    "    **kwargs\n",
    "):\n",
    "    \"\"\"\n",
    "    Extract keywords using Attention mechanism.\n",
    "\n",
    "    Parameters\n",
    "    ----------\n",
    "    string: str\n",
    "    model: Object\n",
    "        Transformer model or any model has `attention` method.\n",
    "    vectorizer: Object, optional (default=None)\n",
    "        Prefer `sklearn.feature_extraction.text.CountVectorizer` or, \n",
    "        `malaya.text.vectorizer.SkipGramCountVectorizer`.\n",
    "        If None, will generate ngram automatically based on `stopwords`.\n",
    "    top_k: int, optional (default=5)\n",
    "        return top-k results.\n",
    "    atleast: int, optional (default=1)\n",
    "        at least count appeared in the string to accept as candidate.\n",
    "    stopwords: List[str], (default=malaya.texts.function.get_stopwords)\n",
    "        A callable that returned a List[str], or a List[str], or a Tuple[str]\n",
    "\n",
    "    Returns\n",
    "    -------\n",
    "    result: Tuple[float, str]\n",
    "    \"\"\"\n",
    "```"
   ]
  },
  {
   "cell_type": "markdown",
   "metadata": {},
   "source": [
    "#### auto-ngram\n",
    "\n",
    "This will auto generated N-size ngram for keyword candidates."
   ]
  },
  {
   "cell_type": "code",
   "execution_count": 22,
   "metadata": {},
   "outputs": [
    {
     "data": {
      "text/plain": [
       "[(0.7273892307219683, 'menghalang pelupusan pertikaian'),\n",
       " (0.03776807419211517, 'plaintif memohon perisytiharan'),\n",
       " (0.03168170723172234, 'dipohon perisytiharan'),\n",
       " (0.031016994512984893, 'memohon perisytiharan'),\n",
       " (0.021767187593695503, 'ditandatangani Muhammad Suhaimi bertarikh Mei')]"
      ]
     },
     "execution_count": 22,
     "metadata": {},
     "output_type": "execute_result"
    }
   ],
   "source": [
    "malaya.keyword.extractive.attention(string, model = electra)"
   ]
  },
  {
   "cell_type": "code",
   "execution_count": 23,
   "metadata": {},
   "outputs": [
    {
     "data": {
      "text/plain": [
       "[(0.07387573605296668, 'plaintif memohon perisytiharan'),\n",
       " (0.06143065962303025, 'Fasal perlembagaan parti'),\n",
       " (0.05755474708967133, 'ditandatangani Muhammad Suhaimi bertarikh Mei'),\n",
       " (0.056663920761205355, 'Fasal Perlembagaan BERSATU'),\n",
       " (0.05564947633228625, 'memohon perisytiharan')]"
      ]
     },
     "execution_count": 23,
     "metadata": {},
     "output_type": "execute_result"
    }
   ],
   "source": [
    "malaya.keyword.extractive.attention(string, model = roberta)"
   ]
  },
  {
   "cell_type": "markdown",
   "metadata": {},
   "source": [
    "#### fixed-ngram"
   ]
  },
  {
   "cell_type": "code",
   "execution_count": 24,
   "metadata": {},
   "outputs": [
    {
     "data": {
      "text/plain": [
       "[(0.029306966715927522, 'pertikaian Perisytiharan Fasal'),\n",
       " (0.029205816951205835, 'pertikaian mahkamah Fasal'),\n",
       " (0.02919627357369081, 'pertikaian Fasal Perlembagaan'),\n",
       " (0.029187334652333977, 'pelupusan pertikaian Fasal'),\n",
       " (0.02917217720500391, 'pertikaian Fasal')]"
      ]
     },
     "execution_count": 24,
     "metadata": {},
     "output_type": "execute_result"
    }
   ],
   "source": [
    "malaya.keyword.extractive.attention(string, model = electra, vectorizer = vectorizer)"
   ]
  },
  {
   "cell_type": "code",
   "execution_count": 25,
   "metadata": {},
   "outputs": [
    {
     "data": {
      "text/plain": [
       "[(0.0034241675733855262, 'parti memohon perisytiharan'),\n",
       " (0.0032962150978338763, 'memohon perisytiharan BERSATU'),\n",
       " (0.003188648497869482, 'plaintif perisytiharan BERSATU'),\n",
       " (0.00318152613103623, 'BERSATU sah parti'),\n",
       " (0.0031634493792625897, 'perisytiharan BERSATU sah')]"
      ]
     },
     "execution_count": 25,
     "metadata": {},
     "output_type": "execute_result"
    }
   ],
   "source": [
    "malaya.keyword.extractive.attention(string, model = roberta, vectorizer = vectorizer)"
   ]
  },
  {
   "cell_type": "markdown",
   "metadata": {},
   "source": [
    "### Use similarity mechanism\n",
    "\n",
    "```python\n",
    "def similarity(\n",
    "    string: str,\n",
    "    model,\n",
    "    vectorizer = None,\n",
    "    top_k: int = 5,\n",
    "    atleast: int = 1,\n",
    "    stopwords = get_stopwords,\n",
    "    **kwargs,\n",
    "):\n",
    "    \"\"\"\n",
    "    Extract keywords using Sentence embedding VS keyword embedding similarity.\n",
    "\n",
    "    Parameters\n",
    "    ----------\n",
    "    string: str\n",
    "    model: Object\n",
    "        Transformer model or any model has `vectorize` method.\n",
    "    vectorizer: Object, optional (default=None)\n",
    "        Prefer `sklearn.feature_extraction.text.CountVectorizer` or, \n",
    "        `malaya.text.vectorizer.SkipGramCountVectorizer`.\n",
    "        If None, will generate ngram automatically based on `stopwords`.\n",
    "    top_k: int, optional (default=5)\n",
    "        return top-k results.\n",
    "    atleast: int, optional (default=1)\n",
    "        at least count appeared in the string to accept as candidate.\n",
    "    stopwords: List[str], (default=malaya.texts.function.get_stopwords)\n",
    "        A callable that returned a List[str], or a List[str], or a Tuple[str]\n",
    "\n",
    "    Returns\n",
    "    -------\n",
    "    result: Tuple[float, str]\n",
    "    \"\"\"\n",
    "```"
   ]
  },
  {
   "cell_type": "code",
   "execution_count": 26,
   "metadata": {},
   "outputs": [
    {
     "data": {
      "text/plain": [
       "[(0.87396985, 'plaintif memohon perisytiharan'),\n",
       " (0.87190473, 'keahlian Muhyiddin Hamzah'),\n",
       " (0.8637232, 'mahkamah Perisytiharan'),\n",
       " (0.86043787, 'dipohon perisytiharan'),\n",
       " (0.8529165, 'memohon perisytiharan')]"
      ]
     },
     "execution_count": 26,
     "metadata": {},
     "output_type": "execute_result"
    }
   ],
   "source": [
    "malaya.keyword.extractive.similarity(string, model = roberta)"
   ]
  },
  {
   "cell_type": "code",
   "execution_count": 27,
   "metadata": {},
   "outputs": [
    {
     "data": {
      "text/plain": [
       "[(0.99829656, 'keahlian Muhyiddin Hamzah'),\n",
       " (0.9982589, 'mesyuarat Majlis Pimpinan Tertinggi'),\n",
       " (0.9981606, 'Fasal perlembagaan parti'),\n",
       " (0.9981443, 'Fasal Perlembagaan BERSATU'),\n",
       " (0.9979403, 'ditandatangani Muhammad Suhaimi bertarikh Mei')]"
      ]
     },
     "execution_count": 27,
     "metadata": {},
     "output_type": "execute_result"
    }
   ],
   "source": [
    "malaya.keyword.extractive.similarity(string, model = electra)"
   ]
  },
  {
   "cell_type": "code",
   "execution_count": 28,
   "metadata": {},
   "outputs": [],
   "source": [
    "t5 = malaya.transformer.huggingface(model = 'mesolitica/finetune-mnli-t5-small-standard-bahasa-cased')"
   ]
  },
  {
   "cell_type": "code",
   "execution_count": 29,
   "metadata": {},
   "outputs": [
    {
     "data": {
      "text/plain": [
       "[(0.858336, 'mesyuarat Majlis Pimpinan Tertinggi'),\n",
       " (0.8571082, 'mahkamah Perisytiharan'),\n",
       " (0.7085603, 'Muhammad Suhaimi'),\n",
       " (0.68325794, 'terlucut berkuat kuasa'),\n",
       " (0.6421398, 'MPT')]"
      ]
     },
     "execution_count": 29,
     "metadata": {},
     "output_type": "execute_result"
    }
   ],
   "source": [
    "malaya.keyword.extractive.similarity(string, model = t5)"
   ]
  }
 ],
 "metadata": {
  "kernelspec": {
   "display_name": "Python 3 (ipykernel)",
   "language": "python",
   "name": "python3"
  },
  "language_info": {
   "codemirror_mode": {
    "name": "ipython",
    "version": 3
   },
   "file_extension": ".py",
   "mimetype": "text/x-python",
   "name": "python",
   "nbconvert_exporter": "python",
   "pygments_lexer": "ipython3",
   "version": "3.8.10"
  }
 },
 "nbformat": 4,
 "nbformat_minor": 2
}
