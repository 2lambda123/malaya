{
 "cells": [
  {
   "cell_type": "code",
   "execution_count": 20,
   "metadata": {},
   "outputs": [
    {
     "name": "stdout",
     "output_type": "stream",
     "text": [
      "bert-entities/\n",
      "bert-entities/model.ckpt.data-00000-of-00001\n",
      "bert-entities/model.ckpt.meta\n",
      "bert-entities/model.ckpt.index\n",
      "bert-entities/checkpoint\n"
     ]
    }
   ],
   "source": [
    "!tar -zcvf bert-entities.tar.gz bert-entities"
   ]
  },
  {
   "cell_type": "code",
   "execution_count": 3,
   "metadata": {},
   "outputs": [
    {
     "name": "stdout",
     "output_type": "stream",
     "text": [
      "2019-03-27 13:58:20 elasticbeanstalk-ap-southeast-1-177016185209\r\n",
      "2018-10-13 06:12:03 huseinhouse-data\r\n",
      "2018-07-12 07:09:30 huseinhouse-storage\r\n",
      "2019-02-04 16:49:48 malaya-dataset\r\n"
     ]
    }
   ],
   "source": [
    "!aws s3 ls"
   ]
  },
  {
   "cell_type": "code",
   "execution_count": 21,
   "metadata": {},
   "outputs": [],
   "source": [
    "import boto3\n",
    "\n",
    "bucketName = 'huseinhouse-storage'\n",
    "Key = 'bert-entities.tar.gz'\n",
    "outPutname = \"bert-bahasa/bert-entities.tar.gz\"\n",
    "\n",
    "s3 = boto3.client('s3')\n",
    "s3.upload_file(Key,bucketName,outPutname)"
   ]
  },
  {
   "cell_type": "code",
   "execution_count": null,
   "metadata": {},
   "outputs": [],
   "source": []
  }
 ],
 "metadata": {
  "kernelspec": {
   "display_name": "Python 3",
   "language": "python",
   "name": "python3"
  },
  "language_info": {
   "codemirror_mode": {
    "name": "ipython",
    "version": 3
   },
   "file_extension": ".py",
   "mimetype": "text/x-python",
   "name": "python",
   "nbconvert_exporter": "python",
   "pygments_lexer": "ipython3",
   "version": "3.6.8"
  }
 },
 "nbformat": 4,
 "nbformat_minor": 2
}
