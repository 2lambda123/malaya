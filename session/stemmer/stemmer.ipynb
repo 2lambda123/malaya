{
 "cells": [
  {
   "cell_type": "code",
   "execution_count": 1,
   "metadata": {},
   "outputs": [],
   "source": [
    "import numpy as np\n",
    "import tensorflow as tf\n",
    "from sklearn.utils import shuffle\n",
    "import re\n",
    "import time\n",
    "import collections\n",
    "import os\n",
    "import itertools\n",
    "from tqdm import tqdm"
   ]
  },
  {
   "cell_type": "code",
   "execution_count": 2,
   "metadata": {},
   "outputs": [],
   "source": [
    "def build_dataset(words, n_words, atleast=1):\n",
    "    count = [['GO', 0], ['PAD', 1], ['EOS', 2], ['UNK', 3]]\n",
    "    counter = collections.Counter(words).most_common(n_words)\n",
    "    counter = [i for i in counter if i[1] >= atleast]\n",
    "    count.extend(counter)\n",
    "    dictionary = dict()\n",
    "    for word, _ in count:\n",
    "        dictionary[word] = len(dictionary)\n",
    "    data = list()\n",
    "    unk_count = 0\n",
    "    for word in words:\n",
    "        index = dictionary.get(word, 0)\n",
    "        if index == 0:\n",
    "            unk_count += 1\n",
    "        data.append(index)\n",
    "    count[0][1] = unk_count\n",
    "    reversed_dictionary = dict(zip(dictionary.values(), dictionary.keys()))\n",
    "    return data, count, dictionary, reversed_dictionary"
   ]
  },
  {
   "cell_type": "code",
   "execution_count": 3,
   "metadata": {},
   "outputs": [],
   "source": [
    "with open('stemmer-data.txt','r') as fopen:\n",
    "    texts = fopen.read().split('\\n')\n",
    "    \n",
    "before, after = [], []\n",
    "    \n",
    "for i in texts:\n",
    "    splitted = i.split('\\t')\n",
    "    if len(splitted) < 2:\n",
    "        continue\n",
    "    before.append(list(splitted[0]))\n",
    "    after.append(list(splitted[1]))\n",
    "    \n",
    "assert len(before) == len(after)"
   ]
  },
  {
   "cell_type": "code",
   "execution_count": 4,
   "metadata": {},
   "outputs": [
    {
     "name": "stdout",
     "output_type": "stream",
     "text": [
      "vocab from size: 28\n",
      "Most common words [('a', 53190), ('n', 32568), ('e', 29367), ('i', 26679), ('r', 19577), ('s', 16557)]\n",
      "Sample data [9, 17, 7, 18, 6, 8, 10, 8, 4, 5] ['s', 'p', 'i', 'd', 'e', 'r', 't', 'r', 'a', 'n']\n",
      "filtered vocab size: 32\n",
      "% of vocab used: 114.29%\n"
     ]
    }
   ],
   "source": [
    "concat_from = list(itertools.chain(*before))\n",
    "vocabulary_size_from = len(list(set(concat_from)))\n",
    "data_from, count_from, dictionary_from, rev_dictionary_from = build_dataset(concat_from, vocabulary_size_from)\n",
    "print('vocab from size: %d'%(vocabulary_size_from))\n",
    "print('Most common words', count_from[4:10])\n",
    "print('Sample data', data_from[:10], [rev_dictionary_from[i] for i in data_from[:10]])\n",
    "print('filtered vocab size:',len(dictionary_from))\n",
    "print(\"% of vocab used: {}%\".format(round(len(dictionary_from)/vocabulary_size_from,4)*100))"
   ]
  },
  {
   "cell_type": "code",
   "execution_count": 5,
   "metadata": {},
   "outputs": [
    {
     "name": "stdout",
     "output_type": "stream",
     "text": [
      "vocab from size: 28\n",
      "Most common words [('a', 43498), ('i', 23379), ('n', 21388), ('e', 20612), ('r', 16760), ('s', 16088)]\n",
      "Sample data [9, 17, 5, 18, 7, 8, 10, 8, 4, 6] ['s', 'p', 'i', 'd', 'e', 'r', 't', 'r', 'a', 'n']\n",
      "filtered vocab size: 32\n",
      "% of vocab used: 114.29%\n"
     ]
    }
   ],
   "source": [
    "concat_to = list(itertools.chain(*after))\n",
    "vocabulary_size_to = len(list(set(concat_to)))\n",
    "data_to, count_to, dictionary_to, rev_dictionary_to = build_dataset(concat_to, vocabulary_size_to)\n",
    "print('vocab from size: %d'%(vocabulary_size_to))\n",
    "print('Most common words', count_to[4:10])\n",
    "print('Sample data', data_to[:10], [rev_dictionary_to[i] for i in data_to[:10]])\n",
    "print('filtered vocab size:',len(dictionary_to))\n",
    "print(\"% of vocab used: {}%\".format(round(len(dictionary_to)/vocabulary_size_to,4)*100))"
   ]
  },
  {
   "cell_type": "code",
   "execution_count": 6,
   "metadata": {},
   "outputs": [],
   "source": [
    "GO = dictionary_from['GO']\n",
    "PAD = dictionary_from['PAD']\n",
    "EOS = dictionary_from['EOS']\n",
    "UNK = dictionary_from['UNK']"
   ]
  },
  {
   "cell_type": "code",
   "execution_count": 7,
   "metadata": {},
   "outputs": [],
   "source": [
    "for i in range(len(after)):\n",
    "    after[i].append('EOS')"
   ]
  },
  {
   "cell_type": "code",
   "execution_count": 8,
   "metadata": {},
   "outputs": [],
   "source": [
    "class Stemmer:\n",
    "    def __init__(self, size_layer, num_layers, embedded_size, \n",
    "                 from_dict_size, to_dict_size, learning_rate, \n",
    "                 dropout = 0.8, beam_width = 15):\n",
    "        \n",
    "        def lstm_cell(reuse=False):\n",
    "            return tf.nn.rnn_cell.LSTMCell(size_layer, reuse=reuse)\n",
    "        \n",
    "        self.X = tf.placeholder(tf.int32, [None, None])\n",
    "        self.X_seq_len = tf.count_nonzero(self.X, 1, dtype=tf.int32)\n",
    "        self.Y = tf.placeholder(tf.int32, [None, None])\n",
    "        self.Y_seq_len = tf.count_nonzero(self.Y, 1, dtype=tf.int32)\n",
    "        batch_size = tf.shape(self.X)[0]\n",
    "\n",
    "        encoder_embeddings = tf.Variable(tf.random_uniform([from_dict_size, embedded_size], -1, 1))\n",
    "        encoder_embedded = tf.nn.embedding_lookup(encoder_embeddings, self.X)\n",
    "        encoder_cells = tf.nn.rnn_cell.MultiRNNCell([lstm_cell() for _ in range(num_layers)])\n",
    "        self.encoder_out, self.encoder_state = tf.nn.dynamic_rnn(cell = encoder_cells, \n",
    "                                                                 inputs = encoder_embedded, \n",
    "                                                                 sequence_length = self.X_seq_len,\n",
    "                                                                 dtype = tf.float32)\n",
    "        \n",
    "        self.encoder_state = tuple(self.encoder_state[-1] for _ in range(num_layers))\n",
    "        main = tf.strided_slice(self.Y, [0, 0], [batch_size, -1], [1, 1])\n",
    "        decoder_input = tf.concat([tf.fill([batch_size, 1], GO), main], 1)\n",
    "        decoder_embeddings = tf.Variable(tf.random_uniform([to_dict_size, embedded_size], -1, 1))\n",
    "        dense_layer = tf.layers.Dense(to_dict_size)\n",
    "        \n",
    "        decoder_cells = tf.nn.rnn_cell.MultiRNNCell([lstm_cell() for _ in range(num_layers)])\n",
    "        \n",
    "        # training session\n",
    "        with tf.variable_scope('decode'):\n",
    "            training_helper = tf.contrib.seq2seq.ScheduledEmbeddingTrainingHelper(\n",
    "                    inputs = tf.nn.embedding_lookup(decoder_embeddings, decoder_input),\n",
    "                    sequence_length = self.Y_seq_len,\n",
    "                    embedding = decoder_embeddings,\n",
    "                    sampling_probability = 0.5,\n",
    "                    time_major = False)\n",
    "            training_decoder = tf.contrib.seq2seq.BasicDecoder(\n",
    "                    cell = decoder_cells,\n",
    "                    helper = training_helper,\n",
    "                    initial_state = self.encoder_state,\n",
    "                    output_layer = dense_layer)\n",
    "            training_decoder_output, _, _ = tf.contrib.seq2seq.dynamic_decode(\n",
    "                    decoder = training_decoder,\n",
    "                    impute_finished = True,\n",
    "                    maximum_iterations = tf.reduce_max(self.Y_seq_len))\n",
    "            \n",
    "        # testing session\n",
    "        with tf.variable_scope('decode', reuse=True):\n",
    "            \n",
    "            predicting_decoder = tf.contrib.seq2seq.BeamSearchDecoder(\n",
    "                    cell = decoder_cells,\n",
    "                    embedding = decoder_embeddings,\n",
    "                    start_tokens = tf.tile(tf.constant([GO], dtype=tf.int32), [batch_size]),\n",
    "                    end_token = EOS,\n",
    "                    initial_state = tf.contrib.seq2seq.tile_batch(self.encoder_state, beam_width),\n",
    "                    beam_width = beam_width,\n",
    "                    output_layer = dense_layer,\n",
    "                    length_penalty_weight = 0.0)\n",
    "            predicting_decoder_output, _, _ = tf.contrib.seq2seq.dynamic_decode(\n",
    "                    decoder = predicting_decoder,\n",
    "                    impute_finished = False,\n",
    "                    maximum_iterations = 2 * tf.reduce_max(self.X_seq_len))\n",
    "            \n",
    "        self.training_logits = training_decoder_output.rnn_output\n",
    "        self.predicting_ids = tf.identity(predicting_decoder_output.predicted_ids[:, :, 0],name=\"logits\")\n",
    "        \n",
    "        masks = tf.sequence_mask(self.Y_seq_len, tf.reduce_max(self.Y_seq_len), dtype=tf.float32)\n",
    "        self.cost = tf.contrib.seq2seq.sequence_loss(logits = self.training_logits,\n",
    "                                                     targets = self.Y,\n",
    "                                                     weights = masks)\n",
    "        \n",
    "        self.optimizer = tf.train.AdamOptimizer(learning_rate).minimize(self.cost)"
   ]
  },
  {
   "cell_type": "code",
   "execution_count": 9,
   "metadata": {},
   "outputs": [],
   "source": [
    "size_layer = 256\n",
    "num_layers = 2\n",
    "embedded_size = 128\n",
    "learning_rate = 1e-3\n",
    "batch_size = 128\n",
    "epoch = 50"
   ]
  },
  {
   "cell_type": "code",
   "execution_count": 10,
   "metadata": {},
   "outputs": [
    {
     "name": "stderr",
     "output_type": "stream",
     "text": [
      "/usr/local/lib/python3.5/dist-packages/tensorflow/python/ops/gradients_impl.py:97: UserWarning: Converting sparse IndexedSlices to a dense Tensor of unknown shape. This may consume a large amount of memory.\n",
      "  \"Converting sparse IndexedSlices to a dense Tensor of unknown shape. \"\n"
     ]
    }
   ],
   "source": [
    "tf.reset_default_graph()\n",
    "sess = tf.InteractiveSession()\n",
    "model = Stemmer(size_layer, num_layers, embedded_size, len(dictionary_from), \n",
    "                len(dictionary_to), learning_rate)\n",
    "sess.run(tf.global_variables_initializer())"
   ]
  },
  {
   "cell_type": "code",
   "execution_count": 11,
   "metadata": {},
   "outputs": [],
   "source": [
    "def str_idx(corpus, dic, UNK=3):\n",
    "    X = []\n",
    "    for i in corpus:\n",
    "        ints = []\n",
    "        for k in i:\n",
    "            try:\n",
    "                ints.append(dic[k])\n",
    "            except Exception as e:\n",
    "                ints.append(UNK)\n",
    "        X.append(ints)\n",
    "    return X"
   ]
  },
  {
   "cell_type": "code",
   "execution_count": 12,
   "metadata": {},
   "outputs": [],
   "source": [
    "X = str_idx(before, dictionary_from)\n",
    "Y = str_idx(after, dictionary_to)"
   ]
  },
  {
   "cell_type": "code",
   "execution_count": 13,
   "metadata": {},
   "outputs": [],
   "source": [
    "def pad_sentence_batch(sentence_batch, pad_int):\n",
    "    padded_seqs = []\n",
    "    seq_lens = []\n",
    "    max_sentence_len = max([len(sentence) for sentence in sentence_batch])\n",
    "    for sentence in sentence_batch:\n",
    "        padded_seqs.append(sentence + [pad_int] * (max_sentence_len - len(sentence)))\n",
    "        seq_lens.append(len(sentence))\n",
    "    return padded_seqs, seq_lens\n",
    "\n",
    "def check_accuracy(logits, Y):\n",
    "    acc = 0\n",
    "    for i in range(logits.shape[0]):\n",
    "        internal_acc = 0\n",
    "        count = 0\n",
    "        for k in range(len(Y[i])):\n",
    "            try:\n",
    "                if Y[i][k] == logits[i][k]:\n",
    "                    internal_acc += 1\n",
    "                count += 1\n",
    "                if Y[i][k] == EOS:\n",
    "                    break\n",
    "            except:\n",
    "                break\n",
    "        acc += (internal_acc / count)\n",
    "    return acc / logits.shape[0]"
   ]
  },
  {
   "cell_type": "code",
   "execution_count": 14,
   "metadata": {},
   "outputs": [
    {
     "name": "stderr",
     "output_type": "stream",
     "text": [
      "train minibatch loop: 100%|██████████| 325/325 [01:19<00:00,  4.08it/s, accuracy=0.436, cost=0.811]\n",
      "train minibatch loop:   0%|          | 0/325 [00:00<?, ?it/s]"
     ]
    },
    {
     "name": "stdout",
     "output_type": "stream",
     "text": [
      "epoch: 1, avg loss: 1.079808, avg accuracy: 0.296571\n"
     ]
    },
    {
     "name": "stderr",
     "output_type": "stream",
     "text": [
      "train minibatch loop: 100%|██████████| 325/325 [01:33<00:00,  3.47it/s, accuracy=0.689, cost=0.509]\n",
      "train minibatch loop:   0%|          | 0/325 [00:00<?, ?it/s]"
     ]
    },
    {
     "name": "stdout",
     "output_type": "stream",
     "text": [
      "epoch: 2, avg loss: 0.515500, avg accuracy: 0.625145\n"
     ]
    },
    {
     "name": "stderr",
     "output_type": "stream",
     "text": [
      "train minibatch loop: 100%|██████████| 325/325 [01:33<00:00,  3.48it/s, accuracy=0.894, cost=0.291]\n",
      "train minibatch loop:   0%|          | 0/325 [00:00<?, ?it/s]"
     ]
    },
    {
     "name": "stdout",
     "output_type": "stream",
     "text": [
      "epoch: 3, avg loss: 0.299930, avg accuracy: 0.811725\n"
     ]
    },
    {
     "name": "stderr",
     "output_type": "stream",
     "text": [
      "train minibatch loop: 100%|██████████| 325/325 [01:33<00:00,  3.48it/s, accuracy=0.9, cost=0.261]   \n",
      "train minibatch loop:   0%|          | 0/325 [00:00<?, ?it/s]"
     ]
    },
    {
     "name": "stdout",
     "output_type": "stream",
     "text": [
      "epoch: 4, avg loss: 0.210670, avg accuracy: 0.873118\n"
     ]
    },
    {
     "name": "stderr",
     "output_type": "stream",
     "text": [
      "train minibatch loop: 100%|██████████| 325/325 [01:32<00:00,  3.50it/s, accuracy=0.896, cost=0.19]  \n",
      "train minibatch loop:   0%|          | 0/325 [00:00<?, ?it/s]"
     ]
    },
    {
     "name": "stdout",
     "output_type": "stream",
     "text": [
      "epoch: 5, avg loss: 0.162662, avg accuracy: 0.901118\n"
     ]
    },
    {
     "name": "stderr",
     "output_type": "stream",
     "text": [
      "train minibatch loop: 100%|██████████| 325/325 [01:33<00:00,  3.48it/s, accuracy=0.933, cost=0.135] \n",
      "train minibatch loop:   0%|          | 0/325 [00:00<?, ?it/s]"
     ]
    },
    {
     "name": "stdout",
     "output_type": "stream",
     "text": [
      "epoch: 6, avg loss: 0.135120, avg accuracy: 0.916329\n"
     ]
    },
    {
     "name": "stderr",
     "output_type": "stream",
     "text": [
      "train minibatch loop: 100%|██████████| 325/325 [01:32<00:00,  3.50it/s, accuracy=0.926, cost=0.106] \n",
      "train minibatch loop:   0%|          | 0/325 [00:00<?, ?it/s]"
     ]
    },
    {
     "name": "stdout",
     "output_type": "stream",
     "text": [
      "epoch: 7, avg loss: 0.114529, avg accuracy: 0.927345\n"
     ]
    },
    {
     "name": "stderr",
     "output_type": "stream",
     "text": [
      "train minibatch loop: 100%|██████████| 325/325 [01:33<00:00,  3.49it/s, accuracy=0.928, cost=0.1]   \n",
      "train minibatch loop:   0%|          | 0/325 [00:00<?, ?it/s]"
     ]
    },
    {
     "name": "stdout",
     "output_type": "stream",
     "text": [
      "epoch: 8, avg loss: 0.097845, avg accuracy: 0.937203\n"
     ]
    },
    {
     "name": "stderr",
     "output_type": "stream",
     "text": [
      "train minibatch loop: 100%|██████████| 325/325 [01:33<00:00,  3.47it/s, accuracy=0.977, cost=0.0764]\n",
      "train minibatch loop:   0%|          | 0/325 [00:00<?, ?it/s]"
     ]
    },
    {
     "name": "stdout",
     "output_type": "stream",
     "text": [
      "epoch: 9, avg loss: 0.085720, avg accuracy: 0.943385\n"
     ]
    },
    {
     "name": "stderr",
     "output_type": "stream",
     "text": [
      "train minibatch loop: 100%|██████████| 325/325 [01:34<00:00,  3.45it/s, accuracy=0.948, cost=0.17]  \n",
      "train minibatch loop:   0%|          | 0/325 [00:00<?, ?it/s]"
     ]
    },
    {
     "name": "stdout",
     "output_type": "stream",
     "text": [
      "epoch: 10, avg loss: 0.075839, avg accuracy: 0.950999\n"
     ]
    },
    {
     "name": "stderr",
     "output_type": "stream",
     "text": [
      "train minibatch loop: 100%|██████████| 325/325 [01:32<00:00,  3.50it/s, accuracy=0.976, cost=0.0528]\n",
      "train minibatch loop:   0%|          | 0/325 [00:00<?, ?it/s]"
     ]
    },
    {
     "name": "stdout",
     "output_type": "stream",
     "text": [
      "epoch: 11, avg loss: 0.067185, avg accuracy: 0.956709\n"
     ]
    },
    {
     "name": "stderr",
     "output_type": "stream",
     "text": [
      "train minibatch loop: 100%|██████████| 325/325 [01:32<00:00,  3.50it/s, accuracy=0.969, cost=0.119] \n",
      "train minibatch loop:   0%|          | 0/325 [00:00<?, ?it/s]"
     ]
    },
    {
     "name": "stdout",
     "output_type": "stream",
     "text": [
      "epoch: 13, avg loss: 0.050864, avg accuracy: 0.967988\n"
     ]
    },
    {
     "name": "stderr",
     "output_type": "stream",
     "text": [
      "train minibatch loop: 100%|██████████| 325/325 [01:33<00:00,  3.47it/s, accuracy=0.971, cost=0.0732]\n",
      "train minibatch loop:   0%|          | 0/325 [00:00<?, ?it/s]"
     ]
    },
    {
     "name": "stdout",
     "output_type": "stream",
     "text": [
      "epoch: 14, avg loss: 0.046846, avg accuracy: 0.971205\n"
     ]
    },
    {
     "name": "stderr",
     "output_type": "stream",
     "text": [
      "train minibatch loop: 100%|██████████| 325/325 [01:33<00:00,  3.48it/s, accuracy=0.948, cost=0.0489]\n",
      "train minibatch loop:   0%|          | 0/325 [00:00<?, ?it/s]"
     ]
    },
    {
     "name": "stdout",
     "output_type": "stream",
     "text": [
      "epoch: 15, avg loss: 0.041069, avg accuracy: 0.974725\n"
     ]
    },
    {
     "name": "stderr",
     "output_type": "stream",
     "text": [
      "train minibatch loop: 100%|██████████| 325/325 [01:32<00:00,  3.50it/s, accuracy=0.984, cost=0.0475]\n",
      "train minibatch loop:   0%|          | 0/325 [00:00<?, ?it/s]"
     ]
    },
    {
     "name": "stdout",
     "output_type": "stream",
     "text": [
      "epoch: 16, avg loss: 0.035133, avg accuracy: 0.979962\n"
     ]
    },
    {
     "name": "stderr",
     "output_type": "stream",
     "text": [
      "train minibatch loop:  90%|████████▉ | 291/325 [01:23<00:09,  3.47it/s, accuracy=0.962, cost=0.0395]IOPub message rate exceeded.\n",
      "The notebook server will temporarily stop sending output\n",
      "to the client in order to avoid crashing it.\n",
      "To change this limit, set the config variable\n",
      "`--NotebookApp.iopub_msg_rate_limit`.\n",
      "\n",
      "Current values:\n",
      "NotebookApp.iopub_msg_rate_limit=1000.0 (msgs/sec)\n",
      "NotebookApp.rate_limit_window=3.0 (secs)\n",
      "\n",
      "train minibatch loop: 100%|██████████| 325/325 [01:33<00:00,  3.49it/s, accuracy=0.999, cost=0.0177] \n",
      "train minibatch loop:   0%|          | 0/325 [00:00<?, ?it/s]"
     ]
    },
    {
     "name": "stdout",
     "output_type": "stream",
     "text": [
      "epoch: 29, avg loss: 0.013356, avg accuracy: 0.995411\n"
     ]
    },
    {
     "name": "stderr",
     "output_type": "stream",
     "text": [
      "train minibatch loop: 100%|██████████| 325/325 [01:33<00:00,  3.47it/s, accuracy=0.993, cost=0.00535]\n",
      "train minibatch loop:   0%|          | 0/325 [00:00<?, ?it/s]"
     ]
    },
    {
     "name": "stdout",
     "output_type": "stream",
     "text": [
      "epoch: 30, avg loss: 0.011959, avg accuracy: 0.995991\n"
     ]
    },
    {
     "name": "stderr",
     "output_type": "stream",
     "text": [
      "train minibatch loop: 100%|██████████| 325/325 [01:32<00:00,  3.51it/s, accuracy=0.984, cost=0.012]  \n",
      "train minibatch loop:   0%|          | 0/325 [00:00<?, ?it/s]"
     ]
    },
    {
     "name": "stdout",
     "output_type": "stream",
     "text": [
      "epoch: 31, avg loss: 0.012971, avg accuracy: 0.995483\n"
     ]
    },
    {
     "name": "stderr",
     "output_type": "stream",
     "text": [
      "train minibatch loop: 100%|██████████| 325/325 [01:33<00:00,  3.47it/s, accuracy=1, cost=0.0142]     \n",
      "train minibatch loop:   0%|          | 0/325 [00:00<?, ?it/s]"
     ]
    },
    {
     "name": "stdout",
     "output_type": "stream",
     "text": [
      "epoch: 32, avg loss: 0.012276, avg accuracy: 0.995856\n"
     ]
    },
    {
     "name": "stderr",
     "output_type": "stream",
     "text": [
      "train minibatch loop: 100%|██████████| 325/325 [01:32<00:00,  3.50it/s, accuracy=0.979, cost=0.0342] \n",
      "train minibatch loop:   0%|          | 0/325 [00:00<?, ?it/s]"
     ]
    },
    {
     "name": "stdout",
     "output_type": "stream",
     "text": [
      "epoch: 33, avg loss: 0.011476, avg accuracy: 0.996715\n"
     ]
    },
    {
     "name": "stderr",
     "output_type": "stream",
     "text": [
      "train minibatch loop:   9%|▉         | 30/325 [00:08<01:25,  3.47it/s, accuracy=0.988, cost=0.0187] IOPub message rate exceeded.\n",
      "The notebook server will temporarily stop sending output\n",
      "to the client in order to avoid crashing it.\n",
      "To change this limit, set the config variable\n",
      "`--NotebookApp.iopub_msg_rate_limit`.\n",
      "\n",
      "Current values:\n",
      "NotebookApp.iopub_msg_rate_limit=1000.0 (msgs/sec)\n",
      "NotebookApp.rate_limit_window=3.0 (secs)\n",
      "\n",
      "train minibatch loop: 100%|██████████| 325/325 [01:32<00:00,  3.50it/s, accuracy=0.998, cost=0.00335]\n",
      "train minibatch loop:   0%|          | 0/325 [00:00<?, ?it/s]"
     ]
    },
    {
     "name": "stdout",
     "output_type": "stream",
     "text": [
      "epoch: 45, avg loss: 0.006028, avg accuracy: 0.999030\n"
     ]
    },
    {
     "name": "stderr",
     "output_type": "stream",
     "text": [
      "train minibatch loop: 100%|██████████| 325/325 [01:32<00:00,  3.50it/s, accuracy=0.985, cost=0.00642]\n",
      "train minibatch loop:   0%|          | 0/325 [00:00<?, ?it/s]"
     ]
    },
    {
     "name": "stdout",
     "output_type": "stream",
     "text": [
      "epoch: 46, avg loss: 0.010028, avg accuracy: 0.996484\n"
     ]
    },
    {
     "name": "stderr",
     "output_type": "stream",
     "text": [
      "train minibatch loop: 100%|██████████| 325/325 [01:33<00:00,  3.49it/s, accuracy=0.996, cost=0.00477]\n",
      "train minibatch loop:   0%|          | 0/325 [00:00<?, ?it/s]"
     ]
    },
    {
     "name": "stdout",
     "output_type": "stream",
     "text": [
      "epoch: 47, avg loss: 0.009676, avg accuracy: 0.996710\n"
     ]
    },
    {
     "name": "stderr",
     "output_type": "stream",
     "text": [
      "train minibatch loop: 100%|██████████| 325/325 [01:33<00:00,  3.48it/s, accuracy=1, cost=0.000955]   \n",
      "train minibatch loop:   0%|          | 0/325 [00:00<?, ?it/s]"
     ]
    },
    {
     "name": "stdout",
     "output_type": "stream",
     "text": [
      "epoch: 48, avg loss: 0.008256, avg accuracy: 0.997823\n"
     ]
    },
    {
     "name": "stderr",
     "output_type": "stream",
     "text": [
      "train minibatch loop: 100%|██████████| 325/325 [01:33<00:00,  3.48it/s, accuracy=1, cost=0.0029]     \n",
      "train minibatch loop:   0%|          | 0/325 [00:00<?, ?it/s]"
     ]
    },
    {
     "name": "stdout",
     "output_type": "stream",
     "text": [
      "epoch: 49, avg loss: 0.005772, avg accuracy: 0.999575\n"
     ]
    },
    {
     "name": "stderr",
     "output_type": "stream",
     "text": [
      "train minibatch loop:  32%|███▏      | 104/325 [00:28<01:01,  3.60it/s, accuracy=1, cost=0.00153]    IOPub message rate exceeded.\n",
      "The notebook server will temporarily stop sending output\n",
      "to the client in order to avoid crashing it.\n",
      "To change this limit, set the config variable\n",
      "`--NotebookApp.iopub_msg_rate_limit`.\n",
      "\n",
      "Current values:\n",
      "NotebookApp.iopub_msg_rate_limit=1000.0 (msgs/sec)\n",
      "NotebookApp.rate_limit_window=3.0 (secs)\n",
      "\n"
     ]
    }
   ],
   "source": [
    "for i in range(epoch):\n",
    "    total_loss, total_accuracy = 0, 0\n",
    "    X, Y = shuffle(X, Y)\n",
    "    pbar = tqdm(range(0, len(before), batch_size), desc='train minibatch loop')\n",
    "    for k in pbar:\n",
    "        batch_x, _ = pad_sentence_batch(X[k: min(k+batch_size,len(before))], PAD)\n",
    "        batch_y, _ = pad_sentence_batch(Y[k: min(k+batch_size,len(before))], PAD)\n",
    "        predicted, loss, _ = sess.run([model.predicting_ids, model.cost, model.optimizer], \n",
    "                                      feed_dict={model.X:batch_x,\n",
    "                                                model.Y:batch_y})\n",
    "        acc = check_accuracy(predicted,batch_y)\n",
    "        total_loss += loss\n",
    "        total_accuracy += acc\n",
    "        pbar.set_postfix(cost=loss, accuracy = acc)\n",
    "        \n",
    "    total_loss /= (len(before) / batch_size)\n",
    "    total_accuracy /= (len(before) / batch_size)\n",
    "    print('epoch: %d, avg loss: %f, avg accuracy: %f'%(i+1, total_loss, total_accuracy))"
   ]
  },
  {
   "cell_type": "code",
   "execution_count": 15,
   "metadata": {},
   "outputs": [],
   "source": [
    "predicted = sess.run(model.predicting_ids,feed_dict={model.X:batch_x})"
   ]
  },
  {
   "cell_type": "code",
   "execution_count": 16,
   "metadata": {},
   "outputs": [
    {
     "name": "stdout",
     "output_type": "stream",
     "text": [
      "row 1\n",
      "BEFORE: iot\n",
      "REAL AFTER: iot\n",
      "PREDICTED AFTER: iot \n",
      "\n",
      "row 2\n",
      "BEFORE: dipersalahkan\n",
      "REAL AFTER: salah\n",
      "PREDICTED AFTER: salah \n",
      "\n",
      "row 3\n",
      "BEFORE: pucuk\n",
      "REAL AFTER: pucuk\n",
      "PREDICTED AFTER: pucuk \n",
      "\n",
      "row 4\n",
      "BEFORE: putih\n",
      "REAL AFTER: putih\n",
      "PREDICTED AFTER: putih \n",
      "\n",
      "row 5\n",
      "BEFORE: competitions\n",
      "REAL AFTER: competitions\n",
      "PREDICTED AFTER: competitions \n",
      "\n",
      "row 6\n",
      "BEFORE: regarding\n",
      "REAL AFTER: regarding\n",
      "PREDICTED AFTER: regarding \n",
      "\n",
      "row 7\n",
      "BEFORE: usd\n",
      "REAL AFTER: usd\n",
      "PREDICTED AFTER: usd \n",
      "\n",
      "row 8\n",
      "BEFORE: teratai\n",
      "REAL AFTER: teratai\n",
      "PREDICTED AFTER: teratai \n",
      "\n",
      "row 9\n",
      "BEFORE: khuatir\n",
      "REAL AFTER: khuatir\n",
      "PREDICTED AFTER: khuatir \n",
      "\n",
      "row 10\n",
      "BEFORE: zakariaperingatan\n",
      "REAL AFTER: zakariaperingatan\n",
      "PREDICTED AFTER: zakariaperingatan \n",
      "\n",
      "row 11\n",
      "BEFORE: tidur\n",
      "REAL AFTER: tidur\n",
      "PREDICTED AFTER: tidur \n",
      "\n",
      "row 12\n",
      "BEFORE: suka-suka\n",
      "REAL AFTER: suka\n",
      "PREDICTED AFTER: suka \n",
      "\n",
      "row 13\n",
      "BEFORE: manuasia\n",
      "REAL AFTER: manuasia\n",
      "PREDICTED AFTER: manuasia \n",
      "\n",
      "row 14\n",
      "BEFORE: peringkatnya\n",
      "REAL AFTER: peringkat\n",
      "PREDICTED AFTER: peringkat \n",
      "\n",
      "row 15\n",
      "BEFORE: aktivitiselain\n",
      "REAL AFTER: aktivitiselain\n",
      "PREDICTED AFTER: aktivitiselain \n",
      "\n",
      "row 16\n",
      "BEFORE: faq\n",
      "REAL AFTER: faq\n",
      "PREDICTED AFTER: faq \n",
      "\n",
      "row 17\n",
      "BEFORE: sedunia\n",
      "REAL AFTER: dunia\n",
      "PREDICTED AFTER: dunia \n",
      "\n",
      "row 18\n",
      "BEFORE: unclear\n",
      "REAL AFTER: unclear\n",
      "PREDICTED AFTER: unclear \n",
      "\n",
      "row 19\n",
      "BEFORE: terapung\n",
      "REAL AFTER: apung\n",
      "PREDICTED AFTER: apung \n",
      "\n",
      "row 20\n",
      "BEFORE: terpinga-pinga\n",
      "REAL AFTER: pinga\n",
      "PREDICTED AFTER: pinga \n",
      "\n",
      "row 21\n",
      "BEFORE: bertemankan\n",
      "REAL AFTER: tan\n",
      "PREDICTED AFTER: tan \n",
      "\n",
      "row 22\n",
      "BEFORE: dysthymia\n",
      "REAL AFTER: dysthymia\n",
      "PREDICTED AFTER: dysthymia \n",
      "\n",
      "row 23\n",
      "BEFORE: masy\n",
      "REAL AFTER: masy\n",
      "PREDICTED AFTER: masy \n",
      "\n",
      "row 24\n",
      "BEFORE: kepakaran\n",
      "REAL AFTER: pakar\n",
      "PREDICTED AFTER: pakar \n",
      "\n",
      "row 25\n",
      "BEFORE: kelepasan\n",
      "REAL AFTER: lepas\n",
      "PREDICTED AFTER: lepas \n",
      "\n",
      "row 26\n",
      "BEFORE: harakah\n",
      "REAL AFTER: harakah\n",
      "PREDICTED AFTER: harakah \n",
      "\n",
      "row 27\n",
      "BEFORE: bersandarkan\n",
      "REAL AFTER: sandar\n",
      "PREDICTED AFTER: sandar \n",
      "\n",
      "row 28\n",
      "BEFORE: taj\n",
      "REAL AFTER: taj\n",
      "PREDICTED AFTER: taj \n",
      "\n",
      "row 29\n",
      "BEFORE: mengharamkan\n",
      "REAL AFTER: haram\n",
      "PREDICTED AFTER: haram \n",
      "\n",
      "row 30\n",
      "BEFORE: kebuluran\n",
      "REAL AFTER: bulur\n",
      "PREDICTED AFTER: bulur \n",
      "\n",
      "row 31\n",
      "BEFORE: elektif\n",
      "REAL AFTER: elektif\n",
      "PREDICTED AFTER: elektif \n",
      "\n",
      "row 32\n",
      "BEFORE: mengemuka\n",
      "REAL AFTER: muka\n",
      "PREDICTED AFTER: muka \n",
      "\n",
      "row 33\n",
      "BEFORE: superstars\n",
      "REAL AFTER: superstars\n",
      "PREDICTED AFTER: superstars \n",
      "\n",
      "row 34\n",
      "BEFORE: volunter\n",
      "REAL AFTER: volunter\n",
      "PREDICTED AFTER: volunter \n",
      "\n",
      "row 35\n",
      "BEFORE: tahir\n",
      "REAL AFTER: tahir\n",
      "PREDICTED AFTER: tahir \n",
      "\n",
      "row 36\n",
      "BEFORE: dekoder\n",
      "REAL AFTER: dekoder\n",
      "PREDICTED AFTER: dekoder \n",
      "\n",
      "row 37\n",
      "BEFORE: umno-barisan\n",
      "REAL AFTER: umno-barisan\n",
      "PREDICTED AFTER: umno-barisan \n",
      "\n",
      "row 38\n",
      "BEFORE: discussion\n",
      "REAL AFTER: discussion\n",
      "PREDICTED AFTER: discussion \n",
      "\n",
      "row 39\n",
      "BEFORE: diperkata\n",
      "REAL AFTER: kata\n",
      "PREDICTED AFTER: kata \n",
      "\n",
      "row 40\n",
      "BEFORE: perkumpulan\n",
      "REAL AFTER: kumpul\n",
      "PREDICTED AFTER: kumpul \n",
      "\n",
      "row 41\n",
      "BEFORE: -methylpiperidinium\n",
      "REAL AFTER: -methylpiperidinium\n",
      "PREDICTED AFTER: -methylpiperidinium \n",
      "\n",
      "row 42\n",
      "BEFORE: mountains\n",
      "REAL AFTER: mountains\n",
      "PREDICTED AFTER: mountains \n",
      "\n",
      "row 43\n",
      "BEFORE: terkuak\n",
      "REAL AFTER: kuak\n",
      "PREDICTED AFTER: kuak \n",
      "\n",
      "row 44\n",
      "BEFORE: dululah\n",
      "REAL AFTER: dululah\n",
      "PREDICTED AFTER: dululah \n",
      "\n",
      "row 45\n",
      "BEFORE: bacalahmalaysia\n",
      "REAL AFTER: bacalahmalaysia\n",
      "PREDICTED AFTER: bacalahmalaysia \n",
      "\n",
      "row 46\n",
      "BEFORE: menghebatkan\n",
      "REAL AFTER: hebat\n",
      "PREDICTED AFTER: hebat \n",
      "\n",
      "row 47\n",
      "BEFORE: menggarapnya\n",
      "REAL AFTER: garap\n",
      "PREDICTED AFTER: garap \n",
      "\n",
      "row 48\n",
      "BEFORE: cuma\n",
      "REAL AFTER: cuma\n",
      "PREDICTED AFTER: cuma \n",
      "\n",
      "row 49\n",
      "BEFORE: aqsa\n",
      "REAL AFTER: aqsa\n",
      "PREDICTED AFTER: aqsa \n",
      "\n",
      "row 50\n",
      "BEFORE: rahtc\n",
      "REAL AFTER: rahtc\n",
      "PREDICTED AFTER: rahtc \n",
      "\n",
      "row 51\n",
      "BEFORE: jurulatih\n",
      "REAL AFTER: jurulatih\n",
      "PREDICTED AFTER: jurulatih \n",
      "\n",
      "row 52\n",
      "BEFORE: abe\n",
      "REAL AFTER: abe\n",
      "PREDICTED AFTER: abe \n",
      "\n",
      "row 53\n",
      "BEFORE: dicarinya\n",
      "REAL AFTER: cari\n",
      "PREDICTED AFTER: cari \n",
      "\n",
      "row 54\n",
      "BEFORE: keamananmelakukan\n",
      "REAL AFTER: keamananmelakukan\n",
      "PREDICTED AFTER: keamananmelakukan \n",
      "\n",
      "row 55\n",
      "BEFORE: lsrael\n",
      "REAL AFTER: lsrael\n",
      "PREDICTED AFTER: lsrael \n",
      "\n",
      "row 56\n",
      "BEFORE: rawi\n",
      "REAL AFTER: rawi\n",
      "PREDICTED AFTER: rawi \n",
      "\n"
     ]
    }
   ],
   "source": [
    "for i in range(len(batch_x)):\n",
    "    print('row %d'%(i+1))\n",
    "    print('BEFORE:',''.join([rev_dictionary_from[n] for n in batch_x[i] if n not in [0,1,2,3]]))\n",
    "    print('REAL AFTER:',''.join([rev_dictionary_to[n] for n in batch_y[i] if n not in[0,1,2,3]]))\n",
    "    print('PREDICTED AFTER:',''.join([rev_dictionary_to[n] for n in predicted[i] if n not in[0,1,2,3]]),'\\n')"
   ]
  },
  {
   "cell_type": "code",
   "execution_count": 17,
   "metadata": {},
   "outputs": [
    {
     "name": "stdout",
     "output_type": "stream",
     "text": [
      "PREDICTED AFTER: jalan\n"
     ]
    }
   ],
   "source": [
    "predicted = sess.run(model.predicting_ids,feed_dict={model.X:str_idx(['berjalan'],dictionary_from)})[0]\n",
    "print('PREDICTED AFTER:',''.join([rev_dictionary_to[n] for n in predicted if n not in[0,1,2,3]]))"
   ]
  },
  {
   "cell_type": "code",
   "execution_count": 18,
   "metadata": {},
   "outputs": [
    {
     "name": "stdout",
     "output_type": "stream",
     "text": [
      "PREDICTED AFTER: nikmat\n"
     ]
    }
   ],
   "source": [
    "predicted = sess.run(model.predicting_ids,feed_dict={model.X:str_idx(['menikmati'],dictionary_from)})[0]\n",
    "print('PREDICTED AFTER:',''.join([rev_dictionary_to[n] for n in predicted if n not in[0,1,2,3]]))"
   ]
  },
  {
   "cell_type": "code",
   "execution_count": 19,
   "metadata": {},
   "outputs": [
    {
     "name": "stdout",
     "output_type": "stream",
     "text": [
      "PREDICTED AFTER: keladi\n"
     ]
    }
   ],
   "source": [
    "predicted = sess.run(model.predicting_ids,feed_dict={model.X:str_idx(['keladi'],dictionary_from)})[0]\n",
    "print('PREDICTED AFTER:',''.join([rev_dictionary_to[n] for n in predicted if n not in[0,1,2,3]]))"
   ]
  },
  {
   "cell_type": "code",
   "execution_count": 20,
   "metadata": {},
   "outputs": [
    {
     "name": "stdout",
     "output_type": "stream",
     "text": [
      "PREDICTED AFTER: hirup\n"
     ]
    }
   ],
   "source": [
    "predicted = sess.run(model.predicting_ids,feed_dict={model.X:str_idx(['menghirupkan'],dictionary_from)})[0]\n",
    "print('PREDICTED AFTER:',''.join([rev_dictionary_to[n] for n in predicted if n not in[0,1,2,3]]))"
   ]
  },
  {
   "cell_type": "code",
   "execution_count": 21,
   "metadata": {},
   "outputs": [
    {
     "name": "stdout",
     "output_type": "stream",
     "text": [
      "PREDICTED AFTER: udara\n"
     ]
    }
   ],
   "source": [
    "predicted = sess.run(model.predicting_ids,feed_dict={model.X:str_idx(['udara'],dictionary_from)})[0]\n",
    "print('PREDICTED AFTER:',''.join([rev_dictionary_to[n] for n in predicted if n not in[0,1,2,3]]))"
   ]
  },
  {
   "cell_type": "code",
   "execution_count": 32,
   "metadata": {},
   "outputs": [
    {
     "data": {
      "text/plain": [
       "'stemmer/model.ckpt'"
      ]
     },
     "execution_count": 32,
     "metadata": {},
     "output_type": "execute_result"
    }
   ],
   "source": [
    "saver = tf.train.Saver(tf.global_variables())\n",
    "saver.save(sess, \"stemmer/model.ckpt\")"
   ]
  },
  {
   "cell_type": "code",
   "execution_count": 37,
   "metadata": {},
   "outputs": [],
   "source": [
    "strings=','.join([n.name for n in tf.get_default_graph().as_graph_def().node if \"Variable\" in n.op or n.name.find('Placeholder') >= 0 or n.name.find('logits') == 0])"
   ]
  },
  {
   "cell_type": "code",
   "execution_count": 39,
   "metadata": {},
   "outputs": [],
   "source": [
    "def freeze_graph(model_dir, output_node_names):\n",
    "\n",
    "    if not tf.gfile.Exists(model_dir):\n",
    "        raise AssertionError(\n",
    "            \"Export directory doesn't exists. Please specify an export \"\n",
    "            \"directory: %s\" % model_dir)\n",
    "\n",
    "    checkpoint = tf.train.get_checkpoint_state(model_dir)\n",
    "    input_checkpoint = checkpoint.model_checkpoint_path\n",
    "    \n",
    "    absolute_model_dir = \"/\".join(input_checkpoint.split('/')[:-1])\n",
    "    output_graph = absolute_model_dir + \"/frozen_model.pb\"\n",
    "    clear_devices = True\n",
    "    with tf.Session(graph=tf.Graph()) as sess:\n",
    "        saver = tf.train.import_meta_graph(input_checkpoint + '.meta', clear_devices=clear_devices)\n",
    "        saver.restore(sess, input_checkpoint)\n",
    "        output_graph_def = tf.graph_util.convert_variables_to_constants(\n",
    "            sess,\n",
    "            tf.get_default_graph().as_graph_def(),\n",
    "            output_node_names.split(\",\")\n",
    "        ) \n",
    "        with tf.gfile.GFile(output_graph, \"wb\") as f:\n",
    "            f.write(output_graph_def.SerializeToString())\n",
    "        print(\"%d ops in the final graph.\" % len(output_graph_def.node))"
   ]
  },
  {
   "cell_type": "code",
   "execution_count": 40,
   "metadata": {},
   "outputs": [
    {
     "name": "stdout",
     "output_type": "stream",
     "text": [
      "INFO:tensorflow:Restoring parameters from stemmer/model.ckpt\n",
      "INFO:tensorflow:Froze 38 variables.\n",
      "Converted 38 variables to const ops.\n",
      "911 ops in the final graph.\n"
     ]
    }
   ],
   "source": [
    "freeze_graph(\"stemmer\", strings)"
   ]
  },
  {
   "cell_type": "code",
   "execution_count": 41,
   "metadata": {},
   "outputs": [],
   "source": [
    "def load_graph(frozen_graph_filename):\n",
    "    with tf.gfile.GFile(frozen_graph_filename, \"rb\") as f:\n",
    "        graph_def = tf.GraphDef()\n",
    "        graph_def.ParseFromString(f.read())\n",
    "    with tf.Graph().as_default() as graph:\n",
    "        tf.import_graph_def(graph_def)\n",
    "    return graph"
   ]
  },
  {
   "cell_type": "code",
   "execution_count": 42,
   "metadata": {},
   "outputs": [],
   "source": [
    "g=load_graph('stemmer/frozen_model.pb')"
   ]
  },
  {
   "cell_type": "code",
   "execution_count": 44,
   "metadata": {},
   "outputs": [
    {
     "name": "stdout",
     "output_type": "stream",
     "text": [
      "PREDICTED AFTER: comel\n"
     ]
    }
   ],
   "source": [
    "x = g.get_tensor_by_name('import/Placeholder:0')\n",
    "logits = g.get_tensor_by_name('import/logits:0')\n",
    "test_sess = tf.InteractiveSession(graph=g)\n",
    "predicted = test_sess.run(logits,feed_dict={x:str_idx(['kecomelan'],dictionary_from)})[0]\n",
    "print('PREDICTED AFTER:',''.join([rev_dictionary_to[n] for n in predicted if n not in[0,1,2,3]]))"
   ]
  },
  {
   "cell_type": "code",
   "execution_count": 47,
   "metadata": {},
   "outputs": [
    {
     "name": "stdout",
     "output_type": "stream",
     "text": [
      "PREDICTED AFTER: jalan\n"
     ]
    }
   ],
   "source": [
    "predicted = test_sess.run(logits,feed_dict={x:str_idx(['perjalanan'],dictionary_from)})[0]\n",
    "print('PREDICTED AFTER:',''.join([rev_dictionary_to[n] for n in predicted if n not in[0,1,2,3]]))"
   ]
  },
  {
   "cell_type": "code",
   "execution_count": 45,
   "metadata": {},
   "outputs": [],
   "source": [
    "import json\n",
    "with open('stemmer-deep.json','w') as fopen:\n",
    "    fopen.write(json.dumps({'dictionary_from':dictionary_from,\n",
    "                'dictionary_to':dictionary_to,\n",
    "                'rev_dictionary_to':rev_dictionary_to,\n",
    "                'rev_dictionary_from':rev_dictionary_from}))"
   ]
  },
  {
   "cell_type": "code",
   "execution_count": null,
   "metadata": {},
   "outputs": [],
   "source": []
  }
 ],
 "metadata": {
  "kernelspec": {
   "display_name": "Python 3",
   "language": "python",
   "name": "python3"
  },
  "language_info": {
   "codemirror_mode": {
    "name": "ipython",
    "version": 3
   },
   "file_extension": ".py",
   "mimetype": "text/x-python",
   "name": "python",
   "nbconvert_exporter": "python",
   "pygments_lexer": "ipython3",
   "version": "3.5.2"
  }
 },
 "nbformat": 4,
 "nbformat_minor": 2
}
