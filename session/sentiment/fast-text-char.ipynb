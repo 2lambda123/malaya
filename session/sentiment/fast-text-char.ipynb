{
 "cells": [
  {
   "cell_type": "code",
   "execution_count": 1,
   "metadata": {},
   "outputs": [
    {
     "name": "stderr",
     "output_type": "stream",
     "text": [
      "/usr/local/lib/python3.6/dist-packages/sklearn/cross_validation.py:41: DeprecationWarning: This module was deprecated in version 0.18 in favor of the model_selection module into which all the refactored classes and functions are moved. Also note that the interface of the new CV iterators are different from that of this module. This module will be removed in 0.20.\n",
      "  \"This module will be removed in 0.20.\", DeprecationWarning)\n"
     ]
    }
   ],
   "source": [
    "import re\n",
    "import numpy as np\n",
    "import collections\n",
    "from sklearn import metrics\n",
    "from sklearn.cross_validation import train_test_split\n",
    "import tensorflow as tf\n",
    "import pandas as pd\n",
    "from unidecode import unidecode\n",
    "from sklearn.preprocessing import LabelEncoder\n",
    "from tqdm import tqdm\n",
    "import time"
   ]
  },
  {
   "cell_type": "code",
   "execution_count": 2,
   "metadata": {},
   "outputs": [],
   "source": [
    "rules_normalizer = {\n",
    "    'experience': 'pengalaman',\n",
    "    'bagasi': 'bagasi',\n",
    "    'kg': 'kampung',\n",
    "    'kilo': 'kilogram',\n",
    "    'g': 'gram',\n",
    "    'grm': 'gram',\n",
    "    'k': 'okay',\n",
    "    'abgkat': 'abang dekat',\n",
    "    'abis': 'habis',\n",
    "    'ade': 'ada',\n",
    "    'adoi': 'aduh',\n",
    "    'adoii': 'aduhh',\n",
    "    'aerodarat': 'kapal darat',\n",
    "    'agkt': 'angkat',\n",
    "    'ahh': 'ah',\n",
    "    'ailior': 'air liur',\n",
    "    'airasia': 'air asia x',\n",
    "    'airasiax': 'penerbangan',\n",
    "    'airline': 'penerbangan',\n",
    "    'airlines': 'penerbangan',\n",
    "    'airport': 'lapangan terbang',\n",
    "    'airpot': 'lapangan terbang',\n",
    "    'aje': 'sahaja',\n",
    "    'ajelah': 'sahajalah',\n",
    "    'ajer': 'sahaja',\n",
    "    'ak': 'aku',\n",
    "    'aq': 'aku',\n",
    "    'all': 'semua',\n",
    "    'ambik': 'ambil',\n",
    "    'amek': 'ambil',\n",
    "    'amer': 'amir',\n",
    "    'amik': 'ambil',\n",
    "    'ana': 'saya',\n",
    "    'angkt': 'angkat',\n",
    "    'anual': 'tahunan',\n",
    "    'apapun': 'apa pun',\n",
    "    'ape': 'apa',\n",
    "    'arab': 'arab',\n",
    "    'area': 'kawasan',\n",
    "    'aritu': 'hari itu',\n",
    "    'ask': 'tanya',\n",
    "    'astro': 'astro',\n",
    "    'at': 'pada',\n",
    "    'attitude': 'sikap',\n",
    "    'babi': 'khinzir',\n",
    "    'back': 'belakang',\n",
    "    'bag': 'beg',\n",
    "    'bang': 'abang',\n",
    "    'bangla': 'bangladesh',\n",
    "    'banyk': 'banyak',\n",
    "    'bard': 'pujangga',\n",
    "    'bargasi': 'bagasi',\n",
    "    'bawak': 'bawa',\n",
    "    'bawanges': 'bawang',\n",
    "    'be': 'jadi',\n",
    "    'behave': 'berkelakuan baik',\n",
    "    'belagak': 'berlagak',\n",
    "    'berdisiplin': 'berdisplin',\n",
    "    'berenti': 'berhenti',\n",
    "    'beskal': 'basikal',\n",
    "    'bff': 'rakan karib',\n",
    "    'bg': 'bagi',\n",
    "    'bgi': 'bagi',\n",
    "    'biase': 'biasa',\n",
    "    'big': 'besar',\n",
    "    'bike': 'basikal',\n",
    "    'bile': 'bila',\n",
    "    'binawe': 'binatang',\n",
    "    'bini': 'isteri',\n",
    "    'bkn': 'bukan',\n",
    "    'bla': 'bila',\n",
    "    'blom': 'belum',\n",
    "    'bnyak': 'banyak',\n",
    "    'body': 'tubuh',\n",
    "    'bole': 'boleh',\n",
    "    'boss': 'bos',\n",
    "    'bowling': 'boling',\n",
    "    'bpe': 'berapa',\n",
    "    'brand': 'jenama',\n",
    "    'brg': 'barang',\n",
    "    'briefing': 'taklimat',\n",
    "    'brng': 'barang',\n",
    "    'bro': 'abang',\n",
    "    'bru': 'baru',\n",
    "    'bruntung': 'beruntung',\n",
    "    'bsikal': 'basikal',\n",
    "    'btnggjwb': 'bertanggungjawab',\n",
    "    'btul': 'betul',\n",
    "    'buatlh': 'buatlah',\n",
    "    'buh': 'letak',\n",
    "    'buka': 'buka',\n",
    "    'but': 'tetapi',\n",
    "    'bwk': 'bawa',\n",
    "    'by': 'dengan',\n",
    "    'byr': 'bayar',\n",
    "    'bz': 'sibuk',\n",
    "    'camera': 'kamera',\n",
    "    'camni': 'macam ini',\n",
    "    'cane': 'macam mana',\n",
    "    'cant': 'tak boleh',\n",
    "    'carakerja': 'cara kerja',\n",
    "    'care': 'jaga',\n",
    "    'cargo': 'kargo',\n",
    "    'cctv': 'kamera litar tertutup',\n",
    "    'celako': 'celaka',\n",
    "    'cer': 'cerita',\n",
    "    'cheap': 'murah',\n",
    "    'check': 'semak',\n",
    "    'ciput': 'sedikit',\n",
    "    'cite': 'cerita',\n",
    "    'citer': 'cerita',\n",
    "    'ckit': 'sikit',\n",
    "    'ckp': 'cakap',\n",
    "    'class': 'kelas',\n",
    "    'cm': 'macam',\n",
    "    'cmni': 'macam ini',\n",
    "    'cmpak': 'campak',\n",
    "    'committed': 'komited',\n",
    "    'company': 'syarikat',\n",
    "    'complain': 'aduan',\n",
    "    'corn': 'jagung',\n",
    "    'couldnt': 'tak boleh',\n",
    "    'cr': 'cari',\n",
    "    'crew': 'krew',\n",
    "    'cube': 'cuba',\n",
    "    'cuma': 'cuma',\n",
    "    'curinyaa': 'curinya',\n",
    "    'cust': 'pelanggan',\n",
    "    'customer': 'pelanggan',\n",
    "    'd': 'di',\n",
    "    'da': 'dah',\n",
    "    'dn': 'dan',\n",
    "    'dahh': 'dah',\n",
    "    'damaged': 'rosak',\n",
    "    'dapek': 'dapat',\n",
    "    'day': 'hari',\n",
    "    'dazrin': 'dazrin',\n",
    "    'dbalingnya': 'dibalingnya',\n",
    "    'de': 'ada',\n",
    "    'deep': 'dalam',\n",
    "    'deliberately': 'sengaja',\n",
    "    'depa': 'mereka',\n",
    "    'dessa': 'desa',\n",
    "    'dgn': 'dengan',\n",
    "    'dh': 'dah',\n",
    "    'didunia': 'di dunia',\n",
    "    'diorang': 'mereka',\n",
    "    'diorng': 'mereka',\n",
    "    'direct': 'secara terus',\n",
    "    'diving': 'junam',\n",
    "    'dkt': 'dekat',\n",
    "    'dlempar': 'dilempar',\n",
    "    'dlm': 'dalam',\n",
    "    'dlt': 'padam',\n",
    "    'dlu': 'dulu',\n",
    "    'done': 'siap',\n",
    "    'dont': 'jangan',\n",
    "    'dorg': 'mereka',\n",
    "    'dpermudhkn': 'dipermudahkan',\n",
    "    'dpt': 'dapat',\n",
    "    'dr': 'dari',\n",
    "    'dri': 'dari',\n",
    "    'dsb': 'dan sebagainya',\n",
    "    'dy': 'dia',\n",
    "    'educate': 'mendidik',\n",
    "    'ensure': 'memastikan',\n",
    "    'everything': 'semua',\n",
    "    'ewahh': 'wah',\n",
    "    'expect': 'sangka',\n",
    "    'fb': 'facebook',\n",
    "    'fired': 'pecat',\n",
    "    'first': 'pertama',\n",
    "    'fkr': 'fikir',\n",
    "    'flight': 'kapal terbang',\n",
    "    'for': 'untuk',\n",
    "    'free': 'percuma',\n",
    "    'friend': 'kawan',\n",
    "    'fyi': 'untuk pengetahuan anda',\n",
    "    'gantila': 'gantilah',\n",
    "    'gantirugi': 'ganti rugi',\n",
    "    'gentlemen': 'lelaki budiman',\n",
    "    'gerenti': 'jaminan',\n",
    "    'gile': 'gila',\n",
    "    'gk': 'juga',\n",
    "    'gnti': 'ganti',\n",
    "    'go': 'pergi',\n",
    "    'gomen': 'kerajaan',\n",
    "    'goment': 'kerajaan',\n",
    "    'good': 'baik',\n",
    "    'ground': 'tanah',\n",
    "    'guarno': 'macam mana',\n",
    "    'hampa': 'mereka',\n",
    "    'hampeh': 'teruk',\n",
    "    'hanat': 'jahanam',\n",
    "    'handle': 'kawal',\n",
    "    'handling': 'kawalan',\n",
    "    'hanta': 'hantar',\n",
    "    'haritu': 'hari itu',\n",
    "    'hate': 'benci',\n",
    "    'have': 'ada',\n",
    "    'hawau': 'celaka',\n",
    "    'henpon': 'telefon',\n",
    "    'heran': 'hairan',\n",
    "    'him': 'dia',\n",
    "    'his': 'dia',\n",
    "    'hmpa': 'mereka',\n",
    "    'hntr': 'hantar',\n",
    "    'hotak': 'otak',\n",
    "    'hr': 'hari',\n",
    "    'i': 'saya',\n",
    "    'hrga': 'harga',\n",
    "    'hrp': 'harap',\n",
    "    'hu': 'sedih',\n",
    "    'humble': 'merendah diri',\n",
    "    'ibon': 'ikon',\n",
    "    'ichi': 'inci',\n",
    "    'idung': 'hidung',\n",
    "    'if': 'jika',\n",
    "    'ig': 'instagram',\n",
    "    'iklas': 'ikhlas',\n",
    "    'improve': 'menambah baik',\n",
    "    'in': 'masuk',\n",
    "    'isn t': 'tidak',\n",
    "    'isyaallah': 'insyallah',\n",
    "    'ja': 'sahaja',\n",
    "    'japan': 'jepun',\n",
    "    'jd': 'jadi',\n",
    "    'je': 'saja',\n",
    "    'jee': 'saja',\n",
    "    'jek': 'saja',\n",
    "    'jepun': 'jepun',\n",
    "    'jer': 'saja',\n",
    "    'jerr': 'saja',\n",
    "    'jez': 'saja',\n",
    "    'jg': 'juga',\n",
    "    'jgk': 'juga',\n",
    "    'jgn': 'jangan',\n",
    "    'jgnla': 'janganlah',\n",
    "    'jibake': 'celaka',\n",
    "    'jjur': 'jujur',\n",
    "    'job': 'kerja',\n",
    "    'jobscope': 'skop kerja',\n",
    "    'jogja': 'jogjakarta',\n",
    "    'jpam': 'jpam',\n",
    "    'jth': 'jatuh',\n",
    "    'jugak': 'juga',\n",
    "    'ka': 'ke',\n",
    "    'kalo': 'kalau',\n",
    "    'kalu': 'kalau',\n",
    "    'kang': 'nanti',\n",
    "    'kantoi': 'temberang',\n",
    "    'kasi': 'beri',\n",
    "    'kat': 'dekat',\n",
    "    'kbye': 'ok bye',\n",
    "    'kearah': 'ke arah',\n",
    "    'kecik': 'kecil',\n",
    "    'keja': 'kerja',\n",
    "    'keje': 'kerja',\n",
    "    'kejo': 'kerja',\n",
    "    'keksongan': 'kekosongan',\n",
    "    'kemana': 'ke mana',\n",
    "    'kene': 'kena',\n",
    "    'kenekan': 'kenakan',\n",
    "    'kesah': 'kisah',\n",
    "    'ketempat': 'ke tempat',\n",
    "    'kije': 'kerja',\n",
    "    'kijo': 'kerja',\n",
    "    'kiss': 'cium',\n",
    "    'kite': 'kita',\n",
    "    'kito': 'kita',\n",
    "    'kje': 'kerja',\n",
    "    'kjr': 'kerja',\n",
    "    'kk': 'okay',\n",
    "    'kmi': 'kami',\n",
    "    'kt': 'kat',\n",
    "    'tlg': 'tolong',\n",
    "    'kl': 'kuala lumpur',\n",
    "    'klai': 'kalau',\n",
    "    'klau': 'kalau',\n",
    "    'klia': 'klia',\n",
    "    'klo': 'kalau',\n",
    "    'klu': 'kalau',\n",
    "    'kn': 'kan',\n",
    "    'knapa': 'kenapa',\n",
    "    'kne': 'kena',\n",
    "    'ko': 'kau',\n",
    "    'kompom': 'sah',\n",
    "    'korang': 'kamu semua',\n",
    "    'korea': 'korea',\n",
    "    'korg': 'kamu semua',\n",
    "    'kot': 'mungkin',\n",
    "    'krja': 'kerja',\n",
    "    'ksalahan': 'kesalahan',\n",
    "    'kta': 'kita',\n",
    "    'kuar': 'keluar',\n",
    "    'kut': 'mungkin',\n",
    "    'la': 'lah',\n",
    "    'laa': 'lah',\n",
    "    'lahabau': 'celaka',\n",
    "    'lahanat': 'celaka',\n",
    "    'lainda': 'lain dah',\n",
    "    'lak': 'pula',\n",
    "    'last': 'akhir',\n",
    "    'le': 'lah',\n",
    "    'leader': 'ketua',\n",
    "    'leave': 'pergi',\n",
    "    'ler': 'lah',\n",
    "    'less': 'kurang',\n",
    "    'letter': 'surat',\n",
    "    'lg': 'lagi',\n",
    "    'lgi': 'lagi',\n",
    "    'lngsong': 'langsung',\n",
    "    'lol': 'hehe',\n",
    "    'lorr': 'lah',\n",
    "    'low': 'rendah',\n",
    "    'lps': 'lepas',\n",
    "    'luggage': 'bagasi',\n",
    "    'lumbe': 'lumba',\n",
    "    'lyak': 'layak',\n",
    "    'maap': 'maaf',\n",
    "    'maapkan': 'maafkan',\n",
    "    'mahai': 'mahal',\n",
    "    'mampos': 'mampus',\n",
    "    'mart': 'kedai',\n",
    "    'mau': 'mahu',\n",
    "    'mcm': 'macam',\n",
    "    'mcmtu': 'macam itu',\n",
    "    'memerlukn': 'memerlukan',\n",
    "    'mengembirakan': 'menggembirakan',\n",
    "    'mengmbilnyer': 'mengambilnya',\n",
    "    'mengtasi': 'mengatasi',\n",
    "    'mg': 'memang',\n",
    "    'mihak': 'memihak',\n",
    "    'min': 'admin',\n",
    "    'mingu': 'minggu',\n",
    "    'mintak': 'minta',\n",
    "    'mjtuhkn': 'menjatuhkan',\n",
    "    'mkyong': 'mak yong',\n",
    "    'mlibatkn': 'melibatkan',\n",
    "    'mmg': 'memang',\n",
    "    'mmnjang': 'memanjang',\n",
    "    'mmpos': 'mampus',\n",
    "    'mn': 'mana',\n",
    "    'mna': 'mana',\n",
    "    'mntak': 'minta',\n",
    "    'mntk': 'minta',\n",
    "    'mnyusun': 'menyusun',\n",
    "    'mood': 'suasana',\n",
    "    'most': 'paling',\n",
    "    'mr': 'tuan',\n",
    "    'msa': 'masa',\n",
    "    'msia': 'malaysia',\n",
    "    'mst': 'mesti',\n",
    "    'mu': 'awak',\n",
    "    'much': 'banyak',\n",
    "    'muko': 'muka',\n",
    "    'mum': 'emak',\n",
    "    'n': 'dan',\n",
    "    'nah': 'nah',\n",
    "    'nanny': 'nenek',\n",
    "    'napo': 'kenapa',\n",
    "    'nati': 'nanti',\n",
    "    'ngan': 'dengan',\n",
    "    'ngn': 'dengan',\n",
    "    'ni': 'ini',\n",
    "    'nie': 'ini',\n",
    "    'nii': 'ini',\n",
    "    'nk': 'nak',\n",
    "    'nmpk': 'nampak',\n",
    "    'nye': 'nya',\n",
    "    'ofis': 'pejabat',\n",
    "    'ohh': 'oh',\n",
    "    'oii': 'hoi',\n",
    "    'one': 'satu',\n",
    "    'online': 'dalam talian',\n",
    "    'or': 'atau',\n",
    "    'org': 'orang',\n",
    "    'orng': 'orang',\n",
    "    'otek': 'otak',\n",
    "    'p': 'pergi',\n",
    "    'paid': 'dah bayar',\n",
    "    'palabana': 'kepala otak',\n",
    "    'pasni': 'lepas ini',\n",
    "    'passengers': 'penumpang',\n",
    "    'passengger': 'penumpang',\n",
    "    'pastu': 'lepas itu',\n",
    "    'pd': 'pada',\n",
    "    'pegi': 'pergi',\n",
    "    'pekerje': 'pekerja',\n",
    "    'pekrja': 'pekerja',\n",
    "    'perabih': 'perabis',\n",
    "    'perkerja': 'pekerja',\n",
    "    'pg': 'pergi',\n",
    "    'phuii': 'puih',\n",
    "    'pikir': 'fikir',\n",
    "    'pilot': 'juruterbang',\n",
    "    'pk': 'fikir',\n",
    "    'pkerja': 'pekerja',\n",
    "    'pkerjaan': 'pekerjaan',\n",
    "    'pki': 'pakai',\n",
    "    'please': 'tolong',\n",
    "    'pls': 'tolong',\n",
    "    'pn': 'pun',\n",
    "    'pnh': 'pernah',\n",
    "    'pnt': 'penat',\n",
    "    'pnya': 'punya',\n",
    "    'pon': 'pun',\n",
    "    'priority': 'keutamaan',\n",
    "    'properties': 'harta benda',\n",
    "    'ptugas': 'petugas',\n",
    "    'pub': 'kelab malam',\n",
    "    'pulak': 'pula',\n",
    "    'puye': 'punya',\n",
    "    'pwrcuma': 'percuma',\n",
    "    'pyahnya': 'payahnya',\n",
    "    'quality': 'kualiti',\n",
    "    'quit': 'keluar',\n",
    "    'ramly': 'ramly',\n",
    "    'rege': 'harga',\n",
    "    'reger': 'harga',\n",
    "    'report': 'laporan',\n",
    "    'resigned': 'meletakkan jawatan',\n",
    "    'respect': 'hormat',\n",
    "    'rizal': 'rizal',\n",
    "    'rosak': 'rosak',\n",
    "    'rosok': 'rosak',\n",
    "    'rse': 'rasa',\n",
    "    'sacked': 'buang',\n",
    "    'sado': 'tegap',\n",
    "    'salute': 'sanjung',\n",
    "    'sam': 'sama',\n",
    "    'same': 'sama',\n",
    "    'samp': 'sampah',\n",
    "    'sbb': 'sebab',\n",
    "    'sbgai': 'sebagai',\n",
    "    'sblm': 'sebelum',\n",
    "    'sblum': 'sebelum',\n",
    "    'sbnarnya': 'sebenarnya',\n",
    "    'sbum': 'sebelum',\n",
    "    'sdg': 'sedang',\n",
    "    'sebb': 'sebab',\n",
    "    'sebijik': 'sebiji',\n",
    "    'see': 'lihat',\n",
    "    'seen': 'dilihat',\n",
    "    'selangor': 'selangor',\n",
    "    'selfie': 'swafoto',\n",
    "    'sempoi': 'cantik',\n",
    "    'senaraihitam': 'senarai hitam',\n",
    "    'seorg': 'seorang',\n",
    "    'service': 'perkhidmatan',\n",
    "    'sgt': 'sangat',\n",
    "    'shared': 'kongsi',\n",
    "    'shirt': 'kemeja',\n",
    "    'shut': 'tutup',\n",
    "    'sib': 'nasib',\n",
    "    'skali': 'sekali',\n",
    "    'sket': 'sikit',\n",
    "    'sma': 'sama',\n",
    "    'smoga': 'semoga',\n",
    "    'smpoi': 'cantik',\n",
    "    'sndiri': 'sendiri',\n",
    "    'sndr': 'sendiri',\n",
    "    'sndri': 'sendiri',\n",
    "    'sne': 'sana',\n",
    "    'so': 'jadi',\n",
    "    'sop': 'tatacara pengendalian piawai',\n",
    "    'sorang': 'seorang',\n",
    "    'spoting': 'pembintikan',\n",
    "    'sronok': 'seronok',\n",
    "    'ssh': 'susah',\n",
    "    'staff': 'staf',\n",
    "    'standing': 'berdiri',\n",
    "    'start': 'mula',\n",
    "    'steady': 'mantap',\n",
    "    'stiap': 'setiap',\n",
    "    'stress': 'stres',\n",
    "    'student': 'pelajar',\n",
    "    'study': 'belajar',\n",
    "    'studycase': 'kajian kes',\n",
    "    'sure': 'pasti',\n",
    "    'sykt': 'syarikat',\n",
    "    'tah': 'entah',\n",
    "    'taik': 'tahi',\n",
    "    'takan': 'tak akan',\n",
    "    'takat': 'setakat',\n",
    "    'takde': 'tak ada',\n",
    "    'takkan': 'tak akan',\n",
    "    'taknak': 'tak nak',\n",
    "    'tang': 'tentang',\n",
    "    'tanggungjawab': 'bertanggungjawab',\n",
    "    'taraa': 'sementara',\n",
    "    'tau': 'tahu',\n",
    "    'tbabit': 'terbabit',\n",
    "    'team': 'pasukan',\n",
    "    'terbaekk': 'terbaik',\n",
    "    'teruknye': 'teruknya',\n",
    "    'tgk': 'tengok',\n",
    "    'that': 'itu',\n",
    "    'thinking': 'fikir',\n",
    "    'those': 'itu',\n",
    "    'time': 'masa',\n",
    "    'tk': 'tak',\n",
    "    'tnggongjwb': 'tanggungjawab',\n",
    "    'tngok': 'tengok',\n",
    "    'tngu': 'tunggu',\n",
    "    'to': 'kepada',\n",
    "    'tosak': 'rosak',\n",
    "    'tp': 'tapi',\n",
    "    'tpi': 'tapi',\n",
    "    'tpon': 'telefon',\n",
    "    'transfer': 'pindah',\n",
    "    'trgelak': 'tergelak',\n",
    "    'ts': 'tan sri',\n",
    "    'tstony': 'tan sri tony',\n",
    "    'tu': 'itu',\n",
    "    'tuh': 'itu',\n",
    "    'tula': 'itulah',\n",
    "    'umeno': 'umno',\n",
    "    'unfortunately': 'malangnya',\n",
    "    'unhappy': 'tidak gembira',\n",
    "    'up': 'naik',\n",
    "    'upkan': 'naikkan',\n",
    "    'ur': 'awak',\n",
    "    'utk': 'untuk',\n",
    "    'very': 'sangat',\n",
    "    'viral': 'tular',\n",
    "    'vote': 'undi',\n",
    "    'warning': 'amaran',\n",
    "    'warranty': 'waranti',\n",
    "    'wassap': 'whatsapp',\n",
    "    'wat': 'apa',\n",
    "    'weii': 'wei',\n",
    "    'well': 'maklumlah',\n",
    "    'win': 'menang',\n",
    "    'with': 'dengan',\n",
    "    'wt': 'buat',\n",
    "    'x': 'tak',\n",
    "    'tw': 'tahu',\n",
    "    'ye': 'ya',\n",
    "    'yee': 'ya',\n",
    "    'yg': 'yang',\n",
    "    'yng': 'yang',\n",
    "    'you': 'awak',\n",
    "    'your': 'awak',\n",
    "    'sakai': 'selekeh',\n",
    "    'rmb': 'billion ringgit',\n",
    "    'rmj': 'juta ringgit',\n",
    "    'rmk': 'ribu ringgit',\n",
    "    'rm': 'ringgit',\n",
    "}"
   ]
  },
  {
   "cell_type": "code",
   "execution_count": 3,
   "metadata": {},
   "outputs": [],
   "source": [
    "permulaan = [\n",
    "    'bel',\n",
    "    'se',\n",
    "    'ter',\n",
    "    'men',\n",
    "    'meng',\n",
    "    'mem',\n",
    "    'memper',\n",
    "    'di',\n",
    "    'pe',\n",
    "    'me',\n",
    "    'ke',\n",
    "    'ber',\n",
    "    'pen',\n",
    "    'per',\n",
    "]\n",
    "\n",
    "hujung = ['kan', 'kah', 'lah', 'tah', 'nya', 'an', 'wan', 'wati', 'ita']\n",
    "\n",
    "def naive_stemmer(word):\n",
    "    assert isinstance(word, str), 'input must be a string'\n",
    "    hujung_result = [e for e in hujung if word.endswith(e)]\n",
    "    if len(hujung_result):\n",
    "        hujung_result = max(hujung_result, key = len)\n",
    "        if len(hujung_result):\n",
    "            word = word[: -len(hujung_result)]\n",
    "    permulaan_result = [e for e in permulaan if word.startswith(e)]\n",
    "    if len(permulaan_result):\n",
    "        permulaan_result = max(permulaan_result, key = len)\n",
    "        if len(permulaan_result):\n",
    "            word = word[len(permulaan_result) :]\n",
    "    return word\n",
    "\n",
    "def build_dataset(words, n_words):\n",
    "    count = [['GO', 0], ['PAD', 1], ['EOS', 2], ['UNK', 3]]\n",
    "    counter = collections.Counter(words).most_common(n_words)\n",
    "    count.extend(counter)\n",
    "    dictionary = dict()\n",
    "    for word, _ in count:\n",
    "        dictionary[word] = len(dictionary)\n",
    "    data = list()\n",
    "    unk_count = 0\n",
    "    for word in words:\n",
    "        index = dictionary.get(word, 3)\n",
    "        if index == 0:\n",
    "            unk_count += 1\n",
    "        data.append(index)\n",
    "    count[0][1] = unk_count\n",
    "    reversed_dictionary = dict(zip(dictionary.values(), dictionary.keys()))\n",
    "    return data, count, dictionary, reversed_dictionary\n",
    "\n",
    "\n",
    "def classification_textcleaning(string):\n",
    "    string = re.sub(\n",
    "        'http\\S+|www.\\S+',\n",
    "        '',\n",
    "        ' '.join(\n",
    "            [i for i in string.split() if i.find('#') < 0 and i.find('@') < 0]\n",
    "        ),\n",
    "    )\n",
    "    string = unidecode(string).replace('.', ' . ').replace(',', ' , ')\n",
    "    string = re.sub('[^A-Za-z ]+', ' ', string)\n",
    "    string = re.sub(r'[ ]+', ' ', string.lower()).strip()\n",
    "    string = [rules_normalizer.get(w, w) for w in string.split()]\n",
    "    string = [naive_stemmer(word) for word in string]\n",
    "    return ' '.join([word for word in string if len(word) > 1])\n",
    "\n",
    "\n",
    "def str_idx(corpus, dic, maxlen, UNK = 3):\n",
    "    X = np.zeros((len(corpus), maxlen))\n",
    "    for i in range(len(corpus)):\n",
    "        for no, k in enumerate(corpus[i].split()[:maxlen][::-1]):\n",
    "            X[i, -1 - no] = dic.get(k, UNK)\n",
    "    return X"
   ]
  },
  {
   "cell_type": "code",
   "execution_count": 4,
   "metadata": {},
   "outputs": [
    {
     "data": {
      "text/plain": [
       "'raja benar sangat benci rakyat minyak naik gala'"
      ]
     },
     "execution_count": 4,
     "metadata": {},
     "output_type": "execute_result"
    }
   ],
   "source": [
    "classification_textcleaning('kerajaan sebenarnya sangat bencikan rakyatnya, minyak naik dan segalanya')"
   ]
  },
  {
   "cell_type": "code",
   "execution_count": 5,
   "metadata": {},
   "outputs": [],
   "source": [
    "df = pd.read_csv('sentiment-data-v2.csv')\n",
    "Y = LabelEncoder().fit_transform(df.label)\n",
    "with open('polarity-negative-translated.txt','r') as fopen:\n",
    "    texts = fopen.read().split('\\n')\n",
    "labels = [0] * len(texts)\n",
    "\n",
    "with open('polarity-positive-translated.txt','r') as fopen:\n",
    "    positive_texts = fopen.read().split('\\n')\n",
    "labels += [1] * len(positive_texts)\n",
    "texts += positive_texts\n",
    "texts += df.iloc[:,1].tolist()\n",
    "labels += Y.tolist()\n",
    "\n",
    "assert len(labels) == len(texts)"
   ]
  },
  {
   "cell_type": "code",
   "execution_count": 6,
   "metadata": {},
   "outputs": [],
   "source": [
    "import json\n",
    "with open('bm-amazon.json') as fopen:\n",
    "    amazon = json.load(fopen)\n",
    "    \n",
    "with open('bm-imdb.json') as fopen:\n",
    "    imdb = json.load(fopen)\n",
    "    \n",
    "with open('bm-yelp.json') as fopen:\n",
    "    yelp = json.load(fopen)\n",
    "    \n",
    "texts += amazon['negative']\n",
    "labels += [0] * len(amazon['negative'])\n",
    "texts += amazon['positive']\n",
    "labels += [1] * len(amazon['positive'])\n",
    "\n",
    "texts += imdb['negative']\n",
    "labels += [0] * len(imdb['negative'])\n",
    "texts += imdb['positive']\n",
    "labels += [1] * len(imdb['positive'])\n",
    "\n",
    "texts += yelp['negative']\n",
    "labels += [0] * len(yelp['negative'])\n",
    "texts += yelp['positive']\n",
    "labels += [1] * len(yelp['positive'])"
   ]
  },
  {
   "cell_type": "code",
   "execution_count": 7,
   "metadata": {},
   "outputs": [],
   "source": [
    "import os\n",
    "for i in [i for i in os.listdir('negative') if 'Store' not in i]:\n",
    "    with open('negative/'+i) as fopen:\n",
    "        a = json.load(fopen)\n",
    "        texts += a\n",
    "        labels += [0] * len(a)\n",
    "        \n",
    "import os\n",
    "for i in [i for i in os.listdir('positive') if 'Store' not in i]:\n",
    "    with open('positive/'+i) as fopen:\n",
    "        a = json.load(fopen)\n",
    "        texts += a\n",
    "        labels += [1] * len(a)"
   ]
  },
  {
   "cell_type": "code",
   "execution_count": 8,
   "metadata": {},
   "outputs": [],
   "source": [
    "x, y = [], []\n",
    "for i in range(len(texts)):\n",
    "    s = classification_textcleaning(texts[i])\n",
    "    if len(s) > 5:\n",
    "        x.append(s)\n",
    "        y.append(labels[i])"
   ]
  },
  {
   "cell_type": "code",
   "execution_count": 9,
   "metadata": {},
   "outputs": [],
   "source": [
    "def convert_sparse_matrix_to_sparse_tensor(X, limit = 5):\n",
    "    coo = X.tocoo()\n",
    "    indices = np.mat([coo.row, coo.col]).transpose()\n",
    "    #coo.data[coo.data > limit] = limit\n",
    "    return tf.SparseTensorValue(indices, coo.col, coo.shape), tf.SparseTensorValue(indices, coo.data, coo.shape)"
   ]
  },
  {
   "cell_type": "code",
   "execution_count": 10,
   "metadata": {},
   "outputs": [],
   "source": [
    "from sklearn.feature_extraction.text import CountVectorizer"
   ]
  },
  {
   "cell_type": "code",
   "execution_count": 11,
   "metadata": {},
   "outputs": [],
   "source": [
    "bow_chars = CountVectorizer(ngram_range=(3, 5), analyzer='char_wb').fit(x)\n",
    "delattr(bow_chars, 'stop_words_')"
   ]
  },
  {
   "cell_type": "code",
   "execution_count": 12,
   "metadata": {},
   "outputs": [
    {
     "data": {
      "text/plain": [
       "331938"
      ]
     },
     "execution_count": 12,
     "metadata": {},
     "output_type": "execute_result"
    }
   ],
   "source": [
    "feature_shape = bow_chars.transform(texts[:1]).shape[1]\n",
    "feature_shape"
   ]
  },
  {
   "cell_type": "code",
   "execution_count": 13,
   "metadata": {},
   "outputs": [],
   "source": [
    "class Model:\n",
    "    def __init__(self, vocab_size, learning_rate):\n",
    "        self.X = tf.sparse_placeholder(tf.int32)\n",
    "        self.W = tf.sparse_placeholder(tf.int32)\n",
    "        self.Y = tf.placeholder(tf.int32, [None])\n",
    "        self.embeddings = tf.Variable(tf.truncated_normal([vocab_size,128]))\n",
    "        embed = tf.nn.embedding_lookup_sparse(self.embeddings, self.X, self.W, combiner='mean')\n",
    "        self.logits = tf.layers.dense(embed, 2)\n",
    "        self.cost = tf.reduce_mean(tf.nn.sparse_softmax_cross_entropy_with_logits(\n",
    "            logits = self.logits, labels = self.Y))\n",
    "        self.optimizer = tf.train.GradientDescentOptimizer(learning_rate = learning_rate).minimize(self.cost)\n",
    "        correct_pred = tf.equal(tf.argmax(self.logits, 1, output_type=tf.int32), self.Y)\n",
    "        self.accuracy = tf.reduce_mean(tf.cast(correct_pred, tf.float32))"
   ]
  },
  {
   "cell_type": "code",
   "execution_count": 14,
   "metadata": {},
   "outputs": [
    {
     "name": "stderr",
     "output_type": "stream",
     "text": [
      "/usr/local/lib/python3.6/dist-packages/tensorflow/python/ops/gradients_impl.py:112: UserWarning: Converting sparse IndexedSlices to a dense Tensor of unknown shape. This may consume a large amount of memory.\n",
      "  \"Converting sparse IndexedSlices to a dense Tensor of unknown shape. \"\n"
     ]
    }
   ],
   "source": [
    "tf.reset_default_graph()\n",
    "sess = tf.InteractiveSession()\n",
    "model = Model(feature_shape, 1e-3)\n",
    "sess.run(tf.global_variables_initializer())"
   ]
  },
  {
   "cell_type": "code",
   "execution_count": 15,
   "metadata": {},
   "outputs": [
    {
     "data": {
      "text/plain": [
       "'fast-text-char/model.ckpt'"
      ]
     },
     "execution_count": 15,
     "metadata": {},
     "output_type": "execute_result"
    }
   ],
   "source": [
    "saver = tf.train.Saver(tf.trainable_variables())\n",
    "saver.save(sess, 'fast-text-char/model.ckpt')"
   ]
  },
  {
   "cell_type": "code",
   "execution_count": 16,
   "metadata": {},
   "outputs": [],
   "source": [
    "train_X, test_X, train_Y, test_Y = train_test_split(\n",
    "    x, y, test_size = 0.2\n",
    ")"
   ]
  },
  {
   "cell_type": "code",
   "execution_count": 17,
   "metadata": {},
   "outputs": [
    {
     "name": "stderr",
     "output_type": "stream",
     "text": [
      "train minibatch loop: 100%|██████████| 16751/16751 [01:29<00:00, 187.21it/s, accuracy=0.667, cost=0.632]\n",
      "test minibatch loop: 100%|██████████| 4188/4188 [00:20<00:00, 207.88it/s, accuracy=0.588, cost=0.716]\n",
      "train minibatch loop:   0%|          | 19/16751 [00:00<01:29, 186.78it/s, accuracy=0.75, cost=0.653] "
     ]
    },
    {
     "name": "stdout",
     "output_type": "stream",
     "text": [
      "epoch: 0, pass acc: 0.000000, current acc: 0.605330\n",
      "time taken: 109.6246485710144\n",
      "epoch: 0, training loss: 0.675434, training acc: 0.580658, valid loss: 0.665955, valid acc: 0.605330\n",
      "\n"
     ]
    },
    {
     "name": "stderr",
     "output_type": "stream",
     "text": [
      "train minibatch loop: 100%|██████████| 16751/16751 [01:29<00:00, 186.76it/s, accuracy=0.667, cost=0.618]\n",
      "test minibatch loop: 100%|██████████| 4188/4188 [00:20<00:00, 207.90it/s, accuracy=0.588, cost=0.713]\n",
      "train minibatch loop:   0%|          | 19/16751 [00:00<01:28, 189.25it/s, accuracy=0.594, cost=0.623]"
     ]
    },
    {
     "name": "stdout",
     "output_type": "stream",
     "text": [
      "epoch: 1, pass acc: 0.605330, current acc: 0.624076\n",
      "time taken: 109.83600759506226\n",
      "epoch: 1, training loss: 0.659840, training acc: 0.614980, valid loss: 0.654714, valid acc: 0.624076\n",
      "\n"
     ]
    },
    {
     "name": "stderr",
     "output_type": "stream",
     "text": [
      "train minibatch loop: 100%|██████████| 16751/16751 [01:29<00:00, 186.61it/s, accuracy=0.667, cost=0.61] \n",
      "test minibatch loop: 100%|██████████| 4188/4188 [00:20<00:00, 207.64it/s, accuracy=0.647, cost=0.712]\n",
      "train minibatch loop:   0%|          | 19/16751 [00:00<01:28, 189.51it/s, accuracy=0.594, cost=0.61] "
     ]
    },
    {
     "name": "stdout",
     "output_type": "stream",
     "text": [
      "epoch: 2, pass acc: 0.624076, current acc: 0.632978\n",
      "time taken: 109.93450498580933\n",
      "epoch: 2, training loss: 0.650890, training acc: 0.627057, valid loss: 0.647528, valid acc: 0.632978\n",
      "\n"
     ]
    },
    {
     "name": "stderr",
     "output_type": "stream",
     "text": [
      "train minibatch loop: 100%|██████████| 16751/16751 [01:29<00:00, 186.59it/s, accuracy=0.667, cost=0.605]\n",
      "test minibatch loop: 100%|██████████| 4188/4188 [00:20<00:00, 208.66it/s, accuracy=0.647, cost=0.713]\n",
      "train minibatch loop:   0%|          | 19/16751 [00:00<01:28, 188.63it/s, accuracy=0.625, cost=0.601]"
     ]
    },
    {
     "name": "stdout",
     "output_type": "stream",
     "text": [
      "epoch: 3, pass acc: 0.632978, current acc: 0.638202\n",
      "time taken: 109.84741282463074\n",
      "epoch: 3, training loss: 0.644791, training acc: 0.634047, valid loss: 0.642354, valid acc: 0.638202\n",
      "\n"
     ]
    },
    {
     "name": "stderr",
     "output_type": "stream",
     "text": [
      "train minibatch loop: 100%|██████████| 16751/16751 [01:29<00:00, 187.92it/s, accuracy=0.667, cost=0.603]\n",
      "test minibatch loop: 100%|██████████| 4188/4188 [00:20<00:00, 208.36it/s, accuracy=0.647, cost=0.715]\n",
      "train minibatch loop:   0%|          | 19/16751 [00:00<01:28, 189.00it/s, accuracy=0.625, cost=0.593]"
     ]
    },
    {
     "name": "stdout",
     "output_type": "stream",
     "text": [
      "epoch: 4, pass acc: 0.638202, current acc: 0.642015\n",
      "time taken: 109.24157357215881\n",
      "epoch: 4, training loss: 0.640234, training acc: 0.638803, valid loss: 0.638368, valid acc: 0.642015\n",
      "\n"
     ]
    },
    {
     "name": "stderr",
     "output_type": "stream",
     "text": [
      "train minibatch loop: 100%|██████████| 16751/16751 [01:29<00:00, 187.83it/s, accuracy=0.667, cost=0.602]\n",
      "test minibatch loop: 100%|██████████| 4188/4188 [00:20<00:00, 208.23it/s, accuracy=0.647, cost=0.716]\n",
      "train minibatch loop:   0%|          | 20/16751 [00:00<01:28, 190.04it/s, accuracy=0.625, cost=0.587]"
     ]
    },
    {
     "name": "stdout",
     "output_type": "stream",
     "text": [
      "epoch: 5, pass acc: 0.642015, current acc: 0.645000\n",
      "time taken: 109.2938768863678\n",
      "epoch: 5, training loss: 0.636639, training acc: 0.642463, valid loss: 0.635162, valid acc: 0.645000\n",
      "\n"
     ]
    },
    {
     "name": "stderr",
     "output_type": "stream",
     "text": [
      "train minibatch loop: 100%|██████████| 16751/16751 [01:28<00:00, 188.34it/s, accuracy=0.333, cost=0.601]\n",
      "test minibatch loop: 100%|██████████| 4188/4188 [00:20<00:00, 208.57it/s, accuracy=0.588, cost=0.718]\n",
      "train minibatch loop:   0%|          | 19/16751 [00:00<01:28, 189.67it/s, accuracy=0.594, cost=0.582]"
     ]
    },
    {
     "name": "stdout",
     "output_type": "stream",
     "text": [
      "epoch: 6, pass acc: 0.645000, current acc: 0.647427\n",
      "time taken: 109.02886891365051\n",
      "epoch: 6, training loss: 0.633693, training acc: 0.645279, valid loss: 0.632499, valid acc: 0.647427\n",
      "\n"
     ]
    },
    {
     "name": "stderr",
     "output_type": "stream",
     "text": [
      "train minibatch loop: 100%|██████████| 16751/16751 [01:28<00:00, 188.64it/s, accuracy=0.333, cost=0.601]\n",
      "test minibatch loop: 100%|██████████| 4188/4188 [00:19<00:00, 209.84it/s, accuracy=0.588, cost=0.719]\n",
      "train minibatch loop:   0%|          | 20/16751 [00:00<01:27, 191.98it/s, accuracy=0.625, cost=0.579]"
     ]
    },
    {
     "name": "stdout",
     "output_type": "stream",
     "text": [
      "epoch: 7, pass acc: 0.647427, current acc: 0.649994\n",
      "time taken: 108.7573893070221\n",
      "epoch: 7, training loss: 0.631212, training acc: 0.647731, valid loss: 0.630230, valid acc: 0.649994\n",
      "\n"
     ]
    },
    {
     "name": "stderr",
     "output_type": "stream",
     "text": [
      "train minibatch loop: 100%|██████████| 16751/16751 [01:29<00:00, 186.92it/s, accuracy=0.333, cost=0.601]\n",
      "test minibatch loop: 100%|██████████| 4188/4188 [00:19<00:00, 209.91it/s, accuracy=0.588, cost=0.721]\n",
      "train minibatch loop:   0%|          | 20/16751 [00:00<01:27, 191.55it/s, accuracy=0.625, cost=0.576]"
     ]
    },
    {
     "name": "stdout",
     "output_type": "stream",
     "text": [
      "epoch: 8, pass acc: 0.649994, current acc: 0.651800\n",
      "time taken: 109.57051610946655\n",
      "epoch: 8, training loss: 0.629072, training acc: 0.649753, valid loss: 0.628256, valid acc: 0.651800\n",
      "\n"
     ]
    },
    {
     "name": "stderr",
     "output_type": "stream",
     "text": [
      "train minibatch loop: 100%|██████████| 16751/16751 [01:31<00:00, 183.61it/s, accuracy=0.333, cost=0.6]  \n",
      "test minibatch loop: 100%|██████████| 4188/4188 [00:20<00:00, 203.15it/s, accuracy=0.588, cost=0.722]\n",
      "train minibatch loop:   0%|          | 19/16751 [00:00<01:30, 184.92it/s, accuracy=0.625, cost=0.586]"
     ]
    },
    {
     "name": "stdout",
     "output_type": "stream",
     "text": [
      "epoch: 9, pass acc: 0.651800, current acc: 0.653576\n",
      "time taken: 111.84981298446655\n",
      "epoch: 9, training loss: 0.627191, training acc: 0.651582, valid loss: 0.626508, valid acc: 0.653576\n",
      "\n"
     ]
    },
    {
     "name": "stderr",
     "output_type": "stream",
     "text": [
      "train minibatch loop: 100%|██████████| 16751/16751 [01:29<00:00, 187.91it/s, accuracy=0.333, cost=0.6]  \n",
      "test minibatch loop: 100%|██████████| 4188/4188 [00:19<00:00, 210.46it/s, accuracy=0.588, cost=0.724]\n",
      "train minibatch loop:   0%|          | 20/16751 [00:00<01:27, 192.21it/s, accuracy=0.625, cost=0.571]"
     ]
    },
    {
     "name": "stdout",
     "output_type": "stream",
     "text": [
      "epoch: 10, pass acc: 0.653576, current acc: 0.654688\n",
      "time taken: 109.04651880264282\n",
      "epoch: 10, training loss: 0.625513, training acc: 0.653031, valid loss: 0.624939, valid acc: 0.654688\n",
      "\n"
     ]
    },
    {
     "name": "stderr",
     "output_type": "stream",
     "text": [
      "train minibatch loop: 100%|██████████| 16751/16751 [01:28<00:00, 189.52it/s, accuracy=0.667, cost=0.6]  \n",
      "test minibatch loop: 100%|██████████| 4188/4188 [00:19<00:00, 210.62it/s, accuracy=0.588, cost=0.725]\n",
      "train minibatch loop:   0%|          | 20/16751 [00:00<01:26, 192.90it/s, accuracy=0.656, cost=0.569]"
     ]
    },
    {
     "name": "stdout",
     "output_type": "stream",
     "text": [
      "epoch: 11, pass acc: 0.654688, current acc: 0.655859\n",
      "time taken: 108.27160167694092\n",
      "epoch: 11, training loss: 0.623995, training acc: 0.654217, valid loss: 0.623512, valid acc: 0.655859\n",
      "\n"
     ]
    },
    {
     "name": "stderr",
     "output_type": "stream",
     "text": [
      "train minibatch loop: 100%|██████████| 16751/16751 [01:28<00:00, 189.91it/s, accuracy=0.667, cost=0.6]  \n",
      "test minibatch loop: 100%|██████████| 4188/4188 [00:19<00:00, 210.56it/s, accuracy=0.588, cost=0.726]\n",
      "train minibatch loop:   0%|          | 20/16751 [00:00<01:27, 191.06it/s, accuracy=0.656, cost=0.568]"
     ]
    },
    {
     "name": "stdout",
     "output_type": "stream",
     "text": [
      "epoch: 12, pass acc: 0.655859, current acc: 0.657106\n",
      "time taken: 108.09513711929321\n",
      "epoch: 12, training loss: 0.622607, training acc: 0.655510, valid loss: 0.622201, valid acc: 0.657106\n",
      "\n"
     ]
    },
    {
     "name": "stderr",
     "output_type": "stream",
     "text": [
      "train minibatch loop: 100%|██████████| 16751/16751 [01:28<00:00, 189.57it/s, accuracy=0.667, cost=0.6]  \n",
      "test minibatch loop: 100%|██████████| 4188/4188 [00:20<00:00, 201.98it/s, accuracy=0.588, cost=0.727]\n",
      "train minibatch loop:   0%|          | 20/16751 [00:00<01:27, 191.01it/s, accuracy=0.656, cost=0.567]"
     ]
    },
    {
     "name": "stdout",
     "output_type": "stream",
     "text": [
      "epoch: 13, pass acc: 0.657106, current acc: 0.658203\n",
      "time taken: 109.09941792488098\n",
      "epoch: 13, training loss: 0.621324, training acc: 0.656857, valid loss: 0.620985, valid acc: 0.658203\n",
      "\n"
     ]
    },
    {
     "name": "stderr",
     "output_type": "stream",
     "text": [
      "train minibatch loop: 100%|██████████| 16751/16751 [01:28<00:00, 189.19it/s, accuracy=0.667, cost=0.599]\n",
      "test minibatch loop: 100%|██████████| 4188/4188 [00:20<00:00, 203.10it/s, accuracy=0.588, cost=0.729]\n",
      "train minibatch loop:   0%|          | 19/16751 [00:00<01:31, 182.73it/s, accuracy=0.656, cost=0.578]"
     ]
    },
    {
     "name": "stdout",
     "output_type": "stream",
     "text": [
      "epoch: 14, pass acc: 0.658203, current acc: 0.659889\n",
      "time taken: 109.16181421279907\n",
      "epoch: 14, training loss: 0.620130, training acc: 0.658370, valid loss: 0.619849, valid acc: 0.659889\n",
      "\n"
     ]
    },
    {
     "name": "stderr",
     "output_type": "stream",
     "text": [
      "train minibatch loop: 100%|██████████| 16751/16751 [01:31<00:00, 182.71it/s, accuracy=0.667, cost=0.599]\n",
      "test minibatch loop: 100%|██████████| 4188/4188 [00:19<00:00, 210.03it/s, accuracy=0.588, cost=0.729]\n",
      "train minibatch loop:   0%|          | 19/16751 [00:00<01:32, 181.53it/s, accuracy=0.594, cost=0.645]"
     ]
    },
    {
     "name": "stdout",
     "output_type": "stream",
     "text": [
      "epoch: 15, pass acc: 0.659889, current acc: 0.660904\n",
      "time taken: 111.62359046936035\n",
      "epoch: 15, training loss: 0.619010, training acc: 0.659698, valid loss: 0.618780, valid acc: 0.660904\n",
      "\n"
     ]
    },
    {
     "name": "stderr",
     "output_type": "stream",
     "text": [
      "train minibatch loop: 100%|██████████| 16751/16751 [01:28<00:00, 190.00it/s, accuracy=0.667, cost=0.599]\n",
      "test minibatch loop: 100%|██████████| 4188/4188 [00:19<00:00, 209.84it/s, accuracy=0.588, cost=0.73] \n",
      "train minibatch loop:   0%|          | 20/16751 [00:00<01:27, 191.10it/s, accuracy=0.688, cost=0.565]"
     ]
    },
    {
     "name": "stdout",
     "output_type": "stream",
     "text": [
      "epoch: 16, pass acc: 0.660904, current acc: 0.661971\n",
      "time taken: 108.1222014427185\n",
      "epoch: 16, training loss: 0.617953, training acc: 0.660767, valid loss: 0.617769, valid acc: 0.661971\n",
      "\n"
     ]
    },
    {
     "name": "stderr",
     "output_type": "stream",
     "text": [
      "train minibatch loop: 100%|██████████| 16751/16751 [01:28<00:00, 189.87it/s, accuracy=0.667, cost=0.598]\n",
      "test minibatch loop: 100%|██████████| 4188/4188 [00:19<00:00, 210.49it/s, accuracy=0.588, cost=0.731]\n",
      "train minibatch loop:   0%|          | 20/16751 [00:00<01:27, 192.10it/s, accuracy=0.719, cost=0.564]"
     ]
    },
    {
     "name": "stdout",
     "output_type": "stream",
     "text": [
      "epoch: 17, pass acc: 0.661971, current acc: 0.662859\n",
      "time taken: 108.12147760391235\n",
      "epoch: 17, training loss: 0.616951, training acc: 0.661807, valid loss: 0.616808, valid acc: 0.662859\n",
      "\n"
     ]
    },
    {
     "name": "stderr",
     "output_type": "stream",
     "text": [
      "train minibatch loop: 100%|██████████| 16751/16751 [01:28<00:00, 189.86it/s, accuracy=0.667, cost=0.598]\n",
      "test minibatch loop: 100%|██████████| 4188/4188 [00:19<00:00, 210.53it/s, accuracy=0.588, cost=0.732]\n",
      "train minibatch loop:   0%|          | 19/16751 [00:00<01:29, 186.62it/s, accuracy=0.719, cost=0.564]"
     ]
    },
    {
     "name": "stdout",
     "output_type": "stream",
     "text": [
      "epoch: 18, pass acc: 0.662859, current acc: 0.663807\n",
      "time taken: 108.12456226348877\n",
      "epoch: 18, training loss: 0.615995, training acc: 0.662706, valid loss: 0.615890, valid acc: 0.663807\n",
      "\n"
     ]
    },
    {
     "name": "stderr",
     "output_type": "stream",
     "text": [
      "train minibatch loop: 100%|██████████| 16751/16751 [01:30<00:00, 186.11it/s, accuracy=0.667, cost=0.597]\n",
      "test minibatch loop: 100%|██████████| 4188/4188 [00:20<00:00, 202.90it/s, accuracy=0.588, cost=0.732]\n",
      "train minibatch loop:   0%|          | 19/16751 [00:00<01:29, 186.44it/s, accuracy=0.656, cost=0.574]"
     ]
    },
    {
     "name": "stdout",
     "output_type": "stream",
     "text": [
      "epoch: 19, pass acc: 0.663807, current acc: 0.664755\n",
      "time taken: 110.64721846580505\n",
      "epoch: 19, training loss: 0.615081, training acc: 0.663570, valid loss: 0.615010, valid acc: 0.664755\n",
      "\n"
     ]
    },
    {
     "name": "stderr",
     "output_type": "stream",
     "text": [
      "train minibatch loop: 100%|██████████| 16751/16751 [01:31<00:00, 183.10it/s, accuracy=0.667, cost=0.596]\n",
      "test minibatch loop: 100%|██████████| 4188/4188 [00:20<00:00, 208.36it/s, accuracy=0.588, cost=0.733]\n",
      "train minibatch loop:   0%|          | 20/16751 [00:00<01:27, 191.02it/s, accuracy=0.719, cost=0.563]"
     ]
    },
    {
     "name": "stdout",
     "output_type": "stream",
     "text": [
      "epoch: 20, pass acc: 0.664755, current acc: 0.665553\n",
      "time taken: 111.58767294883728\n",
      "epoch: 20, training loss: 0.614204, training acc: 0.664389, valid loss: 0.614164, valid acc: 0.665553\n",
      "\n"
     ]
    },
    {
     "name": "stderr",
     "output_type": "stream",
     "text": [
      "train minibatch loop: 100%|██████████| 16751/16751 [01:30<00:00, 184.77it/s, accuracy=0.667, cost=0.596]\n",
      "test minibatch loop: 100%|██████████| 4188/4188 [00:19<00:00, 211.04it/s, accuracy=0.588, cost=0.733]\n",
      "train minibatch loop:   0%|          | 20/16751 [00:00<01:26, 193.23it/s, accuracy=0.719, cost=0.563]"
     ]
    },
    {
     "name": "stdout",
     "output_type": "stream",
     "text": [
      "epoch: 21, pass acc: 0.665553, current acc: 0.666225\n",
      "time taken: 110.51120924949646\n",
      "epoch: 21, training loss: 0.613358, training acc: 0.665197, valid loss: 0.613348, valid acc: 0.666225\n",
      "\n"
     ]
    },
    {
     "name": "stderr",
     "output_type": "stream",
     "text": [
      "train minibatch loop: 100%|██████████| 16751/16751 [01:27<00:00, 190.65it/s, accuracy=0.667, cost=0.595]\n",
      "test minibatch loop: 100%|██████████| 4188/4188 [00:19<00:00, 210.66it/s, accuracy=0.588, cost=0.734]\n",
      "train minibatch loop:   0%|          | 20/16751 [00:00<01:26, 192.44it/s, accuracy=0.719, cost=0.563]"
     ]
    },
    {
     "name": "stdout",
     "output_type": "stream",
     "text": [
      "epoch: 22, pass acc: 0.666225, current acc: 0.666650\n",
      "time taken: 107.7443745136261\n",
      "epoch: 22, training loss: 0.612542, training acc: 0.665963, valid loss: 0.612559, valid acc: 0.666650\n",
      "\n"
     ]
    },
    {
     "name": "stderr",
     "output_type": "stream",
     "text": [
      "train minibatch loop: 100%|██████████| 16751/16751 [01:27<00:00, 190.38it/s, accuracy=0.667, cost=0.594]\n",
      "test minibatch loop: 100%|██████████| 4188/4188 [00:19<00:00, 211.39it/s, accuracy=0.588, cost=0.734]\n",
      "train minibatch loop:   0%|          | 20/16751 [00:00<01:27, 190.53it/s, accuracy=0.719, cost=0.563]"
     ]
    },
    {
     "name": "stdout",
     "output_type": "stream",
     "text": [
      "epoch: 23, pass acc: 0.666650, current acc: 0.667128\n",
      "time taken: 107.79966044425964\n",
      "epoch: 23, training loss: 0.611752, training acc: 0.666627, valid loss: 0.611794, valid acc: 0.667128\n",
      "\n"
     ]
    },
    {
     "name": "stderr",
     "output_type": "stream",
     "text": [
      "train minibatch loop: 100%|██████████| 16751/16751 [01:30<00:00, 184.68it/s, accuracy=0.667, cost=0.594]\n",
      "test minibatch loop: 100%|██████████| 4188/4188 [00:19<00:00, 211.25it/s, accuracy=0.588, cost=0.735]\n",
      "train minibatch loop:   0%|          | 20/16751 [00:00<01:27, 191.76it/s, accuracy=0.719, cost=0.563]"
     ]
    },
    {
     "name": "stdout",
     "output_type": "stream",
     "text": [
      "epoch: 24, pass acc: 0.667128, current acc: 0.667897\n",
      "time taken: 110.52696061134338\n",
      "epoch: 24, training loss: 0.610985, training acc: 0.667355, valid loss: 0.611051, valid acc: 0.667897\n",
      "\n"
     ]
    },
    {
     "name": "stderr",
     "output_type": "stream",
     "text": [
      "train minibatch loop: 100%|██████████| 16751/16751 [01:28<00:00, 189.63it/s, accuracy=0.667, cost=0.593]\n",
      "test minibatch loop: 100%|██████████| 4188/4188 [00:19<00:00, 211.28it/s, accuracy=0.588, cost=0.735]\n",
      "train minibatch loop:   0%|          | 19/16751 [00:00<01:28, 188.99it/s, accuracy=0.719, cost=0.562]"
     ]
    },
    {
     "name": "stdout",
     "output_type": "stream",
     "text": [
      "epoch: 25, pass acc: 0.667897, current acc: 0.668546\n",
      "time taken: 108.1580023765564\n",
      "epoch: 25, training loss: 0.610240, training acc: 0.668152, valid loss: 0.610328, valid acc: 0.668546\n",
      "\n"
     ]
    },
    {
     "name": "stderr",
     "output_type": "stream",
     "text": [
      "train minibatch loop: 100%|██████████| 16751/16751 [01:33<00:00, 179.84it/s, accuracy=0.667, cost=0.592]\n",
      "test minibatch loop: 100%|██████████| 4188/4188 [00:20<00:00, 200.10it/s, accuracy=0.588, cost=0.735]\n",
      "train minibatch loop:   0%|          | 18/16751 [00:00<01:34, 177.85it/s, accuracy=0.594, cost=0.638]"
     ]
    },
    {
     "name": "stdout",
     "output_type": "stream",
     "text": [
      "epoch: 26, pass acc: 0.668546, current acc: 0.669180\n",
      "time taken: 114.07756853103638\n",
      "epoch: 26, training loss: 0.609514, training acc: 0.668844, valid loss: 0.609624, valid acc: 0.669180\n",
      "\n"
     ]
    },
    {
     "name": "stderr",
     "output_type": "stream",
     "text": [
      "train minibatch loop: 100%|██████████| 16751/16751 [01:34<00:00, 177.46it/s, accuracy=0.667, cost=0.591]\n",
      "test minibatch loop: 100%|██████████| 4188/4188 [00:21<00:00, 192.69it/s, accuracy=0.588, cost=0.736]\n",
      "train minibatch loop:   0%|          | 17/16751 [00:00<01:39, 167.97it/s, accuracy=0.812, cost=0.508]"
     ]
    },
    {
     "name": "stdout",
     "output_type": "stream",
     "text": [
      "epoch: 27, pass acc: 0.669180, current acc: 0.669732\n",
      "time taken: 116.12809944152832\n",
      "epoch: 27, training loss: 0.608807, training acc: 0.669648, valid loss: 0.608936, valid acc: 0.669732\n",
      "\n"
     ]
    },
    {
     "name": "stderr",
     "output_type": "stream",
     "text": [
      "train minibatch loop: 100%|██████████| 16751/16751 [01:34<00:00, 177.82it/s, accuracy=0.667, cost=0.59] \n",
      "test minibatch loop: 100%|██████████| 4188/4188 [00:21<00:00, 192.91it/s, accuracy=0.588, cost=0.736]\n",
      "train minibatch loop:   0%|          | 18/16751 [00:00<01:35, 175.13it/s, accuracy=0.594, cost=0.637]"
     ]
    },
    {
     "name": "stdout",
     "output_type": "stream",
     "text": [
      "epoch: 28, pass acc: 0.669732, current acc: 0.670441\n",
      "time taken: 115.91281247138977\n",
      "epoch: 28, training loss: 0.608116, training acc: 0.670277, valid loss: 0.608265, valid acc: 0.670441\n",
      "\n"
     ]
    },
    {
     "name": "stderr",
     "output_type": "stream",
     "text": [
      "train minibatch loop: 100%|██████████| 16751/16751 [01:30<00:00, 184.84it/s, accuracy=0.667, cost=0.589]\n",
      "test minibatch loop: 100%|██████████| 4188/4188 [00:19<00:00, 210.26it/s, accuracy=0.588, cost=0.736]\n",
      "train minibatch loop:   0%|          | 20/16751 [00:00<01:26, 192.37it/s, accuracy=0.719, cost=0.563]"
     ]
    },
    {
     "name": "stdout",
     "output_type": "stream",
     "text": [
      "epoch: 29, pass acc: 0.670441, current acc: 0.670919\n",
      "time taken: 110.54308009147644\n",
      "epoch: 29, training loss: 0.607441, training acc: 0.670885, valid loss: 0.607608, valid acc: 0.670919\n",
      "\n"
     ]
    },
    {
     "name": "stderr",
     "output_type": "stream",
     "text": [
      "train minibatch loop: 100%|██████████| 16751/16751 [01:28<00:00, 190.19it/s, accuracy=0.667, cost=0.588]\n",
      "test minibatch loop: 100%|██████████| 4188/4188 [00:19<00:00, 210.34it/s, accuracy=0.588, cost=0.736]\n",
      "train minibatch loop:   0%|          | 20/16751 [00:00<01:27, 192.19it/s, accuracy=0.719, cost=0.563]"
     ]
    },
    {
     "name": "stdout",
     "output_type": "stream",
     "text": [
      "epoch: 30, pass acc: 0.670919, current acc: 0.671419\n",
      "time taken: 107.98747634887695\n",
      "epoch: 30, training loss: 0.606781, training acc: 0.671702, valid loss: 0.606965, valid acc: 0.671419\n",
      "\n"
     ]
    },
    {
     "name": "stderr",
     "output_type": "stream",
     "text": [
      "train minibatch loop: 100%|██████████| 16751/16751 [01:28<00:00, 190.22it/s, accuracy=0.667, cost=0.587]\n",
      "test minibatch loop: 100%|██████████| 4188/4188 [00:19<00:00, 210.96it/s, accuracy=0.588, cost=0.736]\n",
      "train minibatch loop:   0%|          | 20/16751 [00:00<01:27, 190.55it/s, accuracy=0.594, cost=0.634]"
     ]
    },
    {
     "name": "stdout",
     "output_type": "stream",
     "text": [
      "epoch: 31, pass acc: 0.671419, current acc: 0.672024\n",
      "time taken: 107.91307282447815\n",
      "epoch: 31, training loss: 0.606134, training acc: 0.672445, valid loss: 0.606335, valid acc: 0.672024\n",
      "\n"
     ]
    },
    {
     "name": "stderr",
     "output_type": "stream",
     "text": [
      "train minibatch loop: 100%|██████████| 16751/16751 [01:28<00:00, 190.22it/s, accuracy=0.667, cost=0.586]\n",
      "test minibatch loop: 100%|██████████| 4188/4188 [00:19<00:00, 210.79it/s, accuracy=0.647, cost=0.736]\n",
      "train minibatch loop:   0%|          | 20/16751 [00:00<01:27, 191.90it/s, accuracy=0.719, cost=0.563]"
     ]
    },
    {
     "name": "stdout",
     "output_type": "stream",
     "text": [
      "epoch: 32, pass acc: 0.672024, current acc: 0.672552\n",
      "time taken: 107.92883849143982\n",
      "epoch: 32, training loss: 0.605499, training acc: 0.673267, valid loss: 0.605717, valid acc: 0.672552\n",
      "\n"
     ]
    },
    {
     "name": "stderr",
     "output_type": "stream",
     "text": [
      "train minibatch loop: 100%|██████████| 16751/16751 [01:28<00:00, 190.29it/s, accuracy=0.667, cost=0.585]\n",
      "test minibatch loop: 100%|██████████| 4188/4188 [00:19<00:00, 210.76it/s, accuracy=0.647, cost=0.736]\n",
      "train minibatch loop:   0%|          | 20/16751 [00:00<01:26, 192.68it/s, accuracy=0.719, cost=0.563]"
     ]
    },
    {
     "name": "stdout",
     "output_type": "stream",
     "text": [
      "epoch: 33, pass acc: 0.672552, current acc: 0.672985\n",
      "time taken: 107.90358185768127\n",
      "epoch: 33, training loss: 0.604877, training acc: 0.673913, valid loss: 0.605110, valid acc: 0.672985\n",
      "\n"
     ]
    },
    {
     "name": "stderr",
     "output_type": "stream",
     "text": [
      "train minibatch loop: 100%|██████████| 16751/16751 [01:28<00:00, 190.19it/s, accuracy=0.667, cost=0.584]\n",
      "test minibatch loop: 100%|██████████| 4188/4188 [00:19<00:00, 210.05it/s, accuracy=0.647, cost=0.737]\n",
      "train minibatch loop:   0%|          | 20/16751 [00:00<01:26, 194.10it/s, accuracy=0.594, cost=0.631]"
     ]
    },
    {
     "name": "stdout",
     "output_type": "stream",
     "text": [
      "epoch: 34, pass acc: 0.672985, current acc: 0.673523\n",
      "time taken: 108.01332092285156\n",
      "epoch: 34, training loss: 0.604266, training acc: 0.674558, valid loss: 0.604514, valid acc: 0.673523\n",
      "\n"
     ]
    },
    {
     "name": "stderr",
     "output_type": "stream",
     "text": [
      "train minibatch loop: 100%|██████████| 16751/16751 [01:28<00:00, 190.29it/s, accuracy=0.667, cost=0.583]\n",
      "test minibatch loop: 100%|██████████| 4188/4188 [00:19<00:00, 210.74it/s, accuracy=0.647, cost=0.737]\n",
      "train minibatch loop:   0%|          | 20/16751 [00:00<01:27, 190.74it/s, accuracy=0.688, cost=0.563]"
     ]
    },
    {
     "name": "stdout",
     "output_type": "stream",
     "text": [
      "epoch: 35, pass acc: 0.673523, current acc: 0.674142\n",
      "time taken: 107.90229320526123\n",
      "epoch: 35, training loss: 0.603666, training acc: 0.675161, valid loss: 0.603929, valid acc: 0.674142\n",
      "\n"
     ]
    },
    {
     "name": "stderr",
     "output_type": "stream",
     "text": [
      "train minibatch loop: 100%|██████████| 16751/16751 [01:27<00:00, 190.50it/s, accuracy=0.667, cost=0.582]\n",
      "test minibatch loop: 100%|██████████| 4188/4188 [00:19<00:00, 210.96it/s, accuracy=0.647, cost=0.737]\n",
      "train minibatch loop:   0%|          | 20/16751 [00:00<01:27, 191.50it/s, accuracy=0.688, cost=0.563]"
     ]
    },
    {
     "name": "stdout",
     "output_type": "stream",
     "text": [
      "epoch: 36, pass acc: 0.674142, current acc: 0.674500\n",
      "time taken: 107.78788876533508\n",
      "epoch: 36, training loss: 0.603076, training acc: 0.675812, valid loss: 0.603353, valid acc: 0.674500\n",
      "\n"
     ]
    },
    {
     "name": "stderr",
     "output_type": "stream",
     "text": [
      "train minibatch loop: 100%|██████████| 16751/16751 [01:27<00:00, 190.59it/s, accuracy=0.667, cost=0.581]\n",
      "test minibatch loop: 100%|██████████| 4188/4188 [00:19<00:00, 211.28it/s, accuracy=0.647, cost=0.737]\n",
      "train minibatch loop:   0%|          | 20/16751 [00:00<01:27, 191.86it/s, accuracy=0.688, cost=0.563]"
     ]
    },
    {
     "name": "stdout",
     "output_type": "stream",
     "text": [
      "epoch: 37, pass acc: 0.674500, current acc: 0.675232\n",
      "time taken: 107.71517157554626\n",
      "epoch: 37, training loss: 0.602496, training acc: 0.676409, valid loss: 0.602786, valid acc: 0.675232\n",
      "\n"
     ]
    },
    {
     "name": "stderr",
     "output_type": "stream",
     "text": [
      "train minibatch loop: 100%|██████████| 16751/16751 [01:27<00:00, 190.54it/s, accuracy=0.667, cost=0.58] \n",
      "test minibatch loop: 100%|██████████| 4188/4188 [00:19<00:00, 210.62it/s, accuracy=0.647, cost=0.737]\n",
      "train minibatch loop:   0%|          | 20/16751 [00:00<01:27, 191.39it/s, accuracy=0.688, cost=0.564]"
     ]
    },
    {
     "name": "stdout",
     "output_type": "stream",
     "text": [
      "epoch: 38, pass acc: 0.675232, current acc: 0.675799\n",
      "time taken: 107.79743504524231\n",
      "epoch: 38, training loss: 0.601925, training acc: 0.677019, valid loss: 0.602229, valid acc: 0.675799\n",
      "\n"
     ]
    },
    {
     "name": "stderr",
     "output_type": "stream",
     "text": [
      "train minibatch loop: 100%|██████████| 16751/16751 [01:27<00:00, 190.60it/s, accuracy=0.667, cost=0.579]\n",
      "test minibatch loop: 100%|██████████| 4188/4188 [00:19<00:00, 209.85it/s, accuracy=0.647, cost=0.737]\n",
      "train minibatch loop:   0%|          | 20/16751 [00:00<01:26, 192.90it/s, accuracy=0.688, cost=0.564]"
     ]
    },
    {
     "name": "stdout",
     "output_type": "stream",
     "text": [
      "epoch: 39, pass acc: 0.675799, current acc: 0.676351\n",
      "time taken: 107.76272058486938\n",
      "epoch: 39, training loss: 0.601363, training acc: 0.677542, valid loss: 0.601680, valid acc: 0.676351\n",
      "\n"
     ]
    },
    {
     "name": "stderr",
     "output_type": "stream",
     "text": [
      "train minibatch loop: 100%|██████████| 16751/16751 [01:27<00:00, 190.63it/s, accuracy=0.667, cost=0.578]\n",
      "test minibatch loop: 100%|██████████| 4188/4188 [00:19<00:00, 210.90it/s, accuracy=0.647, cost=0.737]\n",
      "train minibatch loop:   0%|          | 20/16751 [00:00<01:27, 192.01it/s, accuracy=0.688, cost=0.564]"
     ]
    },
    {
     "name": "stdout",
     "output_type": "stream",
     "text": [
      "epoch: 40, pass acc: 0.676351, current acc: 0.676836\n",
      "time taken: 107.73185563087463\n",
      "epoch: 40, training loss: 0.600809, training acc: 0.678105, valid loss: 0.601139, valid acc: 0.676836\n",
      "\n"
     ]
    },
    {
     "name": "stderr",
     "output_type": "stream",
     "text": [
      "train minibatch loop: 100%|██████████| 16751/16751 [01:27<00:00, 190.58it/s, accuracy=0.667, cost=0.577]\n",
      "test minibatch loop: 100%|██████████| 4188/4188 [00:19<00:00, 211.07it/s, accuracy=0.647, cost=0.736]\n",
      "train minibatch loop:   0%|          | 20/16751 [00:00<01:27, 192.04it/s, accuracy=0.688, cost=0.564]"
     ]
    },
    {
     "name": "stdout",
     "output_type": "stream",
     "text": [
      "epoch: 41, pass acc: 0.676836, current acc: 0.677299\n",
      "time taken: 107.736398935318\n",
      "epoch: 41, training loss: 0.600264, training acc: 0.678751, valid loss: 0.600606, valid acc: 0.677299\n",
      "\n"
     ]
    },
    {
     "name": "stderr",
     "output_type": "stream",
     "text": [
      "train minibatch loop: 100%|██████████| 16751/16751 [01:27<00:00, 192.76it/s, accuracy=0.667, cost=0.576]\n",
      "test minibatch loop: 100%|██████████| 4188/4188 [00:19<00:00, 211.22it/s, accuracy=0.647, cost=0.736]\n",
      "train minibatch loop:   0%|          | 20/16751 [00:00<01:27, 191.09it/s, accuracy=0.688, cost=0.564]"
     ]
    },
    {
     "name": "stdout",
     "output_type": "stream",
     "text": [
      "epoch: 42, pass acc: 0.677299, current acc: 0.677761\n",
      "time taken: 107.79096746444702\n",
      "epoch: 42, training loss: 0.599726, training acc: 0.679275, valid loss: 0.600080, valid acc: 0.677761\n",
      "\n"
     ]
    },
    {
     "name": "stderr",
     "output_type": "stream",
     "text": [
      "train minibatch loop: 100%|██████████| 16751/16751 [01:27<00:00, 190.57it/s, accuracy=0.667, cost=0.575]\n",
      "test minibatch loop: 100%|██████████| 4188/4188 [00:19<00:00, 211.17it/s, accuracy=0.647, cost=0.736]\n",
      "train minibatch loop:   0%|          | 20/16751 [00:00<01:27, 191.89it/s, accuracy=0.656, cost=0.564]"
     ]
    },
    {
     "name": "stdout",
     "output_type": "stream",
     "text": [
      "epoch: 43, pass acc: 0.677761, current acc: 0.678224\n",
      "time taken: 107.73334813117981\n",
      "epoch: 43, training loss: 0.599196, training acc: 0.679779, valid loss: 0.599562, valid acc: 0.678224\n",
      "\n"
     ]
    },
    {
     "name": "stderr",
     "output_type": "stream",
     "text": [
      "train minibatch loop: 100%|██████████| 16751/16751 [01:27<00:00, 190.64it/s, accuracy=0.667, cost=0.574]\n",
      "test minibatch loop: 100%|██████████| 4188/4188 [00:19<00:00, 210.82it/s, accuracy=0.647, cost=0.736]\n",
      "train minibatch loop:   0%|          | 20/16751 [00:00<01:26, 192.89it/s, accuracy=0.594, cost=0.623]"
     ]
    },
    {
     "name": "stdout",
     "output_type": "stream",
     "text": [
      "epoch: 44, pass acc: 0.678224, current acc: 0.678851\n",
      "time taken: 107.73616361618042\n",
      "epoch: 44, training loss: 0.598674, training acc: 0.680265, valid loss: 0.599051, valid acc: 0.678851\n",
      "\n"
     ]
    },
    {
     "name": "stderr",
     "output_type": "stream",
     "text": [
      "train minibatch loop: 100%|██████████| 16751/16751 [01:27<00:00, 190.55it/s, accuracy=0.667, cost=0.573]\n",
      "test minibatch loop: 100%|██████████| 4188/4188 [00:19<00:00, 211.55it/s, accuracy=0.647, cost=0.736]\n",
      "train minibatch loop:   0%|          | 20/16751 [00:00<01:27, 190.59it/s, accuracy=0.656, cost=0.565]"
     ]
    },
    {
     "name": "stdout",
     "output_type": "stream",
     "text": [
      "epoch: 45, pass acc: 0.678851, current acc: 0.679403\n",
      "time taken: 107.70548701286316\n",
      "epoch: 45, training loss: 0.598158, training acc: 0.680715, valid loss: 0.598546, valid acc: 0.679403\n",
      "\n"
     ]
    },
    {
     "name": "stderr",
     "output_type": "stream",
     "text": [
      "train minibatch loop: 100%|██████████| 16751/16751 [01:27<00:00, 190.48it/s, accuracy=0.667, cost=0.572]\n",
      "test minibatch loop: 100%|██████████| 4188/4188 [00:19<00:00, 210.80it/s, accuracy=0.647, cost=0.736]\n",
      "train minibatch loop:   0%|          | 20/16751 [00:00<01:25, 195.81it/s, accuracy=0.594, cost=0.621]"
     ]
    },
    {
     "name": "stdout",
     "output_type": "stream",
     "text": [
      "epoch: 46, pass acc: 0.679403, current acc: 0.679799\n",
      "time taken: 107.72872591018677\n",
      "epoch: 46, training loss: 0.597649, training acc: 0.681176, valid loss: 0.598048, valid acc: 0.679799\n",
      "\n"
     ]
    },
    {
     "name": "stderr",
     "output_type": "stream",
     "text": [
      "train minibatch loop: 100%|██████████| 16751/16751 [01:27<00:00, 190.89it/s, accuracy=0.667, cost=0.571]\n",
      "test minibatch loop: 100%|██████████| 4188/4188 [00:19<00:00, 211.65it/s, accuracy=0.647, cost=0.736]\n",
      "train minibatch loop:   0%|          | 19/16751 [00:00<01:28, 189.10it/s, accuracy=0.625, cost=0.565]"
     ]
    },
    {
     "name": "stdout",
     "output_type": "stream",
     "text": [
      "epoch: 47, pass acc: 0.679799, current acc: 0.680239\n",
      "time taken: 107.54082584381104\n",
      "epoch: 47, training loss: 0.597147, training acc: 0.681612, valid loss: 0.597557, valid acc: 0.680239\n",
      "\n"
     ]
    },
    {
     "name": "stderr",
     "output_type": "stream",
     "text": [
      "train minibatch loop: 100%|██████████| 16751/16751 [01:27<00:00, 192.87it/s, accuracy=0.667, cost=0.57] \n",
      "test minibatch loop: 100%|██████████| 4188/4188 [00:19<00:00, 211.53it/s, accuracy=0.647, cost=0.736]\n",
      "train minibatch loop:   0%|          | 20/16751 [00:00<01:27, 192.13it/s, accuracy=0.594, cost=0.62] "
     ]
    },
    {
     "name": "stdout",
     "output_type": "stream",
     "text": [
      "epoch: 48, pass acc: 0.680239, current acc: 0.680702\n",
      "time taken: 107.63859462738037\n",
      "epoch: 48, training loss: 0.596651, training acc: 0.682103, valid loss: 0.597072, valid acc: 0.680702\n",
      "\n"
     ]
    },
    {
     "name": "stderr",
     "output_type": "stream",
     "text": [
      "train minibatch loop: 100%|██████████| 16751/16751 [01:27<00:00, 190.84it/s, accuracy=0.667, cost=0.569]\n",
      "test minibatch loop: 100%|██████████| 4188/4188 [00:19<00:00, 211.82it/s, accuracy=0.647, cost=0.736]\n",
      "train minibatch loop:   0%|          | 20/16751 [00:00<01:27, 190.21it/s, accuracy=0.656, cost=0.566]"
     ]
    },
    {
     "name": "stdout",
     "output_type": "stream",
     "text": [
      "epoch: 49, pass acc: 0.680702, current acc: 0.681000\n",
      "time taken: 107.54812026023865\n",
      "epoch: 49, training loss: 0.596162, training acc: 0.682536, valid loss: 0.596593, valid acc: 0.681000\n",
      "\n"
     ]
    },
    {
     "name": "stderr",
     "output_type": "stream",
     "text": [
      "train minibatch loop: 100%|██████████| 16751/16751 [01:27<00:00, 190.90it/s, accuracy=0.667, cost=0.568]\n",
      "test minibatch loop: 100%|██████████| 4188/4188 [00:19<00:00, 212.09it/s, accuracy=0.647, cost=0.736]\n",
      "train minibatch loop:   0%|          | 20/16751 [00:00<01:25, 194.92it/s, accuracy=0.594, cost=0.618]"
     ]
    },
    {
     "name": "stdout",
     "output_type": "stream",
     "text": [
      "epoch: 50, pass acc: 0.681000, current acc: 0.681433\n",
      "time taken: 107.49469375610352\n",
      "epoch: 50, training loss: 0.595678, training acc: 0.682984, valid loss: 0.596119, valid acc: 0.681433\n",
      "\n"
     ]
    },
    {
     "name": "stderr",
     "output_type": "stream",
     "text": [
      "train minibatch loop: 100%|██████████| 16751/16751 [01:27<00:00, 190.68it/s, accuracy=0.667, cost=0.567]\n",
      "test minibatch loop: 100%|██████████| 4188/4188 [00:19<00:00, 211.42it/s, accuracy=0.647, cost=0.736]\n",
      "train minibatch loop:   0%|          | 20/16751 [00:00<01:26, 193.50it/s, accuracy=0.594, cost=0.618]"
     ]
    },
    {
     "name": "stdout",
     "output_type": "stream",
     "text": [
      "epoch: 51, pass acc: 0.681433, current acc: 0.681933\n",
      "time taken: 107.6572117805481\n",
      "epoch: 51, training loss: 0.595201, training acc: 0.683506, valid loss: 0.595651, valid acc: 0.681933\n",
      "\n"
     ]
    },
    {
     "name": "stderr",
     "output_type": "stream",
     "text": [
      "train minibatch loop: 100%|██████████| 16751/16751 [01:27<00:00, 190.70it/s, accuracy=0.667, cost=0.566]\n",
      "test minibatch loop: 100%|██████████| 4188/4188 [00:19<00:00, 211.44it/s, accuracy=0.647, cost=0.735]\n",
      "train minibatch loop:   0%|          | 20/16751 [00:00<01:27, 191.23it/s, accuracy=0.688, cost=0.566]"
     ]
    },
    {
     "name": "stdout",
     "output_type": "stream",
     "text": [
      "epoch: 52, pass acc: 0.681933, current acc: 0.682373\n",
      "time taken: 107.64822173118591\n",
      "epoch: 52, training loss: 0.594729, training acc: 0.684109, valid loss: 0.595189, valid acc: 0.682373\n",
      "\n"
     ]
    },
    {
     "name": "stderr",
     "output_type": "stream",
     "text": [
      "train minibatch loop: 100%|██████████| 16751/16751 [01:27<00:00, 190.76it/s, accuracy=0.667, cost=0.565]\n",
      "test minibatch loop: 100%|██████████| 4188/4188 [00:19<00:00, 211.11it/s, accuracy=0.647, cost=0.735]\n",
      "train minibatch loop:   0%|          | 20/16751 [00:00<01:27, 191.36it/s, accuracy=0.688, cost=0.566]"
     ]
    },
    {
     "name": "stdout",
     "output_type": "stream",
     "text": [
      "epoch: 53, pass acc: 0.682373, current acc: 0.682993\n",
      "time taken: 107.649418592453\n",
      "epoch: 53, training loss: 0.594263, training acc: 0.684635, valid loss: 0.594733, valid acc: 0.682993\n",
      "\n"
     ]
    },
    {
     "name": "stderr",
     "output_type": "stream",
     "text": [
      "train minibatch loop: 100%|██████████| 16751/16751 [01:27<00:00, 190.92it/s, accuracy=0.667, cost=0.564]\n",
      "test minibatch loop: 100%|██████████| 4188/4188 [00:19<00:00, 211.60it/s, accuracy=0.647, cost=0.735]\n",
      "train minibatch loop:   0%|          | 20/16751 [00:00<01:27, 191.63it/s, accuracy=0.688, cost=0.567]"
     ]
    },
    {
     "name": "stdout",
     "output_type": "stream",
     "text": [
      "epoch: 54, pass acc: 0.682993, current acc: 0.683470\n",
      "time taken: 107.52933931350708\n",
      "epoch: 54, training loss: 0.593802, training acc: 0.685157, valid loss: 0.594281, valid acc: 0.683470\n",
      "\n"
     ]
    },
    {
     "name": "stderr",
     "output_type": "stream",
     "text": [
      "train minibatch loop: 100%|██████████| 16751/16751 [01:28<00:00, 190.33it/s, accuracy=0.667, cost=0.563]\n",
      "test minibatch loop: 100%|██████████| 4188/4188 [00:19<00:00, 211.54it/s, accuracy=0.647, cost=0.735]\n",
      "train minibatch loop:   0%|          | 20/16751 [00:00<01:28, 189.69it/s, accuracy=0.688, cost=0.567]"
     ]
    },
    {
     "name": "stdout",
     "output_type": "stream",
     "text": [
      "epoch: 55, pass acc: 0.683470, current acc: 0.683970\n",
      "time taken: 107.80942726135254\n",
      "epoch: 55, training loss: 0.593346, training acc: 0.685611, valid loss: 0.593835, valid acc: 0.683970\n",
      "\n"
     ]
    },
    {
     "name": "stderr",
     "output_type": "stream",
     "text": [
      "train minibatch loop: 100%|██████████| 16751/16751 [01:27<00:00, 190.64it/s, accuracy=0.667, cost=0.562]\n",
      "test minibatch loop: 100%|██████████| 4188/4188 [00:19<00:00, 211.26it/s, accuracy=0.647, cost=0.735]\n",
      "train minibatch loop:   0%|          | 20/16751 [00:00<01:27, 190.28it/s, accuracy=0.688, cost=0.567]"
     ]
    },
    {
     "name": "stdout",
     "output_type": "stream",
     "text": [
      "epoch: 56, pass acc: 0.683970, current acc: 0.684306\n",
      "time taken: 107.68839287757874\n",
      "epoch: 56, training loss: 0.592896, training acc: 0.686042, valid loss: 0.593393, valid acc: 0.684306\n",
      "\n"
     ]
    },
    {
     "name": "stderr",
     "output_type": "stream",
     "text": [
      "train minibatch loop: 100%|██████████| 16751/16751 [01:27<00:00, 190.41it/s, accuracy=0.667, cost=0.561]\n",
      "test minibatch loop: 100%|██████████| 4188/4188 [00:19<00:00, 211.26it/s, accuracy=0.647, cost=0.735]\n",
      "train minibatch loop:   0%|          | 20/16751 [00:00<01:26, 192.37it/s, accuracy=0.594, cost=0.614]"
     ]
    },
    {
     "name": "stdout",
     "output_type": "stream",
     "text": [
      "epoch: 57, pass acc: 0.684306, current acc: 0.684746\n",
      "time taken: 107.79683804512024\n",
      "epoch: 57, training loss: 0.592450, training acc: 0.686463, valid loss: 0.592957, valid acc: 0.684746\n",
      "\n"
     ]
    },
    {
     "name": "stderr",
     "output_type": "stream",
     "text": [
      "train minibatch loop: 100%|██████████| 16751/16751 [01:28<00:00, 190.30it/s, accuracy=0.667, cost=0.56] \n",
      "test minibatch loop: 100%|██████████| 4188/4188 [00:19<00:00, 210.83it/s, accuracy=0.647, cost=0.735]\n",
      "train minibatch loop:   0%|          | 20/16751 [00:00<01:26, 193.12it/s, accuracy=0.594, cost=0.613]"
     ]
    },
    {
     "name": "stdout",
     "output_type": "stream",
     "text": [
      "epoch: 58, pass acc: 0.684746, current acc: 0.685254\n",
      "time taken: 107.88986110687256\n",
      "epoch: 58, training loss: 0.592010, training acc: 0.686862, valid loss: 0.592525, valid acc: 0.685254\n",
      "\n"
     ]
    },
    {
     "name": "stderr",
     "output_type": "stream",
     "text": [
      "train minibatch loop: 100%|██████████| 16751/16751 [01:27<00:00, 190.48it/s, accuracy=0.667, cost=0.558]\n",
      "test minibatch loop: 100%|██████████| 4188/4188 [00:19<00:00, 211.57it/s, accuracy=0.647, cost=0.735]\n",
      "train minibatch loop:   0%|          | 20/16751 [00:00<01:27, 191.14it/s, accuracy=0.688, cost=0.568]"
     ]
    },
    {
     "name": "stdout",
     "output_type": "stream",
     "text": [
      "epoch: 59, pass acc: 0.685254, current acc: 0.685731\n",
      "time taken: 107.73933482170105\n",
      "epoch: 59, training loss: 0.591574, training acc: 0.687278, valid loss: 0.592098, valid acc: 0.685731\n",
      "\n"
     ]
    },
    {
     "name": "stderr",
     "output_type": "stream",
     "text": [
      "train minibatch loop: 100%|██████████| 16751/16751 [01:27<00:00, 190.50it/s, accuracy=0.667, cost=0.557]\n",
      "test minibatch loop: 100%|██████████| 4188/4188 [00:19<00:00, 211.43it/s, accuracy=0.647, cost=0.734]\n",
      "train minibatch loop:   0%|          | 20/16751 [00:00<01:27, 191.57it/s, accuracy=0.688, cost=0.568]"
     ]
    },
    {
     "name": "stdout",
     "output_type": "stream",
     "text": [
      "epoch: 60, pass acc: 0.685731, current acc: 0.686261\n",
      "time taken: 107.74195742607117\n",
      "epoch: 60, training loss: 0.591144, training acc: 0.687644, valid loss: 0.591676, valid acc: 0.686261\n",
      "\n"
     ]
    },
    {
     "name": "stderr",
     "output_type": "stream",
     "text": [
      "train minibatch loop: 100%|██████████| 16751/16751 [01:27<00:00, 190.51it/s, accuracy=0.667, cost=0.556]\n",
      "test minibatch loop: 100%|██████████| 4188/4188 [00:19<00:00, 211.39it/s, accuracy=0.647, cost=0.734]\n",
      "train minibatch loop:   0%|          | 20/16751 [00:00<01:26, 192.77it/s, accuracy=0.594, cost=0.611]"
     ]
    },
    {
     "name": "stdout",
     "output_type": "stream",
     "text": [
      "epoch: 61, pass acc: 0.686261, current acc: 0.686672\n",
      "time taken: 107.74094200134277\n",
      "epoch: 61, training loss: 0.590717, training acc: 0.688081, valid loss: 0.591258, valid acc: 0.686672\n",
      "\n"
     ]
    },
    {
     "name": "stderr",
     "output_type": "stream",
     "text": [
      "train minibatch loop: 100%|██████████| 16751/16751 [01:27<00:00, 190.61it/s, accuracy=0.667, cost=0.555]\n",
      "test minibatch loop: 100%|██████████| 4188/4188 [00:19<00:00, 211.45it/s, accuracy=0.588, cost=0.734]\n",
      "train minibatch loop:   0%|          | 20/16751 [00:00<01:26, 192.69it/s, accuracy=0.688, cost=0.568]"
     ]
    },
    {
     "name": "stdout",
     "output_type": "stream",
     "text": [
      "epoch: 62, pass acc: 0.686672, current acc: 0.686986\n",
      "time taken: 107.68662810325623\n",
      "epoch: 62, training loss: 0.590296, training acc: 0.688458, valid loss: 0.590844, valid acc: 0.686986\n",
      "\n"
     ]
    },
    {
     "name": "stderr",
     "output_type": "stream",
     "text": [
      "train minibatch loop: 100%|██████████| 16751/16751 [01:27<00:00, 190.67it/s, accuracy=0.667, cost=0.554]\n",
      "test minibatch loop: 100%|██████████| 4188/4188 [00:19<00:00, 211.13it/s, accuracy=0.588, cost=0.734]\n",
      "train minibatch loop:   0%|          | 19/16751 [00:00<01:28, 189.07it/s, accuracy=0.688, cost=0.569]"
     ]
    },
    {
     "name": "stdout",
     "output_type": "stream",
     "text": [
      "epoch: 63, pass acc: 0.686986, current acc: 0.687404\n",
      "time taken: 107.69173169136047\n",
      "epoch: 63, training loss: 0.589878, training acc: 0.688889, valid loss: 0.590435, valid acc: 0.687404\n",
      "\n"
     ]
    },
    {
     "name": "stderr",
     "output_type": "stream",
     "text": [
      "train minibatch loop: 100%|██████████| 16751/16751 [01:27<00:00, 190.74it/s, accuracy=0.667, cost=0.553]\n",
      "test minibatch loop: 100%|██████████| 4188/4188 [00:19<00:00, 211.67it/s, accuracy=0.588, cost=0.734]\n",
      "train minibatch loop:   0%|          | 20/16751 [00:00<01:26, 192.70it/s, accuracy=0.688, cost=0.569]"
     ]
    },
    {
     "name": "stdout",
     "output_type": "stream",
     "text": [
      "epoch: 64, pass acc: 0.687404, current acc: 0.687494\n",
      "time taken: 107.60827088356018\n",
      "epoch: 64, training loss: 0.589465, training acc: 0.689213, valid loss: 0.590030, valid acc: 0.687494\n",
      "\n"
     ]
    },
    {
     "name": "stderr",
     "output_type": "stream",
     "text": [
      "train minibatch loop: 100%|██████████| 16751/16751 [01:27<00:00, 190.69it/s, accuracy=0.667, cost=0.552]\n",
      "test minibatch loop: 100%|██████████| 4188/4188 [00:19<00:00, 211.60it/s, accuracy=0.588, cost=0.734]\n",
      "train minibatch loop:   0%|          | 20/16751 [00:00<01:27, 191.17it/s, accuracy=0.688, cost=0.569]"
     ]
    },
    {
     "name": "stdout",
     "output_type": "stream",
     "text": [
      "epoch: 65, pass acc: 0.687494, current acc: 0.687792\n",
      "time taken: 107.63724684715271\n",
      "epoch: 65, training loss: 0.589057, training acc: 0.689573, valid loss: 0.589629, valid acc: 0.687792\n",
      "\n"
     ]
    },
    {
     "name": "stderr",
     "output_type": "stream",
     "text": [
      "train minibatch loop: 100%|██████████| 16751/16751 [01:27<00:00, 190.76it/s, accuracy=0.667, cost=0.551]\n",
      "test minibatch loop: 100%|██████████| 4188/4188 [00:19<00:00, 211.55it/s, accuracy=0.529, cost=0.734]\n",
      "train minibatch loop:   0%|          | 20/16751 [00:00<01:26, 192.38it/s, accuracy=0.688, cost=0.569]"
     ]
    },
    {
     "name": "stdout",
     "output_type": "stream",
     "text": [
      "epoch: 66, pass acc: 0.687792, current acc: 0.688159\n",
      "time taken: 107.60908007621765\n",
      "epoch: 66, training loss: 0.588652, training acc: 0.689907, valid loss: 0.589232, valid acc: 0.688159\n",
      "\n"
     ]
    },
    {
     "name": "stderr",
     "output_type": "stream",
     "text": [
      "train minibatch loop: 100%|██████████| 16751/16751 [01:27<00:00, 190.65it/s, accuracy=0.667, cost=0.55] \n",
      "test minibatch loop: 100%|██████████| 4188/4188 [00:19<00:00, 210.94it/s, accuracy=0.529, cost=0.733]\n",
      "train minibatch loop:   0%|          | 20/16751 [00:00<01:26, 193.52it/s, accuracy=0.656, cost=0.607]"
     ]
    },
    {
     "name": "stdout",
     "output_type": "stream",
     "text": [
      "epoch: 67, pass acc: 0.688159, current acc: 0.688696\n",
      "time taken: 107.71687912940979\n",
      "epoch: 67, training loss: 0.588252, training acc: 0.690275, valid loss: 0.588839, valid acc: 0.688696\n",
      "\n"
     ]
    },
    {
     "name": "stderr",
     "output_type": "stream",
     "text": [
      "train minibatch loop: 100%|██████████| 16751/16751 [01:27<00:00, 190.71it/s, accuracy=0.667, cost=0.549]\n",
      "test minibatch loop: 100%|██████████| 4188/4188 [00:19<00:00, 210.83it/s, accuracy=0.529, cost=0.733]\n",
      "train minibatch loop:   0%|          | 20/16751 [00:00<01:25, 194.84it/s, accuracy=0.656, cost=0.606]"
     ]
    },
    {
     "name": "stdout",
     "output_type": "stream",
     "text": [
      "epoch: 68, pass acc: 0.688696, current acc: 0.689032\n",
      "time taken: 107.70263361930847\n",
      "epoch: 68, training loss: 0.587855, training acc: 0.690584, valid loss: 0.588450, valid acc: 0.689032\n",
      "\n"
     ]
    },
    {
     "name": "stderr",
     "output_type": "stream",
     "text": [
      "train minibatch loop: 100%|██████████| 16751/16751 [01:27<00:00, 190.59it/s, accuracy=0.667, cost=0.548]\n",
      "test minibatch loop: 100%|██████████| 4188/4188 [00:19<00:00, 211.80it/s, accuracy=0.529, cost=0.733]\n",
      "train minibatch loop:   0%|          | 20/16751 [00:00<01:27, 191.75it/s, accuracy=0.688, cost=0.57] "
     ]
    },
    {
     "name": "stdout",
     "output_type": "stream",
     "text": [
      "epoch: 69, pass acc: 0.689032, current acc: 0.689360\n",
      "time taken: 107.66497302055359\n",
      "epoch: 69, training loss: 0.587463, training acc: 0.690973, valid loss: 0.588065, valid acc: 0.689360\n",
      "\n"
     ]
    },
    {
     "name": "stderr",
     "output_type": "stream",
     "text": [
      "train minibatch loop: 100%|██████████| 16751/16751 [01:27<00:00, 190.53it/s, accuracy=0.667, cost=0.547]\n",
      "test minibatch loop: 100%|██████████| 4188/4188 [00:19<00:00, 211.17it/s, accuracy=0.529, cost=0.733]\n",
      "train minibatch loop:   0%|          | 20/16751 [00:00<01:26, 192.90it/s, accuracy=0.688, cost=0.57] "
     ]
    },
    {
     "name": "stdout",
     "output_type": "stream",
     "text": [
      "epoch: 70, pass acc: 0.689360, current acc: 0.689912\n",
      "time taken: 107.75315642356873\n",
      "epoch: 70, training loss: 0.587074, training acc: 0.691411, valid loss: 0.587684, valid acc: 0.689912\n",
      "\n"
     ]
    },
    {
     "name": "stderr",
     "output_type": "stream",
     "text": [
      "train minibatch loop: 100%|██████████| 16751/16751 [01:27<00:00, 190.69it/s, accuracy=0.667, cost=0.546]\n",
      "test minibatch loop: 100%|██████████| 4188/4188 [00:19<00:00, 211.53it/s, accuracy=0.529, cost=0.733]\n",
      "train minibatch loop:   0%|          | 20/16751 [00:00<01:26, 192.89it/s, accuracy=0.688, cost=0.57] "
     ]
    },
    {
     "name": "stdout",
     "output_type": "stream",
     "text": [
      "epoch: 71, pass acc: 0.689912, current acc: 0.690390\n",
      "time taken: 107.64590835571289\n",
      "epoch: 71, training loss: 0.586689, training acc: 0.691812, valid loss: 0.587306, valid acc: 0.690390\n",
      "\n"
     ]
    },
    {
     "name": "stderr",
     "output_type": "stream",
     "text": [
      "train minibatch loop: 100%|██████████| 16751/16751 [01:28<00:00, 189.84it/s, accuracy=0.667, cost=0.545]\n",
      "test minibatch loop: 100%|██████████| 4188/4188 [00:19<00:00, 211.12it/s, accuracy=0.529, cost=0.733]\n",
      "train minibatch loop:   0%|          | 17/16751 [00:00<01:38, 169.62it/s, accuracy=0.625, cost=0.636]"
     ]
    },
    {
     "name": "stdout",
     "output_type": "stream",
     "text": [
      "epoch: 72, pass acc: 0.690390, current acc: 0.690778\n",
      "time taken: 108.07043957710266\n",
      "epoch: 72, training loss: 0.586308, training acc: 0.692221, valid loss: 0.586932, valid acc: 0.690778\n",
      "\n"
     ]
    },
    {
     "name": "stderr",
     "output_type": "stream",
     "text": [
      "train minibatch loop: 100%|██████████| 16751/16751 [01:27<00:00, 190.56it/s, accuracy=0.667, cost=0.544]\n",
      "test minibatch loop: 100%|██████████| 4188/4188 [00:19<00:00, 209.74it/s, accuracy=0.529, cost=0.732]\n",
      "train minibatch loop:   0%|          | 20/16751 [00:00<01:27, 190.92it/s, accuracy=0.688, cost=0.571]"
     ]
    },
    {
     "name": "stdout",
     "output_type": "stream",
     "text": [
      "epoch: 73, pass acc: 0.690778, current acc: 0.691285\n",
      "time taken: 107.873779296875\n",
      "epoch: 73, training loss: 0.585931, training acc: 0.692564, valid loss: 0.586561, valid acc: 0.691285\n",
      "\n"
     ]
    },
    {
     "name": "stderr",
     "output_type": "stream",
     "text": [
      "train minibatch loop: 100%|██████████| 16751/16751 [01:27<00:00, 190.56it/s, accuracy=0.667, cost=0.543]\n",
      "test minibatch loop: 100%|██████████| 4188/4188 [00:19<00:00, 211.40it/s, accuracy=0.529, cost=0.732]\n",
      "train minibatch loop:   0%|          | 19/16751 [00:00<01:30, 184.93it/s, accuracy=0.688, cost=0.571]"
     ]
    },
    {
     "name": "stdout",
     "output_type": "stream",
     "text": [
      "epoch: 74, pass acc: 0.691285, current acc: 0.691576\n",
      "time taken: 107.71588206291199\n",
      "epoch: 74, training loss: 0.585557, training acc: 0.692887, valid loss: 0.586194, valid acc: 0.691576\n",
      "\n"
     ]
    },
    {
     "name": "stderr",
     "output_type": "stream",
     "text": [
      "train minibatch loop: 100%|██████████| 16751/16751 [01:27<00:00, 190.50it/s, accuracy=0.667, cost=0.542]\n",
      "test minibatch loop: 100%|██████████| 4188/4188 [00:19<00:00, 211.22it/s, accuracy=0.529, cost=0.732]\n",
      "train minibatch loop:   0%|          | 20/16751 [00:00<01:26, 193.17it/s, accuracy=0.656, cost=0.602]"
     ]
    },
    {
     "name": "stdout",
     "output_type": "stream",
     "text": [
      "epoch: 75, pass acc: 0.691576, current acc: 0.691860\n",
      "time taken: 107.76205706596375\n",
      "epoch: 75, training loss: 0.585186, training acc: 0.693155, valid loss: 0.585831, valid acc: 0.691860\n",
      "\n"
     ]
    },
    {
     "name": "stderr",
     "output_type": "stream",
     "text": [
      "train minibatch loop: 100%|██████████| 16751/16751 [01:27<00:00, 190.61it/s, accuracy=0.667, cost=0.542]\n",
      "test minibatch loop: 100%|██████████| 4188/4188 [00:19<00:00, 211.10it/s, accuracy=0.529, cost=0.732]\n",
      "train minibatch loop:   0%|          | 19/16751 [00:00<01:29, 187.79it/s, accuracy=0.688, cost=0.571]"
     ]
    },
    {
     "name": "stdout",
     "output_type": "stream",
     "text": [
      "epoch: 76, pass acc: 0.691860, current acc: 0.692159\n",
      "time taken: 107.72117686271667\n",
      "epoch: 76, training loss: 0.584819, training acc: 0.693433, valid loss: 0.585470, valid acc: 0.692159\n",
      "\n"
     ]
    },
    {
     "name": "stderr",
     "output_type": "stream",
     "text": [
      "train minibatch loop: 100%|██████████| 16751/16751 [01:28<00:00, 190.34it/s, accuracy=0.667, cost=0.541]\n",
      "test minibatch loop: 100%|██████████| 4188/4188 [00:19<00:00, 210.54it/s, accuracy=0.529, cost=0.732]\n",
      "train minibatch loop:   0%|          | 20/16751 [00:00<01:27, 191.39it/s, accuracy=0.688, cost=0.571]"
     ]
    },
    {
     "name": "stdout",
     "output_type": "stream",
     "text": [
      "epoch: 77, pass acc: 0.692159, current acc: 0.692465\n",
      "time taken: 107.89808201789856\n",
      "epoch: 77, training loss: 0.584456, training acc: 0.693805, valid loss: 0.585113, valid acc: 0.692465\n",
      "\n"
     ]
    },
    {
     "name": "stderr",
     "output_type": "stream",
     "text": [
      "train minibatch loop: 100%|██████████| 16751/16751 [01:27<00:00, 190.57it/s, accuracy=0.667, cost=0.54] \n",
      "test minibatch loop: 100%|██████████| 4188/4188 [00:19<00:00, 210.76it/s, accuracy=0.529, cost=0.732]\n",
      "train minibatch loop:   0%|          | 20/16751 [00:00<01:27, 192.18it/s, accuracy=0.688, cost=0.572]"
     ]
    },
    {
     "name": "stdout",
     "output_type": "stream",
     "text": [
      "epoch: 78, pass acc: 0.692465, current acc: 0.692733\n",
      "time taken: 107.77280068397522\n",
      "epoch: 78, training loss: 0.584096, training acc: 0.694148, valid loss: 0.584760, valid acc: 0.692733\n",
      "\n"
     ]
    },
    {
     "name": "stderr",
     "output_type": "stream",
     "text": [
      "train minibatch loop: 100%|██████████| 16751/16751 [01:27<00:00, 190.52it/s, accuracy=0.667, cost=0.539]\n",
      "test minibatch loop: 100%|██████████| 4188/4188 [00:19<00:00, 211.32it/s, accuracy=0.529, cost=0.732]\n",
      "train minibatch loop:   0%|          | 20/16751 [00:00<01:28, 189.33it/s, accuracy=0.625, cost=0.56] "
     ]
    },
    {
     "name": "stdout",
     "output_type": "stream",
     "text": [
      "epoch: 79, pass acc: 0.692733, current acc: 0.693084\n",
      "time taken: 107.74084138870239\n",
      "epoch: 79, training loss: 0.583739, training acc: 0.694461, valid loss: 0.584409, valid acc: 0.693084\n",
      "\n"
     ]
    },
    {
     "name": "stderr",
     "output_type": "stream",
     "text": [
      "train minibatch loop: 100%|██████████| 16751/16751 [01:27<00:00, 190.72it/s, accuracy=0.667, cost=0.538]\n",
      "test minibatch loop: 100%|██████████| 4188/4188 [00:19<00:00, 211.42it/s, accuracy=0.529, cost=0.731]\n",
      "train minibatch loop:   0%|          | 20/16751 [00:00<01:26, 192.55it/s, accuracy=0.688, cost=0.599]"
     ]
    },
    {
     "name": "stdout",
     "output_type": "stream",
     "text": [
      "epoch: 80, pass acc: 0.693084, current acc: 0.693278\n",
      "time taken: 107.6422860622406\n",
      "epoch: 80, training loss: 0.583385, training acc: 0.694719, valid loss: 0.584062, valid acc: 0.693278\n",
      "\n"
     ]
    },
    {
     "name": "stderr",
     "output_type": "stream",
     "text": [
      "train minibatch loop: 100%|██████████| 16751/16751 [01:27<00:00, 190.57it/s, accuracy=0.667, cost=0.537]\n",
      "test minibatch loop: 100%|██████████| 4188/4188 [00:19<00:00, 211.58it/s, accuracy=0.529, cost=0.731]\n",
      "train minibatch loop:   0%|          | 20/16751 [00:00<01:27, 190.73it/s, accuracy=0.688, cost=0.572]"
     ]
    },
    {
     "name": "stdout",
     "output_type": "stream",
     "text": [
      "epoch: 81, pass acc: 0.693278, current acc: 0.693487\n",
      "time taken: 107.69443416595459\n",
      "epoch: 81, training loss: 0.583034, training acc: 0.695090, valid loss: 0.583717, valid acc: 0.693487\n",
      "\n"
     ]
    },
    {
     "name": "stderr",
     "output_type": "stream",
     "text": [
      "train minibatch loop: 100%|██████████| 16751/16751 [01:27<00:00, 190.52it/s, accuracy=0.667, cost=0.536]\n",
      "test minibatch loop: 100%|██████████| 4188/4188 [00:19<00:00, 210.85it/s, accuracy=0.529, cost=0.731]\n",
      "train minibatch loop:   0%|          | 19/16751 [00:00<01:28, 188.59it/s, accuracy=0.688, cost=0.572]"
     ]
    },
    {
     "name": "stdout",
     "output_type": "stream",
     "text": [
      "epoch: 82, pass acc: 0.693487, current acc: 0.693830\n",
      "time taken: 107.78699922561646\n",
      "epoch: 82, training loss: 0.582687, training acc: 0.695396, valid loss: 0.583376, valid acc: 0.693830\n",
      "\n"
     ]
    },
    {
     "name": "stderr",
     "output_type": "stream",
     "text": [
      "train minibatch loop: 100%|██████████| 16751/16751 [01:27<00:00, 190.52it/s, accuracy=0.667, cost=0.535]\n",
      "test minibatch loop: 100%|██████████| 4188/4188 [00:19<00:00, 210.59it/s, accuracy=0.529, cost=0.731]\n",
      "train minibatch loop:   0%|          | 20/16751 [00:00<01:28, 190.06it/s, accuracy=0.688, cost=0.573]"
     ]
    },
    {
     "name": "stdout",
     "output_type": "stream",
     "text": [
      "epoch: 83, pass acc: 0.693830, current acc: 0.694166\n",
      "time taken: 107.76189470291138\n",
      "epoch: 83, training loss: 0.582343, training acc: 0.695594, valid loss: 0.583038, valid acc: 0.694166\n",
      "\n"
     ]
    },
    {
     "name": "stderr",
     "output_type": "stream",
     "text": [
      "train minibatch loop: 100%|██████████| 16751/16751 [01:27<00:00, 190.74it/s, accuracy=0.667, cost=0.534]\n",
      "test minibatch loop: 100%|██████████| 4188/4188 [00:19<00:00, 211.57it/s, accuracy=0.529, cost=0.731]\n",
      "train minibatch loop:   0%|          | 20/16751 [00:00<01:26, 192.59it/s, accuracy=0.688, cost=0.573]"
     ]
    },
    {
     "name": "stdout",
     "output_type": "stream",
     "text": [
      "epoch: 84, pass acc: 0.694166, current acc: 0.694375\n",
      "time taken: 107.6187915802002\n",
      "epoch: 84, training loss: 0.582001, training acc: 0.695877, valid loss: 0.582703, valid acc: 0.694375\n",
      "\n"
     ]
    },
    {
     "name": "stderr",
     "output_type": "stream",
     "text": [
      "train minibatch loop: 100%|██████████| 16751/16751 [01:27<00:00, 190.68it/s, accuracy=0.667, cost=0.533]\n",
      "test minibatch loop: 100%|██████████| 4188/4188 [00:19<00:00, 211.40it/s, accuracy=0.529, cost=0.731]\n",
      "train minibatch loop:   0%|          | 19/16751 [00:00<01:31, 182.19it/s, accuracy=0.625, cost=0.559]"
     ]
    },
    {
     "name": "stdout",
     "output_type": "stream",
     "text": [
      "epoch: 85, pass acc: 0.694375, current acc: 0.694629\n",
      "time taken: 107.66129851341248\n",
      "epoch: 85, training loss: 0.581663, training acc: 0.696209, valid loss: 0.582370, valid acc: 0.694629\n",
      "\n"
     ]
    },
    {
     "name": "stderr",
     "output_type": "stream",
     "text": [
      "train minibatch loop: 100%|██████████| 16751/16751 [01:27<00:00, 190.61it/s, accuracy=0.667, cost=0.532]\n",
      "test minibatch loop: 100%|██████████| 4188/4188 [00:19<00:00, 211.35it/s, accuracy=0.529, cost=0.73] \n",
      "train minibatch loop:   0%|          | 20/16751 [00:00<01:27, 190.14it/s, accuracy=0.688, cost=0.573]"
     ]
    },
    {
     "name": "stdout",
     "output_type": "stream",
     "text": [
      "epoch: 86, pass acc: 0.694629, current acc: 0.694979\n",
      "time taken: 107.69972586631775\n",
      "epoch: 86, training loss: 0.581328, training acc: 0.696512, valid loss: 0.582041, valid acc: 0.694979\n",
      "\n"
     ]
    },
    {
     "name": "stderr",
     "output_type": "stream",
     "text": [
      "train minibatch loop: 100%|██████████| 16751/16751 [01:27<00:00, 190.53it/s, accuracy=0.667, cost=0.531]\n",
      "test minibatch loop: 100%|██████████| 4188/4188 [00:19<00:00, 211.07it/s, accuracy=0.529, cost=0.73] \n",
      "train minibatch loop:   0%|          | 20/16751 [00:00<01:26, 192.33it/s, accuracy=0.688, cost=0.573]"
     ]
    },
    {
     "name": "stdout",
     "output_type": "stream",
     "text": [
      "epoch: 87, pass acc: 0.694979, current acc: 0.695293\n",
      "time taken: 107.76305556297302\n",
      "epoch: 87, training loss: 0.580995, training acc: 0.696760, valid loss: 0.581714, valid acc: 0.695293\n",
      "\n"
     ]
    },
    {
     "name": "stderr",
     "output_type": "stream",
     "text": [
      "train minibatch loop: 100%|██████████| 16751/16751 [01:27<00:00, 191.46it/s, accuracy=0.667, cost=0.53] \n",
      "test minibatch loop: 100%|██████████| 4188/4188 [00:19<00:00, 211.29it/s, accuracy=0.529, cost=0.73] \n",
      "train minibatch loop:   0%|          | 20/16751 [00:00<01:26, 193.62it/s, accuracy=0.656, cost=0.595]"
     ]
    },
    {
     "name": "stdout",
     "output_type": "stream",
     "text": [
      "epoch: 88, pass acc: 0.695293, current acc: 0.695606\n",
      "time taken: 107.31195759773254\n",
      "epoch: 88, training loss: 0.580665, training acc: 0.697030, valid loss: 0.581390, valid acc: 0.695606\n",
      "\n"
     ]
    },
    {
     "name": "stderr",
     "output_type": "stream",
     "text": [
      "train minibatch loop: 100%|██████████| 16751/16751 [01:27<00:00, 190.90it/s, accuracy=0.667, cost=0.529]\n",
      "test minibatch loop: 100%|██████████| 4188/4188 [00:19<00:00, 211.60it/s, accuracy=0.529, cost=0.73] \n",
      "train minibatch loop:   0%|          | 20/16751 [00:00<01:26, 192.80it/s, accuracy=0.656, cost=0.595]"
     ]
    },
    {
     "name": "stdout",
     "output_type": "stream",
     "text": [
      "epoch: 89, pass acc: 0.695606, current acc: 0.695942\n",
      "time taken: 107.54351162910461\n",
      "epoch: 89, training loss: 0.580339, training acc: 0.697372, valid loss: 0.581069, valid acc: 0.695942\n",
      "\n"
     ]
    },
    {
     "name": "stderr",
     "output_type": "stream",
     "text": [
      "train minibatch loop: 100%|██████████| 16751/16751 [01:27<00:00, 190.74it/s, accuracy=0.667, cost=0.528]\n",
      "test minibatch loop: 100%|██████████| 4188/4188 [00:19<00:00, 211.55it/s, accuracy=0.529, cost=0.73] \n",
      "train minibatch loop:   0%|          | 19/16751 [00:00<01:32, 180.68it/s, accuracy=0.625, cost=0.559]"
     ]
    },
    {
     "name": "stdout",
     "output_type": "stream",
     "text": [
      "epoch: 90, pass acc: 0.695942, current acc: 0.696338\n",
      "time taken: 107.6191999912262\n",
      "epoch: 90, training loss: 0.580014, training acc: 0.697612, valid loss: 0.580750, valid acc: 0.696338\n",
      "\n"
     ]
    },
    {
     "name": "stderr",
     "output_type": "stream",
     "text": [
      "train minibatch loop: 100%|██████████| 16751/16751 [01:27<00:00, 190.52it/s, accuracy=0.667, cost=0.527]\n",
      "test minibatch loop: 100%|██████████| 4188/4188 [00:19<00:00, 211.67it/s, accuracy=0.529, cost=0.73] \n",
      "train minibatch loop:   0%|          | 20/16751 [00:00<01:26, 192.96it/s, accuracy=0.688, cost=0.574]"
     ]
    },
    {
     "name": "stdout",
     "output_type": "stream",
     "text": [
      "epoch: 91, pass acc: 0.696338, current acc: 0.696629\n",
      "time taken: 107.70880508422852\n",
      "epoch: 91, training loss: 0.579693, training acc: 0.697872, valid loss: 0.580434, valid acc: 0.696629\n",
      "\n"
     ]
    },
    {
     "name": "stderr",
     "output_type": "stream",
     "text": [
      "train minibatch loop: 100%|██████████| 16751/16751 [01:27<00:00, 191.46it/s, accuracy=0.667, cost=0.526]\n",
      "test minibatch loop: 100%|██████████| 4188/4188 [00:19<00:00, 211.10it/s, accuracy=0.529, cost=0.73] \n",
      "train minibatch loop:   0%|          | 20/16751 [00:00<01:26, 193.19it/s, accuracy=0.688, cost=0.574]"
     ]
    },
    {
     "name": "stdout",
     "output_type": "stream",
     "text": [
      "epoch: 92, pass acc: 0.696629, current acc: 0.696897\n",
      "time taken: 107.64151811599731\n",
      "epoch: 92, training loss: 0.579374, training acc: 0.698107, valid loss: 0.580121, valid acc: 0.696897\n",
      "\n"
     ]
    },
    {
     "name": "stderr",
     "output_type": "stream",
     "text": [
      "train minibatch loop: 100%|██████████| 16751/16751 [01:27<00:00, 190.94it/s, accuracy=0.667, cost=0.526]\n",
      "test minibatch loop: 100%|██████████| 4188/4188 [00:19<00:00, 211.45it/s, accuracy=0.529, cost=0.729]\n",
      "train minibatch loop:   0%|          | 20/16751 [00:00<01:27, 190.63it/s, accuracy=0.688, cost=0.575]"
     ]
    },
    {
     "name": "stdout",
     "output_type": "stream",
     "text": [
      "epoch: 93, pass acc: 0.696897, current acc: 0.697256\n",
      "time taken: 107.53481197357178\n",
      "epoch: 93, training loss: 0.579058, training acc: 0.698372, valid loss: 0.579810, valid acc: 0.697256\n",
      "\n"
     ]
    },
    {
     "name": "stderr",
     "output_type": "stream",
     "text": [
      "train minibatch loop: 100%|██████████| 16751/16751 [01:27<00:00, 190.66it/s, accuracy=0.667, cost=0.525]\n",
      "test minibatch loop: 100%|██████████| 4188/4188 [00:19<00:00, 211.56it/s, accuracy=0.529, cost=0.729]\n",
      "train minibatch loop:   0%|          | 20/16751 [00:00<01:27, 190.28it/s, accuracy=0.688, cost=0.575]"
     ]
    },
    {
     "name": "stdout",
     "output_type": "stream",
     "text": [
      "epoch: 94, pass acc: 0.697256, current acc: 0.697509\n",
      "time taken: 107.65583086013794\n",
      "epoch: 94, training loss: 0.578745, training acc: 0.698607, valid loss: 0.579502, valid acc: 0.697509\n",
      "\n"
     ]
    },
    {
     "name": "stderr",
     "output_type": "stream",
     "text": [
      "train minibatch loop: 100%|██████████| 16751/16751 [01:27<00:00, 190.51it/s, accuracy=0.667, cost=0.524]\n",
      "test minibatch loop: 100%|██████████| 4188/4188 [00:19<00:00, 211.48it/s, accuracy=0.529, cost=0.729]\n",
      "train minibatch loop:   0%|          | 20/16751 [00:00<01:26, 193.63it/s, accuracy=0.656, cost=0.592]"
     ]
    },
    {
     "name": "stdout",
     "output_type": "stream",
     "text": [
      "epoch: 95, pass acc: 0.697509, current acc: 0.697808\n",
      "time taken: 107.73135256767273\n",
      "epoch: 95, training loss: 0.578434, training acc: 0.698920, valid loss: 0.579196, valid acc: 0.697808\n",
      "\n"
     ]
    },
    {
     "name": "stderr",
     "output_type": "stream",
     "text": [
      "train minibatch loop: 100%|██████████| 16751/16751 [01:27<00:00, 190.61it/s, accuracy=0.667, cost=0.523]\n",
      "test minibatch loop: 100%|██████████| 4188/4188 [00:19<00:00, 211.32it/s, accuracy=0.529, cost=0.729]\n",
      "train minibatch loop:   0%|          | 20/16751 [00:00<01:27, 190.29it/s, accuracy=0.719, cost=0.575]"
     ]
    },
    {
     "name": "stdout",
     "output_type": "stream",
     "text": [
      "epoch: 96, pass acc: 0.697808, current acc: 0.698144\n",
      "time taken: 107.70218014717102\n",
      "epoch: 96, training loss: 0.578125, training acc: 0.699129, valid loss: 0.578893, valid acc: 0.698144\n",
      "\n"
     ]
    },
    {
     "name": "stderr",
     "output_type": "stream",
     "text": [
      "train minibatch loop: 100%|██████████| 16751/16751 [01:27<00:00, 190.78it/s, accuracy=0.667, cost=0.522]\n",
      "test minibatch loop: 100%|██████████| 4188/4188 [00:19<00:00, 210.93it/s, accuracy=0.529, cost=0.729]\n",
      "train minibatch loop:   0%|          | 20/16751 [00:00<01:27, 191.41it/s, accuracy=0.719, cost=0.575]"
     ]
    },
    {
     "name": "stdout",
     "output_type": "stream",
     "text": [
      "epoch: 97, pass acc: 0.698144, current acc: 0.698330\n",
      "time taken: 107.65740418434143\n",
      "epoch: 97, training loss: 0.577819, training acc: 0.699392, valid loss: 0.578592, valid acc: 0.698330\n",
      "\n"
     ]
    },
    {
     "name": "stderr",
     "output_type": "stream",
     "text": [
      "train minibatch loop: 100%|██████████| 16751/16751 [01:27<00:00, 190.71it/s, accuracy=0.667, cost=0.521]\n",
      "test minibatch loop: 100%|██████████| 4188/4188 [00:19<00:00, 211.49it/s, accuracy=0.529, cost=0.729]\n",
      "train minibatch loop:   0%|          | 20/16751 [00:00<01:27, 192.27it/s, accuracy=0.719, cost=0.576]"
     ]
    },
    {
     "name": "stdout",
     "output_type": "stream",
     "text": [
      "epoch: 98, pass acc: 0.698330, current acc: 0.698793\n",
      "time taken: 107.64051365852356\n",
      "epoch: 98, training loss: 0.577516, training acc: 0.699698, valid loss: 0.578294, valid acc: 0.698793\n",
      "\n"
     ]
    },
    {
     "name": "stderr",
     "output_type": "stream",
     "text": [
      "train minibatch loop: 100%|██████████| 16751/16751 [01:27<00:00, 190.80it/s, accuracy=0.667, cost=0.52] \n",
      "test minibatch loop: 100%|██████████| 4188/4188 [00:19<00:00, 211.39it/s, accuracy=0.529, cost=0.728]\n",
      "train minibatch loop:   0%|          | 20/16751 [00:00<01:26, 192.69it/s, accuracy=0.719, cost=0.576]"
     ]
    },
    {
     "name": "stdout",
     "output_type": "stream",
     "text": [
      "epoch: 99, pass acc: 0.698793, current acc: 0.699047\n",
      "time taken: 107.6045892238617\n",
      "epoch: 99, training loss: 0.577215, training acc: 0.699879, valid loss: 0.577998, valid acc: 0.699047\n",
      "\n"
     ]
    },
    {
     "name": "stderr",
     "output_type": "stream",
     "text": [
      "train minibatch loop: 100%|██████████| 16751/16751 [01:27<00:00, 190.64it/s, accuracy=0.667, cost=0.519]\n",
      "test minibatch loop: 100%|██████████| 4188/4188 [00:19<00:00, 211.40it/s, accuracy=0.529, cost=0.728]\n",
      "train minibatch loop:   0%|          | 20/16751 [00:00<01:27, 192.22it/s, accuracy=0.719, cost=0.576]"
     ]
    },
    {
     "name": "stdout",
     "output_type": "stream",
     "text": [
      "epoch: 100, pass acc: 0.699047, current acc: 0.699323\n",
      "time taken: 107.67813611030579\n",
      "epoch: 100, training loss: 0.576916, training acc: 0.700140, valid loss: 0.577704, valid acc: 0.699323\n",
      "\n"
     ]
    },
    {
     "name": "stderr",
     "output_type": "stream",
     "text": [
      "train minibatch loop: 100%|██████████| 16751/16751 [01:27<00:00, 190.83it/s, accuracy=0.667, cost=0.518]\n",
      "test minibatch loop: 100%|██████████| 4188/4188 [00:19<00:00, 211.42it/s, accuracy=0.529, cost=0.728]\n",
      "train minibatch loop:   0%|          | 20/16751 [00:00<01:27, 190.27it/s, accuracy=0.719, cost=0.576]"
     ]
    },
    {
     "name": "stdout",
     "output_type": "stream",
     "text": [
      "epoch: 101, pass acc: 0.699323, current acc: 0.699539\n",
      "time taken: 107.5903115272522\n",
      "epoch: 101, training loss: 0.576620, training acc: 0.700428, valid loss: 0.577413, valid acc: 0.699539\n",
      "\n"
     ]
    },
    {
     "name": "stderr",
     "output_type": "stream",
     "text": [
      "train minibatch loop: 100%|██████████| 16751/16751 [01:27<00:00, 190.69it/s, accuracy=0.667, cost=0.517]\n",
      "test minibatch loop: 100%|██████████| 4188/4188 [00:19<00:00, 210.90it/s, accuracy=0.529, cost=0.728]\n",
      "train minibatch loop:   0%|          | 20/16751 [00:00<01:27, 192.16it/s, accuracy=0.625, cost=0.588]"
     ]
    },
    {
     "name": "stdout",
     "output_type": "stream",
     "text": [
      "epoch: 102, pass acc: 0.699539, current acc: 0.699897\n",
      "time taken: 107.70278024673462\n",
      "epoch: 102, training loss: 0.576326, training acc: 0.700663, valid loss: 0.577124, valid acc: 0.699897\n",
      "\n"
     ]
    },
    {
     "name": "stderr",
     "output_type": "stream",
     "text": [
      "train minibatch loop: 100%|██████████| 16751/16751 [01:27<00:00, 190.92it/s, accuracy=0.667, cost=0.517]\n",
      "test minibatch loop: 100%|██████████| 4188/4188 [00:19<00:00, 211.23it/s, accuracy=0.529, cost=0.728]\n",
      "train minibatch loop:   0%|          | 20/16751 [00:00<01:26, 194.21it/s, accuracy=0.625, cost=0.588]"
     ]
    },
    {
     "name": "stdout",
     "output_type": "stream",
     "text": [
      "epoch: 103, pass acc: 0.699897, current acc: 0.700308\n",
      "time taken: 107.56525588035583\n",
      "epoch: 103, training loss: 0.576034, training acc: 0.700887, valid loss: 0.576837, valid acc: 0.700308\n",
      "\n"
     ]
    },
    {
     "name": "stderr",
     "output_type": "stream",
     "text": [
      "train minibatch loop: 100%|██████████| 16751/16751 [01:27<00:00, 190.57it/s, accuracy=0.667, cost=0.516]\n",
      "test minibatch loop: 100%|██████████| 4188/4188 [00:19<00:00, 211.18it/s, accuracy=0.529, cost=0.728]\n",
      "train minibatch loop:   0%|          | 20/16751 [00:00<01:27, 190.37it/s, accuracy=0.719, cost=0.577]"
     ]
    },
    {
     "name": "stdout",
     "output_type": "stream",
     "text": [
      "epoch: 104, pass acc: 0.700308, current acc: 0.700509\n",
      "time taken: 107.73149943351746\n",
      "epoch: 104, training loss: 0.575745, training acc: 0.701127, valid loss: 0.576552, valid acc: 0.700509\n",
      "\n"
     ]
    },
    {
     "name": "stderr",
     "output_type": "stream",
     "text": [
      "train minibatch loop: 100%|██████████| 16751/16751 [01:27<00:00, 190.60it/s, accuracy=0.667, cost=0.515]\n",
      "test minibatch loop: 100%|██████████| 4188/4188 [00:19<00:00, 211.01it/s, accuracy=0.529, cost=0.728]\n",
      "train minibatch loop:   0%|          | 20/16751 [00:00<01:27, 192.14it/s, accuracy=0.656, cost=0.557]"
     ]
    },
    {
     "name": "stdout",
     "output_type": "stream",
     "text": [
      "epoch: 105, pass acc: 0.700509, current acc: 0.700800\n",
      "time taken: 107.73290181159973\n",
      "epoch: 105, training loss: 0.575458, training acc: 0.701381, valid loss: 0.576270, valid acc: 0.700800\n",
      "\n"
     ]
    },
    {
     "name": "stderr",
     "output_type": "stream",
     "text": [
      "train minibatch loop: 100%|██████████| 16751/16751 [01:27<00:00, 190.74it/s, accuracy=0.667, cost=0.514]\n",
      "test minibatch loop: 100%|██████████| 4188/4188 [00:19<00:00, 210.79it/s, accuracy=0.529, cost=0.727]\n",
      "train minibatch loop:   0%|          | 20/16751 [00:00<01:26, 194.19it/s, accuracy=0.719, cost=0.577]"
     ]
    },
    {
     "name": "stdout",
     "output_type": "stream",
     "text": [
      "epoch: 106, pass acc: 0.700800, current acc: 0.700905\n",
      "time taken: 107.6894805431366\n",
      "epoch: 106, training loss: 0.575173, training acc: 0.701618, valid loss: 0.575989, valid acc: 0.700905\n",
      "\n"
     ]
    },
    {
     "name": "stderr",
     "output_type": "stream",
     "text": [
      "train minibatch loop: 100%|██████████| 16751/16751 [01:27<00:00, 190.71it/s, accuracy=0.667, cost=0.513]\n",
      "test minibatch loop: 100%|██████████| 4188/4188 [00:19<00:00, 210.72it/s, accuracy=0.529, cost=0.727]\n",
      "train minibatch loop:   0%|          | 20/16751 [00:00<01:27, 190.19it/s, accuracy=0.719, cost=0.577]"
     ]
    },
    {
     "name": "stdout",
     "output_type": "stream",
     "text": [
      "epoch: 107, pass acc: 0.700905, current acc: 0.701181\n",
      "time taken: 107.713871717453\n",
      "epoch: 107, training loss: 0.574890, training acc: 0.701836, valid loss: 0.575711, valid acc: 0.701181\n",
      "\n"
     ]
    },
    {
     "name": "stderr",
     "output_type": "stream",
     "text": [
      "train minibatch loop: 100%|██████████| 16751/16751 [01:27<00:00, 190.78it/s, accuracy=0.667, cost=0.512]\n",
      "test minibatch loop: 100%|██████████| 4188/4188 [00:19<00:00, 211.85it/s, accuracy=0.529, cost=0.727]\n",
      "train minibatch loop:   0%|          | 20/16751 [00:00<01:27, 191.61it/s, accuracy=0.719, cost=0.577]"
     ]
    },
    {
     "name": "stdout",
     "output_type": "stream",
     "text": [
      "epoch: 108, pass acc: 0.701181, current acc: 0.701532\n",
      "time taken: 107.62563991546631\n",
      "epoch: 108, training loss: 0.574609, training acc: 0.702099, valid loss: 0.575435, valid acc: 0.701532\n",
      "\n"
     ]
    },
    {
     "name": "stderr",
     "output_type": "stream",
     "text": [
      "train minibatch loop: 100%|██████████| 16751/16751 [01:27<00:00, 190.53it/s, accuracy=0.667, cost=0.511]\n",
      "test minibatch loop: 100%|██████████| 4188/4188 [00:19<00:00, 211.44it/s, accuracy=0.529, cost=0.727]\n",
      "train minibatch loop:   0%|          | 20/16751 [00:00<01:26, 194.11it/s, accuracy=0.625, cost=0.585]"
     ]
    },
    {
     "name": "stdout",
     "output_type": "stream",
     "text": [
      "epoch: 109, pass acc: 0.701532, current acc: 0.701591\n",
      "time taken: 107.72871589660645\n",
      "epoch: 109, training loss: 0.574331, training acc: 0.702271, valid loss: 0.575161, valid acc: 0.701591\n",
      "\n"
     ]
    },
    {
     "name": "stderr",
     "output_type": "stream",
     "text": [
      "train minibatch loop: 100%|██████████| 16751/16751 [01:27<00:00, 190.69it/s, accuracy=0.667, cost=0.511]\n",
      "test minibatch loop: 100%|██████████| 4188/4188 [00:19<00:00, 211.20it/s, accuracy=0.529, cost=0.727]\n",
      "train minibatch loop:   0%|          | 20/16751 [00:00<01:26, 193.46it/s, accuracy=0.625, cost=0.585]"
     ]
    },
    {
     "name": "stdout",
     "output_type": "stream",
     "text": [
      "epoch: 110, pass acc: 0.701591, current acc: 0.701867\n",
      "time taken: 107.6742775440216\n",
      "epoch: 110, training loss: 0.574054, training acc: 0.702478, valid loss: 0.574889, valid acc: 0.701867\n",
      "\n"
     ]
    },
    {
     "name": "stderr",
     "output_type": "stream",
     "text": [
      "train minibatch loop: 100%|██████████| 16751/16751 [01:27<00:00, 190.62it/s, accuracy=0.667, cost=0.51] \n",
      "test minibatch loop: 100%|██████████| 4188/4188 [00:19<00:00, 211.20it/s, accuracy=0.529, cost=0.727]\n",
      "train minibatch loop:   0%|          | 20/16751 [00:00<01:26, 192.41it/s, accuracy=0.719, cost=0.578]"
     ]
    },
    {
     "name": "stdout",
     "output_type": "stream",
     "text": [
      "epoch: 111, pass acc: 0.701867, current acc: 0.702114\n",
      "time taken: 107.70853090286255\n",
      "epoch: 111, training loss: 0.573780, training acc: 0.702726, valid loss: 0.574619, valid acc: 0.702114\n",
      "\n"
     ]
    },
    {
     "name": "stderr",
     "output_type": "stream",
     "text": [
      "train minibatch loop: 100%|██████████| 16751/16751 [01:27<00:00, 190.67it/s, accuracy=0.667, cost=0.509]\n",
      "test minibatch loop: 100%|██████████| 4188/4188 [00:19<00:00, 211.18it/s, accuracy=0.529, cost=0.727]\n",
      "train minibatch loop:   0%|          | 20/16751 [00:00<01:26, 193.30it/s, accuracy=0.625, cost=0.584]"
     ]
    },
    {
     "name": "stdout",
     "output_type": "stream",
     "text": [
      "epoch: 112, pass acc: 0.702114, current acc: 0.702233\n",
      "time taken: 107.68769526481628\n",
      "epoch: 112, training loss: 0.573507, training acc: 0.702972, valid loss: 0.574351, valid acc: 0.702233\n",
      "\n"
     ]
    },
    {
     "name": "stderr",
     "output_type": "stream",
     "text": [
      "train minibatch loop: 100%|██████████| 16751/16751 [01:27<00:00, 190.76it/s, accuracy=0.667, cost=0.508]\n",
      "test minibatch loop: 100%|██████████| 4188/4188 [00:19<00:00, 211.33it/s, accuracy=0.529, cost=0.726]\n",
      "train minibatch loop:   0%|          | 20/16751 [00:00<01:27, 191.85it/s, accuracy=0.719, cost=0.578]"
     ]
    },
    {
     "name": "stdout",
     "output_type": "stream",
     "text": [
      "epoch: 113, pass acc: 0.702233, current acc: 0.702524\n",
      "time taken: 107.6330292224884\n",
      "epoch: 113, training loss: 0.573237, training acc: 0.703183, valid loss: 0.574085, valid acc: 0.702524\n",
      "\n"
     ]
    },
    {
     "name": "stderr",
     "output_type": "stream",
     "text": [
      "train minibatch loop: 100%|██████████| 16751/16751 [01:27<00:00, 190.78it/s, accuracy=0.667, cost=0.507]\n",
      "test minibatch loop: 100%|██████████| 4188/4188 [00:19<00:00, 211.61it/s, accuracy=0.529, cost=0.726]\n",
      "train minibatch loop:   0%|          | 20/16751 [00:00<01:26, 193.27it/s, accuracy=0.719, cost=0.579]"
     ]
    },
    {
     "name": "stdout",
     "output_type": "stream",
     "text": [
      "epoch: 114, pass acc: 0.702524, current acc: 0.702800\n",
      "time taken: 107.59576678276062\n",
      "epoch: 114, training loss: 0.572968, training acc: 0.703426, valid loss: 0.573821, valid acc: 0.702800\n",
      "\n"
     ]
    },
    {
     "name": "stderr",
     "output_type": "stream",
     "text": [
      "train minibatch loop: 100%|██████████| 16751/16751 [01:27<00:00, 190.69it/s, accuracy=0.667, cost=0.506]\n",
      "test minibatch loop: 100%|██████████| 4188/4188 [00:19<00:00, 211.63it/s, accuracy=0.529, cost=0.726]\n",
      "train minibatch loop:   0%|          | 20/16751 [00:00<01:27, 192.14it/s, accuracy=0.719, cost=0.579]"
     ]
    },
    {
     "name": "stdout",
     "output_type": "stream",
     "text": [
      "epoch: 115, pass acc: 0.702800, current acc: 0.703091\n",
      "time taken: 107.63443422317505\n",
      "epoch: 115, training loss: 0.572702, training acc: 0.703624, valid loss: 0.573559, valid acc: 0.703091\n",
      "\n"
     ]
    },
    {
     "name": "stderr",
     "output_type": "stream",
     "text": [
      "train minibatch loop: 100%|██████████| 16751/16751 [01:27<00:00, 190.75it/s, accuracy=0.667, cost=0.505]\n",
      "test minibatch loop: 100%|██████████| 4188/4188 [00:19<00:00, 210.98it/s, accuracy=0.529, cost=0.726]\n",
      "train minibatch loop:   0%|          | 20/16751 [00:00<01:27, 190.62it/s, accuracy=0.719, cost=0.579]"
     ]
    },
    {
     "name": "stdout",
     "output_type": "stream",
     "text": [
      "epoch: 116, pass acc: 0.703091, current acc: 0.703226\n",
      "time taken: 107.66951394081116\n",
      "epoch: 116, training loss: 0.572438, training acc: 0.703887, valid loss: 0.573299, valid acc: 0.703226\n",
      "\n"
     ]
    },
    {
     "name": "stderr",
     "output_type": "stream",
     "text": [
      "train minibatch loop: 100%|██████████| 16751/16751 [01:27<00:00, 190.83it/s, accuracy=0.667, cost=0.505]\n",
      "test minibatch loop: 100%|██████████| 4188/4188 [00:19<00:00, 211.22it/s, accuracy=0.529, cost=0.726]\n",
      "train minibatch loop:   0%|          | 20/16751 [00:00<01:26, 192.96it/s, accuracy=0.719, cost=0.579]"
     ]
    },
    {
     "name": "stdout",
     "output_type": "stream",
     "text": [
      "epoch: 117, pass acc: 0.703226, current acc: 0.703539\n",
      "time taken: 107.6104109287262\n",
      "epoch: 117, training loss: 0.572175, training acc: 0.704077, valid loss: 0.573040, valid acc: 0.703539\n",
      "\n"
     ]
    },
    {
     "name": "stderr",
     "output_type": "stream",
     "text": [
      "train minibatch loop: 100%|██████████| 16751/16751 [01:27<00:00, 190.77it/s, accuracy=0.667, cost=0.504]\n",
      "test minibatch loop: 100%|██████████| 4188/4188 [00:19<00:00, 211.37it/s, accuracy=0.529, cost=0.726]\n",
      "train minibatch loop:   0%|          | 20/16751 [00:00<01:27, 191.40it/s, accuracy=0.719, cost=0.579]"
     ]
    },
    {
     "name": "stdout",
     "output_type": "stream",
     "text": [
      "epoch: 118, pass acc: 0.703539, current acc: 0.703718\n",
      "time taken: 107.62096405029297\n",
      "epoch: 118, training loss: 0.571914, training acc: 0.704271, valid loss: 0.572784, valid acc: 0.703718\n",
      "\n"
     ]
    },
    {
     "name": "stderr",
     "output_type": "stream",
     "text": [
      "train minibatch loop: 100%|██████████| 16751/16751 [01:27<00:00, 190.65it/s, accuracy=0.667, cost=0.503]\n",
      "test minibatch loop: 100%|██████████| 4188/4188 [00:19<00:00, 211.36it/s, accuracy=0.529, cost=0.726]\n",
      "train minibatch loop:   0%|          | 20/16751 [00:00<01:26, 192.44it/s, accuracy=0.719, cost=0.579]"
     ]
    },
    {
     "name": "stdout",
     "output_type": "stream",
     "text": [
      "epoch: 119, pass acc: 0.703718, current acc: 0.703942\n",
      "time taken: 107.67861604690552\n",
      "epoch: 119, training loss: 0.571656, training acc: 0.704485, valid loss: 0.572529, valid acc: 0.703942\n",
      "\n"
     ]
    },
    {
     "name": "stderr",
     "output_type": "stream",
     "text": [
      "train minibatch loop: 100%|██████████| 16751/16751 [01:27<00:00, 190.41it/s, accuracy=0.667, cost=0.502]\n",
      "test minibatch loop: 100%|██████████| 4188/4188 [00:19<00:00, 211.37it/s, accuracy=0.529, cost=0.725]\n",
      "train minibatch loop:   0%|          | 20/16751 [00:00<01:27, 191.93it/s, accuracy=0.719, cost=0.58] "
     ]
    },
    {
     "name": "stdout",
     "output_type": "stream",
     "text": [
      "epoch: 120, pass acc: 0.703942, current acc: 0.704241\n",
      "time taken: 107.78900837898254\n",
      "epoch: 120, training loss: 0.571399, training acc: 0.704657, valid loss: 0.572276, valid acc: 0.704241\n",
      "\n"
     ]
    },
    {
     "name": "stderr",
     "output_type": "stream",
     "text": [
      "train minibatch loop: 100%|██████████| 16751/16751 [01:27<00:00, 190.72it/s, accuracy=0.667, cost=0.501]\n",
      "test minibatch loop: 100%|██████████| 4188/4188 [00:19<00:00, 211.38it/s, accuracy=0.529, cost=0.725]\n",
      "train minibatch loop:   0%|          | 20/16751 [00:00<01:26, 193.43it/s, accuracy=0.625, cost=0.58] "
     ]
    },
    {
     "name": "stdout",
     "output_type": "stream",
     "text": [
      "epoch: 121, pass acc: 0.704241, current acc: 0.704509\n",
      "time taken: 107.64572811126709\n",
      "epoch: 121, training loss: 0.571143, training acc: 0.704803, valid loss: 0.572025, valid acc: 0.704509\n",
      "\n"
     ]
    },
    {
     "name": "stderr",
     "output_type": "stream",
     "text": [
      "train minibatch loop: 100%|██████████| 16751/16751 [01:27<00:00, 190.78it/s, accuracy=0.667, cost=0.5]  \n",
      "test minibatch loop: 100%|██████████| 4188/4188 [00:19<00:00, 211.17it/s, accuracy=0.529, cost=0.725]\n",
      "train minibatch loop:   0%|          | 20/16751 [00:00<01:26, 192.37it/s, accuracy=0.625, cost=0.58] "
     ]
    },
    {
     "name": "stdout",
     "output_type": "stream",
     "text": [
      "epoch: 122, pass acc: 0.704509, current acc: 0.704666\n",
      "time taken: 107.63543581962585\n",
      "epoch: 122, training loss: 0.570890, training acc: 0.705023, valid loss: 0.571776, valid acc: 0.704666\n",
      "\n"
     ]
    },
    {
     "name": "stderr",
     "output_type": "stream",
     "text": [
      "train minibatch loop: 100%|██████████| 16751/16751 [01:27<00:00, 190.83it/s, accuracy=0.667, cost=0.5]  \n",
      "test minibatch loop: 100%|██████████| 4188/4188 [00:19<00:00, 211.67it/s, accuracy=0.529, cost=0.725]\n",
      "train minibatch loop:   0%|          | 20/16751 [00:00<01:27, 190.89it/s, accuracy=0.719, cost=0.58] "
     ]
    },
    {
     "name": "stdout",
     "output_type": "stream",
     "text": [
      "epoch: 123, pass acc: 0.704666, current acc: 0.704830\n",
      "time taken: 107.56488394737244\n",
      "epoch: 123, training loss: 0.570639, training acc: 0.705234, valid loss: 0.571528, valid acc: 0.704830\n",
      "\n"
     ]
    },
    {
     "name": "stderr",
     "output_type": "stream",
     "text": [
      "train minibatch loop: 100%|██████████| 16751/16751 [01:27<00:00, 190.74it/s, accuracy=0.667, cost=0.499]\n",
      "test minibatch loop: 100%|██████████| 4188/4188 [00:19<00:00, 211.79it/s, accuracy=0.529, cost=0.725]\n",
      "train minibatch loop:   0%|          | 20/16751 [00:00<01:26, 193.63it/s, accuracy=0.719, cost=0.58] "
     ]
    },
    {
     "name": "stdout",
     "output_type": "stream",
     "text": [
      "epoch: 124, pass acc: 0.704830, current acc: 0.705039\n",
      "time taken: 107.59502387046814\n",
      "epoch: 124, training loss: 0.570389, training acc: 0.705444, valid loss: 0.571283, valid acc: 0.705039\n",
      "\n"
     ]
    },
    {
     "name": "stderr",
     "output_type": "stream",
     "text": [
      "train minibatch loop: 100%|██████████| 16751/16751 [01:27<00:00, 190.69it/s, accuracy=0.667, cost=0.498]\n",
      "test minibatch loop: 100%|██████████| 4188/4188 [00:19<00:00, 211.54it/s, accuracy=0.529, cost=0.725]\n",
      "train minibatch loop:   0%|          | 20/16751 [00:00<01:28, 189.59it/s, accuracy=0.719, cost=0.58] "
     ]
    },
    {
     "name": "stdout",
     "output_type": "stream",
     "text": [
      "epoch: 125, pass acc: 0.705039, current acc: 0.705181\n",
      "time taken: 107.6409637928009\n",
      "epoch: 125, training loss: 0.570141, training acc: 0.705693, valid loss: 0.571038, valid acc: 0.705181\n",
      "\n"
     ]
    },
    {
     "name": "stderr",
     "output_type": "stream",
     "text": [
      "train minibatch loop: 100%|██████████| 16751/16751 [01:27<00:00, 190.85it/s, accuracy=0.667, cost=0.497]\n",
      "test minibatch loop: 100%|██████████| 4188/4188 [00:19<00:00, 211.18it/s, accuracy=0.529, cost=0.725]\n",
      "train minibatch loop:   0%|          | 20/16751 [00:00<01:27, 191.64it/s, accuracy=0.719, cost=0.581]"
     ]
    },
    {
     "name": "stdout",
     "output_type": "stream",
     "text": [
      "epoch: 126, pass acc: 0.705181, current acc: 0.705338\n",
      "time taken: 107.60178756713867\n",
      "epoch: 126, training loss: 0.569894, training acc: 0.705939, valid loss: 0.570796, valid acc: 0.705338\n",
      "\n"
     ]
    },
    {
     "name": "stderr",
     "output_type": "stream",
     "text": [
      "train minibatch loop: 100%|██████████| 16751/16751 [01:27<00:00, 190.81it/s, accuracy=0.667, cost=0.496]\n",
      "test minibatch loop: 100%|██████████| 4188/4188 [00:19<00:00, 211.44it/s, accuracy=0.529, cost=0.725]\n",
      "train minibatch loop:   0%|          | 20/16751 [00:00<01:27, 191.59it/s, accuracy=0.719, cost=0.581]"
     ]
    },
    {
     "name": "stdout",
     "output_type": "stream",
     "text": [
      "epoch: 127, pass acc: 0.705338, current acc: 0.705606\n",
      "time taken: 107.59727454185486\n",
      "epoch: 127, training loss: 0.569650, training acc: 0.706152, valid loss: 0.570555, valid acc: 0.705606\n",
      "\n"
     ]
    },
    {
     "name": "stderr",
     "output_type": "stream",
     "text": [
      "train minibatch loop: 100%|██████████| 16751/16751 [01:27<00:00, 190.74it/s, accuracy=0.667, cost=0.496]\n",
      "test minibatch loop: 100%|██████████| 4188/4188 [00:19<00:00, 211.33it/s, accuracy=0.529, cost=0.724]\n",
      "train minibatch loop:   0%|          | 20/16751 [00:00<01:26, 193.65it/s, accuracy=0.719, cost=0.581]"
     ]
    },
    {
     "name": "stdout",
     "output_type": "stream",
     "text": [
      "epoch: 128, pass acc: 0.705606, current acc: 0.705897\n",
      "time taken: 107.63994479179382\n",
      "epoch: 128, training loss: 0.569407, training acc: 0.706357, valid loss: 0.570316, valid acc: 0.705897\n",
      "\n"
     ]
    },
    {
     "name": "stderr",
     "output_type": "stream",
     "text": [
      "train minibatch loop: 100%|██████████| 16751/16751 [01:27<00:00, 190.88it/s, accuracy=0.667, cost=0.495]\n",
      "test minibatch loop: 100%|██████████| 4188/4188 [00:19<00:00, 211.31it/s, accuracy=0.529, cost=0.724]\n",
      "train minibatch loop:   0%|          | 20/16751 [00:00<01:26, 192.66it/s, accuracy=0.719, cost=0.581]"
     ]
    },
    {
     "name": "stdout",
     "output_type": "stream",
     "text": [
      "epoch: 129, pass acc: 0.705897, current acc: 0.706173\n",
      "time taken: 107.5792670249939\n",
      "epoch: 129, training loss: 0.569165, training acc: 0.706569, valid loss: 0.570079, valid acc: 0.706173\n",
      "\n"
     ]
    },
    {
     "name": "stderr",
     "output_type": "stream",
     "text": [
      "train minibatch loop: 100%|██████████| 16751/16751 [01:27<00:00, 190.73it/s, accuracy=0.667, cost=0.494]\n",
      "test minibatch loop: 100%|██████████| 4188/4188 [00:19<00:00, 211.61it/s, accuracy=0.529, cost=0.724]\n",
      "train minibatch loop:   0%|          | 19/16751 [00:00<01:29, 187.03it/s, accuracy=0.719, cost=0.581]"
     ]
    },
    {
     "name": "stdout",
     "output_type": "stream",
     "text": [
      "epoch: 130, pass acc: 0.706173, current acc: 0.706464\n",
      "time taken: 107.61936593055725\n",
      "epoch: 130, training loss: 0.568926, training acc: 0.706827, valid loss: 0.569843, valid acc: 0.706464\n",
      "\n"
     ]
    },
    {
     "name": "stderr",
     "output_type": "stream",
     "text": [
      "train minibatch loop: 100%|██████████| 16751/16751 [01:27<00:00, 190.59it/s, accuracy=0.667, cost=0.493]\n",
      "test minibatch loop: 100%|██████████| 4188/4188 [00:19<00:00, 211.02it/s, accuracy=0.529, cost=0.724]\n",
      "train minibatch loop:   0%|          | 20/16751 [00:00<01:27, 192.19it/s, accuracy=0.719, cost=0.581]"
     ]
    },
    {
     "name": "stdout",
     "output_type": "stream",
     "text": [
      "epoch: 131, pass acc: 0.706464, current acc: 0.706636\n",
      "time taken: 107.73847842216492\n",
      "epoch: 131, training loss: 0.568688, training acc: 0.707081, valid loss: 0.569609, valid acc: 0.706636\n",
      "\n"
     ]
    },
    {
     "name": "stderr",
     "output_type": "stream",
     "text": [
      "train minibatch loop: 100%|██████████| 16751/16751 [01:27<00:00, 190.79it/s, accuracy=0.667, cost=0.492]\n",
      "test minibatch loop: 100%|██████████| 4188/4188 [00:19<00:00, 211.57it/s, accuracy=0.529, cost=0.724]\n",
      "train minibatch loop:   0%|          | 20/16751 [00:00<01:27, 191.08it/s, accuracy=0.719, cost=0.582]"
     ]
    },
    {
     "name": "stdout",
     "output_type": "stream",
     "text": [
      "epoch: 132, pass acc: 0.706636, current acc: 0.706830\n",
      "time taken: 107.59507822990417\n",
      "epoch: 132, training loss: 0.568451, training acc: 0.707332, valid loss: 0.569376, valid acc: 0.706830\n",
      "\n"
     ]
    },
    {
     "name": "stderr",
     "output_type": "stream",
     "text": [
      "train minibatch loop: 100%|██████████| 16751/16751 [01:27<00:00, 190.73it/s, accuracy=0.667, cost=0.492]\n",
      "test minibatch loop: 100%|██████████| 4188/4188 [00:19<00:00, 211.78it/s, accuracy=0.529, cost=0.724]\n",
      "train minibatch loop:   0%|          | 19/16751 [00:00<01:29, 187.12it/s, accuracy=0.719, cost=0.582]"
     ]
    },
    {
     "name": "stdout",
     "output_type": "stream",
     "text": [
      "epoch: 133, pass acc: 0.706830, current acc: 0.707047\n",
      "time taken: 107.60304522514343\n",
      "epoch: 133, training loss: 0.568217, training acc: 0.707532, valid loss: 0.569145, valid acc: 0.707047\n",
      "\n"
     ]
    },
    {
     "name": "stderr",
     "output_type": "stream",
     "text": [
      "train minibatch loop: 100%|██████████| 16751/16751 [01:27<00:00, 190.78it/s, accuracy=0.667, cost=0.491]\n",
      "test minibatch loop: 100%|██████████| 4188/4188 [00:19<00:00, 211.47it/s, accuracy=0.529, cost=0.724]\n",
      "train minibatch loop:   0%|          | 20/16751 [00:00<01:27, 191.40it/s, accuracy=0.719, cost=0.582]"
     ]
    },
    {
     "name": "stdout",
     "output_type": "stream",
     "text": [
      "epoch: 134, pass acc: 0.707047, current acc: 0.707144\n",
      "time taken: 107.60745000839233\n",
      "epoch: 134, training loss: 0.567983, training acc: 0.707760, valid loss: 0.568915, valid acc: 0.707144\n",
      "\n"
     ]
    },
    {
     "name": "stderr",
     "output_type": "stream",
     "text": [
      "train minibatch loop: 100%|██████████| 16751/16751 [01:27<00:00, 190.73it/s, accuracy=0.667, cost=0.49] \n",
      "test minibatch loop: 100%|██████████| 4188/4188 [00:19<00:00, 211.38it/s, accuracy=0.529, cost=0.723]\n",
      "train minibatch loop:   0%|          | 20/16751 [00:00<01:26, 194.34it/s, accuracy=0.625, cost=0.575]"
     ]
    },
    {
     "name": "stdout",
     "output_type": "stream",
     "text": [
      "epoch: 135, pass acc: 0.707144, current acc: 0.707218\n",
      "time taken: 107.63808560371399\n",
      "epoch: 135, training loss: 0.567752, training acc: 0.707987, valid loss: 0.568687, valid acc: 0.707218\n",
      "\n"
     ]
    },
    {
     "name": "stderr",
     "output_type": "stream",
     "text": [
      "train minibatch loop: 100%|██████████| 16751/16751 [01:27<00:00, 190.94it/s, accuracy=0.667, cost=0.489]\n",
      "test minibatch loop: 100%|██████████| 4188/4188 [00:19<00:00, 211.05it/s, accuracy=0.529, cost=0.723]\n",
      "train minibatch loop:   0%|          | 20/16751 [00:00<01:26, 193.04it/s, accuracy=0.625, cost=0.575]"
     ]
    },
    {
     "name": "stdout",
     "output_type": "stream",
     "text": [
      "epoch: 136, pass acc: 0.707218, current acc: 0.707352\n",
      "time taken: 107.57535552978516\n",
      "epoch: 136, training loss: 0.567522, training acc: 0.708196, valid loss: 0.568461, valid acc: 0.707352\n",
      "\n"
     ]
    },
    {
     "name": "stderr",
     "output_type": "stream",
     "text": [
      "train minibatch loop: 100%|██████████| 16751/16751 [01:27<00:00, 190.70it/s, accuracy=0.667, cost=0.489]\n",
      "test minibatch loop: 100%|██████████| 4188/4188 [00:19<00:00, 211.65it/s, accuracy=0.529, cost=0.723]\n",
      "train minibatch loop:   0%|          | 20/16751 [00:00<01:26, 192.59it/s, accuracy=0.625, cost=0.575]"
     ]
    },
    {
     "name": "stdout",
     "output_type": "stream",
     "text": [
      "epoch: 137, pass acc: 0.707352, current acc: 0.707472\n",
      "time taken: 107.62800931930542\n",
      "epoch: 137, training loss: 0.567293, training acc: 0.708402, valid loss: 0.568235, valid acc: 0.707472\n",
      "\n"
     ]
    },
    {
     "name": "stderr",
     "output_type": "stream",
     "text": [
      "train minibatch loop: 100%|██████████| 16751/16751 [01:27<00:00, 190.52it/s, accuracy=0.667, cost=0.488]\n",
      "test minibatch loop: 100%|██████████| 4188/4188 [00:19<00:00, 211.15it/s, accuracy=0.529, cost=0.723]\n",
      "train minibatch loop:   0%|          | 20/16751 [00:00<01:27, 191.27it/s, accuracy=0.719, cost=0.583]"
     ]
    },
    {
     "name": "stdout",
     "output_type": "stream",
     "text": [
      "epoch: 138, pass acc: 0.707472, current acc: 0.707629\n",
      "time taken: 107.76011204719543\n",
      "epoch: 138, training loss: 0.567066, training acc: 0.708596, valid loss: 0.568012, valid acc: 0.707629\n",
      "\n"
     ]
    },
    {
     "name": "stderr",
     "output_type": "stream",
     "text": [
      "train minibatch loop: 100%|██████████| 16751/16751 [01:27<00:00, 190.49it/s, accuracy=0.667, cost=0.487]\n",
      "test minibatch loop: 100%|██████████| 4188/4188 [00:19<00:00, 211.41it/s, accuracy=0.529, cost=0.723]\n",
      "train minibatch loop:   0%|          | 20/16751 [00:00<01:26, 193.32it/s, accuracy=0.719, cost=0.583]"
     ]
    },
    {
     "name": "stdout",
     "output_type": "stream",
     "text": [
      "epoch: 139, pass acc: 0.707629, current acc: 0.707763\n",
      "time taken: 107.74739146232605\n",
      "epoch: 139, training loss: 0.566840, training acc: 0.708706, valid loss: 0.567790, valid acc: 0.707763\n",
      "\n"
     ]
    },
    {
     "name": "stderr",
     "output_type": "stream",
     "text": [
      "train minibatch loop: 100%|██████████| 16751/16751 [01:27<00:00, 190.70it/s, accuracy=0.667, cost=0.486]\n",
      "test minibatch loop: 100%|██████████| 4188/4188 [00:19<00:00, 210.77it/s, accuracy=0.529, cost=0.723]\n",
      "train minibatch loop:   0%|          | 20/16751 [00:00<01:27, 191.48it/s, accuracy=0.719, cost=0.583]"
     ]
    },
    {
     "name": "stdout",
     "output_type": "stream",
     "text": [
      "epoch: 140, pass acc: 0.707763, current acc: 0.708054\n",
      "time taken: 107.7103979587555\n",
      "epoch: 140, training loss: 0.566616, training acc: 0.708868, valid loss: 0.567569, valid acc: 0.708054\n",
      "\n"
     ]
    },
    {
     "name": "stderr",
     "output_type": "stream",
     "text": [
      "train minibatch loop: 100%|██████████| 16751/16751 [01:27<00:00, 190.73it/s, accuracy=0.667, cost=0.486]\n",
      "test minibatch loop: 100%|██████████| 4188/4188 [00:19<00:00, 211.06it/s, accuracy=0.529, cost=0.723]\n",
      "train minibatch loop:   0%|          | 20/16751 [00:00<01:27, 191.87it/s, accuracy=0.719, cost=0.583]"
     ]
    },
    {
     "name": "stdout",
     "output_type": "stream",
     "text": [
      "epoch: 141, pass acc: 0.708054, current acc: 0.708121\n",
      "time taken: 107.66880583763123\n",
      "epoch: 141, training loss: 0.566393, training acc: 0.708980, valid loss: 0.567350, valid acc: 0.708121\n",
      "\n"
     ]
    },
    {
     "name": "stderr",
     "output_type": "stream",
     "text": [
      "train minibatch loop: 100%|██████████| 16751/16751 [01:27<00:00, 190.79it/s, accuracy=0.667, cost=0.485]\n",
      "test minibatch loop: 100%|██████████| 4188/4188 [00:19<00:00, 211.39it/s, accuracy=0.529, cost=0.722]\n",
      "train minibatch loop:   0%|          | 20/16751 [00:00<01:27, 192.22it/s, accuracy=0.719, cost=0.583]"
     ]
    },
    {
     "name": "stdout",
     "output_type": "stream",
     "text": [
      "epoch: 142, pass acc: 0.708121, current acc: 0.708390\n",
      "time taken: 107.61167550086975\n",
      "epoch: 142, training loss: 0.566172, training acc: 0.709131, valid loss: 0.567132, valid acc: 0.708390\n",
      "\n"
     ]
    },
    {
     "name": "stderr",
     "output_type": "stream",
     "text": [
      "train minibatch loop: 100%|██████████| 16751/16751 [01:27<00:00, 190.58it/s, accuracy=0.667, cost=0.484]\n",
      "test minibatch loop: 100%|██████████| 4188/4188 [00:19<00:00, 211.27it/s, accuracy=0.529, cost=0.722]\n",
      "train minibatch loop:   0%|          | 20/16751 [00:00<01:26, 192.81it/s, accuracy=0.625, cost=0.573]"
     ]
    },
    {
     "name": "stdout",
     "output_type": "stream",
     "text": [
      "epoch: 143, pass acc: 0.708390, current acc: 0.708547\n",
      "time taken: 107.71838474273682\n",
      "epoch: 143, training loss: 0.565952, training acc: 0.709332, valid loss: 0.566916, valid acc: 0.708547\n",
      "\n"
     ]
    },
    {
     "name": "stderr",
     "output_type": "stream",
     "text": [
      "train minibatch loop: 100%|██████████| 16751/16751 [01:27<00:00, 190.53it/s, accuracy=0.667, cost=0.483]\n",
      "test minibatch loop: 100%|██████████| 4188/4188 [00:19<00:00, 211.62it/s, accuracy=0.529, cost=0.722]\n",
      "train minibatch loop:   0%|          | 20/16751 [00:00<01:26, 193.77it/s, accuracy=0.625, cost=0.572]"
     ]
    },
    {
     "name": "stdout",
     "output_type": "stream",
     "text": [
      "epoch: 144, pass acc: 0.708547, current acc: 0.708770\n",
      "time taken: 107.71091437339783\n",
      "epoch: 144, training loss: 0.565734, training acc: 0.709521, valid loss: 0.566701, valid acc: 0.708770\n",
      "\n"
     ]
    },
    {
     "name": "stderr",
     "output_type": "stream",
     "text": [
      "train minibatch loop: 100%|██████████| 16751/16751 [01:27<00:00, 190.56it/s, accuracy=0.667, cost=0.483]\n",
      "test minibatch loop: 100%|██████████| 4188/4188 [00:19<00:00, 210.61it/s, accuracy=0.529, cost=0.722]\n",
      "train minibatch loop:   0%|          | 20/16751 [00:00<01:27, 190.96it/s, accuracy=0.719, cost=0.584]"
     ]
    },
    {
     "name": "stdout",
     "output_type": "stream",
     "text": [
      "epoch: 145, pass acc: 0.708770, current acc: 0.708778\n",
      "time taken: 107.78882765769958\n",
      "epoch: 145, training loss: 0.565517, training acc: 0.709743, valid loss: 0.566487, valid acc: 0.708778\n",
      "\n"
     ]
    },
    {
     "name": "stderr",
     "output_type": "stream",
     "text": [
      "train minibatch loop: 100%|██████████| 16751/16751 [01:27<00:00, 190.56it/s, accuracy=0.667, cost=0.482]\n",
      "test minibatch loop: 100%|██████████| 4188/4188 [00:19<00:00, 211.04it/s, accuracy=0.529, cost=0.722]\n",
      "train minibatch loop:   0%|          | 20/16751 [00:00<01:26, 192.73it/s, accuracy=0.719, cost=0.584]"
     ]
    },
    {
     "name": "stdout",
     "output_type": "stream",
     "text": [
      "epoch: 146, pass acc: 0.708778, current acc: 0.708875\n",
      "time taken: 107.75465488433838\n",
      "epoch: 146, training loss: 0.565301, training acc: 0.709971, valid loss: 0.566275, valid acc: 0.708875\n",
      "\n"
     ]
    },
    {
     "name": "stderr",
     "output_type": "stream",
     "text": [
      "train minibatch loop: 100%|██████████| 16751/16751 [01:27<00:00, 190.67it/s, accuracy=0.667, cost=0.481]\n",
      "test minibatch loop: 100%|██████████| 4188/4188 [00:19<00:00, 210.54it/s, accuracy=0.529, cost=0.722]\n",
      "train minibatch loop:   0%|          | 20/16751 [00:00<01:26, 193.68it/s, accuracy=0.625, cost=0.571]"
     ]
    },
    {
     "name": "stdout",
     "output_type": "stream",
     "text": [
      "epoch: 147, pass acc: 0.708875, current acc: 0.709076\n",
      "time taken: 107.66541886329651\n",
      "epoch: 147, training loss: 0.565087, training acc: 0.710183, valid loss: 0.566064, valid acc: 0.709076\n",
      "\n"
     ]
    },
    {
     "name": "stderr",
     "output_type": "stream",
     "text": [
      "train minibatch loop: 100%|██████████| 16751/16751 [01:27<00:00, 190.60it/s, accuracy=0.667, cost=0.48] \n",
      "test minibatch loop: 100%|██████████| 4188/4188 [00:19<00:00, 211.38it/s, accuracy=0.529, cost=0.722]\n",
      "train minibatch loop:   0%|          | 20/16751 [00:00<01:27, 191.49it/s, accuracy=0.719, cost=0.584]"
     ]
    },
    {
     "name": "stdout",
     "output_type": "stream",
     "text": [
      "epoch: 148, pass acc: 0.709076, current acc: 0.709233\n",
      "time taken: 107.70178771018982\n",
      "epoch: 148, training loss: 0.564874, training acc: 0.710372, valid loss: 0.565854, valid acc: 0.709233\n",
      "\n"
     ]
    },
    {
     "name": "stderr",
     "output_type": "stream",
     "text": [
      "train minibatch loop: 100%|██████████| 16751/16751 [01:27<00:00, 190.69it/s, accuracy=0.667, cost=0.48] \n",
      "test minibatch loop: 100%|██████████| 4188/4188 [00:19<00:00, 211.16it/s, accuracy=0.529, cost=0.721]\n",
      "train minibatch loop:   0%|          | 20/16751 [00:00<01:28, 189.57it/s, accuracy=0.719, cost=0.584]"
     ]
    },
    {
     "name": "stdout",
     "output_type": "stream",
     "text": [
      "epoch: 149, pass acc: 0.709233, current acc: 0.709345\n",
      "time taken: 107.68047165870667\n",
      "epoch: 149, training loss: 0.564662, training acc: 0.710558, valid loss: 0.565646, valid acc: 0.709345\n",
      "\n"
     ]
    },
    {
     "name": "stderr",
     "output_type": "stream",
     "text": [
      "train minibatch loop: 100%|██████████| 16751/16751 [01:27<00:00, 190.75it/s, accuracy=0.667, cost=0.479]\n",
      "test minibatch loop: 100%|██████████| 4188/4188 [00:19<00:00, 210.74it/s, accuracy=0.529, cost=0.721]\n",
      "train minibatch loop:   0%|          | 20/16751 [00:00<01:27, 191.53it/s, accuracy=0.625, cost=0.571]"
     ]
    },
    {
     "name": "stdout",
     "output_type": "stream",
     "text": [
      "epoch: 150, pass acc: 0.709345, current acc: 0.709509\n",
      "time taken: 107.68914008140564\n",
      "epoch: 150, training loss: 0.564452, training acc: 0.710676, valid loss: 0.565439, valid acc: 0.709509\n",
      "\n"
     ]
    },
    {
     "name": "stderr",
     "output_type": "stream",
     "text": [
      "train minibatch loop: 100%|██████████| 16751/16751 [01:27<00:00, 190.71it/s, accuracy=0.667, cost=0.478]\n",
      "test minibatch loop: 100%|██████████| 4188/4188 [00:19<00:00, 210.73it/s, accuracy=0.529, cost=0.721]\n",
      "train minibatch loop:   0%|          | 20/16751 [00:00<01:27, 191.05it/s, accuracy=0.719, cost=0.585]"
     ]
    },
    {
     "name": "stdout",
     "output_type": "stream",
     "text": [
      "epoch: 151, pass acc: 0.709509, current acc: 0.709696\n",
      "time taken: 107.70815706253052\n",
      "epoch: 151, training loss: 0.564243, training acc: 0.710814, valid loss: 0.565233, valid acc: 0.709696\n",
      "\n"
     ]
    },
    {
     "name": "stderr",
     "output_type": "stream",
     "text": [
      "train minibatch loop: 100%|██████████| 16751/16751 [01:27<00:00, 190.70it/s, accuracy=0.667, cost=0.477]\n",
      "test minibatch loop: 100%|██████████| 4188/4188 [00:19<00:00, 211.46it/s, accuracy=0.529, cost=0.721]\n",
      "train minibatch loop:   0%|          | 19/16751 [00:00<01:31, 183.65it/s, accuracy=0.719, cost=0.585]"
     ]
    },
    {
     "name": "stdout",
     "output_type": "stream",
     "text": [
      "epoch: 152, pass acc: 0.709696, current acc: 0.709838\n",
      "time taken: 107.6477632522583\n",
      "epoch: 152, training loss: 0.564035, training acc: 0.711049, valid loss: 0.565029, valid acc: 0.709838\n",
      "\n"
     ]
    },
    {
     "name": "stderr",
     "output_type": "stream",
     "text": [
      "train minibatch loop: 100%|██████████| 16751/16751 [01:27<00:00, 190.51it/s, accuracy=0.667, cost=0.477]\n",
      "test minibatch loop: 100%|██████████| 4188/4188 [00:19<00:00, 211.55it/s, accuracy=0.529, cost=0.721]\n",
      "train minibatch loop:   0%|          | 20/16751 [00:00<01:26, 193.54it/s, accuracy=0.625, cost=0.57] "
     ]
    },
    {
     "name": "stdout",
     "output_type": "stream",
     "text": [
      "epoch: 153, pass acc: 0.709838, current acc: 0.709979\n",
      "time taken: 107.72495102882385\n",
      "epoch: 153, training loss: 0.563829, training acc: 0.711230, valid loss: 0.564825, valid acc: 0.709979\n",
      "\n"
     ]
    },
    {
     "name": "stderr",
     "output_type": "stream",
     "text": [
      "train minibatch loop: 100%|██████████| 16751/16751 [01:27<00:00, 190.57it/s, accuracy=0.667, cost=0.476]\n",
      "test minibatch loop: 100%|██████████| 4188/4188 [00:19<00:00, 211.22it/s, accuracy=0.529, cost=0.721]\n",
      "train minibatch loop:   0%|          | 20/16751 [00:00<01:27, 190.86it/s, accuracy=0.719, cost=0.585]"
     ]
    },
    {
     "name": "stdout",
     "output_type": "stream",
     "text": [
      "epoch: 154, pass acc: 0.709979, current acc: 0.710263\n",
      "time taken: 107.72863411903381\n",
      "epoch: 154, training loss: 0.563624, training acc: 0.711407, valid loss: 0.564624, valid acc: 0.710263\n",
      "\n"
     ]
    },
    {
     "name": "stderr",
     "output_type": "stream",
     "text": [
      "train minibatch loop: 100%|██████████| 16751/16751 [01:27<00:00, 190.62it/s, accuracy=0.667, cost=0.475]\n",
      "test minibatch loop: 100%|██████████| 4188/4188 [00:19<00:00, 211.02it/s, accuracy=0.529, cost=0.721]\n",
      "train minibatch loop:   0%|          | 20/16751 [00:00<01:26, 193.13it/s, accuracy=0.625, cost=0.569]"
     ]
    },
    {
     "name": "stdout",
     "output_type": "stream",
     "text": [
      "epoch: 155, pass acc: 0.710263, current acc: 0.710427\n",
      "time taken: 107.72437310218811\n",
      "epoch: 155, training loss: 0.563420, training acc: 0.711562, valid loss: 0.564423, valid acc: 0.710427\n",
      "\n"
     ]
    },
    {
     "name": "stderr",
     "output_type": "stream",
     "text": [
      "train minibatch loop: 100%|██████████| 16751/16751 [01:27<00:00, 190.74it/s, accuracy=0.667, cost=0.474]\n",
      "test minibatch loop: 100%|██████████| 4188/4188 [00:19<00:00, 211.13it/s, accuracy=0.529, cost=0.72] \n",
      "train minibatch loop:   0%|          | 20/16751 [00:00<01:27, 192.18it/s, accuracy=0.719, cost=0.585]"
     ]
    },
    {
     "name": "stdout",
     "output_type": "stream",
     "text": [
      "epoch: 156, pass acc: 0.710427, current acc: 0.710711\n",
      "time taken: 107.6583023071289\n",
      "epoch: 156, training loss: 0.563217, training acc: 0.711722, valid loss: 0.564223, valid acc: 0.710711\n",
      "\n"
     ]
    },
    {
     "name": "stderr",
     "output_type": "stream",
     "text": [
      "train minibatch loop: 100%|██████████| 16751/16751 [01:27<00:00, 190.65it/s, accuracy=0.667, cost=0.474]\n",
      "test minibatch loop: 100%|██████████| 4188/4188 [00:19<00:00, 211.24it/s, accuracy=0.529, cost=0.72] \n",
      "train minibatch loop:   0%|          | 20/16751 [00:00<01:26, 193.39it/s, accuracy=0.719, cost=0.585]"
     ]
    },
    {
     "name": "stdout",
     "output_type": "stream",
     "text": [
      "epoch: 157, pass acc: 0.710711, current acc: 0.710994\n",
      "time taken: 107.69064044952393\n",
      "epoch: 157, training loss: 0.563016, training acc: 0.711875, valid loss: 0.564025, valid acc: 0.710994\n",
      "\n"
     ]
    },
    {
     "name": "stderr",
     "output_type": "stream",
     "text": [
      "train minibatch loop: 100%|██████████| 16751/16751 [01:27<00:00, 193.18it/s, accuracy=0.667, cost=0.473]\n",
      "test minibatch loop: 100%|██████████| 4188/4188 [00:19<00:00, 211.41it/s, accuracy=0.529, cost=0.72] \n",
      "train minibatch loop:   0%|          | 20/16751 [00:00<01:27, 191.55it/s, accuracy=0.719, cost=0.586]"
     ]
    },
    {
     "name": "stdout",
     "output_type": "stream",
     "text": [
      "epoch: 158, pass acc: 0.710994, current acc: 0.711106\n",
      "time taken: 107.6977527141571\n",
      "epoch: 158, training loss: 0.562816, training acc: 0.711944, valid loss: 0.563828, valid acc: 0.711106\n",
      "\n"
     ]
    },
    {
     "name": "stderr",
     "output_type": "stream",
     "text": [
      "train minibatch loop: 100%|██████████| 16751/16751 [01:27<00:00, 190.56it/s, accuracy=0.667, cost=0.472]\n",
      "test minibatch loop: 100%|██████████| 4188/4188 [00:19<00:00, 211.63it/s, accuracy=0.529, cost=0.72] \n",
      "train minibatch loop:   0%|          | 20/16751 [00:00<01:27, 192.00it/s, accuracy=0.719, cost=0.586]"
     ]
    },
    {
     "name": "stdout",
     "output_type": "stream",
     "text": [
      "epoch: 159, pass acc: 0.711106, current acc: 0.711300\n",
      "time taken: 107.69594931602478\n",
      "epoch: 159, training loss: 0.562617, training acc: 0.712081, valid loss: 0.563632, valid acc: 0.711300\n",
      "\n"
     ]
    },
    {
     "name": "stderr",
     "output_type": "stream",
     "text": [
      "train minibatch loop: 100%|██████████| 16751/16751 [01:27<00:00, 190.72it/s, accuracy=0.667, cost=0.472]\n",
      "test minibatch loop: 100%|██████████| 4188/4188 [00:19<00:00, 211.20it/s, accuracy=0.529, cost=0.72] \n",
      "train minibatch loop:   0%|          | 19/16751 [00:00<01:28, 189.70it/s, accuracy=0.719, cost=0.586]"
     ]
    },
    {
     "name": "stdout",
     "output_type": "stream",
     "text": [
      "epoch: 160, pass acc: 0.711300, current acc: 0.711449\n",
      "time taken: 107.6613199710846\n",
      "epoch: 160, training loss: 0.562419, training acc: 0.712267, valid loss: 0.563438, valid acc: 0.711449\n",
      "\n"
     ]
    },
    {
     "name": "stderr",
     "output_type": "stream",
     "text": [
      "train minibatch loop: 100%|██████████| 16751/16751 [01:27<00:00, 190.73it/s, accuracy=0.667, cost=0.471]\n",
      "test minibatch loop: 100%|██████████| 4188/4188 [00:19<00:00, 210.90it/s, accuracy=0.529, cost=0.72] \n",
      "train minibatch loop:   0%|          | 19/16751 [00:00<01:30, 185.88it/s, accuracy=0.719, cost=0.586]"
     ]
    },
    {
     "name": "stdout",
     "output_type": "stream",
     "text": [
      "epoch: 161, pass acc: 0.711449, current acc: 0.711539\n",
      "time taken: 107.68718075752258\n",
      "epoch: 161, training loss: 0.562223, training acc: 0.712433, valid loss: 0.563244, valid acc: 0.711539\n",
      "\n"
     ]
    },
    {
     "name": "stderr",
     "output_type": "stream",
     "text": [
      "train minibatch loop: 100%|██████████| 16751/16751 [01:27<00:00, 193.19it/s, accuracy=0.667, cost=0.47] \n",
      "test minibatch loop: 100%|██████████| 4188/4188 [00:19<00:00, 211.48it/s, accuracy=0.529, cost=0.72] \n",
      "train minibatch loop:   0%|          | 20/16751 [00:00<01:27, 190.76it/s, accuracy=0.719, cost=0.586]"
     ]
    },
    {
     "name": "stdout",
     "output_type": "stream",
     "text": [
      "epoch: 162, pass acc: 0.711539, current acc: 0.711681\n",
      "time taken: 107.67088198661804\n",
      "epoch: 162, training loss: 0.562027, training acc: 0.712592, valid loss: 0.563052, valid acc: 0.711681\n",
      "\n"
     ]
    },
    {
     "name": "stderr",
     "output_type": "stream",
     "text": [
      "train minibatch loop: 100%|██████████| 16751/16751 [01:27<00:00, 190.65it/s, accuracy=0.667, cost=0.47] \n",
      "test minibatch loop: 100%|██████████| 4188/4188 [00:19<00:00, 211.52it/s, accuracy=0.529, cost=0.719]\n",
      "train minibatch loop:   0%|          | 20/16751 [00:00<01:27, 191.09it/s, accuracy=0.719, cost=0.586]"
     ]
    },
    {
     "name": "stdout",
     "output_type": "stream",
     "text": [
      "epoch: 163, pass acc: 0.711681, current acc: 0.711763\n",
      "time taken: 107.66264700889587\n",
      "epoch: 163, training loss: 0.561833, training acc: 0.712724, valid loss: 0.562861, valid acc: 0.711763\n",
      "\n"
     ]
    },
    {
     "name": "stderr",
     "output_type": "stream",
     "text": [
      "train minibatch loop: 100%|██████████| 16751/16751 [01:27<00:00, 190.38it/s, accuracy=0.667, cost=0.469]\n",
      "test minibatch loop: 100%|██████████| 4188/4188 [00:19<00:00, 211.18it/s, accuracy=0.529, cost=0.719]\n",
      "train minibatch loop:   0%|          | 20/16751 [00:00<01:26, 193.23it/s, accuracy=0.625, cost=0.567]"
     ]
    },
    {
     "name": "stdout",
     "output_type": "stream",
     "text": [
      "epoch: 164, pass acc: 0.711763, current acc: 0.711972\n",
      "time taken: 107.81935429573059\n",
      "epoch: 164, training loss: 0.561640, training acc: 0.712842, valid loss: 0.562671, valid acc: 0.711972\n",
      "\n"
     ]
    },
    {
     "name": "stderr",
     "output_type": "stream",
     "text": [
      "train minibatch loop: 100%|██████████| 16751/16751 [01:27<00:00, 190.82it/s, accuracy=0.667, cost=0.468]\n",
      "test minibatch loop: 100%|██████████| 4188/4188 [00:19<00:00, 211.21it/s, accuracy=0.529, cost=0.719]\n",
      "train minibatch loop:   0%|          | 19/16751 [00:00<01:30, 184.97it/s, accuracy=0.719, cost=0.587]"
     ]
    },
    {
     "name": "stdout",
     "output_type": "stream",
     "text": [
      "epoch: 165, pass acc: 0.711972, current acc: 0.712069\n",
      "time taken: 107.61496877670288\n",
      "epoch: 165, training loss: 0.561448, training acc: 0.712995, valid loss: 0.562482, valid acc: 0.712069\n",
      "\n"
     ]
    },
    {
     "name": "stderr",
     "output_type": "stream",
     "text": [
      "train minibatch loop: 100%|██████████| 16751/16751 [01:27<00:00, 190.87it/s, accuracy=0.667, cost=0.467]\n",
      "test minibatch loop: 100%|██████████| 4188/4188 [00:19<00:00, 211.59it/s, accuracy=0.529, cost=0.719]\n",
      "train minibatch loop:   0%|          | 20/16751 [00:00<01:27, 191.43it/s, accuracy=0.719, cost=0.587]"
     ]
    },
    {
     "name": "stdout",
     "output_type": "stream",
     "text": [
      "epoch: 166, pass acc: 0.712069, current acc: 0.712263\n",
      "time taken: 107.55763673782349\n",
      "epoch: 166, training loss: 0.561258, training acc: 0.713114, valid loss: 0.562294, valid acc: 0.712263\n",
      "\n"
     ]
    },
    {
     "name": "stderr",
     "output_type": "stream",
     "text": [
      "train minibatch loop: 100%|██████████| 16751/16751 [01:27<00:00, 190.80it/s, accuracy=0.667, cost=0.467]\n",
      "test minibatch loop: 100%|██████████| 4188/4188 [00:19<00:00, 211.61it/s, accuracy=0.529, cost=0.719]\n",
      "train minibatch loop:   0%|          | 19/16751 [00:00<01:28, 189.91it/s, accuracy=0.719, cost=0.587]"
     ]
    },
    {
     "name": "stdout",
     "output_type": "stream",
     "text": [
      "epoch: 167, pass acc: 0.712263, current acc: 0.712270\n",
      "time taken: 107.58727216720581\n",
      "epoch: 167, training loss: 0.561068, training acc: 0.713263, valid loss: 0.562107, valid acc: 0.712270\n",
      "\n"
     ]
    },
    {
     "name": "stderr",
     "output_type": "stream",
     "text": [
      "train minibatch loop: 100%|██████████| 16751/16751 [01:27<00:00, 190.68it/s, accuracy=0.667, cost=0.466]\n",
      "test minibatch loop: 100%|██████████| 4188/4188 [00:19<00:00, 211.44it/s, accuracy=0.529, cost=0.719]\n",
      "train minibatch loop:   0%|          | 20/16751 [00:00<01:26, 193.01it/s, accuracy=0.719, cost=0.587]"
     ]
    },
    {
     "name": "stdout",
     "output_type": "stream",
     "text": [
      "epoch: 168, pass acc: 0.712270, current acc: 0.712293\n",
      "time taken: 107.65625882148743\n",
      "epoch: 168, training loss: 0.560879, training acc: 0.713347, valid loss: 0.561922, valid acc: 0.712293\n",
      "\n"
     ]
    },
    {
     "name": "stderr",
     "output_type": "stream",
     "text": [
      "train minibatch loop: 100%|██████████| 16751/16751 [01:27<00:00, 190.64it/s, accuracy=0.667, cost=0.465]\n",
      "test minibatch loop: 100%|██████████| 4188/4188 [00:19<00:00, 211.38it/s, accuracy=0.529, cost=0.719]\n",
      "train minibatch loop:   0%|          | 20/16751 [00:00<01:26, 194.25it/s, accuracy=0.719, cost=0.587]"
     ]
    },
    {
     "name": "stdout",
     "output_type": "stream",
     "text": [
      "epoch: 169, pass acc: 0.712293, current acc: 0.712561\n",
      "time taken: 107.6815824508667\n",
      "epoch: 169, training loss: 0.560692, training acc: 0.713515, valid loss: 0.561737, valid acc: 0.712561\n",
      "\n"
     ]
    },
    {
     "name": "stderr",
     "output_type": "stream",
     "text": [
      "train minibatch loop: 100%|██████████| 16751/16751 [01:27<00:00, 190.65it/s, accuracy=0.667, cost=0.465]\n",
      "test minibatch loop: 100%|██████████| 4188/4188 [00:19<00:00, 210.81it/s, accuracy=0.529, cost=0.718]\n",
      "train minibatch loop:   0%|          | 20/16751 [00:00<01:27, 191.96it/s, accuracy=0.719, cost=0.587]"
     ]
    },
    {
     "name": "stdout",
     "output_type": "stream",
     "text": [
      "epoch: 170, pass acc: 0.712561, current acc: 0.712800\n",
      "time taken: 107.73226022720337\n",
      "epoch: 170, training loss: 0.560506, training acc: 0.713655, valid loss: 0.561554, valid acc: 0.712800\n",
      "\n"
     ]
    },
    {
     "name": "stderr",
     "output_type": "stream",
     "text": [
      "train minibatch loop: 100%|██████████| 16751/16751 [01:27<00:00, 190.67it/s, accuracy=0.667, cost=0.464]\n",
      "test minibatch loop: 100%|██████████| 4188/4188 [00:19<00:00, 211.55it/s, accuracy=0.529, cost=0.718]\n",
      "train minibatch loop:   0%|          | 20/16751 [00:00<01:26, 193.20it/s, accuracy=0.719, cost=0.587]"
     ]
    },
    {
     "name": "stdout",
     "output_type": "stream",
     "text": [
      "epoch: 171, pass acc: 0.712800, current acc: 0.712882\n",
      "time taken: 107.6500129699707\n",
      "epoch: 171, training loss: 0.560321, training acc: 0.713883, valid loss: 0.561372, valid acc: 0.712882\n",
      "\n"
     ]
    },
    {
     "name": "stderr",
     "output_type": "stream",
     "text": [
      "train minibatch loop: 100%|██████████| 16751/16751 [01:27<00:00, 190.58it/s, accuracy=0.667, cost=0.463]\n",
      "test minibatch loop: 100%|██████████| 4188/4188 [00:19<00:00, 211.22it/s, accuracy=0.529, cost=0.718]\n",
      "train minibatch loop:   0%|          | 20/16751 [00:00<01:26, 193.12it/s, accuracy=0.625, cost=0.565]"
     ]
    },
    {
     "name": "stdout",
     "output_type": "stream",
     "text": [
      "epoch: 172, pass acc: 0.712882, current acc: 0.713054\n",
      "time taken: 107.72283983230591\n",
      "epoch: 172, training loss: 0.560136, training acc: 0.714032, valid loss: 0.561190, valid acc: 0.713054\n",
      "\n"
     ]
    },
    {
     "name": "stderr",
     "output_type": "stream",
     "text": [
      "train minibatch loop: 100%|██████████| 16751/16751 [01:27<00:00, 190.59it/s, accuracy=0.667, cost=0.463]\n",
      "test minibatch loop: 100%|██████████| 4188/4188 [00:19<00:00, 211.60it/s, accuracy=0.529, cost=0.718]\n",
      "train minibatch loop:   0%|          | 20/16751 [00:00<01:27, 191.82it/s, accuracy=0.719, cost=0.588]"
     ]
    },
    {
     "name": "stdout",
     "output_type": "stream",
     "text": [
      "epoch: 173, pass acc: 0.713054, current acc: 0.713151\n",
      "time taken: 107.68479204177856\n",
      "epoch: 173, training loss: 0.559953, training acc: 0.714215, valid loss: 0.561010, valid acc: 0.713151\n",
      "\n"
     ]
    },
    {
     "name": "stderr",
     "output_type": "stream",
     "text": [
      "train minibatch loop: 100%|██████████| 16751/16751 [01:27<00:00, 190.63it/s, accuracy=0.667, cost=0.462]\n",
      "test minibatch loop: 100%|██████████| 4188/4188 [00:19<00:00, 211.16it/s, accuracy=0.529, cost=0.718]\n",
      "train minibatch loop:   0%|          | 19/16751 [00:00<01:28, 188.80it/s, accuracy=0.719, cost=0.588]"
     ]
    },
    {
     "name": "stdout",
     "output_type": "stream",
     "text": [
      "epoch: 174, pass acc: 0.713151, current acc: 0.713300\n",
      "time taken: 107.70716571807861\n",
      "epoch: 174, training loss: 0.559771, training acc: 0.714338, valid loss: 0.560831, valid acc: 0.713300\n",
      "\n"
     ]
    },
    {
     "name": "stderr",
     "output_type": "stream",
     "text": [
      "train minibatch loop: 100%|██████████| 16751/16751 [01:27<00:00, 190.50it/s, accuracy=0.667, cost=0.461]\n",
      "test minibatch loop: 100%|██████████| 4188/4188 [00:19<00:00, 210.75it/s, accuracy=0.529, cost=0.718]\n",
      "train minibatch loop:   0%|          | 20/16751 [00:00<01:25, 194.99it/s, accuracy=0.781, cost=0.479]"
     ]
    },
    {
     "name": "stdout",
     "output_type": "stream",
     "text": [
      "epoch: 175, pass acc: 0.713300, current acc: 0.713509\n",
      "time taken: 107.80689263343811\n",
      "epoch: 175, training loss: 0.559590, training acc: 0.714498, valid loss: 0.560653, valid acc: 0.713509\n",
      "\n"
     ]
    },
    {
     "name": "stderr",
     "output_type": "stream",
     "text": [
      "train minibatch loop: 100%|██████████| 16751/16751 [01:27<00:00, 190.76it/s, accuracy=0.667, cost=0.461]\n",
      "test minibatch loop: 100%|██████████| 4188/4188 [00:19<00:00, 211.52it/s, accuracy=0.529, cost=0.718]\n",
      "train minibatch loop:   0%|          | 20/16751 [00:00<01:26, 192.74it/s, accuracy=0.625, cost=0.564]"
     ]
    },
    {
     "name": "stdout",
     "output_type": "stream",
     "text": [
      "epoch: 176, pass acc: 0.713509, current acc: 0.713606\n",
      "time taken: 107.61398911476135\n",
      "epoch: 176, training loss: 0.559410, training acc: 0.714642, valid loss: 0.560475, valid acc: 0.713606\n",
      "\n"
     ]
    },
    {
     "name": "stderr",
     "output_type": "stream",
     "text": [
      "train minibatch loop: 100%|██████████| 16751/16751 [01:27<00:00, 190.51it/s, accuracy=0.667, cost=0.46] \n",
      "test minibatch loop: 100%|██████████| 4188/4188 [00:19<00:00, 211.25it/s, accuracy=0.529, cost=0.717]\n",
      "train minibatch loop:   0%|          | 17/16751 [00:00<01:42, 163.94it/s, accuracy=0.594, cost=0.656]"
     ]
    },
    {
     "name": "stdout",
     "output_type": "stream",
     "text": [
      "epoch: 177, pass acc: 0.713606, current acc: 0.713830\n",
      "time taken: 107.75412154197693\n",
      "epoch: 177, training loss: 0.559231, training acc: 0.714750, valid loss: 0.560299, valid acc: 0.713830\n",
      "\n"
     ]
    },
    {
     "name": "stderr",
     "output_type": "stream",
     "text": [
      "train minibatch loop: 100%|██████████| 16751/16751 [01:27<00:00, 190.39it/s, accuracy=0.667, cost=0.46] \n",
      "test minibatch loop: 100%|██████████| 4188/4188 [00:19<00:00, 211.60it/s, accuracy=0.529, cost=0.717]\n",
      "train minibatch loop:   0%|          | 19/16751 [00:00<01:29, 185.95it/s, accuracy=0.719, cost=0.588]"
     ]
    },
    {
     "name": "stdout",
     "output_type": "stream",
     "text": [
      "epoch: 178, pass acc: 0.713830, current acc: 0.713972\n",
      "time taken: 107.7749593257904\n",
      "epoch: 178, training loss: 0.559053, training acc: 0.714890, valid loss: 0.560124, valid acc: 0.713972\n",
      "\n"
     ]
    },
    {
     "name": "stderr",
     "output_type": "stream",
     "text": [
      "train minibatch loop: 100%|██████████| 16751/16751 [01:27<00:00, 190.68it/s, accuracy=0.667, cost=0.459]\n",
      "test minibatch loop: 100%|██████████| 4188/4188 [00:19<00:00, 211.19it/s, accuracy=0.529, cost=0.717]\n",
      "train minibatch loop:   0%|          | 20/16751 [00:00<01:27, 191.10it/s, accuracy=0.719, cost=0.588]"
     ]
    },
    {
     "name": "stdout",
     "output_type": "stream",
     "text": [
      "epoch: 179, pass acc: 0.713972, current acc: 0.714114\n",
      "time taken: 107.68057012557983\n",
      "epoch: 179, training loss: 0.558876, training acc: 0.715032, valid loss: 0.559950, valid acc: 0.714114\n",
      "\n"
     ]
    },
    {
     "name": "stderr",
     "output_type": "stream",
     "text": [
      "train minibatch loop: 100%|██████████| 16751/16751 [01:27<00:00, 190.62it/s, accuracy=0.667, cost=0.458]\n",
      "test minibatch loop: 100%|██████████| 4188/4188 [00:19<00:00, 211.05it/s, accuracy=0.529, cost=0.717]\n",
      "train minibatch loop:   0%|          | 20/16751 [00:00<01:27, 191.79it/s, accuracy=0.625, cost=0.563]"
     ]
    },
    {
     "name": "stdout",
     "output_type": "stream",
     "text": [
      "epoch: 180, pass acc: 0.714114, current acc: 0.714338\n",
      "time taken: 107.72129654884338\n",
      "epoch: 180, training loss: 0.558700, training acc: 0.715174, valid loss: 0.559777, valid acc: 0.714338\n",
      "\n"
     ]
    },
    {
     "name": "stderr",
     "output_type": "stream",
     "text": [
      "train minibatch loop: 100%|██████████| 16751/16751 [01:27<00:00, 190.57it/s, accuracy=0.667, cost=0.458]\n",
      "test minibatch loop: 100%|██████████| 4188/4188 [00:19<00:00, 211.13it/s, accuracy=0.529, cost=0.717]\n",
      "train minibatch loop:   0%|          | 20/16751 [00:00<01:27, 191.87it/s, accuracy=0.719, cost=0.589]"
     ]
    },
    {
     "name": "stdout",
     "output_type": "stream",
     "text": [
      "epoch: 181, pass acc: 0.714338, current acc: 0.714435\n",
      "time taken: 107.73836421966553\n",
      "epoch: 181, training loss: 0.558526, training acc: 0.715299, valid loss: 0.559605, valid acc: 0.714435\n",
      "\n"
     ]
    },
    {
     "name": "stderr",
     "output_type": "stream",
     "text": [
      "train minibatch loop: 100%|██████████| 16751/16751 [01:27<00:00, 190.67it/s, accuracy=0.667, cost=0.457]\n",
      "test minibatch loop: 100%|██████████| 4188/4188 [00:19<00:00, 211.68it/s, accuracy=0.529, cost=0.717]\n",
      "train minibatch loop:   0%|          | 20/16751 [00:00<01:27, 191.97it/s, accuracy=0.719, cost=0.589]"
     ]
    },
    {
     "name": "stdout",
     "output_type": "stream",
     "text": [
      "epoch: 182, pass acc: 0.714435, current acc: 0.714532\n",
      "time taken: 107.64005160331726\n",
      "epoch: 182, training loss: 0.558352, training acc: 0.715495, valid loss: 0.559433, valid acc: 0.714532\n",
      "\n"
     ]
    },
    {
     "name": "stderr",
     "output_type": "stream",
     "text": [
      "train minibatch loop: 100%|██████████| 16751/16751 [01:27<00:00, 190.57it/s, accuracy=0.667, cost=0.456]\n",
      "test minibatch loop: 100%|██████████| 4188/4188 [00:19<00:00, 211.37it/s, accuracy=0.529, cost=0.717]\n",
      "train minibatch loop:   0%|          | 20/16751 [00:00<01:27, 191.02it/s, accuracy=0.625, cost=0.562]"
     ]
    },
    {
     "name": "stdout",
     "output_type": "stream",
     "text": [
      "epoch: 183, pass acc: 0.714532, current acc: 0.714629\n",
      "time taken: 107.71373867988586\n",
      "epoch: 183, training loss: 0.558179, training acc: 0.715586, valid loss: 0.559263, valid acc: 0.714629\n",
      "\n"
     ]
    },
    {
     "name": "stderr",
     "output_type": "stream",
     "text": [
      "train minibatch loop: 100%|██████████| 16751/16751 [01:27<00:00, 190.52it/s, accuracy=0.667, cost=0.456]\n",
      "test minibatch loop: 100%|██████████| 4188/4188 [00:19<00:00, 209.73it/s, accuracy=0.529, cost=0.716]\n",
      "train minibatch loop:   0%|          | 20/16751 [00:00<01:27, 191.37it/s, accuracy=0.719, cost=0.589]"
     ]
    },
    {
     "name": "stdout",
     "output_type": "stream",
     "text": [
      "epoch: 184, pass acc: 0.714629, current acc: 0.714800\n",
      "time taken: 107.76271986961365\n",
      "epoch: 184, training loss: 0.558007, training acc: 0.715717, valid loss: 0.559094, valid acc: 0.714800\n",
      "\n"
     ]
    },
    {
     "name": "stderr",
     "output_type": "stream",
     "text": [
      "train minibatch loop: 100%|██████████| 16751/16751 [01:27<00:00, 190.79it/s, accuracy=0.667, cost=0.455]\n",
      "test minibatch loop: 100%|██████████| 4188/4188 [00:19<00:00, 210.89it/s, accuracy=0.529, cost=0.716]\n",
      "train minibatch loop:   0%|          | 20/16751 [00:00<01:26, 193.16it/s, accuracy=0.719, cost=0.589]"
     ]
    },
    {
     "name": "stdout",
     "output_type": "stream",
     "text": [
      "epoch: 185, pass acc: 0.714800, current acc: 0.714987\n",
      "time taken: 107.643625497818\n",
      "epoch: 185, training loss: 0.557835, training acc: 0.715855, valid loss: 0.558925, valid acc: 0.714987\n",
      "\n"
     ]
    },
    {
     "name": "stderr",
     "output_type": "stream",
     "text": [
      "train minibatch loop: 100%|██████████| 16751/16751 [01:27<00:00, 190.97it/s, accuracy=0.667, cost=0.454]\n",
      "test minibatch loop: 100%|██████████| 4188/4188 [00:19<00:00, 211.73it/s, accuracy=0.529, cost=0.716]\n",
      "train minibatch loop:   0%|          | 20/16751 [00:00<01:27, 192.13it/s, accuracy=0.719, cost=0.589]"
     ]
    },
    {
     "name": "stdout",
     "output_type": "stream",
     "text": [
      "epoch: 186, pass acc: 0.714987, current acc: 0.715166\n",
      "time taken: 107.49872827529907\n",
      "epoch: 186, training loss: 0.557665, training acc: 0.715948, valid loss: 0.558758, valid acc: 0.715166\n",
      "\n"
     ]
    },
    {
     "name": "stderr",
     "output_type": "stream",
     "text": [
      "train minibatch loop: 100%|██████████| 16751/16751 [01:27<00:00, 190.59it/s, accuracy=0.667, cost=0.454]\n",
      "test minibatch loop: 100%|██████████| 4188/4188 [00:19<00:00, 211.55it/s, accuracy=0.529, cost=0.716]\n",
      "train minibatch loop:   0%|          | 19/16751 [00:00<01:29, 186.74it/s, accuracy=0.719, cost=0.589]"
     ]
    },
    {
     "name": "stdout",
     "output_type": "stream",
     "text": [
      "epoch: 187, pass acc: 0.715166, current acc: 0.715278\n",
      "time taken: 107.69055104255676\n",
      "epoch: 187, training loss: 0.557496, training acc: 0.716066, valid loss: 0.558591, valid acc: 0.715278\n",
      "\n"
     ]
    },
    {
     "name": "stderr",
     "output_type": "stream",
     "text": [
      "train minibatch loop: 100%|██████████| 16751/16751 [01:27<00:00, 190.67it/s, accuracy=0.667, cost=0.453]\n",
      "test minibatch loop: 100%|██████████| 4188/4188 [00:19<00:00, 211.55it/s, accuracy=0.529, cost=0.716]\n",
      "train minibatch loop:   0%|          | 20/16751 [00:00<01:27, 191.61it/s, accuracy=0.719, cost=0.589]"
     ]
    },
    {
     "name": "stdout",
     "output_type": "stream",
     "text": [
      "epoch: 188, pass acc: 0.715278, current acc: 0.715457\n",
      "time taken: 107.65347504615784\n",
      "epoch: 188, training loss: 0.557328, training acc: 0.716217, valid loss: 0.558426, valid acc: 0.715457\n",
      "\n"
     ]
    },
    {
     "name": "stderr",
     "output_type": "stream",
     "text": [
      "train minibatch loop: 100%|██████████| 16751/16751 [01:27<00:00, 190.69it/s, accuracy=0.667, cost=0.453]\n",
      "test minibatch loop: 100%|██████████| 4188/4188 [00:19<00:00, 210.84it/s, accuracy=0.529, cost=0.716]\n",
      "train minibatch loop:   0%|          | 20/16751 [00:00<01:27, 192.04it/s, accuracy=0.719, cost=0.59] "
     ]
    },
    {
     "name": "stdout",
     "output_type": "stream",
     "text": [
      "epoch: 189, pass acc: 0.715457, current acc: 0.715599\n",
      "time taken: 107.70959854125977\n",
      "epoch: 189, training loss: 0.557160, training acc: 0.716331, valid loss: 0.558261, valid acc: 0.715599\n",
      "\n"
     ]
    },
    {
     "name": "stderr",
     "output_type": "stream",
     "text": [
      "train minibatch loop: 100%|██████████| 16751/16751 [01:27<00:00, 190.81it/s, accuracy=0.667, cost=0.452]\n",
      "test minibatch loop: 100%|██████████| 4188/4188 [00:19<00:00, 209.96it/s, accuracy=0.529, cost=0.716]\n",
      "train minibatch loop:   0%|          | 20/16751 [00:00<01:27, 190.87it/s, accuracy=0.719, cost=0.59] "
     ]
    },
    {
     "name": "stdout",
     "output_type": "stream",
     "text": [
      "epoch: 190, pass acc: 0.715599, current acc: 0.715815\n",
      "time taken: 107.65304231643677\n",
      "epoch: 190, training loss: 0.556994, training acc: 0.716452, valid loss: 0.558097, valid acc: 0.715815\n",
      "\n"
     ]
    },
    {
     "name": "stderr",
     "output_type": "stream",
     "text": [
      "train minibatch loop: 100%|██████████| 16751/16751 [01:27<00:00, 190.92it/s, accuracy=0.667, cost=0.451]\n",
      "test minibatch loop: 100%|██████████| 4188/4188 [00:19<00:00, 211.06it/s, accuracy=0.529, cost=0.715]\n",
      "train minibatch loop:   0%|          | 20/16751 [00:00<01:26, 192.67it/s, accuracy=0.719, cost=0.59] "
     ]
    },
    {
     "name": "stdout",
     "output_type": "stream",
     "text": [
      "epoch: 191, pass acc: 0.715815, current acc: 0.715897\n",
      "time taken: 107.58271789550781\n",
      "epoch: 191, training loss: 0.556828, training acc: 0.716586, valid loss: 0.557934, valid acc: 0.715897\n",
      "\n"
     ]
    },
    {
     "name": "stderr",
     "output_type": "stream",
     "text": [
      "train minibatch loop: 100%|██████████| 16751/16751 [01:27<00:00, 190.70it/s, accuracy=0.667, cost=0.451]\n",
      "test minibatch loop: 100%|██████████| 4188/4188 [00:19<00:00, 211.22it/s, accuracy=0.529, cost=0.715]\n",
      "train minibatch loop:   0%|          | 20/16751 [00:00<01:27, 191.79it/s, accuracy=0.719, cost=0.59] "
     ]
    },
    {
     "name": "stdout",
     "output_type": "stream",
     "text": [
      "epoch: 192, pass acc: 0.715897, current acc: 0.716024\n",
      "time taken: 107.66935706138611\n",
      "epoch: 192, training loss: 0.556664, training acc: 0.716687, valid loss: 0.557772, valid acc: 0.716024\n",
      "\n"
     ]
    },
    {
     "name": "stderr",
     "output_type": "stream",
     "text": [
      "train minibatch loop: 100%|██████████| 16751/16751 [01:27<00:00, 190.56it/s, accuracy=0.667, cost=0.45] \n",
      "test minibatch loop: 100%|██████████| 4188/4188 [00:19<00:00, 211.68it/s, accuracy=0.529, cost=0.715]\n",
      "train minibatch loop:   0%|          | 20/16751 [00:00<01:27, 190.34it/s, accuracy=0.719, cost=0.59] "
     ]
    },
    {
     "name": "stdout",
     "output_type": "stream",
     "text": [
      "epoch: 193, pass acc: 0.716024, current acc: 0.716151\n",
      "time taken: 107.69031834602356\n",
      "epoch: 193, training loss: 0.556500, training acc: 0.716799, valid loss: 0.557611, valid acc: 0.716151\n",
      "\n"
     ]
    },
    {
     "name": "stderr",
     "output_type": "stream",
     "text": [
      "train minibatch loop: 100%|██████████| 16751/16751 [01:27<00:00, 190.80it/s, accuracy=0.667, cost=0.45] \n",
      "test minibatch loop: 100%|██████████| 4188/4188 [00:19<00:00, 210.86it/s, accuracy=0.529, cost=0.715]\n",
      "train minibatch loop:   0%|          | 19/16751 [00:00<01:29, 186.37it/s, accuracy=0.719, cost=0.59] "
     ]
    },
    {
     "name": "stdout",
     "output_type": "stream",
     "text": [
      "epoch: 194, pass acc: 0.716151, current acc: 0.716255\n",
      "time taken: 107.65877270698547\n",
      "epoch: 194, training loss: 0.556337, training acc: 0.716924, valid loss: 0.557450, valid acc: 0.716255\n",
      "\n"
     ]
    },
    {
     "name": "stderr",
     "output_type": "stream",
     "text": [
      "train minibatch loop: 100%|██████████| 16751/16751 [01:27<00:00, 190.70it/s, accuracy=0.667, cost=0.449]\n",
      "test minibatch loop: 100%|██████████| 4188/4188 [00:19<00:00, 211.15it/s, accuracy=0.529, cost=0.715]\n",
      "train minibatch loop:   0%|          | 20/16751 [00:00<01:28, 189.56it/s, accuracy=0.719, cost=0.59] "
     ]
    },
    {
     "name": "stdout",
     "output_type": "stream",
     "text": [
      "epoch: 195, pass acc: 0.716255, current acc: 0.716367\n",
      "time taken: 107.67427062988281\n",
      "epoch: 195, training loss: 0.556175, training acc: 0.717045, valid loss: 0.557291, valid acc: 0.716367\n",
      "\n"
     ]
    },
    {
     "name": "stderr",
     "output_type": "stream",
     "text": [
      "train minibatch loop: 100%|██████████| 16751/16751 [01:27<00:00, 190.68it/s, accuracy=0.667, cost=0.448]\n",
      "test minibatch loop: 100%|██████████| 4188/4188 [00:19<00:00, 210.58it/s, accuracy=0.529, cost=0.715]\n",
      "train minibatch loop:   0%|          | 19/16751 [00:00<01:29, 187.40it/s, accuracy=0.719, cost=0.59] "
     ]
    },
    {
     "name": "stdout",
     "output_type": "stream",
     "text": [
      "epoch: 196, pass acc: 0.716367, current acc: 0.716457\n",
      "time taken: 107.69263124465942\n",
      "epoch: 196, training loss: 0.556014, training acc: 0.717138, valid loss: 0.557132, valid acc: 0.716457\n",
      "\n"
     ]
    },
    {
     "name": "stderr",
     "output_type": "stream",
     "text": [
      "train minibatch loop: 100%|██████████| 16751/16751 [01:27<00:00, 190.88it/s, accuracy=0.667, cost=0.448]\n",
      "test minibatch loop: 100%|██████████| 4188/4188 [00:19<00:00, 211.39it/s, accuracy=0.529, cost=0.715]\n",
      "train minibatch loop:   0%|          | 20/16751 [00:00<01:27, 192.22it/s, accuracy=0.719, cost=0.591]"
     ]
    },
    {
     "name": "stdout",
     "output_type": "stream",
     "text": [
      "epoch: 197, pass acc: 0.716457, current acc: 0.716621\n",
      "time taken: 107.57024312019348\n",
      "epoch: 197, training loss: 0.555854, training acc: 0.717275, valid loss: 0.556975, valid acc: 0.716621\n",
      "\n"
     ]
    },
    {
     "name": "stderr",
     "output_type": "stream",
     "text": [
      "train minibatch loop: 100%|██████████| 16751/16751 [01:27<00:00, 190.58it/s, accuracy=0.667, cost=0.447]\n",
      "test minibatch loop: 100%|██████████| 4188/4188 [00:19<00:00, 211.47it/s, accuracy=0.529, cost=0.714]\n",
      "train minibatch loop:   0%|          | 20/16751 [00:00<01:27, 190.24it/s, accuracy=0.719, cost=0.591]"
     ]
    },
    {
     "name": "stdout",
     "output_type": "stream",
     "text": [
      "epoch: 198, pass acc: 0.716621, current acc: 0.716778\n",
      "time taken: 107.6981589794159\n",
      "epoch: 198, training loss: 0.555694, training acc: 0.717400, valid loss: 0.556818, valid acc: 0.716778\n",
      "\n"
     ]
    },
    {
     "name": "stderr",
     "output_type": "stream",
     "text": [
      "train minibatch loop: 100%|██████████| 16751/16751 [01:27<00:00, 190.65it/s, accuracy=0.667, cost=0.447]\n",
      "test minibatch loop: 100%|██████████| 4188/4188 [00:19<00:00, 211.29it/s, accuracy=0.529, cost=0.714]\n",
      "train minibatch loop:   0%|          | 20/16751 [00:00<01:27, 190.66it/s, accuracy=0.719, cost=0.591]"
     ]
    },
    {
     "name": "stdout",
     "output_type": "stream",
     "text": [
      "epoch: 199, pass acc: 0.716778, current acc: 0.716994\n",
      "time taken: 107.68266582489014\n",
      "epoch: 199, training loss: 0.555536, training acc: 0.717521, valid loss: 0.556662, valid acc: 0.716994\n",
      "\n"
     ]
    },
    {
     "name": "stderr",
     "output_type": "stream",
     "text": [
      "train minibatch loop: 100%|██████████| 16751/16751 [01:27<00:00, 190.82it/s, accuracy=0.667, cost=0.446]\n",
      "test minibatch loop: 100%|██████████| 4188/4188 [00:19<00:00, 211.78it/s, accuracy=0.529, cost=0.714]\n",
      "train minibatch loop:   0%|          | 17/16751 [00:00<01:39, 167.62it/s, accuracy=0.594, cost=0.66] "
     ]
    },
    {
     "name": "stdout",
     "output_type": "stream",
     "text": [
      "epoch: 200, pass acc: 0.716994, current acc: 0.717084\n",
      "time taken: 107.56338691711426\n",
      "epoch: 200, training loss: 0.555378, training acc: 0.717635, valid loss: 0.556506, valid acc: 0.717084\n",
      "\n"
     ]
    },
    {
     "name": "stderr",
     "output_type": "stream",
     "text": [
      "train minibatch loop: 100%|██████████| 16751/16751 [01:27<00:00, 190.83it/s, accuracy=0.667, cost=0.445]\n",
      "test minibatch loop: 100%|██████████| 4188/4188 [00:19<00:00, 212.27it/s, accuracy=0.529, cost=0.714]\n",
      "train minibatch loop:   0%|          | 20/16751 [00:00<01:27, 191.19it/s, accuracy=0.719, cost=0.591]"
     ]
    },
    {
     "name": "stdout",
     "output_type": "stream",
     "text": [
      "epoch: 201, pass acc: 0.717084, current acc: 0.717143\n",
      "time taken: 107.50891160964966\n",
      "epoch: 201, training loss: 0.555221, training acc: 0.717748, valid loss: 0.556352, valid acc: 0.717143\n",
      "\n"
     ]
    },
    {
     "name": "stderr",
     "output_type": "stream",
     "text": [
      "train minibatch loop: 100%|██████████| 16751/16751 [01:27<00:00, 191.09it/s, accuracy=0.667, cost=0.445]\n",
      "test minibatch loop: 100%|██████████| 4188/4188 [00:19<00:00, 212.20it/s, accuracy=0.588, cost=0.714]\n",
      "train minibatch loop:   0%|          | 20/16751 [00:00<01:26, 193.28it/s, accuracy=0.625, cost=0.558]"
     ]
    },
    {
     "name": "stdout",
     "output_type": "stream",
     "text": [
      "epoch: 202, pass acc: 0.717143, current acc: 0.717284\n",
      "time taken: 107.39833521842957\n",
      "epoch: 202, training loss: 0.555065, training acc: 0.717909, valid loss: 0.556198, valid acc: 0.717284\n",
      "\n"
     ]
    },
    {
     "name": "stderr",
     "output_type": "stream",
     "text": [
      "train minibatch loop: 100%|██████████| 16751/16751 [01:27<00:00, 191.12it/s, accuracy=0.667, cost=0.444]\n",
      "test minibatch loop: 100%|██████████| 4188/4188 [00:19<00:00, 211.85it/s, accuracy=0.588, cost=0.714]\n",
      "train minibatch loop:   0%|          | 20/16751 [00:00<01:26, 194.18it/s, accuracy=0.719, cost=0.591]"
     ]
    },
    {
     "name": "stdout",
     "output_type": "stream",
     "text": [
      "epoch: 203, pass acc: 0.717284, current acc: 0.717434\n",
      "time taken: 107.41530537605286\n",
      "epoch: 203, training loss: 0.554909, training acc: 0.718019, valid loss: 0.556045, valid acc: 0.717434\n",
      "\n"
     ]
    },
    {
     "name": "stderr",
     "output_type": "stream",
     "text": [
      "train minibatch loop: 100%|██████████| 16751/16751 [01:27<00:00, 191.32it/s, accuracy=0.667, cost=0.444]\n",
      "test minibatch loop: 100%|██████████| 4188/4188 [00:19<00:00, 211.40it/s, accuracy=0.588, cost=0.714]\n",
      "train minibatch loop:   0%|          | 20/16751 [00:00<01:26, 192.97it/s, accuracy=0.625, cost=0.558]"
     ]
    },
    {
     "name": "stdout",
     "output_type": "stream",
     "text": [
      "epoch: 204, pass acc: 0.717434, current acc: 0.717538\n",
      "time taken: 107.36838912963867\n",
      "epoch: 204, training loss: 0.554755, training acc: 0.718155, valid loss: 0.555893, valid acc: 0.717538\n",
      "\n"
     ]
    },
    {
     "name": "stderr",
     "output_type": "stream",
     "text": [
      "train minibatch loop: 100%|██████████| 16751/16751 [01:27<00:00, 191.10it/s, accuracy=0.667, cost=0.443]\n",
      "test minibatch loop: 100%|██████████| 4188/4188 [00:19<00:00, 211.99it/s, accuracy=0.588, cost=0.713]\n",
      "train minibatch loop:   0%|          | 18/16751 [00:00<01:39, 168.23it/s, accuracy=0.594, cost=0.66] "
     ]
    },
    {
     "name": "stdout",
     "output_type": "stream",
     "text": [
      "epoch: 205, pass acc: 0.717538, current acc: 0.717628\n",
      "time taken: 107.41381239891052\n",
      "epoch: 205, training loss: 0.554601, training acc: 0.718280, valid loss: 0.555742, valid acc: 0.717628\n",
      "\n"
     ]
    },
    {
     "name": "stderr",
     "output_type": "stream",
     "text": [
      "train minibatch loop: 100%|██████████| 16751/16751 [01:27<00:00, 191.01it/s, accuracy=0.667, cost=0.443]\n",
      "test minibatch loop: 100%|██████████| 4188/4188 [00:19<00:00, 211.77it/s, accuracy=0.588, cost=0.713]\n",
      "train minibatch loop:   0%|          | 20/16751 [00:00<01:27, 192.02it/s, accuracy=0.625, cost=0.558]"
     ]
    },
    {
     "name": "stdout",
     "output_type": "stream",
     "text": [
      "epoch: 206, pass acc: 0.717628, current acc: 0.717755\n",
      "time taken: 107.47273874282837\n",
      "epoch: 206, training loss: 0.554448, training acc: 0.718448, valid loss: 0.555592, valid acc: 0.717755\n",
      "\n"
     ]
    },
    {
     "name": "stderr",
     "output_type": "stream",
     "text": [
      "train minibatch loop: 100%|██████████| 16751/16751 [01:27<00:00, 191.11it/s, accuracy=0.667, cost=0.442]\n",
      "test minibatch loop: 100%|██████████| 4188/4188 [00:19<00:00, 212.17it/s, accuracy=0.588, cost=0.713]\n",
      "train minibatch loop:   0%|          | 20/16751 [00:00<01:27, 190.42it/s, accuracy=0.719, cost=0.592]"
     ]
    },
    {
     "name": "stdout",
     "output_type": "stream",
     "text": [
      "epoch: 207, pass acc: 0.717755, current acc: 0.717769\n",
      "time taken: 107.3911509513855\n",
      "epoch: 207, training loss: 0.554296, training acc: 0.718556, valid loss: 0.555442, valid acc: 0.717769\n",
      "\n"
     ]
    },
    {
     "name": "stderr",
     "output_type": "stream",
     "text": [
      "train minibatch loop: 100%|██████████| 16751/16751 [01:27<00:00, 190.94it/s, accuracy=0.667, cost=0.441]\n",
      "test minibatch loop: 100%|██████████| 4188/4188 [00:19<00:00, 211.37it/s, accuracy=0.588, cost=0.713]\n",
      "train minibatch loop:   0%|          | 20/16751 [00:00<01:26, 193.50it/s, accuracy=0.625, cost=0.557]"
     ]
    },
    {
     "name": "stdout",
     "output_type": "stream",
     "text": [
      "epoch: 208, pass acc: 0.717769, current acc: 0.717889\n",
      "time taken: 107.54506540298462\n",
      "epoch: 208, training loss: 0.554145, training acc: 0.718681, valid loss: 0.555293, valid acc: 0.717889\n",
      "\n"
     ]
    },
    {
     "name": "stderr",
     "output_type": "stream",
     "text": [
      "train minibatch loop: 100%|██████████| 16751/16751 [01:27<00:00, 191.14it/s, accuracy=0.667, cost=0.441]\n",
      "test minibatch loop: 100%|██████████| 4188/4188 [00:19<00:00, 211.32it/s, accuracy=0.588, cost=0.713]\n",
      "train minibatch loop:   0%|          | 20/16751 [00:00<01:26, 192.47it/s, accuracy=0.625, cost=0.557]"
     ]
    },
    {
     "name": "stdout",
     "output_type": "stream",
     "text": [
      "epoch: 209, pass acc: 0.717889, current acc: 0.717919\n",
      "time taken: 107.45844602584839\n",
      "epoch: 209, training loss: 0.553994, training acc: 0.718801, valid loss: 0.555145, valid acc: 0.717919\n",
      "\n"
     ]
    },
    {
     "name": "stderr",
     "output_type": "stream",
     "text": [
      "train minibatch loop: 100%|██████████| 16751/16751 [01:27<00:00, 191.13it/s, accuracy=0.667, cost=0.44] \n",
      "test minibatch loop: 100%|██████████| 4188/4188 [00:19<00:00, 211.84it/s, accuracy=0.588, cost=0.713]\n",
      "train minibatch loop:   0%|          | 20/16751 [00:00<01:26, 193.12it/s, accuracy=0.688, cost=0.592]"
     ]
    },
    {
     "name": "stdout",
     "output_type": "stream",
     "text": [
      "epoch: 210, pass acc: 0.717919, current acc: 0.718053\n",
      "time taken: 107.41161370277405\n",
      "epoch: 210, training loss: 0.553845, training acc: 0.718933, valid loss: 0.554998, valid acc: 0.718053\n",
      "\n"
     ]
    },
    {
     "name": "stderr",
     "output_type": "stream",
     "text": [
      "train minibatch loop: 100%|██████████| 16751/16751 [01:27<00:00, 191.12it/s, accuracy=0.667, cost=0.44] \n",
      "test minibatch loop: 100%|██████████| 4188/4188 [00:19<00:00, 211.71it/s, accuracy=0.588, cost=0.713]\n",
      "train minibatch loop:   0%|          | 20/16751 [00:00<01:27, 190.99it/s, accuracy=0.625, cost=0.557]"
     ]
    },
    {
     "name": "stdout",
     "output_type": "stream",
     "text": [
      "epoch: 211, pass acc: 0.718053, current acc: 0.718255\n",
      "time taken: 107.42704796791077\n",
      "epoch: 211, training loss: 0.553696, training acc: 0.719012, valid loss: 0.554851, valid acc: 0.718255\n",
      "\n"
     ]
    },
    {
     "name": "stderr",
     "output_type": "stream",
     "text": [
      "train minibatch loop: 100%|██████████| 16751/16751 [01:27<00:00, 191.11it/s, accuracy=0.667, cost=0.439]\n",
      "test minibatch loop: 100%|██████████| 4188/4188 [00:19<00:00, 212.04it/s, accuracy=0.588, cost=0.712]\n",
      "train minibatch loop:   0%|          | 20/16751 [00:00<01:26, 193.95it/s, accuracy=0.625, cost=0.556]"
     ]
    },
    {
     "name": "stdout",
     "output_type": "stream",
     "text": [
      "epoch: 212, pass acc: 0.718255, current acc: 0.718411\n",
      "time taken: 107.40523910522461\n",
      "epoch: 212, training loss: 0.553547, training acc: 0.719142, valid loss: 0.554705, valid acc: 0.718411\n",
      "\n"
     ]
    },
    {
     "name": "stderr",
     "output_type": "stream",
     "text": [
      "train minibatch loop: 100%|██████████| 16751/16751 [01:27<00:00, 191.15it/s, accuracy=0.667, cost=0.439]\n",
      "test minibatch loop: 100%|██████████| 4188/4188 [00:19<00:00, 211.59it/s, accuracy=0.588, cost=0.712]\n",
      "train minibatch loop:   0%|          | 20/16751 [00:00<01:26, 192.98it/s, accuracy=0.688, cost=0.592]"
     ]
    },
    {
     "name": "stdout",
     "output_type": "stream",
     "text": [
      "epoch: 213, pass acc: 0.718411, current acc: 0.718523\n",
      "time taken: 107.4277594089508\n",
      "epoch: 213, training loss: 0.553400, training acc: 0.719262, valid loss: 0.554560, valid acc: 0.718523\n",
      "\n"
     ]
    },
    {
     "name": "stderr",
     "output_type": "stream",
     "text": [
      "train minibatch loop: 100%|██████████| 16751/16751 [01:27<00:00, 191.26it/s, accuracy=0.667, cost=0.438]\n",
      "test minibatch loop: 100%|██████████| 4188/4188 [00:19<00:00, 211.50it/s, accuracy=0.588, cost=0.712]\n",
      "train minibatch loop:   0%|          | 20/16751 [00:00<01:26, 194.29it/s, accuracy=0.625, cost=0.556]"
     ]
    },
    {
     "name": "stdout",
     "output_type": "stream",
     "text": [
      "epoch: 214, pass acc: 0.718523, current acc: 0.718613\n",
      "time taken: 107.39873170852661\n",
      "epoch: 214, training loss: 0.553253, training acc: 0.719429, valid loss: 0.554416, valid acc: 0.718613\n",
      "\n"
     ]
    },
    {
     "name": "stderr",
     "output_type": "stream",
     "text": [
      "train minibatch loop: 100%|██████████| 16751/16751 [01:27<00:00, 190.96it/s, accuracy=0.667, cost=0.438]\n",
      "test minibatch loop: 100%|██████████| 4188/4188 [00:19<00:00, 212.01it/s, accuracy=0.588, cost=0.712]\n",
      "train minibatch loop:   0%|          | 20/16751 [00:00<01:26, 193.34it/s, accuracy=0.625, cost=0.556]"
     ]
    },
    {
     "name": "stdout",
     "output_type": "stream",
     "text": [
      "epoch: 215, pass acc: 0.718613, current acc: 0.718777\n",
      "time taken: 107.47700953483582\n",
      "epoch: 215, training loss: 0.553107, training acc: 0.719558, valid loss: 0.554272, valid acc: 0.718777\n",
      "\n"
     ]
    },
    {
     "name": "stderr",
     "output_type": "stream",
     "text": [
      "train minibatch loop: 100%|██████████| 16751/16751 [01:27<00:00, 191.11it/s, accuracy=0.667, cost=0.437]\n",
      "test minibatch loop: 100%|██████████| 4188/4188 [00:19<00:00, 211.95it/s, accuracy=0.588, cost=0.712]\n",
      "train minibatch loop:   0%|          | 20/16751 [00:00<01:26, 192.58it/s, accuracy=0.625, cost=0.556]"
     ]
    },
    {
     "name": "stdout",
     "output_type": "stream",
     "text": [
      "epoch: 216, pass acc: 0.718777, current acc: 0.718978\n",
      "time taken: 107.40990018844604\n",
      "epoch: 216, training loss: 0.552962, training acc: 0.719704, valid loss: 0.554129, valid acc: 0.718978\n",
      "\n"
     ]
    },
    {
     "name": "stderr",
     "output_type": "stream",
     "text": [
      "train minibatch loop: 100%|██████████| 16751/16751 [01:27<00:00, 191.00it/s, accuracy=0.667, cost=0.436]\n",
      "test minibatch loop: 100%|██████████| 4188/4188 [00:19<00:00, 212.12it/s, accuracy=0.588, cost=0.712]\n",
      "train minibatch loop:   0%|          | 20/16751 [00:00<01:26, 192.62it/s, accuracy=0.656, cost=0.593]"
     ]
    },
    {
     "name": "stdout",
     "output_type": "stream",
     "text": [
      "epoch: 217, pass acc: 0.718978, current acc: 0.719053\n",
      "time taken: 107.44641876220703\n",
      "epoch: 217, training loss: 0.552817, training acc: 0.719875, valid loss: 0.553987, valid acc: 0.719053\n",
      "\n"
     ]
    },
    {
     "name": "stderr",
     "output_type": "stream",
     "text": [
      "train minibatch loop: 100%|██████████| 16751/16751 [01:27<00:00, 190.96it/s, accuracy=0.667, cost=0.436]\n",
      "test minibatch loop: 100%|██████████| 4188/4188 [00:19<00:00, 211.53it/s, accuracy=0.588, cost=0.712]\n",
      "train minibatch loop:   0%|          | 20/16751 [00:00<01:26, 193.67it/s, accuracy=0.625, cost=0.555]"
     ]
    },
    {
     "name": "stdout",
     "output_type": "stream",
     "text": [
      "epoch: 218, pass acc: 0.719053, current acc: 0.719143\n",
      "time taken: 107.51818037033081\n",
      "epoch: 218, training loss: 0.552674, training acc: 0.719993, valid loss: 0.553845, valid acc: 0.719143\n",
      "\n"
     ]
    },
    {
     "name": "stderr",
     "output_type": "stream",
     "text": [
      "train minibatch loop: 100%|██████████| 16751/16751 [01:27<00:00, 191.06it/s, accuracy=0.667, cost=0.435]\n",
      "test minibatch loop: 100%|██████████| 4188/4188 [00:19<00:00, 211.01it/s, accuracy=0.588, cost=0.711]\n",
      "train minibatch loop:   0%|          | 20/16751 [00:00<01:26, 193.13it/s, accuracy=0.656, cost=0.593]"
     ]
    },
    {
     "name": "stdout",
     "output_type": "stream",
     "text": [
      "epoch: 219, pass acc: 0.719143, current acc: 0.719352\n",
      "time taken: 107.49406743049622\n",
      "epoch: 219, training loss: 0.552530, training acc: 0.720131, valid loss: 0.553704, valid acc: 0.719352\n",
      "\n"
     ]
    },
    {
     "name": "stderr",
     "output_type": "stream",
     "text": [
      "train minibatch loop: 100%|██████████| 16751/16751 [01:27<00:00, 190.88it/s, accuracy=0.667, cost=0.435]\n",
      "test minibatch loop: 100%|██████████| 4188/4188 [00:19<00:00, 211.53it/s, accuracy=0.588, cost=0.711]\n",
      "train minibatch loop:   0%|          | 20/16751 [00:00<01:27, 192.11it/s, accuracy=0.656, cost=0.593]"
     ]
    },
    {
     "name": "stdout",
     "output_type": "stream",
     "text": [
      "epoch: 220, pass acc: 0.719352, current acc: 0.719501\n",
      "time taken: 107.55705761909485\n",
      "epoch: 220, training loss: 0.552388, training acc: 0.720200, valid loss: 0.553564, valid acc: 0.719501\n",
      "\n"
     ]
    },
    {
     "name": "stderr",
     "output_type": "stream",
     "text": [
      "train minibatch loop: 100%|██████████| 16751/16751 [01:27<00:00, 190.58it/s, accuracy=0.667, cost=0.434]\n",
      "test minibatch loop: 100%|██████████| 4188/4188 [00:19<00:00, 211.46it/s, accuracy=0.588, cost=0.711]\n",
      "train minibatch loop:   0%|          | 20/16751 [00:00<01:26, 194.02it/s, accuracy=0.625, cost=0.555]"
     ]
    },
    {
     "name": "stdout",
     "output_type": "stream",
     "text": [
      "epoch: 221, pass acc: 0.719501, current acc: 0.719628\n",
      "time taken: 107.70329570770264\n",
      "epoch: 221, training loss: 0.552246, training acc: 0.720314, valid loss: 0.553425, valid acc: 0.719628\n",
      "\n"
     ]
    },
    {
     "name": "stderr",
     "output_type": "stream",
     "text": [
      "train minibatch loop: 100%|██████████| 16751/16751 [01:27<00:00, 190.97it/s, accuracy=0.667, cost=0.434]\n",
      "test minibatch loop: 100%|██████████| 4188/4188 [00:19<00:00, 211.69it/s, accuracy=0.588, cost=0.711]\n",
      "train minibatch loop:   0%|          | 20/16751 [00:00<01:26, 193.00it/s, accuracy=0.656, cost=0.555]"
     ]
    },
    {
     "name": "stdout",
     "output_type": "stream",
     "text": [
      "epoch: 222, pass acc: 0.719628, current acc: 0.719814\n",
      "time taken: 107.49812531471252\n",
      "epoch: 222, training loss: 0.552105, training acc: 0.720420, valid loss: 0.553286, valid acc: 0.719814\n",
      "\n"
     ]
    },
    {
     "name": "stderr",
     "output_type": "stream",
     "text": [
      "train minibatch loop: 100%|██████████| 16751/16751 [01:27<00:00, 190.99it/s, accuracy=0.667, cost=0.433]\n",
      "test minibatch loop: 100%|██████████| 4188/4188 [00:19<00:00, 211.25it/s, accuracy=0.588, cost=0.711]\n",
      "train minibatch loop:   0%|          | 20/16751 [00:00<01:26, 192.50it/s, accuracy=0.656, cost=0.593]"
     ]
    },
    {
     "name": "stdout",
     "output_type": "stream",
     "text": [
      "epoch: 223, pass acc: 0.719814, current acc: 0.719934\n",
      "time taken: 107.53368020057678\n",
      "epoch: 223, training loss: 0.551965, training acc: 0.720586, valid loss: 0.553148, valid acc: 0.719934\n",
      "\n"
     ]
    },
    {
     "name": "stderr",
     "output_type": "stream",
     "text": [
      "train minibatch loop: 100%|██████████| 16751/16751 [01:27<00:00, 190.73it/s, accuracy=0.667, cost=0.433]\n",
      "test minibatch loop: 100%|██████████| 4188/4188 [00:19<00:00, 211.58it/s, accuracy=0.588, cost=0.711]\n",
      "train minibatch loop:   0%|          | 20/16751 [00:00<01:27, 192.29it/s, accuracy=0.656, cost=0.593]"
     ]
    },
    {
     "name": "stdout",
     "output_type": "stream",
     "text": [
      "epoch: 224, pass acc: 0.719934, current acc: 0.720075\n",
      "time taken: 107.62362575531006\n",
      "epoch: 224, training loss: 0.551825, training acc: 0.720696, valid loss: 0.553011, valid acc: 0.720075\n",
      "\n"
     ]
    },
    {
     "name": "stderr",
     "output_type": "stream",
     "text": [
      "train minibatch loop: 100%|██████████| 16751/16751 [01:27<00:00, 190.77it/s, accuracy=0.667, cost=0.432]\n",
      "test minibatch loop: 100%|██████████| 4188/4188 [00:19<00:00, 211.70it/s, accuracy=0.588, cost=0.711]\n",
      "train minibatch loop:   0%|          | 20/16751 [00:00<01:26, 193.39it/s, accuracy=0.625, cost=0.554]"
     ]
    },
    {
     "name": "stdout",
     "output_type": "stream",
     "text": [
      "epoch: 225, pass acc: 0.720075, current acc: 0.720232\n",
      "time taken: 107.59197902679443\n",
      "epoch: 225, training loss: 0.551686, training acc: 0.720819, valid loss: 0.552874, valid acc: 0.720232\n",
      "\n"
     ]
    },
    {
     "name": "stderr",
     "output_type": "stream",
     "text": [
      "train minibatch loop: 100%|██████████| 16751/16751 [01:27<00:00, 190.79it/s, accuracy=0.667, cost=0.432]\n",
      "test minibatch loop: 100%|██████████| 4188/4188 [00:19<00:00, 211.84it/s, accuracy=0.588, cost=0.71] \n",
      "train minibatch loop:   0%|          | 20/16751 [00:00<01:27, 191.24it/s, accuracy=0.656, cost=0.594]"
     ]
    },
    {
     "name": "stdout",
     "output_type": "stream",
     "text": [
      "epoch: 226, pass acc: 0.720232, current acc: 0.720307\n",
      "time taken: 107.5679440498352\n",
      "epoch: 226, training loss: 0.551548, training acc: 0.720885, valid loss: 0.552738, valid acc: 0.720307\n",
      "\n"
     ]
    },
    {
     "name": "stderr",
     "output_type": "stream",
     "text": [
      "train minibatch loop: 100%|██████████| 16751/16751 [01:27<00:00, 190.80it/s, accuracy=0.667, cost=0.431]\n",
      "test minibatch loop: 100%|██████████| 4188/4188 [00:19<00:00, 211.70it/s, accuracy=0.588, cost=0.71] \n",
      "train minibatch loop:   0%|          | 20/16751 [00:00<01:27, 191.72it/s, accuracy=0.625, cost=0.554]"
     ]
    },
    {
     "name": "stdout",
     "output_type": "stream",
     "text": [
      "epoch: 227, pass acc: 0.720307, current acc: 0.720426\n",
      "time taken: 107.57614254951477\n",
      "epoch: 227, training loss: 0.551411, training acc: 0.720974, valid loss: 0.552603, valid acc: 0.720426\n",
      "\n"
     ]
    },
    {
     "name": "stderr",
     "output_type": "stream",
     "text": [
      "train minibatch loop: 100%|██████████| 16751/16751 [01:27<00:00, 190.85it/s, accuracy=0.667, cost=0.431]\n",
      "test minibatch loop: 100%|██████████| 4188/4188 [00:19<00:00, 211.27it/s, accuracy=0.588, cost=0.71] \n",
      "train minibatch loop:   0%|          | 20/16751 [00:00<01:27, 191.27it/s, accuracy=0.656, cost=0.594]"
     ]
    },
    {
     "name": "stdout",
     "output_type": "stream",
     "text": [
      "epoch: 228, pass acc: 0.720426, current acc: 0.720560\n",
      "time taken: 107.60646486282349\n",
      "epoch: 228, training loss: 0.551274, training acc: 0.721097, valid loss: 0.552468, valid acc: 0.720560\n",
      "\n"
     ]
    },
    {
     "name": "stderr",
     "output_type": "stream",
     "text": [
      "train minibatch loop: 100%|██████████| 16751/16751 [01:27<00:00, 190.94it/s, accuracy=0.667, cost=0.43] \n",
      "test minibatch loop: 100%|██████████| 4188/4188 [00:19<00:00, 211.65it/s, accuracy=0.588, cost=0.71] \n",
      "train minibatch loop:   0%|          | 20/16751 [00:00<01:25, 195.07it/s, accuracy=0.625, cost=0.554]"
     ]
    },
    {
     "name": "stdout",
     "output_type": "stream",
     "text": [
      "epoch: 229, pass acc: 0.720560, current acc: 0.720762\n",
      "time taken: 107.51642370223999\n",
      "epoch: 229, training loss: 0.551137, training acc: 0.721260, valid loss: 0.552334, valid acc: 0.720762\n",
      "\n"
     ]
    },
    {
     "name": "stderr",
     "output_type": "stream",
     "text": [
      "train minibatch loop: 100%|██████████| 16751/16751 [01:27<00:00, 190.87it/s, accuracy=0.667, cost=0.43] \n",
      "test minibatch loop: 100%|██████████| 4188/4188 [00:19<00:00, 211.43it/s, accuracy=0.588, cost=0.71] \n",
      "train minibatch loop:   0%|          | 20/16751 [00:00<01:26, 192.54it/s, accuracy=0.625, cost=0.554]"
     ]
    },
    {
     "name": "stdout",
     "output_type": "stream",
     "text": [
      "epoch: 230, pass acc: 0.720762, current acc: 0.720896\n",
      "time taken: 107.56893658638\n",
      "epoch: 230, training loss: 0.551002, training acc: 0.721390, valid loss: 0.552201, valid acc: 0.720896\n",
      "\n"
     ]
    },
    {
     "name": "stderr",
     "output_type": "stream",
     "text": [
      "train minibatch loop: 100%|██████████| 16751/16751 [01:27<00:00, 190.80it/s, accuracy=0.667, cost=0.429]\n",
      "test minibatch loop: 100%|██████████| 4188/4188 [00:19<00:00, 211.21it/s, accuracy=0.588, cost=0.71] \n",
      "train minibatch loop:   0%|          | 20/16751 [00:00<01:27, 190.72it/s, accuracy=0.656, cost=0.594]"
     ]
    },
    {
     "name": "stdout",
     "output_type": "stream",
     "text": [
      "epoch: 231, pass acc: 0.720896, current acc: 0.721075\n",
      "time taken: 107.62152338027954\n",
      "epoch: 231, training loss: 0.550867, training acc: 0.721521, valid loss: 0.552068, valid acc: 0.721075\n",
      "\n"
     ]
    },
    {
     "name": "stderr",
     "output_type": "stream",
     "text": [
      "train minibatch loop: 100%|██████████| 16751/16751 [01:27<00:00, 190.46it/s, accuracy=0.667, cost=0.429]\n",
      "test minibatch loop: 100%|██████████| 4188/4188 [00:19<00:00, 211.32it/s, accuracy=0.588, cost=0.709]\n",
      "train minibatch loop:   0%|          | 20/16751 [00:00<01:27, 191.62it/s, accuracy=0.625, cost=0.553]"
     ]
    },
    {
     "name": "stdout",
     "output_type": "stream",
     "text": [
      "epoch: 232, pass acc: 0.721075, current acc: 0.721128\n",
      "time taken: 107.7709801197052\n",
      "epoch: 232, training loss: 0.550733, training acc: 0.721610, valid loss: 0.551936, valid acc: 0.721128\n",
      "\n"
     ]
    },
    {
     "name": "stderr",
     "output_type": "stream",
     "text": [
      "train minibatch loop: 100%|██████████| 16751/16751 [01:27<00:00, 190.77it/s, accuracy=0.667, cost=0.428]\n",
      "test minibatch loop: 100%|██████████| 4188/4188 [00:19<00:00, 211.08it/s, accuracy=0.588, cost=0.709]\n",
      "train minibatch loop:   0%|          | 20/16751 [00:00<01:26, 194.21it/s, accuracy=0.625, cost=0.553]"
     ]
    },
    {
     "name": "stdout",
     "output_type": "stream",
     "text": [
      "epoch: 233, pass acc: 0.721128, current acc: 0.721202\n",
      "time taken: 107.64918971061707\n",
      "epoch: 233, training loss: 0.550599, training acc: 0.721747, valid loss: 0.551804, valid acc: 0.721202\n",
      "\n"
     ]
    },
    {
     "name": "stderr",
     "output_type": "stream",
     "text": [
      "train minibatch loop: 100%|██████████| 16751/16751 [01:27<00:00, 190.62it/s, accuracy=0.667, cost=0.428]\n",
      "test minibatch loop: 100%|██████████| 4188/4188 [00:19<00:00, 211.59it/s, accuracy=0.588, cost=0.709]\n",
      "train minibatch loop:   0%|          | 19/16751 [00:00<01:28, 189.66it/s, accuracy=0.656, cost=0.594]"
     ]
    },
    {
     "name": "stdout",
     "output_type": "stream",
     "text": [
      "epoch: 234, pass acc: 0.721202, current acc: 0.721389\n",
      "time taken: 107.66914916038513\n",
      "epoch: 234, training loss: 0.550466, training acc: 0.721903, valid loss: 0.551674, valid acc: 0.721389\n",
      "\n"
     ]
    },
    {
     "name": "stderr",
     "output_type": "stream",
     "text": [
      "train minibatch loop: 100%|██████████| 16751/16751 [01:27<00:00, 190.66it/s, accuracy=0.667, cost=0.427]\n",
      "test minibatch loop: 100%|██████████| 4188/4188 [00:19<00:00, 211.40it/s, accuracy=0.588, cost=0.709]\n",
      "train minibatch loop:   0%|          | 20/16751 [00:00<01:26, 192.61it/s, accuracy=0.656, cost=0.594]"
     ]
    },
    {
     "name": "stdout",
     "output_type": "stream",
     "text": [
      "epoch: 235, pass acc: 0.721389, current acc: 0.721456\n",
      "time taken: 107.67078232765198\n",
      "epoch: 235, training loss: 0.550334, training acc: 0.722028, valid loss: 0.551543, valid acc: 0.721456\n",
      "\n"
     ]
    },
    {
     "name": "stderr",
     "output_type": "stream",
     "text": [
      "train minibatch loop: 100%|██████████| 16751/16751 [01:27<00:00, 190.54it/s, accuracy=0.667, cost=0.427]\n",
      "test minibatch loop: 100%|██████████| 4188/4188 [00:19<00:00, 212.07it/s, accuracy=0.588, cost=0.709]\n",
      "train minibatch loop:   0%|          | 20/16751 [00:00<01:25, 195.04it/s, accuracy=0.625, cost=0.553]"
     ]
    },
    {
     "name": "stdout",
     "output_type": "stream",
     "text": [
      "epoch: 236, pass acc: 0.721456, current acc: 0.721516\n",
      "time taken: 107.66136884689331\n",
      "epoch: 236, training loss: 0.550202, training acc: 0.722116, valid loss: 0.551414, valid acc: 0.721516\n",
      "\n"
     ]
    },
    {
     "name": "stderr",
     "output_type": "stream",
     "text": [
      "train minibatch loop: 100%|██████████| 16751/16751 [01:27<00:00, 190.85it/s, accuracy=0.667, cost=0.426]\n",
      "test minibatch loop: 100%|██████████| 4188/4188 [00:19<00:00, 211.61it/s, accuracy=0.588, cost=0.709]\n",
      "train minibatch loop:   0%|          | 20/16751 [00:00<01:26, 193.85it/s, accuracy=0.625, cost=0.553]"
     ]
    },
    {
     "name": "stdout",
     "output_type": "stream",
     "text": [
      "epoch: 237, pass acc: 0.721516, current acc: 0.721643\n",
      "time taken: 107.56287956237793\n",
      "epoch: 237, training loss: 0.550071, training acc: 0.722222, valid loss: 0.551285, valid acc: 0.721643\n",
      "\n"
     ]
    },
    {
     "name": "stderr",
     "output_type": "stream",
     "text": [
      "train minibatch loop: 100%|██████████| 16751/16751 [01:27<00:00, 192.08it/s, accuracy=0.667, cost=0.426]\n",
      "test minibatch loop: 100%|██████████| 4188/4188 [00:19<00:00, 211.38it/s, accuracy=0.588, cost=0.709]\n",
      "train minibatch loop:   0%|          | 20/16751 [00:00<01:27, 191.68it/s, accuracy=0.625, cost=0.553]"
     ]
    },
    {
     "name": "stdout",
     "output_type": "stream",
     "text": [
      "epoch: 238, pass acc: 0.721643, current acc: 0.721792\n",
      "time taken: 107.59082317352295\n",
      "epoch: 238, training loss: 0.549940, training acc: 0.722332, valid loss: 0.551157, valid acc: 0.721792\n",
      "\n"
     ]
    },
    {
     "name": "stderr",
     "output_type": "stream",
     "text": [
      "train minibatch loop: 100%|██████████| 16751/16751 [01:27<00:00, 190.81it/s, accuracy=0.667, cost=0.425]\n",
      "test minibatch loop: 100%|██████████| 4188/4188 [00:19<00:00, 211.73it/s, accuracy=0.588, cost=0.708]\n",
      "train minibatch loop:   0%|          | 19/16751 [00:00<01:30, 183.95it/s, accuracy=0.719, cost=0.546]"
     ]
    },
    {
     "name": "stdout",
     "output_type": "stream",
     "text": [
      "epoch: 239, pass acc: 0.721792, current acc: 0.721807\n",
      "time taken: 107.56791663169861\n",
      "epoch: 239, training loss: 0.549810, training acc: 0.722405, valid loss: 0.551029, valid acc: 0.721807\n",
      "\n"
     ]
    },
    {
     "name": "stderr",
     "output_type": "stream",
     "text": [
      "train minibatch loop: 100%|██████████| 16751/16751 [01:27<00:00, 190.74it/s, accuracy=0.667, cost=0.425]\n",
      "test minibatch loop: 100%|██████████| 4188/4188 [00:19<00:00, 211.50it/s, accuracy=0.588, cost=0.708]\n",
      "train minibatch loop:   0%|          | 20/16751 [00:00<01:25, 194.66it/s, accuracy=0.625, cost=0.552]"
     ]
    },
    {
     "name": "stdout",
     "output_type": "stream",
     "text": [
      "epoch: 240, pass acc: 0.721807, current acc: 0.721837\n",
      "time taken: 107.6245014667511\n",
      "epoch: 240, training loss: 0.549681, training acc: 0.722512, valid loss: 0.550902, valid acc: 0.721837\n",
      "\n"
     ]
    },
    {
     "name": "stderr",
     "output_type": "stream",
     "text": [
      "train minibatch loop: 100%|██████████| 16751/16751 [01:27<00:00, 190.68it/s, accuracy=0.667, cost=0.424]\n",
      "test minibatch loop: 100%|██████████| 4188/4188 [00:19<00:00, 211.81it/s, accuracy=0.588, cost=0.708]\n",
      "train minibatch loop:   0%|          | 20/16751 [00:00<01:26, 194.26it/s, accuracy=0.625, cost=0.552]"
     ]
    },
    {
     "name": "stdout",
     "output_type": "stream",
     "text": [
      "epoch: 241, pass acc: 0.721837, current acc: 0.721978\n",
      "time taken: 107.62227153778076\n",
      "epoch: 241, training loss: 0.549552, training acc: 0.722646, valid loss: 0.550775, valid acc: 0.721978\n",
      "\n"
     ]
    },
    {
     "name": "stderr",
     "output_type": "stream",
     "text": [
      "train minibatch loop: 100%|██████████| 16751/16751 [01:27<00:00, 190.76it/s, accuracy=0.667, cost=0.424]\n",
      "test minibatch loop: 100%|██████████| 4188/4188 [00:19<00:00, 211.57it/s, accuracy=0.588, cost=0.708]\n",
      "train minibatch loop:   0%|          | 20/16751 [00:00<01:26, 193.21it/s, accuracy=0.656, cost=0.595]"
     ]
    },
    {
     "name": "stdout",
     "output_type": "stream",
     "text": [
      "epoch: 242, pass acc: 0.721978, current acc: 0.722187\n",
      "time taken: 107.62856125831604\n",
      "epoch: 242, training loss: 0.549424, training acc: 0.722786, valid loss: 0.550649, valid acc: 0.722187\n",
      "\n"
     ]
    },
    {
     "name": "stderr",
     "output_type": "stream",
     "text": [
      "train minibatch loop: 100%|██████████| 16751/16751 [01:27<00:00, 190.94it/s, accuracy=0.667, cost=0.423]\n",
      "test minibatch loop: 100%|██████████| 4188/4188 [00:19<00:00, 211.03it/s, accuracy=0.588, cost=0.708]\n",
      "train minibatch loop:   0%|          | 20/16751 [00:00<01:27, 192.19it/s, accuracy=0.656, cost=0.595]"
     ]
    },
    {
     "name": "stdout",
     "output_type": "stream",
     "text": [
      "epoch: 243, pass acc: 0.722187, current acc: 0.722247\n",
      "time taken: 107.5746054649353\n",
      "epoch: 243, training loss: 0.549297, training acc: 0.722872, valid loss: 0.550524, valid acc: 0.722247\n",
      "\n"
     ]
    },
    {
     "name": "stderr",
     "output_type": "stream",
     "text": [
      "train minibatch loop: 100%|██████████| 16751/16751 [01:27<00:00, 190.94it/s, accuracy=0.667, cost=0.423]\n",
      "test minibatch loop: 100%|██████████| 4188/4188 [00:19<00:00, 211.68it/s, accuracy=0.588, cost=0.708]\n",
      "train minibatch loop:   0%|          | 20/16751 [00:00<01:28, 189.94it/s, accuracy=0.656, cost=0.595]"
     ]
    },
    {
     "name": "stdout",
     "output_type": "stream",
     "text": [
      "epoch: 244, pass acc: 0.722247, current acc: 0.722284\n",
      "time taken: 107.51730728149414\n",
      "epoch: 244, training loss: 0.549170, training acc: 0.722978, valid loss: 0.550399, valid acc: 0.722284\n",
      "\n"
     ]
    },
    {
     "name": "stderr",
     "output_type": "stream",
     "text": [
      "train minibatch loop: 100%|██████████| 16751/16751 [01:27<00:00, 190.90it/s, accuracy=0.667, cost=0.422]\n",
      "test minibatch loop: 100%|██████████| 4188/4188 [00:19<00:00, 211.52it/s, accuracy=0.588, cost=0.708]\n",
      "train minibatch loop:   0%|          | 20/16751 [00:00<01:26, 192.92it/s, accuracy=0.656, cost=0.595]"
     ]
    },
    {
     "name": "stdout",
     "output_type": "stream",
     "text": [
      "epoch: 245, pass acc: 0.722284, current acc: 0.722456\n",
      "time taken: 107.55030274391174\n",
      "epoch: 245, training loss: 0.549043, training acc: 0.723056, valid loss: 0.550275, valid acc: 0.722456\n",
      "\n"
     ]
    },
    {
     "name": "stderr",
     "output_type": "stream",
     "text": [
      "train minibatch loop: 100%|██████████| 16751/16751 [01:27<00:00, 190.79it/s, accuracy=0.667, cost=0.422]\n",
      "test minibatch loop: 100%|██████████| 4188/4188 [00:19<00:00, 211.18it/s, accuracy=0.588, cost=0.707]\n",
      "train minibatch loop:   0%|          | 20/16751 [00:00<01:27, 192.30it/s, accuracy=0.656, cost=0.595]"
     ]
    },
    {
     "name": "stdout",
     "output_type": "stream",
     "text": [
      "epoch: 246, pass acc: 0.722456, current acc: 0.722531\n",
      "time taken: 107.5848696231842\n",
      "epoch: 246, training loss: 0.548918, training acc: 0.723136, valid loss: 0.550151, valid acc: 0.722531\n",
      "\n"
     ]
    },
    {
     "name": "stderr",
     "output_type": "stream",
     "text": [
      "train minibatch loop: 100%|██████████| 16751/16751 [01:27<00:00, 191.01it/s, accuracy=0.667, cost=0.421]\n",
      "test minibatch loop: 100%|██████████| 4188/4188 [00:19<00:00, 211.72it/s, accuracy=0.588, cost=0.707]\n",
      "train minibatch loop:   0%|          | 20/16751 [00:00<01:26, 193.40it/s, accuracy=0.625, cost=0.551]"
     ]
    },
    {
     "name": "stdout",
     "output_type": "stream",
     "text": [
      "epoch: 247, pass acc: 0.722531, current acc: 0.722598\n",
      "time taken: 107.48114824295044\n",
      "epoch: 247, training loss: 0.548792, training acc: 0.723230, valid loss: 0.550028, valid acc: 0.722598\n",
      "\n"
     ]
    },
    {
     "name": "stderr",
     "output_type": "stream",
     "text": [
      "train minibatch loop: 100%|██████████| 16751/16751 [01:27<00:00, 190.81it/s, accuracy=0.667, cost=0.421]\n",
      "test minibatch loop: 100%|██████████| 4188/4188 [00:19<00:00, 211.30it/s, accuracy=0.588, cost=0.707]\n",
      "train minibatch loop:   0%|          | 20/16751 [00:00<01:26, 192.79it/s, accuracy=0.625, cost=0.551]"
     ]
    },
    {
     "name": "stdout",
     "output_type": "stream",
     "text": [
      "epoch: 248, pass acc: 0.722598, current acc: 0.722710\n",
      "time taken: 107.61021685600281\n",
      "epoch: 248, training loss: 0.548668, training acc: 0.723327, valid loss: 0.549905, valid acc: 0.722710\n",
      "\n"
     ]
    },
    {
     "name": "stderr",
     "output_type": "stream",
     "text": [
      "train minibatch loop: 100%|██████████| 16751/16751 [01:27<00:00, 190.90it/s, accuracy=0.667, cost=0.421]\n",
      "test minibatch loop: 100%|██████████| 4188/4188 [00:19<00:00, 211.83it/s, accuracy=0.588, cost=0.707]\n",
      "train minibatch loop:   0%|          | 20/16751 [00:00<01:27, 191.90it/s, accuracy=0.656, cost=0.596]"
     ]
    },
    {
     "name": "stdout",
     "output_type": "stream",
     "text": [
      "epoch: 249, pass acc: 0.722710, current acc: 0.722740\n",
      "time taken: 107.51955556869507\n",
      "epoch: 249, training loss: 0.548544, training acc: 0.723450, valid loss: 0.549784, valid acc: 0.722740\n",
      "\n"
     ]
    },
    {
     "name": "stderr",
     "output_type": "stream",
     "text": [
      "train minibatch loop: 100%|██████████| 16751/16751 [01:27<00:00, 190.77it/s, accuracy=0.667, cost=0.42] \n",
      "test minibatch loop: 100%|██████████| 4188/4188 [00:19<00:00, 211.27it/s, accuracy=0.588, cost=0.707]\n",
      "train minibatch loop:   0%|          | 20/16751 [00:00<01:26, 193.27it/s, accuracy=0.625, cost=0.551]"
     ]
    },
    {
     "name": "stdout",
     "output_type": "stream",
     "text": [
      "epoch: 250, pass acc: 0.722740, current acc: 0.722822\n",
      "time taken: 107.6344747543335\n",
      "epoch: 250, training loss: 0.548420, training acc: 0.723588, valid loss: 0.549662, valid acc: 0.722822\n",
      "\n"
     ]
    },
    {
     "name": "stderr",
     "output_type": "stream",
     "text": [
      "train minibatch loop: 100%|██████████| 16751/16751 [01:27<00:00, 190.53it/s, accuracy=0.667, cost=0.42] \n",
      "test minibatch loop: 100%|██████████| 4188/4188 [00:19<00:00, 211.77it/s, accuracy=0.588, cost=0.707]\n",
      "train minibatch loop:   0%|          | 20/16751 [00:00<01:27, 191.53it/s, accuracy=0.656, cost=0.596]"
     ]
    },
    {
     "name": "stdout",
     "output_type": "stream",
     "text": [
      "epoch: 251, pass acc: 0.722822, current acc: 0.722851\n",
      "time taken: 107.69550681114197\n",
      "epoch: 251, training loss: 0.548297, training acc: 0.723681, valid loss: 0.549541, valid acc: 0.722851\n",
      "\n"
     ]
    },
    {
     "name": "stderr",
     "output_type": "stream",
     "text": [
      "train minibatch loop: 100%|██████████| 16751/16751 [01:27<00:00, 193.24it/s, accuracy=0.667, cost=0.419]\n",
      "test minibatch loop: 100%|██████████| 4188/4188 [00:19<00:00, 211.33it/s, accuracy=0.588, cost=0.706]\n",
      "train minibatch loop:   0%|          | 20/16751 [00:00<01:26, 192.35it/s, accuracy=0.625, cost=0.551]"
     ]
    },
    {
     "name": "stdout",
     "output_type": "stream",
     "text": [
      "epoch: 252, pass acc: 0.722851, current acc: 0.722956\n",
      "time taken: 107.68073749542236\n",
      "epoch: 252, training loss: 0.548175, training acc: 0.723745, valid loss: 0.549421, valid acc: 0.722956\n",
      "\n"
     ]
    },
    {
     "name": "stderr",
     "output_type": "stream",
     "text": [
      "train minibatch loop: 100%|██████████| 16751/16751 [01:27<00:00, 190.94it/s, accuracy=0.667, cost=0.419]\n",
      "test minibatch loop: 100%|██████████| 4188/4188 [00:19<00:00, 211.56it/s, accuracy=0.588, cost=0.706]\n",
      "train minibatch loop:   0%|          | 20/16751 [00:00<01:26, 192.78it/s, accuracy=0.719, cost=0.545]"
     ]
    },
    {
     "name": "stdout",
     "output_type": "stream",
     "text": [
      "epoch: 253, pass acc: 0.722956, current acc: 0.723128\n",
      "time taken: 107.52895927429199\n",
      "epoch: 253, training loss: 0.548053, training acc: 0.723888, valid loss: 0.549301, valid acc: 0.723128\n",
      "\n"
     ]
    },
    {
     "name": "stderr",
     "output_type": "stream",
     "text": [
      "train minibatch loop: 100%|██████████| 16751/16751 [01:27<00:00, 190.80it/s, accuracy=0.667, cost=0.418]\n",
      "test minibatch loop: 100%|██████████| 4188/4188 [00:19<00:00, 211.78it/s, accuracy=0.588, cost=0.706]\n",
      "train minibatch loop:   0%|          | 20/16751 [00:00<01:26, 194.27it/s, accuracy=0.656, cost=0.596]"
     ]
    },
    {
     "name": "stdout",
     "output_type": "stream",
     "text": [
      "epoch: 254, pass acc: 0.723128, current acc: 0.723187\n",
      "time taken: 107.56977033615112\n",
      "epoch: 254, training loss: 0.547932, training acc: 0.724041, valid loss: 0.549182, valid acc: 0.723187\n",
      "\n"
     ]
    },
    {
     "name": "stderr",
     "output_type": "stream",
     "text": [
      "train minibatch loop: 100%|██████████| 16751/16751 [01:27<00:00, 190.80it/s, accuracy=0.667, cost=0.418]\n",
      "test minibatch loop: 100%|██████████| 4188/4188 [00:19<00:00, 211.50it/s, accuracy=0.588, cost=0.706]\n",
      "train minibatch loop:   0%|          | 20/16751 [00:00<01:27, 191.62it/s, accuracy=0.625, cost=0.551]"
     ]
    },
    {
     "name": "stdout",
     "output_type": "stream",
     "text": [
      "epoch: 255, pass acc: 0.723187, current acc: 0.723254\n",
      "time taken: 107.59563302993774\n",
      "epoch: 255, training loss: 0.547811, training acc: 0.724138, valid loss: 0.549063, valid acc: 0.723254\n",
      "\n"
     ]
    },
    {
     "name": "stderr",
     "output_type": "stream",
     "text": [
      "train minibatch loop: 100%|██████████| 16751/16751 [01:27<00:00, 190.99it/s, accuracy=0.667, cost=0.417]\n",
      "test minibatch loop: 100%|██████████| 4188/4188 [00:19<00:00, 212.76it/s, accuracy=0.588, cost=0.706]\n",
      "train minibatch loop:   0%|          | 20/16751 [00:00<01:26, 193.03it/s, accuracy=0.625, cost=0.55] "
     ]
    },
    {
     "name": "stdout",
     "output_type": "stream",
     "text": [
      "epoch: 256, pass acc: 0.723254, current acc: 0.723404\n",
      "time taken: 107.391676902771\n",
      "epoch: 256, training loss: 0.547691, training acc: 0.724217, valid loss: 0.548945, valid acc: 0.723404\n",
      "\n"
     ]
    },
    {
     "name": "stderr",
     "output_type": "stream",
     "text": [
      "train minibatch loop: 100%|██████████| 16751/16751 [01:27<00:00, 191.11it/s, accuracy=0.667, cost=0.417]\n",
      "test minibatch loop: 100%|██████████| 4188/4188 [00:19<00:00, 211.09it/s, accuracy=0.588, cost=0.706]\n",
      "train minibatch loop:   0%|          | 20/16751 [00:00<01:26, 193.69it/s, accuracy=0.656, cost=0.596]"
     ]
    },
    {
     "name": "stdout",
     "output_type": "stream",
     "text": [
      "epoch: 257, pass acc: 0.723404, current acc: 0.723531\n",
      "time taken: 107.49431014060974\n",
      "epoch: 257, training loss: 0.547572, training acc: 0.724338, valid loss: 0.548828, valid acc: 0.723531\n",
      "\n"
     ]
    },
    {
     "name": "stderr",
     "output_type": "stream",
     "text": [
      "train minibatch loop: 100%|██████████| 16751/16751 [01:27<00:00, 191.20it/s, accuracy=0.667, cost=0.417]\n",
      "test minibatch loop: 100%|██████████| 4188/4188 [00:19<00:00, 211.88it/s, accuracy=0.588, cost=0.706]\n",
      "train minibatch loop:   0%|          | 20/16751 [00:00<01:26, 192.85it/s, accuracy=0.625, cost=0.55] "
     ]
    },
    {
     "name": "stdout",
     "output_type": "stream",
     "text": [
      "epoch: 258, pass acc: 0.723531, current acc: 0.723628\n",
      "time taken: 107.37835216522217\n",
      "epoch: 258, training loss: 0.547453, training acc: 0.724433, valid loss: 0.548711, valid acc: 0.723628\n",
      "\n"
     ]
    },
    {
     "name": "stderr",
     "output_type": "stream",
     "text": [
      "train minibatch loop: 100%|██████████| 16751/16751 [01:27<00:00, 190.93it/s, accuracy=0.667, cost=0.416]\n",
      "test minibatch loop: 100%|██████████| 4188/4188 [00:19<00:00, 211.72it/s, accuracy=0.588, cost=0.705]\n",
      "train minibatch loop:   0%|          | 20/16751 [00:00<01:26, 193.43it/s, accuracy=0.656, cost=0.596]"
     ]
    },
    {
     "name": "stdout",
     "output_type": "stream",
     "text": [
      "epoch: 259, pass acc: 0.723628, current acc: 0.723643\n",
      "time taken: 107.51334738731384\n",
      "epoch: 259, training loss: 0.547334, training acc: 0.724594, valid loss: 0.548594, valid acc: 0.723643\n",
      "\n"
     ]
    },
    {
     "name": "stderr",
     "output_type": "stream",
     "text": [
      "train minibatch loop: 100%|██████████| 16751/16751 [01:27<00:00, 191.07it/s, accuracy=0.667, cost=0.416]\n",
      "test minibatch loop: 100%|██████████| 4188/4188 [00:19<00:00, 211.90it/s, accuracy=0.588, cost=0.705]\n",
      "train minibatch loop:   0%|          | 20/16751 [00:00<01:27, 191.07it/s, accuracy=0.656, cost=0.596]"
     ]
    },
    {
     "name": "stdout",
     "output_type": "stream",
     "text": [
      "epoch: 260, pass acc: 0.723643, current acc: 0.723710\n",
      "time taken: 107.43742418289185\n",
      "epoch: 260, training loss: 0.547216, training acc: 0.724692, valid loss: 0.548478, valid acc: 0.723710\n",
      "\n"
     ]
    },
    {
     "name": "stderr",
     "output_type": "stream",
     "text": [
      "train minibatch loop: 100%|██████████| 16751/16751 [01:27<00:00, 191.10it/s, accuracy=0.667, cost=0.415]\n",
      "test minibatch loop: 100%|██████████| 4188/4188 [00:19<00:00, 211.70it/s, accuracy=0.588, cost=0.705]\n",
      "train minibatch loop:   0%|          | 20/16751 [00:00<01:27, 190.86it/s, accuracy=0.656, cost=0.597]"
     ]
    },
    {
     "name": "stdout",
     "output_type": "stream",
     "text": [
      "epoch: 261, pass acc: 0.723710, current acc: 0.723814\n",
      "time taken: 107.44021248817444\n",
      "epoch: 261, training loss: 0.547098, training acc: 0.724776, valid loss: 0.548363, valid acc: 0.723814\n",
      "\n"
     ]
    },
    {
     "name": "stderr",
     "output_type": "stream",
     "text": [
      "train minibatch loop: 100%|██████████| 16751/16751 [01:27<00:00, 190.80it/s, accuracy=0.667, cost=0.415]\n",
      "test minibatch loop: 100%|██████████| 4188/4188 [00:19<00:00, 211.02it/s, accuracy=0.588, cost=0.705]\n",
      "train minibatch loop:   0%|          | 20/16751 [00:00<01:26, 193.32it/s, accuracy=0.625, cost=0.55] "
     ]
    },
    {
     "name": "stdout",
     "output_type": "stream",
     "text": [
      "epoch: 262, pass acc: 0.723814, current acc: 0.723926\n",
      "time taken: 107.64266276359558\n",
      "epoch: 262, training loss: 0.546981, training acc: 0.724885, valid loss: 0.548248, valid acc: 0.723926\n",
      "\n"
     ]
    },
    {
     "name": "stderr",
     "output_type": "stream",
     "text": [
      "train minibatch loop: 100%|██████████| 16751/16751 [01:27<00:00, 190.66it/s, accuracy=0.667, cost=0.414]\n",
      "test minibatch loop: 100%|██████████| 4188/4188 [00:19<00:00, 212.38it/s, accuracy=0.588, cost=0.705]\n",
      "train minibatch loop:   0%|          | 20/16751 [00:00<01:26, 193.52it/s, accuracy=0.625, cost=0.55] "
     ]
    },
    {
     "name": "stdout",
     "output_type": "stream",
     "text": [
      "epoch: 263, pass acc: 0.723926, current acc: 0.724351\n",
      "time taken: 107.57905793190002\n",
      "epoch: 263, training loss: 0.546865, training acc: 0.724982, valid loss: 0.548133, valid acc: 0.724351\n",
      "\n"
     ]
    },
    {
     "name": "stderr",
     "output_type": "stream",
     "text": [
      "train minibatch loop: 100%|██████████| 16751/16751 [01:27<00:00, 190.92it/s, accuracy=0.667, cost=0.414]\n",
      "test minibatch loop: 100%|██████████| 4188/4188 [00:19<00:00, 211.65it/s, accuracy=0.588, cost=0.705]\n",
      "train minibatch loop:   0%|          | 20/16751 [00:00<01:26, 193.29it/s, accuracy=0.656, cost=0.597]"
     ]
    },
    {
     "name": "stdout",
     "output_type": "stream",
     "text": [
      "epoch: 264, pass acc: 0.724351, current acc: 0.724441\n",
      "time taken: 107.52903699874878\n",
      "epoch: 264, training loss: 0.546749, training acc: 0.725060, valid loss: 0.548019, valid acc: 0.724441\n",
      "\n"
     ]
    },
    {
     "name": "stderr",
     "output_type": "stream",
     "text": [
      "train minibatch loop: 100%|██████████| 16751/16751 [01:27<00:00, 190.93it/s, accuracy=0.667, cost=0.414]\n",
      "test minibatch loop: 100%|██████████| 4188/4188 [00:19<00:00, 211.85it/s, accuracy=0.588, cost=0.704]\n",
      "train minibatch loop:   0%|          | 20/16751 [00:00<01:26, 193.26it/s, accuracy=0.656, cost=0.597]"
     ]
    },
    {
     "name": "stdout",
     "output_type": "stream",
     "text": [
      "epoch: 265, pass acc: 0.724441, current acc: 0.724546\n",
      "time taken: 107.50232434272766\n",
      "epoch: 265, training loss: 0.546634, training acc: 0.725166, valid loss: 0.547906, valid acc: 0.724546\n",
      "\n"
     ]
    },
    {
     "name": "stderr",
     "output_type": "stream",
     "text": [
      "train minibatch loop: 100%|██████████| 16751/16751 [01:27<00:00, 191.06it/s, accuracy=0.667, cost=0.413]\n",
      "test minibatch loop: 100%|██████████| 4188/4188 [00:19<00:00, 211.27it/s, accuracy=0.588, cost=0.704]\n",
      "train minibatch loop:   0%|          | 20/16751 [00:00<01:27, 192.27it/s, accuracy=0.656, cost=0.597]"
     ]
    },
    {
     "name": "stdout",
     "output_type": "stream",
     "text": [
      "epoch: 266, pass acc: 0.724546, current acc: 0.724620\n",
      "time taken: 107.49893999099731\n",
      "epoch: 266, training loss: 0.546519, training acc: 0.725312, valid loss: 0.547793, valid acc: 0.724620\n",
      "\n"
     ]
    },
    {
     "name": "stderr",
     "output_type": "stream",
     "text": [
      "train minibatch loop: 100%|██████████| 16751/16751 [01:27<00:00, 190.95it/s, accuracy=0.667, cost=0.413]\n",
      "test minibatch loop: 100%|██████████| 4188/4188 [00:19<00:00, 211.26it/s, accuracy=0.588, cost=0.704]\n",
      "train minibatch loop:   0%|          | 20/16751 [00:00<01:26, 193.67it/s, accuracy=0.625, cost=0.549]"
     ]
    },
    {
     "name": "stdout",
     "output_type": "stream",
     "text": [
      "epoch: 267, pass acc: 0.724620, current acc: 0.724687\n",
      "time taken: 107.54972577095032\n",
      "epoch: 267, training loss: 0.546404, training acc: 0.725418, valid loss: 0.547680, valid acc: 0.724687\n",
      "\n"
     ]
    },
    {
     "name": "stderr",
     "output_type": "stream",
     "text": [
      "train minibatch loop: 100%|██████████| 16751/16751 [01:27<00:00, 190.99it/s, accuracy=0.667, cost=0.412]\n",
      "test minibatch loop: 100%|██████████| 4188/4188 [00:19<00:00, 212.02it/s, accuracy=0.588, cost=0.704]\n",
      "train minibatch loop:   0%|          | 19/16751 [00:00<01:30, 185.16it/s, accuracy=0.594, cost=0.667]"
     ]
    },
    {
     "name": "stdout",
     "output_type": "stream",
     "text": [
      "epoch: 268, pass acc: 0.724687, current acc: 0.724851\n",
      "time taken: 107.45937490463257\n",
      "epoch: 268, training loss: 0.546290, training acc: 0.725497, valid loss: 0.547568, valid acc: 0.724851\n",
      "\n"
     ]
    },
    {
     "name": "stderr",
     "output_type": "stream",
     "text": [
      "train minibatch loop: 100%|██████████| 16751/16751 [01:27<00:00, 190.81it/s, accuracy=0.667, cost=0.412]\n",
      "test minibatch loop: 100%|██████████| 4188/4188 [00:19<00:00, 211.98it/s, accuracy=0.588, cost=0.704]\n",
      "train minibatch loop:   0%|          | 20/16751 [00:00<01:26, 194.51it/s, accuracy=0.625, cost=0.549]"
     ]
    },
    {
     "name": "stdout",
     "output_type": "stream",
     "text": [
      "epoch: 269, pass acc: 0.724851, current acc: 0.724963\n",
      "time taken: 107.5447187423706\n",
      "epoch: 269, training loss: 0.546177, training acc: 0.725620, valid loss: 0.547457, valid acc: 0.724963\n",
      "\n"
     ]
    },
    {
     "name": "stderr",
     "output_type": "stream",
     "text": [
      "train minibatch loop: 100%|██████████| 16751/16751 [01:27<00:00, 190.92it/s, accuracy=0.667, cost=0.411]\n",
      "test minibatch loop: 100%|██████████| 4188/4188 [00:19<00:00, 211.91it/s, accuracy=0.588, cost=0.704]\n",
      "train minibatch loop:   0%|          | 20/16751 [00:00<01:27, 191.40it/s, accuracy=0.719, cost=0.544]"
     ]
    },
    {
     "name": "stdout",
     "output_type": "stream",
     "text": [
      "epoch: 270, pass acc: 0.724963, current acc: 0.725105\n",
      "time taken: 107.50507664680481\n",
      "epoch: 270, training loss: 0.546064, training acc: 0.725694, valid loss: 0.547346, valid acc: 0.725105\n",
      "\n"
     ]
    },
    {
     "name": "stderr",
     "output_type": "stream",
     "text": [
      "train minibatch loop: 100%|██████████| 16751/16751 [01:27<00:00, 190.73it/s, accuracy=0.667, cost=0.411]\n",
      "test minibatch loop: 100%|██████████| 4188/4188 [00:19<00:00, 210.52it/s, accuracy=0.588, cost=0.704]\n",
      "train minibatch loop:   0%|          | 20/16751 [00:00<01:26, 193.01it/s, accuracy=0.625, cost=0.549]"
     ]
    },
    {
     "name": "stdout",
     "output_type": "stream",
     "text": [
      "epoch: 271, pass acc: 0.725105, current acc: 0.725232\n",
      "time taken: 107.62100458145142\n",
      "epoch: 271, training loss: 0.545951, training acc: 0.725747, valid loss: 0.547235, valid acc: 0.725232\n",
      "\n"
     ]
    },
    {
     "name": "stderr",
     "output_type": "stream",
     "text": [
      "train minibatch loop: 100%|██████████| 16751/16751 [01:27<00:00, 190.67it/s, accuracy=0.667, cost=0.411]\n",
      "test minibatch loop: 100%|██████████| 4188/4188 [00:19<00:00, 211.20it/s, accuracy=0.588, cost=0.703]\n",
      "train minibatch loop:   0%|          | 20/16751 [00:00<01:26, 193.72it/s, accuracy=0.656, cost=0.597]"
     ]
    },
    {
     "name": "stdout",
     "output_type": "stream",
     "text": [
      "epoch: 272, pass acc: 0.725232, current acc: 0.725351\n",
      "time taken: 107.68605375289917\n",
      "epoch: 272, training loss: 0.545839, training acc: 0.725853, valid loss: 0.547125, valid acc: 0.725351\n",
      "\n"
     ]
    },
    {
     "name": "stderr",
     "output_type": "stream",
     "text": [
      "train minibatch loop: 100%|██████████| 16751/16751 [01:27<00:00, 191.03it/s, accuracy=0.667, cost=0.41] \n",
      "test minibatch loop: 100%|██████████| 4188/4188 [00:19<00:00, 211.97it/s, accuracy=0.588, cost=0.703]\n",
      "train minibatch loop:   0%|          | 20/16751 [00:00<01:25, 194.60it/s, accuracy=0.656, cost=0.597]"
     ]
    },
    {
     "name": "stdout",
     "output_type": "stream",
     "text": [
      "epoch: 273, pass acc: 0.725351, current acc: 0.725448\n",
      "time taken: 107.4482364654541\n",
      "epoch: 273, training loss: 0.545728, training acc: 0.725948, valid loss: 0.547015, valid acc: 0.725448\n",
      "\n"
     ]
    },
    {
     "name": "stderr",
     "output_type": "stream",
     "text": [
      "train minibatch loop: 100%|██████████| 16751/16751 [01:27<00:00, 190.64it/s, accuracy=0.667, cost=0.41] \n",
      "test minibatch loop: 100%|██████████| 4188/4188 [00:19<00:00, 211.99it/s, accuracy=0.588, cost=0.703]\n",
      "train minibatch loop:   0%|          | 20/16751 [00:00<01:26, 193.38it/s, accuracy=0.625, cost=0.549]"
     ]
    },
    {
     "name": "stdout",
     "output_type": "stream",
     "text": [
      "epoch: 274, pass acc: 0.725448, current acc: 0.725560\n",
      "time taken: 107.6266016960144\n",
      "epoch: 274, training loss: 0.545617, training acc: 0.726103, valid loss: 0.546906, valid acc: 0.725560\n",
      "\n"
     ]
    },
    {
     "name": "stderr",
     "output_type": "stream",
     "text": [
      "train minibatch loop: 100%|██████████| 16751/16751 [01:27<00:00, 190.67it/s, accuracy=0.667, cost=0.409]\n",
      "test minibatch loop: 100%|██████████| 4188/4188 [00:19<00:00, 211.68it/s, accuracy=0.588, cost=0.703]\n",
      "train minibatch loop:   0%|          | 19/16751 [00:00<01:30, 184.58it/s, accuracy=0.656, cost=0.598]"
     ]
    },
    {
     "name": "stdout",
     "output_type": "stream",
     "text": [
      "epoch: 275, pass acc: 0.725560, current acc: 0.725643\n",
      "time taken: 107.6396963596344\n",
      "epoch: 275, training loss: 0.545506, training acc: 0.726192, valid loss: 0.546798, valid acc: 0.725643\n",
      "\n"
     ]
    },
    {
     "name": "stderr",
     "output_type": "stream",
     "text": [
      "train minibatch loop: 100%|██████████| 16751/16751 [01:27<00:00, 191.04it/s, accuracy=0.667, cost=0.409]\n",
      "test minibatch loop: 100%|██████████| 4188/4188 [00:19<00:00, 211.25it/s, accuracy=0.588, cost=0.703]\n",
      "train minibatch loop:   0%|          | 20/16751 [00:00<01:25, 194.94it/s, accuracy=0.625, cost=0.548]"
     ]
    },
    {
     "name": "stdout",
     "output_type": "stream",
     "text": [
      "epoch: 276, pass acc: 0.725643, current acc: 0.725762\n",
      "time taken: 107.51140713691711\n",
      "epoch: 276, training loss: 0.545396, training acc: 0.726331, valid loss: 0.546689, valid acc: 0.725762\n",
      "\n"
     ]
    },
    {
     "name": "stderr",
     "output_type": "stream",
     "text": [
      "train minibatch loop: 100%|██████████| 16751/16751 [01:27<00:00, 191.12it/s, accuracy=0.667, cost=0.409]\n",
      "test minibatch loop: 100%|██████████| 4188/4188 [00:19<00:00, 211.86it/s, accuracy=0.588, cost=0.703]\n",
      "train minibatch loop:   0%|          | 20/16751 [00:00<01:26, 192.46it/s, accuracy=0.656, cost=0.598]"
     ]
    },
    {
     "name": "stdout",
     "output_type": "stream",
     "text": [
      "epoch: 277, pass acc: 0.725762, current acc: 0.725866\n",
      "time taken: 107.41480302810669\n",
      "epoch: 277, training loss: 0.545286, training acc: 0.726422, valid loss: 0.546582, valid acc: 0.725866\n",
      "\n"
     ]
    },
    {
     "name": "stderr",
     "output_type": "stream",
     "text": [
      "train minibatch loop: 100%|██████████| 16751/16751 [01:27<00:00, 190.93it/s, accuracy=0.667, cost=0.408]\n",
      "test minibatch loop: 100%|██████████| 4188/4188 [00:19<00:00, 211.55it/s, accuracy=0.588, cost=0.702]\n",
      "train minibatch loop:   0%|          | 20/16751 [00:00<01:27, 192.28it/s, accuracy=0.656, cost=0.548]"
     ]
    },
    {
     "name": "stdout",
     "output_type": "stream",
     "text": [
      "epoch: 278, pass acc: 0.725866, current acc: 0.725926\n",
      "time taken: 107.53371977806091\n",
      "epoch: 278, training loss: 0.545177, training acc: 0.726491, valid loss: 0.546474, valid acc: 0.725926\n",
      "\n"
     ]
    },
    {
     "name": "stderr",
     "output_type": "stream",
     "text": [
      "train minibatch loop: 100%|██████████| 16751/16751 [01:27<00:00, 190.90it/s, accuracy=0.667, cost=0.408]\n",
      "test minibatch loop: 100%|██████████| 4188/4188 [00:19<00:00, 211.84it/s, accuracy=0.588, cost=0.702]\n",
      "train minibatch loop:   0%|          | 20/16751 [00:00<01:26, 192.88it/s, accuracy=0.656, cost=0.598]"
     ]
    },
    {
     "name": "stdout",
     "output_type": "stream",
     "text": [
      "epoch: 279, pass acc: 0.725926, current acc: 0.725978\n",
      "time taken: 107.51607656478882\n",
      "epoch: 279, training loss: 0.545068, training acc: 0.726577, valid loss: 0.546367, valid acc: 0.725978\n",
      "\n"
     ]
    },
    {
     "name": "stderr",
     "output_type": "stream",
     "text": [
      "train minibatch loop: 100%|██████████| 16751/16751 [01:27<00:00, 191.19it/s, accuracy=0.667, cost=0.408]\n",
      "test minibatch loop: 100%|██████████| 4188/4188 [00:19<00:00, 211.95it/s, accuracy=0.588, cost=0.702]\n",
      "train minibatch loop:   0%|          | 20/16751 [00:00<01:26, 194.14it/s, accuracy=0.656, cost=0.548]"
     ]
    },
    {
     "name": "stdout",
     "output_type": "stream",
     "text": [
      "epoch: 280, pass acc: 0.725978, current acc: 0.726068\n",
      "time taken: 107.37685298919678\n",
      "epoch: 280, training loss: 0.544960, training acc: 0.726623, valid loss: 0.546261, valid acc: 0.726068\n",
      "\n"
     ]
    },
    {
     "name": "stderr",
     "output_type": "stream",
     "text": [
      "train minibatch loop: 100%|██████████| 16751/16751 [01:27<00:00, 190.92it/s, accuracy=0.667, cost=0.407]\n",
      "test minibatch loop: 100%|██████████| 4188/4188 [00:19<00:00, 211.11it/s, accuracy=0.588, cost=0.702]\n",
      "train minibatch loop:   0%|          | 20/16751 [00:00<01:27, 191.42it/s, accuracy=0.688, cost=0.543]"
     ]
    },
    {
     "name": "stdout",
     "output_type": "stream",
     "text": [
      "epoch: 281, pass acc: 0.726068, current acc: 0.726210\n",
      "time taken: 107.57996535301208\n",
      "epoch: 281, training loss: 0.544852, training acc: 0.726655, valid loss: 0.546155, valid acc: 0.726210\n",
      "\n"
     ]
    },
    {
     "name": "stderr",
     "output_type": "stream",
     "text": [
      "train minibatch loop: 100%|██████████| 16751/16751 [01:27<00:00, 190.91it/s, accuracy=0.667, cost=0.407]\n",
      "test minibatch loop: 100%|██████████| 4188/4188 [00:19<00:00, 211.69it/s, accuracy=0.588, cost=0.702]\n",
      "train minibatch loop:   0%|          | 20/16751 [00:00<01:25, 195.22it/s, accuracy=0.656, cost=0.598]"
     ]
    },
    {
     "name": "stdout",
     "output_type": "stream",
     "text": [
      "epoch: 282, pass acc: 0.726210, current acc: 0.726277\n",
      "time taken: 107.52830004692078\n",
      "epoch: 282, training loss: 0.544745, training acc: 0.726719, valid loss: 0.546050, valid acc: 0.726277\n",
      "\n"
     ]
    },
    {
     "name": "stderr",
     "output_type": "stream",
     "text": [
      "train minibatch loop: 100%|██████████| 16751/16751 [01:27<00:00, 190.60it/s, accuracy=0.667, cost=0.406]\n",
      "test minibatch loop: 100%|██████████| 4188/4188 [00:19<00:00, 211.81it/s, accuracy=0.588, cost=0.702]\n",
      "train minibatch loop:   0%|          | 20/16751 [00:00<01:27, 191.77it/s, accuracy=0.656, cost=0.548]"
     ]
    },
    {
     "name": "stdout",
     "output_type": "stream",
     "text": [
      "epoch: 283, pass acc: 0.726277, current acc: 0.726366\n",
      "time taken: 107.66009879112244\n",
      "epoch: 283, training loss: 0.544638, training acc: 0.726808, valid loss: 0.545945, valid acc: 0.726366\n",
      "\n"
     ]
    },
    {
     "name": "stderr",
     "output_type": "stream",
     "text": [
      "train minibatch loop: 100%|██████████| 16751/16751 [01:27<00:00, 190.71it/s, accuracy=0.667, cost=0.406]\n",
      "test minibatch loop: 100%|██████████| 4188/4188 [00:19<00:00, 211.29it/s, accuracy=0.588, cost=0.701]\n",
      "train minibatch loop:   0%|          | 20/16751 [00:00<01:26, 194.31it/s, accuracy=0.656, cost=0.548]"
     ]
    },
    {
     "name": "stdout",
     "output_type": "stream",
     "text": [
      "epoch: 284, pass acc: 0.726366, current acc: 0.726456\n",
      "time taken: 107.65867567062378\n",
      "epoch: 284, training loss: 0.544531, training acc: 0.726885, valid loss: 0.545840, valid acc: 0.726456\n",
      "\n"
     ]
    },
    {
     "name": "stderr",
     "output_type": "stream",
     "text": [
      "train minibatch loop: 100%|██████████| 16751/16751 [01:27<00:00, 190.47it/s, accuracy=0.667, cost=0.406]\n",
      "test minibatch loop: 100%|██████████| 4188/4188 [00:19<00:00, 211.38it/s, accuracy=0.588, cost=0.701]\n",
      "train minibatch loop:   0%|          | 20/16751 [00:00<01:26, 194.39it/s, accuracy=0.656, cost=0.548]"
     ]
    },
    {
     "name": "stdout",
     "output_type": "stream",
     "text": [
      "epoch: 285, pass acc: 0.726456, current acc: 0.726501\n",
      "time taken: 107.76000905036926\n",
      "epoch: 285, training loss: 0.544425, training acc: 0.726970, valid loss: 0.545736, valid acc: 0.726501\n",
      "\n"
     ]
    },
    {
     "name": "stderr",
     "output_type": "stream",
     "text": [
      "train minibatch loop: 100%|██████████| 16751/16751 [01:27<00:00, 190.61it/s, accuracy=0.667, cost=0.405]\n",
      "test minibatch loop: 100%|██████████| 4188/4188 [00:19<00:00, 211.19it/s, accuracy=0.588, cost=0.701]\n",
      "train minibatch loop:   0%|          | 20/16751 [00:00<01:26, 193.34it/s, accuracy=0.656, cost=0.548]"
     ]
    },
    {
     "name": "stdout",
     "output_type": "stream",
     "text": [
      "epoch: 286, pass acc: 0.726501, current acc: 0.726553\n",
      "time taken: 107.71416282653809\n",
      "epoch: 286, training loss: 0.544320, training acc: 0.727049, valid loss: 0.545632, valid acc: 0.726553\n",
      "\n"
     ]
    },
    {
     "name": "stderr",
     "output_type": "stream",
     "text": [
      "train minibatch loop: 100%|██████████| 16751/16751 [01:27<00:00, 190.73it/s, accuracy=0.667, cost=0.405]\n",
      "test minibatch loop: 100%|██████████| 4188/4188 [00:19<00:00, 212.00it/s, accuracy=0.588, cost=0.701]\n",
      "train minibatch loop:   0%|          | 20/16751 [00:00<01:25, 194.67it/s, accuracy=0.656, cost=0.598]"
     ]
    },
    {
     "name": "stdout",
     "output_type": "stream",
     "text": [
      "epoch: 287, pass acc: 0.726553, current acc: 0.726650\n",
      "time taken: 107.65807867050171\n",
      "epoch: 287, training loss: 0.544215, training acc: 0.727159, valid loss: 0.545529, valid acc: 0.726650\n",
      "\n"
     ]
    },
    {
     "name": "stderr",
     "output_type": "stream",
     "text": [
      "train minibatch loop: 100%|██████████| 16751/16751 [01:27<00:00, 190.65it/s, accuracy=0.667, cost=0.404]\n",
      "test minibatch loop: 100%|██████████| 4188/4188 [00:19<00:00, 211.41it/s, accuracy=0.588, cost=0.701]\n",
      "train minibatch loop:   0%|          | 20/16751 [00:00<01:26, 193.94it/s, accuracy=0.656, cost=0.547]"
     ]
    },
    {
     "name": "stdout",
     "output_type": "stream",
     "text": [
      "epoch: 288, pass acc: 0.726650, current acc: 0.726769\n",
      "time taken: 107.67429637908936\n",
      "epoch: 288, training loss: 0.544110, training acc: 0.727245, valid loss: 0.545426, valid acc: 0.726769\n",
      "\n"
     ]
    },
    {
     "name": "stderr",
     "output_type": "stream",
     "text": [
      "train minibatch loop: 100%|██████████| 16751/16751 [01:27<00:00, 190.72it/s, accuracy=0.667, cost=0.404]\n",
      "test minibatch loop: 100%|██████████| 4188/4188 [00:19<00:00, 211.32it/s, accuracy=0.588, cost=0.701]\n",
      "train minibatch loop:   0%|          | 20/16751 [00:00<01:26, 194.46it/s, accuracy=0.656, cost=0.547]"
     ]
    },
    {
     "name": "stdout",
     "output_type": "stream",
     "text": [
      "epoch: 289, pass acc: 0.726769, current acc: 0.726822\n",
      "time taken: 107.65183806419373\n",
      "epoch: 289, training loss: 0.544006, training acc: 0.727342, valid loss: 0.545324, valid acc: 0.726822\n",
      "\n"
     ]
    },
    {
     "name": "stderr",
     "output_type": "stream",
     "text": [
      "train minibatch loop: 100%|██████████| 16751/16751 [01:27<00:00, 190.58it/s, accuracy=0.667, cost=0.404]\n",
      "test minibatch loop: 100%|██████████| 4188/4188 [00:19<00:00, 210.87it/s, accuracy=0.588, cost=0.701]\n",
      "train minibatch loop:   0%|          | 20/16751 [00:00<01:31, 183.62it/s, accuracy=0.688, cost=0.542]"
     ]
    },
    {
     "name": "stdout",
     "output_type": "stream",
     "text": [
      "epoch: 290, pass acc: 0.726822, current acc: 0.726844\n",
      "time taken: 107.75516629219055\n",
      "epoch: 290, training loss: 0.543902, training acc: 0.727400, valid loss: 0.545221, valid acc: 0.726844\n",
      "\n"
     ]
    },
    {
     "name": "stderr",
     "output_type": "stream",
     "text": [
      "train minibatch loop: 100%|██████████| 16751/16751 [01:27<00:00, 190.69it/s, accuracy=0.667, cost=0.403]\n",
      "test minibatch loop: 100%|██████████| 4188/4188 [00:19<00:00, 211.06it/s, accuracy=0.588, cost=0.7]  \n",
      "train minibatch loop:   0%|          | 20/16751 [00:00<01:26, 192.49it/s, accuracy=0.656, cost=0.599]"
     ]
    },
    {
     "name": "stdout",
     "output_type": "stream",
     "text": [
      "epoch: 291, pass acc: 0.726844, current acc: 0.726911\n",
      "time taken: 107.68788576126099\n",
      "epoch: 291, training loss: 0.543798, training acc: 0.727483, valid loss: 0.545120, valid acc: 0.726911\n",
      "\n"
     ]
    },
    {
     "name": "stderr",
     "output_type": "stream",
     "text": [
      "train minibatch loop: 100%|██████████| 16751/16751 [01:27<00:00, 190.85it/s, accuracy=0.667, cost=0.403]\n",
      "test minibatch loop: 100%|██████████| 4188/4188 [00:19<00:00, 211.19it/s, accuracy=0.588, cost=0.7]  \n",
      "train minibatch loop:   0%|          | 20/16751 [00:00<01:26, 192.96it/s, accuracy=0.688, cost=0.547]"
     ]
    },
    {
     "name": "stdout",
     "output_type": "stream",
     "text": [
      "epoch: 292, pass acc: 0.726911, current acc: 0.727053\n",
      "time taken: 107.6039662361145\n",
      "epoch: 292, training loss: 0.543695, training acc: 0.727547, valid loss: 0.545019, valid acc: 0.727053\n",
      "\n"
     ]
    },
    {
     "name": "stderr",
     "output_type": "stream",
     "text": [
      "train minibatch loop: 100%|██████████| 16751/16751 [01:27<00:00, 190.78it/s, accuracy=0.667, cost=0.403]\n",
      "test minibatch loop: 100%|██████████| 4188/4188 [00:19<00:00, 211.35it/s, accuracy=0.588, cost=0.7]  \n",
      "train minibatch loop:   0%|          | 20/16751 [00:00<01:27, 192.17it/s, accuracy=0.656, cost=0.599]"
     ]
    },
    {
     "name": "stdout",
     "output_type": "stream",
     "text": [
      "epoch: 293, pass acc: 0.727053, current acc: 0.727113\n",
      "time taken: 107.6213812828064\n",
      "epoch: 293, training loss: 0.543593, training acc: 0.727638, valid loss: 0.544918, valid acc: 0.727113\n",
      "\n"
     ]
    },
    {
     "name": "stderr",
     "output_type": "stream",
     "text": [
      "train minibatch loop: 100%|██████████| 16751/16751 [01:27<00:00, 190.78it/s, accuracy=0.667, cost=0.402]\n",
      "test minibatch loop: 100%|██████████| 4188/4188 [00:19<00:00, 211.45it/s, accuracy=0.588, cost=0.7]  \n",
      "train minibatch loop:   0%|          | 20/16751 [00:00<01:26, 194.33it/s, accuracy=0.656, cost=0.599]"
     ]
    },
    {
     "name": "stdout",
     "output_type": "stream",
     "text": [
      "time taken: 107.6103036403656\n",
      "epoch: 294, training loss: 0.543491, training acc: 0.727733, valid loss: 0.544818, valid acc: 0.727083\n",
      "\n"
     ]
    },
    {
     "name": "stderr",
     "output_type": "stream",
     "text": [
      "train minibatch loop: 100%|██████████| 16751/16751 [01:27<00:00, 190.85it/s, accuracy=0.667, cost=0.402]\n",
      "test minibatch loop: 100%|██████████| 4188/4188 [00:19<00:00, 211.06it/s, accuracy=0.647, cost=0.7]  \n",
      "train minibatch loop:   0%|          | 20/16751 [00:00<01:27, 191.74it/s, accuracy=0.656, cost=0.599]"
     ]
    },
    {
     "name": "stdout",
     "output_type": "stream",
     "text": [
      "epoch: 295, pass acc: 0.727113, current acc: 0.727119\n",
      "time taken: 107.61555242538452\n",
      "epoch: 295, training loss: 0.543389, training acc: 0.727834, valid loss: 0.544718, valid acc: 0.727119\n",
      "\n"
     ]
    },
    {
     "name": "stderr",
     "output_type": "stream",
     "text": [
      "train minibatch loop: 100%|██████████| 16751/16751 [01:27<00:00, 190.71it/s, accuracy=0.667, cost=0.402]\n",
      "test minibatch loop: 100%|██████████| 4188/4188 [00:19<00:00, 210.90it/s, accuracy=0.647, cost=0.7]  \n",
      "train minibatch loop:   0%|          | 20/16751 [00:00<01:27, 191.81it/s, accuracy=0.656, cost=0.599]"
     ]
    },
    {
     "name": "stdout",
     "output_type": "stream",
     "text": [
      "epoch: 296, pass acc: 0.727119, current acc: 0.727171\n",
      "time taken: 107.69703197479248\n",
      "epoch: 296, training loss: 0.543287, training acc: 0.727916, valid loss: 0.544618, valid acc: 0.727171\n",
      "\n"
     ]
    },
    {
     "name": "stderr",
     "output_type": "stream",
     "text": [
      "train minibatch loop: 100%|██████████| 16751/16751 [01:27<00:00, 190.82it/s, accuracy=0.667, cost=0.401]\n",
      "test minibatch loop: 100%|██████████| 4188/4188 [00:19<00:00, 211.17it/s, accuracy=0.647, cost=0.699]\n",
      "train minibatch loop:   0%|          | 19/16751 [00:00<01:28, 189.41it/s, accuracy=0.656, cost=0.599]"
     ]
    },
    {
     "name": "stdout",
     "output_type": "stream",
     "text": [
      "epoch: 297, pass acc: 0.727171, current acc: 0.727224\n",
      "time taken: 107.61816334724426\n",
      "epoch: 297, training loss: 0.543186, training acc: 0.727983, valid loss: 0.544519, valid acc: 0.727224\n",
      "\n"
     ]
    },
    {
     "name": "stderr",
     "output_type": "stream",
     "text": [
      "train minibatch loop: 100%|██████████| 16751/16751 [01:28<00:00, 190.30it/s, accuracy=0.667, cost=0.401]\n",
      "test minibatch loop: 100%|██████████| 4188/4188 [00:19<00:00, 210.89it/s, accuracy=0.647, cost=0.699]\n",
      "train minibatch loop:   0%|          | 20/16751 [00:00<01:27, 192.14it/s, accuracy=0.656, cost=0.599]"
     ]
    },
    {
     "name": "stdout",
     "output_type": "stream",
     "text": [
      "epoch: 298, pass acc: 0.727224, current acc: 0.727306\n",
      "time taken: 107.88475036621094\n",
      "epoch: 298, training loss: 0.543086, training acc: 0.728075, valid loss: 0.544420, valid acc: 0.727306\n",
      "\n"
     ]
    },
    {
     "name": "stderr",
     "output_type": "stream",
     "text": [
      "train minibatch loop: 100%|██████████| 16751/16751 [01:28<00:00, 190.23it/s, accuracy=0.667, cost=0.401]\n",
      "test minibatch loop: 100%|██████████| 4188/4188 [00:19<00:00, 210.73it/s, accuracy=0.647, cost=0.699]\n",
      "train minibatch loop:   0%|          | 20/16751 [00:00<01:26, 192.95it/s, accuracy=0.688, cost=0.546]"
     ]
    },
    {
     "name": "stdout",
     "output_type": "stream",
     "text": [
      "epoch: 299, pass acc: 0.727306, current acc: 0.727425\n",
      "time taken: 107.92917490005493\n",
      "epoch: 299, training loss: 0.542986, training acc: 0.728157, valid loss: 0.544322, valid acc: 0.727425\n",
      "\n"
     ]
    },
    {
     "name": "stderr",
     "output_type": "stream",
     "text": [
      "train minibatch loop: 100%|██████████| 16751/16751 [01:28<00:00, 190.34it/s, accuracy=0.667, cost=0.4]  \n",
      "test minibatch loop: 100%|██████████| 4188/4188 [00:19<00:00, 210.50it/s, accuracy=0.647, cost=0.699]\n",
      "train minibatch loop:   0%|          | 20/16751 [00:00<01:26, 192.58it/s, accuracy=0.656, cost=0.599]"
     ]
    },
    {
     "name": "stdout",
     "output_type": "stream",
     "text": [
      "epoch: 300, pass acc: 0.727425, current acc: 0.727485\n",
      "time taken: 107.90094494819641\n",
      "epoch: 300, training loss: 0.542886, training acc: 0.728261, valid loss: 0.544224, valid acc: 0.727485\n",
      "\n"
     ]
    },
    {
     "name": "stderr",
     "output_type": "stream",
     "text": [
      "train minibatch loop: 100%|██████████| 16751/16751 [01:28<00:00, 190.21it/s, accuracy=0.667, cost=0.4]  \n",
      "test minibatch loop: 100%|██████████| 4188/4188 [00:19<00:00, 210.46it/s, accuracy=0.647, cost=0.699]\n",
      "train minibatch loop:   0%|          | 20/16751 [00:00<01:26, 194.04it/s, accuracy=0.688, cost=0.546]"
     ]
    },
    {
     "name": "stdout",
     "output_type": "stream",
     "text": [
      "epoch: 301, pass acc: 0.727485, current acc: 0.727522\n",
      "time taken: 107.968505859375\n",
      "epoch: 301, training loss: 0.542787, training acc: 0.728301, valid loss: 0.544126, valid acc: 0.727522\n",
      "\n"
     ]
    },
    {
     "name": "stderr",
     "output_type": "stream",
     "text": [
      "train minibatch loop: 100%|██████████| 16751/16751 [01:27<00:00, 190.51it/s, accuracy=0.667, cost=0.4]  \n",
      "test minibatch loop: 100%|██████████| 4188/4188 [00:19<00:00, 210.49it/s, accuracy=0.647, cost=0.699]\n",
      "train minibatch loop:   0%|          | 20/16751 [00:00<01:26, 192.70it/s, accuracy=0.656, cost=0.599]"
     ]
    },
    {
     "name": "stdout",
     "output_type": "stream",
     "text": [
      "epoch: 302, pass acc: 0.727522, current acc: 0.727649\n",
      "time taken: 107.75833296775818\n",
      "epoch: 302, training loss: 0.542688, training acc: 0.728317, valid loss: 0.544029, valid acc: 0.727649\n",
      "\n"
     ]
    },
    {
     "name": "stderr",
     "output_type": "stream",
     "text": [
      "train minibatch loop: 100%|██████████| 16751/16751 [01:27<00:00, 190.38it/s, accuracy=0.667, cost=0.399]\n",
      "test minibatch loop: 100%|██████████| 4188/4188 [00:19<00:00, 211.16it/s, accuracy=0.647, cost=0.698]\n",
      "train minibatch loop:   0%|          | 20/16751 [00:00<01:26, 193.90it/s, accuracy=0.688, cost=0.546]"
     ]
    },
    {
     "name": "stdout",
     "output_type": "stream",
     "text": [
      "epoch: 303, pass acc: 0.727649, current acc: 0.727657\n",
      "time taken: 107.82089495658875\n",
      "epoch: 303, training loss: 0.542589, training acc: 0.728390, valid loss: 0.543932, valid acc: 0.727657\n",
      "\n"
     ]
    },
    {
     "name": "stderr",
     "output_type": "stream",
     "text": [
      "train minibatch loop: 100%|██████████| 16751/16751 [01:27<00:00, 190.60it/s, accuracy=0.667, cost=0.399]\n",
      "test minibatch loop: 100%|██████████| 4188/4188 [00:19<00:00, 211.05it/s, accuracy=0.647, cost=0.698]\n",
      "train minibatch loop:   0%|          | 20/16751 [00:00<01:26, 193.78it/s, accuracy=0.656, cost=0.599]"
     ]
    },
    {
     "name": "stdout",
     "output_type": "stream",
     "text": [
      "epoch: 304, pass acc: 0.727657, current acc: 0.727813\n",
      "time taken: 107.73215818405151\n",
      "epoch: 304, training loss: 0.542491, training acc: 0.728472, valid loss: 0.543836, valid acc: 0.727813\n",
      "\n"
     ]
    },
    {
     "name": "stderr",
     "output_type": "stream",
     "text": [
      "train minibatch loop: 100%|██████████| 16751/16751 [01:27<00:00, 190.41it/s, accuracy=0.667, cost=0.399]\n",
      "test minibatch loop: 100%|██████████| 4188/4188 [00:19<00:00, 210.87it/s, accuracy=0.647, cost=0.698]\n",
      "train minibatch loop:   0%|          | 20/16751 [00:00<01:26, 193.42it/s, accuracy=0.688, cost=0.546]"
     ]
    },
    {
     "name": "stdout",
     "output_type": "stream",
     "text": [
      "epoch: 305, pass acc: 0.727813, current acc: 0.727940\n",
      "time taken: 107.83611345291138\n",
      "epoch: 305, training loss: 0.542393, training acc: 0.728530, valid loss: 0.543740, valid acc: 0.727940\n",
      "\n"
     ]
    },
    {
     "name": "stderr",
     "output_type": "stream",
     "text": [
      "train minibatch loop: 100%|██████████| 16751/16751 [01:27<00:00, 190.50it/s, accuracy=0.667, cost=0.398]\n",
      "test minibatch loop: 100%|██████████| 4188/4188 [00:19<00:00, 210.70it/s, accuracy=0.647, cost=0.698]\n",
      "train minibatch loop:   0%|          | 19/16751 [00:00<01:28, 189.71it/s, accuracy=0.656, cost=0.6]  "
     ]
    },
    {
     "name": "stdout",
     "output_type": "stream",
     "text": [
      "epoch: 306, pass acc: 0.727940, current acc: 0.728022\n",
      "time taken: 107.81031322479248\n",
      "epoch: 306, training loss: 0.542296, training acc: 0.728631, valid loss: 0.543644, valid acc: 0.728022\n",
      "\n"
     ]
    },
    {
     "name": "stderr",
     "output_type": "stream",
     "text": [
      "train minibatch loop: 100%|██████████| 16751/16751 [01:28<00:00, 190.34it/s, accuracy=0.667, cost=0.398]\n",
      "test minibatch loop: 100%|██████████| 4188/4188 [00:19<00:00, 210.91it/s, accuracy=0.647, cost=0.698]\n",
      "train minibatch loop:   0%|          | 20/16751 [00:00<01:27, 192.18it/s, accuracy=0.656, cost=0.6]  "
     ]
    },
    {
     "name": "stdout",
     "output_type": "stream",
     "text": [
      "epoch: 307, pass acc: 0.728022, current acc: 0.728194\n",
      "time taken: 107.86465096473694\n",
      "epoch: 307, training loss: 0.542199, training acc: 0.728704, valid loss: 0.543549, valid acc: 0.728194\n",
      "\n"
     ]
    },
    {
     "name": "stderr",
     "output_type": "stream",
     "text": [
      "train minibatch loop: 100%|██████████| 16751/16751 [01:28<00:00, 190.17it/s, accuracy=0.667, cost=0.398]\n",
      "test minibatch loop: 100%|██████████| 4188/4188 [00:19<00:00, 211.32it/s, accuracy=0.647, cost=0.698]\n",
      "train minibatch loop:   0%|          | 20/16751 [00:00<01:25, 194.73it/s, accuracy=0.688, cost=0.546]"
     ]
    },
    {
     "name": "stdout",
     "output_type": "stream",
     "text": [
      "epoch: 308, pass acc: 0.728194, current acc: 0.728313\n",
      "time taken: 107.93775606155396\n",
      "epoch: 308, training loss: 0.542102, training acc: 0.728788, valid loss: 0.543454, valid acc: 0.728313\n",
      "\n"
     ]
    },
    {
     "name": "stderr",
     "output_type": "stream",
     "text": [
      "train minibatch loop: 100%|██████████| 16751/16751 [01:27<00:00, 190.51it/s, accuracy=0.667, cost=0.397]\n",
      "test minibatch loop: 100%|██████████| 4188/4188 [00:19<00:00, 211.60it/s, accuracy=0.647, cost=0.698]\n",
      "train minibatch loop:   0%|          | 20/16751 [00:00<01:27, 191.05it/s, accuracy=0.656, cost=0.6]  "
     ]
    },
    {
     "name": "stdout",
     "output_type": "stream",
     "text": [
      "epoch: 309, pass acc: 0.728313, current acc: 0.728448\n",
      "time taken: 107.72343516349792\n",
      "epoch: 309, training loss: 0.542006, training acc: 0.728918, valid loss: 0.543360, valid acc: 0.728448\n",
      "\n"
     ]
    },
    {
     "name": "stderr",
     "output_type": "stream",
     "text": [
      "train minibatch loop: 100%|██████████| 16751/16751 [01:27<00:00, 190.65it/s, accuracy=0.667, cost=0.397]\n",
      "test minibatch loop: 100%|██████████| 4188/4188 [00:19<00:00, 210.97it/s, accuracy=0.647, cost=0.697]\n",
      "train minibatch loop:   0%|          | 20/16751 [00:00<01:25, 195.00it/s, accuracy=0.688, cost=0.546]"
     ]
    },
    {
     "name": "stdout",
     "output_type": "stream",
     "text": [
      "epoch: 310, pass acc: 0.728448, current acc: 0.728515\n",
      "time taken: 107.7146863937378\n",
      "epoch: 310, training loss: 0.541910, training acc: 0.728995, valid loss: 0.543265, valid acc: 0.728515\n",
      "\n"
     ]
    },
    {
     "name": "stderr",
     "output_type": "stream",
     "text": [
      "train minibatch loop: 100%|██████████| 16751/16751 [01:27<00:00, 190.48it/s, accuracy=0.667, cost=0.397]\n",
      "test minibatch loop: 100%|██████████| 4188/4188 [00:19<00:00, 207.39it/s, accuracy=0.647, cost=0.697]\n",
      "train minibatch loop:   0%|          | 20/16751 [00:00<01:27, 191.00it/s, accuracy=0.656, cost=0.6]  "
     ]
    },
    {
     "name": "stdout",
     "output_type": "stream",
     "text": [
      "epoch: 311, pass acc: 0.728515, current acc: 0.728634\n",
      "time taken: 107.7980945110321\n",
      "epoch: 311, training loss: 0.541814, training acc: 0.729064, valid loss: 0.543172, valid acc: 0.728634\n",
      "\n"
     ]
    },
    {
     "name": "stderr",
     "output_type": "stream",
     "text": [
      "train minibatch loop: 100%|██████████| 16751/16751 [01:27<00:00, 190.62it/s, accuracy=0.667, cost=0.396]\n",
      "test minibatch loop: 100%|██████████| 4188/4188 [00:19<00:00, 211.23it/s, accuracy=0.647, cost=0.697]\n",
      "train minibatch loop:   0%|          | 20/16751 [00:00<01:25, 195.18it/s, accuracy=0.688, cost=0.546]"
     ]
    },
    {
     "name": "stdout",
     "output_type": "stream",
     "text": [
      "epoch: 312, pass acc: 0.728634, current acc: 0.728679\n",
      "time taken: 107.7034068107605\n",
      "epoch: 312, training loss: 0.541719, training acc: 0.729146, valid loss: 0.543078, valid acc: 0.728679\n",
      "\n"
     ]
    },
    {
     "name": "stderr",
     "output_type": "stream",
     "text": [
      "train minibatch loop: 100%|██████████| 16751/16751 [01:27<00:00, 190.44it/s, accuracy=0.667, cost=0.396]\n",
      "test minibatch loop: 100%|██████████| 4188/4188 [00:19<00:00, 210.78it/s, accuracy=0.647, cost=0.697]\n",
      "train minibatch loop:   0%|          | 20/16751 [00:00<01:26, 193.10it/s, accuracy=0.656, cost=0.6]  "
     ]
    },
    {
     "name": "stdout",
     "output_type": "stream",
     "text": [
      "epoch: 313, pass acc: 0.728679, current acc: 0.728694\n",
      "time taken: 107.82958602905273\n",
      "epoch: 313, training loss: 0.541624, training acc: 0.729226, valid loss: 0.542985, valid acc: 0.728694\n",
      "\n"
     ]
    },
    {
     "name": "stderr",
     "output_type": "stream",
     "text": [
      "train minibatch loop: 100%|██████████| 16751/16751 [01:27<00:00, 190.38it/s, accuracy=0.667, cost=0.396]\n",
      "test minibatch loop: 100%|██████████| 4188/4188 [00:19<00:00, 210.95it/s, accuracy=0.647, cost=0.697]\n",
      "train minibatch loop:   0%|          | 20/16751 [00:00<01:27, 192.00it/s, accuracy=0.656, cost=0.6]  "
     ]
    },
    {
     "name": "stdout",
     "output_type": "stream",
     "text": [
      "epoch: 314, pass acc: 0.728694, current acc: 0.728813\n",
      "time taken: 107.84244203567505\n",
      "epoch: 314, training loss: 0.541530, training acc: 0.729325, valid loss: 0.542892, valid acc: 0.728813\n",
      "\n"
     ]
    },
    {
     "name": "stderr",
     "output_type": "stream",
     "text": [
      "train minibatch loop: 100%|██████████| 16751/16751 [01:27<00:00, 190.44it/s, accuracy=0.667, cost=0.395]\n",
      "test minibatch loop: 100%|██████████| 4188/4188 [00:19<00:00, 210.46it/s, accuracy=0.647, cost=0.697]\n",
      "train minibatch loop:   0%|          | 20/16751 [00:00<01:26, 194.45it/s, accuracy=0.688, cost=0.545]"
     ]
    },
    {
     "name": "stdout",
     "output_type": "stream",
     "text": [
      "epoch: 315, pass acc: 0.728813, current acc: 0.728918\n",
      "time taken: 107.85835289955139\n",
      "epoch: 315, training loss: 0.541436, training acc: 0.729394, valid loss: 0.542800, valid acc: 0.728918\n",
      "\n"
     ]
    },
    {
     "name": "stderr",
     "output_type": "stream",
     "text": [
      "train minibatch loop: 100%|██████████| 16751/16751 [01:27<00:00, 190.68it/s, accuracy=0.667, cost=0.395]\n",
      "test minibatch loop: 100%|██████████| 4188/4188 [00:19<00:00, 210.43it/s, accuracy=0.647, cost=0.696]\n",
      "train minibatch loop:   0%|          | 20/16751 [00:00<01:27, 191.30it/s, accuracy=0.688, cost=0.545]"
     ]
    },
    {
     "name": "stdout",
     "output_type": "stream",
     "text": [
      "epoch: 316, pass acc: 0.728918, current acc: 0.729007\n",
      "time taken: 107.75244879722595\n",
      "epoch: 316, training loss: 0.541342, training acc: 0.729457, valid loss: 0.542708, valid acc: 0.729007\n",
      "\n"
     ]
    },
    {
     "name": "stderr",
     "output_type": "stream",
     "text": [
      "train minibatch loop: 100%|██████████| 16751/16751 [01:27<00:00, 190.57it/s, accuracy=0.667, cost=0.395]\n",
      "test minibatch loop: 100%|██████████| 4188/4188 [00:19<00:00, 211.07it/s, accuracy=0.647, cost=0.696]\n",
      "train minibatch loop:   0%|          | 20/16751 [00:00<01:26, 192.78it/s, accuracy=0.656, cost=0.6]  "
     ]
    },
    {
     "name": "stdout",
     "output_type": "stream",
     "text": [
      "epoch: 317, pass acc: 0.729007, current acc: 0.729186\n",
      "time taken: 107.74424052238464\n",
      "epoch: 317, training loss: 0.541249, training acc: 0.729526, valid loss: 0.542617, valid acc: 0.729186\n",
      "\n"
     ]
    },
    {
     "name": "stderr",
     "output_type": "stream",
     "text": [
      "train minibatch loop: 100%|██████████| 16751/16751 [01:27<00:00, 190.70it/s, accuracy=0.667, cost=0.394]\n",
      "test minibatch loop: 100%|██████████| 4188/4188 [00:19<00:00, 212.41it/s, accuracy=0.647, cost=0.696]\n",
      "train minibatch loop:   0%|          | 20/16751 [00:00<01:26, 193.06it/s, accuracy=0.688, cost=0.545]"
     ]
    },
    {
     "name": "stdout",
     "output_type": "stream",
     "text": [
      "epoch: 318, pass acc: 0.729186, current acc: 0.729283\n",
      "time taken: 107.55879735946655\n",
      "epoch: 318, training loss: 0.541156, training acc: 0.729608, valid loss: 0.542525, valid acc: 0.729283\n",
      "\n"
     ]
    },
    {
     "name": "stderr",
     "output_type": "stream",
     "text": [
      "train minibatch loop: 100%|██████████| 16751/16751 [01:27<00:00, 190.64it/s, accuracy=0.667, cost=0.394]\n",
      "test minibatch loop: 100%|██████████| 4188/4188 [00:19<00:00, 211.09it/s, accuracy=0.647, cost=0.696]\n",
      "train minibatch loop:   0%|          | 20/16751 [00:00<01:25, 194.57it/s, accuracy=0.688, cost=0.545]"
     ]
    },
    {
     "name": "stdout",
     "output_type": "stream",
     "text": [
      "epoch: 319, pass acc: 0.729283, current acc: 0.729351\n",
      "time taken: 107.71065497398376\n",
      "epoch: 319, training loss: 0.541063, training acc: 0.729720, valid loss: 0.542434, valid acc: 0.729351\n",
      "\n"
     ]
    },
    {
     "name": "stderr",
     "output_type": "stream",
     "text": [
      "train minibatch loop: 100%|██████████| 16751/16751 [01:27<00:00, 190.54it/s, accuracy=0.667, cost=0.394]\n",
      "test minibatch loop: 100%|██████████| 4188/4188 [00:19<00:00, 210.88it/s, accuracy=0.647, cost=0.696]\n",
      "train minibatch loop:   0%|          | 20/16751 [00:00<01:26, 192.64it/s, accuracy=0.656, cost=0.6]  "
     ]
    },
    {
     "name": "stdout",
     "output_type": "stream",
     "text": [
      "epoch: 320, pass acc: 0.729351, current acc: 0.729440\n",
      "time taken: 107.77616763114929\n",
      "epoch: 320, training loss: 0.540971, training acc: 0.729789, valid loss: 0.542344, valid acc: 0.729440\n",
      "\n"
     ]
    },
    {
     "name": "stderr",
     "output_type": "stream",
     "text": [
      "train minibatch loop: 100%|██████████| 16751/16751 [01:27<00:00, 190.58it/s, accuracy=0.667, cost=0.393]\n",
      "test minibatch loop: 100%|██████████| 4188/4188 [00:19<00:00, 211.19it/s, accuracy=0.647, cost=0.696]\n",
      "train minibatch loop:   0%|          | 20/16751 [00:00<01:28, 190.11it/s, accuracy=0.656, cost=0.6]  "
     ]
    },
    {
     "name": "stdout",
     "output_type": "stream",
     "text": [
      "epoch: 321, pass acc: 0.729440, current acc: 0.729552\n",
      "time taken: 107.72877550125122\n",
      "epoch: 321, training loss: 0.540879, training acc: 0.729847, valid loss: 0.542254, valid acc: 0.729552\n",
      "\n"
     ]
    },
    {
     "name": "stderr",
     "output_type": "stream",
     "text": [
      "train minibatch loop: 100%|██████████| 16751/16751 [01:27<00:00, 190.47it/s, accuracy=0.667, cost=0.393]\n",
      "test minibatch loop: 100%|██████████| 4188/4188 [00:19<00:00, 211.13it/s, accuracy=0.647, cost=0.695]\n",
      "train minibatch loop:   0%|          | 20/16751 [00:00<01:26, 192.99it/s, accuracy=0.688, cost=0.545]"
     ]
    },
    {
     "name": "stdout",
     "output_type": "stream",
     "text": [
      "time taken: 107.7813868522644\n",
      "epoch: 322, training loss: 0.540788, training acc: 0.729935, valid loss: 0.542164, valid acc: 0.729537\n",
      "\n"
     ]
    },
    {
     "name": "stderr",
     "output_type": "stream",
     "text": [
      "train minibatch loop: 100%|██████████| 16751/16751 [01:27<00:00, 190.73it/s, accuracy=0.667, cost=0.393]\n",
      "test minibatch loop: 100%|██████████| 4188/4188 [00:19<00:00, 211.44it/s, accuracy=0.647, cost=0.695]\n",
      "train minibatch loop:   0%|          | 20/16751 [00:00<01:28, 188.89it/s, accuracy=0.656, cost=0.601]"
     ]
    },
    {
     "name": "stdout",
     "output_type": "stream",
     "text": [
      "epoch: 323, pass acc: 0.729552, current acc: 0.729582\n",
      "time taken: 107.63419604301453\n",
      "epoch: 323, training loss: 0.540696, training acc: 0.730004, valid loss: 0.542074, valid acc: 0.729582\n",
      "\n"
     ]
    },
    {
     "name": "stderr",
     "output_type": "stream",
     "text": [
      "train minibatch loop: 100%|██████████| 16751/16751 [01:28<00:00, 190.21it/s, accuracy=0.667, cost=0.392]\n",
      "test minibatch loop: 100%|██████████| 4188/4188 [00:19<00:00, 211.11it/s, accuracy=0.647, cost=0.695]\n",
      "train minibatch loop:   0%|          | 20/16751 [00:00<01:26, 193.70it/s, accuracy=0.656, cost=0.601]"
     ]
    },
    {
     "name": "stdout",
     "output_type": "stream",
     "text": [
      "epoch: 324, pass acc: 0.729582, current acc: 0.729716\n",
      "time taken: 107.90370178222656\n",
      "epoch: 324, training loss: 0.540606, training acc: 0.730084, valid loss: 0.541985, valid acc: 0.729716\n",
      "\n"
     ]
    },
    {
     "name": "stderr",
     "output_type": "stream",
     "text": [
      "train minibatch loop: 100%|██████████| 16751/16751 [01:28<00:00, 190.32it/s, accuracy=0.667, cost=0.392]\n",
      "test minibatch loop: 100%|██████████| 4188/4188 [00:19<00:00, 210.50it/s, accuracy=0.647, cost=0.695]\n",
      "train minibatch loop:   0%|          | 20/16751 [00:00<01:26, 193.78it/s, accuracy=0.656, cost=0.601]"
     ]
    },
    {
     "name": "stdout",
     "output_type": "stream",
     "text": [
      "epoch: 325, pass acc: 0.729716, current acc: 0.729880\n",
      "time taken: 107.91086602210999\n",
      "epoch: 325, training loss: 0.540515, training acc: 0.730163, valid loss: 0.541896, valid acc: 0.729880\n",
      "\n"
     ]
    },
    {
     "name": "stderr",
     "output_type": "stream",
     "text": [
      "train minibatch loop: 100%|██████████| 16751/16751 [01:27<00:00, 190.62it/s, accuracy=0.667, cost=0.392]\n",
      "test minibatch loop: 100%|██████████| 4188/4188 [00:19<00:00, 211.32it/s, accuracy=0.647, cost=0.695]\n",
      "train minibatch loop:   0%|          | 20/16751 [00:00<01:27, 191.80it/s, accuracy=0.656, cost=0.601]"
     ]
    },
    {
     "name": "stdout",
     "output_type": "stream",
     "text": [
      "epoch: 326, pass acc: 0.729880, current acc: 0.729977\n",
      "time taken: 107.69626331329346\n",
      "epoch: 326, training loss: 0.540425, training acc: 0.730224, valid loss: 0.541808, valid acc: 0.729977\n",
      "\n"
     ]
    },
    {
     "name": "stderr",
     "output_type": "stream",
     "text": [
      "train minibatch loop: 100%|██████████| 16751/16751 [01:27<00:00, 190.40it/s, accuracy=0.667, cost=0.392]\n",
      "test minibatch loop: 100%|██████████| 4188/4188 [00:19<00:00, 211.53it/s, accuracy=0.647, cost=0.695]\n",
      "train minibatch loop:   0%|          | 20/16751 [00:00<01:26, 192.80it/s, accuracy=0.656, cost=0.601]"
     ]
    },
    {
     "name": "stdout",
     "output_type": "stream",
     "text": [
      "epoch: 327, pass acc: 0.729977, current acc: 0.730104\n",
      "time taken: 107.77745008468628\n",
      "epoch: 327, training loss: 0.540335, training acc: 0.730314, valid loss: 0.541719, valid acc: 0.730104\n",
      "\n"
     ]
    },
    {
     "name": "stderr",
     "output_type": "stream",
     "text": [
      "train minibatch loop: 100%|██████████| 16751/16751 [01:27<00:00, 190.56it/s, accuracy=0.667, cost=0.391]\n",
      "test minibatch loop: 100%|██████████| 4188/4188 [00:19<00:00, 211.45it/s, accuracy=0.647, cost=0.694]\n",
      "train minibatch loop:   0%|          | 19/16751 [00:00<01:28, 188.89it/s, accuracy=0.656, cost=0.601]"
     ]
    },
    {
     "name": "stdout",
     "output_type": "stream",
     "text": [
      "epoch: 328, pass acc: 0.730104, current acc: 0.730209\n",
      "time taken: 107.71200633049011\n",
      "epoch: 328, training loss: 0.540245, training acc: 0.730360, valid loss: 0.541632, valid acc: 0.730209\n",
      "\n"
     ]
    },
    {
     "name": "stderr",
     "output_type": "stream",
     "text": [
      "train minibatch loop: 100%|██████████| 16751/16751 [01:27<00:00, 190.46it/s, accuracy=0.667, cost=0.391]\n",
      "test minibatch loop: 100%|██████████| 4188/4188 [00:19<00:00, 211.37it/s, accuracy=0.647, cost=0.694]\n",
      "train minibatch loop:   0%|          | 20/16751 [00:00<01:26, 192.66it/s, accuracy=0.688, cost=0.545]"
     ]
    },
    {
     "name": "stdout",
     "output_type": "stream",
     "text": [
      "epoch: 329, pass acc: 0.730209, current acc: 0.730283\n",
      "time taken: 107.76713943481445\n",
      "epoch: 329, training loss: 0.540156, training acc: 0.730437, valid loss: 0.541544, valid acc: 0.730283\n",
      "\n"
     ]
    },
    {
     "name": "stderr",
     "output_type": "stream",
     "text": [
      "train minibatch loop: 100%|██████████| 16751/16751 [01:27<00:00, 190.63it/s, accuracy=0.667, cost=0.391]\n",
      "test minibatch loop: 100%|██████████| 4188/4188 [00:19<00:00, 211.39it/s, accuracy=0.647, cost=0.694]\n",
      "train minibatch loop:   0%|          | 20/16751 [00:00<01:26, 193.09it/s, accuracy=0.688, cost=0.545]"
     ]
    },
    {
     "name": "stdout",
     "output_type": "stream",
     "text": [
      "epoch: 330, pass acc: 0.730283, current acc: 0.730425\n",
      "time taken: 107.68493580818176\n",
      "epoch: 330, training loss: 0.540067, training acc: 0.730510, valid loss: 0.541457, valid acc: 0.730425\n",
      "\n"
     ]
    },
    {
     "name": "stderr",
     "output_type": "stream",
     "text": [
      "train minibatch loop: 100%|██████████| 16751/16751 [01:27<00:00, 190.76it/s, accuracy=0.667, cost=0.39] \n",
      "test minibatch loop: 100%|██████████| 4188/4188 [00:19<00:00, 211.28it/s, accuracy=0.647, cost=0.694]\n",
      "train minibatch loop:   0%|          | 20/16751 [00:00<01:27, 191.42it/s, accuracy=0.656, cost=0.601]"
     ]
    },
    {
     "name": "stdout",
     "output_type": "stream",
     "text": [
      "epoch: 331, pass acc: 0.730425, current acc: 0.730440\n",
      "time taken: 107.63684582710266\n",
      "epoch: 331, training loss: 0.539979, training acc: 0.730551, valid loss: 0.541370, valid acc: 0.730440\n",
      "\n"
     ]
    },
    {
     "name": "stderr",
     "output_type": "stream",
     "text": [
      "train minibatch loop: 100%|██████████| 16751/16751 [01:27<00:00, 190.62it/s, accuracy=0.667, cost=0.39] \n",
      "test minibatch loop: 100%|██████████| 4188/4188 [00:19<00:00, 211.38it/s, accuracy=0.647, cost=0.694]\n",
      "train minibatch loop:   0%|          | 20/16751 [00:00<01:26, 193.82it/s, accuracy=0.656, cost=0.601]"
     ]
    },
    {
     "name": "stdout",
     "output_type": "stream",
     "text": [
      "epoch: 332, pass acc: 0.730440, current acc: 0.730522\n",
      "time taken: 107.72534704208374\n",
      "epoch: 332, training loss: 0.539891, training acc: 0.730644, valid loss: 0.541283, valid acc: 0.730522\n",
      "\n"
     ]
    },
    {
     "name": "stderr",
     "output_type": "stream",
     "text": [
      "train minibatch loop: 100%|██████████| 16751/16751 [01:27<00:00, 190.37it/s, accuracy=0.667, cost=0.39] \n",
      "test minibatch loop: 100%|██████████| 4188/4188 [00:19<00:00, 211.13it/s, accuracy=0.647, cost=0.694]\n",
      "train minibatch loop:   0%|          | 18/16751 [00:00<01:33, 179.27it/s, accuracy=0.719, cost=0.539]"
     ]
    },
    {
     "name": "stdout",
     "output_type": "stream",
     "text": [
      "epoch: 333, pass acc: 0.730522, current acc: 0.730582\n",
      "time taken: 107.8301305770874\n",
      "epoch: 333, training loss: 0.539803, training acc: 0.730702, valid loss: 0.541197, valid acc: 0.730582\n",
      "\n"
     ]
    },
    {
     "name": "stderr",
     "output_type": "stream",
     "text": [
      "train minibatch loop: 100%|██████████| 16751/16751 [01:28<00:00, 190.27it/s, accuracy=0.667, cost=0.39] \n",
      "test minibatch loop: 100%|██████████| 4188/4188 [00:19<00:00, 211.22it/s, accuracy=0.647, cost=0.693]\n",
      "train minibatch loop:   0%|          | 20/16751 [00:00<01:27, 192.22it/s, accuracy=0.656, cost=0.601]"
     ]
    },
    {
     "name": "stdout",
     "output_type": "stream",
     "text": [
      "epoch: 334, pass acc: 0.730582, current acc: 0.730664\n",
      "time taken: 107.86723804473877\n",
      "epoch: 334, training loss: 0.539715, training acc: 0.730784, valid loss: 0.541111, valid acc: 0.730664\n",
      "\n"
     ]
    },
    {
     "name": "stderr",
     "output_type": "stream",
     "text": [
      "train minibatch loop: 100%|██████████| 16751/16751 [01:27<00:00, 190.43it/s, accuracy=0.667, cost=0.389]\n",
      "test minibatch loop: 100%|██████████| 4188/4188 [00:19<00:00, 210.34it/s, accuracy=0.647, cost=0.693]\n",
      "train minibatch loop:   0%|          | 20/16751 [00:00<01:27, 190.34it/s, accuracy=0.656, cost=0.601]"
     ]
    },
    {
     "name": "stdout",
     "output_type": "stream",
     "text": [
      "epoch: 335, pass acc: 0.730664, current acc: 0.730754\n",
      "time taken: 107.8228964805603\n",
      "epoch: 335, training loss: 0.539628, training acc: 0.730862, valid loss: 0.541026, valid acc: 0.730754\n",
      "\n"
     ]
    },
    {
     "name": "stderr",
     "output_type": "stream",
     "text": [
      "train minibatch loop: 100%|██████████| 16751/16751 [01:28<00:00, 190.29it/s, accuracy=0.667, cost=0.389]\n",
      "test minibatch loop: 100%|██████████| 4188/4188 [00:19<00:00, 210.92it/s, accuracy=0.647, cost=0.693]\n",
      "train minibatch loop:   0%|          | 20/16751 [00:00<01:26, 193.03it/s, accuracy=0.656, cost=0.601]"
     ]
    },
    {
     "name": "stdout",
     "output_type": "stream",
     "text": [
      "epoch: 336, pass acc: 0.730754, current acc: 0.730843\n",
      "time taken: 107.88729333877563\n",
      "epoch: 336, training loss: 0.539541, training acc: 0.730980, valid loss: 0.540940, valid acc: 0.730843\n",
      "\n"
     ]
    },
    {
     "name": "stderr",
     "output_type": "stream",
     "text": [
      "train minibatch loop: 100%|██████████| 16751/16751 [01:28<00:00, 190.35it/s, accuracy=0.667, cost=0.389]\n",
      "test minibatch loop: 100%|██████████| 4188/4188 [00:19<00:00, 211.20it/s, accuracy=0.647, cost=0.693]\n",
      "train minibatch loop:   0%|          | 20/16751 [00:00<01:27, 191.34it/s, accuracy=0.656, cost=0.601]"
     ]
    },
    {
     "name": "stdout",
     "output_type": "stream",
     "text": [
      "time taken: 107.83304619789124\n",
      "epoch: 337, training loss: 0.539454, training acc: 0.731060, valid loss: 0.540856, valid acc: 0.730843\n",
      "\n"
     ]
    },
    {
     "name": "stderr",
     "output_type": "stream",
     "text": [
      "train minibatch loop: 100%|██████████| 16751/16751 [01:27<00:00, 190.50it/s, accuracy=0.667, cost=0.388]\n",
      "test minibatch loop: 100%|██████████| 4188/4188 [00:19<00:00, 210.92it/s, accuracy=0.647, cost=0.693]\n",
      "train minibatch loop:   0%|          | 20/16751 [00:00<01:26, 192.57it/s, accuracy=0.656, cost=0.601]"
     ]
    },
    {
     "name": "stdout",
     "output_type": "stream",
     "text": [
      "epoch: 338, pass acc: 0.730843, current acc: 0.730895\n",
      "time taken: 107.7906424999237\n",
      "epoch: 338, training loss: 0.539368, training acc: 0.731107, valid loss: 0.540771, valid acc: 0.730895\n",
      "\n"
     ]
    },
    {
     "name": "stderr",
     "output_type": "stream",
     "text": [
      "train minibatch loop: 100%|██████████| 16751/16751 [01:27<00:00, 190.45it/s, accuracy=0.667, cost=0.388]\n",
      "test minibatch loop: 100%|██████████| 4188/4188 [00:19<00:00, 211.01it/s, accuracy=0.647, cost=0.693]\n",
      "train minibatch loop:   0%|          | 20/16751 [00:00<01:26, 194.42it/s, accuracy=0.688, cost=0.544]"
     ]
    },
    {
     "name": "stdout",
     "output_type": "stream",
     "text": [
      "epoch: 339, pass acc: 0.730895, current acc: 0.730977\n",
      "time taken: 107.80194306373596\n",
      "epoch: 339, training loss: 0.539282, training acc: 0.731198, valid loss: 0.540687, valid acc: 0.730977\n",
      "\n"
     ]
    },
    {
     "name": "stderr",
     "output_type": "stream",
     "text": [
      "train minibatch loop: 100%|██████████| 16751/16751 [01:27<00:00, 190.58it/s, accuracy=0.667, cost=0.388]\n",
      "test minibatch loop: 100%|██████████| 4188/4188 [00:19<00:00, 210.62it/s, accuracy=0.647, cost=0.693]\n",
      "train minibatch loop:   0%|          | 20/16751 [00:00<01:26, 194.25it/s, accuracy=0.656, cost=0.601]"
     ]
    },
    {
     "name": "stdout",
     "output_type": "stream",
     "text": [
      "epoch: 340, pass acc: 0.730977, current acc: 0.731045\n",
      "time taken: 107.78237628936768\n",
      "epoch: 340, training loss: 0.539197, training acc: 0.731237, valid loss: 0.540603, valid acc: 0.731045\n",
      "\n"
     ]
    },
    {
     "name": "stderr",
     "output_type": "stream",
     "text": [
      "train minibatch loop: 100%|██████████| 16751/16751 [01:27<00:00, 190.43it/s, accuracy=0.667, cost=0.388]\n",
      "test minibatch loop: 100%|██████████| 4188/4188 [00:19<00:00, 211.27it/s, accuracy=0.647, cost=0.692]\n",
      "train minibatch loop:   0%|          | 20/16751 [00:00<01:27, 191.66it/s, accuracy=0.656, cost=0.601]"
     ]
    },
    {
     "name": "stdout",
     "output_type": "stream",
     "text": [
      "epoch: 341, pass acc: 0.731045, current acc: 0.731149\n",
      "time taken: 107.78995704650879\n",
      "epoch: 341, training loss: 0.539111, training acc: 0.731284, valid loss: 0.540519, valid acc: 0.731149\n",
      "\n"
     ]
    },
    {
     "name": "stderr",
     "output_type": "stream",
     "text": [
      "train minibatch loop: 100%|██████████| 16751/16751 [01:28<00:00, 190.32it/s, accuracy=0.667, cost=0.387]\n",
      "test minibatch loop: 100%|██████████| 4188/4188 [00:19<00:00, 211.27it/s, accuracy=0.647, cost=0.692]\n",
      "train minibatch loop:   0%|          | 20/16751 [00:00<01:28, 189.73it/s, accuracy=0.656, cost=0.601]"
     ]
    },
    {
     "name": "stdout",
     "output_type": "stream",
     "text": [
      "epoch: 342, pass acc: 0.731149, current acc: 0.731209\n",
      "time taken: 107.83907222747803\n",
      "epoch: 342, training loss: 0.539026, training acc: 0.731317, valid loss: 0.540435, valid acc: 0.731209\n",
      "\n"
     ]
    },
    {
     "name": "stderr",
     "output_type": "stream",
     "text": [
      "train minibatch loop: 100%|██████████| 16751/16751 [01:27<00:00, 190.36it/s, accuracy=0.667, cost=0.387]\n",
      "test minibatch loop: 100%|██████████| 4188/4188 [00:19<00:00, 211.21it/s, accuracy=0.647, cost=0.692]\n",
      "train minibatch loop:   0%|          | 20/16751 [00:00<01:27, 192.24it/s, accuracy=0.719, cost=0.539]"
     ]
    },
    {
     "name": "stdout",
     "output_type": "stream",
     "text": [
      "time taken: 107.82528972625732\n",
      "epoch: 343, training loss: 0.538941, training acc: 0.731422, valid loss: 0.540352, valid acc: 0.731201\n",
      "\n"
     ]
    },
    {
     "name": "stderr",
     "output_type": "stream",
     "text": [
      "train minibatch loop: 100%|██████████| 16751/16751 [01:27<00:00, 190.42it/s, accuracy=0.667, cost=0.387]\n",
      "test minibatch loop: 100%|██████████| 4188/4188 [00:19<00:00, 211.03it/s, accuracy=0.647, cost=0.692]\n",
      "train minibatch loop:   0%|          | 20/16751 [00:00<01:27, 192.30it/s, accuracy=0.656, cost=0.602]"
     ]
    },
    {
     "name": "stdout",
     "output_type": "stream",
     "text": [
      "epoch: 344, pass acc: 0.731209, current acc: 0.731306\n",
      "time taken: 107.81521439552307\n",
      "epoch: 344, training loss: 0.538857, training acc: 0.731465, valid loss: 0.540269, valid acc: 0.731306\n",
      "\n"
     ]
    },
    {
     "name": "stderr",
     "output_type": "stream",
     "text": [
      "train minibatch loop: 100%|██████████| 16751/16751 [01:27<00:00, 190.68it/s, accuracy=0.667, cost=0.387]\n",
      "test minibatch loop: 100%|██████████| 4188/4188 [00:19<00:00, 211.21it/s, accuracy=0.647, cost=0.692]\n",
      "train minibatch loop:   0%|          | 20/16751 [00:00<01:27, 191.37it/s, accuracy=0.688, cost=0.544]"
     ]
    },
    {
     "name": "stdout",
     "output_type": "stream",
     "text": [
      "epoch: 345, pass acc: 0.731306, current acc: 0.731336\n",
      "time taken: 107.68172335624695\n",
      "epoch: 345, training loss: 0.538773, training acc: 0.731513, valid loss: 0.540187, valid acc: 0.731336\n",
      "\n"
     ]
    },
    {
     "name": "stderr",
     "output_type": "stream",
     "text": [
      "train minibatch loop: 100%|██████████| 16751/16751 [01:27<00:00, 190.69it/s, accuracy=0.667, cost=0.386]\n",
      "test minibatch loop: 100%|██████████| 4188/4188 [00:19<00:00, 211.42it/s, accuracy=0.647, cost=0.692]\n",
      "train minibatch loop:   0%|          | 19/16751 [00:00<01:30, 184.52it/s, accuracy=0.656, cost=0.602]"
     ]
    },
    {
     "name": "stdout",
     "output_type": "stream",
     "text": [
      "epoch: 346, pass acc: 0.731336, current acc: 0.731440\n",
      "time taken: 107.65527248382568\n",
      "epoch: 346, training loss: 0.538689, training acc: 0.731573, valid loss: 0.540105, valid acc: 0.731440\n",
      "\n"
     ]
    },
    {
     "name": "stderr",
     "output_type": "stream",
     "text": [
      "train minibatch loop: 100%|██████████| 16751/16751 [01:27<00:00, 190.63it/s, accuracy=0.667, cost=0.386]\n",
      "test minibatch loop: 100%|██████████| 4188/4188 [00:19<00:00, 211.59it/s, accuracy=0.647, cost=0.691]\n",
      "train minibatch loop:   0%|          | 20/16751 [00:00<01:26, 192.81it/s, accuracy=0.688, cost=0.544]"
     ]
    },
    {
     "name": "stdout",
     "output_type": "stream",
     "text": [
      "epoch: 347, pass acc: 0.731440, current acc: 0.731537\n",
      "time taken: 107.66716957092285\n",
      "epoch: 347, training loss: 0.538606, training acc: 0.731653, valid loss: 0.540023, valid acc: 0.731537\n",
      "\n"
     ]
    },
    {
     "name": "stderr",
     "output_type": "stream",
     "text": [
      "train minibatch loop: 100%|██████████| 16751/16751 [01:27<00:00, 190.46it/s, accuracy=0.667, cost=0.386]\n",
      "test minibatch loop: 100%|██████████| 4188/4188 [00:19<00:00, 210.90it/s, accuracy=0.647, cost=0.691]\n",
      "train minibatch loop:   0%|          | 20/16751 [00:00<01:26, 193.36it/s, accuracy=0.656, cost=0.602]"
     ]
    },
    {
     "name": "stdout",
     "output_type": "stream",
     "text": [
      "epoch: 348, pass acc: 0.731537, current acc: 0.731552\n",
      "time taken: 107.80863523483276\n",
      "epoch: 348, training loss: 0.538522, training acc: 0.731763, valid loss: 0.539941, valid acc: 0.731552\n",
      "\n"
     ]
    },
    {
     "name": "stderr",
     "output_type": "stream",
     "text": [
      "train minibatch loop: 100%|██████████| 16751/16751 [01:27<00:00, 190.61it/s, accuracy=0.667, cost=0.386]\n",
      "test minibatch loop: 100%|██████████| 4188/4188 [00:19<00:00, 211.07it/s, accuracy=0.647, cost=0.691]\n",
      "train minibatch loop:   0%|          | 20/16751 [00:00<01:26, 193.47it/s, accuracy=0.688, cost=0.544]"
     ]
    },
    {
     "name": "stdout",
     "output_type": "stream",
     "text": [
      "epoch: 349, pass acc: 0.731552, current acc: 0.731604\n",
      "time taken: 107.72298336029053\n",
      "epoch: 349, training loss: 0.538439, training acc: 0.731817, valid loss: 0.539860, valid acc: 0.731604\n",
      "\n"
     ]
    },
    {
     "name": "stderr",
     "output_type": "stream",
     "text": [
      "train minibatch loop: 100%|██████████| 16751/16751 [01:27<00:00, 190.73it/s, accuracy=0.667, cost=0.385]\n",
      "test minibatch loop: 100%|██████████| 4188/4188 [00:19<00:00, 210.77it/s, accuracy=0.647, cost=0.691]\n",
      "train minibatch loop:   0%|          | 20/16751 [00:00<01:27, 191.83it/s, accuracy=0.656, cost=0.602]"
     ]
    },
    {
     "name": "stdout",
     "output_type": "stream",
     "text": [
      "epoch: 350, pass acc: 0.731604, current acc: 0.731619\n",
      "time taken: 107.69608092308044\n",
      "epoch: 350, training loss: 0.538357, training acc: 0.731860, valid loss: 0.539779, valid acc: 0.731619\n",
      "\n"
     ]
    },
    {
     "name": "stderr",
     "output_type": "stream",
     "text": [
      "train minibatch loop: 100%|██████████| 16751/16751 [01:27<00:00, 190.82it/s, accuracy=0.667, cost=0.385]\n",
      "test minibatch loop: 100%|██████████| 4188/4188 [00:19<00:00, 211.40it/s, accuracy=0.647, cost=0.691]\n",
      "train minibatch loop:   0%|          | 20/16751 [00:00<01:27, 192.09it/s, accuracy=0.656, cost=0.602]"
     ]
    },
    {
     "name": "stdout",
     "output_type": "stream",
     "text": [
      "epoch: 351, pass acc: 0.731619, current acc: 0.731649\n",
      "time taken: 107.59593343734741\n",
      "epoch: 351, training loss: 0.538274, training acc: 0.731929, valid loss: 0.539698, valid acc: 0.731649\n",
      "\n"
     ]
    },
    {
     "name": "stderr",
     "output_type": "stream",
     "text": [
      "train minibatch loop: 100%|██████████| 16751/16751 [01:27<00:00, 190.72it/s, accuracy=0.667, cost=0.385]\n",
      "test minibatch loop: 100%|██████████| 4188/4188 [00:19<00:00, 211.11it/s, accuracy=0.647, cost=0.691]\n",
      "train minibatch loop:   0%|          | 20/16751 [00:00<01:26, 193.05it/s, accuracy=0.656, cost=0.602]"
     ]
    },
    {
     "name": "stdout",
     "output_type": "stream",
     "text": [
      "epoch: 352, pass acc: 0.731649, current acc: 0.731724\n",
      "time taken: 107.66868543624878\n",
      "epoch: 352, training loss: 0.538192, training acc: 0.731980, valid loss: 0.539618, valid acc: 0.731724\n",
      "\n"
     ]
    },
    {
     "name": "stderr",
     "output_type": "stream",
     "text": [
      "train minibatch loop: 100%|██████████| 16751/16751 [01:27<00:00, 190.47it/s, accuracy=0.667, cost=0.384]\n",
      "test minibatch loop: 100%|██████████| 4188/4188 [00:19<00:00, 211.37it/s, accuracy=0.647, cost=0.69] \n",
      "train minibatch loop:   0%|          | 19/16751 [00:00<01:32, 181.16it/s, accuracy=0.719, cost=0.538]"
     ]
    },
    {
     "name": "stdout",
     "output_type": "stream",
     "text": [
      "epoch: 353, pass acc: 0.731724, current acc: 0.731791\n",
      "time taken: 107.76131558418274\n",
      "epoch: 353, training loss: 0.538111, training acc: 0.732047, valid loss: 0.539537, valid acc: 0.731791\n",
      "\n"
     ]
    },
    {
     "name": "stderr",
     "output_type": "stream",
     "text": [
      "train minibatch loop: 100%|██████████| 16751/16751 [01:27<00:00, 190.85it/s, accuracy=0.667, cost=0.384]\n",
      "test minibatch loop: 100%|██████████| 4188/4188 [00:19<00:00, 210.83it/s, accuracy=0.647, cost=0.69] \n",
      "train minibatch loop:   0%|          | 20/16751 [00:00<01:27, 190.53it/s, accuracy=0.656, cost=0.602]"
     ]
    },
    {
     "name": "stdout",
     "output_type": "stream",
     "text": [
      "epoch: 354, pass acc: 0.731791, current acc: 0.731948\n",
      "time taken: 107.63868856430054\n",
      "epoch: 354, training loss: 0.538029, training acc: 0.732123, valid loss: 0.539458, valid acc: 0.731948\n",
      "\n"
     ]
    },
    {
     "name": "stderr",
     "output_type": "stream",
     "text": [
      "train minibatch loop: 100%|██████████| 16751/16751 [01:27<00:00, 190.60it/s, accuracy=0.667, cost=0.384]\n",
      "test minibatch loop: 100%|██████████| 4188/4188 [00:19<00:00, 210.44it/s, accuracy=0.647, cost=0.69] \n",
      "train minibatch loop:   0%|          | 20/16751 [00:00<01:27, 191.71it/s, accuracy=0.656, cost=0.602]"
     ]
    },
    {
     "name": "stdout",
     "output_type": "stream",
     "text": [
      "epoch: 355, pass acc: 0.731948, current acc: 0.732037\n",
      "time taken: 107.78818821907043\n",
      "epoch: 355, training loss: 0.537948, training acc: 0.732209, valid loss: 0.539378, valid acc: 0.732037\n",
      "\n"
     ]
    },
    {
     "name": "stderr",
     "output_type": "stream",
     "text": [
      "train minibatch loop: 100%|██████████| 16751/16751 [01:27<00:00, 190.64it/s, accuracy=0.667, cost=0.384]\n",
      "test minibatch loop: 100%|██████████| 4188/4188 [00:19<00:00, 211.47it/s, accuracy=0.647, cost=0.69] \n",
      "train minibatch loop:   0%|          | 20/16751 [00:00<01:26, 192.66it/s, accuracy=0.656, cost=0.602]"
     ]
    },
    {
     "name": "stdout",
     "output_type": "stream",
     "text": [
      "time taken: 107.67263698577881\n",
      "epoch: 356, training loss: 0.537867, training acc: 0.732284, valid loss: 0.539299, valid acc: 0.732030\n",
      "\n"
     ]
    },
    {
     "name": "stderr",
     "output_type": "stream",
     "text": [
      "train minibatch loop: 100%|██████████| 16751/16751 [01:27<00:00, 190.69it/s, accuracy=0.667, cost=0.383]\n",
      "test minibatch loop: 100%|██████████| 4188/4188 [00:19<00:00, 211.25it/s, accuracy=0.647, cost=0.69] \n",
      "train minibatch loop:   0%|          | 20/16751 [00:00<01:27, 191.77it/s, accuracy=0.656, cost=0.602]"
     ]
    },
    {
     "name": "stdout",
     "output_type": "stream",
     "text": [
      "epoch: 357, pass acc: 0.732037, current acc: 0.732164\n",
      "time taken: 107.66986751556396\n",
      "epoch: 357, training loss: 0.537786, training acc: 0.732357, valid loss: 0.539220, valid acc: 0.732164\n",
      "\n"
     ]
    },
    {
     "name": "stderr",
     "output_type": "stream",
     "text": [
      "train minibatch loop: 100%|██████████| 16751/16751 [01:27<00:00, 190.55it/s, accuracy=0.667, cost=0.383]\n",
      "test minibatch loop: 100%|██████████| 4188/4188 [00:19<00:00, 211.08it/s, accuracy=0.647, cost=0.69] \n",
      "train minibatch loop:   0%|          | 20/16751 [00:00<01:27, 190.80it/s, accuracy=0.656, cost=0.602]"
     ]
    },
    {
     "name": "stdout",
     "output_type": "stream",
     "text": [
      "epoch: 358, pass acc: 0.732164, current acc: 0.732268\n",
      "time taken: 107.75003719329834\n",
      "epoch: 358, training loss: 0.537706, training acc: 0.732439, valid loss: 0.539141, valid acc: 0.732268\n",
      "\n"
     ]
    },
    {
     "name": "stderr",
     "output_type": "stream",
     "text": [
      "train minibatch loop: 100%|██████████| 16751/16751 [01:27<00:00, 190.44it/s, accuracy=0.667, cost=0.383]\n",
      "test minibatch loop: 100%|██████████| 4188/4188 [00:19<00:00, 211.09it/s, accuracy=0.647, cost=0.689]\n",
      "train minibatch loop:   0%|          | 20/16751 [00:00<01:27, 191.39it/s, accuracy=0.656, cost=0.602]"
     ]
    },
    {
     "name": "stdout",
     "output_type": "stream",
     "text": [
      "epoch: 359, pass acc: 0.732268, current acc: 0.732313\n",
      "time taken: 107.80212306976318\n",
      "epoch: 359, training loss: 0.537626, training acc: 0.732511, valid loss: 0.539062, valid acc: 0.732313\n",
      "\n"
     ]
    },
    {
     "name": "stderr",
     "output_type": "stream",
     "text": [
      "train minibatch loop: 100%|██████████| 16751/16751 [01:27<00:00, 190.74it/s, accuracy=0.667, cost=0.383]\n",
      "test minibatch loop: 100%|██████████| 4188/4188 [00:19<00:00, 210.76it/s, accuracy=0.647, cost=0.689]\n",
      "train minibatch loop:   0%|          | 19/16751 [00:00<01:30, 184.43it/s, accuracy=0.656, cost=0.602]"
     ]
    },
    {
     "name": "stdout",
     "output_type": "stream",
     "text": [
      "epoch: 360, pass acc: 0.732313, current acc: 0.732358\n",
      "time taken: 107.69521975517273\n",
      "epoch: 360, training loss: 0.537546, training acc: 0.732564, valid loss: 0.538984, valid acc: 0.732358\n",
      "\n"
     ]
    },
    {
     "name": "stderr",
     "output_type": "stream",
     "text": [
      "train minibatch loop: 100%|██████████| 16751/16751 [01:27<00:00, 190.59it/s, accuracy=0.667, cost=0.383]\n",
      "test minibatch loop: 100%|██████████| 4188/4188 [00:19<00:00, 210.85it/s, accuracy=0.647, cost=0.689]\n",
      "train minibatch loop:   0%|          | 19/16751 [00:00<01:28, 189.88it/s, accuracy=0.656, cost=0.602]"
     ]
    },
    {
     "name": "stdout",
     "output_type": "stream",
     "text": [
      "epoch: 361, pass acc: 0.732358, current acc: 0.732522\n",
      "time taken: 107.73677611351013\n",
      "epoch: 361, training loss: 0.537467, training acc: 0.732618, valid loss: 0.538906, valid acc: 0.732522\n",
      "\n"
     ]
    },
    {
     "name": "stderr",
     "output_type": "stream",
     "text": [
      "train minibatch loop: 100%|██████████| 16751/16751 [01:28<00:00, 190.23it/s, accuracy=0.667, cost=0.382]\n",
      "test minibatch loop: 100%|██████████| 4188/4188 [00:19<00:00, 211.14it/s, accuracy=0.647, cost=0.689]\n",
      "train minibatch loop:   0%|          | 20/16751 [00:00<01:26, 194.21it/s, accuracy=0.688, cost=0.543]"
     ]
    },
    {
     "name": "stdout",
     "output_type": "stream",
     "text": [
      "epoch: 362, pass acc: 0.732522, current acc: 0.732560\n",
      "time taken: 107.89460015296936\n",
      "epoch: 362, training loss: 0.537387, training acc: 0.732696, valid loss: 0.538828, valid acc: 0.732560\n",
      "\n"
     ]
    },
    {
     "name": "stderr",
     "output_type": "stream",
     "text": [
      "train minibatch loop: 100%|██████████| 16751/16751 [01:28<00:00, 190.23it/s, accuracy=0.667, cost=0.382]\n",
      "test minibatch loop: 100%|██████████| 4188/4188 [00:19<00:00, 211.26it/s, accuracy=0.647, cost=0.689]\n",
      "train minibatch loop:   0%|          | 20/16751 [00:00<01:26, 192.42it/s, accuracy=0.656, cost=0.602]"
     ]
    },
    {
     "name": "stdout",
     "output_type": "stream",
     "text": [
      "epoch: 363, pass acc: 0.732560, current acc: 0.732597\n",
      "time taken: 107.88056921958923\n",
      "epoch: 363, training loss: 0.537308, training acc: 0.732752, valid loss: 0.538751, valid acc: 0.732597\n",
      "\n"
     ]
    },
    {
     "name": "stderr",
     "output_type": "stream",
     "text": [
      "train minibatch loop: 100%|██████████| 16751/16751 [01:28<00:00, 190.29it/s, accuracy=0.667, cost=0.382]\n",
      "test minibatch loop: 100%|██████████| 4188/4188 [00:19<00:00, 210.83it/s, accuracy=0.647, cost=0.689]\n",
      "train minibatch loop:   0%|          | 20/16751 [00:00<01:27, 192.21it/s, accuracy=0.656, cost=0.602]"
     ]
    },
    {
     "name": "stdout",
     "output_type": "stream",
     "text": [
      "epoch: 364, pass acc: 0.732597, current acc: 0.732604\n",
      "time taken: 107.89272022247314\n",
      "epoch: 364, training loss: 0.537230, training acc: 0.732842, valid loss: 0.538674, valid acc: 0.732604\n",
      "\n"
     ]
    },
    {
     "name": "stderr",
     "output_type": "stream",
     "text": [
      "train minibatch loop: 100%|██████████| 16751/16751 [01:27<00:00, 190.58it/s, accuracy=0.667, cost=0.382]\n",
      "test minibatch loop: 100%|██████████| 4188/4188 [00:19<00:00, 210.97it/s, accuracy=0.647, cost=0.688]\n",
      "train minibatch loop:   0%|          | 20/16751 [00:00<01:26, 192.61it/s, accuracy=0.656, cost=0.602]"
     ]
    },
    {
     "name": "stdout",
     "output_type": "stream",
     "text": [
      "epoch: 365, pass acc: 0.732604, current acc: 0.732761\n",
      "time taken: 107.75030708312988\n",
      "epoch: 365, training loss: 0.537151, training acc: 0.732890, valid loss: 0.538597, valid acc: 0.732761\n",
      "\n"
     ]
    },
    {
     "name": "stderr",
     "output_type": "stream",
     "text": [
      "train minibatch loop: 100%|██████████| 16751/16751 [01:27<00:00, 190.44it/s, accuracy=0.667, cost=0.381]\n",
      "test minibatch loop: 100%|██████████| 4188/4188 [00:19<00:00, 211.36it/s, accuracy=0.647, cost=0.688]\n",
      "train minibatch loop:   0%|          | 20/16751 [00:00<01:27, 192.25it/s, accuracy=0.656, cost=0.602]"
     ]
    },
    {
     "name": "stdout",
     "output_type": "stream",
     "text": [
      "epoch: 366, pass acc: 0.732761, current acc: 0.732813\n",
      "time taken: 107.77668714523315\n",
      "epoch: 366, training loss: 0.537073, training acc: 0.732952, valid loss: 0.538520, valid acc: 0.732813\n",
      "\n"
     ]
    },
    {
     "name": "stderr",
     "output_type": "stream",
     "text": [
      "train minibatch loop: 100%|██████████| 16751/16751 [01:28<00:00, 190.32it/s, accuracy=0.667, cost=0.381]\n",
      "test minibatch loop: 100%|██████████| 4188/4188 [00:19<00:00, 211.51it/s, accuracy=0.647, cost=0.688]\n",
      "train minibatch loop:   0%|          | 20/16751 [00:00<01:27, 191.42it/s, accuracy=0.656, cost=0.602]"
     ]
    },
    {
     "name": "stdout",
     "output_type": "stream",
     "text": [
      "epoch: 367, pass acc: 0.732813, current acc: 0.732865\n",
      "time taken: 107.81833744049072\n",
      "epoch: 367, training loss: 0.536995, training acc: 0.733013, valid loss: 0.538444, valid acc: 0.732865\n",
      "\n"
     ]
    },
    {
     "name": "stderr",
     "output_type": "stream",
     "text": [
      "train minibatch loop: 100%|██████████| 16751/16751 [01:27<00:00, 190.56it/s, accuracy=0.667, cost=0.381]\n",
      "test minibatch loop: 100%|██████████| 4188/4188 [00:19<00:00, 211.66it/s, accuracy=0.647, cost=0.688]\n",
      "train minibatch loop:   0%|          | 20/16751 [00:00<01:27, 192.17it/s, accuracy=0.656, cost=0.603]"
     ]
    },
    {
     "name": "stdout",
     "output_type": "stream",
     "text": [
      "epoch: 368, pass acc: 0.732865, current acc: 0.732948\n",
      "time taken: 107.69335985183716\n",
      "epoch: 368, training loss: 0.536918, training acc: 0.733066, valid loss: 0.538368, valid acc: 0.732948\n",
      "\n"
     ]
    },
    {
     "name": "stderr",
     "output_type": "stream",
     "text": [
      "train minibatch loop: 100%|██████████| 16751/16751 [01:27<00:00, 190.61it/s, accuracy=0.667, cost=0.381]\n",
      "test minibatch loop: 100%|██████████| 4188/4188 [00:19<00:00, 211.27it/s, accuracy=0.647, cost=0.688]\n",
      "train minibatch loop:   0%|          | 20/16751 [00:00<01:27, 191.40it/s, accuracy=0.656, cost=0.603]"
     ]
    },
    {
     "name": "stdout",
     "output_type": "stream",
     "text": [
      "epoch: 369, pass acc: 0.732948, current acc: 0.732970\n",
      "time taken: 107.70474791526794\n",
      "epoch: 369, training loss: 0.536840, training acc: 0.733129, valid loss: 0.538292, valid acc: 0.732970\n",
      "\n"
     ]
    },
    {
     "name": "stderr",
     "output_type": "stream",
     "text": [
      "train minibatch loop: 100%|██████████| 16751/16751 [01:27<00:00, 190.37it/s, accuracy=0.667, cost=0.38] \n",
      "test minibatch loop: 100%|██████████| 4188/4188 [00:19<00:00, 211.10it/s, accuracy=0.647, cost=0.688]\n",
      "train minibatch loop:   0%|          | 16/16751 [00:00<01:47, 156.29it/s, accuracy=0.781, cost=0.443]"
     ]
    },
    {
     "name": "stdout",
     "output_type": "stream",
     "text": [
      "epoch: 370, pass acc: 0.732970, current acc: 0.733089\n",
      "time taken: 107.83156943321228\n",
      "epoch: 370, training loss: 0.536763, training acc: 0.733213, valid loss: 0.538216, valid acc: 0.733089\n",
      "\n"
     ]
    },
    {
     "name": "stderr",
     "output_type": "stream",
     "text": [
      "train minibatch loop: 100%|██████████| 16751/16751 [01:28<00:00, 190.35it/s, accuracy=0.667, cost=0.38] \n",
      "test minibatch loop: 100%|██████████| 4188/4188 [00:19<00:00, 211.26it/s, accuracy=0.647, cost=0.687]\n",
      "train minibatch loop:   0%|          | 20/16751 [00:00<01:27, 190.75it/s, accuracy=0.656, cost=0.603]"
     ]
    },
    {
     "name": "stdout",
     "output_type": "stream",
     "text": [
      "epoch: 371, pass acc: 0.733089, current acc: 0.733127\n",
      "time taken: 107.82694721221924\n",
      "epoch: 371, training loss: 0.536686, training acc: 0.733263, valid loss: 0.538141, valid acc: 0.733127\n",
      "\n"
     ]
    },
    {
     "name": "stderr",
     "output_type": "stream",
     "text": [
      "train minibatch loop: 100%|██████████| 16751/16751 [01:28<00:00, 190.35it/s, accuracy=0.667, cost=0.38] \n",
      "test minibatch loop: 100%|██████████| 4188/4188 [00:19<00:00, 211.56it/s, accuracy=0.647, cost=0.687]\n",
      "train minibatch loop:   0%|          | 20/16751 [00:00<01:26, 193.70it/s, accuracy=0.688, cost=0.543]"
     ]
    },
    {
     "name": "stdout",
     "output_type": "stream",
     "text": [
      "epoch: 372, pass acc: 0.733127, current acc: 0.733164\n",
      "time taken: 107.79896545410156\n",
      "epoch: 372, training loss: 0.536610, training acc: 0.733358, valid loss: 0.538066, valid acc: 0.733164\n",
      "\n"
     ]
    },
    {
     "name": "stderr",
     "output_type": "stream",
     "text": [
      "train minibatch loop: 100%|██████████| 16751/16751 [01:27<00:00, 190.46it/s, accuracy=0.667, cost=0.38] \n",
      "test minibatch loop: 100%|██████████| 4188/4188 [00:19<00:00, 211.20it/s, accuracy=0.647, cost=0.687]\n",
      "train minibatch loop:   0%|          | 20/16751 [00:00<01:26, 193.49it/s, accuracy=0.688, cost=0.543]"
     ]
    },
    {
     "name": "stdout",
     "output_type": "stream",
     "text": [
      "epoch: 373, pass acc: 0.733164, current acc: 0.733239\n",
      "time taken: 107.78122067451477\n",
      "epoch: 373, training loss: 0.536533, training acc: 0.733433, valid loss: 0.537991, valid acc: 0.733239\n",
      "\n"
     ]
    },
    {
     "name": "stderr",
     "output_type": "stream",
     "text": [
      "train minibatch loop: 100%|██████████| 16751/16751 [01:28<00:00, 190.31it/s, accuracy=0.667, cost=0.38] \n",
      "test minibatch loop: 100%|██████████| 4188/4188 [00:19<00:00, 211.44it/s, accuracy=0.647, cost=0.687]\n",
      "train minibatch loop:   0%|          | 20/16751 [00:00<01:26, 194.11it/s, accuracy=0.688, cost=0.543]"
     ]
    },
    {
     "name": "stdout",
     "output_type": "stream",
     "text": [
      "epoch: 374, pass acc: 0.733239, current acc: 0.733313\n",
      "time taken: 107.82646226882935\n",
      "epoch: 374, training loss: 0.536457, training acc: 0.733493, valid loss: 0.537917, valid acc: 0.733313\n",
      "\n"
     ]
    },
    {
     "name": "stderr",
     "output_type": "stream",
     "text": [
      "train minibatch loop: 100%|██████████| 16751/16751 [01:27<00:00, 190.48it/s, accuracy=0.667, cost=0.379]\n",
      "test minibatch loop: 100%|██████████| 4188/4188 [00:19<00:00, 211.33it/s, accuracy=0.647, cost=0.687]\n",
      "train minibatch loop:   0%|          | 19/16751 [00:00<01:29, 187.09it/s, accuracy=0.656, cost=0.603]"
     ]
    },
    {
     "name": "stdout",
     "output_type": "stream",
     "text": [
      "epoch: 375, pass acc: 0.733313, current acc: 0.733395\n",
      "time taken: 107.78704953193665\n",
      "epoch: 375, training loss: 0.536381, training acc: 0.733541, valid loss: 0.537842, valid acc: 0.733395\n",
      "\n"
     ]
    },
    {
     "name": "stderr",
     "output_type": "stream",
     "text": [
      "train minibatch loop: 100%|██████████| 16751/16751 [01:27<00:00, 190.49it/s, accuracy=0.667, cost=0.379]\n",
      "test minibatch loop: 100%|██████████| 4188/4188 [00:19<00:00, 211.03it/s, accuracy=0.647, cost=0.687]\n",
      "train minibatch loop:   0%|          | 20/16751 [00:00<01:27, 191.51it/s, accuracy=0.656, cost=0.603]"
     ]
    },
    {
     "name": "stdout",
     "output_type": "stream",
     "text": [
      "time taken: 107.78397035598755\n",
      "epoch: 376, training loss: 0.536306, training acc: 0.733612, valid loss: 0.537768, valid acc: 0.733373\n",
      "\n"
     ]
    },
    {
     "name": "stderr",
     "output_type": "stream",
     "text": [
      "train minibatch loop: 100%|██████████| 16751/16751 [01:28<00:00, 190.30it/s, accuracy=0.667, cost=0.379]\n",
      "test minibatch loop: 100%|██████████| 4188/4188 [00:19<00:00, 211.32it/s, accuracy=0.647, cost=0.686]\n",
      "train minibatch loop:   0%|          | 20/16751 [00:00<01:26, 192.32it/s, accuracy=0.656, cost=0.603]"
     ]
    },
    {
     "name": "stdout",
     "output_type": "stream",
     "text": [
      "time taken: 107.84577918052673\n",
      "epoch: 377, training loss: 0.536231, training acc: 0.733694, valid loss: 0.537695, valid acc: 0.733388\n",
      "\n"
     ]
    },
    {
     "name": "stderr",
     "output_type": "stream",
     "text": [
      "train minibatch loop: 100%|██████████| 16751/16751 [01:28<00:00, 190.35it/s, accuracy=0.667, cost=0.379]\n",
      "test minibatch loop: 100%|██████████| 4188/4188 [00:19<00:00, 211.29it/s, accuracy=0.647, cost=0.686]\n",
      "train minibatch loop:   0%|          | 20/16751 [00:00<01:26, 193.30it/s, accuracy=0.688, cost=0.543]"
     ]
    },
    {
     "name": "stdout",
     "output_type": "stream",
     "text": [
      "epoch: 378, pass acc: 0.733395, current acc: 0.733477\n",
      "time taken: 107.82575225830078\n",
      "epoch: 378, training loss: 0.536155, training acc: 0.733748, valid loss: 0.537621, valid acc: 0.733477\n",
      "\n"
     ]
    },
    {
     "name": "stderr",
     "output_type": "stream",
     "text": [
      "train minibatch loop: 100%|██████████| 16751/16751 [01:27<00:00, 190.58it/s, accuracy=0.667, cost=0.378]\n",
      "test minibatch loop: 100%|██████████| 4188/4188 [00:19<00:00, 211.16it/s, accuracy=0.647, cost=0.686]\n",
      "train minibatch loop:   0%|          | 20/16751 [00:00<01:27, 191.00it/s, accuracy=0.656, cost=0.603]"
     ]
    },
    {
     "name": "stdout",
     "output_type": "stream",
     "text": [
      "epoch: 379, pass acc: 0.733477, current acc: 0.733485\n",
      "time taken: 107.73209571838379\n",
      "epoch: 379, training loss: 0.536081, training acc: 0.733802, valid loss: 0.537548, valid acc: 0.733485\n",
      "\n"
     ]
    },
    {
     "name": "stderr",
     "output_type": "stream",
     "text": [
      "train minibatch loop: 100%|██████████| 16751/16751 [01:27<00:00, 190.42it/s, accuracy=0.667, cost=0.378]\n",
      "test minibatch loop: 100%|██████████| 4188/4188 [00:19<00:00, 211.56it/s, accuracy=0.647, cost=0.686]\n",
      "train minibatch loop:   0%|          | 20/16751 [00:00<01:26, 193.15it/s, accuracy=0.656, cost=0.603]"
     ]
    },
    {
     "name": "stdout",
     "output_type": "stream",
     "text": [
      "epoch: 380, pass acc: 0.733485, current acc: 0.733537\n",
      "time taken: 107.76585412025452\n",
      "epoch: 380, training loss: 0.536006, training acc: 0.733862, valid loss: 0.537475, valid acc: 0.733537\n",
      "\n"
     ]
    },
    {
     "name": "stderr",
     "output_type": "stream",
     "text": [
      "train minibatch loop: 100%|██████████| 16751/16751 [01:27<00:00, 190.71it/s, accuracy=0.667, cost=0.378]\n",
      "test minibatch loop: 100%|██████████| 4188/4188 [00:19<00:00, 211.42it/s, accuracy=0.647, cost=0.686]\n",
      "train minibatch loop:   0%|          | 20/16751 [00:00<01:26, 192.80it/s, accuracy=0.656, cost=0.603]"
     ]
    },
    {
     "name": "stdout",
     "output_type": "stream",
     "text": [
      "epoch: 381, pass acc: 0.733537, current acc: 0.733589\n",
      "time taken: 107.64309668540955\n",
      "epoch: 381, training loss: 0.535932, training acc: 0.733918, valid loss: 0.537402, valid acc: 0.733589\n",
      "\n"
     ]
    },
    {
     "name": "stderr",
     "output_type": "stream",
     "text": [
      "train minibatch loop: 100%|██████████| 16751/16751 [01:27<00:00, 192.64it/s, accuracy=0.667, cost=0.378]\n",
      "test minibatch loop: 100%|██████████| 4188/4188 [00:19<00:00, 211.76it/s, accuracy=0.647, cost=0.686]\n",
      "train minibatch loop:   0%|          | 20/16751 [00:00<01:26, 192.74it/s, accuracy=0.656, cost=0.603]"
     ]
    },
    {
     "name": "stdout",
     "output_type": "stream",
     "text": [
      "epoch: 382, pass acc: 0.733589, current acc: 0.733679\n",
      "time taken: 107.61491560935974\n",
      "epoch: 382, training loss: 0.535858, training acc: 0.733982, valid loss: 0.537329, valid acc: 0.733679\n",
      "\n"
     ]
    },
    {
     "name": "stderr",
     "output_type": "stream",
     "text": [
      "train minibatch loop: 100%|██████████| 16751/16751 [01:27<00:00, 190.65it/s, accuracy=0.667, cost=0.378]\n",
      "test minibatch loop: 100%|██████████| 4188/4188 [00:19<00:00, 211.48it/s, accuracy=0.647, cost=0.685]\n",
      "train minibatch loop:   0%|          | 20/16751 [00:00<01:26, 193.45it/s, accuracy=0.656, cost=0.603]"
     ]
    },
    {
     "name": "stdout",
     "output_type": "stream",
     "text": [
      "epoch: 383, pass acc: 0.733679, current acc: 0.733731\n",
      "time taken: 107.66997981071472\n",
      "epoch: 383, training loss: 0.535784, training acc: 0.734024, valid loss: 0.537257, valid acc: 0.733731\n",
      "\n"
     ]
    },
    {
     "name": "stderr",
     "output_type": "stream",
     "text": [
      "train minibatch loop: 100%|██████████| 16751/16751 [01:27<00:00, 190.76it/s, accuracy=0.667, cost=0.377]\n",
      "test minibatch loop: 100%|██████████| 4188/4188 [00:19<00:00, 210.78it/s, accuracy=0.647, cost=0.685]\n",
      "train minibatch loop:   0%|          | 20/16751 [00:00<01:27, 192.25it/s, accuracy=0.656, cost=0.603]"
     ]
    },
    {
     "name": "stdout",
     "output_type": "stream",
     "text": [
      "epoch: 384, pass acc: 0.733731, current acc: 0.733858\n",
      "time taken: 107.68535041809082\n",
      "epoch: 384, training loss: 0.535710, training acc: 0.734120, valid loss: 0.537185, valid acc: 0.733858\n",
      "\n"
     ]
    },
    {
     "name": "stderr",
     "output_type": "stream",
     "text": [
      "train minibatch loop: 100%|██████████| 16751/16751 [01:27<00:00, 190.68it/s, accuracy=0.667, cost=0.377]\n",
      "test minibatch loop: 100%|██████████| 4188/4188 [00:19<00:00, 211.22it/s, accuracy=0.647, cost=0.685]\n",
      "train minibatch loop:   0%|          | 20/16751 [00:00<01:27, 191.64it/s, accuracy=0.656, cost=0.603]"
     ]
    },
    {
     "name": "stdout",
     "output_type": "stream",
     "text": [
      "epoch: 385, pass acc: 0.733858, current acc: 0.733970\n",
      "time taken: 107.68002438545227\n",
      "epoch: 385, training loss: 0.535637, training acc: 0.734176, valid loss: 0.537113, valid acc: 0.733970\n",
      "\n"
     ]
    },
    {
     "name": "stderr",
     "output_type": "stream",
     "text": [
      "train minibatch loop: 100%|██████████| 16751/16751 [01:27<00:00, 190.63it/s, accuracy=0.667, cost=0.377]\n",
      "test minibatch loop: 100%|██████████| 4188/4188 [00:19<00:00, 211.33it/s, accuracy=0.647, cost=0.685]\n",
      "train minibatch loop:   0%|          | 20/16751 [00:00<01:26, 192.61it/s, accuracy=0.656, cost=0.603]"
     ]
    },
    {
     "name": "stdout",
     "output_type": "stream",
     "text": [
      "epoch: 386, pass acc: 0.733970, current acc: 0.734022\n",
      "time taken: 107.688711643219\n",
      "epoch: 386, training loss: 0.535564, training acc: 0.734198, valid loss: 0.537041, valid acc: 0.734022\n",
      "\n"
     ]
    },
    {
     "name": "stderr",
     "output_type": "stream",
     "text": [
      "train minibatch loop: 100%|██████████| 16751/16751 [01:27<00:00, 190.52it/s, accuracy=0.667, cost=0.377]\n",
      "test minibatch loop: 100%|██████████| 4188/4188 [00:19<00:00, 211.70it/s, accuracy=0.647, cost=0.685]\n",
      "train minibatch loop:   0%|          | 20/16751 [00:00<01:26, 193.61it/s, accuracy=0.688, cost=0.542]"
     ]
    },
    {
     "name": "stdout",
     "output_type": "stream",
     "text": [
      "epoch: 387, pass acc: 0.734022, current acc: 0.734059\n",
      "time taken: 107.70700216293335\n",
      "epoch: 387, training loss: 0.535491, training acc: 0.734248, valid loss: 0.536970, valid acc: 0.734059\n",
      "\n"
     ]
    },
    {
     "name": "stderr",
     "output_type": "stream",
     "text": [
      "train minibatch loop: 100%|██████████| 16751/16751 [01:28<00:00, 190.34it/s, accuracy=0.667, cost=0.377]\n",
      "test minibatch loop: 100%|██████████| 4188/4188 [00:19<00:00, 210.89it/s, accuracy=0.647, cost=0.685]\n",
      "train minibatch loop:   0%|          | 20/16751 [00:00<01:26, 193.81it/s, accuracy=0.656, cost=0.603]"
     ]
    },
    {
     "name": "stdout",
     "output_type": "stream",
     "text": [
      "epoch: 388, pass acc: 0.734059, current acc: 0.734082\n",
      "time taken: 107.86399555206299\n",
      "epoch: 388, training loss: 0.535418, training acc: 0.734334, valid loss: 0.536899, valid acc: 0.734082\n",
      "\n"
     ]
    },
    {
     "name": "stderr",
     "output_type": "stream",
     "text": [
      "train minibatch loop: 100%|██████████| 16751/16751 [01:27<00:00, 190.42it/s, accuracy=0.667, cost=0.376]\n",
      "test minibatch loop: 100%|██████████| 4188/4188 [00:19<00:00, 211.45it/s, accuracy=0.647, cost=0.684]\n",
      "train minibatch loop:   0%|          | 20/16751 [00:00<01:26, 193.61it/s, accuracy=0.688, cost=0.542]"
     ]
    },
    {
     "name": "stdout",
     "output_type": "stream",
     "text": [
      "epoch: 389, pass acc: 0.734082, current acc: 0.734134\n",
      "time taken: 107.78652477264404\n",
      "epoch: 389, training loss: 0.535346, training acc: 0.734370, valid loss: 0.536828, valid acc: 0.734134\n",
      "\n"
     ]
    },
    {
     "name": "stderr",
     "output_type": "stream",
     "text": [
      "train minibatch loop: 100%|██████████| 16751/16751 [01:27<00:00, 190.68it/s, accuracy=0.667, cost=0.376]\n",
      "test minibatch loop: 100%|██████████| 4188/4188 [00:19<00:00, 211.46it/s, accuracy=0.647, cost=0.684]\n",
      "train minibatch loop:   0%|          | 20/16751 [00:00<01:27, 191.36it/s, accuracy=0.719, cost=0.536]"
     ]
    },
    {
     "name": "stdout",
     "output_type": "stream",
     "text": [
      "time taken: 107.6543276309967\n",
      "epoch: 390, training loss: 0.535274, training acc: 0.734392, valid loss: 0.536757, valid acc: 0.734127\n",
      "\n"
     ]
    },
    {
     "name": "stderr",
     "output_type": "stream",
     "text": [
      "train minibatch loop: 100%|██████████| 16751/16751 [01:27<00:00, 190.48it/s, accuracy=0.667, cost=0.376]\n",
      "test minibatch loop: 100%|██████████| 4188/4188 [00:19<00:00, 210.93it/s, accuracy=0.647, cost=0.684]\n",
      "train minibatch loop:   0%|          | 20/16751 [00:00<01:27, 192.25it/s, accuracy=0.688, cost=0.542]"
     ]
    },
    {
     "name": "stdout",
     "output_type": "stream",
     "text": [
      "epoch: 391, pass acc: 0.734134, current acc: 0.734157\n",
      "time taken: 107.79523921012878\n",
      "epoch: 391, training loss: 0.535202, training acc: 0.734493, valid loss: 0.536687, valid acc: 0.734157\n",
      "\n"
     ]
    },
    {
     "name": "stderr",
     "output_type": "stream",
     "text": [
      "train minibatch loop: 100%|██████████| 16751/16751 [01:27<00:00, 190.37it/s, accuracy=0.667, cost=0.376]\n",
      "test minibatch loop: 100%|██████████| 4188/4188 [00:19<00:00, 211.07it/s, accuracy=0.706, cost=0.684]\n",
      "train minibatch loop:   0%|          | 20/16751 [00:00<01:26, 193.38it/s, accuracy=0.688, cost=0.542]"
     ]
    },
    {
     "name": "stdout",
     "output_type": "stream",
     "text": [
      "epoch: 392, pass acc: 0.734157, current acc: 0.734268\n",
      "time taken: 107.83480668067932\n",
      "epoch: 392, training loss: 0.535130, training acc: 0.734545, valid loss: 0.536617, valid acc: 0.734268\n",
      "\n"
     ]
    },
    {
     "name": "stderr",
     "output_type": "stream",
     "text": [
      "train minibatch loop: 100%|██████████| 16751/16751 [01:27<00:00, 190.48it/s, accuracy=0.667, cost=0.376]\n",
      "test minibatch loop: 100%|██████████| 4188/4188 [00:19<00:00, 210.76it/s, accuracy=0.706, cost=0.684]\n",
      "train minibatch loop:   0%|          | 20/16751 [00:00<01:26, 193.05it/s, accuracy=0.656, cost=0.603]"
     ]
    },
    {
     "name": "stdout",
     "output_type": "stream",
     "text": [
      "time taken: 107.81547474861145\n",
      "epoch: 393, training loss: 0.535059, training acc: 0.734586, valid loss: 0.536547, valid acc: 0.734260\n",
      "\n"
     ]
    },
    {
     "name": "stderr",
     "output_type": "stream",
     "text": [
      "train minibatch loop: 100%|██████████| 16751/16751 [01:27<00:00, 190.40it/s, accuracy=0.667, cost=0.375]\n",
      "test minibatch loop: 100%|██████████| 4188/4188 [00:19<00:00, 210.80it/s, accuracy=0.706, cost=0.684]\n",
      "train minibatch loop:   0%|          | 20/16751 [00:00<01:26, 192.69it/s, accuracy=0.656, cost=0.603]"
     ]
    },
    {
     "name": "stdout",
     "output_type": "stream",
     "text": [
      "epoch: 394, pass acc: 0.734268, current acc: 0.734282\n",
      "time taken: 107.84596729278564\n",
      "epoch: 394, training loss: 0.534987, training acc: 0.734633, valid loss: 0.536477, valid acc: 0.734282\n",
      "\n"
     ]
    },
    {
     "name": "stderr",
     "output_type": "stream",
     "text": [
      "train minibatch loop: 100%|██████████| 16751/16751 [01:27<00:00, 190.55it/s, accuracy=0.667, cost=0.375]\n",
      "test minibatch loop: 100%|██████████| 4188/4188 [00:19<00:00, 211.01it/s, accuracy=0.706, cost=0.683]\n",
      "train minibatch loop:   0%|          | 19/16751 [00:00<01:28, 188.94it/s, accuracy=0.656, cost=0.603]"
     ]
    },
    {
     "name": "stdout",
     "output_type": "stream",
     "text": [
      "epoch: 395, pass acc: 0.734282, current acc: 0.734327\n",
      "time taken: 107.75808095932007\n",
      "epoch: 395, training loss: 0.534916, training acc: 0.734700, valid loss: 0.536407, valid acc: 0.734327\n",
      "\n"
     ]
    },
    {
     "name": "stderr",
     "output_type": "stream",
     "text": [
      "train minibatch loop: 100%|██████████| 16751/16751 [01:27<00:00, 190.48it/s, accuracy=0.667, cost=0.375]\n",
      "test minibatch loop: 100%|██████████| 4188/4188 [00:19<00:00, 211.17it/s, accuracy=0.706, cost=0.683]\n",
      "train minibatch loop:   0%|          | 20/16751 [00:00<01:27, 191.37it/s, accuracy=0.656, cost=0.603]"
     ]
    },
    {
     "name": "stdout",
     "output_type": "stream",
     "text": [
      "epoch: 396, pass acc: 0.734327, current acc: 0.734365\n",
      "time taken: 107.77717208862305\n",
      "epoch: 396, training loss: 0.534846, training acc: 0.734778, valid loss: 0.536338, valid acc: 0.734365\n",
      "\n"
     ]
    },
    {
     "name": "stderr",
     "output_type": "stream",
     "text": [
      "train minibatch loop: 100%|██████████| 16751/16751 [01:28<00:00, 190.31it/s, accuracy=0.667, cost=0.375]\n",
      "test minibatch loop: 100%|██████████| 4188/4188 [00:19<00:00, 211.09it/s, accuracy=0.706, cost=0.683]\n",
      "train minibatch loop:   0%|          | 20/16751 [00:00<01:27, 191.53it/s, accuracy=0.656, cost=0.604]"
     ]
    },
    {
     "name": "stdout",
     "output_type": "stream",
     "text": [
      "epoch: 397, pass acc: 0.734365, current acc: 0.734439\n",
      "time taken: 107.85905957221985\n",
      "epoch: 397, training loss: 0.534775, training acc: 0.734834, valid loss: 0.536269, valid acc: 0.734439\n",
      "\n"
     ]
    },
    {
     "name": "stderr",
     "output_type": "stream",
     "text": [
      "train minibatch loop: 100%|██████████| 16751/16751 [01:27<00:00, 190.52it/s, accuracy=0.667, cost=0.375]\n",
      "test minibatch loop: 100%|██████████| 4188/4188 [00:19<00:00, 210.86it/s, accuracy=0.706, cost=0.683]\n",
      "train minibatch loop:   0%|          | 20/16751 [00:00<01:27, 191.93it/s, accuracy=0.656, cost=0.604]"
     ]
    },
    {
     "name": "stdout",
     "output_type": "stream",
     "text": [
      "epoch: 398, pass acc: 0.734439, current acc: 0.734491\n",
      "time taken: 107.78372812271118\n",
      "epoch: 398, training loss: 0.534705, training acc: 0.734873, valid loss: 0.536200, valid acc: 0.734491\n",
      "\n"
     ]
    },
    {
     "name": "stderr",
     "output_type": "stream",
     "text": [
      "train minibatch loop: 100%|██████████| 16751/16751 [01:27<00:00, 190.52it/s, accuracy=0.667, cost=0.374]\n",
      "test minibatch loop: 100%|██████████| 4188/4188 [00:19<00:00, 210.71it/s, accuracy=0.706, cost=0.683]\n",
      "train minibatch loop:   0%|          | 20/16751 [00:00<01:26, 193.33it/s, accuracy=0.688, cost=0.542]"
     ]
    },
    {
     "name": "stdout",
     "output_type": "stream",
     "text": [
      "epoch: 399, pass acc: 0.734491, current acc: 0.734559\n",
      "time taken: 107.7996289730072\n",
      "epoch: 399, training loss: 0.534635, training acc: 0.734939, valid loss: 0.536131, valid acc: 0.734559\n",
      "\n"
     ]
    },
    {
     "name": "stderr",
     "output_type": "stream",
     "text": [
      "train minibatch loop: 100%|██████████| 16751/16751 [01:27<00:00, 190.40it/s, accuracy=0.667, cost=0.374]\n",
      "test minibatch loop: 100%|██████████| 4188/4188 [00:19<00:00, 211.14it/s, accuracy=0.706, cost=0.683]\n",
      "train minibatch loop:   0%|          | 19/16751 [00:00<01:28, 188.43it/s, accuracy=0.656, cost=0.604]"
     ]
    },
    {
     "name": "stdout",
     "output_type": "stream",
     "text": [
      "epoch: 400, pass acc: 0.734559, current acc: 0.734641\n",
      "time taken: 107.8136146068573\n",
      "epoch: 400, training loss: 0.534565, training acc: 0.734987, valid loss: 0.536063, valid acc: 0.734641\n",
      "\n"
     ]
    },
    {
     "name": "stderr",
     "output_type": "stream",
     "text": [
      "train minibatch loop: 100%|██████████| 16751/16751 [01:28<00:00, 190.28it/s, accuracy=0.667, cost=0.374]\n",
      "test minibatch loop: 100%|██████████| 4188/4188 [00:19<00:00, 211.17it/s, accuracy=0.706, cost=0.682]\n",
      "train minibatch loop:   0%|          | 20/16751 [00:00<01:26, 193.68it/s, accuracy=0.656, cost=0.604]"
     ]
    },
    {
     "name": "stdout",
     "output_type": "stream",
     "text": [
      "time taken: 107.86513352394104\n",
      "epoch: 401, training loss: 0.534495, training acc: 0.735051, valid loss: 0.535995, valid acc: 0.734618\n",
      "\n"
     ]
    },
    {
     "name": "stderr",
     "output_type": "stream",
     "text": [
      "train minibatch loop: 100%|██████████| 16751/16751 [01:27<00:00, 190.46it/s, accuracy=0.667, cost=0.374]\n",
      "test minibatch loop: 100%|██████████| 4188/4188 [00:19<00:00, 211.34it/s, accuracy=0.706, cost=0.682]\n",
      "train minibatch loop:   0%|          | 20/16751 [00:00<01:27, 191.58it/s, accuracy=0.656, cost=0.604]"
     ]
    },
    {
     "name": "stdout",
     "output_type": "stream",
     "text": [
      "epoch: 402, pass acc: 0.734641, current acc: 0.734857\n",
      "time taken: 107.76982021331787\n",
      "epoch: 402, training loss: 0.534426, training acc: 0.735129, valid loss: 0.535927, valid acc: 0.734857\n",
      "\n"
     ]
    },
    {
     "name": "stderr",
     "output_type": "stream",
     "text": [
      "train minibatch loop: 100%|██████████| 16751/16751 [01:27<00:00, 190.54it/s, accuracy=0.667, cost=0.374]\n",
      "test minibatch loop: 100%|██████████| 4188/4188 [00:19<00:00, 210.94it/s, accuracy=0.706, cost=0.682]\n",
      "train minibatch loop:   0%|          | 20/16751 [00:00<01:26, 194.19it/s, accuracy=0.688, cost=0.542]"
     ]
    },
    {
     "name": "stdout",
     "output_type": "stream",
     "text": [
      "epoch: 403, pass acc: 0.734857, current acc: 0.734939\n",
      "time taken: 107.76668572425842\n",
      "epoch: 403, training loss: 0.534356, training acc: 0.735196, valid loss: 0.535859, valid acc: 0.734939\n",
      "\n"
     ]
    },
    {
     "name": "stderr",
     "output_type": "stream",
     "text": [
      "train minibatch loop: 100%|██████████| 16751/16751 [01:27<00:00, 190.36it/s, accuracy=0.667, cost=0.373]\n",
      "test minibatch loop: 100%|██████████| 4188/4188 [00:19<00:00, 210.58it/s, accuracy=0.706, cost=0.682]\n",
      "train minibatch loop:   0%|          | 20/16751 [00:00<01:26, 193.45it/s, accuracy=0.688, cost=0.542]"
     ]
    },
    {
     "name": "stdout",
     "output_type": "stream",
     "text": [
      "epoch: 404, pass acc: 0.734939, current acc: 0.734969\n",
      "time taken: 107.88785290718079\n",
      "epoch: 404, training loss: 0.534287, training acc: 0.735286, valid loss: 0.535791, valid acc: 0.734969\n",
      "\n"
     ]
    },
    {
     "name": "stderr",
     "output_type": "stream",
     "text": [
      "train minibatch loop: 100%|██████████| 16751/16751 [01:28<00:00, 190.22it/s, accuracy=0.667, cost=0.373]\n",
      "test minibatch loop: 100%|██████████| 4188/4188 [00:19<00:00, 211.25it/s, accuracy=0.706, cost=0.682]\n",
      "train minibatch loop:   0%|          | 20/16751 [00:00<01:26, 192.66it/s, accuracy=0.656, cost=0.604]"
     ]
    },
    {
     "name": "stdout",
     "output_type": "stream",
     "text": [
      "epoch: 405, pass acc: 0.734969, current acc: 0.735021\n",
      "time taken: 107.8892605304718\n",
      "epoch: 405, training loss: 0.534218, training acc: 0.735392, valid loss: 0.535724, valid acc: 0.735021\n",
      "\n"
     ]
    },
    {
     "name": "stderr",
     "output_type": "stream",
     "text": [
      "train minibatch loop: 100%|██████████| 16751/16751 [01:27<00:00, 190.47it/s, accuracy=0.667, cost=0.373]\n",
      "test minibatch loop: 100%|██████████| 4188/4188 [00:19<00:00, 211.01it/s, accuracy=0.706, cost=0.682]\n",
      "train minibatch loop:   0%|          | 19/16751 [00:00<01:28, 188.67it/s, accuracy=0.656, cost=0.604]"
     ]
    },
    {
     "name": "stdout",
     "output_type": "stream",
     "text": [
      "epoch: 406, pass acc: 0.735021, current acc: 0.735059\n",
      "time taken: 107.79383707046509\n",
      "epoch: 406, training loss: 0.534150, training acc: 0.735444, valid loss: 0.535657, valid acc: 0.735059\n",
      "\n"
     ]
    },
    {
     "name": "stderr",
     "output_type": "stream",
     "text": [
      "train minibatch loop: 100%|██████████| 16751/16751 [01:28<00:00, 190.32it/s, accuracy=0.667, cost=0.373]\n",
      "test minibatch loop: 100%|██████████| 4188/4188 [00:19<00:00, 211.04it/s, accuracy=0.706, cost=0.681]\n",
      "train minibatch loop:   0%|          | 20/16751 [00:00<01:27, 192.28it/s, accuracy=0.656, cost=0.604]"
     ]
    },
    {
     "name": "stdout",
     "output_type": "stream",
     "text": [
      "epoch: 407, pass acc: 0.735059, current acc: 0.735111\n",
      "time taken: 107.86158871650696\n",
      "epoch: 407, training loss: 0.534082, training acc: 0.735511, valid loss: 0.535590, valid acc: 0.735111\n",
      "\n"
     ]
    },
    {
     "name": "stderr",
     "output_type": "stream",
     "text": [
      "train minibatch loop: 100%|██████████| 16751/16751 [01:28<00:00, 190.25it/s, accuracy=0.667, cost=0.373]\n",
      "test minibatch loop: 100%|██████████| 4188/4188 [00:19<00:00, 210.68it/s, accuracy=0.706, cost=0.681]\n",
      "train minibatch loop:   0%|          | 20/16751 [00:00<01:27, 190.63it/s, accuracy=0.656, cost=0.604]"
     ]
    },
    {
     "name": "stdout",
     "output_type": "stream",
     "text": [
      "time taken: 107.92568802833557\n",
      "epoch: 408, training loss: 0.534013, training acc: 0.735595, valid loss: 0.535523, valid acc: 0.735103\n",
      "\n"
     ]
    },
    {
     "name": "stderr",
     "output_type": "stream",
     "text": [
      "train minibatch loop: 100%|██████████| 16751/16751 [01:27<00:00, 190.39it/s, accuracy=0.667, cost=0.373]\n",
      "test minibatch loop: 100%|██████████| 4188/4188 [00:19<00:00, 210.67it/s, accuracy=0.706, cost=0.681]\n",
      "train minibatch loop:   0%|          | 20/16751 [00:00<01:26, 192.39it/s, accuracy=0.656, cost=0.604]"
     ]
    },
    {
     "name": "stdout",
     "output_type": "stream",
     "text": [
      "epoch: 409, pass acc: 0.735111, current acc: 0.735215\n",
      "time taken: 107.86372232437134\n",
      "epoch: 409, training loss: 0.533945, training acc: 0.735661, valid loss: 0.535457, valid acc: 0.735215\n",
      "\n"
     ]
    },
    {
     "name": "stderr",
     "output_type": "stream",
     "text": [
      "train minibatch loop: 100%|██████████| 16751/16751 [01:27<00:00, 190.56it/s, accuracy=0.667, cost=0.372]\n",
      "test minibatch loop: 100%|██████████| 4188/4188 [00:19<00:00, 211.20it/s, accuracy=0.706, cost=0.681]\n",
      "train minibatch loop:   0%|          | 20/16751 [00:00<01:26, 192.73it/s, accuracy=0.656, cost=0.604]"
     ]
    },
    {
     "name": "stdout",
     "output_type": "stream",
     "text": [
      "epoch: 410, pass acc: 0.735215, current acc: 0.735342\n",
      "time taken: 107.73366451263428\n",
      "epoch: 410, training loss: 0.533878, training acc: 0.735739, valid loss: 0.535390, valid acc: 0.735342\n",
      "\n"
     ]
    },
    {
     "name": "stderr",
     "output_type": "stream",
     "text": [
      "train minibatch loop: 100%|██████████| 16751/16751 [01:28<00:00, 190.34it/s, accuracy=0.667, cost=0.372]\n",
      "test minibatch loop: 100%|██████████| 4188/4188 [00:19<00:00, 210.81it/s, accuracy=0.706, cost=0.681]\n",
      "train minibatch loop:   0%|          | 20/16751 [00:00<01:27, 191.44it/s, accuracy=0.656, cost=0.604]"
     ]
    },
    {
     "name": "stdout",
     "output_type": "stream",
     "text": [
      "epoch: 411, pass acc: 0.735342, current acc: 0.735387\n",
      "time taken: 107.87421607971191\n",
      "epoch: 411, training loss: 0.533810, training acc: 0.735804, valid loss: 0.535324, valid acc: 0.735387\n",
      "\n"
     ]
    },
    {
     "name": "stderr",
     "output_type": "stream",
     "text": [
      "train minibatch loop: 100%|██████████| 16751/16751 [01:27<00:00, 190.37it/s, accuracy=0.667, cost=0.372]\n",
      "test minibatch loop: 100%|██████████| 4188/4188 [00:19<00:00, 211.07it/s, accuracy=0.706, cost=0.681]\n",
      "train minibatch loop:   0%|          | 20/16751 [00:00<01:27, 190.51it/s, accuracy=0.656, cost=0.604]"
     ]
    },
    {
     "name": "stdout",
     "output_type": "stream",
     "text": [
      "epoch: 412, pass acc: 0.735387, current acc: 0.735447\n",
      "time taken: 107.83639454841614\n",
      "epoch: 412, training loss: 0.533743, training acc: 0.735864, valid loss: 0.535259, valid acc: 0.735447\n",
      "\n"
     ]
    },
    {
     "name": "stderr",
     "output_type": "stream",
     "text": [
      "train minibatch loop: 100%|██████████| 16751/16751 [01:27<00:00, 190.59it/s, accuracy=0.667, cost=0.372]\n",
      "test minibatch loop: 100%|██████████| 4188/4188 [00:19<00:00, 210.74it/s, accuracy=0.706, cost=0.68] \n",
      "train minibatch loop:   0%|          | 20/16751 [00:00<01:26, 192.41it/s, accuracy=0.688, cost=0.542]"
     ]
    },
    {
     "name": "stdout",
     "output_type": "stream",
     "text": [
      "epoch: 413, pass acc: 0.735447, current acc: 0.735469\n",
      "time taken: 107.7638750076294\n",
      "epoch: 413, training loss: 0.533676, training acc: 0.735916, valid loss: 0.535193, valid acc: 0.735469\n",
      "\n"
     ]
    },
    {
     "name": "stderr",
     "output_type": "stream",
     "text": [
      "train minibatch loop: 100%|██████████| 16751/16751 [01:27<00:00, 190.44it/s, accuracy=0.667, cost=0.372]\n",
      "test minibatch loop: 100%|██████████| 4188/4188 [00:19<00:00, 210.72it/s, accuracy=0.706, cost=0.68] \n",
      "train minibatch loop:   0%|          | 20/16751 [00:00<01:27, 190.58it/s, accuracy=0.656, cost=0.604]"
     ]
    },
    {
     "name": "stdout",
     "output_type": "stream",
     "text": [
      "epoch: 414, pass acc: 0.735469, current acc: 0.735484\n",
      "time taken: 107.8341383934021\n",
      "epoch: 414, training loss: 0.533609, training acc: 0.735939, valid loss: 0.535127, valid acc: 0.735484\n",
      "\n"
     ]
    },
    {
     "name": "stderr",
     "output_type": "stream",
     "text": [
      "train minibatch loop: 100%|██████████| 16751/16751 [01:27<00:00, 190.55it/s, accuracy=0.667, cost=0.372]\n",
      "test minibatch loop: 100%|██████████| 4188/4188 [00:19<00:00, 210.89it/s, accuracy=0.706, cost=0.68] \n",
      "train minibatch loop:   0%|          | 20/16751 [00:00<01:26, 193.84it/s, accuracy=0.719, cost=0.542]"
     ]
    },
    {
     "name": "stdout",
     "output_type": "stream",
     "text": [
      "epoch: 415, pass acc: 0.735484, current acc: 0.735536\n",
      "time taken: 107.77057814598083\n",
      "epoch: 415, training loss: 0.533542, training acc: 0.735957, valid loss: 0.535062, valid acc: 0.735536\n",
      "\n"
     ]
    },
    {
     "name": "stderr",
     "output_type": "stream",
     "text": [
      "train minibatch loop: 100%|██████████| 16751/16751 [01:28<00:00, 190.23it/s, accuracy=0.667, cost=0.371]\n",
      "test minibatch loop: 100%|██████████| 4188/4188 [00:19<00:00, 210.88it/s, accuracy=0.706, cost=0.68] \n",
      "train minibatch loop:   0%|          | 20/16751 [00:00<01:26, 193.74it/s, accuracy=0.656, cost=0.604]"
     ]
    },
    {
     "name": "stdout",
     "output_type": "stream",
     "text": [
      "epoch: 416, pass acc: 0.735536, current acc: 0.735618\n",
      "time taken: 107.91522288322449\n",
      "epoch: 416, training loss: 0.533476, training acc: 0.736019, valid loss: 0.534997, valid acc: 0.735618\n",
      "\n"
     ]
    },
    {
     "name": "stderr",
     "output_type": "stream",
     "text": [
      "train minibatch loop: 100%|██████████| 16751/16751 [01:28<00:00, 190.30it/s, accuracy=0.667, cost=0.371]\n",
      "test minibatch loop: 100%|██████████| 4188/4188 [00:19<00:00, 211.09it/s, accuracy=0.706, cost=0.68] \n",
      "train minibatch loop:   0%|          | 20/16751 [00:00<01:26, 194.27it/s, accuracy=0.719, cost=0.542]"
     ]
    },
    {
     "name": "stdout",
     "output_type": "stream",
     "text": [
      "epoch: 417, pass acc: 0.735618, current acc: 0.735648\n",
      "time taken: 107.86552047729492\n",
      "epoch: 417, training loss: 0.533409, training acc: 0.736077, valid loss: 0.534932, valid acc: 0.735648\n",
      "\n"
     ]
    },
    {
     "name": "stderr",
     "output_type": "stream",
     "text": [
      "train minibatch loop: 100%|██████████| 16751/16751 [01:27<00:00, 190.84it/s, accuracy=0.667, cost=0.371]\n",
      "test minibatch loop: 100%|██████████| 4188/4188 [00:19<00:00, 210.91it/s, accuracy=0.706, cost=0.68] \n",
      "train minibatch loop:   0%|          | 20/16751 [00:00<01:27, 191.41it/s, accuracy=0.656, cost=0.604]"
     ]
    },
    {
     "name": "stdout",
     "output_type": "stream",
     "text": [
      "epoch: 418, pass acc: 0.735648, current acc: 0.735700\n",
      "time taken: 107.70768475532532\n",
      "epoch: 418, training loss: 0.533343, training acc: 0.736125, valid loss: 0.534868, valid acc: 0.735700\n",
      "\n"
     ]
    },
    {
     "name": "stderr",
     "output_type": "stream",
     "text": [
      "train minibatch loop: 100%|██████████| 16751/16751 [01:27<00:00, 190.54it/s, accuracy=0.667, cost=0.371]\n",
      "test minibatch loop: 100%|██████████| 4188/4188 [00:19<00:00, 210.74it/s, accuracy=0.706, cost=0.679]\n",
      "train minibatch loop:   0%|          | 20/16751 [00:00<01:27, 191.26it/s, accuracy=0.656, cost=0.604]"
     ]
    },
    {
     "name": "stdout",
     "output_type": "stream",
     "text": [
      "epoch: 419, pass acc: 0.735700, current acc: 0.735708\n",
      "time taken: 107.78770399093628\n",
      "epoch: 419, training loss: 0.533277, training acc: 0.736138, valid loss: 0.534803, valid acc: 0.735708\n",
      "\n"
     ]
    },
    {
     "name": "stderr",
     "output_type": "stream",
     "text": [
      "train minibatch loop: 100%|██████████| 16751/16751 [01:27<00:00, 190.54it/s, accuracy=0.667, cost=0.371]\n",
      "test minibatch loop: 100%|██████████| 4188/4188 [00:19<00:00, 211.05it/s, accuracy=0.706, cost=0.679]\n",
      "train minibatch loop:   0%|          | 20/16751 [00:00<01:26, 193.31it/s, accuracy=0.656, cost=0.604]"
     ]
    },
    {
     "name": "stdout",
     "output_type": "stream",
     "text": [
      "epoch: 420, pass acc: 0.735708, current acc: 0.735745\n",
      "time taken: 107.75721001625061\n",
      "epoch: 420, training loss: 0.533212, training acc: 0.736205, valid loss: 0.534739, valid acc: 0.735745\n",
      "\n"
     ]
    },
    {
     "name": "stderr",
     "output_type": "stream",
     "text": [
      "train minibatch loop: 100%|██████████| 16751/16751 [01:28<00:00, 190.31it/s, accuracy=0.667, cost=0.37] \n",
      "test minibatch loop: 100%|██████████| 4188/4188 [00:19<00:00, 211.31it/s, accuracy=0.706, cost=0.679]\n",
      "train minibatch loop:   0%|          | 20/16751 [00:00<01:26, 193.73it/s, accuracy=0.719, cost=0.541]"
     ]
    },
    {
     "name": "stdout",
     "output_type": "stream",
     "text": [
      "epoch: 421, pass acc: 0.735745, current acc: 0.735782\n",
      "time taken: 107.8394615650177\n",
      "epoch: 421, training loss: 0.533146, training acc: 0.736258, valid loss: 0.534675, valid acc: 0.735782\n",
      "\n"
     ]
    },
    {
     "name": "stderr",
     "output_type": "stream",
     "text": [
      "train minibatch loop: 100%|██████████| 16751/16751 [01:27<00:00, 190.37it/s, accuracy=0.667, cost=0.37] \n",
      "test minibatch loop: 100%|██████████| 4188/4188 [00:19<00:00, 210.99it/s, accuracy=0.706, cost=0.679]\n",
      "train minibatch loop:   0%|          | 20/16751 [00:00<01:27, 192.27it/s, accuracy=0.656, cost=0.604]"
     ]
    },
    {
     "name": "stdout",
     "output_type": "stream",
     "text": [
      "epoch: 422, pass acc: 0.735782, current acc: 0.735805\n",
      "time taken: 107.8442645072937\n",
      "epoch: 422, training loss: 0.533081, training acc: 0.736340, valid loss: 0.534611, valid acc: 0.735805\n",
      "\n"
     ]
    },
    {
     "name": "stderr",
     "output_type": "stream",
     "text": [
      "train minibatch loop: 100%|██████████| 16751/16751 [01:27<00:00, 190.43it/s, accuracy=0.667, cost=0.37] \n",
      "test minibatch loop: 100%|██████████| 4188/4188 [00:19<00:00, 210.39it/s, accuracy=0.706, cost=0.679]\n",
      "train minibatch loop:   0%|          | 19/16751 [00:00<01:31, 183.29it/s, accuracy=0.781, cost=0.534]"
     ]
    },
    {
     "name": "stdout",
     "output_type": "stream",
     "text": [
      "epoch: 423, pass acc: 0.735805, current acc: 0.735872\n",
      "time taken: 107.871169090271\n",
      "epoch: 423, training loss: 0.533016, training acc: 0.736390, valid loss: 0.534547, valid acc: 0.735872\n",
      "\n"
     ]
    },
    {
     "name": "stderr",
     "output_type": "stream",
     "text": [
      "train minibatch loop: 100%|██████████| 16751/16751 [01:27<00:00, 190.40it/s, accuracy=0.667, cost=0.37] \n",
      "test minibatch loop: 100%|██████████| 4188/4188 [00:19<00:00, 210.56it/s, accuracy=0.706, cost=0.679]\n",
      "train minibatch loop:   0%|          | 20/16751 [00:00<01:27, 191.27it/s, accuracy=0.781, cost=0.534]"
     ]
    },
    {
     "name": "stdout",
     "output_type": "stream",
     "text": [
      "epoch: 424, pass acc: 0.735872, current acc: 0.735962\n",
      "time taken: 107.8705632686615\n",
      "epoch: 424, training loss: 0.532951, training acc: 0.736457, valid loss: 0.534484, valid acc: 0.735962\n",
      "\n"
     ]
    },
    {
     "name": "stderr",
     "output_type": "stream",
     "text": [
      "train minibatch loop: 100%|██████████| 16751/16751 [01:28<00:00, 190.32it/s, accuracy=0.667, cost=0.37] \n",
      "test minibatch loop: 100%|██████████| 4188/4188 [00:19<00:00, 211.14it/s, accuracy=0.706, cost=0.678]\n",
      "train minibatch loop:   0%|          | 20/16751 [00:00<01:27, 192.22it/s, accuracy=0.656, cost=0.604]"
     ]
    },
    {
     "name": "stdout",
     "output_type": "stream",
     "text": [
      "time taken: 107.85021162033081\n",
      "epoch: 425, training loss: 0.532886, training acc: 0.736472, valid loss: 0.534420, valid acc: 0.735962\n",
      "\n"
     ]
    },
    {
     "name": "stderr",
     "output_type": "stream",
     "text": [
      "train minibatch loop: 100%|██████████| 16751/16751 [01:28<00:00, 190.30it/s, accuracy=0.667, cost=0.37] \n",
      "test minibatch loop: 100%|██████████| 4188/4188 [00:19<00:00, 211.19it/s, accuracy=0.706, cost=0.678]\n",
      "train minibatch loop:   0%|          | 20/16751 [00:00<01:27, 191.47it/s, accuracy=0.656, cost=0.604]"
     ]
    },
    {
     "name": "stdout",
     "output_type": "stream",
     "text": [
      "epoch: 426, pass acc: 0.735962, current acc: 0.736021\n",
      "time taken: 107.85811400413513\n",
      "epoch: 426, training loss: 0.532822, training acc: 0.736513, valid loss: 0.534357, valid acc: 0.736021\n",
      "\n"
     ]
    },
    {
     "name": "stderr",
     "output_type": "stream",
     "text": [
      "train minibatch loop: 100%|██████████| 16751/16751 [01:28<00:00, 190.10it/s, accuracy=0.667, cost=0.37] \n",
      "test minibatch loop: 100%|██████████| 4188/4188 [00:19<00:00, 210.88it/s, accuracy=0.706, cost=0.678]\n",
      "train minibatch loop:   0%|          | 20/16751 [00:00<01:27, 191.86it/s, accuracy=0.656, cost=0.604]"
     ]
    },
    {
     "name": "stdout",
     "output_type": "stream",
     "text": [
      "epoch: 427, pass acc: 0.736021, current acc: 0.736066\n",
      "time taken: 107.97973465919495\n",
      "epoch: 427, training loss: 0.532757, training acc: 0.736551, valid loss: 0.534294, valid acc: 0.736066\n",
      "\n"
     ]
    },
    {
     "name": "stderr",
     "output_type": "stream",
     "text": [
      "train minibatch loop: 100%|██████████| 16751/16751 [01:27<00:00, 190.45it/s, accuracy=0.667, cost=0.369]\n",
      "test minibatch loop: 100%|██████████| 4188/4188 [00:19<00:00, 210.69it/s, accuracy=0.706, cost=0.678]\n",
      "train minibatch loop:   0%|          | 19/16751 [00:00<01:31, 182.13it/s, accuracy=0.781, cost=0.534]"
     ]
    },
    {
     "name": "stdout",
     "output_type": "stream",
     "text": [
      "epoch: 428, pass acc: 0.736066, current acc: 0.736171\n",
      "time taken: 107.83313536643982\n",
      "epoch: 428, training loss: 0.532693, training acc: 0.736607, valid loss: 0.534232, valid acc: 0.736171\n",
      "\n"
     ]
    },
    {
     "name": "stderr",
     "output_type": "stream",
     "text": [
      "train minibatch loop: 100%|██████████| 16751/16751 [01:28<00:00, 190.35it/s, accuracy=0.667, cost=0.369]\n",
      "test minibatch loop: 100%|██████████| 4188/4188 [00:19<00:00, 210.77it/s, accuracy=0.706, cost=0.678]\n",
      "train minibatch loop:   0%|          | 20/16751 [00:00<01:27, 191.48it/s, accuracy=0.656, cost=0.604]"
     ]
    },
    {
     "name": "stdout",
     "output_type": "stream",
     "text": [
      "epoch: 429, pass acc: 0.736171, current acc: 0.736185\n",
      "time taken: 107.87244868278503\n",
      "epoch: 429, training loss: 0.532629, training acc: 0.736659, valid loss: 0.534169, valid acc: 0.736185\n",
      "\n"
     ]
    },
    {
     "name": "stderr",
     "output_type": "stream",
     "text": [
      "train minibatch loop: 100%|██████████| 16751/16751 [01:28<00:00, 190.86it/s, accuracy=0.667, cost=0.369]\n",
      "test minibatch loop: 100%|██████████| 4188/4188 [00:19<00:00, 211.01it/s, accuracy=0.706, cost=0.678]\n",
      "train minibatch loop:   0%|          | 20/16751 [00:00<01:26, 192.50it/s, accuracy=0.656, cost=0.604]"
     ]
    },
    {
     "name": "stdout",
     "output_type": "stream",
     "text": [
      "epoch: 430, pass acc: 0.736185, current acc: 0.736275\n",
      "time taken: 107.85274982452393\n",
      "epoch: 430, training loss: 0.532566, training acc: 0.736717, valid loss: 0.534107, valid acc: 0.736275\n",
      "\n"
     ]
    },
    {
     "name": "stderr",
     "output_type": "stream",
     "text": [
      "train minibatch loop: 100%|██████████| 16751/16751 [01:28<00:00, 190.23it/s, accuracy=0.667, cost=0.369]\n",
      "test minibatch loop: 100%|██████████| 4188/4188 [00:19<00:00, 211.22it/s, accuracy=0.706, cost=0.677]\n",
      "train minibatch loop:   0%|          | 19/16751 [00:00<01:29, 186.71it/s, accuracy=0.656, cost=0.604]"
     ]
    },
    {
     "name": "stdout",
     "output_type": "stream",
     "text": [
      "epoch: 431, pass acc: 0.736275, current acc: 0.736342\n",
      "time taken: 107.88406324386597\n",
      "epoch: 431, training loss: 0.532502, training acc: 0.736778, valid loss: 0.534045, valid acc: 0.736342\n",
      "\n"
     ]
    },
    {
     "name": "stderr",
     "output_type": "stream",
     "text": [
      "train minibatch loop: 100%|██████████| 16751/16751 [01:28<00:00, 190.23it/s, accuracy=0.667, cost=0.369]\n",
      "test minibatch loop: 100%|██████████| 4188/4188 [00:19<00:00, 211.08it/s, accuracy=0.706, cost=0.677]\n",
      "train minibatch loop:   0%|          | 20/16751 [00:00<01:26, 192.45it/s, accuracy=0.781, cost=0.534]"
     ]
    },
    {
     "name": "stdout",
     "output_type": "stream",
     "text": [
      "epoch: 432, pass acc: 0.736342, current acc: 0.736432\n",
      "time taken: 107.8997004032135\n",
      "epoch: 432, training loss: 0.532439, training acc: 0.736834, valid loss: 0.533983, valid acc: 0.736432\n",
      "\n"
     ]
    },
    {
     "name": "stderr",
     "output_type": "stream",
     "text": [
      "train minibatch loop: 100%|██████████| 16751/16751 [01:27<00:00, 190.36it/s, accuracy=0.667, cost=0.369]\n",
      "test minibatch loop: 100%|██████████| 4188/4188 [00:19<00:00, 210.45it/s, accuracy=0.706, cost=0.677]\n",
      "train minibatch loop:   0%|          | 20/16751 [00:00<01:27, 191.33it/s, accuracy=0.656, cost=0.604]"
     ]
    },
    {
     "name": "stdout",
     "output_type": "stream",
     "text": [
      "epoch: 433, pass acc: 0.736432, current acc: 0.736469\n",
      "time taken: 107.89923453330994\n",
      "epoch: 433, training loss: 0.532376, training acc: 0.736871, valid loss: 0.533921, valid acc: 0.736469\n",
      "\n"
     ]
    },
    {
     "name": "stderr",
     "output_type": "stream",
     "text": [
      "train minibatch loop: 100%|██████████| 16751/16751 [01:28<00:00, 190.18it/s, accuracy=0.667, cost=0.368]\n",
      "test minibatch loop: 100%|██████████| 4188/4188 [00:19<00:00, 210.65it/s, accuracy=0.706, cost=0.677]\n",
      "train minibatch loop:   0%|          | 20/16751 [00:00<01:27, 191.29it/s, accuracy=0.656, cost=0.604]"
     ]
    },
    {
     "name": "stdout",
     "output_type": "stream",
     "text": [
      "epoch: 434, pass acc: 0.736469, current acc: 0.736506\n",
      "time taken: 107.96008539199829\n",
      "epoch: 434, training loss: 0.532313, training acc: 0.736924, valid loss: 0.533859, valid acc: 0.736506\n",
      "\n"
     ]
    },
    {
     "name": "stderr",
     "output_type": "stream",
     "text": [
      "train minibatch loop: 100%|██████████| 16751/16751 [01:27<00:00, 190.49it/s, accuracy=0.667, cost=0.368]\n",
      "test minibatch loop: 100%|██████████| 4188/4188 [00:19<00:00, 211.22it/s, accuracy=0.706, cost=0.677]\n",
      "train minibatch loop:   0%|          | 20/16751 [00:00<01:27, 190.47it/s, accuracy=0.656, cost=0.604]"
     ]
    },
    {
     "name": "stdout",
     "output_type": "stream",
     "text": [
      "epoch: 435, pass acc: 0.736506, current acc: 0.736551\n",
      "time taken: 107.76551628112793\n",
      "epoch: 435, training loss: 0.532250, training acc: 0.736983, valid loss: 0.533798, valid acc: 0.736551\n",
      "\n"
     ]
    },
    {
     "name": "stderr",
     "output_type": "stream",
     "text": [
      "train minibatch loop: 100%|██████████| 16751/16751 [01:28<00:00, 190.25it/s, accuracy=0.667, cost=0.368]\n",
      "test minibatch loop: 100%|██████████| 4188/4188 [00:19<00:00, 211.08it/s, accuracy=0.706, cost=0.677]\n",
      "train minibatch loop:   0%|          | 20/16751 [00:00<01:26, 192.38it/s, accuracy=0.656, cost=0.605]"
     ]
    },
    {
     "name": "stdout",
     "output_type": "stream",
     "text": [
      "epoch: 436, pass acc: 0.736551, current acc: 0.736596\n",
      "time taken: 107.88819551467896\n",
      "epoch: 436, training loss: 0.532187, training acc: 0.737024, valid loss: 0.533737, valid acc: 0.736596\n",
      "\n"
     ]
    },
    {
     "name": "stderr",
     "output_type": "stream",
     "text": [
      "train minibatch loop: 100%|██████████| 16751/16751 [01:28<00:00, 190.30it/s, accuracy=0.667, cost=0.368]\n",
      "test minibatch loop: 100%|██████████| 4188/4188 [00:19<00:00, 210.85it/s, accuracy=0.706, cost=0.676]\n",
      "train minibatch loop:   0%|          | 20/16751 [00:00<01:27, 190.28it/s, accuracy=0.656, cost=0.605]"
     ]
    },
    {
     "name": "stdout",
     "output_type": "stream",
     "text": [
      "time taken: 107.88784074783325\n",
      "epoch: 437, training loss: 0.532125, training acc: 0.737073, valid loss: 0.533676, valid acc: 0.736588\n",
      "\n"
     ]
    },
    {
     "name": "stderr",
     "output_type": "stream",
     "text": [
      "train minibatch loop: 100%|██████████| 16751/16751 [01:27<00:00, 190.36it/s, accuracy=0.667, cost=0.368]\n",
      "test minibatch loop: 100%|██████████| 4188/4188 [00:19<00:00, 210.34it/s, accuracy=0.706, cost=0.676]\n",
      "train minibatch loop:   0%|          | 20/16751 [00:00<01:27, 191.72it/s, accuracy=0.719, cost=0.541]"
     ]
    },
    {
     "name": "stdout",
     "output_type": "stream",
     "text": [
      "epoch: 438, pass acc: 0.736596, current acc: 0.736730\n",
      "time taken: 107.90718102455139\n",
      "epoch: 438, training loss: 0.532062, training acc: 0.737084, valid loss: 0.533615, valid acc: 0.736730\n",
      "\n"
     ]
    },
    {
     "name": "stderr",
     "output_type": "stream",
     "text": [
      "train minibatch loop: 100%|██████████| 16751/16751 [01:27<00:00, 190.56it/s, accuracy=0.667, cost=0.368]\n",
      "test minibatch loop: 100%|██████████| 4188/4188 [00:19<00:00, 211.07it/s, accuracy=0.706, cost=0.676]\n",
      "train minibatch loop:   0%|          | 20/16751 [00:00<01:27, 190.80it/s, accuracy=0.656, cost=0.605]"
     ]
    },
    {
     "name": "stdout",
     "output_type": "stream",
     "text": [
      "epoch: 439, pass acc: 0.736730, current acc: 0.736753\n",
      "time taken: 107.74730706214905\n",
      "epoch: 439, training loss: 0.532000, training acc: 0.737127, valid loss: 0.533554, valid acc: 0.736753\n",
      "\n"
     ]
    },
    {
     "name": "stderr",
     "output_type": "stream",
     "text": [
      "train minibatch loop: 100%|██████████| 16751/16751 [01:27<00:00, 190.38it/s, accuracy=0.667, cost=0.368]\n",
      "test minibatch loop: 100%|██████████| 4188/4188 [00:19<00:00, 211.77it/s, accuracy=0.706, cost=0.676]\n",
      "train minibatch loop:   0%|          | 20/16751 [00:00<01:25, 194.56it/s, accuracy=0.719, cost=0.541]"
     ]
    },
    {
     "name": "stdout",
     "output_type": "stream",
     "text": [
      "epoch: 440, pass acc: 0.736753, current acc: 0.736782\n",
      "time taken: 107.81611132621765\n",
      "epoch: 440, training loss: 0.531939, training acc: 0.737135, valid loss: 0.533494, valid acc: 0.736782\n",
      "\n"
     ]
    },
    {
     "name": "stderr",
     "output_type": "stream",
     "text": [
      "train minibatch loop: 100%|██████████| 16751/16751 [01:27<00:00, 190.68it/s, accuracy=0.667, cost=0.367]\n",
      "test minibatch loop: 100%|██████████| 4188/4188 [00:19<00:00, 211.44it/s, accuracy=0.706, cost=0.676]\n",
      "train minibatch loop:   0%|          | 20/16751 [00:00<01:26, 192.63it/s, accuracy=0.656, cost=0.605]"
     ]
    },
    {
     "name": "stdout",
     "output_type": "stream",
     "text": [
      "epoch: 441, pass acc: 0.736782, current acc: 0.736812\n",
      "time taken: 107.65632963180542\n",
      "epoch: 441, training loss: 0.531877, training acc: 0.737189, valid loss: 0.533433, valid acc: 0.736812\n",
      "\n"
     ]
    },
    {
     "name": "stderr",
     "output_type": "stream",
     "text": [
      "train minibatch loop: 100%|██████████| 16751/16751 [01:27<00:00, 190.42it/s, accuracy=0.667, cost=0.367]\n",
      "test minibatch loop: 100%|██████████| 4188/4188 [00:19<00:00, 210.31it/s, accuracy=0.706, cost=0.676]\n",
      "train minibatch loop:   0%|          | 20/16751 [00:00<01:26, 192.50it/s, accuracy=0.719, cost=0.541]"
     ]
    },
    {
     "name": "stdout",
     "output_type": "stream",
     "text": [
      "epoch: 442, pass acc: 0.736812, current acc: 0.736879\n",
      "time taken: 107.81651878356934\n",
      "epoch: 442, training loss: 0.531815, training acc: 0.737217, valid loss: 0.533373, valid acc: 0.736879\n",
      "\n"
     ]
    },
    {
     "name": "stderr",
     "output_type": "stream",
     "text": [
      "train minibatch loop: 100%|██████████| 16751/16751 [01:27<00:00, 190.36it/s, accuracy=0.667, cost=0.367]\n",
      "test minibatch loop: 100%|██████████| 4188/4188 [00:19<00:00, 210.74it/s, accuracy=0.706, cost=0.675]\n",
      "train minibatch loop:   0%|          | 20/16751 [00:00<01:26, 192.44it/s, accuracy=0.656, cost=0.605]"
     ]
    },
    {
     "name": "stdout",
     "output_type": "stream",
     "text": [
      "epoch: 443, pass acc: 0.736879, current acc: 0.736887\n",
      "time taken: 107.87040090560913\n",
      "epoch: 443, training loss: 0.531754, training acc: 0.737250, valid loss: 0.533313, valid acc: 0.736887\n",
      "\n"
     ]
    },
    {
     "name": "stderr",
     "output_type": "stream",
     "text": [
      "train minibatch loop: 100%|██████████| 16751/16751 [01:27<00:00, 190.39it/s, accuracy=0.667, cost=0.367]\n",
      "test minibatch loop: 100%|██████████| 4188/4188 [00:19<00:00, 211.02it/s, accuracy=0.706, cost=0.675]\n",
      "train minibatch loop:   0%|          | 19/16751 [00:00<01:30, 184.32it/s, accuracy=0.656, cost=0.605]"
     ]
    },
    {
     "name": "stdout",
     "output_type": "stream",
     "text": [
      "epoch: 444, pass acc: 0.736887, current acc: 0.736902\n",
      "time taken: 107.82911205291748\n",
      "epoch: 444, training loss: 0.531693, training acc: 0.737299, valid loss: 0.533254, valid acc: 0.736902\n",
      "\n"
     ]
    },
    {
     "name": "stderr",
     "output_type": "stream",
     "text": [
      "train minibatch loop: 100%|██████████| 16751/16751 [01:27<00:00, 190.38it/s, accuracy=0.667, cost=0.367]\n",
      "test minibatch loop: 100%|██████████| 4188/4188 [00:19<00:00, 211.42it/s, accuracy=0.706, cost=0.675]\n",
      "train minibatch loop:   0%|          | 20/16751 [00:00<01:27, 191.68it/s, accuracy=0.656, cost=0.605]"
     ]
    },
    {
     "name": "stdout",
     "output_type": "stream",
     "text": [
      "epoch: 445, pass acc: 0.736902, current acc: 0.736962\n",
      "time taken: 107.79885482788086\n",
      "epoch: 445, training loss: 0.531632, training acc: 0.737364, valid loss: 0.533194, valid acc: 0.736962\n",
      "\n"
     ]
    },
    {
     "name": "stderr",
     "output_type": "stream",
     "text": [
      "train minibatch loop: 100%|██████████| 16751/16751 [01:28<00:00, 190.31it/s, accuracy=0.667, cost=0.367]\n",
      "test minibatch loop: 100%|██████████| 4188/4188 [00:19<00:00, 211.01it/s, accuracy=0.706, cost=0.675]\n",
      "train minibatch loop:   0%|          | 20/16751 [00:00<01:26, 194.03it/s, accuracy=0.719, cost=0.541]"
     ]
    },
    {
     "name": "stdout",
     "output_type": "stream",
     "text": [
      "epoch: 446, pass acc: 0.736962, current acc: 0.737029\n",
      "time taken: 107.86731362342834\n",
      "epoch: 446, training loss: 0.531571, training acc: 0.737375, valid loss: 0.533134, valid acc: 0.737029\n",
      "\n"
     ]
    },
    {
     "name": "stderr",
     "output_type": "stream",
     "text": [
      "train minibatch loop: 100%|██████████| 16751/16751 [01:27<00:00, 190.51it/s, accuracy=0.667, cost=0.367]\n",
      "test minibatch loop: 100%|██████████| 4188/4188 [00:19<00:00, 210.48it/s, accuracy=0.706, cost=0.675]\n",
      "train minibatch loop:   0%|          | 20/16751 [00:00<01:26, 193.42it/s, accuracy=0.656, cost=0.605]"
     ]
    },
    {
     "name": "stdout",
     "output_type": "stream",
     "text": [
      "epoch: 447, pass acc: 0.737029, current acc: 0.737096\n",
      "time taken: 107.77934503555298\n",
      "epoch: 447, training loss: 0.531510, training acc: 0.737420, valid loss: 0.533075, valid acc: 0.737096\n",
      "\n"
     ]
    },
    {
     "name": "stderr",
     "output_type": "stream",
     "text": [
      "train minibatch loop: 100%|██████████| 16751/16751 [01:27<00:00, 190.37it/s, accuracy=0.667, cost=0.366]\n",
      "test minibatch loop: 100%|██████████| 4188/4188 [00:19<00:00, 211.14it/s, accuracy=0.706, cost=0.675]\n",
      "train minibatch loop:   0%|          | 20/16751 [00:00<01:26, 193.12it/s, accuracy=0.656, cost=0.605]"
     ]
    },
    {
     "name": "stdout",
     "output_type": "stream",
     "text": [
      "epoch: 448, pass acc: 0.737096, current acc: 0.737148\n",
      "time taken: 107.82680344581604\n",
      "epoch: 448, training loss: 0.531450, training acc: 0.737459, valid loss: 0.533016, valid acc: 0.737148\n",
      "\n"
     ]
    },
    {
     "name": "stderr",
     "output_type": "stream",
     "text": [
      "train minibatch loop: 100%|██████████| 16751/16751 [01:27<00:00, 190.73it/s, accuracy=0.667, cost=0.366]\n",
      "test minibatch loop: 100%|██████████| 4188/4188 [00:19<00:00, 211.33it/s, accuracy=0.706, cost=0.674]\n",
      "train minibatch loop:   0%|          | 20/16751 [00:00<01:28, 190.02it/s, accuracy=0.656, cost=0.605]"
     ]
    },
    {
     "name": "stdout",
     "output_type": "stream",
     "text": [
      "epoch: 449, pass acc: 0.737148, current acc: 0.737215\n",
      "time taken: 107.64492607116699\n",
      "epoch: 449, training loss: 0.531390, training acc: 0.737504, valid loss: 0.532957, valid acc: 0.737215\n",
      "\n"
     ]
    },
    {
     "name": "stderr",
     "output_type": "stream",
     "text": [
      "train minibatch loop: 100%|██████████| 16751/16751 [01:28<00:00, 190.11it/s, accuracy=0.667, cost=0.366]\n",
      "test minibatch loop: 100%|██████████| 4188/4188 [00:19<00:00, 211.04it/s, accuracy=0.706, cost=0.674]\n",
      "train minibatch loop:   0%|          | 20/16751 [00:00<01:25, 194.61it/s, accuracy=0.656, cost=0.605]"
     ]
    },
    {
     "name": "stdout",
     "output_type": "stream",
     "text": [
      "epoch: 450, pass acc: 0.737215, current acc: 0.737305\n",
      "time taken: 107.95821928977966\n",
      "epoch: 450, training loss: 0.531329, training acc: 0.737560, valid loss: 0.532898, valid acc: 0.737305\n",
      "\n"
     ]
    },
    {
     "name": "stderr",
     "output_type": "stream",
     "text": [
      "train minibatch loop: 100%|██████████| 16751/16751 [01:28<00:00, 190.31it/s, accuracy=0.667, cost=0.366]\n",
      "test minibatch loop: 100%|██████████| 4188/4188 [00:19<00:00, 211.01it/s, accuracy=0.706, cost=0.674]\n",
      "train minibatch loop:   0%|          | 20/16751 [00:00<01:26, 194.18it/s, accuracy=0.656, cost=0.605]"
     ]
    },
    {
     "name": "stdout",
     "output_type": "stream",
     "text": [
      "epoch: 451, pass acc: 0.737305, current acc: 0.737335\n",
      "time taken: 107.8673620223999\n",
      "epoch: 451, training loss: 0.531269, training acc: 0.737599, valid loss: 0.532840, valid acc: 0.737335\n",
      "\n"
     ]
    },
    {
     "name": "stderr",
     "output_type": "stream",
     "text": [
      "train minibatch loop: 100%|██████████| 16751/16751 [01:28<00:00, 190.31it/s, accuracy=0.667, cost=0.366]\n",
      "test minibatch loop: 100%|██████████| 4188/4188 [00:19<00:00, 210.38it/s, accuracy=0.706, cost=0.674]\n",
      "train minibatch loop:   0%|          | 19/16751 [00:00<01:28, 189.54it/s, accuracy=0.656, cost=0.605]"
     ]
    },
    {
     "name": "stdout",
     "output_type": "stream",
     "text": [
      "epoch: 452, pass acc: 0.737335, current acc: 0.737350\n",
      "time taken: 107.87758541107178\n",
      "epoch: 452, training loss: 0.531210, training acc: 0.737633, valid loss: 0.532782, valid acc: 0.737350\n",
      "\n"
     ]
    },
    {
     "name": "stderr",
     "output_type": "stream",
     "text": [
      "train minibatch loop: 100%|██████████| 16751/16751 [01:27<00:00, 190.67it/s, accuracy=0.667, cost=0.366]\n",
      "test minibatch loop: 100%|██████████| 4188/4188 [00:19<00:00, 210.66it/s, accuracy=0.706, cost=0.674]\n",
      "train minibatch loop:   0%|          | 20/16751 [00:00<01:27, 192.22it/s, accuracy=0.656, cost=0.605]"
     ]
    },
    {
     "name": "stdout",
     "output_type": "stream",
     "text": [
      "time taken: 107.73616981506348\n",
      "epoch: 453, training loss: 0.531150, training acc: 0.737687, valid loss: 0.532723, valid acc: 0.737342\n",
      "\n"
     ]
    },
    {
     "name": "stderr",
     "output_type": "stream",
     "text": [
      "train minibatch loop: 100%|██████████| 16751/16751 [01:27<00:00, 190.53it/s, accuracy=0.667, cost=0.366]\n",
      "test minibatch loop: 100%|██████████| 4188/4188 [00:19<00:00, 211.36it/s, accuracy=0.706, cost=0.674]\n",
      "train minibatch loop:   0%|          | 20/16751 [00:00<01:27, 192.04it/s, accuracy=0.656, cost=0.605]"
     ]
    },
    {
     "name": "stdout",
     "output_type": "stream",
     "text": [
      "epoch: 454, pass acc: 0.737350, current acc: 0.737417\n",
      "time taken: 107.7330687046051\n",
      "epoch: 454, training loss: 0.531091, training acc: 0.737691, valid loss: 0.532665, valid acc: 0.737417\n",
      "\n"
     ]
    },
    {
     "name": "stderr",
     "output_type": "stream",
     "text": [
      "train minibatch loop: 100%|██████████| 16751/16751 [01:28<00:00, 190.32it/s, accuracy=0.667, cost=0.365]\n",
      "test minibatch loop: 100%|██████████| 4188/4188 [00:19<00:00, 211.41it/s, accuracy=0.706, cost=0.673]\n",
      "train minibatch loop:   0%|          | 20/16751 [00:00<01:26, 193.02it/s, accuracy=0.656, cost=0.605]"
     ]
    },
    {
     "name": "stdout",
     "output_type": "stream",
     "text": [
      "epoch: 455, pass acc: 0.737417, current acc: 0.737447\n",
      "time taken: 107.82673048973083\n",
      "epoch: 455, training loss: 0.531031, training acc: 0.737737, valid loss: 0.532607, valid acc: 0.737447\n",
      "\n"
     ]
    },
    {
     "name": "stderr",
     "output_type": "stream",
     "text": [
      "train minibatch loop: 100%|██████████| 16751/16751 [01:27<00:00, 190.61it/s, accuracy=0.667, cost=0.365]\n",
      "test minibatch loop: 100%|██████████| 4188/4188 [00:19<00:00, 211.40it/s, accuracy=0.706, cost=0.673]\n",
      "train minibatch loop:   0%|          | 20/16751 [00:00<01:27, 190.84it/s, accuracy=0.656, cost=0.605]"
     ]
    },
    {
     "name": "stdout",
     "output_type": "stream",
     "text": [
      "epoch: 456, pass acc: 0.737447, current acc: 0.737491\n",
      "time taken: 107.69286942481995\n",
      "epoch: 456, training loss: 0.530972, training acc: 0.737780, valid loss: 0.532550, valid acc: 0.737491\n",
      "\n"
     ]
    },
    {
     "name": "stderr",
     "output_type": "stream",
     "text": [
      "train minibatch loop: 100%|██████████| 16751/16751 [01:27<00:00, 190.46it/s, accuracy=0.667, cost=0.365]\n",
      "test minibatch loop: 100%|██████████| 4188/4188 [00:19<00:00, 210.43it/s, accuracy=0.706, cost=0.673]\n",
      "train minibatch loop:   0%|          | 20/16751 [00:00<01:26, 192.52it/s, accuracy=0.656, cost=0.605]"
     ]
    },
    {
     "name": "stdout",
     "output_type": "stream",
     "text": [
      "epoch: 457, pass acc: 0.737491, current acc: 0.737551\n",
      "time taken: 107.85283374786377\n",
      "epoch: 457, training loss: 0.530913, training acc: 0.737834, valid loss: 0.532492, valid acc: 0.737551\n",
      "\n"
     ]
    },
    {
     "name": "stderr",
     "output_type": "stream",
     "text": [
      "train minibatch loop: 100%|██████████| 16751/16751 [01:28<00:00, 190.33it/s, accuracy=0.667, cost=0.365]\n",
      "test minibatch loop: 100%|██████████| 4188/4188 [00:19<00:00, 211.00it/s, accuracy=0.706, cost=0.673]\n",
      "train minibatch loop:   0%|          | 20/16751 [00:00<01:27, 192.22it/s, accuracy=0.656, cost=0.605]"
     ]
    },
    {
     "name": "stdout",
     "output_type": "stream",
     "text": [
      "epoch: 458, pass acc: 0.737551, current acc: 0.737596\n",
      "time taken: 107.86071562767029\n",
      "epoch: 458, training loss: 0.530855, training acc: 0.737875, valid loss: 0.532435, valid acc: 0.737596\n",
      "\n"
     ]
    },
    {
     "name": "stderr",
     "output_type": "stream",
     "text": [
      "train minibatch loop: 100%|██████████| 16751/16751 [01:27<00:00, 190.57it/s, accuracy=0.667, cost=0.365]\n",
      "test minibatch loop: 100%|██████████| 4188/4188 [00:19<00:00, 211.57it/s, accuracy=0.706, cost=0.673]\n",
      "train minibatch loop:   0%|          | 20/16751 [00:00<01:27, 191.09it/s, accuracy=0.719, cost=0.541]"
     ]
    },
    {
     "name": "stdout",
     "output_type": "stream",
     "text": [
      "epoch: 459, pass acc: 0.737596, current acc: 0.737671\n",
      "time taken: 107.69423413276672\n",
      "epoch: 459, training loss: 0.530796, training acc: 0.737937, valid loss: 0.532377, valid acc: 0.737671\n",
      "\n"
     ]
    },
    {
     "name": "stderr",
     "output_type": "stream",
     "text": [
      "train minibatch loop: 100%|██████████| 16751/16751 [01:27<00:00, 190.45it/s, accuracy=0.667, cost=0.365]\n",
      "test minibatch loop: 100%|██████████| 4188/4188 [00:19<00:00, 211.04it/s, accuracy=0.706, cost=0.673]\n",
      "train minibatch loop:   0%|          | 20/16751 [00:00<01:26, 193.03it/s, accuracy=0.656, cost=0.605]"
     ]
    },
    {
     "name": "stdout",
     "output_type": "stream",
     "text": [
      "epoch: 460, pass acc: 0.737671, current acc: 0.737715\n",
      "time taken: 107.80216908454895\n",
      "epoch: 460, training loss: 0.530737, training acc: 0.738015, valid loss: 0.532320, valid acc: 0.737715\n",
      "\n"
     ]
    },
    {
     "name": "stderr",
     "output_type": "stream",
     "text": [
      "train minibatch loop: 100%|██████████| 16751/16751 [01:27<00:00, 190.43it/s, accuracy=0.667, cost=0.365]\n",
      "test minibatch loop: 100%|██████████| 4188/4188 [00:19<00:00, 211.01it/s, accuracy=0.706, cost=0.672]\n",
      "train minibatch loop:   0%|          | 20/16751 [00:00<01:26, 193.26it/s, accuracy=0.656, cost=0.605]"
     ]
    },
    {
     "name": "stdout",
     "output_type": "stream",
     "text": [
      "epoch: 461, pass acc: 0.737715, current acc: 0.737745\n",
      "time taken: 107.81535601615906\n",
      "epoch: 461, training loss: 0.530679, training acc: 0.738049, valid loss: 0.532263, valid acc: 0.737745\n",
      "\n"
     ]
    },
    {
     "name": "stderr",
     "output_type": "stream",
     "text": [
      "train minibatch loop: 100%|██████████| 16751/16751 [01:27<00:00, 190.48it/s, accuracy=0.667, cost=0.365]\n",
      "test minibatch loop: 100%|██████████| 4188/4188 [00:19<00:00, 210.44it/s, accuracy=0.706, cost=0.672]\n",
      "train minibatch loop:   0%|          | 20/16751 [00:00<01:26, 194.15it/s, accuracy=0.656, cost=0.605]"
     ]
    },
    {
     "name": "stdout",
     "output_type": "stream",
     "text": [
      "epoch: 462, pass acc: 0.737745, current acc: 0.737768\n",
      "time taken: 107.84182572364807\n",
      "epoch: 462, training loss: 0.530621, training acc: 0.738082, valid loss: 0.532207, valid acc: 0.737768\n",
      "\n"
     ]
    },
    {
     "name": "stderr",
     "output_type": "stream",
     "text": [
      "train minibatch loop: 100%|██████████| 16751/16751 [01:27<00:00, 190.44it/s, accuracy=0.667, cost=0.364]\n",
      "test minibatch loop: 100%|██████████| 4188/4188 [00:19<00:00, 210.55it/s, accuracy=0.706, cost=0.672]\n",
      "train minibatch loop:   0%|          | 20/16751 [00:00<01:27, 191.06it/s, accuracy=0.656, cost=0.605]"
     ]
    },
    {
     "name": "stdout",
     "output_type": "stream",
     "text": [
      "epoch: 463, pass acc: 0.737768, current acc: 0.737865\n",
      "time taken: 107.8542091846466\n",
      "epoch: 463, training loss: 0.530563, training acc: 0.738133, valid loss: 0.532150, valid acc: 0.737865\n",
      "\n"
     ]
    },
    {
     "name": "stderr",
     "output_type": "stream",
     "text": [
      "train minibatch loop: 100%|██████████| 16751/16751 [01:27<00:00, 190.36it/s, accuracy=0.667, cost=0.364]\n",
      "test minibatch loop: 100%|██████████| 4188/4188 [00:19<00:00, 210.91it/s, accuracy=0.706, cost=0.672]\n",
      "train minibatch loop:   0%|          | 20/16751 [00:00<01:26, 194.07it/s, accuracy=0.719, cost=0.541]"
     ]
    },
    {
     "name": "stdout",
     "output_type": "stream",
     "text": [
      "epoch: 464, pass acc: 0.737865, current acc: 0.737969\n",
      "time taken: 107.82948899269104\n",
      "epoch: 464, training loss: 0.530505, training acc: 0.738166, valid loss: 0.532094, valid acc: 0.737969\n",
      "\n"
     ]
    },
    {
     "name": "stderr",
     "output_type": "stream",
     "text": [
      "train minibatch loop: 100%|██████████| 16751/16751 [01:27<00:00, 190.48it/s, accuracy=0.667, cost=0.364]\n",
      "test minibatch loop: 100%|██████████| 4188/4188 [00:19<00:00, 211.22it/s, accuracy=0.706, cost=0.672]\n",
      "train minibatch loop:   0%|          | 20/16751 [00:00<01:26, 192.62it/s, accuracy=0.656, cost=0.605]"
     ]
    },
    {
     "name": "stdout",
     "output_type": "stream",
     "text": [
      "epoch: 465, pass acc: 0.737969, current acc: 0.738044\n",
      "time taken: 107.77169370651245\n",
      "epoch: 465, training loss: 0.530448, training acc: 0.738204, valid loss: 0.532037, valid acc: 0.738044\n",
      "\n"
     ]
    },
    {
     "name": "stderr",
     "output_type": "stream",
     "text": [
      "train minibatch loop: 100%|██████████| 16751/16751 [01:27<00:00, 190.52it/s, accuracy=0.667, cost=0.364]\n",
      "test minibatch loop: 100%|██████████| 4188/4188 [00:19<00:00, 211.26it/s, accuracy=0.706, cost=0.672]\n",
      "train minibatch loop:   0%|          | 20/16751 [00:00<01:28, 190.04it/s, accuracy=0.656, cost=0.605]"
     ]
    },
    {
     "name": "stdout",
     "output_type": "stream",
     "text": [
      "epoch: 466, pass acc: 0.738044, current acc: 0.738074\n",
      "time taken: 107.76624774932861\n",
      "epoch: 466, training loss: 0.530390, training acc: 0.738235, valid loss: 0.531981, valid acc: 0.738074\n",
      "\n"
     ]
    },
    {
     "name": "stderr",
     "output_type": "stream",
     "text": [
      "train minibatch loop: 100%|██████████| 16751/16751 [01:28<00:00, 190.25it/s, accuracy=0.667, cost=0.364]\n",
      "test minibatch loop: 100%|██████████| 4188/4188 [00:19<00:00, 209.61it/s, accuracy=0.706, cost=0.671]\n",
      "train minibatch loop:   0%|          | 19/16751 [00:00<01:28, 189.82it/s, accuracy=0.656, cost=0.605]"
     ]
    },
    {
     "name": "stdout",
     "output_type": "stream",
     "text": [
      "epoch: 467, pass acc: 0.738074, current acc: 0.738133\n",
      "time taken: 108.02810478210449\n",
      "epoch: 467, training loss: 0.530333, training acc: 0.738273, valid loss: 0.531925, valid acc: 0.738133\n",
      "\n"
     ]
    },
    {
     "name": "stderr",
     "output_type": "stream",
     "text": [
      "train minibatch loop: 100%|██████████| 16751/16751 [01:27<00:00, 190.36it/s, accuracy=0.667, cost=0.364]\n",
      "test minibatch loop: 100%|██████████| 4188/4188 [00:19<00:00, 210.83it/s, accuracy=0.706, cost=0.671]\n",
      "train minibatch loop:   0%|          | 20/16751 [00:00<01:26, 192.51it/s, accuracy=0.656, cost=0.605]"
     ]
    },
    {
     "name": "stdout",
     "output_type": "stream",
     "text": [
      "epoch: 468, pass acc: 0.738133, current acc: 0.738230\n",
      "time taken: 107.86330103874207\n",
      "epoch: 468, training loss: 0.530276, training acc: 0.738276, valid loss: 0.531869, valid acc: 0.738230\n",
      "\n"
     ]
    },
    {
     "name": "stderr",
     "output_type": "stream",
     "text": [
      "train minibatch loop: 100%|██████████| 16751/16751 [01:28<00:00, 190.12it/s, accuracy=0.667, cost=0.364]\n",
      "test minibatch loop: 100%|██████████| 4188/4188 [00:19<00:00, 210.78it/s, accuracy=0.706, cost=0.671]\n",
      "train minibatch loop:   0%|          | 20/16751 [00:00<01:27, 191.89it/s, accuracy=0.656, cost=0.605]"
     ]
    },
    {
     "name": "stdout",
     "output_type": "stream",
     "text": [
      "epoch: 469, pass acc: 0.738230, current acc: 0.738312\n",
      "time taken: 107.97641921043396\n",
      "epoch: 469, training loss: 0.530219, training acc: 0.738302, valid loss: 0.531814, valid acc: 0.738312\n",
      "\n"
     ]
    },
    {
     "name": "stderr",
     "output_type": "stream",
     "text": [
      "train minibatch loop: 100%|██████████| 16751/16751 [01:27<00:00, 190.37it/s, accuracy=0.667, cost=0.364]\n",
      "test minibatch loop: 100%|██████████| 4188/4188 [00:19<00:00, 211.15it/s, accuracy=0.706, cost=0.671]\n",
      "train minibatch loop:   0%|          | 19/16751 [00:00<01:28, 189.97it/s, accuracy=0.656, cost=0.605]"
     ]
    },
    {
     "name": "stdout",
     "output_type": "stream",
     "text": [
      "epoch: 470, pass acc: 0.738312, current acc: 0.738417\n",
      "time taken: 107.82561540603638\n",
      "epoch: 470, training loss: 0.530162, training acc: 0.738362, valid loss: 0.531758, valid acc: 0.738417\n",
      "\n"
     ]
    },
    {
     "name": "stderr",
     "output_type": "stream",
     "text": [
      "train minibatch loop: 100%|██████████| 16751/16751 [01:27<00:00, 190.38it/s, accuracy=0.667, cost=0.363]\n",
      "test minibatch loop: 100%|██████████| 4188/4188 [00:19<00:00, 210.93it/s, accuracy=0.706, cost=0.671]\n",
      "train minibatch loop:   0%|          | 20/16751 [00:00<01:27, 191.65it/s, accuracy=0.656, cost=0.605]"
     ]
    },
    {
     "name": "stdout",
     "output_type": "stream",
     "text": [
      "epoch: 471, pass acc: 0.738417, current acc: 0.738454\n",
      "time taken: 107.84345316886902\n",
      "epoch: 471, training loss: 0.530105, training acc: 0.738399, valid loss: 0.531703, valid acc: 0.738454\n",
      "\n"
     ]
    },
    {
     "name": "stderr",
     "output_type": "stream",
     "text": [
      "train minibatch loop: 100%|██████████| 16751/16751 [01:28<00:00, 190.21it/s, accuracy=0.667, cost=0.363]\n",
      "test minibatch loop: 100%|██████████| 4188/4188 [00:19<00:00, 210.38it/s, accuracy=0.706, cost=0.671]\n",
      "train minibatch loop:   0%|          | 20/16751 [00:00<01:26, 193.63it/s, accuracy=0.719, cost=0.541]"
     ]
    },
    {
     "name": "stdout",
     "output_type": "stream",
     "text": [
      "time taken: 107.97211694717407\n",
      "epoch: 472, training loss: 0.530049, training acc: 0.738433, valid loss: 0.531648, valid acc: 0.738454\n",
      "\n"
     ]
    },
    {
     "name": "stderr",
     "output_type": "stream",
     "text": [
      "train minibatch loop: 100%|██████████| 16751/16751 [01:27<00:00, 190.36it/s, accuracy=0.667, cost=0.363]\n",
      "test minibatch loop: 100%|██████████| 4188/4188 [00:19<00:00, 210.61it/s, accuracy=0.706, cost=0.67] \n",
      "train minibatch loop:   0%|          | 20/16751 [00:00<01:27, 190.43it/s, accuracy=0.656, cost=0.605]"
     ]
    },
    {
     "name": "stdout",
     "output_type": "stream",
     "text": [
      "epoch: 473, pass acc: 0.738454, current acc: 0.738462\n",
      "time taken: 107.8833818435669\n",
      "epoch: 473, training loss: 0.529992, training acc: 0.738457, valid loss: 0.531593, valid acc: 0.738462\n",
      "\n"
     ]
    },
    {
     "name": "stderr",
     "output_type": "stream",
     "text": [
      "train minibatch loop: 100%|██████████| 16751/16751 [01:28<00:00, 190.22it/s, accuracy=0.667, cost=0.363]\n",
      "test minibatch loop: 100%|██████████| 4188/4188 [00:19<00:00, 211.04it/s, accuracy=0.706, cost=0.67] \n",
      "train minibatch loop:   0%|          | 19/16751 [00:00<01:30, 185.73it/s, accuracy=0.781, cost=0.531]"
     ]
    },
    {
     "name": "stdout",
     "output_type": "stream",
     "text": [
      "epoch: 474, pass acc: 0.738462, current acc: 0.738529\n",
      "time taken: 107.90632462501526\n",
      "epoch: 474, training loss: 0.529936, training acc: 0.738532, valid loss: 0.531538, valid acc: 0.738529\n",
      "\n"
     ]
    },
    {
     "name": "stderr",
     "output_type": "stream",
     "text": [
      "train minibatch loop: 100%|██████████| 16751/16751 [01:28<00:00, 190.34it/s, accuracy=0.667, cost=0.363]\n",
      "test minibatch loop: 100%|██████████| 4188/4188 [00:19<00:00, 211.20it/s, accuracy=0.706, cost=0.67] \n",
      "train minibatch loop:   0%|          | 20/16751 [00:00<01:28, 189.82it/s, accuracy=0.656, cost=0.605]"
     ]
    },
    {
     "name": "stdout",
     "output_type": "stream",
     "text": [
      "epoch: 475, pass acc: 0.738529, current acc: 0.738596\n",
      "time taken: 107.83423590660095\n",
      "epoch: 475, training loss: 0.529880, training acc: 0.738580, valid loss: 0.531483, valid acc: 0.738596\n",
      "\n"
     ]
    },
    {
     "name": "stderr",
     "output_type": "stream",
     "text": [
      "train minibatch loop: 100%|██████████| 16751/16751 [01:27<00:00, 190.44it/s, accuracy=0.667, cost=0.363]\n",
      "test minibatch loop: 100%|██████████| 4188/4188 [00:19<00:00, 211.05it/s, accuracy=0.706, cost=0.67] \n",
      "train minibatch loop:   0%|          | 19/16751 [00:00<01:28, 188.82it/s, accuracy=0.781, cost=0.531]"
     ]
    },
    {
     "name": "stdout",
     "output_type": "stream",
     "text": [
      "epoch: 476, pass acc: 0.738596, current acc: 0.738671\n",
      "time taken: 107.8056800365448\n",
      "epoch: 476, training loss: 0.529824, training acc: 0.738670, valid loss: 0.531428, valid acc: 0.738671\n",
      "\n"
     ]
    },
    {
     "name": "stderr",
     "output_type": "stream",
     "text": [
      "train minibatch loop: 100%|██████████| 16751/16751 [01:27<00:00, 190.43it/s, accuracy=0.667, cost=0.363]\n",
      "test minibatch loop: 100%|██████████| 4188/4188 [00:19<00:00, 210.58it/s, accuracy=0.706, cost=0.67] \n",
      "train minibatch loop:   0%|          | 20/16751 [00:00<01:28, 190.05it/s, accuracy=0.656, cost=0.605]"
     ]
    },
    {
     "name": "stdout",
     "output_type": "stream",
     "text": [
      "epoch: 477, pass acc: 0.738671, current acc: 0.738700\n",
      "time taken: 107.85232019424438\n",
      "epoch: 477, training loss: 0.529768, training acc: 0.738702, valid loss: 0.531374, valid acc: 0.738700\n",
      "\n"
     ]
    },
    {
     "name": "stderr",
     "output_type": "stream",
     "text": [
      "train minibatch loop: 100%|██████████| 16751/16751 [01:28<00:00, 190.33it/s, accuracy=0.667, cost=0.363]\n",
      "test minibatch loop: 100%|██████████| 4188/4188 [00:19<00:00, 210.30it/s, accuracy=0.706, cost=0.67] \n",
      "train minibatch loop:   0%|          | 20/16751 [00:00<01:27, 192.10it/s, accuracy=0.656, cost=0.605]"
     ]
    },
    {
     "name": "stdout",
     "output_type": "stream",
     "text": [
      "epoch: 478, pass acc: 0.738700, current acc: 0.738768\n",
      "time taken: 107.92780923843384\n",
      "epoch: 478, training loss: 0.529713, training acc: 0.738763, valid loss: 0.531320, valid acc: 0.738768\n",
      "\n"
     ]
    },
    {
     "name": "stderr",
     "output_type": "stream",
     "text": [
      "train minibatch loop: 100%|██████████| 16751/16751 [01:28<00:00, 190.11it/s, accuracy=0.667, cost=0.363]\n",
      "test minibatch loop: 100%|██████████| 4188/4188 [00:19<00:00, 210.04it/s, accuracy=0.706, cost=0.669]\n",
      "train minibatch loop:   0%|          | 20/16751 [00:00<01:26, 192.77it/s, accuracy=0.656, cost=0.605]"
     ]
    },
    {
     "name": "stdout",
     "output_type": "stream",
     "text": [
      "epoch: 479, pass acc: 0.738768, current acc: 0.738782\n",
      "time taken: 107.95703792572021\n",
      "epoch: 479, training loss: 0.529657, training acc: 0.738858, valid loss: 0.531266, valid acc: 0.738782\n",
      "\n"
     ]
    },
    {
     "name": "stderr",
     "output_type": "stream",
     "text": [
      "train minibatch loop: 100%|██████████| 16751/16751 [01:27<00:00, 190.50it/s, accuracy=0.667, cost=0.362]\n",
      "test minibatch loop: 100%|██████████| 4188/4188 [00:19<00:00, 211.12it/s, accuracy=0.706, cost=0.669]\n",
      "train minibatch loop:   0%|          | 20/16751 [00:00<01:27, 191.97it/s, accuracy=0.719, cost=0.541]"
     ]
    },
    {
     "name": "stdout",
     "output_type": "stream",
     "text": [
      "epoch: 480, pass acc: 0.738782, current acc: 0.738805\n",
      "time taken: 107.77232909202576\n",
      "epoch: 480, training loss: 0.529602, training acc: 0.738896, valid loss: 0.531212, valid acc: 0.738805\n",
      "\n"
     ]
    },
    {
     "name": "stderr",
     "output_type": "stream",
     "text": [
      "train minibatch loop: 100%|██████████| 16751/16751 [01:27<00:00, 190.39it/s, accuracy=0.667, cost=0.362]\n",
      "test minibatch loop: 100%|██████████| 4188/4188 [00:19<00:00, 211.13it/s, accuracy=0.706, cost=0.669]\n",
      "train minibatch loop:   0%|          | 20/16751 [00:00<01:28, 189.66it/s, accuracy=0.656, cost=0.605]"
     ]
    },
    {
     "name": "stdout",
     "output_type": "stream",
     "text": [
      "epoch: 481, pass acc: 0.738805, current acc: 0.738820\n",
      "time taken: 107.8233892917633\n",
      "epoch: 481, training loss: 0.529547, training acc: 0.738946, valid loss: 0.531158, valid acc: 0.738820\n",
      "\n"
     ]
    },
    {
     "name": "stderr",
     "output_type": "stream",
     "text": [
      "train minibatch loop: 100%|██████████| 16751/16751 [01:27<00:00, 190.37it/s, accuracy=0.667, cost=0.362]\n",
      "test minibatch loop: 100%|██████████| 4188/4188 [00:19<00:00, 210.76it/s, accuracy=0.706, cost=0.669]\n",
      "train minibatch loop:   0%|          | 20/16751 [00:00<01:27, 190.30it/s, accuracy=0.656, cost=0.605]"
     ]
    },
    {
     "name": "stdout",
     "output_type": "stream",
     "text": [
      "epoch: 482, pass acc: 0.738820, current acc: 0.738872\n",
      "time taken: 107.86444902420044\n",
      "epoch: 482, training loss: 0.529492, training acc: 0.738969, valid loss: 0.531104, valid acc: 0.738872\n",
      "\n"
     ]
    },
    {
     "name": "stderr",
     "output_type": "stream",
     "text": [
      "train minibatch loop: 100%|██████████| 16751/16751 [01:27<00:00, 190.53it/s, accuracy=0.667, cost=0.362]\n",
      "test minibatch loop: 100%|██████████| 4188/4188 [00:19<00:00, 210.66it/s, accuracy=0.706, cost=0.669]\n",
      "train minibatch loop:   0%|          | 20/16751 [00:00<01:25, 194.67it/s, accuracy=0.719, cost=0.541]"
     ]
    },
    {
     "name": "stdout",
     "output_type": "stream",
     "text": [
      "time taken: 107.79980874061584\n",
      "epoch: 483, training loss: 0.529437, training acc: 0.739013, valid loss: 0.531051, valid acc: 0.738857\n",
      "\n"
     ]
    },
    {
     "name": "stderr",
     "output_type": "stream",
     "text": [
      "train minibatch loop: 100%|██████████| 16751/16751 [01:27<00:00, 190.51it/s, accuracy=0.667, cost=0.362]\n",
      "test minibatch loop: 100%|██████████| 4188/4188 [00:19<00:00, 211.16it/s, accuracy=0.706, cost=0.669]\n",
      "train minibatch loop:   0%|          | 20/16751 [00:00<01:27, 190.64it/s, accuracy=0.656, cost=0.605]"
     ]
    },
    {
     "name": "stdout",
     "output_type": "stream",
     "text": [
      "epoch: 484, pass acc: 0.738872, current acc: 0.738879\n",
      "time taken: 107.7598979473114\n",
      "epoch: 484, training loss: 0.529382, training acc: 0.739051, valid loss: 0.530997, valid acc: 0.738879\n",
      "\n"
     ]
    },
    {
     "name": "stderr",
     "output_type": "stream",
     "text": [
      "train minibatch loop: 100%|██████████| 16751/16751 [01:27<00:00, 190.44it/s, accuracy=0.667, cost=0.362]\n",
      "test minibatch loop: 100%|██████████| 4188/4188 [00:19<00:00, 210.82it/s, accuracy=0.706, cost=0.668]\n",
      "train minibatch loop:   0%|          | 20/16751 [00:00<01:27, 191.48it/s, accuracy=0.656, cost=0.605]"
     ]
    },
    {
     "name": "stdout",
     "output_type": "stream",
     "text": [
      "epoch: 485, pass acc: 0.738879, current acc: 0.738976\n",
      "time taken: 107.82730102539062\n",
      "epoch: 485, training loss: 0.529327, training acc: 0.739099, valid loss: 0.530944, valid acc: 0.738976\n",
      "\n"
     ]
    },
    {
     "name": "stderr",
     "output_type": "stream",
     "text": [
      "train minibatch loop: 100%|██████████| 16751/16751 [01:27<00:00, 190.48it/s, accuracy=0.667, cost=0.362]\n",
      "test minibatch loop: 100%|██████████| 4188/4188 [00:19<00:00, 211.38it/s, accuracy=0.706, cost=0.668]\n",
      "train minibatch loop:   0%|          | 20/16751 [00:00<01:27, 190.36it/s, accuracy=0.656, cost=0.605]"
     ]
    },
    {
     "name": "stdout",
     "output_type": "stream",
     "text": [
      "epoch: 486, pass acc: 0.738976, current acc: 0.739021\n",
      "time taken: 107.75405263900757\n",
      "epoch: 486, training loss: 0.529273, training acc: 0.739120, valid loss: 0.530891, valid acc: 0.739021\n",
      "\n"
     ]
    },
    {
     "name": "stderr",
     "output_type": "stream",
     "text": [
      "train minibatch loop: 100%|██████████| 16751/16751 [01:27<00:00, 190.59it/s, accuracy=0.667, cost=0.362]\n",
      "test minibatch loop: 100%|██████████| 4188/4188 [00:19<00:00, 210.37it/s, accuracy=0.706, cost=0.668]\n",
      "train minibatch loop:   0%|          | 20/16751 [00:00<01:27, 192.22it/s, accuracy=0.656, cost=0.605]"
     ]
    },
    {
     "name": "stdout",
     "output_type": "stream",
     "text": [
      "epoch: 487, pass acc: 0.739021, current acc: 0.739103\n",
      "time taken: 107.80053806304932\n",
      "epoch: 487, training loss: 0.529219, training acc: 0.739135, valid loss: 0.530838, valid acc: 0.739103\n",
      "\n"
     ]
    },
    {
     "name": "stderr",
     "output_type": "stream",
     "text": [
      "train minibatch loop: 100%|██████████| 16751/16751 [01:28<00:00, 190.27it/s, accuracy=0.667, cost=0.362]\n",
      "test minibatch loop: 100%|██████████| 4188/4188 [00:19<00:00, 210.77it/s, accuracy=0.706, cost=0.668]\n",
      "train minibatch loop:   0%|          | 20/16751 [00:00<01:26, 193.18it/s, accuracy=0.656, cost=0.605]"
     ]
    },
    {
     "name": "stdout",
     "output_type": "stream",
     "text": [
      "epoch: 488, pass acc: 0.739103, current acc: 0.739156\n",
      "time taken: 107.90867805480957\n",
      "epoch: 488, training loss: 0.529165, training acc: 0.739159, valid loss: 0.530785, valid acc: 0.739156\n",
      "\n"
     ]
    },
    {
     "name": "stderr",
     "output_type": "stream",
     "text": [
      "train minibatch loop: 100%|██████████| 16751/16751 [01:27<00:00, 190.47it/s, accuracy=0.667, cost=0.362]\n",
      "test minibatch loop: 100%|██████████| 4188/4188 [00:19<00:00, 210.72it/s, accuracy=0.706, cost=0.668]\n",
      "train minibatch loop:   0%|          | 20/16751 [00:00<01:27, 191.92it/s, accuracy=0.656, cost=0.605]"
     ]
    },
    {
     "name": "stdout",
     "output_type": "stream",
     "text": [
      "epoch: 489, pass acc: 0.739156, current acc: 0.739171\n",
      "time taken: 107.82035303115845\n",
      "epoch: 489, training loss: 0.529111, training acc: 0.739200, valid loss: 0.530732, valid acc: 0.739171\n",
      "\n"
     ]
    },
    {
     "name": "stderr",
     "output_type": "stream",
     "text": [
      "train minibatch loop: 100%|██████████| 16751/16751 [01:28<00:00, 190.32it/s, accuracy=0.667, cost=0.361]\n",
      "test minibatch loop: 100%|██████████| 4188/4188 [00:19<00:00, 210.89it/s, accuracy=0.706, cost=0.668]\n",
      "train minibatch loop:   0%|          | 20/16751 [00:00<01:27, 192.05it/s, accuracy=0.656, cost=0.605]"
     ]
    },
    {
     "name": "stdout",
     "output_type": "stream",
     "text": [
      "time taken: 107.87554788589478\n",
      "epoch: 490, training loss: 0.529057, training acc: 0.739200, valid loss: 0.530680, valid acc: 0.739148\n",
      "\n"
     ]
    },
    {
     "name": "stderr",
     "output_type": "stream",
     "text": [
      "train minibatch loop: 100%|██████████| 16751/16751 [01:27<00:00, 190.39it/s, accuracy=0.667, cost=0.361]\n",
      "test minibatch loop: 100%|██████████| 4188/4188 [00:19<00:00, 211.16it/s, accuracy=0.706, cost=0.667]\n",
      "train minibatch loop:   0%|          | 20/16751 [00:00<01:27, 191.79it/s, accuracy=0.656, cost=0.605]"
     ]
    },
    {
     "name": "stdout",
     "output_type": "stream",
     "text": [
      "time taken: 107.81713533401489\n",
      "epoch: 491, training loss: 0.529003, training acc: 0.739243, valid loss: 0.530627, valid acc: 0.739156\n",
      "\n"
     ]
    },
    {
     "name": "stderr",
     "output_type": "stream",
     "text": [
      "train minibatch loop: 100%|██████████| 16751/16751 [01:27<00:00, 190.39it/s, accuracy=0.667, cost=0.361]\n",
      "test minibatch loop: 100%|██████████| 4188/4188 [00:19<00:00, 210.78it/s, accuracy=0.706, cost=0.667]"
     ]
    },
    {
     "name": "stdout",
     "output_type": "stream",
     "text": [
      "time taken: 107.8524854183197\n",
      "epoch: 492, training loss: 0.528949, training acc: 0.739256, valid loss: 0.530575, valid acc: 0.739156\n",
      "\n",
      "break epoch:493\n",
      "\n"
     ]
    },
    {
     "name": "stderr",
     "output_type": "stream",
     "text": [
      "\n"
     ]
    }
   ],
   "source": [
    "from tqdm import tqdm\n",
    "import time\n",
    "\n",
    "batch_size = 32\n",
    "EARLY_STOPPING, CURRENT_CHECKPOINT, CURRENT_ACC, EPOCH = 3, 0, 0, 0\n",
    "\n",
    "while True:\n",
    "    lasttime = time.time()\n",
    "    if CURRENT_CHECKPOINT == EARLY_STOPPING:\n",
    "        print('break epoch:%d\\n' % (EPOCH))\n",
    "        break\n",
    "\n",
    "    train_acc, train_loss, test_acc, test_loss = 0, 0, 0, 0\n",
    "    pbar = tqdm(\n",
    "        range(0, len(train_X), batch_size), desc = 'train minibatch loop'\n",
    "    )\n",
    "    for i in pbar:\n",
    "        batch_x = bow_chars.transform(train_X[i : min(i + batch_size, len(train_X))])\n",
    "        batch_x = convert_sparse_matrix_to_sparse_tensor(batch_x)\n",
    "        batch_y = train_Y[i : min(i + batch_size, len(train_X))]\n",
    "        batch_x_expand = np.expand_dims(batch_x,axis = 1)\n",
    "        acc, cost, _, logits = sess.run(\n",
    "            [model.accuracy, model.cost, model.optimizer, model.logits],\n",
    "            feed_dict = {\n",
    "                model.Y: batch_y,\n",
    "                model.X: batch_x[0],\n",
    "                model.W: batch_x[1],\n",
    "            },\n",
    "        )\n",
    "        assert not np.isnan(cost)\n",
    "        train_loss += cost\n",
    "        train_acc += acc\n",
    "        pbar.set_postfix(cost = cost, accuracy = acc)\n",
    "\n",
    "    pbar = tqdm(range(0, len(test_X), batch_size), desc = 'test minibatch loop')\n",
    "    for i in pbar:\n",
    "        batch_x = bow_chars.transform(test_X[i : min(i + batch_size, len(test_X))])\n",
    "        batch_x = convert_sparse_matrix_to_sparse_tensor(batch_x)\n",
    "        batch_y = test_Y[i : min(i + batch_size, len(test_X))]\n",
    "        batch_x_expand = np.expand_dims(batch_x,axis = 1)\n",
    "        acc, cost = sess.run(\n",
    "            [model.accuracy, model.cost],\n",
    "            feed_dict = {\n",
    "                model.Y: batch_y,\n",
    "                model.X: batch_x[0],\n",
    "                model.W: batch_x[1],\n",
    "            },\n",
    "        )\n",
    "        test_loss += cost\n",
    "        test_acc += acc\n",
    "        pbar.set_postfix(cost = cost, accuracy = acc)\n",
    "\n",
    "    train_loss /= len(train_X) / batch_size\n",
    "    train_acc /= len(train_X) / batch_size\n",
    "    test_loss /= len(test_X) / batch_size\n",
    "    test_acc /= len(test_X) / batch_size\n",
    "\n",
    "    if test_acc > CURRENT_ACC:\n",
    "        print(\n",
    "            'epoch: %d, pass acc: %f, current acc: %f'\n",
    "            % (EPOCH, CURRENT_ACC, test_acc)\n",
    "        )\n",
    "        CURRENT_ACC = test_acc\n",
    "        CURRENT_CHECKPOINT = 0\n",
    "    else:\n",
    "        CURRENT_CHECKPOINT += 1\n",
    "        \n",
    "    print('time taken:', time.time() - lasttime)\n",
    "    print(\n",
    "        'epoch: %d, training loss: %f, training acc: %f, valid loss: %f, valid acc: %f\\n'\n",
    "        % (EPOCH, train_loss, train_acc, test_loss, test_acc)\n",
    "    )\n",
    "    EPOCH += 1"
   ]
  },
  {
   "cell_type": "code",
   "execution_count": 18,
   "metadata": {},
   "outputs": [
    {
     "name": "stderr",
     "output_type": "stream",
     "text": [
      "validation minibatch loop: 100%|██████████| 4188/4188 [00:14<00:00, 289.71it/s]\n"
     ]
    }
   ],
   "source": [
    "real_Y, predict_Y = [], []\n",
    "\n",
    "pbar = tqdm(\n",
    "    range(0, len(test_X), batch_size), desc = 'validation minibatch loop'\n",
    ")\n",
    "for i in pbar:\n",
    "    batch_x = bow_chars.transform(test_X[i : min(i + batch_size, len(test_X))])\n",
    "    batch_x = convert_sparse_matrix_to_sparse_tensor(batch_x)\n",
    "    batch_y = test_Y[i : min(i + batch_size, len(test_X))]\n",
    "    predict_Y += np.argmax(\n",
    "        sess.run(\n",
    "            model.logits, feed_dict = {model.X: batch_x[0], model.W: batch_x[1], model.Y: batch_y}\n",
    "        ),\n",
    "        1,\n",
    "    ).tolist()\n",
    "    real_Y += batch_y"
   ]
  },
  {
   "cell_type": "code",
   "execution_count": 19,
   "metadata": {},
   "outputs": [
    {
     "name": "stdout",
     "output_type": "stream",
     "text": [
      "             precision    recall  f1-score   support\n",
      "\n",
      "   negative       0.75      0.76      0.75     70301\n",
      "   positive       0.73      0.71      0.72     63700\n",
      "\n",
      "avg / total       0.74      0.74      0.74    134001\n",
      "\n"
     ]
    }
   ],
   "source": [
    "print(\n",
    "    metrics.classification_report(\n",
    "        real_Y, predict_Y, target_names = ['negative','positive']\n",
    "    )\n",
    ")"
   ]
  },
  {
   "cell_type": "code",
   "execution_count": 24,
   "metadata": {},
   "outputs": [
    {
     "data": {
      "text/plain": [
       "array([[0.7648756 , 0.23512435]], dtype=float32)"
      ]
     },
     "execution_count": 24,
     "metadata": {},
     "output_type": "execute_result"
    }
   ],
   "source": [
    "text = classification_textcleaning('kerajaan sebenarnya sangat sayangkan rakyatnya dan benci')\n",
    "transformed = bow_chars.transform([text])\n",
    "batch_x = convert_sparse_matrix_to_sparse_tensor(transformed)\n",
    "sess.run(tf.nn.softmax(model.logits), feed_dict = {model.X: batch_x[0], model.W: batch_x[1]})"
   ]
  },
  {
   "cell_type": "code",
   "execution_count": 21,
   "metadata": {},
   "outputs": [
    {
     "data": {
      "text/plain": [
       "'fast-text-char/model.ckpt'"
      ]
     },
     "execution_count": 21,
     "metadata": {},
     "output_type": "execute_result"
    }
   ],
   "source": [
    "saver.save(sess, 'fast-text-char/model.ckpt')"
   ]
  },
  {
   "cell_type": "code",
   "execution_count": 22,
   "metadata": {},
   "outputs": [],
   "source": [
    "import pickle\n",
    "with open('vectorizer-sparse-sentiment.pkl','wb') as fopen:\n",
    "    pickle.dump(bow_chars, fopen)"
   ]
  },
  {
   "cell_type": "code",
   "execution_count": null,
   "metadata": {},
   "outputs": [],
   "source": []
  }
 ],
 "metadata": {
  "kernelspec": {
   "display_name": "Python 3",
   "language": "python",
   "name": "python3"
  },
  "language_info": {
   "codemirror_mode": {
    "name": "ipython",
    "version": 3
   },
   "file_extension": ".py",
   "mimetype": "text/x-python",
   "name": "python",
   "nbconvert_exporter": "python",
   "pygments_lexer": "ipython3",
   "version": "3.6.8"
  }
 },
 "nbformat": 4,
 "nbformat_minor": 2
}
