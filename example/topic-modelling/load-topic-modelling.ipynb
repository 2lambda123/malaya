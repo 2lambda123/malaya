{
 "cells": [
  {
   "cell_type": "code",
   "execution_count": 1,
   "metadata": {},
   "outputs": [],
   "source": [
    "import pandas as pd\n",
    "import malaya"
   ]
  },
  {
   "cell_type": "code",
   "execution_count": 2,
   "metadata": {},
   "outputs": [],
   "source": [
    "df = pd.read_csv('tests/02032018.csv',sep=';')\n",
    "df = df.iloc[3:,1:]\n",
    "df.columns = ['text','label']\n",
    "corpus = df.text.tolist()"
   ]
  },
  {
   "cell_type": "markdown",
   "metadata": {},
   "source": [
    "## Train LDA model"
   ]
  },
  {
   "cell_type": "code",
   "execution_count": 3,
   "metadata": {},
   "outputs": [],
   "source": [
    "lda = malaya.lda_topic_modelling(corpus,10,stemming=False)\n"
   ]
  },
  {
   "cell_type": "markdown",
   "metadata": {},
   "source": [
    "#### Print topics"
   ]
  },
  {
   "cell_type": "code",
   "execution_count": 4,
   "metadata": {},
   "outputs": [
    {
     "name": "stdout",
     "output_type": "stream",
     "text": [
      "topic 0       topic 1       topic 2       topic 3       topic 4       \n",
      "--------      --------      --------      --------      --------      \n",
      "masalah       parti         ia            perlu         kerajaan      \n",
      "selesaikan    semua         hutang        pilihan       projek        \n",
      "termasuk      sewa          mdb           raya          sebagai       \n",
      "perniagaan    tanah         projek        masing        bahasa        \n",
      "mempunyai     hati          ada           faktor        syarikat      \n",
      "pencemaran    kelulusan     lebih         umum          menjadi       \n",
      "rakyat        masa          masa          masa          jadi          \n",
      "sebagai       nak           diselesaikan  membuat       dilakukan     \n",
      "jppm          rumah         tahun         parti         swasta        \n",
      "kerja         terus         kewangan      diri          indonesia     \n",
      "\n",
      "\n"
     ]
    }
   ],
   "source": [
    "lda.print_topics(5)"
   ]
  },
  {
   "cell_type": "markdown",
   "metadata": {},
   "source": [
    "#### Important sentences based on topics"
   ]
  },
  {
   "cell_type": "code",
   "execution_count": 5,
   "metadata": {},
   "outputs": [
    {
     "data": {
      "text/plain": [
       "['kerja kerja naik taraf mengatasi masalah banjir masalah pencemaran air sungai benut menjadi nadi utama bekalan air bersih giat dilaksanakan',\n",
       " 'sumbangan segmen penting menyumbang seperlima hasil selain pendapatan sampingan lain iaitu makanan penerbangan perkhidmatan daftar masuk lapangan terbang perniagaan logistik',\n",
       " 'mempunyai perniagaan lain termasuk perniagaan digital santan santan menerima minat seluruh asia beberapa pihak menghubungi aktiviti francais sebagai restoran makanan segera asia',\n",
       " 'berharap kerjasama diteruskan seterusnya menjadikan kementerian sebagai kementerian membantu rakyat',\n",
       " 'soal demokrasi semua berhak bertanding penting amanah rakyat dijalankan']"
      ]
     },
     "execution_count": 5,
     "metadata": {},
     "output_type": "execute_result"
    }
   ],
   "source": [
    "lda.get_sentences(5)"
   ]
  },
  {
   "cell_type": "markdown",
   "metadata": {},
   "source": [
    "#### Get topics"
   ]
  },
  {
   "cell_type": "code",
   "execution_count": 6,
   "metadata": {},
   "outputs": [
    {
     "data": {
      "text/plain": [
       "[(0,\n",
       "  'masalah selesaikan termasuk perniagaan mempunyai pencemaran rakyat sebagai jppm kerja'),\n",
       " (1, 'parti semua sewa tanah hati kelulusan masa nak rumah terus'),\n",
       " (2, 'ia hutang mdb projek ada lebih masa diselesaikan tahun kewangan'),\n",
       " (3, 'perlu pilihan raya masing faktor umum masa membuat parti diri'),\n",
       " (4,\n",
       "  'kerajaan projek sebagai bahasa syarikat menjadi jadi dilakukan swasta indonesia'),\n",
       " (5,\n",
       "  'orang asli pekan menjadi takut bertanggungjawab perdana menteri semua tahu'),\n",
       " (6,\n",
       "  'awam kerajaan memastikan malaysia seri datuk menteri pimpinan ahli perdana'),\n",
       " (7, 'ada soal bulan ahli baiah pernah status tn undi buat'),\n",
       " (8, 'malaysia orang asli negara rakyat lain perniagaan awam kerajaan sama'),\n",
       " (9,\n",
       "  'negara bahasa rakyat besar kalau tindakan orang mengambil malaysia bank')]"
      ]
     },
     "execution_count": 6,
     "metadata": {},
     "output_type": "execute_result"
    }
   ],
   "source": [
    "lda.get_topics(10)"
   ]
  },
  {
   "cell_type": "markdown",
   "metadata": {},
   "source": [
    "## Train NMF model"
   ]
  },
  {
   "cell_type": "code",
   "execution_count": 7,
   "metadata": {},
   "outputs": [
    {
     "name": "stdout",
     "output_type": "stream",
     "text": [
      "topic 0       topic 1       topic 2       topic 3       topic 4       \n",
      "--------      --------      --------      --------      --------      \n",
      "negara        ada           ia            ros           menteri       \n",
      "malaysia      kalau         jalan         tangguh       perdana       \n",
      "bangun        raja          lihat         pilih         jelas         \n",
      "rakyat        pas           lancar        parti         datuk         \n",
      "kongsi        parti         kembang       umno          seri          \n",
      "alam          sama          jual          lembaga       terima        \n",
      "penting       buat          gembira       dah           kena          \n",
      "sedia         baiah         projek        putus         isu           \n",
      "selatan       politik       baik          lebih         jemaah        \n",
      "lebih         bn            beli          tempoh        nyata         \n",
      "\n",
      "\n"
     ]
    }
   ],
   "source": [
    "nmf = malaya.nmf_topic_modelling(corpus,10)\n",
    "nmf.print_topics(5)"
   ]
  },
  {
   "cell_type": "code",
   "execution_count": 8,
   "metadata": {},
   "outputs": [
    {
     "data": {
      "text/plain": [
       "['sedia kongsi alam tahu bangun ekonomi sosial negara bangun lain rangka program kerjasama teknikal malaysia mtcp tunjuk sedia malaysia kongsi alam bangun negara negara selatan selatan',\n",
       " 'sedia kongsi alam tahu bangun ekonomi sosial negara bangun lain rangka program kerjasama teknikal malaysia mtcp tunjuk sedia malaysia kongsi alam bangun negara negara selatan selatan',\n",
       " 'bagai negara lebih bangun malaysia main peran penting kongsi alam mahir bangun kawasan bandar',\n",
       " 'bagai negara lebih bangun malaysia main peran penting kongsi alam mahir bangun kawasan bandar',\n",
       " 'semua rakyat malaysia punya penting langsung negara']"
      ]
     },
     "execution_count": 8,
     "metadata": {},
     "output_type": "execute_result"
    }
   ],
   "source": [
    "nmf.get_sentences(5)"
   ]
  },
  {
   "cell_type": "code",
   "execution_count": 9,
   "metadata": {},
   "outputs": [
    {
     "data": {
      "text/plain": [
       "[(0, 'negara malaysia bangun rakyat kongsi alam penting sedia selatan lebih'),\n",
       " (1, 'ada kalau raja pas parti sama buat baiah politik bn'),\n",
       " (2, 'ia jalan lihat lancar kembang jual gembira projek baik beli'),\n",
       " (3, 'ros tangguh pilih parti umno lembaga dah putus lebih tempoh'),\n",
       " (4, 'menteri perdana jelas datuk seri terima kena isu jemaah nyata'),\n",
       " (5, 'orang asli jadi masyarakat percaya dasar jakoa rana sumber temiar'),\n",
       " (6, 'hutang mdb selesai perlu masa wang wujud ia tempoh pendek'),\n",
       " (7, 'ajar masa laku maju bidang didik tingkat terus proses raja'),\n",
       " (8, 'kapal jho low rampas doj niaga dah dakwa keluar sivil'),\n",
       " (9, 'undi bulan pakat impak bagai wujud keluar tuju pihak catat')]"
      ]
     },
     "execution_count": 9,
     "metadata": {},
     "output_type": "execute_result"
    }
   ],
   "source": [
    "nmf.get_topics(10)"
   ]
  },
  {
   "cell_type": "markdown",
   "metadata": {},
   "source": [
    "## Train LSA model"
   ]
  },
  {
   "cell_type": "code",
   "execution_count": 10,
   "metadata": {},
   "outputs": [
    {
     "name": "stdout",
     "output_type": "stream",
     "text": [
      "topic 0       topic 1       topic 2       topic 3       topic 4       \n",
      "--------      --------      --------      --------      --------      \n",
      "ada           negara        ia            pilih         menteri       \n",
      "ia            malaysia      hutang        tangguh       jelas         \n",
      "malaysia      bangun        mdb           ros           perdana       \n",
      "baik          rakyat        projek        masa          rakyat        \n",
      "negara        kongsi        masa          lebih         terima        \n",
      "rakyat        alam          lihat         umno          datuk         \n",
      "jadi          penting       wang          raya          kena          \n",
      "raja          selatan       perlu         hutang        nyata         \n",
      "masa          kawasan       selesai       parti         seri          \n",
      "menteri       perlu         jual          lembaga       selesai       \n",
      "\n",
      "\n"
     ]
    }
   ],
   "source": [
    "lsa = malaya.lsa_topic_modelling(corpus,10)\n",
    "lsa.print_topics(5)"
   ]
  },
  {
   "cell_type": "code",
   "execution_count": 11,
   "metadata": {},
   "outputs": [
    {
     "data": {
      "text/plain": [
       "['perdana menteri beri jelas isu kena nyata pihak raja terima baik jelas',\n",
       " 'nak tutup hutang ada projek lain jadi ia makan masa',\n",
       " 'jual syarikat paja pagi wang terima tingkat ringgit jadi ia cermin lebih baik kuat daya tahan ekonomi malaysia',\n",
       " 'ia lihat dasar sambut orang ramai hadap ancang bangun kawasan tempat ia jelas tunjuk laksana terima',\n",
       " 'semua rakyat malaysia punya penting langsung negara']"
      ]
     },
     "execution_count": 11,
     "metadata": {},
     "output_type": "execute_result"
    }
   ],
   "source": [
    "lsa.get_sentences(5)"
   ]
  },
  {
   "cell_type": "code",
   "execution_count": 12,
   "metadata": {},
   "outputs": [
    {
     "data": {
      "text/plain": [
       "[(0, 'ada ia malaysia baik negara rakyat jadi raja masa menteri'),\n",
       " (1,\n",
       "  'negara malaysia bangun rakyat kongsi alam penting selatan kawasan perlu'),\n",
       " (2, 'ia hutang mdb projek masa lihat wang perlu selesai jual'),\n",
       " (3, 'pilih tangguh ros masa lebih umno raya hutang parti lembaga'),\n",
       " (4, 'menteri jelas perdana rakyat terima datuk kena nyata seri selesai'),\n",
       " (5, 'orang asli jadi dasar jalan ia baik undi ros lancar'),\n",
       " (6, 'perlu rakyat masa orang jadi selesai laku dasar masalah wujud'),\n",
       " (7, 'undi ajar laku masa terus maju bidang bulan didik bagai'),\n",
       " (8, 'perlu orang tumbuh undi asli rana nyata dakwa keluar sumber'),\n",
       " (9, 'undi ambil pihak baik putus semua buat jalan bulan cara')]"
      ]
     },
     "execution_count": 12,
     "metadata": {},
     "output_type": "execute_result"
    }
   ],
   "source": [
    "lsa.get_topics(10)"
   ]
  },
  {
   "cell_type": "code",
   "execution_count": null,
   "metadata": {},
   "outputs": [],
   "source": []
  }
 ],
 "metadata": {
  "kernelspec": {
   "display_name": "Python 3",
   "language": "python",
   "name": "python3"
  },
  "language_info": {
   "codemirror_mode": {
    "name": "ipython",
    "version": 3
   },
   "file_extension": ".py",
   "mimetype": "text/x-python",
   "name": "python",
   "nbconvert_exporter": "python",
   "pygments_lexer": "ipython3",
   "version": "3.6.5"
  }
 },
 "nbformat": 4,
 "nbformat_minor": 2
}
