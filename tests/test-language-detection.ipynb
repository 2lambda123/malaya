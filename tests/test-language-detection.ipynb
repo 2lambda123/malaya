{
 "cells": [
  {
   "cell_type": "code",
   "execution_count": 1,
   "id": "piano-input",
   "metadata": {},
   "outputs": [],
   "source": [
    "import sys\n",
    "import os\n",
    "\n",
    "SOURCE_DIR = os.path.dirname(os.path.dirname(os.path.abspath(__name__)))\n",
    "sys.path.insert(0, SOURCE_DIR)"
   ]
  },
  {
   "cell_type": "code",
   "execution_count": 2,
   "id": "terminal-authentication",
   "metadata": {},
   "outputs": [],
   "source": [
    "import malaya\n",
    "import logging\n",
    "\n",
    "logging.basicConfig(level=logging.DEBUG)"
   ]
  },
  {
   "cell_type": "code",
   "execution_count": 3,
   "id": "celtic-company",
   "metadata": {},
   "outputs": [
    {
     "data": {
      "text/plain": [
       "'/Users/huseinzolkepli/Malaya'"
      ]
     },
     "execution_count": 3,
     "metadata": {},
     "output_type": "execute_result"
    }
   ],
   "source": [
    "malaya.__home__"
   ]
  },
  {
   "cell_type": "code",
   "execution_count": 4,
   "id": "rural-format",
   "metadata": {},
   "outputs": [],
   "source": [
    "chinese_text = '今天是６月１８号，也是Muiriel的生日！'\n",
    "english_text = 'i totally love it man'\n",
    "indon_text = 'menjabat saleh perombakan menjabat periode komisi energi fraksi partai pengurus partai periode periode partai terpilih periode menjabat komisi perdagangan investasi persatuan periode'\n",
    "malay_text = 'beliau berkata program Inisitif Peduli Rakyat (IPR) yang diperkenalkan oleh kerajaan negeri Selangor lebih besar sumbangannya'\n",
    "socialmedia_malay_text = 'nti aku tengok dulu tiket dari kl pukul berapa ada nahh'\n",
    "socialmedia_indon_text = 'saking kangen papanya pas vc anakku nangis'\n",
    "rojak_text = 'jadi aku tadi bikin ini gengs dan dijual haha salad only k dan haha drinks only k'\n",
    "manglish_text = 'power lah even shopback come to edmw riao'"
   ]
  },
  {
   "cell_type": "code",
   "execution_count": 5,
   "id": "wrapped-white",
   "metadata": {},
   "outputs": [
    {
     "name": "stderr",
     "output_type": "stream",
     "text": [
      "DEBUG:urllib3.connectionpool:Starting new HTTPS connection (1): f000.backblazeb2.com:443\n"
     ]
    },
    {
     "name": "stdout",
     "output_type": "stream",
     "text": [
      "downloading frozen model to /Users/huseinzolkepli/Malaya/language-detection/fasttext-original/fasstext.bin\n"
     ]
    },
    {
     "name": "stderr",
     "output_type": "stream",
     "text": [
      "DEBUG:urllib3.connectionpool:https://f000.backblazeb2.com:443 \"GET /file/malaya-model/v34/language-detection/fasttext-malaya.bin HTTP/1.1\" 200 352980877\n",
      "100%|██████████| 337/337 [00:47<00:00, 7.11MB/s] \n",
      "Warning : `load_model` does not return WordVectorModel or SupervisedModel any more, but a `FastText` object which is very similar.\n"
     ]
    },
    {
     "data": {
      "text/plain": [
       "[{'eng': 0.0,\n",
       "  'ind': 0.0,\n",
       "  'malay': 0.9744784,\n",
       "  'manglish': 0.0,\n",
       "  'other': 0.0,\n",
       "  'rojak': 0.0}]"
      ]
     },
     "execution_count": 5,
     "metadata": {},
     "output_type": "execute_result"
    }
   ],
   "source": [
    "fast_text = malaya.language_detection.fasttext(quantized = False)\n",
    "fast_text.predict_proba(['suka makan ayam dan daging'])"
   ]
  },
  {
   "cell_type": "code",
   "execution_count": 6,
   "id": "muslim-information",
   "metadata": {},
   "outputs": [
    {
     "name": "stderr",
     "output_type": "stream",
     "text": [
      "DEBUG:urllib3.connectionpool:Starting new HTTPS connection (1): f000.backblazeb2.com:443\n"
     ]
    },
    {
     "name": "stdout",
     "output_type": "stream",
     "text": [
      "downloading frozen model to /Users/huseinzolkepli/Malaya/language-detection/fasttext-quantized/fasstext.tfz\n"
     ]
    },
    {
     "name": "stderr",
     "output_type": "stream",
     "text": [
      "DEBUG:urllib3.connectionpool:https://f000.backblazeb2.com:443 \"GET /file/malaya-model/v34/language-detection/fasttext-malaya.ftz HTTP/1.1\" 200 31059682\n",
      "101%|██████████| 30.0/29.6 [00:07<00:00, 4.22MB/s]\n",
      "Warning : `load_model` does not return WordVectorModel or SupervisedModel any more, but a `FastText` object which is very similar.\n"
     ]
    },
    {
     "data": {
      "text/plain": [
       "[{'eng': 0.0,\n",
       "  'ind': 0.0,\n",
       "  'malay': 0.8817721,\n",
       "  'manglish': 0.0,\n",
       "  'other': 0.0,\n",
       "  'rojak': 0.0}]"
      ]
     },
     "execution_count": 6,
     "metadata": {},
     "output_type": "execute_result"
    }
   ],
   "source": [
    "fast_text = malaya.language_detection.fasttext()\n",
    "fast_text.predict_proba(['suka makan ayam dan daging'])"
   ]
  },
  {
   "cell_type": "code",
   "execution_count": 5,
   "id": "comprehensive-medline",
   "metadata": {},
   "outputs": [
    {
     "name": "stderr",
     "output_type": "stream",
     "text": [
      "DEBUG:urllib3.connectionpool:Starting new HTTPS connection (1): f000.backblazeb2.com:443\n",
      "DEBUG:urllib3.connectionpool:https://f000.backblazeb2.com:443 \"HEAD /file/malaya-model/language-detection/lang-32/model.pb HTTP/1.1\" 200 0\n",
      "DEBUG:urllib3.connectionpool:Starting new HTTPS connection (1): f000.backblazeb2.com:443\n",
      "DEBUG:urllib3.connectionpool:https://f000.backblazeb2.com:443 \"HEAD /file/malaya-model/bpe/bow-language-detection.pkl HTTP/1.1\" 200 0\n",
      "DEBUG:urllib3.connectionpool:Starting new HTTPS connection (1): f000.backblazeb2.com:443\n",
      "DEBUG:urllib3.connectionpool:https://f000.backblazeb2.com:443 \"HEAD /file/malaya-model/bpe/language-detection.yttm HTTP/1.1\" 200 0\n",
      "DEBUG:urllib3.connectionpool:Starting new HTTPS connection (1): f000.backblazeb2.com:443\n",
      "DEBUG:urllib3.connectionpool:https://f000.backblazeb2.com:443 \"HEAD /file/malaya-model/language-detection/lang-32/version HTTP/1.1\" 404 0\n",
      "INFO:root:running language-detection/lang-32 using device /device:CPU:0\n",
      "DEBUG:urllib3.connectionpool:Starting new HTTPS connection (1): f000.backblazeb2.com:443\n",
      "DEBUG:urllib3.connectionpool:https://f000.backblazeb2.com:443 \"HEAD /file/malaya-model/language-detection/lang-32-quantized/model.pb HTTP/1.1\" 200 0\n",
      "WARNING:root:Load quantized model will cause accuracy drop.\n",
      "DEBUG:urllib3.connectionpool:Starting new HTTPS connection (1): f000.backblazeb2.com:443\n",
      "DEBUG:urllib3.connectionpool:https://f000.backblazeb2.com:443 \"HEAD /file/malaya-model/language-detection/lang-32-quantized/model.pb HTTP/1.1\" 200 0\n",
      "DEBUG:urllib3.connectionpool:Starting new HTTPS connection (1): f000.backblazeb2.com:443\n",
      "DEBUG:urllib3.connectionpool:https://f000.backblazeb2.com:443 \"HEAD /file/malaya-model/bpe/bow-language-detection.pkl HTTP/1.1\" 200 0\n",
      "DEBUG:urllib3.connectionpool:Starting new HTTPS connection (1): f000.backblazeb2.com:443\n",
      "DEBUG:urllib3.connectionpool:https://f000.backblazeb2.com:443 \"HEAD /file/malaya-model/bpe/language-detection.yttm HTTP/1.1\" 200 0\n",
      "DEBUG:urllib3.connectionpool:Starting new HTTPS connection (1): f000.backblazeb2.com:443\n",
      "DEBUG:urllib3.connectionpool:https://f000.backblazeb2.com:443 \"HEAD /file/malaya-model/language-detection/lang-32-quantized/version HTTP/1.1\" 404 0\n",
      "INFO:root:running language-detection/lang-32-quantized using device /device:CPU:0\n"
     ]
    }
   ],
   "source": [
    "deep = malaya.language_detection.deep_model()\n",
    "quantized_deep = malaya.language_detection.deep_model(quantized = True)"
   ]
  },
  {
   "cell_type": "code",
   "execution_count": 6,
   "id": "traditional-television",
   "metadata": {},
   "outputs": [
    {
     "data": {
      "text/plain": [
       "[{'eng': 3.6145184e-06,\n",
       "  'ind': 0.9998913,\n",
       "  'malay': 5.4685424e-05,\n",
       "  'manglish': 5.768742e-09,\n",
       "  'other': 5.8103424e-06,\n",
       "  'rojak': 4.4987162e-05}]"
      ]
     },
     "execution_count": 6,
     "metadata": {},
     "output_type": "execute_result"
    }
   ],
   "source": [
    "deep.predict_proba([indon_text])"
   ]
  },
  {
   "cell_type": "code",
   "execution_count": 7,
   "id": "amino-cutting",
   "metadata": {},
   "outputs": [
    {
     "data": {
      "text/plain": [
       "[{'eng': 3.0587973e-06,\n",
       "  'ind': 0.9998693,\n",
       "  'malay': 6.6353954e-05,\n",
       "  'manglish': 4.466053e-09,\n",
       "  'other': 7.290611e-06,\n",
       "  'rojak': 5.383832e-05}]"
      ]
     },
     "execution_count": 7,
     "metadata": {},
     "output_type": "execute_result"
    }
   ],
   "source": [
    "quantized_deep.predict_proba([indon_text])"
   ]
  },
  {
   "cell_type": "code",
   "execution_count": null,
   "id": "rubber-perry",
   "metadata": {},
   "outputs": [],
   "source": []
  }
 ],
 "metadata": {
  "kernelspec": {
   "display_name": "Python 3",
   "language": "python",
   "name": "python3"
  },
  "language_info": {
   "codemirror_mode": {
    "name": "ipython",
    "version": 3
   },
   "file_extension": ".py",
   "mimetype": "text/x-python",
   "name": "python",
   "nbconvert_exporter": "python",
   "pygments_lexer": "ipython3",
   "version": "3.7.7"
  }
 },
 "nbformat": 4,
 "nbformat_minor": 5
}
