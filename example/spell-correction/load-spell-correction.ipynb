{
 "cells": [
  {
   "cell_type": "code",
   "execution_count": 1,
   "metadata": {},
   "outputs": [
    {
     "name": "stderr",
     "output_type": "stream",
     "text": [
      "Using TensorFlow backend.\n",
      "/usr/local/lib/python3.6/site-packages/sklearn/cross_validation.py:41: DeprecationWarning: This module was deprecated in version 0.18 in favor of the model_selection module into which all the refactored classes and functions are moved. Also note that the interface of the new CV iterators are different from that of this module. This module will be removed in 0.20.\n",
      "  \"This module will be removed in 0.20.\", DeprecationWarning)\n"
     ]
    }
   ],
   "source": [
    "import malaya"
   ]
  },
  {
   "cell_type": "code",
   "execution_count": 2,
   "metadata": {},
   "outputs": [],
   "source": [
    "malays = malaya.load_malay_dictionary()\n",
    "corrector = malaya.naive_speller(malays)"
   ]
  },
  {
   "cell_type": "code",
   "execution_count": 3,
   "metadata": {},
   "outputs": [
    {
     "name": "stdout",
     "output_type": "stream",
     "text": [
      "[('mena', 50), ('makin', 67), ('makan', 67), ('makanan', 73), ('mini', 50), ('min', 57), ('main', 50), ('makna', 67), ('mani', 50), ('mana', 50), ('maun', 50), ('menu', 50)]\n"
     ]
    },
    {
     "data": {
      "text/plain": [
       "'makanan'"
      ]
     },
     "execution_count": 3,
     "metadata": {},
     "output_type": "execute_result"
    }
   ],
   "source": [
    "corrector.correct('mknn')"
   ]
  },
  {
   "cell_type": "code",
   "execution_count": 4,
   "metadata": {},
   "outputs": [
    {
     "name": "stdout",
     "output_type": "stream",
     "text": [
      "[('tumpat', 91), ('tepat', 80), ('tempat', 91)]\n"
     ]
    },
    {
     "data": {
      "text/plain": [
       "'tumpat'"
      ]
     },
     "execution_count": 4,
     "metadata": {},
     "output_type": "execute_result"
    }
   ],
   "source": [
    "corrector.correct('tmpat',debug=True)"
   ]
  },
  {
   "cell_type": "code",
   "execution_count": 5,
   "metadata": {},
   "outputs": [
    {
     "name": "stdout",
     "output_type": "stream",
     "text": [
      "CPU times: user 4 µs, sys: 1e+03 ns, total: 5 µs\n",
      "Wall time: 7.87 µs\n",
      "[('mena', 50), ('makin', 67), ('makan', 67), ('makanan', 73), ('mini', 50), ('min', 57), ('main', 50), ('makna', 67), ('mani', 50), ('mana', 50), ('maun', 50), ('menu', 50)]\n"
     ]
    },
    {
     "data": {
      "text/plain": [
       "'makanan'"
      ]
     },
     "execution_count": 5,
     "metadata": {},
     "output_type": "execute_result"
    }
   ],
   "source": [
    "%time\n",
    "corrector.correct('mknn',first_char=True)"
   ]
  },
  {
   "cell_type": "code",
   "execution_count": 6,
   "metadata": {},
   "outputs": [
    {
     "name": "stdout",
     "output_type": "stream",
     "text": [
      "CPU times: user 4 µs, sys: 1 µs, total: 5 µs\n",
      "Wall time: 8.82 µs\n",
      "[('mena', 50), ('makin', 67), ('makan', 67), ('makanan', 73), ('ikan', 50), ('mini', 50), ('min', 57), ('ikon', 50), ('makna', 67), ('main', 50), ('mani', 50), ('ken', 57), ('mana', 50), ('kan', 57), ('kun', 57), ('kon', 57), ('menu', 50), ('akan', 50), ('maun', 50)]\n"
     ]
    },
    {
     "data": {
      "text/plain": [
       "'makanan'"
      ]
     },
     "execution_count": 6,
     "metadata": {},
     "output_type": "execute_result"
    }
   ],
   "source": [
    "%time\n",
    "corrector.correct('mknn',first_char=False)"
   ]
  },
  {
   "cell_type": "code",
   "execution_count": 8,
   "metadata": {},
   "outputs": [
    {
     "name": "stdout",
     "output_type": "stream",
     "text": [
      "[('tempat', 100)]\n"
     ]
    },
    {
     "data": {
      "text/plain": [
       "'tempat'"
      ]
     },
     "execution_count": 8,
     "metadata": {},
     "output_type": "execute_result"
    }
   ],
   "source": [
    "corrector.correct('tempat')"
   ]
  },
  {
   "cell_type": "code",
   "execution_count": null,
   "metadata": {},
   "outputs": [],
   "source": []
  }
 ],
 "metadata": {
  "kernelspec": {
   "display_name": "Python 3",
   "language": "python",
   "name": "python3"
  },
  "language_info": {
   "codemirror_mode": {
    "name": "ipython",
    "version": 3
   },
   "file_extension": ".py",
   "mimetype": "text/x-python",
   "name": "python",
   "nbconvert_exporter": "python",
   "pygments_lexer": "ipython3",
   "version": "3.6.5"
  }
 },
 "nbformat": 4,
 "nbformat_minor": 2
}
