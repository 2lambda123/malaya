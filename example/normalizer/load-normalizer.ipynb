{
 "cells": [
  {
   "cell_type": "code",
   "execution_count": 1,
   "metadata": {},
   "outputs": [
    {
     "name": "stderr",
     "output_type": "stream",
     "text": [
      "Using TensorFlow backend.\n"
     ]
    }
   ],
   "source": [
    "import malaya"
   ]
  },
  {
   "cell_type": "code",
   "execution_count": 2,
   "metadata": {},
   "outputs": [],
   "source": [
    "string = 'y u xsuka makan HUSEIN kt situ tmpt'\n",
    "another = 'i mmg xska mknn HUSEIN kampng tempt'"
   ]
  },
  {
   "cell_type": "code",
   "execution_count": 3,
   "metadata": {},
   "outputs": [
    {
     "data": {
      "text/plain": [
       "'kenapa awak xsuka makan Husein kt situ tmpt'"
      ]
     },
     "execution_count": 3,
     "metadata": {},
     "output_type": "execute_result"
    }
   ],
   "source": [
    "malaya.basic_normalizer(string)"
   ]
  },
  {
   "cell_type": "code",
   "execution_count": 4,
   "metadata": {},
   "outputs": [
    {
     "name": "stderr",
     "output_type": "stream",
     "text": [
      "\r",
      "  0%|          | 0.00/0.19 [00:00<?, ?MB/s]"
     ]
    },
    {
     "name": "stdout",
     "output_type": "stream",
     "text": [
      "downloading Malay texts\n"
     ]
    },
    {
     "name": "stderr",
     "output_type": "stream",
     "text": [
      "1.00MB [00:00, 10.2MB/s]                   \n"
     ]
    }
   ],
   "source": [
    "malays = malaya.load_malay_dictionary()\n",
    "normalizer = malaya.fuzzy_normalizer(malays)"
   ]
  },
  {
   "cell_type": "code",
   "execution_count": 5,
   "metadata": {},
   "outputs": [
    {
     "data": {
      "text/plain": [
       "'kenapa awak tak suka makan Husein kat situ tempat'"
      ]
     },
     "execution_count": 5,
     "metadata": {},
     "output_type": "execute_result"
    }
   ],
   "source": [
    "normalizer.normalize(string)"
   ]
  },
  {
   "cell_type": "code",
   "execution_count": 6,
   "metadata": {},
   "outputs": [
    {
     "data": {
      "text/plain": [
       "'saya memang tak saka makanan Husein kampung tempat'"
      ]
     },
     "execution_count": 6,
     "metadata": {},
     "output_type": "execute_result"
    }
   ],
   "source": [
    "normalizer.normalize(another)"
   ]
  },
  {
   "cell_type": "code",
   "execution_count": 7,
   "metadata": {},
   "outputs": [],
   "source": [
    "normalizer = malaya.spell_normalizer(malays)"
   ]
  },
  {
   "cell_type": "code",
   "execution_count": 8,
   "metadata": {},
   "outputs": [
    {
     "name": "stdout",
     "output_type": "stream",
     "text": [
      "[(('tat', False), 11), (('ampu', False), 15), (('tapa', False), 10), (('empat', True), 15), (('timpa', False), 20), (('temut', False), 15), (('impi', False), 15), (('tepu', False), 10), (('tumit', False), 20), (('tuit', False), 15), (('amit', False), 21), (('tampi', True), 15), (('tampa', False), 15), (('taut', False), 15), (('umut', False), 21), (('tepet', False), 15), (('tumpu', False), 20), (('mat', False), 16), (('tipu', False), 15), (('ampe', False), 15), (('ampit', False), 20), (('amput', False), 20), (('tempe', False), 15), (('empu', False), 10), (('top', False), 11), (('tut', False), 16), (('amat', False), 21), (('ampo', False), 15), (('taat', False), 15), (('tapi', False), 10), (('tepi', False), 10), (('emat', False), 15), (('tumpat', True), 24), (('umpat', True), 20), (('topi', False), 10), (('tempo', False), 15), (('tepat', False), 15), (('tampu', False), 15), (('tuat', False), 15), (('tempa', False), 15), (('tamat', False), 20), (('umat', False), 21), (('tempat', False), 20), (('tip', False), 16)] \n",
      "\n"
     ]
    },
    {
     "data": {
      "text/plain": [
       "'kenapa awak tak suka makan Husein kat situ amat'"
      ]
     },
     "execution_count": 8,
     "metadata": {},
     "output_type": "execute_result"
    }
   ],
   "source": [
    "normalizer.normalize(string,debug=True)"
   ]
  },
  {
   "cell_type": "code",
   "execution_count": 9,
   "metadata": {},
   "outputs": [
    {
     "name": "stdout",
     "output_type": "stream",
     "text": [
      "[(('sika', False), 15), (('spa', False), 11), (('saka', False), 21), (('soka', False), 15), (('seka', False), 15), (('suka', False), 15), (('sua', False), 11), (('ski', False), 11), (('sia', False), 11)] \n",
      "\n",
      "[(('makna', False), 25), (('makin', False), 20), (('mani', False), 15), (('ikon', False), 15), (('kan', False), 16), (('ikan', False), 21), (('menu', False), 10), (('mini', False), 10), (('mena', False), 15), (('min', False), 11), (('makanan', False), 29), (('maun', False), 15), (('akan', False), 21), (('main', False), 15), (('makan', False), 25), (('kun', False), 11), (('kon', False), 11), (('ken', False), 11), (('mana', False), 21)] \n",
      "\n",
      "[(('kampung', True), 29)] \n",
      "\n",
      "[(('temut', False), 20), (('tempa', False), 20), (('tempat', False), 24), (('tempo', False), 20), (('tempe', False), 20)] \n",
      "\n"
     ]
    },
    {
     "data": {
      "text/plain": [
       "'saya memang tak saka makanan Husein kampung tempat'"
      ]
     },
     "execution_count": 9,
     "metadata": {},
     "output_type": "execute_result"
    }
   ],
   "source": [
    "normalizer.normalize(another,debug=True)"
   ]
  },
  {
   "cell_type": "code",
   "execution_count": 10,
   "metadata": {},
   "outputs": [
    {
     "name": "stderr",
     "output_type": "stream",
     "text": [
      "1.00MB [00:00, 2.66kMB/s]                  "
     ]
    },
    {
     "name": "stdout",
     "output_type": "stream",
     "text": [
      "downloading JSON normalizer\n",
      "downloading normalizer graph\n"
     ]
    },
    {
     "name": "stderr",
     "output_type": "stream",
     "text": [
      "\n",
      "22.0MB [00:05, 4.51MB/s]                          \n"
     ]
    }
   ],
   "source": [
    "normalizer = malaya.deep_normalizer()"
   ]
  },
  {
   "cell_type": "code",
   "execution_count": 11,
   "metadata": {},
   "outputs": [
    {
     "data": {
      "text/plain": [
       "'eye uau tak suka makan unsein kati situ tumpat'"
      ]
     },
     "execution_count": 11,
     "metadata": {},
     "output_type": "execute_result"
    }
   ],
   "source": [
    "normalizer.normalize(string)"
   ]
  },
  {
   "cell_type": "code",
   "execution_count": null,
   "metadata": {},
   "outputs": [],
   "source": []
  }
 ],
 "metadata": {
  "kernelspec": {
   "display_name": "Python 3",
   "language": "python",
   "name": "python3"
  },
  "language_info": {
   "codemirror_mode": {
    "name": "ipython",
    "version": 3
   },
   "file_extension": ".py",
   "mimetype": "text/x-python",
   "name": "python",
   "nbconvert_exporter": "python",
   "pygments_lexer": "ipython3",
   "version": "3.5.2"
  }
 },
 "nbformat": 4,
 "nbformat_minor": 2
}
