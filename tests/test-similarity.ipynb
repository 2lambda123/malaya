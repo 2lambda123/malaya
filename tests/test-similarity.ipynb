{
 "cells": [
  {
   "cell_type": "code",
   "execution_count": 1,
   "id": "surrounded-occasion",
   "metadata": {},
   "outputs": [],
   "source": [
    "import sys\n",
    "import os\n",
    "\n",
    "SOURCE_DIR = os.path.dirname(os.path.dirname(os.path.abspath(__name__)))\n",
    "sys.path.insert(0, SOURCE_DIR)"
   ]
  },
  {
   "cell_type": "code",
   "execution_count": 2,
   "id": "above-assist",
   "metadata": {},
   "outputs": [],
   "source": [
    "import malaya\n",
    "import logging\n",
    "\n",
    "logging.basicConfig(level=logging.DEBUG)"
   ]
  },
  {
   "cell_type": "code",
   "execution_count": 3,
   "id": "alike-pacific",
   "metadata": {},
   "outputs": [
    {
     "data": {
      "text/plain": [
       "'/Users/huseinzolkepli/Malaya'"
      ]
     },
     "execution_count": 3,
     "metadata": {},
     "output_type": "execute_result"
    }
   ],
   "source": [
    "malaya.__home__"
   ]
  },
  {
   "cell_type": "code",
   "execution_count": 4,
   "id": "anticipated-receiver",
   "metadata": {},
   "outputs": [],
   "source": [
    "string1 = 'Pemuda mogok lapar desak kerajaan prihatin isu iklim'\n",
    "string2 = 'Perbincangan isu pembalakan perlu babit kerajaan negeri'\n",
    "string3 = 'kerajaan perlu kisah isu iklim, pemuda mogok lapar'\n",
    "string4 = 'Kerajaan dicadang tubuh jawatankuasa khas tangani isu alam sekitar'\n",
    "\n",
    "news1 = 'Tun Dr Mahathir Mohamad mengakui pembubaran Parlimen bagi membolehkan pilihan raya diadakan tidak sesuai dilaksanakan pada masa ini berikutan isu COVID-19'\n",
    "tweet1 = 'DrM sembang pilihan raya tak boleh buat sebab COVID 19'"
   ]
  },
  {
   "cell_type": "code",
   "execution_count": 6,
   "id": "quiet-burning",
   "metadata": {},
   "outputs": [
    {
     "name": "stderr",
     "output_type": "stream",
     "text": [
      "INFO:root:tested on 20% test set.\n",
      "DEBUG:urllib3.connectionpool:Starting new HTTPS connection (1): f000.backblazeb2.com:443\n"
     ]
    },
    {
     "name": "stdout",
     "output_type": "stream",
     "text": [
      "bert\n"
     ]
    },
    {
     "name": "stderr",
     "output_type": "stream",
     "text": [
      "DEBUG:urllib3.connectionpool:https://f000.backblazeb2.com:443 \"HEAD /file/malaya-model/similarity/bert/model.pb HTTP/1.1\" 200 0\n",
      "DEBUG:urllib3.connectionpool:Starting new HTTPS connection (1): f000.backblazeb2.com:443\n",
      "DEBUG:urllib3.connectionpool:https://f000.backblazeb2.com:443 \"HEAD /file/malaya-model/bpe/sp10m.cased.bert.vocab HTTP/1.1\" 200 0\n",
      "DEBUG:urllib3.connectionpool:Starting new HTTPS connection (1): f000.backblazeb2.com:443\n",
      "DEBUG:urllib3.connectionpool:https://f000.backblazeb2.com:443 \"HEAD /file/malaya-model/bpe/sp10m.cased.bert.model HTTP/1.1\" 200 0\n",
      "DEBUG:urllib3.connectionpool:Starting new HTTPS connection (1): f000.backblazeb2.com:443\n",
      "DEBUG:urllib3.connectionpool:https://f000.backblazeb2.com:443 \"HEAD /file/malaya-model/similarity/bert/version HTTP/1.1\" 404 0\n",
      "DEBUG:urllib3.connectionpool:Starting new HTTPS connection (1): f000.backblazeb2.com:443\n"
     ]
    },
    {
     "name": "stdout",
     "output_type": "stream",
     "text": [
      "downloading frozen model to /Users/huseinzolkepli/Malaya/similarity/bert/model.pb\n"
     ]
    },
    {
     "name": "stderr",
     "output_type": "stream",
     "text": [
      "DEBUG:urllib3.connectionpool:https://f000.backblazeb2.com:443 \"GET /file/malaya-model/similarity/bert/model.pb HTTP/1.1\" 200 443927729\n",
      "424MB [00:53, 7.98MB/s]                          \n",
      "DEBUG:urllib3.connectionpool:Starting new HTTPS connection (1): f000.backblazeb2.com:443\n"
     ]
    },
    {
     "name": "stdout",
     "output_type": "stream",
     "text": [
      "downloading frozen vocab to /Users/huseinzolkepli/Malaya/similarity/bert/sp10m.cased.bert.vocab\n"
     ]
    },
    {
     "name": "stderr",
     "output_type": "stream",
     "text": [
      "DEBUG:urllib3.connectionpool:https://f000.backblazeb2.com:443 \"GET /file/malaya-model/bpe/sp10m.cased.bert.vocab HTTP/1.1\" 200 568997\n",
      "184%|██████████| 1.00/0.54 [00:00<00:00, 1.03MB/s]\n",
      "DEBUG:urllib3.connectionpool:Starting new HTTPS connection (1): f000.backblazeb2.com:443\n"
     ]
    },
    {
     "name": "stdout",
     "output_type": "stream",
     "text": [
      "downloading frozen tokenizer to /Users/huseinzolkepli/Malaya/similarity/bert/sp10m.cased.bert.model\n"
     ]
    },
    {
     "name": "stderr",
     "output_type": "stream",
     "text": [
      "DEBUG:urllib3.connectionpool:https://f000.backblazeb2.com:443 \"GET /file/malaya-model/bpe/sp10m.cased.bert.model HTTP/1.1\" 200 778744\n",
      "135%|██████████| 1.00/0.74 [00:01<00:00, 1.10s/MB]\n",
      "INFO:root:running similarity/bert using device /device:CPU:0\n",
      "DEBUG:root:['▁Pemuda', '▁mogok', '▁lapar', '▁desa', 'k', '▁kerajaan', '▁prihatin', '▁isu', '▁iklim']\n",
      "DEBUG:root:['▁kerajaan', '▁perlu', '▁kisah', '▁isu', '▁iklim', ',', '▁pemuda', '▁mogok', '▁lapar']\n",
      "DEBUG:root:['▁Perbincangan', '▁isu', '▁pembalakan', '▁perlu', '▁babi', 't', '▁kerajaan', '▁negeri']\n",
      "DEBUG:root:['▁Kerajaan', '▁di', 'cadang', '▁tubuh', '▁jawatankuasa', '▁khas', '▁tangani', '▁isu', '▁alam', '▁sekitar']\n",
      "DEBUG:root:['▁Tun', '▁Dr', '▁Mahathir', '▁Mohamad', '▁mengakui', '▁pembubaran', '▁Parlimen', '▁bagi', '▁membolehkan', '▁pilihan', '▁raya', '▁diadakan', '▁tidak', '▁sesuai', '▁dilaksanakan', '▁pada', '▁masa', '▁ini', '▁berikutan', '▁isu', '▁COVID', '-', '19']\n",
      "DEBUG:root:['▁Dr', 'M', '▁sembang', '▁pilihan', '▁raya', '▁tak', '▁boleh', '▁buat', '▁sebab', '▁COVID', '▁19']\n",
      "DEBUG:root:['▁Tun', '▁Dr', '▁Mahathir', '▁Mohamad', '▁mengakui', '▁pembubaran', '▁Parlimen', '▁bagi', '▁membolehkan', '▁pilihan', '▁raya', '▁diadakan', '▁tidak', '▁sesuai', '▁dilaksanakan', '▁pada', '▁masa', '▁ini', '▁berikutan', '▁isu', '▁COVID', '-', '19']\n",
      "DEBUG:root:['▁Pemuda', '▁mogok', '▁lapar', '▁desa', 'k', '▁kerajaan', '▁prihatin', '▁isu', '▁iklim']\n"
     ]
    },
    {
     "name": "stdout",
     "output_type": "stream",
     "text": [
      "[0.99325323 0.8550597  0.62988013 0.07371006]\n"
     ]
    },
    {
     "name": "stderr",
     "output_type": "stream",
     "text": [
      "DEBUG:urllib3.connectionpool:Starting new HTTPS connection (1): f000.backblazeb2.com:443\n"
     ]
    },
    {
     "name": "stdout",
     "output_type": "stream",
     "text": [
      "tiny-bert\n"
     ]
    },
    {
     "name": "stderr",
     "output_type": "stream",
     "text": [
      "DEBUG:urllib3.connectionpool:https://f000.backblazeb2.com:443 \"HEAD /file/malaya-model/similarity/tiny-bert/model.pb HTTP/1.1\" 200 0\n",
      "DEBUG:urllib3.connectionpool:Starting new HTTPS connection (1): f000.backblazeb2.com:443\n",
      "DEBUG:urllib3.connectionpool:https://f000.backblazeb2.com:443 \"HEAD /file/malaya-model/bpe/sp10m.cased.bert.vocab HTTP/1.1\" 200 0\n",
      "DEBUG:urllib3.connectionpool:Starting new HTTPS connection (1): f000.backblazeb2.com:443\n",
      "DEBUG:urllib3.connectionpool:https://f000.backblazeb2.com:443 \"HEAD /file/malaya-model/bpe/sp10m.cased.bert.model HTTP/1.1\" 200 0\n",
      "DEBUG:urllib3.connectionpool:Starting new HTTPS connection (1): f000.backblazeb2.com:443\n",
      "DEBUG:urllib3.connectionpool:https://f000.backblazeb2.com:443 \"HEAD /file/malaya-model/similarity/tiny-bert/version HTTP/1.1\" 404 0\n",
      "DEBUG:urllib3.connectionpool:Starting new HTTPS connection (1): f000.backblazeb2.com:443\n"
     ]
    },
    {
     "name": "stdout",
     "output_type": "stream",
     "text": [
      "downloading frozen model to /Users/huseinzolkepli/Malaya/similarity/tiny-bert/model.pb\n"
     ]
    },
    {
     "name": "stderr",
     "output_type": "stream",
     "text": [
      "DEBUG:urllib3.connectionpool:https://f000.backblazeb2.com:443 \"GET /file/malaya-model/similarity/tiny-bert/model.pb HTTP/1.1\" 200 59739385\n",
      "100%|██████████| 57.0/57.0 [00:08<00:00, 6.78MB/s]\n",
      "DEBUG:urllib3.connectionpool:Starting new HTTPS connection (1): f000.backblazeb2.com:443\n"
     ]
    },
    {
     "name": "stdout",
     "output_type": "stream",
     "text": [
      "downloading frozen vocab to /Users/huseinzolkepli/Malaya/similarity/tiny-bert/sp10m.cased.bert.vocab\n"
     ]
    },
    {
     "name": "stderr",
     "output_type": "stream",
     "text": [
      "DEBUG:urllib3.connectionpool:https://f000.backblazeb2.com:443 \"GET /file/malaya-model/bpe/sp10m.cased.bert.vocab HTTP/1.1\" 200 568997\n",
      "184%|██████████| 1.00/0.54 [00:00<00:00, 1.11MB/s]\n",
      "DEBUG:urllib3.connectionpool:Starting new HTTPS connection (1): f000.backblazeb2.com:443\n"
     ]
    },
    {
     "name": "stdout",
     "output_type": "stream",
     "text": [
      "downloading frozen tokenizer to /Users/huseinzolkepli/Malaya/similarity/tiny-bert/sp10m.cased.bert.model\n"
     ]
    },
    {
     "name": "stderr",
     "output_type": "stream",
     "text": [
      "DEBUG:urllib3.connectionpool:https://f000.backblazeb2.com:443 \"GET /file/malaya-model/bpe/sp10m.cased.bert.model HTTP/1.1\" 200 778744\n",
      "135%|██████████| 1.00/0.74 [00:01<00:00, 1.12s/MB]\n",
      "INFO:root:running similarity/tiny-bert using device /device:CPU:0\n",
      "DEBUG:root:['▁Pemuda', '▁mogok', '▁lapar', '▁desa', 'k', '▁kerajaan', '▁prihatin', '▁isu', '▁iklim']\n",
      "DEBUG:root:['▁kerajaan', '▁perlu', '▁kisah', '▁isu', '▁iklim', ',', '▁pemuda', '▁mogok', '▁lapar']\n",
      "DEBUG:root:['▁Perbincangan', '▁isu', '▁pembalakan', '▁perlu', '▁babi', 't', '▁kerajaan', '▁negeri']\n",
      "DEBUG:root:['▁Kerajaan', '▁di', 'cadang', '▁tubuh', '▁jawatankuasa', '▁khas', '▁tangani', '▁isu', '▁alam', '▁sekitar']\n",
      "DEBUG:root:['▁Tun', '▁Dr', '▁Mahathir', '▁Mohamad', '▁mengakui', '▁pembubaran', '▁Parlimen', '▁bagi', '▁membolehkan', '▁pilihan', '▁raya', '▁diadakan', '▁tidak', '▁sesuai', '▁dilaksanakan', '▁pada', '▁masa', '▁ini', '▁berikutan', '▁isu', '▁COVID', '-', '19']\n",
      "DEBUG:root:['▁Dr', 'M', '▁sembang', '▁pilihan', '▁raya', '▁tak', '▁boleh', '▁buat', '▁sebab', '▁COVID', '▁19']\n",
      "DEBUG:root:['▁Tun', '▁Dr', '▁Mahathir', '▁Mohamad', '▁mengakui', '▁pembubaran', '▁Parlimen', '▁bagi', '▁membolehkan', '▁pilihan', '▁raya', '▁diadakan', '▁tidak', '▁sesuai', '▁dilaksanakan', '▁pada', '▁masa', '▁ini', '▁berikutan', '▁isu', '▁COVID', '-', '19']\n",
      "DEBUG:root:['▁Pemuda', '▁mogok', '▁lapar', '▁desa', 'k', '▁kerajaan', '▁prihatin', '▁isu', '▁iklim']\n",
      "DEBUG:urllib3.connectionpool:Starting new HTTPS connection (1): f000.backblazeb2.com:443\n"
     ]
    },
    {
     "name": "stdout",
     "output_type": "stream",
     "text": [
      "[0.99804044 0.29603016 0.00955939 0.5922115 ]\n",
      "albert\n"
     ]
    },
    {
     "name": "stderr",
     "output_type": "stream",
     "text": [
      "DEBUG:urllib3.connectionpool:https://f000.backblazeb2.com:443 \"HEAD /file/malaya-model/similarity/albert/model.pb HTTP/1.1\" 200 0\n",
      "DEBUG:urllib3.connectionpool:Starting new HTTPS connection (1): f000.backblazeb2.com:443\n",
      "DEBUG:urllib3.connectionpool:https://f000.backblazeb2.com:443 \"HEAD /file/malaya-model/bpe/sp10m.cased.v10.vocab HTTP/1.1\" 200 0\n",
      "DEBUG:urllib3.connectionpool:Starting new HTTPS connection (1): f000.backblazeb2.com:443\n",
      "DEBUG:urllib3.connectionpool:https://f000.backblazeb2.com:443 \"HEAD /file/malaya-model/bpe/sp10m.cased.v10.model HTTP/1.1\" 200 0\n",
      "DEBUG:urllib3.connectionpool:Starting new HTTPS connection (1): f000.backblazeb2.com:443\n",
      "DEBUG:urllib3.connectionpool:https://f000.backblazeb2.com:443 \"HEAD /file/malaya-model/similarity/albert/version HTTP/1.1\" 404 0\n",
      "DEBUG:urllib3.connectionpool:Starting new HTTPS connection (1): f000.backblazeb2.com:443\n"
     ]
    },
    {
     "name": "stdout",
     "output_type": "stream",
     "text": [
      "downloading frozen model to /Users/huseinzolkepli/Malaya/similarity/albert/model.pb\n"
     ]
    },
    {
     "name": "stderr",
     "output_type": "stream",
     "text": [
      "DEBUG:urllib3.connectionpool:https://f000.backblazeb2.com:443 \"GET /file/malaya-model/similarity/albert/model.pb HTTP/1.1\" 200 48636270\n",
      "47.0MB [00:07, 6.53MB/s]                          \n",
      "DEBUG:urllib3.connectionpool:Starting new HTTPS connection (1): f000.backblazeb2.com:443\n"
     ]
    },
    {
     "name": "stdout",
     "output_type": "stream",
     "text": [
      "downloading frozen vocab to /Users/huseinzolkepli/Malaya/similarity/albert/sp10m.cased.v10.vocab\n"
     ]
    },
    {
     "name": "stderr",
     "output_type": "stream",
     "text": [
      "DEBUG:urllib3.connectionpool:https://f000.backblazeb2.com:443 \"GET /file/malaya-model/bpe/sp10m.cased.v10.vocab HTTP/1.1\" 200 569013\n",
      "184%|██████████| 1.00/0.54 [00:00<00:00, 1.03MB/s]\n",
      "DEBUG:urllib3.connectionpool:Starting new HTTPS connection (1): f000.backblazeb2.com:443\n"
     ]
    },
    {
     "name": "stdout",
     "output_type": "stream",
     "text": [
      "downloading frozen tokenizer to /Users/huseinzolkepli/Malaya/similarity/albert/sp10m.cased.v10.model\n"
     ]
    },
    {
     "name": "stderr",
     "output_type": "stream",
     "text": [
      "DEBUG:urllib3.connectionpool:https://f000.backblazeb2.com:443 \"GET /file/malaya-model/bpe/sp10m.cased.v10.model HTTP/1.1\" 200 778641\n",
      "135%|██████████| 1.00/0.74 [00:01<00:00, 1.21s/MB]\n",
      "INFO:root:running similarity/albert using device /device:CPU:0\n",
      "DEBUG:root:['▁Pemuda', '▁mogok', '▁lapar', '▁desa', 'k', '▁kerajaan', '▁prihatin', '▁isu', '▁iklim']\n",
      "DEBUG:root:['▁kerajaan', '▁perlu', '▁kisah', '▁isu', '▁iklim', ',', '▁pemuda', '▁mogok', '▁lapar']\n",
      "DEBUG:root:['▁Perbincangan', '▁isu', '▁pembalakan', '▁perlu', '▁babi', 't', '▁kerajaan', '▁negeri']\n",
      "DEBUG:root:['▁Kerajaan', '▁di', 'cadang', '▁tubuh', '▁jawatankuasa', '▁khas', '▁tangani', '▁isu', '▁alam', '▁sekitar']\n",
      "DEBUG:root:['▁Tun', '▁Dr', '▁Mahathir', '▁Mohamad', '▁mengakui', '▁pembubaran', '▁Parlimen', '▁bagi', '▁membolehkan', '▁pilihan', '▁raya', '▁diadakan', '▁tidak', '▁sesuai', '▁dilaksanakan', '▁pada', '▁masa', '▁ini', '▁berikutan', '▁isu', '▁COVID', '-', '19']\n",
      "DEBUG:root:['▁Dr', 'M', '▁sembang', '▁pilihan', '▁raya', '▁tak', '▁boleh', '▁buat', '▁sebab', '▁COVID', '▁19']\n",
      "DEBUG:root:['▁Tun', '▁Dr', '▁Mahathir', '▁Mohamad', '▁mengakui', '▁pembubaran', '▁Parlimen', '▁bagi', '▁membolehkan', '▁pilihan', '▁raya', '▁diadakan', '▁tidak', '▁sesuai', '▁dilaksanakan', '▁pada', '▁masa', '▁ini', '▁berikutan', '▁isu', '▁COVID', '-', '19']\n",
      "DEBUG:root:['▁Pemuda', '▁mogok', '▁lapar', '▁desa', 'k', '▁kerajaan', '▁prihatin', '▁isu', '▁iklim']\n",
      "DEBUG:urllib3.connectionpool:Starting new HTTPS connection (1): f000.backblazeb2.com:443\n"
     ]
    },
    {
     "name": "stdout",
     "output_type": "stream",
     "text": [
      "[9.9727970e-01 3.8676399e-01 3.1280831e-01 8.5292675e-05]\n",
      "tiny-albert\n"
     ]
    },
    {
     "name": "stderr",
     "output_type": "stream",
     "text": [
      "DEBUG:urllib3.connectionpool:https://f000.backblazeb2.com:443 \"HEAD /file/malaya-model/similarity/tiny-albert/model.pb HTTP/1.1\" 200 0\n",
      "DEBUG:urllib3.connectionpool:Starting new HTTPS connection (1): f000.backblazeb2.com:443\n",
      "DEBUG:urllib3.connectionpool:https://f000.backblazeb2.com:443 \"HEAD /file/malaya-model/bpe/sp10m.cased.v10.vocab HTTP/1.1\" 200 0\n",
      "DEBUG:urllib3.connectionpool:Starting new HTTPS connection (1): f000.backblazeb2.com:443\n",
      "DEBUG:urllib3.connectionpool:https://f000.backblazeb2.com:443 \"HEAD /file/malaya-model/bpe/sp10m.cased.v10.model HTTP/1.1\" 200 0\n",
      "DEBUG:urllib3.connectionpool:Starting new HTTPS connection (1): f000.backblazeb2.com:443\n",
      "DEBUG:urllib3.connectionpool:https://f000.backblazeb2.com:443 \"HEAD /file/malaya-model/similarity/tiny-albert/version HTTP/1.1\" 404 0\n",
      "DEBUG:urllib3.connectionpool:Starting new HTTPS connection (1): f000.backblazeb2.com:443\n"
     ]
    },
    {
     "name": "stdout",
     "output_type": "stream",
     "text": [
      "downloading frozen model to /Users/huseinzolkepli/Malaya/similarity/tiny-albert/model.pb\n"
     ]
    },
    {
     "name": "stderr",
     "output_type": "stream",
     "text": [
      "DEBUG:urllib3.connectionpool:https://f000.backblazeb2.com:443 \"GET /file/malaya-model/similarity/tiny-albert/model.pb HTTP/1.1\" 200 23018837\n",
      "100%|██████████| 22.0/22.0 [00:03<00:00, 5.76MB/s]\n",
      "DEBUG:urllib3.connectionpool:Starting new HTTPS connection (1): f000.backblazeb2.com:443\n"
     ]
    },
    {
     "name": "stdout",
     "output_type": "stream",
     "text": [
      "downloading frozen vocab to /Users/huseinzolkepli/Malaya/similarity/tiny-albert/sp10m.cased.v10.vocab\n"
     ]
    },
    {
     "name": "stderr",
     "output_type": "stream",
     "text": [
      "DEBUG:urllib3.connectionpool:https://f000.backblazeb2.com:443 \"GET /file/malaya-model/bpe/sp10m.cased.v10.vocab HTTP/1.1\" 200 569013\n",
      "184%|██████████| 1.00/0.54 [00:00<00:00, 1.02MB/s]\n",
      "DEBUG:urllib3.connectionpool:Starting new HTTPS connection (1): f000.backblazeb2.com:443\n"
     ]
    },
    {
     "name": "stdout",
     "output_type": "stream",
     "text": [
      "downloading frozen tokenizer to /Users/huseinzolkepli/Malaya/similarity/tiny-albert/sp10m.cased.v10.model\n"
     ]
    },
    {
     "name": "stderr",
     "output_type": "stream",
     "text": [
      "DEBUG:urllib3.connectionpool:https://f000.backblazeb2.com:443 \"GET /file/malaya-model/bpe/sp10m.cased.v10.model HTTP/1.1\" 200 778641\n",
      "135%|██████████| 1.00/0.74 [00:01<00:00, 1.21s/MB]\n",
      "INFO:root:running similarity/tiny-albert using device /device:CPU:0\n",
      "DEBUG:root:['▁Pemuda', '▁mogok', '▁lapar', '▁desa', 'k', '▁kerajaan', '▁prihatin', '▁isu', '▁iklim']\n",
      "DEBUG:root:['▁kerajaan', '▁perlu', '▁kisah', '▁isu', '▁iklim', ',', '▁pemuda', '▁mogok', '▁lapar']\n",
      "DEBUG:root:['▁Perbincangan', '▁isu', '▁pembalakan', '▁perlu', '▁babi', 't', '▁kerajaan', '▁negeri']\n",
      "DEBUG:root:['▁Kerajaan', '▁di', 'cadang', '▁tubuh', '▁jawatankuasa', '▁khas', '▁tangani', '▁isu', '▁alam', '▁sekitar']\n",
      "DEBUG:root:['▁Tun', '▁Dr', '▁Mahathir', '▁Mohamad', '▁mengakui', '▁pembubaran', '▁Parlimen', '▁bagi', '▁membolehkan', '▁pilihan', '▁raya', '▁diadakan', '▁tidak', '▁sesuai', '▁dilaksanakan', '▁pada', '▁masa', '▁ini', '▁berikutan', '▁isu', '▁COVID', '-', '19']\n",
      "DEBUG:root:['▁Dr', 'M', '▁sembang', '▁pilihan', '▁raya', '▁tak', '▁boleh', '▁buat', '▁sebab', '▁COVID', '▁19']\n",
      "DEBUG:root:['▁Tun', '▁Dr', '▁Mahathir', '▁Mohamad', '▁mengakui', '▁pembubaran', '▁Parlimen', '▁bagi', '▁membolehkan', '▁pilihan', '▁raya', '▁diadakan', '▁tidak', '▁sesuai', '▁dilaksanakan', '▁pada', '▁masa', '▁ini', '▁berikutan', '▁isu', '▁COVID', '-', '19']\n",
      "DEBUG:root:['▁Pemuda', '▁mogok', '▁lapar', '▁desa', 'k', '▁kerajaan', '▁prihatin', '▁isu', '▁iklim']\n",
      "DEBUG:urllib3.connectionpool:Starting new HTTPS connection (1): f000.backblazeb2.com:443\n"
     ]
    },
    {
     "name": "stdout",
     "output_type": "stream",
     "text": [
      "[0.9717115  0.15021539 0.9113871  0.06405222]\n",
      "xlnet\n"
     ]
    },
    {
     "name": "stderr",
     "output_type": "stream",
     "text": [
      "DEBUG:urllib3.connectionpool:https://f000.backblazeb2.com:443 \"HEAD /file/malaya-model/similarity/xlnet/model.pb HTTP/1.1\" 200 0\n",
      "DEBUG:urllib3.connectionpool:Starting new HTTPS connection (1): f000.backblazeb2.com:443\n",
      "DEBUG:urllib3.connectionpool:https://f000.backblazeb2.com:443 \"HEAD /file/malaya-model/bpe/sp10m.cased.v9.vocab HTTP/1.1\" 200 0\n",
      "DEBUG:urllib3.connectionpool:Starting new HTTPS connection (1): f000.backblazeb2.com:443\n",
      "DEBUG:urllib3.connectionpool:https://f000.backblazeb2.com:443 \"HEAD /file/malaya-model/bpe/sp10m.cased.v9.model HTTP/1.1\" 200 0\n",
      "DEBUG:urllib3.connectionpool:Starting new HTTPS connection (1): f000.backblazeb2.com:443\n",
      "DEBUG:urllib3.connectionpool:https://f000.backblazeb2.com:443 \"HEAD /file/malaya-model/similarity/xlnet/version HTTP/1.1\" 404 0\n",
      "DEBUG:urllib3.connectionpool:Starting new HTTPS connection (1): f000.backblazeb2.com:443\n"
     ]
    },
    {
     "name": "stdout",
     "output_type": "stream",
     "text": [
      "downloading frozen model to /Users/huseinzolkepli/Malaya/similarity/xlnet/model.pb\n"
     ]
    },
    {
     "name": "stderr",
     "output_type": "stream",
     "text": [
      "DEBUG:urllib3.connectionpool:https://f000.backblazeb2.com:443 \"GET /file/malaya-model/similarity/xlnet/model.pb HTTP/1.1\" 200 470547889\n",
      "100%|██████████| 449/449 [01:01<00:00, 7.34MB/s] \n",
      "DEBUG:urllib3.connectionpool:Starting new HTTPS connection (1): f000.backblazeb2.com:443\n"
     ]
    },
    {
     "name": "stdout",
     "output_type": "stream",
     "text": [
      "downloading frozen vocab to /Users/huseinzolkepli/Malaya/similarity/xlnet/sp10m.cased.v9.vocab\n"
     ]
    },
    {
     "name": "stderr",
     "output_type": "stream",
     "text": [
      "DEBUG:urllib3.connectionpool:https://f000.backblazeb2.com:443 \"GET /file/malaya-model/bpe/sp10m.cased.v9.vocab HTTP/1.1\" 200 568997\n",
      "184%|██████████| 1.00/0.54 [00:01<00:00, 1.01s/MB]\n",
      "DEBUG:urllib3.connectionpool:Starting new HTTPS connection (1): f000.backblazeb2.com:443\n"
     ]
    },
    {
     "name": "stdout",
     "output_type": "stream",
     "text": [
      "downloading frozen tokenizer to /Users/huseinzolkepli/Malaya/similarity/xlnet/sp10m.cased.v9.model\n"
     ]
    },
    {
     "name": "stderr",
     "output_type": "stream",
     "text": [
      "DEBUG:urllib3.connectionpool:https://f000.backblazeb2.com:443 \"GET /file/malaya-model/bpe/sp10m.cased.v9.model HTTP/1.1\" 200 778744\n",
      "135%|██████████| 1.00/0.74 [00:01<00:00, 1.11s/MB]\n",
      "INFO:root:running similarity/xlnet using device /device:CPU:0\n",
      "DEBUG:root:['▁Pemuda', '▁mogok', '▁lapar', '▁desa', 'k', '▁kerajaan', '▁prihatin', '▁isu', '▁iklim']\n",
      "DEBUG:root:['▁kerajaan', '▁perlu', '▁kisah', '▁isu', '▁iklim', ',', '▁pemuda', '▁mogok', '▁lapar']\n",
      "DEBUG:root:[4538, 25982, 2266, 1116, 55, 239, 10596, 398, 11751, 4, 239, 208, 1068, 398, 11751, 21, 5737, 25982, 2266, 4, 3]\n",
      "DEBUG:root:['▁Perbincangan', '▁isu', '▁pembalakan', '▁perlu', '▁babi', 't', '▁kerajaan', '▁negeri']\n",
      "DEBUG:root:['▁Kerajaan', '▁di', 'cadang', '▁tubuh', '▁jawatankuasa', '▁khas', '▁tangani', '▁isu', '▁alam', '▁sekitar']\n",
      "DEBUG:root:[26232, 398, 23718, 208, 1482, 68, 239, 296, 4, 379, 23, 16607, 1214, 6628, 1492, 20762, 398, 970, 777, 4, 3]\n",
      "DEBUG:root:['▁Tun', '▁Dr', '▁Mahathir', '▁Mohamad', '▁mengakui', '▁pembubaran', '▁Parlimen', '▁bagi', '▁membolehkan', '▁pilihan', '▁raya', '▁diadakan', '▁tidak', '▁sesuai', '▁dilaksanakan', '▁pada', '▁masa', '▁ini', '▁berikutan', '▁isu', '▁COVID', '-', '19']\n",
      "DEBUG:root:['▁Dr', 'M', '▁sembang', '▁pilihan', '▁raya', '▁tak', '▁boleh', '▁buat', '▁sebab', '▁COVID', '▁19']\n",
      "DEBUG:root:[806, 383, 1096, 1515, 5578, 25946, 1191, 84, 3049, 841, 259, 2148, 51, 875, 1638, 49, 145, 31, 3516, 398, 9890, 13, 650, 4, 383, 292, 4338, 841, 259, 38, 67, 65, 160, 9890, 901, 4, 3]\n",
      "DEBUG:root:['▁Tun', '▁Dr', '▁Mahathir', '▁Mohamad', '▁mengakui', '▁pembubaran', '▁Parlimen', '▁bagi', '▁membolehkan', '▁pilihan', '▁raya', '▁diadakan', '▁tidak', '▁sesuai', '▁dilaksanakan', '▁pada', '▁masa', '▁ini', '▁berikutan', '▁isu', '▁COVID', '-', '19']\n",
      "DEBUG:root:['▁Pemuda', '▁mogok', '▁lapar', '▁desa', 'k', '▁kerajaan', '▁prihatin', '▁isu', '▁iklim']\n",
      "DEBUG:root:[806, 383, 1096, 1515, 5578, 25946, 1191, 84, 3049, 841, 259, 2148, 51, 875, 1638, 49, 145, 31, 3516, 398, 9890, 13, 650, 4, 4538, 25982, 2266, 1116, 55, 239, 10596, 398, 11751, 4, 3]\n"
     ]
    },
    {
     "name": "stdout",
     "output_type": "stream",
     "text": [
      "[0.06488043 0.7351448  0.0108316  0.00309218]\n"
     ]
    },
    {
     "name": "stderr",
     "output_type": "stream",
     "text": [
      "DEBUG:urllib3.connectionpool:Starting new HTTPS connection (1): f000.backblazeb2.com:443\n"
     ]
    },
    {
     "name": "stdout",
     "output_type": "stream",
     "text": [
      "alxlnet\n"
     ]
    },
    {
     "name": "stderr",
     "output_type": "stream",
     "text": [
      "DEBUG:urllib3.connectionpool:https://f000.backblazeb2.com:443 \"HEAD /file/malaya-model/similarity/alxlnet/model.pb HTTP/1.1\" 200 0\n",
      "DEBUG:urllib3.connectionpool:Starting new HTTPS connection (1): f000.backblazeb2.com:443\n",
      "DEBUG:urllib3.connectionpool:https://f000.backblazeb2.com:443 \"HEAD /file/malaya-model/bpe/sp10m.cased.v9.vocab HTTP/1.1\" 200 0\n",
      "DEBUG:urllib3.connectionpool:Starting new HTTPS connection (1): f000.backblazeb2.com:443\n",
      "DEBUG:urllib3.connectionpool:https://f000.backblazeb2.com:443 \"HEAD /file/malaya-model/bpe/sp10m.cased.v9.model HTTP/1.1\" 200 0\n",
      "DEBUG:urllib3.connectionpool:Starting new HTTPS connection (1): f000.backblazeb2.com:443\n",
      "DEBUG:urllib3.connectionpool:https://f000.backblazeb2.com:443 \"HEAD /file/malaya-model/similarity/alxlnet/version HTTP/1.1\" 404 0\n",
      "DEBUG:urllib3.connectionpool:Starting new HTTPS connection (1): f000.backblazeb2.com:443\n"
     ]
    },
    {
     "name": "stdout",
     "output_type": "stream",
     "text": [
      "downloading frozen model to /Users/huseinzolkepli/Malaya/similarity/alxlnet/model.pb\n"
     ]
    },
    {
     "name": "stderr",
     "output_type": "stream",
     "text": [
      "DEBUG:urllib3.connectionpool:https://f000.backblazeb2.com:443 \"GET /file/malaya-model/similarity/alxlnet/model.pb HTTP/1.1\" 200 51402545\n",
      "50.0MB [00:08, 5.93MB/s]                          \n",
      "DEBUG:urllib3.connectionpool:Starting new HTTPS connection (1): f000.backblazeb2.com:443\n"
     ]
    },
    {
     "name": "stdout",
     "output_type": "stream",
     "text": [
      "downloading frozen vocab to /Users/huseinzolkepli/Malaya/similarity/alxlnet/sp10m.cased.v9.vocab\n"
     ]
    },
    {
     "name": "stderr",
     "output_type": "stream",
     "text": [
      "DEBUG:urllib3.connectionpool:https://f000.backblazeb2.com:443 \"GET /file/malaya-model/bpe/sp10m.cased.v9.vocab HTTP/1.1\" 200 568997\n",
      "184%|██████████| 1.00/0.54 [00:00<00:00, 1.03MB/s]\n",
      "DEBUG:urllib3.connectionpool:Starting new HTTPS connection (1): f000.backblazeb2.com:443\n"
     ]
    },
    {
     "name": "stdout",
     "output_type": "stream",
     "text": [
      "downloading frozen tokenizer to /Users/huseinzolkepli/Malaya/similarity/alxlnet/sp10m.cased.v9.model\n"
     ]
    },
    {
     "name": "stderr",
     "output_type": "stream",
     "text": [
      "DEBUG:urllib3.connectionpool:https://f000.backblazeb2.com:443 \"GET /file/malaya-model/bpe/sp10m.cased.v9.model HTTP/1.1\" 200 778744\n",
      "135%|██████████| 1.00/0.74 [00:01<00:00, 1.17s/MB]\n",
      "INFO:root:running similarity/alxlnet using device /device:CPU:0\n",
      "DEBUG:root:['▁Pemuda', '▁mogok', '▁lapar', '▁desa', 'k', '▁kerajaan', '▁prihatin', '▁isu', '▁iklim']\n",
      "DEBUG:root:['▁kerajaan', '▁perlu', '▁kisah', '▁isu', '▁iklim', ',', '▁pemuda', '▁mogok', '▁lapar']\n",
      "DEBUG:root:[4538, 25982, 2266, 1116, 55, 239, 10596, 398, 11751, 4, 239, 208, 1068, 398, 11751, 21, 5737, 25982, 2266, 4, 3]\n",
      "DEBUG:root:['▁Perbincangan', '▁isu', '▁pembalakan', '▁perlu', '▁babi', 't', '▁kerajaan', '▁negeri']\n",
      "DEBUG:root:['▁Kerajaan', '▁di', 'cadang', '▁tubuh', '▁jawatankuasa', '▁khas', '▁tangani', '▁isu', '▁alam', '▁sekitar']\n",
      "DEBUG:root:[26232, 398, 23718, 208, 1482, 68, 239, 296, 4, 379, 23, 16607, 1214, 6628, 1492, 20762, 398, 970, 777, 4, 3]\n",
      "DEBUG:root:['▁Tun', '▁Dr', '▁Mahathir', '▁Mohamad', '▁mengakui', '▁pembubaran', '▁Parlimen', '▁bagi', '▁membolehkan', '▁pilihan', '▁raya', '▁diadakan', '▁tidak', '▁sesuai', '▁dilaksanakan', '▁pada', '▁masa', '▁ini', '▁berikutan', '▁isu', '▁COVID', '-', '19']\n",
      "DEBUG:root:['▁Dr', 'M', '▁sembang', '▁pilihan', '▁raya', '▁tak', '▁boleh', '▁buat', '▁sebab', '▁COVID', '▁19']\n",
      "DEBUG:root:[806, 383, 1096, 1515, 5578, 25946, 1191, 84, 3049, 841, 259, 2148, 51, 875, 1638, 49, 145, 31, 3516, 398, 9890, 13, 650, 4, 383, 292, 4338, 841, 259, 38, 67, 65, 160, 9890, 901, 4, 3]\n",
      "DEBUG:root:['▁Tun', '▁Dr', '▁Mahathir', '▁Mohamad', '▁mengakui', '▁pembubaran', '▁Parlimen', '▁bagi', '▁membolehkan', '▁pilihan', '▁raya', '▁diadakan', '▁tidak', '▁sesuai', '▁dilaksanakan', '▁pada', '▁masa', '▁ini', '▁berikutan', '▁isu', '▁COVID', '-', '19']\n",
      "DEBUG:root:['▁Pemuda', '▁mogok', '▁lapar', '▁desa', 'k', '▁kerajaan', '▁prihatin', '▁isu', '▁iklim']\n",
      "DEBUG:root:[806, 383, 1096, 1515, 5578, 25946, 1191, 84, 3049, 841, 259, 2148, 51, 875, 1638, 49, 145, 31, 3516, 398, 9890, 13, 650, 4, 4538, 25982, 2266, 1116, 55, 239, 10596, 398, 11751, 4, 3]\n"
     ]
    },
    {
     "name": "stdout",
     "output_type": "stream",
     "text": [
      "[0.99878645 0.01202045 0.842363   0.9723789 ]\n"
     ]
    }
   ],
   "source": [
    "models = malaya.similarity.available_transformer()\n",
    "for m in models.index:\n",
    "    print(m)\n",
    "    model = malaya.similarity.transformer(model = m, gpu_limit = 0.3)\n",
    "    print(model.predict_proba([string1, string2, news1, news1], [string3, string4, tweet1, string1]))\n",
    "    malaya.utils.delete_cache(f'similarity/{m}')\n",
    "    del model"
   ]
  },
  {
   "cell_type": "code",
   "execution_count": 5,
   "id": "armed-consideration",
   "metadata": {},
   "outputs": [],
   "source": [
    "string = 'gov macam bengong, kami nk pilihan raya, gov backdoor, sakai'"
   ]
  },
  {
   "cell_type": "code",
   "execution_count": 6,
   "id": "initial-moscow",
   "metadata": {
    "scrolled": false
   },
   "outputs": [
    {
     "name": "stderr",
     "output_type": "stream",
     "text": [
      "DEBUG:urllib3.connectionpool:Starting new HTTPS connection (1): f000.backblazeb2.com:443\n"
     ]
    },
    {
     "name": "stdout",
     "output_type": "stream",
     "text": [
      "bert\n"
     ]
    },
    {
     "name": "stderr",
     "output_type": "stream",
     "text": [
      "DEBUG:urllib3.connectionpool:https://f000.backblazeb2.com:443 \"HEAD /file/malaya-model/similarity/bert/model.pb HTTP/1.1\" 200 0\n",
      "DEBUG:urllib3.connectionpool:Starting new HTTPS connection (1): f000.backblazeb2.com:443\n",
      "DEBUG:urllib3.connectionpool:https://f000.backblazeb2.com:443 \"HEAD /file/malaya-model/bpe/sp10m.cased.bert.vocab HTTP/1.1\" 200 0\n",
      "DEBUG:urllib3.connectionpool:Starting new HTTPS connection (1): f000.backblazeb2.com:443\n",
      "DEBUG:urllib3.connectionpool:https://f000.backblazeb2.com:443 \"HEAD /file/malaya-model/bpe/sp10m.cased.bert.model HTTP/1.1\" 200 0\n",
      "DEBUG:urllib3.connectionpool:Starting new HTTPS connection (1): f000.backblazeb2.com:443\n",
      "DEBUG:urllib3.connectionpool:https://f000.backblazeb2.com:443 \"HEAD /file/malaya-model/similarity/bert/version HTTP/1.1\" 404 0\n",
      "INFO:root:running similarity/bert using device /device:CPU:0\n",
      "DEBUG:root:['▁', 'gov', '▁macam', '▁bengong', ',', '▁kami', '▁nk', '▁pilihan', '▁raya', ',', '▁', 'gov', '▁back', 'door', ',', '▁sa', 'kai']\n",
      "DEBUG:root:['▁teks', '▁ini', '▁adalah', '▁mengenai', '▁najib', '▁razak']\n",
      "DEBUG:root:['▁', 'gov', '▁macam', '▁bengong', ',', '▁kami', '▁nk', '▁pilihan', '▁raya', ',', '▁', 'gov', '▁back', 'door', ',', '▁sa', 'kai']\n",
      "DEBUG:root:['▁teks', '▁ini', '▁adalah', '▁mengenai', '▁mahathir']\n",
      "DEBUG:root:['▁', 'gov', '▁macam', '▁bengong', ',', '▁kami', '▁nk', '▁pilihan', '▁raya', ',', '▁', 'gov', '▁back', 'door', ',', '▁sa', 'kai']\n",
      "DEBUG:root:['▁teks', '▁ini', '▁adalah', '▁mengenai', '▁kerajaan']\n",
      "DEBUG:root:['▁', 'gov', '▁macam', '▁bengong', ',', '▁kami', '▁nk', '▁pilihan', '▁raya', ',', '▁', 'gov', '▁back', 'door', ',', '▁sa', 'kai']\n",
      "DEBUG:root:['▁teks', '▁ini', '▁adalah', '▁mengenai', '▁PRU']\n",
      "DEBUG:root:['▁', 'gov', '▁macam', '▁bengong', ',', '▁kami', '▁nk', '▁pilihan', '▁raya', ',', '▁', 'gov', '▁back', 'door', ',', '▁sa', 'kai']\n",
      "DEBUG:root:['▁teks', '▁ini', '▁adalah', '▁mengenai', '▁', 'an', 'arki']\n"
     ]
    },
    {
     "name": "stdout",
     "output_type": "stream",
     "text": [
      "[{'najib razak': 0.4178884, 'mahathir': 0.47601044, 'kerajaan': 0.18038566, 'PRU': 0.63138527, 'anarki': 0.09895691}]\n"
     ]
    },
    {
     "name": "stderr",
     "output_type": "stream",
     "text": [
      "DEBUG:urllib3.connectionpool:Starting new HTTPS connection (1): f000.backblazeb2.com:443\n"
     ]
    },
    {
     "name": "stdout",
     "output_type": "stream",
     "text": [
      "tiny-bert\n"
     ]
    },
    {
     "name": "stderr",
     "output_type": "stream",
     "text": [
      "DEBUG:urllib3.connectionpool:https://f000.backblazeb2.com:443 \"HEAD /file/malaya-model/similarity/tiny-bert/model.pb HTTP/1.1\" 200 0\n",
      "DEBUG:urllib3.connectionpool:Starting new HTTPS connection (1): f000.backblazeb2.com:443\n",
      "DEBUG:urllib3.connectionpool:https://f000.backblazeb2.com:443 \"HEAD /file/malaya-model/bpe/sp10m.cased.bert.vocab HTTP/1.1\" 200 0\n",
      "DEBUG:urllib3.connectionpool:Starting new HTTPS connection (1): f000.backblazeb2.com:443\n",
      "DEBUG:urllib3.connectionpool:https://f000.backblazeb2.com:443 \"HEAD /file/malaya-model/bpe/sp10m.cased.bert.model HTTP/1.1\" 200 0\n",
      "DEBUG:urllib3.connectionpool:Starting new HTTPS connection (1): f000.backblazeb2.com:443\n",
      "DEBUG:urllib3.connectionpool:https://f000.backblazeb2.com:443 \"HEAD /file/malaya-model/similarity/tiny-bert/version HTTP/1.1\" 404 0\n",
      "DEBUG:urllib3.connectionpool:Starting new HTTPS connection (1): f000.backblazeb2.com:443\n"
     ]
    },
    {
     "name": "stdout",
     "output_type": "stream",
     "text": [
      "downloading frozen model to /Users/huseinzolkepli/Malaya/similarity/tiny-bert/model.pb\n"
     ]
    },
    {
     "name": "stderr",
     "output_type": "stream",
     "text": [
      "DEBUG:urllib3.connectionpool:https://f000.backblazeb2.com:443 \"GET /file/malaya-model/similarity/tiny-bert/model.pb HTTP/1.1\" 200 59739385\n",
      "100%|██████████| 57.0/57.0 [00:10<00:00, 5.39MB/s]\n",
      "DEBUG:urllib3.connectionpool:Starting new HTTPS connection (1): f000.backblazeb2.com:443\n"
     ]
    },
    {
     "name": "stdout",
     "output_type": "stream",
     "text": [
      "downloading frozen vocab to /Users/huseinzolkepli/Malaya/similarity/tiny-bert/sp10m.cased.bert.vocab\n"
     ]
    },
    {
     "name": "stderr",
     "output_type": "stream",
     "text": [
      "DEBUG:urllib3.connectionpool:https://f000.backblazeb2.com:443 \"GET /file/malaya-model/bpe/sp10m.cased.bert.vocab HTTP/1.1\" 200 568997\n",
      "184%|██████████| 1.00/0.54 [00:01<00:00, 1.06s/MB]\n",
      "DEBUG:urllib3.connectionpool:Starting new HTTPS connection (1): f000.backblazeb2.com:443\n"
     ]
    },
    {
     "name": "stdout",
     "output_type": "stream",
     "text": [
      "downloading frozen tokenizer to /Users/huseinzolkepli/Malaya/similarity/tiny-bert/sp10m.cased.bert.model\n"
     ]
    },
    {
     "name": "stderr",
     "output_type": "stream",
     "text": [
      "DEBUG:urllib3.connectionpool:https://f000.backblazeb2.com:443 \"GET /file/malaya-model/bpe/sp10m.cased.bert.model HTTP/1.1\" 200 778744\n",
      "135%|██████████| 1.00/0.74 [00:01<00:00, 1.33s/MB]\n",
      "INFO:root:running similarity/tiny-bert using device /device:CPU:0\n",
      "DEBUG:root:['▁', 'gov', '▁macam', '▁bengong', ',', '▁kami', '▁nk', '▁pilihan', '▁raya', ',', '▁', 'gov', '▁back', 'door', ',', '▁sa', 'kai']\n",
      "DEBUG:root:['▁teks', '▁ini', '▁adalah', '▁mengenai', '▁najib', '▁razak']\n",
      "DEBUG:root:['▁', 'gov', '▁macam', '▁bengong', ',', '▁kami', '▁nk', '▁pilihan', '▁raya', ',', '▁', 'gov', '▁back', 'door', ',', '▁sa', 'kai']\n",
      "DEBUG:root:['▁teks', '▁ini', '▁adalah', '▁mengenai', '▁mahathir']\n",
      "DEBUG:root:['▁', 'gov', '▁macam', '▁bengong', ',', '▁kami', '▁nk', '▁pilihan', '▁raya', ',', '▁', 'gov', '▁back', 'door', ',', '▁sa', 'kai']\n",
      "DEBUG:root:['▁teks', '▁ini', '▁adalah', '▁mengenai', '▁kerajaan']\n",
      "DEBUG:root:['▁', 'gov', '▁macam', '▁bengong', ',', '▁kami', '▁nk', '▁pilihan', '▁raya', ',', '▁', 'gov', '▁back', 'door', ',', '▁sa', 'kai']\n",
      "DEBUG:root:['▁teks', '▁ini', '▁adalah', '▁mengenai', '▁PRU']\n",
      "DEBUG:root:['▁', 'gov', '▁macam', '▁bengong', ',', '▁kami', '▁nk', '▁pilihan', '▁raya', ',', '▁', 'gov', '▁back', 'door', ',', '▁sa', 'kai']\n",
      "DEBUG:root:['▁teks', '▁ini', '▁adalah', '▁mengenai', '▁', 'an', 'arki']\n",
      "DEBUG:urllib3.connectionpool:Starting new HTTPS connection (1): f000.backblazeb2.com:443\n"
     ]
    },
    {
     "name": "stdout",
     "output_type": "stream",
     "text": [
      "[{'najib razak': 0.000795762, 'mahathir': 0.028853301, 'kerajaan': 0.6886884, 'PRU': 0.13405198, 'anarki': 0.001422247}]\n",
      "albert\n"
     ]
    },
    {
     "name": "stderr",
     "output_type": "stream",
     "text": [
      "DEBUG:urllib3.connectionpool:https://f000.backblazeb2.com:443 \"HEAD /file/malaya-model/similarity/albert/model.pb HTTP/1.1\" 200 0\n",
      "DEBUG:urllib3.connectionpool:Starting new HTTPS connection (1): f000.backblazeb2.com:443\n",
      "DEBUG:urllib3.connectionpool:https://f000.backblazeb2.com:443 \"HEAD /file/malaya-model/bpe/sp10m.cased.v10.vocab HTTP/1.1\" 200 0\n",
      "DEBUG:urllib3.connectionpool:Starting new HTTPS connection (1): f000.backblazeb2.com:443\n",
      "DEBUG:urllib3.connectionpool:https://f000.backblazeb2.com:443 \"HEAD /file/malaya-model/bpe/sp10m.cased.v10.model HTTP/1.1\" 200 0\n",
      "DEBUG:urllib3.connectionpool:Starting new HTTPS connection (1): f000.backblazeb2.com:443\n",
      "DEBUG:urllib3.connectionpool:https://f000.backblazeb2.com:443 \"HEAD /file/malaya-model/similarity/albert/version HTTP/1.1\" 404 0\n",
      "DEBUG:urllib3.connectionpool:Starting new HTTPS connection (1): f000.backblazeb2.com:443\n"
     ]
    },
    {
     "name": "stdout",
     "output_type": "stream",
     "text": [
      "downloading frozen model to /Users/huseinzolkepli/Malaya/similarity/albert/model.pb\n"
     ]
    },
    {
     "name": "stderr",
     "output_type": "stream",
     "text": [
      "DEBUG:urllib3.connectionpool:https://f000.backblazeb2.com:443 \"GET /file/malaya-model/similarity/albert/model.pb HTTP/1.1\" 200 48636270\n",
      "47.0MB [00:09, 5.22MB/s]                          \n",
      "DEBUG:urllib3.connectionpool:Starting new HTTPS connection (1): f000.backblazeb2.com:443\n"
     ]
    },
    {
     "name": "stdout",
     "output_type": "stream",
     "text": [
      "downloading frozen vocab to /Users/huseinzolkepli/Malaya/similarity/albert/sp10m.cased.v10.vocab\n"
     ]
    },
    {
     "name": "stderr",
     "output_type": "stream",
     "text": [
      "DEBUG:urllib3.connectionpool:https://f000.backblazeb2.com:443 \"GET /file/malaya-model/bpe/sp10m.cased.v10.vocab HTTP/1.1\" 200 569013\n",
      "184%|██████████| 1.00/0.54 [00:00<00:00, 1.09MB/s]\n",
      "DEBUG:urllib3.connectionpool:Starting new HTTPS connection (1): f000.backblazeb2.com:443\n"
     ]
    },
    {
     "name": "stdout",
     "output_type": "stream",
     "text": [
      "downloading frozen tokenizer to /Users/huseinzolkepli/Malaya/similarity/albert/sp10m.cased.v10.model\n"
     ]
    },
    {
     "name": "stderr",
     "output_type": "stream",
     "text": [
      "DEBUG:urllib3.connectionpool:https://f000.backblazeb2.com:443 \"GET /file/malaya-model/bpe/sp10m.cased.v10.model HTTP/1.1\" 200 778641\n",
      "135%|██████████| 1.00/0.74 [00:01<00:00, 1.14s/MB]\n",
      "INFO:root:running similarity/albert using device /device:CPU:0\n",
      "DEBUG:root:['▁', 'gov', '▁macam', '▁bengong', ',', '▁kami', '▁nk', '▁pilihan', '▁raya', ',', '▁', 'gov', '▁back', 'door', ',', '▁saka', 'i']\n",
      "DEBUG:root:['▁teks', '▁ini', '▁adalah', '▁mengenai', '▁najib', '▁razak']\n",
      "DEBUG:root:['▁', 'gov', '▁macam', '▁bengong', ',', '▁kami', '▁nk', '▁pilihan', '▁raya', ',', '▁', 'gov', '▁back', 'door', ',', '▁saka', 'i']\n",
      "DEBUG:root:['▁teks', '▁ini', '▁adalah', '▁mengenai', '▁mahathir']\n",
      "DEBUG:root:['▁', 'gov', '▁macam', '▁bengong', ',', '▁kami', '▁nk', '▁pilihan', '▁raya', ',', '▁', 'gov', '▁back', 'door', ',', '▁saka', 'i']\n",
      "DEBUG:root:['▁teks', '▁ini', '▁adalah', '▁mengenai', '▁kerajaan']\n",
      "DEBUG:root:['▁', 'gov', '▁macam', '▁bengong', ',', '▁kami', '▁nk', '▁pilihan', '▁raya', ',', '▁', 'gov', '▁back', 'door', ',', '▁saka', 'i']\n",
      "DEBUG:root:['▁teks', '▁ini', '▁adalah', '▁mengenai', '▁PRU']\n",
      "DEBUG:root:['▁', 'gov', '▁macam', '▁bengong', ',', '▁kami', '▁nk', '▁pilihan', '▁raya', ',', '▁', 'gov', '▁back', 'door', ',', '▁saka', 'i']\n",
      "DEBUG:root:['▁teks', '▁ini', '▁adalah', '▁mengenai', '▁', 'an', 'arki']\n",
      "DEBUG:urllib3.connectionpool:Starting new HTTPS connection (1): f000.backblazeb2.com:443\n"
     ]
    },
    {
     "name": "stdout",
     "output_type": "stream",
     "text": [
      "[{'najib razak': 0.00097523263, 'mahathir': 0.009574142, 'kerajaan': 0.6813346, 'PRU': 0.30167857, 'anarki': 0.502051}]\n",
      "tiny-albert\n"
     ]
    },
    {
     "name": "stderr",
     "output_type": "stream",
     "text": [
      "DEBUG:urllib3.connectionpool:https://f000.backblazeb2.com:443 \"HEAD /file/malaya-model/similarity/tiny-albert/model.pb HTTP/1.1\" 200 0\n",
      "DEBUG:urllib3.connectionpool:Starting new HTTPS connection (1): f000.backblazeb2.com:443\n",
      "DEBUG:urllib3.connectionpool:https://f000.backblazeb2.com:443 \"HEAD /file/malaya-model/bpe/sp10m.cased.v10.vocab HTTP/1.1\" 200 0\n",
      "DEBUG:urllib3.connectionpool:Starting new HTTPS connection (1): f000.backblazeb2.com:443\n",
      "DEBUG:urllib3.connectionpool:https://f000.backblazeb2.com:443 \"HEAD /file/malaya-model/bpe/sp10m.cased.v10.model HTTP/1.1\" 200 0\n",
      "DEBUG:urllib3.connectionpool:Starting new HTTPS connection (1): f000.backblazeb2.com:443\n",
      "DEBUG:urllib3.connectionpool:https://f000.backblazeb2.com:443 \"HEAD /file/malaya-model/similarity/tiny-albert/version HTTP/1.1\" 404 0\n",
      "DEBUG:urllib3.connectionpool:Starting new HTTPS connection (1): f000.backblazeb2.com:443\n"
     ]
    },
    {
     "name": "stdout",
     "output_type": "stream",
     "text": [
      "downloading frozen model to /Users/huseinzolkepli/Malaya/similarity/tiny-albert/model.pb\n"
     ]
    },
    {
     "name": "stderr",
     "output_type": "stream",
     "text": [
      "DEBUG:urllib3.connectionpool:https://f000.backblazeb2.com:443 \"GET /file/malaya-model/similarity/tiny-albert/model.pb HTTP/1.1\" 200 23018837\n",
      "100%|██████████| 22.0/22.0 [00:04<00:00, 4.57MB/s]\n",
      "DEBUG:urllib3.connectionpool:Starting new HTTPS connection (1): f000.backblazeb2.com:443\n"
     ]
    },
    {
     "name": "stdout",
     "output_type": "stream",
     "text": [
      "downloading frozen vocab to /Users/huseinzolkepli/Malaya/similarity/tiny-albert/sp10m.cased.v10.vocab\n"
     ]
    },
    {
     "name": "stderr",
     "output_type": "stream",
     "text": [
      "DEBUG:urllib3.connectionpool:https://f000.backblazeb2.com:443 \"GET /file/malaya-model/bpe/sp10m.cased.v10.vocab HTTP/1.1\" 200 569013\n",
      "184%|██████████| 1.00/0.54 [00:00<00:00, 1.30MB/s]\n",
      "DEBUG:urllib3.connectionpool:Starting new HTTPS connection (1): f000.backblazeb2.com:443\n"
     ]
    },
    {
     "name": "stdout",
     "output_type": "stream",
     "text": [
      "downloading frozen tokenizer to /Users/huseinzolkepli/Malaya/similarity/tiny-albert/sp10m.cased.v10.model\n"
     ]
    },
    {
     "name": "stderr",
     "output_type": "stream",
     "text": [
      "DEBUG:urllib3.connectionpool:https://f000.backblazeb2.com:443 \"GET /file/malaya-model/bpe/sp10m.cased.v10.model HTTP/1.1\" 200 778641\n",
      "135%|██████████| 1.00/0.74 [00:01<00:00, 1.07s/MB]\n",
      "INFO:root:running similarity/tiny-albert using device /device:CPU:0\n",
      "DEBUG:root:['▁', 'gov', '▁macam', '▁bengong', ',', '▁kami', '▁nk', '▁pilihan', '▁raya', ',', '▁', 'gov', '▁back', 'door', ',', '▁saka', 'i']\n",
      "DEBUG:root:['▁teks', '▁ini', '▁adalah', '▁mengenai', '▁najib', '▁razak']\n",
      "DEBUG:root:['▁', 'gov', '▁macam', '▁bengong', ',', '▁kami', '▁nk', '▁pilihan', '▁raya', ',', '▁', 'gov', '▁back', 'door', ',', '▁saka', 'i']\n",
      "DEBUG:root:['▁teks', '▁ini', '▁adalah', '▁mengenai', '▁mahathir']\n",
      "DEBUG:root:['▁', 'gov', '▁macam', '▁bengong', ',', '▁kami', '▁nk', '▁pilihan', '▁raya', ',', '▁', 'gov', '▁back', 'door', ',', '▁saka', 'i']\n",
      "DEBUG:root:['▁teks', '▁ini', '▁adalah', '▁mengenai', '▁kerajaan']\n",
      "DEBUG:root:['▁', 'gov', '▁macam', '▁bengong', ',', '▁kami', '▁nk', '▁pilihan', '▁raya', ',', '▁', 'gov', '▁back', 'door', ',', '▁saka', 'i']\n",
      "DEBUG:root:['▁teks', '▁ini', '▁adalah', '▁mengenai', '▁PRU']\n",
      "DEBUG:root:['▁', 'gov', '▁macam', '▁bengong', ',', '▁kami', '▁nk', '▁pilihan', '▁raya', ',', '▁', 'gov', '▁back', 'door', ',', '▁saka', 'i']\n",
      "DEBUG:root:['▁teks', '▁ini', '▁adalah', '▁mengenai', '▁', 'an', 'arki']\n",
      "DEBUG:urllib3.connectionpool:Starting new HTTPS connection (1): f000.backblazeb2.com:443\n"
     ]
    },
    {
     "name": "stdout",
     "output_type": "stream",
     "text": [
      "[{'najib razak': 0.9799304, 'mahathir': 0.8816055, 'kerajaan': 0.80312794, 'PRU': 0.704939, 'anarki': 0.700466}]\n",
      "xlnet\n"
     ]
    },
    {
     "name": "stderr",
     "output_type": "stream",
     "text": [
      "DEBUG:urllib3.connectionpool:https://f000.backblazeb2.com:443 \"HEAD /file/malaya-model/similarity/xlnet/model.pb HTTP/1.1\" 200 0\n",
      "DEBUG:urllib3.connectionpool:Starting new HTTPS connection (1): f000.backblazeb2.com:443\n",
      "DEBUG:urllib3.connectionpool:https://f000.backblazeb2.com:443 \"HEAD /file/malaya-model/bpe/sp10m.cased.v9.vocab HTTP/1.1\" 200 0\n",
      "DEBUG:urllib3.connectionpool:Starting new HTTPS connection (1): f000.backblazeb2.com:443\n",
      "DEBUG:urllib3.connectionpool:https://f000.backblazeb2.com:443 \"HEAD /file/malaya-model/bpe/sp10m.cased.v9.model HTTP/1.1\" 200 0\n",
      "DEBUG:urllib3.connectionpool:Starting new HTTPS connection (1): f000.backblazeb2.com:443\n",
      "DEBUG:urllib3.connectionpool:https://f000.backblazeb2.com:443 \"HEAD /file/malaya-model/similarity/xlnet/version HTTP/1.1\" 404 0\n",
      "DEBUG:urllib3.connectionpool:Starting new HTTPS connection (1): f000.backblazeb2.com:443\n"
     ]
    },
    {
     "name": "stdout",
     "output_type": "stream",
     "text": [
      "downloading frozen model to /Users/huseinzolkepli/Malaya/similarity/xlnet/model.pb\n"
     ]
    },
    {
     "name": "stderr",
     "output_type": "stream",
     "text": [
      "DEBUG:urllib3.connectionpool:https://f000.backblazeb2.com:443 \"GET /file/malaya-model/similarity/xlnet/model.pb HTTP/1.1\" 200 470547889\n",
      "100%|██████████| 449/449 [01:12<00:00, 6.20MB/s] \n",
      "DEBUG:urllib3.connectionpool:Starting new HTTPS connection (1): f000.backblazeb2.com:443\n"
     ]
    },
    {
     "name": "stdout",
     "output_type": "stream",
     "text": [
      "downloading frozen vocab to /Users/huseinzolkepli/Malaya/similarity/xlnet/sp10m.cased.v9.vocab\n"
     ]
    },
    {
     "name": "stderr",
     "output_type": "stream",
     "text": [
      "DEBUG:urllib3.connectionpool:https://f000.backblazeb2.com:443 \"GET /file/malaya-model/bpe/sp10m.cased.v9.vocab HTTP/1.1\" 200 568997\n",
      "184%|██████████| 1.00/0.54 [00:01<00:00, 1.01s/MB]\n",
      "DEBUG:urllib3.connectionpool:Starting new HTTPS connection (1): f000.backblazeb2.com:443\n"
     ]
    },
    {
     "name": "stdout",
     "output_type": "stream",
     "text": [
      "downloading frozen tokenizer to /Users/huseinzolkepli/Malaya/similarity/xlnet/sp10m.cased.v9.model\n"
     ]
    },
    {
     "name": "stderr",
     "output_type": "stream",
     "text": [
      "DEBUG:urllib3.connectionpool:https://f000.backblazeb2.com:443 \"GET /file/malaya-model/bpe/sp10m.cased.v9.model HTTP/1.1\" 200 778744\n",
      "135%|██████████| 1.00/0.74 [00:01<00:00, 1.17s/MB]\n",
      "INFO:root:running similarity/xlnet using device /device:CPU:0\n",
      "DEBUG:root:['▁', 'gov', '▁macam', '▁bengong', ',', '▁kami', '▁nk', '▁pilihan', '▁raya', ',', '▁', 'gov', '▁back', 'door', ',', '▁sa', 'kai']\n",
      "DEBUG:root:['▁teks', '▁ini', '▁adalah', '▁mengenai', '▁najib', '▁razak']\n",
      "DEBUG:root:[19, 14523, 140, 19263, 21, 146, 262, 841, 259, 21, 19, 14523, 1567, 15600, 21, 1399, 4444, 4, 7408, 31, 74, 661, 11344, 28119, 4, 3]\n",
      "DEBUG:root:['▁', 'gov', '▁macam', '▁bengong', ',', '▁kami', '▁nk', '▁pilihan', '▁raya', ',', '▁', 'gov', '▁back', 'door', ',', '▁sa', 'kai']\n",
      "DEBUG:root:['▁teks', '▁ini', '▁adalah', '▁mengenai', '▁mahathir']\n",
      "DEBUG:root:[19, 14523, 140, 19263, 21, 146, 262, 841, 259, 21, 19, 14523, 1567, 15600, 21, 1399, 4444, 4, 7408, 31, 74, 661, 22600, 4, 3]\n",
      "DEBUG:root:['▁', 'gov', '▁macam', '▁bengong', ',', '▁kami', '▁nk', '▁pilihan', '▁raya', ',', '▁', 'gov', '▁back', 'door', ',', '▁sa', 'kai']\n",
      "DEBUG:root:['▁teks', '▁ini', '▁adalah', '▁mengenai', '▁kerajaan']\n",
      "DEBUG:root:[19, 14523, 140, 19263, 21, 146, 262, 841, 259, 21, 19, 14523, 1567, 15600, 21, 1399, 4444, 4, 7408, 31, 74, 661, 239, 4, 3]\n",
      "DEBUG:root:['▁', 'gov', '▁macam', '▁bengong', ',', '▁kami', '▁nk', '▁pilihan', '▁raya', ',', '▁', 'gov', '▁back', 'door', ',', '▁sa', 'kai']\n",
      "DEBUG:root:['▁teks', '▁ini', '▁adalah', '▁mengenai', '▁PRU']\n",
      "DEBUG:root:[19, 14523, 140, 19263, 21, 146, 262, 841, 259, 21, 19, 14523, 1567, 15600, 21, 1399, 4444, 4, 7408, 31, 74, 661, 3677, 4, 3]\n",
      "DEBUG:root:['▁', 'gov', '▁macam', '▁bengong', ',', '▁kami', '▁nk', '▁pilihan', '▁raya', ',', '▁', 'gov', '▁back', 'door', ',', '▁sa', 'kai']\n",
      "DEBUG:root:['▁teks', '▁ini', '▁adalah', '▁mengenai', '▁', 'an', 'arki']\n",
      "DEBUG:root:[19, 14523, 140, 19263, 21, 146, 262, 841, 259, 21, 19, 14523, 1567, 15600, 21, 1399, 4444, 4, 7408, 31, 74, 661, 19, 28, 14495, 4, 3]\n"
     ]
    },
    {
     "name": "stdout",
     "output_type": "stream",
     "text": [
      "[{'najib razak': 0.941723, 'mahathir': 0.97263426, 'kerajaan': 0.9864678, 'PRU': 0.91986966, 'anarki': 0.9712156}]\n"
     ]
    },
    {
     "name": "stderr",
     "output_type": "stream",
     "text": [
      "DEBUG:urllib3.connectionpool:Starting new HTTPS connection (1): f000.backblazeb2.com:443\n"
     ]
    },
    {
     "name": "stdout",
     "output_type": "stream",
     "text": [
      "alxlnet\n"
     ]
    },
    {
     "name": "stderr",
     "output_type": "stream",
     "text": [
      "DEBUG:urllib3.connectionpool:https://f000.backblazeb2.com:443 \"HEAD /file/malaya-model/similarity/alxlnet/model.pb HTTP/1.1\" 200 0\n",
      "DEBUG:urllib3.connectionpool:Starting new HTTPS connection (1): f000.backblazeb2.com:443\n",
      "DEBUG:urllib3.connectionpool:https://f000.backblazeb2.com:443 \"HEAD /file/malaya-model/bpe/sp10m.cased.v9.vocab HTTP/1.1\" 200 0\n",
      "DEBUG:urllib3.connectionpool:Starting new HTTPS connection (1): f000.backblazeb2.com:443\n",
      "DEBUG:urllib3.connectionpool:https://f000.backblazeb2.com:443 \"HEAD /file/malaya-model/bpe/sp10m.cased.v9.model HTTP/1.1\" 200 0\n",
      "DEBUG:urllib3.connectionpool:Starting new HTTPS connection (1): f000.backblazeb2.com:443\n",
      "DEBUG:urllib3.connectionpool:https://f000.backblazeb2.com:443 \"HEAD /file/malaya-model/similarity/alxlnet/version HTTP/1.1\" 404 0\n",
      "DEBUG:urllib3.connectionpool:Starting new HTTPS connection (1): f000.backblazeb2.com:443\n"
     ]
    },
    {
     "name": "stdout",
     "output_type": "stream",
     "text": [
      "downloading frozen model to /Users/huseinzolkepli/Malaya/similarity/alxlnet/model.pb\n"
     ]
    },
    {
     "name": "stderr",
     "output_type": "stream",
     "text": [
      "DEBUG:urllib3.connectionpool:https://f000.backblazeb2.com:443 \"GET /file/malaya-model/similarity/alxlnet/model.pb HTTP/1.1\" 200 51402545\n",
      "50.0MB [00:09, 5.39MB/s]                          \n",
      "DEBUG:urllib3.connectionpool:Starting new HTTPS connection (1): f000.backblazeb2.com:443\n"
     ]
    },
    {
     "name": "stdout",
     "output_type": "stream",
     "text": [
      "downloading frozen vocab to /Users/huseinzolkepli/Malaya/similarity/alxlnet/sp10m.cased.v9.vocab\n"
     ]
    },
    {
     "name": "stderr",
     "output_type": "stream",
     "text": [
      "DEBUG:urllib3.connectionpool:https://f000.backblazeb2.com:443 \"GET /file/malaya-model/bpe/sp10m.cased.v9.vocab HTTP/1.1\" 200 568997\n",
      "184%|██████████| 1.00/0.54 [00:01<00:00, 1.01s/MB]\n",
      "DEBUG:urllib3.connectionpool:Starting new HTTPS connection (1): f000.backblazeb2.com:443\n"
     ]
    },
    {
     "name": "stdout",
     "output_type": "stream",
     "text": [
      "downloading frozen tokenizer to /Users/huseinzolkepli/Malaya/similarity/alxlnet/sp10m.cased.v9.model\n"
     ]
    },
    {
     "name": "stderr",
     "output_type": "stream",
     "text": [
      "DEBUG:urllib3.connectionpool:https://f000.backblazeb2.com:443 \"GET /file/malaya-model/bpe/sp10m.cased.v9.model HTTP/1.1\" 200 778744\n",
      "135%|██████████| 1.00/0.74 [00:01<00:00, 1.53s/MB]\n",
      "INFO:root:running similarity/alxlnet using device /device:CPU:0\n",
      "DEBUG:root:['▁', 'gov', '▁macam', '▁bengong', ',', '▁kami', '▁nk', '▁pilihan', '▁raya', ',', '▁', 'gov', '▁back', 'door', ',', '▁sa', 'kai']\n",
      "DEBUG:root:['▁teks', '▁ini', '▁adalah', '▁mengenai', '▁najib', '▁razak']\n",
      "DEBUG:root:[19, 14523, 140, 19263, 21, 146, 262, 841, 259, 21, 19, 14523, 1567, 15600, 21, 1399, 4444, 4, 7408, 31, 74, 661, 11344, 28119, 4, 3]\n",
      "DEBUG:root:['▁', 'gov', '▁macam', '▁bengong', ',', '▁kami', '▁nk', '▁pilihan', '▁raya', ',', '▁', 'gov', '▁back', 'door', ',', '▁sa', 'kai']\n",
      "DEBUG:root:['▁teks', '▁ini', '▁adalah', '▁mengenai', '▁mahathir']\n",
      "DEBUG:root:[19, 14523, 140, 19263, 21, 146, 262, 841, 259, 21, 19, 14523, 1567, 15600, 21, 1399, 4444, 4, 7408, 31, 74, 661, 22600, 4, 3]\n",
      "DEBUG:root:['▁', 'gov', '▁macam', '▁bengong', ',', '▁kami', '▁nk', '▁pilihan', '▁raya', ',', '▁', 'gov', '▁back', 'door', ',', '▁sa', 'kai']\n",
      "DEBUG:root:['▁teks', '▁ini', '▁adalah', '▁mengenai', '▁kerajaan']\n",
      "DEBUG:root:[19, 14523, 140, 19263, 21, 146, 262, 841, 259, 21, 19, 14523, 1567, 15600, 21, 1399, 4444, 4, 7408, 31, 74, 661, 239, 4, 3]\n",
      "DEBUG:root:['▁', 'gov', '▁macam', '▁bengong', ',', '▁kami', '▁nk', '▁pilihan', '▁raya', ',', '▁', 'gov', '▁back', 'door', ',', '▁sa', 'kai']\n",
      "DEBUG:root:['▁teks', '▁ini', '▁adalah', '▁mengenai', '▁PRU']\n",
      "DEBUG:root:[19, 14523, 140, 19263, 21, 146, 262, 841, 259, 21, 19, 14523, 1567, 15600, 21, 1399, 4444, 4, 7408, 31, 74, 661, 3677, 4, 3]\n",
      "DEBUG:root:['▁', 'gov', '▁macam', '▁bengong', ',', '▁kami', '▁nk', '▁pilihan', '▁raya', ',', '▁', 'gov', '▁back', 'door', ',', '▁sa', 'kai']\n",
      "DEBUG:root:['▁teks', '▁ini', '▁adalah', '▁mengenai', '▁', 'an', 'arki']\n",
      "DEBUG:root:[19, 14523, 140, 19263, 21, 146, 262, 841, 259, 21, 19, 14523, 1567, 15600, 21, 1399, 4444, 4, 7408, 31, 74, 661, 19, 28, 14495, 4, 3]\n"
     ]
    },
    {
     "name": "stdout",
     "output_type": "stream",
     "text": [
      "[{'najib razak': 0.6648105, 'mahathir': 0.007874311, 'kerajaan': 0.010154764, 'PRU': 0.8734961, 'anarki': 0.047032326}]\n"
     ]
    }
   ],
   "source": [
    "models = malaya.zero_shot.classification.available_transformer()\n",
    "for m in models.index:\n",
    "    print(m)\n",
    "    model = malaya.zero_shot.classification.transformer(model = m, gpu_limit = 0.3)\n",
    "    print(model.predict_proba([string], labels = ['najib razak', 'mahathir', 'kerajaan', 'PRU', 'anarki']))\n",
    "    malaya.utils.delete_cache(f'similarity/{m}')\n",
    "    del model"
   ]
  },
  {
   "cell_type": "code",
   "execution_count": null,
   "id": "owned-kruger",
   "metadata": {},
   "outputs": [],
   "source": []
  }
 ],
 "metadata": {
  "kernelspec": {
   "display_name": "Python 3",
   "language": "python",
   "name": "python3"
  },
  "language_info": {
   "codemirror_mode": {
    "name": "ipython",
    "version": 3
   },
   "file_extension": ".py",
   "mimetype": "text/x-python",
   "name": "python",
   "nbconvert_exporter": "python",
   "pygments_lexer": "ipython3",
   "version": "3.7.7"
  }
 },
 "nbformat": 4,
 "nbformat_minor": 5
}
