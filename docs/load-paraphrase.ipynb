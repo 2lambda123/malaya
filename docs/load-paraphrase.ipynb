{
 "cells": [
  {
   "cell_type": "markdown",
   "metadata": {},
   "source": [
    "# Paraphrase"
   ]
  },
  {
   "cell_type": "markdown",
   "metadata": {},
   "source": [
    "<div class=\"alert alert-info\">\n",
    "\n",
    "This tutorial is available as an IPython notebook at [Malaya/example/paraphrase](https://github.com/huseinzol05/Malaya/tree/master/example/paraphrase).\n",
    "    \n",
    "</div>"
   ]
  },
  {
   "cell_type": "code",
   "execution_count": 1,
   "metadata": {},
   "outputs": [
    {
     "name": "stdout",
     "output_type": "stream",
     "text": [
      "CPU times: user 4.88 s, sys: 1.29 s, total: 6.17 s\n",
      "Wall time: 7.82 s\n"
     ]
    }
   ],
   "source": [
    "%%time\n",
    "\n",
    "import malaya"
   ]
  },
  {
   "cell_type": "markdown",
   "metadata": {},
   "source": [
    "### List available T5 models"
   ]
  },
  {
   "cell_type": "code",
   "execution_count": 4,
   "metadata": {},
   "outputs": [
    {
     "data": {
      "text/plain": [
       "{'small': ['122MB', '*BLEU: 0.953'], 'base': ['448MB', '*BLEU: 0.953']}"
      ]
     },
     "execution_count": 4,
     "metadata": {},
     "output_type": "execute_result"
    }
   ],
   "source": [
    "malaya.paraphrase.available_t5()"
   ]
  },
  {
   "cell_type": "markdown",
   "metadata": {},
   "source": [
    "\\* We purposely leaked test set for T5 models because we tested T5 models are more powerful than encoder-decoder transformer, so we train on 100% dataset."
   ]
  },
  {
   "cell_type": "markdown",
   "metadata": {},
   "source": [
    "### List available Transformer models"
   ]
  },
  {
   "cell_type": "code",
   "execution_count": 5,
   "metadata": {},
   "outputs": [
    {
     "data": {
      "text/plain": [
       "{'tiny': ['18.4MB', 'BLEU: 0.594'],\n",
       " 'small': ['43MB', 'BLEU: 0.737'],\n",
       " 'base': ['234MB', 'BLEU: 0.792'],\n",
       " 'tiny-bert': ['60.6MB', 'BLEU: 0.609'],\n",
       " 'bert': ['449MB', 'BLUE: 0.696']}"
      ]
     },
     "execution_count": 5,
     "metadata": {},
     "output_type": "execute_result"
    }
   ],
   "source": [
    "malaya.paraphrase.available_transformer()"
   ]
  },
  {
   "cell_type": "markdown",
   "metadata": {},
   "source": [
    "We tested on 5k paraphrases."
   ]
  },
  {
   "cell_type": "markdown",
   "metadata": {},
   "source": [
    "### Load Transformer models"
   ]
  },
  {
   "cell_type": "code",
   "execution_count": 6,
   "metadata": {
    "scrolled": true
   },
   "outputs": [
    {
     "name": "stdout",
     "output_type": "stream",
     "text": [
      "WARNING:tensorflow:From /Users/huseinzolkepli/Documents/Malaya/malaya/function/__init__.py:54: The name tf.gfile.GFile is deprecated. Please use tf.io.gfile.GFile instead.\n",
      "\n",
      "WARNING:tensorflow:From /Users/huseinzolkepli/Documents/Malaya/malaya/function/__init__.py:55: The name tf.GraphDef is deprecated. Please use tf.compat.v1.GraphDef instead.\n",
      "\n",
      "WARNING:tensorflow:From /Users/huseinzolkepli/Documents/Malaya/malaya/function/__init__.py:49: The name tf.InteractiveSession is deprecated. Please use tf.compat.v1.InteractiveSession instead.\n",
      "\n"
     ]
    }
   ],
   "source": [
    "transformer = malaya.paraphrase.transformer()\n",
    "transformer_tiny = malaya.paraphrase.transformer(model = 'tiny')\n",
    "transformer_small = malaya.paraphrase.transformer(model = 'small')"
   ]
  },
  {
   "cell_type": "markdown",
   "metadata": {},
   "source": [
    "### Load T5 models"
   ]
  },
  {
   "cell_type": "code",
   "execution_count": 7,
   "metadata": {},
   "outputs": [
    {
     "name": "stdout",
     "output_type": "stream",
     "text": [
      "WARNING:tensorflow:From /Users/huseinzolkepli/Documents/Malaya/malaya/paraphrase.py:84: load (from tensorflow.python.saved_model.loader_impl) is deprecated and will be removed in a future version.\n",
      "Instructions for updating:\n",
      "This function will only be available through the v1 compatibility library as tf.compat.v1.saved_model.loader.load or tf.compat.v1.saved_model.load. There will be a new function for importing SavedModels in Tensorflow 2.0.\n",
      "INFO:tensorflow:Restoring parameters from /Users/huseinzolkepli/Malaya/paraphrase/t5/base/model/variables/variables\n"
     ]
    }
   ],
   "source": [
    "t5 = malaya.paraphrase.t5()"
   ]
  },
  {
   "cell_type": "markdown",
   "metadata": {},
   "source": [
    "### Paraphrase simple string\n",
    "\n",
    "To paraphrase, simply use `paraphrase` method."
   ]
  },
  {
   "cell_type": "code",
   "execution_count": 8,
   "metadata": {},
   "outputs": [],
   "source": [
    "from pprint import pprint"
   ]
  },
  {
   "cell_type": "code",
   "execution_count": 9,
   "metadata": {},
   "outputs": [
    {
     "name": "stdout",
     "output_type": "stream",
     "text": [
      "('Beliau yang juga saksi pendakwaan kesembilan berkata, ia bagi mengelak '\n",
      " 'daripada wujud isu digunakan terhadap Najib.')\n"
     ]
    }
   ],
   "source": [
    "string = \"Beliau yang juga saksi pendakwaan kesembilan berkata, ia bagi mengelak daripada wujud isu digunakan terhadap Najib.\"\n",
    "pprint(string)"
   ]
  },
  {
   "cell_type": "code",
   "execution_count": 10,
   "metadata": {},
   "outputs": [
    {
     "name": "stdout",
     "output_type": "stream",
     "text": [
      "('Dia yang juga merupakan seorang saksi pendakwaan kesembilan berkata, bagi '\n",
      " 'mengelak daripada isu digunakan terhadap Najib.')\n",
      "CPU times: user 20 s, sys: 7.43 s, total: 27.4 s\n",
      "Wall time: 7.14 s\n"
     ]
    }
   ],
   "source": [
    "%%time\n",
    "\n",
    "pprint(transformer.paraphrase(string))"
   ]
  },
  {
   "cell_type": "code",
   "execution_count": 11,
   "metadata": {},
   "outputs": [
    {
     "name": "stdout",
     "output_type": "stream",
     "text": [
      "('Dia juga seorang saksi pendakwaan kesembilan berkata, ia bagi mengelak '\n",
      " 'daripada wujud isu digunakan terhadap Najib.')\n",
      "CPU times: user 1.54 s, sys: 1.17 s, total: 2.7 s\n",
      "Wall time: 896 ms\n"
     ]
    }
   ],
   "source": [
    "%%time\n",
    "\n",
    "pprint(transformer_tiny.paraphrase(string))"
   ]
  },
  {
   "cell_type": "code",
   "execution_count": 12,
   "metadata": {},
   "outputs": [
    {
     "name": "stdout",
     "output_type": "stream",
     "text": [
      "('Dia juga seorang saksi pendakwaan kesembilan berkata, ia bagi mengelak '\n",
      " 'daripada wujud isu digunakan terhadap Najib.')\n",
      "CPU times: user 3.41 s, sys: 2.52 s, total: 5.94 s\n",
      "Wall time: 1.72 s\n"
     ]
    }
   ],
   "source": [
    "%%time\n",
    "\n",
    "pprint(transformer_small.paraphrase(string))"
   ]
  },
  {
   "cell_type": "code",
   "execution_count": 13,
   "metadata": {},
   "outputs": [
    {
     "name": "stdout",
     "output_type": "stream",
     "text": [
      "('Ini juga bagi mengelakkan wujud isu yang digunakan terhadap Najib, kata '\n",
      " 'saksi kesembilan.')\n"
     ]
    }
   ],
   "source": [
    "pprint(t5.paraphrase(string))"
   ]
  },
  {
   "cell_type": "markdown",
   "metadata": {},
   "source": [
    "### Paraphrase longer string"
   ]
  },
  {
   "cell_type": "code",
   "execution_count": 14,
   "metadata": {},
   "outputs": [],
   "source": [
    "string = \"\"\"\n",
    "PELETAKAN jawatan Tun Dr Mahathir Mohamad sebagai Pengerusi Parti Pribumi Bersatu Malaysia (Bersatu) ditolak di dalam mesyuarat khas Majlis Pimpinan Tertinggi (MPT) pada 24 Februari lalu.\n",
    "\n",
    "Justeru, tidak timbul soal peletakan jawatan itu sah atau tidak kerana ia sudah pun diputuskan pada peringkat parti yang dipersetujui semua termasuk Presiden, Tan Sri Muhyiddin Yassin.\n",
    "\n",
    "Bekas Setiausaha Agung Bersatu Datuk Marzuki Yahya berkata, pada mesyuarat itu MPT sebulat suara menolak peletakan jawatan Dr Mahathir.\n",
    "\n",
    "\"Jadi ini agak berlawanan dengan keputusan yang kita sudah buat. Saya tak faham bagaimana Jabatan Pendaftar Pertubuhan Malaysia (JPPM) kata peletakan jawatan itu sah sedangkan kita sudah buat keputusan di dalam mesyuarat, bukan seorang dua yang buat keputusan.\n",
    "\n",
    "\"Semua keputusan mesti dibuat melalui parti. Walau apa juga perbincangan dibuat di luar daripada keputusan mesyuarat, ini bukan keputusan parti.\n",
    "\n",
    "\"Apa locus standy yang ada pada Setiausaha Kerja untuk membawa perkara ini kepada JPPM. Seharusnya ia dibawa kepada Setiausaha Agung sebagai pentadbir kepada parti,\" katanya kepada Harian Metro.\n",
    "\n",
    "Beliau mengulas laporan media tempatan hari ini mengenai pengesahan JPPM bahawa Dr Mahathir tidak lagi menjadi Pengerusi Bersatu berikutan peletakan jawatannya di tengah-tengah pergolakan politik pada akhir Februari adalah sah.\n",
    "\n",
    "Laporan itu juga menyatakan, kedudukan Muhyiddin Yassin memangku jawatan itu juga sah.\n",
    "\n",
    "Menurutnya, memang betul Dr Mahathir menghantar surat peletakan jawatan, tetapi ditolak oleh MPT.\n",
    "\n",
    "\"Fasal yang disebut itu terpakai sekiranya berhenti atau diberhentikan, tetapi ini mesyuarat sudah menolak,\" katanya.\n",
    "\n",
    "Marzuki turut mempersoal kenyataan media yang dibuat beberapa pimpinan parti itu hari ini yang menyatakan sokongan kepada Perikatan Nasional.\n",
    "\n",
    "\"Kenyataan media bukanlah keputusan rasmi. Walaupun kita buat 1,000 kenyataan sekali pun ia tetap tidak merubah keputusan yang sudah dibuat di dalam mesyuarat. Kita catat di dalam minit apa yang berlaku di dalam mesyuarat,\" katanya.\n",
    "\"\"\""
   ]
  },
  {
   "cell_type": "code",
   "execution_count": 15,
   "metadata": {},
   "outputs": [
    {
     "name": "stdout",
     "output_type": "stream",
     "text": [
      "('PELETAKAN jawatan Tun Dr Mahathir Mohamad sebagai Pengerusi Parti Pribumi '\n",
      " 'Bersatu Malaysia (Bersatu) ditolak di dalam mesyuarat khas Majlis Pimpinan '\n",
      " 'Tertinggi (MPT) pada 24 Februari lalu. Justeru, tidak timbul soal peletakan '\n",
      " 'jawatan itu sah atau tidak kerana ia sudah pun diputuskan pada peringkat '\n",
      " 'parti yang dipersetujui semua termasuk Presiden, Tan Sri Muhyiddin Yassin. '\n",
      " 'Bekas Setiausaha Agung Bersatu Datuk Marzuki Yahya berkata, pada mesyuarat '\n",
      " 'itu MPT sebulat suara menolak peletakan jawatan Dr Mahathir. \"Jadi ini agak '\n",
      " 'berlawanan dengan keputusan yang kita sudah buat. Saya tak faham bagaimana '\n",
      " 'Jabatan Pendaftar Pertubuhan Malaysia (JPPM) kata peletakan jawatan itu sah '\n",
      " 'sedangkan kita sudah buat keputusan di dalam mesyuarat, bukan seorang dua '\n",
      " 'yang buat keputusan. \"Semua keputusan mesti dibuat melalui parti. Walau apa '\n",
      " 'juga perbincangan dibuat di luar daripada keputusan mesyuarat, ini bukan '\n",
      " 'keputusan parti. \"Apa locus standy yang ada pada Setiausaha Kerja untuk '\n",
      " 'membawa perkara ini kepada JPPM. Seharusnya ia dibawa kepada Setiausaha '\n",
      " 'Agung sebagai pentadbir kepada parti,\" katanya kepada Harian Metro. Beliau '\n",
      " 'mengulas laporan media tempatan hari ini mengenai pengesahan JPPM bahawa Dr '\n",
      " 'Mahathir tidak lagi menjadi Pengerusi Bersatu berikutan peletakan jawatannya '\n",
      " 'di tengah-tengah pergolakan politik pada akhir Februari adalah sah. Laporan '\n",
      " 'itu juga menyatakan, kedudukan Muhyiddin Yassin memangku jawatan itu juga '\n",
      " 'sah. Menurutnya, memang betul Dr Mahathir menghantar surat peletakan '\n",
      " 'jawatan, tetapi ditolak oleh MPT. \"Fasal yang disebut itu terpakai sekiranya '\n",
      " 'berhenti atau diberhentikan, tetapi ini mesyuarat sudah menolak,\" katanya. '\n",
      " 'Marzuki turut mempersoal kenyataan media yang dibuat beberapa pimpinan parti '\n",
      " 'itu hari ini yang menyatakan sokongan kepada Perikatan Nasional. \"Kenyataan '\n",
      " 'media bukanlah keputusan rasmi. Walaupun kita buat 1,000 kenyataan sekali '\n",
      " 'pun ia tetap tidak merubah keputusan yang sudah dibuat di dalam mesyuarat. '\n",
      " 'Kita catat di dalam minit apa yang berlaku di dalam mesyuarat,\" katanya.')\n"
     ]
    }
   ],
   "source": [
    "import re\n",
    "\n",
    "# minimum cleaning, just simply to remove newlines.\n",
    "def cleaning(string):\n",
    "    string = string.replace('\\n', ' ')\n",
    "    string = re.sub(r'[ ]+', ' ', string).strip()\n",
    "    return string\n",
    "\n",
    "string = cleaning(string)\n",
    "pprint(string)"
   ]
  },
  {
   "cell_type": "markdown",
   "metadata": {},
   "source": [
    "#### Transformer model\n",
    "\n",
    "For transformer model,\n",
    "\n",
    "```python\n",
    "def paraphrase(\n",
    "    self, string: str, beam_search: bool = True, split_fullstop: bool = True\n",
    "):\n",
    "    \"\"\"\n",
    "    Paraphrase a string.\n",
    "\n",
    "    Parameters\n",
    "    ----------\n",
    "    string : str\n",
    "    beam_search : bool, (optional=True)\n",
    "        If True, use beam search decoder, else use greedy decoder.\n",
    "    split_fullstop: bool, (default=True)\n",
    "        if True, will generate paraphrase for each strings splitted by fullstop.\n",
    "\n",
    "    Returns\n",
    "    -------\n",
    "    result: str\n",
    "    \"\"\"\n",
    "    \n",
    "```\n",
    "\n",
    "We can choose to use greedy decoder or beam decoder. Again, beam decoder is really slow."
   ]
  },
  {
   "cell_type": "code",
   "execution_count": 16,
   "metadata": {},
   "outputs": [
    {
     "name": "stdout",
     "output_type": "stream",
     "text": [
      "('PELETAKAN Tun Dr. Mahathir Mohamad sebagai ketua Parti Pribumi Bersatu '\n",
      " 'Malaysia (Bersatu) ditolak pada 24 Februari lalu di dalam mesyuarat khas '\n",
      " 'Majlis Pimpinan Tertinggi (MPT) . Justeru, tidak timbul peletakan jawatan '\n",
      " 'itu sah atau tidak kerana ia sudah pun diputuskan pada peringkat parti yang '\n",
      " 'dibenarkan semua termasuk Presiden, Sri Muhyiddin Yassin. Bekas Setiausaha '\n",
      " 'Agung Bersatu Datuk Marzuki Yahya, berkata pada mesyuarat tahun 1970-an, '\n",
      " 'Msebulat suara telah menolak peletakan jawatan Dr Mahathir. \"Jadi ini agak '\n",
      " 'berlawanan dengan tegas keputusan yang kita sudah buat.\" peletakan jawatan '\n",
      " 'itu sah, sementara kita sudah buat keputusan di dalam mesyuarat, bukan '\n",
      " 'seorang dua yang buat keputusan, kata Demokrat ejen Jabatan Tuntutan '\n",
      " 'menolegar dari Malaysia. \"Semua keputusan\" mesti dibuat melalui parti. '\n",
      " 'Namun, apa juga perbincangan di luar daripada keputusan berikutnya, ini '\n",
      " 'bukan keputusan Parti. Setiausaha kerja itu bunga untuk membawa perkara itu '\n",
      " 'kepada JPPM. Seharusnya dilaporkan kepada Setiausaha Negara sebagai '\n",
      " 'pentadbir parti itu, kata Harian kepada Setiausaha Agung. Dia mengulas '\n",
      " 'mengenai rakan-rakan pelajar media tempatan pada akhir Februari, mengenai '\n",
      " 'pengesahan JPM bahawa Dr. Mahathir tidak lagi menjadi Pengerusi Bersatu '\n",
      " 'setelah peletakan jawatan di tengah-tengah pergolakan politik. Di sini '\n",
      " 'Laporan itu juga, kedudukan Muhyiddin Yassin memangku jawatan itu juga sah. '\n",
      " '\"Pada hari Khamis, Dr. Mahathir menghantar surat peletakan jawatan, tetapi '\n",
      " 'ditolak oleh MPT. \"Fasal yang disebut itu digunakan sekiranya berhenti atau '\n",
      " 'diberhentikan, tetapi ini mesyuarat sudah menolak,\" katanya. Marzuki turut '\n",
      " 'mempersoal kenyataan media, yang dibuat beberapa pimpinan Parti hari ini '\n",
      " 'yang menyatakan sokongan kepada Perikatan Nasional. `` Kenyataan media '\n",
      " 'bukanlah keputusan rasmi. Walaupun kita buat 1,000 kenyataan sekali pun ia '\n",
      " 'tetap tidak membenarkan keputusan yang sudah dibuat di perjumpaan. Tetapi '\n",
      " 'kita catat di dalam minit apa yang berlaku di dalam mesyuarat, \"kata Gemi.')\n"
     ]
    }
   ],
   "source": [
    "pprint(transformer.paraphrase(string, beam_search = False))"
   ]
  },
  {
   "cell_type": "markdown",
   "metadata": {},
   "source": [
    "You can see `Gemi` out-of-context, this is because the model trying to predict who is `katanya`, so it simply pulled random name from training set. To solve this problem, you need to do sliding windows. If we have 5 strings, simply give [s1, s2], [s2, s3] and so on the model, at least the model got some context from previous string."
   ]
  },
  {
   "cell_type": "code",
   "execution_count": 17,
   "metadata": {
    "scrolled": true
   },
   "outputs": [
    {
     "name": "stdout",
     "output_type": "stream",
     "text": [
      "('PELETAKAN jawatan Tun Dr Mahathir Mohamad sebagai Pengerusi Parti Pribumi '\n",
      " 'Bersatu Malaysia (Bersatu) ditolak di dalam mesyuarat khas Majlis Pimpinan '\n",
      " 'Tertinggi (Mahathir) pada 24 Februari lalu. Justeru, tidak timbul pertanyaan '\n",
      " 'mengenai jawatan itu sah atau tidak kerana ia sudah pun diputuskan pada '\n",
      " 'peringkat parti yang secara umum kepemimpinan termasuk Presiden, Tan Sri '\n",
      " 'Muhyiddin Yassin. Bekas Setiausaha Agung Bersatu walikota Marzuki Yahya, '\n",
      " 'berkata pada mesyuarat itu MPT sebulat suara menolak perselasi Mahathir. '\n",
      " '\"Jadi ini agak menangkan dengan keputusan yang kita sudah buat. Saya tak '\n",
      " 'bagaimana seorang Demokrat untuk memindahkan memindahkan memindahkan '\n",
      " 'memindahkan memindahkan memindahkan memindahkan memindahkan kata-kata pada '\n",
      " 'hari Isnin, sementara kita sudah buat keputusan di dalam pertemuan, bukan '\n",
      " 'seorang dua yang buat keputusan. \"Semua keputusan harus dibuat melalui '\n",
      " 'parti. Namun, apa juga perbincangan dibuat di luar daripada keputusan parti, '\n",
      " 'ini bukan keputusan. \"Apa locus standy, yang ada pada setiausaha ketaran, '\n",
      " 'untuk membawa perkara ini kepada JPM. Seharusnya, seorang pentadbir Amerika '\n",
      " 'Syarikat untuk parti, seorang pentadbir bekerja sebagai Harian, seorang '\n",
      " 'lelaki. Dia mengatakan seorang lelaki bernama mengulas laporan media '\n",
      " 'tempatan mengenai pengesahan JPPM bahawa Dr. Mahathir tidak lagi menjadi '\n",
      " 'ketua Bersatu setelah peletakan jawatan di tengah-tengah amalan politik pada '\n",
      " 'akhir Februari adalah sah. Ia juga menyatakan, kedudukan Muhyiddin Yassin '\n",
      " 'memangku jawatan itu juga sah. Sepertasi Dr. Mahathir, dia membuat surat '\n",
      " 'perganti dengan Mahathir, tetapi ditolak oleh MPT. \"Fasal yang disebut '\n",
      " 'terpakai jika berhenti atau diberhentikan, tetapi ini pertemuan sudah '\n",
      " 'menolak,\" katanya. Marzuki mengambil penjelasan media yang beberapa pimpinan '\n",
      " 'parti itu pada hari ini, yang mengumumkan sokongan kepada Perikatan '\n",
      " 'Nasional. \"Kenyataan media bukanlah keputusan rasmi. Walaupun kita buat '\n",
      " '1,000 kenyataan di mana ia tetap tidak merubah keputusan yang dibuat di '\n",
      " 'dalam mesyuarat. Kami catat di dalam minit apa yang berlaku di dalam '\n",
      " 'pertemuan ini.')\n"
     ]
    }
   ],
   "source": [
    "pprint(transformer_small.paraphrase(string, beam_search = False))"
   ]
  },
  {
   "cell_type": "markdown",
   "metadata": {},
   "source": [
    "We can see transformer-model brings `Amerika Syarikat` to the context, which is not really make sense."
   ]
  },
  {
   "cell_type": "markdown",
   "metadata": {},
   "source": [
    "What if I tried to paraphrase entire string without split it into substrings?"
   ]
  },
  {
   "cell_type": "code",
   "execution_count": 18,
   "metadata": {},
   "outputs": [
    {
     "name": "stdout",
     "output_type": "stream",
     "text": [
      "('Tetapi, pada mesyuarat Sabtu, dia mendakwa bahawa peletakan jawatan '\n",
      " 'Pengerusi dan membawanya ke parti-300, setelah keputusan itu tidak sah, dan '\n",
      " 'panggilan pengawas berlangsung sekaligus oleh pihak berkuasa tetapi '\n",
      " 'keputusan berpecah belah di sini, walikota Belongnya, tidak akan pernah '\n",
      " 'dilihat sebagai alasan, tetapi jika tidak ada, dia tidak dapat dilihat pada '\n",
      " 'mesyuarat penetapan lapisan media di sini untuk jawatan lain.')\n"
     ]
    }
   ],
   "source": [
    "pprint(transformer.paraphrase(string, beam_search = False, split_fullstop = False))"
   ]
  },
  {
   "cell_type": "markdown",
   "metadata": {},
   "source": [
    "It pulled out-of-context related to the string from the training set, which is not make any sense."
   ]
  },
  {
   "cell_type": "markdown",
   "metadata": {},
   "source": [
    "#### T5 model\n",
    "\n",
    "In T5, we cannot choose to use greedy decoder or beam decoder."
   ]
  },
  {
   "cell_type": "code",
   "execution_count": 19,
   "metadata": {
    "scrolled": true
   },
   "outputs": [
    {
     "name": "stdout",
     "output_type": "stream",
     "text": [
      "('Peletakan jawatan Tun Dr. Mahathir sebagai Pengerusi Parti Pribumi Bersatu '\n",
      " 'Malaysia ditolak di dalam mesyuarat khas MPT (Parti Pimpinan Tertinggi) pada '\n",
      " '24 Februari lalu. Tidak kira sama ada peletakan jawatan itu sah atau tidak, '\n",
      " 'kerana sudah pun dinyatakan pada peringkat parti yang menyetujui semua, '\n",
      " 'termasuk Presiden Tan Sri Muhyiddin Yassin. Saya telah mencadangkan kepada '\n",
      " 'MPT untuk sebulat suara, kata Marzuki. \" Ini semua dibuat berlawanan dengan '\n",
      " 'keputusan yang kita sudah membuat. Saya tak faham bagaimana Jabatan '\n",
      " 'Pendaftaran Pertubuhan Malaysia (JPPM) mengatakan bahawa peletakan jawatan '\n",
      " 'itu sah, padahal kita sudah membuat keputusan di dalam pertemuan, bukan dua '\n",
      " 'orang yang membuat keputusan. \" Semua keputusan mesti dibuat oleh parti. '\n",
      " 'Tetapi keputusan untuk memberi kesan kepada perbincangan, itu bukan '\n",
      " 'keputusan parti. \" Apa yang berlaku di locus standy Setiausaha Kerja untuk '\n",
      " 'membawa perkara ini ke JPPM. Seharusnya diserahkan kepada Setiausaha Agung '\n",
      " 'sebagai pentadbir kepada parti, kata Bruno. Namun, dia menambah laporan '\n",
      " 'media tempatan hari ini mengenai pengesahan JPPM bahawa Dr Mahathir tidak '\n",
      " 'lagi menjadi pemimpin Bersatu setelah peletakan jawatan di tengah-tengah '\n",
      " 'pergolakan politik pada akhir Februari. Kedudukan Muhyiddin juga sah, kata '\n",
      " 'laporan itu. Dia mengatakan bahawa memang betul Tun Mahathir menyerahkan '\n",
      " 'surat peletakan jawatan tetapi ditolak oleh MPT. \"Fasal yang disebut itu '\n",
      " 'terpakai sekiranya berhenti atau diberhentikan, tetapi ini pertemuan sudah '\n",
      " 'menolak,\" katanya. Sebaliknya, Marzuki mempersoalkan kenyataan media '\n",
      " 'beberapa pimpinan parti hari ini yang menyatakan sokongan kepada Perikatan '\n",
      " 'Nasional. Akhbar bebas sepenuhnya menentukan keputusan rasmi mereka. '\n",
      " 'Walaupun kami membuat 1,000 kenyataan, ia tetap tidak mengubah keputusan '\n",
      " 'yang sudah dibuat di dalam mesyuarat. Kami mengambil minit apa yang berlaku '\n",
      " 'di dalam mesyuarat ini, \"kata Griffin.')\n"
     ]
    }
   ],
   "source": [
    "pprint(t5.paraphrase(string))"
   ]
  },
  {
   "cell_type": "markdown",
   "metadata": {},
   "source": [
    "You can see `Griffin` out-of-context, this is because the model trying to predict who is `katanya`, so it simply pulled random name from training set. To solve this problem, you need to do sliding windows. If we have 5 strings, simply give [s1, s2], [s2, s3] and so on the model, at least the model got some context from previous string."
   ]
  },
  {
   "cell_type": "code",
   "execution_count": 20,
   "metadata": {},
   "outputs": [
    {
     "name": "stdout",
     "output_type": "stream",
     "text": [
      "('Kedudukan Dr. Mahathir sebagai Pengerusi Parti Pribumi Bersatu Malaysia '\n",
      " '(Bersatu) ditolak di dalam mesyuarat khas Majlis Pimpinan Tertinggi (MPT) '\n",
      " 'pada 24 Februari, dan bahawa posisi beliau memangku melalui parti, dan '\n",
      " 'bahawa semua keputusan harus diambil oleh MPT, dan itu bukan keputusan '\n",
      " 'parti, tetapi sebagai kenyataan media, kata Marzuki, pemimpin yang '\n",
      " 'berpangkalan di Perlis, yang ditemui pada hari Jumaat. \"')\n"
     ]
    }
   ],
   "source": [
    "pprint(t5.paraphrase(string, split_fullstop = False))"
   ]
  },
  {
   "cell_type": "markdown",
   "metadata": {},
   "source": [
    "When you try to paraphrase entire string, the output is quite good, a summary!"
   ]
  },
  {
   "cell_type": "code",
   "execution_count": null,
   "metadata": {},
   "outputs": [],
   "source": []
  }
 ],
 "metadata": {
  "kernelspec": {
   "display_name": "Python 3",
   "language": "python",
   "name": "python3"
  },
  "language_info": {
   "codemirror_mode": {
    "name": "ipython",
    "version": 3
   },
   "file_extension": ".py",
   "mimetype": "text/x-python",
   "name": "python",
   "nbconvert_exporter": "python",
   "pygments_lexer": "ipython3",
   "version": "3.7.7"
  }
 },
 "nbformat": 4,
 "nbformat_minor": 2
}
