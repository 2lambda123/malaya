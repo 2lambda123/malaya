{
 "cells": [
  {
   "cell_type": "code",
   "execution_count": 1,
   "id": "molecular-vertical",
   "metadata": {},
   "outputs": [],
   "source": [
    "import sys\n",
    "import os\n",
    "\n",
    "SOURCE_DIR = os.path.dirname(os.path.dirname(os.path.abspath(__name__)))\n",
    "sys.path.insert(0, SOURCE_DIR)"
   ]
  },
  {
   "cell_type": "code",
   "execution_count": 2,
   "id": "civil-silence",
   "metadata": {},
   "outputs": [],
   "source": [
    "import malaya\n",
    "import logging\n",
    "\n",
    "logging.basicConfig(level=logging.DEBUG)"
   ]
  },
  {
   "cell_type": "code",
   "execution_count": 3,
   "id": "constant-thesaurus",
   "metadata": {},
   "outputs": [
    {
     "data": {
      "text/plain": [
       "'/Users/huseinzolkepli/Malaya'"
      ]
     },
     "execution_count": 3,
     "metadata": {},
     "output_type": "execute_result"
    }
   ],
   "source": [
    "malaya.__home__"
   ]
  },
  {
   "cell_type": "code",
   "execution_count": 4,
   "id": "binding-mauritius",
   "metadata": {},
   "outputs": [],
   "source": [
    "import re\n",
    "\n",
    "# minimum cleaning, just simply to remove newlines.\n",
    "def cleaning(string):\n",
    "    string = string.replace('\\n', ' ')\n",
    "    string = re.sub(r'[ ]+', ' ', string).strip()\n",
    "    return string"
   ]
  },
  {
   "cell_type": "code",
   "execution_count": 5,
   "id": "substantial-proposal",
   "metadata": {},
   "outputs": [],
   "source": [
    "string = \"\"\"\n",
    "PELETAKAN jawatan Tun Dr Mahathir Mohamad sebagai Pengerusi Parti Pribumi Bersatu Malaysia (Bersatu) ditolak di dalam mesyuarat khas Majlis Pimpinan Tertinggi (MPT) pada 24 Februari lalu.\n",
    "\n",
    "Justeru, tidak timbul soal peletakan jawatan itu sah atau tidak kerana ia sudah pun diputuskan pada peringkat parti yang dipersetujui semua termasuk Presiden, Tan Sri Muhyiddin Yassin.\n",
    "\n",
    "Bekas Setiausaha Agung Bersatu Datuk Marzuki Yahya berkata, pada mesyuarat itu MPT sebulat suara menolak peletakan jawatan Dr Mahathir.\n",
    "\n",
    "\"Jadi ini agak berlawanan dengan keputusan yang kita sudah buat. Saya tak faham bagaimana Jabatan Pendaftar Pertubuhan Malaysia (JPPM) kata peletakan jawatan itu sah sedangkan kita sudah buat keputusan di dalam mesyuarat, bukan seorang dua yang buat keputusan.\n",
    "\n",
    "\"Semua keputusan mesti dibuat melalui parti. Walau apa juga perbincangan dibuat di luar daripada keputusan mesyuarat, ini bukan keputusan parti.\n",
    "\n",
    "\"Apa locus standy yang ada pada Setiausaha Kerja untuk membawa perkara ini kepada JPPM. Seharusnya ia dibawa kepada Setiausaha Agung sebagai pentadbir kepada parti,\" katanya kepada Harian Metro.\n",
    "\n",
    "Beliau mengulas laporan media tempatan hari ini mengenai pengesahan JPPM bahawa Dr Mahathir tidak lagi menjadi Pengerusi Bersatu berikutan peletakan jawatannya di tengah-tengah pergolakan politik pada akhir Februari adalah sah.\n",
    "\n",
    "Laporan itu juga menyatakan, kedudukan Muhyiddin Yassin memangku jawatan itu juga sah.\n",
    "\n",
    "Menurutnya, memang betul Dr Mahathir menghantar surat peletakan jawatan, tetapi ditolak oleh MPT.\n",
    "\n",
    "\"Fasal yang disebut itu terpakai sekiranya berhenti atau diberhentikan, tetapi ini mesyuarat sudah menolak,\" katanya.\n",
    "\n",
    "Marzuki turut mempersoal kenyataan media yang dibuat beberapa pimpinan parti itu hari ini yang menyatakan sokongan kepada Perikatan Nasional.\n",
    "\n",
    "\"Kenyataan media bukanlah keputusan rasmi. Walaupun kita buat 1,000 kenyataan sekali pun ia tetap tidak merubah keputusan yang sudah dibuat di dalam mesyuarat. Kita catat di dalam minit apa yang berlaku di dalam mesyuarat,\" katanya.\n",
    "\"\"\"\n",
    "\n",
    "string = cleaning(string)"
   ]
  },
  {
   "cell_type": "code",
   "execution_count": 6,
   "id": "pursuant-orlando",
   "metadata": {},
   "outputs": [
    {
     "name": "stderr",
     "output_type": "stream",
     "text": [
      "INFO:root:tested on 5k CNN test set.\n"
     ]
    },
    {
     "data": {
      "text/html": [
       "<div>\n",
       "<style scoped>\n",
       "    .dataframe tbody tr th:only-of-type {\n",
       "        vertical-align: middle;\n",
       "    }\n",
       "\n",
       "    .dataframe tbody tr th {\n",
       "        vertical-align: top;\n",
       "    }\n",
       "\n",
       "    .dataframe thead th {\n",
       "        text-align: right;\n",
       "    }\n",
       "</style>\n",
       "<table border=\"1\" class=\"dataframe\">\n",
       "  <thead>\n",
       "    <tr style=\"text-align: right;\">\n",
       "      <th></th>\n",
       "      <th>Size (MB)</th>\n",
       "      <th>Quantized Size (MB)</th>\n",
       "      <th>ROUGE-1</th>\n",
       "      <th>ROUGE-2</th>\n",
       "      <th>ROUGE-L</th>\n",
       "      <th>Suggested length</th>\n",
       "    </tr>\n",
       "  </thead>\n",
       "  <tbody>\n",
       "    <tr>\n",
       "      <th>t2t</th>\n",
       "      <td>832.0</td>\n",
       "      <td>279.0</td>\n",
       "      <td>0.33209</td>\n",
       "      <td>0.13622</td>\n",
       "      <td>0.23348</td>\n",
       "      <td>1024.0</td>\n",
       "    </tr>\n",
       "    <tr>\n",
       "      <th>small-t2t</th>\n",
       "      <td>379.0</td>\n",
       "      <td>120.0</td>\n",
       "      <td>0.33000</td>\n",
       "      <td>0.13417</td>\n",
       "      <td>0.23059</td>\n",
       "      <td>1024.0</td>\n",
       "    </tr>\n",
       "    <tr>\n",
       "      <th>t2t-distill</th>\n",
       "      <td>164.0</td>\n",
       "      <td>48.8</td>\n",
       "      <td>0.28079</td>\n",
       "      <td>0.08540</td>\n",
       "      <td>0.20136</td>\n",
       "      <td>1024.0</td>\n",
       "    </tr>\n",
       "    <tr>\n",
       "      <th>t5</th>\n",
       "      <td>1250.0</td>\n",
       "      <td>481.0</td>\n",
       "      <td>0.34103</td>\n",
       "      <td>0.14994</td>\n",
       "      <td>0.23655</td>\n",
       "      <td>1024.0</td>\n",
       "    </tr>\n",
       "    <tr>\n",
       "      <th>small-t5</th>\n",
       "      <td>355.6</td>\n",
       "      <td>195.0</td>\n",
       "      <td>0.33854</td>\n",
       "      <td>0.14588</td>\n",
       "      <td>0.23528</td>\n",
       "      <td>1024.0</td>\n",
       "    </tr>\n",
       "    <tr>\n",
       "      <th>bigbird</th>\n",
       "      <td>910.0</td>\n",
       "      <td>230.0</td>\n",
       "      <td>0.30683</td>\n",
       "      <td>0.09940</td>\n",
       "      <td>0.20232</td>\n",
       "      <td>2048.0</td>\n",
       "    </tr>\n",
       "    <tr>\n",
       "      <th>small-bigbird</th>\n",
       "      <td>303.0</td>\n",
       "      <td>77.3</td>\n",
       "      <td>0.27540</td>\n",
       "      <td>0.08540</td>\n",
       "      <td>0.18890</td>\n",
       "      <td>2048.0</td>\n",
       "    </tr>\n",
       "    <tr>\n",
       "      <th>pegasus</th>\n",
       "      <td>894.0</td>\n",
       "      <td>225.0</td>\n",
       "      <td>0.30352</td>\n",
       "      <td>0.10379</td>\n",
       "      <td>0.20590</td>\n",
       "      <td>1024.0</td>\n",
       "    </tr>\n",
       "    <tr>\n",
       "      <th>small-pegasus</th>\n",
       "      <td>293.0</td>\n",
       "      <td>74.2</td>\n",
       "      <td>0.29450</td>\n",
       "      <td>0.11480</td>\n",
       "      <td>0.20970</td>\n",
       "      <td>1024.0</td>\n",
       "    </tr>\n",
       "  </tbody>\n",
       "</table>\n",
       "</div>"
      ],
      "text/plain": [
       "               Size (MB)  Quantized Size (MB)  ROUGE-1  ROUGE-2  ROUGE-L  \\\n",
       "t2t                832.0                279.0  0.33209  0.13622  0.23348   \n",
       "small-t2t          379.0                120.0  0.33000  0.13417  0.23059   \n",
       "t2t-distill        164.0                 48.8  0.28079  0.08540  0.20136   \n",
       "t5                1250.0                481.0  0.34103  0.14994  0.23655   \n",
       "small-t5           355.6                195.0  0.33854  0.14588  0.23528   \n",
       "bigbird            910.0                230.0  0.30683  0.09940  0.20232   \n",
       "small-bigbird      303.0                 77.3  0.27540  0.08540  0.18890   \n",
       "pegasus            894.0                225.0  0.30352  0.10379  0.20590   \n",
       "small-pegasus      293.0                 74.2  0.29450  0.11480  0.20970   \n",
       "\n",
       "               Suggested length  \n",
       "t2t                      1024.0  \n",
       "small-t2t                1024.0  \n",
       "t2t-distill              1024.0  \n",
       "t5                       1024.0  \n",
       "small-t5                 1024.0  \n",
       "bigbird                  2048.0  \n",
       "small-bigbird            2048.0  \n",
       "pegasus                  1024.0  \n",
       "small-pegasus            1024.0  "
      ]
     },
     "execution_count": 6,
     "metadata": {},
     "output_type": "execute_result"
    }
   ],
   "source": [
    "malaya.summarization.abstractive.available_transformer()"
   ]
  },
  {
   "cell_type": "code",
   "execution_count": 7,
   "id": "proved-teach",
   "metadata": {
    "scrolled": true
   },
   "outputs": [
    {
     "name": "stderr",
     "output_type": "stream",
     "text": [
      "INFO:root:tested on 5k CNN test set.\n",
      "DEBUG:urllib3.connectionpool:Starting new HTTPS connection (1): f000.backblazeb2.com:443\n"
     ]
    },
    {
     "name": "stdout",
     "output_type": "stream",
     "text": [
      "t2t\n"
     ]
    },
    {
     "name": "stderr",
     "output_type": "stream",
     "text": [
      "DEBUG:urllib3.connectionpool:https://f000.backblazeb2.com:443 \"HEAD /file/malaya-model/abstractive-summarization/t2t/model.pb HTTP/1.1\" 200 0\n",
      "DEBUG:urllib3.connectionpool:Starting new HTTPS connection (1): f000.backblazeb2.com:443\n",
      "DEBUG:urllib3.connectionpool:https://f000.backblazeb2.com:443 \"HEAD /file/malaya-model/bpe/sp10m.cased.t5.model HTTP/1.1\" 200 0\n",
      "DEBUG:urllib3.connectionpool:Starting new HTTPS connection (1): f000.backblazeb2.com:443\n",
      "DEBUG:urllib3.connectionpool:https://f000.backblazeb2.com:443 \"HEAD /file/malaya-model/abstractive-summarization/t2t/version HTTP/1.1\" 404 0\n",
      "DEBUG:urllib3.connectionpool:Starting new HTTPS connection (1): f000.backblazeb2.com:443\n"
     ]
    },
    {
     "name": "stdout",
     "output_type": "stream",
     "text": [
      "downloading frozen model to /Users/huseinzolkepli/Malaya/abstractive-summarization/t2t/model.pb\n"
     ]
    },
    {
     "name": "stderr",
     "output_type": "stream",
     "text": [
      "DEBUG:urllib3.connectionpool:https://f000.backblazeb2.com:443 \"GET /file/malaya-model/abstractive-summarization/t2t/model.pb HTTP/1.1\" 200 831624234\n",
      "794MB [02:06, 6.27MB/s]                          \n",
      "DEBUG:urllib3.connectionpool:Starting new HTTPS connection (1): f000.backblazeb2.com:443\n"
     ]
    },
    {
     "name": "stdout",
     "output_type": "stream",
     "text": [
      "downloading frozen vocab to /Users/huseinzolkepli/Malaya/abstractive-summarization/t2t/sp10m.cased.t5.model\n"
     ]
    },
    {
     "name": "stderr",
     "output_type": "stream",
     "text": [
      "DEBUG:urllib3.connectionpool:https://f000.backblazeb2.com:443 \"GET /file/malaya-model/bpe/sp10m.cased.t5.model HTTP/1.1\" 200 793027\n",
      "132%|██████████| 1.00/0.76 [00:01<00:00, 1.18s/MB]\n",
      "INFO:root:running abstractive-summarization/t2t using device /device:CPU:0\n"
     ]
    },
    {
     "name": "stdout",
     "output_type": "stream",
     "text": [
      "['Bersatu masih belum memutuskan apa yang akan dilakukan dengan pemimpin parti.']\n",
      "small-t2t\n"
     ]
    },
    {
     "name": "stderr",
     "output_type": "stream",
     "text": [
      "DEBUG:urllib3.connectionpool:Starting new HTTPS connection (1): f000.backblazeb2.com:443\n",
      "DEBUG:urllib3.connectionpool:https://f000.backblazeb2.com:443 \"HEAD /file/malaya-model/abstractive-summarization/small-t2t/model.pb HTTP/1.1\" 200 0\n",
      "DEBUG:urllib3.connectionpool:Starting new HTTPS connection (1): f000.backblazeb2.com:443\n",
      "DEBUG:urllib3.connectionpool:https://f000.backblazeb2.com:443 \"HEAD /file/malaya-model/bpe/sp10m.cased.t5.model HTTP/1.1\" 200 0\n",
      "DEBUG:urllib3.connectionpool:Starting new HTTPS connection (1): f000.backblazeb2.com:443\n",
      "DEBUG:urllib3.connectionpool:https://f000.backblazeb2.com:443 \"HEAD /file/malaya-model/abstractive-summarization/small-t2t/version HTTP/1.1\" 404 0\n",
      "DEBUG:urllib3.connectionpool:Starting new HTTPS connection (1): f000.backblazeb2.com:443\n"
     ]
    },
    {
     "name": "stdout",
     "output_type": "stream",
     "text": [
      "downloading frozen model to /Users/huseinzolkepli/Malaya/abstractive-summarization/small-t2t/model.pb\n"
     ]
    },
    {
     "name": "stderr",
     "output_type": "stream",
     "text": [
      "DEBUG:urllib3.connectionpool:https://f000.backblazeb2.com:443 \"GET /file/malaya-model/abstractive-summarization/small-t2t/model.pb HTTP/1.1\" 200 378870799\n",
      "362MB [01:01, 5.88MB/s]                          \n",
      "DEBUG:urllib3.connectionpool:Starting new HTTPS connection (1): f000.backblazeb2.com:443\n"
     ]
    },
    {
     "name": "stdout",
     "output_type": "stream",
     "text": [
      "downloading frozen vocab to /Users/huseinzolkepli/Malaya/abstractive-summarization/small-t2t/sp10m.cased.t5.model\n"
     ]
    },
    {
     "name": "stderr",
     "output_type": "stream",
     "text": [
      "DEBUG:urllib3.connectionpool:https://f000.backblazeb2.com:443 \"GET /file/malaya-model/bpe/sp10m.cased.t5.model HTTP/1.1\" 200 793027\n",
      "132%|██████████| 1.00/0.76 [00:01<00:00, 1.30s/MB]\n",
      "INFO:root:running abstractive-summarization/small-t2t using device /device:CPU:0\n"
     ]
    },
    {
     "name": "stdout",
     "output_type": "stream",
     "text": [
      "['- Tun M tidak lagi menjadi Pengerusi Bersatu, tetapi dia masih menjadi ketua parti itu. Bekas setiausaha Agung Bersatu, Marzuki Yahya mengatakan bahawa dia tidak faham bagaimana JPPM mengatakan peletakan jawatan itu sah Times. \"Jadi ini agak berlawanan dengan keputusan yang kita sudah buat,\" katanya. \"Saya tidak faham bagaimana Jabatan Pendaftar Pertubuhan Malaysia mengatakan peletakan jawatan itu sah sedangkan kita sudah membuat keputusan di dalam mesyuarat, bukan seorang dua yang membuat keputusan. \" Marzuki mengatakan bahawa dia tidak faham bagaimana JPPM mengatakan peletakan jawatan itu sah, tetapi \"apa pun perbincangan dibuat di luar dari keputusan mesyuarat, ini bukan keputusan parti. \" (Dalam berita lain, seorang lelaki yang mengatakan bahawa dia adalah \"pembersihan\" dengan J. Seharusnya membawa kepada Setiausaha Agung.']\n"
     ]
    },
    {
     "name": "stderr",
     "output_type": "stream",
     "text": [
      "DEBUG:urllib3.connectionpool:Starting new HTTPS connection (1): f000.backblazeb2.com:443\n"
     ]
    },
    {
     "name": "stdout",
     "output_type": "stream",
     "text": [
      "t2t-distill\n"
     ]
    },
    {
     "name": "stderr",
     "output_type": "stream",
     "text": [
      "DEBUG:urllib3.connectionpool:https://f000.backblazeb2.com:443 \"HEAD /file/malaya-model/abstractive-summarization/t2t-distill/model.pb HTTP/1.1\" 200 0\n",
      "DEBUG:urllib3.connectionpool:Starting new HTTPS connection (1): f000.backblazeb2.com:443\n",
      "DEBUG:urllib3.connectionpool:https://f000.backblazeb2.com:443 \"HEAD /file/malaya-model/bpe/sp10m.cased.t5.model HTTP/1.1\" 200 0\n",
      "DEBUG:urllib3.connectionpool:Starting new HTTPS connection (1): f000.backblazeb2.com:443\n",
      "DEBUG:urllib3.connectionpool:https://f000.backblazeb2.com:443 \"HEAD /file/malaya-model/abstractive-summarization/t2t-distill/version HTTP/1.1\" 404 0\n",
      "DEBUG:urllib3.connectionpool:Starting new HTTPS connection (1): f000.backblazeb2.com:443\n"
     ]
    },
    {
     "name": "stdout",
     "output_type": "stream",
     "text": [
      "downloading frozen model to /Users/huseinzolkepli/Malaya/abstractive-summarization/t2t-distill/model.pb\n"
     ]
    },
    {
     "name": "stderr",
     "output_type": "stream",
     "text": [
      "DEBUG:urllib3.connectionpool:https://f000.backblazeb2.com:443 \"GET /file/malaya-model/abstractive-summarization/t2t-distill/model.pb HTTP/1.1\" 200 164455786\n",
      "100%|██████████| 157/157 [00:24<00:00, 6.45MB/s] \n",
      "DEBUG:urllib3.connectionpool:Starting new HTTPS connection (1): f000.backblazeb2.com:443\n"
     ]
    },
    {
     "name": "stdout",
     "output_type": "stream",
     "text": [
      "downloading frozen vocab to /Users/huseinzolkepli/Malaya/abstractive-summarization/t2t-distill/sp10m.cased.t5.model\n"
     ]
    },
    {
     "name": "stderr",
     "output_type": "stream",
     "text": [
      "DEBUG:urllib3.connectionpool:https://f000.backblazeb2.com:443 \"GET /file/malaya-model/bpe/sp10m.cased.t5.model HTTP/1.1\" 200 793027\n",
      "132%|██████████| 1.00/0.76 [00:01<00:00, 1.18s/MB]\n",
      "INFO:root:running abstractive-summarization/t2t-distill using device /device:CPU:0\n"
     ]
    },
    {
     "name": "stdout",
     "output_type": "stream",
     "text": [
      "['- Dr Mahathir tidak menolak peletakan jawatan sebagai Pengerusi Bersatu, tetapi dia tidak menolak sebarang keputusan yang dibuat oleh Presiden Bersatu, Tan Sri Muhyiddin Yassin. \"Saya faham apa yang sudah dipersetujui,\" katanya kepada wartawan. \"Saya faham apa yang sudah dipersetujui. \" Muhyiddin mengatakan bahawa dia tidak menolak sebarang keputusan yang dibuat oleh Setiausaha Agung P. Mahathir, yang telah menolak peletakan jawatan itu, mengatakan bahawa dia tidak akan berhenti. \"Saya tidak faham apa yang sudah diputuskan oleh Setiausaha Agung P. \" \"Saya tidak faham apa yang sudah diputuskan oleh Setiausaha Agung P. Mahathir,\" katanya. \"Saya tidak faham apa yang sudah dipersetujui oleh Setiausaha Agung P. J. J. J. J. J. J. J. J. J. J. J. J. J. J. J. J. J. J. J. J. J. J. J. J. J. J. J. J. J. J. J. J. J. J. .']\n",
      "t5\n"
     ]
    },
    {
     "name": "stderr",
     "output_type": "stream",
     "text": [
      "DEBUG:urllib3.connectionpool:Starting new HTTPS connection (1): f000.backblazeb2.com:443\n",
      "DEBUG:urllib3.connectionpool:https://f000.backblazeb2.com:443 \"HEAD /file/malaya-model/abstractive-summarization/t5/model.pb HTTP/1.1\" 200 0\n",
      "DEBUG:urllib3.connectionpool:Starting new HTTPS connection (1): f000.backblazeb2.com:443\n",
      "DEBUG:urllib3.connectionpool:https://f000.backblazeb2.com:443 \"HEAD /file/malaya-model/abstractive-summarization/t5/version HTTP/1.1\" 404 0\n",
      "DEBUG:urllib3.connectionpool:Starting new HTTPS connection (1): f000.backblazeb2.com:443\n"
     ]
    },
    {
     "name": "stdout",
     "output_type": "stream",
     "text": [
      "downloading frozen model to /Users/huseinzolkepli/Malaya/abstractive-summarization/t5/model.pb\n"
     ]
    },
    {
     "name": "stderr",
     "output_type": "stream",
     "text": [
      "DEBUG:urllib3.connectionpool:https://f000.backblazeb2.com:443 \"GET /file/malaya-model/abstractive-summarization/t5/model.pb HTTP/1.1\" 200 1252381816\n",
      "1.20kMB [03:08, 6.35MB/s]                           \n",
      "INFO:root:running abstractive-summarization/t5 using device /device:CPU:0\n"
     ]
    },
    {
     "name": "stdout",
     "output_type": "stream",
     "text": [
      "['Kenyataan media yang dibuat oleh kepimpinan parti adalah sah. Tidak ada persoalan peletakan jawatan Dr Mahathir adalah sah atau tidak. Ia sudah diputuskan oleh semua pihak termasuk Presiden, Tan Sri Muhyiddin Yassin.']\n"
     ]
    },
    {
     "name": "stderr",
     "output_type": "stream",
     "text": [
      "DEBUG:urllib3.connectionpool:Starting new HTTPS connection (1): f000.backblazeb2.com:443\n"
     ]
    },
    {
     "name": "stdout",
     "output_type": "stream",
     "text": [
      "small-t5\n"
     ]
    },
    {
     "name": "stderr",
     "output_type": "stream",
     "text": [
      "DEBUG:urllib3.connectionpool:https://f000.backblazeb2.com:443 \"HEAD /file/malaya-model/abstractive-summarization/small-t5/model.pb HTTP/1.1\" 200 0\n",
      "DEBUG:urllib3.connectionpool:Starting new HTTPS connection (1): f000.backblazeb2.com:443\n",
      "DEBUG:urllib3.connectionpool:https://f000.backblazeb2.com:443 \"HEAD /file/malaya-model/abstractive-summarization/small-t5/version HTTP/1.1\" 404 0\n",
      "DEBUG:urllib3.connectionpool:Starting new HTTPS connection (1): f000.backblazeb2.com:443\n"
     ]
    },
    {
     "name": "stdout",
     "output_type": "stream",
     "text": [
      "downloading frozen model to /Users/huseinzolkepli/Malaya/abstractive-summarization/small-t5/model.pb\n"
     ]
    },
    {
     "name": "stderr",
     "output_type": "stream",
     "text": [
      "DEBUG:urllib3.connectionpool:https://f000.backblazeb2.com:443 \"GET /file/malaya-model/abstractive-summarization/small-t5/model.pb HTTP/1.1\" 200 355538101\n",
      "340MB [00:58, 5.80MB/s]                          \n",
      "INFO:root:running abstractive-summarization/small-t5 using device /device:CPU:0\n"
     ]
    },
    {
     "name": "stdout",
     "output_type": "stream",
     "text": [
      "['Tidak timbul isu peletakan jawatan Dr Mahathir dalam mesyuarat khas MPT. Kenyataan media tidak keputusan rasmi, Marzuki berkata. Kenyataan itu datang selepas mesyuarat khas yang dipersetujui semua pemimpin Bersatu.']\n"
     ]
    },
    {
     "name": "stderr",
     "output_type": "stream",
     "text": [
      "DEBUG:urllib3.connectionpool:Starting new HTTPS connection (1): f000.backblazeb2.com:443\n"
     ]
    },
    {
     "name": "stdout",
     "output_type": "stream",
     "text": [
      "bigbird\n"
     ]
    },
    {
     "name": "stderr",
     "output_type": "stream",
     "text": [
      "DEBUG:urllib3.connectionpool:https://f000.backblazeb2.com:443 \"HEAD /file/malaya-model/abstractive-summarization/bigbird/model.pb HTTP/1.1\" 200 0\n",
      "DEBUG:urllib3.connectionpool:Starting new HTTPS connection (1): f000.backblazeb2.com:443\n",
      "DEBUG:urllib3.connectionpool:https://f000.backblazeb2.com:443 \"HEAD /file/malaya-model/bpe/sp10m.cased.t5.model HTTP/1.1\" 200 0\n",
      "DEBUG:urllib3.connectionpool:Starting new HTTPS connection (1): f000.backblazeb2.com:443\n",
      "DEBUG:urllib3.connectionpool:https://f000.backblazeb2.com:443 \"HEAD /file/malaya-model/abstractive-summarization/bigbird/version HTTP/1.1\" 404 0\n",
      "DEBUG:urllib3.connectionpool:Starting new HTTPS connection (1): f000.backblazeb2.com:443\n"
     ]
    },
    {
     "name": "stdout",
     "output_type": "stream",
     "text": [
      "downloading frozen model to /Users/huseinzolkepli/Malaya/abstractive-summarization/bigbird/model.pb\n"
     ]
    },
    {
     "name": "stderr",
     "output_type": "stream",
     "text": [
      "DEBUG:urllib3.connectionpool:https://f000.backblazeb2.com:443 \"GET /file/malaya-model/abstractive-summarization/bigbird/model.pb HTTP/1.1\" 200 909119419\n",
      "868MB [03:06, 4.66MB/s]                          \n",
      "DEBUG:urllib3.connectionpool:Starting new HTTPS connection (1): f000.backblazeb2.com:443\n"
     ]
    },
    {
     "name": "stdout",
     "output_type": "stream",
     "text": [
      "downloading frozen vocab to /Users/huseinzolkepli/Malaya/abstractive-summarization/bigbird/sp10m.cased.t5.model\n"
     ]
    },
    {
     "name": "stderr",
     "output_type": "stream",
     "text": [
      "DEBUG:urllib3.connectionpool:https://f000.backblazeb2.com:443 \"GET /file/malaya-model/bpe/sp10m.cased.t5.model HTTP/1.1\" 200 793027\n",
      "132%|██████████| 1.00/0.76 [00:01<00:00, 1.42s/MB]\n",
      "INFO:root:running abstractive-summarization/bigbird using device /device:CPU:0\n"
     ]
    },
    {
     "name": "stdout",
     "output_type": "stream",
     "text": [
      "['- Marzuki Yahya mengatakan bahawa dia menolak keputusan untuk menolak keputusan mesyuarat khas parti itu . \"Semua mesyuarat sudah dibuat dan bukan pada keputusan yang dibuat,\" katanya dalam satu kenyataan. \"Apa pun keputusan yang dibuat, ia bukan pada keputusan yang dibuat, memang berlawanan dengan kita semua. \" Kenyataan itu, yang dibuat oleh Dr Mahathir, mengatakan bahawa dia menolak keputusan itu setelah mesyuarat yang tidak sah pada 24 Februari. \"Semua mesyuarat sudah dibuat dan bukan pada keputusan yang dibuat, memang berlawanan dengan kita semua,\" katanya. \"Kita juga faham ia bukan pada keputusan yang dibuat, memang berlawanan dengan kita semua. \" Kenyataan itu juga menyatakan bahawa mesyuarat khas parti itu tidak sah.']\n"
     ]
    },
    {
     "name": "stderr",
     "output_type": "stream",
     "text": [
      "DEBUG:urllib3.connectionpool:Starting new HTTPS connection (1): f000.backblazeb2.com:443\n"
     ]
    },
    {
     "name": "stdout",
     "output_type": "stream",
     "text": [
      "small-bigbird\n"
     ]
    },
    {
     "name": "stderr",
     "output_type": "stream",
     "text": [
      "DEBUG:urllib3.connectionpool:https://f000.backblazeb2.com:443 \"HEAD /file/malaya-model/abstractive-summarization/small-bigbird/model.pb HTTP/1.1\" 200 0\n",
      "DEBUG:urllib3.connectionpool:Starting new HTTPS connection (1): f000.backblazeb2.com:443\n",
      "DEBUG:urllib3.connectionpool:https://f000.backblazeb2.com:443 \"HEAD /file/malaya-model/bpe/sp10m.cased.t5.model HTTP/1.1\" 200 0\n",
      "DEBUG:urllib3.connectionpool:Starting new HTTPS connection (1): f000.backblazeb2.com:443\n",
      "DEBUG:urllib3.connectionpool:https://f000.backblazeb2.com:443 \"HEAD /file/malaya-model/abstractive-summarization/small-bigbird/version HTTP/1.1\" 404 0\n",
      "DEBUG:urllib3.connectionpool:Starting new HTTPS connection (1): f000.backblazeb2.com:443\n"
     ]
    },
    {
     "name": "stdout",
     "output_type": "stream",
     "text": [
      "downloading frozen model to /Users/huseinzolkepli/Malaya/abstractive-summarization/small-bigbird/model.pb\n"
     ]
    },
    {
     "name": "stderr",
     "output_type": "stream",
     "text": [
      "DEBUG:urllib3.connectionpool:https://f000.backblazeb2.com:443 \"GET /file/malaya-model/abstractive-summarization/small-bigbird/model.pb HTTP/1.1\" 200 303111970\n",
      "290MB [00:54, 5.34MB/s]                          \n",
      "DEBUG:urllib3.connectionpool:Starting new HTTPS connection (1): f000.backblazeb2.com:443\n"
     ]
    },
    {
     "name": "stdout",
     "output_type": "stream",
     "text": [
      "downloading frozen vocab to /Users/huseinzolkepli/Malaya/abstractive-summarization/small-bigbird/sp10m.cased.t5.model\n"
     ]
    },
    {
     "name": "stderr",
     "output_type": "stream",
     "text": [
      "DEBUG:urllib3.connectionpool:https://f000.backblazeb2.com:443 \"GET /file/malaya-model/bpe/sp10m.cased.t5.model HTTP/1.1\" 200 793027\n",
      "132%|██████████| 1.00/0.76 [00:01<00:00, 1.24s/MB]\n",
      "INFO:root:running abstractive-summarization/small-bigbird using device /device:CPU:0\n"
     ]
    },
    {
     "name": "stdout",
     "output_type": "stream",
     "text": [
      "['- Setiausaha Agung PETA, Marzuki Yahya mengatakan bahawa dia tidak faham bagaimana keputusan itu dibuat. \"Saya sudah buat keputusan ini sedangkan kita tidak faham bagaimana keputusan itu dibuat,\" katanya kepada wartawan pada mesyuarat Majlis Pimpinan Tertinggi Bersatu di PETA pada 24 Februari lalu. \"Jadi, kita tidak faham bagaimana keputusan itu dibuat. \" Dia mengatakan bahawa dia tidak faham bagaimana keputusan itu dibuat melalui locusy yang dibawa oleh Setiausaha Agung PETA. \"Semua keputusan dibuat melalui locusy yang dibawanya kepada Setiausaha Agung parti itu,\" katanya. \"Tetapi ini bukan perkara yang dibawanya. \" Dia mengatakan bahawa dia tidak faham bagaimana keputusan itu dibuat melalui locusy yang dibawanya. \"Kenyataan itu dibuat melalui locusy yang dibawanya. Seharusnya, ia bukan perkara yang dibawanya melalui locusy yang dibawanya. \"Saya sudah buat keputusan ini sedangkan kita tidak faham bagaimana keputusan itu dibuat melalui locusy yang dibawanya,\" katanya.']\n"
     ]
    },
    {
     "name": "stderr",
     "output_type": "stream",
     "text": [
      "DEBUG:urllib3.connectionpool:Starting new HTTPS connection (1): f000.backblazeb2.com:443\n"
     ]
    },
    {
     "name": "stdout",
     "output_type": "stream",
     "text": [
      "pegasus\n"
     ]
    },
    {
     "name": "stderr",
     "output_type": "stream",
     "text": [
      "DEBUG:urllib3.connectionpool:https://f000.backblazeb2.com:443 \"HEAD /file/malaya-model/abstractive-summarization/pegasus/model.pb HTTP/1.1\" 200 0\n",
      "DEBUG:urllib3.connectionpool:Starting new HTTPS connection (1): f000.backblazeb2.com:443\n",
      "DEBUG:urllib3.connectionpool:https://f000.backblazeb2.com:443 \"HEAD /file/malaya-model/bpe/sp10m.cased.t5.model HTTP/1.1\" 200 0\n",
      "DEBUG:urllib3.connectionpool:Starting new HTTPS connection (1): f000.backblazeb2.com:443\n",
      "DEBUG:urllib3.connectionpool:https://f000.backblazeb2.com:443 \"HEAD /file/malaya-model/abstractive-summarization/pegasus/version HTTP/1.1\" 404 0\n",
      "DEBUG:urllib3.connectionpool:Starting new HTTPS connection (1): f000.backblazeb2.com:443\n"
     ]
    },
    {
     "name": "stdout",
     "output_type": "stream",
     "text": [
      "downloading frozen model to /Users/huseinzolkepli/Malaya/abstractive-summarization/pegasus/model.pb\n"
     ]
    },
    {
     "name": "stderr",
     "output_type": "stream",
     "text": [
      "DEBUG:urllib3.connectionpool:https://f000.backblazeb2.com:443 \"GET /file/malaya-model/abstractive-summarization/pegasus/model.pb HTTP/1.1\" 200 893619329\n",
      "853MB [03:01, 4.71MB/s]                          \n",
      "DEBUG:urllib3.connectionpool:Starting new HTTPS connection (1): f000.backblazeb2.com:443\n"
     ]
    },
    {
     "name": "stdout",
     "output_type": "stream",
     "text": [
      "downloading frozen vocab to /Users/huseinzolkepli/Malaya/abstractive-summarization/pegasus/sp10m.cased.t5.model\n"
     ]
    },
    {
     "name": "stderr",
     "output_type": "stream",
     "text": [
      "DEBUG:urllib3.connectionpool:https://f000.backblazeb2.com:443 \"GET /file/malaya-model/bpe/sp10m.cased.t5.model HTTP/1.1\" 200 793027\n",
      "132%|██████████| 1.00/0.76 [00:01<00:00, 1.12s/MB]\n",
      "INFO:root:running abstractive-summarization/pegasus using device /device:CPU:0\n"
     ]
    },
    {
     "name": "stdout",
     "output_type": "stream",
     "text": [
      "['- MPT mengatakan bahawa ia menolak keputusan mesyuarat khas untuk menolak peletakan jawatan sebagai setiausaha parti dan menolak keputusan itu . Setiausaha Agung Marzuki Yahya mengatakan bahawa keputusan itu dibuat sebulat suara dalam mesyuarat Majlis Pimpinan Tertinggi parti itu. \"Semua keputusan sudah dibuat dan tidak faham. Kita mesti menolak keputusan mesyuarat ini dengan menolak keputusan mesyuarat yang tidak betul,\" katanya. \"Apa pun keputusan yang dibuat, kita tidak mengambil keputusan yang sah dan tidak diputuskan oleh media tempatan. \" Kenyataan itu dikeluarkan sehari selepas mesyuarat Majlis Pimpinan Tertinggi Bersatu, Tun Dr Mahathir. \" Kenyataan itu juga menyatakan bahawa mesyuarat itu tidak dipersetujui sebulat suara dalam mesyuarat khas yang tidak berkaitan dengan parti itu. \"Kita tidak faham bagaimana kita hendak membawa perubahan di dalam parti,\" katanya.']\n"
     ]
    },
    {
     "name": "stderr",
     "output_type": "stream",
     "text": [
      "DEBUG:urllib3.connectionpool:Starting new HTTPS connection (1): f000.backblazeb2.com:443\n"
     ]
    },
    {
     "name": "stdout",
     "output_type": "stream",
     "text": [
      "small-pegasus\n"
     ]
    },
    {
     "name": "stderr",
     "output_type": "stream",
     "text": [
      "DEBUG:urllib3.connectionpool:https://f000.backblazeb2.com:443 \"HEAD /file/malaya-model/abstractive-summarization/small-pegasus/model.pb HTTP/1.1\" 200 0\n",
      "DEBUG:urllib3.connectionpool:Starting new HTTPS connection (1): f000.backblazeb2.com:443\n",
      "DEBUG:urllib3.connectionpool:https://f000.backblazeb2.com:443 \"HEAD /file/malaya-model/bpe/sp10m.cased.t5.model HTTP/1.1\" 200 0\n",
      "DEBUG:urllib3.connectionpool:Starting new HTTPS connection (1): f000.backblazeb2.com:443\n",
      "DEBUG:urllib3.connectionpool:https://f000.backblazeb2.com:443 \"HEAD /file/malaya-model/abstractive-summarization/small-pegasus/version HTTP/1.1\" 404 0\n",
      "DEBUG:urllib3.connectionpool:Starting new HTTPS connection (1): f000.backblazeb2.com:443\n"
     ]
    },
    {
     "name": "stdout",
     "output_type": "stream",
     "text": [
      "downloading frozen model to /Users/huseinzolkepli/Malaya/abstractive-summarization/small-pegasus/model.pb\n"
     ]
    },
    {
     "name": "stderr",
     "output_type": "stream",
     "text": [
      "DEBUG:urllib3.connectionpool:https://f000.backblazeb2.com:443 \"GET /file/malaya-model/abstractive-summarization/small-pegasus/model.pb HTTP/1.1\" 200 293268139\n",
      "100%|██████████| 280/280 [00:41<00:00, 6.81MB/s] \n",
      "DEBUG:urllib3.connectionpool:Starting new HTTPS connection (1): f000.backblazeb2.com:443\n"
     ]
    },
    {
     "name": "stdout",
     "output_type": "stream",
     "text": [
      "downloading frozen vocab to /Users/huseinzolkepli/Malaya/abstractive-summarization/small-pegasus/sp10m.cased.t5.model\n"
     ]
    },
    {
     "name": "stderr",
     "output_type": "stream",
     "text": [
      "DEBUG:urllib3.connectionpool:https://f000.backblazeb2.com:443 \"GET /file/malaya-model/bpe/sp10m.cased.t5.model HTTP/1.1\" 200 793027\n",
      "132%|██████████| 1.00/0.76 [00:01<00:00, 1.14s/MB]\n",
      "INFO:root:running abstractive-summarization/small-pegasus using device /device:CPU:0\n"
     ]
    },
    {
     "name": "stdout",
     "output_type": "stream",
     "text": [
      "['- Tun Dr Mahathir ditolak dalam mesyuarat khas Majlis Pimpinan Tertinggi (MPT) pada 24 Februari, tetapi tidak timbul soal peletakan jawatan itu sah atau tidak kerana ia sudah pun diputuskan pada peringkat parti yang dipersetujui semua termasuk Presiden, Tan Sri Muhyiddin Yassin. Bekas Setiausaha Agung Bersatu, Marzuki Yahya mengatakan, mesyuarat MPT sebulat suara menolak peletakan jawatan Dr Mahathir. \"Jadi ini agak berlawanan dengan keputusan yang kita sudah buat,\" katanya. \"Saya tidak faham bagaimana Jabatan Pendaftar Pertubuhan Malaysia (MPT) kata peletakan jawatan itu sah sedangkan kita sudah buat keputusan di dalam mesyuarat, bukan seorang dua yang buat keputusan. \" Marzuki mengatakan bahawa dia tidak lagi menjadi Pengerusi Bersatu berikutan peletakan jawatannya di tengah pergolakan politik pada akhir Februari adalah sah. Laporan itu juga menyatakan kedudukan Muhyiddin Yassin memangku jawatan itu juga sah.']\n"
     ]
    }
   ],
   "source": [
    "models = malaya.summarization.abstractive.available_transformer()\n",
    "for m in models.index:\n",
    "    print(m)\n",
    "    model = malaya.summarization.abstractive.transformer(model = m)\n",
    "    print(model.greedy_decoder([string]))\n",
    "    malaya.utils.delete_cache(f'abstractive-summarization/{m}')\n",
    "    del model"
   ]
  },
  {
   "cell_type": "code",
   "execution_count": null,
   "id": "ranging-convergence",
   "metadata": {},
   "outputs": [],
   "source": []
  }
 ],
 "metadata": {
  "kernelspec": {
   "display_name": "Python 3",
   "language": "python",
   "name": "python3"
  },
  "language_info": {
   "codemirror_mode": {
    "name": "ipython",
    "version": 3
   },
   "file_extension": ".py",
   "mimetype": "text/x-python",
   "name": "python",
   "nbconvert_exporter": "python",
   "pygments_lexer": "ipython3",
   "version": "3.7.7"
  }
 },
 "nbformat": 4,
 "nbformat_minor": 5
}
