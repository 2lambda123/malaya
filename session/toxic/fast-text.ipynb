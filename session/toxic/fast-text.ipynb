{
 "cells": [
  {
   "cell_type": "code",
   "execution_count": 1,
   "metadata": {},
   "outputs": [
    {
     "name": "stderr",
     "output_type": "stream",
     "text": [
      "/usr/local/lib/python3.6/dist-packages/sklearn/cross_validation.py:41: DeprecationWarning: This module was deprecated in version 0.18 in favor of the model_selection module into which all the refactored classes and functions are moved. Also note that the interface of the new CV iterators are different from that of this module. This module will be removed in 0.20.\n",
      "  \"This module will be removed in 0.20.\", DeprecationWarning)\n"
     ]
    }
   ],
   "source": [
    "import re\n",
    "import numpy as np\n",
    "import pandas as pd\n",
    "import collections\n",
    "from sklearn import metrics\n",
    "from sklearn.cross_validation import train_test_split\n",
    "import tensorflow as tf\n",
    "import pandas as pd\n",
    "from unidecode import unidecode\n",
    "from nltk.util import ngrams\n",
    "from tqdm import tqdm\n",
    "import time"
   ]
  },
  {
   "cell_type": "code",
   "execution_count": 2,
   "metadata": {},
   "outputs": [],
   "source": [
    "permulaan = [\n",
    "    'bel',\n",
    "    'se',\n",
    "    'ter',\n",
    "    'men',\n",
    "    'meng',\n",
    "    'mem',\n",
    "    'memper',\n",
    "    'di',\n",
    "    'pe',\n",
    "    'me',\n",
    "    'ke',\n",
    "    'ber',\n",
    "    'pen',\n",
    "    'per',\n",
    "]\n",
    "\n",
    "hujung = ['kan', 'kah', 'lah', 'tah', 'nya', 'an', 'wan', 'wati', 'ita']\n",
    "\n",
    "def naive_stemmer(word):\n",
    "    assert isinstance(word, str), 'input must be a string'\n",
    "    hujung_result = [e for e in hujung if word.endswith(e)]\n",
    "    if len(hujung_result):\n",
    "        hujung_result = max(hujung_result, key = len)\n",
    "        if len(hujung_result):\n",
    "            word = word[: -len(hujung_result)]\n",
    "    permulaan_result = [e for e in permulaan if word.startswith(e)]\n",
    "    if len(permulaan_result):\n",
    "        permulaan_result = max(permulaan_result, key = len)\n",
    "        if len(permulaan_result):\n",
    "            word = word[len(permulaan_result) :]\n",
    "    return word\n",
    "\n",
    "def build_dataset(words, n_words):\n",
    "    count = [['GO', 0], ['PAD', 1], ['EOS', 2], ['UNK', 3]]\n",
    "    counter = collections.Counter(words).most_common(n_words)\n",
    "    count.extend(counter)\n",
    "    dictionary = dict()\n",
    "    for word, _ in count:\n",
    "        dictionary[word] = len(dictionary)\n",
    "    data = list()\n",
    "    unk_count = 0\n",
    "    for word in words:\n",
    "        index = dictionary.get(word, 3)\n",
    "        if index == 0:\n",
    "            unk_count += 1\n",
    "        data.append(index)\n",
    "    count[0][1] = unk_count\n",
    "    reversed_dictionary = dict(zip(dictionary.values(), dictionary.keys()))\n",
    "    return data, count, dictionary, reversed_dictionary\n",
    "\n",
    "\n",
    "def classification_textcleaning(string):\n",
    "    string = re.sub(\n",
    "        'http\\S+|www.\\S+',\n",
    "        '',\n",
    "        ' '.join(\n",
    "            [i for i in string.split() if i.find('#') < 0 and i.find('@') < 0]\n",
    "        ),\n",
    "    )\n",
    "    string = unidecode(string).replace('.', ' . ').replace(',', ' , ')\n",
    "    string = re.sub('[^A-Za-z ]+', ' ', string)\n",
    "    string = re.sub(r'[ ]+', ' ', string).strip()\n",
    "    string = ' '.join(\n",
    "        [i for i in re.findall('[\\\\w\\']+|[;:\\-\\(\\)&.,!?\"]', string) if len(i)]\n",
    "    )\n",
    "    string = string.lower().split()\n",
    "    string = [naive_stemmer(word) for word in string]\n",
    "    return ' '.join([word for word in string if len(word) > 1])\n",
    "\n",
    "\n",
    "def str_idx(corpus, dic, maxlen, UNK = 3):\n",
    "    X = np.zeros((len(corpus), maxlen))\n",
    "    for i in range(len(corpus)):\n",
    "        for no, k in enumerate(corpus[i].split()[:maxlen][::-1]):\n",
    "            X[i, -1 - no] = dic.get(k, UNK)\n",
    "    return X"
   ]
  },
  {
   "cell_type": "code",
   "execution_count": 3,
   "metadata": {},
   "outputs": [
    {
     "data": {
      "text/plain": [
       "'raja benar sangat benci rakyat minyak naik gala'"
      ]
     },
     "execution_count": 3,
     "metadata": {},
     "output_type": "execute_result"
    }
   ],
   "source": [
    "classification_textcleaning('kerajaan sebenarnya sangat bencikan rakyatnya, minyak naik dan segalanya')"
   ]
  },
  {
   "cell_type": "code",
   "execution_count": 4,
   "metadata": {},
   "outputs": [
    {
     "data": {
      "text/plain": [
       "(40911, 7)"
      ]
     },
     "execution_count": 4,
     "metadata": {},
     "output_type": "execute_result"
    }
   ],
   "source": [
    "df = pd.read_csv('toxic-bm.csv')\n",
    "df = df.dropna()\n",
    "df.shape"
   ]
  },
  {
   "cell_type": "code",
   "execution_count": 5,
   "metadata": {},
   "outputs": [],
   "source": [
    "texts = df.iloc[:,0].tolist()"
   ]
  },
  {
   "cell_type": "code",
   "execution_count": 6,
   "metadata": {},
   "outputs": [],
   "source": [
    "for i in range(len(texts)):\n",
    "    texts[i] = classification_textcleaning(texts[i])"
   ]
  },
  {
   "cell_type": "code",
   "execution_count": 7,
   "metadata": {},
   "outputs": [
    {
     "name": "stdout",
     "output_type": "stream",
     "text": [
      "vocab from size: 56964\n",
      "Most common words [('yang', 103249), ('anda', 68711), ('tidak', 54325), ('untuk', 50521), ('ada', 39375), ('saya', 32581)]\n",
      "Sample data [69, 14, 208, 4, 41, 124, 277, 2543, 6095, 74] ['jelas', 'apa', 'gedit', 'yang', 'buat', 'bawah', 'minat', 'tegar', 'tallica', 'nama']\n"
     ]
    }
   ],
   "source": [
    "concat = ' '.join(texts).split()\n",
    "vocabulary_size = len(list(set(concat)))\n",
    "data, count, dictionary, rev_dictionary = build_dataset(concat, vocabulary_size)\n",
    "print('vocab from size: %d'%(vocabulary_size))\n",
    "print('Most common words', count[4:10])\n",
    "print('Sample data', data[:10], [rev_dictionary[i] for i in data[:10]])"
   ]
  },
  {
   "cell_type": "code",
   "execution_count": 8,
   "metadata": {},
   "outputs": [],
   "source": [
    "max_features = len(dictionary)\n",
    "maxlen = 100\n",
    "batch_size = 32\n",
    "embedded_size = 256"
   ]
  },
  {
   "cell_type": "code",
   "execution_count": 9,
   "metadata": {},
   "outputs": [],
   "source": [
    "max_features\n",
    "X = str_idx(texts, dictionary, maxlen)"
   ]
  },
  {
   "cell_type": "code",
   "execution_count": 10,
   "metadata": {},
   "outputs": [
    {
     "data": {
      "text/plain": [
       "(40911, 6)"
      ]
     },
     "execution_count": 10,
     "metadata": {},
     "output_type": "execute_result"
    }
   ],
   "source": [
    "list_classes = [\"toxic\", \"severe_toxic\", \"obscene\", \"threat\", \"insult\", \"identity_hate\"]\n",
    "Y = df[list_classes].values\n",
    "Y.shape"
   ]
  },
  {
   "cell_type": "code",
   "execution_count": 11,
   "metadata": {},
   "outputs": [],
   "source": [
    "train_X, test_X, train_Y, test_Y = train_test_split(X, Y, test_size = 0.2)"
   ]
  },
  {
   "cell_type": "code",
   "execution_count": 12,
   "metadata": {},
   "outputs": [],
   "source": [
    "class Model:\n",
    "    def __init__(\n",
    "        self, embedded_size, dict_size, dimension_output, learning_rate\n",
    "    ):\n",
    "\n",
    "        self.X = tf.placeholder(tf.int32, [None, None])\n",
    "        self.Y = tf.placeholder(tf.float32, [None, dimension_output])\n",
    "        encoder_embeddings = tf.Variable(\n",
    "            tf.random_uniform([dict_size, embedded_size], -1, 1)\n",
    "        )\n",
    "        encoder_embedded = tf.nn.embedding_lookup(encoder_embeddings, self.X)\n",
    "        self.logits = tf.identity(\n",
    "            tf.layers.dense(\n",
    "                tf.reduce_mean(encoder_embedded, 1), dimension_output\n",
    "            ),\n",
    "            name = 'logits',\n",
    "        )\n",
    "        self.cost = tf.reduce_mean(\n",
    "            tf.nn.sigmoid_cross_entropy_with_logits(\n",
    "                logits = self.logits, labels = self.Y\n",
    "            )\n",
    "        )\n",
    "        self.optimizer = tf.train.AdamOptimizer(learning_rate).minimize(\n",
    "            self.cost\n",
    "        )\n",
    "        correct_prediction = tf.equal(tf.round(tf.nn.sigmoid(self.logits)), tf.round(self.Y))\n",
    "        all_labels_true = tf.reduce_min(tf.cast(correct_prediction, tf.float32), 1)\n",
    "        self.accuracy = tf.reduce_mean(all_labels_true)"
   ]
  },
  {
   "cell_type": "code",
   "execution_count": 13,
   "metadata": {},
   "outputs": [
    {
     "data": {
      "text/plain": [
       "'fast-text/model.ckpt'"
      ]
     },
     "execution_count": 13,
     "metadata": {},
     "output_type": "execute_result"
    }
   ],
   "source": [
    "tf.reset_default_graph()\n",
    "sess = tf.InteractiveSession()\n",
    "model = Model(embedded_size, max_features, Y.shape[1], 5e-4)\n",
    "sess.run(tf.global_variables_initializer())\n",
    "saver = tf.train.Saver(tf.trainable_variables())\n",
    "saver.save(sess, 'fast-text/model.ckpt')"
   ]
  },
  {
   "cell_type": "code",
   "execution_count": 14,
   "metadata": {},
   "outputs": [
    {
     "data": {
      "text/plain": [
       "['Placeholder',\n",
       " 'Placeholder_1',\n",
       " 'Variable',\n",
       " 'dense/kernel',\n",
       " 'dense/bias',\n",
       " 'logits']"
      ]
     },
     "execution_count": 14,
     "metadata": {},
     "output_type": "execute_result"
    }
   ],
   "source": [
    "strings = ','.join(\n",
    "    [\n",
    "        n.name\n",
    "        for n in tf.get_default_graph().as_graph_def().node\n",
    "        if ('Variable' in n.op\n",
    "        or 'Placeholder' in n.name\n",
    "        or 'logits' in n.name)\n",
    "        and 'Adam' not in n.name\n",
    "        and 'beta' not in n.name\n",
    "    ]\n",
    ")\n",
    "strings.split(',')"
   ]
  },
  {
   "cell_type": "code",
   "execution_count": 15,
   "metadata": {},
   "outputs": [
    {
     "data": {
      "text/plain": [
       "[<tf.Variable 'Variable:0' shape=(56968, 256) dtype=float32_ref>,\n",
       " <tf.Variable 'dense/kernel:0' shape=(256, 6) dtype=float32_ref>,\n",
       " <tf.Variable 'dense/bias:0' shape=(6,) dtype=float32_ref>]"
      ]
     },
     "execution_count": 15,
     "metadata": {},
     "output_type": "execute_result"
    }
   ],
   "source": [
    "tf.trainable_variables()"
   ]
  },
  {
   "cell_type": "code",
   "execution_count": 16,
   "metadata": {},
   "outputs": [
    {
     "name": "stderr",
     "output_type": "stream",
     "text": [
      "train minibatch loop: 100%|██████████| 1023/1023 [00:17<00:00, 59.28it/s, accuracy=0.833, cost=0.176] \n",
      "test minibatch loop: 100%|██████████| 256/256 [00:00<00:00, 623.44it/s, accuracy=0.87, cost=0.15]   \n",
      "train minibatch loop:   1%|          | 6/1023 [00:00<00:16, 59.94it/s, accuracy=0.812, cost=0.26] "
     ]
    },
    {
     "name": "stdout",
     "output_type": "stream",
     "text": [
      "epoch: 0, pass acc: 0.000000, current acc: 0.900749\n",
      "time taken: 17.67021131515503\n",
      "epoch: 0, training loss: 0.175856, training acc: 0.888678, valid loss: 0.126303, valid acc: 0.900749\n",
      "\n"
     ]
    },
    {
     "name": "stderr",
     "output_type": "stream",
     "text": [
      "train minibatch loop: 100%|██████████| 1023/1023 [00:17<00:00, 58.55it/s, accuracy=0.833, cost=0.159] \n",
      "test minibatch loop: 100%|██████████| 256/256 [00:00<00:00, 580.00it/s, accuracy=0.87, cost=0.139]  \n",
      "train minibatch loop:   1%|          | 6/1023 [00:00<00:17, 58.19it/s, accuracy=0.844, cost=0.196] "
     ]
    },
    {
     "name": "stdout",
     "output_type": "stream",
     "text": [
      "time taken: 17.9156494140625\n",
      "epoch: 1, training loss: 0.126398, training acc: 0.895584, valid loss: 0.116331, valid acc: 0.900749\n",
      "\n"
     ]
    },
    {
     "name": "stderr",
     "output_type": "stream",
     "text": [
      "train minibatch loop: 100%|██████████| 1023/1023 [00:26<00:00, 38.49it/s, accuracy=0.833, cost=0.13]  \n",
      "test minibatch loop: 100%|██████████| 256/256 [00:00<00:00, 357.52it/s, accuracy=0.87, cost=0.133]  \n",
      "train minibatch loop:   0%|          | 3/1023 [00:00<00:34, 29.89it/s, accuracy=0.812, cost=0.124] "
     ]
    },
    {
     "name": "stdout",
     "output_type": "stream",
     "text": [
      "time taken: 27.295220375061035\n",
      "epoch: 2, training loss: 0.115411, training acc: 0.895798, valid loss: 0.108283, valid acc: 0.900626\n",
      "\n"
     ]
    },
    {
     "name": "stderr",
     "output_type": "stream",
     "text": [
      "train minibatch loop: 100%|██████████| 1023/1023 [00:28<00:00, 35.89it/s, accuracy=0.875, cost=0.105] \n",
      "test minibatch loop: 100%|██████████| 256/256 [00:00<00:00, 355.35it/s, accuracy=0.913, cost=0.129] \n",
      "train minibatch loop:   0%|          | 4/1023 [00:00<00:26, 38.99it/s, accuracy=0.844, cost=0.127] "
     ]
    },
    {
     "name": "stdout",
     "output_type": "stream",
     "text": [
      "epoch: 3, pass acc: 0.900749, current acc: 0.901530\n",
      "time taken: 29.228374481201172\n",
      "epoch: 3, training loss: 0.105398, training acc: 0.896572, valid loss: 0.102002, valid acc: 0.901530\n",
      "\n"
     ]
    },
    {
     "name": "stderr",
     "output_type": "stream",
     "text": [
      "train minibatch loop: 100%|██████████| 1023/1023 [00:28<00:00, 35.90it/s, accuracy=0.875, cost=0.0883]\n",
      "test minibatch loop: 100%|██████████| 256/256 [00:00<00:00, 354.32it/s, accuracy=0.87, cost=0.128]  \n",
      "train minibatch loop:   0%|          | 4/1023 [00:00<00:29, 34.43it/s, accuracy=0.844, cost=0.117] "
     ]
    },
    {
     "name": "stdout",
     "output_type": "stream",
     "text": [
      "epoch: 4, pass acc: 0.901530, current acc: 0.901971\n",
      "time taken: 29.222991704940796\n",
      "epoch: 4, training loss: 0.097251, training acc: 0.897763, valid loss: 0.097868, valid acc: 0.901971\n",
      "\n"
     ]
    },
    {
     "name": "stderr",
     "output_type": "stream",
     "text": [
      "train minibatch loop: 100%|██████████| 1023/1023 [00:28<00:00, 35.89it/s, accuracy=0.917, cost=0.077] \n",
      "test minibatch loop: 100%|██████████| 256/256 [00:00<00:00, 348.90it/s, accuracy=0.87, cost=0.127]  \n",
      "train minibatch loop:   0%|          | 4/1023 [00:00<00:26, 38.90it/s, accuracy=0.844, cost=0.11]  "
     ]
    },
    {
     "name": "stdout",
     "output_type": "stream",
     "text": [
      "epoch: 5, pass acc: 0.901971, current acc: 0.902704\n",
      "time taken: 29.240747928619385\n",
      "epoch: 5, training loss: 0.090905, training acc: 0.899240, valid loss: 0.095145, valid acc: 0.902704\n",
      "\n"
     ]
    },
    {
     "name": "stderr",
     "output_type": "stream",
     "text": [
      "train minibatch loop: 100%|██████████| 1023/1023 [00:28<00:00, 35.80it/s, accuracy=0.917, cost=0.0689]\n",
      "test minibatch loop: 100%|██████████| 256/256 [00:00<00:00, 347.63it/s, accuracy=0.87, cost=0.126]  \n",
      "train minibatch loop:   0%|          | 4/1023 [00:00<00:30, 33.60it/s, accuracy=0.844, cost=0.104] "
     ]
    },
    {
     "name": "stdout",
     "output_type": "stream",
     "text": [
      "epoch: 6, pass acc: 0.902704, current acc: 0.902826\n",
      "time taken: 29.31447458267212\n",
      "epoch: 6, training loss: 0.085769, training acc: 0.900982, valid loss: 0.093267, valid acc: 0.902826\n",
      "\n"
     ]
    },
    {
     "name": "stderr",
     "output_type": "stream",
     "text": [
      "train minibatch loop: 100%|██████████| 1023/1023 [00:28<00:00, 35.87it/s, accuracy=0.958, cost=0.0629]\n",
      "test minibatch loop: 100%|██████████| 256/256 [00:00<00:00, 348.21it/s, accuracy=0.87, cost=0.124]  \n",
      "train minibatch loop:   0%|          | 4/1023 [00:00<00:31, 32.30it/s, accuracy=0.812, cost=0.1]   "
     ]
    },
    {
     "name": "stdout",
     "output_type": "stream",
     "text": [
      "epoch: 7, pass acc: 0.902826, current acc: 0.903315\n",
      "time taken: 29.26025366783142\n",
      "epoch: 7, training loss: 0.081451, training acc: 0.902703, valid loss: 0.091942, valid acc: 0.903315\n",
      "\n"
     ]
    },
    {
     "name": "stderr",
     "output_type": "stream",
     "text": [
      "train minibatch loop: 100%|██████████| 1023/1023 [00:28<00:00, 35.87it/s, accuracy=0.958, cost=0.0584]\n",
      "test minibatch loop: 100%|██████████| 256/256 [00:00<00:00, 357.90it/s, accuracy=0.87, cost=0.122]  \n",
      "train minibatch loop:   0%|          | 4/1023 [00:00<00:28, 35.55it/s, accuracy=0.812, cost=0.0968]"
     ]
    },
    {
     "name": "stdout",
     "output_type": "stream",
     "text": [
      "epoch: 8, pass acc: 0.903315, current acc: 0.904415\n",
      "time taken: 29.236499071121216\n",
      "epoch: 8, training loss: 0.077724, training acc: 0.904934, valid loss: 0.091003, valid acc: 0.904415\n",
      "\n"
     ]
    },
    {
     "name": "stderr",
     "output_type": "stream",
     "text": [
      "train minibatch loop: 100%|██████████| 1023/1023 [00:28<00:00, 35.75it/s, accuracy=0.958, cost=0.055] \n",
      "test minibatch loop: 100%|██████████| 256/256 [00:00<00:00, 350.84it/s, accuracy=0.87, cost=0.119]  \n",
      "train minibatch loop:   0%|          | 4/1023 [00:00<00:29, 34.19it/s, accuracy=0.812, cost=0.0937]"
     ]
    },
    {
     "name": "stdout",
     "output_type": "stream",
     "text": [
      "epoch: 9, pass acc: 0.904415, current acc: 0.904904\n",
      "time taken: 29.344812393188477\n",
      "epoch: 9, training loss: 0.074444, training acc: 0.906309, valid loss: 0.090348, valid acc: 0.904904\n",
      "\n"
     ]
    },
    {
     "name": "stderr",
     "output_type": "stream",
     "text": [
      "train minibatch loop: 100%|██████████| 1023/1023 [00:28<00:00, 35.58it/s, accuracy=0.958, cost=0.0524]\n",
      "test minibatch loop: 100%|██████████| 256/256 [00:00<00:00, 347.77it/s, accuracy=0.87, cost=0.116]  \n",
      "train minibatch loop:   0%|          | 5/1023 [00:00<00:23, 42.49it/s, accuracy=0.906, cost=0.0409]"
     ]
    },
    {
     "name": "stdout",
     "output_type": "stream",
     "text": [
      "epoch: 10, pass acc: 0.904904, current acc: 0.905148\n",
      "time taken: 29.26092839241028\n",
      "epoch: 10, training loss: 0.071510, training acc: 0.908631, valid loss: 0.089916, valid acc: 0.905148\n",
      "\n"
     ]
    },
    {
     "name": "stderr",
     "output_type": "stream",
     "text": [
      "train minibatch loop: 100%|██████████| 1023/1023 [00:28<00:00, 36.33it/s, accuracy=0.958, cost=0.0502]\n",
      "test minibatch loop: 100%|██████████| 256/256 [00:00<00:00, 349.04it/s, accuracy=0.87, cost=0.114]  \n",
      "train minibatch loop:   0%|          | 4/1023 [00:00<00:32, 31.31it/s, accuracy=0.812, cost=0.0884]"
     ]
    },
    {
     "name": "stdout",
     "output_type": "stream",
     "text": [
      "epoch: 11, pass acc: 0.905148, current acc: 0.905637\n",
      "time taken: 29.171502828598022\n",
      "epoch: 11, training loss: 0.068853, training acc: 0.909670, valid loss: 0.089668, valid acc: 0.905637\n",
      "\n"
     ]
    },
    {
     "name": "stderr",
     "output_type": "stream",
     "text": [
      "train minibatch loop: 100%|██████████| 1023/1023 [00:28<00:00, 35.90it/s, accuracy=0.958, cost=0.0485]\n",
      "test minibatch loop: 100%|██████████| 256/256 [00:00<00:00, 353.38it/s, accuracy=0.87, cost=0.111]  \n",
      "train minibatch loop:   0%|          | 5/1023 [00:00<00:26, 37.96it/s, accuracy=0.875, cost=0.0752]"
     ]
    },
    {
     "name": "stdout",
     "output_type": "stream",
     "text": [
      "time taken: 29.224568128585815\n",
      "epoch: 12, training loss: 0.066423, training acc: 0.910647, valid loss: 0.089580, valid acc: 0.905270\n",
      "\n"
     ]
    },
    {
     "name": "stderr",
     "output_type": "stream",
     "text": [
      "train minibatch loop: 100%|██████████| 1023/1023 [00:28<00:00, 35.85it/s, accuracy=0.958, cost=0.047] \n",
      "test minibatch loop: 100%|██████████| 256/256 [00:00<00:00, 357.96it/s, accuracy=0.87, cost=0.109]  \n",
      "train minibatch loop:   0%|          | 4/1023 [00:00<00:30, 33.35it/s, accuracy=0.875, cost=0.0718]"
     ]
    },
    {
     "name": "stdout",
     "output_type": "stream",
     "text": [
      "time taken: 29.255865335464478\n",
      "epoch: 13, training loss: 0.064184, training acc: 0.912389, valid loss: 0.089629, valid acc: 0.905515\n",
      "\n"
     ]
    },
    {
     "name": "stderr",
     "output_type": "stream",
     "text": [
      "train minibatch loop: 100%|██████████| 1023/1023 [00:28<00:00, 36.00it/s, accuracy=0.958, cost=0.0456]\n",
      "test minibatch loop: 100%|██████████| 256/256 [00:00<00:00, 354.33it/s, accuracy=0.87, cost=0.107]  \n",
      "train minibatch loop:   0%|          | 4/1023 [00:00<00:33, 30.33it/s, accuracy=0.844, cost=0.0828]"
     ]
    },
    {
     "name": "stdout",
     "output_type": "stream",
     "text": [
      "epoch: 14, pass acc: 0.905637, current acc: 0.905759\n",
      "time taken: 29.13993811607361\n",
      "epoch: 14, training loss: 0.062105, training acc: 0.914283, valid loss: 0.089792, valid acc: 0.905759\n",
      "\n"
     ]
    },
    {
     "name": "stderr",
     "output_type": "stream",
     "text": [
      "train minibatch loop: 100%|██████████| 1023/1023 [00:28<00:00, 35.81it/s, accuracy=0.958, cost=0.0444]\n",
      "test minibatch loop: 100%|██████████| 256/256 [00:00<00:00, 359.60it/s, accuracy=0.87, cost=0.106]  \n",
      "train minibatch loop:   0%|          | 5/1023 [00:00<00:23, 43.47it/s, accuracy=0.938, cost=0.0344]"
     ]
    },
    {
     "name": "stdout",
     "output_type": "stream",
     "text": [
      "time taken: 29.2790687084198\n",
      "epoch: 15, training loss: 0.060164, training acc: 0.916300, valid loss: 0.090051, valid acc: 0.905637\n",
      "\n"
     ]
    },
    {
     "name": "stderr",
     "output_type": "stream",
     "text": [
      "train minibatch loop: 100%|██████████| 1023/1023 [00:28<00:00, 35.84it/s, accuracy=0.958, cost=0.0432]\n",
      "test minibatch loop: 100%|██████████| 256/256 [00:00<00:00, 354.78it/s, accuracy=0.87, cost=0.105]  \n",
      "train minibatch loop:   0%|          | 4/1023 [00:00<00:29, 33.98it/s, accuracy=0.875, cost=0.0639]"
     ]
    },
    {
     "name": "stdout",
     "output_type": "stream",
     "text": [
      "time taken: 29.27013373374939\n",
      "epoch: 16, training loss: 0.058344, training acc: 0.917736, valid loss: 0.090388, valid acc: 0.905392\n",
      "\n"
     ]
    },
    {
     "name": "stderr",
     "output_type": "stream",
     "text": [
      "train minibatch loop: 100%|██████████| 1023/1023 [00:28<00:00, 35.91it/s, accuracy=0.958, cost=0.042] \n",
      "test minibatch loop: 100%|██████████| 256/256 [00:00<00:00, 350.08it/s, accuracy=0.87, cost=0.104]  \n",
      "train minibatch loop:   0%|          | 4/1023 [00:00<00:30, 33.31it/s, accuracy=0.875, cost=0.062] "
     ]
    },
    {
     "name": "stdout",
     "output_type": "stream",
     "text": [
      "epoch: 17, pass acc: 0.905759, current acc: 0.906370\n",
      "time taken: 29.219120979309082\n",
      "epoch: 17, training loss: 0.056629, training acc: 0.919325, valid loss: 0.090790, valid acc: 0.906370\n",
      "\n"
     ]
    },
    {
     "name": "stderr",
     "output_type": "stream",
     "text": [
      "train minibatch loop: 100%|██████████| 1023/1023 [00:28<00:00, 35.88it/s, accuracy=0.958, cost=0.0408]\n",
      "test minibatch loop: 100%|██████████| 256/256 [00:00<00:00, 352.86it/s, accuracy=0.87, cost=0.103]  \n",
      "train minibatch loop:   0%|          | 4/1023 [00:00<00:28, 36.34it/s, accuracy=0.844, cost=0.0765]"
     ]
    },
    {
     "name": "stdout",
     "output_type": "stream",
     "text": [
      "epoch: 18, pass acc: 0.906370, current acc: 0.906614\n",
      "time taken: 29.237867832183838\n",
      "epoch: 18, training loss: 0.055008, training acc: 0.920883, valid loss: 0.091249, valid acc: 0.906614\n",
      "\n"
     ]
    },
    {
     "name": "stderr",
     "output_type": "stream",
     "text": [
      "train minibatch loop: 100%|██████████| 1023/1023 [00:28<00:00, 35.85it/s, accuracy=0.958, cost=0.0397]\n",
      "test minibatch loop: 100%|██████████| 256/256 [00:00<00:00, 348.56it/s, accuracy=0.87, cost=0.102]  \n",
      "train minibatch loop:   0%|          | 5/1023 [00:00<00:24, 42.08it/s, accuracy=0.938, cost=0.0307]"
     ]
    },
    {
     "name": "stdout",
     "output_type": "stream",
     "text": [
      "epoch: 19, pass acc: 0.906614, current acc: 0.906859\n",
      "time taken: 29.268934726715088\n",
      "epoch: 19, training loss: 0.053469, training acc: 0.922472, valid loss: 0.091758, valid acc: 0.906859\n",
      "\n"
     ]
    },
    {
     "name": "stderr",
     "output_type": "stream",
     "text": [
      "train minibatch loop: 100%|██████████| 1023/1023 [00:28<00:00, 36.01it/s, accuracy=0.958, cost=0.0385]\n",
      "test minibatch loop: 100%|██████████| 256/256 [00:00<00:00, 339.79it/s, accuracy=0.87, cost=0.102]  \n",
      "train minibatch loop:   0%|          | 3/1023 [00:00<00:34, 29.86it/s, accuracy=0.844, cost=0.0731]"
     ]
    },
    {
     "name": "stdout",
     "output_type": "stream",
     "text": [
      "epoch: 20, pass acc: 0.906859, current acc: 0.907103\n",
      "time taken: 29.162500619888306\n",
      "epoch: 20, training loss: 0.052005, training acc: 0.924305, valid loss: 0.092313, valid acc: 0.907103\n",
      "\n"
     ]
    },
    {
     "name": "stderr",
     "output_type": "stream",
     "text": [
      "train minibatch loop: 100%|██████████| 1023/1023 [00:28<00:00, 35.33it/s, accuracy=0.958, cost=0.0372]\n",
      "test minibatch loop: 100%|██████████| 256/256 [00:00<00:00, 358.43it/s, accuracy=0.87, cost=0.102]  \n",
      "train minibatch loop:   0%|          | 4/1023 [00:00<00:29, 34.42it/s, accuracy=0.906, cost=0.0567]"
     ]
    },
    {
     "name": "stdout",
     "output_type": "stream",
     "text": [
      "time taken: 29.101248264312744\n",
      "epoch: 21, training loss: 0.050609, training acc: 0.925986, valid loss: 0.092906, valid acc: 0.907103\n",
      "\n"
     ]
    },
    {
     "name": "stderr",
     "output_type": "stream",
     "text": [
      "train minibatch loop: 100%|██████████| 1023/1023 [00:28<00:00, 35.82it/s, accuracy=0.958, cost=0.036] \n",
      "test minibatch loop: 100%|██████████| 256/256 [00:00<00:00, 355.42it/s, accuracy=0.87, cost=0.102]  \n",
      "train minibatch loop:   0%|          | 4/1023 [00:00<00:33, 30.48it/s, accuracy=0.875, cost=0.0695]"
     ]
    },
    {
     "name": "stdout",
     "output_type": "stream",
     "text": [
      "epoch: 22, pass acc: 0.907103, current acc: 0.907225\n",
      "time taken: 29.283747673034668\n",
      "epoch: 22, training loss: 0.049276, training acc: 0.927483, valid loss: 0.093537, valid acc: 0.907225\n",
      "\n"
     ]
    },
    {
     "name": "stderr",
     "output_type": "stream",
     "text": [
      "train minibatch loop: 100%|██████████| 1023/1023 [00:28<00:00, 34.35it/s, accuracy=0.958, cost=0.0348]\n",
      "test minibatch loop: 100%|██████████| 256/256 [00:00<00:00, 352.76it/s, accuracy=0.87, cost=0.102]  \n",
      "train minibatch loop:   0%|          | 5/1023 [00:00<00:25, 40.34it/s, accuracy=0.906, cost=0.0547]"
     ]
    },
    {
     "name": "stdout",
     "output_type": "stream",
     "text": [
      "epoch: 23, pass acc: 0.907225, current acc: 0.907348\n",
      "time taken: 29.24654722213745\n",
      "epoch: 23, training loss: 0.048001, training acc: 0.929225, valid loss: 0.094200, valid acc: 0.907348\n",
      "\n"
     ]
    },
    {
     "name": "stderr",
     "output_type": "stream",
     "text": [
      "train minibatch loop: 100%|██████████| 1023/1023 [00:28<00:00, 35.87it/s, accuracy=1, cost=0.0336]    \n",
      "test minibatch loop: 100%|██████████| 256/256 [00:00<00:00, 360.20it/s, accuracy=0.87, cost=0.102]  \n",
      "train minibatch loop:   0%|          | 4/1023 [00:00<00:30, 33.43it/s, accuracy=0.906, cost=0.0537]"
     ]
    },
    {
     "name": "stdout",
     "output_type": "stream",
     "text": [
      "time taken: 29.238682508468628\n",
      "epoch: 24, training loss: 0.046778, training acc: 0.930946, valid loss: 0.094891, valid acc: 0.907225\n",
      "\n"
     ]
    },
    {
     "name": "stderr",
     "output_type": "stream",
     "text": [
      "train minibatch loop: 100%|██████████| 1023/1023 [00:28<00:00, 36.51it/s, accuracy=1, cost=0.0323]    \n",
      "test minibatch loop: 100%|██████████| 256/256 [00:00<00:00, 348.39it/s, accuracy=0.87, cost=0.102]  \n",
      "train minibatch loop:   0%|          | 4/1023 [00:00<00:30, 33.57it/s, accuracy=0.906, cost=0.0527]"
     ]
    },
    {
     "name": "stdout",
     "output_type": "stream",
     "text": [
      "time taken: 29.24742031097412\n",
      "epoch: 25, training loss: 0.045603, training acc: 0.932688, valid loss: 0.095596, valid acc: 0.907225\n",
      "\n"
     ]
    },
    {
     "name": "stderr",
     "output_type": "stream",
     "text": [
      "train minibatch loop: 100%|██████████| 1023/1023 [00:28<00:00, 36.15it/s, accuracy=1, cost=0.0311]    \n",
      "test minibatch loop: 100%|██████████| 256/256 [00:00<00:00, 351.29it/s, accuracy=0.87, cost=0.102]  \n",
      "train minibatch loop:   0%|          | 4/1023 [00:00<00:30, 33.10it/s, accuracy=0.906, cost=0.0517]"
     ]
    },
    {
     "name": "stdout",
     "output_type": "stream",
     "text": [
      "time taken: 29.029107570648193\n",
      "epoch: 26, training loss: 0.044470, training acc: 0.934093, valid loss: 0.096319, valid acc: 0.906981\n",
      "\n"
     ]
    },
    {
     "name": "stderr",
     "output_type": "stream",
     "text": [
      "train minibatch loop: 100%|██████████| 1023/1023 [00:28<00:00, 35.99it/s, accuracy=1, cost=0.0298]    \n",
      "test minibatch loop: 100%|██████████| 256/256 [00:00<00:00, 322.37it/s, accuracy=0.87, cost=0.102]  \n",
      "train minibatch loop:   0%|          | 5/1023 [00:00<00:24, 41.90it/s, accuracy=0.938, cost=0.0245]"
     ]
    },
    {
     "name": "stdout",
     "output_type": "stream",
     "text": [
      "time taken: 29.21823024749756\n",
      "epoch: 27, training loss: 0.043376, training acc: 0.935560, valid loss: 0.097054, valid acc: 0.906737\n",
      "\n"
     ]
    },
    {
     "name": "stderr",
     "output_type": "stream",
     "text": [
      "train minibatch loop: 100%|██████████| 1023/1023 [00:28<00:00, 35.96it/s, accuracy=1, cost=0.0285]    \n",
      "test minibatch loop: 100%|██████████| 256/256 [00:00<00:00, 349.76it/s, accuracy=0.87, cost=0.103]  \n"
     ]
    },
    {
     "name": "stdout",
     "output_type": "stream",
     "text": [
      "time taken: 29.18390130996704\n",
      "epoch: 28, training loss: 0.042318, training acc: 0.937088, valid loss: 0.097813, valid acc: 0.907225\n",
      "\n",
      "break epoch:29\n",
      "\n"
     ]
    },
    {
     "data": {
      "text/plain": [
       "'fast-text/model.ckpt'"
      ]
     },
     "execution_count": 16,
     "metadata": {},
     "output_type": "execute_result"
    }
   ],
   "source": [
    "EARLY_STOPPING, CURRENT_CHECKPOINT, CURRENT_ACC, EPOCH = 5, 0, 0, 0\n",
    "\n",
    "while True:\n",
    "    lasttime = time.time()\n",
    "    if CURRENT_CHECKPOINT == EARLY_STOPPING:\n",
    "        print('break epoch:%d\\n' % (EPOCH))\n",
    "        break\n",
    "\n",
    "    train_acc, train_loss, test_acc, test_loss = 0, 0, 0, 0\n",
    "    pbar = tqdm(\n",
    "        range(0, len(train_X), batch_size), desc = 'train minibatch loop'\n",
    "    )\n",
    "    for i in pbar:\n",
    "        batch_x = train_X[i : min(i + batch_size, train_X.shape[0])]\n",
    "        batch_y = train_Y[i : min(i + batch_size, train_X.shape[0])]\n",
    "        acc, cost, _ = sess.run(\n",
    "            [model.accuracy, model.cost, model.optimizer],\n",
    "            feed_dict = {\n",
    "                model.X: batch_x,\n",
    "                model.Y: batch_y\n",
    "            },\n",
    "        )\n",
    "        assert not np.isnan(cost)\n",
    "        train_loss += cost\n",
    "        train_acc += acc\n",
    "        pbar.set_postfix(cost = cost, accuracy = acc)\n",
    "\n",
    "    pbar = tqdm(range(0, len(test_X), batch_size), desc = 'test minibatch loop')\n",
    "    for i in pbar:\n",
    "        batch_x = test_X[i : min(i + batch_size, test_X.shape[0])]\n",
    "        batch_y = test_Y[i : min(i + batch_size, test_X.shape[0])]\n",
    "        acc, cost = sess.run(\n",
    "            [model.accuracy, model.cost],\n",
    "            feed_dict = {\n",
    "                model.X: batch_x,\n",
    "                model.Y: batch_y\n",
    "            },\n",
    "        )\n",
    "        test_loss += cost\n",
    "        test_acc += acc\n",
    "        pbar.set_postfix(cost = cost, accuracy = acc)\n",
    "\n",
    "    train_loss /= len(train_X) / batch_size\n",
    "    train_acc /= len(train_X) / batch_size\n",
    "    test_loss /= len(test_X) / batch_size\n",
    "    test_acc /= len(test_X) / batch_size\n",
    "\n",
    "    if test_acc > CURRENT_ACC:\n",
    "        print(\n",
    "            'epoch: %d, pass acc: %f, current acc: %f'\n",
    "            % (EPOCH, CURRENT_ACC, test_acc)\n",
    "        )\n",
    "        CURRENT_ACC = test_acc\n",
    "        CURRENT_CHECKPOINT = 0\n",
    "    else:\n",
    "        CURRENT_CHECKPOINT += 1\n",
    "\n",
    "    print('time taken:', time.time() - lasttime)\n",
    "    print(\n",
    "        'epoch: %d, training loss: %f, training acc: %f, valid loss: %f, valid acc: %f\\n'\n",
    "        % (EPOCH, train_loss, train_acc, test_loss, test_acc)\n",
    "    )\n",
    "    EPOCH += 1\n",
    "\n",
    "saver.save(sess, \"fast-text/model.ckpt\")"
   ]
  },
  {
   "cell_type": "code",
   "execution_count": 17,
   "metadata": {},
   "outputs": [
    {
     "name": "stderr",
     "output_type": "stream",
     "text": [
      "test minibatch loop: 100%|██████████| 256/256 [00:01<00:00, 136.64it/s]\n"
     ]
    }
   ],
   "source": [
    "stack = []\n",
    "pbar = tqdm(range(0, len(test_X), batch_size), desc = 'test minibatch loop')\n",
    "for i in pbar:\n",
    "    batch_x = test_X[i : min(i + batch_size, test_X.shape[0])]\n",
    "    batch_y = test_Y[i : min(i + batch_size, test_X.shape[0])]\n",
    "    stack.append(sess.run(tf.nn.sigmoid(model.logits),\n",
    "                         feed_dict = {model.X: batch_x}))"
   ]
  },
  {
   "cell_type": "code",
   "execution_count": 18,
   "metadata": {},
   "outputs": [
    {
     "name": "stdout",
     "output_type": "stream",
     "text": [
      "               precision    recall  f1-score   support\n",
      "\n",
      "        toxic       0.80      0.52      0.63       772\n",
      " severe_toxic       0.49      0.25      0.33        72\n",
      "      obscene       0.78      0.44      0.56       422\n",
      "       threat       0.29      0.15      0.20        26\n",
      "       insult       0.70      0.46      0.56       380\n",
      "identity_hate       0.28      0.14      0.19        57\n",
      "\n",
      "  avg / total       0.74      0.46      0.56      1729\n",
      "\n"
     ]
    }
   ],
   "source": [
    "print(metrics.classification_report(test_Y,np.around(np.concatenate(stack,axis=0)),\n",
    "                                    target_names=[\"toxic\", \"severe_toxic\", \"obscene\", \n",
    "                                            \"threat\", \"insult\", \"identity_hate\"]))"
   ]
  },
  {
   "cell_type": "code",
   "execution_count": 19,
   "metadata": {},
   "outputs": [
    {
     "data": {
      "text/plain": [
       "array([[0.99999166, 0.26489863, 0.97606987, 0.00815156, 0.09597817,\n",
       "        0.00756723]], dtype=float32)"
      ]
     },
     "execution_count": 19,
     "metadata": {},
     "output_type": "execute_result"
    }
   ],
   "source": [
    "text = 'kerajaan sebenarnya sangat bencikan rakyatnya, minyak naik dan segalanya'\n",
    "new_vector = str_idx([classification_textcleaning(text)], dictionary, len(text.split()))\n",
    "sess.run(tf.nn.sigmoid(model.logits), feed_dict={model.X:new_vector})"
   ]
  },
  {
   "cell_type": "code",
   "execution_count": 20,
   "metadata": {},
   "outputs": [],
   "source": [
    "import json\n",
    "with open('fast-text-toxic.json','w') as fopen:\n",
    "    fopen.write(json.dumps({'dictionary':dictionary,'reverse_dictionary':rev_dictionary}))"
   ]
  },
  {
   "cell_type": "code",
   "execution_count": 21,
   "metadata": {},
   "outputs": [],
   "source": [
    "def freeze_graph(model_dir, output_node_names):\n",
    "\n",
    "    if not tf.gfile.Exists(model_dir):\n",
    "        raise AssertionError(\n",
    "            \"Export directory doesn't exists. Please specify an export \"\n",
    "            'directory: %s' % model_dir\n",
    "        )\n",
    "\n",
    "    checkpoint = tf.train.get_checkpoint_state(model_dir)\n",
    "    input_checkpoint = checkpoint.model_checkpoint_path\n",
    "\n",
    "    absolute_model_dir = '/'.join(input_checkpoint.split('/')[:-1])\n",
    "    output_graph = absolute_model_dir + '/frozen_model.pb'\n",
    "    clear_devices = True\n",
    "    with tf.Session(graph = tf.Graph()) as sess:\n",
    "        saver = tf.train.import_meta_graph(\n",
    "            input_checkpoint + '.meta', clear_devices = clear_devices\n",
    "        )\n",
    "        saver.restore(sess, input_checkpoint)\n",
    "        output_graph_def = tf.graph_util.convert_variables_to_constants(\n",
    "            sess,\n",
    "            tf.get_default_graph().as_graph_def(),\n",
    "            output_node_names.split(','),\n",
    "        )\n",
    "        with tf.gfile.GFile(output_graph, 'wb') as f:\n",
    "            f.write(output_graph_def.SerializeToString())\n",
    "        print('%d ops in the final graph.' % len(output_graph_def.node))"
   ]
  },
  {
   "cell_type": "code",
   "execution_count": 22,
   "metadata": {},
   "outputs": [
    {
     "name": "stdout",
     "output_type": "stream",
     "text": [
      "INFO:tensorflow:Restoring parameters from fast-text/model.ckpt\n",
      "INFO:tensorflow:Froze 3 variables.\n",
      "INFO:tensorflow:Converted 3 variables to const ops.\n",
      "16 ops in the final graph.\n"
     ]
    }
   ],
   "source": [
    "freeze_graph('fast-text', strings)"
   ]
  },
  {
   "cell_type": "code",
   "execution_count": 23,
   "metadata": {},
   "outputs": [],
   "source": [
    "def load_graph(frozen_graph_filename):\n",
    "    with tf.gfile.GFile(frozen_graph_filename, 'rb') as f:\n",
    "        graph_def = tf.GraphDef()\n",
    "        graph_def.ParseFromString(f.read())\n",
    "    with tf.Graph().as_default() as graph:\n",
    "        tf.import_graph_def(graph_def)\n",
    "    return graph"
   ]
  },
  {
   "cell_type": "code",
   "execution_count": 24,
   "metadata": {},
   "outputs": [
    {
     "name": "stderr",
     "output_type": "stream",
     "text": [
      "/usr/local/lib/python3.6/dist-packages/tensorflow/python/client/session.py:1702: UserWarning: An interactive session is already active. This can cause out-of-memory errors in some cases. You must explicitly call `InteractiveSession.close()` to release resources held by the other session(s).\n",
      "  warnings.warn('An interactive session is already active. This can '\n"
     ]
    },
    {
     "data": {
      "text/plain": [
       "array([[0.99999166, 0.26489863, 0.97606987, 0.00815156, 0.09597817,\n",
       "        0.00756723]], dtype=float32)"
      ]
     },
     "execution_count": 24,
     "metadata": {},
     "output_type": "execute_result"
    }
   ],
   "source": [
    "g = load_graph('fast-text/frozen_model.pb')\n",
    "x = g.get_tensor_by_name('import/Placeholder:0')\n",
    "logits = g.get_tensor_by_name('import/logits:0')\n",
    "test_sess = tf.InteractiveSession(graph = g)\n",
    "test_sess.run(tf.nn.sigmoid(logits), feed_dict = {x: new_vector})"
   ]
  },
  {
   "cell_type": "code",
   "execution_count": null,
   "metadata": {},
   "outputs": [],
   "source": []
  }
 ],
 "metadata": {
  "kernelspec": {
   "display_name": "Python 3",
   "language": "python",
   "name": "python3"
  },
  "language_info": {
   "codemirror_mode": {
    "name": "ipython",
    "version": 3
   },
   "file_extension": ".py",
   "mimetype": "text/x-python",
   "name": "python",
   "nbconvert_exporter": "python",
   "pygments_lexer": "ipython3",
   "version": "3.6.8"
  }
 },
 "nbformat": 4,
 "nbformat_minor": 2
}
