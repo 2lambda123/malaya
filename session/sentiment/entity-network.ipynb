{
 "cells": [
  {
   "cell_type": "code",
   "execution_count": 1,
   "metadata": {},
   "outputs": [
    {
     "name": "stderr",
     "output_type": "stream",
     "text": [
      "/usr/local/lib/python3.5/dist-packages/sklearn/cross_validation.py:41: DeprecationWarning: This module was deprecated in version 0.18 in favor of the model_selection module into which all the refactored classes and functions are moved. Also note that the interface of the new CV iterators are different from that of this module. This module will be removed in 0.20.\n",
      "  \"This module will be removed in 0.20.\", DeprecationWarning)\n"
     ]
    }
   ],
   "source": [
    "from entity_network import EntityNetwork\n",
    "import re\n",
    "import numpy as np\n",
    "import pandas as pd\n",
    "import collections\n",
    "from sklearn import metrics\n",
    "from sklearn.preprocessing import LabelEncoder\n",
    "import tensorflow as tf\n",
    "from sklearn.cross_validation import train_test_split\n",
    "from unidecode import unidecode\n",
    "from tqdm import tqdm\n",
    "import time"
   ]
  },
  {
   "cell_type": "code",
   "execution_count": 2,
   "metadata": {},
   "outputs": [],
   "source": [
    "permulaan = [\n",
    "    'bel',\n",
    "    'se',\n",
    "    'ter',\n",
    "    'men',\n",
    "    'meng',\n",
    "    'mem',\n",
    "    'memper',\n",
    "    'di',\n",
    "    'pe',\n",
    "    'me',\n",
    "    'ke',\n",
    "    'ber',\n",
    "    'pen',\n",
    "    'per',\n",
    "]\n",
    "\n",
    "hujung = ['kan', 'kah', 'lah', 'tah', 'nya', 'an', 'wan', 'wati', 'ita']\n",
    "\n",
    "def naive_stemmer(word):\n",
    "    assert isinstance(word, str), 'input must be a string'\n",
    "    hujung_result = re.findall(r'^(.*?)(%s)$' % ('|'.join(hujung)), word)\n",
    "    word = hujung_result[0][0] if len(hujung_result) else word\n",
    "    permulaan_result = re.findall(r'^(.*?)(%s)' % ('|'.join(permulaan[::-1])), word)\n",
    "    permulaan_result.extend(re.findall(r'^(.*?)(%s)' % ('|'.join(permulaan)), word))\n",
    "    mula = permulaan_result if len(permulaan_result) else ''\n",
    "    if len(mula):\n",
    "        mula = mula[1][1] if len(mula[1][1]) > len(mula[0][1]) else mula[0][1]\n",
    "    return word.replace(mula, '')"
   ]
  },
  {
   "cell_type": "code",
   "execution_count": 3,
   "metadata": {},
   "outputs": [],
   "source": [
    "def build_dataset(words, n_words):\n",
    "    count = [['GO', 0], ['PAD', 1], ['EOS', 2], ['UNK', 3]]\n",
    "    counter = collections.Counter(words).most_common(n_words)\n",
    "    count.extend(counter)\n",
    "    dictionary = dict()\n",
    "    for word, _ in count:\n",
    "        dictionary[word] = len(dictionary)\n",
    "    data = list()\n",
    "    unk_count = 0\n",
    "    for word in words:\n",
    "        index = dictionary.get(word, 3)\n",
    "        if index == 0:\n",
    "            unk_count += 1\n",
    "        data.append(index)\n",
    "    count[0][1] = unk_count\n",
    "    reversed_dictionary = dict(zip(dictionary.values(), dictionary.keys()))\n",
    "    return data, count, dictionary, reversed_dictionary\n",
    "\n",
    "\n",
    "def classification_textcleaning(string):\n",
    "    string = re.sub(\n",
    "        'http\\S+|www.\\S+',\n",
    "        '',\n",
    "        ' '.join(\n",
    "            [i for i in string.split() if i.find('#') < 0 and i.find('@') < 0]\n",
    "        ),\n",
    "    )\n",
    "    string = unidecode(string).replace('.', ' . ').replace(',', ' , ')\n",
    "    string = re.sub('[^A-Za-z ]+', ' ', string)\n",
    "    string = re.sub(r'[ ]+', ' ', string).strip()\n",
    "    string = ' '.join(\n",
    "        [i for i in re.findall('[\\\\w\\']+|[;:\\-\\(\\)&.,!?\"]', string) if len(i)]\n",
    "    )\n",
    "    string = string.lower().split()\n",
    "    string = [(naive_stemmer(word), word) for word in string]\n",
    "    return (\n",
    "        ' '.join([word[0] for word in string if len(word[0]) > 1]),\n",
    "        ' '.join([word[1] for word in string if len(word[0]) > 1]),\n",
    "    )\n",
    "\n",
    "def str_idx(corpus, dic, maxlen, UNK = 3):\n",
    "    X = np.zeros((len(corpus), maxlen))\n",
    "    for i in range(len(corpus)):\n",
    "        for no, k in enumerate(corpus[i].split()[:maxlen][::-1]):\n",
    "            val = dic[k] if k in dic else UNK\n",
    "            X[i, -1 - no] = val\n",
    "    return X"
   ]
  },
  {
   "cell_type": "code",
   "execution_count": 4,
   "metadata": {},
   "outputs": [
    {
     "data": {
      "text/html": [
       "<div>\n",
       "<style scoped>\n",
       "    .dataframe tbody tr th:only-of-type {\n",
       "        vertical-align: middle;\n",
       "    }\n",
       "\n",
       "    .dataframe tbody tr th {\n",
       "        vertical-align: top;\n",
       "    }\n",
       "\n",
       "    .dataframe thead th {\n",
       "        text-align: right;\n",
       "    }\n",
       "</style>\n",
       "<table border=\"1\" class=\"dataframe\">\n",
       "  <thead>\n",
       "    <tr style=\"text-align: right;\">\n",
       "      <th></th>\n",
       "      <th>label</th>\n",
       "      <th>text</th>\n",
       "    </tr>\n",
       "  </thead>\n",
       "  <tbody>\n",
       "    <tr>\n",
       "      <th>0</th>\n",
       "      <td>Negative</td>\n",
       "      <td>Lebih-lebih lagi dengan  kemudahan internet da...</td>\n",
       "    </tr>\n",
       "    <tr>\n",
       "      <th>1</th>\n",
       "      <td>Positive</td>\n",
       "      <td>boleh memberi teguran kepada parti tetapi perl...</td>\n",
       "    </tr>\n",
       "    <tr>\n",
       "      <th>2</th>\n",
       "      <td>Negative</td>\n",
       "      <td>Adalah membingungkan mengapa masyarakat Cina b...</td>\n",
       "    </tr>\n",
       "    <tr>\n",
       "      <th>3</th>\n",
       "      <td>Positive</td>\n",
       "      <td>Kami menurunkan defisit daripada 6.7 peratus p...</td>\n",
       "    </tr>\n",
       "    <tr>\n",
       "      <th>4</th>\n",
       "      <td>Negative</td>\n",
       "      <td>Ini masalahnya. Bukan rakyat, tetapi sistem</td>\n",
       "    </tr>\n",
       "  </tbody>\n",
       "</table>\n",
       "</div>"
      ],
      "text/plain": [
       "      label                                               text\n",
       "0  Negative  Lebih-lebih lagi dengan  kemudahan internet da...\n",
       "1  Positive  boleh memberi teguran kepada parti tetapi perl...\n",
       "2  Negative  Adalah membingungkan mengapa masyarakat Cina b...\n",
       "3  Positive  Kami menurunkan defisit daripada 6.7 peratus p...\n",
       "4  Negative        Ini masalahnya. Bukan rakyat, tetapi sistem"
      ]
     },
     "execution_count": 4,
     "metadata": {},
     "output_type": "execute_result"
    }
   ],
   "source": [
    "df = pd.read_csv('dataset/sentiment-data-v2.csv')\n",
    "Y = LabelEncoder().fit_transform(df.label)\n",
    "df.head()"
   ]
  },
  {
   "cell_type": "code",
   "execution_count": 5,
   "metadata": {},
   "outputs": [],
   "source": [
    "with open('dataset/polarity-negative-translated.txt','r') as fopen:\n",
    "    texts = fopen.read().split('\\n')\n",
    "labels = [0] * len(texts)\n",
    "\n",
    "with open('dataset/polarity-positive-translated.txt','r') as fopen:\n",
    "    positive_texts = fopen.read().split('\\n')\n",
    "labels += [1] * len(positive_texts)\n",
    "texts += positive_texts\n",
    "texts += df.iloc[:,1].tolist()\n",
    "labels += Y.tolist()\n",
    "\n",
    "assert len(labels) == len(texts)"
   ]
  },
  {
   "cell_type": "code",
   "execution_count": 6,
   "metadata": {},
   "outputs": [],
   "source": [
    "for i in range(len(texts)):\n",
    "    texts[i] = classification_textcleaning(texts[i])[0]"
   ]
  },
  {
   "cell_type": "code",
   "execution_count": 7,
   "metadata": {},
   "outputs": [
    {
     "name": "stdout",
     "output_type": "stream",
     "text": [
      "vocab from size: 13325\n",
      "Most common words [('yang', 14899), ('tidak', 4588), ('untuk', 4038), ('filem', 3698), ('deng', 3350), ('ada', 3190)]\n",
      "Sample data [1324, 196, 178, 98, 98, 126, 353, 4, 90, 210] ['ringkas', 'bodoh', 'bosan', 'kanak', 'kanak', 'lelaki', 'remaja', 'yang', 'begitu', 'muda']\n"
     ]
    }
   ],
   "source": [
    "concat = ' '.join(texts).split()\n",
    "vocabulary_size = len(list(set(concat)))\n",
    "data, count, dictionary, rev_dictionary = build_dataset(concat, vocabulary_size)\n",
    "print('vocab from size: %d'%(vocabulary_size))\n",
    "print('Most common words', count[4:10])\n",
    "print('Sample data', data[:10], [rev_dictionary[i] for i in data[:10]])"
   ]
  },
  {
   "cell_type": "code",
   "execution_count": 8,
   "metadata": {},
   "outputs": [],
   "source": [
    "size_layer = 256\n",
    "num_layers = 2\n",
    "embedded_size = 256\n",
    "dimension_output = len(np.unique(labels))\n",
    "learning_rate = 1e-3\n",
    "maxlen = 80\n",
    "batch_size = 128\n",
    "decay_step = 1e4\n",
    "decay_rate = 1.0\n",
    "story_len = 1"
   ]
  },
  {
   "cell_type": "code",
   "execution_count": 9,
   "metadata": {},
   "outputs": [],
   "source": [
    "tf.reset_default_graph()\n",
    "sess = tf.InteractiveSession()\n",
    "\n",
    "model = EntityNetwork(\n",
    "    dimension_output,\n",
    "    learning_rate,\n",
    "    decay_step,\n",
    "    decay_rate,\n",
    "    maxlen,\n",
    "    story_len,\n",
    "    len(dictionary),\n",
    "    embedded_size,\n",
    "    size_layer\n",
    ")\n",
    "\n",
    "sess.run(tf.global_variables_initializer())"
   ]
  },
  {
   "cell_type": "code",
   "execution_count": 10,
   "metadata": {},
   "outputs": [],
   "source": [
    "vectors = str_idx(texts, dictionary, maxlen)\n",
    "train_X, test_X, train_Y, test_Y = train_test_split(\n",
    "    vectors, labels, test_size = 0.2\n",
    ")"
   ]
  },
  {
   "cell_type": "code",
   "execution_count": 29,
   "metadata": {},
   "outputs": [],
   "source": [
    "strings = ','.join(\n",
    "    [\n",
    "        n.name\n",
    "        for n in tf.get_default_graph().as_graph_def().node\n",
    "        if ('Variable' in n.op\n",
    "        or 'Placeholder' in n.name\n",
    "        or 'logits' in n.name\n",
    "        or 'alphas' in n.name)\n",
    "        and 'Adam' not in n.name\n",
    "        and 'beta' not in n.name\n",
    "        and 'learning_rate' not in n.name\n",
    "        and 'OptimizeLoss' not in n.name\n",
    "        and 'Global_Step' not in n.name\n",
    "        and 'Epoch_Step' not in n.name\n",
    "    ]\n",
    ")"
   ]
  },
  {
   "cell_type": "code",
   "execution_count": 30,
   "metadata": {},
   "outputs": [
    {
     "data": {
      "text/plain": [
       "['Placeholder_story',\n",
       " 'Placeholder_question',\n",
       " 'Placeholder_input_y',\n",
       " 'Placeholder_dropout_keep_prob',\n",
       " 'output_module/H',\n",
       " 'output_module/R',\n",
       " 'output_module/y_bias',\n",
       " 'output_module/b_projection',\n",
       " 'output_module/h_u_bias',\n",
       " 'dynamic_memory/U',\n",
       " 'dynamic_memory/V',\n",
       " 'dynamic_memory/W',\n",
       " 'dynamic_memory/h_bias',\n",
       " 'dynamic_memory/h2_bias',\n",
       " 'embedding_projection/Embedding',\n",
       " 'story_mask',\n",
       " 'query_mask',\n",
       " 'hidden_states',\n",
       " 'keys',\n",
       " 'h_candidate0/alpha',\n",
       " 'query_add_hidden/alpha',\n",
       " 'logits']"
      ]
     },
     "execution_count": 30,
     "metadata": {},
     "output_type": "execute_result"
    }
   ],
   "source": [
    "strings.split(',')"
   ]
  },
  {
   "cell_type": "code",
   "execution_count": 13,
   "metadata": {},
   "outputs": [
    {
     "data": {
      "text/plain": [
       "'entity_network/model.ckpt'"
      ]
     },
     "execution_count": 13,
     "metadata": {},
     "output_type": "execute_result"
    }
   ],
   "source": [
    "saver = tf.train.Saver(tf.trainable_variables())\n",
    "saver.save(sess, 'entity_network/model.ckpt')"
   ]
  },
  {
   "cell_type": "code",
   "execution_count": 14,
   "metadata": {},
   "outputs": [
    {
     "name": "stderr",
     "output_type": "stream",
     "text": [
      "train minibatch loop: 100%|██████████| 90/90 [00:03<00:00, 26.58it/s, accuracy=0.774, cost=1.16]\n",
      "test minibatch loop: 100%|██████████| 23/23 [00:00<00:00, 81.40it/s, accuracy=0.575, cost=1.25]\n",
      "train minibatch loop:   4%|▍         | 4/90 [00:00<00:02, 32.49it/s, accuracy=0.773, cost=1.21]"
     ]
    },
    {
     "name": "stdout",
     "output_type": "stream",
     "text": [
      "epoch: 0, pass acc: 0.000000, current acc: 0.681232\n",
      "time taken: 3.671577215194702\n",
      "epoch: 0, training loss: 2.188570, training acc: 0.593285, valid loss: 1.332644, valid acc: 0.681232\n",
      "\n"
     ]
    },
    {
     "name": "stderr",
     "output_type": "stream",
     "text": [
      "train minibatch loop: 100%|██████████| 90/90 [00:03<00:00, 28.41it/s, accuracy=0.935, cost=0.718]\n",
      "test minibatch loop: 100%|██████████| 23/23 [00:00<00:00, 107.75it/s, accuracy=0.775, cost=0.897]\n",
      "train minibatch loop:   3%|▎         | 3/90 [00:00<00:02, 29.17it/s, accuracy=0.852, cost=0.762]"
     ]
    },
    {
     "name": "stdout",
     "output_type": "stream",
     "text": [
      "epoch: 1, pass acc: 0.681232, current acc: 0.712955\n",
      "time taken: 3.3933229446411133\n",
      "epoch: 1, training loss: 1.002730, training acc: 0.765100, valid loss: 0.991044, valid acc: 0.712955\n",
      "\n"
     ]
    },
    {
     "name": "stderr",
     "output_type": "stream",
     "text": [
      "train minibatch loop: 100%|██████████| 90/90 [00:03<00:00, 28.71it/s, accuracy=0.968, cost=0.51] \n",
      "test minibatch loop: 100%|██████████| 23/23 [00:00<00:00, 113.42it/s, accuracy=0.775, cost=0.768]\n",
      "train minibatch loop:   3%|▎         | 3/90 [00:00<00:03, 28.60it/s, accuracy=0.906, cost=0.57] "
     ]
    },
    {
     "name": "stdout",
     "output_type": "stream",
     "text": [
      "epoch: 2, pass acc: 0.712955, current acc: 0.721008\n",
      "time taken: 3.3424582481384277\n",
      "epoch: 2, training loss: 0.743444, training acc: 0.820264, valid loss: 0.893074, valid acc: 0.721008\n",
      "\n"
     ]
    },
    {
     "name": "stderr",
     "output_type": "stream",
     "text": [
      "train minibatch loop: 100%|██████████| 90/90 [00:03<00:00, 28.10it/s, accuracy=1, cost=0.357]    \n",
      "test minibatch loop: 100%|██████████| 23/23 [00:00<00:00, 105.85it/s, accuracy=0.75, cost=0.679] \n",
      "train minibatch loop:   4%|▍         | 4/90 [00:00<00:02, 31.86it/s, accuracy=0.883, cost=0.529]"
     ]
    },
    {
     "name": "stdout",
     "output_type": "stream",
     "text": [
      "epoch: 3, pass acc: 0.721008, current acc: 0.739496\n",
      "time taken: 3.42254638671875\n",
      "epoch: 3, training loss: 0.614431, training acc: 0.854942, valid loss: 0.816465, valid acc: 0.739496\n",
      "\n"
     ]
    },
    {
     "name": "stderr",
     "output_type": "stream",
     "text": [
      "train minibatch loop: 100%|██████████| 90/90 [00:03<00:00, 28.02it/s, accuracy=1, cost=0.296]    \n",
      "test minibatch loop: 100%|██████████| 23/23 [00:00<00:00, 89.96it/s, accuracy=0.725, cost=0.692]\n",
      "train minibatch loop:   3%|▎         | 3/90 [00:00<00:03, 27.68it/s, accuracy=0.977, cost=0.378]"
     ]
    },
    {
     "name": "stdout",
     "output_type": "stream",
     "text": [
      "epoch: 4, pass acc: 0.739496, current acc: 0.742927\n",
      "time taken: 3.481818914413452\n",
      "epoch: 4, training loss: 0.525420, training acc: 0.884356, valid loss: 0.808490, valid acc: 0.742927\n",
      "\n"
     ]
    },
    {
     "name": "stderr",
     "output_type": "stream",
     "text": [
      "train minibatch loop: 100%|██████████| 90/90 [00:03<00:00, 28.75it/s, accuracy=1, cost=0.234]    \n",
      "test minibatch loop: 100%|██████████| 23/23 [00:00<00:00, 96.74it/s, accuracy=0.775, cost=0.708]\n",
      "train minibatch loop:   3%|▎         | 3/90 [00:00<00:03, 28.78it/s, accuracy=0.961, cost=0.384]"
     ]
    },
    {
     "name": "stdout",
     "output_type": "stream",
     "text": [
      "time taken: 3.3705894947052\n",
      "epoch: 5, training loss: 0.462479, training acc: 0.901164, valid loss: 0.814266, valid acc: 0.738165\n",
      "\n"
     ]
    },
    {
     "name": "stderr",
     "output_type": "stream",
     "text": [
      "train minibatch loop: 100%|██████████| 90/90 [00:03<00:00, 27.89it/s, accuracy=1, cost=0.206]    \n",
      "test minibatch loop: 100%|██████████| 23/23 [00:00<00:00, 104.33it/s, accuracy=0.725, cost=0.733]\n",
      "train minibatch loop:   3%|▎         | 3/90 [00:00<00:02, 29.71it/s, accuracy=0.984, cost=0.283]"
     ]
    },
    {
     "name": "stdout",
     "output_type": "stream",
     "text": [
      "time taken: 3.2572367191314697\n",
      "epoch: 6, training loss: 0.391990, training acc: 0.932505, valid loss: 0.845093, valid acc: 0.727521\n",
      "\n"
     ]
    },
    {
     "name": "stderr",
     "output_type": "stream",
     "text": [
      "train minibatch loop: 100%|██████████| 90/90 [00:03<00:00, 28.59it/s, accuracy=1, cost=0.183]    \n",
      "test minibatch loop: 100%|██████████| 23/23 [00:00<00:00, 112.00it/s, accuracy=0.65, cost=0.775] "
     ]
    },
    {
     "name": "stdout",
     "output_type": "stream",
     "text": [
      "time taken: 3.3656773567199707\n",
      "epoch: 7, training loss: 0.357746, training acc: 0.937232, valid loss: 0.856754, valid acc: 0.730812\n",
      "\n",
      "break epoch:8\n",
      "\n"
     ]
    },
    {
     "name": "stderr",
     "output_type": "stream",
     "text": [
      "\n"
     ]
    }
   ],
   "source": [
    "from tqdm import tqdm\n",
    "import time\n",
    "\n",
    "EARLY_STOPPING, CURRENT_CHECKPOINT, CURRENT_ACC, EPOCH = 3, 0, 0, 0\n",
    "\n",
    "while True:\n",
    "    lasttime = time.time()\n",
    "    if CURRENT_CHECKPOINT == EARLY_STOPPING:\n",
    "        print('break epoch:%d\\n' % (EPOCH))\n",
    "        break\n",
    "\n",
    "    train_acc, train_loss, test_acc, test_loss = 0, 0, 0, 0\n",
    "    pbar = tqdm(\n",
    "        range(0, len(train_X), batch_size), desc = 'train minibatch loop'\n",
    "    )\n",
    "    for i in pbar:\n",
    "        batch_x = train_X[i : min(i + batch_size, train_X.shape[0])]\n",
    "        batch_y = train_Y[i : min(i + batch_size, train_X.shape[0])]\n",
    "        batch_x_expand = np.expand_dims(batch_x,axis = 1)\n",
    "        acc, cost, _ = sess.run(\n",
    "            [model.accuracy, model.cost, model.optimizer],\n",
    "            feed_dict = {\n",
    "                model.answer_single: batch_y,\n",
    "                model.query: batch_x,\n",
    "                model.story: batch_x_expand,\n",
    "                model.dropout_keep_prob: 1.0\n",
    "            },\n",
    "        )\n",
    "        assert not np.isnan(cost)\n",
    "        train_loss += cost\n",
    "        train_acc += acc\n",
    "        pbar.set_postfix(cost = cost, accuracy = acc)\n",
    "        \n",
    "    pbar = tqdm(range(0, len(test_X), batch_size), desc = 'test minibatch loop')\n",
    "    for i in pbar:\n",
    "        batch_x = test_X[i : min(i + batch_size, test_X.shape[0])]\n",
    "        batch_y = test_Y[i : min(i + batch_size, test_X.shape[0])]\n",
    "        batch_x_expand = np.expand_dims(batch_x,axis = 1)\n",
    "        acc, cost = sess.run(\n",
    "            [model.accuracy, model.cost],\n",
    "            feed_dict = {\n",
    "                model.answer_single: batch_y,\n",
    "                model.query: batch_x,\n",
    "                model.story: batch_x_expand,\n",
    "                model.dropout_keep_prob: 1.0\n",
    "            },\n",
    "        )\n",
    "        test_loss += cost\n",
    "        test_acc += acc\n",
    "        pbar.set_postfix(cost = cost, accuracy = acc)\n",
    "\n",
    "    train_loss /= len(train_X) / batch_size\n",
    "    train_acc /= len(train_X) / batch_size\n",
    "    test_loss /= len(test_X) / batch_size\n",
    "    test_acc /= len(test_X) / batch_size\n",
    "\n",
    "    if test_acc > CURRENT_ACC:\n",
    "        print(\n",
    "            'epoch: %d, pass acc: %f, current acc: %f'\n",
    "            % (EPOCH, CURRENT_ACC, test_acc)\n",
    "        )\n",
    "        CURRENT_ACC = test_acc\n",
    "        CURRENT_CHECKPOINT = 0\n",
    "    else:\n",
    "        CURRENT_CHECKPOINT += 1\n",
    "        \n",
    "    print('time taken:', time.time() - lasttime)\n",
    "    print(\n",
    "        'epoch: %d, training loss: %f, training acc: %f, valid loss: %f, valid acc: %f\\n'\n",
    "        % (EPOCH, train_loss, train_acc, test_loss, test_acc)\n",
    "    )\n",
    "    EPOCH += 1"
   ]
  },
  {
   "cell_type": "code",
   "execution_count": 15,
   "metadata": {},
   "outputs": [
    {
     "name": "stderr",
     "output_type": "stream",
     "text": [
      "validation minibatch loop: 100%|██████████| 23/23 [00:00<00:00, 143.60it/s]\n"
     ]
    }
   ],
   "source": [
    "real_Y, predict_Y = [], []\n",
    "\n",
    "pbar = tqdm(\n",
    "    range(0, len(test_X), batch_size), desc = 'validation minibatch loop'\n",
    ")\n",
    "for i in pbar:\n",
    "    batch_x = test_X[i : min(i + batch_size, test_X.shape[0])]\n",
    "    batch_y = test_Y[i : min(i + batch_size, test_X.shape[0])]\n",
    "    batch_x_expand = np.expand_dims(batch_x,axis = 1)\n",
    "    predict_Y += np.argmax(\n",
    "        sess.run(\n",
    "            model.logits,\n",
    "            feed_dict = {\n",
    "                model.answer_single: batch_y,\n",
    "                model.query: batch_x,\n",
    "                model.story: batch_x_expand,\n",
    "                model.dropout_keep_prob: 1.0\n",
    "            },\n",
    "        ),\n",
    "        1,\n",
    "    ).tolist()\n",
    "    real_Y += batch_y"
   ]
  },
  {
   "cell_type": "code",
   "execution_count": 16,
   "metadata": {},
   "outputs": [
    {
     "name": "stdout",
     "output_type": "stream",
     "text": [
      "             precision    recall  f1-score   support\n",
      "\n",
      "   negative       0.70      0.66      0.68      1324\n",
      "   positive       0.72      0.75      0.74      1532\n",
      "\n",
      "avg / total       0.71      0.71      0.71      2856\n",
      "\n"
     ]
    }
   ],
   "source": [
    "from sklearn import metrics\n",
    "print(metrics.classification_report(real_Y, predict_Y, target_names = ['negative','positive']))"
   ]
  },
  {
   "cell_type": "code",
   "execution_count": 20,
   "metadata": {},
   "outputs": [
    {
     "data": {
      "text/plain": [
       "array([[0.5061709 , 0.49382904]], dtype=float32)"
      ]
     },
     "execution_count": 20,
     "metadata": {},
     "output_type": "execute_result"
    }
   ],
   "source": [
    "text = classification_textcleaning(\n",
    "    'kerajaan sebenarnya sangat bencikan rakyatnya, minyak naik dan segalanya'\n",
    ")\n",
    "new_vector = str_idx([text[0]], dictionary, maxlen)\n",
    "batch_x_expand = np.expand_dims(new_vector,axis = 1)\n",
    "sess.run(\n",
    "            tf.nn.softmax(model.logits),\n",
    "            feed_dict = {\n",
    "                model.query: new_vector,\n",
    "                model.story: batch_x_expand,\n",
    "                model.dropout_keep_prob: 1.0\n",
    "            },\n",
    "        )"
   ]
  },
  {
   "cell_type": "code",
   "execution_count": 44,
   "metadata": {},
   "outputs": [
    {
     "data": {
      "text/plain": [
       "array([[0.6623351 , 0.33766493]], dtype=float32)"
      ]
     },
     "execution_count": 44,
     "metadata": {},
     "output_type": "execute_result"
    }
   ],
   "source": [
    "text = classification_textcleaning(\n",
    "    'bodoh la mereka ni'\n",
    ")\n",
    "new_vector = str_idx([text[0]], dictionary, maxlen)\n",
    "batch_x_expand = np.expand_dims(new_vector,axis = 1)\n",
    "sess.run(\n",
    "            tf.nn.softmax(model.logits),\n",
    "            feed_dict = {\n",
    "                model.query: new_vector,\n",
    "                model.story: batch_x_expand,\n",
    "                model.dropout_keep_prob: 1.0\n",
    "            },\n",
    "        )"
   ]
  },
  {
   "cell_type": "code",
   "execution_count": 48,
   "metadata": {},
   "outputs": [
    {
     "data": {
      "text/plain": [
       "'entity_network/model.ckpt'"
      ]
     },
     "execution_count": 48,
     "metadata": {},
     "output_type": "execute_result"
    }
   ],
   "source": [
    "saver.save(sess, 'entity_network/model.ckpt')"
   ]
  },
  {
   "cell_type": "code",
   "execution_count": 23,
   "metadata": {},
   "outputs": [],
   "source": [
    "import json\n",
    "with open('entity-network-sentiment.json','w') as fopen:\n",
    "    fopen.write(json.dumps({'dictionary':dictionary,'reverse_dictionary':rev_dictionary}))"
   ]
  },
  {
   "cell_type": "code",
   "execution_count": 24,
   "metadata": {},
   "outputs": [],
   "source": [
    "def freeze_graph(model_dir, output_node_names):\n",
    "\n",
    "    if not tf.gfile.Exists(model_dir):\n",
    "        raise AssertionError(\n",
    "            \"Export directory doesn't exists. Please specify an export \"\n",
    "            'directory: %s' % model_dir\n",
    "        )\n",
    "\n",
    "    checkpoint = tf.train.get_checkpoint_state(model_dir)\n",
    "    input_checkpoint = checkpoint.model_checkpoint_path\n",
    "\n",
    "    absolute_model_dir = '/'.join(input_checkpoint.split('/')[:-1])\n",
    "    output_graph = absolute_model_dir + '/frozen_model.pb'\n",
    "    clear_devices = True\n",
    "    with tf.Session(graph = tf.Graph()) as sess:\n",
    "        saver = tf.train.import_meta_graph(\n",
    "            input_checkpoint + '.meta', clear_devices = clear_devices\n",
    "        )\n",
    "        saver.restore(sess, input_checkpoint)\n",
    "        output_graph_def = tf.graph_util.convert_variables_to_constants(\n",
    "            sess,\n",
    "            tf.get_default_graph().as_graph_def(),\n",
    "            output_node_names.split(','),\n",
    "        )\n",
    "        with tf.gfile.GFile(output_graph, 'wb') as f:\n",
    "            f.write(output_graph_def.SerializeToString())\n",
    "        print('%d ops in the final graph.' % len(output_graph_def.node))"
   ]
  },
  {
   "cell_type": "code",
   "execution_count": 49,
   "metadata": {},
   "outputs": [
    {
     "name": "stdout",
     "output_type": "stream",
     "text": [
      "INFO:tensorflow:Restoring parameters from entity_network/model.ckpt\n",
      "INFO:tensorflow:Froze 17 variables.\n",
      "INFO:tensorflow:Converted 17 variables to const ops.\n",
      "139 ops in the final graph.\n"
     ]
    }
   ],
   "source": [
    "freeze_graph('entity_network', strings)"
   ]
  },
  {
   "cell_type": "code",
   "execution_count": 33,
   "metadata": {},
   "outputs": [],
   "source": [
    "def load_graph(frozen_graph_filename):\n",
    "    with tf.gfile.GFile(frozen_graph_filename, 'rb') as f:\n",
    "        graph_def = tf.GraphDef()\n",
    "        graph_def.ParseFromString(f.read())\n",
    "    with tf.Graph().as_default() as graph:\n",
    "        tf.import_graph_def(graph_def)\n",
    "    return graph"
   ]
  },
  {
   "cell_type": "code",
   "execution_count": 50,
   "metadata": {},
   "outputs": [],
   "source": [
    "g = load_graph('entity_network/frozen_model.pb')"
   ]
  },
  {
   "cell_type": "code",
   "execution_count": 46,
   "metadata": {},
   "outputs": [
    {
     "data": {
      "text/plain": [
       "['import/Placeholder_story',\n",
       " 'import/Placeholder_question',\n",
       " 'import/Shape',\n",
       " 'import/strided_slice/stack',\n",
       " 'import/strided_slice/stack_1',\n",
       " 'import/strided_slice/stack_2',\n",
       " 'import/strided_slice',\n",
       " 'import/Placeholder_input_y',\n",
       " 'import/Placeholder_dropout_keep_prob',\n",
       " 'import/output_module/H',\n",
       " 'import/output_module/H/read',\n",
       " 'import/output_module/R',\n",
       " 'import/output_module/R/read',\n",
       " 'import/output_module/y_bias',\n",
       " 'import/output_module/y_bias/read',\n",
       " 'import/output_module/b_projection',\n",
       " 'import/output_module/h_u_bias',\n",
       " 'import/output_module/h_u_bias/read',\n",
       " 'import/dynamic_memory/U',\n",
       " 'import/dynamic_memory/U/read',\n",
       " 'import/dynamic_memory/V',\n",
       " 'import/dynamic_memory/V/read',\n",
       " 'import/dynamic_memory/W',\n",
       " 'import/dynamic_memory/W/read',\n",
       " 'import/dynamic_memory/h_bias',\n",
       " 'import/dynamic_memory/h_bias/read',\n",
       " 'import/dynamic_memory/h2_bias',\n",
       " 'import/dynamic_memory/h2_bias/read',\n",
       " 'import/embedding_projection/Embedding',\n",
       " 'import/embedding_projection/Embedding/read',\n",
       " 'import/embedding_lookup/axis',\n",
       " 'import/embedding_lookup',\n",
       " 'import/embedding_lookup/Identity',\n",
       " 'import/embedding_lookup_1/axis',\n",
       " 'import/embedding_lookup_1',\n",
       " 'import/embedding_lookup_1/Identity',\n",
       " 'import/story_mask',\n",
       " 'import/story_mask/read',\n",
       " 'import/query_mask',\n",
       " 'import/query_mask/read',\n",
       " 'import/Mul_1',\n",
       " 'import/Mul_2',\n",
       " 'import/Sum/reduction_indices',\n",
       " 'import/Sum',\n",
       " 'import/Sum_1/reduction_indices',\n",
       " 'import/Sum_1',\n",
       " 'import/split/split_dim',\n",
       " 'import/split',\n",
       " 'import/Squeeze',\n",
       " 'import/hidden_states',\n",
       " 'import/hidden_states/read',\n",
       " 'import/keys',\n",
       " 'import/keys/read',\n",
       " 'import/ExpandDims/dim',\n",
       " 'import/ExpandDims',\n",
       " 'import/Tile/multiples/1',\n",
       " 'import/Tile/multiples/2',\n",
       " 'import/Tile/multiples',\n",
       " 'import/Tile',\n",
       " 'import/ExpandDims_1/dim',\n",
       " 'import/ExpandDims_1',\n",
       " 'import/Tile_1/multiples/1',\n",
       " 'import/Tile_1/multiples/2',\n",
       " 'import/Tile_1/multiples',\n",
       " 'import/Tile_1',\n",
       " 'import/ExpandDims_2/dim',\n",
       " 'import/ExpandDims_2',\n",
       " 'import/Mul_3',\n",
       " 'import/Mul_4',\n",
       " 'import/add_1',\n",
       " 'import/Sigmoid',\n",
       " 'import/Reshape/shape',\n",
       " 'import/Reshape',\n",
       " 'import/MatMul',\n",
       " 'import/Reshape_1/shape',\n",
       " 'import/Reshape_1',\n",
       " 'import/MatMul_1',\n",
       " 'import/add_2',\n",
       " 'import/add_3',\n",
       " 'import/Reshape_2/shape/1',\n",
       " 'import/Reshape_2/shape/2',\n",
       " 'import/Reshape_2/shape',\n",
       " 'import/Reshape_2',\n",
       " 'import/MatMul_2',\n",
       " 'import/add_4',\n",
       " 'import/ExpandDims_3/dim',\n",
       " 'import/ExpandDims_3',\n",
       " 'import/add_5',\n",
       " 'import/h_candidate0/alpha',\n",
       " 'import/h_candidate0/alpha/read',\n",
       " 'import/h_candidate0/Relu',\n",
       " 'import/h_candidate0/Abs',\n",
       " 'import/h_candidate0/sub',\n",
       " 'import/h_candidate0/mul',\n",
       " 'import/h_candidate0/mul_1/y',\n",
       " 'import/h_candidate0/mul_1',\n",
       " 'import/h_candidate0/add',\n",
       " 'import/Mul_5',\n",
       " 'import/add_6',\n",
       " 'import/l2_normalize/Square',\n",
       " 'import/l2_normalize/Sum/reduction_indices',\n",
       " 'import/l2_normalize/Sum',\n",
       " 'import/l2_normalize/Maximum/y',\n",
       " 'import/l2_normalize/Maximum',\n",
       " 'import/l2_normalize/Rsqrt',\n",
       " 'import/l2_normalize',\n",
       " 'import/ExpandDims_4/dim',\n",
       " 'import/ExpandDims_4',\n",
       " 'import/Mul_6',\n",
       " 'import/Softmax',\n",
       " 'import/Mul_7',\n",
       " 'import/Sum_2/reduction_indices',\n",
       " 'import/Sum_2',\n",
       " 'import/MatMul_3',\n",
       " 'import/add_7',\n",
       " 'import/add_8',\n",
       " 'import/query_add_hidden/alpha',\n",
       " 'import/query_add_hidden/alpha/read',\n",
       " 'import/query_add_hidden/Relu',\n",
       " 'import/query_add_hidden/Abs',\n",
       " 'import/query_add_hidden/sub',\n",
       " 'import/query_add_hidden/mul',\n",
       " 'import/query_add_hidden/mul_1/y',\n",
       " 'import/query_add_hidden/mul_1',\n",
       " 'import/query_add_hidden/add',\n",
       " 'import/dropout/Shape',\n",
       " 'import/dropout/random_uniform/min',\n",
       " 'import/dropout/random_uniform/max',\n",
       " 'import/dropout/random_uniform/RandomUniform',\n",
       " 'import/dropout/random_uniform/sub',\n",
       " 'import/dropout/random_uniform/mul',\n",
       " 'import/dropout/random_uniform',\n",
       " 'import/dropout/add',\n",
       " 'import/dropout/Floor',\n",
       " 'import/dropout/div',\n",
       " 'import/dropout/mul',\n",
       " 'import/MatMul_4',\n",
       " 'import/add_9',\n",
       " 'import/logits']"
      ]
     },
     "execution_count": 46,
     "metadata": {},
     "output_type": "execute_result"
    }
   ],
   "source": [
    "[n.name for n in g.as_graph_def().node]"
   ]
  },
  {
   "cell_type": "code",
   "execution_count": 51,
   "metadata": {},
   "outputs": [
    {
     "name": "stderr",
     "output_type": "stream",
     "text": [
      "/usr/local/lib/python3.5/dist-packages/tensorflow/python/client/session.py:1702: UserWarning: An interactive session is already active. This can cause out-of-memory errors in some cases. You must explicitly call `InteractiveSession.close()` to release resources held by the other session(s).\n",
      "  warnings.warn('An interactive session is already active. This can '\n"
     ]
    },
    {
     "data": {
      "text/plain": [
       "array([[0.6623351 , 0.33766493]], dtype=float32)"
      ]
     },
     "execution_count": 51,
     "metadata": {},
     "output_type": "execute_result"
    }
   ],
   "source": [
    "Placeholder_story = g.get_tensor_by_name('import/Placeholder_story:0')\n",
    "Placeholder_question = g.get_tensor_by_name('import/Placeholder_question:0')\n",
    "Placeholder_dropout_keep_prob = g.get_tensor_by_name(\n",
    "    'import/Placeholder_dropout_keep_prob:0'\n",
    ")\n",
    "logits = g.get_tensor_by_name('import/logits:0')\n",
    "test_sess = tf.InteractiveSession(graph = g)\n",
    "test_sess.run(\n",
    "    tf.nn.softmax(logits),\n",
    "    feed_dict = {\n",
    "        Placeholder_question: new_vector,\n",
    "        Placeholder_story: batch_x_expand,\n",
    "        Placeholder_dropout_keep_prob: 1.0,\n",
    "    },\n",
    ")"
   ]
  },
  {
   "cell_type": "code",
   "execution_count": null,
   "metadata": {},
   "outputs": [],
   "source": []
  }
 ],
 "metadata": {
  "kernelspec": {
   "display_name": "Python 3",
   "language": "python",
   "name": "python3"
  },
  "language_info": {
   "codemirror_mode": {
    "name": "ipython",
    "version": 3
   },
   "file_extension": ".py",
   "mimetype": "text/x-python",
   "name": "python",
   "nbconvert_exporter": "python",
   "pygments_lexer": "ipython3",
   "version": "3.5.2"
  }
 },
 "nbformat": 4,
 "nbformat_minor": 2
}
