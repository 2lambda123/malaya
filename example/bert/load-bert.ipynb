{
 "cells": [
  {
   "cell_type": "markdown",
   "metadata": {},
   "source": [
    "Malaya provided basic interface for BERT, specific to Malay language, we called it [BERT-Bahasa](https://github.com/huseinzol05/Malaya/tree/master/bert). This interface not able us to use it to do custom training.\n",
    "\n",
    "If you want to download pretrained model for [BERT-Bahasa](https://github.com/huseinzol05/Malaya/tree/master/bert) and use it for custom transfer-learning, you can download it here, https://github.com/huseinzol05/Malaya/tree/master/bert, some notebooks to help you get started,\n",
    "\n",
    "1. [Text classification](https://github.com/huseinzol05/Malaya/tree/master/bert/finetune-subjectivity).\n",
    "2. [Text similarity](https://github.com/huseinzol05/Malaya/tree/master/bert/finetune-similarity)."
   ]
  },
  {
   "cell_type": "markdown",
   "metadata": {},
   "source": [
    "## Why BERT\n",
    "\n",
    "1. Transformer model learn the context of a word based on all of its surroundings (live string), bidirectionally. So it much better understand left and right hand side relationships.\n",
    "2. Because of transformer able to leverage to context during live string, we dont need to capture available words in this world, instead capture substrings and build the attention after that. BERT will never have Out-Of-Vocab problem.\n",
    "3. BERT achieved new state-of-art for modern NLP, you can read more about the benchmark [here](https://github.com/google-research/bert#introduction)."
   ]
  },
  {
   "cell_type": "code",
   "execution_count": 1,
   "metadata": {},
   "outputs": [
    {
     "name": "stdout",
     "output_type": "stream",
     "text": [
      "CPU times: user 5.87 s, sys: 2.4 s, total: 8.27 s\n",
      "Wall time: 14.9 s\n"
     ]
    }
   ],
   "source": [
    "%%time\n",
    "import malaya"
   ]
  },
  {
   "cell_type": "markdown",
   "metadata": {},
   "source": [
    "## list BERT-Bahasa available"
   ]
  },
  {
   "cell_type": "code",
   "execution_count": 2,
   "metadata": {},
   "outputs": [
    {
     "data": {
      "text/plain": [
       "['multilanguage', 'base', 'small']"
      ]
     },
     "execution_count": 2,
     "metadata": {},
     "output_type": "execute_result"
    }
   ],
   "source": [
    "malaya.bert.available_bert_model()"
   ]
  },
  {
   "cell_type": "markdown",
   "metadata": {},
   "source": [
    "1. `multilanguage` is pretrained model size `BASE` trained on multilanguage, released by Google.\n",
    "2. `base` is pretrained model size `BASE` trained on malay language, released by Malaya.\n",
    "3. `small` is pretrained model size `SMALL` trained on malay language, released by Malaya."
   ]
  },
  {
   "cell_type": "markdown",
   "metadata": {},
   "source": [
    "## load BERT-Bahasa"
   ]
  },
  {
   "cell_type": "code",
   "execution_count": 3,
   "metadata": {},
   "outputs": [
    {
     "name": "stderr",
     "output_type": "stream",
     "text": [
      "WARNING: Logging before flag parsing goes to stderr.\n",
      "W0806 18:44:29.301498 4570277312 deprecation_wrapper.py:119] From /usr/local/lib/python3.6/site-packages/bert/modeling.py:93: The name tf.gfile.GFile is deprecated. Please use tf.io.gfile.GFile instead.\n",
      "\n",
      "W0806 18:44:29.313080 4570277312 deprecation_wrapper.py:119] From /Users/huseinzol/Documents/Malaya/malaya/bert.py:49: The name tf.placeholder is deprecated. Please use tf.compat.v1.placeholder instead.\n",
      "\n",
      "W0806 18:44:29.376143 4570277312 deprecation_wrapper.py:119] From /usr/local/lib/python3.6/site-packages/bert/modeling.py:171: The name tf.variable_scope is deprecated. Please use tf.compat.v1.variable_scope instead.\n",
      "\n",
      "W0806 18:44:29.382241 4570277312 deprecation_wrapper.py:119] From /usr/local/lib/python3.6/site-packages/bert/modeling.py:409: The name tf.get_variable is deprecated. Please use tf.compat.v1.get_variable instead.\n",
      "\n",
      "W0806 18:44:29.442945 4570277312 deprecation_wrapper.py:119] From /usr/local/lib/python3.6/site-packages/bert/modeling.py:490: The name tf.assert_less_equal is deprecated. Please use tf.compat.v1.assert_less_equal instead.\n",
      "\n",
      "W0806 18:44:29.535451 4570277312 deprecation.py:323] From /usr/local/lib/python3.6/site-packages/bert/modeling.py:671: dense (from tensorflow.python.layers.core) is deprecated and will be removed in a future version.\n",
      "Instructions for updating:\n",
      "Use keras.layers.dense instead.\n",
      "W0806 18:44:33.142968 4570277312 deprecation_wrapper.py:119] From /Users/huseinzol/Documents/Malaya/malaya/bert.py:61: The name tf.InteractiveSession is deprecated. Please use tf.compat.v1.InteractiveSession instead.\n",
      "\n",
      "W0806 18:44:36.040175 4570277312 deprecation_wrapper.py:119] From /Users/huseinzol/Documents/Malaya/malaya/bert.py:66: The name tf.train.Saver is deprecated. Please use tf.compat.v1.train.Saver instead.\n",
      "\n",
      "W0806 18:44:36.316101 4570277312 deprecation.py:323] From /usr/local/lib/python3.6/site-packages/tensorflow/python/training/saver.py:1276: checkpoint_exists (from tensorflow.python.training.checkpoint_management) is deprecated and will be removed in a future version.\n",
      "Instructions for updating:\n",
      "Use standard file APIs to check for files with this prefix.\n"
     ]
    },
    {
     "name": "stdout",
     "output_type": "stream",
     "text": [
      "CPU times: user 10 s, sys: 2.55 s, total: 12.6 s\n",
      "Wall time: 11.5 s\n"
     ]
    }
   ],
   "source": [
    "%%time\n",
    "model = malaya.bert.bert(model = 'base')"
   ]
  },
  {
   "cell_type": "code",
   "execution_count": 4,
   "metadata": {},
   "outputs": [],
   "source": [
    "strings = ['Kerajaan galakkan rakyat naik public transport tapi parking kat lrt ada 15. Reserved utk staff rapid je dah berpuluh. Park kereta tepi jalan kang kene saman dgn majlis perbandaran. Kereta pulak senang kene curi. Cctv pun tak ada. Naik grab dah 5-10 ringgit tiap hari. Gampang juga',\n",
    "           'Alaa Tun lek ahhh npe muka masam cmni kn agong kata usaha kerajaan terdahulu sejak selepas merdeka',\n",
    "           \"Orang ramai cakap nurse kerajaan garang. So i tell u this. Most of our local ppl will treat us as hamba abdi and they don't respect us as a nurse\"]"
   ]
  },
  {
   "cell_type": "markdown",
   "metadata": {},
   "source": [
    "I have random sentences copied from Twitter, searched using `kerajan` keyword."
   ]
  },
  {
   "cell_type": "markdown",
   "metadata": {},
   "source": [
    "#### Vectorization"
   ]
  },
  {
   "cell_type": "code",
   "execution_count": 5,
   "metadata": {},
   "outputs": [
    {
     "data": {
      "text/plain": [
       "(3, 768)"
      ]
     },
     "execution_count": 5,
     "metadata": {},
     "output_type": "execute_result"
    }
   ],
   "source": [
    "v = model.vectorize(strings)\n",
    "v.shape"
   ]
  },
  {
   "cell_type": "markdown",
   "metadata": {},
   "source": [
    "1. Vector size for `multilanguage` is 768.\n",
    "2. Vector size for `base` is 768.\n",
    "3. Vector size for `small` is 512."
   ]
  },
  {
   "cell_type": "markdown",
   "metadata": {},
   "source": [
    "#### Attention\n",
    "\n",
    "Attention is to get which part of the sentence give the impact. Method available for attention,\n",
    "\n",
    "* ``'last'`` - attention from last layer.\n",
    "* ``'first'`` - attention from first layer.\n",
    "* ``'mean'`` - average attentions from all layers.\n",
    "\n",
    "You can give list of strings or a string to get the attention, in this documentation, I just want to use a string."
   ]
  },
  {
   "cell_type": "code",
   "execution_count": 6,
   "metadata": {},
   "outputs": [
    {
     "data": {
      "text/plain": [
       "[[('Alaa', 0.07662392),\n",
       "  ('Tun', 0.06297707),\n",
       "  ('lek', 0.05288772),\n",
       "  ('ahhh', 0.12370589),\n",
       "  ('npe', 0.031775884),\n",
       "  ('muka', 0.07801706),\n",
       "  ('masam', 0.04338463),\n",
       "  ('cmni', 0.058882464),\n",
       "  ('kn', 0.054250218),\n",
       "  ('agong', 0.15547961),\n",
       "  ('kata', 0.07811978),\n",
       "  ('usaha', 0.05006122),\n",
       "  ('kerajaan', 0.041515753),\n",
       "  ('terdahulu', 0.0357033),\n",
       "  ('sejak', 0.012836863),\n",
       "  ('selepas', 0.01774636),\n",
       "  ('merdeka', 0.02603223)]]"
      ]
     },
     "execution_count": 6,
     "metadata": {},
     "output_type": "execute_result"
    }
   ],
   "source": [
    "model.attention(strings[1], method = 'last')"
   ]
  },
  {
   "cell_type": "code",
   "execution_count": 7,
   "metadata": {},
   "outputs": [
    {
     "data": {
      "text/plain": [
       "[[('Alaa', 0.035761356),\n",
       "  ('Tun', 0.049164597),\n",
       "  ('lek', 0.027038181),\n",
       "  ('ahhh', 0.07766667),\n",
       "  ('npe', 0.041269727),\n",
       "  ('muka', 0.021136),\n",
       "  ('masam', 0.095767364),\n",
       "  ('cmni', 0.033513222),\n",
       "  ('kn', 0.019944489),\n",
       "  ('agong', 0.17159887),\n",
       "  ('kata', 0.029981887),\n",
       "  ('usaha', 0.035313524),\n",
       "  ('kerajaan', 0.039649293),\n",
       "  ('terdahulu', 0.07565842),\n",
       "  ('sejak', 0.031608675),\n",
       "  ('selepas', 0.09213663),\n",
       "  ('merdeka', 0.12279116)]]"
      ]
     },
     "execution_count": 7,
     "metadata": {},
     "output_type": "execute_result"
    }
   ],
   "source": [
    "model.attention(strings[1], method = 'first')"
   ]
  },
  {
   "cell_type": "code",
   "execution_count": 8,
   "metadata": {},
   "outputs": [
    {
     "data": {
      "text/plain": [
       "[[('Alaa', 0.067627385),\n",
       "  ('Tun', 0.05937794),\n",
       "  ('lek', 0.062164135),\n",
       "  ('ahhh', 0.05282652),\n",
       "  ('npe', 0.05113411),\n",
       "  ('muka', 0.050083853),\n",
       "  ('masam', 0.05692221),\n",
       "  ('cmni', 0.07740603),\n",
       "  ('kn', 0.056951318),\n",
       "  ('agong', 0.08621354),\n",
       "  ('kata', 0.06419954),\n",
       "  ('usaha', 0.057119563),\n",
       "  ('kerajaan', 0.0406653),\n",
       "  ('terdahulu', 0.06452254),\n",
       "  ('sejak', 0.047204666),\n",
       "  ('selepas', 0.050263014),\n",
       "  ('merdeka', 0.055318326)]]"
      ]
     },
     "execution_count": 8,
     "metadata": {},
     "output_type": "execute_result"
    }
   ],
   "source": [
    "model.attention(strings[1], method = 'mean')"
   ]
  },
  {
   "cell_type": "code",
   "execution_count": null,
   "metadata": {},
   "outputs": [],
   "source": []
  }
 ],
 "metadata": {
  "kernelspec": {
   "display_name": "Python 3",
   "language": "python",
   "name": "python3"
  },
  "language_info": {
   "codemirror_mode": {
    "name": "ipython",
    "version": 3
   },
   "file_extension": ".py",
   "mimetype": "text/x-python",
   "name": "python",
   "nbconvert_exporter": "python",
   "pygments_lexer": "ipython3",
   "version": "3.6.5"
  }
 },
 "nbformat": 4,
 "nbformat_minor": 2
}
