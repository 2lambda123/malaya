{
 "cells": [
  {
   "cell_type": "code",
   "execution_count": 1,
   "metadata": {},
   "outputs": [
    {
     "name": "stderr",
     "output_type": "stream",
     "text": [
      "/usr/local/lib/python3.5/dist-packages/sklearn/cross_validation.py:41: DeprecationWarning: This module was deprecated in version 0.18 in favor of the model_selection module into which all the refactored classes and functions are moved. Also note that the interface of the new CV iterators are different from that of this module. This module will be removed in 0.20.\n",
      "  \"This module will be removed in 0.20.\", DeprecationWarning)\n"
     ]
    }
   ],
   "source": [
    "import re\n",
    "import numpy as np\n",
    "import pandas as pd\n",
    "import collections\n",
    "from sklearn import metrics\n",
    "from sklearn.cross_validation import train_test_split\n",
    "import tensorflow as tf\n",
    "import pandas as pd\n",
    "from unidecode import unidecode\n",
    "from nltk.util import ngrams\n",
    "from tqdm import tqdm\n",
    "import time"
   ]
  },
  {
   "cell_type": "code",
   "execution_count": 2,
   "metadata": {},
   "outputs": [],
   "source": [
    "permulaan = [\n",
    "    'bel',\n",
    "    'se',\n",
    "    'ter',\n",
    "    'men',\n",
    "    'meng',\n",
    "    'mem',\n",
    "    'memper',\n",
    "    'di',\n",
    "    'pe',\n",
    "    'me',\n",
    "    'ke',\n",
    "    'ber',\n",
    "    'pen',\n",
    "    'per',\n",
    "]\n",
    "\n",
    "hujung = ['kan', 'kah', 'lah', 'tah', 'nya', 'an', 'wan', 'wati', 'ita']\n",
    "\n",
    "def naive_stemmer(word):\n",
    "    assert isinstance(word, str), 'input must be a string'\n",
    "    hujung_result = re.findall(r'^(.*?)(%s)$' % ('|'.join(hujung)), word)\n",
    "    word = hujung_result[0][0] if len(hujung_result) else word\n",
    "    permulaan_result = re.findall(r'^(.*?)(%s)' % ('|'.join(permulaan[::-1])), word)\n",
    "    permulaan_result.extend(re.findall(r'^(.*?)(%s)' % ('|'.join(permulaan)), word))\n",
    "    mula = permulaan_result if len(permulaan_result) else ''\n",
    "    if len(mula):\n",
    "        mula = mula[1][1] if len(mula[1][1]) > len(mula[0][1]) else mula[0][1]\n",
    "    return word.replace(mula, '')\n",
    "\n",
    "def build_dataset(words, n_words):\n",
    "    count = [['GO', 0], ['PAD', 1], ['EOS', 2], ['UNK', 3]]\n",
    "    counter = collections.Counter(words).most_common(n_words)\n",
    "    count.extend(counter)\n",
    "    dictionary = dict()\n",
    "    for word, _ in count:\n",
    "        dictionary[word] = len(dictionary)\n",
    "    data = list()\n",
    "    unk_count = 0\n",
    "    for word in words:\n",
    "        index = dictionary.get(word, 3)\n",
    "        if index == 0:\n",
    "            unk_count += 1\n",
    "        data.append(index)\n",
    "    count[0][1] = unk_count\n",
    "    reversed_dictionary = dict(zip(dictionary.values(), dictionary.keys()))\n",
    "    return data, count, dictionary, reversed_dictionary\n",
    "\n",
    "\n",
    "def classification_textcleaning(string):\n",
    "    string = re.sub(\n",
    "        'http\\S+|www.\\S+',\n",
    "        '',\n",
    "        ' '.join(\n",
    "            [i for i in string.split() if i.find('#') < 0 and i.find('@') < 0]\n",
    "        ),\n",
    "    )\n",
    "    string = unidecode(string).replace('.', ' . ').replace(',', ' , ')\n",
    "    string = re.sub('[^A-Za-z ]+', ' ', string)\n",
    "    string = re.sub(r'[ ]+', ' ', string).strip()\n",
    "    string = ' '.join(\n",
    "        [i for i in re.findall('[\\\\w\\']+|[;:\\-\\(\\)&.,!?\"]', string) if len(i)]\n",
    "    )\n",
    "    string = string.lower().split()\n",
    "    string = [naive_stemmer(word) for word in string]\n",
    "    return ' '.join([word for word in string if len(word) > 1])\n",
    "\n",
    "\n",
    "def str_idx(corpus, dic, UNK = 3):\n",
    "    X = []\n",
    "    for sentence in corpus:\n",
    "        X.append([dic[w] if w in dic else UNK for w in sentence.split()[:maxlen]])\n",
    "    return X\n",
    "\n",
    "def create_ngram_set(input_list, ngram_value):\n",
    "    return set(zip(*[input_list[i:] for i in range(ngram_value)]))\n",
    "\n",
    "\n",
    "def build_ngram(x_train):\n",
    "    global max_features\n",
    "    ngram_set = set()\n",
    "    for input_list in tqdm(x_train, total = len(x_train), ncols = 70):\n",
    "        for i in range(2, 3):\n",
    "            set_of_ngram = create_ngram_set(input_list, ngram_value = i)\n",
    "            ngram_set.update(set_of_ngram)\n",
    "    start_index = max_features + 1\n",
    "    token_indice = {v: k + start_index for k, v in enumerate(ngram_set)}\n",
    "    indice_token = {token_indice[k]: k for k in token_indice}\n",
    "\n",
    "    max_features = np.max(list(indice_token.keys())) + 1\n",
    "    return token_indice\n",
    "\n",
    "\n",
    "def add_ngram(sequences, token_indice):\n",
    "    new_sequences = []\n",
    "    for input_list in sequences:\n",
    "        new_list = input_list[:]\n",
    "        for ngram_value in range(2, ngram_range + 1):\n",
    "            for i in range(len(new_list) - ngram_value + 1):\n",
    "                ngram = tuple(new_list[i : i + ngram_value])\n",
    "                if ngram in token_indice:\n",
    "                    new_list.append(token_indice[ngram])\n",
    "        new_sequences.append(new_list)\n",
    "    return new_sequences"
   ]
  },
  {
   "cell_type": "code",
   "execution_count": 3,
   "metadata": {},
   "outputs": [
    {
     "data": {
      "text/plain": [
       "(40911, 7)"
      ]
     },
     "execution_count": 3,
     "metadata": {},
     "output_type": "execute_result"
    }
   ],
   "source": [
    "df = pd.read_csv('toxic-bm.csv')\n",
    "df = df.dropna()\n",
    "df.shape"
   ]
  },
  {
   "cell_type": "code",
   "execution_count": 4,
   "metadata": {},
   "outputs": [],
   "source": [
    "for i in range(df.shape[0]):\n",
    "    df.iloc[i,0] = classification_textcleaning(df.iloc[i,0])"
   ]
  },
  {
   "cell_type": "code",
   "execution_count": 5,
   "metadata": {},
   "outputs": [
    {
     "name": "stdout",
     "output_type": "stream",
     "text": [
      "vocab from size: 55906\n",
      "Most common words [('yang', 103249), ('anda', 68711), ('tidak', 54325), ('untuk', 50517), ('ada', 39335), ('saya', 32581)]\n",
      "Sample data [68, 96, 78, 4, 41, 126, 276, 2580, 6231, 73] ['jelas', 'gapa', 'gedit', 'yang', 'buat', 'bawah', 'minat', 'tegar', 'tallica', 'nama']\n"
     ]
    }
   ],
   "source": [
    "texts = df.iloc[:,0].tolist()\n",
    "concat = ' '.join(texts).split()\n",
    "vocabulary_size = len(list(set(concat)))\n",
    "data, count, dictionary, rev_dictionary = build_dataset(concat, vocabulary_size)\n",
    "print('vocab from size: %d'%(vocabulary_size))\n",
    "print('Most common words', count[4:10])\n",
    "print('Sample data', data[:10], [rev_dictionary[i] for i in data[:10]])"
   ]
  },
  {
   "cell_type": "code",
   "execution_count": 6,
   "metadata": {},
   "outputs": [],
   "source": [
    "ngram_range = 2\n",
    "max_features = len(dictionary)\n",
    "maxlen = 80\n",
    "batch_size = 32\n",
    "embedded_size = 128"
   ]
  },
  {
   "cell_type": "code",
   "execution_count": 7,
   "metadata": {},
   "outputs": [
    {
     "data": {
      "text/plain": [
       "55910"
      ]
     },
     "execution_count": 7,
     "metadata": {},
     "output_type": "execute_result"
    }
   ],
   "source": [
    "max_features"
   ]
  },
  {
   "cell_type": "code",
   "execution_count": 8,
   "metadata": {},
   "outputs": [],
   "source": [
    "idx_trainset = str_idx(texts, dictionary, maxlen)"
   ]
  },
  {
   "cell_type": "code",
   "execution_count": 9,
   "metadata": {},
   "outputs": [
    {
     "name": "stderr",
     "output_type": "stream",
     "text": [
      "100%|████████████████████████| 40911/40911 [00:00<00:00, 98810.92it/s]\n"
     ]
    },
    {
     "data": {
      "text/plain": [
       "527480"
      ]
     },
     "execution_count": 9,
     "metadata": {},
     "output_type": "execute_result"
    }
   ],
   "source": [
    "token_indice = build_ngram(idx_trainset)\n",
    "X = add_ngram(idx_trainset, token_indice)\n",
    "X = tf.keras.preprocessing.sequence.pad_sequences(X, maxlen)\n",
    "max_features"
   ]
  },
  {
   "cell_type": "code",
   "execution_count": 10,
   "metadata": {},
   "outputs": [
    {
     "data": {
      "text/plain": [
       "(40911, 6)"
      ]
     },
     "execution_count": 10,
     "metadata": {},
     "output_type": "execute_result"
    }
   ],
   "source": [
    "list_classes = [\"toxic\", \"severe_toxic\", \"obscene\", \"threat\", \"insult\", \"identity_hate\"]\n",
    "Y = df[list_classes].values\n",
    "Y.shape"
   ]
  },
  {
   "cell_type": "code",
   "execution_count": 11,
   "metadata": {},
   "outputs": [],
   "source": [
    "train_X, test_X, train_Y, test_Y = train_test_split(X, Y, test_size = 0.2)"
   ]
  },
  {
   "cell_type": "code",
   "execution_count": 12,
   "metadata": {},
   "outputs": [],
   "source": [
    "class Model:\n",
    "    def __init__(\n",
    "        self, embedded_size, dict_size, dimension_output, learning_rate\n",
    "    ):\n",
    "\n",
    "        self.X = tf.placeholder(tf.int32, [None, None])\n",
    "        self.Y = tf.placeholder(tf.float32, [None, dimension_output])\n",
    "        encoder_embeddings = tf.Variable(\n",
    "            tf.random_uniform([dict_size, embedded_size], -1, 1)\n",
    "        )\n",
    "        encoder_embedded = tf.nn.embedding_lookup(encoder_embeddings, self.X)\n",
    "        self.logits = tf.identity(\n",
    "            tf.layers.dense(\n",
    "                tf.reduce_mean(encoder_embedded, 1), dimension_output\n",
    "            ),\n",
    "            name = 'logits',\n",
    "        )\n",
    "        self.cost = tf.reduce_mean(\n",
    "            tf.nn.sigmoid_cross_entropy_with_logits(\n",
    "                logits = self.logits, labels = self.Y\n",
    "            )\n",
    "        )\n",
    "        self.optimizer = tf.train.AdamOptimizer(learning_rate).minimize(\n",
    "            self.cost\n",
    "        )\n",
    "        correct_prediction = tf.equal(tf.round(tf.nn.sigmoid(self.logits)), tf.round(self.Y))\n",
    "        self.accuracy = tf.reduce_mean(tf.cast(correct_prediction, tf.float32))"
   ]
  },
  {
   "cell_type": "code",
   "execution_count": 13,
   "metadata": {},
   "outputs": [
    {
     "data": {
      "text/plain": [
       "'fast-text/model.ckpt'"
      ]
     },
     "execution_count": 13,
     "metadata": {},
     "output_type": "execute_result"
    }
   ],
   "source": [
    "tf.reset_default_graph()\n",
    "sess = tf.InteractiveSession()\n",
    "model = Model(embedded_size, max_features, Y.shape[1], 5e-4)\n",
    "sess.run(tf.global_variables_initializer())\n",
    "saver = tf.train.Saver(tf.trainable_variables())\n",
    "saver.save(sess, 'fast-text/model.ckpt')"
   ]
  },
  {
   "cell_type": "code",
   "execution_count": 14,
   "metadata": {},
   "outputs": [
    {
     "data": {
      "text/plain": [
       "['Placeholder',\n",
       " 'Placeholder_1',\n",
       " 'Variable',\n",
       " 'dense/kernel',\n",
       " 'dense/bias',\n",
       " 'logits']"
      ]
     },
     "execution_count": 14,
     "metadata": {},
     "output_type": "execute_result"
    }
   ],
   "source": [
    "strings = ','.join(\n",
    "    [\n",
    "        n.name\n",
    "        for n in tf.get_default_graph().as_graph_def().node\n",
    "        if ('Variable' in n.op\n",
    "        or 'Placeholder' in n.name\n",
    "        or 'logits' in n.name)\n",
    "        and 'Adam' not in n.name\n",
    "        and 'beta' not in n.name\n",
    "    ]\n",
    ")\n",
    "strings.split(',')"
   ]
  },
  {
   "cell_type": "code",
   "execution_count": 15,
   "metadata": {},
   "outputs": [
    {
     "data": {
      "text/plain": [
       "[<tf.Variable 'Variable:0' shape=(527480, 128) dtype=float32_ref>,\n",
       " <tf.Variable 'dense/kernel:0' shape=(128, 6) dtype=float32_ref>,\n",
       " <tf.Variable 'dense/bias:0' shape=(6,) dtype=float32_ref>]"
      ]
     },
     "execution_count": 15,
     "metadata": {},
     "output_type": "execute_result"
    }
   ],
   "source": [
    "tf.trainable_variables()"
   ]
  },
  {
   "cell_type": "code",
   "execution_count": 16,
   "metadata": {},
   "outputs": [
    {
     "name": "stderr",
     "output_type": "stream",
     "text": [
      "train minibatch loop: 100%|██████████| 1023/1023 [01:19<00:00, 13.15it/s, accuracy=0.944, cost=0.228]\n",
      "test minibatch loop: 100%|██████████| 256/256 [00:00<00:00, 331.69it/s, accuracy=0.92, cost=0.282]  \n",
      "train minibatch loop:   0%|          | 2/1023 [00:00<01:17, 13.11it/s, accuracy=0.964, cost=0.157]"
     ]
    },
    {
     "name": "stdout",
     "output_type": "stream",
     "text": [
      "epoch: 0, pass acc: 0.000000, current acc: 0.963475\n",
      "time taken: 80.2831301689148\n",
      "epoch: 0, training loss: 0.282075, training acc: 0.944010, valid loss: 0.158684, valid acc: 0.963475\n",
      "\n"
     ]
    },
    {
     "name": "stderr",
     "output_type": "stream",
     "text": [
      "train minibatch loop: 100%|██████████| 1023/1023 [01:19<00:00, 12.88it/s, accuracy=0.944, cost=0.167] \n",
      "test minibatch loop: 100%|██████████| 256/256 [00:00<00:00, 355.42it/s, accuracy=0.92, cost=0.205]  \n",
      "train minibatch loop:   0%|          | 2/1023 [00:00<01:20, 12.61it/s, accuracy=0.964, cost=0.11]"
     ]
    },
    {
     "name": "stdout",
     "output_type": "stream",
     "text": [
      "epoch: 1, pass acc: 0.963475, current acc: 0.963801\n",
      "time taken: 80.16905879974365\n",
      "epoch: 1, training loss: 0.132708, training acc: 0.963275, valid loss: 0.125312, valid acc: 0.963801\n",
      "\n"
     ]
    },
    {
     "name": "stderr",
     "output_type": "stream",
     "text": [
      "train minibatch loop: 100%|██████████| 1023/1023 [01:19<00:00, 12.87it/s, accuracy=0.944, cost=0.128] \n",
      "test minibatch loop: 100%|██████████| 256/256 [00:00<00:00, 350.16it/s, accuracy=0.92, cost=0.184]  \n",
      "train minibatch loop:   0%|          | 2/1023 [00:00<01:19, 12.89it/s, accuracy=0.964, cost=0.0969]"
     ]
    },
    {
     "name": "stdout",
     "output_type": "stream",
     "text": [
      "epoch: 2, pass acc: 0.963801, current acc: 0.964819\n",
      "time taken: 80.25054669380188\n",
      "epoch: 2, training loss: 0.108261, training acc: 0.964151, valid loss: 0.111573, valid acc: 0.964819\n",
      "\n"
     ]
    },
    {
     "name": "stderr",
     "output_type": "stream",
     "text": [
      "train minibatch loop: 100%|██████████| 1023/1023 [01:19<00:00, 12.84it/s, accuracy=0.958, cost=0.0972]\n",
      "test minibatch loop: 100%|██████████| 256/256 [00:00<00:00, 360.10it/s, accuracy=0.92, cost=0.171]  \n",
      "train minibatch loop:   0%|          | 2/1023 [00:00<01:21, 12.57it/s, accuracy=0.964, cost=0.0875]"
     ]
    },
    {
     "name": "stdout",
     "output_type": "stream",
     "text": [
      "epoch: 3, pass acc: 0.964819, current acc: 0.966897\n",
      "time taken: 80.40604782104492\n",
      "epoch: 3, training loss: 0.091585, training acc: 0.966772, valid loss: 0.101931, valid acc: 0.966897\n",
      "\n"
     ]
    },
    {
     "name": "stderr",
     "output_type": "stream",
     "text": [
      "train minibatch loop: 100%|██████████| 1023/1023 [01:19<00:00, 12.82it/s, accuracy=0.986, cost=0.0783]\n",
      "test minibatch loop: 100%|██████████| 256/256 [00:00<00:00, 301.75it/s, accuracy=0.92, cost=0.159]  \n",
      "train minibatch loop:   0%|          | 2/1023 [00:00<01:21, 12.50it/s, accuracy=0.969, cost=0.0796]"
     ]
    },
    {
     "name": "stdout",
     "output_type": "stream",
     "text": [
      "epoch: 4, pass acc: 0.966897, current acc: 0.969117\n",
      "time taken: 80.63232946395874\n",
      "epoch: 4, training loss: 0.078405, training acc: 0.970231, valid loss: 0.095992, valid acc: 0.969117\n",
      "\n"
     ]
    },
    {
     "name": "stderr",
     "output_type": "stream",
     "text": [
      "train minibatch loop: 100%|██████████| 1023/1023 [01:19<00:00, 12.80it/s, accuracy=0.979, cost=0.0675]\n",
      "test minibatch loop: 100%|██████████| 256/256 [00:00<00:00, 394.31it/s, accuracy=0.928, cost=0.148] \n",
      "train minibatch loop:   0%|          | 2/1023 [00:00<01:19, 12.78it/s, accuracy=0.969, cost=0.0729]"
     ]
    },
    {
     "name": "stdout",
     "output_type": "stream",
     "text": [
      "epoch: 5, pass acc: 0.969117, current acc: 0.970265\n",
      "time taken: 80.57985949516296\n",
      "epoch: 5, training loss: 0.068010, training acc: 0.973911, valid loss: 0.092461, valid acc: 0.970265\n",
      "\n"
     ]
    },
    {
     "name": "stderr",
     "output_type": "stream",
     "text": [
      "train minibatch loop: 100%|██████████| 1023/1023 [01:19<00:00, 12.84it/s, accuracy=0.979, cost=0.061] \n",
      "test minibatch loop: 100%|██████████| 256/256 [00:00<00:00, 332.39it/s, accuracy=0.928, cost=0.138] \n",
      "train minibatch loop:   0%|          | 2/1023 [00:00<01:15, 13.46it/s, accuracy=0.974, cost=0.0673]"
     ]
    },
    {
     "name": "stdout",
     "output_type": "stream",
     "text": [
      "epoch: 6, pass acc: 0.970265, current acc: 0.970999\n",
      "time taken: 80.46009850502014\n",
      "epoch: 6, training loss: 0.059511, training acc: 0.977298, valid loss: 0.090399, valid acc: 0.970999\n",
      "\n"
     ]
    },
    {
     "name": "stderr",
     "output_type": "stream",
     "text": [
      "train minibatch loop: 100%|██████████| 1023/1023 [01:19<00:00, 12.86it/s, accuracy=0.979, cost=0.0568]\n",
      "test minibatch loop: 100%|██████████| 256/256 [00:00<00:00, 374.28it/s, accuracy=0.935, cost=0.129] \n",
      "train minibatch loop:   0%|          | 2/1023 [00:00<01:16, 13.30it/s, accuracy=0.979, cost=0.0623]"
     ]
    },
    {
     "name": "stdout",
     "output_type": "stream",
     "text": [
      "epoch: 7, pass acc: 0.970999, current acc: 0.971699\n",
      "time taken: 80.21313452720642\n",
      "epoch: 7, training loss: 0.052523, training acc: 0.980521, valid loss: 0.089425, valid acc: 0.971699\n",
      "\n"
     ]
    },
    {
     "name": "stderr",
     "output_type": "stream",
     "text": [
      "train minibatch loop: 100%|██████████| 1023/1023 [01:19<00:00, 12.82it/s, accuracy=0.986, cost=0.0536]\n",
      "test minibatch loop: 100%|██████████| 256/256 [00:00<00:00, 381.60it/s, accuracy=0.942, cost=0.122] \n",
      "train minibatch loop:   0%|          | 2/1023 [00:00<01:22, 12.38it/s, accuracy=0.979, cost=0.0578]"
     ]
    },
    {
     "name": "stdout",
     "output_type": "stream",
     "text": [
      "epoch: 8, pass acc: 0.971699, current acc: 0.972257\n",
      "time taken: 80.45513844490051\n",
      "epoch: 8, training loss: 0.046784, training acc: 0.983064, valid loss: 0.089325, valid acc: 0.972257\n",
      "\n"
     ]
    },
    {
     "name": "stderr",
     "output_type": "stream",
     "text": [
      "train minibatch loop: 100%|██████████| 1023/1023 [01:19<00:00, 12.85it/s, accuracy=0.986, cost=0.0509]\n",
      "test minibatch loop: 100%|██████████| 256/256 [00:00<00:00, 339.14it/s, accuracy=0.942, cost=0.116] \n",
      "train minibatch loop:   0%|          | 2/1023 [00:00<01:13, 13.81it/s, accuracy=0.979, cost=0.0535]"
     ]
    },
    {
     "name": "stdout",
     "output_type": "stream",
     "text": [
      "epoch: 9, pass acc: 0.972257, current acc: 0.972807\n",
      "time taken: 80.36855268478394\n",
      "epoch: 9, training loss: 0.042024, training acc: 0.985127, valid loss: 0.089963, valid acc: 0.972807\n",
      "\n"
     ]
    },
    {
     "name": "stderr",
     "output_type": "stream",
     "text": [
      "train minibatch loop: 100%|██████████| 1023/1023 [01:19<00:00, 12.86it/s, accuracy=0.986, cost=0.0483]\n",
      "test minibatch loop: 100%|██████████| 256/256 [00:00<00:00, 411.38it/s, accuracy=0.942, cost=0.111] \n",
      "train minibatch loop:   0%|          | 2/1023 [00:00<01:18, 12.94it/s, accuracy=0.979, cost=0.0493]"
     ]
    },
    {
     "name": "stdout",
     "output_type": "stream",
     "text": [
      "epoch: 10, pass acc: 0.972807, current acc: 0.973214\n",
      "time taken: 80.19673562049866\n",
      "epoch: 10, training loss: 0.038003, training acc: 0.986868, valid loss: 0.091143, valid acc: 0.973214\n",
      "\n"
     ]
    },
    {
     "name": "stderr",
     "output_type": "stream",
     "text": [
      "train minibatch loop: 100%|██████████| 1023/1023 [01:19<00:00, 12.86it/s, accuracy=0.986, cost=0.0456]\n",
      "test minibatch loop: 100%|██████████| 256/256 [00:00<00:00, 343.07it/s, accuracy=0.942, cost=0.106] \n",
      "train minibatch loop:   0%|          | 2/1023 [00:00<01:18, 13.08it/s, accuracy=0.979, cost=0.0452]"
     ]
    },
    {
     "name": "stdout",
     "output_type": "stream",
     "text": [
      "epoch: 11, pass acc: 0.973214, current acc: 0.973479\n",
      "time taken: 80.30969452857971\n",
      "epoch: 11, training loss: 0.034536, training acc: 0.988274, valid loss: 0.092835, valid acc: 0.973479\n",
      "\n"
     ]
    },
    {
     "name": "stderr",
     "output_type": "stream",
     "text": [
      "train minibatch loop: 100%|██████████| 1023/1023 [01:19<00:00, 12.85it/s, accuracy=0.986, cost=0.043] \n",
      "test minibatch loop: 100%|██████████| 256/256 [00:00<00:00, 354.88it/s, accuracy=0.949, cost=0.102] \n",
      "train minibatch loop:   0%|          | 2/1023 [00:00<01:15, 13.44it/s, accuracy=0.984, cost=0.0412]"
     ]
    },
    {
     "name": "stdout",
     "output_type": "stream",
     "text": [
      "epoch: 12, pass acc: 0.973479, current acc: 0.973670\n",
      "time taken: 80.34174299240112\n",
      "epoch: 12, training loss: 0.031494, training acc: 0.989542, valid loss: 0.094851, valid acc: 0.973670\n",
      "\n"
     ]
    },
    {
     "name": "stderr",
     "output_type": "stream",
     "text": [
      "train minibatch loop: 100%|██████████| 1023/1023 [01:18<00:00, 13.02it/s, accuracy=0.986, cost=0.0402] \n",
      "test minibatch loop: 100%|██████████| 256/256 [00:00<00:00, 431.85it/s, accuracy=0.957, cost=0.0987]\n",
      "train minibatch loop:   0%|          | 2/1023 [00:00<01:15, 13.54it/s, accuracy=0.984, cost=0.0374]"
     ]
    },
    {
     "name": "stdout",
     "output_type": "stream",
     "text": [
      "epoch: 13, pass acc: 0.973670, current acc: 0.974024\n",
      "time taken: 79.19381928443909\n",
      "epoch: 13, training loss: 0.028782, training acc: 0.990626, valid loss: 0.097209, valid acc: 0.974024\n",
      "\n"
     ]
    },
    {
     "name": "stderr",
     "output_type": "stream",
     "text": [
      "train minibatch loop: 100%|██████████| 1023/1023 [01:17<00:00, 13.27it/s, accuracy=0.986, cost=0.0374]\n",
      "test minibatch loop: 100%|██████████| 256/256 [00:00<00:00, 373.90it/s, accuracy=0.957, cost=0.0954]\n",
      "train minibatch loop:   0%|          | 2/1023 [00:00<01:15, 13.60it/s, accuracy=0.984, cost=0.0337]"
     ]
    },
    {
     "name": "stdout",
     "output_type": "stream",
     "text": [
      "epoch: 14, pass acc: 0.974024, current acc: 0.974289\n",
      "time taken: 77.80120038986206\n",
      "epoch: 14, training loss: 0.026333, training acc: 0.991696, valid loss: 0.099716, valid acc: 0.974289\n",
      "\n"
     ]
    },
    {
     "name": "stderr",
     "output_type": "stream",
     "text": [
      "train minibatch loop: 100%|██████████| 1023/1023 [01:17<00:00, 13.25it/s, accuracy=0.986, cost=0.0345]\n",
      "test minibatch loop: 100%|██████████| 256/256 [00:00<00:00, 344.36it/s, accuracy=0.957, cost=0.0926]\n",
      "train minibatch loop:   0%|          | 2/1023 [00:00<01:22, 12.33it/s, accuracy=0.984, cost=0.0302]"
     ]
    },
    {
     "name": "stdout",
     "output_type": "stream",
     "text": [
      "epoch: 15, pass acc: 0.974289, current acc: 0.974310\n",
      "time taken: 77.94110465049744\n",
      "epoch: 15, training loss: 0.024104, training acc: 0.992648, valid loss: 0.102476, valid acc: 0.974310\n",
      "\n"
     ]
    },
    {
     "name": "stderr",
     "output_type": "stream",
     "text": [
      "train minibatch loop: 100%|██████████| 1023/1023 [01:19<00:00, 12.91it/s, accuracy=0.986, cost=0.0317]\n",
      "test minibatch loop: 100%|██████████| 256/256 [00:00<00:00, 383.61it/s, accuracy=0.957, cost=0.09]  \n",
      "train minibatch loop:   0%|          | 2/1023 [00:00<01:25, 11.91it/s, accuracy=0.984, cost=0.027]"
     ]
    },
    {
     "name": "stdout",
     "output_type": "stream",
     "text": [
      "epoch: 16, pass acc: 0.974310, current acc: 0.974554\n",
      "time taken: 79.93895292282104\n",
      "epoch: 16, training loss: 0.022071, training acc: 0.993402, valid loss: 0.105253, valid acc: 0.974554\n",
      "\n"
     ]
    },
    {
     "name": "stderr",
     "output_type": "stream",
     "text": [
      "train minibatch loop: 100%|██████████| 1023/1023 [01:19<00:00, 12.90it/s, accuracy=0.986, cost=0.0289] \n",
      "test minibatch loop: 100%|██████████| 256/256 [00:00<00:00, 345.93it/s, accuracy=0.957, cost=0.0877]\n",
      "train minibatch loop:   0%|          | 2/1023 [00:00<01:19, 12.86it/s, accuracy=0.984, cost=0.024]"
     ]
    },
    {
     "name": "stdout",
     "output_type": "stream",
     "text": [
      "time taken: 80.0658438205719\n",
      "epoch: 17, training loss: 0.020211, training acc: 0.994059, valid loss: 0.108256, valid acc: 0.974513\n",
      "\n"
     ]
    },
    {
     "name": "stderr",
     "output_type": "stream",
     "text": [
      "train minibatch loop: 100%|██████████| 1023/1023 [01:19<00:00, 12.89it/s, accuracy=0.986, cost=0.0262] \n",
      "test minibatch loop: 100%|██████████| 256/256 [00:00<00:00, 321.66it/s, accuracy=0.957, cost=0.0857]\n",
      "train minibatch loop:   0%|          | 2/1023 [00:00<01:19, 12.79it/s, accuracy=0.99, cost=0.0213]"
     ]
    },
    {
     "name": "stdout",
     "output_type": "stream",
     "text": [
      "epoch: 18, pass acc: 0.974554, current acc: 0.974574\n",
      "time taken: 80.16297912597656\n",
      "epoch: 18, training loss: 0.018514, training acc: 0.994751, valid loss: 0.111218, valid acc: 0.974574\n",
      "\n"
     ]
    },
    {
     "name": "stderr",
     "output_type": "stream",
     "text": [
      "train minibatch loop: 100%|██████████| 1023/1023 [01:19<00:00, 12.92it/s, accuracy=0.986, cost=0.0237]\n",
      "test minibatch loop: 100%|██████████| 256/256 [00:00<00:00, 368.21it/s, accuracy=0.957, cost=0.0838]\n",
      "train minibatch loop:   0%|          | 2/1023 [00:00<01:18, 12.97it/s, accuracy=0.995, cost=0.0189]"
     ]
    },
    {
     "name": "stdout",
     "output_type": "stream",
     "text": [
      "epoch: 19, pass acc: 0.974574, current acc: 0.974656\n",
      "time taken: 79.90573620796204\n",
      "epoch: 19, training loss: 0.016963, training acc: 0.995235, valid loss: 0.114379, valid acc: 0.974656\n",
      "\n"
     ]
    },
    {
     "name": "stderr",
     "output_type": "stream",
     "text": [
      "train minibatch loop: 100%|██████████| 1023/1023 [01:19<00:00, 12.90it/s, accuracy=0.986, cost=0.0212]\n",
      "test minibatch loop: 100%|██████████| 256/256 [00:00<00:00, 312.85it/s, accuracy=0.964, cost=0.0821]\n",
      "train minibatch loop:   0%|          | 2/1023 [00:00<01:17, 13.18it/s, accuracy=0.995, cost=0.0168]"
     ]
    },
    {
     "name": "stdout",
     "output_type": "stream",
     "text": [
      "epoch: 20, pass acc: 0.974656, current acc: 0.974684\n",
      "time taken: 80.15338468551636\n",
      "epoch: 20, training loss: 0.015550, training acc: 0.995790, valid loss: 0.117534, valid acc: 0.974684\n",
      "\n"
     ]
    },
    {
     "name": "stderr",
     "output_type": "stream",
     "text": [
      "train minibatch loop: 100%|██████████| 1023/1023 [01:19<00:00, 12.92it/s, accuracy=0.986, cost=0.019] \n",
      "test minibatch loop: 100%|██████████| 256/256 [00:00<00:00, 382.90it/s, accuracy=0.964, cost=0.0806] \n",
      "train minibatch loop:   0%|          | 2/1023 [00:00<01:21, 12.47it/s, accuracy=0.995, cost=0.0149]"
     ]
    },
    {
     "name": "stdout",
     "output_type": "stream",
     "text": [
      "time taken: 79.83264565467834\n",
      "epoch: 21, training loss: 0.014266, training acc: 0.996213, valid loss: 0.120769, valid acc: 0.974664\n",
      "\n"
     ]
    },
    {
     "name": "stderr",
     "output_type": "stream",
     "text": [
      "train minibatch loop: 100%|██████████| 1023/1023 [01:19<00:00, 12.93it/s, accuracy=0.993, cost=0.0169] \n",
      "test minibatch loop: 100%|██████████| 256/256 [00:00<00:00, 363.37it/s, accuracy=0.964, cost=0.0793] \n",
      "train minibatch loop:   0%|          | 2/1023 [00:00<01:24, 12.02it/s, accuracy=0.995, cost=0.0132]"
     ]
    },
    {
     "name": "stdout",
     "output_type": "stream",
     "text": [
      "time taken: 79.7959213256836\n",
      "epoch: 22, training loss: 0.013098, training acc: 0.996642, valid loss: 0.124084, valid acc: 0.974582\n",
      "\n"
     ]
    },
    {
     "name": "stderr",
     "output_type": "stream",
     "text": [
      "train minibatch loop: 100%|██████████| 1023/1023 [01:19<00:00, 12.92it/s, accuracy=0.993, cost=0.015]  \n",
      "test minibatch loop: 100%|██████████| 256/256 [00:00<00:00, 371.85it/s, accuracy=0.964, cost=0.078]  \n",
      "train minibatch loop:   0%|          | 2/1023 [00:00<01:18, 12.98it/s, accuracy=0.995, cost=0.0118]"
     ]
    },
    {
     "name": "stdout",
     "output_type": "stream",
     "text": [
      "time taken: 79.85598611831665\n",
      "epoch: 23, training loss: 0.012035, training acc: 0.997029, valid loss: 0.127429, valid acc: 0.974603\n",
      "\n"
     ]
    },
    {
     "name": "stderr",
     "output_type": "stream",
     "text": [
      "train minibatch loop: 100%|██████████| 1023/1023 [01:19<00:00, 12.92it/s, accuracy=1, cost=0.0133]     \n",
      "test minibatch loop: 100%|██████████| 256/256 [00:00<00:00, 356.51it/s, accuracy=0.964, cost=0.077]  \n",
      "train minibatch loop:   0%|          | 2/1023 [00:00<01:20, 12.72it/s, accuracy=0.995, cost=0.0106]"
     ]
    },
    {
     "name": "stdout",
     "output_type": "stream",
     "text": [
      "time taken: 79.882652759552\n",
      "epoch: 24, training loss: 0.011069, training acc: 0.997240, valid loss: 0.130816, valid acc: 0.974562\n",
      "\n"
     ]
    },
    {
     "name": "stderr",
     "output_type": "stream",
     "text": [
      "train minibatch loop: 100%|██████████| 1023/1023 [01:19<00:00, 12.89it/s, accuracy=1, cost=0.0117]     \n",
      "test minibatch loop: 100%|██████████| 256/256 [00:00<00:00, 377.80it/s, accuracy=0.964, cost=0.076]  \n"
     ]
    },
    {
     "name": "stdout",
     "output_type": "stream",
     "text": [
      "time taken: 80.07178211212158\n",
      "epoch: 25, training loss: 0.010190, training acc: 0.997484, valid loss: 0.134234, valid acc: 0.974562\n",
      "\n",
      "break epoch:26\n",
      "\n"
     ]
    },
    {
     "data": {
      "text/plain": [
       "'fast-text/model.ckpt'"
      ]
     },
     "execution_count": 16,
     "metadata": {},
     "output_type": "execute_result"
    }
   ],
   "source": [
    "EARLY_STOPPING, CURRENT_CHECKPOINT, CURRENT_ACC, EPOCH = 5, 0, 0, 0\n",
    "\n",
    "while True:\n",
    "    lasttime = time.time()\n",
    "    if CURRENT_CHECKPOINT == EARLY_STOPPING:\n",
    "        print('break epoch:%d\\n' % (EPOCH))\n",
    "        break\n",
    "\n",
    "    train_acc, train_loss, test_acc, test_loss = 0, 0, 0, 0\n",
    "    pbar = tqdm(\n",
    "        range(0, len(train_X), batch_size), desc = 'train minibatch loop'\n",
    "    )\n",
    "    for i in pbar:\n",
    "        batch_x = train_X[i : min(i + batch_size, train_X.shape[0])]\n",
    "        batch_y = train_Y[i : min(i + batch_size, train_X.shape[0])]\n",
    "        acc, cost, _ = sess.run(\n",
    "            [model.accuracy, model.cost, model.optimizer],\n",
    "            feed_dict = {\n",
    "                model.X: batch_x,\n",
    "                model.Y: batch_y\n",
    "            },\n",
    "        )\n",
    "        assert not np.isnan(cost)\n",
    "        train_loss += cost\n",
    "        train_acc += acc\n",
    "        pbar.set_postfix(cost = cost, accuracy = acc)\n",
    "\n",
    "    pbar = tqdm(range(0, len(test_X), batch_size), desc = 'test minibatch loop')\n",
    "    for i in pbar:\n",
    "        batch_x = test_X[i : min(i + batch_size, test_X.shape[0])]\n",
    "        batch_y = test_Y[i : min(i + batch_size, test_X.shape[0])]\n",
    "        acc, cost = sess.run(\n",
    "            [model.accuracy, model.cost],\n",
    "            feed_dict = {\n",
    "                model.X: batch_x,\n",
    "                model.Y: batch_y\n",
    "            },\n",
    "        )\n",
    "        test_loss += cost\n",
    "        test_acc += acc\n",
    "        pbar.set_postfix(cost = cost, accuracy = acc)\n",
    "\n",
    "    train_loss /= len(train_X) / batch_size\n",
    "    train_acc /= len(train_X) / batch_size\n",
    "    test_loss /= len(test_X) / batch_size\n",
    "    test_acc /= len(test_X) / batch_size\n",
    "\n",
    "    if test_acc > CURRENT_ACC:\n",
    "        print(\n",
    "            'epoch: %d, pass acc: %f, current acc: %f'\n",
    "            % (EPOCH, CURRENT_ACC, test_acc)\n",
    "        )\n",
    "        CURRENT_ACC = test_acc\n",
    "        CURRENT_CHECKPOINT = 0\n",
    "    else:\n",
    "        CURRENT_CHECKPOINT += 1\n",
    "\n",
    "    print('time taken:', time.time() - lasttime)\n",
    "    print(\n",
    "        'epoch: %d, training loss: %f, training acc: %f, valid loss: %f, valid acc: %f\\n'\n",
    "        % (EPOCH, train_loss, train_acc, test_loss, test_acc)\n",
    "    )\n",
    "    EPOCH += 1\n",
    "\n",
    "saver.save(sess, \"fast-text/model.ckpt\")"
   ]
  },
  {
   "cell_type": "code",
   "execution_count": 17,
   "metadata": {},
   "outputs": [
    {
     "name": "stderr",
     "output_type": "stream",
     "text": [
      "test minibatch loop: 100%|██████████| 256/256 [00:02<00:00, 114.45it/s]\n"
     ]
    }
   ],
   "source": [
    "stack = []\n",
    "pbar = tqdm(range(0, len(test_X), batch_size), desc = 'test minibatch loop')\n",
    "for i in pbar:\n",
    "    batch_x = test_X[i : min(i + batch_size, test_X.shape[0])]\n",
    "    batch_y = test_Y[i : min(i + batch_size, test_X.shape[0])]\n",
    "    stack.append(sess.run(tf.nn.sigmoid(model.logits),\n",
    "                         feed_dict = {model.X: batch_x}))"
   ]
  },
  {
   "cell_type": "code",
   "execution_count": 18,
   "metadata": {},
   "outputs": [
    {
     "name": "stdout",
     "output_type": "stream",
     "text": [
      "             precision    recall  f1-score   support\n",
      "\n",
      "          0       0.80      0.47      0.59       815\n",
      "          1       0.58      0.19      0.29        94\n",
      "          2       0.90      0.38      0.54       425\n",
      "          3       0.40      0.06      0.11        31\n",
      "          4       0.85      0.35      0.49       410\n",
      "          5       0.35      0.08      0.13        74\n",
      "\n",
      "avg / total       0.80      0.39      0.52      1849\n",
      "\n"
     ]
    }
   ],
   "source": [
    "print(metrics.classification_report(test_Y,np.around(np.concatenate(stack,axis=0))))"
   ]
  },
  {
   "cell_type": "code",
   "execution_count": 19,
   "metadata": {},
   "outputs": [
    {
     "data": {
      "text/plain": [
       "array([[1.        , 0.99998116, 1.        , 0.99980634, 1.        ,\n",
       "        0.9999999 ]], dtype=float32)"
      ]
     },
     "execution_count": 19,
     "metadata": {},
     "output_type": "execute_result"
    }
   ],
   "source": [
    "text = 'bodoh lah anti sosial'\n",
    "new_vector = add_ngram(str_idx([classification_textcleaning(text)], dictionary), token_indice)\n",
    "sess.run(tf.nn.sigmoid(model.logits), feed_dict={model.X:new_vector})"
   ]
  },
  {
   "cell_type": "code",
   "execution_count": 20,
   "metadata": {},
   "outputs": [],
   "source": [
    "import json\n",
    "with open('fast-text-toxic.json','w') as fopen:\n",
    "    fopen.write(json.dumps({'dictionary':dictionary,'reverse_dictionary':rev_dictionary}))"
   ]
  },
  {
   "cell_type": "code",
   "execution_count": 21,
   "metadata": {},
   "outputs": [],
   "source": [
    "def freeze_graph(model_dir, output_node_names):\n",
    "\n",
    "    if not tf.gfile.Exists(model_dir):\n",
    "        raise AssertionError(\n",
    "            \"Export directory doesn't exists. Please specify an export \"\n",
    "            'directory: %s' % model_dir\n",
    "        )\n",
    "\n",
    "    checkpoint = tf.train.get_checkpoint_state(model_dir)\n",
    "    input_checkpoint = checkpoint.model_checkpoint_path\n",
    "\n",
    "    absolute_model_dir = '/'.join(input_checkpoint.split('/')[:-1])\n",
    "    output_graph = absolute_model_dir + '/frozen_model.pb'\n",
    "    clear_devices = True\n",
    "    with tf.Session(graph = tf.Graph()) as sess:\n",
    "        saver = tf.train.import_meta_graph(\n",
    "            input_checkpoint + '.meta', clear_devices = clear_devices\n",
    "        )\n",
    "        saver.restore(sess, input_checkpoint)\n",
    "        output_graph_def = tf.graph_util.convert_variables_to_constants(\n",
    "            sess,\n",
    "            tf.get_default_graph().as_graph_def(),\n",
    "            output_node_names.split(','),\n",
    "        )\n",
    "        with tf.gfile.GFile(output_graph, 'wb') as f:\n",
    "            f.write(output_graph_def.SerializeToString())\n",
    "        print('%d ops in the final graph.' % len(output_graph_def.node))"
   ]
  },
  {
   "cell_type": "code",
   "execution_count": 22,
   "metadata": {},
   "outputs": [
    {
     "name": "stdout",
     "output_type": "stream",
     "text": [
      "INFO:tensorflow:Restoring parameters from fast-text/model.ckpt\n",
      "INFO:tensorflow:Froze 3 variables.\n",
      "INFO:tensorflow:Converted 3 variables to const ops.\n",
      "16 ops in the final graph.\n"
     ]
    }
   ],
   "source": [
    "freeze_graph('fast-text', strings)"
   ]
  },
  {
   "cell_type": "code",
   "execution_count": 23,
   "metadata": {},
   "outputs": [],
   "source": [
    "def load_graph(frozen_graph_filename):\n",
    "    with tf.gfile.GFile(frozen_graph_filename, 'rb') as f:\n",
    "        graph_def = tf.GraphDef()\n",
    "        graph_def.ParseFromString(f.read())\n",
    "    with tf.Graph().as_default() as graph:\n",
    "        tf.import_graph_def(graph_def)\n",
    "    return graph"
   ]
  },
  {
   "cell_type": "code",
   "execution_count": 24,
   "metadata": {},
   "outputs": [
    {
     "name": "stderr",
     "output_type": "stream",
     "text": [
      "/usr/local/lib/python3.5/dist-packages/tensorflow/python/client/session.py:1702: UserWarning: An interactive session is already active. This can cause out-of-memory errors in some cases. You must explicitly call `InteractiveSession.close()` to release resources held by the other session(s).\n",
      "  warnings.warn('An interactive session is already active. This can '\n"
     ]
    },
    {
     "data": {
      "text/plain": [
       "array([[1.        , 0.99998116, 1.        , 0.99980634, 1.        ,\n",
       "        0.9999999 ]], dtype=float32)"
      ]
     },
     "execution_count": 24,
     "metadata": {},
     "output_type": "execute_result"
    }
   ],
   "source": [
    "g = load_graph('fast-text/frozen_model.pb')\n",
    "x = g.get_tensor_by_name('import/Placeholder:0')\n",
    "logits = g.get_tensor_by_name('import/logits:0')\n",
    "test_sess = tf.InteractiveSession(graph = g)\n",
    "test_sess.run(tf.nn.sigmoid(logits), feed_dict = {x: new_vector})"
   ]
  },
  {
   "cell_type": "code",
   "execution_count": 25,
   "metadata": {},
   "outputs": [],
   "source": [
    "import pickle\n",
    "with open('fasttext-toxic.pkl','wb') as fopen:\n",
    "    pickle.dump(token_indice, fopen)"
   ]
  }
 ],
 "metadata": {
  "kernelspec": {
   "display_name": "Python 3",
   "language": "python",
   "name": "python3"
  },
  "language_info": {
   "codemirror_mode": {
    "name": "ipython",
    "version": 3
   },
   "file_extension": ".py",
   "mimetype": "text/x-python",
   "name": "python",
   "nbconvert_exporter": "python",
   "pygments_lexer": "ipython3",
   "version": "3.5.2"
  }
 },
 "nbformat": 4,
 "nbformat_minor": 2
}
