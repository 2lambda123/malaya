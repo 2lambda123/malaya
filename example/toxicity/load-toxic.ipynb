{
 "cells": [
  {
   "cell_type": "code",
   "execution_count": 1,
   "metadata": {},
   "outputs": [
    {
     "name": "stdout",
     "output_type": "stream",
     "text": [
      "1.0 1.0.0.0\n"
     ]
    }
   ],
   "source": [
    "import malaya\n",
    "print(malaya.version, malaya.bump_version)"
   ]
  },
  {
   "cell_type": "code",
   "execution_count": 2,
   "metadata": {},
   "outputs": [],
   "source": [
    "string = 'Benda yg SALAH ni, jgn lah didebatkan. Yg SALAH xkan jadi betul. Ingat tu. Mcm mana kesat sekalipun org sampaikan mesej, dan memang benda tu salah, diam je. Xyah nk tunjuk kau open sangat nk tegur cara org lain berdakwah. '\n",
    "another_string = 'bodoh, dah la gay, sokong lgbt lagi, memang tak guna'"
   ]
  },
  {
   "cell_type": "markdown",
   "metadata": {},
   "source": [
    "## Load multinomial model"
   ]
  },
  {
   "cell_type": "code",
   "execution_count": 4,
   "metadata": {},
   "outputs": [
    {
     "name": "stdout",
     "output_type": "stream",
     "text": [
      "downloading frozen /Users/huseinzol/Malaya/toxic/multinomial model\n"
     ]
    },
    {
     "name": "stderr",
     "output_type": "stream",
     "text": [
      "11.0MB [00:04, 1.98MB/s]                          \n",
      "  0%|          | 0.00/19.3 [00:00<?, ?MB/s]"
     ]
    },
    {
     "name": "stdout",
     "output_type": "stream",
     "text": [
      "downloading frozen /Users/huseinzol/Malaya/toxic/multinomial vector\n"
     ]
    },
    {
     "name": "stderr",
     "output_type": "stream",
     "text": [
      "20.0MB [00:08, 3.55MB/s]                          \n"
     ]
    }
   ],
   "source": [
    "model = malaya.toxic.multinomial()"
   ]
  },
  {
   "cell_type": "code",
   "execution_count": 5,
   "metadata": {},
   "outputs": [
    {
     "data": {
      "text/plain": [
       "{'toxic': 0,\n",
       " 'severe_toxic': 0,\n",
       " 'obscene': 0,\n",
       " 'threat': 0,\n",
       " 'insult': 0,\n",
       " 'identity_hate': 0}"
      ]
     },
     "execution_count": 5,
     "metadata": {},
     "output_type": "execute_result"
    }
   ],
   "source": [
    "model.predict(string)"
   ]
  },
  {
   "cell_type": "code",
   "execution_count": 6,
   "metadata": {},
   "outputs": [
    {
     "data": {
      "text/plain": [
       "{'toxic': 0.14165235977019472,\n",
       " 'severe_toxic': 1.9272487152616215e-06,\n",
       " 'obscene': 0.011323038998473341,\n",
       " 'threat': 8.249039905334012e-08,\n",
       " 'insult': 0.008620760536227347,\n",
       " 'identity_hate': 4.703244329372946e-06}"
      ]
     },
     "execution_count": 6,
     "metadata": {},
     "output_type": "execute_result"
    }
   ],
   "source": [
    "model.predict(string,get_proba=True)"
   ]
  },
  {
   "cell_type": "code",
   "execution_count": 7,
   "metadata": {},
   "outputs": [
    {
     "data": {
      "text/plain": [
       "{'toxic': 1,\n",
       " 'severe_toxic': 0,\n",
       " 'obscene': 0,\n",
       " 'threat': 0,\n",
       " 'insult': 1,\n",
       " 'identity_hate': 0}"
      ]
     },
     "execution_count": 7,
     "metadata": {},
     "output_type": "execute_result"
    }
   ],
   "source": [
    "model.predict(another_string)"
   ]
  },
  {
   "cell_type": "code",
   "execution_count": 8,
   "metadata": {},
   "outputs": [
    {
     "data": {
      "text/plain": [
       "{'toxic': 0.97624511869432,\n",
       " 'severe_toxic': 0.0004143925305717536,\n",
       " 'obscene': 0.48936571876841484,\n",
       " 'threat': 5.809081616106756e-06,\n",
       " 'insult': 0.7853970362543069,\n",
       " 'identity_hate': 0.002109806847753244}"
      ]
     },
     "execution_count": 8,
     "metadata": {},
     "output_type": "execute_result"
    }
   ],
   "source": [
    "model.predict(another_string,get_proba=True)"
   ]
  },
  {
   "cell_type": "code",
   "execution_count": 9,
   "metadata": {},
   "outputs": [
    {
     "data": {
      "text/plain": [
       "{'toxic': [0, 1],\n",
       " 'severe_toxic': [0, 0],\n",
       " 'obscene': [0, 0],\n",
       " 'threat': [0, 0],\n",
       " 'insult': [0, 1],\n",
       " 'identity_hate': [0, 0]}"
      ]
     },
     "execution_count": 9,
     "metadata": {},
     "output_type": "execute_result"
    }
   ],
   "source": [
    "model.predict_batch([string,another_string])"
   ]
  },
  {
   "cell_type": "code",
   "execution_count": 10,
   "metadata": {},
   "outputs": [
    {
     "data": {
      "text/plain": [
       "{'toxic': [0.14165235977019472, 0.97624511869432],\n",
       " 'severe_toxic': [1.9272487152616215e-06, 0.0004143925305717536],\n",
       " 'obscene': [0.011323038998473341, 0.48936571876841484],\n",
       " 'threat': [8.249039905334012e-08, 5.809081616106756e-06],\n",
       " 'insult': [0.008620760536227347, 0.7853970362543069],\n",
       " 'identity_hate': [4.703244329372946e-06, 0.002109806847753244]}"
      ]
     },
     "execution_count": 10,
     "metadata": {},
     "output_type": "execute_result"
    }
   ],
   "source": [
    "model.predict_batch([string,another_string],get_proba=True)"
   ]
  },
  {
   "cell_type": "markdown",
   "metadata": {},
   "source": [
    "## Load logistics model"
   ]
  },
  {
   "cell_type": "code",
   "execution_count": 11,
   "metadata": {},
   "outputs": [
    {
     "name": "stdout",
     "output_type": "stream",
     "text": [
      "downloading frozen /Users/huseinzol/Malaya/toxic/logistic model\n"
     ]
    },
    {
     "name": "stderr",
     "output_type": "stream",
     "text": [
      "3.00MB [00:00, 2.99MB/s]                          \n",
      "  0%|          | 0.00/19.3 [00:00<?, ?MB/s]"
     ]
    },
    {
     "name": "stdout",
     "output_type": "stream",
     "text": [
      "downloading frozen /Users/huseinzol/Malaya/toxic/logistic vector\n"
     ]
    },
    {
     "name": "stderr",
     "output_type": "stream",
     "text": [
      "20.0MB [00:06, 4.17MB/s]                          \n"
     ]
    }
   ],
   "source": [
    "model = malaya.toxic.logistic()"
   ]
  },
  {
   "cell_type": "code",
   "execution_count": 12,
   "metadata": {},
   "outputs": [
    {
     "data": {
      "text/plain": [
       "{'toxic': 0,\n",
       " 'severe_toxic': 0,\n",
       " 'obscene': 0,\n",
       " 'threat': 0,\n",
       " 'insult': 0,\n",
       " 'identity_hate': 0}"
      ]
     },
     "execution_count": 12,
     "metadata": {},
     "output_type": "execute_result"
    }
   ],
   "source": [
    "model.predict(string)"
   ]
  },
  {
   "cell_type": "code",
   "execution_count": 13,
   "metadata": {},
   "outputs": [
    {
     "data": {
      "text/plain": [
       "{'toxic': [0.10299208923447233, 0.6297643126911581],\n",
       " 'severe_toxic': [0.010195223990855215, 0.019551370640497476],\n",
       " 'obscene': [0.04834509566263489, 0.1995748012804703],\n",
       " 'threat': [0.003488478318883341, 0.004014463652898358],\n",
       " 'insult': [0.04528784776538583, 0.3354069432946268],\n",
       " 'identity_hate': [0.011326619000125776, 0.052626041879065236]}"
      ]
     },
     "execution_count": 13,
     "metadata": {},
     "output_type": "execute_result"
    }
   ],
   "source": [
    "model.predict_batch([string,another_string],get_proba=True)"
   ]
  },
  {
   "cell_type": "markdown",
   "metadata": {},
   "source": [
    "## List available deep learning models"
   ]
  },
  {
   "cell_type": "code",
   "execution_count": 14,
   "metadata": {},
   "outputs": [
    {
     "data": {
      "text/plain": [
       "['bahdanau', 'hierarchical', 'luong', 'fast-text', 'entity-network']"
      ]
     },
     "execution_count": 14,
     "metadata": {},
     "output_type": "execute_result"
    }
   ],
   "source": [
    "malaya.toxic.available_deep_model()"
   ]
  },
  {
   "cell_type": "markdown",
   "metadata": {},
   "source": [
    "## Load deep learning model"
   ]
  },
  {
   "cell_type": "code",
   "execution_count": 15,
   "metadata": {},
   "outputs": [
    {
     "name": "stderr",
     "output_type": "stream",
     "text": [
      "\r",
      "  0%|          | 0.00/60.7 [00:00<?, ?MB/s]"
     ]
    },
    {
     "name": "stdout",
     "output_type": "stream",
     "text": [
      "downloading frozen /Users/huseinzol/Malaya/toxic/bahdanau model\n"
     ]
    },
    {
     "name": "stderr",
     "output_type": "stream",
     "text": [
      "61.0MB [00:40, 1.02s/MB]                          \n"
     ]
    },
    {
     "name": "stdout",
     "output_type": "stream",
     "text": [
      "downloading frozen /Users/huseinzol/Malaya/toxic/bahdanau setting\n"
     ]
    },
    {
     "name": "stderr",
     "output_type": "stream",
     "text": [
      "2.00MB [00:01, 1.28MB/s]                          \n"
     ]
    },
    {
     "name": "stdout",
     "output_type": "stream",
     "text": [
      "{'toxic': 0.0016742008, 'severe_toxic': 1.7662573e-05, 'obscene': 0.00022085723, 'threat': 2.8091223e-05, 'insult': 0.00012736337, 'identity_hate': 2.3157776e-05, 'attention': [['benda', 0.091448985], ['yg', 0.010792643], ['salah', 0.0094901575], ['ni', 0.030621372], ['jgn', 0.059444103], ['didebatkan', 0.009425078], ['yg', 0.010792643], ['salah', 0.0094901575], ['jadi', 0.0104246065], ['betul', 0.008610405], ['ingat', 0.016614432], ['tu', 0.010084518], ['mcm', 0.0073846644], ['mana', 0.008301517], ['kesat', 0.022555746], ['sekalipun', 0.024207924], ['org', 0.03206277], ['sampaikan', 0.013050129], ['mesej', 0.012118619], ['memang', 0.007917009], ['benda', 0.091448985], ['tu', 0.010084518], ['salah', 0.0094901575], ['diam', 0.00885792], ['je', 0.13976514], ['xyah', 0.059444103], ['nk', 0.0849323], ['tunjuk', 0.006834551], ['kau', 0.011403494], ['sangat', 0.0076839714], ['nk', 0.0849323], ['tegur', 0.016239613], ['cara', 0.013840728], ['org', 0.03206277], ['lain', 0.010591825], ['berdakwah', 0.007550152]]}\n"
     ]
    },
    {
     "name": "stderr",
     "output_type": "stream",
     "text": [
      "\r",
      "  0%|          | 0.00/65.2 [00:00<?, ?MB/s]"
     ]
    },
    {
     "name": "stdout",
     "output_type": "stream",
     "text": [
      "{'toxic': [0.0016551929, 0.8803142], 'severe_toxic': [1.36922545e-05, 0.003729248], 'obscene': [0.00017486684, 0.06859021], 'threat': [1.4183259e-05, 0.00055752473], 'insult': [7.17542e-05, 0.1324517], 'identity_hate': [1.6397036e-05, 0.1142907]} \n",
      "\n",
      "downloading frozen /Users/huseinzol/Malaya/toxic/hierarchical model\n"
     ]
    },
    {
     "name": "stderr",
     "output_type": "stream",
     "text": [
      "66.0MB [00:28, 3.40MB/s]                          \n",
      "  0%|          | 0.00/1.98 [00:00<?, ?MB/s]"
     ]
    },
    {
     "name": "stdout",
     "output_type": "stream",
     "text": [
      "downloading frozen /Users/huseinzol/Malaya/toxic/hierarchical setting\n"
     ]
    },
    {
     "name": "stderr",
     "output_type": "stream",
     "text": [
      "2.00MB [00:00, 3.60MB/s]                          \n"
     ]
    },
    {
     "name": "stdout",
     "output_type": "stream",
     "text": [
      "{'toxic': 0.016313301, 'severe_toxic': 0.00022255233, 'obscene': 0.0042808177, 'threat': 0.0005204327, 'insult': 0.0019180704, 'identity_hate': 0.00081829965, 'attention': [['benda', 0.101997666], ['yg', 0.037477322], ['salah', 0.06909519], ['ni', 0.015138972], ['jgn', 0.017931793], ['didebatkan', 0.005441455], ['yg', 0.014737692], ['salah', 0.009726078], ['jadi', 0.011726628], ['betul', 0.040568814], ['ingat', 0.011717768], ['tu', 0.046530075], ['mcm', 0.0351902], ['mana', 0.011379077], ['kesat', 0.1248077], ['sekalipun', 0.029303], ['org', 0.017944867], ['sampaikan', 0.010932395], ['mesej', 0.011052727], ['memang', 0.02511157], ['benda', 0.06368019], ['tu', 0.020176394], ['salah', 0.06027492], ['diam', 0.04705445], ['je', 0.018319523], ['xyah', 0.050702535], ['nk', 0.06662749], ['tunjuk', 0.017117476], ['kau', 0.0040451945], ['sangat', 0.0017867531], ['nk', 0.00040787706], ['tegur', 0.00022611297], ['cara', 0.00038514007], ['org', 0.00034493007], ['lain', 0.00047185872], ['berdakwah', 0.0005681523]]}\n"
     ]
    },
    {
     "name": "stderr",
     "output_type": "stream",
     "text": [
      "\r",
      "  0%|          | 0.00/60.4 [00:00<?, ?MB/s]"
     ]
    },
    {
     "name": "stdout",
     "output_type": "stream",
     "text": [
      "{'toxic': [0.019022115, 0.7026508], 'severe_toxic': [0.00018498747, 0.002541811], 'obscene': [0.0040143826, 0.04182527], 'threat': [0.00040674658, 0.0038593104], 'insult': [0.0021619846, 0.23215641], 'identity_hate': [0.0008833514, 0.056888826]} \n",
      "\n",
      "downloading frozen /Users/huseinzol/Malaya/toxic/luong model\n"
     ]
    },
    {
     "name": "stderr",
     "output_type": "stream",
     "text": [
      "61.0MB [00:29, 2.90MB/s]                          \n",
      "  0%|          | 0.00/1.98 [00:00<?, ?MB/s]"
     ]
    },
    {
     "name": "stdout",
     "output_type": "stream",
     "text": [
      "downloading frozen /Users/huseinzol/Malaya/toxic/luong setting\n"
     ]
    },
    {
     "name": "stderr",
     "output_type": "stream",
     "text": [
      "2.00MB [00:00, 3.72MB/s]                          \n"
     ]
    },
    {
     "name": "stdout",
     "output_type": "stream",
     "text": [
      "{'toxic': 0.0014804129, 'severe_toxic': 0.00017674293, 'obscene': 0.0008130327, 'threat': 0.00028337093, 'insult': 0.00023613627, 'identity_hate': 0.0007284258, 'attention': [['benda', 0.0014139642], ['yg', 0.0016312348], ['salah', 0.007912597], ['ni', 0.0016698316], ['jgn', 0.001369154], ['didebatkan', 0.0012927211], ['yg', 0.0016312348], ['salah', 0.007912597], ['jadi', 0.0013706309], ['betul', 0.0016492187], ['ingat', 0.0013966222], ['tu', 0.0013238997], ['mcm', 0.001623619], ['mana', 0.0014395164], ['kesat', 0.0076838294], ['sekalipun', 0.013703095], ['org', 0.0030888263], ['sampaikan', 0.0023580098], ['mesej', 0.0012328016], ['memang', 0.0013224662], ['benda', 0.0014139642], ['tu', 0.0013238997], ['salah', 0.007912597], ['diam', 0.0012353956], ['je', 0.0013446732], ['xyah', 0.001369154], ['nk', 0.0032641657], ['tunjuk', 0.0015030154], ['kau', 0.011394377], ['sangat', 0.0017340722], ['nk', 0.0032641657], ['tegur', 0.0034078276], ['cara', 0.8561393], ['org', 0.0030888263], ['lain', 0.0037536188], ['berdakwah', 0.034825023]]}\n",
      "{'toxic': [0.0050339997, 0.97731346], 'severe_toxic': [0.0012615193, 0.015941802], 'obscene': [0.0023579854, 0.25056282], 'threat': [0.0025420662, 0.0076949443], 'insult': [0.00090396986, 0.36417997], 'identity_hate': [0.002062297, 0.11571509]} \n",
      "\n",
      "downloading frozen /Users/huseinzol/Malaya/toxic/fast-text model\n"
     ]
    },
    {
     "name": "stderr",
     "output_type": "stream",
     "text": [
      "258MB [01:52, 2.37MB/s]                          \n"
     ]
    },
    {
     "name": "stdout",
     "output_type": "stream",
     "text": [
      "downloading frozen /Users/huseinzol/Malaya/toxic/fast-text setting\n"
     ]
    },
    {
     "name": "stderr",
     "output_type": "stream",
     "text": [
      "2.00MB [00:00, 3.69MB/s]                          \n"
     ]
    },
    {
     "name": "stdout",
     "output_type": "stream",
     "text": [
      "downloading frozen /Users/huseinzol/Malaya/toxic/fast-text pickle\n"
     ]
    },
    {
     "name": "stderr",
     "output_type": "stream",
     "text": [
      "8.00MB [00:02, 2.97MB/s]                          \n"
     ]
    },
    {
     "name": "stdout",
     "output_type": "stream",
     "text": [
      "{'toxic': 0.0020534173, 'severe_toxic': 0.0050337594, 'obscene': 3.7653503e-05, 'threat': 0.7628687, 'insult': 9.012385e-05, 'identity_hate': 0.22991635}\n",
      "{'toxic': [4.6989637e-08, 0.07565687], 'severe_toxic': [2.8443527e-08, 0.005023106], 'obscene': [4.1618722e-10, 0.0053009894], 'threat': [3.280739e-06, 0.0040464187], 'insult': [7.941728e-10, 0.043121953], 'identity_hate': [8.946894e-07, 0.016103525]} \n",
      "\n",
      "downloading frozen /Users/huseinzol/Malaya/toxic/entity-network model\n"
     ]
    },
    {
     "name": "stderr",
     "output_type": "stream",
     "text": [
      "56.0MB [00:22, 1.92MB/s]                          \n",
      "  0%|          | 0.00/1.98 [00:00<?, ?MB/s]"
     ]
    },
    {
     "name": "stdout",
     "output_type": "stream",
     "text": [
      "downloading frozen /Users/huseinzol/Malaya/toxic/entity-network setting\n"
     ]
    },
    {
     "name": "stderr",
     "output_type": "stream",
     "text": [
      "2.00MB [00:00, 2.25MB/s]                          \n"
     ]
    },
    {
     "name": "stdout",
     "output_type": "stream",
     "text": [
      "{'toxic': 0.501814, 'severe_toxic': 0.03271238, 'obscene': 0.15100613, 'threat': 0.028492289, 'insult': 0.24221319, 'identity_hate': 0.043762065}\n",
      "{'toxic': [0.7704032, 0.23564923], 'severe_toxic': [0.1794783, 0.009002773], 'obscene': [0.50242037, 0.14901799], 'threat': [0.16002978, 0.030735493], 'insult': [0.61826205, 0.12641545], 'identity_hate': [0.2263789, 0.019457512]} \n",
      "\n"
     ]
    }
   ],
   "source": [
    "for model in malaya.toxic.available_deep_model():\n",
    "    deep_model = malaya.toxic.deep_model(model = model)\n",
    "    print(deep_model.predict(string))\n",
    "    print(deep_model.predict_batch([string, another_string]),'\\n')\n",
    "    "
   ]
  },
  {
   "cell_type": "markdown",
   "metadata": {},
   "source": [
    "## Unsupervised important words learning"
   ]
  },
  {
   "cell_type": "code",
   "execution_count": 16,
   "metadata": {},
   "outputs": [],
   "source": [
    "import matplotlib.pyplot as plt\n",
    "import seaborn as sns\n",
    "sns.set() # i just really like seaborn colors"
   ]
  },
  {
   "cell_type": "markdown",
   "metadata": {},
   "source": [
    "#### Visualizing bahdanau model"
   ]
  },
  {
   "cell_type": "code",
   "execution_count": 17,
   "metadata": {},
   "outputs": [
    {
     "data": {
      "image/png": "[encoded data removed]",
      "text/plain": [
       "<Figure size 1080x504 with 1 Axes>"
      ]
     },
     "metadata": {
      "needs_background": "light"
     },
     "output_type": "display_data"
    }
   ],
   "source": [
    "model = malaya.toxic.deep_model('bahdanau')\n",
    "result = model.predict(another_string)['attention']\n",
    "\n",
    "plt.figure(figsize = (15, 7))\n",
    "labels = [r[0] for r in result]\n",
    "val = [r[1] for r in result]\n",
    "aranged = [i for i in range(len(labels))]\n",
    "plt.bar(aranged, val)\n",
    "plt.xticks(aranged, labels, rotation = 'vertical')\n",
    "plt.show()"
   ]
  },
  {
   "cell_type": "markdown",
   "metadata": {},
   "source": [
    "#### Visualizing luong model"
   ]
  },
  {
   "cell_type": "code",
   "execution_count": 18,
   "metadata": {},
   "outputs": [
    {
     "data": {
      "image/png": "[encoded data removed]",
      "text/plain": [
       "<Figure size 1080x504 with 1 Axes>"
      ]
     },
     "metadata": {
      "needs_background": "light"
     },
     "output_type": "display_data"
    }
   ],
   "source": [
    "model = malaya.toxic.deep_model('luong')\n",
    "result = model.predict(another_string)['attention']\n",
    "\n",
    "plt.figure(figsize = (15, 7))\n",
    "labels = [r[0] for r in result]\n",
    "val = [r[1] for r in result]\n",
    "aranged = [i for i in range(len(labels))]\n",
    "plt.bar(aranged, val)\n",
    "plt.xticks(aranged, labels, rotation = 'vertical')\n",
    "plt.show()"
   ]
  },
  {
   "cell_type": "markdown",
   "metadata": {},
   "source": [
    "#### Visualizing hierarchical model"
   ]
  },
  {
   "cell_type": "code",
   "execution_count": 19,
   "metadata": {},
   "outputs": [
    {
     "data": {
      "image/png": "[encoded data removed]",
      "text/plain": [
       "<Figure size 1080x504 with 1 Axes>"
      ]
     },
     "metadata": {
      "needs_background": "light"
     },
     "output_type": "display_data"
    }
   ],
   "source": [
    "model = malaya.toxic.deep_model('hierarchical')\n",
    "result = model.predict(another_string)['attention']\n",
    "\n",
    "plt.figure(figsize = (15, 7))\n",
    "labels = [r[0] for r in result]\n",
    "val = [r[1] for r in result]\n",
    "aranged = [i for i in range(len(labels))]\n",
    "plt.bar(aranged, val)\n",
    "plt.xticks(aranged, labels, rotation = 'vertical')\n",
    "plt.show()"
   ]
  },
  {
   "cell_type": "code",
   "execution_count": null,
   "metadata": {},
   "outputs": [],
   "source": []
  }
 ],
 "metadata": {
  "kernelspec": {
   "display_name": "Python 3",
   "language": "python",
   "name": "python3"
  },
  "language_info": {
   "codemirror_mode": {
    "name": "ipython",
    "version": 3
   },
   "file_extension": ".py",
   "mimetype": "text/x-python",
   "name": "python",
   "nbconvert_exporter": "python",
   "pygments_lexer": "ipython3",
   "version": "3.6.5"
  }
 },
 "nbformat": 4,
 "nbformat_minor": 2
}
