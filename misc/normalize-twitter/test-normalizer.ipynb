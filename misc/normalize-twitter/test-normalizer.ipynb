{
 "cells": [
  {
   "cell_type": "code",
   "execution_count": 1,
   "metadata": {},
   "outputs": [],
   "source": [
    "import logging\n",
    "\n",
    "logging.basicConfig(level=logging.DEBUG)"
   ]
  },
  {
   "cell_type": "code",
   "execution_count": 2,
   "metadata": {},
   "outputs": [],
   "source": [
    "import os\n",
    "\n",
    "os.environ['CUDA_VISIBLE_DEVICES'] = ''"
   ]
  },
  {
   "cell_type": "code",
   "execution_count": 3,
   "metadata": {},
   "outputs": [],
   "source": [
    "import sys\n",
    "\n",
    "SOURCE_DIR = os.path.dirname(os.path.dirname(os.path.dirname(os.path.abspath(__name__))))\n",
    "SOURCE_DIR\n",
    "sys.path.insert(0, SOURCE_DIR)"
   ]
  },
  {
   "cell_type": "code",
   "execution_count": 4,
   "metadata": {},
   "outputs": [
    {
     "name": "stderr",
     "output_type": "stream",
     "text": [
      "DEBUG:tensorflow:Falling back to TensorFlow client; we recommended you install the Cloud TPU client directly with pip install cloud-tpu-client.\n",
      "DEBUG:h5py._conv:Creating converter from 7 to 5\n",
      "DEBUG:h5py._conv:Creating converter from 5 to 7\n",
      "DEBUG:h5py._conv:Creating converter from 7 to 5\n",
      "DEBUG:h5py._conv:Creating converter from 5 to 7\n",
      "DEBUG:git.cmd:Popen(['git', 'version'], cwd=/home/husein/dev/malaya/misc/normalize-twitter, universal_newlines=False, shell=None, istream=None)\n",
      "DEBUG:git.cmd:Popen(['git', 'version'], cwd=/home/husein/dev/malaya/misc/normalize-twitter, universal_newlines=False, shell=None, istream=None)\n"
     ]
    },
    {
     "name": "stdout",
     "output_type": "stream",
     "text": [
      "CPU times: user 3.21 s, sys: 3.53 s, total: 6.74 s\n",
      "Wall time: 2.38 s\n"
     ]
    },
    {
     "data": {
      "text/plain": [
       "<module 'malaya' from '/home/husein/dev/malaya/malaya/__init__.py'>"
      ]
     },
     "execution_count": 4,
     "metadata": {},
     "output_type": "execute_result"
    }
   ],
   "source": [
    "%%time\n",
    "\n",
    "import malaya\n",
    "malaya"
   ]
  },
  {
   "cell_type": "code",
   "execution_count": 5,
   "metadata": {},
   "outputs": [
    {
     "name": "stderr",
     "output_type": "stream",
     "text": [
      "DEBUG:urllib3.connectionpool:Starting new HTTPS connection (1): huggingface.co:443\n",
      "DEBUG:urllib3.connectionpool:https://huggingface.co:443 \"HEAD /huseinzol05/language-model-bahasa-wiki-news/resolve/main/model.klm HTTP/1.1\" 302 0\n"
     ]
    }
   ],
   "source": [
    "lm = malaya.language_model.kenlm(model = 'bahasa-wiki-news')"
   ]
  },
  {
   "cell_type": "code",
   "execution_count": 6,
   "metadata": {},
   "outputs": [
    {
     "name": "stderr",
     "output_type": "stream",
     "text": [
      "DEBUG:urllib3.connectionpool:Starting new HTTPS connection (1): huggingface.co:443\n",
      "DEBUG:urllib3.connectionpool:https://huggingface.co:443 \"HEAD /huseinzol05/stem-v2-lstm-bahdanau-noisy/resolve/main/model.pb HTTP/1.1\" 302 0\n",
      "DEBUG:urllib3.connectionpool:Starting new HTTPS connection (1): huggingface.co:443\n",
      "DEBUG:urllib3.connectionpool:https://huggingface.co:443 \"HEAD /huseinzol05/bpe/resolve/main/stemmer-v2.yttm HTTP/1.1\" 200 0\n",
      "DEBUG:malaya_boilerplate.frozen_graph:use_tensorrt: False\n",
      "DEBUG:malaya_boilerplate.frozen_graph:tensorrt_precision_mode: FP32\n",
      "DEBUG:malaya_boilerplate.frozen_graph:precision_mode: FP32\n",
      "DEBUG:malaya_boilerplate.frozen_graph:t5_graph: False\n",
      "DEBUG:malaya_boilerplate.frozen_graph:glowtts_graph: False\n",
      "DEBUG:malaya_boilerplate.frozen_graph:glowtts_multispeaker_graph: False\n",
      "2022-12-08 01:24:47.404327: I tensorflow/core/platform/cpu_feature_guard.cc:142] This TensorFlow binary is optimized with oneAPI Deep Neural Network Library (oneDNN) to use the following CPU instructions in performance-critical operations:  AVX2 FMA\n",
      "To enable them in other operations, rebuild TensorFlow with the appropriate compiler flags.\n",
      "2022-12-08 01:24:47.409010: E tensorflow/stream_executor/cuda/cuda_driver.cc:271] failed call to cuInit: CUDA_ERROR_NO_DEVICE: no CUDA-capable device is detected\n",
      "2022-12-08 01:24:47.409028: I tensorflow/stream_executor/cuda/cuda_diagnostics.cc:169] retrieving CUDA diagnostic information for host: husein-MS-7D31\n",
      "2022-12-08 01:24:47.409031: I tensorflow/stream_executor/cuda/cuda_diagnostics.cc:176] hostname: husein-MS-7D31\n",
      "2022-12-08 01:24:47.409088: I tensorflow/stream_executor/cuda/cuda_diagnostics.cc:200] libcuda reported version is: Not found: was unable to find libcuda.so DSO loaded into this program\n",
      "2022-12-08 01:24:47.409108: I tensorflow/stream_executor/cuda/cuda_diagnostics.cc:204] kernel reported version is: 470.161.3\n"
     ]
    }
   ],
   "source": [
    "stemmer = malaya.stem.deep_model(model = 'noisy')"
   ]
  },
  {
   "cell_type": "code",
   "execution_count": 7,
   "metadata": {},
   "outputs": [
    {
     "name": "stderr",
     "output_type": "stream",
     "text": [
      "INFO:malaya_boilerplate.huggingface:downloading frozen huseinzol05/v27-preprocessing/bm_1grams.json\n",
      "DEBUG:urllib3.connectionpool:Starting new HTTPS connection (1): huggingface.co:443\n",
      "DEBUG:urllib3.connectionpool:https://huggingface.co:443 \"HEAD /huseinzol05/v27-preprocessing/resolve/main/bm_1grams.json HTTP/1.1\" 200 0\n"
     ]
    }
   ],
   "source": [
    "corrector = malaya.spelling_correction.probability.load(language_model = lm, replace_augmentation = True,\n",
    "                                                       stemmer = stemmer, maxlen = 12, minlen = 2)"
   ]
  },
  {
   "cell_type": "code",
   "execution_count": 8,
   "metadata": {},
   "outputs": [],
   "source": [
    "normalizer = malaya.normalize.normalizer(corrector, stemmer, date = False)"
   ]
  },
  {
   "cell_type": "code",
   "execution_count": 9,
   "metadata": {},
   "outputs": [],
   "source": [
    "# normalizer._tokenizer(t)"
   ]
  },
  {
   "cell_type": "code",
   "execution_count": 10,
   "metadata": {},
   "outputs": [
    {
     "name": "stderr",
     "output_type": "stream",
     "text": [
      "DEBUG:urllib3.connectionpool:Starting new HTTPS connection (1): huggingface.co:443\n",
      "DEBUG:urllib3.connectionpool:https://huggingface.co:443 \"HEAD /mesolitica/finetune-segmentation-t5-tiny-standard-bahasa-cased/resolve/main/tokenizer_config.json HTTP/1.1\" 200 0\n",
      "DEBUG:urllib3.connectionpool:Starting new HTTPS connection (1): huggingface.co:443\n",
      "DEBUG:urllib3.connectionpool:https://huggingface.co:443 \"HEAD /mesolitica/finetune-segmentation-t5-tiny-standard-bahasa-cased/resolve/main/config.json HTTP/1.1\" 200 0\n"
     ]
    }
   ],
   "source": [
    "segmenter = malaya.segmentation.huggingface()\n",
    "segmenter_func = lambda x: segmenter.generate([x], max_length = 256)[0]"
   ]
  },
  {
   "cell_type": "code",
   "execution_count": 11,
   "metadata": {},
   "outputs": [],
   "source": [
    "text_scorer = lambda x: lm.score(x)"
   ]
  },
  {
   "cell_type": "code",
   "execution_count": 12,
   "metadata": {},
   "outputs": [],
   "source": [
    "t = '14:14hrs Kerja penyelenggaraan KM 83.5- KM 84.5 arah Utara dari Ayer Hitam ke Yong Peng. Lorong kiri ditutup. Trafi https://t.co/iP2jEdY4Ib'"
   ]
  },
  {
   "cell_type": "code",
   "execution_count": 13,
   "metadata": {},
   "outputs": [],
   "source": [
    "t = 'Tok aza.....semoga tok aza dapat jaga undang2 mcm mana tok aza jaga dewan masa jd speaker....hara\\npan tgi pada tok aza skrg ni'"
   ]
  },
  {
   "cell_type": "code",
   "execution_count": 14,
   "metadata": {},
   "outputs": [
    {
     "name": "stderr",
     "output_type": "stream",
     "text": [
      "DEBUG:malaya.torch_model.huggingface:generate, initial_text: segmentasi: \n",
      "DEBUG:malaya.torch_model.huggingface:generate, strings: ['Tok aza.....semoga tok aza dapat jaga undang2 mcm mana tok aza jaga dewan masa jd speaker....hara\\npan tgi pada tok aza skrg ni']\n",
      "You're using a T5TokenizerFast tokenizer. Please note that with a fast tokenizer, using the `__call__` method is faster than using a method to encode the text followed by a call to the `pad` method to get a padded encoding.\n"
     ]
    },
    {
     "data": {
      "text/plain": [
       "['Tok aza.....semoga tok aza dapat jaga undang2 mcm mana tok aza jaga dewan masa jd speaker....hara pan tgi pada tok aza skrg ni']"
      ]
     },
     "execution_count": 14,
     "metadata": {},
     "output_type": "execute_result"
    }
   ],
   "source": [
    "segmenter.generate([t], max_length = 512)"
   ]
  },
  {
   "cell_type": "code",
   "execution_count": 15,
   "metadata": {},
   "outputs": [
    {
     "name": "stderr",
     "output_type": "stream",
     "text": [
      "DEBUG:urllib3.connectionpool:Starting new HTTPS connection (1): huggingface.co:443\n",
      "DEBUG:urllib3.connectionpool:https://huggingface.co:443 \"HEAD /mesolitica/finetune-true-case-t5-tiny-standard-bahasa-cased/resolve/main/tokenizer_config.json HTTP/1.1\" 200 0\n",
      "DEBUG:urllib3.connectionpool:Starting new HTTPS connection (1): huggingface.co:443\n",
      "DEBUG:urllib3.connectionpool:https://huggingface.co:443 \"HEAD /mesolitica/finetune-true-case-t5-tiny-standard-bahasa-cased/resolve/main/config.json HTTP/1.1\" 200 0\n"
     ]
    }
   ],
   "source": [
    "true_case = malaya.true_case.huggingface()"
   ]
  },
  {
   "cell_type": "code",
   "execution_count": 28,
   "metadata": {},
   "outputs": [],
   "source": [
    "t = 'Ahmadi Amirul betul2 tpi yg tu dia org tak jumpa fakta kot'"
   ]
  },
  {
   "cell_type": "code",
   "execution_count": 29,
   "metadata": {
    "scrolled": true
   },
   "outputs": [],
   "source": [
    "# t_ = true_case.generate([t], max_length = 512)[0]\n",
    "# t_"
   ]
  },
  {
   "cell_type": "code",
   "execution_count": 30,
   "metadata": {},
   "outputs": [
    {
     "name": "stderr",
     "output_type": "stream",
     "text": [
      "DEBUG:malaya.normalize:before expand_contractions: Ahmadi Amirul betul2 tpi yg tu dia org tak jumpa fakta kot\n",
      "DEBUG:malaya.normalize:after expand_contractions: Ahmadi Amirul betul2 tpi yg tu dia org tak jumpa fakta kot\n",
      "DEBUG:malaya.normalize:tokenized: ['Ahmadi', 'Amirul', 'betul2', 'tpi', 'yg', 'tu', 'dia', 'org', 'tak', 'jumpa', 'fakta', 'kot']\n",
      "DEBUG:malaya.normalize:before normalize_text: Ahmadi Amirul betul2 tpi yg tu dia org tak jumpa fakta kot\n",
      "DEBUG:malaya.normalize:after normalize_text: Ahmadi Amirul betul2 tpi yg tu dia org tak jumpa fakta kot\n",
      "DEBUG:malaya.normalize:index: 0, word: Ahmadi, queue: []\n",
      "DEBUG:malaya.normalize:index: 0, word: Ahmadi, condition not in money and date\n",
      "DEBUG:malaya.normalize:index: 0, word: Ahmadi, condition titled\n",
      "DEBUG:malaya.normalize:index: 1, word: Amirul, queue: ['Ahmadi']\n",
      "DEBUG:malaya.normalize:index: 1, word: Amirul, condition not in money and date\n",
      "DEBUG:malaya.normalize:index: 1, word: Amirul, condition titled\n",
      "DEBUG:malaya.normalize:index: 2, word: betul2, queue: ['Ahmadi', 'Amirul']\n",
      "DEBUG:malaya.normalize:index: 2, word: betul2, condition check english\n",
      "DEBUG:malaya.normalize:index: 2, word: betul2, condition check malay\n",
      "DEBUG:malaya.normalize:index: 2, word: betul2, condition len(word) > 2 and norm text\n",
      "DEBUG:malaya.normalize:index: 2, word: betul2, condition else for (word[0] == `x` and len(word) > 1 and norm text)\n",
      "DEBUG:malaya.normalize:index: 2, word: betul2, condition is number_with_shortform\n",
      "DEBUG:malaya.normalize:index: 3, word: tpi, queue: ['Ahmadi', 'Amirul', 'betul2']\n",
      "DEBUG:malaya.normalize:index: 3, word: tpi, condition check english\n",
      "DEBUG:malaya.normalize:index: 3, word: tpi, condition check malay\n",
      "DEBUG:malaya.normalize:index: 3, word: tpi, condition in early rules normalizer\n",
      "DEBUG:malaya.normalize:index: 4, word: yg, queue: ['Ahmadi', 'Amirul', 'betul2', 'tetapi']\n",
      "DEBUG:malaya.normalize:index: 4, word: yg, condition check english\n",
      "DEBUG:malaya.normalize:index: 4, word: yg, condition check malay\n",
      "DEBUG:malaya.normalize:index: 4, word: yg, condition in early rules normalizer\n",
      "DEBUG:malaya.normalize:index: 5, word: tu, queue: ['Ahmadi', 'Amirul', 'betul2', 'tetapi', 'yang']\n",
      "DEBUG:malaya.normalize:index: 5, word: tu, condition check english\n",
      "DEBUG:malaya.normalize:index: 5, word: tu, condition check malay\n",
      "DEBUG:malaya.normalize:index: 5, word: tu, condition in early rules normalizer\n",
      "DEBUG:malaya.normalize:index: 6, word: dia, queue: ['Ahmadi', 'Amirul', 'betul2', 'tetapi', 'yang', 'itu']\n",
      "DEBUG:malaya.normalize:index: 6, word: dia, condition check english\n",
      "DEBUG:malaya.normalize:index: 6, word: dia, condition check malay\n",
      "DEBUG:malaya.normalize:index: 7, word: org, queue: ['Ahmadi', 'Amirul', 'betul2', 'tetapi', 'yang', 'itu', 'dia']\n",
      "DEBUG:malaya.normalize:index: 7, word: org, condition check english\n",
      "DEBUG:malaya.normalize:index: 7, word: org, condition check malay\n",
      "DEBUG:malaya.normalize:index: 7, word: org, condition in early rules normalizer\n",
      "DEBUG:malaya.normalize:index: 8, word: tak, queue: ['Ahmadi', 'Amirul', 'betul2', 'tetapi', 'yang', 'itu', 'dia', 'orang']\n",
      "DEBUG:malaya.normalize:index: 8, word: tak, condition check english\n",
      "DEBUG:malaya.normalize:index: 8, word: tak, condition check malay\n",
      "DEBUG:malaya.normalize:index: 8, word: tak, condition in early rules normalizer\n",
      "DEBUG:malaya.normalize:index: 9, word: jumpa, queue: ['Ahmadi', 'Amirul', 'betul2', 'tetapi', 'yang', 'itu', 'dia', 'orang', 'tidak']\n",
      "DEBUG:malaya.normalize:index: 9, word: jumpa, condition check english\n",
      "DEBUG:malaya.normalize:index: 9, word: jumpa, condition check malay\n",
      "DEBUG:malaya.normalize:index: 10, word: fakta, queue: ['Ahmadi', 'Amirul', 'betul2', 'tetapi', 'yang', 'itu', 'dia', 'orang', 'tidak', 'jumpa']\n",
      "DEBUG:malaya.normalize:index: 10, word: fakta, condition check english\n",
      "DEBUG:malaya.normalize:index: 10, word: fakta, condition check malay\n",
      "DEBUG:malaya.normalize:index: 11, word: kot, queue: ['Ahmadi', 'Amirul', 'betul2', 'tetapi', 'yang', 'itu', 'dia', 'orang', 'tidak', 'jumpa', 'fakta']\n",
      "DEBUG:malaya.normalize:index: 11, word: kot, condition check english\n",
      "DEBUG:malaya.normalize:index: 11, word: kot, condition check malay\n",
      "DEBUG:malaya.normalize:index: 11, word: kot, condition in early rules normalizer\n",
      "DEBUG:malaya.normalize:past_date_string_: []\n",
      "DEBUG:malaya.normalize:now_date_string_: []\n",
      "DEBUG:malaya.normalize:future_date_string_: []\n",
      "DEBUG:malaya.normalize:yesterday_date_string_: []\n",
      "DEBUG:malaya.normalize:depan_date_string_: []\n",
      "DEBUG:malaya.normalize:today_time_: []\n",
      "DEBUG:malaya.normalize:time_: []\n",
      "DEBUG:malaya.normalize:left_datetime_: []\n",
      "DEBUG:malaya.normalize:right_datetime_: []\n",
      "DEBUG:malaya.normalize:today_left_datetime_: []\n",
      "DEBUG:malaya.normalize:today_right_datetime_: []\n",
      "DEBUG:malaya.normalize:left_yesterdaydatetime_: []\n",
      "DEBUG:malaya.normalize:right_yesterdaydatetime_: []\n",
      "DEBUG:malaya.normalize:left_yesterdaydatetodaytime_: []\n",
      "DEBUG:malaya.normalize:right_yesterdaydatetodaytime_: []\n"
     ]
    },
    {
     "data": {
      "text/plain": [
       "'Ahmadi Amirul betul2 tetapi yang itu dia orang tidak jumpa fakta mungkin'"
      ]
     },
     "execution_count": 30,
     "metadata": {},
     "output_type": "execute_result"
    }
   ],
   "source": [
    "normalized = normalizer.normalize(\n",
    "            t, normalize_hingga = False, normalize_cardinal = False,\n",
    "            normalize_ordinal = False, normalize_pada_hari_bulan = False,\n",
    "            normalize_fraction = False, normalize_money = False, normalize_date = False,\n",
    "            normalize_time = False, normalize_ic = False,\n",
    "            normalize_units = False,\n",
    "            normalize_url = False, normalize_percent=False, normalize_telephone = False,\n",
    "            \n",
    "            not_a_word_threshold = 1e-9, text_scorer_window = 2, lookback=5, normalize_elongated = False\n",
    "        )['normalize']\n",
    "normalized"
   ]
  },
  {
   "cell_type": "raw",
   "metadata": {},
   "source": [
    "segmenter_func('14hrs')"
   ]
  },
  {
   "cell_type": "code",
   "execution_count": 22,
   "metadata": {},
   "outputs": [],
   "source": [
    "from malaya.text.tatabahasa import (\n",
    "    date_replace,\n",
    "    consonants,\n",
    "    sounds,\n",
    "    bulan,\n",
    ")\n",
    "from malaya.text.function import (\n",
    "    is_laugh,\n",
    "    is_mengeluh,\n",
    "    multireplace,\n",
    "    case_of,\n",
    "    PUNCTUATION,\n",
    ")"
   ]
  },
  {
   "cell_type": "code",
   "execution_count": 24,
   "metadata": {},
   "outputs": [
    {
     "data": {
      "text/plain": [
       "'14:14hrs'"
      ]
     },
     "execution_count": 24,
     "metadata": {},
     "output_type": "execute_result"
    }
   ],
   "source": [
    "word = '14:14hrs'\n",
    "word = multireplace(word, date_replace)\n",
    "word"
   ]
  },
  {
   "cell_type": "code",
   "execution_count": 33,
   "metadata": {},
   "outputs": [
    {
     "data": {
      "text/plain": [
       "datetime.datetime(2022, 12, 3, 1, 35, 37, 152859)"
      ]
     },
     "execution_count": 33,
     "metadata": {},
     "output_type": "execute_result"
    }
   ],
   "source": [
    "dateparser.parse('14:14 hours', settings={'TIMEZONE': 'GMT+8'})"
   ]
  },
  {
   "cell_type": "code",
   "execution_count": 19,
   "metadata": {},
   "outputs": [
    {
     "data": {
      "text/plain": [
       "['14:14hrs',\n",
       " 'Kerja',\n",
       " 'penyelenggaraan',\n",
       " 'KM',\n",
       " '83.5',\n",
       " '-',\n",
       " 'KM',\n",
       " '84.5',\n",
       " 'arah',\n",
       " 'Utara',\n",
       " 'dari',\n",
       " 'Ayer',\n",
       " 'Hitam',\n",
       " 'ke',\n",
       " 'Yong',\n",
       " 'Peng',\n",
       " '.',\n",
       " 'Lorong',\n",
       " 'kiri',\n",
       " 'ditutup',\n",
       " '.',\n",
       " 'Trafi',\n",
       " 'https://t.co/iP2jEdY4Ib']"
      ]
     },
     "execution_count": 19,
     "metadata": {},
     "output_type": "execute_result"
    }
   ],
   "source": [
    "normalizer._tokenizer(t)"
   ]
  },
  {
   "cell_type": "code",
   "execution_count": 21,
   "metadata": {},
   "outputs": [
    {
     "data": {
      "text/plain": [
       "'14:14hrs Kerja penyelenggaraan KM 83.5- KM 84.5 arah Utara dari Ayer Hitam ke Yong Peng. Lorong kiri ditutup. Trafi https://t.co/iP2jEdY4Ib'"
      ]
     },
     "execution_count": 21,
     "metadata": {},
     "output_type": "execute_result"
    }
   ],
   "source": [
    "t"
   ]
  },
  {
   "cell_type": "code",
   "execution_count": null,
   "metadata": {},
   "outputs": [],
   "source": []
  }
 ],
 "metadata": {
  "kernelspec": {
   "display_name": "Python 3 (ipykernel)",
   "language": "python",
   "name": "python3"
  },
  "language_info": {
   "codemirror_mode": {
    "name": "ipython",
    "version": 3
   },
   "file_extension": ".py",
   "mimetype": "text/x-python",
   "name": "python",
   "nbconvert_exporter": "python",
   "pygments_lexer": "ipython3",
   "version": "3.8.10"
  }
 },
 "nbformat": 4,
 "nbformat_minor": 4
}
