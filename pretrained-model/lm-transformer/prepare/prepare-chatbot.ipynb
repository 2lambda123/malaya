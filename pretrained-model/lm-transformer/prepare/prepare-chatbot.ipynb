{
 "cells": [
  {
   "cell_type": "code",
   "execution_count": 1,
   "metadata": {},
   "outputs": [],
   "source": [
    "import json"
   ]
  },
  {
   "cell_type": "code",
   "execution_count": 3,
   "metadata": {},
   "outputs": [],
   "source": [
    "# !wget https://f000.backblazeb2.com/file/malay-dataset/chatbot/blended-skill-talk/blended_skill_talk.json.translate"
   ]
  },
  {
   "cell_type": "code",
   "execution_count": 4,
   "metadata": {},
   "outputs": [],
   "source": [
    "import re\n",
    "\n",
    "def cleaning(string):\n",
    "    string = string.replace('\\n', ' ')\n",
    "    string = re.sub(r'[ ]+', ' ', string).strip()\n",
    "    return string"
   ]
  },
  {
   "cell_type": "code",
   "execution_count": 5,
   "metadata": {},
   "outputs": [],
   "source": [
    "with open('blended_skill_talk.json.translate') as fopen:\n",
    "    data = json.load(fopen)\n",
    "\n",
    "before, after = [], []\n",
    "\n",
    "for i in data:\n",
    "    if len(i) != 2:\n",
    "        continue\n",
    "    text = i[1]\n",
    "    splitted = text.split('[EENND]')\n",
    "    if len(splitted) != 2:\n",
    "        continue\n",
    "    l, r = splitted\n",
    "    l = cleaning(l)\n",
    "    r = cleaning(r)\n",
    "    before.append(l)\n",
    "    after.append(r)"
   ]
  },
  {
   "cell_type": "code",
   "execution_count": 6,
   "metadata": {},
   "outputs": [
    {
     "name": "stdout",
     "output_type": "stream",
     "text": [
      "--2020-08-19 18:04:38--  https://f000.backblazeb2.com/file/malay-dataset/chatbot/convai2/convai2-0.json.translate\n",
      "Resolving f000.backblazeb2.com (f000.backblazeb2.com)... 104.153.233.177\n",
      "Connecting to f000.backblazeb2.com (f000.backblazeb2.com)|104.153.233.177|:443... connected.\n",
      "HTTP request sent, awaiting response... 200 \n",
      "Length: 94303708 (90M) [application/octet-stream]\n",
      "Saving to: ‘convai2-0.json.translate’\n",
      "\n",
      "convai2-0.json.tran 100%[===================>]  89.93M  12.6MB/s    in 8.0s    \n",
      "\n",
      "2020-08-19 18:04:47 (11.2 MB/s) - ‘convai2-0.json.translate’ saved [94303708/94303708]\n",
      "\n",
      "--2020-08-19 18:04:48--  https://f000.backblazeb2.com/file/malay-dataset/chatbot/convai2/convai2-100000.json.translate\n",
      "Resolving f000.backblazeb2.com (f000.backblazeb2.com)... 104.153.233.177\n",
      "Connecting to f000.backblazeb2.com (f000.backblazeb2.com)|104.153.233.177|:443... connected.\n",
      "HTTP request sent, awaiting response... 200 \n",
      "Length: 36996786 (35M) [application/octet-stream]\n",
      "Saving to: ‘convai2-100000.json.translate’\n",
      "\n",
      "convai2-100000.json 100%[===================>]  35.28M  9.93MB/s    in 3.6s    \n",
      "\n",
      "2020-08-19 18:04:53 (9.93 MB/s) - ‘convai2-100000.json.translate’ saved [36996786/36996786]\n",
      "\n"
     ]
    }
   ],
   "source": [
    "!wget https://f000.backblazeb2.com/file/malay-dataset/chatbot/convai2/convai2-0.json.translate\n",
    "!wget https://f000.backblazeb2.com/file/malay-dataset/chatbot/convai2/convai2-100000.json.translate"
   ]
  },
  {
   "cell_type": "code",
   "execution_count": 7,
   "metadata": {},
   "outputs": [
    {
     "data": {
      "text/plain": [
       "(31877, 31877)"
      ]
     },
     "execution_count": 7,
     "metadata": {},
     "output_type": "execute_result"
    }
   ],
   "source": [
    "len(before), len(after)"
   ]
  },
  {
   "cell_type": "code",
   "execution_count": 8,
   "metadata": {},
   "outputs": [],
   "source": [
    "with open('convai2-0.json.translate') as fopen:\n",
    "    data = json.load(fopen)\n",
    "\n",
    "for i in data:\n",
    "    if len(i) != 2:\n",
    "        continue\n",
    "    text = i[1]\n",
    "    splitted = text.split('[EENND]')\n",
    "    if len(splitted) == 3:\n",
    "        splitted = splitted[1:]\n",
    "    if len(splitted) != 2:\n",
    "        continue\n",
    "    l, r = splitted\n",
    "    l = cleaning(l)\n",
    "    r = cleaning(r)\n",
    "    before.append(l)\n",
    "    after.append(r)"
   ]
  },
  {
   "cell_type": "code",
   "execution_count": 9,
   "metadata": {},
   "outputs": [],
   "source": [
    "with open('convai2-100000.json.translate') as fopen:\n",
    "    data = json.load(fopen)\n",
    "\n",
    "for i in data:\n",
    "    if len(i) != 2:\n",
    "        continue\n",
    "    text = i[1]\n",
    "    splitted = text.split('[EENND]')\n",
    "    if len(splitted) == 3:\n",
    "        splitted = splitted[1:]\n",
    "    if len(splitted) != 2:\n",
    "        continue\n",
    "    l, r = splitted\n",
    "    l = cleaning(l)\n",
    "    r = cleaning(r)\n",
    "    before.append(l)\n",
    "    after.append(r)"
   ]
  },
  {
   "cell_type": "code",
   "execution_count": 10,
   "metadata": {},
   "outputs": [
    {
     "data": {
      "text/plain": [
       "(142685, 142685)"
      ]
     },
     "execution_count": 10,
     "metadata": {},
     "output_type": "execute_result"
    }
   ],
   "source": [
    "len(before), len(after)"
   ]
  },
  {
   "cell_type": "code",
   "execution_count": 11,
   "metadata": {
    "scrolled": true
   },
   "outputs": [
    {
     "data": {
      "text/plain": [
       "[('Hai apa khabar?', 'Saya hebat pada malam musim gugur ini'),\n",
       " ('Adakah itu orang yang anda harapkan.',\n",
       "  'Ya, dia yang terbaik. Adakah anda fikir begitu?'),\n",
       " ('Adakah anda suka sukan? Saya suka tenis dan bermain untuk hidup.',\n",
       "  'Sukan tidak baik tetapi saya suka pertunjukan memasak dan memasak'),\n",
       " ('Pergi ke kedai kopi.',\n",
       "  'Saya kadang-kadang memainkan lagu-lagu rakyat di kedai kopi. Ia adalah baik.'),\n",
       " ('Suami saya seorang doktor jadi saya memasak makanan dan membekukannya.',\n",
       "  'Itu adalah idea hebat yang saya lajang, jadi saya cukup untuk satu sahaja'),\n",
       " ('Nikmati bersendirian, kami membesarkan keluarga kami sehingga masa lapang tidak lama.',\n",
       "  'Tetapi sukar kerana saya vegan dan rakan-rakan saya tidak'),\n",
       " ('Tiga dan satu dalam perjalanan. Anjing itu seperti kanak-kanak juga.',\n",
       "  'Saya suka anjing mahukan anjing yang serak tetapi belum dapat memilikinya'),\n",
       " ('Adakah anda selalu pergi minum kopi.',\n",
       "  'Setiap pagi sebelum saya pergi ke petugas kebersihan. Ia sukar.'),\n",
       " ('Saya suka dia sedikit.', 'Apa lagi yang anda mahu lakukan?'),\n",
       " ('Dengan keluarga besar kita memerlukan bilik, ditambah dengan anjing.',\n",
       "  'Berapa banyak anak yang anda ada')]"
      ]
     },
     "execution_count": 11,
     "metadata": {},
     "output_type": "execute_result"
    }
   ],
   "source": [
    "list(zip(before[-10:], after[-10:]))"
   ]
  },
  {
   "cell_type": "code",
   "execution_count": 12,
   "metadata": {},
   "outputs": [
    {
     "name": "stdout",
     "output_type": "stream",
     "text": [
      "--2020-08-19 18:04:57--  https://f000.backblazeb2.com/file/malay-dataset/wiki-wizard/informations-0.json.translate\n",
      "Resolving f000.backblazeb2.com (f000.backblazeb2.com)... 104.153.233.177\n",
      "Connecting to f000.backblazeb2.com (f000.backblazeb2.com)|104.153.233.177|:443... connected.\n",
      "HTTP request sent, awaiting response... 200 \n",
      "Length: 64296661 (61M) [application/octet-stream]\n",
      "Saving to: ‘informations-0.json.translate’\n",
      "\n",
      "informations-0.json 100%[===================>]  61.32M  11.3MB/s    in 6.3s    \n",
      "\n",
      "2020-08-19 18:05:04 (9.72 MB/s) - ‘informations-0.json.translate’ saved [64296661/64296661]\n",
      "\n",
      "--2020-08-19 18:05:05--  https://f000.backblazeb2.com/file/malay-dataset/wiki-wizard/informations-100000.json.translate\n",
      "Resolving f000.backblazeb2.com (f000.backblazeb2.com)... 104.153.233.177\n",
      "Connecting to f000.backblazeb2.com (f000.backblazeb2.com)|104.153.233.177|:443... connected.\n",
      "HTTP request sent, awaiting response... 200 \n",
      "Length: 64347675 (61M) [application/octet-stream]\n",
      "Saving to: ‘informations-100000.json.translate’\n",
      "\n",
      "informations-100000 100%[===================>]  61.37M  13.2MB/s    in 5.9s    \n",
      "\n",
      "2020-08-19 18:05:13 (10.4 MB/s) - ‘informations-100000.json.translate’ saved [64347675/64347675]\n",
      "\n",
      "--2020-08-19 18:05:13--  https://f000.backblazeb2.com/file/malay-dataset/wiki-wizard/informations-200000.json.translate\n",
      "Resolving f000.backblazeb2.com (f000.backblazeb2.com)... 104.153.233.177\n",
      "Connecting to f000.backblazeb2.com (f000.backblazeb2.com)|104.153.233.177|:443... connected.\n",
      "HTTP request sent, awaiting response... 200 \n",
      "Length: 6681949 (6.4M) [application/octet-stream]\n",
      "Saving to: ‘informations-200000.json.translate’\n",
      "\n",
      "informations-200000 100%[===================>]   6.37M  4.01MB/s    in 1.6s    \n",
      "\n",
      "2020-08-19 18:05:16 (4.01 MB/s) - ‘informations-200000.json.translate’ saved [6681949/6681949]\n",
      "\n"
     ]
    }
   ],
   "source": [
    "!wget https://f000.backblazeb2.com/file/malay-dataset/wiki-wizard/informations-0.json.translate\n",
    "!wget https://f000.backblazeb2.com/file/malay-dataset/wiki-wizard/informations-100000.json.translate\n",
    "!wget https://f000.backblazeb2.com/file/malay-dataset/wiki-wizard/informations-200000.json.translate"
   ]
  },
  {
   "cell_type": "code",
   "execution_count": 13,
   "metadata": {},
   "outputs": [
    {
     "name": "stdout",
     "output_type": "stream",
     "text": [
      "informations-100000.json.translate\n",
      "informations-200000.json.translate\n",
      "informations-0.json.translate\n"
     ]
    }
   ],
   "source": [
    "from glob import glob\n",
    "\n",
    "files = glob('informations-*.json.translate')\n",
    "\n",
    "for file in files:\n",
    "    print(file)\n",
    "    with open(file) as fopen:\n",
    "        data = json.load(fopen)\n",
    "        \n",
    "    for i in data:\n",
    "        if len(i) != 2:\n",
    "            continue\n",
    "        splitted = i[1].split('[EENND]')\n",
    "        if len(splitted) != 3:\n",
    "            continue\n",
    "        l, r = splitted[1:]\n",
    "        l = cleaning(l)\n",
    "        r = cleaning(r)\n",
    "        before.append(l)\n",
    "        after.append(r)"
   ]
  },
  {
   "cell_type": "code",
   "execution_count": 14,
   "metadata": {},
   "outputs": [
    {
     "data": {
      "text/plain": [
       "[('saya dibesarkan di nevada.',\n",
       "  'Nevada adalah yang ke-7 yang paling luas, yang ke-34 paling ramai, tetapi yang ke-9 paling padat penduduknya dari 50 Amerika Syarikat.'),\n",
       " ('saya dibesarkan di nevada.',\n",
       "  'Nevada secara rasmi dikenali sebagai \"Negeri Perak\" kerana pentingnya perak untuk sejarah dan ekonominya.'),\n",
       " ('saya dibesarkan di nevada.',\n",
       "  'Kawasan di selatan Lembangan Besar terletak di Gurun Mojave, sementara Tasik Tahoe dan Sierra Nevada terletak di pinggir barat.'),\n",
       " ('saya dibesarkan di nevada.',\n",
       "  'Nevada bersempadan dengan Oregon di barat laut, Idaho di timur laut, California di sebelah barat, Arizona di tenggara dan Utah di sebelah timur.'),\n",
       " ('nama saya john dan saya tinggal di dallas, tx.',\n",
       "  'Ia adalah bandar paling padat penduduk di Dallas – Fort Worth metroplex, yang merupakan kawasan metropolitan paling ramai keempat di Amerika Syarikat.'),\n",
       " ('saya dibesarkan di nevada.', 'Ibu kota Nevada adalah Carson City.'),\n",
       " ('saya dibesarkan di nevada.',\n",
       "  'Kira-kira 86% tanah negeri diuruskan oleh pelbagai bidang kuasa kerajaan persekutuan A.S., baik awam dan tentera.'),\n",
       " ('saya dibesarkan di nevada.',\n",
       "  'Nevada sebahagian besarnya adalah padang pasir dan separa gersang, kebanyakannya terdapat di dalam Great Basin.'),\n",
       " ('nama saya john dan saya tinggal di dallas, tx.',\n",
       "  'Penduduk bandar ini berada di kedudukan kesembilan di A.S. dan ketiga di Texas selepas Houston dan San Antonio.'),\n",
       " ('nama saya john dan saya tinggal di dallas, tx.',\n",
       "  'Dallas () adalah sebuah bandar di negeri A.S. Texas.')]"
      ]
     },
     "execution_count": 14,
     "metadata": {},
     "output_type": "execute_result"
    }
   ],
   "source": [
    "list(zip(before[-10:], after[-10:]))"
   ]
  },
  {
   "cell_type": "code",
   "execution_count": 15,
   "metadata": {},
   "outputs": [],
   "source": [
    "import json\n",
    "import tensorflow as tf\n",
    "import itertools\n",
    "\n",
    "filename = 'chatbot.tsv'\n",
    "with tf.io.gfile.GFile(filename, 'w') as outfile:\n",
    "        \n",
    "    for i in range(len(before)):\n",
    "        outfile.write('%s\\t%s\\n' % (before[i], after[i]))"
   ]
  },
  {
   "cell_type": "code",
   "execution_count": 16,
   "metadata": {},
   "outputs": [
    {
     "data": {
      "text/plain": [
       "True"
      ]
     },
     "execution_count": 16,
     "metadata": {},
     "output_type": "execute_result"
    }
   ],
   "source": [
    "import tensorflow as tf\n",
    "import tensorflow_datasets as tfds\n",
    "from t5.data import preprocessors as prep\n",
    "import functools\n",
    "import t5\n",
    "import gin\n",
    "import sentencepiece as spm\n",
    "from glob import glob\n",
    "import os\n",
    "\n",
    "gin.parse_config_file('pretrained_models_base_operative_config.gin')\n",
    "vocab = 'sp10m.cased.t5.model'\n",
    "sp = spm.SentencePieceProcessor()\n",
    "sp.Load(vocab)"
   ]
  },
  {
   "cell_type": "code",
   "execution_count": 17,
   "metadata": {},
   "outputs": [
    {
     "name": "stderr",
     "output_type": "stream",
     "text": [
      "/home/husein/.local/lib/python3.6/site-packages/t5/models/mesh_transformer.py:210: UserWarning: get_sentencepiece_model_path is deprecated. Please pass the mixture or task vocabulary directly to the Mesh TensorFlow Transformer instead.\n",
      "  \"get_sentencepiece_model_path is deprecated. Please pass the mixture or \"\n"
     ]
    }
   ],
   "source": [
    "def chatbot_dataset(split, shuffle_files = False):\n",
    "    del shuffle_files\n",
    "    ds = tf.data.TextLineDataset(\n",
    "        ['chatbot.tsv']\n",
    "    )\n",
    "\n",
    "    ds = ds.map(\n",
    "        functools.partial(\n",
    "            tf.io.decode_csv,\n",
    "            record_defaults = ['', ''],\n",
    "            field_delim = '\\t',\n",
    "            use_quote_delim = False,\n",
    "        ),\n",
    "        num_parallel_calls = tf.data.experimental.AUTOTUNE,\n",
    "    )\n",
    "    ds = ds.map(lambda *ex: dict(zip(['question', 'answer'], ex)))\n",
    "    return ds\n",
    "\n",
    "def chatbot_preprocessor(ds):\n",
    "    def to_inputs_and_targets(ex):\n",
    "        return {\n",
    "            'inputs': tf.strings.join(['chatbot: ', ex['question']]),\n",
    "            'targets': ex['answer'],\n",
    "        }\n",
    "\n",
    "    return ds.map(\n",
    "        to_inputs_and_targets,\n",
    "        num_parallel_calls = tf.data.experimental.AUTOTUNE,\n",
    "    )\n",
    "\n",
    "\n",
    "t5.data.TaskRegistry.remove('chatbot_dataset')\n",
    "t5.data.TaskRegistry.add(\n",
    "    'chatbot_dataset',\n",
    "    dataset_fn = chatbot_dataset,\n",
    "    splits = ['train'],\n",
    "    text_preprocessor = [chatbot_preprocessor],\n",
    "    sentencepiece_model_path = vocab,\n",
    "    metric_fns = [t5.evaluation.metrics.accuracy],\n",
    ")"
   ]
  },
  {
   "cell_type": "code",
   "execution_count": 18,
   "metadata": {},
   "outputs": [
    {
     "name": "stderr",
     "output_type": "stream",
     "text": [
      "325598it [03:17, 1645.91it/s]\n"
     ]
    }
   ],
   "source": [
    "from tqdm import tqdm\n",
    "\n",
    "nq_task = t5.data.TaskRegistry.get(\"chatbot_dataset\")\n",
    "ds = nq_task.get_dataset(split='qa.tsv', sequence_length={\"inputs\": 768, \"targets\": 768})\n",
    "\n",
    "batch_size, index, part = 50000, 0, 0\n",
    "fopen = open(f'chatbot-{part}.parse', 'w')\n",
    "for ex in tqdm(tfds.as_numpy(ds)):\n",
    "    i = sp.DecodeIds(ex['inputs'].tolist())\n",
    "    t = sp.DecodeIds(ex['targets'].tolist())\n",
    "    text = f'{i} [[EENNDD]] {t}\\n'\n",
    "    fopen.write(text)\n",
    "    \n",
    "    if index == batch_size:\n",
    "        fopen.close()\n",
    "        part += 1\n",
    "        index = 0\n",
    "        fopen = open(f'chatbot-{part}.parse', 'w')\n",
    "    \n",
    "    index += 1\n",
    "    \n",
    "fopen.close()"
   ]
  },
  {
   "cell_type": "code",
   "execution_count": null,
   "metadata": {},
   "outputs": [],
   "source": []
  }
 ],
 "metadata": {
  "kernelspec": {
   "display_name": "Python 3",
   "language": "python",
   "name": "python3"
  },
  "language_info": {
   "codemirror_mode": {
    "name": "ipython",
    "version": 3
   },
   "file_extension": ".py",
   "mimetype": "text/x-python",
   "name": "python",
   "nbconvert_exporter": "python",
   "pygments_lexer": "ipython3",
   "version": "3.6.8"
  }
 },
 "nbformat": 4,
 "nbformat_minor": 2
}
