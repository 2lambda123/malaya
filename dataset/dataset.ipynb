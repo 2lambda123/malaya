{
 "cells": [
  {
   "cell_type": "markdown",
   "metadata": {},
   "source": [
    "We want to make sure not just the code we open-sourced, but also goes to dataset, so everyone can validate.\n",
    "\n",
    "You can check in [Malaya-Dataset](https://github.com/huseinzol05/Malaya-Dataset) for our open dataset."
   ]
  },
  {
   "cell_type": "markdown",
   "metadata": {},
   "source": [
    "## [Article](https://github.com/huseinzol05/Malaya-Dataset/blob/master/articles)\n",
    "\n",
    "Total size: 3.1 MB\n",
    "\n",
    "1. Filem\n",
    "2. Kerajaan\n",
    "3. Pembelajaran\n",
    "4. Pendidikan\n",
    "5. Sekolah"
   ]
  },
  {
   "cell_type": "markdown",
   "metadata": {},
   "source": [
    "## [Dependency](https://github.com/huseinzol05/Malaya-Dataset/blob/master/dependency)"
   ]
  },
  {
   "cell_type": "markdown",
   "metadata": {},
   "source": [
    "## [Dictionary, 24550 unique words](https://github.com/huseinzol05/Malaya-Dataset/blob/master/dictionary)"
   ]
  },
  {
   "cell_type": "markdown",
   "metadata": {},
   "source": [
    "## [Emotion](https://github.com/huseinzol05/Malaya-Dataset/blob/master/emotion)\n",
    "\n",
    "Total size: 8.5 MB\n",
    "\n",
    "1. Anger\n",
    "2. Fear\n",
    "3. Joy\n",
    "4. Love\n",
    "5. Sadness\n",
    "6. Surprise"
   ]
  },
  {
   "cell_type": "markdown",
   "metadata": {},
   "source": [
    "## [Gender](https://github.com/huseinzol05/Malaya-Dataset/blob/master/gender)\n",
    "\n",
    "1. Unknown\n",
    "2. Male\n",
    "3. Female\n",
    "4. Brand"
   ]
  },
  {
   "cell_type": "markdown",
   "metadata": {},
   "source": [
    "## [Irony](https://github.com/huseinzol05/Malaya-Dataset/blob/master/irony)\n",
    "\n",
    "Total size: 100 KB\n",
    "\n",
    "1. Positive\n",
    "2. Negative"
   ]
  },
  {
   "cell_type": "markdown",
   "metadata": {},
   "source": [
    "## [Entities, JSON](https://github.com/huseinzol05/Malaya-Dataset/blob/master/entities)\n",
    "\n",
    "Total size: 1.1 MB\n",
    "\n",
    "1. OTHER - Other\n",
    "2. law - law, regulation, related law documents, documents, etc\n",
    "3. location - location, place\n",
    "4. organization - organization, company, government, facilities, etc\n",
    "5. person - person, group of people, believes, etc\n",
    "6. quantity - numbers, quantity\n",
    "7. time - date, day, time, etc\n",
    "8. event - unique event happened, etc"
   ]
  },
  {
   "cell_type": "markdown",
   "metadata": {},
   "source": [
    "## [Karangan sekolah](https://github.com/huseinzol05/Malaya-Dataset/blob/master/karangan-sekolah)\n",
    "\n",
    "Total size: 221 KB"
   ]
  },
  {
   "cell_type": "markdown",
   "metadata": {},
   "source": [
    "## [Language-detection, Wikipedia](https://github.com/huseinzol05/Malaya-Dataset/blob/master/language-detection)"
   ]
  },
  {
   "cell_type": "markdown",
   "metadata": {},
   "source": [
    "## [News, crawled](https://github.com/huseinzol05/Malaya-Dataset/blob/master/news)\n",
    "\n",
    "Total size: 28.9 MB\n",
    "\n",
    "<details><summary>Complete list (51 news)</summary>\n",
    "\n",
    "1. Cuti sekolah\n",
    "2. isu 1MDB\n",
    "3. isu agama\n",
    "4. isu agong\n",
    "5. isu agrikultur\n",
    "6. isu air\n",
    "7. isu anwar ibrahim\n",
    "8. isu artis\n",
    "9. isu astro\n",
    "10. isu bahasa melayu\n",
    "11. isu barisan nasional\n",
    "12. isu cikgu\n",
    "13. isu cukai\n",
    "14. isu cyberjaya\n",
    "15. isu dunia\n",
    "16. isu ekonomi\n",
    "17. isu gst\n",
    "18. isu harakah\n",
    "19. isu harga\n",
    "20. isu icerd\n",
    "21. isu imigren\n",
    "22. isu kapitalis\n",
    "23. isu kerajaan\n",
    "24. isu kesihatan\n",
    "25. isu kuala lumpur\n",
    "26. isu lgbt\n",
    "27. isu mahathir\n",
    "28. isu makanan\n",
    "29. isu malaysia airlines\n",
    "30. isu malaysia\n",
    "31. isu minyak\n",
    "32. isu isu najib razak\n",
    "33. isu pelajar\n",
    "34. isu pelakon\n",
    "35. isu pembangkang\n",
    "36. isu perkauman\n",
    "37. isu permainan\n",
    "38. isu pertanian\n",
    "39. isu politik\n",
    "40. isu rosmah\n",
    "41. isu sabah\n",
    "42. isu sarawak\n",
    "43. isu sosial media\n",
    "44. isu sultan melayu\n",
    "45. isu teknologi\n",
    "46. isu TM\n",
    "47. isu ubat\n",
    "48. isu universiti\n",
    "49. isu wan azizah\n",
    "50. peluang pekerjaan\n",
    "51. perkahwinan\n",
    "\n",
    "</details>"
   ]
  },
  {
   "cell_type": "markdown",
   "metadata": {},
   "source": [
    "## [Sentiment News](https://github.com/huseinzol05/Malaya-Dataset/blob/master/news-sentiment)\n",
    "\n",
    "Total size: 496 KB\n",
    "\n",
    "1. Positive\n",
    "2. Negative"
   ]
  },
  {
   "cell_type": "markdown",
   "metadata": {},
   "source": [
    "## [Sentiment Twitter](https://github.com/huseinzol05/Malaya-Dataset/blob/master/twitter-sentiment)\n",
    "\n",
    "Total size: 27.4 MB\n",
    "\n",
    "1. Positive\n",
    "2. Negative"
   ]
  },
  {
   "cell_type": "markdown",
   "metadata": {},
   "source": [
    "## [Sentiment Multidomain](https://github.com/huseinzol05/Malaya-Dataset/blob/master/multidomain-sentiment)\n",
    "\n",
    "159 KB\n",
    "\n",
    "1. Amazon review, Positive and Negative\n",
    "2. IMDB review, Positive and Negative\n",
    "3. Yelp review, Positive and Negative"
   ]
  },
  {
   "cell_type": "markdown",
   "metadata": {},
   "source": [
    "## [Part-of-Speech](https://github.com/huseinzol05/Malaya-Dataset/blob/master/part-of-speech)\n",
    "\n",
    "Total size: 3.1 MB\n",
    "\n",
    "1. ADJ - Adjective, kata sifat\n",
    "2. ADP - Adposition\n",
    "3. ADV - Adverb, kata keterangan\n",
    "4. ADX - Auxiliary verb, kata kerja tambahan\n",
    "5. CCONJ - Coordinating conjuction, kata hubung\n",
    "6. DET - Determiner, kata penentu\n",
    "7. NOUN - Noun, kata nama\n",
    "8. NUM - Number, nombor\n",
    "9. PART - Particle\n",
    "10. PRON - Pronoun, kata ganti\n",
    "11. PROPN - Proper noun, kata ganti nama khas\n",
    "12. SCONJ - Subordinating conjunction\n",
    "13. SYM - Symbol\n",
    "14. VERB - Verb, kata kerja\n",
    "15. X - Other"
   ]
  },
  {
   "cell_type": "markdown",
   "metadata": {},
   "source": [
    "## [Polarity](https://github.com/huseinzol05/Malaya-Dataset/blob/master/polarity)\n",
    "\n",
    "Total size: 1.3 MB\n",
    "\n",
    "1. Positive\n",
    "2. Negative"
   ]
  },
  {
   "cell_type": "markdown",
   "metadata": {},
   "source": [
    "## [Political landscape](https://github.com/huseinzol05/Malaya-Dataset/blob/master/political-landscape)\n",
    "\n",
    "Total size: 2 MB\n",
    "\n",
    "1. Kerajaan\n",
    "2. Pembangkang"
   ]
  },
  {
   "cell_type": "markdown",
   "metadata": {},
   "source": [
    "## [Sarcastic news-headline](https://github.com/huseinzol05/Malaya-Dataset/blob/master/sarcastic-news-headline)\n",
    "\n",
    "1. Positive\n",
    "2. Negative"
   ]
  },
  {
   "cell_type": "markdown",
   "metadata": {},
   "source": [
    "## [Stemmer](https://github.com/huseinzol05/Malaya-Dataset/blob/master/stemmer)\n",
    "\n",
    "Total size: 6.5 MB\n",
    "\n",
    "1. News stemming\n",
    "2. Wikipedia stemming"
   ]
  },
  {
   "cell_type": "markdown",
   "metadata": {},
   "source": [
    "## [Subjectivity](https://github.com/huseinzol05/Malaya-Dataset/blob/master/subjectivity)\n",
    "\n",
    "Total size: 1.4 MB\n",
    "\n",
    "1. Positive\n",
    "2. Negative"
   ]
  },
  {
   "cell_type": "markdown",
   "metadata": {},
   "source": [
    "## [Subtitle](https://github.com/huseinzol05/Malaya-Dataset/blob/master/subtitle)\n",
    "\n",
    "Total size: 1.5 MB"
   ]
  },
  {
   "cell_type": "markdown",
   "metadata": {},
   "source": [
    "## Suggestion\n",
    "\n",
    "1. Always apply text augmentation, like swapping based words using synonyms or thesaurus. I still waiting respond from third-party to open source Bahasa thesaurus."
   ]
  },
  {
   "cell_type": "markdown",
   "metadata": {},
   "source": [
    "## Citation\n",
    "\n",
    "1. Please citate the repository if use these corpus.\n",
    "2. Please at least email us first before distributing these data. Remember all these hard workings we want to give it for free.\n",
    "3. What do you see just the data, but nobody can see how much we spent our cost to make it public."
   ]
  },
  {
   "cell_type": "markdown",
   "metadata": {},
   "source": [
    "## Donation\n",
    "\n",
    "1. We want to make sure downloaders got the best bandwidth and top speed, we host everything on S3, **please consider a donation** to prevent top-speed shutdown or broken link!\n",
    "2. **Husein** really need money to stay survive, he is still a human. **7053174643, CIMB Click, Husein Zolkepli**"
   ]
  },
  {
   "cell_type": "code",
   "execution_count": null,
   "metadata": {},
   "outputs": [],
   "source": []
  }
 ],
 "metadata": {
  "kernelspec": {
   "display_name": "Python 3",
   "language": "python",
   "name": "python3"
  },
  "language_info": {
   "codemirror_mode": {
    "name": "ipython",
    "version": 3
   },
   "file_extension": ".py",
   "mimetype": "text/x-python",
   "name": "python",
   "nbconvert_exporter": "python",
   "pygments_lexer": "ipython3",
   "version": "3.6.5"
  }
 },
 "nbformat": 4,
 "nbformat_minor": 2
}
