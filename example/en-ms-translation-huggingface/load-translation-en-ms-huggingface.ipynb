{
 "cells": [
  {
   "cell_type": "markdown",
   "metadata": {},
   "source": [
    "# EN to MS HuggingFace"
   ]
  },
  {
   "cell_type": "markdown",
   "metadata": {},
   "source": [
    "<div class=\"alert alert-info\">\n",
    "\n",
    "This tutorial is available as an IPython notebook at [Malaya/example/en-ms-translation-huggingface](https://github.com/huseinzol05/Malaya/tree/master/example/en-ms-translation-huggingface).\n",
    "    \n",
    "</div>"
   ]
  },
  {
   "cell_type": "markdown",
   "metadata": {},
   "source": [
    "<div class=\"alert alert-warning\">\n",
    "\n",
    "This module trained on standard language and augmented local language structures, proceed with caution.\n",
    "    \n",
    "</div>"
   ]
  },
  {
   "cell_type": "code",
   "execution_count": 1,
   "metadata": {},
   "outputs": [],
   "source": [
    "import os\n",
    "\n",
    "os.environ['CUDA_VISIBLE_DEVICES'] = ''"
   ]
  },
  {
   "cell_type": "code",
   "execution_count": 2,
   "metadata": {},
   "outputs": [
    {
     "name": "stdout",
     "output_type": "stream",
     "text": [
      "CPU times: user 3.16 s, sys: 3.76 s, total: 6.93 s\n",
      "Wall time: 2.3 s\n"
     ]
    }
   ],
   "source": [
    "%%time\n",
    "\n",
    "import malaya\n",
    "import logging\n",
    "\n",
    "logging.basicConfig(level=logging.INFO)"
   ]
  },
  {
   "cell_type": "markdown",
   "metadata": {},
   "source": [
    "### List available HuggingFace models"
   ]
  },
  {
   "cell_type": "code",
   "execution_count": 3,
   "metadata": {
    "scrolled": true
   },
   "outputs": [
    {
     "name": "stderr",
     "output_type": "stream",
     "text": [
      "INFO:malaya.translation.en_ms:tested on FLORES200 EN-MS (eng_Latn-zsm_Latn) pair `dev` set, https://github.com/facebookresearch/flores/tree/main/flores200\n",
      "INFO:malaya.translation.en_ms:for noisy, tested on noisy twitter google translation, https://huggingface.co/datasets/mesolitica/augmentation-test-set\n"
     ]
    },
    {
     "data": {
      "text/html": [
       "<div>\n",
       "<style scoped>\n",
       "    .dataframe tbody tr th:only-of-type {\n",
       "        vertical-align: middle;\n",
       "    }\n",
       "\n",
       "    .dataframe tbody tr th {\n",
       "        vertical-align: top;\n",
       "    }\n",
       "\n",
       "    .dataframe thead th {\n",
       "        text-align: right;\n",
       "    }\n",
       "</style>\n",
       "<table border=\"1\" class=\"dataframe\">\n",
       "  <thead>\n",
       "    <tr style=\"text-align: right;\">\n",
       "      <th></th>\n",
       "      <th>Size (MB)</th>\n",
       "      <th>BLEU</th>\n",
       "      <th>SacreBLEU Verbose</th>\n",
       "      <th>SacreBLEU-chrF++-FLORES200</th>\n",
       "      <th>Suggested length</th>\n",
       "    </tr>\n",
       "  </thead>\n",
       "  <tbody>\n",
       "    <tr>\n",
       "      <th>mesolitica/finetune-translation-t5-super-super-tiny-standard-bahasa-cased</th>\n",
       "      <td>23.3</td>\n",
       "      <td>36.290743</td>\n",
       "      <td>71.2/46.0/30.9/21.0 (BP = 0.950 ratio = 0.951 ...</td>\n",
       "      <td>61.89</td>\n",
       "      <td>256</td>\n",
       "    </tr>\n",
       "    <tr>\n",
       "      <th>mesolitica/finetune-translation-t5-super-tiny-standard-bahasa-cased</th>\n",
       "      <td>50.7</td>\n",
       "      <td>39.188342</td>\n",
       "      <td>72.6/48.3/33.5/23.6 (BP = 0.960 ratio = 0.961 ...</td>\n",
       "      <td>64.03</td>\n",
       "      <td>256</td>\n",
       "    </tr>\n",
       "    <tr>\n",
       "      <th>mesolitica/finetune-translation-t5-tiny-standard-bahasa-cased</th>\n",
       "      <td>139</td>\n",
       "      <td>41.625536</td>\n",
       "      <td>73.4/50.1/35.7/25.7 (BP = 0.971 ratio = 0.972 ...</td>\n",
       "      <td>65.7</td>\n",
       "      <td>256</td>\n",
       "    </tr>\n",
       "    <tr>\n",
       "      <th>mesolitica/finetune-translation-t5-small-standard-bahasa-cased</th>\n",
       "      <td>242</td>\n",
       "      <td>43.937298</td>\n",
       "      <td>74.9/52.2/37.9/27.7 (BP = 0.976 ratio = 0.977 ...</td>\n",
       "      <td>67.43</td>\n",
       "      <td>256</td>\n",
       "    </tr>\n",
       "    <tr>\n",
       "      <th>mesolitica/finetune-translation-t5-base-standard-bahasa-cased</th>\n",
       "      <td>892</td>\n",
       "      <td>44.173559</td>\n",
       "      <td>74.7/52.3/38.0/28.0 (BP = 0.979 ratio = 0.979 ...</td>\n",
       "      <td>67.6</td>\n",
       "      <td>256</td>\n",
       "    </tr>\n",
       "    <tr>\n",
       "      <th>mesolitica/finetune-noisy-translation-t5-tiny-bahasa-cased</th>\n",
       "      <td>139</td>\n",
       "      <td>41.036414</td>\n",
       "      <td>72.9/49.2/34.8/25.0 (BP = 0.977 ratio = 0.977 ...</td>\n",
       "      <td>65.58</td>\n",
       "      <td>256</td>\n",
       "    </tr>\n",
       "    <tr>\n",
       "      <th>mesolitica/finetune-noisy-translation-t5-small-bahasa-cased</th>\n",
       "      <td>242</td>\n",
       "      <td>41.15794</td>\n",
       "      <td>72.2/48.8/34.5/24.8 (BP = 0.988 ratio = 0.988 ...</td>\n",
       "      <td>65.51</td>\n",
       "      <td>256</td>\n",
       "    </tr>\n",
       "    <tr>\n",
       "      <th>mesolitica/finetune-noisy-translation-t5-base-bahasa-cased</th>\n",
       "      <td>892</td>\n",
       "      <td>41.827831</td>\n",
       "      <td>73.4/50.1/35.7/25.8 (BP = 0.982 ratio = 0.982 ...</td>\n",
       "      <td>66.51</td>\n",
       "      <td>256</td>\n",
       "    </tr>\n",
       "    <tr>\n",
       "      <th>mesolitica/finetune-noisy-translation-t5-tiny-bahasa-cased-v2</th>\n",
       "      <td>139</td>\n",
       "      <td>60.000967</td>\n",
       "      <td>77.9/63.9/54.6/47.7 (BP = 1.000 ratio = 1.036 ...</td>\n",
       "      <td>None</td>\n",
       "      <td>256</td>\n",
       "    </tr>\n",
       "    <tr>\n",
       "      <th>mesolitica/finetune-noisy-translation-t5-small-bahasa-cased-v4</th>\n",
       "      <td>242</td>\n",
       "      <td>64.062582</td>\n",
       "      <td>80.1/67.7/59.1/52.5 (BP = 1.000 ratio = 1.042 ...</td>\n",
       "      <td>None</td>\n",
       "      <td>256</td>\n",
       "    </tr>\n",
       "    <tr>\n",
       "      <th>mesolitica/finetune-noisy-translation-t5-base-bahasa-cased-v2</th>\n",
       "      <td>892</td>\n",
       "      <td>64.583819</td>\n",
       "      <td>80.2/68.1/59.8/53.2 (BP = 1.000 ratio = 1.048 ...</td>\n",
       "      <td>None</td>\n",
       "      <td>256</td>\n",
       "    </tr>\n",
       "  </tbody>\n",
       "</table>\n",
       "</div>"
      ],
      "text/plain": [
       "                                                   Size (MB)       BLEU  \\\n",
       "mesolitica/finetune-translation-t5-super-super-...      23.3  36.290743   \n",
       "mesolitica/finetune-translation-t5-super-tiny-s...      50.7  39.188342   \n",
       "mesolitica/finetune-translation-t5-tiny-standar...       139  41.625536   \n",
       "mesolitica/finetune-translation-t5-small-standa...       242  43.937298   \n",
       "mesolitica/finetune-translation-t5-base-standar...       892  44.173559   \n",
       "mesolitica/finetune-noisy-translation-t5-tiny-b...       139  41.036414   \n",
       "mesolitica/finetune-noisy-translation-t5-small-...       242   41.15794   \n",
       "mesolitica/finetune-noisy-translation-t5-base-b...       892  41.827831   \n",
       "mesolitica/finetune-noisy-translation-t5-tiny-b...       139  60.000967   \n",
       "mesolitica/finetune-noisy-translation-t5-small-...       242  64.062582   \n",
       "mesolitica/finetune-noisy-translation-t5-base-b...       892  64.583819   \n",
       "\n",
       "                                                                                    SacreBLEU Verbose  \\\n",
       "mesolitica/finetune-translation-t5-super-super-...  71.2/46.0/30.9/21.0 (BP = 0.950 ratio = 0.951 ...   \n",
       "mesolitica/finetune-translation-t5-super-tiny-s...  72.6/48.3/33.5/23.6 (BP = 0.960 ratio = 0.961 ...   \n",
       "mesolitica/finetune-translation-t5-tiny-standar...  73.4/50.1/35.7/25.7 (BP = 0.971 ratio = 0.972 ...   \n",
       "mesolitica/finetune-translation-t5-small-standa...  74.9/52.2/37.9/27.7 (BP = 0.976 ratio = 0.977 ...   \n",
       "mesolitica/finetune-translation-t5-base-standar...  74.7/52.3/38.0/28.0 (BP = 0.979 ratio = 0.979 ...   \n",
       "mesolitica/finetune-noisy-translation-t5-tiny-b...  72.9/49.2/34.8/25.0 (BP = 0.977 ratio = 0.977 ...   \n",
       "mesolitica/finetune-noisy-translation-t5-small-...  72.2/48.8/34.5/24.8 (BP = 0.988 ratio = 0.988 ...   \n",
       "mesolitica/finetune-noisy-translation-t5-base-b...  73.4/50.1/35.7/25.8 (BP = 0.982 ratio = 0.982 ...   \n",
       "mesolitica/finetune-noisy-translation-t5-tiny-b...  77.9/63.9/54.6/47.7 (BP = 1.000 ratio = 1.036 ...   \n",
       "mesolitica/finetune-noisy-translation-t5-small-...  80.1/67.7/59.1/52.5 (BP = 1.000 ratio = 1.042 ...   \n",
       "mesolitica/finetune-noisy-translation-t5-base-b...  80.2/68.1/59.8/53.2 (BP = 1.000 ratio = 1.048 ...   \n",
       "\n",
       "                                                   SacreBLEU-chrF++-FLORES200  \\\n",
       "mesolitica/finetune-translation-t5-super-super-...                      61.89   \n",
       "mesolitica/finetune-translation-t5-super-tiny-s...                      64.03   \n",
       "mesolitica/finetune-translation-t5-tiny-standar...                       65.7   \n",
       "mesolitica/finetune-translation-t5-small-standa...                      67.43   \n",
       "mesolitica/finetune-translation-t5-base-standar...                       67.6   \n",
       "mesolitica/finetune-noisy-translation-t5-tiny-b...                      65.58   \n",
       "mesolitica/finetune-noisy-translation-t5-small-...                      65.51   \n",
       "mesolitica/finetune-noisy-translation-t5-base-b...                      66.51   \n",
       "mesolitica/finetune-noisy-translation-t5-tiny-b...                       None   \n",
       "mesolitica/finetune-noisy-translation-t5-small-...                       None   \n",
       "mesolitica/finetune-noisy-translation-t5-base-b...                       None   \n",
       "\n",
       "                                                   Suggested length  \n",
       "mesolitica/finetune-translation-t5-super-super-...              256  \n",
       "mesolitica/finetune-translation-t5-super-tiny-s...              256  \n",
       "mesolitica/finetune-translation-t5-tiny-standar...              256  \n",
       "mesolitica/finetune-translation-t5-small-standa...              256  \n",
       "mesolitica/finetune-translation-t5-base-standar...              256  \n",
       "mesolitica/finetune-noisy-translation-t5-tiny-b...              256  \n",
       "mesolitica/finetune-noisy-translation-t5-small-...              256  \n",
       "mesolitica/finetune-noisy-translation-t5-base-b...              256  \n",
       "mesolitica/finetune-noisy-translation-t5-tiny-b...              256  \n",
       "mesolitica/finetune-noisy-translation-t5-small-...              256  \n",
       "mesolitica/finetune-noisy-translation-t5-base-b...              256  "
      ]
     },
     "execution_count": 3,
     "metadata": {},
     "output_type": "execute_result"
    }
   ],
   "source": [
    "malaya.translation.en_ms.available_huggingface()"
   ]
  },
  {
   "cell_type": "markdown",
   "metadata": {},
   "source": [
    "These huggingface models trained on:\n",
    "    \n",
    "1. EN-MS dataset, https://huggingface.co/datasets/mesolitica/en-ms\n",
    "2. MS-EN dataset, https://huggingface.co/datasets/mesolitica/ms-en\n",
    "3. NLLB eng_Latn-zsm_Latn, https://github.com/huseinzol05/malay-dataset/tree/master/translation/laser"
   ]
  },
  {
   "cell_type": "markdown",
   "metadata": {},
   "source": [
    "### Load Transformer models\n",
    "\n",
    "```python\n",
    "def huggingface(model: str = 'mesolitica/finetune-translation-t5-small-standard-bahasa-cased', **kwargs):\n",
    "    \"\"\"\n",
    "    Load HuggingFace model to translate EN-to-MS.\n",
    "\n",
    "    Parameters\n",
    "    ----------\n",
    "    model: str, optional (default='mesolitica/finetune-translation-t5-small-standard-bahasa-cased')\n",
    "        Check available models at `malaya.translation.en_ms.available_huggingface()`.\n",
    "\n",
    "    Returns\n",
    "    -------\n",
    "    result: malaya.torch_model.huggingface.Generator\n",
    "    \"\"\"\n",
    "```"
   ]
  },
  {
   "cell_type": "code",
   "execution_count": 5,
   "metadata": {},
   "outputs": [
    {
     "data": {
      "application/vnd.jupyter.widget-view+json": {
       "model_id": "3e90787f4e244c16aa8d6b8c3cc632ee",
       "version_major": 2,
       "version_minor": 0
      },
      "text/plain": [
       "Downloading:   0%|          | 0.00/233M [00:00<?, ?B/s]"
      ]
     },
     "metadata": {},
     "output_type": "display_data"
    },
    {
     "name": "stderr",
     "output_type": "stream",
     "text": [
      "INFO:malaya_boilerplate.frozen_graph:running home/husein/.cache/huggingface/hub/models--huseinzol05--translation-en-ms-base/snapshots/a2f02ffbb51f5c2226126d4fa9a02f7aa36d20be using device /device:CPU:0\n",
      "2022-10-04 21:35:57.018780: I tensorflow/core/platform/cpu_feature_guard.cc:142] This TensorFlow binary is optimized with oneAPI Deep Neural Network Library (oneDNN) to use the following CPU instructions in performance-critical operations:  AVX2 FMA\n",
      "To enable them in other operations, rebuild TensorFlow with the appropriate compiler flags.\n",
      "2022-10-04 21:35:57.022347: E tensorflow/stream_executor/cuda/cuda_driver.cc:271] failed call to cuInit: CUDA_ERROR_NO_DEVICE: no CUDA-capable device is detected\n",
      "2022-10-04 21:35:57.022374: I tensorflow/stream_executor/cuda/cuda_diagnostics.cc:169] retrieving CUDA diagnostic information for host: husein-MS-7D31\n",
      "2022-10-04 21:35:57.022378: I tensorflow/stream_executor/cuda/cuda_diagnostics.cc:176] hostname: husein-MS-7D31\n",
      "2022-10-04 21:35:57.022491: I tensorflow/stream_executor/cuda/cuda_diagnostics.cc:200] libcuda reported version is: Not found: was unable to find libcuda.so DSO loaded into this program\n",
      "2022-10-04 21:35:57.022523: I tensorflow/stream_executor/cuda/cuda_diagnostics.cc:204] kernel reported version is: 470.141.3\n"
     ]
    }
   ],
   "source": [
    "transformer = malaya.translation.en_ms.transformer()"
   ]
  },
  {
   "cell_type": "code",
   "execution_count": 6,
   "metadata": {},
   "outputs": [],
   "source": [
    "transformer_huggingface = malaya.translation.en_ms.huggingface()"
   ]
  },
  {
   "cell_type": "markdown",
   "metadata": {},
   "source": [
    "### Translate\n",
    "\n",
    "```python\n",
    "def generate(self, strings: List[str], **kwargs):\n",
    "    \"\"\"\n",
    "    Generate texts from the input.\n",
    "\n",
    "    Parameters\n",
    "    ----------\n",
    "    strings : List[str]\n",
    "    **kwargs: vector arguments pass to huggingface `generate` method.\n",
    "        Read more at https://huggingface.co/docs/transformers/main_classes/text_generation\n",
    "\n",
    "    Returns\n",
    "    -------\n",
    "    result: List[str]\n",
    "    \"\"\"\n",
    "```\n",
    "\n",
    "**For better results, always split by end of sentences**."
   ]
  },
  {
   "cell_type": "code",
   "execution_count": 7,
   "metadata": {},
   "outputs": [],
   "source": [
    "from pprint import pprint"
   ]
  },
  {
   "cell_type": "code",
   "execution_count": 8,
   "metadata": {},
   "outputs": [
    {
     "name": "stdout",
     "output_type": "stream",
     "text": [
      "('KUALA LUMPUR, July 1 - Datuk Seri Anwar Ibrahim is not suitable to as the '\n",
      " 'prime minister candidate as he is allegedly not \"popular\" among the Malays, '\n",
      " 'Tun Dr Mahathir Mohamad claimed. The former prime minister reportedly said '\n",
      " 'the PKR president needs someone like himself in order to acquire support '\n",
      " 'from the Malays and win the election.')\n"
     ]
    }
   ],
   "source": [
    "# https://www.malaymail.com/news/malaysia/2020/07/01/dr-mahathir-again-claims-anwar-lacks-popularity-with-malays-to-be-pakatans/1880420\n",
    "\n",
    "string_news1 = 'KUALA LUMPUR, July 1 - Datuk Seri Anwar Ibrahim is not suitable to as the prime minister candidate as he is allegedly not \"popular\" among the Malays, Tun Dr Mahathir Mohamad claimed. The former prime minister reportedly said the PKR president needs someone like himself in order to acquire support from the Malays and win the election.'\n",
    "pprint(string_news1)"
   ]
  },
  {
   "cell_type": "code",
   "execution_count": 9,
   "metadata": {},
   "outputs": [
    {
     "name": "stdout",
     "output_type": "stream",
     "text": [
      "('(CNN)New York Attorney General Letitia James on Monday ordered the Black '\n",
      " 'Lives Matter Foundation -- which she said is not affiliated with the larger '\n",
      " 'Black Lives Matter movement -- to stop collecting donations in New York. \"I '\n",
      " 'ordered the Black Lives Matter Foundation to stop illegally accepting '\n",
      " 'donations that were intended for the #BlackLivesMatter movement. This '\n",
      " 'foundation is not affiliated with the movement, yet it accepted countless '\n",
      " 'donations and deceived goodwill,\" James tweeted.')\n"
     ]
    }
   ],
   "source": [
    "# https://edition.cnn.com/2020/07/06/politics/new-york-attorney-general-blm/index.html\n",
    "\n",
    "string_news2 = '(CNN)New York Attorney General Letitia James on Monday ordered the Black Lives Matter Foundation -- which she said is not affiliated with the larger Black Lives Matter movement -- to stop collecting donations in New York. \"I ordered the Black Lives Matter Foundation to stop illegally accepting donations that were intended for the #BlackLivesMatter movement. This foundation is not affiliated with the movement, yet it accepted countless donations and deceived goodwill,\" James tweeted.'\n",
    "pprint(string_news2)"
   ]
  },
  {
   "cell_type": "code",
   "execution_count": 10,
   "metadata": {},
   "outputs": [
    {
     "name": "stdout",
     "output_type": "stream",
     "text": [
      "('Amongst the wide-ranging initiatives proposed are a sustainable food '\n",
      " 'labelling framework, a reformulation of processed foods, and a '\n",
      " 'sustainability chapter in all EU bilateral trade agreements. The EU also '\n",
      " 'plans to publish a proposal for a legislative framework for sustainable food '\n",
      " 'systems by 2023 to ensure all foods on the EU market become increasingly '\n",
      " 'sustainable.')\n"
     ]
    }
   ],
   "source": [
    "# https://www.thestar.com.my/business/business-news/2020/07/04/malaysia-worries-new-eu-food-rules-could-hurt-palm-oil-exports\n",
    "\n",
    "string_news3 = 'Amongst the wide-ranging initiatives proposed are a sustainable food labelling framework, a reformulation of processed foods, and a sustainability chapter in all EU bilateral trade agreements. The EU also plans to publish a proposal for a legislative framework for sustainable food systems by 2023 to ensure all foods on the EU market become increasingly sustainable.'\n",
    "pprint(string_news3)"
   ]
  },
  {
   "cell_type": "code",
   "execution_count": 11,
   "metadata": {},
   "outputs": [
    {
     "name": "stdout",
     "output_type": "stream",
     "text": [
      "('This page shares my best articles to read on topics like health, happiness, '\n",
      " 'creativity, productivity and more. The central question that drives my work '\n",
      " 'is, “How can we live better?” To answer that question, I like to write about '\n",
      " 'science-based ways to solve practical problems.')\n"
     ]
    }
   ],
   "source": [
    "# https://jamesclear.com/articles\n",
    "\n",
    "string_article1 = 'This page shares my best articles to read on topics like health, happiness, creativity, productivity and more. The central question that drives my work is, “How can we live better?” To answer that question, I like to write about science-based ways to solve practical problems.'\n",
    "pprint(string_article1)"
   ]
  },
  {
   "cell_type": "code",
   "execution_count": 12,
   "metadata": {},
   "outputs": [
    {
     "name": "stdout",
     "output_type": "stream",
     "text": [
      "['KUALA LUMPUR 1 Julai - Datuk Seri Anwar Ibrahim tidak sesuai menjadi calon '\n",
      " 'Perdana Menteri kerana beliau didakwa tidak \"popular\" dalam kalangan orang '\n",
      " 'Melayu, Tun Dr Mahathir Mohamad mendakwa, bekas Perdana Menteri itu '\n",
      " 'dilaporkan berkata Presiden PKR itu memerlukan seseorang seperti dirinya '\n",
      " 'bagi mendapatkan sokongan daripada orang Melayu dan memenangi pilihan raya.',\n",
      " '(CNN) Peguam Negara New York Letitia James pada hari Isnin memerintahkan '\n",
      " 'Black Lives Matter Foundation - yang menurutnya tidak berafiliasi dengan '\n",
      " 'gerakan Black Lives Matter yang lebih besar - untuk berhenti mengumpulkan '\n",
      " 'sumbangan di New York. \"Saya memerintahkan Black Lives Matter Foundation '\n",
      " 'untuk berhenti menerima sumbangan secara haram yang bertujuan untuk gerakan '\n",
      " '#BlackLivesMatter. Yayasan ini tidak berafiliasi dengan gerakan itu, namun '\n",
      " 'ia menerima banyak sumbangan dan muhibah yang ditipu,\" tweet James.',\n",
      " 'Di antara inisiatif luas yang diusulkan adalah kerangka pelabelan makanan '\n",
      " 'yang berkelanjutan, reformulasi makanan yang diproses, dan bab keberlanjutan '\n",
      " 'dalam semua perjanjian perdagangan dua hala EU. EU juga berencana untuk '\n",
      " 'menerbitkan proposal untuk kerangka perundangan untuk sistem makanan lestari '\n",
      " 'pada tahun 2023 untuk memastikan semua makanan di pasar EU menjadi semakin '\n",
      " 'lestari.',\n",
      " 'Halaman ini berkongsi artikel terbaik saya untuk dibaca mengenai topik '\n",
      " 'seperti kesihatan, kebahagiaan, kreativiti, produktiviti dan banyak lagi. '\n",
      " 'Soalan utama yang mendorong kerja saya adalah, \"Bagaimana kita dapat hidup '\n",
      " 'lebih baik?\" Untuk menjawab soalan itu, saya suka menulis mengenai kaedah '\n",
      " 'berasaskan sains untuk menyelesaikan masalah praktikal.']\n",
      "CPU times: user 11.4 s, sys: 2.17 s, total: 13.6 s\n",
      "Wall time: 6.37 s\n"
     ]
    }
   ],
   "source": [
    "%%time\n",
    "\n",
    "pprint(transformer.greedy_decoder([string_news1, string_news2, string_news3, string_article1]))"
   ]
  },
  {
   "cell_type": "code",
   "execution_count": 13,
   "metadata": {},
   "outputs": [
    {
     "name": "stdout",
     "output_type": "stream",
     "text": [
      "['KUALA LUMPUR 1 Julai - Datuk Seri Anwar Ibrahim tidak sesuai sebagai calon '\n",
      " 'perdana menteri kerana beliau didakwa tidak \"popular\" dalam kalangan orang '\n",
      " 'Melayu, kata Tun Dr Mahathir Mohamad. Bekas perdana menteri itu dilaporkan '\n",
      " 'berkata presiden PKR memerlukan seseorang seperti dirinya untuk mendapatkan '\n",
      " 'sokongan daripada orang Melayu dan memenangi pilihan raya.',\n",
      " '(CNN) Peguam Negara New York Letitia James pada hari Isnin memerintahkan '\n",
      " 'Black Lives Matter Foundation - yang menurutnya tidak berafiliasi dengan '\n",
      " 'gerakan Black Lives Matter yang lebih besar - untuk berhenti mengumpulkan '\n",
      " 'sumbangan di New York. \"Saya memerintahkan Black Lives Matter Foundation '\n",
      " 'untuk berhenti menerima sumbangan secara haram yang ditujukan untuk gerakan '\n",
      " '#BlackLivesMatter. Yayasan ini tidak berafiliasi dengan gerakan itu, namun '\n",
      " 'ia menerima banyak sumbangan dan