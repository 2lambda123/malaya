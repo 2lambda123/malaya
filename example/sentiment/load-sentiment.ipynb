{
 "cells": [
  {
   "cell_type": "code",
   "execution_count": 1,
   "metadata": {},
   "outputs": [],
   "source": [
    "import malaya"
   ]
  },
  {
   "cell_type": "code",
   "execution_count": 2,
   "metadata": {},
   "outputs": [],
   "source": [
    "positive_text = 'Kerajaan negeri Kelantan mempersoalkan motif kenyataan Menteri Kewangan Lim Guan Eng yang hanya menyebut Kelantan penerima terbesar bantuan kewangan dari Kerajaan Persekutuan. Sedangkan menurut Timbalan Menteri Besarnya, Datuk Mohd Amar Nik Abdullah, negeri lain yang lebih maju dari Kelantan turut mendapat pembiayaan dan pinjaman.'\n",
    "negative_text = 'kerajaan sebenarnya sangat bencikan rakyatnya, minyak naik dan segalanya'"
   ]
  },
  {
   "cell_type": "markdown",
   "metadata": {},
   "source": [
    "## Load multinomial model"
   ]
  },
  {
   "cell_type": "code",
   "execution_count": 3,
   "metadata": {},
   "outputs": [
    {
     "name": "stdout",
     "output_type": "stream",
     "text": [
      "{'negative': 0.27780816431771815, 'positive': 0.7221918356822792}\n",
      "{'negative': 0.4230539695981826, 'positive': 0.5769460304018175}\n"
     ]
    },
    {
     "data": {
      "text/plain": [
       "[{'negative': 0.4230539695981826, 'positive': 0.5769460304018175},\n",
       " {'negative': 0.4230539695981826, 'positive': 0.5769460304018175}]"
      ]
     },
     "execution_count": 3,
     "metadata": {},
     "output_type": "execute_result"
    }
   ],
   "source": [
    "model = malaya.sentiment.multinomial()\n",
    "print(model.predict(positive_text,get_proba=True))\n",
    "print(model.predict(negative_text,get_proba=True))\n",
    "model.predict_batch([negative_text,negative_text],get_proba=True)"
   ]
  },
  {
   "cell_type": "markdown",
   "metadata": {},
   "source": [
    "## Load xgb model"
   ]
  },
  {
   "cell_type": "code",
   "execution_count": 4,
   "metadata": {},
   "outputs": [
    {
     "name": "stdout",
     "output_type": "stream",
     "text": [
      "{'negative': 0.44467238, 'positive': 0.5553276}\n",
      "{'negative': 0.47532737, 'positive': 0.5246726}\n"
     ]
    },
    {
     "data": {
      "text/plain": [
       "[{'negative': 0.47532737, 'positive': 0.5246726},\n",
       " {'negative': 0.47532737, 'positive': 0.5246726}]"
      ]
     },
     "execution_count": 4,
     "metadata": {},
     "output_type": "execute_result"
    }
   ],
   "source": [
    "model = malaya.sentiment.xgb()\n",
    "print(model.predict(positive_text,get_proba=True))\n",
    "print(model.predict(negative_text,get_proba=True))\n",
    "model.predict_batch([negative_text,negative_text],get_proba=True)"
   ]
  },
  {
   "cell_type": "markdown",
   "metadata": {},
   "source": [
    "## List available deep learning models"
   ]
  },
  {
   "cell_type": "code",
   "execution_count": 5,
   "metadata": {},
   "outputs": [
    {
     "data": {
      "text/plain": [
       "['fast-text',\n",
       " 'hierarchical',\n",
       " 'bahdanau',\n",
       " 'luong',\n",
       " 'bidirectional',\n",
       " 'bert',\n",
       " 'entity-network']"
      ]
     },
     "execution_count": 5,
     "metadata": {},
     "output_type": "execute_result"
    }
   ],
   "source": [
    "malaya.sentiment.available_deep_model()"
   ]
  },
  {
   "cell_type": "code",
   "execution_count": 6,
   "metadata": {},
   "outputs": [
    {
     "name": "stdout",
     "output_type": "stream",
     "text": [
      "Testing fast-text model\n",
      "{'negative': 0.99185514, 'positive': 0.008144839}\n",
      "[{'negative': 0.8494132, 'positive': 0.15058675}, {'negative': 0.04582213, 'positive': 0.95417786}]\n",
      "\n",
      "Testing hierarchical model\n",
      "{'negative': 0.16548774, 'positive': 0.83451223, 'attention': [['kerajaan', 0.109089434], ['sebenarnya', 0.3137235], ['sangat', 0.2670205], ['bencikan', 0.24073339], ['rakyatnya', 0.05572654], ['minyak', 0.008767789], ['naik', 0.0037751873], ['segalanya', 0.0011636332]]}\n",
      "[{'negative': 0.08488519, 'positive': 0.9151148}, {'negative': 0.09536239, 'positive': 0.90463763}]\n",
      "\n",
      "Testing bahdanau model\n",
      "{'negative': 0.27857047, 'positive': 0.7214295, 'attention': [['kerajaan', 0.1346821], ['sebenarnya', 0.023742322], ['sangat', 0.03039956], ['bencikan', 0.6389645], ['rakyatnya', 0.048371714], ['minyak', 0.035900667], ['naik', 0.05980329], ['segalanya', 0.02813588]]}\n",
      "[{'negative': 0.48411715, 'positive': 0.5158828}, {'negative': 0.31343234, 'positive': 0.6865676}]\n",
      "\n",
      "Testing luong model\n",
      "{'negative': 0.7480302, 'positive': 0.2519698, 'attention': [['kerajaan', 0.13574807], ['sebenarnya', 0.09609673], ['sangat', 0.06295505], ['bencikan', 0.09375848], ['rakyatnya', 0.093516305], ['minyak', 0.098614186], ['naik', 0.16901104], ['segalanya', 0.25030014]]}\n",
      "[{'negative': 0.9892952, 'positive': 0.010704841}, {'negative': 0.10066059, 'positive': 0.8993394}]\n",
      "\n",
      "Testing bidirectional model\n",
      "{'negative': 0.1094934, 'positive': 0.8905066}\n",
      "[{'negative': 0.2103564, 'positive': 0.7896436}, {'negative': 0.2552409, 'positive': 0.74475914}]\n",
      "\n",
      "Testing bert model\n",
      "{'negative': 0.992415, 'positive': 0.007585052}\n",
      "[{'negative': 0.992415, 'positive': 0.007585059}, {'negative': 0.9923813, 'positive': 0.0076187113}]\n",
      "\n",
      "Testing entity-network model\n",
      "{'negative': 0.5229405, 'positive': 0.4770595}\n",
      "[{'negative': 0.5229405, 'positive': 0.4770595}, {'negative': 0.6998231, 'positive': 0.3001769}]\n",
      "\n"
     ]
    }
   ],
   "source": [
    "for i in malaya.sentiment.available_deep_model():\n",
    "    print('Testing %s model'%(i))\n",
    "    model = malaya.sentiment.deep_model(i)\n",
    "    print(model.predict(negative_text))\n",
    "    print(model.predict_batch([negative_text, positive_text]))\n",
    "    print()"
   ]
  },
  {
   "cell_type": "markdown",
   "metadata": {},
   "source": [
    "## Train a multinomial model using custom dataset"
   ]
  },
  {
   "cell_type": "code",
   "execution_count": 7,
   "metadata": {},
   "outputs": [],
   "source": [
    "import pandas as pd"
   ]
  },
  {
   "cell_type": "code",
   "execution_count": 8,
   "metadata": {},
   "outputs": [],
   "source": [
    "df = pd.read_csv('tests/02032018.csv',sep=';')\n",
    "df = df.iloc[3:,1:]\n",
    "df.columns = ['text','label']\n",
    "corpus = df.text.tolist()"
   ]
  },
  {
   "cell_type": "markdown",
   "metadata": {},
   "source": [
    "corpus should be [(text, label)]"
   ]
  },
  {
   "cell_type": "code",
   "execution_count": 9,
   "metadata": {},
   "outputs": [
    {
     "name": "stdout",
     "output_type": "stream",
     "text": [
      "             precision    recall  f1-score   support\n",
      "\n",
      "   Negative       0.00      0.00      0.00        13\n",
      "    Neutral       0.67      0.12      0.21        16\n",
      "   Positive       0.55      1.00      0.71        32\n",
      "\n",
      "avg / total       0.46      0.56      0.43        61\n",
      "\n"
     ]
    }
   ],
   "source": [
    "dataset = [[df.iloc[i,0],df.iloc[i,1]] for i in range(df.shape[0])]\n",
    "bayes = malaya.sentiment.train_multinomial(dataset)"
   ]
  },
  {
   "cell_type": "markdown",
   "metadata": {},
   "source": [
    "#### You also able to feed directory location\n",
    "\n",
    "```\n",
    "directory\n",
    "    |\n",
    "    |- adidas\n",
    "    |- apple\n",
    "    |- hungry\n",
    "```"
   ]
  },
  {
   "cell_type": "code",
   "execution_count": 10,
   "metadata": {},
   "outputs": [
    {
     "name": "stdout",
     "output_type": "stream",
     "text": [
      "             precision    recall  f1-score   support\n",
      "\n",
      "     adidas       0.96      0.61      0.74       319\n",
      "      apple       0.97      0.59      0.73       448\n",
      "     hungry       0.78      0.92      0.84      1081\n",
      "   kerajaan       0.85      0.83      0.84      1379\n",
      "       nike       0.95      0.48      0.64       335\n",
      "pembangkang       0.71      0.85      0.78      1497\n",
      "\n",
      "avg / total       0.82      0.80      0.79      5059\n",
      "\n"
     ]
    }
   ],
   "source": [
    "bayes = malaya.sentiment.train_multinomial('tests/local')"
   ]
  },
  {
   "cell_type": "code",
   "execution_count": 11,
   "metadata": {},
   "outputs": [
    {
     "data": {
      "text/plain": [
       "{'adidas': 0.0005316133415573243,\n",
       " 'apple': 0.0006248454476189618,\n",
       " 'hungry': 0.009494739464502444,\n",
       " 'kerajaan': 0.0773079001887801,\n",
       " 'nike': 0.0005656482161409733,\n",
       " 'pembangkang': 0.9114752533414014}"
      ]
     },
     "execution_count": 11,
     "metadata": {},
     "output_type": "execute_result"
    }
   ],
   "source": [
    "bayes.predict('saya suka kerajaan dan anwar ibrahim', get_proba = True)"
   ]
  },
  {
   "cell_type": "markdown",
   "metadata": {},
   "source": [
    "#### Train a multinomial using skip-gram vectorization"
   ]
  },
  {
   "cell_type": "code",
   "execution_count": 12,
   "metadata": {},
   "outputs": [
    {
     "name": "stdout",
     "output_type": "stream",
     "text": [
      "             precision    recall  f1-score   support\n",
      "\n",
      "     adidas       0.37      0.82      0.51       330\n",
      "      apple       0.50      0.90      0.64       484\n",
      "     hungry       0.82      0.94      0.88      1028\n",
      "   kerajaan       0.90      0.60      0.72      1404\n",
      "       nike       0.59      0.80      0.68       312\n",
      "pembangkang       0.88      0.53      0.66      1501\n",
      "\n",
      "avg / total       0.78      0.71      0.71      5059\n",
      "\n"
     ]
    }
   ],
   "source": [
    "bayes = malaya.sentiment.train_multinomial(\n",
    "    'tests/local', vector = 'skip-gram', ngram_range = (1, 3), skip = 5\n",
    ")"
   ]
  },
  {
   "cell_type": "code",
   "execution_count": 13,
   "metadata": {},
   "outputs": [
    {
     "data": {
      "text/plain": [
       "{'adidas': 9.851832247652223e-14,\n",
       " 'apple': 3.1811421800860636e-14,\n",
       " 'hungry': 4.87301131586436e-10,\n",
       " 'kerajaan': 5.936421621648095e-07,\n",
       " 'nike': 9.654000712770611e-14,\n",
       " 'pembangkang': 0.9999994058703183}"
      ]
     },
     "execution_count": 13,
     "metadata": {},
     "output_type": "execute_result"
    }
   ],
   "source": [
    "bayes.predict('saya suka kerajaan dan anwar ibrahim', get_proba = True)"
   ]
  },
  {
   "cell_type": "markdown",
   "metadata": {},
   "source": [
    "## Unsupervised important words learning"
   ]
  },
  {
   "cell_type": "code",
   "execution_count": 14,
   "metadata": {},
   "outputs": [],
   "source": [
    "import matplotlib.pyplot as plt\n",
    "import seaborn as sns\n",
    "sns.set() # i just really like seaborn colors"
   ]
  },
  {
   "cell_type": "markdown",
   "metadata": {},
   "source": [
    "#### Visualizing bahdanau model"
   ]
  },
  {
   "cell_type": "code",
   "execution_count": 17,
   "metadata": {},
   "outputs": [
    {
     "data": {
      "image/png": "[encoded data removed]",
      "text/plain": [
       "<Figure size 1080x504 with 1 Axes>"
      ]
     },
     "metadata": {
      "needs_background": "light"
     },
     "output_type": "display_data"
    }
   ],
   "source": [
    "model = malaya.sentiment.deep_model('bahdanau')\n",
    "result = model.predict(positive_text)['attention']\n",
    "\n",
    "plt.figure(figsize = (15, 7))\n",
    "labels = [r[0] for r in result]\n",
    "val = [r[1] for r in result]\n",
    "aranged = [i for i in range(len(labels))]\n",
    "plt.bar(aranged, val)\n",
    "plt.xticks(aranged, labels, rotation = 'vertical')\n",
    "plt.show()"
   ]
  },
  {
   "cell_type": "markdown",
   "metadata": {},
   "source": [
    "#### Visualizing luong model"
   ]
  },
  {
   "cell_type": "code",
   "execution_count": 18,
   "metadata": {},
   "outputs": [
    {
     "data": {
      "image/png": "[encoded data removed]",
      "text/plain": [
       "<Figure size 1080x504 with 1 Axes>"
      ]
     },
     "metadata": {
      "needs_background": "light"
     },
     "output_type": "display_data"
    }
   ],
   "source": [
    "model = malaya.sentiment.deep_model('luong')\n",
    "result = model.predict(positive_text)['attention']\n",
    "\n",
    "plt.figure(figsize = (15, 7))\n",
    "labels = [r[0] for r in result]\n",
    "val = [r[1] for r in result]\n",
    "aranged = [i for i in range(len(labels))]\n",
    "plt.bar(aranged, val)\n",
    "plt.xticks(aranged, labels, rotation = 'vertical')\n",
    "plt.show()"
   ]
  },
  {
   "cell_type": "markdown",
   "metadata": {},
   "source": [
    "#### Visualizing hierarchical model"
   ]
  },
  {
   "cell_type": "code",
   "execution_count": 19,
   "metadata": {},
   "outputs": [
    {
     "data": {
      "image/png": "[encoded data removed]",
      "text/plain": [
       "<Figure size 1080x504 with 1 Axes>"
      ]
     },
     "metadata": {
      "needs_background": "light"
     },
     "output_type": "display_data"
    }
   ],
   "source": [
    "model = malaya.sentiment.deep_model('hierarchical')\n",
    "result = model.predict(positive_text)['attention']\n",
    "\n",
    "plt.figure(figsize = (15, 7))\n",
    "labels = [r[0] for r in result]\n",
    "val = [r[1] for r in result]\n",
    "aranged = [i for i in range(len(labels))]\n",
    "plt.bar(aranged, val)\n",
    "plt.xticks(aranged, labels, rotation = 'vertical')\n",
    "plt.show()"
   ]
  },
  {
   "cell_type": "code",
   "execution_count": null,
   "metadata": {},
   "outputs": [],
   "source": []
  }
 ],
 "metadata": {
  "kernelspec": {
   "display_name": "Python 3",
   "language": "python",
   "name": "python3"
  },
  "language_info": {
   "codemirror_mode": {
    "name": "ipython",
    "version": 3
   },
   "file_extension": ".py",
   "mimetype": "text/x-python",
   "name": "python",
   "nbconvert_exporter": "python",
   "pygments_lexer": "ipython3",
   "version": "3.6.5"
  }
 },
 "nbformat": 4,
 "nbformat_minor": 2
}
