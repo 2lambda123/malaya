{
 "cells": [
  {
   "cell_type": "markdown",
   "metadata": {},
   "source": [
    "# Paraphrase"
   ]
  },
  {
   "cell_type": "markdown",
   "metadata": {},
   "source": [
    "<div class=\"alert alert-info\">\n",
    "\n",
    "This tutorial is available as an IPython notebook at [Malaya/example/paraphrase](https://github.com/huseinzol05/Malaya/tree/master/example/paraphrase).\n",
    "    \n",
    "</div>"
   ]
  },
  {
   "cell_type": "code",
   "execution_count": 1,
   "metadata": {},
   "outputs": [
    {
     "name": "stdout",
     "output_type": "stream",
     "text": [
      "CPU times: user 4.86 s, sys: 749 ms, total: 5.61 s\n",
      "Wall time: 5 s\n"
     ]
    }
   ],
   "source": [
    "%%time\n",
    "\n",
    "import malaya\n",
    "from pprint import pprint"
   ]
  },
  {
   "cell_type": "markdown",
   "metadata": {},
   "source": [
    "### List available T5 models"
   ]
  },
  {
   "cell_type": "code",
   "execution_count": 2,
   "metadata": {},
   "outputs": [
    {
     "name": "stderr",
     "output_type": "stream",
     "text": [
      "INFO:root:tested on 1k paraphrase texts.\n"
     ]
    },
    {
     "data": {
      "text/html": [
       "<div>\n",
       "<style scoped>\n",
       "    .dataframe tbody tr th:only-of-type {\n",
       "        vertical-align: middle;\n",
       "    }\n",
       "\n",
       "    .dataframe tbody tr th {\n",
       "        vertical-align: top;\n",
       "    }\n",
       "\n",
       "    .dataframe thead th {\n",
       "        text-align: right;\n",
       "    }\n",
       "</style>\n",
       "<table border=\"1\" class=\"dataframe\">\n",
       "  <thead>\n",
       "    <tr style=\"text-align: right;\">\n",
       "      <th></th>\n",
       "      <th>Size (MB)</th>\n",
       "      <th>Uncompressed Size (MB)</th>\n",
       "      <th>Optimized Size (MB)</th>\n",
       "      <th>BLEU</th>\n",
       "    </tr>\n",
       "  </thead>\n",
       "  <tbody>\n",
       "    <tr>\n",
       "      <th>small</th>\n",
       "      <td>122.0</td>\n",
       "      <td>355.6</td>\n",
       "      <td>244.0</td>\n",
       "      <td>0.81801</td>\n",
       "    </tr>\n",
       "    <tr>\n",
       "      <th>base</th>\n",
       "      <td>448.0</td>\n",
       "      <td>1300.0</td>\n",
       "      <td>895.0</td>\n",
       "      <td>0.86698</td>\n",
       "    </tr>\n",
       "  </tbody>\n",
       "</table>\n",
       "</div>"
      ],
      "text/plain": [
       "       Size (MB)  Uncompressed Size (MB)  Optimized Size (MB)     BLEU\n",
       "small      122.0                   355.6                244.0  0.81801\n",
       "base       448.0                  1300.0                895.0  0.86698"
      ]
     },
     "execution_count": 2,
     "metadata": {},
     "output_type": "execute_result"
    }
   ],
   "source": [
    "malaya.paraphrase.available_t5()"
   ]
  },
  {
   "cell_type": "markdown",
   "metadata": {},
   "source": [
    "### Load T5 models"
   ]
  },
  {
   "cell_type": "markdown",
   "metadata": {},
   "source": [
    "```python\n",
    "def t5(\n",
    "    model: str = 'base',\n",
    "    compressed: bool = True,\n",
    "    optimized: bool = False,\n",
    "    **kwargs,\n",
    "):\n",
    "\n",
    "    \"\"\"\n",
    "    Load T5 model to generate a paraphrase given a string.\n",
    "\n",
    "    Parameters\n",
    "    ----------\n",
    "    model : str, optional (default='base')\n",
    "        Model architecture supported. Allowed values:\n",
    "\n",
    "        * ``'base'`` - T5 BASE parameters.\n",
    "        * ``'small'`` - T5 SMALL parameters.\n",
    "\n",
    "    compressed: bool, optional (default=True)\n",
    "        Load compressed model, but this not able to utilize malaya-gpu function. \n",
    "        This only compressed model size, but when loaded into VRAM / RAM, size uncompressed and compressed are the same.\n",
    "        We prefer un-compressed model due to compressed model prone to error.\n",
    "\n",
    "    optimized : bool, optional (default=False)\n",
    "        if True, will load optimized uncompressed model, remove unnecessary nodes and fold batch norm to reduce model size.\n",
    "        Optimized model not necessary faster, totally depends on the machine. \n",
    "        We have no concrete proof optimized model maintain same accuracy as uncompressed model.\n",
    "```\n",
    "\n",
    "**For malaya-gpu user, compressed t5 very fragile and we suggest use `compressed=False`. Uncompressed model also can utilise GPU usage more efficient**."
   ]
  },
  {
   "cell_type": "code",
   "execution_count": 7,
   "metadata": {},
   "outputs": [
    {
     "name": "stdout",
     "output_type": "stream",
     "text": [
      "WARNING:tensorflow:From /Users/huseinzolkepli/Documents/Malaya/malaya/paraphrase.py:84: load (from tensorflow.python.saved_model.loader_impl) is deprecated and will be removed in a future version.\n",
      "Instructions for updating:\n",
      "This function will only be available through the v1 compatibility library as tf.compat.v1.saved_model.loader.load or tf.compat.v1.saved_model.load. There will be a new function for importing SavedModels in Tensorflow 2.0.\n",
      "INFO:tensorflow:Restoring parameters from /Users/huseinzolkepli/Malaya/paraphrase/t5/base/model/variables/variables\n"
     ]
    }
   ],
   "source": [
    "t5 = malaya.paraphrase.t5()"
   ]
  },
  {
   "cell_type": "markdown",
   "metadata": {},
   "source": [
    "### Paraphrase simple string\n",
    "\n",
    "To paraphrase, simply use `paraphrase` method."
   ]
  },
  {
   "cell_type": "code",
   "execution_count": 9,
   "metadata": {},
   "outputs": [
    {
     "name": "stdout",
     "output_type": "stream",
     "text": [
      "('Beliau yang juga saksi pendakwaan kesembilan berkata, ia bagi mengelak '\n",
      " 'daripada wujud isu digunakan terhadap Najib.')\n"
     ]
    }
   ],
   "source": [
    "string = \"Beliau yang juga saksi pendakwaan kesembilan berkata, ia bagi mengelak daripada wujud isu digunakan terhadap Najib.\"\n",
    "pprint(string)"
   ]
  },
  {
   "cell_type": "code",
   "execution_count": 13,
   "metadata": {},
   "outputs": [
    {
     "name": "stdout",
     "output_type": "stream",
     "text": [
      "('Ini juga bagi mengelakkan wujud isu yang digunakan terhadap Najib, kata '\n",
      " 'saksi kesembilan.')\n"
     ]
    }
   ],
   "source": [
    "pprint(t5.paraphrase(string))"
   ]
  },
  {
   "cell_type": "markdown",
   "metadata": {},
   "source": [
    "### Paraphrase longer string"
   ]
  },
  {
   "cell_type": "code",
   "execution_count": 14,
   "metadata": {},
   "outputs": [],
   "source": [
    "string = \"\"\"\n",
    "PELETAKAN jawatan Tun Dr Mahathir Mohamad sebagai Pengerusi Parti Pribumi Bersatu Malaysia (Bersatu) ditolak di dalam mesyuarat khas Majlis Pimpinan Tertinggi (MPT) pada 24 Februari lalu.\n",
    "\n",
    "Justeru, tidak timbul soal peletakan jawatan itu sah atau tidak kerana ia sudah pun diputuskan pada peringkat parti yang dipersetujui semua termasuk Presiden, Tan Sri Muhyiddin Yassin.\n",
    "\n",
    "Bekas Setiausaha Agung Bersatu Datuk Marzuki Yahya berkata, pada mesyuarat itu MPT sebulat suara menolak peletakan jawatan Dr Mahathir.\n",
    "\n",
    "\"Jadi ini agak berlawanan dengan keputusan yang kita sudah buat. Saya tak faham bagaimana Jabatan Pendaftar Pertubuhan Malaysia (JPPM) kata peletakan jawatan itu sah sedangkan kita sudah buat keputusan di dalam mesyuarat, bukan seorang dua yang buat keputusan.\n",
    "\n",
    "\"Semua keputusan mesti dibuat melalui parti. Walau apa juga perbincangan dibuat di luar daripada keputusan mesyuarat, ini bukan keputusan parti.\n",
    "\n",
    "\"Apa locus standy yang ada pada Setiausaha Kerja untuk membawa perkara ini kepada JPPM. Seharusnya ia dibawa kepada Setiausaha Agung sebagai pentadbir kepada parti,\" katanya kepada Harian Metro.\n",
    "\n",
    "Beliau mengulas laporan media tempatan hari ini mengenai pengesahan JPPM bahawa Dr Mahathir tidak lagi menjadi Pengerusi Bersatu berikutan peletakan jawatannya di tengah-tengah pergolakan politik pada akhir Februari adalah sah.\n",
    "\n",
    "Laporan itu juga menyatakan, kedudukan Muhyiddin Yassin memangku jawatan itu juga sah.\n",
    "\n",
    "Menurutnya, memang betul Dr Mahathir menghantar surat peletakan jawatan, tetapi ditolak oleh MPT.\n",
    "\n",
    "\"Fasal yang disebut itu terpakai sekiranya berhenti atau diberhentikan, tetapi ini mesyuarat sudah menolak,\" katanya.\n",
    "\n",
    "Marzuki turut mempersoal kenyataan media yang dibuat beberapa pimpinan parti itu hari ini yang menyatakan sokongan kepada Perikatan Nasional.\n",
    "\n",
    "\"Kenyataan media bukanlah keputusan rasmi. Walaupun kita buat 1,000 kenyataan sekali pun ia tetap tidak merubah keputusan yang sudah dibuat di dalam mesyuarat. Kita catat di dalam minit apa yang berlaku di dalam mesyuarat,\" katanya.\n",
    "\"\"\""
   ]
  },
  {
   "cell_type": "code",
   "execution_count": 15,
   "metadata": {},
   "outputs": [
    {
     "name": "stdout",
     "output_type": "stream",
     "text": [
      "('PELETAKAN jawatan Tun Dr Mahathir Mohamad sebagai Pengerusi Parti Pribumi '\n",
      " 'Bersatu Malaysia (Bersatu) ditolak di dalam mesyuarat khas Majlis Pimpinan '\n",
      " 'Tertinggi (MPT) pada 24 Februari lalu. Justeru, tidak timbul soal peletakan '\n",
      " 'jawatan itu sah atau tidak kerana ia sudah pun diputuskan pada peringkat '\n",
      " 'parti yang dipersetujui semua termasuk Presiden, Tan Sri Muhyiddin Yassin. '\n",
      " 'Bekas Setiausaha Agung Bersatu Datuk Marzuki Yahya berkata, pada mesyuarat '\n",
      " 'itu MPT sebulat suara menolak peletakan jawatan Dr Mahathir. \"Jadi ini agak '\n",
      " 'berlawanan dengan keputusan yang kita sudah buat. Saya tak faham bagaimana '\n",
      " 'Jabatan Pendaftar Pertubuhan Malaysia (JPPM) kata peletakan jawatan itu sah '\n",
      " 'sedangkan kita sudah buat keputusan di dalam mesyuarat, bukan seorang dua '\n",
      " 'yang buat keputusan. \"Semua keputusan mesti dibuat melalui parti. Walau apa '\n",
      " 'juga perbincangan dibuat di luar daripada keputusan mesyuarat, ini bukan '\n",
      " 'keputusan parti. \"Apa locus standy yang ada pada Setiausaha Kerja untuk '\n",
      " 'membawa perkara ini kepada JPPM. Seharusnya ia dibawa kepada Setiausaha '\n",
      " 'Agung sebagai pentadbir kepada parti,\" katanya kepada Harian Metro. Beliau '\n",
      " 'mengulas laporan media tempatan hari ini mengenai pengesahan JPPM bahawa Dr '\n",
      " 'Mahathir tidak lagi menjadi Pengerusi Bersatu berikutan peletakan jawatannya '\n",
      " 'di tengah-tengah pergolakan politik pada akhir Februari adalah sah. Laporan '\n",
      " 'itu juga menyatakan, kedudukan Muhyiddin Yassin memangku jawatan itu juga '\n",
      " 'sah. Menurutnya, memang betul Dr Mahathir menghantar surat peletakan '\n",
      " 'jawatan, tetapi ditolak oleh MPT. \"Fasal yang disebut itu terpakai sekiranya '\n",
      " 'berhenti atau diberhentikan, tetapi ini mesyuarat sudah menolak,\" katanya. '\n",
      " 'Marzuki turut mempersoal kenyataan media yang dibuat beberapa pimpinan parti '\n",
      " 'itu hari ini yang menyatakan sokongan kepada Perikatan Nasional. \"Kenyataan '\n",
      " 'media bukanlah keputusan rasmi. Walaupun kita buat 1,000 kenyataan sekali '\n",
      " 'pun ia tetap tidak merubah keputusan yang sudah dibuat di dalam mesyuarat. '\n",
      " 'Kita catat di dalam minit apa yang berlaku di dalam mesyuarat,\" katanya.')\n"
     ]
    }
   ],
   "source": [
    "import re\n",
    "\n",
    "# minimum cleaning, just simply to remove newlines.\n",
    "def cleaning(string):\n",
    "    string = string.replace('\\n', ' ')\n",
    "    string = re.sub(r'[ ]+', ' ', string).strip()\n",
    "    return string\n",
    "\n",
    "string = cleaning(string)\n",
    "pprint(string)"
   ]
  },
  {
   "cell_type": "markdown",
   "metadata": {},
   "source": [
    "#### T5 model"
   ]
  },
  {
   "cell_type": "code",
   "execution_count": 19,
   "metadata": {
    "scrolled": true
   },
   "outputs": [
    {
     "name": "stdout",
     "output_type": "stream",
     "text": [
      "('Peletakan jawatan Tun Dr. Mahathir sebagai Pengerusi Parti Pribumi Bersatu '\n",
      " 'Malaysia ditolak di dalam mesyuarat khas MPT (Parti Pimpinan Tertinggi) pada '\n",
      " '24 Februari lalu. Tidak kira sama ada peletakan jawatan itu sah atau tidak, '\n",
      " 'kerana sudah pun dinyatakan pada peringkat parti yang menyetujui semua, '\n",
      " 'termasuk Presiden Tan Sri Muhyiddin Yassin. Saya telah mencadangkan kepada '\n",
      " 'MPT untuk sebulat suara, kata Marzuki. \" Ini semua dibuat berlawanan dengan '\n",
      " 'keputusan yang kita sudah membuat. Saya tak faham bagaimana Jabatan '\n",
      " 'Pendaftaran Pertubuhan Malaysia (JPPM) mengatakan bahawa peletakan jawatan '\n",
      " 'itu sah, padahal kita sudah membuat keputusan di dalam pertemuan, bukan dua '\n",
      " 'orang yang membuat keputusan. \" Semua keputusan mesti dibuat oleh parti. '\n",
      " 'Tetapi keputusan untuk memberi kesan kepada perbincangan, itu bukan '\n",
      " 'keputusan parti. \" Apa yang berlaku di locus standy Setiausaha Kerja untuk '\n",
      " 'membawa perkara ini ke JPPM. Seharusnya diserahkan kepada Setiausaha Agung '\n",
      " 'sebagai pentadbir kepada parti, kata Bruno. Namun, dia menambah laporan '\n",
      " 'media tempatan hari ini mengenai pengesahan JPPM bahawa Dr Mahathir tidak '\n",
      " 'lagi menjadi pemimpin Bersatu setelah peletakan jawatan di tengah-tengah '\n",
      " 'pergolakan politik pada akhir Februari. Kedudukan Muhyiddin juga sah, kata '\n",
      " 'laporan itu. Dia mengatakan bahawa memang betul Tun Mahathir menyerahkan '\n",
      " 'surat peletakan jawatan tetapi ditolak oleh MPT. \"Fasal yang disebut itu '\n",
      " 'terpakai sekiranya berhenti atau diberhentikan, tetapi ini pertemuan sudah '\n",
      " 'menolak,\" katanya. Sebaliknya, Marzuki mempersoalkan kenyataan media '\n",
      " 'beberapa pimpinan parti hari ini yang menyatakan sokongan kepada Perikatan '\n",
      " 'Nasional. Akhbar bebas sepenuhnya menentukan keputusan rasmi mereka. '\n",
      " 'Walaupun kami membuat 1,000 kenyataan, ia tetap tidak mengubah keputusan '\n",
      " 'yang sudah dibuat di dalam mesyuarat. Kami mengambil minit apa yang berlaku '\n",
      " 'di dalam mesyuarat ini, \"kata Griffin.')\n"
     ]
    }
   ],
   "source": [
    "pprint(t5.paraphrase(string))"
   ]
  },
  {
   "cell_type": "markdown",
   "metadata": {},
   "source": [
    "You can see `Griffin` out-of-context, this is because the model trying to predict who is `katanya`, so it simply pulled random name from training set. To solve this problem, you need to do sliding windows. If we have 5 strings, simply give [s1, s2], [s2, s3] and so on the model, at least the model got some context from previous string."
   ]
  },
  {
   "cell_type": "code",
   "execution_count": 20,
   "metadata": {},
   "outputs": [
    {
     "name": "stdout",
     "output_type": "stream",
     "text": [
      "('Kedudukan Dr. Mahathir sebagai Pengerusi Parti Pribumi Bersatu Malaysia '\n",
      " '(Bersatu) ditolak di dalam mesyuarat khas Majlis Pimpinan Tertinggi (MPT) '\n",
      " 'pada 24 Februari, dan bahawa posisi beliau memangku melalui parti, dan '\n",
      " 'bahawa semua keputusan harus diambil oleh MPT, dan itu bukan keputusan '\n",
      " 'parti, tetapi sebagai kenyataan media, kata Marzuki, pemimpin yang '\n",
      " 'berpangkalan di Perlis, yang ditemui pada hari Jumaat. \"')\n"
     ]
    }
   ],
   "source": [
    "pprint(t5.paraphrase(string, split_fullstop = False))"
   ]
  },
  {
   "cell_type": "markdown",
   "metadata": {},
   "source": [
    "When you try to paraphrase entire string, the output is quite good, a summary!"
   ]
  },
  {
   "cell_type": "markdown",
   "metadata": {},
   "source": [
    "### List available LM Transformer models"
   ]
  },
  {
   "cell_type": "markdown",
   "metadata": {},
   "source": [
    "Problem with T5 models, it built on top of mesh-tensorflow, so the input must size of 1. So we use Tensor2Tensor library to train exact model as T5 with dynamic size of batch.\n",
    "\n",
    "**But, we found out, our pretrained LM Transformer not good as T5**, we might skipped some literature in t5 papers."
   ]
  },
  {
   "cell_type": "code",
   "execution_count": 3,
   "metadata": {},
   "outputs": [
    {
     "name": "stderr",
     "output_type": "stream",
     "text": [
      "INFO:root:tested on 1k paraphrase texts.\n"
     ]
    },
    {
     "data": {
      "text/html": [
       "<div>\n",
       "<style scoped>\n",
       "    .dataframe tbody tr th:only-of-type {\n",
       "        vertical-align: middle;\n",
       "    }\n",
       "\n",
       "    .dataframe tbody tr th {\n",
       "        vertical-align: top;\n",
       "    }\n",
       "\n",
       "    .dataframe thead th {\n",
       "        text-align: right;\n",
       "    }\n",
       "</style>\n",
       "<table border=\"1\" class=\"dataframe\">\n",
       "  <thead>\n",
       "    <tr style=\"text-align: right;\">\n",
       "      <th></th>\n",
       "      <th>Size (MB)</th>\n",
       "      <th>Quantized Size (MB)</th>\n",
       "      <th>BLEU</th>\n",
       "    </tr>\n",
       "  </thead>\n",
       "  <tbody>\n",
       "    <tr>\n",
       "      <th>small</th>\n",
       "      <td>379.0</td>\n",
       "      <td>120.0</td>\n",
       "      <td>0.5534</td>\n",
       "    </tr>\n",
       "    <tr>\n",
       "      <th>base</th>\n",
       "      <td>832.0</td>\n",
       "      <td>279.0</td>\n",
       "      <td>0.5970</td>\n",
       "    </tr>\n",
       "  </tbody>\n",
       "</table>\n",
       "</div>"
      ],
      "text/plain": [
       "       Size (MB)  Quantized Size (MB)    BLEU\n",
       "small      379.0                120.0  0.5534\n",
       "base       832.0                279.0  0.5970"
      ]
     },
     "execution_count": 3,
     "metadata": {},
     "output_type": "execute_result"
    }
   ],
   "source": [
    "malaya.paraphrase.available_transformer()"
   ]
  },
  {
   "cell_type": "markdown",
   "metadata": {},
   "source": [
    "### Load Transformer"
   ]
  },
  {
   "cell_type": "code",
   "execution_count": 20,
   "metadata": {},
   "outputs": [],
   "source": [
    "model = malaya.paraphrase.transformer()"
   ]
  },
  {
   "cell_type": "markdown",
   "metadata": {},
   "source": [
    "### Load Quantized model\n",
    "\n",
    "To load 8-bit quantized model, simply pass `quantized = True`, default is `False`.\n",
    "\n",
    "We can expect slightly accuracy drop from quantized model, and not necessary faster than normal 32-bit float model, totally depends on machine."
   ]
  },
  {
   "cell_type": "code",
   "execution_count": 10,
   "metadata": {},
   "outputs": [
    {
     "name": "stderr",
     "output_type": "stream",
     "text": [
      "WARNING:root:Load quantized model will cause accuracy drop.\n"
     ]
    }
   ],
   "source": [
    "quantized_model = malaya.paraphrase.transformer(quantized = True)"
   ]
  },
  {
   "cell_type": "markdown",
   "metadata": {},
   "source": [
    "#### decoder mode\n",
    "\n",
    "LM Transformer provided 3 different decoder for summarization,\n",
    "\n",
    "1. greedy decoder, simply argmax,\n",
    "\n",
    "```python\n",
    "model.summarization([string], decoder = 'greedy')\n",
    "```\n",
    "\n",
    "2. beam decoder, Beam width size 3, alpha 0.5 .\n",
    "\n",
    "```python\n",
    "model.summarization([string], decoder = 'beam')\n",
    "```\n",
    "\n",
    "3. nucleus sampling decoder, Beam width size 1, with nucleus sampling.\n",
    "\n",
    "```python\n",
    "model.summarization([string], decoder = 'nucleus', top_p = 0.7)\n",
    "```\n",
    "\n",
    "default is `greedy`,\n",
    "\n",
    "```python\n",
    "def paraphrase(\n",
    "    self,\n",
    "    strings: List[str],\n",
    "    decoder: str = 'greedy',\n",
    "    top_p: float = 0.7,\n",
    "):\n",
    "    \"\"\"\n",
    "    Summarize strings.\n",
    "\n",
    "    Parameters\n",
    "    ----------\n",
    "\n",
    "    decoder: str\n",
    "        mode for summarization decoder. Allowed values:\n",
    "\n",
    "        * ``'greedy'`` - Beam width size 1, alpha 0.\n",
    "        * ``'beam'`` - Beam width size 3, alpha 0.5 .\n",
    "        * ``'nucleus'`` - Beam width size 1, with nucleus sampling.\n",
    "\n",
    "    top_p: float, (default=0.7)\n",
    "        cumulative distribution and cut off as soon as the CDF exceeds `top_p`.\n",
    "        this is only useful if use `nucleus` decoder.\n",
    "```"
   ]
  },
  {
   "cell_type": "code",
   "execution_count": 5,
   "metadata": {},
   "outputs": [],
   "source": [
    "string = \"\"\"\n",
    "PELETAKAN jawatan Tun Dr Mahathir Mohamad sebagai Pengerusi Parti Pribumi Bersatu Malaysia (Bersatu) ditolak di dalam mesyuarat khas Majlis Pimpinan Tertinggi (MPT) pada 24 Februari lalu.\n",
    "\n",
    "Justeru, tidak timbul soal peletakan jawatan itu sah atau tidak kerana ia sudah pun diputuskan pada peringkat parti yang dipersetujui semua termasuk Presiden, Tan Sri Muhyiddin Yassin.\n",
    "\n",
    "Bekas Setiausaha Agung Bersatu Datuk Marzuki Yahya berkata, pada mesyuarat itu MPT sebulat suara menolak peletakan jawatan Dr Mahathir.\n",
    "\n",
    "\"Jadi ini agak berlawanan dengan keputusan yang kita sudah buat. Saya tak faham bagaimana Jabatan Pendaftar Pertubuhan Malaysia (JPPM) kata peletakan jawatan itu sah sedangkan kita sudah buat keputusan di dalam mesyuarat, bukan seorang dua yang buat keputusan.\n",
    "\n",
    "\"Semua keputusan mesti dibuat melalui parti. Walau apa juga perbincangan dibuat di luar daripada keputusan mesyuarat, ini bukan keputusan parti.\n",
    "\n",
    "\"Apa locus standy yang ada pada Setiausaha Kerja untuk membawa perkara ini kepada JPPM. Seharusnya ia dibawa kepada Setiausaha Agung sebagai pentadbir kepada parti,\" katanya kepada Harian Metro.\n",
    "\n",
    "Beliau mengulas laporan media tempatan hari ini mengenai pengesahan JPPM bahawa Dr Mahathir tidak lagi menjadi Pengerusi Bersatu berikutan peletakan jawatannya di tengah-tengah pergolakan politik pada akhir Februari adalah sah.\n",
    "\n",
    "Laporan itu juga menyatakan, kedudukan Muhyiddin Yassin memangku jawatan itu juga sah.\n",
    "\n",
    "Menurutnya, memang betul Dr Mahathir menghantar surat peletakan jawatan, tetapi ditolak oleh MPT.\n",
    "\n",
    "\"Fasal yang disebut itu terpakai sekiranya berhenti atau diberhentikan, tetapi ini mesyuarat sudah menolak,\" katanya.\n",
    "\n",
    "Marzuki turut mempersoal kenyataan media yang dibuat beberapa pimpinan parti itu hari ini yang menyatakan sokongan kepada Perikatan Nasional.\n",
    "\n",
    "\"Kenyataan media bukanlah keputusan rasmi. Walaupun kita buat 1,000 kenyataan sekali pun ia tetap tidak merubah keputusan yang sudah dibuat di dalam mesyuarat. Kita catat di dalam minit apa yang berlaku di dalam mesyuarat,\" katanya.\n",
    "\"\"\""
   ]
  },
  {
   "cell_type": "code",
   "execution_count": 6,
   "metadata": {},
   "outputs": [],
   "source": [
    "import re\n",
    "\n",
    "# minimum cleaning, just simply to remove newlines.\n",
    "def cleaning(string):\n",
    "    string = string.replace('\\n', ' ')\n",
    "    string = re.sub(r'[ ]+', ' ', string).strip()\n",
    "    return string\n",
    "\n",
    "string = cleaning(string)\n",
    "splitted = malaya.text.function.split_into_sentences(string)"
   ]
  },
  {
   "cell_type": "code",
   "execution_count": 9,
   "metadata": {},
   "outputs": [
    {
     "data": {
      "text/plain": [
       "'PELETAKAN jawatan Tun Dr Mahathir Mohamad sebagai Pengerusi Parti Pribumi Bersatu Malaysia (Bersatu) ditolak di dalam mesyuarat khas Majlis Pimpinan Tertinggi (MPT) pada 24 Februari lalu. Justeru, tidak timbul soal peletakan jawatan itu sah atau tidak kerana ia sudah pun diputuskan pada peringkat parti yang dipersetujui semua termasuk Presiden, Tan Sri Muhyiddin Yassin.'"
      ]
     },
     "execution_count": 9,
     "metadata": {},
     "output_type": "execute_result"
    }
   ],
   "source": [
    "' '.join(splitted[:2])"
   ]
  },
  {
   "cell_type": "code",
   "execution_count": 16,
   "metadata": {},
   "outputs": [
    {
     "data": {
      "text/plain": [
       "['PELETAKAN pengunduran Tun Dr. Mahathir sebagai ketua Parti Pribumi Bersatu Malaysia (Bersatu) dibincangkan pada 24 Februari lalu di dalam mesyuarat khas Majlis Pimpinan Tertinggi (MPT), dan tidak ada keraguan bahawa peletakan jawatan itu sah atau tidak, kerana ia sudah diputuskan pada peringkat parti yang menyetujui semua Presiden, Tan Sri Muhyiddin Yassin.']"
      ]
     },
     "execution_count": 16,
     "metadata": {},
     "output_type": "execute_result"
    }
   ],
   "source": [
    "model.paraphrase([' '.join(splitted[:2])], decoder = 'greedy')"
   ]
  },
  {
   "cell_type": "code",
   "execution_count": 7,
   "metadata": {},
   "outputs": [
    {
     "data": {
      "text/plain": [
       "['PELETAKAN pengunduran Tun Dr. Mahathir sebagai ketua Parti Pribumi Bersatu Malaysia (Bersatu) dibincangkan pada 24 Februari lalu di dalam mesyuarat khas Majlis Pimpinan Tertinggi (MPT), dan tidak ada keraguan bahawa peletakan jawatan itu sah atau tidak, kerana ia telah diputuskan pada peringkat parti yang menyetujui semua Presiden, Tan Sri Muhyiddin Yassin.']"
      ]
     },
     "execution_count": 7,
     "metadata": {},
     "output_type": "execute_result"
    }
   ],
   "source": [
    "quantized_model.paraphrase([' '.join(splitted[:2])], decoder = 'greedy')"
   ]
  },
  {
   "cell_type": "code",
   "execution_count": 18,
   "metadata": {},
   "outputs": [
    {
     "data": {
      "text/plain": [
       "['PELETAKAN pengunduran Tun Dr. Mahathir sebagai ketua Parti Pribumi Bersatu Malaysia (Bersatu) dibincangkan pada 24 Februari lalu di dalam mesyuarat khas Majlis Pimpinan Tertinggi (MPT), dan tentu saja tidak ada keraguan bahawa peletakan jawatan itu sah atau tidak dibuat pada peringkat parti yang menyetujui semua, termasuk Presiden, Tan Sri Muhyiddin Yassin.']"
      ]
     },
     "execution_count": 18,
     "metadata": {},
     "output_type": "execute_result"
    }
   ],
   "source": [
    "model.paraphrase([' '.join(splitted[:2])], decoder = 'beam')"
   ]
  },
  {
   "cell_type": "code",
   "execution_count": 8,
   "metadata": {},
   "outputs": [
    {
     "data": {
      "text/plain": [
       "['PELETAKAN pengunduran Tun Dr. Mahathir sebagai ketua Parti Pribumi Bersatu Malaysia (Bersatu) dibincangkan pada 24 Februari lalu di dalam mesyuarat Majlis Pimpinan Tertinggi (MPT), dan tidak ada keraguan bahawa peletakan jawatan itu sah atau tidak, kerana ia telah diputuskan pada peringkat parti yang menyetujui semua Presiden, Tan Sri Muhyiddin Yassin.']"
      ]
     },
     "execution_count": 8,
     "metadata": {},
     "output_type": "execute_result"
    }
   ],
   "source": [
    "quantized_model.paraphrase([' '.join(splitted[:2])], decoder = 'beam')"
   ]
  },
  {
   "cell_type": "code",
   "execution_count": 19,
   "metadata": {},
   "outputs": [
    {
     "data": {
      "text/plain": [
       "['PELETAKAN pengunduran Tun Dr. Mahathir sebagai ketua Parti Pribumi Bersatu Malaysia (Bersatu) dibincangkan pada 24 Februari lalu di dalam mesyuarat Majlis Pimpinan Tertinggi (MPT), dan tidak ada persoalan bahawa peletakan jawatan itu sah atau tidak, kerana telah diputuskan pada peringkat parti yang menyetujui semua, termasuk Presiden, Tan Sri Muhyiddin Yassin.']"
      ]
     },
     "execution_count": 19,
     "metadata": {},
     "output_type": "execute_result"
    }
   ],
   "source": [
    "model.paraphrase([' '.join(splitted[:2])], decoder = 'nucleus', top_p = 0.7)"
   ]
  }
 ],
 "metadata": {
  "kernelspec": {
   "display_name": "Python 3",
   "language": "python",
   "name": "python3"
  },
  "language_info": {
   "codemirror_mode": {
    "name": "ipython",
    "version": 3
   },
   "file_extension": ".py",
   "mimetype": "text/x-python",
   "name": "python",
   "nbconvert_exporter": "python",
   "pygments_lexer": "ipython3",
   "version": "3.7.7"
  }
 },
 "nbformat": 4,
 "nbformat_minor": 2
}
