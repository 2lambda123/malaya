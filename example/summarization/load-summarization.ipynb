{
 "cells": [
  {
   "cell_type": "code",
   "execution_count": 1,
   "metadata": {},
   "outputs": [
    {
     "name": "stdout",
     "output_type": "stream",
     "text": [
      "CPU times: user 12.3 s, sys: 1.53 s, total: 13.8 s\n",
      "Wall time: 17.8 s\n"
     ]
    }
   ],
   "source": [
    "%%time\n",
    "import malaya"
   ]
  },
  {
   "cell_type": "code",
   "execution_count": 2,
   "metadata": {},
   "outputs": [],
   "source": [
    "isu_kerajaan = [\n",
    "    'Kenyataan kontroversi Setiausaha Agung Barisan Nasional (BN), Datuk Seri Mohamed Nazri Aziz berhubung sekolah vernakular merupakan pandangan peribadi beliau',\n",
    "    'Timbalan Presiden UMNO, Datuk Seri Mohamad Hasan berkata, kenyataan tersebut tidak mewakili pendirian serta pandangan UMNO \\n\\nkerana parti itu menghormati serta memahami keperluan sekolah vernakular dalam negara',\n",
    "    '\"Saya ingin menegaskan dua perkara penting',\n",
    "    'Pertama pendirian beliau tersebut adalah pandangan peribadi yang tidak mewakili pendirian dan pandangan UMNO',\n",
    "    '\"Kedua UMNO sebagai sebuah parti sangat menghormati dan memahami keperluan sekolah vernakular di Malaysia',\n",
    "    'UMNO berpendirian sekolah jenis ini perlu terus wujud di negara kita,\" katanya dalam satu kenyataan akhbar malam ini',\n",
    "    'Mohamed Nazri semalam menjelaskan, kenyataannya mengenai sekolah jenis kebangsaan Cina dan Tamil baru-baru ini disalah petik pihak media',\n",
    "    'Kata Nazri dalam kenyataannya itu, beliau menekankan bahawa semua pihak perlu menghormati hak orang Melayu dan bumiputera',\n",
    "    'Mohamad yang menjalankan tugas-tugas Presiden UMNO berkata, UMNO konsisten dengan pendirian itu dalam mengiktiraf kepelbagaian bangsa dan etnik termasuk hak untuk beragama serta mendapat pendidikan',\n",
    "    'Menurut beliau, persefahaman dan keupayaan meraikan kepelbagaian itu menjadi kelebihan dan kekuatan UMNO dan BN selama ini',\n",
    "    'Kata beliau, komitmen UMNO dan BN berhubung perkara itu dapat dilihat dengan jelas dalam bentuk sokongan infrastruktur, pengiktirafan dan pemberian peruntukan yang diperlukan',\n",
    "    '\"Saya berharap isu ini tidak dipolitikkan secara tidak bertanggungjawab oleh mana-mana pihak terutama dengan cara yang tidak menggambarkan pendirian sebenar UMNO dan BN,\" katanya',\n",
    "    'Beliau turut menegaskan Mohamed Nazri telah mengambil pertanggungjawaban dengan membuat penjelasan maksud sebenarnya ucapanny di Semenyih, Selangor tersebut',\n",
    "]"
   ]
  },
  {
   "cell_type": "code",
   "execution_count": 3,
   "metadata": {},
   "outputs": [],
   "source": [
    "isu_string = '\\n\\n\\n\\nDUA legenda hebat dan ‘The living legend’ ini sudah memartabatkan bidang muzik sejak lebih tiga dekad lalu. Jika Datuk Zainal Abidin, 59, dikenali sebagai penyanyi yang memperjuangkan konsep ‘world music’, Datuk Sheila Majid, 55, pula lebih dikenali dengan irama jazz dan R&B.\\n\\nNamun, ada satu persamaan yang mengeratkan hubungan mereka kerana sama-sama mencintai bidang muzik sejak dulu.\\n\\nKetika ditemui dalam sesi fotografi yang diatur di Balai Berita, baru-baru ini, Zainal berkata, dia lebih ‘senior’ daripada Sheila kerana bermula dengan kumpulan Headwind sebelum menempa nama sebagai penyanyi solo.\\n\\n“Saya mula berkawan rapat dengan Sheila ketika sama-sama bernaung di bawah pengurusan Roslan Aziz Productions (RAP) selepas membina karier sebagai artis solo.\\n\\n“Namun, selepas tidak lagi bernaung di bawah RAP, kami juga membawa haluan karier seni masing-masing selepas itu,” katanya.\\n\\nJusteru katanya, dia memang menanti peluang berganding dengan Sheila dalam satu konsert.\\n\\nPenyanyi yang popular dengan lagu Hijau dan Ikhlas Tapi Jauh itu mengakui mereka memang ada keserasian ketika bergandingan kerana membesar pada era muzik yang sama.\\n\\n“Kami memang meminati bidang muzik dan saling memahami antara satu sama lain. Mungkin kerana kami berdua sudah berada pada tahap di puncak karier muzik masing-masing.\\n\\n“Saya bersama Sheila serta Datuk Afdlin Shauki akan terbabit dalam satu segmen yang ditetapkan.\\n\\n“Selain persembahan solo, saya juga berduet dengan Sheila dan Afdlin dalam segmen interaktif ini. Setiap penyanyi akan menyampaikan enam hingga tujuh lagu setiap seorang sepanjang konsert yang berlangsung tiga hari ini,” katanya.\\n\\nBagi Sheila pula, dia memang ada terbabit dengan beberapa persembahan bersama Zainal cuma tiada publisiti ketika itu.\\n\\n“Kami pernah terbabit dengan showcase dan majlis korporat sebelum ini. Selain itu, Zainal juga terbabit dengan Konsert Legenda yang membabitkan jelajah empat lokasi sebelum ini.\\n\\n“Sebab itu, saya sukar menolak untuk bekerjasama dengannya dalam Festival KL Jamm yang dianjurkan buat julung kali dan berkongsi pentas dalam satu konsert bertaraf antarabangsa,” katanya.\\n\\n\\n\\nFESTIVAL KL Jamm bakal menggabungkan pelbagai genre muzik seperti rock, hip hop, jazz dan pop dengan lebih 100 persembahan, 20 ‘showcase’ dan pameran.\\n\\nKonsert berbayar\\n\\n\\n\\nMewakili golongan anak seni, Sheila menaruh harapan semoga Festival KL Jamm akan menjadi platform buat artis yang sudah ada nama dan artis muda untuk membuat persembahan, sekali gus sama-sama memartabatkan industri muzik tempatan.\\n\\nMenurut Sheila, dia juga mencadangkan lebih banyak tempat diwujudkan untuk menggalakkan artis muda membuat persembahan, sekali gus menggilap bakat mereka.\\n\\n“Berbanding pada zaman saya dulu, artis muda sekarang tidak banyak tempat khusus untuk mereka menyanyi dan menonjolkan bakat di tempat awam.\\n\\n“Rata-rata hanya sekadar menyanyi di laman Instagram dan cuma dikenali menerusi satu lagu. Justeru, bagaimana mereka mahu buat showcase kalau hanya dikenali dengan satu lagu?” katanya.\\n\\nPada masa sama, Sheila juga merayu peminat tempatan untuk sama-sama memberi sokongan pada penganjuran festival KL Jamm sekali gus mencapai objektifnya.\\n\\n“Peminat perlu ubah persepsi negatif mereka dengan menganggap persembahan artis tempatan tidak bagus.\\n\\n“Kemasukan artis luar juga perlu dilihat dari sudut yang positif kerana kita perlu belajar bagaimana untuk menjadi bagus seperti mereka,” katanya.\\n\\nSementara itu, Zainal pula berharap festival itu akan mendidik orang ramai untuk menonton konsert berbayar serta memberi sokongan pada artis tempatan.\\n\\n“Ramai yang hanya meminati artis tempatan tetapi tidak mahu mengeluarkan sedikit wang untuk membeli tiket konsert mereka.\\n\\n“Sedangkan artis juga menyanyi untuk kerjaya dan ia juga punca pendapatan bagi menyara hidup,” katanya.\\n\\nFestival KL Jamm bakal menghimpunkan barisan artis tempatan baru dan nama besar dalam konsert iaitu Datuk Ramli Sarip, Datuk Afdlin Shauki, Zamani, Amelina, Radhi OAG, Dr Burn, Santesh, Rabbit Mac, Sheezy, kumpulan Bunkface, Ruffedge, Pot Innuendo, artis dari Kartel (Joe Flizzow, Sona One, Ila Damia, Yung Raja, Faris Jabba dan Abu Bakarxli) dan Malaysia Pasangge (artis India tempatan).\\n\\nManakala, artis antarabangsa pula membabitkan J Arie (Hong Kong), NCT Dream (Korea Selatan) dan DJ Sura (Korea Selatan).\\n\\nKL Jamm dianjurkan Music Unlimited International Sdn Bhd dan bakal menggabungkan pelbagai genre muzik seperti rock, hip hop, jazz dan pop dengan lebih 100 persembahan, 20 ‘showcase’, pameran dan perdagangan berkaitan.\\n\\nFestival tiga hari itu bakal berlangsung di Pusat Pameran dan Perdagangan Antarabangsa Malaysia (MITEC), Kuala Lumpur pada 26 hingga 28 April ini.\\n\\nMaklumat mengenai pembelian tiket dan keterangan lanjut boleh melayari www.kljamm.com.'"
   ]
  },
  {
   "cell_type": "markdown",
   "metadata": {},
   "source": [
    "We also can give a string, Malaya will always split a string by into multiple sentences.\n",
    "\n",
    "Important parameters,\n",
    "\n",
    "1. `top_k`, number of summarized strings.\n",
    "2. `important_words`, number of important words."
   ]
  },
  {
   "cell_type": "markdown",
   "metadata": {},
   "source": [
    "## List available deep extractive models"
   ]
  },
  {
   "cell_type": "code",
   "execution_count": 4,
   "metadata": {},
   "outputs": [
    {
     "data": {
      "text/plain": [
       "['skip-thought', 'residual-network']"
      ]
     },
     "execution_count": 4,
     "metadata": {},
     "output_type": "execute_result"
    }
   ],
   "source": [
    "malaya.summarize.available_deep_extractive()"
   ]
  },
  {
   "cell_type": "markdown",
   "metadata": {},
   "source": [
    "* ``'skip-thought'`` - skip-thought summarization deep learning model trained on news dataset. Hopefully we can train on wikipedia dataset.\n",
    "* ``'residual-network'`` - residual network with Bahdanau Attention summarization deep learning model trained on wikipedia dataset.\n",
    "\n",
    "We use TextRank for scoring algorithm."
   ]
  },
  {
   "cell_type": "markdown",
   "metadata": {},
   "source": [
    "## Load Pretrained extractive skip-thought summarization"
   ]
  },
  {
   "cell_type": "code",
   "execution_count": 5,
   "metadata": {},
   "outputs": [],
   "source": [
    "deep_summary = malaya.summarize.deep_extractive(model = 'skip-thought')"
   ]
  },
  {
   "cell_type": "code",
   "execution_count": 6,
   "metadata": {},
   "outputs": [
    {
     "data": {
      "text/plain": [
       "{'summary': 'Bagi Sheila pula, dia memang ada terbabit dengan beberapa persembahan bersama Zainal cuma tiada publisiti ketika itu. \"Sebab itu, saya sukar menolak untuk bekerjasama dengannya dalam Festival KL Jamm yang dianjurkan buat julung kali dan berkongsi pentas dalam satu konsert bertaraf antarabangsa,\" katanya. \"Saya bersama Sheila serta Datuk Afdlin Shauki akan terbabit dalam satu segmen yang ditetapkan.',\n",
       " 'top-words': ['dumex',\n",
       "  'unchallenged',\n",
       "  'yussoffkaunsel',\n",
       "  'sharmini',\n",
       "  'merotan',\n",
       "  'vienna',\n",
       "  'pancaroba',\n",
       "  'kepulangan',\n",
       "  'mandat',\n",
       "  'kelembaban'],\n",
       " 'cluster-top-words': ['unchallenged',\n",
       "  'kelembaban',\n",
       "  'yussoffkaunsel',\n",
       "  'dumex',\n",
       "  'sharmini',\n",
       "  'merotan',\n",
       "  'pancaroba',\n",
       "  'kepulangan',\n",
       "  'mandat',\n",
       "  'vienna']}"
      ]
     },
     "execution_count": 6,
     "metadata": {},
     "output_type": "execute_result"
    }
   ],
   "source": [
    "deep_summary.summarize(isu_string,important_words=10)"
   ]
  },
  {
   "cell_type": "code",
   "execution_count": 7,
   "metadata": {},
   "outputs": [
    {
     "data": {
      "text/plain": [
       "{'summary': 'Pertama pendirian beliau tersebut adalah pandangan peribadi yang tidak mewakili pendirian dan pandangan UMNO. UMNO berpendirian sekolah jenis ini perlu terus wujud di negara kita,\" katanya dalam satu kenyataan akhbar malam ini. \"Saya berharap isu ini tidak dipolitikkan secara tidak bertanggungjawab oleh mana-mana pihak terutama dengan cara yang tidak menggambarkan pendirian sebenar UMNO dan BN,\" katanya.',\n",
       " 'top-words': ['bersabdabarangsiapa',\n",
       "  'kepulangan',\n",
       "  'seliakekurangan',\n",
       "  'poupart',\n",
       "  'sharmini',\n",
       "  'pembikin',\n",
       "  'sakailah',\n",
       "  'chusus',\n",
       "  'mempunya',\n",
       "  'diharap'],\n",
       " 'cluster-top-words': ['bersabdabarangsiapa',\n",
       "  'sharmini',\n",
       "  'poupart',\n",
       "  'diharap',\n",
       "  'kepulangan',\n",
       "  'pembikin',\n",
       "  'seliakekurangan',\n",
       "  'sakailah',\n",
       "  'mempunya',\n",
       "  'chusus']}"
      ]
     },
     "execution_count": 7,
     "metadata": {},
     "output_type": "execute_result"
    }
   ],
   "source": [
    "deep_summary.summarize(isu_kerajaan,important_words=10)"
   ]
  },
  {
   "cell_type": "markdown",
   "metadata": {},
   "source": [
    "You also can change sentences to vector representation using `vectorize()`."
   ]
  },
  {
   "cell_type": "code",
   "execution_count": 8,
   "metadata": {},
   "outputs": [
    {
     "data": {
      "text/plain": [
       "(12, 128)"
      ]
     },
     "execution_count": 8,
     "metadata": {},
     "output_type": "execute_result"
    }
   ],
   "source": [
    "deep_summary.vectorize(isu_kerajaan).shape"
   ]
  },
  {
   "cell_type": "code",
   "execution_count": 9,
   "metadata": {},
   "outputs": [
    {
     "data": {
      "text/plain": [
       "(34, 128)"
      ]
     },
     "execution_count": 9,
     "metadata": {},
     "output_type": "execute_result"
    }
   ],
   "source": [
    "deep_summary.vectorize(isu_string).shape"
   ]
  },
  {
   "cell_type": "markdown",
   "metadata": {},
   "source": [
    "## Load Pretrained extractive residual-network summarization"
   ]
  },
  {
   "cell_type": "code",
   "execution_count": 10,
   "metadata": {},
   "outputs": [],
   "source": [
    "deep_summary = malaya.summarize.deep_extractive(model = 'residual-network')"
   ]
  },
  {
   "cell_type": "code",
   "execution_count": 11,
   "metadata": {},
   "outputs": [
    {
     "data": {
      "text/plain": [
       "{'summary': \"Manakala, artis antarabangsa pula membabitkan J Arie (Hong Kong), NCT Dream (Korea Selatan) dan DJ Sura (Korea Selatan). DUA legenda hebat dan 'The living legend' ini sudah memartabatkan bidang muzik sejak lebih tiga dekad lalu. Bagi Sheila pula, dia memang ada terbabit dengan beberapa persembahan bersama Zainal cuma tiada publisiti ketika itu.\",\n",
       " 'top-words': ['jagaannya',\n",
       "  'ferdy',\n",
       "  'hoe',\n",
       "  'laksmi',\n",
       "  'zulkifli',\n",
       "  'televisyen',\n",
       "  'lanun',\n",
       "  'ongr',\n",
       "  'sharidake',\n",
       "  'kawan'],\n",
       " 'cluster-top-words': ['sharidake',\n",
       "  'hoe',\n",
       "  'ferdy',\n",
       "  'lanun',\n",
       "  'zulkifli',\n",
       "  'laksmi',\n",
       "  'televisyen',\n",
       "  'ongr',\n",
       "  'jagaannya',\n",
       "  'kawan']}"
      ]
     },
     "execution_count": 11,
     "metadata": {},
     "output_type": "execute_result"
    }
   ],
   "source": [
    "deep_summary.summarize(isu_string,important_words=10)"
   ]
  },
  {
   "cell_type": "code",
   "execution_count": 12,
   "metadata": {},
   "outputs": [
    {
     "data": {
      "text/plain": [
       "{'summary': 'Timbalan Presiden UMNO, Datuk Seri Mohamad Hasan berkata, kenyataan tersebut tidak mewakili pendirian serta pandangan UMNO   kerana parti itu menghormati serta memahami keperluan sekolah vernakular dalam negara. \"Saya ingin menegaskan dua perkara penting. \"Saya berharap isu ini tidak dipolitikkan secara tidak bertanggungjawab oleh mana-mana pihak terutama dengan cara yang tidak menggambarkan pendirian sebenar UMNO dan BN,\" katanya.',\n",
       " 'top-words': ['jagaannya',\n",
       "  'ferdy',\n",
       "  'hoe',\n",
       "  'zulkifli',\n",
       "  'lanun',\n",
       "  'laksmi',\n",
       "  'ongr',\n",
       "  'televisyen',\n",
       "  'kawan',\n",
       "  'sharidake'],\n",
       " 'cluster-top-words': ['sharidake',\n",
       "  'hoe',\n",
       "  'ferdy',\n",
       "  'lanun',\n",
       "  'zulkifli',\n",
       "  'laksmi',\n",
       "  'televisyen',\n",
       "  'ongr',\n",
       "  'jagaannya',\n",
       "  'kawan']}"
      ]
     },
     "execution_count": 12,
     "metadata": {},
     "output_type": "execute_result"
    }
   ],
   "source": [
    "deep_summary.summarize(isu_kerajaan,important_words=10)"
   ]
  },
  {
   "cell_type": "markdown",
   "metadata": {},
   "source": [
    "You also can change sentences to vector representation using `vectorize()`."
   ]
  },
  {
   "cell_type": "code",
   "execution_count": 13,
   "metadata": {},
   "outputs": [
    {
     "data": {
      "text/plain": [
       "(12, 64)"
      ]
     },
     "execution_count": 13,
     "metadata": {},
     "output_type": "execute_result"
    }
   ],
   "source": [
    "deep_summary.vectorize(isu_kerajaan).shape"
   ]
  },
  {
   "cell_type": "code",
   "execution_count": 14,
   "metadata": {},
   "outputs": [
    {
     "data": {
      "text/plain": [
       "(34, 64)"
      ]
     },
     "execution_count": 14,
     "metadata": {},
     "output_type": "execute_result"
    }
   ],
   "source": [
    "deep_summary.vectorize(isu_string).shape"
   ]
  },
  {
   "cell_type": "markdown",
   "metadata": {},
   "source": [
    "## Train LSA model"
   ]
  },
  {
   "cell_type": "markdown",
   "metadata": {},
   "source": [
    "Important parameters,\n",
    "\n",
    "1. `vectorizer`, vectorizer technique. Allowed values:\n",
    "    * ``'bow'`` - Bag of Word.\n",
    "    * ``'tfidf'`` - Term frequency inverse Document Frequency.\n",
    "    * ``'skip-gram'`` - Bag of Word with skipping certain n-grams.\n",
    "2. `ngram`, n-grams size to train a corpus.\n",
    "3. `important_words`, number of important words.\n",
    "4. `top_k`, number of summarized strings."
   ]
  },
  {
   "cell_type": "code",
   "execution_count": 4,
   "metadata": {},
   "outputs": [
    {
     "data": {
      "text/plain": [
       "{'summary': 'Timbalan Presiden UMNO, Datuk Seri Mohamad Hasan berkata, kenyataan tersebut tidak mewakili pendirian serta pandangan UMNO   kerana parti itu menghormati serta memahami keperluan sekolah vernakular dalam negara. \"Saya berharap isu ini tidak dipolitikkan secara tidak bertanggungjawab oleh mana-mana pihak terutama dengan cara yang tidak menggambarkan pendirian sebenar UMNO dan BN,\" katanya. UMNO berpendirian sekolah jenis ini perlu terus wujud di negara kita,\" katanya dalam satu kenyataan akhbar malam ini.',\n",
       " 'top-words': ['umno',\n",
       "  'nyata',\n",
       "  'sekolah',\n",
       "  'pandang',\n",
       "  'vernakular',\n",
       "  'hormat',\n",
       "  'sekolah vernakular',\n",
       "  'nazri',\n",
       "  'hormat paham',\n",
       "  'hak'],\n",
       " 'cluster-top-words': ['hak',\n",
       "  'pandang',\n",
       "  'sekolah vernakular',\n",
       "  'hormat paham',\n",
       "  'umno',\n",
       "  'nazri',\n",
       "  'nyata']}"
      ]
     },
     "execution_count": 4,
     "metadata": {},
     "output_type": "execute_result"
    }
   ],
   "source": [
    "malaya.summarize.lsa(isu_kerajaan,important_words=10)"
   ]
  },
  {
   "cell_type": "markdown",
   "metadata": {},
   "source": [
    "We can use `tfidf` as vectorizer."
   ]
  },
  {
   "cell_type": "code",
   "execution_count": 8,
   "metadata": {},
   "outputs": [
    {
     "data": {
      "text/plain": [
       "{'summary': 'Timbalan Presiden UMNO, Datuk Seri Mohamad Hasan berkata, kenyataan tersebut tidak mewakili pendirian serta pandangan UMNO   kerana parti itu menghormati serta memahami keperluan sekolah vernakular dalam negara. Mohamad yang menjalankan tugas-tugas Presiden UMNO berkata, UMNO konsisten dengan pendirian itu dalam mengiktiraf kepelbagaian bangsa dan etnik termasuk hak untuk beragama serta mendapat pendidikan. UMNO berpendirian sekolah jenis ini perlu terus wujud di negara kita,\" katanya dalam satu kenyataan akhbar malam ini.',\n",
       " 'top-words': ['wakil pandang umno',\n",
       "  'mohamed',\n",
       "  'paham sekolah vernakular',\n",
       "  'paham sekolah',\n",
       "  'paham',\n",
       "  'negara',\n",
       "  'nazri nyata',\n",
       "  'mohamed nazri',\n",
       "  'mohamad',\n",
       "  'pandang peribadi'],\n",
       " 'cluster-top-words': ['pandang peribadi',\n",
       "  'wakil pandang umno',\n",
       "  'nazri nyata',\n",
       "  'negara',\n",
       "  'paham sekolah vernakular',\n",
       "  'mohamad',\n",
       "  'mohamed nazri']}"
      ]
     },
     "execution_count": 8,
     "metadata": {},
     "output_type": "execute_result"
    }
   ],
   "source": [
    "malaya.summarize.lsa(isu_kerajaan,important_words=10, ngram = (1,3), vectorizer = 'tfidf')"
   ]
  },
  {
   "cell_type": "markdown",
   "metadata": {},
   "source": [
    "We can use `skip-gram` as vectorizer, and can override `skip` value."
   ]
  },
  {
   "cell_type": "code",
   "execution_count": 11,
   "metadata": {},
   "outputs": [
    {
     "data": {
      "text/plain": [
       "{'summary': 'Mohamed Nazri semalam menjelaskan, kenyataannya mengenai sekolah jenis kebangsaan Cina dan Tamil baru-baru ini disalah petik pihak media. UMNO berpendirian sekolah jenis ini perlu terus wujud di negara kita,\" katanya dalam satu kenyataan akhbar malam ini. Kata Nazri dalam kenyataannya itu, beliau menekankan bahawa semua pihak perlu menghormati hak orang Melayu dan bumiputera.',\n",
       " 'top-words': ['umno',\n",
       "  'sekolah',\n",
       "  'nyata',\n",
       "  'pandang',\n",
       "  'nazri',\n",
       "  'hormat',\n",
       "  'vernakular',\n",
       "  'pandang umno',\n",
       "  'sekolah vernakular',\n",
       "  'presiden umno'],\n",
       " 'cluster-top-words': ['pandang umno',\n",
       "  'sekolah vernakular',\n",
       "  'nazri',\n",
       "  'nyata',\n",
       "  'presiden umno',\n",
       "  'hormat']}"
      ]
     },
     "execution_count": 11,
     "metadata": {},
     "output_type": "execute_result"
    }
   ],
   "source": [
    "malaya.summarize.lsa(isu_kerajaan,important_words=10, ngram = (1,3), vectorizer = 'skip-gram', skip = 3)"
   ]
  },
  {
   "cell_type": "code",
   "execution_count": 12,
   "metadata": {},
   "outputs": [
    {
     "data": {
      "text/plain": [
       "{'summary': 'Konsert berbayar    Mewakili golongan anak seni, Sheila menaruh harapan semoga Festival KL Jamm akan menjadi platform buat artis yang sudah ada nama dan artis muda untuk membuat persembahan, sekali gus sama-sama memartabatkan industri muzik tempatan. Festival KL Jamm bakal menghimpunkan barisan artis tempatan baru dan nama besar dalam konsert iaitu Datuk Ramli Sarip, Datuk Afdlin Shauki, Zamani, Amelina, Radhi OAG, Dr Burn, Santesh, Rabbit Mac, Sheezy, kumpulan Bunkface, Ruffedge, Pot Innuendo, artis dari Kartel (Joe Flizzow, Sona One, Ila Damia, Yung Raja, Faris Jabba dan Abu Bakarxli) dan Malaysia Pasangge (artis India tempatan). \"Sedangkan artis juga menyanyi untuk kerjaya dan ia juga punca pendapatan bagi menyara hidup,\" katanya.',\n",
       " 'top-words': ['artis',\n",
       "  'sheila',\n",
       "  'konsert',\n",
       "  'muzik',\n",
       "  'nyanyi',\n",
       "  'sembah',\n",
       "  'festival',\n",
       "  'jamm',\n",
       "  'kl',\n",
       "  'babit'],\n",
       " 'cluster-top-words': ['muzik',\n",
       "  'babit',\n",
       "  'sheila',\n",
       "  'konsert',\n",
       "  'jamm',\n",
       "  'nyanyi',\n",
       "  'artis',\n",
       "  'festival',\n",
       "  'kl',\n",
       "  'sembah']}"
      ]
     },
     "execution_count": 12,
     "metadata": {},
     "output_type": "execute_result"
    }
   ],
   "source": [
    "malaya.summarize.lsa(isu_string,important_words=10)"
   ]
  },
  {
   "cell_type": "markdown",
   "metadata": {},
   "source": [
    "## Train LDA model"
   ]
  },
  {
   "cell_type": "code",
   "execution_count": 4,
   "metadata": {},
   "outputs": [
    {
     "data": {
      "text/plain": [
       "{'summary': '\"Saya ingin menegaskan dua perkara penting. \"Saya berharap isu ini tidak dipolitikkan secara tidak bertanggungjawab oleh mana-mana pihak terutama dengan cara yang tidak menggambarkan pendirian sebenar UMNO dan BN,\" katanya. Mohamad yang menjalankan tugas-tugas Presiden UMNO berkata, UMNO konsisten dengan pendirian itu dalam mengiktiraf kepelbagaian bangsa dan etnik termasuk hak untuk beragama serta mendapat pendidikan.',\n",
       " 'top-words': ['umno',\n",
       "  'nyata',\n",
       "  'sekolah',\n",
       "  'pandang',\n",
       "  'vernakular',\n",
       "  'hormat',\n",
       "  'sekolah vernakular',\n",
       "  'nazri',\n",
       "  'hormat paham',\n",
       "  'hak'],\n",
       " 'cluster-top-words': ['nazri',\n",
       "  'umno',\n",
       "  'pandang',\n",
       "  'hak',\n",
       "  'nyata',\n",
       "  'hormat paham',\n",
       "  'sekolah vernakular']}"
      ]
     },
     "execution_count": 4,
     "metadata": {},
     "output_type": "execute_result"
    }
   ],
   "source": [
    "malaya.summarize.lda(isu_kerajaan,important_words=10)"
   ]
  },
  {
   "cell_type": "code",
   "execution_count": 6,
   "metadata": {},
   "outputs": [
    {
     "data": {
      "text/plain": [
       "{'summary': 'Namun, ada satu persamaan yang mengeratkan hubungan mereka kerana sama-sama mencintai bidang muzik sejak dulu. \"Kami memang meminati bidang muzik dan saling memahami antara satu sama lain. DUA legenda hebat dan \\'The living legend\\' ini sudah memartabatkan bidang muzik sejak lebih tiga dekad lalu.',\n",
       " 'top-words': ['artis',\n",
       "  'sheila',\n",
       "  'konsert',\n",
       "  'muzik',\n",
       "  'festival',\n",
       "  'sembah',\n",
       "  'nyanyi',\n",
       "  'kl',\n",
       "  'kl jamm',\n",
       "  'jamm'],\n",
       " 'cluster-top-words': ['kl jamm',\n",
       "  'sheila',\n",
       "  'nyanyi',\n",
       "  'sembah',\n",
       "  'muzik',\n",
       "  'artis',\n",
       "  'festival',\n",
       "  'konsert']}"
      ]
     },
     "execution_count": 6,
     "metadata": {},
     "output_type": "execute_result"
    }
   ],
   "source": [
    "malaya.summarize.lda(isu_string,important_words=10, vectorizer = 'skip-gram')"
   ]
  },
  {
   "cell_type": "markdown",
   "metadata": {},
   "source": [
    "## Load doc2vec summarization\n",
    "\n",
    "We need to load word vector provided by Malaya. `doc2vec` does not return `top-words`, so parameter `important_words` cannot be use.\n",
    "\n",
    "Important parameters,\n",
    "1. `aggregation`, aggregation function to accumulate word vectors. Default is `mean`.\n",
    "\n",
    "    * ``'mean'`` - mean.\n",
    "    * ``'min'`` - min.\n",
    "    * ``'max'`` - max.\n",
    "    * ``'sum'`` - sum.\n",
    "    * ``'sqrt'`` - square root."
   ]
  },
  {
   "cell_type": "markdown",
   "metadata": {},
   "source": [
    "#### Using word2vec\n",
    "\n",
    "I will use `load_news`, word2vec from wikipedia took a very long time."
   ]
  },
  {
   "cell_type": "code",
   "execution_count": 12,
   "metadata": {},
   "outputs": [],
   "source": [
    "embedded_news = malaya.word2vec.load_news(64)\n",
    "w2v_wiki = malaya.word2vec.word2vec(embedded_news['nce_weights'],\n",
    "                                    embedded_news['dictionary'])"
   ]
  },
  {
   "cell_type": "code",
   "execution_count": 9,
   "metadata": {},
   "outputs": [
    {
     "data": {
      "text/plain": [
       "'Timbalan Presiden UMNO, Datuk Seri Mohamad Hasan berkata, kenyataan tersebut tidak mewakili pendirian serta pandangan UMNO   kerana parti itu menghormati serta memahami keperluan sekolah vernakular dalam negara. Mohamad yang menjalankan tugas-tugas Presiden UMNO berkata, UMNO konsisten dengan pendirian itu dalam mengiktiraf kepelbagaian bangsa dan etnik termasuk hak untuk beragama serta mendapat pendidikan. Kata Nazri dalam kenyataannya itu, beliau menekankan bahawa semua pihak perlu menghormati hak orang Melayu dan bumiputera. Mohamed Nazri semalam menjelaskan, kenyataannya mengenai sekolah jenis kebangsaan Cina dan Tamil baru-baru ini disalah petik pihak media. \"Kedua UMNO sebagai sebuah parti sangat menghormati dan memahami keperluan sekolah vernakular di Malaysia.'"
      ]
     },
     "execution_count": 9,
     "metadata": {},
     "output_type": "execute_result"
    }
   ],
   "source": [
    "malaya.summarize.doc2vec(w2v_wiki, isu_kerajaan, soft = False, top_k = 5)"
   ]
  },
  {
   "cell_type": "markdown",
   "metadata": {},
   "source": [
    "#### Using fast-text"
   ]
  },
  {
   "cell_type": "code",
   "execution_count": 6,
   "metadata": {},
   "outputs": [],
   "source": [
    "wiki, ngrams = malaya.fast_text.load_wiki()\n",
    "fast_text_embed = malaya.fast_text.fast_text(wiki['embed_weights'],wiki['dictionary'],ngrams)"
   ]
  },
  {
   "cell_type": "code",
   "execution_count": 8,
   "metadata": {},
   "outputs": [
    {
     "data": {
      "text/plain": [
       "'Timbalan Presiden UMNO, Datuk Seri Mohamad Hasan berkata, kenyataan tersebut tidak mewakili pendirian serta pandangan UMNO   kerana parti itu menghormati serta memahami keperluan sekolah vernakular dalam negara. Mohamad yang menjalankan tugas-tugas Presiden UMNO berkata, UMNO konsisten dengan pendirian itu dalam mengiktiraf kepelbagaian bangsa dan etnik termasuk hak untuk beragama serta mendapat pendidikan. Kata Nazri dalam kenyataannya itu, beliau menekankan bahawa semua pihak perlu menghormati hak orang Melayu dan bumiputera. \"Saya berharap isu ini tidak dipolitikkan secara tidak bertanggungjawab oleh mana-mana pihak terutama dengan cara yang tidak menggambarkan pendirian sebenar UMNO dan BN,\" katanya. Kata beliau, komitmen UMNO dan BN berhubung perkara itu dapat dilihat dengan jelas dalam bentuk sokongan infrastruktur, pengiktirafan dan pemberian peruntukan yang diperlukan.'"
      ]
     },
     "execution_count": 8,
     "metadata": {},
     "output_type": "execute_result"
    }
   ],
   "source": [
    "malaya.summarize.doc2vec(fast_text_embed, isu_kerajaan, soft = False, top_k = 5)"
   ]
  }
 ],
 "metadata": {
  "kernelspec": {
   "display_name": "Python 3",
   "language": "python",
   "name": "python3"
  },
  "language_info": {
   "codemirror_mode": {
    "name": "ipython",
    "version": 3
   },
   "file_extension": ".py",
   "mimetype": "text/x-python",
   "name": "python",
   "nbconvert_exporter": "python",
   "pygments_lexer": "ipython3",
   "version": "3.6.5"
  }
 },
 "nbformat": 4,
 "nbformat_minor": 2
}
