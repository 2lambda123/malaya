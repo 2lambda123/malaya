{
 "cells": [
  {
   "cell_type": "code",
   "execution_count": 1,
   "metadata": {},
   "outputs": [
    {
     "name": "stderr",
     "output_type": "stream",
     "text": [
      "Using TensorFlow backend.\n",
      "/usr/local/lib/python3.6/site-packages/sklearn/cross_validation.py:41: DeprecationWarning: This module was deprecated in version 0.18 in favor of the model_selection module into which all the refactored classes and functions are moved. Also note that the interface of the new CV iterators are different from that of this module. This module will be removed in 0.20.\n",
      "  \"This module will be removed in 0.20.\", DeprecationWarning)\n"
     ]
    }
   ],
   "source": [
    "import malaya"
   ]
  },
  {
   "cell_type": "code",
   "execution_count": 2,
   "metadata": {},
   "outputs": [],
   "source": [
    "string = 'Benda yg SALAH ni, jgn lah didebatkan. Yg SALAH xkan jadi betul. Ingat tu. Mcm mana kesat sekalipun org sampaikan mesej, dan memang benda tu salah, diam je. Xyah nk tunjuk kau open sangat nk tegur cara org lain berdakwah. '\n",
    "another_string = 'bodoh, dah la gay, sokong lgbt lagi, memang tak guna'"
   ]
  },
  {
   "cell_type": "code",
   "execution_count": 3,
   "metadata": {},
   "outputs": [],
   "source": [
    "model = malaya.multinomial_detect_toxic()"
   ]
  },
  {
   "cell_type": "code",
   "execution_count": 4,
   "metadata": {},
   "outputs": [
    {
     "data": {
      "text/plain": [
       "{'toxic': 0,\n",
       " 'severe_toxic': 0,\n",
       " 'obscene': 0,\n",
       " 'threat': 0,\n",
       " 'insult': 0,\n",
       " 'identity_hate': 0}"
      ]
     },
     "execution_count": 4,
     "metadata": {},
     "output_type": "execute_result"
    }
   ],
   "source": [
    "model.predict(string)"
   ]
  },
  {
   "cell_type": "code",
   "execution_count": 5,
   "metadata": {},
   "outputs": [
    {
     "data": {
      "text/plain": [
       "{'toxic': 0.14165235977019472,\n",
       " 'severe_toxic': 1.9272487152616215e-06,\n",
       " 'obscene': 0.011323038998473341,\n",
       " 'threat': 8.249039905334012e-08,\n",
       " 'insult': 0.008620760536227347,\n",
       " 'identity_hate': 4.703244329372946e-06}"
      ]
     },
     "execution_count": 5,
     "metadata": {},
     "output_type": "execute_result"
    }
   ],
   "source": [
    "model.predict(string,get_proba=True)"
   ]
  },
  {
   "cell_type": "code",
   "execution_count": 6,
   "metadata": {},
   "outputs": [
    {
     "data": {
      "text/plain": [
       "{'toxic': 1,\n",
       " 'severe_toxic': 0,\n",
       " 'obscene': 0,\n",
       " 'threat': 0,\n",
       " 'insult': 1,\n",
       " 'identity_hate': 0}"
      ]
     },
     "execution_count": 6,
     "metadata": {},
     "output_type": "execute_result"
    }
   ],
   "source": [
    "model.predict(another_string)"
   ]
  },
  {
   "cell_type": "code",
   "execution_count": 7,
   "metadata": {},
   "outputs": [
    {
     "data": {
      "text/plain": [
       "{'toxic': 0.97624511869432,\n",
       " 'severe_toxic': 0.0004143925305717536,\n",
       " 'obscene': 0.48936571876841484,\n",
       " 'threat': 5.809081616106756e-06,\n",
       " 'insult': 0.7853970362543069,\n",
       " 'identity_hate': 0.002109806847753244}"
      ]
     },
     "execution_count": 7,
     "metadata": {},
     "output_type": "execute_result"
    }
   ],
   "source": [
    "model.predict(another_string,get_proba=True)"
   ]
  },
  {
   "cell_type": "code",
   "execution_count": 8,
   "metadata": {},
   "outputs": [
    {
     "data": {
      "text/plain": [
       "{'toxic': [0, 1],\n",
       " 'severe_toxic': [0, 0],\n",
       " 'obscene': [0, 0],\n",
       " 'threat': [0, 0],\n",
       " 'insult': [0, 1],\n",
       " 'identity_hate': [0, 0]}"
      ]
     },
     "execution_count": 8,
     "metadata": {},
     "output_type": "execute_result"
    }
   ],
   "source": [
    "model.predict_batch([string,another_string])"
   ]
  },
  {
   "cell_type": "code",
   "execution_count": 9,
   "metadata": {},
   "outputs": [
    {
     "data": {
      "text/plain": [
       "{'toxic': [0.14165235977019472, 0.97624511869432],\n",
       " 'severe_toxic': [1.9272487152616215e-06, 0.0004143925305717536],\n",
       " 'obscene': [0.011323038998473341, 0.48936571876841484],\n",
       " 'threat': [8.249039905334012e-08, 5.809081616106756e-06],\n",
       " 'insult': [0.008620760536227347, 0.7853970362543069],\n",
       " 'identity_hate': [4.703244329372946e-06, 0.002109806847753244]}"
      ]
     },
     "execution_count": 9,
     "metadata": {},
     "output_type": "execute_result"
    }
   ],
   "source": [
    "model.predict_batch([string,another_string],get_proba=True)"
   ]
  },
  {
   "cell_type": "code",
   "execution_count": 10,
   "metadata": {},
   "outputs": [],
   "source": [
    "model = malaya.logistics_detect_toxic()"
   ]
  },
  {
   "cell_type": "code",
   "execution_count": 11,
   "metadata": {},
   "outputs": [
    {
     "data": {
      "text/plain": [
       "{'toxic': 0,\n",
       " 'severe_toxic': 0,\n",
       " 'obscene': 0,\n",
       " 'threat': 0,\n",
       " 'insult': 0,\n",
       " 'identity_hate': 0}"
      ]
     },
     "execution_count": 11,
     "metadata": {},
     "output_type": "execute_result"
    }
   ],
   "source": [
    "model.predict(string)"
   ]
  },
  {
   "cell_type": "code",
   "execution_count": 12,
   "metadata": {},
   "outputs": [
    {
     "data": {
      "text/plain": [
       "{'toxic': 1,\n",
       " 'severe_toxic': 0,\n",
       " 'obscene': 0,\n",
       " 'threat': 0,\n",
       " 'insult': 0,\n",
       " 'identity_hate': 0}"
      ]
     },
     "execution_count": 12,
     "metadata": {},
     "output_type": "execute_result"
    }
   ],
   "source": [
    "model.predict(another_string)"
   ]
  },
  {
   "cell_type": "code",
   "execution_count": 13,
   "metadata": {},
   "outputs": [
    {
     "data": {
      "text/plain": [
       "{'toxic': [0.10299208923447233, 0.6297643126911581],\n",
       " 'severe_toxic': [0.010195223990855215, 0.019551370640497476],\n",
       " 'obscene': [0.04834509566263489, 0.1995748012804703],\n",
       " 'threat': [0.003488478318883341, 0.004014463652898358],\n",
       " 'insult': [0.04528784776538583, 0.3354069432946268],\n",
       " 'identity_hate': [0.011326619000125776, 0.052626041879065236]}"
      ]
     },
     "execution_count": 13,
     "metadata": {},
     "output_type": "execute_result"
    }
   ],
   "source": [
    "model.predict_batch([string,another_string],get_proba=True)"
   ]
  },
  {
   "cell_type": "code",
   "execution_count": 14,
   "metadata": {},
   "outputs": [],
   "source": [
    "model = malaya.deep_toxic()"
   ]
  },
  {
   "cell_type": "code",
   "execution_count": 15,
   "metadata": {},
   "outputs": [
    {
     "data": {
      "text/plain": [
       "{'toxic': 0.020363407,\n",
       " 'severe_toxic': 0.0013132466,\n",
       " 'obscene': 0.019614585,\n",
       " 'threat': 0.0036143456,\n",
       " 'insult': 0.017462607,\n",
       " 'identity_hate': 0.008712418}"
      ]
     },
     "execution_count": 15,
     "metadata": {},
     "output_type": "execute_result"
    }
   ],
   "source": [
    "model.predict(string)"
   ]
  },
  {
   "cell_type": "code",
   "execution_count": 16,
   "metadata": {},
   "outputs": [
    {
     "data": {
      "text/plain": [
       "{'toxic': 0.4042334,\n",
       " 'severe_toxic': 0.062299214,\n",
       " 'obscene': 0.30533484,\n",
       " 'threat': 0.031151816,\n",
       " 'insult': 0.2637121,\n",
       " 'identity_hate': 0.12611088}"
      ]
     },
     "execution_count": 16,
     "metadata": {},
     "output_type": "execute_result"
    }
   ],
   "source": [
    "model.predict(another_string)"
   ]
  },
  {
   "cell_type": "code",
   "execution_count": 17,
   "metadata": {},
   "outputs": [
    {
     "data": {
      "text/plain": [
       "[{'toxic': 0.020363383,\n",
       "  'severe_toxic': 0.0013132466,\n",
       "  'obscene': 0.019614581,\n",
       "  'threat': 0.0036143418,\n",
       "  'insult': 0.017462632,\n",
       "  'identity_hate': 0.008712414},\n",
       " {'toxic': 0.7303366,\n",
       "  'severe_toxic': 0.024953173,\n",
       "  'obscene': 0.32346514,\n",
       "  'threat': 0.004960555,\n",
       "  'insult': 0.3901479,\n",
       "  'identity_hate': 0.053236082}]"
      ]
     },
     "execution_count": 17,
     "metadata": {},
     "output_type": "execute_result"
    }
   ],
   "source": [
    "model.predict_batch([string,another_string])"
   ]
  },
  {
   "cell_type": "code",
   "execution_count": null,
   "metadata": {},
   "outputs": [],
   "source": []
  }
 ],
 "metadata": {
  "kernelspec": {
   "display_name": "Python 3",
   "language": "python",
   "name": "python3"
  },
  "language_info": {
   "codemirror_mode": {
    "name": "ipython",
    "version": 3
   },
   "file_extension": ".py",
   "mimetype": "text/x-python",
   "name": "python",
   "nbconvert_exporter": "python",
   "pygments_lexer": "ipython3",
   "version": "3.5.2"
  }
 },
 "nbformat": 4,
 "nbformat_minor": 2
}
