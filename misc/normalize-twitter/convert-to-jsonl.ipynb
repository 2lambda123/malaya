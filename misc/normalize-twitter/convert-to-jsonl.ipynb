{
 "cells": [
  {
   "cell_type": "code",
   "execution_count": 6,
   "metadata": {},
   "outputs": [],
   "source": [
    "from glob import glob\n",
    "import json\n",
    "import os"
   ]
  },
  {
   "cell_type": "code",
   "execution_count": 15,
   "metadata": {},
   "outputs": [
    {
     "data": {
      "text/plain": [
       "['2022-06-08-bahasa-17.json.normalized',\n",
       " '2022-06-08-bahasa-14.json.normalized',\n",
       " '2022-06-08-bahasa-0.json.normalized',\n",
       " '2022-06-08-bahasa-12.json.normalized',\n",
       " '2022-06-08-bahasa-1.json.normalized',\n",
       " '2022-06-08-bahasa-20.json.normalized',\n",
       " '2022-06-08-bahasa-16.json.normalized',\n",
       " '2022-06-08-bahasa-19.json.normalized',\n",
       " '2022-06-08-bahasa-2.json.normalized',\n",
       " '2022-06-08-bahasa-13.json.normalized',\n",
       " '2022-06-08-bahasa-18.json.normalized',\n",
       " '2022-06-08-bahasa-11.json.normalized',\n",
       " '2022-06-08-bahasa-10.json.normalized',\n",
       " '2022-06-08-bahasa-21.json.normalized',\n",
       " '2022-06-08-bahasa-15.json.normalized']"
      ]
     },
     "execution_count": 15,
     "metadata": {},
     "output_type": "execute_result"
    }
   ],
   "source": [
    "files = glob('*.normalized')\n",
    "files"
   ]
  },
  {
   "cell_type": "code",
   "execution_count": 13,
   "metadata": {},
   "outputs": [],
   "source": [
    "for f in files:\n",
    "    new_f = f.replace('.json', '')\n",
    "    with open(f) as fopen:\n",
    "        data = json.load(fopen)\n",
    "    \n",
    "    with open(f'{new_f}.jsonl', 'w') as fopen:\n",
    "        for d in data:\n",
    "            fopen.write(f'{json.dumps(d)}\\n')\n",
    "        "
   ]
  },
  {
   "cell_type": "code",
   "execution_count": 14,
   "metadata": {},
   "outputs": [
    {
     "name": "stdout",
     "output_type": "stream",
     "text": [
      "{\"original\": \"Konon nak beat the crowd, skali Kedai x bukak ahaha @ Chef Ammar Xpress Souk Cafe https://t.co/QrcBlq6ftV\", \"normalized\": \"Konon nak beat the crowd, sekali kedai tak buka haha @ Chef Ammar Xpress Souk Cafe https://t.co/QrcBlq6ftV\"}\r\n"
     ]
    }
   ],
   "source": [
    "!head -n 1 2022-06-08-bahasa-0.normalized.jsonl"
   ]
  }
 ],
 "metadata": {
  "kernelspec": {
   "display_name": "Python 3 (ipykernel)",
   "language": "python",
   "name": "python3"
  },
  "language_info": {
   "codemirror_mode": {
    "name": "ipython",
    "version": 3
   },
   "file_extension": ".py",
   "mimetype": "text/x-python",
   "name": "python",
   "nbconvert_exporter": "python",
   "pygments_lexer": "ipython3",
   "version": "3.8.10"
  }
 },
 "nbformat": 4,
 "nbformat_minor": 4
}
