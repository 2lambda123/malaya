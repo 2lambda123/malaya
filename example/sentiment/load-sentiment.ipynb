{
 "cells": [
  {
   "cell_type": "markdown",
   "metadata": {},
   "source": [
    "# Sentiment Analysis"
   ]
  },
  {
   "cell_type": "markdown",
   "metadata": {},
   "source": [
    "<div class=\"alert alert-info\">\n",
    "\n",
    "This tutorial is available as an IPython notebook at [Malaya/example/sentiment](https://github.com/huseinzol05/Malaya/tree/master/example/sentiment).\n",
    "    \n",
    "</div>"
   ]
  },
  {
   "cell_type": "markdown",
   "metadata": {},
   "source": [
    "<div class=\"alert alert-info\">\n",
    "\n",
    "This module trained on both standard and local (included social media) language structures, so it is save to use for both.\n",
    "    \n",
    "</div>"
   ]
  },
  {
   "cell_type": "code",
   "execution_count": 1,
   "metadata": {},
   "outputs": [],
   "source": [
    "import logging\n",
    "\n",
    "logging.basicConfig(level=logging.INFO)"
   ]
  },
  {
   "cell_type": "code",
   "execution_count": 2,
   "metadata": {},
   "outputs": [
    {
     "name": "stdout",
     "output_type": "stream",
     "text": [
      "CPU times: user 3.21 s, sys: 3.58 s, total: 6.8 s\n",
      "Wall time: 3.76 s\n"
     ]
    },
    {
     "name": "stderr",
     "output_type": "stream",
     "text": [
      "/home/husein/dev/malaya/malaya/tokenizer.py:208: FutureWarning: Possible nested set at position 3372\n",
      "  self.tok = re.compile(r'({})'.format('|'.join(pipeline)))\n",
      "/home/husein/dev/malaya/malaya/tokenizer.py:208: FutureWarning: Possible nested set at position 3890\n",
      "  self.tok = re.compile(r'({})'.format('|'.join(pipeline)))\n"
     ]
    }
   ],
   "source": [
    "%%time\n",
    "import malaya"
   ]
  },
  {
   "cell_type": "markdown",
   "metadata": {},
   "source": [
    "### labels supported\n",
    "\n",
    "Default labels for sentiment module."
   ]
  },
  {
   "cell_type": "code",
   "execution_count": 3,
   "metadata": {},
   "outputs": [
    {
     "data": {
      "text/plain": [
       "['negative', 'neutral', 'positive']"
      ]
     },
     "execution_count": 3,
     "metadata": {},
     "output_type": "execute_result"
    }
   ],
   "source": [
    "malaya.sentiment.label"
   ]
  },
  {
   "cell_type": "markdown",
   "metadata": {},
   "source": [
    "### Example texts\n",
    "\n",
    "Copy pasted from random tweets."
   ]
  },
  {
   "cell_type": "code",
   "execution_count": 6,
   "metadata": {},
   "outputs": [],
   "source": [
    "string1 = 'Sis, students from overseas were brought back because they are not in their countries which is if something happens to them, its not the other countries’ responsibility. Student dalam malaysia ni dah dlm tggjawab kerajaan. Mana part yg tak faham?'\n",
    "string2 = 'Harap kerajaan tak bukak serentak. Slowly release week by week. Focus on economy related industries dulu'\n",
    "string3 = 'Idk if aku salah baca ke apa. Bayaran rm350 utk golongan umur 21 ke bawah shj ? Anyone? If 21 ke atas ok lah. If umur 21 ke bawah?  Are you serious? Siapa yg lebih byk komitmen? Aku hrp aku salah baca. Aku tk jumpa artikel tu'\n",
    "string4 = 'Jabatan Penjara Malaysia diperuntukkan RM20 juta laksana program pembangunan Insan kepada banduan. Majikan yang menggaji bekas banduan, bekas penagih dadah diberi potongan cukai tambahan sehingga 2025.'\n",
    "string5 = 'Dua Hari Nyaris Hatrick, Murai Batu Ceriwis Siap Meraikan Even Bekasi Bersatu!'\n",
    "string6 = '@MasidiM Moga kerajaan sabah, tidak ikut pkp macam kerajaan pusat. Makin lama pkp, makin ramai hilang pekerjaan. Ti https://t.co/nSIABkkEDS'\n",
    "string7 = 'Hopefully esok boleh ambil gambar dengan'"
   ]
  },
  {
   "cell_type": "markdown",
   "metadata": {},
   "source": [
    "### Load multinomial model\n",
    "\n",
    "```python\n",
    "def multinomial(**kwargs):\n",
    "    \"\"\"\n",
    "    Load multinomial emotion model.\n",
    "\n",
    "    Returns\n",
    "    -------\n",
    "    result : malaya.model.ml.Bayes class\n",
    "    \"\"\"\n",
    "```"
   ]
  },
  {
   "cell_type": "code",
   "execution_count": 7,
   "metadata": {},
   "outputs": [],
   "source": [
    "model = malaya.sentiment.multinomial()"
   ]
  },
  {
   "cell_type": "markdown",
   "metadata": {},
   "source": [
    "#### Predict batch of strings\n",
    "\n",
    "```python\n",
    "def predict(self, strings: List[str]):\n",
    "    \"\"\"\n",
    "    classify list of strings.\n",
    "\n",
    "    Parameters\n",
    "    ----------\n",
    "    strings: List[str]\n",
    "\n",
    "    Returns\n",
    "    -------\n",
    "    result: List[str]\n",
    "    \"\"\"\n",
    "```"
   ]
  },
  {
   "cell_type": "code",
   "execution_count": 9,
   "metadata": {
    "scrolled": true
   },
   "outputs": [
    {
     "data": {
      "text/plain": [
       "['negative',\n",
       " 'negative',\n",
       " 'negative',\n",
       " 'negative',\n",
       " 'neutral',\n",
       " 'negative',\n",
       " 'positive']"
      ]
     },
     "execution_count": 9,
     "metadata": {},
     "output_type": "execute_result"
    }
   ],
   "source": [
    "model.predict([string1, string2, string3, string4, string5, string6, string7])"
   ]
  },
  {
   "cell_type": "markdown",
   "metadata": {},
   "source": [
    "#### Predict batch of strings with probability\n",
    "\n",
    "```python\n",
    "def predict_proba(self, strings: List[str]):\n",
    "    \"\"\"\n",
    "    classify list of strings and return probability.\n",
    "\n",
    "    Parameters\n",
    "    ----------\n",
    "    strings: List[str]\n",
    "\n",
    "    Returns\n",
    "    -------\n",
    "    result: List[dict[str, float]]\n",
    "    \"\"\"\n",
    "```"
   ]
  },
  {
   "cell_type": "code",
   "execution_count": 10,
   "metadata": {},
   "outputs": [
    {
     "data": {
      "text/plain": [
       "[{'negative': 0.5682437517478534,\n",
       "  'neutral': 0.12373573801237056,\n",
       "  'positive': 0.30802051023977634},\n",
       " {'negative': 0.490346226842691,\n",
       "  'neutral': 0.20864503305657886,\n",
       "  'positive': 0.30100874010073014},\n",
       " {'negative': 0.5569197801361142,\n",
       "  'neutral': 0.1342498783611709,\n",
       "  'positive': 0.3088303415027147},\n",
       " {'negative': 0.5165487021938855,\n",
       "  'neutral': 0.13998199029917185,\n",
       "  'positive': 0.34346930750694543},\n",
       " {'negative': 0.23311742560677587,\n",
       "  'neutral': 0.4182488090323352,\n",
       "  'positive': 0.3486337653608891},\n",
       " {'negative': 0.8494818936945382,\n",
       "  'neutral': 0.060109943158198856,\n",
       "  'positive': 0.0904081631472596},\n",
       " {'negative': 0.2922247908043552,\n",
       "  'neutral': 0.3367232807540181,\n",
       "  'positive': 0.3710519284416263}]"
      ]
     },
     "execution_count": 10,
     "metadata": {},
     "output_type": "execute_result"
    }
   ],
   "source": [
    "model.predict_proba([string1, string2, string3, string4, string5, string6, string7])"
   ]
  },
  {
   "cell_type": "markdown",
   "metadata": {},
   "source": [
    "### List available Transformer models"
   ]
  },
  {
   "cell_type": "code",
   "execution_count": 4,
   "metadata": {},
   "outputs": [
    {
     "name": "stderr",
     "output_type": "stream",
     "text": [
      "INFO:malaya.sentiment:tested on test set at https://github.com/huseinzol05/malay-dataset/tree/master/sentiment/semisupervised-twitter-3class\n"
     ]
    },
    {
     "data": {
      "text/html": [
       "<div>\n",
       "<style scoped>\n",
       "    .dataframe tbody tr th:only-of-type {\n",
       "        vertical-align: middle;\n",
       "    }\n",
       "\n",
       "    .dataframe tbody tr th {\n",
       "        vertical-align: top;\n",
       "    }\n",
       "\n",
       "    .dataframe thead th {\n",
       "        text-align: right;\n",
       "    }\n",
       "</style>\n",
       "<table border=\"1\" class=\"dataframe\">\n",
       "  <thead>\n",
       "    <tr style=\"text-align: right;\">\n",
       "      <th></th>\n",
       "      <th>Size (MB)</th>\n",
       "      <th>Quantized Size (MB)</th>\n",
       "      <th>macro precision</th>\n",
       "      <th>macro recall</th>\n",
       "      <th>macro f1-score</th>\n",
       "    </tr>\n",
       "  </thead>\n",
       "  <tbody>\n",
       "    <tr>\n",
       "      <th>bert</th>\n",
       "      <td>425.6</td>\n",
       "      <td>111.00</td>\n",
       "      <td>0.93182</td>\n",
       "      <td>0.93442</td>\n",
       "      <td>0.93307</td>\n",
       "    </tr>\n",
       "    <tr>\n",
       "      <th>tiny-bert</th>\n",
       "      <td>57.4</td>\n",
       "      <td>15.40</td>\n",
       "      <td>0.93390</td>\n",
       "      <td>0.93141</td>\n",
       "      <td>0.93262</td>\n",
       "    </tr>\n",
       "    <tr>\n",
       "      <th>albert</th>\n",
       "      <td>48.6</td>\n",
       "      <td>12.80</td>\n",
       "      <td>0.91228</td>\n",
       "      <td>0.91929</td>\n",
       "      <td>0.91540</td>\n",
       "    </tr>\n",
       "    <tr>\n",
       "      <th>tiny-albert</th>\n",
       "      <td>22.4</td>\n",
       "      <td>5.98</td>\n",
       "      <td>0.91442</td>\n",
       "      <td>0.91646</td>\n",
       "      <td>0.91521</td>\n",
       "    </tr>\n",
       "    <tr>\n",
       "      <th>xlnet</th>\n",
       "      <td>446.6</td>\n",
       "      <td>118.00</td>\n",
       "      <td>0.92390</td>\n",
       "      <td>0.92629</td>\n",
       "      <td>0.92444</td>\n",
       "    </tr>\n",
       "    <tr>\n",
       "      <th>alxlnet</th>\n",
       "      <td>46.8</td>\n",
       "      <td>13.30</td>\n",
       "      <td>0.91896</td>\n",
       "      <td>0.92589</td>\n",
       "      <td>0.92198</td>\n",
       "    </tr>\n",
       "  </tbody>\n",
       "</table>\n",
       "</div>"
      ],
      "text/plain": [
       "             Size (MB)  Quantized Size (MB)  macro precision  macro recall  \\\n",
       "bert             425.6               111.00          0.93182       0.93442   \n",
       "tiny-bert         57.4                15.40          0.93390       0.93141   \n",
       "albert            48.6                12.80          0.91228       0.91929   \n",
       "tiny-albert       22.4                 5.98          0.91442       0.91646   \n",
       "xlnet            446.6               118.00          0.92390       0.92629   \n",
       "alxlnet           46.8                13.30          0.91896       0.92589   \n",
       "\n",
       "             macro f1-score  \n",
       "bert                0.93307  \n",
       "tiny-bert           0.93262  \n",
       "albert              0.91540  \n",
       "tiny-albert         0.91521  \n",
       "xlnet               0.92444  \n",
       "alxlnet             0.92198  "
      ]
     },
     "execution_count": 4,
     "metadata": {},
     "output_type": "execute_result"
    }
   ],
   "source": [
    "malaya.sentiment.available_transformer()"
   ]
  },
  {
   "cell_type": "markdown",
   "metadata": {},
   "source": [
    "### Load Transformer model\n",
    "\n",
    "```python\n",
    "def transformer(model: str = 'bert', quantized: bool = False, **kwargs):\n",
    "    \"\"\"\n",
    "    Load Transformer sentiment model.\n",
    "\n",
    "    Parameters\n",
    "    ----------\n",
    "    model: str, optional (default='bert')\n",
    "        Check available models at `malaya.sentiment.available_transformer()`.\n",
    "    quantized: bool, optional (default=False)\n",
    "        if True, will load 8-bit quantized model.\n",
    "        Quantized model not necessary faster, totally depends on the machine.\n",
    "\n",
    "    Returns\n",
    "    -------\n",
    "    result: model\n",
    "        List of model classes:\n",
    "\n",
    "        * if `bert` in model, will return `malaya.model.bert.MulticlassBERT`.\n",
    "        * if `xlnet` in model, will return `malaya.model.xlnet.MulticlassXLNET`.\n",
    "        * if `fastformer` in model, will return `malaya.model.fastformer.MulticlassFastFormer`.\n",
    "    \"\"\"\n",
    "```"
   ]
  },
  {
   "cell_type": "code",
   "execution_count": 5,
   "metadata": {},
   "outputs": [],
   "source": [
    "model = malaya.sentiment.transformer(model = 'xlnet')"
   ]
  },
  {
   "cell_type": "markdown",
   "metadata": {},
   "source": [
    "### Load Quantized model\n",
    "\n",
    "To load 8-bit quantized model, simply pass `quantized = True`, default is `False`.\n",
    "\n",
    "We can expect slightly accuracy drop from quantized model, and not necessary faster than normal 32-bit float model, totally depends on machine."
   ]
  },
  {
   "cell_type": "code",
   "execution_count": 5,
   "metadata": {},
   "outputs": [
    {
     "name": "stderr",
     "output_type": "stream",
     "text": [
      "WARNING:malaya_boilerplate.huggingface:Load quantized model will cause accuracy drop.\n"
     ]
    },
    {
     "data": {
      "application/vnd.jupyter.widget-view+json": {
       "model_id": "56e379a8d12f4bb884e3c4eda48ac96a",
       "version_major": 2,
       "version_minor": 0
      },
      "text/plain": [
       "Downloading:   0%|          | 0.00/118M [00:00<?, ?B/s]"
      ]
     },
     "metadata": {},
     "output_type": "display_data"
    },
    {
     "data": {
      "application/vnd.jupyter.widget-view+json": {
       "model_id": "465bbb42ba894df58909afe031808f1d",
       "version_major": 2,
       "version_minor": 0
      },
      "text/plain": [
       "Downloading:   0%|          | 0.00/569k [00:00<?, ?B/s]"
      ]
     },
     "metadata": {},
     "output_type": "display_data"
    },
    {
     "data": {
      "application/vnd.jupyter.widget-view+json": {
       "model_id": "7da1b64984764f298e06a97153661bee",
       "version_major": 2,
       "version_minor": 0
      },
      "text/plain": [
       "Downloading:   0%|          | 0.00/779k [00:00<?, ?B/s]"
      ]
     },
     "metadata": {},
     "output_type": "display_data"
    },
    {
     "name": "stderr",
     "output_type": "stream",
     "text": [
      "2022-10-12 10:55:07.109517: I tensorflow/core/platform/cpu_feature_guard.cc:142] This TensorFlow binary is optimized with oneAPI Deep Neural Network Library (oneDNN) to use the following CPU instructions in performance-critical operations:  AVX2 FMA\n",
      "To enable them in other operations, rebuild TensorFlow with the appropriate compiler flags.\n",
      "INFO:malaya_boilerplate.frozen_graph:running home/husein/.cache/huggingface/hub/models--huseinzol05--sentiment-v2-xlnet-quantized/snapshots/f4fae31e82ef3fdb6be6923805ea3c2b53b22ff5 using device /device:GPU:0\n",
      "2022-10-12 10:55:07.135627: I tensorflow/stream_executor/cuda/cuda_gpu_executor.cc:937] successful NUMA node read from SysFS had negative value (-1), but there must be at least one NUMA node, so returning NUMA node zero\n",
      "2022-10-12 10:55:07.156923: I tensorflow/stream_executor/cuda/cuda_gpu_executor.cc:937] successful NUMA node read from SysFS had negative value (-1), but there must be at least one NUMA node, so returning NUMA node zero\n",
      "2022-10-12 10:55:07.157127: I tensorflow/stream_executor/cuda/cuda_gpu_executor.cc:937] successful NUMA node read from SysFS had negative value (-1), but there must be at least one NUMA node, so returning NUMA node zero\n",
      "2022-10-12 10:55:08.304709: I tensorflow/stream_executor/cuda/cuda_gpu_executor.cc:937] successful NUMA node read from SysFS had negative value (-1), but there must be at least one NUMA node, so returning NUMA node zero\n",
      "2022-10-12 10:55:08.304929: I tensorflow/stream_executor/cuda/cuda_gpu_executor.cc:937] successful NUMA node read from SysFS had negative value (-1), but there must be at least one NUMA node, so returning NUMA node zero\n",
      "2022-10-12 10:55:08.305063: I tensorflow/stream_executor/cuda/cuda_gpu_executor.cc:937] successful NUMA node read from SysFS had negative value (-1), but there must be at least one NUMA node, so returning NUMA node zero\n",
      "2022-10-12 10:55:08.305226: I tensorflow/core/common_runtime/gpu/gpu_device.cc:1510] Created device /device:GPU:0 with 889 MB memory:  -> device: 0, name: NVIDIA GeForce RTX 3090 Ti, pci bus id: 0000:01:00.0, compute capability: 8.6\n",
      "2022-10-12 10:55:09.212090: I tensorflow/stream_executor/cuda/cuda_gpu_executor.cc:937] successful NUMA node read from SysFS had negative value (-1), but there must be at least one NUMA node, so returning NUMA node zero\n",
      "2022-10-12 10:55:09.212411: I tensorflow/stream_executor/cuda/cuda_gpu_executor.cc:937] successful NUMA node read from SysFS had negative value (-1), but there must be at least one NUMA node, so returning NUMA node zero\n",
      "2022-10-12 10:55:09.212587: I tensorflow/stream_executor/cuda/cuda_gpu_executor.cc:937] successful NUMA node read from SysFS had negative value (-1), but there must be at least one NUMA node, so returning NUMA node zero\n",
      "2022-10-12 10:55:09.212753: I tensorflow/stream_executor/cuda/cuda_gpu_executor.cc:937] successful NUMA node read from SysFS had negative value (-1), but there must be at least one NUMA node, so returning NUMA node zero\n",
      "2022-10-12 10:55:09.212908: I tensorflow/stream_executor/cuda/cuda_gpu_executor.cc:937] successful NUMA node read from SysFS had negative value (-1), but there must be at least one NUMA node, so returning NUMA node zero\n",
      "2022-10-12 10:55:09.213023: I tensorflow/core/common_runtime/gpu/gpu_device.cc:1510] Created device /job:localhost/replica:0/task:0/device:GPU:0 with 889 MB memory:  -> device: 0, name: NVIDIA GeForce RTX 3090 Ti, pci bus id: 0000:01:00.0, compute capability: 8.6\n"
     ]
    }
   ],
   "source": [
    "quantized_model = malaya.sentiment.transformer(model = 'xlnet', quantized = True)"
   ]
  },
  {
   "cell_type": "markdown",
   "metadata": {},
   "source": [
    "#### Predict batch of strings\n",
    "\n",
    "```python\n",
    "def predict(self, strings: List[str]):\n",
    "    \"\"\"\n",
    "    classify list of strings.\n",
    "\n",
    "    Parameters\n",
    "    ----------\n",
    "    strings: List[str]\n",
    "\n",
    "    Returns\n",
    "    -------\n",
    "    result: List[str]\n",
    "    \"\"\"\n",
    "```"
   ]
  },
  {
   "cell_type": "code",
   "execution_count": 15,
   "metadata": {},
   "outputs": [
    {
     "name": "stdout",
     "output_type": "stream",
     "text": [
      "CPU times: user 2.84 s, sys: 416 ms, total: 3.25 s\n",
      "Wall time: 612 ms\n"
     ]
    },
    {
     "data": {
      "text/plain": [
       "['negative',\n",
       " 'negative',\n",
       " 'negative',\n",
       " 'positive',\n",
       " 'positive',\n",
       " 'negative',\n",
       " 'neutral']"
      ]
     },
     "execution_count": 15,
     "metadata": {},
     "output_type": "execute_result"
    }
   ],
   "source": [
    "%%time\n",
    "\n",
    "model.predict([string1, string2, string3, string4, string5, string6, string7])"
   ]
  },
  {
   "cell_type": "code",
   "execution_count": 16,
   "metadata": {
    "scrolled": true
   },
   "outputs": [
    {
     "name": "stdout",
     "output_type": "stream",
     "text": [
      "CPU times: user 11.4 s, sys: 5.83 s, total: 17.2 s\n",
      "Wall time: 14.5 s\n"
     ]
    },
    {
     "data": {
      "text/plain": [
       "['negative',\n",
       " 'negative',\n",
       " 'negative',\n",
       " 'positive',\n",
       " 'positive',\n",
       " 'negative',\n",
       " 'neutral']"
      ]
     },
     "execution_count": 16,
     "metadata": {},
     "output_type": "execute_result"
    }
   ],
   "source": [
    "%%time\n",
    "\n",
    "quantized_model.predict([string1, string2, string3, string4, string5, string6, string7])"
   ]
  },
  {
   "cell_type": "markdown",
   "metadata": {},
   "source": [
    "#### Predict batch of strings with probability\n",
    "\n",
    "```python\n",
    "def predict_proba(self, strings: List[str]):\n",
    "    \"\"\"\n",
    "    classify list of strings and return probability.\n",
    "\n",
    "    Parameters\n",
    "    ----------\n",
    "    strings: List[str]\n",
    "\n",
    "    Returns\n",
    "    -------\n",
    "    result: List[dict[str, float]]\n",
    "    \"\"\"\n",
    "```"
   ]
  },
  {
   "cell_type": "code",
   "execution_count": 17,
   "metadata": {},
   "outputs": [
    {
     "name": "stdout",
     "output_type": "stream",
     "text": [
      "CPU times: user 2.81 s, sys: 488 ms, total: 3.29 s\n",
      "Wall time: 594 ms\n"
     ]
    },
    {
     "data": {
      "text/plain": [
       "[{'negative': 0.99842525, 'neutral': 0.00012793706, 'positive': 0.001446799},\n",
       " {'negative': 0.99937123, 'neutral': 0.00011691217, 'positive': 0.0005116592},\n",
       " {'negative': 0.9967385, 'neutral': 0.00035874697, 'positive': 0.0029026929},\n",
       " {'negative': 6.8217414e-05, 'neutral': 5.6692165e-06, 'positive': 0.99992657},\n",
       " {'negative': 0.00143564, 'neutral': 0.004074719, 'positive': 0.9944896},\n",
       " {'negative': 0.9997349, 'neutral': 2.1702668e-05, 'positive': 0.00024327672},\n",
       " {'negative': 0.00013910382, 'neutral': 0.99177235, 'positive': 0.008088313}]"
      ]
     },
     "execution_count": 17,
     "metadata": {},
     "output_type": "execute_result"
    }
   ],
   "source": [
    "%%time\n",
    "\n",
    "model.predict_proba([string1, string2, string3, string4, string5, string6, string7])"
   ]
  },
  {
   "cell_type": "code",
   "execution_count": 18,
   "metadata": {},
   "outputs": [
    {
     "name": "stdout",
     "output_type": "stream",
     "text": [
      "CPU times: user 2.81 s, sys: 608 ms, total: 3.42 s\n",
      "Wall time: 593 ms\n"
     ]
    },
    {
     "data": {
      "text/plain": [
       "[{'negative': 0.9999466, 'neutral': 5.5334813e-06, 'positive': 4.8349822e-05},\n",
       " {'negative': 0.99953467, 'neutral': 3.8757844e-05, 'positive': 0.00042694603},\n",
       " {'negative': 0.9838357, 'neutral': 0.0016114257, 'positive': 0.014552869},\n",
       " {'negative': 7.5439406e-05, 'neutral': 5.8909416e-05, 'positive': 0.9998656},\n",
       " {'negative': 0.0016770269, 'neutral': 0.0050235414, 'positive': 0.9932996},\n",
       " {'negative': 0.99939466, 'neutral': 3.1535008e-05, 'positive': 0.0005735934},\n",
       " {'negative': 0.00060900406, 'neutral': 0.986869, 'positive': 0.012522108}]"
      ]
     },
     "execution_count": 18,
     "metadata": {},
     "output_type": "execute_result"
    }
   ],
   "source": [
    "%%time\n",
    "\n",
    "quantized_model.predict_proba([string1, string2, string3, string4, string5, string6, string7])"
   ]
  },
  {
   "cell_type": "markdown",
   "metadata": {},
   "source": [
    "#### Open sentiment visualization dashboard\n",
    "\n",
    "Default when you call `predict_words` it will open a browser with visualization dashboard, you can disable by `visualization=False`.\n",
    "\n",
    "```python\n",
    "def predict_words(\n",
    "    self,\n",
    "    string: str,\n",
    "    method: str = 'last',\n",
    "    bins_size: float = 0.05,\n",
    "    visualization: bool = True,\n",
    "):\n",
    "    \"\"\"\n",
    "    classify words.\n",
    "\n",
    "    Parameters\n",
    "    ----------\n",
    "    string : str\n",
    "    method : str, optional (default='last')\n",
    "        Attention layer supported. Allowed values:\n",
    "\n",
    "        * ``'last'`` - attention from last layer.\n",
    "        * ``'first'`` - attention from first layer.\n",
    "        * ``'mean'`` - average attentions from all layers.\n",
    "    bins_size: float, optional (default=0.05)\n",
    "        default bins size for word distribution histogram.\n",
    "    visualization: bool, optional (default=True)\n",
    "        If True, it will open the visualization dashboard.\n",
    "\n",
    "    Returns\n",
    "    -------\n",
    "    dictionary: results\n",
    "    \"\"\"\n",
    "```"
   ]
  },
  {
   "cell_type": "code",
   "execution_count": 7,
   "metadata": {},
   "outputs": [
    {
     "name": "stderr",
     "output_type": "stream",
     "text": [
      "2022-10-12 10:55:19.689328: W tensorflow/core/framework/cpu_allocator_impl.cc:80] Allocation of 98304000 exceeds 10% of free system memory.\n",
      "2022-10-12 10:55:19.891915: W tensorflow/core/framework/cpu_allocator_impl.cc:80] Allocation of 98304000 exceeds 10% of free system memory.\n",
      "2022-10-12 10:55:20.142518: W tensorflow/core/framework/cpu_allocator_impl.cc:80] Allocation of 98304000 exceeds 10% of free system memory.\n",
      "2022-10-12 10:55:20.285553: W tensorflow/core/framework/cpu_allocator_impl.cc:80] Allocation of 98304000 exceeds 10% of free system memory.\n",
      "2022-10-12 10:55:20.545254: W tensorflow/core/framework/cpu_allocator_impl.cc:80] Allocation of 98304000 exceeds 10% of free system memory.\n",
      "2022-10-12 10:55:22.076725: I tensorflow/stream_executor/cuda/cuda_blas.cc:1760] TensorFloat-32 will be used for the matrix multiplication. This will only be logged once.\n"
     ]
    },
    {
     "data": {
      "text/html": [
       "<div style=\"width:100%;height:500px\"><div style=\"position:relative;width:100%;height:0;padding-bottom:1;\"><iframe srcdoc=\"&lt;html lang=&quot;en&quot;&gt;\n",
       "\n",
       "&lt;head&gt;\n",
       "  &lt;meta name=&quot;viewport&quot; content=&quot;width=device-width, initial-scale=1&quot;&gt;\n",
       "  &lt;title&gt;Malaya&lt;/title&gt;\n",
       "  &lt;link href=&quot;https://cdn.jsdelivr.net/gh/huseinzol05/malaya/malaya/function/web/static/admin-materialize.min.css&quot;\n",
       "    rel=&quot;stylesheet&quot;&gt;\n",
       "  &lt;link href=&quot;https://fonts.googleapis.com/icon?family=Material+Icons&quot; rel=&quot;stylesheet&quot;&gt;\n",
       "  &lt;link href=&quot;https://afeld.github.io/emoji-css/emoji.css&quot; rel=&quot;stylesheet&quot;&gt;\n",
       "&lt;/head&gt;\n",
       "\n",
       "&lt;body&gt;\n",
       "  &lt;main&gt;\n",
       "    &lt;div class=&quot;container&quot;&gt;\n",
       "      &lt;h4&gt;sentiment-v2 classification&lt;/h4&gt;\n",
       "      &lt;div class=&quot;row&quot;&gt;\n",
       "        &lt;div class=&quot;col l4 m4 s12&quot;&gt;\n",
       "          &lt;div id=&quot;count&quot; style=&quot;height: 300px;&quot;&gt;&lt;/div&gt;\n",
       "        &lt;/div&gt;\n",
       "        &lt;div class=&quot;col l4 m4 s12&quot;&gt;\n",
       "          &lt;div id=&quot;histogram&quot; style=&quot;height: 300px;&quot;&gt;&lt;/div&gt;\n",
       "        &lt;/div&gt;\n",
       "        &lt;div class=&quot;col l4 m4 s12&quot;&gt;\n",
       "          &lt;div id=&quot;entropy&quot; style=&quot;height: 300px;&quot;&gt;&lt;/div&gt;\n",
       "        &lt;/div&gt;\n",
       "      &lt;/div&gt;\n",
       "      &lt;div class=&quot;row&quot;&gt;\n",
       "        &lt;p&gt;&lt;mark style=&#x27;background-color:rgb(143, 255, 113)&#x27; class=&#x27;tooltipped&#x27; data-position=&#x27;bottom&#x27; data-tooltip=&quot;Positive &lt;i class=&#x27;em em-smiley_cat&#x27;&gt;&lt;/i&gt; 1.000&lt;br&gt;Neutral &lt;i class=&#x27;em em-cat&#x27;&gt;&lt;/i&gt; 0.000&lt;br&gt;Negative &lt;i class=&#x27;em em-pouting_cat&#x27;&gt;&lt;/i&gt; 0.000&lt;br&gt;Attention &lt;i class=&#x27;em em-warning&#x27;&gt;&lt;/i&gt; 0.135&quot;&gt;Jabatan&lt;/mark&gt; &lt;mark style=&#x27;background-color:rgb(143, 255, 113)&#x27; class=&#x27;tooltipped&#x27; data-position=&#x27;bottom&#x27; data-tooltip=&quot;Positive &lt;i class=&#x27;em em-smiley_cat&#x27;&gt;&lt;/i&gt; 1.000&lt;br&gt;Neutral &lt;i class=&#x27;em em-cat&#x27;&gt;&lt;/i&gt; 0.000&lt;br&gt;Negative &lt;i class=&#x27;em em-pouting_cat&#x27;&gt;&lt;/i&gt; 0.000&lt;br&gt;Attention &lt;i class=&#x27;em em-warning&#x27;&gt;&lt;/i&gt; 0.035&quot;&gt;Penjara&lt;/mark&gt; &lt;mark style=&#x27;background-color:rgb(143, 255, 113)&#x27; class=&#x27;tooltipped&#x27; data-position=&#x27;bottom&#x27; data-tooltip=&quot;Positive &lt;i class=&#x27;em em-smiley_cat&#x27;&gt;&lt;/i&gt; 1.000&lt;br&gt;Neutral &lt;i class=&#x27;em em-cat&#x27;&gt;&lt;/i&gt; 0.000&lt;br&gt;Negative &lt;i class=&#x27;em em-pouting_cat&#x27;&gt;&lt;/i&gt; 0.000&lt;br&gt;Attention &lt;i class=&#x27;em em-warning&#x27;&gt;&lt;/i&gt; 0.018&quot;&gt;Malaysia&lt;/mark&gt; &lt;mark style=&#x27;background-color:rgb(143, 255, 113)&#x27; class=&#x27;tooltipped&#x27; data-position=&#x27;bottom&#x27; data-tooltip=&quot;Positive &lt;i class=&#x27;em em-smiley_cat&#x27;&gt;&lt;/i&gt; 1.000&lt;br&gt;Neutral &lt;i class=&#x27;em em-cat&#x27;&gt;&lt;/i&gt; 0.000&lt;br&gt;Negative &lt;i class=&#x27;em em-pouting_cat&#x27;&gt;&lt;/i&gt; 0.000&lt;br&gt;Attention &lt;i class=&#x27;em em-warning&#x27;&gt;&lt;/i&gt; 0.033&quot;&gt;diperuntukkan&lt;/mark&gt; &lt;mark style=&#x27;background-color:rgb(143, 255, 113)&#x27; class=&#x27;tooltipped&#x27; data-position=&#x27;bottom&#x27; data-tooltip=&quot;Positive &lt;i class=&#x27;em em-smiley_cat&#x27;&gt;&lt;/i&gt; 1.000&lt;br&gt;Neutral &lt;i class=&#x27;em em-cat&#x27;&gt;&lt;/i&gt; 0.000&lt;br&gt;Negative &lt;i class=&#x27;em em-pouting_cat&#x27;&gt;&lt;/i&gt; 0.000&lt;br&gt;Attention &lt;i class=&#x27;em em-warning&#x27;&gt;&lt;/i&gt; 0.029&quot;&gt;RM20&lt;/mark&gt; &lt;mark style=&#x27;background-color:rgb(143, 255, 113)&#x27; class=&#x27;tooltipped&#x27; data-position=&#x27;bottom&#x27; data-tooltip=&quot;Positive &lt;i class=&#x27;em em-smiley_cat&#x27;&gt;&lt;/i&gt; 1.000&lt;br&gt;Neutral &lt;i class=&#x27;em em-cat&#x27;&gt;&lt;/i&gt; 0.000&lt;br&gt;Negative &lt;i class=&#x27;em em-pouting_cat&#x27;&gt;&lt;/i&gt; 0.000&lt;br&gt;Attention &lt;i class=&#x27;em em-warning&#x27;&gt;&lt;/i&gt; 0.031&quot;&gt;juta&lt;/mark&gt; &lt;mark style=&#x27;background-color:rgb(143, 255, 113)&#x27; class=&#x27;tooltipped&#x27; data-position=&#x27;bottom&#x27; data-tooltip=&quot;Positive &lt;i class=&#x27;em em-smiley_cat&#x27;&gt;&lt;/i&gt; 1.000&lt;br&gt;Neutral &lt;i class=&#x27;em em-cat&#x27;&gt;&lt;/i&gt; 0.000&lt;br&gt;Negative &lt;i class=&#x27;em em-pouting_cat&#x27;&gt;&lt;/i&gt; 0.000&lt;br&gt;Attention &lt;i class=&#x27;em em-warning&#x27;&gt;&lt;/i&gt; 0.040&quot;&gt;laksana&lt;/mark&gt; &lt;mark style=&#x27;background-color:rgb(143, 255, 113)&#x27; class=&#x27;tooltipped&#x27; data-position=&#x27;bottom&#x27; data-tooltip=&quot;Positive &lt;i class=&#x27;em em-smiley_cat&#x27;&gt;&lt;/i&gt; 1.000&lt;br&gt;Neutral &lt;i class=&#x27;em em-cat&#x27;&gt;&lt;/i&gt; 0.000&lt;br&gt;Negative &lt;i class=&#x27;em em-pouting_cat&#x27;&gt;&lt;/i&gt; 0.000&lt;br&gt;Attention &lt;i class=&#x27;em em-warning&#x27;&gt;&lt;/i&gt; 0.043&quot;&gt;program&lt;/mark&gt; &lt;mark style=&#x27;background-color:rgb(143, 255, 113)&#x27; class=&#x27;tooltipped&#x27; data-position=&#x27;bottom&#x27; data-tooltip=&quot;Positive &lt;i class=&#x27;em em-smiley_cat&#x27;&gt;&lt;/i&gt; 1.000&lt;br&gt;Neutral &lt;i class=&#x27;em em-cat&#x27;&gt;&lt;/i&gt; 0.000&lt;br&gt;Negative &lt;i class=&#x27;em em-pouting_cat&#x27;&gt;&lt;/i&gt; 0.000&lt;br&gt;Attention &lt;i class=&#x27;em em-warning&#x27;&gt;&lt;/i&gt; 0.049&quot;&gt;pembangunan&lt;/mark&gt; &lt;mark style=&#x27;background-color:rgb(143, 255, 113)&#x27; class=&#x27;tooltipped&#x27; data-position=&#x27;bottom&#x27; data-tooltip=&quot;Positive &lt;i class=&#x27;em em-smiley_cat&#x27;&gt;&lt;/i&gt; 1.000&lt;br&gt;Neutral &lt;i class=&#x27;em em-cat&#x27;&gt;&lt;/i&gt; 0.000&lt;br&gt;Negative &lt;i class=&#x27;em em-pouting_cat&#x27;&gt;&lt;/i&gt; 0.000&lt;br&gt;Attention &lt;i class=&#x27;em em-warning&#x27;&gt;&lt;/i&gt; 0.051&quot;&gt;Insan&lt;/mark&gt; &lt;mark style=&#x27;background-color:rgb(143, 255, 113)&#x27; class=&#x27;tooltipped&#x27; data-position=&#x27;bottom&#x27; data-tooltip=&quot;Positive &lt;i class=&#x27;em em-smiley_cat&#x27;&gt;&lt;/i&gt; 1.000&lt;br&gt;Neutral &lt;i class=&#x27;em em-cat&#x27;&gt;&lt;/i&gt; 0.000&lt;br&gt;Negative &lt;i class=&#x27;em em-pouting_cat&#x27;&gt;&lt;/i&gt; 0.000&lt;br&gt;Attention &lt;i class=&#x27;em em-warning&#x27;&gt;&lt;/i&gt; 0.077&quot;&gt;kepada&lt;/mark&gt; &lt;mark style=&#x27;background-color:rgb(143, 255, 113)&#x27; class=&#x27;tooltipped&#x27; data-position=&#x27;bottom&#x27; data-tooltip=&quot;Positive &lt;i class=&#x27;em em-smiley_cat&#x27;&gt;&lt;/i&gt; 0.999&lt;br&gt;Neutral &lt;i class=&#x27;em em-cat&#x27;&gt;&lt;/i&gt; 0.000&lt;br&gt;Negative &lt;i class=&#x27;em em-pouting_cat&#x27;&gt;&lt;/i&gt; 0.000&lt;br&gt;Attention &lt;i class=&#x27;em em-warning&#x27;&gt;&lt;/i&gt; 0.128&quot;&gt;banduan.&lt;/mark&gt; &lt;mark style=&#x27;background-color:rgb(143, 255, 113)&#x27; class=&#x27;tooltipped&#x27; data-position=&#x27;bottom&#x27; data-tooltip=&quot;Positive &lt;i class=&#x27;em em-smiley_cat&#x27;&gt;&lt;/i&gt; 1.000&lt;br&gt;Neutral &lt;i class=&#x27;em em-cat&#x27;&gt;&lt;/i&gt; 0.000&lt;br&gt;Negative &lt;i class=&#x27;em em-pouting_cat&#x27;&gt;&lt;/i&gt; 0.000&lt;br&gt;Attention &lt;i class=&#x27;em em-warning&#x27;&gt;&lt;/i&gt; 0.039&quot;&gt;Majikan&lt;/mark&gt; &lt;mark style=&#x27;background-color:rgb(143, 255, 113)&#x27; class=&#x27;tooltipped&#x27; data-position=&#x27;bottom&#x27; data-tooltip=&quot;Positive &lt;i class=&#x27;em em-smiley_cat&#x27;&gt;&lt;/i&gt; 1.000&lt;br&gt;Neutral &lt;i class=&#x27;em em-cat&#x27;&gt;&lt;/i&gt; 0.000&lt;br&gt;Negative &lt;i class=&#x27;em em-pouting_cat&#x27;&gt;&lt;/i&gt; 0.000&lt;br&gt;Attention &lt;i class=&#x27;em em-warning&#x27;&gt;&lt;/i&gt; 0.031&quot;&gt;yang&lt;/mark&gt; &lt;mark style=&#x27;background-color:rgb(143, 255, 113)&#x27; class=&#x27;tooltipped&#x27; data-position=&#x27;bottom&#x27; data-tooltip=&quot;Positive &lt;i class=&#x27;em em-smiley_cat&#x27;&gt;&lt;/i&gt; 1.000&lt;br&gt;Neutral &lt;i class=&#x27;em em-cat&#x27;&gt;&lt;/i&gt; 0.000&lt;br&gt;Negative &lt;i class=&#x27;em em-pouting_cat&#x27;&gt;&lt;/i&gt; 0.000&lt;br&gt;Attention &lt;i class=&#x27;em em-warning&#x27;&gt;&lt;/i&gt; 0.050&quot;&gt;menggaji&lt;/mark&gt; &lt;mark style=&#x27;background-color:rgb(143, 255, 113)&#x27; class=&#x27;tooltipped&#x27; data-position=&#x27;bottom&#x27; data-tooltip=&quot;Positive &lt;i class=&#x27;em em-smiley_cat&#x27;&gt;&lt;/i&gt; 0.999&lt;br&gt;Neutral &lt;i class=&#x27;em em-cat&#x27;&gt;&lt;/i&gt; 0.000&lt;br&gt;Negative &lt;i class=&#x27;em em-pouting_cat&#x27;&gt;&lt;/i&gt; 0.001&lt;br&gt;Attention &lt;i class=&#x27;em em-warning&#x27;&gt;&lt;/i&gt; 0.027&quot;&gt;bekas&lt;/mark&gt; &lt;mark style=&#x27;background-color:rgb(143, 255, 113)&#x27; class=&#x27;tooltipped&#x27; data-position=&#x27;bottom&#x27; data-tooltip=&quot;Positive &lt;i class=&#x27;em em-smiley_cat&#x27;&gt;&lt;/i&gt; 0.999&lt;br&gt;Neutral &lt;i class=&#x27;em em-cat&#x27;&gt;&lt;/i&gt; 0.000&lt;br&gt;Negative &lt;i class=&#x27;em em-pouting_cat&#x27;&gt;&lt;/i&gt; 0.000&lt;br&gt;Attention &lt;i class=&#x27;em em-warning&#x27;&gt;&lt;/i&gt; 0.022&quot;&gt;banduan,&lt;/mark&gt; &lt;mark style=&#x27;background-color:rgb(143, 255, 113)&#x27; class=&#x27;tooltipped&#x27; data-position=&#x27;bottom&#x27; data-tooltip=&quot;Positive &lt;i class=&#x27;em em-smiley_cat&#x27;&gt;&lt;/i&gt; 0.999&lt;br&gt;Neutral &lt;i class=&#x27;em em-cat&#x27;&gt;&lt;/i&gt; 0.000&lt;br&gt;Negative &lt;i class=&#x27;em em-pouting_cat&#x27;&gt;&lt;/i&gt; 0.000&lt;br&gt;Attention &lt;i class=&#x27;em em-warning&#x27;&gt;&lt;/i&gt; 0.021&quot;&gt;penagih&lt;/mark&gt; &lt;mark style=&#x27;background-color:rgb(143, 255, 113)&#x27; class=&#x27;tooltipped&#x27; data-position=&#x27;bottom&#x27; data-tooltip=&quot;Positive &lt;i class=&#x27;em em-smiley_cat&#x27;&gt;&lt;/i&gt; 1.000&lt;br&gt;Neutral &lt;i class=&#x27;em em-cat&#x27;&gt;&lt;/i&gt; 0.000&lt;br&gt;Negative &lt;i class=&#x27;em em-pouting_cat&#x27;&gt;&lt;/i&gt; 0.000&lt;br&gt;Attention &lt;i class=&#x27;em em-warning&#x27;&gt;&lt;/i&gt; 0.020&quot;&gt;dadah&lt;/mark&gt; &lt;mark style=&#x27;background-color:rgb(143, 255, 113)&#x27; class=&#x27;tooltipped&#x27; data-position=&#x27;bottom&#x27; data-tooltip=&quot;Positive &lt;i class=&#x27;em em-smiley_cat&#x27;&gt;&lt;/i&gt; 0.999&lt;br&gt;Neutral &lt;i class=&#x27;em em-cat&#x27;&gt;&lt;/i&gt; 0.000&lt;br&gt;Negative &lt;i class=&#x27;em em-pouting_cat&#x27;&gt;&lt;/i&gt; 0.001&lt;br&gt;Attention &lt;i class=&#x27;em em-warning&#x27;&gt;&lt;/i&gt; 0.011&quot;&gt;diberi&lt;/mark&gt; &lt;mark style=&#x27;background-color:rgb(143, 255, 113)&#x27; class=&#x27;tooltipped&#x27; data-position=&#x27;bottom&#x27; data-tooltip=&quot;Positive &lt;i class=&#x27;em em-smiley_cat&#x27;&gt;&lt;/i&gt; 1.000&lt;br&gt;Neutral &lt;i class=&#x27;em em-cat&#x27;&gt;&lt;/i&gt; 0.000&lt;br&gt;Negative &lt;i class=&#x27;em em-pouting_cat&#x27;&gt;&lt;/i&gt; 0.000&lt;br&gt;Attention &lt;i class=&#x27;em em-warning&#x27;&gt;&lt;/i&gt; 0.018&quot;&gt;potongan&lt;/mark&gt; &lt;mark style=&#x27;background-color:rgb(143, 255, 113)&#x27; class=&#x27;tooltipped&#x27; data-position=&#x27;bottom&#x27; data-tooltip=&quot;Positive &lt;i class=&#x27;em em-smiley_cat&#x27;&gt;&lt;/i&gt; 1.000&lt;br&gt;Neutral &lt;i class=&#x27;em em-cat&#x27;&gt;&lt;/i&gt; 0.000&lt;br&gt;Negative &lt;i class=&#x27;em em-pouting_cat&#x27;&gt;&lt;/i&gt; 0.000&lt;br&gt;Attention &lt;i class=&#x27;em em-warning&#x27;&gt;&lt;/i&gt; 0.016&quot;&gt;cukai&lt;/mark&gt; &lt;mark style=&#x27;background-color:rgb(143, 255, 113)&#x27; class=&#x27;tooltipped&#x27; data-position=&#x27;bottom&#x27; data-tooltip=&quot;Positive &lt;i class=&#x27;em em-smiley_cat&#x27;&gt;&lt;/i&gt; 1.000&lt;br&gt;Neutral &lt;i class=&#x27;em em-cat&#x27;&gt;&lt;/i&gt; 0.000&lt;br&gt;Negative &lt;i class=&#x27;em em-pouting_cat&#x27;&gt;&lt;/i&gt; 0.000&lt;br&gt;Attention &lt;i class=&#x27;em em-warning&#x27;&gt;&lt;/i&gt; 0.015&quot;&gt;tambahan&lt;/mark&gt; &lt;mark style=&#x27;background-color:rgb(143, 255, 113)&#x27; class=&#x27;tooltipped&#x27; data-position=&#x27;bottom&#x27; data-tooltip=&quot;Positive &lt;i class=&#x27;em em-smiley_cat&#x27;&gt;&lt;/i&gt; 1.000&lt;br&gt;Neutral &lt;i class=&#x27;em em-cat&#x27;&gt;&lt;/i&gt; 0.000&lt;br&gt;Negative &lt;i class=&#x27;em em-pouting_cat&#x27;&gt;&lt;/i&gt; 0.000&lt;br&gt;Attention &lt;i class=&#x27;em em-warning&#x27;&gt;&lt;/i&gt; 0.015&quot;&gt;sehingga&lt;/mark&gt; &lt;mark style=&#x27;background-color:rgb(143, 255, 113)&#x27; class=&#x27;tooltipped&#x27; data-position=&#x27;bottom&#x27; data-tooltip=&quot;Positive &lt;i class=&#x27;em em-smiley_cat&#x27;&gt;&lt;/i&gt; 0.999&lt;br&gt;Neutral &lt;i class=&#x27;em em-cat&#x27;&gt;&lt;/i&gt; 0.001&lt;br&gt;Negative &lt;i class=&#x27;em em-pouting_cat&#x27;&gt;&lt;/i&gt; 0.000&lt;br&gt;Attention &lt;i class=&#x27;em em-warning&#x27;&gt;&lt;/i&gt; 0.018&quot;&gt;2025.&lt;/mark&gt;&lt;/p&gt;\n",
       "      &lt;/div&gt;\n",
       "    &lt;/div&gt;\n",
       "  &lt;/main&gt;\n",
       "&lt;/body&gt;\n",
       "\n",
       "&lt;script src=&quot;https://code.jquery.com/jquery-3.4.1.slim.js&quot;&gt;&lt;/script&gt;\n",
       "&lt;script src=&quot;https://cdnjs.cloudflare.com/ajax/libs/materialize/1.0.0/js/materialize.min.js&quot;&gt;&lt;/script&gt;\n",
       "&lt;script src=&quot;https://cdn.jsdelivr.net/gh/huseinzol05/malaya/malaya/function/web/static/echarts.min.js&quot;&gt;&lt;/script&gt;\n",
       "\n",
       "&lt;script&gt;\n",
       "\n",
       "  var plot = echarts.init(document.getElementById(&#x27;count&#x27;));\n",
       "  var colors = [&#x27;rgb(143, 255, 113)&#x27;, &#x27;rgb(255, 238, 109)&#x27;, &#x27;rgb(255, 139, 118)&#x27;];\n",
       "\n",
       "  option = {\n",
       "    title: {\n",
       "      text: &#x27;Classes barplot&#x27;\n",
       "    },\n",
       "    tooltip: {\n",
       "      trigger: &#x27;axis&#x27;,\n",
       "      axisPointer: {\n",
       "        type: &#x27;cross&#x27;\n",
       "      }\n",
       "    },\n",
       "    data: [&#x27;Positive&#x27;, &#x27;Neutral&#x27;, &#x27;Negative&#x27;],\n",
       "    xAxis: {\n",
       "      type: &#x27;category&#x27;,\n",
       "      data: [&#x27;Positive&#x27;, &#x27;Neutral&#x27;, &#x27;Negative&#x27;]\n",
       "    },\n",
       "    yAxis: {\n",
       "      type: &#x27;value&#x27;,\n",
       "      splitLine: {\n",
       "        show: false\n",
       "      }\n",
       "    },\n",
       "    series: [{\n",
       "      data: [26, &#x27;-&#x27;, &#x27;-&#x27;],\n",
       "      stack: &#x27;1&#x27;,\n",
       "      type: &#x27;bar&#x27;,\n",
       "      name: &#x27;Positive&#x27;,\n",
       "      color: colors[0],\n",
       "      label: {\n",
       "        normal: {\n",
       "          show: true,\n",
       "          position: &#x27;top&#x27;\n",
       "        }\n",
       "      },\n",
       "    },\n",
       "    {\n",
       "      data: [&#x27;-&#x27;, 1, &#x27;-&#x27;],\n",
       "      type: &#x27;bar&#x27;,\n",
       "      stack: &#x27;1&#x27;,\n",
       "      name: &#x27;Neutral&#x27;,\n",
       "      color: colors[1],\n",
       "      label: {\n",
       "        normal: {\n",
       "          show: true,\n",
       "          position: &#x27;top&#x27;\n",
       "        }\n",
       "      },\n",
       "    },\n",
       "    {\n",
       "      data: [&#x27;-&#x27;, &#x27;-&#x27;, 0],\n",
       "      type: &#x27;bar&#x27;,\n",
       "      stack: &#x27;1&#x27;,\n",
       "      name: &#x27;Negative&#x27;,\n",
       "      color: colors[2],\n",
       "      label: {\n",
       "        normal: {\n",
       "          show: true,\n",
       "          position: &#x27;top&#x27;\n",
       "        }\n",
       "      },\n",
       "    }\n",
       "    ]\n",
       "  };\n",
       "  plot.setOption(option = option)\n",
       "\n",
       "  option = {\n",
       "    tooltip: {\n",
       "      trigger: &#x27;axis&#x27;,\n",
       "      axisPointer: {\n",
       "        type: &#x27;cross&#x27;\n",
       "      }\n",
       "    },\n",
       "    title: {\n",
       "      text: &#x27;probability histogram&#x27;\n",
       "    },\n",
       "    xAxis: {\n",
       "      type: &#x27;category&#x27;,\n",
       "      data: [0.0, 0.01, 0.02, 0.03, 0.04, 0.05, 0.06, 0.07, 0.08, 0.09, 0.1, 0.11, 0.12, 0.13, 0.14, 0.15, 0.16, 0.17, 0.18, 0.19, 0.2, 0.21, 0.22, 0.23, 0.24, 0.25, 0.26, 0.27, 0.28, 0.29, 0.3, 0.31, 0.32, 0.33, 0.34, 0.35000000000000003, 0.36, 0.37, 0.38, 0.39, 0.4, 0.41000000000000003, 0.42, 0.43, 0.44, 0.45, 0.46, 0.47000000000000003, 0.48, 0.49, 0.5, 0.51, 0.52, 0.53, 0.54, 0.55, 0.56, 0.5700000000000001, 0.58, 0.59, 0.6, 0.61, 0.62, 0.63, 0.64, 0.65, 0.66, 0.67, 0.68, 0.6900000000000001, 0.7000000000000001, 0.71, 0.72, 0.73, 0.74, 0.75, 0.76, 0.77, 0.78, 0.79, 0.8, 0.81, 0.8200000000000001, 0.8300000000000001, 0.84, 0.85, 0.86, 0.87, 0.88, 0.89, 0.9, 0.91, 0.92, 0.93, 0.9400000000000001, 0.9500000000000001, 0.96, 0.97, 0.98, 0.99, 1.0]\n",
       "    },\n",
       "    yAxis: {\n",
       "      type: &#x27;value&#x27;,\n",
       "      splitLine: {\n",
       "        show: false\n",
       "      }\n",
       "    },\n",
       "    series: [{\n",
       "      data: [0.0, 0.0, 0.0, 0.0, 0.0, 0.0, 0.0, 0.0, 0.0, 0.0, 0.0, 0.0, 0.0, 0.0, 0.0, 0.0, 0.0, 0.0, 0.0, 0.0, 0.0, 0.0, 0.0, 0.0, 0.0, 0.0, 0.0, 0.0, 0.0, 0.0, 0.0, 0.0, 0.0, 0.0, 0.0, 0.0, 0.0, 0.0, 0.0, 0.0, 0.0, 0.0, 0.0, 0.0, 0.0, 0.0, 0.0, 0.0, 0.0, 0.0, 0.0, 0.0, 0.0, 0.0, 0.0, 0.0, 0.0, 0.0, 0.0, 0.0, 0.0, 0.0, 0.0, 0.0, 0.0, 0.0, 0.0, 0.0, 0.0, 0.0, 0.0, 0.0, 0.0, 0.0, 0.0, 0.0, 0.0, 0.0, 0.0, 0.0, 0.0, 0.0, 0.0, 0.0, 0.0, 0.0, 0.0, 0.0, 0.0, 0.0, 0.0, 0.0, 0.0, 0.0, 0.0, 0.0, 0.0, 0.0, 0.0, 1.0],\n",
       "      type: &#x27;bar&#x27;\n",
       "    }]\n",
       "  };\n",
       "\n",
       "  var plot = echarts.init(document.getElementById(&#x27;histogram&#x27;));\n",
       "  plot.setOption(option = option)\n",
       "\n",
       "  option = {\n",
       "    title: {\n",
       "      text: &#x27;Attention&#x27;\n",
       "    },\n",
       "    tooltip: {\n",
       "      trigger: &#x27;axis&#x27;,\n",
       "      axisPointer: {\n",
       "        type: &#x27;cross&#x27;\n",
       "      }\n",
       "    },\n",
       "    xAxis: {\n",
       "      type: &#x27;category&#x27;,\n",
       "      name: &#x27;Sentence length&#x27;,\n",
       "      nameLocation: &#x27;center&#x27;,\n",
       "      nameGap: 30,\n",
       "      data: [0, 1, 2, 3, 4, 5, 6, 7, 8, 9, 10, 11, 12, 13, 14, 15, 16, 17, 18, 19, 20, 21, 22, 23, 24, 25]\n",
       "    },\n",
       "    yAxis: {\n",
       "      type: &#x27;value&#x27;,\n",
       "      splitLine: {\n",
       "        show: false\n",
       "      }\n",
       "    },\n",
       "    series: [{\n",
       "      data: [0.13465557992458344, 0.03453288599848747, 0.017595751211047173, 0.03303633630275726, 0.02853364869952202, 0.031315989792346954, 0.0401180125772953, 0.04314706102013588, 0.04929598793387413, 0.05143013596534729, 0.07735758274793625, 0.12754830718040466, 0.03893980756402016, 0.03149182349443436, 0.04988816753029823, 0.02888416312634945, 0.022408654913306236, 0.026500768959522247, 0.02053501084446907, 0.01992832124233246, 0.010679211467504501, 0.01848612353205681, 0.015527854673564434, 0.01455083116889, 0.01526029035449028, 0.01835169456899166],\n",
       "      type: &#x27;line&#x27;,\n",
       "      showSymbol: false\n",
       "    }]\n",
       "  };\n",
       "\n",
       "  var plot = echarts.init(document.getElementById(&#x27;entropy&#x27;));\n",
       "  plot.setOption(option = option)\n",
       "\n",
       "  document.addEventListener(&#x27;DOMContentLoaded&#x27;, function () {\n",
       "    var elems = document.querySelectorAll(&#x27;.tooltipped&#x27;);\n",
       "    var instances = M.Tooltip.init(elems);\n",
       "  });\n",
       "\n",
       "&lt;/script&gt;\n",
       "\n",
       "&lt;/html&gt;\" style=\"position:absolute;width:100%;height:500px;left:0;top:0;border:none !important;\" allowfullscreen webkitallowfullscreen mozallowfullscreen></iframe></div></div>"
      ],
      "text/plain": [
       "<IPython.core.display.HTML object>"
      ]
     },
     "metadata": {},
     "output_type": "display_data"
    }
   ],
   "source": [
    "quantized_model.predict_words(string4, bins_size = 0.01)"
   ]
  },
  {
   "cell_type": "markdown",
   "metadata": {},
   "source": [
    "### Vectorize\n",
    "\n",
    "Let say you want to visualize sentence / word level in lower dimension, you can use `model.vectorize`,\n",
    "\n",
    "```python\n",
    "def vectorize(self, strings: List[str], method: str = 'first'):\n",
    "    \"\"\"\n",
    "    vectorize list of strings.\n",
    "\n",
    "    Parameters\n",
    "    ----------\n",
    "    strings: List[str]\n",
    "    method : str, optional (default='first')\n",
    "        Vectorization layer supported. Allowed values:\n",
    "\n",
    "        * ``'last'`` - vector from last sequence.\n",
    "        * ``'first'`` - vector from first sequence.\n",
    "        * ``'mean'`` - average vectors from all sequences.\n",
    "        * ``'word'`` - average vectors based on tokens.\n",
    "\n",
    "    Returns\n",
    "    -------\n",
    "    result: np.array\n",
    "    \"\"\"\n",
    "```"
   ]
  },
  {
   "cell_type": "markdown",
   "metadata": {},
   "source": [
    "#### Sentence level"
   ]
  },
  {
   "cell_type": "code",
   "execution_count": 5,
   "metadata": {},
   "outputs": [],
   "source": [
    "r = quantized_model.vectorize([string1, string2, string3, string4], method = 'first')"
   ]
  },
  {
   "cell_type": "code",
   "execution_count": 6,
   "metadata": {},
   "outputs": [
    {
     "data": {
      "text/plain": [
       "(4, 2)"
      ]
     },
     "execution_count": 6,
     "metadata": {},
     "output_type": "execute_result"
    }
   ],
   "source": [
    "from sklearn.manifold import TSNE\n",
    "import matplotlib.pyplot as plt\n",
    "\n",
    "tsne = TSNE().fit_transform(r)\n",
    "tsne.shape"
   ]
  },
  {
   "cell_type": "code",
   "execution_count": 7,
   "metadata": {
    "scrolled": true
   },
   "outputs": [
    {
     "data": {
      "image/png": "[encoded data removed]",
      "text/plain": [
       "<Figure size 504x504 with 1 Axes>"
      ]
     },
     "metadata": {
      "needs_background": "light"
     },
     "output_type": "display_data"
    }
   ],
   "source": [
    "plt.figure(figsize = (7, 7))\n",
    "plt.scatter(tsne[:, 0], tsne[:, 1])\n",
    "labels = [string1, string2, string3, string4]\n",
    "for label, x, y in zip(\n",
    "    labels, tsne[:, 0], tsne[:, 1]\n",
    "):\n",
    "    label = (\n",
    "        '%s, %.3f' % (label[0], label[1])\n",
    "        if isinstance(label, list)\n",
    "        else label\n",
    "    )\n",
    "    plt.annotate(\n",
    "        label,\n",
    "        xy = (x, y),\n",
    "        xytext = (0, 0),\n",
    "        textcoords = 'offset points',\n",
    "    )"
   ]
  },
  {
   "cell_type": "markdown",
   "metadata": {},
   "source": [
    "#### Word level"
   ]
  },
  {
   "cell_type": "code",
   "execution_count": 8,
   "metadata": {},
   "outputs": [],
   "source": [
    "r = quantized_model.vectorize([string1, string2, string3, string4], method = 'word')"
   ]
  },
  {
   "cell_type": "code",
   "execution_count": 9,
   "metadata": {},
   "outputs": [],
   "source": [
    "x, y = [], []\n",
    "for row in r:\n",
    "    x.extend([i[0] for i in row])\n",
    "    y.extend([i[1] for i in row])"
   ]
  },
  {
   "cell_type": "code",
   "execution_count": 10,
   "metadata": {},
   "outputs": [
    {
     "data": {
      "text/plain": [
       "(129, 2)"
      ]
     },
     "execution_count": 10,
     "metadata": {},
     "output_type": "execute_result"
    }
   ],
   "source": [
    "tsne = TSNE().fit_transform(y)\n",
    "tsne.shape"
   ]
  },
  {
   "cell_type": "code",
   "execution_count": 11,
   "metadata": {
    "scrolled": true
   },
   "outputs": [
    {
     "data": {
      "image/png": "[encoded data removed]",
      "text/plain": [
       "<Figure size 504x504 with 1 Axes>"
      ]
     },
     "metadata": {
      "needs_background": "light"
     },
     "output_type": "display_data"
    }
   ],
   "source": [
    "plt.figure(figsize = (7, 7))\n",
    "plt.scatter(tsne[:, 0], tsne[:, 1])\n",
    "labels = x\n",
    "for label, x, y in zip(\n",
    "    labels, tsne[:, 0], tsne[:, 1]\n",
    "):\n",
    "    label = (\n",
    "        '%s, %.3f' % (label[0], label[1])\n",
    "        if isinstance(label, list)\n",
    "        else label\n",
    "    )\n",
    "    plt.annotate(\n",
    "        label,\n",
    "        xy = (x, y),\n",
    "        xytext = (0, 0),\n",
    "        textcoords = 'offset points',\n",
    "    )"
   ]
  },
  {
   "cell_type": "markdown",
   "metadata": {},
   "source": [
    "Pretty good, the model able to know cluster top left as positive sentiment, bottom right as negative sentiment."
   ]
  },
  {
   "cell_type": "markdown",
   "metadata": {},
   "source": [
    "### Stacking models\n",
    "\n",
    "More information, you can read at [https://malaya.readthedocs.io/en/latest/Stack.html](https://malaya.readthedocs.io/en/latest/Stack.html)"
   ]
  },
  {
   "cell_type": "code",
   "execution_count": 14,
   "metadata": {},
   "outputs": [],
   "source": [
    "multinomial = malaya.sentiment.multinomial()\n",
    "alxlnet = malaya.sentiment.transformer(model = 'alxlnet')"
   ]
  },
  {
   "cell_type": "code",
   "execution_count": 15,
   "metadata": {},
   "outputs": [
    {
     "data": {
      "text/plain": [
       "[{'negative': 0.8274227410462278,\n",
       "  'neutral': 0.0023870527199649325,\n",
       "  'positive': 0.004245345202445141},\n",
       " {'negative': 0.7879056397481532,\n",
       "  'neutral': 0.0008830732854325976,\n",
       "  'positive': 0.005592372403475869},\n",
       " {'negative': 0.7093363019692934,\n",
       "  'neutral': 0.0055568261277720325,\n",
       "  'positive': 0.12551631691737208},\n",
       " {'negative': 0.0034061439340994006,\n",
       "  'neutral': 0.001578504598740415,\n",
       "  'positive': 0.7000850686374817},\n",
       " {'negative': 0.008312327088611552,\n",
       "  'neutral': 0.010385559647356483,\n",
       "  'positive': 0.7007443982567323},\n",
       " {'negative': 0.946942812698766,\n",
       "  'neutral': 9.221052225822323e-05,\n",
       "  'positive': 0.0005205126361222257},\n",
       " {'negative': 0.0008040273612030484,\n",
       "  'neutral': 0.6952594227897851,\n",
       "  'positive': 0.003661718247768115}]"
      ]
     },
     "execution_count": 15,
     "metadata": {},
     "output_type": "execute_result"
    }
   ],
   "source": [
    "malaya.stack.predict_stack([multinomial, alxlnet, model], \n",
    "                           [string1, string2, string3, string4, string5, string6, string7])"
   ]
  },
  {
   "cell_type": "code",
   "execution_count": null,
   "metadata": {},
   "outputs": [],
   "source": []
  }
 ],
 "metadata": {
  "kernelspec": {
   "display_name": "Python 3 (ipykernel)",
   "language": "python",
   "name": "python3"
  },
  "language_info": {
   "codemirror_mode": {
    "name": "ipython",
    "version": 3
   },
   "file_extension": ".py",
   "mimetype": "text/x-python",
   "name": "python",
   "nbconvert_exporter": "python",
   "pygments_lexer": "ipython3",
   "version": "3.8.10"
  },
  "varInspector": {
   "cols": {
    "lenName": 16,
    "lenType": 16,
    "lenVar": 40
   },
   "kernels_config": {
    "python": {
     "delete_cmd_postfix": "",
     "delete_cmd_prefix": "del ",
     "library": "var_list.py",
     "varRefreshCmd": "print(var_dic_list())"
    },
    "r": {
     "delete_cmd_postfix": ") ",
     "delete_cmd_prefix": "rm(",
     "library": "var_list.r",
     "varRefreshCmd": "cat(var_dic_list()) "
    }
   },
   "types_to_exclude": [
    "module",
    "function",
    "builtin_function_or_method",
    "instance",
    "_Feature"
   ],
   "window_display": false
  }
 },
 "nbformat": 4,
 "nbformat_minor": 2
}
