{
 "cells": [
  {
   "cell_type": "code",
   "execution_count": 1,
   "metadata": {},
   "outputs": [
    {
     "name": "stderr",
     "output_type": "stream",
     "text": [
      "/usr/local/lib/python3.6/dist-packages/sklearn/cross_validation.py:41: DeprecationWarning: This module was deprecated in version 0.18 in favor of the model_selection module into which all the refactored classes and functions are moved. Also note that the interface of the new CV iterators are different from that of this module. This module will be removed in 0.20.\n",
      "  \"This module will be removed in 0.20.\", DeprecationWarning)\n"
     ]
    }
   ],
   "source": [
    "import re\n",
    "import numpy as np\n",
    "import collections\n",
    "from sklearn import metrics\n",
    "from sklearn.cross_validation import train_test_split\n",
    "import tensorflow as tf\n",
    "import pandas as pd\n",
    "from unidecode import unidecode\n",
    "from sklearn.preprocessing import LabelEncoder\n",
    "from tqdm import tqdm\n",
    "import time"
   ]
  },
  {
   "cell_type": "code",
   "execution_count": 5,
   "metadata": {},
   "outputs": [],
   "source": [
    "import json\n",
    "\n",
    "with open('tokenized.json') as fopen:\n",
    "    dataset = json.load(fopen)\n",
    "texts = dataset['x']\n",
    "labels = dataset['y']\n",
    "del dataset"
   ]
  },
  {
   "cell_type": "code",
   "execution_count": 6,
   "metadata": {},
   "outputs": [
    {
     "name": "stderr",
     "output_type": "stream",
     "text": [
      "100%|██████████| 192029/192029 [00:00<00:00, 582639.90it/s]\n"
     ]
    }
   ],
   "source": [
    "x, y = [], []\n",
    "for i in tqdm(range(len(texts))):\n",
    "    s = ' '.join(texts[i])\n",
    "    if len(s) > 5:\n",
    "        x.append(s)\n",
    "        y.append(labels[i])"
   ]
  },
  {
   "cell_type": "code",
   "execution_count": 7,
   "metadata": {},
   "outputs": [],
   "source": [
    "def convert_sparse_matrix_to_sparse_tensor(X):\n",
    "    coo = X.tocoo()\n",
    "    indices = np.mat([coo.row, coo.col]).transpose()\n",
    "    return tf.SparseTensorValue(indices, coo.col, coo.shape), tf.SparseTensorValue(indices, coo.data, coo.shape)"
   ]
  },
  {
   "cell_type": "code",
   "execution_count": 8,
   "metadata": {},
   "outputs": [],
   "source": [
    "from sklearn.feature_extraction.text import CountVectorizer"
   ]
  },
  {
   "cell_type": "code",
   "execution_count": 10,
   "metadata": {},
   "outputs": [],
   "source": [
    "bow_chars = CountVectorizer(ngram_range=(3, 5), analyzer='char_wb', max_features=300000).fit(x)\n",
    "delattr(bow_chars, 'stop_words_')"
   ]
  },
  {
   "cell_type": "code",
   "execution_count": 11,
   "metadata": {},
   "outputs": [
    {
     "data": {
      "text/plain": [
       "300000"
      ]
     },
     "execution_count": 11,
     "metadata": {},
     "output_type": "execute_result"
    }
   ],
   "source": [
    "vectors = bow_chars.transform(x)\n",
    "feature_shape = vectors.shape[1]\n",
    "feature_shape"
   ]
  },
  {
   "cell_type": "code",
   "execution_count": 12,
   "metadata": {},
   "outputs": [],
   "source": [
    "class Model:\n",
    "    def __init__(self, output_size, vocab_size, learning_rate):\n",
    "        self.X = tf.sparse_placeholder(tf.int32)\n",
    "        self.W = tf.sparse_placeholder(tf.int32)\n",
    "        self.Y = tf.placeholder(tf.float32, [None, output_size])\n",
    "        embeddings = tf.Variable(tf.truncated_normal([vocab_size,128]))\n",
    "        embed = tf.nn.embedding_lookup_sparse(embeddings, self.X, self.W, combiner='mean')\n",
    "        self.logits = tf.layers.dense(embed, output_size)\n",
    "        self.cost = tf.reduce_mean(\n",
    "            tf.nn.sigmoid_cross_entropy_with_logits(\n",
    "                logits = self.logits, labels = self.Y\n",
    "            )\n",
    "        )\n",
    "        self.optimizer = tf.train.AdamOptimizer(learning_rate = learning_rate).minimize(self.cost)\n",
    "        correct_prediction = tf.equal(tf.round(tf.nn.sigmoid(self.logits)), tf.round(self.Y))\n",
    "        all_labels_true = tf.reduce_min(tf.cast(correct_prediction, tf.float32), 1)\n",
    "        self.accuracy = tf.reduce_mean(all_labels_true)"
   ]
  },
  {
   "cell_type": "code",
   "execution_count": 13,
   "metadata": {},
   "outputs": [
    {
     "name": "stderr",
     "output_type": "stream",
     "text": [
      "/usr/local/lib/python3.6/dist-packages/tensorflow/python/ops/gradients_impl.py:108: UserWarning: Converting sparse IndexedSlices to a dense Tensor of unknown shape. This may consume a large amount of memory.\n",
      "  \"Converting sparse IndexedSlices to a dense Tensor of unknown shape. \"\n"
     ]
    }
   ],
   "source": [
    "sess = tf.InteractiveSession()\n",
    "model = Model(6, feature_shape, 1e-4)\n",
    "sess.run(tf.global_variables_initializer())"
   ]
  },
  {
   "cell_type": "code",
   "execution_count": 14,
   "metadata": {},
   "outputs": [
    {
     "data": {
      "text/plain": [
       "'fast-text-char/model.ckpt'"
      ]
     },
     "execution_count": 14,
     "metadata": {},
     "output_type": "execute_result"
    }
   ],
   "source": [
    "saver = tf.train.Saver(tf.trainable_variables())\n",
    "saver.save(sess, 'fast-text-char/model.ckpt')"
   ]
  },
  {
   "cell_type": "code",
   "execution_count": 15,
   "metadata": {},
   "outputs": [],
   "source": [
    "train_X, test_X, train_Y, test_Y = train_test_split(\n",
    "    vectors, y, test_size = 0.2\n",
    ")"
   ]
  },
  {
   "cell_type": "code",
   "execution_count": 16,
   "metadata": {},
   "outputs": [
    {
     "name": "stderr",
     "output_type": "stream",
     "text": [
      "train minibatch loop: 100%|██████████| 2556/2556 [01:52<00:00, 22.79it/s, accuracy=0.857, cost=0.172] \n",
      "test minibatch loop: 100%|██████████| 639/639 [00:03<00:00, 210.43it/s, accuracy=0.816, cost=0.244] \n",
      "train minibatch loop:   0%|          | 3/2556 [00:00<01:52, 22.65it/s, accuracy=0.817, cost=0.204]"
     ]
    },
    {
     "name": "stdout",
     "output_type": "stream",
     "text": [
      "epoch: 0, pass acc: 0.000000, current acc: 0.899579\n",
      "time taken: 115.20369625091553\n",
      "epoch: 0, training loss: 0.286168, training acc: 0.839196, valid loss: 0.127799, valid acc: 0.899579\n",
      "\n"
     ]
    },
    {
     "name": "stderr",
     "output_type": "stream",
     "text": [
      "train minibatch loop: 100%|██████████| 2556/2556 [01:52<00:00, 22.89it/s, accuracy=0.857, cost=0.144] \n",
      "test minibatch loop: 100%|██████████| 639/639 [00:03<00:00, 209.97it/s, accuracy=0.816, cost=0.214] \n",
      "train minibatch loop:   0%|          | 3/2556 [00:00<01:52, 22.65it/s, accuracy=0.833, cost=0.165]"
     ]
    },
    {
     "name": "stdout",
     "output_type": "stream",
     "text": [
      "epoch: 1, pass acc: 0.899579, current acc: 0.900780\n",
      "time taken: 115.12048959732056\n",
      "epoch: 1, training loss: 0.116865, training acc: 0.897905, valid loss: 0.105463, valid acc: 0.900780\n",
      "\n"
     ]
    },
    {
     "name": "stderr",
     "output_type": "stream",
     "text": [
      "train minibatch loop: 100%|██████████| 2556/2556 [01:52<00:00, 22.85it/s, accuracy=0.857, cost=0.126] \n",
      "test minibatch loop: 100%|██████████| 639/639 [00:03<00:00, 209.74it/s, accuracy=0.837, cost=0.194] \n",
      "train minibatch loop:   0%|          | 3/2556 [00:00<01:52, 22.73it/s, accuracy=0.85, cost=0.137] "
     ]
    },
    {
     "name": "stdout",
     "output_type": "stream",
     "text": [
      "epoch: 2, pass acc: 0.900780, current acc: 0.902038\n",
      "time taken: 115.09034776687622\n",
      "epoch: 2, training loss: 0.100738, training acc: 0.898857, valid loss: 0.094101, valid acc: 0.902038\n",
      "\n"
     ]
    },
    {
     "name": "stderr",
     "output_type": "stream",
     "text": [
      "train minibatch loop: 100%|██████████| 2556/2556 [01:52<00:00, 22.91it/s, accuracy=0.857, cost=0.114] \n",
      "test minibatch loop: 100%|██████████| 639/639 [00:03<00:00, 211.45it/s, accuracy=0.816, cost=0.186] \n",
      "train minibatch loop:   0%|          | 3/2556 [00:00<01:53, 22.55it/s, accuracy=0.833, cost=0.124]"
     ]
    },
    {
     "name": "stdout",
     "output_type": "stream",
     "text": [
      "epoch: 3, pass acc: 0.902038, current acc: 0.902188\n",
      "time taken: 115.06237173080444\n",
      "epoch: 3, training loss: 0.092209, training acc: 0.899340, valid loss: 0.088464, valid acc: 0.902188\n",
      "\n"
     ]
    },
    {
     "name": "stderr",
     "output_type": "stream",
     "text": [
      "train minibatch loop: 100%|██████████| 2556/2556 [01:52<00:00, 22.91it/s, accuracy=0.857, cost=0.107] \n",
      "test minibatch loop: 100%|██████████| 639/639 [00:03<00:00, 211.99it/s, accuracy=0.816, cost=0.18]  \n",
      "train minibatch loop:   0%|          | 3/2556 [00:00<01:53, 22.54it/s, accuracy=0.833, cost=0.116]"
     ]
    },
    {
     "name": "stdout",
     "output_type": "stream",
     "text": [
      "epoch: 4, pass acc: 0.902188, current acc: 0.902762\n",
      "time taken: 115.03546023368835\n",
      "epoch: 4, training loss: 0.087553, training acc: 0.900325, valid loss: 0.085175, valid acc: 0.902762\n",
      "\n"
     ]
    },
    {
     "name": "stderr",
     "output_type": "stream",
     "text": [
      "train minibatch loop: 100%|██████████| 2556/2556 [01:52<00:00, 22.88it/s, accuracy=0.857, cost=0.102] \n",
      "test minibatch loop: 100%|██████████| 639/639 [00:03<00:00, 211.46it/s, accuracy=0.816, cost=0.174] \n",
      "train minibatch loop:   0%|          | 3/2556 [00:00<01:52, 22.66it/s, accuracy=0.833, cost=0.112]"
     ]
    },
    {
     "name": "stdout",
     "output_type": "stream",
     "text": [
      "epoch: 5, pass acc: 0.902762, current acc: 0.903519\n",
      "time taken: 115.05824279785156\n",
      "epoch: 5, training loss: 0.084437, training acc: 0.901349, valid loss: 0.082866, valid acc: 0.903519\n",
      "\n"
     ]
    },
    {
     "name": "stderr",
     "output_type": "stream",
     "text": [
      "train minibatch loop: 100%|██████████| 2556/2556 [01:51<00:00, 22.93it/s, accuracy=0.857, cost=0.0971]\n",
      "test minibatch loop: 100%|██████████| 639/639 [00:03<00:00, 208.86it/s, accuracy=0.816, cost=0.169] \n",
      "train minibatch loop:   0%|          | 3/2556 [00:00<01:53, 22.42it/s, accuracy=0.833, cost=0.109]"
     ]
    },
    {
     "name": "stdout",
     "output_type": "stream",
     "text": [
      "epoch: 6, pass acc: 0.903519, current acc: 0.903780\n",
      "time taken: 115.00309157371521\n",
      "epoch: 6, training loss: 0.082053, training acc: 0.902412, valid loss: 0.081093, valid acc: 0.903780\n",
      "\n"
     ]
    },
    {
     "name": "stderr",
     "output_type": "stream",
     "text": [
      "train minibatch loop: 100%|██████████| 2556/2556 [01:51<00:00, 22.92it/s, accuracy=0.857, cost=0.0929]\n",
      "test minibatch loop: 100%|██████████| 639/639 [00:03<00:00, 211.56it/s, accuracy=0.816, cost=0.165] \n",
      "train minibatch loop:   0%|          | 3/2556 [00:00<01:53, 22.49it/s, accuracy=0.85, cost=0.107] "
     ]
    },
    {
     "name": "stdout",
     "output_type": "stream",
     "text": [
      "epoch: 7, pass acc: 0.903780, current acc: 0.904354\n",
      "time taken: 115.0012514591217\n",
      "epoch: 7, training loss: 0.080113, training acc: 0.903397, valid loss: 0.079674, valid acc: 0.904354\n",
      "\n"
     ]
    },
    {
     "name": "stderr",
     "output_type": "stream",
     "text": [
      "train minibatch loop: 100%|██████████| 2556/2556 [01:52<00:00, 22.90it/s, accuracy=0.857, cost=0.0892]\n",
      "test minibatch loop: 100%|██████████| 639/639 [00:03<00:00, 210.63it/s, accuracy=0.816, cost=0.162] \n",
      "train minibatch loop:   0%|          | 3/2556 [00:00<01:52, 22.60it/s, accuracy=0.85, cost=0.106] "
     ]
    },
    {
     "name": "stdout",
     "output_type": "stream",
     "text": [
      "epoch: 8, pass acc: 0.904354, current acc: 0.905215\n",
      "time taken: 115.04232907295227\n",
      "epoch: 8, training loss: 0.078480, training acc: 0.904584, valid loss: 0.078509, valid acc: 0.905215\n",
      "\n"
     ]
    },
    {
     "name": "stderr",
     "output_type": "stream",
     "text": [
      "train minibatch loop: 100%|██████████| 2556/2556 [01:52<00:00, 22.89it/s, accuracy=0.857, cost=0.0858]\n",
      "test minibatch loop: 100%|██████████| 639/639 [00:03<00:00, 211.56it/s, accuracy=0.816, cost=0.16]  \n",
      "train minibatch loop:   0%|          | 3/2556 [00:00<01:53, 22.55it/s, accuracy=0.85, cost=0.106] "
     ]
    },
    {
     "name": "stdout",
     "output_type": "stream",
     "text": [
      "epoch: 9, pass acc: 0.905215, current acc: 0.905789\n",
      "time taken: 115.02357625961304\n",
      "epoch: 9, training loss: 0.077073, training acc: 0.905230, valid loss: 0.077537, valid acc: 0.905789\n",
      "\n"
     ]
    },
    {
     "name": "stderr",
     "output_type": "stream",
     "text": [
      "train minibatch loop: 100%|██████████| 2556/2556 [01:52<00:00, 22.89it/s, accuracy=0.857, cost=0.0828]\n",
      "test minibatch loop: 100%|██████████| 639/639 [00:03<00:00, 211.09it/s, accuracy=0.816, cost=0.158] \n",
      "train minibatch loop:   0%|          | 3/2556 [00:00<01:53, 22.58it/s, accuracy=0.867, cost=0.106]"
     ]
    },
    {
     "name": "stdout",
     "output_type": "stream",
     "text": [
      "epoch: 10, pass acc: 0.905789, current acc: 0.906232\n",
      "time taken: 115.06719374656677\n",
      "epoch: 10, training loss: 0.075837, training acc: 0.905771, valid loss: 0.076715, valid acc: 0.906232\n",
      "\n"
     ]
    },
    {
     "name": "stderr",
     "output_type": "stream",
     "text": [
      "train minibatch loop: 100%|██████████| 2556/2556 [01:52<00:00, 22.92it/s, accuracy=0.857, cost=0.0799]\n",
      "test minibatch loop: 100%|██████████| 639/639 [00:03<00:00, 211.18it/s, accuracy=0.816, cost=0.156] \n",
      "train minibatch loop:   0%|          | 3/2556 [00:00<01:53, 22.55it/s, accuracy=0.883, cost=0.105]"
     ]
    },
    {
     "name": "stdout",
     "output_type": "stream",
     "text": [
      "epoch: 11, pass acc: 0.906232, current acc: 0.906598\n",
      "time taken: 115.03527069091797\n",
      "epoch: 11, training loss: 0.074735, training acc: 0.906443, valid loss: 0.076012, valid acc: 0.906598\n",
      "\n"
     ]
    },
    {
     "name": "stderr",
     "output_type": "stream",
     "text": [
      "train minibatch loop: 100%|██████████| 2556/2556 [01:52<00:00, 22.86it/s, accuracy=0.857, cost=0.0774]\n",
      "test minibatch loop: 100%|██████████| 639/639 [00:03<00:00, 211.52it/s, accuracy=0.816, cost=0.156] \n",
      "train minibatch loop:   0%|          | 3/2556 [00:00<01:53, 22.51it/s, accuracy=0.883, cost=0.105]"
     ]
    },
    {
     "name": "stdout",
     "output_type": "stream",
     "text": [
      "epoch: 12, pass acc: 0.906598, current acc: 0.907119\n",
      "time taken: 115.02859568595886\n",
      "epoch: 12, training loss: 0.073739, training acc: 0.907304, valid loss: 0.075406, valid acc: 0.907119\n",
      "\n"
     ]
    },
    {
     "name": "stderr",
     "output_type": "stream",
     "text": [
      "train minibatch loop: 100%|██████████| 2556/2556 [01:51<00:00, 22.88it/s, accuracy=0.857, cost=0.075] \n",
      "test minibatch loop: 100%|██████████| 639/639 [00:03<00:00, 211.98it/s, accuracy=0.816, cost=0.155] \n",
      "train minibatch loop:   0%|          | 3/2556 [00:00<01:53, 22.58it/s, accuracy=0.883, cost=0.105]"
     ]
    },
    {
     "name": "stdout",
     "output_type": "stream",
     "text": [
      "epoch: 13, pass acc: 0.907119, current acc: 0.907772\n",
      "time taken: 115.01431465148926\n",
      "epoch: 13, training loss: 0.072828, training acc: 0.907904, valid loss: 0.074880, valid acc: 0.907772\n",
      "\n"
     ]
    },
    {
     "name": "stderr",
     "output_type": "stream",
     "text": [
      "train minibatch loop: 100%|██████████| 2556/2556 [01:51<00:00, 22.84it/s, accuracy=0.857, cost=0.0728]\n",
      "test minibatch loop: 100%|██████████| 639/639 [00:03<00:00, 211.65it/s, accuracy=0.816, cost=0.154] \n",
      "train minibatch loop:   0%|          | 3/2556 [00:00<01:53, 22.59it/s, accuracy=0.883, cost=0.105]"
     ]
    },
    {
     "name": "stdout",
     "output_type": "stream",
     "text": [
      "epoch: 14, pass acc: 0.907772, current acc: 0.907850\n",
      "time taken: 115.0006947517395\n",
      "epoch: 14, training loss: 0.071987, training acc: 0.908276, valid loss: 0.074420, valid acc: 0.907850\n",
      "\n"
     ]
    },
    {
     "name": "stderr",
     "output_type": "stream",
     "text": [
      "train minibatch loop: 100%|██████████| 2556/2556 [01:51<00:00, 22.90it/s, accuracy=0.857, cost=0.0708]\n",
      "test minibatch loop: 100%|██████████| 639/639 [00:03<00:00, 211.34it/s, accuracy=0.816, cost=0.154] \n",
      "train minibatch loop:   0%|          | 3/2556 [00:00<01:53, 22.55it/s, accuracy=0.883, cost=0.105]"
     ]
    },
    {
     "name": "stdout",
     "output_type": "stream",
     "text": [
      "epoch: 15, pass acc: 0.907850, current acc: 0.908293\n",
      "time taken: 114.9916934967041\n",
      "epoch: 15, training loss: 0.071204, training acc: 0.908733, valid loss: 0.074015, valid acc: 0.908293\n",
      "\n"
     ]
    },
    {
     "name": "stderr",
     "output_type": "stream",
     "text": [
      "train minibatch loop: 100%|██████████| 2556/2556 [01:51<00:00, 22.89it/s, accuracy=0.857, cost=0.0688]\n",
      "test minibatch loop: 100%|██████████| 639/639 [00:03<00:00, 211.81it/s, accuracy=0.816, cost=0.154] \n",
      "train minibatch loop:   0%|          | 3/2556 [00:00<01:52, 22.61it/s, accuracy=0.883, cost=0.105]"
     ]
    },
    {
     "name": "stdout",
     "output_type": "stream",
     "text": [
      "time taken: 115.00036025047302\n",
      "epoch: 16, training loss: 0.070469, training acc: 0.909294, valid loss: 0.073658, valid acc: 0.908111\n",
      "\n"
     ]
    },
    {
     "name": "stderr",
     "output_type": "stream",
     "text": [
      "train minibatch loop: 100%|██████████| 2556/2556 [01:51<00:00, 22.91it/s, accuracy=0.857, cost=0.067] \n",
      "test minibatch loop: 100%|██████████| 639/639 [00:03<00:00, 211.62it/s, accuracy=0.816, cost=0.154] \n",
      "train minibatch loop:   0%|          | 3/2556 [00:00<01:53, 22.46it/s, accuracy=0.883, cost=0.105]"
     ]
    },
    {
     "name": "stdout",
     "output_type": "stream",
     "text": [
      "epoch: 17, pass acc: 0.908293, current acc: 0.908424\n",
      "time taken: 114.99447965621948\n",
      "epoch: 17, training loss: 0.069776, training acc: 0.909724, valid loss: 0.073342, valid acc: 0.908424\n",
      "\n"
     ]
    },
    {
     "name": "stderr",
     "output_type": "stream",
     "text": [
      "train minibatch loop: 100%|██████████| 2556/2556 [01:51<00:00, 22.93it/s, accuracy=0.857, cost=0.0653]\n",
      "test minibatch loop: 100%|██████████| 639/639 [00:03<00:00, 212.75it/s, accuracy=0.816, cost=0.154] \n",
      "train minibatch loop:   0%|          | 3/2556 [00:00<01:53, 22.51it/s, accuracy=0.883, cost=0.105]"
     ]
    },
    {
     "name": "stdout",
     "output_type": "stream",
     "text": [
      "epoch: 18, pass acc: 0.908424, current acc: 0.908815\n",
      "time taken: 114.97312664985657\n",
      "epoch: 18, training loss: 0.069118, training acc: 0.910272, valid loss: 0.073061, valid acc: 0.908815\n",
      "\n"
     ]
    },
    {
     "name": "stderr",
     "output_type": "stream",
     "text": [
      "train minibatch loop: 100%|██████████| 2556/2556 [01:51<00:00, 22.88it/s, accuracy=0.857, cost=0.0637]\n",
      "test minibatch loop: 100%|██████████| 639/639 [00:03<00:00, 211.68it/s, accuracy=0.816, cost=0.154] \n",
      "train minibatch loop:   0%|          | 3/2556 [00:00<01:53, 22.48it/s, accuracy=0.867, cost=0.105]"
     ]
    },
    {
     "name": "stdout",
     "output_type": "stream",
     "text": [
      "epoch: 19, pass acc: 0.908815, current acc: 0.909128\n",
      "time taken: 114.9917516708374\n",
      "epoch: 19, training loss: 0.068492, training acc: 0.910709, valid loss: 0.072811, valid acc: 0.909128\n",
      "\n"
     ]
    },
    {
     "name": "stderr",
     "output_type": "stream",
     "text": [
      "train minibatch loop: 100%|██████████| 2556/2556 [01:51<00:00, 22.91it/s, accuracy=0.857, cost=0.0621]\n",
      "test minibatch loop: 100%|██████████| 639/639 [00:03<00:00, 212.24it/s, accuracy=0.816, cost=0.154] \n",
      "train minibatch loop:   0%|          | 3/2556 [00:00<01:52, 22.68it/s, accuracy=0.867, cost=0.105]"
     ]
    },
    {
     "name": "stdout",
     "output_type": "stream",
     "text": [
      "time taken: 114.97773814201355\n",
      "epoch: 20, training loss: 0.067893, training acc: 0.911081, valid loss: 0.072588, valid acc: 0.909076\n",
      "\n"
     ]
    },
    {
     "name": "stderr",
     "output_type": "stream",
     "text": [
      "train minibatch loop: 100%|██████████| 2556/2556 [01:51<00:00, 22.92it/s, accuracy=0.857, cost=0.0606]\n",
      "test minibatch loop: 100%|██████████| 639/639 [00:03<00:00, 212.98it/s, accuracy=0.816, cost=0.154] \n",
      "train minibatch loop:   0%|          | 3/2556 [00:00<01:53, 22.57it/s, accuracy=0.867, cost=0.105]"
     ]
    },
    {
     "name": "stdout",
     "output_type": "stream",
     "text": [
      "epoch: 21, pass acc: 0.909128, current acc: 0.909337\n",
      "time taken: 114.9418580532074\n",
      "epoch: 21, training loss: 0.067318, training acc: 0.911531, valid loss: 0.072389, valid acc: 0.909337\n",
      "\n"
     ]
    },
    {
     "name": "stderr",
     "output_type": "stream",
     "text": [
      "train minibatch loop: 100%|██████████| 2556/2556 [01:51<00:00, 22.90it/s, accuracy=0.857, cost=0.0592]\n",
      "test minibatch loop: 100%|██████████| 639/639 [00:02<00:00, 213.09it/s, accuracy=0.816, cost=0.154] \n",
      "train minibatch loop:   0%|          | 3/2556 [00:00<01:53, 22.59it/s, accuracy=0.867, cost=0.105]"
     ]
    },
    {
     "name": "stdout",
     "output_type": "stream",
     "text": [
      "epoch: 22, pass acc: 0.909337, current acc: 0.909363\n",
      "time taken: 114.90017485618591\n",
      "epoch: 22, training loss: 0.066765, training acc: 0.912007, valid loss: 0.072212, valid acc: 0.909363\n",
      "\n"
     ]
    },
    {
     "name": "stderr",
     "output_type": "stream",
     "text": [
      "train minibatch loop: 100%|██████████| 2556/2556 [01:51<00:00, 22.88it/s, accuracy=0.857, cost=0.0579]\n",
      "test minibatch loop: 100%|██████████| 639/639 [00:02<00:00, 213.97it/s, accuracy=0.837, cost=0.154] \n",
      "train minibatch loop:   0%|          | 3/2556 [00:00<01:53, 22.53it/s, accuracy=0.867, cost=0.105]"
     ]
    },
    {
     "name": "stdout",
     "output_type": "stream",
     "text": [
      "epoch: 23, pass acc: 0.909363, current acc: 0.909526\n",
      "time taken: 114.87630128860474\n",
      "epoch: 23, training loss: 0.066233, training acc: 0.912561, valid loss: 0.072055, valid acc: 0.909526\n",
      "\n"
     ]
    },
    {
     "name": "stderr",
     "output_type": "stream",
     "text": [
      "train minibatch loop: 100%|██████████| 2556/2556 [01:51<00:00, 22.91it/s, accuracy=0.857, cost=0.0566]\n",
      "test minibatch loop: 100%|██████████| 639/639 [00:03<00:00, 210.42it/s, accuracy=0.837, cost=0.154] \n",
      "train minibatch loop:   0%|          | 3/2556 [00:00<01:52, 22.69it/s, accuracy=0.867, cost=0.105]"
     ]
    },
    {
     "name": "stdout",
     "output_type": "stream",
     "text": [
      "epoch: 24, pass acc: 0.909526, current acc: 0.909578\n",
      "time taken: 114.91472482681274\n",
      "epoch: 24, training loss: 0.065718, training acc: 0.913005, valid loss: 0.071916, valid acc: 0.909578\n",
      "\n"
     ]
    },
    {
     "name": "stderr",
     "output_type": "stream",
     "text": [
      "train minibatch loop: 100%|██████████| 2556/2556 [01:51<00:00, 22.92it/s, accuracy=0.857, cost=0.0554]\n",
      "test minibatch loop: 100%|██████████| 639/639 [00:02<00:00, 214.08it/s, accuracy=0.837, cost=0.154] \n",
      "train minibatch loop:   0%|          | 3/2556 [00:00<01:52, 22.60it/s, accuracy=0.867, cost=0.106]"
     ]
    },
    {
     "name": "stdout",
     "output_type": "stream",
     "text": [
      "time taken: 114.86278223991394\n",
      "epoch: 25, training loss: 0.065221, training acc: 0.913501, valid loss: 0.071793, valid acc: 0.909552\n",
      "\n"
     ]
    },
    {
     "name": "stderr",
     "output_type": "stream",
     "text": [
      "train minibatch loop: 100%|██████████| 2556/2556 [01:51<00:00, 22.93it/s, accuracy=0.857, cost=0.0542]\n",
      "test minibatch loop: 100%|██████████| 639/639 [00:02<00:00, 213.23it/s, accuracy=0.837, cost=0.153] \n",
      "train minibatch loop:   0%|          | 3/2556 [00:00<01:53, 22.52it/s, accuracy=0.867, cost=0.106]"
     ]
    },
    {
     "name": "stdout",
     "output_type": "stream",
     "text": [
      "epoch: 26, pass acc: 0.909578, current acc: 0.909604\n",
      "time taken: 114.87152290344238\n",
      "epoch: 26, training loss: 0.064740, training acc: 0.913964, valid loss: 0.071685, valid acc: 0.909604\n",
      "\n"
     ]
    },
    {
     "name": "stderr",
     "output_type": "stream",
     "text": [
      "train minibatch loop: 100%|██████████| 2556/2556 [01:51<00:00, 22.92it/s, accuracy=0.857, cost=0.0531]\n",
      "test minibatch loop: 100%|██████████| 639/639 [00:02<00:00, 213.16it/s, accuracy=0.837, cost=0.153] \n",
      "train minibatch loop:   0%|          | 3/2556 [00:00<01:53, 22.59it/s, accuracy=0.867, cost=0.106]"
     ]
    },
    {
     "name": "stdout",
     "output_type": "stream",
     "text": [
      "epoch: 27, pass acc: 0.909604, current acc: 0.909682\n",
      "time taken: 114.88721418380737\n",
      "epoch: 27, training loss: 0.064273, training acc: 0.914394, valid loss: 0.071592, valid acc: 0.909682\n",
      "\n"
     ]
    },
    {
     "name": "stderr",
     "output_type": "stream",
     "text": [
      "train minibatch loop: 100%|██████████| 2556/2556 [01:51<00:00, 22.90it/s, accuracy=0.857, cost=0.0521]\n",
      "test minibatch loop: 100%|██████████| 639/639 [00:02<00:00, 213.40it/s, accuracy=0.837, cost=0.153] \n",
      "train minibatch loop:   0%|          | 3/2556 [00:00<01:52, 22.65it/s, accuracy=0.867, cost=0.106]"
     ]
    },
    {
     "name": "stdout",
     "output_type": "stream",
     "text": [
      "epoch: 28, pass acc: 0.909682, current acc: 0.909682\n",
      "time taken: 114.87823390960693\n",
      "epoch: 28, training loss: 0.063820, training acc: 0.914831, valid loss: 0.071512, valid acc: 0.909682\n",
      "\n"
     ]
    },
    {
     "name": "stderr",
     "output_type": "stream",
     "text": [
      "train minibatch loop: 100%|██████████| 2556/2556 [01:51<00:00, 22.77it/s, accuracy=0.857, cost=0.0511]\n",
      "test minibatch loop: 100%|██████████| 639/639 [00:03<00:00, 212.63it/s, accuracy=0.837, cost=0.153] \n",
      "train minibatch loop:   0%|          | 3/2556 [00:00<01:52, 22.62it/s, accuracy=0.867, cost=0.107]"
     ]
    },
    {
     "name": "stdout",
     "output_type": "stream",
     "text": [
      "epoch: 29, pass acc: 0.909682, current acc: 0.909865\n",
      "time taken: 114.88942337036133\n",
      "epoch: 29, training loss: 0.063380, training acc: 0.915157, valid loss: 0.071444, valid acc: 0.909865\n",
      "\n"
     ]
    },
    {
     "name": "stderr",
     "output_type": "stream",
     "text": [
      "train minibatch loop: 100%|██████████| 2556/2556 [01:51<00:00, 22.92it/s, accuracy=0.857, cost=0.0501]\n",
      "test minibatch loop: 100%|██████████| 639/639 [00:02<00:00, 213.10it/s, accuracy=0.837, cost=0.153] \n",
      "train minibatch loop:   0%|          | 3/2556 [00:00<01:53, 22.58it/s, accuracy=0.867, cost=0.107]"
     ]
    },
    {
     "name": "stdout",
     "output_type": "stream",
     "text": [
      "epoch: 30, pass acc: 0.909865, current acc: 0.910021\n",
      "time taken: 114.85861921310425\n",
      "epoch: 30, training loss: 0.062953, training acc: 0.915412, valid loss: 0.071387, valid acc: 0.910021\n",
      "\n"
     ]
    },
    {
     "name": "stderr",
     "output_type": "stream",
     "text": [
      "train minibatch loop: 100%|██████████| 2556/2556 [01:51<00:00, 22.90it/s, accuracy=0.857, cost=0.0492] \n",
      "test minibatch loop: 100%|██████████| 639/639 [00:02<00:00, 213.16it/s, accuracy=0.837, cost=0.153] \n",
      "train minibatch loop:   0%|          | 3/2556 [00:00<01:52, 22.66it/s, accuracy=0.867, cost=0.107]"
     ]
    },
    {
     "name": "stdout",
     "output_type": "stream",
     "text": [
      "epoch: 31, pass acc: 0.910021, current acc: 0.910073\n",
      "time taken: 114.88888716697693\n",
      "epoch: 31, training loss: 0.062537, training acc: 0.915757, valid loss: 0.071342, valid acc: 0.910073\n",
      "\n"
     ]
    },
    {
     "name": "stderr",
     "output_type": "stream",
     "text": [
      "train minibatch loop: 100%|██████████| 2556/2556 [01:51<00:00, 22.90it/s, accuracy=0.857, cost=0.0483] \n",
      "test minibatch loop: 100%|██████████| 639/639 [00:02<00:00, 213.59it/s, accuracy=0.837, cost=0.153] \n",
      "train minibatch loop:   0%|          | 3/2556 [00:00<01:53, 22.55it/s, accuracy=0.867, cost=0.108]"
     ]
    },
    {
     "name": "stdout",
     "output_type": "stream",
     "text": [
      "epoch: 32, pass acc: 0.910073, current acc: 0.910152\n",
      "time taken: 114.89193224906921\n",
      "epoch: 32, training loss: 0.062132, training acc: 0.916103, valid loss: 0.071306, valid acc: 0.910152\n",
      "\n"
     ]
    },
    {
     "name": "stderr",
     "output_type": "stream",
     "text": [
      "train minibatch loop: 100%|██████████| 2556/2556 [01:51<00:00, 22.91it/s, accuracy=0.857, cost=0.0475] \n",
      "test minibatch loop: 100%|██████████| 639/639 [00:02<00:00, 214.16it/s, accuracy=0.837, cost=0.153] \n",
      "train minibatch loop:   0%|          | 3/2556 [00:00<01:53, 22.59it/s, accuracy=0.867, cost=0.108]"
     ]
    },
    {
     "name": "stdout",
     "output_type": "stream",
     "text": [
      "epoch: 33, pass acc: 0.910152, current acc: 0.910178\n",
      "time taken: 114.85901284217834\n",
      "epoch: 33, training loss: 0.061737, training acc: 0.916521, valid loss: 0.071281, valid acc: 0.910178\n",
      "\n"
     ]
    },
    {
     "name": "stderr",
     "output_type": "stream",
     "text": [
      "train minibatch loop: 100%|██████████| 2556/2556 [01:51<00:00, 22.89it/s, accuracy=0.857, cost=0.0467] \n",
      "test minibatch loop: 100%|██████████| 639/639 [00:02<00:00, 213.23it/s, accuracy=0.837, cost=0.153] \n",
      "train minibatch loop:   0%|          | 3/2556 [00:00<01:52, 22.62it/s, accuracy=0.867, cost=0.108]"
     ]
    },
    {
     "name": "stdout",
     "output_type": "stream",
     "text": [
      "epoch: 34, pass acc: 0.910178, current acc: 0.910308\n",
      "time taken: 114.90892553329468\n",
      "epoch: 34, training loss: 0.061352, training acc: 0.916899, valid loss: 0.071264, valid acc: 0.910308\n",
      "\n"
     ]
    },
    {
     "name": "stderr",
     "output_type": "stream",
     "text": [
      "train minibatch loop: 100%|██████████| 2556/2556 [01:51<00:00, 22.93it/s, accuracy=0.857, cost=0.0459]\n",
      "test minibatch loop: 100%|██████████| 639/639 [00:03<00:00, 212.81it/s, accuracy=0.837, cost=0.153] \n",
      "train minibatch loop:   0%|          | 3/2556 [00:00<01:52, 22.74it/s, accuracy=0.867, cost=0.109]"
     ]
    },
    {
     "name": "stdout",
     "output_type": "stream",
     "text": [
      "time taken: 114.88584637641907\n",
      "epoch: 35, training loss: 0.060976, training acc: 0.917310, valid loss: 0.071256, valid acc: 0.910256\n",
      "\n"
     ]
    },
    {
     "name": "stderr",
     "output_type": "stream",
     "text": [
      "train minibatch loop: 100%|██████████| 2556/2556 [01:51<00:00, 22.92it/s, accuracy=0.857, cost=0.0452]\n",
      "test minibatch loop: 100%|██████████| 639/639 [00:03<00:00, 212.99it/s, accuracy=0.837, cost=0.153] \n",
      "train minibatch loop:   0%|          | 3/2556 [00:00<01:52, 22.60it/s, accuracy=0.867, cost=0.109]"
     ]
    },
    {
     "name": "stdout",
     "output_type": "stream",
     "text": [
      "epoch: 36, pass acc: 0.910308, current acc: 0.910595\n",
      "time taken: 114.8835813999176\n",
      "epoch: 36, training loss: 0.060609, training acc: 0.917766, valid loss: 0.071256, valid acc: 0.910595\n",
      "\n"
     ]
    },
    {
     "name": "stderr",
     "output_type": "stream",
     "text": [
      "train minibatch loop: 100%|██████████| 2556/2556 [01:51<00:00, 22.95it/s, accuracy=0.857, cost=0.0444]\n",
      "test minibatch loop: 100%|██████████| 639/639 [00:02<00:00, 214.09it/s, accuracy=0.837, cost=0.153] \n",
      "train minibatch loop:   0%|          | 3/2556 [00:00<01:52, 22.62it/s, accuracy=0.867, cost=0.109]"
     ]
    },
    {
     "name": "stdout",
     "output_type": "stream",
     "text": [
      "epoch: 37, pass acc: 0.910595, current acc: 0.910595\n",
      "time taken: 114.82986950874329\n",
      "epoch: 37, training loss: 0.060251, training acc: 0.918301, valid loss: 0.071264, valid acc: 0.910595\n",
      "\n"
     ]
    },
    {
     "name": "stderr",
     "output_type": "stream",
     "text": [
      "train minibatch loop: 100%|██████████| 2556/2556 [01:51<00:00, 22.95it/s, accuracy=0.857, cost=0.0437]\n",
      "test minibatch loop: 100%|██████████| 639/639 [00:03<00:00, 211.85it/s, accuracy=0.837, cost=0.153] \n",
      "train minibatch loop:   0%|          | 3/2556 [00:00<01:52, 22.69it/s, accuracy=0.867, cost=0.109]"
     ]
    },
    {
     "name": "stdout",
     "output_type": "stream",
     "text": [
      "time taken: 114.87326407432556\n",
      "epoch: 38, training loss: 0.059900, training acc: 0.918582, valid loss: 0.071280, valid acc: 0.910386\n",
      "\n"
     ]
    },
    {
     "name": "stderr",
     "output_type": "stream",
     "text": [
      "train minibatch loop: 100%|██████████| 2556/2556 [01:51<00:00, 22.91it/s, accuracy=0.857, cost=0.0431]\n",
      "test minibatch loop: 100%|██████████| 639/639 [00:03<00:00, 212.95it/s, accuracy=0.837, cost=0.153] \n",
      "train minibatch loop:   0%|          | 3/2556 [00:00<01:52, 22.63it/s, accuracy=0.867, cost=0.11]"
     ]
    },
    {
     "name": "stdout",
     "output_type": "stream",
     "text": [
      "time taken: 114.86839842796326\n",
      "epoch: 39, training loss: 0.059557, training acc: 0.919038, valid loss: 0.071303, valid acc: 0.910491\n",
      "\n"
     ]
    },
    {
     "name": "stderr",
     "output_type": "stream",
     "text": [
      "train minibatch loop: 100%|██████████| 2556/2556 [01:51<00:00, 22.91it/s, accuracy=0.857, cost=0.0424]\n",
      "test minibatch loop: 100%|██████████| 639/639 [00:03<00:00, 212.99it/s, accuracy=0.837, cost=0.153] "
     ]
    },
    {
     "name": "stdout",
     "output_type": "stream",
     "text": [
      "time taken: 114.87353873252869\n",
      "epoch: 40, training loss: 0.059221, training acc: 0.919567, valid loss: 0.071332, valid acc: 0.910386\n",
      "\n",
      "break epoch:41\n",
      "\n"
     ]
    },
    {
     "name": "stderr",
     "output_type": "stream",
     "text": [
      "\n"
     ]
    }
   ],
   "source": [
    "from tqdm import tqdm\n",
    "import time\n",
    "\n",
    "batch_size = 60\n",
    "EARLY_STOPPING, CURRENT_CHECKPOINT, CURRENT_ACC, EPOCH = 3, 0, 0, 0\n",
    "\n",
    "while True:\n",
    "    lasttime = time.time()\n",
    "    if CURRENT_CHECKPOINT == EARLY_STOPPING:\n",
    "        print('break epoch:%d\\n' % (EPOCH))\n",
    "        break\n",
    "\n",
    "    train_acc, train_loss, test_acc, test_loss = 0, 0, 0, 0\n",
    "    pbar = tqdm(\n",
    "        range(0, train_X.shape[0], batch_size), desc = 'train minibatch loop'\n",
    "    )\n",
    "    for i in pbar:\n",
    "        batch_x = convert_sparse_matrix_to_sparse_tensor(train_X[i : min(i + batch_size, train_X.shape[0])])\n",
    "        batch_y = train_Y[i : min(i + batch_size, train_X.shape[0])]\n",
    "        acc, cost, _ = sess.run(\n",
    "            [model.accuracy, model.cost, model.optimizer],\n",
    "            feed_dict = {\n",
    "                model.Y: batch_y,\n",
    "                model.X: batch_x[0],\n",
    "                model.W: batch_x[1],\n",
    "            },\n",
    "        )\n",
    "        assert not np.isnan(cost)\n",
    "        train_loss += cost\n",
    "        train_acc += acc\n",
    "        pbar.set_postfix(cost = cost, accuracy = acc)\n",
    "\n",
    "    pbar = tqdm(range(0, test_X.shape[0], batch_size), desc = 'test minibatch loop')\n",
    "    for i in pbar:\n",
    "        batch_x = convert_sparse_matrix_to_sparse_tensor(test_X[i : min(i + batch_size, test_X.shape[0])])\n",
    "        batch_y = test_Y[i : min(i + batch_size, test_X.shape[0])]\n",
    "        acc, cost = sess.run(\n",
    "            [model.accuracy, model.cost],\n",
    "            feed_dict = {\n",
    "                model.Y: batch_y,\n",
    "                model.X: batch_x[0],\n",
    "                model.W: batch_x[1],\n",
    "            },\n",
    "        )\n",
    "        test_loss += cost\n",
    "        test_acc += acc\n",
    "        pbar.set_postfix(cost = cost, accuracy = acc)\n",
    "\n",
    "    train_loss /= train_X.shape[0] / batch_size\n",
    "    train_acc /= train_X.shape[0] / batch_size\n",
    "    test_loss /= test_X.shape[0] / batch_size\n",
    "    test_acc /= test_X.shape[0] / batch_size\n",
    "\n",
    "    if test_acc > CURRENT_ACC:\n",
    "        print(\n",
    "            'epoch: %d, pass acc: %f, current acc: %f'\n",
    "            % (EPOCH, CURRENT_ACC, test_acc)\n",
    "        )\n",
    "        CURRENT_ACC = test_acc\n",
    "        CURRENT_CHECKPOINT = 0\n",
    "    else:\n",
    "        CURRENT_CHECKPOINT += 1\n",
    "\n",
    "    print('time taken:', time.time() - lasttime)\n",
    "    print(\n",
    "        'epoch: %d, training loss: %f, training acc: %f, valid loss: %f, valid acc: %f\\n'\n",
    "        % (EPOCH, train_loss, train_acc, test_loss, test_acc)\n",
    "    )\n",
    "    EPOCH += 1"
   ]
  },
  {
   "cell_type": "code",
   "execution_count": 17,
   "metadata": {},
   "outputs": [
    {
     "name": "stderr",
     "output_type": "stream",
     "text": [
      "validation minibatch loop: 100%|██████████| 639/639 [00:07<00:00, 84.25it/s]\n"
     ]
    }
   ],
   "source": [
    "stack = []\n",
    "\n",
    "pbar = tqdm(\n",
    "    range(0, test_X.shape[0], batch_size), desc = 'validation minibatch loop'\n",
    ")\n",
    "for i in pbar:\n",
    "    batch_x = convert_sparse_matrix_to_sparse_tensor(test_X[i : min(i + batch_size, test_X.shape[0])])\n",
    "    batch_y = test_Y[i : min(i + batch_size, test_X.shape[0])]\n",
    "    stack.append(sess.run(\n",
    "        tf.nn.sigmoid(model.logits), \n",
    "        feed_dict = {model.X: batch_x[0], model.W: batch_x[1], model.Y: batch_y}\n",
    "    ))"
   ]
  },
  {
   "cell_type": "code",
   "execution_count": 18,
   "metadata": {},
   "outputs": [
    {
     "name": "stdout",
     "output_type": "stream",
     "text": [
      "               precision    recall  f1-score   support\n",
      "\n",
      "        toxic       0.83      0.56      0.67      3654\n",
      " severe_toxic       0.47      0.22      0.30       387\n",
      "      obscene       0.84      0.54      0.65      1985\n",
      "       threat       0.48      0.17      0.25       120\n",
      "       insult       0.73      0.44      0.55      1862\n",
      "identity_hate       0.44      0.18      0.26       326\n",
      "\n",
      "  avg / total       0.77      0.49      0.60      8334\n",
      "\n"
     ]
    }
   ],
   "source": [
    "print(metrics.classification_report(np.array(test_Y),np.around(np.concatenate(stack,axis=0)),\n",
    "                                    target_names=[\"toxic\", \"severe_toxic\", \"obscene\", \n",
    "                                            \"threat\", \"insult\", \"identity_hate\"]))"
   ]
  },
  {
   "cell_type": "code",
   "execution_count": 19,
   "metadata": {},
   "outputs": [
    {
     "data": {
      "text/plain": [
       "'fast-text-char/model.ckpt'"
      ]
     },
     "execution_count": 19,
     "metadata": {},
     "output_type": "execute_result"
    }
   ],
   "source": [
    "saver.save(sess, 'fast-text-char/model.ckpt')"
   ]
  },
  {
   "cell_type": "code",
   "execution_count": 20,
   "metadata": {},
   "outputs": [],
   "source": [
    "import pickle\n",
    "with open('vectorizer-sparse-toxicity.pkl','wb') as fopen:\n",
    "    pickle.dump(bow_chars, fopen)"
   ]
  },
  {
   "cell_type": "code",
   "execution_count": null,
   "metadata": {},
   "outputs": [],
   "source": []
  }
 ],
 "metadata": {
  "kernelspec": {
   "display_name": "Python 3",
   "language": "python",
   "name": "python3"
  },
  "language_info": {
   "codemirror_mode": {
    "name": "ipython",
    "version": 3
   },
   "file_extension": ".py",
   "mimetype": "text/x-python",
   "name": "python",
   "nbconvert_exporter": "python",
   "pygments_lexer": "ipython3",
   "version": "3.6.8"
  }
 },
 "nbformat": 4,
 "nbformat_minor": 2
}
