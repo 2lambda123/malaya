{
 "cells": [
  {
   "cell_type": "markdown",
   "metadata": {},
   "source": [
    "# Isi Penting Generator HuggingFace article style"
   ]
  },
  {
   "cell_type": "markdown",
   "metadata": {},
   "source": [
    "Generate a long text with article style given isi penting (important facts)."
   ]
  },
  {
   "cell_type": "markdown",
   "metadata": {},
   "source": [
    "<div class=\"alert alert-info\">\n",
    "\n",
    "This tutorial is available as an IPython notebook at [Malaya/example/isi-penting-generator-huggingface-article-style](https://github.com/huseinzol05/Malaya/tree/master/example/isi-penting-generator-huggingface-article-style).\n",
    "    \n",
    "</div>"
   ]
  },
  {
   "cell_type": "markdown",
   "metadata": {},
   "source": [
    "<div class=\"alert alert-warning\">\n",
    "\n",
    "Results generated using stochastic methods.\n",
    "    \n",
    "</div>"
   ]
  },
  {
   "cell_type": "code",
   "execution_count": 1,
   "metadata": {},
   "outputs": [
    {
     "name": "stdout",
     "output_type": "stream",
     "text": [
      "CPU times: user 3.1 s, sys: 3.49 s, total: 6.59 s\n",
      "Wall time: 2.34 s\n"
     ]
    }
   ],
   "source": [
    "%%time\n",
    "import malaya\n",
    "from pprint import pprint"
   ]
  },
  {
   "cell_type": "markdown",
   "metadata": {},
   "source": [
    "### List available HuggingFace"
   ]
  },
  {
   "cell_type": "code",
   "execution_count": 2,
   "metadata": {},
   "outputs": [
    {
     "data": {
      "text/html": [
       "<div>\n",
       "<style scoped>\n",
       "    .dataframe tbody tr th:only-of-type {\n",
       "        vertical-align: middle;\n",
       "    }\n",
       "\n",
       "    .dataframe tbody tr th {\n",
       "        vertical-align: top;\n",
       "    }\n",
       "\n",
       "    .dataframe thead th {\n",
       "        text-align: right;\n",
       "    }\n",
       "</style>\n",
       "<table border=\"1\" class=\"dataframe\">\n",
       "  <thead>\n",
       "    <tr style=\"text-align: right;\">\n",
       "      <th></th>\n",
       "      <th>Size (MB)</th>\n",
       "      <th>ROUGE-1</th>\n",
       "      <th>ROUGE-2</th>\n",
       "      <th>ROUGE-L</th>\n",
       "      <th>Suggested length</th>\n",
       "    </tr>\n",
       "  </thead>\n",
       "  <tbody>\n",
       "    <tr>\n",
       "      <th>mesolitica/finetune-isi-penting-generator-t5-small-standard-bahasa-cased</th>\n",
       "      <td>242.0</td>\n",
       "      <td>0.246203</td>\n",
       "      <td>0.058961</td>\n",
       "      <td>0.15159</td>\n",
       "      <td>1024.0</td>\n",
       "    </tr>\n",
       "    <tr>\n",
       "      <th>mesolitica/finetune-isi-penting-generator-t5-base-standard-bahasa-cased</th>\n",
       "      <td>892.0</td>\n",
       "      <td>0.246203</td>\n",
       "      <td>0.058961</td>\n",
       "      <td>0.15159</td>\n",
       "      <td>1024.0</td>\n",
       "    </tr>\n",
       "  </tbody>\n",
       "</table>\n",
       "</div>"
      ],
      "text/plain": [
       "                                                    Size (MB)   ROUGE-1  \\\n",
       "mesolitica/finetune-isi-penting-generator-t5-sm...      242.0  0.246203   \n",
       "mesolitica/finetune-isi-penting-generator-t5-ba...      892.0  0.246203   \n",
       "\n",
       "                                                     ROUGE-2  ROUGE-L  \\\n",
       "mesolitica/finetune-isi-penting-generator-t5-sm...  0.058961  0.15159   \n",
       "mesolitica/finetune-isi-penting-generator-t5-ba...  0.058961  0.15159   \n",
       "\n",
       "                                                    Suggested length  \n",
       "mesolitica/finetune-isi-penting-generator-t5-sm...            1024.0  \n",
       "mesolitica/finetune-isi-penting-generator-t5-ba...            1024.0  "
      ]
     },
     "execution_count": 2,
     "metadata": {},
     "output_type": "execute_result"
    }
   ],
   "source": [
    "malaya.generator.isi_penting.available_huggingface()"
   ]
  },
  {
   "cell_type": "markdown",
   "metadata": {},
   "source": [
    "### Load HuggingFace\n",
    "\n",
    "Transformer Generator in Malaya is quite unique, most of the text generative model we found on the internet like GPT2 or Markov, simply just continue prefix input from user, but not for Transformer Generator. We want to generate an article or karangan like high school when the users give 'isi penting'.\n",
    "\n",
    "```python\n",
    "def huggingface(model: str = 'mesolitica/finetune-isi-penting-generator-t5-base-standard-bahasa-cased', **kwargs):\n",
    "    \"\"\"\n",
    "    Load HuggingFace model to generate text based on isi penting.\n",
    "\n",
    "    Parameters\n",
    "    ----------\n",
    "    model: str, optional (default='mesolitica/finetune-isi-penting-generator-t5-base-standard-bahasa-cased')\n",
    "        Check available models at `malaya.generator.isi_penting.available_huggingface()`.\n",
    "\n",
    "    Returns\n",
    "    -------\n",
    "    result: malaya.torch_model.huggingface.IsiPentingGenerator\n",
    "    \"\"\"\n",
    "```"
   ]
  },
  {
   "cell_type": "code",
   "execution_count": 3,
   "metadata": {},
   "outputs": [],
   "source": [
    "model = malaya.generator.isi_penting.huggingface()"
   ]
  },
  {
   "cell_type": "markdown",
   "metadata": {},
   "source": [
    "#### generate\n",
    "\n",
    "```python\n",
    "def generate(\n",
    "    self,\n",
    "    strings: List[str],\n",
    "    mode: str = 'surat-khabar',\n",
    "    **kwargs,\n",
    "):\n",
    "    \"\"\"\n",
    "    generate a long text given a isi penting.\n",
    "\n",
    "    Parameters\n",
    "    ----------\n",
    "    strings : List[str]\n",
    "    mode: str, optional (default='surat-khabar')\n",
    "        Mode supported. Allowed values:\n",
    "\n",
    "        * ``'surat-khabar'`` - news style writing.\n",
    "        * ``'tajuk-surat-khabar'`` - headline news style writing.\n",
    "        * ``'artikel'`` - article style writing.\n",
    "        * ``'penerangan-produk'`` - product description style writing.\n",
    "        * ``'karangan'`` - karangan sekolah style writing.\n",
    "\n",
    "    **kwargs: vector arguments pass to huggingface `generate` method.\n",
    "        Read more at https://huggingface.co/docs/transformers/main_classes/text_generation\n",
    "\n",
    "    Returns\n",
    "    -------\n",
    "    result: List[str]\n",
    "    \"\"\"\n",
    "```"
   ]
  },
  {
   "cell_type": "markdown",
   "metadata": {},
   "source": [
    "### Good thing about HuggingFace\n",
    "\n",
    "In `generate` method, you can do greedy, beam, sampling, nucleus decoder and so much more, read it at https://huggingface.co/blog/how-to-generate\n",
    "\n",
    "And recently, huggingface released https://huggingface.co/blog/introducing-csearch"
   ]
  },
  {
   "cell_type": "code",
   "execution_count": 8,
   "metadata": {},
   "outputs": [],
   "source": [
    "isi_penting = ['Neelofa tetap dengan keputusan untuk berkahwin akhir tahun ini',\n",
    "              'Long Tiger sanggup membantu Neelofa',\n",
    "              'Tiba-tiba Long Tiger bergaduh dengan Husein Zolkepli']"
   ]
  },
  {
   "cell_type": "markdown",
   "metadata": {},
   "source": [
    "We also can give any isi penting even does not make any sense."
   ]
  },
  {
   "cell_type": "code",
   "execution_count": 9,
   "metadata": {},
   "outputs": [
    {
     "name": "stdout",
     "output_type": "stream",
     "text": [
      "['Pada usia 19 tahun, Neelofa mula berpacaran dengan Husein Zolkepli, bekas '\n",
      " 'suami iparnya. Pada tahun 2018, bekas suami ipar Neelofa Zolkepli berkahwin '\n",
      " 'dengan pasangan muda berusia 18 tahun. Neelofa, Neelofa, dan Zolkepli telah '\n",
      " 'saling berkahwin.']\n"
     ]
    }
   ],
   "source": [
    "pprint(model.generate(isi_penting, do_sample=True, mode = 'artikel',\n",
    "    max_length=256,\n",
    "    top_k=50, \n",
    "    top_p=0.95, ))"
   ]
  },
  {
   "cell_type": "code",
   "execution_count": 10,
   "metadata": {},
   "outputs": [
    {
     "name": "stdout",
     "output_type": "stream",
     "text": [
      "['Pada bulan September 2016, Neelofa mengumumkan niatnya untuk berkahwin '\n",
      " 'dengan Husein Zolkepli. Pada bulan September 2017, Neelofa dan Zolkepli '\n",
      " 'bertunang.']\n"
     ]
    }
   ],
   "source": [
    "pprint(model.generate(isi_penting, mode = 'artikel',\n",
    "    do_sample=True, \n",
    "    max_length=256, \n",
    "    penalty_alpha=0.8, top_k=4,))"
   ]
  },
  {
   "cell_type": "code",
   "execution_count": 11,
   "metadata": {},
   "outputs": [],
   "source": [
    "isi_penting = ['Astronomi (dari) adalah sains semula jadi yang mengkaji objek dan fenomena cakerawala.',\n",
    " 'Ia menggunakan matematik, fizik, dan kimia untuk menjelaskan asal usul dan evolusi mereka.',\n",
    " 'Objek yang menarik termasuk planet, bulan, bintang, nebula, galaksi, dan komet.',\n",
    " 'Fenomena yang relevan termasuk letupan supernova, ledakan sinar gamma, kusar, blazar, pulsar, dan radiasi latar belakang gelombang mikro kosmik.',\n",
    " 'Secara umum, astronomi mengkaji semua yang berasal dari luar atmosfer Bumi.',\n",
    " 'Kosmologi adalah cabang astronomi.',\n",
    " 'Ia mengkaji Alam Semesta secara keseluruhan.']"
   ]
  },
  {
   "cell_type": "code",
   "execution_count": 14,
   "metadata": {},
   "outputs": [
    {
     "name": "stdout",
     "output_type": "stream",
     "text": [
      "['Astronomi telah menjadi sains yang sangat berpengaruh dalam sains fizikal '\n",
      " 'dan fizikal. Salah satu daripada banyak yang dapat menangani astronomi, '\n",
      " 'sains sains moden berkembang menjadi sains dan sains, yang merangkumi '\n",
      " 'astronomi, astrofizik, fizik, kejuruteraan, kimia, geologi, meteorologi dan '\n",
      " 'kimia, dan kajian objek dan fenomena cakerawala, di mana astronomi dan sains '\n",
      " 'sosial mempengaruhi orang, planet, dan kawasan di sekelilingnya. Oleh kerana '\n",
      " 'pemerhatian yang sangat tepat, yang merangkumi banyak bidang penting, '\n",
      " 'astronomi sains baru mempunyai banyak kelebihan. Astronomi juga merupakan '\n",
      " 'bidang yang sedang dikaji dan dikaji dengan baik dalam pelbagai konteks. '\n",
      " '\"astronomi\" adalah sains dalam sains yang difokuskan pada objek dan fenomena '\n",
      " 'cakerawala, termasuk supernova, bulan, bintang, planet, galaksi, dan komet. '\n",
      " 'Ahli astronomi mengkaji pelbagai fenomena dan evolusi cakerawala, termasuk '\n",
      " 'ciri-cirinya yang unik, seperti yang terdapat pada cakera planet atau planet '\n",
      " 'gergasi, planet, bulan, dan bintang, seperti sinar-X (lihat juga bintang '\n",
      " 'neutron), dan radiasi latar belakang gelombang mikro kosmik. Astronomi '\n",
      " \"menggunakan kaedah lain untuk mengkaji pembentukan 'bola' atau 'pesta' \"\n",
      " 'dengan lebih baik daripada yang terdapat di ruang fizikal yang tidak sesuai. '\n",
      " 'Bidang lain yang dikaji termasuk sains permukaan, astronomi kuantum, '\n",
      " 'astrofizik atmosfera,']\n"
     ]
    }
   ],
   "source": [
    "pprint(model.generate(isi_penting, do_sample=True, mode = 'artikel',\n",
    "    max_length=256,\n",
    "    top_k=50, \n",
    "    top_p=0.95, ))"
   ]
  },
  {
   "cell_type": "code",
   "execution_count": 13,
   "metadata": {},
   "outputs": [
    {
     "name": "stdout",
     "output_type": "stream",
     "text": [
      "['Pada zaman moden, astronomi telah berkembang menjadi sains yang sangat luas '\n",
      " 'dan merangkumi pelbagai disiplin. Astronomi telah berkembang dari astronomi '\n",
      " 'klasik menjadi astronomi saintifik yang merangkumi pelbagai disiplin, dan '\n",
      " 'telah menjadi sains yang paling berpengaruh. Astronomi moden adalah sains '\n",
      " 'yang sangat besar yang merangkumi pelbagai disiplin, dan telah berkembang '\n",
      " 'dalam bidang yang merangkumi astronomi saintifik dan astronomi. Astronomi '\n",
      " 'adalah disiplin sains yang paling banyak dikaji dan dikaji di dunia, dan '\n",
      " 'telah menjadi salah satu disiplin yang paling penting dalam bidang ini. '\n",
      " 'Astronomi telah menjadi disiplin yang paling banyak dikaji dan dikaji di '\n",
      " 'dunia, dan telah menjadi salah satu disiplin yang paling berpengaruh dalam '\n",
      " 'bidang ini. Astronomi telah menjadi cabang astronomi, yang mengkaji semua '\n",
      " 'objek dan objek dari alam semesta. Astronomi juga mengkaji alam semesta, dan '\n",
      " 'telah mengembangkan sejumlah disiplin baru, termasuk: Astronomi mengkaji '\n",
      " 'alam semesta, dan juga mengkaji alam semesta. Astronomi mengkaji alam '\n",
      " 'semesta secara keseluruhan, dan mengkaji Alam Semesta, dan juga mengkaji '\n",
      " 'alam semesta yang lain. Astronomi mengkaji alam semesta dan alam semesta '\n",
      " 'secara keseluruhan, dan mengkaji alam semesta dan alam semesta secara '\n",
      " 'keseluruhan. Astronomi mengkaji alam semesta dan alam semesta secara '\n",
      " 'keseluruhan, dan mengkaji alam semesta secara keseluruhan. Astronomi '\n",
      " 'mengkaji semua objek dan fenomena yang berasal dari alam semesta, dan '\n",
      " 'mengkaji alam semesta,']\n"
     ]
    }
   ],
   "source": [
    "pprint(model.generate(isi_penting, mode = 'artikel',\n",
    "    do_sample=True, \n",
    "    max_length=256, \n",
    "    penalty_alpha=0.8, top_k=4,))"
   ]
  },
  {
   "cell_type": "code",
   "execution_count": null,
   "metadata": {},
   "outputs": [],
   "source": []
  }
 ],
 "metadata": {
  "kernelspec": {
   "display_name": "Python 3 (ipykernel)",
   "language": "python",
   "name": "python3"
  },
  "language_info": {
   "codemirror_mode": {
    "name": "ipython",
    "version": 3
   },
   "file_extension": ".py",
   "mimetype": "text/x-python",
   "name": "python",
   "nbconvert_exporter": "python",
   "pygments_lexer": "ipython3",
   "version": "3.8.10"
  },
  "varInspector": {
   "cols": {
    "lenName": 16,
    "lenType": 16,
    "lenVar": 40
   },
   "kernels_config": {
    "python": {
     "delete_cmd_postfix": "",
     "delete_cmd_prefix": "del ",
     "library": "var_list.py",
     "varRefreshCmd": "print(var_dic_list())"
    },
    "r": {
     "delete_cmd_postfix": ") ",
     "delete_cmd_prefix": "rm(",
     "library": "var_list.r",
     "varRefreshCmd": "cat(var_dic_list()) "
    }
   },
   "types_to_exclude": [
    "module",
    "function",
    "builtin_function_or_method",
    "instance",
    "_Feature"
   ],
   "window_display": false
  }
 },
 "nbformat": 4,
 "nbformat_minor": 2
}
