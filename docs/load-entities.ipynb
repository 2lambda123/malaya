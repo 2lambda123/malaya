{
 "cells": [
  {
   "cell_type": "markdown",
   "metadata": {},
   "source": [
    "# Entities Recognition"
   ]
  },
  {
   "cell_type": "markdown",
   "metadata": {},
   "source": [
    "<div class=\"alert alert-info\">\n",
    "\n",
    "This tutorial is available as an IPython notebook at [Malaya/example/entities](https://github.com/huseinzol05/Malaya/tree/master/example/entities).\n",
    "    \n",
    "</div>"
   ]
  },
  {
   "cell_type": "markdown",
   "metadata": {},
   "source": [
    "<div class=\"alert alert-warning\">\n",
    "\n",
    "This module only trained on standard language structure, so it is not save to use it for local language structure.\n",
    "    \n",
    "</div>"
   ]
  },
  {
   "cell_type": "code",
   "execution_count": 1,
   "metadata": {},
   "outputs": [
    {
     "name": "stdout",
     "output_type": "stream",
     "text": [
      "CPU times: user 4.32 s, sys: 597 ms, total: 4.91 s\n",
      "Wall time: 4.04 s\n"
     ]
    },
    {
     "name": "stderr",
     "output_type": "stream",
     "text": [
      "/Users/huseinzolkepli/Documents/Malaya/malaya/preprocessing.py:259: FutureWarning: Possible nested set at position 2289\n",
      "  self.tok = re.compile(r'({})'.format('|'.join(pipeline)))\n"
     ]
    }
   ],
   "source": [
    "%%time\n",
    "import malaya"
   ]
  },
  {
   "cell_type": "markdown",
   "metadata": {},
   "source": [
    "### Describe supported entities"
   ]
  },
  {
   "cell_type": "code",
   "execution_count": 2,
   "metadata": {
    "scrolled": true
   },
   "outputs": [
    {
     "data": {
      "text/html": [
       "<div>\n",
       "<style scoped>\n",
       "    .dataframe tbody tr th:only-of-type {\n",
       "        vertical-align: middle;\n",
       "    }\n",
       "\n",
       "    .dataframe tbody tr th {\n",
       "        vertical-align: top;\n",
       "    }\n",
       "\n",
       "    .dataframe thead th {\n",
       "        text-align: right;\n",
       "    }\n",
       "</style>\n",
       "<table border=\"1\" class=\"dataframe\">\n",
       "  <thead>\n",
       "    <tr style=\"text-align: right;\">\n",
       "      <th></th>\n",
       "      <th>Tag</th>\n",
       "      <th>Description</th>\n",
       "    </tr>\n",
       "  </thead>\n",
       "  <tbody>\n",
       "    <tr>\n",
       "      <th>0</th>\n",
       "      <td>OTHER</td>\n",
       "      <td>other</td>\n",
       "    </tr>\n",
       "    <tr>\n",
       "      <th>1</th>\n",
       "      <td>law</td>\n",
       "      <td>law, regulation, related law documents, documents, etc</td>\n",
       "    </tr>\n",
       "    <tr>\n",
       "      <th>2</th>\n",
       "      <td>location</td>\n",
       "      <td>location, place</td>\n",
       "    </tr>\n",
       "    <tr>\n",
       "      <th>3</th>\n",
       "      <td>organization</td>\n",
       "      <td>organization, company, government, facilities, etc</td>\n",
       "    </tr>\n",
       "    <tr>\n",
       "      <th>4</th>\n",
       "      <td>person</td>\n",
       "      <td>person, group of people, believes, unique arts (eg; food, drink), etc</td>\n",
       "    </tr>\n",
       "    <tr>\n",
       "      <th>5</th>\n",
       "      <td>quantity</td>\n",
       "      <td>numbers, quantity</td>\n",
       "    </tr>\n",
       "    <tr>\n",
       "      <th>6</th>\n",
       "      <td>time</td>\n",
       "      <td>date, day, time, etc</td>\n",
       "    </tr>\n",
       "    <tr>\n",
       "      <th>7</th>\n",
       "      <td>event</td>\n",
       "      <td>unique event happened, etc</td>\n",
       "    </tr>\n",
       "  </tbody>\n",
       "</table>\n",
       "</div>"
      ],
      "text/plain": [
       "            Tag  \\\n",
       "0  OTHER          \n",
       "1  law            \n",
       "2  location       \n",
       "3  organization   \n",
       "4  person         \n",
       "5  quantity       \n",
       "6  time           \n",
       "7  event          \n",
       "\n",
       "                                                             Description  \n",
       "0  other                                                                  \n",
       "1  law, regulation, related law documents, documents, etc                 \n",
       "2  location, place                                                        \n",
       "3  organization, company, government, facilities, etc                     \n",
       "4  person, group of people, believes, unique arts (eg; food, drink), etc  \n",
       "5  numbers, quantity                                                      \n",
       "6  date, day, time, etc                                                   \n",
       "7  unique event happened, etc                                             "
      ]
     },
     "execution_count": 2,
     "metadata": {},
     "output_type": "execute_result"
    }
   ],
   "source": [
    "import pandas as pd\n",
    "pd.set_option('display.max_colwidth', -1)\n",
    "malaya.entity.describe()"
   ]
  },
  {
   "cell_type": "markdown",
   "metadata": {},
   "source": [
    "### Describe supported Ontonotes 5 entities"
   ]
  },
  {
   "cell_type": "code",
   "execution_count": 3,
   "metadata": {},
   "outputs": [
    {
     "data": {
      "text/html": [
       "<div>\n",
       "<style scoped>\n",
       "    .dataframe tbody tr th:only-of-type {\n",
       "        vertical-align: middle;\n",
       "    }\n",
       "\n",
       "    .dataframe tbody tr th {\n",
       "        vertical-align: top;\n",
       "    }\n",
       "\n",
       "    .dataframe thead th {\n",
       "        text-align: right;\n",
       "    }\n",
       "</style>\n",
       "<table border=\"1\" class=\"dataframe\">\n",
       "  <thead>\n",
       "    <tr style=\"text-align: right;\">\n",
       "      <th></th>\n",
       "      <th>Tag</th>\n",
       "      <th>Description</th>\n",
       "    </tr>\n",
       "  </thead>\n",
       "  <tbody>\n",
       "    <tr>\n",
       "      <th>0</th>\n",
       "      <td>OTHER</td>\n",
       "      <td>other</td>\n",
       "    </tr>\n",
       "    <tr>\n",
       "      <th>1</th>\n",
       "      <td>ADDRESS</td>\n",
       "      <td>Address of physical location.</td>\n",
       "    </tr>\n",
       "    <tr>\n",
       "      <th>2</th>\n",
       "      <td>PERSON</td>\n",
       "      <td>People, including fictional.</td>\n",
       "    </tr>\n",
       "    <tr>\n",
       "      <th>3</th>\n",
       "      <td>NORP</td>\n",
       "      <td>Nationalities or religious or political groups.</td>\n",
       "    </tr>\n",
       "    <tr>\n",
       "      <th>4</th>\n",
       "      <td>FAC</td>\n",
       "      <td>Buildings, airports, highways, bridges, etc.</td>\n",
       "    </tr>\n",
       "    <tr>\n",
       "      <th>5</th>\n",
       "      <td>ORG</td>\n",
       "      <td>Companies, agencies, institutions, etc.</td>\n",
       "    </tr>\n",
       "    <tr>\n",
       "      <th>6</th>\n",
       "      <td>GPE</td>\n",
       "      <td>Countries, cities, states.</td>\n",
       "    </tr>\n",
       "    <tr>\n",
       "      <th>7</th>\n",
       "      <td>LOC</td>\n",
       "      <td>Non-GPE locations, mountain ranges, bodies of water.</td>\n",
       "    </tr>\n",
       "    <tr>\n",
       "      <th>8</th>\n",
       "      <td>PRODUCT</td>\n",
       "      <td>Objects, vehicles, foods, etc. (Not services.)</td>\n",
       "    </tr>\n",
       "    <tr>\n",
       "      <th>9</th>\n",
       "      <td>EVENT</td>\n",
       "      <td>Named hurricanes, battles, wars, sports events, etc.</td>\n",
       "    </tr>\n",
       "    <tr>\n",
       "      <th>10</th>\n",
       "      <td>WORK_OF_ART</td>\n",
       "      <td>Titles of books, songs, etc.</td>\n",
       "    </tr>\n",
       "    <tr>\n",
       "      <th>11</th>\n",
       "      <td>LAW</td>\n",
       "      <td>Named documents made into laws.</td>\n",
       "    </tr>\n",
       "    <tr>\n",
       "      <th>12</th>\n",
       "      <td>LANGUAGE</td>\n",
       "      <td>Any named language.</td>\n",
       "    </tr>\n",
       "    <tr>\n",
       "      <th>13</th>\n",
       "      <td>DATE</td>\n",
       "      <td>Absolute or relative dates or periods.</td>\n",
       "    </tr>\n",
       "    <tr>\n",
       "      <th>14</th>\n",
       "      <td>TIME</td>\n",
       "      <td>Times smaller than a day.</td>\n",
       "    </tr>\n",
       "    <tr>\n",
       "      <th>15</th>\n",
       "      <td>PERCENT</td>\n",
       "      <td>Percentage, including \"%\".</td>\n",
       "    </tr>\n",
       "    <tr>\n",
       "      <th>16</th>\n",
       "      <td>MONEY</td>\n",
       "      <td>Monetary values, including unit.</td>\n",
       "    </tr>\n",
       "    <tr>\n",
       "      <th>17</th>\n",
       "      <td>QUANTITY</td>\n",
       "      <td>Measurements, as of weight or distance.</td>\n",
       "    </tr>\n",
       "    <tr>\n",
       "      <th>18</th>\n",
       "      <td>ORDINAL</td>\n",
       "      <td>\"first\", \"second\", etc.</td>\n",
       "    </tr>\n",
       "    <tr>\n",
       "      <th>19</th>\n",
       "      <td>CARDINAL</td>\n",
       "      <td>Numerals that do not fall under another type.</td>\n",
       "    </tr>\n",
       "  </tbody>\n",
       "</table>\n",
       "</div>"
      ],
      "text/plain": [
       "            Tag                                           Description\n",
       "0   OTHER        other                                               \n",
       "1   ADDRESS      Address of physical location.                       \n",
       "2   PERSON       People, including fictional.                        \n",
       "3   NORP         Nationalities or religious or political groups.     \n",
       "4   FAC          Buildings, airports, highways, bridges, etc.        \n",
       "5   ORG          Companies, agencies, institutions, etc.             \n",
       "6   GPE          Countries, cities, states.                          \n",
       "7   LOC          Non-GPE locations, mountain ranges, bodies of water.\n",
       "8   PRODUCT      Objects, vehicles, foods, etc. (Not services.)      \n",
       "9   EVENT        Named hurricanes, battles, wars, sports events, etc.\n",
       "10  WORK_OF_ART  Titles of books, songs, etc.                        \n",
       "11  LAW          Named documents made into laws.                     \n",
       "12  LANGUAGE     Any named language.                                 \n",
       "13  DATE         Absolute or relative dates or periods.              \n",
       "14  TIME         Times smaller than a day.                           \n",
       "15  PERCENT      Percentage, including \"%\".                          \n",
       "16  MONEY        Monetary values, including unit.                    \n",
       "17  QUANTITY     Measurements, as of weight or distance.             \n",
       "18  ORDINAL      \"first\", \"second\", etc.                             \n",
       "19  CARDINAL     Numerals that do not fall under another type.       "
      ]
     },
     "execution_count": 3,
     "metadata": {},
     "output_type": "execute_result"
    }
   ],
   "source": [
    "malaya.entity.describe_ontonotes5()"
   ]
  },
  {
   "cell_type": "markdown",
   "metadata": {},
   "source": [
    "### List available Transformer NER models"
   ]
  },
  {
   "cell_type": "code",
   "execution_count": 4,
   "metadata": {},
   "outputs": [
    {
     "name": "stderr",
     "output_type": "stream",
     "text": [
      "INFO:root:tested on 20% test set.\n"
     ]
    },
    {
     "data": {
      "text/html": [
       "<div>\n",
       "<style scoped>\n",
       "    .dataframe tbody tr th:only-of-type {\n",
       "        vertical-align: middle;\n",
       "    }\n",
       "\n",
       "    .dataframe tbody tr th {\n",
       "        vertical-align: top;\n",
       "    }\n",
       "\n",
       "    .dataframe thead th {\n",
       "        text-align: right;\n",
       "    }\n",
       "</style>\n",
       "<table border=\"1\" class=\"dataframe\">\n",
       "  <thead>\n",
       "    <tr style=\"text-align: right;\">\n",
       "      <th></th>\n",
       "      <th>Size (MB)</th>\n",
       "      <th>Quantized Size (MB)</th>\n",
       "      <th>macro precision</th>\n",
       "      <th>macro recall</th>\n",
       "      <th>macro f1-score</th>\n",
       "    </tr>\n",
       "  </thead>\n",
       "  <tbody>\n",
       "    <tr>\n",
       "      <th>bert</th>\n",
       "      <td>425.4</td>\n",
       "      <td>111.00</td>\n",
       "      <td>0.99291</td>\n",
       "      <td>0.97864</td>\n",
       "      <td>0.98537</td>\n",
       "    </tr>\n",
       "    <tr>\n",
       "      <th>tiny-bert</th>\n",
       "      <td>57.7</td>\n",
       "      <td>15.40</td>\n",
       "      <td>0.98151</td>\n",
       "      <td>0.94754</td>\n",
       "      <td>0.96134</td>\n",
       "    </tr>\n",
       "    <tr>\n",
       "      <th>albert</th>\n",
       "      <td>48.6</td>\n",
       "      <td>12.80</td>\n",
       "      <td>0.98026</td>\n",
       "      <td>0.95332</td>\n",
       "      <td>0.96492</td>\n",
       "    </tr>\n",
       "    <tr>\n",
       "      <th>tiny-albert</th>\n",
       "      <td>22.4</td>\n",
       "      <td>5.98</td>\n",
       "      <td>0.96100</td>\n",
       "      <td>0.90363</td>\n",
       "      <td>0.92374</td>\n",
       "    </tr>\n",
       "    <tr>\n",
       "      <th>xlnet</th>\n",
       "      <td>446.6</td>\n",
       "      <td>118.00</td>\n",
       "      <td>0.99344</td>\n",
       "      <td>0.98154</td>\n",
       "      <td>0.98725</td>\n",
       "    </tr>\n",
       "    <tr>\n",
       "      <th>alxlnet</th>\n",
       "      <td>46.8</td>\n",
       "      <td>13.30</td>\n",
       "      <td>0.99215</td>\n",
       "      <td>0.97575</td>\n",
       "      <td>0.98337</td>\n",
       "    </tr>\n",
       "  </tbody>\n",
       "</table>\n",
       "</div>"
      ],
      "text/plain": [
       "             Size (MB)  Quantized Size (MB)  macro precision  macro recall  \\\n",
       "bert         425.4      111.00               0.99291          0.97864        \n",
       "tiny-bert    57.7       15.40                0.98151          0.94754        \n",
       "albert       48.6       12.80                0.98026          0.95332        \n",
       "tiny-albert  22.4       5.98                 0.96100          0.90363        \n",
       "xlnet        446.6      118.00               0.99344          0.98154        \n",
       "alxlnet      46.8       13.30                0.99215          0.97575        \n",
       "\n",
       "             macro f1-score  \n",
       "bert         0.98537         \n",
       "tiny-bert    0.96134         \n",
       "albert       0.96492         \n",
       "tiny-albert  0.92374         \n",
       "xlnet        0.98725         \n",
       "alxlnet      0.98337         "
      ]
     },
     "execution_count": 4,
     "metadata": {},
     "output_type": "execute_result"
    }
   ],
   "source": [
    "malaya.entity.available_transformer()"
   ]
  },
  {
   "cell_type": "markdown",
   "metadata": {},
   "source": [
    "Make sure you can check accuracy chart from here first before select a model, https://malaya.readthedocs.io/en/latest/Accuracy.html#entities-recognition"
   ]
  },
  {
   "cell_type": "markdown",
   "metadata": {},
   "source": [
    "### List available Transformer NER Ontonotes 5 models"
   ]
  },
  {
   "cell_type": "code",
   "execution_count": 5,
   "metadata": {
    "scrolled": true
   },
   "outputs": [
    {
     "name": "stderr",
     "output_type": "stream",
     "text": [
      "INFO:root:tested on 20% test set.\n"
     ]
    },
    {
     "data": {
      "text/html": [
       "<div>\n",
       "<style scoped>\n",
       "    .dataframe tbody tr th:only-of-type {\n",
       "        vertical-align: middle;\n",
       "    }\n",
       "\n",
       "    .dataframe tbody tr th {\n",
       "        vertical-align: top;\n",
       "    }\n",
       "\n",
       "    .dataframe thead th {\n",
       "        text-align: right;\n",
       "    }\n",
       "</style>\n",
       "<table border=\"1\" class=\"dataframe\">\n",
       "  <thead>\n",
       "    <tr style=\"text-align: right;\">\n",
       "      <th></th>\n",
       "      <th>Size (MB)</th>\n",
       "      <th>Quantized Size (MB)</th>\n",
       "      <th>macro precision</th>\n",
       "      <th>macro recall</th>\n",
       "      <th>macro f1-score</th>\n",
       "    </tr>\n",
       "  </thead>\n",
       "  <tbody>\n",
       "    <tr>\n",
       "      <th>bert</th>\n",
       "      <td>425.4</td>\n",
       "      <td>111.00</td>\n",
       "      <td>0.99291</td>\n",
       "      <td>0.97864</td>\n",
       "      <td>0.98537</td>\n",
       "    </tr>\n",
       "    <tr>\n",
       "      <th>tiny-bert</th>\n",
       "      <td>57.7</td>\n",
       "      <td>15.40</td>\n",
       "      <td>0.98151</td>\n",
       "      <td>0.94754</td>\n",
       "      <td>0.96134</td>\n",
       "    </tr>\n",
       "    <tr>\n",
       "      <th>albert</th>\n",
       "      <td>48.6</td>\n",
       "      <td>12.80</td>\n",
       "      <td>0.98026</td>\n",
       "      <td>0.95332</td>\n",
       "      <td>0.96492</td>\n",
       "    </tr>\n",
       "    <tr>\n",
       "      <th>tiny-albert</th>\n",
       "      <td>22.4</td>\n",
       "      <td>5.98</td>\n",
       "      <td>0.96100</td>\n",
       "      <td>0.90363</td>\n",
       "      <td>0.92374</td>\n",
       "    </tr>\n",
       "    <tr>\n",
       "      <th>xlnet</th>\n",
       "      <td>446.6</td>\n",
       "      <td>118.00</td>\n",
       "      <td>0.99344</td>\n",
       "      <td>0.98154</td>\n",
       "      <td>0.98725</td>\n",
       "    </tr>\n",
       "    <tr>\n",
       "      <th>alxlnet</th>\n",
       "      <td>46.8</td>\n",
       "      <td>13.30</td>\n",
       "      <td>0.99215</td>\n",
       "      <td>0.97575</td>\n",
       "      <td>0.98337</td>\n",
       "    </tr>\n",
       "  </tbody>\n",
       "</table>\n",
       "</div>"
      ],
      "text/plain": [
       "             Size (MB)  Quantized Size (MB)  macro precision  macro recall  \\\n",
       "bert         425.4      111.00               0.99291          0.97864        \n",
       "tiny-bert    57.7       15.40                0.98151          0.94754        \n",
       "albert       48.6       12.80                0.98026          0.95332        \n",
       "tiny-albert  22.4       5.98                 0.96100          0.90363        \n",
       "xlnet        446.6      118.00               0.99344          0.98154        \n",
       "alxlnet      46.8       13.30                0.99215          0.97575        \n",
       "\n",
       "             macro f1-score  \n",
       "bert         0.98537         \n",
       "tiny-bert    0.96134         \n",
       "albert       0.96492         \n",
       "tiny-albert  0.92374         \n",
       "xlnet        0.98725         \n",
       "alxlnet      0.98337         "
      ]
     },
     "execution_count": 5,
     "metadata": {},
     "output_type": "execute_result"
    }
   ],
   "source": [
    "malaya.entity.available_transformer_ontonotes5()"
   ]
  },
  {
   "cell_type": "markdown",
   "metadata": {},
   "source": [
    "Make sure you can check accuracy chart from here first before select a model, https://malaya.readthedocs.io/en/latest/Accuracy.html#entities-recognition-ontonotes5"
   ]
  },
  {
   "cell_type": "code",
   "execution_count": 6,
   "metadata": {},
   "outputs": [],
   "source": [
    "string = 'KUALA LUMPUR: Sempena sambutan Aidilfitri minggu depan, Perdana Menteri Tun Dr Mahathir Mohamad dan Menteri Pengangkutan Anthony Loke Siew Fook menitipkan pesanan khas kepada orang ramai yang mahu pulang ke kampung halaman masing-masing. Dalam video pendek terbitan Jabatan Keselamatan Jalan Raya (JKJR) itu, Dr Mahathir menasihati mereka supaya berhenti berehat dan tidur sebentar  sekiranya mengantuk ketika memandu.'\n",
    "string1 = 'memperkenalkan Husein, dia sangat comel, berumur 25 tahun, bangsa melayu, agama islam, tinggal di cyberjaya malaysia, bercakap bahasa melayu, semua membaca buku undang-undang kewangan, dengar laju Justin Bieber - Baby sambil makan ayam goreng KFC'"
   ]
  },
  {
   "cell_type": "markdown",
   "metadata": {},
   "source": [
    "### Load Transformer model\n",
    "\n",
    "```python\n",
    "def transformer(model: str = 'xlnet', quantized: bool = False, **kwargs):\n",
    "    \"\"\"\n",
    "    Load Transformer Entity Tagging model, transfer learning Transformer + CRF.\n",
    "\n",
    "    Parameters\n",
    "    ----------\n",
    "    model : str, optional (default='bert')\n",
    "        Model architecture supported. Allowed values:\n",
    "\n",
    "        * ``'bert'`` - Google BERT BASE parameters.\n",
    "        * ``'tiny-bert'`` - Google BERT TINY parameters.\n",
    "        * ``'albert'`` - Google ALBERT BASE parameters.\n",
    "        * ``'tiny-albert'`` - Google ALBERT TINY parameters.\n",
    "        * ``'xlnet'`` - Google XLNET BASE parameters.\n",
    "        * ``'alxlnet'`` - Malaya ALXLNET BASE parameters.\n",
    "        \n",
    "    quantized : bool, optional (default=False)\n",
    "        if True, will load 8-bit quantized model. \n",
    "        Quantized model not necessary faster, totally depends on the machine.\n",
    "\n",
    "    Returns\n",
    "    -------\n",
    "    result : malaya.supervised.tag.transformer function\n",
    "    \"\"\"\n",
    "```"
   ]
  },
  {
   "cell_type": "code",
   "execution_count": 7,
   "metadata": {},
   "outputs": [
    {
     "name": "stdout",
     "output_type": "stream",
     "text": [
      "WARNING:tensorflow:From /Users/huseinzolkepli/Documents/Malaya/malaya/function/__init__.py:91: The name tf.gfile.GFile is deprecated. Please use tf.io.gfile.GFile instead.\n",
      "\n"
     ]
    },
    {
     "name": "stderr",
     "output_type": "stream",
     "text": [
      "WARNING:tensorflow:From /Users/huseinzolkepli/Documents/Malaya/malaya/function/__init__.py:91: The name tf.gfile.GFile is deprecated. Please use tf.io.gfile.GFile instead.\n",
      "\n"
     ]
    },
    {
     "name": "stdout",
     "output_type": "stream",
     "text": [
      "WARNING:tensorflow:From /Users/huseinzolkepli/Documents/Malaya/malaya/function/__init__.py:93: The name tf.GraphDef is deprecated. Please use tf.compat.v1.GraphDef instead.\n",
      "\n"
     ]
    },
    {
     "name": "stderr",
     "output_type": "stream",
     "text": [
      "WARNING:tensorflow:From /Users/huseinzolkepli/Documents/Malaya/malaya/function/__init__.py:93: The name tf.GraphDef is deprecated. Please use tf.compat.v1.GraphDef instead.\n",
      "\n"
     ]
    },
    {
     "name": "stdout",
     "output_type": "stream",
     "text": [
      "WARNING:tensorflow:From /Users/huseinzolkepli/Documents/Malaya/malaya/function/__init__.py:86: The name tf.InteractiveSession is deprecated. Please use tf.compat.v1.InteractiveSession instead.\n",
      "\n"
     ]
    },
    {
     "name": "stderr",
     "output_type": "stream",
     "text": [
      "WARNING:tensorflow:From /Users/huseinzolkepli/Documents/Malaya/malaya/function/__init__.py:86: The name tf.InteractiveSession is deprecated. Please use tf.compat.v1.InteractiveSession instead.\n",
      "\n"
     ]
    }
   ],
   "source": [
    "model = malaya.entity.transformer(model = 'alxlnet')"
   ]
  },
  {
   "cell_type": "markdown",
   "metadata": {},
   "source": [
    "#### Load Quantized model\n",
    "\n",
    "To load 8-bit quantized model, simply pass `quantized = True`, default is `False`.\n",
    "\n",
    "We can expect slightly accuracy drop from quantized model, and not necessary faster than normal 32-bit float model, totally depends on machine."
   ]
  },
  {
   "cell_type": "code",
   "execution_count": 8,
   "metadata": {},
   "outputs": [
    {
     "name": "stderr",
     "output_type": "stream",
     "text": [
      "WARNING:root:Load quantized model will cause accuracy drop.\n"
     ]
    }
   ],
   "source": [
    "quantized_model = malaya.entity.transformer(model = 'alxlnet', quantized = True)"
   ]
  },
  {
   "cell_type": "markdown",
   "metadata": {},
   "source": [
    "#### Predict\n",
    "\n",
    "```python\n",
    "def predict(self, string: str):\n",
    "    \"\"\"\n",
    "    Tag a string.\n",
    "\n",
    "    Parameters\n",
    "    ----------\n",
    "    string : str\n",
    "\n",
    "    Returns\n",
    "    -------\n",
    "    result: Tuple[str, str]\n",
    "    \"\"\"\n",
    "```"
   ]
  },
  {
   "cell_type": "code",
   "execution_count": 9,
   "metadata": {},
   "outputs": [
    {
     "data": {
      "text/plain": [
       "[('KUALA', 'location'),\n",
       " ('LUMPUR:', 'location'),\n",
       " ('Sempena', 'OTHER'),\n",
       " ('sambutan', 'OTHER'),\n",
       " ('Aidilfitri', 'event'),\n",
       " ('minggu', 'OTHER'),\n",
       " ('depan,', 'OTHER'),\n",
       " ('Perdana', 'person'),\n",
       " ('Menteri', 'person'),\n",
       " ('Tun', 'person'),\n",
       " ('Dr', 'person'),\n",
       " ('Mahathir', 'person'),\n",
       " ('Mohamad', 'person'),\n",
       " ('dan', 'OTHER'),\n",
       " ('Menteri', 'organization'),\n",
       " ('Pengangkutan', 'organization'),\n",
       " ('Anthony', 'person'),\n",
       " ('Loke', 'person'),\n",
       " ('Siew', 'person'),\n",
       " ('Fook', 'person'),\n",
       " ('menitipkan', 'OTHER'),\n",
       " ('pesanan', 'OTHER'),\n",
       " ('khas', 'OTHER'),\n",
       " ('kepada', 'OTHER'),\n",
       " ('orang', 'OTHER'),\n",
       " ('ramai', 'OTHER'),\n",
       " ('yang', 'OTHER'),\n",
       " ('mahu', 'OTHER'),\n",
       " ('pulang', 'OTHER'),\n",
       " ('ke', 'OTHER'),\n",
       " ('kampung', 'OTHER'),\n",
       " ('halaman', 'OTHER'),\n",
       " ('masing-masing.', 'OTHER'),\n",
       " ('Dalam', 'OTHER'),\n",
       " ('video', 'OTHER'),\n",
       " ('pendek', 'OTHER'),\n",
       " ('terbitan', 'OTHER'),\n",
       " ('Jabatan', 'organization'),\n",
       " ('Keselamatan', 'organization'),\n",
       " ('Jalan', 'organization'),\n",
       " ('Raya', 'organization'),\n",
       " ('(JKJR)', 'organization'),\n",
       " ('itu,', 'OTHER'),\n",
       " ('Dr', 'person'),\n",
       " ('Mahathir', 'person'),\n",
       " ('menasihati', 'OTHER'),\n",
       " ('mereka', 'OTHER'),\n",
       " ('supaya', 'OTHER'),\n",
       " ('berhenti', 'OTHER'),\n",
       " ('berehat', 'OTHER'),\n",
       " ('dan', 'OTHER'),\n",
       " ('tidur', 'OTHER'),\n",
       " ('sebentar', 'OTHER'),\n",
       " ('sekiranya', 'OTHER'),\n",
       " ('mengantuk', 'OTHER'),\n",
       " ('ketika', 'OTHER'),\n",
       " ('memandu.', 'OTHER')]"
      ]
     },
     "execution_count": 9,
     "metadata": {},
     "output_type": "execute_result"
    }
   ],
   "source": [
    "model.predict(string)"
   ]
  },
  {
   "cell_type": "code",
   "execution_count": 10,
   "metadata": {},
   "outputs": [
    {
     "data": {
      "text/plain": [
       "[('memperkenalkan', 'OTHER'),\n",
       " ('Husein,', 'person'),\n",
       " ('dia', 'OTHER'),\n",
       " ('sangat', 'OTHER'),\n",
       " ('comel,', 'OTHER'),\n",
       " ('berumur', 'time'),\n",
       " ('25', 'time'),\n",
       " ('tahun,', 'OTHER'),\n",
       " ('bangsa', 'OTHER'),\n",
       " ('melayu,', 'person'),\n",
       " ('agama', 'OTHER'),\n",
       " ('islam,', 'person'),\n",
       " ('tinggal', 'OTHER'),\n",
       " ('di', 'OTHER'),\n",
       " ('cyberjaya', 'location'),\n",
       " ('malaysia,', 'location'),\n",
       " ('bercakap', 'OTHER'),\n",
       " ('bahasa', 'OTHER'),\n",
       " ('melayu,', 'person'),\n",
       " ('semua', 'OTHER'),\n",
       " ('membaca', 'OTHER'),\n",
       " ('buku', 'OTHER'),\n",
       " ('undang-undang', 'OTHER'),\n",
       " ('kewangan,', 'OTHER'),\n",
       " ('dengar', 'OTHER'),\n",
       " ('laju', 'OTHER'),\n",
       " ('Justin', 'person'),\n",
       " ('Bieber', 'person'),\n",
       " ('-', 'person'),\n",
       " ('Baby', 'person'),\n",
       " ('sambil', 'OTHER'),\n",
       " ('makan', 'OTHER'),\n",
       " ('ayam', 'OTHER'),\n",
       " ('goreng', 'OTHER'),\n",
       " ('KFC', 'organization')]"
      ]
     },
     "execution_count": 10,
     "metadata": {},
     "output_type": "execute_result"
    }
   ],
   "source": [
    "model.predict(string1)"
   ]
  },
  {
   "cell_type": "code",
   "execution_count": 11,
   "metadata": {
    "scrolled": false
   },
   "outputs": [
    {
     "data": {
      "text/plain": [
       "[('KUALA', 'location'),\n",
       " ('LUMPUR:', 'location'),\n",
       " ('Sempena', 'OTHER'),\n",
       " ('sambutan', 'OTHER'),\n",
       " ('Aidilfitri', 'event'),\n",
       " ('minggu', 'time'),\n",
       " ('depan,', 'time'),\n",
       " ('Perdana', 'person'),\n",
       " ('Menteri', 'person'),\n",
       " ('Tun', 'person'),\n",
       " ('Dr', 'person'),\n",
       " ('Mahathir', 'person'),\n",
       " ('Mohamad', 'person'),\n",
       " ('dan', 'OTHER'),\n",
       " ('Menteri', 'organization'),\n",
       " ('Pengangkutan', 'person'),\n",
       " ('Anthony', 'person'),\n",
       " ('Loke', 'person'),\n",
       " ('Siew', 'person'),\n",
       " ('Fook', 'person'),\n",
       " ('menitipkan', 'OTHER'),\n",
       " ('pesanan', 'OTHER'),\n",
       " ('khas', 'OTHER'),\n",
       " ('kepada', 'OTHER'),\n",
       " ('orang', 'OTHER'),\n",
       " ('ramai', 'OTHER'),\n",
       " ('yang', 'OTHER'),\n",
       " ('mahu', 'OTHER'),\n",
       " ('pulang', 'OTHER'),\n",
       " ('ke', 'OTHER'),\n",
       " ('kampung', 'OTHER'),\n",
       " ('halaman', 'OTHER'),\n",
       " ('masing-masing.', 'OTHER'),\n",
       " ('Dalam', 'OTHER'),\n",
       " ('video', 'OTHER'),\n",
       " ('pendek', 'OTHER'),\n",
       " ('terbitan', 'OTHER'),\n",
       " ('Jabatan', 'organization'),\n",
       " ('Keselamatan', 'organization'),\n",
       " ('Jalan', 'organization'),\n",
       " ('Raya', 'organization'),\n",
       " ('(JKJR)', 'organization'),\n",
       " ('itu,', 'OTHER'),\n",
       " ('Dr', 'person'),\n",
       " ('Mahathir', 'person'),\n",
       " ('menasihati', 'OTHER'),\n",
       " ('mereka', 'OTHER'),\n",
       " ('supaya', 'OTHER'),\n",
       " ('berhenti', 'OTHER'),\n",
       " ('berehat', 'OTHER'),\n",
       " ('dan', 'OTHER'),\n",
       " ('tidur', 'OTHER'),\n",
       " ('sebentar', 'OTHER'),\n",
       " ('sekiranya', 'OTHER'),\n",
       " ('mengantuk', 'OTHER'),\n",
       " ('ketika', 'OTHER'),\n",
       " ('memandu.', 'OTHER')]"
      ]
     },
     "execution_count": 11,
     "metadata": {},
     "output_type": "execute_result"
    }
   ],
   "source": [
    "quantized_model.predict(string)"
   ]
  },
  {
   "cell_type": "code",
   "execution_count": 12,
   "metadata": {},
   "outputs": [
    {
     "data": {
      "text/plain": [
       "[('memperkenalkan', 'OTHER'),\n",
       " ('Husein,', 'person'),\n",
       " ('dia', 'OTHER'),\n",
       " ('sangat', 'OTHER'),\n",
       " ('comel,', 'OTHER'),\n",
       " ('berumur', 'time'),\n",
       " ('25', 'time'),\n",
       " ('tahun,', 'time'),\n",
       " ('bangsa', 'OTHER'),\n",
       " ('melayu,', 'person'),\n",
       " ('agama', 'OTHER'),\n",
       " ('islam,', 'person'),\n",
       " ('tinggal', 'OTHER'),\n",
       " ('di', 'OTHER'),\n",
       " ('cyberjaya', 'location'),\n",
       " ('malaysia,', 'location'),\n",
       " ('bercakap', 'OTHER'),\n",
       " ('bahasa', 'OTHER'),\n",
       " ('melayu,', 'person'),\n",
       " ('semua', 'OTHER'),\n",
       " ('membaca', 'OTHER'),\n",
       " ('buku', 'OTHER'),\n",
       " ('undang-undang', 'OTHER'),\n",
       " ('kewangan,', 'OTHER'),\n",
       " ('dengar', 'OTHER'),\n",
       " ('laju', 'OTHER'),\n",
       " ('Justin', 'person'),\n",
       " ('Bieber', 'person'),\n",
       " ('-', 'person'),\n",
       " ('Baby', 'person'),\n",
       " ('sambil', 'OTHER'),\n",
       " ('makan', 'OTHER'),\n",
       " ('ayam', 'OTHER'),\n",
       " ('goreng', 'OTHER'),\n",
       " ('KFC', 'organization')]"
      ]
     },
     "execution_count": 12,
     "metadata": {},
     "output_type": "execute_result"
    }
   ],
   "source": [
    "quantized_model.predict(string1)"
   ]
  },
  {
   "cell_type": "markdown",
   "metadata": {},
   "source": [
    "#### Group similar tags\n",
    "\n",
    "```python\n",
    "def analyze(self, string: str):\n",
    "        \"\"\"\n",
    "        Analyze a string.\n",
    "\n",
    "        Parameters\n",
    "        ----------\n",
    "        string : str\n",
    "\n",
    "        Returns\n",
    "        -------\n",
    "        result: {'words': List[str], 'tags': [{'text': 'text', 'type': 'location', 'score': 1.0, 'beginOffset': 0, 'endOffset': 1}]}\n",
    "        \"\"\"\n",
    "```"
   ]
  },
  {
   "cell_type": "code",
   "execution_count": 13,
   "metadata": {},
   "outputs": [
    {
     "data": {
      "text/plain": [
       "{'words': ['KUALA',\n",
       "  'LUMPUR:',\n",
       "  'Sempena',\n",
       "  'sambutan',\n",
       "  'Aidilfitri',\n",
       "  'minggu',\n",
       "  'depan,',\n",
       "  'Perdana',\n",
       "  'Menteri',\n",
       "  'Tun',\n",
       "  'Dr',\n",
       "  'Mahathir',\n",
       "  'Mohamad',\n",
       "  'dan',\n",
       "  'Menteri',\n",
       "  'Pengangkutan',\n",
       "  'Anthony',\n",
       "  'Loke',\n",
       "  'Siew',\n",
       "  'Fook',\n",
       "  'menitipkan',\n",
       "  'pesanan',\n",
       "  'khas',\n",
       "  'kepada',\n",
       "  'orang',\n",
       "  'ramai',\n",
       "  'yang',\n",
       "  'mahu',\n",
       "  'pulang',\n",
       "  'ke',\n",
       "  'kampung',\n",
       "  'halaman',\n",
       "  'masing-masing.',\n",
       "  'Dalam',\n",
       "  'video',\n",
       "  'pendek',\n",
       "  'terbitan',\n",
       "  'Jabatan',\n",
       "  'Keselamatan',\n",
       "  'Jalan',\n",
       "  'Raya',\n",
       "  '(JKJR)',\n",
       "  'itu,',\n",
       "  'Dr',\n",
       "  'Mahathir',\n",
       "  'menasihati',\n",
       "  'mereka',\n",
       "  'supaya',\n",
       "  'berhenti',\n",
       "  'berehat',\n",
       "  'dan',\n",
       "  'tidur',\n",
       "  'sebentar',\n",
       "  'sekiranya',\n",
       "  'mengantuk',\n",
       "  'ketika',\n",
       "  'memandu.'],\n",
       " 'tags': [{'text': 'KUALA LUMPUR:',\n",
       "   'type': 'location',\n",
       "   'score': 1.0,\n",
       "   'beginOffset': 0,\n",
       "   'endOffset': 1},\n",
       "  {'text': 'Sempena sambutan',\n",
       "   'type': 'OTHER',\n",
       "   'score': 1.0,\n",
       "   'beginOffset': 2,\n",
       "   'endOffset': 3},\n",
       "  {'text': 'Aidilfitri',\n",
       "   'type': 'event',\n",
       "   'score': 1.0,\n",
       "   'beginOffset': 4,\n",
       "   'endOffset': 4},\n",
       "  {'text': 'minggu depan,',\n",
       "   'type': 'time',\n",
       "   'score': 1.0,\n",
       "   'beginOffset': 5,\n",
       "   'endOffset': 6},\n",
       "  {'text': 'Perdana Menteri Tun Dr Mahathir Mohamad',\n",
       "   'type': 'person',\n",
       "   'score': 1.0,\n",
       "   'beginOffset': 7,\n",
       "   'endOffset': 12},\n",
       "  {'text': 'dan',\n",
       "   'type': 'OTHER',\n",
       "   'score': 1.0,\n",
       "   'beginOffset': 13,\n",
       "   'endOffset': 13},\n",
       "  {'text': 'Menteri Pengangkutan',\n",
       "   'type': 'organization',\n",
       "   'score': 1.0,\n",
       "   'beginOffset': 14,\n",
       "   'endOffset': 15},\n",
       "  {'text': 'Anthony Loke Siew Fook',\n",
       "   'type': 'person',\n",
       "   'score': 1.0,\n",
       "   'beginOffset': 16,\n",
       "   'endOffset': 19},\n",
       "  {'text': 'menitipkan pesanan khas kepada orang ramai yang mahu pulang ke kampung halaman masing-masing. Dalam video pendek terbitan',\n",
       "   'type': 'OTHER',\n",
       "   'score': 1.0,\n",
       "   'beginOffset': 20,\n",
       "   'endOffset': 36},\n",
       "  {'text': 'Jabatan Keselamatan Jalan Raya (JKJR)',\n",
       "   'type': 'organization',\n",
       "   'score': 1.0,\n",
       "   'beginOffset': 37,\n",
       "   'endOffset': 41},\n",
       "  {'text': 'itu,',\n",
       "   'type': 'OTHER',\n",
       "   'score': 1.0,\n",
       "   'beginOffset': 42,\n",
       "   'endOffset': 42},\n",
       "  {'text': 'Dr Mahathir',\n",
       "   'type': 'person',\n",
       "   'score': 1.0,\n",
       "   'beginOffset': 43,\n",
       "   'endOffset': 44}]}"
      ]
     },
     "execution_count": 13,
     "metadata": {},
     "output_type": "execute_result"
    }
   ],
   "source": [
    "model.analyze(string)"
   ]
  },
  {
   "cell_type": "code",
   "execution_count": 14,
   "metadata": {},
   "outputs": [
    {
     "data": {
      "text/plain": [
       "{'words': ['memperkenalkan',\n",
       "  'Husein,',\n",
       "  'dia',\n",
       "  'sangat',\n",
       "  'comel,',\n",
       "  'berumur',\n",
       "  '25',\n",
       "  'tahun,',\n",
       "  'bangsa',\n",
       "  'melayu,',\n",
       "  'agama',\n",
       "  'islam,',\n",
       "  'tinggal',\n",
       "  'di',\n",
       "  'cyberjaya',\n",
       "  'malaysia,',\n",
       "  'bercakap',\n",
       "  'bahasa',\n",
       "  'melayu,',\n",
       "  'semua',\n",
       "  'membaca',\n",
       "  'buku',\n",
       "  'undang-undang',\n",
       "  'kewangan,',\n",
       "  'dengar',\n",
       "  'laju',\n",
       "  'Justin',\n",
       "  'Bieber',\n",
       "  '-',\n",
       "  'Baby',\n",
       "  'sambil',\n",
       "  'makan',\n",
       "  'ayam',\n",
       "  'goreng',\n",
       "  'KFC'],\n",
       " 'tags': [{'text': 'memperkenalkan',\n",
       "   'type': 'OTHER',\n",
       "   'score': 1.0,\n",
       "   'beginOffset': 0,\n",
       "   'endOffset': 0},\n",
       "  {'text': 'Husein,',\n",
       "   'type': 'person',\n",
       "   'score': 1.0,\n",
       "   'beginOffset': 1,\n",
       "   'endOffset': 1},\n",
       "  {'text': 'dia sangat comel, berumur 25 tahun, bangsa',\n",
       "   'type': 'OTHER',\n",
       "   'score': 1.0,\n",
       "   'beginOffset': 2,\n",
       "   'endOffset': 8},\n",
       "  {'text': 'melayu,',\n",
       "   'type': 'person',\n",
       "   'score': 1.0,\n",
       "   'beginOffset': 9,\n",
       "   'endOffset': 9},\n",
       "  {'text': 'agama',\n",
       "   'type': 'OTHER',\n",
       "   'score': 1.0,\n",
       "   'beginOffset': 10,\n",
       "   'endOffset': 10},\n",
       "  {'text': 'islam,',\n",
       "   'type': 'person',\n",
       "   'score': 1.0,\n",
       "   'beginOffset': 11,\n",
       "   'endOffset': 11},\n",
       "  {'text': 'tinggal di',\n",
       "   'type': 'OTHER',\n",
       "   'score': 1.0,\n",
       "   'beginOffset': 12,\n",
       "   'endOffset': 13},\n",
       "  {'text': 'cyberjaya malaysia,',\n",
       "   'type': 'location',\n",
       "   'score': 1.0,\n",
       "   'beginOffset': 14,\n",
       "   'endOffset': 15},\n",
       "  {'text': 'bercakap bahasa',\n",
       "   'type': 'OTHER',\n",
       "   'score': 1.0,\n",
       "   'beginOffset': 16,\n",
       "   'endOffset': 17},\n",
       "  {'text': 'melayu,',\n",
       "   'type': 'location',\n",
       "   'score': 1.0,\n",
       "   'beginOffset': 18,\n",
       "   'endOffset': 18},\n",
       "  {'text': 'semua membaca buku undang-undang kewangan, dengar laju',\n",
       "   'type': 'OTHER',\n",
       "   'score': 1.0,\n",
       "   'beginOffset': 19,\n",
       "   'endOffset': 25},\n",
       "  {'text': 'Justin Bieber - Baby',\n",
       "   'type': 'person',\n",
       "   'score': 1.0,\n",
       "   'beginOffset': 26,\n",
       "   'endOffset': 29},\n",
       "  {'text': 'sambil makan ayam goreng',\n",
       "   'type': 'OTHER',\n",
       "   'score': 1.0,\n",
       "   'beginOffset': 30,\n",
       "   'endOffset': 33}]}"
      ]
     },
     "execution_count": 14,
     "metadata": {},
     "output_type": "execute_result"
    }
   ],
   "source": [
    "model.analyze(string1)"
   ]
  },
  {
   "cell_type": "markdown",
   "metadata": {},
   "source": [
    "#### Vectorize\n",
    "\n",
    "Let say you want to visualize word level in lower dimension, you can use `model.vectorize`,\n",
    "\n",
    "```python\n",
    "def vectorize(self, string: str):\n",
    "    \"\"\"\n",
    "    vectorize a string.\n",
    "\n",
    "    Parameters\n",
    "    ----------\n",
    "    string: List[str]\n",
    "\n",
    "    Returns\n",
    "    -------\n",
    "    result: np.array\n",
    "    \"\"\"\n",
    "```"
   ]
  },
  {
   "cell_type": "code",
   "execution_count": 15,
   "metadata": {},
   "outputs": [],
   "source": [
    "strings = [string, \n",
    "          'Husein baca buku Perlembagaan yang berharga 3k ringgit dekat kfc sungai petani minggu lepas, 2 ptg 2 oktober 2019 , suhu 32 celcius, sambil makan ayam goreng dan milo o ais',\n",
    "          'contact Husein at husein.zol05@gmail.com',\n",
    "          'tolong tempahkan meja makan makan nasi dagang dan jus apple, milo tarik esok dekat Restoran Sebulek']"
   ]
  },
  {
   "cell_type": "code",
   "execution_count": 16,
   "metadata": {},
   "outputs": [],
   "source": [
    "r = [quantized_model.vectorize(string) for string in strings]"
   ]
  },
  {
   "cell_type": "code",
   "execution_count": 17,
   "metadata": {},
   "outputs": [],
   "source": [
    "x, y = [], []\n",
    "for row in r:\n",
    "    x.extend([i[0] for i in row])\n",
    "    y.extend([i[1] for i in row])"
   ]
  },
  {
   "cell_type": "code",
   "execution_count": 18,
   "metadata": {
    "scrolled": true
   },
   "outputs": [
    {
     "data": {
      "text/plain": [
       "(108, 2)"
      ]
     },
     "execution_count": 18,
     "metadata": {},
     "output_type": "execute_result"
    }
   ],
   "source": [
    "from sklearn.manifold import TSNE\n",
    "import matplotlib.pyplot as plt\n",
    "\n",
    "tsne = TSNE().fit_transform(y)\n",
    "tsne.shape"
   ]
  },
  {
   "cell_type": "code",
   "execution_count": 19,
   "metadata": {},
   "outputs": [
    {
     "data": {
      "image/png": "[encoded data removed]",
      "text/plain": [
       "<Figure size 504x504 with 1 Axes>"
      ]
     },
     "metadata": {
      "needs_background": "light"
     },
     "output_type": "display_data"
    }
   ],
   "source": [
    "plt.figure(figsize = (7, 7))\n",
    "plt.scatter(tsne[:, 0], tsne[:, 1])\n",
    "labels = x\n",
    "for label, x, y in zip(\n",
    "    labels, tsne[:, 0], tsne[:, 1]\n",
    "):\n",
    "    label = (\n",
    "        '%s, %.3f' % (label[0], label[1])\n",
    "        if isinstance(label, list)\n",
    "        else label\n",
    "    )\n",
    "    plt.annotate(\n",
    "        label,\n",
    "        xy = (x, y),\n",
    "        xytext = (0, 0),\n",
    "        textcoords = 'offset points',\n",
    "    )"
   ]
  },
  {
   "cell_type": "markdown",
   "metadata": {},
   "source": [
    "Pretty good, the model able to know cluster similar entities."
   ]
  },
  {
   "cell_type": "markdown",
   "metadata": {},
   "source": [
    "### Load Transformer Ontonotes 5 model\n",
    "\n",
    "```python\n",
    "def transformer_ontonotes5(\n",
    "    model: str = 'xlnet', quantized: bool = False, **kwargs\n",
    "):\n",
    "    \"\"\"\n",
    "    Load Transformer Entity Tagging model trained on Ontonotes 5 Bahasa, transfer learning Transformer + CRF.\n",
    "\n",
    "    Parameters\n",
    "    ----------\n",
    "    model : str, optional (default='bert')\n",
    "        Model architecture supported. Allowed values:\n",
    "\n",
    "        * ``'bert'`` - Google BERT BASE parameters.\n",
    "        * ``'tiny-bert'`` - Google BERT TINY parameters.\n",
    "        * ``'albert'`` - Google ALBERT BASE parameters.\n",
    "        * ``'tiny-albert'`` - Google ALBERT TINY parameters.\n",
    "        * ``'xlnet'`` - Google XLNET BASE parameters.\n",
    "        * ``'alxlnet'`` - Malaya ALXLNET BASE parameters.\n",
    "        \n",
    "    quantized : bool, optional (default=False)\n",
    "        if True, will load 8-bit quantized model. \n",
    "        Quantized model not necessary faster, totally depends on the machine.\n",
    "\n",
    "    Returns\n",
    "    -------\n",
    "    result : malaya.supervised.tag.transformer function\n",
    "    \"\"\"\n",
    "```"
   ]
  },
  {
   "cell_type": "code",
   "execution_count": 20,
   "metadata": {
    "scrolled": false
   },
   "outputs": [
    {
     "name": "stdout",
     "output_type": "stream",
     "text": [
      "WARNING:tensorflow:From /Users/huseinzolkepli/Documents/tf-1.15/env/lib/python3.7/site-packages/albert/tokenization.py:240: The name tf.logging.info is deprecated. Please use tf.compat.v1.logging.info instead.\n",
      "\n"
     ]
    },
    {
     "name": "stderr",
     "output_type": "stream",
     "text": [
      "WARNING:tensorflow:From /Users/huseinzolkepli/Documents/tf-1.15/env/lib/python3.7/site-packages/albert/tokenization.py:240: The name tf.logging.info is deprecated. Please use tf.compat.v1.logging.info instead.\n",
      "\n"
     ]
    },
    {
     "name": "stdout",
     "output_type": "stream",
     "text": [
      "INFO:tensorflow:loading sentence piece model\n"
     ]
    },
    {
     "name": "stderr",
     "output_type": "stream",
     "text": [
      "INFO:tensorflow:loading sentence piece model\n"
     ]
    }
   ],
   "source": [
    "model = malaya.entity.transformer_ontonotes5(model = 'albert')"
   ]
  },
  {
   "cell_type": "markdown",
   "metadata": {},
   "source": [
    "#### Load Quantized model\n",
    "\n",
    "To load 8-bit quantized model, simply pass `quantized = True`, default is `False`.\n",
    "\n",
    "We can expect slightly accuracy drop from quantized model, and not necessary faster than normal 32-bit float model, totally depends on machine."
   ]
  },
  {
   "cell_type": "code",
   "execution_count": 21,
   "metadata": {},
   "outputs": [
    {
     "name": "stderr",
     "output_type": "stream",
     "text": [
      "WARNING:root:Load quantized model will cause accuracy drop.\n"
     ]
    },
    {
     "name": "stdout",
     "output_type": "stream",
     "text": [
      "downloading frozen /Users/huseinzolkepli/Malaya/entity-ontonotes5/albert/base/quantized quantized\n"
     ]
    },
    {
     "name": "stderr",
     "output_type": "stream",
     "text": [
      "13.0MB [00:08, 1.52MB/s]                          \n"
     ]
    },
    {
     "name": "stdout",
     "output_type": "stream",
     "text": [
      "INFO:tensorflow:loading sentence piece model\n"
     ]
    },
    {
     "name": "stderr",
     "output_type": "stream",
     "text": [
      "INFO:tensorflow:loading sentence piece model\n"
     ]
    }
   ],
   "source": [
    "quantized_model = malaya.entity.transformer_ontonotes5(model = 'albert', quantized = True)"
   ]
  },
  {
   "cell_type": "markdown",
   "metadata": {},
   "source": [
    "#### Predict\n",
    "\n",
    "```python\n",
    "def predict(self, string: str):\n",
    "    \"\"\"\n",
    "    Tag a string.\n",
    "\n",
    "    Parameters\n",
    "    ----------\n",
    "    string : str\n",
    "\n",
    "    Returns\n",
    "    -------\n",
    "    result: Tuple[str, str]\n",
    "    \"\"\"\n",
    "```"
   ]
  },
  {
   "cell_type": "code",
   "execution_count": 22,
   "metadata": {},
   "outputs": [
    {
     "data": {
      "text/plain": [
       "[('KUALA', 'GPE'),\n",
       " ('LUMPUR', 'GPE'),\n",
       " (':', 'OTHER'),\n",
       " ('Sempena', 'OTHER'),\n",
       " ('sambutan', 'OTHER'),\n",
       " ('Aidilfitri', 'DATE'),\n",
       " ('minggu', 'OTHER'),\n",
       " ('depan', 'OTHER'),\n",
       " (',', 'OTHER'),\n",
       " ('Perdana', 'OTHER'),\n",
       " ('Menteri', 'OTHER'),\n",
       " ('Tun', 'PERSON'),\n",
       " ('Dr', 'PERSON'),\n",
       " ('Mahathir', 'PERSON'),\n",
       " ('Mohamad', 'PERSON'),\n",
       " ('dan', 'OTHER'),\n",
       " ('Menteri', 'OTHER'),\n",
       " ('Pengangkutan', 'OTHER'),\n",
       " ('Anthony', 'PERSON'),\n",
       " ('Loke', 'PERSON'),\n",
       " ('Siew', 'PERSON'),\n",
       " ('Fook', 'PERSON'),\n",
       " ('menitipkan', 'OTHER'),\n",
       " ('pesanan', 'OTHER'),\n",
       " ('khas', 'OTHER'),\n",
       " ('kepada', 'OTHER'),\n",
       " ('orang', 'OTHER'),\n",
       " ('ramai', 'OTHER'),\n",
       " ('yang', 'OTHER'),\n",
       " ('mahu', 'OTHER'),\n",
       " ('pulang', 'OTHER'),\n",
       " ('ke', 'OTHER'),\n",
       " ('kampung', 'OTHER'),\n",
       " ('halaman', 'OTHER'),\n",
       " ('masing-masing', 'OTHER'),\n",
       " ('.', 'OTHER'),\n",
       " ('Dalam', 'OTHER'),\n",
       " ('video', 'OTHER'),\n",
       " ('pendek', 'OTHER'),\n",
       " ('terbitan', 'OTHER'),\n",
       " ('Jabatan', 'ORG'),\n",
       " ('Keselamatan', 'ORG'),\n",
       " ('Jalan', 'ORG'),\n",
       " ('Raya', 'ORG'),\n",
       " ('(', 'ORG'),\n",
       " ('JKJR', 'ORG'),\n",
       " (')', 'ORG'),\n",
       " ('itu', 'OTHER'),\n",
       " (',', 'OTHER'),\n",
       " ('Dr', 'PERSON'),\n",
       " ('Mahathir', 'PERSON'),\n",
       " ('menasihati', 'OTHER'),\n",
       " ('mereka', 'OTHER'),\n",
       " ('supaya', 'OTHER'),\n",
       " ('berhenti', 'OTHER'),\n",
       " ('berehat', 'OTHER'),\n",
       " ('dan', 'OTHER'),\n",
       " ('tidur', 'OTHER'),\n",
       " ('sebentar', 'OTHER'),\n",
       " ('sekiranya', 'OTHER'),\n",
       " ('mengantuk', 'OTHER'),\n",
       " ('ketika', 'OTHER'),\n",
       " ('memandu', 'OTHER'),\n",
       " ('.', 'OTHER')]"
      ]
     },
     "execution_count": 22,
     "metadata": {},
     "output_type": "execute_result"
    }
   ],
   "source": [
    "model.predict(string)"
   ]
  },
  {
   "cell_type": "code",
   "execution_count": 23,
   "metadata": {
    "scrolled": true
   },
   "outputs": [
    {
     "data": {
      "text/plain": [
       "[('memperkenalkan', 'OTHER'),\n",
       " ('Husein', 'PERSON'),\n",
       " (',', 'OTHER'),\n",
       " ('dia', 'OTHER'),\n",
       " ('sangat', 'OTHER'),\n",
       " ('comel', 'OTHER'),\n",
       " (',', 'OTHER'),\n",
       " ('berumur', 'DATE'),\n",
       " ('25', 'DATE'),\n",
       " ('tahun', 'DATE'),\n",
       " (',', 'OTHER'),\n",
       " ('bangsa', 'OTHER'),\n",
       " ('melayu', 'OTHER'),\n",
       " (',', 'OTHER'),\n",
       " ('agama', 'OTHER'),\n",
       " ('islam', 'OTHER'),\n",
       " (',', 'OTHER'),\n",
       " ('tinggal', 'OTHER'),\n",
       " ('di', 'OTHER'),\n",
       " ('cyberjaya', 'GPE'),\n",
       " ('malaysia', 'GPE'),\n",
       " (',', 'OTHER'),\n",
       " ('bercakap', 'OTHER'),\n",
       " ('bahasa', 'OTHER'),\n",
       " ('melayu', 'OTHER'),\n",
       " (',', 'OTHER'),\n",
       " ('semua', 'OTHER'),\n",
       " ('membaca', 'OTHER'),\n",
       " ('buku', 'OTHER'),\n",
       " ('undang-undang', 'OTHER'),\n",
       " ('kewangan', 'OTHER'),\n",
       " (',', 'OTHER'),\n",
       " ('dengar', 'OTHER'),\n",
       " ('laju', 'OTHER'),\n",
       " ('Justin', 'WORK_OF_ART'),\n",
       " ('Bieber', 'WORK_OF_ART'),\n",
       " ('-', 'X'),\n",
       " ('Baby', 'X'),\n",
       " ('sambil', 'OTHER'),\n",
       " ('makan', 'OTHER'),\n",
       " ('ayam', 'OTHER'),\n",
       " ('goreng', 'OTHER'),\n",
       " ('KFC', 'ORG')]"
      ]
     },
     "execution_count": 23,
     "metadata": {},
     "output_type": "execute_result"
    }
   ],
   "source": [
    "model.predict(string1)"
   ]
  },
  {
   "cell_type": "code",
   "execution_count": 24,
   "metadata": {},
   "outputs": [
    {
     "data": {
      "text/plain": [
       "[('KUALA', 'GPE'),\n",
       " ('LUMPUR', 'GPE'),\n",
       " (':', 'OTHER'),\n",
       " ('Sempena', 'OTHER'),\n",
       " ('sambutan', 'OTHER'),\n",
       " ('Aidilfitri', 'DATE'),\n",
       " ('minggu', 'OTHER'),\n",
       " ('depan', 'OTHER'),\n",
       " (',', 'OTHER'),\n",
       " ('Perdana', 'OTHER'),\n",
       " ('Menteri', 'OTHER'),\n",
       " ('Tun', 'PERSON'),\n",
       " ('Dr', 'PERSON'),\n",
       " ('Mahathir', 'PERSON'),\n",
       " ('Mohamad', 'PERSON'),\n",
       " ('dan', 'OTHER'),\n",
       " ('Menteri', 'OTHER'),\n",
       " ('Pengangkutan', 'OTHER'),\n",
       " ('Anthony', 'PERSON'),\n",
       " ('Loke', 'PERSON'),\n",
       " ('Siew', 'PERSON'),\n",
       " ('Fook', 'PERSON'),\n",
       " ('menitipkan', 'OTHER'),\n",
       " ('pesanan', 'OTHER'),\n",
       " ('khas', 'OTHER'),\n",
       " ('kepada', 'OTHER'),\n",
       " ('orang', 'OTHER'),\n",
       " ('ramai', 'OTHER'),\n",
       " ('yang', 'OTHER'),\n",
       " ('mahu', 'OTHER'),\n",
       " ('pulang', 'OTHER'),\n",
       " ('ke', 'OTHER'),\n",
       " ('kampung', 'OTHER'),\n",
       " ('halaman', 'OTHER'),\n",
       " ('masing-masing', 'OTHER'),\n",
       " ('.', 'OTHER'),\n",
       " ('Dalam', 'OTHER'),\n",
       " ('video', 'OTHER'),\n",
       " ('pendek', 'OTHER'),\n",
       " ('terbitan', 'OTHER'),\n",
       " ('Jabatan', 'ORG'),\n",
       " ('Keselamatan', 'ORG'),\n",
       " ('Jalan', 'ORG'),\n",
       " ('Raya', 'ORG'),\n",
       " ('(', 'ORG'),\n",
       " ('JKJR', 'ORG'),\n",
       " (')', 'ORG'),\n",
       " ('itu', 'OTHER'),\n",
       " (',', 'OTHER'),\n",
       " ('Dr', 'PERSON'),\n",
       " ('Mahathir', 'PERSON'),\n",
       " ('menasihati', 'OTHER'),\n",
       " ('mereka', 'OTHER'),\n",
       " ('supaya', 'OTHER'),\n",
       " ('berhenti', 'OTHER'),\n",
       " ('berehat', 'OTHER'),\n",
       " ('dan', 'OTHER'),\n",
       " ('tidur', 'OTHER'),\n",
       " ('sebentar', 'OTHER'),\n",
       " ('sekiranya', 'OTHER'),\n",
       " ('mengantuk', 'OTHER'),\n",
       " ('ketika', 'OTHER'),\n",
       " ('memandu', 'OTHER'),\n",
       " ('.', 'OTHER')]"
      ]
     },
     "execution_count": 24,
     "metadata": {},
     "output_type": "execute_result"
    }
   ],
   "source": [
    "quantized_model.predict(string)"
   ]
  },
  {
   "cell_type": "code",
   "execution_count": 25,
   "metadata": {},
   "outputs": [
    {
     "data": {
      "text/plain": [
       "[('memperkenalkan', 'OTHER'),\n",
       " ('Husein', 'NORP'),\n",
       " (',', 'OTHER'),\n",
       " ('dia', 'OTHER'),\n",
       " ('sangat', 'OTHER'),\n",
       " ('comel', 'OTHER'),\n",
       " (',', 'OTHER'),\n",
       " ('berumur', 'DATE'),\n",
       " ('25', 'DATE'),\n",
       " ('tahun', 'DATE'),\n",
       " (',', 'OTHER'),\n",
       " ('bangsa', 'OTHER'),\n",
       " ('melayu', 'OTHER'),\n",
       " (',', 'OTHER'),\n",
       " ('agama', 'OTHER'),\n",
       " ('islam', 'OTHER'),\n",
       " (',', 'OTHER'),\n",
       " ('tinggal', 'OTHER'),\n",
       " ('di', 'OTHER'),\n",
       " ('cyberjaya', 'GPE'),\n",
       " ('malaysia', 'OTHER'),\n",
       " (',', 'OTHER'),\n",
       " ('bercakap', 'OTHER'),\n",
       " ('bahasa', 'OTHER'),\n",
       " ('melayu', 'OTHER'),\n",
       " (',', 'OTHER'),\n",
       " ('semua', 'OTHER'),\n",
       " ('membaca', 'OTHER'),\n",
       " ('buku', 'OTHER'),\n",
       " ('undang-undang', 'OTHER'),\n",
       " ('kewangan', 'OTHER'),\n",
       " (',', 'OTHER'),\n",
       " ('dengar', 'OTHER'),\n",
       " ('laju', 'OTHER'),\n",
       " ('Justin', 'WORK_OF_ART'),\n",
       " ('Bieber', 'WORK_OF_ART'),\n",
       " ('-', 'X'),\n",
       " ('Baby', 'X'),\n",
       " ('sambil', 'OTHER'),\n",
       " ('makan', 'OTHER'),\n",
       " ('ayam', 'OTHER'),\n",
       " ('goreng', 'OTHER'),\n",
       " ('KFC', 'ORG')]"
      ]
     },
     "execution_count": 25,
     "metadata": {},
     "output_type": "execute_result"
    }
   ],
   "source": [
    "quantized_model.predict(string1)"
   ]
  },
  {
   "cell_type": "markdown",
   "metadata": {},
   "source": [
    "#### Group similar tags\n",
    "\n",
    "```python\n",
    "def analyze(self, string: str):\n",
    "        \"\"\"\n",
    "        Analyze a string.\n",
    "\n",
    "        Parameters\n",
    "        ----------\n",
    "        string : str\n",
    "\n",
    "        Returns\n",
    "        -------\n",
    "        result: {'words': List[str], 'tags': [{'text': 'text', 'type': 'location', 'score': 1.0, 'beginOffset': 0, 'endOffset': 1}]}\n",
    "        \"\"\"\n",
    "```"
   ]
  },
  {
   "cell_type": "code",
   "execution_count": 26,
   "metadata": {},
   "outputs": [
    {
     "data": {
      "text/plain": [
       "{'words': ['KUALA',\n",
       "  'LUMPUR',\n",
       "  ':',\n",
       "  'Sempena',\n",
       "  'sambutan',\n",
       "  'Aidilfitri',\n",
       "  'minggu',\n",
       "  'depan',\n",
       "  ',',\n",
       "  'Perdana',\n",
       "  'Menteri',\n",
       "  'Tun',\n",
       "  'Dr',\n",
       "  'Mahathir',\n",
       "  'Mohamad',\n",
       "  'dan',\n",
       "  'Menteri',\n",
       "  'Pengangkutan',\n",
       "  'Anthony',\n",
       "  'Loke',\n",
       "  'Siew',\n",
       "  'Fook',\n",
       "  'menitipkan',\n",
       "  'pesanan',\n",
       "  'khas',\n",
       "  'kepada',\n",
       "  'orang',\n",
       "  'ramai',\n",
       "  'yang',\n",
       "  'mahu',\n",
       "  'pulang',\n",
       "  'ke',\n",
       "  'kampung',\n",
       "  'halaman',\n",
       "  'masing-masing',\n",
       "  '.',\n",
       "  'Dalam',\n",
       "  'video',\n",
       "  'pendek',\n",
       "  'terbitan',\n",
       "  'Jabatan',\n",
       "  'Keselamatan',\n",
       "  'Jalan',\n",
       "  'Raya',\n",
       "  '(',\n",
       "  'JKJR',\n",
       "  ')',\n",
       "  'itu',\n",
       "  ',',\n",
       "  'Dr',\n",
       "  'Mahathir',\n",
       "  'menasihati',\n",
       "  'mereka',\n",
       "  'supaya',\n",
       "  'berhenti',\n",
       "  'berehat',\n",
       "  'dan',\n",
       "  'tidur',\n",
       "  'sebentar',\n",
       "  'sekiranya',\n",
       "  'mengantuk',\n",
       "  'ketika',\n",
       "  'memandu',\n",
       "  '.'],\n",
       " 'tags': [{'text': 'KUALA LUMPUR',\n",
       "   'type': 'GPE',\n",
       "   'score': 1.0,\n",
       "   'beginOffset': 0,\n",
       "   'endOffset': 1},\n",
       "  {'text': ': Sempena sambutan',\n",
       "   'type': 'OTHER',\n",
       "   'score': 1.0,\n",
       "   'beginOffset': 2,\n",
       "   'endOffset': 4},\n",
       "  {'text': 'Aidilfitri',\n",
       "   'type': 'DATE',\n",
       "   'score': 1.0,\n",
       "   'beginOffset': 5,\n",
       "   'endOffset': 5},\n",
       "  {'text': 'minggu depan , Perdana Menteri',\n",
       "   'type': 'OTHER',\n",
       "   'score': 1.0,\n",
       "   'beginOffset': 6,\n",
       "   'endOffset': 10},\n",
       "  {'text': 'Tun Dr Mahathir Mohamad',\n",
       "   'type': 'PERSON',\n",
       "   'score': 1.0,\n",
       "   'beginOffset': 11,\n",
       "   'endOffset': 14},\n",
       "  {'text': 'dan Menteri Pengangkutan',\n",
       "   'type': 'OTHER',\n",
       "   'score': 1.0,\n",
       "   'beginOffset': 15,\n",
       "   'endOffset': 17},\n",
       "  {'text': 'Anthony Loke Siew Fook',\n",
       "   'type': 'PERSON',\n",
       "   'score': 1.0,\n",
       "   'beginOffset': 18,\n",
       "   'endOffset': 21},\n",
       "  {'text': 'menitipkan pesanan khas kepada orang ramai yang mahu pulang ke kampung halaman masing-masing . Dalam video pendek terbitan',\n",
       "   'type': 'OTHER',\n",
       "   'score': 1.0,\n",
       "   'beginOffset': 22,\n",
       "   'endOffset': 39},\n",
       "  {'text': 'Jabatan Keselamatan Jalan Raya ( JKJR )',\n",
       "   'type': 'ORG',\n",
       "   'score': 1.0,\n",
       "   'beginOffset': 40,\n",
       "   'endOffset': 46},\n",
       "  {'text': 'itu ,',\n",
       "   'type': 'OTHER',\n",
       "   'score': 1.0,\n",
       "   'beginOffset': 47,\n",
       "   'endOffset': 48},\n",
       "  {'text': 'Dr Mahathir',\n",
       "   'type': 'PERSON',\n",
       "   'score': 1.0,\n",
       "   'beginOffset': 49,\n",
       "   'endOffset': 50}]}"
      ]
     },
     "execution_count": 26,
     "metadata": {},
     "output_type": "execute_result"
    }
   ],
   "source": [
    "model.analyze(string)"
   ]
  },
  {
   "cell_type": "code",
   "execution_count": 27,
   "metadata": {},
   "outputs": [
    {
     "data": {
      "text/plain": [
       "{'words': ['memperkenalkan',\n",
       "  'Husein',\n",
       "  ',',\n",
       "  'dia',\n",
       "  'sangat',\n",
       "  'comel',\n",
       "  ',',\n",
       "  'berumur',\n",
       "  '25',\n",
       "  'tahun',\n",
       "  ',',\n",
       "  'bangsa',\n",
       "  'melayu',\n",
       "  ',',\n",
       "  'agama',\n",
       "  'islam',\n",
       "  ',',\n",
       "  'tinggal',\n",
       "  'di',\n",
       "  'cyberjaya',\n",
       "  'malaysia',\n",
       "  ',',\n",
       "  'bercakap',\n",
       "  'bahasa',\n",
       "  'melayu',\n",
       "  ',',\n",
       "  'semua',\n",
       "  'membaca',\n",
       "  'buku',\n",
       "  'undang-undang',\n",
       "  'kewangan',\n",
       "  ',',\n",
       "  'dengar',\n",
       "  'laju',\n",
       "  'Justin',\n",
       "  'Bieber',\n",
       "  '-',\n",
       "  'Baby',\n",
       "  'sambil',\n",
       "  'makan',\n",
       "  'ayam',\n",
       "  'goreng',\n",
       "  'KFC'],\n",
       " 'tags': [{'text': 'memperkenalkan',\n",
       "   'type': 'OTHER',\n",
       "   'score': 1.0,\n",
       "   'beginOffset': 0,\n",
       "   'endOffset': 0},\n",
       "  {'text': 'Husein',\n",
       "   'type': 'PERSON',\n",
       "   'score': 1.0,\n",
       "   'beginOffset': 1,\n",
       "   'endOffset': 1},\n",
       "  {'text': ', dia sangat comel ,',\n",
       "   'type': 'OTHER',\n",
       "   'score': 1.0,\n",
       "   'beginOffset': 2,\n",
       "   'endOffset': 6},\n",
       "  {'text': 'berumur 25 tahun',\n",
       "   'type': 'DATE',\n",
       "   'score': 1.0,\n",
       "   'beginOffset': 7,\n",
       "   'endOffset': 9},\n",
       "  {'text': ', bangsa melayu , agama islam , tinggal di',\n",
       "   'type': 'OTHER',\n",
       "   'score': 1.0,\n",
       "   'beginOffset': 10,\n",
       "   'endOffset': 18},\n",
       "  {'text': 'cyberjaya malaysia',\n",
       "   'type': 'GPE',\n",
       "   'score': 1.0,\n",
       "   'beginOffset': 19,\n",
       "   'endOffset': 20},\n",
       "  {'text': ', bercakap bahasa melayu , semua membaca buku undang-undang kewangan , dengar laju',\n",
       "   'type': 'OTHER',\n",
       "   'score': 1.0,\n",
       "   'beginOffset': 21,\n",
       "   'endOffset': 33},\n",
       "  {'text': 'Justin Bieber',\n",
       "   'type': 'WORK_OF_ART',\n",
       "   'score': 1.0,\n",
       "   'beginOffset': 34,\n",
       "   'endOffset': 35},\n",
       "  {'text': '- Baby',\n",
       "   'type': 'X',\n",
       "   'score': 1.0,\n",
       "   'beginOffset': 36,\n",
       "   'endOffset': 37},\n",
       "  {'text': 'sambil makan ayam goreng',\n",
       "   'type': 'OTHER',\n",
       "   'score': 1.0,\n",
       "   'beginOffset': 38,\n",
       "   'endOffset': 41}]}"
      ]
     },
     "execution_count": 27,
     "metadata": {},
     "output_type": "execute_result"
    }
   ],
   "source": [
    "model.analyze(string1)"
   ]
  },
  {
   "cell_type": "markdown",
   "metadata": {},
   "source": [
    "#### Vectorize\n",
    "\n",
    "Let say you want to visualize word level in lower dimension, you can use `model.vectorize`,\n",
    "\n",
    "```python\n",
    "def vectorize(self, string: str):\n",
    "    \"\"\"\n",
    "    vectorize a string.\n",
    "\n",
    "    Parameters\n",
    "    ----------\n",
    "    string: List[str]\n",
    "\n",
    "    Returns\n",
    "    -------\n",
    "    result: np.array\n",
    "    \"\"\"\n",
    "```"
   ]
  },
  {
   "cell_type": "code",
   "execution_count": 28,
   "metadata": {},
   "outputs": [],
   "source": [
    "strings = [string, string1]\n",
    "r = [quantized_model.vectorize(string) for string in strings]"
   ]
  },
  {
   "cell_type": "code",
   "execution_count": 29,
   "metadata": {},
   "outputs": [],
   "source": [
    "x, y = [], []\n",
    "for row in r:\n",
    "    x.extend([i[0] for i in row])\n",
    "    y.extend([i[1] for i in row])"
   ]
  },
  {
   "cell_type": "code",
   "execution_count": 30,
   "metadata": {},
   "outputs": [
    {
     "data": {
      "text/plain": [
       "(107, 2)"
      ]
     },
     "execution_count": 30,
     "metadata": {},
     "output_type": "execute_result"
    }
   ],
   "source": [
    "tsne = TSNE().fit_transform(y)\n",
    "tsne.shape"
   ]
  },
  {
   "cell_type": "code",
   "execution_count": 31,
   "metadata": {
    "scrolled": true
   },
   "outputs": [
    {
     "data": {
      "image/png": "[encoded data removed]",
      "text/plain": [
       "<Figure size 504x504 with 1 Axes>"
      ]
     },
     "metadata": {
      "needs_background": "light"
     },
     "output_type": "display_data"
    }
   ],
   "source": [
    "plt.figure(figsize = (7, 7))\n",
    "plt.scatter(tsne[:, 0], tsne[:, 1])\n",
    "labels = x\n",
    "for label, x, y in zip(\n",
    "    labels, tsne[:, 0], tsne[:, 1]\n",
    "):\n",
    "    label = (\n",
    "        '%s, %.3f' % (label[0], label[1])\n",
    "        if isinstance(label, list)\n",
    "        else label\n",
    "    )\n",
    "    plt.annotate(\n",
    "        label,\n",
    "        xy = (x, y),\n",
    "        xytext = (0, 0),\n",
    "        textcoords = 'offset points',\n",
    "    )"
   ]
  },
  {
   "cell_type": "markdown",
   "metadata": {},
   "source": [
    "Pretty good, the model able to know cluster similar entities."
   ]
  },
  {
   "cell_type": "markdown",
   "metadata": {},
   "source": [
    "### Load general Malaya entity model\n",
    "\n",
    "This model able to classify,\n",
    "\n",
    "1. date\n",
    "2. money\n",
    "3. temperature\n",
    "4. distance\n",
    "5. volume\n",
    "6. duration\n",
    "7. phone\n",
    "8. email\n",
    "9. url\n",
    "10. time\n",
    "11. datetime\n",
    "12. local and generic foods, can check available rules in malaya.texts._food\n",
    "13. local and generic drinks, can check available rules in malaya.texts._food\n",
    "\n",
    "We can insert BERT or any deep learning model by passing `malaya.entity.general_entity(model = model)`, as long the model has `predict` method and return `[(string, label), (string, label)]`. This is an optional."
   ]
  },
  {
   "cell_type": "code",
   "execution_count": 32,
   "metadata": {},
   "outputs": [],
   "source": [
    "entity = malaya.entity.general_entity(model = model)"
   ]
  },
  {
   "cell_type": "code",
   "execution_count": 33,
   "metadata": {},
   "outputs": [
    {
     "data": {
      "text/plain": [
       "{'PERSON': ['Husein'],\n",
       " 'OTHER': ['baca buku',\n",
       "  'yang berharga',\n",
       "  'dekat kfc',\n",
       "  ',',\n",
       "  '2 oktober 2019 , suhu',\n",
       "  'celcius , sambil makan ayam goreng dan milo o ais'],\n",
       " 'LAW': ['Perlembagaan'],\n",
       " 'MONEY': ['3k ringgit'],\n",
       " 'LOC': ['sungai petani'],\n",
       " 'DATE': ['minggu lepas'],\n",
       " 'TIME': ['2 ptg'],\n",
       " 'CARDINAL': ['32'],\n",
       " 'date': {'2 oktober 2019': datetime.datetime(2019, 10, 2, 0, 0),\n",
       "  'minggu lalu': datetime.datetime(2021, 2, 8, 15, 31, 10, 38712)},\n",
       " 'money': {'3k ringgit': 'RM3000.0'},\n",
       " 'temperature': ['32 celcius'],\n",
       " 'distance': [],\n",
       " 'volume': [],\n",
       " 'duration': [],\n",
       " 'phone': [],\n",
       " 'email': [],\n",
       " 'url': [],\n",
       " 'time': {'2 PM': datetime.datetime(2021, 2, 15, 14, 0)},\n",
       " 'datetime': {'2 ptg 2 oktober 2019': datetime.datetime(2019, 10, 2, 14, 0)},\n",
       " 'food': ['ayam goreng'],\n",
       " 'drink': ['milo o ais'],\n",
       " 'weight': []}"
      ]
     },
     "execution_count": 33,
     "metadata": {},
     "output_type": "execute_result"
    }
   ],
   "source": [
    "entity.predict('Husein baca buku Perlembagaan yang berharga 3k ringgit dekat kfc sungai petani minggu lepas, 2 ptg 2 oktober 2019 , suhu 32 celcius, sambil makan ayam goreng dan milo o ais')"
   ]
  },
  {
   "cell_type": "code",
   "execution_count": 34,
   "metadata": {},
   "outputs": [
    {
     "data": {
      "text/plain": [
       "{'OTHER': ['contact', 'at husein . zol05 @ gmail . com'],\n",
       " 'PERSON': ['Husein'],\n",
       " 'date': {},\n",
       " 'money': {},\n",
       " 'temperature': [],\n",
       " 'distance': [],\n",
       " 'volume': [],\n",
       " 'duration': [],\n",
       " 'phone': [],\n",
       " 'email': ['husein.zol05@gmail.com'],\n",
       " 'url': [],\n",
       " 'time': {},\n",
       " 'datetime': {},\n",
       " 'food': [],\n",
       " 'drink': [],\n",
       " 'weight': []}"
      ]
     },
     "execution_count": 34,
     "metadata": {},
     "output_type": "execute_result"
    }
   ],
   "source": [
    "entity.predict('contact Husein at husein.zol05@gmail.com')"
   ]
  },
  {
   "cell_type": "code",
   "execution_count": 35,
   "metadata": {},
   "outputs": [
    {
     "data": {
      "text/plain": [
       "{'OTHER': ['tolong tempahkan meja makan makan nasi dagang dan jus apple , milo tarik',\n",
       "  'dekat'],\n",
       " 'DATE': ['esok'],\n",
       " 'ORG': ['Restoran Sebulek'],\n",
       " 'date': {'esok': datetime.datetime(2021, 2, 16, 15, 31, 10, 446254)},\n",
       " 'money': {},\n",
       " 'temperature': [],\n",
       " 'distance': [],\n",
       " 'volume': [],\n",
       " 'duration': [],\n",
       " 'phone': [],\n",
       " 'email': [],\n",
       " 'url': [],\n",
       " 'time': {},\n",
       " 'datetime': {},\n",
       " 'food': ['nasi dagang'],\n",
       " 'drink': ['milo tarik', 'jus apple'],\n",
       " 'weight': []}"
      ]
     },
     "execution_count": 35,
     "metadata": {},
     "output_type": "execute_result"
    }
   ],
   "source": [
    "entity.predict('tolong tempahkan meja makan makan nasi dagang dan jus apple, milo tarik esok dekat Restoran Sebulek')"
   ]
  },
  {
   "cell_type": "markdown",
   "metadata": {},
   "source": [
    "### Voting stack model"
   ]
  },
  {
   "cell_type": "code",
   "execution_count": 37,
   "metadata": {},
   "outputs": [
    {
     "data": {
      "text/plain": [
       "[('memperkenalkan', 'OTHER'),\n",
       " ('Husein', 'PERSON'),\n",
       " (',', 'OTHER'),\n",
       " ('dia', 'OTHER'),\n",
       " ('sangat', 'OTHER'),\n",
       " ('comel', 'OTHER'),\n",
       " (',', 'OTHER'),\n",
       " ('berumur', 'DATE'),\n",
       " ('25', 'DATE'),\n",
       " ('tahun', 'DATE'),\n",
       " (',', 'OTHER'),\n",
       " ('bangsa', 'OTHER'),\n",
       " ('melayu', 'OTHER'),\n",
       " (',', 'OTHER'),\n",
       " ('agama', 'OTHER'),\n",
       " ('islam', 'OTHER'),\n",
       " (',', 'OTHER'),\n",
       " ('tinggal', 'OTHER'),\n",
       " ('di', 'OTHER'),\n",
       " ('cyberjaya', 'GPE'),\n",
       " ('malaysia', 'GPE'),\n",
       " (',', 'OTHER'),\n",
       " ('bercakap', 'OTHER'),\n",
       " ('bahasa', 'LANGUAGE'),\n",
       " ('melayu', 'OTHER'),\n",
       " (',', 'OTHER'),\n",
       " ('semua', 'OTHER'),\n",
       " ('membaca', 'OTHER'),\n",
       " ('buku', 'OTHER'),\n",
       " ('undang-undang', 'OTHER'),\n",
       " ('kewangan', 'OTHER'),\n",
       " (',', 'OTHER'),\n",
       " ('dengar', 'OTHER'),\n",
       " ('laju', 'OTHER'),\n",
       " ('Justin', 'PERSON'),\n",
       " ('Bieber', 'PERSON'),\n",
       " ('-', 'X'),\n",
       " ('Baby', 'X'),\n",
       " ('sambil', 'OTHER'),\n",
       " ('makan', 'OTHER'),\n",
       " ('ayam', 'OTHER'),\n",
       " ('goreng', 'OTHER'),\n",
       " ('KFC', 'OTHER')]"
      ]
     },
     "execution_count": 37,
     "metadata": {},
     "output_type": "execute_result"
    }
   ],
   "source": [
    "alxlnet = malaya.entity.transformer_ontonotes5(model = 'alxlnet')\n",
    "malaya.stack.voting_stack([model, alxlnet, alxlnet], string1)"
   ]
  },
  {
   "cell_type": "code",
   "execution_count": null,
   "metadata": {},
   "outputs": [],
   "source": []
  }
 ],
 "metadata": {
  "kernelspec": {
   "display_name": "Python 3",
   "language": "python",
   "name": "python3"
  },
  "language_info": {
   "codemirror_mode": {
    "name": "ipython",
    "version": 3
   },
   "file_extension": ".py",
   "mimetype": "text/x-python",
   "name": "python",
   "nbconvert_exporter": "python",
   "pygments_lexer": "ipython3",
   "version": "3.7.7"
  }
 },
 "nbformat": 4,
 "nbformat_minor": 2
}
