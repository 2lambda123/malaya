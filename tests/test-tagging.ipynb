{
 "cells": [
  {
   "cell_type": "code",
   "execution_count": 1,
   "id": "engaging-metro",
   "metadata": {},
   "outputs": [],
   "source": [
    "import sys\n",
    "import os\n",
    "\n",
    "SOURCE_DIR = os.path.dirname(os.path.dirname(os.path.abspath(__name__)))\n",
    "sys.path.insert(0, SOURCE_DIR)"
   ]
  },
  {
   "cell_type": "code",
   "execution_count": 2,
   "id": "terminal-authentication",
   "metadata": {},
   "outputs": [],
   "source": [
    "import malaya\n",
    "import logging\n",
    "\n",
    "logging.basicConfig(level=logging.DEBUG)"
   ]
  },
  {
   "cell_type": "code",
   "execution_count": 3,
   "id": "celtic-company",
   "metadata": {},
   "outputs": [
    {
     "data": {
      "text/plain": [
       "'/Users/huseinzolkepli/Malaya'"
      ]
     },
     "execution_count": 3,
     "metadata": {},
     "output_type": "execute_result"
    }
   ],
   "source": [
    "malaya.__home__"
   ]
  },
  {
   "cell_type": "code",
   "execution_count": 4,
   "id": "boxed-wedding",
   "metadata": {},
   "outputs": [],
   "source": [
    "string = 'KUALA LUMPUR: Sempena sambutan Aidilfitri minggu depan, Perdana Menteri Tun Dr Mahathir Mohamad dan Menteri Pengangkutan Anthony Loke Siew Fook menitipkan pesanan khas kepada orang ramai yang mahu pulang ke kampung halaman masing-masing. Dalam video pendek terbitan Jabatan Keselamatan Jalan Raya (JKJR) itu, Dr Mahathir menasihati mereka supaya berhenti berehat dan tidur sebentar  sekiranya mengantuk ketika memandu.'\n",
    "string1 = 'memperkenalkan Husein, dia sangat comel, berumur 25 tahun, bangsa melayu, agama islam, tinggal di cyberjaya malaysia, bercakap bahasa melayu, semua membaca buku undang-undang kewangan, dengar laju Siti Nurhaliza - Seluruh Cinta sambil makan ayam goreng KFC'"
   ]
  },
  {
   "cell_type": "code",
   "execution_count": 5,
   "id": "transsexual-platinum",
   "metadata": {},
   "outputs": [
    {
     "name": "stderr",
     "output_type": "stream",
     "text": [
      "INFO:root:tested on 20% test set.\n",
      "DEBUG:urllib3.connectionpool:Starting new HTTPS connection (1): f000.backblazeb2.com:443\n"
     ]
    },
    {
     "name": "stdout",
     "output_type": "stream",
     "text": [
      "bert\n"
     ]
    },
    {
     "name": "stderr",
     "output_type": "stream",
     "text": [
      "DEBUG:urllib3.connectionpool:https://f000.backblazeb2.com:443 \"HEAD /file/malaya-model/entity-ontonotes5/bert/model.pb HTTP/1.1\" 200 0\n",
      "DEBUG:urllib3.connectionpool:Starting new HTTPS connection (1): f000.backblazeb2.com:443\n",
      "DEBUG:urllib3.connectionpool:https://f000.backblazeb2.com:443 \"HEAD /file/malaya-model/bpe/sp10m.cased.bert.vocab HTTP/1.1\" 200 0\n",
      "DEBUG:urllib3.connectionpool:Starting new HTTPS connection (1): f000.backblazeb2.com:443\n",
      "DEBUG:urllib3.connectionpool:https://f000.backblazeb2.com:443 \"HEAD /file/malaya-model/bpe/sp10m.cased.bert.model HTTP/1.1\" 200 0\n",
      "DEBUG:urllib3.connectionpool:Starting new HTTPS connection (1): f000.backblazeb2.com:443\n",
      "DEBUG:urllib3.connectionpool:https://f000.backblazeb2.com:443 \"HEAD /file/malaya-model/setting/entities-ontonotes5.json HTTP/1.1\" 200 0\n",
      "DEBUG:urllib3.connectionpool:Starting new HTTPS connection (1): f000.backblazeb2.com:443\n",
      "DEBUG:urllib3.connectionpool:https://f000.backblazeb2.com:443 \"HEAD /file/malaya-model/entity-ontonotes5/bert/version HTTP/1.1\" 404 0\n",
      "DEBUG:urllib3.connectionpool:Starting new HTTPS connection (1): f000.backblazeb2.com:443\n"
     ]
    },
    {
     "name": "stdout",
     "output_type": "stream",
     "text": [
      "downloading frozen model to /Users/huseinzolkepli/Malaya/entity-ontonotes5/bert/model.pb\n"
     ]
    },
    {
     "name": "stderr",
     "output_type": "stream",
     "text": [
      "DEBUG:urllib3.connectionpool:https://f000.backblazeb2.com:443 \"GET /file/malaya-model/entity-ontonotes5/bert/model.pb HTTP/1.1\" 200 447728217\n",
      "100%|██████████| 427/427 [01:17<00:00, 5.54MB/s] \n",
      "DEBUG:urllib3.connectionpool:Starting new HTTPS connection (1): f000.backblazeb2.com:443\n"
     ]
    },
    {
     "name": "stdout",
     "output_type": "stream",
     "text": [
      "downloading frozen vocab to /Users/huseinzolkepli/Malaya/entity-ontonotes5/bert/sp10m.cased.bert.vocab\n"
     ]
    },
    {
     "name": "stderr",
     "output_type": "stream",
     "text": [
      "DEBUG:urllib3.connectionpool:https://f000.backblazeb2.com:443 \"GET /file/malaya-model/bpe/sp10m.cased.bert.vocab HTTP/1.1\" 200 568997\n",
      "184%|██████████| 1.00/0.54 [00:00<00:00, 1.19MB/s]\n",
      "DEBUG:urllib3.connectionpool:Starting new HTTPS connection (1): f000.backblazeb2.com:443\n"
     ]
    },
    {
     "name": "stdout",
     "output_type": "stream",
     "text": [
      "downloading frozen tokenizer to /Users/huseinzolkepli/Malaya/entity-ontonotes5/bert/sp10m.cased.bert.model\n"
     ]
    },
    {
     "name": "stderr",
     "output_type": "stream",
     "text": [
      "DEBUG:urllib3.connectionpool:https://f000.backblazeb2.com:443 \"GET /file/malaya-model/bpe/sp10m.cased.bert.model HTTP/1.1\" 200 778744\n",
      "135%|██████████| 1.00/0.74 [00:01<00:00, 1.20s/MB]\n",
      "DEBUG:urllib3.connectionpool:Starting new HTTPS connection (1): f000.backblazeb2.com:443\n"
     ]
    },
    {
     "name": "stdout",
     "output_type": "stream",
     "text": [
      "downloading frozen setting to /Users/huseinzolkepli/Malaya/entity-ontonotes5/bert/entities-ontonotes5.json\n"
     ]
    },
    {
     "name": "stderr",
     "output_type": "stream",
     "text": [
      "DEBUG:urllib3.connectionpool:https://f000.backblazeb2.com:443 \"GET /file/malaya-model/setting/entities-ontonotes5.json HTTP/1.1\" 200 632\n",
      "1.00MB [00:00, 335MB/s]                    \n",
      "INFO:root:running entity-ontonotes5/bert using device /device:CPU:0\n",
      "DEBUG:root:['[CLS]', '▁KUALA', '▁LUMPUR', '▁:', '▁Sempena', '▁sambutan', '▁Aidilfitri', '▁minggu', '▁depan', '▁,', '▁Perdana', '▁Menteri', '▁Tun', '▁Dr', '▁Mahathir', '▁Mohamad', '▁dan', '▁Menteri', '▁Pengangkutan', '▁Anthony', '▁Loke', '▁Siew', '▁Fook', '▁menit', 'ip', 'kan', '▁pesanan', '▁khas', '▁kepada', '▁orang', '▁ramai', '▁yang', '▁mahu', '▁pulang', '▁ke', '▁kampung', '▁halaman', '▁masing', '-', 'masing', '▁', '.', '▁Dalam', '▁video', '▁pendek', '▁terbitan', '▁Jabatan', '▁Keselamatan', '▁Jalan', '▁Raya', '▁', '(', '▁', 'JK', 'JR', '▁', ')', '▁itu', '▁,', '▁Dr', '▁Mahathir', '▁menasihati', '▁mereka', '▁supaya', '▁berhenti', '▁berehat', '▁dan', '▁tidur', '▁sebentar', '▁sekiranya', '▁mengantuk', '▁ketika', '▁memandu', '▁', '.', '[SEP]']\n",
      "DEBUG:root:['[CLS]', '▁memperkenalkan', '▁Hu', 'se', 'in', '▁,', '▁dia', '▁sangat', '▁comel', '▁,', '▁berumur', '▁25', '▁tahun', '▁,', '▁bangsa', '▁melayu', '▁,', '▁agama', '▁islam', '▁,', '▁tinggal', '▁di', '▁cyberjaya', '▁malaysia', '▁,', '▁bercakap', '▁bahasa', '▁melayu', '▁,', '▁semua', '▁membaca', '▁buku', '▁undang', '-', 'undang', '▁kewangan', '▁,', '▁dengar', '▁laju', '▁Siti', '▁Nurhaliza', '▁', '-', '▁Seluruh', '▁Cinta', '▁sambil', '▁makan', '▁ayam', '▁goreng', '▁KFC', '[SEP]']\n",
      "DEBUG:root:['[CLS]', '▁KUALA', '▁LUMPUR', '▁:', '▁Sempena', '▁sambutan', '▁Aidilfitri', '▁minggu', '▁depan', '▁,', '▁Perdana', '▁Menteri', '▁Tun', '▁Dr', '▁Mahathir', '▁Mohamad', '▁dan', '▁Menteri', '▁Pengangkutan', '▁Anthony', '▁Loke', '▁Siew', '▁Fook', '▁menit', 'ip', 'kan', '▁pesanan', '▁khas', '▁kepada', '▁orang', '▁ramai', '▁yang', '▁mahu', '▁pulang', '▁ke', '▁kampung', '▁halaman', '▁masing', '-', 'masing', '▁', '.', '▁Dalam', '▁video', '▁pendek', '▁terbitan', '▁Jabatan', '▁Keselamatan', '▁Jalan', '▁Raya', '▁', '(', '▁', 'JK', 'JR', '▁', ')', '▁itu', '▁,', '▁Dr', '▁Mahathir', '▁menasihati', '▁mereka', '▁supaya', '▁berhenti', '▁berehat', '▁dan', '▁tidur', '▁sebentar', '▁sekiranya', '▁mengantuk', '▁ketika', '▁memandu', '▁', '.', '[SEP]']\n"
     ]
    },
    {
     "name": "stdout",
     "output_type": "stream",
     "text": [
      "[('KUALA', 'GPE'), ('LUMPUR', 'GPE'), (':', 'OTHER'), ('Sempena', 'OTHER'), ('sambutan', 'DATE'), ('Aidilfitri', 'DATE'), ('minggu', 'DATE'), ('depan', 'DATE'), (',', 'OTHER'), ('Perdana', 'OTHER'), ('Menteri', 'OTHER'), ('Tun', 'PERSON'), ('Dr', 'PERSON'), ('Mahathir', 'PERSON'), ('Mohamad', 'PERSON'), ('dan', 'OTHER'), ('Menteri', 'OTHER'), ('Pengangkutan', 'OTHER'), ('Anthony', 'PERSON'), ('Loke', 'PERSON'), ('Siew', 'PERSON'), ('Fook', 'PERSON'), ('menitipkan', 'OTHER'), ('pesanan', 'OTHER'), ('khas', 'OTHER'), ('kepada', 'OTHER'), ('orang', 'OTHER'), ('ramai', 'OTHER'), ('yang', 'OTHER'), ('mahu', 'OTHER'), ('pulang', 'OTHER'), ('ke', 'OTHER'), ('kampung', 'OTHER'), ('halaman', 'OTHER'), ('masing-masing', 'OTHER'), ('.', 'OTHER'), ('Dalam', 'OTHER'), ('video', 'OTHER'), ('pendek', 'OTHER'), ('terbitan', 'OTHER'), ('Jabatan', 'ORG'), ('Keselamatan', 'ORG'), ('Jalan', 'ORG'), ('Raya', 'ORG'), ('(', 'ORG'), ('JKJR', 'ORG'), (')', 'ORG'), ('itu', 'OTHER'), (',', 'OTHER'), ('Dr', 'PERSON'), ('Mahathir', 'PERSON'), ('menasihati', 'OTHER'), ('mereka', 'OTHER'), ('supaya', 'OTHER'), ('berhenti', 'OTHER'), ('berehat', 'OTHER'), ('dan', 'OTHER'), ('tidur', 'OTHER'), ('sebentar', 'OTHER'), ('sekiranya', 'OTHER'), ('mengantuk', 'OTHER'), ('ketika', 'OTHER'), ('memandu', 'OTHER'), ('.', 'OTHER')]\n",
      "[('memperkenalkan', 'OTHER'), ('Husein', 'PRODUCT'), (',', 'OTHER'), ('dia', 'OTHER'), ('sangat', 'OTHER'), ('comel', 'OTHER'), (',', 'OTHER'), ('berumur', 'DATE'), ('25', 'DATE'), ('tahun', 'DATE'), (',', 'OTHER'), ('bangsa', 'OTHER'), ('melayu', 'OTHER'), (',', 'OTHER'), ('agama', 'OTHER'), ('islam', 'OTHER'), (',', 'OTHER'), ('tinggal', 'OTHER'), ('di', 'OTHER'), ('cyberjaya', 'GPE'), ('malaysia', 'GPE'), (',', 'OTHER'), ('bercakap', 'OTHER'), ('bahasa', 'LANGUAGE'), ('melayu', 'OTHER'), (',', 'OTHER'), ('semua', 'OTHER'), ('membaca', 'OTHER'), ('buku', 'OTHER'), ('undang-undang', 'OTHER'), ('kewangan', 'OTHER'), (',', 'OTHER'), ('dengar', 'OTHER'), ('laju', 'OTHER'), ('Siti', 'WORK_OF_ART'), ('Nurhaliza', 'WORK_OF_ART'), ('-', 'OTHER'), ('Seluruh', 'ORG'), ('Cinta', 'ORG'), ('sambil', 'OTHER'), ('makan', 'OTHER'), ('ayam', 'OTHER'), ('goreng', 'PRODUCT'), ('KFC', 'ORG')]\n",
      "[{'text': ['KUALA', 'LUMPUR'], 'type': 'GPE', 'score': 1.0, 'beginOffset': 0, 'endOffset': 2}, {'text': [':', 'Sempena', 'sambutan'], 'type': 'OTHER', 'score': 1.0, 'beginOffset': 2, 'endOffset': 5}, {'text': ['Aidilfitri', 'minggu', 'depan'], 'type': 'DATE', 'score': 1.0, 'beginOffset': 5, 'endOffset': 8}, {'text': [',', 'Perdana', 'Menteri'], 'type': 'OTHER', 'score': 1.0, 'beginOffset': 8, 'endOffset': 11}, {'text': ['Tun', 'Dr', 'Mahathir', 'Mohamad'], 'type': 'PERSON', 'score': 1.0, 'beginOffset': 11, 'endOffset': 15}, {'text': ['dan', 'Menteri', 'Pengangkutan'], 'type': 'OTHER', 'score': 1.0, 'beginOffset': 15, 'endOffset': 18}, {'text': ['Anthony', 'Loke', 'Siew', 'Fook'], 'type': 'PERSON', 'score': 1.0, 'beginOffset': 18, 'endOffset': 22}, {'text': ['menitipkan', 'pesanan', 'khas', 'kepada', 'orang', 'ramai', 'yang', 'mahu', 'pulang', 'ke', 'kampung', 'halaman', 'masing-masing', '.', 'Dalam', 'video', 'pendek', 'terbitan'], 'type': 'OTHER', 'score': 1.0, 'beginOffset': 22, 'endOffset': 40}, {'text': ['Jabatan', 'Keselamatan', 'Jalan', 'Raya', '(', 'JKJR', ')'], 'type': 'ORG', 'score': 1.0, 'beginOffset': 40, 'endOffset': 47}, {'text': ['itu', ',', 'Dr'], 'type': 'OTHER', 'score': 1.0, 'beginOffset': 47, 'endOffset': 50}, {'text': ['Mahathir'], 'type': 'PERSON', 'score': 1.0, 'beginOffset': 50, 'endOffset': 51}, {'text': ['menasihati', 'mereka', 'supaya', 'berhenti', 'berehat', 'dan', 'tidur', 'sebentar', 'sekiranya', 'mengantuk', 'ketika', 'memandu', '.'], 'type': 'OTHER', 'score': 1.0, 'beginOffset': 51, 'endOffset': 64}]\n"
     ]
    },
    {
     "name": "stderr",
     "output_type": "stream",
     "text": [
      "DEBUG:urllib3.connectionpool:Starting new HTTPS connection (1): f000.backblazeb2.com:443\n"
     ]
    },
    {
     "name": "stdout",
     "output_type": "stream",
     "text": [
      "tiny-bert\n"
     ]
    },
    {
     "name": "stderr",
     "output_type": "stream",
     "text": [
      "DEBUG:urllib3.connectionpool:https://f000.backblazeb2.com:443 \"HEAD /file/malaya-model/entity-ontonotes5/tiny-bert/model.pb HTTP/1.1\" 200 0\n",
      "DEBUG:urllib3.connectionpool:Starting new HTTPS connection (1): f000.backblazeb2.com:443\n",
      "DEBUG:urllib3.connectionpool:https://f000.backblazeb2.com:443 \"HEAD /file/malaya-model/bpe/sp10m.cased.bert.vocab HTTP/1.1\" 200 0\n",
      "DEBUG:urllib3.connectionpool:Starting new HTTPS connection (1): f000.backblazeb2.com:443\n",
      "DEBUG:urllib3.connectionpool:https://f000.backblazeb2.com:443 \"HEAD /file/malaya-model/bpe/sp10m.cased.bert.model HTTP/1.1\" 200 0\n",
      "DEBUG:urllib3.connectionpool:Starting new HTTPS connection (1): f000.backblazeb2.com:443\n",
      "DEBUG:urllib3.connectionpool:https://f000.backblazeb2.com:443 \"HEAD /file/malaya-model/setting/entities-ontonotes5.json HTTP/1.1\" 200 0\n",
      "DEBUG:urllib3.connectionpool:Starting new HTTPS connection (1): f000.backblazeb2.com:443\n",
      "DEBUG:urllib3.connectionpool:https://f000.backblazeb2.com:443 \"HEAD /file/malaya-model/entity-ontonotes5/tiny-bert/version HTTP/1.1\" 404 0\n",
      "DEBUG:urllib3.connectionpool:Starting new HTTPS connection (1): f000.backblazeb2.com:443\n"
     ]
    },
    {
     "name": "stdout",
     "output_type": "stream",
     "text": [
      "downloading frozen model to /Users/huseinzolkepli/Malaya/entity-ontonotes5/tiny-bert/model.pb\n"
     ]
    },
    {
     "name": "stderr",
     "output_type": "stream",
     "text": [
      "DEBUG:urllib3.connectionpool:https://f000.backblazeb2.com:443 \"GET /file/malaya-model/entity-ontonotes5/tiny-bert/model.pb HTTP/1.1\" 200 60716424\n",
      "100%|██████████| 58.0/57.9 [00:07<00:00, 7.67MB/s]\n",
      "DEBUG:urllib3.connectionpool:Starting new HTTPS connection (1): f000.backblazeb2.com:443\n"
     ]
    },
    {
     "name": "stdout",
     "output_type": "stream",
     "text": [
      "downloading frozen vocab to /Users/huseinzolkepli/Malaya/entity-ontonotes5/tiny-bert/sp10m.cased.bert.vocab\n"
     ]
    },
    {
     "name": "stderr",
     "output_type": "stream",
     "text": [
      "DEBUG:urllib3.connectionpool:https://f000.backblazeb2.com:443 \"GET /file/malaya-model/bpe/sp10m.cased.bert.vocab HTTP/1.1\" 200 568997\n",
      "184%|██████████| 1.00/0.54 [00:00<00:00, 1.08MB/s]\n",
      "DEBUG:urllib3.connectionpool:Starting new HTTPS connection (1): f000.backblazeb2.com:443\n"
     ]
    },
    {
     "name": "stdout",
     "output_type": "stream",
     "text": [
      "downloading frozen tokenizer to /Users/huseinzolkepli/Malaya/entity-ontonotes5/tiny-bert/sp10m.cased.bert.model\n"
     ]
    },
    {
     "name": "stderr",
     "output_type": "stream",
     "text": [
      "DEBUG:urllib3.connectionpool:https://f000.backblazeb2.com:443 \"GET /file/malaya-model/bpe/sp10m.cased.bert.model HTTP/1.1\" 200 778744\n",
      "135%|██████████| 1.00/0.74 [00:01<00:00, 1.19s/MB]\n",
      "DEBUG:urllib3.connectionpool:Starting new HTTPS connection (1): f000.backblazeb2.com:443\n"
     ]
    },
    {
     "name": "stdout",
     "output_type": "stream",
     "text": [
      "downloading frozen setting to /Users/huseinzolkepli/Malaya/entity-ontonotes5/tiny-bert/entities-ontonotes5.json\n"
     ]
    },
    {
     "name": "stderr",
     "output_type": "stream",
     "text": [
      "DEBUG:urllib3.connectionpool:https://f000.backblazeb2.com:443 \"GET /file/malaya-model/setting/entities-ontonotes5.json HTTP/1.1\" 200 632\n",
      "1.00MB [00:00, 324MB/s]                    \n",
      "INFO:root:running entity-ontonotes5/tiny-bert using device /device:CPU:0\n",
      "DEBUG:root:['[CLS]', '▁KUALA', '▁LUMPUR', '▁:', '▁Sempena', '▁sambutan', '▁Aidilfitri', '▁minggu', '▁depan', '▁,', '▁Perdana', '▁Menteri', '▁Tun', '▁Dr', '▁Mahathir', '▁Mohamad', '▁dan', '▁Menteri', '▁Pengangkutan', '▁Anthony', '▁Loke', '▁Siew', '▁Fook', '▁menit', 'ip', 'kan', '▁pesanan', '▁khas', '▁kepada', '▁orang', '▁ramai', '▁yang', '▁mahu', '▁pulang', '▁ke', '▁kampung', '▁halaman', '▁masing', '-', 'masing', '▁', '.', '▁Dalam', '▁video', '▁pendek', '▁terbitan', '▁Jabatan', '▁Keselamatan', '▁Jalan', '▁Raya', '▁', '(', '▁', 'JK', 'JR', '▁', ')', '▁itu', '▁,', '▁Dr', '▁Mahathir', '▁menasihati', '▁mereka', '▁supaya', '▁berhenti', '▁berehat', '▁dan', '▁tidur', '▁sebentar', '▁sekiranya', '▁mengantuk', '▁ketika', '▁memandu', '▁', '.', '[SEP]']\n",
      "DEBUG:root:['[CLS]', '▁memperkenalkan', '▁Hu', 'se', 'in', '▁,', '▁dia', '▁sangat', '▁comel', '▁,', '▁berumur', '▁25', '▁tahun', '▁,', '▁bangsa', '▁melayu', '▁,', '▁agama', '▁islam', '▁,', '▁tinggal', '▁di', '▁cyberjaya', '▁malaysia', '▁,', '▁bercakap', '▁bahasa', '▁melayu', '▁,', '▁semua', '▁membaca', '▁buku', '▁undang', '-', 'undang', '▁kewangan', '▁,', '▁dengar', '▁laju', '▁Siti', '▁Nurhaliza', '▁', '-', '▁Seluruh', '▁Cinta', '▁sambil', '▁makan', '▁ayam', '▁goreng', '▁KFC', '[SEP]']\n",
      "DEBUG:root:['[CLS]', '▁KUALA', '▁LUMPUR', '▁:', '▁Sempena', '▁sambutan', '▁Aidilfitri', '▁minggu', '▁depan', '▁,', '▁Perdana', '▁Menteri', '▁Tun', '▁Dr', '▁Mahathir', '▁Mohamad', '▁dan', '▁Menteri', '▁Pengangkutan', '▁Anthony', '▁Loke', '▁Siew', '▁Fook', '▁menit', 'ip', 'kan', '▁pesanan', '▁khas', '▁kepada', '▁orang', '▁ramai', '▁yang', '▁mahu', '▁pulang', '▁ke', '▁kampung', '▁halaman', '▁masing', '-', 'masing', '▁', '.', '▁Dalam', '▁video', '▁pendek', '▁terbitan', '▁Jabatan', '▁Keselamatan', '▁Jalan', '▁Raya', '▁', '(', '▁', 'JK', 'JR', '▁', ')', '▁itu', '▁,', '▁Dr', '▁Mahathir', '▁menasihati', '▁mereka', '▁supaya', '▁berhenti', '▁berehat', '▁dan', '▁tidur', '▁sebentar', '▁sekiranya', '▁mengantuk', '▁ketika', '▁memandu', '▁', '.', '[SEP]']\n",
      "DEBUG:urllib3.connectionpool:Starting new HTTPS connection (1): f000.backblazeb2.com:443\n"
     ]
    },
    {
     "name": "stdout",
     "output_type": "stream",
     "text": [
      "[('KUALA', 'DATE'), ('LUMPUR', 'DATE'), (':', 'OTHER'), ('Sempena', 'OTHER'), ('sambutan', 'EVENT'), ('Aidilfitri', 'EVENT'), ('minggu', 'DATE'), ('depan', 'DATE'), (',', 'OTHER'), ('Perdana', 'OTHER'), ('Menteri', 'OTHER'), ('Tun', 'PERSON'), ('Dr', 'PERSON'), ('Mahathir', 'PERSON'), ('Mohamad', 'PERSON'), ('dan', 'OTHER'), ('Menteri', 'OTHER'), ('Pengangkutan', 'OTHER'), ('Anthony', 'PERSON'), ('Loke', 'PERSON'), ('Siew', 'PERSON'), ('Fook', 'PERSON'), ('menitipkan', 'OTHER'), ('pesanan', 'OTHER'), ('khas', 'OTHER'), ('kepada', 'OTHER'), ('orang', 'OTHER'), ('ramai', 'OTHER'), ('yang', 'OTHER'), ('mahu', 'OTHER'), ('pulang', 'OTHER'), ('ke', 'OTHER'), ('kampung', 'OTHER'), ('halaman', 'OTHER'), ('masing-masing', 'OTHER'), ('.', 'OTHER'), ('Dalam', 'OTHER'), ('video', 'OTHER'), ('pendek', 'OTHER'), ('terbitan', 'ORG'), ('Jabatan', 'ORG'), ('Keselamatan', 'ORG'), ('Jalan', 'ORG'), ('Raya', 'ORG'), ('(', 'ORG'), ('JKJR', 'ORG'), (')', 'ORG'), ('itu', 'OTHER'), (',', 'OTHER'), ('Dr', 'PERSON'), ('Mahathir', 'PERSON'), ('menasihati', 'OTHER'), ('mereka', 'OTHER'), ('supaya', 'OTHER'), ('berhenti', 'OTHER'), ('berehat', 'OTHER'), ('dan', 'OTHER'), ('tidur', 'OTHER'), ('sebentar', 'OTHER'), ('sekiranya', 'OTHER'), ('mengantuk', 'OTHER'), ('ketika', 'OTHER'), ('memandu', 'OTHER'), ('.', 'OTHER')]\n",
      "[('memperkenalkan', 'OTHER'), ('Husein', 'PERSON'), (',', 'OTHER'), ('dia', 'OTHER'), ('sangat', 'OTHER'), ('comel', 'OTHER'), (',', 'OTHER'), ('berumur', 'OTHER'), ('25', 'DATE'), ('tahun', 'DATE'), (',', 'OTHER'), ('bangsa', 'OTHER'), ('melayu', 'OTHER'), (',', 'OTHER'), ('agama', 'OTHER'), ('islam', 'OTHER'), (',', 'OTHER'), ('tinggal', 'OTHER'), ('di', 'OTHER'), ('cyberjaya', 'LOC'), ('malaysia', 'OTHER'), (',', 'OTHER'), ('bercakap', 'OTHER'), ('bahasa', 'OTHER'), ('melayu', 'OTHER'), (',', 'OTHER'), ('semua', 'OTHER'), ('membaca', 'OTHER'), ('buku', 'OTHER'), ('undang-undang', 'OTHER'), ('kewangan', 'OTHER'), (',', 'OTHER'), ('dengar', 'OTHER'), ('laju', 'OTHER'), ('Siti', 'WORK_OF_ART'), ('Nurhaliza', 'WORK_OF_ART'), ('-', 'OTHER'), ('Seluruh', 'WORK_OF_ART'), ('Cinta', 'WORK_OF_ART'), ('sambil', 'OTHER'), ('makan', 'OTHER'), ('ayam', 'OTHER'), ('goreng', 'PRODUCT'), ('KFC', 'WORK_OF_ART')]\n",
      "[{'text': ['KUALA', 'LUMPUR'], 'type': 'DATE', 'score': 1.0, 'beginOffset': 0, 'endOffset': 2}, {'text': [':', 'Sempena'], 'type': 'OTHER', 'score': 1.0, 'beginOffset': 2, 'endOffset': 4}, {'text': ['sambutan', 'Aidilfitri'], 'type': 'EVENT', 'score': 1.0, 'beginOffset': 4, 'endOffset': 6}, {'text': ['minggu', 'depan'], 'type': 'DATE', 'score': 1.0, 'beginOffset': 6, 'endOffset': 8}, {'text': [',', 'Perdana', 'Menteri'], 'type': 'OTHER', 'score': 1.0, 'beginOffset': 8, 'endOffset': 11}, {'text': ['Tun', 'Dr', 'Mahathir', 'Mohamad'], 'type': 'PERSON', 'score': 1.0, 'beginOffset': 11, 'endOffset': 15}, {'text': ['dan', 'Menteri'], 'type': 'OTHER', 'score': 1.0, 'beginOffset': 15, 'endOffset': 17}, {'text': ['Pengangkutan'], 'type': 'ORG', 'score': 1.0, 'beginOffset': 17, 'endOffset': 18}, {'text': ['Anthony', 'Loke', 'Siew', 'Fook'], 'type': 'PERSON', 'score': 1.0, 'beginOffset': 18, 'endOffset': 22}, {'text': ['menitipkan', 'pesanan', 'khas', 'kepada', 'orang', 'ramai', 'yang', 'mahu', 'pulang', 'ke', 'kampung', 'halaman', 'masing-masing', '.', 'Dalam', 'video', 'pendek'], 'type': 'OTHER', 'score': 1.0, 'beginOffset': 22, 'endOffset': 39}, {'text': ['terbitan', 'Jabatan', 'Keselamatan', 'Jalan', 'Raya', '(', 'JKJR', ')'], 'type': 'ORG', 'score': 1.0, 'beginOffset': 39, 'endOffset': 47}, {'text': ['itu', ','], 'type': 'OTHER', 'score': 1.0, 'beginOffset': 47, 'endOffset': 49}, {'text': ['Dr', 'Mahathir'], 'type': 'PERSON', 'score': 1.0, 'beginOffset': 49, 'endOffset': 51}, {'text': ['menasihati', 'mereka', 'supaya', 'berhenti', 'berehat', 'dan', 'tidur', 'sebentar', 'sekiranya', 'mengantuk', 'ketika', 'memandu', '.'], 'type': 'OTHER', 'score': 1.0, 'beginOffset': 51, 'endOffset': 64}]\n",
      "albert\n"
     ]
    },
    {
     "name": "stderr",
     "output_type": "stream",
     "text": [
      "DEBUG:urllib3.connectionpool:https://f000.backblazeb2.com:443 \"HEAD /file/malaya-model/entity-ontonotes5/albert/model.pb HTTP/1.1\" 200 0\n",
      "DEBUG:urllib3.connectionpool:Starting new HTTPS connection (1): f000.backblazeb2.com:443\n",
      "DEBUG:urllib3.connectionpool:https://f000.backblazeb2.com:443 \"HEAD /file/malaya-model/bpe/sp10m.cased.v10.vocab HTTP/1.1\" 200 0\n",
      "DEBUG:urllib3.connectionpool:Starting new HTTPS connection (1): f000.backblazeb2.com:443\n",
      "DEBUG:urllib3.connectionpool:https://f000.backblazeb2.com:443 \"HEAD /file/malaya-model/bpe/sp10m.cased.v10.model HTTP/1.1\" 200 0\n",
      "DEBUG:urllib3.connectionpool:Starting new HTTPS connection (1): f000.backblazeb2.com:443\n",
      "DEBUG:urllib3.connectionpool:https://f000.backblazeb2.com:443 \"HEAD /file/malaya-model/setting/entities-ontonotes5.json HTTP/1.1\" 200 0\n",
      "DEBUG:urllib3.connectionpool:Starting new HTTPS connection (1): f000.backblazeb2.com:443\n",
      "DEBUG:urllib3.connectionpool:https://f000.backblazeb2.com:443 \"HEAD /file/malaya-model/entity-ontonotes5/albert/version HTTP/1.1\" 404 0\n",
      "DEBUG:urllib3.connectionpool:Starting new HTTPS connection (1): f000.backblazeb2.com:443\n"
     ]
    },
    {
     "name": "stdout",
     "output_type": "stream",
     "text": [
      "downloading frozen model to /Users/huseinzolkepli/Malaya/entity-ontonotes5/albert/model.pb\n"
     ]
    },
    {
     "name": "stderr",
     "output_type": "stream",
     "text": [
      "DEBUG:urllib3.connectionpool:https://f000.backblazeb2.com:443 \"GET /file/malaya-model/entity-ontonotes5/albert/model.pb HTTP/1.1\" 200 51041057\n",
      "101%|██████████| 49.0/48.7 [00:09<00:00, 5.25MB/s]\n",
      "DEBUG:urllib3.connectionpool:Starting new HTTPS connection (1): f000.backblazeb2.com:443\n"
     ]
    },
    {
     "name": "stdout",
     "output_type": "stream",
     "text": [
      "downloading frozen vocab to /Users/huseinzolkepli/Malaya/entity-ontonotes5/albert/sp10m.cased.v10.vocab\n"
     ]
    },
    {
     "name": "stderr",
     "output_type": "stream",
     "text": [
      "DEBUG:urllib3.connectionpool:https://f000.backblazeb2.com:443 \"GET /file/malaya-model/bpe/sp10m.cased.v10.vocab HTTP/1.1\" 200 569013\n",
      "184%|██████████| 1.00/0.54 [00:01<00:00, 1.02s/MB]\n",
      "DEBUG:urllib3.connectionpool:Starting new HTTPS connection (1): f000.backblazeb2.com:443\n"
     ]
    },
    {
     "name": "stdout",
     "output_type": "stream",
     "text": [
      "downloading frozen tokenizer to /Users/huseinzolkepli/Malaya/entity-ontonotes5/albert/sp10m.cased.v10.model\n"
     ]
    },
    {
     "name": "stderr",
     "output_type": "stream",
     "text": [
      "DEBUG:urllib3.connectionpool:https://f000.backblazeb2.com:443 \"GET /file/malaya-model/bpe/sp10m.cased.v10.model HTTP/1.1\" 200 778641\n",
      "135%|██████████| 1.00/0.74 [00:01<00:00, 1.24s/MB]\n",
      "DEBUG:urllib3.connectionpool:Starting new HTTPS connection (1): f000.backblazeb2.com:443\n"
     ]
    },
    {
     "name": "stdout",
     "output_type": "stream",
     "text": [
      "downloading frozen setting to /Users/huseinzolkepli/Malaya/entity-ontonotes5/albert/entities-ontonotes5.json\n"
     ]
    },
    {
     "name": "stderr",
     "output_type": "stream",
     "text": [
      "DEBUG:urllib3.connectionpool:https://f000.backblazeb2.com:443 \"GET /file/malaya-model/setting/entities-ontonotes5.json HTTP/1.1\" 200 632\n",
      "1.00MB [00:00, 225MB/s]                    \n",
      "INFO:root:running entity-ontonotes5/albert using device /device:CPU:0\n",
      "DEBUG:root:['[CLS]', '▁KUALA', '▁LUMPUR', '▁:', '▁Sempena', '▁sambutan', '▁Aidilfitri', '▁minggu', '▁depan', '▁,', '▁Perdana', '▁Menteri', '▁Tun', '▁Dr', '▁Mahathir', '▁Mohamad', '▁dan', '▁Menteri', '▁Pengangkutan', '▁Anthony', '▁Loke', '▁Siew', '▁Fook', '▁menit', 'ip', 'kan', '▁pesanan', '▁khas', '▁kepada', '▁orang', '▁ramai', '▁yang', '▁mahu', '▁pulang', '▁ke', '▁kampung', '▁halaman', '▁masing', '-', 'masing', '▁', '.', '▁Dalam', '▁video', '▁pendek', '▁terbitan', '▁Jabatan', '▁Keselamatan', '▁Jalan', '▁Raya', '▁', '(', '▁', 'JK', 'JR', '▁', ')', '▁itu', '▁,', '▁Dr', '▁Mahathir', '▁menasihati', '▁mereka', '▁supaya', '▁berhenti', '▁berehat', '▁dan', '▁tidur', '▁sebentar', '▁sekiranya', '▁mengantuk', '▁ketika', '▁memandu', '▁', '.', '[SEP]']\n",
      "DEBUG:root:['[CLS]', '▁memperkenalkan', '▁Hu', 'se', 'in', '▁,', '▁dia', '▁sangat', '▁comel', '▁,', '▁berumur', '▁25', '▁tahun', '▁,', '▁bangsa', '▁melayu', '▁,', '▁agama', '▁islam', '▁,', '▁tinggal', '▁di', '▁cyberjaya', '▁malaysia', '▁,', '▁bercakap', '▁bahasa', '▁melayu', '▁,', '▁semua', '▁membaca', '▁buku', '▁undang', '-', 'undang', '▁kewangan', '▁,', '▁dengar', '▁laju', '▁Siti', '▁Nurhaliza', '▁', '-', '▁Seluruh', '▁Cinta', '▁sambil', '▁makan', '▁ayam', '▁goreng', '▁KFC', '[SEP]']\n",
      "DEBUG:root:['[CLS]', '▁KUALA', '▁LUMPUR', '▁:', '▁Sempena', '▁sambutan', '▁Aidilfitri', '▁minggu', '▁depan', '▁,', '▁Perdana', '▁Menteri', '▁Tun', '▁Dr', '▁Mahathir', '▁Mohamad', '▁dan', '▁Menteri', '▁Pengangkutan', '▁Anthony', '▁Loke', '▁Siew', '▁Fook', '▁menit', 'ip', 'kan', '▁pesanan', '▁khas', '▁kepada', '▁orang', '▁ramai', '▁yang', '▁mahu', '▁pulang', '▁ke', '▁kampung', '▁halaman', '▁masing', '-', 'masing', '▁', '.', '▁Dalam', '▁video', '▁pendek', '▁terbitan', '▁Jabatan', '▁Keselamatan', '▁Jalan', '▁Raya', '▁', '(', '▁', 'JK', 'JR', '▁', ')', '▁itu', '▁,', '▁Dr', '▁Mahathir', '▁menasihati', '▁mereka', '▁supaya', '▁berhenti', '▁berehat', '▁dan', '▁tidur', '▁sebentar', '▁sekiranya', '▁mengantuk', '▁ketika', '▁memandu', '▁', '.', '[SEP]']\n"
     ]
    },
    {
     "name": "stdout",
     "output_type": "stream",
     "text": [
      "[('KUALA', 'GPE'), ('LUMPUR', 'GPE'), (':', 'OTHER'), ('Sempena', 'OTHER'), ('sambutan', 'OTHER'), ('Aidilfitri', 'DATE'), ('minggu', 'OTHER'), ('depan', 'OTHER'), (',', 'OTHER'), ('Perdana', 'OTHER'), ('Menteri', 'OTHER'), ('Tun', 'PERSON'), ('Dr', 'PERSON'), ('Mahathir', 'PERSON'), ('Mohamad', 'PERSON'), ('dan', 'OTHER'), ('Menteri', 'OTHER'), ('Pengangkutan', 'OTHER'), ('Anthony', 'PERSON'), ('Loke', 'PERSON'), ('Siew', 'PERSON'), ('Fook', 'PERSON'), ('menitipkan', 'OTHER'), ('pesanan', 'OTHER'), ('khas', 'OTHER'), ('kepada', 'OTHER'), ('orang', 'OTHER'), ('ramai', 'OTHER'), ('yang', 'OTHER'), ('mahu', 'OTHER'), ('pulang', 'OTHER'), ('ke', 'OTHER'), ('kampung', 'OTHER'), ('halaman', 'OTHER'), ('masing-masing', 'OTHER'), ('.', 'OTHER'), ('Dalam', 'OTHER'), ('video', 'OTHER'), ('pendek', 'OTHER'), ('terbitan', 'OTHER'), ('Jabatan', 'ORG'), ('Keselamatan', 'ORG'), ('Jalan', 'ORG'), ('Raya', 'ORG'), ('(', 'ORG'), ('JKJR', 'ORG'), (')', 'ORG'), ('itu', 'OTHER'), (',', 'OTHER'), ('Dr', 'PERSON'), ('Mahathir', 'PERSON'), ('menasihati', 'OTHER'), ('mereka', 'OTHER'), ('supaya', 'OTHER'), ('berhenti', 'OTHER'), ('berehat', 'OTHER'), ('dan', 'OTHER'), ('tidur', 'OTHER'), ('sebentar', 'OTHER'), ('sekiranya', 'OTHER'), ('mengantuk', 'OTHER'), ('ketika', 'OTHER'), ('memandu', 'OTHER'), ('.', 'OTHER')]\n",
      "[('memperkenalkan', 'OTHER'), ('Husein', 'PERSON'), (',', 'OTHER'), ('dia', 'OTHER'), ('sangat', 'OTHER'), ('comel', 'OTHER'), (',', 'OTHER'), ('berumur', 'DATE'), ('25', 'DATE'), ('tahun', 'DATE'), (',', 'OTHER'), ('bangsa', 'OTHER'), ('melayu', 'OTHER'), (',', 'OTHER'), ('agama', 'OTHER'), ('islam', 'OTHER'), (',', 'OTHER'), ('tinggal', 'OTHER'), ('di', 'OTHER'), ('cyberjaya', 'GPE'), ('malaysia', 'GPE'), (',', 'OTHER'), ('bercakap', 'OTHER'), ('bahasa', 'OTHER'), ('melayu', 'OTHER'), (',', 'OTHER'), ('semua', 'OTHER'), ('membaca', 'OTHER'), ('buku', 'OTHER'), ('undang-undang', 'OTHER'), ('kewangan', 'OTHER'), (',', 'OTHER'), ('dengar', 'OTHER'), ('laju', 'OTHER'), ('Siti', 'WORK_OF_ART'), ('Nurhaliza', 'WORK_OF_ART'), ('-', 'WORK_OF_ART'), ('Seluruh', 'WORK_OF_ART'), ('Cinta', 'WORK_OF_ART'), ('sambil', 'OTHER'), ('makan', 'OTHER'), ('ayam', 'OTHER'), ('goreng', 'OTHER'), ('KFC', 'ORG')]\n"
     ]
    },
    {
     "name": "stderr",
     "output_type": "stream",
     "text": [
      "DEBUG:urllib3.connectionpool:Starting new HTTPS connection (1): f000.backblazeb2.com:443\n"
     ]
    },
    {
     "name": "stdout",
     "output_type": "stream",
     "text": [
      "[{'text': ['KUALA', 'LUMPUR'], 'type': 'GPE', 'score': 1.0, 'beginOffset': 0, 'endOffset': 2}, {'text': [':', 'Sempena', 'sambutan'], 'type': 'OTHER', 'score': 1.0, 'beginOffset': 2, 'endOffset': 5}, {'text': ['Aidilfitri'], 'type': 'DATE', 'score': 1.0, 'beginOffset': 5, 'endOffset': 6}, {'text': ['minggu', 'depan', ',', 'Perdana', 'Menteri'], 'type': 'OTHER', 'score': 1.0, 'beginOffset': 6, 'endOffset': 11}, {'text': ['Tun', 'Dr', 'Mahathir', 'Mohamad'], 'type': 'PERSON', 'score': 1.0, 'beginOffset': 11, 'endOffset': 15}, {'text': ['dan', 'Menteri', 'Pengangkutan'], 'type': 'OTHER', 'score': 1.0, 'beginOffset': 15, 'endOffset': 18}, {'text': ['Anthony', 'Loke', 'Siew', 'Fook'], 'type': 'PERSON', 'score': 1.0, 'beginOffset': 18, 'endOffset': 22}, {'text': ['menitipkan', 'pesanan', 'khas', 'kepada', 'orang', 'ramai', 'yang', 'mahu', 'pulang', 'ke', 'kampung', 'halaman', 'masing-masing', '.', 'Dalam', 'video', 'pendek', 'terbitan'], 'type': 'OTHER', 'score': 1.0, 'beginOffset': 22, 'endOffset': 40}, {'text': ['Jabatan', 'Keselamatan', 'Jalan', 'Raya', '(', 'JKJR', ')'], 'type': 'ORG', 'score': 1.0, 'beginOffset': 40, 'endOffset': 47}, {'text': ['itu', ','], 'type': 'OTHER', 'score': 1.0, 'beginOffset': 47, 'endOffset': 49}, {'text': ['Dr', 'Mahathir'], 'type': 'PERSON', 'score': 1.0, 'beginOffset': 49, 'endOffset': 51}, {'text': ['menasihati', 'mereka', 'supaya', 'berhenti', 'berehat', 'dan', 'tidur', 'sebentar', 'sekiranya', 'mengantuk', 'ketika', 'memandu', '.'], 'type': 'OTHER', 'score': 1.0, 'beginOffset': 51, 'endOffset': 64}]\n",
      "tiny-albert\n"
     ]
    },
    {
     "name": "stderr",
     "output_type": "stream",
     "text": [
      "DEBUG:urllib3.connectionpool:https://f000.backblazeb2.com:443 \"HEAD /file/malaya-model/entity-ontonotes5/tiny-albert/model.pb HTTP/1.1\" 200 0\n",
      "DEBUG:urllib3.connectionpool:Starting new HTTPS connection (1): f000.backblazeb2.com:443\n",
      "DEBUG:urllib3.connectionpool:https://f000.backblazeb2.com:443 \"HEAD /file/malaya-model/bpe/sp10m.cased.v10.vocab HTTP/1.1\" 200 0\n",
      "DEBUG:urllib3.connectionpool:Starting new HTTPS connection (1): f000.backblazeb2.com:443\n",
      "DEBUG:urllib3.connectionpool:https://f000.backblazeb2.com:443 \"HEAD /file/malaya-model/bpe/sp10m.cased.v10.model HTTP/1.1\" 200 0\n",
      "DEBUG:urllib3.connectionpool:Starting new HTTPS connection (1): f000.backblazeb2.com:443\n",
      "DEBUG:urllib3.connectionpool:https://f000.backblazeb2.com:443 \"HEAD /file/malaya-model/setting/entities-ontonotes5.json HTTP/1.1\" 200 0\n",
      "DEBUG:urllib3.connectionpool:Starting new HTTPS connection (1): f000.backblazeb2.com:443\n",
      "DEBUG:urllib3.connectionpool:https://f000.backblazeb2.com:443 \"HEAD /file/malaya-model/entity-ontonotes5/tiny-albert/version HTTP/1.1\" 404 0\n",
      "DEBUG:urllib3.connectionpool:Starting new HTTPS connection (1): f000.backblazeb2.com:443\n"
     ]
    },
    {
     "name": "stdout",
     "output_type": "stream",
     "text": [
      "downloading frozen model to /Users/huseinzolkepli/Malaya/entity-ontonotes5/tiny-albert/model.pb\n"
     ]
    },
    {
     "name": "stderr",
     "output_type": "stream",
     "text": [
      "DEBUG:urllib3.connectionpool:https://f000.backblazeb2.com:443 \"GET /file/malaya-model/entity-ontonotes5/tiny-albert/model.pb HTTP/1.1\" 200 23521319\n",
      "23.0MB [00:04, 4.70MB/s]                          \n",
      "DEBUG:urllib3.connectionpool:Starting new HTTPS connection (1): f000.backblazeb2.com:443\n"
     ]
    },
    {
     "name": "stdout",
     "output_type": "stream",
     "text": [
      "downloading frozen vocab to /Users/huseinzolkepli/Malaya/entity-ontonotes5/tiny-albert/sp10m.cased.v10.vocab\n"
     ]
    },
    {
     "name": "stderr",
     "output_type": "stream",
     "text": [
      "DEBUG:urllib3.connectionpool:https://f000.backblazeb2.com:443 \"GET /file/malaya-model/bpe/sp10m.cased.v10.vocab HTTP/1.1\" 200 569013\n",
      "184%|██████████| 1.00/0.54 [00:01<00:00, 1.17s/MB]\n",
      "DEBUG:urllib3.connectionpool:Starting new HTTPS connection (1): f000.backblazeb2.com:443\n"
     ]
    },
    {
     "name": "stdout",
     "output_type": "stream",
     "text": [
      "downloading frozen tokenizer to /Users/huseinzolkepli/Malaya/entity-ontonotes5/tiny-albert/sp10m.cased.v10.model\n"
     ]
    },
    {
     "name": "stderr",
     "output_type": "stream",
     "text": [
      "DEBUG:urllib3.connectionpool:https://f000.backblazeb2.com:443 \"GET /file/malaya-model/bpe/sp10m.cased.v10.model HTTP/1.1\" 200 778641\n",
      "135%|██████████| 1.00/0.74 [00:01<00:00, 1.80s/MB]\n",
      "DEBUG:urllib3.connectionpool:Starting new HTTPS connection (1): f000.backblazeb2.com:443\n"
     ]
    },
    {
     "name": "stdout",
     "output_type": "stream",
     "text": [
      "downloading frozen setting to /Users/huseinzolkepli/Malaya/entity-ontonotes5/tiny-albert/entities-ontonotes5.json\n"
     ]
    },
    {
     "name": "stderr",
     "output_type": "stream",
     "text": [
      "DEBUG:urllib3.connectionpool:https://f000.backblazeb2.com:443 \"GET /file/malaya-model/setting/entities-ontonotes5.json HTTP/1.1\" 200 632\n",
      "1.00MB [00:00, 264MB/s]                    \n",
      "INFO:root:running entity-ontonotes5/tiny-albert using device /device:CPU:0\n",
      "DEBUG:root:['[CLS]', '▁KUALA', '▁LUMPUR', '▁:', '▁Sempena', '▁sambutan', '▁Aidilfitri', '▁minggu', '▁depan', '▁,', '▁Perdana', '▁Menteri', '▁Tun', '▁Dr', '▁Mahathir', '▁Mohamad', '▁dan', '▁Menteri', '▁Pengangkutan', '▁Anthony', '▁Loke', '▁Siew', '▁Fook', '▁menit', 'ip', 'kan', '▁pesanan', '▁khas', '▁kepada', '▁orang', '▁ramai', '▁yang', '▁mahu', '▁pulang', '▁ke', '▁kampung', '▁halaman', '▁masing', '-', 'masing', '▁', '.', '▁Dalam', '▁video', '▁pendek', '▁terbitan', '▁Jabatan', '▁Keselamatan', '▁Jalan', '▁Raya', '▁', '(', '▁', 'JK', 'JR', '▁', ')', '▁itu', '▁,', '▁Dr', '▁Mahathir', '▁menasihati', '▁mereka', '▁supaya', '▁berhenti', '▁berehat', '▁dan', '▁tidur', '▁sebentar', '▁sekiranya', '▁mengantuk', '▁ketika', '▁memandu', '▁', '.', '[SEP]']\n",
      "DEBUG:root:['[CLS]', '▁memperkenalkan', '▁Hu', 'se', 'in', '▁,', '▁dia', '▁sangat', '▁comel', '▁,', '▁berumur', '▁25', '▁tahun', '▁,', '▁bangsa', '▁melayu', '▁,', '▁agama', '▁islam', '▁,', '▁tinggal', '▁di', '▁cyberjaya', '▁malaysia', '▁,', '▁bercakap', '▁bahasa', '▁melayu', '▁,', '▁semua', '▁membaca', '▁buku', '▁undang', '-', 'undang', '▁kewangan', '▁,', '▁dengar', '▁laju', '▁Siti', '▁Nurhaliza', '▁', '-', '▁Seluruh', '▁Cinta', '▁sambil', '▁makan', '▁ayam', '▁goreng', '▁KFC', '[SEP]']\n",
      "DEBUG:root:['[CLS]', '▁KUALA', '▁LUMPUR', '▁:', '▁Sempena', '▁sambutan', '▁Aidilfitri', '▁minggu', '▁depan', '▁,', '▁Perdana', '▁Menteri', '▁Tun', '▁Dr', '▁Mahathir', '▁Mohamad', '▁dan', '▁Menteri', '▁Pengangkutan', '▁Anthony', '▁Loke', '▁Siew', '▁Fook', '▁menit', 'ip', 'kan', '▁pesanan', '▁khas', '▁kepada', '▁orang', '▁ramai', '▁yang', '▁mahu', '▁pulang', '▁ke', '▁kampung', '▁halaman', '▁masing', '-', 'masing', '▁', '.', '▁Dalam', '▁video', '▁pendek', '▁terbitan', '▁Jabatan', '▁Keselamatan', '▁Jalan', '▁Raya', '▁', '(', '▁', 'JK', 'JR', '▁', ')', '▁itu', '▁,', '▁Dr', '▁Mahathir', '▁menasihati', '▁mereka', '▁supaya', '▁berhenti', '▁berehat', '▁dan', '▁tidur', '▁sebentar', '▁sekiranya', '▁mengantuk', '▁ketika', '▁memandu', '▁', '.', '[SEP]']\n",
      "DEBUG:urllib3.connectionpool:Starting new HTTPS connection (1): f000.backblazeb2.com:443\n"
     ]
    },
    {
     "name": "stdout",
     "output_type": "stream",
     "text": [
      "[('KUALA', 'ORG'), ('LUMPUR', 'X'), (':', 'OTHER'), ('Sempena', 'EVENT'), ('sambutan', 'DATE'), ('Aidilfitri', 'EVENT'), ('minggu', 'DATE'), ('depan', 'DATE'), (',', 'OTHER'), ('Perdana', 'OTHER'), ('Menteri', 'OTHER'), ('Tun', 'OTHER'), ('Dr', 'OTHER'), ('Mahathir', 'PERSON'), ('Mohamad', 'PERSON'), ('dan', 'OTHER'), ('Menteri', 'OTHER'), ('Pengangkutan', 'OTHER'), ('Anthony', 'PERSON'), ('Loke', 'PERSON'), ('Siew', 'PERSON'), ('Fook', 'PERSON'), ('menitipkan', 'OTHER'), ('pesanan', 'OTHER'), ('khas', 'OTHER'), ('kepada', 'OTHER'), ('orang', 'OTHER'), ('ramai', 'OTHER'), ('yang', 'OTHER'), ('mahu', 'OTHER'), ('pulang', 'OTHER'), ('ke', 'OTHER'), ('kampung', 'OTHER'), ('halaman', 'OTHER'), ('masing-masing', 'OTHER'), ('.', 'OTHER'), ('Dalam', 'OTHER'), ('video', 'OTHER'), ('pendek', 'OTHER'), ('terbitan', 'OTHER'), ('Jabatan', 'ORG'), ('Keselamatan', 'ORG'), ('Jalan', 'ORG'), ('Raya', 'ORG'), ('(', 'ORG'), ('JKJR', 'ORG'), (')', 'ORG'), ('itu', 'OTHER'), (',', 'OTHER'), ('Dr', 'OTHER'), ('Mahathir', 'PERSON'), ('menasihati', 'OTHER'), ('mereka', 'OTHER'), ('supaya', 'OTHER'), ('berhenti', 'OTHER'), ('berehat', 'OTHER'), ('dan', 'OTHER'), ('tidur', 'OTHER'), ('sebentar', 'OTHER'), ('sekiranya', 'OTHER'), ('mengantuk', 'OTHER'), ('ketika', 'OTHER'), ('memandu', 'OTHER'), ('.', 'OTHER')]\n",
      "[('memperkenalkan', 'OTHER'), ('Husein', 'PERSON'), (',', 'OTHER'), ('dia', 'OTHER'), ('sangat', 'OTHER'), ('comel', 'OTHER'), (',', 'OTHER'), ('berumur', 'OTHER'), ('25', 'DATE'), ('tahun', 'DATE'), (',', 'OTHER'), ('bangsa', 'OTHER'), ('melayu', 'OTHER'), (',', 'OTHER'), ('agama', 'OTHER'), ('islam', 'OTHER'), (',', 'OTHER'), ('tinggal', 'OTHER'), ('di', 'OTHER'), ('cyberjaya', 'OTHER'), ('malaysia', 'OTHER'), (',', 'OTHER'), ('bercakap', 'OTHER'), ('bahasa', 'OTHER'), ('melayu', 'OTHER'), (',', 'OTHER'), ('semua', 'OTHER'), ('membaca', 'OTHER'), ('buku', 'OTHER'), ('undang-undang', 'OTHER'), ('kewangan', 'OTHER'), (',', 'OTHER'), ('dengar', 'OTHER'), ('laju', 'OTHER'), ('Siti', 'ORG'), ('Nurhaliza', 'ORG'), ('-', 'OTHER'), ('Seluruh', 'OTHER'), ('Cinta', 'WORK_OF_ART'), ('sambil', 'OTHER'), ('makan', 'OTHER'), ('ayam', 'OTHER'), ('goreng', 'OTHER'), ('KFC', 'WORK_OF_ART')]\n",
      "[{'text': ['KUALA'], 'type': 'ORG', 'score': 1.0, 'beginOffset': 0, 'endOffset': 1}, {'text': ['LUMPUR'], 'type': 'X', 'score': 1.0, 'beginOffset': 1, 'endOffset': 2}, {'text': [':'], 'type': 'OTHER', 'score': 1.0, 'beginOffset': 2, 'endOffset': 3}, {'text': ['Sempena'], 'type': 'EVENT', 'score': 1.0, 'beginOffset': 3, 'endOffset': 4}, {'text': ['sambutan'], 'type': 'DATE', 'score': 1.0, 'beginOffset': 4, 'endOffset': 5}, {'text': ['Aidilfitri'], 'type': 'EVENT', 'score': 1.0, 'beginOffset': 5, 'endOffset': 6}, {'text': ['minggu', 'depan'], 'type': 'DATE', 'score': 1.0, 'beginOffset': 6, 'endOffset': 8}, {'text': [',', 'Perdana', 'Menteri', 'Tun', 'Dr'], 'type': 'OTHER', 'score': 1.0, 'beginOffset': 8, 'endOffset': 13}, {'text': ['Mahathir', 'Mohamad'], 'type': 'PERSON', 'score': 1.0, 'beginOffset': 13, 'endOffset': 15}, {'text': ['dan', 'Menteri', 'Pengangkutan'], 'type': 'OTHER', 'score': 1.0, 'beginOffset': 15, 'endOffset': 18}, {'text': ['Anthony', 'Loke', 'Siew', 'Fook'], 'type': 'PERSON', 'score': 1.0, 'beginOffset': 18, 'endOffset': 22}, {'text': ['menitipkan', 'pesanan', 'khas', 'kepada', 'orang', 'ramai', 'yang', 'mahu', 'pulang', 'ke', 'kampung', 'halaman', 'masing-masing', '.', 'Dalam', 'video', 'pendek', 'terbitan'], 'type': 'OTHER', 'score': 1.0, 'beginOffset': 22, 'endOffset': 40}, {'text': ['Jabatan', 'Keselamatan', 'Jalan', 'Raya', '(', 'JKJR', ')'], 'type': 'ORG', 'score': 1.0, 'beginOffset': 40, 'endOffset': 47}, {'text': ['itu', ',', 'Dr'], 'type': 'OTHER', 'score': 1.0, 'beginOffset': 47, 'endOffset': 50}, {'text': ['Mahathir'], 'type': 'PERSON', 'score': 1.0, 'beginOffset': 50, 'endOffset': 51}, {'text': ['menasihati', 'mereka', 'supaya', 'berhenti', 'berehat', 'dan', 'tidur', 'sebentar', 'sekiranya', 'mengantuk', 'ketika', 'memandu', '.'], 'type': 'OTHER', 'score': 1.0, 'beginOffset': 51, 'endOffset': 64}]\n",
      "xlnet\n"
     ]
    },
    {
     "name": "stderr",
     "output_type": "stream",
     "text": [
      "DEBUG:urllib3.connectionpool:https://f000.backblazeb2.com:443 \"HEAD /file/malaya-model/entity-ontonotes5/xlnet/model.pb HTTP/1.1\" 200 0\n",
      "DEBUG:urllib3.connectionpool:Starting new HTTPS connection (1): f000.backblazeb2.com:443\n",
      "DEBUG:urllib3.connectionpool:https://f000.backblazeb2.com:443 \"HEAD /file/malaya-model/bpe/sp10m.cased.v9.vocab HTTP/1.1\" 200 0\n",
      "DEBUG:urllib3.connectionpool:Starting new HTTPS connection (1): f000.backblazeb2.com:443\n",
      "DEBUG:urllib3.connectionpool:https://f000.backblazeb2.com:443 \"HEAD /file/malaya-model/bpe/sp10m.cased.v9.model HTTP/1.1\" 200 0\n",
      "DEBUG:urllib3.connectionpool:Starting new HTTPS connection (1): f000.backblazeb2.com:443\n",
      "DEBUG:urllib3.connectionpool:https://f000.backblazeb2.com:443 \"HEAD /file/malaya-model/setting/entities-ontonotes5.json HTTP/1.1\" 200 0\n",
      "DEBUG:urllib3.connectionpool:Starting new HTTPS connection (1): f000.backblazeb2.com:443\n",
      "DEBUG:urllib3.connectionpool:https://f000.backblazeb2.com:443 \"HEAD /file/malaya-model/entity-ontonotes5/xlnet/version HTTP/1.1\" 404 0\n",
      "DEBUG:urllib3.connectionpool:Starting new HTTPS connection (1): f000.backblazeb2.com:443\n"
     ]
    },
    {
     "name": "stdout",
     "output_type": "stream",
     "text": [
      "downloading frozen model to /Users/huseinzolkepli/Malaya/entity-ontonotes5/xlnet/model.pb\n"
     ]
    },
    {
     "name": "stderr",
     "output_type": "stream",
     "text": [
      "DEBUG:urllib3.connectionpool:https://f000.backblazeb2.com:443 \"GET /file/malaya-model/entity-ontonotes5/xlnet/model.pb HTTP/1.1\" 200 468284158\n",
      "100%|██████████| 447/447 [01:02<00:00, 7.18MB/s] \n",
      "DEBUG:urllib3.connectionpool:Starting new HTTPS connection (1): f000.backblazeb2.com:443\n"
     ]
    },
    {
     "name": "stdout",
     "output_type": "stream",
     "text": [
      "downloading frozen vocab to /Users/huseinzolkepli/Malaya/entity-ontonotes5/xlnet/sp10m.cased.v9.vocab\n"
     ]
    },
    {
     "name": "stderr",
     "output_type": "stream",
     "text": [
      "DEBUG:urllib3.connectionpool:https://f000.backblazeb2.com:443 \"GET /file/malaya-model/bpe/sp10m.cased.v9.vocab HTTP/1.1\" 200 568997\n",
      "184%|██████████| 1.00/0.54 [00:01<00:00, 1.02s/MB]\n",
      "DEBUG:urllib3.connectionpool:Starting new HTTPS connection (1): f000.backblazeb2.com:443\n"
     ]
    },
    {
     "name": "stdout",
     "output_type": "stream",
     "text": [
      "downloading frozen tokenizer to /Users/huseinzolkepli/Malaya/entity-ontonotes5/xlnet/sp10m.cased.v9.model\n"
     ]
    },
    {
     "name": "stderr",
     "output_type": "stream",
     "text": [
      "DEBUG:urllib3.connectionpool:https://f000.backblazeb2.com:443 \"GET /file/malaya-model/bpe/sp10m.cased.v9.model HTTP/1.1\" 200 778744\n",
      "135%|██████████| 1.00/0.74 [00:01<00:00, 1.30s/MB]\n",
      "DEBUG:urllib3.connectionpool:Starting new HTTPS connection (1): f000.backblazeb2.com:443\n"
     ]
    },
    {
     "name": "stdout",
     "output_type": "stream",
     "text": [
      "downloading frozen setting to /Users/huseinzolkepli/Malaya/entity-ontonotes5/xlnet/entities-ontonotes5.json\n"
     ]
    },
    {
     "name": "stderr",
     "output_type": "stream",
     "text": [
      "DEBUG:urllib3.connectionpool:https://f000.backblazeb2.com:443 \"GET /file/malaya-model/setting/entities-ontonotes5.json HTTP/1.1\" 200 632\n",
      "1.00MB [00:00, 262MB/s]                    \n",
      "INFO:root:running entity-ontonotes5/xlnet using device /device:CPU:0\n",
      "DEBUG:root:['▁KUALA', '▁LUMPUR', '▁:', '▁Sempena', '▁sambutan', '▁Aidilfitri', '▁minggu', '▁depan', '▁,', '▁Perdana', '▁Menteri', '▁Tun', '▁Dr', '▁Mahathir', '▁Mohamad', '▁dan', '▁Menteri', '▁Pengangkutan', '▁Anthony', '▁Loke', '▁Siew', '▁Fook', '▁menit', 'ip', 'kan', '▁pesanan', '▁khas', '▁kepada', '▁orang', '▁ramai', '▁yang', '▁mahu', '▁pulang', '▁ke', '▁kampung', '▁halaman', '▁masing', '-', 'masing', '▁', '.', '▁Dalam', '▁video', '▁pendek', '▁terbitan', '▁Jabatan', '▁Keselamatan', '▁Jalan', '▁Raya', '▁', '(', '▁', 'JK', 'JR', '▁', ')', '▁itu', '▁,', '▁Dr', '▁Mahathir', '▁menasihati', '▁mereka', '▁supaya', '▁berhenti', '▁berehat', '▁dan', '▁tidur', '▁sebentar', '▁sekiranya', '▁mengantuk', '▁ketika', '▁memandu', '▁', '.']\n",
      "DEBUG:root:[2208, 2516, 29, 13383, 4541, 3419, 758, 314, 20, 685, 247, 806, 383, 1096, 1515, 24, 247, 5605, 13893, 14089, 20774, 27736, 2340, 4700, 37, 4856, 1492, 72, 50, 396, 22, 943, 863, 32, 552, 5119, 1077, 13, 1384, 19, 9, 341, 596, 2449, 13974, 871, 5427, 708, 688, 19, 10, 19, 4710, 22348, 19, 11, 41, 20, 383, 1096, 21767, 88, 757, 1606, 15738, 24, 198, 4049, 2479, 7529, 271, 7644, 19, 9, 4, 3]\n",
      "DEBUG:root:['▁memperkenalkan', '▁Hu', 'se', 'in', '▁,', '▁dia', '▁sangat', '▁comel', '▁,', '▁berumur', '▁25', '▁tahun', '▁,', '▁bangsa', '▁melayu', '▁,', '▁agama', '▁islam', '▁,', '▁tinggal', '▁di', '▁cyberjaya', '▁malaysia', '▁,', '▁bercakap', '▁bahasa', '▁melayu', '▁,', '▁semua', '▁membaca', '▁buku', '▁undang', '-', 'undang', '▁kewangan', '▁,', '▁dengar', '▁laju', '▁Siti', '▁Nurhaliza', '▁', '-', '▁Seluruh', '▁Cinta', '▁sambil', '▁makan', '▁ayam', '▁goreng', '▁KFC']\n",
      "DEBUG:root:[4995, 2135, 372, 59, 20, 42, 150, 2698, 20, 4580, 1145, 73, 20, 1534, 1255, 20, 523, 2066, 20, 634, 23, 30431, 1836, 20, 3824, 645, 1255, 20, 86, 1524, 598, 1722, 13, 998, 1662, 20, 1147, 2620, 3123, 21002, 19, 13, 8671, 2760, 595, 131, 638, 952, 7621, 4, 3]\n",
      "DEBUG:root:['▁KUALA', '▁LUMPUR', '▁:', '▁Sempena', '▁sambutan', '▁Aidilfitri', '▁minggu', '▁depan', '▁,', '▁Perdana', '▁Menteri', '▁Tun', '▁Dr', '▁Mahathir', '▁Mohamad', '▁dan', '▁Menteri', '▁Pengangkutan', '▁Anthony', '▁Loke', '▁Siew', '▁Fook', '▁menit', 'ip', 'kan', '▁pesanan', '▁khas', '▁kepada', '▁orang', '▁ramai', '▁yang', '▁mahu', '▁pulang', '▁ke', '▁kampung', '▁halaman', '▁masing', '-', 'masing', '▁', '.', '▁Dalam', '▁video', '▁pendek', '▁terbitan', '▁Jabatan', '▁Keselamatan', '▁Jalan', '▁Raya', '▁', '(', '▁', 'JK', 'JR', '▁', ')', '▁itu', '▁,', '▁Dr', '▁Mahathir', '▁menasihati', '▁mereka', '▁supaya', '▁berhenti', '▁berehat', '▁dan', '▁tidur', '▁sebentar', '▁sekiranya', '▁mengantuk', '▁ketika', '▁memandu', '▁', '.']\n",
      "DEBUG:root:[2208, 2516, 29, 13383, 4541, 3419, 758, 314, 20, 685, 247, 806, 383, 1096, 1515, 24, 247, 5605, 13893, 14089, 20774, 27736, 2340, 4700, 37, 4856, 1492, 72, 50, 396, 22, 943, 863, 32, 552, 5119, 1077, 13, 1384, 19, 9, 341, 596, 2449, 13974, 871, 5427, 708, 688, 19, 10, 19, 4710, 22348, 19, 11, 41, 20, 383, 1096, 21767, 88, 757, 1606, 15738, 24, 198, 4049, 2479, 7529, 271, 7644, 19, 9, 4, 3]\n"
     ]
    },
    {
     "name": "stdout",
     "output_type": "stream",
     "text": [
      "[('KUALA', 'GPE'), ('LUMPUR', 'X'), (':', 'OTHER'), ('Sempena', 'OTHER'), ('sambutan', 'OTHER'), ('Aidilfitri', 'OTHER'), ('minggu', 'DATE'), ('depan', 'DATE'), (',', 'OTHER'), ('Perdana', 'OTHER'), ('Menteri', 'OTHER'), ('Tun', 'PERSON'), ('Dr', 'PERSON'), ('Mahathir', 'PERSON'), ('Mohamad', 'PERSON'), ('dan', 'OTHER'), ('Menteri', 'OTHER'), ('Pengangkutan', 'OTHER'), ('Anthony', 'PERSON'), ('Loke', 'PERSON'), ('Siew', 'PERSON'), ('Fook', 'PERSON'), ('menitipkan', 'OTHER'), ('pesanan', 'OTHER'), ('khas', 'OTHER'), ('kepada', 'OTHER'), ('orang', 'OTHER'), ('ramai', 'OTHER'), ('yang', 'OTHER'), ('mahu', 'OTHER'), ('pulang', 'OTHER'), ('ke', 'OTHER'), ('kampung', 'OTHER'), ('halaman', 'OTHER'), ('masing-masing', 'OTHER'), ('.', 'OTHER'), ('Dalam', 'OTHER'), ('video', 'OTHER'), ('pendek', 'OTHER'), ('terbitan', 'OTHER'), ('Jabatan', 'ORG'), ('Keselamatan', 'ORG'), ('Jalan', 'ORG'), ('Raya', 'ORG'), ('(', 'ORG'), ('JKJR', 'ORG'), (')', 'ORG'), ('itu', 'OTHER'), (',', 'OTHER'), ('Dr', 'PERSON'), ('Mahathir', 'PERSON'), ('menasihati', 'OTHER'), ('mereka', 'OTHER'), ('supaya', 'OTHER'), ('berhenti', 'OTHER'), ('berehat', 'OTHER'), ('dan', 'OTHER'), ('tidur', 'OTHER'), ('sebentar', 'OTHER'), ('sekiranya', 'OTHER'), ('mengantuk', 'OTHER'), ('ketika', 'OTHER'), ('memandu', 'OTHER'), ('.', 'OTHER')]\n",
      "[('memperkenalkan', 'OTHER'), ('Husein', 'PERSON'), (',', 'OTHER'), ('dia', 'OTHER'), ('sangat', 'OTHER'), ('comel', 'OTHER'), (',', 'OTHER'), ('berumur', 'DATE'), ('25', 'DATE'), ('tahun', 'DATE'), (',', 'OTHER'), ('bangsa', 'NORP'), ('melayu', 'NORP'), (',', 'OTHER'), ('agama', 'NORP'), ('islam', 'NORP'), (',', 'OTHER'), ('tinggal', 'OTHER'), ('di', 'OTHER'), ('cyberjaya', 'GPE'), ('malaysia', 'GPE'), (',', 'OTHER'), ('bercakap', 'OTHER'), ('bahasa', 'OTHER'), ('melayu', 'OTHER'), (',', 'OTHER'), ('semua', 'OTHER'), ('membaca', 'OTHER'), ('buku', 'OTHER'), ('undang-undang', 'OTHER'), ('kewangan', 'OTHER'), (',', 'OTHER'), ('dengar', 'OTHER'), ('laju', 'OTHER'), ('Siti', 'WORK_OF_ART'), ('Nurhaliza', 'WORK_OF_ART'), ('-', 'WORK_OF_ART'), ('Seluruh', 'WORK_OF_ART'), ('Cinta', 'WORK_OF_ART'), ('sambil', 'OTHER'), ('makan', 'OTHER'), ('ayam', 'OTHER'), ('goreng', 'OTHER'), ('KFC', 'OTHER')]\n",
      "[{'text': ['KUALA'], 'type': 'GPE', 'score': 1.0, 'beginOffset': 0, 'endOffset': 1}, {'text': ['LUMPUR'], 'type': 'X', 'score': 1.0, 'beginOffset': 1, 'endOffset': 2}, {'text': [':', 'Sempena'], 'type': 'OTHER', 'score': 1.0, 'beginOffset': 2, 'endOffset': 4}, {'text': ['sambutan', 'Aidilfitri'], 'type': 'EVENT', 'score': 1.0, 'beginOffset': 4, 'endOffset': 6}, {'text': ['minggu', 'depan'], 'type': 'DATE', 'score': 1.0, 'beginOffset': 6, 'endOffset': 8}, {'text': [',', 'Perdana', 'Menteri'], 'type': 'OTHER', 'score': 1.0, 'beginOffset': 8, 'endOffset': 11}, {'text': ['Tun', 'Dr', 'Mahathir', 'Mohamad'], 'type': 'PERSON', 'score': 1.0, 'beginOffset': 11, 'endOffset': 15}, {'text': ['dan', 'Menteri', 'Pengangkutan'], 'type': 'OTHER', 'score': 1.0, 'beginOffset': 15, 'endOffset': 18}, {'text': ['Anthony', 'Loke', 'Siew', 'Fook'], 'type': 'PERSON', 'score': 1.0, 'beginOffset': 18, 'endOffset': 22}, {'text': ['menitipkan', 'pesanan', 'khas', 'kepada', 'orang', 'ramai', 'yang', 'mahu', 'pulang', 'ke', 'kampung', 'halaman', 'masing-masing', '.', 'Dalam', 'video', 'pendek', 'terbitan'], 'type': 'OTHER', 'score': 1.0, 'beginOffset': 22, 'endOffset': 40}, {'text': ['Jabatan', 'Keselamatan', 'Jalan', 'Raya', '(', 'JKJR', ')'], 'type': 'ORG', 'score': 1.0, 'beginOffset': 40, 'endOffset': 47}, {'text': ['itu', ','], 'type': 'OTHER', 'score': 1.0, 'beginOffset': 47, 'endOffset': 49}, {'text': ['Dr', 'Mahathir'], 'type': 'PERSON', 'score': 1.0, 'beginOffset': 49, 'endOffset': 51}, {'text': ['menasihati', 'mereka', 'supaya', 'berhenti', 'berehat', 'dan', 'tidur', 'sebentar', 'sekiranya', 'mengantuk', 'ketika', 'memandu', '.'], 'type': 'OTHER', 'score': 1.0, 'beginOffset': 51, 'endOffset': 64}]\n"
     ]
    },
    {
     "name": "stderr",
     "output_type": "stream",
     "text": [
      "DEBUG:urllib3.connectionpool:Starting new HTTPS connection (1): f000.backblazeb2.com:443\n"
     ]
    },
    {
     "name": "stdout",
     "output_type": "stream",
     "text": [
      "alxlnet\n"
     ]
    },
    {
     "name": "stderr",
     "output_type": "stream",
     "text": [
      "DEBUG:urllib3.connectionpool:https://f000.backblazeb2.com:443 \"HEAD /file/malaya-model/entity-ontonotes5/alxlnet/model.pb HTTP/1.1\" 200 0\n",
      "DEBUG:urllib3.connectionpool:Starting new HTTPS connection (1): f000.backblazeb2.com:443\n",
      "DEBUG:urllib3.connectionpool:https://f000.backblazeb2.com:443 \"HEAD /file/malaya-model/bpe/sp10m.cased.v9.vocab HTTP/1.1\" 200 0\n",
      "DEBUG:urllib3.connectionpool:Starting new HTTPS connection (1): f000.backblazeb2.com:443\n",
      "DEBUG:urllib3.connectionpool:https://f000.backblazeb2.com:443 \"HEAD /file/malaya-model/bpe/sp10m.cased.v9.model HTTP/1.1\" 200 0\n",
      "DEBUG:urllib3.connectionpool:Starting new HTTPS connection (1): f000.backblazeb2.com:443\n",
      "DEBUG:urllib3.connectionpool:https://f000.backblazeb2.com:443 \"HEAD /file/malaya-model/setting/entities-ontonotes5.json HTTP/1.1\" 200 0\n",
      "DEBUG:urllib3.connectionpool:Starting new HTTPS connection (1): f000.backblazeb2.com:443\n",
      "DEBUG:urllib3.connectionpool:https://f000.backblazeb2.com:443 \"HEAD /file/malaya-model/entity-ontonotes5/alxlnet/version HTTP/1.1\" 404 0\n",
      "DEBUG:urllib3.connectionpool:Starting new HTTPS connection (1): f000.backblazeb2.com:443\n"
     ]
    },
    {
     "name": "stdout",
     "output_type": "stream",
     "text": [
      "downloading frozen model to /Users/huseinzolkepli/Malaya/entity-ontonotes5/alxlnet/model.pb\n"
     ]
    },
    {
     "name": "stderr",
     "output_type": "stream",
     "text": [
      "DEBUG:urllib3.connectionpool:https://f000.backblazeb2.com:443 \"GET /file/malaya-model/entity-ontonotes5/alxlnet/model.pb HTTP/1.1\" 200 49138814\n",
      "100%|██████████| 47.0/46.9 [00:07<00:00, 6.64MB/s]\n",
      "DEBUG:urllib3.connectionpool:Starting new HTTPS connection (1): f000.backblazeb2.com:443\n"
     ]
    },
    {
     "name": "stdout",
     "output_type": "stream",
     "text": [
      "downloading frozen vocab to /Users/huseinzolkepli/Malaya/entity-ontonotes5/alxlnet/sp10m.cased.v9.vocab\n"
     ]
    },
    {
     "name": "stderr",
     "output_type": "stream",
     "text": [
      "DEBUG:urllib3.connectionpool:https://f000.backblazeb2.com:443 \"GET /file/malaya-model/bpe/sp10m.cased.v9.vocab HTTP/1.1\" 200 568997\n",
      "184%|██████████| 1.00/0.54 [00:00<00:00, 1.01MB/s]\n",
      "DEBUG:urllib3.connectionpool:Starting new HTTPS connection (1): f000.backblazeb2.com:443\n"
     ]
    },
    {
     "name": "stdout",
     "output_type": "stream",
     "text": [
      "downloading frozen tokenizer to /Users/huseinzolkepli/Malaya/entity-ontonotes5/alxlnet/sp10m.cased.v9.model\n"
     ]
    },
    {
     "name": "stderr",
     "output_type": "stream",
     "text": [
      "DEBUG:urllib3.connectionpool:https://f000.backblazeb2.com:443 \"GET /file/malaya-model/bpe/sp10m.cased.v9.model HTTP/1.1\" 200 778744\n",
      "135%|██████████| 1.00/0.74 [00:01<00:00, 1.14s/MB]\n",
      "DEBUG:urllib3.connectionpool:Starting new HTTPS connection (1): f000.backblazeb2.com:443\n"
     ]
    },
    {
     "name": "stdout",
     "output_type": "stream",
     "text": [
      "downloading frozen setting to /Users/huseinzolkepli/Malaya/entity-ontonotes5/alxlnet/entities-ontonotes5.json\n"
     ]
    },
    {
     "name": "stderr",
     "output_type": "stream",
     "text": [
      "DEBUG:urllib3.connectionpool:https://f000.backblazeb2.com:443 \"GET /file/malaya-model/setting/entities-ontonotes5.json HTTP/1.1\" 200 632\n",
      "1.00MB [00:00, 256MB/s]                    \n",
      "INFO:root:running entity-ontonotes5/alxlnet using device /device:CPU:0\n",
      "DEBUG:root:['▁KUALA', '▁LUMPUR', '▁:', '▁Sempena', '▁sambutan', '▁Aidilfitri', '▁minggu', '▁depan', '▁,', '▁Perdana', '▁Menteri', '▁Tun', '▁Dr', '▁Mahathir', '▁Mohamad', '▁dan', '▁Menteri', '▁Pengangkutan', '▁Anthony', '▁Loke', '▁Siew', '▁Fook', '▁menit', 'ip', 'kan', '▁pesanan', '▁khas', '▁kepada', '▁orang', '▁ramai', '▁yang', '▁mahu', '▁pulang', '▁ke', '▁kampung', '▁halaman', '▁masing', '-', 'masing', '▁', '.', '▁Dalam', '▁video', '▁pendek', '▁terbitan', '▁Jabatan', '▁Keselamatan', '▁Jalan', '▁Raya', '▁', '(', '▁', 'JK', 'JR', '▁', ')', '▁itu', '▁,', '▁Dr', '▁Mahathir', '▁menasihati', '▁mereka', '▁supaya', '▁berhenti', '▁berehat', '▁dan', '▁tidur', '▁sebentar', '▁sekiranya', '▁mengantuk', '▁ketika', '▁memandu', '▁', '.']\n",
      "DEBUG:root:[2208, 2516, 29, 13383, 4541, 3419, 758, 314, 20, 685, 247, 806, 383, 1096, 1515, 24, 247, 5605, 13893, 14089, 20774, 27736, 2340, 4700, 37, 4856, 1492, 72, 50, 396, 22, 943, 863, 32, 552, 5119, 1077, 13, 1384, 19, 9, 341, 596, 2449, 13974, 871, 5427, 708, 688, 19, 10, 19, 4710, 22348, 19, 11, 41, 20, 383, 1096, 21767, 88, 757, 1606, 15738, 24, 198, 4049, 2479, 7529, 271, 7644, 19, 9, 4, 3]\n",
      "DEBUG:root:['▁memperkenalkan', '▁Hu', 'se', 'in', '▁,', '▁dia', '▁sangat', '▁comel', '▁,', '▁berumur', '▁25', '▁tahun', '▁,', '▁bangsa', '▁melayu', '▁,', '▁agama', '▁islam', '▁,', '▁tinggal', '▁di', '▁cyberjaya', '▁malaysia', '▁,', '▁bercakap', '▁bahasa', '▁melayu', '▁,', '▁semua', '▁membaca', '▁buku', '▁undang', '-', 'undang', '▁kewangan', '▁,', '▁dengar', '▁laju', '▁Siti', '▁Nurhaliza', '▁', '-', '▁Seluruh', '▁Cinta', '▁sambil', '▁makan', '▁ayam', '▁goreng', '▁KFC']\n",
      "DEBUG:root:[4995, 2135, 372, 59, 20, 42, 150, 2698, 20, 4580, 1145, 73, 20, 1534, 1255, 20, 523, 2066, 20, 634, 23, 30431, 1836, 20, 3824, 645, 1255, 20, 86, 1524, 598, 1722, 13, 998, 1662, 20, 1147, 2620, 3123, 21002, 19, 13, 8671, 2760, 595, 131, 638, 952, 7621, 4, 3]\n",
      "DEBUG:root:['▁KUALA', '▁LUMPUR', '▁:', '▁Sempena', '▁sambutan', '▁Aidilfitri', '▁minggu', '▁depan', '▁,', '▁Perdana', '▁Menteri', '▁Tun', '▁Dr', '▁Mahathir', '▁Mohamad', '▁dan', '▁Menteri', '▁Pengangkutan', '▁Anthony', '▁Loke', '▁Siew', '▁Fook', '▁menit', 'ip', 'kan', '▁pesanan', '▁khas', '▁kepada', '▁orang', '▁ramai', '▁yang', '▁mahu', '▁pulang', '▁ke', '▁kampung', '▁halaman', '▁masing', '-', 'masing', '▁', '.', '▁Dalam', '▁video', '▁pendek', '▁terbitan', '▁Jabatan', '▁Keselamatan', '▁Jalan', '▁Raya', '▁', '(', '▁', 'JK', 'JR', '▁', ')', '▁itu', '▁,', '▁Dr', '▁Mahathir', '▁menasihati', '▁mereka', '▁supaya', '▁berhenti', '▁berehat', '▁dan', '▁tidur', '▁sebentar', '▁sekiranya', '▁mengantuk', '▁ketika', '▁memandu', '▁', '.']\n",
      "DEBUG:root:[2208, 2516, 29, 13383, 4541, 3419, 758, 314, 20, 685, 247, 806, 383, 1096, 1515, 24, 247, 5605, 13893, 14089, 20774, 27736, 2340, 4700, 37, 4856, 1492, 72, 50, 396, 22, 943, 863, 32, 552, 5119, 1077, 13, 1384, 19, 9, 341, 596, 2449, 13974, 871, 5427, 708, 688, 19, 10, 19, 4710, 22348, 19, 11, 41, 20, 383, 1096, 21767, 88, 757, 1606, 15738, 24, 198, 4049, 2479, 7529, 271, 7644, 19, 9, 4, 3]\n"
     ]
    },
    {
     "name": "stdout",
     "output_type": "stream",
     "text": [
      "[('KUALA', 'EVENT'), ('LUMPUR', 'EVENT'), (':', 'OTHER'), ('Sempena', 'OTHER'), ('sambutan', 'EVENT'), ('Aidilfitri', 'EVENT'), ('minggu', 'DATE'), ('depan', 'DATE'), (',', 'OTHER'), ('Perdana', 'OTHER'), ('Menteri', 'OTHER'), ('Tun', 'PERSON'), ('Dr', 'PERSON'), ('Mahathir', 'PERSON'), ('Mohamad', 'PERSON'), ('dan', 'OTHER'), ('Menteri', 'OTHER'), ('Pengangkutan', 'OTHER'), ('Anthony', 'PERSON'), ('Loke', 'PERSON'), ('Siew', 'PERSON'), ('Fook', 'PERSON'), ('menitipkan', 'OTHER'), ('pesanan', 'OTHER'), ('khas', 'OTHER'), ('kepada', 'OTHER'), ('orang', 'OTHER'), ('ramai', 'OTHER'), ('yang', 'OTHER'), ('mahu', 'OTHER'), ('pulang', 'OTHER'), ('ke', 'OTHER'), ('kampung', 'OTHER'), ('halaman', 'OTHER'), ('masing-masing', 'OTHER'), ('.', 'OTHER'), ('Dalam', 'OTHER'), ('video', 'OTHER'), ('pendek', 'OTHER'), ('terbitan', 'OTHER'), ('Jabatan', 'ORG'), ('Keselamatan', 'ORG'), ('Jalan', 'ORG'), ('Raya', 'ORG'), ('(', 'ORG'), ('JKJR', 'ORG'), (')', 'ORG'), ('itu', 'OTHER'), (',', 'OTHER'), ('Dr', 'OTHER'), ('Mahathir', 'PERSON'), ('menasihati', 'OTHER'), ('mereka', 'OTHER'), ('supaya', 'OTHER'), ('berhenti', 'OTHER'), ('berehat', 'OTHER'), ('dan', 'OTHER'), ('tidur', 'OTHER'), ('sebentar', 'OTHER'), ('sekiranya', 'OTHER'), ('mengantuk', 'OTHER'), ('ketika', 'OTHER'), ('memandu', 'OTHER'), ('.', 'OTHER')]\n",
      "[('memperkenalkan', 'OTHER'), ('Husein', 'PERSON'), (',', 'OTHER'), ('dia', 'OTHER'), ('sangat', 'OTHER'), ('comel', 'OTHER'), (',', 'OTHER'), ('berumur', 'DATE'), ('25', 'DATE'), ('tahun', 'DATE'), (',', 'OTHER'), ('bangsa', 'OTHER'), ('melayu', 'OTHER'), (',', 'OTHER'), ('agama', 'OTHER'), ('islam', 'NORP'), (',', 'OTHER'), ('tinggal', 'OTHER'), ('di', 'OTHER'), ('cyberjaya', 'GPE'), ('malaysia', 'GPE'), (',', 'OTHER'), ('bercakap', 'OTHER'), ('bahasa', 'OTHER'), ('melayu', 'OTHER'), (',', 'OTHER'), ('semua', 'OTHER'), ('membaca', 'OTHER'), ('buku', 'OTHER'), ('undang-undang', 'OTHER'), ('kewangan', 'OTHER'), (',', 'OTHER'), ('dengar', 'OTHER'), ('laju', 'OTHER'), ('Siti', 'WORK_OF_ART'), ('Nurhaliza', 'WORK_OF_ART'), ('-', 'X'), ('Seluruh', 'X'), ('Cinta', 'WORK_OF_ART'), ('sambil', 'OTHER'), ('makan', 'OTHER'), ('ayam', 'OTHER'), ('goreng', 'OTHER'), ('KFC', 'ORG')]\n",
      "[{'text': ['KUALA'], 'type': 'EVENT', 'score': 1.0, 'beginOffset': 0, 'endOffset': 1}, {'text': ['LUMPUR'], 'type': 'ORG', 'score': 1.0, 'beginOffset': 1, 'endOffset': 2}, {'text': [':', 'Sempena'], 'type': 'OTHER', 'score': 1.0, 'beginOffset': 2, 'endOffset': 4}, {'text': ['sambutan', 'Aidilfitri', 'minggu'], 'type': 'EVENT', 'score': 1.0, 'beginOffset': 4, 'endOffset': 7}, {'text': ['depan'], 'type': 'DATE', 'score': 1.0, 'beginOffset': 7, 'endOffset': 8}, {'text': [',', 'Perdana', 'Menteri'], 'type': 'OTHER', 'score': 1.0, 'beginOffset': 8, 'endOffset': 11}, {'text': ['Tun', 'Dr', 'Mahathir', 'Mohamad'], 'type': 'PERSON', 'score': 1.0, 'beginOffset': 11, 'endOffset': 15}, {'text': ['dan', 'Menteri', 'Pengangkutan'], 'type': 'OTHER', 'score': 1.0, 'beginOffset': 15, 'endOffset': 18}, {'text': ['Anthony', 'Loke', 'Siew', 'Fook'], 'type': 'PERSON', 'score': 1.0, 'beginOffset': 18, 'endOffset': 22}, {'text': ['menitipkan', 'pesanan', 'khas', 'kepada', 'orang', 'ramai', 'yang', 'mahu', 'pulang', 'ke', 'kampung', 'halaman', 'masing-masing', '.', 'Dalam', 'video', 'pendek', 'terbitan'], 'type': 'OTHER', 'score': 1.0, 'beginOffset': 22, 'endOffset': 40}, {'text': ['Jabatan', 'Keselamatan', 'Jalan', 'Raya', '(', 'JKJR', ')'], 'type': 'ORG', 'score': 1.0, 'beginOffset': 40, 'endOffset': 47}, {'text': ['itu', ',', 'Dr'], 'type': 'OTHER', 'score': 1.0, 'beginOffset': 47, 'endOffset': 50}, {'text': ['Mahathir'], 'type': 'PERSON', 'score': 1.0, 'beginOffset': 50, 'endOffset': 51}, {'text': ['menasihati', 'mereka', 'supaya', 'berhenti', 'berehat', 'dan', 'tidur', 'sebentar', 'sekiranya', 'mengantuk', 'ketika', 'memandu', '.'], 'type': 'OTHER', 'score': 1.0, 'beginOffset': 51, 'endOffset': 64}]\n"
     ]
    }
   ],
   "source": [
    "models = malaya.entity.available_transformer_ontonotes5()\n",
    "for m in models.index:\n",
    "    print(m)\n",
    "    model = malaya.entity.transformer_ontonotes5(model = m)\n",
    "    print(model.predict(string))\n",
    "    print(model.predict(string1))\n",
    "    print(model.analyze(string))\n",
    "    malaya.utils.delete_cache(f'entity-ontonotes5/{m}')\n",
    "    del model"
   ]
  },
  {
   "cell_type": "code",
   "execution_count": 6,
   "id": "comparative-hands",
   "metadata": {},
   "outputs": [
    {
     "name": "stderr",
     "output_type": "stream",
     "text": [
      "INFO:root:tested on 20% test set.\n",
      "DEBUG:urllib3.connectionpool:Starting new HTTPS connection (1): f000.backblazeb2.com:443\n"
     ]
    },
    {
     "name": "stdout",
     "output_type": "stream",
     "text": [
      "bert\n"
     ]
    },
    {
     "name": "stderr",
     "output_type": "stream",
     "text": [
      "DEBUG:urllib3.connectionpool:https://f000.backblazeb2.com:443 \"HEAD /file/malaya-model/entity/bert/model.pb HTTP/1.1\" 200 0\n",
      "DEBUG:urllib3.connectionpool:Starting new HTTPS connection (1): f000.backblazeb2.com:443\n",
      "DEBUG:urllib3.connectionpool:https://f000.backblazeb2.com:443 \"HEAD /file/malaya-model/bpe/sp10m.cased.bert.vocab HTTP/1.1\" 200 0\n",
      "DEBUG:urllib3.connectionpool:Starting new HTTPS connection (1): f000.backblazeb2.com:443\n",
      "DEBUG:urllib3.connectionpool:https://f000.backblazeb2.com:443 \"HEAD /file/malaya-model/bpe/sp10m.cased.bert.model HTTP/1.1\" 200 0\n",
      "DEBUG:urllib3.connectionpool:Starting new HTTPS connection (1): f000.backblazeb2.com:443\n",
      "DEBUG:urllib3.connectionpool:https://f000.backblazeb2.com:443 \"HEAD /file/malaya-model/setting/entities.json HTTP/1.1\" 200 0\n",
      "DEBUG:urllib3.connectionpool:Starting new HTTPS connection (1): f000.backblazeb2.com:443\n",
      "DEBUG:urllib3.connectionpool:https://f000.backblazeb2.com:443 \"HEAD /file/malaya-model/entity/bert/version HTTP/1.1\" 404 0\n",
      "DEBUG:urllib3.connectionpool:Starting new HTTPS connection (1): f000.backblazeb2.com:443\n"
     ]
    },
    {
     "name": "stdout",
     "output_type": "stream",
     "text": [
      "downloading frozen model to /Users/huseinzolkepli/Malaya/entity/bert/model.pb\n"
     ]
    },
    {
     "name": "stderr",
     "output_type": "stream",
     "text": [
      "DEBUG:urllib3.connectionpool:https://f000.backblazeb2.com:443 \"GET /file/malaya-model/entity/bert/model.pb HTTP/1.1\" 200 447113532\n",
      "427MB [01:00, 7.09MB/s]                          \n",
      "DEBUG:urllib3.connectionpool:Starting new HTTPS connection (1): f000.backblazeb2.com:443\n"
     ]
    },
    {
     "name": "stdout",
     "output_type": "stream",
     "text": [
      "downloading frozen vocab to /Users/huseinzolkepli/Malaya/entity/bert/sp10m.cased.bert.vocab\n"
     ]
    },
    {
     "name": "stderr",
     "output_type": "stream",
     "text": [
      "DEBUG:urllib3.connectionpool:https://f000.backblazeb2.com:443 \"GET /file/malaya-model/bpe/sp10m.cased.bert.vocab HTTP/1.1\" 200 568997\n",
      "184%|██████████| 1.00/0.54 [00:01<00:00, 1.14s/MB]\n",
      "DEBUG:urllib3.connectionpool:Starting new HTTPS connection (1): f000.backblazeb2.com:443\n"
     ]
    },
    {
     "name": "stdout",
     "output_type": "stream",
     "text": [
      "downloading frozen tokenizer to /Users/huseinzolkepli/Malaya/entity/bert/sp10m.cased.bert.model\n"
     ]
    },
    {
     "name": "stderr",
     "output_type": "stream",
     "text": [
      "DEBUG:urllib3.connectionpool:https://f000.backblazeb2.com:443 \"GET /file/malaya-model/bpe/sp10m.cased.bert.model HTTP/1.1\" 200 778744\n",
      "135%|██████████| 1.00/0.74 [00:01<00:00, 1.22s/MB]\n",
      "DEBUG:urllib3.connectionpool:Starting new HTTPS connection (1): f000.backblazeb2.com:443\n"
     ]
    },
    {
     "name": "stdout",
     "output_type": "stream",
     "text": [
      "downloading frozen setting to /Users/huseinzolkepli/Malaya/entity/bert/entities.json\n"
     ]
    },
    {
     "name": "stderr",
     "output_type": "stream",
     "text": [
      "DEBUG:urllib3.connectionpool:https://f000.backblazeb2.com:443 \"GET /file/malaya-model/setting/entities.json HTTP/1.1\" 200 917464\n",
      "114%|██████████| 1.00/0.87 [00:01<00:00, 1.21s/MB]\n",
      "INFO:root:running entity/bert using device /device:CPU:0\n",
      "DEBUG:root:['[CLS]', '▁KUALA', '▁LUMPUR', '▁:', '▁Sempena', '▁sambutan', '▁Aidilfitri', '▁minggu', '▁depan', '▁,', '▁Perdana', '▁Menteri', '▁Tun', '▁Dr', '▁Mahathir', '▁Mohamad', '▁dan', '▁Menteri', '▁Pengangkutan', '▁Anthony', '▁Loke', '▁Siew', '▁Fook', '▁menit', 'ip', 'kan', '▁pesanan', '▁khas', '▁kepada', '▁orang', '▁ramai', '▁yang', '▁mahu', '▁pulang', '▁ke', '▁kampung', '▁halaman', '▁masing', '-', 'masing', '▁', '.', '▁Dalam', '▁video', '▁pendek', '▁terbitan', '▁Jabatan', '▁Keselamatan', '▁Jalan', '▁Raya', '▁', '(', '▁', 'JK', 'JR', '▁', ')', '▁itu', '▁,', '▁Dr', '▁Mahathir', '▁menasihati', '▁mereka', '▁supaya', '▁berhenti', '▁berehat', '▁dan', '▁tidur', '▁sebentar', '▁sekiranya', '▁mengantuk', '▁ketika', '▁memandu', '▁', '.', '[SEP]']\n",
      "DEBUG:root:['[CLS]', '▁memperkenalkan', '▁Hu', 'se', 'in', '▁,', '▁dia', '▁sangat', '▁comel', '▁,', '▁berumur', '▁25', '▁tahun', '▁,', '▁bangsa', '▁melayu', '▁,', '▁agama', '▁islam', '▁,', '▁tinggal', '▁di', '▁cyberjaya', '▁malaysia', '▁,', '▁bercakap', '▁bahasa', '▁melayu', '▁,', '▁semua', '▁membaca', '▁buku', '▁undang', '-', 'undang', '▁kewangan', '▁,', '▁dengar', '▁laju', '▁Siti', '▁Nurhaliza', '▁', '-', '▁Seluruh', '▁Cinta', '▁sambil', '▁makan', '▁ayam', '▁goreng', '▁KFC', '[SEP]']\n",
      "DEBUG:root:['[CLS]', '▁KUALA', '▁LUMPUR', '▁:', '▁Sempena', '▁sambutan', '▁Aidilfitri', '▁minggu', '▁depan', '▁,', '▁Perdana', '▁Menteri', '▁Tun', '▁Dr', '▁Mahathir', '▁Mohamad', '▁dan', '▁Menteri', '▁Pengangkutan', '▁Anthony', '▁Loke', '▁Siew', '▁Fook', '▁menit', 'ip', 'kan', '▁pesanan', '▁khas', '▁kepada', '▁orang', '▁ramai', '▁yang', '▁mahu', '▁pulang', '▁ke', '▁kampung', '▁halaman', '▁masing', '-', 'masing', '▁', '.', '▁Dalam', '▁video', '▁pendek', '▁terbitan', '▁Jabatan', '▁Keselamatan', '▁Jalan', '▁Raya', '▁', '(', '▁', 'JK', 'JR', '▁', ')', '▁itu', '▁,', '▁Dr', '▁Mahathir', '▁menasihati', '▁mereka', '▁supaya', '▁berhenti', '▁berehat', '▁dan', '▁tidur', '▁sebentar', '▁sekiranya', '▁mengantuk', '▁ketika', '▁memandu', '▁', '.', '[SEP]']\n"
     ]
    },
    {
     "name": "stdout",
     "output_type": "stream",
     "text": [
      "[('KUALA', 'location'), ('LUMPUR', 'location'), (':', 'OTHER'), ('Sempena', 'OTHER'), ('sambutan', 'OTHER'), ('Aidilfitri', 'event'), ('minggu', 'time'), ('depan', 'time'), (',', 'OTHER'), ('Perdana', 'person'), ('Menteri', 'person'), ('Tun', 'person'), ('Dr', 'person'), ('Mahathir', 'person'), ('Mohamad', 'person'), ('dan', 'OTHER'), ('Menteri', 'organization'), ('Pengangkutan', 'organization'), ('Anthony', 'person'), ('Loke', 'person'), ('Siew', 'person'), ('Fook', 'person'), ('menitipkan', 'OTHER'), ('pesanan', 'OTHER'), ('khas', 'OTHER'), ('kepada', 'OTHER'), ('orang', 'OTHER'), ('ramai', 'OTHER'), ('yang', 'OTHER'), ('mahu', 'OTHER'), ('pulang', 'OTHER'), ('ke', 'OTHER'), ('kampung', 'OTHER'), ('halaman', 'OTHER'), ('masing-masing', 'OTHER'), ('.', 'OTHER'), ('Dalam', 'OTHER'), ('video', 'OTHER'), ('pendek', 'OTHER'), ('terbitan', 'OTHER'), ('Jabatan', 'organization'), ('Keselamatan', 'organization'), ('Jalan', 'organization'), ('Raya', 'organization'), ('(', 'organization'), ('JKJR', 'organization'), (')', 'organization'), ('itu', 'OTHER'), (',', 'OTHER'), ('Dr', 'person'), ('Mahathir', 'person'), ('menasihati', 'OTHER'), ('mereka', 'OTHER'), ('supaya', 'OTHER'), ('berhenti', 'OTHER'), ('berehat', 'OTHER'), ('dan', 'OTHER'), ('tidur', 'OTHER'), ('sebentar', 'OTHER'), ('sekiranya', 'OTHER'), ('mengantuk', 'OTHER'), ('ketika', 'OTHER'), ('memandu', 'OTHER'), ('.', 'OTHER')]\n",
      "[('memperkenalkan', 'OTHER'), ('Husein', 'person'), (',', 'OTHER'), ('dia', 'OTHER'), ('sangat', 'OTHER'), ('comel', 'OTHER'), (',', 'OTHER'), ('berumur', 'OTHER'), ('25', 'time'), ('tahun', 'time'), (',', 'OTHER'), ('bangsa', 'OTHER'), ('melayu', 'person'), (',', 'OTHER'), ('agama', 'OTHER'), ('islam', 'person'), (',', 'OTHER'), ('tinggal', 'OTHER'), ('di', 'OTHER'), ('cyberjaya', 'location'), ('malaysia', 'location'), (',', 'OTHER'), ('bercakap', 'OTHER'), ('bahasa', 'OTHER'), ('melayu', 'person'), (',', 'OTHER'), ('semua', 'OTHER'), ('membaca', 'OTHER'), ('buku', 'OTHER'), ('undang-undang', 'OTHER'), ('kewangan', 'OTHER'), (',', 'OTHER'), ('dengar', 'OTHER'), ('laju', 'OTHER'), ('Siti', 'person'), ('Nurhaliza', 'person'), ('-', 'OTHER'), ('Seluruh', 'OTHER'), ('Cinta', 'OTHER'), ('sambil', 'OTHER'), ('makan', 'OTHER'), ('ayam', 'OTHER'), ('goreng', 'OTHER'), ('KFC', 'location')]\n",
      "[{'text': ['KUALA', 'LUMPUR'], 'type': 'location', 'score': 1.0, 'beginOffset': 0, 'endOffset': 2}, {'text': [':', 'Sempena', 'sambutan'], 'type': 'OTHER', 'score': 1.0, 'beginOffset': 2, 'endOffset': 5}, {'text': ['Aidilfitri'], 'type': 'event', 'score': 1.0, 'beginOffset': 5, 'endOffset': 6}, {'text': ['minggu', 'depan'], 'type': 'time', 'score': 1.0, 'beginOffset': 6, 'endOffset': 8}, {'text': [','], 'type': 'OTHER', 'score': 1.0, 'beginOffset': 8, 'endOffset': 9}, {'text': ['Perdana', 'Menteri', 'Tun', 'Dr', 'Mahathir', 'Mohamad'], 'type': 'person', 'score': 1.0, 'beginOffset': 9, 'endOffset': 15}, {'text': ['dan'], 'type': 'OTHER', 'score': 1.0, 'beginOffset': 15, 'endOffset': 16}, {'text': ['Menteri', 'Pengangkutan', 'Anthony', 'Loke', 'Siew', 'Fook'], 'type': 'person', 'score': 1.0, 'beginOffset': 16, 'endOffset': 22}, {'text': ['menitipkan', 'pesanan', 'khas', 'kepada', 'orang', 'ramai', 'yang', 'mahu', 'pulang', 'ke', 'kampung'], 'type': 'OTHER', 'score': 1.0, 'beginOffset': 22, 'endOffset': 33}, {'text': ['halaman'], 'type': 'location', 'score': 1.0, 'beginOffset': 33, 'endOffset': 34}, {'text': ['masing-masing', '.', 'Dalam', 'video', 'pendek', 'terbitan'], 'type': 'OTHER', 'score': 1.0, 'beginOffset': 34, 'endOffset': 40}, {'text': ['Jabatan', 'Keselamatan', 'Jalan', 'Raya', '(', 'JKJR', ')'], 'type': 'organization', 'score': 1.0, 'beginOffset': 40, 'endOffset': 47}, {'text': ['itu', ','], 'type': 'OTHER', 'score': 1.0, 'beginOffset': 47, 'endOffset': 49}, {'text': ['Dr', 'Mahathir'], 'type': 'person', 'score': 1.0, 'beginOffset': 49, 'endOffset': 51}, {'text': ['menasihati', 'mereka', 'supaya', 'berhenti', 'berehat', 'dan', 'tidur', 'sebentar', 'sekiranya', 'mengantuk', 'ketika', 'memandu', '.'], 'type': 'OTHER', 'score': 1.0, 'beginOffset': 51, 'endOffset': 64}]\n"
     ]
    },
    {
     "name": "stderr",
     "output_type": "stream",
     "text": [
      "DEBUG:urllib3.connectionpool:Starting new HTTPS connection (1): f000.backblazeb2.com:443\n"
     ]
    },
    {
     "name": "stdout",
     "output_type": "stream",
     "text": [
      "tiny-bert\n"
     ]
    },
    {
     "name": "stderr",
     "output_type": "stream",
     "text": [
      "DEBUG:urllib3.connectionpool:https://f000.backblazeb2.com:443 \"HEAD /file/malaya-model/entity/tiny-bert/model.pb HTTP/1.1\" 200 0\n",
      "DEBUG:urllib3.connectionpool:Starting new HTTPS connection (1): f000.backblazeb2.com:443\n",
      "DEBUG:urllib3.connectionpool:https://f000.backblazeb2.com:443 \"HEAD /file/malaya-model/bpe/sp10m.cased.bert.vocab HTTP/1.1\" 200 0\n",
      "DEBUG:urllib3.connectionpool:Starting new HTTPS connection (1): f000.backblazeb2.com:443\n",
      "DEBUG:urllib3.connectionpool:https://f000.backblazeb2.com:443 \"HEAD /file/malaya-model/bpe/sp10m.cased.bert.model HTTP/1.1\" 200 0\n",
      "DEBUG:urllib3.connectionpool:Starting new HTTPS connection (1): f000.backblazeb2.com:443\n",
      "DEBUG:urllib3.connectionpool:https://f000.backblazeb2.com:443 \"HEAD /file/malaya-model/setting/entities.json HTTP/1.1\" 200 0\n",
      "DEBUG:urllib3.connectionpool:Starting new HTTPS connection (1): f000.backblazeb2.com:443\n",
      "DEBUG:urllib3.connectionpool:https://f000.backblazeb2.com:443 \"HEAD /file/malaya-model/entity/tiny-bert/version HTTP/1.1\" 404 0\n",
      "DEBUG:urllib3.connectionpool:Starting new HTTPS connection (1): f000.backblazeb2.com:443\n"
     ]
    },
    {
     "name": "stdout",
     "output_type": "stream",
     "text": [
      "downloading frozen model to /Users/huseinzolkepli/Malaya/entity/tiny-bert/model.pb\n"
     ]
    },
    {
     "name": "stderr",
     "output_type": "stream",
     "text": [
      "DEBUG:urllib3.connectionpool:https://f000.backblazeb2.com:443 \"GET /file/malaya-model/entity/tiny-bert/model.pb HTTP/1.1\" 200 60515249\n",
      "100%|██████████| 58.0/57.7 [00:11<00:00, 5.24MB/s]\n",
      "DEBUG:urllib3.connectionpool:Starting new HTTPS connection (1): f000.backblazeb2.com:443\n"
     ]
    },
    {
     "name": "stdout",
     "output_type": "stream",
     "text": [
      "downloading frozen vocab to /Users/huseinzolkepli/Malaya/entity/tiny-bert/sp10m.cased.bert.vocab\n"
     ]
    },
    {
     "name": "stderr",
     "output_type": "stream",
     "text": [
      "DEBUG:urllib3.connectionpool:https://f000.backblazeb2.com:443 \"GET /file/malaya-model/bpe/sp10m.cased.bert.vocab HTTP/1.1\" 200 568997\n",
      "184%|██████████| 1.00/0.54 [00:01<00:00, 1.02s/MB]\n",
      "DEBUG:urllib3.connectionpool:Starting new HTTPS connection (1): f000.backblazeb2.com:443\n"
     ]
    },
    {
     "name": "stdout",
     "output_type": "stream",
     "text": [
      "downloading frozen tokenizer to /Users/huseinzolkepli/Malaya/entity/tiny-bert/sp10m.cased.bert.model\n"
     ]
    },
    {
     "name": "stderr",
     "output_type": "stream",
     "text": [
      "DEBUG:urllib3.connectionpool:https://f000.backblazeb2.com:443 \"GET /file/malaya-model/bpe/sp10m.cased.bert.model HTTP/1.1\" 200 778744\n",
      "135%|██████████| 1.00/0.74 [00:01<00:00, 1.17s/MB]\n",
      "DEBUG:urllib3.connectionpool:Starting new HTTPS connection (1): f000.backblazeb2.com:443\n"
     ]
    },
    {
     "name": "stdout",
     "output_type": "stream",
     "text": [
      "downloading frozen setting to /Users/huseinzolkepli/Malaya/entity/tiny-bert/entities.json\n"
     ]
    },
    {
     "name": "stderr",
     "output_type": "stream",
     "text": [
      "DEBUG:urllib3.connectionpool:https://f000.backblazeb2.com:443 \"GET /file/malaya-model/setting/entities.json HTTP/1.1\" 200 917464\n",
      "114%|██████████| 1.00/0.87 [00:01<00:00, 1.26s/MB]\n",
      "INFO:root:running entity/tiny-bert using device /device:CPU:0\n",
      "DEBUG:root:['[CLS]', '▁KUALA', '▁LUMPUR', '▁:', '▁Sempena', '▁sambutan', '▁Aidilfitri', '▁minggu', '▁depan', '▁,', '▁Perdana', '▁Menteri', '▁Tun', '▁Dr', '▁Mahathir', '▁Mohamad', '▁dan', '▁Menteri', '▁Pengangkutan', '▁Anthony', '▁Loke', '▁Siew', '▁Fook', '▁menit', 'ip', 'kan', '▁pesanan', '▁khas', '▁kepada', '▁orang', '▁ramai', '▁yang', '▁mahu', '▁pulang', '▁ke', '▁kampung', '▁halaman', '▁masing', '-', 'masing', '▁', '.', '▁Dalam', '▁video', '▁pendek', '▁terbitan', '▁Jabatan', '▁Keselamatan', '▁Jalan', '▁Raya', '▁', '(', '▁', 'JK', 'JR', '▁', ')', '▁itu', '▁,', '▁Dr', '▁Mahathir', '▁menasihati', '▁mereka', '▁supaya', '▁berhenti', '▁berehat', '▁dan', '▁tidur', '▁sebentar', '▁sekiranya', '▁mengantuk', '▁ketika', '▁memandu', '▁', '.', '[SEP]']\n",
      "DEBUG:root:['[CLS]', '▁memperkenalkan', '▁Hu', 'se', 'in', '▁,', '▁dia', '▁sangat', '▁comel', '▁,', '▁berumur', '▁25', '▁tahun', '▁,', '▁bangsa', '▁melayu', '▁,', '▁agama', '▁islam', '▁,', '▁tinggal', '▁di', '▁cyberjaya', '▁malaysia', '▁,', '▁bercakap', '▁bahasa', '▁melayu', '▁,', '▁semua', '▁membaca', '▁buku', '▁undang', '-', 'undang', '▁kewangan', '▁,', '▁dengar', '▁laju', '▁Siti', '▁Nurhaliza', '▁', '-', '▁Seluruh', '▁Cinta', '▁sambil', '▁makan', '▁ayam', '▁goreng', '▁KFC', '[SEP]']\n",
      "DEBUG:root:['[CLS]', '▁KUALA', '▁LUMPUR', '▁:', '▁Sempena', '▁sambutan', '▁Aidilfitri', '▁minggu', '▁depan', '▁,', '▁Perdana', '▁Menteri', '▁Tun', '▁Dr', '▁Mahathir', '▁Mohamad', '▁dan', '▁Menteri', '▁Pengangkutan', '▁Anthony', '▁Loke', '▁Siew', '▁Fook', '▁menit', 'ip', 'kan', '▁pesanan', '▁khas', '▁kepada', '▁orang', '▁ramai', '▁yang', '▁mahu', '▁pulang', '▁ke', '▁kampung', '▁halaman', '▁masing', '-', 'masing', '▁', '.', '▁Dalam', '▁video', '▁pendek', '▁terbitan', '▁Jabatan', '▁Keselamatan', '▁Jalan', '▁Raya', '▁', '(', '▁', 'JK', 'JR', '▁', ')', '▁itu', '▁,', '▁Dr', '▁Mahathir', '▁menasihati', '▁mereka', '▁supaya', '▁berhenti', '▁berehat', '▁dan', '▁tidur', '▁sebentar', '▁sekiranya', '▁mengantuk', '▁ketika', '▁memandu', '▁', '.', '[SEP]']\n",
      "DEBUG:urllib3.connectionpool:Starting new HTTPS connection (1): f000.backblazeb2.com:443\n"
     ]
    },
    {
     "name": "stdout",
     "output_type": "stream",
     "text": [
      "[('KUALA', 'location'), ('LUMPUR', 'location'), (':', 'OTHER'), ('Sempena', 'OTHER'), ('sambutan', 'OTHER'), ('Aidilfitri', 'event'), ('minggu', 'time'), ('depan', 'OTHER'), (',', 'OTHER'), ('Perdana', 'person'), ('Menteri', 'person'), ('Tun', 'person'), ('Dr', 'person'), ('Mahathir', 'person'), ('Mohamad', 'person'), ('dan', 'OTHER'), ('Menteri', 'person'), ('Pengangkutan', 'organization'), ('Anthony', 'person'), ('Loke', 'person'), ('Siew', 'person'), ('Fook', 'person'), ('menitipkan', 'OTHER'), ('pesanan', 'OTHER'), ('khas', 'OTHER'), ('kepada', 'OTHER'), ('orang', 'OTHER'), ('ramai', 'OTHER'), ('yang', 'OTHER'), ('mahu', 'OTHER'), ('pulang', 'OTHER'), ('ke', 'OTHER'), ('kampung', 'OTHER'), ('halaman', 'OTHER'), ('masing-masing', 'OTHER'), ('.', 'OTHER'), ('Dalam', 'OTHER'), ('video', 'OTHER'), ('pendek', 'OTHER'), ('terbitan', 'OTHER'), ('Jabatan', 'organization'), ('Keselamatan', 'organization'), ('Jalan', 'organization'), ('Raya', 'organization'), ('(', 'organization'), ('JKJR', 'organization'), (')', 'organization'), ('itu', 'OTHER'), (',', 'OTHER'), ('Dr', 'person'), ('Mahathir', 'person'), ('menasihati', 'OTHER'), ('mereka', 'OTHER'), ('supaya', 'OTHER'), ('berhenti', 'OTHER'), ('berehat', 'OTHER'), ('dan', 'OTHER'), ('tidur', 'OTHER'), ('sebentar', 'OTHER'), ('sekiranya', 'OTHER'), ('mengantuk', 'OTHER'), ('ketika', 'OTHER'), ('memandu', 'OTHER'), ('.', 'OTHER')]\n",
      "[('memperkenalkan', 'OTHER'), ('Husein', 'person'), (',', 'OTHER'), ('dia', 'OTHER'), ('sangat', 'OTHER'), ('comel', 'OTHER'), (',', 'OTHER'), ('berumur', 'time'), ('25', 'time'), ('tahun', 'OTHER'), (',', 'OTHER'), ('bangsa', 'time'), ('melayu', 'person'), (',', 'OTHER'), ('agama', 'person'), ('islam', 'organization'), (',', 'OTHER'), ('tinggal', 'OTHER'), ('di', 'OTHER'), ('cyberjaya', 'location'), ('malaysia', 'location'), (',', 'OTHER'), ('bercakap', 'OTHER'), ('bahasa', 'OTHER'), ('melayu', 'person'), (',', 'OTHER'), ('semua', 'OTHER'), ('membaca', 'OTHER'), ('buku', 'OTHER'), ('undang-undang', 'law'), ('kewangan', 'OTHER'), (',', 'OTHER'), ('dengar', 'OTHER'), ('laju', 'OTHER'), ('Siti', 'person'), ('Nurhaliza', 'person'), ('-', 'OTHER'), ('Seluruh', 'OTHER'), ('Cinta', 'OTHER'), ('sambil', 'OTHER'), ('makan', 'OTHER'), ('ayam', 'OTHER'), ('goreng', 'OTHER'), ('KFC', 'organization')]\n",
      "[{'text': ['KUALA', 'LUMPUR'], 'type': 'location', 'score': 1.0, 'beginOffset': 0, 'endOffset': 2}, {'text': [':', 'Sempena', 'sambutan'], 'type': 'OTHER', 'score': 1.0, 'beginOffset': 2, 'endOffset': 5}, {'text': ['Aidilfitri'], 'type': 'event', 'score': 1.0, 'beginOffset': 5, 'endOffset': 6}, {'text': ['minggu'], 'type': 'time', 'score': 1.0, 'beginOffset': 6, 'endOffset': 7}, {'text': ['depan', ','], 'type': 'OTHER', 'score': 1.0, 'beginOffset': 7, 'endOffset': 9}, {'text': ['Perdana', 'Menteri', 'Tun', 'Dr', 'Mahathir', 'Mohamad'], 'type': 'person', 'score': 1.0, 'beginOffset': 9, 'endOffset': 15}, {'text': ['dan'], 'type': 'OTHER', 'score': 1.0, 'beginOffset': 15, 'endOffset': 16}, {'text': ['Menteri'], 'type': 'organization', 'score': 1.0, 'beginOffset': 16, 'endOffset': 17}, {'text': ['Pengangkutan', 'Anthony', 'Loke', 'Siew', 'Fook'], 'type': 'person', 'score': 1.0, 'beginOffset': 17, 'endOffset': 22}, {'text': ['menitipkan', 'pesanan', 'khas', 'kepada', 'orang', 'ramai', 'yang', 'mahu', 'pulang', 'ke', 'kampung', 'halaman', 'masing-masing', '.', 'Dalam', 'video', 'pendek', 'terbitan'], 'type': 'OTHER', 'score': 1.0, 'beginOffset': 22, 'endOffset': 40}, {'text': ['Jabatan', 'Keselamatan', 'Jalan', 'Raya', '(', 'JKJR', ')'], 'type': 'organization', 'score': 1.0, 'beginOffset': 40, 'endOffset': 47}, {'text': ['itu', ','], 'type': 'OTHER', 'score': 1.0, 'beginOffset': 47, 'endOffset': 49}, {'text': ['Dr', 'Mahathir'], 'type': 'person', 'score': 1.0, 'beginOffset': 49, 'endOffset': 51}, {'text': ['menasihati', 'mereka', 'supaya', 'berhenti', 'berehat', 'dan', 'tidur', 'sebentar', 'sekiranya', 'mengantuk', 'ketika', 'memandu', '.'], 'type': 'OTHER', 'score': 1.0, 'beginOffset': 51, 'endOffset': 64}]\n",
      "albert\n"
     ]
    },
    {
     "name": "stderr",
     "output_type": "stream",
     "text": [
      "DEBUG:urllib3.connectionpool:https://f000.backblazeb2.com:443 \"HEAD /file/malaya-model/entity/albert/model.pb HTTP/1.1\" 200 0\n",
      "DEBUG:urllib3.connectionpool:Starting new HTTPS connection (1): f000.backblazeb2.com:443\n",
      "DEBUG:urllib3.connectionpool:https://f000.backblazeb2.com:443 \"HEAD /file/malaya-model/bpe/sp10m.cased.v10.vocab HTTP/1.1\" 200 0\n",
      "DEBUG:urllib3.connectionpool:Starting new HTTPS connection (1): f000.backblazeb2.com:443\n",
      "DEBUG:urllib3.connectionpool:https://f000.backblazeb2.com:443 \"HEAD /file/malaya-model/bpe/sp10m.cased.v10.model HTTP/1.1\" 200 0\n",
      "DEBUG:urllib3.connectionpool:Starting new HTTPS connection (1): f000.backblazeb2.com:443\n",
      "DEBUG:urllib3.connectionpool:https://f000.backblazeb2.com:443 \"HEAD /file/malaya-model/setting/entities.json HTTP/1.1\" 200 0\n",
      "DEBUG:urllib3.connectionpool:Starting new HTTPS connection (1): f000.backblazeb2.com:443\n",
      "DEBUG:urllib3.connectionpool:https://f000.backblazeb2.com:443 \"HEAD /file/malaya-model/entity/albert/version HTTP/1.1\" 404 0\n",
      "DEBUG:urllib3.connectionpool:Starting new HTTPS connection (1): f000.backblazeb2.com:443\n"
     ]
    },
    {
     "name": "stdout",
     "output_type": "stream",
     "text": [
      "downloading frozen model to /Users/huseinzolkepli/Malaya/entity/albert/model.pb\n"
     ]
    },
    {
     "name": "stderr",
     "output_type": "stream",
     "text": [
      "DEBUG:urllib3.connectionpool:https://f000.backblazeb2.com:443 \"GET /file/malaya-model/entity/albert/model.pb HTTP/1.1\" 200 51002608\n",
      "101%|██████████| 49.0/48.6 [00:11<00:00, 4.22MB/s]\n",
      "DEBUG:urllib3.connectionpool:Starting new HTTPS connection (1): f000.backblazeb2.com:443\n"
     ]
    },
    {
     "name": "stdout",
     "output_type": "stream",
     "text": [
      "downloading frozen vocab to /Users/huseinzolkepli/Malaya/entity/albert/sp10m.cased.v10.vocab\n"
     ]
    },
    {
     "name": "stderr",
     "output_type": "stream",
     "text": [
      "DEBUG:urllib3.connectionpool:https://f000.backblazeb2.com:443 \"GET /file/malaya-model/bpe/sp10m.cased.v10.vocab HTTP/1.1\" 200 569013\n",
      "184%|██████████| 1.00/0.54 [00:01<00:00, 1.15s/MB]\n",
      "DEBUG:urllib3.connectionpool:Starting new HTTPS connection (1): f000.backblazeb2.com:443\n"
     ]
    },
    {
     "name": "stdout",
     "output_type": "stream",
     "text": [
      "downloading frozen tokenizer to /Users/huseinzolkepli/Malaya/entity/albert/sp10m.cased.v10.model\n"
     ]
    },
    {
     "name": "stderr",
     "output_type": "stream",
     "text": [
      "DEBUG:urllib3.connectionpool:https://f000.backblazeb2.com:443 \"GET /file/malaya-model/bpe/sp10m.cased.v10.model HTTP/1.1\" 200 778641\n",
      "135%|██████████| 1.00/0.74 [00:01<00:00, 1.22s/MB]\n",
      "DEBUG:urllib3.connectionpool:Starting new HTTPS connection (1): f000.backblazeb2.com:443\n"
     ]
    },
    {
     "name": "stdout",
     "output_type": "stream",
     "text": [
      "downloading frozen setting to /Users/huseinzolkepli/Malaya/entity/albert/entities.json\n"
     ]
    },
    {
     "name": "stderr",
     "output_type": "stream",
     "text": [
      "DEBUG:urllib3.connectionpool:https://f000.backblazeb2.com:443 \"GET /file/malaya-model/setting/entities.json HTTP/1.1\" 200 917464\n",
      "114%|██████████| 1.00/0.87 [00:01<00:00, 1.20s/MB]\n",
      "INFO:root:running entity/albert using device /device:CPU:0\n",
      "DEBUG:root:['[CLS]', '▁KUALA', '▁LUMPUR', '▁:', '▁Sempena', '▁sambutan', '▁Aidilfitri', '▁minggu', '▁depan', '▁,', '▁Perdana', '▁Menteri', '▁Tun', '▁Dr', '▁Mahathir', '▁Mohamad', '▁dan', '▁Menteri', '▁Pengangkutan', '▁Anthony', '▁Loke', '▁Siew', '▁Fook', '▁menit', 'ip', 'kan', '▁pesanan', '▁khas', '▁kepada', '▁orang', '▁ramai', '▁yang', '▁mahu', '▁pulang', '▁ke', '▁kampung', '▁halaman', '▁masing', '-', 'masing', '▁', '.', '▁Dalam', '▁video', '▁pendek', '▁terbitan', '▁Jabatan', '▁Keselamatan', '▁Jalan', '▁Raya', '▁', '(', '▁', 'JK', 'JR', '▁', ')', '▁itu', '▁,', '▁Dr', '▁Mahathir', '▁menasihati', '▁mereka', '▁supaya', '▁berhenti', '▁berehat', '▁dan', '▁tidur', '▁sebentar', '▁sekiranya', '▁mengantuk', '▁ketika', '▁memandu', '▁', '.', '[SEP]']\n",
      "DEBUG:root:['[CLS]', '▁memperkenalkan', '▁Hu', 'se', 'in', '▁,', '▁dia', '▁sangat', '▁comel', '▁,', '▁berumur', '▁25', '▁tahun', '▁,', '▁bangsa', '▁melayu', '▁,', '▁agama', '▁islam', '▁,', '▁tinggal', '▁di', '▁cyberjaya', '▁malaysia', '▁,', '▁bercakap', '▁bahasa', '▁melayu', '▁,', '▁semua', '▁membaca', '▁buku', '▁undang', '-', 'undang', '▁kewangan', '▁,', '▁dengar', '▁laju', '▁Siti', '▁Nurhaliza', '▁', '-', '▁Seluruh', '▁Cinta', '▁sambil', '▁makan', '▁ayam', '▁goreng', '▁KFC', '[SEP]']\n",
      "DEBUG:root:['[CLS]', '▁KUALA', '▁LUMPUR', '▁:', '▁Sempena', '▁sambutan', '▁Aidilfitri', '▁minggu', '▁depan', '▁,', '▁Perdana', '▁Menteri', '▁Tun', '▁Dr', '▁Mahathir', '▁Mohamad', '▁dan', '▁Menteri', '▁Pengangkutan', '▁Anthony', '▁Loke', '▁Siew', '▁Fook', '▁menit', 'ip', 'kan', '▁pesanan', '▁khas', '▁kepada', '▁orang', '▁ramai', '▁yang', '▁mahu', '▁pulang', '▁ke', '▁kampung', '▁halaman', '▁masing', '-', 'masing', '▁', '.', '▁Dalam', '▁video', '▁pendek', '▁terbitan', '▁Jabatan', '▁Keselamatan', '▁Jalan', '▁Raya', '▁', '(', '▁', 'JK', 'JR', '▁', ')', '▁itu', '▁,', '▁Dr', '▁Mahathir', '▁menasihati', '▁mereka', '▁supaya', '▁berhenti', '▁berehat', '▁dan', '▁tidur', '▁sebentar', '▁sekiranya', '▁mengantuk', '▁ketika', '▁memandu', '▁', '.', '[SEP]']\n"
     ]
    },
    {
     "name": "stdout",
     "output_type": "stream",
     "text": [
      "[('KUALA', 'location'), ('LUMPUR', 'location'), (':', 'OTHER'), ('Sempena', 'OTHER'), ('sambutan', 'OTHER'), ('Aidilfitri', 'OTHER'), ('minggu', 'OTHER'), ('depan', 'OTHER'), (',', 'OTHER'), ('Perdana', 'person'), ('Menteri', 'person'), ('Tun', 'person'), ('Dr', 'person'), ('Mahathir', 'person'), ('Mohamad', 'person'), ('dan', 'OTHER'), ('Menteri', 'person'), ('Pengangkutan', 'person'), ('Anthony', 'person'), ('Loke', 'person'), ('Siew', 'person'), ('Fook', 'person'), ('menitipkan', 'OTHER'), ('pesanan', 'OTHER'), ('khas', 'OTHER'), ('kepada', 'OTHER'), ('orang', 'OTHER'), ('ramai', 'OTHER'), ('yang', 'OTHER'), ('mahu', 'OTHER'), ('pulang', 'OTHER'), ('ke', 'OTHER'), ('kampung', 'OTHER'), ('halaman', 'location'), ('masing-masing', 'OTHER'), ('.', 'OTHER'), ('Dalam', 'OTHER'), ('video', 'OTHER'), ('pendek', 'OTHER'), ('terbitan', 'OTHER'), ('Jabatan', 'organization'), ('Keselamatan', 'organization'), ('Jalan', 'organization'), ('Raya', 'organization'), ('(', 'organization'), ('JKJR', 'organization'), (')', 'organization'), ('itu', 'OTHER'), (',', 'OTHER'), ('Dr', 'person'), ('Mahathir', 'person'), ('menasihati', 'OTHER'), ('mereka', 'OTHER'), ('supaya', 'OTHER'), ('berhenti', 'OTHER'), ('berehat', 'OTHER'), ('dan', 'OTHER'), ('tidur', 'OTHER'), ('sebentar', 'OTHER'), ('sekiranya', 'OTHER'), ('mengantuk', 'OTHER'), ('ketika', 'OTHER'), ('memandu', 'OTHER'), ('.', 'OTHER')]\n",
      "[('memperkenalkan', 'OTHER'), ('Husein', 'person'), (',', 'OTHER'), ('dia', 'OTHER'), ('sangat', 'OTHER'), ('comel', 'OTHER'), (',', 'OTHER'), ('berumur', 'OTHER'), ('25', 'OTHER'), ('tahun', 'OTHER'), (',', 'OTHER'), ('bangsa', 'OTHER'), ('melayu', 'OTHER'), (',', 'OTHER'), ('agama', 'OTHER'), ('islam', 'person'), (',', 'OTHER'), ('tinggal', 'OTHER'), ('di', 'OTHER'), ('cyberjaya', 'location'), ('malaysia', 'location'), (',', 'OTHER'), ('bercakap', 'OTHER'), ('bahasa', 'OTHER'), ('melayu', 'OTHER'), (',', 'OTHER'), ('semua', 'OTHER'), ('membaca', 'OTHER'), ('buku', 'OTHER'), ('undang-undang', 'law'), ('kewangan', 'law'), (',', 'OTHER'), ('dengar', 'OTHER'), ('laju', 'OTHER'), ('Siti', 'person'), ('Nurhaliza', 'person'), ('-', 'OTHER'), ('Seluruh', 'OTHER'), ('Cinta', 'OTHER'), ('sambil', 'OTHER'), ('makan', 'OTHER'), ('ayam', 'OTHER'), ('goreng', 'OTHER'), ('KFC', 'location')]\n",
      "[{'text': ['KUALA', 'LUMPUR'], 'type': 'location', 'score': 1.0, 'beginOffset': 0, 'endOffset': 2}, {'text': [':', 'Sempena', 'sambutan', 'Aidilfitri', 'minggu', 'depan', ','], 'type': 'OTHER', 'score': 1.0, 'beginOffset': 2, 'endOffset': 9}, {'text': ['Perdana', 'Menteri', 'Tun', 'Dr', 'Mahathir', 'Mohamad'], 'type': 'person', 'score': 1.0, 'beginOffset': 9, 'endOffset': 15}, {'text': ['dan'], 'type': 'OTHER', 'score': 1.0, 'beginOffset': 15, 'endOffset': 16}, {'text': ['Menteri', 'Pengangkutan', 'Anthony', 'Loke', 'Siew', 'Fook'], 'type': 'person', 'score': 1.0, 'beginOffset': 16, 'endOffset': 22}, {'text': ['menitipkan', 'pesanan', 'khas', 'kepada', 'orang', 'ramai', 'yang', 'mahu', 'pulang', 'ke', 'kampung'], 'type': 'OTHER', 'score': 1.0, 'beginOffset': 22, 'endOffset': 33}, {'text': ['halaman'], 'type': 'location', 'score': 1.0, 'beginOffset': 33, 'endOffset': 34}, {'text': ['masing-masing', '.', 'Dalam', 'video', 'pendek', 'terbitan'], 'type': 'OTHER', 'score': 1.0, 'beginOffset': 34, 'endOffset': 40}, {'text': ['Jabatan', 'Keselamatan', 'Jalan', 'Raya', '(', 'JKJR', ')'], 'type': 'organization', 'score': 1.0, 'beginOffset': 40, 'endOffset': 47}, {'text': ['itu', ','], 'type': 'OTHER', 'score': 1.0, 'beginOffset': 47, 'endOffset': 49}, {'text': ['Dr', 'Mahathir'], 'type': 'person', 'score': 1.0, 'beginOffset': 49, 'endOffset': 51}, {'text': ['menasihati', 'mereka', 'supaya', 'berhenti', 'berehat', 'dan', 'tidur', 'sebentar', 'sekiranya', 'mengantuk', 'ketika', 'memandu', '.'], 'type': 'OTHER', 'score': 1.0, 'beginOffset': 51, 'endOffset': 64}]\n"
     ]
    },
    {
     "name": "stderr",
     "output_type": "stream",
     "text": [
      "DEBUG:urllib3.connectionpool:Starting new HTTPS connection (1): f000.backblazeb2.com:443\n"
     ]
    },
    {
     "name": "stdout",
     "output_type": "stream",
     "text": [
      "tiny-albert\n"
     ]
    },
    {
     "name": "stderr",
     "output_type": "stream",
     "text": [
      "DEBUG:urllib3.connectionpool:https://f000.backblazeb2.com:443 \"HEAD /file/malaya-model/entity/tiny-albert/model.pb HTTP/1.1\" 200 0\n",
      "DEBUG:urllib3.connectionpool:Starting new HTTPS connection (1): f000.backblazeb2.com:443\n",
      "DEBUG:urllib3.connectionpool:https://f000.backblazeb2.com:443 \"HEAD /file/malaya-model/bpe/sp10m.cased.v10.vocab HTTP/1.1\" 200 0\n",
      "DEBUG:urllib3.connectionpool:Starting new HTTPS connection (1): f000.backblazeb2.com:443\n",
      "DEBUG:urllib3.connectionpool:https://f000.backblazeb2.com:443 \"HEAD /file/malaya-model/bpe/sp10m.cased.v10.model HTTP/1.1\" 200 0\n",
      "DEBUG:urllib3.connectionpool:Starting new HTTPS connection (1): f000.backblazeb2.com:443\n",
      "DEBUG:urllib3.connectionpool:https://f000.backblazeb2.com:443 \"HEAD /file/malaya-model/setting/entities.json HTTP/1.1\" 200 0\n",
      "DEBUG:urllib3.connectionpool:Starting new HTTPS connection (1): f000.backblazeb2.com:443\n",
      "DEBUG:urllib3.connectionpool:https://f000.backblazeb2.com:443 \"HEAD /file/malaya-model/entity/tiny-albert/version HTTP/1.1\" 404 0\n",
      "DEBUG:urllib3.connectionpool:Starting new HTTPS connection (1): f000.backblazeb2.com:443\n"
     ]
    },
    {
     "name": "stdout",
     "output_type": "stream",
     "text": [
      "downloading frozen model to /Users/huseinzolkepli/Malaya/entity/tiny-albert/model.pb\n"
     ]
    },
    {
     "name": "stderr",
     "output_type": "stream",
     "text": [
      "DEBUG:urllib3.connectionpool:https://f000.backblazeb2.com:443 \"GET /file/malaya-model/entity/tiny-albert/model.pb HTTP/1.1\" 200 23503601\n",
      "23.0MB [00:05, 4.49MB/s]                          \n",
      "DEBUG:urllib3.connectionpool:Starting new HTTPS connection (1): f000.backblazeb2.com:443\n"
     ]
    },
    {
     "name": "stdout",
     "output_type": "stream",
     "text": [
      "downloading frozen vocab to /Users/huseinzolkepli/Malaya/entity/tiny-albert/sp10m.cased.v10.vocab\n"
     ]
    },
    {
     "name": "stderr",
     "output_type": "stream",
     "text": [
      "DEBUG:urllib3.connectionpool:https://f000.backblazeb2.com:443 \"GET /file/malaya-model/bpe/sp10m.cased.v10.vocab HTTP/1.1\" 200 569013\n",
      "184%|██████████| 1.00/0.54 [00:00<00:00, 1.02MB/s]\n",
      "DEBUG:urllib3.connectionpool:Starting new HTTPS connection (1): f000.backblazeb2.com:443\n"
     ]
    },
    {
     "name": "stdout",
     "output_type": "stream",
     "text": [
      "downloading frozen tokenizer to /Users/huseinzolkepli/Malaya/entity/tiny-albert/sp10m.cased.v10.model\n"
     ]
    },
    {
     "name": "stderr",
     "output_type": "stream",
     "text": [
      "DEBUG:urllib3.connectionpool:https://f000.backblazeb2.com:443 \"GET /file/malaya-model/bpe/sp10m.cased.v10.model HTTP/1.1\" 200 778641\n",
      "135%|██████████| 1.00/0.74 [00:01<00:00, 1.16s/MB]\n",
      "DEBUG:urllib3.connectionpool:Starting new HTTPS connection (1): f000.backblazeb2.com:443\n"
     ]
    },
    {
     "name": "stdout",
     "output_type": "stream",
     "text": [
      "downloading frozen setting to /Users/huseinzolkepli/Malaya/entity/tiny-albert/entities.json\n"
     ]
    },
    {
     "name": "stderr",
     "output_type": "stream",
     "text": [
      "DEBUG:urllib3.connectionpool:https://f000.backblazeb2.com:443 \"GET /file/malaya-model/setting/entities.json HTTP/1.1\" 200 917464\n",
      "114%|██████████| 1.00/0.87 [00:01<00:00, 1.16s/MB]\n",
      "INFO:root:running entity/tiny-albert using device /device:CPU:0\n",
      "DEBUG:root:['[CLS]', '▁KUALA', '▁LUMPUR', '▁:', '▁Sempena', '▁sambutan', '▁Aidilfitri', '▁minggu', '▁depan', '▁,', '▁Perdana', '▁Menteri', '▁Tun', '▁Dr', '▁Mahathir', '▁Mohamad', '▁dan', '▁Menteri', '▁Pengangkutan', '▁Anthony', '▁Loke', '▁Siew', '▁Fook', '▁menit', 'ip', 'kan', '▁pesanan', '▁khas', '▁kepada', '▁orang', '▁ramai', '▁yang', '▁mahu', '▁pulang', '▁ke', '▁kampung', '▁halaman', '▁masing', '-', 'masing', '▁', '.', '▁Dalam', '▁video', '▁pendek', '▁terbitan', '▁Jabatan', '▁Keselamatan', '▁Jalan', '▁Raya', '▁', '(', '▁', 'JK', 'JR', '▁', ')', '▁itu', '▁,', '▁Dr', '▁Mahathir', '▁menasihati', '▁mereka', '▁supaya', '▁berhenti', '▁berehat', '▁dan', '▁tidur', '▁sebentar', '▁sekiranya', '▁mengantuk', '▁ketika', '▁memandu', '▁', '.', '[SEP]']\n",
      "DEBUG:root:['[CLS]', '▁memperkenalkan', '▁Hu', 'se', 'in', '▁,', '▁dia', '▁sangat', '▁comel', '▁,', '▁berumur', '▁25', '▁tahun', '▁,', '▁bangsa', '▁melayu', '▁,', '▁agama', '▁islam', '▁,', '▁tinggal', '▁di', '▁cyberjaya', '▁malaysia', '▁,', '▁bercakap', '▁bahasa', '▁melayu', '▁,', '▁semua', '▁membaca', '▁buku', '▁undang', '-', 'undang', '▁kewangan', '▁,', '▁dengar', '▁laju', '▁Siti', '▁Nurhaliza', '▁', '-', '▁Seluruh', '▁Cinta', '▁sambil', '▁makan', '▁ayam', '▁goreng', '▁KFC', '[SEP]']\n",
      "DEBUG:root:['[CLS]', '▁KUALA', '▁LUMPUR', '▁:', '▁Sempena', '▁sambutan', '▁Aidilfitri', '▁minggu', '▁depan', '▁,', '▁Perdana', '▁Menteri', '▁Tun', '▁Dr', '▁Mahathir', '▁Mohamad', '▁dan', '▁Menteri', '▁Pengangkutan', '▁Anthony', '▁Loke', '▁Siew', '▁Fook', '▁menit', 'ip', 'kan', '▁pesanan', '▁khas', '▁kepada', '▁orang', '▁ramai', '▁yang', '▁mahu', '▁pulang', '▁ke', '▁kampung', '▁halaman', '▁masing', '-', 'masing', '▁', '.', '▁Dalam', '▁video', '▁pendek', '▁terbitan', '▁Jabatan', '▁Keselamatan', '▁Jalan', '▁Raya', '▁', '(', '▁', 'JK', 'JR', '▁', ')', '▁itu', '▁,', '▁Dr', '▁Mahathir', '▁menasihati', '▁mereka', '▁supaya', '▁berhenti', '▁berehat', '▁dan', '▁tidur', '▁sebentar', '▁sekiranya', '▁mengantuk', '▁ketika', '▁memandu', '▁', '.', '[SEP]']\n",
      "DEBUG:urllib3.connectionpool:Starting new HTTPS connection (1): f000.backblazeb2.com:443\n"
     ]
    },
    {
     "name": "stdout",
     "output_type": "stream",
     "text": [
      "[('KUALA', 'location'), ('LUMPUR', 'location'), (':', 'X'), ('Sempena', 'OTHER'), ('sambutan', 'OTHER'), ('Aidilfitri', 'event'), ('minggu', 'time'), ('depan', 'time'), (',', 'OTHER'), ('Perdana', 'person'), ('Menteri', 'person'), ('Tun', 'person'), ('Dr', 'person'), ('Mahathir', 'person'), ('Mohamad', 'person'), ('dan', 'OTHER'), ('Menteri', 'organization'), ('Pengangkutan', 'organization'), ('Anthony', 'person'), ('Loke', 'person'), ('Siew', 'person'), ('Fook', 'person'), ('menitipkan', 'OTHER'), ('pesanan', 'OTHER'), ('khas', 'OTHER'), ('kepada', 'OTHER'), ('orang', 'OTHER'), ('ramai', 'OTHER'), ('yang', 'OTHER'), ('mahu', 'OTHER'), ('pulang', 'OTHER'), ('ke', 'OTHER'), ('kampung', 'OTHER'), ('halaman', 'OTHER'), ('masing-masing', 'OTHER'), ('.', 'OTHER'), ('Dalam', 'OTHER'), ('video', 'OTHER'), ('pendek', 'OTHER'), ('terbitan', 'OTHER'), ('Jabatan', 'organization'), ('Keselamatan', 'organization'), ('Jalan', 'organization'), ('Raya', 'organization'), ('(', 'organization'), ('JKJR', 'organization'), (')', 'organization'), ('itu', 'OTHER'), (',', 'OTHER'), ('Dr', 'person'), ('Mahathir', 'person'), ('menasihati', 'OTHER'), ('mereka', 'OTHER'), ('supaya', 'OTHER'), ('berhenti', 'OTHER'), ('berehat', 'OTHER'), ('dan', 'OTHER'), ('tidur', 'OTHER'), ('sebentar', 'OTHER'), ('sekiranya', 'OTHER'), ('mengantuk', 'OTHER'), ('ketika', 'OTHER'), ('memandu', 'OTHER'), ('.', 'OTHER')]\n",
      "[('memperkenalkan', 'OTHER'), ('Husein', 'person'), (',', 'OTHER'), ('dia', 'OTHER'), ('sangat', 'OTHER'), ('comel', 'OTHER'), (',', 'OTHER'), ('berumur', 'OTHER'), ('25', 'time'), ('tahun', 'time'), (',', 'OTHER'), ('bangsa', 'OTHER'), ('melayu', 'OTHER'), (',', 'OTHER'), ('agama', 'OTHER'), ('islam', 'OTHER'), (',', 'OTHER'), ('tinggal', 'OTHER'), ('di', 'OTHER'), ('cyberjaya', 'location'), ('malaysia', 'location'), (',', 'OTHER'), ('bercakap', 'OTHER'), ('bahasa', 'OTHER'), ('melayu', 'person'), (',', 'OTHER'), ('semua', 'OTHER'), ('membaca', 'OTHER'), ('buku', 'OTHER'), ('undang-undang', 'OTHER'), ('kewangan', 'OTHER'), (',', 'OTHER'), ('dengar', 'OTHER'), ('laju', 'OTHER'), ('Siti', 'person'), ('Nurhaliza', 'person'), ('-', 'OTHER'), ('Seluruh', 'OTHER'), ('Cinta', 'organization'), ('sambil', 'OTHER'), ('makan', 'OTHER'), ('ayam', 'person'), ('goreng', 'person'), ('KFC', 'person')]\n",
      "[{'text': ['KUALA', 'LUMPUR'], 'type': 'location', 'score': 1.0, 'beginOffset': 0, 'endOffset': 2}, {'text': [':'], 'type': 'X', 'score': 1.0, 'beginOffset': 2, 'endOffset': 3}, {'text': ['Sempena', 'sambutan'], 'type': 'OTHER', 'score': 1.0, 'beginOffset': 3, 'endOffset': 5}, {'text': ['Aidilfitri'], 'type': 'event', 'score': 1.0, 'beginOffset': 5, 'endOffset': 6}, {'text': ['minggu', 'depan'], 'type': 'time', 'score': 1.0, 'beginOffset': 6, 'endOffset': 8}, {'text': [','], 'type': 'OTHER', 'score': 1.0, 'beginOffset': 8, 'endOffset': 9}, {'text': ['Perdana', 'Menteri', 'Tun', 'Dr', 'Mahathir', 'Mohamad'], 'type': 'person', 'score': 1.0, 'beginOffset': 9, 'endOffset': 15}, {'text': ['dan'], 'type': 'OTHER', 'score': 1.0, 'beginOffset': 15, 'endOffset': 16}, {'text': ['Menteri', 'Pengangkutan'], 'type': 'organization', 'score': 1.0, 'beginOffset': 16, 'endOffset': 18}, {'text': ['Anthony', 'Loke', 'Siew', 'Fook'], 'type': 'person', 'score': 1.0, 'beginOffset': 18, 'endOffset': 22}, {'text': ['menitipkan', 'pesanan', 'khas', 'kepada', 'orang', 'ramai', 'yang', 'mahu', 'pulang', 'ke', 'kampung', 'halaman', 'masing-masing', '.', 'Dalam', 'video', 'pendek', 'terbitan'], 'type': 'OTHER', 'score': 1.0, 'beginOffset': 22, 'endOffset': 40}, {'text': ['Jabatan', 'Keselamatan', 'Jalan', 'Raya', '(', 'JKJR', ')'], 'type': 'organization', 'score': 1.0, 'beginOffset': 40, 'endOffset': 47}, {'text': ['itu', ','], 'type': 'OTHER', 'score': 1.0, 'beginOffset': 47, 'endOffset': 49}, {'text': ['Dr', 'Mahathir'], 'type': 'person', 'score': 1.0, 'beginOffset': 49, 'endOffset': 51}, {'text': ['menasihati', 'mereka', 'supaya', 'berhenti', 'berehat', 'dan', 'tidur', 'sebentar', 'sekiranya', 'mengantuk', 'ketika', 'memandu', '.'], 'type': 'OTHER', 'score': 1.0, 'beginOffset': 51, 'endOffset': 64}]\n",
      "xlnet\n"
     ]
    },
    {
     "name": "stderr",
     "output_type": "stream",
     "text": [
      "DEBUG:urllib3.connectionpool:https://f000.backblazeb2.com:443 \"HEAD /file/malaya-model/entity/xlnet/model.pb HTTP/1.1\" 200 0\n",
      "DEBUG:urllib3.connectionpool:Starting new HTTPS connection (1): f000.backblazeb2.com:443\n",
      "DEBUG:urllib3.connectionpool:https://f000.backblazeb2.com:443 \"HEAD /file/malaya-model/bpe/sp10m.cased.v9.vocab HTTP/1.1\" 200 0\n",
      "DEBUG:urllib3.connectionpool:Starting new HTTPS connection (1): f000.backblazeb2.com:443\n",
      "DEBUG:urllib3.connectionpool:https://f000.backblazeb2.com:443 \"HEAD /file/malaya-model/bpe/sp10m.cased.v9.model HTTP/1.1\" 200 0\n",
      "DEBUG:urllib3.connectionpool:Starting new HTTPS connection (1): f000.backblazeb2.com:443\n",
      "DEBUG:urllib3.connectionpool:https://f000.backblazeb2.com:443 \"HEAD /file/malaya-model/setting/entities.json HTTP/1.1\" 200 0\n",
      "DEBUG:urllib3.connectionpool:Starting new HTTPS connection (1): f000.backblazeb2.com:443\n",
      "DEBUG:urllib3.connectionpool:https://f000.backblazeb2.com:443 \"HEAD /file/malaya-model/entity/xlnet/version HTTP/1.1\" 404 0\n",
      "DEBUG:urllib3.connectionpool:Starting new HTTPS connection (1): f000.backblazeb2.com:443\n"
     ]
    },
    {
     "name": "stdout",
     "output_type": "stream",
     "text": [
      "downloading frozen model to /Users/huseinzolkepli/Malaya/entity/xlnet/model.pb\n"
     ]
    },
    {
     "name": "stderr",
     "output_type": "stream",
     "text": [
      "DEBUG:urllib3.connectionpool:https://f000.backblazeb2.com:443 \"GET /file/malaya-model/entity/xlnet/model.pb HTTP/1.1\" 200 468245709\n",
      "100%|██████████| 447/447 [00:59<00:00, 7.53MB/s] \n",
      "DEBUG:urllib3.connectionpool:Starting new HTTPS connection (1): f000.backblazeb2.com:443\n"
     ]
    },
    {
     "name": "stdout",
     "output_type": "stream",
     "text": [
      "downloading frozen vocab to /Users/huseinzolkepli/Malaya/entity/xlnet/sp10m.cased.v9.vocab\n"
     ]
    },
    {
     "name": "stderr",
     "output_type": "stream",
     "text": [
      "DEBUG:urllib3.connectionpool:https://f000.backblazeb2.com:443 \"GET /file/malaya-model/bpe/sp10m.cased.v9.vocab HTTP/1.1\" 200 568997\n",
      "184%|██████████| 1.00/0.54 [00:01<00:00, 1.04s/MB]\n",
      "DEBUG:urllib3.connectionpool:Starting new HTTPS connection (1): f000.backblazeb2.com:443\n"
     ]
    },
    {
     "name": "stdout",
     "output_type": "stream",
     "text": [
      "downloading frozen tokenizer to /Users/huseinzolkepli/Malaya/entity/xlnet/sp10m.cased.v9.model\n"
     ]
    },
    {
     "name": "stderr",
     "output_type": "stream",
     "text": [
      "DEBUG:urllib3.connectionpool:https://f000.backblazeb2.com:443 \"GET /file/malaya-model/bpe/sp10m.cased.v9.model HTTP/1.1\" 200 778744\n",
      "135%|██████████| 1.00/0.74 [00:01<00:00, 1.50s/MB]\n",
      "DEBUG:urllib3.connectionpool:Starting new HTTPS connection (1): f000.backblazeb2.com:443\n"
     ]
    },
    {
     "name": "stdout",
     "output_type": "stream",
     "text": [
      "downloading frozen setting to /Users/huseinzolkepli/Malaya/entity/xlnet/entities.json\n"
     ]
    },
    {
     "name": "stderr",
     "output_type": "stream",
     "text": [
      "DEBUG:urllib3.connectionpool:https://f000.backblazeb2.com:443 \"GET /file/malaya-model/setting/entities.json HTTP/1.1\" 200 917464\n",
      "114%|██████████| 1.00/0.87 [00:01<00:00, 1.20s/MB]\n",
      "INFO:root:running entity/xlnet using device /device:CPU:0\n",
      "DEBUG:root:['▁KUALA', '▁LUMPUR', '▁:', '▁Sempena', '▁sambutan', '▁Aidilfitri', '▁minggu', '▁depan', '▁,', '▁Perdana', '▁Menteri', '▁Tun', '▁Dr', '▁Mahathir', '▁Mohamad', '▁dan', '▁Menteri', '▁Pengangkutan', '▁Anthony', '▁Loke', '▁Siew', '▁Fook', '▁menit', 'ip', 'kan', '▁pesanan', '▁khas', '▁kepada', '▁orang', '▁ramai', '▁yang', '▁mahu', '▁pulang', '▁ke', '▁kampung', '▁halaman', '▁masing', '-', 'masing', '▁', '.', '▁Dalam', '▁video', '▁pendek', '▁terbitan', '▁Jabatan', '▁Keselamatan', '▁Jalan', '▁Raya', '▁', '(', '▁', 'JK', 'JR', '▁', ')', '▁itu', '▁,', '▁Dr', '▁Mahathir', '▁menasihati', '▁mereka', '▁supaya', '▁berhenti', '▁berehat', '▁dan', '▁tidur', '▁sebentar', '▁sekiranya', '▁mengantuk', '▁ketika', '▁memandu', '▁', '.']\n",
      "DEBUG:root:[2208, 2516, 29, 13383, 4541, 3419, 758, 314, 20, 685, 247, 806, 383, 1096, 1515, 24, 247, 5605, 13893, 14089, 20774, 27736, 2340, 4700, 37, 4856, 1492, 72, 50, 396, 22, 943, 863, 32, 552, 5119, 1077, 13, 1384, 19, 9, 341, 596, 2449, 13974, 871, 5427, 708, 688, 19, 10, 19, 4710, 22348, 19, 11, 41, 20, 383, 1096, 21767, 88, 757, 1606, 15738, 24, 198, 4049, 2479, 7529, 271, 7644, 19, 9, 4, 3]\n",
      "DEBUG:root:['▁memperkenalkan', '▁Hu', 'se', 'in', '▁,', '▁dia', '▁sangat', '▁comel', '▁,', '▁berumur', '▁25', '▁tahun', '▁,', '▁bangsa', '▁melayu', '▁,', '▁agama', '▁islam', '▁,', '▁tinggal', '▁di', '▁cyberjaya', '▁malaysia', '▁,', '▁bercakap', '▁bahasa', '▁melayu', '▁,', '▁semua', '▁membaca', '▁buku', '▁undang', '-', 'undang', '▁kewangan', '▁,', '▁dengar', '▁laju', '▁Siti', '▁Nurhaliza', '▁', '-', '▁Seluruh', '▁Cinta', '▁sambil', '▁makan', '▁ayam', '▁goreng', '▁KFC']\n",
      "DEBUG:root:[4995, 2135, 372, 59, 20, 42, 150, 2698, 20, 4580, 1145, 73, 20, 1534, 1255, 20, 523, 2066, 20, 634, 23, 30431, 1836, 20, 3824, 645, 1255, 20, 86, 1524, 598, 1722, 13, 998, 1662, 20, 1147, 2620, 3123, 21002, 19, 13, 8671, 2760, 595, 131, 638, 952, 7621, 4, 3]\n",
      "DEBUG:root:['▁KUALA', '▁LUMPUR', '▁:', '▁Sempena', '▁sambutan', '▁Aidilfitri', '▁minggu', '▁depan', '▁,', '▁Perdana', '▁Menteri', '▁Tun', '▁Dr', '▁Mahathir', '▁Mohamad', '▁dan', '▁Menteri', '▁Pengangkutan', '▁Anthony', '▁Loke', '▁Siew', '▁Fook', '▁menit', 'ip', 'kan', '▁pesanan', '▁khas', '▁kepada', '▁orang', '▁ramai', '▁yang', '▁mahu', '▁pulang', '▁ke', '▁kampung', '▁halaman', '▁masing', '-', 'masing', '▁', '.', '▁Dalam', '▁video', '▁pendek', '▁terbitan', '▁Jabatan', '▁Keselamatan', '▁Jalan', '▁Raya', '▁', '(', '▁', 'JK', 'JR', '▁', ')', '▁itu', '▁,', '▁Dr', '▁Mahathir', '▁menasihati', '▁mereka', '▁supaya', '▁berhenti', '▁berehat', '▁dan', '▁tidur', '▁sebentar', '▁sekiranya', '▁mengantuk', '▁ketika', '▁memandu', '▁', '.']\n",
      "DEBUG:root:[2208, 2516, 29, 13383, 4541, 3419, 758, 314, 20, 685, 247, 806, 383, 1096, 1515, 24, 247, 5605, 13893, 14089, 20774, 27736, 2340, 4700, 37, 4856, 1492, 72, 50, 396, 22, 943, 863, 32, 552, 5119, 1077, 13, 1384, 19, 9, 341, 596, 2449, 13974, 871, 5427, 708, 688, 19, 10, 19, 4710, 22348, 19, 11, 41, 20, 383, 1096, 21767, 88, 757, 1606, 15738, 24, 198, 4049, 2479, 7529, 271, 7644, 19, 9, 4, 3]\n"
     ]
    },
    {
     "name": "stdout",
     "output_type": "stream",
     "text": [
      "[('KUALA', 'location'), ('LUMPUR', 'location'), (':', 'OTHER'), ('Sempena', 'OTHER'), ('sambutan', 'OTHER'), ('Aidilfitri', 'event'), ('minggu', 'OTHER'), ('depan', 'OTHER'), (',', 'OTHER'), ('Perdana', 'person'), ('Menteri', 'person'), ('Tun', 'person'), ('Dr', 'person'), ('Mahathir', 'person'), ('Mohamad', 'person'), ('dan', 'OTHER'), ('Menteri', 'organization'), ('Pengangkutan', 'organization'), ('Anthony', 'person'), ('Loke', 'person'), ('Siew', 'person'), ('Fook', 'person'), ('menitipkan', 'OTHER'), ('pesanan', 'OTHER'), ('khas', 'OTHER'), ('kepada', 'OTHER'), ('orang', 'OTHER'), ('ramai', 'OTHER'), ('yang', 'OTHER'), ('mahu', 'OTHER'), ('pulang', 'OTHER'), ('ke', 'OTHER'), ('kampung', 'OTHER'), ('halaman', 'OTHER'), ('masing-masing', 'OTHER'), ('.', 'OTHER'), ('Dalam', 'OTHER'), ('video', 'OTHER'), ('pendek', 'OTHER'), ('terbitan', 'OTHER'), ('Jabatan', 'organization'), ('Keselamatan', 'organization'), ('Jalan', 'organization'), ('Raya', 'organization'), ('(', 'organization'), ('JKJR', 'organization'), (')', 'organization'), ('itu', 'OTHER'), (',', 'OTHER'), ('Dr', 'person'), ('Mahathir', 'person'), ('menasihati', 'OTHER'), ('mereka', 'OTHER'), ('supaya', 'OTHER'), ('berhenti', 'OTHER'), ('berehat', 'OTHER'), ('dan', 'OTHER'), ('tidur', 'OTHER'), ('sebentar', 'OTHER'), ('sekiranya', 'OTHER'), ('mengantuk', 'OTHER'), ('ketika', 'OTHER'), ('memandu', 'OTHER'), ('.', 'OTHER')]\n",
      "[('memperkenalkan', 'OTHER'), ('Husein', 'person'), (',', 'OTHER'), ('dia', 'OTHER'), ('sangat', 'OTHER'), ('comel', 'OTHER'), (',', 'OTHER'), ('berumur', 'time'), ('25', 'time'), ('tahun', 'time'), (',', 'OTHER'), ('bangsa', 'OTHER'), ('melayu', 'person'), (',', 'OTHER'), ('agama', 'person'), ('islam', 'person'), (',', 'OTHER'), ('tinggal', 'OTHER'), ('di', 'OTHER'), ('cyberjaya', 'location'), ('malaysia', 'location'), (',', 'OTHER'), ('bercakap', 'OTHER'), ('bahasa', 'OTHER'), ('melayu', 'person'), (',', 'OTHER'), ('semua', 'OTHER'), ('membaca', 'OTHER'), ('buku', 'OTHER'), ('undang-undang', 'OTHER'), ('kewangan', 'OTHER'), (',', 'OTHER'), ('dengar', 'OTHER'), ('laju', 'OTHER'), ('Siti', 'person'), ('Nurhaliza', 'person'), ('-', 'OTHER'), ('Seluruh', 'person'), ('Cinta', 'person'), ('sambil', 'OTHER'), ('makan', 'OTHER'), ('ayam', 'OTHER'), ('goreng', 'OTHER'), ('KFC', 'OTHER')]\n",
      "[{'text': ['KUALA', 'LUMPUR'], 'type': 'location', 'score': 1.0, 'beginOffset': 0, 'endOffset': 2}, {'text': [':', 'Sempena'], 'type': 'OTHER', 'score': 1.0, 'beginOffset': 2, 'endOffset': 4}, {'text': ['sambutan', 'Aidilfitri'], 'type': 'event', 'score': 1.0, 'beginOffset': 4, 'endOffset': 6}, {'text': ['minggu', 'depan', ','], 'type': 'OTHER', 'score': 1.0, 'beginOffset': 6, 'endOffset': 9}, {'text': ['Perdana', 'Menteri', 'Tun', 'Dr', 'Mahathir', 'Mohamad'], 'type': 'person', 'score': 1.0, 'beginOffset': 9, 'endOffset': 15}, {'text': ['dan'], 'type': 'OTHER', 'score': 1.0, 'beginOffset': 15, 'endOffset': 16}, {'text': ['Menteri', 'Pengangkutan'], 'type': 'organization', 'score': 1.0, 'beginOffset': 16, 'endOffset': 18}, {'text': ['Anthony', 'Loke', 'Siew', 'Fook'], 'type': 'person', 'score': 1.0, 'beginOffset': 18, 'endOffset': 22}, {'text': ['menitipkan', 'pesanan', 'khas', 'kepada', 'orang', 'ramai', 'yang', 'mahu', 'pulang', 'ke', 'kampung', 'halaman', 'masing-masing', '.', 'Dalam', 'video', 'pendek', 'terbitan'], 'type': 'OTHER', 'score': 1.0, 'beginOffset': 22, 'endOffset': 40}, {'text': ['Jabatan', 'Keselamatan', 'Jalan', 'Raya', '(', 'JKJR', ')'], 'type': 'organization', 'score': 1.0, 'beginOffset': 40, 'endOffset': 47}, {'text': ['itu', ','], 'type': 'OTHER', 'score': 1.0, 'beginOffset': 47, 'endOffset': 49}, {'text': ['Dr', 'Mahathir'], 'type': 'person', 'score': 1.0, 'beginOffset': 49, 'endOffset': 51}, {'text': ['menasihati', 'mereka', 'supaya', 'berhenti', 'berehat', 'dan', 'tidur', 'sebentar', 'sekiranya', 'mengantuk', 'ketika', 'memandu', '.'], 'type': 'OTHER', 'score': 1.0, 'beginOffset': 51, 'endOffset': 64}]\n"
     ]
    },
    {
     "name": "stderr",
     "output_type": "stream",
     "text": [
      "DEBUG:urllib3.connectionpool:Starting new HTTPS connection (1): f000.backblazeb2.com:443\n"
     ]
    },
    {
     "name": "stdout",
     "output_type": "stream",
     "text": [
      "alxlnet\n"
     ]
    },
    {
     "name": "stderr",
     "output_type": "stream",
     "text": [
      "DEBUG:urllib3.connectionpool:https://f000.backblazeb2.com:443 \"HEAD /file/malaya-model/entity/alxlnet/model.pb HTTP/1.1\" 200 0\n",
      "DEBUG:urllib3.connectionpool:Starting new HTTPS connection (1): f000.backblazeb2.com:443\n",
      "DEBUG:urllib3.connectionpool:https://f000.backblazeb2.com:443 \"HEAD /file/malaya-model/bpe/sp10m.cased.v9.vocab HTTP/1.1\" 200 0\n",
      "DEBUG:urllib3.connectionpool:Starting new HTTPS connection (1): f000.backblazeb2.com:443\n",
      "DEBUG:urllib3.connectionpool:https://f000.backblazeb2.com:443 \"HEAD /file/malaya-model/bpe/sp10m.cased.v9.model HTTP/1.1\" 200 0\n",
      "DEBUG:urllib3.connectionpool:Starting new HTTPS connection (1): f000.backblazeb2.com:443\n",
      "DEBUG:urllib3.connectionpool:https://f000.backblazeb2.com:443 \"HEAD /file/malaya-model/setting/entities.json HTTP/1.1\" 200 0\n",
      "DEBUG:urllib3.connectionpool:Starting new HTTPS connection (1): f000.backblazeb2.com:443\n",
      "DEBUG:urllib3.connectionpool:https://f000.backblazeb2.com:443 \"HEAD /file/malaya-model/entity/alxlnet/version HTTP/1.1\" 404 0\n",
      "DEBUG:urllib3.connectionpool:Starting new HTTPS connection (1): f000.backblazeb2.com:443\n"
     ]
    },
    {
     "name": "stdout",
     "output_type": "stream",
     "text": [
      "downloading frozen model to /Users/huseinzolkepli/Malaya/entity/alxlnet/model.pb\n"
     ]
    },
    {
     "name": "stderr",
     "output_type": "stream",
     "text": [
      "DEBUG:urllib3.connectionpool:https://f000.backblazeb2.com:443 \"GET /file/malaya-model/entity/alxlnet/model.pb HTTP/1.1\" 200 49100365\n",
      "100%|██████████| 47.0/46.8 [00:07<00:00, 6.16MB/s]\n",
      "DEBUG:urllib3.connectionpool:Starting new HTTPS connection (1): f000.backblazeb2.com:443\n"
     ]
    },
    {
     "name": "stdout",
     "output_type": "stream",
     "text": [
      "downloading frozen vocab to /Users/huseinzolkepli/Malaya/entity/alxlnet/sp10m.cased.v9.vocab\n"
     ]
    },
    {
     "name": "stderr",
     "output_type": "stream",
     "text": [
      "DEBUG:urllib3.connectionpool:https://f000.backblazeb2.com:443 \"GET /file/malaya-model/bpe/sp10m.cased.v9.vocab HTTP/1.1\" 200 568997\n",
      "184%|██████████| 1.00/0.54 [00:00<00:00, 1.13MB/s]\n",
      "DEBUG:urllib3.connectionpool:Starting new HTTPS connection (1): f000.backblazeb2.com:443\n"
     ]
    },
    {
     "name": "stdout",
     "output_type": "stream",
     "text": [
      "downloading frozen tokenizer to /Users/huseinzolkepli/Malaya/entity/alxlnet/sp10m.cased.v9.model\n"
     ]
    },
    {
     "name": "stderr",
     "output_type": "stream",
     "text": [
      "DEBUG:urllib3.connectionpool:https://f000.backblazeb2.com:443 \"GET /file/malaya-model/bpe/sp10m.cased.v9.model HTTP/1.1\" 200 778744\n",
      "135%|██████████| 1.00/0.74 [00:01<00:00, 1.21s/MB]\n",
      "DEBUG:urllib3.connectionpool:Starting new HTTPS connection (1): f000.backblazeb2.com:443\n"
     ]
    },
    {
     "name": "stdout",
     "output_type": "stream",
     "text": [
      "downloading frozen setting to /Users/huseinzolkepli/Malaya/entity/alxlnet/entities.json\n"
     ]
    },
    {
     "name": "stderr",
     "output_type": "stream",
     "text": [
      "DEBUG:urllib3.connectionpool:https://f000.backblazeb2.com:443 \"GET /file/malaya-model/setting/entities.json HTTP/1.1\" 200 917464\n",
      "114%|██████████| 1.00/0.87 [00:01<00:00, 1.18s/MB]\n",
      "INFO:root:running entity/alxlnet using device /device:CPU:0\n",
      "DEBUG:root:['▁KUALA', '▁LUMPUR', '▁:', '▁Sempena', '▁sambutan', '▁Aidilfitri', '▁minggu', '▁depan', '▁,', '▁Perdana', '▁Menteri', '▁Tun', '▁Dr', '▁Mahathir', '▁Mohamad', '▁dan', '▁Menteri', '▁Pengangkutan', '▁Anthony', '▁Loke', '▁Siew', '▁Fook', '▁menit', 'ip', 'kan', '▁pesanan', '▁khas', '▁kepada', '▁orang', '▁ramai', '▁yang', '▁mahu', '▁pulang', '▁ke', '▁kampung', '▁halaman', '▁masing', '-', 'masing', '▁', '.', '▁Dalam', '▁video', '▁pendek', '▁terbitan', '▁Jabatan', '▁Keselamatan', '▁Jalan', '▁Raya', '▁', '(', '▁', 'JK', 'JR', '▁', ')', '▁itu', '▁,', '▁Dr', '▁Mahathir', '▁menasihati', '▁mereka', '▁supaya', '▁berhenti', '▁berehat', '▁dan', '▁tidur', '▁sebentar', '▁sekiranya', '▁mengantuk', '▁ketika', '▁memandu', '▁', '.']\n",
      "DEBUG:root:[2208, 2516, 29, 13383, 4541, 3419, 758, 314, 20, 685, 247, 806, 383, 1096, 1515, 24, 247, 5605, 13893, 14089, 20774, 27736, 2340, 4700, 37, 4856, 1492, 72, 50, 396, 22, 943, 863, 32, 552, 5119, 1077, 13, 1384, 19, 9, 341, 596, 2449, 13974, 871, 5427, 708, 688, 19, 10, 19, 4710, 22348, 19, 11, 41, 20, 383, 1096, 21767, 88, 757, 1606, 15738, 24, 198, 4049, 2479, 7529, 271, 7644, 19, 9, 4, 3]\n",
      "DEBUG:root:['▁memperkenalkan', '▁Hu', 'se', 'in', '▁,', '▁dia', '▁sangat', '▁comel', '▁,', '▁berumur', '▁25', '▁tahun', '▁,', '▁bangsa', '▁melayu', '▁,', '▁agama', '▁islam', '▁,', '▁tinggal', '▁di', '▁cyberjaya', '▁malaysia', '▁,', '▁bercakap', '▁bahasa', '▁melayu', '▁,', '▁semua', '▁membaca', '▁buku', '▁undang', '-', 'undang', '▁kewangan', '▁,', '▁dengar', '▁laju', '▁Siti', '▁Nurhaliza', '▁', '-', '▁Seluruh', '▁Cinta', '▁sambil', '▁makan', '▁ayam', '▁goreng', '▁KFC']\n",
      "DEBUG:root:[4995, 2135, 372, 59, 20, 42, 150, 2698, 20, 4580, 1145, 73, 20, 1534, 1255, 20, 523, 2066, 20, 634, 23, 30431, 1836, 20, 3824, 645, 1255, 20, 86, 1524, 598, 1722, 13, 998, 1662, 20, 1147, 2620, 3123, 21002, 19, 13, 8671, 2760, 595, 131, 638, 952, 7621, 4, 3]\n",
      "DEBUG:root:['▁KUALA', '▁LUMPUR', '▁:', '▁Sempena', '▁sambutan', '▁Aidilfitri', '▁minggu', '▁depan', '▁,', '▁Perdana', '▁Menteri', '▁Tun', '▁Dr', '▁Mahathir', '▁Mohamad', '▁dan', '▁Menteri', '▁Pengangkutan', '▁Anthony', '▁Loke', '▁Siew', '▁Fook', '▁menit', 'ip', 'kan', '▁pesanan', '▁khas', '▁kepada', '▁orang', '▁ramai', '▁yang', '▁mahu', '▁pulang', '▁ke', '▁kampung', '▁halaman', '▁masing', '-', 'masing', '▁', '.', '▁Dalam', '▁video', '▁pendek', '▁terbitan', '▁Jabatan', '▁Keselamatan', '▁Jalan', '▁Raya', '▁', '(', '▁', 'JK', 'JR', '▁', ')', '▁itu', '▁,', '▁Dr', '▁Mahathir', '▁menasihati', '▁mereka', '▁supaya', '▁berhenti', '▁berehat', '▁dan', '▁tidur', '▁sebentar', '▁sekiranya', '▁mengantuk', '▁ketika', '▁memandu', '▁', '.']\n",
      "DEBUG:root:[2208, 2516, 29, 13383, 4541, 3419, 758, 314, 20, 685, 247, 806, 383, 1096, 1515, 24, 247, 5605, 13893, 14089, 20774, 27736, 2340, 4700, 37, 4856, 1492, 72, 50, 396, 22, 943, 863, 32, 552, 5119, 1077, 13, 1384, 19, 9, 341, 596, 2449, 13974, 871, 5427, 708, 688, 19, 10, 19, 4710, 22348, 19, 11, 41, 20, 383, 1096, 21767, 88, 757, 1606, 15738, 24, 198, 4049, 2479, 7529, 271, 7644, 19, 9, 4, 3]\n"
     ]
    },
    {
     "name": "stdout",
     "output_type": "stream",
     "text": [
      "[('KUALA', 'location'), ('LUMPUR', 'location'), (':', 'OTHER'), ('Sempena', 'OTHER'), ('sambutan', 'OTHER'), ('Aidilfitri', 'event'), ('minggu', 'time'), ('depan', 'time'), (',', 'OTHER'), ('Perdana', 'person'), ('Menteri', 'person'), ('Tun', 'person'), ('Dr', 'person'), ('Mahathir', 'person'), ('Mohamad', 'person'), ('dan', 'OTHER'), ('Menteri', 'person'), ('Pengangkutan', 'person'), ('Anthony', 'person'), ('Loke', 'person'), ('Siew', 'person'), ('Fook', 'person'), ('menitipkan', 'OTHER'), ('pesanan', 'OTHER'), ('khas', 'OTHER'), ('kepada', 'OTHER'), ('orang', 'OTHER'), ('ramai', 'OTHER'), ('yang', 'OTHER'), ('mahu', 'OTHER'), ('pulang', 'OTHER'), ('ke', 'OTHER'), ('kampung', 'OTHER'), ('halaman', 'OTHER'), ('masing-masing', 'OTHER'), ('.', 'OTHER'), ('Dalam', 'OTHER'), ('video', 'OTHER'), ('pendek', 'OTHER'), ('terbitan', 'OTHER'), ('Jabatan', 'organization'), ('Keselamatan', 'organization'), ('Jalan', 'organization'), ('Raya', 'organization'), ('(', 'organization'), ('JKJR', 'organization'), (')', 'organization'), ('itu', 'OTHER'), (',', 'OTHER'), ('Dr', 'person'), ('Mahathir', 'person'), ('menasihati', 'OTHER'), ('mereka', 'OTHER'), ('supaya', 'OTHER'), ('berhenti', 'OTHER'), ('berehat', 'OTHER'), ('dan', 'OTHER'), ('tidur', 'OTHER'), ('sebentar', 'OTHER'), ('sekiranya', 'OTHER'), ('mengantuk', 'OTHER'), ('ketika', 'OTHER'), ('memandu', 'OTHER'), ('.', 'OTHER')]\n",
      "[('memperkenalkan', 'OTHER'), ('Husein', 'person'), (',', 'OTHER'), ('dia', 'OTHER'), ('sangat', 'OTHER'), ('comel', 'OTHER'), (',', 'OTHER'), ('berumur', 'OTHER'), ('25', 'OTHER'), ('tahun', 'OTHER'), (',', 'OTHER'), ('bangsa', 'OTHER'), ('melayu', 'person'), (',', 'OTHER'), ('agama', 'OTHER'), ('islam', 'person'), (',', 'OTHER'), ('tinggal', 'OTHER'), ('di', 'OTHER'), ('cyberjaya', 'location'), ('malaysia', 'location'), (',', 'OTHER'), ('bercakap', 'OTHER'), ('bahasa', 'OTHER'), ('melayu', 'person'), (',', 'OTHER'), ('semua', 'OTHER'), ('membaca', 'OTHER'), ('buku', 'OTHER'), ('undang-undang', 'OTHER'), ('kewangan', 'OTHER'), (',', 'OTHER'), ('dengar', 'OTHER'), ('laju', 'OTHER'), ('Siti', 'person'), ('Nurhaliza', 'person'), ('-', 'OTHER'), ('Seluruh', 'OTHER'), ('Cinta', 'OTHER'), ('sambil', 'OTHER'), ('makan', 'OTHER'), ('ayam', 'OTHER'), ('goreng', 'OTHER'), ('KFC', 'organization')]\n",
      "[{'text': ['KUALA', 'LUMPUR'], 'type': 'location', 'score': 1.0, 'beginOffset': 0, 'endOffset': 2}, {'text': [':', 'Sempena', 'sambutan'], 'type': 'OTHER', 'score': 1.0, 'beginOffset': 2, 'endOffset': 5}, {'text': ['Aidilfitri'], 'type': 'event', 'score': 1.0, 'beginOffset': 5, 'endOffset': 6}, {'text': ['minggu', 'depan'], 'type': 'time', 'score': 1.0, 'beginOffset': 6, 'endOffset': 8}, {'text': [','], 'type': 'OTHER', 'score': 1.0, 'beginOffset': 8, 'endOffset': 9}, {'text': ['Perdana', 'Menteri', 'Tun', 'Dr', 'Mahathir', 'Mohamad'], 'type': 'person', 'score': 1.0, 'beginOffset': 9, 'endOffset': 15}, {'text': ['dan'], 'type': 'OTHER', 'score': 1.0, 'beginOffset': 15, 'endOffset': 16}, {'text': ['Menteri', 'Pengangkutan'], 'type': 'organization', 'score': 1.0, 'beginOffset': 16, 'endOffset': 18}, {'text': ['Anthony', 'Loke', 'Siew', 'Fook'], 'type': 'person', 'score': 1.0, 'beginOffset': 18, 'endOffset': 22}, {'text': ['menitipkan', 'pesanan', 'khas', 'kepada', 'orang', 'ramai', 'yang', 'mahu', 'pulang', 'ke', 'kampung', 'halaman', 'masing-masing', '.', 'Dalam', 'video', 'pendek', 'terbitan'], 'type': 'OTHER', 'score': 1.0, 'beginOffset': 22, 'endOffset': 40}, {'text': ['Jabatan', 'Keselamatan', 'Jalan', 'Raya', '(', 'JKJR', ')'], 'type': 'organization', 'score': 1.0, 'beginOffset': 40, 'endOffset': 47}, {'text': ['itu', ','], 'type': 'OTHER', 'score': 1.0, 'beginOffset': 47, 'endOffset': 49}, {'text': ['Dr', 'Mahathir'], 'type': 'person', 'score': 1.0, 'beginOffset': 49, 'endOffset': 51}, {'text': ['menasihati', 'mereka', 'supaya', 'berhenti', 'berehat', 'dan', 'tidur', 'sebentar', 'sekiranya', 'mengantuk', 'ketika', 'memandu', '.'], 'type': 'OTHER', 'score': 1.0, 'beginOffset': 51, 'endOffset': 64}]\n"
     ]
    }
   ],
   "source": [
    "models = malaya.entity.available_transformer()\n",
    "for m in models.index:\n",
    "    print(m)\n",
    "    model = malaya.entity.transformer(model = m)\n",
    "    print(model.predict(string))\n",
    "    print(model.predict(string1))\n",
    "    print(model.analyze(string))\n",
    "    malaya.utils.delete_cache(f'entity/{m}')\n",
    "    del model"
   ]
  },
  {
   "cell_type": "code",
   "execution_count": 5,
   "id": "funny-donor",
   "metadata": {},
   "outputs": [
    {
     "name": "stderr",
     "output_type": "stream",
     "text": [
      "INFO:root:tested on 20% test set.\n",
      "DEBUG:urllib3.connectionpool:Starting new HTTPS connection (1): f000.backblazeb2.com:443\n"
     ]
    },
    {
     "name": "stdout",
     "output_type": "stream",
     "text": [
      "bert\n"
     ]
    },
    {
     "name": "stderr",
     "output_type": "stream",
     "text": [
      "DEBUG:urllib3.connectionpool:https://f000.backblazeb2.com:443 \"HEAD /file/malaya-model/pos/bert/model.pb HTTP/1.1\" 200 0\n",
      "DEBUG:urllib3.connectionpool:Starting new HTTPS connection (1): f000.backblazeb2.com:443\n",
      "DEBUG:urllib3.connectionpool:https://f000.backblazeb2.com:443 \"HEAD /file/malaya-model/bpe/sp10m.cased.bert.vocab HTTP/1.1\" 200 0\n",
      "DEBUG:urllib3.connectionpool:Starting new HTTPS connection (1): f000.backblazeb2.com:443\n",
      "DEBUG:urllib3.connectionpool:https://f000.backblazeb2.com:443 \"HEAD /file/malaya-model/bpe/sp10m.cased.bert.model HTTP/1.1\" 200 0\n",
      "DEBUG:urllib3.connectionpool:Starting new HTTPS connection (1): f000.backblazeb2.com:443\n",
      "DEBUG:urllib3.connectionpool:https://f000.backblazeb2.com:443 \"HEAD /file/malaya-model/setting/pos.json HTTP/1.1\" 200 0\n",
      "DEBUG:urllib3.connectionpool:Starting new HTTPS connection (1): f000.backblazeb2.com:443\n",
      "DEBUG:urllib3.connectionpool:https://f000.backblazeb2.com:443 \"HEAD /file/malaya-model/pos/bert/version HTTP/1.1\" 404 0\n",
      "DEBUG:urllib3.connectionpool:Starting new HTTPS connection (1): f000.backblazeb2.com:443\n"
     ]
    },
    {
     "name": "stdout",
     "output_type": "stream",
     "text": [
      "downloading frozen model to /Users/huseinzolkepli/Malaya/pos/bert/model.pb\n"
     ]
    },
    {
     "name": "stderr",
     "output_type": "stream",
     "text": [
      "DEBUG:urllib3.connectionpool:https://f000.backblazeb2.com:443 \"GET /file/malaya-model/pos/bert/model.pb HTTP/1.1\" 200 447135820\n",
      "427MB [00:57, 7.45MB/s]                          \n",
      "DEBUG:urllib3.connectionpool:Starting new HTTPS connection (1): f000.backblazeb2.com:443\n"
     ]
    },
    {
     "name": "stdout",
     "output_type": "stream",
     "text": [
      "downloading frozen vocab to /Users/huseinzolkepli/Malaya/pos/bert/sp10m.cased.bert.vocab\n"
     ]
    },
    {
     "name": "stderr",
     "output_type": "stream",
     "text": [
      "DEBUG:urllib3.connectionpool:https://f000.backblazeb2.com:443 \"GET /file/malaya-model/bpe/sp10m.cased.bert.vocab HTTP/1.1\" 200 568997\n",
      "184%|██████████| 1.00/0.54 [00:00<00:00, 1.00MB/s]\n",
      "DEBUG:urllib3.connectionpool:Starting new HTTPS connection (1): f000.backblazeb2.com:443\n"
     ]
    },
    {
     "name": "stdout",
     "output_type": "stream",
     "text": [
      "downloading frozen tokenizer to /Users/huseinzolkepli/Malaya/pos/bert/sp10m.cased.bert.model\n"
     ]
    },
    {
     "name": "stderr",
     "output_type": "stream",
     "text": [
      "DEBUG:urllib3.connectionpool:https://f000.backblazeb2.com:443 \"GET /file/malaya-model/bpe/sp10m.cased.bert.model HTTP/1.1\" 200 778744\n",
      "135%|██████████| 1.00/0.74 [00:01<00:00, 1.12s/MB]\n",
      "DEBUG:urllib3.connectionpool:Starting new HTTPS connection (1): f000.backblazeb2.com:443\n"
     ]
    },
    {
     "name": "stdout",
     "output_type": "stream",
     "text": [
      "downloading frozen setting to /Users/huseinzolkepli/Malaya/pos/bert/pos.json\n"
     ]
    },
    {
     "name": "stderr",
     "output_type": "stream",
     "text": [
      "DEBUG:urllib3.connectionpool:https://f000.backblazeb2.com:443 \"GET /file/malaya-model/setting/pos.json HTTP/1.1\" 200 825070\n",
      "127%|██████████| 1.00/0.79 [00:01<00:00, 1.20s/MB]\n",
      "INFO:root:running pos/bert using device /device:CPU:0\n",
      "DEBUG:root:['[CLS]', '▁KUALA', '▁LUMPUR', '▁:', '▁Sempena', '▁sambutan', '▁Aidilfitri', '▁minggu', '▁depan', '▁,', '▁Perdana', '▁Menteri', '▁Tun', '▁Dr', '▁Mahathir', '▁Mohamad', '▁dan', '▁Menteri', '▁Pengangkutan', '▁Anthony', '▁Loke', '▁Siew', '▁Fook', '▁menit', 'ip', 'kan', '▁pesanan', '▁khas', '▁kepada', '▁orang', '▁ramai', '▁yang', '▁mahu', '▁pulang', '▁ke', '▁kampung', '▁halaman', '▁masing', '-', 'masing', '▁', '.', '▁Dalam', '▁video', '▁pendek', '▁terbitan', '▁Jabatan', '▁Keselamatan', '▁Jalan', '▁Raya', '▁', '(', '▁', 'JK', 'JR', '▁', ')', '▁itu', '▁,', '▁Dr', '▁Mahathir', '▁menasihati', '▁mereka', '▁supaya', '▁berhenti', '▁berehat', '▁dan', '▁tidur', '▁sebentar', '▁sekiranya', '▁mengantuk', '▁ketika', '▁memandu', '▁', '.', '[SEP]']\n",
      "DEBUG:root:['[CLS]', '▁memperkenalkan', '▁Hu', 'se', 'in', '▁,', '▁dia', '▁sangat', '▁comel', '▁,', '▁berumur', '▁25', '▁tahun', '▁,', '▁bangsa', '▁melayu', '▁,', '▁agama', '▁islam', '▁,', '▁tinggal', '▁di', '▁cyberjaya', '▁malaysia', '▁,', '▁bercakap', '▁bahasa', '▁melayu', '▁,', '▁semua', '▁membaca', '▁buku', '▁undang', '-', 'undang', '▁kewangan', '▁,', '▁dengar', '▁laju', '▁Siti', '▁Nurhaliza', '▁', '-', '▁Seluruh', '▁Cinta', '▁sambil', '▁makan', '▁ayam', '▁goreng', '▁KFC', '[SEP]']\n",
      "DEBUG:root:['[CLS]', '▁KUALA', '▁LUMPUR', '▁:', '▁Sempena', '▁sambutan', '▁Aidilfitri', '▁minggu', '▁depan', '▁,', '▁Perdana', '▁Menteri', '▁Tun', '▁Dr', '▁Mahathir', '▁Mohamad', '▁dan', '▁Menteri', '▁Pengangkutan', '▁Anthony', '▁Loke', '▁Siew', '▁Fook', '▁menit', 'ip', 'kan', '▁pesanan', '▁khas', '▁kepada', '▁orang', '▁ramai', '▁yang', '▁mahu', '▁pulang', '▁ke', '▁kampung', '▁halaman', '▁masing', '-', 'masing', '▁', '.', '▁Dalam', '▁video', '▁pendek', '▁terbitan', '▁Jabatan', '▁Keselamatan', '▁Jalan', '▁Raya', '▁', '(', '▁', 'JK', 'JR', '▁', ')', '▁itu', '▁,', '▁Dr', '▁Mahathir', '▁menasihati', '▁mereka', '▁supaya', '▁berhenti', '▁berehat', '▁dan', '▁tidur', '▁sebentar', '▁sekiranya', '▁mengantuk', '▁ketika', '▁memandu', '▁', '.', '[SEP]']\n"
     ]
    },
    {
     "name": "stdout",
     "output_type": "stream",
     "text": [
      "[('KUALA', 'PROPN'), ('LUMPUR', 'PROPN'), (':', 'PUNCT'), ('Sempena', 'ADP'), ('sambutan', 'NOUN'), ('Aidilfitri', 'NOUN'), ('minggu', 'NOUN'), ('depan', 'ADJ'), (',', 'PUNCT'), ('Perdana', 'PROPN'), ('Menteri', 'PROPN'), ('Tun', 'PROPN'), ('Dr', 'PROPN'), ('Mahathir', 'PROPN'), ('Mohamad', 'PROPN'), ('dan', 'CCONJ'), ('Menteri', 'PROPN'), ('Pengangkutan', 'PROPN'), ('Anthony', 'PROPN'), ('Loke', 'PROPN'), ('Siew', 'PROPN'), ('Fook', 'PROPN'), ('menitipkan', 'VERB'), ('pesanan', 'NOUN'), ('khas', 'ADJ'), ('kepada', 'ADP'), ('orang', 'NOUN'), ('ramai', 'PRON'), ('yang', 'PRON'), ('mahu', 'ADV'), ('pulang', 'VERB'), ('ke', 'ADP'), ('kampung', 'NOUN'), ('halaman', 'NOUN'), ('masing-masing', 'DET'), ('.', 'PUNCT'), ('Dalam', 'ADP'), ('video', 'NOUN'), ('pendek', 'ADJ'), ('terbitan', 'NOUN'), ('Jabatan', 'PROPN'), ('Keselamatan', 'PROPN'), ('Jalan', 'PROPN'), ('Raya', 'PROPN'), ('(', 'PUNCT'), ('JKJR', 'PROPN'), (')', 'PUNCT'), ('itu', 'DET'), (',', 'PUNCT'), ('Dr', 'PROPN'), ('Mahathir', 'PROPN'), ('menasihati', 'VERB'), ('mereka', 'PRON'), ('supaya', 'SCONJ'), ('berhenti', 'VERB'), ('berehat', 'VERB'), ('dan', 'CCONJ'), ('tidur', 'VERB'), ('sebentar', 'ADV'), ('sekiranya', 'ADP'), ('mengantuk', 'ADJ'), ('ketika', 'SCONJ'), ('memandu', 'VERB'), ('.', 'PUNCT')]\n",
      "[('memperkenalkan', 'VERB'), ('Husein', 'PROPN'), (',', 'PUNCT'), ('dia', 'PRON'), ('sangat', 'ADV'), ('comel', 'ADJ'), (',', 'PUNCT'), ('berumur', 'VERB'), ('25', 'NUM'), ('tahun', 'NOUN'), (',', 'PUNCT'), ('bangsa', 'NOUN'), ('melayu', 'PROPN'), (',', 'PUNCT'), ('agama', 'NOUN'), ('islam', 'PROPN'), (',', 'PUNCT'), ('tinggal', 'VERB'), ('di', 'ADP'), ('cyberjaya', 'NOUN'), ('malaysia', 'PROPN'), (',', 'PUNCT'), ('bercakap', 'VERB'), ('bahasa', 'NOUN'), ('melayu', 'NOUN'), (',', 'PUNCT'), ('semua', 'DET'), ('membaca', 'VERB'), ('buku', 'NOUN'), ('undang-undang', 'NOUN'), ('kewangan', 'NOUN'), (',', 'PUNCT'), ('dengar', 'VERB'), ('laju', 'NOUN'), ('Siti', 'PROPN'), ('Nurhaliza', 'PROPN'), ('-', 'PUNCT'), ('Seluruh', 'DET'), ('Cinta', 'PROPN'), ('sambil', 'ADP'), ('makan', 'VERB'), ('ayam', 'NOUN'), ('goreng', 'VERB'), ('KFC', 'PROPN')]\n",
      "[{'text': ['KUALA', 'LUMPUR'], 'type': 'PROPN', 'score': 1.0, 'beginOffset': 0, 'endOffset': 2}, {'text': [':'], 'type': 'PUNCT', 'score': 1.0, 'beginOffset': 2, 'endOffset': 3}, {'text': ['Sempena'], 'type': 'ADP', 'score': 1.0, 'beginOffset': 3, 'endOffset': 4}, {'text': ['sambutan', 'Aidilfitri', 'minggu', 'depan'], 'type': 'NOUN', 'score': 1.0, 'beginOffset': 4, 'endOffset': 8}, {'text': [','], 'type': 'PUNCT', 'score': 1.0, 'beginOffset': 8, 'endOffset': 9}, {'text': ['Perdana', 'Menteri', 'Tun', 'Dr', 'Mahathir', 'Mohamad'], 'type': 'PROPN', 'score': 1.0, 'beginOffset': 9, 'endOffset': 15}, {'text': ['dan'], 'type': 'CCONJ', 'score': 1.0, 'beginOffset': 15, 'endOffset': 16}, {'text': ['Menteri', 'Pengangkutan', 'Anthony', 'Loke', 'Siew', 'Fook'], 'type': 'PROPN', 'score': 1.0, 'beginOffset': 16, 'endOffset': 22}, {'text': ['menitipkan'], 'type': 'VERB', 'score': 1.0, 'beginOffset': 22, 'endOffset': 23}, {'text': ['pesanan'], 'type': 'NOUN', 'score': 1.0, 'beginOffset': 23, 'endOffset': 24}, {'text': ['khas'], 'type': 'ADJ', 'score': 1.0, 'beginOffset': 24, 'endOffset': 25}, {'text': ['kepada'], 'type': 'ADP', 'score': 1.0, 'beginOffset': 25, 'endOffset': 26}, {'text': ['orang'], 'type': 'NOUN', 'score': 1.0, 'beginOffset': 26, 'endOffset': 27}, {'text': ['ramai'], 'type': 'ADJ', 'score': 1.0, 'beginOffset': 27, 'endOffset': 28}, {'text': ['yang'], 'type': 'PRON', 'score': 1.0, 'beginOffset': 28, 'endOffset': 29}, {'text': ['mahu'], 'type': 'ADV', 'score': 1.0, 'beginOffset': 29, 'endOffset': 30}, {'text': ['pulang'], 'type': 'VERB', 'score': 1.0, 'beginOffset': 30, 'endOffset': 31}, {'text': ['ke'], 'type': 'ADP', 'score': 1.0, 'beginOffset': 31, 'endOffset': 32}, {'text': ['kampung', 'halaman'], 'type': 'NOUN', 'score': 1.0, 'beginOffset': 32, 'endOffset': 34}, {'text': ['masing-masing'], 'type': 'DET', 'score': 1.0, 'beginOffset': 34, 'endOffset': 35}, {'text': ['.'], 'type': 'PUNCT', 'score': 1.0, 'beginOffset': 35, 'endOffset': 36}, {'text': ['Dalam'], 'type': 'ADP', 'score': 1.0, 'beginOffset': 36, 'endOffset': 37}, {'text': ['video'], 'type': 'NOUN', 'score': 1.0, 'beginOffset': 37, 'endOffset': 38}, {'text': ['pendek'], 'type': 'ADJ', 'score': 1.0, 'beginOffset': 38, 'endOffset': 39}, {'text': ['terbitan'], 'type': 'NOUN', 'score': 1.0, 'beginOffset': 39, 'endOffset': 40}, {'text': ['Jabatan', 'Keselamatan', 'Jalan', 'Raya'], 'type': 'PROPN', 'score': 1.0, 'beginOffset': 40, 'endOffset': 44}, {'text': ['('], 'type': 'PUNCT', 'score': 1.0, 'beginOffset': 44, 'endOffset': 45}, {'text': ['JKJR'], 'type': 'PROPN', 'score': 1.0, 'beginOffset': 45, 'endOffset': 46}, {'text': [')'], 'type': 'PUNCT', 'score': 1.0, 'beginOffset': 46, 'endOffset': 47}, {'text': ['itu'], 'type': 'DET', 'score': 1.0, 'beginOffset': 47, 'endOffset': 48}, {'text': [','], 'type': 'PUNCT', 'score': 1.0, 'beginOffset': 48, 'endOffset': 49}, {'text': ['Dr', 'Mahathir'], 'type': 'PROPN', 'score': 1.0, 'beginOffset': 49, 'endOffset': 51}, {'text': ['menasihati'], 'type': 'VERB', 'score': 1.0, 'beginOffset': 51, 'endOffset': 52}, {'text': ['mereka'], 'type': 'PRON', 'score': 1.0, 'beginOffset': 52, 'endOffset': 53}, {'text': ['supaya'], 'type': 'SCONJ', 'score': 1.0, 'beginOffset': 53, 'endOffset': 54}, {'text': ['berhenti', 'berehat'], 'type': 'VERB', 'score': 1.0, 'beginOffset': 54, 'endOffset': 56}, {'text': ['dan'], 'type': 'CCONJ', 'score': 1.0, 'beginOffset': 56, 'endOffset': 57}, {'text': ['tidur'], 'type': 'VERB', 'score': 1.0, 'beginOffset': 57, 'endOffset': 58}, {'text': ['sebentar'], 'type': 'ADV', 'score': 1.0, 'beginOffset': 58, 'endOffset': 59}, {'text': ['sekiranya'], 'type': 'ADP', 'score': 1.0, 'beginOffset': 59, 'endOffset': 60}, {'text': ['mengantuk'], 'type': 'NOUN', 'score': 1.0, 'beginOffset': 60, 'endOffset': 61}, {'text': ['ketika'], 'type': 'SCONJ', 'score': 1.0, 'beginOffset': 61, 'endOffset': 62}, {'text': ['memandu'], 'type': 'VERB', 'score': 1.0, 'beginOffset': 62, 'endOffset': 63}, {'text': ['.'], 'type': 'PUNCT', 'score': 1.0, 'beginOffset': 63, 'endOffset': 64}]\n"
     ]
    },
    {
     "name": "stderr",
     "output_type": "stream",
     "text": [
      "DEBUG:urllib3.connectionpool:Starting new HTTPS connection (1): f000.backblazeb2.com:443\n"
     ]
    },
    {
     "name": "stdout",
     "output_type": "stream",
     "text": [
      "tiny-bert\n"
     ]
    },
    {
     "name": "stderr",
     "output_type": "stream",
     "text": [
      "DEBUG:urllib3.connectionpool:https://f000.backblazeb2.com:443 \"HEAD /file/malaya-model/pos/tiny-bert/model.pb HTTP/1.1\" 200 0\n",
      "DEBUG:urllib3.connectionpool:Starting new HTTPS connection (1): f000.backblazeb2.com:443\n",
      "DEBUG:urllib3.connectionpool:https://f000.backblazeb2.com:443 \"HEAD /file/malaya-model/bpe/sp10m.cased.bert.vocab HTTP/1.1\" 200 0\n",
      "DEBUG:urllib3.connectionpool:Starting new HTTPS connection (1): f000.backblazeb2.com:443\n",
      "DEBUG:urllib3.connectionpool:https://f000.backblazeb2.com:443 \"HEAD /file/malaya-model/bpe/sp10m.cased.bert.model HTTP/1.1\" 200 0\n",
      "DEBUG:urllib3.connectionpool:Starting new HTTPS connection (1): f000.backblazeb2.com:443\n",
      "DEBUG:urllib3.connectionpool:https://f000.backblazeb2.com:443 \"HEAD /file/malaya-model/setting/pos.json HTTP/1.1\" 200 0\n",
      "DEBUG:urllib3.connectionpool:Starting new HTTPS connection (1): f000.backblazeb2.com:443\n",
      "DEBUG:urllib3.connectionpool:https://f000.backblazeb2.com:443 \"HEAD /file/malaya-model/pos/tiny-bert/version HTTP/1.1\" 404 0\n",
      "DEBUG:urllib3.connectionpool:Starting new HTTPS connection (1): f000.backblazeb2.com:443\n"
     ]
    },
    {
     "name": "stdout",
     "output_type": "stream",
     "text": [
      "downloading frozen model to /Users/huseinzolkepli/Malaya/pos/tiny-bert/model.pb\n"
     ]
    },
    {
     "name": "stderr",
     "output_type": "stream",
     "text": [
      "DEBUG:urllib3.connectionpool:https://f000.backblazeb2.com:443 \"GET /file/malaya-model/pos/tiny-bert/model.pb HTTP/1.1\" 200 60524774\n",
      "100%|██████████| 58.0/57.7 [00:08<00:00, 7.04MB/s]\n",
      "DEBUG:urllib3.connectionpool:Starting new HTTPS connection (1): f000.backblazeb2.com:443\n"
     ]
    },
    {
     "name": "stdout",
     "output_type": "stream",
     "text": [
      "downloading frozen vocab to /Users/huseinzolkepli/Malaya/pos/tiny-bert/sp10m.cased.bert.vocab\n"
     ]
    },
    {
     "name": "stderr",
     "output_type": "stream",
     "text": [
      "DEBUG:urllib3.connectionpool:https://f000.backblazeb2.com:443 \"GET /file/malaya-model/bpe/sp10m.cased.bert.vocab HTTP/1.1\" 200 568997\n",
      "184%|██████████| 1.00/0.54 [00:00<00:00, 1.10MB/s]\n",
      "DEBUG:urllib3.connectionpool:Starting new HTTPS connection (1): f000.backblazeb2.com:443\n"
     ]
    },
    {
     "name": "stdout",
     "output_type": "stream",
     "text": [
      "downloading frozen tokenizer to /Users/huseinzolkepli/Malaya/pos/tiny-bert/sp10m.cased.bert.model\n"
     ]
    },
    {
     "name": "stderr",
     "output_type": "stream",
     "text": [
      "DEBUG:urllib3.connectionpool:https://f000.backblazeb2.com:443 \"GET /file/malaya-model/bpe/sp10m.cased.bert.model HTTP/1.1\" 200 778744\n",
      "135%|██████████| 1.00/0.74 [00:01<00:00, 1.12s/MB]\n",
      "DEBUG:urllib3.connectionpool:Starting new HTTPS connection (1): f000.backblazeb2.com:443\n"
     ]
    },
    {
     "name": "stdout",
     "output_type": "stream",
     "text": [
      "downloading frozen setting to /Users/huseinzolkepli/Malaya/pos/tiny-bert/pos.json\n"
     ]
    },
    {
     "name": "stderr",
     "output_type": "stream",
     "text": [
      "DEBUG:urllib3.connectionpool:https://f000.backblazeb2.com:443 \"GET /file/malaya-model/setting/pos.json HTTP/1.1\" 200 825070\n",
      "127%|██████████| 1.00/0.79 [00:01<00:00, 1.00s/MB]\n",
      "INFO:root:running pos/tiny-bert using device /device:CPU:0\n",
      "DEBUG:root:['[CLS]', '▁KUALA', '▁LUMPUR', '▁:', '▁Sempena', '▁sambutan', '▁Aidilfitri', '▁minggu', '▁depan', '▁,', '▁Perdana', '▁Menteri', '▁Tun', '▁Dr', '▁Mahathir', '▁Mohamad', '▁dan', '▁Menteri', '▁Pengangkutan', '▁Anthony', '▁Loke', '▁Siew', '▁Fook', '▁menit', 'ip', 'kan', '▁pesanan', '▁khas', '▁kepada', '▁orang', '▁ramai', '▁yang', '▁mahu', '▁pulang', '▁ke', '▁kampung', '▁halaman', '▁masing', '-', 'masing', '▁', '.', '▁Dalam', '▁video', '▁pendek', '▁terbitan', '▁Jabatan', '▁Keselamatan', '▁Jalan', '▁Raya', '▁', '(', '▁', 'JK', 'JR', '▁', ')', '▁itu', '▁,', '▁Dr', '▁Mahathir', '▁menasihati', '▁mereka', '▁supaya', '▁berhenti', '▁berehat', '▁dan', '▁tidur', '▁sebentar', '▁sekiranya', '▁mengantuk', '▁ketika', '▁memandu', '▁', '.', '[SEP]']\n",
      "DEBUG:root:['[CLS]', '▁memperkenalkan', '▁Hu', 'se', 'in', '▁,', '▁dia', '▁sangat', '▁comel', '▁,', '▁berumur', '▁25', '▁tahun', '▁,', '▁bangsa', '▁melayu', '▁,', '▁agama', '▁islam', '▁,', '▁tinggal', '▁di', '▁cyberjaya', '▁malaysia', '▁,', '▁bercakap', '▁bahasa', '▁melayu', '▁,', '▁semua', '▁membaca', '▁buku', '▁undang', '-', 'undang', '▁kewangan', '▁,', '▁dengar', '▁laju', '▁Siti', '▁Nurhaliza', '▁', '-', '▁Seluruh', '▁Cinta', '▁sambil', '▁makan', '▁ayam', '▁goreng', '▁KFC', '[SEP]']\n",
      "DEBUG:root:['[CLS]', '▁KUALA', '▁LUMPUR', '▁:', '▁Sempena', '▁sambutan', '▁Aidilfitri', '▁minggu', '▁depan', '▁,', '▁Perdana', '▁Menteri', '▁Tun', '▁Dr', '▁Mahathir', '▁Mohamad', '▁dan', '▁Menteri', '▁Pengangkutan', '▁Anthony', '▁Loke', '▁Siew', '▁Fook', '▁menit', 'ip', 'kan', '▁pesanan', '▁khas', '▁kepada', '▁orang', '▁ramai', '▁yang', '▁mahu', '▁pulang', '▁ke', '▁kampung', '▁halaman', '▁masing', '-', 'masing', '▁', '.', '▁Dalam', '▁video', '▁pendek', '▁terbitan', '▁Jabatan', '▁Keselamatan', '▁Jalan', '▁Raya', '▁', '(', '▁', 'JK', 'JR', '▁', ')', '▁itu', '▁,', '▁Dr', '▁Mahathir', '▁menasihati', '▁mereka', '▁supaya', '▁berhenti', '▁berehat', '▁dan', '▁tidur', '▁sebentar', '▁sekiranya', '▁mengantuk', '▁ketika', '▁memandu', '▁', '.', '[SEP]']\n",
      "DEBUG:urllib3.connectionpool:Starting new HTTPS connection (1): f000.backblazeb2.com:443\n"
     ]
    },
    {
     "name": "stdout",
     "output_type": "stream",
     "text": [
      "[('KUALA', 'PROPN'), ('LUMPUR', 'PROPN'), (':', 'PUNCT'), ('Sempena', 'ADP'), ('sambutan', 'NOUN'), ('Aidilfitri', 'NOUN'), ('minggu', 'NOUN'), ('depan', 'NOUN'), (',', 'PUNCT'), ('Perdana', 'PROPN'), ('Menteri', 'PROPN'), ('Tun', 'PROPN'), ('Dr', 'PROPN'), ('Mahathir', 'PROPN'), ('Mohamad', 'PROPN'), ('dan', 'CCONJ'), ('Menteri', 'PROPN'), ('Pengangkutan', 'PROPN'), ('Anthony', 'PROPN'), ('Loke', 'PROPN'), ('Siew', 'PROPN'), ('Fook', 'PROPN'), ('menitipkan', 'VERB'), ('pesanan', 'NOUN'), ('khas', 'ADJ'), ('kepada', 'ADP'), ('orang', 'PRON'), ('ramai', 'ADJ'), ('yang', 'PRON'), ('mahu', 'ADV'), ('pulang', 'VERB'), ('ke', 'ADP'), ('kampung', 'NOUN'), ('halaman', 'NOUN'), ('masing-masing', 'DET'), ('.', 'PUNCT'), ('Dalam', 'ADP'), ('video', 'NOUN'), ('pendek', 'ADJ'), ('terbitan', 'NOUN'), ('Jabatan', 'NOUN'), ('Keselamatan', 'PROPN'), ('Jalan', 'PROPN'), ('Raya', 'PROPN'), ('(', 'PUNCT'), ('JKJR', 'PROPN'), (')', 'PUNCT'), ('itu', 'DET'), (',', 'PUNCT'), ('Dr', 'PROPN'), ('Mahathir', 'PROPN'), ('menasihati', 'VERB'), ('mereka', 'PRON'), ('supaya', 'SCONJ'), ('berhenti', 'VERB'), ('berehat', 'VERB'), ('dan', 'CCONJ'), ('tidur', 'VERB'), ('sebentar', 'ADV'), ('sekiranya', 'ADP'), ('mengantuk', 'NOUN'), ('ketika', 'SCONJ'), ('memandu', 'VERB'), ('.', 'PUNCT')]\n",
      "[('memperkenalkan', 'VERB'), ('Husein', 'PROPN'), (',', 'PUNCT'), ('dia', 'PRON'), ('sangat', 'ADV'), ('comel', 'ADJ'), (',', 'PUNCT'), ('berumur', 'VERB'), ('25', 'NUM'), ('tahun', 'NOUN'), (',', 'PUNCT'), ('bangsa', 'NOUN'), ('melayu', 'PROPN'), (',', 'PUNCT'), ('agama', 'NOUN'), ('islam', 'PROPN'), (',', 'PUNCT'), ('tinggal', 'VERB'), ('di', 'ADP'), ('cyberjaya', 'PROPN'), ('malaysia', 'PROPN'), (',', 'PUNCT'), ('bercakap', 'VERB'), ('bahasa', 'NOUN'), ('melayu', 'NOUN'), (',', 'PUNCT'), ('semua', 'DET'), ('membaca', 'VERB'), ('buku', 'NOUN'), ('undang-undang', 'NOUN'), ('kewangan', 'NOUN'), (',', 'PUNCT'), ('dengar', 'VERB'), ('laju', 'NOUN'), ('Siti', 'PROPN'), ('Nurhaliza', 'PROPN'), ('-', 'PUNCT'), ('Seluruh', 'DET'), ('Cinta', 'PROPN'), ('sambil', 'ADP'), ('makan', 'VERB'), ('ayam', 'NOUN'), ('goreng', 'VERB'), ('KFC', 'PROPN')]\n",
      "[{'text': ['KUALA', 'LUMPUR'], 'type': 'PROPN', 'score': 1.0, 'beginOffset': 0, 'endOffset': 2}, {'text': [':'], 'type': 'PUNCT', 'score': 1.0, 'beginOffset': 2, 'endOffset': 3}, {'text': ['Sempena'], 'type': 'ADP', 'score': 1.0, 'beginOffset': 3, 'endOffset': 4}, {'text': ['sambutan', 'Aidilfitri', 'minggu'], 'type': 'NOUN', 'score': 1.0, 'beginOffset': 4, 'endOffset': 7}, {'text': ['depan'], 'type': 'ADJ', 'score': 1.0, 'beginOffset': 7, 'endOffset': 8}, {'text': [','], 'type': 'PUNCT', 'score': 1.0, 'beginOffset': 8, 'endOffset': 9}, {'text': ['Perdana', 'Menteri', 'Tun', 'Dr', 'Mahathir', 'Mohamad'], 'type': 'PROPN', 'score': 1.0, 'beginOffset': 9, 'endOffset': 15}, {'text': ['dan'], 'type': 'CCONJ', 'score': 1.0, 'beginOffset': 15, 'endOffset': 16}, {'text': ['Menteri', 'Pengangkutan', 'Anthony', 'Loke', 'Siew', 'Fook'], 'type': 'PROPN', 'score': 1.0, 'beginOffset': 16, 'endOffset': 22}, {'text': ['menitipkan'], 'type': 'VERB', 'score': 1.0, 'beginOffset': 22, 'endOffset': 23}, {'text': ['pesanan'], 'type': 'NOUN', 'score': 1.0, 'beginOffset': 23, 'endOffset': 24}, {'text': ['khas'], 'type': 'ADJ', 'score': 1.0, 'beginOffset': 24, 'endOffset': 25}, {'text': ['kepada'], 'type': 'ADP', 'score': 1.0, 'beginOffset': 25, 'endOffset': 26}, {'text': ['orang'], 'type': 'NOUN', 'score': 1.0, 'beginOffset': 26, 'endOffset': 27}, {'text': ['ramai'], 'type': 'ADJ', 'score': 1.0, 'beginOffset': 27, 'endOffset': 28}, {'text': ['yang'], 'type': 'PRON', 'score': 1.0, 'beginOffset': 28, 'endOffset': 29}, {'text': ['mahu'], 'type': 'ADV', 'score': 1.0, 'beginOffset': 29, 'endOffset': 30}, {'text': ['pulang'], 'type': 'VERB', 'score': 1.0, 'beginOffset': 30, 'endOffset': 31}, {'text': ['ke'], 'type': 'ADP', 'score': 1.0, 'beginOffset': 31, 'endOffset': 32}, {'text': ['kampung', 'halaman'], 'type': 'NOUN', 'score': 1.0, 'beginOffset': 32, 'endOffset': 34}, {'text': ['masing-masing'], 'type': 'DET', 'score': 1.0, 'beginOffset': 34, 'endOffset': 35}, {'text': ['.'], 'type': 'PUNCT', 'score': 1.0, 'beginOffset': 35, 'endOffset': 36}, {'text': ['Dalam'], 'type': 'ADP', 'score': 1.0, 'beginOffset': 36, 'endOffset': 37}, {'text': ['video'], 'type': 'NOUN', 'score': 1.0, 'beginOffset': 37, 'endOffset': 38}, {'text': ['pendek'], 'type': 'ADJ', 'score': 1.0, 'beginOffset': 38, 'endOffset': 39}, {'text': ['terbitan'], 'type': 'NOUN', 'score': 1.0, 'beginOffset': 39, 'endOffset': 40}, {'text': ['Jabatan', 'Keselamatan', 'Jalan', 'Raya'], 'type': 'PROPN', 'score': 1.0, 'beginOffset': 40, 'endOffset': 44}, {'text': ['('], 'type': 'PUNCT', 'score': 1.0, 'beginOffset': 44, 'endOffset': 45}, {'text': ['JKJR'], 'type': 'PROPN', 'score': 1.0, 'beginOffset': 45, 'endOffset': 46}, {'text': [')'], 'type': 'PUNCT', 'score': 1.0, 'beginOffset': 46, 'endOffset': 47}, {'text': ['itu'], 'type': 'DET', 'score': 1.0, 'beginOffset': 47, 'endOffset': 48}, {'text': [','], 'type': 'PUNCT', 'score': 1.0, 'beginOffset': 48, 'endOffset': 49}, {'text': ['Dr', 'Mahathir'], 'type': 'PROPN', 'score': 1.0, 'beginOffset': 49, 'endOffset': 51}, {'text': ['menasihati'], 'type': 'VERB', 'score': 1.0, 'beginOffset': 51, 'endOffset': 52}, {'text': ['mereka'], 'type': 'PRON', 'score': 1.0, 'beginOffset': 52, 'endOffset': 53}, {'text': ['supaya'], 'type': 'SCONJ', 'score': 1.0, 'beginOffset': 53, 'endOffset': 54}, {'text': ['berhenti', 'berehat'], 'type': 'VERB', 'score': 1.0, 'beginOffset': 54, 'endOffset': 56}, {'text': ['dan'], 'type': 'CCONJ', 'score': 1.0, 'beginOffset': 56, 'endOffset': 57}, {'text': ['tidur'], 'type': 'VERB', 'score': 1.0, 'beginOffset': 57, 'endOffset': 58}, {'text': ['sebentar'], 'type': 'ADV', 'score': 1.0, 'beginOffset': 58, 'endOffset': 59}, {'text': ['sekiranya'], 'type': 'ADP', 'score': 1.0, 'beginOffset': 59, 'endOffset': 60}, {'text': ['mengantuk'], 'type': 'ADJ', 'score': 1.0, 'beginOffset': 60, 'endOffset': 61}, {'text': ['ketika'], 'type': 'SCONJ', 'score': 1.0, 'beginOffset': 61, 'endOffset': 62}, {'text': ['memandu'], 'type': 'VERB', 'score': 1.0, 'beginOffset': 62, 'endOffset': 63}, {'text': ['.'], 'type': 'PUNCT', 'score': 1.0, 'beginOffset': 63, 'endOffset': 64}]\n",
      "albert\n"
     ]
    },
    {
     "name": "stderr",
     "output_type": "stream",
     "text": [
      "DEBUG:urllib3.connectionpool:https://f000.backblazeb2.com:443 \"HEAD /file/malaya-model/pos/albert/model.pb HTTP/1.1\" 200 0\n",
      "DEBUG:urllib3.connectionpool:Starting new HTTPS connection (1): f000.backblazeb2.com:443\n",
      "DEBUG:urllib3.connectionpool:https://f000.backblazeb2.com:443 \"HEAD /file/malaya-model/bpe/sp10m.cased.v10.vocab HTTP/1.1\" 200 0\n",
      "DEBUG:urllib3.connectionpool:Starting new HTTPS connection (1): f000.backblazeb2.com:443\n",
      "DEBUG:urllib3.connectionpool:https://f000.backblazeb2.com:443 \"HEAD /file/malaya-model/bpe/sp10m.cased.v10.model HTTP/1.1\" 200 0\n",
      "DEBUG:urllib3.connectionpool:Starting new HTTPS connection (1): f000.backblazeb2.com:443\n",
      "DEBUG:urllib3.connectionpool:https://f000.backblazeb2.com:443 \"HEAD /file/malaya-model/setting/pos.json HTTP/1.1\" 200 0\n",
      "DEBUG:urllib3.connectionpool:Starting new HTTPS connection (1): f000.backblazeb2.com:443\n",
      "DEBUG:urllib3.connectionpool:https://f000.backblazeb2.com:443 \"HEAD /file/malaya-model/pos/albert/version HTTP/1.1\" 404 0\n",
      "DEBUG:urllib3.connectionpool:Starting new HTTPS connection (1): f000.backblazeb2.com:443\n"
     ]
    },
    {
     "name": "stdout",
     "output_type": "stream",
     "text": [
      "downloading frozen model to /Users/huseinzolkepli/Malaya/pos/albert/model.pb\n"
     ]
    },
    {
     "name": "stderr",
     "output_type": "stream",
     "text": [
      "DEBUG:urllib3.connectionpool:https://f000.backblazeb2.com:443 \"GET /file/malaya-model/pos/albert/model.pb HTTP/1.1\" 200 51024896\n",
      "101%|██████████| 49.0/48.7 [00:07<00:00, 6.79MB/s]\n",
      "DEBUG:urllib3.connectionpool:Starting new HTTPS connection (1): f000.backblazeb2.com:443\n"
     ]
    },
    {
     "name": "stdout",
     "output_type": "stream",
     "text": [
      "downloading frozen vocab to /Users/huseinzolkepli/Malaya/pos/albert/sp10m.cased.v10.vocab\n"
     ]
    },
    {
     "name": "stderr",
     "output_type": "stream",
     "text": [
      "DEBUG:urllib3.connectionpool:https://f000.backblazeb2.com:443 \"GET /file/malaya-model/bpe/sp10m.cased.v10.vocab HTTP/1.1\" 200 569013\n",
      "184%|██████████| 1.00/0.54 [00:00<00:00, 1.02MB/s]\n",
      "DEBUG:urllib3.connectionpool:Starting new HTTPS connection (1): f000.backblazeb2.com:443\n"
     ]
    },
    {
     "name": "stdout",
     "output_type": "stream",
     "text": [
      "downloading frozen tokenizer to /Users/huseinzolkepli/Malaya/pos/albert/sp10m.cased.v10.model\n"
     ]
    },
    {
     "name": "stderr",
     "output_type": "stream",
     "text": [
      "DEBUG:urllib3.connectionpool:https://f000.backblazeb2.com:443 \"GET /file/malaya-model/bpe/sp10m.cased.v10.model HTTP/1.1\" 200 778641\n",
      "135%|██████████| 1.00/0.74 [00:01<00:00, 1.04s/MB]\n",
      "DEBUG:urllib3.connectionpool:Starting new HTTPS connection (1): f000.backblazeb2.com:443\n"
     ]
    },
    {
     "name": "stdout",
     "output_type": "stream",
     "text": [
      "downloading frozen setting to /Users/huseinzolkepli/Malaya/pos/albert/pos.json\n"
     ]
    },
    {
     "name": "stderr",
     "output_type": "stream",
     "text": [
      "DEBUG:urllib3.connectionpool:https://f000.backblazeb2.com:443 \"GET /file/malaya-model/setting/pos.json HTTP/1.1\" 200 825070\n",
      "127%|██████████| 1.00/0.79 [00:01<00:00, 1.19s/MB]\n",
      "INFO:root:running pos/albert using device /device:CPU:0\n",
      "DEBUG:root:['[CLS]', '▁KUALA', '▁LUMPUR', '▁:', '▁Sempena', '▁sambutan', '▁Aidilfitri', '▁minggu', '▁depan', '▁,', '▁Perdana', '▁Menteri', '▁Tun', '▁Dr', '▁Mahathir', '▁Mohamad', '▁dan', '▁Menteri', '▁Pengangkutan', '▁Anthony', '▁Loke', '▁Siew', '▁Fook', '▁menit', 'ip', 'kan', '▁pesanan', '▁khas', '▁kepada', '▁orang', '▁ramai', '▁yang', '▁mahu', '▁pulang', '▁ke', '▁kampung', '▁halaman', '▁masing', '-', 'masing', '▁', '.', '▁Dalam', '▁video', '▁pendek', '▁terbitan', '▁Jabatan', '▁Keselamatan', '▁Jalan', '▁Raya', '▁', '(', '▁', 'JK', 'JR', '▁', ')', '▁itu', '▁,', '▁Dr', '▁Mahathir', '▁menasihati', '▁mereka', '▁supaya', '▁berhenti', '▁berehat', '▁dan', '▁tidur', '▁sebentar', '▁sekiranya', '▁mengantuk', '▁ketika', '▁memandu', '▁', '.', '[SEP]']\n",
      "DEBUG:root:['[CLS]', '▁memperkenalkan', '▁Hu', 'se', 'in', '▁,', '▁dia', '▁sangat', '▁comel', '▁,', '▁berumur', '▁25', '▁tahun', '▁,', '▁bangsa', '▁melayu', '▁,', '▁agama', '▁islam', '▁,', '▁tinggal', '▁di', '▁cyberjaya', '▁malaysia', '▁,', '▁bercakap', '▁bahasa', '▁melayu', '▁,', '▁semua', '▁membaca', '▁buku', '▁undang', '-', 'undang', '▁kewangan', '▁,', '▁dengar', '▁laju', '▁Siti', '▁Nurhaliza', '▁', '-', '▁Seluruh', '▁Cinta', '▁sambil', '▁makan', '▁ayam', '▁goreng', '▁KFC', '[SEP]']\n",
      "DEBUG:root:['[CLS]', '▁KUALA', '▁LUMPUR', '▁:', '▁Sempena', '▁sambutan', '▁Aidilfitri', '▁minggu', '▁depan', '▁,', '▁Perdana', '▁Menteri', '▁Tun', '▁Dr', '▁Mahathir', '▁Mohamad', '▁dan', '▁Menteri', '▁Pengangkutan', '▁Anthony', '▁Loke', '▁Siew', '▁Fook', '▁menit', 'ip', 'kan', '▁pesanan', '▁khas', '▁kepada', '▁orang', '▁ramai', '▁yang', '▁mahu', '▁pulang', '▁ke', '▁kampung', '▁halaman', '▁masing', '-', 'masing', '▁', '.', '▁Dalam', '▁video', '▁pendek', '▁terbitan', '▁Jabatan', '▁Keselamatan', '▁Jalan', '▁Raya', '▁', '(', '▁', 'JK', 'JR', '▁', ')', '▁itu', '▁,', '▁Dr', '▁Mahathir', '▁menasihati', '▁mereka', '▁supaya', '▁berhenti', '▁berehat', '▁dan', '▁tidur', '▁sebentar', '▁sekiranya', '▁mengantuk', '▁ketika', '▁memandu', '▁', '.', '[SEP]']\n"
     ]
    },
    {
     "name": "stdout",
     "output_type": "stream",
     "text": [
      "[('KUALA', 'PROPN'), ('LUMPUR', 'PROPN'), (':', 'PUNCT'), ('Sempena', 'ADP'), ('sambutan', 'NOUN'), ('Aidilfitri', 'NOUN'), ('minggu', 'NOUN'), ('depan', 'ADJ'), (',', 'PUNCT'), ('Perdana', 'PROPN'), ('Menteri', 'PROPN'), ('Tun', 'PROPN'), ('Dr', 'PROPN'), ('Mahathir', 'PROPN'), ('Mohamad', 'PROPN'), ('dan', 'CCONJ'), ('Menteri', 'PROPN'), ('Pengangkutan', 'PROPN'), ('Anthony', 'PROPN'), ('Loke', 'PROPN'), ('Siew', 'PROPN'), ('Fook', 'PROPN'), ('menitipkan', 'VERB'), ('pesanan', 'NOUN'), ('khas', 'ADJ'), ('kepada', 'ADP'), ('orang', 'NOUN'), ('ramai', 'ADJ'), ('yang', 'PRON'), ('mahu', 'ADV'), ('pulang', 'VERB'), ('ke', 'ADP'), ('kampung', 'NOUN'), ('halaman', 'NOUN'), ('masing-masing', 'DET'), ('.', 'PUNCT'), ('Dalam', 'ADP'), ('video', 'NOUN'), ('pendek', 'ADJ'), ('terbitan', 'NOUN'), ('Jabatan', 'PROPN'), ('Keselamatan', 'PROPN'), ('Jalan', 'PROPN'), ('Raya', 'PROPN'), ('(', 'PUNCT'), ('JKJR', 'PROPN'), (')', 'PUNCT'), ('itu', 'DET'), (',', 'PUNCT'), ('Dr', 'PROPN'), ('Mahathir', 'PROPN'), ('menasihati', 'VERB'), ('mereka', 'PRON'), ('supaya', 'SCONJ'), ('berhenti', 'VERB'), ('berehat', 'VERB'), ('dan', 'CCONJ'), ('tidur', 'VERB'), ('sebentar', 'NOUN'), ('sekiranya', 'SCONJ'), ('mengantuk', 'ADJ'), ('ketika', 'SCONJ'), ('memandu', 'VERB'), ('.', 'PUNCT')]\n",
      "[('memperkenalkan', 'VERB'), ('Husein', 'PROPN'), (',', 'PUNCT'), ('dia', 'PRON'), ('sangat', 'ADV'), ('comel', 'ADJ'), (',', 'PUNCT'), ('berumur', 'VERB'), ('25', 'NUM'), ('tahun', 'NOUN'), (',', 'PUNCT'), ('bangsa', 'NOUN'), ('melayu', 'NOUN'), (',', 'PUNCT'), ('agama', 'NOUN'), ('islam', 'PROPN'), (',', 'PUNCT'), ('tinggal', 'VERB'), ('di', 'ADP'), ('cyberjaya', 'NOUN'), ('malaysia', 'PROPN'), (',', 'PUNCT'), ('bercakap', 'VERB'), ('bahasa', 'NOUN'), ('melayu', 'NOUN'), (',', 'PUNCT'), ('semua', 'DET'), ('membaca', 'VERB'), ('buku', 'NOUN'), ('undang-undang', 'NOUN'), ('kewangan', 'NOUN'), (',', 'PUNCT'), ('dengar', 'VERB'), ('laju', 'ADJ'), ('Siti', 'PROPN'), ('Nurhaliza', 'PROPN'), ('-', 'PUNCT'), ('Seluruh', 'PROPN'), ('Cinta', 'PROPN'), ('sambil', 'ADP'), ('makan', 'VERB'), ('ayam', 'NOUN'), ('goreng', 'VERB'), ('KFC', 'PROPN')]\n"
     ]
    },
    {
     "name": "stderr",
     "output_type": "stream",
     "text": [
      "DEBUG:urllib3.connectionpool:Starting new HTTPS connection (1): f000.backblazeb2.com:443\n"
     ]
    },
    {
     "name": "stdout",
     "output_type": "stream",
     "text": [
      "[{'text': ['KUALA', 'LUMPUR'], 'type': 'PROPN', 'score': 1.0, 'beginOffset': 0, 'endOffset': 2}, {'text': [':'], 'type': 'PUNCT', 'score': 1.0, 'beginOffset': 2, 'endOffset': 3}, {'text': ['Sempena'], 'type': 'ADP', 'score': 1.0, 'beginOffset': 3, 'endOffset': 4}, {'text': ['sambutan', 'Aidilfitri', 'minggu'], 'type': 'NOUN', 'score': 1.0, 'beginOffset': 4, 'endOffset': 7}, {'text': ['depan'], 'type': 'ADJ', 'score': 1.0, 'beginOffset': 7, 'endOffset': 8}, {'text': [','], 'type': 'PUNCT', 'score': 1.0, 'beginOffset': 8, 'endOffset': 9}, {'text': ['Perdana', 'Menteri', 'Tun', 'Dr', 'Mahathir', 'Mohamad'], 'type': 'PROPN', 'score': 1.0, 'beginOffset': 9, 'endOffset': 15}, {'text': ['dan'], 'type': 'CCONJ', 'score': 1.0, 'beginOffset': 15, 'endOffset': 16}, {'text': ['Menteri', 'Pengangkutan', 'Anthony', 'Loke', 'Siew', 'Fook'], 'type': 'PROPN', 'score': 1.0, 'beginOffset': 16, 'endOffset': 22}, {'text': ['menitipkan'], 'type': 'VERB', 'score': 1.0, 'beginOffset': 22, 'endOffset': 23}, {'text': ['pesanan'], 'type': 'NOUN', 'score': 1.0, 'beginOffset': 23, 'endOffset': 24}, {'text': ['khas'], 'type': 'ADJ', 'score': 1.0, 'beginOffset': 24, 'endOffset': 25}, {'text': ['kepada'], 'type': 'ADP', 'score': 1.0, 'beginOffset': 25, 'endOffset': 26}, {'text': ['orang'], 'type': 'NOUN', 'score': 1.0, 'beginOffset': 26, 'endOffset': 27}, {'text': ['ramai'], 'type': 'ADJ', 'score': 1.0, 'beginOffset': 27, 'endOffset': 28}, {'text': ['yang'], 'type': 'PRON', 'score': 1.0, 'beginOffset': 28, 'endOffset': 29}, {'text': ['mahu'], 'type': 'ADV', 'score': 1.0, 'beginOffset': 29, 'endOffset': 30}, {'text': ['pulang'], 'type': 'VERB', 'score': 1.0, 'beginOffset': 30, 'endOffset': 31}, {'text': ['ke'], 'type': 'ADP', 'score': 1.0, 'beginOffset': 31, 'endOffset': 32}, {'text': ['kampung', 'halaman'], 'type': 'NOUN', 'score': 1.0, 'beginOffset': 32, 'endOffset': 34}, {'text': ['masing-masing'], 'type': 'DET', 'score': 1.0, 'beginOffset': 34, 'endOffset': 35}, {'text': ['.'], 'type': 'PUNCT', 'score': 1.0, 'beginOffset': 35, 'endOffset': 36}, {'text': ['Dalam'], 'type': 'ADP', 'score': 1.0, 'beginOffset': 36, 'endOffset': 37}, {'text': ['video'], 'type': 'NOUN', 'score': 1.0, 'beginOffset': 37, 'endOffset': 38}, {'text': ['pendek'], 'type': 'ADJ', 'score': 1.0, 'beginOffset': 38, 'endOffset': 39}, {'text': ['terbitan'], 'type': 'NOUN', 'score': 1.0, 'beginOffset': 39, 'endOffset': 40}, {'text': ['Jabatan', 'Keselamatan', 'Jalan', 'Raya'], 'type': 'PROPN', 'score': 1.0, 'beginOffset': 40, 'endOffset': 44}, {'text': ['('], 'type': 'PUNCT', 'score': 1.0, 'beginOffset': 44, 'endOffset': 45}, {'text': ['JKJR'], 'type': 'PROPN', 'score': 1.0, 'beginOffset': 45, 'endOffset': 46}, {'text': [')'], 'type': 'PUNCT', 'score': 1.0, 'beginOffset': 46, 'endOffset': 47}, {'text': ['itu'], 'type': 'DET', 'score': 1.0, 'beginOffset': 47, 'endOffset': 48}, {'text': [','], 'type': 'PUNCT', 'score': 1.0, 'beginOffset': 48, 'endOffset': 49}, {'text': ['Dr', 'Mahathir'], 'type': 'PROPN', 'score': 1.0, 'beginOffset': 49, 'endOffset': 51}, {'text': ['menasihati'], 'type': 'VERB', 'score': 1.0, 'beginOffset': 51, 'endOffset': 52}, {'text': ['mereka'], 'type': 'PRON', 'score': 1.0, 'beginOffset': 52, 'endOffset': 53}, {'text': ['supaya'], 'type': 'SCONJ', 'score': 1.0, 'beginOffset': 53, 'endOffset': 54}, {'text': ['berhenti', 'berehat'], 'type': 'VERB', 'score': 1.0, 'beginOffset': 54, 'endOffset': 56}, {'text': ['dan'], 'type': 'CCONJ', 'score': 1.0, 'beginOffset': 56, 'endOffset': 57}, {'text': ['tidur'], 'type': 'VERB', 'score': 1.0, 'beginOffset': 57, 'endOffset': 58}, {'text': ['sebentar'], 'type': 'NOUN', 'score': 1.0, 'beginOffset': 58, 'endOffset': 59}, {'text': ['sekiranya'], 'type': 'SCONJ', 'score': 1.0, 'beginOffset': 59, 'endOffset': 60}, {'text': ['mengantuk'], 'type': 'ADJ', 'score': 1.0, 'beginOffset': 60, 'endOffset': 61}, {'text': ['ketika'], 'type': 'SCONJ', 'score': 1.0, 'beginOffset': 61, 'endOffset': 62}, {'text': ['memandu'], 'type': 'VERB', 'score': 1.0, 'beginOffset': 62, 'endOffset': 63}, {'text': ['.'], 'type': 'PUNCT', 'score': 1.0, 'beginOffset': 63, 'endOffset': 64}]\n",
      "tiny-albert\n"
     ]
    },
    {
     "name": "stderr",
     "output_type": "stream",
     "text": [
      "DEBUG:urllib3.connectionpool:https://f000.backblazeb2.com:443 \"HEAD /file/malaya-model/pos/tiny-albert/model.pb HTTP/1.1\" 200 0\n",
      "DEBUG:urllib3.connectionpool:Starting new HTTPS connection (1): f000.backblazeb2.com:443\n",
      "DEBUG:urllib3.connectionpool:https://f000.backblazeb2.com:443 \"HEAD /file/malaya-model/bpe/sp10m.cased.v10.vocab HTTP/1.1\" 200 0\n",
      "DEBUG:urllib3.connectionpool:Starting new HTTPS connection (1): f000.backblazeb2.com:443\n",
      "DEBUG:urllib3.connectionpool:https://f000.backblazeb2.com:443 \"HEAD /file/malaya-model/bpe/sp10m.cased.v10.model HTTP/1.1\" 200 0\n",
      "DEBUG:urllib3.connectionpool:Starting new HTTPS connection (1): f000.backblazeb2.com:443\n",
      "DEBUG:urllib3.connectionpool:https://f000.backblazeb2.com:443 \"HEAD /file/malaya-model/setting/pos.json HTTP/1.1\" 200 0\n",
      "DEBUG:urllib3.connectionpool:Starting new HTTPS connection (1): f000.backblazeb2.com:443\n",
      "DEBUG:urllib3.connectionpool:https://f000.backblazeb2.com:443 \"HEAD /file/malaya-model/pos/tiny-albert/version HTTP/1.1\" 404 0\n",
      "DEBUG:urllib3.connectionpool:Starting new HTTPS connection (1): f000.backblazeb2.com:443\n"
     ]
    },
    {
     "name": "stdout",
     "output_type": "stream",
     "text": [
      "downloading frozen model to /Users/huseinzolkepli/Malaya/pos/tiny-albert/model.pb\n"
     ]
    },
    {
     "name": "stderr",
     "output_type": "stream",
     "text": [
      "DEBUG:urllib3.connectionpool:https://f000.backblazeb2.com:443 \"GET /file/malaya-model/pos/tiny-albert/model.pb HTTP/1.1\" 200 23513798\n",
      "23.0MB [00:04, 5.68MB/s]                          \n",
      "DEBUG:urllib3.connectionpool:Starting new HTTPS connection (1): f000.backblazeb2.com:443\n"
     ]
    },
    {
     "name": "stdout",
     "output_type": "stream",
     "text": [
      "downloading frozen vocab to /Users/huseinzolkepli/Malaya/pos/tiny-albert/sp10m.cased.v10.vocab\n"
     ]
    },
    {
     "name": "stderr",
     "output_type": "stream",
     "text": [
      "DEBUG:urllib3.connectionpool:https://f000.backblazeb2.com:443 \"GET /file/malaya-model/bpe/sp10m.cased.v10.vocab HTTP/1.1\" 200 569013\n",
      "184%|██████████| 1.00/0.54 [00:00<00:00, 1.22MB/s]\n",
      "DEBUG:urllib3.connectionpool:Starting new HTTPS connection (1): f000.backblazeb2.com:443\n"
     ]
    },
    {
     "name": "stdout",
     "output_type": "stream",
     "text": [
      "downloading frozen tokenizer to /Users/huseinzolkepli/Malaya/pos/tiny-albert/sp10m.cased.v10.model\n"
     ]
    },
    {
     "name": "stderr",
     "output_type": "stream",
     "text": [
      "DEBUG:urllib3.connectionpool:https://f000.backblazeb2.com:443 \"GET /file/malaya-model/bpe/sp10m.cased.v10.model HTTP/1.1\" 200 778641\n",
      "135%|██████████| 1.00/0.74 [00:01<00:00, 1.21s/MB]\n",
      "DEBUG:urllib3.connectionpool:Starting new HTTPS connection (1): f000.backblazeb2.com:443\n"
     ]
    },
    {
     "name": "stdout",
     "output_type": "stream",
     "text": [
      "downloading frozen setting to /Users/huseinzolkepli/Malaya/pos/tiny-albert/pos.json\n"
     ]
    },
    {
     "name": "stderr",
     "output_type": "stream",
     "text": [
      "DEBUG:urllib3.connectionpool:https://f000.backblazeb2.com:443 \"GET /file/malaya-model/setting/pos.json HTTP/1.1\" 200 825070\n",
      "127%|██████████| 1.00/0.79 [00:01<00:00, 1.12s/MB]\n",
      "INFO:root:running pos/tiny-albert using device /device:CPU:0\n",
      "DEBUG:root:['[CLS]', '▁KUALA', '▁LUMPUR', '▁:', '▁Sempena', '▁sambutan', '▁Aidilfitri', '▁minggu', '▁depan', '▁,', '▁Perdana', '▁Menteri', '▁Tun', '▁Dr', '▁Mahathir', '▁Mohamad', '▁dan', '▁Menteri', '▁Pengangkutan', '▁Anthony', '▁Loke', '▁Siew', '▁Fook', '▁menit', 'ip', 'kan', '▁pesanan', '▁khas', '▁kepada', '▁orang', '▁ramai', '▁yang', '▁mahu', '▁pulang', '▁ke', '▁kampung', '▁halaman', '▁masing', '-', 'masing', '▁', '.', '▁Dalam', '▁video', '▁pendek', '▁terbitan', '▁Jabatan', '▁Keselamatan', '▁Jalan', '▁Raya', '▁', '(', '▁', 'JK', 'JR', '▁', ')', '▁itu', '▁,', '▁Dr', '▁Mahathir', '▁menasihati', '▁mereka', '▁supaya', '▁berhenti', '▁berehat', '▁dan', '▁tidur', '▁sebentar', '▁sekiranya', '▁mengantuk', '▁ketika', '▁memandu', '▁', '.', '[SEP]']\n",
      "DEBUG:root:['[CLS]', '▁memperkenalkan', '▁Hu', 'se', 'in', '▁,', '▁dia', '▁sangat', '▁comel', '▁,', '▁berumur', '▁25', '▁tahun', '▁,', '▁bangsa', '▁melayu', '▁,', '▁agama', '▁islam', '▁,', '▁tinggal', '▁di', '▁cyberjaya', '▁malaysia', '▁,', '▁bercakap', '▁bahasa', '▁melayu', '▁,', '▁semua', '▁membaca', '▁buku', '▁undang', '-', 'undang', '▁kewangan', '▁,', '▁dengar', '▁laju', '▁Siti', '▁Nurhaliza', '▁', '-', '▁Seluruh', '▁Cinta', '▁sambil', '▁makan', '▁ayam', '▁goreng', '▁KFC', '[SEP]']\n",
      "DEBUG:root:['[CLS]', '▁KUALA', '▁LUMPUR', '▁:', '▁Sempena', '▁sambutan', '▁Aidilfitri', '▁minggu', '▁depan', '▁,', '▁Perdana', '▁Menteri', '▁Tun', '▁Dr', '▁Mahathir', '▁Mohamad', '▁dan', '▁Menteri', '▁Pengangkutan', '▁Anthony', '▁Loke', '▁Siew', '▁Fook', '▁menit', 'ip', 'kan', '▁pesanan', '▁khas', '▁kepada', '▁orang', '▁ramai', '▁yang', '▁mahu', '▁pulang', '▁ke', '▁kampung', '▁halaman', '▁masing', '-', 'masing', '▁', '.', '▁Dalam', '▁video', '▁pendek', '▁terbitan', '▁Jabatan', '▁Keselamatan', '▁Jalan', '▁Raya', '▁', '(', '▁', 'JK', 'JR', '▁', ')', '▁itu', '▁,', '▁Dr', '▁Mahathir', '▁menasihati', '▁mereka', '▁supaya', '▁berhenti', '▁berehat', '▁dan', '▁tidur', '▁sebentar', '▁sekiranya', '▁mengantuk', '▁ketika', '▁memandu', '▁', '.', '[SEP]']\n",
      "DEBUG:urllib3.connectionpool:Starting new HTTPS connection (1): f000.backblazeb2.com:443\n"
     ]
    },
    {
     "name": "stdout",
     "output_type": "stream",
     "text": [
      "[('KUALA', 'PUNCT'), ('LUMPUR', 'PROPN'), (':', 'PUNCT'), ('Sempena', 'ADP'), ('sambutan', 'NOUN'), ('Aidilfitri', 'PROPN'), ('minggu', 'PROPN'), ('depan', 'PROPN'), (',', 'PUNCT'), ('Perdana', 'PROPN'), ('Menteri', 'PROPN'), ('Tun', 'PROPN'), ('Dr', 'PROPN'), ('Mahathir', 'PROPN'), ('Mohamad', 'PROPN'), ('dan', 'CCONJ'), ('Menteri', 'PROPN'), ('Pengangkutan', 'PROPN'), ('Anthony', 'PROPN'), ('Loke', 'PROPN'), ('Siew', 'PROPN'), ('Fook', 'PROPN'), ('menitipkan', 'NOUN'), ('pesanan', 'NOUN'), ('khas', 'ADJ'), ('kepada', 'ADP'), ('orang', 'NOUN'), ('ramai', 'ADJ'), ('yang', 'PRON'), ('mahu', 'ADV'), ('pulang', 'VERB'), ('ke', 'ADP'), ('kampung', 'NOUN'), ('halaman', 'NOUN'), ('masing-masing', 'DET'), ('.', 'PUNCT'), ('Dalam', 'ADP'), ('video', 'NOUN'), ('pendek', 'NOUN'), ('terbitan', 'NOUN'), ('Jabatan', 'NOUN'), ('Keselamatan', 'PROPN'), ('Jalan', 'PROPN'), ('Raya', 'PROPN'), ('(', 'PUNCT'), ('JKJR', 'PUNCT'), (')', 'PUNCT'), ('itu', 'DET'), (',', 'PUNCT'), ('Dr', 'PROPN'), ('Mahathir', 'PROPN'), ('menasihati', 'VERB'), ('mereka', 'PRON'), ('supaya', 'SCONJ'), ('berhenti', 'VERB'), ('berehat', 'VERB'), ('dan', 'CCONJ'), ('tidur', 'VERB'), ('sebentar', 'ADV'), ('sekiranya', 'ADV'), ('mengantuk', 'VERB'), ('ketika', 'SCONJ'), ('memandu', 'VERB'), ('.', 'PUNCT')]\n",
      "[('memperkenalkan', 'VERB'), ('Husein', 'PROPN'), (',', 'PUNCT'), ('dia', 'PRON'), ('sangat', 'ADV'), ('comel', 'VERB'), (',', 'PUNCT'), ('berumur', 'VERB'), ('25', 'NUM'), ('tahun', 'NOUN'), (',', 'PUNCT'), ('bangsa', 'NOUN'), ('melayu', 'NOUN'), (',', 'PUNCT'), ('agama', 'NOUN'), ('islam', 'NOUN'), (',', 'PUNCT'), ('tinggal', 'VERB'), ('di', 'ADP'), ('cyberjaya', 'PROPN'), ('malaysia', 'PROPN'), (',', 'PUNCT'), ('bercakap', 'VERB'), ('bahasa', 'NOUN'), ('melayu', 'NOUN'), (',', 'PUNCT'), ('semua', 'DET'), ('membaca', 'VERB'), ('buku', 'NOUN'), ('undang-undang', 'NOUN'), ('kewangan', 'NOUN'), (',', 'PUNCT'), ('dengar', 'ADV'), ('laju', 'NOUN'), ('Siti', 'PROPN'), ('Nurhaliza', 'PROPN'), ('-', 'PUNCT'), ('Seluruh', 'DET'), ('Cinta', 'PROPN'), ('sambil', 'ADP'), ('makan', 'VERB'), ('ayam', 'NOUN'), ('goreng', 'VERB'), ('KFC', 'PROPN')]\n",
      "[{'text': ['KUALA'], 'type': 'PUNCT', 'score': 1.0, 'beginOffset': 0, 'endOffset': 1}, {'text': ['LUMPUR'], 'type': 'PROPN', 'score': 1.0, 'beginOffset': 1, 'endOffset': 2}, {'text': [':'], 'type': 'PUNCT', 'score': 1.0, 'beginOffset': 2, 'endOffset': 3}, {'text': ['Sempena'], 'type': 'ADP', 'score': 1.0, 'beginOffset': 3, 'endOffset': 4}, {'text': ['sambutan'], 'type': 'NOUN', 'score': 1.0, 'beginOffset': 4, 'endOffset': 5}, {'text': ['Aidilfitri', 'minggu', 'depan'], 'type': 'PROPN', 'score': 1.0, 'beginOffset': 5, 'endOffset': 8}, {'text': [','], 'type': 'PUNCT', 'score': 1.0, 'beginOffset': 8, 'endOffset': 9}, {'text': ['Perdana', 'Menteri', 'Tun', 'Dr', 'Mahathir', 'Mohamad'], 'type': 'PROPN', 'score': 1.0, 'beginOffset': 9, 'endOffset': 15}, {'text': ['dan'], 'type': 'CCONJ', 'score': 1.0, 'beginOffset': 15, 'endOffset': 16}, {'text': ['Menteri', 'Pengangkutan', 'Anthony', 'Loke', 'Siew', 'Fook'], 'type': 'PROPN', 'score': 1.0, 'beginOffset': 16, 'endOffset': 22}, {'text': ['menitipkan', 'pesanan'], 'type': 'NOUN', 'score': 1.0, 'beginOffset': 22, 'endOffset': 24}, {'text': ['khas'], 'type': 'ADJ', 'score': 1.0, 'beginOffset': 24, 'endOffset': 25}, {'text': ['kepada'], 'type': 'ADP', 'score': 1.0, 'beginOffset': 25, 'endOffset': 26}, {'text': ['orang'], 'type': 'NOUN', 'score': 1.0, 'beginOffset': 26, 'endOffset': 27}, {'text': ['ramai'], 'type': 'ADJ', 'score': 1.0, 'beginOffset': 27, 'endOffset': 28}, {'text': ['yang'], 'type': 'PRON', 'score': 1.0, 'beginOffset': 28, 'endOffset': 29}, {'text': ['mahu'], 'type': 'ADV', 'score': 1.0, 'beginOffset': 29, 'endOffset': 30}, {'text': ['pulang'], 'type': 'VERB', 'score': 1.0, 'beginOffset': 30, 'endOffset': 31}, {'text': ['ke'], 'type': 'ADP', 'score': 1.0, 'beginOffset': 31, 'endOffset': 32}, {'text': ['kampung', 'halaman'], 'type': 'NOUN', 'score': 1.0, 'beginOffset': 32, 'endOffset': 34}, {'text': ['masing-masing'], 'type': 'DET', 'score': 1.0, 'beginOffset': 34, 'endOffset': 35}, {'text': ['.'], 'type': 'PUNCT', 'score': 1.0, 'beginOffset': 35, 'endOffset': 36}, {'text': ['Dalam'], 'type': 'ADP', 'score': 1.0, 'beginOffset': 36, 'endOffset': 37}, {'text': ['video', 'pendek', 'terbitan', 'Jabatan'], 'type': 'NOUN', 'score': 1.0, 'beginOffset': 37, 'endOffset': 41}, {'text': ['Keselamatan', 'Jalan', 'Raya'], 'type': 'PROPN', 'score': 1.0, 'beginOffset': 41, 'endOffset': 44}, {'text': ['(', 'JKJR', ')'], 'type': 'PUNCT', 'score': 1.0, 'beginOffset': 44, 'endOffset': 47}, {'text': ['itu'], 'type': 'DET', 'score': 1.0, 'beginOffset': 47, 'endOffset': 48}, {'text': [','], 'type': 'PUNCT', 'score': 1.0, 'beginOffset': 48, 'endOffset': 49}, {'text': ['Dr', 'Mahathir'], 'type': 'PROPN', 'score': 1.0, 'beginOffset': 49, 'endOffset': 51}, {'text': ['menasihati'], 'type': 'VERB', 'score': 1.0, 'beginOffset': 51, 'endOffset': 52}, {'text': ['mereka'], 'type': 'PRON', 'score': 1.0, 'beginOffset': 52, 'endOffset': 53}, {'text': ['supaya'], 'type': 'SCONJ', 'score': 1.0, 'beginOffset': 53, 'endOffset': 54}, {'text': ['berhenti', 'berehat'], 'type': 'VERB', 'score': 1.0, 'beginOffset': 54, 'endOffset': 56}, {'text': ['dan'], 'type': 'CCONJ', 'score': 1.0, 'beginOffset': 56, 'endOffset': 57}, {'text': ['tidur'], 'type': 'VERB', 'score': 1.0, 'beginOffset': 57, 'endOffset': 58}, {'text': ['sebentar', 'sekiranya'], 'type': 'ADV', 'score': 1.0, 'beginOffset': 58, 'endOffset': 60}, {'text': ['mengantuk'], 'type': 'VERB', 'score': 1.0, 'beginOffset': 60, 'endOffset': 61}, {'text': ['ketika'], 'type': 'SCONJ', 'score': 1.0, 'beginOffset': 61, 'endOffset': 62}, {'text': ['memandu'], 'type': 'VERB', 'score': 1.0, 'beginOffset': 62, 'endOffset': 63}, {'text': ['.'], 'type': 'PUNCT', 'score': 1.0, 'beginOffset': 63, 'endOffset': 64}]\n",
      "xlnet\n"
     ]
    },
    {
     "name": "stderr",
     "output_type": "stream",
     "text": [
      "DEBUG:urllib3.connectionpool:https://f000.backblazeb2.com:443 \"HEAD /file/malaya-model/pos/xlnet/model.pb HTTP/1.1\" 200 0\n",
      "DEBUG:urllib3.connectionpool:Starting new HTTPS connection (1): f000.backblazeb2.com:443\n",
      "DEBUG:urllib3.connectionpool:https://f000.backblazeb2.com:443 \"HEAD /file/malaya-model/bpe/sp10m.cased.v9.vocab HTTP/1.1\" 200 0\n",
      "DEBUG:urllib3.connectionpool:Starting new HTTPS connection (1): f000.backblazeb2.com:443\n",
      "DEBUG:urllib3.connectionpool:https://f000.backblazeb2.com:443 \"HEAD /file/malaya-model/bpe/sp10m.cased.v9.model HTTP/1.1\" 200 0\n",
      "DEBUG:urllib3.connectionpool:Starting new HTTPS connection (1): f000.backblazeb2.com:443\n",
      "DEBUG:urllib3.connectionpool:https://f000.backblazeb2.com:443 \"HEAD /file/malaya-model/setting/pos.json HTTP/1.1\" 200 0\n",
      "DEBUG:urllib3.connectionpool:Starting new HTTPS connection (1): f000.backblazeb2.com:443\n",
      "DEBUG:urllib3.connectionpool:https://f000.backblazeb2.com:443 \"HEAD /file/malaya-model/pos/xlnet/version HTTP/1.1\" 404 0\n",
      "DEBUG:urllib3.connectionpool:Starting new HTTPS connection (1): f000.backblazeb2.com:443\n"
     ]
    },
    {
     "name": "stdout",
     "output_type": "stream",
     "text": [
      "downloading frozen model to /Users/huseinzolkepli/Malaya/pos/xlnet/model.pb\n"
     ]
    },
    {
     "name": "stderr",
     "output_type": "stream",
     "text": [
      "DEBUG:urllib3.connectionpool:https://f000.backblazeb2.com:443 \"GET /file/malaya-model/pos/xlnet/model.pb HTTP/1.1\" 200 468267997\n",
      "100%|██████████| 447/447 [01:04<00:00, 6.89MB/s] \n",
      "DEBUG:urllib3.connectionpool:Starting new HTTPS connection (1): f000.backblazeb2.com:443\n"
     ]
    },
    {
     "name": "stdout",
     "output_type": "stream",
     "text": [
      "downloading frozen vocab to /Users/huseinzolkepli/Malaya/pos/xlnet/sp10m.cased.v9.vocab\n"
     ]
    },
    {
     "name": "stderr",
     "output_type": "stream",
     "text": [
      "DEBUG:urllib3.connectionpool:https://f000.backblazeb2.com:443 \"GET /file/malaya-model/bpe/sp10m.cased.v9.vocab HTTP/1.1\" 200 568997\n",
      "184%|██████████| 1.00/0.54 [00:00<00:00, 1.02MB/s]\n",
      "DEBUG:urllib3.connectionpool:Starting new HTTPS connection (1): f000.backblazeb2.com:443\n"
     ]
    },
    {
     "name": "stdout",
     "output_type": "stream",
     "text": [
      "downloading frozen tokenizer to /Users/huseinzolkepli/Malaya/pos/xlnet/sp10m.cased.v9.model\n"
     ]
    },
    {
     "name": "stderr",
     "output_type": "stream",
     "text": [
      "DEBUG:urllib3.connectionpool:https://f000.backblazeb2.com:443 \"GET /file/malaya-model/bpe/sp10m.cased.v9.model HTTP/1.1\" 200 778744\n",
      "135%|██████████| 1.00/0.74 [00:01<00:00, 1.19s/MB]\n",
      "DEBUG:urllib3.connectionpool:Starting new HTTPS connection (1): f000.backblazeb2.com:443\n"
     ]
    },
    {
     "name": "stdout",
     "output_type": "stream",
     "text": [
      "downloading frozen setting to /Users/huseinzolkepli/Malaya/pos/xlnet/pos.json\n"
     ]
    },
    {
     "name": "stderr",
     "output_type": "stream",
     "text": [
      "DEBUG:urllib3.connectionpool:https://f000.backblazeb2.com:443 \"GET /file/malaya-model/setting/pos.json HTTP/1.1\" 200 825070\n",
      "127%|██████████| 1.00/0.79 [00:01<00:00, 1.17s/MB]\n",
      "INFO:root:running pos/xlnet using device /device:CPU:0\n",
      "DEBUG:root:['▁KUALA', '▁LUMPUR', '▁:', '▁Sempena', '▁sambutan', '▁Aidilfitri', '▁minggu', '▁depan', '▁,', '▁Perdana', '▁Menteri', '▁Tun', '▁Dr', '▁Mahathir', '▁Mohamad', '▁dan', '▁Menteri', '▁Pengangkutan', '▁Anthony', '▁Loke', '▁Siew', '▁Fook', '▁menit', 'ip', 'kan', '▁pesanan', '▁khas', '▁kepada', '▁orang', '▁ramai', '▁yang', '▁mahu', '▁pulang', '▁ke', '▁kampung', '▁halaman', '▁masing', '-', 'masing', '▁', '.', '▁Dalam', '▁video', '▁pendek', '▁terbitan', '▁Jabatan', '▁Keselamatan', '▁Jalan', '▁Raya', '▁', '(', '▁', 'JK', 'JR', '▁', ')', '▁itu', '▁,', '▁Dr', '▁Mahathir', '▁menasihati', '▁mereka', '▁supaya', '▁berhenti', '▁berehat', '▁dan', '▁tidur', '▁sebentar', '▁sekiranya', '▁mengantuk', '▁ketika', '▁memandu', '▁', '.']\n",
      "DEBUG:root:[2208, 2516, 29, 13383, 4541, 3419, 758, 314, 20, 685, 247, 806, 383, 1096, 1515, 24, 247, 5605, 13893, 14089, 20774, 27736, 2340, 4700, 37, 4856, 1492, 72, 50, 396, 22, 943, 863, 32, 552, 5119, 1077, 13, 1384, 19, 9, 341, 596, 2449, 13974, 871, 5427, 708, 688, 19, 10, 19, 4710, 22348, 19, 11, 41, 20, 383, 1096, 21767, 88, 757, 1606, 15738, 24, 198, 4049, 2479, 7529, 271, 7644, 19, 9, 4, 3]\n",
      "DEBUG:root:['▁memperkenalkan', '▁Hu', 'se', 'in', '▁,', '▁dia', '▁sangat', '▁comel', '▁,', '▁berumur', '▁25', '▁tahun', '▁,', '▁bangsa', '▁melayu', '▁,', '▁agama', '▁islam', '▁,', '▁tinggal', '▁di', '▁cyberjaya', '▁malaysia', '▁,', '▁bercakap', '▁bahasa', '▁melayu', '▁,', '▁semua', '▁membaca', '▁buku', '▁undang', '-', 'undang', '▁kewangan', '▁,', '▁dengar', '▁laju', '▁Siti', '▁Nurhaliza', '▁', '-', '▁Seluruh', '▁Cinta', '▁sambil', '▁makan', '▁ayam', '▁goreng', '▁KFC']\n",
      "DEBUG:root:[4995, 2135, 372, 59, 20, 42, 150, 2698, 20, 4580, 1145, 73, 20, 1534, 1255, 20, 523, 2066, 20, 634, 23, 30431, 1836, 20, 3824, 645, 1255, 20, 86, 1524, 598, 1722, 13, 998, 1662, 20, 1147, 2620, 3123, 21002, 19, 13, 8671, 2760, 595, 131, 638, 952, 7621, 4, 3]\n",
      "DEBUG:root:['▁KUALA', '▁LUMPUR', '▁:', '▁Sempena', '▁sambutan', '▁Aidilfitri', '▁minggu', '▁depan', '▁,', '▁Perdana', '▁Menteri', '▁Tun', '▁Dr', '▁Mahathir', '▁Mohamad', '▁dan', '▁Menteri', '▁Pengangkutan', '▁Anthony', '▁Loke', '▁Siew', '▁Fook', '▁menit', 'ip', 'kan', '▁pesanan', '▁khas', '▁kepada', '▁orang', '▁ramai', '▁yang', '▁mahu', '▁pulang', '▁ke', '▁kampung', '▁halaman', '▁masing', '-', 'masing', '▁', '.', '▁Dalam', '▁video', '▁pendek', '▁terbitan', '▁Jabatan', '▁Keselamatan', '▁Jalan', '▁Raya', '▁', '(', '▁', 'JK', 'JR', '▁', ')', '▁itu', '▁,', '▁Dr', '▁Mahathir', '▁menasihati', '▁mereka', '▁supaya', '▁berhenti', '▁berehat', '▁dan', '▁tidur', '▁sebentar', '▁sekiranya', '▁mengantuk', '▁ketika', '▁memandu', '▁', '.']\n",
      "DEBUG:root:[2208, 2516, 29, 13383, 4541, 3419, 758, 314, 20, 685, 247, 806, 383, 1096, 1515, 24, 247, 5605, 13893, 14089, 20774, 27736, 2340, 4700, 37, 4856, 1492, 72, 50, 396, 22, 943, 863, 32, 552, 5119, 1077, 13, 1384, 19, 9, 341, 596, 2449, 13974, 871, 5427, 708, 688, 19, 10, 19, 4710, 22348, 19, 11, 41, 20, 383, 1096, 21767, 88, 757, 1606, 15738, 24, 198, 4049, 2479, 7529, 271, 7644, 19, 9, 4, 3]\n"
     ]
    },
    {
     "name": "stdout",
     "output_type": "stream",
     "text": [
      "[('KUALA', 'PROPN'), ('LUMPUR', 'NOUN'), (':', 'PUNCT'), ('Sempena', 'ADP'), ('sambutan', 'NOUN'), ('Aidilfitri', 'NOUN'), ('minggu', 'NOUN'), ('depan', 'NOUN'), (',', 'PUNCT'), ('Perdana', 'PROPN'), ('Menteri', 'PROPN'), ('Tun', 'PROPN'), ('Dr', 'PROPN'), ('Mahathir', 'PROPN'), ('Mohamad', 'PROPN'), ('dan', 'CCONJ'), ('Menteri', 'PROPN'), ('Pengangkutan', 'PROPN'), ('Anthony', 'PROPN'), ('Loke', 'PROPN'), ('Siew', 'PROPN'), ('Fook', 'PROPN'), ('menitipkan', 'VERB'), ('pesanan', 'NOUN'), ('khas', 'ADJ'), ('kepada', 'ADP'), ('orang', 'NOUN'), ('ramai', 'NOUN'), ('yang', 'PRON'), ('mahu', 'ADV'), ('pulang', 'VERB'), ('ke', 'ADP'), ('kampung', 'NOUN'), ('halaman', 'NOUN'), ('masing-masing', 'DET'), ('.', 'PUNCT'), ('Dalam', 'ADP'), ('video', 'NOUN'), ('pendek', 'ADJ'), ('terbitan', 'NOUN'), ('Jabatan', 'PROPN'), ('Keselamatan', 'PROPN'), ('Jalan', 'PROPN'), ('Raya', 'PROPN'), ('(', 'PUNCT'), ('JKJR', 'PROPN'), (')', 'PUNCT'), ('itu', 'DET'), (',', 'PUNCT'), ('Dr', 'PROPN'), ('Mahathir', 'PROPN'), ('menasihati', 'VERB'), ('mereka', 'PRON'), ('supaya', 'SCONJ'), ('berhenti', 'VERB'), ('berehat', 'VERB'), ('dan', 'CCONJ'), ('tidur', 'VERB'), ('sebentar', 'ADV'), ('sekiranya', 'SCONJ'), ('mengantuk', 'VERB'), ('ketika', 'ADP'), ('memandu', 'NOUN'), ('.', 'PUNCT')]\n",
      "[('memperkenalkan', 'VERB'), ('Husein', 'PROPN'), (',', 'PUNCT'), ('dia', 'PRON'), ('sangat', 'ADV'), ('comel', 'ADJ'), (',', 'PUNCT'), ('berumur', 'VERB'), ('25', 'NUM'), ('tahun', 'NOUN'), (',', 'PUNCT'), ('bangsa', 'NOUN'), ('melayu', 'NOUN'), (',', 'PUNCT'), ('agama', 'NOUN'), ('islam', 'PROPN'), (',', 'PUNCT'), ('tinggal', 'VERB'), ('di', 'ADP'), ('cyberjaya', 'PROPN'), ('malaysia', 'NOUN'), (',', 'PUNCT'), ('bercakap', 'VERB'), ('bahasa', 'NOUN'), ('melayu', 'PROPN'), (',', 'PUNCT'), ('semua', 'DET'), ('membaca', 'VERB'), ('buku', 'NOUN'), ('undang-undang', 'NOUN'), ('kewangan', 'NOUN'), (',', 'PUNCT'), ('dengar', 'PROPN'), ('laju', 'NOUN'), ('Siti', 'PROPN'), ('Nurhaliza', 'PROPN'), ('-', 'PUNCT'), ('Seluruh', 'DET'), ('Cinta', 'PROPN'), ('sambil', 'ADP'), ('makan', 'VERB'), ('ayam', 'NOUN'), ('goreng', 'VERB'), ('KFC', 'PROPN')]\n",
      "[{'text': ['KUALA', 'LUMPUR'], 'type': 'PROPN', 'score': 1.0, 'beginOffset': 0, 'endOffset': 2}, {'text': [':'], 'type': 'PUNCT', 'score': 1.0, 'beginOffset': 2, 'endOffset': 3}, {'text': ['Sempena'], 'type': 'ADP', 'score': 1.0, 'beginOffset': 3, 'endOffset': 4}, {'text': ['sambutan', 'Aidilfitri', 'minggu'], 'type': 'NOUN', 'score': 1.0, 'beginOffset': 4, 'endOffset': 7}, {'text': ['depan'], 'type': 'ADJ', 'score': 1.0, 'beginOffset': 7, 'endOffset': 8}, {'text': [','], 'type': 'PUNCT', 'score': 1.0, 'beginOffset': 8, 'endOffset': 9}, {'text': ['Perdana', 'Menteri', 'Tun', 'Dr', 'Mahathir', 'Mohamad'], 'type': 'PROPN', 'score': 1.0, 'beginOffset': 9, 'endOffset': 15}, {'text': ['dan'], 'type': 'CCONJ', 'score': 1.0, 'beginOffset': 15, 'endOffset': 16}, {'text': ['Menteri', 'Pengangkutan', 'Anthony', 'Loke', 'Siew', 'Fook'], 'type': 'PROPN', 'score': 1.0, 'beginOffset': 16, 'endOffset': 22}, {'text': ['menitipkan'], 'type': 'VERB', 'score': 1.0, 'beginOffset': 22, 'endOffset': 23}, {'text': ['pesanan'], 'type': 'NOUN', 'score': 1.0, 'beginOffset': 23, 'endOffset': 24}, {'text': ['khas'], 'type': 'ADJ', 'score': 1.0, 'beginOffset': 24, 'endOffset': 25}, {'text': ['kepada'], 'type': 'ADP', 'score': 1.0, 'beginOffset': 25, 'endOffset': 26}, {'text': ['orang'], 'type': 'NOUN', 'score': 1.0, 'beginOffset': 26, 'endOffset': 27}, {'text': ['ramai'], 'type': 'ADV', 'score': 1.0, 'beginOffset': 27, 'endOffset': 28}, {'text': ['yang'], 'type': 'PRON', 'score': 1.0, 'beginOffset': 28, 'endOffset': 29}, {'text': ['mahu'], 'type': 'ADV', 'score': 1.0, 'beginOffset': 29, 'endOffset': 30}, {'text': ['pulang'], 'type': 'VERB', 'score': 1.0, 'beginOffset': 30, 'endOffset': 31}, {'text': ['ke'], 'type': 'ADP', 'score': 1.0, 'beginOffset': 31, 'endOffset': 32}, {'text': ['kampung', 'halaman'], 'type': 'NOUN', 'score': 1.0, 'beginOffset': 32, 'endOffset': 34}, {'text': ['masing-masing'], 'type': 'DET', 'score': 1.0, 'beginOffset': 34, 'endOffset': 35}, {'text': ['.'], 'type': 'PUNCT', 'score': 1.0, 'beginOffset': 35, 'endOffset': 36}, {'text': ['Dalam'], 'type': 'ADP', 'score': 1.0, 'beginOffset': 36, 'endOffset': 37}, {'text': ['video'], 'type': 'NOUN', 'score': 1.0, 'beginOffset': 37, 'endOffset': 38}, {'text': ['pendek'], 'type': 'ADJ', 'score': 1.0, 'beginOffset': 38, 'endOffset': 39}, {'text': ['terbitan', 'Jabatan'], 'type': 'NOUN', 'score': 1.0, 'beginOffset': 39, 'endOffset': 41}, {'text': ['Keselamatan', 'Jalan', 'Raya'], 'type': 'PROPN', 'score': 1.0, 'beginOffset': 41, 'endOffset': 44}, {'text': ['('], 'type': 'PUNCT', 'score': 1.0, 'beginOffset': 44, 'endOffset': 45}, {'text': ['JKJR'], 'type': 'PROPN', 'score': 1.0, 'beginOffset': 45, 'endOffset': 46}, {'text': [')'], 'type': 'PUNCT', 'score': 1.0, 'beginOffset': 46, 'endOffset': 47}, {'text': ['itu'], 'type': 'DET', 'score': 1.0, 'beginOffset': 47, 'endOffset': 48}, {'text': [','], 'type': 'PUNCT', 'score': 1.0, 'beginOffset': 48, 'endOffset': 49}, {'text': ['Dr', 'Mahathir'], 'type': 'PROPN', 'score': 1.0, 'beginOffset': 49, 'endOffset': 51}, {'text': ['menasihati'], 'type': 'VERB', 'score': 1.0, 'beginOffset': 51, 'endOffset': 52}, {'text': ['mereka'], 'type': 'PRON', 'score': 1.0, 'beginOffset': 52, 'endOffset': 53}, {'text': ['supaya'], 'type': 'SCONJ', 'score': 1.0, 'beginOffset': 53, 'endOffset': 54}, {'text': ['berhenti', 'berehat'], 'type': 'VERB', 'score': 1.0, 'beginOffset': 54, 'endOffset': 56}, {'text': ['dan'], 'type': 'CCONJ', 'score': 1.0, 'beginOffset': 56, 'endOffset': 57}, {'text': ['tidur'], 'type': 'VERB', 'score': 1.0, 'beginOffset': 57, 'endOffset': 58}, {'text': ['sebentar'], 'type': 'ADV', 'score': 1.0, 'beginOffset': 58, 'endOffset': 59}, {'text': ['sekiranya'], 'type': 'SCONJ', 'score': 1.0, 'beginOffset': 59, 'endOffset': 60}, {'text': ['mengantuk'], 'type': 'VERB', 'score': 1.0, 'beginOffset': 60, 'endOffset': 61}, {'text': ['ketika'], 'type': 'ADP', 'score': 1.0, 'beginOffset': 61, 'endOffset': 62}, {'text': ['memandu'], 'type': 'NOUN', 'score': 1.0, 'beginOffset': 62, 'endOffset': 63}, {'text': ['.'], 'type': 'PUNCT', 'score': 1.0, 'beginOffset': 63, 'endOffset': 64}]\n"
     ]
    },
    {
     "name": "stderr",
     "output_type": "stream",
     "text": [
      "DEBUG:urllib3.connectionpool:Starting new HTTPS connection (1): f000.backblazeb2.com:443\n"
     ]
    },
    {
     "name": "stdout",
     "output_type": "stream",
     "text": [
      "alxlnet\n"
     ]
    },
    {
     "name": "stderr",
     "output_type": "stream",
     "text": [
      "DEBUG:urllib3.connectionpool:https://f000.backblazeb2.com:443 \"HEAD /file/malaya-model/pos/alxlnet/model.pb HTTP/1.1\" 200 0\n",
      "DEBUG:urllib3.connectionpool:Starting new HTTPS connection (1): f000.backblazeb2.com:443\n",
      "DEBUG:urllib3.connectionpool:https://f000.backblazeb2.com:443 \"HEAD /file/malaya-model/bpe/sp10m.cased.v9.vocab HTTP/1.1\" 200 0\n",
      "DEBUG:urllib3.connectionpool:Starting new HTTPS connection (1): f000.backblazeb2.com:443\n",
      "DEBUG:urllib3.connectionpool:https://f000.backblazeb2.com:443 \"HEAD /file/malaya-model/bpe/sp10m.cased.v9.model HTTP/1.1\" 200 0\n",
      "DEBUG:urllib3.connectionpool:Starting new HTTPS connection (1): f000.backblazeb2.com:443\n",
      "DEBUG:urllib3.connectionpool:https://f000.backblazeb2.com:443 \"HEAD /file/malaya-model/setting/pos.json HTTP/1.1\" 200 0\n",
      "DEBUG:urllib3.connectionpool:Starting new HTTPS connection (1): f000.backblazeb2.com:443\n",
      "DEBUG:urllib3.connectionpool:https://f000.backblazeb2.com:443 \"HEAD /file/malaya-model/pos/alxlnet/version HTTP/1.1\" 404 0\n",
      "DEBUG:urllib3.connectionpool:Starting new HTTPS connection (1): f000.backblazeb2.com:443\n"
     ]
    },
    {
     "name": "stdout",
     "output_type": "stream",
     "text": [
      "downloading frozen model to /Users/huseinzolkepli/Malaya/pos/alxlnet/model.pb\n"
     ]
    },
    {
     "name": "stderr",
     "output_type": "stream",
     "text": [
      "DEBUG:urllib3.connectionpool:https://f000.backblazeb2.com:443 \"GET /file/malaya-model/pos/alxlnet/model.pb HTTP/1.1\" 200 49122653\n",
      "100%|██████████| 47.0/46.8 [00:07<00:00, 6.03MB/s]\n",
      "DEBUG:urllib3.connectionpool:Starting new HTTPS connection (1): f000.backblazeb2.com:443\n"
     ]
    },
    {
     "name": "stdout",
     "output_type": "stream",
     "text": [
      "downloading frozen vocab to /Users/huseinzolkepli/Malaya/pos/alxlnet/sp10m.cased.v9.vocab\n"
     ]
    },
    {
     "name": "stderr",
     "output_type": "stream",
     "text": [
      "DEBUG:urllib3.connectionpool:https://f000.backblazeb2.com:443 \"GET /file/malaya-model/bpe/sp10m.cased.v9.vocab HTTP/1.1\" 200 568997\n",
      "184%|██████████| 1.00/0.54 [00:01<00:00, 1.02s/MB]\n",
      "DEBUG:urllib3.connectionpool:Starting new HTTPS connection (1): f000.backblazeb2.com:443\n"
     ]
    },
    {
     "name": "stdout",
     "output_type": "stream",
     "text": [
      "downloading frozen tokenizer to /Users/huseinzolkepli/Malaya/pos/alxlnet/sp10m.cased.v9.model\n"
     ]
    },
    {
     "name": "stderr",
     "output_type": "stream",
     "text": [
      "DEBUG:urllib3.connectionpool:https://f000.backblazeb2.com:443 \"GET /file/malaya-model/bpe/sp10m.cased.v9.model HTTP/1.1\" 200 778744\n",
      "135%|██████████| 1.00/0.74 [00:01<00:00, 1.07s/MB]\n",
      "DEBUG:urllib3.connectionpool:Starting new HTTPS connection (1): f000.backblazeb2.com:443\n"
     ]
    },
    {
     "name": "stdout",
     "output_type": "stream",
     "text": [
      "downloading frozen setting to /Users/huseinzolkepli/Malaya/pos/alxlnet/pos.json\n"
     ]
    },
    {
     "name": "stderr",
     "output_type": "stream",
     "text": [
      "DEBUG:urllib3.connectionpool:https://f000.backblazeb2.com:443 \"GET /file/malaya-model/setting/pos.json HTTP/1.1\" 200 825070\n",
      "127%|██████████| 1.00/0.79 [00:01<00:00, 1.15s/MB]\n",
      "INFO:root:running pos/alxlnet using device /device:CPU:0\n",
      "DEBUG:root:['▁KUALA', '▁LUMPUR', '▁:', '▁Sempena', '▁sambutan', '▁Aidilfitri', '▁minggu', '▁depan', '▁,', '▁Perdana', '▁Menteri', '▁Tun', '▁Dr', '▁Mahathir', '▁Mohamad', '▁dan', '▁Menteri', '▁Pengangkutan', '▁Anthony', '▁Loke', '▁Siew', '▁Fook', '▁menit', 'ip', 'kan', '▁pesanan', '▁khas', '▁kepada', '▁orang', '▁ramai', '▁yang', '▁mahu', '▁pulang', '▁ke', '▁kampung', '▁halaman', '▁masing', '-', 'masing', '▁', '.', '▁Dalam', '▁video', '▁pendek', '▁terbitan', '▁Jabatan', '▁Keselamatan', '▁Jalan', '▁Raya', '▁', '(', '▁', 'JK', 'JR', '▁', ')', '▁itu', '▁,', '▁Dr', '▁Mahathir', '▁menasihati', '▁mereka', '▁supaya', '▁berhenti', '▁berehat', '▁dan', '▁tidur', '▁sebentar', '▁sekiranya', '▁mengantuk', '▁ketika', '▁memandu', '▁', '.']\n",
      "DEBUG:root:[2208, 2516, 29, 13383, 4541, 3419, 758, 314, 20, 685, 247, 806, 383, 1096, 1515, 24, 247, 5605, 13893, 14089, 20774, 27736, 2340, 4700, 37, 4856, 1492, 72, 50, 396, 22, 943, 863, 32, 552, 5119, 1077, 13, 1384, 19, 9, 341, 596, 2449, 13974, 871, 5427, 708, 688, 19, 10, 19, 4710, 22348, 19, 11, 41, 20, 383, 1096, 21767, 88, 757, 1606, 15738, 24, 198, 4049, 2479, 7529, 271, 7644, 19, 9, 4, 3]\n",
      "DEBUG:root:['▁memperkenalkan', '▁Hu', 'se', 'in', '▁,', '▁dia', '▁sangat', '▁comel', '▁,', '▁berumur', '▁25', '▁tahun', '▁,', '▁bangsa', '▁melayu', '▁,', '▁agama', '▁islam', '▁,', '▁tinggal', '▁di', '▁cyberjaya', '▁malaysia', '▁,', '▁bercakap', '▁bahasa', '▁melayu', '▁,', '▁semua', '▁membaca', '▁buku', '▁undang', '-', 'undang', '▁kewangan', '▁,', '▁dengar', '▁laju', '▁Siti', '▁Nurhaliza', '▁', '-', '▁Seluruh', '▁Cinta', '▁sambil', '▁makan', '▁ayam', '▁goreng', '▁KFC']\n",
      "DEBUG:root:[4995, 2135, 372, 59, 20, 42, 150, 2698, 20, 4580, 1145, 73, 20, 1534, 1255, 20, 523, 2066, 20, 634, 23, 30431, 1836, 20, 3824, 645, 1255, 20, 86, 1524, 598, 1722, 13, 998, 1662, 20, 1147, 2620, 3123, 21002, 19, 13, 8671, 2760, 595, 131, 638, 952, 7621, 4, 3]\n",
      "DEBUG:root:['▁KUALA', '▁LUMPUR', '▁:', '▁Sempena', '▁sambutan', '▁Aidilfitri', '▁minggu', '▁depan', '▁,', '▁Perdana', '▁Menteri', '▁Tun', '▁Dr', '▁Mahathir', '▁Mohamad', '▁dan', '▁Menteri', '▁Pengangkutan', '▁Anthony', '▁Loke', '▁Siew', '▁Fook', '▁menit', 'ip', 'kan', '▁pesanan', '▁khas', '▁kepada', '▁orang', '▁ramai', '▁yang', '▁mahu', '▁pulang', '▁ke', '▁kampung', '▁halaman', '▁masing', '-', 'masing', '▁', '.', '▁Dalam', '▁video', '▁pendek', '▁terbitan', '▁Jabatan', '▁Keselamatan', '▁Jalan', '▁Raya', '▁', '(', '▁', 'JK', 'JR', '▁', ')', '▁itu', '▁,', '▁Dr', '▁Mahathir', '▁menasihati', '▁mereka', '▁supaya', '▁berhenti', '▁berehat', '▁dan', '▁tidur', '▁sebentar', '▁sekiranya', '▁mengantuk', '▁ketika', '▁memandu', '▁', '.']\n",
      "DEBUG:root:[2208, 2516, 29, 13383, 4541, 3419, 758, 314, 20, 685, 247, 806, 383, 1096, 1515, 24, 247, 5605, 13893, 14089, 20774, 27736, 2340, 4700, 37, 4856, 1492, 72, 50, 396, 22, 943, 863, 32, 552, 5119, 1077, 13, 1384, 19, 9, 341, 596, 2449, 13974, 871, 5427, 708, 688, 19, 10, 19, 4710, 22348, 19, 11, 41, 20, 383, 1096, 21767, 88, 757, 1606, 15738, 24, 198, 4049, 2479, 7529, 271, 7644, 19, 9, 4, 3]\n"
     ]
    },
    {
     "name": "stdout",
     "output_type": "stream",
     "text": [
      "[('KUALA', 'PROPN'), ('LUMPUR', 'PROPN'), (':', 'PUNCT'), ('Sempena', 'ADP'), ('sambutan', 'NOUN'), ('Aidilfitri', 'NOUN'), ('minggu', 'NOUN'), ('depan', 'ADJ'), (',', 'PUNCT'), ('Perdana', 'PROPN'), ('Menteri', 'PROPN'), ('Tun', 'PROPN'), ('Dr', 'PROPN'), ('Mahathir', 'PROPN'), ('Mohamad', 'PROPN'), ('dan', 'CCONJ'), ('Menteri', 'PROPN'), ('Pengangkutan', 'PROPN'), ('Anthony', 'PROPN'), ('Loke', 'PROPN'), ('Siew', 'PROPN'), ('Fook', 'PROPN'), ('menitipkan', 'VERB'), ('pesanan', 'NOUN'), ('khas', 'ADJ'), ('kepada', 'ADP'), ('orang', 'NOUN'), ('ramai', 'ADJ'), ('yang', 'PRON'), ('mahu', 'ADV'), ('pulang', 'VERB'), ('ke', 'ADP'), ('kampung', 'NOUN'), ('halaman', 'NOUN'), ('masing-masing', 'ADV'), ('.', 'PUNCT'), ('Dalam', 'ADP'), ('video', 'NOUN'), ('pendek', 'ADJ'), ('terbitan', 'ADP'), ('Jabatan', 'NOUN'), ('Keselamatan', 'PROPN'), ('Jalan', 'PROPN'), ('Raya', 'PROPN'), ('(', 'PUNCT'), ('JKJR', 'PROPN'), (')', 'PUNCT'), ('itu', 'DET'), (',', 'PUNCT'), ('Dr', 'PROPN'), ('Mahathir', 'PROPN'), ('menasihati', 'VERB'), ('mereka', 'PRON'), ('supaya', 'SCONJ'), ('berhenti', 'VERB'), ('berehat', 'VERB'), ('dan', 'CCONJ'), ('tidur', 'VERB'), ('sebentar', 'ADV'), ('sekiranya', 'SCONJ'), ('mengantuk', 'ADJ'), ('ketika', 'SCONJ'), ('memandu', 'VERB'), ('.', 'PUNCT')]\n",
      "[('memperkenalkan', 'VERB'), ('Husein', 'PROPN'), (',', 'PUNCT'), ('dia', 'PRON'), ('sangat', 'ADV'), ('comel', 'ADJ'), (',', 'PUNCT'), ('berumur', 'VERB'), ('25', 'NUM'), ('tahun', 'NOUN'), (',', 'PUNCT'), ('bangsa', 'NOUN'), ('melayu', 'PROPN'), (',', 'PUNCT'), ('agama', 'NOUN'), ('islam', 'PROPN'), (',', 'PUNCT'), ('tinggal', 'VERB'), ('di', 'ADP'), ('cyberjaya', 'PROPN'), ('malaysia', 'PROPN'), (',', 'PUNCT'), ('bercakap', 'VERB'), ('bahasa', 'NOUN'), ('melayu', 'PROPN'), (',', 'PUNCT'), ('semua', 'DET'), ('membaca', 'VERB'), ('buku', 'NOUN'), ('undang-undang', 'NOUN'), ('kewangan', 'NOUN'), (',', 'PUNCT'), ('dengar', 'VERB'), ('laju', 'NOUN'), ('Siti', 'PROPN'), ('Nurhaliza', 'PROPN'), ('-', 'PUNCT'), ('Seluruh', 'DET'), ('Cinta', 'PROPN'), ('sambil', 'ADP'), ('makan', 'VERB'), ('ayam', 'NOUN'), ('goreng', 'VERB'), ('KFC', 'PROPN')]\n",
      "[{'text': ['KUALA', 'LUMPUR'], 'type': 'PROPN', 'score': 1.0, 'beginOffset': 0, 'endOffset': 2}, {'text': [':'], 'type': 'PUNCT', 'score': 1.0, 'beginOffset': 2, 'endOffset': 3}, {'text': ['Sempena'], 'type': 'ADP', 'score': 1.0, 'beginOffset': 3, 'endOffset': 4}, {'text': ['sambutan', 'Aidilfitri', 'minggu'], 'type': 'NOUN', 'score': 1.0, 'beginOffset': 4, 'endOffset': 7}, {'text': ['depan'], 'type': 'ADJ', 'score': 1.0, 'beginOffset': 7, 'endOffset': 8}, {'text': [','], 'type': 'PUNCT', 'score': 1.0, 'beginOffset': 8, 'endOffset': 9}, {'text': ['Perdana', 'Menteri', 'Tun', 'Dr', 'Mahathir', 'Mohamad'], 'type': 'PROPN', 'score': 1.0, 'beginOffset': 9, 'endOffset': 15}, {'text': ['dan'], 'type': 'CCONJ', 'score': 1.0, 'beginOffset': 15, 'endOffset': 16}, {'text': ['Menteri', 'Pengangkutan', 'Anthony', 'Loke', 'Siew', 'Fook'], 'type': 'PROPN', 'score': 1.0, 'beginOffset': 16, 'endOffset': 22}, {'text': ['menitipkan'], 'type': 'VERB', 'score': 1.0, 'beginOffset': 22, 'endOffset': 23}, {'text': ['pesanan'], 'type': 'NOUN', 'score': 1.0, 'beginOffset': 23, 'endOffset': 24}, {'text': ['khas'], 'type': 'ADJ', 'score': 1.0, 'beginOffset': 24, 'endOffset': 25}, {'text': ['kepada'], 'type': 'ADP', 'score': 1.0, 'beginOffset': 25, 'endOffset': 26}, {'text': ['orang'], 'type': 'NOUN', 'score': 1.0, 'beginOffset': 26, 'endOffset': 27}, {'text': ['ramai'], 'type': 'ADJ', 'score': 1.0, 'beginOffset': 27, 'endOffset': 28}, {'text': ['yang'], 'type': 'PRON', 'score': 1.0, 'beginOffset': 28, 'endOffset': 29}, {'text': ['mahu'], 'type': 'ADV', 'score': 1.0, 'beginOffset': 29, 'endOffset': 30}, {'text': ['pulang'], 'type': 'VERB', 'score': 1.0, 'beginOffset': 30, 'endOffset': 31}, {'text': ['ke'], 'type': 'ADP', 'score': 1.0, 'beginOffset': 31, 'endOffset': 32}, {'text': ['kampung', 'halaman'], 'type': 'NOUN', 'score': 1.0, 'beginOffset': 32, 'endOffset': 34}, {'text': ['masing-masing'], 'type': 'ADV', 'score': 1.0, 'beginOffset': 34, 'endOffset': 35}, {'text': ['.'], 'type': 'PUNCT', 'score': 1.0, 'beginOffset': 35, 'endOffset': 36}, {'text': ['Dalam'], 'type': 'ADP', 'score': 1.0, 'beginOffset': 36, 'endOffset': 37}, {'text': ['video'], 'type': 'NOUN', 'score': 1.0, 'beginOffset': 37, 'endOffset': 38}, {'text': ['pendek'], 'type': 'ADJ', 'score': 1.0, 'beginOffset': 38, 'endOffset': 39}, {'text': ['terbitan', 'Jabatan', 'Keselamatan'], 'type': 'NOUN', 'score': 1.0, 'beginOffset': 39, 'endOffset': 42}, {'text': ['Jalan', 'Raya'], 'type': 'PROPN', 'score': 1.0, 'beginOffset': 42, 'endOffset': 44}, {'text': ['('], 'type': 'PUNCT', 'score': 1.0, 'beginOffset': 44, 'endOffset': 45}, {'text': ['JKJR'], 'type': 'PROPN', 'score': 1.0, 'beginOffset': 45, 'endOffset': 46}, {'text': [')'], 'type': 'PUNCT', 'score': 1.0, 'beginOffset': 46, 'endOffset': 47}, {'text': ['itu'], 'type': 'DET', 'score': 1.0, 'beginOffset': 47, 'endOffset': 48}, {'text': [','], 'type': 'PUNCT', 'score': 1.0, 'beginOffset': 48, 'endOffset': 49}, {'text': ['Dr', 'Mahathir'], 'type': 'PROPN', 'score': 1.0, 'beginOffset': 49, 'endOffset': 51}, {'text': ['menasihati'], 'type': 'VERB', 'score': 1.0, 'beginOffset': 51, 'endOffset': 52}, {'text': ['mereka'], 'type': 'PRON', 'score': 1.0, 'beginOffset': 52, 'endOffset': 53}, {'text': ['supaya'], 'type': 'SCONJ', 'score': 1.0, 'beginOffset': 53, 'endOffset': 54}, {'text': ['berhenti', 'berehat'], 'type': 'VERB', 'score': 1.0, 'beginOffset': 54, 'endOffset': 56}, {'text': ['dan'], 'type': 'CCONJ', 'score': 1.0, 'beginOffset': 56, 'endOffset': 57}, {'text': ['tidur'], 'type': 'VERB', 'score': 1.0, 'beginOffset': 57, 'endOffset': 58}, {'text': ['sebentar'], 'type': 'ADV', 'score': 1.0, 'beginOffset': 58, 'endOffset': 59}, {'text': ['sekiranya'], 'type': 'SCONJ', 'score': 1.0, 'beginOffset': 59, 'endOffset': 60}, {'text': ['mengantuk'], 'type': 'ADJ', 'score': 1.0, 'beginOffset': 60, 'endOffset': 61}, {'text': ['ketika'], 'type': 'SCONJ', 'score': 1.0, 'beginOffset': 61, 'endOffset': 62}, {'text': ['memandu'], 'type': 'VERB', 'score': 1.0, 'beginOffset': 62, 'endOffset': 63}, {'text': ['.'], 'type': 'PUNCT', 'score': 1.0, 'beginOffset': 63, 'endOffset': 64}]\n"
     ]
    }
   ],
   "source": [
    "models = malaya.pos.available_transformer()\n",
    "for m in models.index:\n",
    "    print(m)\n",
    "    model = malaya.pos.transformer(model = m)\n",
    "    print(model.predict(string))\n",
    "    print(model.predict(string1))\n",
    "    print(model.analyze(string))\n",
    "    malaya.utils.delete_cache(f'pos/{m}')\n",
    "    del model"
   ]
  },
  {
   "cell_type": "code",
   "execution_count": null,
   "id": "romance-blocking",
   "metadata": {},
   "outputs": [],
   "source": []
  }
 ],
 "metadata": {
  "kernelspec": {
   "display_name": "Python 3",
   "language": "python",
   "name": "python3"
  },
  "language_info": {
   "codemirror_mode": {
    "name": "ipython",
    "version": 3
   },
   "file_extension": ".py",
   "mimetype": "text/x-python",
   "name": "python",
   "nbconvert_exporter": "python",
   "pygments_lexer": "ipython3",
   "version": "3.7.7"
  }
 },
 "nbformat": 4,
 "nbformat_minor": 5
}
