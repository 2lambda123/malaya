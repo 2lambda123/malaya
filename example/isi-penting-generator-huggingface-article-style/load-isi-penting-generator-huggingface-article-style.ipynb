{
 "cells": [
  {
   "cell_type": "markdown",
   "metadata": {},
   "source": [
    "# Isi Penting Generator HuggingFace article style"
   ]
  },
  {
   "cell_type": "markdown",
   "metadata": {},
   "source": [
    "Generate a long text with article style given isi penting (important facts)."
   ]
  },
  {
   "cell_type": "markdown",
   "metadata": {},
   "source": [
    "<div class=\"alert alert-info\">\n",
    "\n",
    "This tutorial is available as an IPython notebook at [Malaya/example/isi-penting-generator-huggingface-article-style](https://github.com/huseinzol05/Malaya/tree/master/example/isi-penting-generator-huggingface-article-style).\n",
    "    \n",
    "</div>"
   ]
  },
  {
   "cell_type": "markdown",
   "metadata": {},
   "source": [
    "<div class=\"alert alert-warning\">\n",
    "\n",
    "Results generated using stochastic methods.\n",
    "    \n",
    "</div>"
   ]
  },
  {
   "cell_type": "code",
   "execution_count": 1,
   "metadata": {},
   "outputs": [
    {
     "name": "stdout",
     "output_type": "stream",
     "text": [
      "CPU times: user 3.13 s, sys: 3.62 s, total: 6.74 s\n",
      "Wall time: 2.33 s\n"
     ]
    }
   ],
   "source": [
    "%%time\n",
    "import malaya\n",
    "from pprint import pprint"
   ]
  },
  {
   "cell_type": "markdown",
   "metadata": {},
   "source": [
    "### List available HuggingFace"
   ]
  },
  {
   "cell_type": "code",
   "execution_count": 2,
   "metadata": {},
   "outputs": [
    {
     "data": {
      "text/html": [
       "<div>\n",
       "<style scoped>\n",
       "    .dataframe tbody tr th:only-of-type {\n",
       "        vertical-align: middle;\n",
       "    }\n",
       "\n",
       "    .dataframe tbody tr th {\n",
       "        vertical-align: top;\n",
       "    }\n",
       "\n",
       "    .dataframe thead th {\n",
       "        text-align: right;\n",
       "    }\n",
       "</style>\n",
       "<table border=\"1\" class=\"dataframe\">\n",
       "  <thead>\n",
       "    <tr style=\"text-align: right;\">\n",
       "      <th></th>\n",
       "      <th>Size (MB)</th>\n",
       "      <th>ROUGE-1</th>\n",
       "      <th>ROUGE-2</th>\n",
       "      <th>ROUGE-L</th>\n",
       "      <th>Suggested length</th>\n",
       "    </tr>\n",
       "  </thead>\n",
       "  <tbody>\n",
       "    <tr>\n",
       "      <th>mesolitica/finetune-isi-penting-generator-t5-small-standard-bahasa-cased</th>\n",
       "      <td>242.0</td>\n",
       "      <td>0.246203</td>\n",
       "      <td>0.058961</td>\n",
       "      <td>0.15159</td>\n",
       "      <td>1024.0</td>\n",
       "    </tr>\n",
       "    <tr>\n",
       "      <th>mesolitica/finetune-isi-penting-generator-t5-base-standard-bahasa-cased</th>\n",
       "      <td>892.0</td>\n",
       "      <td>0.246203</td>\n",
       "      <td>0.058961</td>\n",
       "      <td>0.15159</td>\n",
       "      <td>1024.0</td>\n",
       "    </tr>\n",
       "  </tbody>\n",
       "</table>\n",
       "</div>"
      ],
      "text/plain": [
       "                                                    Size (MB)   ROUGE-1  \\\n",
       "mesolitica/finetune-isi-penting-generator-t5-sm...      242.0  0.246203   \n",
       "mesolitica/finetune-isi-penting-generator-t5-ba...      892.0  0.246203   \n",
       "\n",
       "                                                     ROUGE-2  ROUGE-L  \\\n",
       "mesolitica/finetune-isi-penting-generator-t5-sm...  0.058961  0.15159   \n",
       "mesolitica/finetune-isi-penting-generator-t5-ba...  0.058961  0.15159   \n",
       "\n",
       "                                                    Suggested length  \n",
       "mesolitica/finetune-isi-penting-generator-t5-sm...            1024.0  \n",
       "mesolitica/finetune-isi-penting-generator-t5-ba...            1024.0  "
      ]
     },
     "execution_count": 2,
     "metadata": {},
     "output_type": "execute_result"
    }
   ],
   "source": [
    "malaya.generator.isi_penting.available_huggingface()"
   ]
  },
  {
   "cell_type": "markdown",
   "metadata": {},
   "source": [
    "### Load HuggingFace\n",
    "\n",
    "Transformer Generator in Malaya is quite unique, most of the text generative model we found on the internet like GPT2 or Markov, simply just continue prefix input from user, but not for Transformer Generator. We want to generate an article or karangan like high school when the users give 'isi penting'.\n",
    "\n",
    "```python\n",
    "def huggingface(model: str = 'mesolitica/finetune-isi-penting-generator-t5-base-standard-bahasa-cased', **kwargs):\n",
    "    \"\"\"\n",
    "    Load HuggingFace model to generate text based on isi penting.\n",
    "\n",
    "    Parameters\n",
    "    ----------\n",
    "    model: str, optional (default='mesolitica/finetune-isi-penting-generator-t5-base-standard-bahasa-cased')\n",
    "        Check available models at `malaya.generator.isi_penting.available_huggingface()`.\n",
    "\n",
    "    Returns\n",
    "    -------\n",
    "    result: malaya.torch_model.huggingface.IsiPentingGenerator\n",
    "    \"\"\"\n",
    "```"
   ]
  },
  {
   "cell_type": "code",
   "execution_count": 3,
   "metadata": {},
   "outputs": [],
   "source": [
    "model = malaya.generator.isi_penting.huggingface()"
   ]
  },
  {
   "cell_type": "markdown",
   "metadata": {},
   "source": [
    "#### generate\n",
    "\n",
    "```python\n",
    "def generate(\n",
    "    self,\n",
    "    strings: List[str],\n",
    "    mode: str = 'surat-khabar',\n",
    "    **kwargs,\n",
    "):\n",
    "    \"\"\"\n",
    "    generate a long text given a isi penting.\n",
    "\n",
    "    Parameters\n",
    "    ----------\n",
    "    strings : List[str]\n",
    "    mode: str, optional (default='surat-khabar')\n",
    "        Mode supported. Allowed values:\n",
    "\n",
    "        * ``'surat-khabar'`` - news style writing.\n",
    "        * ``'tajuk-surat-khabar'`` - headline news style writing.\n",
    "        * ``'artikel'`` - article style writing.\n",
    "        * ``'penerangan-produk'`` - product description style writing.\n",
    "        * ``'karangan'`` - karangan sekolah style writing.\n",
    "\n",
    "    **kwargs: vector arguments pass to huggingface `generate` method.\n",
    "        Read more at https://huggingface.co/docs/transformers/main_classes/text_generation\n",
    "\n",
    "    Returns\n",
    "    -------\n",
    "    result: List[str]\n",
    "    \"\"\"\n",
    "```"
   ]
  },
  {
   "cell_type": "markdown",
   "metadata": {},
   "source": [
    "### Good thing about HuggingFace\n",
    "\n",
    "In `generate` method, you can do greedy, beam, sampling, nucleus decoder and so much more, read it at https://huggingface.co/blog/how-to-generate\n",
    "\n",
    "And recently, huggingface released https://huggingface.co/blog/introducing-csearch"
   ]
  },
  {
   "cell_type": "code",
   "execution_count": 4,
   "metadata": {},
   "outputs": [],
   "source": [
    "isi_penting = ['Dr M perlu dikekalkan sebagai perdana menteri',\n",
    "              'Muhyiddin perlulah menolong Dr M',\n",
    "              'rakyat perlu menolong Muhyiddin']"
   ]
  },
  {
   "cell_type": "code",
   "execution_count": 5,
   "metadata": {},
   "outputs": [
    {
     "name": "stderr",
     "output_type": "stream",
     "text": [
      "You're using a T5TokenizerFast tokenizer. Please note that with a fast tokenizer, using the `__call__` method is faster than using a method to encode the text followed by a call to the `pad` method to get a padded encoding.\n"
     ]
    },
    {
     "name": "stdout",
     "output_type": "stream",
     "text": [
      "['Dr Mahathir harus tetap menjadi perdana menteri selagi dia tetap akan '\n",
      " 'menyokong menteri dalam kerajaan sebelum menjadi perdana menteri \"jika '\n",
      " 'boleh,\" kata Perdana Menteri Muhyiddin Yassin. Ahli parlimen Muar itu '\n",
      " 'berkata Dr M perlu dikekalkan sebagai perdana menteri kerana dia percaya Dr '\n",
      " 'Mahathir akan memainkan peranan penting dalam peralihan kerajaan.']\n"
     ]
    }
   ],
   "source": [
    "pprint(model.generate(isi_penting, mode = 'artikel',\n",
    "    do_sample=True, \n",
    "    max_length=256, \n",
    "    top_k=50, \n",
    "    top_p=0.95,))"
   ]
  },
  {
   "cell_type": "code",
   "execution_count": 7,
   "metadata": {},
   "outputs": [],
   "source": [
    "isi_penting = ['Neelofa tetap dengan keputusan untuk berkahwin akhir tahun ini',\n",
    "              'Long Tiger sanggup membantu Neelofa',\n",
    "              'Tiba-tiba Long Tiger bergaduh dengan Husein']"
   ]
  },
  {
   "cell_type": "markdown",
   "metadata": {},
   "source": [
    "We also can give any isi penting even does not make any sense."
   ]
  },
  {
   "cell_type": "code",
   "execution_count": 8,
   "metadata": {},
   "outputs": [
    {
     "name": "stdout",
     "output_type": "stream",
     "text": [
      "['Long Tiger digaduh di gelanggang besbol berhampiran rumahnya di bandar '\n",
      " '(Kerdrina, Iran). \"Kami berharap untuk menikah pada akhir tahun ini. Itu '\n",
      " 'adalah hari perkahwinan yang sangat istimewa. \"Kami mempunyai rancangan '\n",
      " 'untuk tinggal dengan kami dalam keadaan yang sangat baik dan indah. Kami '\n",
      " 'ingin memastikan Neelofa tetap bahagia dan bahagia. Saya gembira untuk '\n",
      " 'menikah lagi.']\n"
     ]
    }
   ],
   "source": [
    "pprint(model.generate(isi_penting, do_sample=True, mode = 'artikel',\n",
    "    max_length=256,\n",
    "    top_k=50, \n",
    "    top_p=0.95, ))"
   ]
  },
  {
   "cell_type": "code",
   "execution_count": 16,
   "metadata": {},
   "outputs": [],
   "source": [
    "isi_penting = ['Astronomi (dari) adalah sains semula jadi yang mengkaji objek dan fenomena cakerawala.',\n",
    " 'Ia menggunakan matematik, fizik, dan kimia untuk menjelaskan asal usul dan evolusi mereka.',\n",
    " 'Objek yang menarik termasuk planet, bulan, bintang, nebula, galaksi, dan komet.',\n",
    " 'Fenomena yang relevan termasuk letupan supernova, ledakan sinar gamma, kusar, blazar, pulsar, dan radiasi latar belakang gelombang mikro kosmik.',\n",
    " 'Secara umum, astronomi mengkaji semua yang berasal dari luar atmosfer Bumi.',\n",
    " 'Kosmologi adalah cabang astronomi.',\n",
    " 'Ia mengkaji Alam Semesta secara keseluruhan.']"
   ]
  },
  {
   "cell_type": "code",
   "execution_count": 20,
   "metadata": {},
   "outputs": [
    {
     "name": "stdout",
     "output_type": "stream",
     "text": [
      "['Dia menggambarkan fenomena kolimat oleh ahli astronomi pada tahun 1845-an '\n",
      " 'dan kemudian, pada usia 87.5 tahun. Pemerhatian fenomena kolimat ini '\n",
      " 'termasuk letupan supernova dari planet di planet, yang dipancarkan oleh '\n",
      " 'gerakan eksentrik oleh planet kecil dan planet kecil, yang menyebabkan '\n",
      " 'pengembangan supernova dan kolimat pada usia 87 tahun. Semasa abad ke-20, '\n",
      " 'kebanyakan pemerhatian astronomi dapat diperoleh menggunakan astronomi, '\n",
      " 'seperti e. Di planet kecil, terdapat fenomena kolimat dalam jumlah yang '\n",
      " 'lebih tinggi daripada tempoh itu. Dalam astronomi moden, teknonomi adalah '\n",
      " 'cabang astronomi dan astronomi yang lebih tinggi. Dalam astronomi, istilah '\n",
      " '\"astronomi\" pertama kali diadopsi oleh saintis Amerika. Kajian astronomi '\n",
      " 'yang diterima secara antarabangsa ini merangkumi semua jenis organisma yang '\n",
      " 'mempunyai klasifikasi yang berbeza. Ahli astronomi pertama yang menggunakan '\n",
      " 'pemerhatian dari planet yang sama dan paling awal adalah, \"Planca\", dalam '\n",
      " 'astronomi moden, dalam Astronomi. \"Sejarah astronomi\" diterbitkan pada tahun '\n",
      " '1790, dalam jurnal sains hayat \"Civilian et al.com\". Karya sains lain adalah '\n",
      " '\"Tetase Sejarah Astronomi\" yang diterbitkan di UK. Ia adalah sebahagian '\n",
      " 'daripada \"Ins']\n"
     ]
    }
   ],
   "source": [
    "pprint(model.generate(isi_penting, do_sample=True, mode = 'artikel',\n",
    "    max_length=256,\n",
    "    top_k=50, \n",
    "    top_p=0.95, ))"
   ]
  },
  {
   "cell_type": "code",
   "execution_count": null,
   "metadata": {},
   "outputs": [],
   "source": []
  }
 ],
 "metadata": {
  "kernelspec": {
   "display_name": "Python 3 (ipykernel)",
   "language": "python",
   "name": "python3"
  },
  "language_info": {
   "codemirror_mode": {
    "name": "ipython",
    "version": 3
   },
   "file_extension": ".py",
   "mimetype": "text/x-python",
   "name": "python",
   "nbconvert_exporter": "python",
   "pygments_lexer": "ipython3",
   "version": "3.8.10"
  },
  "varInspector": {
   "cols": {
    "lenName": 16,
    "lenType": 16,
    "lenVar": 40
   },
   "kernels_config": {
    "python": {
     "delete_cmd_postfix": "",
     "delete_cmd_prefix": "del ",
     "library": "var_list.py",
     "varRefreshCmd": "print(var_dic_list())"
    },
    "r": {
     "delete_cmd_postfix": ") ",
     "delete_cmd_prefix": "rm(",
     "library": "var_list.r",
     "varRefreshCmd": "cat(var_dic_list()) "
    }
   },
   "types_to_exclude": [
    "module",
    "function",
    "builtin_function_or_method",
    "instance",
    "_Feature"
   ],
   "window_display": false
  }
 },
 "nbformat": 4,
 "nbformat_minor": 2
}
