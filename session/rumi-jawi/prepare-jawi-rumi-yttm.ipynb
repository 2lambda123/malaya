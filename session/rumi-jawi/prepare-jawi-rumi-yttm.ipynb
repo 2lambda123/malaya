{
 "cells": [
  {
   "cell_type": "code",
   "execution_count": 2,
   "id": "d5c046c1",
   "metadata": {},
   "outputs": [],
   "source": [
    "import youtokentome as yttm\n",
    "import json"
   ]
  },
  {
   "cell_type": "code",
   "execution_count": 3,
   "id": "ad59bf4e",
   "metadata": {},
   "outputs": [],
   "source": [
    "with open('rumi-set.json') as fopen:\n",
    "    rumi = json.load(fopen)"
   ]
  },
  {
   "cell_type": "code",
   "execution_count": 5,
   "id": "de547290",
   "metadata": {},
   "outputs": [],
   "source": [
    "with open('jawi-set.json') as fopen:\n",
    "    jawi = json.load(fopen)"
   ]
  },
  {
   "cell_type": "code",
   "execution_count": 6,
   "id": "54857fbf",
   "metadata": {},
   "outputs": [],
   "source": [
    "train_X = jawi['train']\n",
    "train_Y = rumi['train']\n",
    "\n",
    "test_X = jawi['test']\n",
    "test_Y = rumi['test']"
   ]
  },
  {
   "cell_type": "code",
   "execution_count": 8,
   "id": "99f10917",
   "metadata": {},
   "outputs": [],
   "source": [
    "with open('rumi-jawi.txt', 'w') as fopen:\n",
    "    fopen.write('\\n'.join(train_X + train_Y + test_X + test_Y))"
   ]
  },
  {
   "cell_type": "code",
   "execution_count": 9,
   "id": "c1a9ceb3",
   "metadata": {},
   "outputs": [
    {
     "name": "stderr",
     "output_type": "stream",
     "text": [
      "Training parameters\n",
      "  input: rumi-jawi.txt\n",
      "  model: rumi-jawi.yttm\n",
      "  vocab_size: 32000\n",
      "  n_threads: 8\n",
      "  character_coverage: 1\n",
      "  pad: 0\n",
      "  unk: 1\n",
      "  bos: 2\n",
      "  eos: 3\n",
      "\n",
      "reading file...\n",
      "learning bpe...\n",
      "number of unique characters in the training data: 132\n",
      "number of deleted characters: 0\n",
      "number of unique characters left: 132\n",
      "id: 1000=180+10               freq: 1965        subword: ورو=ور+و\n",
      "id: 2000=274+20               freq: 832         subword: elas=ela+s\n",
      "id: 3000=25+34                freq: 510         subword: lo=l+o\n",
      "id: 4000=414+2633             freq: 357         subword: ▁كاسيه=▁كا+سيه\n",
      "id: 5000=4481+476             freq: 266         subword: ▁توليسن=▁تولي+سن\n",
      "id: 6000=2414+780             freq: 210         subword: ▁imej=▁im+ej\n",
      "id: 7000=2436+1616            freq: 170         subword: ▁ڬينراسي=▁ڬين+راسي\n",
      "id: 8000=55+192               freq: 141         subword: ۏال=ۏ+ال\n",
      "id: 9000=218+71               freq: 119         subword: ▁برص=▁بر+ص\n",
      "id: 10000=2889+192            freq: 104         subword: ▁مودال=▁مود+ال\n",
      "id: 11000=236+401             freq: 90          subword: ▁منجا=▁من+جا\n",
      "id: 12000=1811+12             freq: 80          subword: ادنن=ادن+ن\n",
      "id: 13000=1185+185            freq: 71          subword: iapkan=iap+kan\n",
      "id: 14000=1424+5336           freq: 64          subword: ▁berpecah=▁berp+ecah\n",
      "id: 15000=176+955             freq: 58          subword: adinya=ad+inya\n",
      "id: 16000=315+1013            freq: 53          subword: edisi=ed+isi\n",
      "id: 17000=171+195             freq: 48          subword: ason=as+on\n",
      "id: 18000=854+46              freq: 44          subword: ▁ada.=▁ada+.\n",
      "id: 19000=519+15802           freq: 41          subword: ▁kemusnahan=▁kem+usnahan\n",
      "id: 20000=4701+46             freq: 38          subword: ▁tertentu.=▁tertentu+.\n",
      "id: 21000=465+156             freq: 35          subword: icin=ic+in\n",
      "id: 22000=1095+9334           freq: 33          subword: ▁menghubungi=▁mengh+ubungi\n",
      "id: 23000=331+4387            freq: 31          subword: ▁fosf=▁f+osf\n",
      "id: 24000=4299+2007           freq: 29          subword: ▁sebaliknya,=▁sebalik+nya,\n",
      "id: 25000=14390+13299         freq: 27          subword: ▁kesepakatan=▁kesep+akatan\n",
      "id: 26000=160+48              freq: 25          subword: ang-=ang+-\n",
      "id: 27000=192+934             freq: 24          subword: الوڬي=ال+وڬي\n",
      "id: 28000=211+2661            freq: 23          subword: ▁ءءكون=▁ءء+كون\n",
      "id: 29000=1591+44             freq: 21          subword: ▁فورچ=▁فور+چ\n",
      "id: 30000=2408+79             freq: 20          subword: ▁41=▁4+1\n",
      "id: 31000=415+745             freq: 19          subword: ▁Panc=▁P+anc\n",
      "model saved to: rumi-jawi.yttm\n"
     ]
    }
   ],
   "source": [
    "bpe = yttm.BPE.train(data='rumi-jawi.txt', vocab_size=32000, model='rumi-jawi.yttm')"
   ]
  },
  {
   "cell_type": "code",
   "execution_count": 12,
   "id": "76b9b54b",
   "metadata": {},
   "outputs": [
    {
     "data": {
      "text/plain": [
       "['__class__',\n",
       " '__delattr__',\n",
       " '__dict__',\n",
       " '__dir__',\n",
       " '__doc__',\n",
       " '__eq__',\n",
       " '__format__',\n",
       " '__ge__',\n",
       " '__getattribute__',\n",
       " '__gt__',\n",
       " '__hash__',\n",
       " '__init__',\n",
       " '__init_subclass__',\n",
       " '__le__',\n",
       " '__lt__',\n",
       " '__module__',\n",
       " '__ne__',\n",
       " '__new__',\n",
       " '__reduce__',\n",
       " '__reduce_ex__',\n",
       " '__repr__',\n",
       " '__setattr__',\n",
       " '__sizeof__',\n",
       " '__str__',\n",
       " '__subclasshook__',\n",
       " '__weakref__',\n",
       " 'bpe_cython',\n",
       " 'decode',\n",
       " 'encode',\n",
       " 'id_to_subword',\n",
       " 'subword_to_id',\n",
       " 'train',\n",
       " 'vocab',\n",
       " 'vocab_size']"
      ]
     },
     "execution_count": 12,
     "metadata": {},
     "output_type": "execute_result"
    }
   ],
   "source": [
    "dir(bpe)"
   ]
  },
  {
   "cell_type": "code",
   "execution_count": 14,
   "id": "9c46c5f7",
   "metadata": {},
   "outputs": [
    {
     "data": {
      "text/plain": [
       "32000"
      ]
     },
     "execution_count": 14,
     "metadata": {},
     "output_type": "execute_result"
    }
   ],
   "source": [
    "bpe.vocab_size()"
   ]
  },
  {
   "cell_type": "code",
   "execution_count": 15,
   "id": "444489b2",
   "metadata": {},
   "outputs": [
    {
     "data": {
      "text/plain": [
       "['كاوسن كڤولاوان سڤراتلي يڠ',\n",
       " 'ڤرليمين ڤرسكوتوان اونتوق',\n",
       " 'ڤنوبوهن تامن سينر',\n",
       " 'ڤريڠكت كمنترين، كاتڽ.',\n",
       " 'تله مندرم سباڽق تيڬ',\n",
       " 'هاري اين،',\n",
       " 'برتوليرنسي\"',\n",
       " 'مڠيسهكان',\n",
       " 'سوڠ-قواڠ',\n",
       " 'سيبير دڠن باجو بياسا.']"
      ]
     },
     "execution_count": 15,
     "metadata": {},
     "output_type": "execute_result"
    }
   ],
   "source": [
    "train_X[:10]"
   ]
  },
  {
   "cell_type": "code",
   "execution_count": 17,
   "id": "9edc389a",
   "metadata": {},
   "outputs": [
    {
     "data": {
      "text/plain": [
       "[['▁كاوسن', '▁كڤولاوان', '▁سڤ', 'رات', 'لي', '▁يڠ'],\n",
       " ['▁ڤرليمين', '▁ڤرسكوتوان', '▁اونتوق'],\n",
       " ['▁ڤنوبوهن', '▁تامن', '▁سينر'],\n",
       " ['▁ڤريڠكت', '▁كمنترين،', '▁كاتڽ.'],\n",
       " ['▁تله', '▁مند', 'رم', '▁سباڽق', '▁تيڬ'],\n",
       " ['▁هاري', '▁اين،'],\n",
       " ['▁برتو', 'ليرن', 'سي\"'],\n",
       " ['▁مڠ', 'يسه', 'كان'],\n",
       " ['▁سوڠ', '-ق', 'واڠ'],\n",
       " ['▁سيبير', '▁دڠن', '▁باجو', '▁بياسا.']]"
      ]
     },
     "execution_count": 17,
     "metadata": {},
     "output_type": "execute_result"
    }
   ],
   "source": [
    "bpe.encode(train_X[:10], output_type=yttm.OutputType.SUBWORD)"
   ]
  },
  {
   "cell_type": "code",
   "execution_count": 19,
   "id": "dd3e822f",
   "metadata": {},
   "outputs": [
    {
     "data": {
      "text/plain": [
       "(498106, 55346)"
      ]
     },
     "execution_count": 19,
     "metadata": {},
     "output_type": "execute_result"
    }
   ],
   "source": [
    "len(train_X), len(test_X)"
   ]
  }
 ],
 "metadata": {
  "kernelspec": {
   "display_name": "Python 3 (ipykernel)",
   "language": "python",
   "name": "python3"
  },
  "language_info": {
   "codemirror_mode": {
    "name": "ipython",
    "version": 3
   },
   "file_extension": ".py",
   "mimetype": "text/x-python",
   "name": "python",
   "nbconvert_exporter": "python",
   "pygments_lexer": "ipython3",
   "version": "3.8.10"
  }
 },
 "nbformat": 4,
 "nbformat_minor": 5
}
