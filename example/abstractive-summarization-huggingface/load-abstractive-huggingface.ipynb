{
 "cells": [
  {
   "cell_type": "markdown",
   "metadata": {},
   "source": [
    "# Abstractive HuggingFace"
   ]
  },
  {
   "cell_type": "markdown",
   "metadata": {},
   "source": [
    "<div class=\"alert alert-info\">\n",
    "\n",
    "This tutorial is available as an IPython notebook at [Malaya/example/abstractive-summarization-huggingface](https://github.com/huseinzol05/Malaya/tree/master/example/abstractive-summarization-huggingface).\n",
    "    \n",
    "</div>"
   ]
  },
  {
   "cell_type": "markdown",
   "metadata": {},
   "source": [
    "<div class=\"alert alert-warning\">\n",
    "\n",
    "This module only trained on standard language structure, so it is not save to use it for local language structure.\n",
    "    \n",
    "</div>"
   ]
  },
  {
   "cell_type": "markdown",
   "metadata": {},
   "source": [
    "<div class=\"alert alert-warning\">\n",
    "\n",
    "This module trained heavily on news and articles structure.\n",
    "    \n",
    "</div>"
   ]
  },
  {
   "cell_type": "markdown",
   "metadata": {},
   "source": [
    "<div class=\"alert alert-warning\">\n",
    "\n",
    "Results generated using stochastic methods.\n",
    "    \n",
    "</div>"
   ]
  },
  {
   "cell_type": "code",
   "execution_count": 1,
   "metadata": {},
   "outputs": [],
   "source": [
    "import os\n",
    "\n",
    "os.environ['CUDA_VISIBLE_DEVICES'] = ''"
   ]
  },
  {
   "cell_type": "code",
   "execution_count": 2,
   "metadata": {},
   "outputs": [],
   "source": [
    "import logging\n",
    "\n",
    "logging.basicConfig(level=logging.INFO)"
   ]
  },
  {
   "cell_type": "code",
   "execution_count": 3,
   "metadata": {},
   "outputs": [
    {
     "name": "stdout",
     "output_type": "stream",
     "text": [
      "CPU times: user 3.16 s, sys: 3.45 s, total: 6.61 s\n",
      "Wall time: 2.35 s\n"
     ]
    }
   ],
   "source": [
    "%%time\n",
    "import malaya\n",
    "from pprint import pprint"
   ]
  },
  {
   "cell_type": "code",
   "execution_count": 4,
   "metadata": {},
   "outputs": [],
   "source": [
    "import warnings\n",
    "warnings.filterwarnings('default')"
   ]
  },
  {
   "cell_type": "code",
   "execution_count": 5,
   "metadata": {},
   "outputs": [],
   "source": [
    "import re\n",
    "\n",
    "# minimum cleaning, just simply to remove newlines.\n",
    "def cleaning(string):\n",
    "    string = string.replace('\\n', ' ')\n",
    "    string = re.sub(r'[ ]+', ' ', string).strip()\n",
    "    return string"
   ]
  },
  {
   "cell_type": "markdown",
   "metadata": {},
   "source": [
    "I am going to simply copy paste some local news into this notebook. I will search about `isu mahathir` in google news, [link here](https://www.google.com/search?q=isu+mahathir&sxsrf=ALeKk02V_bAJC3sSrV38JQgGYWL_mE0biw:1589951900053&source=lnms&tbm=nws&sa=X&ved=2ahUKEwjapNmx2MHpAhVp_XMBHRt7BEQQ_AUoAnoECCcQBA&biw=1440&bih=648&dpr=2)."
   ]
  },
  {
   "cell_type": "markdown",
   "metadata": {},
   "source": [
    "**link**: https://www.hmetro.com.my/mutakhir/2020/05/580438/peletakan-jawatan-tun-m-ditolak-bukan-lagi-isu\n",
    "\n",
    "**Title**: Peletakan jawatan Tun M ditolak, bukan lagi isu.\n",
    "\n",
    "**Body**: PELETAKAN jawatan Tun Dr Mahathir Mohamad sebagai Pengerusi Parti Pribumi Bersatu Malaysia (Bersatu) ditolak di dalam mesyuarat khas Majlis Pimpinan Tertinggi (MPT) pada 24 Februari lalu.\n",
    "\n",
    "Justeru, tidak timbul soal peletakan jawatan itu sah atau tidak kerana ia sudah pun diputuskan pada peringkat parti yang dipersetujui semua termasuk Presiden, Tan Sri Muhyiddin Yassin.\n",
    "\n",
    "Bekas Setiausaha Agung Bersatu Datuk Marzuki Yahya berkata, pada mesyuarat itu MPT sebulat suara menolak peletakan jawatan Dr Mahathir.\n",
    "\n",
    "\"Jadi ini agak berlawanan dengan keputusan yang kita sudah buat. Saya tak faham bagaimana Jabatan Pendaftar Pertubuhan Malaysia (JPPM) kata peletakan jawatan itu sah sedangkan kita sudah buat keputusan di dalam mesyuarat, bukan seorang dua yang buat keputusan.\n",
    "\n",
    "\"Semua keputusan mesti dibuat melalui parti. Walau apa juga perbincangan dibuat di luar daripada keputusan mesyuarat, ini bukan keputusan parti.\n",
    "\n",
    "\"Apa locus standy yang ada pada Setiausaha Kerja untuk membawa perkara ini kepada JPPM. Seharusnya ia dibawa kepada Setiausaha Agung sebagai pentadbir kepada parti,\" katanya kepada Harian Metro.\n",
    "\n",
    "Beliau mengulas laporan media tempatan hari ini mengenai pengesahan JPPM bahawa Dr Mahathir tidak lagi menjadi Pengerusi Bersatu berikutan peletakan jawatannya di tengah-tengah pergolakan politik pada akhir Februari adalah sah.\n",
    "\n",
    "Laporan itu juga menyatakan, kedudukan Muhyiddin Yassin memangku jawatan itu juga sah.\n",
    "\n",
    "Menurutnya, memang betul Dr Mahathir menghantar surat peletakan jawatan, tetapi ditolak oleh MPT.\n",
    "\n",
    "\"Fasal yang disebut itu terpakai sekiranya berhenti atau diberhentikan, tetapi ini mesyuarat sudah menolak,\" katanya.\n",
    "\n",
    "Marzuki turut mempersoal kenyataan media yang dibuat beberapa pimpinan parti itu hari ini yang menyatakan sokongan kepada Perikatan Nasional.\n",
    "\n",
    "\"Kenyataan media bukanlah keputusan rasmi. Walaupun kita buat 1,000 kenyataan sekali pun ia tetap tidak merubah keputusan yang sudah dibuat di dalam mesyuarat. Kita catat di dalam minit apa yang berlaku di dalam mesyuarat,\" katanya."
   ]
  },
  {
   "cell_type": "code",
   "execution_count": 6,
   "metadata": {},
   "outputs": [],
   "source": [
    "string = \"\"\"\n",
    "PELETAKAN jawatan Tun Dr Mahathir Mohamad sebagai Pengerusi Parti Pribumi Bersatu Malaysia (Bersatu) ditolak di dalam mesyuarat khas Majlis Pimpinan Tertinggi (MPT) pada 24 Februari lalu.\n",
    "\n",
    "Justeru, tidak timbul soal peletakan jawatan itu sah atau tidak kerana ia sudah pun diputuskan pada peringkat parti yang dipersetujui semua termasuk Presiden, Tan Sri Muhyiddin Yassin.\n",
    "\n",
    "Bekas Setiausaha Agung Bersatu Datuk Marzuki Yahya berkata, pada mesyuarat itu MPT sebulat suara menolak peletakan jawatan Dr Mahathir.\n",
    "\n",
    "\"Jadi ini agak berlawanan dengan keputusan yang kita sudah buat. Saya tak faham bagaimana Jabatan Pendaftar Pertubuhan Malaysia (JPPM) kata peletakan jawatan itu sah sedangkan kita sudah buat keputusan di dalam mesyuarat, bukan seorang dua yang buat keputusan.\n",
    "\n",
    "\"Semua keputusan mesti dibuat melalui parti. Walau apa juga perbincangan dibuat di luar daripada keputusan mesyuarat, ini bukan keputusan parti.\n",
    "\n",
    "\"Apa locus standy yang ada pada Setiausaha Kerja untuk membawa perkara ini kepada JPPM. Seharusnya ia dibawa kepada Setiausaha Agung sebagai pentadbir kepada parti,\" katanya kepada Harian Metro.\n",
    "\n",
    "Beliau mengulas laporan media tempatan hari ini mengenai pengesahan JPPM bahawa Dr Mahathir tidak lagi menjadi Pengerusi Bersatu berikutan peletakan jawatannya di tengah-tengah pergolakan politik pada akhir Februari adalah sah.\n",
    "\n",
    "Laporan itu juga menyatakan, kedudukan Muhyiddin Yassin memangku jawatan itu juga sah.\n",
    "\n",
    "Menurutnya, memang betul Dr Mahathir menghantar surat peletakan jawatan, tetapi ditolak oleh MPT.\n",
    "\n",
    "\"Fasal yang disebut itu terpakai sekiranya berhenti atau diberhentikan, tetapi ini mesyuarat sudah menolak,\" katanya.\n",
    "\n",
    "Marzuki turut mempersoal kenyataan media yang dibuat beberapa pimpinan parti itu hari ini yang menyatakan sokongan kepada Perikatan Nasional.\n",
    "\n",
    "\"Kenyataan media bukanlah keputusan rasmi. Walaupun kita buat 1,000 kenyataan sekali pun ia tetap tidak merubah keputusan yang sudah dibuat di dalam mesyuarat. Kita catat di dalam minit apa yang berlaku di dalam mesyuarat,\" katanya.\n",
    "\"\"\"\n",
    "\n",
    "string = cleaning(string)"
   ]
  },
  {
   "cell_type": "markdown",
   "metadata": {},
   "source": [
    "**Link**: https://www.malaysiakini.com/news/525953\n",
    "\n",
    "**Title**: Mahathir jangan hipokrit isu kes mahkamah Riza, kata Takiyuddin\n",
    "\n",
    "**Body**: Menteri undang-undang Takiyuddin Hassan berkata kerajaan berharap Dr Mahathir Mohamad tidak bersikap hipokrit dengan mengatakan beliau tertanya-tanya dan tidak faham dengan keputusan mahkamah melepas tanpa membebaskan (DNAA) Riza Aziz, anak tiri bekas perdana menteri Najib Razak, dalam kes pengubahan wang haram membabitkan dana 1MDB.\n",
    "\n",
    "Pemimpin PAS itu berkata ini kerana keputusan itu dibuat oleh peguam negara dan dilaksanakan oleh timbalan pendakwa raya yang mengendalikan kes tersebut pada akhir 2019.\n",
    "\n",
    "“Saya merujuk kepada kenyataan Dr Mahathir tentang tindakan Mahkamah Sesyen memberikan pelepasan tanpa pembebasan (discharge not amounting to acquittal) kepada Riza Aziz baru-baru ini.\n",
    "\n",
    "“Kerajaan berharap Dr Mahathir tidak bersikap hipokrit dengan mengatakan beliau ‘tertanya-tanya’, keliru dan tidak faham terhadap suatu keputusan yang dibuat oleh Peguam Negara dan dilaksanakan oleh Timbalan Pendakwa Raya yang mengendalikan kes ini pada akhir tahun 2019,” katanya dalam satu kenyataan hari ini.\n",
    "\n",
    "Riza pada Khamis dilepas tanpa dibebaskan daripada lima pertuduhan pengubahan wang berjumlah AS$248 juta (RM1.08 bilion).\n",
    "\n",
    "Dalam persetujuan yang dicapai antara pihak Riza dan pendakwaan, beliau dilepas tanpa dibebaskan atas pertuduhan itu dengan syarat memulangkan semula aset dari luar negara dengan nilai anggaran AS$107.3 juta (RM465.3 juta).\n",
    "\n",
    "Ekoran itu, Mahathir antara lain menyuarakan kekhuatirannya berkenaan persetujuan itu dan mempersoalkan jika pihak yang didakwa atas tuduhan mencuri boleh terlepas daripada tindakan jika memulangkan semula apa yang dicurinya.\n",
    "\n",
    "\"Dia curi berbilion-bilion...Dia bagi balik kepada kerajaan. Dia kata kepada kerajaan, 'Nah, duit yang aku curi. Sekarang ini, jangan ambil tindakan terhadap aku.' Kita pun kata, 'Sudah bagi balik duit okey lah',\" katanya.\n",
    "\n",
    "Menjelaskan bahawa beliau tidak mempersoalkan keputusan mahkamah, Mahathir pada masa sama berkata ia menunjukkan undang-undang mungkin perlu dipinda.\n",
    "\n",
    "Mengulas lanjut, Takiyuddin yang juga setiausaha agung PAS berkata\n",
    "kenyataan Mahathir tidak munasabah sebagai bekas perdana menteri.\n",
    "\n",
    "\"Kerajaan berharap Dr Mahathir tidak terus bertindak mengelirukan rakyat dengan mengatakan beliau ‘keliru’.\n",
    "\n",
    "“Kerajaan PN akan terus bertindak mengikut undang-undang dan berpegang kepada prinsip kebebasan badan kehakiman dan proses perundangan yang sah,” katanya."
   ]
  },
  {
   "cell_type": "code",
   "execution_count": 7,
   "metadata": {},
   "outputs": [],
   "source": [
    "string2 = \"\"\"\n",
    "Menteri undang-undang Takiyuddin Hassan berkata kerajaan berharap Dr Mahathir Mohamad tidak bersikap hipokrit dengan mengatakan beliau tertanya-tanya dan tidak faham dengan keputusan mahkamah melepas tanpa membebaskan (DNAA) Riza Aziz, anak tiri bekas perdana menteri Najib Razak, dalam kes pengubahan wang haram membabitkan dana 1MDB.\n",
    "\n",
    "Pemimpin PAS itu berkata ini kerana keputusan itu dibuat oleh peguam negara dan dilaksanakan oleh timbalan pendakwa raya yang mengendalikan kes tersebut pada akhir 2019.\n",
    "\n",
    "“Saya merujuk kepada kenyataan Dr Mahathir tentang tindakan Mahkamah Sesyen memberikan pelepasan tanpa pembebasan (discharge not amounting to acquittal) kepada Riza Aziz baru-baru ini.\n",
    "\n",
    "“Kerajaan berharap Dr Mahathir tidak bersikap hipokrit dengan mengatakan beliau ‘tertanya-tanya’, keliru dan tidak faham terhadap suatu keputusan yang dibuat oleh Peguam Negara dan dilaksanakan oleh Timbalan Pendakwa Raya yang mengendalikan kes ini pada akhir tahun 2019,” katanya dalam satu kenyataan hari ini.\n",
    "\n",
    "Riza pada Khamis dilepas tanpa dibebaskan daripada lima pertuduhan pengubahan wang berjumlah AS$248 juta (RM1.08 bilion).\n",
    "\n",
    "Dalam persetujuan yang dicapai antara pihak Riza dan pendakwaan, beliau dilepas tanpa dibebaskan atas pertuduhan itu dengan syarat memulangkan semula aset dari luar negara dengan nilai anggaran AS$107.3 juta (RM465.3 juta).\n",
    "\n",
    "Ekoran itu, Mahathir antara lain menyuarakan kekhuatirannya berkenaan persetujuan itu dan mempersoalkan jika pihak yang didakwa atas tuduhan mencuri boleh terlepas daripada tindakan jika memulangkan semula apa yang dicurinya.\n",
    "\n",
    "\"Dia curi berbilion-bilion...Dia bagi balik kepada kerajaan. Dia kata kepada kerajaan, 'Nah, duit yang aku curi. Sekarang ini, jangan ambil tindakan terhadap aku.' Kita pun kata, 'Sudah bagi balik duit okey lah',\" katanya.\n",
    "\n",
    "Menjelaskan bahawa beliau tidak mempersoalkan keputusan mahkamah, Mahathir pada masa sama berkata ia menunjukkan undang-undang mungkin perlu dipinda.\n",
    "\n",
    "Mengulas lanjut, Takiyuddin yang juga setiausaha agung PAS berkata\n",
    "kenyataan Mahathir tidak munasabah sebagai bekas perdana menteri.\n",
    "\n",
    "\"Kerajaan berharap Dr Mahathir tidak terus bertindak mengelirukan rakyat dengan mengatakan beliau ‘keliru’.\n",
    "\n",
    "“Kerajaan PN akan terus bertindak mengikut undang-undang dan berpegang kepada prinsip kebebasan badan kehakiman dan proses perundangan yang sah,” katanya.\n",
    "\"\"\"\n",
    "\n",
    "string2 = cleaning(string2)"
   ]
  },
  {
   "cell_type": "code",
   "execution_count": 8,
   "metadata": {},
   "outputs": [],
   "source": [
    "string3 = \"\"\"\n",
    "The future looks bleak for Gerakan Tanah Air (GTA), as the possibility of building alliances with other political coalitions slowly withers.\n",
    "\n",
    "Experts believe the unofficial pact is in for a dismal showing and may end up being \"buried\" in the 15th General Election (GE15).\n",
    "\n",
    "They said GTA, which aims to contest more than 120 seats, might end up securing only five seats at most despite having a notable figure — former prime minister Tun Dr Mahathir Mohamad — as its chairman.\n",
    "\n",
    "Associate Professor Dr Awang Azman Awang Pawi said when Dr Mahathir headed Parti Pribumi Bersatu Malaysia (Bersatu) in the previous general election, the party secured only 13 seats.\n",
    "\n",
    "\"Dr Mahathir won only 13 when he was with Bersatu. It is likely that he will do much less under GTA.\n",
    "\n",
    "\"GTA's political future will likely be buried sooner than it thinks,\" he told the New Sunday Times yesterday.\n",
    "\n",
    "The political analyst from Universiti Malaya said GTA's plan to contest 120 seats would be an obstacle for the pact, as the political coalition would find it hard to find worthy and acceptable candidates.\n",
    "\n",
    "GTA is made up of Parti Pejuang Tanah Air (Pejuang), Parti Bumiputera Perkasa Malaysia, Barisan Jemaah Islamiah Se-Malaysia and Parti Ikatan India Muslim Nasional.\n",
    "\n",
    "GTA had previously courted Perikatan Nasional (PN) and Pakatan Harapan (PH) in the run-up to the election.\n",
    "\n",
    "Dr Mahathir had earlier last week said he was willing to \"set his ego aside\" to unite the opposition parties to offer a strong challenge against Barisan Nasional (BN).\n",
    "\n",
    "Last Thursday, PN shut its doors to any cooperation with GTA for GE15, saying it would move ahead with its component parties.\n",
    "\n",
    "So far, GTA has announced eight candidates for GE15: Dr Mahathir for the Langkawi parliamentary seat, Datuk Seri Mukhriz Mahathir for Jerlun, Datuk Amiruddin Hamzah for Kubang Pasu, Datin Che Asmah Ibrahim for Sepang, Mior Nor Haidir Suhaimi for Tapah, Harumaini Omar for Hulu Selangor, Mohd Shaid Rosli for Kuala Selangor and Datuk Seri Khairuddin Abu Hassan for Titiwangsa.\n",
    "\n",
    "Another political analyst, Azmi Hassan, predicted that GTA would have to go it alone, and did not see any chance that Pakatan Harapan (PH) would accept the pact into its fold.\n",
    "\n",
    "He said GTA had little to offer to PH.\n",
    "\n",
    "\"They (GTA) have nothing to add to PH, unlike the Malaysian United Democratic Alliance.\n",
    "\n",
    "\"GTA has no political history, and its performance in the Johor election showed how weak Pejuang's influence is.\"\n",
    "\n",
    "He said GTA should concentrate in areas that it could perform well, such as Kedah where Dr Mahathir and Mukhriz would defend their seats.\n",
    "\"\"\"\n",
    "\n",
    "string3 = cleaning(string3)"
   ]
  },
  {
   "cell_type": "markdown",
   "metadata": {},
   "source": [
    "### List available HuggingFace models"
   ]
  },
  {
   "cell_type": "code",
   "execution_count": 9,
   "metadata": {
    "scrolled": true
   },
   "outputs": [
    {
     "name": "stderr",
     "output_type": "stream",
     "text": [
      "INFO:malaya.summarization.abstractive:tested on translated validation set CNN Daily Mail, https://huggingface.co/datasets/mesolitica/translated-cnn-dailymail\n",
      "INFO:malaya.summarization.abstractive:tested on translated test set Xwikis, https://huggingface.co/datasets/mesolitica/translated-xwikis\n"
     ]
    },
    {
     "data": {
      "text/html": [
       "<div>\n",
       "<style scoped>\n",
       "    .dataframe tbody tr th:only-of-type {\n",
       "        vertical-align: middle;\n",
       "    }\n",
       "\n",
       "    .dataframe tbody tr th {\n",
       "        vertical-align: top;\n",
       "    }\n",
       "\n",
       "    .dataframe thead th {\n",
       "        text-align: right;\n",
       "    }\n",
       "</style>\n",
       "<table border=\"1\" class=\"dataframe\">\n",
       "  <thead>\n",
       "    <tr style=\"text-align: right;\">\n",
       "      <th></th>\n",
       "      <th>Size (MB)</th>\n",
       "      <th>ROUGE-1</th>\n",
       "      <th>ROUGE-2</th>\n",
       "      <th>ROUGE-L</th>\n",
       "      <th>Suggested length</th>\n",
       "    </tr>\n",
       "  </thead>\n",
       "  <tbody>\n",
       "    <tr>\n",
       "      <th>mesolitica/finetune-summarization-t5-small-standard-bahasa-cased</th>\n",
       "      <td>242.0</td>\n",
       "      <td>0.246203</td>\n",
       "      <td>0.058961</td>\n",
       "      <td>0.15159</td>\n",
       "      <td>1024.0</td>\n",
       "    </tr>\n",
       "    <tr>\n",
       "      <th>mesolitica/finetune-summarization-t5-base-standard-bahasa-cased</th>\n",
       "      <td>892.0</td>\n",
       "      <td>0.246203</td>\n",
       "      <td>0.058961</td>\n",
       "      <td>0.15159</td>\n",
       "      <td>1024.0</td>\n",
       "    </tr>\n",
       "    <tr>\n",
       "      <th>mesolitica/finetune-summarization-ms-t5-small-standard-bahasa-cased</th>\n",
       "      <td>242.0</td>\n",
       "      <td>0.246203</td>\n",
       "      <td>0.058961</td>\n",
       "      <td>0.15159</td>\n",
       "      <td>1024.0</td>\n",
       "    </tr>\n",
       "    <tr>\n",
       "      <th>mesolitica/finetune-summarization-ms-t5-base-standard-bahasa-cased</th>\n",
       "      <td>892.0</td>\n",
       "      <td>0.246203</td>\n",
       "      <td>0.058961</td>\n",
       "      <td>0.15159</td>\n",
       "      <td>1024.0</td>\n",
       "    </tr>\n",
       "  </tbody>\n",
       "</table>\n",
       "</div>"
      ],
      "text/plain": [
       "                                                    Size (MB)   ROUGE-1  \\\n",
       "mesolitica/finetune-summarization-t5-small-stan...      242.0  0.246203   \n",
       "mesolitica/finetune-summarization-t5-base-stand...      892.0  0.246203   \n",
       "mesolitica/finetune-summarization-ms-t5-small-s...      242.0  0.246203   \n",
       "mesolitica/finetune-summarization-ms-t5-base-st...      892.0  0.246203   \n",
       "\n",
       "                                                     ROUGE-2  ROUGE-L  \\\n",
       "mesolitica/finetune-summarization-t5-small-stan...  0.058961  0.15159   \n",
       "mesolitica/finetune-summarization-t5-base-stand...  0.058961  0.15159   \n",
       "mesolitica/finetune-summarization-ms-t5-small-s...  0.058961  0.15159   \n",
       "mesolitica/finetune-summarization-ms-t5-base-st...  0.058961  0.15159   \n",
       "\n",
       "                                                    Suggested length  \n",
       "mesolitica/finetune-summarization-t5-small-stan...            1024.0  \n",
       "mesolitica/finetune-summarization-t5-base-stand...            1024.0  \n",
       "mesolitica/finetune-summarization-ms-t5-small-s...            1024.0  \n",
       "mesolitica/finetune-summarization-ms-t5-base-st...            1024.0  "
      ]
     },
     "execution_count": 9,
     "metadata": {},
     "output_type": "execute_result"
    }
   ],
   "source": [
    "malaya.summarization.abstractive.available_huggingface()"
   ]
  },
  {
   "cell_type": "markdown",
   "metadata": {},
   "source": [
    "### Load HuggingFace model\n",
    "\n",
    "```python\n",
    "def huggingface(model: str = 'mesolitica/finetune-summarization-t5-small-standard-bahasa-cased', **kwargs):\n",
    "    \"\"\"\n",
    "    Load HuggingFace model to abstractive summarization.\n",
    "\n",
    "    Parameters\n",
    "    ----------\n",
    "    model: str, optional (default='mesolitica/finetune-summarization-t5-small-standard-bahasa-cased')\n",
    "        Check available models at `malaya.summarization.abstractive.available_huggingface()`.\n",
    "\n",
    "    Returns\n",
    "    -------\n",
    "    result: malaya.torch_model.huggingface.Summarization\n",
    "    \"\"\"\n",
    "```"
   ]
  },
  {
   "cell_type": "code",
   "execution_count": 10,
   "metadata": {},
   "outputs": [],
   "source": [
    "model = malaya.summarization.abstractive.huggingface()"
   ]
  },
  {
   "cell_type": "code",
   "execution_count": 11,
   "metadata": {},
   "outputs": [],
   "source": [
    "model_base = malaya.summarization.abstractive.huggingface(model = 'mesolitica/finetune-summarization-t5-base-standard-bahasa-cased')"
   ]
  },
  {
   "cell_type": "markdown",
   "metadata": {},
   "source": [
    "#### Summarize\n",
    "\n",
    "```python\n",
    "def generate(\n",
    "    self,\n",
    "    strings: List[str],\n",
    "    postprocess: bool = True,\n",
    "    n: int = 2,\n",
    "    threshold: float = 0.1,\n",
    "    reject_similarity: float = 0.85,\n",
    "    **kwargs,\n",
    "):\n",
    "    \"\"\"\n",
    "    Generate texts from the input.\n",
    "\n",
    "    Parameters\n",
    "    ----------\n",
    "    strings : List[str]\n",
    "    postprocess: bool, optional (default=False)\n",
    "        If True, will filter sentence generated using ROUGE score and removed biased generated international news publisher.\n",
    "    n: int, optional (default=2)\n",
    "        N size of rouge to filter\n",
    "    threshold: float, optional (default=0.1)\n",
    "        minimum threshold for N rouge score to select a sentence.\n",
    "    reject_similarity: float, optional (default=0.85)\n",
    "        reject similar sentences while maintain position.\n",
    "    **kwargs: vector arguments pass to huggingface `generate` method.\n",
    "        Read more at https://huggingface.co/docs/transformers/main_classes/text_generation\n",
    "\n",
    "    Returns\n",
    "    -------\n",
    "    result: List[str]\n",
    "    \"\"\"\n",
    "```"
   ]
  },
  {
   "cell_type": "code",
   "execution_count": 12,
   "metadata": {},
   "outputs": [
    {
     "name": "stderr",
     "output_type": "stream",
     "text": [
      "You're using a T5TokenizerFast tokenizer. Please note that with a fast tokenizer, using the `__call__` method is faster than using a method to encode the text followed by a call to the `pad` method to get a padded encoding.\n"
     ]
    },
    {
     "name": "stdout",
     "output_type": "stream",
     "text": [
      "['Tun Dr Mahathir Mohamad telah menjadi Pengerusi Parti Pribumi Bersatu '\n",
      " 'Malaysia. Ia ditolak di dalam mesyuarat Majlis Pimpinan Tertinggi pada 24 '\n",
      " 'Februari lalu. Ahli Parlimen sebulat suara menolak peletakan jawatan itu '\n",
      " 'sebagai sah.',\n",
      " 'Menteri undang-undang Takiyuddin Hassan mengatakan bahawa kerajaan berharap '\n",
      " 'Dr Mahathir tidak bersikap hipokrit. Riza Aziz, anak tiri Najib Razak, '\n",
      " 'dibebaskan tanpa pembebasan. Riza dilepas tanpa dibebaskan dari lima tuduhan '\n",
      " 'pengubahan wang haram berjumlah AS $ 248 juta (RM1.08 bilion).']\n",
      "CPU times: user 9.04 s, sys: 5.21 ms, total: 9.04 s\n",
      "Wall time: 760 ms\n"
     ]
    }
   ],
   "source": [
    "%%time\n",
    "\n",
    "pprint(model.generate([string, string2], max_length = 256, temperature = 0.5))"
   ]
  },
  {
   "cell_type": "code",
   "execution_count": 13,
   "metadata": {
    "scrolled": true
   },
   "outputs": [
    {
     "name": "stderr",
     "output_type": "stream",
     "text": [
      "You're using a T5TokenizerFast tokenizer. Please note that with a fast tokenizer, using the `__call__` method is faster than using a method to encode the text followed by a call to the `pad` method to get a padded encoding.\n"
     ]
    },
    {
     "name": "stdout",
     "output_type": "stream",
     "text": [
      "['Bekas Setiausaha Agung Bersatu Marzuki Yahya mengatakan peletakan jawatan '\n",
      " \"itu sah. Marzuki mengatakan bahawa ia 'agak bertentangan dengan keputusan \"\n",
      " \"yang kita buat'.\",\n",
      " 'Riza Aziz dibebaskan dari lima tuduhan pengubahan wang haram berjumlah AS $ '\n",
      " '248 juta (RM1.08 bilion) Riza pada hari Khamis dibebaskan tanpa dibebaskan '\n",
      " 'dari lima tuduhan pengubahan wang haram berjumlah AS $ 248 juta (RM1.08 '\n",
      " 'bilion) Riza pada hari Khamis dibebaskan tanpa dibebaskan dari lima tuduhan '\n",
      " 'pengubahan wang haram berjumlah AS $ 248 juta (RM1.08 bilion). Menteri '\n",
      " 'undang-undang Takiyuddin Hassan mengatakan bahawa dia tertanya-tanya dan '\n",
      " 'tidak faham dengan keputusan mahkamah.']\n",
      "CPU times: user 40.4 s, sys: 10.5 ms, total: 40.4 s\n",
      "Wall time: 3.38 s\n"
     ]
    }
   ],
   "source": [
    "%%time\n",
    "\n",
    "pprint(model_base.generate([string, string2], max_length = 256, temperature = 0.5))"
   ]
  },
  {
   "cell_type": "markdown",
   "metadata": {},
   "source": [
    "### Good thing about HuggingFace\n",
    "\n",
    "In `generate` method, you can do greedy, beam, sampling, nucleus decoder and so much more, read it at https://huggingface.co/blog/how-to-generate"
   ]
  },
  {
   "cell_type": "code",
   "execution_count": 14,
   "metadata": {
    "scrolled": true
   },
   "outputs": [
    {
     "name": "stdout",
     "output_type": "stream",
     "text": [
      "['Pengerusi Parti Pribumi Bersatu Malaysia (Bersatu) dihidu dari 24 Februari. '\n",
      " 'Dr Mahathir yang berusia 52 tahun dianggap sebagai Pengerusi Bersatu tidak '\n",
      " 'sah. Perdana Menteri perlu menyerahkan surat peletakan jawatan untuk '\n",
      " 'menafikannya.',\n",
      " 'Sebelum tahun lalu, PM Tun Dr Mahathir Mohamad telah menjadi Pengerusi Parti '\n",
      " 'Pribumi Bersatu Malaysia. Jawatankuasa bukan parti yang meminta jawatan itu '\n",
      " 'diluluskan dan diputuskan di peringkat parti yang dipersetujui oleh semua '\n",
      " 'termasuk Presiden, Tan Sri Muhyiddin Yassin. MJ menolak sebagai sah dan ia '\n",
      " 'sudah diputuskan pada peringkat parti yang dipersetujui.',\n",
      " 'Timbalan Perdana Menteri di itu menafikan peletakan jawatannya. Kenyataan '\n",
      " 'media tempatan mendakwa peletakan jawatan itu sah. Parti Malaysia sudah '\n",
      " 'membuat keputusan pada mesyuarat khas Majlis Pimpinan Tertinggi.']\n",
      "CPU times: user 13 s, sys: 12.1 ms, total: 13 s\n",
      "Wall time: 1.09 s\n"
     ]
    }
   ],
   "source": [
    "%%time\n",
    "\n",
    "pprint(model.generate([string], \n",
    "    do_sample=True, \n",
    "    max_length=256, \n",
    "    top_p=0.92, \n",
    "    top_k=0,\n",
    "    num_return_sequences=3))"
   ]
  },
  {
   "cell_type": "code",
   "execution_count": 15,
   "metadata": {},
   "outputs": [
    {
     "name": "stdout",
     "output_type": "stream",
     "text": [
      "['Lima ketua parti Malaysia telah menolak pengunduran Dr Mahathir. Bekas '\n",
      " 'Setiausaha Agung Bersatu kini mempersoalkan keputusan parti. Datuk Marzuki '\n",
      " \"Yahya membantah keputusan itu dan mengatakan ia 'berbanding dengan keputusan \"\n",
      " \"yang sudah kami buat'.\",\n",
      " 'Bekas Setiausaha Agung Bersatu Datuk Marzuki Yahya memberitahu MPT sebulat '\n",
      " \"suara menolak peletakan jawatan Tun Dr Mahathir. Marzuki berkata, ia 'agak \"\n",
      " \"bertentangan dengan keputusan yang kami buat'.\",\n",
      " 'Sebuah jawatankuasa kecil tidak menolak peletakan jawatan Tun Dr Mahathir. '\n",
      " 'Keputusan itu dibuat semasa mesyuarat khas parti di Malaysia. Datuk Marzuki '\n",
      " 'Yahya berkata keputusan itu tidak konsisten dengan keputusan parti.']\n"
     ]
    }
   ],
   "source": [
    "pprint(model_base.generate([string], \n",
    "    do_sample=True, \n",
    "    max_length=256, \n",
    "    top_p=0.92, \n",
    "    top_k=0,\n",
    "    num_return_sequences=3))"
   ]
  },
  {
   "cell_type": "code",
   "execution_count": 16,
   "metadata": {},
   "outputs": [
    {
     "name": "stdout",
     "output_type": "stream",
     "text": [
      "['Menteri undang-undang Takiyuddin Hassan berharap Dr Mahathir tidak bersifat '\n",
      " 'hipokrit. Keputusan mahkamah melepaskan Riza Aziz dengan syarat '\n",
      " \"mengembalikan semula aset. Dia mengatakan bahawa dia bertanya, 'Sudah bagi \"\n",
      " \"balik duit okey lah' Oleh itu, yang diputuskan di antara banyak pihak, dia \"\n",
      " 'meninggalkan tertuduh tidak dibebaskan.',\n",
      " 'Dr Mahathir mengatakan bahawa dia tidak tahu dengan keputusan mahkamah '\n",
      " 'memutuskan. Riza Aziz, anak tiri Najib Razak, telah dibebaskan tanpa '\n",
      " 'pembebasan. Pemimpin PAS mengatakan bahawa dia tidak dapat menyiasat '\n",
      " 'keputusan tersebut.',\n",
      " \"Dr Mahathir Mohamad telah 'terkejut' dengan keputusan mahkamah untuk \"\n",
      " 'melepaskan secara haram Riza Aziz. dibebaskan tanpa pembebasan dari lima '\n",
      " 'pertuduhan pengubahan wang haram berjumlah AS $ 483 juta (RM1.08 bilion) '\n",
      " 'Pemimpin PAS itu berkata keputusan itu dibuat oleh peguam negara dan '\n",
      " 'dilaksanakan oleh Timbalan Pendakwa Raya yang mengendalikan kes itu pada '\n",
      " 'akhir 2019. Pemimpin PAS itu berkata, keputusan itu dibuat oleh peguam '\n",
      " 'negara dan dilaksanakan oleh Timbalan Pendakwa Raya yang mengendalikan kes '\n",
      " 'tersebut pada akhir tahun 2019.']\n",
      "CPU times: user 23.1 s, sys: 8.46 ms, total: 23.1 s\n",
      "Wall time: 1.93 s\n"
     ]
    }
   ],
   "source": [
    "%%time\n",
    "\n",
    "pprint(model.generate([string2], \n",
    "    do_sample=True, \n",
    "    max_length=256, \n",
    "    top_p=0.92, \n",
    "    top_k=0,\n",
    "    num_return_sequences=3))"
   ]
  },
  {
   "cell_type": "code",
   "execution_count": 17,
   "metadata": {},
   "outputs": [
    {
     "name": "stdout",
     "output_type": "stream",
     "text": [
      "['Riza Aziz, anak tiri Najib Razak, dilepas dari lima pertuduhan pengubahan '\n",
      " 'wang haram. Riza pada hari Khamis dilepas tanpa dibebaskan daripada lima '\n",
      " 'tuduhan berjumlah AS $ 247 juta (RM1.08 bilion) Leader Pas bercakap mengenai '\n",
      " 'keputusan mahkamah melepas tanpa pembebasan Riza baru-baru ini. Dia meminta '\n",
      " \"pemerintah mengatakan bahawa dia 'keliru' dengan keputusan ini.\",\n",
      " 'Pejabat Peguam Negara kemudian memberikan pelepasan tanpa dibebaskan kepada '\n",
      " \"Riza Aziz. Mohamad dikatakan 'terkejut' dengan keputusan mahkamah akhir \"\n",
      " 'tahun ini. \"Perdana Menteri PN akan terus bertindak mengikut undang-undang,\" '\n",
      " 'katanya.',\n",
      " 'Peguam Negara mengatakan keputusan mahkamah yang mengeluarkan tidak '\n",
      " 'membebaskan Riza Aziz. Riza Aziz dilepas tanpa dibebaskan daripada lima '\n",
      " 'tuduhan pengubahan wang haram. Menteri undang-undang Takiyuddin Hassan '\n",
      " \"menuduh pemerintah'sepenuhnya hipokrit' Mahathir mengatakan bahawa dia \"\n",
      " 'tertanya-tanya dan tidak faham dengan keputusan.']\n",
      "CPU times: user 38.7 s, sys: 139 µs, total: 38.7 s\n",
      "Wall time: 3.23 s\n"
     ]
    }
   ],
   "source": [
    "%%time\n",
    "\n",
    "pprint(model_base.generate([string2], \n",
    "    do_sample=True, \n",
    "    max_length=256, \n",
    "    top_p=0.92, \n",
    "    top_k=0,\n",
    "    num_return_sequences=3))"
   ]
  },
  {
   "cell_type": "markdown",
   "metadata": {},
   "source": [
    "### able to infer for mixed MS and EN\n",
    "\n",
    "Make sure to set `threshold=0.0` if `postprocess=True` or else postprocess function will return an error."
   ]
  },
  {
   "cell_type": "code",
   "execution_count": 24,
   "metadata": {},
   "outputs": [
    {
     "name": "stdout",
     "output_type": "stream",
     "text": [
      "['GTA mengatakan ia akan mudah mendapat tawaran yang tidak menguntungkan untuk '\n",
      " 'sebarang pakatan dengan pakatan lain. Mereka mengatakan bahawa ia tidak '\n",
      " 'mempunyai pengaruh berbanding Pakatan Harapan. Datang sebagai \"masa depan '\n",
      " 'politik GTA kemungkinan akan dikebumikan,\" kata pakar.',\n",
      " 'Gerakan Tanah Air mahukan pakatan dari parti-parti politik lain yang '\n",
      " 'memerlukan had. Kesepakatan itu adalah untuk pertunjukan suram dan mungkin '\n",
      " 'berakhir dengan \"berkahwin\" pada PRU15. GTA bertujuan untuk bertanding lebih '\n",
      " 'dari 120 kerusi, yang akan memerlukan hanya lima orang. Pembangkang mahukan '\n",
      " 'sokongan tambahan untuk pakatan itu, yang diharapkan dapat dibuat.',\n",
      " 'Barisan Nasional (PN) dan Pakatan Harapan (PH) telah menyokong GTA. GTA '\n",
      " 'berharap dapat bertanding lebih dari 120 kerusi dalam Pilihan Raya Umum '\n",
      " 'ke-15. Ahli politik percaya bahawa perjanjian tidak rasmi itu ada untuk '\n",
      " 'menunjukkan kekecewaan.']\n",
      "CPU times: user 17.3 s, sys: 3.98 ms, total: 17.3 s\n",
      "Wall time: 1.45 s\n"
     ]
    }
   ],
   "source": [
    "%%time\n",
    "\n",
    "pprint(model.generate([string3], \n",
    "    do_sample=True, \n",
    "    max_length=256, \n",
    "    top_p=0.92, \n",
    "    top_k=0,\n",
    "    num_return_sequences=3, threshold = 0.0))"
   ]
  },
  {
   "cell_type": "code",
   "execution_count": 25,
   "metadata": {},
   "outputs": [
    {
     "name": "stdout",
     "output_type": "stream",
     "text": [
      "['Negarawan mengatakan GTA mungkin \"diberkati\" dalam Pilihan Raya Umum ke-15 '\n",
      " 'GE15. Gerakan Tanah Air berada di bawah tekanan dari pakatan pembangkang. '\n",
      " 'GTA dijangka akhirnya memperoleh lima kerusi dengan kebanyakan calon.',\n",
      " 'Gerakan Tanah Air dalam pakatan dengan gabungan yang memerintah \"kemungkinan '\n",
      " 'terkubur\" di halaman depan GTA. GTA tidak mahu pakatan itu ditubuhkan. Dr '\n",
      " 'Mahathir juga memenangi 13 kerusi di Parlimen Langkawi. GTA telah '\n",
      " 'mengumumkan lapan calon untuk GE15.',\n",
      " 'Gerakan Tanah Air mungkin \"diberkati\" dalam pilihan raya umum ke-15. Pakar '\n",
      " 'mengatakan pakatan tidak rasmi mungkin dibuat untuk pertunjukan yang suram. '\n",
      " 'GTA akan mengatakan ia mungkin akan berakhir dengan hanya lima kerusi. Ahli '\n",
      " 'politik dan penganalisis mengatakan bahawa dia juga akan menyampaikan berita '\n",
      " 'itu kepada Pakatan Harapan.']\n",
      "CPU times: user 32.3 s, sys: 43.3 ms, total: 32.4 s\n",
      "Wall time: 2.71 s\n"
     ]
    }
   ],
   "source": [
    "%%time\n",
    "\n",
    "pprint(model_base.generate([string3], \n",
    "    do_sample=True, \n",
    "    max_length=256, \n",
    "    top_p=0.92, \n",
    "    top_k=0,\n",
    "    num_return_sequences=3, threshold = 0.0))"
   ]
  },
  {
   "cell_type": "markdown",
   "metadata": {},
   "source": [
    "### Problem with mixed model"
   ]
  },
  {
   "cell_type": "code",
   "execution_count": 28,
   "metadata": {},
   "outputs": [],
   "source": [
    "s = \"\"\"\n",
    "PERDANA Menteri Datuk Seri Anwar Ibrahim sekali lagi mencuri tumpuan netizen selepas gambar-gambarnya menghadiri mesyuarat bersama Ketua Setiausaha Negara, Tan Sri Mohd Zuki Ali viral di media sosial.\n",
    "Menerusi satu ciapan di Twitter, beliau memuat naik beberapa keping foto yang memperlihatkan dirinya menggayakan persalinan baju Melayu berona ungu, lengkap dengan samping dan songkok.\n",
    "Selain itu, beliau turut menyarungkan sepasang capal ketika menghadiri mesyuarat berkenaan.\n",
    "\n",
    "\n",
    "Bagaimanapun, menerusi salah satu gambar, Anwar dilihat membuka capalnya ketika sedang bermesyuarat dan hal itu mencetus perbincangan dalam kalangan netizen.\n",
    "“Dah la pakai selipar, masa meeting boleh tanggal camtu aje,” ujar seorang netizen.\n",
    "Namun, ciapan tersebut dibalas oleh seorang lagi pengguna Twitter.\n",
    "“Untuk makluman bersama, capal dibenarkan untuk dipakai bersama baju Melayu bersamping. Aku pun baru tahu,” katanya.\n",
    "Selain itu, ada juga antara pengguna media sosial yang memberitahu yang martabat capal lebih tinggi berbanding selipar dan kasut-kasut lain.\n",
    "“Capal actually salah satu pakaian Melayu tradisional. Dipakai bangsawan dan para pahlawan pada zaman dulu kala. Jadi, martabat capal tu lebih tinggi dari selipar dan kasut-kasut lain,” katanya.\n",
    "\n",
    "\"\"\"\n",
    "\n",
    "s = cleaning(s)"
   ]
  },
  {
   "cell_type": "code",
   "execution_count": 30,
   "metadata": {},
   "outputs": [
    {
     "name": "stdout",
     "output_type": "stream",
     "text": [
      "['Anwar Ibrahim dilihat membuka capalnya ketika bermesyuarat. Foto-foto itu '\n",
      " 'dibalas oleh seorang lagi pengguna Twitter. Anwar juga dilihat memakai '\n",
      " 'sepasang baju Melayu berona ungu.']\n",
      "CPU times: user 3.8 s, sys: 27.8 ms, total: 3.82 s\n",
      "Wall time: 321 ms\n"
     ]
    }
   ],
   "source": [
    "%%time\n",
    "\n",
    "pprint(model.generate([s], max_length = 256, temperature = 0.5))"
   ]
  },
  {
   "cell_type": "code",
   "execution_count": 29,
   "metadata": {},
   "outputs": [
    {
     "name": "stdout",
     "output_type": "stream",
     "text": [
      "['Datuk Seri Anwar Ibrahim menyiarkan gambar dirinya memakai baju Melayu. Dia '\n",
      " 'juga memakai sepasang topial ketika menghadiri mesyuarat. Tetapi, seorang '\n",
      " \"pengguna Twitter membalas dengan mengatakan bahawa itu adalah'masa pertemuan \"\n",
      " \"boleh tanggal camtu aje'.\"]\n",
      "CPU times: user 12.9 s, sys: 23.8 ms, total: 12.9 s\n",
      "Wall time: 1.08 s\n"
     ]
    }
   ],
   "source": [
    "%%time\n",
    "\n",
    "pprint(model_base.generate([s], max_length = 256, temperature = 0.5))"
   ]
  },
  {
   "cell_type": "markdown",
   "metadata": {},
   "source": [
    "As you can see, `model_base` generated `topial` word, inferred from `capal` -> `cap`, `an` -> `topi`, `al`.\n",
    "\n",
    "Any malay words derived from english or any malay subwords are subset of english, this can confused the model."
   ]
  },
  {
   "cell_type": "code",
   "execution_count": 36,
   "metadata": {},
   "outputs": [],
   "source": [
    "model_base_ms = malaya.summarization.abstractive.huggingface(model = 'mesolitica/finetune-summarization-ms-t5-base-standard-bahasa-cased')"
   ]
  },
  {
   "cell_type": "code",
   "execution_count": 35,
   "metadata": {},
   "outputs": [
    {
     "name": "stderr",
     "output_type": "stream",
     "text": [
      "You're using a T5TokenizerFast tokenizer. Please note that with a fast tokenizer, using the `__call__` method is faster than using a method to encode the text followed by a call to the `pad` method to get a padded encoding.\n"
     ]
    },
    {
     "name": "stdout",
     "output_type": "stream",
     "text": [
      "['Perdana Menteri Anwar Ibrahim memuat naik gambar di Twitter. Dia juga '\n",
      " 'dilihat menggayakan sepasang capal semasa mesyuarat. Tetapi dia dilihat '\n",
      " 'membuka capalnya ketika sedang bermesyuarat.']\n",
      "CPU times: user 11.5 s, sys: 7.33 ms, total: 11.5 s\n",
      "Wall time: 963 ms\n"
     ]
    }
   ],
   "source": [
    "%%time\n",
    "\n",
    "pprint(model_base_ms.generate([s], max_length = 256, temperature = 0.5))"
   ]
  }
 ],
 "metadata": {
  "kernelspec": {
   "display_name": "Python 3 (ipykernel)",
   "language": "python",
   "name": "python3"
  },
  "language_info": {
   "codemirror_mode": {
    "name": "ipython",
    "version": 3
   },
   "file_extension": ".py",
   "mimetype": "text/x-python",
   "name": "python",
   "nbconvert_exporter": "python",
   "pygments_lexer": "ipython3",
   "version": "3.8.10"
  },
  "varInspector": {
   "cols": {
    "lenName": 16,
    "lenType": 16,
    "lenVar": 40
   },
   "kernels_config": {
    "python": {
     "delete_cmd_postfix": "",
     "delete_cmd_prefix": "del ",
     "library": "var_list.py",
     "varRefreshCmd": "print(var_dic_list())"
    },
    "r": {
     "delete_cmd_postfix": ") ",
     "delete_cmd_prefix": "rm(",
     "library": "var_list.r",
     "varRefreshCmd": "cat(var_dic_list()) "
    }
   },
   "types_to_exclude": [
    "module",
    "function",
    "builtin_function_or_method",
    "instance",
    "_Feature"
   ],
   "window_display": false
  }
 },
 "nbformat": 4,
 "nbformat_minor": 2
}
