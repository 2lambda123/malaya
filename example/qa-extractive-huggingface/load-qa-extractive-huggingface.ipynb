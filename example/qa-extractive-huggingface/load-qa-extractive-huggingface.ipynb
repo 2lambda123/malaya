{
 "cells": [
  {
   "cell_type": "markdown",
   "metadata": {},
   "source": [
    "# Extractive HuggingFace"
   ]
  },
  {
   "cell_type": "markdown",
   "metadata": {},
   "source": [
    "<div class=\"alert alert-info\">\n",
    "\n",
    "This tutorial is available as an IPython notebook at [Malaya/example/qa-extractive-huggingface](https://github.com/huseinzol05/Malaya/tree/master/example/qa-extractive-huggingface).\n",
    "    \n",
    "</div>"
   ]
  },
  {
   "cell_type": "markdown",
   "metadata": {},
   "source": [
    "<div class=\"alert alert-warning\">\n",
    "\n",
    "This module only trained on standard language structure, so it is not save to use it for local language structure.\n",
    "    \n",
    "</div>"
   ]
  },
  {
   "cell_type": "code",
   "execution_count": 1,
   "metadata": {},
   "outputs": [],
   "source": [
    "import os\n",
    "\n",
    "os.environ['CUDA_VISIBLE_DEVICES'] = ''"
   ]
  },
  {
   "cell_type": "code",
   "execution_count": 2,
   "metadata": {},
   "outputs": [],
   "source": [
    "import logging\n",
    "\n",
    "logging.basicConfig(level=logging.INFO)"
   ]
  },
  {
   "cell_type": "code",
   "execution_count": 3,
   "metadata": {},
   "outputs": [
    {
     "name": "stdout",
     "output_type": "stream",
     "text": [
      "CPU times: user 3.4 s, sys: 3.52 s, total: 6.92 s\n",
      "Wall time: 2.54 s\n"
     ]
    }
   ],
   "source": [
    "%%time\n",
    "\n",
    "import malaya\n",
    "from pprint import pprint"
   ]
  },
  {
   "cell_type": "markdown",
   "metadata": {},
   "source": [
    "### What is Extractive QA\n",
    "\n",
    "is a reading comprehension problem, eg,\n",
    "\n",
    "```json\n",
    "{\n",
    "    'title': 'Normans',\n",
    "    'paragraphs': [\n",
    "        {\n",
    "            'context': 'Orang Norman (Norman: Nourmands; Perancis: Normands; Latin: Normanni) ialah orang-orang yang pada abad ke-10 dan ke-11 memberikan nama mereka kepada Normandy, sebuah wilayah di Perancis. Mereka diturunkan daripada Norse (\"Norman\" berasal daripada penyerang \"Norseman\") dan lanun dari Denmark, Iceland dan Norway yang, di bawah pimpinan mereka Rollo, bersetuju untuk bersumpah fealty kepada Raja Charles III dari Francia Barat. Melalui generasi asimilasi dan percampuran dengan penduduk asli Frankish dan Roman-Gaulish, keturunan mereka akan beransur-ansur bergabung dengan budaya Carolingian yang berpusat di Francia Barat. Identiti budaya dan etnik yang berbeza dari orang Norman muncul pada mulanya pada separuh pertama abad ke-10, dan ia terus berkembang pada abad-abad yang berjaya.',\n",
    "            'qas': [\n",
    "                {\n",
    "                    'question': 'Di negara manakah Normandy berada?',\n",
    "                    'answers': [\n",
    "                        {'text': 'Perancis', 'answer_start': 177},\n",
    "                        {'text': 'Perancis', 'answer_start': 177},\n",
    "                        {'text': 'Perancis', 'answer_start': 177},\n",
    "                        {'text': 'Perancis', 'answer_start': 177},\n",
    "                    ],\n",
    "                    'id': '56ddde6b9a695914005b9628',\n",
    "                    'is_impossible': False,\n",
    "                }\n",
    "            ],\n",
    "        }\n",
    "    ],\n",
    "}\n",
    "```\n",
    "\n",
    "So we need to give a long paragraph and multiple questions, and the model will return answers based on that paragraph with start and end spans. Read more about SQUAD dataset https://rajpurkar.github.io/SQuAD-explorer/"
   ]
  },
  {
   "cell_type": "markdown",
   "metadata": {},
   "source": [
    "### List available HuggingFace models"
   ]
  },
  {
   "cell_type": "code",
   "execution_count": 4,
   "metadata": {},
   "outputs": [
    {
     "name": "stderr",
     "output_type": "stream",
     "text": [
      "INFO:malaya.qa.extractive:tested on translated SQUAD V2 Dev set, https://github.com/huseinzol05/malay-dataset/tree/master/question-answer/squad\n",
      "INFO:malaya.qa.extractive:tested on SQUAD V2 Dev set, https://rajpurkar.github.io/SQuAD-explorer/\n"
     ]
    },
    {
     "data": {
      "text/html": [
       "<div>\n",
       "<style scoped>\n",
       "    .dataframe tbody tr th:only-of-type {\n",
       "        vertical-align: middle;\n",
       "    }\n",
       "\n",
       "    .dataframe tbody tr th {\n",
       "        vertical-align: top;\n",
       "    }\n",
       "\n",
       "    .dataframe thead th {\n",
       "        text-align: right;\n",
       "    }\n",
       "</style>\n",
       "<table border=\"1\" class=\"dataframe\">\n",
       "  <thead>\n",
       "    <tr style=\"text-align: right;\">\n",
       "      <th></th>\n",
       "      <th>Size (MB)</th>\n",
       "      <th>exact-ms</th>\n",
       "      <th>f1-ms</th>\n",
       "      <th>exact-en</th>\n",
       "      <th>f1-en</th>\n",
       "    </tr>\n",
       "  </thead>\n",
       "  <tbody>\n",
       "    <tr>\n",
       "      <th>mesolitica/finetune-qa-t5-tiny-standard-bahasa-cased</th>\n",
       "      <td>139.0</td>\n",
       "      <td>0.426956</td>\n",
       "      <td>0.511303</td>\n",
       "      <td>0.469257</td>\n",
       "      <td>0.541063</td>\n",
       "    </tr>\n",
       "    <tr>\n",
       "      <th>mesolitica/finetune-qa-t5-small-standard-bahasa-cased</th>\n",
       "      <td>242.0</td>\n",
       "      <td>0.530340</td>\n",
       "      <td>0.616933</td>\n",
       "      <td>0.558784</td>\n",
       "      <td>0.629300</td>\n",
       "    </tr>\n",
       "    <tr>\n",
       "      <th>mesolitica/finetune-qa-t5-base-standard-bahasa-cased</th>\n",
       "      <td>892.0</td>\n",
       "      <td>0.570355</td>\n",
       "      <td>0.641370</td>\n",
       "      <td>0.570355</td>\n",
       "      <td>0.641370</td>\n",
       "    </tr>\n",
       "    <tr>\n",
       "      <th>mesolitica/finetune-extractive-qa-flan-t5-base</th>\n",
       "      <td>990.0</td>\n",
       "      <td>0.552198</td>\n",
       "      <td>0.624780</td>\n",
       "      <td>0.709291</td>\n",
       "      <td>0.779958</td>\n",
       "    </tr>\n",
       "  </tbody>\n",
       "</table>\n",
       "</div>"
      ],
      "text/plain": [
       "                                                    Size (MB)  exact-ms  \\\n",
       "mesolitica/finetune-qa-t5-tiny-standard-bahasa-...      139.0  0.426956   \n",
       "mesolitica/finetune-qa-t5-small-standard-bahasa...      242.0  0.530340   \n",
       "mesolitica/finetune-qa-t5-base-standard-bahasa-...      892.0  0.570355   \n",
       "mesolitica/finetune-extractive-qa-flan-t5-base          990.0  0.552198   \n",
       "\n",
       "                                                       f1-ms  exact-en  \\\n",
       "mesolitica/finetune-qa-t5-tiny-standard-bahasa-...  0.511303  0.469257   \n",
       "mesolitica/finetune-qa-t5-small-standard-bahasa...  0.616933  0.558784   \n",
       "mesolitica/finetune-qa-t5-base-standard-bahasa-...  0.641370  0.570355   \n",
       "mesolitica/finetune-extractive-qa-flan-t5-base      0.624780  0.709291   \n",
       "\n",
       "                                                       f1-en  \n",
       "mesolitica/finetune-qa-t5-tiny-standard-bahasa-...  0.541063  \n",
       "mesolitica/finetune-qa-t5-small-standard-bahasa...  0.629300  \n",
       "mesolitica/finetune-qa-t5-base-standard-bahasa-...  0.641370  \n",
       "mesolitica/finetune-extractive-qa-flan-t5-base      0.779958  "
      ]
     },
     "execution_count": 4,
     "metadata": {},
     "output_type": "execute_result"
    }
   ],
   "source": [
    "malaya.qa.extractive.available_huggingface()"
   ]
  },
  {
   "cell_type": "markdown",
   "metadata": {},
   "source": [
    "### Load HuggingFace model"
   ]
  },
  {
   "cell_type": "code",
   "execution_count": 5,
   "metadata": {},
   "outputs": [],
   "source": [
    "model = malaya.qa.extractive.huggingface(model = 'mesolitica/finetune-qa-t5-small-standard-bahasa-cased')"
   ]
  },
  {
   "cell_type": "code",
   "execution_count": 6,
   "metadata": {},
   "outputs": [],
   "source": [
    "model_flan = malaya.qa.extractive.huggingface(model = 'mesolitica/finetune-extractive-qa-flan-t5-base')"
   ]
  },
  {
   "cell_type": "markdown",
   "metadata": {},
   "source": [
    "### Copy from wikipedia and news"
   ]
  },
  {
   "cell_type": "code",
   "execution_count": 7,
   "metadata": {},
   "outputs": [],
   "source": [
    "# https://ms.wikipedia.org/wiki/Mohd_Najib_bin_Abdul_Razak\n",
    "\n",
    "p_wikipedia = \"\"\"\n",
    "Najib razak telah dipilih untuk Parlimen Malaysia pada tahun 1976, \n",
    "pada usia 23 tahun, menggantikan bapanya duduk di kerusi Pekan yang berpangkalan di Pahang. \n",
    "Dari tahun 1982 hingga 1986 beliau menjadi Menteri Besar (Ketua Menteri) Pahang, \n",
    "sebelum memasuki persekutuan Kabinet Tun Dr Mahathir Mohamad pada tahun 1986 sebagai Menteri Kebudayaan, Belia dan Sukan. \n",
    "Beliau telah berkhidmat dalam pelbagai jawatan Kabinet sepanjang baki tahun 1980-an dan 1990-an, termasuk sebagai Menteri Pertahanan dan Menteri Pelajaran. \n",
    "Beliau menjadi Timbalan Perdana Menteri pada 7 Januari 2004, berkhidmat di bawah Perdana Menteri Tun Dato' Seri Abdullah Ahmad Badawi, \n",
    "sebelum menggantikan Badawi setahun selepas Barisan Nasional mengalami kerugian besar dalam pilihan raya 2008. \n",
    "Di bawah kepimpinan beliau, Barisan Nasional memenangi pilihan raya 2013, \n",
    "walaupun buat kali pertama dalam sejarah Malaysia pembangkang memenangi majoriti undi popular.\n",
    "\"\"\"\n",
    "q_wikipedia = [\n",
    "    'pada umur berapa najib razak menggantikan ayahnya', \n",
    "    'Apakah jawatan yang pernah dipegang oleh Najib Razak',\n",
    "    'what date najib become deputy prime minister',\n",
    "]"
   ]
  },
  {
   "cell_type": "code",
   "execution_count": 8,
   "metadata": {},
   "outputs": [],
   "source": [
    "# https://www.malaysiakini.com/news/574914\n",
    "\n",
    "p_news = \"\"\"\n",
    "Bekas perdana menteri Najib Razak mempersoalkan tindakan polis yang menurutnya tidak serta-merta mengeluarkan kenyataan berhubung dakwaan Adun Perikatan Nasional (PN) \"merancang\" insiden rogol.\n",
    "Sedangkan, kata ahli parlimen Pekan itu, polis pantas mengeluarkan kenyataan apabila dia dilapor terlupa mengimbas MySejahtera sebelum masuk restoran.\n",
    "\"Berita Najib lupa scan MySejahtera tular, kenyataan polis terus keluar. Berita Dr Mahathir Mohamad lupa scan, kenyataan, polis serta-merta keluar.\n",
    "\"Sebab itu saya pelik kenapa pihak polis belum sempat keluar apa-apa kenyataan berhubung kes seorang gadis membuat laporan polis untuk dakwa Adun PN rancang insiden rogolnya,\" katanya di Facebook hari ini.\n",
    "Najib merujuk dakwaan seorang wanita yang mendakwa dirogol kenalan kepada Adun Gombak Setia, Hilman Idham.\n",
    "Wanita itu mendakwa ahli politik dari Bersatu berkenaan merancang insiden yang berlaku pada 5 Dis lalu.\n",
    "Menurut laporan polis pada 8 Mei, mangsa mendakwa kejadian itu berlaku di sebuah hotel di Selangor, yang pada masa itu berada di bawah perintah kawalan pergerakan bersyarat (PKPB).\n",
    "\"\"\"\n",
    "\n",
    "q_news = [\n",
    "    'siapakah yang mempersoalkan tindakan polis', \n",
    "    'siapakah Adun Gombak Setia',\n",
    "    'when does make the allegation',\n",
    "]"
   ]
  },
  {
   "cell_type": "code",
   "execution_count": 9,
   "metadata": {},
   "outputs": [],
   "source": [
    "# https://www.parlimen.gov.my/files/hindex/pdf/DR-19122022.pdf\n",
    "\n",
    "p_parlimen = \"\"\"\n",
    "Menteri Dalam Negeri [Datuk Seri Saifuddin Nasution bin Ismail]:\n",
    "Assalamualaikum warahmatullahi wabarakatuh. Tuan Yang diPertua, saya mohon\n",
    "mencadangkan:\n",
    "“Bahawa Majlis ini memerintahkan Ketua Polis Negara\n",
    "menjaga supaya selama Penggal Dewan Rakyat Parlimen Kelima\n",
    "Belas yang ada sekarang, jalan-jalan melalui lorong-lorong menuju ke\n",
    "Dewan ini hendaklah sentiasa terbuka dan boleh dilalui dan jangan\n",
    "ada apa-apa halangan menghalang Ahli-ahli hendak pergi dan balik\n",
    "dari Dewan ini, jangan berlaku apa-apa kacau bilau di jalan-jalan\n",
    "menuju ke Dewan ini, dan supaya jangan ada huru-hara di Bangunan\n",
    "Dewan ini dan berhampiran dengan bangunan ini; dan Setiausaha\n",
    "Dewan Rakyat hendaklah menyampaikan perintah ini kepada Ketua\n",
    "Polis Negara yang tersebut itu”.\n",
    "Terima kasih.\n",
    "Timbalan Menteri Dalam Negeri [Datuk Seri Dr. Shamsul Anuar bin\n",
    "Nasarah]: Tuan Yang di-Pertua, saya mohon menyokong.\n",
    "Tuan Yang di-Pertua: Terima kasih. Ahli-ahli Yang Berhormat, masalahnya\n",
    "ialah usul oleh Yang Berhormat Menteri Dalam Negeri yang telah dibacakan tadi\n",
    "hendaklah dipersetujukan\n",
    "\"\"\"\n",
    "\n",
    "q_parlimen = [\n",
    "    'siapakah yang mempersoalkan tindakan polis', \n",
    "    'apakah ketua polis negara yang perlukan dibuat',\n",
    "    'who need to instruct chief police',\n",
    "]"
   ]
  },
  {
   "cell_type": "markdown",
   "metadata": {},
   "source": [
    "### Predict\n",
    "\n",
    "```python\n",
    "def predict(\n",
    "    self,\n",
    "    paragraph_text: str,\n",
    "    question_texts: List[str],\n",
    "    validate_answers: bool = True,\n",
    "    validate_questions: bool = False,\n",
    "    minimum_threshold_question: float = 0.05,\n",
    "    **kwargs,\n",
    "):\n",
    "    \"\"\"\n",
    "    Predict extractive answers from questions given a paragraph.\n",
    "\n",
    "    Parameters\n",
    "    ----------\n",
    "    paragraph_text: str\n",
    "    question_texts: List[str]\n",
    "        List of questions, results really depends on case sensitive questions.\n",
    "    validate_answers: bool, optional (default=True)\n",
    "        if True, will check the answer is inside the paragraph.\n",
    "    validate_questions: bool, optional (default=True)\n",
    "        if True, validate the question is subset of the paragraph using `sklearn.feature_extraction.text.CountVectorizer`\n",
    "    minimum_threshold_question: float, optional (default=0.05)\n",
    "        minimum score from `cosine_similarity`, only useful if `validate_questions = True`.\n",
    "    **kwargs: vector arguments pass to huggingface `generate` method.\n",
    "        Read more at https://huggingface.co/docs/transformers/main_classes/text_generation\n",
    "\n",
    "    Returns\n",
    "    -------\n",
    "    result: List[str]\n",
    "    \"\"\"\n",
    "```"
   ]
  },
  {
   "cell_type": "code",
   "execution_count": 10,
   "metadata": {},
   "outputs": [
    {
     "name": "stderr",
     "output_type": "stream",
     "text": [
      "You're using a T5TokenizerFast tokenizer. Please note that with a fast tokenizer, using the `__call__` method is faster than using a method to encode the text followed by a call to the `pad` method to get a padded encoding.\n"
     ]
    },
    {
     "data": {
      "text/plain": [
       "['23', 'Menteri Pertahanan dan Menteri Pelajaran', '7 Januari 2004']"
      ]
     },
     "execution_count": 10,
     "metadata": {},
     "output_type": "execute_result"
    }
   ],
   "source": [
    "model.predict(p_wikipedia, q_wikipedia)"
   ]
  },
  {
   "cell_type": "code",
   "execution_count": 11,
   "metadata": {},
   "outputs": [
    {
     "name": "stderr",
     "output_type": "stream",
     "text": [
      "You're using a T5TokenizerFast tokenizer. Please note that with a fast tokenizer, using the `__call__` method is faster than using a method to encode the text followed by a call to the `pad` method to get a padded encoding.\n"
     ]
    },
    {
     "data": {
      "text/plain": [
       "['23', 'menggantikan bapanya duduk di kerusi Pekan', '1976']"
      ]
     },
     "execution_count": 11,
     "metadata": {},
     "output_type": "execute_result"
    }
   ],
   "source": [
    "model_flan.predict(p_wikipedia, q_wikipedia)"
   ]
  },
  {
   "cell_type": "code",
   "execution_count": 12,
   "metadata": {},
   "outputs": [
    {
     "data": {
      "text/plain": [
       "['Bekas perdana menteri Najib Razak', 'Hilman Idham', '8 Mei']"
      ]
     },
     "execution_count": 12,
     "metadata": {},
     "output_type": "execute_result"
    }
   ],
   "source": [
    "model.predict(p_news, q_news)"
   ]
  },
  {
   "cell_type": "code",
   "execution_count": 13,
   "metadata": {
    "scrolled": true
   },
   "outputs": [
    {
     "name": "stderr",
     "output_type": "stream",
     "text": [
      "Token indices sequence length is longer than the specified maximum sequence length for this model (552 > 512). Running this sequence through the model will result in indexing errors\n"
     ]
    },
    {
     "data": {
      "text/plain": [
       "['Bekas perdana menteri Najib Razak', 'Hilman Idham', 'hari ini']"
      ]
     },
     "execution_count": 13,
     "metadata": {},
     "output_type": "execute_result"
    }
   ],
   "source": [
    "model_flan.predict(p_news, q_news)"
   ]
  },
  {
   "cell_type": "code",
   "execution_count": 14,
   "metadata": {},
   "outputs": [
    {
     "data": {
      "text/plain": [
       "['Menteri Dalam Negeri',\n",
       " 'menjaga supaya selama Penggal Dewan Rakyat Parlimen',\n",
       " 'Menteri Dalam Negeri']"
      ]
     },
     "execution_count": 14,
     "metadata": {},
     "output_type": "execute_result"
    }
   ],
   "source": [
    "model.predict(p_parlimen, q_parlimen, max_length=50, \n",
    "    num_beams=5, \n",
    "    early_stopping=True)"
   ]
  },
  {
   "cell_type": "code",
   "execution_count": 15,
   "metadata": {},
   "outputs": [
    {
     "data": {
      "text/plain": [
       "['Tuan Yang diPertua', 'Setiausaha Dewan Rakyat', 'Majlis']"
      ]
     },
     "execution_count": 15,
     "metadata": {},
     "output_type": "execute_result"
    }
   ],
   "source": [
    "model_flan.predict(p_parlimen, q_parlimen, max_length=50, \n",
    "    num_beams=5, \n",
    "    early_stopping=True)"
   ]
  },
  {
   "cell_type": "markdown",
   "metadata": {},
   "source": [
    "### Able to mixed MS and EN\n",
    "\n",
    "Paragraph or questions can be both MS or EN or mixed."
   ]
  },
  {
   "cell_type": "code",
   "execution_count": 16,
   "metadata": {},
   "outputs": [],
   "source": [
    "# https://ms.wikipedia.org/wiki/Mohd_Najib_bin_Abdul_Razak\n",
    "\n",
    "p_wikipedia = \"\"\"\n",
    "Najib razak telah dipilih untuk Parlimen Malaysia pada tahun 1976, \n",
    "pada usia 23 tahun, menggantikan bapanya duduk di kerusi Pekan yang berpangkalan di Pahang. \n",
    "Dari tahun 1982 hingga 1986 beliau menjadi Menteri Besar (Ketua Menteri) Pahang, \n",
    "sebelum memasuki persekutuan Kabinet Tun Dr Mahathir Mohamad pada tahun 1986 sebagai Menteri Kebudayaan, Belia dan Sukan. \n",
    "Beliau telah berkhidmat dalam pelbagai jawatan Kabinet sepanjang baki tahun 1980-an dan 1990-an, termasuk sebagai Menteri Pertahanan dan Menteri Pelajaran. \n",
    "Beliau menjadi Timbalan Perdana Menteri pada 7 Januari 2004, berkhidmat di bawah Perdana Menteri Tun Dato' Seri Abdullah Ahmad Badawi, \n",
    "sebelum menggantikan Badawi setahun selepas Barisan Nasional mengalami kerugian besar dalam pilihan raya 2008. \n",
    "Di bawah kepimpinan beliau, Barisan Nasional memenangi pilihan raya 2013, \n",
    "walaupun buat kali pertama dalam sejarah Malaysia pembangkang memenangi majoriti undi popular.\n",
    "\"\"\"\n",
    "q_wikipedia = [\n",
    "    'pada umur berapa najib razak menggantikan ayahnya', \n",
    "    'Apakah jawatan yang pernah dipegang oleh Najib Razak',\n",
    "    'what age najib razak replaced his father']"
   ]
  },
  {
   "cell_type": "code",
   "execution_count": 17,
   "metadata": {},
   "outputs": [
    {
     "data": {
      "text/plain": [
       "['23', 'Menteri Pertahanan dan Menteri Pelajaran', '23']"
      ]
     },
     "execution_count": 17,
     "metadata": {},
     "output_type": "execute_result"
    }
   ],
   "source": [
    "model.predict(p_wikipedia, q_wikipedia)"
   ]
  },
  {
   "cell_type": "code",
   "execution_count": 18,
   "metadata": {},
   "outputs": [
    {
     "data": {
      "text/plain": [
       "['23', 'menggantikan bapanya duduk di kerusi Pekan', '23']"
      ]
     },
     "execution_count": 18,
     "metadata": {},
     "output_type": "execute_result"
    }
   ],
   "source": [
    "model_flan.predict(p_wikipedia, q_wikipedia)"
   ]
  },
  {
   "cell_type": "code",
   "execution_count": 19,
   "metadata": {},
   "outputs": [],
   "source": [
    "# https://www.malaysiakini.com/news/574914\n",
    "\n",
    "p_news = \"\"\"\n",
    "Bekas perdana menteri Najib Razak mempersoalkan tindakan polis yang menurutnya tidak serta-merta mengeluarkan kenyataan berhubung dakwaan Adun Perikatan Nasional (PN) \"merancang\" insiden rogol.\n",
    "Sedangkan, kata ahli parlimen Pekan itu, polis pantas mengeluarkan kenyataan apabila dia dilapor terlupa mengimbas MySejahtera sebelum masuk restoran.\n",
    "\"Berita Najib lupa scan MySejahtera tular, kenyataan polis terus keluar. Berita Dr Mahathir Mohamad lupa scan, kenyataan, polis serta-merta keluar.\n",
    "\"Sebab itu saya pelik kenapa pihak polis belum sempat keluar apa-apa kenyataan berhubung kes seorang gadis membuat laporan polis untuk dakwa Adun PN rancang insiden rogolnya,\" katanya di Facebook hari ini.\n",
    "Najib merujuk dakwaan seorang wanita yang mendakwa dirogol kenalan kepada Adun Gombak Setia, Hilman Idham.\n",
    "Wanita itu mendakwa ahli politik dari Bersatu berkenaan merancang insiden yang berlaku pada 5 Dis lalu.\n",
    "Menurut laporan polis pada 8 Mei, mangsa mendakwa kejadian itu berlaku di sebuah hotel di Selangor, yang pada masa itu berada di bawah perintah kawalan pergerakan bersyarat (PKPB).\n",
    "\"\"\"\n",
    "\n",
    "q_news = [\n",
    "    'siapakah yang mempersoalkan tindakan polis', \n",
    "    'siapakah Adun Gombak Setia',\n",
    "    'who is the victim on 8 may incident',\n",
    "    'where does the 8 may incident happened',\n",
    "]"
   ]
  },
  {
   "cell_type": "code",
   "execution_count": 20,
   "metadata": {},
   "outputs": [
    {
     "data": {
      "text/plain": [
       "['Bekas perdana menteri Najib Razak',\n",
       " 'Hilman Idham',\n",
       " 'Hilman Idham',\n",
       " 'hotel di Selangor']"
      ]
     },
     "execution_count": 20,
     "metadata": {},
     "output_type": "execute_result"
    }
   ],
   "source": [
    "model.predict(p_news, q_news)"
   ]
  },
  {
   "cell_type": "code",
   "execution_count": 21,
   "metadata": {},
   "outputs": [
    {
     "data": {
      "text/plain": [
       "['Bekas perdana menteri Najib Razak',\n",
       " 'Hilman Idham',\n",
       " 'Hilman Idham',\n",
       " 'sebuah hotel di Selangor']"
      ]
     },
     "execution_count": 21,
     "metadata": {},
     "output_type": "execute_result"
    }
   ],
   "source": [
    "model_flan.predict(p_news, q_news)"
   ]
  },
  {
   "cell_type": "code",
   "execution_count": 22,
   "metadata": {},
   "outputs": [],
   "source": [
    "# https://en.wikipedia.org/wiki/Anwar_Ibrahim\n",
    "\n",
    "p_anwar = \"\"\"\n",
    "A graduate from University of Malaya, Anwar started his political career as one of the founders of youth organisation Angkatan Belia Islam Malaysia (ABIM).[4] After joining the United Malays National Organisation (UMNO), the major party in the long-time ruling BN coalition, Anwar held several cabinet positions in successive governments in the 1980s and 1990s. He was Deputy Prime Minister and Finance Minister during the 1990s and was prominent in Malaysia's response to the 1997 Asian financial crisis.[5] In 1998, he was removed from all posts by Prime Minister Mahathir Mohamad and went on to spearhead the Reformasi movement against the government. Anwar was jailed in April 1999 after a trial for sodomy and corruption that was criticised by human rights groups[6] and several foreign governments, until his release in 2004 after his conviction was overturned. He made a comeback as Leader of the Opposition from 2008 to 2015 and coalesced opposition parties into the Pakatan Rakyat (PR) coalition, which unsuccessfully contested in the 2008 and 2013 general elections. He disputed the results of the 2013 elections and led a protest in response.\n",
    "\n",
    "In 2014, Anwar's attempt to become Selangor head of government in the 2014 Kajang Move led to a nine-month political crisis, which ended when he was sentenced to another five years imprisonment after a second sodomy conviction in 2015.[7] While still in prison, Anwar re-joined Mahathir Mohamad in the new Pakatan Harapan (PH) coalition in absentia, which went on to win the 2018 general election. Mahathir outlined a plan for Anwar to take over from himself as Prime Minister after an unspecified interim period.[8] Anwar received a royal pardon from Yang di-Pertuan Agong Muhammad V[9] and was released from prison in May 2018.[10][11] He returned to parliament in the 2018 Port Dickson by-election while his wife Wan Azizah Wan Ismail served as the Deputy Prime Minister in the PH administration. The collapse of the coalition during 2020–22 Malaysian political crisis led to the new Perikatan Nasional (PN) coalition under Muhyiddin Yassin being sworn in and Anwar becoming Leader of the Opposition for the second time in May 2020.\n",
    "\"\"\"\n",
    "\n",
    "q_anwar = [\n",
    "    'tahun bila kajang move', \n",
    "    'macam mana anwar mula his political career',\n",
    "    'siapa yang bagi pengampunan kepada anwar',\n",
    "]"
   ]
  },
  {
   "cell_type": "code",
   "execution_count": 23,
   "metadata": {},
   "outputs": [
    {
     "data": {
      "text/plain": [
       "['2014',\n",
       " 'youth organisation Angkatan Belia Islam Malaysia',\n",
       " 'Yang di-Pertuan Agong Muhammad V']"
      ]
     },
     "execution_count": 23,
     "metadata": {},
     "output_type": "execute_result"
    }
   ],
   "source": [
    "model.predict(p_anwar, q_anwar)"
   ]
  },
  {
   "cell_type": "code",
   "execution_count": 24,
   "metadata": {
    "scrolled": true
   },
   "outputs": [
    {
     "data": {
      "text/plain": [
       "['2014',\n",
       " 'A graduate from University of Malaya',\n",
       " 'Anwar was jailed in April 1999 after a trial for sodomy and corruption']"
      ]
     },
     "execution_count": 24,
     "metadata": {},
     "output_type": "execute_result"
    }
   ],
   "source": [
    "model_flan.predict(p_anwar, q_anwar)"
   ]
  }
 ],
 "metadata": {
  "kernelspec": {
   "display_name": "Python 3 (ipykernel)",
   "language": "python",
   "name": "python3"
  },
  "language_info": {
   "codemirror_mode": {
    "name": "ipython",
    "version": 3
   },
   "file_extension": ".py",
   "mimetype": "text/x-python",
   "name": "python",
   "nbconvert_exporter": "python",
   "pygments_lexer": "ipython3",
   "version": "3.8.10"
  },
  "varInspector": {
   "cols": {
    "lenName": 16,
    "lenType": 16,
    "lenVar": 40
   },
   "kernels_config": {
    "python": {
     "delete_cmd_postfix": "",
     "delete_cmd_prefix": "del ",
     "library": "var_list.py",
     "varRefreshCmd": "print(var_dic_list())"
    },
    "r": {
     "delete_cmd_postfix": ") ",
     "delete_cmd_prefix": "rm(",
     "library": "var_list.r",
     "varRefreshCmd": "cat(var_dic_list()) "
    }
   },
   "types_to_exclude": [
    "module",
    "function",
    "builtin_function_or_method",
    "instance",
    "_Feature"
   ],
   "window_display": false
  }
 },
 "nbformat": 4,
 "nbformat_minor": 5
}
