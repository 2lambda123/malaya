{
 "cells": [
  {
   "cell_type": "code",
   "execution_count": 1,
   "metadata": {},
   "outputs": [
    {
     "name": "stderr",
     "output_type": "stream",
     "text": [
      "/usr/local/lib/python3.5/dist-packages/sklearn/cross_validation.py:41: DeprecationWarning: This module was deprecated in version 0.18 in favor of the model_selection module into which all the refactored classes and functions are moved. Also note that the interface of the new CV iterators are different from that of this module. This module will be removed in 0.20.\n",
      "  \"This module will be removed in 0.20.\", DeprecationWarning)\n"
     ]
    }
   ],
   "source": [
    "import malaya"
   ]
  },
  {
   "cell_type": "code",
   "execution_count": 2,
   "metadata": {},
   "outputs": [
    {
     "data": {
      "text/plain": [
       "[('KUALA', 'FAC', 'KN'),\n",
       " ('LUMPUR:', 'FAC', 'KN'),\n",
       " ('Sempena', 'O', 'KN'),\n",
       " ('sambutan', 'O', 'KN'),\n",
       " ('Aidilfitri', 'EVENT', 'KN'),\n",
       " ('minggu', 'O', 'KN'),\n",
       " ('depan,', 'O', 'KN'),\n",
       " ('Perdana', 'PRN', 'KN'),\n",
       " ('Menteri', 'PRN', 'KN'),\n",
       " ('Tun', 'PRN', 'KN'),\n",
       " ('Dr', 'PRN', 'KN'),\n",
       " ('Mahathir', 'PRN', 'KN'),\n",
       " ('Mohamad', 'PRN', 'KN'),\n",
       " ('dan', 'O', 'KH'),\n",
       " ('Menteri', 'PRN', 'KN'),\n",
       " ('Pengangkutan', 'PRN', 'KN'),\n",
       " ('Anthony', 'PRN', 'KN'),\n",
       " ('Loke', 'PRN', 'KN'),\n",
       " ('Siew', 'PRN', 'KN'),\n",
       " ('Fook', 'PRN', 'KN'),\n",
       " ('menitipkan', 'PRN', 'KN'),\n",
       " ('pesanan', 'O', 'KN'),\n",
       " ('khas', 'O', 'KN'),\n",
       " ('kepada', 'O', 'KS'),\n",
       " ('orang', 'O', 'KN'),\n",
       " ('ramai', 'O', 'KN'),\n",
       " ('yang', 'O', 'KETERANGAN'),\n",
       " ('mahu', 'O', 'KN'),\n",
       " ('pulang', 'O', 'KN'),\n",
       " ('ke', 'O', 'KS'),\n",
       " ('kampung', 'O', 'KN'),\n",
       " ('halaman', 'O', 'KN'),\n",
       " ('masing-masing.', 'O', 'KN'),\n",
       " ('Dalam', 'O', 'KN'),\n",
       " ('video', 'O', 'KN'),\n",
       " ('pendek', 'O', 'KN'),\n",
       " ('terbitan', 'O', 'KN'),\n",
       " ('Jabatan', 'NORP', 'KN'),\n",
       " ('Keselamatan', 'NORP', 'KN'),\n",
       " ('Jalan', 'O', 'KN'),\n",
       " ('Raya', 'ART', 'KN'),\n",
       " ('(JKJR)', 'ART', 'KN'),\n",
       " ('itu,', 'O', 'GN'),\n",
       " ('Dr', 'PRN', 'KN'),\n",
       " ('Mahathir', 'PRN', 'KN'),\n",
       " ('menasihati', 'PRN', 'KN'),\n",
       " ('mereka', 'O', 'GN'),\n",
       " ('supaya', 'O', 'KH'),\n",
       " ('berhenti', 'O', 'KJ'),\n",
       " ('berehat', 'O', 'KN'),\n",
       " ('dan', 'O', 'KH'),\n",
       " ('tidur', 'O', 'KN'),\n",
       " ('sebentar', 'O', 'KA'),\n",
       " ('sekiranya', 'O', 'KJ'),\n",
       " ('mengantuk', 'O', 'KN'),\n",
       " ('ketika', 'O', 'KN'),\n",
       " ('memandu.', 'O', 'KJ')]"
      ]
     },
     "execution_count": 2,
     "metadata": {},
     "output_type": "execute_result"
    }
   ],
   "source": [
    "model=malaya.deep_learning()\n",
    "model.predict('KUALA LUMPUR: Sempena sambutan Aidilfitri minggu depan, Perdana Menteri Tun Dr Mahathir Mohamad dan Menteri Pengangkutan Anthony Loke Siew Fook menitipkan pesanan khas kepada orang ramai yang mahu pulang ke kampung halaman masing-masing. Dalam video pendek terbitan Jabatan Keselamatan Jalan Raya (JKJR) itu, Dr Mahathir menasihati mereka supaya berhenti berehat dan tidur sebentar  sekiranya mengantuk ketika memandu.')"
   ]
  },
  {
   "cell_type": "code",
   "execution_count": 3,
   "metadata": {},
   "outputs": [
    {
     "data": {
      "text/plain": [
       "[('KUALA', 'LOC', 'KN'),\n",
       " ('LUMPUR:', 'LOC', 'KN'),\n",
       " ('Sempena', 'O', 'KN'),\n",
       " ('sambutan', 'O', 'KN'),\n",
       " ('Aidilfitri', 'EVENT', 'KN'),\n",
       " ('minggu', 'O', 'KN'),\n",
       " ('depan,', 'O', 'KN'),\n",
       " ('Perdana', 'PRN', 'KN'),\n",
       " ('Menteri', 'PRN', 'KN'),\n",
       " ('Tun', 'PRN', 'KN'),\n",
       " ('Dr', 'PRN', 'KN'),\n",
       " ('Mahathir', 'PRN', 'KN'),\n",
       " ('Mohamad', 'PRN', 'KN'),\n",
       " ('dan', 'O', 'KH'),\n",
       " ('Menteri', 'PRN', 'KN'),\n",
       " ('Pengangkutan', 'LAW', 'KN'),\n",
       " ('Anthony', 'PRN', 'KN'),\n",
       " ('Loke', 'PRN', 'KN'),\n",
       " ('Siew', 'PRN', 'KN'),\n",
       " ('Fook', 'PRN', 'KN'),\n",
       " ('menitipkan', 'O', 'KN'),\n",
       " ('pesanan', 'O', 'KN'),\n",
       " ('khas', 'O', 'KN'),\n",
       " ('kepada', 'O', 'KS'),\n",
       " ('orang', 'O', 'KN'),\n",
       " ('ramai', 'O', 'KN'),\n",
       " ('yang', 'O', 'KETERANGAN'),\n",
       " ('mahu', 'O', 'KN'),\n",
       " ('pulang', 'O', 'KN'),\n",
       " ('ke', 'O', 'KS'),\n",
       " ('kampung', 'LOC', 'KN'),\n",
       " ('halaman', 'LOC', 'KN'),\n",
       " ('masing-masing.', 'O', 'KN'),\n",
       " ('Dalam', 'O', 'KS'),\n",
       " ('video', 'O', 'KN'),\n",
       " ('pendek', 'O', 'KN'),\n",
       " ('terbitan', 'O', 'KN'),\n",
       " ('Jabatan', 'NORP', 'KN'),\n",
       " ('Keselamatan', 'O', 'KN'),\n",
       " ('Jalan', 'LOC', 'KN'),\n",
       " ('Raya', 'ART', 'KN'),\n",
       " ('(JKJR)', 'PRN', 'KN'),\n",
       " ('itu,', 'O', 'GN'),\n",
       " ('Dr', 'PRN', 'KN'),\n",
       " ('Mahathir', 'PRN', 'KN'),\n",
       " ('menasihati', 'O', 'KJ'),\n",
       " ('mereka', 'O', 'GN'),\n",
       " ('supaya', 'O', 'KH'),\n",
       " ('berhenti', 'O', 'KJ'),\n",
       " ('berehat', 'O', 'KA'),\n",
       " ('dan', 'O', 'KH'),\n",
       " ('tidur', 'O', 'KN'),\n",
       " ('sebentar', 'O', 'KETERANGAN'),\n",
       " ('sekiranya', 'O', 'KN'),\n",
       " ('mengantuk', 'O', 'KJ'),\n",
       " ('ketika', 'O', 'KN'),\n",
       " ('memandu.', 'O', 'KJ')]"
      ]
     },
     "execution_count": 3,
     "metadata": {},
     "output_type": "execute_result"
    }
   ],
   "source": [
    "model=malaya.deep_learning('char')\n",
    "model.predict('KUALA LUMPUR: Sempena sambutan Aidilfitri minggu depan, Perdana Menteri Tun Dr Mahathir Mohamad dan Menteri Pengangkutan Anthony Loke Siew Fook menitipkan pesanan khas kepada orang ramai yang mahu pulang ke kampung halaman masing-masing. Dalam video pendek terbitan Jabatan Keselamatan Jalan Raya (JKJR) itu, Dr Mahathir menasihati mereka supaya berhenti berehat dan tidur sebentar  sekiranya mengantuk ketika memandu.')"
   ]
  },
  {
   "cell_type": "code",
   "execution_count": null,
   "metadata": {},
   "outputs": [],
   "source": []
  }
 ],
 "metadata": {
  "kernelspec": {
   "display_name": "Python 3",
   "language": "python",
   "name": "python3"
  },
  "language_info": {
   "codemirror_mode": {
    "name": "ipython",
    "version": 3
   },
   "file_extension": ".py",
   "mimetype": "text/x-python",
   "name": "python",
   "nbconvert_exporter": "python",
   "pygments_lexer": "ipython3",
   "version": "3.5.2"
  }
 },
 "nbformat": 4,
 "nbformat_minor": 2
}
