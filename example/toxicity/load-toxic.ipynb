{
 "cells": [
  {
   "cell_type": "markdown",
   "metadata": {},
   "source": [
    "# Toxicity Analysis"
   ]
  },
  {
   "cell_type": "markdown",
   "metadata": {},
   "source": [
    "<div class=\"alert alert-info\">\n",
    "\n",
    "This tutorial is available as an IPython notebook at [Malaya/example/toxicity](https://github.com/huseinzol05/Malaya/tree/master/example/toxicity).\n",
    "    \n",
    "</div>"
   ]
  },
  {
   "cell_type": "markdown",
   "metadata": {},
   "source": [
    "<div class=\"alert alert-info\">\n",
    "\n",
    "This module trained on both standard and local (included social media) language structures, so it is save to use for both.\n",
    "    \n",
    "</div>"
   ]
  },
  {
   "cell_type": "code",
   "execution_count": 1,
   "metadata": {},
   "outputs": [
    {
     "name": "stdout",
     "output_type": "stream",
     "text": [
      "CPU times: user 5.54 s, sys: 821 ms, total: 6.36 s\n",
      "Wall time: 5.67 s\n"
     ]
    }
   ],
   "source": [
    "%%time\n",
    "import malaya"
   ]
  },
  {
   "cell_type": "markdown",
   "metadata": {},
   "source": [
    "### Models accuracy\n",
    "\n",
    "We use `sklearn.metrics.classification_report` for accuracy reporting, check at https://malaya.readthedocs.io/en/latest/models-accuracy.html#toxicity-analysis"
   ]
  },
  {
   "cell_type": "markdown",
   "metadata": {},
   "source": [
    "### labels supported\n",
    "\n",
    "Default labels for toxicity module."
   ]
  },
  {
   "cell_type": "code",
   "execution_count": 2,
   "metadata": {},
   "outputs": [
    {
     "data": {
      "text/plain": [
       "['severe toxic',\n",
       " 'obscene',\n",
       " 'identity attack',\n",
       " 'insult',\n",
       " 'threat',\n",
       " 'asian',\n",
       " 'atheist',\n",
       " 'bisexual',\n",
       " 'buddhist',\n",
       " 'christian',\n",
       " 'female',\n",
       " 'heterosexual',\n",
       " 'indian',\n",
       " 'homosexual, gay or lesbian',\n",
       " 'intellectual or learning disability',\n",
       " 'male',\n",
       " 'muslim',\n",
       " 'other disability',\n",
       " 'other gender',\n",
       " 'other race or ethnicity',\n",
       " 'other religion',\n",
       " 'other sexual orientation',\n",
       " 'physical disability',\n",
       " 'psychiatric or mental illness',\n",
       " 'transgender',\n",
       " 'malay',\n",
       " 'chinese']"
      ]
     },
     "execution_count": 2,
     "metadata": {},
     "output_type": "execute_result"
    }
   ],
   "source": [
    "malaya.toxicity.label"
   ]
  },
  {
   "cell_type": "code",
   "execution_count": 3,
   "metadata": {},
   "outputs": [],
   "source": [
    "string = 'Benda yg SALAH ni, jgn lah didebatkan. Yg SALAH xkan jadi betul. Ingat tu. Mcm mana kesat sekalipun org sampaikan mesej, dan memang benda tu salah, diam je. Xyah nk tunjuk kau open sangat nk tegur cara org lain berdakwah. '\n",
    "another_string = 'melayu bodoh, dah la gay, sokong lgbt lagi, memang tak guna'\n",
    "string1 = 'Sis, students from overseas were brought back because they are not in their countries which is if something happens to them, its not the other countries’ responsibility. Student dalam malaysia ni dah dlm tggjawab kerajaan. Mana part yg tak faham?'\n",
    "string2 = 'Harap kerajaan tak bukak serentak. Slowly release week by week. Focus on economy related industries dulu'"
   ]
  },
  {
   "cell_type": "markdown",
   "metadata": {},
   "source": [
    "### Load multinomial model\n",
    "\n",
    "```python\n",
    "def multinomial(**kwargs):\n",
    "    \"\"\"\n",
    "    Load multinomial toxicity model.\n",
    "\n",
    "    Returns\n",
    "    -------\n",
    "    result : malaya.model.ml.MultilabelBayes class\n",
    "    \"\"\"\n",
    "```"
   ]
  },
  {
   "cell_type": "code",
   "execution_count": 9,
   "metadata": {},
   "outputs": [],
   "source": [
    "model = malaya.toxicity.multinomial()"
   ]
  },
  {
   "cell_type": "markdown",
   "metadata": {},
   "source": [
    "#### Predict batch of strings\n",
    "\n",
    "```python\n",
    "def predict(self, strings: List[str]):\n",
    "    \"\"\"\n",
    "    classify list of strings.\n",
    "\n",
    "    Parameters\n",
    "    ----------\n",
    "    strings: List[str]\n",
    "\n",
    "    Returns\n",
    "    -------\n",
    "    result: List[str]\n",
    "    \"\"\"\n",
    "```"
   ]
  },
  {
   "cell_type": "code",
   "execution_count": 6,
   "metadata": {},
   "outputs": [
    {
     "data": {
      "text/plain": [
       "[['severe toxic',\n",
       "  'obscene',\n",
       "  'identity attack',\n",
       "  'insult',\n",
       "  'indian',\n",
       "  'malay',\n",
       "  'chinese']]"
      ]
     },
     "execution_count": 6,
     "metadata": {},
     "output_type": "execute_result"
    }
   ],
   "source": [
    "model.predict([string])"
   ]
  },
  {
   "cell_type": "markdown",
   "metadata": {},
   "source": [
    "#### Predict batch of strings with probability\n",
    "\n",
    "```python\n",
    "def predict_proba(self, strings: List[str]):\n",
    "    \"\"\"\n",
    "    classify list of strings and return probability.\n",
    "\n",
    "    Parameters\n",
    "    ----------\n",
    "    strings: List[str]\n",
    "\n",
    "    Returns\n",
    "    -------\n",
    "    result: List[dict[str, float]]\n",
    "    \"\"\"\n",
    "```"
   ]
  },
  {
   "cell_type": "code",
   "execution_count": 7,
   "metadata": {},
   "outputs": [
    {
     "data": {
      "text/plain": [
       "[{'severe toxic': 0.997487040981572,\n",
       "  'obscene': 0.9455379277616331,\n",
       "  'identity attack': 0.8274699625500679,\n",
       "  'insult': 0.5607594945618526,\n",
       "  'threat': 0.024772971511820983,\n",
       "  'asian': 0.0221240002096628,\n",
       "  'atheist': 0.013774558637508741,\n",
       "  'bisexual': 0.0024495807483865223,\n",
       "  'buddhist': 0.004640372956039871,\n",
       "  'christian': 0.052795457745171054,\n",
       "  'female': 0.05289744129561423,\n",
       "  'heterosexual': 0.008128507494633362,\n",
       "  'indian': 0.9023637357823499,\n",
       "  'homosexual, gay or lesbian': 0.04385664232535533,\n",
       "  'intellectual or learning disability': 0.0014981591337876019,\n",
       "  'male': 0.07976929455558882,\n",
       "  'muslim': 0.08806420077375651,\n",
       "  'other disability': 0.0,\n",
       "  'other gender': 0.0,\n",
       "  'other race or ethnicity': 0.0017014040578187566,\n",
       "  'other religion': 0.0017333144620482767,\n",
       "  'other sexual orientation': 0.00122606681013474,\n",
       "  'physical disability': 0.001489522998169223,\n",
       "  'psychiatric or mental illness': 0.027125947355667267,\n",
       "  'transgender': 0.012349564445375391,\n",
       "  'malay': 0.9991900346707605,\n",
       "  'chinese': 0.9886782229459774}]"
      ]
     },
     "execution_count": 7,
     "metadata": {},
     "output_type": "execute_result"
    }
   ],
   "source": [
    "model.predict_proba([string])"
   ]
  },
  {
   "cell_type": "markdown",
   "metadata": {},
   "source": [
    "### List available Transformer models"
   ]
  },
  {
   "cell_type": "code",
   "execution_count": 4,
   "metadata": {},
   "outputs": [
    {
     "data": {
      "text/html": [
       "<div>\n",
       "<style scoped>\n",
       "    .dataframe tbody tr th:only-of-type {\n",
       "        vertical-align: middle;\n",
       "    }\n",
       "\n",
       "    .dataframe tbody tr th {\n",
       "        vertical-align: top;\n",
       "    }\n",
       "\n",
       "    .dataframe thead th {\n",
       "        text-align: right;\n",
       "    }\n",
       "</style>\n",
       "<table border=\"1\" class=\"dataframe\">\n",
       "  <thead>\n",
       "    <tr style=\"text-align: right;\">\n",
       "      <th></th>\n",
       "      <th>Size (MB)</th>\n",
       "      <th>Quantized Size (MB)</th>\n",
       "      <th>micro precision</th>\n",
       "      <th>micro recall</th>\n",
       "      <th>micro f1-score</th>\n",
       "    </tr>\n",
       "  </thead>\n",
       "  <tbody>\n",
       "    <tr>\n",
       "      <th>bert</th>\n",
       "      <td>425.6</td>\n",
       "      <td>111.00</td>\n",
       "      <td>0.86098</td>\n",
       "      <td>0.77313</td>\n",
       "      <td>0.81469</td>\n",
       "    </tr>\n",
       "    <tr>\n",
       "      <th>tiny-bert</th>\n",
       "      <td>57.4</td>\n",
       "      <td>15.40</td>\n",
       "      <td>0.83535</td>\n",
       "      <td>0.79611</td>\n",
       "      <td>0.81526</td>\n",
       "    </tr>\n",
       "    <tr>\n",
       "      <th>albert</th>\n",
       "      <td>48.6</td>\n",
       "      <td>12.80</td>\n",
       "      <td>0.86054</td>\n",
       "      <td>0.76973</td>\n",
       "      <td>0.81261</td>\n",
       "    </tr>\n",
       "    <tr>\n",
       "      <th>tiny-albert</th>\n",
       "      <td>22.4</td>\n",
       "      <td>5.98</td>\n",
       "      <td>0.83535</td>\n",
       "      <td>0.79611</td>\n",
       "      <td>0.81526</td>\n",
       "    </tr>\n",
       "    <tr>\n",
       "      <th>xlnet</th>\n",
       "      <td>446.6</td>\n",
       "      <td>118.00</td>\n",
       "      <td>0.77904</td>\n",
       "      <td>0.83829</td>\n",
       "      <td>0.80758</td>\n",
       "    </tr>\n",
       "    <tr>\n",
       "      <th>alxlnet</th>\n",
       "      <td>46.8</td>\n",
       "      <td>13.30</td>\n",
       "      <td>0.83376</td>\n",
       "      <td>0.80221</td>\n",
       "      <td>0.81768</td>\n",
       "    </tr>\n",
       "    <tr>\n",
       "      <th>fastformer</th>\n",
       "      <td>446.6</td>\n",
       "      <td>118.00</td>\n",
       "      <td>0.88249</td>\n",
       "      <td>0.74826</td>\n",
       "      <td>0.80985</td>\n",
       "    </tr>\n",
       "    <tr>\n",
       "      <th>tiny-fastformer</th>\n",
       "      <td>77.3</td>\n",
       "      <td>19.60</td>\n",
       "      <td>0.85131</td>\n",
       "      <td>0.76620</td>\n",
       "      <td>0.80652</td>\n",
       "    </tr>\n",
       "  </tbody>\n",
       "</table>\n",
       "</div>"
      ],
      "text/plain": [
       "                 Size (MB)  Quantized Size (MB)  micro precision  \\\n",
       "bert                 425.6               111.00          0.86098   \n",
       "tiny-bert             57.4                15.40          0.83535   \n",
       "albert                48.6                12.80          0.86054   \n",
       "tiny-albert           22.4                 5.98          0.83535   \n",
       "xlnet                446.6               118.00          0.77904   \n",
       "alxlnet               46.8                13.30          0.83376   \n",
       "fastformer           446.6               118.00          0.88249   \n",
       "tiny-fastformer       77.3                19.60          0.85131   \n",
       "\n",
       "                 micro recall  micro f1-score  \n",
       "bert                  0.77313         0.81469  \n",
       "tiny-bert             0.79611         0.81526  \n",
       "albert                0.76973         0.81261  \n",
       "tiny-albert           0.79611         0.81526  \n",
       "xlnet                 0.83829         0.80758  \n",
       "alxlnet               0.80221         0.81768  \n",
       "fastformer            0.74826         0.80985  \n",
       "tiny-fastformer       0.76620         0.80652  "
      ]
     },
     "execution_count": 4,
     "metadata": {},
     "output_type": "execute_result"
    }
   ],
   "source": [
    "malaya.toxicity.available_transformer()"
   ]
  },
  {
   "cell_type": "markdown",
   "metadata": {},
   "source": [
    "### Load Transformer model\n",
    "\n",
    "```python\n",
    "def transformer(model: str = 'xlnet', quantized: bool = False, **kwargs):\n",
    "    \"\"\"\n",
    "    Load Transformer toxicity model.\n",
    "\n",
    "    Parameters\n",
    "    ----------\n",
    "    model : str, optional (default='bert')\n",
    "        Model architecture supported. Allowed values:\n",
    "\n",
    "        * ``'bert'`` - Google BERT BASE parameters.\n",
    "        * ``'tiny-bert'`` - Google BERT TINY parameters.\n",
    "        * ``'albert'`` - Google ALBERT BASE parameters.\n",
    "        * ``'tiny-albert'`` - Google ALBERT TINY parameters.\n",
    "        * ``'xlnet'`` - Google XLNET BASE parameters.\n",
    "        * ``'alxlnet'`` - Malaya ALXLNET BASE parameters.\n",
    "        * ``'fastformer'`` - FastFormer BASE parameters.\n",
    "        * ``'tiny-fastformer'`` - FastFormer TINY parameters.\n",
    "\n",
    "    quantized : bool, optional (default=False)\n",
    "        if True, will load 8-bit quantized model.\n",
    "        Quantized model not necessary faster, totally depends on the machine.\n",
    "\n",
    "    Returns\n",
    "    -------\n",
    "    result: model\n",
    "        List of model classes:\n",
    "\n",
    "        * if `bert` in model, will return `malaya.model.bert.SigmoidBERT`.\n",
    "        * if `xlnet` in model, will return `malaya.model.xlnet.SigmoidXLNET`.\n",
    "        * if `fastformer` in model, will return `malaya.model.fastformer.SigmoidFastFormer`.\n",
    "    \"\"\"\n",
    "```"
   ]
  },
  {
   "cell_type": "code",
   "execution_count": 5,
   "metadata": {},
   "outputs": [
    {
     "name": "stderr",
     "output_type": "stream",
     "text": [
      "100%|██████████| 47.0/46.8 [01:05<00:00, 1.39s/MB]\n",
      "184%|██████████| 1.00/0.54 [00:02<-1:59:59, 2.43s/MB]\n",
      "135%|██████████| 1.00/0.74 [00:03<00:00, 3.48s/MB]\n"
     ]
    }
   ],
   "source": [
    "model = malaya.toxicity.transformer(model = 'alxlnet')"
   ]
  },
  {
   "cell_type": "markdown",
   "metadata": {},
   "source": [
    "### Load Quantized model\n",
    "\n",
    "To load 8-bit quantized model, simply pass `quantized = True`, default is `False`.\n",
    "\n",
    "We can expect slightly accuracy drop from quantized model, and not necessary faster than normal 32-bit float model, totally depends on machine."
   ]
  },
  {
   "cell_type": "code",
   "execution_count": null,
   "metadata": {},
   "outputs": [
    {
     "name": "stderr",
     "output_type": "stream",
     "text": [
      "WARNING:root:Load quantized model will cause accuracy drop.\n"
     ]
    }
   ],
   "source": [
    "quantized_model = malaya.toxicity.transformer(model = 'alxlnet', quantized = True)"
   ]
  },
  {
   "cell_type": "markdown",
   "metadata": {},
   "source": [
    "#### Predict batch of strings\n",
    "\n",
    "```python\n",
    "def predict(self, strings: List[str]):\n",
    "    \"\"\"\n",
    "    classify list of strings.\n",
    "\n",
    "    Parameters\n",
    "    ----------\n",
    "    strings: List[str]\n",
    "\n",
    "    Returns\n",
    "    -------\n",
    "    result: List[List[str]]\n",
    "    \"\"\"\n",
    "```"
   ]
  },
  {
   "cell_type": "code",
   "execution_count": 12,
   "metadata": {},
   "outputs": [
    {
     "data": {
      "text/plain": [
       "[['obscene'],\n",
       " ['severe toxic', 'obscene', 'identity attack', 'insult', 'malay']]"
      ]
     },
     "execution_count": 12,
     "metadata": {},
     "output_type": "execute_result"
    }
   ],
   "source": [
    "model.predict([string,another_string])"
   ]
  },
  {
   "cell_type": "markdown",
   "metadata": {},
   "source": [
    "#### Predict batch of strings with probability\n",
    "\n",
    "```python\n",
    "def predict_proba(self, strings: List[str]):\n",
    "    \"\"\"\n",
    "    classify list of strings and return probability.\n",
    "\n",
    "    Parameters\n",
    "    ----------\n",
    "    strings : List[str]\n",
    "\n",
    "    Returns\n",
    "    -------\n",
    "    result: List[dict[str, float]]\n",
    "    \"\"\"\n",
    "```"
   ]
  },
  {
   "cell_type": "code",
   "execution_count": 14,
   "metadata": {},
   "outputs": [
    {
     "data": {
      "text/plain": [
       "[{'severe toxic': 0.30419078,\n",
       "  'obscene': 0.07300964,\n",
       "  'identity attack': 0.02309686,\n",
       "  'insult': 0.14792377,\n",
       "  'threat': 0.0043829083,\n",
       "  'asian': 0.00018724799,\n",
       "  'atheist': 0.0013933778,\n",
       "  'bisexual': 0.0005682409,\n",
       "  'buddhist': 0.0006982982,\n",
       "  'christian': 0.00010216236,\n",
       "  'female': 0.0062876344,\n",
       "  'heterosexual': 3.6597252e-05,\n",
       "  'indian': 0.020283729,\n",
       "  'homosexual, gay or lesbian': 0.0008122027,\n",
       "  'intellectual or learning disability': 0.00015977025,\n",
       "  'male': 0.0007993579,\n",
       "  'muslim': 0.054483294,\n",
       "  'other disability': 0.00017657876,\n",
       "  'other gender': 0.00018069148,\n",
       "  'other race or ethnicity': 6.273389e-05,\n",
       "  'other religion': 0.0011053085,\n",
       "  'other sexual orientation': 0.0013027787,\n",
       "  'physical disability': 0.00010755658,\n",
       "  'psychiatric or mental illness': 0.00078335404,\n",
       "  'transgender': 0.00080055,\n",
       "  'malay': 0.0033579469,\n",
       "  'chinese': 0.20889702},\n",
       " {'severe toxic': 0.99571323,\n",
       "  'obscene': 0.91805434,\n",
       "  'identity attack': 0.95676684,\n",
       "  'insult': 0.7667657,\n",
       "  'threat': 0.02582252,\n",
       "  'asian': 0.00074103475,\n",
       "  'atheist': 0.0012175143,\n",
       "  'bisexual': 0.07754475,\n",
       "  'buddhist': 0.004547477,\n",
       "  'christian': 0.0019699335,\n",
       "  'female': 0.03404945,\n",
       "  'heterosexual': 0.029964417,\n",
       "  'indian': 0.021356285,\n",
       "  'homosexual, gay or lesbian': 0.13626209,\n",
       "  'intellectual or learning disability': 0.021410972,\n",
       "  'male': 0.029543608,\n",
       "  'muslim': 0.06485465,\n",
       "  'other disability': 0.0006414652,\n",
       "  'other gender': 0.04015115,\n",
       "  'other race or ethnicity': 0.010606945,\n",
       "  'other religion': 0.001650244,\n",
       "  'other sexual orientation': 0.04054076,\n",
       "  'physical disability': 0.0025109593,\n",
       "  'psychiatric or mental illness': 0.0022883855,\n",
       "  'transgender': 0.01127643,\n",
       "  'malay': 0.9658916,\n",
       "  'chinese': 0.33373892}]"
      ]
     },
     "execution_count": 14,
     "metadata": {},
     "output_type": "execute_result"
    }
   ],
   "source": [
    "model.predict_proba([string,another_string])"
   ]
  },
  {
   "cell_type": "code",
   "execution_count": 15,
   "metadata": {},
   "outputs": [
    {
     "data": {
      "text/plain": [
       "[{'severe toxic': 0.28386846,\n",
       "  'obscene': 0.25873762,\n",
       "  'identity attack': 0.021321118,\n",
       "  'insult': 0.19023287,\n",
       "  'threat': 0.005617261,\n",
       "  'asian': 0.00022211671,\n",
       "  'atheist': 0.000109523535,\n",
       "  'bisexual': 0.0019034147,\n",
       "  'buddhist': 0.00038090348,\n",
       "  'christian': 0.0016773939,\n",
       "  'female': 0.007807076,\n",
       "  'heterosexual': 0.0001899302,\n",
       "  'indian': 0.049388766,\n",
       "  'homosexual, gay or lesbian': 0.00043603778,\n",
       "  'intellectual or learning disability': 0.0012571216,\n",
       "  'male': 0.0043218136,\n",
       "  'muslim': 0.018054605,\n",
       "  'other disability': 0.0011820793,\n",
       "  'other gender': 0.00044164062,\n",
       "  'other race or ethnicity': 0.00012764335,\n",
       "  'other religion': 0.0009614825,\n",
       "  'other sexual orientation': 0.0040558875,\n",
       "  'physical disability': 0.0005840957,\n",
       "  'psychiatric or mental illness': 0.0023525357,\n",
       "  'transgender': 0.003135711,\n",
       "  'malay': 0.0013717413,\n",
       "  'chinese': 0.0051787198},\n",
       " {'severe toxic': 0.9966523,\n",
       "  'obscene': 0.82459927,\n",
       "  'identity attack': 0.97338796,\n",
       "  'insult': 0.49216133,\n",
       "  'threat': 0.010962069,\n",
       "  'asian': 0.0034621954,\n",
       "  'atheist': 0.0007635355,\n",
       "  'bisexual': 0.044597328,\n",
       "  'buddhist': 0.0061615705,\n",
       "  'christian': 0.0029616058,\n",
       "  'female': 0.023250878,\n",
       "  'heterosexual': 0.0038115382,\n",
       "  'indian': 0.0068957508,\n",
       "  'homosexual, gay or lesbian': 0.084989995,\n",
       "  'intellectual or learning disability': 0.006228268,\n",
       "  'male': 0.070231974,\n",
       "  'muslim': 0.055434316,\n",
       "  'other disability': 0.00017631054,\n",
       "  'other gender': 0.02043128,\n",
       "  'other race or ethnicity': 0.0032926202,\n",
       "  'other religion': 0.0035361946,\n",
       "  'other sexual orientation': 0.018447628,\n",
       "  'physical disability': 0.0007721717,\n",
       "  'psychiatric or mental illness': 0.004228982,\n",
       "  'transgender': 0.0046984255,\n",
       "  'malay': 0.7579823,\n",
       "  'chinese': 0.8585954}]"
      ]
     },
     "execution_count": 15,
     "metadata": {},
     "output_type": "execute_result"
    }
   ],
   "source": [
    "quantized_model.predict_proba([string,another_string])"
   ]
  },
  {
   "cell_type": "markdown",
   "metadata": {},
   "source": [
    "#### Open toxicity visualization dashboard\n",
    "\n",
    "Default when you call `predict_words` it will open a browser with visualization dashboard, you can disable by `visualization=False`.\n",
    "\n",
    "```python\n",
    "def predict_words(\n",
    "    self,\n",
    "    string: str,\n",
    "    method: str = 'last',\n",
    "    bins_size: float = 0.05,\n",
    "    visualization: bool = True,\n",
    "):\n",
    "    \"\"\"\n",
    "    classify words.\n",
    "\n",
    "    Parameters\n",
    "    ----------\n",
    "    string : str\n",
    "    method : str, optional (default='last')\n",
    "        Attention layer supported. Allowed values:\n",
    "\n",
    "        * ``'last'`` - attention from last layer.\n",
    "        * ``'first'`` - attention from first layer.\n",
    "        * ``'mean'`` - average attentions from all layers.\n",
    "    bins_size: float, optional (default=0.05)\n",
    "        default bins size for word distribution histogram.\n",
    "    visualization: bool, optional (default=True)\n",
    "        If True, it will open the visualization dashboard.\n",
    "\n",
    "    Returns\n",
    "    -------\n",
    "    dictionary: results\n",
    "    \"\"\"\n",
    "```\n"
   ]
  },
  {
   "cell_type": "code",
   "execution_count": 6,
   "metadata": {},
   "outputs": [
    {
     "data": {
      "text/html": [
       "<div style=\"width:100%;height:500px\"><div style=\"position:relative;width:100%;height:0;padding-bottom:1;\"><iframe srcdoc=\"&lt;head&gt;\n",
       "  &lt;meta name=&quot;viewport&quot; content=&quot;width=device-width, initial-scale=1&quot;&gt;\n",
       "  &lt;title&gt;Malaya&lt;/title&gt;\n",
       "  &lt;link href=&quot;https://cdn.jsdelivr.net/gh/huseinzol05/malaya/malaya/function/web/static/admin-materialize.min.css&quot;\n",
       "    rel=&quot;stylesheet&quot;&gt;\n",
       "  &lt;link href=&quot;https://fonts.googleapis.com/icon?family=Material+Icons&quot; rel=&quot;stylesheet&quot;&gt;\n",
       "  &lt;link href=&quot;https://afeld.github.io/emoji-css/emoji.css&quot; rel=&quot;stylesheet&quot;&gt;\n",
       "&lt;/head&gt;\n",
       "\n",
       "&lt;body&gt;\n",
       "  &lt;main&gt;\n",
       "    &lt;div class=&quot;container&quot;&gt;\n",
       "      &lt;h4&gt;toxicity classification&lt;/h4&gt;\n",
       "      &lt;div class=&quot;row&quot;&gt;\n",
       "        &lt;div class=&quot;col l4 m4 s12&quot;&gt;\n",
       "          &lt;div id=&quot;count&quot; style=&quot;height: 300px;&quot;&gt;&lt;/div&gt;\n",
       "        &lt;/div&gt;\n",
       "        &lt;div class=&quot;col l4 m4 s12&quot;&gt;\n",
       "          &lt;div id=&quot;histogram&quot; style=&quot;height: 300px;&quot;&gt;&lt;/div&gt;\n",
       "        &lt;/div&gt;\n",
       "        &lt;div class=&quot;col l4 m4 s12&quot;&gt;\n",
       "          &lt;div id=&quot;entropy&quot; style=&quot;height: 300px;&quot;&gt;&lt;/div&gt;\n",
       "        &lt;/div&gt;\n",
       "      &lt;/div&gt;\n",
       "      &lt;div class=&quot;row&quot;&gt;\n",
       "        &lt;p&gt;&lt;mark style=&#x27;background-color:rgb(244, 248, 0)&#x27; class=&#x27;tooltipped&#x27; data-position=&#x27;bottom&#x27; data-tooltip=&quot;Severe Toxic &lt;i class=&#x27;em em-face_vomiting&#x27;&gt;&lt;/i&gt;&lt;i class=&#x27;em em-face_vomiting&#x27;&gt;&lt;/i&gt; 0.996&lt;br&gt;Obscene &lt;i class=&#x27;em em-confounded&#x27;&gt;&lt;/i&gt; 0.922&lt;br&gt;Threat &lt;i class=&#x27;em em-fearful&#x27;&gt;&lt;/i&gt; 0.171&lt;br&gt;Insult &lt;i class=&#x27;em em-boar&#x27;&gt;&lt;/i&gt; 0.714&lt;br&gt;Identity attack &lt;i class=&#x27;em em-cry&#x27;&gt;&lt;/i&gt; 0.933&lt;br&gt;Indian &lt;i class=&#x27;em em-skin-tone-6&#x27;&gt;&lt;/i&gt; 0.036&lt;br&gt;Malay &lt;i class=&#x27;em em-skin-tone-4&#x27;&gt;&lt;/i&gt; 0.894&lt;br&gt;Chinese &lt;i class=&#x27;em em-skin-tone-2&#x27;&gt;&lt;/i&gt; 0.406&lt;br&gt;Attention &lt;i class=&#x27;em em-warning&#x27;&gt;&lt;/i&gt; 0.314&lt;br&gt;&quot;&gt;melayu&lt;/mark&gt; &lt;mark style=&#x27;background-color:rgb(244, 248, 0)&#x27; class=&#x27;tooltipped&#x27; data-position=&#x27;bottom&#x27; data-tooltip=&quot;Severe Toxic &lt;i class=&#x27;em em-face_vomiting&#x27;&gt;&lt;/i&gt;&lt;i class=&#x27;em em-face_vomiting&#x27;&gt;&lt;/i&gt; 0.983&lt;br&gt;Obscene &lt;i class=&#x27;em em-confounded&#x27;&gt;&lt;/i&gt; 0.751&lt;br&gt;Threat &lt;i class=&#x27;em em-fearful&#x27;&gt;&lt;/i&gt; 0.033&lt;br&gt;Insult &lt;i class=&#x27;em em-boar&#x27;&gt;&lt;/i&gt; 0.605&lt;br&gt;Identity attack &lt;i class=&#x27;em em-cry&#x27;&gt;&lt;/i&gt; 0.896&lt;br&gt;Indian &lt;i class=&#x27;em em-skin-tone-6&#x27;&gt;&lt;/i&gt; 0.102&lt;br&gt;Malay &lt;i class=&#x27;em em-skin-tone-4&#x27;&gt;&lt;/i&gt; 0.833&lt;br&gt;Chinese &lt;i class=&#x27;em em-skin-tone-2&#x27;&gt;&lt;/i&gt; 0.569&lt;br&gt;Attention &lt;i class=&#x27;em em-warning&#x27;&gt;&lt;/i&gt; 0.116&lt;br&gt;&quot;&gt;bodoh,&lt;/mark&gt; &lt;mark style=&#x27;background-color:rgb(244, 248, 0)&#x27; class=&#x27;tooltipped&#x27; data-position=&#x27;bottom&#x27; data-tooltip=&quot;Severe Toxic &lt;i class=&#x27;em em-face_vomiting&#x27;&gt;&lt;/i&gt;&lt;i class=&#x27;em em-face_vomiting&#x27;&gt;&lt;/i&gt; 0.951&lt;br&gt;Obscene &lt;i class=&#x27;em em-confounded&#x27;&gt;&lt;/i&gt; 0.858&lt;br&gt;Threat &lt;i class=&#x27;em em-fearful&#x27;&gt;&lt;/i&gt; 0.012&lt;br&gt;Insult &lt;i class=&#x27;em em-boar&#x27;&gt;&lt;/i&gt; 0.546&lt;br&gt;Identity attack &lt;i class=&#x27;em em-cry&#x27;&gt;&lt;/i&gt; 0.854&lt;br&gt;Indian &lt;i class=&#x27;em em-skin-tone-6&#x27;&gt;&lt;/i&gt; 0.007&lt;br&gt;Malay &lt;i class=&#x27;em em-skin-tone-4&#x27;&gt;&lt;/i&gt; 0.916&lt;br&gt;Chinese &lt;i class=&#x27;em em-skin-tone-2&#x27;&gt;&lt;/i&gt; 0.056&lt;br&gt;Attention &lt;i class=&#x27;em em-warning&#x27;&gt;&lt;/i&gt; 0.070&lt;br&gt;&quot;&gt;dah&lt;/mark&gt; &lt;mark style=&#x27;background-color:rgb(244, 248, 0)&#x27; class=&#x27;tooltipped&#x27; data-position=&#x27;bottom&#x27; data-tooltip=&quot;Severe Toxic &lt;i class=&#x27;em em-face_vomiting&#x27;&gt;&lt;/i&gt;&lt;i class=&#x27;em em-face_vomiting&#x27;&gt;&lt;/i&gt; 0.982&lt;br&gt;Obscene &lt;i class=&#x27;em em-confounded&#x27;&gt;&lt;/i&gt; 0.858&lt;br&gt;Threat &lt;i class=&#x27;em em-fearful&#x27;&gt;&lt;/i&gt; 0.015&lt;br&gt;Insult &lt;i class=&#x27;em em-boar&#x27;&gt;&lt;/i&gt; 0.587&lt;br&gt;Identity attack &lt;i class=&#x27;em em-cry&#x27;&gt;&lt;/i&gt; 0.912&lt;br&gt;Indian &lt;i class=&#x27;em em-skin-tone-6&#x27;&gt;&lt;/i&gt; 0.066&lt;br&gt;Malay &lt;i class=&#x27;em em-skin-tone-4&#x27;&gt;&lt;/i&gt; 0.884&lt;br&gt;Chinese &lt;i class=&#x27;em em-skin-tone-2&#x27;&gt;&lt;/i&gt; 0.722&lt;br&gt;Attention &lt;i class=&#x27;em em-warning&#x27;&gt;&lt;/i&gt; 0.079&lt;br&gt;&quot;&gt;la&lt;/mark&gt; &lt;mark style=&#x27;background-color:rgb(230, 183, 0)&#x27; class=&#x27;tooltipped&#x27; data-position=&#x27;bottom&#x27; data-tooltip=&quot;Severe Toxic &lt;i class=&#x27;em em-face_vomiting&#x27;&gt;&lt;/i&gt;&lt;i class=&#x27;em em-face_vomiting&#x27;&gt;&lt;/i&gt; 0.960&lt;br&gt;Obscene &lt;i class=&#x27;em em-confounded&#x27;&gt;&lt;/i&gt; 0.868&lt;br&gt;Threat &lt;i class=&#x27;em em-fearful&#x27;&gt;&lt;/i&gt; 0.068&lt;br&gt;Insult &lt;i class=&#x27;em em-boar&#x27;&gt;&lt;/i&gt; 0.653&lt;br&gt;Identity attack &lt;i class=&#x27;em em-cry&#x27;&gt;&lt;/i&gt; 0.974&lt;br&gt;Indian &lt;i class=&#x27;em em-skin-tone-6&#x27;&gt;&lt;/i&gt; 0.091&lt;br&gt;Malay &lt;i class=&#x27;em em-skin-tone-4&#x27;&gt;&lt;/i&gt; 0.867&lt;br&gt;Chinese &lt;i class=&#x27;em em-skin-tone-2&#x27;&gt;&lt;/i&gt; 0.423&lt;br&gt;Attention &lt;i class=&#x27;em em-warning&#x27;&gt;&lt;/i&gt; 0.136&lt;br&gt;&quot;&gt;gay,&lt;/mark&gt; &lt;mark style=&#x27;background-color:rgb(66, 146, 39)&#x27; class=&#x27;tooltipped&#x27; data-position=&#x27;bottom&#x27; data-tooltip=&quot;Severe Toxic &lt;i class=&#x27;em em-face_vomiting&#x27;&gt;&lt;/i&gt;&lt;i class=&#x27;em em-face_vomiting&#x27;&gt;&lt;/i&gt; 0.959&lt;br&gt;Obscene &lt;i class=&#x27;em em-confounded&#x27;&gt;&lt;/i&gt; 0.910&lt;br&gt;Threat &lt;i class=&#x27;em em-fearful&#x27;&gt;&lt;/i&gt; 0.012&lt;br&gt;Insult &lt;i class=&#x27;em em-boar&#x27;&gt;&lt;/i&gt; 0.509&lt;br&gt;Identity attack &lt;i class=&#x27;em em-cry&#x27;&gt;&lt;/i&gt; 0.852&lt;br&gt;Indian &lt;i class=&#x27;em em-skin-tone-6&#x27;&gt;&lt;/i&gt; 0.039&lt;br&gt;Malay &lt;i class=&#x27;em em-skin-tone-4&#x27;&gt;&lt;/i&gt; 0.984&lt;br&gt;Chinese &lt;i class=&#x27;em em-skin-tone-2&#x27;&gt;&lt;/i&gt; 0.068&lt;br&gt;Attention &lt;i class=&#x27;em em-warning&#x27;&gt;&lt;/i&gt; 0.034&lt;br&gt;&quot;&gt;sokong&lt;/mark&gt; &lt;mark style=&#x27;background-color:rgb(244, 248, 0)&#x27; class=&#x27;tooltipped&#x27; data-position=&#x27;bottom&#x27; data-tooltip=&quot;Severe Toxic &lt;i class=&#x27;em em-face_vomiting&#x27;&gt;&lt;/i&gt;&lt;i class=&#x27;em em-face_vomiting&#x27;&gt;&lt;/i&gt; 0.916&lt;br&gt;Obscene &lt;i class=&#x27;em em-confounded&#x27;&gt;&lt;/i&gt; 0.558&lt;br&gt;Threat &lt;i class=&#x27;em em-fearful&#x27;&gt;&lt;/i&gt; 0.005&lt;br&gt;Insult &lt;i class=&#x27;em em-boar&#x27;&gt;&lt;/i&gt; 0.359&lt;br&gt;Identity attack &lt;i class=&#x27;em em-cry&#x27;&gt;&lt;/i&gt; 0.910&lt;br&gt;Indian &lt;i class=&#x27;em em-skin-tone-6&#x27;&gt;&lt;/i&gt; 0.011&lt;br&gt;Malay &lt;i class=&#x27;em em-skin-tone-4&#x27;&gt;&lt;/i&gt; 0.882&lt;br&gt;Chinese &lt;i class=&#x27;em em-skin-tone-2&#x27;&gt;&lt;/i&gt; 0.039&lt;br&gt;Attention &lt;i class=&#x27;em em-warning&#x27;&gt;&lt;/i&gt; 0.065&lt;br&gt;&quot;&gt;lgbt&lt;/mark&gt; &lt;mark style=&#x27;background-color:rgb(244, 248, 0)&#x27; class=&#x27;tooltipped&#x27; data-position=&#x27;bottom&#x27; data-tooltip=&quot;Severe Toxic &lt;i class=&#x27;em em-face_vomiting&#x27;&gt;&lt;/i&gt;&lt;i class=&#x27;em em-face_vomiting&#x27;&gt;&lt;/i&gt; 0.939&lt;br&gt;Obscene &lt;i class=&#x27;em em-confounded&#x27;&gt;&lt;/i&gt; 0.495&lt;br&gt;Threat &lt;i class=&#x27;em em-fearful&#x27;&gt;&lt;/i&gt; 0.051&lt;br&gt;Insult &lt;i class=&#x27;em em-boar&#x27;&gt;&lt;/i&gt; 0.552&lt;br&gt;Identity attack &lt;i class=&#x27;em em-cry&#x27;&gt;&lt;/i&gt; 0.809&lt;br&gt;Indian &lt;i class=&#x27;em em-skin-tone-6&#x27;&gt;&lt;/i&gt; 0.040&lt;br&gt;Malay &lt;i class=&#x27;em em-skin-tone-4&#x27;&gt;&lt;/i&gt; 0.729&lt;br&gt;Chinese &lt;i class=&#x27;em em-skin-tone-2&#x27;&gt;&lt;/i&gt; 0.175&lt;br&gt;Attention &lt;i class=&#x27;em em-warning&#x27;&gt;&lt;/i&gt; 0.070&lt;br&gt;&quot;&gt;lagi,&lt;/mark&gt; &lt;mark style=&#x27;background-color:rgb(244, 248, 0)&#x27; class=&#x27;tooltipped&#x27; data-position=&#x27;bottom&#x27; data-tooltip=&quot;Severe Toxic &lt;i class=&#x27;em em-face_vomiting&#x27;&gt;&lt;/i&gt;&lt;i class=&#x27;em em-face_vomiting&#x27;&gt;&lt;/i&gt; 0.963&lt;br&gt;Obscene &lt;i class=&#x27;em em-confounded&#x27;&gt;&lt;/i&gt; 0.377&lt;br&gt;Threat &lt;i class=&#x27;em em-fearful&#x27;&gt;&lt;/i&gt; 0.011&lt;br&gt;Insult &lt;i class=&#x27;em em-boar&#x27;&gt;&lt;/i&gt; 0.524&lt;br&gt;Identity attack &lt;i class=&#x27;em em-cry&#x27;&gt;&lt;/i&gt; 0.874&lt;br&gt;Indian &lt;i class=&#x27;em em-skin-tone-6&#x27;&gt;&lt;/i&gt; 0.016&lt;br&gt;Malay &lt;i class=&#x27;em em-skin-tone-4&#x27;&gt;&lt;/i&gt; 0.960&lt;br&gt;Chinese &lt;i class=&#x27;em em-skin-tone-2&#x27;&gt;&lt;/i&gt; 0.021&lt;br&gt;Attention &lt;i class=&#x27;em em-warning&#x27;&gt;&lt;/i&gt; 0.034&lt;br&gt;&quot;&gt;memang&lt;/mark&gt; &lt;mark style=&#x27;background-color:rgb(66, 146, 39)&#x27; class=&#x27;tooltipped&#x27; data-position=&#x27;bottom&#x27; data-tooltip=&quot;Severe Toxic &lt;i class=&#x27;em em-face_vomiting&#x27;&gt;&lt;/i&gt;&lt;i class=&#x27;em em-face_vomiting&#x27;&gt;&lt;/i&gt; 0.967&lt;br&gt;Obscene &lt;i class=&#x27;em em-confounded&#x27;&gt;&lt;/i&gt; 0.659&lt;br&gt;Threat &lt;i class=&#x27;em em-fearful&#x27;&gt;&lt;/i&gt; 0.004&lt;br&gt;Insult &lt;i class=&#x27;em em-boar&#x27;&gt;&lt;/i&gt; 0.443&lt;br&gt;Identity attack &lt;i class=&#x27;em em-cry&#x27;&gt;&lt;/i&gt; 0.744&lt;br&gt;Indian &lt;i class=&#x27;em em-skin-tone-6&#x27;&gt;&lt;/i&gt; 0.001&lt;br&gt;Malay &lt;i class=&#x27;em em-skin-tone-4&#x27;&gt;&lt;/i&gt; 0.980&lt;br&gt;Chinese &lt;i class=&#x27;em em-skin-tone-2&#x27;&gt;&lt;/i&gt; 0.014&lt;br&gt;Attention &lt;i class=&#x27;em em-warning&#x27;&gt;&lt;/i&gt; 0.029&lt;br&gt;&quot;&gt;tak&lt;/mark&gt; &lt;mark style=&#x27;background-color:rgb(66, 146, 39)&#x27; class=&#x27;tooltipped&#x27; data-position=&#x27;bottom&#x27; data-tooltip=&quot;Severe Toxic &lt;i class=&#x27;em em-face_vomiting&#x27;&gt;&lt;/i&gt;&lt;i class=&#x27;em em-face_vomiting&#x27;&gt;&lt;/i&gt; 0.954&lt;br&gt;Obscene &lt;i class=&#x27;em em-confounded&#x27;&gt;&lt;/i&gt; 0.662&lt;br&gt;Threat &lt;i class=&#x27;em em-fearful&#x27;&gt;&lt;/i&gt; 0.001&lt;br&gt;Insult &lt;i class=&#x27;em em-boar&#x27;&gt;&lt;/i&gt; 0.428&lt;br&gt;Identity attack &lt;i class=&#x27;em em-cry&#x27;&gt;&lt;/i&gt; 0.887&lt;br&gt;Indian &lt;i class=&#x27;em em-skin-tone-6&#x27;&gt;&lt;/i&gt; 0.001&lt;br&gt;Malay &lt;i class=&#x27;em em-skin-tone-4&#x27;&gt;&lt;/i&gt; 0.986&lt;br&gt;Chinese &lt;i class=&#x27;em em-skin-tone-2&#x27;&gt;&lt;/i&gt; 0.030&lt;br&gt;Attention &lt;i class=&#x27;em em-warning&#x27;&gt;&lt;/i&gt; 0.052&lt;br&gt;&quot;&gt;guna&lt;/mark&gt;&lt;/p&gt;\n",
       "      &lt;/div&gt;\n",
       "    &lt;/div&gt;\n",
       "  &lt;/main&gt;\n",
       "&lt;/body&gt;\n",
       "\n",
       "&lt;script src=&quot;https://code.jquery.com/jquery-3.4.1.slim.js&quot;&gt;&lt;/script&gt;\n",
       "&lt;script src=&quot;https://cdnjs.cloudflare.com/ajax/libs/materialize/1.0.0/js/materialize.min.js&quot;&gt;&lt;/script&gt;\n",
       "&lt;script src=&quot;https://cdn.jsdelivr.net/gh/huseinzol05/malaya/malaya/function/web/static/echarts.min.js&quot;&gt;&lt;/script&gt;\n",
       "\n",
       "&lt;script&gt;\n",
       "\n",
       "  var plot = echarts.init(document.getElementById(&#x27;count&#x27;));\n",
       "  var colors = [&#x27;rgb(244, 248, 0)&#x27;, &#x27;rgb(248, 34, 13)&#x27;, &#x27;rgb(0, 238, 241)&#x27;,\n",
       "    &#x27;rgb(248, 95, 34)&#x27;, &#x27;rgb(230, 183, 0)&#x27;, &#x27;rgb(96, 187, 173)&#x27;, &#x27;rgb(66, 146, 39)&#x27;, &#x27;rgb(229, 169, 70)&#x27;];\n",
       "\n",
       "  option = {\n",
       "    title: {\n",
       "      text: &#x27;Classes barplot&#x27;\n",
       "    },\n",
       "    tooltip: {\n",
       "      trigger: &#x27;axis&#x27;,\n",
       "      axisPointer: {\n",
       "        type: &#x27;cross&#x27;\n",
       "      }\n",
       "    },\n",
       "    data: [&#x27;Severe Toxic&#x27;, &#x27;Obscene&#x27;, &#x27;Threat&#x27;, &#x27;Insult&#x27;, &#x27;Identity attack&#x27;, &#x27;Indian&#x27;, &#x27;Malay&#x27;, &#x27;Chinese&#x27;],\n",
       "    xAxis: {\n",
       "      type: &#x27;category&#x27;,\n",
       "      data: [&#x27;Severe Toxic&#x27;, &#x27;Obscene&#x27;, &#x27;Threat&#x27;, &#x27;Insult&#x27;, &#x27;Identity attack&#x27;, &#x27;Indian&#x27;, &#x27;Malay&#x27;, &#x27;Chinese&#x27;],\n",
       "      axisLabel: {\n",
       "        interval: 0,\n",
       "        rotate: 30\n",
       "      },\n",
       "    },\n",
       "    yAxis: {\n",
       "      type: &#x27;value&#x27;,\n",
       "      splitLine: {\n",
       "        show: false\n",
       "      }\n",
       "    },\n",
       "    series: [{\n",
       "      data: [7, &#x27;-&#x27;, &#x27;-&#x27;, &#x27;-&#x27;, &#x27;-&#x27;, &#x27;-&#x27;, &#x27;-&#x27;, &#x27;-&#x27;],\n",
       "      type: &#x27;bar&#x27;,\n",
       "      stack: &#x27;1&#x27;,\n",
       "      name: &#x27;Severe Toxic&#x27;,\n",
       "      color: colors[0],\n",
       "      label: {\n",
       "        normal: {\n",
       "          show: true,\n",
       "          position: &#x27;top&#x27;\n",
       "        }\n",
       "      },\n",
       "    },\n",
       "    {\n",
       "      data: [&#x27;-&#x27;, 1, &#x27;-&#x27;, &#x27;-&#x27;, &#x27;-&#x27;, &#x27;-&#x27;, &#x27;-&#x27;, &#x27;-&#x27;],\n",
       "      type: &#x27;bar&#x27;,\n",
       "      stack: &#x27;1&#x27;,\n",
       "      name: &#x27;Obscene&#x27;,\n",
       "      color: colors[1],\n",
       "      label: {\n",
       "        normal: {\n",
       "          show: true,\n",
       "          position: &#x27;top&#x27;\n",
       "        }\n",
       "      },\n",
       "    },\n",
       "    {\n",
       "      data: [&#x27;-&#x27;, &#x27;-&#x27;, 4, &#x27;-&#x27;, &#x27;-&#x27;, &#x27;-&#x27;, &#x27;-&#x27;, &#x27;-&#x27;],\n",
       "      type: &#x27;bar&#x27;,\n",
       "      stack: &#x27;1&#x27;,\n",
       "      name: &#x27;Threat&#x27;,\n",
       "      color: colors[2],\n",
       "      label: {\n",
       "        normal: {\n",
       "          show: true,\n",
       "          position: &#x27;top&#x27;\n",
       "        }\n",
       "      },\n",
       "    },\n",
       "    {\n",
       "      data: [&#x27;-&#x27;, &#x27;-&#x27;, &#x27;-&#x27;, 3, &#x27;-&#x27;, &#x27;-&#x27;, &#x27;-&#x27;, &#x27;-&#x27;],\n",
       "      type: &#x27;bar&#x27;,\n",
       "      stack: &#x27;1&#x27;,\n",
       "      name: &#x27;Insult&#x27;,\n",
       "      color: colors[3],\n",
       "      label: {\n",
       "        normal: {\n",
       "          show: true,\n",
       "          position: &#x27;top&#x27;\n",
       "        }\n",
       "      },\n",
       "    },\n",
       "    {\n",
       "      data: [&#x27;-&#x27;, &#x27;-&#x27;, &#x27;-&#x27;, &#x27;-&#x27;, 1, &#x27;-&#x27;, &#x27;-&#x27;, &#x27;-&#x27;],\n",
       "      type: &#x27;bar&#x27;,\n",
       "      stack: &#x27;1&#x27;,\n",
       "      name: &#x27;Identity attack&#x27;,\n",
       "      color: colors[4],\n",
       "      label: {\n",
       "        normal: {\n",
       "          show: true,\n",
       "          position: &#x27;top&#x27;\n",
       "        }\n",
       "      },\n",
       "    },\n",
       "    {\n",
       "      data: [&#x27;-&#x27;, &#x27;-&#x27;, &#x27;-&#x27;, &#x27;-&#x27;, &#x27;-&#x27;, 12, &#x27;-&#x27;, &#x27;-&#x27;],\n",
       "      type: &#x27;bar&#x27;,\n",
       "      stack: &#x27;1&#x27;,\n",
       "      name: &#x27;Indian&#x27;,\n",
       "      color: colors[5],\n",
       "      label: {\n",
       "        normal: {\n",
       "          show: true,\n",
       "          position: &#x27;top&#x27;\n",
       "        }\n",
       "      },\n",
       "    },\n",
       "    {\n",
       "      data: [&#x27;-&#x27;, &#x27;-&#x27;, &#x27;-&#x27;, &#x27;-&#x27;, &#x27;-&#x27;, &#x27;-&#x27;, 3, &#x27;-&#x27;],\n",
       "      type: &#x27;bar&#x27;,\n",
       "      stack: &#x27;1&#x27;,\n",
       "      name: &#x27;Malay&#x27;,\n",
       "      color: colors[6],\n",
       "      label: {\n",
       "        normal: {\n",
       "          show: true,\n",
       "          position: &#x27;top&#x27;\n",
       "        }\n",
       "      },\n",
       "    },\n",
       "    {\n",
       "      data: [&#x27;-&#x27;, &#x27;-&#x27;, &#x27;-&#x27;, &#x27;-&#x27;, &#x27;-&#x27;, &#x27;-&#x27;, &#x27;-&#x27;, 26],\n",
       "      type: &#x27;bar&#x27;,\n",
       "      stack: &#x27;1&#x27;,\n",
       "      name: &#x27;Chinese&#x27;,\n",
       "      color: colors[7],\n",
       "      label: {\n",
       "        normal: {\n",
       "          show: true,\n",
       "          position: &#x27;top&#x27;\n",
       "        }\n",
       "      },\n",
       "    }\n",
       "    ]\n",
       "  };\n",
       "  plot.setOption(option = option)\n",
       "\n",
       "  option = {\n",
       "    title: {\n",
       "      text: &#x27;probability histogram&#x27;\n",
       "    },\n",
       "    tooltip: {\n",
       "      trigger: &#x27;axis&#x27;,\n",
       "      axisPointer: {\n",
       "        type: &#x27;cross&#x27;\n",
       "      }\n",
       "    },\n",
       "    xAxis: {\n",
       "      type: &#x27;category&#x27;,\n",
       "      data: [0.0, 0.05, 0.1, 0.15000000000000002, 0.2, 0.25, 0.30000000000000004, 0.35000000000000003, 0.4, 0.45, 0.5, 0.55, 0.6000000000000001, 0.65, 0.7000000000000001, 0.75, 0.8, 0.8500000000000001, 0.9, 0.9500000000000001, 1.0],\n",
       "    },\n",
       "    yAxis: {\n",
       "      type: &#x27;value&#x27;,\n",
       "      splitLine: {\n",
       "        show: false\n",
       "      }\n",
       "    },\n",
       "    series: [{\n",
       "      data: [0.0, 0.0, 0.0, 0.0, 0.0, 0.0, 0.0, 0.0, 0.0, 0.0, 0.0, 0.0, 0.0, 0.0, 0.0, 0.0, 0.0, 0.0, 0.18181818181818182, 0.8181818181818182],\n",
       "      type: &#x27;bar&#x27;\n",
       "    }]\n",
       "  };\n",
       "\n",
       "  var plot = echarts.init(document.getElementById(&#x27;histogram&#x27;));\n",
       "  plot.setOption(option = option)\n",
       "\n",
       "  option = {\n",
       "    title: {\n",
       "      text: &#x27;Attention&#x27;\n",
       "    },\n",
       "    tooltip: {\n",
       "      trigger: &#x27;axis&#x27;,\n",
       "      axisPointer: {\n",
       "        type: &#x27;cross&#x27;\n",
       "      }\n",
       "    },\n",
       "    xAxis: {\n",
       "      type: &#x27;category&#x27;,\n",
       "      name: &#x27;Sentence length&#x27;,\n",
       "      nameLocation: &#x27;center&#x27;,\n",
       "      nameGap: 30,\n",
       "      data: [0, 1, 2, 3, 4, 5, 6, 7, 8, 9, 10]\n",
       "    },\n",
       "    yAxis: {\n",
       "      type: &#x27;value&#x27;,\n",
       "      splitLine: {\n",
       "        show: false\n",
       "      }\n",
       "    },\n",
       "    series: [{\n",
       "      data: [0.31419047713279724, 0.1160854920744896, 0.06958094984292984, 0.07899168133735657, 0.13619542121887207, 0.03443043678998947, 0.06481248140335083, 0.070200115442276, 0.03396796062588692, 0.02930516190826893, 0.052239805459976196],\n",
       "      type: &#x27;line&#x27;,\n",
       "      showSymbol: false\n",
       "    }]\n",
       "  };\n",
       "\n",
       "  var plot = echarts.init(document.getElementById(&#x27;entropy&#x27;));\n",
       "  plot.setOption(option = option)\n",
       "\n",
       "  document.addEventListener(&#x27;DOMContentLoaded&#x27;, function () {\n",
       "    var elems = document.querySelectorAll(&#x27;.tooltipped&#x27;);\n",
       "    var instances = M.Tooltip.init(elems);\n",
       "  });\n",
       "\n",
       "&lt;/script&gt;\" style=\"position:absolute;width:100%;height:500px;left:0;top:0;border:none !important;\" allowfullscreen webkitallowfullscreen mozallowfullscreen></iframe></div></div>"
      ],
      "text/plain": [
       "<IPython.core.display.HTML object>"
      ]
     },
     "metadata": {},
     "output_type": "display_data"
    }
   ],
   "source": [
    "model.predict_words(another_string)"
   ]
  },
  {
   "cell_type": "markdown",
   "metadata": {},
   "source": [
    "### Vectorize\n",
    "\n",
    "Let say you want to visualize sentence / word level in lower dimension, you can use `model.vectorize`,\n",
    "\n",
    "```python\n",
    "def vectorize(self, strings: List[str], method: str = 'first'):\n",
    "    \"\"\"\n",
    "    vectorize list of strings.\n",
    "\n",
    "    Parameters\n",
    "    ----------\n",
    "    strings: List[str]\n",
    "    method : str, optional (default='first')\n",
    "        Vectorization layer supported. Allowed values:\n",
    "\n",
    "        * ``'last'`` - vector from last sequence.\n",
    "        * ``'first'`` - vector from first sequence.\n",
    "        * ``'mean'`` - average vectors from all sequences.\n",
    "        * ``'word'`` - average vectors based on tokens.\n",
    "\n",
    "    Returns\n",
    "    -------\n",
    "    result: np.array\n",
    "    \"\"\"\n",
    "```"
   ]
  },
  {
   "cell_type": "markdown",
   "metadata": {},
   "source": [
    "#### Sentence level"
   ]
  },
  {
   "cell_type": "code",
   "execution_count": 8,
   "metadata": {},
   "outputs": [],
   "source": [
    "texts = [string, another_string, string1, string2]\n",
    "r = quantized_model.vectorize(texts, method = 'first')"
   ]
  },
  {
   "cell_type": "code",
   "execution_count": 9,
   "metadata": {},
   "outputs": [
    {
     "data": {
      "text/plain": [
       "(4, 2)"
      ]
     },
     "execution_count": 9,
     "metadata": {},
     "output_type": "execute_result"
    }
   ],
   "source": [
    "from sklearn.manifold import TSNE\n",
    "import matplotlib.pyplot as plt\n",
    "\n",
    "tsne = TSNE().fit_transform(r)\n",
    "tsne.shape"
   ]
  },
  {
   "cell_type": "code",
   "execution_count": 11,
   "metadata": {},
   "outputs": [
    {
     "data": {
      "image/png": "[encoded data removed]",
      "text/plain": [
       "<Figure size 504x504 with 1 Axes>"
      ]
     },
     "metadata": {
      "needs_background": "light"
     },
     "output_type": "display_data"
    }
   ],
   "source": [
    "plt.figure(figsize = (7, 7))\n",
    "plt.scatter(tsne[:, 0], tsne[:, 1])\n",
    "labels = texts\n",
    "for label, x, y in zip(\n",
    "    labels, tsne[:, 0], tsne[:, 1]\n",
    "):\n",
    "    label = (\n",
    "        '%s, %.3f' % (label[0], label[1])\n",
    "        if isinstance(label, list)\n",
    "        else label\n",
    "    )\n",
    "    plt.annotate(\n",
    "        label,\n",
    "        xy = (x, y),\n",
    "        xytext = (0, 0),\n",
    "        textcoords = 'offset points',\n",
    "    )"
   ]
  },
  {
   "cell_type": "markdown",
   "metadata": {},
   "source": [
    "#### Word level"
   ]
  },
  {
   "cell_type": "code",
   "execution_count": 17,
   "metadata": {},
   "outputs": [],
   "source": [
    "r = quantized_model.vectorize(texts, method = 'word')"
   ]
  },
  {
   "cell_type": "code",
   "execution_count": 18,
   "metadata": {},
   "outputs": [],
   "source": [
    "x, y = [], []\n",
    "for row in r:\n",
    "    x.extend([i[0] for i in row])\n",
    "    y.extend([i[1] for i in row])"
   ]
  },
  {
   "cell_type": "code",
   "execution_count": 19,
   "metadata": {},
   "outputs": [
    {
     "data": {
      "text/plain": [
       "(107, 2)"
      ]
     },
     "execution_count": 19,
     "metadata": {},
     "output_type": "execute_result"
    }
   ],
   "source": [
    "tsne = TSNE().fit_transform(y)\n",
    "tsne.shape"
   ]
  },
  {
   "cell_type": "code",
   "execution_count": 20,
   "metadata": {
    "scrolled": false
   },
   "outputs": [
    {
     "data": {
      "image/png": "[encoded data removed]",
      "text/plain": [
       "<Figure size 504x504 with 1 Axes>"
      ]
     },
     "metadata": {
      "needs_background": "light"
     },
     "output_type": "display_data"
    }
   ],
   "source": [
    "plt.figure(figsize = (7, 7))\n",
    "plt.scatter(tsne[:, 0], tsne[:, 1])\n",
    "labels = x\n",
    "for label, x, y in zip(\n",
    "    labels, tsne[:, 0], tsne[:, 1]\n",
    "):\n",
    "    label = (\n",
    "        '%s, %.3f' % (label[0], label[1])\n",
    "        if isinstance(label, list)\n",
    "        else label\n",
    "    )\n",
    "    plt.annotate(\n",
    "        label,\n",
    "        xy = (x, y),\n",
    "        xytext = (0, 0),\n",
    "        textcoords = 'offset points',\n",
    "    )"
   ]
  },
  {
   "cell_type": "markdown",
   "metadata": {},
   "source": [
    "Pretty good, outliers are toxic words."
   ]
  },
  {
   "cell_type": "markdown",
   "metadata": {},
   "source": [
    "### Stacking models\n",
    "\n",
    "More information, you can read at [https://malaya.readthedocs.io/en/latest/Stack.html](https://malaya.readthedocs.io/en/latest/Stack.html)"
   ]
  },
  {
   "cell_type": "code",
   "execution_count": 16,
   "metadata": {},
   "outputs": [
    {
     "name": "stdout",
     "output_type": "stream",
     "text": [
      "INFO:tensorflow:loading sentence piece model\n"
     ]
    }
   ],
   "source": [
    "albert = malaya.toxicity.transformer(model = 'albert')"
   ]
  },
  {
   "cell_type": "code",
   "execution_count": 18,
   "metadata": {},
   "outputs": [
    {
     "data": {
      "text/plain": [
       "[{'severe toxic': 0.9968317,\n",
       "  'obscene': 0.43022493,\n",
       "  'identity attack': 0.90531594,\n",
       "  'insult': 0.42289576,\n",
       "  'threat': 0.0058603976,\n",
       "  'asian': 0.000983668,\n",
       "  'atheist': 0.0005495089,\n",
       "  'bisexual': 0.0009623809,\n",
       "  'buddhist': 0.0003632398,\n",
       "  'christian': 0.0018632574,\n",
       "  'female': 0.006050684,\n",
       "  'heterosexual': 0.0025569045,\n",
       "  'indian': 0.0056869243,\n",
       "  'homosexual, gay or lesbian': 0.012232827,\n",
       "  'intellectual or learning disability': 0.00091394753,\n",
       "  'male': 0.011594971,\n",
       "  'muslim': 0.0042621437,\n",
       "  'other disability': 0.00027529505,\n",
       "  'other gender': 0.0010361207,\n",
       "  'other race or ethnicity': 0.0012320877,\n",
       "  'other religion': 0.00091365684,\n",
       "  'other sexual orientation': 0.0027996385,\n",
       "  'physical disability': 0.00010540871,\n",
       "  'psychiatric or mental illness': 0.000815311,\n",
       "  'transgender': 0.0016718076,\n",
       "  'malay': 0.96644485,\n",
       "  'chinese': 0.05199418}]"
      ]
     },
     "execution_count": 18,
     "metadata": {},
     "output_type": "execute_result"
    }
   ],
   "source": [
    "malaya.stack.predict_stack([model, albert], [another_string])"
   ]
  },
  {
   "cell_type": "code",
   "execution_count": null,
   "metadata": {},
   "outputs": [],
   "source": []
  }
 ],
 "metadata": {
  "kernelspec": {
   "display_name": "Python 3",
   "language": "python",
   "name": "python3"
  },
  "language_info": {
   "codemirror_mode": {
    "name": "ipython",
    "version": 3
   },
   "file_extension": ".py",
   "mimetype": "text/x-python",
   "name": "python",
   "nbconvert_exporter": "python",
   "pygments_lexer": "ipython3",
   "version": "3.7.7"
  }
 },
 "nbformat": 4,
 "nbformat_minor": 2
}
