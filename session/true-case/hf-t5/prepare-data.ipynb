{
 "cells": [
  {
   "cell_type": "code",
   "execution_count": 2,
   "metadata": {},
   "outputs": [],
   "source": [
    "# !wget https://f000.backblazeb2.com/file/malay-dataset/true-case/test-set-true-case.json"
   ]
  },
  {
   "cell_type": "code",
   "execution_count": 4,
   "metadata": {},
   "outputs": [
    {
     "data": {
      "text/plain": [
       "['results-wiki.json',\n",
       " 'results-wiki-single.json',\n",
       " 'results-news.json',\n",
       " 'results-news-single.json',\n",
       " 'results-sg-news-single.json']"
      ]
     },
     "execution_count": 4,
     "metadata": {},
     "output_type": "execute_result"
    }
   ],
   "source": [
    "import json\n",
    "from glob import glob\n",
    "\n",
    "files = glob('results-*.json')\n",
    "files = [f for f in files if 'test' not in f]\n",
    "files"
   ]
  },
  {
   "cell_type": "code",
   "execution_count": 5,
   "metadata": {},
   "outputs": [
    {
     "name": "stdout",
     "output_type": "stream",
     "text": [
      "results-wiki.json\n",
      "results-wiki-single.json\n",
      "results-news.json\n",
      "results-news-single.json\n",
      "results-sg-news-single.json\n"
     ]
    }
   ],
   "source": [
    "with open('train.json', 'a') as fopen_jsonl:\n",
    "    for f in files:\n",
    "        print(f)\n",
    "        with open(f) as fopen:\n",
    "            data = json.load(fopen)\n",
    "            for l in data:\n",
    "                if len(l[0]) and len(l[1]):\n",
    "                    d = {\"translation\": {\"src\": l[0], \"tgt\": l[1], 'prefix': 'kes benar: '}}\n",
    "                    fopen_jsonl.write(f'{json.dumps(d)}\\n')"
   ]
  },
  {
   "cell_type": "code",
   "execution_count": 6,
   "metadata": {},
   "outputs": [],
   "source": [
    "!shuf train.json > shuffled-train.json"
   ]
  },
  {
   "cell_type": "code",
   "execution_count": 7,
   "metadata": {},
   "outputs": [],
   "source": [
    "with open('test.json', 'w') as fopen_jsonl:\n",
    "                \n",
    "    with open('test-set-true-case.json') as fopen:\n",
    "        data = json.load(fopen)\n",
    "        for l in data:\n",
    "            if len(l[0]) and len(l[1]):\n",
    "                d = {\"translation\": {\"src\": l[0], \"tgt\": l[1], 'prefix': 'kes benar: '}}\n",
    "                fopen_jsonl.write(f'{json.dumps(d)}\\n')"
   ]
  },
  {
   "cell_type": "code",
   "execution_count": 8,
   "metadata": {},
   "outputs": [],
   "source": [
    "!shuf test.json > shuffled-test.json"
   ]
  },
  {
   "cell_type": "code",
   "execution_count": 9,
   "metadata": {},
   "outputs": [],
   "source": [
    "!head -n 4000 shuffled-test.json > test-4k.json"
   ]
  }
 ],
 "metadata": {
  "kernelspec": {
   "display_name": "Python 3 (ipykernel)",
   "language": "python",
   "name": "python3"
  },
  "language_info": {
   "codemirror_mode": {
    "name": "ipython",
    "version": 3
   },
   "file_extension": ".py",
   "mimetype": "text/x-python",
   "name": "python",
   "nbconvert_exporter": "python",
   "pygments_lexer": "ipython3",
   "version": "3.8.10"
  }
 },
 "nbformat": 4,
 "nbformat_minor": 4
}
