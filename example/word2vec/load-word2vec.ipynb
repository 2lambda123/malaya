{
 "cells": [
  {
   "cell_type": "code",
   "execution_count": 1,
   "metadata": {},
   "outputs": [
    {
     "name": "stderr",
     "output_type": "stream",
     "text": [
      "Using TensorFlow backend.\n",
      "/usr/local/lib/python3.6/site-packages/sklearn/cross_validation.py:41: DeprecationWarning: This module was deprecated in version 0.18 in favor of the model_selection module into which all the refactored classes and functions are moved. Also note that the interface of the new CV iterators are different from that of this module. This module will be removed in 0.20.\n",
      "  \"This module will be removed in 0.20.\", DeprecationWarning)\n"
     ]
    }
   ],
   "source": [
    "import malaya"
   ]
  },
  {
   "cell_type": "code",
   "execution_count": 2,
   "metadata": {},
   "outputs": [],
   "source": [
    "embedded = malaya.malaya_word2vec(256)"
   ]
  },
  {
   "cell_type": "code",
   "execution_count": 3,
   "metadata": {},
   "outputs": [],
   "source": [
    "word_vector = malaya.Word2Vec(embedded['nce_weights'], embedded['dictionary'])"
   ]
  },
  {
   "cell_type": "code",
   "execution_count": 4,
   "metadata": {},
   "outputs": [
    {
     "name": "stdout",
     "output_type": "stream",
     "text": [
      "Embedding layer: 8 closest words to: 'anwar'\n",
      "[['rizal', 0.4755251407623291], ['johari', 0.44806742668151855], ['muhyiddin', 0.4442579746246338], ['rafizi', 0.442638635635376], ['shamsul', 0.43479591608047485], ['azalina', 0.4314958453178406], ['muhammad', 0.4261718988418579], ['isa', 0.4253132939338684]]\n"
     ]
    }
   ],
   "source": [
    "word = 'anwar'\n",
    "print(\"Embedding layer: 8 closest words to: '%s'\"%(word))\n",
    "print(word_vector.n_closest(word=word, num_closest=8, metric='cosine'))"
   ]
  },
  {
   "cell_type": "code",
   "execution_count": 5,
   "metadata": {},
   "outputs": [
    {
     "name": "stdout",
     "output_type": "stream",
     "text": [
      "['kerajaan', 'penjara', 'kpm', 'pucuk', 'trump']\n"
     ]
    }
   ],
   "source": [
    "print(word_vector.analogy('anwar', 'penjara', 'kerajaan', 5))"
   ]
  },
  {
   "cell_type": "code",
   "execution_count": 6,
   "metadata": {},
   "outputs": [
    {
     "data": {
      "text/plain": [
       "['mahathir',\n",
       " 'anwar',\n",
       " 'amerika',\n",
       " 'subramaniam',\n",
       " 'jinping',\n",
       " 'obama',\n",
       " 'mahkota',\n",
       " 'thomas',\n",
       " 'taufek']"
      ]
     },
     "execution_count": 6,
     "metadata": {},
     "output_type": "execute_result"
    }
   ],
   "source": [
    "word_vector.calculator('anwar + amerika + mahathir', num_closest=8, metric='cosine',\n",
    "                      return_similarity=False)"
   ]
  },
  {
   "cell_type": "code",
   "execution_count": 7,
   "metadata": {},
   "outputs": [
    {
     "data": {
      "text/plain": [
       "['mana',\n",
       " 'apa',\n",
       " 'kritikal',\n",
       " 'ini',\n",
       " 'penceramah',\n",
       " 'institusi',\n",
       " 'nasional',\n",
       " 'berkepentingan',\n",
       " 'paling']"
      ]
     },
     "execution_count": 7,
     "metadata": {},
     "output_type": "execute_result"
    }
   ],
   "source": [
    "word_vector.calculator('anwar * amerika', num_closest=8, metric='cosine',\n",
    "                      return_similarity=False)"
   ]
  },
  {
   "cell_type": "code",
   "execution_count": null,
   "metadata": {},
   "outputs": [],
   "source": []
  }
 ],
 "metadata": {
  "kernelspec": {
   "display_name": "Python 3",
   "language": "python",
   "name": "python3"
  },
  "language_info": {
   "codemirror_mode": {
    "name": "ipython",
    "version": 3
   },
   "file_extension": ".py",
   "mimetype": "text/x-python",
   "name": "python",
   "nbconvert_exporter": "python",
   "pygments_lexer": "ipython3",
   "version": "3.6.5"
  }
 },
 "nbformat": 4,
 "nbformat_minor": 2
}
