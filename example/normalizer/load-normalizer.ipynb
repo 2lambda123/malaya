{
 "cells": [
  {
   "cell_type": "markdown",
   "metadata": {},
   "source": [
    "# Normalizer"
   ]
  },
  {
   "cell_type": "markdown",
   "metadata": {},
   "source": [
    "<div class=\"alert alert-info\">\n",
    "\n",
    "This tutorial is available as an IPython notebook at [Malaya/example/normalizer](https://github.com/huseinzol05/Malaya/tree/master/example/normalizer).\n",
    "    \n",
    "</div>"
   ]
  },
  {
   "cell_type": "code",
   "execution_count": 1,
   "metadata": {},
   "outputs": [
    {
     "name": "stdout",
     "output_type": "stream",
     "text": [
      "CPU times: user 5.38 s, sys: 763 ms, total: 6.14 s\n",
      "Wall time: 5.72 s\n"
     ]
    }
   ],
   "source": [
    "%%time\n",
    "import malaya"
   ]
  },
  {
   "cell_type": "code",
   "execution_count": 2,
   "metadata": {},
   "outputs": [],
   "source": [
    "string1 = 'xjdi ke, y u xsuke makan HUSEIN kt situ tmpt, i hate it. pelikle, pada'\n",
    "string2 = 'i mmg2 xske mknn HUSEIN kampng tmpat, i love them. pelikle saye'\n",
    "string3 = 'perdana menteri ke11 sgt suka makn ayam, harganya cuma rm15.50'\n",
    "string4 = 'pada 10/4, kementerian mengumumkan, 1/100'\n",
    "string5 = 'Husein Zolkepli dapat tempat ke-12 lumba lari hari ni'\n",
    "string6 = 'Husein Zolkepli (2011 - 2019) adalah ketua kampng di kedah sekolah King Edward ke-IV'\n",
    "string7 = '2jam 30 minit aku tunggu kau, 60.1 kg kau ni, suhu harini 31.2c, aku dahaga minum 600ml'\n",
    "string8 = 'awak sangat hot ye 🔥🔥. 🔥🙂'\n",
    "string9 = 'hanyalah rm2 ribu'\n",
    "string10 = 'mulakn slh org boleh ,bila geng tuh kena slhkn jgk xboleh trima .. pelik , dia slhkn org bole hri2 crta sakau then bila kna bls balik xdpt jwb ,kata mcm biasa slh (parti sampah) 🤣🤣🤣 jgn mulakn dlu slhkn org kalau xboleh trima bila kna bls balik 🤣🤣🤣'\n",
    "string11 = 'Pemimpin yg hebat, panahan2 fitnah tu akan dituju kepadanya.. harap DS terus bersabar. Jasa baik DS menjadi asbab di sana kelak mahupun rakyat yg terhutang budi juga..'\n",
    "string12 = 'berehatlh najib.. sudah2 lh tu.. jgn buat rakyat hilang kepercyaan tu pda system kehakiman negara.. klu btl x slh kenapa x dibuktikan semasa sblm rayuan.. sudah lah tu kami dh letih dengan drama korang. ok'"
   ]
  },
  {
   "cell_type": "markdown",
   "metadata": {},
   "source": [
    "### Load normalizer\n",
    "\n",
    "This normalizer can load any spelling correction model, eg, `malaya.spelling_correction.probability.load`, or `malaya.spelling_correction.transformer.load`.\n",
    "\n",
    "```python\n",
    "def normalizer(speller: Callable = None, **kwargs):\n",
    "    \"\"\"\n",
    "    Load a Normalizer using any spelling correction model.\n",
    "\n",
    "    Parameters\n",
    "    ----------\n",
    "    speller : spelling correction object, optional (default = None)\n",
    "\n",
    "    Returns\n",
    "    -------\n",
    "    result: malaya.normalize.Normalizer class\n",
    "    \"\"\"\n",
    "```"
   ]
  },
  {
   "cell_type": "code",
   "execution_count": 3,
   "metadata": {
    "scrolled": true
   },
   "outputs": [],
   "source": [
    "lm = malaya.kenlm.load()"
   ]
  },
  {
   "cell_type": "code",
   "execution_count": 4,
   "metadata": {},
   "outputs": [],
   "source": [
    "corrector = malaya.spelling_correction.probability.load(language_model = lm)"
   ]
  },
  {
   "cell_type": "code",
   "execution_count": 5,
   "metadata": {},
   "outputs": [],
   "source": [
    "normalizer = malaya.normalize.normalizer(corrector)"
   ]
  },
  {
   "cell_type": "markdown",
   "metadata": {},
   "source": [
    "#### normalize\n",
    "\n",
    "```python\n",
    "def normalize(\n",
    "    self,\n",
    "    string: str,\n",
    "    normalize_text: bool = True,\n",
    "    normalize_entity: bool = True,\n",
    "    normalize_url: bool = False,\n",
    "    normalize_email: bool = False,\n",
    "    normalize_year: bool = True,\n",
    "    normalize_telephone: bool = True,\n",
    "    normalize_date: bool = True,\n",
    "    normalize_time: bool = True,\n",
    "    normalize_emoji: bool = True,\n",
    "    normalize_elongated: bool = True,\n",
    "    expand_contractions: bool = True,\n",
    "    check_english_func=is_english,\n",
    "    check_malay_func=is_malay,\n",
    "    translator: Callable = None,\n",
    "    language_detection_word: Callable = None,\n",
    "    acceptable_language_detection: List[str] = ['EN', 'CAPITAL', 'NOT_LANG'],\n",
    "    segmenter: Callable = None,\n",
    "    **kwargs,\n",
    "):\n",
    "    \"\"\"\n",
    "    Normalize a string.\n",
    "\n",
    "    Parameters\n",
    "    ----------\n",
    "    string : str\n",
    "    normalize_text: bool, optional (default=True)\n",
    "        if True, will try to replace shortforms with internal corpus.\n",
    "    normalize_entity: bool, optional (default=True)\n",
    "        normalize entities, only effect `date`, `datetime`, `time` and `money` patterns string only.\n",
    "    normalize_url: bool, optional (default=False)\n",
    "        if True, replace `://` with empty and `.` with `dot`.\n",
    "        `https://huseinhouse.com` -> `https huseinhouse dot com`.\n",
    "    normalize_email: bool, optional (default=False)\n",
    "        if True, replace `@` with `di`, `.` with `dot`.\n",
    "        `husein.zol05@gmail.com` -> `husein dot zol kosong lima di gmail dot com`.\n",
    "    normalize_year: bool, optional (default=True)\n",
    "        if True, `tahun 1987` -> `tahun sembilan belas lapan puluh tujuh`.\n",
    "        if True, `1970-an` -> `sembilan belas tujuh puluh an`.\n",
    "        if False, `tahun 1987` -> `tahun seribu sembilan ratus lapan puluh tujuh`.\n",
    "    normalize_telephone: bool, optional (default=True)\n",
    "        if True, `no 012-1234567` -> `no kosong satu dua, satu dua tiga empat lima enam tujuh`\n",
    "    normalize_date: bool, optional (default=True)\n",
    "        if True, `01/12/2001` -> `satu disember dua ribu satu`.\n",
    "        if True, `Jun 2017` -> `satu Jun dua ribu tujuh belas`.\n",
    "        if True, `2017 Jun` -> `satu Jun dua ribu tujuh belas`.\n",
    "        if False, `2017 Jun` -> `01/06/2017`.\n",
    "        if False, `Jun 2017` -> `01/06/2017`.\n",
    "    normalize_time: bool, optional (default=True)\n",
    "        if True, `pukul 2.30` -> `pukul dua tiga puluh minit`.\n",
    "        if False, `pukul 2.30` -> `'02:00:00'`\n",
    "    normalize_emoji: bool, (default=True)\n",
    "        if True, `🔥` -> `emoji api`\n",
    "        Load from `malaya.preprocessing.demoji`.\n",
    "    normalize_elongated: bool, optional (default=True)\n",
    "        if True, `betuii` -> `betui`.\n",
    "    expand_contractions: bool, optional (default=True)\n",
    "        expand english contractions.\n",
    "    check_english_func: Callable, optional (default=malaya.text.function.is_english)\n",
    "        function to check a word in english dictionary, default is malaya.text.function.is_english.\n",
    "        this parameter also will be use for malay text normalization.\n",
    "    check_malay_func: Callable, optional (default=malaya.text.function.is_malay)\n",
    "        function to check a word in malay dictionary, default is malaya.text.function.is_malay.\n",
    "    translator: Callable, optional (default=None)\n",
    "        function to translate EN word to MS word.\n",
    "    language_detection_word: Callable, optional (default=None)\n",
    "        function to detect language for each words to get better translation results.\n",
    "    acceptable_language_detection: List[str], optional (default=['EN', 'CAPITAL', 'NOT_LANG'])\n",
    "        only translate substrings if the results from `language_detection_word` is in `acceptable_language_detection`.\n",
    "    segmenter: Callable, optional (default=None)\n",
    "        function to segmentize word.\n",
    "        If provide, it will expand a word, apaitu -> apa itu\n",
    "\n",
    "    Returns\n",
    "    -------\n",
    "    result: {'normalize', 'date', 'money'}\n",
    "    \"\"\"\n",
    "```"
   ]
  },
  {
   "cell_type": "markdown",
   "metadata": {},
   "source": [
    "To get better english checker, we prefer to use https://pyenchant.github.io/pyenchant/"
   ]
  },
  {
   "cell_type": "code",
   "execution_count": 6,
   "metadata": {},
   "outputs": [
    {
     "data": {
      "text/plain": [
       "True"
      ]
     },
     "execution_count": 6,
     "metadata": {},
     "output_type": "execute_result"
    }
   ],
   "source": [
    "import enchant\n",
    "d = enchant.Dict('en_US')\n",
    "\n",
    "is_english = lambda x: d.check(x)\n",
    "is_english('lifestyle')"
   ]
  },
  {
   "cell_type": "code",
   "execution_count": 7,
   "metadata": {},
   "outputs": [],
   "source": [
    "string = 'boleh dtg 8pagi esok tak atau minggu depan? 2 oktober 2019 2pm, tlong bayar rm 3.2k sekali tau'"
   ]
  },
  {
   "cell_type": "code",
   "execution_count": 8,
   "metadata": {},
   "outputs": [
    {
     "data": {
      "text/plain": [
       "{'normalize': 'boleh datang pukul lapan esok tidak atau minggu depan ? dua Oktober dua ribu sembilan belas pukul empat belas , tolong bayar tiga ribu dua ratus ringgit sekali tahu',\n",
       " 'date': {'minggu depan': datetime.datetime(2022, 8, 29, 13, 20, 31, 884481),\n",
       "  '8AM esok': datetime.datetime(2022, 8, 23, 8, 0),\n",
       "  '2 oktober 2019 2pm': datetime.datetime(2019, 10, 2, 14, 0)},\n",
       " 'money': {'rm 3.2k': 'RM3200.0'}}"
      ]
     },
     "execution_count": 8,
     "metadata": {},
     "output_type": "execute_result"
    }
   ],
   "source": [
    "normalizer.normalize(string)"
   ]
  },
  {
   "cell_type": "code",
   "execution_count": 9,
   "metadata": {
    "scrolled": true
   },
   "outputs": [
    {
     "data": {
      "text/plain": [
       "{'normalize': 'boleh datang pukul lapan esok tidak atau minggu depan ? dua Oktober dua ribu sembilan belas pukul empat belas , tolong bayar tiga ribu dua ratus ringgit sekali tahu',\n",
       " 'date': {},\n",
       " 'money': {}}"
      ]
     },
     "execution_count": 9,
     "metadata": {},
     "output_type": "execute_result"
    }
   ],
   "source": [
    "normalizer.normalize(string, normalize_entity = False)"
   ]
  },
  {
   "cell_type": "markdown",
   "metadata": {},
   "source": [
    "Here you can see, Malaya normalizer will normalize `minggu depan` to datetime object, also `3.2k ringgit` to `RM3200`"
   ]
  },
  {
   "cell_type": "code",
   "execution_count": 10,
   "metadata": {
    "scrolled": false
   },
   "outputs": [
    {
     "name": "stdout",
     "output_type": "stream",
     "text": [
      "{'normalize': 'tak jadi ke , kenapa awak tak suka makan HUSEIN di situ tempat , saya hate it . pelik lah , pada', 'date': {}, 'money': {}}\n",
      "{'normalize': 'saya memang-memang tak suka makan HUSEIN kampung tempat , saya love them . pelik lah saya', 'date': {}, 'money': {}}\n",
      "{'normalize': 'perdana menteri kesebelas sangat suka makan ayam , harganya cuma lima belas ringgit lima puluh sen', 'date': {}, 'money': {'rm15.50': 'RM15.50'}}\n",
      "{'normalize': 'pada sepuluh hari bulan empat , kementerian mengumumkan , satu per seratus', 'date': {}, 'money': {}}\n",
      "{'normalize': 'Husein Zolkepli dapat tempat kedua belas lumba lari hari ini', 'date': {}, 'money': {}}\n",
      "{'normalize': 'Husein Zolkepli ( dua ribu sebelas hingga dua ribu sembilan belas ) adalah ketua kampung di kedah sekolah King Edward keempat', 'date': {}, 'money': {}}\n",
      "{'normalize': 'dua jam tiga puluh minit aku tunggu kamu , enam puluh perpuluhan satu kilogram kamu ini , suhu hari ini tiga puluh satu perpuluhan dua celsius , aku dahaga minum enam ratus milliliter', 'date': {}, 'money': {}}\n",
      "{'normalize': 'awak sangat hot ye , emoji api , emoji api . Emoji api , emoji muka tersenyum sedikit', 'date': {}, 'money': {}}\n",
      "{'normalize': 'hanyalah dua ribu ringgit', 'date': {}, 'money': {'rm2 ribu': 'RM2000.0'}}\n",
      "{'normalize': 'mulakan salah orang boleh , bila geng itu kena salahkan juga tak boleh terima . . pelik , dia salahkan orang bole hari-hari cerita sakau then bila kena balas balik tak dapat jawab , kata macam biasa salah ( parti sampah ) , emoji berguling di lantai ketawa , emoji berguling di lantai ketawa , emoji berguling di lantai ketawa , jangan mulakan dahulu salahkan orang kalau tak boleh terima bila kena balas balik , emoji berguling di lantai ketawa , emoji berguling di lantai ketawa , emoji berguling di lantai ketawa', 'date': {}, 'money': {}}\n",
      "{'normalize': 'Pemimpin yang hebat , panahan-panahan fitnah itu akan dituju kepadanya . . harap DS terus bersabar . Jasa baik DS menjadi asbab di sana kelak mahupun rakyat yang terhutang budi juga . .', 'date': {}, 'money': {}}\n",
      "{'normalize': 'berehatlah najib . . sudah-sudah lah itu . . jangan buat rakyat hilang kepercayaan itu pada system kehakiman negara . . kalau betul tidak salah kenapa tidak dibuktikan semasa sebelum rayuan . . sudah lah itu kami dah letih dengan drama kamu semua . ok', 'date': {}, 'money': {}}\n"
     ]
    }
   ],
   "source": [
    "print(normalizer.normalize(string1))\n",
    "print(normalizer.normalize(string2))\n",
    "print(normalizer.normalize(string3))\n",
    "print(normalizer.normalize(string4))\n",
    "print(normalizer.normalize(string5))\n",
    "print(normalizer.normalize(string6))\n",
    "print(normalizer.normalize(string7))\n",
    "print(normalizer.normalize(string8))\n",
    "print(normalizer.normalize(string9))\n",
    "print(normalizer.normalize(string10))\n",
    "print(normalizer.normalize(string11))\n",
    "print(normalizer.normalize(string12))"
   ]
  },
  {
   "cell_type": "markdown",
   "metadata": {},
   "source": [
    "### Use translator\n",
    "\n",
    "To use translator, pass a callable variable into `translator` parameter,\n",
    "\n",
    "```python\n",
    "print(normalizer.normalize(string1, translator = translator))\n",
    "```"
   ]
  },
  {
   "cell_type": "code",
   "execution_count": 11,
   "metadata": {},
   "outputs": [
    {
     "data": {
      "text/plain": [
       "('kesakitan', 'aduh')"
      ]
     },
     "execution_count": 11,
     "metadata": {},
     "output_type": "execute_result"
    }
   ],
   "source": [
    "en_ms_vocab = malaya.translation.en_ms.dictionary()\n",
    "translator = lambda x: en_ms_vocab.get(x, x)\n",
    "translator('pain'), translator('aduh')"
   ]
  },
  {
   "cell_type": "code",
   "execution_count": 12,
   "metadata": {},
   "outputs": [
    {
     "name": "stdout",
     "output_type": "stream",
     "text": [
      "{'normalize': 'tak jadi ke , kenapa awak tak suka makan HUSEIN di situ tempat , saya benci ia . pelik lah , pada', 'date': {}, 'money': {}}\n"
     ]
    }
   ],
   "source": [
    "print(normalizer.normalize(string1, translator = translator))"
   ]
  },
  {
   "cell_type": "code",
   "execution_count": 13,
   "metadata": {},
   "outputs": [
    {
     "name": "stdout",
     "output_type": "stream",
     "text": [
      "{'normalize': 'saya memang-memang tak suka makan HUSEIN kampung tempat , saya love them . pelik lah saya', 'date': {}, 'money': {}}\n"
     ]
    }
   ],
   "source": [
    "print(normalizer.normalize(string2, translator = translator))"
   ]
  },
  {
   "cell_type": "markdown",
   "metadata": {},
   "source": [
    "#### Use Neural Translation Machine\n",
    "\n",
    "Problem with dictionary based, if the words is not exist, the translation will not work,"
   ]
  },
  {
   "cell_type": "code",
   "execution_count": 14,
   "metadata": {},
   "outputs": [
    {
     "data": {
      "text/plain": [
       "('love', 'them', 'kesakitan')"
      ]
     },
     "execution_count": 14,
     "metadata": {},
     "output_type": "execute_result"
    }
   ],
   "source": [
    "translator('love'), translator('them'), translator('pain')"
   ]
  },
  {
   "cell_type": "code",
   "execution_count": 15,
   "metadata": {},
   "outputs": [],
   "source": [
    "nmt = malaya.translation.en_ms.transformer(model = 'small')"
   ]
  },
  {
   "cell_type": "code",
   "execution_count": 16,
   "metadata": {},
   "outputs": [],
   "source": [
    "nmt_func = lambda x: nmt.greedy_decoder([x])[0]"
   ]
  },
  {
   "cell_type": "code",
   "execution_count": 17,
   "metadata": {
    "scrolled": true
   },
   "outputs": [
    {
     "name": "stdout",
     "output_type": "stream",
     "text": [
      "{'normalize': 'tak jadi ke , kenapa awak tak suka makan HUSEIN di situ tempat , saya benci ia . pelik lah , pada', 'date': {}, 'money': {}}\n"
     ]
    }
   ],
   "source": [
    "print(normalizer.normalize(string1, translator = nmt_func))"
   ]
  },
  {
   "cell_type": "code",
   "execution_count": 18,
   "metadata": {},
   "outputs": [
    {
     "name": "stdout",
     "output_type": "stream",
     "text": [
      "{'normalize': 'saya memang-memang tak suka makan HUSEIN kampung tempat , saya cinta mereka . pelik lah saya', 'date': {}, 'money': {}}\n"
     ]
    }
   ],
   "source": [
    "print(normalizer.normalize(string2, translator = nmt_func))"
   ]
  },
  {
   "cell_type": "markdown",
   "metadata": {},
   "source": [
    "#### Problem with single word translation\n",
    "\n",
    "When we do direct translate word-by-word, it does not really understand the context, for an example,\n",
    "\n",
    "`talk properly lah`,\n",
    "\n",
    "`talk` -> `bercakap`, `properly` -> `betul`,\n",
    "\n",
    "so when we combined, we got `bercakap betul lah`, not really good translation. So to solve this problem, we need predict language on word level, group substrings based on similar language and translate."
   ]
  },
  {
   "cell_type": "code",
   "execution_count": 19,
   "metadata": {},
   "outputs": [],
   "source": [
    "nmt = malaya.translation.en_ms.transformer(model = 'noisy-base')\n",
    "nmt_func = lambda x: nmt.greedy_decoder([x])[0]"
   ]
  },
  {
   "cell_type": "code",
   "execution_count": 20,
   "metadata": {},
   "outputs": [
    {
     "name": "stderr",
     "output_type": "stream",
     "text": [
      "Warning : `load_model` does not return WordVectorModel or SupervisedModel any more, but a `FastText` object which is very similar.\n"
     ]
    }
   ],
   "source": [
    "fasttext = malaya.language_detection.fasttext()\n",
    "lang_word_model = malaya.language_detection.substring_rules(model = fasttext)"
   ]
  },
  {
   "cell_type": "code",
   "execution_count": 21,
   "metadata": {},
   "outputs": [],
   "source": [
    "language_detection_word_func = lambda x: lang_word_model.predict(x)"
   ]
  },
  {
   "cell_type": "code",
   "execution_count": 22,
   "metadata": {},
   "outputs": [],
   "source": [
    "s = 'u ni, talk properly lah'"
   ]
  },
  {
   "cell_type": "code",
   "execution_count": 23,
   "metadata": {},
   "outputs": [
    {
     "data": {
      "text/plain": [
       "{'normalize': 'awak ini , bercakap betul lah', 'date': {}, 'money': {}}"
      ]
     },
     "execution_count": 23,
     "metadata": {},
     "output_type": "execute_result"
    }
   ],
   "source": [
    "normalizer.normalize(s, translator = nmt_func,\n",
    "                    check_english_func = is_english)"
   ]
  },
  {
   "cell_type": "code",
   "execution_count": 24,
   "metadata": {},
   "outputs": [
    {
     "data": {
      "text/plain": [
       "{'normalize': 'awak ini , bercakap dengan betul lah', 'date': {}, 'money': {}}"
      ]
     },
     "execution_count": 24,
     "metadata": {},
     "output_type": "execute_result"
    }
   ],
   "source": [
    "normalizer.normalize(s, translator = nmt_func, language_detection_word = language_detection_word_func,\n",
    "                    check_english_func = is_english)"
   ]
  },
  {
   "cell_type": "code",
   "execution_count": 25,
   "metadata": {},
   "outputs": [],
   "source": [
    "s = 'This looks like awak, but in a less formal kind of way, still comel'"
   ]
  },
  {
   "cell_type": "code",
   "execution_count": 26,
   "metadata": {},
   "outputs": [
    {
     "data": {
      "text/plain": [
       "{'normalize': 'This rupa seperti awak , tetapi dalam a kurang formal jenis dari cara , masih comel',\n",
       " 'date': {},\n",
       " 'money': {}}"
      ]
     },
     "execution_count": 26,
     "metadata": {},
     "output_type": "execute_result"
    }
   ],
   "source": [
    "normalizer.normalize(s, translator = nmt_func,\n",
    "                    check_english_func = is_english)"
   ]
  },
  {
   "cell_type": "code",
   "execution_count": 27,
   "metadata": {},
   "outputs": [
    {
     "data": {
      "text/plain": [
       "{'normalize': 'Ini kelihatan seperti awak , tetapi dalam cara yang kurang formal, masih comel',\n",
       " 'date': {},\n",
       " 'money': {}}"
      ]
     },
     "execution_count": 27,
     "metadata": {},
     "output_type": "execute_result"
    }
   ],
   "source": [
    "normalizer.normalize(s, translator = nmt_func, language_detection_word = language_detection_word_func,\n",
    "                    check_english_func = is_english)"
   ]
  },
  {
   "cell_type": "code",
   "execution_count": 28,
   "metadata": {},
   "outputs": [],
   "source": [
    "s = \"just attended my cousin's wedding. pelik jugak dia buat majlis biasa2 je sebab her lifestyle looks lavish. then i found out they're going on a 3 weeks honeymoon. smart decision 👍\""
   ]
  },
  {
   "cell_type": "code",
   "execution_count": 29,
   "metadata": {},
   "outputs": [
    {
     "data": {
      "text/plain": [
       "{'normalize': 'hanya menghadiri saya sepupu perkahwinan . pelik juga dia buat majlis biasa-biasa sahaja sebab dia gaya hidup rupa mewah . kemudian saya ditemui keluar mereka adalah pergi pada a tiga minggu bulan madu . pintar keputusan , emoji jempol',\n",
       " 'date': {},\n",
       " 'money': {}}"
      ]
     },
     "execution_count": 29,
     "metadata": {},
     "output_type": "execute_result"
    }
   ],
   "source": [
    "normalizer.normalize(s, translator = nmt_func,\n",
    "                    check_english_func = is_english)"
   ]
  },
  {
   "cell_type": "code",
   "execution_count": 30,
   "metadata": {},
   "outputs": [
    {
     "data": {
      "text/plain": [
       "{'normalize': 'baru sahaja menghadiri majlis perkahwinan sepupu saya. pelik juga dia buat majlis biasa-biasa sahaja sebab gaya hidupnya kelihatan mewah. maka saya mengetahui bahawa mereka sedang melakukan tiga minggu madu. keputusan pintar, emoji jempol',\n",
       " 'date': {},\n",
       " 'money': {}}"
      ]
     },
     "execution_count": 30,
     "metadata": {},
     "output_type": "execute_result"
    }
   ],
   "source": [
    "normalizer.normalize(s, translator = nmt_func, language_detection_word = language_detection_word_func,\n",
    "                    check_english_func = is_english)"
   ]
  },
  {
   "cell_type": "code",
   "execution_count": 31,
   "metadata": {},
   "outputs": [],
   "source": [
    "s = 'Hello gais, boleh tolong recommend bengkel ketuk yang okay near Wangsa Maju / nearby? Kereta bf i pulak kepek langgar dinding hahahha'"
   ]
  },
  {
   "cell_type": "code",
   "execution_count": 32,
   "metadata": {},
   "outputs": [
    {
     "data": {
      "text/plain": [
       "{'normalize': 'Hello semua orang , boleh tolong cadang bengkel ketuk yang okay berhampiran Wangsa Maju / berhampiran ? Kereta bf saya pula kepek langgar dinding haha',\n",
       " 'date': {},\n",
       " 'money': {}}"
      ]
     },
     "execution_count": 32,
     "metadata": {},
     "output_type": "execute_result"
    }
   ],
   "source": [
    "normalizer.normalize(s, translator = nmt_func,\n",
    "                    check_english_func = is_english)"
   ]
  },
  {
   "cell_type": "code",
   "execution_count": 33,
   "metadata": {},
   "outputs": [
    {
     "data": {
      "text/plain": [
       "{'normalize': 'Helo semua orang , boleh tolong cadang bengkel ketuk berhampiran yang baik-baik saja Wangsa Maju / berhampiran? Kereta bf saya pula kepek langgar dinding haha',\n",
       " 'date': {},\n",
       " 'money': {}}"
      ]
     },
     "execution_count": 33,
     "metadata": {},
     "output_type": "execute_result"
    }
   ],
   "source": [
    "normalizer.normalize(s, translator = nmt_func, language_detection_word = language_detection_word_func,\n",
    "                    check_english_func = is_english)"
   ]
  },
  {
   "cell_type": "code",
   "execution_count": 34,
   "metadata": {},
   "outputs": [],
   "source": [
    "s = 'Me after seeing this video: mm dapnya burger benjo extra mayo'"
   ]
  },
  {
   "cell_type": "code",
   "execution_count": 35,
   "metadata": {},
   "outputs": [
    {
     "data": {
      "text/plain": [
       "{'normalize': 'Me selepas melihat ini video : mm sedapnya burger benjo tambahan mayo',\n",
       " 'date': {},\n",
       " 'money': {}}"
      ]
     },
     "execution_count": 35,
     "metadata": {},
     "output_type": "execute_result"
    }
   ],
   "source": [
    "normalizer.normalize(s, translator = nmt_func,\n",
    "                    check_english_func = is_english)"
   ]
  },
  {
   "cell_type": "code",
   "execution_count": 36,
   "metadata": {},
   "outputs": [
    {
     "data": {
      "text/plain": [
       "{'normalize': 'Saya selepas melihat video ini: mm sedapnya burger benjo mayo tambahan',\n",
       " 'date': {},\n",
       " 'money': {}}"
      ]
     },
     "execution_count": 36,
     "metadata": {},
     "output_type": "execute_result"
    }
   ],
   "source": [
    "normalizer.normalize(s, translator = nmt_func, language_detection_word = language_detection_word_func,\n",
    "                    check_english_func = is_english)"
   ]
  },
  {
   "cell_type": "code",
   "execution_count": 37,
   "metadata": {},
   "outputs": [],
   "source": [
    "s = 'Hi guys! I noticed semalam & harini dah ramai yang dapat cookies ni kan. So harini i nak share some post mortem of our first batch:'"
   ]
  },
  {
   "cell_type": "code",
   "execution_count": 38,
   "metadata": {},
   "outputs": [
    {
     "data": {
      "text/plain": [
       "{'normalize': 'Hi lelaki ! SAYA disedari semalam & hari ini dah ramai yang dapat kuki ini kan . Jadi hari ini saya nak kongsi beberapa pos mortem dari kami pertama kelompok :',\n",
       " 'date': {'semalam': datetime.datetime(2022, 8, 21, 13, 21, 35, 72441)},\n",
       " 'money': {}}"
      ]
     },
     "execution_count": 38,
     "metadata": {},
     "output_type": "execute_result"
    }
   ],
   "source": [
    "normalizer.normalize(s, translator = nmt_func,\n",
    "                    check_english_func = is_english)"
   ]
  },
  {
   "cell_type": "code",
   "execution_count": 39,
   "metadata": {},
   "outputs": [
    {
     "data": {
      "text/plain": [
       "{'normalize': 'Hai kawan! SAYA perasan semalam & hari ini dah ramai yang dapat kuki ini kan . Jadi hari ini saya nak kongsi beberapa pos mortem kumpulan pertama kami :',\n",
       " 'date': {'semalam': datetime.datetime(2022, 8, 21, 13, 21, 36, 626947)},\n",
       " 'money': {}}"
      ]
     },
     "execution_count": 39,
     "metadata": {},
     "output_type": "execute_result"
    }
   ],
   "source": [
    "normalizer.normalize(s, translator = nmt_func, language_detection_word = language_detection_word_func,\n",
    "                    check_english_func = is_english)"
   ]
  },
  {
   "cell_type": "markdown",
   "metadata": {},
   "source": [
    "### Use segmenter"
   ]
  },
  {
   "cell_type": "code",
   "execution_count": 40,
   "metadata": {},
   "outputs": [
    {
     "name": "stdout",
     "output_type": "stream",
     "text": [
      "{'normalize': 'saya taksuka ayam , tetapi saya sukaikan', 'date': {}, 'money': {}}\n"
     ]
    }
   ],
   "source": [
    "print(normalizer.normalize('saya taksuka ayam, tapi saya sukaikan'))"
   ]
  },
  {
   "cell_type": "code",
   "execution_count": 41,
   "metadata": {},
   "outputs": [],
   "source": [
    "segmenter = malaya.segmentation.transformer(model = 'small')"
   ]
  },
  {
   "cell_type": "code",
   "execution_count": 42,
   "metadata": {},
   "outputs": [],
   "source": [
    "segmenter_func = lambda x: segmenter.greedy_decoder([x])[0]"
   ]
  },
  {
   "cell_type": "code",
   "execution_count": 43,
   "metadata": {},
   "outputs": [
    {
     "name": "stdout",
     "output_type": "stream",
     "text": [
      "{'normalize': 'saya tidak suka ayam , tetapi saya suka ikan', 'date': {}, 'money': {}}\n"
     ]
    }
   ],
   "source": [
    "print(normalizer.normalize('saya taksuka ayam, tapi saya sukaikan', segmenter = segmenter_func))"
   ]
  },
  {
   "cell_type": "markdown",
   "metadata": {},
   "source": [
    "### Skip spelling correction\n",
    "\n",
    "Simply pass `None` to `speller` to `normalizer = malaya.normalize.normalizer`. By default it is `None`."
   ]
  },
  {
   "cell_type": "code",
   "execution_count": 44,
   "metadata": {},
   "outputs": [],
   "source": [
    "normalizer = malaya.normalize.normalizer(corrector)\n",
    "without_corrector_normalizer = malaya.normalize.normalizer(None)"
   ]
  },
  {
   "cell_type": "code",
   "execution_count": 45,
   "metadata": {},
   "outputs": [
    {
     "data": {
      "text/plain": [
       "{'normalize': 'saya memang-memang tak suka makan HUSEIN kampung tempat , saya love them . pelik lah saya',\n",
       " 'date': {},\n",
       " 'money': {}}"
      ]
     },
     "execution_count": 45,
     "metadata": {},
     "output_type": "execute_result"
    }
   ],
   "source": [
    "normalizer.normalize(string2)"
   ]
  },
  {
   "cell_type": "code",
   "execution_count": 46,
   "metadata": {},
   "outputs": [
    {
     "data": {
      "text/plain": [
       "{'normalize': 'saya memang-memang tak suka mknn HUSEIN kampng tmpat , saya love them . pelik lah saya',\n",
       " 'date': {},\n",
       " 'money': {}}"
      ]
     },
     "execution_count": 46,
     "metadata": {},
     "output_type": "execute_result"
    }
   ],
   "source": [
    "without_corrector_normalizer.normalize(string2)"
   ]
  },
  {
   "cell_type": "markdown",
   "metadata": {},
   "source": [
    "### Pass kwargs preprocessing\n",
    "\n",
    "Let say you want to skip to normalize date pattern, you can pass kwargs to normalizer, check word tokenizer kwargs at https://malaya.readthedocs.io/en/latest/load-tokenizer-word.html"
   ]
  },
  {
   "cell_type": "code",
   "execution_count": 47,
   "metadata": {},
   "outputs": [],
   "source": [
    "normalizer = malaya.normalize.normalizer(corrector)\n",
    "skip_date_normalizer = malaya.normalize.normalizer(corrector, date = False)"
   ]
  },
  {
   "cell_type": "code",
   "execution_count": 48,
   "metadata": {},
   "outputs": [
    {
     "data": {
      "text/plain": [
       "{'normalize': 'tarikh program tersebut empat belas Mei dua ribu dua puluh dua',\n",
       " 'date': {'14 mei': datetime.datetime(2022, 5, 14, 0, 0)},\n",
       " 'money': {}}"
      ]
     },
     "execution_count": 48,
     "metadata": {},
     "output_type": "execute_result"
    }
   ],
   "source": [
    "normalizer.normalize('tarikh program tersebut 14 mei')"
   ]
  },
  {
   "cell_type": "code",
   "execution_count": 49,
   "metadata": {},
   "outputs": [
    {
     "data": {
      "text/plain": [
       "{'normalize': 'tarikh program tersebut empat belas mei',\n",
       " 'date': {'14 mei': datetime.datetime(2022, 5, 14, 0, 0)},\n",
       " 'money': {}}"
      ]
     },
     "execution_count": 49,
     "metadata": {},
     "output_type": "execute_result"
    }
   ],
   "source": [
    "skip_date_normalizer.normalize('tarikh program tersebut 14 mei')"
   ]
  },
  {
   "cell_type": "markdown",
   "metadata": {},
   "source": [
    "### Normalize url\n",
    "\n",
    "Let say you have an `url` word, example, `https://huseinhouse.com`, this parameter going to,\n",
    "\n",
    "1. replace `://` with empty string.\n",
    "2. replace `.` with ` dot `.\n",
    "3. replace digits with string representation.\n",
    "4. Capitalize `https`, `http`, and `www`.\n",
    "\n",
    "Simply `normalizer.normalize(string, normalize_url = True)`, default is `False`."
   ]
  },
  {
   "cell_type": "code",
   "execution_count": 50,
   "metadata": {},
   "outputs": [
    {
     "data": {
      "text/plain": [
       "{'normalize': 'web saya ialah https://huseinhouse.com',\n",
       " 'date': {},\n",
       " 'money': {}}"
      ]
     },
     "execution_count": 50,
     "metadata": {},
     "output_type": "execute_result"
    }
   ],
   "source": [
    "normalizer = malaya.normalize.normalizer()\n",
    "normalizer.normalize('web saya ialah https://huseinhouse.com')"
   ]
  },
  {
   "cell_type": "code",
   "execution_count": 51,
   "metadata": {},
   "outputs": [
    {
     "data": {
      "text/plain": [
       "{'normalize': 'web saya ialah HTTPS huseinhouse dot com',\n",
       " 'date': {},\n",
       " 'money': {}}"
      ]
     },
     "execution_count": 51,
     "metadata": {},
     "output_type": "execute_result"
    }
   ],
   "source": [
    "normalizer.normalize('web saya ialah https://huseinhouse.com', normalize_url = True)"
   ]
  },
  {
   "cell_type": "code",
   "execution_count": 52,
   "metadata": {},
   "outputs": [
    {
     "data": {
      "text/plain": [
       "{'normalize': 'web saya ialah HTTPS huseinhouse kosong dua sembilan tiga empat dot com',\n",
       " 'date': {},\n",
       " 'money': {}}"
      ]
     },
     "execution_count": 52,
     "metadata": {},
     "output_type": "execute_result"
    }
   ],
   "source": [
    "normalizer.normalize('web saya ialah https://huseinhouse02934.com', normalize_url = True)"
   ]
  },
  {
   "cell_type": "markdown",
   "metadata": {},
   "source": [
    "### Normalize email\n",
    "\n",
    "Let say you have an `email` word, example, `husein.zol05@gmail.com`, this parameter going to,\n",
    "\n",
    "1. replace `://` with empty string.\n",
    "2. replace `.` with ` dot `.\n",
    "3. replace `@` with ` di `.\n",
    "4. replace digits with string representation.\n",
    "\n",
    "Simply `normalizer.normalize(string, normalize_email = True)`, default is `False`."
   ]
  },
  {
   "cell_type": "code",
   "execution_count": 53,
   "metadata": {},
   "outputs": [
    {
     "data": {
      "text/plain": [
       "{'normalize': 'email saya ialah husein.zol05@gmail.com',\n",
       " 'date': {},\n",
       " 'money': {}}"
      ]
     },
     "execution_count": 53,
     "metadata": {},
     "output_type": "execute_result"
    }
   ],
   "source": [
    "normalizer = malaya.normalize.normalizer()\n",
    "normalizer.normalize('email saya ialah husein.zol05@gmail.com')"
   ]
  },
  {
   "cell_type": "code",
   "execution_count": 54,
   "metadata": {},
   "outputs": [
    {
     "data": {
      "text/plain": [
       "{'normalize': 'email saya ialah husein dot zol kosong lima di gmail dot com',\n",
       " 'date': {},\n",
       " 'money': {}}"
      ]
     },
     "execution_count": 54,
     "metadata": {},
     "output_type": "execute_result"
    }
   ],
   "source": [
    "normalizer = malaya.normalize.normalizer()\n",
    "normalizer.normalize('email saya ialah husein.zol05@gmail.com', normalize_email = True)"
   ]
  },
  {
   "cell_type": "markdown",
   "metadata": {},
   "source": [
    "### Normalize year\n",
    "\n",
    "1. if True, `tahun 1987` -> `tahun sembilan belas lapan puluh tujuh`.\n",
    "2. if True, `1970-an` -> `sembilan belas tujuh puluh an`.\n",
    "3. if False, `tahun 1987` -> `tahun seribu sembilan ratus lapan puluh tujuh`.\n",
    "\n",
    "Simply `normalizer.normalize(string, normalize_year = True)`, default is `True`."
   ]
  },
  {
   "cell_type": "code",
   "execution_count": 55,
   "metadata": {},
   "outputs": [],
   "source": [
    "normalizer = malaya.normalize.normalizer()"
   ]
  },
  {
   "cell_type": "code",
   "execution_count": 56,
   "metadata": {},
   "outputs": [
    {
     "data": {
      "text/plain": [
       "{'normalize': 'empat ratus dollar pada tahun seribu sembilan ratus sembilan puluh lapan berbanding lebih seribu dollar',\n",
       " 'date': {},\n",
       " 'money': {'$400 ': '$400', '$1000': '$1000'}}"
      ]
     },
     "execution_count": 56,
     "metadata": {},
     "output_type": "execute_result"
    }
   ],
   "source": [
    "normalizer.normalize('$400 pada tahun 1998 berbanding lebih $1000')"
   ]
  },
  {
   "cell_type": "code",
   "execution_count": 57,
   "metadata": {},
   "outputs": [
    {
     "data": {
      "text/plain": [
       "{'normalize': 'empat ratus dollar pada sembilan belas tujuh puluhan berbanding lebih seribu dollar',\n",
       " 'date': {},\n",
       " 'money': {'$400 ': '$400', '$1000': '$1000'}}"
      ]
     },
     "execution_count": 57,
     "metadata": {},
     "output_type": "execute_result"
    }
   ],
   "source": [
    "normalizer.normalize('$400 pada 1970-an berbanding lebih $1000')"
   ]
  },
  {
   "cell_type": "code",
   "execution_count": 58,
   "metadata": {},
   "outputs": [
    {
     "data": {
      "text/plain": [
       "{'normalize': 'empat ratus dollar pada tahun sembilan belas tujuh puluhan berbanding lebih seribu dollar',\n",
       " 'date': {},\n",
       " 'money': {'$400 ': '$400', '$1000': '$1000'}}"
      ]
     },
     "execution_count": 58,
     "metadata": {},
     "output_type": "execute_result"
    }
   ],
   "source": [
    "normalizer.normalize('$400 pada tahun 1970-an berbanding lebih $1000')"
   ]
  },
  {
   "cell_type": "code",
   "execution_count": 59,
   "metadata": {},
   "outputs": [
    {
     "data": {
      "text/plain": [
       "{'normalize': 'empat ratus dollar pada tahun seribu sembilan ratus sembilan puluh lapan berbanding lebih seribu dollar',\n",
       " 'date': {},\n",
       " 'money': {'$400 ': '$400', '$1000': '$1000'}}"
      ]
     },
     "execution_count": 59,
     "metadata": {},
     "output_type": "execute_result"
    }
   ],
   "source": [
    "normalizer.normalize('$400 pada tahun 1998 berbanding lebih $1000', normalize_year = False)"
   ]
  },
  {
   "cell_type": "markdown",
   "metadata": {},
   "source": [
    "### Normalize telephone\n",
    "\n",
    "1. if True, `no 012-1234567` -> `no kosong satu dua, satu dua tiga empat lima enam tujuh`.\n",
    "\n",
    "Simply `normalizer.normalize(string, normalize_telephone = True)`, default is `True`."
   ]
  },
  {
   "cell_type": "code",
   "execution_count": 60,
   "metadata": {},
   "outputs": [],
   "source": [
    "normalizer = malaya.normalize.normalizer()"
   ]
  },
  {
   "cell_type": "code",
   "execution_count": 61,
   "metadata": {},
   "outputs": [
    {
     "data": {
      "text/plain": [
       "{'normalize': 'no saya kosong satu dua, satu dua tiga empat lima enam tujuh',\n",
       " 'date': {},\n",
       " 'money': {}}"
      ]
     },
     "execution_count": 61,
     "metadata": {},
     "output_type": "execute_result"
    }
   ],
   "source": [
    "normalizer.normalize('no saya 012-1234567')"
   ]
  },
  {
   "cell_type": "code",
   "execution_count": 62,
   "metadata": {},
   "outputs": [
    {
     "data": {
      "text/plain": [
       "{'normalize': 'no saya 012-1234567', 'date': {}, 'money': {}}"
      ]
     },
     "execution_count": 62,
     "metadata": {},
     "output_type": "execute_result"
    }
   ],
   "source": [
    "normalizer.normalize('no saya 012-1234567', normalize_telephone = False)"
   ]
  },
  {
   "cell_type": "markdown",
   "metadata": {},
   "source": [
    "### Normalize date\n",
    "\n",
    "1. if True, `01/12/2001` -> `satu disember dua ribu satu`.\n",
    "\n",
    "Simply `normalizer.normalize(string, normalize_date = True)`, default is `True`."
   ]
  },
  {
   "cell_type": "code",
   "execution_count": 63,
   "metadata": {},
   "outputs": [
    {
     "data": {
      "text/plain": [
       "{'normalize': 'saya akan gerak pada satu November dua ribu dua puluh satu',\n",
       " 'date': {'1/11/2021': datetime.datetime(2021, 11, 1, 0, 0)},\n",
       " 'money': {}}"
      ]
     },
     "execution_count": 63,
     "metadata": {},
     "output_type": "execute_result"
    }
   ],
   "source": [
    "normalizer = malaya.normalize.normalizer()\n",
    "normalizer.normalize('saya akan gerak pada 1/11/2021')"
   ]
  },
  {
   "cell_type": "code",
   "execution_count": 64,
   "metadata": {},
   "outputs": [
    {
     "data": {
      "text/plain": [
       "{'normalize': 'saya akan gerak pada 01/11/2021',\n",
       " 'date': {'1/11/2021': datetime.datetime(2021, 11, 1, 0, 0)},\n",
       " 'money': {}}"
      ]
     },
     "execution_count": 64,
     "metadata": {},
     "output_type": "execute_result"
    }
   ],
   "source": [
    "normalizer = malaya.normalize.normalizer()\n",
    "normalizer.normalize('saya akan gerak pada 1/11/2021', normalize_date = False)"
   ]
  },
  {
   "cell_type": "markdown",
   "metadata": {},
   "source": [
    "### Normalize time\n",
    "\n",
    "1. if True, `pukul 2.30` -> `pukul dua tiga puluh minit`.\n",
    "\n",
    "Simply `normalizer.normalize(string, normalize_time = True)`, default is `True`."
   ]
  },
  {
   "cell_type": "code",
   "execution_count": 65,
   "metadata": {},
   "outputs": [
    {
     "data": {
      "text/plain": [
       "{'normalize': 'Operasi tamat sepenuhnya pada pukul satu tiga puluh minit tengah hari',\n",
       " 'date': {},\n",
       " 'money': {}}"
      ]
     },
     "execution_count": 65,
     "metadata": {},
     "output_type": "execute_result"
    }
   ],
   "source": [
    "s = 'Operasi tamat sepenuhnya pada pukul 1.30 tengah hari'\n",
    "normalizer = malaya.normalize.normalizer()\n",
    "normalizer.normalize(s, normalize_time = True)"
   ]
  },
  {
   "cell_type": "code",
   "execution_count": 66,
   "metadata": {},
   "outputs": [
    {
     "data": {
      "text/plain": [
       "{'normalize': 'Operasi tamat sepenuhnya pada pukul satu tiga puluh minit lima puluh saat tengah hari',\n",
       " 'date': {'1:30:50': datetime.datetime(2022, 8, 22, 1, 30, 50)},\n",
       " 'money': {}}"
      ]
     },
     "execution_count": 66,
     "metadata": {},
     "output_type": "execute_result"
    }
   ],
   "source": [
    "s = 'Operasi tamat sepenuhnya pada pukul 1:30:50 tengah hari'\n",
    "normalizer = malaya.normalize.normalizer()\n",
    "normalizer.normalize(s, normalize_time = True)"
   ]
  },
  {
   "cell_type": "code",
   "execution_count": 67,
   "metadata": {},
   "outputs": [
    {
     "data": {
      "text/plain": [
       "{'normalize': 'Operasi tamat sepenuhnya pada 01:30:00 tengah hari',\n",
       " 'date': {},\n",
       " 'money': {}}"
      ]
     },
     "execution_count": 67,
     "metadata": {},
     "output_type": "execute_result"
    }
   ],
   "source": [
    "s = 'Operasi tamat sepenuhnya pada pukul 1.30 tengah hari'\n",
    "normalizer = malaya.normalize.normalizer()\n",
    "normalizer.normalize(s, normalize_time = False)"
   ]
  },
  {
   "cell_type": "markdown",
   "metadata": {},
   "source": [
    "### Normalize emoji\n",
    "\n",
    "1. if True, `🔥` -> `emoji api`\n",
    "\n",
    "Simply `normalizer.normalize(string, normalize_emoji = True)`, default is `True`."
   ]
  },
  {
   "cell_type": "code",
   "execution_count": 68,
   "metadata": {},
   "outputs": [
    {
     "data": {
      "text/plain": [
       "{'normalize': 'awak sangat panas, emoji api', 'date': {}, 'money': {}}"
      ]
     },
     "execution_count": 68,
     "metadata": {},
     "output_type": "execute_result"
    }
   ],
   "source": [
    "s = 'u are really damn hot 🔥'\n",
    "normalizer = malaya.normalize.normalizer()\n",
    "normalizer.normalize(s, translator = nmt_func, \n",
    "                     language_detection_word = language_detection_word_func)"
   ]
  },
  {
   "cell_type": "markdown",
   "metadata": {},
   "source": [
    "### Normalizing rules\n",
    "\n",
    "**All these rules will ignore if first letter is capital except for normalizing titles.**"
   ]
  },
  {
   "cell_type": "markdown",
   "metadata": {},
   "source": [
    "#### 1. Normalize title,\n",
    "\n",
    "```python\n",
    "\n",
    "{\n",
    "    'dr': 'Doktor',\n",
    "    'yb': 'Yang Berhormat',\n",
    "    'hj': 'Haji',\n",
    "    'ybm': 'Yang Berhormat Mulia',\n",
    "    'tyt': 'Tuan Yang Terutama',\n",
    "    'yab': 'Yang Berhormat',\n",
    "    'ybm': 'Yang Berhormat Mulia',\n",
    "    'yabhg': 'Yang Amat Berbahagia',\n",
    "    'ybhg': 'Yang Berbahagia',\n",
    "    'miss': 'Cik',\n",
    "}\n",
    "\n",
    "```"
   ]
  },
  {
   "cell_type": "code",
   "execution_count": 69,
   "metadata": {},
   "outputs": [],
   "source": [
    "normalizer = malaya.normalize.normalizer()"
   ]
  },
  {
   "cell_type": "code",
   "execution_count": 70,
   "metadata": {},
   "outputs": [
    {
     "data": {
      "text/plain": [
       "{'normalize': 'Doktor yahaya', 'date': {}, 'money': {}}"
      ]
     },
     "execution_count": 70,
     "metadata": {},
     "output_type": "execute_result"
    }
   ],
   "source": [
    "normalizer.normalize('Dr yahaya')"
   ]
  },
  {
   "cell_type": "markdown",
   "metadata": {},
   "source": [
    "#### 2. expand `x`"
   ]
  },
  {
   "cell_type": "code",
   "execution_count": 71,
   "metadata": {},
   "outputs": [
    {
     "data": {
      "text/plain": [
       "{'normalize': 'tak tahu', 'date': {}, 'money': {}}"
      ]
     },
     "execution_count": 71,
     "metadata": {},
     "output_type": "execute_result"
    }
   ],
   "source": [
    "normalizer.normalize('xtahu')"
   ]
  },
  {
   "cell_type": "markdown",
   "metadata": {},
   "source": [
    "#### 3. normalize `ke -`"
   ]
  },
  {
   "cell_type": "code",
   "execution_count": 72,
   "metadata": {},
   "outputs": [
    {
     "data": {
      "text/plain": [
       "{'normalize': 'kedua belas', 'date': {}, 'money': {}}"
      ]
     },
     "execution_count": 72,
     "metadata": {},
     "output_type": "execute_result"
    }
   ],
   "source": [
    "normalizer.normalize('ke-12')"
   ]
  },
  {
   "cell_type": "code",
   "execution_count": 73,
   "metadata": {},
   "outputs": [
    {
     "data": {
      "text/plain": [
       "{'normalize': 'kedua belas', 'date': {}, 'money': {}}"
      ]
     },
     "execution_count": 73,
     "metadata": {},
     "output_type": "execute_result"
    }
   ],
   "source": [
    "normalizer.normalize('ke - 12')"
   ]
  },
  {
   "cell_type": "markdown",
   "metadata": {},
   "source": [
    "#### 4. normalize `ke - roman`"
   ]
  },
  {
   "cell_type": "code",
   "execution_count": 74,
   "metadata": {},
   "outputs": [
    {
     "data": {
      "text/plain": [
       "{'normalize': 'kedua puluh satu', 'date': {}, 'money': {}}"
      ]
     },
     "execution_count": 74,
     "metadata": {},
     "output_type": "execute_result"
    }
   ],
   "source": [
    "normalizer.normalize('ke-XXI')"
   ]
  },
  {
   "cell_type": "code",
   "execution_count": 75,
   "metadata": {},
   "outputs": [
    {
     "data": {
      "text/plain": [
       "{'normalize': 'kedua puluh satu', 'date': {}, 'money': {}}"
      ]
     },
     "execution_count": 75,
     "metadata": {},
     "output_type": "execute_result"
    }
   ],
   "source": [
    "normalizer.normalize('ke - XXI')"
   ]
  },
  {
   "cell_type": "markdown",
   "metadata": {},
   "source": [
    "#### 5. normalize `NUM - NUM`"
   ]
  },
  {
   "cell_type": "code",
   "execution_count": 76,
   "metadata": {},
   "outputs": [
    {
     "data": {
      "text/plain": [
       "{'normalize': 'dua ribu sebelas hingga dua ribu sembilan belas',\n",
       " 'date': {},\n",
       " 'money': {}}"
      ]
     },
     "execution_count": 76,
     "metadata": {},
     "output_type": "execute_result"
    }
   ],
   "source": [
    "normalizer.normalize('2011 - 2019')"
   ]
  },
  {
   "cell_type": "code",
   "execution_count": 77,
   "metadata": {},
   "outputs": [
    {
     "data": {
      "text/plain": [
       "{'normalize': 'dua ribu sebelas perpuluhan kosong satu hingga dua ribu sembilan belas',\n",
       " 'date': {},\n",
       " 'money': {}}"
      ]
     },
     "execution_count": 77,
     "metadata": {},
     "output_type": "execute_result"
    }
   ],
   "source": [
    "normalizer.normalize('2011.01-2019')"
   ]
  },
  {
   "cell_type": "markdown",
   "metadata": {},
   "source": [
    "#### 6. normalize `pada NUM (/ | -) NUM`"
   ]
  },
  {
   "cell_type": "code",
   "execution_count": 78,
   "metadata": {},
   "outputs": [
    {
     "data": {
      "text/plain": [
       "{'normalize': 'pada sepuluh hari bulan empat', 'date': {}, 'money': {}}"
      ]
     },
     "execution_count": 78,
     "metadata": {},
     "output_type": "execute_result"
    }
   ],
   "source": [
    "normalizer.normalize('pada 10/4')"
   ]
  },
  {
   "cell_type": "code",
   "execution_count": 79,
   "metadata": {},
   "outputs": [
    {
     "data": {
      "text/plain": [
       "{'normalize': 'pada sepuluh hari bulan empat', 'date': {}, 'money': {}}"
      ]
     },
     "execution_count": 79,
     "metadata": {},
     "output_type": "execute_result"
    }
   ],
   "source": [
    "normalizer.normalize('PADA 10 -4')"
   ]
  },
  {
   "cell_type": "markdown",
   "metadata": {},
   "source": [
    "#### 7. normalize `NUM / NUM`"
   ]
  },
  {
   "cell_type": "code",
   "execution_count": 80,
   "metadata": {},
   "outputs": [
    {
     "data": {
      "text/plain": [
       "{'normalize': 'sepuluh per empat', 'date': {}, 'money': {}}"
      ]
     },
     "execution_count": 80,
     "metadata": {},
     "output_type": "execute_result"
    }
   ],
   "source": [
    "normalizer.normalize('10 /4')"
   ]
  },
  {
   "cell_type": "markdown",
   "metadata": {},
   "source": [
    "#### 8. normalize `rm NUM`"
   ]
  },
  {
   "cell_type": "code",
   "execution_count": 81,
   "metadata": {},
   "outputs": [
    {
     "data": {
      "text/plain": [
       "{'normalize': 'sepuluh ringgit lima puluh sen',\n",
       " 'date': {},\n",
       " 'money': {'rm10.5': 'RM10.5'}}"
      ]
     },
     "execution_count": 81,
     "metadata": {},
     "output_type": "execute_result"
    }
   ],
   "source": [
    "normalizer.normalize('RM10.5')"
   ]
  },
  {
   "cell_type": "markdown",
   "metadata": {},
   "source": [
    "#### 9. normalize `rm NUM sen`"
   ]
  },
  {
   "cell_type": "code",
   "execution_count": 82,
   "metadata": {},
   "outputs": [
    {
     "data": {
      "text/plain": [
       "{'normalize': 'sepuluh ringgit lima puluh sen',\n",
       " 'date': {},\n",
       " 'money': {'rm 10.5': 'RM10.5'}}"
      ]
     },
     "execution_count": 82,
     "metadata": {},
     "output_type": "execute_result"
    }
   ],
   "source": [
    "normalizer.normalize('rm 10.5 sen')"
   ]
  },
  {
   "cell_type": "markdown",
   "metadata": {},
   "source": [
    "#### 10. normalize `NUM sen`"
   ]
  },
  {
   "cell_type": "code",
   "execution_count": 83,
   "metadata": {},
   "outputs": [
    {
     "data": {
      "text/plain": [
       "{'normalize': 'sepuluh ringgit lima belas sen',\n",
       " 'date': {},\n",
       " 'money': {'1015 sen': 'RM10.15'}}"
      ]
     },
     "execution_count": 83,
     "metadata": {},
     "output_type": "execute_result"
    }
   ],
   "source": [
    "normalizer.normalize('1015 sen')"
   ]
  },
  {
   "cell_type": "markdown",
   "metadata": {},
   "source": [
    "#### 11. normalize money"
   ]
  },
  {
   "cell_type": "code",
   "execution_count": 84,
   "metadata": {},
   "outputs": [
    {
     "data": {
      "text/plain": [
       "{'normalize': 'sepuluh juta empat ratus ribu ringgit',\n",
       " 'date': {},\n",
       " 'money': {'rm10.4m': 'RM10400000.0'}}"
      ]
     },
     "execution_count": 84,
     "metadata": {},
     "output_type": "execute_result"
    }
   ],
   "source": [
    "normalizer.normalize('rm10.4m')"
   ]
  },
  {
   "cell_type": "code",
   "execution_count": 85,
   "metadata": {},
   "outputs": [
    {
     "data": {
      "text/plain": [
       "{'normalize': 'sepuluh ribu empat ratus dollar',\n",
       " 'date': {},\n",
       " 'money': {'$10.4k': '$10400.0'}}"
      ]
     },
     "execution_count": 85,
     "metadata": {},
     "output_type": "execute_result"
    }
   ],
   "source": [
    "normalizer.normalize('$10.4K')"
   ]
  },
  {
   "cell_type": "markdown",
   "metadata": {},
   "source": [
    "#### 12. normalize cardinal"
   ]
  },
  {
   "cell_type": "code",
   "execution_count": 86,
   "metadata": {},
   "outputs": [
    {
     "data": {
      "text/plain": [
       "{'normalize': 'seratus dua puluh tiga', 'date': {}, 'money': {}}"
      ]
     },
     "execution_count": 86,
     "metadata": {},
     "output_type": "execute_result"
    }
   ],
   "source": [
    "normalizer.normalize('123')"
   ]
  },
  {
   "cell_type": "markdown",
   "metadata": {},
   "source": [
    "#### 13. normalize ordinal"
   ]
  },
  {
   "cell_type": "code",
   "execution_count": 87,
   "metadata": {},
   "outputs": [
    {
     "data": {
      "text/plain": [
       "{'normalize': 'keseratus dua puluh tiga', 'date': {}, 'money': {}}"
      ]
     },
     "execution_count": 87,
     "metadata": {},
     "output_type": "execute_result"
    }
   ],
   "source": [
    "normalizer.normalize('ke123')"
   ]
  },
  {
   "cell_type": "markdown",
   "metadata": {},
   "source": [
    "#### 14. normalize date / time / datetime string to datetime.datetime"
   ]
  },
  {
   "cell_type": "code",
   "execution_count": 88,
   "metadata": {},
   "outputs": [
    {
     "data": {
      "text/plain": [
       "{'normalize': 'dua hari lepas',\n",
       " 'date': {'2 hari lalu': datetime.datetime(2022, 8, 20, 13, 22, 59, 365731)},\n",
       " 'money': {}}"
      ]
     },
     "execution_count": 88,
     "metadata": {},
     "output_type": "execute_result"
    }
   ],
   "source": [
    "normalizer.normalize('2 hari lepas')"
   ]
  },
  {
   "cell_type": "code",
   "execution_count": 89,
   "metadata": {},
   "outputs": [
    {
     "data": {
      "text/plain": [
       "{'normalize': 'esok',\n",
       " 'date': {'esok': datetime.datetime(2022, 8, 23, 13, 23, 0, 519963)},\n",
       " 'money': {}}"
      ]
     },
     "execution_count": 89,
     "metadata": {},
     "output_type": "execute_result"
    }
   ],
   "source": [
    "normalizer.normalize('esok')"
   ]
  },
  {
   "cell_type": "code",
   "execution_count": 90,
   "metadata": {},
   "outputs": [
    {
     "data": {
      "text/plain": [
       "{'normalize': 'dua puluh dua Oktober dua ribu sembilan belas',\n",
       " 'date': {'okt 2019': datetime.datetime(2019, 10, 22, 0, 0)},\n",
       " 'money': {}}"
      ]
     },
     "execution_count": 90,
     "metadata": {},
     "output_type": "execute_result"
    }
   ],
   "source": [
    "normalizer.normalize('okt 2019')"
   ]
  },
  {
   "cell_type": "code",
   "execution_count": 91,
   "metadata": {},
   "outputs": [
    {
     "data": {
      "text/plain": [
       "{'normalize': 'pukul dua',\n",
       " 'date': {'2AM': datetime.datetime(2022, 8, 22, 2, 0)},\n",
       " 'money': {}}"
      ]
     },
     "execution_count": 91,
     "metadata": {},
     "output_type": "execute_result"
    }
   ],
   "source": [
    "normalizer.normalize('2pgi')"
   ]
  },
  {
   "cell_type": "code",
   "execution_count": 92,
   "metadata": {},
   "outputs": [
    {
     "data": {
      "text/plain": [
       "{'normalize': 'pukul kosong malam',\n",
       " 'date': {'8 PM': datetime.datetime(2022, 8, 22, 20, 0)},\n",
       " 'money': {}}"
      ]
     },
     "execution_count": 92,
     "metadata": {},
     "output_type": "execute_result"
    }
   ],
   "source": [
    "normalizer.normalize('pukul 8 malam')"
   ]
  },
  {
   "cell_type": "code",
   "execution_count": 93,
   "metadata": {},
   "outputs": [
    {
     "data": {
      "text/plain": [
       "{'normalize': 'dua Januari dua ribu sembilan belas pukul dua belas satu minit',\n",
       " 'date': {'jan 2 2019 12:01pm': datetime.datetime(2019, 1, 2, 12, 1)},\n",
       " 'money': {}}"
      ]
     },
     "execution_count": 93,
     "metadata": {},
     "output_type": "execute_result"
    }
   ],
   "source": [
    "normalizer.normalize('jan 2 2019 12:01pm')"
   ]
  },
  {
   "cell_type": "code",
   "execution_count": 94,
   "metadata": {},
   "outputs": [
    {
     "data": {
      "text/plain": [
       "{'normalize': 'pukul empat belas dua Januari dua ribu sembilan belas',\n",
       " 'date': {'2 PM jan 2 2019': datetime.datetime(2019, 1, 2, 14, 0)},\n",
       " 'money': {}}"
      ]
     },
     "execution_count": 94,
     "metadata": {},
     "output_type": "execute_result"
    }
   ],
   "source": [
    "normalizer.normalize('2 ptg jan 2 2019')"
   ]
  },
  {
   "cell_type": "markdown",
   "metadata": {},
   "source": [
    "#### 15. normalize money string to string number representation"
   ]
  },
  {
   "cell_type": "code",
   "execution_count": 95,
   "metadata": {},
   "outputs": [
    {
     "data": {
      "text/plain": [
       "{'normalize': 'lima puluh sen', 'date': {}, 'money': {'50 sen': 'RM0.5'}}"
      ]
     },
     "execution_count": 95,
     "metadata": {},
     "output_type": "execute_result"
    }
   ],
   "source": [
    "normalizer.normalize('50 sen')"
   ]
  },
  {
   "cell_type": "code",
   "execution_count": 96,
   "metadata": {},
   "outputs": [
    {
     "data": {
      "text/plain": [
       "{'normalize': 'dua puluh ringgit lima puluh sen',\n",
       " 'date': {},\n",
       " 'money': {'20.5 ringgit': 'RM20.5'}}"
      ]
     },
     "execution_count": 96,
     "metadata": {},
     "output_type": "execute_result"
    }
   ],
   "source": [
    "normalizer.normalize('20.5 ringgit')"
   ]
  },
  {
   "cell_type": "code",
   "execution_count": 97,
   "metadata": {},
   "outputs": [
    {
     "data": {
      "text/plain": [
       "{'normalize': 'dua puluh juta ringgit',\n",
       " 'date': {},\n",
       " 'money': {'20m ringgit': 'RM20000000.0'}}"
      ]
     },
     "execution_count": 97,
     "metadata": {},
     "output_type": "execute_result"
    }
   ],
   "source": [
    "normalizer.normalize('20m ringgit')"
   ]
  },
  {
   "cell_type": "code",
   "execution_count": 98,
   "metadata": {},
   "outputs": [
    {
     "data": {
      "text/plain": [
       "{'normalize': 'dua puluh dua ribu lima ratus dua belas ringgit tiga ratus tiga puluh empat sen',\n",
       " 'date': {},\n",
       " 'money': {'22.512334k ringgit': 'RM22512.334'}}"
      ]
     },
     "execution_count": 98,
     "metadata": {},
     "output_type": "execute_result"
    }
   ],
   "source": [
    "normalizer.normalize('22.5123334k ringgit')"
   ]
  },
  {
   "cell_type": "markdown",
   "metadata": {},
   "source": [
    "#### 16. normalize date string to %d/%m/%y"
   ]
  },
  {
   "cell_type": "code",
   "execution_count": 99,
   "metadata": {},
   "outputs": [
    {
     "data": {
      "text/plain": [
       "{'normalize': 'satu November dua ribu sembilan belas',\n",
       " 'date': {'1 nov 2019': datetime.datetime(2019, 11, 1, 0, 0)},\n",
       " 'money': {}}"
      ]
     },
     "execution_count": 99,
     "metadata": {},
     "output_type": "execute_result"
    }
   ],
   "source": [
    "normalizer.normalize('1 nov 2019')"
   ]
  },
  {
   "cell_type": "code",
   "execution_count": 100,
   "metadata": {},
   "outputs": [
    {
     "data": {
      "text/plain": [
       "{'normalize': 'satu Januari seribu sembilan ratus sembilan puluh enam',\n",
       " 'date': {'januari 1 1996': datetime.datetime(1996, 1, 1, 0, 0)},\n",
       " 'money': {}}"
      ]
     },
     "execution_count": 100,
     "metadata": {},
     "output_type": "execute_result"
    }
   ],
   "source": [
    "normalizer.normalize('januari 1 1996')"
   ]
  },
  {
   "cell_type": "code",
   "execution_count": 101,
   "metadata": {},
   "outputs": [
    {
     "data": {
      "text/plain": [
       "{'normalize': 'dua puluh dua Januari dua ribu sembilan belas',\n",
       " 'date': {'januari 2019': datetime.datetime(2019, 1, 22, 0, 0)},\n",
       " 'money': {}}"
      ]
     },
     "execution_count": 101,
     "metadata": {},
     "output_type": "execute_result"
    }
   ],
   "source": [
    "normalizer.normalize('januari 2019')"
   ]
  },
  {
   "cell_type": "markdown",
   "metadata": {},
   "source": [
    "#### 17. normalize time string to %H:%M:%S"
   ]
  },
  {
   "cell_type": "code",
   "execution_count": 102,
   "metadata": {},
   "outputs": [
    {
     "data": {
      "text/plain": [
       "{'normalize': 'pukul empat belas',\n",
       " 'date': {'2pm': datetime.datetime(2022, 8, 22, 14, 0)},\n",
       " 'money': {}}"
      ]
     },
     "execution_count": 102,
     "metadata": {},
     "output_type": "execute_result"
    }
   ],
   "source": [
    "normalizer.normalize('2pm')"
   ]
  },
  {
   "cell_type": "code",
   "execution_count": 103,
   "metadata": {},
   "outputs": [
    {
     "data": {
      "text/plain": [
       "{'normalize': 'pukul empat belas satu minit',\n",
       " 'date': {'2:01pm': datetime.datetime(2022, 8, 22, 14, 1)},\n",
       " 'money': {}}"
      ]
     },
     "execution_count": 103,
     "metadata": {},
     "output_type": "execute_result"
    }
   ],
   "source": [
    "normalizer.normalize('2:01pm')"
   ]
  },
  {
   "cell_type": "code",
   "execution_count": 104,
   "metadata": {},
   "outputs": [
    {
     "data": {
      "text/plain": [
       "{'normalize': 'pukul dua',\n",
       " 'date': {'2am': datetime.datetime(2022, 8, 22, 2, 0)},\n",
       " 'money': {}}"
      ]
     },
     "execution_count": 104,
     "metadata": {},
     "output_type": "execute_result"
    }
   ],
   "source": [
    "normalizer.normalize('2AM')"
   ]
  },
  {
   "cell_type": "markdown",
   "metadata": {},
   "source": [
    "#### 18. expand repetition shortform"
   ]
  },
  {
   "cell_type": "code",
   "execution_count": 105,
   "metadata": {},
   "outputs": [
    {
     "data": {
      "text/plain": [
       "{'normalize': 'sakit-sakit', 'date': {}, 'money': {}}"
      ]
     },
     "execution_count": 105,
     "metadata": {},
     "output_type": "execute_result"
    }
   ],
   "source": [
    "normalizer.normalize('skit2')"
   ]
  },
  {
   "cell_type": "code",
   "execution_count": 106,
   "metadata": {},
   "outputs": [
    {
     "data": {
      "text/plain": [
       "{'normalize': 'tak sakit-sakit', 'date': {}, 'money': {}}"
      ]
     },
     "execution_count": 106,
     "metadata": {},
     "output_type": "execute_result"
    }
   ],
   "source": [
    "normalizer.normalize('xskit2')"
   ]
  },
  {
   "cell_type": "code",
   "execution_count": 107,
   "metadata": {},
   "outputs": [
    {
     "data": {
      "text/plain": [
       "{'normalize': 'tak jadi-jadi', 'date': {}, 'money': {}}"
      ]
     },
     "execution_count": 107,
     "metadata": {},
     "output_type": "execute_result"
    }
   ],
   "source": [
    "normalizer.normalize('xjdi2')"
   ]
  },
  {
   "cell_type": "code",
   "execution_count": 108,
   "metadata": {},
   "outputs": [
    {
     "data": {
      "text/plain": [
       "{'normalize': 'tak jadi-jadi-jadi-jadi', 'date': {}, 'money': {}}"
      ]
     },
     "execution_count": 108,
     "metadata": {},
     "output_type": "execute_result"
    }
   ],
   "source": [
    "normalizer.normalize('xjdi4')"
   ]
  },
  {
   "cell_type": "code",
   "execution_count": 109,
   "metadata": {},
   "outputs": [
    {
     "data": {
      "text/plain": [
       "{'normalize': 'tak jadi', 'date': {}, 'money': {}}"
      ]
     },
     "execution_count": 109,
     "metadata": {},
     "output_type": "execute_result"
    }
   ],
   "source": [
    "normalizer.normalize('xjdi0')"
   ]
  },
  {
   "cell_type": "code",
   "execution_count": 110,
   "metadata": {},
   "outputs": [
    {
     "data": {
      "text/plain": [
       "{'normalize': 'tak jadi', 'date': {}, 'money': {}}"
      ]
     },
     "execution_count": 110,
     "metadata": {},
     "output_type": "execute_result"
    }
   ],
   "source": [
    "normalizer.normalize('xjdi')"
   ]
  },
  {
   "cell_type": "markdown",
   "metadata": {},
   "source": [
    "#### 19. normalize `NUM SI-UNIT`"
   ]
  },
  {
   "cell_type": "code",
   "execution_count": 111,
   "metadata": {},
   "outputs": [
    {
     "data": {
      "text/plain": [
       "{'normalize': 'enam puluh satu perpuluhan dua kilogram',\n",
       " 'date': {},\n",
       " 'money': {}}"
      ]
     },
     "execution_count": 111,
     "metadata": {},
     "output_type": "execute_result"
    }
   ],
   "source": [
    "normalizer.normalize('61.2 kg')"
   ]
  },
  {
   "cell_type": "code",
   "execution_count": 112,
   "metadata": {},
   "outputs": [
    {
     "data": {
      "text/plain": [
       "{'normalize': 'enam puluh satu perpuluhan dua kilogram',\n",
       " 'date': {},\n",
       " 'money': {}}"
      ]
     },
     "execution_count": 112,
     "metadata": {},
     "output_type": "execute_result"
    }
   ],
   "source": [
    "normalizer.normalize('61.2kg')"
   ]
  },
  {
   "cell_type": "code",
   "execution_count": 113,
   "metadata": {},
   "outputs": [
    {
     "data": {
      "text/plain": [
       "{'normalize': 'enam puluh satu kilogram', 'date': {}, 'money': {}}"
      ]
     },
     "execution_count": 113,
     "metadata": {},
     "output_type": "execute_result"
    }
   ],
   "source": [
    "normalizer.normalize('61kg')"
   ]
  },
  {
   "cell_type": "code",
   "execution_count": 114,
   "metadata": {},
   "outputs": [
    {
     "data": {
      "text/plain": [
       "{'normalize': 'enam puluh satu milliliter', 'date': {}, 'money': {}}"
      ]
     },
     "execution_count": 114,
     "metadata": {},
     "output_type": "execute_result"
    }
   ],
   "source": [
    "normalizer.normalize('61ml')"
   ]
  },
  {
   "cell_type": "code",
   "execution_count": 115,
   "metadata": {},
   "outputs": [
    {
     "data": {
      "text/plain": [
       "{'normalize': 'enam puluh satu meter', 'date': {}, 'money': {}}"
      ]
     },
     "execution_count": 115,
     "metadata": {},
     "output_type": "execute_result"
    }
   ],
   "source": [
    "normalizer.normalize('61m')"
   ]
  },
  {
   "cell_type": "code",
   "execution_count": 116,
   "metadata": {},
   "outputs": [
    {
     "data": {
      "text/plain": [
       "{'normalize': 'enam puluh satu perpuluhan tiga empat tiga empat kilometer',\n",
       " 'date': {},\n",
       " 'money': {}}"
      ]
     },
     "execution_count": 116,
     "metadata": {},
     "output_type": "execute_result"
    }
   ],
   "source": [
    "normalizer.normalize('61.3434km')"
   ]
  },
  {
   "cell_type": "code",
   "execution_count": 117,
   "metadata": {},
   "outputs": [
    {
     "data": {
      "text/plain": [
       "{'normalize': 'enam puluh satu perpuluhan tiga empat tiga empat celsius',\n",
       " 'date': {},\n",
       " 'money': {}}"
      ]
     },
     "execution_count": 117,
     "metadata": {},
     "output_type": "execute_result"
    }
   ],
   "source": [
    "normalizer.normalize('61.3434c')"
   ]
  },
  {
   "cell_type": "code",
   "execution_count": 118,
   "metadata": {},
   "outputs": [
    {
     "data": {
      "text/plain": [
       "{'normalize': 'enam puluh satu perpuluhan tiga empat tiga empat celsius',\n",
       " 'date': {},\n",
       " 'money': {}}"
      ]
     },
     "execution_count": 118,
     "metadata": {},
     "output_type": "execute_result"
    }
   ],
   "source": [
    "normalizer.normalize('61.3434 c')"
   ]
  },
  {
   "cell_type": "markdown",
   "metadata": {},
   "source": [
    "#### 20. normalize `laughing` pattern"
   ]
  },
  {
   "cell_type": "code",
   "execution_count": 119,
   "metadata": {},
   "outputs": [
    {
     "data": {
      "text/plain": [
       "{'normalize': 'dia sakai haha', 'date': {}, 'money': {}}"
      ]
     },
     "execution_count": 119,
     "metadata": {},
     "output_type": "execute_result"
    }
   ],
   "source": [
    "normalizer.normalize('dia sakai wkwkwkawkw')"
   ]
  },
  {
   "cell_type": "code",
   "execution_count": 120,
   "metadata": {},
   "outputs": [
    {
     "data": {
      "text/plain": [
       "{'normalize': 'dia sakai haha', 'date': {}, 'money': {}}"
      ]
     },
     "execution_count": 120,
     "metadata": {},
     "output_type": "execute_result"
    }
   ],
   "source": [
    "normalizer.normalize('dia sakai hhihihu')"
   ]
  },
  {
   "cell_type": "markdown",
   "metadata": {},
   "source": [
    "#### 21. normalize `mengeluh` pattern"
   ]
  },
  {
   "cell_type": "code",
   "execution_count": 121,
   "metadata": {},
   "outputs": [
    {
     "data": {
      "text/plain": [
       "{'normalize': 'Aduh apa lah si yusuff ini . Mama cari rupanya celah ini',\n",
       " 'date': {},\n",
       " 'money': {}}"
      ]
     },
     "execution_count": 121,
     "metadata": {},
     "output_type": "execute_result"
    }
   ],
   "source": [
    "normalizer.normalize('Haih apa lah si yusuff ni . Mama cari rupanya celah ni')"
   ]
  },
  {
   "cell_type": "code",
   "execution_count": 122,
   "metadata": {},
   "outputs": [
    {
     "data": {
      "text/plain": [
       "{'normalize': 'aduh maaf lah syazz', 'date': {}, 'money': {}}"
      ]
     },
     "execution_count": 122,
     "metadata": {},
     "output_type": "execute_result"
    }
   ],
   "source": [
    "normalizer.normalize('hais sorrylah syazzz')"
   ]
  },
  {
   "cell_type": "markdown",
   "metadata": {},
   "source": [
    "#### 22. normalize `percent` pattern"
   ]
  },
  {
   "cell_type": "code",
   "execution_count": 123,
   "metadata": {},
   "outputs": [
    {
     "data": {
      "text/plain": [
       "{'normalize': 'kosong perpuluhan lapan peratus', 'date': {}, 'money': {}}"
      ]
     },
     "execution_count": 123,
     "metadata": {},
     "output_type": "execute_result"
    }
   ],
   "source": [
    "normalizer.normalize('0.8%')"
   ]
  },
  {
   "cell_type": "code",
   "execution_count": 124,
   "metadata": {},
   "outputs": [
    {
     "data": {
      "text/plain": [
       "{'normalize': 'seribu dua ratus tiga belas perpuluhan satu kosong satu dua tiga satu dua peratus',\n",
       " 'date': {},\n",
       " 'money': {}}"
      ]
     },
     "execution_count": 124,
     "metadata": {},
     "output_type": "execute_result"
    }
   ],
   "source": [
    "normalizer.normalize('1213.1012312%')"
   ]
  }
 ],
 "metadata": {
  "kernelspec": {
   "display_name": "Python 3",
   "language": "python",
   "name": "python3"
  },
  "language_info": {
   "codemirror_mode": {
    "name": "ipython",
    "version": 3
   },
   "file_extension": ".py",
   "mimetype": "text/x-python",
   "name": "python",
   "nbconvert_exporter": "python",
   "pygments_lexer": "ipython3",
   "version": "3.7.7"
  },
  "varInspector": {
   "cols": {
    "lenName": 16,
    "lenType": 16,
    "lenVar": 40
   },
   "kernels_config": {
    "python": {
     "delete_cmd_postfix": "",
     "delete_cmd_prefix": "del ",
     "library": "var_list.py",
     "varRefreshCmd": "print(var_dic_list())"
    },
    "r": {
     "delete_cmd_postfix": ") ",
     "delete_cmd_prefix": "rm(",
     "library": "var_list.r",
     "varRefreshCmd": "cat(var_dic_list()) "
    }
   },
   "types_to_exclude": [
    "module",
    "function",
    "builtin_function_or_method",
    "instance",
    "_Feature"
   ],
   "window_display": false
  }
 },
 "nbformat": 4,
 "nbformat_minor": 2
}
