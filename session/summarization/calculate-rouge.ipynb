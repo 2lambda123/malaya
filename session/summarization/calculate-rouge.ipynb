{
 "cells": [
  {
   "cell_type": "code",
   "execution_count": 1,
   "metadata": {},
   "outputs": [],
   "source": [
    "import numpy as np\n",
    "from tensor2tensor.utils import rouge\n",
    "from tensorflow.keras.preprocessing import sequence\n",
    "import sentencepiece as spm\n",
    "import json"
   ]
  },
  {
   "cell_type": "code",
   "execution_count": 2,
   "metadata": {},
   "outputs": [
    {
     "data": {
      "text/plain": [
       "True"
      ]
     },
     "execution_count": 2,
     "metadata": {},
     "output_type": "execute_result"
    }
   ],
   "source": [
    "sp_model = spm.SentencePieceProcessor()\n",
    "sp_model.Load('sp10m.cased.t5.model')"
   ]
  },
  {
   "cell_type": "code",
   "execution_count": 3,
   "metadata": {},
   "outputs": [
    {
     "data": {
      "text/plain": [
       "10000"
      ]
     },
     "execution_count": 3,
     "metadata": {},
     "output_type": "execute_result"
    }
   ],
   "source": [
    "with open('output-base.json') as fopen:\n",
    "    predicted_base = json.load(fopen)\n",
    "    \n",
    "len(predicted_base)"
   ]
  },
  {
   "cell_type": "code",
   "execution_count": 4,
   "metadata": {},
   "outputs": [
    {
     "data": {
      "text/plain": [
       "10000"
      ]
     },
     "execution_count": 4,
     "metadata": {},
     "output_type": "execute_result"
    }
   ],
   "source": [
    "with open('output-small.json') as fopen:\n",
    "    predicted_small = json.load(fopen)\n",
    "    \n",
    "len(predicted_small)"
   ]
  },
  {
   "cell_type": "code",
   "execution_count": 5,
   "metadata": {},
   "outputs": [
    {
     "data": {
      "text/plain": [
       "10000"
      ]
     },
     "execution_count": 5,
     "metadata": {},
     "output_type": "execute_result"
    }
   ],
   "source": [
    "with open('test-set-cnn.json') as fopen:\n",
    "    data = json.load(fopen)\n",
    "    \n",
    "len(data['Y'])"
   ]
  },
  {
   "cell_type": "code",
   "execution_count": 6,
   "metadata": {},
   "outputs": [
    {
     "data": {
      "text/plain": [
       "(\"British Airways telah membeli pembekal perniagaan Perancis L'Avion untuk Ps 54 juta. Syarikat penerbangan itu akan disepadukan ke E. U. -U. S. Anak syarikat Openskies. Jika diluluskan, integrasi penuh dijangka pada awal tahun 2009\",\n",
       " \"British Airways telah bersetuju untuk membeli L'Avion, syarikat penerbangan kelas perniagaan Perancis. Perjanjian $ 108 juta adalah pemergian syarikat penerbangan serba ada yang terakhir berikutan kematian Maxjet, Eos dan Silverjet. Openskies akan meningkatkan kekerapan perkhidmatan Orly-Jfk kepada tiga penerbangan harian\",\n",
       " \"British Airways membeli L'Avion, syarikat penerbangan kelas perniagaan Perancis. Syarikat penerbangan itu dilancarkan pada Januari 2009 dan menggunakan 77 kakitangan di Paris. Perjanjian $ 108 juta menandakan pemergian syarikat penerbangan serba ada yang terakhir selepas kematian Maxjet\")"
      ]
     },
     "execution_count": 6,
     "metadata": {},
     "output_type": "execute_result"
    }
   ],
   "source": [
    "data['Y'][0], predicted_base[0], predicted_small[0]"
   ]
  },
  {
   "cell_type": "code",
   "execution_count": 7,
   "metadata": {},
   "outputs": [],
   "source": [
    "def calculate_rouges(predicted, batch_y, n_size = 2):\n",
    "    batch_y = [sp_model.EncodeAsIds(row) for row in batch_y]\n",
    "    predicted = [sp_model.EncodeAsIds(row) for row in predicted]\n",
    "    maxlen = max(max(len(row) for row in batch_y), max(len(row) for row in predicted))\n",
    "    batch_y = sequence.pad_sequences(batch_y, padding = 'post', maxlen = maxlen)\n",
    "    predicted = sequence.pad_sequences(predicted, padding = 'post', maxlen = maxlen)\n",
    "    \n",
    "    non = np.count_nonzero(batch_y, axis = 1)\n",
    "    o = []\n",
    "    for n in non:\n",
    "        o.append([True for _ in range(n)])\n",
    "    b = sequence.pad_sequences(o, dtype = np.bool, padding = 'post', value = False, maxlen = maxlen)\n",
    "    rouges = []\n",
    "    for i in range(b.shape[0]):\n",
    "        a = batch_y[i][b[i]]\n",
    "        p = predicted[i][b[i]]\n",
    "        score = rouge.rouge_n([a], [p], n = n_size)\n",
    "        rouges.append(score)\n",
    "    return np.mean(rouges)\n",
    "\n",
    "def calculate_rouge_l(predicted, batch_y):\n",
    "    batch_y = [sp_model.EncodeAsIds(row) for row in batch_y]\n",
    "    predicted = [sp_model.EncodeAsIds(row) for row in predicted]\n",
    "    maxlen = max(max(len(row) for row in batch_y), max(len(row) for row in predicted))\n",
    "    batch_y = sequence.pad_sequences(batch_y, padding = 'post', maxlen = maxlen)\n",
    "    predicted = sequence.pad_sequences(predicted, padding = 'post', maxlen = maxlen)\n",
    "    \n",
    "    non = np.count_nonzero(batch_y, axis = 1)\n",
    "    o = []\n",
    "    for n in non:\n",
    "        o.append([True for _ in range(n)])\n",
    "    b = sequence.pad_sequences(o, dtype = np.bool, padding = 'post', value = False, maxlen = maxlen)\n",
    "    rouges = []\n",
    "    for i in range(b.shape[0]):\n",
    "        a = batch_y[i][b[i]]\n",
    "        p = predicted[i][b[i]]\n",
    "        score = rouge.rouge_l_sentence_level([a], [p])\n",
    "        rouges.append(score)\n",
    "    return np.mean(rouges)"
   ]
  },
  {
   "cell_type": "code",
   "execution_count": 8,
   "metadata": {},
   "outputs": [
    {
     "data": {
      "text/plain": [
       "0.3410321"
      ]
     },
     "execution_count": 8,
     "metadata": {},
     "output_type": "execute_result"
    }
   ],
   "source": [
    "calculate_rouges(predicted_base, data['Y'], n_size = 1)"
   ]
  },
  {
   "cell_type": "code",
   "execution_count": 9,
   "metadata": {},
   "outputs": [
    {
     "data": {
      "text/plain": [
       "0.3385415"
      ]
     },
     "execution_count": 9,
     "metadata": {},
     "output_type": "execute_result"
    }
   ],
   "source": [
    "calculate_rouges(predicted_small, data['Y'], n_size = 1)"
   ]
  },
  {
   "cell_type": "code",
   "execution_count": 10,
   "metadata": {},
   "outputs": [
    {
     "data": {
      "text/plain": [
       "0.1499447"
      ]
     },
     "execution_count": 10,
     "metadata": {},
     "output_type": "execute_result"
    }
   ],
   "source": [
    "calculate_rouges(predicted_base, data['Y'], n_size = 2)"
   ]
  },
  {
   "cell_type": "code",
   "execution_count": 11,
   "metadata": {},
   "outputs": [
    {
     "data": {
      "text/plain": [
       "0.14588113"
      ]
     },
     "execution_count": 11,
     "metadata": {},
     "output_type": "execute_result"
    }
   ],
   "source": [
    "calculate_rouges(predicted_small, data['Y'], n_size = 2)"
   ]
  },
  {
   "cell_type": "code",
   "execution_count": 12,
   "metadata": {},
   "outputs": [
    {
     "data": {
      "text/plain": [
       "0.23655131"
      ]
     },
     "execution_count": 12,
     "metadata": {},
     "output_type": "execute_result"
    }
   ],
   "source": [
    "calculate_rouge_l(predicted_base, data['Y'])"
   ]
  },
  {
   "cell_type": "code",
   "execution_count": 13,
   "metadata": {},
   "outputs": [
    {
     "data": {
      "text/plain": [
       "0.23528054"
      ]
     },
     "execution_count": 13,
     "metadata": {},
     "output_type": "execute_result"
    }
   ],
   "source": [
    "calculate_rouge_l(predicted_small, data['Y'])"
   ]
  }
 ],
 "metadata": {
  "kernelspec": {
   "display_name": "Python 3",
   "language": "python",
   "name": "python3"
  },
  "language_info": {
   "codemirror_mode": {
    "name": "ipython",
    "version": 3
   },
   "file_extension": ".py",
   "mimetype": "text/x-python",
   "name": "python",
   "nbconvert_exporter": "python",
   "pygments_lexer": "ipython3",
   "version": "3.6.8"
  }
 },
 "nbformat": 4,
 "nbformat_minor": 2
}
