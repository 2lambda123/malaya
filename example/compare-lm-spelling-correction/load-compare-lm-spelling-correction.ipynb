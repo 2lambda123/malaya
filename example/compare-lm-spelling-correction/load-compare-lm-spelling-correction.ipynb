{
 "cells": [
  {
   "cell_type": "markdown",
   "metadata": {},
   "source": [
    "# Compare LM on Spelling Correction"
   ]
  },
  {
   "cell_type": "markdown",
   "metadata": {},
   "source": [
    "<div class=\"alert alert-info\">\n",
    "\n",
    "This tutorial is available as an IPython notebook at [Malaya/example/compare-lm-spelling-correction](https://github.com/huseinzol05/Malaya/tree/master/example/compare-lm-spelling-correction).\n",
    "    \n",
    "</div>"
   ]
  },
  {
   "cell_type": "markdown",
   "metadata": {},
   "source": [
    "Malaya got 3 different LM models,\n",
    "\n",
    "1. KenLM\n",
    "2. GPT2\n",
    "3. Masked LM\n",
    "\n",
    "So we are going to compare the spelling correction results."
   ]
  },
  {
   "cell_type": "code",
   "execution_count": 1,
   "metadata": {},
   "outputs": [],
   "source": [
    "import os\n",
    "\n",
    "os.environ['CUDA_VISIBLE_DEVICES'] = ''\n",
    "os.environ['TF_FORCE_GPU_ALLOW_GROWTH'] = 'true'"
   ]
  },
  {
   "cell_type": "code",
   "execution_count": 2,
   "metadata": {},
   "outputs": [],
   "source": [
    "import logging\n",
    "\n",
    "logging.basicConfig(level=logging.INFO)"
   ]
  },
  {
   "cell_type": "code",
   "execution_count": 3,
   "metadata": {},
   "outputs": [
    {
     "name": "stderr",
     "output_type": "stream",
     "text": [
      "/home/husein/dev/malaya/malaya/tokenizer.py:202: FutureWarning: Possible nested set at position 3361\n",
      "  self.tok = re.compile(r'({})'.format('|'.join(pipeline)))\n",
      "/home/husein/dev/malaya/malaya/tokenizer.py:202: FutureWarning: Possible nested set at position 3879\n",
      "  self.tok = re.compile(r'({})'.format('|'.join(pipeline)))\n"
     ]
    }
   ],
   "source": [
    "import malaya"
   ]
  },
  {
   "cell_type": "code",
   "execution_count": 4,
   "metadata": {},
   "outputs": [],
   "source": [
    "# some text examples copied from Twitter\n",
    "\n",
    "string1 = 'krajaan patut bagi pencen awal skt kpd warga emas supaya emosi'\n",
    "string2 = 'Husein ska mkn aym dkat kampng Jawa'\n",
    "string3 = 'Melayu malas ni narration dia sama je macam men are trash. True to some, false to some.'\n",
    "string4 = 'Tapi tak pikir ke bahaya perpetuate myths camtu. Nanti kalau ada hiring discrimination despite your good qualifications because of your race tau pulak marah. Your kids will be victims of that too.'\n",
    "string5 = 'DrM cerita Melayu malas semenjak saya kat University (early 1980s) and now as i am edging towards retirement in 4-5 years time after a career of being an Engineer, Project Manager, General Manager'\n",
    "string6 = 'blh bntg dlm kls nlp sy, nnti intch'\n",
    "string7 = 'mulakn slh org boleh ,bila geng tuh kena slhkn jgk xboleh trima .. pelik'"
   ]
  },
  {
   "cell_type": "markdown",
   "metadata": {},
   "source": [
    "### Load probability model\n",
    "\n",
    "```python\n",
    "def load(\n",
    "    language_model=None,\n",
    "    sentence_piece: bool = False,\n",
    "    stemmer=None,\n",
    "    **kwargs,\n",
    "):\n",
    "    \"\"\"\n",
    "    Load a Probability Spell Corrector.\n",
    "\n",
    "    Parameters\n",
    "    ----------\n",
    "    language_model: Callable, optional (default=None)\n",
    "        If not None, must an object with `score` method.\n",
    "    sentence_piece: bool, optional (default=False)\n",
    "        if True, reduce possible augmentation states using sentence piece.\n",
    "    stemmer: Callable, optional (default=None)\n",
    "        a Callable object, must have `stem_word` method.\n",
    "\n",
    "    Returns\n",
    "    -------\n",
    "    result: model\n",
    "        List of model classes:\n",
    "\n",
    "        * if passed `language_model` will return `malaya.spelling_correction.probability.ProbabilityLM`.\n",
    "        * else will return `malaya.spelling_correction.probability.Probability`.\n",
    "    \"\"\"\n",
    "```"
   ]
  },
  {
   "cell_type": "code",
   "execution_count": 19,
   "metadata": {},
   "outputs": [
    {
     "data": {
      "text/plain": [
       "<Model from b'79a00bc9ce79bd29dea1bfa15b66524db7b6731f040a71c653f02c2132d955a3.a63730b02158debc1b0102385e131830c93721224b1f932896486da18e3ec1bb'>"
      ]
     },
     "execution_count": 19,
     "metadata": {},
     "output_type": "execute_result"
    }
   ],
   "source": [
    "kenlm = malaya.language_model.kenlm()\n",
    "kenlm"
   ]
  },
  {
   "cell_type": "code",
   "execution_count": 8,
   "metadata": {},
   "outputs": [
    {
     "data": {
      "text/html": [
       "<div>\n",
       "<style scoped>\n",
       "    .dataframe tbody tr th:only-of-type {\n",
       "        vertical-align: middle;\n",
       "    }\n",
       "\n",
       "    .dataframe tbody tr th {\n",
       "        vertical-align: top;\n",
       "    }\n",
       "\n",
       "    .dataframe thead th {\n",
       "        text-align: right;\n",
       "    }\n",
       "</style>\n",
       "<table border=\"1\" class=\"dataframe\">\n",
       "  <thead>\n",
       "    <tr style=\"text-align: right;\">\n",
       "      <th></th>\n",
       "      <th>Size (MB)</th>\n",
       "    </tr>\n",
       "  </thead>\n",
       "  <tbody>\n",
       "    <tr>\n",
       "      <th>malay-huggingface/bert-base-bahasa-cased</th>\n",
       "      <td>310.0</td>\n",
       "    </tr>\n",
       "    <tr>\n",
       "      <th>malay-huggingface/bert-tiny-bahasa-cased</th>\n",
       "      <td>66.1</td>\n",
       "    </tr>\n",
       "    <tr>\n",
       "      <th>malay-huggingface/albert-base-bahasa-cased</th>\n",
       "      <td>45.9</td>\n",
       "    </tr>\n",
       "    <tr>\n",
       "      <th>malay-huggingface/albert-tiny-bahasa-cased</th>\n",
       "      <td>22.6</td>\n",
       "    </tr>\n",
       "    <tr>\n",
       "      <th>mesolitica/roberta-base-bahasa-cased</th>\n",
       "      <td>443.0</td>\n",
       "    </tr>\n",
       "    <tr>\n",
       "      <th>mesolitica/roberta-tiny-bahasa-cased</th>\n",
       "      <td>66.1</td>\n",
       "    </tr>\n",
       "  </tbody>\n",
       "</table>\n",
       "</div>"
      ],
      "text/plain": [
       "                                            Size (MB)\n",
       "malay-huggingface/bert-base-bahasa-cased        310.0\n",
       "malay-huggingface/bert-tiny-bahasa-cased         66.1\n",
       "malay-huggingface/albert-base-bahasa-cased       45.9\n",
       "malay-huggingface/albert-tiny-bahasa-cased       22.6\n",
       "mesolitica/roberta-base-bahasa-cased            443.0\n",
       "mesolitica/roberta-tiny-bahasa-cased             66.1"
      ]
     },
     "execution_count": 8,
     "metadata": {},
     "output_type": "execute_result"
    }
   ],
   "source": [
    "malaya.language_model.available_mlm()"
   ]
  },
  {
   "cell_type": "code",
   "execution_count": 10,
   "metadata": {},
   "outputs": [],
   "source": [
    "bert_base = malaya.language_model.mlm(model = 'malay-huggingface/bert-base-bahasa-cased')\n",
    "bert_tiny = malaya.language_model.mlm(model = 'malay-huggingface/bert-tiny-bahasa-cased')\n",
    "albert_base = malaya.language_model.mlm(model = 'malay-huggingface/albert-base-bahasa-cased')\n",
    "albert_tiny = malaya.language_model.mlm(model = 'malay-huggingface/albert-tiny-bahasa-cased')\n",
    "roberta_base = malaya.language_model.mlm(model = 'mesolitica/roberta-base-bahasa-cased')"
   ]
  },
  {
   "cell_type": "code",
   "execution_count": 20,
   "metadata": {},
   "outputs": [
    {
     "name": "stderr",
     "output_type": "stream",
     "text": [
      "INFO:malaya_boilerplate.huggingface:downloading frozen huseinzol05/v27-preprocessing/bm_1grams.json\n"
     ]
    }
   ],
   "source": [
    "model_kenlm = malaya.spelling_correction.probability.load(language_model = kenlm)"
   ]
  },
  {
   "cell_type": "code",
   "execution_count": 21,
   "metadata": {},
   "outputs": [
    {
     "name": "stderr",
     "output_type": "stream",
     "text": [
      "INFO:malaya_boilerplate.huggingface:downloading frozen huseinzol05/v27-preprocessing/bm_1grams.json\n"
     ]
    }
   ],
   "source": [
    "model_bert_base = malaya.spelling_correction.probability.load(language_model = bert_base)"
   ]
  },
  {
   "cell_type": "code",
   "execution_count": 22,
   "metadata": {},
   "outputs": [
    {
     "name": "stderr",
     "output_type": "stream",
     "text": [
      "INFO:malaya_boilerplate.huggingface:downloading frozen huseinzol05/v27-preprocessing/bm_1grams.json\n"
     ]
    }
   ],
   "source": [
    "model_bert_tiny = malaya.spelling_correction.probability.load(language_model = bert_tiny)"
   ]
  },
  {
   "cell_type": "code",
   "execution_count": 23,
   "metadata": {},
   "outputs": [
    {
     "name": "stderr",
     "output_type": "stream",
     "text": [
      "INFO:malaya_boilerplate.huggingface:downloading frozen huseinzol05/v27-preprocessing/bm_1grams.json\n"
     ]
    }
   ],
   "source": [
    "model_albert_base = malaya.spelling_correction.probability.load(language_model = albert_base)"
   ]
  },
  {
   "cell_type": "code",
   "execution_count": 24,
   "metadata": {},
   "outputs": [
    {
     "name": "stderr",
     "output_type": "stream",
     "text": [
      "INFO:malaya_boilerplate.huggingface:downloading frozen huseinzol05/v27-preprocessing/bm_1grams.json\n"
     ]
    }
   ],
   "source": [
    "model_albert_tiny = malaya.spelling_correction.probability.load(language_model = albert_tiny)"
   ]
  },
  {
   "cell_type": "code",
   "execution_count": 25,
   "metadata": {},
   "outputs": [
    {
     "name": "stderr",
     "output_type": "stream",
     "text": [
      "INFO:malaya_boilerplate.huggingface:downloading frozen huseinzol05/v27-preprocessing/bm_1grams.json\n"
     ]
    }
   ],
   "source": [
    "model_roberta_base = malaya.spelling_correction.probability.load(language_model = roberta_base)"
   ]
  },
  {
   "cell_type": "markdown",
   "metadata": {},
   "source": [
    "#### To correct a sentence\n",
    "\n",
    "```python\n",
    "def correct_text(\n",
    "    self,\n",
    "    text: str,\n",
    "    lookback: int = 3,\n",
    "    lookforward: int = 3,\n",
    "):\n",
    "    \"\"\"\n",
    "    Correct all the words within a text, returning the corrected text.\n",
    "\n",
    "    Parameters\n",
    "    ----------\n",
    "    text: str\n",
    "    lookback: int, optional (default=3)\n",
    "        N words on the left hand side.\n",
    "        if put -1, will take all words on the left hand side.\n",
    "        longer left hand side will take longer to compute.\n",
    "    lookforward: int, optional (default=3)\n",
    "        N words on the right hand side.\n",
    "        if put -1, will take all words on the right hand side.\n",
    "        longer right hand side will take longer to compute.\n",
    "\n",
    "    Returns\n",
    "    -------\n",
    "    result: str\n",
    "    \"\"\"\n",
    "```"
   ]
  },
  {
   "cell_type": "code",
   "execution_count": 12,
   "metadata": {},
   "outputs": [],
   "source": [
    "strings = [string1, string2, string3, string4, string5, string6, string7]"
   ]
  },
  {
   "cell_type": "code",
   "execution_count": 13,
   "metadata": {},
   "outputs": [],
   "source": [
    "tokenizer = malaya.tokenizer.Tokenizer()"
   ]
  },
  {
   "cell_type": "code",
   "execution_count": 26,
   "metadata": {},
   "outputs": [
    {
     "name": "stdout",
     "output_type": "stream",
     "text": [
      "original: krajaan patut bagi pencen awal skt kpd warga emas supaya emosi\n",
      "corrected: kerajaan patut bagi pencen awal sikit kepada warga emas supaya emosi\n",
      "\n",
      "original: Husein ska mkn aym dkat kampng Jawa\n",
      "corrected: Husin suka makan ayam dekat kampung Jawa\n",
      "\n",
      "original: Melayu malas ni narration dia sama je macam men are trash. True to some, false to some.\n",
      "corrected: Melayu malas ini narration dia sama sahaja macam men are trash . True to some , false to some .\n",
      "\n",
      "original: Tapi tak pikir ke bahaya perpetuate myths camtu. Nanti kalau ada hiring discrimination despite your good qualifications because of your race tau pulak marah. Your kids will be victims of that too.\n",
      "corrected: Tapi tak fikir ke bahaya perpetuate myths macam itu . Nanti kalau ada hiring discrimination despite your good qualifications because of your race tahu pula marah . Your kids will be victims of that too .\n",
      "\n",
      "original: DrM cerita Melayu malas semenjak saya kat University (early 1980s) and now as i am edging towards retirement in 4-5 years time after a career of being an Engineer, Project Manager, General Manager\n",
      "corrected: DrM cerita Melayu malas semenjak saya kat University ( early 1980s ) and now as i am edging towards retirement in 4 - 5 years time after a career of being an Engineer , Project Manager , General Manager\n",
      "\n",
      "original: blh bntg dlm kls nlp sy, nnti intch\n",
      "corrected: boleh bintang dalam kelas nlp saya , nanti intch\n",
      "\n",
      "original: mulakn slh org boleh ,bila geng tuh kena slhkn jgk xboleh trima .. pelik\n",
      "corrected: mulakan salah orang boleh , bila geng itu kena salahkan juga xboleh terima . . pelik\n",
      "\n"
     ]
    }
   ],
   "source": [
    "for s in strings:\n",
    "    tokenized = tokenizer.tokenize(s)\n",
    "    print('original:', s)\n",
    "    print('corrected:', model_kenlm.correct_text(' '.join(tokenized)))\n",
    "    print()"
   ]
  },
  {
   "cell_type": "code",
   "execution_count": 27,
   "metadata": {},
   "outputs": [
    {
     "name": "stdout",
     "output_type": "stream",
     "text": [
      "original: krajaan patut bagi pencen awal skt kpd warga emas supaya emosi\n",
      "corrected: kerajaan patut bagi pencen awal sikit kepada warga emas supaya emosi\n",
      "\n",
      "original: Husein ska mkn aym dkat kampng Jawa\n",
      "corrected: Husin suka makin ayam dekat kampung Jawa\n",
      "\n",
      "original: Melayu malas ni narration dia sama je macam men are trash. True to some, false to some.\n",
      "corrected: Melayu malas ini narration dia sama sahaja macam men are trash . True to some , false to some .\n",
      "\n",
      "original: Tapi tak pikir ke bahaya perpetuate myths camtu. Nanti kalau ada hiring discrimination despite your good qualifications because of your race tau pulak marah. Your kids will be victims of that too.\n",
      "corrected: Tapi tak fikir ke bahaya perpetuate myths macam itu . Nanti kalau ada hiring discrimination despite your good qualifications because of your race tahu pula marah . Your kids will be victims of that too .\n",
      "\n",
      "original: DrM cerita Melayu malas semenjak saya kat University (early 1980s) and now as i am edging towards retirement in 4-5 years time after a career of being an Engineer, Project Manager, General Manager\n",
      "corrected: DrM cerita Melayu malas semenjak saya kat University ( early 1980s ) and now as i am edging towards retirement in 4 - 5 years time after a career of being an Engineer , Project Manager , General Manager\n",
      "\n",
      "original: blh bntg dlm kls nlp sy, nnti intch\n",
      "corrected: boleh bentang dalam kls nlp saya , nanti intch\n",
      "\n",
      "original: mulakn slh org boleh ,bila geng tuh kena slhkn jgk xboleh trima .. pelik\n",
      "corrected: mulakan salah orang boleh , bila geng itu kena salahkan juga xboleh terima . . pelik\n",
      "\n"
     ]
    }
   ],
   "source": [
    "for s in strings:\n",
    "    tokenized = tokenizer.tokenize(s)\n",
    "    print('original:', s)\n",
    "    print('corrected:', model_bert_base.correct_text(' '.join(tokenized)))\n",
    "    print()"
   ]
  },
  {
   "cell_type": "code",
   "execution_count": 28,
   "metadata": {},
   "outputs": [
    {
     "name": "stdout",
     "output_type": "stream",
     "text": [
      "original: krajaan patut bagi pencen awal skt kpd warga emas supaya emosi\n",
      "corrected: kerajaan patut bagi pencen awal sikit kepada warga emas supaya emosi\n",
      "\n",
      "original: Husein ska mkn aym dkat kampng Jawa\n",
      "corrected: Husin suka makin ayam dekat kampung Jawa\n",
      "\n",
      "original: Melayu malas ni narration dia sama je macam men are trash. True to some, false to some.\n",
      "corrected: Melayu malas ini narration dia sama sahaja macam men are trash . True to some , false to some .\n",
      "\n",
      "original: Tapi tak pikir ke bahaya perpetuate myths camtu. Nanti kalau ada hiring discrimination despite your good qualifications because of your race tau pulak marah. Your kids will be victims of that too.\n",
      "corrected: Tapi tak fikir ke bahaya perpetuate myths macam itu . Nanti kalau ada hiring discrimination despite your good qualifications because of your race tahu pula marah . Your kids will be victims of that too .\n",
      "\n",
      "original: DrM cerita Melayu malas semenjak saya kat University (early 1980s) and now as i am edging towards retirement in 4-5 years time after a career of being an Engineer, Project Manager, General Manager\n",
      "corrected: DrM cerita Melayu malas semenjak saya kat University ( early 1980s ) and now as i am edging towards retirement in 4 - 5 years time after a career of being an Engineer , Project Manager , General Manager\n",
      "\n",
      "original: blh bntg dlm kls nlp sy, nnti intch\n",
      "corrected: boleh bentang dalam kls nlp saya , nanti intch\n",
      "\n",
      "original: mulakn slh org boleh ,bila geng tuh kena slhkn jgk xboleh trima .. pelik\n",
      "corrected: mulakan salah orang boleh , bila geng itu kena salahkan juga xboleh terima . . pelik\n",
      "\n"
     ]
    }
   ],
   "source": [
    "for s in strings:\n",
    "    tokenized = tokenizer.tokenize(s)\n",
    "    print('original:', s)\n",
    "    print('corrected:', model_bert_tiny.correct_text(' '.join(tokenized)))\n",
    "    print()"
   ]
  },
  {
   "cell_type": "code",
   "execution_count": 29,
   "metadata": {},
   "outputs": [
    {
     "name": "stdout",
     "output_type": "stream",
     "text": [
      "original: krajaan patut bagi pencen awal skt kpd warga emas supaya emosi\n",
      "corrected: kerajaan patut bagi pencen awal sikit kepada warga emas supaya emosi\n",
      "\n",
      "original: Husein ska mkn aym dkat kampng Jawa\n",
      "corrected: Husin suka mukin yama dekat kampung Jawa\n",
      "\n",
      "original: Melayu malas ni narration dia sama je macam men are trash. True to some, false to some.\n",
      "corrected: Melayu malas ini narration dia sama sahaja macam men are trash . True to some , false to some .\n",
      "\n",
      "original: Tapi tak pikir ke bahaya perpetuate myths camtu. Nanti kalau ada hiring discrimination despite your good qualifications because of your race tau pulak marah. Your kids will be victims of that too.\n",
      "corrected: Tapi tak fikir ke bahaya perpetuate myths macam itu . Nanti kalau ada hiring discrimination despite your good qualifications because of your race tahu pula marah . Your kids will be victims of that too .\n",
      "\n",
      "original: DrM cerita Melayu malas semenjak saya kat University (early 1980s) and now as i am edging towards retirement in 4-5 years time after a career of being an Engineer, Project Manager, General Manager\n",
      "corrected: DrM cerita Melayu malas semenjak saya kat University ( early 1980s ) and now as i am edging towards retirement in 4 - 5 years time after a career of being an Engineer , Project Manager , General Manager\n",
      "\n",
      "original: blh bntg dlm kls nlp sy, nnti intch\n",
      "corrected: boleh bintang dalam kelas nlp saya , nanti intch\n",
      "\n",
      "original: mulakn slh org boleh ,bila geng tuh kena slhkn jgk xboleh trima .. pelik\n",
      "corrected: mulakan salah orang boleh , bila geng itu kena salahkan juga xboleh terima . . pelik\n",
      "\n"
     ]
    }
   ],
   "source": [
    "for s in strings:\n",
    "    tokenized = tokenizer.tokenize(s)\n",
    "    print('original:', s)\n",
    "    print('corrected:', model_albert_base.correct_text(' '.join(tokenized)))\n",
    "    print()"
   ]
  },
  {
   "cell_type": "code",
   "execution_count": 30,
   "metadata": {},
   "outputs": [
    {
     "name": "stdout",
     "output_type": "stream",
     "text": [
      "original: krajaan patut bagi pencen awal skt kpd warga emas supaya emosi\n",
      "corrected: kerajaan patut bagi pencen awal sakit kepada warga emas supaya emosi\n",
      "\n",
      "original: Husein ska mkn aym dkat kampng Jawa\n",
      "corrected: Husin suka makin ayam dekat kumpang Jawa\n",
      "\n",
      "original: Melayu malas ni narration dia sama je macam men are trash. True to some, false to some.\n",
      "corrected: Melayu malas ini narration dia sama sahaja macam men are trash . True to some , false to some .\n",
      "\n",
      "original: Tapi tak pikir ke bahaya perpetuate myths camtu. Nanti kalau ada hiring discrimination despite your good qualifications because of your race tau pulak marah. Your kids will be victims of that too.\n",
      "corrected: Tapi tak fikir ke bahaya perpetuate myths macam itu . Nanti kalau ada hiring discrimination despite your good qualifications because of your race tahu pula marah . Your kids will be victims of that too .\n",
      "\n",
      "original: DrM cerita Melayu malas semenjak saya kat University (early 1980s) and now as i am edging towards retirement in 4-5 years time after a career of being an Engineer, Project Manager, General Manager\n",
      "corrected: DrM cerita Melayu malas semenjak saya kat University ( early 1980s ) and now as i am edging towards retirement in 4 - 5 years time after a career of being an Engineer , Project Manager , General Manager\n",
      "\n",
      "original: blh bntg dlm kls nlp sy, nnti intch\n",
      "corrected: boleh bintang dalam kelas nlp saya , nanti intch\n",
      "\n",
      "original: mulakn slh org boleh ,bila geng tuh kena slhkn jgk xboleh trima .. pelik\n",
      "corrected: mulakan salah orang boleh , bila geng itu kena salahkan juga xboleh terima . . pelik\n",
      "\n"
     ]
    }
   ],
   "source": [
    "for s in strings:\n",
    "    tokenized = tokenizer.tokenize(s)\n",
    "    print('original:', s)\n",
    "    print('corrected:', model_albert_tiny.correct_text(' '.join(tokenized)))\n",
    "    print()"
   ]
  },
  {
   "cell_type": "code",
   "execution_count": 31,
   "metadata": {},
   "outputs": [
    {
     "name": "stdout",
     "output_type": "stream",
     "text": [
      "original: krajaan patut bagi pencen awal skt kpd warga emas supaya emosi\n",
      "corrected: kerajaan patut bagi pencen awal sikit kepada warga emas supaya emosi\n",
      "\n",
      "original: Husein ska mkn aym dkat kampng Jawa\n",
      "corrected: Hussein suka mkn ayam dekat kampung Jawa\n",
      "\n",
      "original: Melayu malas ni narration dia sama je macam men are trash. True to some, false to some.\n",
      "corrected: Melayu malas ini narration dia sama sahaja macam men are trash . True to some , false to some .\n",
      "\n",
      "original: Tapi tak pikir ke bahaya perpetuate myths camtu. Nanti kalau ada hiring discrimination despite your good qualifications because of your race tau pulak marah. Your kids will be victims of that too.\n",
      "corrected: Tapi tak fikir ke bahaya perpetuate myths macam itu . Nanti kalau ada hiring discrimination despite your good qualifications because of your race tahu pula marah . Your kids will be victims of that too .\n",
      "\n",
      "original: DrM cerita Melayu malas semenjak saya kat University (early 1980s) and now as i am edging towards retirement in 4-5 years time after a career of being an Engineer, Project Manager, General Manager\n",
      "corrected: DrM cerita Melayu malas semenjak saya kat University ( early 1980s ) and now as i am edging towards retirement in 4 - 5 years time after a career of being an Engineer , Project Manager , General Manager\n",
      "\n",
      "original: blh bntg dlm kls nlp sy, nnti intch\n",
      "corrected: boleh banting dalam klise nlp saye , nanti intch\n",
      "\n",
      "original: mulakn slh org boleh ,bila geng tuh kena slhkn jgk xboleh trima .. pelik\n",
      "corrected: mulakan salah orang boleh , bila geng itu kena salahkan juga xboleh terima . . pelik\n",
      "\n"
     ]
    }
   ],
   "source": [
    "for s in strings:\n",
    "    tokenized = tokenizer.tokenize(s)\n",
    "    print('original:', s)\n",
    "    print('corrected:', model_roberta_base.correct_text(' '.join(tokenized)))\n",
    "    print()"
   ]
  }
 ],
 "metadata": {
  "kernelspec": {
   "display_name": "Python 3 (ipykernel)",
   "language": "python",
   "name": "python3"
  },
  "language_info": {
   "codemirror_mode": {
    "name": "ipython",
    "version": 3
   },
   "file_extension": ".py",
   "mimetype": "text/x-python",
   "name": "python",
   "nbconvert_exporter": "python",
   "pygments_lexer": "ipython3",
   "version": "3.8.10"
  },
  "varInspector": {
   "cols": {
    "lenName": 16,
    "lenType": 16,
    "lenVar": 40
   },
   "kernels_config": {
    "python": {
     "delete_cmd_postfix": "",
     "delete_cmd_prefix": "del ",
     "library": "var_list.py",
     "varRefreshCmd": "print(var_dic_list())"
    },
    "r": {
     "delete_cmd_postfix": ") ",
     "delete_cmd_prefix": "rm(",
     "library": "var_list.r",
     "varRefreshCmd": "cat(var_dic_list()) "
    }
   },
   "types_to_exclude": [
    "module",
    "function",
    "builtin_function_or_method",
    "instance",
    "_Feature"
   ],
   "window_display": false
  }
 },
 "nbformat": 4,
 "nbformat_minor": 4
}
