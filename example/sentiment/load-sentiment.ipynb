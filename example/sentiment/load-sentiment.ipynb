{
 "cells": [
  {
   "cell_type": "code",
   "execution_count": 1,
   "metadata": {},
   "outputs": [
    {
     "name": "stderr",
     "output_type": "stream",
     "text": [
      "/usr/local/lib/python3.6/site-packages/sklearn/cross_validation.py:41: DeprecationWarning: This module was deprecated in version 0.18 in favor of the model_selection module into which all the refactored classes and functions are moved. Also note that the interface of the new CV iterators are different from that of this module. This module will be removed in 0.20.\n",
      "  \"This module will be removed in 0.20.\", DeprecationWarning)\n"
     ]
    }
   ],
   "source": [
    "import malaya"
   ]
  },
  {
   "cell_type": "code",
   "execution_count": 2,
   "metadata": {},
   "outputs": [],
   "source": [
    "news_sentiment = malaya.pretrained_bayes_sentiment()"
   ]
  },
  {
   "cell_type": "code",
   "execution_count": 3,
   "metadata": {},
   "outputs": [],
   "source": [
    "positive_text = 'Kerajaan negeri Kelantan mempersoalkan motif kenyataan Menteri Kewangan Lim Guan Eng yang hanya menyebut Kelantan penerima terbesar bantuan kewangan dari Kerajaan Persekutuan. Sedangkan menurut Timbalan Menteri Besarnya, Datuk Mohd Amar Nik Abdullah, negeri lain yang lebih maju dari Kelantan turut mendapat pembiayaan dan pinjaman.'"
   ]
  },
  {
   "cell_type": "code",
   "execution_count": 4,
   "metadata": {},
   "outputs": [
    {
     "data": {
      "text/plain": [
       "[('negative', 0.18390337653291502), ('positive', 0.8160966234670884)]"
      ]
     },
     "execution_count": 4,
     "metadata": {},
     "output_type": "execute_result"
    }
   ],
   "source": [
    "news_sentiment.predict(positive_text)"
   ]
  },
  {
   "cell_type": "code",
   "execution_count": 5,
   "metadata": {},
   "outputs": [],
   "source": [
    "negative_text = 'kerajaan sebenarnya sangat bencikan rakyatnya, minyak naik dan segalanya'"
   ]
  },
  {
   "cell_type": "code",
   "execution_count": 6,
   "metadata": {},
   "outputs": [
    {
     "data": {
      "text/plain": [
       "[('negative', 0.21693467273378716), ('positive', 0.7830653272662134)]"
      ]
     },
     "execution_count": 6,
     "metadata": {},
     "output_type": "execute_result"
    }
   ],
   "source": [
    "news_sentiment.predict(negative_text)"
   ]
  },
  {
   "cell_type": "code",
   "execution_count": 11,
   "metadata": {},
   "outputs": [
    {
     "data": {
      "text/plain": [
       "['bahdanau', 'attention', 'luong', 'normal']"
      ]
     },
     "execution_count": 11,
     "metadata": {},
     "output_type": "execute_result"
    }
   ],
   "source": [
    "sentiment_available_models = malaya.get_available_sentiment_models()\n",
    "sentiment_available_models"
   ]
  },
  {
   "cell_type": "code",
   "execution_count": 12,
   "metadata": {},
   "outputs": [
    {
     "name": "stdout",
     "output_type": "stream",
     "text": [
      "Testing bahdanau model\n",
      "downloading word2vec-256 embedded\n"
     ]
    },
    {
     "name": "stderr",
     "output_type": "stream",
     "text": [
      "67MB [00:19,  3.48MB/s]                                       \n"
     ]
    },
    {
     "name": "stdout",
     "output_type": "stream",
     "text": [
      "downloading frozen bahdanau model\n"
     ]
    },
    {
     "name": "stderr",
     "output_type": "stream",
     "text": [
      "97MB [00:51,  1.89MB/s]                                      \n"
     ]
    },
    {
     "name": "stdout",
     "output_type": "stream",
     "text": [
      "{'negative': 0.4206314, 'positive': 0.5793686, 'attention': [['kerajaan', 0.07571377], ['bencikan', 0.2937163], ['rakyatnya', 0.14874507], ['minyak', 0.48182485]]}\n",
      "\n",
      "Testing attention model\n",
      "downloading frozen attention model\n"
     ]
    },
    {
     "name": "stderr",
     "output_type": "stream",
     "text": [
      "143MB [01:00,  2.36MB/s]                                        \n"
     ]
    },
    {
     "name": "stdout",
     "output_type": "stream",
     "text": [
      "{'negative': 0.45025843, 'positive': 0.54974157, 'attention': [['kerajaan', 0.26210415], ['bencikan', 0.3908129], ['rakyatnya', 0.27151617], ['minyak', 0.07556677]]}\n",
      "\n",
      "Testing luong model\n",
      "downloading frozen luong model\n"
     ]
    },
    {
     "name": "stderr",
     "output_type": "stream",
     "text": [
      "94MB [00:26,  3.54MB/s]                                       \n"
     ]
    },
    {
     "name": "stdout",
     "output_type": "stream",
     "text": [
      "{'negative': 0.3331387, 'positive': 0.66686136, 'attention': [['kerajaan', 0.038200114], ['bencikan', 0.8273579], ['rakyatnya', 0.09624269], ['minyak', 0.038199265]]}\n",
      "\n",
      "Testing normal model\n",
      "downloading frozen normal model\n"
     ]
    },
    {
     "name": "stderr",
     "output_type": "stream",
     "text": [
      "142MB [00:39,  3.55MB/s]                                        \n"
     ]
    },
    {
     "name": "stdout",
     "output_type": "stream",
     "text": [
      "{'negative': 0.560395, 'positive': 0.439605}\n",
      "\n"
     ]
    }
   ],
   "source": [
    "for i in sentiment_available_models:\n",
    "    print('Testing %s model'%(i))\n",
    "    news_sentiment = malaya.deep_sentiment(i)\n",
    "    print(news_sentiment.predict(negative_text))\n",
    "    print()"
   ]
  },
  {
   "cell_type": "code",
   "execution_count": null,
   "metadata": {},
   "outputs": [],
   "source": []
  }
 ],
 "metadata": {
  "kernelspec": {
   "display_name": "Python 3",
   "language": "python",
   "name": "python3"
  },
  "language_info": {
   "codemirror_mode": {
    "name": "ipython",
    "version": 3
   },
   "file_extension": ".py",
   "mimetype": "text/x-python",
   "name": "python",
   "nbconvert_exporter": "python",
   "pygments_lexer": "ipython3",
   "version": "3.6.5"
  }
 },
 "nbformat": 4,
 "nbformat_minor": 2
}
